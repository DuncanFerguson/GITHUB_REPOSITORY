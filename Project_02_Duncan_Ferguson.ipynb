{
  "nbformat": 4,
  "nbformat_minor": 0,
  "metadata": {
    "colab": {
      "name": "Project_02_Duncan_Ferguson.ipynb",
      "provenance": [],
      "collapsed_sections": [
        "505kQxu_1ONK",
        "uma7XtwV2PE1",
        "6KNVGaFh2SIw"
      ],
      "authorship_tag": "ABX9TyP6O7vxe2zcVI5shM4CsAEM",
      "include_colab_link": true
    },
    "kernelspec": {
      "name": "python3",
      "display_name": "Python 3"
    },
    "language_info": {
      "name": "python"
    }
  },
  "cells": [
    {
      "cell_type": "markdown",
      "metadata": {
        "id": "view-in-github",
        "colab_type": "text"
      },
      "source": [
        "<a href=\"https://colab.research.google.com/github/DuncanFerguson/GITHUB_REPOSITORY/blob/main/Project_02_Duncan_Ferguson.ipynb\" target=\"_parent\"><img src=\"https://colab.research.google.com/assets/colab-badge.svg\" alt=\"Open In Colab\"/></a>"
      ]
    },
    {
      "cell_type": "code",
      "source": [
        "# Importing Libraries\n",
        "import pandas as pd\n",
        "import numpy as np\n",
        "import matplotlib as plt\n",
        "import seaborn as sns\n",
        "import re\n",
        "\n",
        "# Importing Sklearn libraries\n",
        "from sklearn.feature_extraction.text import TfidfTransformer\n",
        "from sklearn.pipeline import Pipeline\n",
        "from sklearn.linear_model import LogisticRegression\n",
        "from sklearn.feature_extraction.text import TfidfVectorizer\n",
        "from sklearn.model_selection import GridSearchCV\n",
        "\n",
        "# nltk Libraries\n",
        "from nltk.stem.porter import PorterStemmer\n",
        "import nltk\n",
        "nltk.download('stopwords')\n",
        "from nltk.corpus import stopwords"
      ],
      "metadata": {
        "colab": {
          "base_uri": "https://localhost:8080/"
        },
        "id": "7DdJzJ1hzY0S",
        "outputId": "e3eebf0a-4cf8-491b-d829-b147d0017188"
      },
      "execution_count": 39,
      "outputs": [
        {
          "output_type": "stream",
          "name": "stderr",
          "text": [
            "[nltk_data] Downloading package stopwords to /root/nltk_data...\n",
            "[nltk_data]   Package stopwords is already up-to-date!\n"
          ]
        }
      ]
    },
    {
      "cell_type": "markdown",
      "source": [
        "# Objectives\n",
        "- 1). Read in a classifiable training datset from the Internet using Python for sentiment analysis\n",
        "\n",
        "- 2). Understand the ethical implications of the dataset I've just identified, both in terms of the legality of its use, and in regards to any inherent biases present in the training data.\n",
        "\n",
        "- 3). Preprocessing the training dataset to clean unwanted text data, and extract n-grams from the eample documents that can be used for model training.\n",
        "\n",
        "- 4). Train a logistic regresion model using the cleaned training data that can be used to predict the sentiment of the unclassified examples\n",
        "\n",
        "- 5). Use a grid search to optimize the logistic regression model.\n",
        "\n",
        "- 6). Deploy the optimized and trained logistic regression model to the web using Python pickling, and provide a web form for users to further incrementally train your model by entering additional sample data and providing feedback about its classification accuracy."
      ],
      "metadata": {
        "id": "505kQxu_1ONK"
      }
    },
    {
      "cell_type": "markdown",
      "source": [
        "# Experiment Objective"
      ],
      "metadata": {
        "id": "uma7XtwV2PE1"
      }
    },
    {
      "cell_type": "markdown",
      "source": [
        "- Describe the dataset I am analyzing, including the TOS and ethical considerations discussed in Lecture 07 & 08 \n",
        "\n",
        "The Data set that is being examined is from the University of California -Irvine's Machine Learning repository. The reason that I chose this data set is because it easy to come by. Last project I wasted two days looking for data sets. Now That I know UCI is easy to extract, I just chose one of their data sets so I could spend more time learning the code and less time data engineering a data set into google colab.\n",
        "\n",
        "This sources is a well known public data set that is used for machine learning. By choosing to go with a public library I am not worring if I am violating a term of agreement. \n",
        "\n",
        "The Proper cite from the readme is below.\n",
        "'This dataset was created for the Paper 'From Group to Individual Labels using Deep Features', Kotzias et. al,. KDD 2015'\n",
        "\n",
        "https://archive.ics.uci.edu/ml/datasets/Sentiment+Labelled+Sentences\n",
        "\n",
        "- Why did I choose the training examples I did for training my model?\n",
        "\n",
        "I chose the amazon data set for the training model for a few reasons. First there was an even amount of positive and negative reviews. Secondly, I feel as though amazon has a good imput for how different products are recieved. \n",
        "\n",
        "\n",
        "- How is sentiment determined for the training data?\n",
        "# TODO\n"
      ],
      "metadata": {
        "id": "6KNVGaFh2SIw"
      }
    },
    {
      "cell_type": "markdown",
      "source": [
        "# Data Collection"
      ],
      "metadata": {
        "id": "UE7CkbxZ2mCt"
      }
    },
    {
      "cell_type": "markdown",
      "source": [
        "- Am I accesing an API? Scaping a website? Downloading from an archive?\n",
        "\n",
        "The data is being downloaded directly from an archive using !weget from google colab. This will grab the data straight from the source and place it straigt on your G-druve. URL below. https://archive.ics.uci.edu/ml/datasets/Sentiment+Labelled+Sentences\n",
        "\n",
        "\n",
        "- Write the necessary Python code to retrieve and store the training examples to create the model.\n",
        "- The resulting implementation should be an in-memory pandas dataframe"
      ],
      "metadata": {
        "id": "zxaImevr2oFK"
      }
    },
    {
      "cell_type": "code",
      "source": [
        "# Grabbing the websit\n",
        "!wget 'sentiment_labelled_sentences' 'https://archive.ics.uci.edu/ml/machine-learning-databases/00331/sentiment%20labelled%20sentences.zip'"
      ],
      "metadata": {
        "colab": {
          "base_uri": "https://localhost:8080/"
        },
        "id": "TP1P55QDyBG-",
        "outputId": "5948ec19-88b0-457b-a99a-ad9a2a886862"
      },
      "execution_count": 6,
      "outputs": [
        {
          "output_type": "stream",
          "name": "stdout",
          "text": [
            "--2022-08-03 03:40:27--  http://sentiment_labelled_sentences/\n",
            "Resolving sentiment_labelled_sentences (sentiment_labelled_sentences)... failed: Name or service not known.\n",
            "wget: unable to resolve host address ‘sentiment_labelled_sentences’\n",
            "--2022-08-03 03:40:27--  https://archive.ics.uci.edu/ml/machine-learning-databases/00331/sentiment%20labelled%20sentences.zip\n",
            "Resolving archive.ics.uci.edu (archive.ics.uci.edu)... 128.195.10.252\n",
            "Connecting to archive.ics.uci.edu (archive.ics.uci.edu)|128.195.10.252|:443... connected.\n",
            "HTTP request sent, awaiting response... 200 OK\n",
            "Length: 84188 (82K) [application/x-httpd-php]\n",
            "Saving to: ‘sentiment labelled sentences.zip.1’\n",
            "\n",
            "sentiment labelled  100%[===================>]  82.21K  --.-KB/s    in 0.1s    \n",
            "\n",
            "2022-08-03 03:40:28 (571 KB/s) - ‘sentiment labelled sentences.zip.1’ saved [84188/84188]\n",
            "\n",
            "FINISHED --2022-08-03 03:40:28--\n",
            "Total wall clock time: 0.5s\n",
            "Downloaded: 1 files, 82K in 0.1s (571 KB/s)\n"
          ]
        }
      ]
    },
    {
      "cell_type": "code",
      "source": [
        "# Unzipping the file\n",
        "!unzip -o 'sentiment labelled sentences.zip'"
      ],
      "metadata": {
        "colab": {
          "base_uri": "https://localhost:8080/"
        },
        "id": "Uim66ZPuyQX_",
        "outputId": "1c18606c-4e0f-48ef-b1f1-be73709649bc"
      },
      "execution_count": 8,
      "outputs": [
        {
          "output_type": "stream",
          "name": "stdout",
          "text": [
            "Archive:  sentiment labelled sentences.zip\n",
            "   creating: sentiment labelled sentences/\n",
            "  inflating: sentiment labelled sentences/.DS_Store  \n",
            "   creating: __MACOSX/\n",
            "   creating: __MACOSX/sentiment labelled sentences/\n",
            "  inflating: __MACOSX/sentiment labelled sentences/._.DS_Store  \n",
            "  inflating: sentiment labelled sentences/amazon_cells_labelled.txt  \n",
            "  inflating: sentiment labelled sentences/imdb_labelled.txt  \n",
            "  inflating: __MACOSX/sentiment labelled sentences/._imdb_labelled.txt  \n",
            "  inflating: sentiment labelled sentences/readme.txt  \n",
            "  inflating: __MACOSX/sentiment labelled sentences/._readme.txt  \n",
            "  inflating: sentiment labelled sentences/yelp_labelled.txt  \n",
            "  inflating: __MACOSX/._sentiment labelled sentences  \n"
          ]
        }
      ]
    },
    {
      "cell_type": "code",
      "source": [
        "# Displaying the data in a dataframe\n",
        "df = pd.read_csv('sentiment labelled sentences/amazon_cells_labelled.txt', sep='\\t', names=['review', 'Sentiment'])\n",
        "df.head()"
      ],
      "metadata": {
        "colab": {
          "base_uri": "https://localhost:8080/",
          "height": 206
        },
        "id": "O-CjlFapyxfV",
        "outputId": "b0971a1c-273f-48b7-affe-9b48e6afda8f"
      },
      "execution_count": 16,
      "outputs": [
        {
          "output_type": "execute_result",
          "data": {
            "text/plain": [
              "                                              review  Sentiment\n",
              "0  So there is no way for me to plug it in here i...          0\n",
              "1                        Good case, Excellent value.          1\n",
              "2                             Great for the jawbone.          1\n",
              "3  Tied to charger for conversations lasting more...          0\n",
              "4                                  The mic is great.          1"
            ],
            "text/html": [
              "\n",
              "  <div id=\"df-214cc7a1-e539-44ea-94c4-1bfccfc09f2f\">\n",
              "    <div class=\"colab-df-container\">\n",
              "      <div>\n",
              "<style scoped>\n",
              "    .dataframe tbody tr th:only-of-type {\n",
              "        vertical-align: middle;\n",
              "    }\n",
              "\n",
              "    .dataframe tbody tr th {\n",
              "        vertical-align: top;\n",
              "    }\n",
              "\n",
              "    .dataframe thead th {\n",
              "        text-align: right;\n",
              "    }\n",
              "</style>\n",
              "<table border=\"1\" class=\"dataframe\">\n",
              "  <thead>\n",
              "    <tr style=\"text-align: right;\">\n",
              "      <th></th>\n",
              "      <th>review</th>\n",
              "      <th>Sentiment</th>\n",
              "    </tr>\n",
              "  </thead>\n",
              "  <tbody>\n",
              "    <tr>\n",
              "      <th>0</th>\n",
              "      <td>So there is no way for me to plug it in here i...</td>\n",
              "      <td>0</td>\n",
              "    </tr>\n",
              "    <tr>\n",
              "      <th>1</th>\n",
              "      <td>Good case, Excellent value.</td>\n",
              "      <td>1</td>\n",
              "    </tr>\n",
              "    <tr>\n",
              "      <th>2</th>\n",
              "      <td>Great for the jawbone.</td>\n",
              "      <td>1</td>\n",
              "    </tr>\n",
              "    <tr>\n",
              "      <th>3</th>\n",
              "      <td>Tied to charger for conversations lasting more...</td>\n",
              "      <td>0</td>\n",
              "    </tr>\n",
              "    <tr>\n",
              "      <th>4</th>\n",
              "      <td>The mic is great.</td>\n",
              "      <td>1</td>\n",
              "    </tr>\n",
              "  </tbody>\n",
              "</table>\n",
              "</div>\n",
              "      <button class=\"colab-df-convert\" onclick=\"convertToInteractive('df-214cc7a1-e539-44ea-94c4-1bfccfc09f2f')\"\n",
              "              title=\"Convert this dataframe to an interactive table.\"\n",
              "              style=\"display:none;\">\n",
              "        \n",
              "  <svg xmlns=\"http://www.w3.org/2000/svg\" height=\"24px\"viewBox=\"0 0 24 24\"\n",
              "       width=\"24px\">\n",
              "    <path d=\"M0 0h24v24H0V0z\" fill=\"none\"/>\n",
              "    <path d=\"M18.56 5.44l.94 2.06.94-2.06 2.06-.94-2.06-.94-.94-2.06-.94 2.06-2.06.94zm-11 1L8.5 8.5l.94-2.06 2.06-.94-2.06-.94L8.5 2.5l-.94 2.06-2.06.94zm10 10l.94 2.06.94-2.06 2.06-.94-2.06-.94-.94-2.06-.94 2.06-2.06.94z\"/><path d=\"M17.41 7.96l-1.37-1.37c-.4-.4-.92-.59-1.43-.59-.52 0-1.04.2-1.43.59L10.3 9.45l-7.72 7.72c-.78.78-.78 2.05 0 2.83L4 21.41c.39.39.9.59 1.41.59.51 0 1.02-.2 1.41-.59l7.78-7.78 2.81-2.81c.8-.78.8-2.07 0-2.86zM5.41 20L4 18.59l7.72-7.72 1.47 1.35L5.41 20z\"/>\n",
              "  </svg>\n",
              "      </button>\n",
              "      \n",
              "  <style>\n",
              "    .colab-df-container {\n",
              "      display:flex;\n",
              "      flex-wrap:wrap;\n",
              "      gap: 12px;\n",
              "    }\n",
              "\n",
              "    .colab-df-convert {\n",
              "      background-color: #E8F0FE;\n",
              "      border: none;\n",
              "      border-radius: 50%;\n",
              "      cursor: pointer;\n",
              "      display: none;\n",
              "      fill: #1967D2;\n",
              "      height: 32px;\n",
              "      padding: 0 0 0 0;\n",
              "      width: 32px;\n",
              "    }\n",
              "\n",
              "    .colab-df-convert:hover {\n",
              "      background-color: #E2EBFA;\n",
              "      box-shadow: 0px 1px 2px rgba(60, 64, 67, 0.3), 0px 1px 3px 1px rgba(60, 64, 67, 0.15);\n",
              "      fill: #174EA6;\n",
              "    }\n",
              "\n",
              "    [theme=dark] .colab-df-convert {\n",
              "      background-color: #3B4455;\n",
              "      fill: #D2E3FC;\n",
              "    }\n",
              "\n",
              "    [theme=dark] .colab-df-convert:hover {\n",
              "      background-color: #434B5C;\n",
              "      box-shadow: 0px 1px 3px 1px rgba(0, 0, 0, 0.15);\n",
              "      filter: drop-shadow(0px 1px 2px rgba(0, 0, 0, 0.3));\n",
              "      fill: #FFFFFF;\n",
              "    }\n",
              "  </style>\n",
              "\n",
              "      <script>\n",
              "        const buttonEl =\n",
              "          document.querySelector('#df-214cc7a1-e539-44ea-94c4-1bfccfc09f2f button.colab-df-convert');\n",
              "        buttonEl.style.display =\n",
              "          google.colab.kernel.accessAllowed ? 'block' : 'none';\n",
              "\n",
              "        async function convertToInteractive(key) {\n",
              "          const element = document.querySelector('#df-214cc7a1-e539-44ea-94c4-1bfccfc09f2f');\n",
              "          const dataTable =\n",
              "            await google.colab.kernel.invokeFunction('convertToInteractive',\n",
              "                                                     [key], {});\n",
              "          if (!dataTable) return;\n",
              "\n",
              "          const docLinkHtml = 'Like what you see? Visit the ' +\n",
              "            '<a target=\"_blank\" href=https://colab.research.google.com/notebooks/data_table.ipynb>data table notebook</a>'\n",
              "            + ' to learn more about interactive tables.';\n",
              "          element.innerHTML = '';\n",
              "          dataTable['output_type'] = 'display_data';\n",
              "          await google.colab.output.renderOutput(dataTable, element);\n",
              "          const docLink = document.createElement('div');\n",
              "          docLink.innerHTML = docLinkHtml;\n",
              "          element.appendChild(docLink);\n",
              "        }\n",
              "      </script>\n",
              "    </div>\n",
              "  </div>\n",
              "  "
            ]
          },
          "metadata": {},
          "execution_count": 16
        }
      ]
    },
    {
      "cell_type": "code",
      "source": [
        "# # Saving this nice little dataset as a an excel file\n",
        "# from google.colab import files\n",
        "# df.to_csv('amazon_sentiment.csv', encoding = 'utf-8-sig')\n",
        "# files.download('amazon_sentiment.csv')"
      ],
      "metadata": {
        "colab": {
          "base_uri": "https://localhost:8080/",
          "height": 17
        },
        "id": "TzfIrRN71HpQ",
        "outputId": "c06a0d25-0fa8-471f-d760-1199440e55c5"
      },
      "execution_count": 14,
      "outputs": [
        {
          "output_type": "display_data",
          "data": {
            "text/plain": [
              "<IPython.core.display.Javascript object>"
            ],
            "application/javascript": [
              "\n",
              "    async function download(id, filename, size) {\n",
              "      if (!google.colab.kernel.accessAllowed) {\n",
              "        return;\n",
              "      }\n",
              "      const div = document.createElement('div');\n",
              "      const label = document.createElement('label');\n",
              "      label.textContent = `Downloading \"${filename}\": `;\n",
              "      div.appendChild(label);\n",
              "      const progress = document.createElement('progress');\n",
              "      progress.max = size;\n",
              "      div.appendChild(progress);\n",
              "      document.body.appendChild(div);\n",
              "\n",
              "      const buffers = [];\n",
              "      let downloaded = 0;\n",
              "\n",
              "      const channel = await google.colab.kernel.comms.open(id);\n",
              "      // Send a message to notify the kernel that we're ready.\n",
              "      channel.send({})\n",
              "\n",
              "      for await (const message of channel.messages) {\n",
              "        // Send a message to notify the kernel that we're ready.\n",
              "        channel.send({})\n",
              "        if (message.buffers) {\n",
              "          for (const buffer of message.buffers) {\n",
              "            buffers.push(buffer);\n",
              "            downloaded += buffer.byteLength;\n",
              "            progress.value = downloaded;\n",
              "          }\n",
              "        }\n",
              "      }\n",
              "      const blob = new Blob(buffers, {type: 'application/binary'});\n",
              "      const a = document.createElement('a');\n",
              "      a.href = window.URL.createObjectURL(blob);\n",
              "      a.download = filename;\n",
              "      div.appendChild(a);\n",
              "      a.click();\n",
              "      div.remove();\n",
              "    }\n",
              "  "
            ]
          },
          "metadata": {}
        },
        {
          "output_type": "display_data",
          "data": {
            "text/plain": [
              "<IPython.core.display.Javascript object>"
            ],
            "application/javascript": [
              "download(\"download_2e9b70ca-1c67-4b9a-a217-313c6e893dce\", \"amazon_sentiment.csv\", 62618)"
            ]
          },
          "metadata": {}
        }
      ]
    },
    {
      "cell_type": "markdown",
      "source": [
        "# Data Preprocessing"
      ],
      "metadata": {
        "id": "C94Nxv7K25O9"
      }
    },
    {
      "cell_type": "markdown",
      "source": [
        "- This is where the preprocessing utility for the project will be built.\n",
        "\n",
        "- Steps required, clean text data, tokenize the document, construct a TfidfVectorizer to be performed here"
      ],
      "metadata": {
        "id": "2xSohlCh267V"
      }
    },
    {
      "cell_type": "code",
      "source": [
        "# Using the Preprocessing of regular expresions from ch08\n",
        "def preprocessor(text):\n",
        "  \"\"\"This Function goes through and preprocesses the text that is entered\"\"\"\n",
        "  text = re.sub('<[^>]*>', '', text)\n",
        "  emoticons = re.findall('(?::|;|=)(?:-)?(?:\\)|\\(|D|P)', text)\n",
        "  text = (re.sub('[\\W]+', ' ', text.lower()) + ' '.join(emoticons).replace('-', ''))\n",
        "  return text"
      ],
      "metadata": {
        "id": "N7PbUcC70vJK"
      },
      "execution_count": 17,
      "outputs": []
    },
    {
      "cell_type": "code",
      "source": [
        "# Showing a representation of the regular expression preprocessing\n",
        "preprocessor(df.loc[12, 'review'][:])"
      ],
      "metadata": {
        "colab": {
          "base_uri": "https://localhost:8080/",
          "height": 35
        },
        "id": "t_1MH1cE01Gf",
        "outputId": "211a7741-5601-49bc-ab59-b1000cbe7ec0"
      },
      "execution_count": 30,
      "outputs": [
        {
          "output_type": "execute_result",
          "data": {
            "text/plain": [
              "'if the two were seperated by a mere 5 ft i started to notice excessive static and garbled sound from the headset '"
            ],
            "application/vnd.google.colaboratory.intrinsic+json": {
              "type": "string"
            }
          },
          "metadata": {},
          "execution_count": 30
        }
      ]
    },
    {
      "cell_type": "code",
      "source": [
        "# Applying the preprocessing of regex\n",
        "df['review'] = df['review'].apply(preprocessor)"
      ],
      "metadata": {
        "id": "3nP89hfLFAjW"
      },
      "execution_count": 31,
      "outputs": []
    },
    {
      "cell_type": "code",
      "source": [
        "# Processing documents into tokens\n",
        "porter = PorterStemmer()\n",
        "\n",
        "def tokenizer(text):\n",
        "    return text.split()\n",
        "\n",
        "# Declaring stop words\n",
        "stop = stopwords.words('english')\n",
        "\n",
        "def tokenizer_porter(text):\n",
        "  \"\"\"This Function returns the words as a tokenized porter w/o stop words\"\"\"\n",
        "  return [porter.stem(word) for word in text.split() if word not in stop]"
      ],
      "metadata": {
        "id": "LQ7iM8x-FeRz"
      },
      "execution_count": 40,
      "outputs": []
    },
    {
      "cell_type": "code",
      "source": [
        "# Constructing a TfidVectorize to be performed\n",
        "tfidf = TfidfVectorizer(strip_accents=None,\n",
        "                        lowercase=False,\n",
        "                        preprocessor=None)\n",
        "\n",
        "param_grid = [{'vect__ngram_range': [(1, 1)],\n",
        "               'vect__stop_words': [stop, None],\n",
        "               'vect__tokenizer': [tokenizer, tokenizer_porter],\n",
        "               'clf__penalty': ['l1', 'l2'],\n",
        "               'clf__C': [1.0, 10.0, 100.0]},\n",
        "              {'vect__ngram_range': [(1, 1)],\n",
        "               'vect__stop_words': [stop, None],\n",
        "               'vect__tokenizer': [tokenizer, tokenizer_porter],\n",
        "               'vect__use_idf':[False],\n",
        "               'vect__norm':[None],\n",
        "               'clf__penalty': ['l1', 'l2'],\n",
        "               'clf__C': [1.0, 10.0, 100.0]},\n",
        "              ]\n",
        "\n",
        "lr_tfidf = Pipeline([('vect', tfidf),\n",
        "                     ('clf', LogisticRegression(random_state=0, solver='liblinear'))])\n",
        "\n",
        "gs_lr_tfidf = GridSearchCV(lr_tfidf, param_grid,\n",
        "                           scoring='accuracy',\n",
        "                           cv=5,\n",
        "                           verbose=2,\n",
        "                           n_jobs=-1)"
      ],
      "metadata": {
        "id": "ck6unvhIH5sE"
      },
      "execution_count": 42,
      "outputs": []
    },
    {
      "cell_type": "markdown",
      "source": [
        "# Model Optimization and Serialization"
      ],
      "metadata": {
        "id": "r4Gzadgw3WkV"
      }
    },
    {
      "cell_type": "markdown",
      "source": [
        "- This is where I will use a grid search similar to the one performed in lecture 11: Applying Machine Learning to Sentiment Anlysis\n",
        "\n",
        "- Find the optimal hyperparameters (including choice of stemming algorithm for TfidVectorizer) to use with my out-of-core capable logistic regression classifier (like SGDClassifier)  Utilizing the TfidVectorizerI created in tepp three to preprocess my data\n",
        "\n",
        "- Document the results of the grid seach in a marckdown cell immediately after the grid search, including computed accuracies agianst my training and test data sets.\n",
        "\n",
        "- After documenting the finding fit the classifier against my entire dataset, then pickle the resulting object to a file that will be used in the website\n",
        "\n",
        "* Note: Out-of-core learning is a requirement. Since I will be updating the model using the deployued Flask application, the classifier I pickle for yuse on the website must support incremental learning\n",
        "\n",
        "* Note the hyperparamters I explore in the grid search must include different values than we used in class. One of the goals of this project is to see if other options migh yield better results than the book attempted. \n",
        "\n",
        "- Be sure to exaplain in the write up for this section why I chose the values that I did for the hyperparameters, and if they performed better for my data set than the other ones the booke attempted to use\n",
        "\n",
        "* NOte: The grid search I perform will be agianst an something like an SGDClassifier instance, instead of the LogisticRegrssion classifier that was used in the book if you use SFDClassifer, instead of varying the value of C for regularization, you will vary the values for alpha. Still compare l1 vs l2 regulatization. This will result in a comparison of my work to the example in the book that isnt' strictly 1-1 but will be close enough to draw meaningful conculsions against\n"
      ],
      "metadata": {
        "id": "VJcWoh1J3a8h"
      }
    },
    {
      "cell_type": "markdown",
      "source": [
        "# Creat a standalone Python file"
      ],
      "metadata": {
        "id": "S9MfIXg05NwR"
      }
    },
    {
      "cell_type": "markdown",
      "source": [
        "- File shoudl include all of the data preprocessing functionality created in step 4 named vectorizer.py. This file will initialize a HashingVectorizer using the parameters I learned tuning TfidVectorizer in step Four\n",
        "- The creation of vectorizer.py should be done inside project02,pynb file similiar to ch09.ipynb"
      ],
      "metadata": {
        "id": "yvCbjMJy5TtN"
      }
    },
    {
      "cell_type": "markdown",
      "source": [
        "# Website Creation and Publishing"
      ],
      "metadata": {
        "id": "_MC308fh5q2_"
      }
    },
    {
      "cell_type": "markdown",
      "source": [
        "- Create an interactive website using Flask, SQlite, WTforms, and Jinja2, that will enable me to test the accuracy of my calculated model by prompting users to enter text in the same form as your train data (product reviews, social media posts, etc. ) and perform sentiment analysis against their submissionts\n",
        "\n",
        "- Very similar to Lecture 12 -Embedding a Machine Learning Model into a Web Application, I will then show the user my sentiment prediction base on their entry, allowing them to rate whether the prediction was accurate or not. \n",
        "\n",
        "- User provided examples will be stored in SQLite and be used to incrementally refine the trained model I created in step 4. \n",
        "\n",
        "- Complete website will be a published to PthonAnywhere and a link to the website will be included in a markdown cell in this Jupter notebook.\n",
        "\n",
        "- The source code for the website (including Python source code, HTML templates, and Python pickle files) will be submitted alongside the Jupyter Notbook in Goodle Drive \n",
        "\n",
        "- Note: I must use the pickled model created in step four as the starting point for my classifier. In addition, if your webserver was to be restared, all user-provided examples must still represet in the trained model (i.e. I cannot rest the pickled version only on server restart)\n",
        "\n",
        "- Note: Make sure to look closely at the code thats being reused for the Flask application to make sure that assumptions built into the existing app still hold for the dataset. For instance, make sure that the handling of correct/incorrect feedback via the website works for my data."
      ],
      "metadata": {
        "id": "g3lWEFJY5ul8"
      }
    }
  ]
}