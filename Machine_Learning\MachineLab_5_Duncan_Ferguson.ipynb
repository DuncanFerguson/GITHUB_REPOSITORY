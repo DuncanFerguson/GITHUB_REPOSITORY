{
  "cells": [
    {
      "cell_type": "markdown",
      "metadata": {
        "id": "view-in-github",
        "colab_type": "text"
      },
      "source": [
        "<a href=\"https://colab.research.google.com/github/DuncanFerguson/GITHUB_REPOSITORY/blob/main/Machine_Learning%5CMachineLab_5_Duncan_Ferguson.ipynb\" target=\"_parent\"><img src=\"https://colab.research.google.com/assets/colab-badge.svg\" alt=\"Open In Colab\"/></a>"
      ]
    },
    {
      "cell_type": "markdown",
      "source": [
        "# Lab 5\n",
        "Student: Duncan Ferguson\n",
        "<br> Class: COMP-4432-1\n",
        "<br> Date: 7/28/2022\n",
        "\n",
        "\n"
      ],
      "metadata": {
        "id": "rU3Mq0WAJv9z"
      }
    },
    {
      "cell_type": "code",
      "execution_count": 398,
      "metadata": {
        "id": "q7e5FvPEUVob"
      },
      "outputs": [],
      "source": [
        "# Import Libraries\n",
        "import pandas as pd\n",
        "import numpy as np\n",
        "import matplotlib.pyplot as plt\n",
        "import seaborn as sns\n",
        "from IPython.display import display\n",
        "\n",
        "# Import Strings\n",
        "from sklearn.pipeline import Pipeline\n",
        "from sklearn.impute import SimpleImputer\n",
        "from sklearn.compose import ColumnTransformer\n",
        "from sklearn.preprocessing import OneHotEncoder, StandardScaler, MinMaxScaler, LabelEncoder, FunctionTransformer\n",
        "from sklearn.model_selection import train_test_split, cross_val_score\n",
        "from sklearn.utils import resample\n",
        "from sklearn.metrics import accuracy_score, confusion_matrix, ConfusionMatrixDisplay, classification_report, precision_score, recall_score, f1_score\n",
        "from sklearn.linear_model import LogisticRegression\n",
        "from sklearn.neighbors import KNeighborsClassifier\n",
        "from sklearn.tree import DecisionTreeClassifier\n",
        "from sklearn import tree\n",
        "from sklearn.ensemble import RandomForestClassifier\n",
        "from sklearn.cluster import KMeans"
      ]
    },
    {
      "cell_type": "markdown",
      "metadata": {
        "id": "0awIw7mSY1A1"
      },
      "source": [
        "\n",
        "# 1. Create a data preprocessing pipeline using scikit-learn\n",
        "\n",
        "- Combine the data preprocessing and model creation steps from project 1 into a separate pipeline for each of the three algorithms I compared.\n",
        "\n",
        "- Verify these piplines perform the same as the preprocessing and fitting steps when I executed them individually by making sure the performance metrics on the training and test data match.\n"
      ]
    },
    {
      "cell_type": "markdown",
      "metadata": {
        "id": "wXVCAu0qfjhR"
      },
      "source": [
        "## Experiment Objective: \n",
        "- Did a client subscribe a term deposit. How do we model this.\n",
        "- What are the significant factors in determining if a client is subscribed to a term deposit\n",
        "\n"
      ]
    },
    {
      "cell_type": "markdown",
      "metadata": {
        "id": "YQyHMcIsZs2m"
      },
      "source": [
        "The Data is being downloaded directly from an archive using !wget from google colab. This will grab the data straight from the source and place it straight on your G-drive. URL below.\n",
        "<br>https://archive.ics.uci.edu/ml/datasets/bank+marketing\n",
        "\n"
      ]
    },
    {
      "cell_type": "code",
      "execution_count": 399,
      "metadata": {
        "colab": {
          "base_uri": "https://localhost:8080/"
        },
        "id": "aVZEWV4DY95T",
        "outputId": "30515ab5-9b13-482f-a8e5-fbb4509a213d"
      },
      "outputs": [
        {
          "output_type": "stream",
          "name": "stdout",
          "text": [
            "--2022-07-25 09:50:10--  http://banking_data/\n",
            "Resolving banking_data (banking_data)... failed: Name or service not known.\n",
            "wget: unable to resolve host address ‘banking_data’\n",
            "--2022-07-25 09:50:10--  https://archive.ics.uci.edu/ml/machine-learning-databases/00222/bank.zip\n",
            "Resolving archive.ics.uci.edu (archive.ics.uci.edu)... 128.195.10.252\n",
            "Connecting to archive.ics.uci.edu (archive.ics.uci.edu)|128.195.10.252|:443... connected.\n",
            "HTTP request sent, awaiting response... 200 OK\n",
            "Length: 579043 (565K) [application/x-httpd-php]\n",
            "Saving to: ‘bank.zip.10’\n",
            "\n",
            "bank.zip.10         100%[===================>] 565.47K   729KB/s    in 0.8s    \n",
            "\n",
            "2022-07-25 09:50:12 (729 KB/s) - ‘bank.zip.10’ saved [579043/579043]\n",
            "\n",
            "FINISHED --2022-07-25 09:50:12--\n",
            "Total wall clock time: 1.4s\n",
            "Downloaded: 1 files, 565K in 0.8s (729 KB/s)\n"
          ]
        }
      ],
      "source": [
        "# Grabbing the website\n",
        "!wget 'banking_data' 'https://archive.ics.uci.edu/ml/machine-learning-databases/00222/bank.zip'"
      ]
    },
    {
      "cell_type": "code",
      "source": [
        "# Unzipping the file\n",
        "!unzip -o 'bank.zip'"
      ],
      "metadata": {
        "colab": {
          "base_uri": "https://localhost:8080/"
        },
        "id": "n4z8-XmvVg5R",
        "outputId": "0fb5a9c9-727a-43ae-f57e-72e82c99d49c"
      },
      "execution_count": 400,
      "outputs": [
        {
          "output_type": "stream",
          "name": "stdout",
          "text": [
            "Archive:  bank.zip\n",
            "  inflating: bank-full.csv           \n",
            "  inflating: bank-names.txt          \n",
            "  inflating: bank.csv                \n"
          ]
        }
      ]
    },
    {
      "cell_type": "code",
      "source": [
        "# Downloading the Excel file and reading in the second sheet\n",
        "df = pd.read_csv('bank-full.csv', sep=';')"
      ],
      "metadata": {
        "id": "Fx3BNk9eF55d"
      },
      "execution_count": 401,
      "outputs": []
    },
    {
      "cell_type": "code",
      "source": [
        "# Filtering out clients that have been contacted by previous campaigns\n",
        "df = df.loc[(df['pdays'] == -1) & (df['previous'] == 0)]\n",
        "\n",
        "# Dropping out these two columns because they are no longer needed\n",
        "df = df.drop(labels=['pdays','previous'], axis=1)\n",
        "\n",
        "# Replacing all the Unknown values with Nan\n",
        "df.replace('unknown', np.nan, inplace=True)"
      ],
      "metadata": {
        "id": "UjN9w3yuwlE3"
      },
      "execution_count": 402,
      "outputs": []
    },
    {
      "cell_type": "code",
      "source": [
        "# Displaying the Head of the Data\n",
        "df.head()"
      ],
      "metadata": {
        "colab": {
          "base_uri": "https://localhost:8080/",
          "height": 0
        },
        "id": "ByoSYV8mQASn",
        "outputId": "df9f37f9-a6a5-4d63-e196-b70388f3dfd9"
      },
      "execution_count": 403,
      "outputs": [
        {
          "output_type": "execute_result",
          "data": {
            "text/plain": [
              "   age           job  marital  education default  balance housing loan  \\\n",
              "0   58    management  married   tertiary      no     2143     yes   no   \n",
              "1   44    technician   single  secondary      no       29     yes   no   \n",
              "2   33  entrepreneur  married  secondary      no        2     yes  yes   \n",
              "3   47   blue-collar  married        NaN      no     1506     yes   no   \n",
              "4   33           NaN   single        NaN      no        1      no   no   \n",
              "\n",
              "  contact  day month  duration  campaign  poutcome   y  \n",
              "0     NaN    5   may       261         1       NaN  no  \n",
              "1     NaN    5   may       151         1       NaN  no  \n",
              "2     NaN    5   may        76         1       NaN  no  \n",
              "3     NaN    5   may        92         1       NaN  no  \n",
              "4     NaN    5   may       198         1       NaN  no  "
            ],
            "text/html": [
              "\n",
              "  <div id=\"df-348bb2ef-e869-49ee-8d5f-7ab4fb82c8e1\">\n",
              "    <div class=\"colab-df-container\">\n",
              "      <div>\n",
              "<style scoped>\n",
              "    .dataframe tbody tr th:only-of-type {\n",
              "        vertical-align: middle;\n",
              "    }\n",
              "\n",
              "    .dataframe tbody tr th {\n",
              "        vertical-align: top;\n",
              "    }\n",
              "\n",
              "    .dataframe thead th {\n",
              "        text-align: right;\n",
              "    }\n",
              "</style>\n",
              "<table border=\"1\" class=\"dataframe\">\n",
              "  <thead>\n",
              "    <tr style=\"text-align: right;\">\n",
              "      <th></th>\n",
              "      <th>age</th>\n",
              "      <th>job</th>\n",
              "      <th>marital</th>\n",
              "      <th>education</th>\n",
              "      <th>default</th>\n",
              "      <th>balance</th>\n",
              "      <th>housing</th>\n",
              "      <th>loan</th>\n",
              "      <th>contact</th>\n",
              "      <th>day</th>\n",
              "      <th>month</th>\n",
              "      <th>duration</th>\n",
              "      <th>campaign</th>\n",
              "      <th>poutcome</th>\n",
              "      <th>y</th>\n",
              "    </tr>\n",
              "  </thead>\n",
              "  <tbody>\n",
              "    <tr>\n",
              "      <th>0</th>\n",
              "      <td>58</td>\n",
              "      <td>management</td>\n",
              "      <td>married</td>\n",
              "      <td>tertiary</td>\n",
              "      <td>no</td>\n",
              "      <td>2143</td>\n",
              "      <td>yes</td>\n",
              "      <td>no</td>\n",
              "      <td>NaN</td>\n",
              "      <td>5</td>\n",
              "      <td>may</td>\n",
              "      <td>261</td>\n",
              "      <td>1</td>\n",
              "      <td>NaN</td>\n",
              "      <td>no</td>\n",
              "    </tr>\n",
              "    <tr>\n",
              "      <th>1</th>\n",
              "      <td>44</td>\n",
              "      <td>technician</td>\n",
              "      <td>single</td>\n",
              "      <td>secondary</td>\n",
              "      <td>no</td>\n",
              "      <td>29</td>\n",
              "      <td>yes</td>\n",
              "      <td>no</td>\n",
              "      <td>NaN</td>\n",
              "      <td>5</td>\n",
              "      <td>may</td>\n",
              "      <td>151</td>\n",
              "      <td>1</td>\n",
              "      <td>NaN</td>\n",
              "      <td>no</td>\n",
              "    </tr>\n",
              "    <tr>\n",
              "      <th>2</th>\n",
              "      <td>33</td>\n",
              "      <td>entrepreneur</td>\n",
              "      <td>married</td>\n",
              "      <td>secondary</td>\n",
              "      <td>no</td>\n",
              "      <td>2</td>\n",
              "      <td>yes</td>\n",
              "      <td>yes</td>\n",
              "      <td>NaN</td>\n",
              "      <td>5</td>\n",
              "      <td>may</td>\n",
              "      <td>76</td>\n",
              "      <td>1</td>\n",
              "      <td>NaN</td>\n",
              "      <td>no</td>\n",
              "    </tr>\n",
              "    <tr>\n",
              "      <th>3</th>\n",
              "      <td>47</td>\n",
              "      <td>blue-collar</td>\n",
              "      <td>married</td>\n",
              "      <td>NaN</td>\n",
              "      <td>no</td>\n",
              "      <td>1506</td>\n",
              "      <td>yes</td>\n",
              "      <td>no</td>\n",
              "      <td>NaN</td>\n",
              "      <td>5</td>\n",
              "      <td>may</td>\n",
              "      <td>92</td>\n",
              "      <td>1</td>\n",
              "      <td>NaN</td>\n",
              "      <td>no</td>\n",
              "    </tr>\n",
              "    <tr>\n",
              "      <th>4</th>\n",
              "      <td>33</td>\n",
              "      <td>NaN</td>\n",
              "      <td>single</td>\n",
              "      <td>NaN</td>\n",
              "      <td>no</td>\n",
              "      <td>1</td>\n",
              "      <td>no</td>\n",
              "      <td>no</td>\n",
              "      <td>NaN</td>\n",
              "      <td>5</td>\n",
              "      <td>may</td>\n",
              "      <td>198</td>\n",
              "      <td>1</td>\n",
              "      <td>NaN</td>\n",
              "      <td>no</td>\n",
              "    </tr>\n",
              "  </tbody>\n",
              "</table>\n",
              "</div>\n",
              "      <button class=\"colab-df-convert\" onclick=\"convertToInteractive('df-348bb2ef-e869-49ee-8d5f-7ab4fb82c8e1')\"\n",
              "              title=\"Convert this dataframe to an interactive table.\"\n",
              "              style=\"display:none;\">\n",
              "        \n",
              "  <svg xmlns=\"http://www.w3.org/2000/svg\" height=\"24px\"viewBox=\"0 0 24 24\"\n",
              "       width=\"24px\">\n",
              "    <path d=\"M0 0h24v24H0V0z\" fill=\"none\"/>\n",
              "    <path d=\"M18.56 5.44l.94 2.06.94-2.06 2.06-.94-2.06-.94-.94-2.06-.94 2.06-2.06.94zm-11 1L8.5 8.5l.94-2.06 2.06-.94-2.06-.94L8.5 2.5l-.94 2.06-2.06.94zm10 10l.94 2.06.94-2.06 2.06-.94-2.06-.94-.94-2.06-.94 2.06-2.06.94z\"/><path d=\"M17.41 7.96l-1.37-1.37c-.4-.4-.92-.59-1.43-.59-.52 0-1.04.2-1.43.59L10.3 9.45l-7.72 7.72c-.78.78-.78 2.05 0 2.83L4 21.41c.39.39.9.59 1.41.59.51 0 1.02-.2 1.41-.59l7.78-7.78 2.81-2.81c.8-.78.8-2.07 0-2.86zM5.41 20L4 18.59l7.72-7.72 1.47 1.35L5.41 20z\"/>\n",
              "  </svg>\n",
              "      </button>\n",
              "      \n",
              "  <style>\n",
              "    .colab-df-container {\n",
              "      display:flex;\n",
              "      flex-wrap:wrap;\n",
              "      gap: 12px;\n",
              "    }\n",
              "\n",
              "    .colab-df-convert {\n",
              "      background-color: #E8F0FE;\n",
              "      border: none;\n",
              "      border-radius: 50%;\n",
              "      cursor: pointer;\n",
              "      display: none;\n",
              "      fill: #1967D2;\n",
              "      height: 32px;\n",
              "      padding: 0 0 0 0;\n",
              "      width: 32px;\n",
              "    }\n",
              "\n",
              "    .colab-df-convert:hover {\n",
              "      background-color: #E2EBFA;\n",
              "      box-shadow: 0px 1px 2px rgba(60, 64, 67, 0.3), 0px 1px 3px 1px rgba(60, 64, 67, 0.15);\n",
              "      fill: #174EA6;\n",
              "    }\n",
              "\n",
              "    [theme=dark] .colab-df-convert {\n",
              "      background-color: #3B4455;\n",
              "      fill: #D2E3FC;\n",
              "    }\n",
              "\n",
              "    [theme=dark] .colab-df-convert:hover {\n",
              "      background-color: #434B5C;\n",
              "      box-shadow: 0px 1px 3px 1px rgba(0, 0, 0, 0.15);\n",
              "      filter: drop-shadow(0px 1px 2px rgba(0, 0, 0, 0.3));\n",
              "      fill: #FFFFFF;\n",
              "    }\n",
              "  </style>\n",
              "\n",
              "      <script>\n",
              "        const buttonEl =\n",
              "          document.querySelector('#df-348bb2ef-e869-49ee-8d5f-7ab4fb82c8e1 button.colab-df-convert');\n",
              "        buttonEl.style.display =\n",
              "          google.colab.kernel.accessAllowed ? 'block' : 'none';\n",
              "\n",
              "        async function convertToInteractive(key) {\n",
              "          const element = document.querySelector('#df-348bb2ef-e869-49ee-8d5f-7ab4fb82c8e1');\n",
              "          const dataTable =\n",
              "            await google.colab.kernel.invokeFunction('convertToInteractive',\n",
              "                                                     [key], {});\n",
              "          if (!dataTable) return;\n",
              "\n",
              "          const docLinkHtml = 'Like what you see? Visit the ' +\n",
              "            '<a target=\"_blank\" href=https://colab.research.google.com/notebooks/data_table.ipynb>data table notebook</a>'\n",
              "            + ' to learn more about interactive tables.';\n",
              "          element.innerHTML = '';\n",
              "          dataTable['output_type'] = 'display_data';\n",
              "          await google.colab.output.renderOutput(dataTable, element);\n",
              "          const docLink = document.createElement('div');\n",
              "          docLink.innerHTML = docLinkHtml;\n",
              "          element.appendChild(docLink);\n",
              "        }\n",
              "      </script>\n",
              "    </div>\n",
              "  </div>\n",
              "  "
            ]
          },
          "metadata": {},
          "execution_count": 403
        }
      ]
    },
    {
      "cell_type": "markdown",
      "source": [
        "# Project 01 Data Preprocessing\n",
        "- Below is the data preprocessing that was used. I have left this in so that I can compare it later."
      ],
      "metadata": {
        "id": "SvN4XT3_GAMH"
      }
    },
    {
      "cell_type": "code",
      "source": [
        "# Displaing the Percentage of missing data per column in decimal form\n",
        "missing_col_per = pd.DataFrame([(df[col].isnull().sum()/df.shape[0]) for col in df.columns] , df.columns, columns=['Percent_Missing'])\n",
        "missing_col_per"
      ],
      "metadata": {
        "colab": {
          "base_uri": "https://localhost:8080/",
          "height": 0
        },
        "id": "kNQcK4I7j8GC",
        "outputId": "f8634d9a-4ae8-489f-c1f9-872b79e7b3f4"
      },
      "execution_count": 404,
      "outputs": [
        {
          "output_type": "execute_result",
          "data": {
            "text/plain": [
              "           Percent_Missing\n",
              "age               0.000000\n",
              "job               0.006900\n",
              "marital           0.000000\n",
              "education         0.041511\n",
              "default           0.000000\n",
              "balance           0.000000\n",
              "housing           0.000000\n",
              "loan              0.000000\n",
              "contact           0.350436\n",
              "day               0.000000\n",
              "month             0.000000\n",
              "duration          0.000000\n",
              "campaign          0.000000\n",
              "poutcome          1.000000\n",
              "y                 0.000000"
            ],
            "text/html": [
              "\n",
              "  <div id=\"df-ab059f88-0f5f-426c-b0c4-c688728683a3\">\n",
              "    <div class=\"colab-df-container\">\n",
              "      <div>\n",
              "<style scoped>\n",
              "    .dataframe tbody tr th:only-of-type {\n",
              "        vertical-align: middle;\n",
              "    }\n",
              "\n",
              "    .dataframe tbody tr th {\n",
              "        vertical-align: top;\n",
              "    }\n",
              "\n",
              "    .dataframe thead th {\n",
              "        text-align: right;\n",
              "    }\n",
              "</style>\n",
              "<table border=\"1\" class=\"dataframe\">\n",
              "  <thead>\n",
              "    <tr style=\"text-align: right;\">\n",
              "      <th></th>\n",
              "      <th>Percent_Missing</th>\n",
              "    </tr>\n",
              "  </thead>\n",
              "  <tbody>\n",
              "    <tr>\n",
              "      <th>age</th>\n",
              "      <td>0.000000</td>\n",
              "    </tr>\n",
              "    <tr>\n",
              "      <th>job</th>\n",
              "      <td>0.006900</td>\n",
              "    </tr>\n",
              "    <tr>\n",
              "      <th>marital</th>\n",
              "      <td>0.000000</td>\n",
              "    </tr>\n",
              "    <tr>\n",
              "      <th>education</th>\n",
              "      <td>0.041511</td>\n",
              "    </tr>\n",
              "    <tr>\n",
              "      <th>default</th>\n",
              "      <td>0.000000</td>\n",
              "    </tr>\n",
              "    <tr>\n",
              "      <th>balance</th>\n",
              "      <td>0.000000</td>\n",
              "    </tr>\n",
              "    <tr>\n",
              "      <th>housing</th>\n",
              "      <td>0.000000</td>\n",
              "    </tr>\n",
              "    <tr>\n",
              "      <th>loan</th>\n",
              "      <td>0.000000</td>\n",
              "    </tr>\n",
              "    <tr>\n",
              "      <th>contact</th>\n",
              "      <td>0.350436</td>\n",
              "    </tr>\n",
              "    <tr>\n",
              "      <th>day</th>\n",
              "      <td>0.000000</td>\n",
              "    </tr>\n",
              "    <tr>\n",
              "      <th>month</th>\n",
              "      <td>0.000000</td>\n",
              "    </tr>\n",
              "    <tr>\n",
              "      <th>duration</th>\n",
              "      <td>0.000000</td>\n",
              "    </tr>\n",
              "    <tr>\n",
              "      <th>campaign</th>\n",
              "      <td>0.000000</td>\n",
              "    </tr>\n",
              "    <tr>\n",
              "      <th>poutcome</th>\n",
              "      <td>1.000000</td>\n",
              "    </tr>\n",
              "    <tr>\n",
              "      <th>y</th>\n",
              "      <td>0.000000</td>\n",
              "    </tr>\n",
              "  </tbody>\n",
              "</table>\n",
              "</div>\n",
              "      <button class=\"colab-df-convert\" onclick=\"convertToInteractive('df-ab059f88-0f5f-426c-b0c4-c688728683a3')\"\n",
              "              title=\"Convert this dataframe to an interactive table.\"\n",
              "              style=\"display:none;\">\n",
              "        \n",
              "  <svg xmlns=\"http://www.w3.org/2000/svg\" height=\"24px\"viewBox=\"0 0 24 24\"\n",
              "       width=\"24px\">\n",
              "    <path d=\"M0 0h24v24H0V0z\" fill=\"none\"/>\n",
              "    <path d=\"M18.56 5.44l.94 2.06.94-2.06 2.06-.94-2.06-.94-.94-2.06-.94 2.06-2.06.94zm-11 1L8.5 8.5l.94-2.06 2.06-.94-2.06-.94L8.5 2.5l-.94 2.06-2.06.94zm10 10l.94 2.06.94-2.06 2.06-.94-2.06-.94-.94-2.06-.94 2.06-2.06.94z\"/><path d=\"M17.41 7.96l-1.37-1.37c-.4-.4-.92-.59-1.43-.59-.52 0-1.04.2-1.43.59L10.3 9.45l-7.72 7.72c-.78.78-.78 2.05 0 2.83L4 21.41c.39.39.9.59 1.41.59.51 0 1.02-.2 1.41-.59l7.78-7.78 2.81-2.81c.8-.78.8-2.07 0-2.86zM5.41 20L4 18.59l7.72-7.72 1.47 1.35L5.41 20z\"/>\n",
              "  </svg>\n",
              "      </button>\n",
              "      \n",
              "  <style>\n",
              "    .colab-df-container {\n",
              "      display:flex;\n",
              "      flex-wrap:wrap;\n",
              "      gap: 12px;\n",
              "    }\n",
              "\n",
              "    .colab-df-convert {\n",
              "      background-color: #E8F0FE;\n",
              "      border: none;\n",
              "      border-radius: 50%;\n",
              "      cursor: pointer;\n",
              "      display: none;\n",
              "      fill: #1967D2;\n",
              "      height: 32px;\n",
              "      padding: 0 0 0 0;\n",
              "      width: 32px;\n",
              "    }\n",
              "\n",
              "    .colab-df-convert:hover {\n",
              "      background-color: #E2EBFA;\n",
              "      box-shadow: 0px 1px 2px rgba(60, 64, 67, 0.3), 0px 1px 3px 1px rgba(60, 64, 67, 0.15);\n",
              "      fill: #174EA6;\n",
              "    }\n",
              "\n",
              "    [theme=dark] .colab-df-convert {\n",
              "      background-color: #3B4455;\n",
              "      fill: #D2E3FC;\n",
              "    }\n",
              "\n",
              "    [theme=dark] .colab-df-convert:hover {\n",
              "      background-color: #434B5C;\n",
              "      box-shadow: 0px 1px 3px 1px rgba(0, 0, 0, 0.15);\n",
              "      filter: drop-shadow(0px 1px 2px rgba(0, 0, 0, 0.3));\n",
              "      fill: #FFFFFF;\n",
              "    }\n",
              "  </style>\n",
              "\n",
              "      <script>\n",
              "        const buttonEl =\n",
              "          document.querySelector('#df-ab059f88-0f5f-426c-b0c4-c688728683a3 button.colab-df-convert');\n",
              "        buttonEl.style.display =\n",
              "          google.colab.kernel.accessAllowed ? 'block' : 'none';\n",
              "\n",
              "        async function convertToInteractive(key) {\n",
              "          const element = document.querySelector('#df-ab059f88-0f5f-426c-b0c4-c688728683a3');\n",
              "          const dataTable =\n",
              "            await google.colab.kernel.invokeFunction('convertToInteractive',\n",
              "                                                     [key], {});\n",
              "          if (!dataTable) return;\n",
              "\n",
              "          const docLinkHtml = 'Like what you see? Visit the ' +\n",
              "            '<a target=\"_blank\" href=https://colab.research.google.com/notebooks/data_table.ipynb>data table notebook</a>'\n",
              "            + ' to learn more about interactive tables.';\n",
              "          element.innerHTML = '';\n",
              "          dataTable['output_type'] = 'display_data';\n",
              "          await google.colab.output.renderOutput(dataTable, element);\n",
              "          const docLink = document.createElement('div');\n",
              "          docLink.innerHTML = docLinkHtml;\n",
              "          element.appendChild(docLink);\n",
              "        }\n",
              "      </script>\n",
              "    </div>\n",
              "  </div>\n",
              "  "
            ]
          },
          "metadata": {},
          "execution_count": 404
        }
      ]
    },
    {
      "cell_type": "markdown",
      "source": [
        "Since we removed all the clients that had been placed in a campaign before we now get 100% of the Poutcome column as unknown. Meaning that this column can be dropped. Below we set up the threshold for dropping a column as over 80% missing. This will end up taking contact and poutcome out of the equation."
      ],
      "metadata": {
        "id": "m2eH6o9upFl8"
      }
    },
    {
      "cell_type": "code",
      "source": [
        "# Setting the limit for dropping\n",
        "drop_lim = df.shape[0] * .8\n",
        "df_1 = df.dropna(thresh=drop_lim, axis=1)"
      ],
      "metadata": {
        "id": "LQN_x6NMqG92"
      },
      "execution_count": 405,
      "outputs": []
    },
    {
      "cell_type": "code",
      "execution_count": 406,
      "metadata": {
        "id": "bB1I2ckMlhSb",
        "colab": {
          "base_uri": "https://localhost:8080/",
          "height": 0
        },
        "outputId": "a892597e-c5ab-47a4-f237-151d3c0ece0a"
      },
      "outputs": [
        {
          "output_type": "stream",
          "name": "stdout",
          "text": [
            "# Columns w/ NaN 2\n"
          ]
        },
        {
          "output_type": "display_data",
          "data": {
            "text/plain": [
              "age             0\n",
              "job           255\n",
              "marital         0\n",
              "education    1534\n",
              "default         0\n",
              "balance         0\n",
              "housing         0\n",
              "loan            0\n",
              "day             0\n",
              "month           0\n",
              "duration        0\n",
              "campaign        0\n",
              "y               0\n",
              "dtype: int64"
            ]
          },
          "metadata": {}
        }
      ],
      "source": [
        "# Counting to see how many columns have NaN values\n",
        "print(\"# Columns w/ NaN\", df_1.isnull().any().sum())\n",
        "display(df_1.isna().sum())"
      ]
    },
    {
      "cell_type": "code",
      "source": [
        "# Imputing the value for the educational missing values\n",
        "df_2 = df_1.copy()\n",
        "\n",
        "imputer = SimpleImputer(missing_values=np.nan, strategy='most_frequent')\n",
        "\n",
        "imputer = imputer.fit(df_1.loc[:, df_1.columns == 'education'])\n",
        "new_education = imputer.transform(df_1.loc[:, df_1.columns == 'education'])\n",
        "\n",
        "# Replacing education with the newly imputed values\n",
        "df_2['education'] = new_education.tolist()"
      ],
      "metadata": {
        "id": "leOODkeocLZP"
      },
      "execution_count": 407,
      "outputs": []
    },
    {
      "cell_type": "markdown",
      "source": [
        "Now that the values have been imputed for education. I will just drop the rest  of rows that possess NaN values. These only exist in the job column."
      ],
      "metadata": {
        "id": "gprNGWFye-S_"
      }
    },
    {
      "cell_type": "code",
      "source": [
        "# Simple Drop of NaN rows\n",
        "df_2 = df_1.dropna()\n",
        "df_2 = df_2.copy()\n",
        "print('# Columns w/ Nan')\n",
        "df_2.isnull().any().sum()"
      ],
      "metadata": {
        "colab": {
          "base_uri": "https://localhost:8080/"
        },
        "id": "dIMsNAiHfS1d",
        "outputId": "f51f08e3-1c7e-4099-fa16-73b922a1b1d5"
      },
      "execution_count": 408,
      "outputs": [
        {
          "output_type": "stream",
          "name": "stdout",
          "text": [
            "# Columns w/ Nan\n"
          ]
        },
        {
          "output_type": "execute_result",
          "data": {
            "text/plain": [
              "0"
            ]
          },
          "metadata": {},
          "execution_count": 408
        }
      ]
    },
    {
      "cell_type": "code",
      "source": [
        "df_2['job'].isnull().sum()"
      ],
      "metadata": {
        "colab": {
          "base_uri": "https://localhost:8080/"
        },
        "id": "hnZwPzEo-AzV",
        "outputId": "8b6ddc69-fdf3-4b0d-f77f-fe6f9ecbf711"
      },
      "execution_count": 409,
      "outputs": [
        {
          "output_type": "execute_result",
          "data": {
            "text/plain": [
              "0"
            ]
          },
          "metadata": {},
          "execution_count": 409
        }
      ]
    },
    {
      "cell_type": "markdown",
      "source": [
        "Note that only two columns had any NaNs those rows have been dealt with we will consider df_2 the main data frame.\n",
        "\n",
        "There are three different columns that have two classiciations. These are default, housing, loan, and of course Y. We can turn all of theses in to binary. I will also map all the other categorical variables to integer values."
      ],
      "metadata": {
        "id": "2cm8yt0KgBpa"
      }
    },
    {
      "cell_type": "code",
      "source": [
        "# Cleanding up some values to make coding better\n",
        "df_2['job'] = df_2['job'].replace(['blue-collar'], 'blue_collar')\n",
        "df_2['job'] = df_2['job'].replace(['self-employed'], 'self_employed')\n",
        "df_2['job'] = df_2['job'].replace(['admin.'], 'admin')"
      ],
      "metadata": {
        "id": "GtisbhF15LDm"
      },
      "execution_count": 410,
      "outputs": []
    },
    {
      "cell_type": "code",
      "source": [
        "# Gathering the different columns that are objects\n",
        "obj_cols = [col for col in df_2 if df_2[col].dtype == 'object']\n",
        "\n",
        "# Mapping the respective columns to binary\n",
        "df_2['y'] = df_2.y.map(dict(yes=1, no=0))\n",
        "df_2['default'] = df_2.default.map(dict(yes=1, no=0))\n",
        "df_2['loan'] = df_2.loan.map(dict(yes=1, no=0))\n",
        "\n",
        "# Also mapping the different categorical variables\n",
        "df_2['education'] = df_2.education.map(dict(primary=0, secondary=1, tertiary=2))\n",
        "df_2['housing'] = df_2.housing.map(dict(no=0, yes=1))\n",
        "df_2['job'] = df_2.job.map(dict(admin=11, blue_collar=1, entrepreneur=2,\n",
        "                                housemaid=3, management=4, retired=5,\n",
        "                                self_employed=6, services=7, student=8,\n",
        "                                technician=9, unemployed=10))\n",
        "df_2['marital'] = df_2.marital.map(dict(divorced=0, married=1, single=2))\n",
        "\n",
        "df_2['month'] = df_2.month.map(dict(jan=1, feb=2,mar=3, apr=4,\n",
        "                                    may=5, jun=6, jul=7, aug=8, sep=9,\n",
        "                                    oct=10, nov=11, dec=12))\n",
        "\n",
        "# Displaying the transformation\n",
        "df_2.head(20)"
      ],
      "metadata": {
        "colab": {
          "base_uri": "https://localhost:8080/",
          "height": 0
        },
        "id": "eQHE76GtjM-Q",
        "outputId": "ea352daf-34c7-45ba-b102-e9830b1dda6b"
      },
      "execution_count": 411,
      "outputs": [
        {
          "output_type": "execute_result",
          "data": {
            "text/plain": [
              "    age  job  marital  education  default  balance  housing  loan  day  month  \\\n",
              "0    58    4        1          2        0     2143        1     0    5      5   \n",
              "1    44    9        2          1        0       29        1     0    5      5   \n",
              "2    33    2        1          1        0        2        1     1    5      5   \n",
              "5    35    4        1          2        0      231        1     0    5      5   \n",
              "6    28    4        2          2        0      447        1     1    5      5   \n",
              "7    42    2        0          2        1        2        1     0    5      5   \n",
              "8    58    5        1          0        0      121        1     0    5      5   \n",
              "9    43    9        2          1        0      593        1     0    5      5   \n",
              "10   41   11        0          1        0      270        1     0    5      5   \n",
              "11   29   11        2          1        0      390        1     0    5      5   \n",
              "12   53    9        1          1        0        6        1     0    5      5   \n",
              "14   57    7        1          1        0      162        1     0    5      5   \n",
              "15   51    5        1          0        0      229        1     0    5      5   \n",
              "17   57    1        1          0        0       52        1     0    5      5   \n",
              "18   60    5        1          0        0       60        1     0    5      5   \n",
              "19   33    7        1          1        0        0        1     0    5      5   \n",
              "20   28    1        1          1        0      723        1     1    5      5   \n",
              "21   56    4        1          2        0      779        1     0    5      5   \n",
              "22   32    1        2          0        0       23        1     1    5      5   \n",
              "23   25    7        1          1        0       50        1     0    5      5   \n",
              "\n",
              "    duration  campaign  y  \n",
              "0        261         1  0  \n",
              "1        151         1  0  \n",
              "2         76         1  0  \n",
              "5        139         1  0  \n",
              "6        217         1  0  \n",
              "7        380         1  0  \n",
              "8         50         1  0  \n",
              "9         55         1  0  \n",
              "10       222         1  0  \n",
              "11       137         1  0  \n",
              "12       517         1  0  \n",
              "14       174         1  0  \n",
              "15       353         1  0  \n",
              "17        38         1  0  \n",
              "18       219         1  0  \n",
              "19        54         1  0  \n",
              "20       262         1  0  \n",
              "21       164         1  0  \n",
              "22       160         1  0  \n",
              "23       342         1  0  "
            ],
            "text/html": [
              "\n",
              "  <div id=\"df-6d362b7b-5158-407a-bdad-8349de46f770\">\n",
              "    <div class=\"colab-df-container\">\n",
              "      <div>\n",
              "<style scoped>\n",
              "    .dataframe tbody tr th:only-of-type {\n",
              "        vertical-align: middle;\n",
              "    }\n",
              "\n",
              "    .dataframe tbody tr th {\n",
              "        vertical-align: top;\n",
              "    }\n",
              "\n",
              "    .dataframe thead th {\n",
              "        text-align: right;\n",
              "    }\n",
              "</style>\n",
              "<table border=\"1\" class=\"dataframe\">\n",
              "  <thead>\n",
              "    <tr style=\"text-align: right;\">\n",
              "      <th></th>\n",
              "      <th>age</th>\n",
              "      <th>job</th>\n",
              "      <th>marital</th>\n",
              "      <th>education</th>\n",
              "      <th>default</th>\n",
              "      <th>balance</th>\n",
              "      <th>housing</th>\n",
              "      <th>loan</th>\n",
              "      <th>day</th>\n",
              "      <th>month</th>\n",
              "      <th>duration</th>\n",
              "      <th>campaign</th>\n",
              "      <th>y</th>\n",
              "    </tr>\n",
              "  </thead>\n",
              "  <tbody>\n",
              "    <tr>\n",
              "      <th>0</th>\n",
              "      <td>58</td>\n",
              "      <td>4</td>\n",
              "      <td>1</td>\n",
              "      <td>2</td>\n",
              "      <td>0</td>\n",
              "      <td>2143</td>\n",
              "      <td>1</td>\n",
              "      <td>0</td>\n",
              "      <td>5</td>\n",
              "      <td>5</td>\n",
              "      <td>261</td>\n",
              "      <td>1</td>\n",
              "      <td>0</td>\n",
              "    </tr>\n",
              "    <tr>\n",
              "      <th>1</th>\n",
              "      <td>44</td>\n",
              "      <td>9</td>\n",
              "      <td>2</td>\n",
              "      <td>1</td>\n",
              "      <td>0</td>\n",
              "      <td>29</td>\n",
              "      <td>1</td>\n",
              "      <td>0</td>\n",
              "      <td>5</td>\n",
              "      <td>5</td>\n",
              "      <td>151</td>\n",
              "      <td>1</td>\n",
              "      <td>0</td>\n",
              "    </tr>\n",
              "    <tr>\n",
              "      <th>2</th>\n",
              "      <td>33</td>\n",
              "      <td>2</td>\n",
              "      <td>1</td>\n",
              "      <td>1</td>\n",
              "      <td>0</td>\n",
              "      <td>2</td>\n",
              "      <td>1</td>\n",
              "      <td>1</td>\n",
              "      <td>5</td>\n",
              "      <td>5</td>\n",
              "      <td>76</td>\n",
              "      <td>1</td>\n",
              "      <td>0</td>\n",
              "    </tr>\n",
              "    <tr>\n",
              "      <th>5</th>\n",
              "      <td>35</td>\n",
              "      <td>4</td>\n",
              "      <td>1</td>\n",
              "      <td>2</td>\n",
              "      <td>0</td>\n",
              "      <td>231</td>\n",
              "      <td>1</td>\n",
              "      <td>0</td>\n",
              "      <td>5</td>\n",
              "      <td>5</td>\n",
              "      <td>139</td>\n",
              "      <td>1</td>\n",
              "      <td>0</td>\n",
              "    </tr>\n",
              "    <tr>\n",
              "      <th>6</th>\n",
              "      <td>28</td>\n",
              "      <td>4</td>\n",
              "      <td>2</td>\n",
              "      <td>2</td>\n",
              "      <td>0</td>\n",
              "      <td>447</td>\n",
              "      <td>1</td>\n",
              "      <td>1</td>\n",
              "      <td>5</td>\n",
              "      <td>5</td>\n",
              "      <td>217</td>\n",
              "      <td>1</td>\n",
              "      <td>0</td>\n",
              "    </tr>\n",
              "    <tr>\n",
              "      <th>7</th>\n",
              "      <td>42</td>\n",
              "      <td>2</td>\n",
              "      <td>0</td>\n",
              "      <td>2</td>\n",
              "      <td>1</td>\n",
              "      <td>2</td>\n",
              "      <td>1</td>\n",
              "      <td>0</td>\n",
              "      <td>5</td>\n",
              "      <td>5</td>\n",
              "      <td>380</td>\n",
              "      <td>1</td>\n",
              "      <td>0</td>\n",
              "    </tr>\n",
              "    <tr>\n",
              "      <th>8</th>\n",
              "      <td>58</td>\n",
              "      <td>5</td>\n",
              "      <td>1</td>\n",
              "      <td>0</td>\n",
              "      <td>0</td>\n",
              "      <td>121</td>\n",
              "      <td>1</td>\n",
              "      <td>0</td>\n",
              "      <td>5</td>\n",
              "      <td>5</td>\n",
              "      <td>50</td>\n",
              "      <td>1</td>\n",
              "      <td>0</td>\n",
              "    </tr>\n",
              "    <tr>\n",
              "      <th>9</th>\n",
              "      <td>43</td>\n",
              "      <td>9</td>\n",
              "      <td>2</td>\n",
              "      <td>1</td>\n",
              "      <td>0</td>\n",
              "      <td>593</td>\n",
              "      <td>1</td>\n",
              "      <td>0</td>\n",
              "      <td>5</td>\n",
              "      <td>5</td>\n",
              "      <td>55</td>\n",
              "      <td>1</td>\n",
              "      <td>0</td>\n",
              "    </tr>\n",
              "    <tr>\n",
              "      <th>10</th>\n",
              "      <td>41</td>\n",
              "      <td>11</td>\n",
              "      <td>0</td>\n",
              "      <td>1</td>\n",
              "      <td>0</td>\n",
              "      <td>270</td>\n",
              "      <td>1</td>\n",
              "      <td>0</td>\n",
              "      <td>5</td>\n",
              "      <td>5</td>\n",
              "      <td>222</td>\n",
              "      <td>1</td>\n",
              "      <td>0</td>\n",
              "    </tr>\n",
              "    <tr>\n",
              "      <th>11</th>\n",
              "      <td>29</td>\n",
              "      <td>11</td>\n",
              "      <td>2</td>\n",
              "      <td>1</td>\n",
              "      <td>0</td>\n",
              "      <td>390</td>\n",
              "      <td>1</td>\n",
              "      <td>0</td>\n",
              "      <td>5</td>\n",
              "      <td>5</td>\n",
              "      <td>137</td>\n",
              "      <td>1</td>\n",
              "      <td>0</td>\n",
              "    </tr>\n",
              "    <tr>\n",
              "      <th>12</th>\n",
              "      <td>53</td>\n",
              "      <td>9</td>\n",
              "      <td>1</td>\n",
              "      <td>1</td>\n",
              "      <td>0</td>\n",
              "      <td>6</td>\n",
              "      <td>1</td>\n",
              "      <td>0</td>\n",
              "      <td>5</td>\n",
              "      <td>5</td>\n",
              "      <td>517</td>\n",
              "      <td>1</td>\n",
              "      <td>0</td>\n",
              "    </tr>\n",
              "    <tr>\n",
              "      <th>14</th>\n",
              "      <td>57</td>\n",
              "      <td>7</td>\n",
              "      <td>1</td>\n",
              "      <td>1</td>\n",
              "      <td>0</td>\n",
              "      <td>162</td>\n",
              "      <td>1</td>\n",
              "      <td>0</td>\n",
              "      <td>5</td>\n",
              "      <td>5</td>\n",
              "      <td>174</td>\n",
              "      <td>1</td>\n",
              "      <td>0</td>\n",
              "    </tr>\n",
              "    <tr>\n",
              "      <th>15</th>\n",
              "      <td>51</td>\n",
              "      <td>5</td>\n",
              "      <td>1</td>\n",
              "      <td>0</td>\n",
              "      <td>0</td>\n",
              "      <td>229</td>\n",
              "      <td>1</td>\n",
              "      <td>0</td>\n",
              "      <td>5</td>\n",
              "      <td>5</td>\n",
              "      <td>353</td>\n",
              "      <td>1</td>\n",
              "      <td>0</td>\n",
              "    </tr>\n",
              "    <tr>\n",
              "      <th>17</th>\n",
              "      <td>57</td>\n",
              "      <td>1</td>\n",
              "      <td>1</td>\n",
              "      <td>0</td>\n",
              "      <td>0</td>\n",
              "      <td>52</td>\n",
              "      <td>1</td>\n",
              "      <td>0</td>\n",
              "      <td>5</td>\n",
              "      <td>5</td>\n",
              "      <td>38</td>\n",
              "      <td>1</td>\n",
              "      <td>0</td>\n",
              "    </tr>\n",
              "    <tr>\n",
              "      <th>18</th>\n",
              "      <td>60</td>\n",
              "      <td>5</td>\n",
              "      <td>1</td>\n",
              "      <td>0</td>\n",
              "      <td>0</td>\n",
              "      <td>60</td>\n",
              "      <td>1</td>\n",
              "      <td>0</td>\n",
              "      <td>5</td>\n",
              "      <td>5</td>\n",
              "      <td>219</td>\n",
              "      <td>1</td>\n",
              "      <td>0</td>\n",
              "    </tr>\n",
              "    <tr>\n",
              "      <th>19</th>\n",
              "      <td>33</td>\n",
              "      <td>7</td>\n",
              "      <td>1</td>\n",
              "      <td>1</td>\n",
              "      <td>0</td>\n",
              "      <td>0</td>\n",
              "      <td>1</td>\n",
              "      <td>0</td>\n",
              "      <td>5</td>\n",
              "      <td>5</td>\n",
              "      <td>54</td>\n",
              "      <td>1</td>\n",
              "      <td>0</td>\n",
              "    </tr>\n",
              "    <tr>\n",
              "      <th>20</th>\n",
              "      <td>28</td>\n",
              "      <td>1</td>\n",
              "      <td>1</td>\n",
              "      <td>1</td>\n",
              "      <td>0</td>\n",
              "      <td>723</td>\n",
              "      <td>1</td>\n",
              "      <td>1</td>\n",
              "      <td>5</td>\n",
              "      <td>5</td>\n",
              "      <td>262</td>\n",
              "      <td>1</td>\n",
              "      <td>0</td>\n",
              "    </tr>\n",
              "    <tr>\n",
              "      <th>21</th>\n",
              "      <td>56</td>\n",
              "      <td>4</td>\n",
              "      <td>1</td>\n",
              "      <td>2</td>\n",
              "      <td>0</td>\n",
              "      <td>779</td>\n",
              "      <td>1</td>\n",
              "      <td>0</td>\n",
              "      <td>5</td>\n",
              "      <td>5</td>\n",
              "      <td>164</td>\n",
              "      <td>1</td>\n",
              "      <td>0</td>\n",
              "    </tr>\n",
              "    <tr>\n",
              "      <th>22</th>\n",
              "      <td>32</td>\n",
              "      <td>1</td>\n",
              "      <td>2</td>\n",
              "      <td>0</td>\n",
              "      <td>0</td>\n",
              "      <td>23</td>\n",
              "      <td>1</td>\n",
              "      <td>1</td>\n",
              "      <td>5</td>\n",
              "      <td>5</td>\n",
              "      <td>160</td>\n",
              "      <td>1</td>\n",
              "      <td>0</td>\n",
              "    </tr>\n",
              "    <tr>\n",
              "      <th>23</th>\n",
              "      <td>25</td>\n",
              "      <td>7</td>\n",
              "      <td>1</td>\n",
              "      <td>1</td>\n",
              "      <td>0</td>\n",
              "      <td>50</td>\n",
              "      <td>1</td>\n",
              "      <td>0</td>\n",
              "      <td>5</td>\n",
              "      <td>5</td>\n",
              "      <td>342</td>\n",
              "      <td>1</td>\n",
              "      <td>0</td>\n",
              "    </tr>\n",
              "  </tbody>\n",
              "</table>\n",
              "</div>\n",
              "      <button class=\"colab-df-convert\" onclick=\"convertToInteractive('df-6d362b7b-5158-407a-bdad-8349de46f770')\"\n",
              "              title=\"Convert this dataframe to an interactive table.\"\n",
              "              style=\"display:none;\">\n",
              "        \n",
              "  <svg xmlns=\"http://www.w3.org/2000/svg\" height=\"24px\"viewBox=\"0 0 24 24\"\n",
              "       width=\"24px\">\n",
              "    <path d=\"M0 0h24v24H0V0z\" fill=\"none\"/>\n",
              "    <path d=\"M18.56 5.44l.94 2.06.94-2.06 2.06-.94-2.06-.94-.94-2.06-.94 2.06-2.06.94zm-11 1L8.5 8.5l.94-2.06 2.06-.94-2.06-.94L8.5 2.5l-.94 2.06-2.06.94zm10 10l.94 2.06.94-2.06 2.06-.94-2.06-.94-.94-2.06-.94 2.06-2.06.94z\"/><path d=\"M17.41 7.96l-1.37-1.37c-.4-.4-.92-.59-1.43-.59-.52 0-1.04.2-1.43.59L10.3 9.45l-7.72 7.72c-.78.78-.78 2.05 0 2.83L4 21.41c.39.39.9.59 1.41.59.51 0 1.02-.2 1.41-.59l7.78-7.78 2.81-2.81c.8-.78.8-2.07 0-2.86zM5.41 20L4 18.59l7.72-7.72 1.47 1.35L5.41 20z\"/>\n",
              "  </svg>\n",
              "      </button>\n",
              "      \n",
              "  <style>\n",
              "    .colab-df-container {\n",
              "      display:flex;\n",
              "      flex-wrap:wrap;\n",
              "      gap: 12px;\n",
              "    }\n",
              "\n",
              "    .colab-df-convert {\n",
              "      background-color: #E8F0FE;\n",
              "      border: none;\n",
              "      border-radius: 50%;\n",
              "      cursor: pointer;\n",
              "      display: none;\n",
              "      fill: #1967D2;\n",
              "      height: 32px;\n",
              "      padding: 0 0 0 0;\n",
              "      width: 32px;\n",
              "    }\n",
              "\n",
              "    .colab-df-convert:hover {\n",
              "      background-color: #E2EBFA;\n",
              "      box-shadow: 0px 1px 2px rgba(60, 64, 67, 0.3), 0px 1px 3px 1px rgba(60, 64, 67, 0.15);\n",
              "      fill: #174EA6;\n",
              "    }\n",
              "\n",
              "    [theme=dark] .colab-df-convert {\n",
              "      background-color: #3B4455;\n",
              "      fill: #D2E3FC;\n",
              "    }\n",
              "\n",
              "    [theme=dark] .colab-df-convert:hover {\n",
              "      background-color: #434B5C;\n",
              "      box-shadow: 0px 1px 3px 1px rgba(0, 0, 0, 0.15);\n",
              "      filter: drop-shadow(0px 1px 2px rgba(0, 0, 0, 0.3));\n",
              "      fill: #FFFFFF;\n",
              "    }\n",
              "  </style>\n",
              "\n",
              "      <script>\n",
              "        const buttonEl =\n",
              "          document.querySelector('#df-6d362b7b-5158-407a-bdad-8349de46f770 button.colab-df-convert');\n",
              "        buttonEl.style.display =\n",
              "          google.colab.kernel.accessAllowed ? 'block' : 'none';\n",
              "\n",
              "        async function convertToInteractive(key) {\n",
              "          const element = document.querySelector('#df-6d362b7b-5158-407a-bdad-8349de46f770');\n",
              "          const dataTable =\n",
              "            await google.colab.kernel.invokeFunction('convertToInteractive',\n",
              "                                                     [key], {});\n",
              "          if (!dataTable) return;\n",
              "\n",
              "          const docLinkHtml = 'Like what you see? Visit the ' +\n",
              "            '<a target=\"_blank\" href=https://colab.research.google.com/notebooks/data_table.ipynb>data table notebook</a>'\n",
              "            + ' to learn more about interactive tables.';\n",
              "          element.innerHTML = '';\n",
              "          dataTable['output_type'] = 'display_data';\n",
              "          await google.colab.output.renderOutput(dataTable, element);\n",
              "          const docLink = document.createElement('div');\n",
              "          docLink.innerHTML = docLinkHtml;\n",
              "          element.appendChild(docLink);\n",
              "        }\n",
              "      </script>\n",
              "    </div>\n",
              "  </div>\n",
              "  "
            ]
          },
          "metadata": {},
          "execution_count": 411
        }
      ]
    },
    {
      "cell_type": "markdown",
      "source": [
        "Now that I have turned these columns into binary I will cast the objects into categorical variables to help with onehot encoding."
      ],
      "metadata": {
        "id": "tQ66iUzynRJ5"
      }
    },
    {
      "cell_type": "code",
      "source": [
        "# Casting in to category\n",
        "for col in df_2.columns:\n",
        "  if col in obj_cols:\n",
        "    df_2[col] = df_2[col].astype('category')\n",
        "\n",
        "# Changing the binary fields into categories to be used in the models later\n",
        "df_2['y'] = df_2['y'].astype('category')\n",
        "df_2['loan'] = df_2['loan'].astype('category')\n",
        "df_2['default'] = df_2['default'].astype('category')\n",
        "\n",
        "# Displaying the new data types.\n",
        "df_2.dtypes"
      ],
      "metadata": {
        "colab": {
          "base_uri": "https://localhost:8080/"
        },
        "id": "XCw8MRR7ngZC",
        "outputId": "127cb94f-42ff-42fd-965e-efcd54e34675"
      },
      "execution_count": 412,
      "outputs": [
        {
          "output_type": "execute_result",
          "data": {
            "text/plain": [
              "age             int64\n",
              "job          category\n",
              "marital      category\n",
              "education    category\n",
              "default      category\n",
              "balance         int64\n",
              "housing      category\n",
              "loan         category\n",
              "day             int64\n",
              "month        category\n",
              "duration        int64\n",
              "campaign        int64\n",
              "y            category\n",
              "dtype: object"
            ]
          },
          "metadata": {},
          "execution_count": 412
        }
      ]
    },
    {
      "cell_type": "code",
      "source": [
        "# Displaying the head of the data\n",
        "df_2.head()"
      ],
      "metadata": {
        "colab": {
          "base_uri": "https://localhost:8080/",
          "height": 0
        },
        "id": "BWPlLnSdpQxA",
        "outputId": "dcdac3d3-fda7-4109-9f29-534333d0adaf"
      },
      "execution_count": 413,
      "outputs": [
        {
          "output_type": "execute_result",
          "data": {
            "text/plain": [
              "   age job marital education default  balance housing loan  day month  \\\n",
              "0   58   4       1         2       0     2143       1    0    5     5   \n",
              "1   44   9       2         1       0       29       1    0    5     5   \n",
              "2   33   2       1         1       0        2       1    1    5     5   \n",
              "5   35   4       1         2       0      231       1    0    5     5   \n",
              "6   28   4       2         2       0      447       1    1    5     5   \n",
              "\n",
              "   duration  campaign  y  \n",
              "0       261         1  0  \n",
              "1       151         1  0  \n",
              "2        76         1  0  \n",
              "5       139         1  0  \n",
              "6       217         1  0  "
            ],
            "text/html": [
              "\n",
              "  <div id=\"df-e1ae3658-972f-4997-80b8-ba89e2074713\">\n",
              "    <div class=\"colab-df-container\">\n",
              "      <div>\n",
              "<style scoped>\n",
              "    .dataframe tbody tr th:only-of-type {\n",
              "        vertical-align: middle;\n",
              "    }\n",
              "\n",
              "    .dataframe tbody tr th {\n",
              "        vertical-align: top;\n",
              "    }\n",
              "\n",
              "    .dataframe thead th {\n",
              "        text-align: right;\n",
              "    }\n",
              "</style>\n",
              "<table border=\"1\" class=\"dataframe\">\n",
              "  <thead>\n",
              "    <tr style=\"text-align: right;\">\n",
              "      <th></th>\n",
              "      <th>age</th>\n",
              "      <th>job</th>\n",
              "      <th>marital</th>\n",
              "      <th>education</th>\n",
              "      <th>default</th>\n",
              "      <th>balance</th>\n",
              "      <th>housing</th>\n",
              "      <th>loan</th>\n",
              "      <th>day</th>\n",
              "      <th>month</th>\n",
              "      <th>duration</th>\n",
              "      <th>campaign</th>\n",
              "      <th>y</th>\n",
              "    </tr>\n",
              "  </thead>\n",
              "  <tbody>\n",
              "    <tr>\n",
              "      <th>0</th>\n",
              "      <td>58</td>\n",
              "      <td>4</td>\n",
              "      <td>1</td>\n",
              "      <td>2</td>\n",
              "      <td>0</td>\n",
              "      <td>2143</td>\n",
              "      <td>1</td>\n",
              "      <td>0</td>\n",
              "      <td>5</td>\n",
              "      <td>5</td>\n",
              "      <td>261</td>\n",
              "      <td>1</td>\n",
              "      <td>0</td>\n",
              "    </tr>\n",
              "    <tr>\n",
              "      <th>1</th>\n",
              "      <td>44</td>\n",
              "      <td>9</td>\n",
              "      <td>2</td>\n",
              "      <td>1</td>\n",
              "      <td>0</td>\n",
              "      <td>29</td>\n",
              "      <td>1</td>\n",
              "      <td>0</td>\n",
              "      <td>5</td>\n",
              "      <td>5</td>\n",
              "      <td>151</td>\n",
              "      <td>1</td>\n",
              "      <td>0</td>\n",
              "    </tr>\n",
              "    <tr>\n",
              "      <th>2</th>\n",
              "      <td>33</td>\n",
              "      <td>2</td>\n",
              "      <td>1</td>\n",
              "      <td>1</td>\n",
              "      <td>0</td>\n",
              "      <td>2</td>\n",
              "      <td>1</td>\n",
              "      <td>1</td>\n",
              "      <td>5</td>\n",
              "      <td>5</td>\n",
              "      <td>76</td>\n",
              "      <td>1</td>\n",
              "      <td>0</td>\n",
              "    </tr>\n",
              "    <tr>\n",
              "      <th>5</th>\n",
              "      <td>35</td>\n",
              "      <td>4</td>\n",
              "      <td>1</td>\n",
              "      <td>2</td>\n",
              "      <td>0</td>\n",
              "      <td>231</td>\n",
              "      <td>1</td>\n",
              "      <td>0</td>\n",
              "      <td>5</td>\n",
              "      <td>5</td>\n",
              "      <td>139</td>\n",
              "      <td>1</td>\n",
              "      <td>0</td>\n",
              "    </tr>\n",
              "    <tr>\n",
              "      <th>6</th>\n",
              "      <td>28</td>\n",
              "      <td>4</td>\n",
              "      <td>2</td>\n",
              "      <td>2</td>\n",
              "      <td>0</td>\n",
              "      <td>447</td>\n",
              "      <td>1</td>\n",
              "      <td>1</td>\n",
              "      <td>5</td>\n",
              "      <td>5</td>\n",
              "      <td>217</td>\n",
              "      <td>1</td>\n",
              "      <td>0</td>\n",
              "    </tr>\n",
              "  </tbody>\n",
              "</table>\n",
              "</div>\n",
              "      <button class=\"colab-df-convert\" onclick=\"convertToInteractive('df-e1ae3658-972f-4997-80b8-ba89e2074713')\"\n",
              "              title=\"Convert this dataframe to an interactive table.\"\n",
              "              style=\"display:none;\">\n",
              "        \n",
              "  <svg xmlns=\"http://www.w3.org/2000/svg\" height=\"24px\"viewBox=\"0 0 24 24\"\n",
              "       width=\"24px\">\n",
              "    <path d=\"M0 0h24v24H0V0z\" fill=\"none\"/>\n",
              "    <path d=\"M18.56 5.44l.94 2.06.94-2.06 2.06-.94-2.06-.94-.94-2.06-.94 2.06-2.06.94zm-11 1L8.5 8.5l.94-2.06 2.06-.94-2.06-.94L8.5 2.5l-.94 2.06-2.06.94zm10 10l.94 2.06.94-2.06 2.06-.94-2.06-.94-.94-2.06-.94 2.06-2.06.94z\"/><path d=\"M17.41 7.96l-1.37-1.37c-.4-.4-.92-.59-1.43-.59-.52 0-1.04.2-1.43.59L10.3 9.45l-7.72 7.72c-.78.78-.78 2.05 0 2.83L4 21.41c.39.39.9.59 1.41.59.51 0 1.02-.2 1.41-.59l7.78-7.78 2.81-2.81c.8-.78.8-2.07 0-2.86zM5.41 20L4 18.59l7.72-7.72 1.47 1.35L5.41 20z\"/>\n",
              "  </svg>\n",
              "      </button>\n",
              "      \n",
              "  <style>\n",
              "    .colab-df-container {\n",
              "      display:flex;\n",
              "      flex-wrap:wrap;\n",
              "      gap: 12px;\n",
              "    }\n",
              "\n",
              "    .colab-df-convert {\n",
              "      background-color: #E8F0FE;\n",
              "      border: none;\n",
              "      border-radius: 50%;\n",
              "      cursor: pointer;\n",
              "      display: none;\n",
              "      fill: #1967D2;\n",
              "      height: 32px;\n",
              "      padding: 0 0 0 0;\n",
              "      width: 32px;\n",
              "    }\n",
              "\n",
              "    .colab-df-convert:hover {\n",
              "      background-color: #E2EBFA;\n",
              "      box-shadow: 0px 1px 2px rgba(60, 64, 67, 0.3), 0px 1px 3px 1px rgba(60, 64, 67, 0.15);\n",
              "      fill: #174EA6;\n",
              "    }\n",
              "\n",
              "    [theme=dark] .colab-df-convert {\n",
              "      background-color: #3B4455;\n",
              "      fill: #D2E3FC;\n",
              "    }\n",
              "\n",
              "    [theme=dark] .colab-df-convert:hover {\n",
              "      background-color: #434B5C;\n",
              "      box-shadow: 0px 1px 3px 1px rgba(0, 0, 0, 0.15);\n",
              "      filter: drop-shadow(0px 1px 2px rgba(0, 0, 0, 0.3));\n",
              "      fill: #FFFFFF;\n",
              "    }\n",
              "  </style>\n",
              "\n",
              "      <script>\n",
              "        const buttonEl =\n",
              "          document.querySelector('#df-e1ae3658-972f-4997-80b8-ba89e2074713 button.colab-df-convert');\n",
              "        buttonEl.style.display =\n",
              "          google.colab.kernel.accessAllowed ? 'block' : 'none';\n",
              "\n",
              "        async function convertToInteractive(key) {\n",
              "          const element = document.querySelector('#df-e1ae3658-972f-4997-80b8-ba89e2074713');\n",
              "          const dataTable =\n",
              "            await google.colab.kernel.invokeFunction('convertToInteractive',\n",
              "                                                     [key], {});\n",
              "          if (!dataTable) return;\n",
              "\n",
              "          const docLinkHtml = 'Like what you see? Visit the ' +\n",
              "            '<a target=\"_blank\" href=https://colab.research.google.com/notebooks/data_table.ipynb>data table notebook</a>'\n",
              "            + ' to learn more about interactive tables.';\n",
              "          element.innerHTML = '';\n",
              "          dataTable['output_type'] = 'display_data';\n",
              "          await google.colab.output.renderOutput(dataTable, element);\n",
              "          const docLink = document.createElement('div');\n",
              "          docLink.innerHTML = docLinkHtml;\n",
              "          element.appendChild(docLink);\n",
              "        }\n",
              "      </script>\n",
              "    </div>\n",
              "  </div>\n",
              "  "
            ]
          },
          "metadata": {},
          "execution_count": 413
        }
      ]
    },
    {
      "cell_type": "markdown",
      "source": [
        "Now setting up a data pipeline to transform the data. Both the objects/categories and the integers. Because I plan on doing a bit of feature selection down the line. I will set up a data pipline within a function that is aimed at preprocessing the data. This way if I performa forward of backward selection model it will be easier to edit through.\n",
        "\n",
        "It should be noted that df_2 is now primed for Decision Trees or Randomforest.\n",
        "And the function below is set up to scale the data for algorithms such as KNN and Logistic Regression. By using scaled data it will reduce bias.\n",
        "\n",
        "Additionally the function below switched the data types for y, loan, default to make sure they dont go through unwanted transformations"
      ],
      "metadata": {
        "id": "P9ErqLucgSB_"
      }
    },
    {
      "cell_type": "code",
      "source": [
        "def transform_df(df):\n",
        "  \"\"\"This Function is set up to make it easy to transform the data if different\n",
        "   columns are missing\"\"\"\n",
        "  \n",
        "  # Changing the following to int so they dont get dummies\n",
        "  df['y'] = df['y'].astype('int64')\n",
        "  df['loan'] = df['loan'].astype('int64')\n",
        "  df['default'] = df['default'].astype('int64')\n",
        "\n",
        "  # Gathering Dummies for the \n",
        "  df_t = pd.get_dummies(data=df, columns=[col for col in df if df[col].dtype == 'category'])\n",
        "  \n",
        "  # Flipping the y, loan, default back to category so they dont get scaled\n",
        "  df_t['y'] = df_t['y'].astype('category')\n",
        "  df_t['loan'] = df_t['loan'].astype('category')\n",
        "  df_t['default'] = df_t['default'].astype('category')\n",
        "\n",
        "  \n",
        "  # Scaling all the integer data with the MinMaxScaler()\n",
        "  scaler = MinMaxScaler()\n",
        "  s_cols = [col for col in df_t if df_t[col].dtype == 'int64']\n",
        "  df_t[s_cols] = scaler.fit_transform(df_t[s_cols])\n",
        "\n",
        "\n",
        "  return df_t"
      ],
      "metadata": {
        "id": "FE-fvHacz8TW"
      },
      "execution_count": 414,
      "outputs": []
    },
    {
      "cell_type": "markdown",
      "source": [
        "Note that df_3 is a full feature data set. It is just shown below to display that one hot encoding is actually taking place. and that scalling is being conducted."
      ],
      "metadata": {
        "id": "PswAV01nlyuV"
      }
    },
    {
      "cell_type": "code",
      "source": [
        "# Displaying what the newly transformed data looks like\n",
        "df_3 = transform_df(df_2)\n",
        "display(df_3.head())\n",
        "display(df_3.dtypes)"
      ],
      "metadata": {
        "colab": {
          "base_uri": "https://localhost:8080/",
          "height": 0
        },
        "id": "QY1sdqQ018N2",
        "outputId": "d7407ed0-6ca3-4706-897e-e34bbea1d7bc"
      },
      "execution_count": 415,
      "outputs": [
        {
          "output_type": "display_data",
          "data": {
            "text/plain": [
              "        age default   balance loan       day  duration  campaign  y  job_1  \\\n",
              "0  0.519481       0  0.092259    0  0.133333  0.053070       0.0  0      0   \n",
              "1  0.337662       0  0.073067    0  0.133333  0.030704       0.0  0      0   \n",
              "2  0.194805       0  0.072822    1  0.133333  0.015453       0.0  0      0   \n",
              "5  0.220779       0  0.074901    0  0.133333  0.028264       0.0  0      0   \n",
              "6  0.129870       0  0.076862    1  0.133333  0.044124       0.0  0      0   \n",
              "\n",
              "   job_2  ...  month_3  month_4  month_5  month_6  month_7  month_8  month_9  \\\n",
              "0      0  ...        0        0        1        0        0        0        0   \n",
              "1      0  ...        0        0        1        0        0        0        0   \n",
              "2      1  ...        0        0        1        0        0        0        0   \n",
              "5      0  ...        0        0        1        0        0        0        0   \n",
              "6      0  ...        0        0        1        0        0        0        0   \n",
              "\n",
              "   month_10  month_11  month_12  \n",
              "0         0         0         0  \n",
              "1         0         0         0  \n",
              "2         0         0         0  \n",
              "5         0         0         0  \n",
              "6         0         0         0  \n",
              "\n",
              "[5 rows x 39 columns]"
            ],
            "text/html": [
              "\n",
              "  <div id=\"df-478e4681-2f88-47e1-b718-f70e9ff972dd\">\n",
              "    <div class=\"colab-df-container\">\n",
              "      <div>\n",
              "<style scoped>\n",
              "    .dataframe tbody tr th:only-of-type {\n",
              "        vertical-align: middle;\n",
              "    }\n",
              "\n",
              "    .dataframe tbody tr th {\n",
              "        vertical-align: top;\n",
              "    }\n",
              "\n",
              "    .dataframe thead th {\n",
              "        text-align: right;\n",
              "    }\n",
              "</style>\n",
              "<table border=\"1\" class=\"dataframe\">\n",
              "  <thead>\n",
              "    <tr style=\"text-align: right;\">\n",
              "      <th></th>\n",
              "      <th>age</th>\n",
              "      <th>default</th>\n",
              "      <th>balance</th>\n",
              "      <th>loan</th>\n",
              "      <th>day</th>\n",
              "      <th>duration</th>\n",
              "      <th>campaign</th>\n",
              "      <th>y</th>\n",
              "      <th>job_1</th>\n",
              "      <th>job_2</th>\n",
              "      <th>...</th>\n",
              "      <th>month_3</th>\n",
              "      <th>month_4</th>\n",
              "      <th>month_5</th>\n",
              "      <th>month_6</th>\n",
              "      <th>month_7</th>\n",
              "      <th>month_8</th>\n",
              "      <th>month_9</th>\n",
              "      <th>month_10</th>\n",
              "      <th>month_11</th>\n",
              "      <th>month_12</th>\n",
              "    </tr>\n",
              "  </thead>\n",
              "  <tbody>\n",
              "    <tr>\n",
              "      <th>0</th>\n",
              "      <td>0.519481</td>\n",
              "      <td>0</td>\n",
              "      <td>0.092259</td>\n",
              "      <td>0</td>\n",
              "      <td>0.133333</td>\n",
              "      <td>0.053070</td>\n",
              "      <td>0.0</td>\n",
              "      <td>0</td>\n",
              "      <td>0</td>\n",
              "      <td>0</td>\n",
              "      <td>...</td>\n",
              "      <td>0</td>\n",
              "      <td>0</td>\n",
              "      <td>1</td>\n",
              "      <td>0</td>\n",
              "      <td>0</td>\n",
              "      <td>0</td>\n",
              "      <td>0</td>\n",
              "      <td>0</td>\n",
              "      <td>0</td>\n",
              "      <td>0</td>\n",
              "    </tr>\n",
              "    <tr>\n",
              "      <th>1</th>\n",
              "      <td>0.337662</td>\n",
              "      <td>0</td>\n",
              "      <td>0.073067</td>\n",
              "      <td>0</td>\n",
              "      <td>0.133333</td>\n",
              "      <td>0.030704</td>\n",
              "      <td>0.0</td>\n",
              "      <td>0</td>\n",
              "      <td>0</td>\n",
              "      <td>0</td>\n",
              "      <td>...</td>\n",
              "      <td>0</td>\n",
              "      <td>0</td>\n",
              "      <td>1</td>\n",
              "      <td>0</td>\n",
              "      <td>0</td>\n",
              "      <td>0</td>\n",
              "      <td>0</td>\n",
              "      <td>0</td>\n",
              "      <td>0</td>\n",
              "      <td>0</td>\n",
              "    </tr>\n",
              "    <tr>\n",
              "      <th>2</th>\n",
              "      <td>0.194805</td>\n",
              "      <td>0</td>\n",
              "      <td>0.072822</td>\n",
              "      <td>1</td>\n",
              "      <td>0.133333</td>\n",
              "      <td>0.015453</td>\n",
              "      <td>0.0</td>\n",
              "      <td>0</td>\n",
              "      <td>0</td>\n",
              "      <td>1</td>\n",
              "      <td>...</td>\n",
              "      <td>0</td>\n",
              "      <td>0</td>\n",
              "      <td>1</td>\n",
              "      <td>0</td>\n",
              "      <td>0</td>\n",
              "      <td>0</td>\n",
              "      <td>0</td>\n",
              "      <td>0</td>\n",
              "      <td>0</td>\n",
              "      <td>0</td>\n",
              "    </tr>\n",
              "    <tr>\n",
              "      <th>5</th>\n",
              "      <td>0.220779</td>\n",
              "      <td>0</td>\n",
              "      <td>0.074901</td>\n",
              "      <td>0</td>\n",
              "      <td>0.133333</td>\n",
              "      <td>0.028264</td>\n",
              "      <td>0.0</td>\n",
              "      <td>0</td>\n",
              "      <td>0</td>\n",
              "      <td>0</td>\n",
              "      <td>...</td>\n",
              "      <td>0</td>\n",
              "      <td>0</td>\n",
              "      <td>1</td>\n",
              "      <td>0</td>\n",
              "      <td>0</td>\n",
              "      <td>0</td>\n",
              "      <td>0</td>\n",
              "      <td>0</td>\n",
              "      <td>0</td>\n",
              "      <td>0</td>\n",
              "    </tr>\n",
              "    <tr>\n",
              "      <th>6</th>\n",
              "      <td>0.129870</td>\n",
              "      <td>0</td>\n",
              "      <td>0.076862</td>\n",
              "      <td>1</td>\n",
              "      <td>0.133333</td>\n",
              "      <td>0.044124</td>\n",
              "      <td>0.0</td>\n",
              "      <td>0</td>\n",
              "      <td>0</td>\n",
              "      <td>0</td>\n",
              "      <td>...</td>\n",
              "      <td>0</td>\n",
              "      <td>0</td>\n",
              "      <td>1</td>\n",
              "      <td>0</td>\n",
              "      <td>0</td>\n",
              "      <td>0</td>\n",
              "      <td>0</td>\n",
              "      <td>0</td>\n",
              "      <td>0</td>\n",
              "      <td>0</td>\n",
              "    </tr>\n",
              "  </tbody>\n",
              "</table>\n",
              "<p>5 rows × 39 columns</p>\n",
              "</div>\n",
              "      <button class=\"colab-df-convert\" onclick=\"convertToInteractive('df-478e4681-2f88-47e1-b718-f70e9ff972dd')\"\n",
              "              title=\"Convert this dataframe to an interactive table.\"\n",
              "              style=\"display:none;\">\n",
              "        \n",
              "  <svg xmlns=\"http://www.w3.org/2000/svg\" height=\"24px\"viewBox=\"0 0 24 24\"\n",
              "       width=\"24px\">\n",
              "    <path d=\"M0 0h24v24H0V0z\" fill=\"none\"/>\n",
              "    <path d=\"M18.56 5.44l.94 2.06.94-2.06 2.06-.94-2.06-.94-.94-2.06-.94 2.06-2.06.94zm-11 1L8.5 8.5l.94-2.06 2.06-.94-2.06-.94L8.5 2.5l-.94 2.06-2.06.94zm10 10l.94 2.06.94-2.06 2.06-.94-2.06-.94-.94-2.06-.94 2.06-2.06.94z\"/><path d=\"M17.41 7.96l-1.37-1.37c-.4-.4-.92-.59-1.43-.59-.52 0-1.04.2-1.43.59L10.3 9.45l-7.72 7.72c-.78.78-.78 2.05 0 2.83L4 21.41c.39.39.9.59 1.41.59.51 0 1.02-.2 1.41-.59l7.78-7.78 2.81-2.81c.8-.78.8-2.07 0-2.86zM5.41 20L4 18.59l7.72-7.72 1.47 1.35L5.41 20z\"/>\n",
              "  </svg>\n",
              "      </button>\n",
              "      \n",
              "  <style>\n",
              "    .colab-df-container {\n",
              "      display:flex;\n",
              "      flex-wrap:wrap;\n",
              "      gap: 12px;\n",
              "    }\n",
              "\n",
              "    .colab-df-convert {\n",
              "      background-color: #E8F0FE;\n",
              "      border: none;\n",
              "      border-radius: 50%;\n",
              "      cursor: pointer;\n",
              "      display: none;\n",
              "      fill: #1967D2;\n",
              "      height: 32px;\n",
              "      padding: 0 0 0 0;\n",
              "      width: 32px;\n",
              "    }\n",
              "\n",
              "    .colab-df-convert:hover {\n",
              "      background-color: #E2EBFA;\n",
              "      box-shadow: 0px 1px 2px rgba(60, 64, 67, 0.3), 0px 1px 3px 1px rgba(60, 64, 67, 0.15);\n",
              "      fill: #174EA6;\n",
              "    }\n",
              "\n",
              "    [theme=dark] .colab-df-convert {\n",
              "      background-color: #3B4455;\n",
              "      fill: #D2E3FC;\n",
              "    }\n",
              "\n",
              "    [theme=dark] .colab-df-convert:hover {\n",
              "      background-color: #434B5C;\n",
              "      box-shadow: 0px 1px 3px 1px rgba(0, 0, 0, 0.15);\n",
              "      filter: drop-shadow(0px 1px 2px rgba(0, 0, 0, 0.3));\n",
              "      fill: #FFFFFF;\n",
              "    }\n",
              "  </style>\n",
              "\n",
              "      <script>\n",
              "        const buttonEl =\n",
              "          document.querySelector('#df-478e4681-2f88-47e1-b718-f70e9ff972dd button.colab-df-convert');\n",
              "        buttonEl.style.display =\n",
              "          google.colab.kernel.accessAllowed ? 'block' : 'none';\n",
              "\n",
              "        async function convertToInteractive(key) {\n",
              "          const element = document.querySelector('#df-478e4681-2f88-47e1-b718-f70e9ff972dd');\n",
              "          const dataTable =\n",
              "            await google.colab.kernel.invokeFunction('convertToInteractive',\n",
              "                                                     [key], {});\n",
              "          if (!dataTable) return;\n",
              "\n",
              "          const docLinkHtml = 'Like what you see? Visit the ' +\n",
              "            '<a target=\"_blank\" href=https://colab.research.google.com/notebooks/data_table.ipynb>data table notebook</a>'\n",
              "            + ' to learn more about interactive tables.';\n",
              "          element.innerHTML = '';\n",
              "          dataTable['output_type'] = 'display_data';\n",
              "          await google.colab.output.renderOutput(dataTable, element);\n",
              "          const docLink = document.createElement('div');\n",
              "          docLink.innerHTML = docLinkHtml;\n",
              "          element.appendChild(docLink);\n",
              "        }\n",
              "      </script>\n",
              "    </div>\n",
              "  </div>\n",
              "  "
            ]
          },
          "metadata": {}
        },
        {
          "output_type": "display_data",
          "data": {
            "text/plain": [
              "age             float64\n",
              "default        category\n",
              "balance         float64\n",
              "loan           category\n",
              "day             float64\n",
              "duration        float64\n",
              "campaign        float64\n",
              "y              category\n",
              "job_1             uint8\n",
              "job_2             uint8\n",
              "job_3             uint8\n",
              "job_4             uint8\n",
              "job_5             uint8\n",
              "job_6             uint8\n",
              "job_7             uint8\n",
              "job_8             uint8\n",
              "job_9             uint8\n",
              "job_10            uint8\n",
              "job_11            uint8\n",
              "marital_0         uint8\n",
              "marital_1         uint8\n",
              "marital_2         uint8\n",
              "education_0       uint8\n",
              "education_1       uint8\n",
              "education_2       uint8\n",
              "housing_0         uint8\n",
              "housing_1         uint8\n",
              "month_1           uint8\n",
              "month_2           uint8\n",
              "month_3           uint8\n",
              "month_4           uint8\n",
              "month_5           uint8\n",
              "month_6           uint8\n",
              "month_7           uint8\n",
              "month_8           uint8\n",
              "month_9           uint8\n",
              "month_10          uint8\n",
              "month_11          uint8\n",
              "month_12          uint8\n",
              "dtype: object"
            ]
          },
          "metadata": {}
        }
      ]
    },
    {
      "cell_type": "markdown",
      "source": [
        "# Pipelining the Preprocessing\n",
        "- Below is the code used to make a pipeline to preprocess the data"
      ],
      "metadata": {
        "id": "zPwqsaazGL-r"
      }
    },
    {
      "cell_type": "code",
      "source": [
        "# Displaying the Head of the Data to show that is is un-altered.\n",
        "df.head()"
      ],
      "metadata": {
        "colab": {
          "base_uri": "https://localhost:8080/",
          "height": 270
        },
        "id": "QZgTEpBNGV9u",
        "outputId": "5efcda44-0c7c-4f6f-d5b3-f70a74d2c4f6"
      },
      "execution_count": 416,
      "outputs": [
        {
          "output_type": "execute_result",
          "data": {
            "text/plain": [
              "   age           job  marital  education default  balance housing loan  \\\n",
              "0   58    management  married   tertiary      no     2143     yes   no   \n",
              "1   44    technician   single  secondary      no       29     yes   no   \n",
              "2   33  entrepreneur  married  secondary      no        2     yes  yes   \n",
              "3   47   blue-collar  married        NaN      no     1506     yes   no   \n",
              "4   33           NaN   single        NaN      no        1      no   no   \n",
              "\n",
              "  contact  day month  duration  campaign  poutcome   y  \n",
              "0     NaN    5   may       261         1       NaN  no  \n",
              "1     NaN    5   may       151         1       NaN  no  \n",
              "2     NaN    5   may        76         1       NaN  no  \n",
              "3     NaN    5   may        92         1       NaN  no  \n",
              "4     NaN    5   may       198         1       NaN  no  "
            ],
            "text/html": [
              "\n",
              "  <div id=\"df-ce16d251-6035-4980-bcf3-c6b210c68d3c\">\n",
              "    <div class=\"colab-df-container\">\n",
              "      <div>\n",
              "<style scoped>\n",
              "    .dataframe tbody tr th:only-of-type {\n",
              "        vertical-align: middle;\n",
              "    }\n",
              "\n",
              "    .dataframe tbody tr th {\n",
              "        vertical-align: top;\n",
              "    }\n",
              "\n",
              "    .dataframe thead th {\n",
              "        text-align: right;\n",
              "    }\n",
              "</style>\n",
              "<table border=\"1\" class=\"dataframe\">\n",
              "  <thead>\n",
              "    <tr style=\"text-align: right;\">\n",
              "      <th></th>\n",
              "      <th>age</th>\n",
              "      <th>job</th>\n",
              "      <th>marital</th>\n",
              "      <th>education</th>\n",
              "      <th>default</th>\n",
              "      <th>balance</th>\n",
              "      <th>housing</th>\n",
              "      <th>loan</th>\n",
              "      <th>contact</th>\n",
              "      <th>day</th>\n",
              "      <th>month</th>\n",
              "      <th>duration</th>\n",
              "      <th>campaign</th>\n",
              "      <th>poutcome</th>\n",
              "      <th>y</th>\n",
              "    </tr>\n",
              "  </thead>\n",
              "  <tbody>\n",
              "    <tr>\n",
              "      <th>0</th>\n",
              "      <td>58</td>\n",
              "      <td>management</td>\n",
              "      <td>married</td>\n",
              "      <td>tertiary</td>\n",
              "      <td>no</td>\n",
              "      <td>2143</td>\n",
              "      <td>yes</td>\n",
              "      <td>no</td>\n",
              "      <td>NaN</td>\n",
              "      <td>5</td>\n",
              "      <td>may</td>\n",
              "      <td>261</td>\n",
              "      <td>1</td>\n",
              "      <td>NaN</td>\n",
              "      <td>no</td>\n",
              "    </tr>\n",
              "    <tr>\n",
              "      <th>1</th>\n",
              "      <td>44</td>\n",
              "      <td>technician</td>\n",
              "      <td>single</td>\n",
              "      <td>secondary</td>\n",
              "      <td>no</td>\n",
              "      <td>29</td>\n",
              "      <td>yes</td>\n",
              "      <td>no</td>\n",
              "      <td>NaN</td>\n",
              "      <td>5</td>\n",
              "      <td>may</td>\n",
              "      <td>151</td>\n",
              "      <td>1</td>\n",
              "      <td>NaN</td>\n",
              "      <td>no</td>\n",
              "    </tr>\n",
              "    <tr>\n",
              "      <th>2</th>\n",
              "      <td>33</td>\n",
              "      <td>entrepreneur</td>\n",
              "      <td>married</td>\n",
              "      <td>secondary</td>\n",
              "      <td>no</td>\n",
              "      <td>2</td>\n",
              "      <td>yes</td>\n",
              "      <td>yes</td>\n",
              "      <td>NaN</td>\n",
              "      <td>5</td>\n",
              "      <td>may</td>\n",
              "      <td>76</td>\n",
              "      <td>1</td>\n",
              "      <td>NaN</td>\n",
              "      <td>no</td>\n",
              "    </tr>\n",
              "    <tr>\n",
              "      <th>3</th>\n",
              "      <td>47</td>\n",
              "      <td>blue-collar</td>\n",
              "      <td>married</td>\n",
              "      <td>NaN</td>\n",
              "      <td>no</td>\n",
              "      <td>1506</td>\n",
              "      <td>yes</td>\n",
              "      <td>no</td>\n",
              "      <td>NaN</td>\n",
              "      <td>5</td>\n",
              "      <td>may</td>\n",
              "      <td>92</td>\n",
              "      <td>1</td>\n",
              "      <td>NaN</td>\n",
              "      <td>no</td>\n",
              "    </tr>\n",
              "    <tr>\n",
              "      <th>4</th>\n",
              "      <td>33</td>\n",
              "      <td>NaN</td>\n",
              "      <td>single</td>\n",
              "      <td>NaN</td>\n",
              "      <td>no</td>\n",
              "      <td>1</td>\n",
              "      <td>no</td>\n",
              "      <td>no</td>\n",
              "      <td>NaN</td>\n",
              "      <td>5</td>\n",
              "      <td>may</td>\n",
              "      <td>198</td>\n",
              "      <td>1</td>\n",
              "      <td>NaN</td>\n",
              "      <td>no</td>\n",
              "    </tr>\n",
              "  </tbody>\n",
              "</table>\n",
              "</div>\n",
              "      <button class=\"colab-df-convert\" onclick=\"convertToInteractive('df-ce16d251-6035-4980-bcf3-c6b210c68d3c')\"\n",
              "              title=\"Convert this dataframe to an interactive table.\"\n",
              "              style=\"display:none;\">\n",
              "        \n",
              "  <svg xmlns=\"http://www.w3.org/2000/svg\" height=\"24px\"viewBox=\"0 0 24 24\"\n",
              "       width=\"24px\">\n",
              "    <path d=\"M0 0h24v24H0V0z\" fill=\"none\"/>\n",
              "    <path d=\"M18.56 5.44l.94 2.06.94-2.06 2.06-.94-2.06-.94-.94-2.06-.94 2.06-2.06.94zm-11 1L8.5 8.5l.94-2.06 2.06-.94-2.06-.94L8.5 2.5l-.94 2.06-2.06.94zm10 10l.94 2.06.94-2.06 2.06-.94-2.06-.94-.94-2.06-.94 2.06-2.06.94z\"/><path d=\"M17.41 7.96l-1.37-1.37c-.4-.4-.92-.59-1.43-.59-.52 0-1.04.2-1.43.59L10.3 9.45l-7.72 7.72c-.78.78-.78 2.05 0 2.83L4 21.41c.39.39.9.59 1.41.59.51 0 1.02-.2 1.41-.59l7.78-7.78 2.81-2.81c.8-.78.8-2.07 0-2.86zM5.41 20L4 18.59l7.72-7.72 1.47 1.35L5.41 20z\"/>\n",
              "  </svg>\n",
              "      </button>\n",
              "      \n",
              "  <style>\n",
              "    .colab-df-container {\n",
              "      display:flex;\n",
              "      flex-wrap:wrap;\n",
              "      gap: 12px;\n",
              "    }\n",
              "\n",
              "    .colab-df-convert {\n",
              "      background-color: #E8F0FE;\n",
              "      border: none;\n",
              "      border-radius: 50%;\n",
              "      cursor: pointer;\n",
              "      display: none;\n",
              "      fill: #1967D2;\n",
              "      height: 32px;\n",
              "      padding: 0 0 0 0;\n",
              "      width: 32px;\n",
              "    }\n",
              "\n",
              "    .colab-df-convert:hover {\n",
              "      background-color: #E2EBFA;\n",
              "      box-shadow: 0px 1px 2px rgba(60, 64, 67, 0.3), 0px 1px 3px 1px rgba(60, 64, 67, 0.15);\n",
              "      fill: #174EA6;\n",
              "    }\n",
              "\n",
              "    [theme=dark] .colab-df-convert {\n",
              "      background-color: #3B4455;\n",
              "      fill: #D2E3FC;\n",
              "    }\n",
              "\n",
              "    [theme=dark] .colab-df-convert:hover {\n",
              "      background-color: #434B5C;\n",
              "      box-shadow: 0px 1px 3px 1px rgba(0, 0, 0, 0.15);\n",
              "      filter: drop-shadow(0px 1px 2px rgba(0, 0, 0, 0.3));\n",
              "      fill: #FFFFFF;\n",
              "    }\n",
              "  </style>\n",
              "\n",
              "      <script>\n",
              "        const buttonEl =\n",
              "          document.querySelector('#df-ce16d251-6035-4980-bcf3-c6b210c68d3c button.colab-df-convert');\n",
              "        buttonEl.style.display =\n",
              "          google.colab.kernel.accessAllowed ? 'block' : 'none';\n",
              "\n",
              "        async function convertToInteractive(key) {\n",
              "          const element = document.querySelector('#df-ce16d251-6035-4980-bcf3-c6b210c68d3c');\n",
              "          const dataTable =\n",
              "            await google.colab.kernel.invokeFunction('convertToInteractive',\n",
              "                                                     [key], {});\n",
              "          if (!dataTable) return;\n",
              "\n",
              "          const docLinkHtml = 'Like what you see? Visit the ' +\n",
              "            '<a target=\"_blank\" href=https://colab.research.google.com/notebooks/data_table.ipynb>data table notebook</a>'\n",
              "            + ' to learn more about interactive tables.';\n",
              "          element.innerHTML = '';\n",
              "          dataTable['output_type'] = 'display_data';\n",
              "          await google.colab.output.renderOutput(dataTable, element);\n",
              "          const docLink = document.createElement('div');\n",
              "          docLink.innerHTML = docLinkHtml;\n",
              "          element.appendChild(docLink);\n",
              "        }\n",
              "      </script>\n",
              "    </div>\n",
              "  </div>\n",
              "  "
            ]
          },
          "metadata": {},
          "execution_count": 416
        }
      ]
    },
    {
      "cell_type": "code",
      "source": [
        "# Making a copy of df to be used\n",
        "df_p = df.copy()\n",
        "\n",
        "# Dropping columns discovered from Project 1\n",
        "df_p.drop(columns=['poutcome', 'contact', 'day', 'balance',\n",
        "                   'education', 'default'], inplace=True)\n",
        "\n",
        "# Changing the Objects to categories\n",
        "obj_cols = [col for col in df_p if df_p[col].dtype == 'object']\n",
        "for col in df_p.columns:\n",
        "  if col in obj_cols:\n",
        "    df_p[col] = df_p[col].astype('category')\n",
        "\n",
        "# Dropping the remaining Nan rows\n",
        "df_p.dropna(inplace=True)\n",
        "\n",
        "df_p.info()\n",
        "# Conducting the first set of transformation to the data"
      ],
      "metadata": {
        "colab": {
          "base_uri": "https://localhost:8080/"
        },
        "id": "zR8FlqWELUq2",
        "outputId": "b1904697-5af3-4bd3-bac9-9dbfeb2c4cdb"
      },
      "execution_count": 417,
      "outputs": [
        {
          "output_type": "stream",
          "name": "stdout",
          "text": [
            "<class 'pandas.core.frame.DataFrame'>\n",
            "Int64Index: 36699 entries, 0 to 45209\n",
            "Data columns (total 9 columns):\n",
            " #   Column    Non-Null Count  Dtype   \n",
            "---  ------    --------------  -----   \n",
            " 0   age       36699 non-null  int64   \n",
            " 1   job       36699 non-null  category\n",
            " 2   marital   36699 non-null  category\n",
            " 3   housing   36699 non-null  category\n",
            " 4   loan      36699 non-null  category\n",
            " 5   month     36699 non-null  category\n",
            " 6   duration  36699 non-null  int64   \n",
            " 7   campaign  36699 non-null  int64   \n",
            " 8   y         36699 non-null  category\n",
            "dtypes: category(6), int64(3)\n",
            "memory usage: 1.3 MB\n"
          ]
        }
      ]
    },
    {
      "cell_type": "code",
      "source": [
        "# Creating a function for pipeline to be used in KNN\n",
        "def pipeline_transform_1(df):\n",
        "  \"\"\"This function is used to conduct the pipline transformation \n",
        "  for KNN & Logistic Regression\"\"\"\n",
        "  # labels = df.columns\n",
        "  \n",
        "  # Splitting the classification up in to two\n",
        "  df_maj = df[df['y'] == 'no']\n",
        "  df_min = df[df['y'] == 'yes']\n",
        "  sample_num = len(df_maj)\n",
        "\n",
        "  # Resampling the data. This is to reproduce results from project 1\n",
        "  df_min_upsample = resample(df_min, replace=True, n_samples=sample_num, \n",
        "                             random_state=42)\n",
        "  df_b = pd.concat([df_min, df_maj])\n",
        "\n",
        "  # Setting my X an Y Values\n",
        "  # x =  df.loc[:, df.columns != 'y']\n",
        "  # y =  df.loc[:, df.columns == 'y']\n",
        "  x =  df_b.loc[:, df_b.columns != 'y']\n",
        "  y =  df_b.loc[:, df_b.columns == 'y']\n",
        "\n",
        "  # Splitting the data into test and training sets\n",
        "  x_train, x_test, y_train, y_test = train_test_split(x, y.values.ravel(), \n",
        "                                                      test_size=0.2,\n",
        "                                                      random_state=42,\n",
        "                                                      stratify=y, shuffle=True)\n",
        "\n",
        "  # Setting up the pipeline to transform the numeric Data\n",
        "  numFeatures = df.select_dtypes(include=['int64']).columns\n",
        "  numTransformer = Pipeline(steps=[('minmax', MinMaxScaler())])\n",
        "\n",
        "  # Setting up the pipeline to transform the Categorical /  Object data\n",
        "  # This is slightly different from model 1 in the fact that I use onehot over dummies\n",
        "  catFeatures = df.select_dtypes(include=['category']).drop(['y'], axis=1).columns\n",
        "  catTransformer = Pipeline(steps=[('imputer', SimpleImputer(strategy='most_frequent')),\n",
        "                                   ('Onehot Encoding', OneHotEncoder(drop='if_binary'))])\n",
        "\n",
        "  # Setting up a preprocessor\n",
        "  preprocessor = ColumnTransformer(\n",
        "            transformers=[('nums', numTransformer, numFeatures),\n",
        "                          ('cat', catTransformer, catFeatures)])\n",
        "\n",
        "  pipeline = Pipeline(steps=[('preprocessor', preprocessor), \n",
        "                             ('Logistic Regression', LogisticRegression(solver='newton-cg', multi_class='multinomial'))])\n",
        "  model1 = pipeline.fit(x_train, y_train)\n",
        "\n",
        "  print(\"The training score was:\", round(model1.score(x_train, y_train)*100,2))\n",
        "  print(\"The testing score was:\", round(model1.score(x_test, y_test)*100,2))\n",
        "  "
      ],
      "metadata": {
        "id": "g-yASamnGioh"
      },
      "execution_count": 420,
      "outputs": []
    },
    {
      "cell_type": "code",
      "source": [
        "# Running Tests on the different Pipelines for the transformation\n",
        "pipeline_transform_1(df_p)"
      ],
      "metadata": {
        "colab": {
          "base_uri": "https://localhost:8080/"
        },
        "id": "f_7o-hv8HhFJ",
        "outputId": "b06fce68-bdfb-47fa-d6f6-19c64673c912"
      },
      "execution_count": 422,
      "outputs": [
        {
          "output_type": "stream",
          "name": "stdout",
          "text": [
            "The training score was: 91.74\n",
            "The testing score was: 91.12\n"
          ]
        }
      ]
    },
    {
      "cell_type": "markdown",
      "source": [
        "# 2). Use Nested cross-validation to optimize and compare the performance of the machine learning algorithms you are using to model your data.\n",
        "\n",
        "- In order to perform a more equal comparison of your models' performance, and to ensure that we have the best set of hyperparameters in use, implement nested cross-validation for each pipeline using the GridSearchCV class and cross_val_score function.\n",
        "\n",
        "- For each of the pipelines that I am comparing, create a list of values for each applicable hyperparamter and provide it as the param_grid for the GridSearchCV class.\n",
        "\n",
        "- Compare this nested cross-validation technique to the model comparison I performed in project 1.\n",
        "\n",
        "- Are my findings different now that the pipelines are tuned and compared in an unbiased manner"
      ],
      "metadata": {
        "id": "ycCa35xQrAoB"
      }
    },
    {
      "cell_type": "markdown",
      "source": [
        "## Imbalanced Testing Data"
      ],
      "metadata": {
        "id": "DCuAfAAdpOjE"
      }
    },
    {
      "cell_type": "markdown",
      "source": [
        "Now that we have a transforming method it is time to start looking at if we have equally weight output labels. We do not. Therefore, the next steps are going to be aimed at evening out this training data set. The method that is used is resampling. This is done by over sampling the with replacement until the client respondants with yes is equal to that of those saying no. (1,0)"
      ],
      "metadata": {
        "id": "hBP4cEkcpavQ"
      }
    },
    {
      "cell_type": "code",
      "source": [
        "# Showing the imbalance with the classification variable\n",
        "display(df_3['y'].value_counts())"
      ],
      "metadata": {
        "colab": {
          "base_uri": "https://localhost:8080/",
          "height": 69
        },
        "id": "os5OrZRW8c5X",
        "outputId": "a212ead9-f49b-4449-9ac3-2f2670ee12f6"
      },
      "execution_count": null,
      "outputs": [
        {
          "output_type": "display_data",
          "data": {
            "text/plain": [
              "0    32059\n",
              "1     3222\n",
              "Name: y, dtype: int64"
            ]
          },
          "metadata": {}
        }
      ]
    },
    {
      "cell_type": "code",
      "source": [
        "def train_data_w_resample(df):\n",
        "  \"\"\"This function is aimed at creating test train that has balanced classes\"\"\"\n",
        "  df_maj = df[df['y'] == 0]\n",
        "  df_min = df[df['y'] == 1]\n",
        "\n",
        "  # Finding the number of samples that we need for a 50/50 Split\n",
        "  sample_num = len(df_maj)\n",
        "\n",
        "  df_min_upsample = resample(df_min, replace=True, n_samples=sample_num, \n",
        "                             random_state=42)\n",
        "\n",
        "  df_unsampled = pd.concat([df_maj, df_min_upsample])\n",
        "\n",
        "  return df_unsampled"
      ],
      "metadata": {
        "id": "Bj2wZAJxIzbl"
      },
      "execution_count": null,
      "outputs": []
    },
    {
      "cell_type": "code",
      "source": [
        "def train_data(df):\n",
        "  \"\"\"This Function is set up to help make it easier to pass\n",
        "  different datasets through for training. It also uses \n",
        "  resampling\"\"\"\n",
        "\n",
        "  # Dividing up x and y\n",
        "  X_all = df.loc[:, df.columns != 'y']\n",
        "  Y_all = df.loc[:, df.columns == 'y']\n",
        "\n",
        "  # creating a train and test set\n",
        "  x_train, x_test, y_train, y_test = train_test_split(\n",
        "      X_all, Y_all, test_size=0.2, random_state=42, stratify=Y_all, shuffle=True)\n",
        "  \n",
        "  # Back up line incase I need to turn y into an array\n",
        "  # X_all, Y_all.values.ravel(), test_size=0.2, random_state=42, stratify=Y_all)\n",
        "  \n",
        "  return x_train, x_test, y_train, y_test"
      ],
      "metadata": {
        "id": "l4JrZUao7pca"
      },
      "execution_count": null,
      "outputs": []
    },
    {
      "cell_type": "code",
      "source": [
        "# Showing a test of training df_3\n",
        "x_train_1, x_test_1, y_train_1, y_test_1 = train_data(df_3)\n",
        "y_train_1.value_counts()"
      ],
      "metadata": {
        "colab": {
          "base_uri": "https://localhost:8080/"
        },
        "id": "SHV0ByUAK2VX",
        "outputId": "debb5d95-3bf9-4596-9ce5-49066b04016b"
      },
      "execution_count": null,
      "outputs": [
        {
          "output_type": "execute_result",
          "data": {
            "text/plain": [
              "y\n",
              "0    25646\n",
              "1     2578\n",
              "dtype: int64"
            ]
          },
          "metadata": {},
          "execution_count": 1361
        }
      ]
    },
    {
      "cell_type": "code",
      "source": [
        "# Sending off the x and y training samples to get resampled\n",
        "df_train = pd.concat([x_train_1.reset_index(drop=True), y_train_1.reset_index(drop=True)], axis=1)\n",
        "train_resampled = train_data_w_resample(df_train)\n",
        "\n",
        "# Splitting the data back up in to the test and training sample for\n",
        "# The models to be used later\n",
        "x_train_re = train_resampled.loc[:, train_resampled.columns != 'y']\n",
        "y_train_re = train_resampled.loc[:, train_resampled.columns == 'y']"
      ],
      "metadata": {
        "id": "KPJ6Bwz3LJG9"
      },
      "execution_count": null,
      "outputs": []
    },
    {
      "cell_type": "code",
      "source": [
        "# Showing how the data has now been resampled to create equal outputs\n",
        "y_train_re.value_counts()"
      ],
      "metadata": {
        "colab": {
          "base_uri": "https://localhost:8080/"
        },
        "id": "qjzW6_yy-rfF",
        "outputId": "64ab4763-9a4a-4a94-d5c4-6c8365137fba"
      },
      "execution_count": null,
      "outputs": [
        {
          "output_type": "execute_result",
          "data": {
            "text/plain": [
              "y\n",
              "0    25646\n",
              "1    25646\n",
              "dtype: int64"
            ]
          },
          "metadata": {},
          "execution_count": 1363
        }
      ]
    },
    {
      "cell_type": "markdown",
      "source": [
        "## Feature Selection Analysis\n",
        "One of the requirements is to perform some feature selection. Below are a few methods that are used for determining the feature select.\n",
        "\n",
        "I will use the random forest for features selection. Because Random forest does not need one hote encoded or scaled data I will use. df_2. Random Forest does not perform well with unbalanced data. Therefore I will use the training test balancing above. df_3 is actually a fully one hot encoded and scaled. Where df_2 has numeric label encoding, but has not been scaled or one hot encoded."
      ],
      "metadata": {
        "id": "S8M2tHHuDquz"
      }
    },
    {
      "cell_type": "code",
      "source": [
        "# Creating Balanced Training set of DF_2\n",
        "x_train_rf, x_test_rf, y_train_rf, y_test_rf = train_data(df_2)\n",
        "df_rf_train = pd.concat([x_train_rf.reset_index(drop=True), y_train_rf.reset_index(drop=True)], axis=1)\n",
        "train_rf_resampled = train_data_w_resample(df_rf_train)\n",
        "x_train_rf_re = train_rf_resampled.loc[:, train_rf_resampled.columns != 'y']\n",
        "y_train_rf_re = train_rf_resampled.loc[:, train_rf_resampled.columns == 'y']"
      ],
      "metadata": {
        "id": "ap6uycY4t44J"
      },
      "execution_count": null,
      "outputs": []
    },
    {
      "cell_type": "code",
      "source": [
        "# Note that this code closely follows the book Random forest feature selection\n",
        "\n",
        "# Gathering Labels\n",
        "rf_labels = train_rf_resampled.columns[1:]\n",
        "\n",
        "# Creating the RandomForest with 500 estimators\n",
        "forest = RandomForestClassifier(n_estimators=500, random_state=42)\n",
        "\n",
        "# Training the model\n",
        "forest.fit(x_train_rf_re, y_train_rf_re.values.ravel())\n",
        "\n",
        "# Gathering the importances\n",
        "importances = forest.feature_importances_\n",
        "indices = np.argsort(importances)[::-1]\n",
        "\n",
        "# Printing the Results\n",
        "for f in range(x_train_rf_re.shape[1]):\n",
        "  print(\"%2d) %-*s %f\" % (f + 1, 30, rf_labels[indices[f]], importances[indices[f]]))"
      ],
      "metadata": {
        "colab": {
          "base_uri": "https://localhost:8080/"
        },
        "id": "hFrxMm80H8KY",
        "outputId": "0c299ff4-fc0c-438f-f176-992e7831acef"
      },
      "execution_count": null,
      "outputs": [
        {
          "output_type": "stream",
          "name": "stdout",
          "text": [
            " 1) campaign                       0.453697\n",
            " 2) duration                       0.098869\n",
            " 3) housing                        0.096995\n",
            " 4) job                            0.095857\n",
            " 5) month                          0.088555\n",
            " 6) marital                        0.040854\n",
            " 7) y                              0.038455\n",
            " 8) loan                           0.036382\n",
            " 9) default                        0.019754\n",
            "10) education                      0.018124\n",
            "11) day                            0.010853\n",
            "12) balance                        0.001606\n"
          ]
        }
      ]
    },
    {
      "cell_type": "code",
      "source": [
        "# Graphing the Feature Importance\n",
        "plt.title(\"Feature Importance\")\n",
        "plt.bar(range(x_train_rf_re.shape[1]), importances[indices], align='center')\n",
        "plt.xticks(range(x_train_rf_re.shape[1]), rf_labels[indices], rotation=90)\n",
        "plt.xlim(-1, x_train_rf_re.shape[1])\n",
        "plt.tight_layout()"
      ],
      "metadata": {
        "colab": {
          "base_uri": "https://localhost:8080/",
          "height": 297
        },
        "id": "wm2rs0VhGLen",
        "outputId": "07083acb-5cc7-44a2-9a81-955ec912c218"
      },
      "execution_count": null,
      "outputs": [
        {
          "output_type": "display_data",
          "data": {
            "text/plain": [
              "<Figure size 432x288 with 1 Axes>"
            ],
            "image/png": "[encoded data removed]"
          },
          "metadata": {
            "needs_background": "light"
          }
        }
      ]
    },
    {
      "cell_type": "markdown",
      "source": [
        "After looking at the feature imporance for y. It becomes apparent that\n",
        "we can drop balance, day, eduction, loan, default. Educationally especially\n",
        "because we imputed certain values. These are surprising results for seeing that balance is not a factor. On the other side it is not surprising to see that day is not a factor. It is also surprising to see that loan and default are not higher factors, but that the campaign and the duration are actually big contributing factors.\n",
        "\n",
        "The next bit of code will be removing these variables for df_4. I will also make a training set that has one hot encoding for the remaining models.\n"
      ],
      "metadata": {
        "id": "jEhSE6WlHaPe"
      }
    },
    {
      "cell_type": "code",
      "source": [
        "df_4 = df_2.drop(['day', 'balance', 'education', 'default'], axis=1).copy()\n",
        "df_4.head()"
      ],
      "metadata": {
        "colab": {
          "base_uri": "https://localhost:8080/",
          "height": 206
        },
        "id": "K-HHIilpIG4A",
        "outputId": "6bd2ae4c-c658-42f8-dd94-913982b7a0c7"
      },
      "execution_count": null,
      "outputs": [
        {
          "output_type": "execute_result",
          "data": {
            "text/plain": [
              "   age job marital housing  loan month  duration  campaign  y\n",
              "0   58   4       1       1     0     5       261         1  0\n",
              "1   44   9       2       1     0     5       151         1  0\n",
              "2   33   2       1       1     1     5        76         1  0\n",
              "5   35   4       1       1     0     5       139         1  0\n",
              "6   28   4       2       1     1     5       217         1  0"
            ],
            "text/html": [
              "\n",
              "  <div id=\"df-bf1478ab-7ab2-41a8-8d41-fa0fe3db9187\">\n",
              "    <div class=\"colab-df-container\">\n",
              "      <div>\n",
              "<style scoped>\n",
              "    .dataframe tbody tr th:only-of-type {\n",
              "        vertical-align: middle;\n",
              "    }\n",
              "\n",
              "    .dataframe tbody tr th {\n",
              "        vertical-align: top;\n",
              "    }\n",
              "\n",
              "    .dataframe thead th {\n",
              "        text-align: right;\n",
              "    }\n",
              "</style>\n",
              "<table border=\"1\" class=\"dataframe\">\n",
              "  <thead>\n",
              "    <tr style=\"text-align: right;\">\n",
              "      <th></th>\n",
              "      <th>age</th>\n",
              "      <th>job</th>\n",
              "      <th>marital</th>\n",
              "      <th>housing</th>\n",
              "      <th>loan</th>\n",
              "      <th>month</th>\n",
              "      <th>duration</th>\n",
              "      <th>campaign</th>\n",
              "      <th>y</th>\n",
              "    </tr>\n",
              "  </thead>\n",
              "  <tbody>\n",
              "    <tr>\n",
              "      <th>0</th>\n",
              "      <td>58</td>\n",
              "      <td>4</td>\n",
              "      <td>1</td>\n",
              "      <td>1</td>\n",
              "      <td>0</td>\n",
              "      <td>5</td>\n",
              "      <td>261</td>\n",
              "      <td>1</td>\n",
              "      <td>0</td>\n",
              "    </tr>\n",
              "    <tr>\n",
              "      <th>1</th>\n",
              "      <td>44</td>\n",
              "      <td>9</td>\n",
              "      <td>2</td>\n",
              "      <td>1</td>\n",
              "      <td>0</td>\n",
              "      <td>5</td>\n",
              "      <td>151</td>\n",
              "      <td>1</td>\n",
              "      <td>0</td>\n",
              "    </tr>\n",
              "    <tr>\n",
              "      <th>2</th>\n",
              "      <td>33</td>\n",
              "      <td>2</td>\n",
              "      <td>1</td>\n",
              "      <td>1</td>\n",
              "      <td>1</td>\n",
              "      <td>5</td>\n",
              "      <td>76</td>\n",
              "      <td>1</td>\n",
              "      <td>0</td>\n",
              "    </tr>\n",
              "    <tr>\n",
              "      <th>5</th>\n",
              "      <td>35</td>\n",
              "      <td>4</td>\n",
              "      <td>1</td>\n",
              "      <td>1</td>\n",
              "      <td>0</td>\n",
              "      <td>5</td>\n",
              "      <td>139</td>\n",
              "      <td>1</td>\n",
              "      <td>0</td>\n",
              "    </tr>\n",
              "    <tr>\n",
              "      <th>6</th>\n",
              "      <td>28</td>\n",
              "      <td>4</td>\n",
              "      <td>2</td>\n",
              "      <td>1</td>\n",
              "      <td>1</td>\n",
              "      <td>5</td>\n",
              "      <td>217</td>\n",
              "      <td>1</td>\n",
              "      <td>0</td>\n",
              "    </tr>\n",
              "  </tbody>\n",
              "</table>\n",
              "</div>\n",
              "      <button class=\"colab-df-convert\" onclick=\"convertToInteractive('df-bf1478ab-7ab2-41a8-8d41-fa0fe3db9187')\"\n",
              "              title=\"Convert this dataframe to an interactive table.\"\n",
              "              style=\"display:none;\">\n",
              "        \n",
              "  <svg xmlns=\"http://www.w3.org/2000/svg\" height=\"24px\"viewBox=\"0 0 24 24\"\n",
              "       width=\"24px\">\n",
              "    <path d=\"M0 0h24v24H0V0z\" fill=\"none\"/>\n",
              "    <path d=\"M18.56 5.44l.94 2.06.94-2.06 2.06-.94-2.06-.94-.94-2.06-.94 2.06-2.06.94zm-11 1L8.5 8.5l.94-2.06 2.06-.94-2.06-.94L8.5 2.5l-.94 2.06-2.06.94zm10 10l.94 2.06.94-2.06 2.06-.94-2.06-.94-.94-2.06-.94 2.06-2.06.94z\"/><path d=\"M17.41 7.96l-1.37-1.37c-.4-.4-.92-.59-1.43-.59-.52 0-1.04.2-1.43.59L10.3 9.45l-7.72 7.72c-.78.78-.78 2.05 0 2.83L4 21.41c.39.39.9.59 1.41.59.51 0 1.02-.2 1.41-.59l7.78-7.78 2.81-2.81c.8-.78.8-2.07 0-2.86zM5.41 20L4 18.59l7.72-7.72 1.47 1.35L5.41 20z\"/>\n",
              "  </svg>\n",
              "      </button>\n",
              "      \n",
              "  <style>\n",
              "    .colab-df-container {\n",
              "      display:flex;\n",
              "      flex-wrap:wrap;\n",
              "      gap: 12px;\n",
              "    }\n",
              "\n",
              "    .colab-df-convert {\n",
              "      background-color: #E8F0FE;\n",
              "      border: none;\n",
              "      border-radius: 50%;\n",
              "      cursor: pointer;\n",
              "      display: none;\n",
              "      fill: #1967D2;\n",
              "      height: 32px;\n",
              "      padding: 0 0 0 0;\n",
              "      width: 32px;\n",
              "    }\n",
              "\n",
              "    .colab-df-convert:hover {\n",
              "      background-color: #E2EBFA;\n",
              "      box-shadow: 0px 1px 2px rgba(60, 64, 67, 0.3), 0px 1px 3px 1px rgba(60, 64, 67, 0.15);\n",
              "      fill: #174EA6;\n",
              "    }\n",
              "\n",
              "    [theme=dark] .colab-df-convert {\n",
              "      background-color: #3B4455;\n",
              "      fill: #D2E3FC;\n",
              "    }\n",
              "\n",
              "    [theme=dark] .colab-df-convert:hover {\n",
              "      background-color: #434B5C;\n",
              "      box-shadow: 0px 1px 3px 1px rgba(0, 0, 0, 0.15);\n",
              "      filter: drop-shadow(0px 1px 2px rgba(0, 0, 0, 0.3));\n",
              "      fill: #FFFFFF;\n",
              "    }\n",
              "  </style>\n",
              "\n",
              "      <script>\n",
              "        const buttonEl =\n",
              "          document.querySelector('#df-bf1478ab-7ab2-41a8-8d41-fa0fe3db9187 button.colab-df-convert');\n",
              "        buttonEl.style.display =\n",
              "          google.colab.kernel.accessAllowed ? 'block' : 'none';\n",
              "\n",
              "        async function convertToInteractive(key) {\n",
              "          const element = document.querySelector('#df-bf1478ab-7ab2-41a8-8d41-fa0fe3db9187');\n",
              "          const dataTable =\n",
              "            await google.colab.kernel.invokeFunction('convertToInteractive',\n",
              "                                                     [key], {});\n",
              "          if (!dataTable) return;\n",
              "\n",
              "          const docLinkHtml = 'Like what you see? Visit the ' +\n",
              "            '<a target=\"_blank\" href=https://colab.research.google.com/notebooks/data_table.ipynb>data table notebook</a>'\n",
              "            + ' to learn more about interactive tables.';\n",
              "          element.innerHTML = '';\n",
              "          dataTable['output_type'] = 'display_data';\n",
              "          await google.colab.output.renderOutput(dataTable, element);\n",
              "          const docLink = document.createElement('div');\n",
              "          docLink.innerHTML = docLinkHtml;\n",
              "          element.appendChild(docLink);\n",
              "        }\n",
              "      </script>\n",
              "    </div>\n",
              "  </div>\n",
              "  "
            ]
          },
          "metadata": {},
          "execution_count": 1367
        }
      ]
    },
    {
      "cell_type": "code",
      "source": [
        "# Creating Balanced Training set of DF_4\n",
        "# Also creating a one hot encoding\n",
        "x_train_fs, x_test_fs, y_train_fs, y_test_fs = train_data(df_4)\n",
        "df_fs_train = pd.concat([x_train_fs.reset_index(drop=True), y_train_fs.reset_index(drop=True)], axis=1)\n",
        "train_fs_resampled = train_data_w_resample(df_fs_train)\n",
        "x_train_fs_re = train_fs_resampled.loc[:, train_fs_resampled.columns != 'y']\n",
        "y_train_fs_re = train_fs_resampled.loc[:, train_fs_resampled.columns == 'y']"
      ],
      "metadata": {
        "id": "CLe9jka7JMWE"
      },
      "execution_count": null,
      "outputs": []
    },
    {
      "cell_type": "markdown",
      "metadata": {
        "id": "N5nfbw5lZER9"
      },
      "source": [
        "# 3). Create a confusion matric\n",
        "\n",
        "- Create a confusion matrix showing the TP, FP, TN, and FN values for each of the three optimized pipelines that were created using nested cross validation in step 2.\n",
        "\n",
        "- Visualize the confusion matrix using a similar technique to the on e that was used in the ch06 example"
      ]
    },
    {
      "cell_type": "markdown",
      "source": [
        "## Model 1: Logistic Regression"
      ],
      "metadata": {
        "id": "C5xfy0jIgV-Y"
      }
    },
    {
      "cell_type": "code",
      "execution_count": null,
      "metadata": {
        "id": "NsXtnKrAZGDQ",
        "colab": {
          "base_uri": "https://localhost:8080/",
          "height": 88
        },
        "outputId": "77ab7341-f6a5-49d6-d8d2-59389af57f06"
      },
      "outputs": [
        {
          "output_type": "display_data",
          "data": {
            "text/plain": [
              "'Training score:'"
            ],
            "application/vnd.google.colaboratory.intrinsic+json": {
              "type": "string"
            }
          },
          "metadata": {}
        },
        {
          "output_type": "display_data",
          "data": {
            "text/plain": [
              "79.65"
            ]
          },
          "metadata": {}
        },
        {
          "output_type": "display_data",
          "data": {
            "text/plain": [
              "'Testing score:'"
            ],
            "application/vnd.google.colaboratory.intrinsic+json": {
              "type": "string"
            }
          },
          "metadata": {}
        },
        {
          "output_type": "display_data",
          "data": {
            "text/plain": [
              "81.62"
            ]
          },
          "metadata": {}
        }
      ],
      "source": [
        "# Model Code 1: Logistic Regression\n",
        "logistic_eval = Pipeline(steps=[('classifier', LogisticRegression(solver='newton-cg', multi_class='multinomial'))])\n",
        "logistic_eval.fit(x_train_fs_re, y_train_fs_re.values.ravel())\n",
        "\n",
        "# Printing the accuracy of the test\n",
        "display(\"Training score:\", round(logistic_eval.score(x_train_fs_re, y_train_fs_re)*100,2))\n",
        "display(\"Testing score:\", round(logistic_eval.score(x_test_fs, y_test_fs)*100,2))"
      ]
    },
    {
      "cell_type": "code",
      "source": [
        "#  Creating Predictions for the logistic regression\n",
        "y_logistic_pred = logistic_eval.predict(x_test_fs)\n",
        "\n",
        "# Creating a confusion matrix to look at different Scores\n",
        "conf_matrix_log = confusion_matrix(y_test_fs, y_logistic_pred)\n",
        "\n",
        "# Displaying the Confusion Matrix\n",
        "log_labels = ['no','yes']\n",
        "ConfusionMatrixDisplay(conf_matrix_log, display_labels=log_labels).plot()\n",
        "plt.show()"
      ],
      "metadata": {
        "colab": {
          "base_uri": "https://localhost:8080/",
          "height": 279
        },
        "id": "VQxXE7xranni",
        "outputId": "b9c9bf9b-8281-4d99-a5eb-7e65f8e1dfd1"
      },
      "execution_count": null,
      "outputs": [
        {
          "output_type": "display_data",
          "data": {
            "text/plain": [
              "<Figure size 432x288 with 2 Axes>"
            ],
            "image/png": "[encoded data removed]"
          },
          "metadata": {
            "needs_background": "light"
          }
        }
      ]
    },
    {
      "cell_type": "code",
      "source": [
        "# Computing the precision, recall, and f1 scores for the Logistic Regresion\n",
        "display(\"Precision Score: \", precision_score(y_true=y_test_fs, y_pred=y_logistic_pred))\n",
        "display(\"Recall Score: \", recall_score(y_true=y_test_fs, y_pred=y_logistic_pred))\n",
        "display(\"F1 Score:\", f1_score(y_true=y_test_fs, y_pred=y_logistic_pred))"
      ],
      "metadata": {
        "colab": {
          "base_uri": "https://localhost:8080/",
          "height": 124
        },
        "id": "AB2UiEGXa0SY",
        "outputId": "c52350bf-c3d6-4743-dd7b-7a3f9fd4e267"
      },
      "execution_count": null,
      "outputs": [
        {
          "output_type": "display_data",
          "data": {
            "text/plain": [
              "'Precision Score: '"
            ],
            "application/vnd.google.colaboratory.intrinsic+json": {
              "type": "string"
            }
          },
          "metadata": {}
        },
        {
          "output_type": "display_data",
          "data": {
            "text/plain": [
              "0.29190567240280435"
            ]
          },
          "metadata": {}
        },
        {
          "output_type": "display_data",
          "data": {
            "text/plain": [
              "'Recall Score: '"
            ],
            "application/vnd.google.colaboratory.intrinsic+json": {
              "type": "string"
            }
          },
          "metadata": {}
        },
        {
          "output_type": "display_data",
          "data": {
            "text/plain": [
              "0.7111801242236024"
            ]
          },
          "metadata": {}
        },
        {
          "output_type": "display_data",
          "data": {
            "text/plain": [
              "'F1 Score:'"
            ],
            "application/vnd.google.colaboratory.intrinsic+json": {
              "type": "string"
            }
          },
          "metadata": {}
        },
        {
          "output_type": "display_data",
          "data": {
            "text/plain": [
              "0.4139177586985992"
            ]
          },
          "metadata": {}
        }
      ]
    },
    {
      "cell_type": "markdown",
      "source": [
        "## Model 2: K-Nearest Neighbour\n",
        "\n",
        "To start the K-Nearest Neighbour I will use K means to determine where the elbow is to figure out how many clusters I want to use. It is a bit crude, but better than just guessing."
      ],
      "metadata": {
        "id": "rY2lASZCgQeG"
      }
    },
    {
      "cell_type": "code",
      "source": [
        "# Using the Elbow Method for determining the Number of Clusters\n",
        "kmeans_kwargs = {\"init\":\"random\", \"n_init\": x_train_rf_re.shape[1], \"max_iter\":500, \"random_state\":42}\n",
        "\n",
        "# Setting up lists to hold the SS Values\n",
        "# Setting up a list to hold SSE Values\n",
        "clusters = []\n",
        "inertia_vals = []\n",
        "\n",
        "# Looping through the different amounts of values\n",
        "for k in range(1,11):\n",
        "    km = KMeans(n_clusters=k, **kmeans_kwargs)\n",
        "    km.fit(x_train_rf_re)\n",
        "    clusters.append(km.inertia_)\n",
        "\n",
        "    # Appending model to cluster list\n",
        "    clusters.append(km)\n",
        "    inertia_vals.append(km.inertia_)\n",
        "\n",
        "# plot the inertia vs K values\n",
        "plt.plot(range(1,11), inertia_vals, marker='*')\n",
        "plt.xlabel('# of Clusters')\n",
        "plt.ylabel('inertial Val')\n",
        "plt.title('Elbow Plot')\n",
        "plt.show()"
      ],
      "metadata": {
        "colab": {
          "base_uri": "https://localhost:8080/",
          "height": 295
        },
        "id": "ur_P2u6fWupz",
        "outputId": "c7ab8c1e-407f-47e7-b406-de903cab035b"
      },
      "execution_count": null,
      "outputs": [
        {
          "output_type": "display_data",
          "data": {
            "text/plain": [
              "<Figure size 432x288 with 1 Axes>"
            ],
            "image/png": "[encoded data removed]"
          },
          "metadata": {
            "needs_background": "light"
          }
        }
      ]
    },
    {
      "cell_type": "markdown",
      "source": [
        "The Elbow looks to be at 4 clusters."
      ],
      "metadata": {
        "id": "V8wNkxHJYW55"
      }
    },
    {
      "cell_type": "code",
      "source": [
        "# Model Code 2: K-Nearest Neighbour\n",
        "knn_classifier = KNeighborsClassifier(n_neighbors=4)\n",
        "knn_classifier.fit(x_train_fs_re, y_train_fs_re.values.ravel())\n",
        "\n",
        "# Printing the accuracy of the test\n",
        "display(\"Training score:\", round(knn_classifier.score(x_train_fs_re, y_train_fs_re)*100,2))\n",
        "display(\"Testing score:\", round(knn_classifier.score(x_test_fs, y_test_fs)*100,2))"
      ],
      "metadata": {
        "colab": {
          "base_uri": "https://localhost:8080/",
          "height": 88
        },
        "id": "wIfb7IT863M3",
        "outputId": "24da6a0f-8a75-475a-d91a-d9df2db08107"
      },
      "execution_count": null,
      "outputs": [
        {
          "output_type": "display_data",
          "data": {
            "text/plain": [
              "'Training score:'"
            ],
            "application/vnd.google.colaboratory.intrinsic+json": {
              "type": "string"
            }
          },
          "metadata": {}
        },
        {
          "output_type": "display_data",
          "data": {
            "text/plain": [
              "96.88"
            ]
          },
          "metadata": {}
        },
        {
          "output_type": "display_data",
          "data": {
            "text/plain": [
              "'Testing score:'"
            ],
            "application/vnd.google.colaboratory.intrinsic+json": {
              "type": "string"
            }
          },
          "metadata": {}
        },
        {
          "output_type": "display_data",
          "data": {
            "text/plain": [
              "84.67"
            ]
          },
          "metadata": {}
        }
      ]
    },
    {
      "cell_type": "code",
      "source": [
        "#  Creating Predictions for the logistic regression\n",
        "y_knn_pred = knn_classifier.predict(x_test_fs)\n",
        "\n",
        "# Creating a confusion matrix to look at different Scores\n",
        "conf_matrix_knn = confusion_matrix(y_test_fs, y_knn_pred)\n",
        "\n",
        "# Displaying the Confusion Matrix\n",
        "log_labels = ['no','yes']\n",
        "ConfusionMatrixDisplay(conf_matrix_knn, display_labels=log_labels).plot()\n",
        "plt.show()"
      ],
      "metadata": {
        "colab": {
          "base_uri": "https://localhost:8080/",
          "height": 279
        },
        "id": "SrEWQGrdfx2Q",
        "outputId": "cce8b5ac-d65f-4180-ef73-7aa27751c5f8"
      },
      "execution_count": null,
      "outputs": [
        {
          "output_type": "display_data",
          "data": {
            "text/plain": [
              "<Figure size 432x288 with 2 Axes>"
            ],
            "image/png": "[encoded data removed]"
          },
          "metadata": {
            "needs_background": "light"
          }
        }
      ]
    },
    {
      "cell_type": "code",
      "source": [
        "# Computing the precision, recall, and f1 scores for the KNN\n",
        "display(\"Precision Score: \", precision_score(y_true=y_test_fs, y_pred=y_knn_pred))\n",
        "display(\"Recall Score: \", recall_score(y_true=y_test_fs, y_pred=y_knn_pred))\n",
        "display(\"F1 Score:\", f1_score(y_true=y_test_fs, y_pred=y_knn_pred))"
      ],
      "metadata": {
        "colab": {
          "base_uri": "https://localhost:8080/",
          "height": 124
        },
        "id": "SUWOR2usbz4e",
        "outputId": "a4e557fc-fcec-4fb8-8402-d8d2fafc06e7"
      },
      "execution_count": null,
      "outputs": [
        {
          "output_type": "display_data",
          "data": {
            "text/plain": [
              "'Precision Score: '"
            ],
            "application/vnd.google.colaboratory.intrinsic+json": {
              "type": "string"
            }
          },
          "metadata": {}
        },
        {
          "output_type": "display_data",
          "data": {
            "text/plain": [
              "0.28654970760233917"
            ]
          },
          "metadata": {}
        },
        {
          "output_type": "display_data",
          "data": {
            "text/plain": [
              "'Recall Score: '"
            ],
            "application/vnd.google.colaboratory.intrinsic+json": {
              "type": "string"
            }
          },
          "metadata": {}
        },
        {
          "output_type": "display_data",
          "data": {
            "text/plain": [
              "0.45652173913043476"
            ]
          },
          "metadata": {}
        },
        {
          "output_type": "display_data",
          "data": {
            "text/plain": [
              "'F1 Score:'"
            ],
            "application/vnd.google.colaboratory.intrinsic+json": {
              "type": "string"
            }
          },
          "metadata": {}
        },
        {
          "output_type": "display_data",
          "data": {
            "text/plain": [
              "0.35209580838323357"
            ]
          },
          "metadata": {}
        }
      ]
    },
    {
      "cell_type": "markdown",
      "source": [
        "## Model 3: Decision Tree"
      ],
      "metadata": {
        "id": "oKYj8s_Qg_Xd"
      }
    },
    {
      "cell_type": "markdown",
      "source": [
        "It must be noted that for the decision tree I use the same training and testing that the random rain forrest did above. The reason for this was to not enclude scaling or one hot encoding. "
      ],
      "metadata": {
        "id": "Yu9rnqjLMuvr"
      }
    },
    {
      "cell_type": "code",
      "source": [
        "# Model Code 3: Decision Tree\n",
        "tree_model = DecisionTreeClassifier(criterion='gini', max_depth=6, random_state=42)\n",
        "tree_model.fit(x_train_rf_re, y_train_rf_re)\n",
        "\n",
        "# Printing the accuracy of the test\n",
        "display(\"Training score:\", round(tree_model.score(x_train_rf_re, y_train_rf_re)*100,2))\n",
        "display(\"Testing score:\", round(tree_model.score(x_test_rf, y_test_rf)*100,2))"
      ],
      "metadata": {
        "colab": {
          "base_uri": "https://localhost:8080/",
          "height": 88
        },
        "id": "GuNtaN4R67GW",
        "outputId": "90adaaef-17c6-4f89-f4f3-135e7314d592"
      },
      "execution_count": null,
      "outputs": [
        {
          "output_type": "display_data",
          "data": {
            "text/plain": [
              "'Training score:'"
            ],
            "application/vnd.google.colaboratory.intrinsic+json": {
              "type": "string"
            }
          },
          "metadata": {}
        },
        {
          "output_type": "display_data",
          "data": {
            "text/plain": [
              "85.54"
            ]
          },
          "metadata": {}
        },
        {
          "output_type": "display_data",
          "data": {
            "text/plain": [
              "'Testing score:'"
            ],
            "application/vnd.google.colaboratory.intrinsic+json": {
              "type": "string"
            }
          },
          "metadata": {}
        },
        {
          "output_type": "display_data",
          "data": {
            "text/plain": [
              "82.17"
            ]
          },
          "metadata": {}
        }
      ]
    },
    {
      "cell_type": "code",
      "source": [
        "#  Creating Predictions for the logistic regression\n",
        "y_tree_pred = tree_model.predict(x_test_rf)\n",
        "\n",
        "# Creating a confusion matrix to look at different Scores\n",
        "conf_matrix_tree = confusion_matrix(y_test_rf, y_tree_pred)\n",
        "\n",
        "# Displaying the Confusion Matrix\n",
        "log_labels = ['no','yes']\n",
        "ConfusionMatrixDisplay(conf_matrix_tree, display_labels=log_labels).plot()\n",
        "plt.show()"
      ],
      "metadata": {
        "colab": {
          "base_uri": "https://localhost:8080/",
          "height": 279
        },
        "id": "qRWAFtstiobG",
        "outputId": "033e5c85-9e78-404d-936c-b0e8fef99f89"
      },
      "execution_count": null,
      "outputs": [
        {
          "output_type": "display_data",
          "data": {
            "text/plain": [
              "<Figure size 432x288 with 2 Axes>"
            ],
            "image/png": "[encoded data removed]"
          },
          "metadata": {
            "needs_background": "light"
          }
        }
      ]
    },
    {
      "cell_type": "code",
      "source": [
        "# Computing the precision, recall, and f1 scores for the Decision Tree\n",
        "display(\"Precision Score: \", precision_score(y_true=y_test_rf, y_pred=y_tree_pred))\n",
        "display(\"Recall Score: \", recall_score(y_true=y_test_rf, y_pred=y_tree_pred))\n",
        "display(\"F1 Score:\", f1_score(y_true=y_test_rf, y_pred=y_tree_pred))"
      ],
      "metadata": {
        "colab": {
          "base_uri": "https://localhost:8080/",
          "height": 124
        },
        "id": "iVH__0NWcH1u",
        "outputId": "81fc5a54-b31a-4c24-cf2e-8e16164310bb"
      },
      "execution_count": null,
      "outputs": [
        {
          "output_type": "display_data",
          "data": {
            "text/plain": [
              "'Precision Score: '"
            ],
            "application/vnd.google.colaboratory.intrinsic+json": {
              "type": "string"
            }
          },
          "metadata": {}
        },
        {
          "output_type": "display_data",
          "data": {
            "text/plain": [
              "0.3170441001191895"
            ]
          },
          "metadata": {}
        },
        {
          "output_type": "display_data",
          "data": {
            "text/plain": [
              "'Recall Score: '"
            ],
            "application/vnd.google.colaboratory.intrinsic+json": {
              "type": "string"
            }
          },
          "metadata": {}
        },
        {
          "output_type": "display_data",
          "data": {
            "text/plain": [
              "0.8260869565217391"
            ]
          },
          "metadata": {}
        },
        {
          "output_type": "display_data",
          "data": {
            "text/plain": [
              "'F1 Score:'"
            ],
            "application/vnd.google.colaboratory.intrinsic+json": {
              "type": "string"
            }
          },
          "metadata": {}
        },
        {
          "output_type": "display_data",
          "data": {
            "text/plain": [
              "0.458225667527993"
            ]
          },
          "metadata": {}
        }
      ]
    },
    {
      "cell_type": "markdown",
      "source": [
        "# 4). Creat a MajorityVoteClassifer instance from the algorithms I've chosen to see if an ensemble can outperform the individual algorithms\n",
        "\n",
        "- Now that we better understand how each of the models perform individually, let's creat an ensemble to see if they work better together\n",
        "\n",
        "- Using the MajorityVoteClassifier class that was created in the ch07 example Juypter Note book, create an ensemble using the three pipelines I created in step 1.\n",
        "\n",
        "- Use 10-fold cross validation to compute the score of the ensemble, as well as each pipeline individually.\n",
        "\n",
        "- Compare the performance of the ensemble to the individual models\n",
        "\n",
        "- Does the ensemble outperform the models?\n",
        "\n",
        "- Note: While we used ROC AUC scores in class, that was for binary classification only. Thankfully that is the classification that was used."
      ],
      "metadata": {
        "id": "VlF7TyIQsdEx"
      }
    }
  ],
  "metadata": {
    "colab": {
      "collapsed_sections": [
        "wXVCAu0qfjhR",
        "SvN4XT3_GAMH",
        "DCuAfAAdpOjE",
        "S8M2tHHuDquz",
        "C5xfy0jIgV-Y",
        "rY2lASZCgQeG"
      ],
      "name": "Lab_5_Duncan_Ferguson.ipynb",
      "provenance": [],
      "authorship_tag": "ABX9TyM+u5XUVuUSkodiZRU9sW+y",
      "include_colab_link": true
    },
    "kernelspec": {
      "display_name": "Python 3",
      "name": "python3"
    },
    "language_info": {
      "name": "python"
    }
  },
  "nbformat": 4,
  "nbformat_minor": 0
}