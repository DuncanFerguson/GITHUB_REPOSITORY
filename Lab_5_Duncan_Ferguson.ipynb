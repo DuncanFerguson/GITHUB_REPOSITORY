{
  "cells": [
    {
      "cell_type": "markdown",
      "metadata": {
        "id": "view-in-github",
        "colab_type": "text"
      },
      "source": [
        "<a href=\"https://colab.research.google.com/github/DuncanFerguson/GITHUB_REPOSITORY/blob/main/Lab_5_Duncan_Ferguson.ipynb\" target=\"_parent\"><img src=\"https://colab.research.google.com/assets/colab-badge.svg\" alt=\"Open In Colab\"/></a>"
      ]
    },
    {
      "cell_type": "markdown",
      "source": [
        "# Lab 5\n",
        "Student: Duncan Ferguson\n",
        "<br> Class: COMP-4432-1\n",
        "<br> Date: 7/28/2022\n",
        "\n",
        "\n"
      ],
      "metadata": {
        "id": "rU3Mq0WAJv9z"
      }
    },
    {
      "cell_type": "code",
      "execution_count": 763,
      "metadata": {
        "id": "q7e5FvPEUVob"
      },
      "outputs": [],
      "source": [
        "# Import Libraries\n",
        "import pandas as pd\n",
        "import numpy as np\n",
        "import matplotlib.pyplot as plt\n",
        "import seaborn as sns\n",
        "from IPython.display import display\n",
        "\n",
        "# Import Strings\n",
        "from sklearn.pipeline import Pipeline, _name_estimators\n",
        "from sklearn.impute import SimpleImputer\n",
        "from sklearn.compose import ColumnTransformer\n",
        "from sklearn.preprocessing import OneHotEncoder, StandardScaler, MinMaxScaler, LabelEncoder, FunctionTransformer\n",
        "from sklearn.model_selection import train_test_split, cross_val_score\n",
        "from sklearn.utils import resample\n",
        "from sklearn.metrics import accuracy_score, confusion_matrix, ConfusionMatrixDisplay, classification_report, precision_score, recall_score, f1_score\n",
        "from sklearn.metrics import roc_curve, auc\n",
        "from sklearn.linear_model import LogisticRegression\n",
        "from sklearn.neighbors import KNeighborsClassifier\n",
        "from sklearn.tree import DecisionTreeClassifier\n",
        "from sklearn import tree\n",
        "from sklearn.ensemble import RandomForestClassifier\n",
        "from sklearn.cluster import KMeans\n",
        "from sklearn.model_selection import GridSearchCV\n",
        "from sklearn.base import BaseEstimator, ClassifierMixin, clone\n",
        "import operator\n",
        "\n",
        "import warnings\n",
        "warnings.filterwarnings('ignore')"
      ]
    },
    {
      "cell_type": "markdown",
      "metadata": {
        "id": "0awIw7mSY1A1"
      },
      "source": [
        "\n",
        "# 1. Create a data preprocessing pipeline using scikit-learn\n",
        "\n",
        "- Combine the data preprocessing and model creation steps from project 1 into a separate pipeline for each of the three algorithms I compared.\n",
        "\n",
        "- Verify these piplines perform the same as the preprocessing and fitting steps when I executed them individually by making sure the performance metrics on the training and test data match.\n"
      ]
    },
    {
      "cell_type": "markdown",
      "metadata": {
        "id": "wXVCAu0qfjhR"
      },
      "source": [
        "## Experiment Objective: \n",
        "- Did a client subscribe a term deposit. How do we model this.\n",
        "- What are the significant factors in determining if a client is subscribed to a term deposit\n",
        "\n"
      ]
    },
    {
      "cell_type": "markdown",
      "metadata": {
        "id": "YQyHMcIsZs2m"
      },
      "source": [
        "The Data is being downloaded directly from an archive using !wget from google colab. This will grab the data straight from the source and place it straight on your G-drive. URL below.\n",
        "<br>https://archive.ics.uci.edu/ml/datasets/bank+marketing\n",
        "\n"
      ]
    },
    {
      "cell_type": "code",
      "execution_count": 695,
      "metadata": {
        "colab": {
          "base_uri": "https://localhost:8080/"
        },
        "id": "aVZEWV4DY95T",
        "outputId": "814c8361-82e9-40ba-a64c-c944104c8a3c"
      },
      "outputs": [
        {
          "output_type": "stream",
          "name": "stdout",
          "text": [
            "--2022-07-27 08:32:13--  http://banking_data/\n",
            "Resolving banking_data (banking_data)... failed: Name or service not known.\n",
            "wget: unable to resolve host address ‘banking_data’\n",
            "--2022-07-27 08:32:13--  https://archive.ics.uci.edu/ml/machine-learning-databases/00222/bank.zip\n",
            "Resolving archive.ics.uci.edu (archive.ics.uci.edu)... 128.195.10.252\n",
            "Connecting to archive.ics.uci.edu (archive.ics.uci.edu)|128.195.10.252|:443... connected.\n",
            "HTTP request sent, awaiting response... 200 OK\n",
            "Length: 579043 (565K) [application/x-httpd-php]\n",
            "Saving to: ‘bank.zip.27’\n",
            "\n",
            "bank.zip.27         100%[===================>] 565.47K  1.72MB/s    in 0.3s    \n",
            "\n",
            "2022-07-27 08:32:13 (1.72 MB/s) - ‘bank.zip.27’ saved [579043/579043]\n",
            "\n",
            "FINISHED --2022-07-27 08:32:13--\n",
            "Total wall clock time: 0.8s\n",
            "Downloaded: 1 files, 565K in 0.3s (1.72 MB/s)\n"
          ]
        }
      ],
      "source": [
        "# Grabbing the website\n",
        "!wget 'banking_data' 'https://archive.ics.uci.edu/ml/machine-learning-databases/00222/bank.zip'"
      ]
    },
    {
      "cell_type": "code",
      "source": [
        "# Unzipping the file\n",
        "!unzip -o 'bank.zip'"
      ],
      "metadata": {
        "colab": {
          "base_uri": "https://localhost:8080/"
        },
        "id": "n4z8-XmvVg5R",
        "outputId": "d63775cb-ae43-4f00-ecbb-c61857ac414a"
      },
      "execution_count": 696,
      "outputs": [
        {
          "output_type": "stream",
          "name": "stdout",
          "text": [
            "Archive:  bank.zip\n",
            "  inflating: bank-full.csv           \n",
            "  inflating: bank-names.txt          \n",
            "  inflating: bank.csv                \n"
          ]
        }
      ]
    },
    {
      "cell_type": "code",
      "source": [
        "# Downloading the Excel file and reading in the second sheet\n",
        "df = pd.read_csv('bank-full.csv', sep=';')"
      ],
      "metadata": {
        "id": "Fx3BNk9eF55d"
      },
      "execution_count": 697,
      "outputs": []
    },
    {
      "cell_type": "code",
      "source": [
        "# Filtering out clients that have been contacted by previous campaigns\n",
        "df = df.loc[(df['pdays'] == -1) & (df['previous'] == 0)]\n",
        "\n",
        "# # Dropping out these two columns because they are no longer needed\n",
        "df = df.drop(labels=['pdays','previous'], axis=1)\n",
        "\n",
        "# Replacing all the Unknown values with Nan\n",
        "df.replace('unknown', np.nan, inplace=True)"
      ],
      "metadata": {
        "id": "UjN9w3yuwlE3"
      },
      "execution_count": 698,
      "outputs": []
    },
    {
      "cell_type": "code",
      "source": [
        "# Displaying the Head of the Data\n",
        "df.head()"
      ],
      "metadata": {
        "colab": {
          "base_uri": "https://localhost:8080/",
          "height": 206
        },
        "id": "ByoSYV8mQASn",
        "outputId": "4914fa08-4750-42bc-88d5-d2ed78274932"
      },
      "execution_count": 699,
      "outputs": [
        {
          "output_type": "execute_result",
          "data": {
            "text/plain": [
              "   age           job  marital  education default  balance housing loan  \\\n",
              "0   58    management  married   tertiary      no     2143     yes   no   \n",
              "1   44    technician   single  secondary      no       29     yes   no   \n",
              "2   33  entrepreneur  married  secondary      no        2     yes  yes   \n",
              "3   47   blue-collar  married        NaN      no     1506     yes   no   \n",
              "4   33           NaN   single        NaN      no        1      no   no   \n",
              "\n",
              "  contact  day month  duration  campaign  poutcome   y  \n",
              "0     NaN    5   may       261         1       NaN  no  \n",
              "1     NaN    5   may       151         1       NaN  no  \n",
              "2     NaN    5   may        76         1       NaN  no  \n",
              "3     NaN    5   may        92         1       NaN  no  \n",
              "4     NaN    5   may       198         1       NaN  no  "
            ],
            "text/html": [
              "\n",
              "  <div id=\"df-bb74097e-f878-43f0-baf9-8c5ce6605088\">\n",
              "    <div class=\"colab-df-container\">\n",
              "      <div>\n",
              "<style scoped>\n",
              "    .dataframe tbody tr th:only-of-type {\n",
              "        vertical-align: middle;\n",
              "    }\n",
              "\n",
              "    .dataframe tbody tr th {\n",
              "        vertical-align: top;\n",
              "    }\n",
              "\n",
              "    .dataframe thead th {\n",
              "        text-align: right;\n",
              "    }\n",
              "</style>\n",
              "<table border=\"1\" class=\"dataframe\">\n",
              "  <thead>\n",
              "    <tr style=\"text-align: right;\">\n",
              "      <th></th>\n",
              "      <th>age</th>\n",
              "      <th>job</th>\n",
              "      <th>marital</th>\n",
              "      <th>education</th>\n",
              "      <th>default</th>\n",
              "      <th>balance</th>\n",
              "      <th>housing</th>\n",
              "      <th>loan</th>\n",
              "      <th>contact</th>\n",
              "      <th>day</th>\n",
              "      <th>month</th>\n",
              "      <th>duration</th>\n",
              "      <th>campaign</th>\n",
              "      <th>poutcome</th>\n",
              "      <th>y</th>\n",
              "    </tr>\n",
              "  </thead>\n",
              "  <tbody>\n",
              "    <tr>\n",
              "      <th>0</th>\n",
              "      <td>58</td>\n",
              "      <td>management</td>\n",
              "      <td>married</td>\n",
              "      <td>tertiary</td>\n",
              "      <td>no</td>\n",
              "      <td>2143</td>\n",
              "      <td>yes</td>\n",
              "      <td>no</td>\n",
              "      <td>NaN</td>\n",
              "      <td>5</td>\n",
              "      <td>may</td>\n",
              "      <td>261</td>\n",
              "      <td>1</td>\n",
              "      <td>NaN</td>\n",
              "      <td>no</td>\n",
              "    </tr>\n",
              "    <tr>\n",
              "      <th>1</th>\n",
              "      <td>44</td>\n",
              "      <td>technician</td>\n",
              "      <td>single</td>\n",
              "      <td>secondary</td>\n",
              "      <td>no</td>\n",
              "      <td>29</td>\n",
              "      <td>yes</td>\n",
              "      <td>no</td>\n",
              "      <td>NaN</td>\n",
              "      <td>5</td>\n",
              "      <td>may</td>\n",
              "      <td>151</td>\n",
              "      <td>1</td>\n",
              "      <td>NaN</td>\n",
              "      <td>no</td>\n",
              "    </tr>\n",
              "    <tr>\n",
              "      <th>2</th>\n",
              "      <td>33</td>\n",
              "      <td>entrepreneur</td>\n",
              "      <td>married</td>\n",
              "      <td>secondary</td>\n",
              "      <td>no</td>\n",
              "      <td>2</td>\n",
              "      <td>yes</td>\n",
              "      <td>yes</td>\n",
              "      <td>NaN</td>\n",
              "      <td>5</td>\n",
              "      <td>may</td>\n",
              "      <td>76</td>\n",
              "      <td>1</td>\n",
              "      <td>NaN</td>\n",
              "      <td>no</td>\n",
              "    </tr>\n",
              "    <tr>\n",
              "      <th>3</th>\n",
              "      <td>47</td>\n",
              "      <td>blue-collar</td>\n",
              "      <td>married</td>\n",
              "      <td>NaN</td>\n",
              "      <td>no</td>\n",
              "      <td>1506</td>\n",
              "      <td>yes</td>\n",
              "      <td>no</td>\n",
              "      <td>NaN</td>\n",
              "      <td>5</td>\n",
              "      <td>may</td>\n",
              "      <td>92</td>\n",
              "      <td>1</td>\n",
              "      <td>NaN</td>\n",
              "      <td>no</td>\n",
              "    </tr>\n",
              "    <tr>\n",
              "      <th>4</th>\n",
              "      <td>33</td>\n",
              "      <td>NaN</td>\n",
              "      <td>single</td>\n",
              "      <td>NaN</td>\n",
              "      <td>no</td>\n",
              "      <td>1</td>\n",
              "      <td>no</td>\n",
              "      <td>no</td>\n",
              "      <td>NaN</td>\n",
              "      <td>5</td>\n",
              "      <td>may</td>\n",
              "      <td>198</td>\n",
              "      <td>1</td>\n",
              "      <td>NaN</td>\n",
              "      <td>no</td>\n",
              "    </tr>\n",
              "  </tbody>\n",
              "</table>\n",
              "</div>\n",
              "      <button class=\"colab-df-convert\" onclick=\"convertToInteractive('df-bb74097e-f878-43f0-baf9-8c5ce6605088')\"\n",
              "              title=\"Convert this dataframe to an interactive table.\"\n",
              "              style=\"display:none;\">\n",
              "        \n",
              "  <svg xmlns=\"http://www.w3.org/2000/svg\" height=\"24px\"viewBox=\"0 0 24 24\"\n",
              "       width=\"24px\">\n",
              "    <path d=\"M0 0h24v24H0V0z\" fill=\"none\"/>\n",
              "    <path d=\"M18.56 5.44l.94 2.06.94-2.06 2.06-.94-2.06-.94-.94-2.06-.94 2.06-2.06.94zm-11 1L8.5 8.5l.94-2.06 2.06-.94-2.06-.94L8.5 2.5l-.94 2.06-2.06.94zm10 10l.94 2.06.94-2.06 2.06-.94-2.06-.94-.94-2.06-.94 2.06-2.06.94z\"/><path d=\"M17.41 7.96l-1.37-1.37c-.4-.4-.92-.59-1.43-.59-.52 0-1.04.2-1.43.59L10.3 9.45l-7.72 7.72c-.78.78-.78 2.05 0 2.83L4 21.41c.39.39.9.59 1.41.59.51 0 1.02-.2 1.41-.59l7.78-7.78 2.81-2.81c.8-.78.8-2.07 0-2.86zM5.41 20L4 18.59l7.72-7.72 1.47 1.35L5.41 20z\"/>\n",
              "  </svg>\n",
              "      </button>\n",
              "      \n",
              "  <style>\n",
              "    .colab-df-container {\n",
              "      display:flex;\n",
              "      flex-wrap:wrap;\n",
              "      gap: 12px;\n",
              "    }\n",
              "\n",
              "    .colab-df-convert {\n",
              "      background-color: #E8F0FE;\n",
              "      border: none;\n",
              "      border-radius: 50%;\n",
              "      cursor: pointer;\n",
              "      display: none;\n",
              "      fill: #1967D2;\n",
              "      height: 32px;\n",
              "      padding: 0 0 0 0;\n",
              "      width: 32px;\n",
              "    }\n",
              "\n",
              "    .colab-df-convert:hover {\n",
              "      background-color: #E2EBFA;\n",
              "      box-shadow: 0px 1px 2px rgba(60, 64, 67, 0.3), 0px 1px 3px 1px rgba(60, 64, 67, 0.15);\n",
              "      fill: #174EA6;\n",
              "    }\n",
              "\n",
              "    [theme=dark] .colab-df-convert {\n",
              "      background-color: #3B4455;\n",
              "      fill: #D2E3FC;\n",
              "    }\n",
              "\n",
              "    [theme=dark] .colab-df-convert:hover {\n",
              "      background-color: #434B5C;\n",
              "      box-shadow: 0px 1px 3px 1px rgba(0, 0, 0, 0.15);\n",
              "      filter: drop-shadow(0px 1px 2px rgba(0, 0, 0, 0.3));\n",
              "      fill: #FFFFFF;\n",
              "    }\n",
              "  </style>\n",
              "\n",
              "      <script>\n",
              "        const buttonEl =\n",
              "          document.querySelector('#df-bb74097e-f878-43f0-baf9-8c5ce6605088 button.colab-df-convert');\n",
              "        buttonEl.style.display =\n",
              "          google.colab.kernel.accessAllowed ? 'block' : 'none';\n",
              "\n",
              "        async function convertToInteractive(key) {\n",
              "          const element = document.querySelector('#df-bb74097e-f878-43f0-baf9-8c5ce6605088');\n",
              "          const dataTable =\n",
              "            await google.colab.kernel.invokeFunction('convertToInteractive',\n",
              "                                                     [key], {});\n",
              "          if (!dataTable) return;\n",
              "\n",
              "          const docLinkHtml = 'Like what you see? Visit the ' +\n",
              "            '<a target=\"_blank\" href=https://colab.research.google.com/notebooks/data_table.ipynb>data table notebook</a>'\n",
              "            + ' to learn more about interactive tables.';\n",
              "          element.innerHTML = '';\n",
              "          dataTable['output_type'] = 'display_data';\n",
              "          await google.colab.output.renderOutput(dataTable, element);\n",
              "          const docLink = document.createElement('div');\n",
              "          docLink.innerHTML = docLinkHtml;\n",
              "          element.appendChild(docLink);\n",
              "        }\n",
              "      </script>\n",
              "    </div>\n",
              "  </div>\n",
              "  "
            ]
          },
          "metadata": {},
          "execution_count": 699
        }
      ]
    },
    {
      "cell_type": "markdown",
      "source": [
        "# Project 01 Data Preprocessing\n",
        "- Below is the data preprocessing that was used. I have left this in so that I can compare it later."
      ],
      "metadata": {
        "id": "SvN4XT3_GAMH"
      }
    },
    {
      "cell_type": "code",
      "source": [
        "# Displaing the Percentage of missing data per column in decimal form\n",
        "missing_col_per = pd.DataFrame([(df[col].isnull().sum()/df.shape[0]) for col in df.columns] , df.columns, columns=['Percent_Missing'])\n",
        "missing_col_per"
      ],
      "metadata": {
        "colab": {
          "base_uri": "https://localhost:8080/",
          "height": 0
        },
        "id": "kNQcK4I7j8GC",
        "outputId": "bb4f9b7c-fb59-4a66-cffc-ce7edd6f8d7f"
      },
      "execution_count": 700,
      "outputs": [
        {
          "output_type": "execute_result",
          "data": {
            "text/plain": [
              "           Percent_Missing\n",
              "age               0.000000\n",
              "job               0.006900\n",
              "marital           0.000000\n",
              "education         0.041511\n",
              "default           0.000000\n",
              "balance           0.000000\n",
              "housing           0.000000\n",
              "loan              0.000000\n",
              "contact           0.350436\n",
              "day               0.000000\n",
              "month             0.000000\n",
              "duration          0.000000\n",
              "campaign          0.000000\n",
              "poutcome          1.000000\n",
              "y                 0.000000"
            ],
            "text/html": [
              "\n",
              "  <div id=\"df-ed0eca25-e868-4e58-8b58-0f9aa3603f94\">\n",
              "    <div class=\"colab-df-container\">\n",
              "      <div>\n",
              "<style scoped>\n",
              "    .dataframe tbody tr th:only-of-type {\n",
              "        vertical-align: middle;\n",
              "    }\n",
              "\n",
              "    .dataframe tbody tr th {\n",
              "        vertical-align: top;\n",
              "    }\n",
              "\n",
              "    .dataframe thead th {\n",
              "        text-align: right;\n",
              "    }\n",
              "</style>\n",
              "<table border=\"1\" class=\"dataframe\">\n",
              "  <thead>\n",
              "    <tr style=\"text-align: right;\">\n",
              "      <th></th>\n",
              "      <th>Percent_Missing</th>\n",
              "    </tr>\n",
              "  </thead>\n",
              "  <tbody>\n",
              "    <tr>\n",
              "      <th>age</th>\n",
              "      <td>0.000000</td>\n",
              "    </tr>\n",
              "    <tr>\n",
              "      <th>job</th>\n",
              "      <td>0.006900</td>\n",
              "    </tr>\n",
              "    <tr>\n",
              "      <th>marital</th>\n",
              "      <td>0.000000</td>\n",
              "    </tr>\n",
              "    <tr>\n",
              "      <th>education</th>\n",
              "      <td>0.041511</td>\n",
              "    </tr>\n",
              "    <tr>\n",
              "      <th>default</th>\n",
              "      <td>0.000000</td>\n",
              "    </tr>\n",
              "    <tr>\n",
              "      <th>balance</th>\n",
              "      <td>0.000000</td>\n",
              "    </tr>\n",
              "    <tr>\n",
              "      <th>housing</th>\n",
              "      <td>0.000000</td>\n",
              "    </tr>\n",
              "    <tr>\n",
              "      <th>loan</th>\n",
              "      <td>0.000000</td>\n",
              "    </tr>\n",
              "    <tr>\n",
              "      <th>contact</th>\n",
              "      <td>0.350436</td>\n",
              "    </tr>\n",
              "    <tr>\n",
              "      <th>day</th>\n",
              "      <td>0.000000</td>\n",
              "    </tr>\n",
              "    <tr>\n",
              "      <th>month</th>\n",
              "      <td>0.000000</td>\n",
              "    </tr>\n",
              "    <tr>\n",
              "      <th>duration</th>\n",
              "      <td>0.000000</td>\n",
              "    </tr>\n",
              "    <tr>\n",
              "      <th>campaign</th>\n",
              "      <td>0.000000</td>\n",
              "    </tr>\n",
              "    <tr>\n",
              "      <th>poutcome</th>\n",
              "      <td>1.000000</td>\n",
              "    </tr>\n",
              "    <tr>\n",
              "      <th>y</th>\n",
              "      <td>0.000000</td>\n",
              "    </tr>\n",
              "  </tbody>\n",
              "</table>\n",
              "</div>\n",
              "      <button class=\"colab-df-convert\" onclick=\"convertToInteractive('df-ed0eca25-e868-4e58-8b58-0f9aa3603f94')\"\n",
              "              title=\"Convert this dataframe to an interactive table.\"\n",
              "              style=\"display:none;\">\n",
              "        \n",
              "  <svg xmlns=\"http://www.w3.org/2000/svg\" height=\"24px\"viewBox=\"0 0 24 24\"\n",
              "       width=\"24px\">\n",
              "    <path d=\"M0 0h24v24H0V0z\" fill=\"none\"/>\n",
              "    <path d=\"M18.56 5.44l.94 2.06.94-2.06 2.06-.94-2.06-.94-.94-2.06-.94 2.06-2.06.94zm-11 1L8.5 8.5l.94-2.06 2.06-.94-2.06-.94L8.5 2.5l-.94 2.06-2.06.94zm10 10l.94 2.06.94-2.06 2.06-.94-2.06-.94-.94-2.06-.94 2.06-2.06.94z\"/><path d=\"M17.41 7.96l-1.37-1.37c-.4-.4-.92-.59-1.43-.59-.52 0-1.04.2-1.43.59L10.3 9.45l-7.72 7.72c-.78.78-.78 2.05 0 2.83L4 21.41c.39.39.9.59 1.41.59.51 0 1.02-.2 1.41-.59l7.78-7.78 2.81-2.81c.8-.78.8-2.07 0-2.86zM5.41 20L4 18.59l7.72-7.72 1.47 1.35L5.41 20z\"/>\n",
              "  </svg>\n",
              "      </button>\n",
              "      \n",
              "  <style>\n",
              "    .colab-df-container {\n",
              "      display:flex;\n",
              "      flex-wrap:wrap;\n",
              "      gap: 12px;\n",
              "    }\n",
              "\n",
              "    .colab-df-convert {\n",
              "      background-color: #E8F0FE;\n",
              "      border: none;\n",
              "      border-radius: 50%;\n",
              "      cursor: pointer;\n",
              "      display: none;\n",
              "      fill: #1967D2;\n",
              "      height: 32px;\n",
              "      padding: 0 0 0 0;\n",
              "      width: 32px;\n",
              "    }\n",
              "\n",
              "    .colab-df-convert:hover {\n",
              "      background-color: #E2EBFA;\n",
              "      box-shadow: 0px 1px 2px rgba(60, 64, 67, 0.3), 0px 1px 3px 1px rgba(60, 64, 67, 0.15);\n",
              "      fill: #174EA6;\n",
              "    }\n",
              "\n",
              "    [theme=dark] .colab-df-convert {\n",
              "      background-color: #3B4455;\n",
              "      fill: #D2E3FC;\n",
              "    }\n",
              "\n",
              "    [theme=dark] .colab-df-convert:hover {\n",
              "      background-color: #434B5C;\n",
              "      box-shadow: 0px 1px 3px 1px rgba(0, 0, 0, 0.15);\n",
              "      filter: drop-shadow(0px 1px 2px rgba(0, 0, 0, 0.3));\n",
              "      fill: #FFFFFF;\n",
              "    }\n",
              "  </style>\n",
              "\n",
              "      <script>\n",
              "        const buttonEl =\n",
              "          document.querySelector('#df-ed0eca25-e868-4e58-8b58-0f9aa3603f94 button.colab-df-convert');\n",
              "        buttonEl.style.display =\n",
              "          google.colab.kernel.accessAllowed ? 'block' : 'none';\n",
              "\n",
              "        async function convertToInteractive(key) {\n",
              "          const element = document.querySelector('#df-ed0eca25-e868-4e58-8b58-0f9aa3603f94');\n",
              "          const dataTable =\n",
              "            await google.colab.kernel.invokeFunction('convertToInteractive',\n",
              "                                                     [key], {});\n",
              "          if (!dataTable) return;\n",
              "\n",
              "          const docLinkHtml = 'Like what you see? Visit the ' +\n",
              "            '<a target=\"_blank\" href=https://colab.research.google.com/notebooks/data_table.ipynb>data table notebook</a>'\n",
              "            + ' to learn more about interactive tables.';\n",
              "          element.innerHTML = '';\n",
              "          dataTable['output_type'] = 'display_data';\n",
              "          await google.colab.output.renderOutput(dataTable, element);\n",
              "          const docLink = document.createElement('div');\n",
              "          docLink.innerHTML = docLinkHtml;\n",
              "          element.appendChild(docLink);\n",
              "        }\n",
              "      </script>\n",
              "    </div>\n",
              "  </div>\n",
              "  "
            ]
          },
          "metadata": {},
          "execution_count": 700
        }
      ]
    },
    {
      "cell_type": "markdown",
      "source": [
        "Since we removed all the clients that had been placed in a campaign before we now get 100% of the Poutcome column as unknown. Meaning that this column can be dropped. Below we set up the threshold for dropping a column as over 80% missing. This will end up taking contact and poutcome out of the equation."
      ],
      "metadata": {
        "id": "m2eH6o9upFl8"
      }
    },
    {
      "cell_type": "code",
      "source": [
        "# Setting the limit for dropping\n",
        "drop_lim = df.shape[0] * .8\n",
        "df_1 = df.dropna(thresh=drop_lim, axis=1).copy()"
      ],
      "metadata": {
        "id": "LQN_x6NMqG92"
      },
      "execution_count": 701,
      "outputs": []
    },
    {
      "cell_type": "code",
      "execution_count": 702,
      "metadata": {
        "id": "bB1I2ckMlhSb",
        "colab": {
          "base_uri": "https://localhost:8080/",
          "height": 0
        },
        "outputId": "104e014c-b0ba-42b0-9a39-36fbea8f4965"
      },
      "outputs": [
        {
          "output_type": "stream",
          "name": "stdout",
          "text": [
            "# Columns w/ NaN 2\n"
          ]
        },
        {
          "output_type": "display_data",
          "data": {
            "text/plain": [
              "age             0\n",
              "job           255\n",
              "marital         0\n",
              "education    1534\n",
              "default         0\n",
              "balance         0\n",
              "housing         0\n",
              "loan            0\n",
              "day             0\n",
              "month           0\n",
              "duration        0\n",
              "campaign        0\n",
              "y               0\n",
              "dtype: int64"
            ]
          },
          "metadata": {}
        }
      ],
      "source": [
        "# Counting to see how many columns have NaN values\n",
        "print(\"# Columns w/ NaN\", df_1.isnull().any().sum())\n",
        "display(df_1.isna().sum())"
      ]
    },
    {
      "cell_type": "code",
      "source": [
        "# Imputing the value for the educational missing values\n",
        "df_2 = df_1.copy()\n",
        "\n",
        "imputer = SimpleImputer(missing_values=np.nan, strategy='most_frequent')\n",
        "\n",
        "imputer = imputer.fit(df_1.loc[:, df_1.columns == 'education'])\n",
        "new_education = imputer.transform(df_1.loc[:, df_1.columns == 'education'])\n",
        "\n",
        "# Replacing education with the newly imputed values\n",
        "df_2['education'] = new_education.tolist()"
      ],
      "metadata": {
        "id": "leOODkeocLZP"
      },
      "execution_count": 703,
      "outputs": []
    },
    {
      "cell_type": "code",
      "source": [
        "df_2 = df_1.dropna()\n",
        "df_2.isnull().any().sum()"
      ],
      "metadata": {
        "colab": {
          "base_uri": "https://localhost:8080/"
        },
        "id": "g-ttD9TvmkOI",
        "outputId": "9bc566e6-a87d-4a24-acc9-ac6c98c40fd1"
      },
      "execution_count": 704,
      "outputs": [
        {
          "output_type": "execute_result",
          "data": {
            "text/plain": [
              "0"
            ]
          },
          "metadata": {},
          "execution_count": 704
        }
      ]
    },
    {
      "cell_type": "markdown",
      "source": [
        "Now that the values have been imputed for education. I will just drop the rest  of rows that possess NaN values. These only exist in the job column."
      ],
      "metadata": {
        "id": "gprNGWFye-S_"
      }
    },
    {
      "cell_type": "code",
      "source": [
        "# Simple Drop of NaN rows\n",
        "df_2 = df_1.dropna()\n",
        "df_2 = df_2.copy()\n",
        "print('# Columns w/ Nan')\n",
        "df_2.isnull().any().sum()"
      ],
      "metadata": {
        "colab": {
          "base_uri": "https://localhost:8080/"
        },
        "id": "dIMsNAiHfS1d",
        "outputId": "da84e940-302d-4bbb-b1bf-e8ac422e2ae3"
      },
      "execution_count": 705,
      "outputs": [
        {
          "output_type": "stream",
          "name": "stdout",
          "text": [
            "# Columns w/ Nan\n"
          ]
        },
        {
          "output_type": "execute_result",
          "data": {
            "text/plain": [
              "0"
            ]
          },
          "metadata": {},
          "execution_count": 705
        }
      ]
    },
    {
      "cell_type": "markdown",
      "source": [
        "Note that only two columns had any NaNs those rows have been dealt with we will consider df_2 the main data frame.\n",
        "\n",
        "There are three different columns that have two classiciations. These are default, housing, loan, and of course Y. We can turn all of theses in to binary. I will also map all the other categorical variables to integer values."
      ],
      "metadata": {
        "id": "2cm8yt0KgBpa"
      }
    },
    {
      "cell_type": "code",
      "source": [
        "# Cleanding up some values to make coding better\n",
        "df_2['job'] = df_2['job'].replace(['blue-collar'], 'blue_collar')\n",
        "df_2['job'] = df_2['job'].replace(['self-employed'], 'self_employed')\n",
        "df_2['job'] = df_2['job'].replace(['admin.'], 'admin')"
      ],
      "metadata": {
        "id": "GtisbhF15LDm"
      },
      "execution_count": 706,
      "outputs": []
    },
    {
      "cell_type": "code",
      "source": [
        "df_2.head()"
      ],
      "metadata": {
        "colab": {
          "base_uri": "https://localhost:8080/",
          "height": 0
        },
        "id": "VGBULvIinf0J",
        "outputId": "ff32d45f-0436-4da8-bb68-89573f2f70ba"
      },
      "execution_count": 707,
      "outputs": [
        {
          "output_type": "execute_result",
          "data": {
            "text/plain": [
              "   age           job  marital  education default  balance housing loan  day  \\\n",
              "0   58    management  married   tertiary      no     2143     yes   no    5   \n",
              "1   44    technician   single  secondary      no       29     yes   no    5   \n",
              "2   33  entrepreneur  married  secondary      no        2     yes  yes    5   \n",
              "5   35    management  married   tertiary      no      231     yes   no    5   \n",
              "6   28    management   single   tertiary      no      447     yes  yes    5   \n",
              "\n",
              "  month  duration  campaign   y  \n",
              "0   may       261         1  no  \n",
              "1   may       151         1  no  \n",
              "2   may        76         1  no  \n",
              "5   may       139         1  no  \n",
              "6   may       217         1  no  "
            ],
            "text/html": [
              "\n",
              "  <div id=\"df-9fd200c0-7aab-45ec-b028-ba1f0b76d66e\">\n",
              "    <div class=\"colab-df-container\">\n",
              "      <div>\n",
              "<style scoped>\n",
              "    .dataframe tbody tr th:only-of-type {\n",
              "        vertical-align: middle;\n",
              "    }\n",
              "\n",
              "    .dataframe tbody tr th {\n",
              "        vertical-align: top;\n",
              "    }\n",
              "\n",
              "    .dataframe thead th {\n",
              "        text-align: right;\n",
              "    }\n",
              "</style>\n",
              "<table border=\"1\" class=\"dataframe\">\n",
              "  <thead>\n",
              "    <tr style=\"text-align: right;\">\n",
              "      <th></th>\n",
              "      <th>age</th>\n",
              "      <th>job</th>\n",
              "      <th>marital</th>\n",
              "      <th>education</th>\n",
              "      <th>default</th>\n",
              "      <th>balance</th>\n",
              "      <th>housing</th>\n",
              "      <th>loan</th>\n",
              "      <th>day</th>\n",
              "      <th>month</th>\n",
              "      <th>duration</th>\n",
              "      <th>campaign</th>\n",
              "      <th>y</th>\n",
              "    </tr>\n",
              "  </thead>\n",
              "  <tbody>\n",
              "    <tr>\n",
              "      <th>0</th>\n",
              "      <td>58</td>\n",
              "      <td>management</td>\n",
              "      <td>married</td>\n",
              "      <td>tertiary</td>\n",
              "      <td>no</td>\n",
              "      <td>2143</td>\n",
              "      <td>yes</td>\n",
              "      <td>no</td>\n",
              "      <td>5</td>\n",
              "      <td>may</td>\n",
              "      <td>261</td>\n",
              "      <td>1</td>\n",
              "      <td>no</td>\n",
              "    </tr>\n",
              "    <tr>\n",
              "      <th>1</th>\n",
              "      <td>44</td>\n",
              "      <td>technician</td>\n",
              "      <td>single</td>\n",
              "      <td>secondary</td>\n",
              "      <td>no</td>\n",
              "      <td>29</td>\n",
              "      <td>yes</td>\n",
              "      <td>no</td>\n",
              "      <td>5</td>\n",
              "      <td>may</td>\n",
              "      <td>151</td>\n",
              "      <td>1</td>\n",
              "      <td>no</td>\n",
              "    </tr>\n",
              "    <tr>\n",
              "      <th>2</th>\n",
              "      <td>33</td>\n",
              "      <td>entrepreneur</td>\n",
              "      <td>married</td>\n",
              "      <td>secondary</td>\n",
              "      <td>no</td>\n",
              "      <td>2</td>\n",
              "      <td>yes</td>\n",
              "      <td>yes</td>\n",
              "      <td>5</td>\n",
              "      <td>may</td>\n",
              "      <td>76</td>\n",
              "      <td>1</td>\n",
              "      <td>no</td>\n",
              "    </tr>\n",
              "    <tr>\n",
              "      <th>5</th>\n",
              "      <td>35</td>\n",
              "      <td>management</td>\n",
              "      <td>married</td>\n",
              "      <td>tertiary</td>\n",
              "      <td>no</td>\n",
              "      <td>231</td>\n",
              "      <td>yes</td>\n",
              "      <td>no</td>\n",
              "      <td>5</td>\n",
              "      <td>may</td>\n",
              "      <td>139</td>\n",
              "      <td>1</td>\n",
              "      <td>no</td>\n",
              "    </tr>\n",
              "    <tr>\n",
              "      <th>6</th>\n",
              "      <td>28</td>\n",
              "      <td>management</td>\n",
              "      <td>single</td>\n",
              "      <td>tertiary</td>\n",
              "      <td>no</td>\n",
              "      <td>447</td>\n",
              "      <td>yes</td>\n",
              "      <td>yes</td>\n",
              "      <td>5</td>\n",
              "      <td>may</td>\n",
              "      <td>217</td>\n",
              "      <td>1</td>\n",
              "      <td>no</td>\n",
              "    </tr>\n",
              "  </tbody>\n",
              "</table>\n",
              "</div>\n",
              "      <button class=\"colab-df-convert\" onclick=\"convertToInteractive('df-9fd200c0-7aab-45ec-b028-ba1f0b76d66e')\"\n",
              "              title=\"Convert this dataframe to an interactive table.\"\n",
              "              style=\"display:none;\">\n",
              "        \n",
              "  <svg xmlns=\"http://www.w3.org/2000/svg\" height=\"24px\"viewBox=\"0 0 24 24\"\n",
              "       width=\"24px\">\n",
              "    <path d=\"M0 0h24v24H0V0z\" fill=\"none\"/>\n",
              "    <path d=\"M18.56 5.44l.94 2.06.94-2.06 2.06-.94-2.06-.94-.94-2.06-.94 2.06-2.06.94zm-11 1L8.5 8.5l.94-2.06 2.06-.94-2.06-.94L8.5 2.5l-.94 2.06-2.06.94zm10 10l.94 2.06.94-2.06 2.06-.94-2.06-.94-.94-2.06-.94 2.06-2.06.94z\"/><path d=\"M17.41 7.96l-1.37-1.37c-.4-.4-.92-.59-1.43-.59-.52 0-1.04.2-1.43.59L10.3 9.45l-7.72 7.72c-.78.78-.78 2.05 0 2.83L4 21.41c.39.39.9.59 1.41.59.51 0 1.02-.2 1.41-.59l7.78-7.78 2.81-2.81c.8-.78.8-2.07 0-2.86zM5.41 20L4 18.59l7.72-7.72 1.47 1.35L5.41 20z\"/>\n",
              "  </svg>\n",
              "      </button>\n",
              "      \n",
              "  <style>\n",
              "    .colab-df-container {\n",
              "      display:flex;\n",
              "      flex-wrap:wrap;\n",
              "      gap: 12px;\n",
              "    }\n",
              "\n",
              "    .colab-df-convert {\n",
              "      background-color: #E8F0FE;\n",
              "      border: none;\n",
              "      border-radius: 50%;\n",
              "      cursor: pointer;\n",
              "      display: none;\n",
              "      fill: #1967D2;\n",
              "      height: 32px;\n",
              "      padding: 0 0 0 0;\n",
              "      width: 32px;\n",
              "    }\n",
              "\n",
              "    .colab-df-convert:hover {\n",
              "      background-color: #E2EBFA;\n",
              "      box-shadow: 0px 1px 2px rgba(60, 64, 67, 0.3), 0px 1px 3px 1px rgba(60, 64, 67, 0.15);\n",
              "      fill: #174EA6;\n",
              "    }\n",
              "\n",
              "    [theme=dark] .colab-df-convert {\n",
              "      background-color: #3B4455;\n",
              "      fill: #D2E3FC;\n",
              "    }\n",
              "\n",
              "    [theme=dark] .colab-df-convert:hover {\n",
              "      background-color: #434B5C;\n",
              "      box-shadow: 0px 1px 3px 1px rgba(0, 0, 0, 0.15);\n",
              "      filter: drop-shadow(0px 1px 2px rgba(0, 0, 0, 0.3));\n",
              "      fill: #FFFFFF;\n",
              "    }\n",
              "  </style>\n",
              "\n",
              "      <script>\n",
              "        const buttonEl =\n",
              "          document.querySelector('#df-9fd200c0-7aab-45ec-b028-ba1f0b76d66e button.colab-df-convert');\n",
              "        buttonEl.style.display =\n",
              "          google.colab.kernel.accessAllowed ? 'block' : 'none';\n",
              "\n",
              "        async function convertToInteractive(key) {\n",
              "          const element = document.querySelector('#df-9fd200c0-7aab-45ec-b028-ba1f0b76d66e');\n",
              "          const dataTable =\n",
              "            await google.colab.kernel.invokeFunction('convertToInteractive',\n",
              "                                                     [key], {});\n",
              "          if (!dataTable) return;\n",
              "\n",
              "          const docLinkHtml = 'Like what you see? Visit the ' +\n",
              "            '<a target=\"_blank\" href=https://colab.research.google.com/notebooks/data_table.ipynb>data table notebook</a>'\n",
              "            + ' to learn more about interactive tables.';\n",
              "          element.innerHTML = '';\n",
              "          dataTable['output_type'] = 'display_data';\n",
              "          await google.colab.output.renderOutput(dataTable, element);\n",
              "          const docLink = document.createElement('div');\n",
              "          docLink.innerHTML = docLinkHtml;\n",
              "          element.appendChild(docLink);\n",
              "        }\n",
              "      </script>\n",
              "    </div>\n",
              "  </div>\n",
              "  "
            ]
          },
          "metadata": {},
          "execution_count": 707
        }
      ]
    },
    {
      "cell_type": "markdown",
      "source": [
        "Now that I have turned these columns into binary I will cast the objects into categorical variables to help with onehot encoding."
      ],
      "metadata": {
        "id": "tQ66iUzynRJ5"
      }
    },
    {
      "cell_type": "code",
      "source": [
        "# Casting in to category\n",
        "obj_cols = [col for col in df_2 if df_2[col].dtype == 'object']\n",
        "for col in df_2.columns:\n",
        "  if col in obj_cols:\n",
        "    df_2[col] = df_2[col].astype('category')\n",
        "\n",
        "# Changing the binary fields into categories to be used in the models later\n",
        "df_2['y'] = df_2['y'].astype('category')\n",
        "df_2['loan'] = df_2['loan'].astype('category')\n",
        "df_2['default'] = df_2['default'].astype('category')\n",
        "\n",
        "# Displaying the new data types.\n",
        "df_2.dtypes"
      ],
      "metadata": {
        "colab": {
          "base_uri": "https://localhost:8080/"
        },
        "id": "XCw8MRR7ngZC",
        "outputId": "e31a0b7f-7d8d-4090-dab6-76b1e0ca666c"
      },
      "execution_count": 708,
      "outputs": [
        {
          "output_type": "execute_result",
          "data": {
            "text/plain": [
              "age             int64\n",
              "job          category\n",
              "marital      category\n",
              "education    category\n",
              "default      category\n",
              "balance         int64\n",
              "housing      category\n",
              "loan         category\n",
              "day             int64\n",
              "month        category\n",
              "duration        int64\n",
              "campaign        int64\n",
              "y            category\n",
              "dtype: object"
            ]
          },
          "metadata": {},
          "execution_count": 708
        }
      ]
    },
    {
      "cell_type": "code",
      "source": [
        "# Displaying the head of the data\n",
        "df_2.head()"
      ],
      "metadata": {
        "colab": {
          "base_uri": "https://localhost:8080/",
          "height": 0
        },
        "id": "BWPlLnSdpQxA",
        "outputId": "e99fc665-8a6f-47a3-fe77-15cf1116a48c"
      },
      "execution_count": 709,
      "outputs": [
        {
          "output_type": "execute_result",
          "data": {
            "text/plain": [
              "   age           job  marital  education default  balance housing loan  day  \\\n",
              "0   58    management  married   tertiary      no     2143     yes   no    5   \n",
              "1   44    technician   single  secondary      no       29     yes   no    5   \n",
              "2   33  entrepreneur  married  secondary      no        2     yes  yes    5   \n",
              "5   35    management  married   tertiary      no      231     yes   no    5   \n",
              "6   28    management   single   tertiary      no      447     yes  yes    5   \n",
              "\n",
              "  month  duration  campaign   y  \n",
              "0   may       261         1  no  \n",
              "1   may       151         1  no  \n",
              "2   may        76         1  no  \n",
              "5   may       139         1  no  \n",
              "6   may       217         1  no  "
            ],
            "text/html": [
              "\n",
              "  <div id=\"df-d089d693-d45e-46a2-8214-a2954096e737\">\n",
              "    <div class=\"colab-df-container\">\n",
              "      <div>\n",
              "<style scoped>\n",
              "    .dataframe tbody tr th:only-of-type {\n",
              "        vertical-align: middle;\n",
              "    }\n",
              "\n",
              "    .dataframe tbody tr th {\n",
              "        vertical-align: top;\n",
              "    }\n",
              "\n",
              "    .dataframe thead th {\n",
              "        text-align: right;\n",
              "    }\n",
              "</style>\n",
              "<table border=\"1\" class=\"dataframe\">\n",
              "  <thead>\n",
              "    <tr style=\"text-align: right;\">\n",
              "      <th></th>\n",
              "      <th>age</th>\n",
              "      <th>job</th>\n",
              "      <th>marital</th>\n",
              "      <th>education</th>\n",
              "      <th>default</th>\n",
              "      <th>balance</th>\n",
              "      <th>housing</th>\n",
              "      <th>loan</th>\n",
              "      <th>day</th>\n",
              "      <th>month</th>\n",
              "      <th>duration</th>\n",
              "      <th>campaign</th>\n",
              "      <th>y</th>\n",
              "    </tr>\n",
              "  </thead>\n",
              "  <tbody>\n",
              "    <tr>\n",
              "      <th>0</th>\n",
              "      <td>58</td>\n",
              "      <td>management</td>\n",
              "      <td>married</td>\n",
              "      <td>tertiary</td>\n",
              "      <td>no</td>\n",
              "      <td>2143</td>\n",
              "      <td>yes</td>\n",
              "      <td>no</td>\n",
              "      <td>5</td>\n",
              "      <td>may</td>\n",
              "      <td>261</td>\n",
              "      <td>1</td>\n",
              "      <td>no</td>\n",
              "    </tr>\n",
              "    <tr>\n",
              "      <th>1</th>\n",
              "      <td>44</td>\n",
              "      <td>technician</td>\n",
              "      <td>single</td>\n",
              "      <td>secondary</td>\n",
              "      <td>no</td>\n",
              "      <td>29</td>\n",
              "      <td>yes</td>\n",
              "      <td>no</td>\n",
              "      <td>5</td>\n",
              "      <td>may</td>\n",
              "      <td>151</td>\n",
              "      <td>1</td>\n",
              "      <td>no</td>\n",
              "    </tr>\n",
              "    <tr>\n",
              "      <th>2</th>\n",
              "      <td>33</td>\n",
              "      <td>entrepreneur</td>\n",
              "      <td>married</td>\n",
              "      <td>secondary</td>\n",
              "      <td>no</td>\n",
              "      <td>2</td>\n",
              "      <td>yes</td>\n",
              "      <td>yes</td>\n",
              "      <td>5</td>\n",
              "      <td>may</td>\n",
              "      <td>76</td>\n",
              "      <td>1</td>\n",
              "      <td>no</td>\n",
              "    </tr>\n",
              "    <tr>\n",
              "      <th>5</th>\n",
              "      <td>35</td>\n",
              "      <td>management</td>\n",
              "      <td>married</td>\n",
              "      <td>tertiary</td>\n",
              "      <td>no</td>\n",
              "      <td>231</td>\n",
              "      <td>yes</td>\n",
              "      <td>no</td>\n",
              "      <td>5</td>\n",
              "      <td>may</td>\n",
              "      <td>139</td>\n",
              "      <td>1</td>\n",
              "      <td>no</td>\n",
              "    </tr>\n",
              "    <tr>\n",
              "      <th>6</th>\n",
              "      <td>28</td>\n",
              "      <td>management</td>\n",
              "      <td>single</td>\n",
              "      <td>tertiary</td>\n",
              "      <td>no</td>\n",
              "      <td>447</td>\n",
              "      <td>yes</td>\n",
              "      <td>yes</td>\n",
              "      <td>5</td>\n",
              "      <td>may</td>\n",
              "      <td>217</td>\n",
              "      <td>1</td>\n",
              "      <td>no</td>\n",
              "    </tr>\n",
              "  </tbody>\n",
              "</table>\n",
              "</div>\n",
              "      <button class=\"colab-df-convert\" onclick=\"convertToInteractive('df-d089d693-d45e-46a2-8214-a2954096e737')\"\n",
              "              title=\"Convert this dataframe to an interactive table.\"\n",
              "              style=\"display:none;\">\n",
              "        \n",
              "  <svg xmlns=\"http://www.w3.org/2000/svg\" height=\"24px\"viewBox=\"0 0 24 24\"\n",
              "       width=\"24px\">\n",
              "    <path d=\"M0 0h24v24H0V0z\" fill=\"none\"/>\n",
              "    <path d=\"M18.56 5.44l.94 2.06.94-2.06 2.06-.94-2.06-.94-.94-2.06-.94 2.06-2.06.94zm-11 1L8.5 8.5l.94-2.06 2.06-.94-2.06-.94L8.5 2.5l-.94 2.06-2.06.94zm10 10l.94 2.06.94-2.06 2.06-.94-2.06-.94-.94-2.06-.94 2.06-2.06.94z\"/><path d=\"M17.41 7.96l-1.37-1.37c-.4-.4-.92-.59-1.43-.59-.52 0-1.04.2-1.43.59L10.3 9.45l-7.72 7.72c-.78.78-.78 2.05 0 2.83L4 21.41c.39.39.9.59 1.41.59.51 0 1.02-.2 1.41-.59l7.78-7.78 2.81-2.81c.8-.78.8-2.07 0-2.86zM5.41 20L4 18.59l7.72-7.72 1.47 1.35L5.41 20z\"/>\n",
              "  </svg>\n",
              "      </button>\n",
              "      \n",
              "  <style>\n",
              "    .colab-df-container {\n",
              "      display:flex;\n",
              "      flex-wrap:wrap;\n",
              "      gap: 12px;\n",
              "    }\n",
              "\n",
              "    .colab-df-convert {\n",
              "      background-color: #E8F0FE;\n",
              "      border: none;\n",
              "      border-radius: 50%;\n",
              "      cursor: pointer;\n",
              "      display: none;\n",
              "      fill: #1967D2;\n",
              "      height: 32px;\n",
              "      padding: 0 0 0 0;\n",
              "      width: 32px;\n",
              "    }\n",
              "\n",
              "    .colab-df-convert:hover {\n",
              "      background-color: #E2EBFA;\n",
              "      box-shadow: 0px 1px 2px rgba(60, 64, 67, 0.3), 0px 1px 3px 1px rgba(60, 64, 67, 0.15);\n",
              "      fill: #174EA6;\n",
              "    }\n",
              "\n",
              "    [theme=dark] .colab-df-convert {\n",
              "      background-color: #3B4455;\n",
              "      fill: #D2E3FC;\n",
              "    }\n",
              "\n",
              "    [theme=dark] .colab-df-convert:hover {\n",
              "      background-color: #434B5C;\n",
              "      box-shadow: 0px 1px 3px 1px rgba(0, 0, 0, 0.15);\n",
              "      filter: drop-shadow(0px 1px 2px rgba(0, 0, 0, 0.3));\n",
              "      fill: #FFFFFF;\n",
              "    }\n",
              "  </style>\n",
              "\n",
              "      <script>\n",
              "        const buttonEl =\n",
              "          document.querySelector('#df-d089d693-d45e-46a2-8214-a2954096e737 button.colab-df-convert');\n",
              "        buttonEl.style.display =\n",
              "          google.colab.kernel.accessAllowed ? 'block' : 'none';\n",
              "\n",
              "        async function convertToInteractive(key) {\n",
              "          const element = document.querySelector('#df-d089d693-d45e-46a2-8214-a2954096e737');\n",
              "          const dataTable =\n",
              "            await google.colab.kernel.invokeFunction('convertToInteractive',\n",
              "                                                     [key], {});\n",
              "          if (!dataTable) return;\n",
              "\n",
              "          const docLinkHtml = 'Like what you see? Visit the ' +\n",
              "            '<a target=\"_blank\" href=https://colab.research.google.com/notebooks/data_table.ipynb>data table notebook</a>'\n",
              "            + ' to learn more about interactive tables.';\n",
              "          element.innerHTML = '';\n",
              "          dataTable['output_type'] = 'display_data';\n",
              "          await google.colab.output.renderOutput(dataTable, element);\n",
              "          const docLink = document.createElement('div');\n",
              "          docLink.innerHTML = docLinkHtml;\n",
              "          element.appendChild(docLink);\n",
              "        }\n",
              "      </script>\n",
              "    </div>\n",
              "  </div>\n",
              "  "
            ]
          },
          "metadata": {},
          "execution_count": 709
        }
      ]
    },
    {
      "cell_type": "markdown",
      "source": [
        "Now setting up a data pipeline to transform the data. Both the objects/categories and the integers. Because I plan on doing a bit of feature selection down the line. I will set up a data pipline within a function that is aimed at preprocessing the data. This way if I performa forward of backward selection model it will be easier to edit through.\n",
        "\n",
        "It should be noted that df_2 is now primed for Decision Trees or Randomforest.\n",
        "And the function below is set up to scale the data for algorithms such as KNN and Logistic Regression. By using scaled data it will reduce bias.\n",
        "\n",
        "Additionally the function below switched the data types for y, loan, default to make sure they dont go through unwanted transformations"
      ],
      "metadata": {
        "id": "P9ErqLucgSB_"
      }
    },
    {
      "cell_type": "code",
      "source": [
        "def transform_df(df):\n",
        "  \"\"\"This Function is set up to make it easy to transform the data if different\n",
        "   columns are missing\"\"\"\n",
        "  \n",
        "  # Changing the following to int so they dont get dummies\n",
        "  # Mapping the respective columns to binary\n",
        "  df['y'] = df.y.map(dict(yes=1, no=0))\n",
        "  df['default'] = df.default.map(dict(yes=1, no=0))\n",
        "  df['loan'] = df.loan.map(dict(yes=1, no=0))\n",
        "\n",
        "  # Also mapping the different categorical variables\n",
        "  df['education'] = df.education.map(dict(primary=0, secondary=1, tertiary=2))\n",
        "  df['housing'] = df.housing.map(dict(no=0, yes=1))\n",
        "  df['job'] = df.job.map(dict(admin=11, blue_collar=1, entrepreneur=2,\n",
        "                                housemaid=3, management=4, retired=5,\n",
        "                                self_employed=6, services=7, student=8,\n",
        "                                technician=9, unemployed=10))\n",
        "  df['marital'] = df.marital.map(dict(divorced=0, married=1, single=2))\n",
        "\n",
        "  df['month'] = df.month.map(dict(jan=1, feb=2,mar=3, apr=4,\n",
        "                                    may=5, jun=6, jul=7, aug=8, sep=9,\n",
        "                                    oct=10, nov=11, dec=12))\n",
        "\n",
        "  df['y'] = df['y'].astype('int64')\n",
        "  df['loan'] = df['loan'].astype('int64')\n",
        "  df['default'] = df['default'].astype('int64')\n",
        "\n",
        "  # Gathering Dummies for the \n",
        "  df_t = pd.get_dummies(data=df, columns=[col for col in df if df[col].dtype == 'category'])\n",
        "  \n",
        "  # Flipping the y, loan, default back to category so they dont get scaled\n",
        "  df_t['y'] = df_t['y'].astype('category')\n",
        "  df_t['loan'] = df_t['loan'].astype('category')\n",
        "  df_t['default'] = df_t['default'].astype('category')\n",
        "\n",
        "  \n",
        "  # Scaling all the integer data with the MinMaxScaler()\n",
        "  scaler = MinMaxScaler()\n",
        "  s_cols = [col for col in df_t if df_t[col].dtype == 'int64']\n",
        "  df_t[s_cols] = scaler.fit_transform(df_t[s_cols])\n",
        "\n",
        "\n",
        "  return df_t"
      ],
      "metadata": {
        "id": "FE-fvHacz8TW"
      },
      "execution_count": 710,
      "outputs": []
    },
    {
      "cell_type": "markdown",
      "source": [
        "Note that df_3 is a full feature data set. It is just shown below to display that one hot encoding is actually taking place. and that scalling is being conducted.\n",
        "\n",
        "This is to display what Project 01 Data Looked Like. df_2 is the data set that I will be using for emulating the pipelines.\n",
        "\n",
        "Note that I also changed this slighlty from project 1. Now all the transformation happens inside a function. This way I can transform the "
      ],
      "metadata": {
        "id": "PswAV01nlyuV"
      }
    },
    {
      "cell_type": "code",
      "source": [
        "# Displaying what the newly transformed data looks like\n",
        "df_3 = df_2.copy()\n",
        "df_3 = transform_df(df_3)"
      ],
      "metadata": {
        "id": "QY1sdqQ018N2"
      },
      "execution_count": 711,
      "outputs": []
    },
    {
      "cell_type": "markdown",
      "source": [
        "# Pipelining the Preprocessing\n",
        "- Below is the code used to make a pipeline to preprocess the data"
      ],
      "metadata": {
        "id": "zPwqsaazGL-r"
      }
    },
    {
      "cell_type": "code",
      "source": [
        "# Displaying the Head of the Data to show that is is un-altered.\n",
        "df_2.head()"
      ],
      "metadata": {
        "colab": {
          "base_uri": "https://localhost:8080/",
          "height": 206
        },
        "id": "QZgTEpBNGV9u",
        "outputId": "1263a474-c269-4149-e55f-8307e88ab7d5"
      },
      "execution_count": 712,
      "outputs": [
        {
          "output_type": "execute_result",
          "data": {
            "text/plain": [
              "   age           job  marital  education default  balance housing loan  day  \\\n",
              "0   58    management  married   tertiary      no     2143     yes   no    5   \n",
              "1   44    technician   single  secondary      no       29     yes   no    5   \n",
              "2   33  entrepreneur  married  secondary      no        2     yes  yes    5   \n",
              "5   35    management  married   tertiary      no      231     yes   no    5   \n",
              "6   28    management   single   tertiary      no      447     yes  yes    5   \n",
              "\n",
              "  month  duration  campaign   y  \n",
              "0   may       261         1  no  \n",
              "1   may       151         1  no  \n",
              "2   may        76         1  no  \n",
              "5   may       139         1  no  \n",
              "6   may       217         1  no  "
            ],
            "text/html": [
              "\n",
              "  <div id=\"df-54fee734-9d71-4f7d-acfd-e3817ca8fec7\">\n",
              "    <div class=\"colab-df-container\">\n",
              "      <div>\n",
              "<style scoped>\n",
              "    .dataframe tbody tr th:only-of-type {\n",
              "        vertical-align: middle;\n",
              "    }\n",
              "\n",
              "    .dataframe tbody tr th {\n",
              "        vertical-align: top;\n",
              "    }\n",
              "\n",
              "    .dataframe thead th {\n",
              "        text-align: right;\n",
              "    }\n",
              "</style>\n",
              "<table border=\"1\" class=\"dataframe\">\n",
              "  <thead>\n",
              "    <tr style=\"text-align: right;\">\n",
              "      <th></th>\n",
              "      <th>age</th>\n",
              "      <th>job</th>\n",
              "      <th>marital</th>\n",
              "      <th>education</th>\n",
              "      <th>default</th>\n",
              "      <th>balance</th>\n",
              "      <th>housing</th>\n",
              "      <th>loan</th>\n",
              "      <th>day</th>\n",
              "      <th>month</th>\n",
              "      <th>duration</th>\n",
              "      <th>campaign</th>\n",
              "      <th>y</th>\n",
              "    </tr>\n",
              "  </thead>\n",
              "  <tbody>\n",
              "    <tr>\n",
              "      <th>0</th>\n",
              "      <td>58</td>\n",
              "      <td>management</td>\n",
              "      <td>married</td>\n",
              "      <td>tertiary</td>\n",
              "      <td>no</td>\n",
              "      <td>2143</td>\n",
              "      <td>yes</td>\n",
              "      <td>no</td>\n",
              "      <td>5</td>\n",
              "      <td>may</td>\n",
              "      <td>261</td>\n",
              "      <td>1</td>\n",
              "      <td>no</td>\n",
              "    </tr>\n",
              "    <tr>\n",
              "      <th>1</th>\n",
              "      <td>44</td>\n",
              "      <td>technician</td>\n",
              "      <td>single</td>\n",
              "      <td>secondary</td>\n",
              "      <td>no</td>\n",
              "      <td>29</td>\n",
              "      <td>yes</td>\n",
              "      <td>no</td>\n",
              "      <td>5</td>\n",
              "      <td>may</td>\n",
              "      <td>151</td>\n",
              "      <td>1</td>\n",
              "      <td>no</td>\n",
              "    </tr>\n",
              "    <tr>\n",
              "      <th>2</th>\n",
              "      <td>33</td>\n",
              "      <td>entrepreneur</td>\n",
              "      <td>married</td>\n",
              "      <td>secondary</td>\n",
              "      <td>no</td>\n",
              "      <td>2</td>\n",
              "      <td>yes</td>\n",
              "      <td>yes</td>\n",
              "      <td>5</td>\n",
              "      <td>may</td>\n",
              "      <td>76</td>\n",
              "      <td>1</td>\n",
              "      <td>no</td>\n",
              "    </tr>\n",
              "    <tr>\n",
              "      <th>5</th>\n",
              "      <td>35</td>\n",
              "      <td>management</td>\n",
              "      <td>married</td>\n",
              "      <td>tertiary</td>\n",
              "      <td>no</td>\n",
              "      <td>231</td>\n",
              "      <td>yes</td>\n",
              "      <td>no</td>\n",
              "      <td>5</td>\n",
              "      <td>may</td>\n",
              "      <td>139</td>\n",
              "      <td>1</td>\n",
              "      <td>no</td>\n",
              "    </tr>\n",
              "    <tr>\n",
              "      <th>6</th>\n",
              "      <td>28</td>\n",
              "      <td>management</td>\n",
              "      <td>single</td>\n",
              "      <td>tertiary</td>\n",
              "      <td>no</td>\n",
              "      <td>447</td>\n",
              "      <td>yes</td>\n",
              "      <td>yes</td>\n",
              "      <td>5</td>\n",
              "      <td>may</td>\n",
              "      <td>217</td>\n",
              "      <td>1</td>\n",
              "      <td>no</td>\n",
              "    </tr>\n",
              "  </tbody>\n",
              "</table>\n",
              "</div>\n",
              "      <button class=\"colab-df-convert\" onclick=\"convertToInteractive('df-54fee734-9d71-4f7d-acfd-e3817ca8fec7')\"\n",
              "              title=\"Convert this dataframe to an interactive table.\"\n",
              "              style=\"display:none;\">\n",
              "        \n",
              "  <svg xmlns=\"http://www.w3.org/2000/svg\" height=\"24px\"viewBox=\"0 0 24 24\"\n",
              "       width=\"24px\">\n",
              "    <path d=\"M0 0h24v24H0V0z\" fill=\"none\"/>\n",
              "    <path d=\"M18.56 5.44l.94 2.06.94-2.06 2.06-.94-2.06-.94-.94-2.06-.94 2.06-2.06.94zm-11 1L8.5 8.5l.94-2.06 2.06-.94-2.06-.94L8.5 2.5l-.94 2.06-2.06.94zm10 10l.94 2.06.94-2.06 2.06-.94-2.06-.94-.94-2.06-.94 2.06-2.06.94z\"/><path d=\"M17.41 7.96l-1.37-1.37c-.4-.4-.92-.59-1.43-.59-.52 0-1.04.2-1.43.59L10.3 9.45l-7.72 7.72c-.78.78-.78 2.05 0 2.83L4 21.41c.39.39.9.59 1.41.59.51 0 1.02-.2 1.41-.59l7.78-7.78 2.81-2.81c.8-.78.8-2.07 0-2.86zM5.41 20L4 18.59l7.72-7.72 1.47 1.35L5.41 20z\"/>\n",
              "  </svg>\n",
              "      </button>\n",
              "      \n",
              "  <style>\n",
              "    .colab-df-container {\n",
              "      display:flex;\n",
              "      flex-wrap:wrap;\n",
              "      gap: 12px;\n",
              "    }\n",
              "\n",
              "    .colab-df-convert {\n",
              "      background-color: #E8F0FE;\n",
              "      border: none;\n",
              "      border-radius: 50%;\n",
              "      cursor: pointer;\n",
              "      display: none;\n",
              "      fill: #1967D2;\n",
              "      height: 32px;\n",
              "      padding: 0 0 0 0;\n",
              "      width: 32px;\n",
              "    }\n",
              "\n",
              "    .colab-df-convert:hover {\n",
              "      background-color: #E2EBFA;\n",
              "      box-shadow: 0px 1px 2px rgba(60, 64, 67, 0.3), 0px 1px 3px 1px rgba(60, 64, 67, 0.15);\n",
              "      fill: #174EA6;\n",
              "    }\n",
              "\n",
              "    [theme=dark] .colab-df-convert {\n",
              "      background-color: #3B4455;\n",
              "      fill: #D2E3FC;\n",
              "    }\n",
              "\n",
              "    [theme=dark] .colab-df-convert:hover {\n",
              "      background-color: #434B5C;\n",
              "      box-shadow: 0px 1px 3px 1px rgba(0, 0, 0, 0.15);\n",
              "      filter: drop-shadow(0px 1px 2px rgba(0, 0, 0, 0.3));\n",
              "      fill: #FFFFFF;\n",
              "    }\n",
              "  </style>\n",
              "\n",
              "      <script>\n",
              "        const buttonEl =\n",
              "          document.querySelector('#df-54fee734-9d71-4f7d-acfd-e3817ca8fec7 button.colab-df-convert');\n",
              "        buttonEl.style.display =\n",
              "          google.colab.kernel.accessAllowed ? 'block' : 'none';\n",
              "\n",
              "        async function convertToInteractive(key) {\n",
              "          const element = document.querySelector('#df-54fee734-9d71-4f7d-acfd-e3817ca8fec7');\n",
              "          const dataTable =\n",
              "            await google.colab.kernel.invokeFunction('convertToInteractive',\n",
              "                                                     [key], {});\n",
              "          if (!dataTable) return;\n",
              "\n",
              "          const docLinkHtml = 'Like what you see? Visit the ' +\n",
              "            '<a target=\"_blank\" href=https://colab.research.google.com/notebooks/data_table.ipynb>data table notebook</a>'\n",
              "            + ' to learn more about interactive tables.';\n",
              "          element.innerHTML = '';\n",
              "          dataTable['output_type'] = 'display_data';\n",
              "          await google.colab.output.renderOutput(dataTable, element);\n",
              "          const docLink = document.createElement('div');\n",
              "          docLink.innerHTML = docLinkHtml;\n",
              "          element.appendChild(docLink);\n",
              "        }\n",
              "      </script>\n",
              "    </div>\n",
              "  </div>\n",
              "  "
            ]
          },
          "metadata": {},
          "execution_count": 712
        }
      ]
    },
    {
      "cell_type": "code",
      "source": [
        "# Making a copy of df to be used\n",
        "df_p = df_2.copy()\n",
        "\n",
        "# Dropping columns discovered from Project 1\n",
        "df_p.drop(columns=['day', 'balance',\n",
        "                   'education', 'default'], inplace=True)\n",
        "\n",
        "# Changing the Objects to categories\n",
        "obj_cols = [col for col in df_p if df_p[col].dtype == 'object']\n",
        "for col in df_p.columns:\n",
        "  if col in obj_cols:\n",
        "    df_p[col] = df_p[col].astype('category')\n",
        "\n",
        "# Dropping the remaining Nan rows\n",
        "df_p.dropna(inplace=True)\n",
        "\n",
        "df_p.info()"
      ],
      "metadata": {
        "colab": {
          "base_uri": "https://localhost:8080/"
        },
        "id": "zR8FlqWELUq2",
        "outputId": "5bdf5ab8-5c72-4e5a-e0f7-2f4e941122a7"
      },
      "execution_count": 713,
      "outputs": [
        {
          "output_type": "stream",
          "name": "stdout",
          "text": [
            "<class 'pandas.core.frame.DataFrame'>\n",
            "Int64Index: 35281 entries, 0 to 45209\n",
            "Data columns (total 9 columns):\n",
            " #   Column    Non-Null Count  Dtype   \n",
            "---  ------    --------------  -----   \n",
            " 0   age       35281 non-null  int64   \n",
            " 1   job       35281 non-null  category\n",
            " 2   marital   35281 non-null  category\n",
            " 3   housing   35281 non-null  category\n",
            " 4   loan      35281 non-null  category\n",
            " 5   month     35281 non-null  category\n",
            " 6   duration  35281 non-null  int64   \n",
            " 7   campaign  35281 non-null  int64   \n",
            " 8   y         35281 non-null  category\n",
            "dtypes: category(6), int64(3)\n",
            "memory usage: 1.3 MB\n"
          ]
        }
      ]
    },
    {
      "cell_type": "markdown",
      "source": [
        "This next code block splits df_p into test and training sets.\n",
        "The Training set is then resampled to have a even distribution.\n",
        "I should have down sampled the y = no. But I did not do that in project one.\n",
        "The result gives me a larger test group with a balanced distribution for Y."
      ],
      "metadata": {
        "id": "l0aw-ptt0mTj"
      }
    },
    {
      "cell_type": "code",
      "source": [
        "# Splitting the data up into X and Y\n",
        "X_all = df_p.loc[:, df_p.columns != 'y']\n",
        "Y_all = df_p.loc[:, df_p.columns == 'y']\n",
        "\n",
        "# Splitting the data up into x and y training and test sets\n",
        "x_train, x_test, y_train, y_test = train_test_split(\n",
        "    X_all, Y_all, test_size=0.2, random_state=42, stratify=Y_all, shuffle=True)\n",
        "\n",
        "# Putting together the test set to resample\n",
        "df_train = pd.concat([x_train.reset_index(drop=True),\n",
        "                        y_train.reset_index(drop=True)], axis=1)\n",
        "\n",
        "# Diving up the training set to resample\n",
        "df_maj = df_train[df_train['y'] == 'no']\n",
        "df_min = df_train[df_train['y'] == 'yes']                        \n",
        "\n",
        "# Gathering the sample that I want yes to be resampled to\n",
        "sample_num = len(df_maj)\n",
        "\n",
        "# Resampling the Yes Responses\n",
        "min_resampled = resample(df_min, replace=True, n_samples=sample_num, \n",
        "                             random_state=42)\n",
        "\n",
        "# Placing the resampled Training Data set back together\n",
        "df_resampled = pd.concat([df_maj, min_resampled])\n",
        "\n",
        "# Splitting the resampled data back up into X and Y\n",
        "x_train_re = df_resampled.loc[:, df_resampled.columns != 'y']\n",
        "y_train_re = df_resampled.loc[:, df_resampled.columns == 'y']"
      ],
      "metadata": {
        "id": "LzX3w1130jES"
      },
      "execution_count": 714,
      "outputs": []
    },
    {
      "cell_type": "code",
      "source": [
        "df_resampled.head()"
      ],
      "metadata": {
        "colab": {
          "base_uri": "https://localhost:8080/",
          "height": 206
        },
        "id": "TpHq1mIS2Akw",
        "outputId": "3314deb9-edbb-442d-8dba-8a5fb8e07e3b"
      },
      "execution_count": 715,
      "outputs": [
        {
          "output_type": "execute_result",
          "data": {
            "text/plain": [
              "   age         job  marital housing loan month  duration  campaign   y\n",
              "0   26  technician   single     yes   no   jun       209         2  no\n",
              "2   52  technician  married      no   no   jun       613         1  no\n",
              "3   48  technician  married      no   no   nov       104         2  no\n",
              "4   20     student   single      no   no   may       106         2  no\n",
              "5   53   housemaid  married     yes   no   may       535         1  no"
            ],
            "text/html": [
              "\n",
              "  <div id=\"df-18bd2e6d-eca5-4b4e-9c9f-ef686bf8f78e\">\n",
              "    <div class=\"colab-df-container\">\n",
              "      <div>\n",
              "<style scoped>\n",
              "    .dataframe tbody tr th:only-of-type {\n",
              "        vertical-align: middle;\n",
              "    }\n",
              "\n",
              "    .dataframe tbody tr th {\n",
              "        vertical-align: top;\n",
              "    }\n",
              "\n",
              "    .dataframe thead th {\n",
              "        text-align: right;\n",
              "    }\n",
              "</style>\n",
              "<table border=\"1\" class=\"dataframe\">\n",
              "  <thead>\n",
              "    <tr style=\"text-align: right;\">\n",
              "      <th></th>\n",
              "      <th>age</th>\n",
              "      <th>job</th>\n",
              "      <th>marital</th>\n",
              "      <th>housing</th>\n",
              "      <th>loan</th>\n",
              "      <th>month</th>\n",
              "      <th>duration</th>\n",
              "      <th>campaign</th>\n",
              "      <th>y</th>\n",
              "    </tr>\n",
              "  </thead>\n",
              "  <tbody>\n",
              "    <tr>\n",
              "      <th>0</th>\n",
              "      <td>26</td>\n",
              "      <td>technician</td>\n",
              "      <td>single</td>\n",
              "      <td>yes</td>\n",
              "      <td>no</td>\n",
              "      <td>jun</td>\n",
              "      <td>209</td>\n",
              "      <td>2</td>\n",
              "      <td>no</td>\n",
              "    </tr>\n",
              "    <tr>\n",
              "      <th>2</th>\n",
              "      <td>52</td>\n",
              "      <td>technician</td>\n",
              "      <td>married</td>\n",
              "      <td>no</td>\n",
              "      <td>no</td>\n",
              "      <td>jun</td>\n",
              "      <td>613</td>\n",
              "      <td>1</td>\n",
              "      <td>no</td>\n",
              "    </tr>\n",
              "    <tr>\n",
              "      <th>3</th>\n",
              "      <td>48</td>\n",
              "      <td>technician</td>\n",
              "      <td>married</td>\n",
              "      <td>no</td>\n",
              "      <td>no</td>\n",
              "      <td>nov</td>\n",
              "      <td>104</td>\n",
              "      <td>2</td>\n",
              "      <td>no</td>\n",
              "    </tr>\n",
              "    <tr>\n",
              "      <th>4</th>\n",
              "      <td>20</td>\n",
              "      <td>student</td>\n",
              "      <td>single</td>\n",
              "      <td>no</td>\n",
              "      <td>no</td>\n",
              "      <td>may</td>\n",
              "      <td>106</td>\n",
              "      <td>2</td>\n",
              "      <td>no</td>\n",
              "    </tr>\n",
              "    <tr>\n",
              "      <th>5</th>\n",
              "      <td>53</td>\n",
              "      <td>housemaid</td>\n",
              "      <td>married</td>\n",
              "      <td>yes</td>\n",
              "      <td>no</td>\n",
              "      <td>may</td>\n",
              "      <td>535</td>\n",
              "      <td>1</td>\n",
              "      <td>no</td>\n",
              "    </tr>\n",
              "  </tbody>\n",
              "</table>\n",
              "</div>\n",
              "      <button class=\"colab-df-convert\" onclick=\"convertToInteractive('df-18bd2e6d-eca5-4b4e-9c9f-ef686bf8f78e')\"\n",
              "              title=\"Convert this dataframe to an interactive table.\"\n",
              "              style=\"display:none;\">\n",
              "        \n",
              "  <svg xmlns=\"http://www.w3.org/2000/svg\" height=\"24px\"viewBox=\"0 0 24 24\"\n",
              "       width=\"24px\">\n",
              "    <path d=\"M0 0h24v24H0V0z\" fill=\"none\"/>\n",
              "    <path d=\"M18.56 5.44l.94 2.06.94-2.06 2.06-.94-2.06-.94-.94-2.06-.94 2.06-2.06.94zm-11 1L8.5 8.5l.94-2.06 2.06-.94-2.06-.94L8.5 2.5l-.94 2.06-2.06.94zm10 10l.94 2.06.94-2.06 2.06-.94-2.06-.94-.94-2.06-.94 2.06-2.06.94z\"/><path d=\"M17.41 7.96l-1.37-1.37c-.4-.4-.92-.59-1.43-.59-.52 0-1.04.2-1.43.59L10.3 9.45l-7.72 7.72c-.78.78-.78 2.05 0 2.83L4 21.41c.39.39.9.59 1.41.59.51 0 1.02-.2 1.41-.59l7.78-7.78 2.81-2.81c.8-.78.8-2.07 0-2.86zM5.41 20L4 18.59l7.72-7.72 1.47 1.35L5.41 20z\"/>\n",
              "  </svg>\n",
              "      </button>\n",
              "      \n",
              "  <style>\n",
              "    .colab-df-container {\n",
              "      display:flex;\n",
              "      flex-wrap:wrap;\n",
              "      gap: 12px;\n",
              "    }\n",
              "\n",
              "    .colab-df-convert {\n",
              "      background-color: #E8F0FE;\n",
              "      border: none;\n",
              "      border-radius: 50%;\n",
              "      cursor: pointer;\n",
              "      display: none;\n",
              "      fill: #1967D2;\n",
              "      height: 32px;\n",
              "      padding: 0 0 0 0;\n",
              "      width: 32px;\n",
              "    }\n",
              "\n",
              "    .colab-df-convert:hover {\n",
              "      background-color: #E2EBFA;\n",
              "      box-shadow: 0px 1px 2px rgba(60, 64, 67, 0.3), 0px 1px 3px 1px rgba(60, 64, 67, 0.15);\n",
              "      fill: #174EA6;\n",
              "    }\n",
              "\n",
              "    [theme=dark] .colab-df-convert {\n",
              "      background-color: #3B4455;\n",
              "      fill: #D2E3FC;\n",
              "    }\n",
              "\n",
              "    [theme=dark] .colab-df-convert:hover {\n",
              "      background-color: #434B5C;\n",
              "      box-shadow: 0px 1px 3px 1px rgba(0, 0, 0, 0.15);\n",
              "      filter: drop-shadow(0px 1px 2px rgba(0, 0, 0, 0.3));\n",
              "      fill: #FFFFFF;\n",
              "    }\n",
              "  </style>\n",
              "\n",
              "      <script>\n",
              "        const buttonEl =\n",
              "          document.querySelector('#df-18bd2e6d-eca5-4b4e-9c9f-ef686bf8f78e button.colab-df-convert');\n",
              "        buttonEl.style.display =\n",
              "          google.colab.kernel.accessAllowed ? 'block' : 'none';\n",
              "\n",
              "        async function convertToInteractive(key) {\n",
              "          const element = document.querySelector('#df-18bd2e6d-eca5-4b4e-9c9f-ef686bf8f78e');\n",
              "          const dataTable =\n",
              "            await google.colab.kernel.invokeFunction('convertToInteractive',\n",
              "                                                     [key], {});\n",
              "          if (!dataTable) return;\n",
              "\n",
              "          const docLinkHtml = 'Like what you see? Visit the ' +\n",
              "            '<a target=\"_blank\" href=https://colab.research.google.com/notebooks/data_table.ipynb>data table notebook</a>'\n",
              "            + ' to learn more about interactive tables.';\n",
              "          element.innerHTML = '';\n",
              "          dataTable['output_type'] = 'display_data';\n",
              "          await google.colab.output.renderOutput(dataTable, element);\n",
              "          const docLink = document.createElement('div');\n",
              "          docLink.innerHTML = docLinkHtml;\n",
              "          element.appendChild(docLink);\n",
              "        }\n",
              "      </script>\n",
              "    </div>\n",
              "  </div>\n",
              "  "
            ]
          },
          "metadata": {},
          "execution_count": 715
        }
      ]
    },
    {
      "cell_type": "code",
      "source": [
        "# Creating a pipe Line for the logistic regression\n",
        "# Setting up the pipeline to transform the numeric Data\n",
        "numFeatures = df_resampled.select_dtypes(include=['int64']).columns\n",
        "numTransformer = Pipeline(steps=[('minmax', MinMaxScaler())])\n",
        "\n",
        "# Setting up the pipeline to transform the Categorical\n",
        "# This is slightly different from model 1 in the fact that I use onehot over dummies\n",
        "catFeatures = df_resampled.select_dtypes(include=['category']).drop(['y'], axis=1).columns\n",
        "catTransformer = Pipeline(steps=[('imputer', SimpleImputer(strategy='most_frequent')),\n",
        "                                 ('Onehot Encoding', OneHotEncoder(drop='if_binary'))])\n",
        "\n",
        "# Setting up a preprocessor\n",
        "preprocessor = ColumnTransformer(\n",
        "                  transformers=[('nums', numTransformer, numFeatures),\n",
        "                                ('cat', catTransformer, catFeatures)])\n",
        "\n",
        "# The Logistic Regression Here was Changed to Binomial \n",
        "# In project 1 I had it as multinomial which is wrong\n",
        "logistic_pipeline = Pipeline(steps=[('preprocessor', preprocessor), \n",
        "                          ('Logistic Regression',\n",
        "                            LogisticRegression(solver='newton-cg'\n",
        "                              , multi_class='ovr', max_iter = 300))])\n",
        "logistic_model = logistic_pipeline.fit(x_train_re, y_train_re.values.ravel())\n",
        "\n",
        "print(\"The training score was:\", round(logistic_model.score(x_train_re, y_train_re)*100,2))\n",
        "print(\"The testing score was:\", round(logistic_model.score(x_test, y_test)*100,2))"
      ],
      "metadata": {
        "colab": {
          "base_uri": "https://localhost:8080/"
        },
        "id": "55NKQhu68hNm",
        "outputId": "676befa5-cf21-4544-a9a6-88568498677b"
      },
      "execution_count": 716,
      "outputs": [
        {
          "output_type": "stream",
          "name": "stdout",
          "text": [
            "The training score was: 83.01\n",
            "The testing score was: 83.66\n"
          ]
        }
      ]
    },
    {
      "cell_type": "markdown",
      "source": [
        "Note that when adjusting project one I ended up with a training score of 79.65 and a testing score of 81.62. This is a slight improvement, I attribut this to using the binary logistic regression and switching dummies to OneHot Endcoding.\n",
        "\n",
        "The next pipeline is set up for KNN. This is the same set up as the logistic regresion interms of pipeline."
      ],
      "metadata": {
        "id": "EAjx6FNn-kvW"
      }
    },
    {
      "cell_type": "code",
      "source": [
        "# Setting up the KNN Pipeline\n",
        "# Note that this requires the same preprocessing as the Logistic Regression\n",
        "\n",
        "knn_pipeline = Pipeline(steps=[('preprocessor', preprocessor), \n",
        "                              ('KNN', KNeighborsClassifier(n_neighbors=4))])\n",
        "knn_model = knn_pipeline.fit(x_train_re, y_train_re.values.ravel())\n",
        "\n",
        "display(\"Training score:\", round(knn_model.score(x_train_re, y_train_re)*100,2))\n",
        "display(\"Testing score:\", round(knn_model.score(x_test, y_test)*100,2))"
      ],
      "metadata": {
        "colab": {
          "base_uri": "https://localhost:8080/",
          "height": 91
        },
        "id": "SqZ-2E2Ch_Q6",
        "outputId": "b05f44ef-4b45-4541-8f37-6a93bc9ba659"
      },
      "execution_count": 717,
      "outputs": [
        {
          "output_type": "display_data",
          "data": {
            "text/plain": [
              "'Training score:'"
            ],
            "application/vnd.google.colaboratory.intrinsic+json": {
              "type": "string"
            }
          },
          "metadata": {}
        },
        {
          "output_type": "display_data",
          "data": {
            "text/plain": [
              "97.3"
            ]
          },
          "metadata": {}
        },
        {
          "output_type": "display_data",
          "data": {
            "text/plain": [
              "'Testing score:'"
            ],
            "application/vnd.google.colaboratory.intrinsic+json": {
              "type": "string"
            }
          },
          "metadata": {}
        },
        {
          "output_type": "display_data",
          "data": {
            "text/plain": [
              "86.59"
            ]
          },
          "metadata": {}
        }
      ]
    },
    {
      "cell_type": "markdown",
      "source": [
        "Note that this is slighlty different than the Project 1 results\n",
        "Training Score: 96.88%\n",
        "Testing Score: 84.67%\n",
        "I attribute this to the onehot encoding over dummies. The results still give the same trend as project 1. Where this performed slighly better than the Logistic Regression.\n",
        "\n",
        "The Next Pipeline is for the decision tree. This will be rather simple because I do not need to one hot encode the data or apply dummies to it. \n",
        "After doing a bit of spinning of wheels I realized that LabelEncoder does not work inside the pipeline. It is for this reason that I use label encoding outside of the pipeline to try and keep the data set as close to Project 1.\n"
      ],
      "metadata": {
        "id": "zP1MQ4l2E_YQ"
      }
    },
    {
      "cell_type": "code",
      "source": [
        "# Decision Tree Pipeline\n",
        "\n",
        "tree_pipeline = Pipeline(steps=[('Decision Tree', DecisionTreeClassifier(criterion='gini', max_depth=6, random_state=42))])\n",
        "\n",
        "# Label Encoding the catigorical variables\n",
        "x_train_re_dt = x_train_re.apply(LabelEncoder().fit_transform)\n",
        "y_train_re_dt = y_train_re.apply(LabelEncoder().fit_transform)\n",
        "x_test_re_dt = x_test.apply(LabelEncoder().fit_transform)\n",
        "y_test_re_dt = y_test.apply(LabelEncoder().fit_transform)\n",
        "\n",
        "# Fitting the decision tree model\n",
        "tree_model = tree_pipeline.fit(x_train_re_dt, y_train_re_dt.values.ravel())\n",
        "\n",
        "# Gathering the scores\n",
        "display(\"Training score:\", round(tree_model.score(x_train_re_dt, y_train_re_dt)*100,2))\n",
        "display(\"Testing score:\", round(tree_model.score(x_test_re_dt, y_test_re_dt)*100,2))"
      ],
      "metadata": {
        "colab": {
          "base_uri": "https://localhost:8080/",
          "height": 91
        },
        "id": "eMFTzBEKEfy_",
        "outputId": "abc9e18d-c188-441c-84cd-148ace098895"
      },
      "execution_count": 718,
      "outputs": [
        {
          "output_type": "display_data",
          "data": {
            "text/plain": [
              "'Training score:'"
            ],
            "application/vnd.google.colaboratory.intrinsic+json": {
              "type": "string"
            }
          },
          "metadata": {}
        },
        {
          "output_type": "display_data",
          "data": {
            "text/plain": [
              "83.01"
            ]
          },
          "metadata": {}
        },
        {
          "output_type": "display_data",
          "data": {
            "text/plain": [
              "'Testing score:'"
            ],
            "application/vnd.google.colaboratory.intrinsic+json": {
              "type": "string"
            }
          },
          "metadata": {}
        },
        {
          "output_type": "display_data",
          "data": {
            "text/plain": [
              "81.85"
            ]
          },
          "metadata": {}
        }
      ]
    },
    {
      "cell_type": "markdown",
      "source": [
        "Compared to Project 1 the training and test scores are slighly different\n",
        "Training Score: 85.54\n",
        "Testing Score: 82.17\n",
        "The results are similiar in range compared to KNN and Logistic Regrestion\n",
        "Where these resuilts are in the middle and the testing score is slighly lower than the training score.\n"
      ],
      "metadata": {
        "id": "PCqbNp63ZLhP"
      }
    },
    {
      "cell_type": "markdown",
      "source": [
        "# 2). Use Nested cross-validation to optimize and compare the performance of the machine learning algorithms you are using to model your data.\n",
        "\n",
        "- In order to perform a more equal comparison of your models' performance, and to ensure that we have the best set of hyperparameters in use, implement nested cross-validation for each pipeline using the GridSearchCV class and cross_val_score function.\n",
        "\n",
        "- For each of the pipelines that I am comparing, create a list of values for each applicable hyperparamter and provide it as the param_grid for the GridSearchCV class.\n",
        "\n",
        "- Compare this nested cross-validation technique to the model comparison I performed in project 1.\n",
        "\n",
        "- Are my findings different now that the pipelines are tuned and compared in an unbiased manner"
      ],
      "metadata": {
        "id": "ycCa35xQrAoB"
      }
    },
    {
      "cell_type": "markdown",
      "source": [
        "Now that we have a transforming method it is time to start looking at if we have equally weight output labels. We do not. Therefore, the next steps are going to be aimed at evening out this training data set. The method that is used is resampling. This is done by over sampling the with replacement until the client respondants with yes is equal to that of those saying no. (1,0)"
      ],
      "metadata": {
        "id": "hBP4cEkcpavQ"
      }
    },
    {
      "cell_type": "markdown",
      "source": [
        "### Logistic Regression GridSearch and Cross Val Score"
      ],
      "metadata": {
        "id": "BVLvZgXyvxqy"
      }
    },
    {
      "cell_type": "code",
      "source": [
        "# Showing the Different param Keys\n",
        "logistic_pipeline.get_params().keys()"
      ],
      "metadata": {
        "colab": {
          "base_uri": "https://localhost:8080/"
        },
        "id": "RpkOFCQ_pfkw",
        "outputId": "1b3e2830-6ed3-49a1-e1b3-f6f01da5ed5a"
      },
      "execution_count": 719,
      "outputs": [
        {
          "output_type": "execute_result",
          "data": {
            "text/plain": [
              "dict_keys(['memory', 'steps', 'verbose', 'preprocessor', 'Logistic Regression', 'preprocessor__n_jobs', 'preprocessor__remainder', 'preprocessor__sparse_threshold', 'preprocessor__transformer_weights', 'preprocessor__transformers', 'preprocessor__verbose', 'preprocessor__verbose_feature_names_out', 'preprocessor__nums', 'preprocessor__cat', 'preprocessor__nums__memory', 'preprocessor__nums__steps', 'preprocessor__nums__verbose', 'preprocessor__nums__minmax', 'preprocessor__nums__minmax__clip', 'preprocessor__nums__minmax__copy', 'preprocessor__nums__minmax__feature_range', 'preprocessor__cat__memory', 'preprocessor__cat__steps', 'preprocessor__cat__verbose', 'preprocessor__cat__imputer', 'preprocessor__cat__Onehot Encoding', 'preprocessor__cat__imputer__add_indicator', 'preprocessor__cat__imputer__copy', 'preprocessor__cat__imputer__fill_value', 'preprocessor__cat__imputer__missing_values', 'preprocessor__cat__imputer__strategy', 'preprocessor__cat__imputer__verbose', 'preprocessor__cat__Onehot Encoding__categories', 'preprocessor__cat__Onehot Encoding__drop', 'preprocessor__cat__Onehot Encoding__dtype', 'preprocessor__cat__Onehot Encoding__handle_unknown', 'preprocessor__cat__Onehot Encoding__sparse', 'Logistic Regression__C', 'Logistic Regression__class_weight', 'Logistic Regression__dual', 'Logistic Regression__fit_intercept', 'Logistic Regression__intercept_scaling', 'Logistic Regression__l1_ratio', 'Logistic Regression__max_iter', 'Logistic Regression__multi_class', 'Logistic Regression__n_jobs', 'Logistic Regression__penalty', 'Logistic Regression__random_state', 'Logistic Regression__solver', 'Logistic Regression__tol', 'Logistic Regression__verbose', 'Logistic Regression__warm_start'])"
            ]
          },
          "metadata": {},
          "execution_count": 719
        }
      ]
    },
    {
      "cell_type": "code",
      "source": [
        "# Logistic Regression Cross-Validation Using GridSearch and score cross_val_Function\n",
        "\n",
        "# Gathering the Hyperparamaters\n",
        "lr_parameters = {\"Logistic Regression__penalty\": ['l2'],\n",
        "              \"Logistic Regression__C\": [0.0001, 0.001, 0.01, 0.1, 1.0, 10.0, 100.0, 1000.0],\n",
        "              \"Logistic Regression__solver\": ['newton-cg', 'lbfgs', 'liblinear'],\n",
        "              \"Logistic Regression__max_iter\": [100,150,200]}\n",
        "\n",
        "# Implementing \n",
        "lr_grid = GridSearchCV(logistic_pipeline,\n",
        "                      param_grid = lr_parameters,\n",
        "                      scoring='accuracy',\n",
        "                      cv=2)\n",
        "\n",
        "lr_grid.fit(x_train_re, y_train_re)"
      ],
      "metadata": {
        "colab": {
          "base_uri": "https://localhost:8080/"
        },
        "id": "9XImKWuFhzly",
        "outputId": "d266ece6-105a-4a0f-e209-f4f781e6eb52"
      },
      "execution_count": 724,
      "outputs": [
        {
          "output_type": "execute_result",
          "data": {
            "text/plain": [
              "GridSearchCV(cv=2,\n",
              "             estimator=Pipeline(steps=[('preprocessor',\n",
              "                                        ColumnTransformer(transformers=[('nums',\n",
              "                                                                         Pipeline(steps=[('minmax',\n",
              "                                                                                          MinMaxScaler())]),\n",
              "                                                                         Index(['age', 'duration', 'campaign'], dtype='object')),\n",
              "                                                                        ('cat',\n",
              "                                                                         Pipeline(steps=[('imputer',\n",
              "                                                                                          SimpleImputer(strategy='most_frequent')),\n",
              "                                                                                         ('Onehot '\n",
              "                                                                                          'Encoding',\n",
              "                                                                                          OneHotEncoder(drop='if_binary'))]),\n",
              "                                                                         Index(['job', 'marital',...t'))])),\n",
              "                                       ('Logistic Regression',\n",
              "                                        LogisticRegression(max_iter=300,\n",
              "                                                           multi_class='ovr',\n",
              "                                                           solver='newton-cg'))]),\n",
              "             param_grid={'Logistic Regression__C': [0.0001, 0.001, 0.01, 0.1,\n",
              "                                                    1.0, 10.0, 100.0, 1000.0],\n",
              "                         'Logistic Regression__max_iter': [100, 150, 200],\n",
              "                         'Logistic Regression__penalty': ['l2'],\n",
              "                         'Logistic Regression__solver': ['newton-cg', 'lbfgs',\n",
              "                                                         'liblinear']},\n",
              "             scoring='accuracy')"
            ]
          },
          "metadata": {},
          "execution_count": 724
        }
      ]
    },
    {
      "cell_type": "code",
      "source": [
        "# Displaying a List of the Best HyperParamaters for the logistic regression\n",
        "display(\"Hyperparameters: \", lr_grid.best_params_)\n",
        "\n",
        "# Displaing the grid best score\n",
        "display(\"Accuracy:\" , lr_grid.best_score_)"
      ],
      "metadata": {
        "colab": {
          "base_uri": "https://localhost:8080/",
          "height": 146
        },
        "id": "N5xDWc0Wnhsw",
        "outputId": "1976f671-9354-4828-ac8a-468e29672570"
      },
      "execution_count": 725,
      "outputs": [
        {
          "output_type": "display_data",
          "data": {
            "text/plain": [
              "'Hyperparameters: '"
            ],
            "application/vnd.google.colaboratory.intrinsic+json": {
              "type": "string"
            }
          },
          "metadata": {}
        },
        {
          "output_type": "display_data",
          "data": {
            "text/plain": [
              "{'Logistic Regression__C': 10.0,\n",
              " 'Logistic Regression__max_iter': 100,\n",
              " 'Logistic Regression__penalty': 'l2',\n",
              " 'Logistic Regression__solver': 'newton-cg'}"
            ]
          },
          "metadata": {}
        },
        {
          "output_type": "display_data",
          "data": {
            "text/plain": [
              "'Accuracy:'"
            ],
            "application/vnd.google.colaboratory.intrinsic+json": {
              "type": "string"
            }
          },
          "metadata": {}
        },
        {
          "output_type": "display_data",
          "data": {
            "text/plain": [
              "0.8319620993527256"
            ]
          },
          "metadata": {}
        }
      ]
    },
    {
      "cell_type": "markdown",
      "source": [
        "When looking at the accuracy score when using the Hyper Oaranaters tge score on the training model improved from .8301 to .8319"
      ],
      "metadata": {
        "id": "60M7D6CLqKKq"
      }
    },
    {
      "cell_type": "code",
      "source": [
        "# Using the Cros_val_score function\n",
        "lr_scores = cross_val_score(lr_grid, x_train_re, y_train_re, scoring='accuracy', cv=2)\n",
        "print('Logistic Regression CV accuracy: %.3f +/- %.3f' % (np.mean(lr_scores),\n",
        "                                                          np.std(lr_scores)))"
      ],
      "metadata": {
        "colab": {
          "base_uri": "https://localhost:8080/"
        },
        "id": "YVZ_y05OiEl_",
        "outputId": "731a4e9f-a6bf-4a3b-d951-78a2819670d8"
      },
      "execution_count": 726,
      "outputs": [
        {
          "output_type": "stream",
          "name": "stdout",
          "text": [
            "Logistic Regression CV accuracy: 0.832 +/- 0.001\n"
          ]
        }
      ]
    },
    {
      "cell_type": "markdown",
      "source": [
        "- Are my findingds different?\n",
        "\n",
        "Yes my findings are different. I now have a new C value, I know which penalty to invoke, I also know to lower the amount of max iterations. Thankfully I chose the right solver using newton-cg. "
      ],
      "metadata": {
        "id": "jooI0mzTvSSI"
      }
    },
    {
      "cell_type": "markdown",
      "source": [
        "### KNN GridSearch and Cross Val Score"
      ],
      "metadata": {
        "id": "9_CcuO3qwBMd"
      }
    },
    {
      "cell_type": "code",
      "source": [
        "# Showing the Different param Keys for the KNN Pipeline\n",
        "knn_pipeline.get_params().keys()"
      ],
      "metadata": {
        "colab": {
          "base_uri": "https://localhost:8080/"
        },
        "id": "AQV3NbbKwc5t",
        "outputId": "5d2f22d5-7498-4e19-9fb9-6d8b527c0f0c"
      },
      "execution_count": 727,
      "outputs": [
        {
          "output_type": "execute_result",
          "data": {
            "text/plain": [
              "dict_keys(['memory', 'steps', 'verbose', 'preprocessor', 'KNN', 'preprocessor__n_jobs', 'preprocessor__remainder', 'preprocessor__sparse_threshold', 'preprocessor__transformer_weights', 'preprocessor__transformers', 'preprocessor__verbose', 'preprocessor__verbose_feature_names_out', 'preprocessor__nums', 'preprocessor__cat', 'preprocessor__nums__memory', 'preprocessor__nums__steps', 'preprocessor__nums__verbose', 'preprocessor__nums__minmax', 'preprocessor__nums__minmax__clip', 'preprocessor__nums__minmax__copy', 'preprocessor__nums__minmax__feature_range', 'preprocessor__cat__memory', 'preprocessor__cat__steps', 'preprocessor__cat__verbose', 'preprocessor__cat__imputer', 'preprocessor__cat__Onehot Encoding', 'preprocessor__cat__imputer__add_indicator', 'preprocessor__cat__imputer__copy', 'preprocessor__cat__imputer__fill_value', 'preprocessor__cat__imputer__missing_values', 'preprocessor__cat__imputer__strategy', 'preprocessor__cat__imputer__verbose', 'preprocessor__cat__Onehot Encoding__categories', 'preprocessor__cat__Onehot Encoding__drop', 'preprocessor__cat__Onehot Encoding__dtype', 'preprocessor__cat__Onehot Encoding__handle_unknown', 'preprocessor__cat__Onehot Encoding__sparse', 'KNN__algorithm', 'KNN__leaf_size', 'KNN__metric', 'KNN__metric_params', 'KNN__n_jobs', 'KNN__n_neighbors', 'KNN__p', 'KNN__weights'])"
            ]
          },
          "metadata": {},
          "execution_count": 727
        }
      ]
    },
    {
      "cell_type": "code",
      "source": [
        "# KNN Cross-Validation Using GridSearch and score cross_val_Function\n",
        "\n",
        "# # Gathering the Hyperparamaters\n",
        "# Note the commented out code below would be nice to see, but it was taking too long\n",
        "# knn_parameters = {\"KNN__n_neighbors\": [1,2,4,6,8,10,None],\n",
        "#                   \"KNN__metric\":['euclidean','manhattan'],\n",
        "#                   \"KNN__weights\":['uniform','distance']}\n",
        "\n",
        "knn_parameters = {\"KNN__n_neighbors\": [1,2,4,6,None],\n",
        "                  \"KNN__weights\":['uniform','distance']}                  \n",
        "\n",
        "knn_parameters = {\"KNN__n_neighbors\": [1,2,4,6,None]}  \n",
        "\n",
        "# Implementing the grid search\n",
        "knn_grid = GridSearchCV(knn_pipeline,\n",
        "                        param_grid = knn_parameters,\n",
        "                        scoring='accuracy',\n",
        "                        cv=2,\n",
        "                        verbose=10)\n",
        "\n",
        "knn_grid.fit(x_train_re, y_train_re)"
      ],
      "metadata": {
        "colab": {
          "base_uri": "https://localhost:8080/"
        },
        "id": "IR3Z46RPiErE",
        "outputId": "e93b9184-ed94-4247-d468-0f39f15752c6"
      },
      "execution_count": 732,
      "outputs": [
        {
          "output_type": "stream",
          "name": "stdout",
          "text": [
            "Fitting 2 folds for each of 10 candidates, totalling 20 fits\n",
            "[CV 1/2; 1/10] START KNN__n_neighbors=1, KNN__weights=uniform...................\n",
            "[CV 1/2; 1/10] END KNN__n_neighbors=1, KNN__weights=uniform;, score=0.952 total time=  21.1s\n",
            "[CV 2/2; 1/10] START KNN__n_neighbors=1, KNN__weights=uniform...................\n",
            "[CV 2/2; 1/10] END KNN__n_neighbors=1, KNN__weights=uniform;, score=0.952 total time=  17.4s\n",
            "[CV 1/2; 2/10] START KNN__n_neighbors=1, KNN__weights=distance..................\n",
            "[CV 1/2; 2/10] END KNN__n_neighbors=1, KNN__weights=distance;, score=0.952 total time=  16.6s\n",
            "[CV 2/2; 2/10] START KNN__n_neighbors=1, KNN__weights=distance..................\n",
            "[CV 2/2; 2/10] END KNN__n_neighbors=1, KNN__weights=distance;, score=0.952 total time=  16.9s\n",
            "[CV 1/2; 3/10] START KNN__n_neighbors=2, KNN__weights=uniform...................\n",
            "[CV 1/2; 3/10] END KNN__n_neighbors=2, KNN__weights=uniform;, score=0.945 total time=  18.5s\n",
            "[CV 2/2; 3/10] START KNN__n_neighbors=2, KNN__weights=uniform...................\n",
            "[CV 2/2; 3/10] END KNN__n_neighbors=2, KNN__weights=uniform;, score=0.945 total time=  18.3s\n",
            "[CV 1/2; 4/10] START KNN__n_neighbors=2, KNN__weights=distance..................\n",
            "[CV 1/2; 4/10] END KNN__n_neighbors=2, KNN__weights=distance;, score=0.952 total time=  17.7s\n",
            "[CV 2/2; 4/10] START KNN__n_neighbors=2, KNN__weights=distance..................\n",
            "[CV 2/2; 4/10] END KNN__n_neighbors=2, KNN__weights=distance;, score=0.952 total time=  18.3s\n",
            "[CV 1/2; 5/10] START KNN__n_neighbors=4, KNN__weights=uniform...................\n",
            "[CV 1/2; 5/10] END KNN__n_neighbors=4, KNN__weights=uniform;, score=0.906 total time=  28.0s\n",
            "[CV 2/2; 5/10] START KNN__n_neighbors=4, KNN__weights=uniform...................\n",
            "[CV 2/2; 5/10] END KNN__n_neighbors=4, KNN__weights=uniform;, score=0.908 total time=  23.1s\n",
            "[CV 1/2; 6/10] START KNN__n_neighbors=4, KNN__weights=distance..................\n",
            "[CV 1/2; 6/10] END KNN__n_neighbors=4, KNN__weights=distance;, score=0.930 total time=  26.9s\n",
            "[CV 2/2; 6/10] START KNN__n_neighbors=4, KNN__weights=distance..................\n",
            "[CV 2/2; 6/10] END KNN__n_neighbors=4, KNN__weights=distance;, score=0.930 total time=  29.6s\n",
            "[CV 1/2; 7/10] START KNN__n_neighbors=6, KNN__weights=uniform...................\n",
            "[CV 1/2; 7/10] END KNN__n_neighbors=6, KNN__weights=uniform;, score=0.875 total time=  26.1s\n",
            "[CV 2/2; 7/10] START KNN__n_neighbors=6, KNN__weights=uniform...................\n",
            "[CV 2/2; 7/10] END KNN__n_neighbors=6, KNN__weights=uniform;, score=0.879 total time=  23.8s\n",
            "[CV 1/2; 8/10] START KNN__n_neighbors=6, KNN__weights=distance..................\n",
            "[CV 1/2; 8/10] END KNN__n_neighbors=6, KNN__weights=distance;, score=0.916 total time=  23.5s\n",
            "[CV 2/2; 8/10] START KNN__n_neighbors=6, KNN__weights=distance..................\n",
            "[CV 2/2; 8/10] END KNN__n_neighbors=6, KNN__weights=distance;, score=0.916 total time=  22.5s\n",
            "[CV 1/2; 9/10] START KNN__n_neighbors=None, KNN__weights=uniform................\n",
            "[CV 1/2; 9/10] END KNN__n_neighbors=None, KNN__weights=uniform;, score=nan total time=   0.2s\n",
            "[CV 2/2; 9/10] START KNN__n_neighbors=None, KNN__weights=uniform................\n",
            "[CV 2/2; 9/10] END KNN__n_neighbors=None, KNN__weights=uniform;, score=nan total time=   0.2s\n",
            "[CV 1/2; 10/10] START KNN__n_neighbors=None, KNN__weights=distance..............\n",
            "[CV 1/2; 10/10] END KNN__n_neighbors=None, KNN__weights=distance;, score=nan total time=   0.2s\n",
            "[CV 2/2; 10/10] START KNN__n_neighbors=None, KNN__weights=distance..............\n",
            "[CV 2/2; 10/10] END KNN__n_neighbors=None, KNN__weights=distance;, score=nan total time=   0.2s\n"
          ]
        },
        {
          "output_type": "execute_result",
          "data": {
            "text/plain": [
              "GridSearchCV(cv=2,\n",
              "             estimator=Pipeline(steps=[('preprocessor',\n",
              "                                        ColumnTransformer(transformers=[('nums',\n",
              "                                                                         Pipeline(steps=[('minmax',\n",
              "                                                                                          MinMaxScaler())]),\n",
              "                                                                         Index(['age', 'duration', 'campaign'], dtype='object')),\n",
              "                                                                        ('cat',\n",
              "                                                                         Pipeline(steps=[('imputer',\n",
              "                                                                                          SimpleImputer(strategy='most_frequent')),\n",
              "                                                                                         ('Onehot '\n",
              "                                                                                          'Encoding',\n",
              "                                                                                          OneHotEncoder(drop='if_binary'))]),\n",
              "                                                                         Index(['job', 'marital', 'housing', 'loan', 'month'], dtype='object'))])),\n",
              "                                       ('KNN',\n",
              "                                        KNeighborsClassifier(n_neighbors=4))]),\n",
              "             param_grid={'KNN__n_neighbors': [1, 2, 4, 6, None],\n",
              "                         'KNN__weights': ['uniform', 'distance']},\n",
              "             scoring='accuracy', verbose=10)"
            ]
          },
          "metadata": {},
          "execution_count": 732
        }
      ]
    },
    {
      "cell_type": "code",
      "source": [
        "# Displaying a List of the Best HyperParamaters for KNN\n",
        "display(\"Hyperparameters: \", knn_grid.best_params_)\n",
        "\n",
        "# Displaing the grid best score\n",
        "display(\"Accuracy:\" , knn_grid.best_score_)"
      ],
      "metadata": {
        "colab": {
          "base_uri": "https://localhost:8080/",
          "height": 91
        },
        "id": "ZmAsPZaXytgK",
        "outputId": "6366e1c5-a3fb-465b-9b92-156d216c40e7"
      },
      "execution_count": 733,
      "outputs": [
        {
          "output_type": "display_data",
          "data": {
            "text/plain": [
              "'Hyperparameters: '"
            ],
            "application/vnd.google.colaboratory.intrinsic+json": {
              "type": "string"
            }
          },
          "metadata": {}
        },
        {
          "output_type": "display_data",
          "data": {
            "text/plain": [
              "{'KNN__n_neighbors': 1, 'KNN__weights': 'uniform'}"
            ]
          },
          "metadata": {}
        },
        {
          "output_type": "display_data",
          "data": {
            "text/plain": [
              "'Accuracy:'"
            ],
            "application/vnd.google.colaboratory.intrinsic+json": {
              "type": "string"
            }
          },
          "metadata": {}
        },
        {
          "output_type": "display_data",
          "data": {
            "text/plain": [
              "0.9522732589877564"
            ]
          },
          "metadata": {}
        }
      ]
    },
    {
      "cell_type": "code",
      "source": [
        "# Using the Cros_val_score function\n",
        "knn_scores = cross_val_score(knn_grid, x_train_re, y_train_re, scoring='accuracy', cv=2)\n",
        "print('Logistic Regression CV accuracy: %.3f +/- %.3f' % (np.mean(knn_scores),\n",
        "                                                          np.std(knn_scores)))"
      ],
      "metadata": {
        "colab": {
          "base_uri": "https://localhost:8080/"
        },
        "id": "dDHGgrOWy3zu",
        "outputId": "7d894432-a691-4406-b6bf-0ad2244e67d6"
      },
      "execution_count": 734,
      "outputs": [
        {
          "output_type": "stream",
          "name": "stdout",
          "text": [
            "Fitting 2 folds for each of 10 candidates, totalling 20 fits\n",
            "[CV 1/2; 1/10] START KNN__n_neighbors=1, KNN__weights=uniform...................\n",
            "[CV 1/2; 1/10] END KNN__n_neighbors=1, KNN__weights=uniform;, score=0.914 total time=   6.9s\n",
            "[CV 2/2; 1/10] START KNN__n_neighbors=1, KNN__weights=uniform...................\n",
            "[CV 2/2; 1/10] END KNN__n_neighbors=1, KNN__weights=uniform;, score=0.917 total time=   5.1s\n",
            "[CV 1/2; 2/10] START KNN__n_neighbors=1, KNN__weights=distance..................\n",
            "[CV 1/2; 2/10] END KNN__n_neighbors=1, KNN__weights=distance;, score=0.914 total time=   4.2s\n",
            "[CV 2/2; 2/10] START KNN__n_neighbors=1, KNN__weights=distance..................\n",
            "[CV 2/2; 2/10] END KNN__n_neighbors=1, KNN__weights=distance;, score=0.917 total time=   4.1s\n",
            "[CV 1/2; 3/10] START KNN__n_neighbors=2, KNN__weights=uniform...................\n",
            "[CV 1/2; 3/10] END KNN__n_neighbors=2, KNN__weights=uniform;, score=0.873 total time=   4.8s\n",
            "[CV 2/2; 3/10] START KNN__n_neighbors=2, KNN__weights=uniform...................\n",
            "[CV 2/2; 3/10] END KNN__n_neighbors=2, KNN__weights=uniform;, score=0.877 total time=   4.8s\n",
            "[CV 1/2; 4/10] START KNN__n_neighbors=2, KNN__weights=distance..................\n",
            "[CV 1/2; 4/10] END KNN__n_neighbors=2, KNN__weights=distance;, score=0.914 total time=   4.5s\n",
            "[CV 2/2; 4/10] START KNN__n_neighbors=2, KNN__weights=distance..................\n",
            "[CV 2/2; 4/10] END KNN__n_neighbors=2, KNN__weights=distance;, score=0.917 total time=   4.5s\n",
            "[CV 1/2; 5/10] START KNN__n_neighbors=4, KNN__weights=uniform...................\n",
            "[CV 1/2; 5/10] END KNN__n_neighbors=4, KNN__weights=uniform;, score=0.838 total time=   6.3s\n",
            "[CV 2/2; 5/10] START KNN__n_neighbors=4, KNN__weights=uniform...................\n",
            "[CV 2/2; 5/10] END KNN__n_neighbors=4, KNN__weights=uniform;, score=0.840 total time=   6.1s\n",
            "[CV 1/2; 6/10] START KNN__n_neighbors=4, KNN__weights=distance..................\n",
            "[CV 1/2; 6/10] END KNN__n_neighbors=4, KNN__weights=distance;, score=0.895 total time=   5.9s\n",
            "[CV 2/2; 6/10] START KNN__n_neighbors=4, KNN__weights=distance..................\n",
            "[CV 2/2; 6/10] END KNN__n_neighbors=4, KNN__weights=distance;, score=0.901 total time=   6.0s\n",
            "[CV 1/2; 7/10] START KNN__n_neighbors=6, KNN__weights=uniform...................\n",
            "[CV 1/2; 7/10] END KNN__n_neighbors=6, KNN__weights=uniform;, score=0.817 total time=   6.2s\n",
            "[CV 2/2; 7/10] START KNN__n_neighbors=6, KNN__weights=uniform...................\n",
            "[CV 2/2; 7/10] END KNN__n_neighbors=6, KNN__weights=uniform;, score=0.821 total time=   6.1s\n",
            "[CV 1/2; 8/10] START KNN__n_neighbors=6, KNN__weights=distance..................\n",
            "[CV 1/2; 8/10] END KNN__n_neighbors=6, KNN__weights=distance;, score=0.890 total time=   6.0s\n",
            "[CV 2/2; 8/10] START KNN__n_neighbors=6, KNN__weights=distance..................\n",
            "[CV 2/2; 8/10] END KNN__n_neighbors=6, KNN__weights=distance;, score=0.896 total time=   5.8s\n",
            "[CV 1/2; 9/10] START KNN__n_neighbors=None, KNN__weights=uniform................\n",
            "[CV 1/2; 9/10] END KNN__n_neighbors=None, KNN__weights=uniform;, score=nan total time=   0.1s\n",
            "[CV 2/2; 9/10] START KNN__n_neighbors=None, KNN__weights=uniform................\n",
            "[CV 2/2; 9/10] END KNN__n_neighbors=None, KNN__weights=uniform;, score=nan total time=   0.1s\n",
            "[CV 1/2; 10/10] START KNN__n_neighbors=None, KNN__weights=distance..............\n",
            "[CV 1/2; 10/10] END KNN__n_neighbors=None, KNN__weights=distance;, score=nan total time=   0.1s\n",
            "[CV 2/2; 10/10] START KNN__n_neighbors=None, KNN__weights=distance..............\n",
            "[CV 2/2; 10/10] END KNN__n_neighbors=None, KNN__weights=distance;, score=nan total time=   0.1s\n",
            "Fitting 2 folds for each of 10 candidates, totalling 20 fits\n",
            "[CV 1/2; 1/10] START KNN__n_neighbors=1, KNN__weights=uniform...................\n",
            "[CV 1/2; 1/10] END KNN__n_neighbors=1, KNN__weights=uniform;, score=0.915 total time=   4.5s\n",
            "[CV 2/2; 1/10] START KNN__n_neighbors=1, KNN__weights=uniform...................\n",
            "[CV 2/2; 1/10] END KNN__n_neighbors=1, KNN__weights=uniform;, score=0.911 total time=   4.5s\n",
            "[CV 1/2; 2/10] START KNN__n_neighbors=1, KNN__weights=distance..................\n",
            "[CV 1/2; 2/10] END KNN__n_neighbors=1, KNN__weights=distance;, score=0.915 total time=   4.1s\n",
            "[CV 2/2; 2/10] START KNN__n_neighbors=1, KNN__weights=distance..................\n",
            "[CV 2/2; 2/10] END KNN__n_neighbors=1, KNN__weights=distance;, score=0.911 total time=   4.2s\n",
            "[CV 1/2; 3/10] START KNN__n_neighbors=2, KNN__weights=uniform...................\n",
            "[CV 1/2; 3/10] END KNN__n_neighbors=2, KNN__weights=uniform;, score=0.878 total time=   4.8s\n",
            "[CV 2/2; 3/10] START KNN__n_neighbors=2, KNN__weights=uniform...................\n",
            "[CV 2/2; 3/10] END KNN__n_neighbors=2, KNN__weights=uniform;, score=0.870 total time=   4.8s\n",
            "[CV 1/2; 4/10] START KNN__n_neighbors=2, KNN__weights=distance..................\n",
            "[CV 1/2; 4/10] END KNN__n_neighbors=2, KNN__weights=distance;, score=0.915 total time=   4.5s\n",
            "[CV 2/2; 4/10] START KNN__n_neighbors=2, KNN__weights=distance..................\n",
            "[CV 2/2; 4/10] END KNN__n_neighbors=2, KNN__weights=distance;, score=0.911 total time=   4.6s\n",
            "[CV 1/2; 5/10] START KNN__n_neighbors=4, KNN__weights=uniform...................\n",
            "[CV 1/2; 5/10] END KNN__n_neighbors=4, KNN__weights=uniform;, score=0.839 total time=   6.1s\n",
            "[CV 2/2; 5/10] START KNN__n_neighbors=4, KNN__weights=uniform...................\n",
            "[CV 2/2; 5/10] END KNN__n_neighbors=4, KNN__weights=uniform;, score=0.827 total time=   6.9s\n",
            "[CV 1/2; 6/10] START KNN__n_neighbors=4, KNN__weights=distance..................\n",
            "[CV 1/2; 6/10] END KNN__n_neighbors=4, KNN__weights=distance;, score=0.898 total time=   5.8s\n",
            "[CV 2/2; 6/10] START KNN__n_neighbors=4, KNN__weights=distance..................\n",
            "[CV 2/2; 6/10] END KNN__n_neighbors=4, KNN__weights=distance;, score=0.896 total time=   5.8s\n",
            "[CV 1/2; 7/10] START KNN__n_neighbors=6, KNN__weights=uniform...................\n",
            "[CV 1/2; 7/10] END KNN__n_neighbors=6, KNN__weights=uniform;, score=0.820 total time=   6.1s\n",
            "[CV 2/2; 7/10] START KNN__n_neighbors=6, KNN__weights=uniform...................\n",
            "[CV 2/2; 7/10] END KNN__n_neighbors=6, KNN__weights=uniform;, score=0.814 total time=   6.2s\n",
            "[CV 1/2; 8/10] START KNN__n_neighbors=6, KNN__weights=distance..................\n",
            "[CV 1/2; 8/10] END KNN__n_neighbors=6, KNN__weights=distance;, score=0.891 total time=   7.4s\n",
            "[CV 2/2; 8/10] START KNN__n_neighbors=6, KNN__weights=distance..................\n",
            "[CV 2/2; 8/10] END KNN__n_neighbors=6, KNN__weights=distance;, score=0.891 total time=   7.4s\n",
            "[CV 1/2; 9/10] START KNN__n_neighbors=None, KNN__weights=uniform................\n",
            "[CV 1/2; 9/10] END KNN__n_neighbors=None, KNN__weights=uniform;, score=nan total time=   0.1s\n",
            "[CV 2/2; 9/10] START KNN__n_neighbors=None, KNN__weights=uniform................\n",
            "[CV 2/2; 9/10] END KNN__n_neighbors=None, KNN__weights=uniform;, score=nan total time=   0.1s\n",
            "[CV 1/2; 10/10] START KNN__n_neighbors=None, KNN__weights=distance..............\n",
            "[CV 1/2; 10/10] END KNN__n_neighbors=None, KNN__weights=distance;, score=nan total time=   0.1s\n",
            "[CV 2/2; 10/10] START KNN__n_neighbors=None, KNN__weights=distance..............\n",
            "[CV 2/2; 10/10] END KNN__n_neighbors=None, KNN__weights=distance;, score=nan total time=   0.1s\n",
            "Logistic Regression CV accuracy: 0.952 +/- 0.000\n"
          ]
        }
      ]
    },
    {
      "cell_type": "markdown",
      "source": [
        "- Are my findings different?\n",
        "\n",
        "Yes my findings are different. I now know to use uniform weights and set the n neighbors to 1. Though, some how the powel performed worse than the model than the model that was used "
      ],
      "metadata": {
        "id": "uYyikMXi0Eal"
      }
    },
    {
      "cell_type": "markdown",
      "source": [
        "### Decision Tree GridSearch and Cross Val Score"
      ],
      "metadata": {
        "id": "uzFUpviFwHuC"
      }
    },
    {
      "cell_type": "code",
      "source": [
        "# Showing the differen param keys for the Decision Tree Pipeline\n",
        "tree_pipeline.get_params().keys()"
      ],
      "metadata": {
        "colab": {
          "base_uri": "https://localhost:8080/"
        },
        "id": "GSNiWJx9wmYM",
        "outputId": "c6e2e33d-f5e3-4a89-d9cb-7f7257678257"
      },
      "execution_count": 736,
      "outputs": [
        {
          "output_type": "execute_result",
          "data": {
            "text/plain": [
              "dict_keys(['memory', 'steps', 'verbose', 'Decision Tree', 'Decision Tree__ccp_alpha', 'Decision Tree__class_weight', 'Decision Tree__criterion', 'Decision Tree__max_depth', 'Decision Tree__max_features', 'Decision Tree__max_leaf_nodes', 'Decision Tree__min_impurity_decrease', 'Decision Tree__min_samples_leaf', 'Decision Tree__min_samples_split', 'Decision Tree__min_weight_fraction_leaf', 'Decision Tree__random_state', 'Decision Tree__splitter'])"
            ]
          },
          "metadata": {},
          "execution_count": 736
        }
      ]
    },
    {
      "cell_type": "code",
      "source": [
        "# Decision Tree Cross-Validation Using GridSearch and score cross_val_function\n",
        "\n",
        "# Declaring the Decision Tree Paramaters\n",
        "tree_parameters = {'Decision Tree__max_depth':  [1, 4, 5, 6, None],\n",
        "                   'Decision Tree__criterion': ['gini', 'entropy'] }\n",
        "\n",
        "# Implementing the Decision Tree GridSearch\n",
        "tree_grid = GridSearchCV(estimator=tree_pipeline,\n",
        "                         param_grid=tree_parameters,\n",
        "                         scoring='accuracy',\n",
        "                         cv=2)\n",
        "\n",
        "tree_grid.fit(x_train_re_dt, y_train_re_dt)"
      ],
      "metadata": {
        "colab": {
          "base_uri": "https://localhost:8080/"
        },
        "id": "mzqk-10Jxvt6",
        "outputId": "67427f97-d207-43a9-cab8-093cdca53f2b"
      },
      "execution_count": 738,
      "outputs": [
        {
          "output_type": "execute_result",
          "data": {
            "text/plain": [
              "GridSearchCV(cv=2,\n",
              "             estimator=Pipeline(steps=[('Decision Tree',\n",
              "                                        DecisionTreeClassifier(max_depth=6,\n",
              "                                                               random_state=42))]),\n",
              "             param_grid={'Decision Tree__criterion': ['gini', 'entropy'],\n",
              "                         'Decision Tree__max_depth': [1, 4, 5, 6, None]},\n",
              "             scoring='accuracy')"
            ]
          },
          "metadata": {},
          "execution_count": 738
        }
      ]
    },
    {
      "cell_type": "code",
      "source": [
        "# Displaying a List of the Best HyperParamaters for KNN\n",
        "display(\"Hyperparameters: \", tree_grid.best_params_)\n",
        "\n",
        "# Displaing the grid best score\n",
        "display(\"Accuracy:\" , tree_grid.best_score_)"
      ],
      "metadata": {
        "colab": {
          "base_uri": "https://localhost:8080/",
          "height": 91
        },
        "id": "SPiKBLNS0H6r",
        "outputId": "88d35d8d-1e88-4836-c74c-e6e82cef98e0"
      },
      "execution_count": 739,
      "outputs": [
        {
          "output_type": "display_data",
          "data": {
            "text/plain": [
              "'Hyperparameters: '"
            ],
            "application/vnd.google.colaboratory.intrinsic+json": {
              "type": "string"
            }
          },
          "metadata": {}
        },
        {
          "output_type": "display_data",
          "data": {
            "text/plain": [
              "{'Decision Tree__criterion': 'gini', 'Decision Tree__max_depth': None}"
            ]
          },
          "metadata": {}
        },
        {
          "output_type": "display_data",
          "data": {
            "text/plain": [
              "'Accuracy:'"
            ],
            "application/vnd.google.colaboratory.intrinsic+json": {
              "type": "string"
            }
          },
          "metadata": {}
        },
        {
          "output_type": "display_data",
          "data": {
            "text/plain": [
              "0.9518248459798799"
            ]
          },
          "metadata": {}
        }
      ]
    },
    {
      "cell_type": "code",
      "source": [
        "# Using the Cros_val_score function\n",
        "tree_scores = cross_val_score(tree_grid, x_train_re_dt, y_train_re_dt, scoring='accuracy', cv=2)\n",
        "print('Logistic Regression CV accuracy: %.3f +/- %.3f' % (np.mean(tree_scores),\n",
        "                                                          np.std(tree_scores)))"
      ],
      "metadata": {
        "colab": {
          "base_uri": "https://localhost:8080/"
        },
        "id": "BpTKMAV40MAP",
        "outputId": "490f7d2a-e169-421d-a78e-5d8eb66a892f"
      },
      "execution_count": 740,
      "outputs": [
        {
          "output_type": "stream",
          "name": "stdout",
          "text": [
            "Logistic Regression CV accuracy: 0.951 +/- 0.000\n"
          ]
        }
      ]
    },
    {
      "cell_type": "markdown",
      "source": [
        "- Are my findings different?\n",
        "\n",
        "YEs the findings are a bit different. The best tree depth was none which is interest. The Accuracy Score increded dramatically. Thankfully gini was the critiron that was suggested."
      ],
      "metadata": {
        "id": "AMQ2VA5rAyO1"
      }
    },
    {
      "cell_type": "markdown",
      "metadata": {
        "id": "N5nfbw5lZER9"
      },
      "source": [
        "# 3). Create a confusion matrix\n",
        "\n",
        "- Create a confusion matrix showing the TP, FP, TN, and FN values for each of the three optimized pipelines that were created using nested cross validation in step 2.\n",
        "\n",
        "- Visualize the confusion matrix using a similar technique to the one that was used in the ch06 example"
      ]
    },
    {
      "cell_type": "markdown",
      "source": [
        "## Model 1: Logistic Regression"
      ],
      "metadata": {
        "id": "C5xfy0jIgV-Y"
      }
    },
    {
      "cell_type": "code",
      "execution_count": 741,
      "metadata": {
        "id": "NsXtnKrAZGDQ",
        "colab": {
          "base_uri": "https://localhost:8080/",
          "height": 91
        },
        "outputId": "97533989-c2fc-4d2d-d1aa-3d34dd50a79c"
      },
      "outputs": [
        {
          "output_type": "display_data",
          "data": {
            "text/plain": [
              "'Training score:'"
            ],
            "application/vnd.google.colaboratory.intrinsic+json": {
              "type": "string"
            }
          },
          "metadata": {}
        },
        {
          "output_type": "display_data",
          "data": {
            "text/plain": [
              "83.1"
            ]
          },
          "metadata": {}
        },
        {
          "output_type": "display_data",
          "data": {
            "text/plain": [
              "'Testing score:'"
            ],
            "application/vnd.google.colaboratory.intrinsic+json": {
              "type": "string"
            }
          },
          "metadata": {}
        },
        {
          "output_type": "display_data",
          "data": {
            "text/plain": [
              "83.62"
            ]
          },
          "metadata": {}
        }
      ],
      "source": [
        "# # Model Code 1: Logistic Regression\n",
        "# logistic_eval = Pipeline(steps=[('classifier', LogisticRegression(solver='newton-cg', multi_class='ovr'))])\n",
        "# logistic_eval.fit(x_train_re, y_train_re.values.ravel())\n",
        "\n",
        "# Printing the accuracy of the test\n",
        "display(\"Training score:\", round(lr_grid.score(x_train_re, y_train_re)*100,2))\n",
        "display(\"Testing score:\", round(lr_grid.score(x_test, y_test)*100,2))"
      ]
    },
    {
      "cell_type": "code",
      "source": [
        "#  Creating Predictions for the logistic regression\n",
        "y_logistic_pred = lr_grid.predict(x_test)\n",
        "\n",
        "# Creating a confusion matrix to look at different Scores\n",
        "conf_matrix_log = confusion_matrix(y_test, y_logistic_pred)\n",
        "\n",
        "# Displaying the Confusion Matrix\n",
        "log_labels = ['no','yes']\n",
        "ConfusionMatrixDisplay(conf_matrix_log, display_labels=log_labels).plot()\n",
        "plt.show()"
      ],
      "metadata": {
        "colab": {
          "base_uri": "https://localhost:8080/",
          "height": 279
        },
        "id": "VQxXE7xranni",
        "outputId": "8a32b1ba-3199-4448-99a4-2665a6f25eb2"
      },
      "execution_count": 743,
      "outputs": [
        {
          "output_type": "display_data",
          "data": {
            "text/plain": [
              "<Figure size 432x288 with 2 Axes>"
            ],
            "image/png": "[encoded data removed]"
          },
          "metadata": {
            "needs_background": "light"
          }
        }
      ]
    },
    {
      "cell_type": "code",
      "source": [
        "# Computing the precision, recall, and f1 scores for the Logistic Regresion\n",
        "display(\"Precision Score: \", precision_score(y_true=y_test, y_pred=y_logistic_pred))\n",
        "display(\"Recall Score: \", recall_score(y_true=y_test, y_pred=y_logistic_pred))\n",
        "display(\"F1 Score:\", f1_score(y_true=y_test, y_pred=y_logistic_pred))"
      ],
      "metadata": {
        "colab": {
          "base_uri": "https://localhost:8080/",
          "height": 378
        },
        "id": "AB2UiEGXa0SY",
        "outputId": "3161190a-3072-41f5-9b7a-0f9a747d8744"
      },
      "execution_count": 746,
      "outputs": [
        {
          "output_type": "error",
          "ename": "ValueError",
          "evalue": "ignored",
          "traceback": [
            "\u001b[0;31m---------------------------------------------------------------------------\u001b[0m",
            "\u001b[0;31mValueError\u001b[0m                                Traceback (most recent call last)",
            "\u001b[0;32m<ipython-input-746-2ee04f4b7692>\u001b[0m in \u001b[0;36m<module>\u001b[0;34m()\u001b[0m\n\u001b[1;32m      1\u001b[0m \u001b[0;31m# Computing the precision, recall, and f1 scores for the Logistic Regresion\u001b[0m\u001b[0;34m\u001b[0m\u001b[0;34m\u001b[0m\u001b[0;34m\u001b[0m\u001b[0m\n\u001b[0;32m----> 2\u001b[0;31m \u001b[0mdisplay\u001b[0m\u001b[0;34m(\u001b[0m\u001b[0;34m\"Precision Score: \"\u001b[0m\u001b[0;34m,\u001b[0m \u001b[0mprecision_score\u001b[0m\u001b[0;34m(\u001b[0m\u001b[0my_true\u001b[0m\u001b[0;34m=\u001b[0m\u001b[0my_test\u001b[0m\u001b[0;34m,\u001b[0m \u001b[0my_pred\u001b[0m\u001b[0;34m=\u001b[0m\u001b[0my_logistic_pred\u001b[0m\u001b[0;34m)\u001b[0m\u001b[0;34m)\u001b[0m\u001b[0;34m\u001b[0m\u001b[0;34m\u001b[0m\u001b[0m\n\u001b[0m\u001b[1;32m      3\u001b[0m \u001b[0mdisplay\u001b[0m\u001b[0;34m(\u001b[0m\u001b[0;34m\"Recall Score: \"\u001b[0m\u001b[0;34m,\u001b[0m \u001b[0mrecall_score\u001b[0m\u001b[0;34m(\u001b[0m\u001b[0my_true\u001b[0m\u001b[0;34m=\u001b[0m\u001b[0my_test\u001b[0m\u001b[0;34m,\u001b[0m \u001b[0my_pred\u001b[0m\u001b[0;34m=\u001b[0m\u001b[0my_logistic_pred\u001b[0m\u001b[0;34m)\u001b[0m\u001b[0;34m)\u001b[0m\u001b[0;34m\u001b[0m\u001b[0;34m\u001b[0m\u001b[0m\n\u001b[1;32m      4\u001b[0m \u001b[0mdisplay\u001b[0m\u001b[0;34m(\u001b[0m\u001b[0;34m\"F1 Score:\"\u001b[0m\u001b[0;34m,\u001b[0m \u001b[0mf1_score\u001b[0m\u001b[0;34m(\u001b[0m\u001b[0my_true\u001b[0m\u001b[0;34m=\u001b[0m\u001b[0my_test\u001b[0m\u001b[0;34m,\u001b[0m \u001b[0my_pred\u001b[0m\u001b[0;34m=\u001b[0m\u001b[0my_logistic_pred\u001b[0m\u001b[0;34m)\u001b[0m\u001b[0;34m)\u001b[0m\u001b[0;34m\u001b[0m\u001b[0;34m\u001b[0m\u001b[0m\n",
            "\u001b[0;32m/usr/local/lib/python3.7/dist-packages/sklearn/metrics/_classification.py\u001b[0m in \u001b[0;36mprecision_score\u001b[0;34m(y_true, y_pred, labels, pos_label, average, sample_weight, zero_division)\u001b[0m\n\u001b[1;32m   1763\u001b[0m         \u001b[0mwarn_for\u001b[0m\u001b[0;34m=\u001b[0m\u001b[0;34m(\u001b[0m\u001b[0;34m\"precision\"\u001b[0m\u001b[0;34m,\u001b[0m\u001b[0;34m)\u001b[0m\u001b[0;34m,\u001b[0m\u001b[0;34m\u001b[0m\u001b[0;34m\u001b[0m\u001b[0m\n\u001b[1;32m   1764\u001b[0m         \u001b[0msample_weight\u001b[0m\u001b[0;34m=\u001b[0m\u001b[0msample_weight\u001b[0m\u001b[0;34m,\u001b[0m\u001b[0;34m\u001b[0m\u001b[0;34m\u001b[0m\u001b[0m\n\u001b[0;32m-> 1765\u001b[0;31m         \u001b[0mzero_division\u001b[0m\u001b[0;34m=\u001b[0m\u001b[0mzero_division\u001b[0m\u001b[0;34m,\u001b[0m\u001b[0;34m\u001b[0m\u001b[0;34m\u001b[0m\u001b[0m\n\u001b[0m\u001b[1;32m   1766\u001b[0m     )\n\u001b[1;32m   1767\u001b[0m     \u001b[0;32mreturn\u001b[0m \u001b[0mp\u001b[0m\u001b[0;34m\u001b[0m\u001b[0;34m\u001b[0m\u001b[0m\n",
            "\u001b[0;32m/usr/local/lib/python3.7/dist-packages/sklearn/metrics/_classification.py\u001b[0m in \u001b[0;36mprecision_recall_fscore_support\u001b[0;34m(y_true, y_pred, beta, labels, pos_label, average, warn_for, sample_weight, zero_division)\u001b[0m\n\u001b[1;32m   1542\u001b[0m     \u001b[0;32mif\u001b[0m \u001b[0mbeta\u001b[0m \u001b[0;34m<\u001b[0m \u001b[0;36m0\u001b[0m\u001b[0;34m:\u001b[0m\u001b[0;34m\u001b[0m\u001b[0;34m\u001b[0m\u001b[0m\n\u001b[1;32m   1543\u001b[0m         \u001b[0;32mraise\u001b[0m \u001b[0mValueError\u001b[0m\u001b[0;34m(\u001b[0m\u001b[0;34m\"beta should be >=0 in the F-beta score\"\u001b[0m\u001b[0;34m)\u001b[0m\u001b[0;34m\u001b[0m\u001b[0;34m\u001b[0m\u001b[0m\n\u001b[0;32m-> 1544\u001b[0;31m     \u001b[0mlabels\u001b[0m \u001b[0;34m=\u001b[0m \u001b[0m_check_set_wise_labels\u001b[0m\u001b[0;34m(\u001b[0m\u001b[0my_true\u001b[0m\u001b[0;34m,\u001b[0m \u001b[0my_pred\u001b[0m\u001b[0;34m,\u001b[0m \u001b[0maverage\u001b[0m\u001b[0;34m,\u001b[0m \u001b[0mlabels\u001b[0m\u001b[0;34m,\u001b[0m \u001b[0mpos_label\u001b[0m\u001b[0;34m)\u001b[0m\u001b[0;34m\u001b[0m\u001b[0;34m\u001b[0m\u001b[0m\n\u001b[0m\u001b[1;32m   1545\u001b[0m \u001b[0;34m\u001b[0m\u001b[0m\n\u001b[1;32m   1546\u001b[0m     \u001b[0;31m# Calculate tp_sum, pred_sum, true_sum ###\u001b[0m\u001b[0;34m\u001b[0m\u001b[0;34m\u001b[0m\u001b[0;34m\u001b[0m\u001b[0m\n",
            "\u001b[0;32m/usr/local/lib/python3.7/dist-packages/sklearn/metrics/_classification.py\u001b[0m in \u001b[0;36m_check_set_wise_labels\u001b[0;34m(y_true, y_pred, average, labels, pos_label)\u001b[0m\n\u001b[1;32m   1355\u001b[0m                 \u001b[0;32mif\u001b[0m \u001b[0mlen\u001b[0m\u001b[0;34m(\u001b[0m\u001b[0mpresent_labels\u001b[0m\u001b[0;34m)\u001b[0m \u001b[0;34m>=\u001b[0m \u001b[0;36m2\u001b[0m\u001b[0;34m:\u001b[0m\u001b[0;34m\u001b[0m\u001b[0;34m\u001b[0m\u001b[0m\n\u001b[1;32m   1356\u001b[0m                     raise ValueError(\n\u001b[0;32m-> 1357\u001b[0;31m                         \u001b[0;34mf\"pos_label={pos_label} is not a valid label. It \"\u001b[0m\u001b[0;34m\u001b[0m\u001b[0;34m\u001b[0m\u001b[0m\n\u001b[0m\u001b[1;32m   1358\u001b[0m                         \u001b[0;34mf\"should be one of {present_labels}\"\u001b[0m\u001b[0;34m\u001b[0m\u001b[0;34m\u001b[0m\u001b[0m\n\u001b[1;32m   1359\u001b[0m                     )\n",
            "\u001b[0;31mValueError\u001b[0m: pos_label=1 is not a valid label. It should be one of ['no', 'yes']"
          ]
        }
      ]
    },
    {
      "cell_type": "markdown",
      "source": [
        "## Model 2: K-Nearest Neighbour\n",
        "\n",
        "To start the K-Nearest Neighbour I will use K means to determine where the elbow is to figure out how many clusters I want to use. It is a bit crude, but better than just guessing."
      ],
      "metadata": {
        "id": "rY2lASZCgQeG"
      }
    },
    {
      "cell_type": "code",
      "source": [
        "# Model Code 2: K-Nearest Neighbour\n",
        "\n",
        "# Printing the accuracy of the test\n",
        "display(\"Training score:\", round(knn_grid.score(x_train_re, y_train_re)*100,2))\n",
        "display(\"Testing score:\", round(knn_grid.score(x_test, y_test)*100,2))"
      ],
      "metadata": {
        "colab": {
          "base_uri": "https://localhost:8080/",
          "height": 91
        },
        "id": "wIfb7IT863M3",
        "outputId": "ec29bef9-8cc9-481a-b2ed-a525f23f5582"
      },
      "execution_count": 744,
      "outputs": [
        {
          "output_type": "display_data",
          "data": {
            "text/plain": [
              "'Training score:'"
            ],
            "application/vnd.google.colaboratory.intrinsic+json": {
              "type": "string"
            }
          },
          "metadata": {}
        },
        {
          "output_type": "display_data",
          "data": {
            "text/plain": [
              "99.92"
            ]
          },
          "metadata": {}
        },
        {
          "output_type": "display_data",
          "data": {
            "text/plain": [
              "'Testing score:'"
            ],
            "application/vnd.google.colaboratory.intrinsic+json": {
              "type": "string"
            }
          },
          "metadata": {}
        },
        {
          "output_type": "display_data",
          "data": {
            "text/plain": [
              "88.83"
            ]
          },
          "metadata": {}
        }
      ]
    },
    {
      "cell_type": "code",
      "source": [
        "#  Creating Predictions for the logistic regression\n",
        "y_knn_pred = knn_grid.predict(x_test)\n",
        "\n",
        "# Creating a confusion matrix to look at different Scores\n",
        "conf_matrix_knn = confusion_matrix(y_test, y_knn_pred)\n",
        "\n",
        "# Displaying the Confusion Matrix\n",
        "log_labels = ['no','yes']\n",
        "ConfusionMatrixDisplay(conf_matrix_knn, display_labels=log_labels).plot()\n",
        "plt.show()"
      ],
      "metadata": {
        "colab": {
          "base_uri": "https://localhost:8080/",
          "height": 281
        },
        "id": "SrEWQGrdfx2Q",
        "outputId": "cb0e64ff-e185-4c52-e389-1b55df719e9e"
      },
      "execution_count": 745,
      "outputs": [
        {
          "output_type": "display_data",
          "data": {
            "text/plain": [
              "<Figure size 432x288 with 2 Axes>"
            ],
            "image/png": "[encoded data removed]"
          },
          "metadata": {
            "needs_background": "light"
          }
        }
      ]
    },
    {
      "cell_type": "code",
      "source": [
        "# Computing the precision, recall, and f1 scores for the KNN\n",
        "# display(\"Precision Score: \", precision_score(y_true=y_test_, y_pred=y_knn_pred))\n",
        "# display(\"Recall Score: \", recall_score(y_true=y_test_re_dt, y_pred=y_knn_pred))\n",
        "# display(\"F1 Score:\", f1_score(y_true=y_test_re_dt, y_pred=y_knn_pred))"
      ],
      "metadata": {
        "colab": {
          "base_uri": "https://localhost:8080/",
          "height": 226
        },
        "id": "SUWOR2usbz4e",
        "outputId": "46672082-ea0d-4e1f-e1cf-447b41bed726"
      },
      "execution_count": 756,
      "outputs": [
        {
          "output_type": "error",
          "ename": "NameError",
          "evalue": "ignored",
          "traceback": [
            "\u001b[0;31m---------------------------------------------------------------------------\u001b[0m",
            "\u001b[0;31mNameError\u001b[0m                                 Traceback (most recent call last)",
            "\u001b[0;32m<ipython-input-756-7d0dcaa7d6cb>\u001b[0m in \u001b[0;36m<module>\u001b[0;34m()\u001b[0m\n\u001b[1;32m      1\u001b[0m \u001b[0;31m# Computing the precision, recall, and f1 scores for the KNN\u001b[0m\u001b[0;34m\u001b[0m\u001b[0;34m\u001b[0m\u001b[0;34m\u001b[0m\u001b[0m\n\u001b[0;32m----> 2\u001b[0;31m \u001b[0mdisplay\u001b[0m\u001b[0;34m(\u001b[0m\u001b[0;34m\"Precision Score: \"\u001b[0m\u001b[0;34m,\u001b[0m \u001b[0mprecision_score\u001b[0m\u001b[0;34m(\u001b[0m\u001b[0my_true\u001b[0m\u001b[0;34m=\u001b[0m\u001b[0my_test_re\u001b[0m\u001b[0;34m,\u001b[0m \u001b[0my_pred\u001b[0m\u001b[0;34m=\u001b[0m\u001b[0my_knn_pred\u001b[0m\u001b[0;34m)\u001b[0m\u001b[0;34m)\u001b[0m\u001b[0;34m\u001b[0m\u001b[0;34m\u001b[0m\u001b[0m\n\u001b[0m\u001b[1;32m      3\u001b[0m \u001b[0;31m# display(\"Recall Score: \", recall_score(y_true=y_test_re_dt, y_pred=y_knn_pred))\u001b[0m\u001b[0;34m\u001b[0m\u001b[0;34m\u001b[0m\u001b[0;34m\u001b[0m\u001b[0m\n\u001b[1;32m      4\u001b[0m \u001b[0;31m# display(\"F1 Score:\", f1_score(y_true=y_test_re_dt, y_pred=y_knn_pred))\u001b[0m\u001b[0;34m\u001b[0m\u001b[0;34m\u001b[0m\u001b[0;34m\u001b[0m\u001b[0m\n",
            "\u001b[0;31mNameError\u001b[0m: name 'y_test_re' is not defined"
          ]
        }
      ]
    },
    {
      "cell_type": "markdown",
      "source": [
        "## Model 3: Decision Tree"
      ],
      "metadata": {
        "id": "oKYj8s_Qg_Xd"
      }
    },
    {
      "cell_type": "markdown",
      "source": [
        "It must be noted that for the decision tree I use the same training and testing that the random rain forrest did above. The reason for this was to not enclude scaling or one hot encoding. "
      ],
      "metadata": {
        "id": "Yu9rnqjLMuvr"
      }
    },
    {
      "cell_type": "code",
      "source": [
        "# Model Code 3: Decision Tree\n",
        "\n",
        "# Printing the accuracy of the test\n",
        "display(\"Training score:\", round(tree_model.score(x_train_re_dt, y_train_re_dt)*100,2))\n",
        "# display(\"Testing score:\", round(tree_model.score(x_test_dt, y_test_dt)*100,2))"
      ],
      "metadata": {
        "colab": {
          "base_uri": "https://localhost:8080/",
          "height": 54
        },
        "id": "GuNtaN4R67GW",
        "outputId": "3f9400ec-bdc5-4338-aca9-46a389768c48"
      },
      "execution_count": 749,
      "outputs": [
        {
          "output_type": "display_data",
          "data": {
            "text/plain": [
              "'Training score:'"
            ],
            "application/vnd.google.colaboratory.intrinsic+json": {
              "type": "string"
            }
          },
          "metadata": {}
        },
        {
          "output_type": "display_data",
          "data": {
            "text/plain": [
              "83.01"
            ]
          },
          "metadata": {}
        }
      ]
    },
    {
      "cell_type": "code",
      "source": [
        "#  Creating Predictions for the logistic regression\n",
        "y_tree_pred = tree_model.predict(x_test_re_dt)\n",
        "\n",
        "# Creating a confusion matrix to look at different Scores\n",
        "conf_matrix_tree = confusion_matrix(y_test_re_dt, y_tree_pred)\n",
        "\n",
        "# Displaying the Confusion Matrix\n",
        "log_labels = ['no','yes']\n",
        "ConfusionMatrixDisplay(conf_matrix_tree, display_labels=log_labels).plot()\n",
        "plt.show()"
      ],
      "metadata": {
        "colab": {
          "base_uri": "https://localhost:8080/",
          "height": 279
        },
        "id": "qRWAFtstiobG",
        "outputId": "7e8c8673-710c-47cd-858d-69c609a786d1"
      },
      "execution_count": 751,
      "outputs": [
        {
          "output_type": "display_data",
          "data": {
            "text/plain": [
              "<Figure size 432x288 with 2 Axes>"
            ],
            "image/png": "[encoded data removed]"
          },
          "metadata": {
            "needs_background": "light"
          }
        }
      ]
    },
    {
      "cell_type": "code",
      "source": [
        "# Computing the precision, recall, and f1 scores for the Decision Tree\n",
        "display(\"Precision Score: \", precision_score(y_true=y_test_re_dt, y_pred=y_tree_pred))\n",
        "display(\"Recall Score: \", recall_score(y_true=y_test_re_dt, y_pred=y_tree_pred))\n",
        "display(\"F1 Score:\", f1_score(y_true=y_test_re_dt, y_pred=y_tree_pred))"
      ],
      "metadata": {
        "colab": {
          "base_uri": "https://localhost:8080/",
          "height": 128
        },
        "id": "iVH__0NWcH1u",
        "outputId": "fe7b378c-217c-4547-fe29-4ea369b2d153"
      },
      "execution_count": 752,
      "outputs": [
        {
          "output_type": "display_data",
          "data": {
            "text/plain": [
              "'Precision Score: '"
            ],
            "application/vnd.google.colaboratory.intrinsic+json": {
              "type": "string"
            }
          },
          "metadata": {}
        },
        {
          "output_type": "display_data",
          "data": {
            "text/plain": [
              "0.30205096333126163"
            ]
          },
          "metadata": {}
        },
        {
          "output_type": "display_data",
          "data": {
            "text/plain": [
              "'Recall Score: '"
            ],
            "application/vnd.google.colaboratory.intrinsic+json": {
              "type": "string"
            }
          },
          "metadata": {}
        },
        {
          "output_type": "display_data",
          "data": {
            "text/plain": [
              "0.7546583850931677"
            ]
          },
          "metadata": {}
        },
        {
          "output_type": "display_data",
          "data": {
            "text/plain": [
              "'F1 Score:'"
            ],
            "application/vnd.google.colaboratory.intrinsic+json": {
              "type": "string"
            }
          },
          "metadata": {}
        },
        {
          "output_type": "display_data",
          "data": {
            "text/plain": [
              "0.4314247669773635"
            ]
          },
          "metadata": {}
        }
      ]
    },
    {
      "cell_type": "markdown",
      "source": [
        "# 4). Creat a MajorityVoteClassifer instance from the algorithms I've chosen to see if an ensemble can outperform the individual algorithms\n",
        "\n",
        "- Now that we better understand how each of the models perform individually, let's creat an ensemble to see if they work better together\n",
        "\n",
        "- Using the MajorityVoteClassifier class that was created in the ch07 example Juypter Note book, create an ensemble using the three pipelines I created in step 1.\n",
        "\n",
        "- Use 10-fold cross validation to compute the score of the ensemble, as well as each pipeline individually.\n",
        "\n",
        "- Compare the performance of the ensemble to the individual models\n",
        "\n",
        "- Does the ensemble outperform the models?\n",
        "\n",
        "- Note: While we used ROC AUC scores in class, that was for binary classification only. Thankfully that is the classification that was used."
      ],
      "metadata": {
        "id": "VlF7TyIQsdEx"
      }
    },
    {
      "cell_type": "code",
      "source": [
        "# The code below is from ch07 example\n",
        "class MajorityVoteClassifier(BaseEstimator, ClassifierMixin):\n",
        "    \"\"\" A majority vote ensemble classifier\n",
        "\n",
        "    Parameters\n",
        "    ----------\n",
        "    classifiers : array-like, shape = [n_classifiers]\n",
        "      Different classifiers for the ensemble\n",
        "\n",
        "    vote : str, {'classlabel', 'probability'} (default='classlabel')\n",
        "      If 'classlabel' the prediction is based on the argmax of\n",
        "        class labels. Else if 'probability', the argmax of\n",
        "        the sum of probabilities is used to predict the class label\n",
        "        (recommended for calibrated classifiers).\n",
        "\n",
        "    weights : array-like, shape = [n_classifiers], optional (default=None)\n",
        "      If a list of `int` or `float` values are provided, the classifiers\n",
        "      are weighted by importance; Uses uniform weights if `weights=None`.\n",
        "\n",
        "    \"\"\"\n",
        "    def __init__(self, classifiers, vote='classlabel', weights=None):\n",
        "\n",
        "        self.classifiers = classifiers\n",
        "        self.named_classifiers = {key: value for key, value\n",
        "                                  in _name_estimators(classifiers)}\n",
        "        self.vote = vote\n",
        "        self.weights = weights\n",
        "\n",
        "    def fit(self, X, y):\n",
        "        \"\"\" Fit classifiers.\n",
        "\n",
        "        Parameters\n",
        "        ----------\n",
        "        X : {array-like, sparse matrix}, shape = [n_examples, n_features]\n",
        "            Matrix of training examples.\n",
        "\n",
        "        y : array-like, shape = [n_examples]\n",
        "            Vector of target class labels.\n",
        "\n",
        "        Returns\n",
        "        -------\n",
        "        self : object\n",
        "\n",
        "        \"\"\"\n",
        "        if self.vote not in ('probability', 'classlabel'):\n",
        "            raise ValueError(\"vote must be 'probability' or 'classlabel'\"\n",
        "                             \"; got (vote=%r)\"\n",
        "                             % self.vote)\n",
        "\n",
        "        if self.weights and len(self.weights) != len(self.classifiers):\n",
        "            raise ValueError('Number of classifiers and weights must be equal'\n",
        "                             '; got %d weights, %d classifiers'\n",
        "                             % (len(self.weights), len(self.classifiers)))\n",
        "\n",
        "        # Use LabelEncoder to ensure class labels start with 0, which\n",
        "        # is important for np.argmax call in self.predict\n",
        "        self.lablenc_ = LabelEncoder()\n",
        "        self.lablenc_.fit(y)\n",
        "        self.classes_ = self.lablenc_.classes_\n",
        "        self.classifiers_ = []\n",
        "        for clf in self.classifiers:\n",
        "            fitted_clf = clone(clf).fit(X, self.lablenc_.transform(y))\n",
        "            self.classifiers_.append(fitted_clf)\n",
        "        return self\n",
        "\n",
        "    def predict(self, X):\n",
        "        \"\"\" Predict class labels for X.\n",
        "\n",
        "        Parameters\n",
        "        ----------\n",
        "        X : {array-like, sparse matrix}, shape = [n_examples, n_features]\n",
        "            Matrix of training examples.\n",
        "\n",
        "        Returns\n",
        "        ----------\n",
        "        maj_vote : array-like, shape = [n_examples]\n",
        "            Predicted class labels.\n",
        "            \n",
        "        \"\"\"\n",
        "        if self.vote == 'probability':\n",
        "            maj_vote = np.argmax(self.predict_proba(X), axis=1)\n",
        "        else:  # 'classlabel' vote\n",
        "\n",
        "            #  Collect results from clf.predict calls\n",
        "            predictions = np.asarray([clf.predict(X)\n",
        "                                      for clf in self.classifiers_]).T\n",
        "\n",
        "            maj_vote = np.apply_along_axis(\n",
        "                                      lambda x:\n",
        "                                      np.argmax(np.bincount(x,\n",
        "                                                weights=self.weights)),\n",
        "                                      axis=1,\n",
        "                                      arr=predictions)\n",
        "        maj_vote = self.lablenc_.inverse_transform(maj_vote)\n",
        "        return maj_vote\n",
        "\n",
        "    def predict_proba(self, X):\n",
        "        \"\"\" Predict class probabilities for X.\n",
        "\n",
        "        Parameters\n",
        "        ----------\n",
        "        X : {array-like, sparse matrix}, shape = [n_examples, n_features]\n",
        "            Training vectors, where n_examples is the number of examples and\n",
        "            n_features is the number of features.\n",
        "\n",
        "        Returns\n",
        "        ----------\n",
        "        avg_proba : array-like, shape = [n_examples, n_classes]\n",
        "            Weighted average probability for each class per example.\n",
        "\n",
        "        \"\"\"\n",
        "        probas = np.asarray([clf.predict_proba(X)\n",
        "                             for clf in self.classifiers_])\n",
        "        avg_proba = np.average(probas, axis=0, weights=self.weights)\n",
        "        return avg_proba\n",
        "\n",
        "    def get_params(self, deep=True):\n",
        "        \"\"\" Get classifier parameter names for GridSearch\"\"\"\n",
        "        if not deep:\n",
        "            return super(MajorityVoteClassifier, self).get_params(deep=False)\n",
        "        else:\n",
        "            out = self.named_classifiers.copy()\n",
        "            for name, step in self.named_classifiers.items():\n",
        "                for key, value in step.get_params(deep=True).items():\n",
        "                    out['%s__%s' % (name, key)] = value\n",
        "            return out"
      ],
      "metadata": {
        "id": "ud5En3zE1X_l"
      },
      "execution_count": 764,
      "outputs": []
    },
    {
      "cell_type": "markdown",
      "source": [
        "- Below I use the MajoritVoteClassifier to create an ensemble using the Logistic Regression, KNN and a Decision Tree"
      ],
      "metadata": {
        "id": "LFQkcaQT4PBn"
      }
    },
    {
      "cell_type": "code",
      "source": [
        "# Creating my clf labels\n",
        "clf_labels = ['Logistic regression', 'KNN', 'Decision tree']"
      ],
      "metadata": {
        "id": "EcVN7uZI3sdy"
      },
      "execution_count": 765,
      "outputs": []
    },
    {
      "cell_type": "markdown",
      "source": [
        "- Below computes the score of the ensemble using 10-fold cross-validation\n"
      ],
      "metadata": {
        "id": "dJx5hech4eiW"
      }
    },
    {
      "cell_type": "code",
      "source": [
        "mv_clf = MajorityVoteClassifier(classifiers=[logistic_pipeline, knn_pipeline, tree_pipeline])\n",
        "\n",
        "clf_labels += ['Majority voting']\n",
        "all_clf = [logistic_pipeline, knn_pipeline, tree_pipeline, mv_clf]\n",
        "\n",
        "for clf, label in zip(all_clf, clf_labels):\n",
        "    scores = cross_val_score(estimator=clf,\n",
        "                             X=x_train,\n",
        "                             y=y_train,\n",
        "                             cv=10,\n",
        "                             scoring='roc_auc',\n",
        "                             verbose=True)\n",
        "    print(\"ROC AUC: %0.2f (+/- %0.2f) [%s]\"\n",
        "          % (scores.mean(), scores.std(), label))"
      ],
      "metadata": {
        "colab": {
          "base_uri": "https://localhost:8080/"
        },
        "id": "pcCub17s4duP",
        "outputId": "acfcd2a1-dede-46d5-fc56-24d0f0699552"
      },
      "execution_count": 768,
      "outputs": [
        {
          "output_type": "stream",
          "name": "stderr",
          "text": [
            "[Parallel(n_jobs=1)]: Using backend SequentialBackend with 1 concurrent workers.\n",
            "[Parallel(n_jobs=1)]: Done  10 out of  10 | elapsed:    8.7s finished\n",
            "[Parallel(n_jobs=1)]: Using backend SequentialBackend with 1 concurrent workers.\n"
          ]
        },
        {
          "output_type": "stream",
          "name": "stdout",
          "text": [
            "ROC AUC: 0.90 (+/- 0.01) [Logistic regression]\n"
          ]
        },
        {
          "output_type": "stream",
          "name": "stderr",
          "text": [
            "[Parallel(n_jobs=1)]: Done  10 out of  10 | elapsed:   30.3s finished\n",
            "[Parallel(n_jobs=1)]: Using backend SequentialBackend with 1 concurrent workers.\n",
            "[Parallel(n_jobs=1)]: Done  10 out of  10 | elapsed:    0.1s finished\n",
            "[Parallel(n_jobs=1)]: Using backend SequentialBackend with 1 concurrent workers.\n"
          ]
        },
        {
          "output_type": "stream",
          "name": "stdout",
          "text": [
            "ROC AUC: 0.76 (+/- 0.02) [KNN]\n",
            "ROC AUC: nan (+/- nan) [Decision tree]\n",
            "ROC AUC: nan (+/- nan) [Majority voting]\n"
          ]
        },
        {
          "output_type": "stream",
          "name": "stderr",
          "text": [
            "[Parallel(n_jobs=1)]: Done  10 out of  10 | elapsed:    5.4s finished\n"
          ]
        }
      ]
    },
    {
      "cell_type": "markdown",
      "source": [
        "- Below uses the ensemble to sore each Pipeline is also each individually"
      ],
      "metadata": {
        "id": "1yChLibN4xlT"
      }
    },
    {
      "cell_type": "code",
      "source": [
        "# Scoring all of the models indi\n",
        "display('10-fold cross validation')\n",
        "\n",
        "for clf, label in zip([logistic_pipeline, knn_pipeline, tree_pipeline], clf_labels):\n",
        "  scores = cross_val_score(estimator=clf,\n",
        "                            X=x_train,\n",
        "                            y=y_train,\n",
        "                            cv=10,\n",
        "                            scoring='roc_auc',\n",
        "                            verbose=True)\n",
        "  print(\"ROC AUC: %0.2f (+/- %0.2f) [%s]\" % (scores.mean(), scores.std(), label))"
      ],
      "metadata": {
        "colab": {
          "base_uri": "https://localhost:8080/",
          "height": 200
        },
        "id": "OyVenejS44Iu",
        "outputId": "065a4140-b790-4ae2-8c45-58bf0acc479b"
      },
      "execution_count": 770,
      "outputs": [
        {
          "output_type": "display_data",
          "data": {
            "text/plain": [
              "'10-fold cross validation'"
            ],
            "application/vnd.google.colaboratory.intrinsic+json": {
              "type": "string"
            }
          },
          "metadata": {}
        },
        {
          "output_type": "stream",
          "name": "stderr",
          "text": [
            "[Parallel(n_jobs=1)]: Using backend SequentialBackend with 1 concurrent workers.\n",
            "[Parallel(n_jobs=1)]: Done  10 out of  10 | elapsed:    9.0s finished\n",
            "[Parallel(n_jobs=1)]: Using backend SequentialBackend with 1 concurrent workers.\n"
          ]
        },
        {
          "output_type": "stream",
          "name": "stdout",
          "text": [
            "ROC AUC: 0.90 (+/- 0.01) [Logistic regression]\n",
            "ROC AUC: 0.76 (+/- 0.02) [KNN]\n",
            "ROC AUC: nan (+/- nan) [Decision tree]\n"
          ]
        },
        {
          "output_type": "stream",
          "name": "stderr",
          "text": [
            "[Parallel(n_jobs=1)]: Done  10 out of  10 | elapsed:   26.1s finished\n",
            "[Parallel(n_jobs=1)]: Using backend SequentialBackend with 1 concurrent workers.\n",
            "[Parallel(n_jobs=1)]: Done  10 out of  10 | elapsed:    0.1s finished\n"
          ]
        }
      ]
    },
    {
      "cell_type": "markdown",
      "source": [
        "- Below evaluates and tunes the ensemble classifier"
      ],
      "metadata": {
        "id": "5_VwMyY-8r9j"
      }
    },
    {
      "cell_type": "code",
      "source": [
        "colors = ['black', 'orange', 'blue', 'green']\n",
        "linestyles = [':', '--', '-.', '-']\n",
        "for clf, label, clr, ls \\\n",
        "        in zip(all_clf,\n",
        "               clf_labels, colors, linestyles):\n",
        "\n",
        "    # assuming the label of the positive class is 1\n",
        "    y_pred = clf.fit(x_train_re_dt, y_train_re_dt).predict_proba(x_test_re_dt)[:, 1]\n",
        "    fpr, tpr, thresholds = roc_curve(y_true=y_test_re_dt,\n",
        "                                     y_score=y_pred)\n",
        "    roc_auc = auc(x=fpr, y=tpr)\n",
        "    plt.plot(fpr, tpr,\n",
        "             color=clr,\n",
        "             linestyle=ls,\n",
        "             label='%s (auc = %0.2f)' % (label, roc_auc))\n",
        "\n",
        "plt.legend(loc='lower right')\n",
        "plt.plot([0, 1], [0, 1],\n",
        "         linestyle='--',\n",
        "         color='gray',\n",
        "         linewidth=2)\n",
        "\n",
        "plt.xlim([-0.1, 1.1])\n",
        "plt.ylim([-0.1, 1.1])\n",
        "plt.grid(alpha=0.5)\n",
        "plt.xlabel('False positive rate (FPR)')\n",
        "plt.ylabel('True positive rate (TPR)')\n",
        "\n",
        "plt.show()"
      ],
      "metadata": {
        "colab": {
          "base_uri": "https://localhost:8080/",
          "height": 279
        },
        "id": "ZwRGu3iZ8q9Y",
        "outputId": "0f05937a-af0e-46d9-97a3-4efd7bcbba13"
      },
      "execution_count": 776,
      "outputs": [
        {
          "output_type": "display_data",
          "data": {
            "text/plain": [
              "<Figure size 432x288 with 1 Axes>"
            ],
            "image/png": "[encoded data removed]"
          },
          "metadata": {
            "needs_background": "light"
          }
        }
      ]
    },
    {
      "cell_type": "markdown",
      "source": [
        "- Does the ensemble outperform the models? (Using ROC AUC score)\n",
        "\n",
        "No, at the moment the ensemble does not outperform the other models. Right now it looks like the logistic regression is the most accurate Model\n"
      ],
      "metadata": {
        "id": "Whg6zjGC46V7"
      }
    }
  ],
  "metadata": {
    "colab": {
      "collapsed_sections": [
        "wXVCAu0qfjhR",
        "SvN4XT3_GAMH",
        "zPwqsaazGL-r",
        "ycCa35xQrAoB",
        "N5nfbw5lZER9"
      ],
      "name": "Lab_5_Duncan_Ferguson.ipynb",
      "provenance": [],
      "authorship_tag": "ABX9TyOGSpbKnWlVuRjSJBTPG+Au",
      "include_colab_link": true
    },
    "kernelspec": {
      "display_name": "Python 3",
      "name": "python3"
    },
    "language_info": {
      "name": "python"
    }
  },
  "nbformat": 4,
  "nbformat_minor": 0
}