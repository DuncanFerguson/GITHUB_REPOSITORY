{
  "cells": [
    {
      "cell_type": "markdown",
      "metadata": {
        "id": "view-in-github",
        "colab_type": "text"
      },
      "source": [
        "<a href=\"https://colab.research.google.com/github/DuncanFerguson/GITHUB_REPOSITORY/blob/main/Project_1_Duncan_Ferguson.ipynb\" target=\"_parent\"><img src=\"https://colab.research.google.com/assets/colab-badge.svg\" alt=\"Open In Colab\"/></a>"
      ]
    },
    {
      "cell_type": "code",
      "execution_count": 90,
      "metadata": {
        "id": "q7e5FvPEUVob"
      },
      "outputs": [],
      "source": [
        "# Import Libraries\n",
        "import pandas as pd\n",
        "import numpy as np\n",
        "import matplotlib.pyplot as plt\n",
        "import seaborn as sns\n",
        "from IPython.display import display\n",
        "\n",
        "# Import Strings\n",
        "from sklearn.pipeline import Pipeline\n",
        "from sklearn.impute import SimpleImputer\n",
        "from sklearn.compose import ColumnTransformer\n",
        "from sklearn.preprocessing import OneHotEncoder, StandardScaler, MinMaxScaler\n",
        "from sklearn.model_selection import train_test_split, cross_val_score\n",
        "from sklearn.utils import resample\n",
        "from sklearn.metrics import accuracy_score, confusion_matrix, ConfusionMatrixDisplay, classification_report\n",
        "from sklearn.linear_model import LogisticRegression\n",
        "from sklearn.neighbors import KNeighborsClassifier\n",
        "from sklearn.tree import DecisionTreeClassifier\n",
        "from sklearn import tree"
      ]
    },
    {
      "cell_type": "markdown",
      "metadata": {
        "id": "0awIw7mSY1A1"
      },
      "source": [
        "\n",
        "# Experiment Objective\n"
      ]
    },
    {
      "cell_type": "markdown",
      "metadata": {
        "id": "ljjJlwoIZUFg"
      },
      "source": [
        "## Describe the data set that is being analyzed. Including the TOS (Terms of Service) and ethical considerations\n",
        "- Lecture 07 Data Science Ethics, and Building Good Training Datasets with Data Preprocessing\n",
        "\n",
        "The Data set that is being examined is from the University of Calironia - Irvine's Machine Learning repository. I looked at a few other datasets from the U.S. Census, SNOTEL, and various Employement Statistics. This data set seemed the most revelant to my current job. It is a little lighter on the extractaion method which should led me more time to focuse on machine learning aspects of the project. \n",
        "\n",
        "When looking at the \"READ ME\" of this data set it is cited that the data set is available for research, but should include the following citation.\n",
        "\n",
        "  [Moro et al., 2011] S. Moro, R. Laureano and P. Cortez. Using Data Mining for Bank Direct Marketing: An Application of the CRISP-DM Methodology. \n",
        "  In P. Novais et al. (Eds.), Proceedings of the European Simulation and Modelling Conference - ESM'2011, pp. 117-121, Guimarães, Portugal, October, 2011. EUROSIS.\n",
        "\n",
        "  Available at: http://www3.dsi.uminho.pt/pcortez/bib/2011-esm-1.txt\n",
        "\"\n",
        "\n",
        "\n",
        "- What am I attempting to model?\n",
        "\n",
        "With the dataset that I have selected, I am attempting to predict if a client has subscribed to a term deposit. More importantly, if a campaign was successfull in helpful in determing that the client dubscribed.\n",
        "\n",
        "- Why did I choose the training examples I did for training the model\n",
        "\n",
        "There were a few things in the data set that needed to be remove before more extensive feature selection could be conducted. The first point is selecting clients that have not been contacted before for a campaign. This means we have to scrub out any data points that do not have pday = -1 or previous > 0. Because we do not which campaigns the clients were a part of previously contacted people offer an opportunity to sckew the data. There could be some clients that were contacted by a certain campaign while other were not contacted by the same one. By removing these clients we remove this potential source of bias"
      ]
    },
    {
      "cell_type": "markdown",
      "metadata": {
        "id": "wXVCAu0qfjhR"
      },
      "source": [
        "## Experiment Objective: \n",
        "- Did a client subscribe a term deposit.\n",
        "- What are the significant factors in determining if a client is subscribed to a term deposit\n",
        "\n"
      ]
    },
    {
      "cell_type": "markdown",
      "metadata": {
        "id": "UJ1uIE8wY4B0"
      },
      "source": [
        "# Data Collection\n"
      ]
    },
    {
      "cell_type": "markdown",
      "metadata": {
        "id": "YQyHMcIsZs2m"
      },
      "source": [
        "### Write the Necessary Python code to retrieve and store the training examples that are to be used in the model\n",
        "- Am I accessing an API / Scraping a website? Downloading an archive?\n",
        "\n",
        "The Data is being downloaded directly from an archive\n",
        "\n",
        "- Implementation goes in this section. \n",
        "\n",
        "Code implementation is below\n",
        "\n",
        "- Result of this section should be an in-memory panda DF\n",
        "\n",
        "The Dataframe is shown a few times. At first the raw head of the data frame is displayed. Then a few statistics are shown. After that feature selection is conducted and reduced down until there is a sutaible dataset to build the model upon.\n",
        "\n",
        "- Note the data must have at least five different features , and at least two unique class labels\n",
        "\n",
        "There are 16 different features to start with this gets boiled down as the project goes on. Which will be listed below in the code. The Classification label is either \"Yes\" or \"No\". Leaving use with two unique classification labels. \n"
      ]
    },
    {
      "cell_type": "code",
      "execution_count": 91,
      "metadata": {
        "colab": {
          "base_uri": "https://localhost:8080/"
        },
        "id": "aVZEWV4DY95T",
        "outputId": "27d039d6-cef5-4d13-e30e-822eb02057d5"
      },
      "outputs": [
        {
          "output_type": "stream",
          "name": "stdout",
          "text": [
            "--2022-07-24 21:23:34--  http://banking_data/\n",
            "Resolving banking_data (banking_data)... failed: Name or service not known.\n",
            "wget: unable to resolve host address ‘banking_data’\n",
            "--2022-07-24 21:23:34--  https://archive.ics.uci.edu/ml/machine-learning-databases/00222/bank.zip\n",
            "Resolving archive.ics.uci.edu (archive.ics.uci.edu)... 128.195.10.252\n",
            "Connecting to archive.ics.uci.edu (archive.ics.uci.edu)|128.195.10.252|:443... connected.\n",
            "HTTP request sent, awaiting response... 200 OK\n",
            "Length: 579043 (565K) [application/x-httpd-php]\n",
            "Saving to: ‘bank.zip.1’\n",
            "\n",
            "bank.zip.1          100%[===================>] 565.47K  2.16MB/s    in 0.3s    \n",
            "\n",
            "2022-07-24 21:23:35 (2.16 MB/s) - ‘bank.zip.1’ saved [579043/579043]\n",
            "\n",
            "FINISHED --2022-07-24 21:23:35--\n",
            "Total wall clock time: 0.7s\n",
            "Downloaded: 1 files, 565K in 0.3s (2.16 MB/s)\n"
          ]
        }
      ],
      "source": [
        "# Grabbing the website\n",
        "!wget 'banking_data' 'https://archive.ics.uci.edu/ml/machine-learning-databases/00222/bank.zip'"
      ]
    },
    {
      "cell_type": "code",
      "source": [
        "# Unzipping the file\n",
        "!unzip -o 'bank.zip'"
      ],
      "metadata": {
        "colab": {
          "base_uri": "https://localhost:8080/"
        },
        "id": "n4z8-XmvVg5R",
        "outputId": "c08704c8-8aa3-4b11-f9a8-6698e159bdf7"
      },
      "execution_count": 92,
      "outputs": [
        {
          "output_type": "stream",
          "name": "stdout",
          "text": [
            "Archive:  bank.zip\n",
            "  inflating: bank-full.csv           \n",
            "  inflating: bank-names.txt          \n",
            "  inflating: bank.csv                \n"
          ]
        }
      ]
    },
    {
      "cell_type": "code",
      "source": [
        "# Downloading the Excel file and reading in the second sheet\n",
        "df = pd.read_csv('bank-full.csv', sep=';')"
      ],
      "metadata": {
        "id": "Fx3BNk9eF55d"
      },
      "execution_count": 93,
      "outputs": []
    },
    {
      "cell_type": "code",
      "source": [
        "# Filtering out clients that have been contacted by previous campaigns\n",
        "df = df.loc[(df['pdays'] == -1) & (df['previous'] == 0)]\n",
        "\n",
        "# Dropping out these two columns because they are no longer needed\n",
        "df = df.drop(labels=['pdays','previous'], axis=1)"
      ],
      "metadata": {
        "id": "UjN9w3yuwlE3"
      },
      "execution_count": 94,
      "outputs": []
    },
    {
      "cell_type": "code",
      "source": [
        "# Displaying the Head of the Data\n",
        "df.head()"
      ],
      "metadata": {
        "colab": {
          "base_uri": "https://localhost:8080/",
          "height": 0
        },
        "id": "ByoSYV8mQASn",
        "outputId": "bcc0a0ef-39f5-4958-d49f-c344177059b5"
      },
      "execution_count": 95,
      "outputs": [
        {
          "output_type": "execute_result",
          "data": {
            "text/plain": [
              "   age           job  marital  education default  balance housing loan  \\\n",
              "0   58    management  married   tertiary      no     2143     yes   no   \n",
              "1   44    technician   single  secondary      no       29     yes   no   \n",
              "2   33  entrepreneur  married  secondary      no        2     yes  yes   \n",
              "3   47   blue-collar  married    unknown      no     1506     yes   no   \n",
              "4   33       unknown   single    unknown      no        1      no   no   \n",
              "\n",
              "   contact  day month  duration  campaign poutcome   y  \n",
              "0  unknown    5   may       261         1  unknown  no  \n",
              "1  unknown    5   may       151         1  unknown  no  \n",
              "2  unknown    5   may        76         1  unknown  no  \n",
              "3  unknown    5   may        92         1  unknown  no  \n",
              "4  unknown    5   may       198         1  unknown  no  "
            ],
            "text/html": [
              "\n",
              "  <div id=\"df-2e193aa1-168c-4b61-993e-687d9b6aa4cf\">\n",
              "    <div class=\"colab-df-container\">\n",
              "      <div>\n",
              "<style scoped>\n",
              "    .dataframe tbody tr th:only-of-type {\n",
              "        vertical-align: middle;\n",
              "    }\n",
              "\n",
              "    .dataframe tbody tr th {\n",
              "        vertical-align: top;\n",
              "    }\n",
              "\n",
              "    .dataframe thead th {\n",
              "        text-align: right;\n",
              "    }\n",
              "</style>\n",
              "<table border=\"1\" class=\"dataframe\">\n",
              "  <thead>\n",
              "    <tr style=\"text-align: right;\">\n",
              "      <th></th>\n",
              "      <th>age</th>\n",
              "      <th>job</th>\n",
              "      <th>marital</th>\n",
              "      <th>education</th>\n",
              "      <th>default</th>\n",
              "      <th>balance</th>\n",
              "      <th>housing</th>\n",
              "      <th>loan</th>\n",
              "      <th>contact</th>\n",
              "      <th>day</th>\n",
              "      <th>month</th>\n",
              "      <th>duration</th>\n",
              "      <th>campaign</th>\n",
              "      <th>poutcome</th>\n",
              "      <th>y</th>\n",
              "    </tr>\n",
              "  </thead>\n",
              "  <tbody>\n",
              "    <tr>\n",
              "      <th>0</th>\n",
              "      <td>58</td>\n",
              "      <td>management</td>\n",
              "      <td>married</td>\n",
              "      <td>tertiary</td>\n",
              "      <td>no</td>\n",
              "      <td>2143</td>\n",
              "      <td>yes</td>\n",
              "      <td>no</td>\n",
              "      <td>unknown</td>\n",
              "      <td>5</td>\n",
              "      <td>may</td>\n",
              "      <td>261</td>\n",
              "      <td>1</td>\n",
              "      <td>unknown</td>\n",
              "      <td>no</td>\n",
              "    </tr>\n",
              "    <tr>\n",
              "      <th>1</th>\n",
              "      <td>44</td>\n",
              "      <td>technician</td>\n",
              "      <td>single</td>\n",
              "      <td>secondary</td>\n",
              "      <td>no</td>\n",
              "      <td>29</td>\n",
              "      <td>yes</td>\n",
              "      <td>no</td>\n",
              "      <td>unknown</td>\n",
              "      <td>5</td>\n",
              "      <td>may</td>\n",
              "      <td>151</td>\n",
              "      <td>1</td>\n",
              "      <td>unknown</td>\n",
              "      <td>no</td>\n",
              "    </tr>\n",
              "    <tr>\n",
              "      <th>2</th>\n",
              "      <td>33</td>\n",
              "      <td>entrepreneur</td>\n",
              "      <td>married</td>\n",
              "      <td>secondary</td>\n",
              "      <td>no</td>\n",
              "      <td>2</td>\n",
              "      <td>yes</td>\n",
              "      <td>yes</td>\n",
              "      <td>unknown</td>\n",
              "      <td>5</td>\n",
              "      <td>may</td>\n",
              "      <td>76</td>\n",
              "      <td>1</td>\n",
              "      <td>unknown</td>\n",
              "      <td>no</td>\n",
              "    </tr>\n",
              "    <tr>\n",
              "      <th>3</th>\n",
              "      <td>47</td>\n",
              "      <td>blue-collar</td>\n",
              "      <td>married</td>\n",
              "      <td>unknown</td>\n",
              "      <td>no</td>\n",
              "      <td>1506</td>\n",
              "      <td>yes</td>\n",
              "      <td>no</td>\n",
              "      <td>unknown</td>\n",
              "      <td>5</td>\n",
              "      <td>may</td>\n",
              "      <td>92</td>\n",
              "      <td>1</td>\n",
              "      <td>unknown</td>\n",
              "      <td>no</td>\n",
              "    </tr>\n",
              "    <tr>\n",
              "      <th>4</th>\n",
              "      <td>33</td>\n",
              "      <td>unknown</td>\n",
              "      <td>single</td>\n",
              "      <td>unknown</td>\n",
              "      <td>no</td>\n",
              "      <td>1</td>\n",
              "      <td>no</td>\n",
              "      <td>no</td>\n",
              "      <td>unknown</td>\n",
              "      <td>5</td>\n",
              "      <td>may</td>\n",
              "      <td>198</td>\n",
              "      <td>1</td>\n",
              "      <td>unknown</td>\n",
              "      <td>no</td>\n",
              "    </tr>\n",
              "  </tbody>\n",
              "</table>\n",
              "</div>\n",
              "      <button class=\"colab-df-convert\" onclick=\"convertToInteractive('df-2e193aa1-168c-4b61-993e-687d9b6aa4cf')\"\n",
              "              title=\"Convert this dataframe to an interactive table.\"\n",
              "              style=\"display:none;\">\n",
              "        \n",
              "  <svg xmlns=\"http://www.w3.org/2000/svg\" height=\"24px\"viewBox=\"0 0 24 24\"\n",
              "       width=\"24px\">\n",
              "    <path d=\"M0 0h24v24H0V0z\" fill=\"none\"/>\n",
              "    <path d=\"M18.56 5.44l.94 2.06.94-2.06 2.06-.94-2.06-.94-.94-2.06-.94 2.06-2.06.94zm-11 1L8.5 8.5l.94-2.06 2.06-.94-2.06-.94L8.5 2.5l-.94 2.06-2.06.94zm10 10l.94 2.06.94-2.06 2.06-.94-2.06-.94-.94-2.06-.94 2.06-2.06.94z\"/><path d=\"M17.41 7.96l-1.37-1.37c-.4-.4-.92-.59-1.43-.59-.52 0-1.04.2-1.43.59L10.3 9.45l-7.72 7.72c-.78.78-.78 2.05 0 2.83L4 21.41c.39.39.9.59 1.41.59.51 0 1.02-.2 1.41-.59l7.78-7.78 2.81-2.81c.8-.78.8-2.07 0-2.86zM5.41 20L4 18.59l7.72-7.72 1.47 1.35L5.41 20z\"/>\n",
              "  </svg>\n",
              "      </button>\n",
              "      \n",
              "  <style>\n",
              "    .colab-df-container {\n",
              "      display:flex;\n",
              "      flex-wrap:wrap;\n",
              "      gap: 12px;\n",
              "    }\n",
              "\n",
              "    .colab-df-convert {\n",
              "      background-color: #E8F0FE;\n",
              "      border: none;\n",
              "      border-radius: 50%;\n",
              "      cursor: pointer;\n",
              "      display: none;\n",
              "      fill: #1967D2;\n",
              "      height: 32px;\n",
              "      padding: 0 0 0 0;\n",
              "      width: 32px;\n",
              "    }\n",
              "\n",
              "    .colab-df-convert:hover {\n",
              "      background-color: #E2EBFA;\n",
              "      box-shadow: 0px 1px 2px rgba(60, 64, 67, 0.3), 0px 1px 3px 1px rgba(60, 64, 67, 0.15);\n",
              "      fill: #174EA6;\n",
              "    }\n",
              "\n",
              "    [theme=dark] .colab-df-convert {\n",
              "      background-color: #3B4455;\n",
              "      fill: #D2E3FC;\n",
              "    }\n",
              "\n",
              "    [theme=dark] .colab-df-convert:hover {\n",
              "      background-color: #434B5C;\n",
              "      box-shadow: 0px 1px 3px 1px rgba(0, 0, 0, 0.15);\n",
              "      filter: drop-shadow(0px 1px 2px rgba(0, 0, 0, 0.3));\n",
              "      fill: #FFFFFF;\n",
              "    }\n",
              "  </style>\n",
              "\n",
              "      <script>\n",
              "        const buttonEl =\n",
              "          document.querySelector('#df-2e193aa1-168c-4b61-993e-687d9b6aa4cf button.colab-df-convert');\n",
              "        buttonEl.style.display =\n",
              "          google.colab.kernel.accessAllowed ? 'block' : 'none';\n",
              "\n",
              "        async function convertToInteractive(key) {\n",
              "          const element = document.querySelector('#df-2e193aa1-168c-4b61-993e-687d9b6aa4cf');\n",
              "          const dataTable =\n",
              "            await google.colab.kernel.invokeFunction('convertToInteractive',\n",
              "                                                     [key], {});\n",
              "          if (!dataTable) return;\n",
              "\n",
              "          const docLinkHtml = 'Like what you see? Visit the ' +\n",
              "            '<a target=\"_blank\" href=https://colab.research.google.com/notebooks/data_table.ipynb>data table notebook</a>'\n",
              "            + ' to learn more about interactive tables.';\n",
              "          element.innerHTML = '';\n",
              "          dataTable['output_type'] = 'display_data';\n",
              "          await google.colab.output.renderOutput(dataTable, element);\n",
              "          const docLink = document.createElement('div');\n",
              "          docLink.innerHTML = docLinkHtml;\n",
              "          element.appendChild(docLink);\n",
              "        }\n",
              "      </script>\n",
              "    </div>\n",
              "  </div>\n",
              "  "
            ]
          },
          "metadata": {},
          "execution_count": 95
        }
      ]
    },
    {
      "cell_type": "code",
      "execution_count": 96,
      "metadata": {
        "colab": {
          "base_uri": "https://localhost:8080/"
        },
        "id": "RniZHyHzzknn",
        "outputId": "ff5c9283-7487-4e5e-f14c-ae2035475d33"
      },
      "outputs": [
        {
          "output_type": "execute_result",
          "data": {
            "text/plain": [
              "Index(['age', 'job', 'marital', 'education', 'default', 'balance', 'housing',\n",
              "       'loan', 'contact', 'day', 'month', 'duration', 'campaign', 'poutcome',\n",
              "       'y'],\n",
              "      dtype='object')"
            ]
          },
          "metadata": {},
          "execution_count": 96
        }
      ],
      "source": [
        "df.columns"
      ]
    },
    {
      "cell_type": "code",
      "execution_count": 97,
      "metadata": {
        "id": "hmaZ77gjvlA3",
        "colab": {
          "base_uri": "https://localhost:8080/"
        },
        "outputId": "f39e8249-f396-41f3-ceee-d6cebe2cdf05"
      },
      "outputs": [
        {
          "output_type": "execute_result",
          "data": {
            "text/plain": [
              "(36954, 15)"
            ]
          },
          "metadata": {},
          "execution_count": 97
        }
      ],
      "source": [
        "df.shape"
      ]
    },
    {
      "cell_type": "markdown",
      "source": [
        "Before we get started looking into the different types of stats of the "
      ],
      "metadata": {
        "id": "JcSX0dC9s4dq"
      }
    },
    {
      "cell_type": "code",
      "execution_count": 98,
      "metadata": {
        "id": "lP7_3jkH2s7O",
        "colab": {
          "base_uri": "https://localhost:8080/",
          "height": 0
        },
        "outputId": "abafe6cf-4c2d-4441-8548-26cd272f25dd"
      },
      "outputs": [
        {
          "output_type": "display_data",
          "data": {
            "text/plain": [
              "                age        balance           day      duration      campaign\n",
              "count  36954.000000   36954.000000  36954.000000  36954.000000  36954.000000\n",
              "mean      40.932430    1318.788846     16.145424    257.726119      2.921957\n",
              "std       10.430218    3039.557077      8.372554    262.256406      3.325791\n",
              "min       18.000000   -8019.000000      1.000000      0.000000      1.000000\n",
              "25%       33.000000      55.000000      9.000000    101.000000      1.000000\n",
              "50%       39.000000     414.000000     17.000000    177.000000      2.000000\n",
              "75%       49.000000    1358.000000     22.000000    318.000000      3.000000\n",
              "max       95.000000  102127.000000     31.000000   4918.000000     63.000000"
            ],
            "text/html": [
              "\n",
              "  <div id=\"df-1a0d65c9-2087-440c-8469-cff8718c0d82\">\n",
              "    <div class=\"colab-df-container\">\n",
              "      <div>\n",
              "<style scoped>\n",
              "    .dataframe tbody tr th:only-of-type {\n",
              "        vertical-align: middle;\n",
              "    }\n",
              "\n",
              "    .dataframe tbody tr th {\n",
              "        vertical-align: top;\n",
              "    }\n",
              "\n",
              "    .dataframe thead th {\n",
              "        text-align: right;\n",
              "    }\n",
              "</style>\n",
              "<table border=\"1\" class=\"dataframe\">\n",
              "  <thead>\n",
              "    <tr style=\"text-align: right;\">\n",
              "      <th></th>\n",
              "      <th>age</th>\n",
              "      <th>balance</th>\n",
              "      <th>day</th>\n",
              "      <th>duration</th>\n",
              "      <th>campaign</th>\n",
              "    </tr>\n",
              "  </thead>\n",
              "  <tbody>\n",
              "    <tr>\n",
              "      <th>count</th>\n",
              "      <td>36954.000000</td>\n",
              "      <td>36954.000000</td>\n",
              "      <td>36954.000000</td>\n",
              "      <td>36954.000000</td>\n",
              "      <td>36954.000000</td>\n",
              "    </tr>\n",
              "    <tr>\n",
              "      <th>mean</th>\n",
              "      <td>40.932430</td>\n",
              "      <td>1318.788846</td>\n",
              "      <td>16.145424</td>\n",
              "      <td>257.726119</td>\n",
              "      <td>2.921957</td>\n",
              "    </tr>\n",
              "    <tr>\n",
              "      <th>std</th>\n",
              "      <td>10.430218</td>\n",
              "      <td>3039.557077</td>\n",
              "      <td>8.372554</td>\n",
              "      <td>262.256406</td>\n",
              "      <td>3.325791</td>\n",
              "    </tr>\n",
              "    <tr>\n",
              "      <th>min</th>\n",
              "      <td>18.000000</td>\n",
              "      <td>-8019.000000</td>\n",
              "      <td>1.000000</td>\n",
              "      <td>0.000000</td>\n",
              "      <td>1.000000</td>\n",
              "    </tr>\n",
              "    <tr>\n",
              "      <th>25%</th>\n",
              "      <td>33.000000</td>\n",
              "      <td>55.000000</td>\n",
              "      <td>9.000000</td>\n",
              "      <td>101.000000</td>\n",
              "      <td>1.000000</td>\n",
              "    </tr>\n",
              "    <tr>\n",
              "      <th>50%</th>\n",
              "      <td>39.000000</td>\n",
              "      <td>414.000000</td>\n",
              "      <td>17.000000</td>\n",
              "      <td>177.000000</td>\n",
              "      <td>2.000000</td>\n",
              "    </tr>\n",
              "    <tr>\n",
              "      <th>75%</th>\n",
              "      <td>49.000000</td>\n",
              "      <td>1358.000000</td>\n",
              "      <td>22.000000</td>\n",
              "      <td>318.000000</td>\n",
              "      <td>3.000000</td>\n",
              "    </tr>\n",
              "    <tr>\n",
              "      <th>max</th>\n",
              "      <td>95.000000</td>\n",
              "      <td>102127.000000</td>\n",
              "      <td>31.000000</td>\n",
              "      <td>4918.000000</td>\n",
              "      <td>63.000000</td>\n",
              "    </tr>\n",
              "  </tbody>\n",
              "</table>\n",
              "</div>\n",
              "      <button class=\"colab-df-convert\" onclick=\"convertToInteractive('df-1a0d65c9-2087-440c-8469-cff8718c0d82')\"\n",
              "              title=\"Convert this dataframe to an interactive table.\"\n",
              "              style=\"display:none;\">\n",
              "        \n",
              "  <svg xmlns=\"http://www.w3.org/2000/svg\" height=\"24px\"viewBox=\"0 0 24 24\"\n",
              "       width=\"24px\">\n",
              "    <path d=\"M0 0h24v24H0V0z\" fill=\"none\"/>\n",
              "    <path d=\"M18.56 5.44l.94 2.06.94-2.06 2.06-.94-2.06-.94-.94-2.06-.94 2.06-2.06.94zm-11 1L8.5 8.5l.94-2.06 2.06-.94-2.06-.94L8.5 2.5l-.94 2.06-2.06.94zm10 10l.94 2.06.94-2.06 2.06-.94-2.06-.94-.94-2.06-.94 2.06-2.06.94z\"/><path d=\"M17.41 7.96l-1.37-1.37c-.4-.4-.92-.59-1.43-.59-.52 0-1.04.2-1.43.59L10.3 9.45l-7.72 7.72c-.78.78-.78 2.05 0 2.83L4 21.41c.39.39.9.59 1.41.59.51 0 1.02-.2 1.41-.59l7.78-7.78 2.81-2.81c.8-.78.8-2.07 0-2.86zM5.41 20L4 18.59l7.72-7.72 1.47 1.35L5.41 20z\"/>\n",
              "  </svg>\n",
              "      </button>\n",
              "      \n",
              "  <style>\n",
              "    .colab-df-container {\n",
              "      display:flex;\n",
              "      flex-wrap:wrap;\n",
              "      gap: 12px;\n",
              "    }\n",
              "\n",
              "    .colab-df-convert {\n",
              "      background-color: #E8F0FE;\n",
              "      border: none;\n",
              "      border-radius: 50%;\n",
              "      cursor: pointer;\n",
              "      display: none;\n",
              "      fill: #1967D2;\n",
              "      height: 32px;\n",
              "      padding: 0 0 0 0;\n",
              "      width: 32px;\n",
              "    }\n",
              "\n",
              "    .colab-df-convert:hover {\n",
              "      background-color: #E2EBFA;\n",
              "      box-shadow: 0px 1px 2px rgba(60, 64, 67, 0.3), 0px 1px 3px 1px rgba(60, 64, 67, 0.15);\n",
              "      fill: #174EA6;\n",
              "    }\n",
              "\n",
              "    [theme=dark] .colab-df-convert {\n",
              "      background-color: #3B4455;\n",
              "      fill: #D2E3FC;\n",
              "    }\n",
              "\n",
              "    [theme=dark] .colab-df-convert:hover {\n",
              "      background-color: #434B5C;\n",
              "      box-shadow: 0px 1px 3px 1px rgba(0, 0, 0, 0.15);\n",
              "      filter: drop-shadow(0px 1px 2px rgba(0, 0, 0, 0.3));\n",
              "      fill: #FFFFFF;\n",
              "    }\n",
              "  </style>\n",
              "\n",
              "      <script>\n",
              "        const buttonEl =\n",
              "          document.querySelector('#df-1a0d65c9-2087-440c-8469-cff8718c0d82 button.colab-df-convert');\n",
              "        buttonEl.style.display =\n",
              "          google.colab.kernel.accessAllowed ? 'block' : 'none';\n",
              "\n",
              "        async function convertToInteractive(key) {\n",
              "          const element = document.querySelector('#df-1a0d65c9-2087-440c-8469-cff8718c0d82');\n",
              "          const dataTable =\n",
              "            await google.colab.kernel.invokeFunction('convertToInteractive',\n",
              "                                                     [key], {});\n",
              "          if (!dataTable) return;\n",
              "\n",
              "          const docLinkHtml = 'Like what you see? Visit the ' +\n",
              "            '<a target=\"_blank\" href=https://colab.research.google.com/notebooks/data_table.ipynb>data table notebook</a>'\n",
              "            + ' to learn more about interactive tables.';\n",
              "          element.innerHTML = '';\n",
              "          dataTable['output_type'] = 'display_data';\n",
              "          await google.colab.output.renderOutput(dataTable, element);\n",
              "          const docLink = document.createElement('div');\n",
              "          docLink.innerHTML = docLinkHtml;\n",
              "          element.appendChild(docLink);\n",
              "        }\n",
              "      </script>\n",
              "    </div>\n",
              "  </div>\n",
              "  "
            ]
          },
          "metadata": {}
        }
      ],
      "source": [
        "# Giving the descriptive metrics\n",
        "display(df.describe())\n"
      ]
    },
    {
      "cell_type": "code",
      "source": [
        "# Displaying Info $ and DTypes and counts\n",
        "display(df.info())"
      ],
      "metadata": {
        "colab": {
          "base_uri": "https://localhost:8080/",
          "height": 0
        },
        "id": "KVft0mjyeWBg",
        "outputId": "7d24c23a-48f5-461b-c8df-98f16d7fcda9"
      },
      "execution_count": 99,
      "outputs": [
        {
          "output_type": "stream",
          "name": "stdout",
          "text": [
            "<class 'pandas.core.frame.DataFrame'>\n",
            "Int64Index: 36954 entries, 0 to 45209\n",
            "Data columns (total 15 columns):\n",
            " #   Column     Non-Null Count  Dtype \n",
            "---  ------     --------------  ----- \n",
            " 0   age        36954 non-null  int64 \n",
            " 1   job        36954 non-null  object\n",
            " 2   marital    36954 non-null  object\n",
            " 3   education  36954 non-null  object\n",
            " 4   default    36954 non-null  object\n",
            " 5   balance    36954 non-null  int64 \n",
            " 6   housing    36954 non-null  object\n",
            " 7   loan       36954 non-null  object\n",
            " 8   contact    36954 non-null  object\n",
            " 9   day        36954 non-null  int64 \n",
            " 10  month      36954 non-null  object\n",
            " 11  duration   36954 non-null  int64 \n",
            " 12  campaign   36954 non-null  int64 \n",
            " 13  poutcome   36954 non-null  object\n",
            " 14  y          36954 non-null  object\n",
            "dtypes: int64(5), object(10)\n",
            "memory usage: 4.5+ MB\n"
          ]
        },
        {
          "output_type": "display_data",
          "data": {
            "text/plain": [
              "None"
            ]
          },
          "metadata": {}
        }
      ]
    },
    {
      "cell_type": "markdown",
      "source": [
        "While on the face, It looks like there are no missing values. This is not quite true. They have been entries marked as unknown. For this reason we will change them to make them more visable and easier to handle."
      ],
      "metadata": {
        "id": "yPSlR3YuhcHV"
      }
    },
    {
      "cell_type": "code",
      "source": [
        "# Replacing all the Unknown values with Nan\n",
        "df.replace('unknown', np.nan, inplace=True)\n",
        "\n",
        "# Displaying the count of the NaN's in the dataframe\n",
        "df.isna().sum()"
      ],
      "metadata": {
        "colab": {
          "base_uri": "https://localhost:8080/"
        },
        "id": "2lNjplsGhlhv",
        "outputId": "478e8b13-5a5f-4258-e445-8511de9e4510"
      },
      "execution_count": 100,
      "outputs": [
        {
          "output_type": "execute_result",
          "data": {
            "text/plain": [
              "age              0\n",
              "job            255\n",
              "marital          0\n",
              "education     1534\n",
              "default          0\n",
              "balance          0\n",
              "housing          0\n",
              "loan             0\n",
              "contact      12950\n",
              "day              0\n",
              "month            0\n",
              "duration         0\n",
              "campaign         0\n",
              "poutcome     36954\n",
              "y                0\n",
              "dtype: int64"
            ]
          },
          "metadata": {},
          "execution_count": 100
        }
      ]
    },
    {
      "cell_type": "code",
      "source": [
        "# Displaying the new NaNs on a heatmap\n",
        "plt.figure(figsize=(10,10))\n",
        "sns.heatmap(df.isna())\n",
        "plt.title('Heatmap of NA')\n",
        "plt.show()"
      ],
      "metadata": {
        "colab": {
          "base_uri": "https://localhost:8080/",
          "height": 0
        },
        "id": "RWbTMAIPjkr-",
        "outputId": "a3874a6e-3009-4fc8-e4f9-09be1507526a"
      },
      "execution_count": 101,
      "outputs": [
        {
          "output_type": "display_data",
          "data": {
            "text/plain": [
              "<Figure size 720x720 with 2 Axes>"
            ],
            "image/png": "[encoded data removed]"
          },
          "metadata": {
            "needs_background": "light"
          }
        }
      ]
    },
    {
      "cell_type": "code",
      "source": [
        "missing_col_per = pd.DataFrame([(df[col].isnull().sum()/df.shape[0]) for col in df.columns] , df.columns, columns=['Percent_Missing'])\n",
        "missing_col_per"
      ],
      "metadata": {
        "colab": {
          "base_uri": "https://localhost:8080/",
          "height": 0
        },
        "id": "kNQcK4I7j8GC",
        "outputId": "61101f77-6fa9-4178-ff5b-524428380384"
      },
      "execution_count": 102,
      "outputs": [
        {
          "output_type": "execute_result",
          "data": {
            "text/plain": [
              "           Percent_Missing\n",
              "age               0.000000\n",
              "job               0.006900\n",
              "marital           0.000000\n",
              "education         0.041511\n",
              "default           0.000000\n",
              "balance           0.000000\n",
              "housing           0.000000\n",
              "loan              0.000000\n",
              "contact           0.350436\n",
              "day               0.000000\n",
              "month             0.000000\n",
              "duration          0.000000\n",
              "campaign          0.000000\n",
              "poutcome          1.000000\n",
              "y                 0.000000"
            ],
            "text/html": [
              "\n",
              "  <div id=\"df-8a8d61ea-3bc9-4ab2-bd0b-ceb6bc382a6c\">\n",
              "    <div class=\"colab-df-container\">\n",
              "      <div>\n",
              "<style scoped>\n",
              "    .dataframe tbody tr th:only-of-type {\n",
              "        vertical-align: middle;\n",
              "    }\n",
              "\n",
              "    .dataframe tbody tr th {\n",
              "        vertical-align: top;\n",
              "    }\n",
              "\n",
              "    .dataframe thead th {\n",
              "        text-align: right;\n",
              "    }\n",
              "</style>\n",
              "<table border=\"1\" class=\"dataframe\">\n",
              "  <thead>\n",
              "    <tr style=\"text-align: right;\">\n",
              "      <th></th>\n",
              "      <th>Percent_Missing</th>\n",
              "    </tr>\n",
              "  </thead>\n",
              "  <tbody>\n",
              "    <tr>\n",
              "      <th>age</th>\n",
              "      <td>0.000000</td>\n",
              "    </tr>\n",
              "    <tr>\n",
              "      <th>job</th>\n",
              "      <td>0.006900</td>\n",
              "    </tr>\n",
              "    <tr>\n",
              "      <th>marital</th>\n",
              "      <td>0.000000</td>\n",
              "    </tr>\n",
              "    <tr>\n",
              "      <th>education</th>\n",
              "      <td>0.041511</td>\n",
              "    </tr>\n",
              "    <tr>\n",
              "      <th>default</th>\n",
              "      <td>0.000000</td>\n",
              "    </tr>\n",
              "    <tr>\n",
              "      <th>balance</th>\n",
              "      <td>0.000000</td>\n",
              "    </tr>\n",
              "    <tr>\n",
              "      <th>housing</th>\n",
              "      <td>0.000000</td>\n",
              "    </tr>\n",
              "    <tr>\n",
              "      <th>loan</th>\n",
              "      <td>0.000000</td>\n",
              "    </tr>\n",
              "    <tr>\n",
              "      <th>contact</th>\n",
              "      <td>0.350436</td>\n",
              "    </tr>\n",
              "    <tr>\n",
              "      <th>day</th>\n",
              "      <td>0.000000</td>\n",
              "    </tr>\n",
              "    <tr>\n",
              "      <th>month</th>\n",
              "      <td>0.000000</td>\n",
              "    </tr>\n",
              "    <tr>\n",
              "      <th>duration</th>\n",
              "      <td>0.000000</td>\n",
              "    </tr>\n",
              "    <tr>\n",
              "      <th>campaign</th>\n",
              "      <td>0.000000</td>\n",
              "    </tr>\n",
              "    <tr>\n",
              "      <th>poutcome</th>\n",
              "      <td>1.000000</td>\n",
              "    </tr>\n",
              "    <tr>\n",
              "      <th>y</th>\n",
              "      <td>0.000000</td>\n",
              "    </tr>\n",
              "  </tbody>\n",
              "</table>\n",
              "</div>\n",
              "      <button class=\"colab-df-convert\" onclick=\"convertToInteractive('df-8a8d61ea-3bc9-4ab2-bd0b-ceb6bc382a6c')\"\n",
              "              title=\"Convert this dataframe to an interactive table.\"\n",
              "              style=\"display:none;\">\n",
              "        \n",
              "  <svg xmlns=\"http://www.w3.org/2000/svg\" height=\"24px\"viewBox=\"0 0 24 24\"\n",
              "       width=\"24px\">\n",
              "    <path d=\"M0 0h24v24H0V0z\" fill=\"none\"/>\n",
              "    <path d=\"M18.56 5.44l.94 2.06.94-2.06 2.06-.94-2.06-.94-.94-2.06-.94 2.06-2.06.94zm-11 1L8.5 8.5l.94-2.06 2.06-.94-2.06-.94L8.5 2.5l-.94 2.06-2.06.94zm10 10l.94 2.06.94-2.06 2.06-.94-2.06-.94-.94-2.06-.94 2.06-2.06.94z\"/><path d=\"M17.41 7.96l-1.37-1.37c-.4-.4-.92-.59-1.43-.59-.52 0-1.04.2-1.43.59L10.3 9.45l-7.72 7.72c-.78.78-.78 2.05 0 2.83L4 21.41c.39.39.9.59 1.41.59.51 0 1.02-.2 1.41-.59l7.78-7.78 2.81-2.81c.8-.78.8-2.07 0-2.86zM5.41 20L4 18.59l7.72-7.72 1.47 1.35L5.41 20z\"/>\n",
              "  </svg>\n",
              "      </button>\n",
              "      \n",
              "  <style>\n",
              "    .colab-df-container {\n",
              "      display:flex;\n",
              "      flex-wrap:wrap;\n",
              "      gap: 12px;\n",
              "    }\n",
              "\n",
              "    .colab-df-convert {\n",
              "      background-color: #E8F0FE;\n",
              "      border: none;\n",
              "      border-radius: 50%;\n",
              "      cursor: pointer;\n",
              "      display: none;\n",
              "      fill: #1967D2;\n",
              "      height: 32px;\n",
              "      padding: 0 0 0 0;\n",
              "      width: 32px;\n",
              "    }\n",
              "\n",
              "    .colab-df-convert:hover {\n",
              "      background-color: #E2EBFA;\n",
              "      box-shadow: 0px 1px 2px rgba(60, 64, 67, 0.3), 0px 1px 3px 1px rgba(60, 64, 67, 0.15);\n",
              "      fill: #174EA6;\n",
              "    }\n",
              "\n",
              "    [theme=dark] .colab-df-convert {\n",
              "      background-color: #3B4455;\n",
              "      fill: #D2E3FC;\n",
              "    }\n",
              "\n",
              "    [theme=dark] .colab-df-convert:hover {\n",
              "      background-color: #434B5C;\n",
              "      box-shadow: 0px 1px 3px 1px rgba(0, 0, 0, 0.15);\n",
              "      filter: drop-shadow(0px 1px 2px rgba(0, 0, 0, 0.3));\n",
              "      fill: #FFFFFF;\n",
              "    }\n",
              "  </style>\n",
              "\n",
              "      <script>\n",
              "        const buttonEl =\n",
              "          document.querySelector('#df-8a8d61ea-3bc9-4ab2-bd0b-ceb6bc382a6c button.colab-df-convert');\n",
              "        buttonEl.style.display =\n",
              "          google.colab.kernel.accessAllowed ? 'block' : 'none';\n",
              "\n",
              "        async function convertToInteractive(key) {\n",
              "          const element = document.querySelector('#df-8a8d61ea-3bc9-4ab2-bd0b-ceb6bc382a6c');\n",
              "          const dataTable =\n",
              "            await google.colab.kernel.invokeFunction('convertToInteractive',\n",
              "                                                     [key], {});\n",
              "          if (!dataTable) return;\n",
              "\n",
              "          const docLinkHtml = 'Like what you see? Visit the ' +\n",
              "            '<a target=\"_blank\" href=https://colab.research.google.com/notebooks/data_table.ipynb>data table notebook</a>'\n",
              "            + ' to learn more about interactive tables.';\n",
              "          element.innerHTML = '';\n",
              "          dataTable['output_type'] = 'display_data';\n",
              "          await google.colab.output.renderOutput(dataTable, element);\n",
              "          const docLink = document.createElement('div');\n",
              "          docLink.innerHTML = docLinkHtml;\n",
              "          element.appendChild(docLink);\n",
              "        }\n",
              "      </script>\n",
              "    </div>\n",
              "  </div>\n",
              "  "
            ]
          },
          "metadata": {},
          "execution_count": 102
        }
      ]
    },
    {
      "cell_type": "markdown",
      "source": [
        "Since we removed all the clients that had been placed in a campaign before we now get 100% of the Poutcome column as unknown. Meaning that this column should be dropped. Below we set up the threshold for dropping a column as over 80% missing. This will end up taking contact and poutcome out of the equation."
      ],
      "metadata": {
        "id": "m2eH6o9upFl8"
      }
    },
    {
      "cell_type": "code",
      "source": [
        "# Setting the limit for dropping\n",
        "drop_lim = df.shape[0] * .8\n",
        "df_1 = df.dropna(thresh=drop_lim, axis=1)"
      ],
      "metadata": {
        "id": "LQN_x6NMqG92"
      },
      "execution_count": 103,
      "outputs": []
    },
    {
      "cell_type": "code",
      "source": [
        "# Displaying the New Columns to be used\n",
        "df_1.columns"
      ],
      "metadata": {
        "colab": {
          "base_uri": "https://localhost:8080/"
        },
        "id": "gCQZuzSiqnfE",
        "outputId": "de8d405f-ada6-4031-d36a-25ffe24ed1de"
      },
      "execution_count": 104,
      "outputs": [
        {
          "output_type": "execute_result",
          "data": {
            "text/plain": [
              "Index(['age', 'job', 'marital', 'education', 'default', 'balance', 'housing',\n",
              "       'loan', 'day', 'month', 'duration', 'campaign', 'y'],\n",
              "      dtype='object')"
            ]
          },
          "metadata": {},
          "execution_count": 104
        }
      ]
    },
    {
      "cell_type": "code",
      "source": [
        "# Displaying the count of the NaN's in the dataframe\n",
        "df_1.isna().sum()"
      ],
      "metadata": {
        "colab": {
          "base_uri": "https://localhost:8080/"
        },
        "id": "iZiVNvb5YVQo",
        "outputId": "dd780860-c72b-4809-f4ed-bc6f619faa8c"
      },
      "execution_count": 105,
      "outputs": [
        {
          "output_type": "execute_result",
          "data": {
            "text/plain": [
              "age             0\n",
              "job           255\n",
              "marital         0\n",
              "education    1534\n",
              "default         0\n",
              "balance         0\n",
              "housing         0\n",
              "loan            0\n",
              "day             0\n",
              "month           0\n",
              "duration        0\n",
              "campaign        0\n",
              "y               0\n",
              "dtype: int64"
            ]
          },
          "metadata": {},
          "execution_count": 105
        }
      ]
    },
    {
      "cell_type": "code",
      "source": [
        "# Showing the number of unique values\n",
        "df_1.nunique()"
      ],
      "metadata": {
        "colab": {
          "base_uri": "https://localhost:8080/"
        },
        "id": "uiEjKd2BZeGe",
        "outputId": "a630bd97-8786-4abd-fc19-f179028f8772"
      },
      "execution_count": 106,
      "outputs": [
        {
          "output_type": "execute_result",
          "data": {
            "text/plain": [
              "age            76\n",
              "job            11\n",
              "marital         3\n",
              "education       3\n",
              "default         2\n",
              "balance      7058\n",
              "housing         2\n",
              "loan            2\n",
              "day            31\n",
              "month          12\n",
              "duration     1525\n",
              "campaign       48\n",
              "y               2\n",
              "dtype: int64"
            ]
          },
          "metadata": {},
          "execution_count": 106
        }
      ]
    },
    {
      "cell_type": "markdown",
      "source": [
        "There are a few NaN's still present in the data set bu t they dont leave enough of a mark on the data to warrent removing the entire column. Instead this will be left to the data pipeline for removal. Before going completely ahead. Some brief data visualization is needed to get a full understanding of the data that we have collected."
      ],
      "metadata": {
        "id": "dfScd-syY5zU"
      }
    },
    {
      "cell_type": "code",
      "source": [
        "# Age\n",
        "df_1['age'].hist()"
      ],
      "metadata": {
        "colab": {
          "base_uri": "https://localhost:8080/",
          "height": 0
        },
        "id": "4zIreMzSZuY4",
        "outputId": "e6a02422-01f0-48b7-b43c-31dc79ac7146"
      },
      "execution_count": 107,
      "outputs": [
        {
          "output_type": "execute_result",
          "data": {
            "text/plain": [
              "<matplotlib.axes._subplots.AxesSubplot at 0x7f4a3cb759d0>"
            ]
          },
          "metadata": {},
          "execution_count": 107
        },
        {
          "output_type": "display_data",
          "data": {
            "text/plain": [
              "<Figure size 432x288 with 1 Axes>"
            ],
            "image/png": "[encoded data removed]"
          },
          "metadata": {
            "needs_background": "light"
          }
        }
      ]
    },
    {
      "cell_type": "code",
      "source": [
        "# Y variable\n",
        "df_1['y'].hist()\n",
        "plt.show()"
      ],
      "metadata": {
        "colab": {
          "base_uri": "https://localhost:8080/",
          "height": 0
        },
        "id": "mZot2Q0ZaC5e",
        "outputId": "a5db8acb-1c04-4dfe-b655-e2cd463f75b5"
      },
      "execution_count": 108,
      "outputs": [
        {
          "output_type": "display_data",
          "data": {
            "text/plain": [
              "<Figure size 432x288 with 1 Axes>"
            ],
            "image/png": "[encoded data removed]"
          },
          "metadata": {
            "needs_background": "light"
          }
        }
      ]
    },
    {
      "cell_type": "markdown",
      "source": [
        "The distribution of the Yes to the No in the Y variable is a bit concerning for our test. We will have to resample the no and maybe do some cross validation to bring this more to an even set."
      ],
      "metadata": {
        "id": "h3P9T9KvaNIR"
      }
    },
    {
      "cell_type": "code",
      "source": [
        "# Job\n",
        "df_1['job'].hist()\n",
        "plt.xticks(rotation=90)\n",
        "plt.show()"
      ],
      "metadata": {
        "colab": {
          "base_uri": "https://localhost:8080/",
          "height": 0
        },
        "id": "eD9r392maX16",
        "outputId": "6096c295-3325-4fb4-b959-2854e4471b55"
      },
      "execution_count": 109,
      "outputs": [
        {
          "output_type": "display_data",
          "data": {
            "text/plain": [
              "<Figure size 432x288 with 1 Axes>"
            ],
            "image/png": "[encoded data removed]"
          },
          "metadata": {
            "needs_background": "light"
          }
        }
      ]
    },
    {
      "cell_type": "code",
      "source": [
        "# Marital status\n",
        "df_1['marital'].hist()\n",
        "plt.show()"
      ],
      "metadata": {
        "colab": {
          "base_uri": "https://localhost:8080/",
          "height": 0
        },
        "id": "jZIVKnyPbCT6",
        "outputId": "7940964a-a7e9-4421-90f1-313a35d322a4"
      },
      "execution_count": 110,
      "outputs": [
        {
          "output_type": "display_data",
          "data": {
            "text/plain": [
              "<Figure size 432x288 with 1 Axes>"
            ],
            "image/png": "[encoded data removed]"
          },
          "metadata": {
            "needs_background": "light"
          }
        }
      ]
    },
    {
      "cell_type": "code",
      "source": [
        "# Education\n",
        "df_1['education'].hist()\n",
        "plt.show()"
      ],
      "metadata": {
        "colab": {
          "base_uri": "https://localhost:8080/",
          "height": 0
        },
        "id": "LNHU3hxdbMk8",
        "outputId": "65a5f41a-2d6c-4b66-b953-d471fbd2a928"
      },
      "execution_count": 111,
      "outputs": [
        {
          "output_type": "display_data",
          "data": {
            "text/plain": [
              "<Figure size 432x288 with 1 Axes>"
            ],
            "image/png": "[encoded data removed]"
          },
          "metadata": {
            "needs_background": "light"
          }
        }
      ]
    },
    {
      "cell_type": "code",
      "source": [
        "# Default\n",
        "df_1['default'].hist()\n",
        "plt.show()"
      ],
      "metadata": {
        "colab": {
          "base_uri": "https://localhost:8080/",
          "height": 0
        },
        "id": "kqYkt3G6bVOH",
        "outputId": "c70af883-2266-4e68-8e8c-e8e42edb8cf3"
      },
      "execution_count": 112,
      "outputs": [
        {
          "output_type": "display_data",
          "data": {
            "text/plain": [
              "<Figure size 432x288 with 1 Axes>"
            ],
            "image/png": "[encoded data removed]"
          },
          "metadata": {
            "needs_background": "light"
          }
        }
      ]
    },
    {
      "cell_type": "code",
      "source": [
        "# Balance\n",
        "df_1['balance'].hist()\n",
        "plt.show()"
      ],
      "metadata": {
        "id": "vHsj6L0pcm-X",
        "colab": {
          "base_uri": "https://localhost:8080/",
          "height": 0
        },
        "outputId": "1aea8eef-191b-407b-b871-5678824edd6d"
      },
      "execution_count": 113,
      "outputs": [
        {
          "output_type": "display_data",
          "data": {
            "text/plain": [
              "<Figure size 432x288 with 1 Axes>"
            ],
            "image/png": "[encoded data removed]"
          },
          "metadata": {
            "needs_background": "light"
          }
        }
      ]
    },
    {
      "cell_type": "code",
      "source": [
        "# Housing\n",
        "df_1['housing'].hist()\n",
        "plt.show()"
      ],
      "metadata": {
        "id": "Rjp7YqMnc3vx",
        "colab": {
          "base_uri": "https://localhost:8080/",
          "height": 0
        },
        "outputId": "a19debaa-7b04-437a-8b80-15c9dea03e23"
      },
      "execution_count": 114,
      "outputs": [
        {
          "output_type": "display_data",
          "data": {
            "text/plain": [
              "<Figure size 432x288 with 1 Axes>"
            ],
            "image/png": "[encoded data removed]"
          },
          "metadata": {
            "needs_background": "light"
          }
        }
      ]
    },
    {
      "cell_type": "code",
      "source": [
        "# Loan\n",
        "df_1['loan'].hist()\n",
        "plt.show()"
      ],
      "metadata": {
        "id": "kzwgMcLAc5TO",
        "colab": {
          "base_uri": "https://localhost:8080/",
          "height": 0
        },
        "outputId": "246c3f45-21bf-4217-8335-f0b8585deeb7"
      },
      "execution_count": 115,
      "outputs": [
        {
          "output_type": "display_data",
          "data": {
            "text/plain": [
              "<Figure size 432x288 with 1 Axes>"
            ],
            "image/png": "[encoded data removed]"
          },
          "metadata": {
            "needs_background": "light"
          }
        }
      ]
    },
    {
      "cell_type": "code",
      "source": [
        "# Day\n",
        "df_1['day'].hist()\n",
        "plt.show()"
      ],
      "metadata": {
        "id": "lB-UHuiDc5aN",
        "colab": {
          "base_uri": "https://localhost:8080/",
          "height": 0
        },
        "outputId": "45272d9e-6a59-45b4-a49a-6ceeafabf754"
      },
      "execution_count": 116,
      "outputs": [
        {
          "output_type": "display_data",
          "data": {
            "text/plain": [
              "<Figure size 432x288 with 1 Axes>"
            ],
            "image/png": "[encoded data removed]"
          },
          "metadata": {
            "needs_background": "light"
          }
        }
      ]
    },
    {
      "cell_type": "code",
      "source": [
        "# Month\n",
        "df_1['month'].hist()\n",
        "plt.show()"
      ],
      "metadata": {
        "id": "103iffLXc5y0",
        "colab": {
          "base_uri": "https://localhost:8080/",
          "height": 0
        },
        "outputId": "d95a298c-b0d1-4728-ebb0-2bb5444302a9"
      },
      "execution_count": 117,
      "outputs": [
        {
          "output_type": "display_data",
          "data": {
            "text/plain": [
              "<Figure size 432x288 with 1 Axes>"
            ],
            "image/png": "[encoded data removed]"
          },
          "metadata": {
            "needs_background": "light"
          }
        }
      ]
    },
    {
      "cell_type": "code",
      "source": [
        "# Duration\n",
        "df_1['duration'].hist()\n",
        "plt.show()"
      ],
      "metadata": {
        "id": "VrdzpF50c519",
        "colab": {
          "base_uri": "https://localhost:8080/",
          "height": 0
        },
        "outputId": "0c039119-7af7-4396-cbbb-04bbb7131153"
      },
      "execution_count": 118,
      "outputs": [
        {
          "output_type": "display_data",
          "data": {
            "text/plain": [
              "<Figure size 432x288 with 1 Axes>"
            ],
            "image/png": "[encoded data removed]"
          },
          "metadata": {
            "needs_background": "light"
          }
        }
      ]
    },
    {
      "cell_type": "code",
      "source": [
        "# Campaign\n",
        "df_1['campaign'].hist()\n",
        "plt.show()"
      ],
      "metadata": {
        "id": "Sk9YrYq-c-Up",
        "colab": {
          "base_uri": "https://localhost:8080/",
          "height": 0
        },
        "outputId": "5ef61d0d-7102-4e2b-e885-5107470cdfad"
      },
      "execution_count": 119,
      "outputs": [
        {
          "output_type": "display_data",
          "data": {
            "text/plain": [
              "<Figure size 432x288 with 1 Axes>"
            ],
            "image/png": "[encoded data removed]"
          },
          "metadata": {
            "needs_background": "light"
          }
        }
      ]
    },
    {
      "cell_type": "code",
      "source": [
        "# Displaying the new NaNs on a heatmap, now that the columns have been removed\n",
        "plt.figure(figsize=(10,10))\n",
        "sns.heatmap(df_1.isna())\n",
        "plt.title('Heatmap of NA')\n",
        "plt.show()"
      ],
      "metadata": {
        "colab": {
          "base_uri": "https://localhost:8080/",
          "height": 0
        },
        "id": "Dyj7j_F8fGnV",
        "outputId": "4c1377cb-125f-4660-c0b3-e3eb30fd0191"
      },
      "execution_count": 120,
      "outputs": [
        {
          "output_type": "display_data",
          "data": {
            "text/plain": [
              "<Figure size 720x720 with 2 Axes>"
            ],
            "image/png": "[encoded data removed]"
          },
          "metadata": {
            "needs_background": "light"
          }
        }
      ]
    },
    {
      "cell_type": "markdown",
      "metadata": {
        "id": "S3e6LAMsY_fA"
      },
      "source": [
        "# Data Preprocessing\n",
        "## This is where I perform functions such as iumputing / dropping missing data,scaling features, mapping categorical labels, feature selection / extraction to select relevant features and reduce the dimensionality of the training examples. \n",
        "- The Extraction methods chosen for preprocessing data will depend on the ML algorithms intended to use, the state of the training examples collected\n",
        "\n",
        "Yes. The extraction methods will be different for the different algorithms. This is why I have set up seperate functions for preprocessing and training modeling. That way I can select or create the preprocessing that I would like to conduct.\n",
        "\n",
        "- A requirement of the project will be to address each category of data preprocessing stated above, describe the reasons for whether you used a given preprocessing technique or not\n",
        "\n",
        "The data first starts with are either integers or objects. In the case of columns y, loan, and default. These were integer objects that were turned into category types with binary encoding. For the rest of the integers, I decided to use the minmaxscaler to help normalize the data a bit. For the Other objects I used one hot encoding to help relay the categorical element.\n",
        "\n",
        "- At least Three of the features must require some form of data preprocessing\n",
        "\n",
        "Everyone of the columns goes through a type of transformation, wether one hot encoding or minmax scaling\n",
        "\n",
        "- Data cannot be \"Turn-Key\" for training\n",
        "\n",
        "The Data is rather clean, but not completely turn key because we have to transform all of the categorical variables.\n",
        "\n",
        "- NOTE regardless of wether the features can ultimately be reduced via feature selection techniques or not, it's a requirement that you perform feature selection analysis to determine the relative importance of each feature and decide which features should be included in the model\n",
        "\n",
        "Some of the features where immedialely dropped from the vary beinging, such as Poutcome and contact. Though this can be said to be a standard selection. \n",
        "## TODO Make Sure to go through some feature selection analysis\n",
        "\n",
        "\n",
        "- After preprocessing the data, check examples to ensure your training dataset is balanced\n",
        "\n",
        "The data sets was definitely not balanced from the begining. It is for this reason that I decided to use Sklearns resampling to help go through and edit the different variables. \n",
        "\n",
        "- Remove examples with missing fields, or instances, could reulst in a training dataset that is unbalanced if one class label was more likely to be missing a particular feature.\n",
        "\n",
        "Columns with too many missing fields were removed. Other columns that had missing fields just how those rows dropped.\n",
        "\n",
        "-If you find yourself in the situation of having inbalanced dataset after preprocessing your data, consider alternative methods of preprocessing such as creating fake values or dropping the feature altogehr. These kinds of decisions are precisely what I want described in the write up inside the note book."
      ]
    },
    {
      "cell_type": "code",
      "execution_count": 121,
      "metadata": {
        "id": "01EHotJKZBC-",
        "colab": {
          "base_uri": "https://localhost:8080/"
        },
        "outputId": "e44b8134-59e1-48ff-84f4-ff647e4269d6"
      },
      "outputs": [
        {
          "output_type": "execute_result",
          "data": {
            "text/plain": [
              "age           int64\n",
              "job          object\n",
              "marital      object\n",
              "education    object\n",
              "default      object\n",
              "balance       int64\n",
              "housing      object\n",
              "loan         object\n",
              "day           int64\n",
              "month        object\n",
              "duration      int64\n",
              "campaign      int64\n",
              "y            object\n",
              "dtype: object"
            ]
          },
          "metadata": {},
          "execution_count": 121
        }
      ],
      "source": [
        "# Data Preprocessing Code\n",
        "df_1.dtypes"
      ]
    },
    {
      "cell_type": "markdown",
      "source": [
        "To look into running the different algorithms we need to set up a data pipeline. To do this I will use some of the libraries from sklearn"
      ],
      "metadata": {
        "id": "rTBETwhuVn-w"
      }
    },
    {
      "cell_type": "code",
      "execution_count": 122,
      "metadata": {
        "id": "bB1I2ckMlhSb",
        "colab": {
          "base_uri": "https://localhost:8080/"
        },
        "outputId": "2efef69f-38d3-4465-8217-fbaac03472f6"
      },
      "outputs": [
        {
          "output_type": "execute_result",
          "data": {
            "text/plain": [
              "2"
            ]
          },
          "metadata": {},
          "execution_count": 122
        }
      ],
      "source": [
        "# Counting to see the sums\n",
        "df_1.isnull().any().sum()"
      ]
    },
    {
      "cell_type": "markdown",
      "source": [
        "To start we will drop all the rows with the NaN values."
      ],
      "metadata": {
        "id": "gprNGWFye-S_"
      }
    },
    {
      "cell_type": "code",
      "source": [
        "# Simple Drop of NaN rows\n",
        "df_2 = df_1.dropna().copy()\n",
        "df_2.isnull().any().sum()"
      ],
      "metadata": {
        "colab": {
          "base_uri": "https://localhost:8080/"
        },
        "id": "dIMsNAiHfS1d",
        "outputId": "bed44f79-27ee-4b37-8de8-ecda700c19b5"
      },
      "execution_count": 123,
      "outputs": [
        {
          "output_type": "execute_result",
          "data": {
            "text/plain": [
              "0"
            ]
          },
          "metadata": {},
          "execution_count": 123
        }
      ]
    },
    {
      "cell_type": "markdown",
      "source": [
        "Note that only two columns had any NaNs those rows have been removed and now we are working on a clean new data frame. df_2\n",
        "\n",
        "There are three different columns that have two classiciations. These are default, housing, loan, and of course Y. We can turn all of theses in to binary."
      ],
      "metadata": {
        "id": "2cm8yt0KgBpa"
      }
    },
    {
      "cell_type": "code",
      "source": [
        "# Changing three different columns into binary.\n",
        "df_2['y'] = df_2.y.map(dict(yes=1, no=0))\n",
        "df_2['default'] = df_2.default.map(dict(yes=1, no=0))\n",
        "df_2['loan'] = df_2.loan.map(dict(yes=1, no=0))\n",
        "df_2[['y','loan','default']].head()"
      ],
      "metadata": {
        "colab": {
          "base_uri": "https://localhost:8080/",
          "height": 206
        },
        "id": "eQHE76GtjM-Q",
        "outputId": "67d412fb-f818-4452-a274-30940cfa9dc7"
      },
      "execution_count": 124,
      "outputs": [
        {
          "output_type": "execute_result",
          "data": {
            "text/plain": [
              "   y  loan  default\n",
              "0  0     0        0\n",
              "1  0     0        0\n",
              "2  0     1        0\n",
              "5  0     0        0\n",
              "6  0     1        0"
            ],
            "text/html": [
              "\n",
              "  <div id=\"df-60a60cb9-2e83-4b69-8080-37b6fa54d07a\">\n",
              "    <div class=\"colab-df-container\">\n",
              "      <div>\n",
              "<style scoped>\n",
              "    .dataframe tbody tr th:only-of-type {\n",
              "        vertical-align: middle;\n",
              "    }\n",
              "\n",
              "    .dataframe tbody tr th {\n",
              "        vertical-align: top;\n",
              "    }\n",
              "\n",
              "    .dataframe thead th {\n",
              "        text-align: right;\n",
              "    }\n",
              "</style>\n",
              "<table border=\"1\" class=\"dataframe\">\n",
              "  <thead>\n",
              "    <tr style=\"text-align: right;\">\n",
              "      <th></th>\n",
              "      <th>y</th>\n",
              "      <th>loan</th>\n",
              "      <th>default</th>\n",
              "    </tr>\n",
              "  </thead>\n",
              "  <tbody>\n",
              "    <tr>\n",
              "      <th>0</th>\n",
              "      <td>0</td>\n",
              "      <td>0</td>\n",
              "      <td>0</td>\n",
              "    </tr>\n",
              "    <tr>\n",
              "      <th>1</th>\n",
              "      <td>0</td>\n",
              "      <td>0</td>\n",
              "      <td>0</td>\n",
              "    </tr>\n",
              "    <tr>\n",
              "      <th>2</th>\n",
              "      <td>0</td>\n",
              "      <td>1</td>\n",
              "      <td>0</td>\n",
              "    </tr>\n",
              "    <tr>\n",
              "      <th>5</th>\n",
              "      <td>0</td>\n",
              "      <td>0</td>\n",
              "      <td>0</td>\n",
              "    </tr>\n",
              "    <tr>\n",
              "      <th>6</th>\n",
              "      <td>0</td>\n",
              "      <td>1</td>\n",
              "      <td>0</td>\n",
              "    </tr>\n",
              "  </tbody>\n",
              "</table>\n",
              "</div>\n",
              "      <button class=\"colab-df-convert\" onclick=\"convertToInteractive('df-60a60cb9-2e83-4b69-8080-37b6fa54d07a')\"\n",
              "              title=\"Convert this dataframe to an interactive table.\"\n",
              "              style=\"display:none;\">\n",
              "        \n",
              "  <svg xmlns=\"http://www.w3.org/2000/svg\" height=\"24px\"viewBox=\"0 0 24 24\"\n",
              "       width=\"24px\">\n",
              "    <path d=\"M0 0h24v24H0V0z\" fill=\"none\"/>\n",
              "    <path d=\"M18.56 5.44l.94 2.06.94-2.06 2.06-.94-2.06-.94-.94-2.06-.94 2.06-2.06.94zm-11 1L8.5 8.5l.94-2.06 2.06-.94-2.06-.94L8.5 2.5l-.94 2.06-2.06.94zm10 10l.94 2.06.94-2.06 2.06-.94-2.06-.94-.94-2.06-.94 2.06-2.06.94z\"/><path d=\"M17.41 7.96l-1.37-1.37c-.4-.4-.92-.59-1.43-.59-.52 0-1.04.2-1.43.59L10.3 9.45l-7.72 7.72c-.78.78-.78 2.05 0 2.83L4 21.41c.39.39.9.59 1.41.59.51 0 1.02-.2 1.41-.59l7.78-7.78 2.81-2.81c.8-.78.8-2.07 0-2.86zM5.41 20L4 18.59l7.72-7.72 1.47 1.35L5.41 20z\"/>\n",
              "  </svg>\n",
              "      </button>\n",
              "      \n",
              "  <style>\n",
              "    .colab-df-container {\n",
              "      display:flex;\n",
              "      flex-wrap:wrap;\n",
              "      gap: 12px;\n",
              "    }\n",
              "\n",
              "    .colab-df-convert {\n",
              "      background-color: #E8F0FE;\n",
              "      border: none;\n",
              "      border-radius: 50%;\n",
              "      cursor: pointer;\n",
              "      display: none;\n",
              "      fill: #1967D2;\n",
              "      height: 32px;\n",
              "      padding: 0 0 0 0;\n",
              "      width: 32px;\n",
              "    }\n",
              "\n",
              "    .colab-df-convert:hover {\n",
              "      background-color: #E2EBFA;\n",
              "      box-shadow: 0px 1px 2px rgba(60, 64, 67, 0.3), 0px 1px 3px 1px rgba(60, 64, 67, 0.15);\n",
              "      fill: #174EA6;\n",
              "    }\n",
              "\n",
              "    [theme=dark] .colab-df-convert {\n",
              "      background-color: #3B4455;\n",
              "      fill: #D2E3FC;\n",
              "    }\n",
              "\n",
              "    [theme=dark] .colab-df-convert:hover {\n",
              "      background-color: #434B5C;\n",
              "      box-shadow: 0px 1px 3px 1px rgba(0, 0, 0, 0.15);\n",
              "      filter: drop-shadow(0px 1px 2px rgba(0, 0, 0, 0.3));\n",
              "      fill: #FFFFFF;\n",
              "    }\n",
              "  </style>\n",
              "\n",
              "      <script>\n",
              "        const buttonEl =\n",
              "          document.querySelector('#df-60a60cb9-2e83-4b69-8080-37b6fa54d07a button.colab-df-convert');\n",
              "        buttonEl.style.display =\n",
              "          google.colab.kernel.accessAllowed ? 'block' : 'none';\n",
              "\n",
              "        async function convertToInteractive(key) {\n",
              "          const element = document.querySelector('#df-60a60cb9-2e83-4b69-8080-37b6fa54d07a');\n",
              "          const dataTable =\n",
              "            await google.colab.kernel.invokeFunction('convertToInteractive',\n",
              "                                                     [key], {});\n",
              "          if (!dataTable) return;\n",
              "\n",
              "          const docLinkHtml = 'Like what you see? Visit the ' +\n",
              "            '<a target=\"_blank\" href=https://colab.research.google.com/notebooks/data_table.ipynb>data table notebook</a>'\n",
              "            + ' to learn more about interactive tables.';\n",
              "          element.innerHTML = '';\n",
              "          dataTable['output_type'] = 'display_data';\n",
              "          await google.colab.output.renderOutput(dataTable, element);\n",
              "          const docLink = document.createElement('div');\n",
              "          docLink.innerHTML = docLinkHtml;\n",
              "          element.appendChild(docLink);\n",
              "        }\n",
              "      </script>\n",
              "    </div>\n",
              "  </div>\n",
              "  "
            ]
          },
          "metadata": {},
          "execution_count": 124
        }
      ]
    },
    {
      "cell_type": "markdown",
      "source": [
        "Now that we have turn these columns in to binary. We might as well do the same for all the other categorical variabls. We will also change them into integers for good measure as well."
      ],
      "metadata": {
        "id": "tQ66iUzynRJ5"
      }
    },
    {
      "cell_type": "code",
      "source": [
        "# Gathering the different columns that are objects\n",
        "obj_cols = [col for col in df_2 if df_2[col].dtype == 'object']\n",
        "\n",
        "# Transforming these columns in to categorical variables\n",
        "for col in df_2.columns:\n",
        "  if col in obj_cols:\n",
        "    df_2[col] = df[col].astype('category')\n",
        "\n",
        "df_2.dtypes"
      ],
      "metadata": {
        "colab": {
          "base_uri": "https://localhost:8080/"
        },
        "id": "XCw8MRR7ngZC",
        "outputId": "0e2a53f1-2326-42e0-8810-1dd5660c59a6"
      },
      "execution_count": 125,
      "outputs": [
        {
          "output_type": "execute_result",
          "data": {
            "text/plain": [
              "age             int64\n",
              "job          category\n",
              "marital      category\n",
              "education    category\n",
              "default         int64\n",
              "balance         int64\n",
              "housing      category\n",
              "loan            int64\n",
              "day             int64\n",
              "month        category\n",
              "duration        int64\n",
              "campaign        int64\n",
              "y               int64\n",
              "dtype: object"
            ]
          },
          "metadata": {},
          "execution_count": 125
        }
      ]
    },
    {
      "cell_type": "code",
      "source": [
        "df_2.head()"
      ],
      "metadata": {
        "colab": {
          "base_uri": "https://localhost:8080/",
          "height": 206
        },
        "id": "BWPlLnSdpQxA",
        "outputId": "f4baf59c-b60e-481c-f35d-d58b7677f378"
      },
      "execution_count": 126,
      "outputs": [
        {
          "output_type": "execute_result",
          "data": {
            "text/plain": [
              "   age           job  marital  education  default  balance housing  loan  day  \\\n",
              "0   58    management  married   tertiary        0     2143     yes     0    5   \n",
              "1   44    technician   single  secondary        0       29     yes     0    5   \n",
              "2   33  entrepreneur  married  secondary        0        2     yes     1    5   \n",
              "5   35    management  married   tertiary        0      231     yes     0    5   \n",
              "6   28    management   single   tertiary        0      447     yes     1    5   \n",
              "\n",
              "  month  duration  campaign  y  \n",
              "0   may       261         1  0  \n",
              "1   may       151         1  0  \n",
              "2   may        76         1  0  \n",
              "5   may       139         1  0  \n",
              "6   may       217         1  0  "
            ],
            "text/html": [
              "\n",
              "  <div id=\"df-9ee5577c-70d8-4f4a-8c3f-3250e298bc5d\">\n",
              "    <div class=\"colab-df-container\">\n",
              "      <div>\n",
              "<style scoped>\n",
              "    .dataframe tbody tr th:only-of-type {\n",
              "        vertical-align: middle;\n",
              "    }\n",
              "\n",
              "    .dataframe tbody tr th {\n",
              "        vertical-align: top;\n",
              "    }\n",
              "\n",
              "    .dataframe thead th {\n",
              "        text-align: right;\n",
              "    }\n",
              "</style>\n",
              "<table border=\"1\" class=\"dataframe\">\n",
              "  <thead>\n",
              "    <tr style=\"text-align: right;\">\n",
              "      <th></th>\n",
              "      <th>age</th>\n",
              "      <th>job</th>\n",
              "      <th>marital</th>\n",
              "      <th>education</th>\n",
              "      <th>default</th>\n",
              "      <th>balance</th>\n",
              "      <th>housing</th>\n",
              "      <th>loan</th>\n",
              "      <th>day</th>\n",
              "      <th>month</th>\n",
              "      <th>duration</th>\n",
              "      <th>campaign</th>\n",
              "      <th>y</th>\n",
              "    </tr>\n",
              "  </thead>\n",
              "  <tbody>\n",
              "    <tr>\n",
              "      <th>0</th>\n",
              "      <td>58</td>\n",
              "      <td>management</td>\n",
              "      <td>married</td>\n",
              "      <td>tertiary</td>\n",
              "      <td>0</td>\n",
              "      <td>2143</td>\n",
              "      <td>yes</td>\n",
              "      <td>0</td>\n",
              "      <td>5</td>\n",
              "      <td>may</td>\n",
              "      <td>261</td>\n",
              "      <td>1</td>\n",
              "      <td>0</td>\n",
              "    </tr>\n",
              "    <tr>\n",
              "      <th>1</th>\n",
              "      <td>44</td>\n",
              "      <td>technician</td>\n",
              "      <td>single</td>\n",
              "      <td>secondary</td>\n",
              "      <td>0</td>\n",
              "      <td>29</td>\n",
              "      <td>yes</td>\n",
              "      <td>0</td>\n",
              "      <td>5</td>\n",
              "      <td>may</td>\n",
              "      <td>151</td>\n",
              "      <td>1</td>\n",
              "      <td>0</td>\n",
              "    </tr>\n",
              "    <tr>\n",
              "      <th>2</th>\n",
              "      <td>33</td>\n",
              "      <td>entrepreneur</td>\n",
              "      <td>married</td>\n",
              "      <td>secondary</td>\n",
              "      <td>0</td>\n",
              "      <td>2</td>\n",
              "      <td>yes</td>\n",
              "      <td>1</td>\n",
              "      <td>5</td>\n",
              "      <td>may</td>\n",
              "      <td>76</td>\n",
              "      <td>1</td>\n",
              "      <td>0</td>\n",
              "    </tr>\n",
              "    <tr>\n",
              "      <th>5</th>\n",
              "      <td>35</td>\n",
              "      <td>management</td>\n",
              "      <td>married</td>\n",
              "      <td>tertiary</td>\n",
              "      <td>0</td>\n",
              "      <td>231</td>\n",
              "      <td>yes</td>\n",
              "      <td>0</td>\n",
              "      <td>5</td>\n",
              "      <td>may</td>\n",
              "      <td>139</td>\n",
              "      <td>1</td>\n",
              "      <td>0</td>\n",
              "    </tr>\n",
              "    <tr>\n",
              "      <th>6</th>\n",
              "      <td>28</td>\n",
              "      <td>management</td>\n",
              "      <td>single</td>\n",
              "      <td>tertiary</td>\n",
              "      <td>0</td>\n",
              "      <td>447</td>\n",
              "      <td>yes</td>\n",
              "      <td>1</td>\n",
              "      <td>5</td>\n",
              "      <td>may</td>\n",
              "      <td>217</td>\n",
              "      <td>1</td>\n",
              "      <td>0</td>\n",
              "    </tr>\n",
              "  </tbody>\n",
              "</table>\n",
              "</div>\n",
              "      <button class=\"colab-df-convert\" onclick=\"convertToInteractive('df-9ee5577c-70d8-4f4a-8c3f-3250e298bc5d')\"\n",
              "              title=\"Convert this dataframe to an interactive table.\"\n",
              "              style=\"display:none;\">\n",
              "        \n",
              "  <svg xmlns=\"http://www.w3.org/2000/svg\" height=\"24px\"viewBox=\"0 0 24 24\"\n",
              "       width=\"24px\">\n",
              "    <path d=\"M0 0h24v24H0V0z\" fill=\"none\"/>\n",
              "    <path d=\"M18.56 5.44l.94 2.06.94-2.06 2.06-.94-2.06-.94-.94-2.06-.94 2.06-2.06.94zm-11 1L8.5 8.5l.94-2.06 2.06-.94-2.06-.94L8.5 2.5l-.94 2.06-2.06.94zm10 10l.94 2.06.94-2.06 2.06-.94-2.06-.94-.94-2.06-.94 2.06-2.06.94z\"/><path d=\"M17.41 7.96l-1.37-1.37c-.4-.4-.92-.59-1.43-.59-.52 0-1.04.2-1.43.59L10.3 9.45l-7.72 7.72c-.78.78-.78 2.05 0 2.83L4 21.41c.39.39.9.59 1.41.59.51 0 1.02-.2 1.41-.59l7.78-7.78 2.81-2.81c.8-.78.8-2.07 0-2.86zM5.41 20L4 18.59l7.72-7.72 1.47 1.35L5.41 20z\"/>\n",
              "  </svg>\n",
              "      </button>\n",
              "      \n",
              "  <style>\n",
              "    .colab-df-container {\n",
              "      display:flex;\n",
              "      flex-wrap:wrap;\n",
              "      gap: 12px;\n",
              "    }\n",
              "\n",
              "    .colab-df-convert {\n",
              "      background-color: #E8F0FE;\n",
              "      border: none;\n",
              "      border-radius: 50%;\n",
              "      cursor: pointer;\n",
              "      display: none;\n",
              "      fill: #1967D2;\n",
              "      height: 32px;\n",
              "      padding: 0 0 0 0;\n",
              "      width: 32px;\n",
              "    }\n",
              "\n",
              "    .colab-df-convert:hover {\n",
              "      background-color: #E2EBFA;\n",
              "      box-shadow: 0px 1px 2px rgba(60, 64, 67, 0.3), 0px 1px 3px 1px rgba(60, 64, 67, 0.15);\n",
              "      fill: #174EA6;\n",
              "    }\n",
              "\n",
              "    [theme=dark] .colab-df-convert {\n",
              "      background-color: #3B4455;\n",
              "      fill: #D2E3FC;\n",
              "    }\n",
              "\n",
              "    [theme=dark] .colab-df-convert:hover {\n",
              "      background-color: #434B5C;\n",
              "      box-shadow: 0px 1px 3px 1px rgba(0, 0, 0, 0.15);\n",
              "      filter: drop-shadow(0px 1px 2px rgba(0, 0, 0, 0.3));\n",
              "      fill: #FFFFFF;\n",
              "    }\n",
              "  </style>\n",
              "\n",
              "      <script>\n",
              "        const buttonEl =\n",
              "          document.querySelector('#df-9ee5577c-70d8-4f4a-8c3f-3250e298bc5d button.colab-df-convert');\n",
              "        buttonEl.style.display =\n",
              "          google.colab.kernel.accessAllowed ? 'block' : 'none';\n",
              "\n",
              "        async function convertToInteractive(key) {\n",
              "          const element = document.querySelector('#df-9ee5577c-70d8-4f4a-8c3f-3250e298bc5d');\n",
              "          const dataTable =\n",
              "            await google.colab.kernel.invokeFunction('convertToInteractive',\n",
              "                                                     [key], {});\n",
              "          if (!dataTable) return;\n",
              "\n",
              "          const docLinkHtml = 'Like what you see? Visit the ' +\n",
              "            '<a target=\"_blank\" href=https://colab.research.google.com/notebooks/data_table.ipynb>data table notebook</a>'\n",
              "            + ' to learn more about interactive tables.';\n",
              "          element.innerHTML = '';\n",
              "          dataTable['output_type'] = 'display_data';\n",
              "          await google.colab.output.renderOutput(dataTable, element);\n",
              "          const docLink = document.createElement('div');\n",
              "          docLink.innerHTML = docLinkHtml;\n",
              "          element.appendChild(docLink);\n",
              "        }\n",
              "      </script>\n",
              "    </div>\n",
              "  </div>\n",
              "  "
            ]
          },
          "metadata": {},
          "execution_count": 126
        }
      ]
    },
    {
      "cell_type": "markdown",
      "source": [
        "Now setting up a data pipeline to transform the data. Both the objects and the integers. Because I plan on doing a bit of feature selection down the line. I will set up a data pipline within a function that is aimed at preprocessing the data. This way if I performa forward of backward selection model it will be easier to edit through."
      ],
      "metadata": {
        "id": "P9ErqLucgSB_"
      }
    },
    {
      "cell_type": "code",
      "source": [
        "def transform_df(df):\n",
        "  \"\"\"This Function is set up to make it easy to transform the data if different\n",
        "   columns are missing\"\"\"\n",
        "  \n",
        "  # Gathering Dummies for the \n",
        "  df_t = pd.get_dummies(data=df, columns=[col for col in df if df[col].dtype == 'category'])\n",
        "  \n",
        "  # Changing the binary fields into categories to be used in the models later\n",
        "  df_t['y'] = df_t['y'].astype('category')\n",
        "  df_t['loan'] = df_t['loan'].astype('category')\n",
        "  df_t['default'] = df_t['default'].astype('category')\n",
        "\n",
        "  # Scaling all the integer data with the MinMaxScaler()\n",
        "  scaler = MinMaxScaler()\n",
        "  s_cols = [col for col in df_t if df_t[col].dtype == 'int64']\n",
        "  df_t[s_cols] = scaler.fit_transform(df_t[s_cols])\n",
        "\n",
        "  return df_t"
      ],
      "metadata": {
        "id": "FE-fvHacz8TW"
      },
      "execution_count": 127,
      "outputs": []
    },
    {
      "cell_type": "code",
      "source": [
        "# Displaying what the newly transformed data looks like\n",
        "df_3 = transform_df(df_2)\n",
        "display(df_3.head())\n",
        "display(df_3.dtypes)"
      ],
      "metadata": {
        "colab": {
          "base_uri": "https://localhost:8080/",
          "height": 930
        },
        "id": "QY1sdqQ018N2",
        "outputId": "c27a7b8f-665f-47b3-a1b6-965e62102236"
      },
      "execution_count": 128,
      "outputs": [
        {
          "output_type": "display_data",
          "data": {
            "text/plain": [
              "        age default   balance loan       day  duration  campaign  y  \\\n",
              "0  0.519481       0  0.092259    0  0.133333  0.053070       0.0  0   \n",
              "1  0.337662       0  0.073067    0  0.133333  0.030704       0.0  0   \n",
              "2  0.194805       0  0.072822    1  0.133333  0.015453       0.0  0   \n",
              "5  0.220779       0  0.074901    0  0.133333  0.028264       0.0  0   \n",
              "6  0.129870       0  0.076862    1  0.133333  0.044124       0.0  0   \n",
              "\n",
              "   job_admin.  job_blue-collar  ...  month_dec  month_feb  month_jan  \\\n",
              "0           0                0  ...          0          0          0   \n",
              "1           0                0  ...          0          0          0   \n",
              "2           0                0  ...          0          0          0   \n",
              "5           0                0  ...          0          0          0   \n",
              "6           0                0  ...          0          0          0   \n",
              "\n",
              "   month_jul  month_jun  month_mar  month_may  month_nov  month_oct  month_sep  \n",
              "0          0          0          0          1          0          0          0  \n",
              "1          0          0          0          1          0          0          0  \n",
              "2          0          0          0          1          0          0          0  \n",
              "5          0          0          0          1          0          0          0  \n",
              "6          0          0          0          1          0          0          0  \n",
              "\n",
              "[5 rows x 39 columns]"
            ],
            "text/html": [
              "\n",
              "  <div id=\"df-e058fad0-f950-4d63-902e-8a5fd4b59718\">\n",
              "    <div class=\"colab-df-container\">\n",
              "      <div>\n",
              "<style scoped>\n",
              "    .dataframe tbody tr th:only-of-type {\n",
              "        vertical-align: middle;\n",
              "    }\n",
              "\n",
              "    .dataframe tbody tr th {\n",
              "        vertical-align: top;\n",
              "    }\n",
              "\n",
              "    .dataframe thead th {\n",
              "        text-align: right;\n",
              "    }\n",
              "</style>\n",
              "<table border=\"1\" class=\"dataframe\">\n",
              "  <thead>\n",
              "    <tr style=\"text-align: right;\">\n",
              "      <th></th>\n",
              "      <th>age</th>\n",
              "      <th>default</th>\n",
              "      <th>balance</th>\n",
              "      <th>loan</th>\n",
              "      <th>day</th>\n",
              "      <th>duration</th>\n",
              "      <th>campaign</th>\n",
              "      <th>y</th>\n",
              "      <th>job_admin.</th>\n",
              "      <th>job_blue-collar</th>\n",
              "      <th>...</th>\n",
              "      <th>month_dec</th>\n",
              "      <th>month_feb</th>\n",
              "      <th>month_jan</th>\n",
              "      <th>month_jul</th>\n",
              "      <th>month_jun</th>\n",
              "      <th>month_mar</th>\n",
              "      <th>month_may</th>\n",
              "      <th>month_nov</th>\n",
              "      <th>month_oct</th>\n",
              "      <th>month_sep</th>\n",
              "    </tr>\n",
              "  </thead>\n",
              "  <tbody>\n",
              "    <tr>\n",
              "      <th>0</th>\n",
              "      <td>0.519481</td>\n",
              "      <td>0</td>\n",
              "      <td>0.092259</td>\n",
              "      <td>0</td>\n",
              "      <td>0.133333</td>\n",
              "      <td>0.053070</td>\n",
              "      <td>0.0</td>\n",
              "      <td>0</td>\n",
              "      <td>0</td>\n",
              "      <td>0</td>\n",
              "      <td>...</td>\n",
              "      <td>0</td>\n",
              "      <td>0</td>\n",
              "      <td>0</td>\n",
              "      <td>0</td>\n",
              "      <td>0</td>\n",
              "      <td>0</td>\n",
              "      <td>1</td>\n",
              "      <td>0</td>\n",
              "      <td>0</td>\n",
              "      <td>0</td>\n",
              "    </tr>\n",
              "    <tr>\n",
              "      <th>1</th>\n",
              "      <td>0.337662</td>\n",
              "      <td>0</td>\n",
              "      <td>0.073067</td>\n",
              "      <td>0</td>\n",
              "      <td>0.133333</td>\n",
              "      <td>0.030704</td>\n",
              "      <td>0.0</td>\n",
              "      <td>0</td>\n",
              "      <td>0</td>\n",
              "      <td>0</td>\n",
              "      <td>...</td>\n",
              "      <td>0</td>\n",
              "      <td>0</td>\n",
              "      <td>0</td>\n",
              "      <td>0</td>\n",
              "      <td>0</td>\n",
              "      <td>0</td>\n",
              "      <td>1</td>\n",
              "      <td>0</td>\n",
              "      <td>0</td>\n",
              "      <td>0</td>\n",
              "    </tr>\n",
              "    <tr>\n",
              "      <th>2</th>\n",
              "      <td>0.194805</td>\n",
              "      <td>0</td>\n",
              "      <td>0.072822</td>\n",
              "      <td>1</td>\n",
              "      <td>0.133333</td>\n",
              "      <td>0.015453</td>\n",
              "      <td>0.0</td>\n",
              "      <td>0</td>\n",
              "      <td>0</td>\n",
              "      <td>0</td>\n",
              "      <td>...</td>\n",
              "      <td>0</td>\n",
              "      <td>0</td>\n",
              "      <td>0</td>\n",
              "      <td>0</td>\n",
              "      <td>0</td>\n",
              "      <td>0</td>\n",
              "      <td>1</td>\n",
              "      <td>0</td>\n",
              "      <td>0</td>\n",
              "      <td>0</td>\n",
              "    </tr>\n",
              "    <tr>\n",
              "      <th>5</th>\n",
              "      <td>0.220779</td>\n",
              "      <td>0</td>\n",
              "      <td>0.074901</td>\n",
              "      <td>0</td>\n",
              "      <td>0.133333</td>\n",
              "      <td>0.028264</td>\n",
              "      <td>0.0</td>\n",
              "      <td>0</td>\n",
              "      <td>0</td>\n",
              "      <td>0</td>\n",
              "      <td>...</td>\n",
              "      <td>0</td>\n",
              "      <td>0</td>\n",
              "      <td>0</td>\n",
              "      <td>0</td>\n",
              "      <td>0</td>\n",
              "      <td>0</td>\n",
              "      <td>1</td>\n",
              "      <td>0</td>\n",
              "      <td>0</td>\n",
              "      <td>0</td>\n",
              "    </tr>\n",
              "    <tr>\n",
              "      <th>6</th>\n",
              "      <td>0.129870</td>\n",
              "      <td>0</td>\n",
              "      <td>0.076862</td>\n",
              "      <td>1</td>\n",
              "      <td>0.133333</td>\n",
              "      <td>0.044124</td>\n",
              "      <td>0.0</td>\n",
              "      <td>0</td>\n",
              "      <td>0</td>\n",
              "      <td>0</td>\n",
              "      <td>...</td>\n",
              "      <td>0</td>\n",
              "      <td>0</td>\n",
              "      <td>0</td>\n",
              "      <td>0</td>\n",
              "      <td>0</td>\n",
              "      <td>0</td>\n",
              "      <td>1</td>\n",
              "      <td>0</td>\n",
              "      <td>0</td>\n",
              "      <td>0</td>\n",
              "    </tr>\n",
              "  </tbody>\n",
              "</table>\n",
              "<p>5 rows × 39 columns</p>\n",
              "</div>\n",
              "      <button class=\"colab-df-convert\" onclick=\"convertToInteractive('df-e058fad0-f950-4d63-902e-8a5fd4b59718')\"\n",
              "              title=\"Convert this dataframe to an interactive table.\"\n",
              "              style=\"display:none;\">\n",
              "        \n",
              "  <svg xmlns=\"http://www.w3.org/2000/svg\" height=\"24px\"viewBox=\"0 0 24 24\"\n",
              "       width=\"24px\">\n",
              "    <path d=\"M0 0h24v24H0V0z\" fill=\"none\"/>\n",
              "    <path d=\"M18.56 5.44l.94 2.06.94-2.06 2.06-.94-2.06-.94-.94-2.06-.94 2.06-2.06.94zm-11 1L8.5 8.5l.94-2.06 2.06-.94-2.06-.94L8.5 2.5l-.94 2.06-2.06.94zm10 10l.94 2.06.94-2.06 2.06-.94-2.06-.94-.94-2.06-.94 2.06-2.06.94z\"/><path d=\"M17.41 7.96l-1.37-1.37c-.4-.4-.92-.59-1.43-.59-.52 0-1.04.2-1.43.59L10.3 9.45l-7.72 7.72c-.78.78-.78 2.05 0 2.83L4 21.41c.39.39.9.59 1.41.59.51 0 1.02-.2 1.41-.59l7.78-7.78 2.81-2.81c.8-.78.8-2.07 0-2.86zM5.41 20L4 18.59l7.72-7.72 1.47 1.35L5.41 20z\"/>\n",
              "  </svg>\n",
              "      </button>\n",
              "      \n",
              "  <style>\n",
              "    .colab-df-container {\n",
              "      display:flex;\n",
              "      flex-wrap:wrap;\n",
              "      gap: 12px;\n",
              "    }\n",
              "\n",
              "    .colab-df-convert {\n",
              "      background-color: #E8F0FE;\n",
              "      border: none;\n",
              "      border-radius: 50%;\n",
              "      cursor: pointer;\n",
              "      display: none;\n",
              "      fill: #1967D2;\n",
              "      height: 32px;\n",
              "      padding: 0 0 0 0;\n",
              "      width: 32px;\n",
              "    }\n",
              "\n",
              "    .colab-df-convert:hover {\n",
              "      background-color: #E2EBFA;\n",
              "      box-shadow: 0px 1px 2px rgba(60, 64, 67, 0.3), 0px 1px 3px 1px rgba(60, 64, 67, 0.15);\n",
              "      fill: #174EA6;\n",
              "    }\n",
              "\n",
              "    [theme=dark] .colab-df-convert {\n",
              "      background-color: #3B4455;\n",
              "      fill: #D2E3FC;\n",
              "    }\n",
              "\n",
              "    [theme=dark] .colab-df-convert:hover {\n",
              "      background-color: #434B5C;\n",
              "      box-shadow: 0px 1px 3px 1px rgba(0, 0, 0, 0.15);\n",
              "      filter: drop-shadow(0px 1px 2px rgba(0, 0, 0, 0.3));\n",
              "      fill: #FFFFFF;\n",
              "    }\n",
              "  </style>\n",
              "\n",
              "      <script>\n",
              "        const buttonEl =\n",
              "          document.querySelector('#df-e058fad0-f950-4d63-902e-8a5fd4b59718 button.colab-df-convert');\n",
              "        buttonEl.style.display =\n",
              "          google.colab.kernel.accessAllowed ? 'block' : 'none';\n",
              "\n",
              "        async function convertToInteractive(key) {\n",
              "          const element = document.querySelector('#df-e058fad0-f950-4d63-902e-8a5fd4b59718');\n",
              "          const dataTable =\n",
              "            await google.colab.kernel.invokeFunction('convertToInteractive',\n",
              "                                                     [key], {});\n",
              "          if (!dataTable) return;\n",
              "\n",
              "          const docLinkHtml = 'Like what you see? Visit the ' +\n",
              "            '<a target=\"_blank\" href=https://colab.research.google.com/notebooks/data_table.ipynb>data table notebook</a>'\n",
              "            + ' to learn more about interactive tables.';\n",
              "          element.innerHTML = '';\n",
              "          dataTable['output_type'] = 'display_data';\n",
              "          await google.colab.output.renderOutput(dataTable, element);\n",
              "          const docLink = document.createElement('div');\n",
              "          docLink.innerHTML = docLinkHtml;\n",
              "          element.appendChild(docLink);\n",
              "        }\n",
              "      </script>\n",
              "    </div>\n",
              "  </div>\n",
              "  "
            ]
          },
          "metadata": {}
        },
        {
          "output_type": "display_data",
          "data": {
            "text/plain": [
              "age                     float64\n",
              "default                category\n",
              "balance                 float64\n",
              "loan                   category\n",
              "day                     float64\n",
              "duration                float64\n",
              "campaign                float64\n",
              "y                      category\n",
              "job_admin.                uint8\n",
              "job_blue-collar           uint8\n",
              "job_entrepreneur          uint8\n",
              "job_housemaid             uint8\n",
              "job_management            uint8\n",
              "job_retired               uint8\n",
              "job_self-employed         uint8\n",
              "job_services              uint8\n",
              "job_student               uint8\n",
              "job_technician            uint8\n",
              "job_unemployed            uint8\n",
              "marital_divorced          uint8\n",
              "marital_married           uint8\n",
              "marital_single            uint8\n",
              "education_primary         uint8\n",
              "education_secondary       uint8\n",
              "education_tertiary        uint8\n",
              "housing_no                uint8\n",
              "housing_yes               uint8\n",
              "month_apr                 uint8\n",
              "month_aug                 uint8\n",
              "month_dec                 uint8\n",
              "month_feb                 uint8\n",
              "month_jan                 uint8\n",
              "month_jul                 uint8\n",
              "month_jun                 uint8\n",
              "month_mar                 uint8\n",
              "month_may                 uint8\n",
              "month_nov                 uint8\n",
              "month_oct                 uint8\n",
              "month_sep                 uint8\n",
              "dtype: object"
            ]
          },
          "metadata": {}
        }
      ]
    },
    {
      "cell_type": "markdown",
      "source": [
        "Now that we have a transforming method it is time to start looking at if we have\n",
        "equally weight output labels. We do not. So therefore when we make the train and test sets this will have to be dealt with. The next steps are going to be aimed at evening out this training data set.  It will be interesting to see this get mixed in to the different model comparisons. "
      ],
      "metadata": {
        "id": "xwGGyMnD7SM0"
      }
    },
    {
      "cell_type": "code",
      "source": [
        "# Showing the imbalance with the classification variable\n",
        "display(df_3['y'].value_counts())"
      ],
      "metadata": {
        "colab": {
          "base_uri": "https://localhost:8080/",
          "height": 69
        },
        "id": "os5OrZRW8c5X",
        "outputId": "65d6f6bb-6be6-4984-8a78-eb0ca9b0a7d6"
      },
      "execution_count": 129,
      "outputs": [
        {
          "output_type": "display_data",
          "data": {
            "text/plain": [
              "0    32059\n",
              "1     3222\n",
              "Name: y, dtype: int64"
            ]
          },
          "metadata": {}
        }
      ]
    },
    {
      "cell_type": "code",
      "source": [
        "def train_data_w_resample(df):\n",
        "  \"\"\"This function is aimed at creating test train that has balanced classes\"\"\"\n",
        "  df_maj = df[df['y'] == 0]\n",
        "  df_min = df[df['y'] == 1]\n",
        "\n",
        "  # Finding the number of samples that we need for a 50/50 Split\n",
        "  sample_num = len(df_maj)\n",
        "\n",
        "  df_min_upsample = resample(df_min, replace=True, n_samples=sample_num, \n",
        "                             random_state=42)\n",
        "\n",
        "  df_unsampled = pd.concat([df_maj, df_min_upsample])\n",
        "\n",
        "  return df_unsampled"
      ],
      "metadata": {
        "id": "Bj2wZAJxIzbl"
      },
      "execution_count": 130,
      "outputs": []
    },
    {
      "cell_type": "code",
      "source": [
        "def train_data(df):\n",
        "  \"\"\"This Function is set up to help make it easier to pass\n",
        "  different datasets through for training. It also uses \n",
        "  resampling\"\"\"\n",
        "\n",
        "  # Dividing up x and y\n",
        "  X_all = df.loc[:, df.columns != 'y']\n",
        "  Y_all = df.loc[:, df.columns == 'y']\n",
        "\n",
        "  # creating a train and test set\n",
        "  x_train, x_test, y_train, y_test = train_test_split(\n",
        "      X_all, Y_all, test_size=0.2, random_state=42, stratify=Y_all, shuffle=True)\n",
        "  \n",
        "  # Back up line incase I need to turn y into an array\n",
        "  # X_all, Y_all.values.ravel(), test_size=0.2, random_state=42, stratify=Y_all)\n",
        "  \n",
        "  return x_train, x_test, y_train, y_test"
      ],
      "metadata": {
        "id": "l4JrZUao7pca"
      },
      "execution_count": 131,
      "outputs": []
    },
    {
      "cell_type": "code",
      "source": [
        "# Showing a test of training df_3\n",
        "x_train_1, x_test_1, y_train_1, y_test_1 = train_data(df_3)\n",
        "y_train_1.value_counts()"
      ],
      "metadata": {
        "colab": {
          "base_uri": "https://localhost:8080/"
        },
        "id": "SHV0ByUAK2VX",
        "outputId": "26ab92ba-4d17-4ee0-8571-215d8edae14f"
      },
      "execution_count": 132,
      "outputs": [
        {
          "output_type": "execute_result",
          "data": {
            "text/plain": [
              "y\n",
              "0    25646\n",
              "1     2578\n",
              "dtype: int64"
            ]
          },
          "metadata": {},
          "execution_count": 132
        }
      ]
    },
    {
      "cell_type": "code",
      "source": [
        "# Sending off the x and y training samples to get resampled\n",
        "df_train = pd.concat([x_train_1.reset_index(drop=True), y_train_1.reset_index(drop=True)], axis=1)\n",
        "train_resampled = train_data_w_resample(df_train)\n",
        "\n",
        "# Splitting the data back up in to the test and training sample for\n",
        "# The models to be used later\n",
        "x_train_re = train_resampled.loc[:, train_resampled.columns != 'y']\n",
        "y_train_re = train_resampled.loc[:, train_resampled.columns == 'y']"
      ],
      "metadata": {
        "id": "KPJ6Bwz3LJG9"
      },
      "execution_count": 133,
      "outputs": []
    },
    {
      "cell_type": "code",
      "source": [
        "# Showing how the data has now been resampled to create equal outputs\n",
        "y_train_re.value_counts()"
      ],
      "metadata": {
        "colab": {
          "base_uri": "https://localhost:8080/"
        },
        "id": "qjzW6_yy-rfF",
        "outputId": "fba2d49b-da31-4321-cd0a-110e1951fd0b"
      },
      "execution_count": 134,
      "outputs": [
        {
          "output_type": "execute_result",
          "data": {
            "text/plain": [
              "y\n",
              "0    25646\n",
              "1    25646\n",
              "dtype: int64"
            ]
          },
          "metadata": {},
          "execution_count": 134
        }
      ]
    },
    {
      "cell_type": "markdown",
      "source": [
        "## Feature Extraction to reduce the dimensionality of the training data set\n",
        "Make sure to include some sort of feature analysis."
      ],
      "metadata": {
        "id": "S8M2tHHuDquz"
      }
    },
    {
      "cell_type": "code",
      "source": [
        ""
      ],
      "metadata": {
        "id": "hFrxMm80H8KY"
      },
      "execution_count": null,
      "outputs": []
    },
    {
      "cell_type": "markdown",
      "metadata": {
        "id": "N5nfbw5lZER9"
      },
      "source": [
        "# Model Comparison"
      ]
    },
    {
      "cell_type": "markdown",
      "metadata": {
        "id": "g1vHI7JFbwvk"
      },
      "source": [
        "## This is where I will implement and compare the performance of at least three different classification algorithms to determine which model best fits the training and test data collected. \n",
        "- A description of the performance of each model (using an evaluation criteria such as classification accurcy) is required for this section as well as an overall decision as to which model is the best choiuce for the problem domain\n",
        "-NOTE: the preceptron is not allowed to be one of the models you compare for this projec, as there are better algorithms available to you with similar functionality"
      ]
    },
    {
      "cell_type": "markdown",
      "source": [
        "## Model 1: Logistic Regression"
      ],
      "metadata": {
        "id": "C5xfy0jIgV-Y"
      }
    },
    {
      "cell_type": "code",
      "execution_count": 135,
      "metadata": {
        "id": "NsXtnKrAZGDQ",
        "colab": {
          "base_uri": "https://localhost:8080/",
          "height": 0
        },
        "outputId": "d3f18110-67f2-49b5-a991-f3365bc25363"
      },
      "outputs": [
        {
          "output_type": "display_data",
          "data": {
            "text/plain": [
              "'Training score:'"
            ],
            "application/vnd.google.colaboratory.intrinsic+json": {
              "type": "string"
            }
          },
          "metadata": {}
        },
        {
          "output_type": "display_data",
          "data": {
            "text/plain": [
              "83.07"
            ]
          },
          "metadata": {}
        },
        {
          "output_type": "display_data",
          "data": {
            "text/plain": [
              "'Testing score:'"
            ],
            "application/vnd.google.colaboratory.intrinsic+json": {
              "type": "string"
            }
          },
          "metadata": {}
        },
        {
          "output_type": "display_data",
          "data": {
            "text/plain": [
              "83.73"
            ]
          },
          "metadata": {}
        }
      ],
      "source": [
        "# Model Code 1: Logistic Regression\n",
        "logistic_eval = Pipeline(steps=[('classifier', LogisticRegression(solver='newton-cg', multi_class='multinomial'))])\n",
        "logistic_eval.fit(x_train_re, y_train_re.values.ravel())\n",
        "\n",
        "# Printing the accuracy of the test\n",
        "display(\"Training score:\", round(logistic_eval.score(x_train_re, y_train_re)*100,2))\n",
        "display(\"Testing score:\", round(logistic_eval.score(x_test_1, y_test_1)*100,2))"
      ]
    },
    {
      "cell_type": "code",
      "source": [
        "#  Creating Predictions for the logistic regression\n",
        "y_logistic_pred = logistic_eval.predict(x_test_1)\n",
        "\n",
        "# Creating a confusion matrix to look at different Scores\n",
        "conf_matrix_log = confusion_matrix(y_test_1, y_logistic_pred)\n",
        "\n",
        "# Displaying the Confusion Matrix\n",
        "log_labels = ['no','yes']\n",
        "ConfusionMatrixDisplay(conf_matrix_log, display_labels=log_labels).plot()\n",
        "plt.show()"
      ],
      "metadata": {
        "colab": {
          "base_uri": "https://localhost:8080/",
          "height": 0
        },
        "id": "VQxXE7xranni",
        "outputId": "097b9a6d-0d29-4acc-935b-492ae2183e37"
      },
      "execution_count": 136,
      "outputs": [
        {
          "output_type": "display_data",
          "data": {
            "text/plain": [
              "<Figure size 432x288 with 2 Axes>"
            ],
            "image/png": "[encoded data removed]"
          },
          "metadata": {
            "needs_background": "light"
          }
        }
      ]
    },
    {
      "cell_type": "markdown",
      "source": [
        "## Model 2: K-Nearest Neighbour\n"
      ],
      "metadata": {
        "id": "rY2lASZCgQeG"
      }
    },
    {
      "cell_type": "code",
      "source": [
        "# Model Code 2: K-Nearest Neighbour\n",
        "knn_classifier = KNeighborsClassifier(n_neighbors=2)\n",
        "knn_classifier.fit(x_train_re, y_train_re.values.ravel())\n",
        "\n",
        "# Printing the accuracy of the test\n",
        "display(\"Training score:\", round(knn_classifier.score(x_train_re, y_train_re)*100,2))\n",
        "display(\"Testing score:\", round(knn_classifier.score(x_test_1, y_test_1)*100,2))"
      ],
      "metadata": {
        "colab": {
          "base_uri": "https://localhost:8080/",
          "height": 88
        },
        "id": "wIfb7IT863M3",
        "outputId": "630030db-9030-4a14-a182-2dc06121b8b6"
      },
      "execution_count": 137,
      "outputs": [
        {
          "output_type": "display_data",
          "data": {
            "text/plain": [
              "'Training score:'"
            ],
            "application/vnd.google.colaboratory.intrinsic+json": {
              "type": "string"
            }
          },
          "metadata": {}
        },
        {
          "output_type": "display_data",
          "data": {
            "text/plain": [
              "100.0"
            ]
          },
          "metadata": {}
        },
        {
          "output_type": "display_data",
          "data": {
            "text/plain": [
              "'Testing score:'"
            ],
            "application/vnd.google.colaboratory.intrinsic+json": {
              "type": "string"
            }
          },
          "metadata": {}
        },
        {
          "output_type": "display_data",
          "data": {
            "text/plain": [
              "89.09"
            ]
          },
          "metadata": {}
        }
      ]
    },
    {
      "cell_type": "code",
      "source": [
        "#  Creating Predictions for the logistic regression\n",
        "y_knn_pred = knn_classifier.predict(x_test_1)\n",
        "\n",
        "# Creating a confusion matrix to look at different Scores\n",
        "conf_matrix_knn = confusion_matrix(y_test_1, y_knn_pred)\n",
        "\n",
        "# Displaying the Confusion Matrix\n",
        "log_labels = ['no','yes']\n",
        "ConfusionMatrixDisplay(conf_matrix_knn, display_labels=log_labels).plot()\n",
        "plt.show()"
      ],
      "metadata": {
        "colab": {
          "base_uri": "https://localhost:8080/",
          "height": 279
        },
        "id": "SrEWQGrdfx2Q",
        "outputId": "3e4dd336-832c-484d-af4f-ee5965e526ce"
      },
      "execution_count": 138,
      "outputs": [
        {
          "output_type": "display_data",
          "data": {
            "text/plain": [
              "<Figure size 432x288 with 2 Axes>"
            ],
            "image/png": "[encoded data removed]"
          },
          "metadata": {
            "needs_background": "light"
          }
        }
      ]
    },
    {
      "cell_type": "markdown",
      "source": [
        "## Model 3: Decision Tree"
      ],
      "metadata": {
        "id": "oKYj8s_Qg_Xd"
      }
    },
    {
      "cell_type": "code",
      "source": [
        "# Model Code 3: Decision Tree\n",
        "tree_model = DecisionTreeClassifier(criterion='gini', max_depth=6, random_state=42)\n",
        "tree_model.fit(x_train_re, y_train_re)\n",
        "\n",
        "# Printing the accuracy of the test\n",
        "display(\"Training score:\", round(tree_model.score(x_train_re, y_train_re)*100,2))\n",
        "display(\"Testing score:\", round(tree_model.score(x_test_1, y_test_1)*100,2))"
      ],
      "metadata": {
        "colab": {
          "base_uri": "https://localhost:8080/",
          "height": 88
        },
        "id": "GuNtaN4R67GW",
        "outputId": "991aed19-daed-4daa-a6d6-3cc5dc8a2e13"
      },
      "execution_count": 139,
      "outputs": [
        {
          "output_type": "display_data",
          "data": {
            "text/plain": [
              "'Training score:'"
            ],
            "application/vnd.google.colaboratory.intrinsic+json": {
              "type": "string"
            }
          },
          "metadata": {}
        },
        {
          "output_type": "display_data",
          "data": {
            "text/plain": [
              "84.15"
            ]
          },
          "metadata": {}
        },
        {
          "output_type": "display_data",
          "data": {
            "text/plain": [
              "'Testing score:'"
            ],
            "application/vnd.google.colaboratory.intrinsic+json": {
              "type": "string"
            }
          },
          "metadata": {}
        },
        {
          "output_type": "display_data",
          "data": {
            "text/plain": [
              "80.43"
            ]
          },
          "metadata": {}
        }
      ]
    },
    {
      "cell_type": "code",
      "source": [
        "#  Creating Predictions for the logistic regression\n",
        "y_tree_pred = tree_model.predict(x_test_1)\n",
        "\n",
        "# Creating a confusion matrix to look at different Scores\n",
        "conf_matrix_tree = confusion_matrix(y_test_1, y_tree_pred)\n",
        "\n",
        "# Displaying the Confusion Matrix\n",
        "log_labels = ['no','yes']\n",
        "ConfusionMatrixDisplay(conf_matrix_tree, display_labels=log_labels).plot()\n",
        "plt.show()"
      ],
      "metadata": {
        "colab": {
          "base_uri": "https://localhost:8080/",
          "height": 279
        },
        "id": "qRWAFtstiobG",
        "outputId": "6401c6c4-566b-4b35-a9b5-f42873f0f28f"
      },
      "execution_count": 140,
      "outputs": [
        {
          "output_type": "display_data",
          "data": {
            "text/plain": [
              "<Figure size 432x288 with 2 Axes>"
            ],
            "image/png": "[encoded data removed]"
          },
          "metadata": {
            "needs_background": "light"
          }
        }
      ]
    },
    {
      "cell_type": "code",
      "source": [
        "tree.plot_tree(tree_model)\n",
        "plt.tight_layout()\n",
        "plt.show()"
      ],
      "metadata": {
        "colab": {
          "base_uri": "https://localhost:8080/",
          "height": 297
        },
        "id": "PXoYEQZ7mSAL",
        "outputId": "fde68c76-9327-4df3-906b-3ad4a81b8b7c"
      },
      "execution_count": 141,
      "outputs": [
        {
          "output_type": "display_data",
          "data": {
            "text/plain": [
              "<Figure size 432x288 with 1 Axes>"
            ],
            "image/png": "[encoded data removed]"
          },
          "metadata": {
            "needs_background": "light"
          }
        }
      ]
    },
    {
      "cell_type": "markdown",
      "metadata": {
        "id": "53oILY9gZIlN"
      },
      "source": [
        "# Experiment Summary\n"
      ]
    },
    {
      "cell_type": "markdown",
      "metadata": {
        "id": "NsG4c9F5cbfj"
      },
      "source": [
        "## This is where the results are sumarized for the experiment. \n",
        "- How did I have to collect data? How was the data preprocessed?\n",
        "- What models where compared?\n",
        "- Which Model performed the best\n",
        "- Was I able to model the data accurately in the way I was hoping when I started the project?\n",
        "- What did I learn during the process\n",
        "\n",
        "During the process I learned that it is hard to choose data sets randomly. At first I also learned that it is interesting completing the preprocessing of data and trying to make training and test sets. By setting up functions I was able to do a bit of feature selection that really helped out. \n",
        "\n",
        "Getting the K-folds cross validation was interesting for setting up the different models as well. "
      ]
    },
    {
      "cell_type": "code",
      "execution_count": null,
      "metadata": {
        "id": "tI4t_1OMZLvt"
      },
      "outputs": [],
      "source": [
        "# Experiment Summary Code"
      ]
    }
  ],
  "metadata": {
    "colab": {
      "collapsed_sections": [
        "UJ1uIE8wY4B0",
        "C5xfy0jIgV-Y"
      ],
      "name": "Project_1_Duncan_Ferguson.ipynb",
      "provenance": [],
      "authorship_tag": "ABX9TyPT+ll9udBhefsqfIVU2PlE",
      "include_colab_link": true
    },
    "kernelspec": {
      "display_name": "Python 3",
      "name": "python3"
    },
    "language_info": {
      "name": "python"
    }
  },
  "nbformat": 4,
  "nbformat_minor": 0
}