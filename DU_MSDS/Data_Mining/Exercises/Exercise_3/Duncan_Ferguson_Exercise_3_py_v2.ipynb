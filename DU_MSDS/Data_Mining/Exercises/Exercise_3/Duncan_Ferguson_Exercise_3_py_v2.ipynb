{
 "cells": [
  {
   "cell_type": "markdown",
   "metadata": {
    "collapsed": true,
    "pycharm": {
     "name": "#%% md\n"
    }
   },
   "source": [
    "Student: Duncan Ferguson <br>\n",
    "Student Id: 871641260 <br>\n",
    "Class: Comp 4431-1 <br>\n",
    "Assignment: Excercise 2 <br>\n",
    "Date: 9/24/2021 <br>\n",
    "Group: Name: Broken Toe <br>\n",
    "Group Members: Emma Bright, Mike Santoro <br>"
   ]
  },
  {
   "cell_type": "code",
   "execution_count": 1,
   "outputs": [],
   "source": [
    "import numpy as np\n",
    "import pandas as pd\n",
    "import seaborn as sns\n",
    "import matplotlib.pyplot as plt"
   ],
   "metadata": {
    "collapsed": false,
    "pycharm": {
     "name": "#%%\n"
    }
   }
  },
  {
   "cell_type": "code",
   "execution_count": 2,
   "outputs": [],
   "source": [
    "# Takes inDate year.date.month\n",
    "def getMonth(inDate):\n",
    "    return(int(inDate[5:7]))\n",
    "\n",
    "def getLocationIndex(inLoc):\n",
    "    count = 0\n",
    "    while (locations[count] != inLoc) and (count < len(locations)-1):\n",
    "        count += 1\n",
    "    return(count)\n",
    "\n",
    "def getCatIndex(inCat):\n",
    "    count = 0\n",
    "    while (itemCategories[count] != inCat) and (count < len(itemCategories)-1):\n",
    "        count += 1\n",
    "    return(count)\n"
   ],
   "metadata": {
    "collapsed": false,
    "pycharm": {
     "name": "#%%\n"
    }
   }
  },
  {
   "cell_type": "code",
   "execution_count": 3,
   "outputs": [
    {
     "data": {
      "text/plain": "9"
     },
     "execution_count": 3,
     "metadata": {},
     "output_type": "execute_result"
    }
   ],
   "source": [
    "columns = [\"transactionId\",\"number items purchased\", \"total price of those items\", \"date\", \"store\",\"category\"]\n",
    "\n",
    "\n",
    "locations = ['SouthGlenn','Tamarac','HighlandsRanch','ColoradoBlvd','WashingtonPark','CherryCreek','GovernorsRanch',\n",
    "             'UnionStation','CastleRock']\n",
    "numLocations = len(locations)\n",
    "numLocations"
   ],
   "metadata": {
    "collapsed": false,
    "pycharm": {
     "name": "#%%\n"
    }
   }
  },
  {
   "cell_type": "code",
   "execution_count": 4,
   "outputs": [
    {
     "data": {
      "text/plain": "10"
     },
     "execution_count": 4,
     "metadata": {},
     "output_type": "execute_result"
    }
   ],
   "source": [
    "itemCategories = ['produce','meat','bakery','freezer','dairy','deli','snack','softdrinks','beer','household']\n",
    "numItemCategories = len(itemCategories)\n",
    "numItemCategories\n"
   ],
   "metadata": {
    "collapsed": false,
    "pycharm": {
     "name": "#%%\n"
    }
   }
  },
  {
   "cell_type": "code",
   "execution_count": 5,
   "outputs": [
    {
     "data": {
      "text/plain": "   transactionId  number items purchased  total price of those items  \\\n0              0                       1                        2.35   \n1              1                      10                       59.24   \n2              1                       7                       10.02   \n3              1                      10                       32.00   \n4              1                       1                        2.77   \n\n         date        store   category  \n0  2019.12.13  CherryCreek  household  \n1  2019.02.13   SouthGlenn      snack  \n2  2019.02.13   SouthGlenn       deli  \n3  2019.02.13   SouthGlenn     bakery  \n4  2019.02.13   SouthGlenn       meat  ",
      "text/html": "<div>\n<style scoped>\n    .dataframe tbody tr th:only-of-type {\n        vertical-align: middle;\n    }\n\n    .dataframe tbody tr th {\n        vertical-align: top;\n    }\n\n    .dataframe thead th {\n        text-align: right;\n    }\n</style>\n<table border=\"1\" class=\"dataframe\">\n  <thead>\n    <tr style=\"text-align: right;\">\n      <th></th>\n      <th>transactionId</th>\n      <th>number items purchased</th>\n      <th>total price of those items</th>\n      <th>date</th>\n      <th>store</th>\n      <th>category</th>\n    </tr>\n  </thead>\n  <tbody>\n    <tr>\n      <th>0</th>\n      <td>0</td>\n      <td>1</td>\n      <td>2.35</td>\n      <td>2019.12.13</td>\n      <td>CherryCreek</td>\n      <td>household</td>\n    </tr>\n    <tr>\n      <th>1</th>\n      <td>1</td>\n      <td>10</td>\n      <td>59.24</td>\n      <td>2019.02.13</td>\n      <td>SouthGlenn</td>\n      <td>snack</td>\n    </tr>\n    <tr>\n      <th>2</th>\n      <td>1</td>\n      <td>7</td>\n      <td>10.02</td>\n      <td>2019.02.13</td>\n      <td>SouthGlenn</td>\n      <td>deli</td>\n    </tr>\n    <tr>\n      <th>3</th>\n      <td>1</td>\n      <td>10</td>\n      <td>32.00</td>\n      <td>2019.02.13</td>\n      <td>SouthGlenn</td>\n      <td>bakery</td>\n    </tr>\n    <tr>\n      <th>4</th>\n      <td>1</td>\n      <td>1</td>\n      <td>2.77</td>\n      <td>2019.02.13</td>\n      <td>SouthGlenn</td>\n      <td>meat</td>\n    </tr>\n  </tbody>\n</table>\n</div>"
     },
     "execution_count": 5,
     "metadata": {},
     "output_type": "execute_result"
    }
   ],
   "source": [
    "df = pd.read_csv('ds_ex3_csv.csv', names = columns)\n",
    "df.head()\n"
   ],
   "metadata": {
    "collapsed": false,
    "pycharm": {
     "name": "#%%\n"
    }
   }
  },
  {
   "cell_type": "code",
   "execution_count": 6,
   "outputs": [
    {
     "data": {
      "text/plain": "   transactionId  number items purchased  total price of those items  \\\n0              0                       1                        2.35   \n1              1                      10                       59.24   \n2              1                       7                       10.02   \n3              1                      10                       32.00   \n4              1                       1                        2.77   \n\n         date        store   category  month  locationIndex  catIndex  \n0  2019.12.13  CherryCreek  household     12              5         9  \n1  2019.02.13   SouthGlenn      snack      2              0         6  \n2  2019.02.13   SouthGlenn       deli      2              0         5  \n3  2019.02.13   SouthGlenn     bakery      2              0         2  \n4  2019.02.13   SouthGlenn       meat      2              0         1  ",
      "text/html": "<div>\n<style scoped>\n    .dataframe tbody tr th:only-of-type {\n        vertical-align: middle;\n    }\n\n    .dataframe tbody tr th {\n        vertical-align: top;\n    }\n\n    .dataframe thead th {\n        text-align: right;\n    }\n</style>\n<table border=\"1\" class=\"dataframe\">\n  <thead>\n    <tr style=\"text-align: right;\">\n      <th></th>\n      <th>transactionId</th>\n      <th>number items purchased</th>\n      <th>total price of those items</th>\n      <th>date</th>\n      <th>store</th>\n      <th>category</th>\n      <th>month</th>\n      <th>locationIndex</th>\n      <th>catIndex</th>\n    </tr>\n  </thead>\n  <tbody>\n    <tr>\n      <th>0</th>\n      <td>0</td>\n      <td>1</td>\n      <td>2.35</td>\n      <td>2019.12.13</td>\n      <td>CherryCreek</td>\n      <td>household</td>\n      <td>12</td>\n      <td>5</td>\n      <td>9</td>\n    </tr>\n    <tr>\n      <th>1</th>\n      <td>1</td>\n      <td>10</td>\n      <td>59.24</td>\n      <td>2019.02.13</td>\n      <td>SouthGlenn</td>\n      <td>snack</td>\n      <td>2</td>\n      <td>0</td>\n      <td>6</td>\n    </tr>\n    <tr>\n      <th>2</th>\n      <td>1</td>\n      <td>7</td>\n      <td>10.02</td>\n      <td>2019.02.13</td>\n      <td>SouthGlenn</td>\n      <td>deli</td>\n      <td>2</td>\n      <td>0</td>\n      <td>5</td>\n    </tr>\n    <tr>\n      <th>3</th>\n      <td>1</td>\n      <td>10</td>\n      <td>32.00</td>\n      <td>2019.02.13</td>\n      <td>SouthGlenn</td>\n      <td>bakery</td>\n      <td>2</td>\n      <td>0</td>\n      <td>2</td>\n    </tr>\n    <tr>\n      <th>4</th>\n      <td>1</td>\n      <td>1</td>\n      <td>2.77</td>\n      <td>2019.02.13</td>\n      <td>SouthGlenn</td>\n      <td>meat</td>\n      <td>2</td>\n      <td>0</td>\n      <td>1</td>\n    </tr>\n  </tbody>\n</table>\n</div>"
     },
     "execution_count": 6,
     "metadata": {},
     "output_type": "execute_result"
    }
   ],
   "source": [
    "df['month']=df.apply(lambda row: getMonth(row['date']),axis=1)\n",
    "df['locationIndex']=df.apply(lambda row: getLocationIndex(row['store']),axis=1)\n",
    "df['catIndex']=df.apply(lambda row: getCatIndex(row['category']),axis=1)\n",
    "\n",
    "df.head()\n"
   ],
   "metadata": {
    "collapsed": false,
    "pycharm": {
     "name": "#%%\n"
    }
   }
  },
  {
   "cell_type": "code",
   "execution_count": 7,
   "outputs": [],
   "source": [
    "# Creating a 3d numpy array\n",
    "# where numLocations and numItemCategories are integers\n",
    "cube_item = np.zeros((12,numLocations,numItemCategories))\n",
    "cube_price = np.zeros((12,numLocations,numItemCategories))\n",
    "\n",
    "#Fills the\n",
    "for index,row in df.iterrows():\n",
    "    cube_item[row[6]-1, row[7], row[8]] += row[1]\n",
    "    cube_price[row[6]-1, row[7], row[8]] += row[2]\n"
   ],
   "metadata": {
    "collapsed": false,
    "pycharm": {
     "name": "#%%\n"
    }
   }
  },
  {
   "cell_type": "code",
   "execution_count": 8,
   "outputs": [
    {
     "name": "stdout",
     "output_type": "stream",
     "text": [
      "Cube Price: (12, 9, 10); Cube Item: (12, 9, 10)\n",
      "\n",
      "[[[ 224.96  585.96  495.96 ...  652.36  886.42  240.44]\n",
      "  [ 285.47  674.84  646.25 ...  351.29 1268.28  170.74]\n",
      "  [ 436.66 1905.17 1851.68 ... 1840.54 2846.96  387.62]\n",
      "  ...\n",
      "  [ 297.1   778.04  743.72 ...  475.56  971.74  169.96]\n",
      "  [ 177.76  570.01  296.8  ...  425.43  766.56  303.05]\n",
      "  [ 280.84  516.8   603.89 ...  338.1   908.86  162.52]]\n",
      "\n",
      " [[ 175.27  460.02  740.35 ...  758.76 1181.    153.08]\n",
      "  [ 217.75  511.21  579.5  ...  407.02  910.17   72.3 ]\n",
      "  [ 762.95 1635.89 1240.93 ...  677.97 2447.04  338.43]\n",
      "  ...\n",
      "  [ 208.59  365.95  671.18 ...  439.63  873.73  111.02]\n",
      "  [ 200.4   523.3   531.04 ...  295.52  586.85  286.3 ]\n",
      "  [ 189.99  411.69  647.   ...  319.65  739.59   83.93]]\n",
      "\n",
      " [[ 329.03  514.71  744.42 ...  644.93 1044.66  210.14]\n",
      "  [ 331.58  730.85  560.04 ...  668.28 1030.52  164.27]\n",
      "  [ 781.58 1558.39  933.81 ...  999.34 1671.77  258.03]\n",
      "  ...\n",
      "  [ 264.84  583.91  361.59 ...  634.12  723.77  132.16]\n",
      "  [ 300.19  901.96  354.25 ...  327.47  815.7   188.54]\n",
      "  [ 338.87  378.16  286.81 ...  349.85  784.9    86.19]]\n",
      "\n",
      " ...\n",
      "\n",
      " [[ 283.88  449.25  581.5  ...  648.8  1223.5   105.47]\n",
      "  [ 247.47  905.9   356.54 ...  588.13  789.52  139.2 ]\n",
      "  [ 674.12 1918.91 2136.34 ... 1894.06 3715.12  384.33]\n",
      "  ...\n",
      "  [ 272.65  515.05  330.49 ...  563.6   703.34  198.36]\n",
      "  [ 226.99  685.23  325.89 ...  654.71  621.63  338.35]\n",
      "  [ 167.38  952.22  564.03 ...  512.08  858.52  135.89]]\n",
      "\n",
      " [[ 331.76  386.18  843.91 ...  478.34 1317.26  163.73]\n",
      "  [ 222.77  500.41  426.14 ...  444.34 1101.76  151.26]\n",
      "  [ 319.72 1389.53 1464.74 ...  950.69 3374.37  326.19]\n",
      "  ...\n",
      "  [ 291.69 1161.51  555.47 ...  612.43  783.48  138.38]\n",
      "  [ 304.44  875.74  418.07 ...  481.5   606.65  259.94]\n",
      "  [ 330.31  619.12  990.13 ...  532.14 1114.09   92.19]]\n",
      "\n",
      " [[ 199.71  603.69  708.39 ...  479.77  900.49  110.58]\n",
      "  [ 218.54  517.62  448.7  ...  847.58 1025.75  188.26]\n",
      "  [ 459.62 2177.55 1251.19 ... 1372.65 2005.96  465.88]\n",
      "  ...\n",
      "  [ 287.95  402.74  498.41 ...  535.69  972.25  189.17]\n",
      "  [ 208.17  795.32  375.   ...  348.19  455.97  260.21]\n",
      "  [ 190.43  522.65  582.28 ...  521.11  813.81  205.17]]]\n",
      "\n",
      "[[[134.  77. 129. ... 215. 253.  79.]\n",
      "  [114.  65. 137. ...  72. 151.  44.]\n",
      "  [178. 142. 316. ... 280. 298.  76.]\n",
      "  ...\n",
      "  [134.  65. 117. ... 110.  96.  37.]\n",
      "  [ 25.  24.  26. ...  30.  31.  25.]\n",
      "  [132.  64. 167. ...  98. 153.  60.]]\n",
      "\n",
      " [[113.  66. 188. ... 204. 192.  67.]\n",
      "  [ 79.  56. 106. ...  94. 123.  15.]\n",
      "  [242. 112. 210. ... 162. 248.  76.]\n",
      "  ...\n",
      "  [101.  53. 117. ... 116. 130.  31.]\n",
      "  [ 29.  21.  35. ...  21.  32.  26.]\n",
      "  [111.  55. 136. ...  90. 162.  36.]]\n",
      "\n",
      " [[178.  81. 173. ... 201. 165.  77.]\n",
      "  [130.  70. 117. ... 114. 139.  40.]\n",
      "  [218. 130. 192. ... 188. 232.  54.]\n",
      "  ...\n",
      "  [102.  61.  86. ... 138. 129.  27.]\n",
      "  [ 32.  26.  26. ...  20.  37.  19.]\n",
      "  [179.  77.  94. ... 128. 163.  38.]]\n",
      "\n",
      " ...\n",
      "\n",
      " [[164.  74. 187. ... 167. 201.  45.]\n",
      "  [105.  79.  77. ... 130. 105.  41.]\n",
      "  [272. 164. 338. ... 316. 408. 100.]\n",
      "  ...\n",
      "  [ 93.  56.  84. ... 112. 100.  46.]\n",
      "  [ 31.  19.  25. ...  43.  29.  27.]\n",
      "  [128. 123. 161. ... 195. 163.  51.]]\n",
      "\n",
      " [[197.  61. 213. ... 151. 216.  59.]\n",
      "  [ 88.  45.  88. ...  78. 157.  33.]\n",
      "  [136. 116. 188. ... 154. 332.  80.]\n",
      "  ...\n",
      "  [ 98.  95. 121. ... 113. 151.  40.]\n",
      "  [ 39.  25.  30. ...  34.  30.  24.]\n",
      "  [204.  98. 260. ... 163. 212.  44.]]\n",
      "\n",
      " [[124.  83. 188. ... 150. 175.  46.]\n",
      "  [ 98.  53.  81. ... 128. 137.  44.]\n",
      "  [192. 200. 182. ... 206. 286. 100.]\n",
      "  ...\n",
      "  [129.  47. 110. ... 121. 142.  49.]\n",
      "  [ 26.  25.  24. ...  22.  21.  20.]\n",
      "  [132.  80. 163. ... 140. 151.  68.]]]\n"
     ]
    }
   ],
   "source": [
    "print(f'Cube Price: {cube_price.shape}; Cube Item: {cube_item.shape}')\n",
    "print()\n",
    "print(cube_price)\n",
    "print()\n",
    "print(cube_item)"
   ],
   "metadata": {
    "collapsed": false,
    "pycharm": {
     "name": "#%%\n"
    }
   }
  },
  {
   "cell_type": "code",
   "execution_count": 9,
   "outputs": [
    {
     "name": "stdout",
     "output_type": "stream",
     "text": [
      "Month vs Category Price shape: (12, 10)\n",
      "     produce      meat   bakery  freezer    dairy     deli    snack  \\\n",
      "Jan  2427.71   6685.19  6365.32  5248.78  5108.17  5585.77  6134.24   \n",
      "Feb  2611.05   5903.53  6339.34  5480.93  5829.65  5489.14  4857.21   \n",
      "Mar  3156.55   6273.97  4853.84  5910.44  5931.07  5375.88  5413.22   \n",
      "Apr  3064.88   5827.24  5817.29  5274.84  5359.24  5336.51  5207.28   \n",
      "May  2789.21   6685.65  6367.08  5375.57  5964.09  6177.90  6090.44   \n",
      "Jun  2523.08   4571.63  5086.31  5460.43  5670.28  5384.04  6226.47   \n",
      "Jul  2931.31  29622.65  5596.71  5920.86  6154.90  5904.03  5885.48   \n",
      "Aug  2439.52  23994.03  4961.62  4822.72  5242.23  5504.37  5085.03   \n",
      "Sep  2403.31  26471.24  5440.81  5217.59  5396.54  5042.67  5969.96   \n",
      "Oct  2670.67   6811.22  5669.77  5304.16  5779.67  4695.01  5612.65   \n",
      "Nov  2761.85   6750.79  6299.51  5943.55  6136.46  5969.95  4839.52   \n",
      "Dec  2444.55   6698.25  5112.82  5962.51  5149.38  5019.84  5856.47   \n",
      "\n",
      "     softdrinks      beer  household  \n",
      "Jan     5968.96  10579.08    1967.17  \n",
      "Feb     4462.41  10164.06    1643.13  \n",
      "Mar     5465.69   9414.15    1538.78  \n",
      "Apr     5567.62   9956.63    1889.79  \n",
      "May     5896.20  10072.63    1883.48  \n",
      "Jun     5022.39  23671.12    1858.25  \n",
      "Jul     5834.63  29437.26    1802.90  \n",
      "Aug     5426.35  25768.36    1885.36  \n",
      "Sep     5482.23  30905.49    1731.75  \n",
      "Oct     6618.72  10645.04    1780.96  \n",
      "Nov     4660.08  10635.87    1752.82  \n",
      "Dec     6031.18   9923.58    1799.34  \n"
     ]
    }
   ],
   "source": [
    "# Converting the numpy array back to a panda for easier manipulation with graphs and display\n",
    "\n",
    "months = ['Jan', 'Feb', 'Mar', 'Apr', 'May', 'Jun', 'Jul', 'Aug', 'Sep', 'Oct', 'Nov', 'Dec']\n",
    "month_cat_price = np.sum(cube_price, axis=1)\n",
    "month_cat_item = np.sum(cube_item, axis=1)\n",
    "month_cat_price_df = pd.DataFrame(month_cat_price, columns=itemCategories, index=months)\n",
    "month_cat_item_df = pd.DataFrame(month_cat_item, columns=itemCategories, index=months)\n",
    "\n",
    "print(f'Month vs Category Price shape: {month_cat_price.shape}')\n",
    "print(month_cat_price_df)"
   ],
   "metadata": {
    "collapsed": false,
    "pycharm": {
     "name": "#%%\n"
    }
   }
  },
  {
   "cell_type": "code",
   "execution_count": 10,
   "outputs": [
    {
     "name": "stdout",
     "output_type": "stream",
     "text": [
      "Month vs Category Item shape: (12, 10)\n",
      "     produce    meat  bakery  freezer   dairy    deli   snack  softdrinks  \\\n",
      "Jan    960.0   559.0  1134.0    942.0  1009.0  1015.0  1152.0      1034.0   \n",
      "Feb    941.0   498.0  1067.0    985.0  1082.0   963.0   879.0       921.0   \n",
      "Mar   1079.0   561.0   910.0   1119.0  1044.0  1009.0   928.0      1074.0   \n",
      "Apr   1085.0   564.0  1041.0    958.0   950.0   997.0   899.0       997.0   \n",
      "May    981.0   590.0  1074.0   1041.0  1118.0  1105.0  1159.0      1074.0   \n",
      "Jun   1021.0   464.0   961.0   1076.0  1042.0   981.0   994.0       929.0   \n",
      "Jul   1013.0  2828.0  1140.0   1097.0  1075.0  1115.0  1134.0      1142.0   \n",
      "Aug    809.0  2201.0   960.0    866.0   884.0  1013.0   847.0       962.0   \n",
      "Sep    916.0  2560.0   991.0    920.0   921.0   990.0  1045.0       974.0   \n",
      "Oct   1036.0   632.0  1067.0   1063.0  1051.0   971.0  1015.0      1230.0   \n",
      "Nov   1002.0   563.0  1138.0   1065.0  1057.0  1032.0   908.0       879.0   \n",
      "Dec    969.0   607.0   952.0   1054.0   997.0   951.0  1087.0      1022.0   \n",
      "\n",
      "       beer  household  \n",
      "Jan  1253.0      416.0  \n",
      "Feb  1199.0      356.0  \n",
      "Mar  1148.0      357.0  \n",
      "Apr  1140.0      423.0  \n",
      "May  1233.0      407.0  \n",
      "Jun  3013.0      388.0  \n",
      "Jul  3680.0      371.0  \n",
      "Aug  2971.0      412.0  \n",
      "Sep  3306.0      377.0  \n",
      "Oct  1298.0      383.0  \n",
      "Nov  1364.0      387.0  \n",
      "Dec  1269.0      403.0  \n"
     ]
    }
   ],
   "source": [
    "print(f'Month vs Category Item shape: {month_cat_item.shape}')\n",
    "print(month_cat_item_df)\n"
   ],
   "metadata": {
    "collapsed": false,
    "pycharm": {
     "name": "#%%\n"
    }
   }
  },
  {
   "cell_type": "code",
   "execution_count": 11,
   "outputs": [
    {
     "name": "stdout",
     "output_type": "stream",
     "text": [
      "Month vs Location Price shape: (12, 9)\n",
      "     SouthGlenn  Tamarac  HighlandsRanch  ColoradoBlvd  WashingtonPark  \\\n",
      "Jan     5776.80  5581.44        14933.71       5738.21         5969.57   \n",
      "Feb     5755.00  4249.45        12120.91       5246.07         6663.01   \n",
      "Mar     5990.70  5879.52        11234.86       5475.63         5967.95   \n",
      "Apr     5552.05  5153.75        13648.87       4603.69         6397.47   \n",
      "May     5604.08  4877.53        14937.02       5562.12         6613.21   \n",
      "Jun     7431.50  5186.66        11734.85       5604.53         7305.38   \n",
      "Jul     9298.15  9185.90        26373.94       9158.76         8929.46   \n",
      "Aug     7380.76  8610.33        16984.15       7604.70         9716.56   \n",
      "Sep     6459.03  9906.88        24737.04       7114.66         9759.32   \n",
      "Oct     5439.17  5151.04        16262.58       4659.51         5066.97   \n",
      "Nov     5723.03  5435.64        12744.17       5233.90         4671.17   \n",
      "Dec     5294.67  5240.46        13354.34       5590.29         6102.70   \n",
      "\n",
      "     CherryCreek  GovernorsRanch  UnionStation  CastleRock  \n",
      "Jan      4111.61         5465.97       4023.76     4469.32  \n",
      "Feb      5693.02         4506.84       4318.00     4228.15  \n",
      "Mar      5208.36         5196.93       4587.51     3792.13  \n",
      "Apr      4510.62         5263.11       3378.07     4793.69  \n",
      "May      4651.46         4033.96       4543.31     6479.56  \n",
      "Jun      6891.07         8412.08       5549.34     7358.59  \n",
      "Jul      6669.08        10639.30       7281.70    11554.44  \n",
      "Aug     10236.79         8551.69       8919.64     7124.97  \n",
      "Sep      9193.36         8555.43       7370.11    10965.76  \n",
      "Oct      4626.84         4583.27       4312.57     5485.92  \n",
      "Nov      5293.44         6171.38       4383.70     6093.97  \n",
      "Dec      4774.06         5104.60       3678.30     4858.50  \n"
     ]
    }
   ],
   "source": [
    "month_loc_price = np.sum(cube_price, axis=2)\n",
    "month_loc_item = np.sum(cube_item, axis=2)\n",
    "month_loc_price_df = pd.DataFrame(month_loc_price, columns=locations, index=months)\n",
    "month_loc_item_df = pd.DataFrame(month_loc_item, columns=locations, index=months)\n",
    "\n",
    "print(f'Month vs Location Price shape: {month_loc_price.shape}')\n",
    "print(month_loc_price_df)"
   ],
   "metadata": {
    "collapsed": false,
    "pycharm": {
     "name": "#%%\n"
    }
   }
  },
  {
   "cell_type": "code",
   "execution_count": 12,
   "outputs": [
    {
     "name": "stdout",
     "output_type": "stream",
     "text": [
      "Month vs Category Item shape: (12, 9)\n",
      "     SouthGlenn  Tamarac  HighlandsRanch  ColoradoBlvd  WashingtonPark  \\\n",
      "Jan      1623.0   1049.0          2230.0        1095.0           692.0   \n",
      "Feb      1503.0    778.0          1900.0        1024.0           811.0   \n",
      "Mar      1579.0   1096.0          1824.0        1075.0           740.0   \n",
      "Apr      1479.0   1045.0          1978.0         875.0           797.0   \n",
      "May      1457.0    967.0          2256.0        1029.0           817.0   \n",
      "Jun      1830.0    946.0          1928.0        1036.0           825.0   \n",
      "Jul      2188.0   1432.0          3334.0        1380.0          1035.0   \n",
      "Aug      1684.0   1415.0          2310.0        1234.0          1023.0   \n",
      "Sep      1583.0   1538.0          3236.0        1218.0          1051.0   \n",
      "Oct      1443.0   1022.0          2544.0         943.0           655.0   \n",
      "Nov      1495.0   1001.0          1794.0        1000.0           573.0   \n",
      "Dec      1410.0    940.0          2146.0        1066.0           744.0   \n",
      "\n",
      "     CherryCreek  GovernorsRanch  UnionStation  CastleRock  \n",
      "Jan        377.0           979.0         255.0      1174.0  \n",
      "Feb        542.0           926.0         280.0      1127.0  \n",
      "Mar        474.0          1001.0         266.0      1174.0  \n",
      "Apr        436.0           985.0         225.0      1234.0  \n",
      "May        446.0           777.0         283.0      1750.0  \n",
      "Jun        614.0          1505.0         301.0      1884.0  \n",
      "Jul        578.0          1729.0         387.0      2532.0  \n",
      "Aug        726.0          1352.0         425.0      1756.0  \n",
      "Sep        618.0          1402.0         372.0      1982.0  \n",
      "Oct        426.0           903.0         268.0      1542.0  \n",
      "Nov        485.0          1099.0         289.0      1659.0  \n",
      "Dec        459.0          1012.0         224.0      1310.0  \n"
     ]
    }
   ],
   "source": [
    "print(f'Month vs Category Item shape: {month_loc_item.shape}')\n",
    "print(month_loc_item_df)"
   ],
   "metadata": {
    "collapsed": false,
    "pycharm": {
     "name": "#%%\n"
    }
   }
  },
  {
   "cell_type": "code",
   "execution_count": 13,
   "outputs": [],
   "source": [
    "cat_loc_price = np.sum(cube_price, axis=0)\n",
    "cat_loc_item = np.sum(cube_item, axis=0)\n",
    "cat_loc_price_df = pd.DataFrame(cat_loc_price, columns=itemCategories, index=locations)\n",
    "cat_loc_item_df = pd.DataFrame(cat_loc_item, columns=itemCategories, index=locations)"
   ],
   "metadata": {
    "collapsed": false,
    "pycharm": {
     "name": "#%%\n"
    }
   }
  },
  {
   "cell_type": "code",
   "execution_count": 14,
   "outputs": [
    {
     "name": "stdout",
     "output_type": "stream",
     "text": [
      "Category vs Location Item shape: (9, 10)\n",
      "                produce    meat  bakery  freezer   dairy    deli   snack  \\\n",
      "SouthGlenn       1711.0  1799.0  1961.0   1822.0  1848.0  1921.0  1820.0   \n",
      "Tamarac          1261.0  1402.0  1323.0   1256.0  1353.0  1338.0  1409.0   \n",
      "HighlandsRanch   2566.0  2952.0  2898.0   2686.0  2662.0  2400.0  2564.0   \n",
      "ColoradoBlvd     1284.0  1081.0  1143.0   1367.0  1341.0  1273.0  1348.0   \n",
      "WashingtonPark    966.0   905.0   945.0    988.0   908.0  1010.0   978.0   \n",
      "CherryCreek       585.0   630.0   581.0    561.0   550.0   603.0   584.0   \n",
      "GovernorsRanch   1314.0  1317.0  1388.0   1216.0  1383.0  1352.0  1265.0   \n",
      "UnionStation      330.0   389.0   320.0    336.0   289.0   310.0   326.0   \n",
      "CastleRock       1795.0  2152.0  1876.0   1954.0  1896.0  1935.0  1753.0   \n",
      "\n",
      "                softdrinks    beer  household  \n",
      "SouthGlenn          1939.0  3719.0      734.0  \n",
      "Tamarac             1276.0  2176.0      435.0  \n",
      "HighlandsRanch      2694.0  5090.0      968.0  \n",
      "ColoradoBlvd        1261.0  2389.0      488.0  \n",
      "WashingtonPark       900.0  1819.0      344.0  \n",
      "CherryCreek          556.0  1249.0      282.0  \n",
      "GovernorsRanch      1473.0  2460.0      502.0  \n",
      "UnionStation         338.0   644.0      293.0  \n",
      "CastleRock          1801.0  3328.0      634.0  \n"
     ]
    }
   ],
   "source": [
    "print(f'Category vs Location Item shape: {cat_loc_item.shape}')\n",
    "print(cat_loc_item_df)"
   ],
   "metadata": {
    "collapsed": false,
    "pycharm": {
     "name": "#%%\n"
    }
   }
  },
  {
   "cell_type": "code",
   "execution_count": 15,
   "outputs": [
    {
     "name": "stdout",
     "output_type": "stream",
     "text": [
      "Category vs Location Price shape: (9, 10)\n",
      "                produce      meat    bakery   freezer     dairy      deli  \\\n",
      "SouthGlenn      2865.02  11511.88   7083.57   6304.94   6603.60   6712.94   \n",
      "Tamarac         3132.80  13775.73   6344.17   6035.57   6937.45   6367.28   \n",
      "HighlandsRanch  7368.59  34198.57  17451.95  16228.30  16542.50  14537.62   \n",
      "ColoradoBlvd    3149.09  10038.30   5691.46   6748.50   7037.10   5926.18   \n",
      "WashingtonPark  3770.56  11782.45   7125.03   7346.87   6696.91   8073.17   \n",
      "CherryCreek     3103.68  12976.81   5990.22   5450.40   5295.93   5757.70   \n",
      "GovernorsRanch  3208.81  13110.93   6603.26   5921.36   7480.90   6776.51   \n",
      "UnionStation    2538.14  12721.43   4747.04   5294.64   4475.78   4733.49   \n",
      "CastleRock      3087.00  16179.29   6873.72   6591.80   6651.51   6600.22   \n",
      "\n",
      "                   snack  softdrinks      beer  household  \n",
      "SouthGlenn       6654.29     6544.57  19408.67    2015.46  \n",
      "Tamarac          6917.01     6699.26  16542.56    1706.77  \n",
      "HighlandsRanch  15892.54    15701.19  46704.29    4440.89  \n",
      "ColoradoBlvd     6947.51     6165.12  17990.00    1898.81  \n",
      "WashingtonPark   7744.59     7326.37  21208.00    2088.82  \n",
      "CherryCreek      6051.21     5543.51  19517.63    2172.62  \n",
      "GovernorsRanch   5970.55     7398.37  17880.04    2133.83  \n",
      "UnionStation     4816.50     5144.19  14484.11    3390.69  \n",
      "CastleRock       6183.77     5913.88  17437.97    1685.84  \n"
     ]
    }
   ],
   "source": [
    "print(f'Category vs Location Price shape: {cat_loc_price.shape}')\n",
    "print(cat_loc_price_df)"
   ],
   "metadata": {
    "collapsed": false,
    "pycharm": {
     "name": "#%%\n"
    }
   }
  },
  {
   "cell_type": "code",
   "execution_count": 16,
   "outputs": [
    {
     "data": {
      "text/plain": "<Figure size 1296x1584 with 12 Axes>",
      "image/png": "[encoded data removed]"
     },
     "metadata": {
      "needs_background": "light"
     },
     "output_type": "display_data"
    }
   ],
   "source": [
    "# We decided to look at heat maps to help analyze the data. By doing this we were able to visually find insights\n",
    "# quickly\n",
    "fig, axes = plt.subplots(3, 2, figsize=(18, 22))\n",
    "\n",
    "fig.suptitle('Whole Foods Data Review')\n",
    "fig.tight_layout(pad=10.0)\n",
    "\n",
    "sns.heatmap(month_cat_price_df,ax=axes[0, 0],cmap='plasma')\n",
    "sns.heatmap(month_cat_item_df,ax=axes[0, 1],cmap='plasma')\n",
    "sns.heatmap(month_loc_price_df, ax=axes[1, 0],cmap='plasma')\n",
    "sns.heatmap(month_loc_item_df, ax=axes[1, 1],cmap='plasma')\n",
    "sns.heatmap(cat_loc_price_df, ax=axes[2, 0],cmap='plasma')\n",
    "sns.heatmap(cat_loc_item_df, ax=axes[2, 1],cmap='plasma')\n",
    "axes[0, 0].title.set_text('Month vs. Category Price')\n",
    "axes[0, 1].title.set_text('Month vs. Category Item')\n",
    "axes[1, 0].title.set_text('Month vs. Location Price')\n",
    "axes[1, 1].title.set_text('Month vs. Location Item')\n",
    "axes[2, 0].title.set_text('Category vs. Location Price')\n",
    "axes[2, 1].title.set_text('Category vs. Location Item')"
   ],
   "metadata": {
    "collapsed": false,
    "pycharm": {
     "name": "#%%\n"
    }
   }
  },
  {
   "cell_type": "markdown",
   "source": [
    "Interesting insights from the data\n",
    "- Month versus Category: We found that Meat and Beer have strong coorelations during the summer months\\\n",
    "- Month Versus Locaiton: We found that highlands ranch is the largest revenue generator throughout the year\n",
    "- and the stores are busier based on sales and products sold in the summer months\n",
    "- Category versus Location: We found that highlands ranch sells the most beer at a higher price. It is intersting to\n",
    "- see that Castle Rock and Southglenn sell beer at a lower price per item\n",
    "\n"
   ],
   "metadata": {
    "collapsed": false,
    "pycharm": {
     "name": "#%% md\n"
    }
   }
  }
 ],
 "metadata": {
  "kernelspec": {
   "name": "pycharm-865e1948",
   "language": "python",
   "display_name": "PyCharm (GITHUB_REPOSITORY)"
  },
  "language_info": {
   "codemirror_mode": {
    "name": "ipython",
    "version": 2
   },
   "file_extension": ".py",
   "mimetype": "text/x-python",
   "name": "python",
   "nbconvert_exporter": "python",
   "pygments_lexer": "ipython2",
   "version": "2.7.6"
  }
 },
 "nbformat": 4,
 "nbformat_minor": 0
}