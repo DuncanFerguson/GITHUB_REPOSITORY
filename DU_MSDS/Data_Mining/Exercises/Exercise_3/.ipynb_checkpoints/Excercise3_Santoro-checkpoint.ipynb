{
 "cells": [
  {
   "cell_type": "markdown",
   "id": "9ac48a1c-c664-453a-8005-9958e769424b",
   "metadata": {},
   "source": [
    "## Exercise 3: Data Cubes\n",
    "### Team Name: Broken Toes\n",
    "#### Team Members: Mike Santoro, Emma Bright, Duncan Ferguson\n",
    "#### Submission By: Mike Santoro"
   ]
  },
  {
   "cell_type": "code",
   "execution_count": 1,
   "id": "a4dc75b7-69f7-481b-914a-33b9dfea8934",
   "metadata": {},
   "outputs": [],
   "source": [
    "import pandas as pd\n",
    "import numpy as np\n",
    "import seaborn as sns\n",
    "import matplotlib.pyplot as plt"
   ]
  },
  {
   "cell_type": "markdown",
   "id": "d600accd-967d-4f82-bcf4-6f29b2a60035",
   "metadata": {},
   "source": [
    "You are to create and use data cubes using numpy arrays.  Your data set will be for whole foods purchases in Colorado.  The data will have 6 columns: transactionId, number items purchased, total price of those items, date, store, and category.\n",
    "The functions below are given and will be used to extract data from the data-set."
   ]
  },
  {
   "cell_type": "code",
   "execution_count": 2,
   "id": "d553d40a-56ae-4a9b-8977-ff73fdf1574f",
   "metadata": {},
   "outputs": [],
   "source": [
    "# Takes inDate year.date.month\n",
    "def getMonth(inDate):\n",
    "    return(int(inDate[5:7]))\n",
    "\n",
    "def getLocationIndex(inLoc):\n",
    "    count = 0\n",
    "    while (locations[count] != inLoc) and (count < len(locations)-1):\n",
    "        count += 1\n",
    "    return(count)\n",
    "\n",
    "def getCatIndex(inCat):\n",
    "    count = 0\n",
    "    while (itemCategories[count] != inCat) and (count < len(itemCategories)-1):\n",
    "        count += 1\n",
    "    return(count)"
   ]
  },
  {
   "cell_type": "code",
   "execution_count": 3,
   "id": "6f1249c0-3330-47d6-a423-570e939e436a",
   "metadata": {},
   "outputs": [],
   "source": [
    "columns = [\"transactionId\",\"number items purchased\", \"total price of those items\", \"date\", \"store\",\"category\"]"
   ]
  },
  {
   "cell_type": "code",
   "execution_count": 4,
   "id": "b6be05ea-18a4-4ca1-b155-a7cd1b94c162",
   "metadata": {},
   "outputs": [
    {
     "data": {
      "text/plain": [
       "9"
      ]
     },
     "execution_count": 4,
     "metadata": {},
     "output_type": "execute_result"
    }
   ],
   "source": [
    "locations = ['SouthGlenn','Tamarac','HighlandsRanch','ColoradoBlvd','WashingtonPark','CherryCreek','GovernorsRanch','UnionStation','CastleRock']\n",
    "numLocations = len(locations)\n",
    "numLocations"
   ]
  },
  {
   "cell_type": "code",
   "execution_count": 5,
   "id": "28765955-6919-4525-9197-4197dbe93649",
   "metadata": {},
   "outputs": [
    {
     "data": {
      "text/plain": [
       "10"
      ]
     },
     "execution_count": 5,
     "metadata": {},
     "output_type": "execute_result"
    }
   ],
   "source": [
    "itemCategories = ['produce','meat','bakery','freezer','dairy','deli','snack','softdrinks','beer','household']\n",
    "numItemCategories = len(itemCategories)\n",
    "numItemCategories"
   ]
  },
  {
   "cell_type": "code",
   "execution_count": 6,
   "id": "72c3febb-0de2-47d8-895c-479d17bb88b3",
   "metadata": {},
   "outputs": [
    {
     "data": {
      "text/html": [
       "<div>\n",
       "<style scoped>\n",
       "    .dataframe tbody tr th:only-of-type {\n",
       "        vertical-align: middle;\n",
       "    }\n",
       "\n",
       "    .dataframe tbody tr th {\n",
       "        vertical-align: top;\n",
       "    }\n",
       "\n",
       "    .dataframe thead th {\n",
       "        text-align: right;\n",
       "    }\n",
       "</style>\n",
       "<table border=\"1\" class=\"dataframe\">\n",
       "  <thead>\n",
       "    <tr style=\"text-align: right;\">\n",
       "      <th></th>\n",
       "      <th>transactionId</th>\n",
       "      <th>number items purchased</th>\n",
       "      <th>total price of those items</th>\n",
       "      <th>date</th>\n",
       "      <th>store</th>\n",
       "      <th>category</th>\n",
       "    </tr>\n",
       "  </thead>\n",
       "  <tbody>\n",
       "    <tr>\n",
       "      <th>0</th>\n",
       "      <td>0</td>\n",
       "      <td>1</td>\n",
       "      <td>2.35</td>\n",
       "      <td>2019.12.13</td>\n",
       "      <td>CherryCreek</td>\n",
       "      <td>household</td>\n",
       "    </tr>\n",
       "    <tr>\n",
       "      <th>1</th>\n",
       "      <td>1</td>\n",
       "      <td>10</td>\n",
       "      <td>59.24</td>\n",
       "      <td>2019.02.13</td>\n",
       "      <td>SouthGlenn</td>\n",
       "      <td>snack</td>\n",
       "    </tr>\n",
       "    <tr>\n",
       "      <th>2</th>\n",
       "      <td>1</td>\n",
       "      <td>7</td>\n",
       "      <td>10.02</td>\n",
       "      <td>2019.02.13</td>\n",
       "      <td>SouthGlenn</td>\n",
       "      <td>deli</td>\n",
       "    </tr>\n",
       "    <tr>\n",
       "      <th>3</th>\n",
       "      <td>1</td>\n",
       "      <td>10</td>\n",
       "      <td>32.00</td>\n",
       "      <td>2019.02.13</td>\n",
       "      <td>SouthGlenn</td>\n",
       "      <td>bakery</td>\n",
       "    </tr>\n",
       "    <tr>\n",
       "      <th>4</th>\n",
       "      <td>1</td>\n",
       "      <td>1</td>\n",
       "      <td>2.77</td>\n",
       "      <td>2019.02.13</td>\n",
       "      <td>SouthGlenn</td>\n",
       "      <td>meat</td>\n",
       "    </tr>\n",
       "  </tbody>\n",
       "</table>\n",
       "</div>"
      ],
      "text/plain": [
       "   transactionId  number items purchased  total price of those items  \\\n",
       "0              0                       1                        2.35   \n",
       "1              1                      10                       59.24   \n",
       "2              1                       7                       10.02   \n",
       "3              1                      10                       32.00   \n",
       "4              1                       1                        2.77   \n",
       "\n",
       "         date        store   category  \n",
       "0  2019.12.13  CherryCreek  household  \n",
       "1  2019.02.13   SouthGlenn      snack  \n",
       "2  2019.02.13   SouthGlenn       deli  \n",
       "3  2019.02.13   SouthGlenn     bakery  \n",
       "4  2019.02.13   SouthGlenn       meat  "
      ]
     },
     "execution_count": 6,
     "metadata": {},
     "output_type": "execute_result"
    }
   ],
   "source": [
    "df = pd.read_csv('ds_ex3_csv.csv', names = columns)\n",
    "df.head()"
   ]
  },
  {
   "cell_type": "code",
   "execution_count": 7,
   "id": "b9676d0e-ca8e-442e-8d06-445c81404da4",
   "metadata": {},
   "outputs": [
    {
     "data": {
      "text/html": [
       "<div>\n",
       "<style scoped>\n",
       "    .dataframe tbody tr th:only-of-type {\n",
       "        vertical-align: middle;\n",
       "    }\n",
       "\n",
       "    .dataframe tbody tr th {\n",
       "        vertical-align: top;\n",
       "    }\n",
       "\n",
       "    .dataframe thead th {\n",
       "        text-align: right;\n",
       "    }\n",
       "</style>\n",
       "<table border=\"1\" class=\"dataframe\">\n",
       "  <thead>\n",
       "    <tr style=\"text-align: right;\">\n",
       "      <th></th>\n",
       "      <th>transactionId</th>\n",
       "      <th>number items purchased</th>\n",
       "      <th>total price of those items</th>\n",
       "      <th>date</th>\n",
       "      <th>store</th>\n",
       "      <th>category</th>\n",
       "      <th>month</th>\n",
       "      <th>locationIndex</th>\n",
       "      <th>catIndex</th>\n",
       "    </tr>\n",
       "  </thead>\n",
       "  <tbody>\n",
       "    <tr>\n",
       "      <th>0</th>\n",
       "      <td>0</td>\n",
       "      <td>1</td>\n",
       "      <td>2.35</td>\n",
       "      <td>2019.12.13</td>\n",
       "      <td>CherryCreek</td>\n",
       "      <td>household</td>\n",
       "      <td>12</td>\n",
       "      <td>5</td>\n",
       "      <td>9</td>\n",
       "    </tr>\n",
       "    <tr>\n",
       "      <th>1</th>\n",
       "      <td>1</td>\n",
       "      <td>10</td>\n",
       "      <td>59.24</td>\n",
       "      <td>2019.02.13</td>\n",
       "      <td>SouthGlenn</td>\n",
       "      <td>snack</td>\n",
       "      <td>2</td>\n",
       "      <td>0</td>\n",
       "      <td>6</td>\n",
       "    </tr>\n",
       "    <tr>\n",
       "      <th>2</th>\n",
       "      <td>1</td>\n",
       "      <td>7</td>\n",
       "      <td>10.02</td>\n",
       "      <td>2019.02.13</td>\n",
       "      <td>SouthGlenn</td>\n",
       "      <td>deli</td>\n",
       "      <td>2</td>\n",
       "      <td>0</td>\n",
       "      <td>5</td>\n",
       "    </tr>\n",
       "    <tr>\n",
       "      <th>3</th>\n",
       "      <td>1</td>\n",
       "      <td>10</td>\n",
       "      <td>32.00</td>\n",
       "      <td>2019.02.13</td>\n",
       "      <td>SouthGlenn</td>\n",
       "      <td>bakery</td>\n",
       "      <td>2</td>\n",
       "      <td>0</td>\n",
       "      <td>2</td>\n",
       "    </tr>\n",
       "    <tr>\n",
       "      <th>4</th>\n",
       "      <td>1</td>\n",
       "      <td>1</td>\n",
       "      <td>2.77</td>\n",
       "      <td>2019.02.13</td>\n",
       "      <td>SouthGlenn</td>\n",
       "      <td>meat</td>\n",
       "      <td>2</td>\n",
       "      <td>0</td>\n",
       "      <td>1</td>\n",
       "    </tr>\n",
       "  </tbody>\n",
       "</table>\n",
       "</div>"
      ],
      "text/plain": [
       "   transactionId  number items purchased  total price of those items  \\\n",
       "0              0                       1                        2.35   \n",
       "1              1                      10                       59.24   \n",
       "2              1                       7                       10.02   \n",
       "3              1                      10                       32.00   \n",
       "4              1                       1                        2.77   \n",
       "\n",
       "         date        store   category  month  locationIndex  catIndex  \n",
       "0  2019.12.13  CherryCreek  household     12              5         9  \n",
       "1  2019.02.13   SouthGlenn      snack      2              0         6  \n",
       "2  2019.02.13   SouthGlenn       deli      2              0         5  \n",
       "3  2019.02.13   SouthGlenn     bakery      2              0         2  \n",
       "4  2019.02.13   SouthGlenn       meat      2              0         1  "
      ]
     },
     "execution_count": 7,
     "metadata": {},
     "output_type": "execute_result"
    }
   ],
   "source": [
    "df['month']=df.apply(lambda row: getMonth(row['date']),axis=1)\n",
    "df['locationIndex']=df.apply(lambda row: getLocationIndex(row['store']),axis=1)\n",
    "df['catIndex']=df.apply(lambda row: getCatIndex(row['category']),axis=1)\n",
    "\n",
    "df.head()"
   ]
  },
  {
   "cell_type": "markdown",
   "id": "172ba358-f93a-4fe5-a73c-9642d63b4197",
   "metadata": {},
   "source": [
    "*You are to create a two 3D base cubes using numpy arrays to hold the data.  The dimensions of the arrays are date, location, and category.  You can either create two cubes (one for NumberItems and the other for PriceItems) or one cube where each cell holds an object with both measures, whatever is easiest for you.*\n",
    "\n",
    "The first part of this code block below creates the $(2)$ data-cubes. The second part populates the cube."
   ]
  },
  {
   "cell_type": "code",
   "execution_count": 8,
   "id": "1f1c72a2-170c-4332-96f8-17db567e5f50",
   "metadata": {},
   "outputs": [],
   "source": [
    "# creates a 3D numpy array\n",
    "# where numLocations and numItemCategories are integers\n",
    "cube_item = np.zeros((12,numLocations,numItemCategories))\n",
    "cube_price = np.zeros((12,numLocations,numItemCategories))\n",
    "\n",
    "#Fills the \n",
    "for index,row in df.iterrows():\n",
    "    cube_item[row[6]-1, row[7], row[8]] += row[1]\n",
    "    cube_price[row[6]-1, row[7], row[8]] += row[2]"
   ]
  },
  {
   "cell_type": "code",
   "execution_count": 9,
   "id": "2d74da5f-7752-424e-9884-b19ba317e3a6",
   "metadata": {},
   "outputs": [
    {
     "name": "stdout",
     "output_type": "stream",
     "text": [
      "Cube Price: (12, 9, 10); Cube Item: (12, 9, 10)\n",
      "\n",
      "[[[ 224.96  585.96  495.96 ...  652.36  886.42  240.44]\n",
      "  [ 285.47  674.84  646.25 ...  351.29 1268.28  170.74]\n",
      "  [ 436.66 1905.17 1851.68 ... 1840.54 2846.96  387.62]\n",
      "  ...\n",
      "  [ 297.1   778.04  743.72 ...  475.56  971.74  169.96]\n",
      "  [ 177.76  570.01  296.8  ...  425.43  766.56  303.05]\n",
      "  [ 280.84  516.8   603.89 ...  338.1   908.86  162.52]]\n",
      "\n",
      " [[ 175.27  460.02  740.35 ...  758.76 1181.    153.08]\n",
      "  [ 217.75  511.21  579.5  ...  407.02  910.17   72.3 ]\n",
      "  [ 762.95 1635.89 1240.93 ...  677.97 2447.04  338.43]\n",
      "  ...\n",
      "  [ 208.59  365.95  671.18 ...  439.63  873.73  111.02]\n",
      "  [ 200.4   523.3   531.04 ...  295.52  586.85  286.3 ]\n",
      "  [ 189.99  411.69  647.   ...  319.65  739.59   83.93]]\n",
      "\n",
      " [[ 329.03  514.71  744.42 ...  644.93 1044.66  210.14]\n",
      "  [ 331.58  730.85  560.04 ...  668.28 1030.52  164.27]\n",
      "  [ 781.58 1558.39  933.81 ...  999.34 1671.77  258.03]\n",
      "  ...\n",
      "  [ 264.84  583.91  361.59 ...  634.12  723.77  132.16]\n",
      "  [ 300.19  901.96  354.25 ...  327.47  815.7   188.54]\n",
      "  [ 338.87  378.16  286.81 ...  349.85  784.9    86.19]]\n",
      "\n",
      " ...\n",
      "\n",
      " [[ 283.88  449.25  581.5  ...  648.8  1223.5   105.47]\n",
      "  [ 247.47  905.9   356.54 ...  588.13  789.52  139.2 ]\n",
      "  [ 674.12 1918.91 2136.34 ... 1894.06 3715.12  384.33]\n",
      "  ...\n",
      "  [ 272.65  515.05  330.49 ...  563.6   703.34  198.36]\n",
      "  [ 226.99  685.23  325.89 ...  654.71  621.63  338.35]\n",
      "  [ 167.38  952.22  564.03 ...  512.08  858.52  135.89]]\n",
      "\n",
      " [[ 331.76  386.18  843.91 ...  478.34 1317.26  163.73]\n",
      "  [ 222.77  500.41  426.14 ...  444.34 1101.76  151.26]\n",
      "  [ 319.72 1389.53 1464.74 ...  950.69 3374.37  326.19]\n",
      "  ...\n",
      "  [ 291.69 1161.51  555.47 ...  612.43  783.48  138.38]\n",
      "  [ 304.44  875.74  418.07 ...  481.5   606.65  259.94]\n",
      "  [ 330.31  619.12  990.13 ...  532.14 1114.09   92.19]]\n",
      "\n",
      " [[ 199.71  603.69  708.39 ...  479.77  900.49  110.58]\n",
      "  [ 218.54  517.62  448.7  ...  847.58 1025.75  188.26]\n",
      "  [ 459.62 2177.55 1251.19 ... 1372.65 2005.96  465.88]\n",
      "  ...\n",
      "  [ 287.95  402.74  498.41 ...  535.69  972.25  189.17]\n",
      "  [ 208.17  795.32  375.   ...  348.19  455.97  260.21]\n",
      "  [ 190.43  522.65  582.28 ...  521.11  813.81  205.17]]]\n",
      "\n",
      "[[[134.  77. 129. ... 215. 253.  79.]\n",
      "  [114.  65. 137. ...  72. 151.  44.]\n",
      "  [178. 142. 316. ... 280. 298.  76.]\n",
      "  ...\n",
      "  [134.  65. 117. ... 110.  96.  37.]\n",
      "  [ 25.  24.  26. ...  30.  31.  25.]\n",
      "  [132.  64. 167. ...  98. 153.  60.]]\n",
      "\n",
      " [[113.  66. 188. ... 204. 192.  67.]\n",
      "  [ 79.  56. 106. ...  94. 123.  15.]\n",
      "  [242. 112. 210. ... 162. 248.  76.]\n",
      "  ...\n",
      "  [101.  53. 117. ... 116. 130.  31.]\n",
      "  [ 29.  21.  35. ...  21.  32.  26.]\n",
      "  [111.  55. 136. ...  90. 162.  36.]]\n",
      "\n",
      " [[178.  81. 173. ... 201. 165.  77.]\n",
      "  [130.  70. 117. ... 114. 139.  40.]\n",
      "  [218. 130. 192. ... 188. 232.  54.]\n",
      "  ...\n",
      "  [102.  61.  86. ... 138. 129.  27.]\n",
      "  [ 32.  26.  26. ...  20.  37.  19.]\n",
      "  [179.  77.  94. ... 128. 163.  38.]]\n",
      "\n",
      " ...\n",
      "\n",
      " [[164.  74. 187. ... 167. 201.  45.]\n",
      "  [105.  79.  77. ... 130. 105.  41.]\n",
      "  [272. 164. 338. ... 316. 408. 100.]\n",
      "  ...\n",
      "  [ 93.  56.  84. ... 112. 100.  46.]\n",
      "  [ 31.  19.  25. ...  43.  29.  27.]\n",
      "  [128. 123. 161. ... 195. 163.  51.]]\n",
      "\n",
      " [[197.  61. 213. ... 151. 216.  59.]\n",
      "  [ 88.  45.  88. ...  78. 157.  33.]\n",
      "  [136. 116. 188. ... 154. 332.  80.]\n",
      "  ...\n",
      "  [ 98.  95. 121. ... 113. 151.  40.]\n",
      "  [ 39.  25.  30. ...  34.  30.  24.]\n",
      "  [204.  98. 260. ... 163. 212.  44.]]\n",
      "\n",
      " [[124.  83. 188. ... 150. 175.  46.]\n",
      "  [ 98.  53.  81. ... 128. 137.  44.]\n",
      "  [192. 200. 182. ... 206. 286. 100.]\n",
      "  ...\n",
      "  [129.  47. 110. ... 121. 142.  49.]\n",
      "  [ 26.  25.  24. ...  22.  21.  20.]\n",
      "  [132.  80. 163. ... 140. 151.  68.]]]\n"
     ]
    }
   ],
   "source": [
    "print(f'Cube Price: {cube_price.shape}; Cube Item: {cube_item.shape}')\n",
    "print()\n",
    "print(cube_price)\n",
    "print()\n",
    "print(cube_item)"
   ]
  },
  {
   "cell_type": "markdown",
   "id": "f13d5cc1-704d-4694-8860-91c5353514c5",
   "metadata": {},
   "source": [
    "*After creating your base cube create three 2D cubes for the three attribute pairs.If you are using two base cubes, then create three 2D cubes for each base cube. Using your cubes (the 2D cubes will be very helpful), explore your data to see what is “interesting\".*"
   ]
  },
  {
   "cell_type": "code",
   "execution_count": 10,
   "id": "1b27ddad-4e0b-49db-8ac9-63c45b7fed80",
   "metadata": {},
   "outputs": [],
   "source": [
    "cat_loc_price = np.sum(cube_price, axis=0)\n",
    "cat_loc_item = np.sum(cube_item, axis=0)\n",
    "\n",
    "month_cat_price = np.sum(cube_price, axis=1)\n",
    "month_cat_item = np.sum(cube_item, axis=1)\n",
    "\n",
    "month_loc_price = np.sum(cube_price, axis=2)\n",
    "month_loc_item = np.sum(cube_item, axis=2)"
   ]
  },
  {
   "cell_type": "code",
   "execution_count": 11,
   "id": "4c49f47a-5236-4f97-a427-7b2df42c3a1d",
   "metadata": {},
   "outputs": [
    {
     "name": "stdout",
     "output_type": "stream",
     "text": [
      "Category vs Location Price shape: (9, 10); Category vs Location Item shape: (9, 10)\n",
      "\n",
      "Month vs Category Price shape: (12, 10); Month vs Category Item shape: (12, 10)\n",
      "\n",
      "Month vs Location Price shape: (12, 9); Month vs Category Item shape: (12, 9)\n"
     ]
    }
   ],
   "source": [
    "print(f'Category vs Location Price shape: {cat_loc_price.shape}; Category vs Location Item shape: {cat_loc_item.shape}')\n",
    "print()\n",
    "print(f'Month vs Category Price shape: {month_cat_price.shape}; Month vs Category Item shape: {month_cat_item.shape}')\n",
    "print()\n",
    "print(f'Month vs Location Price shape: {month_loc_price.shape}; Month vs Category Item shape: {month_loc_item.shape}')"
   ]
  },
  {
   "cell_type": "code",
   "execution_count": 12,
   "id": "1c061969-77cc-49fd-a42c-47dcbf4873f8",
   "metadata": {},
   "outputs": [],
   "source": [
    "months = ['Jan', 'Feb', 'Mar', 'Apr', 'May', 'Jun', 'Jul', 'Aug', 'Sep', 'Oct', 'Nov', 'Dec']"
   ]
  },
  {
   "cell_type": "code",
   "execution_count": 13,
   "id": "66f64312-6e51-43ba-9933-ed591ce2fe58",
   "metadata": {},
   "outputs": [],
   "source": [
    "month_cat_price_df = pd.DataFrame(month_cat_price, columns=itemCategories, index=months)\n",
    "month_cat_item_df = pd.DataFrame(month_cat_item, columns=itemCategories, index=months)\n",
    "\n",
    "month_loc_price_df = pd.DataFrame(month_loc_price, columns=locations, index=months)\n",
    "month_loc_item_df = pd.DataFrame(month_loc_item, columns=locations, index=months)\n",
    "\n",
    "cat_loc_price_df = pd.DataFrame(cat_loc_price, columns=itemCategories, index=locations)\n",
    "cat_loc_item_df = pd.DataFrame(cat_loc_item, columns=itemCategories, index=locations)\n"
   ]
  },
  {
   "cell_type": "markdown",
   "id": "88f8193c-42b7-447c-acce-434a037cbb24",
   "metadata": {},
   "source": [
    "Our thought was it would be able to be easier to draw insights from the data by using a heat map to represent the values\n",
    "with colors so, we created heatmaps below."
   ]
  },
  {
   "cell_type": "code",
   "execution_count": 14,
   "id": "0529bbb7-59fe-4c51-a090-dd2699344f54",
   "metadata": {},
   "outputs": [
    {
     "data": {
      "image/png": "[encoded data removed]",
      "text/plain": [
       "<Figure size 1296x1584 with 12 Axes>"
      ]
     },
     "metadata": {
      "needs_background": "light"
     },
     "output_type": "display_data"
    }
   ],
   "source": [
    "fig, axes = plt.subplots(3, 2, figsize=(18, 22))\n",
    "\n",
    "fig.suptitle('Whole Foods Data Review')\n",
    "fig.tight_layout(pad=10.0)\n",
    "\n",
    "sns.heatmap(month_cat_price_df,ax=axes[0, 0],cmap='plasma')\n",
    "sns.heatmap(month_cat_item_df,ax=axes[0, 1],cmap='plasma')\n",
    "sns.heatmap(month_loc_price_df, ax=axes[1, 0],cmap='plasma')\n",
    "sns.heatmap(month_loc_item_df, ax=axes[1, 1],cmap='plasma')\n",
    "sns.heatmap(cat_loc_price_df, ax=axes[2, 0],cmap='plasma')\n",
    "sns.heatmap(cat_loc_item_df, ax=axes[2, 1],cmap='plasma')\n",
    "axes[0, 0].title.set_text('Month vs. Category Price')\n",
    "axes[0, 1].title.set_text('Month vs. Category Item')\n",
    "axes[1, 0].title.set_text('Month vs. Location Price')\n",
    "axes[1, 1].title.set_text('Month vs. Location Item')\n",
    "axes[2, 0].title.set_text('Category vs. Location Price')\n",
    "axes[2, 1].title.set_text('Category vs. Location Item')"
   ]
  },
  {
   "cell_type": "markdown",
   "id": "4c7e21b0-ba6c-4b9a-864e-d55e46b2a6d5",
   "metadata": {},
   "source": [
    "### Interesting Insights from the Data\n",
    "-> From the Month vs. Category visual aides we find that Meat and Beer are strong during the summer months.\n",
    "\n",
    "-> From the Month vs. Location visual aides we find that highlands ranch is our largest revenue generator through out the year and overall stores are busier based on sales and products sold in the summer months.\n",
    "\n",
    "-> From the Category vs. Location visual aides we find that highlands ranch sells the most beer and at a high price. It is interesting to find that both CastleRock and SouthGlenn sell more less expensive beer."
   ]
  }
 ],
 "metadata": {
  "kernelspec": {
   "display_name": "Python 3 (ipykernel)",
   "language": "python",
   "name": "python3"
  },
  "language_info": {
   "codemirror_mode": {
    "name": "ipython",
    "version": 3
   },
   "file_extension": ".py",
   "mimetype": "text/x-python",
   "name": "python",
   "nbconvert_exporter": "python",
   "pygments_lexer": "ipython3",
   "version": "3.8.10"
  }
 },
 "nbformat": 4,
 "nbformat_minor": 5
}
