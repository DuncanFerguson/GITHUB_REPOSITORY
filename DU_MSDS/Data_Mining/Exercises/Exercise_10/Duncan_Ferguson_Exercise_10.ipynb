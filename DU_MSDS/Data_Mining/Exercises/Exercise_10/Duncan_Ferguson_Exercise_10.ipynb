{
 "cells": [
  {
   "cell_type": "markdown",
   "source": [
    "Student: Duncan Ferguson <br>\n",
    "Student Id: 871641260 <br>\n",
    "Class: Comp 4431-1 <br>\n",
    "Assignment: Exercise 10 <br>\n",
    "Date: 11/20/2021 <br>\n",
    "Group: Name: Broken Toe <br>\n",
    "Group Members: Emma Bright, Mike Santoro <br>\n",
    "\n",
    "## Exercise 10\n",
    "### Part 1:PCA\n",
    " Principle Component Analysis (PCA) can be used to reduce the time needed to build machine learning models. You are\n",
    " to apply PCA the weather prediction data set using GausianNP in sklearn ash show in the reading for today\n",
    "\n",
    "First create a table (or chart) of the explained_variance_ratio_+ for the data set. Then run your models\n",
    "for 1,2,3,4,5,6,7 and all components. Create a table (or chart) showing the accuracy as a function of the number of\n",
    "components.\n",
    "\n",
    "What to turn in: A pdf file containing:\n",
    "- Your table/chart for explained_variance_ratio_\n",
    "- Your Table/chart for accuracy for the various number of components, including for the full set of components\n",
    "- A written answer to: Based on this, how many components do you recommend using for constructing the GaussianNB model\n",
    "for this data set?"
   ],
   "metadata": {
    "collapsed": false,
    "pycharm": {
     "name": "#%% md\n"
    }
   }
  },
  {
   "cell_type": "code",
   "execution_count": 178,
   "outputs": [],
   "source": [
    "# importing Necessary Libraries\n",
    "import pandas as pd\n",
    "from sklearn.naive_bayes import *\n",
    "from sklearn.metrics import *\n",
    "from sklearn.model_selection import train_test_split\n",
    "from sklearn.inspection import permutation_importance\n",
    "from sklearn.decomposition import PCA\n",
    "from sklearn.cluster import KMeans\n",
    "from sklearn.cluster import DBSCAN"
   ],
   "metadata": {
    "collapsed": false,
    "pycharm": {
     "name": "#%%\n"
    }
   }
  },
  {
   "cell_type": "markdown",
   "source": [
    "Create a function to perform the Gaussian NB machine learning algorithm"
   ],
   "metadata": {
    "collapsed": false,
    "pycharm": {
     "name": "#%% md\n"
    }
   }
  },
  {
   "cell_type": "code",
   "execution_count": 179,
   "outputs": [],
   "source": [
    "def runGaussianNB(x_train, x_test, y_train, y_test):\n",
    "\tglobal gaussianNB_predicted\n",
    "\tmodel = GaussianNB()\n",
    "\tmodel.fit(x_train, y_train)\n",
    "\tgaussianNB_predicted = model.predict(x_test)\n",
    "\taccuracy = accuracy_score(y_test, gaussianNB_predicted)\n",
    "\timps = permutation_importance(model, x_test, y_test)"
   ],
   "metadata": {
    "collapsed": false,
    "pycharm": {
     "name": "#%%\n"
    }
   }
  },
  {
   "cell_type": "markdown",
   "source": [
    "Reading in the weather data"
   ],
   "metadata": {
    "collapsed": false,
    "pycharm": {
     "name": "#%% md\n"
    }
   }
  },
  {
   "cell_type": "code",
   "execution_count": 180,
   "outputs": [
    {
     "data": {
      "text/plain": "   Location  MinTemp  MaxTemp  Rainfall  WindGustDir  WindGustSpeed  \\\n0         2     13.4     22.9       0.6           13           44.0   \n1         2      7.4     25.1       0.0           14           44.0   \n2         2     12.9     25.7       0.0           15           46.0   \n3         2      9.2     28.0       0.0            4           24.0   \n4         2     17.5     32.3       1.0           13           41.0   \n\n   WindDir9am  WindDir3pm  WindSpeed9am  WindSpeed3pm  Humidity9am  \\\n0          13          14          20.0          24.0         71.0   \n1           6          15           4.0          22.0         44.0   \n2          13          15          19.0          26.0         38.0   \n3           9           0          11.0           9.0         45.0   \n4           1           7           7.0          20.0         82.0   \n\n   Humidity3pm  Pressure9am  Pressure3pm  Cloud9am  Cloud3pm  Temp9am  \\\n0         22.0       1007.7       1007.1  8.000000  4.503167     16.9   \n1         25.0       1010.6       1007.8  4.437189  4.503167     17.2   \n2         30.0       1007.6       1008.7  4.437189  2.000000     21.0   \n3         16.0       1017.6       1012.8  4.437189  4.503167     18.1   \n4         33.0       1010.8       1006.0  7.000000  8.000000     17.8   \n\n   Temp3pm  RainToday  RainTomorrow  \n0     21.8        0.0             0  \n1     24.3        0.0             0  \n2     23.2        0.0             0  \n3     26.5        0.0             0  \n4     29.7        0.0             0  ",
      "text/html": "<div>\n<style scoped>\n    .dataframe tbody tr th:only-of-type {\n        vertical-align: middle;\n    }\n\n    .dataframe tbody tr th {\n        vertical-align: top;\n    }\n\n    .dataframe thead th {\n        text-align: right;\n    }\n</style>\n<table border=\"1\" class=\"dataframe\">\n  <thead>\n    <tr style=\"text-align: right;\">\n      <th></th>\n      <th>Location</th>\n      <th>MinTemp</th>\n      <th>MaxTemp</th>\n      <th>Rainfall</th>\n      <th>WindGustDir</th>\n      <th>WindGustSpeed</th>\n      <th>WindDir9am</th>\n      <th>WindDir3pm</th>\n      <th>WindSpeed9am</th>\n      <th>WindSpeed3pm</th>\n      <th>Humidity9am</th>\n      <th>Humidity3pm</th>\n      <th>Pressure9am</th>\n      <th>Pressure3pm</th>\n      <th>Cloud9am</th>\n      <th>Cloud3pm</th>\n      <th>Temp9am</th>\n      <th>Temp3pm</th>\n      <th>RainToday</th>\n      <th>RainTomorrow</th>\n    </tr>\n  </thead>\n  <tbody>\n    <tr>\n      <th>0</th>\n      <td>2</td>\n      <td>13.4</td>\n      <td>22.9</td>\n      <td>0.6</td>\n      <td>13</td>\n      <td>44.0</td>\n      <td>13</td>\n      <td>14</td>\n      <td>20.0</td>\n      <td>24.0</td>\n      <td>71.0</td>\n      <td>22.0</td>\n      <td>1007.7</td>\n      <td>1007.1</td>\n      <td>8.000000</td>\n      <td>4.503167</td>\n      <td>16.9</td>\n      <td>21.8</td>\n      <td>0.0</td>\n      <td>0</td>\n    </tr>\n    <tr>\n      <th>1</th>\n      <td>2</td>\n      <td>7.4</td>\n      <td>25.1</td>\n      <td>0.0</td>\n      <td>14</td>\n      <td>44.0</td>\n      <td>6</td>\n      <td>15</td>\n      <td>4.0</td>\n      <td>22.0</td>\n      <td>44.0</td>\n      <td>25.0</td>\n      <td>1010.6</td>\n      <td>1007.8</td>\n      <td>4.437189</td>\n      <td>4.503167</td>\n      <td>17.2</td>\n      <td>24.3</td>\n      <td>0.0</td>\n      <td>0</td>\n    </tr>\n    <tr>\n      <th>2</th>\n      <td>2</td>\n      <td>12.9</td>\n      <td>25.7</td>\n      <td>0.0</td>\n      <td>15</td>\n      <td>46.0</td>\n      <td>13</td>\n      <td>15</td>\n      <td>19.0</td>\n      <td>26.0</td>\n      <td>38.0</td>\n      <td>30.0</td>\n      <td>1007.6</td>\n      <td>1008.7</td>\n      <td>4.437189</td>\n      <td>2.000000</td>\n      <td>21.0</td>\n      <td>23.2</td>\n      <td>0.0</td>\n      <td>0</td>\n    </tr>\n    <tr>\n      <th>3</th>\n      <td>2</td>\n      <td>9.2</td>\n      <td>28.0</td>\n      <td>0.0</td>\n      <td>4</td>\n      <td>24.0</td>\n      <td>9</td>\n      <td>0</td>\n      <td>11.0</td>\n      <td>9.0</td>\n      <td>45.0</td>\n      <td>16.0</td>\n      <td>1017.6</td>\n      <td>1012.8</td>\n      <td>4.437189</td>\n      <td>4.503167</td>\n      <td>18.1</td>\n      <td>26.5</td>\n      <td>0.0</td>\n      <td>0</td>\n    </tr>\n    <tr>\n      <th>4</th>\n      <td>2</td>\n      <td>17.5</td>\n      <td>32.3</td>\n      <td>1.0</td>\n      <td>13</td>\n      <td>41.0</td>\n      <td>1</td>\n      <td>7</td>\n      <td>7.0</td>\n      <td>20.0</td>\n      <td>82.0</td>\n      <td>33.0</td>\n      <td>1010.8</td>\n      <td>1006.0</td>\n      <td>7.000000</td>\n      <td>8.000000</td>\n      <td>17.8</td>\n      <td>29.7</td>\n      <td>0.0</td>\n      <td>0</td>\n    </tr>\n  </tbody>\n</table>\n</div>"
     },
     "execution_count": 180,
     "metadata": {},
     "output_type": "execute_result"
    }
   ],
   "source": [
    "df = pd.read_csv('cleanInfile.csv')\n",
    "df.head()"
   ],
   "metadata": {
    "collapsed": false,
    "pycharm": {
     "name": "#%%\n"
    }
   }
  },
  {
   "cell_type": "code",
   "execution_count": 181,
   "outputs": [
    {
     "name": "stdout",
     "output_type": "stream",
     "text": [
      "<class 'pandas.core.frame.DataFrame'>\n",
      "RangeIndex: 142193 entries, 0 to 142192\n",
      "Data columns (total 20 columns):\n",
      " #   Column         Non-Null Count   Dtype  \n",
      "---  ------         --------------   -----  \n",
      " 0   Location       142193 non-null  int64  \n",
      " 1   MinTemp        142193 non-null  float64\n",
      " 2   MaxTemp        142193 non-null  float64\n",
      " 3   Rainfall       142193 non-null  float64\n",
      " 4   WindGustDir    142193 non-null  int64  \n",
      " 5   WindGustSpeed  142193 non-null  float64\n",
      " 6   WindDir9am     142193 non-null  int64  \n",
      " 7   WindDir3pm     142193 non-null  int64  \n",
      " 8   WindSpeed9am   142193 non-null  float64\n",
      " 9   WindSpeed3pm   142193 non-null  float64\n",
      " 10  Humidity9am    142193 non-null  float64\n",
      " 11  Humidity3pm    142193 non-null  float64\n",
      " 12  Pressure9am    142193 non-null  float64\n",
      " 13  Pressure3pm    142193 non-null  float64\n",
      " 14  Cloud9am       142193 non-null  float64\n",
      " 15  Cloud3pm       142193 non-null  float64\n",
      " 16  Temp9am        142193 non-null  float64\n",
      " 17  Temp3pm        142193 non-null  float64\n",
      " 18  RainToday      142193 non-null  float64\n",
      " 19  RainTomorrow   142193 non-null  int64  \n",
      "dtypes: float64(15), int64(5)\n",
      "memory usage: 21.7 MB\n"
     ]
    }
   ],
   "source": [
    "df.info()"
   ],
   "metadata": {
    "collapsed": false,
    "pycharm": {
     "name": "#%%\n"
    }
   }
  },
  {
   "cell_type": "markdown",
   "source": [
    "Create a table of the Explained variance ratio for the data Set"
   ],
   "metadata": {
    "collapsed": false,
    "pycharm": {
     "name": "#%% md\n"
    }
   }
  },
  {
   "cell_type": "code",
   "execution_count": 182,
   "outputs": [
    {
     "data": {
      "text/plain": "    Explained variance Ratio\n0                   0.407655\n1                   0.169948\n2                   0.116532\n3                   0.082357\n4                   0.065879\n5                   0.038231\n6                   0.032713\n7                   0.023525\n8                   0.020696\n9                   0.017119\n10                  0.009312\n11                  0.005776\n12                  0.003771\n13                  0.002942\n14                  0.001183\n15                  0.000945\n16                  0.000707\n17                  0.000648\n18                  0.000061",
      "text/html": "<div>\n<style scoped>\n    .dataframe tbody tr th:only-of-type {\n        vertical-align: middle;\n    }\n\n    .dataframe tbody tr th {\n        vertical-align: top;\n    }\n\n    .dataframe thead th {\n        text-align: right;\n    }\n</style>\n<table border=\"1\" class=\"dataframe\">\n  <thead>\n    <tr style=\"text-align: right;\">\n      <th></th>\n      <th>Explained variance Ratio</th>\n    </tr>\n  </thead>\n  <tbody>\n    <tr>\n      <th>0</th>\n      <td>0.407655</td>\n    </tr>\n    <tr>\n      <th>1</th>\n      <td>0.169948</td>\n    </tr>\n    <tr>\n      <th>2</th>\n      <td>0.116532</td>\n    </tr>\n    <tr>\n      <th>3</th>\n      <td>0.082357</td>\n    </tr>\n    <tr>\n      <th>4</th>\n      <td>0.065879</td>\n    </tr>\n    <tr>\n      <th>5</th>\n      <td>0.038231</td>\n    </tr>\n    <tr>\n      <th>6</th>\n      <td>0.032713</td>\n    </tr>\n    <tr>\n      <th>7</th>\n      <td>0.023525</td>\n    </tr>\n    <tr>\n      <th>8</th>\n      <td>0.020696</td>\n    </tr>\n    <tr>\n      <th>9</th>\n      <td>0.017119</td>\n    </tr>\n    <tr>\n      <th>10</th>\n      <td>0.009312</td>\n    </tr>\n    <tr>\n      <th>11</th>\n      <td>0.005776</td>\n    </tr>\n    <tr>\n      <th>12</th>\n      <td>0.003771</td>\n    </tr>\n    <tr>\n      <th>13</th>\n      <td>0.002942</td>\n    </tr>\n    <tr>\n      <th>14</th>\n      <td>0.001183</td>\n    </tr>\n    <tr>\n      <th>15</th>\n      <td>0.000945</td>\n    </tr>\n    <tr>\n      <th>16</th>\n      <td>0.000707</td>\n    </tr>\n    <tr>\n      <th>17</th>\n      <td>0.000648</td>\n    </tr>\n    <tr>\n      <th>18</th>\n      <td>0.000061</td>\n    </tr>\n  </tbody>\n</table>\n</div>"
     },
     "execution_count": 182,
     "metadata": {},
     "output_type": "execute_result"
    }
   ],
   "source": [
    "Y = df['RainTomorrow']\n",
    "df2 = df.drop('RainTomorrow', axis=1)\n",
    "\n",
    "x_train, x_test, y_train, y_test = train_test_split(df2, Y, test_size=0.20, random_state=1)\n",
    "s_x_train, s_x_test, s_y_train, s_y_test = x_train, x_test, y_train, y_test\n",
    "\n",
    "runGaussianNB(x_train, x_test, y_train, y_test)\n",
    "\n",
    "pca = PCA()\n",
    "pca_x_train = pca.fit_transform(x_train)\n",
    "pca_x_test = pca.fit_transform(x_test)\n",
    "explained_variance = pca.explained_variance_ratio_\n",
    "explained_variance_table = pd.DataFrame(explained_variance, columns=[\"Explained variance Ratio\"])\n",
    "explained_variance_table"
   ],
   "metadata": {
    "collapsed": false,
    "pycharm": {
     "name": "#%%\n"
    }
   }
  },
  {
   "cell_type": "code",
   "execution_count": 183,
   "outputs": [
    {
     "data": {
      "text/plain": "1.0"
     },
     "execution_count": 183,
     "metadata": {},
     "output_type": "execute_result"
    }
   ],
   "source": [
    "total = explained_variance_table[\"Explained variance Ratio\"].sum()\n",
    "total"
   ],
   "metadata": {
    "collapsed": false,
    "pycharm": {
     "name": "#%%\n"
    }
   }
  },
  {
   "cell_type": "markdown",
   "source": [
    "Run the Gaussian NB model for 1,2,3,4,5,6,7,8 and all components"
   ],
   "metadata": {
    "collapsed": false,
    "pycharm": {
     "name": "#%% md\n"
    }
   }
  },
  {
   "cell_type": "code",
   "execution_count": 184,
   "outputs": [
    {
     "data": {
      "text/plain": "  Number of Components  Accuracy\n0                  All  0.812581\n1                    1  0.798375\n2                    2  0.824994\n3                    3  0.825381\n4                    4  0.830092\n5                    5  0.829882\n6                    6  0.817645\n7                    7  0.813355\n8                    8  0.810964",
      "text/html": "<div>\n<style scoped>\n    .dataframe tbody tr th:only-of-type {\n        vertical-align: middle;\n    }\n\n    .dataframe tbody tr th {\n        vertical-align: top;\n    }\n\n    .dataframe thead th {\n        text-align: right;\n    }\n</style>\n<table border=\"1\" class=\"dataframe\">\n  <thead>\n    <tr style=\"text-align: right;\">\n      <th></th>\n      <th>Number of Components</th>\n      <th>Accuracy</th>\n    </tr>\n  </thead>\n  <tbody>\n    <tr>\n      <th>0</th>\n      <td>All</td>\n      <td>0.812581</td>\n    </tr>\n    <tr>\n      <th>1</th>\n      <td>1</td>\n      <td>0.798375</td>\n    </tr>\n    <tr>\n      <th>2</th>\n      <td>2</td>\n      <td>0.824994</td>\n    </tr>\n    <tr>\n      <th>3</th>\n      <td>3</td>\n      <td>0.825381</td>\n    </tr>\n    <tr>\n      <th>4</th>\n      <td>4</td>\n      <td>0.830092</td>\n    </tr>\n    <tr>\n      <th>5</th>\n      <td>5</td>\n      <td>0.829882</td>\n    </tr>\n    <tr>\n      <th>6</th>\n      <td>6</td>\n      <td>0.817645</td>\n    </tr>\n    <tr>\n      <th>7</th>\n      <td>7</td>\n      <td>0.813355</td>\n    </tr>\n    <tr>\n      <th>8</th>\n      <td>8</td>\n      <td>0.810964</td>\n    </tr>\n  </tbody>\n</table>\n</div>"
     },
     "execution_count": 184,
     "metadata": {},
     "output_type": "execute_result"
    }
   ],
   "source": [
    "accuracy_list = []\n",
    "x_train, x_test = s_x_train, s_x_test\n",
    "\n",
    "# Run Gaussian with all components\n",
    "runGaussianNB(x_train, x_test, y_train, y_test)\n",
    "accuracy_list.append(['All', accuracy_score(y_test, gaussianNB_predicted)])\n",
    "\n",
    "# Run with 1,2,3,4,5,6,7,8\n",
    "for i in range(1,9):\n",
    "\tpca= PCA(n_components=i, random_state=42)\n",
    "\tx_train = pca.fit_transform(s_x_train)\n",
    "\tx_test = pca.fit_transform(s_x_test)\n",
    "\trunGaussianNB(x_train, x_test, y_train, y_test)\n",
    "\taccuracy_list.append([str(i), accuracy_score(y_test, gaussianNB_predicted)])\n",
    "\n",
    "result = pd.DataFrame(accuracy_list, columns=[\"Number of Components\", \"Accuracy\"])\n",
    "result"
   ],
   "metadata": {
    "collapsed": false,
    "pycharm": {
     "name": "#%%\n"
    }
   }
  },
  {
   "cell_type": "markdown",
   "source": [
    "Based on this, how many components do you recommend using for constructing the GausianNB model for this data set?\n",
    "\n",
    "For this data set I recommend using 4 components for the Gaussian Naive Bayes model. This is because it has the highest\n",
    " level of accuracy"
   ],
   "metadata": {
    "collapsed": false,
    "pycharm": {
     "name": "#%% md\n"
    }
   }
  },
  {
   "cell_type": "code",
   "execution_count": 185,
   "outputs": [
    {
     "data": {
      "text/plain": "  Number of Components  Accuracy\n4                    4  0.830092",
      "text/html": "<div>\n<style scoped>\n    .dataframe tbody tr th:only-of-type {\n        vertical-align: middle;\n    }\n\n    .dataframe tbody tr th {\n        vertical-align: top;\n    }\n\n    .dataframe thead th {\n        text-align: right;\n    }\n</style>\n<table border=\"1\" class=\"dataframe\">\n  <thead>\n    <tr style=\"text-align: right;\">\n      <th></th>\n      <th>Number of Components</th>\n      <th>Accuracy</th>\n    </tr>\n  </thead>\n  <tbody>\n    <tr>\n      <th>4</th>\n      <td>4</td>\n      <td>0.830092</td>\n    </tr>\n  </tbody>\n</table>\n</div>"
     },
     "execution_count": 185,
     "metadata": {},
     "output_type": "execute_result"
    }
   ],
   "source": [
    "result.sort_values('Accuracy', ascending=False).head(1)"
   ],
   "metadata": {
    "collapsed": false,
    "pycharm": {
     "name": "#%%\n"
    }
   }
  },
  {
   "cell_type": "markdown",
   "source": [
    "### Part 2: Clustering Quality\n",
    "Apply kmeans and dbmeans clustering to these labeled data sets:\n",
    "outfile1.csv <br>\n",
    "outfile2.csv <br>\n",
    "outfile3.csv <br>\n",
    "\n",
    "The first data set contains data from cluster 1, the second from cluster 2, and the third from cluster 3 <br>\n",
    "\n",
    "Calculate the following three metrics on the clustering for kmeans and dbscan:\n",
    "- homogeneity\n",
    "- completeness\n",
    "- adjusted_mutual_info_score\n",
    "\n",
    "What to turn in (A pdf file containing):\n",
    "- a Table of your metrics\n",
    "- a description of what these metrics tell you about the clustering?"
   ],
   "metadata": {
    "collapsed": false,
    "pycharm": {
     "name": "#%% md\n"
    }
   }
  },
  {
   "cell_type": "code",
   "execution_count": 186,
   "outputs": [],
   "source": [
    "numClusters = 3\n",
    "\n",
    "outfile = pd.read_csv('outfile.csv')\n",
    "labels1 = pd.read_csv('outfile1.csv')\n",
    "labels2 = pd.read_csv('outfile2.csv')\n",
    "labels3 = pd.read_csv('outfile3.csv')\n",
    "\n",
    "kmeans = KMeans(n_clusters=numClusters, random_state=0).fit(outfile)\n",
    "db = DBSCAN(eps=1.5, min_samples=4).fit(outfile)"
   ],
   "metadata": {
    "collapsed": false,
    "pycharm": {
     "name": "#%%\n"
    }
   }
  },
  {
   "cell_type": "code",
   "execution_count": 187,
   "outputs": [
    {
     "data": {
      "text/plain": "          a1         a2  predKM  predDB\n0  18.900508  17.738116       0       0\n1   9.355166  32.029783       2       1\n2  20.111226  10.921999       0       0\n3  30.752270  21.326611       1       2\n4   9.816053  31.332579       2       1",
      "text/html": "<div>\n<style scoped>\n    .dataframe tbody tr th:only-of-type {\n        vertical-align: middle;\n    }\n\n    .dataframe tbody tr th {\n        vertical-align: top;\n    }\n\n    .dataframe thead th {\n        text-align: right;\n    }\n</style>\n<table border=\"1\" class=\"dataframe\">\n  <thead>\n    <tr style=\"text-align: right;\">\n      <th></th>\n      <th>a1</th>\n      <th>a2</th>\n      <th>predKM</th>\n      <th>predDB</th>\n    </tr>\n  </thead>\n  <tbody>\n    <tr>\n      <th>0</th>\n      <td>18.900508</td>\n      <td>17.738116</td>\n      <td>0</td>\n      <td>0</td>\n    </tr>\n    <tr>\n      <th>1</th>\n      <td>9.355166</td>\n      <td>32.029783</td>\n      <td>2</td>\n      <td>1</td>\n    </tr>\n    <tr>\n      <th>2</th>\n      <td>20.111226</td>\n      <td>10.921999</td>\n      <td>0</td>\n      <td>0</td>\n    </tr>\n    <tr>\n      <th>3</th>\n      <td>30.752270</td>\n      <td>21.326611</td>\n      <td>1</td>\n      <td>2</td>\n    </tr>\n    <tr>\n      <th>4</th>\n      <td>9.816053</td>\n      <td>31.332579</td>\n      <td>2</td>\n      <td>1</td>\n    </tr>\n  </tbody>\n</table>\n</div>"
     },
     "execution_count": 187,
     "metadata": {},
     "output_type": "execute_result"
    }
   ],
   "source": [
    "outfile['predKM'] = kmeans.labels_\n",
    "outfile['predDB'] = db.labels_\n",
    "outfile.head()"
   ],
   "metadata": {
    "collapsed": false,
    "pycharm": {
     "name": "#%%\n"
    }
   }
  },
  {
   "cell_type": "code",
   "execution_count": 188,
   "outputs": [
    {
     "data": {
      "text/plain": "         a1         a2  actual\n0  9.355166  32.029783       0\n1  9.816053  31.332579       0\n2  9.125756   4.129040       0\n3  8.632544  36.134807       0\n4  9.616329  27.776006       0",
      "text/html": "<div>\n<style scoped>\n    .dataframe tbody tr th:only-of-type {\n        vertical-align: middle;\n    }\n\n    .dataframe tbody tr th {\n        vertical-align: top;\n    }\n\n    .dataframe thead th {\n        text-align: right;\n    }\n</style>\n<table border=\"1\" class=\"dataframe\">\n  <thead>\n    <tr style=\"text-align: right;\">\n      <th></th>\n      <th>a1</th>\n      <th>a2</th>\n      <th>actual</th>\n    </tr>\n  </thead>\n  <tbody>\n    <tr>\n      <th>0</th>\n      <td>9.355166</td>\n      <td>32.029783</td>\n      <td>0</td>\n    </tr>\n    <tr>\n      <th>1</th>\n      <td>9.816053</td>\n      <td>31.332579</td>\n      <td>0</td>\n    </tr>\n    <tr>\n      <th>2</th>\n      <td>9.125756</td>\n      <td>4.129040</td>\n      <td>0</td>\n    </tr>\n    <tr>\n      <th>3</th>\n      <td>8.632544</td>\n      <td>36.134807</td>\n      <td>0</td>\n    </tr>\n    <tr>\n      <th>4</th>\n      <td>9.616329</td>\n      <td>27.776006</td>\n      <td>0</td>\n    </tr>\n  </tbody>\n</table>\n</div>"
     },
     "execution_count": 188,
     "metadata": {},
     "output_type": "execute_result"
    }
   ],
   "source": [
    "labels1['actual'] = 0\n",
    "labels2['actual'] = 1\n",
    "labels3['actual'] = 2\n",
    "labels = labels1.append(labels2, ignore_index = True)\n",
    "labels = labels.append(labels3, ignore_index = True)\n",
    "labels.head()"
   ],
   "metadata": {
    "collapsed": false,
    "pycharm": {
     "name": "#%%\n"
    }
   }
  },
  {
   "cell_type": "code",
   "execution_count": 189,
   "outputs": [
    {
     "data": {
      "text/plain": "            a1         a2  actual  predKM  predDB\n0     9.355166  32.029783       0       2       1\n1     9.816053  31.332579       0       2       1\n2     9.125756   4.129040       0       0       1\n3     8.632544  36.134807       0       2       1\n4     9.616329  27.776006       0       2       1\n..         ...        ...     ...     ...     ...\n995  29.860049  19.466960       2       1       2\n996  28.471657   5.143157       2       0       2\n997  30.043580  12.106201       2       0       2\n998  28.667936  17.360923       2       0       2\n999  30.433842  29.338134       2       1       2\n\n[1000 rows x 5 columns]",
      "text/html": "<div>\n<style scoped>\n    .dataframe tbody tr th:only-of-type {\n        vertical-align: middle;\n    }\n\n    .dataframe tbody tr th {\n        vertical-align: top;\n    }\n\n    .dataframe thead th {\n        text-align: right;\n    }\n</style>\n<table border=\"1\" class=\"dataframe\">\n  <thead>\n    <tr style=\"text-align: right;\">\n      <th></th>\n      <th>a1</th>\n      <th>a2</th>\n      <th>actual</th>\n      <th>predKM</th>\n      <th>predDB</th>\n    </tr>\n  </thead>\n  <tbody>\n    <tr>\n      <th>0</th>\n      <td>9.355166</td>\n      <td>32.029783</td>\n      <td>0</td>\n      <td>2</td>\n      <td>1</td>\n    </tr>\n    <tr>\n      <th>1</th>\n      <td>9.816053</td>\n      <td>31.332579</td>\n      <td>0</td>\n      <td>2</td>\n      <td>1</td>\n    </tr>\n    <tr>\n      <th>2</th>\n      <td>9.125756</td>\n      <td>4.129040</td>\n      <td>0</td>\n      <td>0</td>\n      <td>1</td>\n    </tr>\n    <tr>\n      <th>3</th>\n      <td>8.632544</td>\n      <td>36.134807</td>\n      <td>0</td>\n      <td>2</td>\n      <td>1</td>\n    </tr>\n    <tr>\n      <th>4</th>\n      <td>9.616329</td>\n      <td>27.776006</td>\n      <td>0</td>\n      <td>2</td>\n      <td>1</td>\n    </tr>\n    <tr>\n      <th>...</th>\n      <td>...</td>\n      <td>...</td>\n      <td>...</td>\n      <td>...</td>\n      <td>...</td>\n    </tr>\n    <tr>\n      <th>995</th>\n      <td>29.860049</td>\n      <td>19.466960</td>\n      <td>2</td>\n      <td>1</td>\n      <td>2</td>\n    </tr>\n    <tr>\n      <th>996</th>\n      <td>28.471657</td>\n      <td>5.143157</td>\n      <td>2</td>\n      <td>0</td>\n      <td>2</td>\n    </tr>\n    <tr>\n      <th>997</th>\n      <td>30.043580</td>\n      <td>12.106201</td>\n      <td>2</td>\n      <td>0</td>\n      <td>2</td>\n    </tr>\n    <tr>\n      <th>998</th>\n      <td>28.667936</td>\n      <td>17.360923</td>\n      <td>2</td>\n      <td>0</td>\n      <td>2</td>\n    </tr>\n    <tr>\n      <th>999</th>\n      <td>30.433842</td>\n      <td>29.338134</td>\n      <td>2</td>\n      <td>1</td>\n      <td>2</td>\n    </tr>\n  </tbody>\n</table>\n<p>1000 rows × 5 columns</p>\n</div>"
     },
     "execution_count": 189,
     "metadata": {},
     "output_type": "execute_result"
    }
   ],
   "source": [
    "df = pd.merge(labels, outfile,  how='left', left_on=['a1','a2'], right_on = ['a1','a2'])\n",
    "df"
   ],
   "metadata": {
    "collapsed": false,
    "pycharm": {
     "name": "#%%\n"
    }
   }
  },
  {
   "cell_type": "code",
   "execution_count": 190,
   "outputs": [
    {
     "name": "stdout",
     "output_type": "stream",
     "text": [
      "K-Means\n",
      "Homogenity Score: 0.3511815902654452\n",
      "Completeness Score: 0.36120342674835665\n",
      "Adjusted Mutual Info Score: 0.35492679063609317\n"
     ]
    }
   ],
   "source": [
    "print('K-Means')\n",
    "print(f'Homogenity Score: {homogeneity_score(df.actual.to_list(),df.predKM.to_list())}')\n",
    "print(f'Completeness Score: {completeness_score(df.actual.to_list(), df.predKM.to_list())}')\n",
    "print(f'Adjusted Mutual Info Score: {adjusted_mutual_info_score(df.actual.to_list(), df.predKM.to_list())}')\n"
   ],
   "metadata": {
    "collapsed": false,
    "pycharm": {
     "name": "#%%\n"
    }
   }
  },
  {
   "cell_type": "code",
   "execution_count": 191,
   "outputs": [
    {
     "name": "stdout",
     "output_type": "stream",
     "text": [
      "DB Scan\n",
      "Homogenity Score: 1.0\n",
      "Completeness Score: 0.99387940769096\n",
      "Adjusted Mutual Info Score: 0.9969216318008042\n"
     ]
    }
   ],
   "source": [
    "print('DB Scan')\n",
    "print(f\"Homogenity Score: {homogeneity_score(df.actual.to_list(),df.predDB.to_list())}\")\n",
    "print(f'Completeness Score: {completeness_score(df.actual.to_list(), df.predDB.to_list())}')\n",
    "print(f'Adjusted Mutual Info Score: {adjusted_mutual_info_score(df.actual.to_list(), df.predDB.to_list())}')"
   ],
   "metadata": {
    "collapsed": false,
    "pycharm": {
     "name": "#%%\n"
    }
   }
  },
  {
   "cell_type": "markdown",
   "source": [
    "A description of what these metrics tell you about the clustering?\n",
    "- Homogenity score: The measure that each cluster contains only members of a single class\n",
    "- Completeness Score: The Measure that all members of a given class are assigned to the same cluster.\n",
    "- Adjusted Mutual Info Score: The combination of the homogenity score and the completeness score. Because they are\n",
    "both bounded by 0.0 and above by 1.0 (higher is better)"
   ],
   "metadata": {
    "collapsed": false,
    "pycharm": {
     "name": "#%% md\n"
    }
   }
  }
 ],
 "metadata": {
  "kernelspec": {
   "name": "pycharm-865e1948",
   "language": "python",
   "display_name": "PyCharm (GITHUB_REPOSITORY)"
  },
  "language_info": {
   "codemirror_mode": {
    "name": "ipython",
    "version": 2
   },
   "file_extension": ".py",
   "mimetype": "text/x-python",
   "name": "python",
   "nbconvert_exporter": "python",
   "pygments_lexer": "ipython2",
   "version": "2.7.6"
  }
 },
 "nbformat": 4,
 "nbformat_minor": 0
}