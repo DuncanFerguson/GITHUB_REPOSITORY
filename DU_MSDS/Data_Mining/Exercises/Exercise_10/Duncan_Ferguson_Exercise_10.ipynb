{
 "cells": [
  {
   "cell_type": "markdown",
   "source": [
    "Student: Duncan Ferguson <br>\n",
    "Student Id: 871641260 <br>\n",
    "Class: Comp 4431-1 <br>\n",
    "Assignment: Exercise 10 <br>\n",
    "Date: 11/20/2021 <br>\n",
    "Group: Name: Broken Toe <br>\n",
    "Group Members: Emma Bright, Mike Santoro <br>\n",
    "\n",
    "## Exercise 10\n",
    "### Part 1:PCA\n",
    " Principle Component Analysis (PCA) can be used to reduce the time needed to build machine learning models. You are\n",
    " to apply PCA the weather prediction data set using GausianNP in sklearn ash show in the reading for today\n",
    "\n",
    "First create a table (or chart) of the explained_variance_ratio_+ for the data set. Then run your models\n",
    "for 1,2,3,4,5,6,7 and all components. Create a table (or chart) showing the accuracy as a function of the number of\n",
    "components.\n",
    "\n",
    "What to turn in: A pdf file containing:\n",
    "- Your table/chart for explained_variance_ratio_\n",
    "- Your Table/chart for accuracy for the various number of components, including for the full set of components\n",
    "- A written answer to: Based on this, how many components do you recommend using for constructing the GaussianNB model\n",
    "for this data set?"
   ],
   "metadata": {
    "collapsed": false,
    "pycharm": {
     "name": "#%% md\n"
    }
   }
  },
  {
   "cell_type": "code",
   "execution_count": 22,
   "outputs": [],
   "source": [
    "# importing Necessary Libraries\n",
    "import pandas as pd\n",
    "from sklearn.naive_bayes import *\n",
    "from sklearn.metrics import *\n",
    "from sklearn.model_selection import train_test_split\n",
    "from sklearn.inspection import permutation_importance\n",
    "from sklearn.decomposition import PCA\n",
    "from sklearn.cluster import KMeans\n",
    "from sklearn.cluster import DBSCAN"
   ],
   "metadata": {
    "collapsed": false,
    "pycharm": {
     "name": "#%%\n"
    }
   }
  },
  {
   "cell_type": "markdown",
   "source": [
    "Create a function to perform the Gaussian NB machine learning algorithm"
   ],
   "metadata": {
    "collapsed": false,
    "pycharm": {
     "name": "#%% md\n"
    }
   }
  },
  {
   "cell_type": "code",
   "execution_count": 23,
   "outputs": [],
   "source": [
    "def runGaussianNB(x_train, x_test, y_train, y_test):\n",
    "\tglobal gaussianNB_predicted\n",
    "\tmodel = GaussianNB()\n",
    "\tmodel.fit(x_train, y_train)\n",
    "\tgaussianNB_predicted = model.predict(x_test)\n",
    "\taccuracy = accuracy_score(y_test, gaussianNB_predicted)\n",
    "\timps = permutation_importance(model, x_test, y_test)"
   ],
   "metadata": {
    "collapsed": false,
    "pycharm": {
     "name": "#%%\n"
    }
   }
  },
  {
   "cell_type": "markdown",
   "source": [
    "Reading in the weather data"
   ],
   "metadata": {
    "collapsed": false,
    "pycharm": {
     "name": "#%% md\n"
    }
   }
  },
  {
   "cell_type": "code",
   "execution_count": 24,
   "outputs": [
    {
     "data": {
      "text/plain": "   Location  MinTemp  MaxTemp  Rainfall  WindGustDir  WindGustSpeed  \\\n0         2     13.4     22.9       0.6           13           44.0   \n1         2      7.4     25.1       0.0           14           44.0   \n2         2     12.9     25.7       0.0           15           46.0   \n3         2      9.2     28.0       0.0            4           24.0   \n4         2     17.5     32.3       1.0           13           41.0   \n\n   WindDir9am  WindDir3pm  WindSpeed9am  WindSpeed3pm  Humidity9am  \\\n0          13          14          20.0          24.0         71.0   \n1           6          15           4.0          22.0         44.0   \n2          13          15          19.0          26.0         38.0   \n3           9           0          11.0           9.0         45.0   \n4           1           7           7.0          20.0         82.0   \n\n   Humidity3pm  Pressure9am  Pressure3pm  Cloud9am  Cloud3pm  Temp9am  \\\n0         22.0       1007.7       1007.1  8.000000  4.503167     16.9   \n1         25.0       1010.6       1007.8  4.437189  4.503167     17.2   \n2         30.0       1007.6       1008.7  4.437189  2.000000     21.0   \n3         16.0       1017.6       1012.8  4.437189  4.503167     18.1   \n4         33.0       1010.8       1006.0  7.000000  8.000000     17.8   \n\n   Temp3pm  RainToday  RainTomorrow  \n0     21.8        0.0             0  \n1     24.3        0.0             0  \n2     23.2        0.0             0  \n3     26.5        0.0             0  \n4     29.7        0.0             0  ",
      "text/html": "<div>\n<style scoped>\n    .dataframe tbody tr th:only-of-type {\n        vertical-align: middle;\n    }\n\n    .dataframe tbody tr th {\n        vertical-align: top;\n    }\n\n    .dataframe thead th {\n        text-align: right;\n    }\n</style>\n<table border=\"1\" class=\"dataframe\">\n  <thead>\n    <tr style=\"text-align: right;\">\n      <th></th>\n      <th>Location</th>\n      <th>MinTemp</th>\n      <th>MaxTemp</th>\n      <th>Rainfall</th>\n      <th>WindGustDir</th>\n      <th>WindGustSpeed</th>\n      <th>WindDir9am</th>\n      <th>WindDir3pm</th>\n      <th>WindSpeed9am</th>\n      <th>WindSpeed3pm</th>\n      <th>Humidity9am</th>\n      <th>Humidity3pm</th>\n      <th>Pressure9am</th>\n      <th>Pressure3pm</th>\n      <th>Cloud9am</th>\n      <th>Cloud3pm</th>\n      <th>Temp9am</th>\n      <th>Temp3pm</th>\n      <th>RainToday</th>\n      <th>RainTomorrow</th>\n    </tr>\n  </thead>\n  <tbody>\n    <tr>\n      <th>0</th>\n      <td>2</td>\n      <td>13.4</td>\n      <td>22.9</td>\n      <td>0.6</td>\n      <td>13</td>\n      <td>44.0</td>\n      <td>13</td>\n      <td>14</td>\n      <td>20.0</td>\n      <td>24.0</td>\n      <td>71.0</td>\n      <td>22.0</td>\n      <td>1007.7</td>\n      <td>1007.1</td>\n      <td>8.000000</td>\n      <td>4.503167</td>\n      <td>16.9</td>\n      <td>21.8</td>\n      <td>0.0</td>\n      <td>0</td>\n    </tr>\n    <tr>\n      <th>1</th>\n      <td>2</td>\n      <td>7.4</td>\n      <td>25.1</td>\n      <td>0.0</td>\n      <td>14</td>\n      <td>44.0</td>\n      <td>6</td>\n      <td>15</td>\n      <td>4.0</td>\n      <td>22.0</td>\n      <td>44.0</td>\n      <td>25.0</td>\n      <td>1010.6</td>\n      <td>1007.8</td>\n      <td>4.437189</td>\n      <td>4.503167</td>\n      <td>17.2</td>\n      <td>24.3</td>\n      <td>0.0</td>\n      <td>0</td>\n    </tr>\n    <tr>\n      <th>2</th>\n      <td>2</td>\n      <td>12.9</td>\n      <td>25.7</td>\n      <td>0.0</td>\n      <td>15</td>\n      <td>46.0</td>\n      <td>13</td>\n      <td>15</td>\n      <td>19.0</td>\n      <td>26.0</td>\n      <td>38.0</td>\n      <td>30.0</td>\n      <td>1007.6</td>\n      <td>1008.7</td>\n      <td>4.437189</td>\n      <td>2.000000</td>\n      <td>21.0</td>\n      <td>23.2</td>\n      <td>0.0</td>\n      <td>0</td>\n    </tr>\n    <tr>\n      <th>3</th>\n      <td>2</td>\n      <td>9.2</td>\n      <td>28.0</td>\n      <td>0.0</td>\n      <td>4</td>\n      <td>24.0</td>\n      <td>9</td>\n      <td>0</td>\n      <td>11.0</td>\n      <td>9.0</td>\n      <td>45.0</td>\n      <td>16.0</td>\n      <td>1017.6</td>\n      <td>1012.8</td>\n      <td>4.437189</td>\n      <td>4.503167</td>\n      <td>18.1</td>\n      <td>26.5</td>\n      <td>0.0</td>\n      <td>0</td>\n    </tr>\n    <tr>\n      <th>4</th>\n      <td>2</td>\n      <td>17.5</td>\n      <td>32.3</td>\n      <td>1.0</td>\n      <td>13</td>\n      <td>41.0</td>\n      <td>1</td>\n      <td>7</td>\n      <td>7.0</td>\n      <td>20.0</td>\n      <td>82.0</td>\n      <td>33.0</td>\n      <td>1010.8</td>\n      <td>1006.0</td>\n      <td>7.000000</td>\n      <td>8.000000</td>\n      <td>17.8</td>\n      <td>29.7</td>\n      <td>0.0</td>\n      <td>0</td>\n    </tr>\n  </tbody>\n</table>\n</div>"
     },
     "execution_count": 24,
     "metadata": {},
     "output_type": "execute_result"
    }
   ],
   "source": [
    "df = pd.read_csv('cleanInfile.csv')\n",
    "df.head()"
   ],
   "metadata": {
    "collapsed": false,
    "pycharm": {
     "name": "#%%\n"
    }
   }
  },
  {
   "cell_type": "code",
   "execution_count": 30,
   "outputs": [
    {
     "name": "stdout",
     "output_type": "stream",
     "text": [
      "<class 'pandas.core.frame.DataFrame'>\n",
      "RangeIndex: 142193 entries, 0 to 142192\n",
      "Data columns (total 20 columns):\n",
      " #   Column         Non-Null Count   Dtype  \n",
      "---  ------         --------------   -----  \n",
      " 0   Location       142193 non-null  int64  \n",
      " 1   MinTemp        142193 non-null  float64\n",
      " 2   MaxTemp        142193 non-null  float64\n",
      " 3   Rainfall       142193 non-null  float64\n",
      " 4   WindGustDir    142193 non-null  int64  \n",
      " 5   WindGustSpeed  142193 non-null  float64\n",
      " 6   WindDir9am     142193 non-null  int64  \n",
      " 7   WindDir3pm     142193 non-null  int64  \n",
      " 8   WindSpeed9am   142193 non-null  float64\n",
      " 9   WindSpeed3pm   142193 non-null  float64\n",
      " 10  Humidity9am    142193 non-null  float64\n",
      " 11  Humidity3pm    142193 non-null  float64\n",
      " 12  Pressure9am    142193 non-null  float64\n",
      " 13  Pressure3pm    142193 non-null  float64\n",
      " 14  Cloud9am       142193 non-null  float64\n",
      " 15  Cloud3pm       142193 non-null  float64\n",
      " 16  Temp9am        142193 non-null  float64\n",
      " 17  Temp3pm        142193 non-null  float64\n",
      " 18  RainToday      142193 non-null  float64\n",
      " 19  RainTomorrow   142193 non-null  int64  \n",
      "dtypes: float64(15), int64(5)\n",
      "memory usage: 21.7 MB\n"
     ]
    }
   ],
   "source": [
    "df.info()"
   ],
   "metadata": {
    "collapsed": false,
    "pycharm": {
     "name": "#%%\n"
    }
   }
  },
  {
   "cell_type": "markdown",
   "source": [
    "Create a table of the Explained variance ratio for the data Set"
   ],
   "metadata": {
    "collapsed": false,
    "pycharm": {
     "name": "#%% md\n"
    }
   }
  },
  {
   "cell_type": "code",
   "execution_count": 37,
   "outputs": [
    {
     "ename": "TypeError",
     "evalue": "__init__() got an unexpected keyword argument 'header'",
     "output_type": "error",
     "traceback": [
      "\u001B[1;31m---------------------------------------------------------------------------\u001B[0m",
      "\u001B[1;31mTypeError\u001B[0m                                 Traceback (most recent call last)",
      "\u001B[1;32m~\\AppData\\Local\\Temp/ipykernel_13492/2811551881.py\u001B[0m in \u001B[0;36m<module>\u001B[1;34m\u001B[0m\n\u001B[0;32m     11\u001B[0m \u001B[0mpca_x_test\u001B[0m \u001B[1;33m=\u001B[0m \u001B[0mpca\u001B[0m\u001B[1;33m.\u001B[0m\u001B[0mfit_transform\u001B[0m\u001B[1;33m(\u001B[0m\u001B[0mx_test\u001B[0m\u001B[1;33m)\u001B[0m\u001B[1;33m\u001B[0m\u001B[1;33m\u001B[0m\u001B[0m\n\u001B[0;32m     12\u001B[0m \u001B[0mexplained_variance\u001B[0m \u001B[1;33m=\u001B[0m \u001B[0mpca\u001B[0m\u001B[1;33m.\u001B[0m\u001B[0mexplained_variance_ratio_\u001B[0m\u001B[1;33m\u001B[0m\u001B[1;33m\u001B[0m\u001B[0m\n\u001B[1;32m---> 13\u001B[1;33m \u001B[0mexplained_variance_table\u001B[0m \u001B[1;33m=\u001B[0m \u001B[0mpd\u001B[0m\u001B[1;33m.\u001B[0m\u001B[0mDataFrame\u001B[0m\u001B[1;33m(\u001B[0m\u001B[0mexplained_variance\u001B[0m\u001B[1;33m,\u001B[0m \u001B[0mheader\u001B[0m\u001B[1;33m=\u001B[0m\u001B[1;34m\"Explained Variance\"\u001B[0m\u001B[1;33m)\u001B[0m\u001B[1;33m\u001B[0m\u001B[1;33m\u001B[0m\u001B[0m\n\u001B[0m\u001B[0;32m     14\u001B[0m \u001B[0mexplained_variance_table\u001B[0m\u001B[1;33m\u001B[0m\u001B[1;33m\u001B[0m\u001B[0m\n\u001B[0;32m     15\u001B[0m \u001B[1;33m\u001B[0m\u001B[0m\n",
      "\u001B[1;31mTypeError\u001B[0m: __init__() got an unexpected keyword argument 'header'"
     ]
    }
   ],
   "source": [
    "Y = df['RainTomorrow']\n",
    "df2 = df.drop('RainTomorrow', axis=1)\n",
    "\n",
    "x_train, x_test, y_train, y_test = train_test_split(df2, Y, test_size=0.20, random_state=1)\n",
    "s_x_train, s_x_test, s_y_train, s_y_test = x_train, x_test, y_train, y_test\n",
    "\n",
    "runGaussianNB(x_train, x_test, y_train, y_test)\n",
    "\n",
    "pca = PCA()\n",
    "pca_x_train = pca.fit_transform(x_train)\n",
    "pca_x_test = pca.fit_transform(x_test)\n",
    "explained_variance = pca.explained_variance_ratio_\n",
    "explained_variance_table = pd.DataFrame(explained_variance)\n",
    "explained_variance_table"
   ],
   "metadata": {
    "collapsed": false,
    "pycharm": {
     "name": "#%%\n"
    }
   }
  },
  {
   "cell_type": "code",
   "execution_count": 34,
   "outputs": [
    {
     "name": "stdout",
     "output_type": "stream",
     "text": [
      "Explained Variance = \n"
     ]
    },
    {
     "data": {
      "text/plain": "array([4.07654647e-01, 1.69948241e-01, 1.16531623e-01, 8.23567947e-02,\n       6.58785819e-02, 3.82306636e-02, 3.27126462e-02, 2.35252950e-02,\n       2.06964561e-02, 1.71194122e-02, 9.31231902e-03, 5.77615443e-03,\n       3.77136678e-03, 2.94156034e-03, 1.18305227e-03, 9.45496544e-04,\n       7.07025622e-04, 6.47881113e-04, 6.07843930e-05])"
     },
     "execution_count": 34,
     "metadata": {},
     "output_type": "execute_result"
    }
   ],
   "source": [
    "print(\"Explained Variance = \")\n",
    "explained_variance"
   ],
   "metadata": {
    "collapsed": false,
    "pycharm": {
     "name": "#%%\n"
    }
   }
  },
  {
   "cell_type": "markdown",
   "source": [
    "Run the Gaussian NB model for 1,2,3,4,5,6,7,8 and all components"
   ],
   "metadata": {
    "collapsed": false,
    "pycharm": {
     "name": "#%% md\n"
    }
   }
  },
  {
   "cell_type": "code",
   "execution_count": 28,
   "outputs": [
    {
     "data": {
      "text/plain": "  Number of Components  Accuracy\n0                  All  0.812581\n1                    1  0.798375\n2                    2  0.824994\n3                    3  0.825381\n4                    4  0.830092\n5                    5  0.829882\n6                    6  0.817645\n7                    7  0.813355\n8                    8  0.810964",
      "text/html": "<div>\n<style scoped>\n    .dataframe tbody tr th:only-of-type {\n        vertical-align: middle;\n    }\n\n    .dataframe tbody tr th {\n        vertical-align: top;\n    }\n\n    .dataframe thead th {\n        text-align: right;\n    }\n</style>\n<table border=\"1\" class=\"dataframe\">\n  <thead>\n    <tr style=\"text-align: right;\">\n      <th></th>\n      <th>Number of Components</th>\n      <th>Accuracy</th>\n    </tr>\n  </thead>\n  <tbody>\n    <tr>\n      <th>0</th>\n      <td>All</td>\n      <td>0.812581</td>\n    </tr>\n    <tr>\n      <th>1</th>\n      <td>1</td>\n      <td>0.798375</td>\n    </tr>\n    <tr>\n      <th>2</th>\n      <td>2</td>\n      <td>0.824994</td>\n    </tr>\n    <tr>\n      <th>3</th>\n      <td>3</td>\n      <td>0.825381</td>\n    </tr>\n    <tr>\n      <th>4</th>\n      <td>4</td>\n      <td>0.830092</td>\n    </tr>\n    <tr>\n      <th>5</th>\n      <td>5</td>\n      <td>0.829882</td>\n    </tr>\n    <tr>\n      <th>6</th>\n      <td>6</td>\n      <td>0.817645</td>\n    </tr>\n    <tr>\n      <th>7</th>\n      <td>7</td>\n      <td>0.813355</td>\n    </tr>\n    <tr>\n      <th>8</th>\n      <td>8</td>\n      <td>0.810964</td>\n    </tr>\n  </tbody>\n</table>\n</div>"
     },
     "execution_count": 28,
     "metadata": {},
     "output_type": "execute_result"
    }
   ],
   "source": [
    "accuracy_list = []\n",
    "x_train, x_test = s_x_train, s_x_test\n",
    "\n",
    "# Run Gaussian with all components\n",
    "runGaussianNB(x_train, x_test, y_train, y_test)\n",
    "accuracy_list.append(['All', accuracy_score(y_test, gaussianNB_predicted)])\n",
    "\n",
    "# Run with 1,2,3,4,5,6,7,8\n",
    "for i in range(1,9):\n",
    "\tpca= PCA(n_components=i)\n",
    "\tx_train = pca.fit_transform(s_x_train)\n",
    "\tx_test = pca.fit_transform(s_x_test)\n",
    "\trunGaussianNB(x_train, x_test, y_train, y_test)\n",
    "\taccuracy_list.append([str(i), accuracy_score(y_test, gaussianNB_predicted)])\n",
    "\n",
    "result = pd.DataFrame(accuracy_list, columns=[\"Number of Components\", \"Accuracy\"])\n",
    "result"
   ],
   "metadata": {
    "collapsed": false,
    "pycharm": {
     "name": "#%%\n"
    }
   }
  },
  {
   "cell_type": "markdown",
   "source": [
    "Based on this, how many components do you recommend using for constructing the GausianNB model for this data set?\n",
    "\n",
    "For this data set I recommend using 4 components for the Gaussian Naive Bayes model. This is because it has the highest\n",
    " level of accuracy"
   ],
   "metadata": {
    "collapsed": false,
    "pycharm": {
     "name": "#%% md\n"
    }
   }
  },
  {
   "cell_type": "code",
   "execution_count": 29,
   "outputs": [
    {
     "data": {
      "text/plain": "  Number of Components  Accuracy\n4                    4  0.830092",
      "text/html": "<div>\n<style scoped>\n    .dataframe tbody tr th:only-of-type {\n        vertical-align: middle;\n    }\n\n    .dataframe tbody tr th {\n        vertical-align: top;\n    }\n\n    .dataframe thead th {\n        text-align: right;\n    }\n</style>\n<table border=\"1\" class=\"dataframe\">\n  <thead>\n    <tr style=\"text-align: right;\">\n      <th></th>\n      <th>Number of Components</th>\n      <th>Accuracy</th>\n    </tr>\n  </thead>\n  <tbody>\n    <tr>\n      <th>4</th>\n      <td>4</td>\n      <td>0.830092</td>\n    </tr>\n  </tbody>\n</table>\n</div>"
     },
     "execution_count": 29,
     "metadata": {},
     "output_type": "execute_result"
    }
   ],
   "source": [
    "result.sort_values('Accuracy', ascending=False).head(1)\n",
    "\n",
    "\n",
    "\n",
    "\n"
   ],
   "metadata": {
    "collapsed": false,
    "pycharm": {
     "name": "#%%\n"
    }
   }
  }
 ],
 "metadata": {
  "kernelspec": {
   "name": "pycharm-865e1948",
   "language": "python",
   "display_name": "PyCharm (GITHUB_REPOSITORY)"
  },
  "language_info": {
   "codemirror_mode": {
    "name": "ipython",
    "version": 2
   },
   "file_extension": ".py",
   "mimetype": "text/x-python",
   "name": "python",
   "nbconvert_exporter": "python",
   "pygments_lexer": "ipython2",
   "version": "2.7.6"
  }
 },
 "nbformat": 4,
 "nbformat_minor": 0
}