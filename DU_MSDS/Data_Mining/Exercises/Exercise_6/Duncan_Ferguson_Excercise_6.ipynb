{
 "cells": [
  {
   "cell_type": "markdown",
   "metadata": {
    "collapsed": true,
    "pycharm": {
     "name": "#%% md\n"
    }
   },
   "source": [
    "Student: Duncan Ferguson <br>\n",
    "Student Id: 871641260 <br>\n",
    "Class: Comp 4431-1 <br>\n",
    "Assignment: Exercise 6 <br>\n",
    "Date: 10/22/2021 <br>\n",
    "Group: Name: Broken Toe <br>\n",
    "Group Members: Emma Bright, Mike Santoro <br>"
   ]
  },
  {
   "cell_type": "code",
   "execution_count": 113,
   "outputs": [],
   "source": [
    "# Importing Libraries\n",
    "\n",
    "import pandas as pd\n",
    "import random\n",
    "import numpy as np\n",
    "import graphviz\n",
    "from sklearn import tree\n",
    "from sklearn.tree import export_text\n",
    "from sklearn.tree import export_graphviz"
   ],
   "metadata": {
    "collapsed": false,
    "pycharm": {
     "name": "#%%\n"
    }
   }
  },
  {
   "cell_type": "markdown",
   "source": [
    "GPA's are assigned randomly inbetween a scale of 1 and 4"
   ],
   "metadata": {
    "collapsed": false,
    "pycharm": {
     "name": "#%% md\n"
    }
   }
  },
  {
   "cell_type": "code",
   "execution_count": 114,
   "outputs": [
    {
     "name": "stdout",
     "output_type": "stream",
     "text": [
      "GPA's [2.49, 1.8, 2.91, 1.73, 2.42, 3.91, 1.26, 1.95, 3.03, 1.26, 1.46, 3.48]\n",
      "GPA's Testing [3.94, 1.96, 1.57, 3.92, 1.99, 2.81, 2.82, 2.9, 3.75, 3.89, 3.08, 3.47]\n"
     ]
    }
   ],
   "source": [
    "# Setting Random Seed\n",
    "random.seed(50)\n",
    "\n",
    "# Creating a list of 12 Random GPAS\n",
    "GPA = [round(random.uniform(1, 4), 2) for _ in range(12)]  # Creating List of Random GPA\n",
    "GPA_testing = [round(random.uniform(1, 4), 2) for _ in range(12)]\n",
    "print(\"GPA's\", GPA)\n",
    "print(\"GPA's Testing\", GPA_testing)"
   ],
   "metadata": {
    "collapsed": false,
    "pycharm": {
     "name": "#%%\n"
    }
   }
  },
  {
   "cell_type": "markdown",
   "source": [
    "Rankings are assigned on tier basis. Within those tiers there is some variability <br>\n",
    "-If the GPA is above 3.5 the student is in the top 90-100% <br>\n",
    "-If the GPA is above 3.0 but below 3.5 the student is in the top 80-90% <br>\n",
    "-If the GPA is above 2.5 but below 3 the student is in the top 70-80% <br>\n",
    "-If the GPA is above 2.0 but below 2.5 the student is in the top 60-70% <br>\n",
    "-If the GPA is below 2.0 the student is in the bottom 0-60% <br>"
   ],
   "metadata": {
    "collapsed": false,
    "pycharm": {
     "name": "#%% md\n"
    }
   }
  },
  {
   "cell_type": "code",
   "execution_count": 115,
   "outputs": [
    {
     "name": "stdout",
     "output_type": "stream",
     "text": [
      "Rankings [0.68, 0.39, 0.74, 0.14, 0.63, 0.99, 0.42, 0.06, 0.89, 0.16, 0.42, 0.85]\n",
      "Ranking Testing [0.93, 0.13, 0.35, 0.94, 0.37, 0.77, 0.78, 0.79, 0.96, 1.0, 0.85, 0.89]\n"
     ]
    }
   ],
   "source": [
    "def get_rankings(GPA):\n",
    "    \"\"\"This Function Randomizes rankings with weights\"\"\"\n",
    "    RANK = []\n",
    "    for grade in GPA:\n",
    "        if grade > 3.5:\n",
    "            RANK.append(round(random.uniform(.9, 1), 2))\n",
    "        elif grade > 3:\n",
    "            RANK.append(round(random.uniform(.8, .9), 2))\n",
    "        elif grade > 2.5:\n",
    "            RANK.append(round(random.uniform(.7, .8), 2))\n",
    "        elif grade > 2:\n",
    "            RANK.append(round(random.uniform(.6, .7), 2))\n",
    "        else:\n",
    "            RANK.append(round(random.uniform(0, .6), 2))\n",
    "    return RANK\n",
    "\n",
    "RANK = get_rankings(GPA)\n",
    "RANK_testing = get_rankings(GPA_testing)\n",
    "\n",
    "print(\"Rankings\", RANK)\n",
    "print(\"Ranking Testing\", RANK_testing)"
   ],
   "metadata": {
    "collapsed": false,
    "pycharm": {
     "name": "#%%\n"
    }
   }
  },
  {
   "cell_type": "markdown",
   "source": [
    "For assigning working values. 1 indicates that the student did work, 0 indicates the student did not. <br>\n",
    "-If the students GPA is above 2.0, there is a random 0-70 value assigned. If that value is above 50 they did work. <br>\n",
    "-If the students GPA is below 2.0, there is a random 30-100 value assigned. If that value is above 50 they did work."
   ],
   "metadata": {
    "collapsed": false,
    "pycharm": {
     "name": "#%% md\n"
    }
   }
  },
  {
   "cell_type": "code",
   "execution_count": 116,
   "outputs": [
    {
     "name": "stdout",
     "output_type": "stream",
     "text": [
      "Worked [1, 0, 1, 1, 0, 0, 1, 1, 0, 0, 1, 0]\n",
      "Worked Testing [1, 1, 1, 0, 0, 0, 0, 0, 0, 0, 0, 0]\n"
     ]
    }
   ],
   "source": [
    "# Setting up Random Work 0 did not work 1 did, Scaling it toward working have lower GPA\n",
    "def get_working(GPA):\n",
    "    \"\"\"Determining if they worked based off of GPA, with some randomness\"\"\"\n",
    "    WORKED = []\n",
    "    for num in enumerate(GPA):\n",
    "        if num[1] > 2:\n",
    "            rand_work = random.randint(0, 70)\n",
    "            if rand_work > 50:\n",
    "                WORKED.append(1)\n",
    "            else:\n",
    "                WORKED.append(0)\n",
    "        else:\n",
    "            if random.randint(30, 100) > 50:\n",
    "                WORKED.append(1)\n",
    "            else:\n",
    "                WORKED.append(0)\n",
    "    return  WORKED\n",
    "\n",
    "WORKED = get_working(GPA)\n",
    "WORKED_testing = get_working(GPA_testing)\n",
    "print(\"Worked\", WORKED)\n",
    "print(\"Worked Testing\", WORKED_testing)"
   ],
   "metadata": {
    "collapsed": false,
    "pycharm": {
     "name": "#%%\n"
    }
   }
  },
  {
   "cell_type": "markdown",
   "source": [
    "Compressing the GPA, RANKING and WORKED into a list"
   ],
   "metadata": {
    "collapsed": false,
    "pycharm": {
     "name": "#%% md\n"
    }
   }
  },
  {
   "cell_type": "code",
   "execution_count": 117,
   "outputs": [
    {
     "name": "stdout",
     "output_type": "stream",
     "text": [
      "List_o_list [[2.49, 0.68, 1], [1.8, 0.39, 0], [2.91, 0.74, 1], [1.73, 0.14, 1], [2.42, 0.63, 0], [3.91, 0.99, 0], [1.26, 0.42, 1], [1.95, 0.06, 1], [3.03, 0.89, 0], [1.26, 0.16, 0], [1.46, 0.42, 1], [3.48, 0.85, 0]]\n",
      "List_o_training [[3.94, 0.93, 1], [1.96, 0.13, 1], [1.57, 0.35, 1], [3.92, 0.94, 0], [1.99, 0.37, 0], [2.81, 0.77, 0], [2.82, 0.78, 0], [2.9, 0.79, 0], [3.75, 0.96, 0], [3.89, 1.0, 0], [3.08, 0.85, 0], [3.47, 0.89, 0]]\n"
     ]
    }
   ],
   "source": [
    "def compress_list(GPA, RANK, WORKED):\n",
    "    \"\"\"Compressing the lists\"\"\"\n",
    "    list_o_list = []\n",
    "    for num in range(len(GPA)):\n",
    "        list_o_list.append([GPA[num], RANK[num], WORKED[num]])\n",
    "    return list_o_list\n",
    "\n",
    "list_o_list = compress_list(GPA, RANK, WORKED)\n",
    "list_o_training = compress_list(GPA_testing, RANK_testing, WORKED_testing)\n",
    "print(\"List_o_list\", list_o_list)\n",
    "print(\"List_o_training\", list_o_training)"
   ],
   "metadata": {
    "collapsed": false,
    "pycharm": {
     "name": "#%%\n"
    }
   }
  },
  {
   "cell_type": "markdown",
   "source": [
    "Graduating in 6 years is based on the sum of GPA, RANK and WORKED. <br>\n",
    "If the sum of these three variables is above 2, They graduate with in 6 years <br>\n",
    "Graduate Training is made so that we can see how well our decision tree works"
   ],
   "metadata": {
    "collapsed": false,
    "pycharm": {
     "name": "#%% md\n"
    }
   }
  },
  {
   "cell_type": "code",
   "execution_count": 118,
   "outputs": [
    {
     "name": "stdout",
     "output_type": "stream",
     "text": [
      "Graduate [1, 1, 1, 1, 1, 1, 1, 1, 1, 0, 1, 1]\n",
      "Graduate Training [1, 1, 1, 1, 1, 1, 1, 1, 1, 1, 1, 1]\n"
     ]
    }
   ],
   "source": [
    "def grad_in_6(list_o_list):\n",
    "    \"\"\"Creating a classifier if they graduate in 6 years \"\"\"\n",
    "    graduate = []\n",
    "    for person in enumerate(list_o_list):\n",
    "        if sum(person[1]) > 2:\n",
    "            graduate.append(1)\n",
    "        else:\n",
    "            graduate.append(0)\n",
    "    return graduate\n",
    "\n",
    "graduate = grad_in_6(list_o_list)\n",
    "graduate_training = grad_in_6(list_o_training)\n",
    "\n",
    "print('Graduate', graduate)\n",
    "print('Graduate Training', graduate_training)"
   ],
   "metadata": {
    "collapsed": false,
    "pycharm": {
     "name": "#%%\n"
    }
   }
  },
  {
   "cell_type": "markdown",
   "source": [
    "First Example"
   ],
   "metadata": {
    "collapsed": false,
    "pycharm": {
     "name": "#%% md\n"
    }
   }
  },
  {
   "cell_type": "code",
   "execution_count": 119,
   "outputs": [
    {
     "name": "stdout",
     "output_type": "stream",
     "text": [
      "<class 'sklearn.tree._classes.DecisionTreeClassifier'>\n",
      "DecisionTreeClassifier()\n",
      "output of classifying 4 new items (should be):  [1, 1, 1, 1, 1, 1, 1, 1, 1, 1, 1, 1]\n",
      "[1, 1, 1, 1, 1, 1, 1, 1, 1, 1, 1, 1]\n"
     ]
    }
   ],
   "source": [
    "X = list_o_list\n",
    "Y = graduate\n",
    "\n",
    "clf = tree.DecisionTreeClassifier()\n",
    "clf = clf.fit(X,Y)\n",
    "print(type(clf))\n",
    "print(clf)\n",
    "\n",
    "foo = clf.predict_proba(list_o_training)\n",
    "\n",
    "print(\"output of classifying 4 new items (should be): \", graduate_training)\n",
    "foo = pd.DataFrame(data=foo, columns=[\"Something\",\"Graduate\"])\n",
    "predict_graduating = foo[\"Graduate\"].to_list()\n",
    "predict_graduating = [int(i) for i in predict_graduating]\n",
    "print(predict_graduating)"
   ],
   "metadata": {
    "collapsed": false,
    "pycharm": {
     "name": "#%%\n"
    }
   }
  },
  {
   "cell_type": "markdown",
   "source": [
    "Second Example\n"
   ],
   "metadata": {
    "collapsed": false,
    "pycharm": {
     "name": "#%% md\n"
    }
   }
  },
  {
   "cell_type": "code",
   "execution_count": 120,
   "outputs": [
    {
     "name": "stdout",
     "output_type": "stream",
     "text": [
      "<class 'sklearn.tree._classes.DecisionTreeClassifier'>\n",
      "DecisionTreeClassifier(criterion='entropy')\n",
      "\n",
      "Now 'predicting class' of the first 6 elements of the training data.\n",
      "test data = [[3.94, 0.93, 1], [1.96, 0.13, 1], [1.57, 0.35, 1], [3.92, 0.94, 0], [1.99, 0.37, 0], [2.81, 0.77, 0], [2.82, 0.78, 0], [2.9, 0.79, 0], [3.75, 0.96, 0], [3.89, 1.0, 0], [3.08, 0.85, 0], [3.47, 0.89, 0]]\n",
      "data are classified as:\n",
      "[[0. 1.]\n",
      " [0. 1.]\n",
      " [0. 1.]\n",
      " [0. 1.]\n",
      " [0. 1.]\n",
      " [0. 1.]\n",
      " [0. 1.]\n",
      " [0. 1.]\n",
      " [0. 1.]\n",
      " [0. 1.]\n",
      " [0. 1.]\n",
      " [0. 1.]]\n",
      "\n",
      "Now printing export_text(clf2)\n",
      "|--- feature_0 <= 1.36\n",
      "|   |--- feature_1 <= 0.29\n",
      "|   |   |--- class: 0\n",
      "|   |--- feature_1 >  0.29\n",
      "|   |   |--- class: 1\n",
      "|--- feature_0 >  1.36\n",
      "|   |--- class: 1\n",
      "\n"
     ]
    }
   ],
   "source": [
    "Xnum = list_o_list\n",
    "classifications = graduate\n",
    "clf2 = tree.DecisionTreeClassifier(criterion=\"entropy\")\n",
    "clf2 = clf2.fit(Xnum,classifications)\n",
    "print(type(clf2))\n",
    "print(clf2)\n",
    "\n",
    "print(\"\\nNow 'predicting class' of the first 6 elements of the training data.\")\n",
    "testData = list_o_training\n",
    "foo = clf2.predict_proba( testData )\n",
    "print(\"test data = \" + str(testData))\n",
    "print(\"data are classified as:\")\n",
    "print(foo)\n",
    "\n",
    "treeStruct = export_text(clf2)\n",
    "print(\"\\nNow printing export_text(clf2)\")\n",
    "print(treeStruct)"
   ],
   "metadata": {
    "collapsed": false,
    "pycharm": {
     "name": "#%%\n"
    }
   }
  },
  {
   "cell_type": "code",
   "source": [
    "foo = clf2.apply( Xnum )   # passing in full list of training tuples\n",
    "print(\"clf2.apply( Xnum ):\")\n",
    "print(foo)\n",
    "# now print out line by line as pair:  tuple, which leaf node\n",
    "print(\"\\nNow printing each tuple with the decision tree node it ends up in:\")\n",
    "for i in range(len(foo)):\n",
    "    print(str(Xnum[i]) + \",\" + str(foo[i]))\n",
    "\n",
    "# NOTE - adding in node_ids and class_names as options to make tree viz more robust\n",
    "dot_data = tree.export_graphviz(clf2, node_ids=\"true\",class_names=('No_Did_Not_Graduate','Yes_Graduated'),out_file=None, filled=True, rounded=True, special_characters=True)\n",
    "graph = graphviz.Source(dot_data)\n",
    "\n",
    "graph"
   ],
   "metadata": {
    "collapsed": false,
    "pycharm": {
     "name": "#%%\n"
    }
   },
   "execution_count": 121,
   "outputs": [
    {
     "name": "stdout",
     "output_type": "stream",
     "text": [
      "clf2.apply( Xnum ):\n",
      "[4 4 4 4 4 4 3 4 4 2 4 4]\n",
      "\n",
      "Now printing each tuple with the decision tree node it ends up in:\n",
      "[2.49, 0.68, 1],4\n",
      "[1.8, 0.39, 0],4\n",
      "[2.91, 0.74, 1],4\n",
      "[1.73, 0.14, 1],4\n",
      "[2.42, 0.63, 0],4\n",
      "[3.91, 0.99, 0],4\n",
      "[1.26, 0.42, 1],3\n",
      "[1.95, 0.06, 1],4\n",
      "[3.03, 0.89, 0],4\n",
      "[1.26, 0.16, 0],2\n",
      "[1.46, 0.42, 1],4\n",
      "[3.48, 0.85, 0],4\n"
     ]
    },
    {
     "data": {
      "text/plain": "<graphviz.files.Source at 0x1ba85e536d0>",
      "image/svg+xml": "<?xml version=\"1.0\" encoding=\"UTF-8\" standalone=\"no\"?>\r\n<!DOCTYPE svg PUBLIC \"-//W3C//DTD SVG 1.1//EN\"\r\n \"http://www.w3.org/Graphics/SVG/1.1/DTD/svg11.dtd\">\r\n<!-- Generated by graphviz version 2.49.2 (20211016.1639)\r\n -->\r\n<!-- Title: Tree Pages: 1 -->\r\n<svg width=\"505pt\" height=\"347pt\"\r\n viewBox=\"0.00 0.00 504.50 347.00\" xmlns=\"http://www.w3.org/2000/svg\" xmlns:xlink=\"http://www.w3.org/1999/xlink\">\r\n<g id=\"graph0\" class=\"graph\" transform=\"scale(1 1) rotate(0) translate(4 343)\">\r\n<title>Tree</title>\r\n<polygon fill=\"white\" stroke=\"transparent\" points=\"-4,4 -4,-343 500.5,-343 500.5,4 -4,4\"/>\r\n<!-- 0 -->\r\n<g id=\"node1\" class=\"node\">\r\n<title>0</title>\r\n<path fill=\"#4ba6e7\" stroke=\"black\" d=\"M381.5,-339C381.5,-339 240.5,-339 240.5,-339 234.5,-339 228.5,-333 228.5,-327 228.5,-327 228.5,-259 228.5,-259 228.5,-253 234.5,-247 240.5,-247 240.5,-247 381.5,-247 381.5,-247 387.5,-247 393.5,-253 393.5,-259 393.5,-259 393.5,-327 393.5,-327 393.5,-333 387.5,-339 381.5,-339\"/>\r\n<text text-anchor=\"start\" x=\"284.5\" y=\"-324.8\" font-family=\"Helvetica,sans-Serif\" font-size=\"14.00\">node #0</text>\r\n<text text-anchor=\"start\" x=\"280.5\" y=\"-310.8\" font-family=\"Helvetica,sans-Serif\" font-size=\"14.00\">X</text>\r\n<text text-anchor=\"start\" x=\"290.5\" y=\"-310.8\" font-family=\"Helvetica,sans-Serif\" baseline-shift=\"sub\" font-size=\"14.00\">0</text>\r\n<text text-anchor=\"start\" x=\"297.5\" y=\"-310.8\" font-family=\"Helvetica,sans-Serif\" font-size=\"14.00\"> ≤ 1.36</text>\r\n<text text-anchor=\"start\" x=\"261\" y=\"-296.8\" font-family=\"Helvetica,sans-Serif\" font-size=\"14.00\">entropy = 0.414</text>\r\n<text text-anchor=\"start\" x=\"267.5\" y=\"-282.8\" font-family=\"Helvetica,sans-Serif\" font-size=\"14.00\">samples = 12</text>\r\n<text text-anchor=\"start\" x=\"266.5\" y=\"-268.8\" font-family=\"Helvetica,sans-Serif\" font-size=\"14.00\">value = [1, 11]</text>\r\n<text text-anchor=\"start\" x=\"236.5\" y=\"-254.8\" font-family=\"Helvetica,sans-Serif\" font-size=\"14.00\">class = Yes_Graduated</text>\r\n</g>\r\n<!-- 1 -->\r\n<g id=\"node2\" class=\"node\">\r\n<title>1</title>\r\n<path fill=\"#ffffff\" stroke=\"black\" d=\"M301,-211C301,-211 115,-211 115,-211 109,-211 103,-205 103,-199 103,-199 103,-131 103,-131 103,-125 109,-119 115,-119 115,-119 301,-119 301,-119 307,-119 313,-125 313,-131 313,-131 313,-199 313,-199 313,-205 307,-211 301,-211\"/>\r\n<text text-anchor=\"start\" x=\"181.5\" y=\"-196.8\" font-family=\"Helvetica,sans-Serif\" font-size=\"14.00\">node #1</text>\r\n<text text-anchor=\"start\" x=\"177.5\" y=\"-182.8\" font-family=\"Helvetica,sans-Serif\" font-size=\"14.00\">X</text>\r\n<text text-anchor=\"start\" x=\"187.5\" y=\"-182.8\" font-family=\"Helvetica,sans-Serif\" baseline-shift=\"sub\" font-size=\"14.00\">1</text>\r\n<text text-anchor=\"start\" x=\"194.5\" y=\"-182.8\" font-family=\"Helvetica,sans-Serif\" font-size=\"14.00\"> ≤ 0.29</text>\r\n<text text-anchor=\"start\" x=\"166\" y=\"-168.8\" font-family=\"Helvetica,sans-Serif\" font-size=\"14.00\">entropy = 1.0</text>\r\n<text text-anchor=\"start\" x=\"168.5\" y=\"-154.8\" font-family=\"Helvetica,sans-Serif\" font-size=\"14.00\">samples = 2</text>\r\n<text text-anchor=\"start\" x=\"167.5\" y=\"-140.8\" font-family=\"Helvetica,sans-Serif\" font-size=\"14.00\">value = [1, 1]</text>\r\n<text text-anchor=\"start\" x=\"111\" y=\"-126.8\" font-family=\"Helvetica,sans-Serif\" font-size=\"14.00\">class = No_Did_Not_Graduate</text>\r\n</g>\r\n<!-- 0&#45;&gt;1 -->\r\n<g id=\"edge1\" class=\"edge\">\r\n<title>0&#45;&gt;1</title>\r\n<path fill=\"none\" stroke=\"black\" d=\"M274.11,-246.87C266.78,-237.91 259.03,-228.43 251.51,-219.23\"/>\r\n<polygon fill=\"black\" stroke=\"black\" points=\"254.02,-216.77 244.98,-211.24 248.6,-221.2 254.02,-216.77\"/>\r\n<text text-anchor=\"middle\" x=\"242.48\" y=\"-232.42\" font-family=\"Helvetica,sans-Serif\" font-size=\"14.00\">True</text>\r\n</g>\r\n<!-- 4 -->\r\n<g id=\"node5\" class=\"node\">\r\n<title>4</title>\r\n<path fill=\"#399de5\" stroke=\"black\" d=\"M484.5,-206.5C484.5,-206.5 343.5,-206.5 343.5,-206.5 337.5,-206.5 331.5,-200.5 331.5,-194.5 331.5,-194.5 331.5,-135.5 331.5,-135.5 331.5,-129.5 337.5,-123.5 343.5,-123.5 343.5,-123.5 484.5,-123.5 484.5,-123.5 490.5,-123.5 496.5,-129.5 496.5,-135.5 496.5,-135.5 496.5,-194.5 496.5,-194.5 496.5,-200.5 490.5,-206.5 484.5,-206.5\"/>\r\n<text text-anchor=\"start\" x=\"387.5\" y=\"-191.3\" font-family=\"Helvetica,sans-Serif\" font-size=\"14.00\">node #4</text>\r\n<text text-anchor=\"start\" x=\"372\" y=\"-176.3\" font-family=\"Helvetica,sans-Serif\" font-size=\"14.00\">entropy = 0.0</text>\r\n<text text-anchor=\"start\" x=\"370.5\" y=\"-161.3\" font-family=\"Helvetica,sans-Serif\" font-size=\"14.00\">samples = 10</text>\r\n<text text-anchor=\"start\" x=\"369.5\" y=\"-146.3\" font-family=\"Helvetica,sans-Serif\" font-size=\"14.00\">value = [0, 10]</text>\r\n<text text-anchor=\"start\" x=\"339.5\" y=\"-131.3\" font-family=\"Helvetica,sans-Serif\" font-size=\"14.00\">class = Yes_Graduated</text>\r\n</g>\r\n<!-- 0&#45;&gt;4 -->\r\n<g id=\"edge4\" class=\"edge\">\r\n<title>0&#45;&gt;4</title>\r\n<path fill=\"none\" stroke=\"black\" d=\"M347.89,-246.87C356.45,-236.4 365.59,-225.22 374.26,-214.61\"/>\r\n<polygon fill=\"black\" stroke=\"black\" points=\"377.17,-216.59 380.79,-206.63 371.75,-212.16 377.17,-216.59\"/>\r\n<text text-anchor=\"middle\" x=\"383.28\" y=\"-227.8\" font-family=\"Helvetica,sans-Serif\" font-size=\"14.00\">False</text>\r\n</g>\r\n<!-- 2 -->\r\n<g id=\"node3\" class=\"node\">\r\n<title>2</title>\r\n<path fill=\"#e58139\" stroke=\"black\" d=\"M198,-83C198,-83 12,-83 12,-83 6,-83 0,-77 0,-71 0,-71 0,-12 0,-12 0,-6 6,0 12,0 12,0 198,0 198,0 204,0 210,-6 210,-12 210,-12 210,-71 210,-71 210,-77 204,-83 198,-83\"/>\r\n<text text-anchor=\"start\" x=\"78.5\" y=\"-67.8\" font-family=\"Helvetica,sans-Serif\" font-size=\"14.00\">node #2</text>\r\n<text text-anchor=\"start\" x=\"63\" y=\"-52.8\" font-family=\"Helvetica,sans-Serif\" font-size=\"14.00\">entropy = 0.0</text>\r\n<text text-anchor=\"start\" x=\"65.5\" y=\"-37.8\" font-family=\"Helvetica,sans-Serif\" font-size=\"14.00\">samples = 1</text>\r\n<text text-anchor=\"start\" x=\"64.5\" y=\"-22.8\" font-family=\"Helvetica,sans-Serif\" font-size=\"14.00\">value = [1, 0]</text>\r\n<text text-anchor=\"start\" x=\"8\" y=\"-7.8\" font-family=\"Helvetica,sans-Serif\" font-size=\"14.00\">class = No_Did_Not_Graduate</text>\r\n</g>\r\n<!-- 1&#45;&gt;2 -->\r\n<g id=\"edge2\" class=\"edge\">\r\n<title>1&#45;&gt;2</title>\r\n<path fill=\"none\" stroke=\"black\" d=\"M169.65,-118.76C162.04,-109.78 154.02,-100.32 146.32,-91.24\"/>\r\n<polygon fill=\"black\" stroke=\"black\" points=\"148.78,-88.73 139.65,-83.37 143.44,-93.26 148.78,-88.73\"/>\r\n</g>\r\n<!-- 3 -->\r\n<g id=\"node4\" class=\"node\">\r\n<title>3</title>\r\n<path fill=\"#399de5\" stroke=\"black\" d=\"M381.5,-83C381.5,-83 240.5,-83 240.5,-83 234.5,-83 228.5,-77 228.5,-71 228.5,-71 228.5,-12 228.5,-12 228.5,-6 234.5,0 240.5,0 240.5,0 381.5,0 381.5,0 387.5,0 393.5,-6 393.5,-12 393.5,-12 393.5,-71 393.5,-71 393.5,-77 387.5,-83 381.5,-83\"/>\r\n<text text-anchor=\"start\" x=\"284.5\" y=\"-67.8\" font-family=\"Helvetica,sans-Serif\" font-size=\"14.00\">node #3</text>\r\n<text text-anchor=\"start\" x=\"269\" y=\"-52.8\" font-family=\"Helvetica,sans-Serif\" font-size=\"14.00\">entropy = 0.0</text>\r\n<text text-anchor=\"start\" x=\"271.5\" y=\"-37.8\" font-family=\"Helvetica,sans-Serif\" font-size=\"14.00\">samples = 1</text>\r\n<text text-anchor=\"start\" x=\"270.5\" y=\"-22.8\" font-family=\"Helvetica,sans-Serif\" font-size=\"14.00\">value = [0, 1]</text>\r\n<text text-anchor=\"start\" x=\"236.5\" y=\"-7.8\" font-family=\"Helvetica,sans-Serif\" font-size=\"14.00\">class = Yes_Graduated</text>\r\n</g>\r\n<!-- 1&#45;&gt;3 -->\r\n<g id=\"edge3\" class=\"edge\">\r\n<title>1&#45;&gt;3</title>\r\n<path fill=\"none\" stroke=\"black\" d=\"M246.35,-118.76C253.96,-109.78 261.98,-100.32 269.68,-91.24\"/>\r\n<polygon fill=\"black\" stroke=\"black\" points=\"272.56,-93.26 276.35,-83.37 267.22,-88.73 272.56,-93.26\"/>\r\n</g>\r\n</g>\r\n</svg>\r\n"
     },
     "execution_count": 121,
     "metadata": {},
     "output_type": "execute_result"
    }
   ]
  },
  {
   "cell_type": "markdown",
   "source": [
    "Example 3 Creating a tree with \"gini\" instead of entropy"
   ],
   "metadata": {
    "collapsed": false,
    "pycharm": {
     "name": "#%% md\n"
    }
   }
  },
  {
   "cell_type": "code",
   "execution_count": 122,
   "outputs": [
    {
     "data": {
      "text/plain": "<graphviz.files.Source at 0x1ba85e497f0>",
      "image/svg+xml": "<?xml version=\"1.0\" encoding=\"UTF-8\" standalone=\"no\"?>\r\n<!DOCTYPE svg PUBLIC \"-//W3C//DTD SVG 1.1//EN\"\r\n \"http://www.w3.org/Graphics/SVG/1.1/DTD/svg11.dtd\">\r\n<!-- Generated by graphviz version 2.49.2 (20211016.1639)\r\n -->\r\n<!-- Title: Tree Pages: 1 -->\r\n<svg width=\"285pt\" height=\"261pt\"\r\n viewBox=\"0.00 0.00 285.00 261.00\" xmlns=\"http://www.w3.org/2000/svg\" xmlns:xlink=\"http://www.w3.org/1999/xlink\">\r\n<g id=\"graph0\" class=\"graph\" transform=\"scale(1 1) rotate(0) translate(4 257)\">\r\n<title>Tree</title>\r\n<polygon fill=\"white\" stroke=\"transparent\" points=\"-4,4 -4,-257 281,-257 281,4 -4,4\"/>\r\n<!-- 0 -->\r\n<g id=\"node1\" class=\"node\">\r\n<title>0</title>\r\n<path fill=\"#4ba6e7\" stroke=\"black\" d=\"M205,-253C205,-253 124,-253 124,-253 118,-253 112,-247 112,-241 112,-241 112,-201 112,-201 112,-195 118,-189 124,-189 124,-189 205,-189 205,-189 211,-189 217,-195 217,-201 217,-201 217,-241 217,-241 217,-247 211,-253 205,-253\"/>\r\n<text text-anchor=\"start\" x=\"134\" y=\"-238.8\" font-family=\"Helvetica,sans-Serif\" font-size=\"14.00\">X</text>\r\n<text text-anchor=\"start\" x=\"144\" y=\"-238.8\" font-family=\"Helvetica,sans-Serif\" baseline-shift=\"sub\" font-size=\"14.00\">0</text>\r\n<text text-anchor=\"start\" x=\"151\" y=\"-238.8\" font-family=\"Helvetica,sans-Serif\" font-size=\"14.00\"> ≤ 1.36</text>\r\n<text text-anchor=\"start\" x=\"127\" y=\"-224.8\" font-family=\"Helvetica,sans-Serif\" font-size=\"14.00\">gini = 0.153</text>\r\n<text text-anchor=\"start\" x=\"121\" y=\"-210.8\" font-family=\"Helvetica,sans-Serif\" font-size=\"14.00\">samples = 12</text>\r\n<text text-anchor=\"start\" x=\"120\" y=\"-196.8\" font-family=\"Helvetica,sans-Serif\" font-size=\"14.00\">value = [1, 11]</text>\r\n</g>\r\n<!-- 1 -->\r\n<g id=\"node2\" class=\"node\">\r\n<title>1</title>\r\n<path fill=\"#ffffff\" stroke=\"black\" d=\"M142,-153C142,-153 69,-153 69,-153 63,-153 57,-147 57,-141 57,-141 57,-101 57,-101 57,-95 63,-89 69,-89 69,-89 142,-89 142,-89 148,-89 154,-95 154,-101 154,-101 154,-141 154,-141 154,-147 148,-153 142,-153\"/>\r\n<text text-anchor=\"start\" x=\"75\" y=\"-138.8\" font-family=\"Helvetica,sans-Serif\" font-size=\"14.00\">X</text>\r\n<text text-anchor=\"start\" x=\"85\" y=\"-138.8\" font-family=\"Helvetica,sans-Serif\" baseline-shift=\"sub\" font-size=\"14.00\">1</text>\r\n<text text-anchor=\"start\" x=\"92\" y=\"-138.8\" font-family=\"Helvetica,sans-Serif\" font-size=\"14.00\"> ≤ 0.29</text>\r\n<text text-anchor=\"start\" x=\"76.5\" y=\"-124.8\" font-family=\"Helvetica,sans-Serif\" font-size=\"14.00\">gini = 0.5</text>\r\n<text text-anchor=\"start\" x=\"66\" y=\"-110.8\" font-family=\"Helvetica,sans-Serif\" font-size=\"14.00\">samples = 2</text>\r\n<text text-anchor=\"start\" x=\"65\" y=\"-96.8\" font-family=\"Helvetica,sans-Serif\" font-size=\"14.00\">value = [1, 1]</text>\r\n</g>\r\n<!-- 0&#45;&gt;1 -->\r\n<g id=\"edge1\" class=\"edge\">\r\n<title>0&#45;&gt;1</title>\r\n<path fill=\"none\" stroke=\"black\" d=\"M145.83,-188.99C140.67,-180.41 134.99,-170.98 129.56,-161.97\"/>\r\n<polygon fill=\"black\" stroke=\"black\" points=\"132.41,-159.9 124.25,-153.14 126.41,-163.51 132.41,-159.9\"/>\r\n<text text-anchor=\"middle\" x=\"118.22\" y=\"-173.71\" font-family=\"Helvetica,sans-Serif\" font-size=\"14.00\">True</text>\r\n</g>\r\n<!-- 4 -->\r\n<g id=\"node5\" class=\"node\">\r\n<title>4</title>\r\n<path fill=\"#399de5\" stroke=\"black\" d=\"M265,-147.5C265,-147.5 184,-147.5 184,-147.5 178,-147.5 172,-141.5 172,-135.5 172,-135.5 172,-106.5 172,-106.5 172,-100.5 178,-94.5 184,-94.5 184,-94.5 265,-94.5 265,-94.5 271,-94.5 277,-100.5 277,-106.5 277,-106.5 277,-135.5 277,-135.5 277,-141.5 271,-147.5 265,-147.5\"/>\r\n<text text-anchor=\"start\" x=\"195.5\" y=\"-132.3\" font-family=\"Helvetica,sans-Serif\" font-size=\"14.00\">gini = 0.0</text>\r\n<text text-anchor=\"start\" x=\"181\" y=\"-117.3\" font-family=\"Helvetica,sans-Serif\" font-size=\"14.00\">samples = 10</text>\r\n<text text-anchor=\"start\" x=\"180\" y=\"-102.3\" font-family=\"Helvetica,sans-Serif\" font-size=\"14.00\">value = [0, 10]</text>\r\n</g>\r\n<!-- 0&#45;&gt;4 -->\r\n<g id=\"edge4\" class=\"edge\">\r\n<title>0&#45;&gt;4</title>\r\n<path fill=\"none\" stroke=\"black\" d=\"M183.48,-188.99C189.87,-178.57 197.02,-166.88 203.55,-156.22\"/>\r\n<polygon fill=\"black\" stroke=\"black\" points=\"206.62,-157.91 208.85,-147.56 200.65,-154.26 206.62,-157.91\"/>\r\n<text text-anchor=\"middle\" x=\"214.7\" y=\"-168.16\" font-family=\"Helvetica,sans-Serif\" font-size=\"14.00\">False</text>\r\n</g>\r\n<!-- 2 -->\r\n<g id=\"node3\" class=\"node\">\r\n<title>2</title>\r\n<path fill=\"#e58139\" stroke=\"black\" d=\"M85,-53C85,-53 12,-53 12,-53 6,-53 0,-47 0,-41 0,-41 0,-12 0,-12 0,-6 6,0 12,0 12,0 85,0 85,0 91,0 97,-6 97,-12 97,-12 97,-41 97,-41 97,-47 91,-53 85,-53\"/>\r\n<text text-anchor=\"start\" x=\"19.5\" y=\"-37.8\" font-family=\"Helvetica,sans-Serif\" font-size=\"14.00\">gini = 0.0</text>\r\n<text text-anchor=\"start\" x=\"9\" y=\"-22.8\" font-family=\"Helvetica,sans-Serif\" font-size=\"14.00\">samples = 1</text>\r\n<text text-anchor=\"start\" x=\"8\" y=\"-7.8\" font-family=\"Helvetica,sans-Serif\" font-size=\"14.00\">value = [1, 0]</text>\r\n</g>\r\n<!-- 1&#45;&gt;2 -->\r\n<g id=\"edge2\" class=\"edge\">\r\n<title>1&#45;&gt;2</title>\r\n<path fill=\"none\" stroke=\"black\" d=\"M86.36,-88.94C80.98,-80.2 75.09,-70.65 69.6,-61.74\"/>\r\n<polygon fill=\"black\" stroke=\"black\" points=\"72.5,-59.77 64.27,-53.09 66.54,-63.44 72.5,-59.77\"/>\r\n</g>\r\n<!-- 3 -->\r\n<g id=\"node4\" class=\"node\">\r\n<title>3</title>\r\n<path fill=\"#399de5\" stroke=\"black\" d=\"M200,-53C200,-53 127,-53 127,-53 121,-53 115,-47 115,-41 115,-41 115,-12 115,-12 115,-6 121,0 127,0 127,0 200,0 200,0 206,0 212,-6 212,-12 212,-12 212,-41 212,-41 212,-47 206,-53 200,-53\"/>\r\n<text text-anchor=\"start\" x=\"134.5\" y=\"-37.8\" font-family=\"Helvetica,sans-Serif\" font-size=\"14.00\">gini = 0.0</text>\r\n<text text-anchor=\"start\" x=\"124\" y=\"-22.8\" font-family=\"Helvetica,sans-Serif\" font-size=\"14.00\">samples = 1</text>\r\n<text text-anchor=\"start\" x=\"123\" y=\"-7.8\" font-family=\"Helvetica,sans-Serif\" font-size=\"14.00\">value = [0, 1]</text>\r\n</g>\r\n<!-- 1&#45;&gt;3 -->\r\n<g id=\"edge3\" class=\"edge\">\r\n<title>1&#45;&gt;3</title>\r\n<path fill=\"none\" stroke=\"black\" d=\"M124.97,-88.94C130.45,-80.2 136.44,-70.65 142.03,-61.74\"/>\r\n<polygon fill=\"black\" stroke=\"black\" points=\"145.11,-63.42 147.45,-53.09 139.18,-59.7 145.11,-63.42\"/>\r\n</g>\r\n</g>\r\n</svg>\r\n"
     },
     "execution_count": 122,
     "metadata": {},
     "output_type": "execute_result"
    }
   ],
   "source": [
    "clf3 = tree.DecisionTreeClassifier(criterion=\"gini\")\n",
    "clf3 = clf3.fit(Xnum,classifications)\n",
    "dotData3 = tree.export_graphviz(clf3, out_file=None, filled=True, rounded=True, special_characters=True)\n",
    "foo = clf3.predict_proba( Xnum )\n",
    "\n",
    "graph = graphviz.Source(dotData3)\n",
    "graph\n",
    "\n",
    "\n",
    "\n",
    "\n",
    "\n"
   ],
   "metadata": {
    "collapsed": false,
    "pycharm": {
     "name": "#%%\n"
    }
   }
  }
 ],
 "metadata": {
  "kernelspec": {
   "display_name": "PyCharm (GITHUB_REPOSITORY)",
   "language": "python",
   "name": "pycharm-865e1948"
  },
  "language_info": {
   "codemirror_mode": {
    "name": "ipython",
    "version": 3
   },
   "file_extension": ".py",
   "mimetype": "text/x-python",
   "name": "python",
   "nbconvert_exporter": "python",
   "pygments_lexer": "ipython3",
   "version": "3.8.10"
  }
 },
 "nbformat": 4,
 "nbformat_minor": 1
}