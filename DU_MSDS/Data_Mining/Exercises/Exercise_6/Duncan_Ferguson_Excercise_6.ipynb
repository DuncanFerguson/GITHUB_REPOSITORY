{
 "cells": [
  {
   "cell_type": "markdown",
   "metadata": {
    "collapsed": true,
    "pycharm": {
     "name": "#%% md\n"
    }
   },
   "source": [
    "Student: Duncan Ferguson <br>\n",
    "Student Id: 871641260 <br>\n",
    "Class: Comp 4431-1 <br>\n",
    "Assignment: Exercise 6 <br>\n",
    "Date: 10/22/2021 <br>\n",
    "Group: Name: Broken Toe <br>\n",
    "Group Members: Emma Bright, Mike Santoro <br>"
   ]
  },
  {
   "cell_type": "markdown",
   "source": [
    "## Part 1\n",
    "\n",
    "For the decision tree in the book in example 8.2, during class I just showed how to calculate the root node Gain(A)\n",
    "values for A in {income,age,student,credit}.   Also found here: exercise6A_start.pdf Download exercise6A_start.pdf\n",
    "\n",
    "Hand calculate the Gain(A) values, for each of the 4 attributes, for the left  subtree split (i.e. for the tuples\n",
    "1,2,8,9 and 11 which are in the \"youth\" category after the first split."
   ],
   "metadata": {
    "collapsed": false,
    "pycharm": {
     "name": "#%% md\n"
    }
   }
  },
  {
   "cell_type": "code",
   "execution_count": 94,
   "outputs": [
    {
     "data": {
      "text/plain": "             Age  income student credit_rating Class: buys_computer\nRID                                                                \n1          youth    high      no          fair                   no\n2          youth    high      no     excellent                   no\n3    middle_aged    high      no          fair                  yes\n4         senior  medium      no          fair                  yes\n5         senior     low     yes          fair                  yes\n6         senior     low     yes     excellent                   no\n7    middle_aged     low     yes     excellent                  yes\n8          youth  medium      no          fair                   no\n9          youth     low     yes          fair                  yes\n10        senior  medium     yes          fair                  yes\n11         youth  medium     yes     excellent                  yes\n12   middle_aged  medium      no     excellent                  yes\n13   middle_aged    high     yes          fair                  yes\n14        senior  medium      no     excellent                   no",
      "text/html": "<div>\n<style scoped>\n    .dataframe tbody tr th:only-of-type {\n        vertical-align: middle;\n    }\n\n    .dataframe tbody tr th {\n        vertical-align: top;\n    }\n\n    .dataframe thead th {\n        text-align: right;\n    }\n</style>\n<table border=\"1\" class=\"dataframe\">\n  <thead>\n    <tr style=\"text-align: right;\">\n      <th></th>\n      <th>Age</th>\n      <th>income</th>\n      <th>student</th>\n      <th>credit_rating</th>\n      <th>Class: buys_computer</th>\n    </tr>\n    <tr>\n      <th>RID</th>\n      <th></th>\n      <th></th>\n      <th></th>\n      <th></th>\n      <th></th>\n    </tr>\n  </thead>\n  <tbody>\n    <tr>\n      <th>1</th>\n      <td>youth</td>\n      <td>high</td>\n      <td>no</td>\n      <td>fair</td>\n      <td>no</td>\n    </tr>\n    <tr>\n      <th>2</th>\n      <td>youth</td>\n      <td>high</td>\n      <td>no</td>\n      <td>excellent</td>\n      <td>no</td>\n    </tr>\n    <tr>\n      <th>3</th>\n      <td>middle_aged</td>\n      <td>high</td>\n      <td>no</td>\n      <td>fair</td>\n      <td>yes</td>\n    </tr>\n    <tr>\n      <th>4</th>\n      <td>senior</td>\n      <td>medium</td>\n      <td>no</td>\n      <td>fair</td>\n      <td>yes</td>\n    </tr>\n    <tr>\n      <th>5</th>\n      <td>senior</td>\n      <td>low</td>\n      <td>yes</td>\n      <td>fair</td>\n      <td>yes</td>\n    </tr>\n    <tr>\n      <th>6</th>\n      <td>senior</td>\n      <td>low</td>\n      <td>yes</td>\n      <td>excellent</td>\n      <td>no</td>\n    </tr>\n    <tr>\n      <th>7</th>\n      <td>middle_aged</td>\n      <td>low</td>\n      <td>yes</td>\n      <td>excellent</td>\n      <td>yes</td>\n    </tr>\n    <tr>\n      <th>8</th>\n      <td>youth</td>\n      <td>medium</td>\n      <td>no</td>\n      <td>fair</td>\n      <td>no</td>\n    </tr>\n    <tr>\n      <th>9</th>\n      <td>youth</td>\n      <td>low</td>\n      <td>yes</td>\n      <td>fair</td>\n      <td>yes</td>\n    </tr>\n    <tr>\n      <th>10</th>\n      <td>senior</td>\n      <td>medium</td>\n      <td>yes</td>\n      <td>fair</td>\n      <td>yes</td>\n    </tr>\n    <tr>\n      <th>11</th>\n      <td>youth</td>\n      <td>medium</td>\n      <td>yes</td>\n      <td>excellent</td>\n      <td>yes</td>\n    </tr>\n    <tr>\n      <th>12</th>\n      <td>middle_aged</td>\n      <td>medium</td>\n      <td>no</td>\n      <td>excellent</td>\n      <td>yes</td>\n    </tr>\n    <tr>\n      <th>13</th>\n      <td>middle_aged</td>\n      <td>high</td>\n      <td>yes</td>\n      <td>fair</td>\n      <td>yes</td>\n    </tr>\n    <tr>\n      <th>14</th>\n      <td>senior</td>\n      <td>medium</td>\n      <td>no</td>\n      <td>excellent</td>\n      <td>no</td>\n    </tr>\n  </tbody>\n</table>\n</div>"
     },
     "execution_count": 94,
     "metadata": {},
     "output_type": "execute_result"
    }
   ],
   "source": [
    "import math\n",
    "import pandas as pd\n",
    "\n",
    "columns = ['RID', 'Age', 'income', 'student', 'credit_rating', 'Class: buys_computer']\n",
    "data_info = [[1, 'youth', 'high', 'no', 'fair', 'no'],\n",
    "             [2, 'youth', 'high', 'no', 'excellent', 'no'],\n",
    "             [3, 'middle_aged', 'high', 'no', 'fair', 'yes'],\n",
    "             [4, 'senior', 'medium', 'no', 'fair', 'yes'],\n",
    "             [5, 'senior', 'low', 'yes', 'fair', 'yes'],\n",
    "             [6, 'senior', 'low', 'yes', 'excellent', 'no'],\n",
    "             [7, 'middle_aged', 'low', 'yes', 'excellent', 'yes'],\n",
    "             [8, 'youth', 'medium', 'no', 'fair', 'no'],\n",
    "             [9, 'youth', 'low', 'yes', 'fair', 'yes'],\n",
    "             [10, 'senior', 'medium', 'yes', 'fair', 'yes'],\n",
    "             [11, 'youth', 'medium', 'yes', 'excellent', 'yes'],\n",
    "             [12, 'middle_aged', 'medium', 'no', 'excellent', 'yes'],\n",
    "             [13, 'middle_aged', 'high', 'yes', 'fair', 'yes'],\n",
    "             [14, 'senior', 'medium', 'no', 'excellent', 'no']]\n",
    "\n",
    "df = pd.DataFrame(data_info, columns=columns)\n",
    "df = df.set_index(\"RID\")\n",
    "df"
   ],
   "metadata": {
    "collapsed": false,
    "pycharm": {
     "name": "#%%\n"
    }
   }
  },
  {
   "cell_type": "code",
   "execution_count": 95,
   "outputs": [
    {
     "data": {
      "text/plain": "       Age  income student credit_rating Class: buys_computer\nRID                                                          \n1    youth    high      no          fair                   no\n2    youth    high      no     excellent                   no\n8    youth  medium      no          fair                   no\n9    youth     low     yes          fair                  yes\n11   youth  medium     yes     excellent                  yes",
      "text/html": "<div>\n<style scoped>\n    .dataframe tbody tr th:only-of-type {\n        vertical-align: middle;\n    }\n\n    .dataframe tbody tr th {\n        vertical-align: top;\n    }\n\n    .dataframe thead th {\n        text-align: right;\n    }\n</style>\n<table border=\"1\" class=\"dataframe\">\n  <thead>\n    <tr style=\"text-align: right;\">\n      <th></th>\n      <th>Age</th>\n      <th>income</th>\n      <th>student</th>\n      <th>credit_rating</th>\n      <th>Class: buys_computer</th>\n    </tr>\n    <tr>\n      <th>RID</th>\n      <th></th>\n      <th></th>\n      <th></th>\n      <th></th>\n      <th></th>\n    </tr>\n  </thead>\n  <tbody>\n    <tr>\n      <th>1</th>\n      <td>youth</td>\n      <td>high</td>\n      <td>no</td>\n      <td>fair</td>\n      <td>no</td>\n    </tr>\n    <tr>\n      <th>2</th>\n      <td>youth</td>\n      <td>high</td>\n      <td>no</td>\n      <td>excellent</td>\n      <td>no</td>\n    </tr>\n    <tr>\n      <th>8</th>\n      <td>youth</td>\n      <td>medium</td>\n      <td>no</td>\n      <td>fair</td>\n      <td>no</td>\n    </tr>\n    <tr>\n      <th>9</th>\n      <td>youth</td>\n      <td>low</td>\n      <td>yes</td>\n      <td>fair</td>\n      <td>yes</td>\n    </tr>\n    <tr>\n      <th>11</th>\n      <td>youth</td>\n      <td>medium</td>\n      <td>yes</td>\n      <td>excellent</td>\n      <td>yes</td>\n    </tr>\n  </tbody>\n</table>\n</div>"
     },
     "execution_count": 95,
     "metadata": {},
     "output_type": "execute_result"
    }
   ],
   "source": [
    "subset = df[df[\"Age\"] ==\"youth\"]\n",
    "subset"
   ],
   "metadata": {
    "collapsed": false,
    "pycharm": {
     "name": "#%%\n"
    }
   }
  },
  {
   "cell_type": "markdown",
   "source": [
    "$$Info(D) = -\\sum_{i=1}^{m} p_ilog_2{p_i}$$ <br>\n",
    "$$Info_{A}(D)= \\sum_{j=1}^{v} \\frac{|D_j|}{|D|} \\times Info(D_j)$$ <br>\n",
    "$$Info(D)=-[\\frac{2}{5}log_2(\\frac{2}{5})] - [\\frac{3}{5}log_2(\\frac{3}{5})] = 0.9709506$$<br>\n",
    "$$Gain(A)=Info(D)-Info_{A}(D)$$ <br>"
   ],
   "metadata": {
    "collapsed": false,
    "pycharm": {
     "name": "#%% md\n"
    }
   }
  },
  {
   "cell_type": "code",
   "execution_count": 96,
   "outputs": [
    {
     "data": {
      "text/plain": "0.9709505944546686"
     },
     "execution_count": 96,
     "metadata": {},
     "output_type": "execute_result"
    }
   ],
   "source": [
    "Info_i_D = -((2/5)*math.log(2/5,2))-((3/5)*math.log(3/5,2))\n",
    "Info_i_D"
   ],
   "metadata": {
    "collapsed": false,
    "pycharm": {
     "name": "#%%\n"
    }
   }
  },
  {
   "cell_type": "markdown",
   "source": [
    "### Computation of gain ratio for the <i><u>Credit attribute"
   ],
   "metadata": {
    "collapsed": false,
    "pycharm": {
     "name": "#%% md\n"
    }
   }
  },
  {
   "cell_type": "code",
   "execution_count": 97,
   "outputs": [
    {
     "data": {
      "text/plain": "       Age  income student credit_rating Class: buys_computer\nRID                                                          \n2    youth    high      no     excellent                   no\n11   youth  medium     yes     excellent                  yes",
      "text/html": "<div>\n<style scoped>\n    .dataframe tbody tr th:only-of-type {\n        vertical-align: middle;\n    }\n\n    .dataframe tbody tr th {\n        vertical-align: top;\n    }\n\n    .dataframe thead th {\n        text-align: right;\n    }\n</style>\n<table border=\"1\" class=\"dataframe\">\n  <thead>\n    <tr style=\"text-align: right;\">\n      <th></th>\n      <th>Age</th>\n      <th>income</th>\n      <th>student</th>\n      <th>credit_rating</th>\n      <th>Class: buys_computer</th>\n    </tr>\n    <tr>\n      <th>RID</th>\n      <th></th>\n      <th></th>\n      <th></th>\n      <th></th>\n      <th></th>\n    </tr>\n  </thead>\n  <tbody>\n    <tr>\n      <th>2</th>\n      <td>youth</td>\n      <td>high</td>\n      <td>no</td>\n      <td>excellent</td>\n      <td>no</td>\n    </tr>\n    <tr>\n      <th>11</th>\n      <td>youth</td>\n      <td>medium</td>\n      <td>yes</td>\n      <td>excellent</td>\n      <td>yes</td>\n    </tr>\n  </tbody>\n</table>\n</div>"
     },
     "execution_count": 97,
     "metadata": {},
     "output_type": "execute_result"
    }
   ],
   "source": [
    "subset_credit_e = subset[subset['credit_rating'] ==\"excellent\"]\n",
    "subset_credit_e"
   ],
   "metadata": {
    "collapsed": false,
    "pycharm": {
     "name": "#%%\n"
    }
   }
  },
  {
   "cell_type": "code",
   "execution_count": 98,
   "outputs": [
    {
     "data": {
      "text/plain": "       Age  income student credit_rating Class: buys_computer\nRID                                                          \n1    youth    high      no          fair                   no\n8    youth  medium      no          fair                   no\n9    youth     low     yes          fair                  yes",
      "text/html": "<div>\n<style scoped>\n    .dataframe tbody tr th:only-of-type {\n        vertical-align: middle;\n    }\n\n    .dataframe tbody tr th {\n        vertical-align: top;\n    }\n\n    .dataframe thead th {\n        text-align: right;\n    }\n</style>\n<table border=\"1\" class=\"dataframe\">\n  <thead>\n    <tr style=\"text-align: right;\">\n      <th></th>\n      <th>Age</th>\n      <th>income</th>\n      <th>student</th>\n      <th>credit_rating</th>\n      <th>Class: buys_computer</th>\n    </tr>\n    <tr>\n      <th>RID</th>\n      <th></th>\n      <th></th>\n      <th></th>\n      <th></th>\n      <th></th>\n    </tr>\n  </thead>\n  <tbody>\n    <tr>\n      <th>1</th>\n      <td>youth</td>\n      <td>high</td>\n      <td>no</td>\n      <td>fair</td>\n      <td>no</td>\n    </tr>\n    <tr>\n      <th>8</th>\n      <td>youth</td>\n      <td>medium</td>\n      <td>no</td>\n      <td>fair</td>\n      <td>no</td>\n    </tr>\n    <tr>\n      <th>9</th>\n      <td>youth</td>\n      <td>low</td>\n      <td>yes</td>\n      <td>fair</td>\n      <td>yes</td>\n    </tr>\n  </tbody>\n</table>\n</div>"
     },
     "execution_count": 98,
     "metadata": {},
     "output_type": "execute_result"
    }
   ],
   "source": [
    "subset_credit_f = subset[subset['credit_rating'] ==\"fair\"]\n",
    "subset_credit_f\n"
   ],
   "metadata": {
    "collapsed": false,
    "pycharm": {
     "name": "#%%\n"
    }
   }
  },
  {
   "cell_type": "markdown",
   "source": [
    "$$Info_{Credit}(D) =\\frac{2}{5} Info_{Credit=Excellent} + \\frac{3}{5}Info_{Credit=Fair} = 0.9509775$$ <br>\n",
    "$$Info_{Credit=Excelent} = -\\frac{1}{2}log_2(\\frac{1}{2})-\\frac{1}{2}log_2(\\frac{1}{2}) = 1 $$ <br>\n",
    "$$Info_{Credit=Fair} = -\\frac{1}{3}log_2(\\frac{1}{3})-\\frac{2}{3}log_2(\\frac{2}{3}) = 0.9182958$$ <br>\n",
    "$$Info_{Credit}(D) =\\frac{2}{5}[-\\frac{1}{2}log_2(\\frac{1}{2})-\\frac{1}{2}log_2(\\frac{1}{2})] + \\frac{3}{5}[-\\frac{1}{3}log_2(\\frac{1}{3})-\\frac{2}{3}log_2(\\frac{2}{3})] = 0.9509775$$ <br>\n",
    "$$Gain(Credit\\ Rating) = Info(D)- Info_{income}(D) = 0.01997309$$\n",
    "$$Gain(Credit\\ Rating) = 0.9709506 - 0.9509775 = 0.01997309$$"
   ],
   "metadata": {
    "collapsed": false,
    "pycharm": {
     "name": "#%% md\n"
    }
   }
  },
  {
   "cell_type": "code",
   "execution_count": 99,
   "outputs": [
    {
     "data": {
      "text/plain": "0.9182958340544896"
     },
     "execution_count": 99,
     "metadata": {},
     "output_type": "execute_result"
    }
   ],
   "source": [
    "Info_Credit_Fair = -((1/3)*math.log(1/3,2))-((2/3)*math.log(2/3,2))\n",
    "Info_Credit_Fair"
   ],
   "metadata": {
    "collapsed": false,
    "pycharm": {
     "name": "#%%\n"
    }
   }
  },
  {
   "cell_type": "code",
   "execution_count": 100,
   "outputs": [
    {
     "data": {
      "text/plain": "1.0"
     },
     "execution_count": 100,
     "metadata": {},
     "output_type": "execute_result"
    }
   ],
   "source": [
    "Info_Credit_Excellent = -((1/2)*math.log(1/2,2))-((1/2)*math.log(1/2,2))\n",
    "Info_Credit_Excellent"
   ],
   "metadata": {
    "collapsed": false,
    "pycharm": {
     "name": "#%%\n"
    }
   }
  },
  {
   "cell_type": "code",
   "execution_count": 101,
   "outputs": [
    {
     "data": {
      "text/plain": "0.9509775004326937"
     },
     "execution_count": 101,
     "metadata": {},
     "output_type": "execute_result"
    }
   ],
   "source": [
    "Info_Credit = ((2/5)*Info_Credit_Excellent) + ((3/5)*Info_Credit_Fair)\n",
    "Info_Credit"
   ],
   "metadata": {
    "collapsed": false,
    "pycharm": {
     "name": "#%%\n"
    }
   }
  },
  {
   "cell_type": "code",
   "execution_count": 102,
   "outputs": [
    {
     "data": {
      "text/plain": "0.01997309402197489"
     },
     "execution_count": 102,
     "metadata": {},
     "output_type": "execute_result"
    }
   ],
   "source": [
    "Gain_Credit = Info_i_D-Info_Credit\n",
    "Gain_Credit"
   ],
   "metadata": {
    "collapsed": false,
    "pycharm": {
     "name": "#%%\n"
    }
   }
  },
  {
   "cell_type": "markdown",
   "source": [
    "### Computation of gain ratio for the <i><u>Student attribute"
   ],
   "metadata": {
    "collapsed": false,
    "pycharm": {
     "name": "#%% md\n"
    }
   }
  },
  {
   "cell_type": "code",
   "execution_count": 103,
   "outputs": [
    {
     "data": {
      "text/plain": "       Age  income student credit_rating Class: buys_computer\nRID                                                          \n9    youth     low     yes          fair                  yes\n11   youth  medium     yes     excellent                  yes",
      "text/html": "<div>\n<style scoped>\n    .dataframe tbody tr th:only-of-type {\n        vertical-align: middle;\n    }\n\n    .dataframe tbody tr th {\n        vertical-align: top;\n    }\n\n    .dataframe thead th {\n        text-align: right;\n    }\n</style>\n<table border=\"1\" class=\"dataframe\">\n  <thead>\n    <tr style=\"text-align: right;\">\n      <th></th>\n      <th>Age</th>\n      <th>income</th>\n      <th>student</th>\n      <th>credit_rating</th>\n      <th>Class: buys_computer</th>\n    </tr>\n    <tr>\n      <th>RID</th>\n      <th></th>\n      <th></th>\n      <th></th>\n      <th></th>\n      <th></th>\n    </tr>\n  </thead>\n  <tbody>\n    <tr>\n      <th>9</th>\n      <td>youth</td>\n      <td>low</td>\n      <td>yes</td>\n      <td>fair</td>\n      <td>yes</td>\n    </tr>\n    <tr>\n      <th>11</th>\n      <td>youth</td>\n      <td>medium</td>\n      <td>yes</td>\n      <td>excellent</td>\n      <td>yes</td>\n    </tr>\n  </tbody>\n</table>\n</div>"
     },
     "execution_count": 103,
     "metadata": {},
     "output_type": "execute_result"
    }
   ],
   "source": [
    "subset_student_y = subset[subset[\"student\"] == \"yes\"]\n",
    "subset_student_y"
   ],
   "metadata": {
    "collapsed": false,
    "pycharm": {
     "name": "#%%\n"
    }
   }
  },
  {
   "cell_type": "code",
   "execution_count": 104,
   "outputs": [
    {
     "data": {
      "text/plain": "       Age  income student credit_rating Class: buys_computer\nRID                                                          \n1    youth    high      no          fair                   no\n2    youth    high      no     excellent                   no\n8    youth  medium      no          fair                   no",
      "text/html": "<div>\n<style scoped>\n    .dataframe tbody tr th:only-of-type {\n        vertical-align: middle;\n    }\n\n    .dataframe tbody tr th {\n        vertical-align: top;\n    }\n\n    .dataframe thead th {\n        text-align: right;\n    }\n</style>\n<table border=\"1\" class=\"dataframe\">\n  <thead>\n    <tr style=\"text-align: right;\">\n      <th></th>\n      <th>Age</th>\n      <th>income</th>\n      <th>student</th>\n      <th>credit_rating</th>\n      <th>Class: buys_computer</th>\n    </tr>\n    <tr>\n      <th>RID</th>\n      <th></th>\n      <th></th>\n      <th></th>\n      <th></th>\n      <th></th>\n    </tr>\n  </thead>\n  <tbody>\n    <tr>\n      <th>1</th>\n      <td>youth</td>\n      <td>high</td>\n      <td>no</td>\n      <td>fair</td>\n      <td>no</td>\n    </tr>\n    <tr>\n      <th>2</th>\n      <td>youth</td>\n      <td>high</td>\n      <td>no</td>\n      <td>excellent</td>\n      <td>no</td>\n    </tr>\n    <tr>\n      <th>8</th>\n      <td>youth</td>\n      <td>medium</td>\n      <td>no</td>\n      <td>fair</td>\n      <td>no</td>\n    </tr>\n  </tbody>\n</table>\n</div>"
     },
     "execution_count": 104,
     "metadata": {},
     "output_type": "execute_result"
    }
   ],
   "source": [
    "subset_student_n = subset[subset[\"student\"] == \"no\"]\n",
    "subset_student_n"
   ],
   "metadata": {
    "collapsed": false,
    "pycharm": {
     "name": "#%%\n"
    }
   }
  },
  {
   "cell_type": "markdown",
   "source": [
    "$$Info_{Student}(D) =\\frac{2}{5} Info_{Student=Yes} + \\frac{3}{5}Info_{Student=No} = 0$$ <br>\n",
    "$$Info_{Student=Yes} = -\\frac{2}{2}log_2(\\frac{2}{2})-\\frac{0}{2}log_2(\\frac{0}{2})= 0$$ <br>\n",
    "$$Info_{Student=No} = -\\frac{0}{3}log_2(\\frac{0}{3})-\\frac{3}{3}log_2(\\frac{3}{3})= 0$$ <br>\n",
    "$$Info_{Student}(D) =\\frac{2}{5}[-\\frac{2}{2}log_2(\\frac{2}{2})-\\frac{0}{2}log_2(\\frac{0}{2})] + \\frac{3}{5}[-\\frac{0}{3}log_2(\\frac{0}{3})-\\frac{3}{3}log_2(\\frac{3}{3})] = 0$$ <br>\n",
    "$$Gain(Student) = Info(D)- Info_{Student}(D) = 0.9709506$$ <br>\n",
    "$$Gain(Student) = 0.9709506 - 0 = 0.9709506$$ <br>"
   ],
   "metadata": {
    "collapsed": false,
    "pycharm": {
     "name": "#%% md\n"
    }
   }
  },
  {
   "cell_type": "code",
   "execution_count": 105,
   "outputs": [
    {
     "data": {
      "text/plain": "0.9709505944546686"
     },
     "execution_count": 105,
     "metadata": {},
     "output_type": "execute_result"
    }
   ],
   "source": [
    "Info_Student = 0\n",
    "Gain_Student = Info_i_D - Info_Student\n",
    "Gain_Student"
   ],
   "metadata": {
    "collapsed": false,
    "pycharm": {
     "name": "#%%\n"
    }
   }
  },
  {
   "cell_type": "markdown",
   "source": [
    "### Computation of gain ratio for the <i><u>Income attribute\n"
   ],
   "metadata": {
    "collapsed": false,
    "pycharm": {
     "name": "#%% md\n"
    }
   }
  },
  {
   "cell_type": "code",
   "execution_count": 106,
   "outputs": [
    {
     "data": {
      "text/plain": "       Age income student credit_rating Class: buys_computer\nRID                                                         \n1    youth   high      no          fair                   no\n2    youth   high      no     excellent                   no",
      "text/html": "<div>\n<style scoped>\n    .dataframe tbody tr th:only-of-type {\n        vertical-align: middle;\n    }\n\n    .dataframe tbody tr th {\n        vertical-align: top;\n    }\n\n    .dataframe thead th {\n        text-align: right;\n    }\n</style>\n<table border=\"1\" class=\"dataframe\">\n  <thead>\n    <tr style=\"text-align: right;\">\n      <th></th>\n      <th>Age</th>\n      <th>income</th>\n      <th>student</th>\n      <th>credit_rating</th>\n      <th>Class: buys_computer</th>\n    </tr>\n    <tr>\n      <th>RID</th>\n      <th></th>\n      <th></th>\n      <th></th>\n      <th></th>\n      <th></th>\n    </tr>\n  </thead>\n  <tbody>\n    <tr>\n      <th>1</th>\n      <td>youth</td>\n      <td>high</td>\n      <td>no</td>\n      <td>fair</td>\n      <td>no</td>\n    </tr>\n    <tr>\n      <th>2</th>\n      <td>youth</td>\n      <td>high</td>\n      <td>no</td>\n      <td>excellent</td>\n      <td>no</td>\n    </tr>\n  </tbody>\n</table>\n</div>"
     },
     "execution_count": 106,
     "metadata": {},
     "output_type": "execute_result"
    }
   ],
   "source": [
    "subset_income_high = subset[subset[\"income\"] == \"high\"]\n",
    "subset_income_high"
   ],
   "metadata": {
    "collapsed": false,
    "pycharm": {
     "name": "#%%\n"
    }
   }
  },
  {
   "cell_type": "code",
   "execution_count": 107,
   "outputs": [
    {
     "data": {
      "text/plain": "       Age  income student credit_rating Class: buys_computer\nRID                                                          \n8    youth  medium      no          fair                   no\n11   youth  medium     yes     excellent                  yes",
      "text/html": "<div>\n<style scoped>\n    .dataframe tbody tr th:only-of-type {\n        vertical-align: middle;\n    }\n\n    .dataframe tbody tr th {\n        vertical-align: top;\n    }\n\n    .dataframe thead th {\n        text-align: right;\n    }\n</style>\n<table border=\"1\" class=\"dataframe\">\n  <thead>\n    <tr style=\"text-align: right;\">\n      <th></th>\n      <th>Age</th>\n      <th>income</th>\n      <th>student</th>\n      <th>credit_rating</th>\n      <th>Class: buys_computer</th>\n    </tr>\n    <tr>\n      <th>RID</th>\n      <th></th>\n      <th></th>\n      <th></th>\n      <th></th>\n      <th></th>\n    </tr>\n  </thead>\n  <tbody>\n    <tr>\n      <th>8</th>\n      <td>youth</td>\n      <td>medium</td>\n      <td>no</td>\n      <td>fair</td>\n      <td>no</td>\n    </tr>\n    <tr>\n      <th>11</th>\n      <td>youth</td>\n      <td>medium</td>\n      <td>yes</td>\n      <td>excellent</td>\n      <td>yes</td>\n    </tr>\n  </tbody>\n</table>\n</div>"
     },
     "execution_count": 107,
     "metadata": {},
     "output_type": "execute_result"
    }
   ],
   "source": [
    "subset_income_medium = subset[subset[\"income\"] == \"medium\"]\n",
    "subset_income_medium"
   ],
   "metadata": {
    "collapsed": false,
    "pycharm": {
     "name": "#%%\n"
    }
   }
  },
  {
   "cell_type": "code",
   "execution_count": 108,
   "outputs": [
    {
     "data": {
      "text/plain": "       Age income student credit_rating Class: buys_computer\nRID                                                         \n9    youth    low     yes          fair                  yes",
      "text/html": "<div>\n<style scoped>\n    .dataframe tbody tr th:only-of-type {\n        vertical-align: middle;\n    }\n\n    .dataframe tbody tr th {\n        vertical-align: top;\n    }\n\n    .dataframe thead th {\n        text-align: right;\n    }\n</style>\n<table border=\"1\" class=\"dataframe\">\n  <thead>\n    <tr style=\"text-align: right;\">\n      <th></th>\n      <th>Age</th>\n      <th>income</th>\n      <th>student</th>\n      <th>credit_rating</th>\n      <th>Class: buys_computer</th>\n    </tr>\n    <tr>\n      <th>RID</th>\n      <th></th>\n      <th></th>\n      <th></th>\n      <th></th>\n      <th></th>\n    </tr>\n  </thead>\n  <tbody>\n    <tr>\n      <th>9</th>\n      <td>youth</td>\n      <td>low</td>\n      <td>yes</td>\n      <td>fair</td>\n      <td>yes</td>\n    </tr>\n  </tbody>\n</table>\n</div>"
     },
     "execution_count": 108,
     "metadata": {},
     "output_type": "execute_result"
    }
   ],
   "source": [
    "subset_income_low = subset[subset[\"income\"] == \"low\"]\n",
    "subset_income_low"
   ],
   "metadata": {
    "collapsed": false,
    "pycharm": {
     "name": "#%%\n"
    }
   }
  },
  {
   "cell_type": "markdown",
   "source": [
    "$$Info_{Income}(D) =\\frac{1}{5} Info_{Income=Low} + \\frac{2}{5}Info_{Income=Medium} + \\frac{2}{5}Info_{Income=High} = .4 $$ <br>\n",
    "$$Info_{Income=Low} = -\\frac{1}{1}log_2(\\frac{1}{1}) -\\frac{0}{1}log_2(\\frac{0}{1}) = 0 $$ <br>\n",
    "$$Info_{Income=Medium} = -\\frac{1}{2}log_2(\\frac{1}{2}) -\\frac{1}{2}log_2(\\frac{1}{2}) = 1 $$ <br>\n",
    "$$Info_{Income=High} = -\\frac{0}{2}log_2(\\frac{0}{2}) -\\frac{2}{2}log_2(\\frac{2}{2}) = 0$$ <br>\n",
    "$$Info_{Income}(D) =\\frac{1}{5}[-\\frac{1}{1}log_2(\\frac{1}{1}) -\\frac{0}{1}log_2(\\frac{0}{1})] + $$ <br>\n",
    "$$\\frac{2}{5}[-\\frac{1}{2}log_2(\\frac{1}{2}) -\\frac{1}{2}log_2(\\frac{1}{2})] + $$ <br>\n",
    "$$\\frac{2}{5}[-\\frac{0}{2}log_2(\\frac{0}{2}) -\\frac{2}{2}log_2(\\frac{2}{2})] = .4 $$ <br>\n",
    "$$Gain(Income) = Info(D)- Info_{Income}(D) =  0.5709506$$ <br>\n",
    "$$Gain(Income) = 0.9709506 - .4 =  0.5709506$$ <br>"
   ],
   "metadata": {
    "collapsed": false,
    "pycharm": {
     "name": "#%% md\n"
    }
   }
  },
  {
   "cell_type": "code",
   "execution_count": 109,
   "outputs": [
    {
     "data": {
      "text/plain": "1.0"
     },
     "execution_count": 109,
     "metadata": {},
     "output_type": "execute_result"
    }
   ],
   "source": [
    "Info_Income_Low = 0\n",
    "Info_Income_High = 0\n",
    "Info_Income_Medium = -((1/2)*math.log(1/2,2))-((1/2)*math.log(1/2,2))\n",
    "Info_Income_Medium"
   ],
   "metadata": {
    "collapsed": false,
    "pycharm": {
     "name": "#%%\n"
    }
   }
  },
  {
   "cell_type": "code",
   "execution_count": 110,
   "outputs": [
    {
     "data": {
      "text/plain": "0.4"
     },
     "execution_count": 110,
     "metadata": {},
     "output_type": "execute_result"
    }
   ],
   "source": [
    "Info_Income = ((1/5)*Info_Income_Low) + ((2/5)*Info_Income_Medium) + ((2/5)*Info_Income_High)\n",
    "Info_Income"
   ],
   "metadata": {
    "collapsed": false,
    "pycharm": {
     "name": "#%%\n"
    }
   }
  },
  {
   "cell_type": "code",
   "execution_count": 111,
   "outputs": [
    {
     "data": {
      "text/plain": "0.5709505944546686"
     },
     "execution_count": 111,
     "metadata": {},
     "output_type": "execute_result"
    }
   ],
   "source": [
    "Gain_Income = Info_i_D - Info_Income\n",
    "Gain_Income"
   ],
   "metadata": {
    "collapsed": false,
    "pycharm": {
     "name": "#%%\n"
    }
   }
  },
  {
   "cell_type": "markdown",
   "source": [
    "## Comparing all of the Gain's together <br>\n",
    "$$Gain(Student) = 0.9709506 - 0 = 0.9709506$$ <br>\n",
    "$$Gain(Income) = 0.9709506 - .4 =  0.5709506$$ <br>\n",
    "$$Gain(Credit\\ Rating) = 0.9709506 - 0.9509775 = 0.01997309$$ <br>\n",
    "<br>\n",
    "These are all of the subtree splits on the left of the tree in which is under \"youth\"\n",
    "The next split that we will want to make is off of student as it has the highest gain value"
   ],
   "metadata": {
    "collapsed": false,
    "pycharm": {
     "name": "#%% md\n"
    }
   }
  },
  {
   "cell_type": "markdown",
   "source": [
    "## Part 2\n",
    "You are to create a set of 8..12 training tuples, including the classification of each, and then run through sklearn to\n",
    " build a decision and print out the resultant decision tree.  You should craft your tuples and classification array such\n",
    "  that the decision tree has at least 3 levels (including the root) and explain which tuples end up in which leaf level\n",
    "   node.  Feel free to draw a picture or use the graph viewer if you prefer. <br><br>\n",
    "The problem is to classify college student applicants based on likelihood of finishing in 6 years as \"yes\" or \"no\".\n",
    "Assume a tuple has the following information: <br>\n",
    "\n",
    "[GPA, RANK, WORKED]\n",
    "where: GPA = high school grade point average\n",
    "\n",
    "RANK = rank in class expressed as a decimal percentile (e.g. 0.99 means top 99%)\n",
    "\n",
    "WORKED =  { 0 , 1} where 0 means did not work a job in HS, 1 means did\n",
    "\n",
    "For example:\n",
    "\n",
    "[3.4,0.85,1] means an applicant has a 3.4 gpa, was in the top 85 percentile, and worked while in high school."
   ],
   "metadata": {
    "collapsed": false,
    "pycharm": {
     "name": "#%% md\n"
    }
   }
  },
  {
   "cell_type": "code",
   "execution_count": 112,
   "outputs": [],
   "source": [
    "# Importing Libraries\n",
    "\n",
    "import pandas as pd\n",
    "import random\n",
    "import numpy as np\n",
    "import graphviz\n",
    "from sklearn import tree\n",
    "from sklearn.tree import export_text\n",
    "from sklearn.tree import export_graphviz"
   ],
   "metadata": {
    "collapsed": false,
    "pycharm": {
     "name": "#%%\n"
    }
   }
  },
  {
   "cell_type": "markdown",
   "source": [
    "### Setting Up Random Data to have biases\n",
    "GPA's are assigned randomly in between a scale of 1 and 4"
   ],
   "metadata": {
    "collapsed": false,
    "pycharm": {
     "name": "#%% md\n"
    }
   }
  },
  {
   "cell_type": "code",
   "execution_count": 113,
   "outputs": [
    {
     "name": "stdout",
     "output_type": "stream",
     "text": [
      "GPA's [2.08, 2.44, 2.25, 2.34, 2.23, 2.97, 1.78, 2.9, 1.03, 1.91, 2.01, 1.43]\n",
      "GPA's Testing [3.23, 1.93, 3.37, 3.87, 1.76, 3.68, 3.42, 3.0, 1.08, 2.37, 2.88, 1.89]\n"
     ]
    }
   ],
   "source": [
    "# Setting Random Seed\n",
    "random.seed(16)\n",
    "\n",
    "# Creating a list of 12 Random GPAS\n",
    "GPA = [round(random.uniform(1, 4), 2) for _ in range(12)]  # Creating List of Random GPA\n",
    "GPA_testing = [round(random.uniform(1, 4), 2) for _ in range(12)]\n",
    "print(\"GPA's\", GPA)\n",
    "print(\"GPA's Testing\", GPA_testing)"
   ],
   "metadata": {
    "collapsed": false,
    "pycharm": {
     "name": "#%%\n"
    }
   }
  },
  {
   "cell_type": "markdown",
   "source": [
    "Rankings are assigned on tier basis. Within those tiers there is some variability <br>\n",
    "-If the GPA is above 3.5 the student is in the top 90-100% <br>\n",
    "-If the GPA is above 3.0 but below 3.5 the student is in the top 80-90% <br>\n",
    "-If the GPA is above 2.5 but below 3 the student is in the top 70-80% <br>\n",
    "-If the GPA is above 2.0 but below 2.5 the student is in the top 60-70% <br>\n",
    "-If the GPA is below 2.0 the student is in the bottom 0-60% <br>"
   ],
   "metadata": {
    "collapsed": false,
    "pycharm": {
     "name": "#%% md\n"
    }
   }
  },
  {
   "cell_type": "code",
   "execution_count": 114,
   "outputs": [
    {
     "name": "stdout",
     "output_type": "stream",
     "text": [
      "Rankings [0.62, 0.63, 0.63, 0.68, 0.63, 0.74, 0.39, 0.79, 0.18, 0.03, 0.7, 0.5]\n",
      "Ranking Testing [0.88, 0.31, 0.82, 0.92, 0.18, 0.95, 0.81, 0.77, 0.44, 0.6, 0.78, 0.29]\n"
     ]
    }
   ],
   "source": [
    "def get_rankings(GPA):\n",
    "    \"\"\"This Function Randomizes rankings with weights\"\"\"\n",
    "    RANK = []\n",
    "    for grade in GPA:\n",
    "        if grade > 3.5:\n",
    "            RANK.append(round(random.uniform(.9, 1), 2))\n",
    "        elif grade > 3:\n",
    "            RANK.append(round(random.uniform(.8, .9), 2))\n",
    "        elif grade > 2.5:\n",
    "            RANK.append(round(random.uniform(.7, .8), 2))\n",
    "        elif grade > 2:\n",
    "            RANK.append(round(random.uniform(.6, .7), 2))\n",
    "        else:\n",
    "            RANK.append(round(random.uniform(0, .6), 2))\n",
    "    return RANK\n",
    "\n",
    "RANK = get_rankings(GPA)\n",
    "RANK_testing = get_rankings(GPA_testing)\n",
    "\n",
    "print(\"Rankings\", RANK)\n",
    "print(\"Ranking Testing\", RANK_testing)"
   ],
   "metadata": {
    "collapsed": false,
    "pycharm": {
     "name": "#%%\n"
    }
   }
  },
  {
   "cell_type": "markdown",
   "source": [
    "For assigning working values. 1 indicates that the student did work, 0 indicates the student did not. <br>\n",
    "-If the students GPA is above 2.0, there is a random 0-60 value assigned. If that value is above 50 they did work. <br>\n",
    "-If the students GPA is below 2.0, there is a random 30-100 value assigned. If that value is above 50 they did work."
   ],
   "metadata": {
    "collapsed": false,
    "pycharm": {
     "name": "#%% md\n"
    }
   }
  },
  {
   "cell_type": "code",
   "execution_count": 115,
   "outputs": [
    {
     "name": "stdout",
     "output_type": "stream",
     "text": [
      "Worked [1, 1, 0, 0, 0, 0, 1, 1, 0, 1, 0, 0]\n",
      "Worked Testing [0, 1, 1, 0, 1, 0, 0, 0, 1, 0, 0, 1]\n"
     ]
    }
   ],
   "source": [
    "# Setting up Random Work 0 did not work 1 did, Scaling it toward working have lower GPA\n",
    "def get_working(GPA):\n",
    "    \"\"\"Determining if they worked based off of GPA, with some randomness\"\"\"\n",
    "    WORKED = []\n",
    "    for num in enumerate(GPA):\n",
    "        if num[1] > 2:\n",
    "            rand_work = random.randint(0, 60)\n",
    "            if rand_work > 50:\n",
    "                WORKED.append(1)\n",
    "            else:\n",
    "                WORKED.append(0)\n",
    "        else:\n",
    "            if random.randint(30, 100) > 50:\n",
    "                WORKED.append(1)\n",
    "            else:\n",
    "                WORKED.append(0)\n",
    "    return  WORKED\n",
    "\n",
    "WORKED = get_working(GPA)\n",
    "WORKED_testing = get_working(GPA_testing)\n",
    "print(\"Worked\", WORKED)\n",
    "print(\"Worked Testing\", WORKED_testing)"
   ],
   "metadata": {
    "collapsed": false,
    "pycharm": {
     "name": "#%%\n"
    }
   }
  },
  {
   "cell_type": "markdown",
   "source": [
    "Compressing the GPA, RANKING and WORKED into a list"
   ],
   "metadata": {
    "collapsed": false,
    "pycharm": {
     "name": "#%% md\n"
    }
   }
  },
  {
   "cell_type": "code",
   "execution_count": 116,
   "outputs": [
    {
     "name": "stdout",
     "output_type": "stream",
     "text": [
      "List_o_list [[2.08, 0.62, 1], [2.44, 0.63, 1], [2.25, 0.63, 0], [2.34, 0.68, 0], [2.23, 0.63, 0], [2.97, 0.74, 0], [1.78, 0.39, 1], [2.9, 0.79, 1], [1.03, 0.18, 0], [1.91, 0.03, 1], [2.01, 0.7, 0], [1.43, 0.5, 0]]\n",
      "List_o_training [[3.23, 0.88, 0], [1.93, 0.31, 1], [3.37, 0.82, 1], [3.87, 0.92, 0], [1.76, 0.18, 1], [3.68, 0.95, 0], [3.42, 0.81, 0], [3.0, 0.77, 0], [1.08, 0.44, 1], [2.37, 0.6, 0], [2.88, 0.78, 0], [1.89, 0.29, 1]]\n"
     ]
    }
   ],
   "source": [
    "def compress_list(GPA, RANK, WORKED):\n",
    "    \"\"\"Compressing the lists\"\"\"\n",
    "    list_o_list = []\n",
    "    for num in range(len(GPA)):\n",
    "        list_o_list.append([GPA[num], RANK[num], WORKED[num]])\n",
    "    return list_o_list\n",
    "\n",
    "list_o_list = compress_list(GPA, RANK, WORKED)\n",
    "list_o_training = compress_list(GPA_testing, RANK_testing, WORKED_testing)\n",
    "print(\"List_o_list\", list_o_list)\n",
    "print(\"List_o_training\", list_o_training)"
   ],
   "metadata": {
    "collapsed": false,
    "pycharm": {
     "name": "#%%\n"
    }
   }
  },
  {
   "cell_type": "markdown",
   "source": [
    "Graduating in 6 years is based on the sum of GPA, RANK and WORKED. <br>\n",
    "If the sum of these three variables is above 3, They graduate with in 6 years <br>\n",
    "Graduate Training is made so that we can see how well our decision tree works"
   ],
   "metadata": {
    "collapsed": false,
    "pycharm": {
     "name": "#%% md\n"
    }
   }
  },
  {
   "cell_type": "code",
   "execution_count": 117,
   "outputs": [
    {
     "name": "stdout",
     "output_type": "stream",
     "text": [
      "Graduate [1, 1, 0, 1, 0, 1, 1, 1, 0, 0, 0, 0]\n",
      "Graduate Training [1, 1, 1, 1, 0, 1, 1, 1, 0, 0, 1, 1]\n"
     ]
    }
   ],
   "source": [
    "def grad_in_6(list_o_list):\n",
    "    \"\"\"Creating a classifier if they graduate in 6 years \"\"\"\n",
    "    graduate = []\n",
    "    for person in enumerate(list_o_list):\n",
    "        if sum(person[1]) > 3:\n",
    "            graduate.append(1)\n",
    "        else:\n",
    "            graduate.append(0)\n",
    "    return graduate\n",
    "\n",
    "graduate = grad_in_6(list_o_list)\n",
    "graduate_training = grad_in_6(list_o_training)\n",
    "\n",
    "print('Graduate', graduate)\n",
    "print('Graduate Training', graduate_training)"
   ],
   "metadata": {
    "collapsed": false,
    "pycharm": {
     "name": "#%%\n"
    }
   }
  },
  {
   "cell_type": "markdown",
   "source": [
    "First Example"
   ],
   "metadata": {
    "collapsed": false,
    "pycharm": {
     "name": "#%% md\n"
    }
   }
  },
  {
   "cell_type": "code",
   "execution_count": 118,
   "outputs": [
    {
     "name": "stdout",
     "output_type": "stream",
     "text": [
      "<class 'sklearn.tree._classes.DecisionTreeClassifier'>\n",
      "DecisionTreeClassifier()\n",
      "output of classifying 4 new items (should be):  [1, 1, 1, 1, 0, 1, 1, 1, 0, 0, 1, 1]\n",
      "[1, 1, 1, 1, 0, 1, 1, 1, 1, 1, 1, 1]\n"
     ]
    }
   ],
   "source": [
    "X = list_o_list\n",
    "Y = graduate\n",
    "labels = [\"GPA\", \"RANK\", \"WORKED\"]\n",
    "\n",
    "clf = tree.DecisionTreeClassifier()\n",
    "clf = clf.fit(X,Y)\n",
    "print(type(clf))\n",
    "print(clf)\n",
    "\n",
    "foo = clf.predict_proba(list_o_training)\n",
    "\n",
    "print(\"output of classifying 4 new items (should be): \", graduate_training)\n",
    "foo = pd.DataFrame(data=foo, columns=[\"Something\",\"Graduate\"])\n",
    "predict_graduating = foo[\"Graduate\"].to_list()\n",
    "predict_graduating = [int(i) for i in predict_graduating]\n",
    "print(predict_graduating)"
   ],
   "metadata": {
    "collapsed": false,
    "pycharm": {
     "name": "#%%\n"
    }
   }
  },
  {
   "cell_type": "markdown",
   "source": [
    "Second Example\n"
   ],
   "metadata": {
    "collapsed": false,
    "pycharm": {
     "name": "#%% md\n"
    }
   }
  },
  {
   "cell_type": "code",
   "execution_count": 119,
   "outputs": [
    {
     "name": "stdout",
     "output_type": "stream",
     "text": [
      "<class 'sklearn.tree._classes.DecisionTreeClassifier'>\n",
      "DecisionTreeClassifier(criterion='entropy')\n",
      "\n",
      "Now 'predicting class' of the first 6 elements of the training data.\n",
      "test data = [[3.23, 0.88, 0], [1.93, 0.31, 1], [3.37, 0.82, 1], [3.87, 0.92, 0], [1.76, 0.18, 1], [3.68, 0.95, 0], [3.42, 0.81, 0], [3.0, 0.77, 0], [1.08, 0.44, 1], [2.37, 0.6, 0], [2.88, 0.78, 0], [1.89, 0.29, 1]]\n",
      "data are classified as:\n",
      "[[0. 1.]\n",
      " [0. 1.]\n",
      " [0. 1.]\n",
      " [0. 1.]\n",
      " [1. 0.]\n",
      " [0. 1.]\n",
      " [0. 1.]\n",
      " [0. 1.]\n",
      " [0. 1.]\n",
      " [0. 1.]\n",
      " [0. 1.]\n",
      " [0. 1.]]\n",
      "\n",
      "Now printing export_text(clf2)\n",
      "|--- feature_0 <= 2.29\n",
      "|   |--- feature_2 <= 0.50\n",
      "|   |   |--- class: 0\n",
      "|   |--- feature_2 >  0.50\n",
      "|   |   |--- feature_1 <= 0.21\n",
      "|   |   |   |--- class: 0\n",
      "|   |   |--- feature_1 >  0.21\n",
      "|   |   |   |--- class: 1\n",
      "|--- feature_0 >  2.29\n",
      "|   |--- class: 1\n",
      "\n"
     ]
    }
   ],
   "source": [
    "Xnum = list_o_list\n",
    "classifications = graduate\n",
    "clf2 = tree.DecisionTreeClassifier(criterion=\"entropy\")\n",
    "clf2 = clf2.fit(Xnum,classifications)\n",
    "print(type(clf2))\n",
    "print(clf2)\n",
    "\n",
    "print(\"\\nNow 'predicting class' of the first 6 elements of the training data.\")\n",
    "testData = list_o_training\n",
    "foo = clf2.predict_proba( testData )\n",
    "print(\"test data = \" + str(testData))\n",
    "print(\"data are classified as:\")\n",
    "print(foo)\n",
    "\n",
    "treeStruct = export_text(clf2)\n",
    "print(\"\\nNow printing export_text(clf2)\")\n",
    "print(treeStruct)"
   ],
   "metadata": {
    "collapsed": false,
    "pycharm": {
     "name": "#%%\n"
    }
   }
  },
  {
   "cell_type": "code",
   "source": [
    "foo = clf2.apply( Xnum )   # passing in full list of training tuples\n",
    "print(\"clf2.apply( Xnum ):\")\n",
    "print(foo)\n",
    "# now print out line by line as pair:  tuple, which leaf node\n",
    "print(\"\\nNow printing each tuple with the decision tree node it ends up in:\")\n",
    "for i in range(len(foo)):\n",
    "    print(str(Xnum[i]) + \",\" + str(foo[i]))\n",
    "\n",
    "# NOTE - adding in node_ids and class_names as options to make tree viz more robust\n",
    "dot_data = tree.export_graphviz(clf2, node_ids=\"true\",\n",
    "                                feature_names=labels,\n",
    "                                class_names=('No_Did_Not_Graduate','Yes_Graduated'),\n",
    "                                out_file=None,\n",
    "                                filled=True,\n",
    "                                rounded=True,\n",
    "                                special_characters=True)\n",
    "graph = graphviz.Source(dot_data)\n",
    "\n",
    "graph"
   ],
   "metadata": {
    "collapsed": false,
    "pycharm": {
     "name": "#%%\n"
    }
   },
   "execution_count": 120,
   "outputs": [
    {
     "name": "stdout",
     "output_type": "stream",
     "text": [
      "clf2.apply( Xnum ):\n",
      "[5 6 2 6 2 6 5 6 2 4 2 2]\n",
      "\n",
      "Now printing each tuple with the decision tree node it ends up in:\n",
      "[2.08, 0.62, 1],5\n",
      "[2.44, 0.63, 1],6\n",
      "[2.25, 0.63, 0],2\n",
      "[2.34, 0.68, 0],6\n",
      "[2.23, 0.63, 0],2\n",
      "[2.97, 0.74, 0],6\n",
      "[1.78, 0.39, 1],5\n",
      "[2.9, 0.79, 1],6\n",
      "[1.03, 0.18, 0],2\n",
      "[1.91, 0.03, 1],4\n",
      "[2.01, 0.7, 0],2\n",
      "[1.43, 0.5, 0],2\n"
     ]
    },
    {
     "data": {
      "text/plain": "<graphviz.files.Source at 0x19daf4430d0>",
      "image/svg+xml": "<?xml version=\"1.0\" encoding=\"UTF-8\" standalone=\"no\"?>\r\n<!DOCTYPE svg PUBLIC \"-//W3C//DTD SVG 1.1//EN\"\r\n \"http://www.w3.org/Graphics/SVG/1.1/DTD/svg11.dtd\">\r\n<!-- Generated by graphviz version 2.49.2 (20211016.1639)\r\n -->\r\n<!-- Title: Tree Pages: 1 -->\r\n<svg width=\"505pt\" height=\"493pt\"\r\n viewBox=\"0.00 0.00 504.50 493.00\" xmlns=\"http://www.w3.org/2000/svg\" xmlns:xlink=\"http://www.w3.org/1999/xlink\">\r\n<g id=\"graph0\" class=\"graph\" transform=\"scale(1 1) rotate(0) translate(4 489)\">\r\n<title>Tree</title>\r\n<polygon fill=\"white\" stroke=\"transparent\" points=\"-4,4 -4,-489 500.5,-489 500.5,4 -4,4\"/>\r\n<!-- 0 -->\r\n<g id=\"node1\" class=\"node\">\r\n<title>0</title>\r\n<path fill=\"#ffffff\" stroke=\"black\" d=\"M404,-485C404,-485 218,-485 218,-485 212,-485 206,-479 206,-473 206,-473 206,-399 206,-399 206,-393 212,-387 218,-387 218,-387 404,-387 404,-387 410,-387 416,-393 416,-399 416,-399 416,-473 416,-473 416,-479 410,-485 404,-485\"/>\r\n<text text-anchor=\"start\" x=\"284.5\" y=\"-469.8\" font-family=\"Helvetica,sans-Serif\" font-size=\"14.00\">node #0</text>\r\n<text text-anchor=\"start\" x=\"269.5\" y=\"-454.8\" font-family=\"Helvetica,sans-Serif\" font-size=\"14.00\">GPA ≤ 2.295</text>\r\n<text text-anchor=\"start\" x=\"269\" y=\"-439.8\" font-family=\"Helvetica,sans-Serif\" font-size=\"14.00\">entropy = 1.0</text>\r\n<text text-anchor=\"start\" x=\"267.5\" y=\"-424.8\" font-family=\"Helvetica,sans-Serif\" font-size=\"14.00\">samples = 12</text>\r\n<text text-anchor=\"start\" x=\"270.5\" y=\"-409.8\" font-family=\"Helvetica,sans-Serif\" font-size=\"14.00\">value = [6, 6]</text>\r\n<text text-anchor=\"start\" x=\"214\" y=\"-394.8\" font-family=\"Helvetica,sans-Serif\" font-size=\"14.00\">class = No_Did_Not_Graduate</text>\r\n</g>\r\n<!-- 1 -->\r\n<g id=\"node2\" class=\"node\">\r\n<title>1</title>\r\n<path fill=\"#eeab7b\" stroke=\"black\" d=\"M301,-351C301,-351 115,-351 115,-351 109,-351 103,-345 103,-339 103,-339 103,-265 103,-265 103,-259 109,-253 115,-253 115,-253 301,-253 301,-253 307,-253 313,-259 313,-265 313,-265 313,-339 313,-339 313,-345 307,-351 301,-351\"/>\r\n<text text-anchor=\"start\" x=\"181.5\" y=\"-335.8\" font-family=\"Helvetica,sans-Serif\" font-size=\"14.00\">node #1</text>\r\n<text text-anchor=\"start\" x=\"157\" y=\"-320.8\" font-family=\"Helvetica,sans-Serif\" font-size=\"14.00\">WORKED ≤ 0.5</text>\r\n<text text-anchor=\"start\" x=\"158\" y=\"-305.8\" font-family=\"Helvetica,sans-Serif\" font-size=\"14.00\">entropy = 0.811</text>\r\n<text text-anchor=\"start\" x=\"168.5\" y=\"-290.8\" font-family=\"Helvetica,sans-Serif\" font-size=\"14.00\">samples = 8</text>\r\n<text text-anchor=\"start\" x=\"167.5\" y=\"-275.8\" font-family=\"Helvetica,sans-Serif\" font-size=\"14.00\">value = [6, 2]</text>\r\n<text text-anchor=\"start\" x=\"111\" y=\"-260.8\" font-family=\"Helvetica,sans-Serif\" font-size=\"14.00\">class = No_Did_Not_Graduate</text>\r\n</g>\r\n<!-- 0&#45;&gt;1 -->\r\n<g id=\"edge1\" class=\"edge\">\r\n<title>0&#45;&gt;1</title>\r\n<path fill=\"none\" stroke=\"black\" d=\"M273.52,-386.97C266.49,-377.96 259.09,-368.47 251.88,-359.24\"/>\r\n<polygon fill=\"black\" stroke=\"black\" points=\"254.53,-356.94 245.62,-351.21 249.01,-361.25 254.53,-356.94\"/>\r\n<text text-anchor=\"middle\" x=\"242.56\" y=\"-372.33\" font-family=\"Helvetica,sans-Serif\" font-size=\"14.00\">True</text>\r\n</g>\r\n<!-- 6 -->\r\n<g id=\"node7\" class=\"node\">\r\n<title>6</title>\r\n<path fill=\"#399de5\" stroke=\"black\" d=\"M484.5,-343.5C484.5,-343.5 343.5,-343.5 343.5,-343.5 337.5,-343.5 331.5,-337.5 331.5,-331.5 331.5,-331.5 331.5,-272.5 331.5,-272.5 331.5,-266.5 337.5,-260.5 343.5,-260.5 343.5,-260.5 484.5,-260.5 484.5,-260.5 490.5,-260.5 496.5,-266.5 496.5,-272.5 496.5,-272.5 496.5,-331.5 496.5,-331.5 496.5,-337.5 490.5,-343.5 484.5,-343.5\"/>\r\n<text text-anchor=\"start\" x=\"387.5\" y=\"-328.3\" font-family=\"Helvetica,sans-Serif\" font-size=\"14.00\">node #6</text>\r\n<text text-anchor=\"start\" x=\"372\" y=\"-313.3\" font-family=\"Helvetica,sans-Serif\" font-size=\"14.00\">entropy = 0.0</text>\r\n<text text-anchor=\"start\" x=\"374.5\" y=\"-298.3\" font-family=\"Helvetica,sans-Serif\" font-size=\"14.00\">samples = 4</text>\r\n<text text-anchor=\"start\" x=\"373.5\" y=\"-283.3\" font-family=\"Helvetica,sans-Serif\" font-size=\"14.00\">value = [0, 4]</text>\r\n<text text-anchor=\"start\" x=\"339.5\" y=\"-268.3\" font-family=\"Helvetica,sans-Serif\" font-size=\"14.00\">class = Yes_Graduated</text>\r\n</g>\r\n<!-- 0&#45;&gt;6 -->\r\n<g id=\"edge6\" class=\"edge\">\r\n<title>0&#45;&gt;6</title>\r\n<path fill=\"none\" stroke=\"black\" d=\"M348.48,-386.97C357.36,-375.58 366.85,-363.42 375.77,-351.99\"/>\r\n<polygon fill=\"black\" stroke=\"black\" points=\"378.76,-353.85 382.15,-343.82 373.24,-349.55 378.76,-353.85\"/>\r\n<text text-anchor=\"middle\" x=\"385.21\" y=\"-364.93\" font-family=\"Helvetica,sans-Serif\" font-size=\"14.00\">False</text>\r\n</g>\r\n<!-- 2 -->\r\n<g id=\"node3\" class=\"node\">\r\n<title>2</title>\r\n<path fill=\"#e58139\" stroke=\"black\" d=\"M198,-209.5C198,-209.5 12,-209.5 12,-209.5 6,-209.5 0,-203.5 0,-197.5 0,-197.5 0,-138.5 0,-138.5 0,-132.5 6,-126.5 12,-126.5 12,-126.5 198,-126.5 198,-126.5 204,-126.5 210,-132.5 210,-138.5 210,-138.5 210,-197.5 210,-197.5 210,-203.5 204,-209.5 198,-209.5\"/>\r\n<text text-anchor=\"start\" x=\"78.5\" y=\"-194.3\" font-family=\"Helvetica,sans-Serif\" font-size=\"14.00\">node #2</text>\r\n<text text-anchor=\"start\" x=\"63\" y=\"-179.3\" font-family=\"Helvetica,sans-Serif\" font-size=\"14.00\">entropy = 0.0</text>\r\n<text text-anchor=\"start\" x=\"65.5\" y=\"-164.3\" font-family=\"Helvetica,sans-Serif\" font-size=\"14.00\">samples = 5</text>\r\n<text text-anchor=\"start\" x=\"64.5\" y=\"-149.3\" font-family=\"Helvetica,sans-Serif\" font-size=\"14.00\">value = [5, 0]</text>\r\n<text text-anchor=\"start\" x=\"8\" y=\"-134.3\" font-family=\"Helvetica,sans-Serif\" font-size=\"14.00\">class = No_Did_Not_Graduate</text>\r\n</g>\r\n<!-- 1&#45;&gt;2 -->\r\n<g id=\"edge2\" class=\"edge\">\r\n<title>1&#45;&gt;2</title>\r\n<path fill=\"none\" stroke=\"black\" d=\"M170.52,-252.97C161.64,-241.58 152.15,-229.42 143.23,-217.99\"/>\r\n<polygon fill=\"black\" stroke=\"black\" points=\"145.76,-215.55 136.85,-209.82 140.24,-219.85 145.76,-215.55\"/>\r\n</g>\r\n<!-- 3 -->\r\n<g id=\"node4\" class=\"node\">\r\n<title>3</title>\r\n<path fill=\"#9ccef2\" stroke=\"black\" d=\"M381.5,-217C381.5,-217 240.5,-217 240.5,-217 234.5,-217 228.5,-211 228.5,-205 228.5,-205 228.5,-131 228.5,-131 228.5,-125 234.5,-119 240.5,-119 240.5,-119 381.5,-119 381.5,-119 387.5,-119 393.5,-125 393.5,-131 393.5,-131 393.5,-205 393.5,-205 393.5,-211 387.5,-217 381.5,-217\"/>\r\n<text text-anchor=\"start\" x=\"284.5\" y=\"-201.8\" font-family=\"Helvetica,sans-Serif\" font-size=\"14.00\">node #3</text>\r\n<text text-anchor=\"start\" x=\"269\" y=\"-186.8\" font-family=\"Helvetica,sans-Serif\" font-size=\"14.00\">RANK ≤ 0.21</text>\r\n<text text-anchor=\"start\" x=\"261\" y=\"-171.8\" font-family=\"Helvetica,sans-Serif\" font-size=\"14.00\">entropy = 0.918</text>\r\n<text text-anchor=\"start\" x=\"271.5\" y=\"-156.8\" font-family=\"Helvetica,sans-Serif\" font-size=\"14.00\">samples = 3</text>\r\n<text text-anchor=\"start\" x=\"270.5\" y=\"-141.8\" font-family=\"Helvetica,sans-Serif\" font-size=\"14.00\">value = [1, 2]</text>\r\n<text text-anchor=\"start\" x=\"236.5\" y=\"-126.8\" font-family=\"Helvetica,sans-Serif\" font-size=\"14.00\">class = Yes_Graduated</text>\r\n</g>\r\n<!-- 1&#45;&gt;3 -->\r\n<g id=\"edge3\" class=\"edge\">\r\n<title>1&#45;&gt;3</title>\r\n<path fill=\"none\" stroke=\"black\" d=\"M245.48,-252.97C252.51,-243.96 259.91,-234.47 267.12,-225.24\"/>\r\n<polygon fill=\"black\" stroke=\"black\" points=\"269.99,-227.25 273.38,-217.21 264.47,-222.94 269.99,-227.25\"/>\r\n</g>\r\n<!-- 4 -->\r\n<g id=\"node5\" class=\"node\">\r\n<title>4</title>\r\n<path fill=\"#e58139\" stroke=\"black\" d=\"M301,-83C301,-83 115,-83 115,-83 109,-83 103,-77 103,-71 103,-71 103,-12 103,-12 103,-6 109,0 115,0 115,0 301,0 301,0 307,0 313,-6 313,-12 313,-12 313,-71 313,-71 313,-77 307,-83 301,-83\"/>\r\n<text text-anchor=\"start\" x=\"181.5\" y=\"-67.8\" font-family=\"Helvetica,sans-Serif\" font-size=\"14.00\">node #4</text>\r\n<text text-anchor=\"start\" x=\"166\" y=\"-52.8\" font-family=\"Helvetica,sans-Serif\" font-size=\"14.00\">entropy = 0.0</text>\r\n<text text-anchor=\"start\" x=\"168.5\" y=\"-37.8\" font-family=\"Helvetica,sans-Serif\" font-size=\"14.00\">samples = 1</text>\r\n<text text-anchor=\"start\" x=\"167.5\" y=\"-22.8\" font-family=\"Helvetica,sans-Serif\" font-size=\"14.00\">value = [1, 0]</text>\r\n<text text-anchor=\"start\" x=\"111\" y=\"-7.8\" font-family=\"Helvetica,sans-Serif\" font-size=\"14.00\">class = No_Did_Not_Graduate</text>\r\n</g>\r\n<!-- 3&#45;&gt;4 -->\r\n<g id=\"edge4\" class=\"edge\">\r\n<title>3&#45;&gt;4</title>\r\n<path fill=\"none\" stroke=\"black\" d=\"M271.18,-118.87C263.65,-109.76 255.76,-100.23 248.22,-91.12\"/>\r\n<polygon fill=\"black\" stroke=\"black\" points=\"250.77,-88.7 241.7,-83.23 245.37,-93.17 250.77,-88.7\"/>\r\n</g>\r\n<!-- 5 -->\r\n<g id=\"node6\" class=\"node\">\r\n<title>5</title>\r\n<path fill=\"#399de5\" stroke=\"black\" d=\"M484.5,-83C484.5,-83 343.5,-83 343.5,-83 337.5,-83 331.5,-77 331.5,-71 331.5,-71 331.5,-12 331.5,-12 331.5,-6 337.5,0 343.5,0 343.5,0 484.5,0 484.5,0 490.5,0 496.5,-6 496.5,-12 496.5,-12 496.5,-71 496.5,-71 496.5,-77 490.5,-83 484.5,-83\"/>\r\n<text text-anchor=\"start\" x=\"387.5\" y=\"-67.8\" font-family=\"Helvetica,sans-Serif\" font-size=\"14.00\">node #5</text>\r\n<text text-anchor=\"start\" x=\"372\" y=\"-52.8\" font-family=\"Helvetica,sans-Serif\" font-size=\"14.00\">entropy = 0.0</text>\r\n<text text-anchor=\"start\" x=\"374.5\" y=\"-37.8\" font-family=\"Helvetica,sans-Serif\" font-size=\"14.00\">samples = 2</text>\r\n<text text-anchor=\"start\" x=\"373.5\" y=\"-22.8\" font-family=\"Helvetica,sans-Serif\" font-size=\"14.00\">value = [0, 2]</text>\r\n<text text-anchor=\"start\" x=\"339.5\" y=\"-7.8\" font-family=\"Helvetica,sans-Serif\" font-size=\"14.00\">class = Yes_Graduated</text>\r\n</g>\r\n<!-- 3&#45;&gt;5 -->\r\n<g id=\"edge5\" class=\"edge\">\r\n<title>3&#45;&gt;5</title>\r\n<path fill=\"none\" stroke=\"black\" d=\"M350.82,-118.87C358.35,-109.76 366.24,-100.23 373.78,-91.12\"/>\r\n<polygon fill=\"black\" stroke=\"black\" points=\"376.63,-93.17 380.3,-83.23 371.23,-88.7 376.63,-93.17\"/>\r\n</g>\r\n</g>\r\n</svg>\r\n"
     },
     "execution_count": 120,
     "metadata": {},
     "output_type": "execute_result"
    }
   ]
  },
  {
   "cell_type": "markdown",
   "source": [
    "Example 3 Creating a tree with \"gini\" instead of entropy"
   ],
   "metadata": {
    "collapsed": false,
    "pycharm": {
     "name": "#%% md\n"
    }
   }
  },
  {
   "cell_type": "code",
   "execution_count": 121,
   "outputs": [
    {
     "data": {
      "text/plain": "<graphviz.files.Source at 0x19daf494e20>",
      "image/svg+xml": "<?xml version=\"1.0\" encoding=\"UTF-8\" standalone=\"no\"?>\r\n<!DOCTYPE svg PUBLIC \"-//W3C//DTD SVG 1.1//EN\"\r\n \"http://www.w3.org/Graphics/SVG/1.1/DTD/svg11.dtd\">\r\n<!-- Generated by graphviz version 2.49.2 (20211016.1639)\r\n -->\r\n<!-- Title: Tree Pages: 1 -->\r\n<svg width=\"505pt\" height=\"433pt\"\r\n viewBox=\"0.00 0.00 504.50 433.00\" xmlns=\"http://www.w3.org/2000/svg\" xmlns:xlink=\"http://www.w3.org/1999/xlink\">\r\n<g id=\"graph0\" class=\"graph\" transform=\"scale(1 1) rotate(0) translate(4 429)\">\r\n<title>Tree</title>\r\n<polygon fill=\"white\" stroke=\"transparent\" points=\"-4,4 -4,-429 500.5,-429 500.5,4 -4,4\"/>\r\n<!-- 0 -->\r\n<g id=\"node1\" class=\"node\">\r\n<title>0</title>\r\n<path fill=\"#ffffff\" stroke=\"black\" d=\"M393,-425C393,-425 218,-425 218,-425 212,-425 206,-419 206,-413 206,-413 206,-354 206,-354 206,-348 212,-342 218,-342 218,-342 393,-342 393,-342 399,-342 405,-348 405,-354 405,-354 405,-413 405,-413 405,-419 399,-425 393,-425\"/>\r\n<text text-anchor=\"start\" x=\"264\" y=\"-409.8\" font-family=\"Helvetica,sans-Serif\" font-size=\"14.00\">GPA ≤ 2.295</text>\r\n<text text-anchor=\"start\" x=\"276.5\" y=\"-394.8\" font-family=\"Helvetica,sans-Serif\" font-size=\"14.00\">gini = 0.5</text>\r\n<text text-anchor=\"start\" x=\"262\" y=\"-379.8\" font-family=\"Helvetica,sans-Serif\" font-size=\"14.00\">samples = 12</text>\r\n<text text-anchor=\"start\" x=\"265\" y=\"-364.8\" font-family=\"Helvetica,sans-Serif\" font-size=\"14.00\">value = [6, 6]</text>\r\n<text text-anchor=\"start\" x=\"214\" y=\"-349.8\" font-family=\"Helvetica,sans-Serif\" font-size=\"14.00\">class = Did not Graduate in 6</text>\r\n</g>\r\n<!-- 1 -->\r\n<g id=\"node2\" class=\"node\">\r\n<title>1</title>\r\n<path fill=\"#eeab7b\" stroke=\"black\" d=\"M290,-306C290,-306 115,-306 115,-306 109,-306 103,-300 103,-294 103,-294 103,-235 103,-235 103,-229 109,-223 115,-223 115,-223 290,-223 290,-223 296,-223 302,-229 302,-235 302,-235 302,-294 302,-294 302,-300 296,-306 290,-306\"/>\r\n<text text-anchor=\"start\" x=\"151.5\" y=\"-290.8\" font-family=\"Helvetica,sans-Serif\" font-size=\"14.00\">WORKED ≤ 0.5</text>\r\n<text text-anchor=\"start\" x=\"165\" y=\"-275.8\" font-family=\"Helvetica,sans-Serif\" font-size=\"14.00\">gini = 0.375</text>\r\n<text text-anchor=\"start\" x=\"163\" y=\"-260.8\" font-family=\"Helvetica,sans-Serif\" font-size=\"14.00\">samples = 8</text>\r\n<text text-anchor=\"start\" x=\"162\" y=\"-245.8\" font-family=\"Helvetica,sans-Serif\" font-size=\"14.00\">value = [6, 2]</text>\r\n<text text-anchor=\"start\" x=\"111\" y=\"-230.8\" font-family=\"Helvetica,sans-Serif\" font-size=\"14.00\">class = Did not Graduate in 6</text>\r\n</g>\r\n<!-- 0&#45;&gt;1 -->\r\n<g id=\"edge1\" class=\"edge\">\r\n<title>0&#45;&gt;1</title>\r\n<path fill=\"none\" stroke=\"black\" d=\"M269.76,-341.91C261.78,-332.83 253.23,-323.12 244.99,-313.77\"/>\r\n<polygon fill=\"black\" stroke=\"black\" points=\"247.41,-311.21 238.17,-306.02 242.15,-315.84 247.41,-311.21\"/>\r\n<text text-anchor=\"middle\" x=\"236.58\" y=\"-327.27\" font-family=\"Helvetica,sans-Serif\" font-size=\"14.00\">True</text>\r\n</g>\r\n<!-- 6 -->\r\n<g id=\"node7\" class=\"node\">\r\n<title>6</title>\r\n<path fill=\"#399de5\" stroke=\"black\" d=\"M484.5,-298.5C484.5,-298.5 332.5,-298.5 332.5,-298.5 326.5,-298.5 320.5,-292.5 320.5,-286.5 320.5,-286.5 320.5,-242.5 320.5,-242.5 320.5,-236.5 326.5,-230.5 332.5,-230.5 332.5,-230.5 484.5,-230.5 484.5,-230.5 490.5,-230.5 496.5,-236.5 496.5,-242.5 496.5,-242.5 496.5,-286.5 496.5,-286.5 496.5,-292.5 490.5,-298.5 484.5,-298.5\"/>\r\n<text text-anchor=\"start\" x=\"379.5\" y=\"-283.3\" font-family=\"Helvetica,sans-Serif\" font-size=\"14.00\">gini = 0.0</text>\r\n<text text-anchor=\"start\" x=\"369\" y=\"-268.3\" font-family=\"Helvetica,sans-Serif\" font-size=\"14.00\">samples = 4</text>\r\n<text text-anchor=\"start\" x=\"368\" y=\"-253.3\" font-family=\"Helvetica,sans-Serif\" font-size=\"14.00\">value = [0, 4]</text>\r\n<text text-anchor=\"start\" x=\"328.5\" y=\"-238.3\" font-family=\"Helvetica,sans-Serif\" font-size=\"14.00\">class = Did Graduate in 6</text>\r\n</g>\r\n<!-- 0&#45;&gt;6 -->\r\n<g id=\"edge6\" class=\"edge\">\r\n<title>0&#45;&gt;6</title>\r\n<path fill=\"none\" stroke=\"black\" d=\"M341.24,-341.91C351.34,-330.43 362.34,-317.94 372.46,-306.44\"/>\r\n<polygon fill=\"black\" stroke=\"black\" points=\"375.32,-308.49 379.3,-298.67 370.07,-303.86 375.32,-308.49\"/>\r\n<text text-anchor=\"middle\" x=\"380.89\" y=\"-319.92\" font-family=\"Helvetica,sans-Serif\" font-size=\"14.00\">False</text>\r\n</g>\r\n<!-- 2 -->\r\n<g id=\"node3\" class=\"node\">\r\n<title>2</title>\r\n<path fill=\"#e58139\" stroke=\"black\" d=\"M187,-179.5C187,-179.5 12,-179.5 12,-179.5 6,-179.5 0,-173.5 0,-167.5 0,-167.5 0,-123.5 0,-123.5 0,-117.5 6,-111.5 12,-111.5 12,-111.5 187,-111.5 187,-111.5 193,-111.5 199,-117.5 199,-123.5 199,-123.5 199,-167.5 199,-167.5 199,-173.5 193,-179.5 187,-179.5\"/>\r\n<text text-anchor=\"start\" x=\"70.5\" y=\"-164.3\" font-family=\"Helvetica,sans-Serif\" font-size=\"14.00\">gini = 0.0</text>\r\n<text text-anchor=\"start\" x=\"60\" y=\"-149.3\" font-family=\"Helvetica,sans-Serif\" font-size=\"14.00\">samples = 5</text>\r\n<text text-anchor=\"start\" x=\"59\" y=\"-134.3\" font-family=\"Helvetica,sans-Serif\" font-size=\"14.00\">value = [5, 0]</text>\r\n<text text-anchor=\"start\" x=\"8\" y=\"-119.3\" font-family=\"Helvetica,sans-Serif\" font-size=\"14.00\">class = Did not Graduate in 6</text>\r\n</g>\r\n<!-- 1&#45;&gt;2 -->\r\n<g id=\"edge2\" class=\"edge\">\r\n<title>1&#45;&gt;2</title>\r\n<path fill=\"none\" stroke=\"black\" d=\"M166.76,-222.91C156.66,-211.43 145.66,-198.94 135.54,-187.44\"/>\r\n<polygon fill=\"black\" stroke=\"black\" points=\"137.93,-184.86 128.7,-179.67 132.68,-189.49 137.93,-184.86\"/>\r\n</g>\r\n<!-- 3 -->\r\n<g id=\"node4\" class=\"node\">\r\n<title>3</title>\r\n<path fill=\"#9ccef2\" stroke=\"black\" d=\"M381.5,-187C381.5,-187 229.5,-187 229.5,-187 223.5,-187 217.5,-181 217.5,-175 217.5,-175 217.5,-116 217.5,-116 217.5,-110 223.5,-104 229.5,-104 229.5,-104 381.5,-104 381.5,-104 387.5,-104 393.5,-110 393.5,-116 393.5,-116 393.5,-175 393.5,-175 393.5,-181 387.5,-187 381.5,-187\"/>\r\n<text text-anchor=\"start\" x=\"263.5\" y=\"-171.8\" font-family=\"Helvetica,sans-Serif\" font-size=\"14.00\">RANK ≤ 0.21</text>\r\n<text text-anchor=\"start\" x=\"268\" y=\"-156.8\" font-family=\"Helvetica,sans-Serif\" font-size=\"14.00\">gini = 0.444</text>\r\n<text text-anchor=\"start\" x=\"266\" y=\"-141.8\" font-family=\"Helvetica,sans-Serif\" font-size=\"14.00\">samples = 3</text>\r\n<text text-anchor=\"start\" x=\"265\" y=\"-126.8\" font-family=\"Helvetica,sans-Serif\" font-size=\"14.00\">value = [1, 2]</text>\r\n<text text-anchor=\"start\" x=\"225.5\" y=\"-111.8\" font-family=\"Helvetica,sans-Serif\" font-size=\"14.00\">class = Did Graduate in 6</text>\r\n</g>\r\n<!-- 1&#45;&gt;3 -->\r\n<g id=\"edge3\" class=\"edge\">\r\n<title>1&#45;&gt;3</title>\r\n<path fill=\"none\" stroke=\"black\" d=\"M238.24,-222.91C246.22,-213.83 254.77,-204.12 263.01,-194.77\"/>\r\n<polygon fill=\"black\" stroke=\"black\" points=\"265.85,-196.84 269.83,-187.02 260.59,-192.21 265.85,-196.84\"/>\r\n</g>\r\n<!-- 4 -->\r\n<g id=\"node5\" class=\"node\">\r\n<title>4</title>\r\n<path fill=\"#e58139\" stroke=\"black\" d=\"M290,-68C290,-68 115,-68 115,-68 109,-68 103,-62 103,-56 103,-56 103,-12 103,-12 103,-6 109,0 115,0 115,0 290,0 290,0 296,0 302,-6 302,-12 302,-12 302,-56 302,-56 302,-62 296,-68 290,-68\"/>\r\n<text text-anchor=\"start\" x=\"173.5\" y=\"-52.8\" font-family=\"Helvetica,sans-Serif\" font-size=\"14.00\">gini = 0.0</text>\r\n<text text-anchor=\"start\" x=\"163\" y=\"-37.8\" font-family=\"Helvetica,sans-Serif\" font-size=\"14.00\">samples = 1</text>\r\n<text text-anchor=\"start\" x=\"162\" y=\"-22.8\" font-family=\"Helvetica,sans-Serif\" font-size=\"14.00\">value = [1, 0]</text>\r\n<text text-anchor=\"start\" x=\"111\" y=\"-7.8\" font-family=\"Helvetica,sans-Serif\" font-size=\"14.00\">class = Did not Graduate in 6</text>\r\n</g>\r\n<!-- 3&#45;&gt;4 -->\r\n<g id=\"edge4\" class=\"edge\">\r\n<title>3&#45;&gt;4</title>\r\n<path fill=\"none\" stroke=\"black\" d=\"M267.15,-103.73C258.57,-94.61 249.47,-84.93 240.89,-75.81\"/>\r\n<polygon fill=\"black\" stroke=\"black\" points=\"243.22,-73.19 233.82,-68.3 238.13,-77.98 243.22,-73.19\"/>\r\n</g>\r\n<!-- 5 -->\r\n<g id=\"node6\" class=\"node\">\r\n<title>5</title>\r\n<path fill=\"#399de5\" stroke=\"black\" d=\"M484.5,-68C484.5,-68 332.5,-68 332.5,-68 326.5,-68 320.5,-62 320.5,-56 320.5,-56 320.5,-12 320.5,-12 320.5,-6 326.5,0 332.5,0 332.5,0 484.5,0 484.5,0 490.5,0 496.5,-6 496.5,-12 496.5,-12 496.5,-56 496.5,-56 496.5,-62 490.5,-68 484.5,-68\"/>\r\n<text text-anchor=\"start\" x=\"379.5\" y=\"-52.8\" font-family=\"Helvetica,sans-Serif\" font-size=\"14.00\">gini = 0.0</text>\r\n<text text-anchor=\"start\" x=\"369\" y=\"-37.8\" font-family=\"Helvetica,sans-Serif\" font-size=\"14.00\">samples = 2</text>\r\n<text text-anchor=\"start\" x=\"368\" y=\"-22.8\" font-family=\"Helvetica,sans-Serif\" font-size=\"14.00\">value = [0, 2]</text>\r\n<text text-anchor=\"start\" x=\"328.5\" y=\"-7.8\" font-family=\"Helvetica,sans-Serif\" font-size=\"14.00\">class = Did Graduate in 6</text>\r\n</g>\r\n<!-- 3&#45;&gt;5 -->\r\n<g id=\"edge5\" class=\"edge\">\r\n<title>3&#45;&gt;5</title>\r\n<path fill=\"none\" stroke=\"black\" d=\"M343.85,-103.73C352.43,-94.61 361.53,-84.93 370.11,-75.81\"/>\r\n<polygon fill=\"black\" stroke=\"black\" points=\"372.87,-77.98 377.18,-68.3 367.78,-73.19 372.87,-77.98\"/>\r\n</g>\r\n</g>\r\n</svg>\r\n"
     },
     "execution_count": 121,
     "metadata": {},
     "output_type": "execute_result"
    }
   ],
   "source": [
    "clf3 = tree.DecisionTreeClassifier(criterion=\"gini\")\n",
    "clf3 = clf3.fit(Xnum,classifications)\n",
    "dotData3 = tree.export_graphviz(clf3,\n",
    "                                feature_names=labels,\n",
    "                                class_names=(\"Did not Graduate in 6\", \"Did Graduate in 6\"),\n",
    "                                out_file=None,\n",
    "                                filled=True,\n",
    "                                rounded=True,\n",
    "                                special_characters=True)\n",
    "foo = clf3.predict_proba(Xnum)\n",
    "\n",
    "graph = graphviz.Source(dotData3)\n",
    "graph"
   ],
   "metadata": {
    "collapsed": false,
    "pycharm": {
     "name": "#%%\n"
    }
   }
  },
  {
   "cell_type": "code",
   "execution_count": 121,
   "outputs": [],
   "source": [],
   "metadata": {
    "collapsed": false,
    "pycharm": {
     "name": "#%%\n"
    }
   }
  }
 ],
 "metadata": {
  "kernelspec": {
   "display_name": "PyCharm (GITHUB_REPOSITORY)",
   "language": "python",
   "name": "pycharm-865e1948"
  },
  "language_info": {
   "codemirror_mode": {
    "name": "ipython",
    "version": 3
   },
   "file_extension": ".py",
   "mimetype": "text/x-python",
   "name": "python",
   "nbconvert_exporter": "python",
   "pygments_lexer": "ipython3",
   "version": "3.8.10"
  }
 },
 "nbformat": 4,
 "nbformat_minor": 1
}