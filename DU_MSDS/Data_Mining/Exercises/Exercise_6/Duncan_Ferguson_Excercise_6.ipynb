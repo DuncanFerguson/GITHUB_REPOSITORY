{
 "cells": [
  {
   "cell_type": "markdown",
   "metadata": {
    "collapsed": true,
    "pycharm": {
     "name": "#%% md\n"
    }
   },
   "source": [
    "Student: Duncan Ferguson <br>\n",
    "Student Id: 871641260 <br>\n",
    "Class: Comp 4431-1 <br>\n",
    "Assignment: Exercise 6 <br>\n",
    "Date: 10/22/2021 <br>\n",
    "Group: Name: Broken Toe <br>\n",
    "Group Members: Emma Bright, Mike Santoro <br>"
   ]
  },
  {
   "cell_type": "code",
   "execution_count": 87,
   "outputs": [],
   "source": [
    "# Importing Libraries\n",
    "\n",
    "import pandas as pd\n",
    "import random\n",
    "import numpy as np\n",
    "import graphviz\n",
    "from sklearn import tree\n",
    "from sklearn.tree import export_text\n",
    "from sklearn.tree import export_graphviz"
   ],
   "metadata": {
    "collapsed": false,
    "pycharm": {
     "name": "#%%\n"
    }
   }
  },
  {
   "cell_type": "markdown",
   "source": [
    "GPA's are assigned randomly inbetween a scale of 1 and 4"
   ],
   "metadata": {
    "collapsed": false,
    "pycharm": {
     "name": "#%% md\n"
    }
   }
  },
  {
   "cell_type": "code",
   "execution_count": 88,
   "outputs": [
    {
     "name": "stdout",
     "output_type": "stream",
     "text": [
      "GPA's [3.87, 3.84, 1.17, 1.25, 3.51, 3.21, 3.01, 1.92, 2.82, 2.82, 2.74, 1.48]\n",
      "GPA's Testing [2.29, 2.18, 3.17, 3.98, 3.85, 2.63, 2.33, 1.8, 1.11, 1.08, 2.39, 1.96]\n"
     ]
    }
   ],
   "source": [
    "# Setting Random Seed\n",
    "random.seed(222)\n",
    "\n",
    "# Creating a list of 12 Random GPAS\n",
    "GPA = [round(random.uniform(1, 4), 2) for _ in range(12)]  # Creating List of Random GPA\n",
    "GPA_testing = [round(random.uniform(1, 4), 2) for _ in range(12)]\n",
    "print(\"GPA's\", GPA)\n",
    "print(\"GPA's Testing\", GPA_testing)"
   ],
   "metadata": {
    "collapsed": false,
    "pycharm": {
     "name": "#%%\n"
    }
   }
  },
  {
   "cell_type": "markdown",
   "source": [
    "Rankings are assigned on tier basis. Within those tiers there is some variability <br>\n",
    "-If the GPA is above 3.5 the student is in the top 90-100% <br>\n",
    "-If the GPA is above 3.0 but below 3.5 the student is in the top 80-90% <br>\n",
    "-If the GPA is above 2.5 but below 3 the student is in the top 70-80% <br>\n",
    "-If the GPA is above 2.0 but below 2.5 the student is in the top 60-70% <br>\n",
    "-If the GPA is below 2.0 the student is in the bottom 0-60% <br>"
   ],
   "metadata": {
    "collapsed": false,
    "pycharm": {
     "name": "#%% md\n"
    }
   }
  },
  {
   "cell_type": "code",
   "execution_count": 89,
   "outputs": [
    {
     "name": "stdout",
     "output_type": "stream",
     "text": [
      "Rankings [0.94, 0.99, 0.32, 0.34, 0.92, 0.8, 0.83, 0.08, 0.75, 0.8, 0.77, 0.11]\n",
      "Ranking Testing [0.69, 0.68, 0.87, 0.99, 0.98, 0.78, 0.64, 0.59, 0.58, 0.1, 0.68, 0.43]\n"
     ]
    }
   ],
   "source": [
    "def get_rankings(GPA):\n",
    "    \"\"\"This Function Randomizes rankings with weights\"\"\"\n",
    "    RANK = []\n",
    "    for grade in GPA:\n",
    "        if grade > 3.5:\n",
    "            RANK.append(round(random.uniform(.9, 1), 2))\n",
    "        elif grade > 3:\n",
    "            RANK.append(round(random.uniform(.8, .9), 2))\n",
    "        elif grade > 2.5:\n",
    "            RANK.append(round(random.uniform(.7, .8), 2))\n",
    "        elif grade > 2:\n",
    "            RANK.append(round(random.uniform(.6, .7), 2))\n",
    "        else:\n",
    "            RANK.append(round(random.uniform(0, .6), 2))\n",
    "    return RANK\n",
    "\n",
    "RANK = get_rankings(GPA)\n",
    "RANK_testing = get_rankings(GPA_testing)\n",
    "\n",
    "print(\"Rankings\", RANK)\n",
    "print(\"Ranking Testing\", RANK_testing)"
   ],
   "metadata": {
    "collapsed": false,
    "pycharm": {
     "name": "#%%\n"
    }
   }
  },
  {
   "cell_type": "markdown",
   "source": [
    "For assigning working values. 1 indicates that the student did work, 0 indicates the student did not. <br>\n",
    "-If the students GPA is above 2.0, there is a random 0-70 value assigned. If that value is above 50 they did work. <br>\n",
    "-If the students GPA is below 2.0, there is a random 30-100 value assigned. If that value is above 50 they did work."
   ],
   "metadata": {
    "collapsed": false,
    "pycharm": {
     "name": "#%% md\n"
    }
   }
  },
  {
   "cell_type": "code",
   "execution_count": 90,
   "outputs": [
    {
     "name": "stdout",
     "output_type": "stream",
     "text": [
      "Worked [1, 1, 1, 1, 0, 1, 1, 1, 0, 1, 1, 1]\n",
      "Worked Testing [1, 1, 0, 0, 0, 0, 1, 1, 1, 1, 1, 1]\n"
     ]
    }
   ],
   "source": [
    "# Setting up Random Work 0 did not work 1 did, Scaling it toward working have lower GPA\n",
    "def get_working(GPA):\n",
    "    \"\"\"Determining if they worked based off of GPA, with some randomness\"\"\"\n",
    "    WORKED = []\n",
    "    for num in enumerate(GPA):\n",
    "        if num[1] > 2:\n",
    "            rand_work = random.randint(0, 70)\n",
    "            if rand_work > 50:\n",
    "                WORKED.append(1)\n",
    "            else:\n",
    "                WORKED.append(0)\n",
    "        else:\n",
    "            if random.randint(30, 100) > 50:\n",
    "                WORKED.append(1)\n",
    "            else:\n",
    "                WORKED.append(0)\n",
    "    return  WORKED\n",
    "\n",
    "WORKED = get_working(GPA)\n",
    "WORKED_testing = get_working(GPA_testing)\n",
    "print(\"Worked\", WORKED)\n",
    "print(\"Worked Testing\", WORKED_testing)"
   ],
   "metadata": {
    "collapsed": false,
    "pycharm": {
     "name": "#%%\n"
    }
   }
  },
  {
   "cell_type": "markdown",
   "source": [
    "Compressing the GPA, RANKING and WORKED into a list"
   ],
   "metadata": {
    "collapsed": false,
    "pycharm": {
     "name": "#%% md\n"
    }
   }
  },
  {
   "cell_type": "code",
   "execution_count": 91,
   "outputs": [
    {
     "name": "stdout",
     "output_type": "stream",
     "text": [
      "List_o_list [[3.87, 0.94, 1], [3.84, 0.99, 1], [1.17, 0.32, 1], [1.25, 0.34, 1], [3.51, 0.92, 0], [3.21, 0.8, 1], [3.01, 0.83, 1], [1.92, 0.08, 1], [2.82, 0.75, 0], [2.82, 0.8, 1], [2.74, 0.77, 1], [1.48, 0.11, 1]]\n",
      "List_o_training [[2.29, 0.69, 1], [2.18, 0.68, 1], [3.17, 0.87, 0], [3.98, 0.99, 0], [3.85, 0.98, 0], [2.63, 0.78, 0], [2.33, 0.64, 1], [1.8, 0.59, 1], [1.11, 0.58, 1], [1.08, 0.1, 1], [2.39, 0.68, 1], [1.96, 0.43, 1]]\n"
     ]
    }
   ],
   "source": [
    "def compress_list(GPA, RANK, WORKED):\n",
    "    \"\"\"Compressing the lists\"\"\"\n",
    "    list_o_list = []\n",
    "    for num in range(len(GPA)):\n",
    "        list_o_list.append([GPA[num], RANK[num], WORKED[num]])\n",
    "    return list_o_list\n",
    "\n",
    "list_o_list = compress_list(GPA, RANK, WORKED)\n",
    "list_o_training = compress_list(GPA_testing, RANK_testing, WORKED_testing)\n",
    "print(\"List_o_list\", list_o_list)\n",
    "print(\"List_o_training\", list_o_training)"
   ],
   "metadata": {
    "collapsed": false,
    "pycharm": {
     "name": "#%%\n"
    }
   }
  },
  {
   "cell_type": "markdown",
   "source": [
    "Graduating in 6 years is based on the sum of GPA, RANK and WORKED. <br>\n",
    "If the sum of these three variables is above 2, They graduate with in 6 years <br>\n",
    "Graduate Training is made so that we can see how well our decision tree works"
   ],
   "metadata": {
    "collapsed": false,
    "pycharm": {
     "name": "#%% md\n"
    }
   }
  },
  {
   "cell_type": "code",
   "execution_count": 92,
   "outputs": [
    {
     "name": "stdout",
     "output_type": "stream",
     "text": [
      "Graduate [1, 1, 1, 1, 1, 1, 1, 1, 1, 1, 1, 1]\n",
      "Graduate Training [1, 1, 1, 1, 1, 1, 1, 1, 1, 1, 1, 1]\n"
     ]
    }
   ],
   "source": [
    "def grad_in_6(list_o_list):\n",
    "    \"\"\"Creating a classifier if they graduate in 6 years \"\"\"\n",
    "    graduate = []\n",
    "    for person in enumerate(list_o_list):\n",
    "        if sum(person[1]) > 2:\n",
    "            graduate.append(1)\n",
    "        else:\n",
    "            graduate.append(0)\n",
    "    return graduate\n",
    "\n",
    "graduate = grad_in_6(list_o_list)\n",
    "graduate_training = grad_in_6(list_o_training)\n",
    "\n",
    "print('Graduate', graduate)\n",
    "print('Graduate Training', graduate_training)"
   ],
   "metadata": {
    "collapsed": false,
    "pycharm": {
     "name": "#%%\n"
    }
   }
  },
  {
   "cell_type": "markdown",
   "source": [
    "First Example"
   ],
   "metadata": {
    "collapsed": false,
    "pycharm": {
     "name": "#%% md\n"
    }
   }
  },
  {
   "cell_type": "code",
   "execution_count": 93,
   "outputs": [
    {
     "name": "stdout",
     "output_type": "stream",
     "text": [
      "<class 'sklearn.tree._classes.DecisionTreeClassifier'>\n",
      "DecisionTreeClassifier()\n",
      "output of classifying 4 new items (should be):  [1, 1, 1, 1, 1, 1, 1, 1, 1, 1, 1, 1]\n"
     ]
    },
    {
     "ename": "ValueError",
     "evalue": "Shape of passed values is (12, 1), indices imply (12, 2)",
     "output_type": "error",
     "traceback": [
      "\u001B[1;31m---------------------------------------------------------------------------\u001B[0m",
      "\u001B[1;31mValueError\u001B[0m                                Traceback (most recent call last)",
      "\u001B[1;32m~\\AppData\\Local\\Temp/ipykernel_13384/120104343.py\u001B[0m in \u001B[0;36m<module>\u001B[1;34m\u001B[0m\n\u001B[0;32m     10\u001B[0m \u001B[1;33m\u001B[0m\u001B[0m\n\u001B[0;32m     11\u001B[0m \u001B[0mprint\u001B[0m\u001B[1;33m(\u001B[0m\u001B[1;34m\"output of classifying 4 new items (should be): \"\u001B[0m\u001B[1;33m,\u001B[0m \u001B[0mgraduate_training\u001B[0m\u001B[1;33m)\u001B[0m\u001B[1;33m\u001B[0m\u001B[1;33m\u001B[0m\u001B[0m\n\u001B[1;32m---> 12\u001B[1;33m \u001B[0mfoo\u001B[0m \u001B[1;33m=\u001B[0m \u001B[0mpd\u001B[0m\u001B[1;33m.\u001B[0m\u001B[0mDataFrame\u001B[0m\u001B[1;33m(\u001B[0m\u001B[0mdata\u001B[0m\u001B[1;33m=\u001B[0m\u001B[0mfoo\u001B[0m\u001B[1;33m,\u001B[0m \u001B[0mcolumns\u001B[0m\u001B[1;33m=\u001B[0m\u001B[1;33m[\u001B[0m\u001B[1;34m\"Something\"\u001B[0m\u001B[1;33m,\u001B[0m\u001B[1;34m\"Graduate\"\u001B[0m\u001B[1;33m]\u001B[0m\u001B[1;33m)\u001B[0m\u001B[1;33m\u001B[0m\u001B[1;33m\u001B[0m\u001B[0m\n\u001B[0m\u001B[0;32m     13\u001B[0m \u001B[0mpredict_graduating\u001B[0m \u001B[1;33m=\u001B[0m \u001B[0mfoo\u001B[0m\u001B[1;33m[\u001B[0m\u001B[1;34m\"Graduate\"\u001B[0m\u001B[1;33m]\u001B[0m\u001B[1;33m.\u001B[0m\u001B[0mto_list\u001B[0m\u001B[1;33m(\u001B[0m\u001B[1;33m)\u001B[0m\u001B[1;33m\u001B[0m\u001B[1;33m\u001B[0m\u001B[0m\n\u001B[0;32m     14\u001B[0m \u001B[0mpredict_graduating\u001B[0m \u001B[1;33m=\u001B[0m \u001B[1;33m[\u001B[0m\u001B[0mint\u001B[0m\u001B[1;33m(\u001B[0m\u001B[0mi\u001B[0m\u001B[1;33m)\u001B[0m \u001B[1;32mfor\u001B[0m \u001B[0mi\u001B[0m \u001B[1;32min\u001B[0m \u001B[0mpredict_graduating\u001B[0m\u001B[1;33m]\u001B[0m\u001B[1;33m\u001B[0m\u001B[1;33m\u001B[0m\u001B[0m\n",
      "\u001B[1;32m~\\anaconda3\\lib\\site-packages\\pandas\\core\\frame.py\u001B[0m in \u001B[0;36m__init__\u001B[1;34m(self, data, index, columns, dtype, copy)\u001B[0m\n\u001B[0;32m    670\u001B[0m                 )\n\u001B[0;32m    671\u001B[0m             \u001B[1;32melse\u001B[0m\u001B[1;33m:\u001B[0m\u001B[1;33m\u001B[0m\u001B[1;33m\u001B[0m\u001B[0m\n\u001B[1;32m--> 672\u001B[1;33m                 mgr = ndarray_to_mgr(\n\u001B[0m\u001B[0;32m    673\u001B[0m                     \u001B[0mdata\u001B[0m\u001B[1;33m,\u001B[0m\u001B[1;33m\u001B[0m\u001B[1;33m\u001B[0m\u001B[0m\n\u001B[0;32m    674\u001B[0m                     \u001B[0mindex\u001B[0m\u001B[1;33m,\u001B[0m\u001B[1;33m\u001B[0m\u001B[1;33m\u001B[0m\u001B[0m\n",
      "\u001B[1;32m~\\anaconda3\\lib\\site-packages\\pandas\\core\\internals\\construction.py\u001B[0m in \u001B[0;36mndarray_to_mgr\u001B[1;34m(values, index, columns, dtype, copy, typ)\u001B[0m\n\u001B[0;32m    322\u001B[0m     )\n\u001B[0;32m    323\u001B[0m \u001B[1;33m\u001B[0m\u001B[0m\n\u001B[1;32m--> 324\u001B[1;33m     \u001B[0m_check_values_indices_shape_match\u001B[0m\u001B[1;33m(\u001B[0m\u001B[0mvalues\u001B[0m\u001B[1;33m,\u001B[0m \u001B[0mindex\u001B[0m\u001B[1;33m,\u001B[0m \u001B[0mcolumns\u001B[0m\u001B[1;33m)\u001B[0m\u001B[1;33m\u001B[0m\u001B[1;33m\u001B[0m\u001B[0m\n\u001B[0m\u001B[0;32m    325\u001B[0m \u001B[1;33m\u001B[0m\u001B[0m\n\u001B[0;32m    326\u001B[0m     \u001B[1;32mif\u001B[0m \u001B[0mtyp\u001B[0m \u001B[1;33m==\u001B[0m \u001B[1;34m\"array\"\u001B[0m\u001B[1;33m:\u001B[0m\u001B[1;33m\u001B[0m\u001B[1;33m\u001B[0m\u001B[0m\n",
      "\u001B[1;32m~\\anaconda3\\lib\\site-packages\\pandas\\core\\internals\\construction.py\u001B[0m in \u001B[0;36m_check_values_indices_shape_match\u001B[1;34m(values, index, columns)\u001B[0m\n\u001B[0;32m    391\u001B[0m         \u001B[0mpassed\u001B[0m \u001B[1;33m=\u001B[0m \u001B[0mvalues\u001B[0m\u001B[1;33m.\u001B[0m\u001B[0mshape\u001B[0m\u001B[1;33m\u001B[0m\u001B[1;33m\u001B[0m\u001B[0m\n\u001B[0;32m    392\u001B[0m         \u001B[0mimplied\u001B[0m \u001B[1;33m=\u001B[0m \u001B[1;33m(\u001B[0m\u001B[0mlen\u001B[0m\u001B[1;33m(\u001B[0m\u001B[0mindex\u001B[0m\u001B[1;33m)\u001B[0m\u001B[1;33m,\u001B[0m \u001B[0mlen\u001B[0m\u001B[1;33m(\u001B[0m\u001B[0mcolumns\u001B[0m\u001B[1;33m)\u001B[0m\u001B[1;33m)\u001B[0m\u001B[1;33m\u001B[0m\u001B[1;33m\u001B[0m\u001B[0m\n\u001B[1;32m--> 393\u001B[1;33m         \u001B[1;32mraise\u001B[0m \u001B[0mValueError\u001B[0m\u001B[1;33m(\u001B[0m\u001B[1;34mf\"Shape of passed values is {passed}, indices imply {implied}\"\u001B[0m\u001B[1;33m)\u001B[0m\u001B[1;33m\u001B[0m\u001B[1;33m\u001B[0m\u001B[0m\n\u001B[0m\u001B[0;32m    394\u001B[0m \u001B[1;33m\u001B[0m\u001B[0m\n\u001B[0;32m    395\u001B[0m \u001B[1;33m\u001B[0m\u001B[0m\n",
      "\u001B[1;31mValueError\u001B[0m: Shape of passed values is (12, 1), indices imply (12, 2)"
     ]
    }
   ],
   "source": [
    "X = list_o_list\n",
    "Y = graduate\n",
    "\n",
    "clf = tree.DecisionTreeClassifier()\n",
    "clf = clf.fit(X,Y)\n",
    "print(type(clf))\n",
    "print(clf)\n",
    "\n",
    "foo = clf.predict_proba(list_o_training)\n",
    "\n",
    "print(\"output of classifying 4 new items (should be): \", graduate_training)\n",
    "foo = pd.DataFrame(data=foo, columns=[\"Something\",\"Graduate\"])\n",
    "predict_graduating = foo[\"Graduate\"].to_list()\n",
    "predict_graduating = [int(i) for i in predict_graduating]\n",
    "print(predict_graduating)"
   ],
   "metadata": {
    "collapsed": false,
    "pycharm": {
     "name": "#%%\n"
    }
   }
  },
  {
   "cell_type": "markdown",
   "source": [
    "Second Example\n"
   ],
   "metadata": {
    "collapsed": false,
    "pycharm": {
     "name": "#%% md\n"
    }
   }
  },
  {
   "cell_type": "code",
   "execution_count": null,
   "outputs": [],
   "source": [
    "Xnum = list_o_list\n",
    "classifications = graduate\n",
    "clf2 = tree.DecisionTreeClassifier(criterion=\"entropy\")\n",
    "clf2 = clf2.fit(Xnum,classifications)\n",
    "print(type(clf2))\n",
    "print(clf2)\n",
    "\n",
    "print(\"\\nNow 'predicting class' of the first 6 elements of the training data.\")\n",
    "testData = list_o_training\n",
    "foo = clf2.predict_proba( testData )\n",
    "print(\"test data = \" + str(testData))\n",
    "print(\"data are classified as:\")\n",
    "print(foo)\n",
    "\n",
    "treeStruct = export_text(clf2)\n",
    "print(\"\\nNow printing export_text(clf2)\")\n",
    "print(treeStruct)"
   ],
   "metadata": {
    "collapsed": false,
    "pycharm": {
     "name": "#%%\n"
    }
   }
  },
  {
   "cell_type": "code",
   "source": [
    "foo = clf2.apply( Xnum )   # passing in full list of training tuples\n",
    "print(\"clf2.apply( Xnum ):\")\n",
    "print(foo)\n",
    "# now print out line by line as pair:  tuple, which leaf node\n",
    "print(\"\\nNow printing each tuple with the decision tree node it ends up in:\")\n",
    "for i in range(len(foo)):\n",
    "    print(str(Xnum[i]) + \",\" + str(foo[i]))\n",
    "\n",
    "\n",
    "# likely need to install first:\n",
    "# pip install graphviz\n",
    "# https://graphviz.readthedocs.io/en/stable/manual.html\n",
    "\n",
    "from sklearn.tree import export_graphviz\n",
    "import graphviz\n",
    "# NOTE - adding in node_ids and class_names as options to make tree viz more robust\n",
    "dot_data = tree.export_graphviz(clf2, node_ids=\"true\",class_names=('No_Did_Not_Graduate','Yes_Graduated'),out_file=None, filled=True, rounded=True, special_characters=True)\n",
    "graph = graphviz.Source(dot_data)\n",
    "\n",
    "graph"
   ],
   "metadata": {
    "collapsed": false,
    "pycharm": {
     "name": "#%%\n"
    }
   },
   "execution_count": 95,
   "outputs": [
    {
     "name": "stdout",
     "output_type": "stream",
     "text": [
      "clf2.apply( Xnum ):\n",
      "[3 4 4 4 4 4 4 2 4 3 4 3]\n",
      "\n",
      "Now printing each tuple with the decision tree node it ends up in:\n",
      "[3.34, 0.87, 0],3\n",
      "[1.71, 0.3, 1],4\n",
      "[1.92, 0.05, 1],4\n",
      "[1.09, 0.19, 1],4\n",
      "[1.67, 0.11, 1],4\n",
      "[3.22, 0.87, 1],4\n",
      "[2.32, 0.68, 1],4\n",
      "[1.23, 0.37, 0],2\n",
      "[1.05, 0.31, 1],4\n",
      "[3.81, 0.99, 0],3\n",
      "[1.21, 0.37, 1],4\n",
      "[2.47, 0.62, 0],3\n"
     ]
    },
    {
     "data": {
      "text/plain": "<graphviz.files.Source at 0x1ba85e49130>",
      "image/svg+xml": "<?xml version=\"1.0\" encoding=\"UTF-8\" standalone=\"no\"?>\r\n<!DOCTYPE svg PUBLIC \"-//W3C//DTD SVG 1.1//EN\"\r\n \"http://www.w3.org/Graphics/SVG/1.1/DTD/svg11.dtd\">\r\n<!-- Generated by graphviz version 2.49.2 (20211016.1639)\r\n -->\r\n<!-- Title: Tree Pages: 1 -->\r\n<svg width=\"482pt\" height=\"347pt\"\r\n viewBox=\"0.00 0.00 481.50 347.00\" xmlns=\"http://www.w3.org/2000/svg\" xmlns:xlink=\"http://www.w3.org/1999/xlink\">\r\n<g id=\"graph0\" class=\"graph\" transform=\"scale(1 1) rotate(0) translate(4 343)\">\r\n<title>Tree</title>\r\n<polygon fill=\"white\" stroke=\"transparent\" points=\"-4,4 -4,-343 477.5,-343 477.5,4 -4,4\"/>\r\n<!-- 0 -->\r\n<g id=\"node1\" class=\"node\">\r\n<title>0</title>\r\n<path fill=\"#4ba6e7\" stroke=\"black\" d=\"M369.5,-339C369.5,-339 228.5,-339 228.5,-339 222.5,-339 216.5,-333 216.5,-327 216.5,-327 216.5,-259 216.5,-259 216.5,-253 222.5,-247 228.5,-247 228.5,-247 369.5,-247 369.5,-247 375.5,-247 381.5,-253 381.5,-259 381.5,-259 381.5,-327 381.5,-327 381.5,-333 375.5,-339 369.5,-339\"/>\r\n<text text-anchor=\"start\" x=\"272.5\" y=\"-324.8\" font-family=\"Helvetica,sans-Serif\" font-size=\"14.00\">node #0</text>\r\n<text text-anchor=\"start\" x=\"272.5\" y=\"-310.8\" font-family=\"Helvetica,sans-Serif\" font-size=\"14.00\">X</text>\r\n<text text-anchor=\"start\" x=\"282.5\" y=\"-310.8\" font-family=\"Helvetica,sans-Serif\" baseline-shift=\"sub\" font-size=\"14.00\">2</text>\r\n<text text-anchor=\"start\" x=\"289.5\" y=\"-310.8\" font-family=\"Helvetica,sans-Serif\" font-size=\"14.00\"> ≤ 0.5</text>\r\n<text text-anchor=\"start\" x=\"249\" y=\"-296.8\" font-family=\"Helvetica,sans-Serif\" font-size=\"14.00\">entropy = 0.414</text>\r\n<text text-anchor=\"start\" x=\"255.5\" y=\"-282.8\" font-family=\"Helvetica,sans-Serif\" font-size=\"14.00\">samples = 12</text>\r\n<text text-anchor=\"start\" x=\"254.5\" y=\"-268.8\" font-family=\"Helvetica,sans-Serif\" font-size=\"14.00\">value = [1, 11]</text>\r\n<text text-anchor=\"start\" x=\"224.5\" y=\"-254.8\" font-family=\"Helvetica,sans-Serif\" font-size=\"14.00\">class = Yes_Graduated</text>\r\n</g>\r\n<!-- 1 -->\r\n<g id=\"node2\" class=\"node\">\r\n<title>1</title>\r\n<path fill=\"#7bbeee\" stroke=\"black\" d=\"M278.5,-211C278.5,-211 137.5,-211 137.5,-211 131.5,-211 125.5,-205 125.5,-199 125.5,-199 125.5,-131 125.5,-131 125.5,-125 131.5,-119 137.5,-119 137.5,-119 278.5,-119 278.5,-119 284.5,-119 290.5,-125 290.5,-131 290.5,-131 290.5,-199 290.5,-199 290.5,-205 284.5,-211 278.5,-211\"/>\r\n<text text-anchor=\"start\" x=\"181.5\" y=\"-196.8\" font-family=\"Helvetica,sans-Serif\" font-size=\"14.00\">node #1</text>\r\n<text text-anchor=\"start\" x=\"173.5\" y=\"-182.8\" font-family=\"Helvetica,sans-Serif\" font-size=\"14.00\">X</text>\r\n<text text-anchor=\"start\" x=\"183.5\" y=\"-182.8\" font-family=\"Helvetica,sans-Serif\" baseline-shift=\"sub\" font-size=\"14.00\">1</text>\r\n<text text-anchor=\"start\" x=\"190.5\" y=\"-182.8\" font-family=\"Helvetica,sans-Serif\" font-size=\"14.00\"> ≤ 0.495</text>\r\n<text text-anchor=\"start\" x=\"158\" y=\"-168.8\" font-family=\"Helvetica,sans-Serif\" font-size=\"14.00\">entropy = 0.811</text>\r\n<text text-anchor=\"start\" x=\"168.5\" y=\"-154.8\" font-family=\"Helvetica,sans-Serif\" font-size=\"14.00\">samples = 4</text>\r\n<text text-anchor=\"start\" x=\"167.5\" y=\"-140.8\" font-family=\"Helvetica,sans-Serif\" font-size=\"14.00\">value = [1, 3]</text>\r\n<text text-anchor=\"start\" x=\"133.5\" y=\"-126.8\" font-family=\"Helvetica,sans-Serif\" font-size=\"14.00\">class = Yes_Graduated</text>\r\n</g>\r\n<!-- 0&#45;&gt;1 -->\r\n<g id=\"edge1\" class=\"edge\">\r\n<title>0&#45;&gt;1</title>\r\n<path fill=\"none\" stroke=\"black\" d=\"M266.4,-246.87C260,-238 253.23,-228.62 246.65,-219.51\"/>\r\n<polygon fill=\"black\" stroke=\"black\" points=\"249.37,-217.3 240.67,-211.24 243.69,-221.4 249.37,-217.3\"/>\r\n<text text-anchor=\"middle\" x=\"236.69\" y=\"-232.22\" font-family=\"Helvetica,sans-Serif\" font-size=\"14.00\">True</text>\r\n</g>\r\n<!-- 4 -->\r\n<g id=\"node5\" class=\"node\">\r\n<title>4</title>\r\n<path fill=\"#399de5\" stroke=\"black\" d=\"M461.5,-206.5C461.5,-206.5 320.5,-206.5 320.5,-206.5 314.5,-206.5 308.5,-200.5 308.5,-194.5 308.5,-194.5 308.5,-135.5 308.5,-135.5 308.5,-129.5 314.5,-123.5 320.5,-123.5 320.5,-123.5 461.5,-123.5 461.5,-123.5 467.5,-123.5 473.5,-129.5 473.5,-135.5 473.5,-135.5 473.5,-194.5 473.5,-194.5 473.5,-200.5 467.5,-206.5 461.5,-206.5\"/>\r\n<text text-anchor=\"start\" x=\"364.5\" y=\"-191.3\" font-family=\"Helvetica,sans-Serif\" font-size=\"14.00\">node #4</text>\r\n<text text-anchor=\"start\" x=\"349\" y=\"-176.3\" font-family=\"Helvetica,sans-Serif\" font-size=\"14.00\">entropy = 0.0</text>\r\n<text text-anchor=\"start\" x=\"351.5\" y=\"-161.3\" font-family=\"Helvetica,sans-Serif\" font-size=\"14.00\">samples = 8</text>\r\n<text text-anchor=\"start\" x=\"350.5\" y=\"-146.3\" font-family=\"Helvetica,sans-Serif\" font-size=\"14.00\">value = [0, 8]</text>\r\n<text text-anchor=\"start\" x=\"316.5\" y=\"-131.3\" font-family=\"Helvetica,sans-Serif\" font-size=\"14.00\">class = Yes_Graduated</text>\r\n</g>\r\n<!-- 0&#45;&gt;4 -->\r\n<g id=\"edge4\" class=\"edge\">\r\n<title>0&#45;&gt;4</title>\r\n<path fill=\"none\" stroke=\"black\" d=\"M331.95,-246.87C339.52,-236.5 347.6,-225.44 355.28,-214.92\"/>\r\n<polygon fill=\"black\" stroke=\"black\" points=\"358.26,-216.77 361.33,-206.63 352.61,-212.64 358.26,-216.77\"/>\r\n<text text-anchor=\"middle\" x=\"365.19\" y=\"-227.63\" font-family=\"Helvetica,sans-Serif\" font-size=\"14.00\">False</text>\r\n</g>\r\n<!-- 2 -->\r\n<g id=\"node3\" class=\"node\">\r\n<title>2</title>\r\n<path fill=\"#e58139\" stroke=\"black\" d=\"M198,-83C198,-83 12,-83 12,-83 6,-83 0,-77 0,-71 0,-71 0,-12 0,-12 0,-6 6,0 12,0 12,0 198,0 198,0 204,0 210,-6 210,-12 210,-12 210,-71 210,-71 210,-77 204,-83 198,-83\"/>\r\n<text text-anchor=\"start\" x=\"78.5\" y=\"-67.8\" font-family=\"Helvetica,sans-Serif\" font-size=\"14.00\">node #2</text>\r\n<text text-anchor=\"start\" x=\"63\" y=\"-52.8\" font-family=\"Helvetica,sans-Serif\" font-size=\"14.00\">entropy = 0.0</text>\r\n<text text-anchor=\"start\" x=\"65.5\" y=\"-37.8\" font-family=\"Helvetica,sans-Serif\" font-size=\"14.00\">samples = 1</text>\r\n<text text-anchor=\"start\" x=\"64.5\" y=\"-22.8\" font-family=\"Helvetica,sans-Serif\" font-size=\"14.00\">value = [1, 0]</text>\r\n<text text-anchor=\"start\" x=\"8\" y=\"-7.8\" font-family=\"Helvetica,sans-Serif\" font-size=\"14.00\">class = No_Did_Not_Graduate</text>\r\n</g>\r\n<!-- 1&#45;&gt;2 -->\r\n<g id=\"edge2\" class=\"edge\">\r\n<title>1&#45;&gt;2</title>\r\n<path fill=\"none\" stroke=\"black\" d=\"M169.65,-118.76C162.04,-109.78 154.02,-100.32 146.32,-91.24\"/>\r\n<polygon fill=\"black\" stroke=\"black\" points=\"148.78,-88.73 139.65,-83.37 143.44,-93.26 148.78,-88.73\"/>\r\n</g>\r\n<!-- 3 -->\r\n<g id=\"node4\" class=\"node\">\r\n<title>3</title>\r\n<path fill=\"#399de5\" stroke=\"black\" d=\"M381.5,-83C381.5,-83 240.5,-83 240.5,-83 234.5,-83 228.5,-77 228.5,-71 228.5,-71 228.5,-12 228.5,-12 228.5,-6 234.5,0 240.5,0 240.5,0 381.5,0 381.5,0 387.5,0 393.5,-6 393.5,-12 393.5,-12 393.5,-71 393.5,-71 393.5,-77 387.5,-83 381.5,-83\"/>\r\n<text text-anchor=\"start\" x=\"284.5\" y=\"-67.8\" font-family=\"Helvetica,sans-Serif\" font-size=\"14.00\">node #3</text>\r\n<text text-anchor=\"start\" x=\"269\" y=\"-52.8\" font-family=\"Helvetica,sans-Serif\" font-size=\"14.00\">entropy = 0.0</text>\r\n<text text-anchor=\"start\" x=\"271.5\" y=\"-37.8\" font-family=\"Helvetica,sans-Serif\" font-size=\"14.00\">samples = 3</text>\r\n<text text-anchor=\"start\" x=\"270.5\" y=\"-22.8\" font-family=\"Helvetica,sans-Serif\" font-size=\"14.00\">value = [0, 3]</text>\r\n<text text-anchor=\"start\" x=\"236.5\" y=\"-7.8\" font-family=\"Helvetica,sans-Serif\" font-size=\"14.00\">class = Yes_Graduated</text>\r\n</g>\r\n<!-- 1&#45;&gt;3 -->\r\n<g id=\"edge3\" class=\"edge\">\r\n<title>1&#45;&gt;3</title>\r\n<path fill=\"none\" stroke=\"black\" d=\"M246.35,-118.76C253.96,-109.78 261.98,-100.32 269.68,-91.24\"/>\r\n<polygon fill=\"black\" stroke=\"black\" points=\"272.56,-93.26 276.35,-83.37 267.22,-88.73 272.56,-93.26\"/>\r\n</g>\r\n</g>\r\n</svg>\r\n"
     },
     "execution_count": 95,
     "metadata": {},
     "output_type": "execute_result"
    }
   ]
  },
  {
   "cell_type": "code",
   "execution_count": null,
   "outputs": [],
   "source": [
    "\n",
    "# def create_tree(list_o_lists, graduate):\n",
    "#     \"\"\"This Function goes through and creates the decision tree\"\"\"\n",
    "#     # X = list_o_lists\n",
    "#     # Y = graduate\n",
    "#     # clf = tree.DecisionTreeClassifier()\n",
    "#     # clf = clf.fit(X,Y)\n",
    "#     # print(type(clf))\n",
    "#     # print(clf)\n",
    "#     Xnum = list_o_lists\n",
    "#     classifications = graduate\n",
    "#     clf2 = tree.DecisionTreeClassifier(criterion=\"entropy\")\n",
    "#     clf2 = clf2.fit(Xnum, classifications)\n",
    "#\n",
    "#     print(type(clf2))\n",
    "#     print(clf2)\n",
    "#     treeStruct = export_text(clf2)\n",
    "#     print(\"\\nNow printing export_text(clf2)\")\n",
    "#     print(treeStruct)\n",
    "#     foo = clf2.apply(Xnum)  # passing in full list of training tuples\n",
    "#     print(\"clf2.apply( Xnum ):\")\n",
    "#     print(foo)\n",
    "#     # now print out line by line as pair:  tuple, which leaf node\n",
    "#     print(\"\\nNow printing each tuple with the decision tree node it ends up in:\")\n",
    "#     for i in range(len(foo)):\n",
    "#         print(str(Xnum[i]) + \",\" + str(foo[i]))\n",
    "#\n",
    "#     # NOTE - adding in node_ids and class_names as options to make tree viz more robust\n",
    "#     dot_data = tree.export_graphviz(clf2, node_ids=\"true\",class_names=('not buy','yes buy'),out_file=None, filled=True, rounded=True, special_characters=True)\n",
    "#     graph = graphviz.Source(dot_data)\n",
    "\n"
   ],
   "metadata": {
    "collapsed": false,
    "pycharm": {
     "name": "#%%\n"
    }
   }
  }
 ],
 "metadata": {
  "kernelspec": {
   "display_name": "PyCharm (GITHUB_REPOSITORY)",
   "language": "python",
   "name": "pycharm-865e1948"
  },
  "language_info": {
   "codemirror_mode": {
    "name": "ipython",
    "version": 3
   },
   "file_extension": ".py",
   "mimetype": "text/x-python",
   "name": "python",
   "nbconvert_exporter": "python",
   "pygments_lexer": "ipython3",
   "version": "3.8.10"
  }
 },
 "nbformat": 4,
 "nbformat_minor": 1
}