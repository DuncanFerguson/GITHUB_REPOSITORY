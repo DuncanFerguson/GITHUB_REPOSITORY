{
 "cells": [
  {
   "cell_type": "markdown",
   "metadata": {
    "collapsed": true,
    "pycharm": {
     "name": "#%% md\n"
    }
   },
   "source": [
    "Student: Duncan Ferguson <br>\n",
    "Student Id: 871641260 <br>\n",
    "Class: Comp 4431-1 <br>\n",
    "Assignment: Exercise 6 <br>\n",
    "Date: 10/22/2021 <br>\n",
    "Group: Name: Broken Toe <br>\n",
    "Group Members: Emma Bright, Mike Santoro <br>"
   ]
  },
  {
   "cell_type": "code",
   "execution_count": 134,
   "outputs": [],
   "source": [
    "# Importing Libraries\n",
    "\n",
    "import pandas as pd\n",
    "import random\n",
    "import numpy as np\n",
    "import graphviz\n",
    "from sklearn import tree\n",
    "from sklearn.tree import export_text\n",
    "from sklearn.tree import export_graphviz"
   ],
   "metadata": {
    "collapsed": false,
    "pycharm": {
     "name": "#%%\n"
    }
   }
  },
  {
   "cell_type": "markdown",
   "source": [
    "GPA's are assigned randomly inbetween a scale of 1 and 4"
   ],
   "metadata": {
    "collapsed": false,
    "pycharm": {
     "name": "#%% md\n"
    }
   }
  },
  {
   "cell_type": "code",
   "execution_count": 135,
   "outputs": [
    {
     "name": "stdout",
     "output_type": "stream",
     "text": [
      "GPA's [2.08, 2.44, 2.25, 2.34, 2.23, 2.97, 1.78, 2.9, 1.03, 1.91, 2.01, 1.43]\n",
      "GPA's Testing [3.23, 1.93, 3.37, 3.87, 1.76, 3.68, 3.42, 3.0, 1.08, 2.37, 2.88, 1.89]\n"
     ]
    }
   ],
   "source": [
    "# Setting Random Seed\n",
    "random.seed(16)\n",
    "\n",
    "# Creating a list of 12 Random GPAS\n",
    "GPA = [round(random.uniform(1, 4), 2) for _ in range(12)]  # Creating List of Random GPA\n",
    "GPA_testing = [round(random.uniform(1, 4), 2) for _ in range(12)]\n",
    "print(\"GPA's\", GPA)\n",
    "print(\"GPA's Testing\", GPA_testing)"
   ],
   "metadata": {
    "collapsed": false,
    "pycharm": {
     "name": "#%%\n"
    }
   }
  },
  {
   "cell_type": "markdown",
   "source": [
    "Rankings are assigned on tier basis. Within those tiers there is some variability <br>\n",
    "-If the GPA is above 3.5 the student is in the top 90-100% <br>\n",
    "-If the GPA is above 3.0 but below 3.5 the student is in the top 80-90% <br>\n",
    "-If the GPA is above 2.5 but below 3 the student is in the top 70-80% <br>\n",
    "-If the GPA is above 2.0 but below 2.5 the student is in the top 60-70% <br>\n",
    "-If the GPA is below 2.0 the student is in the bottom 0-60% <br>"
   ],
   "metadata": {
    "collapsed": false,
    "pycharm": {
     "name": "#%% md\n"
    }
   }
  },
  {
   "cell_type": "code",
   "execution_count": 136,
   "outputs": [
    {
     "name": "stdout",
     "output_type": "stream",
     "text": [
      "Rankings [0.62, 0.63, 0.63, 0.68, 0.63, 0.74, 0.39, 0.79, 0.18, 0.03, 0.7, 0.5]\n",
      "Ranking Testing [0.88, 0.31, 0.82, 0.92, 0.18, 0.95, 0.81, 0.77, 0.44, 0.6, 0.78, 0.29]\n"
     ]
    }
   ],
   "source": [
    "def get_rankings(GPA):\n",
    "    \"\"\"This Function Randomizes rankings with weights\"\"\"\n",
    "    RANK = []\n",
    "    for grade in GPA:\n",
    "        if grade > 3.5:\n",
    "            RANK.append(round(random.uniform(.9, 1), 2))\n",
    "        elif grade > 3:\n",
    "            RANK.append(round(random.uniform(.8, .9), 2))\n",
    "        elif grade > 2.5:\n",
    "            RANK.append(round(random.uniform(.7, .8), 2))\n",
    "        elif grade > 2:\n",
    "            RANK.append(round(random.uniform(.6, .7), 2))\n",
    "        else:\n",
    "            RANK.append(round(random.uniform(0, .6), 2))\n",
    "    return RANK\n",
    "\n",
    "RANK = get_rankings(GPA)\n",
    "RANK_testing = get_rankings(GPA_testing)\n",
    "\n",
    "print(\"Rankings\", RANK)\n",
    "print(\"Ranking Testing\", RANK_testing)"
   ],
   "metadata": {
    "collapsed": false,
    "pycharm": {
     "name": "#%%\n"
    }
   }
  },
  {
   "cell_type": "markdown",
   "source": [
    "For assigning working values. 1 indicates that the student did work, 0 indicates the student did not. <br>\n",
    "-If the students GPA is above 2.0, there is a random 0-60 value assigned. If that value is above 50 they did work. <br>\n",
    "-If the students GPA is below 2.0, there is a random 30-100 value assigned. If that value is above 50 they did work."
   ],
   "metadata": {
    "collapsed": false,
    "pycharm": {
     "name": "#%% md\n"
    }
   }
  },
  {
   "cell_type": "code",
   "execution_count": 137,
   "outputs": [
    {
     "name": "stdout",
     "output_type": "stream",
     "text": [
      "Worked [1, 1, 0, 0, 0, 0, 1, 1, 0, 1, 0, 0]\n",
      "Worked Testing [0, 1, 1, 0, 1, 0, 0, 0, 1, 0, 0, 1]\n"
     ]
    }
   ],
   "source": [
    "# Setting up Random Work 0 did not work 1 did, Scaling it toward working have lower GPA\n",
    "def get_working(GPA):\n",
    "    \"\"\"Determining if they worked based off of GPA, with some randomness\"\"\"\n",
    "    WORKED = []\n",
    "    for num in enumerate(GPA):\n",
    "        if num[1] > 2:\n",
    "            rand_work = random.randint(0, 60)\n",
    "            if rand_work > 50:\n",
    "                WORKED.append(1)\n",
    "            else:\n",
    "                WORKED.append(0)\n",
    "        else:\n",
    "            if random.randint(30, 100) > 50:\n",
    "                WORKED.append(1)\n",
    "            else:\n",
    "                WORKED.append(0)\n",
    "    return  WORKED\n",
    "\n",
    "WORKED = get_working(GPA)\n",
    "WORKED_testing = get_working(GPA_testing)\n",
    "print(\"Worked\", WORKED)\n",
    "print(\"Worked Testing\", WORKED_testing)"
   ],
   "metadata": {
    "collapsed": false,
    "pycharm": {
     "name": "#%%\n"
    }
   }
  },
  {
   "cell_type": "markdown",
   "source": [
    "Compressing the GPA, RANKING and WORKED into a list"
   ],
   "metadata": {
    "collapsed": false,
    "pycharm": {
     "name": "#%% md\n"
    }
   }
  },
  {
   "cell_type": "code",
   "execution_count": 138,
   "outputs": [
    {
     "name": "stdout",
     "output_type": "stream",
     "text": [
      "List_o_list [[2.08, 0.62, 1], [2.44, 0.63, 1], [2.25, 0.63, 0], [2.34, 0.68, 0], [2.23, 0.63, 0], [2.97, 0.74, 0], [1.78, 0.39, 1], [2.9, 0.79, 1], [1.03, 0.18, 0], [1.91, 0.03, 1], [2.01, 0.7, 0], [1.43, 0.5, 0]]\n",
      "List_o_training [[3.23, 0.88, 0], [1.93, 0.31, 1], [3.37, 0.82, 1], [3.87, 0.92, 0], [1.76, 0.18, 1], [3.68, 0.95, 0], [3.42, 0.81, 0], [3.0, 0.77, 0], [1.08, 0.44, 1], [2.37, 0.6, 0], [2.88, 0.78, 0], [1.89, 0.29, 1]]\n"
     ]
    }
   ],
   "source": [
    "def compress_list(GPA, RANK, WORKED):\n",
    "    \"\"\"Compressing the lists\"\"\"\n",
    "    list_o_list = []\n",
    "    for num in range(len(GPA)):\n",
    "        list_o_list.append([GPA[num], RANK[num], WORKED[num]])\n",
    "    return list_o_list\n",
    "\n",
    "list_o_list = compress_list(GPA, RANK, WORKED)\n",
    "list_o_training = compress_list(GPA_testing, RANK_testing, WORKED_testing)\n",
    "print(\"List_o_list\", list_o_list)\n",
    "print(\"List_o_training\", list_o_training)"
   ],
   "metadata": {
    "collapsed": false,
    "pycharm": {
     "name": "#%%\n"
    }
   }
  },
  {
   "cell_type": "markdown",
   "source": [
    "Graduating in 6 years is based on the sum of GPA, RANK and WORKED. <br>\n",
    "If the sum of these three variables is above 3, They graduate with in 6 years <br>\n",
    "Graduate Training is made so that we can see how well our decision tree works"
   ],
   "metadata": {
    "collapsed": false,
    "pycharm": {
     "name": "#%% md\n"
    }
   }
  },
  {
   "cell_type": "code",
   "execution_count": 139,
   "outputs": [
    {
     "name": "stdout",
     "output_type": "stream",
     "text": [
      "Graduate [1, 1, 0, 1, 0, 1, 1, 1, 0, 0, 0, 0]\n",
      "Graduate Training [1, 1, 1, 1, 0, 1, 1, 1, 0, 0, 1, 1]\n"
     ]
    }
   ],
   "source": [
    "def grad_in_6(list_o_list):\n",
    "    \"\"\"Creating a classifier if they graduate in 6 years \"\"\"\n",
    "    graduate = []\n",
    "    for person in enumerate(list_o_list):\n",
    "        if sum(person[1]) > 3:\n",
    "            graduate.append(1)\n",
    "        else:\n",
    "            graduate.append(0)\n",
    "    return graduate\n",
    "\n",
    "graduate = grad_in_6(list_o_list)\n",
    "graduate_training = grad_in_6(list_o_training)\n",
    "\n",
    "print('Graduate', graduate)\n",
    "print('Graduate Training', graduate_training)"
   ],
   "metadata": {
    "collapsed": false,
    "pycharm": {
     "name": "#%%\n"
    }
   }
  },
  {
   "cell_type": "markdown",
   "source": [
    "First Example"
   ],
   "metadata": {
    "collapsed": false,
    "pycharm": {
     "name": "#%% md\n"
    }
   }
  },
  {
   "cell_type": "code",
   "execution_count": 140,
   "outputs": [
    {
     "name": "stdout",
     "output_type": "stream",
     "text": [
      "<class 'sklearn.tree._classes.DecisionTreeClassifier'>\n",
      "DecisionTreeClassifier()\n",
      "output of classifying 4 new items (should be):  [1, 1, 1, 1, 0, 1, 1, 1, 0, 0, 1, 1]\n",
      "[1, 1, 1, 1, 0, 1, 1, 1, 1, 1, 1, 1]\n"
     ]
    }
   ],
   "source": [
    "X = list_o_list\n",
    "Y = graduate\n",
    "labels = [\"GPA\", \"RANK\", \"WORKED\"]\n",
    "\n",
    "clf = tree.DecisionTreeClassifier()\n",
    "clf = clf.fit(X,Y)\n",
    "print(type(clf))\n",
    "print(clf)\n",
    "\n",
    "foo = clf.predict_proba(list_o_training)\n",
    "\n",
    "print(\"output of classifying 4 new items (should be): \", graduate_training)\n",
    "foo = pd.DataFrame(data=foo, columns=[\"Something\",\"Graduate\"])\n",
    "predict_graduating = foo[\"Graduate\"].to_list()\n",
    "predict_graduating = [int(i) for i in predict_graduating]\n",
    "print(predict_graduating)"
   ],
   "metadata": {
    "collapsed": false,
    "pycharm": {
     "name": "#%%\n"
    }
   }
  },
  {
   "cell_type": "markdown",
   "source": [
    "Second Example\n"
   ],
   "metadata": {
    "collapsed": false,
    "pycharm": {
     "name": "#%% md\n"
    }
   }
  },
  {
   "cell_type": "code",
   "execution_count": 141,
   "outputs": [
    {
     "name": "stdout",
     "output_type": "stream",
     "text": [
      "<class 'sklearn.tree._classes.DecisionTreeClassifier'>\n",
      "DecisionTreeClassifier(criterion='entropy')\n",
      "\n",
      "Now 'predicting class' of the first 6 elements of the training data.\n",
      "test data = [[3.23, 0.88, 0], [1.93, 0.31, 1], [3.37, 0.82, 1], [3.87, 0.92, 0], [1.76, 0.18, 1], [3.68, 0.95, 0], [3.42, 0.81, 0], [3.0, 0.77, 0], [1.08, 0.44, 1], [2.37, 0.6, 0], [2.88, 0.78, 0], [1.89, 0.29, 1]]\n",
      "data are classified as:\n",
      "[[0. 1.]\n",
      " [0. 1.]\n",
      " [0. 1.]\n",
      " [0. 1.]\n",
      " [1. 0.]\n",
      " [0. 1.]\n",
      " [0. 1.]\n",
      " [0. 1.]\n",
      " [0. 1.]\n",
      " [0. 1.]\n",
      " [0. 1.]\n",
      " [0. 1.]]\n",
      "\n",
      "Now printing export_text(clf2)\n",
      "|--- feature_0 <= 2.29\n",
      "|   |--- feature_2 <= 0.50\n",
      "|   |   |--- class: 0\n",
      "|   |--- feature_2 >  0.50\n",
      "|   |   |--- feature_1 <= 0.21\n",
      "|   |   |   |--- class: 0\n",
      "|   |   |--- feature_1 >  0.21\n",
      "|   |   |   |--- class: 1\n",
      "|--- feature_0 >  2.29\n",
      "|   |--- class: 1\n",
      "\n"
     ]
    }
   ],
   "source": [
    "Xnum = list_o_list\n",
    "classifications = graduate\n",
    "clf2 = tree.DecisionTreeClassifier(criterion=\"entropy\")\n",
    "clf2 = clf2.fit(Xnum,classifications)\n",
    "print(type(clf2))\n",
    "print(clf2)\n",
    "\n",
    "print(\"\\nNow 'predicting class' of the first 6 elements of the training data.\")\n",
    "testData = list_o_training\n",
    "foo = clf2.predict_proba( testData )\n",
    "print(\"test data = \" + str(testData))\n",
    "print(\"data are classified as:\")\n",
    "print(foo)\n",
    "\n",
    "treeStruct = export_text(clf2)\n",
    "print(\"\\nNow printing export_text(clf2)\")\n",
    "print(treeStruct)"
   ],
   "metadata": {
    "collapsed": false,
    "pycharm": {
     "name": "#%%\n"
    }
   }
  },
  {
   "cell_type": "code",
   "source": [
    "foo = clf2.apply( Xnum )   # passing in full list of training tuples\n",
    "print(\"clf2.apply( Xnum ):\")\n",
    "print(foo)\n",
    "# now print out line by line as pair:  tuple, which leaf node\n",
    "print(\"\\nNow printing each tuple with the decision tree node it ends up in:\")\n",
    "for i in range(len(foo)):\n",
    "    print(str(Xnum[i]) + \",\" + str(foo[i]))\n",
    "\n",
    "# NOTE - adding in node_ids and class_names as options to make tree viz more robust\n",
    "dot_data = tree.export_graphviz(clf2, node_ids=\"true\",\n",
    "                                feature_names=labels,\n",
    "                                class_names=('No_Did_Not_Graduate','Yes_Graduated'),\n",
    "                                out_file=None,\n",
    "                                filled=True,\n",
    "                                rounded=True,\n",
    "                                special_characters=True)\n",
    "graph = graphviz.Source(dot_data)\n",
    "\n",
    "graph"
   ],
   "metadata": {
    "collapsed": false,
    "pycharm": {
     "name": "#%%\n"
    }
   },
   "execution_count": 144,
   "outputs": [
    {
     "name": "stdout",
     "output_type": "stream",
     "text": [
      "clf2.apply( Xnum ):\n",
      "[5 6 2 6 2 6 5 6 2 4 2 2]\n",
      "\n",
      "Now printing each tuple with the decision tree node it ends up in:\n",
      "[2.08, 0.62, 1],5\n",
      "[2.44, 0.63, 1],6\n",
      "[2.25, 0.63, 0],2\n",
      "[2.34, 0.68, 0],6\n",
      "[2.23, 0.63, 0],2\n",
      "[2.97, 0.74, 0],6\n",
      "[1.78, 0.39, 1],5\n",
      "[2.9, 0.79, 1],6\n",
      "[1.03, 0.18, 0],2\n",
      "[1.91, 0.03, 1],4\n",
      "[2.01, 0.7, 0],2\n",
      "[1.43, 0.5, 0],2\n"
     ]
    },
    {
     "data": {
      "text/plain": "<graphviz.files.Source at 0x1ba85bad130>",
      "image/svg+xml": "<?xml version=\"1.0\" encoding=\"UTF-8\" standalone=\"no\"?>\r\n<!DOCTYPE svg PUBLIC \"-//W3C//DTD SVG 1.1//EN\"\r\n \"http://www.w3.org/Graphics/SVG/1.1/DTD/svg11.dtd\">\r\n<!-- Generated by graphviz version 2.49.2 (20211016.1639)\r\n -->\r\n<!-- Title: Tree Pages: 1 -->\r\n<svg width=\"505pt\" height=\"493pt\"\r\n viewBox=\"0.00 0.00 504.50 493.00\" xmlns=\"http://www.w3.org/2000/svg\" xmlns:xlink=\"http://www.w3.org/1999/xlink\">\r\n<g id=\"graph0\" class=\"graph\" transform=\"scale(1 1) rotate(0) translate(4 489)\">\r\n<title>Tree</title>\r\n<polygon fill=\"white\" stroke=\"transparent\" points=\"-4,4 -4,-489 500.5,-489 500.5,4 -4,4\"/>\r\n<!-- 0 -->\r\n<g id=\"node1\" class=\"node\">\r\n<title>0</title>\r\n<path fill=\"#ffffff\" stroke=\"black\" d=\"M404,-485C404,-485 218,-485 218,-485 212,-485 206,-479 206,-473 206,-473 206,-399 206,-399 206,-393 212,-387 218,-387 218,-387 404,-387 404,-387 410,-387 416,-393 416,-399 416,-399 416,-473 416,-473 416,-479 410,-485 404,-485\"/>\r\n<text text-anchor=\"start\" x=\"284.5\" y=\"-469.8\" font-family=\"Helvetica,sans-Serif\" font-size=\"14.00\">node #0</text>\r\n<text text-anchor=\"start\" x=\"269.5\" y=\"-454.8\" font-family=\"Helvetica,sans-Serif\" font-size=\"14.00\">GPA ≤ 2.295</text>\r\n<text text-anchor=\"start\" x=\"269\" y=\"-439.8\" font-family=\"Helvetica,sans-Serif\" font-size=\"14.00\">entropy = 1.0</text>\r\n<text text-anchor=\"start\" x=\"267.5\" y=\"-424.8\" font-family=\"Helvetica,sans-Serif\" font-size=\"14.00\">samples = 12</text>\r\n<text text-anchor=\"start\" x=\"270.5\" y=\"-409.8\" font-family=\"Helvetica,sans-Serif\" font-size=\"14.00\">value = [6, 6]</text>\r\n<text text-anchor=\"start\" x=\"214\" y=\"-394.8\" font-family=\"Helvetica,sans-Serif\" font-size=\"14.00\">class = No_Did_Not_Graduate</text>\r\n</g>\r\n<!-- 1 -->\r\n<g id=\"node2\" class=\"node\">\r\n<title>1</title>\r\n<path fill=\"#eeab7b\" stroke=\"black\" d=\"M301,-351C301,-351 115,-351 115,-351 109,-351 103,-345 103,-339 103,-339 103,-265 103,-265 103,-259 109,-253 115,-253 115,-253 301,-253 301,-253 307,-253 313,-259 313,-265 313,-265 313,-339 313,-339 313,-345 307,-351 301,-351\"/>\r\n<text text-anchor=\"start\" x=\"181.5\" y=\"-335.8\" font-family=\"Helvetica,sans-Serif\" font-size=\"14.00\">node #1</text>\r\n<text text-anchor=\"start\" x=\"157\" y=\"-320.8\" font-family=\"Helvetica,sans-Serif\" font-size=\"14.00\">WORKED ≤ 0.5</text>\r\n<text text-anchor=\"start\" x=\"158\" y=\"-305.8\" font-family=\"Helvetica,sans-Serif\" font-size=\"14.00\">entropy = 0.811</text>\r\n<text text-anchor=\"start\" x=\"168.5\" y=\"-290.8\" font-family=\"Helvetica,sans-Serif\" font-size=\"14.00\">samples = 8</text>\r\n<text text-anchor=\"start\" x=\"167.5\" y=\"-275.8\" font-family=\"Helvetica,sans-Serif\" font-size=\"14.00\">value = [6, 2]</text>\r\n<text text-anchor=\"start\" x=\"111\" y=\"-260.8\" font-family=\"Helvetica,sans-Serif\" font-size=\"14.00\">class = No_Did_Not_Graduate</text>\r\n</g>\r\n<!-- 0&#45;&gt;1 -->\r\n<g id=\"edge1\" class=\"edge\">\r\n<title>0&#45;&gt;1</title>\r\n<path fill=\"none\" stroke=\"black\" d=\"M273.52,-386.97C266.49,-377.96 259.09,-368.47 251.88,-359.24\"/>\r\n<polygon fill=\"black\" stroke=\"black\" points=\"254.53,-356.94 245.62,-351.21 249.01,-361.25 254.53,-356.94\"/>\r\n<text text-anchor=\"middle\" x=\"242.56\" y=\"-372.33\" font-family=\"Helvetica,sans-Serif\" font-size=\"14.00\">True</text>\r\n</g>\r\n<!-- 6 -->\r\n<g id=\"node7\" class=\"node\">\r\n<title>6</title>\r\n<path fill=\"#399de5\" stroke=\"black\" d=\"M484.5,-343.5C484.5,-343.5 343.5,-343.5 343.5,-343.5 337.5,-343.5 331.5,-337.5 331.5,-331.5 331.5,-331.5 331.5,-272.5 331.5,-272.5 331.5,-266.5 337.5,-260.5 343.5,-260.5 343.5,-260.5 484.5,-260.5 484.5,-260.5 490.5,-260.5 496.5,-266.5 496.5,-272.5 496.5,-272.5 496.5,-331.5 496.5,-331.5 496.5,-337.5 490.5,-343.5 484.5,-343.5\"/>\r\n<text text-anchor=\"start\" x=\"387.5\" y=\"-328.3\" font-family=\"Helvetica,sans-Serif\" font-size=\"14.00\">node #6</text>\r\n<text text-anchor=\"start\" x=\"372\" y=\"-313.3\" font-family=\"Helvetica,sans-Serif\" font-size=\"14.00\">entropy = 0.0</text>\r\n<text text-anchor=\"start\" x=\"374.5\" y=\"-298.3\" font-family=\"Helvetica,sans-Serif\" font-size=\"14.00\">samples = 4</text>\r\n<text text-anchor=\"start\" x=\"373.5\" y=\"-283.3\" font-family=\"Helvetica,sans-Serif\" font-size=\"14.00\">value = [0, 4]</text>\r\n<text text-anchor=\"start\" x=\"339.5\" y=\"-268.3\" font-family=\"Helvetica,sans-Serif\" font-size=\"14.00\">class = Yes_Graduated</text>\r\n</g>\r\n<!-- 0&#45;&gt;6 -->\r\n<g id=\"edge6\" class=\"edge\">\r\n<title>0&#45;&gt;6</title>\r\n<path fill=\"none\" stroke=\"black\" d=\"M348.48,-386.97C357.36,-375.58 366.85,-363.42 375.77,-351.99\"/>\r\n<polygon fill=\"black\" stroke=\"black\" points=\"378.76,-353.85 382.15,-343.82 373.24,-349.55 378.76,-353.85\"/>\r\n<text text-anchor=\"middle\" x=\"385.21\" y=\"-364.93\" font-family=\"Helvetica,sans-Serif\" font-size=\"14.00\">False</text>\r\n</g>\r\n<!-- 2 -->\r\n<g id=\"node3\" class=\"node\">\r\n<title>2</title>\r\n<path fill=\"#e58139\" stroke=\"black\" d=\"M198,-209.5C198,-209.5 12,-209.5 12,-209.5 6,-209.5 0,-203.5 0,-197.5 0,-197.5 0,-138.5 0,-138.5 0,-132.5 6,-126.5 12,-126.5 12,-126.5 198,-126.5 198,-126.5 204,-126.5 210,-132.5 210,-138.5 210,-138.5 210,-197.5 210,-197.5 210,-203.5 204,-209.5 198,-209.5\"/>\r\n<text text-anchor=\"start\" x=\"78.5\" y=\"-194.3\" font-family=\"Helvetica,sans-Serif\" font-size=\"14.00\">node #2</text>\r\n<text text-anchor=\"start\" x=\"63\" y=\"-179.3\" font-family=\"Helvetica,sans-Serif\" font-size=\"14.00\">entropy = 0.0</text>\r\n<text text-anchor=\"start\" x=\"65.5\" y=\"-164.3\" font-family=\"Helvetica,sans-Serif\" font-size=\"14.00\">samples = 5</text>\r\n<text text-anchor=\"start\" x=\"64.5\" y=\"-149.3\" font-family=\"Helvetica,sans-Serif\" font-size=\"14.00\">value = [5, 0]</text>\r\n<text text-anchor=\"start\" x=\"8\" y=\"-134.3\" font-family=\"Helvetica,sans-Serif\" font-size=\"14.00\">class = No_Did_Not_Graduate</text>\r\n</g>\r\n<!-- 1&#45;&gt;2 -->\r\n<g id=\"edge2\" class=\"edge\">\r\n<title>1&#45;&gt;2</title>\r\n<path fill=\"none\" stroke=\"black\" d=\"M170.52,-252.97C161.64,-241.58 152.15,-229.42 143.23,-217.99\"/>\r\n<polygon fill=\"black\" stroke=\"black\" points=\"145.76,-215.55 136.85,-209.82 140.24,-219.85 145.76,-215.55\"/>\r\n</g>\r\n<!-- 3 -->\r\n<g id=\"node4\" class=\"node\">\r\n<title>3</title>\r\n<path fill=\"#9ccef2\" stroke=\"black\" d=\"M381.5,-217C381.5,-217 240.5,-217 240.5,-217 234.5,-217 228.5,-211 228.5,-205 228.5,-205 228.5,-131 228.5,-131 228.5,-125 234.5,-119 240.5,-119 240.5,-119 381.5,-119 381.5,-119 387.5,-119 393.5,-125 393.5,-131 393.5,-131 393.5,-205 393.5,-205 393.5,-211 387.5,-217 381.5,-217\"/>\r\n<text text-anchor=\"start\" x=\"284.5\" y=\"-201.8\" font-family=\"Helvetica,sans-Serif\" font-size=\"14.00\">node #3</text>\r\n<text text-anchor=\"start\" x=\"269\" y=\"-186.8\" font-family=\"Helvetica,sans-Serif\" font-size=\"14.00\">RANK ≤ 0.21</text>\r\n<text text-anchor=\"start\" x=\"261\" y=\"-171.8\" font-family=\"Helvetica,sans-Serif\" font-size=\"14.00\">entropy = 0.918</text>\r\n<text text-anchor=\"start\" x=\"271.5\" y=\"-156.8\" font-family=\"Helvetica,sans-Serif\" font-size=\"14.00\">samples = 3</text>\r\n<text text-anchor=\"start\" x=\"270.5\" y=\"-141.8\" font-family=\"Helvetica,sans-Serif\" font-size=\"14.00\">value = [1, 2]</text>\r\n<text text-anchor=\"start\" x=\"236.5\" y=\"-126.8\" font-family=\"Helvetica,sans-Serif\" font-size=\"14.00\">class = Yes_Graduated</text>\r\n</g>\r\n<!-- 1&#45;&gt;3 -->\r\n<g id=\"edge3\" class=\"edge\">\r\n<title>1&#45;&gt;3</title>\r\n<path fill=\"none\" stroke=\"black\" d=\"M245.48,-252.97C252.51,-243.96 259.91,-234.47 267.12,-225.24\"/>\r\n<polygon fill=\"black\" stroke=\"black\" points=\"269.99,-227.25 273.38,-217.21 264.47,-222.94 269.99,-227.25\"/>\r\n</g>\r\n<!-- 4 -->\r\n<g id=\"node5\" class=\"node\">\r\n<title>4</title>\r\n<path fill=\"#e58139\" stroke=\"black\" d=\"M301,-83C301,-83 115,-83 115,-83 109,-83 103,-77 103,-71 103,-71 103,-12 103,-12 103,-6 109,0 115,0 115,0 301,0 301,0 307,0 313,-6 313,-12 313,-12 313,-71 313,-71 313,-77 307,-83 301,-83\"/>\r\n<text text-anchor=\"start\" x=\"181.5\" y=\"-67.8\" font-family=\"Helvetica,sans-Serif\" font-size=\"14.00\">node #4</text>\r\n<text text-anchor=\"start\" x=\"166\" y=\"-52.8\" font-family=\"Helvetica,sans-Serif\" font-size=\"14.00\">entropy = 0.0</text>\r\n<text text-anchor=\"start\" x=\"168.5\" y=\"-37.8\" font-family=\"Helvetica,sans-Serif\" font-size=\"14.00\">samples = 1</text>\r\n<text text-anchor=\"start\" x=\"167.5\" y=\"-22.8\" font-family=\"Helvetica,sans-Serif\" font-size=\"14.00\">value = [1, 0]</text>\r\n<text text-anchor=\"start\" x=\"111\" y=\"-7.8\" font-family=\"Helvetica,sans-Serif\" font-size=\"14.00\">class = No_Did_Not_Graduate</text>\r\n</g>\r\n<!-- 3&#45;&gt;4 -->\r\n<g id=\"edge4\" class=\"edge\">\r\n<title>3&#45;&gt;4</title>\r\n<path fill=\"none\" stroke=\"black\" d=\"M271.18,-118.87C263.65,-109.76 255.76,-100.23 248.22,-91.12\"/>\r\n<polygon fill=\"black\" stroke=\"black\" points=\"250.77,-88.7 241.7,-83.23 245.37,-93.17 250.77,-88.7\"/>\r\n</g>\r\n<!-- 5 -->\r\n<g id=\"node6\" class=\"node\">\r\n<title>5</title>\r\n<path fill=\"#399de5\" stroke=\"black\" d=\"M484.5,-83C484.5,-83 343.5,-83 343.5,-83 337.5,-83 331.5,-77 331.5,-71 331.5,-71 331.5,-12 331.5,-12 331.5,-6 337.5,0 343.5,0 343.5,0 484.5,0 484.5,0 490.5,0 496.5,-6 496.5,-12 496.5,-12 496.5,-71 496.5,-71 496.5,-77 490.5,-83 484.5,-83\"/>\r\n<text text-anchor=\"start\" x=\"387.5\" y=\"-67.8\" font-family=\"Helvetica,sans-Serif\" font-size=\"14.00\">node #5</text>\r\n<text text-anchor=\"start\" x=\"372\" y=\"-52.8\" font-family=\"Helvetica,sans-Serif\" font-size=\"14.00\">entropy = 0.0</text>\r\n<text text-anchor=\"start\" x=\"374.5\" y=\"-37.8\" font-family=\"Helvetica,sans-Serif\" font-size=\"14.00\">samples = 2</text>\r\n<text text-anchor=\"start\" x=\"373.5\" y=\"-22.8\" font-family=\"Helvetica,sans-Serif\" font-size=\"14.00\">value = [0, 2]</text>\r\n<text text-anchor=\"start\" x=\"339.5\" y=\"-7.8\" font-family=\"Helvetica,sans-Serif\" font-size=\"14.00\">class = Yes_Graduated</text>\r\n</g>\r\n<!-- 3&#45;&gt;5 -->\r\n<g id=\"edge5\" class=\"edge\">\r\n<title>3&#45;&gt;5</title>\r\n<path fill=\"none\" stroke=\"black\" d=\"M350.82,-118.87C358.35,-109.76 366.24,-100.23 373.78,-91.12\"/>\r\n<polygon fill=\"black\" stroke=\"black\" points=\"376.63,-93.17 380.3,-83.23 371.23,-88.7 376.63,-93.17\"/>\r\n</g>\r\n</g>\r\n</svg>\r\n"
     },
     "execution_count": 144,
     "metadata": {},
     "output_type": "execute_result"
    }
   ]
  },
  {
   "cell_type": "markdown",
   "source": [
    "Example 3 Creating a tree with \"gini\" instead of entropy"
   ],
   "metadata": {
    "collapsed": false,
    "pycharm": {
     "name": "#%% md\n"
    }
   }
  },
  {
   "cell_type": "code",
   "execution_count": 143,
   "outputs": [
    {
     "data": {
      "text/plain": "<graphviz.files.Source at 0x1ba85e53190>",
      "image/svg+xml": "<?xml version=\"1.0\" encoding=\"UTF-8\" standalone=\"no\"?>\r\n<!DOCTYPE svg PUBLIC \"-//W3C//DTD SVG 1.1//EN\"\r\n \"http://www.w3.org/Graphics/SVG/1.1/DTD/svg11.dtd\">\r\n<!-- Generated by graphviz version 2.49.2 (20211016.1639)\r\n -->\r\n<!-- Title: Tree Pages: 1 -->\r\n<svg width=\"277pt\" height=\"361pt\"\r\n viewBox=\"0.00 0.00 277.00 361.00\" xmlns=\"http://www.w3.org/2000/svg\" xmlns:xlink=\"http://www.w3.org/1999/xlink\">\r\n<g id=\"graph0\" class=\"graph\" transform=\"scale(1 1) rotate(0) translate(4 357)\">\r\n<title>Tree</title>\r\n<polygon fill=\"white\" stroke=\"transparent\" points=\"-4,4 -4,-357 273,-357 273,4 -4,4\"/>\r\n<!-- 0 -->\r\n<g id=\"node1\" class=\"node\">\r\n<title>0</title>\r\n<path fill=\"#ffffff\" stroke=\"black\" d=\"M202,-353C202,-353 123,-353 123,-353 117,-353 111,-347 111,-341 111,-341 111,-301 111,-301 111,-295 117,-289 123,-289 123,-289 202,-289 202,-289 208,-289 214,-295 214,-301 214,-301 214,-341 214,-341 214,-347 208,-353 202,-353\"/>\r\n<text text-anchor=\"start\" x=\"128\" y=\"-338.8\" font-family=\"Helvetica,sans-Serif\" font-size=\"14.00\">X</text>\r\n<text text-anchor=\"start\" x=\"138\" y=\"-338.8\" font-family=\"Helvetica,sans-Serif\" baseline-shift=\"sub\" font-size=\"14.00\">0</text>\r\n<text text-anchor=\"start\" x=\"145\" y=\"-338.8\" font-family=\"Helvetica,sans-Serif\" font-size=\"14.00\"> ≤ 2.295</text>\r\n<text text-anchor=\"start\" x=\"133.5\" y=\"-324.8\" font-family=\"Helvetica,sans-Serif\" font-size=\"14.00\">gini = 0.5</text>\r\n<text text-anchor=\"start\" x=\"119\" y=\"-310.8\" font-family=\"Helvetica,sans-Serif\" font-size=\"14.00\">samples = 12</text>\r\n<text text-anchor=\"start\" x=\"122\" y=\"-296.8\" font-family=\"Helvetica,sans-Serif\" font-size=\"14.00\">value = [6, 6]</text>\r\n</g>\r\n<!-- 1 -->\r\n<g id=\"node2\" class=\"node\">\r\n<title>1</title>\r\n<path fill=\"#eeab7b\" stroke=\"black\" d=\"M142,-253C142,-253 69,-253 69,-253 63,-253 57,-247 57,-241 57,-241 57,-201 57,-201 57,-195 63,-189 69,-189 69,-189 142,-189 142,-189 148,-189 154,-195 154,-201 154,-201 154,-241 154,-241 154,-247 148,-253 142,-253\"/>\r\n<text text-anchor=\"start\" x=\"79\" y=\"-238.8\" font-family=\"Helvetica,sans-Serif\" font-size=\"14.00\">X</text>\r\n<text text-anchor=\"start\" x=\"89\" y=\"-238.8\" font-family=\"Helvetica,sans-Serif\" baseline-shift=\"sub\" font-size=\"14.00\">2</text>\r\n<text text-anchor=\"start\" x=\"96\" y=\"-238.8\" font-family=\"Helvetica,sans-Serif\" font-size=\"14.00\"> ≤ 0.5</text>\r\n<text text-anchor=\"start\" x=\"68\" y=\"-224.8\" font-family=\"Helvetica,sans-Serif\" font-size=\"14.00\">gini = 0.375</text>\r\n<text text-anchor=\"start\" x=\"66\" y=\"-210.8\" font-family=\"Helvetica,sans-Serif\" font-size=\"14.00\">samples = 8</text>\r\n<text text-anchor=\"start\" x=\"65\" y=\"-196.8\" font-family=\"Helvetica,sans-Serif\" font-size=\"14.00\">value = [6, 2]</text>\r\n</g>\r\n<!-- 0&#45;&gt;1 -->\r\n<g id=\"edge1\" class=\"edge\">\r\n<title>0&#45;&gt;1</title>\r\n<path fill=\"none\" stroke=\"black\" d=\"M144.46,-288.99C139.47,-280.41 133.99,-270.98 128.75,-261.97\"/>\r\n<polygon fill=\"black\" stroke=\"black\" points=\"131.67,-260.03 123.61,-253.14 125.62,-263.55 131.67,-260.03\"/>\r\n<text text-anchor=\"middle\" x=\"117.22\" y=\"-273.61\" font-family=\"Helvetica,sans-Serif\" font-size=\"14.00\">True</text>\r\n</g>\r\n<!-- 6 -->\r\n<g id=\"node7\" class=\"node\">\r\n<title>6</title>\r\n<path fill=\"#399de5\" stroke=\"black\" d=\"M257,-247.5C257,-247.5 184,-247.5 184,-247.5 178,-247.5 172,-241.5 172,-235.5 172,-235.5 172,-206.5 172,-206.5 172,-200.5 178,-194.5 184,-194.5 184,-194.5 257,-194.5 257,-194.5 263,-194.5 269,-200.5 269,-206.5 269,-206.5 269,-235.5 269,-235.5 269,-241.5 263,-247.5 257,-247.5\"/>\r\n<text text-anchor=\"start\" x=\"191.5\" y=\"-232.3\" font-family=\"Helvetica,sans-Serif\" font-size=\"14.00\">gini = 0.0</text>\r\n<text text-anchor=\"start\" x=\"181\" y=\"-217.3\" font-family=\"Helvetica,sans-Serif\" font-size=\"14.00\">samples = 4</text>\r\n<text text-anchor=\"start\" x=\"180\" y=\"-202.3\" font-family=\"Helvetica,sans-Serif\" font-size=\"14.00\">value = [0, 4]</text>\r\n</g>\r\n<!-- 0&#45;&gt;6 -->\r\n<g id=\"edge6\" class=\"edge\">\r\n<title>0&#45;&gt;6</title>\r\n<path fill=\"none\" stroke=\"black\" d=\"M180.85,-288.99C187.02,-278.57 193.94,-266.88 200.25,-256.22\"/>\r\n<polygon fill=\"black\" stroke=\"black\" points=\"203.29,-257.94 205.37,-247.56 197.27,-254.38 203.29,-257.94\"/>\r\n<text text-anchor=\"middle\" x=\"211.58\" y=\"-268.07\" font-family=\"Helvetica,sans-Serif\" font-size=\"14.00\">False</text>\r\n</g>\r\n<!-- 2 -->\r\n<g id=\"node3\" class=\"node\">\r\n<title>2</title>\r\n<path fill=\"#e58139\" stroke=\"black\" d=\"M85,-147.5C85,-147.5 12,-147.5 12,-147.5 6,-147.5 0,-141.5 0,-135.5 0,-135.5 0,-106.5 0,-106.5 0,-100.5 6,-94.5 12,-94.5 12,-94.5 85,-94.5 85,-94.5 91,-94.5 97,-100.5 97,-106.5 97,-106.5 97,-135.5 97,-135.5 97,-141.5 91,-147.5 85,-147.5\"/>\r\n<text text-anchor=\"start\" x=\"19.5\" y=\"-132.3\" font-family=\"Helvetica,sans-Serif\" font-size=\"14.00\">gini = 0.0</text>\r\n<text text-anchor=\"start\" x=\"9\" y=\"-117.3\" font-family=\"Helvetica,sans-Serif\" font-size=\"14.00\">samples = 5</text>\r\n<text text-anchor=\"start\" x=\"8\" y=\"-102.3\" font-family=\"Helvetica,sans-Serif\" font-size=\"14.00\">value = [5, 0]</text>\r\n</g>\r\n<!-- 1&#45;&gt;2 -->\r\n<g id=\"edge2\" class=\"edge\">\r\n<title>1&#45;&gt;2</title>\r\n<path fill=\"none\" stroke=\"black\" d=\"M87.46,-188.99C81.4,-178.57 74.6,-166.88 68.4,-156.22\"/>\r\n<polygon fill=\"black\" stroke=\"black\" points=\"71.42,-154.44 63.36,-147.56 65.37,-157.96 71.42,-154.44\"/>\r\n</g>\r\n<!-- 3 -->\r\n<g id=\"node4\" class=\"node\">\r\n<title>3</title>\r\n<path fill=\"#9ccef2\" stroke=\"black\" d=\"M200,-153C200,-153 127,-153 127,-153 121,-153 115,-147 115,-141 115,-141 115,-101 115,-101 115,-95 121,-89 127,-89 127,-89 200,-89 200,-89 206,-89 212,-95 212,-101 212,-101 212,-141 212,-141 212,-147 206,-153 200,-153\"/>\r\n<text text-anchor=\"start\" x=\"133\" y=\"-138.8\" font-family=\"Helvetica,sans-Serif\" font-size=\"14.00\">X</text>\r\n<text text-anchor=\"start\" x=\"143\" y=\"-138.8\" font-family=\"Helvetica,sans-Serif\" baseline-shift=\"sub\" font-size=\"14.00\">1</text>\r\n<text text-anchor=\"start\" x=\"150\" y=\"-138.8\" font-family=\"Helvetica,sans-Serif\" font-size=\"14.00\"> ≤ 0.21</text>\r\n<text text-anchor=\"start\" x=\"126\" y=\"-124.8\" font-family=\"Helvetica,sans-Serif\" font-size=\"14.00\">gini = 0.444</text>\r\n<text text-anchor=\"start\" x=\"124\" y=\"-110.8\" font-family=\"Helvetica,sans-Serif\" font-size=\"14.00\">samples = 3</text>\r\n<text text-anchor=\"start\" x=\"123\" y=\"-96.8\" font-family=\"Helvetica,sans-Serif\" font-size=\"14.00\">value = [1, 2]</text>\r\n</g>\r\n<!-- 1&#45;&gt;3 -->\r\n<g id=\"edge3\" class=\"edge\">\r\n<title>1&#45;&gt;3</title>\r\n<path fill=\"none\" stroke=\"black\" d=\"M123.85,-188.99C128.93,-180.41 134.51,-170.98 139.85,-161.97\"/>\r\n<polygon fill=\"black\" stroke=\"black\" points=\"142.99,-163.53 145.07,-153.14 136.96,-159.97 142.99,-163.53\"/>\r\n</g>\r\n<!-- 4 -->\r\n<g id=\"node5\" class=\"node\">\r\n<title>4</title>\r\n<path fill=\"#e58139\" stroke=\"black\" d=\"M142,-53C142,-53 69,-53 69,-53 63,-53 57,-47 57,-41 57,-41 57,-12 57,-12 57,-6 63,0 69,0 69,0 142,0 142,0 148,0 154,-6 154,-12 154,-12 154,-41 154,-41 154,-47 148,-53 142,-53\"/>\r\n<text text-anchor=\"start\" x=\"76.5\" y=\"-37.8\" font-family=\"Helvetica,sans-Serif\" font-size=\"14.00\">gini = 0.0</text>\r\n<text text-anchor=\"start\" x=\"66\" y=\"-22.8\" font-family=\"Helvetica,sans-Serif\" font-size=\"14.00\">samples = 1</text>\r\n<text text-anchor=\"start\" x=\"65\" y=\"-7.8\" font-family=\"Helvetica,sans-Serif\" font-size=\"14.00\">value = [1, 0]</text>\r\n</g>\r\n<!-- 3&#45;&gt;4 -->\r\n<g id=\"edge4\" class=\"edge\">\r\n<title>3&#45;&gt;4</title>\r\n<path fill=\"none\" stroke=\"black\" d=\"M144.03,-88.94C138.55,-80.2 132.56,-70.65 126.97,-61.74\"/>\r\n<polygon fill=\"black\" stroke=\"black\" points=\"129.82,-59.7 121.55,-53.09 123.89,-63.42 129.82,-59.7\"/>\r\n</g>\r\n<!-- 5 -->\r\n<g id=\"node6\" class=\"node\">\r\n<title>5</title>\r\n<path fill=\"#399de5\" stroke=\"black\" d=\"M257,-53C257,-53 184,-53 184,-53 178,-53 172,-47 172,-41 172,-41 172,-12 172,-12 172,-6 178,0 184,0 184,0 257,0 257,0 263,0 269,-6 269,-12 269,-12 269,-41 269,-41 269,-47 263,-53 257,-53\"/>\r\n<text text-anchor=\"start\" x=\"191.5\" y=\"-37.8\" font-family=\"Helvetica,sans-Serif\" font-size=\"14.00\">gini = 0.0</text>\r\n<text text-anchor=\"start\" x=\"181\" y=\"-22.8\" font-family=\"Helvetica,sans-Serif\" font-size=\"14.00\">samples = 2</text>\r\n<text text-anchor=\"start\" x=\"180\" y=\"-7.8\" font-family=\"Helvetica,sans-Serif\" font-size=\"14.00\">value = [0, 2]</text>\r\n</g>\r\n<!-- 3&#45;&gt;5 -->\r\n<g id=\"edge5\" class=\"edge\">\r\n<title>3&#45;&gt;5</title>\r\n<path fill=\"none\" stroke=\"black\" d=\"M182.64,-88.94C188.02,-80.2 193.91,-70.65 199.4,-61.74\"/>\r\n<polygon fill=\"black\" stroke=\"black\" points=\"202.46,-63.44 204.73,-53.09 196.5,-59.77 202.46,-63.44\"/>\r\n</g>\r\n</g>\r\n</svg>\r\n"
     },
     "execution_count": 143,
     "metadata": {},
     "output_type": "execute_result"
    }
   ],
   "source": [
    "clf3 = tree.DecisionTreeClassifier(criterion=\"gini\")\n",
    "clf3 = clf3.fit(Xnum,classifications)\n",
    "dotData3 = tree.export_graphviz(clf3, out_file=None, filled=True, rounded=True, special_characters=True)\n",
    "foo = clf3.predict_proba( Xnum )\n",
    "\n",
    "graph = graphviz.Source(dotData3)\n",
    "graph\n",
    "\n",
    "\n",
    "\n",
    "\n",
    "\n"
   ],
   "metadata": {
    "collapsed": false,
    "pycharm": {
     "name": "#%%\n"
    }
   }
  }
 ],
 "metadata": {
  "kernelspec": {
   "display_name": "PyCharm (GITHUB_REPOSITORY)",
   "language": "python",
   "name": "pycharm-865e1948"
  },
  "language_info": {
   "codemirror_mode": {
    "name": "ipython",
    "version": 3
   },
   "file_extension": ".py",
   "mimetype": "text/x-python",
   "name": "python",
   "nbconvert_exporter": "python",
   "pygments_lexer": "ipython3",
   "version": "3.8.10"
  }
 },
 "nbformat": 4,
 "nbformat_minor": 1
}