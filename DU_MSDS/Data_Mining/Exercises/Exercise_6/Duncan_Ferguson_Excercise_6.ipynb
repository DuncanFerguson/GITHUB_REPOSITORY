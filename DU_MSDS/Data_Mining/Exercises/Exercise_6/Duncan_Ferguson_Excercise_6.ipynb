{
 "cells": [
  {
   "cell_type": "markdown",
   "metadata": {
    "collapsed": true,
    "pycharm": {
     "name": "#%% md\n"
    }
   },
   "source": [
    "Student: Duncan Ferguson <br>\n",
    "Student Id: 871641260 <br>\n",
    "Class: Comp 4431-1 <br>\n",
    "Assignment: Exercise 6 <br>\n",
    "Date: 10/22/2021 <br>\n",
    "Group: Name: Broken Toe <br>\n",
    "Group Members: Emma Bright, Mike Santoro <br>"
   ]
  },
  {
   "cell_type": "code",
   "execution_count": 2,
   "outputs": [],
   "source": [
    "# Importing Libraries\n",
    "\n",
    "import pandas as pd\n",
    "import random\n",
    "import graphviz\n",
    "from sklearn import tree\n",
    "from sklearn.tree import export_text"
   ],
   "metadata": {
    "collapsed": false,
    "pycharm": {
     "name": "#%%\n"
    }
   }
  },
  {
   "cell_type": "markdown",
   "source": [
    "GPA's are assigned randomly inbetween a scale of 1 and 4"
   ],
   "metadata": {
    "collapsed": false,
    "pycharm": {
     "name": "#%% md\n"
    }
   }
  },
  {
   "cell_type": "code",
   "execution_count": 23,
   "outputs": [
    {
     "name": "stdout",
     "output_type": "stream",
     "text": [
      "GPA's [2.49, 1.8, 2.91, 1.73, 2.42, 3.91, 1.26, 1.95, 3.03, 1.26, 1.46, 3.48]\n",
      "GPA's Testing [3.94, 1.96, 1.57, 3.92, 1.99, 2.81, 2.82, 2.9, 3.75, 3.89, 3.08, 3.47]\n"
     ]
    }
   ],
   "source": [
    "# Setting Random Seed\n",
    "random.seed(50)\n",
    "\n",
    "# Creating a list of 12 Random GPAS\n",
    "GPA = [round(random.uniform(1, 4), 2) for _ in range(12)]  # Creating List of Random GPA\n",
    "GPA_testing = [round(random.uniform(1, 4), 2) for _ in range(12)]\n",
    "print(\"GPA's\", GPA)\n",
    "print(\"GPA's Testing\", GPA_testing)"
   ],
   "metadata": {
    "collapsed": false,
    "pycharm": {
     "name": "#%%\n"
    }
   }
  },
  {
   "cell_type": "markdown",
   "source": [
    "Rankings are assigned on tier basis. Within those tiers there is some variability <br>\n",
    "If the GPA is above 3.5 the student is in the top 90%\n",
    "If the GPA is above 3 but below 3.5 the student is in the top 80%"
   ],
   "metadata": {
    "collapsed": false,
    "pycharm": {
     "name": "#%% md\n"
    }
   }
  },
  {
   "cell_type": "code",
   "execution_count": null,
   "outputs": [],
   "source": [
    "def get_rankings(GPA):\n",
    "    \"\"\"This Function Randomizes rankings with weights\"\"\"\n",
    "    RANK = []\n",
    "    for grade in GPA:\n",
    "        if grade > 3.5:\n",
    "            RANK.append(round(random.uniform(.9, 1), 2))\n",
    "        elif grade > 3:\n",
    "            RANK.append(round(random.uniform(.8, .9), 2))\n",
    "        elif grade > 2.5:\n",
    "            RANK.append(round(random.uniform(.7, .8), 2))\n",
    "        elif grade > 2:\n",
    "            RANK.append(round(random.uniform(.6, .7), 2))\n",
    "        else:\n",
    "            RANK.append(round(random.uniform(0, .6), 2))\n",
    "    return RANK\n",
    "\n",
    "RANK = get_rankings(GPA)\n",
    "RANK_testing = get_rankings(GPA_testing)\n",
    "\n",
    "print(\"Rankings\", RANK)\n",
    "print(\"Ranking Testing\", RANK_testing)"
   ],
   "metadata": {
    "collapsed": false,
    "pycharm": {
     "name": "#%%\n"
    }
   }
  },
  {
   "cell_type": "code",
   "execution_count": 18,
   "outputs": [
    {
     "name": "stdout",
     "output_type": "stream",
     "text": [
      "Worked [1, 0, 1, 1, 0, 0, 1, 1, 0, 0, 1, 0]\n",
      "Worked Testing [1, 1, 1, 0, 0, 0, 0, 0, 0, 0, 0, 0]\n"
     ]
    }
   ],
   "source": [
    "# Setting up Random Work 0 did not work 1 did, Scaling it toward working have lower GPA\n",
    "def get_working(GPA):\n",
    "    \"\"\"Determining if they worked based off of GPA, with some randomness\"\"\"\n",
    "    WORKED = []\n",
    "    for num in enumerate(GPA):\n",
    "        if num[1] > 2:\n",
    "            rand_work = random.randint(0, 70)\n",
    "            if rand_work > 50:\n",
    "                WORKED.append(1)\n",
    "            else:\n",
    "                WORKED.append(0)\n",
    "        else:\n",
    "            if random.randint(30, 100) > 50:\n",
    "                WORKED.append(1)\n",
    "            else:\n",
    "                WORKED.append(0)\n",
    "    return  WORKED\n",
    "\n",
    "WORKED = get_working(GPA)\n",
    "WORKED_testing = get_working(GPA_testing)\n",
    "print(\"Worked\", WORKED)\n",
    "print(\"Worked Testing\", WORKED_testing)"
   ],
   "metadata": {
    "collapsed": false,
    "pycharm": {
     "name": "#%%\n"
    }
   }
  },
  {
   "cell_type": "code",
   "execution_count": 20,
   "outputs": [
    {
     "name": "stdout",
     "output_type": "stream",
     "text": [
      "List_o_list [[2.49, 0.68, 1], [1.8, 0.39, 0], [2.91, 0.74, 1], [1.73, 0.14, 1], [2.42, 0.63, 0], [3.91, 0.99, 0], [1.26, 0.42, 1], [1.95, 0.06, 1], [3.03, 0.89, 0], [1.26, 0.16, 0], [1.46, 0.42, 1], [3.48, 0.85, 0]]\n",
      "List_o_training [[3.94, 0.93, 1], [1.96, 0.13, 1], [1.57, 0.35, 1], [3.92, 0.94, 0], [1.99, 0.37, 0], [2.81, 0.77, 0], [2.82, 0.78, 0], [2.9, 0.79, 0], [3.75, 0.96, 0], [3.89, 1.0, 0], [3.08, 0.85, 0], [3.47, 0.89, 0]]\n"
     ]
    }
   ],
   "source": [
    "def compress_list(GPA, RANK, WORKED):\n",
    "    \"\"\"Compressing the lists\"\"\"\n",
    "    list_o_list = []\n",
    "    for num in range(len(GPA)):\n",
    "        list_o_list.append([GPA[num], RANK[num], WORKED[num]])\n",
    "    return list_o_list\n",
    "\n",
    "list_o_list = compress_list(GPA, RANK, WORKED)\n",
    "list_o_training = compress_list(GPA_testing, RANK_testing, WORKED_testing)\n",
    "print(\"List_o_list\", list_o_list)\n",
    "print(\"List_o_training\", list_o_training)"
   ],
   "metadata": {
    "collapsed": false,
    "pycharm": {
     "name": "#%%\n"
    }
   }
  },
  {
   "cell_type": "code",
   "execution_count": 22,
   "outputs": [
    {
     "name": "stdout",
     "output_type": "stream",
     "text": [
      "Graduate [1, 0, 1, 0, 1, 1, 0, 1, 1, 0, 0, 1]\n",
      "Graduate Training [1, 1, 0, 1, 0, 1, 1, 1, 1, 1, 1, 1]\n"
     ]
    }
   ],
   "source": [
    "def grad_in_6(list_o_list):\n",
    "    \"\"\"Creating a classifier if they graduate in 6 years \"\"\"\n",
    "    graduate = []\n",
    "    for person in enumerate(list_o_list):\n",
    "        if sum(person[1]) > 3:\n",
    "            graduate.append(1)\n",
    "        else:\n",
    "            graduate.append(0)\n",
    "    return graduate\n",
    "\n",
    "graduate = grad_in_6(list_o_list)\n",
    "graduate_training = grad_in_6(list_o_training)\n",
    "\n",
    "print('Graduate', graduate)\n",
    "print('Graduate Training', graduate_training)"
   ],
   "metadata": {
    "collapsed": false,
    "pycharm": {
     "name": "#%%\n"
    }
   }
  },
  {
   "cell_type": "code",
   "execution_count": null,
   "outputs": [],
   "source": [
    "\n",
    "\n",
    "\n",
    "\n",
    "\n",
    "# def create_tree(list_o_lists, graduate):\n",
    "#     \"\"\"This Function goes through and creates the decision tree\"\"\"\n",
    "#     # X = list_o_lists\n",
    "#     # Y = graduate\n",
    "#     # clf = tree.DecisionTreeClassifier()\n",
    "#     # clf = clf.fit(X,Y)\n",
    "#     # print(type(clf))\n",
    "#     # print(clf)\n",
    "#     Xnum = list_o_lists\n",
    "#     classifications = graduate\n",
    "#     clf2 = tree.DecisionTreeClassifier(criterion=\"entropy\")\n",
    "#     clf2 = clf2.fit(Xnum, classifications)\n",
    "#\n",
    "#     print(type(clf2))\n",
    "#     print(clf2)\n",
    "#     treeStruct = export_text(clf2)\n",
    "#     print(\"\\nNow printing export_text(clf2)\")\n",
    "#     print(treeStruct)\n",
    "#     foo = clf2.apply(Xnum)  # passing in full list of training tuples\n",
    "#     print(\"clf2.apply( Xnum ):\")\n",
    "#     print(foo)\n",
    "#     # now print out line by line as pair:  tuple, which leaf node\n",
    "#     print(\"\\nNow printing each tuple with the decision tree node it ends up in:\")\n",
    "#     for i in range(len(foo)):\n",
    "#         print(str(Xnum[i]) + \",\" + str(foo[i]))\n",
    "#\n",
    "#     # NOTE - adding in node_ids and class_names as options to make tree viz more robust\n",
    "#     dot_data = tree.export_graphviz(clf2, node_ids=\"true\",class_names=('not buy','yes buy'),out_file=None, filled=True, rounded=True, special_characters=True)\n",
    "#     graph = graphviz.Source(dot_data)\n",
    "\n"
   ],
   "metadata": {
    "collapsed": false,
    "pycharm": {
     "name": "#%%\n"
    }
   }
  }
 ],
 "metadata": {
  "kernelspec": {
   "display_name": "PyCharm (GITHUB_REPOSITORY)",
   "language": "python",
   "name": "pycharm-865e1948"
  },
  "language_info": {
   "codemirror_mode": {
    "name": "ipython",
    "version": 3
   },
   "file_extension": ".py",
   "mimetype": "text/x-python",
   "name": "python",
   "nbconvert_exporter": "python",
   "pygments_lexer": "ipython3",
   "version": "3.8.10"
  }
 },
 "nbformat": 4,
 "nbformat_minor": 1
}