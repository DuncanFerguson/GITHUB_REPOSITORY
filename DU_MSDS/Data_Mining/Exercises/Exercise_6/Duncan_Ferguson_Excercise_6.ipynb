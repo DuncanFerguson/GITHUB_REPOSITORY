{
 "cells": [
  {
   "cell_type": "markdown",
   "metadata": {
    "collapsed": true,
    "pycharm": {
     "name": "#%% md\n"
    }
   },
   "source": [
    "Student: Duncan Ferguson <br>\n",
    "Student Id: 871641260 <br>\n",
    "Class: Comp 4431-1 <br>\n",
    "Assignment: Exercise 6 <br>\n",
    "Date: 10/22/2021 <br>\n",
    "Group: Name: Broken Toe <br>\n",
    "Group Members: Emma Bright, Mike Santoro <br>"
   ]
  },
  {
   "cell_type": "markdown",
   "source": [
    "## Part 1\n",
    "\n",
    "For the decision tree in the book in example 8.2, during class I just showed how to calculate the root node Gain(A)\n",
    "values for A in {income,age,student,credit}.   Also found here: exercise6A_start.pdf Download exercise6A_start.pdf\n",
    "\n",
    "Hand calculate the Gain(A) values, for each of the 4 attributes, for the left  subtree split (i.e. for the tuples\n",
    "1,2,8,9 and 11 which are in the \"youth\" category after the first split."
   ],
   "metadata": {
    "collapsed": false,
    "pycharm": {
     "name": "#%% md\n"
    }
   }
  },
  {
   "cell_type": "code",
   "execution_count": 301,
   "outputs": [
    {
     "data": {
      "text/plain": "             Age  income student credit_rating Class: buys_computer\nRID                                                                \n1          youth    high      no          fair                   no\n2          youth    high      no     excellent                   no\n3    middle_aged    high      no          fair                  yes\n4         senior  medium      no          fair                  yes\n5         senior     low     yes          fair                  yes\n6         senior     low     yes     excellent                   no\n7    middle_aged     low     yes     excellent                  yes\n8          youth  medium      no          fair                   no\n9          youth     low     yes          fair                  yes\n10        senior  medium     yes          fair                  yes\n11         youth  medium     yes     excellent                  yes\n12   middle_aged  medium      no     excellent                  yes\n13   middle_aged    high     yes          fair                  yes\n14        senior  medium      no     excellent                   no",
      "text/html": "<div>\n<style scoped>\n    .dataframe tbody tr th:only-of-type {\n        vertical-align: middle;\n    }\n\n    .dataframe tbody tr th {\n        vertical-align: top;\n    }\n\n    .dataframe thead th {\n        text-align: right;\n    }\n</style>\n<table border=\"1\" class=\"dataframe\">\n  <thead>\n    <tr style=\"text-align: right;\">\n      <th></th>\n      <th>Age</th>\n      <th>income</th>\n      <th>student</th>\n      <th>credit_rating</th>\n      <th>Class: buys_computer</th>\n    </tr>\n    <tr>\n      <th>RID</th>\n      <th></th>\n      <th></th>\n      <th></th>\n      <th></th>\n      <th></th>\n    </tr>\n  </thead>\n  <tbody>\n    <tr>\n      <th>1</th>\n      <td>youth</td>\n      <td>high</td>\n      <td>no</td>\n      <td>fair</td>\n      <td>no</td>\n    </tr>\n    <tr>\n      <th>2</th>\n      <td>youth</td>\n      <td>high</td>\n      <td>no</td>\n      <td>excellent</td>\n      <td>no</td>\n    </tr>\n    <tr>\n      <th>3</th>\n      <td>middle_aged</td>\n      <td>high</td>\n      <td>no</td>\n      <td>fair</td>\n      <td>yes</td>\n    </tr>\n    <tr>\n      <th>4</th>\n      <td>senior</td>\n      <td>medium</td>\n      <td>no</td>\n      <td>fair</td>\n      <td>yes</td>\n    </tr>\n    <tr>\n      <th>5</th>\n      <td>senior</td>\n      <td>low</td>\n      <td>yes</td>\n      <td>fair</td>\n      <td>yes</td>\n    </tr>\n    <tr>\n      <th>6</th>\n      <td>senior</td>\n      <td>low</td>\n      <td>yes</td>\n      <td>excellent</td>\n      <td>no</td>\n    </tr>\n    <tr>\n      <th>7</th>\n      <td>middle_aged</td>\n      <td>low</td>\n      <td>yes</td>\n      <td>excellent</td>\n      <td>yes</td>\n    </tr>\n    <tr>\n      <th>8</th>\n      <td>youth</td>\n      <td>medium</td>\n      <td>no</td>\n      <td>fair</td>\n      <td>no</td>\n    </tr>\n    <tr>\n      <th>9</th>\n      <td>youth</td>\n      <td>low</td>\n      <td>yes</td>\n      <td>fair</td>\n      <td>yes</td>\n    </tr>\n    <tr>\n      <th>10</th>\n      <td>senior</td>\n      <td>medium</td>\n      <td>yes</td>\n      <td>fair</td>\n      <td>yes</td>\n    </tr>\n    <tr>\n      <th>11</th>\n      <td>youth</td>\n      <td>medium</td>\n      <td>yes</td>\n      <td>excellent</td>\n      <td>yes</td>\n    </tr>\n    <tr>\n      <th>12</th>\n      <td>middle_aged</td>\n      <td>medium</td>\n      <td>no</td>\n      <td>excellent</td>\n      <td>yes</td>\n    </tr>\n    <tr>\n      <th>13</th>\n      <td>middle_aged</td>\n      <td>high</td>\n      <td>yes</td>\n      <td>fair</td>\n      <td>yes</td>\n    </tr>\n    <tr>\n      <th>14</th>\n      <td>senior</td>\n      <td>medium</td>\n      <td>no</td>\n      <td>excellent</td>\n      <td>no</td>\n    </tr>\n  </tbody>\n</table>\n</div>"
     },
     "execution_count": 301,
     "metadata": {},
     "output_type": "execute_result"
    }
   ],
   "source": [
    "import math\n",
    "import pandas as pd\n",
    "\n",
    "columns = ['RID', 'Age', 'income', 'student', 'credit_rating', 'Class: buys_computer']\n",
    "data_info = [[1, 'youth', 'high', 'no', 'fair', 'no'],\n",
    "             [2, 'youth', 'high', 'no', 'excellent', 'no'],\n",
    "             [3, 'middle_aged', 'high', 'no', 'fair', 'yes'],\n",
    "             [4, 'senior', 'medium', 'no', 'fair', 'yes'],\n",
    "             [5, 'senior', 'low', 'yes', 'fair', 'yes'],\n",
    "             [6, 'senior', 'low', 'yes', 'excellent', 'no'],\n",
    "             [7, 'middle_aged', 'low', 'yes', 'excellent', 'yes'],\n",
    "             [8, 'youth', 'medium', 'no', 'fair', 'no'],\n",
    "             [9, 'youth', 'low', 'yes', 'fair', 'yes'],\n",
    "             [10, 'senior', 'medium', 'yes', 'fair', 'yes'],\n",
    "             [11, 'youth', 'medium', 'yes', 'excellent', 'yes'],\n",
    "             [12, 'middle_aged', 'medium', 'no', 'excellent', 'yes'],\n",
    "             [13, 'middle_aged', 'high', 'yes', 'fair', 'yes'],\n",
    "             [14, 'senior', 'medium', 'no', 'excellent', 'no']]\n",
    "\n",
    "df = pd.DataFrame(data_info, columns=columns)\n",
    "df = df.set_index(\"RID\")\n",
    "df"
   ],
   "metadata": {
    "collapsed": false,
    "pycharm": {
     "name": "#%%\n"
    }
   }
  },
  {
   "cell_type": "code",
   "execution_count": 302,
   "outputs": [
    {
     "data": {
      "text/plain": "       Age  income student credit_rating Class: buys_computer\nRID                                                          \n1    youth    high      no          fair                   no\n2    youth    high      no     excellent                   no\n8    youth  medium      no          fair                   no\n9    youth     low     yes          fair                  yes\n11   youth  medium     yes     excellent                  yes",
      "text/html": "<div>\n<style scoped>\n    .dataframe tbody tr th:only-of-type {\n        vertical-align: middle;\n    }\n\n    .dataframe tbody tr th {\n        vertical-align: top;\n    }\n\n    .dataframe thead th {\n        text-align: right;\n    }\n</style>\n<table border=\"1\" class=\"dataframe\">\n  <thead>\n    <tr style=\"text-align: right;\">\n      <th></th>\n      <th>Age</th>\n      <th>income</th>\n      <th>student</th>\n      <th>credit_rating</th>\n      <th>Class: buys_computer</th>\n    </tr>\n    <tr>\n      <th>RID</th>\n      <th></th>\n      <th></th>\n      <th></th>\n      <th></th>\n      <th></th>\n    </tr>\n  </thead>\n  <tbody>\n    <tr>\n      <th>1</th>\n      <td>youth</td>\n      <td>high</td>\n      <td>no</td>\n      <td>fair</td>\n      <td>no</td>\n    </tr>\n    <tr>\n      <th>2</th>\n      <td>youth</td>\n      <td>high</td>\n      <td>no</td>\n      <td>excellent</td>\n      <td>no</td>\n    </tr>\n    <tr>\n      <th>8</th>\n      <td>youth</td>\n      <td>medium</td>\n      <td>no</td>\n      <td>fair</td>\n      <td>no</td>\n    </tr>\n    <tr>\n      <th>9</th>\n      <td>youth</td>\n      <td>low</td>\n      <td>yes</td>\n      <td>fair</td>\n      <td>yes</td>\n    </tr>\n    <tr>\n      <th>11</th>\n      <td>youth</td>\n      <td>medium</td>\n      <td>yes</td>\n      <td>excellent</td>\n      <td>yes</td>\n    </tr>\n  </tbody>\n</table>\n</div>"
     },
     "execution_count": 302,
     "metadata": {},
     "output_type": "execute_result"
    }
   ],
   "source": [
    "subset = df[df[\"Age\"] ==\"youth\"]\n",
    "subset"
   ],
   "metadata": {
    "collapsed": false,
    "pycharm": {
     "name": "#%%\n"
    }
   }
  },
  {
   "cell_type": "markdown",
   "source": [
    "$$Info(D) = -\\sum_{i=1}^{m} p_ilog_2{p_i}$$ <br>\n",
    "$$Info_{A}(D)= \\sum_{j=1}^{v} \\frac{|D_j|}{|D|} \\times Info(D_j)$$ <br>\n",
    "$$Info(D)=-[\\frac{2}{5}log_2(\\frac{2}{5})] - [\\frac{3}{5}log_2(\\frac{3}{5})] = 0.9709506$$<br>\n",
    "$$Gain(A)=Info(D)-Info_{A}(D)$$ <br>"
   ],
   "metadata": {
    "collapsed": false,
    "pycharm": {
     "name": "#%% md\n"
    }
   }
  },
  {
   "cell_type": "code",
   "execution_count": 303,
   "outputs": [
    {
     "data": {
      "text/plain": "0.9709505944546686"
     },
     "execution_count": 303,
     "metadata": {},
     "output_type": "execute_result"
    }
   ],
   "source": [
    "Info_i_D = -((2/5)*math.log(2/5,2))-((3/5)*math.log(3/5,2))\n",
    "Info_i_D"
   ],
   "metadata": {
    "collapsed": false,
    "pycharm": {
     "name": "#%%\n"
    }
   }
  },
  {
   "cell_type": "markdown",
   "source": [
    "### Computation of gain ratio for the <i><u>Credit attribute"
   ],
   "metadata": {
    "collapsed": false,
    "pycharm": {
     "name": "#%% md\n"
    }
   }
  },
  {
   "cell_type": "code",
   "execution_count": 304,
   "outputs": [
    {
     "data": {
      "text/plain": "       Age  income student credit_rating Class: buys_computer\nRID                                                          \n2    youth    high      no     excellent                   no\n11   youth  medium     yes     excellent                  yes",
      "text/html": "<div>\n<style scoped>\n    .dataframe tbody tr th:only-of-type {\n        vertical-align: middle;\n    }\n\n    .dataframe tbody tr th {\n        vertical-align: top;\n    }\n\n    .dataframe thead th {\n        text-align: right;\n    }\n</style>\n<table border=\"1\" class=\"dataframe\">\n  <thead>\n    <tr style=\"text-align: right;\">\n      <th></th>\n      <th>Age</th>\n      <th>income</th>\n      <th>student</th>\n      <th>credit_rating</th>\n      <th>Class: buys_computer</th>\n    </tr>\n    <tr>\n      <th>RID</th>\n      <th></th>\n      <th></th>\n      <th></th>\n      <th></th>\n      <th></th>\n    </tr>\n  </thead>\n  <tbody>\n    <tr>\n      <th>2</th>\n      <td>youth</td>\n      <td>high</td>\n      <td>no</td>\n      <td>excellent</td>\n      <td>no</td>\n    </tr>\n    <tr>\n      <th>11</th>\n      <td>youth</td>\n      <td>medium</td>\n      <td>yes</td>\n      <td>excellent</td>\n      <td>yes</td>\n    </tr>\n  </tbody>\n</table>\n</div>"
     },
     "execution_count": 304,
     "metadata": {},
     "output_type": "execute_result"
    }
   ],
   "source": [
    "subset_credit_e = subset[subset['credit_rating'] ==\"excellent\"]\n",
    "subset_credit_e"
   ],
   "metadata": {
    "collapsed": false,
    "pycharm": {
     "name": "#%%\n"
    }
   }
  },
  {
   "cell_type": "code",
   "execution_count": 305,
   "outputs": [
    {
     "data": {
      "text/plain": "       Age  income student credit_rating Class: buys_computer\nRID                                                          \n1    youth    high      no          fair                   no\n8    youth  medium      no          fair                   no\n9    youth     low     yes          fair                  yes",
      "text/html": "<div>\n<style scoped>\n    .dataframe tbody tr th:only-of-type {\n        vertical-align: middle;\n    }\n\n    .dataframe tbody tr th {\n        vertical-align: top;\n    }\n\n    .dataframe thead th {\n        text-align: right;\n    }\n</style>\n<table border=\"1\" class=\"dataframe\">\n  <thead>\n    <tr style=\"text-align: right;\">\n      <th></th>\n      <th>Age</th>\n      <th>income</th>\n      <th>student</th>\n      <th>credit_rating</th>\n      <th>Class: buys_computer</th>\n    </tr>\n    <tr>\n      <th>RID</th>\n      <th></th>\n      <th></th>\n      <th></th>\n      <th></th>\n      <th></th>\n    </tr>\n  </thead>\n  <tbody>\n    <tr>\n      <th>1</th>\n      <td>youth</td>\n      <td>high</td>\n      <td>no</td>\n      <td>fair</td>\n      <td>no</td>\n    </tr>\n    <tr>\n      <th>8</th>\n      <td>youth</td>\n      <td>medium</td>\n      <td>no</td>\n      <td>fair</td>\n      <td>no</td>\n    </tr>\n    <tr>\n      <th>9</th>\n      <td>youth</td>\n      <td>low</td>\n      <td>yes</td>\n      <td>fair</td>\n      <td>yes</td>\n    </tr>\n  </tbody>\n</table>\n</div>"
     },
     "execution_count": 305,
     "metadata": {},
     "output_type": "execute_result"
    }
   ],
   "source": [
    "subset_credit_f = subset[subset['credit_rating'] ==\"fair\"]\n",
    "subset_credit_f\n"
   ],
   "metadata": {
    "collapsed": false,
    "pycharm": {
     "name": "#%%\n"
    }
   }
  },
  {
   "cell_type": "markdown",
   "source": [
    "$$Info_{Credit}(D) =\\frac{2}{5} Info_{Credit=Excellent} + \\frac{3}{5}Info_{Credit=Fair} = 0.9509775$$ <br>\n",
    "$$Info_{Credit=Excelent} = -\\frac{1}{2}log_2(\\frac{1}{2})-\\frac{1}{2}log_2(\\frac{1}{2}) = 1 $$ <br>\n",
    "$$Info_{Credit=Fair} = -\\frac{1}{3}log_2(\\frac{1}{3})-\\frac{2}{3}log_2(\\frac{2}{3}) = 0.9182958$$ <br>\n",
    "$$Info_{Credit}(D) =\\frac{2}{5}[-\\frac{1}{2}log_2(\\frac{1}{2})-\\frac{1}{2}log_2(\\frac{1}{2})] + \\frac{3}{5}[-\\frac{1}{3}log_2(\\frac{1}{3})-\\frac{2}{3}log_2(\\frac{2}{3})] = 0.9509775$$ <br>\n",
    "$$Gain(Credit\\ Rating) = Info(D)- Info_{income}(D) = 0.01997309$$\n",
    "$$Gain(Credit\\ Rating) = 0.9709506 - 0.9509775 = 0.01997309$$"
   ],
   "metadata": {
    "collapsed": false,
    "pycharm": {
     "name": "#%% md\n"
    }
   }
  },
  {
   "cell_type": "code",
   "execution_count": 306,
   "outputs": [
    {
     "data": {
      "text/plain": "0.9182958340544896"
     },
     "execution_count": 306,
     "metadata": {},
     "output_type": "execute_result"
    }
   ],
   "source": [
    "Info_Credit_Fair = -((1/3)*math.log(1/3,2))-((2/3)*math.log(2/3,2))\n",
    "Info_Credit_Fair"
   ],
   "metadata": {
    "collapsed": false,
    "pycharm": {
     "name": "#%%\n"
    }
   }
  },
  {
   "cell_type": "code",
   "execution_count": 307,
   "outputs": [
    {
     "data": {
      "text/plain": "1.0"
     },
     "execution_count": 307,
     "metadata": {},
     "output_type": "execute_result"
    }
   ],
   "source": [
    "Info_Credit_Excellent = -((1/2)*math.log(1/2,2))-((1/2)*math.log(1/2,2))\n",
    "Info_Credit_Excellent"
   ],
   "metadata": {
    "collapsed": false,
    "pycharm": {
     "name": "#%%\n"
    }
   }
  },
  {
   "cell_type": "code",
   "execution_count": 308,
   "outputs": [
    {
     "data": {
      "text/plain": "0.9509775004326937"
     },
     "execution_count": 308,
     "metadata": {},
     "output_type": "execute_result"
    }
   ],
   "source": [
    "Info_Credit = ((2/5)*Info_Credit_Excellent) + ((3/5)*Info_Credit_Fair)\n",
    "Info_Credit"
   ],
   "metadata": {
    "collapsed": false,
    "pycharm": {
     "name": "#%%\n"
    }
   }
  },
  {
   "cell_type": "code",
   "execution_count": 309,
   "outputs": [
    {
     "data": {
      "text/plain": "0.01997309402197489"
     },
     "execution_count": 309,
     "metadata": {},
     "output_type": "execute_result"
    }
   ],
   "source": [
    "Gain_Credit = Info_i_D-Info_Credit\n",
    "Gain_Credit"
   ],
   "metadata": {
    "collapsed": false,
    "pycharm": {
     "name": "#%%\n"
    }
   }
  },
  {
   "cell_type": "markdown",
   "source": [
    "### Computation of gain ratio for the <i><u>Student attribute"
   ],
   "metadata": {
    "collapsed": false,
    "pycharm": {
     "name": "#%% md\n"
    }
   }
  },
  {
   "cell_type": "code",
   "execution_count": 310,
   "outputs": [
    {
     "data": {
      "text/plain": "       Age  income student credit_rating Class: buys_computer\nRID                                                          \n9    youth     low     yes          fair                  yes\n11   youth  medium     yes     excellent                  yes",
      "text/html": "<div>\n<style scoped>\n    .dataframe tbody tr th:only-of-type {\n        vertical-align: middle;\n    }\n\n    .dataframe tbody tr th {\n        vertical-align: top;\n    }\n\n    .dataframe thead th {\n        text-align: right;\n    }\n</style>\n<table border=\"1\" class=\"dataframe\">\n  <thead>\n    <tr style=\"text-align: right;\">\n      <th></th>\n      <th>Age</th>\n      <th>income</th>\n      <th>student</th>\n      <th>credit_rating</th>\n      <th>Class: buys_computer</th>\n    </tr>\n    <tr>\n      <th>RID</th>\n      <th></th>\n      <th></th>\n      <th></th>\n      <th></th>\n      <th></th>\n    </tr>\n  </thead>\n  <tbody>\n    <tr>\n      <th>9</th>\n      <td>youth</td>\n      <td>low</td>\n      <td>yes</td>\n      <td>fair</td>\n      <td>yes</td>\n    </tr>\n    <tr>\n      <th>11</th>\n      <td>youth</td>\n      <td>medium</td>\n      <td>yes</td>\n      <td>excellent</td>\n      <td>yes</td>\n    </tr>\n  </tbody>\n</table>\n</div>"
     },
     "execution_count": 310,
     "metadata": {},
     "output_type": "execute_result"
    }
   ],
   "source": [
    "subset_student_y = subset[subset[\"student\"] == \"yes\"]\n",
    "subset_student_y"
   ],
   "metadata": {
    "collapsed": false,
    "pycharm": {
     "name": "#%%\n"
    }
   }
  },
  {
   "cell_type": "code",
   "execution_count": 311,
   "outputs": [
    {
     "data": {
      "text/plain": "       Age  income student credit_rating Class: buys_computer\nRID                                                          \n1    youth    high      no          fair                   no\n2    youth    high      no     excellent                   no\n8    youth  medium      no          fair                   no",
      "text/html": "<div>\n<style scoped>\n    .dataframe tbody tr th:only-of-type {\n        vertical-align: middle;\n    }\n\n    .dataframe tbody tr th {\n        vertical-align: top;\n    }\n\n    .dataframe thead th {\n        text-align: right;\n    }\n</style>\n<table border=\"1\" class=\"dataframe\">\n  <thead>\n    <tr style=\"text-align: right;\">\n      <th></th>\n      <th>Age</th>\n      <th>income</th>\n      <th>student</th>\n      <th>credit_rating</th>\n      <th>Class: buys_computer</th>\n    </tr>\n    <tr>\n      <th>RID</th>\n      <th></th>\n      <th></th>\n      <th></th>\n      <th></th>\n      <th></th>\n    </tr>\n  </thead>\n  <tbody>\n    <tr>\n      <th>1</th>\n      <td>youth</td>\n      <td>high</td>\n      <td>no</td>\n      <td>fair</td>\n      <td>no</td>\n    </tr>\n    <tr>\n      <th>2</th>\n      <td>youth</td>\n      <td>high</td>\n      <td>no</td>\n      <td>excellent</td>\n      <td>no</td>\n    </tr>\n    <tr>\n      <th>8</th>\n      <td>youth</td>\n      <td>medium</td>\n      <td>no</td>\n      <td>fair</td>\n      <td>no</td>\n    </tr>\n  </tbody>\n</table>\n</div>"
     },
     "execution_count": 311,
     "metadata": {},
     "output_type": "execute_result"
    }
   ],
   "source": [
    "subset_student_n = subset[subset[\"student\"] == \"no\"]\n",
    "subset_student_n"
   ],
   "metadata": {
    "collapsed": false,
    "pycharm": {
     "name": "#%%\n"
    }
   }
  },
  {
   "cell_type": "markdown",
   "source": [
    "$$Info_{Student}(D) =\\frac{2}{5} Info_{Student=Yes} + \\frac{3}{5}Info_{Student=No} = 0$$ <br>\n",
    "$$Info_{Student=Yes} = -\\frac{2}{2}log_2(\\frac{2}{2})-\\frac{0}{2}log_2(\\frac{0}{2})= 0$$ <br>\n",
    "$$Info_{Student=No} = -\\frac{0}{3}log_2(\\frac{0}{3})-\\frac{3}{3}log_2(\\frac{3}{3})= 0$$ <br>\n",
    "$$Info_{Student}(D) =\\frac{2}{5}[-\\frac{2}{2}log_2(\\frac{2}{2})-\\frac{0}{2}log_2(\\frac{0}{2})] + \\frac{3}{5}[-\\frac{0}{3}log_2(\\frac{0}{3})-\\frac{3}{3}log_2(\\frac{3}{3})] = 0$$ <br>\n",
    "$$Gain(Student) = Info(D)- Info_{Student}(D) = 0.9709506$$ <br>\n",
    "$$Gain(Student) = 0.9709506 - 0 = 0.9709506$$ <br>"
   ],
   "metadata": {
    "collapsed": false,
    "pycharm": {
     "name": "#%% md\n"
    }
   }
  },
  {
   "cell_type": "code",
   "execution_count": 312,
   "outputs": [
    {
     "data": {
      "text/plain": "0.9709505944546686"
     },
     "execution_count": 312,
     "metadata": {},
     "output_type": "execute_result"
    }
   ],
   "source": [
    "Info_Student = 0\n",
    "Gain_Student = Info_i_D - Info_Student\n",
    "Gain_Student"
   ],
   "metadata": {
    "collapsed": false,
    "pycharm": {
     "name": "#%%\n"
    }
   }
  },
  {
   "cell_type": "markdown",
   "source": [
    "### Computation of gain ratio for the <i><u>Income attribute\n"
   ],
   "metadata": {
    "collapsed": false,
    "pycharm": {
     "name": "#%% md\n"
    }
   }
  },
  {
   "cell_type": "code",
   "execution_count": 313,
   "outputs": [
    {
     "data": {
      "text/plain": "       Age income student credit_rating Class: buys_computer\nRID                                                         \n1    youth   high      no          fair                   no\n2    youth   high      no     excellent                   no",
      "text/html": "<div>\n<style scoped>\n    .dataframe tbody tr th:only-of-type {\n        vertical-align: middle;\n    }\n\n    .dataframe tbody tr th {\n        vertical-align: top;\n    }\n\n    .dataframe thead th {\n        text-align: right;\n    }\n</style>\n<table border=\"1\" class=\"dataframe\">\n  <thead>\n    <tr style=\"text-align: right;\">\n      <th></th>\n      <th>Age</th>\n      <th>income</th>\n      <th>student</th>\n      <th>credit_rating</th>\n      <th>Class: buys_computer</th>\n    </tr>\n    <tr>\n      <th>RID</th>\n      <th></th>\n      <th></th>\n      <th></th>\n      <th></th>\n      <th></th>\n    </tr>\n  </thead>\n  <tbody>\n    <tr>\n      <th>1</th>\n      <td>youth</td>\n      <td>high</td>\n      <td>no</td>\n      <td>fair</td>\n      <td>no</td>\n    </tr>\n    <tr>\n      <th>2</th>\n      <td>youth</td>\n      <td>high</td>\n      <td>no</td>\n      <td>excellent</td>\n      <td>no</td>\n    </tr>\n  </tbody>\n</table>\n</div>"
     },
     "execution_count": 313,
     "metadata": {},
     "output_type": "execute_result"
    }
   ],
   "source": [
    "subset_income_high = subset[subset[\"income\"] == \"high\"]\n",
    "subset_income_high"
   ],
   "metadata": {
    "collapsed": false,
    "pycharm": {
     "name": "#%%\n"
    }
   }
  },
  {
   "cell_type": "code",
   "execution_count": 314,
   "outputs": [
    {
     "data": {
      "text/plain": "       Age  income student credit_rating Class: buys_computer\nRID                                                          \n8    youth  medium      no          fair                   no\n11   youth  medium     yes     excellent                  yes",
      "text/html": "<div>\n<style scoped>\n    .dataframe tbody tr th:only-of-type {\n        vertical-align: middle;\n    }\n\n    .dataframe tbody tr th {\n        vertical-align: top;\n    }\n\n    .dataframe thead th {\n        text-align: right;\n    }\n</style>\n<table border=\"1\" class=\"dataframe\">\n  <thead>\n    <tr style=\"text-align: right;\">\n      <th></th>\n      <th>Age</th>\n      <th>income</th>\n      <th>student</th>\n      <th>credit_rating</th>\n      <th>Class: buys_computer</th>\n    </tr>\n    <tr>\n      <th>RID</th>\n      <th></th>\n      <th></th>\n      <th></th>\n      <th></th>\n      <th></th>\n    </tr>\n  </thead>\n  <tbody>\n    <tr>\n      <th>8</th>\n      <td>youth</td>\n      <td>medium</td>\n      <td>no</td>\n      <td>fair</td>\n      <td>no</td>\n    </tr>\n    <tr>\n      <th>11</th>\n      <td>youth</td>\n      <td>medium</td>\n      <td>yes</td>\n      <td>excellent</td>\n      <td>yes</td>\n    </tr>\n  </tbody>\n</table>\n</div>"
     },
     "execution_count": 314,
     "metadata": {},
     "output_type": "execute_result"
    }
   ],
   "source": [
    "subset_income_medium = subset[subset[\"income\"] == \"medium\"]\n",
    "subset_income_medium"
   ],
   "metadata": {
    "collapsed": false,
    "pycharm": {
     "name": "#%%\n"
    }
   }
  },
  {
   "cell_type": "code",
   "execution_count": 315,
   "outputs": [
    {
     "data": {
      "text/plain": "       Age income student credit_rating Class: buys_computer\nRID                                                         \n9    youth    low     yes          fair                  yes",
      "text/html": "<div>\n<style scoped>\n    .dataframe tbody tr th:only-of-type {\n        vertical-align: middle;\n    }\n\n    .dataframe tbody tr th {\n        vertical-align: top;\n    }\n\n    .dataframe thead th {\n        text-align: right;\n    }\n</style>\n<table border=\"1\" class=\"dataframe\">\n  <thead>\n    <tr style=\"text-align: right;\">\n      <th></th>\n      <th>Age</th>\n      <th>income</th>\n      <th>student</th>\n      <th>credit_rating</th>\n      <th>Class: buys_computer</th>\n    </tr>\n    <tr>\n      <th>RID</th>\n      <th></th>\n      <th></th>\n      <th></th>\n      <th></th>\n      <th></th>\n    </tr>\n  </thead>\n  <tbody>\n    <tr>\n      <th>9</th>\n      <td>youth</td>\n      <td>low</td>\n      <td>yes</td>\n      <td>fair</td>\n      <td>yes</td>\n    </tr>\n  </tbody>\n</table>\n</div>"
     },
     "execution_count": 315,
     "metadata": {},
     "output_type": "execute_result"
    }
   ],
   "source": [
    "subset_income_low = subset[subset[\"income\"] == \"low\"]\n",
    "subset_income_low"
   ],
   "metadata": {
    "collapsed": false,
    "pycharm": {
     "name": "#%%\n"
    }
   }
  },
  {
   "cell_type": "markdown",
   "source": [
    "$$Info_{Income}(D) =\\frac{1}{5} Info_{Income=Low} + \\frac{2}{5}Info_{Income=Medium} + \\frac{2}{5}Info_{Income=High} = .4 $$ <br>\n",
    "$$Info_{Income=Low} = -\\frac{1}{1}log_2(\\frac{1}{1}) -\\frac{0}{1}log_2(\\frac{0}{1}) = 0 $$ <br>\n",
    "$$Info_{Income=Medium} = -\\frac{1}{2}log_2(\\frac{1}{2}) -\\frac{1}{2}log_2(\\frac{1}{2}) = 1 $$ <br>\n",
    "$$Info_{Income=High} = -\\frac{0}{2}log_2(\\frac{0}{2}) -\\frac{2}{2}log_2(\\frac{2}{2}) = 0$$ <br>\n",
    "$$Info_{Income}(D) =\\frac{1}{5}[-\\frac{1}{1}log_2(\\frac{1}{1}) -\\frac{0}{1}log_2(\\frac{0}{1})] + $$ <br>\n",
    "$$\\frac{2}{5}[-\\frac{1}{2}log_2(\\frac{1}{2}) -\\frac{1}{2}log_2(\\frac{1}{2})] + $$ <br>\n",
    "$$\\frac{2}{5}[-\\frac{0}{2}log_2(\\frac{0}{2}) -\\frac{2}{2}log_2(\\frac{2}{2})] = .4 $$ <br>\n",
    "$$Gain(Income) = Info(D)- Info_{Income}(D) =  0.5709506$$ <br>\n",
    "$$Gain(Income) = 0.9709506 - .4 =  0.5709506$$ <br>"
   ],
   "metadata": {
    "collapsed": false,
    "pycharm": {
     "name": "#%% md\n"
    }
   }
  },
  {
   "cell_type": "code",
   "execution_count": 316,
   "outputs": [
    {
     "data": {
      "text/plain": "1.0"
     },
     "execution_count": 316,
     "metadata": {},
     "output_type": "execute_result"
    }
   ],
   "source": [
    "Info_Income_Low = 0\n",
    "Info_Income_High = 0\n",
    "Info_Income_Medium = -((1/2)*math.log(1/2,2))-((1/2)*math.log(1/2,2))\n",
    "Info_Income_Medium"
   ],
   "metadata": {
    "collapsed": false,
    "pycharm": {
     "name": "#%%\n"
    }
   }
  },
  {
   "cell_type": "code",
   "execution_count": 317,
   "outputs": [
    {
     "data": {
      "text/plain": "0.4"
     },
     "execution_count": 317,
     "metadata": {},
     "output_type": "execute_result"
    }
   ],
   "source": [
    "Info_Income = ((1/5)*Info_Income_Low) + ((2/5)*Info_Income_Medium) + ((2/5)*Info_Income_High)\n",
    "Info_Income"
   ],
   "metadata": {
    "collapsed": false,
    "pycharm": {
     "name": "#%%\n"
    }
   }
  },
  {
   "cell_type": "code",
   "execution_count": 318,
   "outputs": [
    {
     "data": {
      "text/plain": "0.5709505944546686"
     },
     "execution_count": 318,
     "metadata": {},
     "output_type": "execute_result"
    }
   ],
   "source": [
    "Gain_Income = Info_i_D - Info_Income\n",
    "Gain_Income"
   ],
   "metadata": {
    "collapsed": false,
    "pycharm": {
     "name": "#%%\n"
    }
   }
  },
  {
   "cell_type": "markdown",
   "source": [
    "## Comparing all of the Gain's together <br>\n",
    "$$Gain(Student) = 0.9709506 - 0 = 0.9709506$$ <br>\n",
    "$$Gain(Income) = 0.9709506 - .4 =  0.5709506$$ <br>\n",
    "$$Gain(Credit\\ Rating) = 0.9709506 - 0.9509775 = 0.01997309$$ <br>\n",
    "<br>\n",
    "These are all of the subtree splits on the left of the tree in which is under \"youth\"\n",
    "The next split that we will want to make is off of student as it has the highest gain value"
   ],
   "metadata": {
    "collapsed": false,
    "pycharm": {
     "name": "#%% md\n"
    }
   }
  },
  {
   "cell_type": "markdown",
   "source": [
    "## Part 2\n",
    "You are to create a set of 8..12 training tuples, including the classification of each, and then run through sklearn to\n",
    " build a decision and print out the resultant decision tree.  You should craft your tuples and classification array such\n",
    "  that the decision tree has at least 3 levels (including the root) and explain which tuples end up in which leaf level\n",
    "   node.  Feel free to draw a picture or use the graph viewer if you prefer. <br><br>\n",
    "The problem is to classify college student applicants based on likelihood of finishing in 6 years as \"yes\" or \"no\".\n",
    "Assume a tuple has the following information: <br>\n",
    "\n",
    "[GPA, RANK, WORKED]\n",
    "where: GPA = high school grade point average\n",
    "\n",
    "RANK = rank in class expressed as a decimal percentile (e.g. 0.99 means top 99%)\n",
    "\n",
    "WORKED =  { 0 , 1} where 0 means did not work a job in HS, 1 means did\n",
    "\n",
    "For example:\n",
    "\n",
    "[3.4,0.85,1] means an applicant has a 3.4 gpa, was in the top 85 percentile, and worked while in high school."
   ],
   "metadata": {
    "collapsed": false,
    "pycharm": {
     "name": "#%% md\n"
    }
   }
  },
  {
   "cell_type": "code",
   "execution_count": 319,
   "outputs": [],
   "source": [
    "# Importing Libraries\n",
    "\n",
    "import pandas as pd\n",
    "import random\n",
    "import numpy as np\n",
    "import graphviz\n",
    "from sklearn import tree\n",
    "from sklearn.tree import export_text\n",
    "from sklearn.tree import export_graphviz\n",
    "from sklearn import metrics"
   ],
   "metadata": {
    "collapsed": false,
    "pycharm": {
     "name": "#%%\n"
    }
   }
  },
  {
   "cell_type": "markdown",
   "source": [
    "### Setting Up Random Data to have biases\n",
    "GPA's are assigned randomly in between a scale of 1 and 4"
   ],
   "metadata": {
    "collapsed": false,
    "pycharm": {
     "name": "#%% md\n"
    }
   }
  },
  {
   "cell_type": "code",
   "execution_count": 320,
   "outputs": [
    {
     "name": "stdout",
     "output_type": "stream",
     "text": [
      "GPA's [2.08, 2.44, 2.25, 2.34, 2.23, 2.97, 1.78, 2.9, 1.03, 1.91, 2.01, 1.43] ; 12\n",
      "GPA's Testing [3.23, 1.93, 3.37, 3.87, 1.76, 3.68, 3.42, 3.0, 1.08, 2.37, 2.88, 1.89] ; 12\n"
     ]
    }
   ],
   "source": [
    "# Setting Random Seed\n",
    "random.seed(16)\n",
    "\n",
    "# Creating a list of 12 Random GPAS\n",
    "GPA = [round(random.uniform(1, 4), 2) for _ in range(12)]  # Creating List of Random GPA\n",
    "GPA_testing = [round(random.uniform(1, 4), 2) for _ in range(12)]\n",
    "print(\"GPA's\", GPA, \";\", len(GPA))\n",
    "print(\"GPA's Testing\", GPA_testing, \";\", len(GPA_testing))"
   ],
   "metadata": {
    "collapsed": false,
    "pycharm": {
     "name": "#%%\n"
    }
   }
  },
  {
   "cell_type": "markdown",
   "source": [
    "Rankings are assigned on tier basis. Within those tiers there is some variability <br>\n",
    "-If the GPA is above 3.5 the student is in the top 90-100% <br>\n",
    "-If the GPA is above 3.0 but below 3.5 the student is in the top 80-90% <br>\n",
    "-If the GPA is above 2.5 but below 3 the student is in the top 70-80% <br>\n",
    "-If the GPA is above 2.0 but below 2.5 the student is in the top 60-70% <br>\n",
    "-If the GPA is below 2.0 the student is in the bottom 0-60% <br>"
   ],
   "metadata": {
    "collapsed": false,
    "pycharm": {
     "name": "#%% md\n"
    }
   }
  },
  {
   "cell_type": "code",
   "execution_count": 321,
   "outputs": [
    {
     "name": "stdout",
     "output_type": "stream",
     "text": [
      "Rankings [0.62, 0.63, 0.63, 0.68, 0.63, 0.74, 0.39, 0.79, 0.18, 0.03, 0.7, 0.5]\n",
      "Ranking Testing [0.88, 0.31, 0.82, 0.92, 0.18, 0.95, 0.81, 0.77, 0.44, 0.6, 0.78, 0.29]\n"
     ]
    }
   ],
   "source": [
    "def get_rankings(GPA):\n",
    "    \"\"\"This Function Randomizes rankings with weights\"\"\"\n",
    "    RANK = []\n",
    "    for grade in GPA:\n",
    "        if grade > 3.5:\n",
    "            RANK.append(round(random.uniform(.9, 1), 2))\n",
    "        elif grade > 3:\n",
    "            RANK.append(round(random.uniform(.8, .9), 2))\n",
    "        elif grade > 2.5:\n",
    "            RANK.append(round(random.uniform(.7, .8), 2))\n",
    "        elif grade > 2:\n",
    "            RANK.append(round(random.uniform(.6, .7), 2))\n",
    "        else:\n",
    "            RANK.append(round(random.uniform(0, .6), 2))\n",
    "    return RANK\n",
    "\n",
    "RANK = get_rankings(GPA)\n",
    "RANK_testing = get_rankings(GPA_testing)\n",
    "\n",
    "print(\"Rankings\", RANK)\n",
    "print(\"Ranking Testing\", RANK_testing)"
   ],
   "metadata": {
    "collapsed": false,
    "pycharm": {
     "name": "#%%\n"
    }
   }
  },
  {
   "cell_type": "markdown",
   "source": [
    "For assigning working values. 1 indicates that the student did work, 0 indicates the student did not. <br>\n",
    "-If the students GPA is above 2.0, there is a random 0-60 value assigned. If that value is above 50 they did work. (1) <br>\n",
    "-If the students GPA is below 2.0, there is a random 30-100 value assigned. If that value is above 50 they did work. (1)"
   ],
   "metadata": {
    "collapsed": false,
    "pycharm": {
     "name": "#%% md\n"
    }
   }
  },
  {
   "cell_type": "code",
   "execution_count": 322,
   "outputs": [
    {
     "name": "stdout",
     "output_type": "stream",
     "text": [
      "Worked [1, 1, 0, 0, 0, 0, 1, 1, 0, 1, 0, 0]\n",
      "Worked Testing [0, 1, 1, 0, 1, 0, 0, 0, 1, 0, 0, 1]\n"
     ]
    }
   ],
   "source": [
    "# Setting up Random Work 0 did not work 1 did, Scaling it toward working have lower GPA\n",
    "def get_working(GPA):\n",
    "    \"\"\"Determining if they worked based off of GPA, with some randomness\"\"\"\n",
    "    WORKED = []\n",
    "    for num in enumerate(GPA):\n",
    "        if num[1] > 2:\n",
    "            rand_work = random.randint(0, 60)\n",
    "            if rand_work > 50:\n",
    "                WORKED.append(1)\n",
    "            else:\n",
    "                WORKED.append(0)\n",
    "        else:\n",
    "            if random.randint(30, 100) > 50:\n",
    "                WORKED.append(1)\n",
    "            else:\n",
    "                WORKED.append(0)\n",
    "    return  WORKED\n",
    "\n",
    "WORKED = get_working(GPA)\n",
    "WORKED_testing = get_working(GPA_testing)\n",
    "print(\"Worked\", WORKED)\n",
    "print(\"Worked Testing\", WORKED_testing)"
   ],
   "metadata": {
    "collapsed": false,
    "pycharm": {
     "name": "#%%\n"
    }
   }
  },
  {
   "cell_type": "markdown",
   "source": [
    "Compressing the GPA, RANKING and WORKED into a list"
   ],
   "metadata": {
    "collapsed": false,
    "pycharm": {
     "name": "#%% md\n"
    }
   }
  },
  {
   "cell_type": "code",
   "execution_count": 323,
   "outputs": [
    {
     "name": "stdout",
     "output_type": "stream",
     "text": [
      "List_o_list [[2.08, 0.62, 1], [2.44, 0.63, 1], [2.25, 0.63, 0], [2.34, 0.68, 0], [2.23, 0.63, 0], [2.97, 0.74, 0], [1.78, 0.39, 1], [2.9, 0.79, 1], [1.03, 0.18, 0], [1.91, 0.03, 1], [2.01, 0.7, 0], [1.43, 0.5, 0]]\n",
      "List_o_training [[3.23, 0.88, 0], [1.93, 0.31, 1], [3.37, 0.82, 1], [3.87, 0.92, 0], [1.76, 0.18, 1], [3.68, 0.95, 0], [3.42, 0.81, 0], [3.0, 0.77, 0], [1.08, 0.44, 1], [2.37, 0.6, 0], [2.88, 0.78, 0], [1.89, 0.29, 1]]\n"
     ]
    }
   ],
   "source": [
    "def compress_list(GPA, RANK, WORKED):\n",
    "    \"\"\"Compressing the lists\"\"\"\n",
    "    list_o_list = []\n",
    "    for num in range(len(GPA)):\n",
    "        list_o_list.append([GPA[num], RANK[num], WORKED[num]])\n",
    "    return list_o_list\n",
    "\n",
    "list_o_list = compress_list(GPA, RANK, WORKED)\n",
    "list_o_training = compress_list(GPA_testing, RANK_testing, WORKED_testing)\n",
    "print(\"List_o_list\", list_o_list)\n",
    "print(\"List_o_training\", list_o_training)"
   ],
   "metadata": {
    "collapsed": false,
    "pycharm": {
     "name": "#%%\n"
    }
   }
  },
  {
   "cell_type": "markdown",
   "source": [
    "Graduating in 6 years is based on the sum of GPA, RANK and WORKED. <br>\n",
    "If the sum of these three variables is above 3.5 They graduate with in 6 years <br>\n",
    "Graduate Training is made so that we can see how well our decision tree works"
   ],
   "metadata": {
    "collapsed": false,
    "pycharm": {
     "name": "#%% md\n"
    }
   }
  },
  {
   "cell_type": "code",
   "execution_count": 324,
   "outputs": [
    {
     "name": "stdout",
     "output_type": "stream",
     "text": [
      "Graduate [1, 1, 0, 0, 0, 1, 0, 1, 0, 0, 0, 0]\n",
      "Graduate Training [1, 0, 1, 1, 0, 1, 1, 1, 0, 0, 1, 0]\n"
     ]
    }
   ],
   "source": [
    "def grad_in_6(list_o_list):\n",
    "    \"\"\"Creating a classifier if they graduate in 6 years \"\"\"\n",
    "    graduate = []\n",
    "    for person in enumerate(list_o_list):\n",
    "        if sum(person[1]) > 3.5:\n",
    "            graduate.append(1)\n",
    "        else:\n",
    "            graduate.append(0)\n",
    "    return graduate\n",
    "\n",
    "graduate = grad_in_6(list_o_list)\n",
    "graduate_training = grad_in_6(list_o_training)\n",
    "\n",
    "print('Graduate', graduate)\n",
    "print('Graduate Training', graduate_training)"
   ],
   "metadata": {
    "collapsed": false,
    "pycharm": {
     "name": "#%%\n"
    }
   }
  },
  {
   "cell_type": "markdown",
   "source": [
    "## First Example\n",
    "Setting up a decision tree and looking at the predictions. Then comparing them to what they should be to analysize\n",
    "model accuracy"
   ],
   "metadata": {
    "collapsed": false,
    "pycharm": {
     "name": "#%% md\n"
    }
   }
  },
  {
   "cell_type": "code",
   "execution_count": 325,
   "outputs": [
    {
     "name": "stdout",
     "output_type": "stream",
     "text": [
      "<class 'sklearn.tree._classes.DecisionTreeClassifier'>\n",
      "DecisionTreeClassifier()\n",
      "output of classifying 3 new items (should be):  [1, 0, 1, 1, 0, 1, 1, 1, 0, 0, 1, 0]\n",
      "Printing out the prediction for graduating      [1, 0, 1, 1, 0, 1, 1, 1, 0, 0, 1, 0]\n"
     ]
    }
   ],
   "source": [
    "X = list_o_list\n",
    "Y = graduate\n",
    "labels = [\"GPA\", \"RANK\", \"WORKED\"]\n",
    "\n",
    "clf = tree.DecisionTreeClassifier()\n",
    "clf = clf.fit(X,Y)\n",
    "print(type(clf))\n",
    "print(clf)\n",
    "\n",
    "foo = clf.predict_proba(list_o_training)\n",
    "\n",
    "print(\"output of classifying 3 new items (should be): \", graduate_training)\n",
    "foo = pd.DataFrame(data=foo, columns=[\"Something\",\"Graduate\"])\n",
    "predict_graduating = foo[\"Graduate\"].to_list()\n",
    "predict_graduating = [int(i) for i in predict_graduating]\n",
    "print(\"Printing out the prediction for graduating     \",predict_graduating)"
   ],
   "metadata": {
    "collapsed": false,
    "pycharm": {
     "name": "#%%\n"
    }
   }
  },
  {
   "cell_type": "markdown",
   "source": [
    "## Second Example\n",
    "This example is looking at the prediction tree using entropy"
   ],
   "metadata": {
    "collapsed": false,
    "pycharm": {
     "name": "#%% md\n"
    }
   }
  },
  {
   "cell_type": "code",
   "execution_count": 326,
   "outputs": [
    {
     "name": "stdout",
     "output_type": "stream",
     "text": [
      "<class 'sklearn.tree._classes.DecisionTreeClassifier'>\n",
      "DecisionTreeClassifier(criterion='entropy')\n",
      "\n",
      "Now 'predicting class' of the first 6 elements of the training data.\n",
      "test data = [[3.23, 0.88, 0], [1.93, 0.31, 1], [3.37, 0.82, 1], [3.87, 0.92, 0], [1.76, 0.18, 1], [3.68, 0.95, 0], [3.42, 0.81, 0], [3.0, 0.77, 0], [1.08, 0.44, 1], [2.37, 0.6, 0], [2.88, 0.78, 0], [1.89, 0.29, 1]]\n",
      "data are classified as:\n",
      "[[0. 1.]\n",
      " [1. 0.]\n",
      " [0. 1.]\n",
      " [0. 1.]\n",
      " [1. 0.]\n",
      " [0. 1.]\n",
      " [0. 1.]\n",
      " [0. 1.]\n",
      " [1. 0.]\n",
      " [1. 0.]\n",
      " [0. 1.]\n",
      " [1. 0.]]\n",
      "Printing out the prediction for graduating      [1, 0, 1, 1, 0, 1, 1, 1, 0, 0, 1, 0]\n",
      "output of classifying 3 new items (should be):  [1, 0, 1, 1, 0, 1, 1, 1, 0, 0, 1, 0]\n",
      "\n",
      "Now printing export_text(clf2)\n",
      "|--- feature_0 <= 2.39\n",
      "|   |--- feature_2 <= 0.50\n",
      "|   |   |--- class: 0\n",
      "|   |--- feature_2 >  0.50\n",
      "|   |   |--- feature_0 <= 1.99\n",
      "|   |   |   |--- class: 0\n",
      "|   |   |--- feature_0 >  1.99\n",
      "|   |   |   |--- class: 1\n",
      "|--- feature_0 >  2.39\n",
      "|   |--- class: 1\n",
      "\n"
     ]
    }
   ],
   "source": [
    "Xnum = list_o_list\n",
    "classifications = graduate\n",
    "clf2 = tree.DecisionTreeClassifier(criterion=\"entropy\")\n",
    "clf2 = clf2.fit(Xnum,classifications)\n",
    "print(type(clf2))\n",
    "print(clf2)\n",
    "\n",
    "print(\"\\nNow 'predicting class' of the first 6 elements of the training data.\")\n",
    "testData = list_o_training\n",
    "foo = clf2.predict_proba( testData )\n",
    "print(\"test data = \" + str(testData))\n",
    "print(\"data are classified as:\")\n",
    "print(foo)\n",
    "\n",
    "# Turning Foo into a list so that it can be compared\n",
    "foo = pd.DataFrame(data=foo, columns=[\"Something\",\"Graduate\"])\n",
    "predict_graduating = foo[\"Graduate\"].to_list()\n",
    "predict_graduating = [int(i) for i in predict_graduating]\n",
    "\n",
    "print(\"Printing out the prediction for graduating     \",predict_graduating)\n",
    "print(\"output of classifying 3 new items (should be): \", graduate_training)\n",
    "\n",
    "treeStruct = export_text(clf2)\n",
    "print(\"\\nNow printing export_text(clf2)\")\n",
    "print(treeStruct)"
   ],
   "metadata": {
    "collapsed": false,
    "pycharm": {
     "name": "#%%\n"
    }
   }
  },
  {
   "cell_type": "code",
   "source": [
    "# Code to look at the tuples within the decision tree and printing out the decision tree\n",
    "foo = clf2.apply( Xnum )   # passing in full list of training tuples\n",
    "print(\"clf2.apply( Xnum ):\")\n",
    "print(foo)\n",
    "# now print out line by line as pair:  tuple, which leaf node\n",
    "print(\"\\nNow printing each tuple with the decision tree node it ends up in:\")\n",
    "for i in range(len(foo)):\n",
    "    print(str(Xnum[i]) + \",\" + str(foo[i]))\n",
    "\n",
    "# NOTE - adding in node_ids and class_names as options to make tree viz more robust\n",
    "dot_data = tree.export_graphviz(clf2, node_ids=\"true\",\n",
    "                                feature_names=labels,\n",
    "                                class_names=('No_Did_Not_Graduate','Yes_Graduated'),\n",
    "                                out_file=None,\n",
    "                                filled=True,\n",
    "                                rounded=True,\n",
    "                                special_characters=True)\n",
    "graph = graphviz.Source(dot_data)\n",
    "\n",
    "graph"
   ],
   "metadata": {
    "collapsed": false,
    "pycharm": {
     "name": "#%%\n"
    }
   },
   "execution_count": 327,
   "outputs": [
    {
     "name": "stdout",
     "output_type": "stream",
     "text": [
      "clf2.apply( Xnum ):\n",
      "[5 6 2 2 2 6 4 6 2 4 2 2]\n",
      "\n",
      "Now printing each tuple with the decision tree node it ends up in:\n",
      "[2.08, 0.62, 1],5\n",
      "[2.44, 0.63, 1],6\n",
      "[2.25, 0.63, 0],2\n",
      "[2.34, 0.68, 0],2\n",
      "[2.23, 0.63, 0],2\n",
      "[2.97, 0.74, 0],6\n",
      "[1.78, 0.39, 1],4\n",
      "[2.9, 0.79, 1],6\n",
      "[1.03, 0.18, 0],2\n",
      "[1.91, 0.03, 1],4\n",
      "[2.01, 0.7, 0],2\n",
      "[1.43, 0.5, 0],2\n"
     ]
    },
    {
     "data": {
      "text/plain": "<graphviz.files.Source at 0x19daf79dfa0>",
      "image/svg+xml": "<?xml version=\"1.0\" encoding=\"UTF-8\" standalone=\"no\"?>\r\n<!DOCTYPE svg PUBLIC \"-//W3C//DTD SVG 1.1//EN\"\r\n \"http://www.w3.org/Graphics/SVG/1.1/DTD/svg11.dtd\">\r\n<!-- Generated by graphviz version 2.49.2 (20211016.1639)\r\n -->\r\n<!-- Title: Tree Pages: 1 -->\r\n<svg width=\"527pt\" height=\"493pt\"\r\n viewBox=\"0.00 0.00 526.50 493.00\" xmlns=\"http://www.w3.org/2000/svg\" xmlns:xlink=\"http://www.w3.org/1999/xlink\">\r\n<g id=\"graph0\" class=\"graph\" transform=\"scale(1 1) rotate(0) translate(4 489)\">\r\n<title>Tree</title>\r\n<polygon fill=\"white\" stroke=\"transparent\" points=\"-4,4 -4,-489 522.5,-489 522.5,4 -4,4\"/>\r\n<!-- 0 -->\r\n<g id=\"node1\" class=\"node\">\r\n<title>0</title>\r\n<path fill=\"#f2c09c\" stroke=\"black\" d=\"M415,-485C415,-485 229,-485 229,-485 223,-485 217,-479 217,-473 217,-473 217,-399 217,-399 217,-393 223,-387 229,-387 229,-387 415,-387 415,-387 421,-387 427,-393 427,-399 427,-399 427,-473 427,-473 427,-479 421,-485 415,-485\"/>\r\n<text text-anchor=\"start\" x=\"295.5\" y=\"-469.8\" font-family=\"Helvetica,sans-Serif\" font-size=\"14.00\">node #0</text>\r\n<text text-anchor=\"start\" x=\"284.5\" y=\"-454.8\" font-family=\"Helvetica,sans-Serif\" font-size=\"14.00\">GPA ≤ 2.39</text>\r\n<text text-anchor=\"start\" x=\"272\" y=\"-439.8\" font-family=\"Helvetica,sans-Serif\" font-size=\"14.00\">entropy = 0.918</text>\r\n<text text-anchor=\"start\" x=\"278.5\" y=\"-424.8\" font-family=\"Helvetica,sans-Serif\" font-size=\"14.00\">samples = 12</text>\r\n<text text-anchor=\"start\" x=\"281.5\" y=\"-409.8\" font-family=\"Helvetica,sans-Serif\" font-size=\"14.00\">value = [8, 4]</text>\r\n<text text-anchor=\"start\" x=\"225\" y=\"-394.8\" font-family=\"Helvetica,sans-Serif\" font-size=\"14.00\">class = No_Did_Not_Graduate</text>\r\n</g>\r\n<!-- 1 -->\r\n<g id=\"node2\" class=\"node\">\r\n<title>1</title>\r\n<path fill=\"#e89152\" stroke=\"black\" d=\"M312,-351C312,-351 126,-351 126,-351 120,-351 114,-345 114,-339 114,-339 114,-265 114,-265 114,-259 120,-253 126,-253 126,-253 312,-253 312,-253 318,-253 324,-259 324,-265 324,-265 324,-339 324,-339 324,-345 318,-351 312,-351\"/>\r\n<text text-anchor=\"start\" x=\"192.5\" y=\"-335.8\" font-family=\"Helvetica,sans-Serif\" font-size=\"14.00\">node #1</text>\r\n<text text-anchor=\"start\" x=\"168\" y=\"-320.8\" font-family=\"Helvetica,sans-Serif\" font-size=\"14.00\">WORKED ≤ 0.5</text>\r\n<text text-anchor=\"start\" x=\"169\" y=\"-305.8\" font-family=\"Helvetica,sans-Serif\" font-size=\"14.00\">entropy = 0.503</text>\r\n<text text-anchor=\"start\" x=\"179.5\" y=\"-290.8\" font-family=\"Helvetica,sans-Serif\" font-size=\"14.00\">samples = 9</text>\r\n<text text-anchor=\"start\" x=\"178.5\" y=\"-275.8\" font-family=\"Helvetica,sans-Serif\" font-size=\"14.00\">value = [8, 1]</text>\r\n<text text-anchor=\"start\" x=\"122\" y=\"-260.8\" font-family=\"Helvetica,sans-Serif\" font-size=\"14.00\">class = No_Did_Not_Graduate</text>\r\n</g>\r\n<!-- 0&#45;&gt;1 -->\r\n<g id=\"edge1\" class=\"edge\">\r\n<title>0&#45;&gt;1</title>\r\n<path fill=\"none\" stroke=\"black\" d=\"M284.52,-386.97C277.49,-377.96 270.09,-368.47 262.88,-359.24\"/>\r\n<polygon fill=\"black\" stroke=\"black\" points=\"265.53,-356.94 256.62,-351.21 260.01,-361.25 265.53,-356.94\"/>\r\n<text text-anchor=\"middle\" x=\"253.56\" y=\"-372.33\" font-family=\"Helvetica,sans-Serif\" font-size=\"14.00\">True</text>\r\n</g>\r\n<!-- 6 -->\r\n<g id=\"node7\" class=\"node\">\r\n<title>6</title>\r\n<path fill=\"#399de5\" stroke=\"black\" d=\"M495.5,-343.5C495.5,-343.5 354.5,-343.5 354.5,-343.5 348.5,-343.5 342.5,-337.5 342.5,-331.5 342.5,-331.5 342.5,-272.5 342.5,-272.5 342.5,-266.5 348.5,-260.5 354.5,-260.5 354.5,-260.5 495.5,-260.5 495.5,-260.5 501.5,-260.5 507.5,-266.5 507.5,-272.5 507.5,-272.5 507.5,-331.5 507.5,-331.5 507.5,-337.5 501.5,-343.5 495.5,-343.5\"/>\r\n<text text-anchor=\"start\" x=\"398.5\" y=\"-328.3\" font-family=\"Helvetica,sans-Serif\" font-size=\"14.00\">node #6</text>\r\n<text text-anchor=\"start\" x=\"383\" y=\"-313.3\" font-family=\"Helvetica,sans-Serif\" font-size=\"14.00\">entropy = 0.0</text>\r\n<text text-anchor=\"start\" x=\"385.5\" y=\"-298.3\" font-family=\"Helvetica,sans-Serif\" font-size=\"14.00\">samples = 3</text>\r\n<text text-anchor=\"start\" x=\"384.5\" y=\"-283.3\" font-family=\"Helvetica,sans-Serif\" font-size=\"14.00\">value = [0, 3]</text>\r\n<text text-anchor=\"start\" x=\"350.5\" y=\"-268.3\" font-family=\"Helvetica,sans-Serif\" font-size=\"14.00\">class = Yes_Graduated</text>\r\n</g>\r\n<!-- 0&#45;&gt;6 -->\r\n<g id=\"edge6\" class=\"edge\">\r\n<title>0&#45;&gt;6</title>\r\n<path fill=\"none\" stroke=\"black\" d=\"M359.48,-386.97C368.36,-375.58 377.85,-363.42 386.77,-351.99\"/>\r\n<polygon fill=\"black\" stroke=\"black\" points=\"389.76,-353.85 393.15,-343.82 384.24,-349.55 389.76,-353.85\"/>\r\n<text text-anchor=\"middle\" x=\"396.21\" y=\"-364.93\" font-family=\"Helvetica,sans-Serif\" font-size=\"14.00\">False</text>\r\n</g>\r\n<!-- 2 -->\r\n<g id=\"node3\" class=\"node\">\r\n<title>2</title>\r\n<path fill=\"#e58139\" stroke=\"black\" d=\"M198,-209.5C198,-209.5 12,-209.5 12,-209.5 6,-209.5 0,-203.5 0,-197.5 0,-197.5 0,-138.5 0,-138.5 0,-132.5 6,-126.5 12,-126.5 12,-126.5 198,-126.5 198,-126.5 204,-126.5 210,-132.5 210,-138.5 210,-138.5 210,-197.5 210,-197.5 210,-203.5 204,-209.5 198,-209.5\"/>\r\n<text text-anchor=\"start\" x=\"78.5\" y=\"-194.3\" font-family=\"Helvetica,sans-Serif\" font-size=\"14.00\">node #2</text>\r\n<text text-anchor=\"start\" x=\"63\" y=\"-179.3\" font-family=\"Helvetica,sans-Serif\" font-size=\"14.00\">entropy = 0.0</text>\r\n<text text-anchor=\"start\" x=\"65.5\" y=\"-164.3\" font-family=\"Helvetica,sans-Serif\" font-size=\"14.00\">samples = 6</text>\r\n<text text-anchor=\"start\" x=\"64.5\" y=\"-149.3\" font-family=\"Helvetica,sans-Serif\" font-size=\"14.00\">value = [6, 0]</text>\r\n<text text-anchor=\"start\" x=\"8\" y=\"-134.3\" font-family=\"Helvetica,sans-Serif\" font-size=\"14.00\">class = No_Did_Not_Graduate</text>\r\n</g>\r\n<!-- 1&#45;&gt;2 -->\r\n<g id=\"edge2\" class=\"edge\">\r\n<title>1&#45;&gt;2</title>\r\n<path fill=\"none\" stroke=\"black\" d=\"M177.52,-252.97C167.59,-241.47 156.98,-229.18 147.02,-217.66\"/>\r\n<polygon fill=\"black\" stroke=\"black\" points=\"149.44,-215.1 140.25,-209.82 144.14,-219.67 149.44,-215.1\"/>\r\n</g>\r\n<!-- 3 -->\r\n<g id=\"node4\" class=\"node\">\r\n<title>3</title>\r\n<path fill=\"#f2c09c\" stroke=\"black\" d=\"M426,-217C426,-217 240,-217 240,-217 234,-217 228,-211 228,-205 228,-205 228,-131 228,-131 228,-125 234,-119 240,-119 240,-119 426,-119 426,-119 432,-119 438,-125 438,-131 438,-131 438,-205 438,-205 438,-211 432,-217 426,-217\"/>\r\n<text text-anchor=\"start\" x=\"306.5\" y=\"-201.8\" font-family=\"Helvetica,sans-Serif\" font-size=\"14.00\">node #3</text>\r\n<text text-anchor=\"start\" x=\"291.5\" y=\"-186.8\" font-family=\"Helvetica,sans-Serif\" font-size=\"14.00\">GPA ≤ 1.995</text>\r\n<text text-anchor=\"start\" x=\"283\" y=\"-171.8\" font-family=\"Helvetica,sans-Serif\" font-size=\"14.00\">entropy = 0.918</text>\r\n<text text-anchor=\"start\" x=\"293.5\" y=\"-156.8\" font-family=\"Helvetica,sans-Serif\" font-size=\"14.00\">samples = 3</text>\r\n<text text-anchor=\"start\" x=\"292.5\" y=\"-141.8\" font-family=\"Helvetica,sans-Serif\" font-size=\"14.00\">value = [2, 1]</text>\r\n<text text-anchor=\"start\" x=\"236\" y=\"-126.8\" font-family=\"Helvetica,sans-Serif\" font-size=\"14.00\">class = No_Did_Not_Graduate</text>\r\n</g>\r\n<!-- 1&#45;&gt;3 -->\r\n<g id=\"edge3\" class=\"edge\">\r\n<title>1&#45;&gt;3</title>\r\n<path fill=\"none\" stroke=\"black\" d=\"M260.48,-252.97C268.34,-243.87 276.62,-234.28 284.67,-224.96\"/>\r\n<polygon fill=\"black\" stroke=\"black\" points=\"287.47,-227.07 291.36,-217.21 282.18,-222.49 287.47,-227.07\"/>\r\n</g>\r\n<!-- 4 -->\r\n<g id=\"node5\" class=\"node\">\r\n<title>4</title>\r\n<path fill=\"#e58139\" stroke=\"black\" d=\"M323,-83C323,-83 137,-83 137,-83 131,-83 125,-77 125,-71 125,-71 125,-12 125,-12 125,-6 131,0 137,0 137,0 323,0 323,0 329,0 335,-6 335,-12 335,-12 335,-71 335,-71 335,-77 329,-83 323,-83\"/>\r\n<text text-anchor=\"start\" x=\"203.5\" y=\"-67.8\" font-family=\"Helvetica,sans-Serif\" font-size=\"14.00\">node #4</text>\r\n<text text-anchor=\"start\" x=\"188\" y=\"-52.8\" font-family=\"Helvetica,sans-Serif\" font-size=\"14.00\">entropy = 0.0</text>\r\n<text text-anchor=\"start\" x=\"190.5\" y=\"-37.8\" font-family=\"Helvetica,sans-Serif\" font-size=\"14.00\">samples = 2</text>\r\n<text text-anchor=\"start\" x=\"189.5\" y=\"-22.8\" font-family=\"Helvetica,sans-Serif\" font-size=\"14.00\">value = [2, 0]</text>\r\n<text text-anchor=\"start\" x=\"133\" y=\"-7.8\" font-family=\"Helvetica,sans-Serif\" font-size=\"14.00\">class = No_Did_Not_Graduate</text>\r\n</g>\r\n<!-- 3&#45;&gt;4 -->\r\n<g id=\"edge4\" class=\"edge\">\r\n<title>3&#45;&gt;4</title>\r\n<path fill=\"none\" stroke=\"black\" d=\"M293.18,-118.87C285.65,-109.76 277.76,-100.23 270.22,-91.12\"/>\r\n<polygon fill=\"black\" stroke=\"black\" points=\"272.77,-88.7 263.7,-83.23 267.37,-93.17 272.77,-88.7\"/>\r\n</g>\r\n<!-- 5 -->\r\n<g id=\"node6\" class=\"node\">\r\n<title>5</title>\r\n<path fill=\"#399de5\" stroke=\"black\" d=\"M506.5,-83C506.5,-83 365.5,-83 365.5,-83 359.5,-83 353.5,-77 353.5,-71 353.5,-71 353.5,-12 353.5,-12 353.5,-6 359.5,0 365.5,0 365.5,0 506.5,0 506.5,0 512.5,0 518.5,-6 518.5,-12 518.5,-12 518.5,-71 518.5,-71 518.5,-77 512.5,-83 506.5,-83\"/>\r\n<text text-anchor=\"start\" x=\"409.5\" y=\"-67.8\" font-family=\"Helvetica,sans-Serif\" font-size=\"14.00\">node #5</text>\r\n<text text-anchor=\"start\" x=\"394\" y=\"-52.8\" font-family=\"Helvetica,sans-Serif\" font-size=\"14.00\">entropy = 0.0</text>\r\n<text text-anchor=\"start\" x=\"396.5\" y=\"-37.8\" font-family=\"Helvetica,sans-Serif\" font-size=\"14.00\">samples = 1</text>\r\n<text text-anchor=\"start\" x=\"395.5\" y=\"-22.8\" font-family=\"Helvetica,sans-Serif\" font-size=\"14.00\">value = [0, 1]</text>\r\n<text text-anchor=\"start\" x=\"361.5\" y=\"-7.8\" font-family=\"Helvetica,sans-Serif\" font-size=\"14.00\">class = Yes_Graduated</text>\r\n</g>\r\n<!-- 3&#45;&gt;5 -->\r\n<g id=\"edge5\" class=\"edge\">\r\n<title>3&#45;&gt;5</title>\r\n<path fill=\"none\" stroke=\"black\" d=\"M372.82,-118.87C380.35,-109.76 388.24,-100.23 395.78,-91.12\"/>\r\n<polygon fill=\"black\" stroke=\"black\" points=\"398.63,-93.17 402.3,-83.23 393.23,-88.7 398.63,-93.17\"/>\r\n</g>\r\n</g>\r\n</svg>\r\n"
     },
     "execution_count": 327,
     "metadata": {},
     "output_type": "execute_result"
    }
   ]
  },
  {
   "cell_type": "markdown",
   "source": [
    "## Example 3 Creating a tree with \"gini\" instead of entropy"
   ],
   "metadata": {
    "collapsed": false,
    "pycharm": {
     "name": "#%% md\n"
    }
   }
  },
  {
   "cell_type": "code",
   "execution_count": 328,
   "outputs": [
    {
     "data": {
      "text/plain": "<graphviz.files.Source at 0x19daf8dcc40>",
      "image/svg+xml": "<?xml version=\"1.0\" encoding=\"UTF-8\" standalone=\"no\"?>\r\n<!DOCTYPE svg PUBLIC \"-//W3C//DTD SVG 1.1//EN\"\r\n \"http://www.w3.org/Graphics/SVG/1.1/DTD/svg11.dtd\">\r\n<!-- Generated by graphviz version 2.49.2 (20211016.1639)\r\n -->\r\n<!-- Title: Tree Pages: 1 -->\r\n<svg width=\"516pt\" height=\"433pt\"\r\n viewBox=\"0.00 0.00 515.50 433.00\" xmlns=\"http://www.w3.org/2000/svg\" xmlns:xlink=\"http://www.w3.org/1999/xlink\">\r\n<g id=\"graph0\" class=\"graph\" transform=\"scale(1 1) rotate(0) translate(4 429)\">\r\n<title>Tree</title>\r\n<polygon fill=\"white\" stroke=\"transparent\" points=\"-4,4 -4,-429 511.5,-429 511.5,4 -4,4\"/>\r\n<!-- 0 -->\r\n<g id=\"node1\" class=\"node\">\r\n<title>0</title>\r\n<path fill=\"#f2c09c\" stroke=\"black\" d=\"M398,-425C398,-425 223,-425 223,-425 217,-425 211,-419 211,-413 211,-413 211,-354 211,-354 211,-348 217,-342 223,-342 223,-342 398,-342 398,-342 404,-342 410,-348 410,-354 410,-354 410,-413 410,-413 410,-419 404,-425 398,-425\"/>\r\n<text text-anchor=\"start\" x=\"273\" y=\"-409.8\" font-family=\"Helvetica,sans-Serif\" font-size=\"14.00\">GPA ≤ 2.39</text>\r\n<text text-anchor=\"start\" x=\"273\" y=\"-394.8\" font-family=\"Helvetica,sans-Serif\" font-size=\"14.00\">gini = 0.444</text>\r\n<text text-anchor=\"start\" x=\"267\" y=\"-379.8\" font-family=\"Helvetica,sans-Serif\" font-size=\"14.00\">samples = 12</text>\r\n<text text-anchor=\"start\" x=\"270\" y=\"-364.8\" font-family=\"Helvetica,sans-Serif\" font-size=\"14.00\">value = [8, 4]</text>\r\n<text text-anchor=\"start\" x=\"219\" y=\"-349.8\" font-family=\"Helvetica,sans-Serif\" font-size=\"14.00\">class = Did not Graduate in 6</text>\r\n</g>\r\n<!-- 1 -->\r\n<g id=\"node2\" class=\"node\">\r\n<title>1</title>\r\n<path fill=\"#e89152\" stroke=\"black\" d=\"M295,-306C295,-306 120,-306 120,-306 114,-306 108,-300 108,-294 108,-294 108,-235 108,-235 108,-229 114,-223 120,-223 120,-223 295,-223 295,-223 301,-223 307,-229 307,-235 307,-235 307,-294 307,-294 307,-300 301,-306 295,-306\"/>\r\n<text text-anchor=\"start\" x=\"156.5\" y=\"-290.8\" font-family=\"Helvetica,sans-Serif\" font-size=\"14.00\">WORKED ≤ 0.5</text>\r\n<text text-anchor=\"start\" x=\"170\" y=\"-275.8\" font-family=\"Helvetica,sans-Serif\" font-size=\"14.00\">gini = 0.198</text>\r\n<text text-anchor=\"start\" x=\"168\" y=\"-260.8\" font-family=\"Helvetica,sans-Serif\" font-size=\"14.00\">samples = 9</text>\r\n<text text-anchor=\"start\" x=\"167\" y=\"-245.8\" font-family=\"Helvetica,sans-Serif\" font-size=\"14.00\">value = [8, 1]</text>\r\n<text text-anchor=\"start\" x=\"116\" y=\"-230.8\" font-family=\"Helvetica,sans-Serif\" font-size=\"14.00\">class = Did not Graduate in 6</text>\r\n</g>\r\n<!-- 0&#45;&gt;1 -->\r\n<g id=\"edge1\" class=\"edge\">\r\n<title>0&#45;&gt;1</title>\r\n<path fill=\"none\" stroke=\"black\" d=\"M274.76,-341.91C266.78,-332.83 258.23,-323.12 249.99,-313.77\"/>\r\n<polygon fill=\"black\" stroke=\"black\" points=\"252.41,-311.21 243.17,-306.02 247.15,-315.84 252.41,-311.21\"/>\r\n<text text-anchor=\"middle\" x=\"241.58\" y=\"-327.27\" font-family=\"Helvetica,sans-Serif\" font-size=\"14.00\">True</text>\r\n</g>\r\n<!-- 6 -->\r\n<g id=\"node7\" class=\"node\">\r\n<title>6</title>\r\n<path fill=\"#399de5\" stroke=\"black\" d=\"M489.5,-298.5C489.5,-298.5 337.5,-298.5 337.5,-298.5 331.5,-298.5 325.5,-292.5 325.5,-286.5 325.5,-286.5 325.5,-242.5 325.5,-242.5 325.5,-236.5 331.5,-230.5 337.5,-230.5 337.5,-230.5 489.5,-230.5 489.5,-230.5 495.5,-230.5 501.5,-236.5 501.5,-242.5 501.5,-242.5 501.5,-286.5 501.5,-286.5 501.5,-292.5 495.5,-298.5 489.5,-298.5\"/>\r\n<text text-anchor=\"start\" x=\"384.5\" y=\"-283.3\" font-family=\"Helvetica,sans-Serif\" font-size=\"14.00\">gini = 0.0</text>\r\n<text text-anchor=\"start\" x=\"374\" y=\"-268.3\" font-family=\"Helvetica,sans-Serif\" font-size=\"14.00\">samples = 3</text>\r\n<text text-anchor=\"start\" x=\"373\" y=\"-253.3\" font-family=\"Helvetica,sans-Serif\" font-size=\"14.00\">value = [0, 3]</text>\r\n<text text-anchor=\"start\" x=\"333.5\" y=\"-238.3\" font-family=\"Helvetica,sans-Serif\" font-size=\"14.00\">class = Did Graduate in 6</text>\r\n</g>\r\n<!-- 0&#45;&gt;6 -->\r\n<g id=\"edge6\" class=\"edge\">\r\n<title>0&#45;&gt;6</title>\r\n<path fill=\"none\" stroke=\"black\" d=\"M346.24,-341.91C356.34,-330.43 367.34,-317.94 377.46,-306.44\"/>\r\n<polygon fill=\"black\" stroke=\"black\" points=\"380.32,-308.49 384.3,-298.67 375.07,-303.86 380.32,-308.49\"/>\r\n<text text-anchor=\"middle\" x=\"385.89\" y=\"-319.92\" font-family=\"Helvetica,sans-Serif\" font-size=\"14.00\">False</text>\r\n</g>\r\n<!-- 2 -->\r\n<g id=\"node3\" class=\"node\">\r\n<title>2</title>\r\n<path fill=\"#e58139\" stroke=\"black\" d=\"M187,-179.5C187,-179.5 12,-179.5 12,-179.5 6,-179.5 0,-173.5 0,-167.5 0,-167.5 0,-123.5 0,-123.5 0,-117.5 6,-111.5 12,-111.5 12,-111.5 187,-111.5 187,-111.5 193,-111.5 199,-117.5 199,-123.5 199,-123.5 199,-167.5 199,-167.5 199,-173.5 193,-179.5 187,-179.5\"/>\r\n<text text-anchor=\"start\" x=\"70.5\" y=\"-164.3\" font-family=\"Helvetica,sans-Serif\" font-size=\"14.00\">gini = 0.0</text>\r\n<text text-anchor=\"start\" x=\"60\" y=\"-149.3\" font-family=\"Helvetica,sans-Serif\" font-size=\"14.00\">samples = 6</text>\r\n<text text-anchor=\"start\" x=\"59\" y=\"-134.3\" font-family=\"Helvetica,sans-Serif\" font-size=\"14.00\">value = [6, 0]</text>\r\n<text text-anchor=\"start\" x=\"8\" y=\"-119.3\" font-family=\"Helvetica,sans-Serif\" font-size=\"14.00\">class = Did not Graduate in 6</text>\r\n</g>\r\n<!-- 1&#45;&gt;2 -->\r\n<g id=\"edge2\" class=\"edge\">\r\n<title>1&#45;&gt;2</title>\r\n<path fill=\"none\" stroke=\"black\" d=\"M170.03,-222.91C159.33,-211.32 147.68,-198.7 136.99,-187.11\"/>\r\n<polygon fill=\"black\" stroke=\"black\" points=\"139.47,-184.64 130.12,-179.67 134.33,-189.39 139.47,-184.64\"/>\r\n</g>\r\n<!-- 3 -->\r\n<g id=\"node4\" class=\"node\">\r\n<title>3</title>\r\n<path fill=\"#f2c09c\" stroke=\"black\" d=\"M404,-187C404,-187 229,-187 229,-187 223,-187 217,-181 217,-175 217,-175 217,-116 217,-116 217,-110 223,-104 229,-104 229,-104 404,-104 404,-104 410,-104 416,-110 416,-116 416,-116 416,-175 416,-175 416,-181 410,-187 404,-187\"/>\r\n<text text-anchor=\"start\" x=\"275\" y=\"-171.8\" font-family=\"Helvetica,sans-Serif\" font-size=\"14.00\">GPA ≤ 1.995</text>\r\n<text text-anchor=\"start\" x=\"279\" y=\"-156.8\" font-family=\"Helvetica,sans-Serif\" font-size=\"14.00\">gini = 0.444</text>\r\n<text text-anchor=\"start\" x=\"277\" y=\"-141.8\" font-family=\"Helvetica,sans-Serif\" font-size=\"14.00\">samples = 3</text>\r\n<text text-anchor=\"start\" x=\"276\" y=\"-126.8\" font-family=\"Helvetica,sans-Serif\" font-size=\"14.00\">value = [2, 1]</text>\r\n<text text-anchor=\"start\" x=\"225\" y=\"-111.8\" font-family=\"Helvetica,sans-Serif\" font-size=\"14.00\">class = Did not Graduate in 6</text>\r\n</g>\r\n<!-- 1&#45;&gt;3 -->\r\n<g id=\"edge3\" class=\"edge\">\r\n<title>1&#45;&gt;3</title>\r\n<path fill=\"none\" stroke=\"black\" d=\"M245.32,-222.91C253.86,-213.74 263,-203.93 271.79,-194.49\"/>\r\n<polygon fill=\"black\" stroke=\"black\" points=\"274.49,-196.72 278.75,-187.02 269.37,-191.95 274.49,-196.72\"/>\r\n</g>\r\n<!-- 4 -->\r\n<g id=\"node5\" class=\"node\">\r\n<title>4</title>\r\n<path fill=\"#e58139\" stroke=\"black\" d=\"M301,-68C301,-68 126,-68 126,-68 120,-68 114,-62 114,-56 114,-56 114,-12 114,-12 114,-6 120,0 126,0 126,0 301,0 301,0 307,0 313,-6 313,-12 313,-12 313,-56 313,-56 313,-62 307,-68 301,-68\"/>\r\n<text text-anchor=\"start\" x=\"184.5\" y=\"-52.8\" font-family=\"Helvetica,sans-Serif\" font-size=\"14.00\">gini = 0.0</text>\r\n<text text-anchor=\"start\" x=\"174\" y=\"-37.8\" font-family=\"Helvetica,sans-Serif\" font-size=\"14.00\">samples = 2</text>\r\n<text text-anchor=\"start\" x=\"173\" y=\"-22.8\" font-family=\"Helvetica,sans-Serif\" font-size=\"14.00\">value = [2, 0]</text>\r\n<text text-anchor=\"start\" x=\"122\" y=\"-7.8\" font-family=\"Helvetica,sans-Serif\" font-size=\"14.00\">class = Did not Graduate in 6</text>\r\n</g>\r\n<!-- 3&#45;&gt;4 -->\r\n<g id=\"edge4\" class=\"edge\">\r\n<title>3&#45;&gt;4</title>\r\n<path fill=\"none\" stroke=\"black\" d=\"M278.15,-103.73C269.57,-94.61 260.47,-84.93 251.89,-75.81\"/>\r\n<polygon fill=\"black\" stroke=\"black\" points=\"254.22,-73.19 244.82,-68.3 249.13,-77.98 254.22,-73.19\"/>\r\n</g>\r\n<!-- 5 -->\r\n<g id=\"node6\" class=\"node\">\r\n<title>5</title>\r\n<path fill=\"#399de5\" stroke=\"black\" d=\"M495.5,-68C495.5,-68 343.5,-68 343.5,-68 337.5,-68 331.5,-62 331.5,-56 331.5,-56 331.5,-12 331.5,-12 331.5,-6 337.5,0 343.5,0 343.5,0 495.5,0 495.5,0 501.5,0 507.5,-6 507.5,-12 507.5,-12 507.5,-56 507.5,-56 507.5,-62 501.5,-68 495.5,-68\"/>\r\n<text text-anchor=\"start\" x=\"390.5\" y=\"-52.8\" font-family=\"Helvetica,sans-Serif\" font-size=\"14.00\">gini = 0.0</text>\r\n<text text-anchor=\"start\" x=\"380\" y=\"-37.8\" font-family=\"Helvetica,sans-Serif\" font-size=\"14.00\">samples = 1</text>\r\n<text text-anchor=\"start\" x=\"379\" y=\"-22.8\" font-family=\"Helvetica,sans-Serif\" font-size=\"14.00\">value = [0, 1]</text>\r\n<text text-anchor=\"start\" x=\"339.5\" y=\"-7.8\" font-family=\"Helvetica,sans-Serif\" font-size=\"14.00\">class = Did Graduate in 6</text>\r\n</g>\r\n<!-- 3&#45;&gt;5 -->\r\n<g id=\"edge5\" class=\"edge\">\r\n<title>3&#45;&gt;5</title>\r\n<path fill=\"none\" stroke=\"black\" d=\"M354.85,-103.73C363.43,-94.61 372.53,-84.93 381.11,-75.81\"/>\r\n<polygon fill=\"black\" stroke=\"black\" points=\"383.87,-77.98 388.18,-68.3 378.78,-73.19 383.87,-77.98\"/>\r\n</g>\r\n</g>\r\n</svg>\r\n"
     },
     "execution_count": 328,
     "metadata": {},
     "output_type": "execute_result"
    }
   ],
   "source": [
    "clf3 = tree.DecisionTreeClassifier(criterion=\"gini\")\n",
    "clf3 = clf3.fit(Xnum,classifications)\n",
    "dotData3 = tree.export_graphviz(clf3,\n",
    "                                feature_names=labels,\n",
    "                                class_names=(\"Did not Graduate in 6\", \"Did Graduate in 6\"),\n",
    "                                out_file=None,\n",
    "                                filled=True,\n",
    "                                rounded=True,\n",
    "                                special_characters=True)\n",
    "foo = clf3.predict_proba(Xnum)\n",
    "\n",
    "graph = graphviz.Source(dotData3)\n",
    "graph\n"
   ],
   "metadata": {
    "collapsed": false,
    "pycharm": {
     "name": "#%%\n"
    }
   }
  }
 ],
 "metadata": {
  "kernelspec": {
   "display_name": "PyCharm (GITHUB_REPOSITORY)",
   "language": "python",
   "name": "pycharm-865e1948"
  },
  "language_info": {
   "codemirror_mode": {
    "name": "ipython",
    "version": 3
   },
   "file_extension": ".py",
   "mimetype": "text/x-python",
   "name": "python",
   "nbconvert_exporter": "python",
   "pygments_lexer": "ipython3",
   "version": "3.8.10"
  }
 },
 "nbformat": 4,
 "nbformat_minor": 1
}