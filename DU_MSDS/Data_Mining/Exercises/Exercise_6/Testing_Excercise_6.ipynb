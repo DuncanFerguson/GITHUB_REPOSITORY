{
 "cells": [
  {
   "cell_type": "code",
   "execution_count": 2,
   "metadata": {
    "collapsed": true
   },
   "outputs": [],
   "source": [
    "# Student: Duncan Ferguson <br>\n",
    "# Student Id: 871641260 <br>\n",
    "# Class: Comp 4431-1 <br>\n",
    "# Assignment: Exercise 5 <br>\n",
    "# Date: 10/16/2021 <br>\n",
    "# Group: Name: Broken Toe <br>\n",
    "# Group Members: Emma Bright, Mike Santoro <br>\n",
    "\n",
    "import pandas as pd\n",
    "import random\n",
    "from sklearn.tree import export_graphviz\n",
    "import graphviz\n",
    "from sklearn import tree\n",
    "from sklearn.tree import export_text\n",
    "\n",
    "\n",
    "def create_tuples():\n",
    "    \"\"\"This Function goes through and creates\"\"\"\n",
    "    random.seed(50)\n",
    "\n",
    "    # Creating a list of 12 Random GPAS\n",
    "    GPA = [round(random.uniform(1, 4), 2) for _ in range(12)]  # Creating List of Random GPA\n",
    "\n",
    "    # Setting up quasi random Ranking\n",
    "    RANK = []\n",
    "    for grade in GPA:\n",
    "        if grade > 3.5:\n",
    "            RANK.append(round(random.uniform(.9, 1), 2))\n",
    "        elif grade > 3:\n",
    "            RANK.append(round(random.uniform(.8, .9), 2))\n",
    "        elif grade > 2.5:\n",
    "            RANK.append(round(random.uniform(.7, .8), 2))\n",
    "        elif grade > 2:\n",
    "            RANK.append(round(random.uniform(.6, .7), 2))\n",
    "        else:\n",
    "            RANK.append(round(random.uniform(0, .6), 2))\n",
    "\n",
    "    # Setting up Random Work 0 did not work 1 did, Scalling it toward working have lower GPA\n",
    "    WORKED = []\n",
    "    for num in enumerate(GPA):\n",
    "        if num[1] > 2:\n",
    "            rand_work = random.randint(0, 60)\n",
    "            if rand_work > 50:\n",
    "                WORKED.append(1)\n",
    "            else:\n",
    "                WORKED.append(0)\n",
    "        else:\n",
    "            rand_work = random.randint(30, 100)\n",
    "            if rand_work > 50:\n",
    "                WORKED.append(1)\n",
    "            else:\n",
    "                WORKED.append(0)\n",
    "\n",
    "    #  Setting up if they Graduated College\n",
    "    for num in enumerate(GPA):\n",
    "        if num[1] > 2:\n",
    "            if random.randint(0, 60) > 50:\n",
    "                WORKED.append(1)\n",
    "            else:\n",
    "                WORKED.append(0)\n",
    "        else:\n",
    "            if random.randint(30, 100) > 50:\n",
    "                WORKED.append(1)\n",
    "            else:\n",
    "                WORKED.append(0)\n",
    "\n",
    "    # print(\"GPA\", GPA)\n",
    "    # print(\"RANK\", RANK)\n",
    "    # print(\"WORKED\", WORKED)\n",
    "    #\n",
    "\n",
    "    # List of lists\n",
    "    list_o_lists = []\n",
    "    for num in enumerate(GPA):\n",
    "        list_o_lists.append([GPA[num[0]], RANK[num[0]], WORKED[num[0]]])\n",
    "\n",
    "    graduate = []\n",
    "    for person in enumerate(list_o_lists):\n",
    "        if sum(person[1]) > 3:\n",
    "            graduate.append(1)\n",
    "        else:\n",
    "            graduate.append(0)\n",
    "\n",
    "\n",
    "    return list_o_lists, graduate\n",
    "\n",
    "def create_tree(list_o_lists, graduate):\n",
    "    \"\"\"This Function goes through and creates the decision tree\"\"\"\n",
    "    # X = list_o_lists\n",
    "    # Y = graduate\n",
    "    # clf = tree.DecisionTreeClassifier()\n",
    "    # clf = clf.fit(X,Y)\n",
    "    # print(type(clf))\n",
    "    # print(clf)\n",
    "    Xnum = list_o_lists\n",
    "    classifications = graduate\n",
    "    clf2 = tree.DecisionTreeClassifier(criterion=\"entropy\")\n",
    "    clf2 = clf2.fit(Xnum, classifications)\n",
    "\n",
    "    print(type(clf2))\n",
    "    print(clf2)\n",
    "    treeStruct = export_text(clf2)\n",
    "    print(\"\\nNow printing export_text(clf2)\")\n",
    "    print(treeStruct)\n",
    "    foo = clf2.apply(Xnum)  # passing in full list of training tuples\n",
    "    print(\"clf2.apply( Xnum ):\")\n",
    "    print(foo)\n",
    "    # now print out line by line as pair:  tuple, which leaf node\n",
    "    print(\"\\nNow printing each tuple with the decision tree node it ends up in:\")\n",
    "    for i in range(len(foo)):\n",
    "        print(str(Xnum[i]) + \",\" + str(foo[i]))\n",
    "\n",
    "    # NOTE - adding in node_ids and class_names as options to make tree viz more robust\n",
    "    dot_data = tree.export_graphviz(clf2, node_ids=\"true\",class_names=('not buy','yes buy'),out_file=None, filled=True, rounded=True, special_characters=True)\n",
    "    graph = graphviz.Source(dot_data)"
   ]
  },
  {
   "cell_type": "code",
   "execution_count": 1,
   "outputs": [
    {
     "ename": "NameError",
     "evalue": "name 'create_tuples' is not defined",
     "output_type": "error",
     "traceback": [
      "\u001B[1;31m---------------------------------------------------------------------------\u001B[0m",
      "\u001B[1;31mNameError\u001B[0m                                 Traceback (most recent call last)",
      "\u001B[1;32m~\\AppData\\Local\\Temp/ipykernel_12024/2729346367.py\u001B[0m in \u001B[0;36m<module>\u001B[1;34m\u001B[0m\n\u001B[0;32m      6\u001B[0m \u001B[1;33m\u001B[0m\u001B[0m\n\u001B[0;32m      7\u001B[0m \u001B[1;32mif\u001B[0m \u001B[0m__name__\u001B[0m \u001B[1;33m==\u001B[0m \u001B[1;34m'__main__'\u001B[0m\u001B[1;33m:\u001B[0m\u001B[1;33m\u001B[0m\u001B[1;33m\u001B[0m\u001B[0m\n\u001B[1;32m----> 8\u001B[1;33m     \u001B[0mmain\u001B[0m\u001B[1;33m(\u001B[0m\u001B[1;33m)\u001B[0m\u001B[1;33m\u001B[0m\u001B[1;33m\u001B[0m\u001B[0m\n\u001B[0m\u001B[0;32m      9\u001B[0m \u001B[1;33m\u001B[0m\u001B[0m\n",
      "\u001B[1;32m~\\AppData\\Local\\Temp/ipykernel_12024/2729346367.py\u001B[0m in \u001B[0;36mmain\u001B[1;34m()\u001B[0m\n\u001B[0;32m      1\u001B[0m \u001B[1;32mdef\u001B[0m \u001B[0mmain\u001B[0m\u001B[1;33m(\u001B[0m\u001B[1;33m)\u001B[0m\u001B[1;33m:\u001B[0m\u001B[1;33m\u001B[0m\u001B[1;33m\u001B[0m\u001B[0m\n\u001B[0;32m      2\u001B[0m     \u001B[1;34m\"\"\"Main Function for running the code\"\"\"\u001B[0m\u001B[1;33m\u001B[0m\u001B[1;33m\u001B[0m\u001B[0m\n\u001B[1;32m----> 3\u001B[1;33m     \u001B[0mlist_o_list\u001B[0m\u001B[1;33m,\u001B[0m \u001B[0mgraduate\u001B[0m \u001B[1;33m=\u001B[0m \u001B[0mcreate_tuples\u001B[0m\u001B[1;33m(\u001B[0m\u001B[1;33m)\u001B[0m\u001B[1;33m\u001B[0m\u001B[1;33m\u001B[0m\u001B[0m\n\u001B[0m\u001B[0;32m      4\u001B[0m     \u001B[1;31m# print(list_o_list)\u001B[0m\u001B[1;33m\u001B[0m\u001B[1;33m\u001B[0m\u001B[1;33m\u001B[0m\u001B[0m\n\u001B[0;32m      5\u001B[0m     \u001B[0mcreate_tree\u001B[0m\u001B[1;33m(\u001B[0m\u001B[0mlist_o_list\u001B[0m\u001B[1;33m,\u001B[0m \u001B[0mgraduate\u001B[0m\u001B[1;33m)\u001B[0m\u001B[1;33m\u001B[0m\u001B[1;33m\u001B[0m\u001B[0m\n",
      "\u001B[1;31mNameError\u001B[0m: name 'create_tuples' is not defined"
     ]
    }
   ],
   "source": [
    "\n",
    "def main():\n",
    "    \"\"\"Main Function for running the code\"\"\"\n",
    "    list_o_list, graduate = create_tuples()\n",
    "    # print(list_o_list)\n",
    "    create_tree(list_o_list, graduate)\n",
    "\n",
    "if __name__ == '__main__':\n",
    "    main()"
   ],
   "metadata": {
    "collapsed": false,
    "pycharm": {
     "name": "#%%\n"
    }
   }
  },
  {
   "cell_type": "code",
   "execution_count": null,
   "outputs": [],
   "source": [
    "graph\n"
   ],
   "metadata": {
    "collapsed": false,
    "pycharm": {
     "name": "#%%\n"
    }
   }
  }
 ],
 "metadata": {
  "kernelspec": {
   "display_name": "PyCharm (GITHUB_REPOSITORY)",
   "language": "python",
   "name": "pycharm-865e1948"
  },
  "language_info": {
   "codemirror_mode": {
    "name": "ipython",
    "version": 3
   },
   "file_extension": ".py",
   "mimetype": "text/x-python",
   "name": "python",
   "nbconvert_exporter": "python",
   "pygments_lexer": "ipython3",
   "version": "3.8.10"
  }
 },
 "nbformat": 4,
 "nbformat_minor": 1
}