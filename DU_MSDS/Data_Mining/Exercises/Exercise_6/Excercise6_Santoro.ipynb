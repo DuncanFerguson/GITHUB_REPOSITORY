{
 "cells": [
  {
   "cell_type": "markdown",
   "id": "335b0173-6bce-4588-acaf-77c582cd1908",
   "metadata": {},
   "source": [
    "### Excercise 6 - COMP 4431\n",
    "#### Group Name: Broken Toes; Members: Emma Bright, Duncan Ferguson, Mike Santoro\n",
    "#### Submission by: Mike Santoro\n",
    "\n",
    "##### Part 1:\n",
    "\n",
    "For the decision tree in the book in example 8.2, during class I just showed how to calculate the root node Gain(A) values for A in {income,age,student,credit}.   Also found here: exercise6A_start.pdf Download exercise6A_start.pdf\n",
    "\n",
    "Hand calculate the Gain(A) values, for each of the 3 attributes, for the left  subtree split (i.e. for the tuples 1,2,8,9 and 11 which are in the \"youth\" category after the first split."
   ]
  },
  {
   "attachments": {
    "860c4c0e-91ba-4c78-a75e-aa93c79a5fda.PNG": {
     "image/png": "[encoded data removed]"
    }
   },
   "cell_type": "markdown",
   "id": "60330d4e-dcca-479d-8700-11b5d83e3380",
   "metadata": {},
   "source": [
    "![table.PNG](attachment:860c4c0e-91ba-4c78-a75e-aa93c79a5fda.PNG)"
   ]
  },
  {
   "cell_type": "markdown",
   "id": "0dbc9eaf-1991-4139-9500-65c133165399",
   "metadata": {},
   "source": [
    "##### Income Gain\n",
    "$Gain(income) = Info(D) - Info_{income}(D)$\n",
    "\n",
    "Where\n",
    "\n",
    "$$Info(D) = -\\sum_{i=1}^{m}p_i\\log_2(p_i)$$\n",
    "\n",
    "and\n",
    "\n",
    "$$Info_{income}(D) = \\sum_{j=1}^{v}\\frac{|D_j|}{|D|}\\times Info(D_j)$$\n",
    "\n",
    "First we can calculate the $Info(D)$ term, which ends up being as follows.\n",
    "\n",
    "$$Info(D) = -\\frac{2}{5}\\log_2\\left(\\frac{2}{5}\\right) -\\frac{3}{5}\\log_2\\left(\\frac{3}{5}\\right)$$\n",
    "\n",
    "In the case of income we find the following:\n",
    "\n",
    "High: 1->N, 2->N\n",
    "\n",
    "Medium: 8->N, 11->Y\n",
    "\n",
    "Low: 9->Y\n",
    "\n",
    "\n"
   ]
  },
  {
   "cell_type": "code",
   "execution_count": 4,
   "id": "4bd792e8-5790-46e9-8cf3-526f45b5410d",
   "metadata": {},
   "outputs": [
    {
     "data": {
      "text/plain": [
       "0.9709505944546686"
      ]
     },
     "execution_count": 4,
     "metadata": {},
     "output_type": "execute_result"
    }
   ],
   "source": [
    "import math\n",
    "\n",
    "Info_D = -(2/5)*math.log2(2/5)-(3/5)*math.log2(3/5)\n",
    "Info_D"
   ]
  },
  {
   "cell_type": "markdown",
   "id": "2c6ead4d-f8c6-475a-b82d-4cbbbbd7b01b",
   "metadata": {},
   "source": [
    "In the case of income we find the following:\n",
    "\n",
    "High: 1->N, 2->N\n",
    "\n",
    "Medium: 8->N, 11->Y\n",
    "\n",
    "Low: 9->Y\n",
    "\n",
    "With this information we can now calculate the $Info_{income}(D)$ term, since $\\log_2(1) = 0$ and $0$ times anything is equal to $0$, will give us following:\n",
    "\n",
    "$$Info_{income}(D) = 0 + \\frac{2}{5}\\left(-\\frac{1}{2}\\log_2\\left(\\frac{1}{2}\\right)-\\frac{1}{2}\\log_2\\left(\\frac{1}{2}\\right)\\right) + 0$$"
   ]
  },
  {
   "cell_type": "code",
   "execution_count": 5,
   "id": "6f6a8e9f-7166-4114-8b6e-fbf0502badd5",
   "metadata": {},
   "outputs": [
    {
     "data": {
      "text/plain": [
       "0.4"
      ]
     },
     "execution_count": 5,
     "metadata": {},
     "output_type": "execute_result"
    }
   ],
   "source": [
    "Info_income_D = (2/5)*(-(1/2)*math.log2(1/2)-(1/2)*math.log2(1/2))\n",
    "Info_income_D"
   ]
  },
  {
   "cell_type": "markdown",
   "id": "58d771ae-cc17-46ca-8aae-900e9f3a4f39",
   "metadata": {},
   "source": [
    "Now we have suffiecient information to calculate $Gain(income)$ which will be as follows:\n",
    "\n",
    "$$Gain(income) = Info(D) - Info_{income}(D)$$"
   ]
  },
  {
   "cell_type": "code",
   "execution_count": 6,
   "id": "805f9f21-ca58-4fc0-8081-c4e1a4583c63",
   "metadata": {},
   "outputs": [
    {
     "data": {
      "text/plain": [
       "0.5709505944546686"
      ]
     },
     "execution_count": 6,
     "metadata": {},
     "output_type": "execute_result"
    }
   ],
   "source": [
    "Gain_income = Info_D - Info_income_D\n",
    "Gain_income"
   ]
  },
  {
   "cell_type": "markdown",
   "id": "4d1fd302-bebb-4771-af63-6f87e46fef79",
   "metadata": {},
   "source": [
    "##### Student Gain\n",
    "Since we have already calculated $Info(D)$ we only need to calculate $Info_{student}(D)$ since we are finding $Gain(student) = Info(D) - Info_{student}(D)$\n",
    "\n",
    "The table of values is as follows:\n",
    "\n",
    "Yes: 9->Y, 11->Y\n",
    "\n",
    "No: 1->N, 2->N, 8->N"
   ]
  },
  {
   "cell_type": "code",
   "execution_count": 12,
   "id": "ae8d52f2-33bd-4ac7-bb30-6ccf4cfaa9f2",
   "metadata": {},
   "outputs": [
    {
     "data": {
      "text/plain": [
       "0"
      ]
     },
     "execution_count": 12,
     "metadata": {},
     "output_type": "execute_result"
    }
   ],
   "source": [
    "Info_student_D = 0\n",
    "Info_student_D"
   ]
  },
  {
   "cell_type": "code",
   "execution_count": 13,
   "id": "979c4a75-0b2d-4951-bf49-d3e61c65eb23",
   "metadata": {},
   "outputs": [
    {
     "data": {
      "text/plain": [
       "0.9709505944546686"
      ]
     },
     "execution_count": 13,
     "metadata": {},
     "output_type": "execute_result"
    }
   ],
   "source": [
    "Gain_student = Info_D - Info_gain_D\n",
    "Gain_student"
   ]
  },
  {
   "cell_type": "markdown",
   "id": "c994cd96-3616-4394-a693-00c88022af24",
   "metadata": {},
   "source": [
    "##### Credit Gain\n",
    "Since we have already calculated $Info(D)$ we only need to calculate $Info_{credit}(D)$ since we are finding $Gain(credit) = Info(D) - Info_{credit}(D)$\n",
    "\n",
    "The table of values is as follows:\n",
    "\n",
    "Fair: 1->N, 8->N, 9->Y\n",
    "\n",
    "Excellent: 2->N, 11->Y\n",
    "\n",
    "$$Info_{credit}(D) = \\frac{3}{5}\\left(-\\frac{1}{3}\\log_2\\left(\\frac{1}{3}\\right)-\\frac{2}{3}\\log_2\\left(\\frac{2}{3}\\right)\\right) + \\frac{2}{5}\\left(-\\frac{1}{2}\\log_2\\left(\\frac{1}{2}\\right)-\\frac{1}{2}\\log_2\\left(\\frac{1}{2}\\right)\\right)$$"
   ]
  },
  {
   "cell_type": "code",
   "execution_count": 16,
   "id": "84848524-118f-4819-94a2-cf11bf98e3c3",
   "metadata": {},
   "outputs": [
    {
     "data": {
      "text/plain": [
       "0.9509775004326937"
      ]
     },
     "execution_count": 16,
     "metadata": {},
     "output_type": "execute_result"
    }
   ],
   "source": [
    "Info_credit_D = (3/5)*(-(1/3)*math.log2(1/3)-(2/3)*math.log2(2/3))+(2/5)*(-(1/2)*math.log2(1/2)-(1/2)*math.log2(1/2))\n",
    "Info_credit_D"
   ]
  },
  {
   "cell_type": "code",
   "execution_count": 17,
   "id": "47e71b10-5337-4622-be5d-8a7fe0409e27",
   "metadata": {},
   "outputs": [
    {
     "data": {
      "text/plain": [
       "0.01997309402197489"
      ]
     },
     "execution_count": 17,
     "metadata": {},
     "output_type": "execute_result"
    }
   ],
   "source": [
    "Gain_credit = Info_D - Info_credit_D\n",
    "Gain_credit"
   ]
  },
  {
   "cell_type": "markdown",
   "id": "de3a2dcc-a074-48e2-be7a-1b68c5ca10e2",
   "metadata": {},
   "source": [
    "##### Part 2:\n",
    "You are to create a set of 8..12 training tuples, including the classification of each, and then run through sklearn to build a decision and print out the resultant decision tree.  You should craft your tuples and classification array such that the decision tree has at least 3 levels (including the root) and explain which tuples end up in which leaf level node.  Feel free to draw a picture or use the graph viewer if you prefer.\n",
    "\n",
    "The problem is to classify college student applicants based on likelihood of finishing in 6 years as \"yes\" or \"no\".\n",
    "\n",
    "Assume a tuple has the following information:\n",
    "\n",
    "[GPA, RANK, WORKED]\n",
    "\n",
    "where:\n",
    "\n",
    "GPA = high school grade point average\n",
    "\n",
    "RANK = rank in class expressed as a decimal percentile (e.g. 0.99 means top 99%)\n",
    "\n",
    "WORKED =  { 0 , 1} where 0 means did not work a job in HS, 1 means did\n",
    "\n",
    "For example:\n",
    "\n",
    "[3.4,0.85,1] means an applicant has a 3.4 gpa, was in the top 85 percentile, and worked while in high school."
   ]
  },
  {
   "cell_type": "code",
   "execution_count": 53,
   "id": "563c5728-8f0e-4693-90c0-cedf36cd3b0d",
   "metadata": {},
   "outputs": [],
   "source": [
    "import random\n",
    "import numpy as np\n",
    "import pandas as pd\n",
    "from sklearn import tree\n",
    "from sklearn.tree import export_text"
   ]
  },
  {
   "cell_type": "code",
   "execution_count": 36,
   "id": "e4f8211a-74a9-4355-a7c3-7a2b26957b00",
   "metadata": {},
   "outputs": [],
   "source": [
    "def create_student(num):\n",
    "    \"\"\"This Function goes through and creates\"\"\"\n",
    "    random.seed(50)\n",
    "\n",
    "    # Creating a list of 12 Random GPAS\n",
    "    GPA = [round(random.uniform(1, 4), 2) for _ in range(num)]  # Creating List of Random GPA\n",
    "\n",
    "    # Setting up quasi random Ranking\n",
    "    RANK = []\n",
    "    for grade in GPA:\n",
    "        if grade > 3.5:\n",
    "            RANK.append(round(random.uniform(.9, 1), 2))\n",
    "        elif grade > 3:\n",
    "            RANK.append(round(random.uniform(.8, .9), 2))\n",
    "        elif grade > 2.5:\n",
    "            RANK.append(round(random.uniform(.7, .8), 2))\n",
    "        elif grade > 2:\n",
    "            RANK.append(round(random.uniform(.6, .7), 2))\n",
    "        else:\n",
    "            RANK.append(round(random.uniform(0, .6), 2))\n",
    "\n",
    "    # Setting up Random Work 0 did not work 1 did, Scalling it toward working have lower GPA\n",
    "    WORKED = []\n",
    "    for num in enumerate(GPA):\n",
    "        if num[1] > 2:\n",
    "            rand_work = random.randint(0, 60)\n",
    "            if rand_work > 50:\n",
    "                WORKED.append(1)\n",
    "            else:\n",
    "                WORKED.append(0)\n",
    "        else:\n",
    "            rand_work = random.randint(30, 100)\n",
    "            if rand_work > 50:\n",
    "                WORKED.append(1)\n",
    "            else:\n",
    "                WORKED.append(0)\n",
    "\n",
    "    #  Setting up if they Graduated College\n",
    "    for num in enumerate(GPA):\n",
    "        if num[1] > 2:\n",
    "            rand_work = random.randint(0, 60)\n",
    "            if rand_work > 50:\n",
    "                WORKED.append(1)\n",
    "            else:\n",
    "                WORKED.append(0)\n",
    "        else:\n",
    "            rand_work = random.randint(30, 100)\n",
    "            if rand_work > 50:\n",
    "                WORKED.append(1)\n",
    "            else:\n",
    "                WORKED.append(0)\n",
    "\n",
    "    # List of lists\n",
    "    list_o_lists = []\n",
    "    for num in enumerate(GPA):\n",
    "        list_o_lists.append([GPA[num[0]],RANK[num[0]], WORKED[num[0]]])\n",
    "        \n",
    "    for person in enumerate(list_o_lists):\n",
    "        if sum(person[1]) > 3:\n",
    "            list_o_lists[person[0]].append(1)\n",
    "        else:\n",
    "            list_o_lists[person[0]].append(0)\n",
    "\n",
    "    return list_o_lists"
   ]
  },
  {
   "cell_type": "code",
   "execution_count": 55,
   "id": "b76eead6-18cc-4ee4-9ba2-19a65c8a592f",
   "metadata": {},
   "outputs": [
    {
     "data": {
      "text/plain": [
       "(12, 4)"
      ]
     },
     "execution_count": 55,
     "metadata": {},
     "output_type": "execute_result"
    }
   ],
   "source": [
    "data = pd.DataFrame(create_student(12), columns=['GPA', 'Rank', 'Worked', '>6Years'])\n",
    "data.shape"
   ]
  },
  {
   "cell_type": "code",
   "execution_count": 56,
   "id": "573f7c08-0ed4-4986-9f1a-b57a76fd7a2b",
   "metadata": {},
   "outputs": [
    {
     "data": {
      "text/plain": [
       "array([[1.],\n",
       "       [0.],\n",
       "       [1.],\n",
       "       [1.],\n",
       "       [1.],\n",
       "       [1.],\n",
       "       [0.],\n",
       "       [0.],\n",
       "       [1.],\n",
       "       [0.],\n",
       "       [0.],\n",
       "       [1.]])"
      ]
     },
     "execution_count": 56,
     "metadata": {},
     "output_type": "execute_result"
    }
   ],
   "source": [
    "labels = np.array(data)[:,-1:]\n",
    "labels"
   ]
  },
  {
   "cell_type": "code",
   "execution_count": 57,
   "id": "0a7766c0-5a4b-4d1f-8780-b39380ff8a6f",
   "metadata": {},
   "outputs": [
    {
     "data": {
      "text/plain": [
       "array([[2.49, 0.7 , 0.  ],\n",
       "       [1.8 , 0.19, 1.  ],\n",
       "       [2.91, 0.72, 0.  ],\n",
       "       [1.73, 0.58, 1.  ],\n",
       "       [2.42, 0.63, 0.  ],\n",
       "       [3.91, 0.96, 0.  ],\n",
       "       [1.26, 0.36, 1.  ],\n",
       "       [1.95, 0.38, 0.  ],\n",
       "       [3.03, 0.89, 0.  ],\n",
       "       [1.26, 0.58, 1.  ],\n",
       "       [1.46, 0.42, 1.  ],\n",
       "       [3.48, 0.88, 1.  ]])"
      ]
     },
     "execution_count": 57,
     "metadata": {},
     "output_type": "execute_result"
    }
   ],
   "source": [
    "features = np.array(data)[:,:3]\n",
    "features"
   ]
  },
  {
   "cell_type": "code",
   "execution_count": 58,
   "id": "1decea27-bdfd-443b-9ce5-eb057d77ce62",
   "metadata": {},
   "outputs": [
    {
     "name": "stdout",
     "output_type": "stream",
     "text": [
      "<class 'sklearn.tree._classes.DecisionTreeClassifier'>\n",
      "DecisionTreeClassifier(criterion='entropy')\n",
      "\n",
      "Now 'predicting class' of the first 6 elements of the training data.\n",
      "test data = [[4.0, 0.9, 1], [1.0, 0.1, 0]]\n",
      "data are classified as:\n",
      "[[0. 1.]\n",
      " [1. 0.]]\n",
      "\n",
      "Now printing export_text(clf2)\n",
      "|--- feature_0 <= 2.19\n",
      "|   |--- feature_1 <= 0.50\n",
      "|   |   |--- class: 0.0\n",
      "|   |--- feature_1 >  0.50\n",
      "|   |   |--- feature_0 <= 1.50\n",
      "|   |   |   |--- class: 0.0\n",
      "|   |   |--- feature_0 >  1.50\n",
      "|   |   |   |--- class: 1.0\n",
      "|--- feature_0 >  2.19\n",
      "|   |--- class: 1.0\n",
      "\n"
     ]
    }
   ],
   "source": [
    "# clf2 = tree.DecisionTreeClassifier()  # if not criterion supplied uses Gini\n",
    "clf2 = tree.DecisionTreeClassifier(criterion=\"entropy\")\n",
    "clf2 = clf2.fit(features,labels)\n",
    "\n",
    "print(type(clf2))\n",
    "print(clf2)\n",
    "\n",
    "# Simple/silly test by looking up  the first 6 tuples\n",
    "# since classifications = [0,0,1,1,1,0,1,0,1,1,1,1,1,0], predict should be 0,0,1,1,1,0\n",
    "# i.e, by definition they should be classified correctly since used to build the tree!\n",
    "print(\"\\nNow 'predicting class' of the first 6 elements of the training data.\")\n",
    "testData = [[4.0,0.9,1], [1.0,.1,0]]\n",
    "foo = clf2.predict_proba( testData )\n",
    "print(\"test data = \" + str(testData))\n",
    "print(\"data are classified as:\")\n",
    "print(foo)\n",
    "\n",
    "# print out the text version of the tree structure\n",
    "treeStruct = export_text(clf2)\n",
    "print(\"\\nNow printing export_text(clf2)\")\n",
    "print(treeStruct)"
   ]
  },
  {
   "cell_type": "code",
   "execution_count": 65,
   "id": "6cbcdacf-4397-43c6-b7d7-6d57bad5da07",
   "metadata": {},
   "outputs": [
    {
     "name": "stdout",
     "output_type": "stream",
     "text": [
      "clf2.apply( features ):\n",
      "[6 2 6 5 6 6 2 2 6 4 2 6]\n",
      "\n",
      "Now printing each tuple with the decision tree node it ends up in:\n",
      "[2.49 0.7  0.  ],6\n",
      "[1.8  0.19 1.  ],2\n",
      "[2.91 0.72 0.  ],6\n",
      "[1.73 0.58 1.  ],5\n",
      "[2.42 0.63 0.  ],6\n",
      "[3.91 0.96 0.  ],6\n",
      "[1.26 0.36 1.  ],2\n",
      "[1.95 0.38 0.  ],2\n",
      "[3.03 0.89 0.  ],6\n",
      "[1.26 0.58 1.  ],4\n",
      "[1.46 0.42 1.  ],2\n",
      "[3.48 0.88 1.  ],6\n"
     ]
    },
    {
     "data": {
      "image/svg+xml": [
       "<?xml version=\"1.0\" encoding=\"UTF-8\" standalone=\"no\"?>\r\n",
       "<!DOCTYPE svg PUBLIC \"-//W3C//DTD SVG 1.1//EN\"\r\n",
       " \"http://www.w3.org/Graphics/SVG/1.1/DTD/svg11.dtd\">\r\n",
       "<!-- Generated by graphviz version 2.49.1 (0)\r\n",
       " -->\r\n",
       "<!-- Title: Tree Pages: 1 -->\r\n",
       "<svg width=\"679pt\" height=\"493pt\"\r\n",
       " viewBox=\"0.00 0.00 678.50 493.00\" xmlns=\"http://www.w3.org/2000/svg\" xmlns:xlink=\"http://www.w3.org/1999/xlink\">\r\n",
       "<g id=\"graph0\" class=\"graph\" transform=\"scale(1 1) rotate(0) translate(4 489)\">\r\n",
       "<title>Tree</title>\r\n",
       "<polygon fill=\"white\" stroke=\"transparent\" points=\"-4,4 -4,-489 674.5,-489 674.5,4 -4,4\"/>\r\n",
       "<!-- 0 -->\r\n",
       "<g id=\"node1\" class=\"node\">\r\n",
       "<title>0</title>\r\n",
       "<path fill=\"#c6e3f8\" stroke=\"black\" d=\"M519.5,-485C519.5,-485 292.5,-485 292.5,-485 286.5,-485 280.5,-479 280.5,-473 280.5,-473 280.5,-399 280.5,-399 280.5,-393 286.5,-387 292.5,-387 292.5,-387 519.5,-387 519.5,-387 525.5,-387 531.5,-393 531.5,-399 531.5,-399 531.5,-473 531.5,-473 531.5,-479 525.5,-485 519.5,-485\"/>\r\n",
       "<text text-anchor=\"start\" x=\"380.5\" y=\"-469.8\" font-family=\"Helvetica,sans-Serif\" font-size=\"14.00\">node #0</text>\r\n",
       "<text text-anchor=\"start\" x=\"366.5\" y=\"-454.8\" font-family=\"Helvetica,sans-Serif\" font-size=\"14.00\">GPA ≤ 2.185</text>\r\n",
       "<text text-anchor=\"start\" x=\"361\" y=\"-439.8\" font-family=\"Helvetica,sans-Serif\" font-size=\"14.00\">entropy = 0.98</text>\r\n",
       "<text text-anchor=\"start\" x=\"364\" y=\"-424.8\" font-family=\"Helvetica,sans-Serif\" font-size=\"14.00\">samples = 12</text>\r\n",
       "<text text-anchor=\"start\" x=\"365.5\" y=\"-409.8\" font-family=\"Helvetica,sans-Serif\" font-size=\"14.00\">value = [5, 7]</text>\r\n",
       "<text text-anchor=\"start\" x=\"288.5\" y=\"-394.8\" font-family=\"Helvetica,sans-Serif\" font-size=\"14.00\">class = Graduate Under Than 6 Years</text>\r\n",
       "</g>\r\n",
       "<!-- 1 -->\r\n",
       "<g id=\"node2\" class=\"node\">\r\n",
       "<title>1</title>\r\n",
       "<path fill=\"#ea9a61\" stroke=\"black\" d=\"M387,-351C387,-351 151,-351 151,-351 145,-351 139,-345 139,-339 139,-339 139,-265 139,-265 139,-259 145,-253 151,-253 151,-253 387,-253 387,-253 393,-253 399,-259 399,-265 399,-265 399,-339 399,-339 399,-345 393,-351 387,-351\"/>\r\n",
       "<text text-anchor=\"start\" x=\"243.5\" y=\"-335.8\" font-family=\"Helvetica,sans-Serif\" font-size=\"14.00\">node #1</text>\r\n",
       "<text text-anchor=\"start\" x=\"235\" y=\"-320.8\" font-family=\"Helvetica,sans-Serif\" font-size=\"14.00\">Rank ≤ 0.5</text>\r\n",
       "<text text-anchor=\"start\" x=\"224\" y=\"-305.8\" font-family=\"Helvetica,sans-Serif\" font-size=\"14.00\">entropy = 0.65</text>\r\n",
       "<text text-anchor=\"start\" x=\"231\" y=\"-290.8\" font-family=\"Helvetica,sans-Serif\" font-size=\"14.00\">samples = 6</text>\r\n",
       "<text text-anchor=\"start\" x=\"228.5\" y=\"-275.8\" font-family=\"Helvetica,sans-Serif\" font-size=\"14.00\">value = [5, 1]</text>\r\n",
       "<text text-anchor=\"start\" x=\"147\" y=\"-260.8\" font-family=\"Helvetica,sans-Serif\" font-size=\"14.00\">class = Graduate Greater Than 6 Years</text>\r\n",
       "</g>\r\n",
       "<!-- 0&#45;&gt;1 -->\r\n",
       "<g id=\"edge1\" class=\"edge\">\r\n",
       "<title>0&#45;&gt;1</title>\r\n",
       "<path fill=\"none\" stroke=\"black\" d=\"M356.15,-386.97C346.52,-377.69 336.35,-367.9 326.5,-358.4\"/>\r\n",
       "<polygon fill=\"black\" stroke=\"black\" points=\"328.67,-355.63 319.04,-351.21 323.81,-360.67 328.67,-355.63\"/>\r\n",
       "<text text-anchor=\"middle\" x=\"319.5\" y=\"-372.51\" font-family=\"Helvetica,sans-Serif\" font-size=\"14.00\">True</text>\r\n",
       "</g>\r\n",
       "<!-- 6 -->\r\n",
       "<g id=\"node7\" class=\"node\">\r\n",
       "<title>6</title>\r\n",
       "<path fill=\"#399de5\" stroke=\"black\" d=\"M656.5,-343.5C656.5,-343.5 429.5,-343.5 429.5,-343.5 423.5,-343.5 417.5,-337.5 417.5,-331.5 417.5,-331.5 417.5,-272.5 417.5,-272.5 417.5,-266.5 423.5,-260.5 429.5,-260.5 429.5,-260.5 656.5,-260.5 656.5,-260.5 662.5,-260.5 668.5,-266.5 668.5,-272.5 668.5,-272.5 668.5,-331.5 668.5,-331.5 668.5,-337.5 662.5,-343.5 656.5,-343.5\"/>\r\n",
       "<text text-anchor=\"start\" x=\"517.5\" y=\"-328.3\" font-family=\"Helvetica,sans-Serif\" font-size=\"14.00\">node #6</text>\r\n",
       "<text text-anchor=\"start\" x=\"501.5\" y=\"-313.3\" font-family=\"Helvetica,sans-Serif\" font-size=\"14.00\">entropy = 0.0</text>\r\n",
       "<text text-anchor=\"start\" x=\"505\" y=\"-298.3\" font-family=\"Helvetica,sans-Serif\" font-size=\"14.00\">samples = 6</text>\r\n",
       "<text text-anchor=\"start\" x=\"502.5\" y=\"-283.3\" font-family=\"Helvetica,sans-Serif\" font-size=\"14.00\">value = [0, 6]</text>\r\n",
       "<text text-anchor=\"start\" x=\"425.5\" y=\"-268.3\" font-family=\"Helvetica,sans-Serif\" font-size=\"14.00\">class = Graduate Under Than 6 Years</text>\r\n",
       "</g>\r\n",
       "<!-- 0&#45;&gt;6 -->\r\n",
       "<g id=\"edge6\" class=\"edge\">\r\n",
       "<title>0&#45;&gt;6</title>\r\n",
       "<path fill=\"none\" stroke=\"black\" d=\"M455.85,-386.97C468.01,-375.25 481.03,-362.71 493.19,-350.99\"/>\r\n",
       "<polygon fill=\"black\" stroke=\"black\" points=\"495.86,-353.28 500.64,-343.82 491.01,-348.23 495.86,-353.28\"/>\r\n",
       "<text text-anchor=\"middle\" x=\"500.17\" y=\"-365.11\" font-family=\"Helvetica,sans-Serif\" font-size=\"14.00\">False</text>\r\n",
       "</g>\r\n",
       "<!-- 2 -->\r\n",
       "<g id=\"node3\" class=\"node\">\r\n",
       "<title>2</title>\r\n",
       "<path fill=\"#e58139\" stroke=\"black\" d=\"M248,-209.5C248,-209.5 12,-209.5 12,-209.5 6,-209.5 0,-203.5 0,-197.5 0,-197.5 0,-138.5 0,-138.5 0,-132.5 6,-126.5 12,-126.5 12,-126.5 248,-126.5 248,-126.5 254,-126.5 260,-132.5 260,-138.5 260,-138.5 260,-197.5 260,-197.5 260,-203.5 254,-209.5 248,-209.5\"/>\r\n",
       "<text text-anchor=\"start\" x=\"104.5\" y=\"-194.3\" font-family=\"Helvetica,sans-Serif\" font-size=\"14.00\">node #2</text>\r\n",
       "<text text-anchor=\"start\" x=\"88.5\" y=\"-179.3\" font-family=\"Helvetica,sans-Serif\" font-size=\"14.00\">entropy = 0.0</text>\r\n",
       "<text text-anchor=\"start\" x=\"92\" y=\"-164.3\" font-family=\"Helvetica,sans-Serif\" font-size=\"14.00\">samples = 4</text>\r\n",
       "<text text-anchor=\"start\" x=\"89.5\" y=\"-149.3\" font-family=\"Helvetica,sans-Serif\" font-size=\"14.00\">value = [4, 0]</text>\r\n",
       "<text text-anchor=\"start\" x=\"8\" y=\"-134.3\" font-family=\"Helvetica,sans-Serif\" font-size=\"14.00\">class = Graduate Greater Than 6 Years</text>\r\n",
       "</g>\r\n",
       "<!-- 1&#45;&gt;2 -->\r\n",
       "<g id=\"edge2\" class=\"edge\">\r\n",
       "<title>1&#45;&gt;2</title>\r\n",
       "<path fill=\"none\" stroke=\"black\" d=\"M218.42,-252.97C206.08,-241.25 192.88,-228.71 180.54,-216.99\"/>\r\n",
       "<polygon fill=\"black\" stroke=\"black\" points=\"182.64,-214.16 172.98,-209.82 177.82,-219.24 182.64,-214.16\"/>\r\n",
       "</g>\r\n",
       "<!-- 3 -->\r\n",
       "<g id=\"node4\" class=\"node\">\r\n",
       "<title>3</title>\r\n",
       "<path fill=\"#ffffff\" stroke=\"black\" d=\"M526,-217C526,-217 290,-217 290,-217 284,-217 278,-211 278,-205 278,-205 278,-131 278,-131 278,-125 284,-119 290,-119 290,-119 526,-119 526,-119 532,-119 538,-125 538,-131 538,-131 538,-205 538,-205 538,-211 532,-217 526,-217\"/>\r\n",
       "<text text-anchor=\"start\" x=\"382.5\" y=\"-201.8\" font-family=\"Helvetica,sans-Serif\" font-size=\"14.00\">node #3</text>\r\n",
       "<text text-anchor=\"start\" x=\"368.5\" y=\"-186.8\" font-family=\"Helvetica,sans-Serif\" font-size=\"14.00\">GPA ≤ 1.495</text>\r\n",
       "<text text-anchor=\"start\" x=\"366.5\" y=\"-171.8\" font-family=\"Helvetica,sans-Serif\" font-size=\"14.00\">entropy = 1.0</text>\r\n",
       "<text text-anchor=\"start\" x=\"370\" y=\"-156.8\" font-family=\"Helvetica,sans-Serif\" font-size=\"14.00\">samples = 2</text>\r\n",
       "<text text-anchor=\"start\" x=\"367.5\" y=\"-141.8\" font-family=\"Helvetica,sans-Serif\" font-size=\"14.00\">value = [1, 1]</text>\r\n",
       "<text text-anchor=\"start\" x=\"286\" y=\"-126.8\" font-family=\"Helvetica,sans-Serif\" font-size=\"14.00\">class = Graduate Greater Than 6 Years</text>\r\n",
       "</g>\r\n",
       "<!-- 1&#45;&gt;3 -->\r\n",
       "<g id=\"edge3\" class=\"edge\">\r\n",
       "<title>1&#45;&gt;3</title>\r\n",
       "<path fill=\"none\" stroke=\"black\" d=\"M319.58,-252.97C329.44,-243.6 339.86,-233.7 349.95,-224.12\"/>\r\n",
       "<polygon fill=\"black\" stroke=\"black\" points=\"352.39,-226.64 357.23,-217.21 347.57,-221.56 352.39,-226.64\"/>\r\n",
       "</g>\r\n",
       "<!-- 4 -->\r\n",
       "<g id=\"node5\" class=\"node\">\r\n",
       "<title>4</title>\r\n",
       "<path fill=\"#e58139\" stroke=\"black\" d=\"M389,-83C389,-83 153,-83 153,-83 147,-83 141,-77 141,-71 141,-71 141,-12 141,-12 141,-6 147,0 153,0 153,0 389,0 389,0 395,0 401,-6 401,-12 401,-12 401,-71 401,-71 401,-77 395,-83 389,-83\"/>\r\n",
       "<text text-anchor=\"start\" x=\"245.5\" y=\"-67.8\" font-family=\"Helvetica,sans-Serif\" font-size=\"14.00\">node #4</text>\r\n",
       "<text text-anchor=\"start\" x=\"229.5\" y=\"-52.8\" font-family=\"Helvetica,sans-Serif\" font-size=\"14.00\">entropy = 0.0</text>\r\n",
       "<text text-anchor=\"start\" x=\"233\" y=\"-37.8\" font-family=\"Helvetica,sans-Serif\" font-size=\"14.00\">samples = 1</text>\r\n",
       "<text text-anchor=\"start\" x=\"230.5\" y=\"-22.8\" font-family=\"Helvetica,sans-Serif\" font-size=\"14.00\">value = [1, 0]</text>\r\n",
       "<text text-anchor=\"start\" x=\"149\" y=\"-7.8\" font-family=\"Helvetica,sans-Serif\" font-size=\"14.00\">class = Graduate Greater Than 6 Years</text>\r\n",
       "</g>\r\n",
       "<!-- 3&#45;&gt;4 -->\r\n",
       "<g id=\"edge4\" class=\"edge\">\r\n",
       "<title>3&#45;&gt;4</title>\r\n",
       "<path fill=\"none\" stroke=\"black\" d=\"M355.03,-118.87C344.61,-109.39 333.68,-99.46 323.28,-90.01\"/>\r\n",
       "<polygon fill=\"black\" stroke=\"black\" points=\"325.57,-87.37 315.82,-83.23 320.87,-92.55 325.57,-87.37\"/>\r\n",
       "</g>\r\n",
       "<!-- 5 -->\r\n",
       "<g id=\"node6\" class=\"node\">\r\n",
       "<title>5</title>\r\n",
       "<path fill=\"#399de5\" stroke=\"black\" d=\"M658.5,-83C658.5,-83 431.5,-83 431.5,-83 425.5,-83 419.5,-77 419.5,-71 419.5,-71 419.5,-12 419.5,-12 419.5,-6 425.5,0 431.5,0 431.5,0 658.5,0 658.5,0 664.5,0 670.5,-6 670.5,-12 670.5,-12 670.5,-71 670.5,-71 670.5,-77 664.5,-83 658.5,-83\"/>\r\n",
       "<text text-anchor=\"start\" x=\"519.5\" y=\"-67.8\" font-family=\"Helvetica,sans-Serif\" font-size=\"14.00\">node #5</text>\r\n",
       "<text text-anchor=\"start\" x=\"503.5\" y=\"-52.8\" font-family=\"Helvetica,sans-Serif\" font-size=\"14.00\">entropy = 0.0</text>\r\n",
       "<text text-anchor=\"start\" x=\"507\" y=\"-37.8\" font-family=\"Helvetica,sans-Serif\" font-size=\"14.00\">samples = 1</text>\r\n",
       "<text text-anchor=\"start\" x=\"504.5\" y=\"-22.8\" font-family=\"Helvetica,sans-Serif\" font-size=\"14.00\">value = [0, 1]</text>\r\n",
       "<text text-anchor=\"start\" x=\"427.5\" y=\"-7.8\" font-family=\"Helvetica,sans-Serif\" font-size=\"14.00\">class = Graduate Under Than 6 Years</text>\r\n",
       "</g>\r\n",
       "<!-- 3&#45;&gt;5 -->\r\n",
       "<g id=\"edge5\" class=\"edge\">\r\n",
       "<title>3&#45;&gt;5</title>\r\n",
       "<path fill=\"none\" stroke=\"black\" d=\"M460.97,-118.87C471.39,-109.39 482.32,-99.46 492.72,-90.01\"/>\r\n",
       "<polygon fill=\"black\" stroke=\"black\" points=\"495.13,-92.55 500.18,-83.23 490.43,-87.37 495.13,-92.55\"/>\r\n",
       "</g>\r\n",
       "</g>\r\n",
       "</svg>\r\n"
      ],
      "text/plain": [
       "<graphviz.files.Source at 0x2f1dbd36dc0>"
      ]
     },
     "execution_count": 65,
     "metadata": {},
     "output_type": "execute_result"
    }
   ],
   "source": [
    "# which leaf level nodes did the tuples get assigned to\n",
    "      \n",
    "foo = clf2.apply( features )   # passing in full list of training tuples\n",
    "print(\"clf2.apply( features ):\") \n",
    "print(foo)\n",
    "# now print out line by line as pair:  tuple, which leaf node \n",
    "print(\"\\nNow printing each tuple with the decision tree node it ends up in:\")\n",
    "for i in range(len(foo)):\n",
    "    print(str(features[i]) + \",\" + str(foo[i])) \n",
    "\n",
    "\n",
    "# likely need to install first:\n",
    "# pip install graphviz\n",
    "# https://graphviz.readthedocs.io/en/stable/manual.html\n",
    "\n",
    "from sklearn.tree import export_graphviz\n",
    "import graphviz\n",
    "# NOTE - adding in node_ids and class_names as options to make tree viz more robust\n",
    "dot_data = tree.export_graphviz(clf2,\n",
    "                                node_ids=\"true\",\n",
    "                                feature_names=data.columns.to_list()[:3],\n",
    "                                class_names=('Graduate Greater Than 6 Years','Graduate Under Than 6 Years'),\n",
    "                                out_file=None,\n",
    "                                filled=True,\n",
    "                                rounded=True, special_characters=True)\n",
    "graph = graphviz.Source(dot_data)\n",
    "\n",
    "graph"
   ]
  },
  {
   "cell_type": "code",
   "execution_count": 64,
   "id": "00ce48f1-b091-4750-8f02-b90446994bdb",
   "metadata": {},
   "outputs": [
    {
     "data": {
      "text/plain": [
       "['GPA', 'Rank', 'Worked', '>6Years']"
      ]
     },
     "execution_count": 64,
     "metadata": {},
     "output_type": "execute_result"
    }
   ],
   "source": [
    "data.columns.to_list()"
   ]
  },
  {
   "cell_type": "code",
   "execution_count": null,
   "id": "191508b8-772b-49df-8552-4cf91a750906",
   "metadata": {},
   "outputs": [],
   "source": []
  }
 ],
 "metadata": {
  "kernelspec": {
   "name": "pycharm-865e1948",
   "language": "python",
   "display_name": "PyCharm (GITHUB_REPOSITORY)"
  },
  "language_info": {
   "codemirror_mode": {
    "name": "ipython",
    "version": 3
   },
   "file_extension": ".py",
   "mimetype": "text/x-python",
   "name": "python",
   "nbconvert_exporter": "python",
   "pygments_lexer": "ipython3",
   "version": "3.9.7"
  }
 },
 "nbformat": 4,
 "nbformat_minor": 5
}