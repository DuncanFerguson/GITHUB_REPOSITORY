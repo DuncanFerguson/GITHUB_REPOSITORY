{
 "cells": [
  {
   "cell_type": "code",
   "execution_count": 141,
   "metadata": {
    "collapsed": true
   },
   "outputs": [],
   "source": [
    "import numpy as np\n",
    "import pandas as pd\n",
    "from sklearn.cluster import KMeans\n",
    "from sklearn.cluster import Birch\n",
    "from sklearn.cluster import AgglomerativeClustering\n",
    "from sklearn.cluster import DBSCAN\n",
    "from matplotlib import pyplot as plt\n",
    "\n",
    "np.random.seed(1)"
   ]
  },
  {
   "cell_type": "code",
   "execution_count": 142,
   "outputs": [],
   "source": [
    "def equalProb():\n",
    "    if np.random.random() < 0.5: return 0\n",
    "    else: return 1\n",
    "\n",
    "def boundedNormal(bound, stddev):\n",
    "    rNum = np.random.normal(stddev)\n",
    "    while rNum < -bound or rNum > bound:\n",
    "        rNum = np.random.normal(0, stddev)\n",
    "    return rNum"
   ],
   "metadata": {
    "collapsed": false,
    "pycharm": {
     "name": "#%%\n"
    }
   }
  },
  {
   "cell_type": "code",
   "execution_count": 143,
   "outputs": [],
   "source": [
    "def gen_data_one():\n",
    "    \"\"\"This Function Generates Data Set 1\"\"\"\n",
    "    center1 = 10\n",
    "    center2 = 20\n",
    "    center3 = 30\n",
    "    bound = 10\n",
    "    stddev = 2\n",
    "\n",
    "    tuples = []\n",
    "    numTuples = 1000\n",
    "\n",
    "    for i in range(numTuples):\n",
    "        rNum = np.random.randint(3)\n",
    "        if rNum == 0:\n",
    "            # candidate = 0\n",
    "            rNum = boundedNormal(bound, stddev)\n",
    "            a1 = center1 + rNum\n",
    "            rNum = boundedNormal(bound, stddev)\n",
    "            a2 = center1 + rNum\n",
    "\n",
    "        elif rNum ==1:\n",
    "            # candidate = 1\n",
    "            rNum = boundedNormal(bound+10, stddev+10)\n",
    "            a1 = center2 + rNum\n",
    "            rNum = boundedNormal(bound+5, stddev+5)\n",
    "            a2 = center2 + rNum + 5\n",
    "\n",
    "        else:\n",
    "            # candidate = 2\n",
    "            rNum =boundedNormal(bound+4, stddev)\n",
    "            a1 = center3 + rNum\n",
    "            rNum = boundedNormal(bound+2, stddev)\n",
    "            a2 = center3 + rNum\n",
    "\n",
    "        atuple = (a1, a2)\n",
    "        tuples.append(atuple)\n",
    "\n",
    "    df = pd.DataFrame(tuples, columns=[\"a1\", \"a2\"])\n",
    "    return df"
   ],
   "metadata": {
    "collapsed": false,
    "pycharm": {
     "name": "#%%\n"
    }
   }
  },
  {
   "cell_type": "code",
   "execution_count": 144,
   "outputs": [],
   "source": [
    "\n",
    "def gen_data_two():\n",
    "    \"\"\"This Function Generates Data Set 1\"\"\"\n",
    "    center1 = 15\n",
    "    center2 = 15\n",
    "    center3 = 15\n",
    "    bound = 25\n",
    "    stddev = 2\n",
    "\n",
    "    tuples = []\n",
    "    numTuples = 1000\n",
    "\n",
    "    for i in range(numTuples):\n",
    "        rNum = np.random.randint(3)\n",
    "        if rNum == 0:\n",
    "            # candidate = 0\n",
    "            rNum = boundedNormal(bound, stddev)\n",
    "            a1 = center1 + rNum\n",
    "            rNum = boundedNormal(bound, stddev)\n",
    "            a2 = center1 + rNum\n",
    "\n",
    "        elif rNum ==1:\n",
    "            # candidate = 1\n",
    "            rNum = boundedNormal(bound, stddev)\n",
    "            a1 = center2 + rNum\n",
    "            rNum = boundedNormal(bound, stddev)\n",
    "            a2 = center2 + rNum\n",
    "\n",
    "        else:\n",
    "            # candidate = 2\n",
    "            rNum =boundedNormal(bound, stddev)\n",
    "            a1 = center3 + rNum\n",
    "            rNum = boundedNormal(bound, stddev)\n",
    "            a2 = center3 + rNum\n",
    "\n",
    "        atuple = (a1, a2)\n",
    "        tuples.append(atuple)\n",
    "\n",
    "    df = pd.DataFrame(tuples, columns=[\"a1\", \"a2\"])\n",
    "    return df"
   ],
   "metadata": {
    "collapsed": false,
    "pycharm": {
     "name": "#%%\n"
    }
   }
  },
  {
   "cell_type": "code",
   "execution_count": 145,
   "outputs": [],
   "source": [
    "def plot_clustering(theData, kmeansLabels,brcLabels,aggLabels, dbLabels,graph_title):\n",
    "    fig, ax = plt.subplots(2,2)\n",
    "\n",
    "    # Plotting Kmeans\n",
    "    for i in range(len(theData)):\n",
    "        if kmeansLabels[i] == 0: theColor= \"red\"\n",
    "        if kmeansLabels[i] == 1: theColor= \"green\"\n",
    "        if kmeansLabels[i] == 2: theColor= \"blue\"\n",
    "        ax[0,0].scatter(theData[i][0], theData[i][1], s=9.5, alpha=1.0, color=theColor)\n",
    "        ax[0,0].set_title(\"kmeans\")\n",
    "\n",
    "    # Plotting Birch\n",
    "    for i in range(len(theData)):\n",
    "        if brcLabels[i] == 0: theColor = \"red\"\n",
    "        if brcLabels[i] == 1: theColor = \"green\"\n",
    "        if brcLabels[i] == 2: theColor = \"blue\"\n",
    "        ax[0,1].scatter(theData[i][0], theData[i][1], s=9.5, alpha=1.0, color=theColor)\n",
    "        ax[0,1].set_title(\"birch\")\n",
    "\n",
    "    # Plotting Agglomerative\n",
    "    for i in range(len(theData)):\n",
    "        if aggLabels[i] == 0: theColor = \"red\"\n",
    "        if aggLabels[i] == 1: theColor = \"green\"\n",
    "        if aggLabels[i] == 2: theColor = \"blue\"\n",
    "        ax[1, 0].scatter(theData[i][0], theData[i][1], s=9.5, color=theColor)\n",
    "        ax[1, 0].set_title(\"Agglomerative\")\n",
    "\n",
    "    # Plotting DBScan\n",
    "    for i in range(len(theData)):\n",
    "        if dbLabels[i] ==0: theColor = \"red\"\n",
    "        elif dbLabels[i] == 1: theColor = \"green\"\n",
    "        elif dbLabels[i] == 2: theColor = \"blue\"\n",
    "        ax[1, 1].scatter(theData[i][0], theData[i][1], s= 9.5, alpha=1.0, color=theColor)\n",
    "        ax[1, 1].set_title(\"DBScan\")\n",
    "\n",
    "    fig.tight_layout()\n",
    "    fig.suptitle(graph_title)\n",
    "    fig.subplots_adjust(top=0.88)\n",
    "    plt.figure(figsize=(7, 5))\n",
    "    plt.show()"
   ],
   "metadata": {
    "collapsed": false,
    "pycharm": {
     "name": "#%%\n"
    }
   }
  },
  {
   "cell_type": "code",
   "execution_count": 146,
   "outputs": [],
   "source": [
    "def create_graph(df_in, title):\n",
    "    \"\"\"This Function Goes through and creates the clustring graphs out of the data shown\"\"\"\n",
    "    df = df_in\n",
    "    numClusters= 3\n",
    "    theData = df.to_numpy()\n",
    "\n",
    "    # kMeans\n",
    "    kmeans = KMeans(n_clusters=numClusters, random_state=0).fit(df)\n",
    "\n",
    "    # Birch\n",
    "    brc = Birch(n_clusters=numClusters).fit(df)\n",
    "\n",
    "    # Agglomerative\n",
    "    agg = AgglomerativeClustering(n_clusters=numClusters, linkage=\"ward\").fit(df)\n",
    "\n",
    "    # DBSCAN\n",
    "    db = DBSCAN(eps=1.5, min_samples=4).fit(df)\n",
    "\n",
    "    plot_clustering(theData, kmeans.labels_, brc.labels_,agg.labels_, db.labels_, title)"
   ],
   "metadata": {
    "collapsed": false,
    "pycharm": {
     "name": "#%%\n"
    }
   }
  },
  {
   "cell_type": "code",
   "execution_count": 147,
   "outputs": [
    {
     "data": {
      "text/plain": "<Figure size 432x288 with 4 Axes>",
      "image/png": "[encoded data removed]"
     },
     "metadata": {
      "needs_background": "light"
     },
     "output_type": "display_data"
    },
    {
     "data": {
      "text/plain": "<Figure size 504x360 with 0 Axes>"
     },
     "metadata": {},
     "output_type": "display_data"
    }
   ],
   "source": [
    "df1 = gen_data_one()\n",
    "create_graph(df1, \"Figure 1\")"
   ],
   "metadata": {
    "collapsed": false,
    "pycharm": {
     "name": "#%%\n"
    }
   }
  },
  {
   "cell_type": "code",
   "execution_count": 148,
   "outputs": [
    {
     "data": {
      "text/plain": "<Figure size 432x288 with 4 Axes>",
      "image/png": "[encoded data removed]"
     },
     "metadata": {
      "needs_background": "light"
     },
     "output_type": "display_data"
    },
    {
     "data": {
      "text/plain": "<Figure size 504x360 with 0 Axes>"
     },
     "metadata": {},
     "output_type": "display_data"
    }
   ],
   "source": [
    "df2 = gen_data_two()\n",
    "create_graph(df2, \"Figure 2\")"
   ],
   "metadata": {
    "collapsed": false,
    "pycharm": {
     "name": "#%%\n"
    }
   }
  },
  {
   "cell_type": "markdown",
   "source": [
    "### K-means\n",
    "K- Means starts by clustering the data into n amount of clusters. A random n centroids are selected\n",
    "and then the data is parsed through and each point is then assigned to the cluster in which the centroid it\n",
    "is closest to. The mean of the n clusters is then calculated and theses are assigned as the new centroids.\n",
    "The algrorithm then repeats this processes until the centroids stabalize.\n",
    "\n",
    "The reason that we have outliers in figure the dispersion occurs because the\n",
    "\n",
    "### Birch\n",
    "https://www.geeksforgeeks.org/ml-birch-clustering/\n",
    "Birch starts by building a Clustering Feature Tree. Theses features branches are then broken down into\n",
    "smaller CF tree's. These smaller trees are then Clustered together for the desired amount of clusters.\n",
    "\n",
    "A CF tree is a tree where each leaf node contains a sub-cluster. Every entry in a CF tree contains a pointer to a\n",
    "child node and a CF entry made up of the sum of CF entries in the child nodes. There is a maximum number of entries\n",
    "in each leaf node. This maximum number is called the threshold\n",
    "\n",
    "In figure 1 for the birch algorithm the decision tree breaks the data into\n",
    "-It tries to minimize the distance between any of the points in the trees.\n",
    "-It's going to try to group everything to the closest point\n",
    "-Uses linear sum and the quadratic sums minimize\n",
    "-Average distance from the centroid to any point in the cluster\n",
    "also the average distance between two points.\n",
    "It tries to aoid those long cigar type shapes. Because then the distances get long\n",
    "If it is in a nice ball the average distance get smaller.\n",
    "\n",
    "\n",
    "The difference in figure one the birch algorithm looks more square because it is trying to minimize the\n",
    "distance between all of the points from eachother. This makes the data look more square like than the K means.\n",
    "\n",
    "### Agglomerative\n",
    "https://www.geeksforgeeks.org/agglomerative-methods-in-machine-learning/\n",
    "Starts with everything in their own cluster\n",
    "- Any Pair Wise Distance\n",
    "- Use's a bottom up approach\n",
    "- 'Ward' linkage,\n",
    "-Uses the bottom-up approach. It starts with each object forming its own cluster\n",
    "- then iteratively merges the clusters according to their similarity to form large cluster\n",
    "\n",
    "-In Figure 1. The Red Cluster starts to have a larger variance as it joins clusters together\n",
    "This then increases its variance an and add a larger set of data. Where as the two smaller clusters\n",
    "In Green and Blue pull a tighter spread together.\n",
    "\n",
    "-Agglomerative uses a similiar to the k-means in the way in which the algorithm works\n",
    "which is why they look the same.\n",
    "\n",
    "### dbscan\n",
    "https://www.geeksforgeeks.org/dbscan-clustering-in-ml-density-based-clustering/\n",
    "Assumes the data is spherical. It will calculate sep\n",
    "Differences between nearest points\n",
    "-Is based on the intuitive notion of \"clusters\" and noise. The key idea is that for\n",
    "each point of a cluster, the neighborhood of a given radius has to contain atleast a minumum\n",
    "number of points\n",
    "-DB scan helps create clusters that have arbitrary shapes that might not be spheres.\n",
    "-DB scan works well when the data may have some noise\n",
    "\n",
    "-DBSCAN requires two parameters:\n",
    "1). EPS It defines the neighborhood around a data point. If the distances between two points is lower\n",
    "or equal to the eps then they are considered as neighbors. If the eps value chosen is too small\n",
    "then large part of the data will be considered outlires.\n",
    "If the EPS is large then the clusters will merge together.\n",
    "EPS k-distrance Graph\n",
    "\n",
    "\n",
    "2). MinPts. Minimum number of neighbors (data points) within eps radius.\n",
    "The larger the data set the larger the minpoints must be chosen.\n",
    "The min points is the amount of dimensions +1\n",
    "\n",
    "Minpoints must be three"
   ],
   "metadata": {
    "collapsed": false,
    "pycharm": {
     "name": "#%% md\n"
    }
   }
  }
 ],
 "metadata": {
  "kernelspec": {
   "name": "pycharm-865e1948",
   "language": "python",
   "display_name": "PyCharm (GITHUB_REPOSITORY)"
  },
  "language_info": {
   "codemirror_mode": {
    "name": "ipython",
    "version": 2
   },
   "file_extension": ".py",
   "mimetype": "text/x-python",
   "name": "python",
   "nbconvert_exporter": "python",
   "pygments_lexer": "ipython2",
   "version": "2.7.6"
  }
 },
 "nbformat": 4,
 "nbformat_minor": 0
}