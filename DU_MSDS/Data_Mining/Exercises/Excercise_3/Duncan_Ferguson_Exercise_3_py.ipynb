{
 "cells": [
  {
   "cell_type": "markdown",
   "metadata": {
    "collapsed": true,
    "pycharm": {
     "name": "#%% md\n"
    }
   },
   "source": [
    "Student: Duncan Ferguson <br>\n",
    "Student Id: 871641260 <br>\n",
    "Class: Comp 4431-1 <br>\n",
    "Assignment: Excercise 2 <br>\n",
    "Date: 9/24/2021 <br>\n",
    "Group: Name: Broken Toe <br>\n",
    "Group Members: Emma Bright, Mike Santoro <br>"
   ]
  },
  {
   "cell_type": "code",
   "execution_count": 456,
   "outputs": [],
   "source": [
    "import numpy as np\n",
    "import pandas as pd"
   ],
   "metadata": {
    "collapsed": false,
    "pycharm": {
     "name": "#%%\n"
    }
   }
  },
  {
   "cell_type": "code",
   "execution_count": 457,
   "outputs": [
    {
     "data": {
      "text/plain": "      transactionid num_items_purchase total_price  date  store  category\n0                 0                  1        2.35    12      5         9\n1                 1                 10       59.24     2      0         6\n2                 1                  7       10.02     2      0         5\n3                 1                 10       32.00     2      0         2\n4                 1                  1        2.77     2      0         1\n...             ...                ...         ...   ...    ...       ...\n26154          9996                  4       23.36    10      4         0\n26155          9997                  4       35.81     1      6         4\n26156          9997                  2        9.20     1      6         7\n26157          9998                  4       37.84     6      4         4\n26158          9999                  2        8.71     4      2         9\n\n[26159 rows x 6 columns]",
      "text/html": "<div>\n<style scoped>\n    .dataframe tbody tr th:only-of-type {\n        vertical-align: middle;\n    }\n\n    .dataframe tbody tr th {\n        vertical-align: top;\n    }\n\n    .dataframe thead th {\n        text-align: right;\n    }\n</style>\n<table border=\"1\" class=\"dataframe\">\n  <thead>\n    <tr style=\"text-align: right;\">\n      <th></th>\n      <th>transactionid</th>\n      <th>num_items_purchase</th>\n      <th>total_price</th>\n      <th>date</th>\n      <th>store</th>\n      <th>category</th>\n    </tr>\n  </thead>\n  <tbody>\n    <tr>\n      <th>0</th>\n      <td>0</td>\n      <td>1</td>\n      <td>2.35</td>\n      <td>12</td>\n      <td>5</td>\n      <td>9</td>\n    </tr>\n    <tr>\n      <th>1</th>\n      <td>1</td>\n      <td>10</td>\n      <td>59.24</td>\n      <td>2</td>\n      <td>0</td>\n      <td>6</td>\n    </tr>\n    <tr>\n      <th>2</th>\n      <td>1</td>\n      <td>7</td>\n      <td>10.02</td>\n      <td>2</td>\n      <td>0</td>\n      <td>5</td>\n    </tr>\n    <tr>\n      <th>3</th>\n      <td>1</td>\n      <td>10</td>\n      <td>32.00</td>\n      <td>2</td>\n      <td>0</td>\n      <td>2</td>\n    </tr>\n    <tr>\n      <th>4</th>\n      <td>1</td>\n      <td>1</td>\n      <td>2.77</td>\n      <td>2</td>\n      <td>0</td>\n      <td>1</td>\n    </tr>\n    <tr>\n      <th>...</th>\n      <td>...</td>\n      <td>...</td>\n      <td>...</td>\n      <td>...</td>\n      <td>...</td>\n      <td>...</td>\n    </tr>\n    <tr>\n      <th>26154</th>\n      <td>9996</td>\n      <td>4</td>\n      <td>23.36</td>\n      <td>10</td>\n      <td>4</td>\n      <td>0</td>\n    </tr>\n    <tr>\n      <th>26155</th>\n      <td>9997</td>\n      <td>4</td>\n      <td>35.81</td>\n      <td>1</td>\n      <td>6</td>\n      <td>4</td>\n    </tr>\n    <tr>\n      <th>26156</th>\n      <td>9997</td>\n      <td>2</td>\n      <td>9.20</td>\n      <td>1</td>\n      <td>6</td>\n      <td>7</td>\n    </tr>\n    <tr>\n      <th>26157</th>\n      <td>9998</td>\n      <td>4</td>\n      <td>37.84</td>\n      <td>6</td>\n      <td>4</td>\n      <td>4</td>\n    </tr>\n    <tr>\n      <th>26158</th>\n      <td>9999</td>\n      <td>2</td>\n      <td>8.71</td>\n      <td>4</td>\n      <td>2</td>\n      <td>9</td>\n    </tr>\n  </tbody>\n</table>\n<p>26159 rows × 6 columns</p>\n</div>"
     },
     "execution_count": 457,
     "metadata": {},
     "output_type": "execute_result"
    }
   ],
   "source": [
    "locations = ['SouthGlenn','Tamarac','HighlandsRanch','ColoradoBlvd','WashingtonPark','CherryCreek',\n",
    "             'GovernorsRanch','UnionStation','CastleRock']\n",
    "itemCategories = ['produce', 'meat', 'bakery', 'freezer', 'dairy', 'deli', 'snack', 'softdrinks',\n",
    "                  'beer', 'household']\n",
    "numLocations = len(locations)\n",
    "numItemCategories = len(itemCategories)\n",
    "\n",
    "# Creating Index Dictionary For the locations and items index's\n",
    "location_dic = {locations[i]:i for i in range(0, numLocations)}\n",
    "itemCategories_dic = {itemCategories[i]: i for i in range(0, numItemCategories)}\n",
    "\n",
    "# Loading the data in as np array\n",
    "data = np.loadtxt(\"ds_ex3.txt\", dtype='str')\n",
    "\n",
    "# Converting the np ara to a panda for manipulation\n",
    "df = pd.DataFrame(data, columns=[\"transactionid\", \"num_items_purchase\",\n",
    "                       \"total_price\",\"date\", \"store\",\"category\"])\n",
    "df['date'] = df['date'].str[5:7]\n",
    "df['date'] = pd.to_numeric(df['date'], downcast='integer')\n",
    "df['store'] = df['store'].map(location_dic)\n",
    "df['category'] = df['category'].map(itemCategories_dic)\n",
    "df"
   ],
   "metadata": {
    "collapsed": false,
    "pycharm": {
     "name": "#%%\n"
    }
   }
  },
  {
   "cell_type": "code",
   "execution_count": 458,
   "outputs": [
    {
     "data": {
      "text/plain": "array([[[[0., 0.],\n         [0., 0.],\n         [0., 0.],\n         ...,\n         [0., 0.],\n         [0., 0.],\n         [0., 0.]],\n\n        [[0., 0.],\n         [0., 0.],\n         [0., 0.],\n         ...,\n         [0., 0.],\n         [0., 0.],\n         [0., 0.]],\n\n        [[0., 0.],\n         [0., 0.],\n         [0., 0.],\n         ...,\n         [0., 0.],\n         [0., 0.],\n         [0., 0.]],\n\n        ...,\n\n        [[0., 0.],\n         [0., 0.],\n         [0., 0.],\n         ...,\n         [0., 0.],\n         [0., 0.],\n         [0., 0.]],\n\n        [[0., 0.],\n         [0., 0.],\n         [0., 0.],\n         ...,\n         [0., 0.],\n         [0., 0.],\n         [0., 0.]],\n\n        [[0., 0.],\n         [0., 0.],\n         [0., 0.],\n         ...,\n         [0., 0.],\n         [0., 0.],\n         [0., 0.]]],\n\n\n       [[[0., 0.],\n         [0., 0.],\n         [0., 0.],\n         ...,\n         [0., 0.],\n         [0., 0.],\n         [0., 0.]],\n\n        [[0., 0.],\n         [0., 0.],\n         [0., 0.],\n         ...,\n         [0., 0.],\n         [0., 0.],\n         [0., 0.]],\n\n        [[0., 0.],\n         [0., 0.],\n         [0., 0.],\n         ...,\n         [0., 0.],\n         [0., 0.],\n         [0., 0.]],\n\n        ...,\n\n        [[0., 0.],\n         [0., 0.],\n         [0., 0.],\n         ...,\n         [0., 0.],\n         [0., 0.],\n         [0., 0.]],\n\n        [[0., 0.],\n         [0., 0.],\n         [0., 0.],\n         ...,\n         [0., 0.],\n         [0., 0.],\n         [0., 0.]],\n\n        [[0., 0.],\n         [0., 0.],\n         [0., 0.],\n         ...,\n         [0., 0.],\n         [0., 0.],\n         [0., 0.]]],\n\n\n       [[[0., 0.],\n         [0., 0.],\n         [0., 0.],\n         ...,\n         [0., 0.],\n         [0., 0.],\n         [0., 0.]],\n\n        [[0., 0.],\n         [0., 0.],\n         [0., 0.],\n         ...,\n         [0., 0.],\n         [0., 0.],\n         [0., 0.]],\n\n        [[0., 0.],\n         [0., 0.],\n         [0., 0.],\n         ...,\n         [0., 0.],\n         [0., 0.],\n         [0., 0.]],\n\n        ...,\n\n        [[0., 0.],\n         [0., 0.],\n         [0., 0.],\n         ...,\n         [0., 0.],\n         [0., 0.],\n         [0., 0.]],\n\n        [[0., 0.],\n         [0., 0.],\n         [0., 0.],\n         ...,\n         [0., 0.],\n         [0., 0.],\n         [0., 0.]],\n\n        [[0., 0.],\n         [0., 0.],\n         [0., 0.],\n         ...,\n         [0., 0.],\n         [0., 0.],\n         [0., 0.]]],\n\n\n       ...,\n\n\n       [[[0., 0.],\n         [0., 0.],\n         [0., 0.],\n         ...,\n         [0., 0.],\n         [0., 0.],\n         [0., 0.]],\n\n        [[0., 0.],\n         [0., 0.],\n         [0., 0.],\n         ...,\n         [0., 0.],\n         [0., 0.],\n         [0., 0.]],\n\n        [[0., 0.],\n         [0., 0.],\n         [0., 0.],\n         ...,\n         [0., 0.],\n         [0., 0.],\n         [0., 0.]],\n\n        ...,\n\n        [[0., 0.],\n         [0., 0.],\n         [0., 0.],\n         ...,\n         [0., 0.],\n         [0., 0.],\n         [0., 0.]],\n\n        [[0., 0.],\n         [0., 0.],\n         [0., 0.],\n         ...,\n         [0., 0.],\n         [0., 0.],\n         [0., 0.]],\n\n        [[0., 0.],\n         [0., 0.],\n         [0., 0.],\n         ...,\n         [0., 0.],\n         [0., 0.],\n         [0., 0.]]],\n\n\n       [[[0., 0.],\n         [0., 0.],\n         [0., 0.],\n         ...,\n         [0., 0.],\n         [0., 0.],\n         [0., 0.]],\n\n        [[0., 0.],\n         [0., 0.],\n         [0., 0.],\n         ...,\n         [0., 0.],\n         [0., 0.],\n         [0., 0.]],\n\n        [[0., 0.],\n         [0., 0.],\n         [0., 0.],\n         ...,\n         [0., 0.],\n         [0., 0.],\n         [0., 0.]],\n\n        ...,\n\n        [[0., 0.],\n         [0., 0.],\n         [0., 0.],\n         ...,\n         [0., 0.],\n         [0., 0.],\n         [0., 0.]],\n\n        [[0., 0.],\n         [0., 0.],\n         [0., 0.],\n         ...,\n         [0., 0.],\n         [0., 0.],\n         [0., 0.]],\n\n        [[0., 0.],\n         [0., 0.],\n         [0., 0.],\n         ...,\n         [0., 0.],\n         [0., 0.],\n         [0., 0.]]],\n\n\n       [[[0., 0.],\n         [0., 0.],\n         [0., 0.],\n         ...,\n         [0., 0.],\n         [0., 0.],\n         [0., 0.]],\n\n        [[0., 0.],\n         [0., 0.],\n         [0., 0.],\n         ...,\n         [0., 0.],\n         [0., 0.],\n         [0., 0.]],\n\n        [[0., 0.],\n         [0., 0.],\n         [0., 0.],\n         ...,\n         [0., 0.],\n         [0., 0.],\n         [0., 0.]],\n\n        ...,\n\n        [[0., 0.],\n         [0., 0.],\n         [0., 0.],\n         ...,\n         [0., 0.],\n         [0., 0.],\n         [0., 0.]],\n\n        [[0., 0.],\n         [0., 0.],\n         [0., 0.],\n         ...,\n         [0., 0.],\n         [0., 0.],\n         [0., 0.]],\n\n        [[0., 0.],\n         [0., 0.],\n         [0., 0.],\n         ...,\n         [0., 0.],\n         [0., 0.],\n         [0., 0.]]]])"
     },
     "execution_count": 458,
     "metadata": {},
     "output_type": "execute_result"
    }
   ],
   "source": [
    "# Creating a 3D numpy Array\n",
    "cube = np.zeros((12, numLocations, numItemCategories, 2))\n",
    "cube"
   ],
   "metadata": {
    "collapsed": false,
    "pycharm": {
     "name": "#%%\n"
    }
   }
  },
  {
   "cell_type": "code",
   "execution_count": 459,
   "outputs": [
    {
     "data": {
      "text/plain": "array([[[ 134.  ,  224.96],\n        [  77.  ,  585.96],\n        [ 129.  ,  495.96],\n        [ 206.  ,  764.61],\n        [ 163.  ,  594.64],\n        [ 157.  ,  659.65],\n        [ 210.  ,  671.8 ],\n        [ 215.  ,  652.36],\n        [ 253.  ,  886.42],\n        [  79.  ,  240.44]],\n\n       [[ 114.  ,  285.47],\n        [  65.  ,  674.84],\n        [ 137.  ,  646.25],\n        [  82.  ,  346.51],\n        [ 133.  ,  662.77],\n        [ 118.  ,  601.63],\n        [ 133.  ,  573.66],\n        [  72.  ,  351.29],\n        [ 151.  , 1268.28],\n        [  44.  ,  170.74]],\n\n       [[ 178.  ,  436.66],\n        [ 142.  , 1905.17],\n        [ 316.  , 1851.68],\n        [ 204.  , 1331.75],\n        [ 200.  , 1066.79],\n        [ 236.  , 1410.95],\n        [ 300.  , 1855.59],\n        [ 280.  , 1840.54],\n        [ 298.  , 2846.96],\n        [  76.  ,  387.62]],\n\n       [[ 144.  ,  348.45],\n        [  61.  ,  535.49],\n        [ 131.  ,  707.95],\n        [ 122.  ,  691.06],\n        [ 125.  ,  539.95],\n        [ 133.  ,  617.76],\n        [ 107.  ,  423.4 ],\n        [  89.  ,  518.19],\n        [ 136.  , 1155.78],\n        [  47.  ,  200.18]],\n\n       [[  68.  ,  221.56],\n        [  39.  ,  589.38],\n        [  65.  ,  498.01],\n        [  88.  ,  629.09],\n        [  54.  ,  367.78],\n        [  89.  ,  658.31],\n        [  78.  ,  624.05],\n        [  91.  ,  848.11],\n        [  93.  , 1345.02],\n        [  27.  ,  188.26]],\n\n       [[  31.  ,  154.91],\n        [  22.  ,  529.5 ],\n        [  46.  ,  521.06],\n        [  36.  ,  343.61],\n        [  54.  ,  555.42],\n        [  37.  ,  412.6 ],\n        [  39.  ,  501.27],\n        [  49.  ,  519.38],\n        [  42.  ,  429.46],\n        [  21.  ,  144.4 ]],\n\n       [[ 134.  ,  297.1 ],\n        [  65.  ,  778.04],\n        [ 117.  ,  743.72],\n        [  77.  ,  424.46],\n        [ 121.  ,  494.19],\n        [  96.  ,  381.05],\n        [ 126.  ,  730.15],\n        [ 110.  ,  475.56],\n        [  96.  ,  971.74],\n        [  37.  ,  169.96]],\n\n       [[  25.  ,  177.76],\n        [  24.  ,  570.01],\n        [  26.  ,  296.8 ],\n        [  28.  ,  354.12],\n        [  27.  ,  467.41],\n        [  21.  ,  381.13],\n        [  18.  ,  281.49],\n        [  30.  ,  425.43],\n        [  31.  ,  766.56],\n        [  25.  ,  303.05]],\n\n       [[ 132.  ,  280.84],\n        [  64.  ,  516.8 ],\n        [ 167.  ,  603.89],\n        [  99.  ,  363.57],\n        [ 132.  ,  359.22],\n        [ 128.  ,  462.69],\n        [ 141.  ,  472.83],\n        [  98.  ,  338.1 ],\n        [ 153.  ,  908.86],\n        [  60.  ,  162.52]]])"
     },
     "execution_count": 459,
     "metadata": {},
     "output_type": "execute_result"
    }
   ],
   "source": [
    "for index, row in df.iterrows():\n",
    "    # Month               # Store            # Category\n",
    "    cube[row.values[3]-1][row.values[4]][row.values[5]][0] += float(row.values[1])  # Adding in Quantity\n",
    "    cube[row.values[3]-1][row.values[4]][row.values[5]][1] += float(row.values[2])  # Adding in Total Price\n",
    "cube[0]"
   ],
   "metadata": {
    "collapsed": false,
    "pycharm": {
     "name": "#%%\n"
    }
   }
  },
  {
   "cell_type": "code",
   "execution_count": 460,
   "outputs": [
    {
     "data": {
      "text/plain": "(12, 9, 2)"
     },
     "execution_count": 460,
     "metadata": {},
     "output_type": "execute_result"
    }
   ],
   "source": [
    "numLocations_2d = np.zeros((12, numLocations, 2))\n",
    "numItemCategories_2d = np.zeros((12, numItemCategories, 2))\n",
    "\n",
    "np.shape(numLocations_2d)"
   ],
   "metadata": {
    "collapsed": false,
    "pycharm": {
     "name": "#%%\n"
    }
   }
  },
  {
   "cell_type": "code",
   "execution_count": 461,
   "outputs": [
    {
     "data": {
      "text/plain": "(12, 10, 2)"
     },
     "execution_count": 461,
     "metadata": {},
     "output_type": "execute_result"
    }
   ],
   "source": [
    "# Getting 2d numItemCategories Shape\n",
    "np.shape(numItemCategories_2d)"
   ],
   "metadata": {
    "collapsed": false,
    "pycharm": {
     "name": "#%%\n"
    }
   }
  },
  {
   "cell_type": "code",
   "execution_count": 462,
   "outputs": [
    {
     "data": {
      "text/plain": "array([[ 1623.  ,  5776.8 ],\n       [ 1049.  ,  5581.44],\n       [ 2230.  , 14933.71],\n       [ 1095.  ,  5738.21],\n       [  692.  ,  5969.57],\n       [  377.  ,  4111.61],\n       [  979.  ,  5465.97],\n       [  255.  ,  4023.76],\n       [ 1174.  ,  4469.32]])"
     },
     "execution_count": 462,
     "metadata": {},
     "output_type": "execute_result"
    }
   ],
   "source": [
    "# 2D cube for looking at the locations. Just Taking the slice for the January to compare\n",
    "\n",
    "for month in range(len(cube)):\n",
    "    for loc in range(numLocations):\n",
    "        temp = np.sum(cube[month][loc], axis=0)\n",
    "        numLocations_2d[month][loc][0] += temp[0]\n",
    "        numLocations_2d[month][loc][1] += temp[1]\n",
    "\n",
    "numLocations_2d[0]\n",
    "\n",
    "\n",
    "\n",
    "\n"
   ],
   "metadata": {
    "collapsed": false,
    "pycharm": {
     "name": "#%%\n"
    }
   }
  }
 ],
 "metadata": {
  "kernelspec": {
   "name": "pycharm-865e1948",
   "language": "python",
   "display_name": "PyCharm (GITHUB_REPOSITORY)"
  },
  "language_info": {
   "codemirror_mode": {
    "name": "ipython",
    "version": 2
   },
   "file_extension": ".py",
   "mimetype": "text/x-python",
   "name": "python",
   "nbconvert_exporter": "python",
   "pygments_lexer": "ipython2",
   "version": "2.7.6"
  }
 },
 "nbformat": 4,
 "nbformat_minor": 0
}