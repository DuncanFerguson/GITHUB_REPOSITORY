{
 "cells": [
  {
   "cell_type": "markdown",
   "metadata": {
    "collapsed": true,
    "pycharm": {
     "name": "#%% md\n"
    }
   },
   "source": [
    "Student: Duncan Ferguson <br>\n",
    "Student Id: 871641260 <br>\n",
    "Class: Comp 4431-1 <br>\n",
    "Assignment: Excercise 2 <br>\n",
    "Date: 9/24/2021 <br>\n",
    "Group: Name: Broken Toe <br>\n",
    "Group Members: Emma Bright, Mike Santoro <br>"
   ]
  },
  {
   "cell_type": "code",
   "execution_count": 409,
   "outputs": [],
   "source": [
    "import numpy as np\n",
    "import pandas as pd"
   ],
   "metadata": {
    "collapsed": false,
    "pycharm": {
     "name": "#%%\n"
    }
   }
  },
  {
   "cell_type": "code",
   "execution_count": 410,
   "outputs": [],
   "source": [
    "locations = ['SouthGlenn','Tamarac','HighlandsRanch','ColoradoBlvd','WashingtonPark','CherryCreek',\n",
    "             'GovernorsRanch','UnionStation','CastleRock']\n",
    "\n",
    "itemCategories = ['produce', 'meat', 'bakery', 'freezer', 'dairy', 'deli', 'snack', 'softdrinks', 'beer', 'household']\n",
    "numLocations = len(locations)\n",
    "numItemCategories = len(itemCategories)"
   ],
   "metadata": {
    "collapsed": false,
    "pycharm": {
     "name": "#%%\n"
    }
   }
  },
  {
   "cell_type": "code",
   "execution_count": 411,
   "outputs": [],
   "source": [
    "def getCatIndex(inCat):\n",
    "    count = 0\n",
    "    while (itemCategories[count] != inCat) and (count < len(itemCategories)-1):\n",
    "        count += 1\n",
    "    return (count)\n",
    "\n",
    "def getlocIndex(inLoc):\n",
    "    count = 0\n",
    "    while (locations[count] != inCat) and (count < len(locations)-1):\n",
    "        count += 1\n",
    "    return(count)\n",
    "\n",
    "def getMonth(inDate):\n",
    "    return(int(inDate[5:7]))"
   ],
   "metadata": {
    "collapsed": false,
    "pycharm": {
     "name": "#%%\n"
    }
   }
  },
  {
   "cell_type": "code",
   "execution_count": 412,
   "outputs": [
    {
     "data": {
      "text/plain": "      transactionid num_items_purchase total_price  date  store  category\n0                 0                  1        2.35    12      5         9\n1                 1                 10       59.24     2      0         6\n2                 1                  7       10.02     2      0         5\n3                 1                 10       32.00     2      0         2\n4                 1                  1        2.77     2      0         1\n...             ...                ...         ...   ...    ...       ...\n26154          9996                  4       23.36    10      4         0\n26155          9997                  4       35.81     1      6         4\n26156          9997                  2        9.20     1      6         7\n26157          9998                  4       37.84     6      4         4\n26158          9999                  2        8.71     4      2         9\n\n[26159 rows x 6 columns]",
      "text/html": "<div>\n<style scoped>\n    .dataframe tbody tr th:only-of-type {\n        vertical-align: middle;\n    }\n\n    .dataframe tbody tr th {\n        vertical-align: top;\n    }\n\n    .dataframe thead th {\n        text-align: right;\n    }\n</style>\n<table border=\"1\" class=\"dataframe\">\n  <thead>\n    <tr style=\"text-align: right;\">\n      <th></th>\n      <th>transactionid</th>\n      <th>num_items_purchase</th>\n      <th>total_price</th>\n      <th>date</th>\n      <th>store</th>\n      <th>category</th>\n    </tr>\n  </thead>\n  <tbody>\n    <tr>\n      <th>0</th>\n      <td>0</td>\n      <td>1</td>\n      <td>2.35</td>\n      <td>12</td>\n      <td>5</td>\n      <td>9</td>\n    </tr>\n    <tr>\n      <th>1</th>\n      <td>1</td>\n      <td>10</td>\n      <td>59.24</td>\n      <td>2</td>\n      <td>0</td>\n      <td>6</td>\n    </tr>\n    <tr>\n      <th>2</th>\n      <td>1</td>\n      <td>7</td>\n      <td>10.02</td>\n      <td>2</td>\n      <td>0</td>\n      <td>5</td>\n    </tr>\n    <tr>\n      <th>3</th>\n      <td>1</td>\n      <td>10</td>\n      <td>32.00</td>\n      <td>2</td>\n      <td>0</td>\n      <td>2</td>\n    </tr>\n    <tr>\n      <th>4</th>\n      <td>1</td>\n      <td>1</td>\n      <td>2.77</td>\n      <td>2</td>\n      <td>0</td>\n      <td>1</td>\n    </tr>\n    <tr>\n      <th>...</th>\n      <td>...</td>\n      <td>...</td>\n      <td>...</td>\n      <td>...</td>\n      <td>...</td>\n      <td>...</td>\n    </tr>\n    <tr>\n      <th>26154</th>\n      <td>9996</td>\n      <td>4</td>\n      <td>23.36</td>\n      <td>10</td>\n      <td>4</td>\n      <td>0</td>\n    </tr>\n    <tr>\n      <th>26155</th>\n      <td>9997</td>\n      <td>4</td>\n      <td>35.81</td>\n      <td>1</td>\n      <td>6</td>\n      <td>4</td>\n    </tr>\n    <tr>\n      <th>26156</th>\n      <td>9997</td>\n      <td>2</td>\n      <td>9.20</td>\n      <td>1</td>\n      <td>6</td>\n      <td>7</td>\n    </tr>\n    <tr>\n      <th>26157</th>\n      <td>9998</td>\n      <td>4</td>\n      <td>37.84</td>\n      <td>6</td>\n      <td>4</td>\n      <td>4</td>\n    </tr>\n    <tr>\n      <th>26158</th>\n      <td>9999</td>\n      <td>2</td>\n      <td>8.71</td>\n      <td>4</td>\n      <td>2</td>\n      <td>9</td>\n    </tr>\n  </tbody>\n</table>\n<p>26159 rows × 6 columns</p>\n</div>"
     },
     "execution_count": 412,
     "metadata": {},
     "output_type": "execute_result"
    }
   ],
   "source": [
    "# Creating Index Dictionary For the locations and items\n",
    "location_dic = {locations[i]:i for i in range(0, numLocations)}\n",
    "itemCategories_dic = {itemCategories[i]: i for i in range(0, numItemCategories)}\n",
    "\n",
    "data = np.loadtxt(\"ds_ex3.txt\", dtype='str')\n",
    "df = pd.DataFrame(data, columns=[\"transactionid\", \"num_items_purchase\",\n",
    "                       \"total_price\",\"date\", \"store\",\"category\"])\n",
    "df['date'] = df['date'].str[5:7]\n",
    "df['date'] = pd.to_numeric(df['date'], downcast='integer')\n",
    "df['store'] = df['store'].map(location_dic)\n",
    "df['category'] = df['category'].map(itemCategories_dic)\n",
    "df"
   ],
   "metadata": {
    "collapsed": false,
    "pycharm": {
     "name": "#%%\n"
    }
   }
  },
  {
   "cell_type": "code",
   "execution_count": 413,
   "outputs": [
    {
     "data": {
      "text/plain": "array([[[[0., 0.],\n         [0., 0.],\n         [0., 0.],\n         ...,\n         [0., 0.],\n         [0., 0.],\n         [0., 0.]],\n\n        [[0., 0.],\n         [0., 0.],\n         [0., 0.],\n         ...,\n         [0., 0.],\n         [0., 0.],\n         [0., 0.]],\n\n        [[0., 0.],\n         [0., 0.],\n         [0., 0.],\n         ...,\n         [0., 0.],\n         [0., 0.],\n         [0., 0.]],\n\n        ...,\n\n        [[0., 0.],\n         [0., 0.],\n         [0., 0.],\n         ...,\n         [0., 0.],\n         [0., 0.],\n         [0., 0.]],\n\n        [[0., 0.],\n         [0., 0.],\n         [0., 0.],\n         ...,\n         [0., 0.],\n         [0., 0.],\n         [0., 0.]],\n\n        [[0., 0.],\n         [0., 0.],\n         [0., 0.],\n         ...,\n         [0., 0.],\n         [0., 0.],\n         [0., 0.]]],\n\n\n       [[[0., 0.],\n         [0., 0.],\n         [0., 0.],\n         ...,\n         [0., 0.],\n         [0., 0.],\n         [0., 0.]],\n\n        [[0., 0.],\n         [0., 0.],\n         [0., 0.],\n         ...,\n         [0., 0.],\n         [0., 0.],\n         [0., 0.]],\n\n        [[0., 0.],\n         [0., 0.],\n         [0., 0.],\n         ...,\n         [0., 0.],\n         [0., 0.],\n         [0., 0.]],\n\n        ...,\n\n        [[0., 0.],\n         [0., 0.],\n         [0., 0.],\n         ...,\n         [0., 0.],\n         [0., 0.],\n         [0., 0.]],\n\n        [[0., 0.],\n         [0., 0.],\n         [0., 0.],\n         ...,\n         [0., 0.],\n         [0., 0.],\n         [0., 0.]],\n\n        [[0., 0.],\n         [0., 0.],\n         [0., 0.],\n         ...,\n         [0., 0.],\n         [0., 0.],\n         [0., 0.]]],\n\n\n       [[[0., 0.],\n         [0., 0.],\n         [0., 0.],\n         ...,\n         [0., 0.],\n         [0., 0.],\n         [0., 0.]],\n\n        [[0., 0.],\n         [0., 0.],\n         [0., 0.],\n         ...,\n         [0., 0.],\n         [0., 0.],\n         [0., 0.]],\n\n        [[0., 0.],\n         [0., 0.],\n         [0., 0.],\n         ...,\n         [0., 0.],\n         [0., 0.],\n         [0., 0.]],\n\n        ...,\n\n        [[0., 0.],\n         [0., 0.],\n         [0., 0.],\n         ...,\n         [0., 0.],\n         [0., 0.],\n         [0., 0.]],\n\n        [[0., 0.],\n         [0., 0.],\n         [0., 0.],\n         ...,\n         [0., 0.],\n         [0., 0.],\n         [0., 0.]],\n\n        [[0., 0.],\n         [0., 0.],\n         [0., 0.],\n         ...,\n         [0., 0.],\n         [0., 0.],\n         [0., 0.]]],\n\n\n       ...,\n\n\n       [[[0., 0.],\n         [0., 0.],\n         [0., 0.],\n         ...,\n         [0., 0.],\n         [0., 0.],\n         [0., 0.]],\n\n        [[0., 0.],\n         [0., 0.],\n         [0., 0.],\n         ...,\n         [0., 0.],\n         [0., 0.],\n         [0., 0.]],\n\n        [[0., 0.],\n         [0., 0.],\n         [0., 0.],\n         ...,\n         [0., 0.],\n         [0., 0.],\n         [0., 0.]],\n\n        ...,\n\n        [[0., 0.],\n         [0., 0.],\n         [0., 0.],\n         ...,\n         [0., 0.],\n         [0., 0.],\n         [0., 0.]],\n\n        [[0., 0.],\n         [0., 0.],\n         [0., 0.],\n         ...,\n         [0., 0.],\n         [0., 0.],\n         [0., 0.]],\n\n        [[0., 0.],\n         [0., 0.],\n         [0., 0.],\n         ...,\n         [0., 0.],\n         [0., 0.],\n         [0., 0.]]],\n\n\n       [[[0., 0.],\n         [0., 0.],\n         [0., 0.],\n         ...,\n         [0., 0.],\n         [0., 0.],\n         [0., 0.]],\n\n        [[0., 0.],\n         [0., 0.],\n         [0., 0.],\n         ...,\n         [0., 0.],\n         [0., 0.],\n         [0., 0.]],\n\n        [[0., 0.],\n         [0., 0.],\n         [0., 0.],\n         ...,\n         [0., 0.],\n         [0., 0.],\n         [0., 0.]],\n\n        ...,\n\n        [[0., 0.],\n         [0., 0.],\n         [0., 0.],\n         ...,\n         [0., 0.],\n         [0., 0.],\n         [0., 0.]],\n\n        [[0., 0.],\n         [0., 0.],\n         [0., 0.],\n         ...,\n         [0., 0.],\n         [0., 0.],\n         [0., 0.]],\n\n        [[0., 0.],\n         [0., 0.],\n         [0., 0.],\n         ...,\n         [0., 0.],\n         [0., 0.],\n         [0., 0.]]],\n\n\n       [[[0., 0.],\n         [0., 0.],\n         [0., 0.],\n         ...,\n         [0., 0.],\n         [0., 0.],\n         [0., 0.]],\n\n        [[0., 0.],\n         [0., 0.],\n         [0., 0.],\n         ...,\n         [0., 0.],\n         [0., 0.],\n         [0., 0.]],\n\n        [[0., 0.],\n         [0., 0.],\n         [0., 0.],\n         ...,\n         [0., 0.],\n         [0., 0.],\n         [0., 0.]],\n\n        ...,\n\n        [[0., 0.],\n         [0., 0.],\n         [0., 0.],\n         ...,\n         [0., 0.],\n         [0., 0.],\n         [0., 0.]],\n\n        [[0., 0.],\n         [0., 0.],\n         [0., 0.],\n         ...,\n         [0., 0.],\n         [0., 0.],\n         [0., 0.]],\n\n        [[0., 0.],\n         [0., 0.],\n         [0., 0.],\n         ...,\n         [0., 0.],\n         [0., 0.],\n         [0., 0.]]]])"
     },
     "execution_count": 413,
     "metadata": {},
     "output_type": "execute_result"
    }
   ],
   "source": [
    "# Creating a 3D numpy Array\n",
    "cube = np.zeros((12, numLocations, numItemCategories, 2))\n",
    "cube"
   ],
   "metadata": {
    "collapsed": false,
    "pycharm": {
     "name": "#%%\n"
    }
   }
  },
  {
   "cell_type": "code",
   "execution_count": 414,
   "outputs": [
    {
     "name": "stdout",
     "output_type": "stream",
     "text": [
      "[[[134.   0.]\n",
      "  [ 77.   0.]\n",
      "  [129.   0.]\n",
      "  [206.   0.]\n",
      "  [163.   0.]\n",
      "  [157.   0.]\n",
      "  [210.   0.]\n",
      "  [215.   0.]\n",
      "  [253.   0.]\n",
      "  [ 79.   0.]]\n",
      "\n",
      " [[114.   0.]\n",
      "  [ 65.   0.]\n",
      "  [137.   0.]\n",
      "  [ 82.   0.]\n",
      "  [133.   0.]\n",
      "  [118.   0.]\n",
      "  [133.   0.]\n",
      "  [ 72.   0.]\n",
      "  [151.   0.]\n",
      "  [ 44.   0.]]\n",
      "\n",
      " [[178.   0.]\n",
      "  [142.   0.]\n",
      "  [316.   0.]\n",
      "  [204.   0.]\n",
      "  [200.   0.]\n",
      "  [236.   0.]\n",
      "  [300.   0.]\n",
      "  [280.   0.]\n",
      "  [298.   0.]\n",
      "  [ 76.   0.]]\n",
      "\n",
      " [[144.   0.]\n",
      "  [ 61.   0.]\n",
      "  [131.   0.]\n",
      "  [122.   0.]\n",
      "  [125.   0.]\n",
      "  [133.   0.]\n",
      "  [107.   0.]\n",
      "  [ 89.   0.]\n",
      "  [136.   0.]\n",
      "  [ 47.   0.]]\n",
      "\n",
      " [[ 68.   0.]\n",
      "  [ 39.   0.]\n",
      "  [ 65.   0.]\n",
      "  [ 88.   0.]\n",
      "  [ 54.   0.]\n",
      "  [ 89.   0.]\n",
      "  [ 78.   0.]\n",
      "  [ 91.   0.]\n",
      "  [ 93.   0.]\n",
      "  [ 27.   0.]]\n",
      "\n",
      " [[ 31.   0.]\n",
      "  [ 22.   0.]\n",
      "  [ 46.   0.]\n",
      "  [ 36.   0.]\n",
      "  [ 54.   0.]\n",
      "  [ 37.   0.]\n",
      "  [ 39.   0.]\n",
      "  [ 49.   0.]\n",
      "  [ 42.   0.]\n",
      "  [ 21.   0.]]\n",
      "\n",
      " [[134.   0.]\n",
      "  [ 65.   0.]\n",
      "  [117.   0.]\n",
      "  [ 77.   0.]\n",
      "  [121.   0.]\n",
      "  [ 96.   0.]\n",
      "  [126.   0.]\n",
      "  [110.   0.]\n",
      "  [ 96.   0.]\n",
      "  [ 37.   0.]]\n",
      "\n",
      " [[ 25.   0.]\n",
      "  [ 24.   0.]\n",
      "  [ 26.   0.]\n",
      "  [ 28.   0.]\n",
      "  [ 27.   0.]\n",
      "  [ 21.   0.]\n",
      "  [ 18.   0.]\n",
      "  [ 30.   0.]\n",
      "  [ 31.   0.]\n",
      "  [ 25.   0.]]\n",
      "\n",
      " [[132.   0.]\n",
      "  [ 64.   0.]\n",
      "  [167.   0.]\n",
      "  [ 99.   0.]\n",
      "  [132.   0.]\n",
      "  [128.   0.]\n",
      "  [141.   0.]\n",
      "  [ 98.   0.]\n",
      "  [153.   0.]\n",
      "  [ 60.   0.]]]\n"
     ]
    }
   ],
   "source": [
    "for index, row in df.iterrows():\n",
    "    # cube[row.values[3]-1][row.index[4]][row.index[5]][0] += float(row.values[1])\n",
    "    # cube[row.values[3]-1][row.index[4]][row.index[5]][1] += float(row.values[2])\n",
    "    cube[row.values[3]-1][row.values[4]][row.values[5]][0] += float(row.values[1])\n",
    "    # # cube[row.values[3]-1][row.values[4]][row.values[5]][1] += float(row.values[2])\n",
    "print(cube[0])\n"
   ],
   "metadata": {
    "collapsed": false,
    "pycharm": {
     "name": "#%%\n"
    }
   }
  },
  {
   "cell_type": "markdown",
   "source": [
    "What to turn in:\n",
    "-In the textbox write up what you found to be \"interesting\" in the data\n",
    "-In the text box below the \"interesting description, print out the contents of your Month vs ItemCategory 2D cub\n",
    "- Attach Code\n",
    "\n"
   ],
   "metadata": {
    "collapsed": false,
    "pycharm": {
     "name": "#%% md\n"
    }
   }
  }
 ],
 "metadata": {
  "kernelspec": {
   "name": "pycharm-865e1948",
   "language": "python",
   "display_name": "PyCharm (GITHUB_REPOSITORY)"
  },
  "language_info": {
   "codemirror_mode": {
    "name": "ipython",
    "version": 2
   },
   "file_extension": ".py",
   "mimetype": "text/x-python",
   "name": "python",
   "nbconvert_exporter": "python",
   "pygments_lexer": "ipython2",
   "version": "2.7.6"
  }
 },
 "nbformat": 4,
 "nbformat_minor": 0
}