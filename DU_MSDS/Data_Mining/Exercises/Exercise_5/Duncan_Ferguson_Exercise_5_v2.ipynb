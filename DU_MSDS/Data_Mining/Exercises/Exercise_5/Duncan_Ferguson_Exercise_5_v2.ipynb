{
 "cells": [
  {
   "cell_type": "markdown",
   "metadata": {
    "collapsed": true,
    "pycharm": {
     "name": "#%% md\n"
    }
   },
   "source": [
    "# Exercise 5 <br>\n",
    "Student: Duncan Ferguson <br>\n",
    "Student Id: 871641260 <br>\n",
    "Class: Comp 4431-1 <br>\n",
    "Assignment: Exercise 5 <br>\n",
    "Date: 10/16/2021 <br>\n",
    "Group: Name: Broken Toe <br>\n",
    "Group Members: Emma Bright, Mike Santoro <br>"
   ]
  },
  {
   "cell_type": "code",
   "execution_count": 1,
   "outputs": [
    {
     "name": "stdout",
     "output_type": "stream",
     "text": [
      "te_aray returned from Transactionencoder.fit().transform()\n",
      "[[False  True  True  True False  True  True]\n",
      " [False  True  True  True False  True False]\n",
      " [ True False  True False  True  True False]\n",
      " [ True False  True  True False  True False]\n",
      " [False  True False  True False  True  True]\n",
      " [False False False  True False  True  True]\n",
      " [ True False False False  True False  True]\n",
      " [ True False False False  True False  True]\n",
      " [ True False False False  True False  True]\n",
      " [ True False False False  True False  True]\n",
      " [ True False  True False  True False  True]\n",
      " [ True False  True False  True False  True]\n",
      " [False False False False  True  True  True]\n",
      " [False False False False  True False  True]\n",
      " [False False  True False  True False False]\n",
      " [False False  True False  True False False]\n",
      " [False False False  True False  True  True]\n",
      " [False False False  True False  True  True]\n",
      " [False  True False  True False  True  True]\n",
      " [False  True  True False False  True  True]]\n"
     ]
    }
   ],
   "source": [
    "import pandas as pd\n",
    "from csv import reader\n",
    "from mlxtend.frequent_patterns import apriori, association_rules\n",
    "from mlxtend.preprocessing import TransactionEncoder\n",
    "\n",
    "pd.set_option('display.max_rows', None)\n",
    "pd.set_option('display.width', None)\n",
    "\n",
    "theData = [\n",
    "['milk','onion','egg','bread','chili'],\n",
    "['milk','egg','bread','chili'],\n",
    "['milk','garlic','beans','chili'],\n",
    "['milk','egg','beans','chili'],\n",
    "['milk','onion','egg','bread'],\n",
    "['milk','onion','egg'],\n",
    "['garlic','onion','beans'],\n",
    "['garlic','onion','beans'],\n",
    "['garlic','onion','beans'],\n",
    "['garlic','onion','beans'],\n",
    "['chili','garlic','onion','beans'],\n",
    "['chili','garlic','onion','beans'],\n",
    "['garlic','onion','milk'],\n",
    "['garlic','onion'],\n",
    "['garlic','chili'],\n",
    "['garlic','chili'],\n",
    "['milk','onion','egg'],\n",
    "['milk','onion','egg'],\n",
    "['milk','onion','egg','bread'],\n",
    "['milk','onion','chili','bread'],\n",
    "]\n",
    "\n",
    "# Use Transaction encoder to transform into an 1-hot boolean encoded numpy array\n",
    "te = TransactionEncoder()\n",
    "te_ary = te.fit(theData).transform(theData)\n",
    "\n",
    "print(\"te_aray returned from Transactionencoder.fit().transform()\")\n",
    "print(te_ary)"
   ],
   "metadata": {
    "collapsed": false,
    "pycharm": {
     "name": "#%%\n"
    }
   }
  },
  {
   "cell_type": "code",
   "execution_count": 3,
   "outputs": [
    {
     "name": "stdout",
     "output_type": "stream",
     "text": [
      "DataFrame Version:\n",
      "    beans  bread  chili    egg  garlic   milk  onion\n",
      "0   False   True   True   True   False   True   True\n",
      "1   False   True   True   True   False   True  False\n",
      "2    True  False   True  False    True   True  False\n",
      "3    True  False   True   True   False   True  False\n",
      "4   False   True  False   True   False   True   True\n",
      "5   False  False  False   True   False   True   True\n",
      "6    True  False  False  False    True  False   True\n",
      "7    True  False  False  False    True  False   True\n",
      "8    True  False  False  False    True  False   True\n",
      "9    True  False  False  False    True  False   True\n",
      "10   True  False   True  False    True  False   True\n",
      "11   True  False   True  False    True  False   True\n",
      "12  False  False  False  False    True   True   True\n",
      "13  False  False  False  False    True  False   True\n",
      "14  False  False   True  False    True  False  False\n",
      "15  False  False   True  False    True  False  False\n",
      "16  False  False  False   True   False   True   True\n",
      "17  False  False  False   True   False   True   True\n",
      "18  False   True  False   True   False   True   True\n",
      "19  False   True   True  False   False   True   True\n"
     ]
    }
   ],
   "source": [
    "# Convert into a dataframe for convenience and to pas into the apriori\n",
    "df2 = pd.DataFrame(te_ary, columns=te.columns_)\n",
    "\n",
    "print(\"DataFrame Version:\")\n",
    "print(df2.head(25))"
   ],
   "metadata": {
    "collapsed": false,
    "pycharm": {
     "name": "#%%\n"
    }
   }
  },
  {
   "cell_type": "code",
   "execution_count": 10,
   "outputs": [
    {
     "name": "stdout",
     "output_type": "stream",
     "text": [
      "Frequent Items:\n",
      "    support                itemsets  length\n",
      "5      0.75                 (onion)       1\n",
      "3      0.55                (garlic)       1\n",
      "4      0.55                  (milk)       1\n",
      "1      0.45                 (chili)       1\n",
      "8      0.40             (milk, egg)       2\n",
      "10     0.40         (garlic, onion)       2\n",
      "11     0.40           (milk, onion)       2\n",
      "0      0.40                 (beans)       1\n",
      "2      0.40                   (egg)       1\n",
      "6      0.35         (beans, garlic)       2\n",
      "12     0.30  (beans, garlic, onion)       3\n",
      "13     0.30      (milk, egg, onion)       3\n",
      "7      0.30          (beans, onion)       2\n",
      "9      0.30            (egg, onion)       2\n"
     ]
    }
   ],
   "source": [
    "# Call apriori to find frequent itemsets with min_support = 30%\n",
    "freq_items = apriori(df2, min_support=0.3, use_colnames=True)\n",
    "freq_items['length'] = freq_items['itemsets'].apply(lambda x: len(x))\n",
    "freq_items.sort_values(['support', 'length'], inplace=True, ascending=False)\n",
    "print(\"Frequent Items:\")\n",
    "print(freq_items)"
   ],
   "metadata": {
    "collapsed": false,
    "pycharm": {
     "name": "#%%\n"
    }
   }
  },
  {
   "cell_type": "code",
   "execution_count": 11,
   "outputs": [
    {
     "name": "stdout",
     "output_type": "stream",
     "text": [
      "\n",
      "\n",
      "Reduced freq_items (length == 2 & support >= 40%) | (length >=3 & support >= 30%) \n",
      "    support                itemsets  length\n",
      "8       0.4             (milk, egg)       2\n",
      "10      0.4         (garlic, onion)       2\n",
      "11      0.4           (milk, onion)       2\n",
      "12      0.3  (beans, garlic, onion)       3\n",
      "13      0.3      (milk, egg, onion)       3\n"
     ]
    }
   ],
   "source": [
    "# Examples of How to filter your itemsets further, for illustration only, not actually used below\n",
    "reducedFreqItems = freq_items[(((freq_items['length'] == 2) & (freq_items['support'] >= 0.40)) |\n",
    "                               ((freq_items['length'] >= 3) & (freq_items['support'] >= 0.30 )))]\n",
    "\n",
    "print(\"\\n\\nReduced freq_items (length == 2 & support >= 40%) | (length >=3 & support >= 30%) \")\n",
    "print(reducedFreqItems)"
   ],
   "metadata": {
    "collapsed": false,
    "pycharm": {
     "name": "#%%\n"
    }
   }
  },
  {
   "cell_type": "code",
   "execution_count": null,
   "outputs": [],
   "source": [
    "\n",
    "\n",
    "\n",
    "\n"
   ],
   "metadata": {
    "collapsed": false,
    "pycharm": {
     "name": "#%%\n"
    }
   }
  }
 ],
 "metadata": {
  "kernelspec": {
   "name": "pycharm-865e1948",
   "language": "python",
   "display_name": "PyCharm (GITHUB_REPOSITORY)"
  },
  "language_info": {
   "codemirror_mode": {
    "name": "ipython",
    "version": 2
   },
   "file_extension": ".py",
   "mimetype": "text/x-python",
   "name": "python",
   "nbconvert_exporter": "python",
   "pygments_lexer": "ipython2",
   "version": "2.7.6"
  }
 },
 "nbformat": 4,
 "nbformat_minor": 0
}