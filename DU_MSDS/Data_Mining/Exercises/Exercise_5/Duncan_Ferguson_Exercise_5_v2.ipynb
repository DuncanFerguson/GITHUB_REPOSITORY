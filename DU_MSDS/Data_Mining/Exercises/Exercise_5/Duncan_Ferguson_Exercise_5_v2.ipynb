{
 "cells": [
  {
   "cell_type": "markdown",
   "metadata": {
    "collapsed": true,
    "pycharm": {
     "name": "#%% md\n"
    }
   },
   "source": [
    "# Exercise 5 <br>\n",
    "Student: Duncan Ferguson <br>\n",
    "Student Id: 871641260 <br>\n",
    "Class: Comp 4431-1 <br>\n",
    "Assignment: Exercise 5 <br>\n",
    "Date: 10/16/2021 <br>\n",
    "Group: Name: Broken Toe <br>\n",
    "Group Members: Emma Bright, Mike Santoro <br>"
   ]
  },
  {
   "cell_type": "code",
   "execution_count": 1,
   "outputs": [
    {
     "name": "stdout",
     "output_type": "stream",
     "text": [
      "te_aray returned from Transactionencoder.fit().transform()\n"
     ]
    },
    {
     "data": {
      "text/plain": "array([[False,  True,  True,  True, False,  True,  True],\n       [False,  True,  True,  True, False,  True, False],\n       [ True, False,  True, False,  True,  True, False],\n       [ True, False,  True,  True, False,  True, False],\n       [False,  True, False,  True, False,  True,  True],\n       [False, False, False,  True, False,  True,  True],\n       [ True, False, False, False,  True, False,  True],\n       [ True, False, False, False,  True, False,  True],\n       [ True, False, False, False,  True, False,  True],\n       [ True, False, False, False,  True, False,  True],\n       [ True, False,  True, False,  True, False,  True],\n       [ True, False,  True, False,  True, False,  True],\n       [False, False, False, False,  True,  True,  True],\n       [False, False, False, False,  True, False,  True],\n       [False, False,  True, False,  True, False, False],\n       [False, False,  True, False,  True, False, False],\n       [False, False, False,  True, False,  True,  True],\n       [False, False, False,  True, False,  True,  True],\n       [False,  True, False,  True, False,  True,  True],\n       [False,  True,  True, False, False,  True,  True]])"
     },
     "execution_count": 1,
     "metadata": {},
     "output_type": "execute_result"
    }
   ],
   "source": [
    "import pandas as pd\n",
    "from csv import reader\n",
    "from mlxtend.frequent_patterns import apriori, association_rules\n",
    "from mlxtend.preprocessing import TransactionEncoder\n",
    "\n",
    "pd.set_option('display.max_rows', None)\n",
    "pd.set_option('display.width', None)\n",
    "\n",
    "theData = [\n",
    "['milk','onion','egg','bread','chili'],\n",
    "['milk','egg','bread','chili'],\n",
    "['milk','garlic','beans','chili'],\n",
    "['milk','egg','beans','chili'],\n",
    "['milk','onion','egg','bread'],\n",
    "['milk','onion','egg'],\n",
    "['garlic','onion','beans'],\n",
    "['garlic','onion','beans'],\n",
    "['garlic','onion','beans'],\n",
    "['garlic','onion','beans'],\n",
    "['chili','garlic','onion','beans'],\n",
    "['chili','garlic','onion','beans'],\n",
    "['garlic','onion','milk'],\n",
    "['garlic','onion'],\n",
    "['garlic','chili'],\n",
    "['garlic','chili'],\n",
    "['milk','onion','egg'],\n",
    "['milk','onion','egg'],\n",
    "['milk','onion','egg','bread'],\n",
    "['milk','onion','chili','bread'],\n",
    "]\n",
    "\n",
    "# Use Transaction encoder to transform into an 1-hot boolean encoded numpy array\n",
    "te = TransactionEncoder()\n",
    "te_ary = te.fit(theData).transform(theData)\n",
    "\n",
    "print(\"te_aray returned from Transactionencoder.fit().transform()\")\n",
    "te_ary"
   ],
   "metadata": {
    "collapsed": false,
    "pycharm": {
     "name": "#%%\n"
    }
   }
  },
  {
   "cell_type": "code",
   "execution_count": 2,
   "outputs": [
    {
     "name": "stdout",
     "output_type": "stream",
     "text": [
      "DataFrame Version:\n"
     ]
    },
    {
     "data": {
      "text/plain": "    beans  bread  chili    egg  garlic   milk  onion\n0   False   True   True   True   False   True   True\n1   False   True   True   True   False   True  False\n2    True  False   True  False    True   True  False\n3    True  False   True   True   False   True  False\n4   False   True  False   True   False   True   True\n5   False  False  False   True   False   True   True\n6    True  False  False  False    True  False   True\n7    True  False  False  False    True  False   True\n8    True  False  False  False    True  False   True\n9    True  False  False  False    True  False   True\n10   True  False   True  False    True  False   True\n11   True  False   True  False    True  False   True\n12  False  False  False  False    True   True   True\n13  False  False  False  False    True  False   True\n14  False  False   True  False    True  False  False\n15  False  False   True  False    True  False  False\n16  False  False  False   True   False   True   True\n17  False  False  False   True   False   True   True\n18  False   True  False   True   False   True   True\n19  False   True   True  False   False   True   True",
      "text/html": "<div>\n<style scoped>\n    .dataframe tbody tr th:only-of-type {\n        vertical-align: middle;\n    }\n\n    .dataframe tbody tr th {\n        vertical-align: top;\n    }\n\n    .dataframe thead th {\n        text-align: right;\n    }\n</style>\n<table border=\"1\" class=\"dataframe\">\n  <thead>\n    <tr style=\"text-align: right;\">\n      <th></th>\n      <th>beans</th>\n      <th>bread</th>\n      <th>chili</th>\n      <th>egg</th>\n      <th>garlic</th>\n      <th>milk</th>\n      <th>onion</th>\n    </tr>\n  </thead>\n  <tbody>\n    <tr>\n      <th>0</th>\n      <td>False</td>\n      <td>True</td>\n      <td>True</td>\n      <td>True</td>\n      <td>False</td>\n      <td>True</td>\n      <td>True</td>\n    </tr>\n    <tr>\n      <th>1</th>\n      <td>False</td>\n      <td>True</td>\n      <td>True</td>\n      <td>True</td>\n      <td>False</td>\n      <td>True</td>\n      <td>False</td>\n    </tr>\n    <tr>\n      <th>2</th>\n      <td>True</td>\n      <td>False</td>\n      <td>True</td>\n      <td>False</td>\n      <td>True</td>\n      <td>True</td>\n      <td>False</td>\n    </tr>\n    <tr>\n      <th>3</th>\n      <td>True</td>\n      <td>False</td>\n      <td>True</td>\n      <td>True</td>\n      <td>False</td>\n      <td>True</td>\n      <td>False</td>\n    </tr>\n    <tr>\n      <th>4</th>\n      <td>False</td>\n      <td>True</td>\n      <td>False</td>\n      <td>True</td>\n      <td>False</td>\n      <td>True</td>\n      <td>True</td>\n    </tr>\n    <tr>\n      <th>5</th>\n      <td>False</td>\n      <td>False</td>\n      <td>False</td>\n      <td>True</td>\n      <td>False</td>\n      <td>True</td>\n      <td>True</td>\n    </tr>\n    <tr>\n      <th>6</th>\n      <td>True</td>\n      <td>False</td>\n      <td>False</td>\n      <td>False</td>\n      <td>True</td>\n      <td>False</td>\n      <td>True</td>\n    </tr>\n    <tr>\n      <th>7</th>\n      <td>True</td>\n      <td>False</td>\n      <td>False</td>\n      <td>False</td>\n      <td>True</td>\n      <td>False</td>\n      <td>True</td>\n    </tr>\n    <tr>\n      <th>8</th>\n      <td>True</td>\n      <td>False</td>\n      <td>False</td>\n      <td>False</td>\n      <td>True</td>\n      <td>False</td>\n      <td>True</td>\n    </tr>\n    <tr>\n      <th>9</th>\n      <td>True</td>\n      <td>False</td>\n      <td>False</td>\n      <td>False</td>\n      <td>True</td>\n      <td>False</td>\n      <td>True</td>\n    </tr>\n    <tr>\n      <th>10</th>\n      <td>True</td>\n      <td>False</td>\n      <td>True</td>\n      <td>False</td>\n      <td>True</td>\n      <td>False</td>\n      <td>True</td>\n    </tr>\n    <tr>\n      <th>11</th>\n      <td>True</td>\n      <td>False</td>\n      <td>True</td>\n      <td>False</td>\n      <td>True</td>\n      <td>False</td>\n      <td>True</td>\n    </tr>\n    <tr>\n      <th>12</th>\n      <td>False</td>\n      <td>False</td>\n      <td>False</td>\n      <td>False</td>\n      <td>True</td>\n      <td>True</td>\n      <td>True</td>\n    </tr>\n    <tr>\n      <th>13</th>\n      <td>False</td>\n      <td>False</td>\n      <td>False</td>\n      <td>False</td>\n      <td>True</td>\n      <td>False</td>\n      <td>True</td>\n    </tr>\n    <tr>\n      <th>14</th>\n      <td>False</td>\n      <td>False</td>\n      <td>True</td>\n      <td>False</td>\n      <td>True</td>\n      <td>False</td>\n      <td>False</td>\n    </tr>\n    <tr>\n      <th>15</th>\n      <td>False</td>\n      <td>False</td>\n      <td>True</td>\n      <td>False</td>\n      <td>True</td>\n      <td>False</td>\n      <td>False</td>\n    </tr>\n    <tr>\n      <th>16</th>\n      <td>False</td>\n      <td>False</td>\n      <td>False</td>\n      <td>True</td>\n      <td>False</td>\n      <td>True</td>\n      <td>True</td>\n    </tr>\n    <tr>\n      <th>17</th>\n      <td>False</td>\n      <td>False</td>\n      <td>False</td>\n      <td>True</td>\n      <td>False</td>\n      <td>True</td>\n      <td>True</td>\n    </tr>\n    <tr>\n      <th>18</th>\n      <td>False</td>\n      <td>True</td>\n      <td>False</td>\n      <td>True</td>\n      <td>False</td>\n      <td>True</td>\n      <td>True</td>\n    </tr>\n    <tr>\n      <th>19</th>\n      <td>False</td>\n      <td>True</td>\n      <td>True</td>\n      <td>False</td>\n      <td>False</td>\n      <td>True</td>\n      <td>True</td>\n    </tr>\n  </tbody>\n</table>\n</div>"
     },
     "execution_count": 2,
     "metadata": {},
     "output_type": "execute_result"
    }
   ],
   "source": [
    "# Convert into a dataframe for convenience and to pas into the apriori\n",
    "df2 = pd.DataFrame(te_ary, columns=te.columns_)\n",
    "\n",
    "print(\"DataFrame Version:\")\n",
    "df2.head(25)"
   ],
   "metadata": {
    "collapsed": false,
    "pycharm": {
     "name": "#%%\n"
    }
   }
  },
  {
   "cell_type": "code",
   "execution_count": 3,
   "outputs": [
    {
     "name": "stdout",
     "output_type": "stream",
     "text": [
      "Frequent Items:\n"
     ]
    },
    {
     "data": {
      "text/plain": "    support                itemsets  length\n5      0.75                 (onion)       1\n3      0.55                (garlic)       1\n4      0.55                  (milk)       1\n1      0.45                 (chili)       1\n8      0.40             (egg, milk)       2\n10     0.40         (garlic, onion)       2\n11     0.40           (onion, milk)       2\n0      0.40                 (beans)       1\n2      0.40                   (egg)       1\n6      0.35         (beans, garlic)       2\n12     0.30  (beans, garlic, onion)       3\n13     0.30      (egg, onion, milk)       3\n7      0.30          (beans, onion)       2\n9      0.30            (egg, onion)       2",
      "text/html": "<div>\n<style scoped>\n    .dataframe tbody tr th:only-of-type {\n        vertical-align: middle;\n    }\n\n    .dataframe tbody tr th {\n        vertical-align: top;\n    }\n\n    .dataframe thead th {\n        text-align: right;\n    }\n</style>\n<table border=\"1\" class=\"dataframe\">\n  <thead>\n    <tr style=\"text-align: right;\">\n      <th></th>\n      <th>support</th>\n      <th>itemsets</th>\n      <th>length</th>\n    </tr>\n  </thead>\n  <tbody>\n    <tr>\n      <th>5</th>\n      <td>0.75</td>\n      <td>(onion)</td>\n      <td>1</td>\n    </tr>\n    <tr>\n      <th>3</th>\n      <td>0.55</td>\n      <td>(garlic)</td>\n      <td>1</td>\n    </tr>\n    <tr>\n      <th>4</th>\n      <td>0.55</td>\n      <td>(milk)</td>\n      <td>1</td>\n    </tr>\n    <tr>\n      <th>1</th>\n      <td>0.45</td>\n      <td>(chili)</td>\n      <td>1</td>\n    </tr>\n    <tr>\n      <th>8</th>\n      <td>0.40</td>\n      <td>(egg, milk)</td>\n      <td>2</td>\n    </tr>\n    <tr>\n      <th>10</th>\n      <td>0.40</td>\n      <td>(garlic, onion)</td>\n      <td>2</td>\n    </tr>\n    <tr>\n      <th>11</th>\n      <td>0.40</td>\n      <td>(onion, milk)</td>\n      <td>2</td>\n    </tr>\n    <tr>\n      <th>0</th>\n      <td>0.40</td>\n      <td>(beans)</td>\n      <td>1</td>\n    </tr>\n    <tr>\n      <th>2</th>\n      <td>0.40</td>\n      <td>(egg)</td>\n      <td>1</td>\n    </tr>\n    <tr>\n      <th>6</th>\n      <td>0.35</td>\n      <td>(beans, garlic)</td>\n      <td>2</td>\n    </tr>\n    <tr>\n      <th>12</th>\n      <td>0.30</td>\n      <td>(beans, garlic, onion)</td>\n      <td>3</td>\n    </tr>\n    <tr>\n      <th>13</th>\n      <td>0.30</td>\n      <td>(egg, onion, milk)</td>\n      <td>3</td>\n    </tr>\n    <tr>\n      <th>7</th>\n      <td>0.30</td>\n      <td>(beans, onion)</td>\n      <td>2</td>\n    </tr>\n    <tr>\n      <th>9</th>\n      <td>0.30</td>\n      <td>(egg, onion)</td>\n      <td>2</td>\n    </tr>\n  </tbody>\n</table>\n</div>"
     },
     "execution_count": 3,
     "metadata": {},
     "output_type": "execute_result"
    }
   ],
   "source": [
    "# Call apriori to find frequent itemsets with min_support = 30%\n",
    "freq_items = apriori(df2, min_support=0.3, use_colnames=True)\n",
    "freq_items['length'] = freq_items['itemsets'].apply(lambda x: len(x))\n",
    "freq_items.sort_values(['support', 'length'], inplace=True, ascending=False)\n",
    "print(\"Frequent Items:\")\n",
    "freq_items"
   ],
   "metadata": {
    "collapsed": false,
    "pycharm": {
     "name": "#%%\n"
    }
   }
  },
  {
   "cell_type": "code",
   "execution_count": 4,
   "outputs": [
    {
     "name": "stdout",
     "output_type": "stream",
     "text": [
      "The Rules\n"
     ]
    },
    {
     "data": {
      "text/plain": "               ante          consequ  antsup  consup   sup      conf      lift\n0             (egg)           (milk)    0.40    0.55  0.40  1.000000  1.818182\n1            (milk)            (egg)    0.55    0.40  0.40  0.727273  1.818182\n2          (garlic)          (onion)    0.55    0.75  0.40  0.727273  0.969697\n3            (milk)          (onion)    0.55    0.75  0.40  0.727273  0.969697\n4           (beans)         (garlic)    0.40    0.55  0.35  0.875000  1.590909\n5   (beans, garlic)          (onion)    0.35    0.75  0.30  0.857143  1.142857\n6    (beans, onion)         (garlic)    0.30    0.55  0.30  1.000000  1.818182\n7   (garlic, onion)          (beans)    0.40    0.40  0.30  0.750000  1.875000\n8           (beans)  (garlic, onion)    0.40    0.40  0.30  0.750000  1.875000\n9      (egg, onion)           (milk)    0.30    0.55  0.30  1.000000  1.818182\n10      (egg, milk)          (onion)    0.40    0.75  0.30  0.750000  1.000000\n11    (milk, onion)            (egg)    0.40    0.40  0.30  0.750000  1.875000\n12            (egg)    (milk, onion)    0.40    0.40  0.30  0.750000  1.875000\n13          (beans)          (onion)    0.40    0.75  0.30  0.750000  1.000000\n14            (egg)          (onion)    0.40    0.75  0.30  0.750000  1.000000",
      "text/html": "<div>\n<style scoped>\n    .dataframe tbody tr th:only-of-type {\n        vertical-align: middle;\n    }\n\n    .dataframe tbody tr th {\n        vertical-align: top;\n    }\n\n    .dataframe thead th {\n        text-align: right;\n    }\n</style>\n<table border=\"1\" class=\"dataframe\">\n  <thead>\n    <tr style=\"text-align: right;\">\n      <th></th>\n      <th>ante</th>\n      <th>consequ</th>\n      <th>antsup</th>\n      <th>consup</th>\n      <th>sup</th>\n      <th>conf</th>\n      <th>lift</th>\n    </tr>\n  </thead>\n  <tbody>\n    <tr>\n      <th>0</th>\n      <td>(egg)</td>\n      <td>(milk)</td>\n      <td>0.40</td>\n      <td>0.55</td>\n      <td>0.40</td>\n      <td>1.000000</td>\n      <td>1.818182</td>\n    </tr>\n    <tr>\n      <th>1</th>\n      <td>(milk)</td>\n      <td>(egg)</td>\n      <td>0.55</td>\n      <td>0.40</td>\n      <td>0.40</td>\n      <td>0.727273</td>\n      <td>1.818182</td>\n    </tr>\n    <tr>\n      <th>2</th>\n      <td>(garlic)</td>\n      <td>(onion)</td>\n      <td>0.55</td>\n      <td>0.75</td>\n      <td>0.40</td>\n      <td>0.727273</td>\n      <td>0.969697</td>\n    </tr>\n    <tr>\n      <th>3</th>\n      <td>(milk)</td>\n      <td>(onion)</td>\n      <td>0.55</td>\n      <td>0.75</td>\n      <td>0.40</td>\n      <td>0.727273</td>\n      <td>0.969697</td>\n    </tr>\n    <tr>\n      <th>4</th>\n      <td>(beans)</td>\n      <td>(garlic)</td>\n      <td>0.40</td>\n      <td>0.55</td>\n      <td>0.35</td>\n      <td>0.875000</td>\n      <td>1.590909</td>\n    </tr>\n    <tr>\n      <th>5</th>\n      <td>(beans, garlic)</td>\n      <td>(onion)</td>\n      <td>0.35</td>\n      <td>0.75</td>\n      <td>0.30</td>\n      <td>0.857143</td>\n      <td>1.142857</td>\n    </tr>\n    <tr>\n      <th>6</th>\n      <td>(beans, onion)</td>\n      <td>(garlic)</td>\n      <td>0.30</td>\n      <td>0.55</td>\n      <td>0.30</td>\n      <td>1.000000</td>\n      <td>1.818182</td>\n    </tr>\n    <tr>\n      <th>7</th>\n      <td>(garlic, onion)</td>\n      <td>(beans)</td>\n      <td>0.40</td>\n      <td>0.40</td>\n      <td>0.30</td>\n      <td>0.750000</td>\n      <td>1.875000</td>\n    </tr>\n    <tr>\n      <th>8</th>\n      <td>(beans)</td>\n      <td>(garlic, onion)</td>\n      <td>0.40</td>\n      <td>0.40</td>\n      <td>0.30</td>\n      <td>0.750000</td>\n      <td>1.875000</td>\n    </tr>\n    <tr>\n      <th>9</th>\n      <td>(egg, onion)</td>\n      <td>(milk)</td>\n      <td>0.30</td>\n      <td>0.55</td>\n      <td>0.30</td>\n      <td>1.000000</td>\n      <td>1.818182</td>\n    </tr>\n    <tr>\n      <th>10</th>\n      <td>(egg, milk)</td>\n      <td>(onion)</td>\n      <td>0.40</td>\n      <td>0.75</td>\n      <td>0.30</td>\n      <td>0.750000</td>\n      <td>1.000000</td>\n    </tr>\n    <tr>\n      <th>11</th>\n      <td>(milk, onion)</td>\n      <td>(egg)</td>\n      <td>0.40</td>\n      <td>0.40</td>\n      <td>0.30</td>\n      <td>0.750000</td>\n      <td>1.875000</td>\n    </tr>\n    <tr>\n      <th>12</th>\n      <td>(egg)</td>\n      <td>(milk, onion)</td>\n      <td>0.40</td>\n      <td>0.40</td>\n      <td>0.30</td>\n      <td>0.750000</td>\n      <td>1.875000</td>\n    </tr>\n    <tr>\n      <th>13</th>\n      <td>(beans)</td>\n      <td>(onion)</td>\n      <td>0.40</td>\n      <td>0.75</td>\n      <td>0.30</td>\n      <td>0.750000</td>\n      <td>1.000000</td>\n    </tr>\n    <tr>\n      <th>14</th>\n      <td>(egg)</td>\n      <td>(onion)</td>\n      <td>0.40</td>\n      <td>0.75</td>\n      <td>0.30</td>\n      <td>0.750000</td>\n      <td>1.000000</td>\n    </tr>\n  </tbody>\n</table>\n</div>"
     },
     "execution_count": 4,
     "metadata": {},
     "output_type": "execute_result"
    }
   ],
   "source": [
    "# Mining the rules by calling association_rules\n",
    "print(\"The Rules\")\n",
    "rules = association_rules(freq_items, metric=\"confidence\", min_threshold=0.7)\n",
    "rules.columns = ['ante', 'consequ', 'antsup', 'consup', 'sup', 'conf', 'lift', 'leverage', 'convic']\n",
    "rules[[\"ante\",\"consequ\",\"antsup\",\"consup\",\"sup\",\"conf\",\"lift\"]]"
   ],
   "metadata": {
    "collapsed": false,
    "pycharm": {
     "name": "#%%\n"
    }
   }
  },
  {
   "cell_type": "markdown",
   "source": [
    "Questions 1: <br>\n",
    "Using the values already set in the code  <br>\n",
    "(i.e. apriori min_support = 0.3, association_rule min_threshold = 0.7) <br>\n",
    "look at the result an answer: <br>\n",
    "\n",
    "a). Which 1-itemset has the greatest support? <br>\n",
    "-onion with a support of 0.75"
   ],
   "metadata": {
    "collapsed": false,
    "pycharm": {
     "name": "#%% md\n"
    }
   }
  },
  {
   "cell_type": "code",
   "execution_count": 5,
   "outputs": [
    {
     "data": {
      "text/plain": "   support itemsets  length\n5     0.75  (onion)       1",
      "text/html": "<div>\n<style scoped>\n    .dataframe tbody tr th:only-of-type {\n        vertical-align: middle;\n    }\n\n    .dataframe tbody tr th {\n        vertical-align: top;\n    }\n\n    .dataframe thead th {\n        text-align: right;\n    }\n</style>\n<table border=\"1\" class=\"dataframe\">\n  <thead>\n    <tr style=\"text-align: right;\">\n      <th></th>\n      <th>support</th>\n      <th>itemsets</th>\n      <th>length</th>\n    </tr>\n  </thead>\n  <tbody>\n    <tr>\n      <th>5</th>\n      <td>0.75</td>\n      <td>(onion)</td>\n      <td>1</td>\n    </tr>\n  </tbody>\n</table>\n</div>"
     },
     "execution_count": 5,
     "metadata": {},
     "output_type": "execute_result"
    }
   ],
   "source": [
    "freq_items.sort_values(['support', 'length'], inplace=True, ascending=False)\n",
    "a1 = freq_items[((freq_items['length'] == 1) & (freq_items['support'] == freq_items.support.max()))]\n",
    "a1"
   ],
   "metadata": {
    "collapsed": false,
    "pycharm": {
     "name": "#%%\n"
    }
   }
  },
  {
   "cell_type": "markdown",
   "source": [
    "b). which 3-itemsets have support >= 0.3\n",
    "- 0.062745\t(sugar, ghee)"
   ],
   "metadata": {
    "collapsed": false,
    "pycharm": {
     "name": "#%% md\n"
    }
   }
  },
  {
   "cell_type": "code",
   "execution_count": 6,
   "outputs": [
    {
     "data": {
      "text/plain": "    support                itemsets  length\n12      0.3  (beans, garlic, onion)       3\n13      0.3      (egg, onion, milk)       3",
      "text/html": "<div>\n<style scoped>\n    .dataframe tbody tr th:only-of-type {\n        vertical-align: middle;\n    }\n\n    .dataframe tbody tr th {\n        vertical-align: top;\n    }\n\n    .dataframe thead th {\n        text-align: right;\n    }\n</style>\n<table border=\"1\" class=\"dataframe\">\n  <thead>\n    <tr style=\"text-align: right;\">\n      <th></th>\n      <th>support</th>\n      <th>itemsets</th>\n      <th>length</th>\n    </tr>\n  </thead>\n  <tbody>\n    <tr>\n      <th>12</th>\n      <td>0.3</td>\n      <td>(beans, garlic, onion)</td>\n      <td>3</td>\n    </tr>\n    <tr>\n      <th>13</th>\n      <td>0.3</td>\n      <td>(egg, onion, milk)</td>\n      <td>3</td>\n    </tr>\n  </tbody>\n</table>\n</div>"
     },
     "execution_count": 6,
     "metadata": {},
     "output_type": "execute_result"
    }
   ],
   "source": [
    "b1 = freq_items[((freq_items['length'] == 3) & (freq_items['support'] >= 0.3))]\n",
    "b1"
   ],
   "metadata": {
    "collapsed": false,
    "pycharm": {
     "name": "#%%\n"
    }
   }
  },
  {
   "cell_type": "markdown",
   "source": [
    "c). Why do the two rules (milk->egg and egg->milk) have different confidence values? <br>\n",
    "The reason that (milk->egg and egg->milk) have different confidence values is because they have different\n",
    "levels of support. There conditional probabilities are different because the frequency (support value)\n",
    "of the 1-itemset milk and the frequency of the 1-itemset (support value) are different. <br>\n",
    "-Milk(support) -> 0.55 <br>\n",
    "-Egg(support) -> 0.40\n",
    "\n"
   ],
   "metadata": {
    "collapsed": false,
    "pycharm": {
     "name": "#%% md\n"
    }
   }
  },
  {
   "cell_type": "code",
   "execution_count": 7,
   "outputs": [
    {
     "data": {
      "text/plain": "   support itemsets  length\n4     0.55   (milk)       1\n2     0.40    (egg)       1",
      "text/html": "<div>\n<style scoped>\n    .dataframe tbody tr th:only-of-type {\n        vertical-align: middle;\n    }\n\n    .dataframe tbody tr th {\n        vertical-align: top;\n    }\n\n    .dataframe thead th {\n        text-align: right;\n    }\n</style>\n<table border=\"1\" class=\"dataframe\">\n  <thead>\n    <tr style=\"text-align: right;\">\n      <th></th>\n      <th>support</th>\n      <th>itemsets</th>\n      <th>length</th>\n    </tr>\n  </thead>\n  <tbody>\n    <tr>\n      <th>4</th>\n      <td>0.55</td>\n      <td>(milk)</td>\n      <td>1</td>\n    </tr>\n    <tr>\n      <th>2</th>\n      <td>0.40</td>\n      <td>(egg)</td>\n      <td>1</td>\n    </tr>\n  </tbody>\n</table>\n</div>"
     },
     "execution_count": 7,
     "metadata": {},
     "output_type": "execute_result"
    }
   ],
   "source": [
    "c1 = freq_items[(freq_items[\"itemsets\"] == frozenset({'milk'})) | (freq_items[\"itemsets\"] == frozenset({'egg'}))]\n",
    "c1"
   ],
   "metadata": {
    "collapsed": false,
    "pycharm": {
     "name": "#%%\n"
    }
   }
  },
  {
   "cell_type": "markdown",
   "source": [
    "d) Which rules are not \"interesting\"? Why do you say that?\n",
    "\n",
    "For a rule to be considered interesting it must have a lift that is gerater than 1. The following rules are not\n",
    "interesting because they either have a lift of 1 (meaning that there is no correlation between the itemsets) or\n",
    "they have a lift that is less than 1 (meaning the itemsets are negatively correlated)\n",
    "- Beans -> Onion\n",
    "- Egg -> Onion\n",
    "- Garlic -> Onion\n",
    "- Milk -> Onion\n",
    "- Milk, Egg -> Onion"
   ],
   "metadata": {
    "collapsed": false,
    "pycharm": {
     "name": "#%% md\n"
    }
   }
  },
  {
   "cell_type": "code",
   "execution_count": 8,
   "outputs": [
    {
     "data": {
      "text/plain": "           ante  consequ  antsup  consup  sup      conf      lift\n2      (garlic)  (onion)    0.55    0.75  0.4  0.727273  0.969697\n3        (milk)  (onion)    0.55    0.75  0.4  0.727273  0.969697\n10  (egg, milk)  (onion)    0.40    0.75  0.3  0.750000  1.000000\n13      (beans)  (onion)    0.40    0.75  0.3  0.750000  1.000000\n14        (egg)  (onion)    0.40    0.75  0.3  0.750000  1.000000",
      "text/html": "<div>\n<style scoped>\n    .dataframe tbody tr th:only-of-type {\n        vertical-align: middle;\n    }\n\n    .dataframe tbody tr th {\n        vertical-align: top;\n    }\n\n    .dataframe thead th {\n        text-align: right;\n    }\n</style>\n<table border=\"1\" class=\"dataframe\">\n  <thead>\n    <tr style=\"text-align: right;\">\n      <th></th>\n      <th>ante</th>\n      <th>consequ</th>\n      <th>antsup</th>\n      <th>consup</th>\n      <th>sup</th>\n      <th>conf</th>\n      <th>lift</th>\n    </tr>\n  </thead>\n  <tbody>\n    <tr>\n      <th>2</th>\n      <td>(garlic)</td>\n      <td>(onion)</td>\n      <td>0.55</td>\n      <td>0.75</td>\n      <td>0.4</td>\n      <td>0.727273</td>\n      <td>0.969697</td>\n    </tr>\n    <tr>\n      <th>3</th>\n      <td>(milk)</td>\n      <td>(onion)</td>\n      <td>0.55</td>\n      <td>0.75</td>\n      <td>0.4</td>\n      <td>0.727273</td>\n      <td>0.969697</td>\n    </tr>\n    <tr>\n      <th>10</th>\n      <td>(egg, milk)</td>\n      <td>(onion)</td>\n      <td>0.40</td>\n      <td>0.75</td>\n      <td>0.3</td>\n      <td>0.750000</td>\n      <td>1.000000</td>\n    </tr>\n    <tr>\n      <th>13</th>\n      <td>(beans)</td>\n      <td>(onion)</td>\n      <td>0.40</td>\n      <td>0.75</td>\n      <td>0.3</td>\n      <td>0.750000</td>\n      <td>1.000000</td>\n    </tr>\n    <tr>\n      <th>14</th>\n      <td>(egg)</td>\n      <td>(onion)</td>\n      <td>0.40</td>\n      <td>0.75</td>\n      <td>0.3</td>\n      <td>0.750000</td>\n      <td>1.000000</td>\n    </tr>\n  </tbody>\n</table>\n</div>"
     },
     "execution_count": 8,
     "metadata": {},
     "output_type": "execute_result"
    }
   ],
   "source": [
    "not_interesting = rules[[\"ante\",\"consequ\",\"antsup\",\"consup\",\"sup\",\"conf\",\"lift\"]]\n",
    "d1 = not_interesting[not_interesting[\"lift\"] <= 1]\n",
    "d1"
   ],
   "metadata": {
    "collapsed": false,
    "pycharm": {
     "name": "#%%\n"
    }
   }
  },
  {
   "cell_type": "markdown",
   "source": [
    "e) Two Rules have a lift value < 1.0 (garlic-> onion and milk->onion). Why are these especially useless rules?\n",
    "\n",
    "These rules are especially useless rules because they have a lift value of less than 1, indicating that the two\n",
    "itemsets are negatively correlated. The occurrence of one item will likely lead to the absence of the other item\n",
    "- Egg -> Onion\n",
    "- Garlic -> Onion"
   ],
   "metadata": {
    "collapsed": false,
    "pycharm": {
     "name": "#%% md\n"
    }
   }
  },
  {
   "cell_type": "code",
   "execution_count": 9,
   "outputs": [
    {
     "data": {
      "text/plain": "       ante  consequ  antsup  consup  sup      conf      lift\n2  (garlic)  (onion)    0.55    0.75  0.4  0.727273  0.969697\n3    (milk)  (onion)    0.55    0.75  0.4  0.727273  0.969697",
      "text/html": "<div>\n<style scoped>\n    .dataframe tbody tr th:only-of-type {\n        vertical-align: middle;\n    }\n\n    .dataframe tbody tr th {\n        vertical-align: top;\n    }\n\n    .dataframe thead th {\n        text-align: right;\n    }\n</style>\n<table border=\"1\" class=\"dataframe\">\n  <thead>\n    <tr style=\"text-align: right;\">\n      <th></th>\n      <th>ante</th>\n      <th>consequ</th>\n      <th>antsup</th>\n      <th>consup</th>\n      <th>sup</th>\n      <th>conf</th>\n      <th>lift</th>\n    </tr>\n  </thead>\n  <tbody>\n    <tr>\n      <th>2</th>\n      <td>(garlic)</td>\n      <td>(onion)</td>\n      <td>0.55</td>\n      <td>0.75</td>\n      <td>0.4</td>\n      <td>0.727273</td>\n      <td>0.969697</td>\n    </tr>\n    <tr>\n      <th>3</th>\n      <td>(milk)</td>\n      <td>(onion)</td>\n      <td>0.55</td>\n      <td>0.75</td>\n      <td>0.4</td>\n      <td>0.727273</td>\n      <td>0.969697</td>\n    </tr>\n  </tbody>\n</table>\n</div>"
     },
     "execution_count": 9,
     "metadata": {},
     "output_type": "execute_result"
    }
   ],
   "source": [
    "e1 = not_interesting[not_interesting[\"lift\"] <= 0.99999]\n",
    "e1"
   ],
   "metadata": {
    "collapsed": false,
    "pycharm": {
     "name": "#%%\n"
    }
   }
  },
  {
   "cell_type": "markdown",
   "source": [
    "### 2) The following file contains a clean version of ingredients in 256 indian dishes <br>\n",
    "Modify the example code to read in and process this file."
   ],
   "metadata": {
    "collapsed": false,
    "pycharm": {
     "name": "#%% md\n"
    }
   }
  },
  {
   "cell_type": "code",
   "execution_count": 10,
   "outputs": [
    {
     "data": {
      "text/plain": "     jaggery  all purpose flour  almond  almonds   aloo  alum powder  \\\n0      False              False   False    False  False        False   \n1      False              False   False    False  False        False   \n2      False              False   False    False  False        False   \n3      False              False   False     True  False        False   \n4      False              False   False    False  False        False   \n5      False              False   False    False  False        False   \n6      False              False   False    False  False        False   \n7      False              False   False    False  False        False   \n8      False              False   False    False  False        False   \n9      False              False   False    False  False        False   \n10     False              False   False    False  False        False   \n11     False              False   False    False  False        False   \n12     False              False   False    False  False        False   \n13     False              False   False    False  False         True   \n14     False              False   False    False  False        False   \n15     False              False   False    False  False        False   \n16     False              False   False    False  False        False   \n17     False              False   False    False  False        False   \n18     False              False   False    False  False        False   \n19     False              False   False    False  False        False   \n20     False              False   False    False  False        False   \n21     False              False   False    False  False        False   \n22     False              False   False    False  False        False   \n23     False              False   False    False  False        False   \n24     False              False   False    False  False        False   \n\n    amaranth leaves  amchur powder  apricots  arbi ke patte  ...  \\\n0             False          False     False          False  ...   \n1             False          False     False          False  ...   \n2             False          False     False          False  ...   \n3             False          False     False          False  ...   \n4             False          False     False          False  ...   \n5             False          False     False          False  ...   \n6             False          False     False          False  ...   \n7             False          False     False          False  ...   \n8             False          False     False          False  ...   \n9             False          False     False          False  ...   \n10            False          False     False          False  ...   \n11            False          False     False          False  ...   \n12            False          False     False          False  ...   \n13            False          False     False          False  ...   \n14            False          False     False          False  ...   \n15            False          False     False          False  ...   \n16            False          False     False          False  ...   \n17            False          False     False          False  ...   \n18            False          False     False          False  ...   \n19            False          False     False          False  ...   \n20            False          False     False          False  ...   \n21            False          False     False          False  ...   \n22            False          False     False          False  ...   \n23            False          False     False          False  ...   \n24            False          False     False          False  ...   \n\n    whole urad dal  whole wheat bread  whole wheat flour  whole wheat rava  \\\n0            False              False              False             False   \n1            False              False              False             False   \n2            False              False              False             False   \n3            False              False              False             False   \n4            False              False              False             False   \n5            False              False              False             False   \n6            False              False              False             False   \n7            False              False              False             False   \n8            False              False              False             False   \n9            False              False              False             False   \n10           False              False              False             False   \n11           False              False              False             False   \n12           False              False              False             False   \n13           False              False              False             False   \n14           False              False              False             False   \n15           False              False              False             False   \n16           False              False              False             False   \n17           False              False              False             False   \n18           False              False              False             False   \n19           False              False              False             False   \n20           False              False              False             False   \n21           False              False              False             False   \n22           False              False              False             False   \n23           False              False              False             False   \n24           False              False              False             False   \n\n    wild mushrooms  wine vinegar  yellow moong daal  yellow mustard  yoghurt  \\\n0            False         False              False           False    False   \n1            False         False              False           False    False   \n2            False         False              False           False    False   \n3            False         False              False           False    False   \n4            False         False              False           False    False   \n5            False         False              False           False    False   \n6            False         False              False           False    False   \n7            False         False              False           False    False   \n8            False         False              False           False    False   \n9            False         False              False           False    False   \n10           False         False              False           False    False   \n11           False         False              False           False    False   \n12           False         False              False           False     True   \n13           False         False              False           False    False   \n14           False         False              False           False    False   \n15           False         False              False           False    False   \n16           False         False              False           False    False   \n17           False         False              False           False    False   \n18           False         False              False           False    False   \n19           False         False              False           False    False   \n20           False         False              False           False    False   \n21           False         False              False           False    False   \n22           False         False              False           False    False   \n23           False         False              False           False    False   \n24           False         False              False           False    False   \n\n    yogurt  \n0     True  \n1    False  \n2    False  \n3    False  \n4    False  \n5    False  \n6    False  \n7    False  \n8    False  \n9    False  \n10   False  \n11    True  \n12   False  \n13   False  \n14   False  \n15   False  \n16   False  \n17   False  \n18   False  \n19   False  \n20   False  \n21   False  \n22   False  \n23   False  \n24   False  \n\n[25 rows x 367 columns]",
      "text/html": "<div>\n<style scoped>\n    .dataframe tbody tr th:only-of-type {\n        vertical-align: middle;\n    }\n\n    .dataframe tbody tr th {\n        vertical-align: top;\n    }\n\n    .dataframe thead th {\n        text-align: right;\n    }\n</style>\n<table border=\"1\" class=\"dataframe\">\n  <thead>\n    <tr style=\"text-align: right;\">\n      <th></th>\n      <th>jaggery</th>\n      <th>all purpose flour</th>\n      <th>almond</th>\n      <th>almonds</th>\n      <th>aloo</th>\n      <th>alum powder</th>\n      <th>amaranth leaves</th>\n      <th>amchur powder</th>\n      <th>apricots</th>\n      <th>arbi ke patte</th>\n      <th>...</th>\n      <th>whole urad dal</th>\n      <th>whole wheat bread</th>\n      <th>whole wheat flour</th>\n      <th>whole wheat rava</th>\n      <th>wild mushrooms</th>\n      <th>wine vinegar</th>\n      <th>yellow moong daal</th>\n      <th>yellow mustard</th>\n      <th>yoghurt</th>\n      <th>yogurt</th>\n    </tr>\n  </thead>\n  <tbody>\n    <tr>\n      <th>0</th>\n      <td>False</td>\n      <td>False</td>\n      <td>False</td>\n      <td>False</td>\n      <td>False</td>\n      <td>False</td>\n      <td>False</td>\n      <td>False</td>\n      <td>False</td>\n      <td>False</td>\n      <td>...</td>\n      <td>False</td>\n      <td>False</td>\n      <td>False</td>\n      <td>False</td>\n      <td>False</td>\n      <td>False</td>\n      <td>False</td>\n      <td>False</td>\n      <td>False</td>\n      <td>True</td>\n    </tr>\n    <tr>\n      <th>1</th>\n      <td>False</td>\n      <td>False</td>\n      <td>False</td>\n      <td>False</td>\n      <td>False</td>\n      <td>False</td>\n      <td>False</td>\n      <td>False</td>\n      <td>False</td>\n      <td>False</td>\n      <td>...</td>\n      <td>False</td>\n      <td>False</td>\n      <td>False</td>\n      <td>False</td>\n      <td>False</td>\n      <td>False</td>\n      <td>False</td>\n      <td>False</td>\n      <td>False</td>\n      <td>False</td>\n    </tr>\n    <tr>\n      <th>2</th>\n      <td>False</td>\n      <td>False</td>\n      <td>False</td>\n      <td>False</td>\n      <td>False</td>\n      <td>False</td>\n      <td>False</td>\n      <td>False</td>\n      <td>False</td>\n      <td>False</td>\n      <td>...</td>\n      <td>False</td>\n      <td>False</td>\n      <td>False</td>\n      <td>False</td>\n      <td>False</td>\n      <td>False</td>\n      <td>False</td>\n      <td>False</td>\n      <td>False</td>\n      <td>False</td>\n    </tr>\n    <tr>\n      <th>3</th>\n      <td>False</td>\n      <td>False</td>\n      <td>False</td>\n      <td>True</td>\n      <td>False</td>\n      <td>False</td>\n      <td>False</td>\n      <td>False</td>\n      <td>False</td>\n      <td>False</td>\n      <td>...</td>\n      <td>False</td>\n      <td>False</td>\n      <td>False</td>\n      <td>False</td>\n      <td>False</td>\n      <td>False</td>\n      <td>False</td>\n      <td>False</td>\n      <td>False</td>\n      <td>False</td>\n    </tr>\n    <tr>\n      <th>4</th>\n      <td>False</td>\n      <td>False</td>\n      <td>False</td>\n      <td>False</td>\n      <td>False</td>\n      <td>False</td>\n      <td>False</td>\n      <td>False</td>\n      <td>False</td>\n      <td>False</td>\n      <td>...</td>\n      <td>False</td>\n      <td>False</td>\n      <td>False</td>\n      <td>False</td>\n      <td>False</td>\n      <td>False</td>\n      <td>False</td>\n      <td>False</td>\n      <td>False</td>\n      <td>False</td>\n    </tr>\n    <tr>\n      <th>5</th>\n      <td>False</td>\n      <td>False</td>\n      <td>False</td>\n      <td>False</td>\n      <td>False</td>\n      <td>False</td>\n      <td>False</td>\n      <td>False</td>\n      <td>False</td>\n      <td>False</td>\n      <td>...</td>\n      <td>False</td>\n      <td>False</td>\n      <td>False</td>\n      <td>False</td>\n      <td>False</td>\n      <td>False</td>\n      <td>False</td>\n      <td>False</td>\n      <td>False</td>\n      <td>False</td>\n    </tr>\n    <tr>\n      <th>6</th>\n      <td>False</td>\n      <td>False</td>\n      <td>False</td>\n      <td>False</td>\n      <td>False</td>\n      <td>False</td>\n      <td>False</td>\n      <td>False</td>\n      <td>False</td>\n      <td>False</td>\n      <td>...</td>\n      <td>False</td>\n      <td>False</td>\n      <td>False</td>\n      <td>False</td>\n      <td>False</td>\n      <td>False</td>\n      <td>False</td>\n      <td>False</td>\n      <td>False</td>\n      <td>False</td>\n    </tr>\n    <tr>\n      <th>7</th>\n      <td>False</td>\n      <td>False</td>\n      <td>False</td>\n      <td>False</td>\n      <td>False</td>\n      <td>False</td>\n      <td>False</td>\n      <td>False</td>\n      <td>False</td>\n      <td>False</td>\n      <td>...</td>\n      <td>False</td>\n      <td>False</td>\n      <td>False</td>\n      <td>False</td>\n      <td>False</td>\n      <td>False</td>\n      <td>False</td>\n      <td>False</td>\n      <td>False</td>\n      <td>False</td>\n    </tr>\n    <tr>\n      <th>8</th>\n      <td>False</td>\n      <td>False</td>\n      <td>False</td>\n      <td>False</td>\n      <td>False</td>\n      <td>False</td>\n      <td>False</td>\n      <td>False</td>\n      <td>False</td>\n      <td>False</td>\n      <td>...</td>\n      <td>False</td>\n      <td>False</td>\n      <td>False</td>\n      <td>False</td>\n      <td>False</td>\n      <td>False</td>\n      <td>False</td>\n      <td>False</td>\n      <td>False</td>\n      <td>False</td>\n    </tr>\n    <tr>\n      <th>9</th>\n      <td>False</td>\n      <td>False</td>\n      <td>False</td>\n      <td>False</td>\n      <td>False</td>\n      <td>False</td>\n      <td>False</td>\n      <td>False</td>\n      <td>False</td>\n      <td>False</td>\n      <td>...</td>\n      <td>False</td>\n      <td>False</td>\n      <td>False</td>\n      <td>False</td>\n      <td>False</td>\n      <td>False</td>\n      <td>False</td>\n      <td>False</td>\n      <td>False</td>\n      <td>False</td>\n    </tr>\n    <tr>\n      <th>10</th>\n      <td>False</td>\n      <td>False</td>\n      <td>False</td>\n      <td>False</td>\n      <td>False</td>\n      <td>False</td>\n      <td>False</td>\n      <td>False</td>\n      <td>False</td>\n      <td>False</td>\n      <td>...</td>\n      <td>False</td>\n      <td>False</td>\n      <td>False</td>\n      <td>False</td>\n      <td>False</td>\n      <td>False</td>\n      <td>False</td>\n      <td>False</td>\n      <td>False</td>\n      <td>False</td>\n    </tr>\n    <tr>\n      <th>11</th>\n      <td>False</td>\n      <td>False</td>\n      <td>False</td>\n      <td>False</td>\n      <td>False</td>\n      <td>False</td>\n      <td>False</td>\n      <td>False</td>\n      <td>False</td>\n      <td>False</td>\n      <td>...</td>\n      <td>False</td>\n      <td>False</td>\n      <td>False</td>\n      <td>False</td>\n      <td>False</td>\n      <td>False</td>\n      <td>False</td>\n      <td>False</td>\n      <td>False</td>\n      <td>True</td>\n    </tr>\n    <tr>\n      <th>12</th>\n      <td>False</td>\n      <td>False</td>\n      <td>False</td>\n      <td>False</td>\n      <td>False</td>\n      <td>False</td>\n      <td>False</td>\n      <td>False</td>\n      <td>False</td>\n      <td>False</td>\n      <td>...</td>\n      <td>False</td>\n      <td>False</td>\n      <td>False</td>\n      <td>False</td>\n      <td>False</td>\n      <td>False</td>\n      <td>False</td>\n      <td>False</td>\n      <td>True</td>\n      <td>False</td>\n    </tr>\n    <tr>\n      <th>13</th>\n      <td>False</td>\n      <td>False</td>\n      <td>False</td>\n      <td>False</td>\n      <td>False</td>\n      <td>True</td>\n      <td>False</td>\n      <td>False</td>\n      <td>False</td>\n      <td>False</td>\n      <td>...</td>\n      <td>False</td>\n      <td>False</td>\n      <td>False</td>\n      <td>False</td>\n      <td>False</td>\n      <td>False</td>\n      <td>False</td>\n      <td>False</td>\n      <td>False</td>\n      <td>False</td>\n    </tr>\n    <tr>\n      <th>14</th>\n      <td>False</td>\n      <td>False</td>\n      <td>False</td>\n      <td>False</td>\n      <td>False</td>\n      <td>False</td>\n      <td>False</td>\n      <td>False</td>\n      <td>False</td>\n      <td>False</td>\n      <td>...</td>\n      <td>False</td>\n      <td>False</td>\n      <td>False</td>\n      <td>False</td>\n      <td>False</td>\n      <td>False</td>\n      <td>False</td>\n      <td>False</td>\n      <td>False</td>\n      <td>False</td>\n    </tr>\n    <tr>\n      <th>15</th>\n      <td>False</td>\n      <td>False</td>\n      <td>False</td>\n      <td>False</td>\n      <td>False</td>\n      <td>False</td>\n      <td>False</td>\n      <td>False</td>\n      <td>False</td>\n      <td>False</td>\n      <td>...</td>\n      <td>False</td>\n      <td>False</td>\n      <td>False</td>\n      <td>False</td>\n      <td>False</td>\n      <td>False</td>\n      <td>False</td>\n      <td>False</td>\n      <td>False</td>\n      <td>False</td>\n    </tr>\n    <tr>\n      <th>16</th>\n      <td>False</td>\n      <td>False</td>\n      <td>False</td>\n      <td>False</td>\n      <td>False</td>\n      <td>False</td>\n      <td>False</td>\n      <td>False</td>\n      <td>False</td>\n      <td>False</td>\n      <td>...</td>\n      <td>False</td>\n      <td>False</td>\n      <td>False</td>\n      <td>False</td>\n      <td>False</td>\n      <td>False</td>\n      <td>False</td>\n      <td>False</td>\n      <td>False</td>\n      <td>False</td>\n    </tr>\n    <tr>\n      <th>17</th>\n      <td>False</td>\n      <td>False</td>\n      <td>False</td>\n      <td>False</td>\n      <td>False</td>\n      <td>False</td>\n      <td>False</td>\n      <td>False</td>\n      <td>False</td>\n      <td>False</td>\n      <td>...</td>\n      <td>False</td>\n      <td>False</td>\n      <td>False</td>\n      <td>False</td>\n      <td>False</td>\n      <td>False</td>\n      <td>False</td>\n      <td>False</td>\n      <td>False</td>\n      <td>False</td>\n    </tr>\n    <tr>\n      <th>18</th>\n      <td>False</td>\n      <td>False</td>\n      <td>False</td>\n      <td>False</td>\n      <td>False</td>\n      <td>False</td>\n      <td>False</td>\n      <td>False</td>\n      <td>False</td>\n      <td>False</td>\n      <td>...</td>\n      <td>False</td>\n      <td>False</td>\n      <td>False</td>\n      <td>False</td>\n      <td>False</td>\n      <td>False</td>\n      <td>False</td>\n      <td>False</td>\n      <td>False</td>\n      <td>False</td>\n    </tr>\n    <tr>\n      <th>19</th>\n      <td>False</td>\n      <td>False</td>\n      <td>False</td>\n      <td>False</td>\n      <td>False</td>\n      <td>False</td>\n      <td>False</td>\n      <td>False</td>\n      <td>False</td>\n      <td>False</td>\n      <td>...</td>\n      <td>False</td>\n      <td>False</td>\n      <td>False</td>\n      <td>False</td>\n      <td>False</td>\n      <td>False</td>\n      <td>False</td>\n      <td>False</td>\n      <td>False</td>\n      <td>False</td>\n    </tr>\n    <tr>\n      <th>20</th>\n      <td>False</td>\n      <td>False</td>\n      <td>False</td>\n      <td>False</td>\n      <td>False</td>\n      <td>False</td>\n      <td>False</td>\n      <td>False</td>\n      <td>False</td>\n      <td>False</td>\n      <td>...</td>\n      <td>False</td>\n      <td>False</td>\n      <td>False</td>\n      <td>False</td>\n      <td>False</td>\n      <td>False</td>\n      <td>False</td>\n      <td>False</td>\n      <td>False</td>\n      <td>False</td>\n    </tr>\n    <tr>\n      <th>21</th>\n      <td>False</td>\n      <td>False</td>\n      <td>False</td>\n      <td>False</td>\n      <td>False</td>\n      <td>False</td>\n      <td>False</td>\n      <td>False</td>\n      <td>False</td>\n      <td>False</td>\n      <td>...</td>\n      <td>False</td>\n      <td>False</td>\n      <td>False</td>\n      <td>False</td>\n      <td>False</td>\n      <td>False</td>\n      <td>False</td>\n      <td>False</td>\n      <td>False</td>\n      <td>False</td>\n    </tr>\n    <tr>\n      <th>22</th>\n      <td>False</td>\n      <td>False</td>\n      <td>False</td>\n      <td>False</td>\n      <td>False</td>\n      <td>False</td>\n      <td>False</td>\n      <td>False</td>\n      <td>False</td>\n      <td>False</td>\n      <td>...</td>\n      <td>False</td>\n      <td>False</td>\n      <td>False</td>\n      <td>False</td>\n      <td>False</td>\n      <td>False</td>\n      <td>False</td>\n      <td>False</td>\n      <td>False</td>\n      <td>False</td>\n    </tr>\n    <tr>\n      <th>23</th>\n      <td>False</td>\n      <td>False</td>\n      <td>False</td>\n      <td>False</td>\n      <td>False</td>\n      <td>False</td>\n      <td>False</td>\n      <td>False</td>\n      <td>False</td>\n      <td>False</td>\n      <td>...</td>\n      <td>False</td>\n      <td>False</td>\n      <td>False</td>\n      <td>False</td>\n      <td>False</td>\n      <td>False</td>\n      <td>False</td>\n      <td>False</td>\n      <td>False</td>\n      <td>False</td>\n    </tr>\n    <tr>\n      <th>24</th>\n      <td>False</td>\n      <td>False</td>\n      <td>False</td>\n      <td>False</td>\n      <td>False</td>\n      <td>False</td>\n      <td>False</td>\n      <td>False</td>\n      <td>False</td>\n      <td>False</td>\n      <td>...</td>\n      <td>False</td>\n      <td>False</td>\n      <td>False</td>\n      <td>False</td>\n      <td>False</td>\n      <td>False</td>\n      <td>False</td>\n      <td>False</td>\n      <td>False</td>\n      <td>False</td>\n    </tr>\n  </tbody>\n</table>\n<p>25 rows × 367 columns</p>\n</div>"
     },
     "execution_count": 10,
     "metadata": {},
     "output_type": "execute_result"
    }
   ],
   "source": [
    "from csv import reader\n",
    "\n",
    "the_2_data = []\n",
    "with open('exercise5b_input.csv.txt', 'r') as read_obj:\n",
    "    csv_reader = reader(read_obj)\n",
    "    for row in csv_reader:\n",
    "        the_2_data.append(row)\n",
    "\n",
    "\n",
    "# Using the Transaction Encoder to Transform into an 1-hot boolean encoded numpy array\n",
    "te = TransactionEncoder()\n",
    "te_ary = te.fit(the_2_data).transform(the_2_data)\n",
    "\n",
    "# Converting into a dataframe for the convenience of passing into apriori\n",
    "df_2 = pd.DataFrame(te_ary, columns= te.columns_)\n",
    "df_2.head(25)"
   ],
   "metadata": {
    "collapsed": false,
    "pycharm": {
     "name": "#%%\n"
    }
   }
  },
  {
   "cell_type": "markdown",
   "source": [
    "Once read in, explore the file for various min_support and min_confidence settings.\n",
    "\n",
    "Note it is suggested to start exploring with: <br>\n",
    "min_support = 1% or 2% and min_confidence = 30% <br>\n",
    "You can then parameter up/down and see what happens."
   ],
   "metadata": {
    "collapsed": false,
    "pycharm": {
     "name": "#%% md\n"
    }
   }
  },
  {
   "cell_type": "code",
   "execution_count": 161,
   "outputs": [
    {
     "data": {
      "text/plain": "        antecedents     consequents  antecedent support  consequent support  \\\n3   (mustard seeds)  (curry leaves)            0.035294            0.098039   \n4         (jaggery)          (ghee)            0.074510            0.098039   \n6          (tomato)        (ginger)            0.062745            0.113725   \n8         (jaggery)    (rice flour)            0.074510            0.082353   \n10        (saffron)         (sugar)            0.039216            0.188235   \n13       (cardamom)         (sugar)            0.035294            0.188235   \n14   (curry leaves)      (urad dal)            0.098039            0.098039   \n15       (urad dal)  (curry leaves)            0.098039            0.098039   \n16   (garam masala)        (ginger)            0.105882            0.113725   \n17         (ginger)  (garam masala)            0.113725            0.105882   \n18      (chana dal)      (urad dal)            0.062745            0.098039   \n19       (urad dal)     (chana dal)            0.098039            0.062745   \n20           (milk)         (sugar)            0.082353            0.188235   \n22          (sugar)          (ghee)            0.188235            0.098039   \n23           (ghee)         (sugar)            0.098039            0.188235   \n\n     support  confidence      lift  leverage  conviction  \n3   0.023529    0.666667  6.800000  0.020069    2.705882  \n4   0.023529    0.315789  3.221053  0.016225    1.318250  \n6   0.023529    0.375000  3.297414  0.016394    1.418039  \n8   0.023529    0.315789  3.834586  0.017393    1.341176  \n10  0.023529    0.600000  3.187500  0.016148    2.029412  \n13  0.027451    0.777778  4.131944  0.020807    3.652941  \n14  0.035294    0.360000  3.672000  0.025682    1.409314  \n15  0.035294    0.360000  3.672000  0.025682    1.409314  \n16  0.035294    0.333333  2.931034  0.023253    1.329412  \n17  0.035294    0.310345  2.931034  0.023253    1.296471  \n18  0.043137    0.687500  7.012500  0.036986    2.886275  \n19  0.043137    0.440000  7.012500  0.036986    1.673669  \n20  0.054902    0.666667  3.541667  0.039400    2.435294  \n22  0.062745    0.333333  3.400000  0.044291    1.352941  \n23  0.062745    0.640000  3.400000  0.044291    2.254902  ",
      "text/html": "<div>\n<style scoped>\n    .dataframe tbody tr th:only-of-type {\n        vertical-align: middle;\n    }\n\n    .dataframe tbody tr th {\n        vertical-align: top;\n    }\n\n    .dataframe thead th {\n        text-align: right;\n    }\n</style>\n<table border=\"1\" class=\"dataframe\">\n  <thead>\n    <tr style=\"text-align: right;\">\n      <th></th>\n      <th>antecedents</th>\n      <th>consequents</th>\n      <th>antecedent support</th>\n      <th>consequent support</th>\n      <th>support</th>\n      <th>confidence</th>\n      <th>lift</th>\n      <th>leverage</th>\n      <th>conviction</th>\n    </tr>\n  </thead>\n  <tbody>\n    <tr>\n      <th>3</th>\n      <td>(mustard seeds)</td>\n      <td>(curry leaves)</td>\n      <td>0.035294</td>\n      <td>0.098039</td>\n      <td>0.023529</td>\n      <td>0.666667</td>\n      <td>6.800000</td>\n      <td>0.020069</td>\n      <td>2.705882</td>\n    </tr>\n    <tr>\n      <th>4</th>\n      <td>(jaggery)</td>\n      <td>(ghee)</td>\n      <td>0.074510</td>\n      <td>0.098039</td>\n      <td>0.023529</td>\n      <td>0.315789</td>\n      <td>3.221053</td>\n      <td>0.016225</td>\n      <td>1.318250</td>\n    </tr>\n    <tr>\n      <th>6</th>\n      <td>(tomato)</td>\n      <td>(ginger)</td>\n      <td>0.062745</td>\n      <td>0.113725</td>\n      <td>0.023529</td>\n      <td>0.375000</td>\n      <td>3.297414</td>\n      <td>0.016394</td>\n      <td>1.418039</td>\n    </tr>\n    <tr>\n      <th>8</th>\n      <td>(jaggery)</td>\n      <td>(rice flour)</td>\n      <td>0.074510</td>\n      <td>0.082353</td>\n      <td>0.023529</td>\n      <td>0.315789</td>\n      <td>3.834586</td>\n      <td>0.017393</td>\n      <td>1.341176</td>\n    </tr>\n    <tr>\n      <th>10</th>\n      <td>(saffron)</td>\n      <td>(sugar)</td>\n      <td>0.039216</td>\n      <td>0.188235</td>\n      <td>0.023529</td>\n      <td>0.600000</td>\n      <td>3.187500</td>\n      <td>0.016148</td>\n      <td>2.029412</td>\n    </tr>\n    <tr>\n      <th>13</th>\n      <td>(cardamom)</td>\n      <td>(sugar)</td>\n      <td>0.035294</td>\n      <td>0.188235</td>\n      <td>0.027451</td>\n      <td>0.777778</td>\n      <td>4.131944</td>\n      <td>0.020807</td>\n      <td>3.652941</td>\n    </tr>\n    <tr>\n      <th>14</th>\n      <td>(curry leaves)</td>\n      <td>(urad dal)</td>\n      <td>0.098039</td>\n      <td>0.098039</td>\n      <td>0.035294</td>\n      <td>0.360000</td>\n      <td>3.672000</td>\n      <td>0.025682</td>\n      <td>1.409314</td>\n    </tr>\n    <tr>\n      <th>15</th>\n      <td>(urad dal)</td>\n      <td>(curry leaves)</td>\n      <td>0.098039</td>\n      <td>0.098039</td>\n      <td>0.035294</td>\n      <td>0.360000</td>\n      <td>3.672000</td>\n      <td>0.025682</td>\n      <td>1.409314</td>\n    </tr>\n    <tr>\n      <th>16</th>\n      <td>(garam masala)</td>\n      <td>(ginger)</td>\n      <td>0.105882</td>\n      <td>0.113725</td>\n      <td>0.035294</td>\n      <td>0.333333</td>\n      <td>2.931034</td>\n      <td>0.023253</td>\n      <td>1.329412</td>\n    </tr>\n    <tr>\n      <th>17</th>\n      <td>(ginger)</td>\n      <td>(garam masala)</td>\n      <td>0.113725</td>\n      <td>0.105882</td>\n      <td>0.035294</td>\n      <td>0.310345</td>\n      <td>2.931034</td>\n      <td>0.023253</td>\n      <td>1.296471</td>\n    </tr>\n    <tr>\n      <th>18</th>\n      <td>(chana dal)</td>\n      <td>(urad dal)</td>\n      <td>0.062745</td>\n      <td>0.098039</td>\n      <td>0.043137</td>\n      <td>0.687500</td>\n      <td>7.012500</td>\n      <td>0.036986</td>\n      <td>2.886275</td>\n    </tr>\n    <tr>\n      <th>19</th>\n      <td>(urad dal)</td>\n      <td>(chana dal)</td>\n      <td>0.098039</td>\n      <td>0.062745</td>\n      <td>0.043137</td>\n      <td>0.440000</td>\n      <td>7.012500</td>\n      <td>0.036986</td>\n      <td>1.673669</td>\n    </tr>\n    <tr>\n      <th>20</th>\n      <td>(milk)</td>\n      <td>(sugar)</td>\n      <td>0.082353</td>\n      <td>0.188235</td>\n      <td>0.054902</td>\n      <td>0.666667</td>\n      <td>3.541667</td>\n      <td>0.039400</td>\n      <td>2.435294</td>\n    </tr>\n    <tr>\n      <th>22</th>\n      <td>(sugar)</td>\n      <td>(ghee)</td>\n      <td>0.188235</td>\n      <td>0.098039</td>\n      <td>0.062745</td>\n      <td>0.333333</td>\n      <td>3.400000</td>\n      <td>0.044291</td>\n      <td>1.352941</td>\n    </tr>\n    <tr>\n      <th>23</th>\n      <td>(ghee)</td>\n      <td>(sugar)</td>\n      <td>0.098039</td>\n      <td>0.188235</td>\n      <td>0.062745</td>\n      <td>0.640000</td>\n      <td>3.400000</td>\n      <td>0.044291</td>\n      <td>2.254902</td>\n    </tr>\n  </tbody>\n</table>\n</div>"
     },
     "execution_count": 161,
     "metadata": {},
     "output_type": "execute_result"
    }
   ],
   "source": [
    "# Looking at Minsupport of 2%\n",
    "freq_items_2 = apriori(df_2, min_support=0.02, use_colnames=True)\n",
    "freq_items_2['length'] = freq_items_2['itemsets'].apply(lambda x: len(x))\n",
    "freq_items_2.sort_values([\"length\", \"support\"], inplace=True, ascending=True)\n",
    "rules_2 = association_rules(freq_items_2, metric=\"confidence\", min_threshold=0.01)\n",
    "rules_2_min_conf_3 = rules_2[((rules_2['confidence'] >= 0.3) & (rules_2['support'] >= 0.02))].copy()\n",
    "rules_2_min_conf_3"
   ],
   "metadata": {
    "collapsed": false,
    "pycharm": {
     "name": "#%%\n"
    }
   }
  },
  {
   "cell_type": "markdown",
   "source": [
    "a) Which are the three most common ingredients? (i.e. most common 1-itemsets)\n",
    "- 0.188235\t(sugar)\n",
    "- 0.113725\t(ginger)\n",
    "- 0.105882\t(garam masala)"
   ],
   "metadata": {
    "collapsed": false,
    "pycharm": {
     "name": "#%% md\n"
    }
   }
  },
  {
   "cell_type": "code",
   "execution_count": 163,
   "outputs": [
    {
     "data": {
      "text/plain": "     support        itemsets  length\n45  0.188235         (sugar)       1\n21  0.113725        (ginger)       1\n17  0.105882  (garam masala)       1",
      "text/html": "<div>\n<style scoped>\n    .dataframe tbody tr th:only-of-type {\n        vertical-align: middle;\n    }\n\n    .dataframe tbody tr th {\n        vertical-align: top;\n    }\n\n    .dataframe thead th {\n        text-align: right;\n    }\n</style>\n<table border=\"1\" class=\"dataframe\">\n  <thead>\n    <tr style=\"text-align: right;\">\n      <th></th>\n      <th>support</th>\n      <th>itemsets</th>\n      <th>length</th>\n    </tr>\n  </thead>\n  <tbody>\n    <tr>\n      <th>45</th>\n      <td>0.188235</td>\n      <td>(sugar)</td>\n      <td>1</td>\n    </tr>\n    <tr>\n      <th>21</th>\n      <td>0.113725</td>\n      <td>(ginger)</td>\n      <td>1</td>\n    </tr>\n    <tr>\n      <th>17</th>\n      <td>0.105882</td>\n      <td>(garam masala)</td>\n      <td>1</td>\n    </tr>\n  </tbody>\n</table>\n</div>"
     },
     "execution_count": 163,
     "metadata": {},
     "output_type": "execute_result"
    }
   ],
   "source": [
    "a2_2  = freq_items_2[freq_items_2['length'] == 1].copy()\n",
    "a2_2.nlargest(3,\"support\")"
   ],
   "metadata": {
    "collapsed": false,
    "pycharm": {
     "name": "#%%\n"
    }
   }
  },
  {
   "cell_type": "markdown",
   "source": [
    "b) What is the most common pair of ingredients (i.e. most common 2-itemsets)\n",
    "- 0.062745\t(sugar, ghee)"
   ],
   "metadata": {
    "collapsed": false,
    "pycharm": {
     "name": "#%% md\n"
    }
   }
  },
  {
   "cell_type": "code",
   "execution_count": 165,
   "outputs": [
    {
     "data": {
      "text/plain": "     support       itemsets  length\n60  0.062745  (sugar, ghee)       2",
      "text/html": "<div>\n<style scoped>\n    .dataframe tbody tr th:only-of-type {\n        vertical-align: middle;\n    }\n\n    .dataframe tbody tr th {\n        vertical-align: top;\n    }\n\n    .dataframe thead th {\n        text-align: right;\n    }\n</style>\n<table border=\"1\" class=\"dataframe\">\n  <thead>\n    <tr style=\"text-align: right;\">\n      <th></th>\n      <th>support</th>\n      <th>itemsets</th>\n      <th>length</th>\n    </tr>\n  </thead>\n  <tbody>\n    <tr>\n      <th>60</th>\n      <td>0.062745</td>\n      <td>(sugar, ghee)</td>\n      <td>2</td>\n    </tr>\n  </tbody>\n</table>\n</div>"
     },
     "execution_count": 165,
     "metadata": {},
     "output_type": "execute_result"
    }
   ],
   "source": [
    "b2_2 = freq_items_2[freq_items_2['length'] == 2].copy()\n",
    "b2_2.nlargest(1,'support')"
   ],
   "metadata": {
    "collapsed": false,
    "pycharm": {
     "name": "#%%\n"
    }
   }
  },
  {
   "cell_type": "markdown",
   "source": [
    "c) What are your 3-5 most \"interesting\" rules?\n",
    "With a minimum support value threshold of @% and a confidence threshold of 30%  The 5 most interesting rules we found\n",
    "were:\n",
    "\n",
    "- urad dal -> chana dal\n",
    "- chana dal -> urad dal\n",
    "- mustard seeds -> curry leaves\n",
    "- caradamom -> sugar\n",
    "- jaggery -> rice flour\n",
    "\n",
    "These were the most interesting as they had the highest lift values"
   ],
   "metadata": {
    "collapsed": false,
    "pycharm": {
     "name": "#%% md\n"
    }
   }
  },
  {
   "cell_type": "code",
   "execution_count": 167,
   "outputs": [
    {
     "data": {
      "text/plain": "        antecedents     consequents  antecedent support  consequent support  \\\n18      (chana dal)      (urad dal)            0.062745            0.098039   \n19       (urad dal)     (chana dal)            0.098039            0.062745   \n3   (mustard seeds)  (curry leaves)            0.035294            0.098039   \n13       (cardamom)         (sugar)            0.035294            0.188235   \n8         (jaggery)    (rice flour)            0.074510            0.082353   \n\n     support  confidence      lift  leverage  conviction  \n18  0.043137    0.687500  7.012500  0.036986    2.886275  \n19  0.043137    0.440000  7.012500  0.036986    1.673669  \n3   0.023529    0.666667  6.800000  0.020069    2.705882  \n13  0.027451    0.777778  4.131944  0.020807    3.652941  \n8   0.023529    0.315789  3.834586  0.017393    1.341176  ",
      "text/html": "<div>\n<style scoped>\n    .dataframe tbody tr th:only-of-type {\n        vertical-align: middle;\n    }\n\n    .dataframe tbody tr th {\n        vertical-align: top;\n    }\n\n    .dataframe thead th {\n        text-align: right;\n    }\n</style>\n<table border=\"1\" class=\"dataframe\">\n  <thead>\n    <tr style=\"text-align: right;\">\n      <th></th>\n      <th>antecedents</th>\n      <th>consequents</th>\n      <th>antecedent support</th>\n      <th>consequent support</th>\n      <th>support</th>\n      <th>confidence</th>\n      <th>lift</th>\n      <th>leverage</th>\n      <th>conviction</th>\n    </tr>\n  </thead>\n  <tbody>\n    <tr>\n      <th>18</th>\n      <td>(chana dal)</td>\n      <td>(urad dal)</td>\n      <td>0.062745</td>\n      <td>0.098039</td>\n      <td>0.043137</td>\n      <td>0.687500</td>\n      <td>7.012500</td>\n      <td>0.036986</td>\n      <td>2.886275</td>\n    </tr>\n    <tr>\n      <th>19</th>\n      <td>(urad dal)</td>\n      <td>(chana dal)</td>\n      <td>0.098039</td>\n      <td>0.062745</td>\n      <td>0.043137</td>\n      <td>0.440000</td>\n      <td>7.012500</td>\n      <td>0.036986</td>\n      <td>1.673669</td>\n    </tr>\n    <tr>\n      <th>3</th>\n      <td>(mustard seeds)</td>\n      <td>(curry leaves)</td>\n      <td>0.035294</td>\n      <td>0.098039</td>\n      <td>0.023529</td>\n      <td>0.666667</td>\n      <td>6.800000</td>\n      <td>0.020069</td>\n      <td>2.705882</td>\n    </tr>\n    <tr>\n      <th>13</th>\n      <td>(cardamom)</td>\n      <td>(sugar)</td>\n      <td>0.035294</td>\n      <td>0.188235</td>\n      <td>0.027451</td>\n      <td>0.777778</td>\n      <td>4.131944</td>\n      <td>0.020807</td>\n      <td>3.652941</td>\n    </tr>\n    <tr>\n      <th>8</th>\n      <td>(jaggery)</td>\n      <td>(rice flour)</td>\n      <td>0.074510</td>\n      <td>0.082353</td>\n      <td>0.023529</td>\n      <td>0.315789</td>\n      <td>3.834586</td>\n      <td>0.017393</td>\n      <td>1.341176</td>\n    </tr>\n  </tbody>\n</table>\n</div>"
     },
     "execution_count": 167,
     "metadata": {},
     "output_type": "execute_result"
    }
   ],
   "source": [
    "c2_1 = rules_2_min_conf_3.sort_values([\"lift\", \"confidence\"], ascending=False)\n",
    "c2_1 = c2_1[c2_1['support'] >= .02]\n",
    "\n",
    "c2_1.head(5)"
   ],
   "metadata": {
    "collapsed": false,
    "pycharm": {
     "name": "#%%\n"
    }
   }
  }
 ],
 "metadata": {
  "kernelspec": {
   "name": "pycharm-865e1948",
   "language": "python",
   "display_name": "PyCharm (GITHUB_REPOSITORY)"
  },
  "language_info": {
   "codemirror_mode": {
    "name": "ipython",
    "version": 2
   },
   "file_extension": ".py",
   "mimetype": "text/x-python",
   "name": "python",
   "nbconvert_exporter": "python",
   "pygments_lexer": "ipython2",
   "version": "2.7.6"
  }
 },
 "nbformat": 4,
 "nbformat_minor": 0
}