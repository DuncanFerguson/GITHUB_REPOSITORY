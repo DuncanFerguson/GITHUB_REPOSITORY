{
 "cells": [
  {
   "cell_type": "markdown",
   "metadata": {
    "collapsed": true,
    "pycharm": {
     "name": "#%% md\n"
    }
   },
   "source": [
    "# Exercise 5 <br>\n",
    "Student: Duncan Ferguson <br>\n",
    "Student Id: 871641260 <br>\n",
    "Class: Comp 4431-1 <br>\n",
    "Assignment: Exercise 5 <br>\n",
    "Date: 10/16/2021 <br>\n",
    "Group: Name: Broken Toe <br>\n",
    "Group Members: Emma Bright, Mike Santoro <br>"
   ]
  },
  {
   "cell_type": "code",
   "execution_count": 58,
   "outputs": [
    {
     "name": "stdout",
     "output_type": "stream",
     "text": [
      "te_aray returned from Transactionencoder.fit().transform()\n"
     ]
    },
    {
     "data": {
      "text/plain": "array([[False,  True,  True,  True, False,  True,  True],\n       [False,  True,  True,  True, False,  True, False],\n       [ True, False,  True, False,  True,  True, False],\n       [ True, False,  True,  True, False,  True, False],\n       [False,  True, False,  True, False,  True,  True],\n       [False, False, False,  True, False,  True,  True],\n       [ True, False, False, False,  True, False,  True],\n       [ True, False, False, False,  True, False,  True],\n       [ True, False, False, False,  True, False,  True],\n       [ True, False, False, False,  True, False,  True],\n       [ True, False,  True, False,  True, False,  True],\n       [ True, False,  True, False,  True, False,  True],\n       [False, False, False, False,  True,  True,  True],\n       [False, False, False, False,  True, False,  True],\n       [False, False,  True, False,  True, False, False],\n       [False, False,  True, False,  True, False, False],\n       [False, False, False,  True, False,  True,  True],\n       [False, False, False,  True, False,  True,  True],\n       [False,  True, False,  True, False,  True,  True],\n       [False,  True,  True, False, False,  True,  True]])"
     },
     "execution_count": 58,
     "metadata": {},
     "output_type": "execute_result"
    }
   ],
   "source": [
    "import pandas as pd\n",
    "from csv import reader\n",
    "from mlxtend.frequent_patterns import apriori, association_rules\n",
    "from mlxtend.preprocessing import TransactionEncoder\n",
    "\n",
    "pd.set_option('display.max_rows', None)\n",
    "pd.set_option('display.width', None)\n",
    "\n",
    "theData = [\n",
    "['milk','onion','egg','bread','chili'],\n",
    "['milk','egg','bread','chili'],\n",
    "['milk','garlic','beans','chili'],\n",
    "['milk','egg','beans','chili'],\n",
    "['milk','onion','egg','bread'],\n",
    "['milk','onion','egg'],\n",
    "['garlic','onion','beans'],\n",
    "['garlic','onion','beans'],\n",
    "['garlic','onion','beans'],\n",
    "['garlic','onion','beans'],\n",
    "['chili','garlic','onion','beans'],\n",
    "['chili','garlic','onion','beans'],\n",
    "['garlic','onion','milk'],\n",
    "['garlic','onion'],\n",
    "['garlic','chili'],\n",
    "['garlic','chili'],\n",
    "['milk','onion','egg'],\n",
    "['milk','onion','egg'],\n",
    "['milk','onion','egg','bread'],\n",
    "['milk','onion','chili','bread'],\n",
    "]\n",
    "\n",
    "# Use Transaction encoder to transform into an 1-hot boolean encoded numpy array\n",
    "te = TransactionEncoder()\n",
    "te_ary = te.fit(theData).transform(theData)\n",
    "\n",
    "print(\"te_aray returned from Transactionencoder.fit().transform()\")\n",
    "te_ary"
   ],
   "metadata": {
    "collapsed": false,
    "pycharm": {
     "name": "#%%\n"
    }
   }
  },
  {
   "cell_type": "code",
   "execution_count": 59,
   "outputs": [
    {
     "name": "stdout",
     "output_type": "stream",
     "text": [
      "DataFrame Version:\n"
     ]
    },
    {
     "data": {
      "text/plain": "    beans  bread  chili    egg  garlic   milk  onion\n0   False   True   True   True   False   True   True\n1   False   True   True   True   False   True  False\n2    True  False   True  False    True   True  False\n3    True  False   True   True   False   True  False\n4   False   True  False   True   False   True   True\n5   False  False  False   True   False   True   True\n6    True  False  False  False    True  False   True\n7    True  False  False  False    True  False   True\n8    True  False  False  False    True  False   True\n9    True  False  False  False    True  False   True\n10   True  False   True  False    True  False   True\n11   True  False   True  False    True  False   True\n12  False  False  False  False    True   True   True\n13  False  False  False  False    True  False   True\n14  False  False   True  False    True  False  False\n15  False  False   True  False    True  False  False\n16  False  False  False   True   False   True   True\n17  False  False  False   True   False   True   True\n18  False   True  False   True   False   True   True\n19  False   True   True  False   False   True   True",
      "text/html": "<div>\n<style scoped>\n    .dataframe tbody tr th:only-of-type {\n        vertical-align: middle;\n    }\n\n    .dataframe tbody tr th {\n        vertical-align: top;\n    }\n\n    .dataframe thead th {\n        text-align: right;\n    }\n</style>\n<table border=\"1\" class=\"dataframe\">\n  <thead>\n    <tr style=\"text-align: right;\">\n      <th></th>\n      <th>beans</th>\n      <th>bread</th>\n      <th>chili</th>\n      <th>egg</th>\n      <th>garlic</th>\n      <th>milk</th>\n      <th>onion</th>\n    </tr>\n  </thead>\n  <tbody>\n    <tr>\n      <th>0</th>\n      <td>False</td>\n      <td>True</td>\n      <td>True</td>\n      <td>True</td>\n      <td>False</td>\n      <td>True</td>\n      <td>True</td>\n    </tr>\n    <tr>\n      <th>1</th>\n      <td>False</td>\n      <td>True</td>\n      <td>True</td>\n      <td>True</td>\n      <td>False</td>\n      <td>True</td>\n      <td>False</td>\n    </tr>\n    <tr>\n      <th>2</th>\n      <td>True</td>\n      <td>False</td>\n      <td>True</td>\n      <td>False</td>\n      <td>True</td>\n      <td>True</td>\n      <td>False</td>\n    </tr>\n    <tr>\n      <th>3</th>\n      <td>True</td>\n      <td>False</td>\n      <td>True</td>\n      <td>True</td>\n      <td>False</td>\n      <td>True</td>\n      <td>False</td>\n    </tr>\n    <tr>\n      <th>4</th>\n      <td>False</td>\n      <td>True</td>\n      <td>False</td>\n      <td>True</td>\n      <td>False</td>\n      <td>True</td>\n      <td>True</td>\n    </tr>\n    <tr>\n      <th>5</th>\n      <td>False</td>\n      <td>False</td>\n      <td>False</td>\n      <td>True</td>\n      <td>False</td>\n      <td>True</td>\n      <td>True</td>\n    </tr>\n    <tr>\n      <th>6</th>\n      <td>True</td>\n      <td>False</td>\n      <td>False</td>\n      <td>False</td>\n      <td>True</td>\n      <td>False</td>\n      <td>True</td>\n    </tr>\n    <tr>\n      <th>7</th>\n      <td>True</td>\n      <td>False</td>\n      <td>False</td>\n      <td>False</td>\n      <td>True</td>\n      <td>False</td>\n      <td>True</td>\n    </tr>\n    <tr>\n      <th>8</th>\n      <td>True</td>\n      <td>False</td>\n      <td>False</td>\n      <td>False</td>\n      <td>True</td>\n      <td>False</td>\n      <td>True</td>\n    </tr>\n    <tr>\n      <th>9</th>\n      <td>True</td>\n      <td>False</td>\n      <td>False</td>\n      <td>False</td>\n      <td>True</td>\n      <td>False</td>\n      <td>True</td>\n    </tr>\n    <tr>\n      <th>10</th>\n      <td>True</td>\n      <td>False</td>\n      <td>True</td>\n      <td>False</td>\n      <td>True</td>\n      <td>False</td>\n      <td>True</td>\n    </tr>\n    <tr>\n      <th>11</th>\n      <td>True</td>\n      <td>False</td>\n      <td>True</td>\n      <td>False</td>\n      <td>True</td>\n      <td>False</td>\n      <td>True</td>\n    </tr>\n    <tr>\n      <th>12</th>\n      <td>False</td>\n      <td>False</td>\n      <td>False</td>\n      <td>False</td>\n      <td>True</td>\n      <td>True</td>\n      <td>True</td>\n    </tr>\n    <tr>\n      <th>13</th>\n      <td>False</td>\n      <td>False</td>\n      <td>False</td>\n      <td>False</td>\n      <td>True</td>\n      <td>False</td>\n      <td>True</td>\n    </tr>\n    <tr>\n      <th>14</th>\n      <td>False</td>\n      <td>False</td>\n      <td>True</td>\n      <td>False</td>\n      <td>True</td>\n      <td>False</td>\n      <td>False</td>\n    </tr>\n    <tr>\n      <th>15</th>\n      <td>False</td>\n      <td>False</td>\n      <td>True</td>\n      <td>False</td>\n      <td>True</td>\n      <td>False</td>\n      <td>False</td>\n    </tr>\n    <tr>\n      <th>16</th>\n      <td>False</td>\n      <td>False</td>\n      <td>False</td>\n      <td>True</td>\n      <td>False</td>\n      <td>True</td>\n      <td>True</td>\n    </tr>\n    <tr>\n      <th>17</th>\n      <td>False</td>\n      <td>False</td>\n      <td>False</td>\n      <td>True</td>\n      <td>False</td>\n      <td>True</td>\n      <td>True</td>\n    </tr>\n    <tr>\n      <th>18</th>\n      <td>False</td>\n      <td>True</td>\n      <td>False</td>\n      <td>True</td>\n      <td>False</td>\n      <td>True</td>\n      <td>True</td>\n    </tr>\n    <tr>\n      <th>19</th>\n      <td>False</td>\n      <td>True</td>\n      <td>True</td>\n      <td>False</td>\n      <td>False</td>\n      <td>True</td>\n      <td>True</td>\n    </tr>\n  </tbody>\n</table>\n</div>"
     },
     "execution_count": 59,
     "metadata": {},
     "output_type": "execute_result"
    }
   ],
   "source": [
    "# Convert into a dataframe for convenience and to pas into the apriori\n",
    "df2 = pd.DataFrame(te_ary, columns=te.columns_)\n",
    "\n",
    "print(\"DataFrame Version:\")\n",
    "df2.head(25)"
   ],
   "metadata": {
    "collapsed": false,
    "pycharm": {
     "name": "#%%\n"
    }
   }
  },
  {
   "cell_type": "code",
   "execution_count": 60,
   "outputs": [
    {
     "name": "stdout",
     "output_type": "stream",
     "text": [
      "Frequent Items:\n"
     ]
    },
    {
     "data": {
      "text/plain": "    support                itemsets  length\n5      0.75                 (onion)       1\n3      0.55                (garlic)       1\n4      0.55                  (milk)       1\n1      0.45                 (chili)       1\n8      0.40             (egg, milk)       2\n10     0.40         (garlic, onion)       2\n11     0.40           (milk, onion)       2\n0      0.40                 (beans)       1\n2      0.40                   (egg)       1\n6      0.35         (beans, garlic)       2\n12     0.30  (beans, garlic, onion)       3\n13     0.30      (egg, milk, onion)       3\n7      0.30          (beans, onion)       2\n9      0.30            (egg, onion)       2",
      "text/html": "<div>\n<style scoped>\n    .dataframe tbody tr th:only-of-type {\n        vertical-align: middle;\n    }\n\n    .dataframe tbody tr th {\n        vertical-align: top;\n    }\n\n    .dataframe thead th {\n        text-align: right;\n    }\n</style>\n<table border=\"1\" class=\"dataframe\">\n  <thead>\n    <tr style=\"text-align: right;\">\n      <th></th>\n      <th>support</th>\n      <th>itemsets</th>\n      <th>length</th>\n    </tr>\n  </thead>\n  <tbody>\n    <tr>\n      <th>5</th>\n      <td>0.75</td>\n      <td>(onion)</td>\n      <td>1</td>\n    </tr>\n    <tr>\n      <th>3</th>\n      <td>0.55</td>\n      <td>(garlic)</td>\n      <td>1</td>\n    </tr>\n    <tr>\n      <th>4</th>\n      <td>0.55</td>\n      <td>(milk)</td>\n      <td>1</td>\n    </tr>\n    <tr>\n      <th>1</th>\n      <td>0.45</td>\n      <td>(chili)</td>\n      <td>1</td>\n    </tr>\n    <tr>\n      <th>8</th>\n      <td>0.40</td>\n      <td>(egg, milk)</td>\n      <td>2</td>\n    </tr>\n    <tr>\n      <th>10</th>\n      <td>0.40</td>\n      <td>(garlic, onion)</td>\n      <td>2</td>\n    </tr>\n    <tr>\n      <th>11</th>\n      <td>0.40</td>\n      <td>(milk, onion)</td>\n      <td>2</td>\n    </tr>\n    <tr>\n      <th>0</th>\n      <td>0.40</td>\n      <td>(beans)</td>\n      <td>1</td>\n    </tr>\n    <tr>\n      <th>2</th>\n      <td>0.40</td>\n      <td>(egg)</td>\n      <td>1</td>\n    </tr>\n    <tr>\n      <th>6</th>\n      <td>0.35</td>\n      <td>(beans, garlic)</td>\n      <td>2</td>\n    </tr>\n    <tr>\n      <th>12</th>\n      <td>0.30</td>\n      <td>(beans, garlic, onion)</td>\n      <td>3</td>\n    </tr>\n    <tr>\n      <th>13</th>\n      <td>0.30</td>\n      <td>(egg, milk, onion)</td>\n      <td>3</td>\n    </tr>\n    <tr>\n      <th>7</th>\n      <td>0.30</td>\n      <td>(beans, onion)</td>\n      <td>2</td>\n    </tr>\n    <tr>\n      <th>9</th>\n      <td>0.30</td>\n      <td>(egg, onion)</td>\n      <td>2</td>\n    </tr>\n  </tbody>\n</table>\n</div>"
     },
     "execution_count": 60,
     "metadata": {},
     "output_type": "execute_result"
    }
   ],
   "source": [
    "# Call apriori to find frequent itemsets with min_support = 30%\n",
    "freq_items = apriori(df2, min_support=0.3, use_colnames=True)\n",
    "freq_items['length'] = freq_items['itemsets'].apply(lambda x: len(x))\n",
    "freq_items.sort_values(['support', 'length'], inplace=True, ascending=False)\n",
    "print(\"Frequent Items:\")\n",
    "freq_items"
   ],
   "metadata": {
    "collapsed": false,
    "pycharm": {
     "name": "#%%\n"
    }
   }
  },
  {
   "cell_type": "code",
   "execution_count": 63,
   "outputs": [
    {
     "name": "stdout",
     "output_type": "stream",
     "text": [
      "The Rules\n"
     ]
    },
    {
     "data": {
      "text/plain": "               ante          consequ  antsup  consup   sup      conf      lift\n0             (egg)           (milk)    0.40    0.55  0.40  1.000000  1.818182\n1            (milk)            (egg)    0.55    0.40  0.40  0.727273  1.818182\n2          (garlic)          (onion)    0.55    0.75  0.40  0.727273  0.969697\n3            (milk)          (onion)    0.55    0.75  0.40  0.727273  0.969697\n4           (beans)         (garlic)    0.40    0.55  0.35  0.875000  1.590909\n5   (beans, garlic)          (onion)    0.35    0.75  0.30  0.857143  1.142857\n6    (beans, onion)         (garlic)    0.30    0.55  0.30  1.000000  1.818182\n7   (garlic, onion)          (beans)    0.40    0.40  0.30  0.750000  1.875000\n8           (beans)  (garlic, onion)    0.40    0.40  0.30  0.750000  1.875000\n9       (egg, milk)          (onion)    0.40    0.75  0.30  0.750000  1.000000\n10     (egg, onion)           (milk)    0.30    0.55  0.30  1.000000  1.818182\n11    (milk, onion)            (egg)    0.40    0.40  0.30  0.750000  1.875000\n12            (egg)    (milk, onion)    0.40    0.40  0.30  0.750000  1.875000\n13          (beans)          (onion)    0.40    0.75  0.30  0.750000  1.000000\n14            (egg)          (onion)    0.40    0.75  0.30  0.750000  1.000000",
      "text/html": "<div>\n<style scoped>\n    .dataframe tbody tr th:only-of-type {\n        vertical-align: middle;\n    }\n\n    .dataframe tbody tr th {\n        vertical-align: top;\n    }\n\n    .dataframe thead th {\n        text-align: right;\n    }\n</style>\n<table border=\"1\" class=\"dataframe\">\n  <thead>\n    <tr style=\"text-align: right;\">\n      <th></th>\n      <th>ante</th>\n      <th>consequ</th>\n      <th>antsup</th>\n      <th>consup</th>\n      <th>sup</th>\n      <th>conf</th>\n      <th>lift</th>\n    </tr>\n  </thead>\n  <tbody>\n    <tr>\n      <th>0</th>\n      <td>(egg)</td>\n      <td>(milk)</td>\n      <td>0.40</td>\n      <td>0.55</td>\n      <td>0.40</td>\n      <td>1.000000</td>\n      <td>1.818182</td>\n    </tr>\n    <tr>\n      <th>1</th>\n      <td>(milk)</td>\n      <td>(egg)</td>\n      <td>0.55</td>\n      <td>0.40</td>\n      <td>0.40</td>\n      <td>0.727273</td>\n      <td>1.818182</td>\n    </tr>\n    <tr>\n      <th>2</th>\n      <td>(garlic)</td>\n      <td>(onion)</td>\n      <td>0.55</td>\n      <td>0.75</td>\n      <td>0.40</td>\n      <td>0.727273</td>\n      <td>0.969697</td>\n    </tr>\n    <tr>\n      <th>3</th>\n      <td>(milk)</td>\n      <td>(onion)</td>\n      <td>0.55</td>\n      <td>0.75</td>\n      <td>0.40</td>\n      <td>0.727273</td>\n      <td>0.969697</td>\n    </tr>\n    <tr>\n      <th>4</th>\n      <td>(beans)</td>\n      <td>(garlic)</td>\n      <td>0.40</td>\n      <td>0.55</td>\n      <td>0.35</td>\n      <td>0.875000</td>\n      <td>1.590909</td>\n    </tr>\n    <tr>\n      <th>5</th>\n      <td>(beans, garlic)</td>\n      <td>(onion)</td>\n      <td>0.35</td>\n      <td>0.75</td>\n      <td>0.30</td>\n      <td>0.857143</td>\n      <td>1.142857</td>\n    </tr>\n    <tr>\n      <th>6</th>\n      <td>(beans, onion)</td>\n      <td>(garlic)</td>\n      <td>0.30</td>\n      <td>0.55</td>\n      <td>0.30</td>\n      <td>1.000000</td>\n      <td>1.818182</td>\n    </tr>\n    <tr>\n      <th>7</th>\n      <td>(garlic, onion)</td>\n      <td>(beans)</td>\n      <td>0.40</td>\n      <td>0.40</td>\n      <td>0.30</td>\n      <td>0.750000</td>\n      <td>1.875000</td>\n    </tr>\n    <tr>\n      <th>8</th>\n      <td>(beans)</td>\n      <td>(garlic, onion)</td>\n      <td>0.40</td>\n      <td>0.40</td>\n      <td>0.30</td>\n      <td>0.750000</td>\n      <td>1.875000</td>\n    </tr>\n    <tr>\n      <th>9</th>\n      <td>(egg, milk)</td>\n      <td>(onion)</td>\n      <td>0.40</td>\n      <td>0.75</td>\n      <td>0.30</td>\n      <td>0.750000</td>\n      <td>1.000000</td>\n    </tr>\n    <tr>\n      <th>10</th>\n      <td>(egg, onion)</td>\n      <td>(milk)</td>\n      <td>0.30</td>\n      <td>0.55</td>\n      <td>0.30</td>\n      <td>1.000000</td>\n      <td>1.818182</td>\n    </tr>\n    <tr>\n      <th>11</th>\n      <td>(milk, onion)</td>\n      <td>(egg)</td>\n      <td>0.40</td>\n      <td>0.40</td>\n      <td>0.30</td>\n      <td>0.750000</td>\n      <td>1.875000</td>\n    </tr>\n    <tr>\n      <th>12</th>\n      <td>(egg)</td>\n      <td>(milk, onion)</td>\n      <td>0.40</td>\n      <td>0.40</td>\n      <td>0.30</td>\n      <td>0.750000</td>\n      <td>1.875000</td>\n    </tr>\n    <tr>\n      <th>13</th>\n      <td>(beans)</td>\n      <td>(onion)</td>\n      <td>0.40</td>\n      <td>0.75</td>\n      <td>0.30</td>\n      <td>0.750000</td>\n      <td>1.000000</td>\n    </tr>\n    <tr>\n      <th>14</th>\n      <td>(egg)</td>\n      <td>(onion)</td>\n      <td>0.40</td>\n      <td>0.75</td>\n      <td>0.30</td>\n      <td>0.750000</td>\n      <td>1.000000</td>\n    </tr>\n  </tbody>\n</table>\n</div>"
     },
     "execution_count": 63,
     "metadata": {},
     "output_type": "execute_result"
    }
   ],
   "source": [
    "# Mining the rules by calling association_rules\n",
    "print(\"The Rules\")\n",
    "rules = association_rules(freq_items, metric=\"confidence\", min_threshold=0.7)\n",
    "rules.columns = ['ante', 'consequ', 'antsup', 'consup', 'sup', 'conf', 'lift', 'leverage', 'convic']\n",
    "rules[[\"ante\",\"consequ\",\"antsup\",\"consup\",\"sup\",\"conf\",\"lift\"]]"
   ],
   "metadata": {
    "collapsed": false,
    "pycharm": {
     "name": "#%%\n"
    }
   }
  },
  {
   "cell_type": "markdown",
   "source": [
    "Questions 1: <br>\n",
    "Using the values already set in the code  <br>\n",
    "(i.e. apriori min_support = 0.3, association_rule min_threshold = 0.7) <br>\n",
    "look at the result an answer: <br>\n",
    "\n",
    "a). Which 1-itemset has the greatest support?"
   ],
   "metadata": {
    "collapsed": false,
    "pycharm": {
     "name": "#%% md\n"
    }
   }
  },
  {
   "cell_type": "code",
   "execution_count": 64,
   "outputs": [
    {
     "data": {
      "text/plain": "   support itemsets  length\n5     0.75  (onion)       1",
      "text/html": "<div>\n<style scoped>\n    .dataframe tbody tr th:only-of-type {\n        vertical-align: middle;\n    }\n\n    .dataframe tbody tr th {\n        vertical-align: top;\n    }\n\n    .dataframe thead th {\n        text-align: right;\n    }\n</style>\n<table border=\"1\" class=\"dataframe\">\n  <thead>\n    <tr style=\"text-align: right;\">\n      <th></th>\n      <th>support</th>\n      <th>itemsets</th>\n      <th>length</th>\n    </tr>\n  </thead>\n  <tbody>\n    <tr>\n      <th>5</th>\n      <td>0.75</td>\n      <td>(onion)</td>\n      <td>1</td>\n    </tr>\n  </tbody>\n</table>\n</div>"
     },
     "execution_count": 64,
     "metadata": {},
     "output_type": "execute_result"
    }
   ],
   "source": [
    "freq_items.sort_values(['support', 'length'], inplace=True, ascending=False)\n",
    "a1 = freq_items[((freq_items['length'] == 1) & (freq_items['support'] == freq_items.support.max()))]\n",
    "a1"
   ],
   "metadata": {
    "collapsed": false,
    "pycharm": {
     "name": "#%%\n"
    }
   }
  },
  {
   "cell_type": "markdown",
   "source": [
    "b). which 3-itemsets have support >= 0.3"
   ],
   "metadata": {
    "collapsed": false,
    "pycharm": {
     "name": "#%% md\n"
    }
   }
  },
  {
   "cell_type": "code",
   "execution_count": 65,
   "outputs": [
    {
     "data": {
      "text/plain": "    support                itemsets  length\n12      0.3  (beans, garlic, onion)       3\n13      0.3      (egg, milk, onion)       3",
      "text/html": "<div>\n<style scoped>\n    .dataframe tbody tr th:only-of-type {\n        vertical-align: middle;\n    }\n\n    .dataframe tbody tr th {\n        vertical-align: top;\n    }\n\n    .dataframe thead th {\n        text-align: right;\n    }\n</style>\n<table border=\"1\" class=\"dataframe\">\n  <thead>\n    <tr style=\"text-align: right;\">\n      <th></th>\n      <th>support</th>\n      <th>itemsets</th>\n      <th>length</th>\n    </tr>\n  </thead>\n  <tbody>\n    <tr>\n      <th>12</th>\n      <td>0.3</td>\n      <td>(beans, garlic, onion)</td>\n      <td>3</td>\n    </tr>\n    <tr>\n      <th>13</th>\n      <td>0.3</td>\n      <td>(egg, milk, onion)</td>\n      <td>3</td>\n    </tr>\n  </tbody>\n</table>\n</div>"
     },
     "execution_count": 65,
     "metadata": {},
     "output_type": "execute_result"
    }
   ],
   "source": [
    "b1 = freq_items[((freq_items['length'] == 3) & (freq_items['support'] >= 0.3))]\n",
    "b1"
   ],
   "metadata": {
    "collapsed": false,
    "pycharm": {
     "name": "#%%\n"
    }
   }
  },
  {
   "cell_type": "markdown",
   "source": [
    "c). Why do the two rules (milk->egg and egg->milk) have different confidence values? <br>\n",
    "The reason that (milk->egg and egg->milk) have different confidence values is because they have different\n",
    "levels of support. There conditional probabilities are different."
   ],
   "metadata": {
    "collapsed": false,
    "pycharm": {
     "name": "#%% md\n"
    }
   }
  },
  {
   "cell_type": "code",
   "execution_count": 73,
   "outputs": [
    {
     "data": {
      "text/plain": "   support itemsets  length\n4     0.55   (milk)       1\n2     0.40    (egg)       1",
      "text/html": "<div>\n<style scoped>\n    .dataframe tbody tr th:only-of-type {\n        vertical-align: middle;\n    }\n\n    .dataframe tbody tr th {\n        vertical-align: top;\n    }\n\n    .dataframe thead th {\n        text-align: right;\n    }\n</style>\n<table border=\"1\" class=\"dataframe\">\n  <thead>\n    <tr style=\"text-align: right;\">\n      <th></th>\n      <th>support</th>\n      <th>itemsets</th>\n      <th>length</th>\n    </tr>\n  </thead>\n  <tbody>\n    <tr>\n      <th>4</th>\n      <td>0.55</td>\n      <td>(milk)</td>\n      <td>1</td>\n    </tr>\n    <tr>\n      <th>2</th>\n      <td>0.40</td>\n      <td>(egg)</td>\n      <td>1</td>\n    </tr>\n  </tbody>\n</table>\n</div>"
     },
     "execution_count": 73,
     "metadata": {},
     "output_type": "execute_result"
    }
   ],
   "source": [
    "c1 = freq_items[(freq_items[\"itemsets\"] == frozenset({'milk'})) | (freq_items[\"itemsets\"] == frozenset({'egg'}))]\n",
    "c1"
   ],
   "metadata": {
    "collapsed": false,
    "pycharm": {
     "name": "#%%\n"
    }
   }
  },
  {
   "cell_type": "markdown",
   "source": [
    "d) Which rules are not \"interesting\"? Why do you say that?\n",
    "\n",
    "The following all have a lift that is or below 1."
   ],
   "metadata": {
    "collapsed": false,
    "pycharm": {
     "name": "#%% md\n"
    }
   }
  },
  {
   "cell_type": "code",
   "execution_count": 74,
   "outputs": [
    {
     "data": {
      "text/plain": "           ante  consequ  antsup  consup  sup      conf      lift\n2      (garlic)  (onion)    0.55    0.75  0.4  0.727273  0.969697\n3        (milk)  (onion)    0.55    0.75  0.4  0.727273  0.969697\n9   (egg, milk)  (onion)    0.40    0.75  0.3  0.750000  1.000000\n13      (beans)  (onion)    0.40    0.75  0.3  0.750000  1.000000\n14        (egg)  (onion)    0.40    0.75  0.3  0.750000  1.000000",
      "text/html": "<div>\n<style scoped>\n    .dataframe tbody tr th:only-of-type {\n        vertical-align: middle;\n    }\n\n    .dataframe tbody tr th {\n        vertical-align: top;\n    }\n\n    .dataframe thead th {\n        text-align: right;\n    }\n</style>\n<table border=\"1\" class=\"dataframe\">\n  <thead>\n    <tr style=\"text-align: right;\">\n      <th></th>\n      <th>ante</th>\n      <th>consequ</th>\n      <th>antsup</th>\n      <th>consup</th>\n      <th>sup</th>\n      <th>conf</th>\n      <th>lift</th>\n    </tr>\n  </thead>\n  <tbody>\n    <tr>\n      <th>2</th>\n      <td>(garlic)</td>\n      <td>(onion)</td>\n      <td>0.55</td>\n      <td>0.75</td>\n      <td>0.4</td>\n      <td>0.727273</td>\n      <td>0.969697</td>\n    </tr>\n    <tr>\n      <th>3</th>\n      <td>(milk)</td>\n      <td>(onion)</td>\n      <td>0.55</td>\n      <td>0.75</td>\n      <td>0.4</td>\n      <td>0.727273</td>\n      <td>0.969697</td>\n    </tr>\n    <tr>\n      <th>9</th>\n      <td>(egg, milk)</td>\n      <td>(onion)</td>\n      <td>0.40</td>\n      <td>0.75</td>\n      <td>0.3</td>\n      <td>0.750000</td>\n      <td>1.000000</td>\n    </tr>\n    <tr>\n      <th>13</th>\n      <td>(beans)</td>\n      <td>(onion)</td>\n      <td>0.40</td>\n      <td>0.75</td>\n      <td>0.3</td>\n      <td>0.750000</td>\n      <td>1.000000</td>\n    </tr>\n    <tr>\n      <th>14</th>\n      <td>(egg)</td>\n      <td>(onion)</td>\n      <td>0.40</td>\n      <td>0.75</td>\n      <td>0.3</td>\n      <td>0.750000</td>\n      <td>1.000000</td>\n    </tr>\n  </tbody>\n</table>\n</div>"
     },
     "execution_count": 74,
     "metadata": {},
     "output_type": "execute_result"
    }
   ],
   "source": [
    "not_interesting = rules[[\"ante\",\"consequ\",\"antsup\",\"consup\",\"sup\",\"conf\",\"lift\"]]\n",
    "d1 = not_interesting[not_interesting[\"lift\"] <= 1]\n",
    "d1"
   ],
   "metadata": {
    "collapsed": false,
    "pycharm": {
     "name": "#%%\n"
    }
   }
  },
  {
   "cell_type": "markdown",
   "source": [
    "e) Two Rules have a lift value < 1.0 (garlic-> onion and milk->onion). Why are these especially useless rules?\n",
    "\n",
    "Because there lift is below 1. Meaning that they do not have a coorelation"
   ],
   "metadata": {
    "collapsed": false,
    "pycharm": {
     "name": "#%% md\n"
    }
   }
  },
  {
   "cell_type": "code",
   "execution_count": 88,
   "outputs": [
    {
     "data": {
      "text/plain": "       ante  consequ  antsup  consup  sup      conf      lift\n2  (garlic)  (onion)    0.55    0.75  0.4  0.727273  0.969697\n3    (milk)  (onion)    0.55    0.75  0.4  0.727273  0.969697",
      "text/html": "<div>\n<style scoped>\n    .dataframe tbody tr th:only-of-type {\n        vertical-align: middle;\n    }\n\n    .dataframe tbody tr th {\n        vertical-align: top;\n    }\n\n    .dataframe thead th {\n        text-align: right;\n    }\n</style>\n<table border=\"1\" class=\"dataframe\">\n  <thead>\n    <tr style=\"text-align: right;\">\n      <th></th>\n      <th>ante</th>\n      <th>consequ</th>\n      <th>antsup</th>\n      <th>consup</th>\n      <th>sup</th>\n      <th>conf</th>\n      <th>lift</th>\n    </tr>\n  </thead>\n  <tbody>\n    <tr>\n      <th>2</th>\n      <td>(garlic)</td>\n      <td>(onion)</td>\n      <td>0.55</td>\n      <td>0.75</td>\n      <td>0.4</td>\n      <td>0.727273</td>\n      <td>0.969697</td>\n    </tr>\n    <tr>\n      <th>3</th>\n      <td>(milk)</td>\n      <td>(onion)</td>\n      <td>0.55</td>\n      <td>0.75</td>\n      <td>0.4</td>\n      <td>0.727273</td>\n      <td>0.969697</td>\n    </tr>\n  </tbody>\n</table>\n</div>"
     },
     "execution_count": 88,
     "metadata": {},
     "output_type": "execute_result"
    }
   ],
   "source": [
    "e1 = not_interesting[not_interesting[\"lift\"] <= 0.99999]\n",
    "e1"
   ],
   "metadata": {
    "collapsed": false,
    "pycharm": {
     "name": "#%%\n"
    }
   }
  },
  {
   "cell_type": "markdown",
   "source": [
    "2) The following file contains a clean version of ingredients in 256 indian dishes <br>\n",
    "Modify the example code to read in and process this file."
   ],
   "metadata": {
    "collapsed": false,
    "pycharm": {
     "name": "#%% md\n"
    }
   }
  },
  {
   "cell_type": "code",
   "execution_count": 90,
   "outputs": [
    {
     "data": {
      "text/plain": "     jaggery  all purpose flour  almond  almonds   aloo  alum powder  \\\n0      False              False   False    False  False        False   \n1      False              False   False    False  False        False   \n2      False              False   False    False  False        False   \n3      False              False   False     True  False        False   \n4      False              False   False    False  False        False   \n5      False              False   False    False  False        False   \n6      False              False   False    False  False        False   \n7      False              False   False    False  False        False   \n8      False              False   False    False  False        False   \n9      False              False   False    False  False        False   \n10     False              False   False    False  False        False   \n11     False              False   False    False  False        False   \n12     False              False   False    False  False        False   \n13     False              False   False    False  False         True   \n14     False              False   False    False  False        False   \n15     False              False   False    False  False        False   \n16     False              False   False    False  False        False   \n17     False              False   False    False  False        False   \n18     False              False   False    False  False        False   \n19     False              False   False    False  False        False   \n20     False              False   False    False  False        False   \n21     False              False   False    False  False        False   \n22     False              False   False    False  False        False   \n23     False              False   False    False  False        False   \n24     False              False   False    False  False        False   \n\n    amaranth leaves  amchur powder  apricots  arbi ke patte  ...  \\\n0             False          False     False          False  ...   \n1             False          False     False          False  ...   \n2             False          False     False          False  ...   \n3             False          False     False          False  ...   \n4             False          False     False          False  ...   \n5             False          False     False          False  ...   \n6             False          False     False          False  ...   \n7             False          False     False          False  ...   \n8             False          False     False          False  ...   \n9             False          False     False          False  ...   \n10            False          False     False          False  ...   \n11            False          False     False          False  ...   \n12            False          False     False          False  ...   \n13            False          False     False          False  ...   \n14            False          False     False          False  ...   \n15            False          False     False          False  ...   \n16            False          False     False          False  ...   \n17            False          False     False          False  ...   \n18            False          False     False          False  ...   \n19            False          False     False          False  ...   \n20            False          False     False          False  ...   \n21            False          False     False          False  ...   \n22            False          False     False          False  ...   \n23            False          False     False          False  ...   \n24            False          False     False          False  ...   \n\n    whole urad dal  whole wheat bread  whole wheat flour  whole wheat rava  \\\n0            False              False              False             False   \n1            False              False              False             False   \n2            False              False              False             False   \n3            False              False              False             False   \n4            False              False              False             False   \n5            False              False              False             False   \n6            False              False              False             False   \n7            False              False              False             False   \n8            False              False              False             False   \n9            False              False              False             False   \n10           False              False              False             False   \n11           False              False              False             False   \n12           False              False              False             False   \n13           False              False              False             False   \n14           False              False              False             False   \n15           False              False              False             False   \n16           False              False              False             False   \n17           False              False              False             False   \n18           False              False              False             False   \n19           False              False              False             False   \n20           False              False              False             False   \n21           False              False              False             False   \n22           False              False              False             False   \n23           False              False              False             False   \n24           False              False              False             False   \n\n    wild mushrooms  wine vinegar  yellow moong daal  yellow mustard  yoghurt  \\\n0            False         False              False           False    False   \n1            False         False              False           False    False   \n2            False         False              False           False    False   \n3            False         False              False           False    False   \n4            False         False              False           False    False   \n5            False         False              False           False    False   \n6            False         False              False           False    False   \n7            False         False              False           False    False   \n8            False         False              False           False    False   \n9            False         False              False           False    False   \n10           False         False              False           False    False   \n11           False         False              False           False    False   \n12           False         False              False           False     True   \n13           False         False              False           False    False   \n14           False         False              False           False    False   \n15           False         False              False           False    False   \n16           False         False              False           False    False   \n17           False         False              False           False    False   \n18           False         False              False           False    False   \n19           False         False              False           False    False   \n20           False         False              False           False    False   \n21           False         False              False           False    False   \n22           False         False              False           False    False   \n23           False         False              False           False    False   \n24           False         False              False           False    False   \n\n    yogurt  \n0     True  \n1    False  \n2    False  \n3    False  \n4    False  \n5    False  \n6    False  \n7    False  \n8    False  \n9    False  \n10   False  \n11    True  \n12   False  \n13   False  \n14   False  \n15   False  \n16   False  \n17   False  \n18   False  \n19   False  \n20   False  \n21   False  \n22   False  \n23   False  \n24   False  \n\n[25 rows x 367 columns]",
      "text/html": "<div>\n<style scoped>\n    .dataframe tbody tr th:only-of-type {\n        vertical-align: middle;\n    }\n\n    .dataframe tbody tr th {\n        vertical-align: top;\n    }\n\n    .dataframe thead th {\n        text-align: right;\n    }\n</style>\n<table border=\"1\" class=\"dataframe\">\n  <thead>\n    <tr style=\"text-align: right;\">\n      <th></th>\n      <th>jaggery</th>\n      <th>all purpose flour</th>\n      <th>almond</th>\n      <th>almonds</th>\n      <th>aloo</th>\n      <th>alum powder</th>\n      <th>amaranth leaves</th>\n      <th>amchur powder</th>\n      <th>apricots</th>\n      <th>arbi ke patte</th>\n      <th>...</th>\n      <th>whole urad dal</th>\n      <th>whole wheat bread</th>\n      <th>whole wheat flour</th>\n      <th>whole wheat rava</th>\n      <th>wild mushrooms</th>\n      <th>wine vinegar</th>\n      <th>yellow moong daal</th>\n      <th>yellow mustard</th>\n      <th>yoghurt</th>\n      <th>yogurt</th>\n    </tr>\n  </thead>\n  <tbody>\n    <tr>\n      <th>0</th>\n      <td>False</td>\n      <td>False</td>\n      <td>False</td>\n      <td>False</td>\n      <td>False</td>\n      <td>False</td>\n      <td>False</td>\n      <td>False</td>\n      <td>False</td>\n      <td>False</td>\n      <td>...</td>\n      <td>False</td>\n      <td>False</td>\n      <td>False</td>\n      <td>False</td>\n      <td>False</td>\n      <td>False</td>\n      <td>False</td>\n      <td>False</td>\n      <td>False</td>\n      <td>True</td>\n    </tr>\n    <tr>\n      <th>1</th>\n      <td>False</td>\n      <td>False</td>\n      <td>False</td>\n      <td>False</td>\n      <td>False</td>\n      <td>False</td>\n      <td>False</td>\n      <td>False</td>\n      <td>False</td>\n      <td>False</td>\n      <td>...</td>\n      <td>False</td>\n      <td>False</td>\n      <td>False</td>\n      <td>False</td>\n      <td>False</td>\n      <td>False</td>\n      <td>False</td>\n      <td>False</td>\n      <td>False</td>\n      <td>False</td>\n    </tr>\n    <tr>\n      <th>2</th>\n      <td>False</td>\n      <td>False</td>\n      <td>False</td>\n      <td>False</td>\n      <td>False</td>\n      <td>False</td>\n      <td>False</td>\n      <td>False</td>\n      <td>False</td>\n      <td>False</td>\n      <td>...</td>\n      <td>False</td>\n      <td>False</td>\n      <td>False</td>\n      <td>False</td>\n      <td>False</td>\n      <td>False</td>\n      <td>False</td>\n      <td>False</td>\n      <td>False</td>\n      <td>False</td>\n    </tr>\n    <tr>\n      <th>3</th>\n      <td>False</td>\n      <td>False</td>\n      <td>False</td>\n      <td>True</td>\n      <td>False</td>\n      <td>False</td>\n      <td>False</td>\n      <td>False</td>\n      <td>False</td>\n      <td>False</td>\n      <td>...</td>\n      <td>False</td>\n      <td>False</td>\n      <td>False</td>\n      <td>False</td>\n      <td>False</td>\n      <td>False</td>\n      <td>False</td>\n      <td>False</td>\n      <td>False</td>\n      <td>False</td>\n    </tr>\n    <tr>\n      <th>4</th>\n      <td>False</td>\n      <td>False</td>\n      <td>False</td>\n      <td>False</td>\n      <td>False</td>\n      <td>False</td>\n      <td>False</td>\n      <td>False</td>\n      <td>False</td>\n      <td>False</td>\n      <td>...</td>\n      <td>False</td>\n      <td>False</td>\n      <td>False</td>\n      <td>False</td>\n      <td>False</td>\n      <td>False</td>\n      <td>False</td>\n      <td>False</td>\n      <td>False</td>\n      <td>False</td>\n    </tr>\n    <tr>\n      <th>5</th>\n      <td>False</td>\n      <td>False</td>\n      <td>False</td>\n      <td>False</td>\n      <td>False</td>\n      <td>False</td>\n      <td>False</td>\n      <td>False</td>\n      <td>False</td>\n      <td>False</td>\n      <td>...</td>\n      <td>False</td>\n      <td>False</td>\n      <td>False</td>\n      <td>False</td>\n      <td>False</td>\n      <td>False</td>\n      <td>False</td>\n      <td>False</td>\n      <td>False</td>\n      <td>False</td>\n    </tr>\n    <tr>\n      <th>6</th>\n      <td>False</td>\n      <td>False</td>\n      <td>False</td>\n      <td>False</td>\n      <td>False</td>\n      <td>False</td>\n      <td>False</td>\n      <td>False</td>\n      <td>False</td>\n      <td>False</td>\n      <td>...</td>\n      <td>False</td>\n      <td>False</td>\n      <td>False</td>\n      <td>False</td>\n      <td>False</td>\n      <td>False</td>\n      <td>False</td>\n      <td>False</td>\n      <td>False</td>\n      <td>False</td>\n    </tr>\n    <tr>\n      <th>7</th>\n      <td>False</td>\n      <td>False</td>\n      <td>False</td>\n      <td>False</td>\n      <td>False</td>\n      <td>False</td>\n      <td>False</td>\n      <td>False</td>\n      <td>False</td>\n      <td>False</td>\n      <td>...</td>\n      <td>False</td>\n      <td>False</td>\n      <td>False</td>\n      <td>False</td>\n      <td>False</td>\n      <td>False</td>\n      <td>False</td>\n      <td>False</td>\n      <td>False</td>\n      <td>False</td>\n    </tr>\n    <tr>\n      <th>8</th>\n      <td>False</td>\n      <td>False</td>\n      <td>False</td>\n      <td>False</td>\n      <td>False</td>\n      <td>False</td>\n      <td>False</td>\n      <td>False</td>\n      <td>False</td>\n      <td>False</td>\n      <td>...</td>\n      <td>False</td>\n      <td>False</td>\n      <td>False</td>\n      <td>False</td>\n      <td>False</td>\n      <td>False</td>\n      <td>False</td>\n      <td>False</td>\n      <td>False</td>\n      <td>False</td>\n    </tr>\n    <tr>\n      <th>9</th>\n      <td>False</td>\n      <td>False</td>\n      <td>False</td>\n      <td>False</td>\n      <td>False</td>\n      <td>False</td>\n      <td>False</td>\n      <td>False</td>\n      <td>False</td>\n      <td>False</td>\n      <td>...</td>\n      <td>False</td>\n      <td>False</td>\n      <td>False</td>\n      <td>False</td>\n      <td>False</td>\n      <td>False</td>\n      <td>False</td>\n      <td>False</td>\n      <td>False</td>\n      <td>False</td>\n    </tr>\n    <tr>\n      <th>10</th>\n      <td>False</td>\n      <td>False</td>\n      <td>False</td>\n      <td>False</td>\n      <td>False</td>\n      <td>False</td>\n      <td>False</td>\n      <td>False</td>\n      <td>False</td>\n      <td>False</td>\n      <td>...</td>\n      <td>False</td>\n      <td>False</td>\n      <td>False</td>\n      <td>False</td>\n      <td>False</td>\n      <td>False</td>\n      <td>False</td>\n      <td>False</td>\n      <td>False</td>\n      <td>False</td>\n    </tr>\n    <tr>\n      <th>11</th>\n      <td>False</td>\n      <td>False</td>\n      <td>False</td>\n      <td>False</td>\n      <td>False</td>\n      <td>False</td>\n      <td>False</td>\n      <td>False</td>\n      <td>False</td>\n      <td>False</td>\n      <td>...</td>\n      <td>False</td>\n      <td>False</td>\n      <td>False</td>\n      <td>False</td>\n      <td>False</td>\n      <td>False</td>\n      <td>False</td>\n      <td>False</td>\n      <td>False</td>\n      <td>True</td>\n    </tr>\n    <tr>\n      <th>12</th>\n      <td>False</td>\n      <td>False</td>\n      <td>False</td>\n      <td>False</td>\n      <td>False</td>\n      <td>False</td>\n      <td>False</td>\n      <td>False</td>\n      <td>False</td>\n      <td>False</td>\n      <td>...</td>\n      <td>False</td>\n      <td>False</td>\n      <td>False</td>\n      <td>False</td>\n      <td>False</td>\n      <td>False</td>\n      <td>False</td>\n      <td>False</td>\n      <td>True</td>\n      <td>False</td>\n    </tr>\n    <tr>\n      <th>13</th>\n      <td>False</td>\n      <td>False</td>\n      <td>False</td>\n      <td>False</td>\n      <td>False</td>\n      <td>True</td>\n      <td>False</td>\n      <td>False</td>\n      <td>False</td>\n      <td>False</td>\n      <td>...</td>\n      <td>False</td>\n      <td>False</td>\n      <td>False</td>\n      <td>False</td>\n      <td>False</td>\n      <td>False</td>\n      <td>False</td>\n      <td>False</td>\n      <td>False</td>\n      <td>False</td>\n    </tr>\n    <tr>\n      <th>14</th>\n      <td>False</td>\n      <td>False</td>\n      <td>False</td>\n      <td>False</td>\n      <td>False</td>\n      <td>False</td>\n      <td>False</td>\n      <td>False</td>\n      <td>False</td>\n      <td>False</td>\n      <td>...</td>\n      <td>False</td>\n      <td>False</td>\n      <td>False</td>\n      <td>False</td>\n      <td>False</td>\n      <td>False</td>\n      <td>False</td>\n      <td>False</td>\n      <td>False</td>\n      <td>False</td>\n    </tr>\n    <tr>\n      <th>15</th>\n      <td>False</td>\n      <td>False</td>\n      <td>False</td>\n      <td>False</td>\n      <td>False</td>\n      <td>False</td>\n      <td>False</td>\n      <td>False</td>\n      <td>False</td>\n      <td>False</td>\n      <td>...</td>\n      <td>False</td>\n      <td>False</td>\n      <td>False</td>\n      <td>False</td>\n      <td>False</td>\n      <td>False</td>\n      <td>False</td>\n      <td>False</td>\n      <td>False</td>\n      <td>False</td>\n    </tr>\n    <tr>\n      <th>16</th>\n      <td>False</td>\n      <td>False</td>\n      <td>False</td>\n      <td>False</td>\n      <td>False</td>\n      <td>False</td>\n      <td>False</td>\n      <td>False</td>\n      <td>False</td>\n      <td>False</td>\n      <td>...</td>\n      <td>False</td>\n      <td>False</td>\n      <td>False</td>\n      <td>False</td>\n      <td>False</td>\n      <td>False</td>\n      <td>False</td>\n      <td>False</td>\n      <td>False</td>\n      <td>False</td>\n    </tr>\n    <tr>\n      <th>17</th>\n      <td>False</td>\n      <td>False</td>\n      <td>False</td>\n      <td>False</td>\n      <td>False</td>\n      <td>False</td>\n      <td>False</td>\n      <td>False</td>\n      <td>False</td>\n      <td>False</td>\n      <td>...</td>\n      <td>False</td>\n      <td>False</td>\n      <td>False</td>\n      <td>False</td>\n      <td>False</td>\n      <td>False</td>\n      <td>False</td>\n      <td>False</td>\n      <td>False</td>\n      <td>False</td>\n    </tr>\n    <tr>\n      <th>18</th>\n      <td>False</td>\n      <td>False</td>\n      <td>False</td>\n      <td>False</td>\n      <td>False</td>\n      <td>False</td>\n      <td>False</td>\n      <td>False</td>\n      <td>False</td>\n      <td>False</td>\n      <td>...</td>\n      <td>False</td>\n      <td>False</td>\n      <td>False</td>\n      <td>False</td>\n      <td>False</td>\n      <td>False</td>\n      <td>False</td>\n      <td>False</td>\n      <td>False</td>\n      <td>False</td>\n    </tr>\n    <tr>\n      <th>19</th>\n      <td>False</td>\n      <td>False</td>\n      <td>False</td>\n      <td>False</td>\n      <td>False</td>\n      <td>False</td>\n      <td>False</td>\n      <td>False</td>\n      <td>False</td>\n      <td>False</td>\n      <td>...</td>\n      <td>False</td>\n      <td>False</td>\n      <td>False</td>\n      <td>False</td>\n      <td>False</td>\n      <td>False</td>\n      <td>False</td>\n      <td>False</td>\n      <td>False</td>\n      <td>False</td>\n    </tr>\n    <tr>\n      <th>20</th>\n      <td>False</td>\n      <td>False</td>\n      <td>False</td>\n      <td>False</td>\n      <td>False</td>\n      <td>False</td>\n      <td>False</td>\n      <td>False</td>\n      <td>False</td>\n      <td>False</td>\n      <td>...</td>\n      <td>False</td>\n      <td>False</td>\n      <td>False</td>\n      <td>False</td>\n      <td>False</td>\n      <td>False</td>\n      <td>False</td>\n      <td>False</td>\n      <td>False</td>\n      <td>False</td>\n    </tr>\n    <tr>\n      <th>21</th>\n      <td>False</td>\n      <td>False</td>\n      <td>False</td>\n      <td>False</td>\n      <td>False</td>\n      <td>False</td>\n      <td>False</td>\n      <td>False</td>\n      <td>False</td>\n      <td>False</td>\n      <td>...</td>\n      <td>False</td>\n      <td>False</td>\n      <td>False</td>\n      <td>False</td>\n      <td>False</td>\n      <td>False</td>\n      <td>False</td>\n      <td>False</td>\n      <td>False</td>\n      <td>False</td>\n    </tr>\n    <tr>\n      <th>22</th>\n      <td>False</td>\n      <td>False</td>\n      <td>False</td>\n      <td>False</td>\n      <td>False</td>\n      <td>False</td>\n      <td>False</td>\n      <td>False</td>\n      <td>False</td>\n      <td>False</td>\n      <td>...</td>\n      <td>False</td>\n      <td>False</td>\n      <td>False</td>\n      <td>False</td>\n      <td>False</td>\n      <td>False</td>\n      <td>False</td>\n      <td>False</td>\n      <td>False</td>\n      <td>False</td>\n    </tr>\n    <tr>\n      <th>23</th>\n      <td>False</td>\n      <td>False</td>\n      <td>False</td>\n      <td>False</td>\n      <td>False</td>\n      <td>False</td>\n      <td>False</td>\n      <td>False</td>\n      <td>False</td>\n      <td>False</td>\n      <td>...</td>\n      <td>False</td>\n      <td>False</td>\n      <td>False</td>\n      <td>False</td>\n      <td>False</td>\n      <td>False</td>\n      <td>False</td>\n      <td>False</td>\n      <td>False</td>\n      <td>False</td>\n    </tr>\n    <tr>\n      <th>24</th>\n      <td>False</td>\n      <td>False</td>\n      <td>False</td>\n      <td>False</td>\n      <td>False</td>\n      <td>False</td>\n      <td>False</td>\n      <td>False</td>\n      <td>False</td>\n      <td>False</td>\n      <td>...</td>\n      <td>False</td>\n      <td>False</td>\n      <td>False</td>\n      <td>False</td>\n      <td>False</td>\n      <td>False</td>\n      <td>False</td>\n      <td>False</td>\n      <td>False</td>\n      <td>False</td>\n    </tr>\n  </tbody>\n</table>\n<p>25 rows × 367 columns</p>\n</div>"
     },
     "execution_count": 90,
     "metadata": {},
     "output_type": "execute_result"
    }
   ],
   "source": [
    "from csv import reader\n",
    "\n",
    "the_2_data = []\n",
    "with open('exercise5b_input.csv.txt', 'r') as read_obj:\n",
    "    csv_reader = reader(read_obj)\n",
    "    for row in csv_reader:\n",
    "        the_2_data.append(row)\n",
    "\n",
    "\n",
    "# Using the Transaction Encoder to Transform into an 1-hot boolean encoded numpy array\n",
    "te = TransactionEncoder()\n",
    "te_ary = te.fit(the_2_data).transform(the_2_data)\n",
    "\n",
    "# Converting into a dataframe for the convenience of passing into apriori\n",
    "df_2 = pd.DataFrame(te_ary, columns= te.columns_)\n",
    "df_2.head(25)"
   ],
   "metadata": {
    "collapsed": false,
    "pycharm": {
     "name": "#%%\n"
    }
   }
  },
  {
   "cell_type": "markdown",
   "source": [
    "Once read in, explore the file for various min_support and min_confidence settings.\n",
    "\n",
    "Note it is suggested to start exploring with: <br>\n",
    "min_support = 1% or 2% and min_confidence = 30% <br>\n",
    "You can then parameter up/down and see what happens."
   ],
   "metadata": {
    "collapsed": false,
    "pycharm": {
     "name": "#%% md\n"
    }
   }
  },
  {
   "cell_type": "code",
   "execution_count": 99,
   "outputs": [
    {
     "data": {
      "text/plain": "                   antecedents            consequents  antecedent support  \\\n1                  (arhar dal)         (curry leaves)            0.019608   \n2          (bengal gram flour)                  (gur)            0.027451   \n3                        (gur)    (bengal gram flour)            0.023529   \n4          (bengal gram flour)         (sesame seeds)            0.027451   \n6          (bengal gram flour)    (whole wheat flour)            0.027451   \n9                   (cardamom)                 (ghee)            0.035294   \n11                  (cardamom)                 (milk)            0.035294   \n13               (cashew nuts)         (garam masala)            0.023529   \n15                   (cashews)                 (ghee)            0.019608   \n17                 (moong dal)            (chana dal)            0.027451   \n19                    (chhena)                 (ghee)            0.023529   \n20                   (chicken)  (garam masala powder)            0.023529   \n23              (chili powder)         (garam masala)            0.019608   \n24                  (chillies)               (ginger)            0.023529   \n26                  (cinnamon)               (ginger)            0.023529   \n28                  (cinnamon)               (tomato)            0.023529   \n31          (clarified butter)                (sugar)            0.035294   \n35               (coconut oil)               (ginger)            0.023529   \n37            (cottage cheese)         (garam masala)            0.019608   \n38                     (cream)         (garam masala)            0.023529   \n40                      (curd)         (curry leaves)            0.031373   \n42               (green chili)         (curry leaves)            0.023529   \n44             (green chilies)         (curry leaves)            0.023529   \n49                     (flour)                (sugar)            0.015686   \n57                 (red onion)               (ginger)            0.015686   \n60                  (turmeric)           (gram flour)            0.039216   \n63                       (gur)         (sesame seeds)            0.023529   \n65                       (gur)    (whole wheat flour)            0.023529   \n67                      (nuts)                 (milk)            0.019608   \n69                   (saffron)                 (milk)            0.039216   \n72                  (tomatoes)          (mustard oil)            0.027451   \n75                      (salt)               (potato)            0.027451   \n78                (thick poha)             (urad dal)            0.011765   \n80                  (cardamom)              (saffron)            0.035294   \n81                   (saffron)             (cardamom)            0.039216   \n85                   (coconut)              (jaggery)            0.047059   \n87              (kasuri methi)         (garam masala)            0.023529   \n89                  (tomatoes)         (garam masala)            0.027451   \n93                  (semolina)                 (ghee)            0.035294   \n97                      (rice)                 (milk)            0.039216   \n98                      (nuts)                (sugar)            0.019608   \n101                  (raisins)                (sugar)            0.023529   \n103                 (semolina)                (sugar)            0.035294   \n105                   (chhena)                (sugar)            0.023529   \n107                   (potato)         (garam masala)            0.043137   \n110                     (rice)                (sugar)            0.039216   \n114            (mustard seeds)         (curry leaves)            0.035294   \n116                  (jaggery)                 (ghee)            0.074510   \n119                   (tomato)               (ginger)            0.062745   \n121                  (jaggery)           (rice flour)            0.074510   \n123                  (saffron)                (sugar)            0.039216   \n125                 (cardamom)                (sugar)            0.035294   \n126                 (urad dal)         (curry leaves)            0.098039   \n127             (curry leaves)             (urad dal)            0.098039   \n128             (garam masala)               (ginger)            0.105882   \n129                   (ginger)         (garam masala)            0.113725   \n130                (chana dal)             (urad dal)            0.062745   \n131                 (urad dal)            (chana dal)            0.098039   \n132                     (milk)                (sugar)            0.082353   \n134                     (ghee)                (sugar)            0.098039   \n135                    (sugar)                 (ghee)            0.188235   \n137           (milk, cardamom)                (sugar)            0.011765   \n138          (sugar, cardamom)                 (milk)            0.027451   \n141                 (cardamom)          (milk, sugar)            0.035294   \n142           (sugar, saffron)             (cardamom)            0.023529   \n143          (sugar, cardamom)              (saffron)            0.027451   \n144        (cardamom, saffron)                (sugar)            0.015686   \n146                  (saffron)      (sugar, cardamom)            0.039216   \n147                 (cardamom)       (sugar, saffron)            0.035294   \n149  (chana dal, curry leaves)             (urad dal)            0.015686   \n150   (urad dal, curry leaves)            (chana dal)            0.035294   \n155             (ghee, chhena)                (sugar)            0.011765   \n156            (sugar, chhena)                 (ghee)            0.019608   \n159                   (chhena)          (ghee, sugar)            0.023529   \n160         (gram flour, ghee)                (sugar)            0.011765   \n161        (gram flour, sugar)                 (ghee)            0.011765   \n167           (ghee, semolina)                (sugar)            0.015686   \n168          (sugar, semolina)                 (ghee)            0.015686   \n171                 (semolina)          (ghee, sugar)            0.035294   \n172         (urad dal, ginger)         (curry leaves)            0.015686   \n173   (urad dal, curry leaves)               (ginger)            0.035294   \n174     (ginger, curry leaves)             (urad dal)            0.023529   \n178               (milk, ghee)                (sugar)            0.019608   \n184               (milk, rice)                (sugar)            0.015686   \n186              (rice, sugar)                 (milk)            0.019608   \n188                     (rice)          (milk, sugar)            0.039216   \n\n     consequent support   support  confidence       lift  leverage  conviction  \n1              0.098039  0.011765    0.600000   6.120000  0.009842    2.254902  \n2              0.023529  0.011765    0.428571  18.214286  0.011119    1.708824  \n3              0.027451  0.011765    0.500000  18.214286  0.011119    1.945098  \n4              0.043137  0.011765    0.428571   9.935065  0.010581    1.674510  \n6              0.047059  0.011765    0.428571   9.107143  0.010473    1.667647  \n9              0.098039  0.011765    0.333333   3.400000  0.008304    1.352941  \n11             0.082353  0.011765    0.333333   4.047619  0.008858    1.376471  \n13             0.105882  0.011765    0.500000   4.722222  0.009273    1.788235  \n15             0.098039  0.011765    0.600000   6.120000  0.009842    2.254902  \n17             0.062745  0.011765    0.428571   6.830357  0.010042    1.640196  \n19             0.098039  0.011765    0.500000   5.100000  0.009458    1.803922  \n20             0.050980  0.011765    0.500000   9.807692  0.010565    1.898039  \n23             0.105882  0.011765    0.600000   5.666667  0.009689    2.235294  \n24             0.113725  0.011765    0.500000   4.396552  0.009089    1.772549  \n26             0.113725  0.011765    0.500000   4.396552  0.009089    1.772549  \n28             0.062745  0.011765    0.500000   7.968750  0.010288    1.874510  \n31             0.188235  0.011765    0.333333   1.770833  0.005121    1.217647  \n35             0.113725  0.011765    0.500000   4.396552  0.009089    1.772549  \n37             0.105882  0.011765    0.600000   5.666667  0.009689    2.235294  \n38             0.105882  0.011765    0.500000   4.722222  0.009273    1.788235  \n40             0.098039  0.011765    0.375000   3.825000  0.008689    1.443137  \n42             0.098039  0.011765    0.500000   5.100000  0.009458    1.803922  \n44             0.098039  0.011765    0.500000   5.100000  0.009458    1.803922  \n49             0.188235  0.011765    0.750000   3.984375  0.008812    3.247059  \n57             0.113725  0.011765    0.750000   6.594828  0.009981    3.545098  \n60             0.050980  0.011765    0.300000   5.884615  0.009765    1.355742  \n63             0.043137  0.011765    0.500000  11.590909  0.010750    1.913725  \n65             0.047059  0.011765    0.500000  10.625000  0.010657    1.905882  \n67             0.082353  0.011765    0.600000   7.285714  0.010150    2.294118  \n69             0.082353  0.011765    0.300000   3.642857  0.008535    1.310924  \n72             0.047059  0.011765    0.428571   9.107143  0.010473    1.667647  \n75             0.043137  0.011765    0.428571   9.935065  0.010581    1.674510  \n78             0.098039  0.011765    1.000000  10.200000  0.010611         inf  \n80             0.039216  0.015686    0.444444  11.333333  0.014302    1.729412  \n81             0.035294  0.015686    0.400000  11.333333  0.014302    1.607843  \n85             0.074510  0.015686    0.333333   4.473684  0.012180    1.388235  \n87             0.105882  0.015686    0.666667   6.296296  0.013195    2.682353  \n89             0.105882  0.015686    0.571429   5.396825  0.012780    2.086275  \n93             0.098039  0.015686    0.444444   4.533333  0.012226    1.623529  \n97             0.082353  0.015686    0.400000   4.857143  0.012457    1.529412  \n98             0.188235  0.015686    0.800000   4.250000  0.011995    4.058824  \n101            0.188235  0.015686    0.666667   3.541667  0.011257    2.435294  \n103            0.188235  0.015686    0.444444   2.361111  0.009043    1.461176  \n105            0.188235  0.019608    0.833333   4.427083  0.015179    4.870588  \n107            0.105882  0.019608    0.454545   4.292929  0.015040    1.639216  \n110            0.188235  0.019608    0.500000   2.656250  0.012226    1.623529  \n114            0.098039  0.023529    0.666667   6.800000  0.020069    2.705882  \n116            0.098039  0.023529    0.315789   3.221053  0.016225    1.318250  \n119            0.113725  0.023529    0.375000   3.297414  0.016394    1.418039  \n121            0.082353  0.023529    0.315789   3.834586  0.017393    1.341176  \n123            0.188235  0.023529    0.600000   3.187500  0.016148    2.029412  \n125            0.188235  0.027451    0.777778   4.131944  0.020807    3.652941  \n126            0.098039  0.035294    0.360000   3.672000  0.025682    1.409314  \n127            0.098039  0.035294    0.360000   3.672000  0.025682    1.409314  \n128            0.113725  0.035294    0.333333   2.931034  0.023253    1.329412  \n129            0.105882  0.035294    0.310345   2.931034  0.023253    1.296471  \n130            0.098039  0.043137    0.687500   7.012500  0.036986    2.886275  \n131            0.062745  0.043137    0.440000   7.012500  0.036986    1.673669  \n132            0.188235  0.054902    0.666667   3.541667  0.039400    2.435294  \n134            0.188235  0.062745    0.640000   3.400000  0.044291    2.254902  \n135            0.098039  0.062745    0.333333   3.400000  0.044291    1.352941  \n137            0.188235  0.011765    1.000000   5.312500  0.009550         inf  \n138            0.082353  0.011765    0.428571   5.204082  0.009504    1.605882  \n141            0.054902  0.011765    0.333333   6.071429  0.009827    1.417647  \n142            0.035294  0.011765    0.500000  14.166667  0.010934    1.929412  \n143            0.039216  0.011765    0.428571  10.928571  0.010688    1.681373  \n144            0.188235  0.011765    0.750000   3.984375  0.008812    3.247059  \n146            0.027451  0.011765    0.300000  10.928571  0.010688    1.389356  \n147            0.023529  0.011765    0.333333  14.166667  0.010934    1.464706  \n149            0.098039  0.011765    0.750000   7.650000  0.010227    3.607843  \n150            0.062745  0.011765    0.333333   5.312500  0.009550    1.405882  \n155            0.188235  0.011765    1.000000   5.312500  0.009550         inf  \n156            0.098039  0.011765    0.600000   6.120000  0.009842    2.254902  \n159            0.062745  0.011765    0.500000   7.968750  0.010288    1.874510  \n160            0.188235  0.011765    1.000000   5.312500  0.009550         inf  \n161            0.098039  0.011765    1.000000  10.200000  0.010611         inf  \n167            0.188235  0.011765    0.750000   3.984375  0.008812    3.247059  \n168            0.098039  0.011765    0.750000   7.650000  0.010227    3.607843  \n171            0.062745  0.011765    0.333333   5.312500  0.009550    1.405882  \n172            0.098039  0.015686    1.000000  10.200000  0.014148         inf  \n173            0.113725  0.015686    0.444444   3.908046  0.011672    1.595294  \n174            0.098039  0.015686    0.666667   6.800000  0.013379    2.705882  \n178            0.188235  0.015686    0.800000   4.250000  0.011995    4.058824  \n184            0.188235  0.015686    1.000000   5.312500  0.012734         inf  \n186            0.082353  0.015686    0.800000   9.714286  0.014072    4.588235  \n188            0.054902  0.015686    0.400000   7.285714  0.013533    1.575163  ",
      "text/html": "<div>\n<style scoped>\n    .dataframe tbody tr th:only-of-type {\n        vertical-align: middle;\n    }\n\n    .dataframe tbody tr th {\n        vertical-align: top;\n    }\n\n    .dataframe thead th {\n        text-align: right;\n    }\n</style>\n<table border=\"1\" class=\"dataframe\">\n  <thead>\n    <tr style=\"text-align: right;\">\n      <th></th>\n      <th>antecedents</th>\n      <th>consequents</th>\n      <th>antecedent support</th>\n      <th>consequent support</th>\n      <th>support</th>\n      <th>confidence</th>\n      <th>lift</th>\n      <th>leverage</th>\n      <th>conviction</th>\n    </tr>\n  </thead>\n  <tbody>\n    <tr>\n      <th>1</th>\n      <td>(arhar dal)</td>\n      <td>(curry leaves)</td>\n      <td>0.019608</td>\n      <td>0.098039</td>\n      <td>0.011765</td>\n      <td>0.600000</td>\n      <td>6.120000</td>\n      <td>0.009842</td>\n      <td>2.254902</td>\n    </tr>\n    <tr>\n      <th>2</th>\n      <td>(bengal gram flour)</td>\n      <td>(gur)</td>\n      <td>0.027451</td>\n      <td>0.023529</td>\n      <td>0.011765</td>\n      <td>0.428571</td>\n      <td>18.214286</td>\n      <td>0.011119</td>\n      <td>1.708824</td>\n    </tr>\n    <tr>\n      <th>3</th>\n      <td>(gur)</td>\n      <td>(bengal gram flour)</td>\n      <td>0.023529</td>\n      <td>0.027451</td>\n      <td>0.011765</td>\n      <td>0.500000</td>\n      <td>18.214286</td>\n      <td>0.011119</td>\n      <td>1.945098</td>\n    </tr>\n    <tr>\n      <th>4</th>\n      <td>(bengal gram flour)</td>\n      <td>(sesame seeds)</td>\n      <td>0.027451</td>\n      <td>0.043137</td>\n      <td>0.011765</td>\n      <td>0.428571</td>\n      <td>9.935065</td>\n      <td>0.010581</td>\n      <td>1.674510</td>\n    </tr>\n    <tr>\n      <th>6</th>\n      <td>(bengal gram flour)</td>\n      <td>(whole wheat flour)</td>\n      <td>0.027451</td>\n      <td>0.047059</td>\n      <td>0.011765</td>\n      <td>0.428571</td>\n      <td>9.107143</td>\n      <td>0.010473</td>\n      <td>1.667647</td>\n    </tr>\n    <tr>\n      <th>9</th>\n      <td>(cardamom)</td>\n      <td>(ghee)</td>\n      <td>0.035294</td>\n      <td>0.098039</td>\n      <td>0.011765</td>\n      <td>0.333333</td>\n      <td>3.400000</td>\n      <td>0.008304</td>\n      <td>1.352941</td>\n    </tr>\n    <tr>\n      <th>11</th>\n      <td>(cardamom)</td>\n      <td>(milk)</td>\n      <td>0.035294</td>\n      <td>0.082353</td>\n      <td>0.011765</td>\n      <td>0.333333</td>\n      <td>4.047619</td>\n      <td>0.008858</td>\n      <td>1.376471</td>\n    </tr>\n    <tr>\n      <th>13</th>\n      <td>(cashew nuts)</td>\n      <td>(garam masala)</td>\n      <td>0.023529</td>\n      <td>0.105882</td>\n      <td>0.011765</td>\n      <td>0.500000</td>\n      <td>4.722222</td>\n      <td>0.009273</td>\n      <td>1.788235</td>\n    </tr>\n    <tr>\n      <th>15</th>\n      <td>(cashews)</td>\n      <td>(ghee)</td>\n      <td>0.019608</td>\n      <td>0.098039</td>\n      <td>0.011765</td>\n      <td>0.600000</td>\n      <td>6.120000</td>\n      <td>0.009842</td>\n      <td>2.254902</td>\n    </tr>\n    <tr>\n      <th>17</th>\n      <td>(moong dal)</td>\n      <td>(chana dal)</td>\n      <td>0.027451</td>\n      <td>0.062745</td>\n      <td>0.011765</td>\n      <td>0.428571</td>\n      <td>6.830357</td>\n      <td>0.010042</td>\n      <td>1.640196</td>\n    </tr>\n    <tr>\n      <th>19</th>\n      <td>(chhena)</td>\n      <td>(ghee)</td>\n      <td>0.023529</td>\n      <td>0.098039</td>\n      <td>0.011765</td>\n      <td>0.500000</td>\n      <td>5.100000</td>\n      <td>0.009458</td>\n      <td>1.803922</td>\n    </tr>\n    <tr>\n      <th>20</th>\n      <td>(chicken)</td>\n      <td>(garam masala powder)</td>\n      <td>0.023529</td>\n      <td>0.050980</td>\n      <td>0.011765</td>\n      <td>0.500000</td>\n      <td>9.807692</td>\n      <td>0.010565</td>\n      <td>1.898039</td>\n    </tr>\n    <tr>\n      <th>23</th>\n      <td>(chili powder)</td>\n      <td>(garam masala)</td>\n      <td>0.019608</td>\n      <td>0.105882</td>\n      <td>0.011765</td>\n      <td>0.600000</td>\n      <td>5.666667</td>\n      <td>0.009689</td>\n      <td>2.235294</td>\n    </tr>\n    <tr>\n      <th>24</th>\n      <td>(chillies)</td>\n      <td>(ginger)</td>\n      <td>0.023529</td>\n      <td>0.113725</td>\n      <td>0.011765</td>\n      <td>0.500000</td>\n      <td>4.396552</td>\n      <td>0.009089</td>\n      <td>1.772549</td>\n    </tr>\n    <tr>\n      <th>26</th>\n      <td>(cinnamon)</td>\n      <td>(ginger)</td>\n      <td>0.023529</td>\n      <td>0.113725</td>\n      <td>0.011765</td>\n      <td>0.500000</td>\n      <td>4.396552</td>\n      <td>0.009089</td>\n      <td>1.772549</td>\n    </tr>\n    <tr>\n      <th>28</th>\n      <td>(cinnamon)</td>\n      <td>(tomato)</td>\n      <td>0.023529</td>\n      <td>0.062745</td>\n      <td>0.011765</td>\n      <td>0.500000</td>\n      <td>7.968750</td>\n      <td>0.010288</td>\n      <td>1.874510</td>\n    </tr>\n    <tr>\n      <th>31</th>\n      <td>(clarified butter)</td>\n      <td>(sugar)</td>\n      <td>0.035294</td>\n      <td>0.188235</td>\n      <td>0.011765</td>\n      <td>0.333333</td>\n      <td>1.770833</td>\n      <td>0.005121</td>\n      <td>1.217647</td>\n    </tr>\n    <tr>\n      <th>35</th>\n      <td>(coconut oil)</td>\n      <td>(ginger)</td>\n      <td>0.023529</td>\n      <td>0.113725</td>\n      <td>0.011765</td>\n      <td>0.500000</td>\n      <td>4.396552</td>\n      <td>0.009089</td>\n      <td>1.772549</td>\n    </tr>\n    <tr>\n      <th>37</th>\n      <td>(cottage cheese)</td>\n      <td>(garam masala)</td>\n      <td>0.019608</td>\n      <td>0.105882</td>\n      <td>0.011765</td>\n      <td>0.600000</td>\n      <td>5.666667</td>\n      <td>0.009689</td>\n      <td>2.235294</td>\n    </tr>\n    <tr>\n      <th>38</th>\n      <td>(cream)</td>\n      <td>(garam masala)</td>\n      <td>0.023529</td>\n      <td>0.105882</td>\n      <td>0.011765</td>\n      <td>0.500000</td>\n      <td>4.722222</td>\n      <td>0.009273</td>\n      <td>1.788235</td>\n    </tr>\n    <tr>\n      <th>40</th>\n      <td>(curd)</td>\n      <td>(curry leaves)</td>\n      <td>0.031373</td>\n      <td>0.098039</td>\n      <td>0.011765</td>\n      <td>0.375000</td>\n      <td>3.825000</td>\n      <td>0.008689</td>\n      <td>1.443137</td>\n    </tr>\n    <tr>\n      <th>42</th>\n      <td>(green chili)</td>\n      <td>(curry leaves)</td>\n      <td>0.023529</td>\n      <td>0.098039</td>\n      <td>0.011765</td>\n      <td>0.500000</td>\n      <td>5.100000</td>\n      <td>0.009458</td>\n      <td>1.803922</td>\n    </tr>\n    <tr>\n      <th>44</th>\n      <td>(green chilies)</td>\n      <td>(curry leaves)</td>\n      <td>0.023529</td>\n      <td>0.098039</td>\n      <td>0.011765</td>\n      <td>0.500000</td>\n      <td>5.100000</td>\n      <td>0.009458</td>\n      <td>1.803922</td>\n    </tr>\n    <tr>\n      <th>49</th>\n      <td>(flour)</td>\n      <td>(sugar)</td>\n      <td>0.015686</td>\n      <td>0.188235</td>\n      <td>0.011765</td>\n      <td>0.750000</td>\n      <td>3.984375</td>\n      <td>0.008812</td>\n      <td>3.247059</td>\n    </tr>\n    <tr>\n      <th>57</th>\n      <td>(red onion)</td>\n      <td>(ginger)</td>\n      <td>0.015686</td>\n      <td>0.113725</td>\n      <td>0.011765</td>\n      <td>0.750000</td>\n      <td>6.594828</td>\n      <td>0.009981</td>\n      <td>3.545098</td>\n    </tr>\n    <tr>\n      <th>60</th>\n      <td>(turmeric)</td>\n      <td>(gram flour)</td>\n      <td>0.039216</td>\n      <td>0.050980</td>\n      <td>0.011765</td>\n      <td>0.300000</td>\n      <td>5.884615</td>\n      <td>0.009765</td>\n      <td>1.355742</td>\n    </tr>\n    <tr>\n      <th>63</th>\n      <td>(gur)</td>\n      <td>(sesame seeds)</td>\n      <td>0.023529</td>\n      <td>0.043137</td>\n      <td>0.011765</td>\n      <td>0.500000</td>\n      <td>11.590909</td>\n      <td>0.010750</td>\n      <td>1.913725</td>\n    </tr>\n    <tr>\n      <th>65</th>\n      <td>(gur)</td>\n      <td>(whole wheat flour)</td>\n      <td>0.023529</td>\n      <td>0.047059</td>\n      <td>0.011765</td>\n      <td>0.500000</td>\n      <td>10.625000</td>\n      <td>0.010657</td>\n      <td>1.905882</td>\n    </tr>\n    <tr>\n      <th>67</th>\n      <td>(nuts)</td>\n      <td>(milk)</td>\n      <td>0.019608</td>\n      <td>0.082353</td>\n      <td>0.011765</td>\n      <td>0.600000</td>\n      <td>7.285714</td>\n      <td>0.010150</td>\n      <td>2.294118</td>\n    </tr>\n    <tr>\n      <th>69</th>\n      <td>(saffron)</td>\n      <td>(milk)</td>\n      <td>0.039216</td>\n      <td>0.082353</td>\n      <td>0.011765</td>\n      <td>0.300000</td>\n      <td>3.642857</td>\n      <td>0.008535</td>\n      <td>1.310924</td>\n    </tr>\n    <tr>\n      <th>72</th>\n      <td>(tomatoes)</td>\n      <td>(mustard oil)</td>\n      <td>0.027451</td>\n      <td>0.047059</td>\n      <td>0.011765</td>\n      <td>0.428571</td>\n      <td>9.107143</td>\n      <td>0.010473</td>\n      <td>1.667647</td>\n    </tr>\n    <tr>\n      <th>75</th>\n      <td>(salt)</td>\n      <td>(potato)</td>\n      <td>0.027451</td>\n      <td>0.043137</td>\n      <td>0.011765</td>\n      <td>0.428571</td>\n      <td>9.935065</td>\n      <td>0.010581</td>\n      <td>1.674510</td>\n    </tr>\n    <tr>\n      <th>78</th>\n      <td>(thick poha)</td>\n      <td>(urad dal)</td>\n      <td>0.011765</td>\n      <td>0.098039</td>\n      <td>0.011765</td>\n      <td>1.000000</td>\n      <td>10.200000</td>\n      <td>0.010611</td>\n      <td>inf</td>\n    </tr>\n    <tr>\n      <th>80</th>\n      <td>(cardamom)</td>\n      <td>(saffron)</td>\n      <td>0.035294</td>\n      <td>0.039216</td>\n      <td>0.015686</td>\n      <td>0.444444</td>\n      <td>11.333333</td>\n      <td>0.014302</td>\n      <td>1.729412</td>\n    </tr>\n    <tr>\n      <th>81</th>\n      <td>(saffron)</td>\n      <td>(cardamom)</td>\n      <td>0.039216</td>\n      <td>0.035294</td>\n      <td>0.015686</td>\n      <td>0.400000</td>\n      <td>11.333333</td>\n      <td>0.014302</td>\n      <td>1.607843</td>\n    </tr>\n    <tr>\n      <th>85</th>\n      <td>(coconut)</td>\n      <td>(jaggery)</td>\n      <td>0.047059</td>\n      <td>0.074510</td>\n      <td>0.015686</td>\n      <td>0.333333</td>\n      <td>4.473684</td>\n      <td>0.012180</td>\n      <td>1.388235</td>\n    </tr>\n    <tr>\n      <th>87</th>\n      <td>(kasuri methi)</td>\n      <td>(garam masala)</td>\n      <td>0.023529</td>\n      <td>0.105882</td>\n      <td>0.015686</td>\n      <td>0.666667</td>\n      <td>6.296296</td>\n      <td>0.013195</td>\n      <td>2.682353</td>\n    </tr>\n    <tr>\n      <th>89</th>\n      <td>(tomatoes)</td>\n      <td>(garam masala)</td>\n      <td>0.027451</td>\n      <td>0.105882</td>\n      <td>0.015686</td>\n      <td>0.571429</td>\n      <td>5.396825</td>\n      <td>0.012780</td>\n      <td>2.086275</td>\n    </tr>\n    <tr>\n      <th>93</th>\n      <td>(semolina)</td>\n      <td>(ghee)</td>\n      <td>0.035294</td>\n      <td>0.098039</td>\n      <td>0.015686</td>\n      <td>0.444444</td>\n      <td>4.533333</td>\n      <td>0.012226</td>\n      <td>1.623529</td>\n    </tr>\n    <tr>\n      <th>97</th>\n      <td>(rice)</td>\n      <td>(milk)</td>\n      <td>0.039216</td>\n      <td>0.082353</td>\n      <td>0.015686</td>\n      <td>0.400000</td>\n      <td>4.857143</td>\n      <td>0.012457</td>\n      <td>1.529412</td>\n    </tr>\n    <tr>\n      <th>98</th>\n      <td>(nuts)</td>\n      <td>(sugar)</td>\n      <td>0.019608</td>\n      <td>0.188235</td>\n      <td>0.015686</td>\n      <td>0.800000</td>\n      <td>4.250000</td>\n      <td>0.011995</td>\n      <td>4.058824</td>\n    </tr>\n    <tr>\n      <th>101</th>\n      <td>(raisins)</td>\n      <td>(sugar)</td>\n      <td>0.023529</td>\n      <td>0.188235</td>\n      <td>0.015686</td>\n      <td>0.666667</td>\n      <td>3.541667</td>\n      <td>0.011257</td>\n      <td>2.435294</td>\n    </tr>\n    <tr>\n      <th>103</th>\n      <td>(semolina)</td>\n      <td>(sugar)</td>\n      <td>0.035294</td>\n      <td>0.188235</td>\n      <td>0.015686</td>\n      <td>0.444444</td>\n      <td>2.361111</td>\n      <td>0.009043</td>\n      <td>1.461176</td>\n    </tr>\n    <tr>\n      <th>105</th>\n      <td>(chhena)</td>\n      <td>(sugar)</td>\n      <td>0.023529</td>\n      <td>0.188235</td>\n      <td>0.019608</td>\n      <td>0.833333</td>\n      <td>4.427083</td>\n      <td>0.015179</td>\n      <td>4.870588</td>\n    </tr>\n    <tr>\n      <th>107</th>\n      <td>(potato)</td>\n      <td>(garam masala)</td>\n      <td>0.043137</td>\n      <td>0.105882</td>\n      <td>0.019608</td>\n      <td>0.454545</td>\n      <td>4.292929</td>\n      <td>0.015040</td>\n      <td>1.639216</td>\n    </tr>\n    <tr>\n      <th>110</th>\n      <td>(rice)</td>\n      <td>(sugar)</td>\n      <td>0.039216</td>\n      <td>0.188235</td>\n      <td>0.019608</td>\n      <td>0.500000</td>\n      <td>2.656250</td>\n      <td>0.012226</td>\n      <td>1.623529</td>\n    </tr>\n    <tr>\n      <th>114</th>\n      <td>(mustard seeds)</td>\n      <td>(curry leaves)</td>\n      <td>0.035294</td>\n      <td>0.098039</td>\n      <td>0.023529</td>\n      <td>0.666667</td>\n      <td>6.800000</td>\n      <td>0.020069</td>\n      <td>2.705882</td>\n    </tr>\n    <tr>\n      <th>116</th>\n      <td>(jaggery)</td>\n      <td>(ghee)</td>\n      <td>0.074510</td>\n      <td>0.098039</td>\n      <td>0.023529</td>\n      <td>0.315789</td>\n      <td>3.221053</td>\n      <td>0.016225</td>\n      <td>1.318250</td>\n    </tr>\n    <tr>\n      <th>119</th>\n      <td>(tomato)</td>\n      <td>(ginger)</td>\n      <td>0.062745</td>\n      <td>0.113725</td>\n      <td>0.023529</td>\n      <td>0.375000</td>\n      <td>3.297414</td>\n      <td>0.016394</td>\n      <td>1.418039</td>\n    </tr>\n    <tr>\n      <th>121</th>\n      <td>(jaggery)</td>\n      <td>(rice flour)</td>\n      <td>0.074510</td>\n      <td>0.082353</td>\n      <td>0.023529</td>\n      <td>0.315789</td>\n      <td>3.834586</td>\n      <td>0.017393</td>\n      <td>1.341176</td>\n    </tr>\n    <tr>\n      <th>123</th>\n      <td>(saffron)</td>\n      <td>(sugar)</td>\n      <td>0.039216</td>\n      <td>0.188235</td>\n      <td>0.023529</td>\n      <td>0.600000</td>\n      <td>3.187500</td>\n      <td>0.016148</td>\n      <td>2.029412</td>\n    </tr>\n    <tr>\n      <th>125</th>\n      <td>(cardamom)</td>\n      <td>(sugar)</td>\n      <td>0.035294</td>\n      <td>0.188235</td>\n      <td>0.027451</td>\n      <td>0.777778</td>\n      <td>4.131944</td>\n      <td>0.020807</td>\n      <td>3.652941</td>\n    </tr>\n    <tr>\n      <th>126</th>\n      <td>(urad dal)</td>\n      <td>(curry leaves)</td>\n      <td>0.098039</td>\n      <td>0.098039</td>\n      <td>0.035294</td>\n      <td>0.360000</td>\n      <td>3.672000</td>\n      <td>0.025682</td>\n      <td>1.409314</td>\n    </tr>\n    <tr>\n      <th>127</th>\n      <td>(curry leaves)</td>\n      <td>(urad dal)</td>\n      <td>0.098039</td>\n      <td>0.098039</td>\n      <td>0.035294</td>\n      <td>0.360000</td>\n      <td>3.672000</td>\n      <td>0.025682</td>\n      <td>1.409314</td>\n    </tr>\n    <tr>\n      <th>128</th>\n      <td>(garam masala)</td>\n      <td>(ginger)</td>\n      <td>0.105882</td>\n      <td>0.113725</td>\n      <td>0.035294</td>\n      <td>0.333333</td>\n      <td>2.931034</td>\n      <td>0.023253</td>\n      <td>1.329412</td>\n    </tr>\n    <tr>\n      <th>129</th>\n      <td>(ginger)</td>\n      <td>(garam masala)</td>\n      <td>0.113725</td>\n      <td>0.105882</td>\n      <td>0.035294</td>\n      <td>0.310345</td>\n      <td>2.931034</td>\n      <td>0.023253</td>\n      <td>1.296471</td>\n    </tr>\n    <tr>\n      <th>130</th>\n      <td>(chana dal)</td>\n      <td>(urad dal)</td>\n      <td>0.062745</td>\n      <td>0.098039</td>\n      <td>0.043137</td>\n      <td>0.687500</td>\n      <td>7.012500</td>\n      <td>0.036986</td>\n      <td>2.886275</td>\n    </tr>\n    <tr>\n      <th>131</th>\n      <td>(urad dal)</td>\n      <td>(chana dal)</td>\n      <td>0.098039</td>\n      <td>0.062745</td>\n      <td>0.043137</td>\n      <td>0.440000</td>\n      <td>7.012500</td>\n      <td>0.036986</td>\n      <td>1.673669</td>\n    </tr>\n    <tr>\n      <th>132</th>\n      <td>(milk)</td>\n      <td>(sugar)</td>\n      <td>0.082353</td>\n      <td>0.188235</td>\n      <td>0.054902</td>\n      <td>0.666667</td>\n      <td>3.541667</td>\n      <td>0.039400</td>\n      <td>2.435294</td>\n    </tr>\n    <tr>\n      <th>134</th>\n      <td>(ghee)</td>\n      <td>(sugar)</td>\n      <td>0.098039</td>\n      <td>0.188235</td>\n      <td>0.062745</td>\n      <td>0.640000</td>\n      <td>3.400000</td>\n      <td>0.044291</td>\n      <td>2.254902</td>\n    </tr>\n    <tr>\n      <th>135</th>\n      <td>(sugar)</td>\n      <td>(ghee)</td>\n      <td>0.188235</td>\n      <td>0.098039</td>\n      <td>0.062745</td>\n      <td>0.333333</td>\n      <td>3.400000</td>\n      <td>0.044291</td>\n      <td>1.352941</td>\n    </tr>\n    <tr>\n      <th>137</th>\n      <td>(milk, cardamom)</td>\n      <td>(sugar)</td>\n      <td>0.011765</td>\n      <td>0.188235</td>\n      <td>0.011765</td>\n      <td>1.000000</td>\n      <td>5.312500</td>\n      <td>0.009550</td>\n      <td>inf</td>\n    </tr>\n    <tr>\n      <th>138</th>\n      <td>(sugar, cardamom)</td>\n      <td>(milk)</td>\n      <td>0.027451</td>\n      <td>0.082353</td>\n      <td>0.011765</td>\n      <td>0.428571</td>\n      <td>5.204082</td>\n      <td>0.009504</td>\n      <td>1.605882</td>\n    </tr>\n    <tr>\n      <th>141</th>\n      <td>(cardamom)</td>\n      <td>(milk, sugar)</td>\n      <td>0.035294</td>\n      <td>0.054902</td>\n      <td>0.011765</td>\n      <td>0.333333</td>\n      <td>6.071429</td>\n      <td>0.009827</td>\n      <td>1.417647</td>\n    </tr>\n    <tr>\n      <th>142</th>\n      <td>(sugar, saffron)</td>\n      <td>(cardamom)</td>\n      <td>0.023529</td>\n      <td>0.035294</td>\n      <td>0.011765</td>\n      <td>0.500000</td>\n      <td>14.166667</td>\n      <td>0.010934</td>\n      <td>1.929412</td>\n    </tr>\n    <tr>\n      <th>143</th>\n      <td>(sugar, cardamom)</td>\n      <td>(saffron)</td>\n      <td>0.027451</td>\n      <td>0.039216</td>\n      <td>0.011765</td>\n      <td>0.428571</td>\n      <td>10.928571</td>\n      <td>0.010688</td>\n      <td>1.681373</td>\n    </tr>\n    <tr>\n      <th>144</th>\n      <td>(cardamom, saffron)</td>\n      <td>(sugar)</td>\n      <td>0.015686</td>\n      <td>0.188235</td>\n      <td>0.011765</td>\n      <td>0.750000</td>\n      <td>3.984375</td>\n      <td>0.008812</td>\n      <td>3.247059</td>\n    </tr>\n    <tr>\n      <th>146</th>\n      <td>(saffron)</td>\n      <td>(sugar, cardamom)</td>\n      <td>0.039216</td>\n      <td>0.027451</td>\n      <td>0.011765</td>\n      <td>0.300000</td>\n      <td>10.928571</td>\n      <td>0.010688</td>\n      <td>1.389356</td>\n    </tr>\n    <tr>\n      <th>147</th>\n      <td>(cardamom)</td>\n      <td>(sugar, saffron)</td>\n      <td>0.035294</td>\n      <td>0.023529</td>\n      <td>0.011765</td>\n      <td>0.333333</td>\n      <td>14.166667</td>\n      <td>0.010934</td>\n      <td>1.464706</td>\n    </tr>\n    <tr>\n      <th>149</th>\n      <td>(chana dal, curry leaves)</td>\n      <td>(urad dal)</td>\n      <td>0.015686</td>\n      <td>0.098039</td>\n      <td>0.011765</td>\n      <td>0.750000</td>\n      <td>7.650000</td>\n      <td>0.010227</td>\n      <td>3.607843</td>\n    </tr>\n    <tr>\n      <th>150</th>\n      <td>(urad dal, curry leaves)</td>\n      <td>(chana dal)</td>\n      <td>0.035294</td>\n      <td>0.062745</td>\n      <td>0.011765</td>\n      <td>0.333333</td>\n      <td>5.312500</td>\n      <td>0.009550</td>\n      <td>1.405882</td>\n    </tr>\n    <tr>\n      <th>155</th>\n      <td>(ghee, chhena)</td>\n      <td>(sugar)</td>\n      <td>0.011765</td>\n      <td>0.188235</td>\n      <td>0.011765</td>\n      <td>1.000000</td>\n      <td>5.312500</td>\n      <td>0.009550</td>\n      <td>inf</td>\n    </tr>\n    <tr>\n      <th>156</th>\n      <td>(sugar, chhena)</td>\n      <td>(ghee)</td>\n      <td>0.019608</td>\n      <td>0.098039</td>\n      <td>0.011765</td>\n      <td>0.600000</td>\n      <td>6.120000</td>\n      <td>0.009842</td>\n      <td>2.254902</td>\n    </tr>\n    <tr>\n      <th>159</th>\n      <td>(chhena)</td>\n      <td>(ghee, sugar)</td>\n      <td>0.023529</td>\n      <td>0.062745</td>\n      <td>0.011765</td>\n      <td>0.500000</td>\n      <td>7.968750</td>\n      <td>0.010288</td>\n      <td>1.874510</td>\n    </tr>\n    <tr>\n      <th>160</th>\n      <td>(gram flour, ghee)</td>\n      <td>(sugar)</td>\n      <td>0.011765</td>\n      <td>0.188235</td>\n      <td>0.011765</td>\n      <td>1.000000</td>\n      <td>5.312500</td>\n      <td>0.009550</td>\n      <td>inf</td>\n    </tr>\n    <tr>\n      <th>161</th>\n      <td>(gram flour, sugar)</td>\n      <td>(ghee)</td>\n      <td>0.011765</td>\n      <td>0.098039</td>\n      <td>0.011765</td>\n      <td>1.000000</td>\n      <td>10.200000</td>\n      <td>0.010611</td>\n      <td>inf</td>\n    </tr>\n    <tr>\n      <th>167</th>\n      <td>(ghee, semolina)</td>\n      <td>(sugar)</td>\n      <td>0.015686</td>\n      <td>0.188235</td>\n      <td>0.011765</td>\n      <td>0.750000</td>\n      <td>3.984375</td>\n      <td>0.008812</td>\n      <td>3.247059</td>\n    </tr>\n    <tr>\n      <th>168</th>\n      <td>(sugar, semolina)</td>\n      <td>(ghee)</td>\n      <td>0.015686</td>\n      <td>0.098039</td>\n      <td>0.011765</td>\n      <td>0.750000</td>\n      <td>7.650000</td>\n      <td>0.010227</td>\n      <td>3.607843</td>\n    </tr>\n    <tr>\n      <th>171</th>\n      <td>(semolina)</td>\n      <td>(ghee, sugar)</td>\n      <td>0.035294</td>\n      <td>0.062745</td>\n      <td>0.011765</td>\n      <td>0.333333</td>\n      <td>5.312500</td>\n      <td>0.009550</td>\n      <td>1.405882</td>\n    </tr>\n    <tr>\n      <th>172</th>\n      <td>(urad dal, ginger)</td>\n      <td>(curry leaves)</td>\n      <td>0.015686</td>\n      <td>0.098039</td>\n      <td>0.015686</td>\n      <td>1.000000</td>\n      <td>10.200000</td>\n      <td>0.014148</td>\n      <td>inf</td>\n    </tr>\n    <tr>\n      <th>173</th>\n      <td>(urad dal, curry leaves)</td>\n      <td>(ginger)</td>\n      <td>0.035294</td>\n      <td>0.113725</td>\n      <td>0.015686</td>\n      <td>0.444444</td>\n      <td>3.908046</td>\n      <td>0.011672</td>\n      <td>1.595294</td>\n    </tr>\n    <tr>\n      <th>174</th>\n      <td>(ginger, curry leaves)</td>\n      <td>(urad dal)</td>\n      <td>0.023529</td>\n      <td>0.098039</td>\n      <td>0.015686</td>\n      <td>0.666667</td>\n      <td>6.800000</td>\n      <td>0.013379</td>\n      <td>2.705882</td>\n    </tr>\n    <tr>\n      <th>178</th>\n      <td>(milk, ghee)</td>\n      <td>(sugar)</td>\n      <td>0.019608</td>\n      <td>0.188235</td>\n      <td>0.015686</td>\n      <td>0.800000</td>\n      <td>4.250000</td>\n      <td>0.011995</td>\n      <td>4.058824</td>\n    </tr>\n    <tr>\n      <th>184</th>\n      <td>(milk, rice)</td>\n      <td>(sugar)</td>\n      <td>0.015686</td>\n      <td>0.188235</td>\n      <td>0.015686</td>\n      <td>1.000000</td>\n      <td>5.312500</td>\n      <td>0.012734</td>\n      <td>inf</td>\n    </tr>\n    <tr>\n      <th>186</th>\n      <td>(rice, sugar)</td>\n      <td>(milk)</td>\n      <td>0.019608</td>\n      <td>0.082353</td>\n      <td>0.015686</td>\n      <td>0.800000</td>\n      <td>9.714286</td>\n      <td>0.014072</td>\n      <td>4.588235</td>\n    </tr>\n    <tr>\n      <th>188</th>\n      <td>(rice)</td>\n      <td>(milk, sugar)</td>\n      <td>0.039216</td>\n      <td>0.054902</td>\n      <td>0.015686</td>\n      <td>0.400000</td>\n      <td>7.285714</td>\n      <td>0.013533</td>\n      <td>1.575163</td>\n    </tr>\n  </tbody>\n</table>\n</div>"
     },
     "execution_count": 99,
     "metadata": {},
     "output_type": "execute_result"
    }
   ],
   "source": [
    "# Looking at Minsupport of 1%\n",
    "freq_items_1 = apriori(df_2, min_support=0.01, use_colnames=True)\n",
    "freq_items_1['length'] = freq_items_1['itemsets'].apply(lambda x: len(x))\n",
    "freq_items_1.sort_values([\"length\", \"support\"], inplace=True, ascending=True)\n",
    "rules_1 = association_rules(freq_items_1, metric='confidence', min_threshold=0.01)\n",
    "rules_1_min_conf_3 = rules_1[rules_1['confidence'] >= 0.3]\n",
    "rules_1_min_conf_3"
   ],
   "metadata": {
    "collapsed": false,
    "pycharm": {
     "name": "#%%\n"
    }
   }
  },
  {
   "cell_type": "code",
   "execution_count": 129,
   "outputs": [
    {
     "data": {
      "text/plain": "        antecedents     consequents  antecedent support  consequent support  \\\n2   (mustard seeds)  (curry leaves)            0.035294            0.098039   \n4         (jaggery)          (ghee)            0.074510            0.098039   \n7          (tomato)        (ginger)            0.062745            0.113725   \n9         (jaggery)    (rice flour)            0.074510            0.082353   \n11        (saffron)         (sugar)            0.039216            0.188235   \n13       (cardamom)         (sugar)            0.035294            0.188235   \n14       (urad dal)  (curry leaves)            0.098039            0.098039   \n15   (curry leaves)      (urad dal)            0.098039            0.098039   \n16   (garam masala)        (ginger)            0.105882            0.113725   \n17         (ginger)  (garam masala)            0.113725            0.105882   \n18      (chana dal)      (urad dal)            0.062745            0.098039   \n19       (urad dal)     (chana dal)            0.098039            0.062745   \n20           (milk)         (sugar)            0.082353            0.188235   \n22           (ghee)         (sugar)            0.098039            0.188235   \n23          (sugar)          (ghee)            0.188235            0.098039   \n\n     support  confidence      lift  leverage  conviction  \n2   0.023529    0.666667  6.800000  0.020069    2.705882  \n4   0.023529    0.315789  3.221053  0.016225    1.318250  \n7   0.023529    0.375000  3.297414  0.016394    1.418039  \n9   0.023529    0.315789  3.834586  0.017393    1.341176  \n11  0.023529    0.600000  3.187500  0.016148    2.029412  \n13  0.027451    0.777778  4.131944  0.020807    3.652941  \n14  0.035294    0.360000  3.672000  0.025682    1.409314  \n15  0.035294    0.360000  3.672000  0.025682    1.409314  \n16  0.035294    0.333333  2.931034  0.023253    1.329412  \n17  0.035294    0.310345  2.931034  0.023253    1.296471  \n18  0.043137    0.687500  7.012500  0.036986    2.886275  \n19  0.043137    0.440000  7.012500  0.036986    1.673669  \n20  0.054902    0.666667  3.541667  0.039400    2.435294  \n22  0.062745    0.640000  3.400000  0.044291    2.254902  \n23  0.062745    0.333333  3.400000  0.044291    1.352941  ",
      "text/html": "<div>\n<style scoped>\n    .dataframe tbody tr th:only-of-type {\n        vertical-align: middle;\n    }\n\n    .dataframe tbody tr th {\n        vertical-align: top;\n    }\n\n    .dataframe thead th {\n        text-align: right;\n    }\n</style>\n<table border=\"1\" class=\"dataframe\">\n  <thead>\n    <tr style=\"text-align: right;\">\n      <th></th>\n      <th>antecedents</th>\n      <th>consequents</th>\n      <th>antecedent support</th>\n      <th>consequent support</th>\n      <th>support</th>\n      <th>confidence</th>\n      <th>lift</th>\n      <th>leverage</th>\n      <th>conviction</th>\n    </tr>\n  </thead>\n  <tbody>\n    <tr>\n      <th>2</th>\n      <td>(mustard seeds)</td>\n      <td>(curry leaves)</td>\n      <td>0.035294</td>\n      <td>0.098039</td>\n      <td>0.023529</td>\n      <td>0.666667</td>\n      <td>6.800000</td>\n      <td>0.020069</td>\n      <td>2.705882</td>\n    </tr>\n    <tr>\n      <th>4</th>\n      <td>(jaggery)</td>\n      <td>(ghee)</td>\n      <td>0.074510</td>\n      <td>0.098039</td>\n      <td>0.023529</td>\n      <td>0.315789</td>\n      <td>3.221053</td>\n      <td>0.016225</td>\n      <td>1.318250</td>\n    </tr>\n    <tr>\n      <th>7</th>\n      <td>(tomato)</td>\n      <td>(ginger)</td>\n      <td>0.062745</td>\n      <td>0.113725</td>\n      <td>0.023529</td>\n      <td>0.375000</td>\n      <td>3.297414</td>\n      <td>0.016394</td>\n      <td>1.418039</td>\n    </tr>\n    <tr>\n      <th>9</th>\n      <td>(jaggery)</td>\n      <td>(rice flour)</td>\n      <td>0.074510</td>\n      <td>0.082353</td>\n      <td>0.023529</td>\n      <td>0.315789</td>\n      <td>3.834586</td>\n      <td>0.017393</td>\n      <td>1.341176</td>\n    </tr>\n    <tr>\n      <th>11</th>\n      <td>(saffron)</td>\n      <td>(sugar)</td>\n      <td>0.039216</td>\n      <td>0.188235</td>\n      <td>0.023529</td>\n      <td>0.600000</td>\n      <td>3.187500</td>\n      <td>0.016148</td>\n      <td>2.029412</td>\n    </tr>\n    <tr>\n      <th>13</th>\n      <td>(cardamom)</td>\n      <td>(sugar)</td>\n      <td>0.035294</td>\n      <td>0.188235</td>\n      <td>0.027451</td>\n      <td>0.777778</td>\n      <td>4.131944</td>\n      <td>0.020807</td>\n      <td>3.652941</td>\n    </tr>\n    <tr>\n      <th>14</th>\n      <td>(urad dal)</td>\n      <td>(curry leaves)</td>\n      <td>0.098039</td>\n      <td>0.098039</td>\n      <td>0.035294</td>\n      <td>0.360000</td>\n      <td>3.672000</td>\n      <td>0.025682</td>\n      <td>1.409314</td>\n    </tr>\n    <tr>\n      <th>15</th>\n      <td>(curry leaves)</td>\n      <td>(urad dal)</td>\n      <td>0.098039</td>\n      <td>0.098039</td>\n      <td>0.035294</td>\n      <td>0.360000</td>\n      <td>3.672000</td>\n      <td>0.025682</td>\n      <td>1.409314</td>\n    </tr>\n    <tr>\n      <th>16</th>\n      <td>(garam masala)</td>\n      <td>(ginger)</td>\n      <td>0.105882</td>\n      <td>0.113725</td>\n      <td>0.035294</td>\n      <td>0.333333</td>\n      <td>2.931034</td>\n      <td>0.023253</td>\n      <td>1.329412</td>\n    </tr>\n    <tr>\n      <th>17</th>\n      <td>(ginger)</td>\n      <td>(garam masala)</td>\n      <td>0.113725</td>\n      <td>0.105882</td>\n      <td>0.035294</td>\n      <td>0.310345</td>\n      <td>2.931034</td>\n      <td>0.023253</td>\n      <td>1.296471</td>\n    </tr>\n    <tr>\n      <th>18</th>\n      <td>(chana dal)</td>\n      <td>(urad dal)</td>\n      <td>0.062745</td>\n      <td>0.098039</td>\n      <td>0.043137</td>\n      <td>0.687500</td>\n      <td>7.012500</td>\n      <td>0.036986</td>\n      <td>2.886275</td>\n    </tr>\n    <tr>\n      <th>19</th>\n      <td>(urad dal)</td>\n      <td>(chana dal)</td>\n      <td>0.098039</td>\n      <td>0.062745</td>\n      <td>0.043137</td>\n      <td>0.440000</td>\n      <td>7.012500</td>\n      <td>0.036986</td>\n      <td>1.673669</td>\n    </tr>\n    <tr>\n      <th>20</th>\n      <td>(milk)</td>\n      <td>(sugar)</td>\n      <td>0.082353</td>\n      <td>0.188235</td>\n      <td>0.054902</td>\n      <td>0.666667</td>\n      <td>3.541667</td>\n      <td>0.039400</td>\n      <td>2.435294</td>\n    </tr>\n    <tr>\n      <th>22</th>\n      <td>(ghee)</td>\n      <td>(sugar)</td>\n      <td>0.098039</td>\n      <td>0.188235</td>\n      <td>0.062745</td>\n      <td>0.640000</td>\n      <td>3.400000</td>\n      <td>0.044291</td>\n      <td>2.254902</td>\n    </tr>\n    <tr>\n      <th>23</th>\n      <td>(sugar)</td>\n      <td>(ghee)</td>\n      <td>0.188235</td>\n      <td>0.098039</td>\n      <td>0.062745</td>\n      <td>0.333333</td>\n      <td>3.400000</td>\n      <td>0.044291</td>\n      <td>1.352941</td>\n    </tr>\n  </tbody>\n</table>\n</div>"
     },
     "execution_count": 129,
     "metadata": {},
     "output_type": "execute_result"
    }
   ],
   "source": [
    "# Looking at Minsupport of 2%\n",
    "freq_items_2 = apriori(df_2, min_support=0.02, use_colnames=True)\n",
    "freq_items_2['length'] = freq_items_2['itemsets'].apply(lambda x: len(x))\n",
    "freq_items_2.sort_values([\"length\", \"support\"], inplace=True, ascending=True)\n",
    "rules_2 = association_rules(freq_items_2, metric=\"confidence\", min_threshold=0.01)\n",
    "rules_2_min_conf_3 = rules_2[rules_2['confidence'] >= 0.3].copy()\n",
    "rules_2_min_conf_3"
   ],
   "metadata": {
    "collapsed": false,
    "pycharm": {
     "name": "#%%\n"
    }
   }
  },
  {
   "cell_type": "markdown",
   "source": [
    "a) Which are the three most common ingredients? (i.e. most common 1-itemsets)"
   ],
   "metadata": {
    "collapsed": false,
    "pycharm": {
     "name": "#%% md\n"
    }
   }
  },
  {
   "cell_type": "code",
   "execution_count": 116,
   "outputs": [
    {
     "data": {
      "text/plain": "     support        itemsets  length\n95  0.188235         (sugar)       1\n45  0.113725        (ginger)       1\n41  0.105882  (garam masala)       1",
      "text/html": "<div>\n<style scoped>\n    .dataframe tbody tr th:only-of-type {\n        vertical-align: middle;\n    }\n\n    .dataframe tbody tr th {\n        vertical-align: top;\n    }\n\n    .dataframe thead th {\n        text-align: right;\n    }\n</style>\n<table border=\"1\" class=\"dataframe\">\n  <thead>\n    <tr style=\"text-align: right;\">\n      <th></th>\n      <th>support</th>\n      <th>itemsets</th>\n      <th>length</th>\n    </tr>\n  </thead>\n  <tbody>\n    <tr>\n      <th>95</th>\n      <td>0.188235</td>\n      <td>(sugar)</td>\n      <td>1</td>\n    </tr>\n    <tr>\n      <th>45</th>\n      <td>0.113725</td>\n      <td>(ginger)</td>\n      <td>1</td>\n    </tr>\n    <tr>\n      <th>41</th>\n      <td>0.105882</td>\n      <td>(garam masala)</td>\n      <td>1</td>\n    </tr>\n  </tbody>\n</table>\n</div>"
     },
     "execution_count": 116,
     "metadata": {},
     "output_type": "execute_result"
    }
   ],
   "source": [
    "a2_1 = freq_items_1[freq_items_1['length'] == 1].copy()\n",
    "a2_1.nlargest(3,\"support\")"
   ],
   "metadata": {
    "collapsed": false,
    "pycharm": {
     "name": "#%%\n"
    }
   }
  },
  {
   "cell_type": "code",
   "execution_count": 117,
   "outputs": [
    {
     "data": {
      "text/plain": "     support        itemsets  length\n45  0.188235         (sugar)       1\n21  0.113725        (ginger)       1\n17  0.105882  (garam masala)       1",
      "text/html": "<div>\n<style scoped>\n    .dataframe tbody tr th:only-of-type {\n        vertical-align: middle;\n    }\n\n    .dataframe tbody tr th {\n        vertical-align: top;\n    }\n\n    .dataframe thead th {\n        text-align: right;\n    }\n</style>\n<table border=\"1\" class=\"dataframe\">\n  <thead>\n    <tr style=\"text-align: right;\">\n      <th></th>\n      <th>support</th>\n      <th>itemsets</th>\n      <th>length</th>\n    </tr>\n  </thead>\n  <tbody>\n    <tr>\n      <th>45</th>\n      <td>0.188235</td>\n      <td>(sugar)</td>\n      <td>1</td>\n    </tr>\n    <tr>\n      <th>21</th>\n      <td>0.113725</td>\n      <td>(ginger)</td>\n      <td>1</td>\n    </tr>\n    <tr>\n      <th>17</th>\n      <td>0.105882</td>\n      <td>(garam masala)</td>\n      <td>1</td>\n    </tr>\n  </tbody>\n</table>\n</div>"
     },
     "execution_count": 117,
     "metadata": {},
     "output_type": "execute_result"
    }
   ],
   "source": [
    "a2_2  = freq_items_2[freq_items_2['length'] ==1].copy()\n",
    "a2_2.nlargest(3,\"support\")"
   ],
   "metadata": {
    "collapsed": false,
    "pycharm": {
     "name": "#%%\n"
    }
   }
  },
  {
   "cell_type": "markdown",
   "source": [
    "b) What is the most common pair of ingredients (i.e. most common 2-itemsets)"
   ],
   "metadata": {
    "collapsed": false,
    "pycharm": {
     "name": "#%% md\n"
    }
   }
  },
  {
   "cell_type": "code",
   "execution_count": 119,
   "outputs": [
    {
     "data": {
      "text/plain": "      support       itemsets  length\n153  0.062745  (ghee, sugar)       2",
      "text/html": "<div>\n<style scoped>\n    .dataframe tbody tr th:only-of-type {\n        vertical-align: middle;\n    }\n\n    .dataframe tbody tr th {\n        vertical-align: top;\n    }\n\n    .dataframe thead th {\n        text-align: right;\n    }\n</style>\n<table border=\"1\" class=\"dataframe\">\n  <thead>\n    <tr style=\"text-align: right;\">\n      <th></th>\n      <th>support</th>\n      <th>itemsets</th>\n      <th>length</th>\n    </tr>\n  </thead>\n  <tbody>\n    <tr>\n      <th>153</th>\n      <td>0.062745</td>\n      <td>(ghee, sugar)</td>\n      <td>2</td>\n    </tr>\n  </tbody>\n</table>\n</div>"
     },
     "execution_count": 119,
     "metadata": {},
     "output_type": "execute_result"
    }
   ],
   "source": [
    "b2_1 = freq_items_1[freq_items_1['length'] == 2].copy()\n",
    "b2_1.nlargest(1,'support')"
   ],
   "metadata": {
    "collapsed": false,
    "pycharm": {
     "name": "#%%\n"
    }
   }
  },
  {
   "cell_type": "code",
   "execution_count": 120,
   "outputs": [
    {
     "data": {
      "text/plain": "     support       itemsets  length\n60  0.062745  (ghee, sugar)       2",
      "text/html": "<div>\n<style scoped>\n    .dataframe tbody tr th:only-of-type {\n        vertical-align: middle;\n    }\n\n    .dataframe tbody tr th {\n        vertical-align: top;\n    }\n\n    .dataframe thead th {\n        text-align: right;\n    }\n</style>\n<table border=\"1\" class=\"dataframe\">\n  <thead>\n    <tr style=\"text-align: right;\">\n      <th></th>\n      <th>support</th>\n      <th>itemsets</th>\n      <th>length</th>\n    </tr>\n  </thead>\n  <tbody>\n    <tr>\n      <th>60</th>\n      <td>0.062745</td>\n      <td>(ghee, sugar)</td>\n      <td>2</td>\n    </tr>\n  </tbody>\n</table>\n</div>"
     },
     "execution_count": 120,
     "metadata": {},
     "output_type": "execute_result"
    }
   ],
   "source": [
    "b2_2 = freq_items_2[freq_items_2['length'] == 2].copy()\n",
    "b2_2.nlargest(1,'support')"
   ],
   "metadata": {
    "collapsed": false,
    "pycharm": {
     "name": "#%%\n"
    }
   }
  },
  {
   "cell_type": "markdown",
   "source": [
    "c) What are your 3-5 most \"interesting\" rules?"
   ],
   "metadata": {
    "collapsed": false,
    "pycharm": {
     "name": "#%% md\n"
    }
   }
  },
  {
   "cell_type": "code",
   "execution_count": 137,
   "outputs": [
    {
     "data": {
      "text/plain": "        antecedents     consequents  antecedent support  consequent support  \\\n18      (chana dal)      (urad dal)            0.062745            0.098039   \n19       (urad dal)     (chana dal)            0.098039            0.062745   \n2   (mustard seeds)  (curry leaves)            0.035294            0.098039   \n13       (cardamom)         (sugar)            0.035294            0.188235   \n9         (jaggery)    (rice flour)            0.074510            0.082353   \n14       (urad dal)  (curry leaves)            0.098039            0.098039   \n\n     support  confidence      lift  leverage  conviction  \n18  0.043137    0.687500  7.012500  0.036986    2.886275  \n19  0.043137    0.440000  7.012500  0.036986    1.673669  \n2   0.023529    0.666667  6.800000  0.020069    2.705882  \n13  0.027451    0.777778  4.131944  0.020807    3.652941  \n9   0.023529    0.315789  3.834586  0.017393    1.341176  \n14  0.035294    0.360000  3.672000  0.025682    1.409314  ",
      "text/html": "<div>\n<style scoped>\n    .dataframe tbody tr th:only-of-type {\n        vertical-align: middle;\n    }\n\n    .dataframe tbody tr th {\n        vertical-align: top;\n    }\n\n    .dataframe thead th {\n        text-align: right;\n    }\n</style>\n<table border=\"1\" class=\"dataframe\">\n  <thead>\n    <tr style=\"text-align: right;\">\n      <th></th>\n      <th>antecedents</th>\n      <th>consequents</th>\n      <th>antecedent support</th>\n      <th>consequent support</th>\n      <th>support</th>\n      <th>confidence</th>\n      <th>lift</th>\n      <th>leverage</th>\n      <th>conviction</th>\n    </tr>\n  </thead>\n  <tbody>\n    <tr>\n      <th>18</th>\n      <td>(chana dal)</td>\n      <td>(urad dal)</td>\n      <td>0.062745</td>\n      <td>0.098039</td>\n      <td>0.043137</td>\n      <td>0.687500</td>\n      <td>7.012500</td>\n      <td>0.036986</td>\n      <td>2.886275</td>\n    </tr>\n    <tr>\n      <th>19</th>\n      <td>(urad dal)</td>\n      <td>(chana dal)</td>\n      <td>0.098039</td>\n      <td>0.062745</td>\n      <td>0.043137</td>\n      <td>0.440000</td>\n      <td>7.012500</td>\n      <td>0.036986</td>\n      <td>1.673669</td>\n    </tr>\n    <tr>\n      <th>2</th>\n      <td>(mustard seeds)</td>\n      <td>(curry leaves)</td>\n      <td>0.035294</td>\n      <td>0.098039</td>\n      <td>0.023529</td>\n      <td>0.666667</td>\n      <td>6.800000</td>\n      <td>0.020069</td>\n      <td>2.705882</td>\n    </tr>\n    <tr>\n      <th>13</th>\n      <td>(cardamom)</td>\n      <td>(sugar)</td>\n      <td>0.035294</td>\n      <td>0.188235</td>\n      <td>0.027451</td>\n      <td>0.777778</td>\n      <td>4.131944</td>\n      <td>0.020807</td>\n      <td>3.652941</td>\n    </tr>\n    <tr>\n      <th>9</th>\n      <td>(jaggery)</td>\n      <td>(rice flour)</td>\n      <td>0.074510</td>\n      <td>0.082353</td>\n      <td>0.023529</td>\n      <td>0.315789</td>\n      <td>3.834586</td>\n      <td>0.017393</td>\n      <td>1.341176</td>\n    </tr>\n    <tr>\n      <th>14</th>\n      <td>(urad dal)</td>\n      <td>(curry leaves)</td>\n      <td>0.098039</td>\n      <td>0.098039</td>\n      <td>0.035294</td>\n      <td>0.360000</td>\n      <td>3.672000</td>\n      <td>0.025682</td>\n      <td>1.409314</td>\n    </tr>\n  </tbody>\n</table>\n</div>"
     },
     "execution_count": 137,
     "metadata": {},
     "output_type": "execute_result"
    }
   ],
   "source": [
    "c2_1 = rules_1_min_conf_3.sort_values([\"lift\", \"confidence\"], ascending=False)\n",
    "c2_1.head(5)"
   ],
   "metadata": {
    "collapsed": false,
    "pycharm": {
     "name": "#%%\n"
    }
   }
  },
  {
   "cell_type": "code",
   "execution_count": 138,
   "outputs": [
    {
     "data": {
      "text/plain": "             antecedents          consequents  antecedent support  \\\n3                  (gur)  (bengal gram flour)            0.023529   \n2    (bengal gram flour)                (gur)            0.027451   \n142     (sugar, saffron)           (cardamom)            0.023529   \n147           (cardamom)     (sugar, saffron)            0.035294   \n63                 (gur)       (sesame seeds)            0.023529   \n81             (saffron)           (cardamom)            0.039216   \n\n     consequent support   support  confidence       lift  leverage  conviction  \n3              0.027451  0.011765    0.500000  18.214286  0.011119    1.945098  \n2              0.023529  0.011765    0.428571  18.214286  0.011119    1.708824  \n142            0.035294  0.011765    0.500000  14.166667  0.010934    1.929412  \n147            0.023529  0.011765    0.333333  14.166667  0.010934    1.464706  \n63             0.043137  0.011765    0.500000  11.590909  0.010750    1.913725  \n81             0.035294  0.015686    0.400000  11.333333  0.014302    1.607843  ",
      "text/html": "<div>\n<style scoped>\n    .dataframe tbody tr th:only-of-type {\n        vertical-align: middle;\n    }\n\n    .dataframe tbody tr th {\n        vertical-align: top;\n    }\n\n    .dataframe thead th {\n        text-align: right;\n    }\n</style>\n<table border=\"1\" class=\"dataframe\">\n  <thead>\n    <tr style=\"text-align: right;\">\n      <th></th>\n      <th>antecedents</th>\n      <th>consequents</th>\n      <th>antecedent support</th>\n      <th>consequent support</th>\n      <th>support</th>\n      <th>confidence</th>\n      <th>lift</th>\n      <th>leverage</th>\n      <th>conviction</th>\n    </tr>\n  </thead>\n  <tbody>\n    <tr>\n      <th>3</th>\n      <td>(gur)</td>\n      <td>(bengal gram flour)</td>\n      <td>0.023529</td>\n      <td>0.027451</td>\n      <td>0.011765</td>\n      <td>0.500000</td>\n      <td>18.214286</td>\n      <td>0.011119</td>\n      <td>1.945098</td>\n    </tr>\n    <tr>\n      <th>2</th>\n      <td>(bengal gram flour)</td>\n      <td>(gur)</td>\n      <td>0.027451</td>\n      <td>0.023529</td>\n      <td>0.011765</td>\n      <td>0.428571</td>\n      <td>18.214286</td>\n      <td>0.011119</td>\n      <td>1.708824</td>\n    </tr>\n    <tr>\n      <th>142</th>\n      <td>(sugar, saffron)</td>\n      <td>(cardamom)</td>\n      <td>0.023529</td>\n      <td>0.035294</td>\n      <td>0.011765</td>\n      <td>0.500000</td>\n      <td>14.166667</td>\n      <td>0.010934</td>\n      <td>1.929412</td>\n    </tr>\n    <tr>\n      <th>147</th>\n      <td>(cardamom)</td>\n      <td>(sugar, saffron)</td>\n      <td>0.035294</td>\n      <td>0.023529</td>\n      <td>0.011765</td>\n      <td>0.333333</td>\n      <td>14.166667</td>\n      <td>0.010934</td>\n      <td>1.464706</td>\n    </tr>\n    <tr>\n      <th>63</th>\n      <td>(gur)</td>\n      <td>(sesame seeds)</td>\n      <td>0.023529</td>\n      <td>0.043137</td>\n      <td>0.011765</td>\n      <td>0.500000</td>\n      <td>11.590909</td>\n      <td>0.010750</td>\n      <td>1.913725</td>\n    </tr>\n    <tr>\n      <th>81</th>\n      <td>(saffron)</td>\n      <td>(cardamom)</td>\n      <td>0.039216</td>\n      <td>0.035294</td>\n      <td>0.015686</td>\n      <td>0.400000</td>\n      <td>11.333333</td>\n      <td>0.014302</td>\n      <td>1.607843</td>\n    </tr>\n  </tbody>\n</table>\n</div>"
     },
     "execution_count": 138,
     "metadata": {},
     "output_type": "execute_result"
    }
   ],
   "source": [
    "c2_1 = rules_1_min_conf_3.sort_values([\"lift\", \"confidence\"], ascending=False)\n",
    "c2_1.head(5)"
   ],
   "metadata": {
    "collapsed": false,
    "pycharm": {
     "name": "#%%\n"
    }
   }
  }
 ],
 "metadata": {
  "kernelspec": {
   "name": "pycharm-865e1948",
   "language": "python",
   "display_name": "PyCharm (GITHUB_REPOSITORY)"
  },
  "language_info": {
   "codemirror_mode": {
    "name": "ipython",
    "version": 2
   },
   "file_extension": ".py",
   "mimetype": "text/x-python",
   "name": "python",
   "nbconvert_exporter": "python",
   "pygments_lexer": "ipython2",
   "version": "2.7.6"
  }
 },
 "nbformat": 4,
 "nbformat_minor": 0
}