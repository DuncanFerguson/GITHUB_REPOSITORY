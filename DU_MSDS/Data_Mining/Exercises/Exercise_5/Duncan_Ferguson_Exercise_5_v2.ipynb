{
 "cells": [
  {
   "cell_type": "markdown",
   "metadata": {
    "collapsed": true,
    "pycharm": {
     "name": "#%% md\n"
    }
   },
   "source": [
    "# Exercise 5 <br>\n",
    "Student: Duncan Ferguson <br>\n",
    "Student Id: 871641260 <br>\n",
    "Class: Comp 4431-1 <br>\n",
    "Assignment: Exercise 5 <br>\n",
    "Date: 10/16/2021 <br>\n",
    "Group: Name: Broken Toe <br>\n",
    "Group Members: Emma Bright, Mike Santoro <br>"
   ]
  },
  {
   "cell_type": "code",
   "execution_count": 21,
   "outputs": [
    {
     "name": "stdout",
     "output_type": "stream",
     "text": [
      "te_aray returned from Transactionencoder.fit().transform()\n",
      "[[False  True  True  True False  True  True]\n",
      " [False  True  True  True False  True False]\n",
      " [ True False  True False  True  True False]\n",
      " [ True False  True  True False  True False]\n",
      " [False  True False  True False  True  True]\n",
      " [False False False  True False  True  True]\n",
      " [ True False False False  True False  True]\n",
      " [ True False False False  True False  True]\n",
      " [ True False False False  True False  True]\n",
      " [ True False False False  True False  True]\n",
      " [ True False  True False  True False  True]\n",
      " [ True False  True False  True False  True]\n",
      " [False False False False  True  True  True]\n",
      " [False False False False  True False  True]\n",
      " [False False  True False  True False False]\n",
      " [False False  True False  True False False]\n",
      " [False False False  True False  True  True]\n",
      " [False False False  True False  True  True]\n",
      " [False  True False  True False  True  True]\n",
      " [False  True  True False False  True  True]]\n"
     ]
    }
   ],
   "source": [
    "import pandas as pd\n",
    "from csv import reader\n",
    "from mlxtend.frequent_patterns import apriori, association_rules\n",
    "from mlxtend.preprocessing import TransactionEncoder\n",
    "\n",
    "pd.set_option('display.max_rows', None)\n",
    "pd.set_option('display.width', None)\n",
    "\n",
    "theData = [\n",
    "['milk','onion','egg','bread','chili'],\n",
    "['milk','egg','bread','chili'],\n",
    "['milk','garlic','beans','chili'],\n",
    "['milk','egg','beans','chili'],\n",
    "['milk','onion','egg','bread'],\n",
    "['milk','onion','egg'],\n",
    "['garlic','onion','beans'],\n",
    "['garlic','onion','beans'],\n",
    "['garlic','onion','beans'],\n",
    "['garlic','onion','beans'],\n",
    "['chili','garlic','onion','beans'],\n",
    "['chili','garlic','onion','beans'],\n",
    "['garlic','onion','milk'],\n",
    "['garlic','onion'],\n",
    "['garlic','chili'],\n",
    "['garlic','chili'],\n",
    "['milk','onion','egg'],\n",
    "['milk','onion','egg'],\n",
    "['milk','onion','egg','bread'],\n",
    "['milk','onion','chili','bread'],\n",
    "]\n",
    "\n",
    "# Use Transaction encoder to transform into an 1-hot boolean encoded numpy array\n",
    "te = TransactionEncoder()\n",
    "te_ary = te.fit(theData).transform(theData)\n",
    "\n",
    "print(\"te_aray returned from Transactionencoder.fit().transform()\")\n",
    "print(te_ary)"
   ],
   "metadata": {
    "collapsed": false,
    "pycharm": {
     "name": "#%%\n"
    }
   }
  },
  {
   "cell_type": "code",
   "execution_count": 22,
   "outputs": [
    {
     "name": "stdout",
     "output_type": "stream",
     "text": [
      "DataFrame Version:\n",
      "    beans  bread  chili    egg  garlic   milk  onion\n",
      "0   False   True   True   True   False   True   True\n",
      "1   False   True   True   True   False   True  False\n",
      "2    True  False   True  False    True   True  False\n",
      "3    True  False   True   True   False   True  False\n",
      "4   False   True  False   True   False   True   True\n",
      "5   False  False  False   True   False   True   True\n",
      "6    True  False  False  False    True  False   True\n",
      "7    True  False  False  False    True  False   True\n",
      "8    True  False  False  False    True  False   True\n",
      "9    True  False  False  False    True  False   True\n",
      "10   True  False   True  False    True  False   True\n",
      "11   True  False   True  False    True  False   True\n",
      "12  False  False  False  False    True   True   True\n",
      "13  False  False  False  False    True  False   True\n",
      "14  False  False   True  False    True  False  False\n",
      "15  False  False   True  False    True  False  False\n",
      "16  False  False  False   True   False   True   True\n",
      "17  False  False  False   True   False   True   True\n",
      "18  False   True  False   True   False   True   True\n",
      "19  False   True   True  False   False   True   True\n"
     ]
    }
   ],
   "source": [
    "# Convert into a dataframe for convenience and to pas into the apriori\n",
    "df2 = pd.DataFrame(te_ary, columns=te.columns_)\n",
    "\n",
    "print(\"DataFrame Version:\")\n",
    "print(df2.head(25))"
   ],
   "metadata": {
    "collapsed": false,
    "pycharm": {
     "name": "#%%\n"
    }
   }
  },
  {
   "cell_type": "code",
   "execution_count": 23,
   "outputs": [
    {
     "name": "stdout",
     "output_type": "stream",
     "text": [
      "Frequent Items:\n",
      "    support                itemsets  length\n",
      "5      0.75                 (onion)       1\n",
      "3      0.55                (garlic)       1\n",
      "4      0.55                  (milk)       1\n",
      "1      0.45                 (chili)       1\n",
      "8      0.40             (egg, milk)       2\n",
      "10     0.40         (garlic, onion)       2\n",
      "11     0.40           (milk, onion)       2\n",
      "0      0.40                 (beans)       1\n",
      "2      0.40                   (egg)       1\n",
      "6      0.35         (beans, garlic)       2\n",
      "12     0.30  (beans, garlic, onion)       3\n",
      "13     0.30      (egg, milk, onion)       3\n",
      "7      0.30          (beans, onion)       2\n",
      "9      0.30            (egg, onion)       2\n"
     ]
    }
   ],
   "source": [
    "# Call apriori to find frequent itemsets with min_support = 30%\n",
    "freq_items = apriori(df2, min_support=0.3, use_colnames=True)\n",
    "freq_items['length'] = freq_items['itemsets'].apply(lambda x: len(x))\n",
    "freq_items.sort_values(['support', 'length'], inplace=True, ascending=False)\n",
    "print(\"Frequent Items:\")\n",
    "print(freq_items)"
   ],
   "metadata": {
    "collapsed": false,
    "pycharm": {
     "name": "#%%\n"
    }
   }
  },
  {
   "cell_type": "code",
   "execution_count": 24,
   "outputs": [
    {
     "name": "stdout",
     "output_type": "stream",
     "text": [
      "\n",
      "\n",
      "Reduced freq_items (length == 2 & support >= 40%) | (length >=3 & support >= 30%) \n",
      "    support                itemsets  length\n",
      "8       0.4             (egg, milk)       2\n",
      "10      0.4         (garlic, onion)       2\n",
      "11      0.4           (milk, onion)       2\n",
      "12      0.3  (beans, garlic, onion)       3\n",
      "13      0.3      (egg, milk, onion)       3\n"
     ]
    }
   ],
   "source": [
    "# Examples of How to filter your itemsets further, for illustration only, not actually used below\n",
    "reducedFreqItems = freq_items[(((freq_items['length'] == 2) & (freq_items['support'] >= 0.40)) |\n",
    "                               ((freq_items['length'] >= 3) & (freq_items['support'] >= 0.30 )))]\n",
    "\n",
    "print(\"\\n\\nReduced freq_items (length == 2 & support >= 40%) | (length >=3 & support >= 30%) \")\n",
    "print(reducedFreqItems)"
   ],
   "metadata": {
    "collapsed": false,
    "pycharm": {
     "name": "#%%\n"
    }
   }
  },
  {
   "cell_type": "code",
   "execution_count": 25,
   "outputs": [
    {
     "name": "stdout",
     "output_type": "stream",
     "text": [
      "The Rules\n",
      "               ante          consequ  antsup  consup   sup      conf      lift\n",
      "0             (egg)           (milk)    0.40    0.55  0.40  1.000000  1.818182\n",
      "1            (milk)            (egg)    0.55    0.40  0.40  0.727273  1.818182\n",
      "2          (garlic)          (onion)    0.55    0.75  0.40  0.727273  0.969697\n",
      "3            (milk)          (onion)    0.55    0.75  0.40  0.727273  0.969697\n",
      "4           (beans)         (garlic)    0.40    0.55  0.35  0.875000  1.590909\n",
      "5   (beans, garlic)          (onion)    0.35    0.75  0.30  0.857143  1.142857\n",
      "6    (beans, onion)         (garlic)    0.30    0.55  0.30  1.000000  1.818182\n",
      "7   (garlic, onion)          (beans)    0.40    0.40  0.30  0.750000  1.875000\n",
      "8           (beans)  (garlic, onion)    0.40    0.40  0.30  0.750000  1.875000\n",
      "9       (egg, milk)          (onion)    0.40    0.75  0.30  0.750000  1.000000\n",
      "10     (egg, onion)           (milk)    0.30    0.55  0.30  1.000000  1.818182\n",
      "11    (milk, onion)            (egg)    0.40    0.40  0.30  0.750000  1.875000\n",
      "12            (egg)    (milk, onion)    0.40    0.40  0.30  0.750000  1.875000\n",
      "13          (beans)          (onion)    0.40    0.75  0.30  0.750000  1.000000\n",
      "14            (egg)          (onion)    0.40    0.75  0.30  0.750000  1.000000\n"
     ]
    }
   ],
   "source": [
    "# Mining the rules by calling association_rules\n",
    "print(\"The Rules\")\n",
    "rules = association_rules(freq_items, metric=\"confidence\", min_threshold=0.7)\n",
    "rules.columns = ['ante', 'consequ', 'antsup', 'consup', 'sup', 'conf', 'lift', 'leverage', 'convic']\n",
    "print(rules[[\"ante\",\"consequ\",\"antsup\",\"consup\",\"sup\",\"conf\",\"lift\"]])"
   ],
   "metadata": {
    "collapsed": false,
    "pycharm": {
     "name": "#%%\n"
    }
   }
  },
  {
   "cell_type": "markdown",
   "source": [
    "Questions 1: <br>\n",
    "Using the values already set in the code  <br>\n",
    "(i.e. apriori min_support = 0.3, association_rule min_threshold = 0.7) <br>\n",
    "look at the result an answer: <br>\n",
    "\n",
    "a). Which 1-itemset has the greatest support?"
   ],
   "metadata": {
    "collapsed": false,
    "pycharm": {
     "name": "#%% md\n"
    }
   }
  },
  {
   "cell_type": "code",
   "execution_count": 26,
   "outputs": [
    {
     "name": "stdout",
     "output_type": "stream",
     "text": [
      "   support itemsets  length\n",
      "5     0.75  (onion)       1\n"
     ]
    }
   ],
   "source": [
    "freq_items.sort_values(['support', 'length'], inplace=True, ascending=False)\n",
    "print(freq_items[((freq_items['length'] == 1) & (freq_items['support'] == freq_items.support.max()))])"
   ],
   "metadata": {
    "collapsed": false,
    "pycharm": {
     "name": "#%%\n"
    }
   }
  },
  {
   "cell_type": "markdown",
   "source": [
    "b). which 3-itemsets have suport >= 0.3"
   ],
   "metadata": {
    "collapsed": false,
    "pycharm": {
     "name": "#%% md\n"
    }
   }
  },
  {
   "cell_type": "code",
   "execution_count": 27,
   "outputs": [
    {
     "name": "stdout",
     "output_type": "stream",
     "text": [
      "    support                itemsets  length\n",
      "12      0.3  (beans, garlic, onion)       3\n",
      "13      0.3      (egg, milk, onion)       3\n"
     ]
    }
   ],
   "source": [
    "print(freq_items[((freq_items['length'] == 3) & (freq_items['support'] >= 0.3))])"
   ],
   "metadata": {
    "collapsed": false,
    "pycharm": {
     "name": "#%%\n"
    }
   }
  },
  {
   "cell_type": "markdown",
   "source": [
    "c). Why do the two rules (milk->egg and egg->milk) have different confidence values? <br>\n",
    "The reason that (milk->egg and egg->milk) have different confidence values is because they have different\n",
    "levels of support. There conditional probabilities are different."
   ],
   "metadata": {
    "collapsed": false,
    "pycharm": {
     "name": "#%% md\n"
    }
   }
  },
  {
   "cell_type": "code",
   "execution_count": 28,
   "outputs": [
    {
     "name": "stdout",
     "output_type": "stream",
     "text": [
      "   support itemsets  length\n",
      "4     0.55   (milk)       1\n",
      "   support itemsets  length\n",
      "2      0.4    (egg)       1\n"
     ]
    }
   ],
   "source": [
    "print(freq_items[freq_items[\"itemsets\"] == frozenset({'milk'})])\n",
    "print(freq_items[freq_items[\"itemsets\"] == frozenset({'egg'})])"
   ],
   "metadata": {
    "collapsed": false,
    "pycharm": {
     "name": "#%%\n"
    }
   }
  },
  {
   "cell_type": "markdown",
   "source": [
    "d) Which rules are not \"interesting\"? Why do you say that?\n",
    "\n",
    "The following all have a lift that is or below 1."
   ],
   "metadata": {
    "collapsed": false,
    "pycharm": {
     "name": "#%% md\n"
    }
   }
  },
  {
   "cell_type": "code",
   "execution_count": 29,
   "outputs": [
    {
     "data": {
      "text/plain": "           ante  consequ  antsup  consup  sup      conf      lift\n2      (garlic)  (onion)    0.55    0.75  0.4  0.727273  0.969697\n3        (milk)  (onion)    0.55    0.75  0.4  0.727273  0.969697\n9   (egg, milk)  (onion)    0.40    0.75  0.3  0.750000  1.000000\n13      (beans)  (onion)    0.40    0.75  0.3  0.750000  1.000000\n14        (egg)  (onion)    0.40    0.75  0.3  0.750000  1.000000",
      "text/html": "<div>\n<style scoped>\n    .dataframe tbody tr th:only-of-type {\n        vertical-align: middle;\n    }\n\n    .dataframe tbody tr th {\n        vertical-align: top;\n    }\n\n    .dataframe thead th {\n        text-align: right;\n    }\n</style>\n<table border=\"1\" class=\"dataframe\">\n  <thead>\n    <tr style=\"text-align: right;\">\n      <th></th>\n      <th>ante</th>\n      <th>consequ</th>\n      <th>antsup</th>\n      <th>consup</th>\n      <th>sup</th>\n      <th>conf</th>\n      <th>lift</th>\n    </tr>\n  </thead>\n  <tbody>\n    <tr>\n      <th>2</th>\n      <td>(garlic)</td>\n      <td>(onion)</td>\n      <td>0.55</td>\n      <td>0.75</td>\n      <td>0.4</td>\n      <td>0.727273</td>\n      <td>0.969697</td>\n    </tr>\n    <tr>\n      <th>3</th>\n      <td>(milk)</td>\n      <td>(onion)</td>\n      <td>0.55</td>\n      <td>0.75</td>\n      <td>0.4</td>\n      <td>0.727273</td>\n      <td>0.969697</td>\n    </tr>\n    <tr>\n      <th>9</th>\n      <td>(egg, milk)</td>\n      <td>(onion)</td>\n      <td>0.40</td>\n      <td>0.75</td>\n      <td>0.3</td>\n      <td>0.750000</td>\n      <td>1.000000</td>\n    </tr>\n    <tr>\n      <th>13</th>\n      <td>(beans)</td>\n      <td>(onion)</td>\n      <td>0.40</td>\n      <td>0.75</td>\n      <td>0.3</td>\n      <td>0.750000</td>\n      <td>1.000000</td>\n    </tr>\n    <tr>\n      <th>14</th>\n      <td>(egg)</td>\n      <td>(onion)</td>\n      <td>0.40</td>\n      <td>0.75</td>\n      <td>0.3</td>\n      <td>0.750000</td>\n      <td>1.000000</td>\n    </tr>\n  </tbody>\n</table>\n</div>"
     },
     "execution_count": 29,
     "metadata": {},
     "output_type": "execute_result"
    }
   ],
   "source": [
    "not_interesting = rules[[\"ante\",\"consequ\",\"antsup\",\"consup\",\"sup\",\"conf\",\"lift\"]]\n",
    "not_interesting[not_interesting[\"lift\"] <= 1]"
   ],
   "metadata": {
    "collapsed": false,
    "pycharm": {
     "name": "#%%\n"
    }
   }
  },
  {
   "cell_type": "markdown",
   "source": [
    "e) Two Rules have a lift value < 1.0 (garlic-> onion and milk->onion). Why are these especially useless rules?\n",
    "\n",
    "Because there lift is below 1. Meaning that they do not have a coorelation"
   ],
   "metadata": {
    "collapsed": false,
    "pycharm": {
     "name": "#%% md\n"
    }
   }
  },
  {
   "cell_type": "code",
   "execution_count": 31,
   "outputs": [
    {
     "data": {
      "text/plain": "       ante  consequ  antsup  consup  sup      conf      lift\n2  (garlic)  (onion)    0.55    0.75  0.4  0.727273  0.969697\n3    (milk)  (onion)    0.55    0.75  0.4  0.727273  0.969697",
      "text/html": "<div>\n<style scoped>\n    .dataframe tbody tr th:only-of-type {\n        vertical-align: middle;\n    }\n\n    .dataframe tbody tr th {\n        vertical-align: top;\n    }\n\n    .dataframe thead th {\n        text-align: right;\n    }\n</style>\n<table border=\"1\" class=\"dataframe\">\n  <thead>\n    <tr style=\"text-align: right;\">\n      <th></th>\n      <th>ante</th>\n      <th>consequ</th>\n      <th>antsup</th>\n      <th>consup</th>\n      <th>sup</th>\n      <th>conf</th>\n      <th>lift</th>\n    </tr>\n  </thead>\n  <tbody>\n    <tr>\n      <th>2</th>\n      <td>(garlic)</td>\n      <td>(onion)</td>\n      <td>0.55</td>\n      <td>0.75</td>\n      <td>0.4</td>\n      <td>0.727273</td>\n      <td>0.969697</td>\n    </tr>\n    <tr>\n      <th>3</th>\n      <td>(milk)</td>\n      <td>(onion)</td>\n      <td>0.55</td>\n      <td>0.75</td>\n      <td>0.4</td>\n      <td>0.727273</td>\n      <td>0.969697</td>\n    </tr>\n  </tbody>\n</table>\n</div>"
     },
     "execution_count": 31,
     "metadata": {},
     "output_type": "execute_result"
    }
   ],
   "source": [
    "not_interesting[not_interesting[\"lift\"] < .9999]"
   ],
   "metadata": {
    "collapsed": false,
    "pycharm": {
     "name": "#%%\n"
    }
   }
  },
  {
   "cell_type": "markdown",
   "source": [
    "2) The following file contains a clean version of ingredients in 256 indian dishes <br>\n",
    "Modify the example code to read in and process this file.\n",
    "\n",
    "Once read in, explore the file for various min_support and min_confidence settings.\n",
    "\n",
    "Note it is suggested to start exploring with min_support = 1% or 2% and min_confidence = 30%\n",
    "You can then parameter up/down and see what happens."
   ],
   "metadata": {
    "collapsed": false,
    "pycharm": {
     "name": "#%% md\n"
    }
   }
  },
  {
   "cell_type": "code",
   "execution_count": null,
   "outputs": [],
   "source": [
    "\n"
   ],
   "metadata": {
    "collapsed": false,
    "pycharm": {
     "name": "#%%\n"
    }
   }
  }
 ],
 "metadata": {
  "kernelspec": {
   "name": "pycharm-865e1948",
   "language": "python",
   "display_name": "PyCharm (GITHUB_REPOSITORY)"
  },
  "language_info": {
   "codemirror_mode": {
    "name": "ipython",
    "version": 2
   },
   "file_extension": ".py",
   "mimetype": "text/x-python",
   "name": "python",
   "nbconvert_exporter": "python",
   "pygments_lexer": "ipython2",
   "version": "2.7.6"
  }
 },
 "nbformat": 4,
 "nbformat_minor": 0
}