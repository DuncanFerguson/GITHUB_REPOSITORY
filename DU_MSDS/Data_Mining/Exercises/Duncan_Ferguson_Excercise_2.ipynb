{
 "cells": [
  {
   "cell_type": "markdown",
   "source": [
    "Student: Duncan Ferguson <br>\n",
    "Student Id: 871641260 <br>\n",
    "Class: Comp 4431-1 <br>\n",
    "Assignment: Excercise 2 <br>\n",
    "Date: 9/24/2021 <br>\n",
    "Group: Name: Broken Toe <br>\n",
    "Group Members: Emma Bright, Mike Santoro <br>"
   ],
   "metadata": {
    "collapsed": false,
    "pycharm": {
     "name": "#%% md\n"
    }
   }
  },
  {
   "cell_type": "code",
   "execution_count": 11,
   "outputs": [
    {
     "data": {
      "text/plain": "       HEIGHT   BMI  WEIGHT  LDL  SBP\nID                                   \n10000    1.67  19.0   52.99  115  126\n10001    1.85  18.0   61.61  112   97\n10002    1.80  31.0  100.44   -1  146\n10003    1.49  24.0   53.28  130  116\n10004    1.75  21.0   64.31  121  139",
      "text/html": "<div>\n<style scoped>\n    .dataframe tbody tr th:only-of-type {\n        vertical-align: middle;\n    }\n\n    .dataframe tbody tr th {\n        vertical-align: top;\n    }\n\n    .dataframe thead th {\n        text-align: right;\n    }\n</style>\n<table border=\"1\" class=\"dataframe\">\n  <thead>\n    <tr style=\"text-align: right;\">\n      <th></th>\n      <th>HEIGHT</th>\n      <th>BMI</th>\n      <th>WEIGHT</th>\n      <th>LDL</th>\n      <th>SBP</th>\n    </tr>\n    <tr>\n      <th>ID</th>\n      <th></th>\n      <th></th>\n      <th></th>\n      <th></th>\n      <th></th>\n    </tr>\n  </thead>\n  <tbody>\n    <tr>\n      <th>10000</th>\n      <td>1.67</td>\n      <td>19.0</td>\n      <td>52.99</td>\n      <td>115</td>\n      <td>126</td>\n    </tr>\n    <tr>\n      <th>10001</th>\n      <td>1.85</td>\n      <td>18.0</td>\n      <td>61.61</td>\n      <td>112</td>\n      <td>97</td>\n    </tr>\n    <tr>\n      <th>10002</th>\n      <td>1.80</td>\n      <td>31.0</td>\n      <td>100.44</td>\n      <td>-1</td>\n      <td>146</td>\n    </tr>\n    <tr>\n      <th>10003</th>\n      <td>1.49</td>\n      <td>24.0</td>\n      <td>53.28</td>\n      <td>130</td>\n      <td>116</td>\n    </tr>\n    <tr>\n      <th>10004</th>\n      <td>1.75</td>\n      <td>21.0</td>\n      <td>64.31</td>\n      <td>121</td>\n      <td>139</td>\n    </tr>\n  </tbody>\n</table>\n</div>"
     },
     "execution_count": 11,
     "metadata": {},
     "output_type": "execute_result"
    }
   ],
   "source": [
    "import pandas as pd\n",
    "\n",
    "df = pd.read_csv('ds_ex2.txt', names=[\"ID\", \"HEIGHT\", \"BMI\", \"WEIGHT\", \"LDL\", \"SBP\"])  # Importing File\n",
    "df.set_index(\"ID\", inplace=True)  # Resetting the index to the ID number\n",
    "df.head()"
   ],
   "metadata": {
    "collapsed": false,
    "pycharm": {
     "name": "#%%\n"
    }
   }
  },
  {
   "cell_type": "markdown",
   "source": [
    "A) For the data with all records with -1 removed: <br>\n",
    "-The mean of columns 2,3,4, and 5 <br>\n",
    "-The correlation coefficient for each column pair <br>"
   ],
   "metadata": {
    "collapsed": false,
    "pycharm": {
     "name": "#%% md\n"
    }
   }
  },
  {
   "cell_type": "code",
   "execution_count": 12,
   "outputs": [
    {
     "data": {
      "text/plain": "HEIGHT      1.682763\nBMI        23.955990\nWEIGHT     68.087482\nLDL       129.867971\nSBP       129.083130\ndtype: float64"
     },
     "execution_count": 12,
     "metadata": {},
     "output_type": "execute_result"
    }
   ],
   "source": [
    "df_a = df.copy()  # Copying the df so it can be manipulated\n",
    "df_a = df_a[df_a.LDL != -1]  # removing all records with -1, note LDL is the column with -1\n",
    "df_a.mean(axis=0)  # Getting the mean of columns 2,3,4,5"
   ],
   "metadata": {
    "collapsed": false,
    "pycharm": {
     "name": "#%%\n"
    }
   }
  },
  {
   "cell_type": "code",
   "execution_count": 13,
   "outputs": [
    {
     "data": {
      "text/plain": "          HEIGHT       BMI    WEIGHT       LDL       SBP\nHEIGHT  1.000000 -0.034972  0.514509 -0.034972 -0.014620\nBMI    -0.034972  1.000000  0.830531  1.000000  0.801063\nWEIGHT  0.514509  0.830531  1.000000  0.830531  0.672957\nLDL    -0.034972  1.000000  0.830531  1.000000  0.801063\nSBP    -0.014620  0.801063  0.672957  0.801063  1.000000",
      "text/html": "<div>\n<style scoped>\n    .dataframe tbody tr th:only-of-type {\n        vertical-align: middle;\n    }\n\n    .dataframe tbody tr th {\n        vertical-align: top;\n    }\n\n    .dataframe thead th {\n        text-align: right;\n    }\n</style>\n<table border=\"1\" class=\"dataframe\">\n  <thead>\n    <tr style=\"text-align: right;\">\n      <th></th>\n      <th>HEIGHT</th>\n      <th>BMI</th>\n      <th>WEIGHT</th>\n      <th>LDL</th>\n      <th>SBP</th>\n    </tr>\n  </thead>\n  <tbody>\n    <tr>\n      <th>HEIGHT</th>\n      <td>1.000000</td>\n      <td>-0.034972</td>\n      <td>0.514509</td>\n      <td>-0.034972</td>\n      <td>-0.014620</td>\n    </tr>\n    <tr>\n      <th>BMI</th>\n      <td>-0.034972</td>\n      <td>1.000000</td>\n      <td>0.830531</td>\n      <td>1.000000</td>\n      <td>0.801063</td>\n    </tr>\n    <tr>\n      <th>WEIGHT</th>\n      <td>0.514509</td>\n      <td>0.830531</td>\n      <td>1.000000</td>\n      <td>0.830531</td>\n      <td>0.672957</td>\n    </tr>\n    <tr>\n      <th>LDL</th>\n      <td>-0.034972</td>\n      <td>1.000000</td>\n      <td>0.830531</td>\n      <td>1.000000</td>\n      <td>0.801063</td>\n    </tr>\n    <tr>\n      <th>SBP</th>\n      <td>-0.014620</td>\n      <td>0.801063</td>\n      <td>0.672957</td>\n      <td>0.801063</td>\n      <td>1.000000</td>\n    </tr>\n  </tbody>\n</table>\n</div>"
     },
     "execution_count": 13,
     "metadata": {},
     "output_type": "execute_result"
    }
   ],
   "source": [
    "# The Correlation coefficient for each column pair\n",
    "df_a.corr()"
   ],
   "metadata": {
    "collapsed": false,
    "pycharm": {
     "name": "#%%\n"
    }
   }
  },
  {
   "cell_type": "markdown",
   "source": [
    "B) For the data with all -1 values replaced by the ldl mean: <br>\n",
    "-The mean of columns 2..5 <br>\n",
    "-The correlation coefficient for each column pair <br>"
   ],
   "metadata": {
    "collapsed": false,
    "pycharm": {
     "name": "#%% md\n"
    }
   }
  },
  {
   "cell_type": "code",
   "execution_count": 14,
   "outputs": [
    {
     "data": {
      "text/plain": "HEIGHT      1.685260\nBMI        25.214000\nWEIGHT     71.924640\nLDL       129.867971\nSBP       133.070000\ndtype: float64"
     },
     "execution_count": 14,
     "metadata": {},
     "output_type": "execute_result"
    }
   ],
   "source": [
    "df_b = df.copy()\n",
    "df_b[\"LDL\"] = df_b[\"LDL\"].replace([-1], df_a[\"LDL\"].mean())  # Replacing the -1 values with the column mean\n",
    "df_b.mean(axis=0)"
   ],
   "metadata": {
    "collapsed": false,
    "pycharm": {
     "name": "#%%\n"
    }
   }
  },
  {
   "cell_type": "code",
   "execution_count": 15,
   "outputs": [
    {
     "data": {
      "text/plain": "          HEIGHT       BMI    WEIGHT       LDL       SBP\nHEIGHT  1.000000 -0.010546  0.521627 -0.031778  0.020074\nBMI    -0.010546  1.000000  0.839000  0.846905  0.825227\nWEIGHT  0.521627  0.839000  1.000000  0.695751  0.709841\nLDL    -0.031778  0.846905  0.695751  1.000000  0.692191\nSBP     0.020074  0.825227  0.709841  0.692191  1.000000",
      "text/html": "<div>\n<style scoped>\n    .dataframe tbody tr th:only-of-type {\n        vertical-align: middle;\n    }\n\n    .dataframe tbody tr th {\n        vertical-align: top;\n    }\n\n    .dataframe thead th {\n        text-align: right;\n    }\n</style>\n<table border=\"1\" class=\"dataframe\">\n  <thead>\n    <tr style=\"text-align: right;\">\n      <th></th>\n      <th>HEIGHT</th>\n      <th>BMI</th>\n      <th>WEIGHT</th>\n      <th>LDL</th>\n      <th>SBP</th>\n    </tr>\n  </thead>\n  <tbody>\n    <tr>\n      <th>HEIGHT</th>\n      <td>1.000000</td>\n      <td>-0.010546</td>\n      <td>0.521627</td>\n      <td>-0.031778</td>\n      <td>0.020074</td>\n    </tr>\n    <tr>\n      <th>BMI</th>\n      <td>-0.010546</td>\n      <td>1.000000</td>\n      <td>0.839000</td>\n      <td>0.846905</td>\n      <td>0.825227</td>\n    </tr>\n    <tr>\n      <th>WEIGHT</th>\n      <td>0.521627</td>\n      <td>0.839000</td>\n      <td>1.000000</td>\n      <td>0.695751</td>\n      <td>0.709841</td>\n    </tr>\n    <tr>\n      <th>LDL</th>\n      <td>-0.031778</td>\n      <td>0.846905</td>\n      <td>0.695751</td>\n      <td>1.000000</td>\n      <td>0.692191</td>\n    </tr>\n    <tr>\n      <th>SBP</th>\n      <td>0.020074</td>\n      <td>0.825227</td>\n      <td>0.709841</td>\n      <td>0.692191</td>\n      <td>1.000000</td>\n    </tr>\n  </tbody>\n</table>\n</div>"
     },
     "execution_count": 15,
     "metadata": {},
     "output_type": "execute_result"
    }
   ],
   "source": [
    "df_b.corr()"
   ],
   "metadata": {
    "collapsed": false,
    "pycharm": {
     "name": "#%%\n"
    }
   }
  },
  {
   "cell_type": "markdown",
   "source": [
    "C) Answer these questions and put your answers in the text box (but first list the names of your group members):\n",
    "-For the reduced data set with the missing data records removed, which columns are correlated?\n",
    "  Is this correlation strong?  Does this correlation \"make sense\"\n",
    "\n",
    "For the data set with the missing data records removed we define linear correlation as values that are above 0.8.\n",
    "Meaning that we found that we found the following columns to be strongly linearly correlated.\n",
    "\n",
    "These correlations all make sense with the exception of the LDL and BMI correlation.\n",
    "A correlation coefficient of 1 means that in every case where there is an increase of LDL there will be a direct\n",
    "increase in BMI.  While the two values may impact one another, there is no direct linear correlation between LDL and BMI.\n",
    "\n",
    "[BMI and Weight] (0.83)This linear correlation makes sense since BMI is dependent on weight.\n",
    "[BMI and SBP] (0.80) loss significantly reduces blood pressure. Which means that this linear correlation makes sense.\n",
    "[WEIGHT and LDL] (0.83) Weight loss helps lower LDL cholesterol, making this linear correlation make sense\n",
    "[LDL and BMI] (1.0) Both are contributing risk factors for cardiovascular disease in obese individuals\n",
    "[LDL and SBP] (.80) LDL is a measure of the \"bad cholesterol\" in your arteries which would make sense that with\n",
    "the build up there would be an increase in blood pressure.\n",
    "\n",
    "-Did replacing the \"-1\" values with the ldl mean approach change the mean and correlation values\n",
    "compared to omitting the records?  How did they change?\n",
    "\n",
    "Yes, replacing the -1 values with the ldl mean approach did change the mean and linear correlation values\n",
    "compared to omitting the records.\n",
    "\n",
    "The Height mean had a negligible change going from 1.682763 to 1.685260\n",
    "The BMI mean increased from  23.955990 to 25.214000\n",
    "The Weight mean increased from 68.087482 to 71.924640\n",
    "The SBP mean had the greatest increase going from 129.083130 to 133.070000\n",
    "\n",
    "For the linear correlations:\n",
    "There were noticeable differences in linear correlation between\n",
    "[SBP, LDL] Changing from a strong linear correlation of .801603 to a much weaker linear correlation of .692191\n",
    "[LDL, BMI] Changing from a linear correlation of 1 to .846905\n",
    "\n",
    "-Which method do you think is \"better\" and why?\n",
    "I believe that using the mean value for the LDL in place of the values with errors is the \"better\" method for\n",
    "handling the missing data.  When using the mean value we have more appropriate linear correlation values, for example,\n",
    "the decrease in value from 1.0 to 0.84 with the LDL and BMI linear correlation.\n",
    "\n",
    "Group Members: Emma Bright and Mike Santoro <br>"
   ],
   "metadata": {
    "collapsed": false,
    "pycharm": {
     "name": "#%% md\n"
    }
   }
  },
  {
   "cell_type": "code",
   "execution_count": 24,
   "outputs": [
    {
     "data": {
      "text/plain": "Text(0.5, 1.0, 'Correlation heatmap for -1 Removal')"
     },
     "execution_count": 24,
     "metadata": {},
     "output_type": "execute_result"
    },
    {
     "data": {
      "text/plain": "<Figure size 432x288 with 2 Axes>",
      "image/png": "[encoded data removed]"
     },
     "metadata": {
      "needs_background": "light"
     },
     "output_type": "display_data"
    }
   ],
   "source": [
    "import seaborn as sns\n",
    "import numpy as np\n",
    "\n",
    "\n",
    "df_a_corr = df_a.corr()\n",
    "ax = sns.heatmap(df_a_corr,\n",
    "                 vmin=-1,\n",
    "                 vmax=1,\n",
    "                 center=0,\n",
    "                 cmap=sns.diverging_palette(20,220, n=200),\n",
    "                 square=True,\n",
    "                 annot=True)\n",
    "ax.set_title(\"Correlation heatmap for -1 Removal\")"
   ],
   "metadata": {
    "collapsed": false,
    "pycharm": {
     "name": "#%%\n"
    }
   }
  },
  {
   "cell_type": "code",
   "execution_count": 25,
   "outputs": [
    {
     "data": {
      "text/plain": "Text(0.5, 1.0, 'Correlation heatmap for -1 Removal')"
     },
     "execution_count": 25,
     "metadata": {},
     "output_type": "execute_result"
    },
    {
     "data": {
      "text/plain": "<Figure size 432x288 with 2 Axes>",
      "image/png": "[encoded data removed]"
     },
     "metadata": {
      "needs_background": "light"
     },
     "output_type": "display_data"
    }
   ],
   "source": [
    "df_b_corr = df_b.corr()\n",
    "ax = sns.heatmap(df_b_corr,\n",
    "                 vmin=-1,\n",
    "                 vmax=1,\n",
    "                 center=0,\n",
    "                 cmap=sns.diverging_palette(20,220, n=200),\n",
    "                 square=True,\n",
    "                 annot=True)\n",
    "ax.set_title(\"Correlation heatmap for mean replacement\")"
   ],
   "metadata": {
    "collapsed": false,
    "pycharm": {
     "name": "#%%\n"
    }
   }
  }
 ],
 "metadata": {
  "kernelspec": {
   "name": "pycharm-865e1948",
   "language": "python",
   "display_name": "PyCharm (GITHUB_REPOSITORY)"
  },
  "language_info": {
   "codemirror_mode": {
    "name": "ipython",
    "version": 2
   },
   "file_extension": ".py",
   "mimetype": "text/x-python",
   "name": "python",
   "nbconvert_exporter": "python",
   "pygments_lexer": "ipython2",
   "version": "2.7.6"
  }
 },
 "nbformat": 4,
 "nbformat_minor": 0
}