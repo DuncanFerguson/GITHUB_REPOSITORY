{
 "cells": [
  {
   "cell_type": "markdown",
   "metadata": {
    "collapsed": true,
    "pycharm": {
     "name": "#%% md\n"
    }
   },
   "source": [
    "Student: Duncan Ferguson <br>\n",
    "Student Id: 871641260 <br>\n",
    "Class: Comp 4431-1 <br>\n",
    "Assignment: Exercise 7 <br>\n",
    "Date: 11/3/2021 <br>\n",
    "Group: Name: Broken Toe <br>\n",
    "Group Members: Emma Bright, Mike Santoro <br>"
   ]
  },
  {
   "cell_type": "markdown",
   "source": [
    "## Question 1\n",
    "First, consider the file: smallExample.py Download smallExample.py\n",
    "\n",
    "This file simple shows how train_test_split is used to split the data, x_train and y_train used to fit the model,\n",
    "x_test used to test the model, and y_test used to assess the performance of the model for the x_test data.  We just\n",
    " talked about this at the start of class (and on the zoom video if you missed class).\n"
   ],
   "metadata": {
    "collapsed": false,
    "pycharm": {
     "name": "#%% md\n"
    }
   }
  },
  {
   "cell_type": "markdown",
   "source": [
    "## Question 2\n",
    "Now consider the file: createDataAndDecisionAndNaive.py Download createDataAndDecisionAndNaive.py\n",
    "\n",
    "At the top of the file is a parameter \"probInGroup\" currently set to 1.0.  Experiment by changing its value\n",
    "to 0.9, 0.8, 0.6, 0.4, 0.2, and 0.  What happens to the relative classification performance of the three algorithms?\n",
    " Why?\n",
    "\n",
    "As the number decreases the data becomes more random. Lowering the probability increases the variance. Otherwise you have\n",
    "an equal probability of choosing zero or 1. The higher the probability is the more like it is that the rule is going to choose the prdeicted value\n",
    "\n",
    "The Classification preformance is starting to go down. The reason being is that the probability of getting selected\n",
    "is starting to go down when the confusion matrix is being classified.\n",
    "\n"
   ],
   "metadata": {
    "collapsed": false,
    "pycharm": {
     "name": "#%% md\n"
    }
   }
  },
  {
   "cell_type": "markdown",
   "source": [
    "## Quesiton 3\n",
    "\n",
    "Now consider the file: abstract_v2.py Download abstract_v2.py\n",
    "\n",
    "Why does the GaussianNB algorithm work so well?  Why does the decision tree work so well\n",
    "(the data was NOT generated with if/then rules...).\n",
    "\n",
    "for Gaussian NB\n",
    "GaussianNB algorithm works well in this scenario because even though the values are discrete rather than continuous,\n",
    "the data points themselves are normally (gaussian) distributed and so the Gaussian algorithm does a good job of making\n",
    "predictions for this set.\n",
    "the decision tree one is correct\n",
    "\n",
    "At the top of the file is a parameter \"probInGroup\" currently set to 1.0.  Experiment by changing its value to\n",
    " 0.9, 0.8, 0.6, 0.4, 0.2, and 0. What happens to the relative classification performance of the three algorithms?  Why?\n",
    "The relative classification performance of the three algorithms decreases as the probability decreases.\n",
    "The performance of the three algorithms decreases because the probability that the rule selects a candidate versus a\n",
    "candidate randomly chosen by equal probability decreases.\n",
    "\n",
    "\n",
    "\n",
    "\n",
    "Now consider the parameters stddev and bound near the top.\n",
    " As you increase the value of these two parameters what happens?  Why?\n",
    "\n",
    "Decision trees do better with discrete values\n",
    "\n",
    "As we change the probability,\n",
    "\n",
    "When you increase the std deviation, and the random number is more likely to be randomly chosen. The bounds grow. There is\n",
    "more randomness introduced into the model and thus harder to predict.\n",
    "\n",
    "The feature becomes less useful because it is a bad predictor"
   ],
   "metadata": {
    "collapsed": false,
    "pycharm": {
     "name": "#%% md\n"
    }
   }
  }
 ],
 "metadata": {
  "kernelspec": {
   "name": "pycharm-865e1948",
   "language": "python",
   "display_name": "PyCharm (GITHUB_REPOSITORY)"
  },
  "language_info": {
   "codemirror_mode": {
    "name": "ipython",
    "version": 2
   },
   "file_extension": ".py",
   "mimetype": "text/x-python",
   "name": "python",
   "nbconvert_exporter": "python",
   "pygments_lexer": "ipython2",
   "version": "2.7.6"
  }
 },
 "nbformat": 4,
 "nbformat_minor": 0
}