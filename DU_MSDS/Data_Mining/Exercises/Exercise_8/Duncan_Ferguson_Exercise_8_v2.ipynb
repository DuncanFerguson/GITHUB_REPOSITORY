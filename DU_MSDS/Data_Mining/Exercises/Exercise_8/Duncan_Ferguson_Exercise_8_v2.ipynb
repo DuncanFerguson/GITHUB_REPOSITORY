{
 "cells": [
  {
   "cell_type": "markdown",
   "source": [
    "Student: Duncan Ferguson <br>\n",
    "Student Id: 871641260 <br>\n",
    "Class: Comp 4431-1 <br>\n",
    "Assignment: Exercise 6 <br>\n",
    "Date: 10/22/2021 <br>\n",
    "Group: Name: Broken Toe <br>\n",
    "Group Members: Emma Bright, Mike Santoro <br>\n",
    "\n",
    "# Part 1\n",
    "\n",
    "You are to write code implementing the k-means clustering algorithm assuming a 3-dimensional data set and test it.\n",
    "Make your code work for 3 clusters.  (If you want you can make it work for 2-clusters first then modify for 3-clusters,\n",
    " but the data set I am providing nicely produces three clusters).\n",
    "\n",
    "Once your code works, run it on this test file: exercise8_infile1.csv Download exercise8_infile1.csv\n",
    "\n",
    "For output print out the number in each cluster and the list of points in each cluster.  Your output should look\n",
    "something like this: exercise8_output.txt"
   ],
   "metadata": {
    "collapsed": false
   }
  },
  {
   "cell_type": "code",
   "execution_count": null,
   "outputs": [],
   "source": [
    "import pandas as pd\n",
    "\n",
    "def Euclidean_D(point1, point2):\n",
    "    \"\"\"This Function Finds the distance between two 3d points\"\"\"\n",
    "    dist = (((point2[0]-point1[0])**2) + ((point2[1]-point1[1])**2) + ((point2[2]-point1[2])**2))**(1/2)\n",
    "    return dist\n",
    "\n",
    "def cluster_mean(cluster):\n",
    "    \"\"\"This function takes in clusters and returns the mean values for x,y,z\"\"\"\n",
    "    cluster_df = pd.DataFrame(cluster)\n",
    "    return [(cluster_df[0].mean(), cluster_df[1].mean(), cluster_df[2].mean())]\n",
    "\n",
    "def create_clusters(centroids, df):\n",
    "    \"\"\"This function assigns data points to closest centroid for cluster\"\"\"\n",
    "    clusters = [[] for _ in range(len(centroids))]\n",
    "    for index, row in df.iterrows():\n",
    "        row_list = [row[\"d1\"], row[\"d2\"], row[\"d3\"]]\n",
    "        d1 = Euclidean_D(centroids[0], row_list)\n",
    "        d2 = Euclidean_D(centroids[1], row_list)\n",
    "        d3 = Euclidean_D(centroids[2], row_list)\n",
    "        if min(d1,d2,d3) == d1:\n",
    "            clusters[0].append(row_list)\n",
    "        elif min(d1, d2, d3) == d2:\n",
    "            clusters[1].append(row_list)\n",
    "        elif min(d1, d2, d3) == d3:\n",
    "            clusters[2].append(row_list)\n",
    "        else:\n",
    "            print(\"ERROR\")\n",
    "    return clusters\n"
   ],
   "metadata": {
    "collapsed": false,
    "pycharm": {
     "name": "#%%\n",
     "is_executing": true
    }
   }
  },
  {
   "cell_type": "code",
   "execution_count": null,
   "outputs": [],
   "source": [
    "# Importing Data\n",
    "df = pd.read_csv(\"exercise8_infile1.csv\")\n",
    "k = 3\n",
    "df.head()"
   ],
   "metadata": {
    "collapsed": false,
    "pycharm": {
     "name": "#%%\n",
     "is_executing": true
    }
   }
  },
  {
   "cell_type": "code",
   "execution_count": null,
   "outputs": [],
   "source": [
    "# Setting up the random centroids\n",
    "centroids  = df.sample(n=k, replace=False).to_records(index=False).tolist()\n",
    "new_centroids = [(0,0,0) for _ in range(k)]"
   ],
   "metadata": {
    "collapsed": false,
    "pycharm": {
     "name": "#%%\n",
     "is_executing": true
    }
   }
  },
  {
   "cell_type": "code",
   "execution_count": null,
   "outputs": [],
   "source": [
    "while centroids != new_centroids:\n",
    "    clusters = create_clusters(centroids, df)\n",
    "    new_centroids = [cluster_mean(clusters[0]), cluster_mean(clusters[1]), cluster_mean(clusters[2])]\n",
    "    print(new_centroids)"
   ],
   "metadata": {
    "collapsed": false,
    "pycharm": {
     "name": "#%%\n",
     "is_executing": true
    }
   }
  }
 ],
 "metadata": {
  "kernelspec": {
   "name": "pycharm-865e1948",
   "language": "python",
   "display_name": "PyCharm (GITHUB_REPOSITORY)"
  },
  "language_info": {
   "codemirror_mode": {
    "name": "ipython",
    "version": 2
   },
   "file_extension": ".py",
   "mimetype": "text/x-python",
   "name": "python",
   "nbconvert_exporter": "python",
   "pygments_lexer": "ipython2",
   "version": "2.7.6"
  }
 },
 "nbformat": 4,
 "nbformat_minor": 0
}