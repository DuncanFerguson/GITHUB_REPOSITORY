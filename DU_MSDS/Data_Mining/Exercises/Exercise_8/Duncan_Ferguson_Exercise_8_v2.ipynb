{
 "cells": [
  {
   "cell_type": "markdown",
   "source": [
    "Student: Duncan Ferguson <br>\n",
    "Student Id: 871641260 <br>\n",
    "Class: Comp 4431-1 <br>\n",
    "Assignment: Exercise 6 <br>\n",
    "Date: 10/22/2021 <br>\n",
    "Group: Name: Broken Toe <br>\n",
    "Group Members: Emma Bright, Mike Santoro <br>\n",
    "\n",
    "# Part 1\n",
    "\n",
    "You are to write code implementing the k-means clustering algorithm assuming a 3-dimensional data set and test it.\n",
    "Make your code work for 3 clusters.  (If you want you can make it work for 2-clusters first then modify for 3-clusters,\n",
    " but the data set I am providing nicely produces three clusters).\n",
    "\n",
    "Once your code works, run it on this test file: exercise8_infile1.csv Download exercise8_infile1.csv\n",
    "\n",
    "For output print out the number in each cluster and the list of points in each cluster.  Your output should look\n",
    "something like this: exercise8_output.txt"
   ],
   "metadata": {
    "collapsed": false
   }
  },
  {
   "cell_type": "code",
   "execution_count": 1006,
   "outputs": [],
   "source": [
    "import pandas as pd\n",
    "\n",
    "def Euclidean_D(point1, point2):\n",
    "    \"\"\"This Function Finds the distance between two 3d points\"\"\"\n",
    "    dist = (((point2[0]-point1[0])**2) + ((point2[1]-point1[1])**2) + ((point2[2]-point1[2])**2))**(1/2)\n",
    "    return dist\n",
    "\n",
    "def cluster_mean(cluster):\n",
    "    \"\"\"This function takes in clusters and returns the mean values for x,y,z\"\"\"\n",
    "    cluster_df = pd.DataFrame(cluster)\n",
    "    return (cluster_df[0].mean(), cluster_df[1].mean(), cluster_df[2].mean())\n",
    "\n",
    "def create_clusters(centroids, df):\n",
    "    \"\"\"This function assigns data points to closest centroid for cluster\"\"\"\n",
    "    clusters = [[] for _ in range(len(centroids))]\n",
    "    d1_mean, d2_mean, d3_mean = 0, 0, 0\n",
    "    for index, row in df.iterrows():\n",
    "        row_list = [row[\"d1\"], row[\"d2\"], row[\"d3\"]]\n",
    "        d1 = Euclidean_D(centroids[0], row_list)\n",
    "        d2 = Euclidean_D(centroids[1], row_list)\n",
    "        d3 = Euclidean_D(centroids[2], row_list)\n",
    "        if min(d1,d2,d3) == d1:\n",
    "            clusters[0].append(row_list)\n",
    "            d1_mean += d1\n",
    "        elif min(d1, d2, d3) == d2:\n",
    "            clusters[1].append(row_list)\n",
    "            d2_mean += d2\n",
    "        elif min(d1, d2, d3) == d3:\n",
    "            clusters[2].append(row_list)\n",
    "            d3_mean += d3\n",
    "        else:\n",
    "            print(\"ERROR\")\n",
    "    total_distrance = d1_mean + d2_mean + d3_mean\n",
    "    return clusters, total_distrance"
   ],
   "metadata": {
    "collapsed": false,
    "pycharm": {
     "name": "#%%\n"
    }
   }
  },
  {
   "cell_type": "code",
   "execution_count": 1007,
   "outputs": [
    {
     "data": {
      "text/plain": "          d1         d2         d3\n0  18.900508  17.194255  23.165505\n1  17.909706  15.273063  22.270691\n2  32.304530  30.393287  26.909572\n3  12.924216   5.879719   9.355166\n4  19.231891  21.771659  21.263804",
      "text/html": "<div>\n<style scoped>\n    .dataframe tbody tr th:only-of-type {\n        vertical-align: middle;\n    }\n\n    .dataframe tbody tr th {\n        vertical-align: top;\n    }\n\n    .dataframe thead th {\n        text-align: right;\n    }\n</style>\n<table border=\"1\" class=\"dataframe\">\n  <thead>\n    <tr style=\"text-align: right;\">\n      <th></th>\n      <th>d1</th>\n      <th>d2</th>\n      <th>d3</th>\n    </tr>\n  </thead>\n  <tbody>\n    <tr>\n      <th>0</th>\n      <td>18.900508</td>\n      <td>17.194255</td>\n      <td>23.165505</td>\n    </tr>\n    <tr>\n      <th>1</th>\n      <td>17.909706</td>\n      <td>15.273063</td>\n      <td>22.270691</td>\n    </tr>\n    <tr>\n      <th>2</th>\n      <td>32.304530</td>\n      <td>30.393287</td>\n      <td>26.909572</td>\n    </tr>\n    <tr>\n      <th>3</th>\n      <td>12.924216</td>\n      <td>5.879719</td>\n      <td>9.355166</td>\n    </tr>\n    <tr>\n      <th>4</th>\n      <td>19.231891</td>\n      <td>21.771659</td>\n      <td>21.263804</td>\n    </tr>\n  </tbody>\n</table>\n</div>"
     },
     "execution_count": 1007,
     "metadata": {},
     "output_type": "execute_result"
    }
   ],
   "source": [
    "# Importing Data\n",
    "df = pd.read_csv(\"exercise8_infile1.csv\")\n",
    "k = 3\n",
    "df.head()"
   ],
   "metadata": {
    "collapsed": false,
    "pycharm": {
     "name": "#%%\n"
    }
   }
  },
  {
   "cell_type": "code",
   "execution_count": 1008,
   "outputs": [],
   "source": [
    "# Setting up the random centroids\n",
    "centroids_sample  = df.sample(n=k, replace=False).to_records(index=False).tolist()\n",
    "centroids = centroids_sample.copy()"
   ],
   "metadata": {
    "collapsed": false,
    "pycharm": {
     "name": "#%%\n"
    }
   }
  },
  {
   "cell_type": "code",
   "execution_count": 1009,
   "outputs": [
    {
     "name": "stdout",
     "output_type": "stream",
     "text": [
      "42\n",
      "29\n",
      "29\n"
     ]
    }
   ],
   "source": [
    "centroidNew = [(0,0,0),(0,0,0),(0,0,0)]\n",
    "minMeans = 1000\n",
    "i = 0\n",
    "while i < minMeans:\n",
    "    clusters, d_means = create_clusters(centroids, df)\n",
    "    centroidNew = [cluster_mean(clusters[0]), cluster_mean(clusters[1]), cluster_mean(clusters[2])]\n",
    "    minMeans = d_means\n",
    "    i += 1\n",
    "\n",
    "print(len(clusters[0]))\n",
    "print(len(clusters[1]))\n",
    "print(len(clusters[2]))"
   ],
   "metadata": {
    "collapsed": false,
    "pycharm": {
     "name": "#%%\n"
    }
   }
  }
 ],
 "metadata": {
  "kernelspec": {
   "name": "pycharm-865e1948",
   "language": "python",
   "display_name": "PyCharm (GITHUB_REPOSITORY)"
  },
  "language_info": {
   "codemirror_mode": {
    "name": "ipython",
    "version": 2
   },
   "file_extension": ".py",
   "mimetype": "text/x-python",
   "name": "python",
   "nbconvert_exporter": "python",
   "pygments_lexer": "ipython2",
   "version": "2.7.6"
  }
 },
 "nbformat": 4,
 "nbformat_minor": 0
}