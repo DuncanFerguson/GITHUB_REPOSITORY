{
 "cells": [
  {
   "cell_type": "code",
   "execution_count": null,
   "metadata": {
    "collapsed": true
   },
   "outputs": [],
   "source": []
  },
  {
   "cell_type": "markdown",
   "source": [
    "Student: Duncan Ferguson <br>\n",
    "Student Id: 871641260 <br>\n",
    "Class: Comp 4431-1 <br>\n",
    "Assignment: Exercise 6 <br>\n",
    "Date: 10/22/2021 <br>\n",
    "Group: Name: Broken Toe <br>\n",
    "Group Members: Emma Bright, Mike Santoro <br>\n",
    "\n",
    "# Part 1\n",
    "\n",
    "You are to write code implementing the k-means clustering algorithm assuming a 3-dimensional data set and test it.\n",
    "Make your code work for 3 clusters.  (If you want you can make it work for 2-clusters first then modify for 3-clusters,\n",
    " but the data set I am providing nicely produces three clusters).\n",
    "\n",
    "Once your code works, run it on this test file: exercise8_infile1.csv Download exercise8_infile1.csv\n",
    "\n",
    "For output print out the number in each cluster and the list of points in each cluster.  Your output should look\n",
    "something like this: exercise8_output.txt"
   ],
   "metadata": {
    "collapsed": false
   }
  },
  {
   "cell_type": "code",
   "execution_count": 3,
   "outputs": [
    {
     "name": "stdout",
     "output_type": "stream",
     "text": [
      "2.23606797749979\n"
     ]
    }
   ],
   "source": [
    "import pandas as pd\n",
    "\n",
    "df = pd.read_csv(\"exercise8_infile1.csv\")\n",
    "df.head()\n",
    "\n",
    "def Euclidean_D(point1, point2):\n",
    "    \"\"\"This Function Finds the distrance between two 3d points\"\"\"\n",
    "    d = (((point2[0]-point1[0])**2) + ((point2[1]-point1[1])**2) + ((point2[2]-point1[2])**2))**(1/2)\n",
    "    return d\n",
    "\n",
    "p1 = [1,1,0]\n",
    "p2 = [2,1,2]\n",
    "print(Euclidean_D(p1,p2))"
   ],
   "metadata": {
    "collapsed": false,
    "pycharm": {
     "name": "#%%\n"
    }
   }
  }
 ],
 "metadata": {
  "kernelspec": {
   "name": "pycharm-865e1948",
   "language": "python",
   "display_name": "PyCharm (GITHUB_REPOSITORY)"
  },
  "language_info": {
   "codemirror_mode": {
    "name": "ipython",
    "version": 2
   },
   "file_extension": ".py",
   "mimetype": "text/x-python",
   "name": "python",
   "nbconvert_exporter": "python",
   "pygments_lexer": "ipython2",
   "version": "2.7.6"
  }
 },
 "nbformat": 4,
 "nbformat_minor": 0
}