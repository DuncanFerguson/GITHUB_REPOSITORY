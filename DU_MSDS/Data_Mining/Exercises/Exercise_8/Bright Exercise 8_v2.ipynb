{
 "cells": [
  {
   "cell_type": "markdown",
   "metadata": {},
   "source": [
    "## Exercise 8\n",
    "\n",
    "Group Name: Broken Toes<br>\n",
    "Group Members: Emma Bright, Duncan Ferguson, Mike Santoro<br>\n",
    "Submitted by: Emma Bright<br>\n",
    "Date: 11/02/2021<br>"
   ]
  },
  {
   "cell_type": "markdown",
   "metadata": {},
   "source": [
    "***"
   ]
  },
  {
   "cell_type": "code",
   "execution_count": null,
   "metadata": {},
   "outputs": [],
   "source": [
    "import pandas as pd\n",
    "import numpy as np\n",
    "from sklearn.cluster import KMeans\n",
    "import matplotlib.pyplot as plt\n",
    "from mpl_toolkits.mplot3d import Axes3D\n",
    "from statistics import mean\n",
    "import math\n",
    "%matplotlib inline"
   ]
  },
  {
   "cell_type": "markdown",
   "metadata": {},
   "source": [
    "### Part 1 - Hand Coded K-means\n",
    "\n",
    "You are to write code implementing the k-means clustering algorithm assuming a 3-dimensional data set and test it.  Make your code work for 3 clusters.  (If you want you can make it work for 2-clusters first then modify for 3-clusters, but the data set I am providing nicely produces three clusters)."
   ]
  },
  {
   "cell_type": "code",
   "execution_count": null,
   "metadata": {},
   "outputs": [],
   "source": [
    "def distance(p1,p2):\n",
    "    '''function takes in two point tuples and returns the distance'''\n",
    "    x1, y1, z1 = p1\n",
    "    x2, y2, z2 = p2\n",
    "    dist = math.sqrt((x2-x1)**2+(y2-y1)**2+(z2-z1)**2)\n",
    "    return dist"
   ]
  },
  {
   "cell_type": "code",
   "execution_count": null,
   "metadata": {},
   "outputs": [],
   "source": [
    "def newCentroid(records):\n",
    "    x =[]\n",
    "    y =[]\n",
    "    z =[]\n",
    "    for i in records:\n",
    "        x_temp, y_temp, z_temp = i\n",
    "        x.append(x_temp)\n",
    "        y.append(y_temp)\n",
    "        z.append(z_temp)\n",
    "    return (mean(x),mean(y),mean(z))"
   ]
  },
  {
   "cell_type": "code",
   "execution_count": null,
   "metadata": {},
   "outputs": [
    {
     "data": {
      "text/plain": "          d1         d2         d3\n0  18.900508  17.194255  23.165505\n1  17.909706  15.273063  22.270691\n2  32.304530  30.393287  26.909572\n3  12.924216   5.879719   9.355166\n4  19.231891  21.771659  21.263804",
      "text/html": "<div>\n<style scoped>\n    .dataframe tbody tr th:only-of-type {\n        vertical-align: middle;\n    }\n\n    .dataframe tbody tr th {\n        vertical-align: top;\n    }\n\n    .dataframe thead th {\n        text-align: right;\n    }\n</style>\n<table border=\"1\" class=\"dataframe\">\n  <thead>\n    <tr style=\"text-align: right;\">\n      <th></th>\n      <th>d1</th>\n      <th>d2</th>\n      <th>d3</th>\n    </tr>\n  </thead>\n  <tbody>\n    <tr>\n      <th>0</th>\n      <td>18.900508</td>\n      <td>17.194255</td>\n      <td>23.165505</td>\n    </tr>\n    <tr>\n      <th>1</th>\n      <td>17.909706</td>\n      <td>15.273063</td>\n      <td>22.270691</td>\n    </tr>\n    <tr>\n      <th>2</th>\n      <td>32.304530</td>\n      <td>30.393287</td>\n      <td>26.909572</td>\n    </tr>\n    <tr>\n      <th>3</th>\n      <td>12.924216</td>\n      <td>5.879719</td>\n      <td>9.355166</td>\n    </tr>\n    <tr>\n      <th>4</th>\n      <td>19.231891</td>\n      <td>21.771659</td>\n      <td>21.263804</td>\n    </tr>\n  </tbody>\n</table>\n</div>"
     },
     "execution_count": 4,
     "metadata": {},
     "output_type": "execute_result"
    }
   ],
   "source": [
    "df = pd.read_csv('./exercise8_infile1.csv')\n",
    "df.head()"
   ]
  },
  {
   "cell_type": "code",
   "execution_count": null,
   "metadata": {},
   "outputs": [
    {
     "data": {
      "text/plain": "(18.90050765, 17.19425457, 23.1655046)"
     },
     "execution_count": 5,
     "metadata": {},
     "output_type": "execute_result"
    }
   ],
   "source": [
    "records = df.to_records(index=False)\n",
    "records[0]"
   ]
  },
  {
   "cell_type": "code",
   "execution_count": null,
   "metadata": {},
   "outputs": [
    {
     "data": {
      "text/plain": "100"
     },
     "execution_count": 6,
     "metadata": {},
     "output_type": "execute_result"
    }
   ],
   "source": [
    "len(records)"
   ]
  },
  {
   "cell_type": "code",
   "execution_count": null,
   "metadata": {},
   "outputs": [
    {
     "data": {
      "text/plain": "[(21.7516778552986, 20.748637805552875, 16.300897689290395),\n (17.454882489508012, 20.627095440926865, 21.00636962687065),\n (31.410144761361764, 26.640116090134487, 33.99995127483261)]"
     },
     "execution_count": 7,
     "metadata": {},
     "output_type": "execute_result"
    }
   ],
   "source": [
    "centroids = df.sample(n=3,replace=False).to_records(index=False).tolist()\n",
    "centroids"
   ]
  },
  {
   "cell_type": "code",
   "execution_count": null,
   "metadata": {},
   "outputs": [
    {
     "ename": "StatisticsError",
     "evalue": "mean requires at least one data point",
     "output_type": "error",
     "traceback": [
      "\u001B[1;31m---------------------------------------------------------------------------\u001B[0m",
      "\u001B[1;31mStatisticsError\u001B[0m                           Traceback (most recent call last)",
      "\u001B[1;32m~\\AppData\\Local\\Temp/ipykernel_23880/3054837528.py\u001B[0m in \u001B[0;36m<module>\u001B[1;34m\u001B[0m\n\u001B[0;32m     19\u001B[0m             \u001B[0mcluster2\u001B[0m\u001B[1;33m.\u001B[0m\u001B[0mappend\u001B[0m\u001B[1;33m(\u001B[0m\u001B[0mpoint\u001B[0m\u001B[1;33m)\u001B[0m\u001B[1;33m\u001B[0m\u001B[1;33m\u001B[0m\u001B[0m\n\u001B[0;32m     20\u001B[0m     \u001B[0mcentroid0\u001B[0m \u001B[1;33m=\u001B[0m \u001B[0mnewCentroid\u001B[0m\u001B[1;33m(\u001B[0m\u001B[0mcluster0\u001B[0m\u001B[1;33m)\u001B[0m\u001B[1;33m\u001B[0m\u001B[1;33m\u001B[0m\u001B[0m\n\u001B[1;32m---> 21\u001B[1;33m     \u001B[0mcentroid1\u001B[0m \u001B[1;33m=\u001B[0m \u001B[0mnewCentroid\u001B[0m\u001B[1;33m(\u001B[0m\u001B[0mcluster1\u001B[0m\u001B[1;33m)\u001B[0m\u001B[1;33m\u001B[0m\u001B[1;33m\u001B[0m\u001B[0m\n\u001B[0m\u001B[0;32m     22\u001B[0m     \u001B[0mcentroid2\u001B[0m \u001B[1;33m=\u001B[0m \u001B[0mnewCentroid\u001B[0m\u001B[1;33m(\u001B[0m\u001B[0mcluster2\u001B[0m\u001B[1;33m)\u001B[0m\u001B[1;33m\u001B[0m\u001B[1;33m\u001B[0m\u001B[0m\n\u001B[0;32m     23\u001B[0m     \u001B[0mcentroidNew\u001B[0m \u001B[1;33m=\u001B[0m \u001B[1;33m[\u001B[0m\u001B[0mcentroid0\u001B[0m\u001B[1;33m,\u001B[0m\u001B[0mcentroid1\u001B[0m\u001B[1;33m,\u001B[0m\u001B[0mcentroid2\u001B[0m\u001B[1;33m]\u001B[0m\u001B[1;33m\u001B[0m\u001B[1;33m\u001B[0m\u001B[0m\n",
      "\u001B[1;32m~\\AppData\\Local\\Temp/ipykernel_23880/3768262512.py\u001B[0m in \u001B[0;36mnewCentroid\u001B[1;34m(records)\u001B[0m\n\u001B[0;32m      8\u001B[0m         \u001B[0my\u001B[0m\u001B[1;33m.\u001B[0m\u001B[0mappend\u001B[0m\u001B[1;33m(\u001B[0m\u001B[0my_temp\u001B[0m\u001B[1;33m)\u001B[0m\u001B[1;33m\u001B[0m\u001B[1;33m\u001B[0m\u001B[0m\n\u001B[0;32m      9\u001B[0m         \u001B[0mz\u001B[0m\u001B[1;33m.\u001B[0m\u001B[0mappend\u001B[0m\u001B[1;33m(\u001B[0m\u001B[0mz_temp\u001B[0m\u001B[1;33m)\u001B[0m\u001B[1;33m\u001B[0m\u001B[1;33m\u001B[0m\u001B[0m\n\u001B[1;32m---> 10\u001B[1;33m     \u001B[1;32mreturn\u001B[0m \u001B[1;33m(\u001B[0m\u001B[0mmean\u001B[0m\u001B[1;33m(\u001B[0m\u001B[0mx\u001B[0m\u001B[1;33m)\u001B[0m\u001B[1;33m,\u001B[0m\u001B[0mmean\u001B[0m\u001B[1;33m(\u001B[0m\u001B[0my\u001B[0m\u001B[1;33m)\u001B[0m\u001B[1;33m,\u001B[0m\u001B[0mmean\u001B[0m\u001B[1;33m(\u001B[0m\u001B[0mz\u001B[0m\u001B[1;33m)\u001B[0m\u001B[1;33m)\u001B[0m\u001B[1;33m\u001B[0m\u001B[1;33m\u001B[0m\u001B[0m\n\u001B[0m\u001B[0;32m     11\u001B[0m \u001B[1;33m\u001B[0m\u001B[0m\n",
      "\u001B[1;32m~\\anaconda3\\lib\\statistics.py\u001B[0m in \u001B[0;36mmean\u001B[1;34m(data)\u001B[0m\n\u001B[0;32m    313\u001B[0m     \u001B[0mn\u001B[0m \u001B[1;33m=\u001B[0m \u001B[0mlen\u001B[0m\u001B[1;33m(\u001B[0m\u001B[0mdata\u001B[0m\u001B[1;33m)\u001B[0m\u001B[1;33m\u001B[0m\u001B[1;33m\u001B[0m\u001B[0m\n\u001B[0;32m    314\u001B[0m     \u001B[1;32mif\u001B[0m \u001B[0mn\u001B[0m \u001B[1;33m<\u001B[0m \u001B[1;36m1\u001B[0m\u001B[1;33m:\u001B[0m\u001B[1;33m\u001B[0m\u001B[1;33m\u001B[0m\u001B[0m\n\u001B[1;32m--> 315\u001B[1;33m         \u001B[1;32mraise\u001B[0m \u001B[0mStatisticsError\u001B[0m\u001B[1;33m(\u001B[0m\u001B[1;34m'mean requires at least one data point'\u001B[0m\u001B[1;33m)\u001B[0m\u001B[1;33m\u001B[0m\u001B[1;33m\u001B[0m\u001B[0m\n\u001B[0m\u001B[0;32m    316\u001B[0m     \u001B[0mT\u001B[0m\u001B[1;33m,\u001B[0m \u001B[0mtotal\u001B[0m\u001B[1;33m,\u001B[0m \u001B[0mcount\u001B[0m \u001B[1;33m=\u001B[0m \u001B[0m_sum\u001B[0m\u001B[1;33m(\u001B[0m\u001B[0mdata\u001B[0m\u001B[1;33m)\u001B[0m\u001B[1;33m\u001B[0m\u001B[1;33m\u001B[0m\u001B[0m\n\u001B[0;32m    317\u001B[0m     \u001B[1;32massert\u001B[0m \u001B[0mcount\u001B[0m \u001B[1;33m==\u001B[0m \u001B[0mn\u001B[0m\u001B[1;33m\u001B[0m\u001B[1;33m\u001B[0m\u001B[0m\n",
      "\u001B[1;31mStatisticsError\u001B[0m: mean requires at least one data point"
     ]
    }
   ],
   "source": [
    "centroidCurrent = df.sample(n=3,replace=False).to_records(index=False).tolist()\n",
    "centroidNew = [(0,0,0),(0,0,0),(0,0,0)]\n",
    "\n",
    "while centroidCurrent != centroidNew:\n",
    "    centroidCurrent = centroidNew\n",
    "    cluster0 = []\n",
    "    cluster1 = []\n",
    "    cluster2 = []\n",
    "    for point in records:\n",
    "        d_c0 = distance(point, centroidCurrent[0])\n",
    "        d_c1 = distance(point, centroidCurrent[1])\n",
    "        d_c2 = distance(point, centroidCurrent[2])\n",
    "        minDist = min([d_c0,d_c1,d_c2])\n",
    "        if minDist == d_c0:\n",
    "            cluster0.append(point)\n",
    "        elif minDist == d_c1:\n",
    "            cluster1.append(point)\n",
    "        elif minDist == d_c2:\n",
    "            cluster2.append(point)\n",
    "    centroid0 = newCentroid(cluster0)\n",
    "    centroid1 = newCentroid(cluster1)\n",
    "    centroid2 = newCentroid(cluster2)\n",
    "    centroidNew = [centroid0,centroid1,centroid2]\n",
    "\n",
    "    \n",
    "print(f'(Centroid 0: {centroidNew[0]}')\n",
    "print()\n",
    "print(f'(Centroid 1: {centroidNew[1]}')\n",
    "print()\n",
    "print(f'(Centroid 2: {centroidNew[2]}')\n"
   ]
  },
  {
   "cell_type": "markdown",
   "metadata": {},
   "source": [
    "## Part 2 - sklearn K-means\n",
    "\n",
    "Write code to use the k-means clustering algorithm.   Test your data on the same data set as above.  You should print out the same data as above for the hand coded version.  Also use the predict method to show your model successfully predicting which cluster a new point should be added to.  For example this code does just that for point (8,8,8), (19,19,19), and (31,31,31):"
   ]
  },
  {
   "cell_type": "code",
   "execution_count": null,
   "metadata": {},
   "outputs": [],
   "source": [
    "X = pd.read_csv('./exercise8_infile1.csv').to_numpy()"
   ]
  },
  {
   "cell_type": "code",
   "execution_count": null,
   "metadata": {},
   "outputs": [],
   "source": [
    "fig = plt.figure()\n",
    "ax = Axes3D(fig)\n",
    "\n",
    "ax.scatter(X[:,0], X[:,1], X[:,2],  label='True Position')\n",
    "plt.show()"
   ]
  },
  {
   "cell_type": "code",
   "execution_count": null,
   "metadata": {},
   "outputs": [],
   "source": [
    "kmeans = KMeans(n_clusters=3, random_state=0)\n",
    "kmeans.fit(X)\n",
    "print(f'The means for the center are:\\n {kmeans.cluster_centers_}')"
   ]
  },
  {
   "cell_type": "code",
   "execution_count": null,
   "metadata": {},
   "outputs": [],
   "source": [
    "print(f'Using the clustering model to predict clusters now:\\n{kmeans.predict([ [8,8,8], [19,19,19], [31,31,31]])}')"
   ]
  },
  {
   "cell_type": "code",
   "execution_count": null,
   "metadata": {},
   "outputs": [],
   "source": [
    "fig = plt.figure()\n",
    "ax = Axes3D(fig)\n",
    "\n",
    "ax.scatter(X[:,0], X[:,1], X[:,2],  c=kmeans.labels_, cmap='rainbow')\n",
    "plt.show()"
   ]
  }
 ],
 "metadata": {
  "interpreter": {
   "hash": "854ba323acbafb581c46331d489587d447436b506841ff7ad847801c47317247"
  },
  "kernelspec": {
   "name": "pycharm-865e1948",
   "language": "python",
   "display_name": "PyCharm (GITHUB_REPOSITORY)"
  },
  "language_info": {
   "codemirror_mode": {
    "name": "ipython",
    "version": 3
   },
   "file_extension": ".py",
   "mimetype": "text/x-python",
   "name": "python",
   "nbconvert_exporter": "python",
   "pygments_lexer": "ipython3",
   "version": "3.9.7"
  },
  "orig_nbformat": 4
 },
 "nbformat": 4,
 "nbformat_minor": 2
}