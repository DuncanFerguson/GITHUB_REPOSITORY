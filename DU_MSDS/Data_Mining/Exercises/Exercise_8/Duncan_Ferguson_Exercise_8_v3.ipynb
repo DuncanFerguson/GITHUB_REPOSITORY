{
 "cells": [
  {
   "cell_type": "markdown",
   "source": [
    "Student: Duncan Ferguson <br>\n",
    "Student Id: 871641260 <br>\n",
    "Class: Comp 4431-1 <br>\n",
    "Assignment: Exercise 6 <br>\n",
    "Date: 10/22/2021 <br>\n",
    "Group: Name: Broken Toe <br>\n",
    "Group Members: Emma Bright, Mike Santoro <br>\n",
    "\n",
    "# Part 1\n",
    "\n",
    "You are to write code implementing the k-means clustering algorithm assuming a 3-dimensional data set and test it.\n",
    "Make your code work for 3 clusters.  (If you want you can make it work for 2-clusters first then modify for 3-clusters,\n",
    " but the data set I am providing nicely produces three clusters).\n",
    "\n",
    "Once your code works, run it on this test file: exercise8_infile1.csv Download exercise8_infile1.csv\n",
    "\n",
    "For output print out the number in each cluster and the list of points in each cluster.  Your output should look\n",
    "something like this: exercise8_output.txt"
   ],
   "metadata": {
    "collapsed": false
   }
  },
  {
   "cell_type": "code",
   "execution_count": 696,
   "outputs": [],
   "source": [
    "import pandas as pd\n",
    "import numpy as np\n",
    "\n",
    "def Euclidean_D(point1, point2):\n",
    "    \"\"\"This Function Finds the distance between two 3d points\"\"\"\n",
    "    dist = (((point2[0]-point1[0])**2) + ((point2[1]-point1[1])**2) + ((point2[2]-point1[2])**2))**(1/2)\n",
    "    return dist\n",
    "\n",
    "def assign_clusters(centroids, df):\n",
    "    \"\"\"This Assigns Clusters to closest centroid\"\"\"\n",
    "    divided_clusters = {i:np.empty([0, k]) for i in range(k)}\n",
    "    for row in df:\n",
    "        d0 = Euclidean_D(centroids[0], row)\n",
    "        d1 = Euclidean_D(centroids[1], row)\n",
    "        d2 = Euclidean_D(centroids[2], row)\n",
    "        if min(d0,d1,d2) == d0:\n",
    "            divided_clusters[0] = np.append(divided_clusters[0], [row], axis=0)\n",
    "        elif min(d0,d1,d2) == d1:\n",
    "            divided_clusters[1] = np.append(divided_clusters[1], [row], axis=0)\n",
    "        elif min(d0,d1,d2) == d2:\n",
    "            divided_clusters[2] = np.append(divided_clusters[2], [row], axis=0)\n",
    "        else:\n",
    "            print(\"Error\")\n",
    "    return divided_clusters"
   ],
   "metadata": {
    "collapsed": false,
    "pycharm": {
     "name": "#%%\n"
    }
   }
  },
  {
   "cell_type": "code",
   "execution_count": 697,
   "outputs": [],
   "source": [
    "# Importing Data\n",
    "df = pd.read_csv(\"exercise8_infile1.csv\")\n",
    "df = df.values\n",
    "k = 3  # Number of Clusters"
   ],
   "metadata": {
    "collapsed": false,
    "pycharm": {
     "name": "#%%\n"
    }
   }
  },
  {
   "cell_type": "code",
   "execution_count": 698,
   "outputs": [
    {
     "data": {
      "text/plain": "array([[17.06341553, 20.08310555, 20.05366298],\n       [20.44511133, 19.8133898 , 22.07311185],\n       [32.30452983, 30.39328682, 26.9095717 ]])"
     },
     "execution_count": 698,
     "metadata": {},
     "output_type": "execute_result"
    }
   ],
   "source": [
    "# Selecting k random clusters\n",
    "np.random.seed(0)\n",
    "centroids = df[np.random.choice(df.shape[0],k, replace=False)]\n",
    "centroids"
   ],
   "metadata": {
    "collapsed": false,
    "pycharm": {
     "name": "#%%\n"
    }
   }
  },
  {
   "cell_type": "code",
   "execution_count": 699,
   "outputs": [
    {
     "data": {
      "text/plain": "array([[13.51415748, 13.39403785, 13.61870599],\n       [20.68340444, 20.36106632, 20.68278841],\n       [30.85866444, 29.82747351, 30.36625507]])"
     },
     "execution_count": 699,
     "metadata": {},
     "output_type": "execute_result"
    }
   ],
   "source": [
    "# Base Case\n",
    "clusters = assign_clusters(centroids, df)\n",
    "for l in range(k):\n",
    "    centroids[l] = np.mean(clusters[l], axis=0)\n",
    "\n",
    "centroids"
   ],
   "metadata": {
    "collapsed": false,
    "pycharm": {
     "name": "#%%\n"
    }
   }
  },
  {
   "cell_type": "code",
   "execution_count": 700,
   "outputs": [
    {
     "name": "stdout",
     "output_type": "stream",
     "text": [
      "31\n",
      "40\n",
      "29\n"
     ]
    }
   ],
   "source": [
    "iterations = 1000\n",
    "for _ in range(iterations):\n",
    "    clusters = assign_clusters(centroids, df)\n",
    "    for l in range(k):\n",
    "        centroids[l] = np.mean(clusters[l], axis=0)\n",
    "\n",
    "print(len(clusters[0]))\n",
    "print(len(clusters[1]))\n",
    "print(len(clusters[2]))"
   ],
   "metadata": {
    "collapsed": false,
    "pycharm": {
     "name": "#%%\n"
    }
   }
  }
 ],
 "metadata": {
  "kernelspec": {
   "name": "pycharm-865e1948",
   "language": "python",
   "display_name": "PyCharm (GITHUB_REPOSITORY)"
  },
  "language_info": {
   "codemirror_mode": {
    "name": "ipython",
    "version": 2
   },
   "file_extension": ".py",
   "mimetype": "text/x-python",
   "name": "python",
   "nbconvert_exporter": "python",
   "pygments_lexer": "ipython2",
   "version": "2.7.6"
  }
 },
 "nbformat": 4,
 "nbformat_minor": 0
}