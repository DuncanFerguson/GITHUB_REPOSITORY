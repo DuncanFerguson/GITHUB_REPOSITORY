{
 "cells": [
  {
   "cell_type": "markdown",
   "id": "79d6a492-8ee1-4e0e-b495-d8b1ca562f33",
   "metadata": {},
   "source": [
    "#### Excercise 7\n",
    "##### COMP 4431\n",
    "##### Group Name: Broken Toes; Group Members: Emma Bright, Duncan Ferguson, and Mike Santoro\n",
    "##### Submission By: Mike Santoro\n",
    "In this exercise you will cluster data using k-means clustering two ways:  Part 1) hand coded; and Part 2) using sklearn.\n",
    " \n",
    "##### Part 1 - Hand Coded K-means\n",
    " \n",
    "You are to write code implementing the k-means clustering algorithm assuming a 3-dimensional data set and test it.  Make your code work for 3 clusters.  (If you want you can make it work for 2-clusters first then modify for 3-clusters, but the data set I am providing nicely produces three clusters).\n",
    " \n",
    "Once your code works, run it on this test file:\n",
    "\n"
   ]
  },
  {
   "cell_type": "code",
   "execution_count": 305,
   "id": "93e402d5-f45b-4cdf-af5d-66ad68318593",
   "metadata": {},
   "outputs": [],
   "source": [
    "import numpy as np\n",
    "import pandas as pd\n",
    "import math\n",
    "import random as rd\n",
    "from statistics import mean"
   ]
  },
  {
   "cell_type": "markdown",
   "id": "c28f787c-d963-4bbf-b35e-b3eedf470219",
   "metadata": {},
   "source": [
    "$$ d = \\sqrt{(x_2-x_1)^2+(y_2-y_1)^2+(z_2-z_1)^2)} $$"
   ]
  },
  {
   "cell_type": "code",
   "execution_count": 306,
   "id": "a9db4a03-5e61-45b7-91a8-81a44919d05d",
   "metadata": {},
   "outputs": [],
   "source": [
    "def distance(p1,p2):\n",
    "    '''function takes in two point tuples and returns the distance'''\n",
    "    x1, y1, z1 = p1\n",
    "    x2, y2, z2 = p2\n",
    "    dist = math.sqrt((x2-x1)**2+(y2-y1)**2+(z2-z1)**2)\n",
    "    return dist\n",
    "    "
   ]
  },
  {
   "cell_type": "code",
   "execution_count": 307,
   "id": "be2c8dcf-6d99-4382-a3de-42a4b990279a",
   "metadata": {},
   "outputs": [],
   "source": [
    "def newCentroid(records):\n",
    "    x =[]\n",
    "    y =[]\n",
    "    z =[]\n",
    "    for i in records:\n",
    "        x_temp, y_temp, z_temp = i\n",
    "        x.append(x_temp)\n",
    "        y.append(y_temp)\n",
    "        z.append(z_temp)\n",
    "    return (mean(x),mean(y),mean(z))"
   ]
  },
  {
   "cell_type": "code",
   "execution_count": 308,
   "id": "fbe9dee5-c7cf-4d07-9e73-1e61602935c7",
   "metadata": {},
   "outputs": [
    {
     "data": {
      "text/plain": "          d1         d2         d3\n0  18.900508  17.194255  23.165505\n1  17.909706  15.273063  22.270691\n2  32.304530  30.393287  26.909572\n3  12.924216   5.879719   9.355166\n4  19.231891  21.771659  21.263804",
      "text/html": "<div>\n<style scoped>\n    .dataframe tbody tr th:only-of-type {\n        vertical-align: middle;\n    }\n\n    .dataframe tbody tr th {\n        vertical-align: top;\n    }\n\n    .dataframe thead th {\n        text-align: right;\n    }\n</style>\n<table border=\"1\" class=\"dataframe\">\n  <thead>\n    <tr style=\"text-align: right;\">\n      <th></th>\n      <th>d1</th>\n      <th>d2</th>\n      <th>d3</th>\n    </tr>\n  </thead>\n  <tbody>\n    <tr>\n      <th>0</th>\n      <td>18.900508</td>\n      <td>17.194255</td>\n      <td>23.165505</td>\n    </tr>\n    <tr>\n      <th>1</th>\n      <td>17.909706</td>\n      <td>15.273063</td>\n      <td>22.270691</td>\n    </tr>\n    <tr>\n      <th>2</th>\n      <td>32.304530</td>\n      <td>30.393287</td>\n      <td>26.909572</td>\n    </tr>\n    <tr>\n      <th>3</th>\n      <td>12.924216</td>\n      <td>5.879719</td>\n      <td>9.355166</td>\n    </tr>\n    <tr>\n      <th>4</th>\n      <td>19.231891</td>\n      <td>21.771659</td>\n      <td>21.263804</td>\n    </tr>\n  </tbody>\n</table>\n</div>"
     },
     "execution_count": 308,
     "metadata": {},
     "output_type": "execute_result"
    }
   ],
   "source": [
    "df = pd.read_csv('./exercise8_infile1.csv')\n",
    "df.head()"
   ]
  },
  {
   "cell_type": "code",
   "execution_count": 309,
   "id": "3a0edca1-8f71-40f0-ab75-f8fa78a7bf24",
   "metadata": {},
   "outputs": [
    {
     "data": {
      "text/plain": "(18.90050765, 17.19425457, 23.1655046)"
     },
     "execution_count": 309,
     "metadata": {},
     "output_type": "execute_result"
    }
   ],
   "source": [
    "records = df.to_records(index=False)\n",
    "records[0]"
   ]
  },
  {
   "cell_type": "code",
   "execution_count": 310,
   "id": "468ad75c-303a-4093-8914-d6b68941bc03",
   "metadata": {},
   "outputs": [
    {
     "data": {
      "text/plain": "100"
     },
     "execution_count": 310,
     "metadata": {},
     "output_type": "execute_result"
    }
   ],
   "source": [
    "len(records)"
   ]
  },
  {
   "cell_type": "code",
   "execution_count": 311,
   "id": "f5d8b222-2398-4641-b00a-813f3a6be77c",
   "metadata": {},
   "outputs": [
    {
     "data": {
      "text/plain": "[(28.44178608993172, 29.66296012071781, 31.14741843979462),\n (12.31392654711748, 13.319604354219742, 11.48408832115467),\n (30.56133015424528, 29.853774592505445, 32.32067713998754)]"
     },
     "execution_count": 311,
     "metadata": {},
     "output_type": "execute_result"
    }
   ],
   "source": [
    "centroids = df.sample(n=3,replace=False).to_records(index=False).tolist()\n",
    "centroids"
   ]
  },
  {
   "cell_type": "code",
   "execution_count": 312,
   "id": "300ded03-73c7-4fac-92bf-5d7c5f0df3a2",
   "metadata": {},
   "outputs": [
    {
     "name": "stdout",
     "output_type": "stream",
     "text": [
      "Centroid 0: (11.476600130882904, 11.106484829640944, 9.47662007722407)\n",
      "Number of Points: 14\n",
      "Cluster 0: [(9.14709982, 12.76281461, 10.19674102), (12.31392655, 13.31960435, 11.48408832), (11.2786098, 10.09505211, 8.93507681), (12.66582015, 11.02585964, 9.40381433), (9.4697092, 9.65415656, 6.23299855), (13.21591424, 11.36967298, 8.80907934), (13.08581863, 9.10453662, 6.44461533), (10.13793961, 10.94648278, 8.69928996), (10.0931346, 12.35644489, 8.18643099), (11.55429304, 10.18070236, 9.62680505), (12.40410972, 12.64486153, 11.96631746), (12.14505491, 9.83098395, 9.40527623), (9.9102161, 10.33072631, 10.05508872), (13.25075547, 11.86888894, 13.22705896)]\n",
      "\n",
      "Centroid 1: (24.46272280440028, 24.212632941566138, 24.466120378631274)\n",
      "Number of Points: 69\n",
      "Cluster 1: [(18.90050765, 17.19425457, 23.1655046), (17.90970634, 15.27306279, 22.2706907), (32.30452983, 30.39328682, 26.9095717), (19.23189129, 21.7716588, 21.26380374), (21.45995119, 20.74598758, 21.06762182), (19.8160534, 18.73778334, 18.18531329), (29.88635144, 28.42378979, 30.13541958), (17.92218815, 17.88348688, 21.31256816), (31.41014476, 26.64011609, 33.99995127), (24.08405749, 20.89504138, 21.36676846), (20.04577195, 20.21617323, 22.03052584), (21.05295662, 22.49659957, 18.48465172), (20.76122161, 18.50446728, 17.36464499), (28.40166261, 29.99290876, 31.02518927), (29.66427827, 30.65011486, 29.57617415), (27.72509654, 29.38759197, 31.65594929), (19.61202082, 23.14826294, 21.51380094), (18.94575147, 19.20146366, 20.36213483), (17.06341553, 20.08310555, 20.05366298), (18.71774801, 20.24364254, 22.25896782), (28.44178609, 29.66296012, 31.14741844), (19.09366279, 21.20830728, 24.77041163), (22.54751186, 23.9342035, 16.28403627), (21.04115267, 17.71131722, 21.60372206), (31.48651714, 29.80896829, 29.38896202), (20.03481882, 17.75596254, 18.96581108), (18.00594634, 20.1795442, 22.01436122), (31.54520668, 29.43298535, 29.85451224), (30.96752128, 27.96099865, 30.42075504), (29.58787518, 30.08431088, 27.19087878), (33.95938105, 29.23546907, 31.05064016), (17.45488249, 20.62709544, 21.00636963), (22.58645177, 23.53520191, 18.42445252), (30.56133015, 29.85377459, 32.32067714), (19.08069652, 20.4269489, 19.5277486), (26.58656947, 27.33609667, 26.47862288), (27.82446698, 30.18630078, 27.53698213), (20.45571506, 17.94207903, 21.21388066), (32.22876595, 28.82695212, 27.52629325), (21.75167786, 20.74863781, 16.30089769), (20.64356494, 22.68263566, 20.28335037), (33.47476935, 30.99400602, 32.27383796), (18.59920299, 19.5932111, 20.48533888), (30.40366036, 27.88576093, 31.08431455), (15.8055188, 19.10273873, 20.94111919), (17.20284354, 20.25137966, 17.75018878), (19.00357287, 19.37803004, 19.99621703), (19.47007864, 22.21456446, 17.30252696), (31.1818055, 30.39275995, 30.52821442), (21.171324, 18.40821392, 21.44046498), (33.25095666, 28.50930775, 30.84907394), (20.15434788, 18.24543696, 18.26442555), (32.21055575, 31.36581132, 34.80658512), (30.52799694, 29.82563463, 30.58106936), (31.98677116, 29.78532685, 34.8849834), (29.8172419, 32.79801997, 32.46692729), (20.44511133, 19.8133898, 22.07311185), (28.71733167, 31.8898348, 30.15050877), (19.23902842, 20.0227454, 17.46239225), (21.64916925, 21.30916031, 19.8976231), (33.88515712, 30.11443663, 25.75220397), (18.68265491, 22.34845483, 21.03706366), (23.38123485, 19.40507529, 19.49480041), (30.92971026, 30.87633269, 32.24465664), (33.68525037, 32.90285852, 28.7639263), (20.10089907, 20.5699592, 18.77069965), (20.50786733, 21.6644563, 19.59854475), (19.39442827, 20.20120145, 21.93069051), (32.24857821, 29.78001702, 30.01709789)]\n",
      "\n",
      "Centroid 2: (10.041109084504624, 8.826624313638373, 11.128731227625599)\n",
      "Number of Points: 17\n",
      "Cluster 2: [(12.92421587, 5.87971858, 9.35516559), (9.26108503, 8.29989525, 11.92164001), (9.47161327, 11.69258893, 14.173465), (12.02778486, 8.52313764, 10.51541334), (6.41632953, 9.18389568, 10.20460439), (9.75223334, 11.43855027, 12.46879897), (12.47232806, 7.81343054, 9.77495568), (12.82896545, 7.16671, 11.34702691), (8.45541115, 8.52908572, 9.47829578), (10.4656646, 10.31078653, 11.18745031), (7.29888457, 8.31490258, 8.96030709), (10.73898543, 7.13900277, 11.7088858), (7.20675915, 10.00595799, 9.46450729), (10.73266403, 7.91082124, 14.10234689), (11.59005219, 9.25112336, 10.26809639), (10.87322554, 10.07644328, 12.980154), (8.18265234, 8.51656298, 11.27731741)]\n"
     ]
    }
   ],
   "source": [
    "centroidCurrent = df.sample(n=3,replace=False).to_records(index=False).tolist()\n",
    "centroidNew = [(0,0,0),(0,0,0),(0,0,0)]\n",
    "count =0\n",
    "while centroidCurrent != centroidNew:\n",
    "    if count > 0:\n",
    "            centroidCurrent = centroidNew\n",
    "    cluster0 = []\n",
    "    cluster1 = []\n",
    "    cluster2 = []\n",
    "    for point in records:\n",
    "        d_c0 = distance(point, centroidCurrent[0])\n",
    "        d_c1 = distance(point, centroidCurrent[1])\n",
    "        d_c2 = distance(point, centroidCurrent[2])\n",
    "        minDist = min([d_c0,d_c1,d_c2])\n",
    "        if minDist == d_c0:\n",
    "            cluster0.append(point)\n",
    "        elif minDist == d_c1:\n",
    "            cluster1.append(point)\n",
    "        elif minDist == d_c2:\n",
    "            cluster2.append(point)\n",
    "    centroid0 = newCentroid(cluster0)\n",
    "    centroid1 = newCentroid(cluster1)\n",
    "    centroid2 = newCentroid(cluster2)\n",
    "    centroidNew = [centroid0,centroid1,centroid2]\n",
    "    count += 1\n",
    "\n",
    "\n",
    "print(f'Centroid 0: {centroidNew[0]}')\n",
    "print(f'Number of Points: {len(cluster0)}')\n",
    "print(f'Cluster 0: {cluster0}')\n",
    "print()\n",
    "print(f'Centroid 1: {centroidNew[1]}')\n",
    "print(f'Number of Points: {len(cluster1)}')\n",
    "print(f'Cluster 1: {cluster1}')\n",
    "print()\n",
    "print(f'Centroid 2: {centroidNew[2]}')\n",
    "print(f'Number of Points: {len(cluster2)}')\n",
    "print(f'Cluster 2: {cluster2}')  "
   ]
  },
  {
   "cell_type": "markdown",
   "id": "cc701ff1-3791-4419-a6d7-fdb6b5c5bf2f",
   "metadata": {},
   "source": [
    "For output print out the number in each cluster and the list of points in each cluster.  Your output should look something like this:"
   ]
  },
  {
   "cell_type": "markdown",
   "id": "32cf15ec-486f-4389-b1b4-9ffb6a5ae80f",
   "metadata": {},
   "source": [
    "##### Part 2 - sklearn K-means\n",
    "Write code to use the k-means clustering algorithm.   Test your data on the same data set as above.  You should print out the same data as above for the hand coded version.  Also use the predict method to show your model successfully predicting which cluster a new point should be added to.  For example this code does just that for point (8,8,8), (19,19,19), and (31,31,31):\n",
    " \n",
    "kmeans = KMeans(n_clusters=3, random_state=0).fit(df)  \n",
    "df is the DataFrame holding the data\n",
    "print('means for the three clusters are:')\n",
    "print(kmeans.cluster_centers_)\n",
    "print('Using the clustering model to predict clusters now.')\n",
    "print('kmeans.predict( [ [8,8,8], [19,19,19], [31,31,31]] ) returns: ')\n",
    "print(kmeans.predict( [ [8,8,8], [19,19,19], [31,31,31]] ) )\n",
    " \n",
    "What to upload:\n",
    "Label your code:   handCoded.py  and sklearn.py and upload those two files\n",
    "Name your output:  handCodedOut.txt and sklearnOut.txt and upload those two files."
   ]
  },
  {
   "cell_type": "code",
   "execution_count": 312,
   "id": "a2722ca8-d981-4620-82c3-ae6f5fef6b71",
   "metadata": {},
   "outputs": [],
   "source": []
  }
 ],
 "metadata": {
  "kernelspec": {
   "name": "pycharm-865e1948",
   "language": "python",
   "display_name": "PyCharm (GITHUB_REPOSITORY)"
  },
  "language_info": {
   "codemirror_mode": {
    "name": "ipython",
    "version": 3
   },
   "file_extension": ".py",
   "mimetype": "text/x-python",
   "name": "python",
   "nbconvert_exporter": "python",
   "pygments_lexer": "ipython3",
   "version": "3.9.7"
  }
 },
 "nbformat": 4,
 "nbformat_minor": 5
}