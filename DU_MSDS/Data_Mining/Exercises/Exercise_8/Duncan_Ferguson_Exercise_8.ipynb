{
 "cells": [
  {
   "cell_type": "markdown",
   "metadata": {
    "collapsed": true,
    "pycharm": {
     "name": "#%% md\n"
    }
   },
   "source": [
    "Student: Duncan Ferguson <br>\n",
    "Student Id: 871641260 <br>\n",
    "Class: Comp 4431-1 <br>\n",
    "Assignment: Exercise 6 <br>\n",
    "Date: 10/22/2021 <br>\n",
    "Group: Name: Broken Toe <br>\n",
    "Group Members: Emma Bright, Mike Santoro <br>\n",
    "\n",
    "# Part 1\n",
    "\n",
    "You are to write code implementing the k-means clustering algorithm assuming a 3-dimensional data set and test it.\n",
    "Make your code work for 3 clusters.  (If you want you can make it work for 2-clusters first then modify for 3-clusters,\n",
    " but the data set I am providing nicely produces three clusters).\n",
    "\n",
    "Once your code works, run it on this test file: exercise8_infile1.csv Download exercise8_infile1.csv\n",
    "\n",
    "For output print out the number in each cluster and the the list of points in each cluster.  Your output should look\n",
    "something like this: exercise8_output.txt"
   ]
  },
  {
   "cell_type": "code",
   "execution_count": 52,
   "outputs": [
    {
     "data": {
      "text/plain": "          d1         d2         d3\n0  18.900508  17.194255  23.165505\n1  17.909706  15.273063  22.270691\n2  32.304530  30.393287  26.909572\n3  12.924216   5.879719   9.355166\n4  19.231891  21.771659  21.263804",
      "text/html": "<div>\n<style scoped>\n    .dataframe tbody tr th:only-of-type {\n        vertical-align: middle;\n    }\n\n    .dataframe tbody tr th {\n        vertical-align: top;\n    }\n\n    .dataframe thead th {\n        text-align: right;\n    }\n</style>\n<table border=\"1\" class=\"dataframe\">\n  <thead>\n    <tr style=\"text-align: right;\">\n      <th></th>\n      <th>d1</th>\n      <th>d2</th>\n      <th>d3</th>\n    </tr>\n  </thead>\n  <tbody>\n    <tr>\n      <th>0</th>\n      <td>18.900508</td>\n      <td>17.194255</td>\n      <td>23.165505</td>\n    </tr>\n    <tr>\n      <th>1</th>\n      <td>17.909706</td>\n      <td>15.273063</td>\n      <td>22.270691</td>\n    </tr>\n    <tr>\n      <th>2</th>\n      <td>32.304530</td>\n      <td>30.393287</td>\n      <td>26.909572</td>\n    </tr>\n    <tr>\n      <th>3</th>\n      <td>12.924216</td>\n      <td>5.879719</td>\n      <td>9.355166</td>\n    </tr>\n    <tr>\n      <th>4</th>\n      <td>19.231891</td>\n      <td>21.771659</td>\n      <td>21.263804</td>\n    </tr>\n  </tbody>\n</table>\n</div>"
     },
     "execution_count": 52,
     "metadata": {},
     "output_type": "execute_result"
    }
   ],
   "source": [
    "import pandas as pd\n",
    "\n",
    "def create_items():\n",
    "    \"\"\"This Function creates Items\"\"\"\n",
    "df = pd.read_csv(\"exercise8_infile1.csv\")\n",
    "n_samples = len(df.index)\n",
    "df.head()\n",
    "\n",
    "\n"
   ],
   "metadata": {
    "collapsed": false,
    "pycharm": {
     "name": "#%%\n"
    }
   }
  },
  {
   "cell_type": "markdown",
   "source": [
    "Part 2 - sklearn K-means\n",
    "\n",
    "Write code to use the k-means clustering algorithm.   Test your data on the same data set as above.\n",
    " You should print out the same data as above for the hand coded version.  Also use the predict method to show your\n",
    " model successfully predicting which cluster a new point should be added to.  For example this code does just that\n",
    " for point (8,8,8), (19,19,19), and (31,31,31):\n",
    "\n",
    "kmeans = KMeans(n_clusters=3, random_state=0).fit(df)  # df is the DataFrame holding the data\n",
    "\n",
    "print('means for the three clusters are:') <br>\n",
    "print(kmeans.cluster_centers_) <br>\n",
    "print('Using the clustering model to predict clusters now.') <br>\n",
    "print('kmeans.predict( [ [8,8,8], [19,19,19], [31,31,31]] ) returns: ') <br>\n",
    "print(kmeans.predict( [ [8,8,8], [19,19,19], [31,31,31]] ) ) <nr>\n",
    "\n",
    "What to upload: <br>\n",
    "Label your code:   handCoded.py  and sklearn.py and upload those two files <br>\n",
    "Name your output:  handCodedOut.txt and sklearnOut.txt and upload those two files.\n",
    "\n",
    "https://thatascience.com/learn-machine-learning/k-means/"
   ],
   "metadata": {
    "collapsed": false,
    "pycharm": {
     "name": "#%% md\n"
    }
   }
  },
  {
   "cell_type": "code",
   "execution_count": 49,
   "outputs": [
    {
     "data": {
      "text/plain": "100"
     },
     "execution_count": 49,
     "metadata": {},
     "output_type": "execute_result"
    }
   ],
   "source": [
    "import numpy as np\n",
    "import matplotlib.pyplot as plt\n",
    "import pandas as pd\n",
    "\n",
    "from sklearn.cluster import KMeans\n",
    "from sklearn.datasets import make_blobs\n",
    "df = pd.read_csv(\"exercise8_infile1.csv\")\n",
    "df.head()\n",
    "\n",
    "n_samples = len(df.index)\n",
    "n_samples"
   ],
   "metadata": {
    "collapsed": false,
    "pycharm": {
     "name": "#%%\n"
    }
   }
  },
  {
   "cell_type": "code",
   "execution_count": 50,
   "outputs": [
    {
     "data": {
      "text/plain": "          d1         d2         d3\n0  18.900508  17.194255  23.165505\n1  17.909706  15.273063  22.270691\n2  32.304530  30.393287  26.909572\n3  12.924216   5.879719   9.355166\n4  19.231891  21.771659  21.263804",
      "text/html": "<div>\n<style scoped>\n    .dataframe tbody tr th:only-of-type {\n        vertical-align: middle;\n    }\n\n    .dataframe tbody tr th {\n        vertical-align: top;\n    }\n\n    .dataframe thead th {\n        text-align: right;\n    }\n</style>\n<table border=\"1\" class=\"dataframe\">\n  <thead>\n    <tr style=\"text-align: right;\">\n      <th></th>\n      <th>d1</th>\n      <th>d2</th>\n      <th>d3</th>\n    </tr>\n  </thead>\n  <tbody>\n    <tr>\n      <th>0</th>\n      <td>18.900508</td>\n      <td>17.194255</td>\n      <td>23.165505</td>\n    </tr>\n    <tr>\n      <th>1</th>\n      <td>17.909706</td>\n      <td>15.273063</td>\n      <td>22.270691</td>\n    </tr>\n    <tr>\n      <th>2</th>\n      <td>32.304530</td>\n      <td>30.393287</td>\n      <td>26.909572</td>\n    </tr>\n    <tr>\n      <th>3</th>\n      <td>12.924216</td>\n      <td>5.879719</td>\n      <td>9.355166</td>\n    </tr>\n    <tr>\n      <th>4</th>\n      <td>19.231891</td>\n      <td>21.771659</td>\n      <td>21.263804</td>\n    </tr>\n  </tbody>\n</table>\n</div>"
     },
     "execution_count": 50,
     "metadata": {},
     "output_type": "execute_result"
    }
   ],
   "source": [
    "# https://thatascience.com/learn-machine-learning/k-means/\n",
    "import pandas as pd\n",
    "from sklearn.cluster import KMeans\n",
    "import matplotlib.pyplot as plt\n",
    "\n",
    "\n",
    "df = pd.read_csv(\"exercise8_infile1.csv\")\n",
    "df.head()"
   ],
   "metadata": {
    "collapsed": false,
    "pycharm": {
     "name": "#%%\n"
    }
   }
  },
  {
   "cell_type": "code",
   "execution_count": 51,
   "outputs": [
    {
     "ename": "SyntaxError",
     "evalue": "invalid syntax (Temp/ipykernel_27136/2112114911.py, line 1)",
     "output_type": "error",
     "traceback": [
      "\u001B[1;36m  File \u001B[1;32m\"C:\\Users\\dunca\\AppData\\Local\\Temp/ipykernel_27136/2112114911.py\"\u001B[1;36m, line \u001B[1;32m1\u001B[0m\n\u001B[1;33m    df['target'] =\u001B[0m\n\u001B[1;37m                   ^\u001B[0m\n\u001B[1;31mSyntaxError\u001B[0m\u001B[1;31m:\u001B[0m invalid syntax\n"
     ]
    }
   ],
   "source": [
    "df['target'] = [0 for _ in range(len(df['d1']))]\n",
    "df.head()"
   ],
   "metadata": {
    "collapsed": false,
    "pycharm": {
     "name": "#%%\n"
    }
   }
  },
  {
   "cell_type": "code",
   "execution_count": null,
   "outputs": [],
   "source": [
    "X = df.to_numpy()\n",
    "X"
   ],
   "metadata": {
    "collapsed": false,
    "pycharm": {
     "name": "#%%\n"
    }
   }
  },
  {
   "cell_type": "code",
   "execution_count": null,
   "outputs": [],
   "source": [
    "df.sample(4)\n",
    "\n",
    "# Instantiate Kmeans\n",
    "km = KMeans(3)\n",
    "clusts = km.fit_predict(X)\n",
    "\n",
    "#Plot the clusters obtained using k means\n",
    "fig = plt.figure()\n",
    "ax = fig.add_subplot(111, projection='3d')\n",
    "scatter = ax.scatter(km.cluster_centers_[:, 3],\n",
    "            km.cluster_centers_[:, 0],\n",
    "            km.cluster_centers_[:, 2],\n",
    "            s = 250,\n",
    "            marker='o',\n",
    "            c='red',\n",
    "            label='centroids')\n",
    "scatter = ax.scatter(df['d1'],df['d2'], df['d3'],\n",
    "                     c=clusts,s=20, cmap='winter')\n",
    "\n",
    "\n",
    "ax.set_title('K-Means Clustering')\n",
    "ax.set_xlabel('d1')\n",
    "ax.set_ylabel('d2')\n",
    "ax.set_zlabel('d3')\n",
    "ax.legend()\n",
    "plt.show()"
   ],
   "metadata": {
    "collapsed": false,
    "pycharm": {
     "name": "#%%\n"
    }
   }
  }
 ],
 "metadata": {
  "kernelspec": {
   "name": "pycharm-865e1948",
   "language": "python",
   "display_name": "PyCharm (GITHUB_REPOSITORY)"
  },
  "language_info": {
   "codemirror_mode": {
    "name": "ipython",
    "version": 2
   },
   "file_extension": ".py",
   "mimetype": "text/x-python",
   "name": "python",
   "nbconvert_exporter": "python",
   "pygments_lexer": "ipython2",
   "version": "2.7.6"
  }
 },
 "nbformat": 4,
 "nbformat_minor": 0
}