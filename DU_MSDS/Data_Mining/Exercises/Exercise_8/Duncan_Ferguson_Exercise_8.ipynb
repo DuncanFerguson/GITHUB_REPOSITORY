{
 "cells": [
  {
   "cell_type": "markdown",
   "metadata": {
    "collapsed": true,
    "pycharm": {
     "name": "#%% md\n"
    }
   },
   "source": [
    "Student: Duncan Ferguson <br>\n",
    "Student Id: 871641260 <br>\n",
    "Class: Comp 4431-1 <br>\n",
    "Assignment: Exercise 6 <br>\n",
    "Date: 10/22/2021 <br>\n",
    "Group: Name: Broken Toe <br>\n",
    "Group Members: Emma Bright, Mike Santoro <br>\n",
    "\n",
    "# Part 1\n",
    "\n",
    "You are to write code implementing the k-means clustering algorithm assuming a 3-dimensional data set and test it.\n",
    "Make your code work for 3 clusters.  (If you want you can make it work for 2-clusters first then modify for 3-clusters,\n",
    " but the data set I am providing nicely produces three clusters).\n",
    "\n",
    "Once your code works, run it on this test file: exercise8_infile1.csv Download exercise8_infile1.csv\n",
    "\n",
    "For output print out the number in each cluster and the the list of points in each cluster.  Your output should look\n",
    "something like this: exercise8_output.txt"
   ]
  },
  {
   "cell_type": "code",
   "execution_count": 1,
   "outputs": [
    {
     "data": {
      "text/plain": "           d1         d2         d3\n0   18.900508  17.194255  23.165505\n1   17.909706  15.273063  22.270691\n2   32.304530  30.393287  26.909572\n3   12.924216   5.879719   9.355166\n4   19.231891  21.771659  21.263804\n..        ...        ...        ...\n95  33.685250  32.902859  28.763926\n96  20.100899  20.569959  18.770700\n97  20.507867  21.664456  19.598545\n98  19.394428  20.201201  21.930691\n99  32.248578  29.780017  30.017098\n\n[100 rows x 3 columns]",
      "text/html": "<div>\n<style scoped>\n    .dataframe tbody tr th:only-of-type {\n        vertical-align: middle;\n    }\n\n    .dataframe tbody tr th {\n        vertical-align: top;\n    }\n\n    .dataframe thead th {\n        text-align: right;\n    }\n</style>\n<table border=\"1\" class=\"dataframe\">\n  <thead>\n    <tr style=\"text-align: right;\">\n      <th></th>\n      <th>d1</th>\n      <th>d2</th>\n      <th>d3</th>\n    </tr>\n  </thead>\n  <tbody>\n    <tr>\n      <th>0</th>\n      <td>18.900508</td>\n      <td>17.194255</td>\n      <td>23.165505</td>\n    </tr>\n    <tr>\n      <th>1</th>\n      <td>17.909706</td>\n      <td>15.273063</td>\n      <td>22.270691</td>\n    </tr>\n    <tr>\n      <th>2</th>\n      <td>32.304530</td>\n      <td>30.393287</td>\n      <td>26.909572</td>\n    </tr>\n    <tr>\n      <th>3</th>\n      <td>12.924216</td>\n      <td>5.879719</td>\n      <td>9.355166</td>\n    </tr>\n    <tr>\n      <th>4</th>\n      <td>19.231891</td>\n      <td>21.771659</td>\n      <td>21.263804</td>\n    </tr>\n    <tr>\n      <th>...</th>\n      <td>...</td>\n      <td>...</td>\n      <td>...</td>\n    </tr>\n    <tr>\n      <th>95</th>\n      <td>33.685250</td>\n      <td>32.902859</td>\n      <td>28.763926</td>\n    </tr>\n    <tr>\n      <th>96</th>\n      <td>20.100899</td>\n      <td>20.569959</td>\n      <td>18.770700</td>\n    </tr>\n    <tr>\n      <th>97</th>\n      <td>20.507867</td>\n      <td>21.664456</td>\n      <td>19.598545</td>\n    </tr>\n    <tr>\n      <th>98</th>\n      <td>19.394428</td>\n      <td>20.201201</td>\n      <td>21.930691</td>\n    </tr>\n    <tr>\n      <th>99</th>\n      <td>32.248578</td>\n      <td>29.780017</td>\n      <td>30.017098</td>\n    </tr>\n  </tbody>\n</table>\n<p>100 rows × 3 columns</p>\n</div>"
     },
     "execution_count": 1,
     "metadata": {},
     "output_type": "execute_result"
    }
   ],
   "source": [
    "import pandas as pd\n",
    "\n",
    "df = pd.read_csv(\"exercise8_infile1.csv\")\n",
    "df"
   ],
   "metadata": {
    "collapsed": false,
    "pycharm": {
     "name": "#%%\n"
    }
   }
  },
  {
   "cell_type": "markdown",
   "source": [
    "Part 2 - sklearn K-means\n",
    "\n",
    "Write code to use the k-means clustering algorithm.   Test your data on the same data set as above.\n",
    " You should print out the same data as above for the hand coded version.  Also use the predict method to show your\n",
    " model successfully predicting which cluster a new point should be added to.  For example this code does just that\n",
    " for point (8,8,8), (19,19,19), and (31,31,31):\n",
    "\n",
    "kmeans = KMeans(n_clusters=3, random_state=0).fit(df)  # df is the DataFrame holding the data\n",
    "\n",
    "print('means for the three clusters are:') <br>\n",
    "print(kmeans.cluster_centers_) <br>\n",
    "print('Using the clustering model to predict clusters now.') <br>\n",
    "print('kmeans.predict( [ [8,8,8], [19,19,19], [31,31,31]] ) returns: ') <br>\n",
    "print(kmeans.predict( [ [8,8,8], [19,19,19], [31,31,31]] ) ) <nr>\n",
    "\n",
    "What to upload: <br>\n",
    "Label your code:   handCoded.py  and sklearn.py and upload those two files <br>\n",
    "Name your output:  handCodedOut.txt and sklearnOut.txt and upload those two files."
   ],
   "metadata": {
    "collapsed": false,
    "pycharm": {
     "name": "#%% md\n"
    }
   }
  },
  {
   "cell_type": "code",
   "execution_count": 17,
   "outputs": [
    {
     "data": {
      "text/plain": "100"
     },
     "execution_count": 17,
     "metadata": {},
     "output_type": "execute_result"
    }
   ],
   "source": [
    "import numpy as np\n",
    "import matplotlib.pyplot as plt\n",
    "import pandas as pd\n",
    "\n",
    "from sklearn.cluster import KMeans\n",
    "from sklearn.datasets import make_blobs\n",
    "df = pd.read_csv(\"exercise8_infile1.csv\")\n",
    "df.head()\n",
    "\n",
    "n_samples = len(df.index)\n",
    "n_samples\n"
   ],
   "metadata": {
    "collapsed": false,
    "pycharm": {
     "name": "#%%\n"
    }
   }
  }
 ],
 "metadata": {
  "kernelspec": {
   "name": "pycharm-865e1948",
   "language": "python",
   "display_name": "PyCharm (GITHUB_REPOSITORY)"
  },
  "language_info": {
   "codemirror_mode": {
    "name": "ipython",
    "version": 2
   },
   "file_extension": ".py",
   "mimetype": "text/x-python",
   "name": "python",
   "nbconvert_exporter": "python",
   "pygments_lexer": "ipython2",
   "version": "2.7.6"
  }
 },
 "nbformat": 4,
 "nbformat_minor": 0
}