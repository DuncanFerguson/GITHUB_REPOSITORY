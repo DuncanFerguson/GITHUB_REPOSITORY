{
 "cells": [
  {
   "cell_type": "code",
   "execution_count": 6,
   "metadata": {
    "collapsed": true
   },
   "outputs": [
    {
     "name": "stdout",
     "output_type": "stream",
     "text": [
      "[[6.7, 3.1, 4.4, 1.4], [6.8, 3.0, 5.5, 2.1], [6.7, 3.0, 5.2, 2.3], [6.3, 2.5, 4.9, 1.5], [4.4, 3.2, 1.3, 0.2], [5.8, 2.7, 3.9, 1.2], [5.3, 3.7, 1.5, 0.2], [6.5, 2.8, 4.6, 1.5], [6.0, 3.4, 4.5, 1.6], [5.6, 2.9, 3.6, 1.3], [6.3, 3.4, 5.6, 2.4], [6.8, 2.8, 4.8, 1.4], [5.8, 2.8, 5.1, 2.4], [4.8, 3.1, 1.6, 0.2], [6.1, 2.8, 4.7, 1.2], [5.7, 2.9, 4.2, 1.3], [5.6, 3.0, 4.1, 1.3], [5.0, 3.5, 1.6, 0.6], [5.5, 3.5, 1.3, 0.2], [6.3, 2.9, 5.6, 1.8], [5.8, 2.7, 5.1, 1.9], [5.5, 2.3, 4.0, 1.3], [5.4, 3.9, 1.3, 0.4], [4.8, 3.0, 1.4, 0.3], [4.9, 2.5, 4.5, 1.7], [5.7, 2.6, 3.5, 1.0], [4.3, 3.0, 1.1, 0.1], [6.3, 2.7, 4.9, 1.8], [5.0, 3.6, 1.4, 0.2], [5.9, 3.0, 4.2, 1.5], [6.9, 3.1, 4.9, 1.5], [6.8, 3.2, 5.9, 2.3], [6.7, 3.0, 5.0, 1.7], [5.2, 4.1, 1.5, 0.1], [6.9, 3.1, 5.4, 2.1], [5.5, 2.4, 3.7, 1.0], [5.1, 3.8, 1.6, 0.2], [5.0, 3.2, 1.2, 0.2], [7.6, 3.0, 6.6, 2.1], [7.1, 3.0, 5.9, 2.1], [5.7, 3.8, 1.7, 0.3], [5.5, 4.2, 1.4, 0.2], [5.7, 3.0, 4.2, 1.2], [6.3, 2.5, 5.0, 1.9], [6.0, 2.7, 5.1, 1.6], [6.4, 3.2, 4.5, 1.5], [5.0, 3.3, 1.4, 0.2], [5.5, 2.4, 3.8, 1.1], [5.2, 3.5, 1.5, 0.2], [5.0, 2.3, 3.3, 1.0], [6.6, 3.0, 4.4, 1.4], [4.6, 3.1, 1.5, 0.2], [6.1, 2.9, 4.7, 1.4], [7.4, 2.8, 6.1, 1.9], [7.7, 2.8, 6.7, 2.0], [5.8, 2.7, 5.1, 1.9], [5.6, 2.5, 3.9, 1.1], [5.8, 4.0, 1.2, 0.2], [4.4, 3.0, 1.3, 0.2], [6.4, 2.8, 5.6, 2.1], [5.1, 3.3, 1.7, 0.5], [5.0, 3.4, 1.6, 0.4], [6.4, 3.2, 5.3, 2.3], [6.7, 3.3, 5.7, 2.5], [6.4, 2.9, 4.3, 1.3], [6.3, 2.8, 5.1, 1.5], [5.0, 3.0, 1.6, 0.2], [6.4, 2.7, 5.3, 1.9], [4.6, 3.4, 1.4, 0.3], [5.4, 3.0, 4.5, 1.5], [5.1, 3.8, 1.9, 0.4], [6.0, 2.9, 4.5, 1.5], [7.0, 3.2, 4.7, 1.4], [4.6, 3.2, 1.4, 0.2], [5.5, 2.5, 4.0, 1.3], [6.7, 3.1, 5.6, 2.4], [5.4, 3.4, 1.5, 0.4], [5.8, 2.7, 4.1, 1.0], [6.2, 3.4, 5.4, 2.3], [5.7, 2.8, 4.5, 1.3], [7.7, 3.0, 6.1, 2.3], [6.3, 3.3, 6.0, 2.5], [5.0, 2.0, 3.5, 1.0], [5.9, 3.0, 5.1, 1.8], [5.1, 3.5, 1.4, 0.3], [5.4, 3.7, 1.5, 0.2], [7.2, 3.0, 5.8, 1.6], [5.4, 3.4, 1.7, 0.2], [5.1, 3.4, 1.5, 0.2], [4.9, 3.1, 1.5, 0.1], [5.7, 4.4, 1.5, 0.4], [5.6, 3.0, 4.5, 1.5], [6.3, 3.3, 4.7, 1.6], [7.9, 3.8, 6.4, 2.0], [6.0, 3.0, 4.8, 1.8], [4.6, 3.6, 1.0, 0.2], [4.9, 3.1, 1.5, 0.1], [6.7, 3.3, 5.7, 2.1], [5.2, 2.7, 3.9, 1.4], [6.1, 3.0, 4.9, 1.8], [5.4, 3.9, 1.7, 0.4], [6.6, 2.9, 4.6, 1.3], [5.8, 2.6, 4.0, 1.2], [5.7, 2.8, 4.1, 1.3], [5.5, 2.6, 4.4, 1.2], [6.2, 2.8, 4.8, 1.8], [6.9, 3.2, 5.7, 2.3], [5.0, 3.5, 1.3, 0.3], [4.7, 3.2, 1.3, 0.2], [4.9, 3.1, 1.5, 0.1], [5.1, 3.7, 1.5, 0.4], [6.4, 2.8, 5.6, 2.2], [5.1, 3.8, 1.5, 0.3], [6.5, 3.0, 5.5, 1.8], [6.3, 2.3, 4.4, 1.3], [4.4, 2.9, 1.4, 0.2], [6.1, 2.8, 4.0, 1.3], [6.7, 2.5, 5.8, 1.8], [7.3, 2.9, 6.3, 1.8], [6.1, 2.6, 5.6, 1.4], [6.9, 3.1, 5.1, 2.3], [4.7, 3.2, 1.6, 0.2], [7.2, 3.6, 6.1, 2.5], [6.5, 3.2, 5.1, 2.0], [4.9, 2.4, 3.3, 1.0], [6.2, 2.2, 4.5, 1.5], [4.8, 3.0, 1.4, 0.1], [6.2, 2.9, 4.3, 1.3], [6.1, 3.0, 4.6, 1.4], [5.2, 3.4, 1.4, 0.2], [7.2, 3.2, 6.0, 1.8], [4.8, 3.4, 1.6, 0.2], [4.8, 3.4, 1.9, 0.2], [5.1, 2.5, 3.0, 1.1], [7.7, 2.6, 6.9, 2.3], [6.4, 3.1, 5.5, 1.8], [4.9, 3.0, 1.4, 0.2], [5.9, 3.2, 4.8, 1.8], [6.5, 3.0, 5.2, 2.0], [6.0, 2.2, 5.0, 1.5], [5.6, 2.7, 4.2, 1.3], [5.7, 2.5, 5.0, 2.0], [6.7, 3.1, 4.7, 1.5], [6.0, 2.2, 4.0, 1.0], [4.5, 2.3, 1.3, 0.3], [7.7, 3.8, 6.7, 2.2], [5.6, 2.8, 4.9, 2.0], [6.5, 3.0, 5.8, 2.2], [5.0, 3.4, 1.5, 0.2]]\n"
     ]
    }
   ],
   "source": [
    "# https://www.geeksforgeeks.org/k-means-clustering-introduction/\n",
    "import random\n",
    "\n",
    "def ReadData(fileName):\n",
    "\n",
    "    # Read the file, splitting by lines\n",
    "    f = open(fileName, 'r')\n",
    "    lines = f.read().splitlines()\n",
    "    f.close()\n",
    "    items = []\n",
    "    for i in range(1, len(lines)):\n",
    "        line = lines[i].split(',')\n",
    "        itemFeatures = []\n",
    "        for j in range(len(line)-1):\n",
    "            # Convert feature value to float\n",
    "            v = float(line[j])\n",
    "            # Add feature value to dict\n",
    "            itemFeatures.append(v)\n",
    "        items.append(itemFeatures)\n",
    "    random.shuffle(items)\n",
    "    return items\n",
    "\n",
    "items = ReadData(\"k_means.txt\")\n",
    "print(items)"
   ]
  },
  {
   "cell_type": "code",
   "execution_count": 15,
   "outputs": [
    {
     "name": "stdout",
     "output_type": "stream",
     "text": [
      "[4.3, 2.0, 1.0, 0.1]\n",
      "[7.9, 4.4, 6.9, 2.5]\n"
     ]
    }
   ],
   "source": [
    "import sys\n",
    "\n",
    "def FindColMinMax(items):\n",
    "    maxSize = sys.maxsize\n",
    "    n = len(items[0]);\n",
    "    minima = [maxSize for i in range(n)]\n",
    "    maxima = [-maxSize -1 for i in range(n)]\n",
    "\n",
    "    for item in items:\n",
    "        for f in range(len(item)):\n",
    "            if (item[f] < minima[f]):\n",
    "                minima[f] = item[f]\n",
    "\n",
    "            if (item[f] > maxima[f]):\n",
    "                maxima[f] = item[f]\n",
    "\n",
    "    return minima,maxima\n",
    "\n",
    "minima, maxima = FindColMinMax(items)\n",
    "print(minima)\n",
    "print(maxima)"
   ],
   "metadata": {
    "collapsed": false,
    "pycharm": {
     "name": "#%%\n"
    }
   }
  },
  {
   "cell_type": "code",
   "execution_count": null,
   "outputs": [],
   "source": [
    "def InitializeMeans(items, k, cMin, cMax):\n",
    "\n",
    "    # Initialize means to random numbers between\n",
    "    # the min and max of each column/feature\n",
    "    f = len(items[0]) # number of features\n",
    "    means = [[0 for i in range(f)] for j in range(k)];\n",
    "\n",
    "    for mean in means:\n",
    "        for i in range(len(mean)):\n",
    "\n",
    "            # Set value to a random float\n",
    "            # (adding +-1 to avoid a wide placement of a mean)\n",
    "            mean[i] = uniform(cMin[i]+1, cMax[i]-1)\n",
    "\n",
    "    return means\n",
    "\n",
    "means = InitializeMeans(items, )"
   ],
   "metadata": {
    "collapsed": false,
    "pycharm": {
     "name": "#%%\n"
    }
   }
  }
 ],
 "metadata": {
  "kernelspec": {
   "name": "pycharm-865e1948",
   "language": "python",
   "display_name": "PyCharm (GITHUB_REPOSITORY)"
  },
  "language_info": {
   "codemirror_mode": {
    "name": "ipython",
    "version": 2
   },
   "file_extension": ".py",
   "mimetype": "text/x-python",
   "name": "python",
   "nbconvert_exporter": "python",
   "pygments_lexer": "ipython2",
   "version": "2.7.6"
  }
 },
 "nbformat": 4,
 "nbformat_minor": 0
}