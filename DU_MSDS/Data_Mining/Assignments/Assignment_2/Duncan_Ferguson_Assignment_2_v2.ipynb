{
 "cells": [
  {
   "cell_type": "markdown",
   "metadata": {
    "collapsed": true,
    "pycharm": {
     "name": "#%% md\n"
    }
   },
   "source": [
    "Student: Duncan Ferguson <br>\n",
    "Student Id: 871641260 <br>\n",
    "Class: Comp 4431-1 <br>\n",
    "Assignment: Assignment 2 <br>\n",
    "Date: 11/12/2021 <br>\n",
    "*Project was Completed by Individual, group is just listed below for reference to past code that might\n",
    "be reused from previous Excercises* <br>\n",
    "Group: Name: Broken Toe <br>\n",
    "Group Members: Emma Bright, Mike Santoro <br>"
   ]
  },
  {
   "cell_type": "markdown",
   "source": [
    "### Assignment Description:\n",
    "In this assignment you are to use Decision trees and Naive Bayes for classification. In addition, you are to explore\n",
    " your models to determine which feature vector attributes you can remove without \"significantly hurting\"\n",
    " classification importance. There is no single \"right\" answer for this question. Also, \"significantly hurting\"\n",
    " is a judgement call, please explain why you mean by that and provided numeric values. You should start with\n",
    " the full dataset and look at the decision tree features_importances_ and naive bayes permutation_importance\n",
    " to guid which attributes to remove. You will then want to iteratively remove attributes, possibly one at a time or\n",
    " several at a time. Again, there is no single \"right way\" to do this."
   ],
   "metadata": {
    "collapsed": false,
    "pycharm": {
     "name": "#%% md\n"
    }
   }
  },
  {
   "cell_type": "markdown",
   "source": [
    "The goal is to predict whether it will rain tomorrow given the days weather statistics. The last column,\n",
    "\"Rain Tomorrow\" is the classification value for I have cleaned the data set for you. I removed a few attributes that\n",
    "were almost all zeros, and replaced missing values with the mean value for that column. Also, strings have been\n",
    "transformed into numeric values so the data set will work well for both decision trees and naive bayes. <br>\n",
    "\n",
    "#### What To Turn In: <br>\n",
    "1). A report that explains which attributes you have eliminated, why those, and what effect this has on the quality of\n",
    "predictions compared to using the full dataset. Feel free to include a table of feature_importances and\n",
    " permutation_importances that show how any why you reduced the set of attributes. <br>\n",
    "\n",
    "2). Your code for creating the decision tree and naive bayes models and getting the feature/permuttion importances.\n",
    "Your code does not need to cover your whole experimental space, but should provide enough information to show how you\n",
    "made at least one decision about which attribute (column) to eliminate\n"
   ],
   "metadata": {
    "collapsed": false,
    "pycharm": {
     "name": "#%% md\n"
    }
   }
  },
  {
   "cell_type": "code",
   "execution_count": 428,
   "outputs": [],
   "source": [
    "# Importing main python packages for assignment\n",
    "# import numpy as np\n",
    "import pandas as pd\n",
    "from sklearn import tree\n",
    "from sklearn.naive_bayes import *\n",
    "from sklearn.model_selection import train_test_split\n",
    "from sklearn.metrics import *\n",
    "from sklearn.inspection import permutation_importance"
   ],
   "metadata": {
    "collapsed": false,
    "pycharm": {
     "name": "#%%\n"
    }
   }
  },
  {
   "cell_type": "code",
   "execution_count": 429,
   "outputs": [],
   "source": [
    "# Importing data\n",
    "df = pd.read_csv(\"assignment2_cleanInfile.csv\")"
   ],
   "metadata": {
    "collapsed": false,
    "pycharm": {
     "name": "#%%\n"
    }
   }
  },
  {
   "cell_type": "code",
   "execution_count": 430,
   "outputs": [],
   "source": [
    "def importance_df(important, df_import):\n",
    "    \"\"\"This Function Takes in the decision tree importance and returns a sorted decision tree\n",
    "    by Score Importance\"\"\"\n",
    "    df_importance_list = []\n",
    "    for i, v in enumerate(important):\n",
    "        df_importance_list.append([df_import.columns[i], v])\n",
    "    df_importance = pd.DataFrame(df_importance_list, columns=[\"FName\", \"Score\"])\n",
    "    df_importance.sort_values(by=['Score'], ascending=False, inplace=True)\n",
    "    print(\"decision tree dtree feature importance:\")\n",
    "    return df_importance"
   ],
   "metadata": {
    "collapsed": false,
    "pycharm": {
     "name": "#%%\n"
    }
   }
  },
  {
   "cell_type": "code",
   "execution_count": 431,
   "outputs": [],
   "source": [
    "def train_data(df, drops=None):\n",
    "    \"\"\"This function trains the data and returns the desired drops\"\"\"\n",
    "    # Y is the classification\n",
    "    Y = df['RainTomorrow'].tolist()\n",
    "\n",
    "    X = df.copy()\n",
    "    X = X.drop(\"RainTomorrow\",1)\n",
    "    if drops != None:\n",
    "        X = X.drop(drops, 1)\n",
    "\n",
    "    x_train, x_test, y_train, y_test = train_test_split(X, Y, test_size=0.25, random_state=2)\n",
    "    return x_train, x_test, y_train, y_test, X, Y"
   ],
   "metadata": {
    "collapsed": false,
    "pycharm": {
     "name": "#%%\n"
    }
   }
  },
  {
   "cell_type": "code",
   "execution_count": 432,
   "outputs": [],
   "source": [
    "def GausianNB_Model(x_train, x_test, y_train, y_test, X):\n",
    "    \"\"\"This Function takes in the training and the testing models to help create the GausianNB Model\"\"\"\n",
    "    model2 = GaussianNB()\n",
    "    model2.fit(x_train, y_train)\n",
    "    gausianNB_predicted = model2.predict(x_test)\n",
    "    print('\\nconfusion_matrix from Gaussian naive bayes:')\n",
    "    print(confusion_matrix( y_test, gausianNB_predicted ) )\n",
    "    accuracy = accuracy_score(y_test, gausianNB_predicted)\n",
    "    print('accuracy = ' + str(accuracy))\n",
    "    imps = permutation_importance(model2, x_test, y_test)\n",
    "    print(\"gausianNB feature importance:\")\n",
    "    df_Gausian_Feature_Importance_List = []\n",
    "    Gausian_Feature_Importance_List =  imps.importances_mean.tolist()\n",
    "    for row in enumerate(Gausian_Feature_Importance_List):\n",
    "        df_Gausian_Feature_Importance_List.append([X.columns[row[0]], row[1]])\n",
    "    df_Gausian_Feature_Importance = pd.DataFrame(df_Gausian_Feature_Importance_List, columns=[\"Feature\", \"Significance\"])\n",
    "    df_Gausian_Feature_Importance.sort_values(by=[\"Significance\"], ascending=False, inplace=True)\n",
    "    return df_Gausian_Feature_Importance"
   ],
   "metadata": {
    "collapsed": false,
    "pycharm": {
     "name": "#%%\n"
    }
   }
  },
  {
   "cell_type": "code",
   "execution_count": 433,
   "outputs": [
    {
     "name": "stderr",
     "output_type": "stream",
     "text": [
      "C:\\Users\\dunca\\AppData\\Local\\Temp/ipykernel_29804/3042352463.py:7: FutureWarning: In a future version of pandas all arguments of DataFrame.drop except for the argument 'labels' will be keyword-only\n",
      "  X = X.drop(\"RainTomorrow\",1)\n"
     ]
    }
   ],
   "source": [
    "x_train, x_test, y_train, y_test, X, Y = train_data(df)"
   ],
   "metadata": {
    "collapsed": false,
    "pycharm": {
     "name": "#%%\n"
    }
   }
  },
  {
   "cell_type": "code",
   "execution_count": 434,
   "outputs": [
    {
     "name": "stdout",
     "output_type": "stream",
     "text": [
      "DecisionTree Confusion Matrix:\n",
      "[[23537  3975]\n",
      " [ 3776  4261]]\n",
      "decision tree dtree feature importance:\n"
     ]
    },
    {
     "data": {
      "text/plain": "            FName     Score\n11    Humidity3pm  0.266329\n13    Pressure3pm  0.071190\n5   WindGustSpeed  0.066210\n3        Rainfall  0.061819\n1         MinTemp  0.052887\n10    Humidity9am  0.051686\n12    Pressure9am  0.046681\n2         MaxTemp  0.044049\n17        Temp3pm  0.043505\n16        Temp9am  0.042386\n0        Location  0.039201\n9    WindSpeed3pm  0.035366\n8    WindSpeed9am  0.033632\n6      WindDir9am  0.032532\n15       Cloud3pm  0.031050\n4     WindGustDir  0.030679\n7      WindDir3pm  0.028887\n14       Cloud9am  0.019866\n18      RainToday  0.002047",
      "text/html": "<div>\n<style scoped>\n    .dataframe tbody tr th:only-of-type {\n        vertical-align: middle;\n    }\n\n    .dataframe tbody tr th {\n        vertical-align: top;\n    }\n\n    .dataframe thead th {\n        text-align: right;\n    }\n</style>\n<table border=\"1\" class=\"dataframe\">\n  <thead>\n    <tr style=\"text-align: right;\">\n      <th></th>\n      <th>FName</th>\n      <th>Score</th>\n    </tr>\n  </thead>\n  <tbody>\n    <tr>\n      <th>11</th>\n      <td>Humidity3pm</td>\n      <td>0.266329</td>\n    </tr>\n    <tr>\n      <th>13</th>\n      <td>Pressure3pm</td>\n      <td>0.071190</td>\n    </tr>\n    <tr>\n      <th>5</th>\n      <td>WindGustSpeed</td>\n      <td>0.066210</td>\n    </tr>\n    <tr>\n      <th>3</th>\n      <td>Rainfall</td>\n      <td>0.061819</td>\n    </tr>\n    <tr>\n      <th>1</th>\n      <td>MinTemp</td>\n      <td>0.052887</td>\n    </tr>\n    <tr>\n      <th>10</th>\n      <td>Humidity9am</td>\n      <td>0.051686</td>\n    </tr>\n    <tr>\n      <th>12</th>\n      <td>Pressure9am</td>\n      <td>0.046681</td>\n    </tr>\n    <tr>\n      <th>2</th>\n      <td>MaxTemp</td>\n      <td>0.044049</td>\n    </tr>\n    <tr>\n      <th>17</th>\n      <td>Temp3pm</td>\n      <td>0.043505</td>\n    </tr>\n    <tr>\n      <th>16</th>\n      <td>Temp9am</td>\n      <td>0.042386</td>\n    </tr>\n    <tr>\n      <th>0</th>\n      <td>Location</td>\n      <td>0.039201</td>\n    </tr>\n    <tr>\n      <th>9</th>\n      <td>WindSpeed3pm</td>\n      <td>0.035366</td>\n    </tr>\n    <tr>\n      <th>8</th>\n      <td>WindSpeed9am</td>\n      <td>0.033632</td>\n    </tr>\n    <tr>\n      <th>6</th>\n      <td>WindDir9am</td>\n      <td>0.032532</td>\n    </tr>\n    <tr>\n      <th>15</th>\n      <td>Cloud3pm</td>\n      <td>0.031050</td>\n    </tr>\n    <tr>\n      <th>4</th>\n      <td>WindGustDir</td>\n      <td>0.030679</td>\n    </tr>\n    <tr>\n      <th>7</th>\n      <td>WindDir3pm</td>\n      <td>0.028887</td>\n    </tr>\n    <tr>\n      <th>14</th>\n      <td>Cloud9am</td>\n      <td>0.019866</td>\n    </tr>\n    <tr>\n      <th>18</th>\n      <td>RainToday</td>\n      <td>0.002047</td>\n    </tr>\n  </tbody>\n</table>\n</div>"
     },
     "execution_count": 434,
     "metadata": {},
     "output_type": "execute_result"
    }
   ],
   "source": [
    "# Building out a decision tree\n",
    "dtree = tree.DecisionTreeClassifier(criterion=\"gini\")\n",
    "dtree = dtree.fit(x_train, y_train)\n",
    "y_predicted = dtree.predict(x_test)\n",
    "\n",
    "print(\"DecisionTree Confusion Matrix:\")\n",
    "print(confusion_matrix(y_test, y_predicted))\n",
    "importance_df(dtree.feature_importances_, X)"
   ],
   "metadata": {
    "collapsed": false,
    "pycharm": {
     "name": "#%%\n"
    }
   }
  },
  {
   "cell_type": "code",
   "execution_count": 435,
   "outputs": [
    {
     "name": "stdout",
     "output_type": "stream",
     "text": [
      "\n",
      "confusion_matrix from Gaussian naive bayes:\n",
      "[[24207  3305]\n",
      " [ 3552  4485]]\n",
      "accuracy = 0.807111311147993\n",
      "gausianNB feature importance:\n"
     ]
    },
    {
     "data": {
      "text/plain": "          Feature  Significance\n11    Humidity3pm      0.015652\n3        Rainfall      0.012659\n5   WindGustSpeed      0.004366\n13    Pressure3pm      0.004152\n12    Pressure9am      0.002824\n15       Cloud3pm      0.002380\n1         MinTemp      0.000805\n14       Cloud9am      0.000484\n0        Location     -0.000028\n8    WindSpeed9am     -0.000219\n10    Humidity9am     -0.000326\n16        Temp9am     -0.000456\n9    WindSpeed3pm     -0.000619\n7      WindDir3pm     -0.000658\n4     WindGustDir     -0.000743\n18      RainToday     -0.001407\n17        Temp3pm     -0.001553\n6      WindDir9am     -0.001603\n2         MaxTemp     -0.001744",
      "text/html": "<div>\n<style scoped>\n    .dataframe tbody tr th:only-of-type {\n        vertical-align: middle;\n    }\n\n    .dataframe tbody tr th {\n        vertical-align: top;\n    }\n\n    .dataframe thead th {\n        text-align: right;\n    }\n</style>\n<table border=\"1\" class=\"dataframe\">\n  <thead>\n    <tr style=\"text-align: right;\">\n      <th></th>\n      <th>Feature</th>\n      <th>Significance</th>\n    </tr>\n  </thead>\n  <tbody>\n    <tr>\n      <th>11</th>\n      <td>Humidity3pm</td>\n      <td>0.015652</td>\n    </tr>\n    <tr>\n      <th>3</th>\n      <td>Rainfall</td>\n      <td>0.012659</td>\n    </tr>\n    <tr>\n      <th>5</th>\n      <td>WindGustSpeed</td>\n      <td>0.004366</td>\n    </tr>\n    <tr>\n      <th>13</th>\n      <td>Pressure3pm</td>\n      <td>0.004152</td>\n    </tr>\n    <tr>\n      <th>12</th>\n      <td>Pressure9am</td>\n      <td>0.002824</td>\n    </tr>\n    <tr>\n      <th>15</th>\n      <td>Cloud3pm</td>\n      <td>0.002380</td>\n    </tr>\n    <tr>\n      <th>1</th>\n      <td>MinTemp</td>\n      <td>0.000805</td>\n    </tr>\n    <tr>\n      <th>14</th>\n      <td>Cloud9am</td>\n      <td>0.000484</td>\n    </tr>\n    <tr>\n      <th>0</th>\n      <td>Location</td>\n      <td>-0.000028</td>\n    </tr>\n    <tr>\n      <th>8</th>\n      <td>WindSpeed9am</td>\n      <td>-0.000219</td>\n    </tr>\n    <tr>\n      <th>10</th>\n      <td>Humidity9am</td>\n      <td>-0.000326</td>\n    </tr>\n    <tr>\n      <th>16</th>\n      <td>Temp9am</td>\n      <td>-0.000456</td>\n    </tr>\n    <tr>\n      <th>9</th>\n      <td>WindSpeed3pm</td>\n      <td>-0.000619</td>\n    </tr>\n    <tr>\n      <th>7</th>\n      <td>WindDir3pm</td>\n      <td>-0.000658</td>\n    </tr>\n    <tr>\n      <th>4</th>\n      <td>WindGustDir</td>\n      <td>-0.000743</td>\n    </tr>\n    <tr>\n      <th>18</th>\n      <td>RainToday</td>\n      <td>-0.001407</td>\n    </tr>\n    <tr>\n      <th>17</th>\n      <td>Temp3pm</td>\n      <td>-0.001553</td>\n    </tr>\n    <tr>\n      <th>6</th>\n      <td>WindDir9am</td>\n      <td>-0.001603</td>\n    </tr>\n    <tr>\n      <th>2</th>\n      <td>MaxTemp</td>\n      <td>-0.001744</td>\n    </tr>\n  </tbody>\n</table>\n</div>"
     },
     "execution_count": 435,
     "metadata": {},
     "output_type": "execute_result"
    }
   ],
   "source": [
    "GausianNB_Model(x_train, x_test, y_train, y_test, X)\n"
   ],
   "metadata": {
    "collapsed": false,
    "pycharm": {
     "name": "#%%\n"
    }
   }
  },
  {
   "cell_type": "code",
   "execution_count": 436,
   "outputs": [],
   "source": [
    "# Now to drop attributes\n",
    "# print(\"\\n\\nDropping student attribute\")\n",
    "# df2 = df.drop(\"RainToday\", axis=1)\n",
    "# x_train, x_test, y_train, y_test = train_test_split(df2, Y, test_size=0.25, random_state=2)\n",
    "# print(\"x_test\" + str(x_test))\n",
    "# print(\"y_test\" + str(y_test))"
   ],
   "metadata": {
    "collapsed": false,
    "pycharm": {
     "name": "#%%\n"
    }
   }
  }
 ],
 "metadata": {
  "kernelspec": {
   "name": "pycharm-865e1948",
   "language": "python",
   "display_name": "PyCharm (GITHUB_REPOSITORY)"
  },
  "language_info": {
   "codemirror_mode": {
    "name": "ipython",
    "version": 2
   },
   "file_extension": ".py",
   "mimetype": "text/x-python",
   "name": "python",
   "nbconvert_exporter": "python",
   "pygments_lexer": "ipython2",
   "version": "2.7.6"
  }
 },
 "nbformat": 4,
 "nbformat_minor": 0
}