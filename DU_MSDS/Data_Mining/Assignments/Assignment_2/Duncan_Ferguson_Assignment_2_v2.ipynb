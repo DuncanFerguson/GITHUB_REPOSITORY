{
 "cells": [
  {
   "cell_type": "markdown",
   "metadata": {
    "collapsed": true,
    "pycharm": {
     "name": "#%% md\n"
    }
   },
   "source": [
    "Student: Duncan Ferguson <br>\n",
    "Student Id: 871641260 <br>\n",
    "Class: Comp 4431-1 <br>\n",
    "Assignment: Assignment 2 <br>\n",
    "Date: 11/12/2021 <br>\n",
    "*Project was Completed by Individual, group is just listed below for reference to past code that might\n",
    "be reused from previous Excercises* <br>\n",
    "Group: Name: Broken Toe <br>\n",
    "Group Members: Emma Bright, Mike Santoro <br>"
   ]
  },
  {
   "cell_type": "markdown",
   "source": [
    "### Assignment Description:\n",
    "In this assignment you are to use Decision trees and Naive Bayes for classification. In addition, you are to explore\n",
    " your models to determine which feature vector attributes you can remove without \"significantly hurting\"\n",
    " classification importance. There is no single \"right\" answer for this question. Also, \"significantly hurting\"\n",
    " is a judgement call, please explain why you mean by that and provided numeric values. You should start with\n",
    " the full dataset and look at the decision tree features_importances_ and naive bayes permutation_importance\n",
    " to guid which attributes to remove. You will then want to iteratively remove attributes, possibly one at a time or\n",
    " several at a time. Again, there is no single \"right way\" to do this."
   ],
   "metadata": {
    "collapsed": false,
    "pycharm": {
     "name": "#%% md\n"
    }
   }
  },
  {
   "cell_type": "markdown",
   "source": [
    "The goal is to predict whether it will rain tomorrow given the days weather statistics. The last column,\n",
    "\"Rain Tomorrow\" is the classification value for I have cleaned the data set for you. I removed a few attributes that\n",
    "were almost all zeros, and replaced missing values with the mean value for that column. Also, strings have been\n",
    "transformed into numeric values so the data set will work well for both decision trees and naive bayes. <br>\n",
    "\n",
    "#### What To Turn In: <br>\n",
    "1). A report that explains which attributes you have eliminated, why those, and what effect this has on the quality of\n",
    "predictions compared to using the full dataset. Feel free to include a table of feature_importances and\n",
    " permutation_importances that show how any why you reduced the set of attributes. <br>\n",
    "\n",
    "2). Your code for creating the decision tree and naive bayes models and getting the feature/permuttion importances.\n",
    "Your code does not need to cover your whole experimental space, but should provide enough information to show how you\n",
    "made at least one decision about which attribute (column) to eliminate\n"
   ],
   "metadata": {
    "collapsed": false,
    "pycharm": {
     "name": "#%% md\n"
    }
   }
  },
  {
   "cell_type": "code",
   "execution_count": 507,
   "outputs": [],
   "source": [
    "# Importing main python packages for assignment\n",
    "import numpy as np\n",
    "import pandas as pd\n",
    "from sklearn import tree\n",
    "from sklearn.naive_bayes import *\n",
    "from sklearn.model_selection import train_test_split\n",
    "from sklearn.metrics import *\n",
    "from sklearn.inspection import permutation_importance"
   ],
   "metadata": {
    "collapsed": false,
    "pycharm": {
     "name": "#%%\n"
    }
   }
  },
  {
   "cell_type": "code",
   "execution_count": 510,
   "outputs": [],
   "source": [
    "def train_data(df, drops=None):\n",
    "    \"\"\"This function trains the data and returns the desired drops\"\"\"\n",
    "    # Y is the classification\n",
    "    Y = df['RainTomorrow'].tolist()\n",
    "\n",
    "    X = df.copy()\n",
    "    X = X.drop(\"RainTomorrow\",1)\n",
    "    if drops != None:\n",
    "        X = X.drop(drops, 1)\n",
    "\n",
    "    x_train, x_test, y_train, y_test = train_test_split(X, Y, test_size=0.25, random_state=2)\n",
    "    return x_train, x_test, y_train, y_test, X, Y"
   ],
   "metadata": {
    "collapsed": false,
    "pycharm": {
     "name": "#%%\n"
    }
   }
  },
  {
   "cell_type": "code",
   "execution_count": 511,
   "outputs": [],
   "source": [
    "def decisionTree_Model(x_train, x_test, y_train, y_test, X):\n",
    "    \"\"\"This Function Goes through and prints out the Decision tree model\"\"\"\n",
    "    # Building out a decision tree\n",
    "    dtree = tree.DecisionTreeClassifier(criterion=\"gini\")\n",
    "    dtree = dtree.fit(x_train, y_train)\n",
    "    y_predicted = dtree.predict(x_test)\n",
    "    accuracy = accuracy_score(y_test, y_predicted)\n",
    "    print(\"DecisionTree Accuracy: \", accuracy)\n",
    "    print(\"DecisionTree Confusion Matrix:\")\n",
    "    print(confusion_matrix(y_test, y_predicted))\n",
    "    # return importance_df(dtree.feature_importances_, X)\n",
    "    important = dtree.feature_importances_\n",
    "    df_importance_list = []\n",
    "    for i, v in enumerate(important):\n",
    "        df_importance_list.append([X.columns[i], v])\n",
    "    df_importance = pd.DataFrame(df_importance_list, columns=[\"FName\", \"Score\"])\n",
    "    df_importance.sort_values(by=['Score'], ascending=False, inplace=True)\n",
    "    print(\"decision tree dtree feature importance:\")\n",
    "    return df_importance\n"
   ],
   "metadata": {
    "collapsed": false,
    "pycharm": {
     "name": "#%%\n"
    }
   }
  },
  {
   "cell_type": "code",
   "execution_count": 512,
   "outputs": [],
   "source": [
    "def GausianNB_Model(x_train, x_test, y_train, y_test, X):\n",
    "    \"\"\"This Function takes in the training and the testing models to help create the GausianNB Model\"\"\"\n",
    "    model2 = GaussianNB()\n",
    "    model2.fit(x_train, y_train)\n",
    "    gausianNB_predicted = model2.predict(x_test)\n",
    "    print('\\nconfusion_matrix from Gaussian naive bayes:')\n",
    "    print(confusion_matrix( y_test, gausianNB_predicted ) )\n",
    "    accuracy = accuracy_score(y_test, gausianNB_predicted)\n",
    "    print('accuracy = ' + str(accuracy))\n",
    "    imps = permutation_importance(model2, x_test, y_test)\n",
    "    print(\"gausianNB feature importance:\")\n",
    "    df_Gausian_Feature_Importance_List = []\n",
    "    Gausian_Feature_Importance_List =  imps.importances_mean.tolist()\n",
    "    for row in enumerate(Gausian_Feature_Importance_List):\n",
    "        df_Gausian_Feature_Importance_List.append([X.columns[row[0]], row[1]])\n",
    "    df_Gausian_Feature_Importance = pd.DataFrame(df_Gausian_Feature_Importance_List, columns=[\"Feature\", \"Significance\"])\n",
    "    df_Gausian_Feature_Importance.sort_values(by=[\"Significance\"], ascending=False, inplace=True)\n",
    "    return df_Gausian_Feature_Importance"
   ],
   "metadata": {
    "collapsed": false,
    "pycharm": {
     "name": "#%%\n"
    }
   }
  },
  {
   "cell_type": "code",
   "execution_count": 513,
   "outputs": [
    {
     "name": "stderr",
     "output_type": "stream",
     "text": [
      "C:\\Users\\dunca\\AppData\\Local\\Temp/ipykernel_29804/3042352463.py:7: FutureWarning: In a future version of pandas all arguments of DataFrame.drop except for the argument 'labels' will be keyword-only\n",
      "  X = X.drop(\"RainTomorrow\",1)\n"
     ]
    }
   ],
   "source": [
    "np.random.seed(0)\n",
    "# Importing data\n",
    "df = pd.read_csv(\"assignment2_cleanInfile.csv\")\n",
    "x_train, x_test, y_train, y_test, X, Y = train_data(df)"
   ],
   "metadata": {
    "collapsed": false,
    "pycharm": {
     "name": "#%%\n"
    }
   }
  },
  {
   "cell_type": "code",
   "execution_count": 514,
   "outputs": [
    {
     "name": "stdout",
     "output_type": "stream",
     "text": [
      "DecisionTree Accuracy:  0.7823567470252327\n",
      "DecisionTree Confusion Matrix:\n",
      "[[23529  3983]\n",
      " [ 3754  4283]]\n",
      "decision tree dtree feature importance:\n"
     ]
    },
    {
     "data": {
      "text/plain": "            FName     Score\n11    Humidity3pm  0.266493\n13    Pressure3pm  0.070134\n5   WindGustSpeed  0.065499\n3        Rainfall  0.061755\n1         MinTemp  0.052217\n10    Humidity9am  0.052194\n12    Pressure9am  0.048039\n16        Temp9am  0.042975\n2         MaxTemp  0.042970\n17        Temp3pm  0.041659\n0        Location  0.040381\n8    WindSpeed9am  0.036237\n9    WindSpeed3pm  0.034998\n15       Cloud3pm  0.031621\n4     WindGustDir  0.030955\n6      WindDir9am  0.030737\n7      WindDir3pm  0.030037\n14       Cloud9am  0.019316\n18      RainToday  0.001781",
      "text/html": "<div>\n<style scoped>\n    .dataframe tbody tr th:only-of-type {\n        vertical-align: middle;\n    }\n\n    .dataframe tbody tr th {\n        vertical-align: top;\n    }\n\n    .dataframe thead th {\n        text-align: right;\n    }\n</style>\n<table border=\"1\" class=\"dataframe\">\n  <thead>\n    <tr style=\"text-align: right;\">\n      <th></th>\n      <th>FName</th>\n      <th>Score</th>\n    </tr>\n  </thead>\n  <tbody>\n    <tr>\n      <th>11</th>\n      <td>Humidity3pm</td>\n      <td>0.266493</td>\n    </tr>\n    <tr>\n      <th>13</th>\n      <td>Pressure3pm</td>\n      <td>0.070134</td>\n    </tr>\n    <tr>\n      <th>5</th>\n      <td>WindGustSpeed</td>\n      <td>0.065499</td>\n    </tr>\n    <tr>\n      <th>3</th>\n      <td>Rainfall</td>\n      <td>0.061755</td>\n    </tr>\n    <tr>\n      <th>1</th>\n      <td>MinTemp</td>\n      <td>0.052217</td>\n    </tr>\n    <tr>\n      <th>10</th>\n      <td>Humidity9am</td>\n      <td>0.052194</td>\n    </tr>\n    <tr>\n      <th>12</th>\n      <td>Pressure9am</td>\n      <td>0.048039</td>\n    </tr>\n    <tr>\n      <th>16</th>\n      <td>Temp9am</td>\n      <td>0.042975</td>\n    </tr>\n    <tr>\n      <th>2</th>\n      <td>MaxTemp</td>\n      <td>0.042970</td>\n    </tr>\n    <tr>\n      <th>17</th>\n      <td>Temp3pm</td>\n      <td>0.041659</td>\n    </tr>\n    <tr>\n      <th>0</th>\n      <td>Location</td>\n      <td>0.040381</td>\n    </tr>\n    <tr>\n      <th>8</th>\n      <td>WindSpeed9am</td>\n      <td>0.036237</td>\n    </tr>\n    <tr>\n      <th>9</th>\n      <td>WindSpeed3pm</td>\n      <td>0.034998</td>\n    </tr>\n    <tr>\n      <th>15</th>\n      <td>Cloud3pm</td>\n      <td>0.031621</td>\n    </tr>\n    <tr>\n      <th>4</th>\n      <td>WindGustDir</td>\n      <td>0.030955</td>\n    </tr>\n    <tr>\n      <th>6</th>\n      <td>WindDir9am</td>\n      <td>0.030737</td>\n    </tr>\n    <tr>\n      <th>7</th>\n      <td>WindDir3pm</td>\n      <td>0.030037</td>\n    </tr>\n    <tr>\n      <th>14</th>\n      <td>Cloud9am</td>\n      <td>0.019316</td>\n    </tr>\n    <tr>\n      <th>18</th>\n      <td>RainToday</td>\n      <td>0.001781</td>\n    </tr>\n  </tbody>\n</table>\n</div>"
     },
     "execution_count": 514,
     "metadata": {},
     "output_type": "execute_result"
    }
   ],
   "source": [
    "decisionTree_Model(x_train, x_test, y_train, y_test, X)"
   ],
   "metadata": {
    "collapsed": false,
    "pycharm": {
     "name": "#%%\n"
    }
   }
  },
  {
   "cell_type": "code",
   "execution_count": 515,
   "outputs": [
    {
     "name": "stdout",
     "output_type": "stream",
     "text": [
      "\n",
      "confusion_matrix from Gaussian naive bayes:\n",
      "[[24207  3305]\n",
      " [ 3552  4485]]\n",
      "accuracy = 0.807111311147993\n",
      "gausianNB feature importance:\n"
     ]
    },
    {
     "data": {
      "text/plain": "          Feature  Significance\n11    Humidity3pm      0.016034\n3        Rainfall      0.012445\n13    Pressure3pm      0.004737\n5   WindGustSpeed      0.004670\n12    Pressure9am      0.003061\n15       Cloud3pm      0.002712\n1         MinTemp      0.000805\n14       Cloud9am      0.000428\n10    Humidity9am      0.000084\n0        Location     -0.000056\n8    WindSpeed9am     -0.000264\n9    WindSpeed3pm     -0.000428\n16        Temp9am     -0.000467\n7      WindDir3pm     -0.000473\n4     WindGustDir     -0.000776\n18      RainToday     -0.001046\n6      WindDir9am     -0.001204\n17        Temp3pm     -0.001328\n2         MaxTemp     -0.001699",
      "text/html": "<div>\n<style scoped>\n    .dataframe tbody tr th:only-of-type {\n        vertical-align: middle;\n    }\n\n    .dataframe tbody tr th {\n        vertical-align: top;\n    }\n\n    .dataframe thead th {\n        text-align: right;\n    }\n</style>\n<table border=\"1\" class=\"dataframe\">\n  <thead>\n    <tr style=\"text-align: right;\">\n      <th></th>\n      <th>Feature</th>\n      <th>Significance</th>\n    </tr>\n  </thead>\n  <tbody>\n    <tr>\n      <th>11</th>\n      <td>Humidity3pm</td>\n      <td>0.016034</td>\n    </tr>\n    <tr>\n      <th>3</th>\n      <td>Rainfall</td>\n      <td>0.012445</td>\n    </tr>\n    <tr>\n      <th>13</th>\n      <td>Pressure3pm</td>\n      <td>0.004737</td>\n    </tr>\n    <tr>\n      <th>5</th>\n      <td>WindGustSpeed</td>\n      <td>0.004670</td>\n    </tr>\n    <tr>\n      <th>12</th>\n      <td>Pressure9am</td>\n      <td>0.003061</td>\n    </tr>\n    <tr>\n      <th>15</th>\n      <td>Cloud3pm</td>\n      <td>0.002712</td>\n    </tr>\n    <tr>\n      <th>1</th>\n      <td>MinTemp</td>\n      <td>0.000805</td>\n    </tr>\n    <tr>\n      <th>14</th>\n      <td>Cloud9am</td>\n      <td>0.000428</td>\n    </tr>\n    <tr>\n      <th>10</th>\n      <td>Humidity9am</td>\n      <td>0.000084</td>\n    </tr>\n    <tr>\n      <th>0</th>\n      <td>Location</td>\n      <td>-0.000056</td>\n    </tr>\n    <tr>\n      <th>8</th>\n      <td>WindSpeed9am</td>\n      <td>-0.000264</td>\n    </tr>\n    <tr>\n      <th>9</th>\n      <td>WindSpeed3pm</td>\n      <td>-0.000428</td>\n    </tr>\n    <tr>\n      <th>16</th>\n      <td>Temp9am</td>\n      <td>-0.000467</td>\n    </tr>\n    <tr>\n      <th>7</th>\n      <td>WindDir3pm</td>\n      <td>-0.000473</td>\n    </tr>\n    <tr>\n      <th>4</th>\n      <td>WindGustDir</td>\n      <td>-0.000776</td>\n    </tr>\n    <tr>\n      <th>18</th>\n      <td>RainToday</td>\n      <td>-0.001046</td>\n    </tr>\n    <tr>\n      <th>6</th>\n      <td>WindDir9am</td>\n      <td>-0.001204</td>\n    </tr>\n    <tr>\n      <th>17</th>\n      <td>Temp3pm</td>\n      <td>-0.001328</td>\n    </tr>\n    <tr>\n      <th>2</th>\n      <td>MaxTemp</td>\n      <td>-0.001699</td>\n    </tr>\n  </tbody>\n</table>\n</div>"
     },
     "execution_count": 515,
     "metadata": {},
     "output_type": "execute_result"
    }
   ],
   "source": [
    "GausianNB_Model(x_train, x_test, y_train, y_test, X)"
   ],
   "metadata": {
    "collapsed": false,
    "pycharm": {
     "name": "#%%\n"
    }
   }
  },
  {
   "cell_type": "markdown",
   "source": [
    "Looking at the first model assumptions we can definitely conclude that the Humidity3pm column is the most important\n",
    "for determining a significance. But there are a few more ways to go through this. The example below will show the\n",
    "new models when dropping \"RainToday\" which has the least significance on the decisionTree Model"
   ],
   "metadata": {
    "collapsed": false,
    "pycharm": {
     "name": "#%% md\n"
    }
   }
  },
  {
   "cell_type": "code",
   "execution_count": 516,
   "outputs": [
    {
     "name": "stderr",
     "output_type": "stream",
     "text": [
      "C:\\Users\\dunca\\AppData\\Local\\Temp/ipykernel_29804/3042352463.py:7: FutureWarning: In a future version of pandas all arguments of DataFrame.drop except for the argument 'labels' will be keyword-only\n",
      "  X = X.drop(\"RainTomorrow\",1)\n",
      "C:\\Users\\dunca\\AppData\\Local\\Temp/ipykernel_29804/3042352463.py:9: FutureWarning: In a future version of pandas all arguments of DataFrame.drop except for the argument 'labels' will be keyword-only\n",
      "  X = X.drop(drops, 1)\n"
     ]
    },
    {
     "name": "stdout",
     "output_type": "stream",
     "text": [
      "DecisionTree Accuracy:  0.7802751132240007\n",
      "DecisionTree Confusion Matrix:\n",
      "[[23487  4025]\n",
      " [ 3786  4251]]\n",
      "decision tree dtree feature importance:\n"
     ]
    },
    {
     "data": {
      "text/plain": "            FName     Score\n11    Humidity3pm  0.266565\n13    Pressure3pm  0.070425\n5   WindGustSpeed  0.065828\n3        Rainfall  0.063135\n10    Humidity9am  0.052556\n1         MinTemp  0.051678\n12    Pressure9am  0.046830\n2         MaxTemp  0.043494\n17        Temp3pm  0.042539\n16        Temp9am  0.041994\n0        Location  0.041105\n9    WindSpeed3pm  0.036300\n8    WindSpeed9am  0.035512\n6      WindDir9am  0.031471\n4     WindGustDir  0.031423\n15       Cloud3pm  0.030239\n7      WindDir3pm  0.029796\n14       Cloud9am  0.019108",
      "text/html": "<div>\n<style scoped>\n    .dataframe tbody tr th:only-of-type {\n        vertical-align: middle;\n    }\n\n    .dataframe tbody tr th {\n        vertical-align: top;\n    }\n\n    .dataframe thead th {\n        text-align: right;\n    }\n</style>\n<table border=\"1\" class=\"dataframe\">\n  <thead>\n    <tr style=\"text-align: right;\">\n      <th></th>\n      <th>FName</th>\n      <th>Score</th>\n    </tr>\n  </thead>\n  <tbody>\n    <tr>\n      <th>11</th>\n      <td>Humidity3pm</td>\n      <td>0.266565</td>\n    </tr>\n    <tr>\n      <th>13</th>\n      <td>Pressure3pm</td>\n      <td>0.070425</td>\n    </tr>\n    <tr>\n      <th>5</th>\n      <td>WindGustSpeed</td>\n      <td>0.065828</td>\n    </tr>\n    <tr>\n      <th>3</th>\n      <td>Rainfall</td>\n      <td>0.063135</td>\n    </tr>\n    <tr>\n      <th>10</th>\n      <td>Humidity9am</td>\n      <td>0.052556</td>\n    </tr>\n    <tr>\n      <th>1</th>\n      <td>MinTemp</td>\n      <td>0.051678</td>\n    </tr>\n    <tr>\n      <th>12</th>\n      <td>Pressure9am</td>\n      <td>0.046830</td>\n    </tr>\n    <tr>\n      <th>2</th>\n      <td>MaxTemp</td>\n      <td>0.043494</td>\n    </tr>\n    <tr>\n      <th>17</th>\n      <td>Temp3pm</td>\n      <td>0.042539</td>\n    </tr>\n    <tr>\n      <th>16</th>\n      <td>Temp9am</td>\n      <td>0.041994</td>\n    </tr>\n    <tr>\n      <th>0</th>\n      <td>Location</td>\n      <td>0.041105</td>\n    </tr>\n    <tr>\n      <th>9</th>\n      <td>WindSpeed3pm</td>\n      <td>0.036300</td>\n    </tr>\n    <tr>\n      <th>8</th>\n      <td>WindSpeed9am</td>\n      <td>0.035512</td>\n    </tr>\n    <tr>\n      <th>6</th>\n      <td>WindDir9am</td>\n      <td>0.031471</td>\n    </tr>\n    <tr>\n      <th>4</th>\n      <td>WindGustDir</td>\n      <td>0.031423</td>\n    </tr>\n    <tr>\n      <th>15</th>\n      <td>Cloud3pm</td>\n      <td>0.030239</td>\n    </tr>\n    <tr>\n      <th>7</th>\n      <td>WindDir3pm</td>\n      <td>0.029796</td>\n    </tr>\n    <tr>\n      <th>14</th>\n      <td>Cloud9am</td>\n      <td>0.019108</td>\n    </tr>\n  </tbody>\n</table>\n</div>"
     },
     "execution_count": 516,
     "metadata": {},
     "output_type": "execute_result"
    }
   ],
   "source": [
    "x_train, x_test, y_train, y_test, X, Y = train_data(df, \"RainToday\")\n",
    "decisionTree_Model(x_train, x_test, y_train, y_test, X)"
   ],
   "metadata": {
    "collapsed": false,
    "pycharm": {
     "name": "#%%\n"
    }
   }
  },
  {
   "cell_type": "code",
   "execution_count": 517,
   "outputs": [
    {
     "name": "stdout",
     "output_type": "stream",
     "text": [
      "\n",
      "confusion_matrix from Gaussian naive bayes:\n",
      "[[24769  2743]\n",
      " [ 3747  4290]]\n",
      "accuracy = 0.8174350895946441\n",
      "gausianNB feature importance:\n"
     ]
    },
    {
     "data": {
      "text/plain": "          Feature  Significance\n11    Humidity3pm      0.023455\n3        Rainfall      0.016225\n5   WindGustSpeed      0.005018\n15       Cloud3pm      0.004506\n13    Pressure3pm      0.004388\n10    Humidity9am      0.003539\n12    Pressure9am      0.003151\n1         MinTemp      0.001980\n14       Cloud9am      0.000422\n0        Location      0.000135\n16        Temp9am      0.000045\n4     WindGustDir     -0.000287\n7      WindDir3pm     -0.000366\n6      WindDir9am     -0.000405\n17        Temp3pm     -0.000534\n8    WindSpeed9am     -0.000585\n9    WindSpeed3pm     -0.000872\n2         MaxTemp     -0.000928",
      "text/html": "<div>\n<style scoped>\n    .dataframe tbody tr th:only-of-type {\n        vertical-align: middle;\n    }\n\n    .dataframe tbody tr th {\n        vertical-align: top;\n    }\n\n    .dataframe thead th {\n        text-align: right;\n    }\n</style>\n<table border=\"1\" class=\"dataframe\">\n  <thead>\n    <tr style=\"text-align: right;\">\n      <th></th>\n      <th>Feature</th>\n      <th>Significance</th>\n    </tr>\n  </thead>\n  <tbody>\n    <tr>\n      <th>11</th>\n      <td>Humidity3pm</td>\n      <td>0.023455</td>\n    </tr>\n    <tr>\n      <th>3</th>\n      <td>Rainfall</td>\n      <td>0.016225</td>\n    </tr>\n    <tr>\n      <th>5</th>\n      <td>WindGustSpeed</td>\n      <td>0.005018</td>\n    </tr>\n    <tr>\n      <th>15</th>\n      <td>Cloud3pm</td>\n      <td>0.004506</td>\n    </tr>\n    <tr>\n      <th>13</th>\n      <td>Pressure3pm</td>\n      <td>0.004388</td>\n    </tr>\n    <tr>\n      <th>10</th>\n      <td>Humidity9am</td>\n      <td>0.003539</td>\n    </tr>\n    <tr>\n      <th>12</th>\n      <td>Pressure9am</td>\n      <td>0.003151</td>\n    </tr>\n    <tr>\n      <th>1</th>\n      <td>MinTemp</td>\n      <td>0.001980</td>\n    </tr>\n    <tr>\n      <th>14</th>\n      <td>Cloud9am</td>\n      <td>0.000422</td>\n    </tr>\n    <tr>\n      <th>0</th>\n      <td>Location</td>\n      <td>0.000135</td>\n    </tr>\n    <tr>\n      <th>16</th>\n      <td>Temp9am</td>\n      <td>0.000045</td>\n    </tr>\n    <tr>\n      <th>4</th>\n      <td>WindGustDir</td>\n      <td>-0.000287</td>\n    </tr>\n    <tr>\n      <th>7</th>\n      <td>WindDir3pm</td>\n      <td>-0.000366</td>\n    </tr>\n    <tr>\n      <th>6</th>\n      <td>WindDir9am</td>\n      <td>-0.000405</td>\n    </tr>\n    <tr>\n      <th>17</th>\n      <td>Temp3pm</td>\n      <td>-0.000534</td>\n    </tr>\n    <tr>\n      <th>8</th>\n      <td>WindSpeed9am</td>\n      <td>-0.000585</td>\n    </tr>\n    <tr>\n      <th>9</th>\n      <td>WindSpeed3pm</td>\n      <td>-0.000872</td>\n    </tr>\n    <tr>\n      <th>2</th>\n      <td>MaxTemp</td>\n      <td>-0.000928</td>\n    </tr>\n  </tbody>\n</table>\n</div>"
     },
     "execution_count": 517,
     "metadata": {},
     "output_type": "execute_result"
    }
   ],
   "source": [
    "GausianNB_Model(x_train, x_test, y_train, y_test, X)"
   ],
   "metadata": {
    "collapsed": false,
    "pycharm": {
     "name": "#%%\n"
    }
   }
  },
  {
   "cell_type": "markdown",
   "source": [
    "Interestingly enough. When we drop the Rain Today the decision tree model accuracy model goes down.\n",
    "Where as Gausiann model accuracy goes up.\n",
    "Decision Tree Accuracy 0.7823567470252327 -> 0.7802751132240007\n",
    "Gaussian Accuracy 0.807111311147993 -> 0.8174350895946441\n",
    "\n",
    "Now to have a bit of fun with assignment. I will use itertool to go through and run through all the combinations on the\n",
    "model and see which one gives me the highest accuracy."
   ],
   "metadata": {
    "collapsed": false,
    "pycharm": {
     "name": "#%% md\n"
    }
   }
  },
  {
   "cell_type": "code",
   "execution_count": 517,
   "outputs": [],
   "source": [],
   "metadata": {
    "collapsed": false,
    "pycharm": {
     "name": "#%%\n"
    }
   }
  }
 ],
 "metadata": {
  "kernelspec": {
   "name": "pycharm-865e1948",
   "language": "python",
   "display_name": "PyCharm (GITHUB_REPOSITORY)"
  },
  "language_info": {
   "codemirror_mode": {
    "name": "ipython",
    "version": 2
   },
   "file_extension": ".py",
   "mimetype": "text/x-python",
   "name": "python",
   "nbconvert_exporter": "python",
   "pygments_lexer": "ipython2",
   "version": "2.7.6"
  }
 },
 "nbformat": 4,
 "nbformat_minor": 0
}