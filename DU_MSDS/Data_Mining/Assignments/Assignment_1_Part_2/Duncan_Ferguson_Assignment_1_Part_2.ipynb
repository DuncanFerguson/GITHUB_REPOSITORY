{
 "cells": [
  {
   "cell_type": "markdown",
   "metadata": {
    "collapsed": true,
    "pycharm": {
     "name": "#%% md\n"
    }
   },
   "source": [
    "# Assignment 1 - Part 2\n",
    "Student: Duncan Ferguson <br>\n",
    "Student Id: 871641260 <br>\n",
    "Class: Comp 4431-1 <br>\n",
    "Assignment: Assignment 1 part 2 <br>\n",
    "Date: 10/26/2021 <br>\n",
    "Group Members from Assignment 5: Emma Bright, Mike Santoro <br>\n",
    "\n",
    "Association Rules were originally created for mining information for market baskets.  But, they can provide insight into\n",
    " other applications also.  In this part of the assignment you will use the mlxtend library functions apriori( )\n",
    "  and association_rules( ) to explore text data.  Specifically, we will look at the text from three books:\n",
    "\n",
    "- Sense and Sensibility, by Jane Austin, published 1811\n",
    "- A Tale of Two Cities, by Charles Dickens, published 1859\n",
    "- On The Origin of Species, by Charles Darwin, published 1859 (although written over a 20 year period preceding that\n",
    "date).\n",
    "\n",
    "All three books were written in english by english people at \"roughly\" the same time, hence one could assume some\n",
    "commonality in writing style.\n",
    "\n",
    "Mining using association rules assumes a database of a large number of transactions with some number of items per\n",
    "transaction.  I have processed the text of these books to be presented in a similar fashion, where each \"transaction\"\n",
    "is now a sentence from the book with the words comma-separated.  Note, some of the sentences in the books are quite\n",
    "long which would result in intractable run times (and enormous space to hold all possible itemsets). As we saw from\n",
    "our reading, the number of subsets to be considered increases exponentially with the number of items per transaction.\n",
    " For example, assume a sentence has 60 words.   Then we might need to consider all possible subsets of size 60, 59, 58,\n",
    "  57, ... and 1. The number of these would be:  Choose(60,60) + Choose(60,59) + Choose(60,58) + ...Choose(60,2) +\n",
    "  Choose(60,1).  Clearly not tractable!\n",
    "\n",
    "To make this problem tractable I have processed the texts to the they contain at most N words per line (transaction),\n",
    " where N = {10,12,14}.  For example, assume N = 14.  I processed the file into a list of sentences.  Then, for each\n",
    " sentence, if there were more than 14 words I cut into into at most 14 work chunks.  The beginning of a new sentence\n",
    " starts a new line.  I also removed all punctuation and made everything lower case.  As far as text analysis goes,\n",
    " this loses some useful information, but it greatly simplifies the problem and this assignment is more about\n",
    "  understanding how to use association rules and frequent itemsets.\n",
    "\n",
    "On my computer the files for N=14 ran very quickly, about 5 seconds or less depending on the min-support value used,\n",
    " but I have provided the smaller sets just in case you need to use them due to having a slower computer. To figure out\n",
    " which set of files to use, I suggest you run your code on the 10 words per line, 12 words per line, and 14 words per\n",
    "  line data sets in turn to see how fast they run.  If you computer works well on the 14, only use the 14 for all three\n",
    "   texts.  If you need to use the 10 or 12, only use that value for all three texts.\n",
    "\n",
    "You are to explore each of the three texts and see what you can determine about the texts individually, and compared to\n",
    " each other.  Write up a summary of commonality and differences explaining the parameter values used.  I suggest you\n",
    "  look at frequent 1-itemsets,  2-itemsets and possibly 3-itemsets  as well as association rules.  As a starting point\n",
    "  I suggest you start with a min-support value of 0.02 and a min-confidence value of 0.2.  Then increase/decrease both\n",
    "   as you see fit.  Only consider those association rules that have a lift value > someValue, where someValue is around\n",
    "    1.1 .. 1.5.\n",
    "\n",
    "The same values may not work well for each of the datasets, it is fine to use different values for different texts,\n",
    "just make sure to explain what values you used and whey.\n",
    "\n",
    "Write up your experiments as a report and upload the report as a .pdf file.  Also attach your code for one of your\n",
    "experiments (all the others should be quite similar).  You do not need one file that runs everything, how much you\n",
    "\"automate\" via python scripting is up to you."
   ]
  },
  {
   "cell_type": "code",
   "execution_count": 381,
   "outputs": [],
   "source": [
    "# Adding in all the import statements\n",
    "from csv import reader\n",
    "import pandas as pd\n",
    "from mlxtend.frequent_patterns import apriori, association_rules\n",
    "from mlxtend.preprocessing import TransactionEncoder\n",
    "\n",
    "# pd.set_option('display.max_rows', None)\n",
    "# pd.set_option('display.width', None)"
   ],
   "metadata": {
    "collapsed": false,
    "pycharm": {
     "name": "#%%\n"
    }
   }
  },
  {
   "cell_type": "code",
   "execution_count": 382,
   "outputs": [],
   "source": [
    "# importing the texts\n",
    "def fill_book_list(file_name):\n",
    "    \"\"\"This function reads in the book\"\"\"\n",
    "    book = []\n",
    "    with open(file_name, 'r') as read_obj:\n",
    "        csv_reader = reader(read_obj)\n",
    "        for row in csv_reader:\n",
    "            book.append(row)\n",
    "    return book\n",
    "\n",
    "book1 = fill_book_list('input_SenseAndSensibility_14.csv')\n",
    "book2 = fill_book_list('input_TaleOfTwoCities_14.csv')\n",
    "book3 = fill_book_list('input_OriginOfSpecies_14.csv')"
   ],
   "metadata": {
    "collapsed": false,
    "pycharm": {
     "name": "#%%\n"
    }
   }
  },
  {
   "cell_type": "markdown",
   "source": [
    "Creating a function for using the transaction encoder to transform the books into an 1-hot boolean encoded numpy array\n",
    "and convert into a dataframe for the convenience of passing into apriori"
   ],
   "metadata": {
    "collapsed": false,
    "pycharm": {
     "name": "#%% md\n"
    }
   }
  },
  {
   "cell_type": "code",
   "execution_count": 383,
   "outputs": [],
   "source": [
    "def transact_1_hot(book):\n",
    "    \"\"\"Creating a function to easily run the apriori and edit the min_support, min_threshold, and confidence\"\"\"\n",
    "    te = TransactionEncoder()\n",
    "    te_ary = te.fit(book).transform(book)\n",
    "    df = pd.DataFrame(te_ary, columns= te.columns_)\n",
    "    return df\n",
    "\n",
    "book1_df = transact_1_hot(book1)\n",
    "book2_df = transact_1_hot(book2)\n",
    "book3_df = transact_1_hot(book3)"
   ],
   "metadata": {
    "collapsed": false,
    "pycharm": {
     "name": "#%%\n"
    }
   }
  },
  {
   "cell_type": "markdown",
   "source": [
    "Displaying the head of all three books"
   ],
   "metadata": {
    "collapsed": false,
    "pycharm": {
     "name": "#%% md\n"
    }
   }
  },
  {
   "cell_type": "code",
   "execution_count": 384,
   "outputs": [
    {
     "data": {
      "text/plain": "     200  7000l      _     _a   _all  _almost_  _always_   _am_  _amiably  \\\n0  False  False  False  False  False     False     False  False     False   \n1  False  False  False  False  False     False     False  False     False   \n2  False  False  False  False  False     False     False  False     False   \n3  False  False  False  False  False     False     False  False     False   \n4  False  False  False  False  False     False     False  False     False   \n\n    _and  ...  youthere  youthful  youtravel  youwill  youwilloughby  youyet  \\\n0  False  ...     False     False      False    False          False   False   \n1  False  ...     False     False      False    False          False   False   \n2  False  ...     False     False      False    False          False   False   \n3  False  ...     False     False      False    False          False   False   \n4  False  ...     False     False      False    False          False   False   \n\n    zeal  zealous  zealously     Ã   \n0  False    False      False  False  \n1  False    False      False  False  \n2  False    False      False  False  \n3  False    False      False  False  \n4  False    False      False  False  \n\n[5 rows x 9659 columns]",
      "text/html": "<div>\n<style scoped>\n    .dataframe tbody tr th:only-of-type {\n        vertical-align: middle;\n    }\n\n    .dataframe tbody tr th {\n        vertical-align: top;\n    }\n\n    .dataframe thead th {\n        text-align: right;\n    }\n</style>\n<table border=\"1\" class=\"dataframe\">\n  <thead>\n    <tr style=\"text-align: right;\">\n      <th></th>\n      <th>200</th>\n      <th>7000l</th>\n      <th>_</th>\n      <th>_a</th>\n      <th>_all</th>\n      <th>_almost_</th>\n      <th>_always_</th>\n      <th>_am_</th>\n      <th>_amiably</th>\n      <th>_and</th>\n      <th>...</th>\n      <th>youthere</th>\n      <th>youthful</th>\n      <th>youtravel</th>\n      <th>youwill</th>\n      <th>youwilloughby</th>\n      <th>youyet</th>\n      <th>zeal</th>\n      <th>zealous</th>\n      <th>zealously</th>\n      <th>Ã</th>\n    </tr>\n  </thead>\n  <tbody>\n    <tr>\n      <th>0</th>\n      <td>False</td>\n      <td>False</td>\n      <td>False</td>\n      <td>False</td>\n      <td>False</td>\n      <td>False</td>\n      <td>False</td>\n      <td>False</td>\n      <td>False</td>\n      <td>False</td>\n      <td>...</td>\n      <td>False</td>\n      <td>False</td>\n      <td>False</td>\n      <td>False</td>\n      <td>False</td>\n      <td>False</td>\n      <td>False</td>\n      <td>False</td>\n      <td>False</td>\n      <td>False</td>\n    </tr>\n    <tr>\n      <th>1</th>\n      <td>False</td>\n      <td>False</td>\n      <td>False</td>\n      <td>False</td>\n      <td>False</td>\n      <td>False</td>\n      <td>False</td>\n      <td>False</td>\n      <td>False</td>\n      <td>False</td>\n      <td>...</td>\n      <td>False</td>\n      <td>False</td>\n      <td>False</td>\n      <td>False</td>\n      <td>False</td>\n      <td>False</td>\n      <td>False</td>\n      <td>False</td>\n      <td>False</td>\n      <td>False</td>\n    </tr>\n    <tr>\n      <th>2</th>\n      <td>False</td>\n      <td>False</td>\n      <td>False</td>\n      <td>False</td>\n      <td>False</td>\n      <td>False</td>\n      <td>False</td>\n      <td>False</td>\n      <td>False</td>\n      <td>False</td>\n      <td>...</td>\n      <td>False</td>\n      <td>False</td>\n      <td>False</td>\n      <td>False</td>\n      <td>False</td>\n      <td>False</td>\n      <td>False</td>\n      <td>False</td>\n      <td>False</td>\n      <td>False</td>\n    </tr>\n    <tr>\n      <th>3</th>\n      <td>False</td>\n      <td>False</td>\n      <td>False</td>\n      <td>False</td>\n      <td>False</td>\n      <td>False</td>\n      <td>False</td>\n      <td>False</td>\n      <td>False</td>\n      <td>False</td>\n      <td>...</td>\n      <td>False</td>\n      <td>False</td>\n      <td>False</td>\n      <td>False</td>\n      <td>False</td>\n      <td>False</td>\n      <td>False</td>\n      <td>False</td>\n      <td>False</td>\n      <td>False</td>\n    </tr>\n    <tr>\n      <th>4</th>\n      <td>False</td>\n      <td>False</td>\n      <td>False</td>\n      <td>False</td>\n      <td>False</td>\n      <td>False</td>\n      <td>False</td>\n      <td>False</td>\n      <td>False</td>\n      <td>False</td>\n      <td>...</td>\n      <td>False</td>\n      <td>False</td>\n      <td>False</td>\n      <td>False</td>\n      <td>False</td>\n      <td>False</td>\n      <td>False</td>\n      <td>False</td>\n      <td>False</td>\n      <td>False</td>\n    </tr>\n  </tbody>\n</table>\n<p>5 rows × 9659 columns</p>\n</div>"
     },
     "execution_count": 384,
     "metadata": {},
     "output_type": "execute_result"
    }
   ],
   "source": [
    "book1_df.head()"
   ],
   "metadata": {
    "collapsed": false,
    "pycharm": {
     "name": "#%%\n"
    }
   }
  },
  {
   "cell_type": "code",
   "execution_count": 385,
   "outputs": [
    {
     "data": {
      "text/plain": "    1757   1767  211792      _   _am_  _are_collected   _at_  _bid_   _do_  \\\n0  False  False   False  False  False           False  False  False  False   \n1  False  False   False  False  False           False  False  False  False   \n2  False  False   False  False  False           False  False  False  False   \n3  False  False   False  False  False           False  False  False  False   \n4  False  False   False  False  False           False  False  False  False   \n\n    _don  ...  youso  youth  youthful  youthfulness  youths  youwell  youwill  \\\n0  False  ...  False  False     False         False   False    False    False   \n1  False  ...  False  False     False         False   False    False    False   \n2  False  ...  False  False     False         False   False    False    False   \n3  False  ...  False  False     False         False   False    False    False   \n4  False  ...  False  False     False         False   False    False    False   \n\n   youworth  youyes  zealous  \n0     False   False    False  \n1     False   False    False  \n2     False   False    False  \n3     False   False    False  \n4     False   False    False  \n\n[5 rows x 13254 columns]",
      "text/html": "<div>\n<style scoped>\n    .dataframe tbody tr th:only-of-type {\n        vertical-align: middle;\n    }\n\n    .dataframe tbody tr th {\n        vertical-align: top;\n    }\n\n    .dataframe thead th {\n        text-align: right;\n    }\n</style>\n<table border=\"1\" class=\"dataframe\">\n  <thead>\n    <tr style=\"text-align: right;\">\n      <th></th>\n      <th>1757</th>\n      <th>1767</th>\n      <th>211792</th>\n      <th>_</th>\n      <th>_am_</th>\n      <th>_are_collected</th>\n      <th>_at_</th>\n      <th>_bid_</th>\n      <th>_do_</th>\n      <th>_don</th>\n      <th>...</th>\n      <th>youso</th>\n      <th>youth</th>\n      <th>youthful</th>\n      <th>youthfulness</th>\n      <th>youths</th>\n      <th>youwell</th>\n      <th>youwill</th>\n      <th>youworth</th>\n      <th>youyes</th>\n      <th>zealous</th>\n    </tr>\n  </thead>\n  <tbody>\n    <tr>\n      <th>0</th>\n      <td>False</td>\n      <td>False</td>\n      <td>False</td>\n      <td>False</td>\n      <td>False</td>\n      <td>False</td>\n      <td>False</td>\n      <td>False</td>\n      <td>False</td>\n      <td>False</td>\n      <td>...</td>\n      <td>False</td>\n      <td>False</td>\n      <td>False</td>\n      <td>False</td>\n      <td>False</td>\n      <td>False</td>\n      <td>False</td>\n      <td>False</td>\n      <td>False</td>\n      <td>False</td>\n    </tr>\n    <tr>\n      <th>1</th>\n      <td>False</td>\n      <td>False</td>\n      <td>False</td>\n      <td>False</td>\n      <td>False</td>\n      <td>False</td>\n      <td>False</td>\n      <td>False</td>\n      <td>False</td>\n      <td>False</td>\n      <td>...</td>\n      <td>False</td>\n      <td>False</td>\n      <td>False</td>\n      <td>False</td>\n      <td>False</td>\n      <td>False</td>\n      <td>False</td>\n      <td>False</td>\n      <td>False</td>\n      <td>False</td>\n    </tr>\n    <tr>\n      <th>2</th>\n      <td>False</td>\n      <td>False</td>\n      <td>False</td>\n      <td>False</td>\n      <td>False</td>\n      <td>False</td>\n      <td>False</td>\n      <td>False</td>\n      <td>False</td>\n      <td>False</td>\n      <td>...</td>\n      <td>False</td>\n      <td>False</td>\n      <td>False</td>\n      <td>False</td>\n      <td>False</td>\n      <td>False</td>\n      <td>False</td>\n      <td>False</td>\n      <td>False</td>\n      <td>False</td>\n    </tr>\n    <tr>\n      <th>3</th>\n      <td>False</td>\n      <td>False</td>\n      <td>False</td>\n      <td>False</td>\n      <td>False</td>\n      <td>False</td>\n      <td>False</td>\n      <td>False</td>\n      <td>False</td>\n      <td>False</td>\n      <td>...</td>\n      <td>False</td>\n      <td>False</td>\n      <td>False</td>\n      <td>False</td>\n      <td>False</td>\n      <td>False</td>\n      <td>False</td>\n      <td>False</td>\n      <td>False</td>\n      <td>False</td>\n    </tr>\n    <tr>\n      <th>4</th>\n      <td>False</td>\n      <td>False</td>\n      <td>False</td>\n      <td>False</td>\n      <td>False</td>\n      <td>False</td>\n      <td>False</td>\n      <td>False</td>\n      <td>False</td>\n      <td>False</td>\n      <td>...</td>\n      <td>False</td>\n      <td>False</td>\n      <td>False</td>\n      <td>False</td>\n      <td>False</td>\n      <td>False</td>\n      <td>False</td>\n      <td>False</td>\n      <td>False</td>\n      <td>False</td>\n    </tr>\n  </tbody>\n</table>\n<p>5 rows × 13254 columns</p>\n</div>"
     },
     "execution_count": 385,
     "metadata": {},
     "output_type": "execute_result"
    }
   ],
   "source": [
    "book2_df.head()"
   ],
   "metadata": {
    "collapsed": false,
    "pycharm": {
     "name": "#%%\n"
    }
   }
  },
  {
   "cell_type": "code",
   "execution_count": 386,
   "outputs": [
    {
     "data": {
      "text/plain": "     000      1     10    100   1000    101    102    107  107330  107416  \\\n0  False  False  False  False  False  False  False  False   False   False   \n1  False  False  False  False  False  False  False  False   False   False   \n2  False  False  False  False  False  False  False  False   False   False   \n3  False  False  False  False  False  False  False  False   False   False   \n4  False  False  False  False  False  False  False  False   False   False   \n\n   ...  zealand  zealand100  zealand201  zealand376  zebra   zero   zone  \\\n0  ...    False       False       False       False  False  False  False   \n1  ...    False       False       False       False  False  False  False   \n2  ...    False       False       False       False  False  False  False   \n3  ...    False       False       False       False  False  False  False   \n4  ...    False       False       False       False  False  False  False   \n\n   zones  zoological  zoologist  \n0  False       False      False  \n1  False       False      False  \n2  False       False      False  \n3  False       False      False  \n4  False       False      False  \n\n[5 rows x 10251 columns]",
      "text/html": "<div>\n<style scoped>\n    .dataframe tbody tr th:only-of-type {\n        vertical-align: middle;\n    }\n\n    .dataframe tbody tr th {\n        vertical-align: top;\n    }\n\n    .dataframe thead th {\n        text-align: right;\n    }\n</style>\n<table border=\"1\" class=\"dataframe\">\n  <thead>\n    <tr style=\"text-align: right;\">\n      <th></th>\n      <th>000</th>\n      <th>1</th>\n      <th>10</th>\n      <th>100</th>\n      <th>1000</th>\n      <th>101</th>\n      <th>102</th>\n      <th>107</th>\n      <th>107330</th>\n      <th>107416</th>\n      <th>...</th>\n      <th>zealand</th>\n      <th>zealand100</th>\n      <th>zealand201</th>\n      <th>zealand376</th>\n      <th>zebra</th>\n      <th>zero</th>\n      <th>zone</th>\n      <th>zones</th>\n      <th>zoological</th>\n      <th>zoologist</th>\n    </tr>\n  </thead>\n  <tbody>\n    <tr>\n      <th>0</th>\n      <td>False</td>\n      <td>False</td>\n      <td>False</td>\n      <td>False</td>\n      <td>False</td>\n      <td>False</td>\n      <td>False</td>\n      <td>False</td>\n      <td>False</td>\n      <td>False</td>\n      <td>...</td>\n      <td>False</td>\n      <td>False</td>\n      <td>False</td>\n      <td>False</td>\n      <td>False</td>\n      <td>False</td>\n      <td>False</td>\n      <td>False</td>\n      <td>False</td>\n      <td>False</td>\n    </tr>\n    <tr>\n      <th>1</th>\n      <td>False</td>\n      <td>False</td>\n      <td>False</td>\n      <td>False</td>\n      <td>False</td>\n      <td>False</td>\n      <td>False</td>\n      <td>False</td>\n      <td>False</td>\n      <td>False</td>\n      <td>...</td>\n      <td>False</td>\n      <td>False</td>\n      <td>False</td>\n      <td>False</td>\n      <td>False</td>\n      <td>False</td>\n      <td>False</td>\n      <td>False</td>\n      <td>False</td>\n      <td>False</td>\n    </tr>\n    <tr>\n      <th>2</th>\n      <td>False</td>\n      <td>False</td>\n      <td>False</td>\n      <td>False</td>\n      <td>False</td>\n      <td>False</td>\n      <td>False</td>\n      <td>False</td>\n      <td>False</td>\n      <td>False</td>\n      <td>...</td>\n      <td>False</td>\n      <td>False</td>\n      <td>False</td>\n      <td>False</td>\n      <td>False</td>\n      <td>False</td>\n      <td>False</td>\n      <td>False</td>\n      <td>False</td>\n      <td>False</td>\n    </tr>\n    <tr>\n      <th>3</th>\n      <td>False</td>\n      <td>False</td>\n      <td>False</td>\n      <td>False</td>\n      <td>False</td>\n      <td>False</td>\n      <td>False</td>\n      <td>False</td>\n      <td>False</td>\n      <td>False</td>\n      <td>...</td>\n      <td>False</td>\n      <td>False</td>\n      <td>False</td>\n      <td>False</td>\n      <td>False</td>\n      <td>False</td>\n      <td>False</td>\n      <td>False</td>\n      <td>False</td>\n      <td>False</td>\n    </tr>\n    <tr>\n      <th>4</th>\n      <td>False</td>\n      <td>False</td>\n      <td>False</td>\n      <td>False</td>\n      <td>False</td>\n      <td>False</td>\n      <td>False</td>\n      <td>False</td>\n      <td>False</td>\n      <td>False</td>\n      <td>...</td>\n      <td>False</td>\n      <td>False</td>\n      <td>False</td>\n      <td>False</td>\n      <td>False</td>\n      <td>False</td>\n      <td>False</td>\n      <td>False</td>\n      <td>False</td>\n      <td>False</td>\n    </tr>\n  </tbody>\n</table>\n<p>5 rows × 10251 columns</p>\n</div>"
     },
     "execution_count": 386,
     "metadata": {},
     "output_type": "execute_result"
    }
   ],
   "source": [
    "book3_df.head()"
   ],
   "metadata": {
    "collapsed": false,
    "pycharm": {
     "name": "#%%\n"
    }
   }
  },
  {
   "cell_type": "markdown",
   "source": [
    "Creating a function to run the apriori algorithm"
   ],
   "metadata": {
    "collapsed": false,
    "pycharm": {
     "name": "#%% md\n"
    }
   },
   "outputs": [
    {
     "ename": "NameError",
     "evalue": "name 'Creating' is not defined",
     "output_type": "error",
     "traceback": [
      "\u001B[1;31m---------------------------------------------------------------------------\u001B[0m",
      "\u001B[1;31mNameError\u001B[0m                                 Traceback (most recent call last)",
      "\u001B[1;32m~\\AppData\\Local\\Temp/ipykernel_17968/1361696391.py\u001B[0m in \u001B[0;36m<module>\u001B[1;34m\u001B[0m\n\u001B[1;32m----> 1\u001B[1;33m \u001B[0mCreating\u001B[0m\u001B[1;33m\u001B[0m\u001B[1;33m\u001B[0m\u001B[0m\n\u001B[0m\u001B[0;32m      2\u001B[0m \u001B[1;33m\u001B[0m\u001B[0m\n",
      "\u001B[1;31mNameError\u001B[0m: name 'Creating' is not defined"
     ]
    }
   ],
   "execution_count": 19
  },
  {
   "cell_type": "code",
   "execution_count": 387,
   "outputs": [],
   "source": [
    "def run_apriori(df, min_support_feed=0.02, min_threshold_feed=0.2):\n",
    "    \"\"\"This function runs through the apriori algorithm\"\"\"\n",
    "    freq_items = apriori(df, min_support=min_support_feed, use_colnames=True)\n",
    "    freq_items['length'] = freq_items['itemsets'].apply(lambda x: len(x))\n",
    "    freq_items.sort_values([\"support\", \"length\"], inplace=True, ascending=False)\n",
    "    rules = association_rules(freq_items, metric=\"confidence\", min_threshold=min_threshold_feed)\n",
    "    return rules, freq_items\n",
    "\n",
    "book1_rules, book1_freq_items = run_apriori(book1_df)\n",
    "book2_rules, book2_freq_items = run_apriori(book2_df)\n",
    "book3_rules, book3_freq_items = run_apriori(book3_df)"
   ],
   "metadata": {
    "collapsed": false,
    "pycharm": {
     "name": "#%%\n"
    }
   }
  },
  {
   "cell_type": "markdown",
   "source": [
    "Displaying the head of all three items, then rules"
   ],
   "metadata": {
    "collapsed": false,
    "pycharm": {
     "name": "#%% md\n"
    }
   }
  },
  {
   "cell_type": "code",
   "execution_count": 388,
   "outputs": [],
   "source": [
    "# book1_freq_items.head()"
   ],
   "metadata": {
    "collapsed": false,
    "pycharm": {
     "name": "#%%\n"
    }
   }
  },
  {
   "cell_type": "code",
   "execution_count": 389,
   "outputs": [],
   "source": [
    "# book1_rules.head()"
   ],
   "metadata": {
    "collapsed": false,
    "pycharm": {
     "name": "#%%\n"
    }
   }
  },
  {
   "cell_type": "code",
   "execution_count": 390,
   "outputs": [],
   "source": [
    "# book2_freq_items.head()"
   ],
   "metadata": {
    "collapsed": false,
    "pycharm": {
     "name": "#%%\n"
    }
   }
  },
  {
   "cell_type": "code",
   "execution_count": 391,
   "outputs": [],
   "source": [
    "# book2_rules.head()"
   ],
   "metadata": {
    "collapsed": false,
    "pycharm": {
     "name": "#%%\n"
    }
   }
  },
  {
   "cell_type": "code",
   "execution_count": 392,
   "outputs": [],
   "source": [
    "# book3_freq_items.head()"
   ],
   "metadata": {
    "collapsed": false,
    "pycharm": {
     "name": "#%%\n"
    }
   }
  },
  {
   "cell_type": "code",
   "execution_count": 393,
   "outputs": [],
   "source": [
    "# book3_rules.head()"
   ],
   "metadata": {
    "collapsed": false,
    "pycharm": {
     "name": "#%%\n"
    }
   }
  },
  {
   "cell_type": "markdown",
   "source": [
    "Taking a look at frequent 1-itemsets that are both strong and interesting"
   ],
   "metadata": {
    "collapsed": false,
    "pycharm": {
     "name": "#%% md\n"
    }
   }
  },
  {
   "cell_type": "code",
   "execution_count": 394,
   "outputs": [],
   "source": [
    "def filter_freq_items(freq_items,items=1):\n",
    "    \"\"\"Looking at string and interesting rules\"\"\"\n",
    "    filtered_freq_items = freq_items[freq_items[\"length\"] == items].copy()\n",
    "    return filtered_freq_items"
   ],
   "metadata": {
    "collapsed": false,
    "pycharm": {
     "name": "#%%\n"
    }
   }
  },
  {
   "cell_type": "markdown",
   "source": [
    "The five most common one words for every book with a min-support of 0.02"
   ],
   "metadata": {
    "collapsed": false,
    "pycharm": {
     "name": "#%% md\n"
    }
   }
  },
  {
   "cell_type": "code",
   "execution_count": 395,
   "outputs": [
    {
     "data": {
      "text/plain": "     support itemsets  length\n61  0.300081     (to)       1\n56  0.283155    (the)       1\n4   0.276672    (and)       1\n42  0.269650     (of)       1\n22  0.174845    (her)       1",
      "text/html": "<div>\n<style scoped>\n    .dataframe tbody tr th:only-of-type {\n        vertical-align: middle;\n    }\n\n    .dataframe tbody tr th {\n        vertical-align: top;\n    }\n\n    .dataframe thead th {\n        text-align: right;\n    }\n</style>\n<table border=\"1\" class=\"dataframe\">\n  <thead>\n    <tr style=\"text-align: right;\">\n      <th></th>\n      <th>support</th>\n      <th>itemsets</th>\n      <th>length</th>\n    </tr>\n  </thead>\n  <tbody>\n    <tr>\n      <th>61</th>\n      <td>0.300081</td>\n      <td>(to)</td>\n      <td>1</td>\n    </tr>\n    <tr>\n      <th>56</th>\n      <td>0.283155</td>\n      <td>(the)</td>\n      <td>1</td>\n    </tr>\n    <tr>\n      <th>4</th>\n      <td>0.276672</td>\n      <td>(and)</td>\n      <td>1</td>\n    </tr>\n    <tr>\n      <th>42</th>\n      <td>0.269650</td>\n      <td>(of)</td>\n      <td>1</td>\n    </tr>\n    <tr>\n      <th>22</th>\n      <td>0.174845</td>\n      <td>(her)</td>\n      <td>1</td>\n    </tr>\n  </tbody>\n</table>\n</div>"
     },
     "execution_count": 395,
     "metadata": {},
     "output_type": "execute_result"
    }
   ],
   "source": [
    "book1_freq_items_1 = filter_freq_items(book1_freq_items)\n",
    "book1_freq_items_1.head(5)"
   ],
   "metadata": {
    "collapsed": false,
    "pycharm": {
     "name": "#%%\n"
    }
   }
  },
  {
   "cell_type": "code",
   "execution_count": 396,
   "outputs": [
    {
     "data": {
      "text/plain": "     support itemsets  length\n44  0.421277    (the)       1\n3   0.324901    (and)       1\n34  0.259023     (of)       1\n50  0.232467     (to)       1\n0   0.192829      (a)       1",
      "text/html": "<div>\n<style scoped>\n    .dataframe tbody tr th:only-of-type {\n        vertical-align: middle;\n    }\n\n    .dataframe tbody tr th {\n        vertical-align: top;\n    }\n\n    .dataframe thead th {\n        text-align: right;\n    }\n</style>\n<table border=\"1\" class=\"dataframe\">\n  <thead>\n    <tr style=\"text-align: right;\">\n      <th></th>\n      <th>support</th>\n      <th>itemsets</th>\n      <th>length</th>\n    </tr>\n  </thead>\n  <tbody>\n    <tr>\n      <th>44</th>\n      <td>0.421277</td>\n      <td>(the)</td>\n      <td>1</td>\n    </tr>\n    <tr>\n      <th>3</th>\n      <td>0.324901</td>\n      <td>(and)</td>\n      <td>1</td>\n    </tr>\n    <tr>\n      <th>34</th>\n      <td>0.259023</td>\n      <td>(of)</td>\n      <td>1</td>\n    </tr>\n    <tr>\n      <th>50</th>\n      <td>0.232467</td>\n      <td>(to)</td>\n      <td>1</td>\n    </tr>\n    <tr>\n      <th>0</th>\n      <td>0.192829</td>\n      <td>(a)</td>\n      <td>1</td>\n    </tr>\n  </tbody>\n</table>\n</div>"
     },
     "execution_count": 396,
     "metadata": {},
     "output_type": "execute_result"
    }
   ],
   "source": [
    "book2_freq_items_1 = filter_freq_items(book2_freq_items)\n",
    "book2_freq_items_1.head(5)"
   ],
   "metadata": {
    "collapsed": false,
    "pycharm": {
     "name": "#%%\n"
    }
   }
  },
  {
   "cell_type": "code",
   "execution_count": 397,
   "outputs": [
    {
     "data": {
      "text/plain": "     support itemsets  length\n50  0.522363    (the)       1\n36  0.434390     (of)       1\n3   0.283951    (and)       1\n25  0.257707     (in)       1\n56  0.225992     (to)       1",
      "text/html": "<div>\n<style scoped>\n    .dataframe tbody tr th:only-of-type {\n        vertical-align: middle;\n    }\n\n    .dataframe tbody tr th {\n        vertical-align: top;\n    }\n\n    .dataframe thead th {\n        text-align: right;\n    }\n</style>\n<table border=\"1\" class=\"dataframe\">\n  <thead>\n    <tr style=\"text-align: right;\">\n      <th></th>\n      <th>support</th>\n      <th>itemsets</th>\n      <th>length</th>\n    </tr>\n  </thead>\n  <tbody>\n    <tr>\n      <th>50</th>\n      <td>0.522363</td>\n      <td>(the)</td>\n      <td>1</td>\n    </tr>\n    <tr>\n      <th>36</th>\n      <td>0.434390</td>\n      <td>(of)</td>\n      <td>1</td>\n    </tr>\n    <tr>\n      <th>3</th>\n      <td>0.283951</td>\n      <td>(and)</td>\n      <td>1</td>\n    </tr>\n    <tr>\n      <th>25</th>\n      <td>0.257707</td>\n      <td>(in)</td>\n      <td>1</td>\n    </tr>\n    <tr>\n      <th>56</th>\n      <td>0.225992</td>\n      <td>(to)</td>\n      <td>1</td>\n    </tr>\n  </tbody>\n</table>\n</div>"
     },
     "execution_count": 397,
     "metadata": {},
     "output_type": "execute_result"
    }
   ],
   "source": [
    "book3_freq_items_1 = filter_freq_items(book3_freq_items)\n",
    "book3_freq_items_1.head(5)"
   ],
   "metadata": {
    "collapsed": false,
    "pycharm": {
     "name": "#%%\n"
    }
   }
  },
  {
   "cell_type": "markdown",
   "source": [
    "### Frequent 1-itemsets\n",
    "When we look at the frequent item sets for 1 word items from the three books we notice a lot of similarities.\n",
    "All three books have the following words in the top 5;\n",
    "- The\n",
    "- To\n",
    "- And\n",
    "- Of <br>\n",
    "\n",
    "Books two and three has a really high support for the word \"the\". The rankings of the top 5 words varies but there is\n",
    "Nothing that is too surprising here. I could see Charles Darwin using \"The\" and \"Of\" almost every sentence trying to talk\n",
    "about the origin of the species. <br>\n",
    "\n",
    "Now looking into the differences we do find that the support ranking order is different. Listed below are the words that\n",
    " appreared in the top 5 for one book but not the others:\n",
    "- \"her\" (book1)\n",
    "- \"a\" (book2)\n",
    "- \"in\" (book3)\n",
    "\n",
    "To find the real differences, we're going to next look at the frequent 2-item sets. This should display some\n",
    "differences between the three books and their writing styles."
   ],
   "metadata": {
    "collapsed": false,
    "pycharm": {
     "name": "#%% md\n"
    }
   }
  },
  {
   "cell_type": "markdown",
   "source": [
    "The five most common two words for every book with a min-support of 0.02"
   ],
   "metadata": {
    "collapsed": false
   }
  },
  {
   "cell_type": "code",
   "execution_count": 398,
   "outputs": [
    {
     "data": {
      "text/plain": "      support    itemsets  length\n177  0.138651   (of, the)       2\n105  0.098316  (the, and)       2\n190  0.095165   (the, to)       2\n106  0.092284   (to, and)       2\n101  0.089943   (of, and)       2",
      "text/html": "<div>\n<style scoped>\n    .dataframe tbody tr th:only-of-type {\n        vertical-align: middle;\n    }\n\n    .dataframe tbody tr th {\n        vertical-align: top;\n    }\n\n    .dataframe thead th {\n        text-align: right;\n    }\n</style>\n<table border=\"1\" class=\"dataframe\">\n  <thead>\n    <tr style=\"text-align: right;\">\n      <th></th>\n      <th>support</th>\n      <th>itemsets</th>\n      <th>length</th>\n    </tr>\n  </thead>\n  <tbody>\n    <tr>\n      <th>177</th>\n      <td>0.138651</td>\n      <td>(of, the)</td>\n      <td>2</td>\n    </tr>\n    <tr>\n      <th>105</th>\n      <td>0.098316</td>\n      <td>(the, and)</td>\n      <td>2</td>\n    </tr>\n    <tr>\n      <th>190</th>\n      <td>0.095165</td>\n      <td>(the, to)</td>\n      <td>2</td>\n    </tr>\n    <tr>\n      <th>106</th>\n      <td>0.092284</td>\n      <td>(to, and)</td>\n      <td>2</td>\n    </tr>\n    <tr>\n      <th>101</th>\n      <td>0.089943</td>\n      <td>(of, and)</td>\n      <td>2</td>\n    </tr>\n  </tbody>\n</table>\n</div>"
     },
     "execution_count": 398,
     "metadata": {},
     "output_type": "execute_result"
    }
   ],
   "source": [
    "book1_freq_items_1 = filter_freq_items(book1_freq_items, 2)\n",
    "book1_freq_items_1.head(5)"
   ],
   "metadata": {
    "collapsed": false,
    "pycharm": {
     "name": "#%%\n"
    }
   }
  },
  {
   "cell_type": "code",
   "execution_count": 399,
   "outputs": [
    {
     "data": {
      "text/plain": "      support    itemsets  length\n151  0.171316   (of, the)       2\n91   0.163672  (the, and)       2\n160  0.109771   (the, to)       2\n138  0.105437   (the, in)       2\n88   0.092120   (of, and)       2",
      "text/html": "<div>\n<style scoped>\n    .dataframe tbody tr th:only-of-type {\n        vertical-align: middle;\n    }\n\n    .dataframe tbody tr th {\n        vertical-align: top;\n    }\n\n    .dataframe thead th {\n        text-align: right;\n    }\n</style>\n<table border=\"1\" class=\"dataframe\">\n  <thead>\n    <tr style=\"text-align: right;\">\n      <th></th>\n      <th>support</th>\n      <th>itemsets</th>\n      <th>length</th>\n    </tr>\n  </thead>\n  <tbody>\n    <tr>\n      <th>151</th>\n      <td>0.171316</td>\n      <td>(of, the)</td>\n      <td>2</td>\n    </tr>\n    <tr>\n      <th>91</th>\n      <td>0.163672</td>\n      <td>(the, and)</td>\n      <td>2</td>\n    </tr>\n    <tr>\n      <th>160</th>\n      <td>0.109771</td>\n      <td>(the, to)</td>\n      <td>2</td>\n    </tr>\n    <tr>\n      <th>138</th>\n      <td>0.105437</td>\n      <td>(the, in)</td>\n      <td>2</td>\n    </tr>\n    <tr>\n      <th>88</th>\n      <td>0.092120</td>\n      <td>(of, and)</td>\n      <td>2</td>\n    </tr>\n  </tbody>\n</table>\n</div>"
     },
     "execution_count": 399,
     "metadata": {},
     "output_type": "execute_result"
    }
   ],
   "source": [
    "book2_freq_items_1 = filter_freq_items(book2_freq_items, 2)\n",
    "book2_freq_items_1.head(5)"
   ],
   "metadata": {
    "collapsed": false,
    "pycharm": {
     "name": "#%%\n"
    }
   }
  },
  {
   "cell_type": "code",
   "execution_count": 400,
   "outputs": [
    {
     "data": {
      "text/plain": "      support    itemsets  length\n162  0.311895   (of, the)       2\n135  0.164190   (the, in)       2\n88   0.163303  (the, and)       2\n181  0.126488   (the, to)       2\n84   0.126118   (of, and)       2",
      "text/html": "<div>\n<style scoped>\n    .dataframe tbody tr th:only-of-type {\n        vertical-align: middle;\n    }\n\n    .dataframe tbody tr th {\n        vertical-align: top;\n    }\n\n    .dataframe thead th {\n        text-align: right;\n    }\n</style>\n<table border=\"1\" class=\"dataframe\">\n  <thead>\n    <tr style=\"text-align: right;\">\n      <th></th>\n      <th>support</th>\n      <th>itemsets</th>\n      <th>length</th>\n    </tr>\n  </thead>\n  <tbody>\n    <tr>\n      <th>162</th>\n      <td>0.311895</td>\n      <td>(of, the)</td>\n      <td>2</td>\n    </tr>\n    <tr>\n      <th>135</th>\n      <td>0.164190</td>\n      <td>(the, in)</td>\n      <td>2</td>\n    </tr>\n    <tr>\n      <th>88</th>\n      <td>0.163303</td>\n      <td>(the, and)</td>\n      <td>2</td>\n    </tr>\n    <tr>\n      <th>181</th>\n      <td>0.126488</td>\n      <td>(the, to)</td>\n      <td>2</td>\n    </tr>\n    <tr>\n      <th>84</th>\n      <td>0.126118</td>\n      <td>(of, and)</td>\n      <td>2</td>\n    </tr>\n  </tbody>\n</table>\n</div>"
     },
     "execution_count": 400,
     "metadata": {},
     "output_type": "execute_result"
    }
   ],
   "source": [
    "book3_freq_items_1 = filter_freq_items(book3_freq_items, 2)\n",
    "book3_freq_items_1.head(5)"
   ],
   "metadata": {
    "collapsed": false,
    "pycharm": {
     "name": "#%%\n"
    }
   }
  },
  {
   "cell_type": "markdown",
   "source": [
    "### Frequent 2-itemsets\n",
    "\n",
    "Right off the bat we can see some major differences by looking at the support values for the top 5 two itemset words.\n",
    " Book3, Darwin, is using a lot of two word itemsets much more. Book1 is showing a lot less support for using the same two\n",
    " word itemsets. Jane Austin's novel was probably a bit smoother of a read with more variety. To lay out the similarities\n",
    " in black and white below are the similarities and differences for the top 5.\n",
    "\n",
    " __Similarities__\n",
    " - [Of, The]\n",
    " - [The, And]\n",
    " - [The, To]\n",
    " - [Of, And]\n",
    "\n",
    "__Differences__\n",
    " - [To, And] (Book1)\n",
    " - [The, In] (Book2) (Book3)\n",
    "\n",
    "Once again there are four 2-item sets appear in the top 5 for all three books. Almost close to having all 5 being similiar"
   ],
   "metadata": {
    "collapsed": false,
    "pycharm": {
     "name": "#%% md\n"
    }
   }
  },
  {
   "cell_type": "markdown",
   "source": [
    "The five most common three word itemsets for every book with a min-support of 0.02"
   ],
   "metadata": {
    "collapsed": false
   }
  },
  {
   "cell_type": "code",
   "execution_count": 401,
   "outputs": [
    {
     "data": {
      "text/plain": "      support        itemsets  length\n202  0.046187  (of, the, and)       3\n209  0.043756   (of, the, to)       3\n205  0.030431  (of, the, her)       3\n204  0.029711  (the, to, and)       3\n208  0.029621   (of, the, in)       3",
      "text/html": "<div>\n<style scoped>\n    .dataframe tbody tr th:only-of-type {\n        vertical-align: middle;\n    }\n\n    .dataframe tbody tr th {\n        vertical-align: top;\n    }\n\n    .dataframe thead th {\n        text-align: right;\n    }\n</style>\n<table border=\"1\" class=\"dataframe\">\n  <thead>\n    <tr style=\"text-align: right;\">\n      <th></th>\n      <th>support</th>\n      <th>itemsets</th>\n      <th>length</th>\n    </tr>\n  </thead>\n  <tbody>\n    <tr>\n      <th>202</th>\n      <td>0.046187</td>\n      <td>(of, the, and)</td>\n      <td>3</td>\n    </tr>\n    <tr>\n      <th>209</th>\n      <td>0.043756</td>\n      <td>(of, the, to)</td>\n      <td>3</td>\n    </tr>\n    <tr>\n      <th>205</th>\n      <td>0.030431</td>\n      <td>(of, the, her)</td>\n      <td>3</td>\n    </tr>\n    <tr>\n      <th>204</th>\n      <td>0.029711</td>\n      <td>(the, to, and)</td>\n      <td>3</td>\n    </tr>\n    <tr>\n      <th>208</th>\n      <td>0.029621</td>\n      <td>(of, the, in)</td>\n      <td>3</td>\n    </tr>\n  </tbody>\n</table>\n</div>"
     },
     "execution_count": 401,
     "metadata": {},
     "output_type": "execute_result"
    }
   ],
   "source": [
    "book1_freq_items_1 = filter_freq_items(book1_freq_items, 3)\n",
    "book1_freq_items_1.head(5)"
   ],
   "metadata": {
    "collapsed": false,
    "pycharm": {
     "name": "#%%\n"
    }
   }
  },
  {
   "cell_type": "code",
   "execution_count": 402,
   "outputs": [
    {
     "data": {
      "text/plain": "      support        itemsets  length\n174  0.060757  (of, the, and)       3\n179  0.044129   (of, the, in)       3\n182  0.040032   (of, the, to)       3\n176  0.038455  (the, to, and)       3\n173  0.038377  (the, in, and)       3",
      "text/html": "<div>\n<style scoped>\n    .dataframe tbody tr th:only-of-type {\n        vertical-align: middle;\n    }\n\n    .dataframe tbody tr th {\n        vertical-align: top;\n    }\n\n    .dataframe thead th {\n        text-align: right;\n    }\n</style>\n<table border=\"1\" class=\"dataframe\">\n  <thead>\n    <tr style=\"text-align: right;\">\n      <th></th>\n      <th>support</th>\n      <th>itemsets</th>\n      <th>length</th>\n    </tr>\n  </thead>\n  <tbody>\n    <tr>\n      <th>174</th>\n      <td>0.060757</td>\n      <td>(of, the, and)</td>\n      <td>3</td>\n    </tr>\n    <tr>\n      <th>179</th>\n      <td>0.044129</td>\n      <td>(of, the, in)</td>\n      <td>3</td>\n    </tr>\n    <tr>\n      <th>182</th>\n      <td>0.040032</td>\n      <td>(of, the, to)</td>\n      <td>3</td>\n    </tr>\n    <tr>\n      <th>176</th>\n      <td>0.038455</td>\n      <td>(the, to, and)</td>\n      <td>3</td>\n    </tr>\n    <tr>\n      <th>173</th>\n      <td>0.038377</td>\n      <td>(the, in, and)</td>\n      <td>3</td>\n    </tr>\n  </tbody>\n</table>\n</div>"
     },
     "execution_count": 402,
     "metadata": {},
     "output_type": "execute_result"
    }
   ],
   "source": [
    "book2_freq_items_1 = filter_freq_items(book2_freq_items, 3)\n",
    "book2_freq_items_1.head(5)"
   ],
   "metadata": {
    "collapsed": false,
    "pycharm": {
     "name": "#%%\n"
    }
   }
  },
  {
   "cell_type": "code",
   "execution_count": 403,
   "outputs": [
    {
     "data": {
      "text/plain": "      support        itemsets  length\n193  0.089894  (of, the, and)       3\n205  0.088268   (of, the, in)       3\n215  0.066238   (of, the, to)       3\n192  0.047535  (the, in, and)       3\n190  0.046869    (a, the, of)       3",
      "text/html": "<div>\n<style scoped>\n    .dataframe tbody tr th:only-of-type {\n        vertical-align: middle;\n    }\n\n    .dataframe tbody tr th {\n        vertical-align: top;\n    }\n\n    .dataframe thead th {\n        text-align: right;\n    }\n</style>\n<table border=\"1\" class=\"dataframe\">\n  <thead>\n    <tr style=\"text-align: right;\">\n      <th></th>\n      <th>support</th>\n      <th>itemsets</th>\n      <th>length</th>\n    </tr>\n  </thead>\n  <tbody>\n    <tr>\n      <th>193</th>\n      <td>0.089894</td>\n      <td>(of, the, and)</td>\n      <td>3</td>\n    </tr>\n    <tr>\n      <th>205</th>\n      <td>0.088268</td>\n      <td>(of, the, in)</td>\n      <td>3</td>\n    </tr>\n    <tr>\n      <th>215</th>\n      <td>0.066238</td>\n      <td>(of, the, to)</td>\n      <td>3</td>\n    </tr>\n    <tr>\n      <th>192</th>\n      <td>0.047535</td>\n      <td>(the, in, and)</td>\n      <td>3</td>\n    </tr>\n    <tr>\n      <th>190</th>\n      <td>0.046869</td>\n      <td>(a, the, of)</td>\n      <td>3</td>\n    </tr>\n  </tbody>\n</table>\n</div>"
     },
     "execution_count": 403,
     "metadata": {},
     "output_type": "execute_result"
    }
   ],
   "source": [
    "book3_freq_items_1 = filter_freq_items(book3_freq_items, 3)\n",
    "book3_freq_items_1.head(5)"
   ],
   "metadata": {
    "collapsed": false,
    "pycharm": {
     "name": "#%%\n"
    }
   }
  },
  {
   "cell_type": "markdown",
   "source": [
    "### Frequent 3-itemsets\n",
    "\n",
    "__Similarities__\n",
    "- [Of, The, And]\n",
    "- [Of, The, In]\n",
    "- [Of, The, To]\n",
    "\n",
    "__Differences__\n",
    "- [Of, The, Her] (Book1)\n",
    "- [The, In, And] (Book2, Book3)\n",
    "- [The, To, And] (Book1, Book2)\n",
    "- [A, The, Of] (Book3)\n",
    "\n",
    "After looking at all the Frequent 1,2,3 item sets it becomes apparent that all of these words are the same.\n",
    "The reason being is that they are all articles. To help mix this up a little bit it will be more interesting\n",
    "to look at the top 5 with the articles removed to see what they are using."
   ],
   "metadata": {
    "collapsed": false,
    "pycharm": {
     "name": "#%% md\n"
    }
   }
  },
  {
   "cell_type": "markdown",
   "source": [
    "### Looking into the association rules and Making some changes around there\n",
    "\n",
    "For right now I'm just going through and and making the association rules"
   ],
   "metadata": {
    "collapsed": false,
    "pycharm": {
     "name": "#%% md\n"
    }
   }
  },
  {
   "cell_type": "code",
   "execution_count": 404,
   "outputs": [],
   "source": [
    "def find_association_rules(freq_items, confidence=0.2, lift=1.1):\n",
    "    \"\"\"This function goes through and finds the association rules. There are some settings for\n",
    "    finding the difference with the lift and the confidence values that we are looking for\"\"\"\n",
    "    book_association_rules = association_rules(freq_items, metric=\"confidence\", min_threshold=confidence)\n",
    "    book_int_association_rules = book_association_rules[book_association_rules[\"lift\"] >= lift]\n",
    "    book_int_association_rules.sort_values([\"lift\"], inplace=True, ascending=False)\n",
    "    return book_int_association_rules"
   ],
   "metadata": {
    "collapsed": false,
    "pycharm": {
     "name": "#%%\n"
    }
   }
  },
  {
   "cell_type": "code",
   "execution_count": 405,
   "outputs": [
    {
     "name": "stderr",
     "output_type": "stream",
     "text": [
      "C:\\Users\\dunca\\anaconda3\\lib\\site-packages\\pandas\\util\\_decorators.py:311: SettingWithCopyWarning: \n",
      "A value is trying to be set on a copy of a slice from a DataFrame\n",
      "\n",
      "See the caveats in the documentation: https://pandas.pydata.org/pandas-docs/stable/user_guide/indexing.html#returning-a-view-versus-a-copy\n",
      "  return func(*args, **kwargs)\n"
     ]
    },
    {
     "data": {
      "text/plain": "    antecedents consequents  antecedent support  consequent support   support  \\\n162        (am)         (i)            0.022508            0.146394  0.020167   \n96       (have)         (i)            0.069506            0.146394  0.027370   \n71        (you)         (i)            0.084631            0.146394  0.030701   \n72          (i)       (you)            0.146394            0.084631  0.030701   \n124    (a, the)        (of)            0.044566            0.269650  0.024579   \n\n     confidence      lift  leverage  conviction  \n162    0.896000  6.120462  0.016872    8.207748  \n96     0.393782  2.689878  0.017195    1.408085  \n71     0.362766  2.478008  0.018312    1.339548  \n72     0.209717  2.478008  0.018312    1.158280  \n124    0.551515  2.045302  0.012562    1.628484  ",
      "text/html": "<div>\n<style scoped>\n    .dataframe tbody tr th:only-of-type {\n        vertical-align: middle;\n    }\n\n    .dataframe tbody tr th {\n        vertical-align: top;\n    }\n\n    .dataframe thead th {\n        text-align: right;\n    }\n</style>\n<table border=\"1\" class=\"dataframe\">\n  <thead>\n    <tr style=\"text-align: right;\">\n      <th></th>\n      <th>antecedents</th>\n      <th>consequents</th>\n      <th>antecedent support</th>\n      <th>consequent support</th>\n      <th>support</th>\n      <th>confidence</th>\n      <th>lift</th>\n      <th>leverage</th>\n      <th>conviction</th>\n    </tr>\n  </thead>\n  <tbody>\n    <tr>\n      <th>162</th>\n      <td>(am)</td>\n      <td>(i)</td>\n      <td>0.022508</td>\n      <td>0.146394</td>\n      <td>0.020167</td>\n      <td>0.896000</td>\n      <td>6.120462</td>\n      <td>0.016872</td>\n      <td>8.207748</td>\n    </tr>\n    <tr>\n      <th>96</th>\n      <td>(have)</td>\n      <td>(i)</td>\n      <td>0.069506</td>\n      <td>0.146394</td>\n      <td>0.027370</td>\n      <td>0.393782</td>\n      <td>2.689878</td>\n      <td>0.017195</td>\n      <td>1.408085</td>\n    </tr>\n    <tr>\n      <th>71</th>\n      <td>(you)</td>\n      <td>(i)</td>\n      <td>0.084631</td>\n      <td>0.146394</td>\n      <td>0.030701</td>\n      <td>0.362766</td>\n      <td>2.478008</td>\n      <td>0.018312</td>\n      <td>1.339548</td>\n    </tr>\n    <tr>\n      <th>72</th>\n      <td>(i)</td>\n      <td>(you)</td>\n      <td>0.146394</td>\n      <td>0.084631</td>\n      <td>0.030701</td>\n      <td>0.209717</td>\n      <td>2.478008</td>\n      <td>0.018312</td>\n      <td>1.158280</td>\n    </tr>\n    <tr>\n      <th>124</th>\n      <td>(a, the)</td>\n      <td>(of)</td>\n      <td>0.044566</td>\n      <td>0.269650</td>\n      <td>0.024579</td>\n      <td>0.551515</td>\n      <td>2.045302</td>\n      <td>0.012562</td>\n      <td>1.628484</td>\n    </tr>\n  </tbody>\n</table>\n</div>"
     },
     "execution_count": 405,
     "metadata": {},
     "output_type": "execute_result"
    }
   ],
   "source": [
    "book1_int_association_rules = find_association_rules(book1_freq_items)\n",
    "book1_int_association_rules.head()"
   ],
   "metadata": {
    "collapsed": false,
    "pycharm": {
     "name": "#%%\n"
    }
   }
  },
  {
   "cell_type": "code",
   "execution_count": 406,
   "outputs": [
    {
     "name": "stderr",
     "output_type": "stream",
     "text": [
      "C:\\Users\\dunca\\anaconda3\\lib\\site-packages\\pandas\\util\\_decorators.py:311: SettingWithCopyWarning: \n",
      "A value is trying to be set on a copy of a slice from a DataFrame\n",
      "\n",
      "See the caveats in the documentation: https://pandas.pydata.org/pandas-docs/stable/user_guide/indexing.html#returning-a-view-versus-a-copy\n",
      "  return func(*args, **kwargs)\n"
     ]
    },
    {
     "data": {
      "text/plain": "    antecedents consequents  antecedent support  consequent support   support  \\\n132        (mr)     (lorry)            0.042396            0.025532  0.023089   \n131     (lorry)        (mr)            0.025532            0.042396  0.023089   \n150      (have)         (i)            0.055004            0.126241  0.021434   \n140        (is)        (it)            0.056659            0.130102  0.022301   \n80        (you)         (i)            0.088574            0.126241  0.031127   \n\n     confidence       lift  leverage  conviction  \n132    0.544610  21.330545  0.022007    2.139852  \n131    0.904321  21.330545  0.022007   10.008511  \n150    0.389685   3.086829  0.014490    1.431652  \n140    0.393602   3.025325  0.014930    1.434533  \n80     0.351423   2.783748  0.019945    1.347195  ",
      "text/html": "<div>\n<style scoped>\n    .dataframe tbody tr th:only-of-type {\n        vertical-align: middle;\n    }\n\n    .dataframe tbody tr th {\n        vertical-align: top;\n    }\n\n    .dataframe thead th {\n        text-align: right;\n    }\n</style>\n<table border=\"1\" class=\"dataframe\">\n  <thead>\n    <tr style=\"text-align: right;\">\n      <th></th>\n      <th>antecedents</th>\n      <th>consequents</th>\n      <th>antecedent support</th>\n      <th>consequent support</th>\n      <th>support</th>\n      <th>confidence</th>\n      <th>lift</th>\n      <th>leverage</th>\n      <th>conviction</th>\n    </tr>\n  </thead>\n  <tbody>\n    <tr>\n      <th>132</th>\n      <td>(mr)</td>\n      <td>(lorry)</td>\n      <td>0.042396</td>\n      <td>0.025532</td>\n      <td>0.023089</td>\n      <td>0.544610</td>\n      <td>21.330545</td>\n      <td>0.022007</td>\n      <td>2.139852</td>\n    </tr>\n    <tr>\n      <th>131</th>\n      <td>(lorry)</td>\n      <td>(mr)</td>\n      <td>0.025532</td>\n      <td>0.042396</td>\n      <td>0.023089</td>\n      <td>0.904321</td>\n      <td>21.330545</td>\n      <td>0.022007</td>\n      <td>10.008511</td>\n    </tr>\n    <tr>\n      <th>150</th>\n      <td>(have)</td>\n      <td>(i)</td>\n      <td>0.055004</td>\n      <td>0.126241</td>\n      <td>0.021434</td>\n      <td>0.389685</td>\n      <td>3.086829</td>\n      <td>0.014490</td>\n      <td>1.431652</td>\n    </tr>\n    <tr>\n      <th>140</th>\n      <td>(is)</td>\n      <td>(it)</td>\n      <td>0.056659</td>\n      <td>0.130102</td>\n      <td>0.022301</td>\n      <td>0.393602</td>\n      <td>3.025325</td>\n      <td>0.014930</td>\n      <td>1.434533</td>\n    </tr>\n    <tr>\n      <th>80</th>\n      <td>(you)</td>\n      <td>(i)</td>\n      <td>0.088574</td>\n      <td>0.126241</td>\n      <td>0.031127</td>\n      <td>0.351423</td>\n      <td>2.783748</td>\n      <td>0.019945</td>\n      <td>1.347195</td>\n    </tr>\n  </tbody>\n</table>\n</div>"
     },
     "execution_count": 406,
     "metadata": {},
     "output_type": "execute_result"
    }
   ],
   "source": [
    "book2_int_association_rules = find_association_rules(book2_freq_items)\n",
    "book2_int_association_rules.head()"
   ],
   "metadata": {
    "collapsed": false,
    "pycharm": {
     "name": "#%%\n"
    }
   }
  },
  {
   "cell_type": "code",
   "execution_count": 407,
   "outputs": [
    {
     "name": "stderr",
     "output_type": "stream",
     "text": [
      "C:\\Users\\dunca\\anaconda3\\lib\\site-packages\\pandas\\util\\_decorators.py:311: SettingWithCopyWarning: \n",
      "A value is trying to be set on a copy of a slice from a DataFrame\n",
      "\n",
      "See the caveats in the documentation: https://pandas.pydata.org/pandas-docs/stable/user_guide/indexing.html#returning-a-view-versus-a-copy\n",
      "  return func(*args, **kwargs)\n"
     ]
    },
    {
     "data": {
      "text/plain": "    antecedents consequents  antecedent support  consequent support   support  \\\n98       (been)      (have)            0.064538            0.121535  0.033932   \n99       (have)      (been)            0.121535            0.064538  0.033932   \n142        (is)        (it)            0.098100            0.074444  0.027870   \n141        (it)        (is)            0.074444            0.098100  0.027870   \n119      (that)        (it)            0.147557            0.074444  0.030458   \n\n     confidence      lift  leverage  conviction  \n98     0.525773  4.326116  0.026089    1.852416  \n99     0.279197  4.326116  0.026089    1.297806  \n142    0.284099  3.816299  0.020567    1.292856  \n141    0.374379  3.816299  0.020567    1.441608  \n119    0.206413  2.772737  0.019473    1.166294  ",
      "text/html": "<div>\n<style scoped>\n    .dataframe tbody tr th:only-of-type {\n        vertical-align: middle;\n    }\n\n    .dataframe tbody tr th {\n        vertical-align: top;\n    }\n\n    .dataframe thead th {\n        text-align: right;\n    }\n</style>\n<table border=\"1\" class=\"dataframe\">\n  <thead>\n    <tr style=\"text-align: right;\">\n      <th></th>\n      <th>antecedents</th>\n      <th>consequents</th>\n      <th>antecedent support</th>\n      <th>consequent support</th>\n      <th>support</th>\n      <th>confidence</th>\n      <th>lift</th>\n      <th>leverage</th>\n      <th>conviction</th>\n    </tr>\n  </thead>\n  <tbody>\n    <tr>\n      <th>98</th>\n      <td>(been)</td>\n      <td>(have)</td>\n      <td>0.064538</td>\n      <td>0.121535</td>\n      <td>0.033932</td>\n      <td>0.525773</td>\n      <td>4.326116</td>\n      <td>0.026089</td>\n      <td>1.852416</td>\n    </tr>\n    <tr>\n      <th>99</th>\n      <td>(have)</td>\n      <td>(been)</td>\n      <td>0.121535</td>\n      <td>0.064538</td>\n      <td>0.033932</td>\n      <td>0.279197</td>\n      <td>4.326116</td>\n      <td>0.026089</td>\n      <td>1.297806</td>\n    </tr>\n    <tr>\n      <th>142</th>\n      <td>(is)</td>\n      <td>(it)</td>\n      <td>0.098100</td>\n      <td>0.074444</td>\n      <td>0.027870</td>\n      <td>0.284099</td>\n      <td>3.816299</td>\n      <td>0.020567</td>\n      <td>1.292856</td>\n    </tr>\n    <tr>\n      <th>141</th>\n      <td>(it)</td>\n      <td>(is)</td>\n      <td>0.074444</td>\n      <td>0.098100</td>\n      <td>0.027870</td>\n      <td>0.374379</td>\n      <td>3.816299</td>\n      <td>0.020567</td>\n      <td>1.441608</td>\n    </tr>\n    <tr>\n      <th>119</th>\n      <td>(that)</td>\n      <td>(it)</td>\n      <td>0.147557</td>\n      <td>0.074444</td>\n      <td>0.030458</td>\n      <td>0.206413</td>\n      <td>2.772737</td>\n      <td>0.019473</td>\n      <td>1.166294</td>\n    </tr>\n  </tbody>\n</table>\n</div>"
     },
     "execution_count": 407,
     "metadata": {},
     "output_type": "execute_result"
    }
   ],
   "source": [
    "book3_int_association_rules = find_association_rules(book3_freq_items)\n",
    "book3_int_association_rules.head()"
   ],
   "metadata": {
    "collapsed": false,
    "pycharm": {
     "name": "#%%\n"
    }
   }
  },
  {
   "cell_type": "markdown",
   "source": [
    "## Removing the Stop words.\n",
    " This way we can go through and figure out other associations That might be more intersting\n",
    " Do note that after running through this thing"
   ],
   "metadata": {
    "collapsed": false,
    "pycharm": {
     "name": "#%% md\n"
    }
   }
  },
  {
   "cell_type": "code",
   "execution_count": 408,
   "outputs": [],
   "source": [
    "from sklearn.feature_extraction.text import ENGLISH_STOP_WORDS\n",
    "\n",
    "def remove_stop_words(book):\n",
    "    \"\"\"This function goes through and removes the stop words from the list\"\"\"\n",
    "    new_book = []\n",
    "    for line in book:\n",
    "        new_book.append([word for word in line if word not in ENGLISH_STOP_WORDS])\n",
    "    return new_book"
   ],
   "metadata": {
    "collapsed": false,
    "pycharm": {
     "name": "#%%\n"
    }
   }
  },
  {
   "cell_type": "code",
   "execution_count": 409,
   "outputs": [],
   "source": [
    "new_book1 = remove_stop_words(book1)\n",
    "new_book2 = remove_stop_words(book2)\n",
    "new_book3 = remove_stop_words(book3)"
   ],
   "metadata": {
    "collapsed": false,
    "pycharm": {
     "name": "#%%\n"
    }
   }
  },
  {
   "cell_type": "code",
   "execution_count": 410,
   "outputs": [],
   "source": [
    "new_book1_df = transact_1_hot(new_book1)\n",
    "new_book2_df = transact_1_hot(new_book2)\n",
    "new_book3_df = transact_1_hot(new_book3)"
   ],
   "metadata": {
    "collapsed": false,
    "pycharm": {
     "name": "#%%\n"
    }
   }
  },
  {
   "cell_type": "code",
   "execution_count": 411,
   "outputs": [],
   "source": [
    "new_book1_rules, new_book1_freq_items = run_apriori(new_book1_df)\n",
    "new_book2_rules, new_book2_freq_items = run_apriori(new_book2_df)\n",
    "new_book3_rules, new_book3_freq_items = run_apriori(new_book3_df)"
   ],
   "metadata": {
    "collapsed": false,
    "pycharm": {
     "name": "#%%\n"
    }
   }
  },
  {
   "cell_type": "markdown",
   "source": [
    "The five most common one words for every book with a min-support of 0.02"
   ],
   "metadata": {
    "collapsed": false
   }
  },
  {
   "cell_type": "code",
   "execution_count": 412,
   "outputs": [
    {
     "data": {
      "text/plain": "    support    itemsets  length\n1  0.057801    (elinor)       1\n5  0.055551         (s)       1\n2  0.046457  (marianne)       1\n4  0.044747       (mrs)       1\n6  0.032862      (said)       1",
      "text/html": "<div>\n<style scoped>\n    .dataframe tbody tr th:only-of-type {\n        vertical-align: middle;\n    }\n\n    .dataframe tbody tr th {\n        vertical-align: top;\n    }\n\n    .dataframe thead th {\n        text-align: right;\n    }\n</style>\n<table border=\"1\" class=\"dataframe\">\n  <thead>\n    <tr style=\"text-align: right;\">\n      <th></th>\n      <th>support</th>\n      <th>itemsets</th>\n      <th>length</th>\n    </tr>\n  </thead>\n  <tbody>\n    <tr>\n      <th>1</th>\n      <td>0.057801</td>\n      <td>(elinor)</td>\n      <td>1</td>\n    </tr>\n    <tr>\n      <th>5</th>\n      <td>0.055551</td>\n      <td>(s)</td>\n      <td>1</td>\n    </tr>\n    <tr>\n      <th>2</th>\n      <td>0.046457</td>\n      <td>(marianne)</td>\n      <td>1</td>\n    </tr>\n    <tr>\n      <th>4</th>\n      <td>0.044747</td>\n      <td>(mrs)</td>\n      <td>1</td>\n    </tr>\n    <tr>\n      <th>6</th>\n      <td>0.032862</td>\n      <td>(said)</td>\n      <td>1</td>\n    </tr>\n  </tbody>\n</table>\n</div>"
     },
     "execution_count": 412,
     "metadata": {},
     "output_type": "execute_result"
    }
   ],
   "source": [
    "new_book1_freq_items_1 = filter_freq_items(new_book1_freq_items)\n",
    "new_book1_freq_items_1.head(5)"
   ],
   "metadata": {
    "collapsed": false,
    "pycharm": {
     "name": "#%%\n"
    }
   }
  },
  {
   "cell_type": "code",
   "execution_count": 413,
   "outputs": [
    {
     "data": {
      "text/plain": "    support itemsets  length\n4  0.047203   (said)       1\n3  0.044129      (s)       1\n2  0.042396     (mr)       1\n0  0.025532  (lorry)       1\n1  0.021198    (man)       1",
      "text/html": "<div>\n<style scoped>\n    .dataframe tbody tr th:only-of-type {\n        vertical-align: middle;\n    }\n\n    .dataframe tbody tr th {\n        vertical-align: top;\n    }\n\n    .dataframe thead th {\n        text-align: right;\n    }\n</style>\n<table border=\"1\" class=\"dataframe\">\n  <thead>\n    <tr style=\"text-align: right;\">\n      <th></th>\n      <th>support</th>\n      <th>itemsets</th>\n      <th>length</th>\n    </tr>\n  </thead>\n  <tbody>\n    <tr>\n      <th>4</th>\n      <td>0.047203</td>\n      <td>(said)</td>\n      <td>1</td>\n    </tr>\n    <tr>\n      <th>3</th>\n      <td>0.044129</td>\n      <td>(s)</td>\n      <td>1</td>\n    </tr>\n    <tr>\n      <th>2</th>\n      <td>0.042396</td>\n      <td>(mr)</td>\n      <td>1</td>\n    </tr>\n    <tr>\n      <th>0</th>\n      <td>0.025532</td>\n      <td>(lorry)</td>\n      <td>1</td>\n    </tr>\n    <tr>\n      <th>1</th>\n      <td>0.021198</td>\n      <td>(man)</td>\n      <td>1</td>\n    </tr>\n  </tbody>\n</table>\n</div>"
     },
     "execution_count": 413,
     "metadata": {},
     "output_type": "execute_result"
    }
   ],
   "source": [
    "new_book2_freq_items_1 = filter_freq_items(new_book2_freq_items)\n",
    "new_book2_freq_items_1.head(5)"
   ],
   "metadata": {
    "collapsed": false,
    "pycharm": {
     "name": "#%%\n"
    }
   }
  },
  {
   "cell_type": "code",
   "execution_count": 414,
   "outputs": [
    {
     "data": {
      "text/plain": "    support     itemsets  length\n6  0.094773    (species)       1\n7  0.027722  (varieties)       1\n2  0.026022      (forms)       1\n5  0.024691  (selection)       1\n3  0.023287    (natural)       1",
      "text/html": "<div>\n<style scoped>\n    .dataframe tbody tr th:only-of-type {\n        vertical-align: middle;\n    }\n\n    .dataframe tbody tr th {\n        vertical-align: top;\n    }\n\n    .dataframe thead th {\n        text-align: right;\n    }\n</style>\n<table border=\"1\" class=\"dataframe\">\n  <thead>\n    <tr style=\"text-align: right;\">\n      <th></th>\n      <th>support</th>\n      <th>itemsets</th>\n      <th>length</th>\n    </tr>\n  </thead>\n  <tbody>\n    <tr>\n      <th>6</th>\n      <td>0.094773</td>\n      <td>(species)</td>\n      <td>1</td>\n    </tr>\n    <tr>\n      <th>7</th>\n      <td>0.027722</td>\n      <td>(varieties)</td>\n      <td>1</td>\n    </tr>\n    <tr>\n      <th>2</th>\n      <td>0.026022</td>\n      <td>(forms)</td>\n      <td>1</td>\n    </tr>\n    <tr>\n      <th>5</th>\n      <td>0.024691</td>\n      <td>(selection)</td>\n      <td>1</td>\n    </tr>\n    <tr>\n      <th>3</th>\n      <td>0.023287</td>\n      <td>(natural)</td>\n      <td>1</td>\n    </tr>\n  </tbody>\n</table>\n</div>"
     },
     "execution_count": 414,
     "metadata": {},
     "output_type": "execute_result"
    }
   ],
   "source": [
    "new_book3_freq_items_1 = filter_freq_items(new_book3_freq_items)\n",
    "new_book3_freq_items_1.head(5)"
   ],
   "metadata": {
    "collapsed": false,
    "pycharm": {
     "name": "#%%\n"
    }
   }
  }
 ],
 "metadata": {
  "kernelspec": {
   "name": "pycharm-865e1948",
   "language": "python",
   "display_name": "PyCharm (GITHUB_REPOSITORY)"
  },
  "language_info": {
   "codemirror_mode": {
    "name": "ipython",
    "version": 2
   },
   "file_extension": ".py",
   "mimetype": "text/x-python",
   "name": "python",
   "nbconvert_exporter": "python",
   "pygments_lexer": "ipython2",
   "version": "2.7.6"
  }
 },
 "nbformat": 4,
 "nbformat_minor": 0
}