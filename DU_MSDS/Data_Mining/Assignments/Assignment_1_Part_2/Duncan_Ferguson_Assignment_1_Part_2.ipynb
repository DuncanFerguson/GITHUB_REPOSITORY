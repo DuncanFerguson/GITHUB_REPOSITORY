{
 "cells": [
  {
   "cell_type": "markdown",
   "metadata": {
    "collapsed": true,
    "pycharm": {
     "name": "#%% md\n"
    }
   },
   "source": [
    "# Assignment 1 - Part 2\n",
    "Student: Duncan Ferguson <br>\n",
    "Student Id: 871641260 <br>\n",
    "Class: Comp 4431-1 <br>\n",
    "Assignment: Assignment 1 part 2 <br>\n",
    "Date: 10/26/2021 <br>\n",
    "Group Members from Assignment 5: Emma Bright, Mike Santoro <br>\n",
    "\n",
    "Association Rules were originally created for mining information for market baskets.  But, they can provide insight into\n",
    " other applications also.  In this part of the assignment you will use the mlxtend library functions apriori( )\n",
    "  and association_rules( ) to explore text data.  Specifically, we will look at the text from three books:\n",
    "\n",
    "- Sense and Sensibility, by Jane Austin, published 1811\n",
    "- A Tale of Two Cities, by Charles Dickens, published 1859\n",
    "- On The Origin of Species, by Charles Darwin, published 1859 (although written over a 20 year period preceding that\n",
    "date).\n",
    "\n",
    "All three books were written in english by english people at \"roughly\" the same time, hence one could assume some\n",
    "commonality in writing style.\n",
    "\n",
    "Mining using association rules assumes a database of a large number of transactions with some number of items per\n",
    "transaction.  I have processed the text of these books to be presented in a similar fashion, where each \"transaction\"\n",
    "is now a sentence from the book with the words comma-separated.  Note, some of the sentences in the books are quite\n",
    "long which would result in intractable run times (and enormous space to hold all possible itemsets). As we saw from\n",
    "our reading, the number of subsets to be considered increases exponentially with the number of items per transaction.\n",
    " For example, assume a sentence has 60 words.   Then we might need to consider all possible subsets of size 60, 59, 58,\n",
    "  57, ... and 1. The number of these would be:  Choose(60,60) + Choose(60,59) + Choose(60,58) + ...Choose(60,2) +\n",
    "  Choose(60,1).  Clearly not tractable!\n",
    "\n",
    "To make this problem tractable I have processed the texts to the they contain at most N words per line (transaction),\n",
    " where N = {10,12,14}.  For example, assume N = 14.  I processed the file into a list of sentences.  Then, for each\n",
    " sentence, if there were more than 14 words I cut into into at most 14 work chunks.  The beginning of a new sentence\n",
    " starts a new line.  I also removed all punctuation and made everything lower case.  As far as text analysis goes,\n",
    " this loses some useful information, but it greatly simplifies the problem and this assignment is more about\n",
    "  understanding how to use association rules and frequent itemsets.\n",
    "\n",
    "On my computer the files for N=14 ran very quickly, about 5 seconds or less depending on the min-support value used,\n",
    " but I have provided the smaller sets just in case you need to use them due to having a slower computer. To figure out\n",
    " which set of files to use, I suggest you run your code on the 10 words per line, 12 words per line, and 14 words per\n",
    "  line data sets in turn to see how fast they run.  If you computer works well on the 14, only use the 14 for all three\n",
    "   texts.  If you need to use the 10 or 12, only use that value for all three texts.\n",
    "\n",
    "You are to explore each of the three texts and see what you can determine about the texts individually, and compared to\n",
    " each other.  Write up a summary of commonality and differences explaining the parameter values used.  I suggest you\n",
    "  look at frequent 1-itemsets,  2-itemsets and possibly 3-itemsets  as well as association rules.  As a starting point\n",
    "  I suggest you start with a min-support value of 0.02 and a min-confidence value of 0.2.  Then increase/decrease both\n",
    "   as you see fit.  Only consider those association rules that have a lift value > someValue, where someValue is around\n",
    "    1.1 .. 1.5.\n",
    "\n",
    "The same values may not work well for each of the datasets, it is fine to use different values for different texts,\n",
    "just make sure to explain what values you used and whey.\n",
    "\n",
    "Write up your experiments as a report and upload the report as a .pdf file.  Also attach your code for one of your\n",
    "experiments (all the others should be quite similar).  You do not need one file that runs everything, how much you\n",
    "\"automate\" via python scripting is up to you."
   ]
  },
  {
   "cell_type": "code",
   "execution_count": 858,
   "outputs": [],
   "source": [
    "# Adding in all the import statements\n",
    "from csv import reader\n",
    "import pandas as pd\n",
    "from mlxtend.frequent_patterns import apriori, association_rules\n",
    "from mlxtend.preprocessing import TransactionEncoder"
   ],
   "metadata": {
    "collapsed": false,
    "pycharm": {
     "name": "#%%\n"
    }
   }
  },
  {
   "cell_type": "code",
   "execution_count": 859,
   "outputs": [],
   "source": [
    "# importing the texts\n",
    "def fill_book_list(file_name):\n",
    "    \"\"\"This function reads in the book\"\"\"\n",
    "    book = []\n",
    "    with open(file_name, 'r') as read_obj:\n",
    "        csv_reader = reader(read_obj)\n",
    "        for row in csv_reader:\n",
    "            book.append(row)\n",
    "    return book\n",
    "\n",
    "book1 = fill_book_list('input_SenseAndSensibility_14.csv')\n",
    "book2 = fill_book_list('input_TaleOfTwoCities_14.csv')\n",
    "book3 = fill_book_list('input_OriginOfSpecies_14.csv')"
   ],
   "metadata": {
    "collapsed": false,
    "pycharm": {
     "name": "#%%\n"
    }
   }
  },
  {
   "cell_type": "markdown",
   "source": [
    "Creating a function for using the transaction encoder to transform the books into an 1-hot boolean encoded numpy array\n",
    "and convert into a dataframe for the convenience of passing into apriori."
   ],
   "metadata": {
    "collapsed": false,
    "pycharm": {
     "name": "#%% md\n"
    }
   }
  },
  {
   "cell_type": "code",
   "execution_count": 860,
   "outputs": [],
   "source": [
    "def transact_1_hot(book):\n",
    "    \"\"\"Creating transact 1 hot boolean encoded numpy array \"\"\"\n",
    "    te = TransactionEncoder()\n",
    "    te_ary = te.fit(book).transform(book)\n",
    "    df = pd.DataFrame(te_ary, columns= te.columns_)\n",
    "    return df\n",
    "\n",
    "book1_df = transact_1_hot(book1)\n",
    "book2_df = transact_1_hot(book2)\n",
    "book3_df = transact_1_hot(book3)"
   ],
   "metadata": {
    "collapsed": false,
    "pycharm": {
     "name": "#%%\n"
    }
   }
  },
  {
   "cell_type": "markdown",
   "source": [
    "Displaying the head of all three books"
   ],
   "metadata": {
    "collapsed": false,
    "pycharm": {
     "name": "#%% md\n"
    }
   }
  },
  {
   "cell_type": "code",
   "execution_count": 861,
   "outputs": [
    {
     "data": {
      "text/plain": "     200  7000l      _     _a   _all  _almost_  _always_   _am_  _amiably  \\\n0  False  False  False  False  False     False     False  False     False   \n1  False  False  False  False  False     False     False  False     False   \n2  False  False  False  False  False     False     False  False     False   \n3  False  False  False  False  False     False     False  False     False   \n4  False  False  False  False  False     False     False  False     False   \n\n    _and  ...  youthere  youthful  youtravel  youwill  youwilloughby  youyet  \\\n0  False  ...     False     False      False    False          False   False   \n1  False  ...     False     False      False    False          False   False   \n2  False  ...     False     False      False    False          False   False   \n3  False  ...     False     False      False    False          False   False   \n4  False  ...     False     False      False    False          False   False   \n\n    zeal  zealous  zealously     Ã   \n0  False    False      False  False  \n1  False    False      False  False  \n2  False    False      False  False  \n3  False    False      False  False  \n4  False    False      False  False  \n\n[5 rows x 9659 columns]",
      "text/html": "<div>\n<style scoped>\n    .dataframe tbody tr th:only-of-type {\n        vertical-align: middle;\n    }\n\n    .dataframe tbody tr th {\n        vertical-align: top;\n    }\n\n    .dataframe thead th {\n        text-align: right;\n    }\n</style>\n<table border=\"1\" class=\"dataframe\">\n  <thead>\n    <tr style=\"text-align: right;\">\n      <th></th>\n      <th>200</th>\n      <th>7000l</th>\n      <th>_</th>\n      <th>_a</th>\n      <th>_all</th>\n      <th>_almost_</th>\n      <th>_always_</th>\n      <th>_am_</th>\n      <th>_amiably</th>\n      <th>_and</th>\n      <th>...</th>\n      <th>youthere</th>\n      <th>youthful</th>\n      <th>youtravel</th>\n      <th>youwill</th>\n      <th>youwilloughby</th>\n      <th>youyet</th>\n      <th>zeal</th>\n      <th>zealous</th>\n      <th>zealously</th>\n      <th>Ã</th>\n    </tr>\n  </thead>\n  <tbody>\n    <tr>\n      <th>0</th>\n      <td>False</td>\n      <td>False</td>\n      <td>False</td>\n      <td>False</td>\n      <td>False</td>\n      <td>False</td>\n      <td>False</td>\n      <td>False</td>\n      <td>False</td>\n      <td>False</td>\n      <td>...</td>\n      <td>False</td>\n      <td>False</td>\n      <td>False</td>\n      <td>False</td>\n      <td>False</td>\n      <td>False</td>\n      <td>False</td>\n      <td>False</td>\n      <td>False</td>\n      <td>False</td>\n    </tr>\n    <tr>\n      <th>1</th>\n      <td>False</td>\n      <td>False</td>\n      <td>False</td>\n      <td>False</td>\n      <td>False</td>\n      <td>False</td>\n      <td>False</td>\n      <td>False</td>\n      <td>False</td>\n      <td>False</td>\n      <td>...</td>\n      <td>False</td>\n      <td>False</td>\n      <td>False</td>\n      <td>False</td>\n      <td>False</td>\n      <td>False</td>\n      <td>False</td>\n      <td>False</td>\n      <td>False</td>\n      <td>False</td>\n    </tr>\n    <tr>\n      <th>2</th>\n      <td>False</td>\n      <td>False</td>\n      <td>False</td>\n      <td>False</td>\n      <td>False</td>\n      <td>False</td>\n      <td>False</td>\n      <td>False</td>\n      <td>False</td>\n      <td>False</td>\n      <td>...</td>\n      <td>False</td>\n      <td>False</td>\n      <td>False</td>\n      <td>False</td>\n      <td>False</td>\n      <td>False</td>\n      <td>False</td>\n      <td>False</td>\n      <td>False</td>\n      <td>False</td>\n    </tr>\n    <tr>\n      <th>3</th>\n      <td>False</td>\n      <td>False</td>\n      <td>False</td>\n      <td>False</td>\n      <td>False</td>\n      <td>False</td>\n      <td>False</td>\n      <td>False</td>\n      <td>False</td>\n      <td>False</td>\n      <td>...</td>\n      <td>False</td>\n      <td>False</td>\n      <td>False</td>\n      <td>False</td>\n      <td>False</td>\n      <td>False</td>\n      <td>False</td>\n      <td>False</td>\n      <td>False</td>\n      <td>False</td>\n    </tr>\n    <tr>\n      <th>4</th>\n      <td>False</td>\n      <td>False</td>\n      <td>False</td>\n      <td>False</td>\n      <td>False</td>\n      <td>False</td>\n      <td>False</td>\n      <td>False</td>\n      <td>False</td>\n      <td>False</td>\n      <td>...</td>\n      <td>False</td>\n      <td>False</td>\n      <td>False</td>\n      <td>False</td>\n      <td>False</td>\n      <td>False</td>\n      <td>False</td>\n      <td>False</td>\n      <td>False</td>\n      <td>False</td>\n    </tr>\n  </tbody>\n</table>\n<p>5 rows × 9659 columns</p>\n</div>"
     },
     "execution_count": 861,
     "metadata": {},
     "output_type": "execute_result"
    }
   ],
   "source": [
    "book1_df.head()"
   ],
   "metadata": {
    "collapsed": false,
    "pycharm": {
     "name": "#%%\n"
    }
   }
  },
  {
   "cell_type": "code",
   "execution_count": 862,
   "outputs": [
    {
     "data": {
      "text/plain": "    1757   1767  211792      _   _am_  _are_collected   _at_  _bid_   _do_  \\\n0  False  False   False  False  False           False  False  False  False   \n1  False  False   False  False  False           False  False  False  False   \n2  False  False   False  False  False           False  False  False  False   \n3  False  False   False  False  False           False  False  False  False   \n4  False  False   False  False  False           False  False  False  False   \n\n    _don  ...  youso  youth  youthful  youthfulness  youths  youwell  youwill  \\\n0  False  ...  False  False     False         False   False    False    False   \n1  False  ...  False  False     False         False   False    False    False   \n2  False  ...  False  False     False         False   False    False    False   \n3  False  ...  False  False     False         False   False    False    False   \n4  False  ...  False  False     False         False   False    False    False   \n\n   youworth  youyes  zealous  \n0     False   False    False  \n1     False   False    False  \n2     False   False    False  \n3     False   False    False  \n4     False   False    False  \n\n[5 rows x 13254 columns]",
      "text/html": "<div>\n<style scoped>\n    .dataframe tbody tr th:only-of-type {\n        vertical-align: middle;\n    }\n\n    .dataframe tbody tr th {\n        vertical-align: top;\n    }\n\n    .dataframe thead th {\n        text-align: right;\n    }\n</style>\n<table border=\"1\" class=\"dataframe\">\n  <thead>\n    <tr style=\"text-align: right;\">\n      <th></th>\n      <th>1757</th>\n      <th>1767</th>\n      <th>211792</th>\n      <th>_</th>\n      <th>_am_</th>\n      <th>_are_collected</th>\n      <th>_at_</th>\n      <th>_bid_</th>\n      <th>_do_</th>\n      <th>_don</th>\n      <th>...</th>\n      <th>youso</th>\n      <th>youth</th>\n      <th>youthful</th>\n      <th>youthfulness</th>\n      <th>youths</th>\n      <th>youwell</th>\n      <th>youwill</th>\n      <th>youworth</th>\n      <th>youyes</th>\n      <th>zealous</th>\n    </tr>\n  </thead>\n  <tbody>\n    <tr>\n      <th>0</th>\n      <td>False</td>\n      <td>False</td>\n      <td>False</td>\n      <td>False</td>\n      <td>False</td>\n      <td>False</td>\n      <td>False</td>\n      <td>False</td>\n      <td>False</td>\n      <td>False</td>\n      <td>...</td>\n      <td>False</td>\n      <td>False</td>\n      <td>False</td>\n      <td>False</td>\n      <td>False</td>\n      <td>False</td>\n      <td>False</td>\n      <td>False</td>\n      <td>False</td>\n      <td>False</td>\n    </tr>\n    <tr>\n      <th>1</th>\n      <td>False</td>\n      <td>False</td>\n      <td>False</td>\n      <td>False</td>\n      <td>False</td>\n      <td>False</td>\n      <td>False</td>\n      <td>False</td>\n      <td>False</td>\n      <td>False</td>\n      <td>...</td>\n      <td>False</td>\n      <td>False</td>\n      <td>False</td>\n      <td>False</td>\n      <td>False</td>\n      <td>False</td>\n      <td>False</td>\n      <td>False</td>\n      <td>False</td>\n      <td>False</td>\n    </tr>\n    <tr>\n      <th>2</th>\n      <td>False</td>\n      <td>False</td>\n      <td>False</td>\n      <td>False</td>\n      <td>False</td>\n      <td>False</td>\n      <td>False</td>\n      <td>False</td>\n      <td>False</td>\n      <td>False</td>\n      <td>...</td>\n      <td>False</td>\n      <td>False</td>\n      <td>False</td>\n      <td>False</td>\n      <td>False</td>\n      <td>False</td>\n      <td>False</td>\n      <td>False</td>\n      <td>False</td>\n      <td>False</td>\n    </tr>\n    <tr>\n      <th>3</th>\n      <td>False</td>\n      <td>False</td>\n      <td>False</td>\n      <td>False</td>\n      <td>False</td>\n      <td>False</td>\n      <td>False</td>\n      <td>False</td>\n      <td>False</td>\n      <td>False</td>\n      <td>...</td>\n      <td>False</td>\n      <td>False</td>\n      <td>False</td>\n      <td>False</td>\n      <td>False</td>\n      <td>False</td>\n      <td>False</td>\n      <td>False</td>\n      <td>False</td>\n      <td>False</td>\n    </tr>\n    <tr>\n      <th>4</th>\n      <td>False</td>\n      <td>False</td>\n      <td>False</td>\n      <td>False</td>\n      <td>False</td>\n      <td>False</td>\n      <td>False</td>\n      <td>False</td>\n      <td>False</td>\n      <td>False</td>\n      <td>...</td>\n      <td>False</td>\n      <td>False</td>\n      <td>False</td>\n      <td>False</td>\n      <td>False</td>\n      <td>False</td>\n      <td>False</td>\n      <td>False</td>\n      <td>False</td>\n      <td>False</td>\n    </tr>\n  </tbody>\n</table>\n<p>5 rows × 13254 columns</p>\n</div>"
     },
     "execution_count": 862,
     "metadata": {},
     "output_type": "execute_result"
    }
   ],
   "source": [
    "book2_df.head()"
   ],
   "metadata": {
    "collapsed": false,
    "pycharm": {
     "name": "#%%\n"
    }
   }
  },
  {
   "cell_type": "code",
   "execution_count": 863,
   "outputs": [
    {
     "data": {
      "text/plain": "     000      1     10    100   1000    101    102    107  107330  107416  \\\n0  False  False  False  False  False  False  False  False   False   False   \n1  False  False  False  False  False  False  False  False   False   False   \n2  False  False  False  False  False  False  False  False   False   False   \n3  False  False  False  False  False  False  False  False   False   False   \n4  False  False  False  False  False  False  False  False   False   False   \n\n   ...  zealand  zealand100  zealand201  zealand376  zebra   zero   zone  \\\n0  ...    False       False       False       False  False  False  False   \n1  ...    False       False       False       False  False  False  False   \n2  ...    False       False       False       False  False  False  False   \n3  ...    False       False       False       False  False  False  False   \n4  ...    False       False       False       False  False  False  False   \n\n   zones  zoological  zoologist  \n0  False       False      False  \n1  False       False      False  \n2  False       False      False  \n3  False       False      False  \n4  False       False      False  \n\n[5 rows x 10251 columns]",
      "text/html": "<div>\n<style scoped>\n    .dataframe tbody tr th:only-of-type {\n        vertical-align: middle;\n    }\n\n    .dataframe tbody tr th {\n        vertical-align: top;\n    }\n\n    .dataframe thead th {\n        text-align: right;\n    }\n</style>\n<table border=\"1\" class=\"dataframe\">\n  <thead>\n    <tr style=\"text-align: right;\">\n      <th></th>\n      <th>000</th>\n      <th>1</th>\n      <th>10</th>\n      <th>100</th>\n      <th>1000</th>\n      <th>101</th>\n      <th>102</th>\n      <th>107</th>\n      <th>107330</th>\n      <th>107416</th>\n      <th>...</th>\n      <th>zealand</th>\n      <th>zealand100</th>\n      <th>zealand201</th>\n      <th>zealand376</th>\n      <th>zebra</th>\n      <th>zero</th>\n      <th>zone</th>\n      <th>zones</th>\n      <th>zoological</th>\n      <th>zoologist</th>\n    </tr>\n  </thead>\n  <tbody>\n    <tr>\n      <th>0</th>\n      <td>False</td>\n      <td>False</td>\n      <td>False</td>\n      <td>False</td>\n      <td>False</td>\n      <td>False</td>\n      <td>False</td>\n      <td>False</td>\n      <td>False</td>\n      <td>False</td>\n      <td>...</td>\n      <td>False</td>\n      <td>False</td>\n      <td>False</td>\n      <td>False</td>\n      <td>False</td>\n      <td>False</td>\n      <td>False</td>\n      <td>False</td>\n      <td>False</td>\n      <td>False</td>\n    </tr>\n    <tr>\n      <th>1</th>\n      <td>False</td>\n      <td>False</td>\n      <td>False</td>\n      <td>False</td>\n      <td>False</td>\n      <td>False</td>\n      <td>False</td>\n      <td>False</td>\n      <td>False</td>\n      <td>False</td>\n      <td>...</td>\n      <td>False</td>\n      <td>False</td>\n      <td>False</td>\n      <td>False</td>\n      <td>False</td>\n      <td>False</td>\n      <td>False</td>\n      <td>False</td>\n      <td>False</td>\n      <td>False</td>\n    </tr>\n    <tr>\n      <th>2</th>\n      <td>False</td>\n      <td>False</td>\n      <td>False</td>\n      <td>False</td>\n      <td>False</td>\n      <td>False</td>\n      <td>False</td>\n      <td>False</td>\n      <td>False</td>\n      <td>False</td>\n      <td>...</td>\n      <td>False</td>\n      <td>False</td>\n      <td>False</td>\n      <td>False</td>\n      <td>False</td>\n      <td>False</td>\n      <td>False</td>\n      <td>False</td>\n      <td>False</td>\n      <td>False</td>\n    </tr>\n    <tr>\n      <th>3</th>\n      <td>False</td>\n      <td>False</td>\n      <td>False</td>\n      <td>False</td>\n      <td>False</td>\n      <td>False</td>\n      <td>False</td>\n      <td>False</td>\n      <td>False</td>\n      <td>False</td>\n      <td>...</td>\n      <td>False</td>\n      <td>False</td>\n      <td>False</td>\n      <td>False</td>\n      <td>False</td>\n      <td>False</td>\n      <td>False</td>\n      <td>False</td>\n      <td>False</td>\n      <td>False</td>\n    </tr>\n    <tr>\n      <th>4</th>\n      <td>False</td>\n      <td>False</td>\n      <td>False</td>\n      <td>False</td>\n      <td>False</td>\n      <td>False</td>\n      <td>False</td>\n      <td>False</td>\n      <td>False</td>\n      <td>False</td>\n      <td>...</td>\n      <td>False</td>\n      <td>False</td>\n      <td>False</td>\n      <td>False</td>\n      <td>False</td>\n      <td>False</td>\n      <td>False</td>\n      <td>False</td>\n      <td>False</td>\n      <td>False</td>\n    </tr>\n  </tbody>\n</table>\n<p>5 rows × 10251 columns</p>\n</div>"
     },
     "execution_count": 863,
     "metadata": {},
     "output_type": "execute_result"
    }
   ],
   "source": [
    "book3_df.head()"
   ],
   "metadata": {
    "collapsed": false,
    "pycharm": {
     "name": "#%%\n"
    }
   }
  },
  {
   "cell_type": "markdown",
   "source": [
    "Creating a function to run the apriori algorithm"
   ],
   "metadata": {
    "collapsed": false,
    "pycharm": {
     "name": "#%% md\n"
    }
   },
   "outputs": [
    {
     "ename": "NameError",
     "evalue": "name 'Creating' is not defined",
     "output_type": "error",
     "traceback": [
      "\u001B[1;31m---------------------------------------------------------------------------\u001B[0m",
      "\u001B[1;31mNameError\u001B[0m                                 Traceback (most recent call last)",
      "\u001B[1;32m~\\AppData\\Local\\Temp/ipykernel_17968/1361696391.py\u001B[0m in \u001B[0;36m<module>\u001B[1;34m\u001B[0m\n\u001B[1;32m----> 1\u001B[1;33m \u001B[0mCreating\u001B[0m\u001B[1;33m\u001B[0m\u001B[1;33m\u001B[0m\u001B[0m\n\u001B[0m\u001B[0;32m      2\u001B[0m \u001B[1;33m\u001B[0m\u001B[0m\n",
      "\u001B[1;31mNameError\u001B[0m: name 'Creating' is not defined"
     ]
    }
   ],
   "execution_count": 19
  },
  {
   "cell_type": "code",
   "execution_count": 864,
   "outputs": [],
   "source": [
    "def run_apriori(df, min_support_feed=0.02, min_threshold_feed=0.2, lift=1.1):\n",
    "    \"\"\"This function runs through the apriori algorithm taking in min support\n",
    "    min threshold which is confidence and min lift. It returns association rules and frequent items\"\"\"\n",
    "    freq_items = apriori(df, min_support=min_support_feed, use_colnames=True)\n",
    "    freq_items['length'] = freq_items['itemsets'].apply(lambda x: len(x))\n",
    "    freq_items.sort_values([\"support\", \"length\"], inplace=True, ascending=False)\n",
    "    rules = association_rules(freq_items, metric=\"confidence\", min_threshold=min_threshold_feed)\n",
    "    asso_rules = rules[rules[\"lift\"] >= lift].copy()\n",
    "    asso_rules.sort_values([\"lift\"], inplace=True, ascending=False)\n",
    "    return asso_rules, freq_items\n",
    "\n",
    "book1_rules, book1_freq_items = run_apriori(book1_df)\n",
    "book2_rules, book2_freq_items = run_apriori(book2_df)\n",
    "book3_rules, book3_freq_items = run_apriori(book3_df)"
   ],
   "metadata": {
    "collapsed": false,
    "pycharm": {
     "name": "#%%\n"
    }
   }
  },
  {
   "cell_type": "markdown",
   "source": [
    "Taking a look at frequent 1-itemsets that are both strong and interesting"
   ],
   "metadata": {
    "collapsed": false,
    "pycharm": {
     "name": "#%% md\n"
    }
   }
  },
  {
   "cell_type": "code",
   "execution_count": 865,
   "outputs": [],
   "source": [
    "def filter_freq_items(freq_items,items=1):\n",
    "    \"\"\"This function filters the frequent items so that we can look a certain n-itemsets\"\"\"\n",
    "    filtered_freq_items = freq_items[freq_items[\"length\"] == items].copy()\n",
    "    return filtered_freq_items"
   ],
   "metadata": {
    "collapsed": false,
    "pycharm": {
     "name": "#%%\n"
    }
   }
  },
  {
   "cell_type": "markdown",
   "source": [
    "The five most common one words for every book with a min-support of 0.02"
   ],
   "metadata": {
    "collapsed": false,
    "pycharm": {
     "name": "#%% md\n"
    }
   }
  },
  {
   "cell_type": "code",
   "execution_count": 866,
   "outputs": [
    {
     "data": {
      "text/plain": "     support itemsets  length\n61  0.300081     (to)       1\n56  0.283155    (the)       1\n4   0.276672    (and)       1\n42  0.269650     (of)       1\n22  0.174845    (her)       1",
      "text/html": "<div>\n<style scoped>\n    .dataframe tbody tr th:only-of-type {\n        vertical-align: middle;\n    }\n\n    .dataframe tbody tr th {\n        vertical-align: top;\n    }\n\n    .dataframe thead th {\n        text-align: right;\n    }\n</style>\n<table border=\"1\" class=\"dataframe\">\n  <thead>\n    <tr style=\"text-align: right;\">\n      <th></th>\n      <th>support</th>\n      <th>itemsets</th>\n      <th>length</th>\n    </tr>\n  </thead>\n  <tbody>\n    <tr>\n      <th>61</th>\n      <td>0.300081</td>\n      <td>(to)</td>\n      <td>1</td>\n    </tr>\n    <tr>\n      <th>56</th>\n      <td>0.283155</td>\n      <td>(the)</td>\n      <td>1</td>\n    </tr>\n    <tr>\n      <th>4</th>\n      <td>0.276672</td>\n      <td>(and)</td>\n      <td>1</td>\n    </tr>\n    <tr>\n      <th>42</th>\n      <td>0.269650</td>\n      <td>(of)</td>\n      <td>1</td>\n    </tr>\n    <tr>\n      <th>22</th>\n      <td>0.174845</td>\n      <td>(her)</td>\n      <td>1</td>\n    </tr>\n  </tbody>\n</table>\n</div>"
     },
     "execution_count": 866,
     "metadata": {},
     "output_type": "execute_result"
    }
   ],
   "source": [
    "book1_freq_items_1 = filter_freq_items(book1_freq_items)\n",
    "book1_freq_items_1.head(5)"
   ],
   "metadata": {
    "collapsed": false,
    "pycharm": {
     "name": "#%%\n"
    }
   }
  },
  {
   "cell_type": "code",
   "execution_count": 867,
   "outputs": [
    {
     "data": {
      "text/plain": "     support itemsets  length\n44  0.421277    (the)       1\n3   0.324901    (and)       1\n34  0.259023     (of)       1\n50  0.232467     (to)       1\n0   0.192829      (a)       1",
      "text/html": "<div>\n<style scoped>\n    .dataframe tbody tr th:only-of-type {\n        vertical-align: middle;\n    }\n\n    .dataframe tbody tr th {\n        vertical-align: top;\n    }\n\n    .dataframe thead th {\n        text-align: right;\n    }\n</style>\n<table border=\"1\" class=\"dataframe\">\n  <thead>\n    <tr style=\"text-align: right;\">\n      <th></th>\n      <th>support</th>\n      <th>itemsets</th>\n      <th>length</th>\n    </tr>\n  </thead>\n  <tbody>\n    <tr>\n      <th>44</th>\n      <td>0.421277</td>\n      <td>(the)</td>\n      <td>1</td>\n    </tr>\n    <tr>\n      <th>3</th>\n      <td>0.324901</td>\n      <td>(and)</td>\n      <td>1</td>\n    </tr>\n    <tr>\n      <th>34</th>\n      <td>0.259023</td>\n      <td>(of)</td>\n      <td>1</td>\n    </tr>\n    <tr>\n      <th>50</th>\n      <td>0.232467</td>\n      <td>(to)</td>\n      <td>1</td>\n    </tr>\n    <tr>\n      <th>0</th>\n      <td>0.192829</td>\n      <td>(a)</td>\n      <td>1</td>\n    </tr>\n  </tbody>\n</table>\n</div>"
     },
     "execution_count": 867,
     "metadata": {},
     "output_type": "execute_result"
    }
   ],
   "source": [
    "book2_freq_items_1 = filter_freq_items(book2_freq_items)\n",
    "book2_freq_items_1.head(5)"
   ],
   "metadata": {
    "collapsed": false,
    "pycharm": {
     "name": "#%%\n"
    }
   }
  },
  {
   "cell_type": "code",
   "execution_count": 868,
   "outputs": [
    {
     "data": {
      "text/plain": "     support itemsets  length\n50  0.522363    (the)       1\n36  0.434390     (of)       1\n3   0.283951    (and)       1\n25  0.257707     (in)       1\n56  0.225992     (to)       1",
      "text/html": "<div>\n<style scoped>\n    .dataframe tbody tr th:only-of-type {\n        vertical-align: middle;\n    }\n\n    .dataframe tbody tr th {\n        vertical-align: top;\n    }\n\n    .dataframe thead th {\n        text-align: right;\n    }\n</style>\n<table border=\"1\" class=\"dataframe\">\n  <thead>\n    <tr style=\"text-align: right;\">\n      <th></th>\n      <th>support</th>\n      <th>itemsets</th>\n      <th>length</th>\n    </tr>\n  </thead>\n  <tbody>\n    <tr>\n      <th>50</th>\n      <td>0.522363</td>\n      <td>(the)</td>\n      <td>1</td>\n    </tr>\n    <tr>\n      <th>36</th>\n      <td>0.434390</td>\n      <td>(of)</td>\n      <td>1</td>\n    </tr>\n    <tr>\n      <th>3</th>\n      <td>0.283951</td>\n      <td>(and)</td>\n      <td>1</td>\n    </tr>\n    <tr>\n      <th>25</th>\n      <td>0.257707</td>\n      <td>(in)</td>\n      <td>1</td>\n    </tr>\n    <tr>\n      <th>56</th>\n      <td>0.225992</td>\n      <td>(to)</td>\n      <td>1</td>\n    </tr>\n  </tbody>\n</table>\n</div>"
     },
     "execution_count": 868,
     "metadata": {},
     "output_type": "execute_result"
    }
   ],
   "source": [
    "book3_freq_items_1 = filter_freq_items(book3_freq_items)\n",
    "book3_freq_items_1.head(5)"
   ],
   "metadata": {
    "collapsed": false,
    "pycharm": {
     "name": "#%%\n"
    }
   }
  },
  {
   "cell_type": "markdown",
   "source": [
    "### Frequent 1-itemsets\n",
    "When we look at the frequent item sets for 1 word items from the three books we notice a lot of similarities.\n",
    "All three books have the following words in the top 5;\n",
    "- The\n",
    "- To\n",
    "- And\n",
    "- Of <br>\n",
    "\n",
    "Books two and three has a really high support for the word \"the\". The rankings of the top 5 words varies but there is\n",
    "nothing that is too surprising here as these words appear in most english sentences. <br>\n",
    "\n",
    "Now looking into the differences we do find that the support ranking order is different. Listed below are the words that\n",
    " appear in the top 5 for one book but not the others:\n",
    "- \"her\" (book1)\n",
    "- \"a\" (book2)\n",
    "- \"in\" (book3)\n"
   ],
   "metadata": {
    "collapsed": false,
    "pycharm": {
     "name": "#%% md\n"
    }
   }
  },
  {
   "cell_type": "markdown",
   "source": [
    "The five most common two words itemsets for every book with a min-support of 0.02"
   ],
   "metadata": {
    "collapsed": false
   }
  },
  {
   "cell_type": "code",
   "execution_count": 869,
   "outputs": [
    {
     "data": {
      "text/plain": "      support    itemsets  length\n177  0.138651   (of, the)       2\n105  0.098316  (and, the)       2\n190  0.095165   (to, the)       2\n106  0.092284   (to, and)       2\n101  0.089943   (and, of)       2",
      "text/html": "<div>\n<style scoped>\n    .dataframe tbody tr th:only-of-type {\n        vertical-align: middle;\n    }\n\n    .dataframe tbody tr th {\n        vertical-align: top;\n    }\n\n    .dataframe thead th {\n        text-align: right;\n    }\n</style>\n<table border=\"1\" class=\"dataframe\">\n  <thead>\n    <tr style=\"text-align: right;\">\n      <th></th>\n      <th>support</th>\n      <th>itemsets</th>\n      <th>length</th>\n    </tr>\n  </thead>\n  <tbody>\n    <tr>\n      <th>177</th>\n      <td>0.138651</td>\n      <td>(of, the)</td>\n      <td>2</td>\n    </tr>\n    <tr>\n      <th>105</th>\n      <td>0.098316</td>\n      <td>(and, the)</td>\n      <td>2</td>\n    </tr>\n    <tr>\n      <th>190</th>\n      <td>0.095165</td>\n      <td>(to, the)</td>\n      <td>2</td>\n    </tr>\n    <tr>\n      <th>106</th>\n      <td>0.092284</td>\n      <td>(to, and)</td>\n      <td>2</td>\n    </tr>\n    <tr>\n      <th>101</th>\n      <td>0.089943</td>\n      <td>(and, of)</td>\n      <td>2</td>\n    </tr>\n  </tbody>\n</table>\n</div>"
     },
     "execution_count": 869,
     "metadata": {},
     "output_type": "execute_result"
    }
   ],
   "source": [
    "book1_freq_items_1 = filter_freq_items(book1_freq_items, 2)\n",
    "book1_freq_items_1.head(5)"
   ],
   "metadata": {
    "collapsed": false,
    "pycharm": {
     "name": "#%%\n"
    }
   }
  },
  {
   "cell_type": "code",
   "execution_count": 870,
   "outputs": [
    {
     "data": {
      "text/plain": "      support    itemsets  length\n151  0.171316   (the, of)       2\n91   0.163672  (the, and)       2\n160  0.109771   (to, the)       2\n138  0.105437   (in, the)       2\n88   0.092120   (and, of)       2",
      "text/html": "<div>\n<style scoped>\n    .dataframe tbody tr th:only-of-type {\n        vertical-align: middle;\n    }\n\n    .dataframe tbody tr th {\n        vertical-align: top;\n    }\n\n    .dataframe thead th {\n        text-align: right;\n    }\n</style>\n<table border=\"1\" class=\"dataframe\">\n  <thead>\n    <tr style=\"text-align: right;\">\n      <th></th>\n      <th>support</th>\n      <th>itemsets</th>\n      <th>length</th>\n    </tr>\n  </thead>\n  <tbody>\n    <tr>\n      <th>151</th>\n      <td>0.171316</td>\n      <td>(the, of)</td>\n      <td>2</td>\n    </tr>\n    <tr>\n      <th>91</th>\n      <td>0.163672</td>\n      <td>(the, and)</td>\n      <td>2</td>\n    </tr>\n    <tr>\n      <th>160</th>\n      <td>0.109771</td>\n      <td>(to, the)</td>\n      <td>2</td>\n    </tr>\n    <tr>\n      <th>138</th>\n      <td>0.105437</td>\n      <td>(in, the)</td>\n      <td>2</td>\n    </tr>\n    <tr>\n      <th>88</th>\n      <td>0.092120</td>\n      <td>(and, of)</td>\n      <td>2</td>\n    </tr>\n  </tbody>\n</table>\n</div>"
     },
     "execution_count": 870,
     "metadata": {},
     "output_type": "execute_result"
    }
   ],
   "source": [
    "book2_freq_items_1 = filter_freq_items(book2_freq_items, 2)\n",
    "book2_freq_items_1.head(5)"
   ],
   "metadata": {
    "collapsed": false,
    "pycharm": {
     "name": "#%%\n"
    }
   }
  },
  {
   "cell_type": "code",
   "execution_count": 871,
   "outputs": [
    {
     "data": {
      "text/plain": "      support    itemsets  length\n162  0.311895   (of, the)       2\n135  0.164190   (in, the)       2\n88   0.163303  (the, and)       2\n181  0.126488   (to, the)       2\n84   0.126118   (of, and)       2",
      "text/html": "<div>\n<style scoped>\n    .dataframe tbody tr th:only-of-type {\n        vertical-align: middle;\n    }\n\n    .dataframe tbody tr th {\n        vertical-align: top;\n    }\n\n    .dataframe thead th {\n        text-align: right;\n    }\n</style>\n<table border=\"1\" class=\"dataframe\">\n  <thead>\n    <tr style=\"text-align: right;\">\n      <th></th>\n      <th>support</th>\n      <th>itemsets</th>\n      <th>length</th>\n    </tr>\n  </thead>\n  <tbody>\n    <tr>\n      <th>162</th>\n      <td>0.311895</td>\n      <td>(of, the)</td>\n      <td>2</td>\n    </tr>\n    <tr>\n      <th>135</th>\n      <td>0.164190</td>\n      <td>(in, the)</td>\n      <td>2</td>\n    </tr>\n    <tr>\n      <th>88</th>\n      <td>0.163303</td>\n      <td>(the, and)</td>\n      <td>2</td>\n    </tr>\n    <tr>\n      <th>181</th>\n      <td>0.126488</td>\n      <td>(to, the)</td>\n      <td>2</td>\n    </tr>\n    <tr>\n      <th>84</th>\n      <td>0.126118</td>\n      <td>(of, and)</td>\n      <td>2</td>\n    </tr>\n  </tbody>\n</table>\n</div>"
     },
     "execution_count": 871,
     "metadata": {},
     "output_type": "execute_result"
    }
   ],
   "source": [
    "book3_freq_items_1 = filter_freq_items(book3_freq_items, 2)\n",
    "book3_freq_items_1.head(5)"
   ],
   "metadata": {
    "collapsed": false,
    "pycharm": {
     "name": "#%%\n"
    }
   }
  },
  {
   "cell_type": "markdown",
   "source": [
    "### Frequent 2-itemsets\n",
    "\n",
    "Right off the bat we can see some major differences by looking at the support values for the top 5 two itemset words.\n",
    " Book3, Darwin, is using a lot of two word itemsets much more. Book1 is showing a lot less support for using the same two\n",
    " word itemsets. Jane Austin's novel was probably a bit smoother of a read with more variety. To lay out the similarities\n",
    " in black and white below are the similarities and differences for the top 5.\n",
    "\n",
    " __Similarities__\n",
    " - [Of, The]\n",
    " - [The, And]\n",
    " - [The, To]\n",
    " - [Of, And]\n",
    "\n",
    "__Differences__\n",
    " - [To, And] (Book1)\n",
    " - [The, In] (Book2) (Book3)\n",
    "\n",
    "Once again there are four 2-item sets appear in the top 5 for all three books. Almost close to having all 5 being similar"
   ],
   "metadata": {
    "collapsed": false,
    "pycharm": {
     "name": "#%% md\n"
    }
   }
  },
  {
   "cell_type": "markdown",
   "source": [
    "The five most common three word itemsets for every book with a min-support of 0.02"
   ],
   "metadata": {
    "collapsed": false
   }
  },
  {
   "cell_type": "code",
   "execution_count": 872,
   "outputs": [
    {
     "data": {
      "text/plain": "      support        itemsets  length\n202  0.046187  (the, and, of)       3\n209  0.043756   (of, to, the)       3\n205  0.030431  (of, her, the)       3\n204  0.029711  (to, and, the)       3\n208  0.029621   (of, in, the)       3",
      "text/html": "<div>\n<style scoped>\n    .dataframe tbody tr th:only-of-type {\n        vertical-align: middle;\n    }\n\n    .dataframe tbody tr th {\n        vertical-align: top;\n    }\n\n    .dataframe thead th {\n        text-align: right;\n    }\n</style>\n<table border=\"1\" class=\"dataframe\">\n  <thead>\n    <tr style=\"text-align: right;\">\n      <th></th>\n      <th>support</th>\n      <th>itemsets</th>\n      <th>length</th>\n    </tr>\n  </thead>\n  <tbody>\n    <tr>\n      <th>202</th>\n      <td>0.046187</td>\n      <td>(the, and, of)</td>\n      <td>3</td>\n    </tr>\n    <tr>\n      <th>209</th>\n      <td>0.043756</td>\n      <td>(of, to, the)</td>\n      <td>3</td>\n    </tr>\n    <tr>\n      <th>205</th>\n      <td>0.030431</td>\n      <td>(of, her, the)</td>\n      <td>3</td>\n    </tr>\n    <tr>\n      <th>204</th>\n      <td>0.029711</td>\n      <td>(to, and, the)</td>\n      <td>3</td>\n    </tr>\n    <tr>\n      <th>208</th>\n      <td>0.029621</td>\n      <td>(of, in, the)</td>\n      <td>3</td>\n    </tr>\n  </tbody>\n</table>\n</div>"
     },
     "execution_count": 872,
     "metadata": {},
     "output_type": "execute_result"
    }
   ],
   "source": [
    "book1_freq_items_1 = filter_freq_items(book1_freq_items, 3)\n",
    "book1_freq_items_1.head(5)"
   ],
   "metadata": {
    "collapsed": false,
    "pycharm": {
     "name": "#%%\n"
    }
   }
  },
  {
   "cell_type": "code",
   "execution_count": 873,
   "outputs": [
    {
     "data": {
      "text/plain": "      support        itemsets  length\n174  0.060757  (the, and, of)       3\n179  0.044129   (the, in, of)       3\n182  0.040032   (to, the, of)       3\n176  0.038455  (to, the, and)       3\n173  0.038377  (the, in, and)       3",
      "text/html": "<div>\n<style scoped>\n    .dataframe tbody tr th:only-of-type {\n        vertical-align: middle;\n    }\n\n    .dataframe tbody tr th {\n        vertical-align: top;\n    }\n\n    .dataframe thead th {\n        text-align: right;\n    }\n</style>\n<table border=\"1\" class=\"dataframe\">\n  <thead>\n    <tr style=\"text-align: right;\">\n      <th></th>\n      <th>support</th>\n      <th>itemsets</th>\n      <th>length</th>\n    </tr>\n  </thead>\n  <tbody>\n    <tr>\n      <th>174</th>\n      <td>0.060757</td>\n      <td>(the, and, of)</td>\n      <td>3</td>\n    </tr>\n    <tr>\n      <th>179</th>\n      <td>0.044129</td>\n      <td>(the, in, of)</td>\n      <td>3</td>\n    </tr>\n    <tr>\n      <th>182</th>\n      <td>0.040032</td>\n      <td>(to, the, of)</td>\n      <td>3</td>\n    </tr>\n    <tr>\n      <th>176</th>\n      <td>0.038455</td>\n      <td>(to, the, and)</td>\n      <td>3</td>\n    </tr>\n    <tr>\n      <th>173</th>\n      <td>0.038377</td>\n      <td>(the, in, and)</td>\n      <td>3</td>\n    </tr>\n  </tbody>\n</table>\n</div>"
     },
     "execution_count": 873,
     "metadata": {},
     "output_type": "execute_result"
    }
   ],
   "source": [
    "book2_freq_items_1 = filter_freq_items(book2_freq_items, 3)\n",
    "book2_freq_items_1.head(5)"
   ],
   "metadata": {
    "collapsed": false,
    "pycharm": {
     "name": "#%%\n"
    }
   }
  },
  {
   "cell_type": "code",
   "execution_count": 874,
   "outputs": [
    {
     "data": {
      "text/plain": "      support        itemsets  length\n193  0.089894  (of, the, and)       3\n205  0.088268   (of, in, the)       3\n215  0.066238   (of, to, the)       3\n192  0.047535  (the, in, and)       3\n190  0.046869    (of, a, the)       3",
      "text/html": "<div>\n<style scoped>\n    .dataframe tbody tr th:only-of-type {\n        vertical-align: middle;\n    }\n\n    .dataframe tbody tr th {\n        vertical-align: top;\n    }\n\n    .dataframe thead th {\n        text-align: right;\n    }\n</style>\n<table border=\"1\" class=\"dataframe\">\n  <thead>\n    <tr style=\"text-align: right;\">\n      <th></th>\n      <th>support</th>\n      <th>itemsets</th>\n      <th>length</th>\n    </tr>\n  </thead>\n  <tbody>\n    <tr>\n      <th>193</th>\n      <td>0.089894</td>\n      <td>(of, the, and)</td>\n      <td>3</td>\n    </tr>\n    <tr>\n      <th>205</th>\n      <td>0.088268</td>\n      <td>(of, in, the)</td>\n      <td>3</td>\n    </tr>\n    <tr>\n      <th>215</th>\n      <td>0.066238</td>\n      <td>(of, to, the)</td>\n      <td>3</td>\n    </tr>\n    <tr>\n      <th>192</th>\n      <td>0.047535</td>\n      <td>(the, in, and)</td>\n      <td>3</td>\n    </tr>\n    <tr>\n      <th>190</th>\n      <td>0.046869</td>\n      <td>(of, a, the)</td>\n      <td>3</td>\n    </tr>\n  </tbody>\n</table>\n</div>"
     },
     "execution_count": 874,
     "metadata": {},
     "output_type": "execute_result"
    }
   ],
   "source": [
    "book3_freq_items_1 = filter_freq_items(book3_freq_items, 3)\n",
    "book3_freq_items_1.head(5)"
   ],
   "metadata": {
    "collapsed": false,
    "pycharm": {
     "name": "#%%\n"
    }
   }
  },
  {
   "cell_type": "markdown",
   "source": [
    "### Frequent 3-itemsets\n",
    "\n",
    "__Similarities__\n",
    "- [Of, The, And]\n",
    "- [Of, The, In]\n",
    "- [Of, The, To]\n",
    "\n",
    "__Differences__\n",
    "- [Of, The, Her] (Book1)\n",
    "- [The, In, And] (Book2, Book3)\n",
    "- [The, To, And] (Book1, Book2)\n",
    "- [A, The, Of] (Book3)\n",
    "\n",
    "After looking at all the Frequent 1,2,3 item sets it becomes apparent that all of these words are the same.\n",
    "The reason being is that they are all articles, pronouns, prepositions, conjunctions. These words don't really tell\n",
    "us too much about the text or what is in it. Rather it is just showing us the most common words that are used in almost\n",
    "every english sentence."
   ],
   "metadata": {
    "collapsed": false,
    "pycharm": {
     "name": "#%% md\n"
    }
   }
  },
  {
   "cell_type": "markdown",
   "source": [
    "### Looking into the association rules with a min_support=.2 and min_confidence=.02\n",
    "\n",
    "For right now I'm just going through and print out the association rules so that we can reconfirm that all of these\n",
    "words are mostly \"stop words\" that do not add too much understanding to what is inside of the books. These words should\n",
    "have high lift values and confidence as they are used with a high frequency but do not relay much value.\n",
    "\n",
    "The first look is at the top 5 interesting rules. This is done by looking at the lift values."
   ],
   "metadata": {
    "collapsed": false,
    "pycharm": {
     "name": "#%% md\n"
    }
   }
  },
  {
   "cell_type": "code",
   "execution_count": 875,
   "outputs": [
    {
     "data": {
      "text/plain": "    antecedents consequents  antecedent support  consequent support   support  \\\n162        (am)         (i)            0.022508            0.146394  0.020167   \n96       (have)         (i)            0.069506            0.146394  0.027370   \n72        (you)         (i)            0.084631            0.146394  0.030701   \n71          (i)       (you)            0.146394            0.084631  0.030701   \n124    (a, the)        (of)            0.044566            0.269650  0.024579   \n\n     confidence      lift  leverage  conviction  \n162    0.896000  6.120462  0.016872    8.207748  \n96     0.393782  2.689878  0.017195    1.408085  \n72     0.362766  2.478008  0.018312    1.339548  \n71     0.209717  2.478008  0.018312    1.158280  \n124    0.551515  2.045302  0.012562    1.628484  ",
      "text/html": "<div>\n<style scoped>\n    .dataframe tbody tr th:only-of-type {\n        vertical-align: middle;\n    }\n\n    .dataframe tbody tr th {\n        vertical-align: top;\n    }\n\n    .dataframe thead th {\n        text-align: right;\n    }\n</style>\n<table border=\"1\" class=\"dataframe\">\n  <thead>\n    <tr style=\"text-align: right;\">\n      <th></th>\n      <th>antecedents</th>\n      <th>consequents</th>\n      <th>antecedent support</th>\n      <th>consequent support</th>\n      <th>support</th>\n      <th>confidence</th>\n      <th>lift</th>\n      <th>leverage</th>\n      <th>conviction</th>\n    </tr>\n  </thead>\n  <tbody>\n    <tr>\n      <th>162</th>\n      <td>(am)</td>\n      <td>(i)</td>\n      <td>0.022508</td>\n      <td>0.146394</td>\n      <td>0.020167</td>\n      <td>0.896000</td>\n      <td>6.120462</td>\n      <td>0.016872</td>\n      <td>8.207748</td>\n    </tr>\n    <tr>\n      <th>96</th>\n      <td>(have)</td>\n      <td>(i)</td>\n      <td>0.069506</td>\n      <td>0.146394</td>\n      <td>0.027370</td>\n      <td>0.393782</td>\n      <td>2.689878</td>\n      <td>0.017195</td>\n      <td>1.408085</td>\n    </tr>\n    <tr>\n      <th>72</th>\n      <td>(you)</td>\n      <td>(i)</td>\n      <td>0.084631</td>\n      <td>0.146394</td>\n      <td>0.030701</td>\n      <td>0.362766</td>\n      <td>2.478008</td>\n      <td>0.018312</td>\n      <td>1.339548</td>\n    </tr>\n    <tr>\n      <th>71</th>\n      <td>(i)</td>\n      <td>(you)</td>\n      <td>0.146394</td>\n      <td>0.084631</td>\n      <td>0.030701</td>\n      <td>0.209717</td>\n      <td>2.478008</td>\n      <td>0.018312</td>\n      <td>1.158280</td>\n    </tr>\n    <tr>\n      <th>124</th>\n      <td>(a, the)</td>\n      <td>(of)</td>\n      <td>0.044566</td>\n      <td>0.269650</td>\n      <td>0.024579</td>\n      <td>0.551515</td>\n      <td>2.045302</td>\n      <td>0.012562</td>\n      <td>1.628484</td>\n    </tr>\n  </tbody>\n</table>\n</div>"
     },
     "execution_count": 875,
     "metadata": {},
     "output_type": "execute_result"
    }
   ],
   "source": [
    "book1_rules.head()"
   ],
   "metadata": {
    "collapsed": false,
    "pycharm": {
     "name": "#%%\n"
    }
   }
  },
  {
   "cell_type": "code",
   "execution_count": 876,
   "outputs": [
    {
     "data": {
      "text/plain": "    antecedents consequents  antecedent support  consequent support   support  \\\n132        (mr)     (lorry)            0.042396            0.025532  0.023089   \n131     (lorry)        (mr)            0.025532            0.042396  0.023089   \n150      (have)         (i)            0.055004            0.126241  0.021434   \n140        (is)        (it)            0.056659            0.130102  0.022301   \n80          (i)       (you)            0.126241            0.088574  0.031127   \n\n     confidence       lift  leverage  conviction  \n132    0.544610  21.330545  0.022007    2.139852  \n131    0.904321  21.330545  0.022007   10.008511  \n150    0.389685   3.086829  0.014490    1.431652  \n140    0.393602   3.025325  0.014930    1.434533  \n80     0.246567   2.783748  0.019945    1.209698  ",
      "text/html": "<div>\n<style scoped>\n    .dataframe tbody tr th:only-of-type {\n        vertical-align: middle;\n    }\n\n    .dataframe tbody tr th {\n        vertical-align: top;\n    }\n\n    .dataframe thead th {\n        text-align: right;\n    }\n</style>\n<table border=\"1\" class=\"dataframe\">\n  <thead>\n    <tr style=\"text-align: right;\">\n      <th></th>\n      <th>antecedents</th>\n      <th>consequents</th>\n      <th>antecedent support</th>\n      <th>consequent support</th>\n      <th>support</th>\n      <th>confidence</th>\n      <th>lift</th>\n      <th>leverage</th>\n      <th>conviction</th>\n    </tr>\n  </thead>\n  <tbody>\n    <tr>\n      <th>132</th>\n      <td>(mr)</td>\n      <td>(lorry)</td>\n      <td>0.042396</td>\n      <td>0.025532</td>\n      <td>0.023089</td>\n      <td>0.544610</td>\n      <td>21.330545</td>\n      <td>0.022007</td>\n      <td>2.139852</td>\n    </tr>\n    <tr>\n      <th>131</th>\n      <td>(lorry)</td>\n      <td>(mr)</td>\n      <td>0.025532</td>\n      <td>0.042396</td>\n      <td>0.023089</td>\n      <td>0.904321</td>\n      <td>21.330545</td>\n      <td>0.022007</td>\n      <td>10.008511</td>\n    </tr>\n    <tr>\n      <th>150</th>\n      <td>(have)</td>\n      <td>(i)</td>\n      <td>0.055004</td>\n      <td>0.126241</td>\n      <td>0.021434</td>\n      <td>0.389685</td>\n      <td>3.086829</td>\n      <td>0.014490</td>\n      <td>1.431652</td>\n    </tr>\n    <tr>\n      <th>140</th>\n      <td>(is)</td>\n      <td>(it)</td>\n      <td>0.056659</td>\n      <td>0.130102</td>\n      <td>0.022301</td>\n      <td>0.393602</td>\n      <td>3.025325</td>\n      <td>0.014930</td>\n      <td>1.434533</td>\n    </tr>\n    <tr>\n      <th>80</th>\n      <td>(i)</td>\n      <td>(you)</td>\n      <td>0.126241</td>\n      <td>0.088574</td>\n      <td>0.031127</td>\n      <td>0.246567</td>\n      <td>2.783748</td>\n      <td>0.019945</td>\n      <td>1.209698</td>\n    </tr>\n  </tbody>\n</table>\n</div>"
     },
     "execution_count": 876,
     "metadata": {},
     "output_type": "execute_result"
    }
   ],
   "source": [
    "book2_rules.head()"
   ],
   "metadata": {
    "collapsed": false,
    "pycharm": {
     "name": "#%%\n"
    }
   }
  },
  {
   "cell_type": "code",
   "execution_count": 877,
   "outputs": [
    {
     "data": {
      "text/plain": "    antecedents consequents  antecedent support  consequent support   support  \\\n98       (have)      (been)            0.121535            0.064538  0.033932   \n99       (been)      (have)            0.064538            0.121535  0.033932   \n142        (is)        (it)            0.098100            0.074444  0.027870   \n141        (it)        (is)            0.074444            0.098100  0.027870   \n119      (that)        (it)            0.147557            0.074444  0.030458   \n\n     confidence      lift  leverage  conviction  \n98     0.279197  4.326116  0.026089    1.297806  \n99     0.525773  4.326116  0.026089    1.852416  \n142    0.284099  3.816299  0.020567    1.292856  \n141    0.374379  3.816299  0.020567    1.441608  \n119    0.206413  2.772737  0.019473    1.166294  ",
      "text/html": "<div>\n<style scoped>\n    .dataframe tbody tr th:only-of-type {\n        vertical-align: middle;\n    }\n\n    .dataframe tbody tr th {\n        vertical-align: top;\n    }\n\n    .dataframe thead th {\n        text-align: right;\n    }\n</style>\n<table border=\"1\" class=\"dataframe\">\n  <thead>\n    <tr style=\"text-align: right;\">\n      <th></th>\n      <th>antecedents</th>\n      <th>consequents</th>\n      <th>antecedent support</th>\n      <th>consequent support</th>\n      <th>support</th>\n      <th>confidence</th>\n      <th>lift</th>\n      <th>leverage</th>\n      <th>conviction</th>\n    </tr>\n  </thead>\n  <tbody>\n    <tr>\n      <th>98</th>\n      <td>(have)</td>\n      <td>(been)</td>\n      <td>0.121535</td>\n      <td>0.064538</td>\n      <td>0.033932</td>\n      <td>0.279197</td>\n      <td>4.326116</td>\n      <td>0.026089</td>\n      <td>1.297806</td>\n    </tr>\n    <tr>\n      <th>99</th>\n      <td>(been)</td>\n      <td>(have)</td>\n      <td>0.064538</td>\n      <td>0.121535</td>\n      <td>0.033932</td>\n      <td>0.525773</td>\n      <td>4.326116</td>\n      <td>0.026089</td>\n      <td>1.852416</td>\n    </tr>\n    <tr>\n      <th>142</th>\n      <td>(is)</td>\n      <td>(it)</td>\n      <td>0.098100</td>\n      <td>0.074444</td>\n      <td>0.027870</td>\n      <td>0.284099</td>\n      <td>3.816299</td>\n      <td>0.020567</td>\n      <td>1.292856</td>\n    </tr>\n    <tr>\n      <th>141</th>\n      <td>(it)</td>\n      <td>(is)</td>\n      <td>0.074444</td>\n      <td>0.098100</td>\n      <td>0.027870</td>\n      <td>0.374379</td>\n      <td>3.816299</td>\n      <td>0.020567</td>\n      <td>1.441608</td>\n    </tr>\n    <tr>\n      <th>119</th>\n      <td>(that)</td>\n      <td>(it)</td>\n      <td>0.147557</td>\n      <td>0.074444</td>\n      <td>0.030458</td>\n      <td>0.206413</td>\n      <td>2.772737</td>\n      <td>0.019473</td>\n      <td>1.166294</td>\n    </tr>\n  </tbody>\n</table>\n</div>"
     },
     "execution_count": 877,
     "metadata": {},
     "output_type": "execute_result"
    }
   ],
   "source": [
    "book3_rules.head()"
   ],
   "metadata": {
    "collapsed": false,
    "pycharm": {
     "name": "#%%\n"
    }
   }
  },
  {
   "cell_type": "markdown",
   "source": [
    "The first look at the association rules is filter to have the lift values as the highest. The first book contains\n",
    "a lot of words [am, have, you] as antecedents to the consequents I. <br>\n",
    "\n",
    "The second book [mr] followed by [lorry] makes sense as mr is always going to be before lorry, for Mr Lory. <br>\n",
    "\n",
    "The third book definitely shows a few different rules. With [have] followed by [been] or [it],[is] would make sense for\n",
    "Darwin describing different types of animals and evolution. This can also be shown by less person pronouns being used."
   ],
   "metadata": {
    "collapsed": false
   }
  },
  {
   "cell_type": "markdown",
   "source": [
    "### Filtering rules by support to add an extra look"
   ],
   "metadata": {
    "collapsed": false,
    "pycharm": {
     "name": "#%% md\n"
    }
   }
  },
  {
   "cell_type": "code",
   "execution_count": 878,
   "outputs": [
    {
     "data": {
      "text/plain": "  antecedents consequents  antecedent support  consequent support   support  \\\n0        (of)       (the)            0.269650            0.283155  0.138651   \n1       (the)        (of)            0.283155            0.269650  0.138651   \n2       (and)       (the)            0.276672            0.283155  0.098316   \n3       (the)       (and)            0.283155            0.276672  0.098316   \n5       (the)        (to)            0.283155            0.300081  0.095165   \n\n   confidence      lift  leverage  conviction  \n0    0.514190  1.815934  0.062299    1.475568  \n1    0.489666  1.815934  0.062299    1.431122  \n2    0.355353  1.254978  0.019975    1.111997  \n3    0.347218  1.254978  0.019975    1.108069  \n5    0.336089  1.119994  0.010196    1.054236  ",
      "text/html": "<div>\n<style scoped>\n    .dataframe tbody tr th:only-of-type {\n        vertical-align: middle;\n    }\n\n    .dataframe tbody tr th {\n        vertical-align: top;\n    }\n\n    .dataframe thead th {\n        text-align: right;\n    }\n</style>\n<table border=\"1\" class=\"dataframe\">\n  <thead>\n    <tr style=\"text-align: right;\">\n      <th></th>\n      <th>antecedents</th>\n      <th>consequents</th>\n      <th>antecedent support</th>\n      <th>consequent support</th>\n      <th>support</th>\n      <th>confidence</th>\n      <th>lift</th>\n      <th>leverage</th>\n      <th>conviction</th>\n    </tr>\n  </thead>\n  <tbody>\n    <tr>\n      <th>0</th>\n      <td>(of)</td>\n      <td>(the)</td>\n      <td>0.269650</td>\n      <td>0.283155</td>\n      <td>0.138651</td>\n      <td>0.514190</td>\n      <td>1.815934</td>\n      <td>0.062299</td>\n      <td>1.475568</td>\n    </tr>\n    <tr>\n      <th>1</th>\n      <td>(the)</td>\n      <td>(of)</td>\n      <td>0.283155</td>\n      <td>0.269650</td>\n      <td>0.138651</td>\n      <td>0.489666</td>\n      <td>1.815934</td>\n      <td>0.062299</td>\n      <td>1.431122</td>\n    </tr>\n    <tr>\n      <th>2</th>\n      <td>(and)</td>\n      <td>(the)</td>\n      <td>0.276672</td>\n      <td>0.283155</td>\n      <td>0.098316</td>\n      <td>0.355353</td>\n      <td>1.254978</td>\n      <td>0.019975</td>\n      <td>1.111997</td>\n    </tr>\n    <tr>\n      <th>3</th>\n      <td>(the)</td>\n      <td>(and)</td>\n      <td>0.283155</td>\n      <td>0.276672</td>\n      <td>0.098316</td>\n      <td>0.347218</td>\n      <td>1.254978</td>\n      <td>0.019975</td>\n      <td>1.108069</td>\n    </tr>\n    <tr>\n      <th>5</th>\n      <td>(the)</td>\n      <td>(to)</td>\n      <td>0.283155</td>\n      <td>0.300081</td>\n      <td>0.095165</td>\n      <td>0.336089</td>\n      <td>1.119994</td>\n      <td>0.010196</td>\n      <td>1.054236</td>\n    </tr>\n  </tbody>\n</table>\n</div>"
     },
     "execution_count": 878,
     "metadata": {},
     "output_type": "execute_result"
    }
   ],
   "source": [
    "book1_rules.sort_values(by=[\"support\"], ascending=False).head()"
   ],
   "metadata": {
    "collapsed": false,
    "pycharm": {
     "name": "#%%\n"
    }
   }
  },
  {
   "cell_type": "code",
   "execution_count": 879,
   "outputs": [
    {
     "data": {
      "text/plain": "  antecedents consequents  antecedent support  consequent support   support  \\\n1        (of)       (the)            0.259023            0.421277  0.171316   \n0       (the)        (of)            0.421277            0.259023  0.171316   \n3       (and)       (the)            0.324901            0.421277  0.163672   \n2       (the)       (and)            0.421277            0.324901  0.163672   \n4        (to)       (the)            0.232467            0.421277  0.109771   \n\n   confidence      lift  leverage  conviction  \n1    0.661393  1.569974  0.062196    1.709132  \n0    0.406659  1.569974  0.062196    1.248822  \n3    0.503759  1.195793  0.026799    1.166215  \n2    0.388515  1.195793  0.026799    1.104031  \n4    0.472203  1.120887  0.011839    1.096489  ",
      "text/html": "<div>\n<style scoped>\n    .dataframe tbody tr th:only-of-type {\n        vertical-align: middle;\n    }\n\n    .dataframe tbody tr th {\n        vertical-align: top;\n    }\n\n    .dataframe thead th {\n        text-align: right;\n    }\n</style>\n<table border=\"1\" class=\"dataframe\">\n  <thead>\n    <tr style=\"text-align: right;\">\n      <th></th>\n      <th>antecedents</th>\n      <th>consequents</th>\n      <th>antecedent support</th>\n      <th>consequent support</th>\n      <th>support</th>\n      <th>confidence</th>\n      <th>lift</th>\n      <th>leverage</th>\n      <th>conviction</th>\n    </tr>\n  </thead>\n  <tbody>\n    <tr>\n      <th>1</th>\n      <td>(of)</td>\n      <td>(the)</td>\n      <td>0.259023</td>\n      <td>0.421277</td>\n      <td>0.171316</td>\n      <td>0.661393</td>\n      <td>1.569974</td>\n      <td>0.062196</td>\n      <td>1.709132</td>\n    </tr>\n    <tr>\n      <th>0</th>\n      <td>(the)</td>\n      <td>(of)</td>\n      <td>0.421277</td>\n      <td>0.259023</td>\n      <td>0.171316</td>\n      <td>0.406659</td>\n      <td>1.569974</td>\n      <td>0.062196</td>\n      <td>1.248822</td>\n    </tr>\n    <tr>\n      <th>3</th>\n      <td>(and)</td>\n      <td>(the)</td>\n      <td>0.324901</td>\n      <td>0.421277</td>\n      <td>0.163672</td>\n      <td>0.503759</td>\n      <td>1.195793</td>\n      <td>0.026799</td>\n      <td>1.166215</td>\n    </tr>\n    <tr>\n      <th>2</th>\n      <td>(the)</td>\n      <td>(and)</td>\n      <td>0.421277</td>\n      <td>0.324901</td>\n      <td>0.163672</td>\n      <td>0.388515</td>\n      <td>1.195793</td>\n      <td>0.026799</td>\n      <td>1.104031</td>\n    </tr>\n    <tr>\n      <th>4</th>\n      <td>(to)</td>\n      <td>(the)</td>\n      <td>0.232467</td>\n      <td>0.421277</td>\n      <td>0.109771</td>\n      <td>0.472203</td>\n      <td>1.120887</td>\n      <td>0.011839</td>\n      <td>1.096489</td>\n    </tr>\n  </tbody>\n</table>\n</div>"
     },
     "execution_count": 879,
     "metadata": {},
     "output_type": "execute_result"
    }
   ],
   "source": [
    "book2_rules.sort_values(by=[\"support\"], ascending=False).head()"
   ],
   "metadata": {
    "collapsed": false,
    "pycharm": {
     "name": "#%%\n"
    }
   }
  },
  {
   "cell_type": "code",
   "execution_count": 880,
   "outputs": [
    {
     "data": {
      "text/plain": "  antecedents consequents  antecedent support  consequent support   support  \\\n0        (of)       (the)            0.434390            0.522363  0.311895   \n1       (the)        (of)            0.522363            0.434390  0.311895   \n3       (the)        (in)            0.522363            0.257707  0.164190   \n2        (in)       (the)            0.257707            0.522363  0.164190   \n4       (the)       (and)            0.522363            0.283951  0.163303   \n\n   confidence      lift  leverage  conviction  \n0    0.718005  1.374534  0.084985    1.693782  \n1    0.597085  1.374534  0.084985    1.403792  \n3    0.314322  1.219689  0.029574    1.082568  \n2    0.637120  1.219689  0.029574    1.316240  \n4    0.312624  1.100980  0.014978    1.041714  ",
      "text/html": "<div>\n<style scoped>\n    .dataframe tbody tr th:only-of-type {\n        vertical-align: middle;\n    }\n\n    .dataframe tbody tr th {\n        vertical-align: top;\n    }\n\n    .dataframe thead th {\n        text-align: right;\n    }\n</style>\n<table border=\"1\" class=\"dataframe\">\n  <thead>\n    <tr style=\"text-align: right;\">\n      <th></th>\n      <th>antecedents</th>\n      <th>consequents</th>\n      <th>antecedent support</th>\n      <th>consequent support</th>\n      <th>support</th>\n      <th>confidence</th>\n      <th>lift</th>\n      <th>leverage</th>\n      <th>conviction</th>\n    </tr>\n  </thead>\n  <tbody>\n    <tr>\n      <th>0</th>\n      <td>(of)</td>\n      <td>(the)</td>\n      <td>0.434390</td>\n      <td>0.522363</td>\n      <td>0.311895</td>\n      <td>0.718005</td>\n      <td>1.374534</td>\n      <td>0.084985</td>\n      <td>1.693782</td>\n    </tr>\n    <tr>\n      <th>1</th>\n      <td>(the)</td>\n      <td>(of)</td>\n      <td>0.522363</td>\n      <td>0.434390</td>\n      <td>0.311895</td>\n      <td>0.597085</td>\n      <td>1.374534</td>\n      <td>0.084985</td>\n      <td>1.403792</td>\n    </tr>\n    <tr>\n      <th>3</th>\n      <td>(the)</td>\n      <td>(in)</td>\n      <td>0.522363</td>\n      <td>0.257707</td>\n      <td>0.164190</td>\n      <td>0.314322</td>\n      <td>1.219689</td>\n      <td>0.029574</td>\n      <td>1.082568</td>\n    </tr>\n    <tr>\n      <th>2</th>\n      <td>(in)</td>\n      <td>(the)</td>\n      <td>0.257707</td>\n      <td>0.522363</td>\n      <td>0.164190</td>\n      <td>0.637120</td>\n      <td>1.219689</td>\n      <td>0.029574</td>\n      <td>1.316240</td>\n    </tr>\n    <tr>\n      <th>4</th>\n      <td>(the)</td>\n      <td>(and)</td>\n      <td>0.522363</td>\n      <td>0.283951</td>\n      <td>0.163303</td>\n      <td>0.312624</td>\n      <td>1.100980</td>\n      <td>0.014978</td>\n      <td>1.041714</td>\n    </tr>\n  </tbody>\n</table>\n</div>"
     },
     "execution_count": 880,
     "metadata": {},
     "output_type": "execute_result"
    }
   ],
   "source": [
    "book3_rules.sort_values(by=[\"support\"], ascending=False).head()"
   ],
   "metadata": {
    "collapsed": false,
    "pycharm": {
     "name": "#%%\n"
    }
   }
  },
  {
   "cell_type": "markdown",
   "source": [
    "When sorting the association rules by strongest support we see the same results as looking at the 1-itemset\n",
    "from the analysis above.\n",
    "\n",
    "Next is a quick look at looking at the largest confidence to look at the strongest rules."
   ],
   "metadata": {
    "collapsed": false,
    "pycharm": {
     "name": "#%% md\n"
    }
   }
  },
  {
   "cell_type": "code",
   "execution_count": 881,
   "outputs": [
    {
     "data": {
      "text/plain": "    antecedents consequents  antecedent support  consequent support   support  \\\n162        (am)         (i)            0.022508            0.146394  0.020167   \n112   (was, of)       (the)            0.045287            0.283155  0.025389   \n85     (in, of)       (the)            0.053120            0.283155  0.029621   \n124    (a, the)        (of)            0.044566            0.269650  0.024579   \n76   (her, the)        (of)            0.056901            0.269650  0.030431   \n\n     confidence      lift  leverage  conviction  \n162    0.896000  6.120462  0.016872    8.207748  \n112    0.560636  1.979964  0.012566    1.631553  \n85     0.557627  1.969337  0.014580    1.620455  \n124    0.551515  2.045302  0.012562    1.628484  \n76     0.534810  1.983351  0.015088    1.570005  ",
      "text/html": "<div>\n<style scoped>\n    .dataframe tbody tr th:only-of-type {\n        vertical-align: middle;\n    }\n\n    .dataframe tbody tr th {\n        vertical-align: top;\n    }\n\n    .dataframe thead th {\n        text-align: right;\n    }\n</style>\n<table border=\"1\" class=\"dataframe\">\n  <thead>\n    <tr style=\"text-align: right;\">\n      <th></th>\n      <th>antecedents</th>\n      <th>consequents</th>\n      <th>antecedent support</th>\n      <th>consequent support</th>\n      <th>support</th>\n      <th>confidence</th>\n      <th>lift</th>\n      <th>leverage</th>\n      <th>conviction</th>\n    </tr>\n  </thead>\n  <tbody>\n    <tr>\n      <th>162</th>\n      <td>(am)</td>\n      <td>(i)</td>\n      <td>0.022508</td>\n      <td>0.146394</td>\n      <td>0.020167</td>\n      <td>0.896000</td>\n      <td>6.120462</td>\n      <td>0.016872</td>\n      <td>8.207748</td>\n    </tr>\n    <tr>\n      <th>112</th>\n      <td>(was, of)</td>\n      <td>(the)</td>\n      <td>0.045287</td>\n      <td>0.283155</td>\n      <td>0.025389</td>\n      <td>0.560636</td>\n      <td>1.979964</td>\n      <td>0.012566</td>\n      <td>1.631553</td>\n    </tr>\n    <tr>\n      <th>85</th>\n      <td>(in, of)</td>\n      <td>(the)</td>\n      <td>0.053120</td>\n      <td>0.283155</td>\n      <td>0.029621</td>\n      <td>0.557627</td>\n      <td>1.969337</td>\n      <td>0.014580</td>\n      <td>1.620455</td>\n    </tr>\n    <tr>\n      <th>124</th>\n      <td>(a, the)</td>\n      <td>(of)</td>\n      <td>0.044566</td>\n      <td>0.269650</td>\n      <td>0.024579</td>\n      <td>0.551515</td>\n      <td>2.045302</td>\n      <td>0.012562</td>\n      <td>1.628484</td>\n    </tr>\n    <tr>\n      <th>76</th>\n      <td>(her, the)</td>\n      <td>(of)</td>\n      <td>0.056901</td>\n      <td>0.269650</td>\n      <td>0.030431</td>\n      <td>0.534810</td>\n      <td>1.983351</td>\n      <td>0.015088</td>\n      <td>1.570005</td>\n    </tr>\n  </tbody>\n</table>\n</div>"
     },
     "execution_count": 881,
     "metadata": {},
     "output_type": "execute_result"
    }
   ],
   "source": [
    "book1_rules.sort_values(by=[\"confidence\"], ascending=False).head()"
   ],
   "metadata": {
    "collapsed": false,
    "pycharm": {
     "name": "#%%\n"
    }
   }
  },
  {
   "cell_type": "code",
   "execution_count": 882,
   "outputs": [
    {
     "data": {
      "text/plain": "    antecedents consequents  antecedent support  consequent support   support  \\\n131     (lorry)        (mr)            0.025532            0.042396  0.023089   \n42     (in, of)       (the)            0.059968            0.421277  0.044129   \n100   (of, was)       (the)            0.038534            0.421277  0.027187   \n52     (to, of)       (the)            0.058077            0.421277  0.040032   \n1          (of)       (the)            0.259023            0.421277  0.171316   \n\n     confidence       lift  leverage  conviction  \n131    0.904321  21.330545  0.022007   10.008511  \n42     0.735874   1.746771  0.018866    2.191087  \n100    0.705521   1.674723  0.010953    1.965248  \n52     0.689281   1.636172  0.015565    1.862529  \n1      0.661393   1.569974  0.062196    1.709132  ",
      "text/html": "<div>\n<style scoped>\n    .dataframe tbody tr th:only-of-type {\n        vertical-align: middle;\n    }\n\n    .dataframe tbody tr th {\n        vertical-align: top;\n    }\n\n    .dataframe thead th {\n        text-align: right;\n    }\n</style>\n<table border=\"1\" class=\"dataframe\">\n  <thead>\n    <tr style=\"text-align: right;\">\n      <th></th>\n      <th>antecedents</th>\n      <th>consequents</th>\n      <th>antecedent support</th>\n      <th>consequent support</th>\n      <th>support</th>\n      <th>confidence</th>\n      <th>lift</th>\n      <th>leverage</th>\n      <th>conviction</th>\n    </tr>\n  </thead>\n  <tbody>\n    <tr>\n      <th>131</th>\n      <td>(lorry)</td>\n      <td>(mr)</td>\n      <td>0.025532</td>\n      <td>0.042396</td>\n      <td>0.023089</td>\n      <td>0.904321</td>\n      <td>21.330545</td>\n      <td>0.022007</td>\n      <td>10.008511</td>\n    </tr>\n    <tr>\n      <th>42</th>\n      <td>(in, of)</td>\n      <td>(the)</td>\n      <td>0.059968</td>\n      <td>0.421277</td>\n      <td>0.044129</td>\n      <td>0.735874</td>\n      <td>1.746771</td>\n      <td>0.018866</td>\n      <td>2.191087</td>\n    </tr>\n    <tr>\n      <th>100</th>\n      <td>(of, was)</td>\n      <td>(the)</td>\n      <td>0.038534</td>\n      <td>0.421277</td>\n      <td>0.027187</td>\n      <td>0.705521</td>\n      <td>1.674723</td>\n      <td>0.010953</td>\n      <td>1.965248</td>\n    </tr>\n    <tr>\n      <th>52</th>\n      <td>(to, of)</td>\n      <td>(the)</td>\n      <td>0.058077</td>\n      <td>0.421277</td>\n      <td>0.040032</td>\n      <td>0.689281</td>\n      <td>1.636172</td>\n      <td>0.015565</td>\n      <td>1.862529</td>\n    </tr>\n    <tr>\n      <th>1</th>\n      <td>(of)</td>\n      <td>(the)</td>\n      <td>0.259023</td>\n      <td>0.421277</td>\n      <td>0.171316</td>\n      <td>0.661393</td>\n      <td>1.569974</td>\n      <td>0.062196</td>\n      <td>1.709132</td>\n    </tr>\n  </tbody>\n</table>\n</div>"
     },
     "execution_count": 882,
     "metadata": {},
     "output_type": "execute_result"
    }
   ],
   "source": [
    "book2_rules.sort_values(by=[\"confidence\"], ascending=False).head()"
   ],
   "metadata": {
    "collapsed": false,
    "pycharm": {
     "name": "#%%\n"
    }
   }
  },
  {
   "cell_type": "code",
   "execution_count": 883,
   "outputs": [
    {
     "data": {
      "text/plain": "    antecedents consequents  antecedent support  consequent support   support  \\\n149  (same, of)       (the)            0.027722            0.522363  0.027057   \n56       (same)       (the)            0.049604            0.522363  0.046426   \n71     (on, of)       (the)            0.051748            0.522363  0.040807   \n19     (in, of)       (the)            0.113994            0.522363  0.088268   \n106    (is, of)       (the)            0.041990            0.522363  0.032010   \n\n     confidence      lift  leverage  conviction  \n149    0.976000  1.868434  0.012576   19.901555  \n56     0.935917  1.791699  0.020514    7.453364  \n71     0.788571  1.509624  0.013776    2.259095  \n19     0.774319  1.482340  0.028722    2.116427  \n106    0.762324  1.459377  0.010076    2.009615  ",
      "text/html": "<div>\n<style scoped>\n    .dataframe tbody tr th:only-of-type {\n        vertical-align: middle;\n    }\n\n    .dataframe tbody tr th {\n        vertical-align: top;\n    }\n\n    .dataframe thead th {\n        text-align: right;\n    }\n</style>\n<table border=\"1\" class=\"dataframe\">\n  <thead>\n    <tr style=\"text-align: right;\">\n      <th></th>\n      <th>antecedents</th>\n      <th>consequents</th>\n      <th>antecedent support</th>\n      <th>consequent support</th>\n      <th>support</th>\n      <th>confidence</th>\n      <th>lift</th>\n      <th>leverage</th>\n      <th>conviction</th>\n    </tr>\n  </thead>\n  <tbody>\n    <tr>\n      <th>149</th>\n      <td>(same, of)</td>\n      <td>(the)</td>\n      <td>0.027722</td>\n      <td>0.522363</td>\n      <td>0.027057</td>\n      <td>0.976000</td>\n      <td>1.868434</td>\n      <td>0.012576</td>\n      <td>19.901555</td>\n    </tr>\n    <tr>\n      <th>56</th>\n      <td>(same)</td>\n      <td>(the)</td>\n      <td>0.049604</td>\n      <td>0.522363</td>\n      <td>0.046426</td>\n      <td>0.935917</td>\n      <td>1.791699</td>\n      <td>0.020514</td>\n      <td>7.453364</td>\n    </tr>\n    <tr>\n      <th>71</th>\n      <td>(on, of)</td>\n      <td>(the)</td>\n      <td>0.051748</td>\n      <td>0.522363</td>\n      <td>0.040807</td>\n      <td>0.788571</td>\n      <td>1.509624</td>\n      <td>0.013776</td>\n      <td>2.259095</td>\n    </tr>\n    <tr>\n      <th>19</th>\n      <td>(in, of)</td>\n      <td>(the)</td>\n      <td>0.113994</td>\n      <td>0.522363</td>\n      <td>0.088268</td>\n      <td>0.774319</td>\n      <td>1.482340</td>\n      <td>0.028722</td>\n      <td>2.116427</td>\n    </tr>\n    <tr>\n      <th>106</th>\n      <td>(is, of)</td>\n      <td>(the)</td>\n      <td>0.041990</td>\n      <td>0.522363</td>\n      <td>0.032010</td>\n      <td>0.762324</td>\n      <td>1.459377</td>\n      <td>0.010076</td>\n      <td>2.009615</td>\n    </tr>\n  </tbody>\n</table>\n</div>"
     },
     "execution_count": 883,
     "metadata": {},
     "output_type": "execute_result"
    }
   ],
   "source": [
    "book3_rules.sort_values(by=[\"confidence\"], ascending=False).head()"
   ],
   "metadata": {
    "collapsed": false,
    "pycharm": {
     "name": "#%%\n"
    }
   }
  },
  {
   "cell_type": "markdown",
   "source": [
    "When looking at the largest confidence sets we discover some differences between the words that are being used.\n",
    "There is a much higher confidence of [am] followed by [i] for the first book with a really interesting Lift value of 6.\n",
    " [Mr] followed by [Lorry] should have the largest confidence value. Which it does with the highest lift out of all the\n",
    " rules. The most suprising is Darwins uses in the third book. where [Same,Of] followed by [The] has a large confidence\n",
    " value.\n",
    "\n",
    "All of the looks at the association rules above show strong confidence values, and have interesting rules shown by\n",
    "the lift values being larger than 1. When filtering by lift values for the look at the interesting rules we see a lot of\n",
    "pronoun and article usage for the first two books. Lots of antecedents being followed by the consequents [The]."
   ],
   "metadata": {
    "collapsed": false,
    "pycharm": {
     "name": "#%% md\n"
    }
   }
  },
  {
   "cell_type": "markdown",
   "source": [
    "## Removing the Stop words.\n",
    "After looking at the frequent items and the association rules above it has become apparent that not too much can be taken\n",
    "away from the strong and interesting rules. For the most part, all of the results have given us strong relations between\n",
    "stop words. Theses are the words that are used most in the english language. It is for this reason that I have decided\n",
    " to remove all the Stop words to try and see if we can develop some more interesting rules that give us more meaning to\n",
    " the association rules. After giving this the first run, I have decided to add [mrs, mr, sir, miss] to the stop list words.\n",
    " [S,T] is getting taken out because all punctuation has been removed ['] and show's a high correlation when conducting\n",
    " analysis."
   ],
   "metadata": {
    "collapsed": false,
    "pycharm": {
     "name": "#%% md\n"
    }
   }
  },
  {
   "cell_type": "code",
   "execution_count": 884,
   "outputs": [],
   "source": [
    "# Importing the ENGLISH_STOP_WORDS\n",
    "from sklearn.feature_extraction.text import ENGLISH_STOP_WORDS\n",
    "\n",
    "def remove_stop_words(book):\n",
    "    \"\"\"This function goes through and removes the stop words from the list\"\"\"\n",
    "    additional_stop_words = ['mrs','mr','s','t','sir','miss']  # Adding additional words to remove from the stop words\n",
    "    stop_words = ENGLISH_STOP_WORDS.union(additional_stop_words)\n",
    "    new_book = []\n",
    "    for line in book:\n",
    "        new_book.append([word for word in line if word not in stop_words])\n",
    "    return new_book"
   ],
   "metadata": {
    "collapsed": false,
    "pycharm": {
     "name": "#%%\n"
    }
   }
  },
  {
   "cell_type": "code",
   "execution_count": 885,
   "outputs": [],
   "source": [
    "# Removing all the stop words from the books\n",
    "new_book1 = remove_stop_words(book1)\n",
    "new_book2 = remove_stop_words(book2)\n",
    "new_book3 = remove_stop_words(book3)"
   ],
   "metadata": {
    "collapsed": false,
    "pycharm": {
     "name": "#%%\n"
    }
   }
  },
  {
   "cell_type": "code",
   "execution_count": 886,
   "outputs": [],
   "source": [
    "# Sending off the new_books to get 1 hot boolean for setup on apriori\n",
    "new_book1_df = transact_1_hot(new_book1)\n",
    "new_book2_df = transact_1_hot(new_book2)\n",
    "new_book3_df = transact_1_hot(new_book3)"
   ],
   "metadata": {
    "collapsed": false,
    "pycharm": {
     "name": "#%%\n"
    }
   }
  },
  {
   "cell_type": "code",
   "execution_count": 887,
   "outputs": [],
   "source": [
    "# Sending off new books to look at the association rules and frequent items now that the stop words have been removed\n",
    "new_book1_rules, new_book1_freq_items = run_apriori(new_book1_df)\n",
    "new_book2_rules, new_book2_freq_items = run_apriori(new_book2_df)\n",
    "new_book3_rules, new_book3_freq_items = run_apriori(new_book3_df)"
   ],
   "metadata": {
    "collapsed": false,
    "pycharm": {
     "name": "#%%\n"
    }
   }
  },
  {
   "cell_type": "markdown",
   "source": [
    "### 1-itemset Frequent Words (With Stop words removed)\n",
    "The five most common one words for every book now that stop words have been removed. With min_support at .02 and\n",
    "min_confidence at .2"
   ],
   "metadata": {
    "collapsed": false
   }
  },
  {
   "cell_type": "code",
   "execution_count": 888,
   "outputs": [
    {
     "data": {
      "text/plain": "    support    itemsets  length\n1  0.057801    (elinor)       1\n2  0.046457  (marianne)       1\n4  0.032862      (said)       1\n5  0.021878    (sister)       1\n0  0.020978    (edward)       1",
      "text/html": "<div>\n<style scoped>\n    .dataframe tbody tr th:only-of-type {\n        vertical-align: middle;\n    }\n\n    .dataframe tbody tr th {\n        vertical-align: top;\n    }\n\n    .dataframe thead th {\n        text-align: right;\n    }\n</style>\n<table border=\"1\" class=\"dataframe\">\n  <thead>\n    <tr style=\"text-align: right;\">\n      <th></th>\n      <th>support</th>\n      <th>itemsets</th>\n      <th>length</th>\n    </tr>\n  </thead>\n  <tbody>\n    <tr>\n      <th>1</th>\n      <td>0.057801</td>\n      <td>(elinor)</td>\n      <td>1</td>\n    </tr>\n    <tr>\n      <th>2</th>\n      <td>0.046457</td>\n      <td>(marianne)</td>\n      <td>1</td>\n    </tr>\n    <tr>\n      <th>4</th>\n      <td>0.032862</td>\n      <td>(said)</td>\n      <td>1</td>\n    </tr>\n    <tr>\n      <th>5</th>\n      <td>0.021878</td>\n      <td>(sister)</td>\n      <td>1</td>\n    </tr>\n    <tr>\n      <th>0</th>\n      <td>0.020978</td>\n      <td>(edward)</td>\n      <td>1</td>\n    </tr>\n  </tbody>\n</table>\n</div>"
     },
     "execution_count": 888,
     "metadata": {},
     "output_type": "execute_result"
    }
   ],
   "source": [
    "new_book1_freq_items_1 = filter_freq_items(new_book1_freq_items)\n",
    "new_book1_freq_items_1.head()"
   ],
   "metadata": {
    "collapsed": false,
    "pycharm": {
     "name": "#%%\n"
    }
   }
  },
  {
   "cell_type": "code",
   "execution_count": 889,
   "outputs": [
    {
     "data": {
      "text/plain": "    support itemsets  length\n2  0.047203   (said)       1\n0  0.025532  (lorry)       1\n1  0.021198    (man)       1",
      "text/html": "<div>\n<style scoped>\n    .dataframe tbody tr th:only-of-type {\n        vertical-align: middle;\n    }\n\n    .dataframe tbody tr th {\n        vertical-align: top;\n    }\n\n    .dataframe thead th {\n        text-align: right;\n    }\n</style>\n<table border=\"1\" class=\"dataframe\">\n  <thead>\n    <tr style=\"text-align: right;\">\n      <th></th>\n      <th>support</th>\n      <th>itemsets</th>\n      <th>length</th>\n    </tr>\n  </thead>\n  <tbody>\n    <tr>\n      <th>2</th>\n      <td>0.047203</td>\n      <td>(said)</td>\n      <td>1</td>\n    </tr>\n    <tr>\n      <th>0</th>\n      <td>0.025532</td>\n      <td>(lorry)</td>\n      <td>1</td>\n    </tr>\n    <tr>\n      <th>1</th>\n      <td>0.021198</td>\n      <td>(man)</td>\n      <td>1</td>\n    </tr>\n  </tbody>\n</table>\n</div>"
     },
     "execution_count": 889,
     "metadata": {},
     "output_type": "execute_result"
    }
   ],
   "source": [
    "new_book2_freq_items_1 = filter_freq_items(new_book2_freq_items)\n",
    "new_book2_freq_items_1.head()"
   ],
   "metadata": {
    "collapsed": false,
    "pycharm": {
     "name": "#%%\n"
    }
   }
  },
  {
   "cell_type": "code",
   "execution_count": 890,
   "outputs": [
    {
     "data": {
      "text/plain": "    support     itemsets  length\n6  0.094773    (species)       1\n7  0.027722  (varieties)       1\n2  0.026022      (forms)       1\n5  0.024691  (selection)       1\n3  0.023287    (natural)       1",
      "text/html": "<div>\n<style scoped>\n    .dataframe tbody tr th:only-of-type {\n        vertical-align: middle;\n    }\n\n    .dataframe tbody tr th {\n        vertical-align: top;\n    }\n\n    .dataframe thead th {\n        text-align: right;\n    }\n</style>\n<table border=\"1\" class=\"dataframe\">\n  <thead>\n    <tr style=\"text-align: right;\">\n      <th></th>\n      <th>support</th>\n      <th>itemsets</th>\n      <th>length</th>\n    </tr>\n  </thead>\n  <tbody>\n    <tr>\n      <th>6</th>\n      <td>0.094773</td>\n      <td>(species)</td>\n      <td>1</td>\n    </tr>\n    <tr>\n      <th>7</th>\n      <td>0.027722</td>\n      <td>(varieties)</td>\n      <td>1</td>\n    </tr>\n    <tr>\n      <th>2</th>\n      <td>0.026022</td>\n      <td>(forms)</td>\n      <td>1</td>\n    </tr>\n    <tr>\n      <th>5</th>\n      <td>0.024691</td>\n      <td>(selection)</td>\n      <td>1</td>\n    </tr>\n    <tr>\n      <th>3</th>\n      <td>0.023287</td>\n      <td>(natural)</td>\n      <td>1</td>\n    </tr>\n  </tbody>\n</table>\n</div>"
     },
     "execution_count": 890,
     "metadata": {},
     "output_type": "execute_result"
    }
   ],
   "source": [
    "new_book3_freq_items_1 = filter_freq_items(new_book3_freq_items)\n",
    "new_book3_freq_items_1.head()"
   ],
   "metadata": {
    "collapsed": false,
    "pycharm": {
     "name": "#%%\n"
    }
   }
  },
  {
   "cell_type": "markdown",
   "source": [
    "Now that all of the Stop words have been removed we can see significant changes to the 1-itemset frequent words.\n",
    "The only word that is similar is the word [said] between book1 and book2. Darwin however speaks a lot more with scientific\n",
    "words. There are only three words that are above the .02 level of support for book2. Book1 and Book2 are focused more around\n",
    "the difference characters \"saying\" different words."
   ],
   "metadata": {
    "collapsed": false,
    "pycharm": {
     "name": "#%% md\n"
    }
   }
  },
  {
   "cell_type": "markdown",
   "source": [
    "### 2-itemset Frequent Words (With Stop words removed)"
   ],
   "metadata": {
    "collapsed": false,
    "pycharm": {
     "name": "#%% md\n"
    }
   }
  },
  {
   "cell_type": "code",
   "execution_count": 891,
   "outputs": [
    {
     "data": {
      "text/plain": "Empty DataFrame\nColumns: [support, itemsets, length]\nIndex: []",
      "text/html": "<div>\n<style scoped>\n    .dataframe tbody tr th:only-of-type {\n        vertical-align: middle;\n    }\n\n    .dataframe tbody tr th {\n        vertical-align: top;\n    }\n\n    .dataframe thead th {\n        text-align: right;\n    }\n</style>\n<table border=\"1\" class=\"dataframe\">\n  <thead>\n    <tr style=\"text-align: right;\">\n      <th></th>\n      <th>support</th>\n      <th>itemsets</th>\n      <th>length</th>\n    </tr>\n  </thead>\n  <tbody>\n  </tbody>\n</table>\n</div>"
     },
     "execution_count": 891,
     "metadata": {},
     "output_type": "execute_result"
    }
   ],
   "source": [
    "new_book1_freq_items_2 = filter_freq_items(new_book1_freq_items,2)\n",
    "new_book1_freq_items_2.head()"
   ],
   "metadata": {
    "collapsed": false,
    "pycharm": {
     "name": "#%%\n"
    }
   }
  },
  {
   "cell_type": "code",
   "execution_count": 892,
   "outputs": [
    {
     "data": {
      "text/plain": "Empty DataFrame\nColumns: [support, itemsets, length]\nIndex: []",
      "text/html": "<div>\n<style scoped>\n    .dataframe tbody tr th:only-of-type {\n        vertical-align: middle;\n    }\n\n    .dataframe tbody tr th {\n        vertical-align: top;\n    }\n\n    .dataframe thead th {\n        text-align: right;\n    }\n</style>\n<table border=\"1\" class=\"dataframe\">\n  <thead>\n    <tr style=\"text-align: right;\">\n      <th></th>\n      <th>support</th>\n      <th>itemsets</th>\n      <th>length</th>\n    </tr>\n  </thead>\n  <tbody>\n  </tbody>\n</table>\n</div>"
     },
     "execution_count": 892,
     "metadata": {},
     "output_type": "execute_result"
    }
   ],
   "source": [
    "new_book2_freq_items_2 = filter_freq_items(new_book2_freq_items,2)\n",
    "new_book2_freq_items_2.head()"
   ],
   "metadata": {
    "collapsed": false,
    "pycharm": {
     "name": "#%%\n"
    }
   }
  },
  {
   "cell_type": "code",
   "execution_count": 893,
   "outputs": [
    {
     "data": {
      "text/plain": "Empty DataFrame\nColumns: [support, itemsets, length]\nIndex: []",
      "text/html": "<div>\n<style scoped>\n    .dataframe tbody tr th:only-of-type {\n        vertical-align: middle;\n    }\n\n    .dataframe tbody tr th {\n        vertical-align: top;\n    }\n\n    .dataframe thead th {\n        text-align: right;\n    }\n</style>\n<table border=\"1\" class=\"dataframe\">\n  <thead>\n    <tr style=\"text-align: right;\">\n      <th></th>\n      <th>support</th>\n      <th>itemsets</th>\n      <th>length</th>\n    </tr>\n  </thead>\n  <tbody>\n  </tbody>\n</table>\n</div>"
     },
     "execution_count": 893,
     "metadata": {},
     "output_type": "execute_result"
    }
   ],
   "source": [
    "new_book3_freq_items_2 = filter_freq_items(new_book3_freq_items,2)\n",
    "new_book3_freq_items_2.head()"
   ],
   "metadata": {
    "collapsed": false,
    "pycharm": {
     "name": "#%%\n"
    }
   }
  },
  {
   "cell_type": "markdown",
   "source": [
    "There are two 2-itemset Frequent Words that appear when the min-support is set at 0.02 and min-confidence is at .2.\n",
    "To look into this further I will set the min_support to .01  and min_confidence at .1 and see if any frequent itemsets\n",
    "appear."
   ],
   "metadata": {
    "collapsed": false,
    "pycharm": {
     "name": "#%% md\n"
    }
   }
  },
  {
   "cell_type": "code",
   "execution_count": 894,
   "outputs": [],
   "source": [
    "# Changing the min_support to 0.01 and min_confidence to .1\n",
    "new_book1_rules_min_01, new_book1_freq_items_min_01 = run_apriori(new_book1_df,\n",
    "                                                                  min_support_feed=.01,\n",
    "                                                                  min_threshold_feed=.1)\n",
    "new_book2_rules_min_01, new_book2_freq_items_min_01 = run_apriori(new_book2_df,\n",
    "                                                                  min_support_feed=.01,\n",
    "                                                                  min_threshold_feed=.1)\n",
    "new_book3_rules_min_01, new_book3_freq_items_min_01 = run_apriori(new_book3_df,\n",
    "                                                                  min_support_feed=.01,\n",
    "                                                                  min_threshold_feed=.1)"
   ],
   "metadata": {
    "collapsed": false,
    "pycharm": {
     "name": "#%%\n"
    }
   }
  },
  {
   "cell_type": "code",
   "execution_count": 895,
   "outputs": [
    {
     "data": {
      "text/plain": "     support            itemsets  length\n31  0.010444  (colonel, brandon)       2",
      "text/html": "<div>\n<style scoped>\n    .dataframe tbody tr th:only-of-type {\n        vertical-align: middle;\n    }\n\n    .dataframe tbody tr th {\n        vertical-align: top;\n    }\n\n    .dataframe thead th {\n        text-align: right;\n    }\n</style>\n<table border=\"1\" class=\"dataframe\">\n  <thead>\n    <tr style=\"text-align: right;\">\n      <th></th>\n      <th>support</th>\n      <th>itemsets</th>\n      <th>length</th>\n    </tr>\n  </thead>\n  <tbody>\n    <tr>\n      <th>31</th>\n      <td>0.010444</td>\n      <td>(colonel, brandon)</td>\n      <td>2</td>\n    </tr>\n  </tbody>\n</table>\n</div>"
     },
     "execution_count": 895,
     "metadata": {},
     "output_type": "execute_result"
    }
   ],
   "source": [
    "new_book1_freq_items_2_min_01 = filter_freq_items(new_book1_freq_items_min_01,2)\n",
    "new_book1_freq_items_2_min_01.head()"
   ],
   "metadata": {
    "collapsed": false,
    "pycharm": {
     "name": "#%%\n"
    }
   }
  },
  {
   "cell_type": "code",
   "execution_count": 896,
   "outputs": [
    {
     "data": {
      "text/plain": "Empty DataFrame\nColumns: [support, itemsets, length]\nIndex: []",
      "text/html": "<div>\n<style scoped>\n    .dataframe tbody tr th:only-of-type {\n        vertical-align: middle;\n    }\n\n    .dataframe tbody tr th {\n        vertical-align: top;\n    }\n\n    .dataframe thead th {\n        text-align: right;\n    }\n</style>\n<table border=\"1\" class=\"dataframe\">\n  <thead>\n    <tr style=\"text-align: right;\">\n      <th></th>\n      <th>support</th>\n      <th>itemsets</th>\n      <th>length</th>\n    </tr>\n  </thead>\n  <tbody>\n  </tbody>\n</table>\n</div>"
     },
     "execution_count": 896,
     "metadata": {},
     "output_type": "execute_result"
    }
   ],
   "source": [
    "new_book2_freq_items_2_min_01 = filter_freq_items(new_book2_freq_items_min_01,2)\n",
    "new_book2_freq_items_2_min_01.head()"
   ],
   "metadata": {
    "collapsed": false,
    "pycharm": {
     "name": "#%%\n"
    }
   }
  },
  {
   "cell_type": "code",
   "execution_count": 897,
   "outputs": [
    {
     "data": {
      "text/plain": "    support              itemsets  length\n42  0.01619  (selection, natural)       2",
      "text/html": "<div>\n<style scoped>\n    .dataframe tbody tr th:only-of-type {\n        vertical-align: middle;\n    }\n\n    .dataframe tbody tr th {\n        vertical-align: top;\n    }\n\n    .dataframe thead th {\n        text-align: right;\n    }\n</style>\n<table border=\"1\" class=\"dataframe\">\n  <thead>\n    <tr style=\"text-align: right;\">\n      <th></th>\n      <th>support</th>\n      <th>itemsets</th>\n      <th>length</th>\n    </tr>\n  </thead>\n  <tbody>\n    <tr>\n      <th>42</th>\n      <td>0.01619</td>\n      <td>(selection, natural)</td>\n      <td>2</td>\n    </tr>\n  </tbody>\n</table>\n</div>"
     },
     "execution_count": 897,
     "metadata": {},
     "output_type": "execute_result"
    }
   ],
   "source": [
    "new_book3_freq_items_2_min_01 = filter_freq_items(new_book3_freq_items_min_01,2)\n",
    "new_book3_freq_items_2_min_01.head()"
   ],
   "metadata": {
    "collapsed": false,
    "pycharm": {
     "name": "#%%\n"
    }
   }
  },
  {
   "cell_type": "markdown",
   "source": [
    "When lowering the min_support book1 and book2 now show some more frequent 2-itemsets. Naturally these have lower\n",
    "support, but the frequent occurrences make sense. Book3 with natural selection and colonel brandon in book1. Because we\n",
    "notice that we loose the support here for 2-itemsets there really is no need to explore further into the association rules."
   ],
   "metadata": {
    "collapsed": false,
    "pycharm": {
     "name": "#%% md\n"
    }
   }
  },
  {
   "cell_type": "markdown",
   "source": [
    "### Association Rules (With Stop words removed)\n",
    "Now we will look first at the rules that are associated with a min_support=.02 and min_confidence=.2 and a lift\n",
    "above 1.1"
   ],
   "metadata": {
    "collapsed": false,
    "pycharm": {
     "name": "#%% md\n"
    }
   }
  },
  {
   "cell_type": "code",
   "execution_count": 898,
   "outputs": [
    {
     "data": {
      "text/plain": "Empty DataFrame\nColumns: [antecedents, consequents, antecedent support, consequent support, support, confidence, lift, leverage, conviction]\nIndex: []",
      "text/html": "<div>\n<style scoped>\n    .dataframe tbody tr th:only-of-type {\n        vertical-align: middle;\n    }\n\n    .dataframe tbody tr th {\n        vertical-align: top;\n    }\n\n    .dataframe thead th {\n        text-align: right;\n    }\n</style>\n<table border=\"1\" class=\"dataframe\">\n  <thead>\n    <tr style=\"text-align: right;\">\n      <th></th>\n      <th>antecedents</th>\n      <th>consequents</th>\n      <th>antecedent support</th>\n      <th>consequent support</th>\n      <th>support</th>\n      <th>confidence</th>\n      <th>lift</th>\n      <th>leverage</th>\n      <th>conviction</th>\n    </tr>\n  </thead>\n  <tbody>\n  </tbody>\n</table>\n</div>"
     },
     "execution_count": 898,
     "metadata": {},
     "output_type": "execute_result"
    }
   ],
   "source": [
    "new_book1_rules"
   ],
   "metadata": {
    "collapsed": false,
    "pycharm": {
     "name": "#%%\n"
    }
   }
  },
  {
   "cell_type": "code",
   "execution_count": 899,
   "outputs": [
    {
     "data": {
      "text/plain": "Empty DataFrame\nColumns: [antecedents, consequents, antecedent support, consequent support, support, confidence, lift, leverage, conviction]\nIndex: []",
      "text/html": "<div>\n<style scoped>\n    .dataframe tbody tr th:only-of-type {\n        vertical-align: middle;\n    }\n\n    .dataframe tbody tr th {\n        vertical-align: top;\n    }\n\n    .dataframe thead th {\n        text-align: right;\n    }\n</style>\n<table border=\"1\" class=\"dataframe\">\n  <thead>\n    <tr style=\"text-align: right;\">\n      <th></th>\n      <th>antecedents</th>\n      <th>consequents</th>\n      <th>antecedent support</th>\n      <th>consequent support</th>\n      <th>support</th>\n      <th>confidence</th>\n      <th>lift</th>\n      <th>leverage</th>\n      <th>conviction</th>\n    </tr>\n  </thead>\n  <tbody>\n  </tbody>\n</table>\n</div>"
     },
     "execution_count": 899,
     "metadata": {},
     "output_type": "execute_result"
    }
   ],
   "source": [
    "new_book2_rules"
   ],
   "metadata": {
    "collapsed": false,
    "pycharm": {
     "name": "#%%\n"
    }
   }
  },
  {
   "cell_type": "code",
   "execution_count": 900,
   "outputs": [
    {
     "data": {
      "text/plain": "Empty DataFrame\nColumns: [antecedents, consequents, antecedent support, consequent support, support, confidence, lift, leverage, conviction]\nIndex: []",
      "text/html": "<div>\n<style scoped>\n    .dataframe tbody tr th:only-of-type {\n        vertical-align: middle;\n    }\n\n    .dataframe tbody tr th {\n        vertical-align: top;\n    }\n\n    .dataframe thead th {\n        text-align: right;\n    }\n</style>\n<table border=\"1\" class=\"dataframe\">\n  <thead>\n    <tr style=\"text-align: right;\">\n      <th></th>\n      <th>antecedents</th>\n      <th>consequents</th>\n      <th>antecedent support</th>\n      <th>consequent support</th>\n      <th>support</th>\n      <th>confidence</th>\n      <th>lift</th>\n      <th>leverage</th>\n      <th>conviction</th>\n    </tr>\n  </thead>\n  <tbody>\n  </tbody>\n</table>\n</div>"
     },
     "execution_count": 900,
     "metadata": {},
     "output_type": "execute_result"
    }
   ],
   "source": [
    "new_book3_rules"
   ],
   "metadata": {
    "collapsed": false,
    "pycharm": {
     "name": "#%%\n"
    }
   }
  },
  {
   "cell_type": "markdown",
   "source": [
    "This first look gives us no rules that are particularly strong or interesting to investigate. It is for this reason that\n",
    "we will start going through and tinkering with the input values to see if we can find some more rules. Starting with the\n",
    "min_support at .01 and min_confidence at .1"
   ],
   "metadata": {
    "collapsed": false,
    "pycharm": {
     "name": "#%% md\n"
    }
   }
  },
  {
   "cell_type": "code",
   "execution_count": 901,
   "outputs": [
    {
     "data": {
      "text/plain": "  antecedents consequents  antecedent support  consequent support   support  \\\n0   (colonel)   (brandon)            0.014855            0.011614  0.010444   \n1   (brandon)   (colonel)            0.011614            0.014855  0.010444   \n\n   confidence       lift  leverage  conviction  \n0    0.703030  60.531454  0.010271    3.328238  \n1    0.899225  60.531454  0.010271    9.775665  ",
      "text/html": "<div>\n<style scoped>\n    .dataframe tbody tr th:only-of-type {\n        vertical-align: middle;\n    }\n\n    .dataframe tbody tr th {\n        vertical-align: top;\n    }\n\n    .dataframe thead th {\n        text-align: right;\n    }\n</style>\n<table border=\"1\" class=\"dataframe\">\n  <thead>\n    <tr style=\"text-align: right;\">\n      <th></th>\n      <th>antecedents</th>\n      <th>consequents</th>\n      <th>antecedent support</th>\n      <th>consequent support</th>\n      <th>support</th>\n      <th>confidence</th>\n      <th>lift</th>\n      <th>leverage</th>\n      <th>conviction</th>\n    </tr>\n  </thead>\n  <tbody>\n    <tr>\n      <th>0</th>\n      <td>(colonel)</td>\n      <td>(brandon)</td>\n      <td>0.014855</td>\n      <td>0.011614</td>\n      <td>0.010444</td>\n      <td>0.703030</td>\n      <td>60.531454</td>\n      <td>0.010271</td>\n      <td>3.328238</td>\n    </tr>\n    <tr>\n      <th>1</th>\n      <td>(brandon)</td>\n      <td>(colonel)</td>\n      <td>0.011614</td>\n      <td>0.014855</td>\n      <td>0.010444</td>\n      <td>0.899225</td>\n      <td>60.531454</td>\n      <td>0.010271</td>\n      <td>9.775665</td>\n    </tr>\n  </tbody>\n</table>\n</div>"
     },
     "execution_count": 901,
     "metadata": {},
     "output_type": "execute_result"
    }
   ],
   "source": [
    "new_book1_rules_min_01"
   ],
   "metadata": {
    "collapsed": false,
    "pycharm": {
     "name": "#%%\n"
    }
   }
  },
  {
   "cell_type": "code",
   "execution_count": 902,
   "outputs": [
    {
     "data": {
      "text/plain": "Empty DataFrame\nColumns: [antecedents, consequents, antecedent support, consequent support, support, confidence, lift, leverage, conviction]\nIndex: []",
      "text/html": "<div>\n<style scoped>\n    .dataframe tbody tr th:only-of-type {\n        vertical-align: middle;\n    }\n\n    .dataframe tbody tr th {\n        vertical-align: top;\n    }\n\n    .dataframe thead th {\n        text-align: right;\n    }\n</style>\n<table border=\"1\" class=\"dataframe\">\n  <thead>\n    <tr style=\"text-align: right;\">\n      <th></th>\n      <th>antecedents</th>\n      <th>consequents</th>\n      <th>antecedent support</th>\n      <th>consequent support</th>\n      <th>support</th>\n      <th>confidence</th>\n      <th>lift</th>\n      <th>leverage</th>\n      <th>conviction</th>\n    </tr>\n  </thead>\n  <tbody>\n  </tbody>\n</table>\n</div>"
     },
     "execution_count": 902,
     "metadata": {},
     "output_type": "execute_result"
    }
   ],
   "source": [
    "new_book2_rules_min_01"
   ],
   "metadata": {
    "collapsed": false,
    "pycharm": {
     "name": "#%%\n"
    }
   }
  },
  {
   "cell_type": "code",
   "execution_count": 903,
   "outputs": [
    {
     "data": {
      "text/plain": "   antecedents  consequents  antecedent support  consequent support  support  \\\n1    (natural)  (selection)            0.023287            0.024691  0.01619   \n0  (selection)    (natural)            0.024691            0.023287  0.01619   \n\n   confidence       lift  leverage  conviction  \n1    0.695238  28.157143  0.015615    3.200231  \n0    0.655689  28.157143  0.015615    2.836715  ",
      "text/html": "<div>\n<style scoped>\n    .dataframe tbody tr th:only-of-type {\n        vertical-align: middle;\n    }\n\n    .dataframe tbody tr th {\n        vertical-align: top;\n    }\n\n    .dataframe thead th {\n        text-align: right;\n    }\n</style>\n<table border=\"1\" class=\"dataframe\">\n  <thead>\n    <tr style=\"text-align: right;\">\n      <th></th>\n      <th>antecedents</th>\n      <th>consequents</th>\n      <th>antecedent support</th>\n      <th>consequent support</th>\n      <th>support</th>\n      <th>confidence</th>\n      <th>lift</th>\n      <th>leverage</th>\n      <th>conviction</th>\n    </tr>\n  </thead>\n  <tbody>\n    <tr>\n      <th>1</th>\n      <td>(natural)</td>\n      <td>(selection)</td>\n      <td>0.023287</td>\n      <td>0.024691</td>\n      <td>0.01619</td>\n      <td>0.695238</td>\n      <td>28.157143</td>\n      <td>0.015615</td>\n      <td>3.200231</td>\n    </tr>\n    <tr>\n      <th>0</th>\n      <td>(selection)</td>\n      <td>(natural)</td>\n      <td>0.024691</td>\n      <td>0.023287</td>\n      <td>0.01619</td>\n      <td>0.655689</td>\n      <td>28.157143</td>\n      <td>0.015615</td>\n      <td>2.836715</td>\n    </tr>\n  </tbody>\n</table>\n</div>"
     },
     "execution_count": 903,
     "metadata": {},
     "output_type": "execute_result"
    }
   ],
   "source": [
    "new_book3_rules_min_01"
   ],
   "metadata": {
    "collapsed": false,
    "pycharm": {
     "name": "#%%\n"
    }
   }
  },
  {
   "cell_type": "markdown",
   "source": [
    "The lift values show some very interesting rules. In book1 brandon is clearly a colonel with a huge lift value\n",
    "of over 60. And Darwin in book3 uses natural selection together with a huge lift value of 28"
   ],
   "metadata": {
    "collapsed": false,
    "pycharm": {
     "name": "#%% md\n"
    }
   }
  },
  {
   "cell_type": "markdown",
   "source": [
    "### Finding Association rules that have a lift of above 1.1 by lowering min_support to .005\n",
    "Because we are not finding many rules at min_support of .01 and min_confidence back  at .2 we will lower the min_support to\n",
    "0.005. Because theses are large books this should help us find more words that appear together and find more association\n",
    "rules. These words may not appear in every sentence. If this were a data sheet that was looking at items purchased\n",
    "together, it would be a bit different. Since they are books with sentences that vary lowering support makes the most\n",
    "sense. The Confidence will show us what words are used together. Lowering this value will not do us any good in finding\n",
    "strong rules."
   ],
   "metadata": {
    "collapsed": false,
    "pycharm": {
     "name": "#%% md\n"
    }
   }
  },
  {
   "cell_type": "code",
   "execution_count": 904,
   "outputs": [],
   "source": [
    "# Setting the min_support to .005\n",
    "new_book1_rules_min_005, new_book1_freq_items_min_005 = run_apriori(new_book1_df,\n",
    "                                                                  min_support_feed=.005,\n",
    "                                                                  min_threshold_feed=.2)\n",
    "new_book2_rules_min_005, new_book2_freq_items_min_005 = run_apriori(new_book2_df,\n",
    "                                                                  min_support_feed=.005,\n",
    "                                                                  min_threshold_feed=.2)\n",
    "new_book3_rules_min_005, new_book3_freq_items_min_005 = run_apriori(new_book3_df,\n",
    "                                                                  min_support_feed=.005,\n",
    "                                                                  min_threshold_feed=.2)"
   ],
   "metadata": {
    "collapsed": false,
    "pycharm": {
     "name": "#%%\n"
    }
   }
  },
  {
   "cell_type": "code",
   "execution_count": 905,
   "outputs": [
    {
     "data": {
      "text/plain": "   antecedents  consequents  antecedent support  consequent support   support  \\\n2       (lady)  (middleton)            0.012064            0.008643  0.007473   \n3  (middleton)       (lady)            0.008643            0.012064  0.007473   \n0    (colonel)    (brandon)            0.014855            0.011614  0.010444   \n1    (brandon)    (colonel)            0.011614            0.014855  0.010444   \n4       (said)     (elinor)            0.032862            0.057801  0.007113   \n\n   confidence       lift  leverage  conviction  \n2    0.619403  71.663635  0.007368    2.604741  \n3    0.864583  71.663635  0.007368    7.295524  \n0    0.703030  60.531454  0.010271    3.328238  \n1    0.899225  60.531454  0.010271    9.775665  \n4    0.216438   3.744518  0.005213    1.202456  ",
      "text/html": "<div>\n<style scoped>\n    .dataframe tbody tr th:only-of-type {\n        vertical-align: middle;\n    }\n\n    .dataframe tbody tr th {\n        vertical-align: top;\n    }\n\n    .dataframe thead th {\n        text-align: right;\n    }\n</style>\n<table border=\"1\" class=\"dataframe\">\n  <thead>\n    <tr style=\"text-align: right;\">\n      <th></th>\n      <th>antecedents</th>\n      <th>consequents</th>\n      <th>antecedent support</th>\n      <th>consequent support</th>\n      <th>support</th>\n      <th>confidence</th>\n      <th>lift</th>\n      <th>leverage</th>\n      <th>conviction</th>\n    </tr>\n  </thead>\n  <tbody>\n    <tr>\n      <th>2</th>\n      <td>(lady)</td>\n      <td>(middleton)</td>\n      <td>0.012064</td>\n      <td>0.008643</td>\n      <td>0.007473</td>\n      <td>0.619403</td>\n      <td>71.663635</td>\n      <td>0.007368</td>\n      <td>2.604741</td>\n    </tr>\n    <tr>\n      <th>3</th>\n      <td>(middleton)</td>\n      <td>(lady)</td>\n      <td>0.008643</td>\n      <td>0.012064</td>\n      <td>0.007473</td>\n      <td>0.864583</td>\n      <td>71.663635</td>\n      <td>0.007368</td>\n      <td>7.295524</td>\n    </tr>\n    <tr>\n      <th>0</th>\n      <td>(colonel)</td>\n      <td>(brandon)</td>\n      <td>0.014855</td>\n      <td>0.011614</td>\n      <td>0.010444</td>\n      <td>0.703030</td>\n      <td>60.531454</td>\n      <td>0.010271</td>\n      <td>3.328238</td>\n    </tr>\n    <tr>\n      <th>1</th>\n      <td>(brandon)</td>\n      <td>(colonel)</td>\n      <td>0.011614</td>\n      <td>0.014855</td>\n      <td>0.010444</td>\n      <td>0.899225</td>\n      <td>60.531454</td>\n      <td>0.010271</td>\n      <td>9.775665</td>\n    </tr>\n    <tr>\n      <th>4</th>\n      <td>(said)</td>\n      <td>(elinor)</td>\n      <td>0.032862</td>\n      <td>0.057801</td>\n      <td>0.007113</td>\n      <td>0.216438</td>\n      <td>3.744518</td>\n      <td>0.005213</td>\n      <td>1.202456</td>\n    </tr>\n  </tbody>\n</table>\n</div>"
     },
     "execution_count": 905,
     "metadata": {},
     "output_type": "execute_result"
    }
   ],
   "source": [
    "new_book1_rules_min_005"
   ],
   "metadata": {
    "collapsed": false,
    "pycharm": {
     "name": "#%%\n"
    }
   }
  },
  {
   "cell_type": "code",
   "execution_count": 906,
   "outputs": [
    {
     "data": {
      "text/plain": "  antecedents consequents  antecedent support  consequent support   support  \\\n0   (defarge)    (madame)            0.019307            0.013160  0.008353   \n1    (madame)   (defarge)            0.013160            0.019307  0.008353   \n2   (manette)    (doctor)            0.010954            0.015366  0.005280   \n3    (doctor)   (manette)            0.015366            0.010954  0.005280   \n\n   confidence       lift  leverage  conviction  \n0    0.432653  32.876451  0.008099    1.739394  \n1    0.634731  32.876451  0.008099    2.684849  \n2    0.482014  31.368013  0.005111    1.900890  \n3    0.343590  31.368013  0.005111    1.506751  ",
      "text/html": "<div>\n<style scoped>\n    .dataframe tbody tr th:only-of-type {\n        vertical-align: middle;\n    }\n\n    .dataframe tbody tr th {\n        vertical-align: top;\n    }\n\n    .dataframe thead th {\n        text-align: right;\n    }\n</style>\n<table border=\"1\" class=\"dataframe\">\n  <thead>\n    <tr style=\"text-align: right;\">\n      <th></th>\n      <th>antecedents</th>\n      <th>consequents</th>\n      <th>antecedent support</th>\n      <th>consequent support</th>\n      <th>support</th>\n      <th>confidence</th>\n      <th>lift</th>\n      <th>leverage</th>\n      <th>conviction</th>\n    </tr>\n  </thead>\n  <tbody>\n    <tr>\n      <th>0</th>\n      <td>(defarge)</td>\n      <td>(madame)</td>\n      <td>0.019307</td>\n      <td>0.013160</td>\n      <td>0.008353</td>\n      <td>0.432653</td>\n      <td>32.876451</td>\n      <td>0.008099</td>\n      <td>1.739394</td>\n    </tr>\n    <tr>\n      <th>1</th>\n      <td>(madame)</td>\n      <td>(defarge)</td>\n      <td>0.013160</td>\n      <td>0.019307</td>\n      <td>0.008353</td>\n      <td>0.634731</td>\n      <td>32.876451</td>\n      <td>0.008099</td>\n      <td>2.684849</td>\n    </tr>\n    <tr>\n      <th>2</th>\n      <td>(manette)</td>\n      <td>(doctor)</td>\n      <td>0.010954</td>\n      <td>0.015366</td>\n      <td>0.005280</td>\n      <td>0.482014</td>\n      <td>31.368013</td>\n      <td>0.005111</td>\n      <td>1.900890</td>\n    </tr>\n    <tr>\n      <th>3</th>\n      <td>(doctor)</td>\n      <td>(manette)</td>\n      <td>0.015366</td>\n      <td>0.010954</td>\n      <td>0.005280</td>\n      <td>0.343590</td>\n      <td>31.368013</td>\n      <td>0.005111</td>\n      <td>1.506751</td>\n    </tr>\n  </tbody>\n</table>\n</div>"
     },
     "execution_count": 906,
     "metadata": {},
     "output_type": "execute_result"
    }
   ],
   "source": [
    "new_book2_rules_min_005"
   ],
   "metadata": {
    "collapsed": false,
    "pycharm": {
     "name": "#%%\n"
    }
   }
  },
  {
   "cell_type": "code",
   "execution_count": 907,
   "outputs": [
    {
     "data": {
      "text/plain": "    antecedents   consequents  antecedent support  consequent support  \\\n6     (organic)      (beings)            0.009536            0.008058   \n7      (beings)     (organic)            0.008058            0.009536   \n1     (natural)   (selection)            0.023287            0.024691   \n0   (selection)     (natural)            0.024691            0.023287   \n3        (life)  (conditions)            0.019221            0.014859   \n4  (conditions)        (life)            0.014859            0.019221   \n8       (genus)     (species)            0.008871            0.094773   \n9      (genera)     (species)            0.013159            0.094773   \n5    (distinct)     (species)            0.015303            0.094773   \n2   (varieties)     (species)            0.027722            0.094773   \n\n    support  confidence       lift  leverage  conviction  \n6  0.005544    0.581395  72.151696  0.005468    2.369639  \n7  0.005544    0.688073  72.151696  0.005468    3.175310  \n1  0.016190    0.695238  28.157143  0.015615    3.200231  \n0  0.016190    0.655689  28.157143  0.015615    2.836715  \n3  0.006432    0.334615  22.519116  0.006146    1.480558  \n4  0.006432    0.432836  22.519116  0.006146    1.729269  \n8  0.005397    0.608333   6.418818  0.004556    2.311217  \n9  0.005249    0.398876   4.208737  0.004002    1.505891  \n5  0.005766    0.376812   3.975921  0.004316    1.452573  \n2  0.007467    0.269333   2.841866  0.004839    1.238905  ",
      "text/html": "<div>\n<style scoped>\n    .dataframe tbody tr th:only-of-type {\n        vertical-align: middle;\n    }\n\n    .dataframe tbody tr th {\n        vertical-align: top;\n    }\n\n    .dataframe thead th {\n        text-align: right;\n    }\n</style>\n<table border=\"1\" class=\"dataframe\">\n  <thead>\n    <tr style=\"text-align: right;\">\n      <th></th>\n      <th>antecedents</th>\n      <th>consequents</th>\n      <th>antecedent support</th>\n      <th>consequent support</th>\n      <th>support</th>\n      <th>confidence</th>\n      <th>lift</th>\n      <th>leverage</th>\n      <th>conviction</th>\n    </tr>\n  </thead>\n  <tbody>\n    <tr>\n      <th>6</th>\n      <td>(organic)</td>\n      <td>(beings)</td>\n      <td>0.009536</td>\n      <td>0.008058</td>\n      <td>0.005544</td>\n      <td>0.581395</td>\n      <td>72.151696</td>\n      <td>0.005468</td>\n      <td>2.369639</td>\n    </tr>\n    <tr>\n      <th>7</th>\n      <td>(beings)</td>\n      <td>(organic)</td>\n      <td>0.008058</td>\n      <td>0.009536</td>\n      <td>0.005544</td>\n      <td>0.688073</td>\n      <td>72.151696</td>\n      <td>0.005468</td>\n      <td>3.175310</td>\n    </tr>\n    <tr>\n      <th>1</th>\n      <td>(natural)</td>\n      <td>(selection)</td>\n      <td>0.023287</td>\n      <td>0.024691</td>\n      <td>0.016190</td>\n      <td>0.695238</td>\n      <td>28.157143</td>\n      <td>0.015615</td>\n      <td>3.200231</td>\n    </tr>\n    <tr>\n      <th>0</th>\n      <td>(selection)</td>\n      <td>(natural)</td>\n      <td>0.024691</td>\n      <td>0.023287</td>\n      <td>0.016190</td>\n      <td>0.655689</td>\n      <td>28.157143</td>\n      <td>0.015615</td>\n      <td>2.836715</td>\n    </tr>\n    <tr>\n      <th>3</th>\n      <td>(life)</td>\n      <td>(conditions)</td>\n      <td>0.019221</td>\n      <td>0.014859</td>\n      <td>0.006432</td>\n      <td>0.334615</td>\n      <td>22.519116</td>\n      <td>0.006146</td>\n      <td>1.480558</td>\n    </tr>\n    <tr>\n      <th>4</th>\n      <td>(conditions)</td>\n      <td>(life)</td>\n      <td>0.014859</td>\n      <td>0.019221</td>\n      <td>0.006432</td>\n      <td>0.432836</td>\n      <td>22.519116</td>\n      <td>0.006146</td>\n      <td>1.729269</td>\n    </tr>\n    <tr>\n      <th>8</th>\n      <td>(genus)</td>\n      <td>(species)</td>\n      <td>0.008871</td>\n      <td>0.094773</td>\n      <td>0.005397</td>\n      <td>0.608333</td>\n      <td>6.418818</td>\n      <td>0.004556</td>\n      <td>2.311217</td>\n    </tr>\n    <tr>\n      <th>9</th>\n      <td>(genera)</td>\n      <td>(species)</td>\n      <td>0.013159</td>\n      <td>0.094773</td>\n      <td>0.005249</td>\n      <td>0.398876</td>\n      <td>4.208737</td>\n      <td>0.004002</td>\n      <td>1.505891</td>\n    </tr>\n    <tr>\n      <th>5</th>\n      <td>(distinct)</td>\n      <td>(species)</td>\n      <td>0.015303</td>\n      <td>0.094773</td>\n      <td>0.005766</td>\n      <td>0.376812</td>\n      <td>3.975921</td>\n      <td>0.004316</td>\n      <td>1.452573</td>\n    </tr>\n    <tr>\n      <th>2</th>\n      <td>(varieties)</td>\n      <td>(species)</td>\n      <td>0.027722</td>\n      <td>0.094773</td>\n      <td>0.007467</td>\n      <td>0.269333</td>\n      <td>2.841866</td>\n      <td>0.004839</td>\n      <td>1.238905</td>\n    </tr>\n  </tbody>\n</table>\n</div>"
     },
     "execution_count": 907,
     "metadata": {},
     "output_type": "execute_result"
    }
   ],
   "source": [
    "new_book3_rules_min_005"
   ],
   "metadata": {
    "collapsed": false,
    "pycharm": {
     "name": "#%%\n"
    }
   }
  },
  {
   "cell_type": "markdown",
   "source": [
    "Now we finally have some strong and interesting words that we can look at. And the processes of which that we can go\n",
    "through to find such strong interesting rules. First lets talk about these rules.\n",
    "\n",
    "Book1: There is clearly a \"lady middleton\" and \"Colonel Brandon\". The strong lift values indicate that\n",
    "these two words appear together a lot. Looking at the conviction shows us that the probability of middleton appearing\n",
    "without lady, and brandon appearing without colonel is higher. Although I have not read the book, this makes sense.\n",
    "The author probably does not always say lady middleton or Colonel brandon everytime, but rather middleton or brandon.\n",
    "Either way these association rules help us indicate that there is a lady middleton and a colonel. Lastly,\n",
    "it looks like elinor said a lot of things throughout the book. Or at least the word elinor and said appear together\n",
    "with a lift value of 3.744. This is interesting.\n",
    "\n",
    "Book2: madame degrage, and doctor manette are two main characters. They have high lift values showing us that the two\n",
    "characters a madame and a doctor.\n",
    "\n",
    "Book3: \"organic beings\", \"natural selection,\" and \"life conditions\" are clearly things that Darwin talks about a lot\n",
    "within his book. This super interesting, they have really high lift values and are strong rules with large confidence\n",
    "rules. The same goes for talking about genus species, distinct species and the varieties of species. All things that we\n",
    "would expect to be in this book."
   ],
   "metadata": {
    "collapsed": false,
    "pycharm": {
     "name": "#%% md\n"
    }
   }
  },
  {
   "cell_type": "markdown",
   "source": [
    "### Final Remarks\n",
    "This has been a fun exercise in looking using the apriori algorithm to look at the contents of three different books.\n",
    "Throughout the processes we looked at the books with stop words that were included. If we were to compare these books to\n",
    "a book in 2020 we might be able to see the difference in stop word usage. However, the three books were written in the same\n",
    "century.\n",
    "\n",
    "To make the data look a bit more meaningful we had to remove the stop words and ['mrs','mr','s','t','sir','miss']. When\n",
    " this occurred we lost a lot of the association rules. The reason being is that we were looking at text books.\n",
    " Not every one of the words is going to appear in every sentence. By lowering the min_support, we were able to find\n",
    "  more words that appeared together. In book1 & 2 this left use with more interesting characters such as colonel brandon\n",
    "  and madame defarge. I'm positive if we left in the titles we would have seen more characters, but on the otherhand\n",
    "  I was stripping out the title's to try and see if I could find more meaningful rules such as \"elinor said\". Book3 did\n",
    "  not offer as many of these problems because darwin was talking about different species and organic beings. But we\n",
    "  could continue the mining processes to see if we could find different meaningful associations rather than words\n",
    "  that are used together to describe something. T and S were taken out because the data alread had \"'\" removed. And just\n",
    "  seeing possessions associated with other words was as much interest to me.\n",
    "\n",
    "The main things that were looked at was the lift. With a lift greater than 1.1 we were determining if the rules were\n",
    "interesting. The Support values showed us how often these words appeared. and the confidence showed how confident we\n",
    "are that the word appeared together. Conviction shows us the probability of x occuring without y.\n",
    "\n",
    "\n",
    "\n",
    "\n"
   ],
   "metadata": {
    "collapsed": false,
    "pycharm": {
     "name": "#%% md\n"
    }
   }
  }
 ],
 "metadata": {
  "kernelspec": {
   "name": "pycharm-865e1948",
   "language": "python",
   "display_name": "PyCharm (GITHUB_REPOSITORY)"
  },
  "language_info": {
   "codemirror_mode": {
    "name": "ipython",
    "version": 2
   },
   "file_extension": ".py",
   "mimetype": "text/x-python",
   "name": "python",
   "nbconvert_exporter": "python",
   "pygments_lexer": "ipython2",
   "version": "2.7.6"
  }
 },
 "nbformat": 4,
 "nbformat_minor": 0
}