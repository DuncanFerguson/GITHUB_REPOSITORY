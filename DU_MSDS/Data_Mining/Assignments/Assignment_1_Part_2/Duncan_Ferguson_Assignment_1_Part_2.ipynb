{
 "cells": [
  {
   "cell_type": "markdown",
   "metadata": {
    "collapsed": true,
    "pycharm": {
     "name": "#%% md\n"
    }
   },
   "source": [
    "# Assignment 1 - Part 2\n",
    "Student: Duncan Ferguson <br>\n",
    "Student Id: 871641260 <br>\n",
    "Class: Comp 4431-1 <br>\n",
    "Assignment: Assignment 1 part 2 <br>\n",
    "Date: 10/26/2021 <br>\n",
    "Group Members from Assignment 5: Emma Bright, Mike Santoro <br>\n",
    "\n",
    "Association Rules were originally created for mining information for market baskets.  But, they can provide insight into\n",
    " other applications also.  In this part of the assignment you will use the mlxtend library functions apriori( )\n",
    "  and association_rules( ) to explore text data.  Specifically, we will look at the text from three books:\n",
    "\n",
    "- Sense and Sensibility, by Jane Austin, published 1811\n",
    "- A Tale of Two Cities, by Charles Dickens, published 1859\n",
    "- On The Origin of Species, by Charles Darwin, published 1859 (although written over a 20 year period preceding that\n",
    "date).\n",
    "\n",
    "All three books were written in english by english people at \"roughly\" the same time, hence one could assume some\n",
    "commonality in writing style.\n",
    "\n",
    "Mining using association rules assumes a database of a large number of transactions with some number of items per\n",
    "transaction.  I have processed the text of these books to be presented in a similar fashion, where each \"transaction\"\n",
    "is now a sentence from the book with the words comma-separated.  Note, some of the sentences in the books are quite\n",
    "long which would result in intractable run times (and enormous space to hold all possible itemsets). As we saw from\n",
    "our reading, the number of subsets to be considered increases exponentially with the number of items per transaction.\n",
    " For example, assume a sentence has 60 words.   Then we might need to consider all possible subsets of size 60, 59, 58,\n",
    "  57, ... and 1. The number of these would be:  Choose(60,60) + Choose(60,59) + Choose(60,58) + ...Choose(60,2) +\n",
    "  Choose(60,1).  Clearly not tractable!\n",
    "\n",
    "To make this problem tractable I have processed the texts to the they contain at most N words per line (transaction),\n",
    " where N = {10,12,14}.  For example, assume N = 14.  I processed the file into a list of sentences.  Then, for each\n",
    " sentence, if there were more than 14 words I cut into into at most 14 work chunks.  The beginning of a new sentence\n",
    " starts a new line.  I also removed all punctuation and made everything lower case.  As far as text analysis goes,\n",
    " this loses some useful information, but it greatly simplifies the problem and this assignment is more about\n",
    "  understanding how to use association rules and frequent itemsets.\n",
    "\n",
    "On my computer the files for N=14 ran very quickly, about 5 seconds or less depending on the min-support value used,\n",
    " but I have provided the smaller sets just in case you need to use them due to having a slower computer. To figure out\n",
    " which set of files to use, I suggest you run your code on the 10 words per line, 12 words per line, and 14 words per\n",
    "  line data sets in turn to see how fast they run.  If you computer works well on the 14, only use the 14 for all three\n",
    "   texts.  If you need to use the 10 or 12, only use that value for all three texts.\n",
    "\n",
    "You are to explore each of the three texts and see what you can determine about the texts individually, and compared to\n",
    " each other.  Write up a summary of commonality and differences explaining the parameter values used.  I suggest you\n",
    "  look at frequent 1-itemsets,  2-itemsets and possibly 3-itemsets  as well as association rules.  As a starting point\n",
    "  I suggest you start with a min-support value of 0.02 and a min-confidence value of 0.2.  Then increase/decrease both\n",
    "   as you see fit.  Only consider those association rules that have a lift value > someValue, where someValue is around\n",
    "    1.1 .. 1.5.\n",
    "\n",
    "The same values may not work well for each of the datasets, it is fine to use different values for different texts,\n",
    "just make sure to explain what values you used and whey.\n",
    "\n",
    "Write up your experiments as a report and upload the report as a .pdf file.  Also attach your code for one of your\n",
    "experiments (all the others should be quite similar).  You do not need one file that runs everything, how much you\n",
    "\"automate\" via python scripting is up to you."
   ]
  },
  {
   "cell_type": "code",
   "execution_count": 2,
   "outputs": [],
   "source": [
    "# Adding in all the import statements\n",
    "from csv import reader\n",
    "import pandas as pd\n",
    "from mlxtend.frequent_patterns import apriori, association_rules\n",
    "from mlxtend.preprocessing import TransactionEncoder"
   ],
   "metadata": {
    "collapsed": false,
    "pycharm": {
     "name": "#%%\n"
    }
   }
  },
  {
   "cell_type": "code",
   "execution_count": 3,
   "outputs": [
    {
     "data": {
      "text/plain": "[['chapter',\n  'i',\n  'the',\n  'family',\n  'of',\n  'dashwood',\n  'had',\n  'long',\n  'been',\n  'settled',\n  'insussex'],\n ['their',\n  'estate',\n  'was',\n  'large',\n  'and',\n  'their',\n  'residence',\n  'was',\n  'at',\n  'norland',\n  'park',\n  'in',\n  'the',\n  'centre'],\n ['of',\n  'their',\n  'property',\n  'where',\n  'for',\n  'many',\n  'generations',\n  'they',\n  'had',\n  'lived',\n  'in',\n  'so',\n  'respectable',\n  'a'],\n ['manner',\n  'as',\n  'to',\n  'engage',\n  'the',\n  'general',\n  'good',\n  'opinion',\n  'of',\n  'their',\n  'surroundingacquaintance'],\n ['the',\n  'late',\n  'owner',\n  'of',\n  'this',\n  'estate',\n  'was',\n  'a',\n  'single',\n  'man',\n  'who',\n  'lived',\n  'to',\n  'a'],\n ['very',\n  'advanced',\n  'age',\n  'and',\n  'who',\n  'for',\n  'many',\n  'years',\n  'of',\n  'his',\n  'life',\n  'had',\n  'a',\n  'constant'],\n ['companion', 'and', 'housekeeper', 'in', 'hissister'],\n ['but',\n  'her',\n  'death',\n  'which',\n  'happened',\n  'ten',\n  'years',\n  'before',\n  'his',\n  'own',\n  'produced',\n  'a',\n  'great',\n  'alteration'],\n ['in',\n  'his',\n  'home',\n  'for',\n  'to',\n  'supply',\n  'her',\n  'loss',\n  'he',\n  'invited',\n  'and',\n  'received',\n  'into',\n  'his'],\n ['house',\n  'the',\n  'family',\n  'of',\n  'his',\n  'nephew',\n  'mr',\n  'henry',\n  'dashwood',\n  'the',\n  'legal',\n  'inheritor',\n  'of',\n  'the'],\n ['norland',\n  'estate',\n  'and',\n  'the',\n  'person',\n  'to',\n  'whom',\n  'he',\n  'intended',\n  'to',\n  'bequeathit'],\n ['in',\n  'the',\n  'society',\n  'of',\n  'his',\n  'nephew',\n  'and',\n  'niece',\n  'and',\n  'their',\n  'children',\n  'the',\n  'old',\n  'gentleman'],\n ['s', 'days', 'were', 'comfortablyspent'],\n ['his', 'attachment', 'to', 'them', 'allincreased'],\n ['the',\n  'constant',\n  'attention',\n  'of',\n  'mr',\n  'and',\n  'mrs',\n  'henry',\n  'dashwood',\n  'to',\n  'his',\n  'wishes',\n  'which',\n  'proceeded'],\n ['not',\n  'merely',\n  'from',\n  'interest',\n  'but',\n  'from',\n  'goodness',\n  'of',\n  'heart',\n  'gave',\n  'him',\n  'every',\n  'degree',\n  'of'],\n ['solid',\n  'comfort',\n  'which',\n  'his',\n  'age',\n  'could',\n  'receive',\n  'and',\n  'the',\n  'cheerfulness',\n  'of',\n  'the',\n  'children',\n  'added'],\n ['a', 'relish', 'to', 'hisexistence'],\n ['by',\n  'a',\n  'former',\n  'marriage',\n  'mr',\n  'henry',\n  'dashwood',\n  'had',\n  'one',\n  'son',\n  'by',\n  'his',\n  'present',\n  'lady'],\n ['threedaughters'],\n ['the',\n  'son',\n  'a',\n  'steady',\n  'respectable',\n  'young',\n  'man',\n  'was',\n  'amply',\n  'provided',\n  'for',\n  'by',\n  'the',\n  'fortune'],\n ['of',\n  'his',\n  'mother',\n  'which',\n  'had',\n  'been',\n  'large',\n  'and',\n  'half',\n  'of',\n  'which',\n  'devolved',\n  'on',\n  'him'],\n ['on', 'his', 'coming', 'ofage'],\n ['by',\n  'his',\n  'own',\n  'marriage',\n  'likewise',\n  'which',\n  'happened',\n  'soon',\n  'afterwards',\n  'he',\n  'added',\n  'to',\n  'hiswealth'],\n ['to',\n  'him',\n  'therefore',\n  'the',\n  'succession',\n  'to',\n  'the',\n  'norland',\n  'estate',\n  'was',\n  'not',\n  'so',\n  'really',\n  'important'],\n ['as',\n  'to',\n  'his',\n  'sisters',\n  'for',\n  'their',\n  'fortune',\n  'independent',\n  'of',\n  'what',\n  'might',\n  'arise',\n  'to',\n  'them'],\n ['from',\n  'their',\n  'father',\n  's',\n  'inheriting',\n  'that',\n  'property',\n  'could',\n  'be',\n  'butsmall'],\n ['their',\n  'mother',\n  'had',\n  'nothing',\n  'and',\n  'their',\n  'father',\n  'only',\n  'seven',\n  'thousand',\n  'pounds',\n  'in',\n  'his',\n  'own'],\n ['disposal',\n  'for',\n  'the',\n  'remaining',\n  'moiety',\n  'of',\n  'his',\n  'first',\n  'wife',\n  's',\n  'fortune',\n  'was',\n  'also',\n  'secured'],\n ['to',\n  'her',\n  'child',\n  'and',\n  'he',\n  'had',\n  'only',\n  'a',\n  'life',\n  'interest',\n  'init'],\n ['the',\n  'old',\n  'gentleman',\n  'died',\n  'his',\n  'will',\n  'was',\n  'read',\n  'and',\n  'like',\n  'almost',\n  'every',\n  'other',\n  'will'],\n ['gave', 'as', 'much', 'disappointment', 'aspleasure'],\n ['he',\n  'was',\n  'neither',\n  'so',\n  'unjust',\n  'nor',\n  'so',\n  'ungrateful',\n  'as',\n  'to',\n  'leave',\n  'his',\n  'estate',\n  'from'],\n ['his',\n  'nephew',\n  'but',\n  'he',\n  'left',\n  'it',\n  'to',\n  'him',\n  'on',\n  'such',\n  'terms',\n  'as',\n  'destroyed',\n  'half'],\n ['the', 'value', 'of', 'thebequest'],\n ['mr',\n  'dashwood',\n  'had',\n  'wished',\n  'for',\n  'it',\n  'more',\n  'for',\n  'the',\n  'sake',\n  'of',\n  'his',\n  'wife',\n  'and'],\n ['daughters',\n  'than',\n  'for',\n  'himself',\n  'or',\n  'his',\n  'son',\n  'but',\n  'to',\n  'his',\n  'son',\n  'and',\n  'his',\n  'son'],\n ['s',\n  'son',\n  'a',\n  'child',\n  'of',\n  'four',\n  'years',\n  'old',\n  'it',\n  'was',\n  'secured',\n  'in',\n  'such',\n  'a'],\n ['way',\n  'as',\n  'to',\n  'leave',\n  'to',\n  'himself',\n  'no',\n  'power',\n  'of',\n  'providing',\n  'for',\n  'those',\n  'who',\n  'were'],\n ['most',\n  'dear',\n  'to',\n  'him',\n  'and',\n  'who',\n  'most',\n  'needed',\n  'a',\n  'provision',\n  'by',\n  'any',\n  'charge',\n  'on'],\n ['the', 'estate', 'or', 'by', 'any', 'sale', 'of', 'its', 'valuablewoods'],\n ['the',\n  'whole',\n  'was',\n  'tied',\n  'up',\n  'for',\n  'the',\n  'benefit',\n  'of',\n  'this',\n  'child',\n  'who',\n  'in',\n  'occasional'],\n ['visits',\n  'with',\n  'his',\n  'father',\n  'and',\n  'mother',\n  'at',\n  'norland',\n  'had',\n  'so',\n  'far',\n  'gained',\n  'on',\n  'the'],\n ['affections',\n  'of',\n  'his',\n  'uncle',\n  'by',\n  'such',\n  'attractions',\n  'as',\n  'are',\n  'by',\n  'no',\n  'means',\n  'unusual',\n  'in'],\n ['children',\n  'of',\n  'two',\n  'or',\n  'three',\n  'years',\n  'old',\n  'an',\n  'imperfect',\n  'articulation',\n  'an',\n  'earnest',\n  'desire',\n  'of'],\n ['having',\n  'his',\n  'own',\n  'way',\n  'many',\n  'cunning',\n  'tricks',\n  'and',\n  'a',\n  'great',\n  'deal',\n  'of',\n  'noise',\n  'as'],\n ['to',\n  'outweigh',\n  'all',\n  'the',\n  'value',\n  'of',\n  'all',\n  'the',\n  'attention',\n  'which',\n  'for',\n  'years',\n  'he',\n  'had'],\n ['received', 'from', 'his', 'niece', 'and', 'herdaughters'],\n ['he',\n  'meant',\n  'not',\n  'to',\n  'be',\n  'unkind',\n  'however',\n  'and',\n  'as',\n  'a',\n  'mark',\n  'of',\n  'his',\n  'affection'],\n ['for',\n  'the',\n  'three',\n  'girls',\n  'he',\n  'left',\n  'them',\n  'a',\n  'thousand',\n  'pounds',\n  'apiece'],\n ['mr',\n  'dashwood',\n  's',\n  'disappointment',\n  'was',\n  'at',\n  'first',\n  'severe',\n  'but',\n  'his',\n  'temper',\n  'was',\n  'cheerful',\n  'and'],\n ['sanguine',\n  'and',\n  'he',\n  'might',\n  'reasonably',\n  'hope',\n  'to',\n  'live',\n  'many',\n  'years',\n  'and',\n  'by',\n  'living',\n  'economically'],\n ['lay',\n  'by',\n  'a',\n  'considerable',\n  'sum',\n  'from',\n  'the',\n  'produce',\n  'of',\n  'an',\n  'estate',\n  'already',\n  'large',\n  'and'],\n ['capable', 'of', 'almost', 'immediateimprovement'],\n ['but',\n  'the',\n  'fortune',\n  'which',\n  'had',\n  'been',\n  'so',\n  'tardy',\n  'in',\n  'coming',\n  'was',\n  'his',\n  'only',\n  'one'],\n ['twelvemonth'],\n ['he',\n  'survived',\n  'his',\n  'uncle',\n  'no',\n  'longer',\n  'and',\n  'ten',\n  'thousand',\n  'pounds',\n  'including',\n  'the',\n  'late',\n  'legacies'],\n ['was', 'all', 'that', 'remained', 'for', 'his', 'widow', 'anddaughters'],\n ['his',\n  'son',\n  'was',\n  'sent',\n  'for',\n  'as',\n  'soon',\n  'as',\n  'his',\n  'danger',\n  'was',\n  'known',\n  'and',\n  'to'],\n ['him',\n  'mr',\n  'dashwood',\n  'recommended',\n  'with',\n  'all',\n  'the',\n  'strength',\n  'and',\n  'urgency',\n  'which',\n  'illness',\n  'could',\n  'command'],\n ['the', 'interest', 'of', 'his', 'mother', 'in', 'law', 'andsisters'],\n ['mr',\n  'john',\n  'dashwood',\n  'had',\n  'not',\n  'the',\n  'strong',\n  'feelings',\n  'of',\n  'the',\n  'rest',\n  'of',\n  'the',\n  'family'],\n ['but',\n  'he',\n  'was',\n  'affected',\n  'by',\n  'a',\n  'recommendation',\n  'of',\n  'such',\n  'a',\n  'nature',\n  'at',\n  'such',\n  'a'],\n ['time',\n  'and',\n  'he',\n  'promised',\n  'to',\n  'do',\n  'every',\n  'thing',\n  'in',\n  'his',\n  'power',\n  'to',\n  'make',\n  'them'],\n ['comfortable'],\n ['his',\n  'father',\n  'was',\n  'rendered',\n  'easy',\n  'by',\n  'such',\n  'an',\n  'assurance',\n  'and',\n  'mr',\n  'john',\n  'dashwood',\n  'had'],\n ['then',\n  'leisure',\n  'to',\n  'consider',\n  'how',\n  'much',\n  'there',\n  'might',\n  'prudently',\n  'be',\n  'in',\n  'his',\n  'power',\n  'to'],\n ['do', 'forthem'],\n ['illustration',\n  '_his',\n  'son',\n  's',\n  'son',\n  'a',\n  'child',\n  'of',\n  'four',\n  'years',\n  'old',\n  '_',\n  'he',\n  'was'],\n ['not',\n  'an',\n  'ill',\n  'disposed',\n  'young',\n  'man',\n  'unless',\n  'to',\n  'be',\n  'rather',\n  'cold',\n  'hearted',\n  'and',\n  'rather'],\n ['selfish',\n  'is',\n  'to',\n  'be',\n  'ill',\n  'disposed',\n  'but',\n  'he',\n  'was',\n  'in',\n  'general',\n  'well',\n  'respected',\n  'for'],\n ['he',\n  'conducted',\n  'himself',\n  'with',\n  'propriety',\n  'in',\n  'the',\n  'discharge',\n  'of',\n  'his',\n  'ordinaryduties'],\n ['had',\n  'he',\n  'married',\n  'a',\n  'more',\n  'amiable',\n  'woman',\n  'he',\n  'might',\n  'have',\n  'been',\n  'made',\n  'still',\n  'more'],\n ['respectable',\n  'than',\n  'he',\n  'was',\n  'he',\n  'might',\n  'even',\n  'have',\n  'been',\n  'made',\n  'amiable',\n  'himself',\n  'for',\n  'he'],\n ['was',\n  'very',\n  'young',\n  'when',\n  'he',\n  'married',\n  'and',\n  'very',\n  'fond',\n  'of',\n  'hiswife'],\n ['but',\n  'mrs',\n  'john',\n  'dashwood',\n  'was',\n  'a',\n  'strong',\n  'caricature',\n  'of',\n  'himself',\n  'more',\n  'narrow',\n  'minded',\n  'and'],\n ['selfish'],\n ['when',\n  'he',\n  'gave',\n  'his',\n  'promise',\n  'to',\n  'his',\n  'father',\n  'he',\n  'meditated',\n  'within',\n  'himself',\n  'to',\n  'increase'],\n ['the',\n  'fortunes',\n  'of',\n  'his',\n  'sisters',\n  'by',\n  'the',\n  'present',\n  'of',\n  'a',\n  'thousand',\n  'pounds',\n  'apiece'],\n ['he', 'then', 'really', 'thought', 'himself', 'equal', 'toit'],\n ['the',\n  'prospect',\n  'of',\n  'four',\n  'thousand',\n  'a',\n  'year',\n  'in',\n  'addition',\n  'to',\n  'his',\n  'present',\n  'income',\n  'besides'],\n ['the',\n  'remaining',\n  'half',\n  'of',\n  'his',\n  'own',\n  'mother',\n  's',\n  'fortune',\n  'warmed',\n  'his',\n  'heart',\n  'and',\n  'made'],\n ['him', 'feel', 'capable', 'ofgenerosity'],\n ['yes',\n  'he',\n  'would',\n  'give',\n  'them',\n  'three',\n  'thousand',\n  'pounds',\n  'it',\n  'would',\n  'be',\n  'liberal',\n  'andhandsome'],\n ['it', 'would', 'be', 'enough', 'to', 'make', 'them', 'completelyeasy'],\n ['three', 'thousandpounds'],\n ['he',\n  'could',\n  'spare',\n  'so',\n  'considerable',\n  'a',\n  'sum',\n  'with',\n  'littleinconvenience'],\n ['he',\n  'thought',\n  'of',\n  'it',\n  'all',\n  'day',\n  'long',\n  'and',\n  'for',\n  'many',\n  'days',\n  'successively',\n  'and',\n  'he'],\n ['did', 'notrepent'],\n ['no',\n  'sooner',\n  'was',\n  'his',\n  'father',\n  's',\n  'funeral',\n  'over',\n  'than',\n  'mrs',\n  'john',\n  'dashwood',\n  'without',\n  'sending'],\n ['any',\n  'notice',\n  'of',\n  'her',\n  'intention',\n  'to',\n  'her',\n  'mother',\n  'in',\n  'law',\n  'arrived',\n  'with',\n  'her',\n  'child'],\n ['and', 'theirattendants'],\n ['no',\n  'one',\n  'could',\n  'dispute',\n  'her',\n  'right',\n  'to',\n  'come',\n  'the',\n  'house',\n  'was',\n  'her',\n  'husband',\n  's'],\n ['from',\n  'the',\n  'moment',\n  'of',\n  'his',\n  'father',\n  's',\n  'decease',\n  'but',\n  'the',\n  'indelicacy',\n  'of',\n  'her',\n  'conduct'],\n ['was',\n  'so',\n  'much',\n  'the',\n  'greater',\n  'and',\n  'to',\n  'a',\n  'woman',\n  'in',\n  'mrs',\n  'dashwood',\n  's',\n  'situation'],\n ['with',\n  'only',\n  'common',\n  'feelings',\n  'must',\n  'have',\n  'been',\n  'highlyunpleasing'],\n ['but',\n  'in',\n  '_her_',\n  'mind',\n  'there',\n  'was',\n  'a',\n  'sense',\n  'of',\n  'honor',\n  'so',\n  'keen',\n  'a',\n  'generosity'],\n ['so',\n  'romantic',\n  'that',\n  'any',\n  'offence',\n  'of',\n  'the',\n  'kind',\n  'by',\n  'whomsoever',\n  'given',\n  'or',\n  'received',\n  'was'],\n ['to', 'her', 'a', 'source', 'of', 'immovabledisgust'],\n ['mrs',\n  'john',\n  'dashwood',\n  'had',\n  'never',\n  'been',\n  'a',\n  'favourite',\n  'with',\n  'any',\n  'of',\n  'her',\n  'husband',\n  's'],\n ['family',\n  'but',\n  'she',\n  'had',\n  'had',\n  'no',\n  'opportunity',\n  'till',\n  'the',\n  'present',\n  'of',\n  'showing',\n  'them',\n  'with'],\n ['how',\n  'little',\n  'attention',\n  'to',\n  'the',\n  'comfort',\n  'of',\n  'other',\n  'people',\n  'she',\n  'could',\n  'act',\n  'when',\n  'occasion'],\n ['requiredit'],\n ['so',\n  'acutely',\n  'did',\n  'mrs',\n  'dashwood',\n  'feel',\n  'this',\n  'ungracious',\n  'behaviour',\n  'and',\n  'so',\n  'earnestly',\n  'did',\n  'she'],\n ['despise',\n  'her',\n  'daughter',\n  'in',\n  'law',\n  'for',\n  'it',\n  'that',\n  'on',\n  'the',\n  'arrival',\n  'of',\n  'the',\n  'latter'],\n ['she',\n  'would',\n  'have',\n  'quitted',\n  'the',\n  'house',\n  'for',\n  'ever',\n  'had',\n  'not',\n  'the',\n  'entreaty',\n  'of',\n  'her'],\n ['eldest',\n  'girl',\n  'induced',\n  'her',\n  'first',\n  'to',\n  'reflect',\n  'on',\n  'the',\n  'propriety',\n  'of',\n  'going',\n  'and',\n  'her'],\n ['own',\n  'tender',\n  'love',\n  'for',\n  'all',\n  'her',\n  'three',\n  'children',\n  'determined',\n  'her',\n  'afterwards',\n  'to',\n  'stay',\n  'and'],\n ['for', 'their', 'sakes', 'avoid', 'a', 'breach', 'with', 'theirbrother'],\n ['elinor',\n  'this',\n  'eldest',\n  'daughter',\n  'whose',\n  'advice',\n  'was',\n  'so',\n  'effectual',\n  'possessed',\n  'a',\n  'strength',\n  'of',\n  'understanding'],\n ['and',\n  'coolness',\n  'of',\n  'judgment',\n  'which',\n  'qualified',\n  'her',\n  'though',\n  'only',\n  'nineteen',\n  'to',\n  'be',\n  'the',\n  'counsellor'],\n ['of',\n  'her',\n  'mother',\n  'and',\n  'enabled',\n  'her',\n  'frequently',\n  'to',\n  'counteract',\n  'to',\n  'the',\n  'advantage',\n  'of',\n  'them'],\n ['all',\n  'that',\n  'eagerness',\n  'of',\n  'mind',\n  'in',\n  'mrs',\n  'dashwood',\n  'which',\n  'must',\n  'generally',\n  'have',\n  'led',\n  'to'],\n ['imprudence'],\n ['she',\n  'had',\n  'an',\n  'excellent',\n  'heart',\n  'her',\n  'disposition',\n  'was',\n  'affectionate',\n  'and',\n  'her',\n  'feelings',\n  'were',\n  'strong'],\n ['but',\n  'she',\n  'knew',\n  'how',\n  'to',\n  'govern',\n  'them',\n  'it',\n  'was',\n  'a',\n  'knowledge',\n  'which',\n  'her',\n  'mother'],\n ['had',\n  'yet',\n  'to',\n  'learn',\n  'and',\n  'which',\n  'one',\n  'of',\n  'her',\n  'sisters',\n  'had',\n  'resolved',\n  'never',\n  'to'],\n ['betaught'],\n ['marianne',\n  's',\n  'abilities',\n  'were',\n  'in',\n  'many',\n  'respects',\n  'quite',\n  'equal',\n  'to',\n  'elinors'],\n ['she',\n  'was',\n  'sensible',\n  'and',\n  'clever',\n  'but',\n  'eager',\n  'in',\n  'everything',\n  'her',\n  'sorrows',\n  'her',\n  'joys',\n  'could'],\n ['have', 'nomoderation'],\n ['she',\n  'was',\n  'generous',\n  'amiable',\n  'interesting',\n  'she',\n  'was',\n  'everything',\n  'butprudent'],\n ['the',\n  'resemblance',\n  'between',\n  'her',\n  'and',\n  'her',\n  'mother',\n  'was',\n  'strikinglygreat'],\n ['elinor',\n  'saw',\n  'with',\n  'concern',\n  'the',\n  'excess',\n  'of',\n  'her',\n  'sister',\n  's',\n  'sensibility',\n  'but',\n  'by',\n  'mrs'],\n ['dashwood', 'it', 'was', 'valued', 'andcherished'],\n ['they',\n  'encouraged',\n  'each',\n  'other',\n  'now',\n  'in',\n  'the',\n  'violence',\n  'of',\n  'theiraffliction'],\n ['the',\n  'agony',\n  'of',\n  'grief',\n  'which',\n  'overpowered',\n  'them',\n  'at',\n  'first',\n  'was',\n  'voluntarily',\n  'renewed',\n  'was',\n  'sought'],\n ['for', 'was', 'created', 'again', 'andagain'],\n ['they',\n  'gave',\n  'themselves',\n  'up',\n  'wholly',\n  'to',\n  'their',\n  'sorrow',\n  'seeking',\n  'increase',\n  'of',\n  'wretchedness',\n  'in',\n  'every'],\n ['reflection',\n  'that',\n  'could',\n  'afford',\n  'it',\n  'and',\n  'resolved',\n  'against',\n  'ever',\n  'admitting',\n  'consolation',\n  'infuture'],\n ['elinor',\n  'too',\n  'was',\n  'deeply',\n  'afflicted',\n  'but',\n  'still',\n  'she',\n  'could',\n  'struggle',\n  'she',\n  'could',\n  'exertherself'],\n ['she',\n  'could',\n  'consult',\n  'with',\n  'her',\n  'brother',\n  'could',\n  'receive',\n  'her',\n  'sister',\n  'in',\n  'law',\n  'on',\n  'her'],\n ['arrival',\n  'and',\n  'treat',\n  'her',\n  'with',\n  'proper',\n  'attention',\n  'and',\n  'could',\n  'strive',\n  'to',\n  'rouse',\n  'her',\n  'mother'],\n ['to',\n  'similar',\n  'exertion',\n  'and',\n  'encourage',\n  'her',\n  'to',\n  'similarforbearance'],\n ['margaret',\n  'the',\n  'other',\n  'sister',\n  'was',\n  'a',\n  'good',\n  'humored',\n  'well',\n  'disposed',\n  'girl',\n  'but',\n  'as',\n  'she'],\n ['had',\n  'already',\n  'imbibed',\n  'a',\n  'good',\n  'deal',\n  'of',\n  'marianne',\n  's',\n  'romance',\n  'without',\n  'having',\n  'much',\n  'of'],\n ['her',\n  'sense',\n  'she',\n  'did',\n  'not',\n  'at',\n  'thirteen',\n  'bid',\n  'fair',\n  'to',\n  'equal',\n  'her',\n  'sisters',\n  'at'],\n ['a', 'more', 'advanced', 'period', 'oflife'],\n ['chapter',\n  'ii',\n  'mrs',\n  'john',\n  'dashwood',\n  'now',\n  'installed',\n  'herself',\n  'mistress',\n  'of',\n  'norland',\n  'and',\n  'her',\n  'mother'],\n ['and',\n  'sisters',\n  'in',\n  'law',\n  'were',\n  'degraded',\n  'to',\n  'the',\n  'condition',\n  'ofvisitors'],\n ['as',\n  'such',\n  'however',\n  'they',\n  'were',\n  'treated',\n  'by',\n  'her',\n  'with',\n  'quiet',\n  'civility',\n  'and',\n  'by',\n  'her'],\n ['husband',\n  'with',\n  'as',\n  'much',\n  'kindness',\n  'as',\n  'he',\n  'could',\n  'feel',\n  'towards',\n  'anybody',\n  'beyond',\n  'himself',\n  'his'],\n ['wife', 'and', 'theirchild'],\n ['he',\n  'really',\n  'pressed',\n  'them',\n  'with',\n  'some',\n  'earnestness',\n  'to',\n  'consider',\n  'norland',\n  'as',\n  'their',\n  'home',\n  'and'],\n ['as',\n  'no',\n  'plan',\n  'appeared',\n  'so',\n  'eligible',\n  'to',\n  'mrs',\n  'dashwood',\n  'as',\n  'remaining',\n  'there',\n  'till',\n  'she'],\n ['could',\n  'accommodate',\n  'herself',\n  'with',\n  'a',\n  'house',\n  'in',\n  'the',\n  'neighbourhood',\n  'his',\n  'invitation',\n  'wasaccepted'],\n ['a',\n  'continuance',\n  'in',\n  'a',\n  'place',\n  'where',\n  'everything',\n  'reminded',\n  'her',\n  'of',\n  'former',\n  'delight',\n  'was',\n  'exactly'],\n ['what', 'suited', 'hermind'],\n ['in',\n  'seasons',\n  'of',\n  'cheerfulness',\n  'no',\n  'temper',\n  'could',\n  'be',\n  'more',\n  'cheerful',\n  'than',\n  'hers',\n  'or',\n  'possess'],\n ['in',\n  'a',\n  'greater',\n  'degree',\n  'that',\n  'sanguine',\n  'expectation',\n  'of',\n  'happiness',\n  'which',\n  'is',\n  'happinessitself'],\n ['but',\n  'in',\n  'sorrow',\n  'she',\n  'must',\n  'be',\n  'equally',\n  'carried',\n  'away',\n  'by',\n  'her',\n  'fancy',\n  'and',\n  'as'],\n ['far',\n  'beyond',\n  'consolation',\n  'as',\n  'in',\n  'pleasure',\n  'she',\n  'was',\n  'beyondalloy'],\n ['mrs',\n  'john',\n  'dashwood',\n  'did',\n  'not',\n  'at',\n  'all',\n  'approve',\n  'of',\n  'what',\n  'her',\n  'husband',\n  'intended',\n  'to'],\n ['do', 'for', 'hissisters'],\n ['to',\n  'take',\n  'three',\n  'thousand',\n  'pounds',\n  'from',\n  'the',\n  'fortune',\n  'of',\n  'their',\n  'dear',\n  'little',\n  'boy',\n  'would'],\n ['be', 'impoverishing', 'him', 'to', 'the', 'most', 'dreadfuldegree'],\n ['she', 'begged', 'him', 'to', 'think', 'again', 'on', 'thesubject'],\n ['how',\n  'could',\n  'he',\n  'answer',\n  'it',\n  'to',\n  'himself',\n  'to',\n  'rob',\n  'his',\n  'child',\n  'and',\n  'his',\n  'only'],\n ['child', 'too', 'of', 'so', 'large', 'asum'],\n ['and',\n  'what',\n  'possible',\n  'claim',\n  'could',\n  'the',\n  'miss',\n  'dashwoods',\n  'who',\n  'were',\n  'related',\n  'to',\n  'him',\n  'only'],\n ['by',\n  'half',\n  'blood',\n  'which',\n  'she',\n  'considered',\n  'as',\n  'no',\n  'relationship',\n  'at',\n  'all',\n  'have',\n  'on',\n  'his'],\n ['generosity', 'to', 'so', 'large', 'anamount'],\n ['it',\n  'was',\n  'very',\n  'well',\n  'known',\n  'that',\n  'no',\n  'affection',\n  'was',\n  'ever',\n  'supposed',\n  'to',\n  'exist',\n  'between'],\n ['the',\n  'children',\n  'of',\n  'any',\n  'man',\n  'by',\n  'different',\n  'marriages',\n  'and',\n  'why',\n  'was',\n  'he',\n  'to',\n  'ruin'],\n ['himself',\n  'and',\n  'their',\n  'poor',\n  'little',\n  'harry',\n  'by',\n  'giving',\n  'away',\n  'all',\n  'his',\n  'money',\n  'to',\n  'his'],\n ['halfsisters'],\n ['it',\n  'was',\n  'my',\n  'father',\n  's',\n  'last',\n  'request',\n  'to',\n  'me',\n  'replied',\n  'her',\n  'husband',\n  'that',\n  'i'],\n ['should', 'assist', 'his', 'widow', 'anddaughters'],\n ['he',\n  'did',\n  'not',\n  'know',\n  'what',\n  'he',\n  'was',\n  'talking',\n  'of',\n  'i',\n  'dare',\n  'say',\n  'ten',\n  'to'],\n ['one', 'but', 'he', 'was', 'light', 'headed', 'at', 'thetime'],\n ['had',\n  'he',\n  'been',\n  'in',\n  'his',\n  'right',\n  'senses',\n  'he',\n  'could',\n  'not',\n  'have',\n  'thought',\n  'of',\n  'such'],\n ['a',\n  'thing',\n  'as',\n  'begging',\n  'you',\n  'to',\n  'give',\n  'away',\n  'half',\n  'your',\n  'fortune',\n  'from',\n  'your',\n  'own'],\n ['child'],\n ['he',\n  'did',\n  'not',\n  'stipulate',\n  'for',\n  'any',\n  'particular',\n  'sum',\n  'my',\n  'dear',\n  'fanny',\n  'he',\n  'only',\n  'requested'],\n ['me',\n  'in',\n  'general',\n  'terms',\n  'to',\n  'assist',\n  'them',\n  'and',\n  'make',\n  'their',\n  'situation',\n  'more',\n  'comfortable',\n  'than'],\n ['it', 'was', 'in', 'his', 'power', 'todo'],\n ['perhaps',\n  'it',\n  'would',\n  'have',\n  'been',\n  'as',\n  'well',\n  'if',\n  'he',\n  'had',\n  'left',\n  'it',\n  'wholly',\n  'to'],\n ['myself'],\n ['he', 'could', 'hardly', 'suppose', 'i', 'should', 'neglectthem'],\n ['but',\n  'as',\n  'he',\n  'required',\n  'the',\n  'promise',\n  'i',\n  'could',\n  'not',\n  'do',\n  'less',\n  'than',\n  'give',\n  'it'],\n ['at', 'least', 'i', 'thought', 'so', 'at', 'thetime'],\n ['the', 'promise', 'therefore', 'was', 'given', 'and', 'must', 'beperformed'],\n ['something',\n  'must',\n  'be',\n  'done',\n  'for',\n  'them',\n  'whenever',\n  'they',\n  'leave',\n  'norland',\n  'and',\n  'settle',\n  'in',\n  'a'],\n ['newhome'],\n ['well',\n  'then',\n  '_let_',\n  'something',\n  'be',\n  'done',\n  'for',\n  'them',\n  'but',\n  '_that_',\n  'something',\n  'need',\n  'not',\n  'be'],\n ['three', 'thousandpounds'],\n ['consider',\n  'she',\n  'added',\n  'that',\n  'when',\n  'the',\n  'money',\n  'is',\n  'once',\n  'parted',\n  'with',\n  'it',\n  'never',\n  'can'],\n ['return'],\n ['your',\n  'sisters',\n  'will',\n  'marry',\n  'and',\n  'it',\n  'will',\n  'be',\n  'gone',\n  'forever'],\n ['if',\n  'indeed',\n  'it',\n  'could',\n  'be',\n  'restored',\n  'to',\n  'our',\n  'poor',\n  'little',\n  'boy',\n  'why',\n  'to',\n  'be'],\n ['sure',\n  'said',\n  'her',\n  'husband',\n  'very',\n  'gravely',\n  'that',\n  'would',\n  'make',\n  'greatdifference'],\n ['the',\n  'time',\n  'may',\n  'come',\n  'when',\n  'harry',\n  'will',\n  'regret',\n  'that',\n  'so',\n  'large',\n  'a',\n  'sum',\n  'was'],\n ['partedwith'],\n ['if',\n  'he',\n  'should',\n  'have',\n  'a',\n  'numerous',\n  'family',\n  'for',\n  'instance',\n  'it',\n  'would',\n  'be',\n  'a',\n  'very'],\n ['convenientaddition'],\n ['to', 'be', 'sure', 'itwould'],\n ['perhaps',\n  'then',\n  'it',\n  'would',\n  'be',\n  'better',\n  'for',\n  'all',\n  'parties',\n  'if',\n  'the',\n  'sum',\n  'were',\n  'diminished'],\n ['onehalf'],\n ['five',\n  'hundred',\n  'pounds',\n  'would',\n  'be',\n  'a',\n  'prodigious',\n  'increase',\n  'to',\n  'theirfortunes'],\n ['oh'],\n ['beyond', 'anythinggreat'],\n ['what',\n  'brother',\n  'on',\n  'earth',\n  'would',\n  'do',\n  'half',\n  'so',\n  'much',\n  'for',\n  'his',\n  'sisters',\n  'even',\n  'if'],\n ['_really_', 'hissisters'],\n ['and', 'as', 'it', 'is', 'only', 'halfblood'],\n ['but', 'you', 'have', 'such', 'a', 'generousspirit'],\n ['i',\n  'would',\n  'not',\n  'wish',\n  'to',\n  'do',\n  'any',\n  'thing',\n  'mean',\n  'hereplied'],\n ['one',\n  'had',\n  'rather',\n  'on',\n  'such',\n  'occasions',\n  'do',\n  'too',\n  'much',\n  'than',\n  'toolittle'],\n ['no',\n  'one',\n  'at',\n  'least',\n  'can',\n  'think',\n  'i',\n  'have',\n  'not',\n  'done',\n  'enough',\n  'for',\n  'them',\n  'even'],\n ['themselves', 'they', 'can', 'hardly', 'expectmore'],\n ['there',\n  'is',\n  'no',\n  'knowing',\n  'what',\n  '_they_',\n  'may',\n  'expect',\n  'said',\n  'the',\n  'lady',\n  'but',\n  'we',\n  'are'],\n ['not',\n  'to',\n  'think',\n  'of',\n  'their',\n  'expectations',\n  'the',\n  'question',\n  'is',\n  'what',\n  'you',\n  'can',\n  'afford',\n  'to'],\n ['do'],\n ['certainly',\n  'and',\n  'i',\n  'think',\n  'i',\n  'may',\n  'afford',\n  'to',\n  'give',\n  'them',\n  'five',\n  'hundred',\n  'pounds',\n  'a'],\n ['piece'],\n ['as',\n  'it',\n  'is',\n  'without',\n  'any',\n  'addition',\n  'of',\n  'mine',\n  'they',\n  'will',\n  'each',\n  'have',\n  'about',\n  'three'],\n ['thousand',\n  'pounds',\n  'on',\n  'their',\n  'mother',\n  's',\n  'death',\n  'a',\n  'very',\n  'comfortable',\n  'fortune',\n  'for',\n  'any',\n  'young'],\n ['woman'],\n ['to',\n  'be',\n  'sure',\n  'it',\n  'is',\n  'and',\n  'indeed',\n  'it',\n  'strikes',\n  'me',\n  'that',\n  'they',\n  'can',\n  'want'],\n ['no', 'addition', 'atall'],\n ['they',\n  'will',\n  'have',\n  'ten',\n  'thousand',\n  'pounds',\n  'divided',\n  'amongstthem'],\n ['if',\n  'they',\n  'marry',\n  'they',\n  'will',\n  'be',\n  'sure',\n  'of',\n  'doing',\n  'well',\n  'and',\n  'if',\n  'they',\n  'do'],\n ['not',\n  'they',\n  'may',\n  'all',\n  'live',\n  'very',\n  'comfortably',\n  'together',\n  'on',\n  'the',\n  'interest',\n  'of',\n  'ten',\n  'thousand'],\n ['pounds'],\n ['that',\n  'is',\n  'very',\n  'true',\n  'and',\n  'therefore',\n  'i',\n  'do',\n  'not',\n  'know',\n  'whether',\n  'upon',\n  'the',\n  'whole'],\n ['it',\n  'would',\n  'not',\n  'be',\n  'more',\n  'advisable',\n  'to',\n  'do',\n  'something',\n  'for',\n  'their',\n  'mother',\n  'while',\n  'she'],\n ['lives',\n  'rather',\n  'than',\n  'for',\n  'them',\n  'something',\n  'of',\n  'the',\n  'annuity',\n  'kind',\n  'imean'],\n ['my',\n  'sisters',\n  'would',\n  'feel',\n  'the',\n  'good',\n  'effects',\n  'of',\n  'it',\n  'as',\n  'well',\n  'asherself'],\n ['a',\n  'hundred',\n  'a',\n  'year',\n  'would',\n  'make',\n  'them',\n  'all',\n  'perfectlycomfortable'],\n ['his',\n  'wife',\n  'hesitated',\n  'a',\n  'little',\n  'however',\n  'in',\n  'giving',\n  'her',\n  'consent',\n  'to',\n  'thisplan'],\n ['to',\n  'be',\n  'sure',\n  'said',\n  'she',\n  'it',\n  'is',\n  'better',\n  'than',\n  'parting',\n  'with',\n  'fifteen',\n  'hundred',\n  'pounds'],\n ['atonce'],\n ['but',\n  'then',\n  'if',\n  'mrs',\n  'dashwood',\n  'should',\n  'live',\n  'fifteen',\n  'years',\n  'we',\n  'shall',\n  'be',\n  'completely',\n  'taken'],\n ['in'],\n ['fifteenyears'],\n ['my',\n  'dear',\n  'fanny',\n  'her',\n  'life',\n  'cannot',\n  'be',\n  'worth',\n  'half',\n  'thatpurchase'],\n ['certainly',\n  'not',\n  'but',\n  'if',\n  'you',\n  'observe',\n  'people',\n  'always',\n  'live',\n  'for',\n  'ever',\n  'when',\n  'there',\n  'is'],\n ['an',\n  'annuity',\n  'to',\n  'be',\n  'paid',\n  'them',\n  'and',\n  'she',\n  'is',\n  'very',\n  'stout',\n  'and',\n  'healthy',\n  'and'],\n ['hardlyforty'],\n ['an',\n  'annuity',\n  'is',\n  'a',\n  'very',\n  'serious',\n  'business',\n  'it',\n  'comes',\n  'over',\n  'and',\n  'over',\n  'every',\n  'year'],\n ['and', 'there', 'is', 'no', 'getting', 'rid', 'ofit'],\n ['you', 'are', 'not', 'aware', 'of', 'what', 'you', 'aredoing'],\n ['i',\n  'have',\n  'known',\n  'a',\n  'great',\n  'deal',\n  'of',\n  'the',\n  'trouble',\n  'of',\n  'annuities',\n  'for',\n  'my',\n  'mother'],\n ['was',\n  'clogged',\n  'with',\n  'the',\n  'payment',\n  'of',\n  'three',\n  'to',\n  'old',\n  'superannuated',\n  'servants',\n  'by',\n  'my',\n  'father'],\n ['s',\n  'will',\n  'and',\n  'it',\n  'is',\n  'amazing',\n  'how',\n  'disagreeable',\n  'she',\n  'foundit'],\n ['twice',\n  'every',\n  'year',\n  'these',\n  'annuities',\n  'were',\n  'to',\n  'be',\n  'paid',\n  'and',\n  'then',\n  'there',\n  'was',\n  'the'],\n ['trouble',\n  'of',\n  'getting',\n  'it',\n  'to',\n  'them',\n  'and',\n  'then',\n  'one',\n  'of',\n  'them',\n  'was',\n  'said',\n  'to'],\n ['have',\n  'died',\n  'and',\n  'afterwards',\n  'it',\n  'turned',\n  'out',\n  'to',\n  'be',\n  'no',\n  'suchthing'],\n ['my', 'mother', 'was', 'quite', 'sick', 'ofit'],\n ['her',\n  'income',\n  'was',\n  'not',\n  'her',\n  'own',\n  'she',\n  'said',\n  'with',\n  'such',\n  'perpetual',\n  'claims',\n  'on',\n  'it'],\n ['and',\n  'it',\n  'was',\n  'the',\n  'more',\n  'unkind',\n  'in',\n  'my',\n  'father',\n  'because',\n  'otherwise',\n  'the',\n  'money',\n  'would'],\n ['have',\n  'been',\n  'entirely',\n  'at',\n  'my',\n  'mother',\n  's',\n  'disposal',\n  'without',\n  'any',\n  'restrictionwhatever'],\n ['it',\n  'has',\n  'given',\n  'me',\n  'such',\n  'an',\n  'abhorrence',\n  'of',\n  'annuities',\n  'that',\n  'i',\n  'am',\n  'sure',\n  'i'],\n ['would',\n  'not',\n  'pin',\n  'myself',\n  'down',\n  'to',\n  'the',\n  'payment',\n  'of',\n  'one',\n  'for',\n  'all',\n  'theworld'],\n ['it',\n  'is',\n  'certainly',\n  'an',\n  'unpleasant',\n  'thing',\n  'replied',\n  'mr',\n  'dashwood',\n  'to',\n  'have',\n  'those',\n  'kind',\n  'of'],\n ['yearly', 'drains', 'on', 'one', 'sincome'],\n ['one',\n  's',\n  'fortune',\n  'as',\n  'your',\n  'mother',\n  'justly',\n  'says',\n  'is',\n  '_not_',\n  'one',\n  'sown'],\n ['to',\n  'be',\n  'tied',\n  'down',\n  'to',\n  'the',\n  'regular',\n  'payment',\n  'of',\n  'such',\n  'a',\n  'sum',\n  'on',\n  'every'],\n ['rent',\n  'day',\n  'is',\n  'by',\n  'no',\n  'means',\n  'desirable',\n  'it',\n  'takes',\n  'away',\n  'one',\n  'sindependence'],\n ['undoubtedly',\n  'and',\n  'after',\n  'all',\n  'you',\n  'have',\n  'no',\n  'thanks',\n  'forit'],\n ['they',\n  'think',\n  'themselves',\n  'secure',\n  'you',\n  'do',\n  'no',\n  'more',\n  'than',\n  'what',\n  'is',\n  'expected',\n  'and',\n  'it'],\n ['raises', 'no', 'gratitude', 'atall'],\n ['if',\n  'i',\n  'were',\n  'you',\n  'whatever',\n  'i',\n  'did',\n  'should',\n  'be',\n  'done',\n  'at',\n  'my',\n  'own',\n  'discretion'],\n ['entirely'],\n ['i',\n  'would',\n  'not',\n  'bind',\n  'myself',\n  'to',\n  'allow',\n  'them',\n  'any',\n  'thingyearly'],\n ['it',\n  'may',\n  'be',\n  'very',\n  'inconvenient',\n  'some',\n  'years',\n  'to',\n  'spare',\n  'a',\n  'hundred',\n  'or',\n  'even',\n  'fifty'],\n ['pounds', 'from', 'our', 'ownexpenses'],\n ['i',\n  'believe',\n  'you',\n  'are',\n  'right',\n  'my',\n  'love',\n  'it',\n  'will',\n  'be',\n  'better',\n  'that',\n  'there',\n  'should'],\n ['be',\n  'no',\n  'annuity',\n  'in',\n  'the',\n  'case',\n  'whatever',\n  'i',\n  'may',\n  'give',\n  'them',\n  'occasionally',\n  'will',\n  'be'],\n ['of',\n  'far',\n  'greater',\n  'assistance',\n  'than',\n  'a',\n  'yearly',\n  'allowance',\n  'because',\n  'they',\n  'would',\n  'only',\n  'enlarge',\n  'their'],\n ['style',\n  'of',\n  'living',\n  'if',\n  'they',\n  'felt',\n  'sure',\n  'of',\n  'a',\n  'larger',\n  'income',\n  'and',\n  'would',\n  'not'],\n ['be',\n  'sixpence',\n  'the',\n  'richer',\n  'for',\n  'it',\n  'at',\n  'the',\n  'end',\n  'of',\n  'theyear'],\n ['it', 'will', 'certainly', 'be', 'much', 'the', 'bestway'],\n ['a',\n  'present',\n  'of',\n  'fifty',\n  'pounds',\n  'now',\n  'and',\n  'then',\n  'will',\n  'prevent',\n  'their',\n  'ever',\n  'being',\n  'distressed'],\n ['for',\n  'money',\n  'and',\n  'will',\n  'i',\n  'think',\n  'be',\n  'amply',\n  'discharging',\n  'my',\n  'promise',\n  'to',\n  'myfather'],\n ['to', 'be', 'sure', 'itwill'],\n ['indeed',\n  'to',\n  'say',\n  'the',\n  'truth',\n  'i',\n  'am',\n  'convinced',\n  'within',\n  'myself',\n  'that',\n  'your',\n  'father',\n  'had'],\n ['no', 'idea', 'of', 'your', 'giving', 'them', 'any', 'money', 'atall'],\n ['the',\n  'assistance',\n  'he',\n  'thought',\n  'of',\n  'i',\n  'dare',\n  'say',\n  'was',\n  'only',\n  'such',\n  'as',\n  'might',\n  'be'],\n ['reasonably',\n  'expected',\n  'of',\n  'you',\n  'for',\n  'instance',\n  'such',\n  'as',\n  'looking',\n  'out',\n  'for',\n  'a',\n  'comfortable',\n  'small'],\n ['house',\n  'for',\n  'them',\n  'helping',\n  'them',\n  'to',\n  'move',\n  'their',\n  'things',\n  'and',\n  'sending',\n  'them',\n  'presents',\n  'of'],\n ['fish',\n  'and',\n  'game',\n  'and',\n  'so',\n  'forth',\n  'whenever',\n  'they',\n  'are',\n  'inseason'],\n ['i',\n  'll',\n  'lay',\n  'my',\n  'life',\n  'that',\n  'he',\n  'meant',\n  'nothing',\n  'farther',\n  'indeed',\n  'it',\n  'would',\n  'be'],\n ['very', 'strange', 'and', 'unreasonable', 'if', 'hedid'],\n ['do',\n  'but',\n  'consider',\n  'my',\n  'dear',\n  'mr',\n  'dashwood',\n  'how',\n  'excessively',\n  'comfortable',\n  'your',\n  'mother',\n  'in',\n  'law'],\n ['and',\n  'her',\n  'daughters',\n  'may',\n  'live',\n  'on',\n  'the',\n  'interest',\n  'of',\n  'seven',\n  'thousand',\n  'pounds',\n  'besides',\n  'the'],\n ['thousand',\n  'pounds',\n  'belonging',\n  'to',\n  'each',\n  'of',\n  'the',\n  'girls',\n  'which',\n  'brings',\n  'them',\n  'in',\n  'fifty',\n  'pounds'],\n ['a',\n  'year',\n  'a',\n  'piece',\n  'and',\n  'of',\n  'course',\n  'they',\n  'will',\n  'pay',\n  'their',\n  'mother',\n  'for',\n  'their'],\n ['board', 'out', 'ofit'],\n ['altogether',\n  'they',\n  'will',\n  'have',\n  'five',\n  'hundred',\n  'a',\n  'year',\n  'amongst',\n  'them',\n  'and',\n  'what',\n  'on',\n  'earth'],\n ['can',\n  'four',\n  'women',\n  'want',\n  'for',\n  'more',\n  'than',\n  'that',\n  'they',\n  'will',\n  'live',\n  'socheap'],\n ['their', 'housekeeping', 'will', 'be', 'nothing', 'atall'],\n ['they',\n  'will',\n  'have',\n  'no',\n  'carriage',\n  'no',\n  'horses',\n  'and',\n  'hardly',\n  'any',\n  'servants',\n  'they',\n  'will',\n  'keep'],\n ['no', 'company', 'and', 'can', 'have', 'no', 'expenses', 'of', 'anykind'],\n ['only', 'conceive', 'how', 'comfortable', 'they', 'willbe'],\n ['five', 'hundred', 'ayear'],\n ['i',\n  'am',\n  'sure',\n  'i',\n  'cannot',\n  'imagine',\n  'how',\n  'they',\n  'will',\n  'spend',\n  'half',\n  'of',\n  'it',\n  'and'],\n ['as',\n  'to',\n  'your',\n  'giving',\n  'them',\n  'more',\n  'it',\n  'is',\n  'quite',\n  'absurd',\n  'to',\n  'think',\n  'ofit'],\n ['they',\n  'will',\n  'be',\n  'much',\n  'more',\n  'able',\n  'to',\n  'give',\n  '_you_something'],\n ['upon',\n  'my',\n  'word',\n  'said',\n  'mr',\n  'dashwood',\n  'i',\n  'believe',\n  'you',\n  'are',\n  'perfectlyright'],\n ['my',\n  'father',\n  'certainly',\n  'could',\n  'mean',\n  'nothing',\n  'more',\n  'by',\n  'his',\n  'request',\n  'to',\n  'me',\n  'than',\n  'what'],\n ['yousay'],\n ['i',\n  'clearly',\n  'understand',\n  'it',\n  'now',\n  'and',\n  'i',\n  'will',\n  'strictly',\n  'fulfil',\n  'my',\n  'engagement',\n  'by',\n  'such'],\n ['acts',\n  'of',\n  'assistance',\n  'and',\n  'kindness',\n  'to',\n  'them',\n  'as',\n  'you',\n  'havedescribed'],\n ['when',\n  'my',\n  'mother',\n  'removes',\n  'into',\n  'another',\n  'house',\n  'my',\n  'services',\n  'shall',\n  'be',\n  'readily',\n  'given',\n  'to'],\n ['accommodate', 'her', 'as', 'far', 'as', 'ican'],\n ['some',\n  'little',\n  'present',\n  'of',\n  'furniture',\n  'too',\n  'may',\n  'be',\n  'acceptablethen'],\n ['certainly', 'returned', 'mrs', 'johndashwood'],\n ['but', 'however', '_one_', 'thing', 'must', 'beconsidered'],\n ['when',\n  'your',\n  'father',\n  'and',\n  'mother',\n  'moved',\n  'to',\n  'norland',\n  'though',\n  'the',\n  'furniture',\n  'of',\n  'stanhill',\n  'was'],\n ['sold',\n  'all',\n  'the',\n  'china',\n  'plate',\n  'and',\n  'linen',\n  'was',\n  'saved',\n  'and',\n  'is',\n  'now',\n  'left',\n  'to'],\n ['yourmother'],\n ['her',\n  'house',\n  'will',\n  'therefore',\n  'be',\n  'almost',\n  'completely',\n  'fitted',\n  'up',\n  'as',\n  'soon',\n  'as',\n  'she',\n  'takes'],\n ['it'],\n ['that', 'is', 'a', 'material', 'considerationundoubtedly'],\n ['a', 'valuable', 'legacyindeed'],\n ['and',\n  'yet',\n  'some',\n  'of',\n  'the',\n  'plate',\n  'would',\n  'have',\n  'been',\n  'a',\n  'very',\n  'pleasant',\n  'addition',\n  'to'],\n ['our', 'own', 'stockhere'],\n ['yes',\n  'and',\n  'the',\n  'set',\n  'of',\n  'breakfast',\n  'china',\n  'is',\n  'twice',\n  'as',\n  'handsome',\n  'as',\n  'what',\n  'belongs'],\n ['to', 'thishouse'],\n ['a',\n  'great',\n  'deal',\n  'too',\n  'handsome',\n  'in',\n  'my',\n  'opinion',\n  'for',\n  'any',\n  'place',\n  '_they_',\n  'can',\n  'ever'],\n ['afford', 'to', 'livein'],\n ['but', 'however', 'so', 'itis'],\n ['your',\n  'father',\n  'thought',\n  'only',\n  'of',\n  '_them_',\n  'and',\n  'i',\n  'must',\n  'say',\n  'this',\n  'that',\n  'you',\n  'owe'],\n ['no',\n  'particular',\n  'gratitude',\n  'to',\n  'him',\n  'nor',\n  'attention',\n  'to',\n  'his',\n  'wishes',\n  'for',\n  'we',\n  'very',\n  'well'],\n ['know',\n  'that',\n  'if',\n  'he',\n  'could',\n  'he',\n  'would',\n  'have',\n  'left',\n  'almost',\n  'everything',\n  'in',\n  'the',\n  'world'],\n ['to', '_them', '_', 'this', 'argument', 'wasirresistible'],\n ['it',\n  'gave',\n  'to',\n  'his',\n  'intentions',\n  'whatever',\n  'of',\n  'decision',\n  'was',\n  'wanting',\n  'before',\n  'and',\n  'he',\n  'finally'],\n ['resolved',\n  'that',\n  'it',\n  'would',\n  'be',\n  'absolutely',\n  'unnecessary',\n  'if',\n  'not',\n  'highly',\n  'indecorous',\n  'to',\n  'do',\n  'more'],\n ['for',\n  'the',\n  'widow',\n  'and',\n  'children',\n  'of',\n  'his',\n  'father',\n  'than',\n  'such',\n  'kind',\n  'of',\n  'neighbourly',\n  'acts'],\n ['as', 'his', 'own', 'wife', 'pointedout'],\n ['chapter',\n  'iii',\n  'mrs',\n  'dashwood',\n  'remained',\n  'at',\n  'norland',\n  'several',\n  'months',\n  'not',\n  'from',\n  'any',\n  'disinclination',\n  'to'],\n ['move',\n  'when',\n  'the',\n  'sight',\n  'of',\n  'every',\n  'well',\n  'known',\n  'spot',\n  'ceased',\n  'to',\n  'raise',\n  'the',\n  'violent'],\n ['emotion',\n  'which',\n  'it',\n  'produced',\n  'for',\n  'a',\n  'while',\n  'for',\n  'when',\n  'her',\n  'spirits',\n  'began',\n  'to',\n  'revive'],\n ['and',\n  'her',\n  'mind',\n  'became',\n  'capable',\n  'of',\n  'some',\n  'other',\n  'exertion',\n  'than',\n  'that',\n  'of',\n  'heightening',\n  'its'],\n ['affliction',\n  'by',\n  'melancholy',\n  'remembrances',\n  'she',\n  'was',\n  'impatient',\n  'to',\n  'be',\n  'gone',\n  'and',\n  'indefatigable',\n  'in',\n  'her'],\n ['inquiries',\n  'for',\n  'a',\n  'suitable',\n  'dwelling',\n  'in',\n  'the',\n  'neighbourhood',\n  'of',\n  'norland',\n  'for',\n  'to',\n  'remove',\n  'far'],\n ['from', 'that', 'beloved', 'spot', 'wasimpossible'],\n ['but',\n  'she',\n  'could',\n  'hear',\n  'of',\n  'no',\n  'situation',\n  'that',\n  'at',\n  'once',\n  'answered',\n  'her',\n  'notions',\n  'of'],\n ['comfort',\n  'and',\n  'ease',\n  'and',\n  'suited',\n  'the',\n  'prudence',\n  'of',\n  'her',\n  'eldest',\n  'daughter',\n  'whose',\n  'steadier',\n  'judgment'],\n ['rejected',\n  'several',\n  'houses',\n  'as',\n  'too',\n  'large',\n  'for',\n  'their',\n  'income',\n  'which',\n  'her',\n  'mother',\n  'would',\n  'have'],\n ['approved'],\n ['illustration',\n  '_i',\n  'cannot',\n  'imagine',\n  'how',\n  'they',\n  'will',\n  'spend',\n  'half',\n  'of',\n  'it',\n  '_',\n  'mrs',\n  'dashwood'],\n ['had',\n  'been',\n  'informed',\n  'by',\n  'her',\n  'husband',\n  'of',\n  'the',\n  'solemn',\n  'promise',\n  'on',\n  'the',\n  'part',\n  'of'],\n ['his',\n  'son',\n  'in',\n  'their',\n  'favour',\n  'which',\n  'gave',\n  'comfort',\n  'to',\n  'his',\n  'last',\n  'earthlyreflections'],\n ['she',\n  'doubted',\n  'the',\n  'sincerity',\n  'of',\n  'this',\n  'assurance',\n  'no',\n  'more',\n  'than',\n  'he',\n  'had',\n  'doubted',\n  'it'],\n ['himself',\n  'and',\n  'she',\n  'thought',\n  'of',\n  'it',\n  'for',\n  'her',\n  'daughters',\n  'sake',\n  'with',\n  'satisfaction',\n  'though',\n  'as'],\n ['for',\n  'herself',\n  'she',\n  'was',\n  'persuaded',\n  'that',\n  'a',\n  'much',\n  'smaller',\n  'provision',\n  'than',\n  '7000l',\n  'would',\n  'support'],\n ['her', 'inaffluence'],\n ['for',\n  'their',\n  'brother',\n  's',\n  'sake',\n  'too',\n  'for',\n  'the',\n  'sake',\n  'of',\n  'his',\n  'own',\n  'heart',\n  'she'],\n ['rejoiced',\n  'and',\n  'she',\n  'reproached',\n  'herself',\n  'for',\n  'being',\n  'unjust',\n  'to',\n  'his',\n  'merit',\n  'before',\n  'in',\n  'believing'],\n ['him', 'incapable', 'ofgenerosity'],\n ['his',\n  'attentive',\n  'behaviour',\n  'to',\n  'herself',\n  'and',\n  'his',\n  'sisters',\n  'convinced',\n  'her',\n  'that',\n  'their',\n  'welfare',\n  'was'],\n ['dear',\n  'to',\n  'him',\n  'and',\n  'for',\n  'a',\n  'long',\n  'time',\n  'she',\n  'firmly',\n  'relied',\n  'on',\n  'the',\n  'liberality'],\n ['of', 'hisintentions'],\n ['the',\n  'contempt',\n  'which',\n  'she',\n  'had',\n  'very',\n  'early',\n  'in',\n  'their',\n  'acquaintance',\n  'felt',\n  'for',\n  'her',\n  'daughter'],\n ['in',\n  'law',\n  'was',\n  'very',\n  'much',\n  'increased',\n  'by',\n  'the',\n  'farther',\n  'knowledge',\n  'of',\n  'her',\n  'character',\n  'which'],\n ['half',\n  'a',\n  'year',\n  's',\n  'residence',\n  'in',\n  'her',\n  'family',\n  'afforded',\n  'and',\n  'perhaps',\n  'in',\n  'spite',\n  'of'],\n ['every',\n  'consideration',\n  'of',\n  'politeness',\n  'or',\n  'maternal',\n  'affection',\n  'on',\n  'the',\n  'side',\n  'of',\n  'the',\n  'former',\n  'the'],\n ['two',\n  'ladies',\n  'might',\n  'have',\n  'found',\n  'it',\n  'impossible',\n  'to',\n  'have',\n  'lived',\n  'together',\n  'so',\n  'long',\n  'had'],\n ['not',\n  'a',\n  'particular',\n  'circumstance',\n  'occurred',\n  'to',\n  'give',\n  'still',\n  'greater',\n  'eligibility',\n  'according',\n  'to',\n  'the',\n  'opinions'],\n ['of',\n  'mrs',\n  'dashwood',\n  'to',\n  'her',\n  'daughters',\n  'continuance',\n  'atnorland'],\n ['this',\n  'circumstance',\n  'was',\n  'a',\n  'growing',\n  'attachment',\n  'between',\n  'her',\n  'eldest',\n  'girl',\n  'and',\n  'the',\n  'brother',\n  'of'],\n ['mrs',\n  'john',\n  'dashwood',\n  'a',\n  'gentlemanlike',\n  'and',\n  'pleasing',\n  'young',\n  'man',\n  'who',\n  'was',\n  'introduced',\n  'to',\n  'their'],\n ['acquaintance',\n  'soon',\n  'after',\n  'his',\n  'sister',\n  's',\n  'establishment',\n  'at',\n  'norland',\n  'and',\n  'who',\n  'had',\n  'since',\n  'spent'],\n ['the', 'greatest', 'part', 'of', 'his', 'timethere'],\n ['some',\n  'mothers',\n  'might',\n  'have',\n  'encouraged',\n  'the',\n  'intimacy',\n  'from',\n  'motives',\n  'of',\n  'interest',\n  'for',\n  'edward',\n  'ferrars'],\n ['was',\n  'the',\n  'eldest',\n  'son',\n  'of',\n  'a',\n  'man',\n  'who',\n  'had',\n  'died',\n  'very',\n  'rich',\n  'and',\n  'some'],\n ['might',\n  'have',\n  'repressed',\n  'it',\n  'from',\n  'motives',\n  'of',\n  'prudence',\n  'for',\n  'except',\n  'a',\n  'trifling',\n  'sum',\n  'the'],\n ['whole',\n  'of',\n  'his',\n  'fortune',\n  'depended',\n  'on',\n  'the',\n  'will',\n  'of',\n  'hismother'],\n ['but',\n  'mrs',\n  'dashwood',\n  'was',\n  'alike',\n  'uninfluenced',\n  'by',\n  'eitherconsideration'],\n ['it',\n  'was',\n  'enough',\n  'for',\n  'her',\n  'that',\n  'he',\n  'appeared',\n  'to',\n  'be',\n  'amiable',\n  'that',\n  'he',\n  'loved'],\n ['her', 'daughter', 'and', 'that', 'elinor', 'returned', 'thepartiality'],\n ['it',\n  'was',\n  'contrary',\n  'to',\n  'every',\n  'doctrine',\n  'of',\n  'her',\n  's',\n  'that',\n  'difference',\n  'of',\n  'fortune',\n  'should'],\n ['keep',\n  'any',\n  'couple',\n  'asunder',\n  'who',\n  'were',\n  'attracted',\n  'by',\n  'resemblance',\n  'of',\n  'disposition',\n  'and',\n  'that',\n  'elinor'],\n ['s',\n  'merit',\n  'should',\n  'not',\n  'be',\n  'acknowledged',\n  'by',\n  'every',\n  'one',\n  'who',\n  'knew',\n  'her',\n  'was',\n  'to'],\n ['her', 'comprehensionimpossible'],\n ['edward',\n  'ferrars',\n  'was',\n  'not',\n  'recommended',\n  'to',\n  'their',\n  'good',\n  'opinion',\n  'by',\n  'any',\n  'peculiar',\n  'graces',\n  'of'],\n ['person', 'oraddress'],\n ['he',\n  'was',\n  'not',\n  'handsome',\n  'and',\n  'his',\n  'manners',\n  'required',\n  'intimacy',\n  'to',\n  'make',\n  'thempleasing'],\n ['he',\n  'was',\n  'too',\n  'diffident',\n  'to',\n  'do',\n  'justice',\n  'to',\n  'himself',\n  'but',\n  'when',\n  'his',\n  'natural',\n  'shyness'],\n ['was',\n  'overcome',\n  'his',\n  'behaviour',\n  'gave',\n  'every',\n  'indication',\n  'of',\n  'an',\n  'open',\n  'affectionateheart'],\n ['his',\n  'understanding',\n  'was',\n  'good',\n  'and',\n  'his',\n  'education',\n  'had',\n  'given',\n  'it',\n  'solidimprovement'],\n ['but',\n  'he',\n  'was',\n  'neither',\n  'fitted',\n  'by',\n  'abilities',\n  'nor',\n  'disposition',\n  'to',\n  'answer',\n  'the',\n  'wishes',\n  'of'],\n ['his',\n  'mother',\n  'and',\n  'sister',\n  'who',\n  'longed',\n  'to',\n  'see',\n  'him',\n  'distinguished',\n  'as',\n  'they',\n  'hardly',\n  'knew'],\n ['what'],\n ['they',\n  'wanted',\n  'him',\n  'to',\n  'make',\n  'a',\n  'fine',\n  'figure',\n  'in',\n  'the',\n  'world',\n  'in',\n  'some',\n  'manner'],\n ['orother'],\n ['his',\n  'mother',\n  'wished',\n  'to',\n  'interest',\n  'him',\n  'in',\n  'political',\n  'concerns',\n  'to',\n  'get',\n  'him',\n  'into',\n  'parliament'],\n ['or',\n  'to',\n  'see',\n  'him',\n  'connected',\n  'with',\n  'some',\n  'of',\n  'the',\n  'great',\n  'men',\n  'of',\n  'theday'],\n ['mrs',\n  'john',\n  'dashwood',\n  'wished',\n  'it',\n  'likewise',\n  'but',\n  'in',\n  'the',\n  'mean',\n  'while',\n  'till',\n  'one',\n  'of'],\n ['these',\n  'superior',\n  'blessings',\n  'could',\n  'be',\n  'attained',\n  'it',\n  'would',\n  'have',\n  'quieted',\n  'her',\n  'ambition',\n  'to',\n  'see'],\n ['him', 'driving', 'abarouche'],\n ['but', 'edward', 'had', 'no', 'turn', 'for', 'great', 'men', 'orbarouches'],\n ['all',\n  'his',\n  'wishes',\n  'centered',\n  'in',\n  'domestic',\n  'comfort',\n  'and',\n  'the',\n  'quiet',\n  'of',\n  'privatelife'],\n ['fortunately',\n  'he',\n  'had',\n  'a',\n  'younger',\n  'brother',\n  'who',\n  'was',\n  'morepromising'],\n ['edward',\n  'had',\n  'been',\n  'staying',\n  'several',\n  'weeks',\n  'in',\n  'the',\n  'house',\n  'before',\n  'he',\n  'engaged',\n  'much',\n  'of'],\n ['mrs',\n  'dashwood',\n  's',\n  'attention',\n  'for',\n  'she',\n  'was',\n  'at',\n  'that',\n  'time',\n  'in',\n  'such',\n  'affliction',\n  'as'],\n ['rendered', 'her', 'careless', 'of', 'surroundingobjects'],\n ['she',\n  'saw',\n  'only',\n  'that',\n  'he',\n  'was',\n  'quiet',\n  'and',\n  'unobtrusive',\n  'and',\n  'she',\n  'liked',\n  'him',\n  'for'],\n ['it'],\n ['he',\n  'did',\n  'not',\n  'disturb',\n  'the',\n  'wretchedness',\n  'of',\n  'her',\n  'mind',\n  'by',\n  'ill',\n  'timedconversation'],\n ['she',\n  'was',\n  'first',\n  'called',\n  'to',\n  'observe',\n  'and',\n  'approve',\n  'him',\n  'farther',\n  'by',\n  'a',\n  'reflection',\n  'which'],\n ['elinor',\n  'chanced',\n  'one',\n  'day',\n  'to',\n  'make',\n  'on',\n  'the',\n  'difference',\n  'between',\n  'him',\n  'and',\n  'hissister'],\n ['it',\n  'was',\n  'a',\n  'contrast',\n  'which',\n  'recommended',\n  'him',\n  'most',\n  'forcibly',\n  'to',\n  'hermother'],\n ['it',\n  'is',\n  'enough',\n  'said',\n  'she',\n  'to',\n  'say',\n  'that',\n  'he',\n  'is',\n  'unlike',\n  'fanny',\n  'isenough'],\n ['it', 'implies', 'everythingamiable'],\n ['i', 'love', 'himalready'],\n ['i',\n  'think',\n  'you',\n  'will',\n  'like',\n  'him',\n  'said',\n  'elinor',\n  'when',\n  'you',\n  'know',\n  'more',\n  'ofhim'],\n ['likehim'],\n ['replied', 'her', 'mother', 'with', 'asmile'],\n ['i', 'feel', 'no', 'sentiment', 'of', 'approbation', 'inferior', 'tolove'],\n ['you', 'may', 'esteemhim'],\n ['i',\n  'have',\n  'never',\n  'yet',\n  'known',\n  'what',\n  'it',\n  'was',\n  'to',\n  'separate',\n  'esteem',\n  'andlove'],\n ['mrs',\n  'dashwood',\n  'now',\n  'took',\n  'pains',\n  'to',\n  'get',\n  'acquainted',\n  'withhim'],\n ['her',\n  'manners',\n  'were',\n  'attaching',\n  'and',\n  'soon',\n  'banished',\n  'hisreserve'],\n ['she',\n  'speedily',\n  'comprehended',\n  'all',\n  'his',\n  'merits',\n  'the',\n  'persuasion',\n  'of',\n  'his',\n  'regard',\n  'for',\n  'elinor',\n  'perhaps'],\n ['assisted',\n  'her',\n  'penetration',\n  'but',\n  'she',\n  'really',\n  'felt',\n  'assured',\n  'of',\n  'his',\n  'worth',\n  'and',\n  'even',\n  'that'],\n ['quietness',\n  'of',\n  'manner',\n  'which',\n  'militated',\n  'against',\n  'all',\n  'her',\n  'established',\n  'ideas',\n  'of',\n  'what',\n  'a',\n  'young'],\n ['man',\n  's',\n  'address',\n  'ought',\n  'to',\n  'be',\n  'was',\n  'no',\n  'longer',\n  'uninteresting',\n  'when',\n  'she',\n  'knew',\n  'his'],\n ['heart', 'to', 'be', 'warm', 'and', 'his', 'temperaffectionate'],\n ['no',\n  'sooner',\n  'did',\n  'she',\n  'perceive',\n  'any',\n  'symptom',\n  'of',\n  'love',\n  'in',\n  'his',\n  'behaviour',\n  'to',\n  'elinor'],\n ['than',\n  'she',\n  'considered',\n  'their',\n  'serious',\n  'attachment',\n  'as',\n  'certain',\n  'and',\n  'looked',\n  'forward',\n  'to',\n  'their',\n  'marriage'],\n ['as', 'rapidlyapproaching'],\n ['in',\n  'a',\n  'few',\n  'months',\n  'my',\n  'dear',\n  'marianne',\n  'said',\n  'she',\n  'elinor',\n  'will',\n  'in',\n  'all',\n  'probability'],\n ['be', 'settled', 'forlife'],\n ['we', 'shall', 'miss', 'her', 'but', '_she_', 'will', 'behappy'],\n ['oh'],\n ['mamma', 'how', 'shall', 'we', 'do', 'withouther'],\n ['my', 'love', 'it', 'will', 'be', 'scarcely', 'aseparation'],\n ['we',\n  'shall',\n  'live',\n  'within',\n  'a',\n  'few',\n  'miles',\n  'of',\n  'each',\n  'other',\n  'and',\n  'shall',\n  'meet',\n  'every'],\n ['day', 'of', 'ourlives'],\n ['you', 'will', 'gain', 'a', 'brother', 'a', 'real', 'affectionatebrother'],\n ['i',\n  'have',\n  'the',\n  'highest',\n  'opinion',\n  'in',\n  'the',\n  'world',\n  'of',\n  'edward',\n  'sheart'],\n ['but',\n  'you',\n  'look',\n  'grave',\n  'marianne',\n  'do',\n  'you',\n  'disapprove',\n  'your',\n  'sister',\n  'schoice'],\n ['perhaps',\n  'said',\n  'marianne',\n  'i',\n  'may',\n  'consider',\n  'it',\n  'with',\n  'somesurprise'],\n ['edward', 'is', 'very', 'amiable', 'and', 'i', 'love', 'himtenderly'],\n ['but',\n  'yet',\n  'he',\n  'is',\n  'not',\n  'the',\n  'kind',\n  'of',\n  'young',\n  'man',\n  'there',\n  'is',\n  'something',\n  'wanting'],\n ['his',\n  'figure',\n  'is',\n  'not',\n  'striking',\n  'it',\n  'has',\n  'none',\n  'of',\n  'that',\n  'grace',\n  'which',\n  'i',\n  'should'],\n ['expect',\n  'in',\n  'the',\n  'man',\n  'who',\n  'could',\n  'seriously',\n  'attach',\n  'mysister'],\n ['his',\n  'eyes',\n  'want',\n  'all',\n  'that',\n  'spirit',\n  'that',\n  'fire',\n  'which',\n  'at',\n  'once',\n  'announce',\n  'virtue',\n  'and'],\n ['intelligence'],\n ['and',\n  'besides',\n  'all',\n  'this',\n  'i',\n  'am',\n  'afraid',\n  'mamma',\n  'he',\n  'has',\n  'no',\n  'realtaste'],\n ['music',\n  'seems',\n  'scarcely',\n  'to',\n  'attract',\n  'him',\n  'and',\n  'though',\n  'he',\n  'admires',\n  'elinor',\n  's',\n  'drawings',\n  'very'],\n ['much',\n  'it',\n  'is',\n  'not',\n  'the',\n  'admiration',\n  'of',\n  'a',\n  'person',\n  'who',\n  'can',\n  'understand',\n  'theirworth'],\n ['it',\n  'is',\n  'evident',\n  'in',\n  'spite',\n  'of',\n  'his',\n  'frequent',\n  'attention',\n  'to',\n  'her',\n  'while',\n  'she',\n  'draws'],\n ['that', 'in', 'fact', 'he', 'knows', 'nothing', 'of', 'thematter'],\n ['he', 'admires', 'as', 'a', 'lover', 'not', 'as', 'aconnoisseur'],\n ['to', 'satisfy', 'me', 'those', 'characters', 'must', 'beunited'],\n ['i',\n  'could',\n  'not',\n  'be',\n  'happy',\n  'with',\n  'a',\n  'man',\n  'whose',\n  'taste',\n  'did',\n  'not',\n  'in',\n  'every'],\n ['point', 'coincide', 'with', 'myown'],\n ['he',\n  'must',\n  'enter',\n  'into',\n  'all',\n  'my',\n  'feelings',\n  'the',\n  'same',\n  'books',\n  'the',\n  'same',\n  'music',\n  'must'],\n ['charm', 'usboth'],\n ['oh'],\n ['mama',\n  'how',\n  'spiritless',\n  'how',\n  'tame',\n  'was',\n  'edward',\n  's',\n  'manner',\n  'in',\n  'reading',\n  'to',\n  'us',\n  'last'],\n ['night'],\n ['i', 'felt', 'for', 'my', 'sister', 'mostseverely'],\n ['yet',\n  'she',\n  'bore',\n  'it',\n  'with',\n  'so',\n  'much',\n  'composure',\n  'she',\n  'seemed',\n  'scarcely',\n  'to',\n  'noticeit'],\n ['i', 'could', 'hardly', 'keep', 'myseat'],\n ['to',\n  'hear',\n  'those',\n  'beautiful',\n  'lines',\n  'which',\n  'have',\n  'frequently',\n  'almost',\n  'driven',\n  'me',\n  'wild',\n  'pronounced',\n  'with'],\n ['such', 'impenetrable', 'calmness', 'such', 'dreadfulindifference'],\n ['he',\n  'would',\n  'certainly',\n  'have',\n  'done',\n  'more',\n  'justice',\n  'to',\n  'simple',\n  'and',\n  'elegantprose'],\n ['i',\n  'thought',\n  'so',\n  'at',\n  'the',\n  'time',\n  'but',\n  'you',\n  '_would_',\n  'give',\n  'himcowper'],\n ['nay',\n  'mamma',\n  'if',\n  'he',\n  'is',\n  'not',\n  'to',\n  'be',\n  'animated',\n  'by',\n  'cowper',\n  'but',\n  'we',\n  'must'],\n ['allow', 'for', 'difference', 'oftaste'],\n ['elinor',\n  'has',\n  'not',\n  'my',\n  'feelings',\n  'and',\n  'therefore',\n  'she',\n  'may',\n  'overlook',\n  'it',\n  'and',\n  'be',\n  'happy'],\n ['withhim'],\n ['but',\n  'it',\n  'would',\n  'have',\n  'broke',\n  '_my_',\n  'heart',\n  'had',\n  'i',\n  'loved',\n  'him',\n  'to',\n  'hear',\n  'him'],\n ['read', 'with', 'so', 'littlesensibility'],\n ['mama',\n  'the',\n  'more',\n  'i',\n  'know',\n  'of',\n  'the',\n  'world',\n  'the',\n  'more',\n  'am',\n  'i',\n  'convinced',\n  'that'],\n ['i', 'shall', 'never', 'see', 'a', 'man', 'whom', 'i', 'can', 'reallylove'],\n ['i', 'require', 'somuch'],\n ['he',\n  'must',\n  'have',\n  'all',\n  'edward',\n  's',\n  'virtues',\n  'and',\n  'his',\n  'person',\n  'and',\n  'manners',\n  'must',\n  'ornament'],\n ['his', 'goodness', 'with', 'every', 'possiblecharm'],\n ['remember', 'my', 'love', 'that', 'you', 'are', 'notseventeen'],\n ['it',\n  'is',\n  'yet',\n  'too',\n  'early',\n  'in',\n  'life',\n  'to',\n  'despair',\n  'of',\n  'such',\n  'ahappiness'],\n ['why', 'should', 'you', 'be', 'less', 'fortunate', 'than', 'yourmother'],\n ['in',\n  'one',\n  'circumstance',\n  'only',\n  'my',\n  'marianne',\n  'may',\n  'your',\n  'destiny',\n  'be',\n  'different',\n  'from',\n  'hers'],\n ['chapter',\n  'iv',\n  'what',\n  'a',\n  'pity',\n  'it',\n  'is',\n  'elinor',\n  'said',\n  'marianne',\n  'that',\n  'edward',\n  'should',\n  'have'],\n ['no', 'taste', 'fordrawing'],\n ['no', 'taste', 'fordrawing'],\n ['replied', 'elinor', 'why', 'should', 'you', 'thinkso'],\n ['he',\n  'does',\n  'not',\n  'draw',\n  'himself',\n  'indeed',\n  'but',\n  'he',\n  'has',\n  'great',\n  'pleasure',\n  'in',\n  'seeing',\n  'the'],\n ['performances',\n  'of',\n  'other',\n  'people',\n  'and',\n  'i',\n  'assure',\n  'you',\n  'he',\n  'is',\n  'by',\n  'no',\n  'means',\n  'deficient'],\n ['in',\n  'natural',\n  'taste',\n  'though',\n  'he',\n  'has',\n  'not',\n  'had',\n  'opportunities',\n  'of',\n  'improvingit'],\n ['had',\n  'he',\n  'ever',\n  'been',\n  'in',\n  'the',\n  'way',\n  'of',\n  'learning',\n  'i',\n  'think',\n  'he',\n  'would',\n  'have'],\n ['drawn', 'verywell'],\n ['he',\n  'distrusts',\n  'his',\n  'own',\n  'judgment',\n  'in',\n  'such',\n  'matters',\n  'so',\n  'much',\n  'that',\n  'he',\n  'is',\n  'always'],\n ['unwilling',\n  'to',\n  'give',\n  'his',\n  'opinion',\n  'on',\n  'any',\n  'picture',\n  'but',\n  'he',\n  'has',\n  'an',\n  'innate',\n  'propriety'],\n ['and',\n  'simplicity',\n  'of',\n  'taste',\n  'which',\n  'in',\n  'general',\n  'direct',\n  'him',\n  'perfectlyright'],\n ['marianne',\n  'was',\n  'afraid',\n  'of',\n  'offending',\n  'and',\n  'said',\n  'no',\n  'more',\n  'on',\n  'the',\n  'subject',\n  'but',\n  'the'],\n ['kind',\n  'of',\n  'approbation',\n  'which',\n  'elinor',\n  'described',\n  'as',\n  'excited',\n  'in',\n  'him',\n  'by',\n  'the',\n  'drawings',\n  'of'],\n ['other',\n  'people',\n  'was',\n  'very',\n  'far',\n  'from',\n  'that',\n  'rapturous',\n  'delight',\n  'which',\n  'in',\n  'her',\n  'opinion',\n  'could'],\n ['alone', 'be', 'calledtaste'],\n ['yet',\n  'though',\n  'smiling',\n  'within',\n  'herself',\n  'at',\n  'the',\n  'mistake',\n  'she',\n  'honoured',\n  'her',\n  'sister',\n  'for',\n  'that'],\n ['blind', 'partiality', 'to', 'edward', 'which', 'producedit'],\n ['i',\n  'hope',\n  'marianne',\n  'continued',\n  'elinor',\n  'you',\n  'do',\n  'not',\n  'consider',\n  'him',\n  'as',\n  'deficient',\n  'in',\n  'general'],\n ['taste'],\n ['indeed',\n  'i',\n  'think',\n  'i',\n  'may',\n  'say',\n  'that',\n  'you',\n  'cannot',\n  'for',\n  'your',\n  'behaviour',\n  'to',\n  'him'],\n ['is',\n  'perfectly',\n  'cordial',\n  'and',\n  'if',\n  '_that_',\n  'were',\n  'your',\n  'opinion',\n  'i',\n  'am',\n  'sure',\n  'you',\n  'could'],\n ['never', 'be', 'civil', 'tohim'],\n ['marianne', 'hardly', 'knew', 'what', 'tosay'],\n ['she',\n  'would',\n  'not',\n  'wound',\n  'the',\n  'feelings',\n  'of',\n  'her',\n  'sister',\n  'on',\n  'any',\n  'account',\n  'and',\n  'yet'],\n ['to', 'say', 'what', 'she', 'did', 'not', 'believe', 'wasimpossible'],\n ['at',\n  'length',\n  'she',\n  'replied',\n  'do',\n  'not',\n  'be',\n  'offended',\n  'elinor',\n  'if',\n  'my',\n  'praise',\n  'of',\n  'him'],\n ['is',\n  'not',\n  'in',\n  'every',\n  'thing',\n  'equal',\n  'to',\n  'your',\n  'sense',\n  'of',\n  'hismerits'],\n ['i',\n  'have',\n  'not',\n  'had',\n  'so',\n  'many',\n  'opportunities',\n  'of',\n  'estimating',\n  'the',\n  'minuter',\n  'propensities',\n  'of',\n  'his'],\n ['mind',\n  'his',\n  'inclinations',\n  'and',\n  'tastes',\n  'as',\n  'you',\n  'have',\n  'but',\n  'i',\n  'have',\n  'the',\n  'highest',\n  'opinion'],\n ['in', 'the', 'world', 'of', 'his', 'goodness', 'andsense'],\n ['i', 'think', 'him', 'every', 'thing', 'that', 'is', 'worthy', 'andamiable'],\n ['i',\n  'am',\n  'sure',\n  'replied',\n  'elinor',\n  'with',\n  'a',\n  'smile',\n  'that',\n  'his',\n  'dearest',\n  'friends',\n  'could',\n  'not'],\n ['be', 'dissatisfied', 'with', 'such', 'commendation', 'asthat'],\n ['i',\n  'do',\n  'not',\n  'perceive',\n  'how',\n  'you',\n  'could',\n  'express',\n  'yourself',\n  'morewarmly'],\n ['marianne',\n  'was',\n  'rejoiced',\n  'to',\n  'find',\n  'her',\n  'sister',\n  'so',\n  'easilypleased'],\n ['of',\n  'his',\n  'sense',\n  'and',\n  'his',\n  'goodness',\n  'continued',\n  'elinor',\n  'no',\n  'one',\n  'can',\n  'i',\n  'think',\n  'be'],\n ['in',\n  'doubt',\n  'who',\n  'has',\n  'seen',\n  'him',\n  'often',\n  'enough',\n  'to',\n  'engage',\n  'him',\n  'in',\n  'unreservedconversation'],\n ['the',\n  'excellence',\n  'of',\n  'his',\n  'understanding',\n  'and',\n  'his',\n  'principles',\n  'can',\n  'be',\n  'concealed',\n  'only',\n  'by',\n  'that'],\n ['shyness', 'which', 'too', 'often', 'keeps', 'himsilent'],\n ['you',\n  'know',\n  'enough',\n  'of',\n  'him',\n  'to',\n  'do',\n  'justice',\n  'to',\n  'his',\n  'solidworth'],\n ['but',\n  'of',\n  'his',\n  'minuter',\n  'propensities',\n  'as',\n  'you',\n  'call',\n  'them',\n  'you',\n  'have',\n  'from',\n  'peculiar',\n  'circumstances'],\n ['been', 'kept', 'more', 'ignorant', 'thanmyself'],\n ['he',\n  'and',\n  'i',\n  'have',\n  'been',\n  'at',\n  'times',\n  'thrown',\n  'a',\n  'good',\n  'deal',\n  'together',\n  'while',\n  'you'],\n ['have',\n  'been',\n  'wholly',\n  'engrossed',\n  'on',\n  'the',\n  'most',\n  'affectionate',\n  'principle',\n  'by',\n  'mymother'],\n ['i',\n  'have',\n  'seen',\n  'a',\n  'great',\n  'deal',\n  'of',\n  'him',\n  'have',\n  'studied',\n  'his',\n  'sentiments',\n  'and',\n  'heard'],\n ['his',\n  'opinion',\n  'on',\n  'subjects',\n  'of',\n  'literature',\n  'and',\n  'taste',\n  'and',\n  'upon',\n  'the',\n  'whole',\n  'i',\n  'venture'],\n ['to',\n  'pronounce',\n  'that',\n  'his',\n  'mind',\n  'is',\n  'well',\n  'informed',\n  'enjoyment',\n  'of',\n  'books',\n  'exceedingly',\n  'great',\n  'his'],\n ['imagination',\n  'lively',\n  'his',\n  'observation',\n  'just',\n  'and',\n  'correct',\n  'and',\n  'his',\n  'taste',\n  'delicate',\n  'andpure'],\n ['his',\n  'abilities',\n  'in',\n  'every',\n  'respect',\n  'improve',\n  'as',\n  'much',\n  'upon',\n  'acquaintance',\n  'as',\n  'his',\n  'manners',\n  'and'],\n ['person'],\n ['at',\n  'first',\n  'sight',\n  'his',\n  'address',\n  'is',\n  'certainly',\n  'not',\n  'striking',\n  'and',\n  'his',\n  'person',\n  'can',\n  'hardly'],\n ['be',\n  'called',\n  'handsome',\n  'till',\n  'the',\n  'expression',\n  'of',\n  'his',\n  'eyes',\n  'which',\n  'are',\n  'uncommonly',\n  'good',\n  'and'],\n ['the', 'general', 'sweetness', 'of', 'his', 'countenance', 'isperceived'],\n ['at',\n  'present',\n  'i',\n  'know',\n  'him',\n  'so',\n  'well',\n  'that',\n  'i',\n  'think',\n  'him',\n  'really',\n  'handsome',\n  'or'],\n ['at', 'least', 'almostso'],\n ['what', 'say', 'youmarianne'],\n ['i',\n  'shall',\n  'very',\n  'soon',\n  'think',\n  'him',\n  'handsome',\n  'elinor',\n  'if',\n  'i',\n  'do',\n  'notnow'],\n ['when',\n  'you',\n  'tell',\n  'me',\n  'to',\n  'love',\n  'him',\n  'as',\n  'a',\n  'brother',\n  'i',\n  'shall',\n  'no',\n  'more'],\n ['see',\n  'imperfection',\n  'in',\n  'his',\n  'face',\n  'than',\n  'i',\n  'now',\n  'do',\n  'in',\n  'hisheart'],\n ['elinor',\n  'started',\n  'at',\n  'this',\n  'declaration',\n  'and',\n  'was',\n  'sorry',\n  'for',\n  'the',\n  'warmth',\n  'she',\n  'had',\n  'been'],\n ['betrayed', 'into', 'in', 'speaking', 'ofhim'],\n ['she',\n  'felt',\n  'that',\n  'edward',\n  'stood',\n  'very',\n  'high',\n  'in',\n  'heropinion'],\n ['she',\n  'believed',\n  'the',\n  'regard',\n  'to',\n  'be',\n  'mutual',\n  'but',\n  'she',\n  'required',\n  'greater',\n  'certainty',\n  'of',\n  'it'],\n ['to',\n  'make',\n  'marianne',\n  's',\n  'conviction',\n  'of',\n  'their',\n  'attachment',\n  'agreeable',\n  'toher'],\n ['she',\n  'knew',\n  'that',\n  'what',\n  'marianne',\n  'and',\n  'her',\n  'mother',\n  'conjectured',\n  'one',\n  'moment',\n  'they',\n  'believed',\n  'the'],\n ['next',\n  'that',\n  'with',\n  'them',\n  'to',\n  'wish',\n  'was',\n  'to',\n  'hope',\n  'and',\n  'to',\n  'hope',\n  'was',\n  'to'],\n ['expect'],\n ['she',\n  'tried',\n  'to',\n  'explain',\n  'the',\n  'real',\n  'state',\n  'of',\n  'the',\n  'case',\n  'to',\n  'hersister'],\n ['i',\n  'do',\n  'not',\n  'attempt',\n  'to',\n  'deny',\n  'said',\n  'she',\n  'that',\n  'i',\n  'think',\n  'very',\n  'highly',\n  'of'],\n ['him', 'that', 'i', 'greatly', 'esteem', 'that', 'i', 'likehim'],\n ['marianne', 'here', 'burst', 'forth', 'with', 'indignation', 'esteemhim'],\n ['likehim'],\n ['cold', 'heartedelinor'],\n ['oh'],\n ['worse', 'than', 'coldhearted'],\n ['ashamed', 'of', 'beingotherwise'],\n ['use',\n  'those',\n  'words',\n  'again',\n  'and',\n  'i',\n  'will',\n  'leave',\n  'the',\n  'room',\n  'thismoment'],\n ['elinor', 'could', 'not', 'helplaughing'],\n ['excuse',\n  'me',\n  'said',\n  'she',\n  'and',\n  'be',\n  'assured',\n  'that',\n  'i',\n  'meant',\n  'no',\n  'offence',\n  'to',\n  'you'],\n ['by',\n  'speaking',\n  'in',\n  'so',\n  'quiet',\n  'a',\n  'way',\n  'of',\n  'my',\n  'ownfeelings'],\n ['believe',\n  'them',\n  'to',\n  'be',\n  'stronger',\n  'than',\n  'i',\n  'have',\n  'declared',\n  'believe',\n  'them',\n  'in',\n  'short',\n  'to'],\n ['be',\n  'such',\n  'as',\n  'his',\n  'merit',\n  'and',\n  'the',\n  'suspicion',\n  'the',\n  'hope',\n  'of',\n  'his',\n  'affection',\n  'for'],\n ['me', 'may', 'warrant', 'without', 'imprudence', 'orfolly'],\n ['but', 'farther', 'than', 'this', 'you', 'must', 'notbelieve'],\n ['i', 'am', 'by', 'no', 'means', 'assured', 'of', 'his', 'regard', 'forme'],\n ['there',\n  'are',\n  'moments',\n  'when',\n  'the',\n  'extent',\n  'of',\n  'it',\n  'seems',\n  'doubtful',\n  'and',\n  'till',\n  'his',\n  'sentiments'],\n ['are',\n  'fully',\n  'known',\n  'you',\n  'cannot',\n  'wonder',\n  'at',\n  'my',\n  'wishing',\n  'to',\n  'avoid',\n  'any',\n  'encouragement',\n  'of'],\n ['my',\n  'own',\n  'partiality',\n  'by',\n  'believing',\n  'or',\n  'calling',\n  'it',\n  'more',\n  'than',\n  'itis'],\n ['in',\n  'my',\n  'heart',\n  'i',\n  'feel',\n  'little',\n  'scarcely',\n  'any',\n  'doubt',\n  'of',\n  'hispreference'],\n ['but',\n  'there',\n  'are',\n  'other',\n  'points',\n  'to',\n  'be',\n  'considered',\n  'besides',\n  'hisinclination'],\n ['he', 'is', 'very', 'far', 'from', 'beingindependent'],\n ['what',\n  'his',\n  'mother',\n  'really',\n  'is',\n  'we',\n  'cannot',\n  'know',\n  'but',\n  'from',\n  'fanny',\n  's',\n  'occasional',\n  'mention'],\n ['of',\n  'her',\n  'conduct',\n  'and',\n  'opinions',\n  'we',\n  'have',\n  'never',\n  'been',\n  'disposed',\n  'to',\n  'think',\n  'her',\n  'amiable'],\n ['and',\n  'i',\n  'am',\n  'very',\n  'much',\n  'mistaken',\n  'if',\n  'edward',\n  'is',\n  'not',\n  'himself',\n  'aware',\n  'that',\n  'there'],\n ['would',\n  'be',\n  'many',\n  'difficulties',\n  'in',\n  'his',\n  'way',\n  'if',\n  'he',\n  'were',\n  'to',\n  'wish',\n  'to',\n  'marry'],\n ['a',\n  'woman',\n  'who',\n  'had',\n  'not',\n  'either',\n  'a',\n  'great',\n  'fortune',\n  'or',\n  'highrank'],\n ['marianne',\n  'was',\n  'astonished',\n  'to',\n  'find',\n  'how',\n  'much',\n  'the',\n  'imagination',\n  'of',\n  'her',\n  'mother',\n  'and',\n  'herself'],\n ['had', 'outstripped', 'thetruth'],\n ['and', 'you', 'really', 'are', 'not', 'engaged', 'tohim'],\n ['saidshe'],\n ['yet', 'it', 'certainly', 'soon', 'willhappen'],\n ['but', 'two', 'advantages', 'will', 'proceed', 'from', 'thisdelay'],\n ['i',\n  'shall',\n  'not',\n  'lose',\n  'you',\n  'so',\n  'soon',\n  'and',\n  'edward',\n  'will',\n  'have',\n  'greater',\n  'opportunity',\n  'of'],\n ['improving',\n  'that',\n  'natural',\n  'taste',\n  'for',\n  'your',\n  'favourite',\n  'pursuit',\n  'which',\n  'must',\n  'be',\n  'so',\n  'indispensably',\n  'necessary'],\n ['to', 'your', 'futurefelicity'],\n ['oh'],\n ['if',\n  'he',\n  'should',\n  'be',\n  'so',\n  'far',\n  'stimulated',\n  'by',\n  'your',\n  'genius',\n  'as',\n  'to',\n  'learn',\n  'to'],\n ['draw', 'himself', 'how', 'delightful', 'it', 'wouldbe'],\n ['elinor', 'had', 'given', 'her', 'real', 'opinion', 'to', 'hersister'],\n ['she',\n  'could',\n  'not',\n  'consider',\n  'her',\n  'partiality',\n  'for',\n  'edward',\n  'in',\n  'so',\n  'prosperous',\n  'a',\n  'state',\n  'as'],\n ['marianne', 'had', 'believedit'],\n ['there',\n  'was',\n  'at',\n  'times',\n  'a',\n  'want',\n  'of',\n  'spirits',\n  'about',\n  'him',\n  'which',\n  'if',\n  'it',\n  'did'],\n ['not',\n  'denote',\n  'indifference',\n  'spoke',\n  'of',\n  'something',\n  'almost',\n  'asunpromising'],\n ['a',\n  'doubt',\n  'of',\n  'her',\n  'regard',\n  'supposing',\n  'him',\n  'to',\n  'feel',\n  'it',\n  'need',\n  'not',\n  'give',\n  'him'],\n ['more', 'thaninquietude'],\n ['it',\n  'would',\n  'not',\n  'be',\n  'likely',\n  'to',\n  'produce',\n  'that',\n  'dejection',\n  'of',\n  'mind',\n  'which',\n  'frequently',\n  'attended'],\n ['him'],\n ['a',\n  'more',\n  'reasonable',\n  'cause',\n  'might',\n  'be',\n  'found',\n  'in',\n  'the',\n  'dependent',\n  'situation',\n  'which',\n  'forbade',\n  'the'],\n ['indulgence', 'of', 'hisaffection'],\n ['she',\n  'knew',\n  'that',\n  'his',\n  'mother',\n  'neither',\n  'behaved',\n  'to',\n  'him',\n  'so',\n  'as',\n  'to',\n  'make',\n  'his'],\n ['home',\n  'comfortable',\n  'at',\n  'present',\n  'nor',\n  'to',\n  'give',\n  'him',\n  'any',\n  'assurance',\n  'that',\n  'he',\n  'might',\n  'form'],\n ['a',\n  'home',\n  'for',\n  'himself',\n  'without',\n  'strictly',\n  'attending',\n  'to',\n  'her',\n  'views',\n  'for',\n  'hisaggrandizement'],\n ['with',\n  'such',\n  'a',\n  'knowledge',\n  'as',\n  'this',\n  'it',\n  'was',\n  'impossible',\n  'for',\n  'elinor',\n  'to',\n  'feel',\n  'easy'],\n ['on', 'thesubject'],\n ['she',\n  'was',\n  'far',\n  'from',\n  'depending',\n  'on',\n  'that',\n  'result',\n  'of',\n  'his',\n  'preference',\n  'of',\n  'her',\n  'which'],\n ['her', 'mother', 'and', 'sister', 'still', 'considered', 'ascertain'],\n ['nay',\n  'the',\n  'longer',\n  'they',\n  'were',\n  'together',\n  'the',\n  'more',\n  'doubtful',\n  'seemed',\n  'the',\n  'nature',\n  'of',\n  'his'],\n ['regard',\n  'and',\n  'sometimes',\n  'for',\n  'a',\n  'few',\n  'painful',\n  'minutes',\n  'she',\n  'believed',\n  'it',\n  'to',\n  'be',\n  'no'],\n ['more', 'thanfriendship'],\n ['but',\n  'whatever',\n  'might',\n  'really',\n  'be',\n  'its',\n  'limits',\n  'it',\n  'was',\n  'enough',\n  'when',\n  'perceived',\n  'by',\n  'his'],\n ['sister',\n  'to',\n  'make',\n  'her',\n  'uneasy',\n  'and',\n  'at',\n  'the',\n  'same',\n  'time',\n  'which',\n  'was',\n  'still',\n  'more'],\n ['common', 'to', 'make', 'heruncivil'],\n ['she',\n  'took',\n  'the',\n  'first',\n  'opportunity',\n  'of',\n  'affronting',\n  'her',\n  'mother',\n  'in',\n  'law',\n  'on',\n  'the',\n  'occasion'],\n ['talking',\n  'to',\n  'her',\n  'so',\n  'expressively',\n  'of',\n  'her',\n  'brother',\n  's',\n  'great',\n  'expectations',\n  'of',\n  'mrs',\n  'ferrars'],\n ['s',\n  'resolution',\n  'that',\n  'both',\n  'her',\n  'sons',\n  'should',\n  'marry',\n  'well',\n  'and',\n  'of',\n  'the',\n  'danger',\n  'attending'],\n ['any',\n  'young',\n  'woman',\n  'who',\n  'attempted',\n  'to',\n  '_draw',\n  'him',\n  'in_',\n  'that',\n  'mrs',\n  'dashwood',\n  'could',\n  'neither'],\n ['pretend', 'to', 'be', 'unconscious', 'nor', 'endeavor', 'to', 'becalm'],\n ['she',\n  'gave',\n  'her',\n  'an',\n  'answer',\n  'which',\n  'marked',\n  'her',\n  'contempt',\n  'and',\n  'instantly',\n  'left',\n  'the',\n  'room'],\n ['resolving',\n  'that',\n  'whatever',\n  'might',\n  'be',\n  'the',\n  'inconvenience',\n  'or',\n  'expense',\n  'of',\n  'so',\n  'sudden',\n  'a',\n  'removal'],\n ['her',\n  'beloved',\n  'elinor',\n  'should',\n  'not',\n  'be',\n  'exposed',\n  'another',\n  'week',\n  'to',\n  'suchinsinuations'],\n ['in',\n  'this',\n  'state',\n  'of',\n  'her',\n  'spirits',\n  'a',\n  'letter',\n  'was',\n  'delivered',\n  'to',\n  'her',\n  'from',\n  'the'],\n ['post', 'which', 'contained', 'a', 'proposal', 'particularly', 'welltimed'],\n ['it',\n  'was',\n  'the',\n  'offer',\n  'of',\n  'a',\n  'small',\n  'house',\n  'on',\n  'very',\n  'easy',\n  'terms',\n  'belonging',\n  'to'],\n ['a',\n  'relation',\n  'of',\n  'her',\n  'own',\n  'a',\n  'gentleman',\n  'of',\n  'consequence',\n  'and',\n  'property',\n  'indevonshire'],\n ['the',\n  'letter',\n  'was',\n  'from',\n  'this',\n  'gentleman',\n  'himself',\n  'and',\n  'written',\n  'in',\n  'the',\n  'true',\n  'spirit',\n  'of'],\n ['friendlyaccommodation'],\n ['he',\n  'understood',\n  'that',\n  'she',\n  'was',\n  'in',\n  'need',\n  'of',\n  'a',\n  'dwelling',\n  'and',\n  'though',\n  'the',\n  'house'],\n ['he',\n  'now',\n  'offered',\n  'her',\n  'was',\n  'merely',\n  'a',\n  'cottage',\n  'he',\n  'assured',\n  'her',\n  'that',\n  'everything',\n  'should'],\n ['be',\n  'done',\n  'to',\n  'it',\n  'which',\n  'she',\n  'might',\n  'think',\n  'necessary',\n  'if',\n  'the',\n  'situation',\n  'pleasedher'],\n ['he',\n  'earnestly',\n  'pressed',\n  'her',\n  'after',\n  'giving',\n  'the',\n  'particulars',\n  'of',\n  'the',\n  'house',\n  'and',\n  'garden',\n  'to'],\n ['come',\n  'with',\n  'her',\n  'daughters',\n  'to',\n  'barton',\n  'park',\n  'the',\n  'place',\n  'of',\n  'his',\n  'own',\n  'residence',\n  'from'],\n ['whence',\n  'she',\n  'might',\n  'judge',\n  'herself',\n  'whether',\n  'barton',\n  'cottage',\n  'for',\n  'the',\n  'houses',\n  'were',\n  'in',\n  'the'],\n ['same',\n  'parish',\n  'could',\n  'by',\n  'any',\n  'alteration',\n  'be',\n  'made',\n  'comfortable',\n  'toher'],\n ['he',\n  'seemed',\n  'really',\n  'anxious',\n  'to',\n  'accommodate',\n  'them',\n  'and',\n  'the',\n  'whole',\n  'of',\n  'his',\n  'letter',\n  'was'],\n ['written',\n  'in',\n  'so',\n  'friendly',\n  'a',\n  'style',\n  'as',\n  'could',\n  'not',\n  'fail',\n  'of',\n  'giving',\n  'pleasure',\n  'to'],\n ['his',\n  'cousin',\n  'more',\n  'especially',\n  'at',\n  'a',\n  'moment',\n  'when',\n  'she',\n  'was',\n  'suffering',\n  'under',\n  'the',\n  'cold'],\n ['and', 'unfeeling', 'behaviour', 'of', 'her', 'nearerconnections'],\n ['she', 'needed', 'no', 'time', 'for', 'deliberation', 'orinquiry'],\n ['her', 'resolution', 'was', 'formed', 'as', 'sheread'],\n ['the',\n  'situation',\n  'of',\n  'barton',\n  'in',\n  'a',\n  'county',\n  'so',\n  'far',\n  'distant',\n  'from',\n  'sussex',\n  'as',\n  'devonshire'],\n ['which',\n  'but',\n  'a',\n  'few',\n  'hours',\n  'before',\n  'would',\n  'have',\n  'been',\n  'a',\n  'sufficient',\n  'objection',\n  'to',\n  'outweigh'],\n ['every',\n  'possible',\n  'advantage',\n  'belonging',\n  'to',\n  'the',\n  'place',\n  'was',\n  'now',\n  'its',\n  'firstrecommendation'],\n ['to',\n  'quit',\n  'the',\n  'neighbourhood',\n  'of',\n  'norland',\n  'was',\n  'no',\n  'longer',\n  'an',\n  'evil',\n  'it',\n  'was',\n  'an'],\n ['object',\n  'of',\n  'desire',\n  'it',\n  'was',\n  'a',\n  'blessing',\n  'in',\n  'comparison',\n  'of',\n  'the',\n  'misery',\n  'of',\n  'continuing'],\n ['her',\n  'daughter',\n  'in',\n  'law',\n  's',\n  'guest',\n  'and',\n  'to',\n  'remove',\n  'for',\n  'ever',\n  'from',\n  'that',\n  'beloved'],\n ['place',\n  'would',\n  'be',\n  'less',\n  'painful',\n  'than',\n  'to',\n  'inhabit',\n  'or',\n  'visit',\n  'it',\n  'while',\n  'such',\n  'a'],\n ['woman', 'was', 'itsmistress'],\n ['she',\n  'instantly',\n  'wrote',\n  'sir',\n  'john',\n  'middleton',\n  'her',\n  'acknowledgment',\n  'of',\n  'his',\n  'kindness',\n  'and',\n  'her',\n  'acceptance'],\n ['of',\n  'his',\n  'proposal',\n  'and',\n  'then',\n  'hastened',\n  'to',\n  'show',\n  'both',\n  'letters',\n  'to',\n  'her',\n  'daughters',\n  'that'],\n ['she',\n  'might',\n  'be',\n  'secure',\n  'of',\n  'their',\n  'approbation',\n  'before',\n  'her',\n  'answer',\n  'weresent'],\n ['elinor',\n  'had',\n  'always',\n  'thought',\n  'it',\n  'would',\n  'be',\n  'more',\n  'prudent',\n  'for',\n  'them',\n  'to',\n  'settle',\n  'at'],\n ['some',\n  'distance',\n  'from',\n  'norland',\n  'than',\n  'immediately',\n  'amongst',\n  'their',\n  'presentacquaintance'],\n ['on',\n  '_that_',\n  'head',\n  'therefore',\n  'it',\n  'was',\n  'not',\n  'for',\n  'her',\n  'to',\n  'oppose',\n  'her',\n  'mother',\n  's'],\n ['intention', 'of', 'removing', 'intodevonshire'],\n ['the',\n  'house',\n  'too',\n  'as',\n  'described',\n  'by',\n  'sir',\n  'john',\n  'was',\n  'on',\n  'so',\n  'simple',\n  'a',\n  'scale'],\n ['and',\n  'the',\n  'rent',\n  'so',\n  'uncommonly',\n  'moderate',\n  'as',\n  'to',\n  'leave',\n  'her',\n  'no',\n  'right',\n  'of',\n  'objection'],\n ['on',\n  'either',\n  'point',\n  'and',\n  'therefore',\n  'though',\n  'it',\n  'was',\n  'not',\n  'a',\n  'plan',\n  'which',\n  'brought',\n  'any'],\n ['charm',\n  'to',\n  'her',\n  'fancy',\n  'though',\n  'it',\n  'was',\n  'a',\n  'removal',\n  'from',\n  'the',\n  'vicinity',\n  'of',\n  'norland'],\n ['beyond',\n  'her',\n  'wishes',\n  'she',\n  'made',\n  'no',\n  'attempt',\n  'to',\n  'dissuade',\n  'her',\n  'mother',\n  'from',\n  'sending',\n  'a'],\n ['letter', 'ofacquiescence'],\n ['chapter',\n  'v',\n  'no',\n  'sooner',\n  'was',\n  'her',\n  'answer',\n  'dispatched',\n  'than',\n  'mrs',\n  'dashwood',\n  'indulged',\n  'herself',\n  'in'],\n ['the',\n  'pleasure',\n  'of',\n  'announcing',\n  'to',\n  'her',\n  'son',\n  'in',\n  'law',\n  'and',\n  'his',\n  'wife',\n  'that',\n  'she'],\n ['was',\n  'provided',\n  'with',\n  'a',\n  'house',\n  'and',\n  'should',\n  'incommode',\n  'them',\n  'no',\n  'longer',\n  'than',\n  'till',\n  'every'],\n ['thing', 'were', 'ready', 'for', 'her', 'inhabitingit'],\n ['they', 'heard', 'her', 'withsurprise'],\n ['mrs',\n  'john',\n  'dashwood',\n  'said',\n  'nothing',\n  'but',\n  'her',\n  'husband',\n  'civilly',\n  'hoped',\n  'that',\n  'she',\n  'would',\n  'not'],\n ['be', 'settled', 'far', 'fromnorland'],\n ['she',\n  'had',\n  'great',\n  'satisfaction',\n  'in',\n  'replying',\n  'that',\n  'she',\n  'was',\n  'going',\n  'intodevonshire'],\n ['edward',\n  'turned',\n  'hastily',\n  'towards',\n  'her',\n  'on',\n  'hearing',\n  'this',\n  'and',\n  'in',\n  'a',\n  'voice',\n  'of',\n  'surprise'],\n ['and',\n  'concern',\n  'which',\n  'required',\n  'no',\n  'explanation',\n  'to',\n  'her',\n  'repeateddevonshire'],\n ['are', 'you', 'indeed', 'goingthere'],\n ['so', 'far', 'fromhence'],\n ['and', 'to', 'what', 'part', 'ofit'],\n ['she', 'explained', 'thesituation'],\n ['it', 'was', 'within', 'four', 'miles', 'northward', 'ofexeter'],\n ['it',\n  'is',\n  'but',\n  'a',\n  'cottage',\n  'she',\n  'continued',\n  'but',\n  'i',\n  'hope',\n  'to',\n  'see',\n  'many',\n  'of'],\n ['my', 'friends', 'init'],\n ['a',\n  'room',\n  'or',\n  'two',\n  'can',\n  'easily',\n  'be',\n  'added',\n  'and',\n  'if',\n  'my',\n  'friends',\n  'find',\n  'no'],\n ['difficulty',\n  'in',\n  'travelling',\n  'so',\n  'far',\n  'to',\n  'see',\n  'me',\n  'i',\n  'am',\n  'sure',\n  'i',\n  'will',\n  'find'],\n ['none', 'in', 'accommodatingthem'],\n ['she',\n  'concluded',\n  'with',\n  'a',\n  'very',\n  'kind',\n  'invitation',\n  'to',\n  'mr',\n  'and',\n  'mrs',\n  'john',\n  'dashwood',\n  'to'],\n ['visit',\n  'her',\n  'at',\n  'barton',\n  'and',\n  'to',\n  'edward',\n  'she',\n  'gave',\n  'one',\n  'with',\n  'still',\n  'greateraffection'],\n ['though',\n  'her',\n  'late',\n  'conversation',\n  'with',\n  'her',\n  'daughter',\n  'in',\n  'law',\n  'had',\n  'made',\n  'her',\n  'resolve',\n  'on'],\n ['remaining',\n  'at',\n  'norland',\n  'no',\n  'longer',\n  'than',\n  'was',\n  'unavoidable',\n  'it',\n  'had',\n  'not',\n  'produced',\n  'the',\n  'smallest'],\n ['effect',\n  'on',\n  'her',\n  'in',\n  'that',\n  'point',\n  'to',\n  'which',\n  'it',\n  'principallytended'],\n ['to',\n  'separate',\n  'edward',\n  'and',\n  'elinor',\n  'was',\n  'as',\n  'far',\n  'from',\n  'being',\n  'her',\n  'object',\n  'as',\n  'ever'],\n ['and',\n  'she',\n  'wished',\n  'to',\n  'show',\n  'mrs',\n  'john',\n  'dashwood',\n  'by',\n  'this',\n  'pointed',\n  'invitation',\n  'to',\n  'her'],\n ['brother',\n  'how',\n  'totally',\n  'she',\n  'disregarded',\n  'her',\n  'disapprobation',\n  'of',\n  'thematch'],\n ['mr',\n  'john',\n  'dashwood',\n  'told',\n  'his',\n  'mother',\n  'again',\n  'and',\n  'again',\n  'how',\n  'exceedingly',\n  'sorry',\n  'he',\n  'was'],\n ['that',\n  'she',\n  'had',\n  'taken',\n  'a',\n  'house',\n  'at',\n  'such',\n  'a',\n  'distance',\n  'from',\n  'norland',\n  'as',\n  'to'],\n ['prevent',\n  'his',\n  'being',\n  'of',\n  'any',\n  'service',\n  'to',\n  'her',\n  'in',\n  'removing',\n  'herfurniture'],\n ['he',\n  'really',\n  'felt',\n  'conscientiously',\n  'vexed',\n  'on',\n  'the',\n  'occasion',\n  'for',\n  'the',\n  'very',\n  'exertion',\n  'to',\n  'which'],\n ['he',\n  'had',\n  'limited',\n  'the',\n  'performance',\n  'of',\n  'his',\n  'promise',\n  'to',\n  'his',\n  'father',\n  'was',\n  'by',\n  'this'],\n ['arrangement', 'renderedimpracticable'],\n ['the', 'furniture', 'was', 'all', 'sent', 'around', 'bywater'],\n ['it',\n  'chiefly',\n  'consisted',\n  'of',\n  'household',\n  'linen',\n  'plate',\n  'china',\n  'and',\n  'books',\n  'with',\n  'a',\n  'handsome',\n  'pianoforte'],\n ['of', 'mariannes'],\n ['mrs',\n  'john',\n  'dashwood',\n  'saw',\n  'the',\n  'packages',\n  'depart',\n  'with',\n  'a',\n  'sigh',\n  'she',\n  'could',\n  'not',\n  'help'],\n ['feeling',\n  'it',\n  'hard',\n  'that',\n  'as',\n  'mrs',\n  'dashwood',\n  's',\n  'income',\n  'would',\n  'be',\n  'so',\n  'trifling',\n  'in'],\n ['comparison',\n  'with',\n  'their',\n  'own',\n  'she',\n  'should',\n  'have',\n  'any',\n  'handsome',\n  'article',\n  'offurniture'],\n ['mrs',\n  'dashwood',\n  'took',\n  'the',\n  'house',\n  'for',\n  'a',\n  'twelvemonth',\n  'it',\n  'was',\n  'ready',\n  'furnished',\n  'and',\n  'she'],\n ['might', 'have', 'immediatepossession'],\n ['no',\n  'difficulty',\n  'arose',\n  'on',\n  'either',\n  'side',\n  'in',\n  'the',\n  'agreement',\n  'and',\n  'she',\n  'waited',\n  'only',\n  'for'],\n ['the',\n  'disposal',\n  'of',\n  'her',\n  'effects',\n  'at',\n  'norland',\n  'and',\n  'to',\n  'determine',\n  'her',\n  'future',\n  'household',\n  'before'],\n ['she',\n  'set',\n  'off',\n  'for',\n  'the',\n  'west',\n  'and',\n  'this',\n  'as',\n  'she',\n  'was',\n  'exceedingly',\n  'rapid',\n  'in'],\n ['the',\n  'performance',\n  'of',\n  'everything',\n  'that',\n  'interested',\n  'her',\n  'was',\n  'soondone'],\n ['the',\n  'horses',\n  'which',\n  'were',\n  'left',\n  'her',\n  'by',\n  'her',\n  'husband',\n  'had',\n  'been',\n  'sold',\n  'soon',\n  'after'],\n ['his',\n  'death',\n  'and',\n  'an',\n  'opportunity',\n  'now',\n  'offering',\n  'of',\n  'disposing',\n  'of',\n  'her',\n  'carriage',\n  'she',\n  'agreed'],\n ['to',\n  'sell',\n  'that',\n  'likewise',\n  'at',\n  'the',\n  'earnest',\n  'advice',\n  'of',\n  'her',\n  'eldestdaughter'],\n ['for',\n  'the',\n  'comfort',\n  'of',\n  'her',\n  'children',\n  'had',\n  'she',\n  'consulted',\n  'only',\n  'her',\n  'own',\n  'wishes',\n  'she'],\n ['would',\n  'have',\n  'kept',\n  'it',\n  'but',\n  'the',\n  'discretion',\n  'of',\n  'elinorprevailed'],\n ['_her_',\n  'wisdom',\n  'too',\n  'limited',\n  'the',\n  'number',\n  'of',\n  'their',\n  'servants',\n  'to',\n  'three',\n  'two',\n  'maids',\n  'and'],\n ['a',\n  'man',\n  'with',\n  'whom',\n  'they',\n  'were',\n  'speedily',\n  'provided',\n  'from',\n  'amongst',\n  'those',\n  'who',\n  'had',\n  'formed'],\n ['their', 'establishment', 'atnorland'],\n ['the',\n  'man',\n  'and',\n  'one',\n  'of',\n  'the',\n  'maids',\n  'were',\n  'sent',\n  'off',\n  'immediately',\n  'into',\n  'devonshire',\n  'to'],\n ['prepare',\n  'the',\n  'house',\n  'for',\n  'their',\n  'mistress',\n  's',\n  'arrival',\n  'for',\n  'as',\n  'lady',\n  'middleton',\n  'was',\n  'entirely'],\n ['unknown',\n  'to',\n  'mrs',\n  'dashwood',\n  'she',\n  'preferred',\n  'going',\n  'directly',\n  'to',\n  'the',\n  'cottage',\n  'to',\n  'being',\n  'a'],\n ['visitor',\n  'at',\n  'barton',\n  'park',\n  'and',\n  'she',\n  'relied',\n  'so',\n  'undoubtingly',\n  'on',\n  'sir',\n  'john',\n  's',\n  'description'],\n ['of',\n  'the',\n  'house',\n  'as',\n  'to',\n  'feel',\n  'no',\n  'curiosity',\n  'to',\n  'examine',\n  'it',\n  'herself',\n  'till',\n  'she'],\n ['entered', 'it', 'as', 'herown'],\n ['her',\n  'eagerness',\n  'to',\n  'be',\n  'gone',\n  'from',\n  'norland',\n  'was',\n  'preserved',\n  'from',\n  'diminution',\n  'by',\n  'the',\n  'evident'],\n ['satisfaction',\n  'of',\n  'her',\n  'daughter',\n  'in',\n  'law',\n  'in',\n  'the',\n  'prospect',\n  'of',\n  'her',\n  'removal',\n  'a',\n  'satisfaction'],\n ['which',\n  'was',\n  'but',\n  'feebly',\n  'attempted',\n  'to',\n  'be',\n  'concealed',\n  'under',\n  'a',\n  'cold',\n  'invitation',\n  'to',\n  'her'],\n ['to', 'defer', 'herdeparture'],\n ['now',\n  'was',\n  'the',\n  'time',\n  'when',\n  'her',\n  'son',\n  'in',\n  'law',\n  's',\n  'promise',\n  'to',\n  'his',\n  'father'],\n ['might', 'with', 'particular', 'propriety', 'befulfilled'],\n ['since',\n  'he',\n  'had',\n  'neglected',\n  'to',\n  'do',\n  'it',\n  'on',\n  'first',\n  'coming',\n  'to',\n  'the',\n  'estate',\n  'their'],\n ['quitting',\n  'his',\n  'house',\n  'might',\n  'be',\n  'looked',\n  'on',\n  'as',\n  'the',\n  'most',\n  'suitable',\n  'period',\n  'for',\n  'its'],\n ['accomplishment'],\n ['but',\n  'mrs',\n  'dashwood',\n  'began',\n  'shortly',\n  'to',\n  'give',\n  'over',\n  'every',\n  'hope',\n  'of',\n  'the',\n  'kind',\n  'and'],\n ['to',\n  'be',\n  'convinced',\n  'from',\n  'the',\n  'general',\n  'drift',\n  'of',\n  'his',\n  'discourse',\n  'that',\n  'his',\n  'assistance',\n  'extended'],\n ['no',\n  'farther',\n  'than',\n  'their',\n  'maintenance',\n  'for',\n  'six',\n  'months',\n  'atnorland'],\n ['he',\n  'so',\n  'frequently',\n  'talked',\n  'of',\n  'the',\n  'increasing',\n  'expenses',\n  'of',\n  'housekeeping',\n  'and',\n  'of',\n  'the',\n  'perpetual'],\n ['demands',\n  'upon',\n  'his',\n  'purse',\n  'which',\n  'a',\n  'man',\n  'of',\n  'any',\n  'consequence',\n  'in',\n  'the',\n  'world',\n  'was'],\n ['beyond',\n  'calculation',\n  'exposed',\n  'to',\n  'that',\n  'he',\n  'seemed',\n  'rather',\n  'to',\n  'stand',\n  'in',\n  'need',\n  'of',\n  'more'],\n ['money',\n  'himself',\n  'than',\n  'to',\n  'have',\n  'any',\n  'design',\n  'of',\n  'giving',\n  'moneyaway'],\n ['in',\n  'a',\n  'very',\n  'few',\n  'weeks',\n  'from',\n  'the',\n  'day',\n  'which',\n  'brought',\n  'sir',\n  'john',\n  'middleton',\n  's'],\n ['first',\n  'letter',\n  'to',\n  'norland',\n  'every',\n  'thing',\n  'was',\n  'so',\n  'far',\n  'settled',\n  'in',\n  'their',\n  'future',\n  'abode'],\n ['as',\n  'to',\n  'enable',\n  'mrs',\n  'dashwood',\n  'and',\n  'her',\n  'daughters',\n  'to',\n  'begin',\n  'theirjourney'],\n ['many',\n  'were',\n  'the',\n  'tears',\n  'shed',\n  'by',\n  'them',\n  'in',\n  'their',\n  'last',\n  'adieus',\n  'to',\n  'a',\n  'place'],\n ['so', 'muchbeloved'],\n ['dear', 'dearnorland'],\n ['said',\n  'marianne',\n  'as',\n  'she',\n  'wandered',\n  'alone',\n  'before',\n  'the',\n  'house',\n  'on',\n  'the',\n  'last',\n  'evening',\n  'of'],\n ['their',\n  'being',\n  'there',\n  'when',\n  'shall',\n  'i',\n  'cease',\n  'to',\n  'regret',\n  'you',\n  'when',\n  'learn',\n  'to',\n  'feel'],\n ['a', 'homeelsewhere'],\n ['oh'],\n ['happy',\n  'house',\n  'could',\n  'you',\n  'know',\n  'what',\n  'i',\n  'suffer',\n  'in',\n  'now',\n  'viewing',\n  'you',\n  'from',\n  'this'],\n ['spot', 'from', 'whence', 'perhaps', 'i', 'may', 'view', 'you', 'nomore'],\n ['and',\n  'you',\n  'ye',\n  'well',\n  'known',\n  'trees',\n  'but',\n  'you',\n  'will',\n  'continue',\n  'thesame'],\n ['no',\n  'leaf',\n  'will',\n  'decay',\n  'because',\n  'we',\n  'are',\n  'removed',\n  'nor',\n  'any',\n  'branch',\n  'become',\n  'motionless',\n  'although'],\n ['we', 'can', 'observe', 'you', 'nolonger'],\n ['no',\n  'you',\n  'will',\n  'continue',\n  'the',\n  'same',\n  'unconscious',\n  'of',\n  'the',\n  'pleasure',\n  'or',\n  'the',\n  'regret',\n  'you'],\n ['occasion',\n  'and',\n  'insensible',\n  'of',\n  'any',\n  'change',\n  'in',\n  'those',\n  'who',\n  'walk',\n  'under',\n  'yourshade'],\n ['but', 'who', 'will', 'remain', 'to', 'enjoyyou'],\n ['chapter',\n  'vi',\n  'the',\n  'first',\n  'part',\n  'of',\n  'their',\n  'journey',\n  'was',\n  'performed',\n  'in',\n  'too',\n  'melancholy',\n  'a'],\n ['disposition', 'to', 'be', 'otherwise', 'than', 'tedious', 'andunpleasant'],\n ['but',\n  'as',\n  'they',\n  'drew',\n  'towards',\n  'the',\n  'end',\n  'of',\n  'it',\n  'their',\n  'interest',\n  'in',\n  'the',\n  'appearance'],\n ['of',\n  'a',\n  'country',\n  'which',\n  'they',\n  'were',\n  'to',\n  'inhabit',\n  'overcame',\n  'their',\n  'dejection',\n  'and',\n  'a',\n  'view'],\n ['of',\n  'barton',\n  'valley',\n  'as',\n  'they',\n  'entered',\n  'it',\n  'gave',\n  'themcheerfulness'],\n ['it',\n  'was',\n  'a',\n  'pleasant',\n  'fertile',\n  'spot',\n  'well',\n  'wooded',\n  'and',\n  'rich',\n  'inpasture'],\n ['after',\n  'winding',\n  'along',\n  'it',\n  'for',\n  'more',\n  'than',\n  'a',\n  'mile',\n  'they',\n  'reached',\n  'their',\n  'ownhouse'],\n ['a',\n  'small',\n  'green',\n  'court',\n  'was',\n  'the',\n  'whole',\n  'of',\n  'its',\n  'demesne',\n  'in',\n  'front',\n  'and',\n  'a'],\n ['neat', 'wicket', 'gate', 'admitted', 'them', 'intoit'],\n ['as',\n  'a',\n  'house',\n  'barton',\n  'cottage',\n  'though',\n  'small',\n  'was',\n  'comfortable',\n  'and',\n  'compact',\n  'but',\n  'as',\n  'a'],\n ['cottage',\n  'it',\n  'was',\n  'defective',\n  'for',\n  'the',\n  'building',\n  'was',\n  'regular',\n  'the',\n  'roof',\n  'was',\n  'tiled',\n  'the'],\n ['window',\n  'shutters',\n  'were',\n  'not',\n  'painted',\n  'green',\n  'nor',\n  'were',\n  'the',\n  'walls',\n  'covered',\n  'withhoneysuckles'],\n ['a',\n  'narrow',\n  'passage',\n  'led',\n  'directly',\n  'through',\n  'the',\n  'house',\n  'into',\n  'the',\n  'gardenbehind'],\n ['on',\n  'each',\n  'side',\n  'of',\n  'the',\n  'entrance',\n  'was',\n  'a',\n  'sitting',\n  'room',\n  'about',\n  'sixteen',\n  'feet',\n  'square'],\n ['and', 'beyond', 'them', 'were', 'the', 'offices', 'and', 'thestairs'],\n ['four',\n  'bedrooms',\n  'and',\n  'two',\n  'garrets',\n  'formed',\n  'the',\n  'rest',\n  'of',\n  'thehouse'],\n ['it',\n  'had',\n  'not',\n  'been',\n  'built',\n  'many',\n  'years',\n  'and',\n  'was',\n  'in',\n  'goodrepair'],\n ['in',\n  'comparison',\n  'of',\n  'norland',\n  'it',\n  'was',\n  'poor',\n  'and',\n  'small',\n  'indeed',\n  'but',\n  'the',\n  'tears',\n  'which'],\n ['recollection',\n  'called',\n  'forth',\n  'as',\n  'they',\n  'entered',\n  'the',\n  'house',\n  'were',\n  'soon',\n  'driedaway'],\n ['they',\n  'were',\n  'cheered',\n  'by',\n  'the',\n  'joy',\n  'of',\n  'the',\n  'servants',\n  'on',\n  'their',\n  'arrival',\n  'and',\n  'each'],\n ['for',\n  'the',\n  'sake',\n  'of',\n  'the',\n  'others',\n  'resolved',\n  'to',\n  'appearhappy'],\n ['it',\n  'was',\n  'very',\n  'early',\n  'in',\n  'september',\n  'the',\n  'season',\n  'was',\n  'fine',\n  'and',\n  'from',\n  'first',\n  'seeing'],\n ['the',\n  'place',\n  'under',\n  'the',\n  'advantage',\n  'of',\n  'good',\n  'weather',\n  'they',\n  'received',\n  'an',\n  'impression',\n  'in',\n  'its'],\n ['favour',\n  'which',\n  'was',\n  'of',\n  'material',\n  'service',\n  'in',\n  'recommending',\n  'it',\n  'to',\n  'their',\n  'lastingapprobation'],\n ['the', 'situation', 'of', 'the', 'house', 'wasgood'],\n ['high',\n  'hills',\n  'rose',\n  'immediately',\n  'behind',\n  'and',\n  'at',\n  'no',\n  'great',\n  'distance',\n  'on',\n  'each',\n  'side',\n  'some'],\n ['of',\n  'which',\n  'were',\n  'open',\n  'downs',\n  'the',\n  'others',\n  'cultivated',\n  'andwoody'],\n ['the',\n  'village',\n  'of',\n  'barton',\n  'was',\n  'chiefly',\n  'on',\n  'one',\n  'of',\n  'these',\n  'hills',\n  'and',\n  'formed',\n  'a'],\n ['pleasant', 'view', 'from', 'the', 'cottagewindows'],\n ['the',\n  'prospect',\n  'in',\n  'front',\n  'was',\n  'more',\n  'extensive',\n  'it',\n  'commanded',\n  'the',\n  'whole',\n  'of',\n  'the',\n  'valley'],\n ['and', 'reached', 'into', 'the', 'countrybeyond'],\n ['the',\n  'hills',\n  'which',\n  'surrounded',\n  'the',\n  'cottage',\n  'terminated',\n  'the',\n  'valley',\n  'in',\n  'that',\n  'direction',\n  'under',\n  'another'],\n ['name',\n  'and',\n  'in',\n  'another',\n  'course',\n  'it',\n  'branched',\n  'out',\n  'again',\n  'between',\n  'two',\n  'of',\n  'the',\n  'steepest'],\n ['ofthem'],\n ['with',\n  'the',\n  'size',\n  'and',\n  'furniture',\n  'of',\n  'the',\n  'house',\n  'mrs',\n  'dashwood',\n  'was',\n  'upon',\n  'the',\n  'whole'],\n ['well',\n  'satisfied',\n  'for',\n  'though',\n  'her',\n  'former',\n  'style',\n  'of',\n  'life',\n  'rendered',\n  'many',\n  'additions',\n  'to',\n  'the'],\n ['latter',\n  'indispensable',\n  'yet',\n  'to',\n  'add',\n  'and',\n  'improve',\n  'was',\n  'a',\n  'delight',\n  'to',\n  'her',\n  'and',\n  'she'],\n ['had',\n  'at',\n  'this',\n  'time',\n  'ready',\n  'money',\n  'enough',\n  'to',\n  'supply',\n  'all',\n  'that',\n  'was',\n  'wanted',\n  'of'],\n ['greater', 'elegance', 'to', 'theapartments'],\n ['as',\n  'for',\n  'the',\n  'house',\n  'itself',\n  'to',\n  'be',\n  'sure',\n  'said',\n  'she',\n  'it',\n  'is',\n  'too',\n  'small'],\n ['for',\n  'our',\n  'family',\n  'but',\n  'we',\n  'will',\n  'make',\n  'ourselves',\n  'tolerably',\n  'comfortable',\n  'for',\n  'the',\n  'present',\n  'as'],\n ['it', 'is', 'too', 'late', 'in', 'the', 'year', 'forimprovements'],\n ['perhaps',\n  'in',\n  'the',\n  'spring',\n  'if',\n  'i',\n  'have',\n  'plenty',\n  'of',\n  'money',\n  'as',\n  'i',\n  'dare',\n  'say'],\n ['i', 'shall', 'we', 'may', 'think', 'aboutbuilding'],\n ['these',\n  'parlors',\n  'are',\n  'both',\n  'too',\n  'small',\n  'for',\n  'such',\n  'parties',\n  'of',\n  'our',\n  'friends',\n  'as',\n  'i'],\n ['hope',\n  'to',\n  'see',\n  'often',\n  'collected',\n  'here',\n  'and',\n  'i',\n  'have',\n  'some',\n  'thoughts',\n  'of',\n  'throwing',\n  'the'],\n ['passage',\n  'into',\n  'one',\n  'of',\n  'them',\n  'with',\n  'perhaps',\n  'a',\n  'part',\n  'of',\n  'the',\n  'other',\n  'and',\n  'so'],\n ['leave',\n  'the',\n  'remainder',\n  'of',\n  'that',\n  'other',\n  'for',\n  'an',\n  'entrance',\n  'this',\n  'with',\n  'a',\n  'new',\n  'drawing'],\n ['room',\n  'which',\n  'may',\n  'be',\n  'easily',\n  'added',\n  'and',\n  'a',\n  'bed',\n  'chamber',\n  'and',\n  'garret',\n  'above',\n  'will'],\n ['make', 'it', 'a', 'very', 'snug', 'littlecottage'],\n ['i', 'could', 'wish', 'the', 'stairs', 'werehandsome'],\n ['but',\n  'one',\n  'must',\n  'not',\n  'expect',\n  'every',\n  'thing',\n  'though',\n  'i',\n  'suppose',\n  'it',\n  'would',\n  'be',\n  'no'],\n ['difficult', 'matter', 'to', 'widenthem'],\n ['i',\n  'shall',\n  'see',\n  'how',\n  'much',\n  'i',\n  'am',\n  'before',\n  'hand',\n  'with',\n  'the',\n  'world',\n  'in',\n  'the'],\n ['spring', 'and', 'we', 'will', 'plan', 'our', 'improvementsaccordingly'],\n ['in',\n  'the',\n  'mean',\n  'time',\n  'till',\n  'all',\n  'these',\n  'alterations',\n  'could',\n  'be',\n  'made',\n  'from',\n  'the',\n  'savings'],\n ['of',\n  'an',\n  'income',\n  'of',\n  'five',\n  'hundred',\n  'a',\n  'year',\n  'by',\n  'a',\n  'woman',\n  'who',\n  'never',\n  'saved'],\n ['in',\n  'her',\n  'life',\n  'they',\n  'were',\n  'wise',\n  'enough',\n  'to',\n  'be',\n  'contented',\n  'with',\n  'the',\n  'house',\n  'as'],\n ['it',\n  'was',\n  'and',\n  'each',\n  'of',\n  'them',\n  'was',\n  'busy',\n  'in',\n  'arranging',\n  'their',\n  'particular',\n  'concerns',\n  'and'],\n ['endeavoring',\n  'by',\n  'placing',\n  'around',\n  'them',\n  'books',\n  'and',\n  'other',\n  'possessions',\n  'to',\n  'form',\n  'themselves',\n  'ahome'],\n ['marianne',\n  's',\n  'pianoforte',\n  'was',\n  'unpacked',\n  'and',\n  'properly',\n  'disposed',\n  'of',\n  'and',\n  'elinor',\n  's',\n  'drawings',\n  'were'],\n ['affixed', 'to', 'the', 'walls', 'of', 'their', 'sittingroom'],\n ['in',\n  'such',\n  'employments',\n  'as',\n  'these',\n  'they',\n  'were',\n  'interrupted',\n  'soon',\n  'after',\n  'breakfast',\n  'the',\n  'next',\n  'day'],\n ['by',\n  'the',\n  'entrance',\n  'of',\n  'their',\n  'landlord',\n  'who',\n  'called',\n  'to',\n  'welcome',\n  'them',\n  'to',\n  'barton',\n  'and'],\n ['to',\n  'offer',\n  'them',\n  'every',\n  'accommodation',\n  'from',\n  'his',\n  'own',\n  'house',\n  'and',\n  'garden',\n  'in',\n  'which',\n  'theirs'],\n ['might', 'at', 'present', 'bedeficient'],\n ['sir',\n  'john',\n  'middleton',\n  'was',\n  'a',\n  'good',\n  'looking',\n  'man',\n  'aboutforty'],\n ['he',\n  'had',\n  'formerly',\n  'visited',\n  'at',\n  'stanhill',\n  'but',\n  'it',\n  'was',\n  'too',\n  'long',\n  'for',\n  'his',\n  'young'],\n ['cousins', 'to', 'rememberhim'],\n ['his',\n  'countenance',\n  'was',\n  'thoroughly',\n  'good',\n  'humoured',\n  'and',\n  'his',\n  'manners',\n  'were',\n  'as',\n  'friendly',\n  'as',\n  'the'],\n ['style', 'of', 'hisletter'],\n ['their',\n  'arrival',\n  'seemed',\n  'to',\n  'afford',\n  'him',\n  'real',\n  'satisfaction',\n  'and',\n  'their',\n  'comfort',\n  'to',\n  'be',\n  'an'],\n ['object', 'of', 'real', 'solicitude', 'tohim'],\n ['he',\n  'said',\n  'much',\n  'of',\n  'his',\n  'earnest',\n  'desire',\n  'of',\n  'their',\n  'living',\n  'in',\n  'the',\n  'most',\n  'sociable'],\n ['terms',\n  'with',\n  'his',\n  'family',\n  'and',\n  'pressed',\n  'them',\n  'so',\n  'cordially',\n  'to',\n  'dine',\n  'at',\n  'barton',\n  'park'],\n ['every',\n  'day',\n  'till',\n  'they',\n  'were',\n  'better',\n  'settled',\n  'at',\n  'home',\n  'that',\n  'though',\n  'his',\n  'entreaties',\n  'were'],\n ['carried',\n  'to',\n  'a',\n  'point',\n  'of',\n  'perseverance',\n  'beyond',\n  'civility',\n  'they',\n  'could',\n  'not',\n  'giveoffence'],\n ['his',\n  'kindness',\n  'was',\n  'not',\n  'confined',\n  'to',\n  'words',\n  'for',\n  'within',\n  'an',\n  'hour',\n  'after',\n  'he',\n  'left'],\n ['them',\n  'a',\n  'large',\n  'basket',\n  'full',\n  'of',\n  'garden',\n  'stuff',\n  'and',\n  'fruit',\n  'arrived',\n  'from',\n  'the',\n  'park'],\n ['which',\n  'was',\n  'followed',\n  'before',\n  'the',\n  'end',\n  'of',\n  'the',\n  'day',\n  'by',\n  'a',\n  'present',\n  'ofgame'],\n ['he',\n  'insisted',\n  'moreover',\n  'on',\n  'conveying',\n  'all',\n  'their',\n  'letters',\n  'to',\n  'and',\n  'from',\n  'the',\n  'post',\n  'for'],\n ['them',\n  'and',\n  'would',\n  'not',\n  'be',\n  'denied',\n  'the',\n  'satisfaction',\n  'of',\n  'sending',\n  'them',\n  'his',\n  'newspaper',\n  'every'],\n ['day'],\n ['lady',\n  'middleton',\n  'had',\n  'sent',\n  'a',\n  'very',\n  'civil',\n  'message',\n  'by',\n  'him',\n  'denoting',\n  'her',\n  'intention',\n  'of'],\n ['waiting',\n  'on',\n  'mrs',\n  'dashwood',\n  'as',\n  'soon',\n  'as',\n  'she',\n  'could',\n  'be',\n  'assured',\n  'that',\n  'her',\n  'visit'],\n ['would',\n  'be',\n  'no',\n  'inconvenience',\n  'and',\n  'as',\n  'this',\n  'message',\n  'was',\n  'answered',\n  'by',\n  'an',\n  'invitation',\n  'equally'],\n ['polite',\n  'her',\n  'ladyship',\n  'was',\n  'introduced',\n  'to',\n  'them',\n  'the',\n  'nextday'],\n ['illustration',\n  '_so',\n  'shy',\n  'before',\n  'company',\n  '_',\n  'they',\n  'were',\n  'of',\n  'course',\n  'very',\n  'anxious',\n  'to',\n  'see'],\n ['a',\n  'person',\n  'on',\n  'whom',\n  'so',\n  'much',\n  'of',\n  'their',\n  'comfort',\n  'at',\n  'barton',\n  'must',\n  'depend',\n  'and'],\n ['the',\n  'elegance',\n  'of',\n  'her',\n  'appearance',\n  'was',\n  'favourable',\n  'to',\n  'theirwishes'],\n ['lady',\n  'middleton',\n  'was',\n  'not',\n  'more',\n  'than',\n  'six',\n  'or',\n  'seven',\n  'and',\n  'twenty',\n  'her',\n  'face',\n  'was'],\n ['handsome',\n  'her',\n  'figure',\n  'tall',\n  'and',\n  'striking',\n  'and',\n  'her',\n  'addressgraceful'],\n ['her',\n  'manners',\n  'had',\n  'all',\n  'the',\n  'elegance',\n  'which',\n  'her',\n  'husband',\n  'swanted'],\n ['but',\n  'they',\n  'would',\n  'have',\n  'been',\n  'improved',\n  'by',\n  'some',\n  'share',\n  'of',\n  'his',\n  'frankness',\n  'and',\n  'warmth'],\n ['and',\n  'her',\n  'visit',\n  'was',\n  'long',\n  'enough',\n  'to',\n  'detract',\n  'something',\n  'from',\n  'their',\n  'first',\n  'admiration',\n  'by'],\n ['showing',\n  'that',\n  'though',\n  'perfectly',\n  'well',\n  'bred',\n  'she',\n  'was',\n  'reserved',\n  'cold',\n  'and',\n  'had',\n  'nothing',\n  'to'],\n ['say',\n  'for',\n  'herself',\n  'beyond',\n  'the',\n  'most',\n  'common',\n  'place',\n  'inquiry',\n  'orremark'],\n ['conversation',\n  'however',\n  'was',\n  'not',\n  'wanted',\n  'for',\n  'sir',\n  'john',\n  'was',\n  'very',\n  'chatty',\n  'and',\n  'lady',\n  'middleton'],\n ['had',\n  'taken',\n  'the',\n  'wise',\n  'precaution',\n  'of',\n  'bringing',\n  'with',\n  'her',\n  'their',\n  'eldest',\n  'child',\n  'a',\n  'fine'],\n ['little',\n  'boy',\n  'about',\n  'six',\n  'years',\n  'old',\n  'by',\n  'which',\n  'means',\n  'there',\n  'was',\n  'one',\n  'subject',\n  'always'],\n ['to',\n  'be',\n  'recurred',\n  'to',\n  'by',\n  'the',\n  'ladies',\n  'in',\n  'case',\n  'of',\n  'extremity',\n  'for',\n  'they',\n  'had'],\n ['to',\n  'enquire',\n  'his',\n  'name',\n  'and',\n  'age',\n  'admire',\n  'his',\n  'beauty',\n  'and',\n  'ask',\n  'him',\n  'questions',\n  'which'],\n ['his',\n  'mother',\n  'answered',\n  'for',\n  'him',\n  'while',\n  'he',\n  'hung',\n  'about',\n  'her',\n  'and',\n  'held',\n  'down',\n  'his'],\n ['head',\n  'to',\n  'the',\n  'great',\n  'surprise',\n  'of',\n  'her',\n  'ladyship',\n  'who',\n  'wondered',\n  'at',\n  'his',\n  'being',\n  'so'],\n ['shy',\n  'before',\n  'company',\n  'as',\n  'he',\n  'could',\n  'make',\n  'noise',\n  'enough',\n  'athome'],\n ['on',\n  'every',\n  'formal',\n  'visit',\n  'a',\n  'child',\n  'ought',\n  'to',\n  'be',\n  'of',\n  'the',\n  'party',\n  'by',\n  'way'],\n ['of', 'provision', 'fordiscourse'],\n ['in',\n  'the',\n  'present',\n  'case',\n  'it',\n  'took',\n  'up',\n  'ten',\n  'minutes',\n  'to',\n  'determine',\n  'whether',\n  'the',\n  'boy'],\n ['were',\n  'most',\n  'like',\n  'his',\n  'father',\n  'or',\n  'mother',\n  'and',\n  'in',\n  'what',\n  'particular',\n  'he',\n  'resembled',\n  'either'],\n ['for',\n  'of',\n  'course',\n  'every',\n  'body',\n  'differed',\n  'and',\n  'every',\n  'body',\n  'was',\n  'astonished',\n  'at',\n  'the',\n  'opinion'],\n ['of', 'theothers'],\n ['an',\n  'opportunity',\n  'was',\n  'soon',\n  'to',\n  'be',\n  'given',\n  'to',\n  'the',\n  'dashwoods',\n  'of',\n  'debating',\n  'on',\n  'the'],\n ['rest',\n  'of',\n  'the',\n  'children',\n  'as',\n  'sir',\n  'john',\n  'would',\n  'not',\n  'leave',\n  'the',\n  'house',\n  'without',\n  'securing'],\n ['their', 'promise', 'of', 'dining', 'at', 'the', 'park', 'the', 'nextday'],\n ['chapter',\n  'vii',\n  'barton',\n  'park',\n  'was',\n  'about',\n  'half',\n  'a',\n  'mile',\n  'from',\n  'thecottage'],\n ['the',\n  'ladies',\n  'had',\n  'passed',\n  'near',\n  'it',\n  'in',\n  'their',\n  'way',\n  'along',\n  'the',\n  'valley',\n  'but',\n  'it'],\n ['was',\n  'screened',\n  'from',\n  'their',\n  'view',\n  'at',\n  'home',\n  'by',\n  'the',\n  'projection',\n  'of',\n  'ahill'],\n ['the',\n  'house',\n  'was',\n  'large',\n  'and',\n  'handsome',\n  'and',\n  'the',\n  'middletons',\n  'lived',\n  'in',\n  'a',\n  'style',\n  'of'],\n ['equal', 'hospitality', 'andelegance'],\n ['the',\n  'former',\n  'was',\n  'for',\n  'sir',\n  'john',\n  's',\n  'gratification',\n  'the',\n  'latter',\n  'for',\n  'that',\n  'of',\n  'his'],\n ['lady'],\n ['they',\n  'were',\n  'scarcely',\n  'ever',\n  'without',\n  'some',\n  'friends',\n  'staying',\n  'with',\n  'them',\n  'in',\n  'the',\n  'house',\n  'and'],\n ['they',\n  'kept',\n  'more',\n  'company',\n  'of',\n  'every',\n  'kind',\n  'than',\n  'any',\n  'other',\n  'family',\n  'in',\n  'theneighbourhood'],\n ['it',\n  'was',\n  'necessary',\n  'to',\n  'the',\n  'happiness',\n  'of',\n  'both',\n  'for',\n  'however',\n  'dissimilar',\n  'in',\n  'temper',\n  'and'],\n ['outward',\n  'behaviour',\n  'they',\n  'strongly',\n  'resembled',\n  'each',\n  'other',\n  'in',\n  'that',\n  'total',\n  'want',\n  'of',\n  'talent',\n  'and'],\n ['taste',\n  'which',\n  'confined',\n  'their',\n  'employments',\n  'unconnected',\n  'with',\n  'such',\n  'as',\n  'society',\n  'produced',\n  'within',\n  'a',\n  'very'],\n ['narrowcompass'],\n ['sir', 'john', 'was', 'a', 'sportsman', 'lady', 'middleton', 'amother'],\n ['he',\n  'hunted',\n  'and',\n  'shot',\n  'and',\n  'she',\n  'humoured',\n  'her',\n  'children',\n  'and',\n  'these',\n  'were',\n  'their',\n  'only'],\n ['resources'],\n ['lady',\n  'middleton',\n  'had',\n  'the',\n  'advantage',\n  'of',\n  'being',\n  'able',\n  'to',\n  'spoil',\n  'her',\n  'children',\n  'all',\n  'the'],\n ['year',\n  'round',\n  'while',\n  'sir',\n  'john',\n  's',\n  'independent',\n  'employments',\n  'were',\n  'in',\n  'existence',\n  'only',\n  'half',\n  'the'],\n ['time'],\n ['continual',\n  'engagements',\n  'at',\n  'home',\n  'and',\n  'abroad',\n  'however',\n  'supplied',\n  'all',\n  'the',\n  'deficiencies',\n  'of',\n  'nature',\n  'and'],\n ['education',\n  'supported',\n  'the',\n  'good',\n  'spirits',\n  'of',\n  'sir',\n  'john',\n  'and',\n  'gave',\n  'exercise',\n  'to',\n  'the',\n  'good'],\n ['breeding', 'of', 'hiswife'],\n ['lady',\n  'middleton',\n  'piqued',\n  'herself',\n  'upon',\n  'the',\n  'elegance',\n  'of',\n  'her',\n  'table',\n  'and',\n  'of',\n  'all',\n  'her'],\n ['domestic',\n  'arrangements',\n  'and',\n  'from',\n  'this',\n  'kind',\n  'of',\n  'vanity',\n  'was',\n  'her',\n  'greatest',\n  'enjoyment',\n  'in',\n  'any'],\n ['of', 'theirparties'],\n ['but',\n  'sir',\n  'john',\n  's',\n  'satisfaction',\n  'in',\n  'society',\n  'was',\n  'much',\n  'more',\n  'real',\n  'he',\n  'delighted',\n  'in'],\n ['collecting',\n  'about',\n  'him',\n  'more',\n  'young',\n  'people',\n  'than',\n  'his',\n  'house',\n  'would',\n  'hold',\n  'and',\n  'the',\n  'noisier'],\n ['they', 'were', 'the', 'better', 'was', 'hepleased'],\n ['he',\n  'was',\n  'a',\n  'blessing',\n  'to',\n  'all',\n  'the',\n  'juvenile',\n  'part',\n  'of',\n  'the',\n  'neighbourhood',\n  'for',\n  'in'],\n ['summer',\n  'he',\n  'was',\n  'for',\n  'ever',\n  'forming',\n  'parties',\n  'to',\n  'eat',\n  'cold',\n  'ham',\n  'and',\n  'chicken',\n  'out'],\n ['of',\n  'doors',\n  'and',\n  'in',\n  'winter',\n  'his',\n  'private',\n  'balls',\n  'were',\n  'numerous',\n  'enough',\n  'for',\n  'any',\n  'young'],\n ['lady',\n  'who',\n  'was',\n  'not',\n  'suffering',\n  'under',\n  'the',\n  'insatiable',\n  'appetite',\n  'offifteen'],\n ['the',\n  'arrival',\n  'of',\n  'a',\n  'new',\n  'family',\n  'in',\n  'the',\n  'country',\n  'was',\n  'always',\n  'a',\n  'matter',\n  'of'],\n ['joy',\n  'to',\n  'him',\n  'and',\n  'in',\n  'every',\n  'point',\n  'of',\n  'view',\n  'he',\n  'was',\n  'charmed',\n  'with',\n  'the'],\n ['inhabitants',\n  'he',\n  'had',\n  'now',\n  'procured',\n  'for',\n  'his',\n  'cottage',\n  'atbarton'],\n ['the', 'miss', 'dashwoods', 'were', 'young', 'pretty', 'andunaffected'],\n ['it',\n  'was',\n  'enough',\n  'to',\n  'secure',\n  'his',\n  'good',\n  'opinion',\n  'for',\n  'to',\n  'be',\n  'unaffected',\n  'was',\n  'all'],\n ['that',\n  'a',\n  'pretty',\n  'girl',\n  'could',\n  'want',\n  'to',\n  'make',\n  'her',\n  'mind',\n  'as',\n  'captivating',\n  'as',\n  'her'],\n ['person'],\n ['the',\n  'friendliness',\n  'of',\n  'his',\n  'disposition',\n  'made',\n  'him',\n  'happy',\n  'in',\n  'accommodating',\n  'those',\n  'whose',\n  'situation',\n  'might'],\n ['be',\n  'considered',\n  'in',\n  'comparison',\n  'with',\n  'the',\n  'past',\n  'asunfortunate'],\n ['in',\n  'showing',\n  'kindness',\n  'to',\n  'his',\n  'cousins',\n  'therefore',\n  'he',\n  'had',\n  'the',\n  'real',\n  'satisfaction',\n  'of',\n  'a'],\n ['good',\n  'heart',\n  'and',\n  'in',\n  'settling',\n  'a',\n  'family',\n  'of',\n  'females',\n  'only',\n  'in',\n  'his',\n  'cottage',\n  'he'],\n ['had',\n  'all',\n  'the',\n  'satisfaction',\n  'of',\n  'a',\n  'sportsman',\n  'for',\n  'a',\n  'sportsman',\n  'though',\n  'he',\n  'esteems',\n  'only'],\n ['those',\n  'of',\n  'his',\n  'sex',\n  'who',\n  'are',\n  'sportsmen',\n  'likewise',\n  'is',\n  'not',\n  'often',\n  'desirous',\n  'of',\n  'encouraging'],\n ['their',\n  'taste',\n  'by',\n  'admitting',\n  'them',\n  'to',\n  'a',\n  'residence',\n  'within',\n  'his',\n  'ownmanor'],\n ['mrs',\n  'dashwood',\n  'and',\n  'her',\n  'daughters',\n  'were',\n  'met',\n  'at',\n  'the',\n  'door',\n  'of',\n  'the',\n  'house',\n  'by'],\n ['sir',\n  'john',\n  'who',\n  'welcomed',\n  'them',\n  'to',\n  'barton',\n  'park',\n  'with',\n  'unaffected',\n  'sincerity',\n  'and',\n  'as',\n  'he'],\n ['attended',\n  'them',\n  'to',\n  'the',\n  'drawing',\n  'room',\n  'repeated',\n  'to',\n  'the',\n  'young',\n  'ladies',\n  'the',\n  'concern',\n  'which'],\n ['the',\n  'same',\n  'subject',\n  'had',\n  'drawn',\n  'from',\n  'him',\n  'the',\n  'day',\n  'before',\n  'at',\n  'being',\n  'unable',\n  'to'],\n ['get', 'any', 'smart', 'young', 'men', 'to', 'meetthem'],\n ['they',\n  'would',\n  'see',\n  'he',\n  'said',\n  'only',\n  'one',\n  'gentleman',\n  'there',\n  'besides',\n  'himself',\n  'a',\n  'particular',\n  'friend'],\n ['who',\n  'was',\n  'staying',\n  'at',\n  'the',\n  'park',\n  'but',\n  'who',\n  'was',\n  'neither',\n  'very',\n  'young',\n  'nor',\n  'very'],\n ['gay'],\n ['he',\n  'hoped',\n  'they',\n  'would',\n  'all',\n  'excuse',\n  'the',\n  'smallness',\n  'of',\n  'the',\n  'party',\n  'and',\n  'could',\n  'assure'],\n ['them', 'it', 'should', 'never', 'happen', 'soagain'],\n ['he',\n  'had',\n  'been',\n  'to',\n  'several',\n  'families',\n  'that',\n  'morning',\n  'in',\n  'hopes',\n  'of',\n  'procuring',\n  'some',\n  'addition'],\n ['to',\n  'their',\n  'number',\n  'but',\n  'it',\n  'was',\n  'moonlight',\n  'and',\n  'every',\n  'body',\n  'was',\n  'full',\n  'ofengagements'],\n ['luckily',\n  'lady',\n  'middleton',\n  's',\n  'mother',\n  'had',\n  'arrived',\n  'at',\n  'barton',\n  'within',\n  'the',\n  'last',\n  'hour',\n  'and'],\n ['as',\n  'she',\n  'was',\n  'a',\n  'very',\n  'cheerful',\n  'agreeable',\n  'woman',\n  'he',\n  'hoped',\n  'the',\n  'young',\n  'ladies',\n  'would'],\n ['not', 'find', 'it', 'so', 'very', 'dull', 'as', 'they', 'mightimagine'],\n ['the',\n  'young',\n  'ladies',\n  'as',\n  'well',\n  'as',\n  'their',\n  'mother',\n  'were',\n  'perfectly',\n  'satisfied',\n  'with',\n  'having',\n  'two'],\n ['entire',\n  'strangers',\n  'of',\n  'the',\n  'party',\n  'and',\n  'wished',\n  'for',\n  'nomore'],\n ['mrs',\n  'jennings',\n  'lady',\n  'middleton',\n  's',\n  'mother',\n  'was',\n  'a',\n  'good',\n  'humoured',\n  'merry',\n  'fat',\n  'elderly',\n  'woman'],\n ['who',\n  'talked',\n  'a',\n  'great',\n  'deal',\n  'seemed',\n  'very',\n  'happy',\n  'and',\n  'rathervulgar'],\n ['she',\n  'was',\n  'full',\n  'of',\n  'jokes',\n  'and',\n  'laughter',\n  'and',\n  'before',\n  'dinner',\n  'was',\n  'over',\n  'had',\n  'said'],\n ['many',\n  'witty',\n  'things',\n  'on',\n  'the',\n  'subject',\n  'of',\n  'lovers',\n  'and',\n  'husbands',\n  'hoped',\n  'they',\n  'had',\n  'not'],\n ['left',\n  'their',\n  'hearts',\n  'behind',\n  'them',\n  'in',\n  'sussex',\n  'and',\n  'pretended',\n  'to',\n  'see',\n  'them',\n  'blush',\n  'whether'],\n ['they', 'did', 'ornot'],\n ['marianne',\n  'was',\n  'vexed',\n  'at',\n  'it',\n  'for',\n  'her',\n  'sister',\n  's',\n  'sake',\n  'and',\n  'turned',\n  'her',\n  'eyes'],\n ['towards',\n  'elinor',\n  'to',\n  'see',\n  'how',\n  'she',\n  'bore',\n  'these',\n  'attacks',\n  'with',\n  'an',\n  'earnestness',\n  'which',\n  'gave'],\n ['elinor',\n  'far',\n  'more',\n  'pain',\n  'than',\n  'could',\n  'arise',\n  'from',\n  'such',\n  'common',\n  'place',\n  'raillery',\n  'as',\n  'mrs'],\n ['jenningss'],\n ['colonel',\n  'brandon',\n  'the',\n  'friend',\n  'of',\n  'sir',\n  'john',\n  'seemed',\n  'no',\n  'more',\n  'adapted',\n  'by',\n  'resemblance',\n  'of'],\n ['manner',\n  'to',\n  'be',\n  'his',\n  'friend',\n  'than',\n  'lady',\n  'middleton',\n  'was',\n  'to',\n  'be',\n  'his',\n  'wife',\n  'or'],\n ['mrs', 'jennings', 'to', 'be', 'lady', 'middleton', 'smother'],\n ['he', 'was', 'silent', 'andgrave'],\n ['his',\n  'appearance',\n  'however',\n  'was',\n  'not',\n  'unpleasing',\n  'in',\n  'spite',\n  'of',\n  'his',\n  'being',\n  'in',\n  'the',\n  'opinion'],\n ['of',\n  'marianne',\n  'and',\n  'margaret',\n  'an',\n  'absolute',\n  'old',\n  'bachelor',\n  'for',\n  'he',\n  'was',\n  'on',\n  'the',\n  'wrong'],\n ['side',\n  'of',\n  'five',\n  'and',\n  'thirty',\n  'but',\n  'though',\n  'his',\n  'face',\n  'was',\n  'not',\n  'handsome',\n  'his',\n  'countenance'],\n ['was',\n  'sensible',\n  'and',\n  'his',\n  'address',\n  'was',\n  'particularlygentlemanlike'],\n ['there',\n  'was',\n  'nothing',\n  'in',\n  'any',\n  'of',\n  'the',\n  'party',\n  'which',\n  'could',\n  'recommend',\n  'them',\n  'as',\n  'companions'],\n ['to',\n  'the',\n  'dashwoods',\n  'but',\n  'the',\n  'cold',\n  'insipidity',\n  'of',\n  'lady',\n  'middleton',\n  'was',\n  'so',\n  'particularly',\n  'repulsive'],\n ['that',\n  'in',\n  'comparison',\n  'of',\n  'it',\n  'the',\n  'gravity',\n  'of',\n  'colonel',\n  'brandon',\n  'and',\n  'even',\n  'the',\n  'boisterous'],\n ['mirth',\n  'of',\n  'sir',\n  'john',\n  'and',\n  'his',\n  'mother',\n  'in',\n  'law',\n  'wasinteresting'],\n ['lady',\n  'middleton',\n  'seemed',\n  'to',\n  'be',\n  'roused',\n  'to',\n  'enjoyment',\n  'only',\n  'by',\n  'the',\n  'entrance',\n  'of',\n  'her'],\n ['four',\n  'noisy',\n  'children',\n  'after',\n  'dinner',\n  'who',\n  'pulled',\n  'her',\n  'about',\n  'tore',\n  'her',\n  'clothes',\n  'and',\n  'put'],\n ['an',\n  'end',\n  'to',\n  'every',\n  'kind',\n  'of',\n  'discourse',\n  'except',\n  'what',\n  'related',\n  'tothemselves'],\n ['in',\n  'the',\n  'evening',\n  'as',\n  'marianne',\n  'was',\n  'discovered',\n  'to',\n  'be',\n  'musical',\n  'she',\n  'was',\n  'invited',\n  'to'],\n ['play'],\n ['the',\n  'instrument',\n  'was',\n  'unlocked',\n  'every',\n  'body',\n  'prepared',\n  'to',\n  'be',\n  'charmed',\n  'and',\n  'marianne',\n  'who',\n  'sang'],\n ['very',\n  'well',\n  'at',\n  'their',\n  'request',\n  'went',\n  'through',\n  'the',\n  'chief',\n  'of',\n  'the',\n  'songs',\n  'which',\n  'lady'],\n ['middleton',\n  'had',\n  'brought',\n  'into',\n  'the',\n  'family',\n  'on',\n  'her',\n  'marriage',\n  'and',\n  'which',\n  'perhaps',\n  'had',\n  'lain'],\n ['ever',\n  'since',\n  'in',\n  'the',\n  'same',\n  'position',\n  'on',\n  'the',\n  'pianoforte',\n  'for',\n  'her',\n  'ladyship',\n  'had',\n  'celebrated'],\n ['that',\n  'event',\n  'by',\n  'giving',\n  'up',\n  'music',\n  'although',\n  'by',\n  'her',\n  'mother',\n  's',\n  'account',\n  'she',\n  'had'],\n ['played',\n  'extremely',\n  'well',\n  'and',\n  'by',\n  'her',\n  'own',\n  'was',\n  'very',\n  'fond',\n  'ofit'],\n ['marianne', 's', 'performance', 'was', 'highlyapplauded'],\n ['sir',\n  'john',\n  'was',\n  'loud',\n  'in',\n  'his',\n  'admiration',\n  'at',\n  'the',\n  'end',\n  'of',\n  'every',\n  'song',\n  'and'],\n ['as',\n  'loud',\n  'in',\n  'his',\n  'conversation',\n  'with',\n  'the',\n  'others',\n  'while',\n  'every',\n  'songlasted'],\n ['lady',\n  'middleton',\n  'frequently',\n  'called',\n  'him',\n  'to',\n  'order',\n  'wondered',\n  'how',\n  'any',\n  'one',\n  's',\n  'attention',\n  'could'],\n ['be',\n  'diverted',\n  'from',\n  'music',\n  'for',\n  'a',\n  'moment',\n  'and',\n  'asked',\n  'marianne',\n  'to',\n  'sing',\n  'a',\n  'particular'],\n ['song', 'which', 'marianne', 'had', 'justfinished'],\n ['colonel',\n  'brandon',\n  'alone',\n  'of',\n  'all',\n  'the',\n  'party',\n  'heard',\n  'her',\n  'without',\n  'being',\n  'inraptures'],\n ['he',\n  'paid',\n  'her',\n  'only',\n  'the',\n  'compliment',\n  'of',\n  'attention',\n  'and',\n  'she',\n  'felt',\n  'a',\n  'respect',\n  'for'],\n ['him',\n  'on',\n  'the',\n  'occasion',\n  'which',\n  'the',\n  'others',\n  'had',\n  'reasonably',\n  'forfeited',\n  'by',\n  'their',\n  'shameless',\n  'want'],\n ['oftaste'],\n ['his',\n  'pleasure',\n  'in',\n  'music',\n  'though',\n  'it',\n  'amounted',\n  'not',\n  'to',\n  'that',\n  'ecstatic',\n  'delight',\n  'which',\n  'alone'],\n ['could',\n  'sympathize',\n  'with',\n  'her',\n  'own',\n  'was',\n  'estimable',\n  'when',\n  'contrasted',\n  'against',\n  'the',\n  'horrible',\n  'insensibility',\n  'of'],\n ['the',\n  'others',\n  'and',\n  'she',\n  'was',\n  'reasonable',\n  'enough',\n  'to',\n  'allow',\n  'that',\n  'a',\n  'man',\n  'of',\n  'five'],\n ['and',\n  'thirty',\n  'might',\n  'well',\n  'have',\n  'outlived',\n  'all',\n  'acuteness',\n  'of',\n  'feeling',\n  'and',\n  'every',\n  'exquisite',\n  'power'],\n ['ofenjoyment'],\n ['she',\n  'was',\n  'perfectly',\n  'disposed',\n  'to',\n  'make',\n  'every',\n  'allowance',\n  'for',\n  'the',\n  'colonel',\n  's',\n  'advanced',\n  'state'],\n ['of', 'life', 'which', 'humanityrequired'],\n ['chapter',\n  'viii',\n  'mrs',\n  'jennings',\n  'was',\n  'a',\n  'widow',\n  'with',\n  'an',\n  'amplejointure'],\n ['she',\n  'had',\n  'only',\n  'two',\n  'daughters',\n  'both',\n  'of',\n  'whom',\n  'she',\n  'had',\n  'lived',\n  'to',\n  'see',\n  'respectably'],\n ['married',\n  'and',\n  'she',\n  'had',\n  'now',\n  'therefore',\n  'nothing',\n  'to',\n  'do',\n  'but',\n  'to',\n  'marry',\n  'all',\n  'the'],\n ['rest', 'of', 'theworld'],\n ['in',\n  'the',\n  'promotion',\n  'of',\n  'this',\n  'object',\n  'she',\n  'was',\n  'zealously',\n  'active',\n  'as',\n  'far',\n  'as',\n  'her'],\n ['ability',\n  'reached',\n  'and',\n  'missed',\n  'no',\n  'opportunity',\n  'of',\n  'projecting',\n  'weddings',\n  'among',\n  'all',\n  'the',\n  'young',\n  'people'],\n ['of', 'heracquaintance'],\n ['she',\n  'was',\n  'remarkably',\n  'quick',\n  'in',\n  'the',\n  'discovery',\n  'of',\n  'attachments',\n  'and',\n  'had',\n  'enjoyed',\n  'the',\n  'advantage'],\n ['of',\n  'raising',\n  'the',\n  'blushes',\n  'and',\n  'the',\n  'vanity',\n  'of',\n  'many',\n  'a',\n  'young',\n  'lady',\n  'by',\n  'insinuations'],\n ['of',\n  'her',\n  'power',\n  'over',\n  'such',\n  'a',\n  'young',\n  'man',\n  'and',\n  'this',\n  'kind',\n  'of',\n  'discernment',\n  'enabled'],\n ['her',\n  'soon',\n  'after',\n  'her',\n  'arrival',\n  'at',\n  'barton',\n  'decisively',\n  'to',\n  'pronounce',\n  'that',\n  'colonel',\n  'brandon',\n  'was'],\n ['very', 'much', 'in', 'love', 'with', 'mariannedashwood'],\n ['she',\n  'rather',\n  'suspected',\n  'it',\n  'to',\n  'be',\n  'so',\n  'on',\n  'the',\n  'very',\n  'first',\n  'evening',\n  'of',\n  'their'],\n ['being',\n  'together',\n  'from',\n  'his',\n  'listening',\n  'so',\n  'attentively',\n  'while',\n  'she',\n  'sang',\n  'to',\n  'them',\n  'and',\n  'when'],\n ['the',\n  'visit',\n  'was',\n  'returned',\n  'by',\n  'the',\n  'middletons',\n  'dining',\n  'at',\n  'the',\n  'cottage',\n  'the',\n  'fact',\n  'was'],\n ['ascertained', 'by', 'his', 'listening', 'to', 'heragain'],\n ['it', 'must', 'beso'],\n ['she', 'was', 'perfectly', 'convinced', 'ofit'],\n ['it',\n  'would',\n  'be',\n  'an',\n  'excellent',\n  'match',\n  'for',\n  '_he_',\n  'was',\n  'rich',\n  'and',\n  '_she_',\n  'washandsome'],\n ['mrs',\n  'jennings',\n  'had',\n  'been',\n  'anxious',\n  'to',\n  'see',\n  'colonel',\n  'brandon',\n  'well',\n  'married',\n  'ever',\n  'since',\n  'her'],\n ['connection',\n  'with',\n  'sir',\n  'john',\n  'first',\n  'brought',\n  'him',\n  'to',\n  'her',\n  'knowledge',\n  'and',\n  'she',\n  'was',\n  'always'],\n ...]"
     },
     "execution_count": 3,
     "metadata": {},
     "output_type": "execute_result"
    }
   ],
   "source": [
    "# importing the texts\n",
    "def fill_book_list(file_name):\n",
    "    \"\"\"This function reads in the book\"\"\"\n",
    "    book = []\n",
    "    with open(file_name, 'r') as read_obj:\n",
    "        csv_reader = reader(read_obj)\n",
    "        for row in csv_reader:\n",
    "            book.append(row)\n",
    "    return book\n",
    "\n",
    "book1 = fill_book_list('input_SenseAndSensibility_14.csv')\n",
    "book2 = fill_book_list('input_TaleOfTwoCities_14.csv')\n",
    "book3 = fill_book_list('input_OriginOfSpecies_14.csv')"
   ],
   "metadata": {
    "collapsed": false,
    "pycharm": {
     "name": "#%%\n"
    }
   }
  },
  {
   "cell_type": "markdown",
   "source": [
    "Creating a function for using the transaction encoder to transform the books into an 1-hot boolean encoded numpy array\n",
    "and convert into a dataframe for the convenience of passing into apriori."
   ],
   "metadata": {
    "collapsed": false,
    "pycharm": {
     "name": "#%% md\n"
    }
   }
  },
  {
   "cell_type": "code",
   "execution_count": 4,
   "outputs": [],
   "source": [
    "def transact_1_hot(book):\n",
    "    \"\"\"Creating transact 1 hot boolean encoded numpy array \"\"\"\n",
    "    te = TransactionEncoder()\n",
    "    te_ary = te.fit(book).transform(book)\n",
    "    df = pd.DataFrame(te_ary, columns= te.columns_)\n",
    "    return df\n",
    "\n",
    "book1_df = transact_1_hot(book1)\n",
    "book2_df = transact_1_hot(book2)\n",
    "book3_df = transact_1_hot(book3)"
   ],
   "metadata": {
    "collapsed": false,
    "pycharm": {
     "name": "#%%\n"
    }
   }
  },
  {
   "cell_type": "markdown",
   "source": [
    "Displaying the head of all three books"
   ],
   "metadata": {
    "collapsed": false,
    "pycharm": {
     "name": "#%% md\n"
    }
   }
  },
  {
   "cell_type": "code",
   "execution_count": 5,
   "outputs": [
    {
     "data": {
      "text/plain": "     200  7000l      _     _a   _all  _almost_  _always_   _am_  _amiably  \\\n0  False  False  False  False  False     False     False  False     False   \n1  False  False  False  False  False     False     False  False     False   \n2  False  False  False  False  False     False     False  False     False   \n3  False  False  False  False  False     False     False  False     False   \n4  False  False  False  False  False     False     False  False     False   \n\n    _and  ...  youthere  youthful  youtravel  youwill  youwilloughby  youyet  \\\n0  False  ...     False     False      False    False          False   False   \n1  False  ...     False     False      False    False          False   False   \n2  False  ...     False     False      False    False          False   False   \n3  False  ...     False     False      False    False          False   False   \n4  False  ...     False     False      False    False          False   False   \n\n    zeal  zealous  zealously     Ã   \n0  False    False      False  False  \n1  False    False      False  False  \n2  False    False      False  False  \n3  False    False      False  False  \n4  False    False      False  False  \n\n[5 rows x 9659 columns]",
      "text/html": "<div>\n<style scoped>\n    .dataframe tbody tr th:only-of-type {\n        vertical-align: middle;\n    }\n\n    .dataframe tbody tr th {\n        vertical-align: top;\n    }\n\n    .dataframe thead th {\n        text-align: right;\n    }\n</style>\n<table border=\"1\" class=\"dataframe\">\n  <thead>\n    <tr style=\"text-align: right;\">\n      <th></th>\n      <th>200</th>\n      <th>7000l</th>\n      <th>_</th>\n      <th>_a</th>\n      <th>_all</th>\n      <th>_almost_</th>\n      <th>_always_</th>\n      <th>_am_</th>\n      <th>_amiably</th>\n      <th>_and</th>\n      <th>...</th>\n      <th>youthere</th>\n      <th>youthful</th>\n      <th>youtravel</th>\n      <th>youwill</th>\n      <th>youwilloughby</th>\n      <th>youyet</th>\n      <th>zeal</th>\n      <th>zealous</th>\n      <th>zealously</th>\n      <th>Ã</th>\n    </tr>\n  </thead>\n  <tbody>\n    <tr>\n      <th>0</th>\n      <td>False</td>\n      <td>False</td>\n      <td>False</td>\n      <td>False</td>\n      <td>False</td>\n      <td>False</td>\n      <td>False</td>\n      <td>False</td>\n      <td>False</td>\n      <td>False</td>\n      <td>...</td>\n      <td>False</td>\n      <td>False</td>\n      <td>False</td>\n      <td>False</td>\n      <td>False</td>\n      <td>False</td>\n      <td>False</td>\n      <td>False</td>\n      <td>False</td>\n      <td>False</td>\n    </tr>\n    <tr>\n      <th>1</th>\n      <td>False</td>\n      <td>False</td>\n      <td>False</td>\n      <td>False</td>\n      <td>False</td>\n      <td>False</td>\n      <td>False</td>\n      <td>False</td>\n      <td>False</td>\n      <td>False</td>\n      <td>...</td>\n      <td>False</td>\n      <td>False</td>\n      <td>False</td>\n      <td>False</td>\n      <td>False</td>\n      <td>False</td>\n      <td>False</td>\n      <td>False</td>\n      <td>False</td>\n      <td>False</td>\n    </tr>\n    <tr>\n      <th>2</th>\n      <td>False</td>\n      <td>False</td>\n      <td>False</td>\n      <td>False</td>\n      <td>False</td>\n      <td>False</td>\n      <td>False</td>\n      <td>False</td>\n      <td>False</td>\n      <td>False</td>\n      <td>...</td>\n      <td>False</td>\n      <td>False</td>\n      <td>False</td>\n      <td>False</td>\n      <td>False</td>\n      <td>False</td>\n      <td>False</td>\n      <td>False</td>\n      <td>False</td>\n      <td>False</td>\n    </tr>\n    <tr>\n      <th>3</th>\n      <td>False</td>\n      <td>False</td>\n      <td>False</td>\n      <td>False</td>\n      <td>False</td>\n      <td>False</td>\n      <td>False</td>\n      <td>False</td>\n      <td>False</td>\n      <td>False</td>\n      <td>...</td>\n      <td>False</td>\n      <td>False</td>\n      <td>False</td>\n      <td>False</td>\n      <td>False</td>\n      <td>False</td>\n      <td>False</td>\n      <td>False</td>\n      <td>False</td>\n      <td>False</td>\n    </tr>\n    <tr>\n      <th>4</th>\n      <td>False</td>\n      <td>False</td>\n      <td>False</td>\n      <td>False</td>\n      <td>False</td>\n      <td>False</td>\n      <td>False</td>\n      <td>False</td>\n      <td>False</td>\n      <td>False</td>\n      <td>...</td>\n      <td>False</td>\n      <td>False</td>\n      <td>False</td>\n      <td>False</td>\n      <td>False</td>\n      <td>False</td>\n      <td>False</td>\n      <td>False</td>\n      <td>False</td>\n      <td>False</td>\n    </tr>\n  </tbody>\n</table>\n<p>5 rows × 9659 columns</p>\n</div>"
     },
     "execution_count": 5,
     "metadata": {},
     "output_type": "execute_result"
    }
   ],
   "source": [
    "book1_df.head()"
   ],
   "metadata": {
    "collapsed": false,
    "pycharm": {
     "name": "#%%\n"
    }
   }
  },
  {
   "cell_type": "code",
   "execution_count": 6,
   "outputs": [
    {
     "data": {
      "text/plain": "    1757   1767  211792      _   _am_  _are_collected   _at_  _bid_   _do_  \\\n0  False  False   False  False  False           False  False  False  False   \n1  False  False   False  False  False           False  False  False  False   \n2  False  False   False  False  False           False  False  False  False   \n3  False  False   False  False  False           False  False  False  False   \n4  False  False   False  False  False           False  False  False  False   \n\n    _don  ...  youso  youth  youthful  youthfulness  youths  youwell  youwill  \\\n0  False  ...  False  False     False         False   False    False    False   \n1  False  ...  False  False     False         False   False    False    False   \n2  False  ...  False  False     False         False   False    False    False   \n3  False  ...  False  False     False         False   False    False    False   \n4  False  ...  False  False     False         False   False    False    False   \n\n   youworth  youyes  zealous  \n0     False   False    False  \n1     False   False    False  \n2     False   False    False  \n3     False   False    False  \n4     False   False    False  \n\n[5 rows x 13254 columns]",
      "text/html": "<div>\n<style scoped>\n    .dataframe tbody tr th:only-of-type {\n        vertical-align: middle;\n    }\n\n    .dataframe tbody tr th {\n        vertical-align: top;\n    }\n\n    .dataframe thead th {\n        text-align: right;\n    }\n</style>\n<table border=\"1\" class=\"dataframe\">\n  <thead>\n    <tr style=\"text-align: right;\">\n      <th></th>\n      <th>1757</th>\n      <th>1767</th>\n      <th>211792</th>\n      <th>_</th>\n      <th>_am_</th>\n      <th>_are_collected</th>\n      <th>_at_</th>\n      <th>_bid_</th>\n      <th>_do_</th>\n      <th>_don</th>\n      <th>...</th>\n      <th>youso</th>\n      <th>youth</th>\n      <th>youthful</th>\n      <th>youthfulness</th>\n      <th>youths</th>\n      <th>youwell</th>\n      <th>youwill</th>\n      <th>youworth</th>\n      <th>youyes</th>\n      <th>zealous</th>\n    </tr>\n  </thead>\n  <tbody>\n    <tr>\n      <th>0</th>\n      <td>False</td>\n      <td>False</td>\n      <td>False</td>\n      <td>False</td>\n      <td>False</td>\n      <td>False</td>\n      <td>False</td>\n      <td>False</td>\n      <td>False</td>\n      <td>False</td>\n      <td>...</td>\n      <td>False</td>\n      <td>False</td>\n      <td>False</td>\n      <td>False</td>\n      <td>False</td>\n      <td>False</td>\n      <td>False</td>\n      <td>False</td>\n      <td>False</td>\n      <td>False</td>\n    </tr>\n    <tr>\n      <th>1</th>\n      <td>False</td>\n      <td>False</td>\n      <td>False</td>\n      <td>False</td>\n      <td>False</td>\n      <td>False</td>\n      <td>False</td>\n      <td>False</td>\n      <td>False</td>\n      <td>False</td>\n      <td>...</td>\n      <td>False</td>\n      <td>False</td>\n      <td>False</td>\n      <td>False</td>\n      <td>False</td>\n      <td>False</td>\n      <td>False</td>\n      <td>False</td>\n      <td>False</td>\n      <td>False</td>\n    </tr>\n    <tr>\n      <th>2</th>\n      <td>False</td>\n      <td>False</td>\n      <td>False</td>\n      <td>False</td>\n      <td>False</td>\n      <td>False</td>\n      <td>False</td>\n      <td>False</td>\n      <td>False</td>\n      <td>False</td>\n      <td>...</td>\n      <td>False</td>\n      <td>False</td>\n      <td>False</td>\n      <td>False</td>\n      <td>False</td>\n      <td>False</td>\n      <td>False</td>\n      <td>False</td>\n      <td>False</td>\n      <td>False</td>\n    </tr>\n    <tr>\n      <th>3</th>\n      <td>False</td>\n      <td>False</td>\n      <td>False</td>\n      <td>False</td>\n      <td>False</td>\n      <td>False</td>\n      <td>False</td>\n      <td>False</td>\n      <td>False</td>\n      <td>False</td>\n      <td>...</td>\n      <td>False</td>\n      <td>False</td>\n      <td>False</td>\n      <td>False</td>\n      <td>False</td>\n      <td>False</td>\n      <td>False</td>\n      <td>False</td>\n      <td>False</td>\n      <td>False</td>\n    </tr>\n    <tr>\n      <th>4</th>\n      <td>False</td>\n      <td>False</td>\n      <td>False</td>\n      <td>False</td>\n      <td>False</td>\n      <td>False</td>\n      <td>False</td>\n      <td>False</td>\n      <td>False</td>\n      <td>False</td>\n      <td>...</td>\n      <td>False</td>\n      <td>False</td>\n      <td>False</td>\n      <td>False</td>\n      <td>False</td>\n      <td>False</td>\n      <td>False</td>\n      <td>False</td>\n      <td>False</td>\n      <td>False</td>\n    </tr>\n  </tbody>\n</table>\n<p>5 rows × 13254 columns</p>\n</div>"
     },
     "execution_count": 6,
     "metadata": {},
     "output_type": "execute_result"
    }
   ],
   "source": [
    "book2_df.head()"
   ],
   "metadata": {
    "collapsed": false,
    "pycharm": {
     "name": "#%%\n"
    }
   }
  },
  {
   "cell_type": "code",
   "execution_count": 7,
   "outputs": [
    {
     "data": {
      "text/plain": "     000      1     10    100   1000    101    102    107  107330  107416  \\\n0  False  False  False  False  False  False  False  False   False   False   \n1  False  False  False  False  False  False  False  False   False   False   \n2  False  False  False  False  False  False  False  False   False   False   \n3  False  False  False  False  False  False  False  False   False   False   \n4  False  False  False  False  False  False  False  False   False   False   \n\n   ...  zealand  zealand100  zealand201  zealand376  zebra   zero   zone  \\\n0  ...    False       False       False       False  False  False  False   \n1  ...    False       False       False       False  False  False  False   \n2  ...    False       False       False       False  False  False  False   \n3  ...    False       False       False       False  False  False  False   \n4  ...    False       False       False       False  False  False  False   \n\n   zones  zoological  zoologist  \n0  False       False      False  \n1  False       False      False  \n2  False       False      False  \n3  False       False      False  \n4  False       False      False  \n\n[5 rows x 10251 columns]",
      "text/html": "<div>\n<style scoped>\n    .dataframe tbody tr th:only-of-type {\n        vertical-align: middle;\n    }\n\n    .dataframe tbody tr th {\n        vertical-align: top;\n    }\n\n    .dataframe thead th {\n        text-align: right;\n    }\n</style>\n<table border=\"1\" class=\"dataframe\">\n  <thead>\n    <tr style=\"text-align: right;\">\n      <th></th>\n      <th>000</th>\n      <th>1</th>\n      <th>10</th>\n      <th>100</th>\n      <th>1000</th>\n      <th>101</th>\n      <th>102</th>\n      <th>107</th>\n      <th>107330</th>\n      <th>107416</th>\n      <th>...</th>\n      <th>zealand</th>\n      <th>zealand100</th>\n      <th>zealand201</th>\n      <th>zealand376</th>\n      <th>zebra</th>\n      <th>zero</th>\n      <th>zone</th>\n      <th>zones</th>\n      <th>zoological</th>\n      <th>zoologist</th>\n    </tr>\n  </thead>\n  <tbody>\n    <tr>\n      <th>0</th>\n      <td>False</td>\n      <td>False</td>\n      <td>False</td>\n      <td>False</td>\n      <td>False</td>\n      <td>False</td>\n      <td>False</td>\n      <td>False</td>\n      <td>False</td>\n      <td>False</td>\n      <td>...</td>\n      <td>False</td>\n      <td>False</td>\n      <td>False</td>\n      <td>False</td>\n      <td>False</td>\n      <td>False</td>\n      <td>False</td>\n      <td>False</td>\n      <td>False</td>\n      <td>False</td>\n    </tr>\n    <tr>\n      <th>1</th>\n      <td>False</td>\n      <td>False</td>\n      <td>False</td>\n      <td>False</td>\n      <td>False</td>\n      <td>False</td>\n      <td>False</td>\n      <td>False</td>\n      <td>False</td>\n      <td>False</td>\n      <td>...</td>\n      <td>False</td>\n      <td>False</td>\n      <td>False</td>\n      <td>False</td>\n      <td>False</td>\n      <td>False</td>\n      <td>False</td>\n      <td>False</td>\n      <td>False</td>\n      <td>False</td>\n    </tr>\n    <tr>\n      <th>2</th>\n      <td>False</td>\n      <td>False</td>\n      <td>False</td>\n      <td>False</td>\n      <td>False</td>\n      <td>False</td>\n      <td>False</td>\n      <td>False</td>\n      <td>False</td>\n      <td>False</td>\n      <td>...</td>\n      <td>False</td>\n      <td>False</td>\n      <td>False</td>\n      <td>False</td>\n      <td>False</td>\n      <td>False</td>\n      <td>False</td>\n      <td>False</td>\n      <td>False</td>\n      <td>False</td>\n    </tr>\n    <tr>\n      <th>3</th>\n      <td>False</td>\n      <td>False</td>\n      <td>False</td>\n      <td>False</td>\n      <td>False</td>\n      <td>False</td>\n      <td>False</td>\n      <td>False</td>\n      <td>False</td>\n      <td>False</td>\n      <td>...</td>\n      <td>False</td>\n      <td>False</td>\n      <td>False</td>\n      <td>False</td>\n      <td>False</td>\n      <td>False</td>\n      <td>False</td>\n      <td>False</td>\n      <td>False</td>\n      <td>False</td>\n    </tr>\n    <tr>\n      <th>4</th>\n      <td>False</td>\n      <td>False</td>\n      <td>False</td>\n      <td>False</td>\n      <td>False</td>\n      <td>False</td>\n      <td>False</td>\n      <td>False</td>\n      <td>False</td>\n      <td>False</td>\n      <td>...</td>\n      <td>False</td>\n      <td>False</td>\n      <td>False</td>\n      <td>False</td>\n      <td>False</td>\n      <td>False</td>\n      <td>False</td>\n      <td>False</td>\n      <td>False</td>\n      <td>False</td>\n    </tr>\n  </tbody>\n</table>\n<p>5 rows × 10251 columns</p>\n</div>"
     },
     "execution_count": 7,
     "metadata": {},
     "output_type": "execute_result"
    }
   ],
   "source": [
    "book3_df.head()"
   ],
   "metadata": {
    "collapsed": false,
    "pycharm": {
     "name": "#%%\n"
    }
   }
  },
  {
   "cell_type": "markdown",
   "source": [
    "Creating a function to run the apriori algorithm"
   ],
   "metadata": {
    "collapsed": false,
    "pycharm": {
     "name": "#%% md\n"
    }
   },
   "outputs": [
    {
     "ename": "NameError",
     "evalue": "name 'Creating' is not defined",
     "output_type": "error",
     "traceback": [
      "\u001B[1;31m---------------------------------------------------------------------------\u001B[0m",
      "\u001B[1;31mNameError\u001B[0m                                 Traceback (most recent call last)",
      "\u001B[1;32m~\\AppData\\Local\\Temp/ipykernel_17968/1361696391.py\u001B[0m in \u001B[0;36m<module>\u001B[1;34m\u001B[0m\n\u001B[1;32m----> 1\u001B[1;33m \u001B[0mCreating\u001B[0m\u001B[1;33m\u001B[0m\u001B[1;33m\u001B[0m\u001B[0m\n\u001B[0m\u001B[0;32m      2\u001B[0m \u001B[1;33m\u001B[0m\u001B[0m\n",
      "\u001B[1;31mNameError\u001B[0m: name 'Creating' is not defined"
     ]
    }
   ],
   "execution_count": 19
  },
  {
   "cell_type": "code",
   "execution_count": 8,
   "outputs": [],
   "source": [
    "def run_apriori(df, min_support_feed=0.02, min_threshold_feed=0.2, lift=1.1):\n",
    "    \"\"\"This function runs through the apriori algorithm taking in min support\n",
    "    min threshold which is confidence and min lift. It returns association rules and frequent items\"\"\"\n",
    "    freq_items = apriori(df, min_support=min_support_feed, use_colnames=True)\n",
    "    freq_items['length'] = freq_items['itemsets'].apply(lambda x: len(x))\n",
    "    freq_items.sort_values([\"support\", \"length\"], inplace=True, ascending=False)\n",
    "    rules = association_rules(freq_items, metric=\"confidence\", min_threshold=min_threshold_feed)\n",
    "    asso_rules = rules[rules[\"lift\"] >= lift].copy()\n",
    "    asso_rules.sort_values([\"lift\"], inplace=True, ascending=False)\n",
    "    return asso_rules, freq_items\n",
    "\n",
    "book1_rules, book1_freq_items = run_apriori(book1_df)\n",
    "book2_rules, book2_freq_items = run_apriori(book2_df)\n",
    "book3_rules, book3_freq_items = run_apriori(book3_df)"
   ],
   "metadata": {
    "collapsed": false,
    "pycharm": {
     "name": "#%%\n"
    }
   }
  },
  {
   "cell_type": "markdown",
   "source": [
    "Taking a look at frequent 1-itemsets that are both strong and interesting"
   ],
   "metadata": {
    "collapsed": false,
    "pycharm": {
     "name": "#%% md\n"
    }
   }
  },
  {
   "cell_type": "code",
   "execution_count": 9,
   "outputs": [],
   "source": [
    "def filter_freq_items(freq_items,items=1):\n",
    "    \"\"\"This function filters the frequent items so that we can look a certain n-itemsets\"\"\"\n",
    "    filtered_freq_items = freq_items[freq_items[\"length\"] == items].copy()\n",
    "    return filtered_freq_items"
   ],
   "metadata": {
    "collapsed": false,
    "pycharm": {
     "name": "#%%\n"
    }
   }
  },
  {
   "cell_type": "markdown",
   "source": [
    "The five most common one words for every book with a min-support of 0.02"
   ],
   "metadata": {
    "collapsed": false,
    "pycharm": {
     "name": "#%% md\n"
    }
   }
  },
  {
   "cell_type": "code",
   "execution_count": 10,
   "outputs": [
    {
     "data": {
      "text/plain": "     support itemsets  length\n61  0.300081     (to)       1\n56  0.283155    (the)       1\n4   0.276672    (and)       1\n42  0.269650     (of)       1\n22  0.174845    (her)       1",
      "text/html": "<div>\n<style scoped>\n    .dataframe tbody tr th:only-of-type {\n        vertical-align: middle;\n    }\n\n    .dataframe tbody tr th {\n        vertical-align: top;\n    }\n\n    .dataframe thead th {\n        text-align: right;\n    }\n</style>\n<table border=\"1\" class=\"dataframe\">\n  <thead>\n    <tr style=\"text-align: right;\">\n      <th></th>\n      <th>support</th>\n      <th>itemsets</th>\n      <th>length</th>\n    </tr>\n  </thead>\n  <tbody>\n    <tr>\n      <th>61</th>\n      <td>0.300081</td>\n      <td>(to)</td>\n      <td>1</td>\n    </tr>\n    <tr>\n      <th>56</th>\n      <td>0.283155</td>\n      <td>(the)</td>\n      <td>1</td>\n    </tr>\n    <tr>\n      <th>4</th>\n      <td>0.276672</td>\n      <td>(and)</td>\n      <td>1</td>\n    </tr>\n    <tr>\n      <th>42</th>\n      <td>0.269650</td>\n      <td>(of)</td>\n      <td>1</td>\n    </tr>\n    <tr>\n      <th>22</th>\n      <td>0.174845</td>\n      <td>(her)</td>\n      <td>1</td>\n    </tr>\n  </tbody>\n</table>\n</div>"
     },
     "execution_count": 10,
     "metadata": {},
     "output_type": "execute_result"
    }
   ],
   "source": [
    "book1_freq_items_1 = filter_freq_items(book1_freq_items)\n",
    "book1_freq_items_1.head(5)"
   ],
   "metadata": {
    "collapsed": false,
    "pycharm": {
     "name": "#%%\n"
    }
   }
  },
  {
   "cell_type": "code",
   "execution_count": 11,
   "outputs": [
    {
     "data": {
      "text/plain": "     support itemsets  length\n44  0.421277    (the)       1\n3   0.324901    (and)       1\n34  0.259023     (of)       1\n50  0.232467     (to)       1\n0   0.192829      (a)       1",
      "text/html": "<div>\n<style scoped>\n    .dataframe tbody tr th:only-of-type {\n        vertical-align: middle;\n    }\n\n    .dataframe tbody tr th {\n        vertical-align: top;\n    }\n\n    .dataframe thead th {\n        text-align: right;\n    }\n</style>\n<table border=\"1\" class=\"dataframe\">\n  <thead>\n    <tr style=\"text-align: right;\">\n      <th></th>\n      <th>support</th>\n      <th>itemsets</th>\n      <th>length</th>\n    </tr>\n  </thead>\n  <tbody>\n    <tr>\n      <th>44</th>\n      <td>0.421277</td>\n      <td>(the)</td>\n      <td>1</td>\n    </tr>\n    <tr>\n      <th>3</th>\n      <td>0.324901</td>\n      <td>(and)</td>\n      <td>1</td>\n    </tr>\n    <tr>\n      <th>34</th>\n      <td>0.259023</td>\n      <td>(of)</td>\n      <td>1</td>\n    </tr>\n    <tr>\n      <th>50</th>\n      <td>0.232467</td>\n      <td>(to)</td>\n      <td>1</td>\n    </tr>\n    <tr>\n      <th>0</th>\n      <td>0.192829</td>\n      <td>(a)</td>\n      <td>1</td>\n    </tr>\n  </tbody>\n</table>\n</div>"
     },
     "execution_count": 11,
     "metadata": {},
     "output_type": "execute_result"
    }
   ],
   "source": [
    "book2_freq_items_1 = filter_freq_items(book2_freq_items)\n",
    "book2_freq_items_1.head(5)"
   ],
   "metadata": {
    "collapsed": false,
    "pycharm": {
     "name": "#%%\n"
    }
   }
  },
  {
   "cell_type": "code",
   "execution_count": 12,
   "outputs": [
    {
     "data": {
      "text/plain": "     support itemsets  length\n50  0.522363    (the)       1\n36  0.434390     (of)       1\n3   0.283951    (and)       1\n25  0.257707     (in)       1\n56  0.225992     (to)       1",
      "text/html": "<div>\n<style scoped>\n    .dataframe tbody tr th:only-of-type {\n        vertical-align: middle;\n    }\n\n    .dataframe tbody tr th {\n        vertical-align: top;\n    }\n\n    .dataframe thead th {\n        text-align: right;\n    }\n</style>\n<table border=\"1\" class=\"dataframe\">\n  <thead>\n    <tr style=\"text-align: right;\">\n      <th></th>\n      <th>support</th>\n      <th>itemsets</th>\n      <th>length</th>\n    </tr>\n  </thead>\n  <tbody>\n    <tr>\n      <th>50</th>\n      <td>0.522363</td>\n      <td>(the)</td>\n      <td>1</td>\n    </tr>\n    <tr>\n      <th>36</th>\n      <td>0.434390</td>\n      <td>(of)</td>\n      <td>1</td>\n    </tr>\n    <tr>\n      <th>3</th>\n      <td>0.283951</td>\n      <td>(and)</td>\n      <td>1</td>\n    </tr>\n    <tr>\n      <th>25</th>\n      <td>0.257707</td>\n      <td>(in)</td>\n      <td>1</td>\n    </tr>\n    <tr>\n      <th>56</th>\n      <td>0.225992</td>\n      <td>(to)</td>\n      <td>1</td>\n    </tr>\n  </tbody>\n</table>\n</div>"
     },
     "execution_count": 12,
     "metadata": {},
     "output_type": "execute_result"
    }
   ],
   "source": [
    "book3_freq_items_1 = filter_freq_items(book3_freq_items)\n",
    "book3_freq_items_1.head(5)"
   ],
   "metadata": {
    "collapsed": false,
    "pycharm": {
     "name": "#%%\n"
    }
   }
  },
  {
   "cell_type": "markdown",
   "source": [
    "### Frequent 1-itemsets\n",
    "When we look at the frequent item sets for 1 word items from the three books we notice a lot of similarities.\n",
    "All three books have the following words in the top 5;\n",
    "- The\n",
    "- To\n",
    "- And\n",
    "- Of <br>\n",
    "\n",
    "Books two and three has a really high support for the word \"the\". The rankings of the top 5 words varies but there is\n",
    "nothing that is too surprising here as these words appear in most english sentences. <br>\n",
    "\n",
    "Now looking into the differences we do find that the support ranking order is different. Listed below are the words that\n",
    " appear in the top 5 for one book but not the others:\n",
    "- \"her\" (book1)\n",
    "- \"a\" (book2)\n",
    "- \"in\" (book3)\n"
   ],
   "metadata": {
    "collapsed": false,
    "pycharm": {
     "name": "#%% md\n"
    }
   }
  },
  {
   "cell_type": "markdown",
   "source": [
    "The five most common two words itemsets for every book with a min-support of 0.02"
   ],
   "metadata": {
    "collapsed": false
   }
  },
  {
   "cell_type": "code",
   "execution_count": 13,
   "outputs": [
    {
     "data": {
      "text/plain": "      support    itemsets  length\n177  0.138651   (of, the)       2\n105  0.098316  (and, the)       2\n190  0.095165   (to, the)       2\n106  0.092284   (to, and)       2\n101  0.089943   (of, and)       2",
      "text/html": "<div>\n<style scoped>\n    .dataframe tbody tr th:only-of-type {\n        vertical-align: middle;\n    }\n\n    .dataframe tbody tr th {\n        vertical-align: top;\n    }\n\n    .dataframe thead th {\n        text-align: right;\n    }\n</style>\n<table border=\"1\" class=\"dataframe\">\n  <thead>\n    <tr style=\"text-align: right;\">\n      <th></th>\n      <th>support</th>\n      <th>itemsets</th>\n      <th>length</th>\n    </tr>\n  </thead>\n  <tbody>\n    <tr>\n      <th>177</th>\n      <td>0.138651</td>\n      <td>(of, the)</td>\n      <td>2</td>\n    </tr>\n    <tr>\n      <th>105</th>\n      <td>0.098316</td>\n      <td>(and, the)</td>\n      <td>2</td>\n    </tr>\n    <tr>\n      <th>190</th>\n      <td>0.095165</td>\n      <td>(to, the)</td>\n      <td>2</td>\n    </tr>\n    <tr>\n      <th>106</th>\n      <td>0.092284</td>\n      <td>(to, and)</td>\n      <td>2</td>\n    </tr>\n    <tr>\n      <th>101</th>\n      <td>0.089943</td>\n      <td>(of, and)</td>\n      <td>2</td>\n    </tr>\n  </tbody>\n</table>\n</div>"
     },
     "execution_count": 13,
     "metadata": {},
     "output_type": "execute_result"
    }
   ],
   "source": [
    "book1_freq_items_1 = filter_freq_items(book1_freq_items, 2)\n",
    "book1_freq_items_1.head(5)"
   ],
   "metadata": {
    "collapsed": false,
    "pycharm": {
     "name": "#%%\n"
    }
   }
  },
  {
   "cell_type": "code",
   "execution_count": 14,
   "outputs": [
    {
     "data": {
      "text/plain": "      support    itemsets  length\n151  0.171316   (of, the)       2\n91   0.163672  (and, the)       2\n160  0.109771   (to, the)       2\n138  0.105437   (the, in)       2\n88   0.092120   (of, and)       2",
      "text/html": "<div>\n<style scoped>\n    .dataframe tbody tr th:only-of-type {\n        vertical-align: middle;\n    }\n\n    .dataframe tbody tr th {\n        vertical-align: top;\n    }\n\n    .dataframe thead th {\n        text-align: right;\n    }\n</style>\n<table border=\"1\" class=\"dataframe\">\n  <thead>\n    <tr style=\"text-align: right;\">\n      <th></th>\n      <th>support</th>\n      <th>itemsets</th>\n      <th>length</th>\n    </tr>\n  </thead>\n  <tbody>\n    <tr>\n      <th>151</th>\n      <td>0.171316</td>\n      <td>(of, the)</td>\n      <td>2</td>\n    </tr>\n    <tr>\n      <th>91</th>\n      <td>0.163672</td>\n      <td>(and, the)</td>\n      <td>2</td>\n    </tr>\n    <tr>\n      <th>160</th>\n      <td>0.109771</td>\n      <td>(to, the)</td>\n      <td>2</td>\n    </tr>\n    <tr>\n      <th>138</th>\n      <td>0.105437</td>\n      <td>(the, in)</td>\n      <td>2</td>\n    </tr>\n    <tr>\n      <th>88</th>\n      <td>0.092120</td>\n      <td>(of, and)</td>\n      <td>2</td>\n    </tr>\n  </tbody>\n</table>\n</div>"
     },
     "execution_count": 14,
     "metadata": {},
     "output_type": "execute_result"
    }
   ],
   "source": [
    "book2_freq_items_1 = filter_freq_items(book2_freq_items, 2)\n",
    "book2_freq_items_1.head(5)"
   ],
   "metadata": {
    "collapsed": false,
    "pycharm": {
     "name": "#%%\n"
    }
   }
  },
  {
   "cell_type": "code",
   "execution_count": 15,
   "outputs": [
    {
     "data": {
      "text/plain": "      support    itemsets  length\n162  0.311895   (of, the)       2\n135  0.164190   (the, in)       2\n88   0.163303  (and, the)       2\n181  0.126488   (to, the)       2\n84   0.126118   (of, and)       2",
      "text/html": "<div>\n<style scoped>\n    .dataframe tbody tr th:only-of-type {\n        vertical-align: middle;\n    }\n\n    .dataframe tbody tr th {\n        vertical-align: top;\n    }\n\n    .dataframe thead th {\n        text-align: right;\n    }\n</style>\n<table border=\"1\" class=\"dataframe\">\n  <thead>\n    <tr style=\"text-align: right;\">\n      <th></th>\n      <th>support</th>\n      <th>itemsets</th>\n      <th>length</th>\n    </tr>\n  </thead>\n  <tbody>\n    <tr>\n      <th>162</th>\n      <td>0.311895</td>\n      <td>(of, the)</td>\n      <td>2</td>\n    </tr>\n    <tr>\n      <th>135</th>\n      <td>0.164190</td>\n      <td>(the, in)</td>\n      <td>2</td>\n    </tr>\n    <tr>\n      <th>88</th>\n      <td>0.163303</td>\n      <td>(and, the)</td>\n      <td>2</td>\n    </tr>\n    <tr>\n      <th>181</th>\n      <td>0.126488</td>\n      <td>(to, the)</td>\n      <td>2</td>\n    </tr>\n    <tr>\n      <th>84</th>\n      <td>0.126118</td>\n      <td>(of, and)</td>\n      <td>2</td>\n    </tr>\n  </tbody>\n</table>\n</div>"
     },
     "execution_count": 15,
     "metadata": {},
     "output_type": "execute_result"
    }
   ],
   "source": [
    "book3_freq_items_1 = filter_freq_items(book3_freq_items, 2)\n",
    "book3_freq_items_1.head(5)"
   ],
   "metadata": {
    "collapsed": false,
    "pycharm": {
     "name": "#%%\n"
    }
   }
  },
  {
   "cell_type": "markdown",
   "source": [
    "### Frequent 2-itemsets\n",
    "\n",
    "Right off the bat we can see some major differences by looking at the support values for the top 5 two itemset words.\n",
    " Book3, Darwin, is using a lot of two word itemsets much more. Book1 is showing a lot less support for using the same two\n",
    " word itemsets. Jane Austin's novel was probably a bit smoother of a read with more variety. To lay out the similarities\n",
    " in black and white below are the similarities and differences for the top 5.\n",
    "\n",
    " __Similarities__\n",
    " - [Of, The]\n",
    " - [The, And]\n",
    " - [The, To]\n",
    " - [Of, And]\n",
    "\n",
    "__Differences__\n",
    " - [To, And] (Book1)\n",
    " - [The, In] (Book2) (Book3)\n",
    "\n",
    "Once again there are four 2-item sets appear in the top 5 for all three books. Almost close to having all 5 being similar"
   ],
   "metadata": {
    "collapsed": false,
    "pycharm": {
     "name": "#%% md\n"
    }
   }
  },
  {
   "cell_type": "markdown",
   "source": [
    "The five most common three word itemsets for every book with a min-support of 0.02"
   ],
   "metadata": {
    "collapsed": false
   }
  },
  {
   "cell_type": "code",
   "execution_count": 16,
   "outputs": [
    {
     "data": {
      "text/plain": "      support        itemsets  length\n202  0.046187  (of, and, the)       3\n209  0.043756   (to, of, the)       3\n205  0.030431  (of, her, the)       3\n204  0.029711  (to, and, the)       3\n208  0.029621   (the, of, in)       3",
      "text/html": "<div>\n<style scoped>\n    .dataframe tbody tr th:only-of-type {\n        vertical-align: middle;\n    }\n\n    .dataframe tbody tr th {\n        vertical-align: top;\n    }\n\n    .dataframe thead th {\n        text-align: right;\n    }\n</style>\n<table border=\"1\" class=\"dataframe\">\n  <thead>\n    <tr style=\"text-align: right;\">\n      <th></th>\n      <th>support</th>\n      <th>itemsets</th>\n      <th>length</th>\n    </tr>\n  </thead>\n  <tbody>\n    <tr>\n      <th>202</th>\n      <td>0.046187</td>\n      <td>(of, and, the)</td>\n      <td>3</td>\n    </tr>\n    <tr>\n      <th>209</th>\n      <td>0.043756</td>\n      <td>(to, of, the)</td>\n      <td>3</td>\n    </tr>\n    <tr>\n      <th>205</th>\n      <td>0.030431</td>\n      <td>(of, her, the)</td>\n      <td>3</td>\n    </tr>\n    <tr>\n      <th>204</th>\n      <td>0.029711</td>\n      <td>(to, and, the)</td>\n      <td>3</td>\n    </tr>\n    <tr>\n      <th>208</th>\n      <td>0.029621</td>\n      <td>(the, of, in)</td>\n      <td>3</td>\n    </tr>\n  </tbody>\n</table>\n</div>"
     },
     "execution_count": 16,
     "metadata": {},
     "output_type": "execute_result"
    }
   ],
   "source": [
    "book1_freq_items_1 = filter_freq_items(book1_freq_items, 3)\n",
    "book1_freq_items_1.head(5)"
   ],
   "metadata": {
    "collapsed": false,
    "pycharm": {
     "name": "#%%\n"
    }
   }
  },
  {
   "cell_type": "code",
   "execution_count": 17,
   "outputs": [
    {
     "data": {
      "text/plain": "      support        itemsets  length\n174  0.060757  (of, and, the)       3\n179  0.044129   (of, the, in)       3\n182  0.040032   (to, of, the)       3\n176  0.038455  (to, and, the)       3\n173  0.038377  (and, the, in)       3",
      "text/html": "<div>\n<style scoped>\n    .dataframe tbody tr th:only-of-type {\n        vertical-align: middle;\n    }\n\n    .dataframe tbody tr th {\n        vertical-align: top;\n    }\n\n    .dataframe thead th {\n        text-align: right;\n    }\n</style>\n<table border=\"1\" class=\"dataframe\">\n  <thead>\n    <tr style=\"text-align: right;\">\n      <th></th>\n      <th>support</th>\n      <th>itemsets</th>\n      <th>length</th>\n    </tr>\n  </thead>\n  <tbody>\n    <tr>\n      <th>174</th>\n      <td>0.060757</td>\n      <td>(of, and, the)</td>\n      <td>3</td>\n    </tr>\n    <tr>\n      <th>179</th>\n      <td>0.044129</td>\n      <td>(of, the, in)</td>\n      <td>3</td>\n    </tr>\n    <tr>\n      <th>182</th>\n      <td>0.040032</td>\n      <td>(to, of, the)</td>\n      <td>3</td>\n    </tr>\n    <tr>\n      <th>176</th>\n      <td>0.038455</td>\n      <td>(to, and, the)</td>\n      <td>3</td>\n    </tr>\n    <tr>\n      <th>173</th>\n      <td>0.038377</td>\n      <td>(and, the, in)</td>\n      <td>3</td>\n    </tr>\n  </tbody>\n</table>\n</div>"
     },
     "execution_count": 17,
     "metadata": {},
     "output_type": "execute_result"
    }
   ],
   "source": [
    "book2_freq_items_1 = filter_freq_items(book2_freq_items, 3)\n",
    "book2_freq_items_1.head(5)"
   ],
   "metadata": {
    "collapsed": false,
    "pycharm": {
     "name": "#%%\n"
    }
   }
  },
  {
   "cell_type": "code",
   "execution_count": 18,
   "outputs": [
    {
     "data": {
      "text/plain": "      support        itemsets  length\n193  0.089894  (of, and, the)       3\n205  0.088268   (of, the, in)       3\n215  0.066238   (to, of, the)       3\n192  0.047535  (and, the, in)       3\n190  0.046869    (a, of, the)       3",
      "text/html": "<div>\n<style scoped>\n    .dataframe tbody tr th:only-of-type {\n        vertical-align: middle;\n    }\n\n    .dataframe tbody tr th {\n        vertical-align: top;\n    }\n\n    .dataframe thead th {\n        text-align: right;\n    }\n</style>\n<table border=\"1\" class=\"dataframe\">\n  <thead>\n    <tr style=\"text-align: right;\">\n      <th></th>\n      <th>support</th>\n      <th>itemsets</th>\n      <th>length</th>\n    </tr>\n  </thead>\n  <tbody>\n    <tr>\n      <th>193</th>\n      <td>0.089894</td>\n      <td>(of, and, the)</td>\n      <td>3</td>\n    </tr>\n    <tr>\n      <th>205</th>\n      <td>0.088268</td>\n      <td>(of, the, in)</td>\n      <td>3</td>\n    </tr>\n    <tr>\n      <th>215</th>\n      <td>0.066238</td>\n      <td>(to, of, the)</td>\n      <td>3</td>\n    </tr>\n    <tr>\n      <th>192</th>\n      <td>0.047535</td>\n      <td>(and, the, in)</td>\n      <td>3</td>\n    </tr>\n    <tr>\n      <th>190</th>\n      <td>0.046869</td>\n      <td>(a, of, the)</td>\n      <td>3</td>\n    </tr>\n  </tbody>\n</table>\n</div>"
     },
     "execution_count": 18,
     "metadata": {},
     "output_type": "execute_result"
    }
   ],
   "source": [
    "book3_freq_items_1 = filter_freq_items(book3_freq_items, 3)\n",
    "book3_freq_items_1.head(5)"
   ],
   "metadata": {
    "collapsed": false,
    "pycharm": {
     "name": "#%%\n"
    }
   }
  },
  {
   "cell_type": "markdown",
   "source": [
    "### Frequent 3-itemsets\n",
    "\n",
    "__Similarities__\n",
    "- [Of, The, And]\n",
    "- [Of, The, In]\n",
    "- [Of, The, To]\n",
    "\n",
    "__Differences__\n",
    "- [Of, The, Her] (Book1)\n",
    "- [The, In, And] (Book2, Book3)\n",
    "- [The, To, And] (Book1, Book2)\n",
    "- [A, The, Of] (Book3)\n",
    "\n",
    "After looking at all the Frequent 1,2,3 item sets it becomes apparent that all of these words are the same.\n",
    "The reason being is that they are all articles, pronouns, prepositions, conjunctions. These words don't really tell\n",
    "us too much about the text or what is in it. Rather it is just showing us the most common words that are used in almost\n",
    "every english sentence."
   ],
   "metadata": {
    "collapsed": false,
    "pycharm": {
     "name": "#%% md\n"
    }
   }
  },
  {
   "cell_type": "markdown",
   "source": [
    "### Looking into the association rules with a min_support=.2 and min_confidence=.02\n",
    "\n",
    "For right now I'm just going through and print out the association rules so that we can reconfirm that all of these\n",
    "words are mostly \"stop words\" that do not add too much understanding to what is inside of the books. These words should\n",
    "have high lift values and confidence as they are used with a high frequency but do not relay much value.\n",
    "\n",
    "The first look is at the top 5 interesting rules. This is done by looking at the lift values."
   ],
   "metadata": {
    "collapsed": false,
    "pycharm": {
     "name": "#%% md\n"
    }
   }
  },
  {
   "cell_type": "code",
   "execution_count": 19,
   "outputs": [
    {
     "data": {
      "text/plain": "    antecedents consequents  antecedent support  consequent support   support  \\\n162        (am)         (i)            0.022508            0.146394  0.020167   \n96       (have)         (i)            0.069506            0.146394  0.027370   \n71        (you)         (i)            0.084631            0.146394  0.030701   \n72          (i)       (you)            0.146394            0.084631  0.030701   \n124    (a, the)        (of)            0.044566            0.269650  0.024579   \n\n     confidence      lift  leverage  conviction  \n162    0.896000  6.120462  0.016872    8.207748  \n96     0.393782  2.689878  0.017195    1.408085  \n71     0.362766  2.478008  0.018312    1.339548  \n72     0.209717  2.478008  0.018312    1.158280  \n124    0.551515  2.045302  0.012562    1.628484  ",
      "text/html": "<div>\n<style scoped>\n    .dataframe tbody tr th:only-of-type {\n        vertical-align: middle;\n    }\n\n    .dataframe tbody tr th {\n        vertical-align: top;\n    }\n\n    .dataframe thead th {\n        text-align: right;\n    }\n</style>\n<table border=\"1\" class=\"dataframe\">\n  <thead>\n    <tr style=\"text-align: right;\">\n      <th></th>\n      <th>antecedents</th>\n      <th>consequents</th>\n      <th>antecedent support</th>\n      <th>consequent support</th>\n      <th>support</th>\n      <th>confidence</th>\n      <th>lift</th>\n      <th>leverage</th>\n      <th>conviction</th>\n    </tr>\n  </thead>\n  <tbody>\n    <tr>\n      <th>162</th>\n      <td>(am)</td>\n      <td>(i)</td>\n      <td>0.022508</td>\n      <td>0.146394</td>\n      <td>0.020167</td>\n      <td>0.896000</td>\n      <td>6.120462</td>\n      <td>0.016872</td>\n      <td>8.207748</td>\n    </tr>\n    <tr>\n      <th>96</th>\n      <td>(have)</td>\n      <td>(i)</td>\n      <td>0.069506</td>\n      <td>0.146394</td>\n      <td>0.027370</td>\n      <td>0.393782</td>\n      <td>2.689878</td>\n      <td>0.017195</td>\n      <td>1.408085</td>\n    </tr>\n    <tr>\n      <th>71</th>\n      <td>(you)</td>\n      <td>(i)</td>\n      <td>0.084631</td>\n      <td>0.146394</td>\n      <td>0.030701</td>\n      <td>0.362766</td>\n      <td>2.478008</td>\n      <td>0.018312</td>\n      <td>1.339548</td>\n    </tr>\n    <tr>\n      <th>72</th>\n      <td>(i)</td>\n      <td>(you)</td>\n      <td>0.146394</td>\n      <td>0.084631</td>\n      <td>0.030701</td>\n      <td>0.209717</td>\n      <td>2.478008</td>\n      <td>0.018312</td>\n      <td>1.158280</td>\n    </tr>\n    <tr>\n      <th>124</th>\n      <td>(a, the)</td>\n      <td>(of)</td>\n      <td>0.044566</td>\n      <td>0.269650</td>\n      <td>0.024579</td>\n      <td>0.551515</td>\n      <td>2.045302</td>\n      <td>0.012562</td>\n      <td>1.628484</td>\n    </tr>\n  </tbody>\n</table>\n</div>"
     },
     "execution_count": 19,
     "metadata": {},
     "output_type": "execute_result"
    }
   ],
   "source": [
    "book1_rules.head()"
   ],
   "metadata": {
    "collapsed": false,
    "pycharm": {
     "name": "#%%\n"
    }
   }
  },
  {
   "cell_type": "code",
   "execution_count": 20,
   "outputs": [
    {
     "data": {
      "text/plain": "    antecedents consequents  antecedent support  consequent support   support  \\\n132     (lorry)        (mr)            0.025532            0.042396  0.023089   \n131        (mr)     (lorry)            0.042396            0.025532  0.023089   \n150      (have)         (i)            0.055004            0.126241  0.021434   \n140        (is)        (it)            0.056659            0.130102  0.022301   \n80          (i)       (you)            0.126241            0.088574  0.031127   \n\n     confidence       lift  leverage  conviction  \n132    0.904321  21.330545  0.022007   10.008511  \n131    0.544610  21.330545  0.022007    2.139852  \n150    0.389685   3.086829  0.014490    1.431652  \n140    0.393602   3.025325  0.014930    1.434533  \n80     0.246567   2.783748  0.019945    1.209698  ",
      "text/html": "<div>\n<style scoped>\n    .dataframe tbody tr th:only-of-type {\n        vertical-align: middle;\n    }\n\n    .dataframe tbody tr th {\n        vertical-align: top;\n    }\n\n    .dataframe thead th {\n        text-align: right;\n    }\n</style>\n<table border=\"1\" class=\"dataframe\">\n  <thead>\n    <tr style=\"text-align: right;\">\n      <th></th>\n      <th>antecedents</th>\n      <th>consequents</th>\n      <th>antecedent support</th>\n      <th>consequent support</th>\n      <th>support</th>\n      <th>confidence</th>\n      <th>lift</th>\n      <th>leverage</th>\n      <th>conviction</th>\n    </tr>\n  </thead>\n  <tbody>\n    <tr>\n      <th>132</th>\n      <td>(lorry)</td>\n      <td>(mr)</td>\n      <td>0.025532</td>\n      <td>0.042396</td>\n      <td>0.023089</td>\n      <td>0.904321</td>\n      <td>21.330545</td>\n      <td>0.022007</td>\n      <td>10.008511</td>\n    </tr>\n    <tr>\n      <th>131</th>\n      <td>(mr)</td>\n      <td>(lorry)</td>\n      <td>0.042396</td>\n      <td>0.025532</td>\n      <td>0.023089</td>\n      <td>0.544610</td>\n      <td>21.330545</td>\n      <td>0.022007</td>\n      <td>2.139852</td>\n    </tr>\n    <tr>\n      <th>150</th>\n      <td>(have)</td>\n      <td>(i)</td>\n      <td>0.055004</td>\n      <td>0.126241</td>\n      <td>0.021434</td>\n      <td>0.389685</td>\n      <td>3.086829</td>\n      <td>0.014490</td>\n      <td>1.431652</td>\n    </tr>\n    <tr>\n      <th>140</th>\n      <td>(is)</td>\n      <td>(it)</td>\n      <td>0.056659</td>\n      <td>0.130102</td>\n      <td>0.022301</td>\n      <td>0.393602</td>\n      <td>3.025325</td>\n      <td>0.014930</td>\n      <td>1.434533</td>\n    </tr>\n    <tr>\n      <th>80</th>\n      <td>(i)</td>\n      <td>(you)</td>\n      <td>0.126241</td>\n      <td>0.088574</td>\n      <td>0.031127</td>\n      <td>0.246567</td>\n      <td>2.783748</td>\n      <td>0.019945</td>\n      <td>1.209698</td>\n    </tr>\n  </tbody>\n</table>\n</div>"
     },
     "execution_count": 20,
     "metadata": {},
     "output_type": "execute_result"
    }
   ],
   "source": [
    "book2_rules.head()"
   ],
   "metadata": {
    "collapsed": false,
    "pycharm": {
     "name": "#%%\n"
    }
   }
  },
  {
   "cell_type": "code",
   "execution_count": 21,
   "outputs": [
    {
     "data": {
      "text/plain": "    antecedents consequents  antecedent support  consequent support   support  \\\n98       (been)      (have)            0.064538            0.121535  0.033932   \n99       (have)      (been)            0.121535            0.064538  0.033932   \n141        (is)        (it)            0.098100            0.074444  0.027870   \n142        (it)        (is)            0.074444            0.098100  0.027870   \n119      (that)        (it)            0.147557            0.074444  0.030458   \n\n     confidence      lift  leverage  conviction  \n98     0.525773  4.326116  0.026089    1.852416  \n99     0.279197  4.326116  0.026089    1.297806  \n141    0.284099  3.816299  0.020567    1.292856  \n142    0.374379  3.816299  0.020567    1.441608  \n119    0.206413  2.772737  0.019473    1.166294  ",
      "text/html": "<div>\n<style scoped>\n    .dataframe tbody tr th:only-of-type {\n        vertical-align: middle;\n    }\n\n    .dataframe tbody tr th {\n        vertical-align: top;\n    }\n\n    .dataframe thead th {\n        text-align: right;\n    }\n</style>\n<table border=\"1\" class=\"dataframe\">\n  <thead>\n    <tr style=\"text-align: right;\">\n      <th></th>\n      <th>antecedents</th>\n      <th>consequents</th>\n      <th>antecedent support</th>\n      <th>consequent support</th>\n      <th>support</th>\n      <th>confidence</th>\n      <th>lift</th>\n      <th>leverage</th>\n      <th>conviction</th>\n    </tr>\n  </thead>\n  <tbody>\n    <tr>\n      <th>98</th>\n      <td>(been)</td>\n      <td>(have)</td>\n      <td>0.064538</td>\n      <td>0.121535</td>\n      <td>0.033932</td>\n      <td>0.525773</td>\n      <td>4.326116</td>\n      <td>0.026089</td>\n      <td>1.852416</td>\n    </tr>\n    <tr>\n      <th>99</th>\n      <td>(have)</td>\n      <td>(been)</td>\n      <td>0.121535</td>\n      <td>0.064538</td>\n      <td>0.033932</td>\n      <td>0.279197</td>\n      <td>4.326116</td>\n      <td>0.026089</td>\n      <td>1.297806</td>\n    </tr>\n    <tr>\n      <th>141</th>\n      <td>(is)</td>\n      <td>(it)</td>\n      <td>0.098100</td>\n      <td>0.074444</td>\n      <td>0.027870</td>\n      <td>0.284099</td>\n      <td>3.816299</td>\n      <td>0.020567</td>\n      <td>1.292856</td>\n    </tr>\n    <tr>\n      <th>142</th>\n      <td>(it)</td>\n      <td>(is)</td>\n      <td>0.074444</td>\n      <td>0.098100</td>\n      <td>0.027870</td>\n      <td>0.374379</td>\n      <td>3.816299</td>\n      <td>0.020567</td>\n      <td>1.441608</td>\n    </tr>\n    <tr>\n      <th>119</th>\n      <td>(that)</td>\n      <td>(it)</td>\n      <td>0.147557</td>\n      <td>0.074444</td>\n      <td>0.030458</td>\n      <td>0.206413</td>\n      <td>2.772737</td>\n      <td>0.019473</td>\n      <td>1.166294</td>\n    </tr>\n  </tbody>\n</table>\n</div>"
     },
     "execution_count": 21,
     "metadata": {},
     "output_type": "execute_result"
    }
   ],
   "source": [
    "book3_rules.head()"
   ],
   "metadata": {
    "collapsed": false,
    "pycharm": {
     "name": "#%%\n"
    }
   }
  },
  {
   "cell_type": "markdown",
   "source": [
    "The first look at the association rules is filter to have the lift values as the highest. The first book contains\n",
    "a lot of words [am, have, you] as antecedents to the consequents I. <br>\n",
    "\n",
    "The second book [mr] followed by [lorry] makes sense as mr is always going to be before lorry, for Mr Lory. <br>\n",
    "\n",
    "The third book definitely shows a few different rules. With [have] followed by [been] or [it],[is] would make sense for\n",
    "Darwin describing different types of animals and evolution. This can also be shown by less person pronouns being used."
   ],
   "metadata": {
    "collapsed": false
   }
  },
  {
   "cell_type": "markdown",
   "source": [
    "### Filtering rules by support to add an extra look"
   ],
   "metadata": {
    "collapsed": false,
    "pycharm": {
     "name": "#%% md\n"
    }
   }
  },
  {
   "cell_type": "code",
   "execution_count": 22,
   "outputs": [
    {
     "data": {
      "text/plain": "  antecedents consequents  antecedent support  consequent support   support  \\\n1       (the)        (of)            0.283155            0.269650  0.138651   \n0        (of)       (the)            0.269650            0.283155  0.138651   \n2       (and)       (the)            0.276672            0.283155  0.098316   \n3       (the)       (and)            0.283155            0.276672  0.098316   \n5       (the)        (to)            0.283155            0.300081  0.095165   \n\n   confidence      lift  leverage  conviction  \n1    0.489666  1.815934  0.062299    1.431122  \n0    0.514190  1.815934  0.062299    1.475568  \n2    0.355353  1.254978  0.019975    1.111997  \n3    0.347218  1.254978  0.019975    1.108069  \n5    0.336089  1.119994  0.010196    1.054236  ",
      "text/html": "<div>\n<style scoped>\n    .dataframe tbody tr th:only-of-type {\n        vertical-align: middle;\n    }\n\n    .dataframe tbody tr th {\n        vertical-align: top;\n    }\n\n    .dataframe thead th {\n        text-align: right;\n    }\n</style>\n<table border=\"1\" class=\"dataframe\">\n  <thead>\n    <tr style=\"text-align: right;\">\n      <th></th>\n      <th>antecedents</th>\n      <th>consequents</th>\n      <th>antecedent support</th>\n      <th>consequent support</th>\n      <th>support</th>\n      <th>confidence</th>\n      <th>lift</th>\n      <th>leverage</th>\n      <th>conviction</th>\n    </tr>\n  </thead>\n  <tbody>\n    <tr>\n      <th>1</th>\n      <td>(the)</td>\n      <td>(of)</td>\n      <td>0.283155</td>\n      <td>0.269650</td>\n      <td>0.138651</td>\n      <td>0.489666</td>\n      <td>1.815934</td>\n      <td>0.062299</td>\n      <td>1.431122</td>\n    </tr>\n    <tr>\n      <th>0</th>\n      <td>(of)</td>\n      <td>(the)</td>\n      <td>0.269650</td>\n      <td>0.283155</td>\n      <td>0.138651</td>\n      <td>0.514190</td>\n      <td>1.815934</td>\n      <td>0.062299</td>\n      <td>1.475568</td>\n    </tr>\n    <tr>\n      <th>2</th>\n      <td>(and)</td>\n      <td>(the)</td>\n      <td>0.276672</td>\n      <td>0.283155</td>\n      <td>0.098316</td>\n      <td>0.355353</td>\n      <td>1.254978</td>\n      <td>0.019975</td>\n      <td>1.111997</td>\n    </tr>\n    <tr>\n      <th>3</th>\n      <td>(the)</td>\n      <td>(and)</td>\n      <td>0.283155</td>\n      <td>0.276672</td>\n      <td>0.098316</td>\n      <td>0.347218</td>\n      <td>1.254978</td>\n      <td>0.019975</td>\n      <td>1.108069</td>\n    </tr>\n    <tr>\n      <th>5</th>\n      <td>(the)</td>\n      <td>(to)</td>\n      <td>0.283155</td>\n      <td>0.300081</td>\n      <td>0.095165</td>\n      <td>0.336089</td>\n      <td>1.119994</td>\n      <td>0.010196</td>\n      <td>1.054236</td>\n    </tr>\n  </tbody>\n</table>\n</div>"
     },
     "execution_count": 22,
     "metadata": {},
     "output_type": "execute_result"
    }
   ],
   "source": [
    "book1_rules.sort_values(by=[\"support\"], ascending=False).head()"
   ],
   "metadata": {
    "collapsed": false,
    "pycharm": {
     "name": "#%%\n"
    }
   }
  },
  {
   "cell_type": "code",
   "execution_count": 23,
   "outputs": [
    {
     "data": {
      "text/plain": "  antecedents consequents  antecedent support  consequent support   support  \\\n1       (the)        (of)            0.421277            0.259023  0.171316   \n0        (of)       (the)            0.259023            0.421277  0.171316   \n2       (and)       (the)            0.324901            0.421277  0.163672   \n3       (the)       (and)            0.421277            0.324901  0.163672   \n4        (to)       (the)            0.232467            0.421277  0.109771   \n\n   confidence      lift  leverage  conviction  \n1    0.406659  1.569974  0.062196    1.248822  \n0    0.661393  1.569974  0.062196    1.709132  \n2    0.503759  1.195793  0.026799    1.166215  \n3    0.388515  1.195793  0.026799    1.104031  \n4    0.472203  1.120887  0.011839    1.096489  ",
      "text/html": "<div>\n<style scoped>\n    .dataframe tbody tr th:only-of-type {\n        vertical-align: middle;\n    }\n\n    .dataframe tbody tr th {\n        vertical-align: top;\n    }\n\n    .dataframe thead th {\n        text-align: right;\n    }\n</style>\n<table border=\"1\" class=\"dataframe\">\n  <thead>\n    <tr style=\"text-align: right;\">\n      <th></th>\n      <th>antecedents</th>\n      <th>consequents</th>\n      <th>antecedent support</th>\n      <th>consequent support</th>\n      <th>support</th>\n      <th>confidence</th>\n      <th>lift</th>\n      <th>leverage</th>\n      <th>conviction</th>\n    </tr>\n  </thead>\n  <tbody>\n    <tr>\n      <th>1</th>\n      <td>(the)</td>\n      <td>(of)</td>\n      <td>0.421277</td>\n      <td>0.259023</td>\n      <td>0.171316</td>\n      <td>0.406659</td>\n      <td>1.569974</td>\n      <td>0.062196</td>\n      <td>1.248822</td>\n    </tr>\n    <tr>\n      <th>0</th>\n      <td>(of)</td>\n      <td>(the)</td>\n      <td>0.259023</td>\n      <td>0.421277</td>\n      <td>0.171316</td>\n      <td>0.661393</td>\n      <td>1.569974</td>\n      <td>0.062196</td>\n      <td>1.709132</td>\n    </tr>\n    <tr>\n      <th>2</th>\n      <td>(and)</td>\n      <td>(the)</td>\n      <td>0.324901</td>\n      <td>0.421277</td>\n      <td>0.163672</td>\n      <td>0.503759</td>\n      <td>1.195793</td>\n      <td>0.026799</td>\n      <td>1.166215</td>\n    </tr>\n    <tr>\n      <th>3</th>\n      <td>(the)</td>\n      <td>(and)</td>\n      <td>0.421277</td>\n      <td>0.324901</td>\n      <td>0.163672</td>\n      <td>0.388515</td>\n      <td>1.195793</td>\n      <td>0.026799</td>\n      <td>1.104031</td>\n    </tr>\n    <tr>\n      <th>4</th>\n      <td>(to)</td>\n      <td>(the)</td>\n      <td>0.232467</td>\n      <td>0.421277</td>\n      <td>0.109771</td>\n      <td>0.472203</td>\n      <td>1.120887</td>\n      <td>0.011839</td>\n      <td>1.096489</td>\n    </tr>\n  </tbody>\n</table>\n</div>"
     },
     "execution_count": 23,
     "metadata": {},
     "output_type": "execute_result"
    }
   ],
   "source": [
    "book2_rules.sort_values(by=[\"support\"], ascending=False).head()"
   ],
   "metadata": {
    "collapsed": false,
    "pycharm": {
     "name": "#%%\n"
    }
   }
  },
  {
   "cell_type": "code",
   "execution_count": 24,
   "outputs": [
    {
     "data": {
      "text/plain": "  antecedents consequents  antecedent support  consequent support   support  \\\n0        (of)       (the)            0.434390            0.522363  0.311895   \n1       (the)        (of)            0.522363            0.434390  0.311895   \n3        (in)       (the)            0.257707            0.522363  0.164190   \n2       (the)        (in)            0.522363            0.257707  0.164190   \n4       (and)       (the)            0.283951            0.522363  0.163303   \n\n   confidence      lift  leverage  conviction  \n0    0.718005  1.374534  0.084985    1.693782  \n1    0.597085  1.374534  0.084985    1.403792  \n3    0.637120  1.219689  0.029574    1.316240  \n2    0.314322  1.219689  0.029574    1.082568  \n4    0.575111  1.100980  0.014978    1.124145  ",
      "text/html": "<div>\n<style scoped>\n    .dataframe tbody tr th:only-of-type {\n        vertical-align: middle;\n    }\n\n    .dataframe tbody tr th {\n        vertical-align: top;\n    }\n\n    .dataframe thead th {\n        text-align: right;\n    }\n</style>\n<table border=\"1\" class=\"dataframe\">\n  <thead>\n    <tr style=\"text-align: right;\">\n      <th></th>\n      <th>antecedents</th>\n      <th>consequents</th>\n      <th>antecedent support</th>\n      <th>consequent support</th>\n      <th>support</th>\n      <th>confidence</th>\n      <th>lift</th>\n      <th>leverage</th>\n      <th>conviction</th>\n    </tr>\n  </thead>\n  <tbody>\n    <tr>\n      <th>0</th>\n      <td>(of)</td>\n      <td>(the)</td>\n      <td>0.434390</td>\n      <td>0.522363</td>\n      <td>0.311895</td>\n      <td>0.718005</td>\n      <td>1.374534</td>\n      <td>0.084985</td>\n      <td>1.693782</td>\n    </tr>\n    <tr>\n      <th>1</th>\n      <td>(the)</td>\n      <td>(of)</td>\n      <td>0.522363</td>\n      <td>0.434390</td>\n      <td>0.311895</td>\n      <td>0.597085</td>\n      <td>1.374534</td>\n      <td>0.084985</td>\n      <td>1.403792</td>\n    </tr>\n    <tr>\n      <th>3</th>\n      <td>(in)</td>\n      <td>(the)</td>\n      <td>0.257707</td>\n      <td>0.522363</td>\n      <td>0.164190</td>\n      <td>0.637120</td>\n      <td>1.219689</td>\n      <td>0.029574</td>\n      <td>1.316240</td>\n    </tr>\n    <tr>\n      <th>2</th>\n      <td>(the)</td>\n      <td>(in)</td>\n      <td>0.522363</td>\n      <td>0.257707</td>\n      <td>0.164190</td>\n      <td>0.314322</td>\n      <td>1.219689</td>\n      <td>0.029574</td>\n      <td>1.082568</td>\n    </tr>\n    <tr>\n      <th>4</th>\n      <td>(and)</td>\n      <td>(the)</td>\n      <td>0.283951</td>\n      <td>0.522363</td>\n      <td>0.163303</td>\n      <td>0.575111</td>\n      <td>1.100980</td>\n      <td>0.014978</td>\n      <td>1.124145</td>\n    </tr>\n  </tbody>\n</table>\n</div>"
     },
     "execution_count": 24,
     "metadata": {},
     "output_type": "execute_result"
    }
   ],
   "source": [
    "book3_rules.sort_values(by=[\"support\"], ascending=False).head()"
   ],
   "metadata": {
    "collapsed": false,
    "pycharm": {
     "name": "#%%\n"
    }
   }
  },
  {
   "cell_type": "markdown",
   "source": [
    "When sorting the association rules by strongest support we see the same results as looking at the 1-itemset\n",
    "from the analysis above.\n",
    "\n",
    "Next is a quick look at looking at the largest confidence to look at the strongest rules."
   ],
   "metadata": {
    "collapsed": false,
    "pycharm": {
     "name": "#%% md\n"
    }
   }
  },
  {
   "cell_type": "code",
   "execution_count": 25,
   "outputs": [
    {
     "data": {
      "text/plain": "    antecedents consequents  antecedent support  consequent support   support  \\\n162        (am)         (i)            0.022508            0.146394  0.020167   \n113   (of, was)       (the)            0.045287            0.283155  0.025389   \n87     (of, in)       (the)            0.053120            0.283155  0.029621   \n124    (a, the)        (of)            0.044566            0.269650  0.024579   \n76   (her, the)        (of)            0.056901            0.269650  0.030431   \n\n     confidence      lift  leverage  conviction  \n162    0.896000  6.120462  0.016872    8.207748  \n113    0.560636  1.979964  0.012566    1.631553  \n87     0.557627  1.969337  0.014580    1.620455  \n124    0.551515  2.045302  0.012562    1.628484  \n76     0.534810  1.983351  0.015088    1.570005  ",
      "text/html": "<div>\n<style scoped>\n    .dataframe tbody tr th:only-of-type {\n        vertical-align: middle;\n    }\n\n    .dataframe tbody tr th {\n        vertical-align: top;\n    }\n\n    .dataframe thead th {\n        text-align: right;\n    }\n</style>\n<table border=\"1\" class=\"dataframe\">\n  <thead>\n    <tr style=\"text-align: right;\">\n      <th></th>\n      <th>antecedents</th>\n      <th>consequents</th>\n      <th>antecedent support</th>\n      <th>consequent support</th>\n      <th>support</th>\n      <th>confidence</th>\n      <th>lift</th>\n      <th>leverage</th>\n      <th>conviction</th>\n    </tr>\n  </thead>\n  <tbody>\n    <tr>\n      <th>162</th>\n      <td>(am)</td>\n      <td>(i)</td>\n      <td>0.022508</td>\n      <td>0.146394</td>\n      <td>0.020167</td>\n      <td>0.896000</td>\n      <td>6.120462</td>\n      <td>0.016872</td>\n      <td>8.207748</td>\n    </tr>\n    <tr>\n      <th>113</th>\n      <td>(of, was)</td>\n      <td>(the)</td>\n      <td>0.045287</td>\n      <td>0.283155</td>\n      <td>0.025389</td>\n      <td>0.560636</td>\n      <td>1.979964</td>\n      <td>0.012566</td>\n      <td>1.631553</td>\n    </tr>\n    <tr>\n      <th>87</th>\n      <td>(of, in)</td>\n      <td>(the)</td>\n      <td>0.053120</td>\n      <td>0.283155</td>\n      <td>0.029621</td>\n      <td>0.557627</td>\n      <td>1.969337</td>\n      <td>0.014580</td>\n      <td>1.620455</td>\n    </tr>\n    <tr>\n      <th>124</th>\n      <td>(a, the)</td>\n      <td>(of)</td>\n      <td>0.044566</td>\n      <td>0.269650</td>\n      <td>0.024579</td>\n      <td>0.551515</td>\n      <td>2.045302</td>\n      <td>0.012562</td>\n      <td>1.628484</td>\n    </tr>\n    <tr>\n      <th>76</th>\n      <td>(her, the)</td>\n      <td>(of)</td>\n      <td>0.056901</td>\n      <td>0.269650</td>\n      <td>0.030431</td>\n      <td>0.534810</td>\n      <td>1.983351</td>\n      <td>0.015088</td>\n      <td>1.570005</td>\n    </tr>\n  </tbody>\n</table>\n</div>"
     },
     "execution_count": 25,
     "metadata": {},
     "output_type": "execute_result"
    }
   ],
   "source": [
    "book1_rules.sort_values(by=[\"confidence\"], ascending=False).head()"
   ],
   "metadata": {
    "collapsed": false,
    "pycharm": {
     "name": "#%%\n"
    }
   }
  },
  {
   "cell_type": "code",
   "execution_count": 26,
   "outputs": [
    {
     "data": {
      "text/plain": "    antecedents consequents  antecedent support  consequent support   support  \\\n132     (lorry)        (mr)            0.025532            0.042396  0.023089   \n41     (of, in)       (the)            0.059968            0.421277  0.044129   \n99    (of, was)       (the)            0.038534            0.421277  0.027187   \n51     (to, of)       (the)            0.058077            0.421277  0.040032   \n0          (of)       (the)            0.259023            0.421277  0.171316   \n\n     confidence       lift  leverage  conviction  \n132    0.904321  21.330545  0.022007   10.008511  \n41     0.735874   1.746771  0.018866    2.191087  \n99     0.705521   1.674723  0.010953    1.965248  \n51     0.689281   1.636172  0.015565    1.862529  \n0      0.661393   1.569974  0.062196    1.709132  ",
      "text/html": "<div>\n<style scoped>\n    .dataframe tbody tr th:only-of-type {\n        vertical-align: middle;\n    }\n\n    .dataframe tbody tr th {\n        vertical-align: top;\n    }\n\n    .dataframe thead th {\n        text-align: right;\n    }\n</style>\n<table border=\"1\" class=\"dataframe\">\n  <thead>\n    <tr style=\"text-align: right;\">\n      <th></th>\n      <th>antecedents</th>\n      <th>consequents</th>\n      <th>antecedent support</th>\n      <th>consequent support</th>\n      <th>support</th>\n      <th>confidence</th>\n      <th>lift</th>\n      <th>leverage</th>\n      <th>conviction</th>\n    </tr>\n  </thead>\n  <tbody>\n    <tr>\n      <th>132</th>\n      <td>(lorry)</td>\n      <td>(mr)</td>\n      <td>0.025532</td>\n      <td>0.042396</td>\n      <td>0.023089</td>\n      <td>0.904321</td>\n      <td>21.330545</td>\n      <td>0.022007</td>\n      <td>10.008511</td>\n    </tr>\n    <tr>\n      <th>41</th>\n      <td>(of, in)</td>\n      <td>(the)</td>\n      <td>0.059968</td>\n      <td>0.421277</td>\n      <td>0.044129</td>\n      <td>0.735874</td>\n      <td>1.746771</td>\n      <td>0.018866</td>\n      <td>2.191087</td>\n    </tr>\n    <tr>\n      <th>99</th>\n      <td>(of, was)</td>\n      <td>(the)</td>\n      <td>0.038534</td>\n      <td>0.421277</td>\n      <td>0.027187</td>\n      <td>0.705521</td>\n      <td>1.674723</td>\n      <td>0.010953</td>\n      <td>1.965248</td>\n    </tr>\n    <tr>\n      <th>51</th>\n      <td>(to, of)</td>\n      <td>(the)</td>\n      <td>0.058077</td>\n      <td>0.421277</td>\n      <td>0.040032</td>\n      <td>0.689281</td>\n      <td>1.636172</td>\n      <td>0.015565</td>\n      <td>1.862529</td>\n    </tr>\n    <tr>\n      <th>0</th>\n      <td>(of)</td>\n      <td>(the)</td>\n      <td>0.259023</td>\n      <td>0.421277</td>\n      <td>0.171316</td>\n      <td>0.661393</td>\n      <td>1.569974</td>\n      <td>0.062196</td>\n      <td>1.709132</td>\n    </tr>\n  </tbody>\n</table>\n</div>"
     },
     "execution_count": 26,
     "metadata": {},
     "output_type": "execute_result"
    }
   ],
   "source": [
    "book2_rules.sort_values(by=[\"confidence\"], ascending=False).head()"
   ],
   "metadata": {
    "collapsed": false,
    "pycharm": {
     "name": "#%%\n"
    }
   }
  },
  {
   "cell_type": "code",
   "execution_count": 27,
   "outputs": [
    {
     "data": {
      "text/plain": "    antecedents consequents  antecedent support  consequent support   support  \\\n149  (of, same)       (the)            0.027722            0.522363  0.027057   \n56       (same)       (the)            0.049604            0.522363  0.046426   \n71     (on, of)       (the)            0.051748            0.522363  0.040807   \n20     (of, in)       (the)            0.113994            0.522363  0.088268   \n106    (is, of)       (the)            0.041990            0.522363  0.032010   \n\n     confidence      lift  leverage  conviction  \n149    0.976000  1.868434  0.012576   19.901555  \n56     0.935917  1.791699  0.020514    7.453364  \n71     0.788571  1.509624  0.013776    2.259095  \n20     0.774319  1.482340  0.028722    2.116427  \n106    0.762324  1.459377  0.010076    2.009615  ",
      "text/html": "<div>\n<style scoped>\n    .dataframe tbody tr th:only-of-type {\n        vertical-align: middle;\n    }\n\n    .dataframe tbody tr th {\n        vertical-align: top;\n    }\n\n    .dataframe thead th {\n        text-align: right;\n    }\n</style>\n<table border=\"1\" class=\"dataframe\">\n  <thead>\n    <tr style=\"text-align: right;\">\n      <th></th>\n      <th>antecedents</th>\n      <th>consequents</th>\n      <th>antecedent support</th>\n      <th>consequent support</th>\n      <th>support</th>\n      <th>confidence</th>\n      <th>lift</th>\n      <th>leverage</th>\n      <th>conviction</th>\n    </tr>\n  </thead>\n  <tbody>\n    <tr>\n      <th>149</th>\n      <td>(of, same)</td>\n      <td>(the)</td>\n      <td>0.027722</td>\n      <td>0.522363</td>\n      <td>0.027057</td>\n      <td>0.976000</td>\n      <td>1.868434</td>\n      <td>0.012576</td>\n      <td>19.901555</td>\n    </tr>\n    <tr>\n      <th>56</th>\n      <td>(same)</td>\n      <td>(the)</td>\n      <td>0.049604</td>\n      <td>0.522363</td>\n      <td>0.046426</td>\n      <td>0.935917</td>\n      <td>1.791699</td>\n      <td>0.020514</td>\n      <td>7.453364</td>\n    </tr>\n    <tr>\n      <th>71</th>\n      <td>(on, of)</td>\n      <td>(the)</td>\n      <td>0.051748</td>\n      <td>0.522363</td>\n      <td>0.040807</td>\n      <td>0.788571</td>\n      <td>1.509624</td>\n      <td>0.013776</td>\n      <td>2.259095</td>\n    </tr>\n    <tr>\n      <th>20</th>\n      <td>(of, in)</td>\n      <td>(the)</td>\n      <td>0.113994</td>\n      <td>0.522363</td>\n      <td>0.088268</td>\n      <td>0.774319</td>\n      <td>1.482340</td>\n      <td>0.028722</td>\n      <td>2.116427</td>\n    </tr>\n    <tr>\n      <th>106</th>\n      <td>(is, of)</td>\n      <td>(the)</td>\n      <td>0.041990</td>\n      <td>0.522363</td>\n      <td>0.032010</td>\n      <td>0.762324</td>\n      <td>1.459377</td>\n      <td>0.010076</td>\n      <td>2.009615</td>\n    </tr>\n  </tbody>\n</table>\n</div>"
     },
     "execution_count": 27,
     "metadata": {},
     "output_type": "execute_result"
    }
   ],
   "source": [
    "book3_rules.sort_values(by=[\"confidence\"], ascending=False).head()"
   ],
   "metadata": {
    "collapsed": false,
    "pycharm": {
     "name": "#%%\n"
    }
   }
  },
  {
   "cell_type": "markdown",
   "source": [
    "When looking at the largest confidence sets we discover some differences between the words that are being used.\n",
    "There is a much higher confidence of [am] followed by [i] for the first book with a really interesting Lift value of 6.\n",
    " [Mr] followed by [Lorry] should have the largest confidence value. Which it does with the highest lift out of all the\n",
    " rules. The most suprising is Darwins uses in the third book. where [Same,Of] followed by [The] has a large confidence\n",
    " value.\n",
    "\n",
    "All of the looks at the association rules above show strong confidence values, and have interesting rules shown by\n",
    "the lift values being larger than 1. When filtering by lift values for the look at the interesting rules we see a lot of\n",
    "pronoun and article usage for the first two books. Lots of antecedents being followed by the consequents [The]."
   ],
   "metadata": {
    "collapsed": false,
    "pycharm": {
     "name": "#%% md\n"
    }
   }
  },
  {
   "cell_type": "markdown",
   "source": [
    "## Removing the Stop words.\n",
    "After looking at the frequent items and the association rules above it has become apparent that not too much can be taken\n",
    "away from the strong and interesting rules. For the most part, all of the results have given us strong relations between\n",
    "stop words. Theses are the words that are used most in the english language. It is for this reason that I have decided\n",
    " to remove all the Stop words to try and see if we can develop some more interesting rules that give us more meaning to\n",
    " the association rules. After giving this the first run, I have decided to add [mrs, mr, sir, miss] to the stop list words.\n",
    " [S,T] is getting taken out because all punctuation has been removed ['] and show's a high correlation when conducting\n",
    " analysis."
   ],
   "metadata": {
    "collapsed": false,
    "pycharm": {
     "name": "#%% md\n"
    }
   }
  },
  {
   "cell_type": "code",
   "execution_count": 28,
   "outputs": [],
   "source": [
    "# Importing the ENGLISH_STOP_WORDS\n",
    "from sklearn.feature_extraction.text import ENGLISH_STOP_WORDS\n",
    "\n",
    "def remove_stop_words(book):\n",
    "    \"\"\"This function goes through and removes the stop words from the list\"\"\"\n",
    "    additional_stop_words = ['mrs','mr','s','t','sir','miss']  # Adding additional words to remove from the stop words\n",
    "    stop_words = ENGLISH_STOP_WORDS.union(additional_stop_words)\n",
    "    new_book = []\n",
    "    for line in book:\n",
    "        new_book.append([word for word in line if word not in stop_words])\n",
    "    return new_book"
   ],
   "metadata": {
    "collapsed": false,
    "pycharm": {
     "name": "#%%\n"
    }
   }
  },
  {
   "cell_type": "code",
   "execution_count": 29,
   "outputs": [],
   "source": [
    "# Removing all the stop words from the books\n",
    "new_book1 = remove_stop_words(book1)\n",
    "new_book2 = remove_stop_words(book2)\n",
    "new_book3 = remove_stop_words(book3)"
   ],
   "metadata": {
    "collapsed": false,
    "pycharm": {
     "name": "#%%\n"
    }
   }
  },
  {
   "cell_type": "code",
   "execution_count": 30,
   "outputs": [],
   "source": [
    "# Sending off the new_books to get 1 hot boolean for setup on apriori\n",
    "new_book1_df = transact_1_hot(new_book1)\n",
    "new_book2_df = transact_1_hot(new_book2)\n",
    "new_book3_df = transact_1_hot(new_book3)"
   ],
   "metadata": {
    "collapsed": false,
    "pycharm": {
     "name": "#%%\n"
    }
   }
  },
  {
   "cell_type": "code",
   "execution_count": 31,
   "outputs": [],
   "source": [
    "# Sending off new books to look at the association rules and frequent items now that the stop words have been removed\n",
    "new_book1_rules, new_book1_freq_items = run_apriori(new_book1_df)\n",
    "new_book2_rules, new_book2_freq_items = run_apriori(new_book2_df)\n",
    "new_book3_rules, new_book3_freq_items = run_apriori(new_book3_df)"
   ],
   "metadata": {
    "collapsed": false,
    "pycharm": {
     "name": "#%%\n"
    }
   }
  },
  {
   "cell_type": "markdown",
   "source": [
    "### 1-itemset Frequent Words (With Stop words removed)\n",
    "The five most common one words for every book now that stop words have been removed. With min_support at .02 and\n",
    "min_confidence at .2"
   ],
   "metadata": {
    "collapsed": false
   }
  },
  {
   "cell_type": "code",
   "execution_count": 32,
   "outputs": [
    {
     "data": {
      "text/plain": "    support    itemsets  length\n1  0.057801    (elinor)       1\n2  0.046457  (marianne)       1\n4  0.032862      (said)       1\n5  0.021878    (sister)       1\n0  0.020978    (edward)       1",
      "text/html": "<div>\n<style scoped>\n    .dataframe tbody tr th:only-of-type {\n        vertical-align: middle;\n    }\n\n    .dataframe tbody tr th {\n        vertical-align: top;\n    }\n\n    .dataframe thead th {\n        text-align: right;\n    }\n</style>\n<table border=\"1\" class=\"dataframe\">\n  <thead>\n    <tr style=\"text-align: right;\">\n      <th></th>\n      <th>support</th>\n      <th>itemsets</th>\n      <th>length</th>\n    </tr>\n  </thead>\n  <tbody>\n    <tr>\n      <th>1</th>\n      <td>0.057801</td>\n      <td>(elinor)</td>\n      <td>1</td>\n    </tr>\n    <tr>\n      <th>2</th>\n      <td>0.046457</td>\n      <td>(marianne)</td>\n      <td>1</td>\n    </tr>\n    <tr>\n      <th>4</th>\n      <td>0.032862</td>\n      <td>(said)</td>\n      <td>1</td>\n    </tr>\n    <tr>\n      <th>5</th>\n      <td>0.021878</td>\n      <td>(sister)</td>\n      <td>1</td>\n    </tr>\n    <tr>\n      <th>0</th>\n      <td>0.020978</td>\n      <td>(edward)</td>\n      <td>1</td>\n    </tr>\n  </tbody>\n</table>\n</div>"
     },
     "execution_count": 32,
     "metadata": {},
     "output_type": "execute_result"
    }
   ],
   "source": [
    "new_book1_freq_items_1 = filter_freq_items(new_book1_freq_items)\n",
    "new_book1_freq_items_1.head()"
   ],
   "metadata": {
    "collapsed": false,
    "pycharm": {
     "name": "#%%\n"
    }
   }
  },
  {
   "cell_type": "code",
   "execution_count": 33,
   "outputs": [
    {
     "data": {
      "text/plain": "    support itemsets  length\n2  0.047203   (said)       1\n0  0.025532  (lorry)       1\n1  0.021198    (man)       1",
      "text/html": "<div>\n<style scoped>\n    .dataframe tbody tr th:only-of-type {\n        vertical-align: middle;\n    }\n\n    .dataframe tbody tr th {\n        vertical-align: top;\n    }\n\n    .dataframe thead th {\n        text-align: right;\n    }\n</style>\n<table border=\"1\" class=\"dataframe\">\n  <thead>\n    <tr style=\"text-align: right;\">\n      <th></th>\n      <th>support</th>\n      <th>itemsets</th>\n      <th>length</th>\n    </tr>\n  </thead>\n  <tbody>\n    <tr>\n      <th>2</th>\n      <td>0.047203</td>\n      <td>(said)</td>\n      <td>1</td>\n    </tr>\n    <tr>\n      <th>0</th>\n      <td>0.025532</td>\n      <td>(lorry)</td>\n      <td>1</td>\n    </tr>\n    <tr>\n      <th>1</th>\n      <td>0.021198</td>\n      <td>(man)</td>\n      <td>1</td>\n    </tr>\n  </tbody>\n</table>\n</div>"
     },
     "execution_count": 33,
     "metadata": {},
     "output_type": "execute_result"
    }
   ],
   "source": [
    "new_book2_freq_items_1 = filter_freq_items(new_book2_freq_items)\n",
    "new_book2_freq_items_1.head()"
   ],
   "metadata": {
    "collapsed": false,
    "pycharm": {
     "name": "#%%\n"
    }
   }
  },
  {
   "cell_type": "code",
   "execution_count": 34,
   "outputs": [
    {
     "data": {
      "text/plain": "    support     itemsets  length\n6  0.094773    (species)       1\n7  0.027722  (varieties)       1\n2  0.026022      (forms)       1\n5  0.024691  (selection)       1\n3  0.023287    (natural)       1",
      "text/html": "<div>\n<style scoped>\n    .dataframe tbody tr th:only-of-type {\n        vertical-align: middle;\n    }\n\n    .dataframe tbody tr th {\n        vertical-align: top;\n    }\n\n    .dataframe thead th {\n        text-align: right;\n    }\n</style>\n<table border=\"1\" class=\"dataframe\">\n  <thead>\n    <tr style=\"text-align: right;\">\n      <th></th>\n      <th>support</th>\n      <th>itemsets</th>\n      <th>length</th>\n    </tr>\n  </thead>\n  <tbody>\n    <tr>\n      <th>6</th>\n      <td>0.094773</td>\n      <td>(species)</td>\n      <td>1</td>\n    </tr>\n    <tr>\n      <th>7</th>\n      <td>0.027722</td>\n      <td>(varieties)</td>\n      <td>1</td>\n    </tr>\n    <tr>\n      <th>2</th>\n      <td>0.026022</td>\n      <td>(forms)</td>\n      <td>1</td>\n    </tr>\n    <tr>\n      <th>5</th>\n      <td>0.024691</td>\n      <td>(selection)</td>\n      <td>1</td>\n    </tr>\n    <tr>\n      <th>3</th>\n      <td>0.023287</td>\n      <td>(natural)</td>\n      <td>1</td>\n    </tr>\n  </tbody>\n</table>\n</div>"
     },
     "execution_count": 34,
     "metadata": {},
     "output_type": "execute_result"
    }
   ],
   "source": [
    "new_book3_freq_items_1 = filter_freq_items(new_book3_freq_items)\n",
    "new_book3_freq_items_1.head()"
   ],
   "metadata": {
    "collapsed": false,
    "pycharm": {
     "name": "#%%\n"
    }
   }
  },
  {
   "cell_type": "markdown",
   "source": [
    "Now that all of the Stop words have been removed we can see significant changes to the 1-itemset frequent words.\n",
    "The only word that is similar is the word [said] between book1 and book2. Darwin however speaks a lot more with scientific\n",
    "words. There are only three words that are above the .02 level of support for book2. Book1 and Book2 are focused more around\n",
    "the difference characters \"saying\" different words."
   ],
   "metadata": {
    "collapsed": false,
    "pycharm": {
     "name": "#%% md\n"
    }
   }
  },
  {
   "cell_type": "markdown",
   "source": [
    "### 2-itemset Frequent Words (With Stop words removed)"
   ],
   "metadata": {
    "collapsed": false,
    "pycharm": {
     "name": "#%% md\n"
    }
   }
  },
  {
   "cell_type": "code",
   "execution_count": 35,
   "outputs": [
    {
     "data": {
      "text/plain": "Empty DataFrame\nColumns: [support, itemsets, length]\nIndex: []",
      "text/html": "<div>\n<style scoped>\n    .dataframe tbody tr th:only-of-type {\n        vertical-align: middle;\n    }\n\n    .dataframe tbody tr th {\n        vertical-align: top;\n    }\n\n    .dataframe thead th {\n        text-align: right;\n    }\n</style>\n<table border=\"1\" class=\"dataframe\">\n  <thead>\n    <tr style=\"text-align: right;\">\n      <th></th>\n      <th>support</th>\n      <th>itemsets</th>\n      <th>length</th>\n    </tr>\n  </thead>\n  <tbody>\n  </tbody>\n</table>\n</div>"
     },
     "execution_count": 35,
     "metadata": {},
     "output_type": "execute_result"
    }
   ],
   "source": [
    "new_book1_freq_items_2 = filter_freq_items(new_book1_freq_items,2)\n",
    "new_book1_freq_items_2.head()"
   ],
   "metadata": {
    "collapsed": false,
    "pycharm": {
     "name": "#%%\n"
    }
   }
  },
  {
   "cell_type": "code",
   "execution_count": 36,
   "outputs": [
    {
     "data": {
      "text/plain": "Empty DataFrame\nColumns: [support, itemsets, length]\nIndex: []",
      "text/html": "<div>\n<style scoped>\n    .dataframe tbody tr th:only-of-type {\n        vertical-align: middle;\n    }\n\n    .dataframe tbody tr th {\n        vertical-align: top;\n    }\n\n    .dataframe thead th {\n        text-align: right;\n    }\n</style>\n<table border=\"1\" class=\"dataframe\">\n  <thead>\n    <tr style=\"text-align: right;\">\n      <th></th>\n      <th>support</th>\n      <th>itemsets</th>\n      <th>length</th>\n    </tr>\n  </thead>\n  <tbody>\n  </tbody>\n</table>\n</div>"
     },
     "execution_count": 36,
     "metadata": {},
     "output_type": "execute_result"
    }
   ],
   "source": [
    "new_book2_freq_items_2 = filter_freq_items(new_book2_freq_items,2)\n",
    "new_book2_freq_items_2.head()"
   ],
   "metadata": {
    "collapsed": false,
    "pycharm": {
     "name": "#%%\n"
    }
   }
  },
  {
   "cell_type": "code",
   "execution_count": 37,
   "outputs": [
    {
     "data": {
      "text/plain": "Empty DataFrame\nColumns: [support, itemsets, length]\nIndex: []",
      "text/html": "<div>\n<style scoped>\n    .dataframe tbody tr th:only-of-type {\n        vertical-align: middle;\n    }\n\n    .dataframe tbody tr th {\n        vertical-align: top;\n    }\n\n    .dataframe thead th {\n        text-align: right;\n    }\n</style>\n<table border=\"1\" class=\"dataframe\">\n  <thead>\n    <tr style=\"text-align: right;\">\n      <th></th>\n      <th>support</th>\n      <th>itemsets</th>\n      <th>length</th>\n    </tr>\n  </thead>\n  <tbody>\n  </tbody>\n</table>\n</div>"
     },
     "execution_count": 37,
     "metadata": {},
     "output_type": "execute_result"
    }
   ],
   "source": [
    "new_book3_freq_items_2 = filter_freq_items(new_book3_freq_items,2)\n",
    "new_book3_freq_items_2.head()"
   ],
   "metadata": {
    "collapsed": false,
    "pycharm": {
     "name": "#%%\n"
    }
   }
  },
  {
   "cell_type": "markdown",
   "source": [
    "There are two 2-itemset Frequent Words that appear when the min-support is set at 0.02 and min-confidence is at .2.\n",
    "To look into this further I will set the min_support to .01  and min_confidence at .1 and see if any frequent itemsets\n",
    "appear."
   ],
   "metadata": {
    "collapsed": false,
    "pycharm": {
     "name": "#%% md\n"
    }
   }
  },
  {
   "cell_type": "code",
   "execution_count": 38,
   "outputs": [],
   "source": [
    "# Changing the min_support to 0.01 and min_confidence to .1\n",
    "new_book1_rules_min_01, new_book1_freq_items_min_01 = run_apriori(new_book1_df,\n",
    "                                                                  min_support_feed=.01,\n",
    "                                                                  min_threshold_feed=.1)\n",
    "new_book2_rules_min_01, new_book2_freq_items_min_01 = run_apriori(new_book2_df,\n",
    "                                                                  min_support_feed=.01,\n",
    "                                                                  min_threshold_feed=.1)\n",
    "new_book3_rules_min_01, new_book3_freq_items_min_01 = run_apriori(new_book3_df,\n",
    "                                                                  min_support_feed=.01,\n",
    "                                                                  min_threshold_feed=.1)"
   ],
   "metadata": {
    "collapsed": false,
    "pycharm": {
     "name": "#%%\n"
    }
   }
  },
  {
   "cell_type": "code",
   "execution_count": 39,
   "outputs": [
    {
     "data": {
      "text/plain": "     support            itemsets  length\n31  0.010444  (brandon, colonel)       2",
      "text/html": "<div>\n<style scoped>\n    .dataframe tbody tr th:only-of-type {\n        vertical-align: middle;\n    }\n\n    .dataframe tbody tr th {\n        vertical-align: top;\n    }\n\n    .dataframe thead th {\n        text-align: right;\n    }\n</style>\n<table border=\"1\" class=\"dataframe\">\n  <thead>\n    <tr style=\"text-align: right;\">\n      <th></th>\n      <th>support</th>\n      <th>itemsets</th>\n      <th>length</th>\n    </tr>\n  </thead>\n  <tbody>\n    <tr>\n      <th>31</th>\n      <td>0.010444</td>\n      <td>(brandon, colonel)</td>\n      <td>2</td>\n    </tr>\n  </tbody>\n</table>\n</div>"
     },
     "execution_count": 39,
     "metadata": {},
     "output_type": "execute_result"
    }
   ],
   "source": [
    "new_book1_freq_items_2_min_01 = filter_freq_items(new_book1_freq_items_min_01,2)\n",
    "new_book1_freq_items_2_min_01.head()"
   ],
   "metadata": {
    "collapsed": false,
    "pycharm": {
     "name": "#%%\n"
    }
   }
  },
  {
   "cell_type": "code",
   "execution_count": 40,
   "outputs": [
    {
     "data": {
      "text/plain": "Empty DataFrame\nColumns: [support, itemsets, length]\nIndex: []",
      "text/html": "<div>\n<style scoped>\n    .dataframe tbody tr th:only-of-type {\n        vertical-align: middle;\n    }\n\n    .dataframe tbody tr th {\n        vertical-align: top;\n    }\n\n    .dataframe thead th {\n        text-align: right;\n    }\n</style>\n<table border=\"1\" class=\"dataframe\">\n  <thead>\n    <tr style=\"text-align: right;\">\n      <th></th>\n      <th>support</th>\n      <th>itemsets</th>\n      <th>length</th>\n    </tr>\n  </thead>\n  <tbody>\n  </tbody>\n</table>\n</div>"
     },
     "execution_count": 40,
     "metadata": {},
     "output_type": "execute_result"
    }
   ],
   "source": [
    "new_book2_freq_items_2_min_01 = filter_freq_items(new_book2_freq_items_min_01,2)\n",
    "new_book2_freq_items_2_min_01.head()"
   ],
   "metadata": {
    "collapsed": false,
    "pycharm": {
     "name": "#%%\n"
    }
   }
  },
  {
   "cell_type": "code",
   "execution_count": 41,
   "outputs": [
    {
     "data": {
      "text/plain": "    support              itemsets  length\n42  0.01619  (natural, selection)       2",
      "text/html": "<div>\n<style scoped>\n    .dataframe tbody tr th:only-of-type {\n        vertical-align: middle;\n    }\n\n    .dataframe tbody tr th {\n        vertical-align: top;\n    }\n\n    .dataframe thead th {\n        text-align: right;\n    }\n</style>\n<table border=\"1\" class=\"dataframe\">\n  <thead>\n    <tr style=\"text-align: right;\">\n      <th></th>\n      <th>support</th>\n      <th>itemsets</th>\n      <th>length</th>\n    </tr>\n  </thead>\n  <tbody>\n    <tr>\n      <th>42</th>\n      <td>0.01619</td>\n      <td>(natural, selection)</td>\n      <td>2</td>\n    </tr>\n  </tbody>\n</table>\n</div>"
     },
     "execution_count": 41,
     "metadata": {},
     "output_type": "execute_result"
    }
   ],
   "source": [
    "new_book3_freq_items_2_min_01 = filter_freq_items(new_book3_freq_items_min_01,2)\n",
    "new_book3_freq_items_2_min_01.head()"
   ],
   "metadata": {
    "collapsed": false,
    "pycharm": {
     "name": "#%%\n"
    }
   }
  },
  {
   "cell_type": "markdown",
   "source": [
    "When lowering the min_support book1 and book2 now show some more frequent 2-itemsets. Naturally these have lower\n",
    "support, but the frequent occurrences make sense. Book3 with natural selection and colonel brandon in book1. Because we\n",
    "notice that we loose the support here for 2-itemsets there really is no need to explore further into the association rules."
   ],
   "metadata": {
    "collapsed": false,
    "pycharm": {
     "name": "#%% md\n"
    }
   }
  },
  {
   "cell_type": "markdown",
   "source": [
    "### Association Rules (With Stop words removed)\n",
    "Now we will look first at the rules that are associated with a min_support=.02 and min_confidence=.2 and a lift\n",
    "above 1.1"
   ],
   "metadata": {
    "collapsed": false,
    "pycharm": {
     "name": "#%% md\n"
    }
   }
  },
  {
   "cell_type": "code",
   "execution_count": 42,
   "outputs": [
    {
     "data": {
      "text/plain": "Empty DataFrame\nColumns: [antecedents, consequents, antecedent support, consequent support, support, confidence, lift, leverage, conviction]\nIndex: []",
      "text/html": "<div>\n<style scoped>\n    .dataframe tbody tr th:only-of-type {\n        vertical-align: middle;\n    }\n\n    .dataframe tbody tr th {\n        vertical-align: top;\n    }\n\n    .dataframe thead th {\n        text-align: right;\n    }\n</style>\n<table border=\"1\" class=\"dataframe\">\n  <thead>\n    <tr style=\"text-align: right;\">\n      <th></th>\n      <th>antecedents</th>\n      <th>consequents</th>\n      <th>antecedent support</th>\n      <th>consequent support</th>\n      <th>support</th>\n      <th>confidence</th>\n      <th>lift</th>\n      <th>leverage</th>\n      <th>conviction</th>\n    </tr>\n  </thead>\n  <tbody>\n  </tbody>\n</table>\n</div>"
     },
     "execution_count": 42,
     "metadata": {},
     "output_type": "execute_result"
    }
   ],
   "source": [
    "new_book1_rules"
   ],
   "metadata": {
    "collapsed": false,
    "pycharm": {
     "name": "#%%\n"
    }
   }
  },
  {
   "cell_type": "code",
   "execution_count": 43,
   "outputs": [
    {
     "data": {
      "text/plain": "Empty DataFrame\nColumns: [antecedents, consequents, antecedent support, consequent support, support, confidence, lift, leverage, conviction]\nIndex: []",
      "text/html": "<div>\n<style scoped>\n    .dataframe tbody tr th:only-of-type {\n        vertical-align: middle;\n    }\n\n    .dataframe tbody tr th {\n        vertical-align: top;\n    }\n\n    .dataframe thead th {\n        text-align: right;\n    }\n</style>\n<table border=\"1\" class=\"dataframe\">\n  <thead>\n    <tr style=\"text-align: right;\">\n      <th></th>\n      <th>antecedents</th>\n      <th>consequents</th>\n      <th>antecedent support</th>\n      <th>consequent support</th>\n      <th>support</th>\n      <th>confidence</th>\n      <th>lift</th>\n      <th>leverage</th>\n      <th>conviction</th>\n    </tr>\n  </thead>\n  <tbody>\n  </tbody>\n</table>\n</div>"
     },
     "execution_count": 43,
     "metadata": {},
     "output_type": "execute_result"
    }
   ],
   "source": [
    "new_book2_rules"
   ],
   "metadata": {
    "collapsed": false,
    "pycharm": {
     "name": "#%%\n"
    }
   }
  },
  {
   "cell_type": "code",
   "execution_count": 44,
   "outputs": [
    {
     "data": {
      "text/plain": "Empty DataFrame\nColumns: [antecedents, consequents, antecedent support, consequent support, support, confidence, lift, leverage, conviction]\nIndex: []",
      "text/html": "<div>\n<style scoped>\n    .dataframe tbody tr th:only-of-type {\n        vertical-align: middle;\n    }\n\n    .dataframe tbody tr th {\n        vertical-align: top;\n    }\n\n    .dataframe thead th {\n        text-align: right;\n    }\n</style>\n<table border=\"1\" class=\"dataframe\">\n  <thead>\n    <tr style=\"text-align: right;\">\n      <th></th>\n      <th>antecedents</th>\n      <th>consequents</th>\n      <th>antecedent support</th>\n      <th>consequent support</th>\n      <th>support</th>\n      <th>confidence</th>\n      <th>lift</th>\n      <th>leverage</th>\n      <th>conviction</th>\n    </tr>\n  </thead>\n  <tbody>\n  </tbody>\n</table>\n</div>"
     },
     "execution_count": 44,
     "metadata": {},
     "output_type": "execute_result"
    }
   ],
   "source": [
    "new_book3_rules"
   ],
   "metadata": {
    "collapsed": false,
    "pycharm": {
     "name": "#%%\n"
    }
   }
  },
  {
   "cell_type": "markdown",
   "source": [
    "This first look gives us no rules that are particularly strong or interesting to investigate. It is for this reason that\n",
    "we will start going through and tinkering with the input values to see if we can find some more rules. Starting with the\n",
    "min_support at .01 and min_confidence at .1"
   ],
   "metadata": {
    "collapsed": false,
    "pycharm": {
     "name": "#%% md\n"
    }
   }
  },
  {
   "cell_type": "code",
   "execution_count": 45,
   "outputs": [
    {
     "data": {
      "text/plain": "  antecedents consequents  antecedent support  consequent support   support  \\\n1   (colonel)   (brandon)            0.014855            0.011614  0.010444   \n0   (brandon)   (colonel)            0.011614            0.014855  0.010444   \n\n   confidence       lift  leverage  conviction  \n1    0.703030  60.531454  0.010271    3.328238  \n0    0.899225  60.531454  0.010271    9.775665  ",
      "text/html": "<div>\n<style scoped>\n    .dataframe tbody tr th:only-of-type {\n        vertical-align: middle;\n    }\n\n    .dataframe tbody tr th {\n        vertical-align: top;\n    }\n\n    .dataframe thead th {\n        text-align: right;\n    }\n</style>\n<table border=\"1\" class=\"dataframe\">\n  <thead>\n    <tr style=\"text-align: right;\">\n      <th></th>\n      <th>antecedents</th>\n      <th>consequents</th>\n      <th>antecedent support</th>\n      <th>consequent support</th>\n      <th>support</th>\n      <th>confidence</th>\n      <th>lift</th>\n      <th>leverage</th>\n      <th>conviction</th>\n    </tr>\n  </thead>\n  <tbody>\n    <tr>\n      <th>1</th>\n      <td>(colonel)</td>\n      <td>(brandon)</td>\n      <td>0.014855</td>\n      <td>0.011614</td>\n      <td>0.010444</td>\n      <td>0.703030</td>\n      <td>60.531454</td>\n      <td>0.010271</td>\n      <td>3.328238</td>\n    </tr>\n    <tr>\n      <th>0</th>\n      <td>(brandon)</td>\n      <td>(colonel)</td>\n      <td>0.011614</td>\n      <td>0.014855</td>\n      <td>0.010444</td>\n      <td>0.899225</td>\n      <td>60.531454</td>\n      <td>0.010271</td>\n      <td>9.775665</td>\n    </tr>\n  </tbody>\n</table>\n</div>"
     },
     "execution_count": 45,
     "metadata": {},
     "output_type": "execute_result"
    }
   ],
   "source": [
    "new_book1_rules_min_01"
   ],
   "metadata": {
    "collapsed": false,
    "pycharm": {
     "name": "#%%\n"
    }
   }
  },
  {
   "cell_type": "code",
   "execution_count": 46,
   "outputs": [
    {
     "data": {
      "text/plain": "Empty DataFrame\nColumns: [antecedents, consequents, antecedent support, consequent support, support, confidence, lift, leverage, conviction]\nIndex: []",
      "text/html": "<div>\n<style scoped>\n    .dataframe tbody tr th:only-of-type {\n        vertical-align: middle;\n    }\n\n    .dataframe tbody tr th {\n        vertical-align: top;\n    }\n\n    .dataframe thead th {\n        text-align: right;\n    }\n</style>\n<table border=\"1\" class=\"dataframe\">\n  <thead>\n    <tr style=\"text-align: right;\">\n      <th></th>\n      <th>antecedents</th>\n      <th>consequents</th>\n      <th>antecedent support</th>\n      <th>consequent support</th>\n      <th>support</th>\n      <th>confidence</th>\n      <th>lift</th>\n      <th>leverage</th>\n      <th>conviction</th>\n    </tr>\n  </thead>\n  <tbody>\n  </tbody>\n</table>\n</div>"
     },
     "execution_count": 46,
     "metadata": {},
     "output_type": "execute_result"
    }
   ],
   "source": [
    "new_book2_rules_min_01"
   ],
   "metadata": {
    "collapsed": false,
    "pycharm": {
     "name": "#%%\n"
    }
   }
  },
  {
   "cell_type": "code",
   "execution_count": 47,
   "outputs": [
    {
     "data": {
      "text/plain": "   antecedents  consequents  antecedent support  consequent support  support  \\\n0    (natural)  (selection)            0.023287            0.024691  0.01619   \n1  (selection)    (natural)            0.024691            0.023287  0.01619   \n\n   confidence       lift  leverage  conviction  \n0    0.695238  28.157143  0.015615    3.200231  \n1    0.655689  28.157143  0.015615    2.836715  ",
      "text/html": "<div>\n<style scoped>\n    .dataframe tbody tr th:only-of-type {\n        vertical-align: middle;\n    }\n\n    .dataframe tbody tr th {\n        vertical-align: top;\n    }\n\n    .dataframe thead th {\n        text-align: right;\n    }\n</style>\n<table border=\"1\" class=\"dataframe\">\n  <thead>\n    <tr style=\"text-align: right;\">\n      <th></th>\n      <th>antecedents</th>\n      <th>consequents</th>\n      <th>antecedent support</th>\n      <th>consequent support</th>\n      <th>support</th>\n      <th>confidence</th>\n      <th>lift</th>\n      <th>leverage</th>\n      <th>conviction</th>\n    </tr>\n  </thead>\n  <tbody>\n    <tr>\n      <th>0</th>\n      <td>(natural)</td>\n      <td>(selection)</td>\n      <td>0.023287</td>\n      <td>0.024691</td>\n      <td>0.01619</td>\n      <td>0.695238</td>\n      <td>28.157143</td>\n      <td>0.015615</td>\n      <td>3.200231</td>\n    </tr>\n    <tr>\n      <th>1</th>\n      <td>(selection)</td>\n      <td>(natural)</td>\n      <td>0.024691</td>\n      <td>0.023287</td>\n      <td>0.01619</td>\n      <td>0.655689</td>\n      <td>28.157143</td>\n      <td>0.015615</td>\n      <td>2.836715</td>\n    </tr>\n  </tbody>\n</table>\n</div>"
     },
     "execution_count": 47,
     "metadata": {},
     "output_type": "execute_result"
    }
   ],
   "source": [
    "new_book3_rules_min_01"
   ],
   "metadata": {
    "collapsed": false,
    "pycharm": {
     "name": "#%%\n"
    }
   }
  },
  {
   "cell_type": "markdown",
   "source": [
    "The lift values show some very interesting rules. In book1 brandon is clearly a colonel with a huge lift value\n",
    "of over 60. And Darwin in book3 uses natural selection together with a huge lift value of 28"
   ],
   "metadata": {
    "collapsed": false,
    "pycharm": {
     "name": "#%% md\n"
    }
   }
  },
  {
   "cell_type": "markdown",
   "source": [
    "### Finding Association rules that have a lift of above 1.1 by lowering min_support to .005\n",
    "Because we are not finding many rules at min_support of .01 and min_confidence back  at .2 we will lower the min_support to\n",
    "0.005. Because theses are large books this should help us find more words that appear together and find more association\n",
    "rules. These words may not appear in every sentence. If this were a data sheet that was looking at items purchased\n",
    "together, it would be a bit different. Since they are books with sentences that vary lowering support makes the most\n",
    "sense. The Confidence will show us what words are used together. Lowering this value will not do us any good in finding\n",
    "strong rules."
   ],
   "metadata": {
    "collapsed": false,
    "pycharm": {
     "name": "#%% md\n"
    }
   }
  },
  {
   "cell_type": "code",
   "execution_count": 48,
   "outputs": [],
   "source": [
    "# Setting the min_support to .005\n",
    "new_book1_rules_min_005, new_book1_freq_items_min_005 = run_apriori(new_book1_df,\n",
    "                                                                  min_support_feed=.005,\n",
    "                                                                  min_threshold_feed=.2)\n",
    "new_book2_rules_min_005, new_book2_freq_items_min_005 = run_apriori(new_book2_df,\n",
    "                                                                  min_support_feed=.005,\n",
    "                                                                  min_threshold_feed=.2)\n",
    "new_book3_rules_min_005, new_book3_freq_items_min_005 = run_apriori(new_book3_df,\n",
    "                                                                  min_support_feed=.005,\n",
    "                                                                  min_threshold_feed=.2)"
   ],
   "metadata": {
    "collapsed": false,
    "pycharm": {
     "name": "#%%\n"
    }
   }
  },
  {
   "cell_type": "code",
   "execution_count": 49,
   "outputs": [
    {
     "data": {
      "text/plain": "   antecedents  consequents  antecedent support  consequent support   support  \\\n2       (lady)  (middleton)            0.012064            0.008643  0.007473   \n3  (middleton)       (lady)            0.008643            0.012064  0.007473   \n1    (colonel)    (brandon)            0.014855            0.011614  0.010444   \n0    (brandon)    (colonel)            0.011614            0.014855  0.010444   \n4       (said)     (elinor)            0.032862            0.057801  0.007113   \n\n   confidence       lift  leverage  conviction  \n2    0.619403  71.663635  0.007368    2.604741  \n3    0.864583  71.663635  0.007368    7.295524  \n1    0.703030  60.531454  0.010271    3.328238  \n0    0.899225  60.531454  0.010271    9.775665  \n4    0.216438   3.744518  0.005213    1.202456  ",
      "text/html": "<div>\n<style scoped>\n    .dataframe tbody tr th:only-of-type {\n        vertical-align: middle;\n    }\n\n    .dataframe tbody tr th {\n        vertical-align: top;\n    }\n\n    .dataframe thead th {\n        text-align: right;\n    }\n</style>\n<table border=\"1\" class=\"dataframe\">\n  <thead>\n    <tr style=\"text-align: right;\">\n      <th></th>\n      <th>antecedents</th>\n      <th>consequents</th>\n      <th>antecedent support</th>\n      <th>consequent support</th>\n      <th>support</th>\n      <th>confidence</th>\n      <th>lift</th>\n      <th>leverage</th>\n      <th>conviction</th>\n    </tr>\n  </thead>\n  <tbody>\n    <tr>\n      <th>2</th>\n      <td>(lady)</td>\n      <td>(middleton)</td>\n      <td>0.012064</td>\n      <td>0.008643</td>\n      <td>0.007473</td>\n      <td>0.619403</td>\n      <td>71.663635</td>\n      <td>0.007368</td>\n      <td>2.604741</td>\n    </tr>\n    <tr>\n      <th>3</th>\n      <td>(middleton)</td>\n      <td>(lady)</td>\n      <td>0.008643</td>\n      <td>0.012064</td>\n      <td>0.007473</td>\n      <td>0.864583</td>\n      <td>71.663635</td>\n      <td>0.007368</td>\n      <td>7.295524</td>\n    </tr>\n    <tr>\n      <th>1</th>\n      <td>(colonel)</td>\n      <td>(brandon)</td>\n      <td>0.014855</td>\n      <td>0.011614</td>\n      <td>0.010444</td>\n      <td>0.703030</td>\n      <td>60.531454</td>\n      <td>0.010271</td>\n      <td>3.328238</td>\n    </tr>\n    <tr>\n      <th>0</th>\n      <td>(brandon)</td>\n      <td>(colonel)</td>\n      <td>0.011614</td>\n      <td>0.014855</td>\n      <td>0.010444</td>\n      <td>0.899225</td>\n      <td>60.531454</td>\n      <td>0.010271</td>\n      <td>9.775665</td>\n    </tr>\n    <tr>\n      <th>4</th>\n      <td>(said)</td>\n      <td>(elinor)</td>\n      <td>0.032862</td>\n      <td>0.057801</td>\n      <td>0.007113</td>\n      <td>0.216438</td>\n      <td>3.744518</td>\n      <td>0.005213</td>\n      <td>1.202456</td>\n    </tr>\n  </tbody>\n</table>\n</div>"
     },
     "execution_count": 49,
     "metadata": {},
     "output_type": "execute_result"
    }
   ],
   "source": [
    "new_book1_rules_min_005"
   ],
   "metadata": {
    "collapsed": false,
    "pycharm": {
     "name": "#%%\n"
    }
   }
  },
  {
   "cell_type": "code",
   "execution_count": 50,
   "outputs": [
    {
     "data": {
      "text/plain": "  antecedents consequents  antecedent support  consequent support   support  \\\n0   (defarge)    (madame)            0.019307            0.013160  0.008353   \n1    (madame)   (defarge)            0.013160            0.019307  0.008353   \n2   (manette)    (doctor)            0.010954            0.015366  0.005280   \n3    (doctor)   (manette)            0.015366            0.010954  0.005280   \n\n   confidence       lift  leverage  conviction  \n0    0.432653  32.876451  0.008099    1.739394  \n1    0.634731  32.876451  0.008099    2.684849  \n2    0.482014  31.368013  0.005111    1.900890  \n3    0.343590  31.368013  0.005111    1.506751  ",
      "text/html": "<div>\n<style scoped>\n    .dataframe tbody tr th:only-of-type {\n        vertical-align: middle;\n    }\n\n    .dataframe tbody tr th {\n        vertical-align: top;\n    }\n\n    .dataframe thead th {\n        text-align: right;\n    }\n</style>\n<table border=\"1\" class=\"dataframe\">\n  <thead>\n    <tr style=\"text-align: right;\">\n      <th></th>\n      <th>antecedents</th>\n      <th>consequents</th>\n      <th>antecedent support</th>\n      <th>consequent support</th>\n      <th>support</th>\n      <th>confidence</th>\n      <th>lift</th>\n      <th>leverage</th>\n      <th>conviction</th>\n    </tr>\n  </thead>\n  <tbody>\n    <tr>\n      <th>0</th>\n      <td>(defarge)</td>\n      <td>(madame)</td>\n      <td>0.019307</td>\n      <td>0.013160</td>\n      <td>0.008353</td>\n      <td>0.432653</td>\n      <td>32.876451</td>\n      <td>0.008099</td>\n      <td>1.739394</td>\n    </tr>\n    <tr>\n      <th>1</th>\n      <td>(madame)</td>\n      <td>(defarge)</td>\n      <td>0.013160</td>\n      <td>0.019307</td>\n      <td>0.008353</td>\n      <td>0.634731</td>\n      <td>32.876451</td>\n      <td>0.008099</td>\n      <td>2.684849</td>\n    </tr>\n    <tr>\n      <th>2</th>\n      <td>(manette)</td>\n      <td>(doctor)</td>\n      <td>0.010954</td>\n      <td>0.015366</td>\n      <td>0.005280</td>\n      <td>0.482014</td>\n      <td>31.368013</td>\n      <td>0.005111</td>\n      <td>1.900890</td>\n    </tr>\n    <tr>\n      <th>3</th>\n      <td>(doctor)</td>\n      <td>(manette)</td>\n      <td>0.015366</td>\n      <td>0.010954</td>\n      <td>0.005280</td>\n      <td>0.343590</td>\n      <td>31.368013</td>\n      <td>0.005111</td>\n      <td>1.506751</td>\n    </tr>\n  </tbody>\n</table>\n</div>"
     },
     "execution_count": 50,
     "metadata": {},
     "output_type": "execute_result"
    }
   ],
   "source": [
    "new_book2_rules_min_005"
   ],
   "metadata": {
    "collapsed": false,
    "pycharm": {
     "name": "#%%\n"
    }
   }
  },
  {
   "cell_type": "code",
   "execution_count": 51,
   "outputs": [
    {
     "data": {
      "text/plain": "    antecedents   consequents  antecedent support  consequent support  \\\n6     (organic)      (beings)            0.009536            0.008058   \n7      (beings)     (organic)            0.008058            0.009536   \n0     (natural)   (selection)            0.023287            0.024691   \n1   (selection)     (natural)            0.024691            0.023287   \n4        (life)  (conditions)            0.019221            0.014859   \n3  (conditions)        (life)            0.014859            0.019221   \n8       (genus)     (species)            0.008871            0.094773   \n9      (genera)     (species)            0.013159            0.094773   \n5    (distinct)     (species)            0.015303            0.094773   \n2   (varieties)     (species)            0.027722            0.094773   \n\n    support  confidence       lift  leverage  conviction  \n6  0.005544    0.581395  72.151696  0.005468    2.369639  \n7  0.005544    0.688073  72.151696  0.005468    3.175310  \n0  0.016190    0.695238  28.157143  0.015615    3.200231  \n1  0.016190    0.655689  28.157143  0.015615    2.836715  \n4  0.006432    0.334615  22.519116  0.006146    1.480558  \n3  0.006432    0.432836  22.519116  0.006146    1.729269  \n8  0.005397    0.608333   6.418818  0.004556    2.311217  \n9  0.005249    0.398876   4.208737  0.004002    1.505891  \n5  0.005766    0.376812   3.975921  0.004316    1.452573  \n2  0.007467    0.269333   2.841866  0.004839    1.238905  ",
      "text/html": "<div>\n<style scoped>\n    .dataframe tbody tr th:only-of-type {\n        vertical-align: middle;\n    }\n\n    .dataframe tbody tr th {\n        vertical-align: top;\n    }\n\n    .dataframe thead th {\n        text-align: right;\n    }\n</style>\n<table border=\"1\" class=\"dataframe\">\n  <thead>\n    <tr style=\"text-align: right;\">\n      <th></th>\n      <th>antecedents</th>\n      <th>consequents</th>\n      <th>antecedent support</th>\n      <th>consequent support</th>\n      <th>support</th>\n      <th>confidence</th>\n      <th>lift</th>\n      <th>leverage</th>\n      <th>conviction</th>\n    </tr>\n  </thead>\n  <tbody>\n    <tr>\n      <th>6</th>\n      <td>(organic)</td>\n      <td>(beings)</td>\n      <td>0.009536</td>\n      <td>0.008058</td>\n      <td>0.005544</td>\n      <td>0.581395</td>\n      <td>72.151696</td>\n      <td>0.005468</td>\n      <td>2.369639</td>\n    </tr>\n    <tr>\n      <th>7</th>\n      <td>(beings)</td>\n      <td>(organic)</td>\n      <td>0.008058</td>\n      <td>0.009536</td>\n      <td>0.005544</td>\n      <td>0.688073</td>\n      <td>72.151696</td>\n      <td>0.005468</td>\n      <td>3.175310</td>\n    </tr>\n    <tr>\n      <th>0</th>\n      <td>(natural)</td>\n      <td>(selection)</td>\n      <td>0.023287</td>\n      <td>0.024691</td>\n      <td>0.016190</td>\n      <td>0.695238</td>\n      <td>28.157143</td>\n      <td>0.015615</td>\n      <td>3.200231</td>\n    </tr>\n    <tr>\n      <th>1</th>\n      <td>(selection)</td>\n      <td>(natural)</td>\n      <td>0.024691</td>\n      <td>0.023287</td>\n      <td>0.016190</td>\n      <td>0.655689</td>\n      <td>28.157143</td>\n      <td>0.015615</td>\n      <td>2.836715</td>\n    </tr>\n    <tr>\n      <th>4</th>\n      <td>(life)</td>\n      <td>(conditions)</td>\n      <td>0.019221</td>\n      <td>0.014859</td>\n      <td>0.006432</td>\n      <td>0.334615</td>\n      <td>22.519116</td>\n      <td>0.006146</td>\n      <td>1.480558</td>\n    </tr>\n    <tr>\n      <th>3</th>\n      <td>(conditions)</td>\n      <td>(life)</td>\n      <td>0.014859</td>\n      <td>0.019221</td>\n      <td>0.006432</td>\n      <td>0.432836</td>\n      <td>22.519116</td>\n      <td>0.006146</td>\n      <td>1.729269</td>\n    </tr>\n    <tr>\n      <th>8</th>\n      <td>(genus)</td>\n      <td>(species)</td>\n      <td>0.008871</td>\n      <td>0.094773</td>\n      <td>0.005397</td>\n      <td>0.608333</td>\n      <td>6.418818</td>\n      <td>0.004556</td>\n      <td>2.311217</td>\n    </tr>\n    <tr>\n      <th>9</th>\n      <td>(genera)</td>\n      <td>(species)</td>\n      <td>0.013159</td>\n      <td>0.094773</td>\n      <td>0.005249</td>\n      <td>0.398876</td>\n      <td>4.208737</td>\n      <td>0.004002</td>\n      <td>1.505891</td>\n    </tr>\n    <tr>\n      <th>5</th>\n      <td>(distinct)</td>\n      <td>(species)</td>\n      <td>0.015303</td>\n      <td>0.094773</td>\n      <td>0.005766</td>\n      <td>0.376812</td>\n      <td>3.975921</td>\n      <td>0.004316</td>\n      <td>1.452573</td>\n    </tr>\n    <tr>\n      <th>2</th>\n      <td>(varieties)</td>\n      <td>(species)</td>\n      <td>0.027722</td>\n      <td>0.094773</td>\n      <td>0.007467</td>\n      <td>0.269333</td>\n      <td>2.841866</td>\n      <td>0.004839</td>\n      <td>1.238905</td>\n    </tr>\n  </tbody>\n</table>\n</div>"
     },
     "execution_count": 51,
     "metadata": {},
     "output_type": "execute_result"
    }
   ],
   "source": [
    "new_book3_rules_min_005"
   ],
   "metadata": {
    "collapsed": false,
    "pycharm": {
     "name": "#%%\n"
    }
   }
  },
  {
   "cell_type": "markdown",
   "source": [
    "Now we finally have some strong and interesting words that we can look at. And the processes of which that we can go\n",
    "through to find such strong interesting rules. First lets talk about these rules.\n",
    "\n",
    "Book1: There is clearly a \"lady middleton\" and \"Colonel Brandon\". The strong lift values indicate that\n",
    "these two words appear together a lot. Looking at the conviction shows us that the probability of middleton appearing\n",
    "without lady, and brandon appearing without colonel is higher. Although I have not read the book, this makes sense.\n",
    "The author probably does not always say lady middleton or Colonel brandon everytime, but rather middleton or brandon.\n",
    "Either way these association rules help us indicate that there is a lady middleton and a colonel. Lastly,\n",
    "it looks like elinor said a lot of things throughout the book. Or at least the word elinor and said appear together\n",
    "with a lift value of 3.744. This is interesting.\n",
    "\n",
    "Book2: madame degrage, and doctor manette are two main characters. They have high lift values showing us that the two\n",
    "characters a madame and a doctor.\n",
    "\n",
    "Book3: \"organic beings\", \"natural selection,\" and \"life conditions\" are clearly things that Darwin talks about a lot\n",
    "within his book. This super interesting, they have really high lift values and are strong rules with large confidence\n",
    "rules. The same goes for talking about genus species, distinct species and the varieties of species. All things that we\n",
    "would expect to be in this book."
   ],
   "metadata": {
    "collapsed": false,
    "pycharm": {
     "name": "#%% md\n"
    }
   }
  },
  {
   "cell_type": "markdown",
   "source": [
    "### Final Remarks\n",
    "This has been a fun exercise in looking using the apriori algorithm to look at the contents of three different books.\n",
    "Throughout the processes we looked at the books with stop words that were included. If we were to compare these books to\n",
    "a book in 2020 we might be able to see the difference in stop word usage. However, the three books were written in the same\n",
    "century.\n",
    "\n",
    "To make the data look a bit more meaningful we had to remove the stop words and ['mrs','mr','s','t','sir','miss']. When\n",
    " this occurred we lost a lot of the association rules. The reason being is that we were looking at text books.\n",
    " Not every one of the words is going to appear in every sentence. By lowering the min_support, we were able to find\n",
    "  more words that appeared together. In book1 & 2 this left use with more interesting characters such as colonel brandon\n",
    "  and madame defarge. I'm positive if we left in the titles we would have seen more characters, but on the otherhand\n",
    "  I was stripping out the title's to try and see if I could find more meaningful rules such as \"elinor said\". Book3 did\n",
    "  not offer as many of these problems because darwin was talking about different species and organic beings. But we\n",
    "  could continue the mining processes to see if we could find different meaningful associations rather than words\n",
    "  that are used together to describe something. T and S were taken out because the data alread had \"'\" removed. And just\n",
    "  seeing possessions associated with other words was as much interest to me.\n",
    "\n",
    "The main things that were looked at was the lift. With a lift greater than 1.1 we were determining if the rules were\n",
    "interesting. The Support values showed us how often these words appeared. and the confidence showed how confident we\n",
    "are that the word appeared together. Conviction shows us the probability of x occuring without y.\n",
    "\n",
    "\n",
    "\n",
    "\n"
   ],
   "metadata": {
    "collapsed": false,
    "pycharm": {
     "name": "#%% md\n"
    }
   }
  }
 ],
 "metadata": {
  "kernelspec": {
   "name": "pycharm-865e1948",
   "language": "python",
   "display_name": "PyCharm (GITHUB_REPOSITORY)"
  },
  "language_info": {
   "codemirror_mode": {
    "name": "ipython",
    "version": 2
   },
   "file_extension": ".py",
   "mimetype": "text/x-python",
   "name": "python",
   "nbconvert_exporter": "python",
   "pygments_lexer": "ipython2",
   "version": "2.7.6"
  }
 },
 "nbformat": 4,
 "nbformat_minor": 0
}