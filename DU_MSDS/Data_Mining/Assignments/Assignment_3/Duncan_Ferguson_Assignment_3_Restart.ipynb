{
 "cells": [
  {
   "cell_type": "markdown",
   "metadata": {
    "collapsed": true,
    "pycharm": {
     "name": "#%% md\n"
    }
   },
   "source": [
    "Student: Duncan Ferguson <br>\n",
    "Student Id: 871641260 <br>\n",
    "Class: Comp 4431-1 <br>\n",
    "Assignment: Assignment 3 <br>\n",
    "Date: 11/20/2021 <br>\n",
    "\n",
    "You are to apply the following techniques to mine this data set:\n",
    "\n",
    "- Association Rules\n",
    "- Decision tree Classification\n",
    "- Naive Bayes Classification\n",
    "- kmeans and dbscan clustering\n",
    "\n",
    "Also, you are to use Principle Component Analysis to reduce the number of attributes (aka features)\n",
    "\n",
    "Please answer the following questions:\n",
    "\n",
    "1. What can you deduce from the data set? (in otherwords, what attribute values are indicative of \"success\")\n",
    "2. Which mining techniques yielded the best results for what? How do you define \"best results\"?\n",
    "3. How usefule was Principle Component Analysis? For what number of components did you get the \"best results.\"\n",
    "\n",
    "Please include tables and/or graphs to justify your statements about which are best.\n",
    "\n",
    "Note: While numeric data is desired for classification/clustering, you need strings that look like market basket data\n",
    "(sets of item names) for Association Rules. Numeric data can be grouped into names like \"lowValue, midValue, midValue,\n",
    " mediumHighValue, highValue\" etc. See the following code for possible way of doing this (not necessarily the best):\n",
    "\n",
    "What to turn in:\n",
    "- A pdf file with the answers to these three questions\n",
    "- Your code used to answer these questions"
   ]
  },
  {
   "cell_type": "markdown",
   "source": [
    "Main Imports are below"
   ],
   "metadata": {
    "collapsed": false,
    "pycharm": {
     "name": "#%% md\n"
    }
   }
  },
  {
   "cell_type": "code",
   "execution_count": 12,
   "outputs": [],
   "source": [
    "# Importing Standard Libraries\n",
    "import pandas as pd\n",
    "import numpy as np\n",
    "from csv import reader\n",
    "\n",
    "# Sklearn Libraries\n",
    "from sklearn import tree\n",
    "from sklearn.model_selection import train_test_split\n",
    "from sklearn.metrics import *\n",
    "from sklearn.naive_bayes import *\n",
    "from sklearn.cluster import KMeans, DBSCAN\n",
    "from sklearn import preprocessing\n",
    "from sklearn.preprocessing import StandardScaler\n",
    "\n",
    "# Importing mlxtend Libraries\n",
    "from mlxtend.frequent_patterns import apriori, association_rules\n",
    "from mlxtend.preprocessing import TransactionEncoder\n",
    "\n",
    "# Graphing Libraries\n",
    "import matplotlib.pyplot as plt\n",
    "import seaborn as sns"
   ],
   "metadata": {
    "collapsed": false,
    "pycharm": {
     "name": "#%%\n"
    }
   }
  },
  {
   "cell_type": "code",
   "execution_count": 13,
   "outputs": [],
   "source": [
    "# Setting up view options\n",
    "pd.set_option('display.max_columns', None)\n",
    "pd.set_option('max_columns', None)\n",
    "pd.set_option('max_rows', None)\n",
    "pd.options.display.width = 0   #"
   ],
   "metadata": {
    "collapsed": false,
    "pycharm": {
     "name": "#%%\n"
    }
   }
  },
  {
   "cell_type": "code",
   "execution_count": 14,
   "outputs": [],
   "source": [
    "# Importing the Data Set\n",
    "df =  pd.read_csv(\"bank.csv\")\n",
    "# df =  pd.read_csv(\"bank-full.csv\")\n",
    "df.head()\n",
    "\n",
    "# Establishing copies for running through the different scrubs\n",
    "df_a = df.copy()\n",
    "df_b = df.copy()"
   ],
   "metadata": {
    "collapsed": false,
    "pycharm": {
     "name": "#%%\n"
    }
   }
  },
  {
   "cell_type": "markdown",
   "source": [
    "### Association Rules fore Data Mining\n",
    "First Cleaning up the data and creating categories"
   ],
   "metadata": {
    "collapsed": false,
    "pycharm": {
     "name": "#%% md\n"
    }
   }
  },
  {
   "cell_type": "code",
   "execution_count": 15,
   "outputs": [
    {
     "data": {
      "text/plain": "   age          job  marital  education default  balance housing loan  \\\n0   30   unemployed  married    primary      no     1787      no   no   \n1   33     services  married  secondary      no     4789     yes  yes   \n2   35   management   single   tertiary      no     1350     yes   no   \n3   30   management  married   tertiary      no     1476     yes  yes   \n4   59  blue-collar  married  secondary      no        0     yes   no   \n\n    contact  day month  duration  campaign  pdays  previous poutcome   y  \\\n0  cellular   19   oct        79         1     -1         0  unknown  no   \n1  cellular   11   may       220         1    339         4  failure  no   \n2  cellular   16   apr       185         1    330         1  failure  no   \n3   unknown    3   jun       199         4     -1         0  unknown  no   \n4   unknown    5   may       226         1     -1         0  unknown  no   \n\n  balanceSummary   ageBand defaultValue housingVal  loanVal  \n0       positive  ageBand3    defaultNo    houseNo   loanNo  \n1       positive  ageBand3    defaultNo   houseYes  loanYes  \n2       positive  ageBand3    defaultNo   houseYes   loanNo  \n3       positive  ageBand3    defaultNo   houseYes  loanYes  \n4       positive  ageBand5    defaultNo   houseYes   loanNo  ",
      "text/html": "<div>\n<style scoped>\n    .dataframe tbody tr th:only-of-type {\n        vertical-align: middle;\n    }\n\n    .dataframe tbody tr th {\n        vertical-align: top;\n    }\n\n    .dataframe thead th {\n        text-align: right;\n    }\n</style>\n<table border=\"1\" class=\"dataframe\">\n  <thead>\n    <tr style=\"text-align: right;\">\n      <th></th>\n      <th>age</th>\n      <th>job</th>\n      <th>marital</th>\n      <th>education</th>\n      <th>default</th>\n      <th>balance</th>\n      <th>housing</th>\n      <th>loan</th>\n      <th>contact</th>\n      <th>day</th>\n      <th>month</th>\n      <th>duration</th>\n      <th>campaign</th>\n      <th>pdays</th>\n      <th>previous</th>\n      <th>poutcome</th>\n      <th>y</th>\n      <th>balanceSummary</th>\n      <th>ageBand</th>\n      <th>defaultValue</th>\n      <th>housingVal</th>\n      <th>loanVal</th>\n    </tr>\n  </thead>\n  <tbody>\n    <tr>\n      <th>0</th>\n      <td>30</td>\n      <td>unemployed</td>\n      <td>married</td>\n      <td>primary</td>\n      <td>no</td>\n      <td>1787</td>\n      <td>no</td>\n      <td>no</td>\n      <td>cellular</td>\n      <td>19</td>\n      <td>oct</td>\n      <td>79</td>\n      <td>1</td>\n      <td>-1</td>\n      <td>0</td>\n      <td>unknown</td>\n      <td>no</td>\n      <td>positive</td>\n      <td>ageBand3</td>\n      <td>defaultNo</td>\n      <td>houseNo</td>\n      <td>loanNo</td>\n    </tr>\n    <tr>\n      <th>1</th>\n      <td>33</td>\n      <td>services</td>\n      <td>married</td>\n      <td>secondary</td>\n      <td>no</td>\n      <td>4789</td>\n      <td>yes</td>\n      <td>yes</td>\n      <td>cellular</td>\n      <td>11</td>\n      <td>may</td>\n      <td>220</td>\n      <td>1</td>\n      <td>339</td>\n      <td>4</td>\n      <td>failure</td>\n      <td>no</td>\n      <td>positive</td>\n      <td>ageBand3</td>\n      <td>defaultNo</td>\n      <td>houseYes</td>\n      <td>loanYes</td>\n    </tr>\n    <tr>\n      <th>2</th>\n      <td>35</td>\n      <td>management</td>\n      <td>single</td>\n      <td>tertiary</td>\n      <td>no</td>\n      <td>1350</td>\n      <td>yes</td>\n      <td>no</td>\n      <td>cellular</td>\n      <td>16</td>\n      <td>apr</td>\n      <td>185</td>\n      <td>1</td>\n      <td>330</td>\n      <td>1</td>\n      <td>failure</td>\n      <td>no</td>\n      <td>positive</td>\n      <td>ageBand3</td>\n      <td>defaultNo</td>\n      <td>houseYes</td>\n      <td>loanNo</td>\n    </tr>\n    <tr>\n      <th>3</th>\n      <td>30</td>\n      <td>management</td>\n      <td>married</td>\n      <td>tertiary</td>\n      <td>no</td>\n      <td>1476</td>\n      <td>yes</td>\n      <td>yes</td>\n      <td>unknown</td>\n      <td>3</td>\n      <td>jun</td>\n      <td>199</td>\n      <td>4</td>\n      <td>-1</td>\n      <td>0</td>\n      <td>unknown</td>\n      <td>no</td>\n      <td>positive</td>\n      <td>ageBand3</td>\n      <td>defaultNo</td>\n      <td>houseYes</td>\n      <td>loanYes</td>\n    </tr>\n    <tr>\n      <th>4</th>\n      <td>59</td>\n      <td>blue-collar</td>\n      <td>married</td>\n      <td>secondary</td>\n      <td>no</td>\n      <td>0</td>\n      <td>yes</td>\n      <td>no</td>\n      <td>unknown</td>\n      <td>5</td>\n      <td>may</td>\n      <td>226</td>\n      <td>1</td>\n      <td>-1</td>\n      <td>0</td>\n      <td>unknown</td>\n      <td>no</td>\n      <td>positive</td>\n      <td>ageBand5</td>\n      <td>defaultNo</td>\n      <td>houseYes</td>\n      <td>loanNo</td>\n    </tr>\n  </tbody>\n</table>\n</div>"
     },
     "execution_count": 15,
     "metadata": {},
     "output_type": "execute_result"
    }
   ],
   "source": [
    "for index, row in df_a.iterrows():\n",
    "\tif row['balance'] < 0:\n",
    "\t\trow['balance'] = 'inDebt'\n",
    "\telse:\n",
    "\t\trow['balance'] = 'notInDebt'\n",
    "\n",
    "# Creating Categories for balance\n",
    "df_a.loc[(df_a['balance'] >= 10000), 'balanceSummary'] = 'veryPositive'\n",
    "df_a.loc[((df_a['balance'] < 0) & (df_a['balance'] >= -10000)), 'balanceSummary'] = 'negative'\n",
    "df_a.loc[((df_a['balance'] < 10000) & (df_a['balance'] >= 0)), 'balanceSummary'] = 'positive'\n",
    "df_a.loc[df_a['balance'] < -500, 'balanceSummary'] = 'veryNegative'\n",
    "\n",
    "# Creating Categories for ages\n",
    "df_a.loc[((df_a['age'] < 25) & (df_a['age'] >= 0)),  'ageBand'] = 'ageBand1'\n",
    "df_a.loc[((df_a['age'] < 30) & (df_a['age'] >= 25)), 'ageBand'] = 'ageBand2'\n",
    "df_a.loc[((df_a['age'] < 40) & (df_a['age'] >= 30)), 'ageBand'] = 'ageBand3'\n",
    "df_a.loc[((df_a['age'] < 50) & (df_a['age'] >= 40)), 'ageBand'] = 'ageBand4'\n",
    "df_a.loc[((df_a['age'] < 120) & (df_a['age'] >= 50)),'ageBand'] = 'ageBand5'\n",
    "\n",
    "# Creating Categories for default\n",
    "df_a.loc[(df_a['default'] == 'no'), 'defaultValue'] = 'defaultNo'\n",
    "df_a.loc[(df_a['default'] == 'yes'), 'defaultValue'] = 'defaultYes'\n",
    "\n",
    "# Creating Categories for Housing\n",
    "df_a.loc[(df_a['housing'] == 'no'), 'housingVal'] = 'houseNo'\n",
    "df_a.loc[(df_a['housing'] == 'yes'), 'housingVal'] = 'houseYes'\n",
    "\n",
    "# Creating Categories for Loans\n",
    "df_a.loc[(df_a['loan'] == 'no'), 'loanVal'] = 'loanNo'\n",
    "df_a.loc[(df_a['loan'] == 'yes'), 'loanVal'] = 'loanYes'\n",
    "\n",
    "# Displaying Head\n",
    "df_a.head()"
   ],
   "metadata": {
    "collapsed": false,
    "pycharm": {
     "name": "#%%\n"
    }
   }
  },
  {
   "cell_type": "markdown",
   "source": [
    "Dropping data that is not in a string and re-displaying dataframe head"
   ],
   "metadata": {
    "collapsed": false,
    "pycharm": {
     "name": "#%% md\n"
    }
   }
  },
  {
   "cell_type": "code",
   "execution_count": 16,
   "outputs": [
    {
     "data": {
      "text/plain": "           job  marital  education   contact month poutcome   y  \\\n0   unemployed  married    primary  cellular   oct  unknown  no   \n1     services  married  secondary  cellular   may  failure  no   \n2   management   single   tertiary  cellular   apr  failure  no   \n3   management  married   tertiary   unknown   jun  unknown  no   \n4  blue-collar  married  secondary   unknown   may  unknown  no   \n\n  balanceSummary   ageBand defaultValue housingVal  loanVal  \n0       positive  ageBand3    defaultNo    houseNo   loanNo  \n1       positive  ageBand3    defaultNo   houseYes  loanYes  \n2       positive  ageBand3    defaultNo   houseYes   loanNo  \n3       positive  ageBand3    defaultNo   houseYes  loanYes  \n4       positive  ageBand5    defaultNo   houseYes   loanNo  ",
      "text/html": "<div>\n<style scoped>\n    .dataframe tbody tr th:only-of-type {\n        vertical-align: middle;\n    }\n\n    .dataframe tbody tr th {\n        vertical-align: top;\n    }\n\n    .dataframe thead th {\n        text-align: right;\n    }\n</style>\n<table border=\"1\" class=\"dataframe\">\n  <thead>\n    <tr style=\"text-align: right;\">\n      <th></th>\n      <th>job</th>\n      <th>marital</th>\n      <th>education</th>\n      <th>contact</th>\n      <th>month</th>\n      <th>poutcome</th>\n      <th>y</th>\n      <th>balanceSummary</th>\n      <th>ageBand</th>\n      <th>defaultValue</th>\n      <th>housingVal</th>\n      <th>loanVal</th>\n    </tr>\n  </thead>\n  <tbody>\n    <tr>\n      <th>0</th>\n      <td>unemployed</td>\n      <td>married</td>\n      <td>primary</td>\n      <td>cellular</td>\n      <td>oct</td>\n      <td>unknown</td>\n      <td>no</td>\n      <td>positive</td>\n      <td>ageBand3</td>\n      <td>defaultNo</td>\n      <td>houseNo</td>\n      <td>loanNo</td>\n    </tr>\n    <tr>\n      <th>1</th>\n      <td>services</td>\n      <td>married</td>\n      <td>secondary</td>\n      <td>cellular</td>\n      <td>may</td>\n      <td>failure</td>\n      <td>no</td>\n      <td>positive</td>\n      <td>ageBand3</td>\n      <td>defaultNo</td>\n      <td>houseYes</td>\n      <td>loanYes</td>\n    </tr>\n    <tr>\n      <th>2</th>\n      <td>management</td>\n      <td>single</td>\n      <td>tertiary</td>\n      <td>cellular</td>\n      <td>apr</td>\n      <td>failure</td>\n      <td>no</td>\n      <td>positive</td>\n      <td>ageBand3</td>\n      <td>defaultNo</td>\n      <td>houseYes</td>\n      <td>loanNo</td>\n    </tr>\n    <tr>\n      <th>3</th>\n      <td>management</td>\n      <td>married</td>\n      <td>tertiary</td>\n      <td>unknown</td>\n      <td>jun</td>\n      <td>unknown</td>\n      <td>no</td>\n      <td>positive</td>\n      <td>ageBand3</td>\n      <td>defaultNo</td>\n      <td>houseYes</td>\n      <td>loanYes</td>\n    </tr>\n    <tr>\n      <th>4</th>\n      <td>blue-collar</td>\n      <td>married</td>\n      <td>secondary</td>\n      <td>unknown</td>\n      <td>may</td>\n      <td>unknown</td>\n      <td>no</td>\n      <td>positive</td>\n      <td>ageBand5</td>\n      <td>defaultNo</td>\n      <td>houseYes</td>\n      <td>loanNo</td>\n    </tr>\n  </tbody>\n</table>\n</div>"
     },
     "execution_count": 16,
     "metadata": {},
     "output_type": "execute_result"
    }
   ],
   "source": [
    "df_a = df_a.drop(['age', 'day', 'duration', 'balance', 'campaign', 'previous', 'default', 'housing', 'loan', 'pdays'],\n",
    "                 axis=1)\n",
    "df_a.head()"
   ],
   "metadata": {
    "collapsed": false,
    "pycharm": {
     "name": "#%%\n"
    }
   }
  },
  {
   "cell_type": "markdown",
   "source": [
    "Displaying all Unique Values"
   ],
   "metadata": {
    "collapsed": false,
    "pycharm": {
     "name": "#%% md\n"
    }
   }
  },
  {
   "cell_type": "code",
   "execution_count": 17,
   "outputs": [
    {
     "name": "stdout",
     "output_type": "stream",
     "text": [
      "job : ['unemployed' 'services' 'management' 'blue-collar' 'self-employed'\n",
      " 'technician' 'entrepreneur' 'admin.' 'student' 'housemaid' 'retired'\n",
      " 'unknown']\n",
      "marital : ['married' 'single' 'divorced']\n",
      "education : ['primary' 'secondary' 'tertiary' 'unknown']\n",
      "contact : ['cellular' 'unknown' 'telephone']\n",
      "month : ['oct' 'may' 'apr' 'jun' 'feb' 'aug' 'jan' 'jul' 'nov' 'sep' 'mar' 'dec']\n",
      "poutcome : ['unknown' 'failure' 'other' 'success']\n",
      "y : ['no' 'yes']\n",
      "balanceSummary : ['positive' 'negative' 'veryPositive' 'veryNegative']\n",
      "ageBand : ['ageBand3' 'ageBand5' 'ageBand4' 'ageBand1' 'ageBand2']\n",
      "defaultValue : ['defaultNo' 'defaultYes']\n",
      "housingVal : ['houseNo' 'houseYes']\n",
      "loanVal : ['loanNo' 'loanYes']\n"
     ]
    }
   ],
   "source": [
    "for col in df_a:\n",
    "    print(col, \":\", df_a[col].unique())"
   ],
   "metadata": {
    "collapsed": false,
    "pycharm": {
     "name": "#%%\n"
    }
   }
  },
  {
   "cell_type": "markdown",
   "source": [
    "Saving DF_A to file so that the apriori Algorithm will run faster"
   ],
   "metadata": {
    "collapsed": false,
    "pycharm": {
     "name": "#%% md\n"
    }
   }
  },
  {
   "cell_type": "code",
   "execution_count": 18,
   "outputs": [],
   "source": [
    "df_a.to_csv(\"outfile.csv\", index=False)"
   ],
   "metadata": {
    "collapsed": false,
    "pycharm": {
     "name": "#%%\n"
    }
   }
  },
  {
   "cell_type": "markdown",
   "source": [
    "Re-importing the df_a as file"
   ],
   "metadata": {
    "collapsed": false,
    "pycharm": {
     "name": "#%% md\n"
    }
   }
  },
  {
   "cell_type": "code",
   "execution_count": 21,
   "outputs": [],
   "source": [
    "file = []\n",
    "with open(\"outfile.csv\", 'r') as read_obj:\n",
    "    csv_reader = reader(read_obj)\n",
    "    for row in csv_reader:\n",
    "        file.append(row)"
   ],
   "metadata": {
    "collapsed": false,
    "pycharm": {
     "name": "#%%\n"
    }
   }
  },
  {
   "cell_type": "markdown",
   "source": [
    "Creating transact 1 hot boolean encoded numpy array"
   ],
   "metadata": {
    "collapsed": false,
    "pycharm": {
     "name": "#%% md\n"
    }
   }
  },
  {
   "cell_type": "code",
   "execution_count": 22,
   "outputs": [
    {
     "ename": "ValueError",
     "evalue": "DataFrame constructor not properly called!",
     "output_type": "error",
     "traceback": [
      "\u001B[1;31m---------------------------------------------------------------------------\u001B[0m",
      "\u001B[1;31mValueError\u001B[0m                                Traceback (most recent call last)",
      "\u001B[1;32m~\\AppData\\Local\\Temp/ipykernel_19932/3710488845.py\u001B[0m in \u001B[0;36m<module>\u001B[1;34m\u001B[0m\n\u001B[0;32m      1\u001B[0m \u001B[0mte\u001B[0m \u001B[1;33m=\u001B[0m \u001B[0mTransactionEncoder\u001B[0m\u001B[1;33m(\u001B[0m\u001B[1;33m)\u001B[0m\u001B[1;33m\u001B[0m\u001B[1;33m\u001B[0m\u001B[0m\n\u001B[0;32m      2\u001B[0m \u001B[0mte_ary\u001B[0m \u001B[1;33m=\u001B[0m \u001B[0mte\u001B[0m\u001B[1;33m.\u001B[0m\u001B[0mfit\u001B[0m\u001B[1;33m(\u001B[0m\u001B[0mfile\u001B[0m\u001B[1;33m)\u001B[0m\u001B[1;33m\u001B[0m\u001B[1;33m\u001B[0m\u001B[0m\n\u001B[1;32m----> 3\u001B[1;33m \u001B[0mdf_transformed\u001B[0m \u001B[1;33m=\u001B[0m \u001B[0mpd\u001B[0m\u001B[1;33m.\u001B[0m\u001B[0mDataFrame\u001B[0m\u001B[1;33m(\u001B[0m\u001B[0mte_ary\u001B[0m\u001B[1;33m,\u001B[0m \u001B[0mcolumns\u001B[0m\u001B[1;33m=\u001B[0m \u001B[0mte\u001B[0m\u001B[1;33m.\u001B[0m\u001B[0mcolumns_\u001B[0m\u001B[1;33m)\u001B[0m\u001B[1;33m\u001B[0m\u001B[1;33m\u001B[0m\u001B[0m\n\u001B[0m\u001B[0;32m      4\u001B[0m \u001B[0mdf_transformed\u001B[0m\u001B[1;33m.\u001B[0m\u001B[0mhead\u001B[0m\u001B[1;33m(\u001B[0m\u001B[1;33m)\u001B[0m\u001B[1;33m\u001B[0m\u001B[1;33m\u001B[0m\u001B[0m\n",
      "\u001B[1;32m~\\anaconda3\\lib\\site-packages\\pandas\\core\\frame.py\u001B[0m in \u001B[0;36m__init__\u001B[1;34m(self, data, index, columns, dtype, copy)\u001B[0m\n\u001B[0;32m    728\u001B[0m         \u001B[1;32melse\u001B[0m\u001B[1;33m:\u001B[0m\u001B[1;33m\u001B[0m\u001B[1;33m\u001B[0m\u001B[0m\n\u001B[0;32m    729\u001B[0m             \u001B[1;32mif\u001B[0m \u001B[0mindex\u001B[0m \u001B[1;32mis\u001B[0m \u001B[1;32mNone\u001B[0m \u001B[1;32mor\u001B[0m \u001B[0mcolumns\u001B[0m \u001B[1;32mis\u001B[0m \u001B[1;32mNone\u001B[0m\u001B[1;33m:\u001B[0m\u001B[1;33m\u001B[0m\u001B[1;33m\u001B[0m\u001B[0m\n\u001B[1;32m--> 730\u001B[1;33m                 \u001B[1;32mraise\u001B[0m \u001B[0mValueError\u001B[0m\u001B[1;33m(\u001B[0m\u001B[1;34m\"DataFrame constructor not properly called!\"\u001B[0m\u001B[1;33m)\u001B[0m\u001B[1;33m\u001B[0m\u001B[1;33m\u001B[0m\u001B[0m\n\u001B[0m\u001B[0;32m    731\u001B[0m \u001B[1;33m\u001B[0m\u001B[0m\n\u001B[0;32m    732\u001B[0m             \u001B[1;31m# Argument 1 to \"ensure_index\" has incompatible type \"Collection[Any]\";\u001B[0m\u001B[1;33m\u001B[0m\u001B[1;33m\u001B[0m\u001B[1;33m\u001B[0m\u001B[0m\n",
      "\u001B[1;31mValueError\u001B[0m: DataFrame constructor not properly called!"
     ]
    }
   ],
   "source": [
    "te = TransactionEncoder()\n",
    "te_ary = te.fit(file)\n",
    "df_transformed = pd.DataFrame(te_ary, columns= te.columns_)\n",
    "df_transformed.head()"
   ],
   "metadata": {
    "collapsed": false,
    "pycharm": {
     "name": "#%%\n"
    }
   }
  }
 ],
 "metadata": {
  "kernelspec": {
   "name": "pycharm-865e1948",
   "language": "python",
   "display_name": "PyCharm (GITHUB_REPOSITORY)"
  },
  "language_info": {
   "codemirror_mode": {
    "name": "ipython",
    "version": 2
   },
   "file_extension": ".py",
   "mimetype": "text/x-python",
   "name": "python",
   "nbconvert_exporter": "python",
   "pygments_lexer": "ipython2",
   "version": "2.7.6"
  }
 },
 "nbformat": 4,
 "nbformat_minor": 0
}