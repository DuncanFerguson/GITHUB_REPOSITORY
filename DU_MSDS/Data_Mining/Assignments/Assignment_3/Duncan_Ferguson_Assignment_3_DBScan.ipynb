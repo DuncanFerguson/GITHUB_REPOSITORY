{
 "cells": [
  {
   "cell_type": "code",
   "execution_count": 13,
   "metadata": {
    "collapsed": true
   },
   "outputs": [],
   "source": []
  },
  {
   "cell_type": "code",
   "execution_count": 14,
   "outputs": [],
   "source": [
    "# Importing Standard Libraries\n",
    "import graphviz\n",
    "import pandas as pd\n",
    "import numpy as np\n",
    "from csv import reader\n",
    "\n",
    "# Sklearn Libraries\n",
    "from sklearn import tree\n",
    "from sklearn.model_selection import train_test_split, ParameterGrid\n",
    "from sklearn.metrics import *\n",
    "from sklearn.naive_bayes import *\n",
    "from sklearn.cluster import KMeans, DBSCAN\n",
    "from sklearn.inspection import permutation_importance\n",
    "from sklearn.preprocessing import StandardScaler, Normalizer\n",
    "from sklearn.decomposition import PCA\n",
    "from sklearn.pipeline import Pipeline\n",
    "from sklearn.tree import export_graphviz, export_text\n",
    "import pydotplus\n",
    "\n",
    "# Importing mlxtend Libraries\n",
    "from mlxtend.frequent_patterns import apriori, association_rules\n",
    "from mlxtend.preprocessing import TransactionEncoder\n",
    "\n",
    "# Graphing Libraries\n",
    "import matplotlib.pyplot as plt\n",
    "import seaborn as sns\n",
    "from IPython.display import Image\n",
    "import graphviz\n",
    "\n"
   ],
   "metadata": {
    "collapsed": false,
    "pycharm": {
     "name": "#%%\n"
    }
   }
  },
  {
   "cell_type": "code",
   "execution_count": 15,
   "outputs": [],
   "source": [
    "np.random.seed(0)\n",
    "\n",
    "# Importing the Data Set\n",
    "# df =  pd.read_csv(\"bank.csv\")\n",
    "df =  pd.read_csv(\"bank-full.csv\")\n",
    "df.head()\n",
    "\n",
    "# Establishing copies for running through the different scrubs\n",
    "df_a = df.copy()\n",
    "df_b = df.copy()"
   ],
   "metadata": {
    "collapsed": false,
    "pycharm": {
     "name": "#%%\n"
    }
   }
  },
  {
   "cell_type": "markdown",
   "source": [
    "#### Feature Engineering"
   ],
   "metadata": {
    "collapsed": false
   }
  },
  {
   "cell_type": "code",
   "execution_count": 16,
   "outputs": [
    {
     "name": "stdout",
     "output_type": "stream",
     "text": [
      "Post Conversion of Data into numeric, dropping pdays, and normalizing balance:\n"
     ]
    },
    {
     "data": {
      "text/plain": "   age  job  marital  education  default   balance  housing  loan  contact  \\\n0   58    4        1          2        0  0.092259        1     0        2   \n1   44    9        2          1        0  0.073067        1     0        2   \n2   33    2        1          1        0  0.072822        1     1        2   \n3   47    1        1          3        0  0.086476        1     0        2   \n4   33   11        2          3        0  0.072812        0     0        2   \n5   35    4        1          2        0  0.074901        1     0        2   \n6   28    4        2          2        0  0.076862        1     1        2   \n7   42    2        0          2        1  0.072822        1     0        2   \n8   58    5        1          0        0  0.073902        1     0        2   \n9   43    9        2          1        0  0.078187        1     0        2   \n\n   day  month  duration  campaign  previous  poutcome  y  \n0    5      8       261         1         0         3  0  \n1    5      8       151         1         0         3  0  \n2    5      8        76         1         0         3  0  \n3    5      8        92         1         0         3  0  \n4    5      8       198         1         0         3  0  \n5    5      8       139         1         0         3  0  \n6    5      8       217         1         0         3  0  \n7    5      8       380         1         0         3  0  \n8    5      8        50         1         0         3  0  \n9    5      8        55         1         0         3  0  ",
      "text/html": "<div>\n<style scoped>\n    .dataframe tbody tr th:only-of-type {\n        vertical-align: middle;\n    }\n\n    .dataframe tbody tr th {\n        vertical-align: top;\n    }\n\n    .dataframe thead th {\n        text-align: right;\n    }\n</style>\n<table border=\"1\" class=\"dataframe\">\n  <thead>\n    <tr style=\"text-align: right;\">\n      <th></th>\n      <th>age</th>\n      <th>job</th>\n      <th>marital</th>\n      <th>education</th>\n      <th>default</th>\n      <th>balance</th>\n      <th>housing</th>\n      <th>loan</th>\n      <th>contact</th>\n      <th>day</th>\n      <th>month</th>\n      <th>duration</th>\n      <th>campaign</th>\n      <th>previous</th>\n      <th>poutcome</th>\n      <th>y</th>\n    </tr>\n  </thead>\n  <tbody>\n    <tr>\n      <th>0</th>\n      <td>58</td>\n      <td>4</td>\n      <td>1</td>\n      <td>2</td>\n      <td>0</td>\n      <td>0.092259</td>\n      <td>1</td>\n      <td>0</td>\n      <td>2</td>\n      <td>5</td>\n      <td>8</td>\n      <td>261</td>\n      <td>1</td>\n      <td>0</td>\n      <td>3</td>\n      <td>0</td>\n    </tr>\n    <tr>\n      <th>1</th>\n      <td>44</td>\n      <td>9</td>\n      <td>2</td>\n      <td>1</td>\n      <td>0</td>\n      <td>0.073067</td>\n      <td>1</td>\n      <td>0</td>\n      <td>2</td>\n      <td>5</td>\n      <td>8</td>\n      <td>151</td>\n      <td>1</td>\n      <td>0</td>\n      <td>3</td>\n      <td>0</td>\n    </tr>\n    <tr>\n      <th>2</th>\n      <td>33</td>\n      <td>2</td>\n      <td>1</td>\n      <td>1</td>\n      <td>0</td>\n      <td>0.072822</td>\n      <td>1</td>\n      <td>1</td>\n      <td>2</td>\n      <td>5</td>\n      <td>8</td>\n      <td>76</td>\n      <td>1</td>\n      <td>0</td>\n      <td>3</td>\n      <td>0</td>\n    </tr>\n    <tr>\n      <th>3</th>\n      <td>47</td>\n      <td>1</td>\n      <td>1</td>\n      <td>3</td>\n      <td>0</td>\n      <td>0.086476</td>\n      <td>1</td>\n      <td>0</td>\n      <td>2</td>\n      <td>5</td>\n      <td>8</td>\n      <td>92</td>\n      <td>1</td>\n      <td>0</td>\n      <td>3</td>\n      <td>0</td>\n    </tr>\n    <tr>\n      <th>4</th>\n      <td>33</td>\n      <td>11</td>\n      <td>2</td>\n      <td>3</td>\n      <td>0</td>\n      <td>0.072812</td>\n      <td>0</td>\n      <td>0</td>\n      <td>2</td>\n      <td>5</td>\n      <td>8</td>\n      <td>198</td>\n      <td>1</td>\n      <td>0</td>\n      <td>3</td>\n      <td>0</td>\n    </tr>\n    <tr>\n      <th>5</th>\n      <td>35</td>\n      <td>4</td>\n      <td>1</td>\n      <td>2</td>\n      <td>0</td>\n      <td>0.074901</td>\n      <td>1</td>\n      <td>0</td>\n      <td>2</td>\n      <td>5</td>\n      <td>8</td>\n      <td>139</td>\n      <td>1</td>\n      <td>0</td>\n      <td>3</td>\n      <td>0</td>\n    </tr>\n    <tr>\n      <th>6</th>\n      <td>28</td>\n      <td>4</td>\n      <td>2</td>\n      <td>2</td>\n      <td>0</td>\n      <td>0.076862</td>\n      <td>1</td>\n      <td>1</td>\n      <td>2</td>\n      <td>5</td>\n      <td>8</td>\n      <td>217</td>\n      <td>1</td>\n      <td>0</td>\n      <td>3</td>\n      <td>0</td>\n    </tr>\n    <tr>\n      <th>7</th>\n      <td>42</td>\n      <td>2</td>\n      <td>0</td>\n      <td>2</td>\n      <td>1</td>\n      <td>0.072822</td>\n      <td>1</td>\n      <td>0</td>\n      <td>2</td>\n      <td>5</td>\n      <td>8</td>\n      <td>380</td>\n      <td>1</td>\n      <td>0</td>\n      <td>3</td>\n      <td>0</td>\n    </tr>\n    <tr>\n      <th>8</th>\n      <td>58</td>\n      <td>5</td>\n      <td>1</td>\n      <td>0</td>\n      <td>0</td>\n      <td>0.073902</td>\n      <td>1</td>\n      <td>0</td>\n      <td>2</td>\n      <td>5</td>\n      <td>8</td>\n      <td>50</td>\n      <td>1</td>\n      <td>0</td>\n      <td>3</td>\n      <td>0</td>\n    </tr>\n    <tr>\n      <th>9</th>\n      <td>43</td>\n      <td>9</td>\n      <td>2</td>\n      <td>1</td>\n      <td>0</td>\n      <td>0.078187</td>\n      <td>1</td>\n      <td>0</td>\n      <td>2</td>\n      <td>5</td>\n      <td>8</td>\n      <td>55</td>\n      <td>1</td>\n      <td>0</td>\n      <td>3</td>\n      <td>0</td>\n    </tr>\n  </tbody>\n</table>\n</div>"
     },
     "execution_count": 16,
     "metadata": {},
     "output_type": "execute_result"
    }
   ],
   "source": [
    "# Creating Categories for ages then making categories\n",
    "df_b['job'] = df_b['job'].astype('category')\n",
    "df_b['job'] = df_b['job'].cat.codes\n",
    "df_b['marital'] = df_b['marital'].astype('category')\n",
    "df_b['marital'] = df_b['marital'].cat.codes\n",
    "df_b['education'] = df_b['education'].astype('category')\n",
    "df_b['education'] = df_b['education'].cat.codes\n",
    "df_b['default'] = df_b['default'].astype('category')\n",
    "df_b['default'] = df_b['default'].cat.codes\n",
    "df_b['contact'] = df_b['contact'].astype('category')\n",
    "df_b['contact'] = df_b['contact'].cat.codes\n",
    "df_b['month'] = df_b['month'].astype('category')\n",
    "df_b['month'] = df_b['month'].cat.codes\n",
    "df_b['poutcome'] = df_b['poutcome'].astype('category')\n",
    "df_b['poutcome'] = df_b['poutcome'].cat.codes\n",
    "df_b['housing'] = df_b['housing'].astype('category')\n",
    "df_b['housing'] = df_b['housing'].cat.codes\n",
    "df_b['loan'] = df_b['loan'].astype('category')\n",
    "df_b['loan'] = df_b['loan'].cat.codes\n",
    "df_b['y'] = df_b['y'].astype('category')\n",
    "df_b['y'] = df_b['y'].cat.codes\n",
    "df_b = df_b.drop('pdays',axis=1)\n",
    "df_b['balance'] = (df_b['balance'] - df_b['balance'].min()) / ( df_b['balance'].max() - df_b['balance'].min())\n",
    "print(\"Post Conversion of Data into numeric, dropping pdays, and normalizing balance:\")\n",
    "df_b.head(10)"
   ],
   "metadata": {
    "collapsed": false,
    "pycharm": {
     "name": "#%%\n"
    }
   }
  },
  {
   "cell_type": "markdown",
   "source": [
    "Step 1. Standardize the Dat"
   ],
   "metadata": {
    "collapsed": false,
    "pycharm": {
     "name": "#%% md\n"
    }
   }
  },
  {
   "cell_type": "code",
   "execution_count": 17,
   "outputs": [
    {
     "data": {
      "text/plain": "        age       job   marital  education   default   balance   housing  \\\n0  1.606965 -0.103820 -0.275762   1.036362 -0.135490  0.256419  0.893915   \n1  0.288529  1.424008  1.368372  -0.300556 -0.135490 -0.437895  0.893915   \n2 -0.747384 -0.714951 -0.275762  -0.300556 -0.135490 -0.446762  0.893915   \n3  0.571051 -1.020516 -0.275762   2.373280 -0.135490  0.047205  0.893915   \n4 -0.747384  2.035139  1.368372   2.373280 -0.135490 -0.447091 -1.118674   \n5 -0.559037 -0.103820 -0.275762   1.036362 -0.135490 -0.371551  0.893915   \n6 -1.218254 -0.103820  1.368372   1.036362 -0.135490 -0.300608  0.893915   \n7  0.100181 -0.714951 -1.919895   1.036362  7.380625 -0.446762  0.893915   \n8  1.606965  0.201746 -0.275762  -1.637474 -0.135490 -0.407679  0.893915   \n9  0.194355  1.424008  1.368372  -0.300556 -0.135490 -0.252657  0.893915   \n\n       loan   contact       day     month  duration  campaign  previous  \\\n0 -0.436803  1.514306 -1.298476  0.823773  0.011016 -0.569351  -0.25194   \n1 -0.436803  1.514306 -1.298476  0.823773 -0.416127 -0.569351  -0.25194   \n2  2.289359  1.514306 -1.298476  0.823773 -0.707361 -0.569351  -0.25194   \n3 -0.436803  1.514306 -1.298476  0.823773 -0.645231 -0.569351  -0.25194   \n4 -0.436803  1.514306 -1.298476  0.823773 -0.233620 -0.569351  -0.25194   \n5 -0.436803  1.514306 -1.298476  0.823773 -0.462724 -0.569351  -0.25194   \n6  2.289359  1.514306 -1.298476  0.823773 -0.159841 -0.569351  -0.25194   \n7 -0.436803  1.514306 -1.298476  0.823773  0.473107 -0.569351  -0.25194   \n8 -0.436803  1.514306 -1.298476  0.823773 -0.808322 -0.569351  -0.25194   \n9 -0.436803  1.514306 -1.298476  0.823773 -0.788906 -0.569351  -0.25194   \n\n   poutcome         y  \n0  0.444898 -0.363983  \n1  0.444898 -0.363983  \n2  0.444898 -0.363983  \n3  0.444898 -0.363983  \n4  0.444898 -0.363983  \n5  0.444898 -0.363983  \n6  0.444898 -0.363983  \n7  0.444898 -0.363983  \n8  0.444898 -0.363983  \n9  0.444898 -0.363983  ",
      "text/html": "<div>\n<style scoped>\n    .dataframe tbody tr th:only-of-type {\n        vertical-align: middle;\n    }\n\n    .dataframe tbody tr th {\n        vertical-align: top;\n    }\n\n    .dataframe thead th {\n        text-align: right;\n    }\n</style>\n<table border=\"1\" class=\"dataframe\">\n  <thead>\n    <tr style=\"text-align: right;\">\n      <th></th>\n      <th>age</th>\n      <th>job</th>\n      <th>marital</th>\n      <th>education</th>\n      <th>default</th>\n      <th>balance</th>\n      <th>housing</th>\n      <th>loan</th>\n      <th>contact</th>\n      <th>day</th>\n      <th>month</th>\n      <th>duration</th>\n      <th>campaign</th>\n      <th>previous</th>\n      <th>poutcome</th>\n      <th>y</th>\n    </tr>\n  </thead>\n  <tbody>\n    <tr>\n      <th>0</th>\n      <td>1.606965</td>\n      <td>-0.103820</td>\n      <td>-0.275762</td>\n      <td>1.036362</td>\n      <td>-0.135490</td>\n      <td>0.256419</td>\n      <td>0.893915</td>\n      <td>-0.436803</td>\n      <td>1.514306</td>\n      <td>-1.298476</td>\n      <td>0.823773</td>\n      <td>0.011016</td>\n      <td>-0.569351</td>\n      <td>-0.25194</td>\n      <td>0.444898</td>\n      <td>-0.363983</td>\n    </tr>\n    <tr>\n      <th>1</th>\n      <td>0.288529</td>\n      <td>1.424008</td>\n      <td>1.368372</td>\n      <td>-0.300556</td>\n      <td>-0.135490</td>\n      <td>-0.437895</td>\n      <td>0.893915</td>\n      <td>-0.436803</td>\n      <td>1.514306</td>\n      <td>-1.298476</td>\n      <td>0.823773</td>\n      <td>-0.416127</td>\n      <td>-0.569351</td>\n      <td>-0.25194</td>\n      <td>0.444898</td>\n      <td>-0.363983</td>\n    </tr>\n    <tr>\n      <th>2</th>\n      <td>-0.747384</td>\n      <td>-0.714951</td>\n      <td>-0.275762</td>\n      <td>-0.300556</td>\n      <td>-0.135490</td>\n      <td>-0.446762</td>\n      <td>0.893915</td>\n      <td>2.289359</td>\n      <td>1.514306</td>\n      <td>-1.298476</td>\n      <td>0.823773</td>\n      <td>-0.707361</td>\n      <td>-0.569351</td>\n      <td>-0.25194</td>\n      <td>0.444898</td>\n      <td>-0.363983</td>\n    </tr>\n    <tr>\n      <th>3</th>\n      <td>0.571051</td>\n      <td>-1.020516</td>\n      <td>-0.275762</td>\n      <td>2.373280</td>\n      <td>-0.135490</td>\n      <td>0.047205</td>\n      <td>0.893915</td>\n      <td>-0.436803</td>\n      <td>1.514306</td>\n      <td>-1.298476</td>\n      <td>0.823773</td>\n      <td>-0.645231</td>\n      <td>-0.569351</td>\n      <td>-0.25194</td>\n      <td>0.444898</td>\n      <td>-0.363983</td>\n    </tr>\n    <tr>\n      <th>4</th>\n      <td>-0.747384</td>\n      <td>2.035139</td>\n      <td>1.368372</td>\n      <td>2.373280</td>\n      <td>-0.135490</td>\n      <td>-0.447091</td>\n      <td>-1.118674</td>\n      <td>-0.436803</td>\n      <td>1.514306</td>\n      <td>-1.298476</td>\n      <td>0.823773</td>\n      <td>-0.233620</td>\n      <td>-0.569351</td>\n      <td>-0.25194</td>\n      <td>0.444898</td>\n      <td>-0.363983</td>\n    </tr>\n    <tr>\n      <th>5</th>\n      <td>-0.559037</td>\n      <td>-0.103820</td>\n      <td>-0.275762</td>\n      <td>1.036362</td>\n      <td>-0.135490</td>\n      <td>-0.371551</td>\n      <td>0.893915</td>\n      <td>-0.436803</td>\n      <td>1.514306</td>\n      <td>-1.298476</td>\n      <td>0.823773</td>\n      <td>-0.462724</td>\n      <td>-0.569351</td>\n      <td>-0.25194</td>\n      <td>0.444898</td>\n      <td>-0.363983</td>\n    </tr>\n    <tr>\n      <th>6</th>\n      <td>-1.218254</td>\n      <td>-0.103820</td>\n      <td>1.368372</td>\n      <td>1.036362</td>\n      <td>-0.135490</td>\n      <td>-0.300608</td>\n      <td>0.893915</td>\n      <td>2.289359</td>\n      <td>1.514306</td>\n      <td>-1.298476</td>\n      <td>0.823773</td>\n      <td>-0.159841</td>\n      <td>-0.569351</td>\n      <td>-0.25194</td>\n      <td>0.444898</td>\n      <td>-0.363983</td>\n    </tr>\n    <tr>\n      <th>7</th>\n      <td>0.100181</td>\n      <td>-0.714951</td>\n      <td>-1.919895</td>\n      <td>1.036362</td>\n      <td>7.380625</td>\n      <td>-0.446762</td>\n      <td>0.893915</td>\n      <td>-0.436803</td>\n      <td>1.514306</td>\n      <td>-1.298476</td>\n      <td>0.823773</td>\n      <td>0.473107</td>\n      <td>-0.569351</td>\n      <td>-0.25194</td>\n      <td>0.444898</td>\n      <td>-0.363983</td>\n    </tr>\n    <tr>\n      <th>8</th>\n      <td>1.606965</td>\n      <td>0.201746</td>\n      <td>-0.275762</td>\n      <td>-1.637474</td>\n      <td>-0.135490</td>\n      <td>-0.407679</td>\n      <td>0.893915</td>\n      <td>-0.436803</td>\n      <td>1.514306</td>\n      <td>-1.298476</td>\n      <td>0.823773</td>\n      <td>-0.808322</td>\n      <td>-0.569351</td>\n      <td>-0.25194</td>\n      <td>0.444898</td>\n      <td>-0.363983</td>\n    </tr>\n    <tr>\n      <th>9</th>\n      <td>0.194355</td>\n      <td>1.424008</td>\n      <td>1.368372</td>\n      <td>-0.300556</td>\n      <td>-0.135490</td>\n      <td>-0.252657</td>\n      <td>0.893915</td>\n      <td>-0.436803</td>\n      <td>1.514306</td>\n      <td>-1.298476</td>\n      <td>0.823773</td>\n      <td>-0.788906</td>\n      <td>-0.569351</td>\n      <td>-0.25194</td>\n      <td>0.444898</td>\n      <td>-0.363983</td>\n    </tr>\n  </tbody>\n</table>\n</div>"
     },
     "execution_count": 17,
     "metadata": {},
     "output_type": "execute_result"
    }
   ],
   "source": [
    "df_c_scaled = df_b.copy()\n",
    "df_c_scaled[df_c_scaled.columns] = StandardScaler().fit_transform(df_c_scaled)\n",
    "df_c_scaled.head(10)"
   ],
   "metadata": {
    "collapsed": false,
    "pycharm": {
     "name": "#%%\n"
    }
   }
  },
  {
   "cell_type": "markdown",
   "source": [
    "Step 2. Feature Reduction"
   ],
   "metadata": {
    "collapsed": false,
    "pycharm": {
     "name": "#%% md\n"
    }
   }
  },
  {
   "cell_type": "code",
   "execution_count": 25,
   "outputs": [
    {
     "data": {
      "text/plain": "<Figure size 576x576 with 1 Axes>",
      "image/png": "[encoded data removed]"
     },
     "metadata": {
      "needs_background": "light"
     },
     "output_type": "display_data"
    }
   ],
   "source": [
    "pca = PCA(n_components=15)\n",
    "pca.fit(df_c_scaled)\n",
    "variance = pca.explained_variance_ratio_\n",
    "var=np.cumsum(np.round(variance, 3)*100)\n",
    "plt.figure(figsize=(8,8))\n",
    "plt.ylabel('% Variance Explained')\n",
    "plt.xlabel('# of Features')\n",
    "plt.title('PCA Analysis')\n",
    "plt.ylim(0,100.5)\n",
    "plt.plot(var)\n",
    "plt.grid()"
   ],
   "metadata": {
    "collapsed": false,
    "pycharm": {
     "name": "#%%\n"
    }
   }
  },
  {
   "cell_type": "code",
   "execution_count": 26,
   "outputs": [
    {
     "data": {
      "text/plain": "array([0.11547942, 0.10082604, 0.09269216, 0.08654713, 0.07282684,\n       0.06721034, 0.06334874, 0.05819305, 0.05732784, 0.0526237 ,\n       0.05138908, 0.04889545, 0.03786072, 0.03398965, 0.0328804 ])"
     },
     "execution_count": 26,
     "metadata": {},
     "output_type": "execute_result"
    }
   ],
   "source": [
    "variance\n",
    "\n",
    "\n",
    "\n"
   ],
   "metadata": {
    "collapsed": false,
    "pycharm": {
     "name": "#%%\n"
    }
   }
  }
 ],
 "metadata": {
  "kernelspec": {
   "name": "pycharm-865e1948",
   "language": "python",
   "display_name": "PyCharm (GITHUB_REPOSITORY)"
  },
  "language_info": {
   "codemirror_mode": {
    "name": "ipython",
    "version": 2
   },
   "file_extension": ".py",
   "mimetype": "text/x-python",
   "name": "python",
   "nbconvert_exporter": "python",
   "pygments_lexer": "ipython2",
   "version": "2.7.6"
  }
 },
 "nbformat": 4,
 "nbformat_minor": 0
}