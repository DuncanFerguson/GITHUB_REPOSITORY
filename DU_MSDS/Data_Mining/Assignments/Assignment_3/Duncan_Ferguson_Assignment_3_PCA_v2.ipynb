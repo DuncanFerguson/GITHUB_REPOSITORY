{
 "cells": [
  {
   "cell_type": "code",
   "execution_count": 14,
   "outputs": [],
   "source": [
    "# Importing Standard Libraries\n",
    "import pandas as pd\n",
    "import numpy as np\n",
    "from csv import reader\n",
    "\n",
    "# Sklearn Libraries\n",
    "from sklearn import tree\n",
    "from sklearn.model_selection import train_test_split\n",
    "from sklearn.metrics import homogeneity_score, completeness_score, adjusted_mutual_info_score, accuracy_score\n",
    "from sklearn.naive_bayes import GaussianNB\n",
    "from sklearn.cluster import KMeans, DBSCAN\n",
    "from sklearn.inspection import permutation_importance\n",
    "from sklearn.preprocessing import StandardScaler\n",
    "from sklearn.decomposition import PCA\n",
    "from sklearn.pipeline import Pipeline\n",
    "\n",
    "# Importing mlxtend Libraries\n",
    "from mlxtend.frequent_patterns import apriori, association_rules\n",
    "from mlxtend.preprocessing import TransactionEncoder\n",
    "\n",
    "# Graphing Libraries\n",
    "import matplotlib.pyplot as plt\n",
    "import seaborn as sns"
   ],
   "metadata": {
    "collapsed": false,
    "pycharm": {
     "name": "#%%\n"
    }
   }
  },
  {
   "cell_type": "code",
   "execution_count": 15,
   "outputs": [],
   "source": [
    "# Importing the Data Set\n",
    "df =  pd.read_csv(\"bank.csv\")\n",
    "# df =  pd.read_csv(\"bank-full.csv\")\n",
    "df.head()\n",
    "\n",
    "# Establishing copies for running through the different scrubs\n",
    "df_a = df.copy()\n",
    "df_b = df.copy()\n"
   ],
   "metadata": {
    "collapsed": false,
    "pycharm": {
     "name": "#%%\n"
    }
   }
  },
  {
   "cell_type": "markdown",
   "source": [
    "# Part 2\n",
    "Changing all non-numeric into category data for PCA"
   ],
   "metadata": {
    "collapsed": false
   }
  },
  {
   "cell_type": "code",
   "execution_count": 16,
   "outputs": [
    {
     "name": "stdout",
     "output_type": "stream",
     "text": [
      "Post Conversion of Data into numeric, dropping pdays, and normalizing balance:\n"
     ]
    },
    {
     "data": {
      "text/plain": "   age  job  marital  education  default   balance  housing  loan  contact  \\\n0   30   10        1          0        0  0.068455        0     0        0   \n1   33    7        1          1        0  0.108750        1     1        0   \n2   35    4        2          2        0  0.062590        1     0        0   \n3   30    4        1          2        0  0.064281        1     1        2   \n4   59    1        1          1        0  0.044469        1     0        2   \n5   35    4        2          2        0  0.054496        0     0        0   \n6   36    6        1          2        0  0.048590        1     0        0   \n7   39    9        1          1        0  0.046442        1     0        0   \n8   41    2        1          2        0  0.047436        1     0        2   \n9   43    7        1          0        0  0.043288        1     1        0   \n\n   day  month  duration  campaign  previous  poutcome  y  \n0   19     10        79         1         0         3  0  \n1   11      8       220         1         4         0  0  \n2   16      0       185         1         1         0  0  \n3    3      6       199         4         0         3  0  \n4    5      8       226         1         0         3  0  \n5   23      3       141         2         3         0  0  \n6   14      8       341         1         2         1  0  \n7    6      8       151         2         0         3  0  \n8   14      8        57         2         0         3  0  \n9   17      0       313         1         2         0  0  ",
      "text/html": "<div>\n<style scoped>\n    .dataframe tbody tr th:only-of-type {\n        vertical-align: middle;\n    }\n\n    .dataframe tbody tr th {\n        vertical-align: top;\n    }\n\n    .dataframe thead th {\n        text-align: right;\n    }\n</style>\n<table border=\"1\" class=\"dataframe\">\n  <thead>\n    <tr style=\"text-align: right;\">\n      <th></th>\n      <th>age</th>\n      <th>job</th>\n      <th>marital</th>\n      <th>education</th>\n      <th>default</th>\n      <th>balance</th>\n      <th>housing</th>\n      <th>loan</th>\n      <th>contact</th>\n      <th>day</th>\n      <th>month</th>\n      <th>duration</th>\n      <th>campaign</th>\n      <th>previous</th>\n      <th>poutcome</th>\n      <th>y</th>\n    </tr>\n  </thead>\n  <tbody>\n    <tr>\n      <th>0</th>\n      <td>30</td>\n      <td>10</td>\n      <td>1</td>\n      <td>0</td>\n      <td>0</td>\n      <td>0.068455</td>\n      <td>0</td>\n      <td>0</td>\n      <td>0</td>\n      <td>19</td>\n      <td>10</td>\n      <td>79</td>\n      <td>1</td>\n      <td>0</td>\n      <td>3</td>\n      <td>0</td>\n    </tr>\n    <tr>\n      <th>1</th>\n      <td>33</td>\n      <td>7</td>\n      <td>1</td>\n      <td>1</td>\n      <td>0</td>\n      <td>0.108750</td>\n      <td>1</td>\n      <td>1</td>\n      <td>0</td>\n      <td>11</td>\n      <td>8</td>\n      <td>220</td>\n      <td>1</td>\n      <td>4</td>\n      <td>0</td>\n      <td>0</td>\n    </tr>\n    <tr>\n      <th>2</th>\n      <td>35</td>\n      <td>4</td>\n      <td>2</td>\n      <td>2</td>\n      <td>0</td>\n      <td>0.062590</td>\n      <td>1</td>\n      <td>0</td>\n      <td>0</td>\n      <td>16</td>\n      <td>0</td>\n      <td>185</td>\n      <td>1</td>\n      <td>1</td>\n      <td>0</td>\n      <td>0</td>\n    </tr>\n    <tr>\n      <th>3</th>\n      <td>30</td>\n      <td>4</td>\n      <td>1</td>\n      <td>2</td>\n      <td>0</td>\n      <td>0.064281</td>\n      <td>1</td>\n      <td>1</td>\n      <td>2</td>\n      <td>3</td>\n      <td>6</td>\n      <td>199</td>\n      <td>4</td>\n      <td>0</td>\n      <td>3</td>\n      <td>0</td>\n    </tr>\n    <tr>\n      <th>4</th>\n      <td>59</td>\n      <td>1</td>\n      <td>1</td>\n      <td>1</td>\n      <td>0</td>\n      <td>0.044469</td>\n      <td>1</td>\n      <td>0</td>\n      <td>2</td>\n      <td>5</td>\n      <td>8</td>\n      <td>226</td>\n      <td>1</td>\n      <td>0</td>\n      <td>3</td>\n      <td>0</td>\n    </tr>\n    <tr>\n      <th>5</th>\n      <td>35</td>\n      <td>4</td>\n      <td>2</td>\n      <td>2</td>\n      <td>0</td>\n      <td>0.054496</td>\n      <td>0</td>\n      <td>0</td>\n      <td>0</td>\n      <td>23</td>\n      <td>3</td>\n      <td>141</td>\n      <td>2</td>\n      <td>3</td>\n      <td>0</td>\n      <td>0</td>\n    </tr>\n    <tr>\n      <th>6</th>\n      <td>36</td>\n      <td>6</td>\n      <td>1</td>\n      <td>2</td>\n      <td>0</td>\n      <td>0.048590</td>\n      <td>1</td>\n      <td>0</td>\n      <td>0</td>\n      <td>14</td>\n      <td>8</td>\n      <td>341</td>\n      <td>1</td>\n      <td>2</td>\n      <td>1</td>\n      <td>0</td>\n    </tr>\n    <tr>\n      <th>7</th>\n      <td>39</td>\n      <td>9</td>\n      <td>1</td>\n      <td>1</td>\n      <td>0</td>\n      <td>0.046442</td>\n      <td>1</td>\n      <td>0</td>\n      <td>0</td>\n      <td>6</td>\n      <td>8</td>\n      <td>151</td>\n      <td>2</td>\n      <td>0</td>\n      <td>3</td>\n      <td>0</td>\n    </tr>\n    <tr>\n      <th>8</th>\n      <td>41</td>\n      <td>2</td>\n      <td>1</td>\n      <td>2</td>\n      <td>0</td>\n      <td>0.047436</td>\n      <td>1</td>\n      <td>0</td>\n      <td>2</td>\n      <td>14</td>\n      <td>8</td>\n      <td>57</td>\n      <td>2</td>\n      <td>0</td>\n      <td>3</td>\n      <td>0</td>\n    </tr>\n    <tr>\n      <th>9</th>\n      <td>43</td>\n      <td>7</td>\n      <td>1</td>\n      <td>0</td>\n      <td>0</td>\n      <td>0.043288</td>\n      <td>1</td>\n      <td>1</td>\n      <td>0</td>\n      <td>17</td>\n      <td>0</td>\n      <td>313</td>\n      <td>1</td>\n      <td>2</td>\n      <td>0</td>\n      <td>0</td>\n    </tr>\n  </tbody>\n</table>\n</div>"
     },
     "execution_count": 16,
     "metadata": {},
     "output_type": "execute_result"
    }
   ],
   "source": [
    "df_b['job'] = df_b['job'].astype('category')\n",
    "df_b['job'] = df_b['job'].cat.codes\n",
    "df_b['marital'] = df_b['marital'].astype('category')\n",
    "df_b['marital'] = df_b['marital'].cat.codes\n",
    "df_b['education'] = df_b['education'].astype('category')\n",
    "df_b['education'] = df_b['education'].cat.codes\n",
    "df_b['default'] = df_b['default'].astype('category')\n",
    "df_b['default'] = df_b['default'].cat.codes\n",
    "df_b['contact'] = df_b['contact'].astype('category')\n",
    "df_b['contact'] = df_b['contact'].cat.codes\n",
    "df_b['month'] = df_b['month'].astype('category')\n",
    "df_b['month'] = df_b['month'].cat.codes\n",
    "df_b['poutcome'] = df_b['poutcome'].astype('category')\n",
    "df_b['poutcome'] = df_b['poutcome'].cat.codes\n",
    "df_b['housing'] = df_b['housing'].astype('category')\n",
    "df_b['housing'] = df_b['housing'].cat.codes\n",
    "df_b['loan'] = df_b['loan'].astype('category')\n",
    "df_b['loan'] = df_b['loan'].cat.codes\n",
    "df_b['y'] = df_b['y'].astype('category')\n",
    "df_b['y'] = df_b['y'].cat.codes\n",
    "df_b = df_b.drop('pdays',axis=1)\n",
    "df_b['balance'] = (df_b['balance'] - df_b['balance'].min()) / ( df_b['balance'].max() - df_b['balance'].min())\n",
    "print(\"Post Conversion of Data into numeric, dropping pdays, and normalizing balance:\")\n",
    "df_b.head(10)"
   ],
   "metadata": {
    "collapsed": false,
    "pycharm": {
     "name": "#%%\n"
    }
   }
  },
  {
   "cell_type": "markdown",
   "source": [
    "Exploratory Data Analysis"
   ],
   "metadata": {
    "collapsed": false,
    "pycharm": {
     "name": "#%% md\n"
    }
   },
   "outputs": [
    {
     "ename": "SyntaxError",
     "evalue": "invalid syntax (Temp/ipykernel_13928/2388544605.py, line 1)",
     "output_type": "error",
     "traceback": [
      "\u001B[1;36m  File \u001B[1;32m\"C:\\Users\\dunca\\AppData\\Local\\Temp/ipykernel_13928/2388544605.py\"\u001B[1;36m, line \u001B[1;32m1\u001B[0m\n\u001B[1;33m    Quick Data Visualization\u001B[0m\n\u001B[1;37m          ^\u001B[0m\n\u001B[1;31mSyntaxError\u001B[0m\u001B[1;31m:\u001B[0m invalid syntax\n"
     ]
    }
   ],
   "execution_count": 58
  },
  {
   "cell_type": "code",
   "execution_count": null,
   "outputs": [],
   "source": [
    "df_b.info()"
   ],
   "metadata": {
    "collapsed": false,
    "pycharm": {
     "name": "#%%\n"
    }
   }
  },
  {
   "cell_type": "code",
   "execution_count": 18,
   "outputs": [
    {
     "name": "stdout",
     "output_type": "stream",
     "text": [
      "<class 'pandas.core.frame.DataFrame'>\n",
      "RangeIndex: 4521 entries, 0 to 4520\n",
      "Data columns (total 16 columns):\n",
      " #   Column     Non-Null Count  Dtype  \n",
      "---  ------     --------------  -----  \n",
      " 0   age        4521 non-null   int64  \n",
      " 1   job        4521 non-null   int8   \n",
      " 2   marital    4521 non-null   int8   \n",
      " 3   education  4521 non-null   int8   \n",
      " 4   default    4521 non-null   int8   \n",
      " 5   balance    4521 non-null   float64\n",
      " 6   housing    4521 non-null   int8   \n",
      " 7   loan       4521 non-null   int8   \n",
      " 8   contact    4521 non-null   int8   \n",
      " 9   day        4521 non-null   int64  \n",
      " 10  month      4521 non-null   int8   \n",
      " 11  duration   4521 non-null   int64  \n",
      " 12  campaign   4521 non-null   int64  \n",
      " 13  previous   4521 non-null   int64  \n",
      " 14  poutcome   4521 non-null   int8   \n",
      " 15  y          4521 non-null   int8   \n",
      "dtypes: float64(1), int64(5), int8(10)\n",
      "memory usage: 256.2 KB\n"
     ]
    }
   ],
   "source": [
    "df_b.describe()"
   ],
   "metadata": {
    "collapsed": false,
    "pycharm": {
     "name": "#%%\n"
    }
   }
  },
  {
   "cell_type": "markdown",
   "source": [
    "The Descriptions from the data right now show that the data is displaying a lot of different scales.\n",
    "Namely the following\n",
    "- Age\n",
    "- previous\n",
    "- Duration\n",
    "- Month\n",
    "- Day <br>\n",
    "\n",
    "This Leads us to believe that we need to standardize the data to bring them into scale so that our\n",
    "different models are not affected disproportionately"
   ],
   "metadata": {
    "collapsed": false,
    "pycharm": {
     "name": "#%% md\n"
    }
   }
  },
  {
   "cell_type": "code",
   "execution_count": 26,
   "outputs": [
    {
     "data": {
      "text/plain": "<AxesSubplot:>"
     },
     "execution_count": 26,
     "metadata": {},
     "output_type": "execute_result"
    },
    {
     "data": {
      "text/plain": "<Figure size 432x288 with 2 Axes>",
      "image/png": "[encoded data removed]"
     },
     "metadata": {
      "needs_background": "light"
     },
     "output_type": "display_data"
    }
   ],
   "source": [
    "sns.heatmap(df_b.corr())"
   ],
   "metadata": {
    "collapsed": false,
    "pycharm": {
     "name": "#%%\n"
    }
   }
  },
  {
   "cell_type": "markdown",
   "source": [
    "From the Correlation Map we can see that Y has a high correlation with marital status followed by education and housing."
   ],
   "metadata": {
    "collapsed": false
   }
  },
  {
   "cell_type": "markdown",
   "source": [
    "Splitting the Data into X and Y"
   ],
   "metadata": {
    "collapsed": false,
    "pycharm": {
     "name": "#%% md\n"
    }
   }
  },
  {
   "cell_type": "code",
   "execution_count": 20,
   "outputs": [],
   "source": [
    "y = df_b[\"y\"]\n",
    "X = df_b.drop(\"y\", axis=1)"
   ],
   "metadata": {
    "collapsed": false,
    "pycharm": {
     "name": "#%%\n"
    }
   }
  },
  {
   "cell_type": "markdown",
   "source": [
    "Taking another look at the correlation of only the features"
   ],
   "metadata": {
    "collapsed": false,
    "pycharm": {
     "name": "#%% md\n"
    }
   }
  },
  {
   "cell_type": "code",
   "execution_count": 21,
   "outputs": [
    {
     "data": {
      "text/plain": "<AxesSubplot:>"
     },
     "execution_count": 21,
     "metadata": {},
     "output_type": "execute_result"
    },
    {
     "data": {
      "text/plain": "<Figure size 432x288 with 2 Axes>",
      "image/png": "[encoded data removed]"
     },
     "metadata": {
      "needs_background": "light"
     },
     "output_type": "display_data"
    }
   ],
   "source": [
    "sns.heatmap(X.corr())"
   ],
   "metadata": {
    "collapsed": false,
    "pycharm": {
     "name": "#%%\n"
    }
   }
  },
  {
   "cell_type": "markdown",
   "source": [
    "Setting the data up into training and testing splits"
   ],
   "metadata": {
    "collapsed": false,
    "pycharm": {
     "name": "#%% md\n"
    }
   }
  },
  {
   "cell_type": "code",
   "execution_count": 22,
   "outputs": [],
   "source": [
    "# Splitting the dataset into Train Set and Test Set\n",
    "X_train, X_test, y_train, y_test = train_test_split(X,y, test_size=0.2, random_state=42)"
   ],
   "metadata": {
    "collapsed": false,
    "pycharm": {
     "name": "#%%\n"
    }
   }
  },
  {
   "cell_type": "markdown",
   "source": [
    "Now I want to look at reducing the number of features and get rid of any correlation between the two\n",
    "\n",
    "First I will want to scale the data"
   ],
   "metadata": {
    "collapsed": false,
    "pycharm": {
     "name": "#%% md\n"
    }
   }
  },
  {
   "cell_type": "code",
   "execution_count": 23,
   "outputs": [
    {
     "name": "stdout",
     "output_type": "stream",
     "text": [
      "Number of Features:14\n",
      "Total Variance Explained:0.9761810012538357\n"
     ]
    }
   ],
   "source": [
    "sc = StandardScaler()\n",
    "\n",
    "X_train_scaled = sc.fit_transform(X_train)\n",
    "pca = PCA()\n",
    "X_pca = pca.fit_transform(X_train_scaled)\n",
    "\n",
    "total_explained_variance = pca.explained_variance_ratio_.cumsum()\n",
    "n_over_95 = len(total_explained_variance[total_explained_variance >= .95])\n",
    "n_to_reach_95 = X.shape[1] - n_over_95 + 1\n",
    "print(\"Number of Features:{}\".format(n_to_reach_95))\n",
    "print(\"Total Variance Explained:{}\".format(total_explained_variance[n_to_reach_95-1]))"
   ],
   "metadata": {
    "collapsed": false,
    "pycharm": {
     "name": "#%%\n"
    }
   }
  },
  {
   "cell_type": "code",
   "execution_count": 24,
   "outputs": [
    {
     "data": {
      "text/plain": "Pipeline(steps=[('scalar', StandardScaler()), ('pca', PCA(n_components=14)),\n                ('dt', DecisionTreeClassifier())])"
     },
     "execution_count": 24,
     "metadata": {},
     "output_type": "execute_result"
    }
   ],
   "source": [
    "pipe = Pipeline([('scalar', StandardScaler()),\n",
    "                 ('pca', PCA(n_components=n_to_reach_95)),\n",
    "                 ('dt', tree.DecisionTreeClassifier())])\n",
    "pipe.fit(X_train,y_train)"
   ],
   "metadata": {
    "collapsed": false,
    "pycharm": {
     "name": "#%%\n"
    }
   }
  },
  {
   "cell_type": "code",
   "execution_count": 25,
   "outputs": [
    {
     "data": {
      "text/plain": "<Figure size 432x288 with 1 Axes>",
      "image/png": "[encoded data removed]"
     },
     "metadata": {
      "needs_background": "light"
     },
     "output_type": "display_data"
    }
   ],
   "source": [
    "model = pipe.steps[1][1]\n",
    "n_pcs = model.components_.shape[0]\n",
    "initial_feature_names = X_train.columns\n",
    "most_important = [np.abs(model.components_[i]).argmax() for i in range(n_pcs)]\n",
    "most_important_names = [initial_feature_names[most_important[i]] for i in range(n_pcs)]\n",
    "zipped_feats = zip(most_important_names, pipe.steps[2][1].feature_importances_)\n",
    "zipped_feats = sorted(zipped_feats, key=lambda x: x[1], reverse=True)\n",
    "\n",
    "features, importances = zip(*zipped_feats)\n",
    "top_features = features[:15]\n",
    "top_importances = importances[:15]\n",
    "\n",
    "plt.title(\"Feature Importances\")\n",
    "plt.barh(range(len(top_importances)), top_importances, color='b', align='center')\n",
    "plt.yticks(range(len(top_importances)), top_features)\n",
    "plt.xlabel(\"Realtive Importance\")\n",
    "plt.show()"
   ],
   "metadata": {
    "collapsed": false,
    "pycharm": {
     "name": "#%%\n"
    }
   }
  },
  {
   "cell_type": "markdown",
   "source": [
    "Now to Graph the decision tree to see How many features are need to get the most accurate model"
   ],
   "metadata": {
    "collapsed": false,
    "pycharm": {
     "name": "#%% md\n"
    }
   }
  },
  {
   "cell_type": "code",
   "execution_count": 25,
   "outputs": [],
   "source": [
    "\n"
   ],
   "metadata": {
    "collapsed": false,
    "pycharm": {
     "name": "#%%\n"
    }
   }
  }
 ],
 "metadata": {
  "kernelspec": {
   "name": "pycharm-865e1948",
   "language": "python",
   "display_name": "PyCharm (GITHUB_REPOSITORY)"
  },
  "language_info": {
   "codemirror_mode": {
    "name": "ipython",
    "version": 2
   },
   "file_extension": ".py",
   "mimetype": "text/x-python",
   "name": "python",
   "nbconvert_exporter": "python",
   "pygments_lexer": "ipython2",
   "version": "2.7.6"
  }
 },
 "nbformat": 4,
 "nbformat_minor": 0
}