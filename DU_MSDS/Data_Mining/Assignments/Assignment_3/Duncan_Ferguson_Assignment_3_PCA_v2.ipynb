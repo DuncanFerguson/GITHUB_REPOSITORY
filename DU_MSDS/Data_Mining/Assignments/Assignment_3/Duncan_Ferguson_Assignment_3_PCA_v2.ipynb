{
 "cells": [
  {
   "cell_type": "code",
   "execution_count": 262,
   "outputs": [],
   "source": [
    "# Importing Standard Libraries\n",
    "import pandas as pd\n",
    "import numpy as np\n",
    "from csv import reader\n",
    "\n",
    "# Sklearn Libraries\n",
    "from sklearn import tree\n",
    "from sklearn.model_selection import train_test_split\n",
    "from sklearn.metrics import homogeneity_score, completeness_score, adjusted_mutual_info_score, accuracy_score\n",
    "from sklearn.naive_bayes import GaussianNB\n",
    "from sklearn.cluster import KMeans, DBSCAN\n",
    "from sklearn.inspection import permutation_importance\n",
    "from sklearn.preprocessing import StandardScaler\n",
    "from sklearn.decomposition import PCA\n",
    "from sklearn.pipeline import Pipeline\n",
    "\n",
    "# Importing mlxtend Libraries\n",
    "from mlxtend.frequent_patterns import apriori, association_rules\n",
    "from mlxtend.preprocessing import TransactionEncoder\n",
    "\n",
    "# Graphing Libraries\n",
    "import matplotlib.pyplot as plt\n",
    "import seaborn as sns"
   ],
   "metadata": {
    "collapsed": false,
    "pycharm": {
     "name": "#%%\n"
    }
   }
  },
  {
   "cell_type": "code",
   "execution_count": 263,
   "outputs": [],
   "source": [
    "# Importing the Data Set\n",
    "# df =  pd.read_csv(\"bank.csv\")\n",
    "df =  pd.read_csv(\"bank-full.csv\")\n",
    "df.head()\n",
    "\n",
    "# Establishing copies for running through the different scrubs\n",
    "df_a = df.copy()\n",
    "df_b = df.copy()\n"
   ],
   "metadata": {
    "collapsed": false,
    "pycharm": {
     "name": "#%%\n"
    }
   }
  },
  {
   "cell_type": "markdown",
   "source": [
    "# Part 2\n",
    "Changing all non-numeric into category data for PCA"
   ],
   "metadata": {
    "collapsed": false
   }
  },
  {
   "cell_type": "code",
   "execution_count": 264,
   "outputs": [
    {
     "name": "stdout",
     "output_type": "stream",
     "text": [
      "Post Conversion of Data into numeric, dropping pdays, and normalizing balance:\n"
     ]
    },
    {
     "data": {
      "text/plain": "   age  job  marital  education  default   balance  housing  loan  contact  \\\n0   58    4        1          2        0  0.092259        1     0        2   \n1   44    9        2          1        0  0.073067        1     0        2   \n2   33    2        1          1        0  0.072822        1     1        2   \n3   47    1        1          3        0  0.086476        1     0        2   \n4   33   11        2          3        0  0.072812        0     0        2   \n5   35    4        1          2        0  0.074901        1     0        2   \n6   28    4        2          2        0  0.076862        1     1        2   \n7   42    2        0          2        1  0.072822        1     0        2   \n8   58    5        1          0        0  0.073902        1     0        2   \n9   43    9        2          1        0  0.078187        1     0        2   \n\n   day  month  duration  campaign  previous  poutcome  y  \n0    5      8       261         1         0         3  0  \n1    5      8       151         1         0         3  0  \n2    5      8        76         1         0         3  0  \n3    5      8        92         1         0         3  0  \n4    5      8       198         1         0         3  0  \n5    5      8       139         1         0         3  0  \n6    5      8       217         1         0         3  0  \n7    5      8       380         1         0         3  0  \n8    5      8        50         1         0         3  0  \n9    5      8        55         1         0         3  0  ",
      "text/html": "<div>\n<style scoped>\n    .dataframe tbody tr th:only-of-type {\n        vertical-align: middle;\n    }\n\n    .dataframe tbody tr th {\n        vertical-align: top;\n    }\n\n    .dataframe thead th {\n        text-align: right;\n    }\n</style>\n<table border=\"1\" class=\"dataframe\">\n  <thead>\n    <tr style=\"text-align: right;\">\n      <th></th>\n      <th>age</th>\n      <th>job</th>\n      <th>marital</th>\n      <th>education</th>\n      <th>default</th>\n      <th>balance</th>\n      <th>housing</th>\n      <th>loan</th>\n      <th>contact</th>\n      <th>day</th>\n      <th>month</th>\n      <th>duration</th>\n      <th>campaign</th>\n      <th>previous</th>\n      <th>poutcome</th>\n      <th>y</th>\n    </tr>\n  </thead>\n  <tbody>\n    <tr>\n      <th>0</th>\n      <td>58</td>\n      <td>4</td>\n      <td>1</td>\n      <td>2</td>\n      <td>0</td>\n      <td>0.092259</td>\n      <td>1</td>\n      <td>0</td>\n      <td>2</td>\n      <td>5</td>\n      <td>8</td>\n      <td>261</td>\n      <td>1</td>\n      <td>0</td>\n      <td>3</td>\n      <td>0</td>\n    </tr>\n    <tr>\n      <th>1</th>\n      <td>44</td>\n      <td>9</td>\n      <td>2</td>\n      <td>1</td>\n      <td>0</td>\n      <td>0.073067</td>\n      <td>1</td>\n      <td>0</td>\n      <td>2</td>\n      <td>5</td>\n      <td>8</td>\n      <td>151</td>\n      <td>1</td>\n      <td>0</td>\n      <td>3</td>\n      <td>0</td>\n    </tr>\n    <tr>\n      <th>2</th>\n      <td>33</td>\n      <td>2</td>\n      <td>1</td>\n      <td>1</td>\n      <td>0</td>\n      <td>0.072822</td>\n      <td>1</td>\n      <td>1</td>\n      <td>2</td>\n      <td>5</td>\n      <td>8</td>\n      <td>76</td>\n      <td>1</td>\n      <td>0</td>\n      <td>3</td>\n      <td>0</td>\n    </tr>\n    <tr>\n      <th>3</th>\n      <td>47</td>\n      <td>1</td>\n      <td>1</td>\n      <td>3</td>\n      <td>0</td>\n      <td>0.086476</td>\n      <td>1</td>\n      <td>0</td>\n      <td>2</td>\n      <td>5</td>\n      <td>8</td>\n      <td>92</td>\n      <td>1</td>\n      <td>0</td>\n      <td>3</td>\n      <td>0</td>\n    </tr>\n    <tr>\n      <th>4</th>\n      <td>33</td>\n      <td>11</td>\n      <td>2</td>\n      <td>3</td>\n      <td>0</td>\n      <td>0.072812</td>\n      <td>0</td>\n      <td>0</td>\n      <td>2</td>\n      <td>5</td>\n      <td>8</td>\n      <td>198</td>\n      <td>1</td>\n      <td>0</td>\n      <td>3</td>\n      <td>0</td>\n    </tr>\n    <tr>\n      <th>5</th>\n      <td>35</td>\n      <td>4</td>\n      <td>1</td>\n      <td>2</td>\n      <td>0</td>\n      <td>0.074901</td>\n      <td>1</td>\n      <td>0</td>\n      <td>2</td>\n      <td>5</td>\n      <td>8</td>\n      <td>139</td>\n      <td>1</td>\n      <td>0</td>\n      <td>3</td>\n      <td>0</td>\n    </tr>\n    <tr>\n      <th>6</th>\n      <td>28</td>\n      <td>4</td>\n      <td>2</td>\n      <td>2</td>\n      <td>0</td>\n      <td>0.076862</td>\n      <td>1</td>\n      <td>1</td>\n      <td>2</td>\n      <td>5</td>\n      <td>8</td>\n      <td>217</td>\n      <td>1</td>\n      <td>0</td>\n      <td>3</td>\n      <td>0</td>\n    </tr>\n    <tr>\n      <th>7</th>\n      <td>42</td>\n      <td>2</td>\n      <td>0</td>\n      <td>2</td>\n      <td>1</td>\n      <td>0.072822</td>\n      <td>1</td>\n      <td>0</td>\n      <td>2</td>\n      <td>5</td>\n      <td>8</td>\n      <td>380</td>\n      <td>1</td>\n      <td>0</td>\n      <td>3</td>\n      <td>0</td>\n    </tr>\n    <tr>\n      <th>8</th>\n      <td>58</td>\n      <td>5</td>\n      <td>1</td>\n      <td>0</td>\n      <td>0</td>\n      <td>0.073902</td>\n      <td>1</td>\n      <td>0</td>\n      <td>2</td>\n      <td>5</td>\n      <td>8</td>\n      <td>50</td>\n      <td>1</td>\n      <td>0</td>\n      <td>3</td>\n      <td>0</td>\n    </tr>\n    <tr>\n      <th>9</th>\n      <td>43</td>\n      <td>9</td>\n      <td>2</td>\n      <td>1</td>\n      <td>0</td>\n      <td>0.078187</td>\n      <td>1</td>\n      <td>0</td>\n      <td>2</td>\n      <td>5</td>\n      <td>8</td>\n      <td>55</td>\n      <td>1</td>\n      <td>0</td>\n      <td>3</td>\n      <td>0</td>\n    </tr>\n  </tbody>\n</table>\n</div>"
     },
     "execution_count": 264,
     "metadata": {},
     "output_type": "execute_result"
    }
   ],
   "source": [
    "df_b['job'] = df_b['job'].astype('category')\n",
    "df_b['job'] = df_b['job'].cat.codes\n",
    "df_b['marital'] = df_b['marital'].astype('category')\n",
    "df_b['marital'] = df_b['marital'].cat.codes\n",
    "df_b['education'] = df_b['education'].astype('category')\n",
    "df_b['education'] = df_b['education'].cat.codes\n",
    "df_b['default'] = df_b['default'].astype('category')\n",
    "df_b['default'] = df_b['default'].cat.codes\n",
    "df_b['contact'] = df_b['contact'].astype('category')\n",
    "df_b['contact'] = df_b['contact'].cat.codes\n",
    "df_b['month'] = df_b['month'].astype('category')\n",
    "df_b['month'] = df_b['month'].cat.codes\n",
    "df_b['poutcome'] = df_b['poutcome'].astype('category')\n",
    "df_b['poutcome'] = df_b['poutcome'].cat.codes\n",
    "df_b['housing'] = df_b['housing'].astype('category')\n",
    "df_b['housing'] = df_b['housing'].cat.codes\n",
    "df_b['loan'] = df_b['loan'].astype('category')\n",
    "df_b['loan'] = df_b['loan'].cat.codes\n",
    "df_b['y'] = df_b['y'].astype('category')\n",
    "df_b['y'] = df_b['y'].cat.codes\n",
    "df_b = df_b.drop('pdays',axis=1)\n",
    "df_b['balance'] = (df_b['balance'] - df_b['balance'].min()) / ( df_b['balance'].max() - df_b['balance'].min())\n",
    "print(\"Post Conversion of Data into numeric, dropping pdays, and normalizing balance:\")\n",
    "df_b.head(10)"
   ],
   "metadata": {
    "collapsed": false,
    "pycharm": {
     "name": "#%%\n"
    }
   }
  },
  {
   "cell_type": "markdown",
   "source": [
    "Exploratory Data Analysis"
   ],
   "metadata": {
    "collapsed": false,
    "pycharm": {
     "name": "#%% md\n"
    }
   },
   "outputs": [
    {
     "ename": "SyntaxError",
     "evalue": "invalid syntax (Temp/ipykernel_13928/2388544605.py, line 1)",
     "output_type": "error",
     "traceback": [
      "\u001B[1;36m  File \u001B[1;32m\"C:\\Users\\dunca\\AppData\\Local\\Temp/ipykernel_13928/2388544605.py\"\u001B[1;36m, line \u001B[1;32m1\u001B[0m\n\u001B[1;33m    Quick Data Visualization\u001B[0m\n\u001B[1;37m          ^\u001B[0m\n\u001B[1;31mSyntaxError\u001B[0m\u001B[1;31m:\u001B[0m invalid syntax\n"
     ]
    }
   ],
   "execution_count": 58
  },
  {
   "cell_type": "code",
   "execution_count": 265,
   "outputs": [
    {
     "name": "stdout",
     "output_type": "stream",
     "text": [
      "<class 'pandas.core.frame.DataFrame'>\n",
      "RangeIndex: 45211 entries, 0 to 45210\n",
      "Data columns (total 16 columns):\n",
      " #   Column     Non-Null Count  Dtype  \n",
      "---  ------     --------------  -----  \n",
      " 0   age        45211 non-null  int64  \n",
      " 1   job        45211 non-null  int8   \n",
      " 2   marital    45211 non-null  int8   \n",
      " 3   education  45211 non-null  int8   \n",
      " 4   default    45211 non-null  int8   \n",
      " 5   balance    45211 non-null  float64\n",
      " 6   housing    45211 non-null  int8   \n",
      " 7   loan       45211 non-null  int8   \n",
      " 8   contact    45211 non-null  int8   \n",
      " 9   day        45211 non-null  int64  \n",
      " 10  month      45211 non-null  int8   \n",
      " 11  duration   45211 non-null  int64  \n",
      " 12  campaign   45211 non-null  int64  \n",
      " 13  previous   45211 non-null  int64  \n",
      " 14  poutcome   45211 non-null  int8   \n",
      " 15  y          45211 non-null  int8   \n",
      "dtypes: float64(1), int64(5), int8(10)\n",
      "memory usage: 2.5 MB\n"
     ]
    }
   ],
   "source": [
    "df_b.info()"
   ],
   "metadata": {
    "collapsed": false,
    "pycharm": {
     "name": "#%%\n"
    }
   }
  },
  {
   "cell_type": "code",
   "execution_count": 266,
   "outputs": [
    {
     "data": {
      "text/plain": "                age           job       marital     education       default  \\\ncount  45211.000000  45211.000000  45211.000000  45211.000000  45211.000000   \nmean      40.936210      4.339762      1.167725      1.224813      0.018027   \nstd       10.618762      3.272657      0.608230      0.747997      0.133049   \nmin       18.000000      0.000000      0.000000      0.000000      0.000000   \n25%       33.000000      1.000000      1.000000      1.000000      0.000000   \n50%       39.000000      4.000000      1.000000      1.000000      0.000000   \n75%       48.000000      7.000000      2.000000      2.000000      0.000000   \nmax       95.000000     11.000000      2.000000      3.000000      1.000000   \n\n            balance       housing          loan       contact           day  \\\ncount  45211.000000  45211.000000  45211.000000  45211.000000  45211.000000   \nmean       0.085171      0.555838      0.160226      0.640242     15.806419   \nstd        0.027643      0.496878      0.366820      0.897951      8.322476   \nmin        0.000000      0.000000      0.000000      0.000000      1.000000   \n25%        0.073457      0.000000      0.000000      0.000000      8.000000   \n50%        0.076871      1.000000      0.000000      0.000000     16.000000   \n75%        0.085768      1.000000      0.000000      2.000000     21.000000   \nmax        1.000000      1.000000      1.000000      2.000000     31.000000   \n\n              month      duration      campaign      previous      poutcome  \\\ncount  45211.000000  45211.000000  45211.000000  45211.000000  45211.000000   \nmean       5.523014    258.163080      2.763841      0.580323      2.559974   \nstd        3.006911    257.527812      3.098021      2.303441      0.989059   \nmin        0.000000      0.000000      1.000000      0.000000      0.000000   \n25%        3.000000    103.000000      1.000000      0.000000      3.000000   \n50%        6.000000    180.000000      2.000000      0.000000      3.000000   \n75%        8.000000    319.000000      3.000000      0.000000      3.000000   \nmax       11.000000   4918.000000     63.000000    275.000000      3.000000   \n\n                  y  \ncount  45211.000000  \nmean       0.116985  \nstd        0.321406  \nmin        0.000000  \n25%        0.000000  \n50%        0.000000  \n75%        0.000000  \nmax        1.000000  ",
      "text/html": "<div>\n<style scoped>\n    .dataframe tbody tr th:only-of-type {\n        vertical-align: middle;\n    }\n\n    .dataframe tbody tr th {\n        vertical-align: top;\n    }\n\n    .dataframe thead th {\n        text-align: right;\n    }\n</style>\n<table border=\"1\" class=\"dataframe\">\n  <thead>\n    <tr style=\"text-align: right;\">\n      <th></th>\n      <th>age</th>\n      <th>job</th>\n      <th>marital</th>\n      <th>education</th>\n      <th>default</th>\n      <th>balance</th>\n      <th>housing</th>\n      <th>loan</th>\n      <th>contact</th>\n      <th>day</th>\n      <th>month</th>\n      <th>duration</th>\n      <th>campaign</th>\n      <th>previous</th>\n      <th>poutcome</th>\n      <th>y</th>\n    </tr>\n  </thead>\n  <tbody>\n    <tr>\n      <th>count</th>\n      <td>45211.000000</td>\n      <td>45211.000000</td>\n      <td>45211.000000</td>\n      <td>45211.000000</td>\n      <td>45211.000000</td>\n      <td>45211.000000</td>\n      <td>45211.000000</td>\n      <td>45211.000000</td>\n      <td>45211.000000</td>\n      <td>45211.000000</td>\n      <td>45211.000000</td>\n      <td>45211.000000</td>\n      <td>45211.000000</td>\n      <td>45211.000000</td>\n      <td>45211.000000</td>\n      <td>45211.000000</td>\n    </tr>\n    <tr>\n      <th>mean</th>\n      <td>40.936210</td>\n      <td>4.339762</td>\n      <td>1.167725</td>\n      <td>1.224813</td>\n      <td>0.018027</td>\n      <td>0.085171</td>\n      <td>0.555838</td>\n      <td>0.160226</td>\n      <td>0.640242</td>\n      <td>15.806419</td>\n      <td>5.523014</td>\n      <td>258.163080</td>\n      <td>2.763841</td>\n      <td>0.580323</td>\n      <td>2.559974</td>\n      <td>0.116985</td>\n    </tr>\n    <tr>\n      <th>std</th>\n      <td>10.618762</td>\n      <td>3.272657</td>\n      <td>0.608230</td>\n      <td>0.747997</td>\n      <td>0.133049</td>\n      <td>0.027643</td>\n      <td>0.496878</td>\n      <td>0.366820</td>\n      <td>0.897951</td>\n      <td>8.322476</td>\n      <td>3.006911</td>\n      <td>257.527812</td>\n      <td>3.098021</td>\n      <td>2.303441</td>\n      <td>0.989059</td>\n      <td>0.321406</td>\n    </tr>\n    <tr>\n      <th>min</th>\n      <td>18.000000</td>\n      <td>0.000000</td>\n      <td>0.000000</td>\n      <td>0.000000</td>\n      <td>0.000000</td>\n      <td>0.000000</td>\n      <td>0.000000</td>\n      <td>0.000000</td>\n      <td>0.000000</td>\n      <td>1.000000</td>\n      <td>0.000000</td>\n      <td>0.000000</td>\n      <td>1.000000</td>\n      <td>0.000000</td>\n      <td>0.000000</td>\n      <td>0.000000</td>\n    </tr>\n    <tr>\n      <th>25%</th>\n      <td>33.000000</td>\n      <td>1.000000</td>\n      <td>1.000000</td>\n      <td>1.000000</td>\n      <td>0.000000</td>\n      <td>0.073457</td>\n      <td>0.000000</td>\n      <td>0.000000</td>\n      <td>0.000000</td>\n      <td>8.000000</td>\n      <td>3.000000</td>\n      <td>103.000000</td>\n      <td>1.000000</td>\n      <td>0.000000</td>\n      <td>3.000000</td>\n      <td>0.000000</td>\n    </tr>\n    <tr>\n      <th>50%</th>\n      <td>39.000000</td>\n      <td>4.000000</td>\n      <td>1.000000</td>\n      <td>1.000000</td>\n      <td>0.000000</td>\n      <td>0.076871</td>\n      <td>1.000000</td>\n      <td>0.000000</td>\n      <td>0.000000</td>\n      <td>16.000000</td>\n      <td>6.000000</td>\n      <td>180.000000</td>\n      <td>2.000000</td>\n      <td>0.000000</td>\n      <td>3.000000</td>\n      <td>0.000000</td>\n    </tr>\n    <tr>\n      <th>75%</th>\n      <td>48.000000</td>\n      <td>7.000000</td>\n      <td>2.000000</td>\n      <td>2.000000</td>\n      <td>0.000000</td>\n      <td>0.085768</td>\n      <td>1.000000</td>\n      <td>0.000000</td>\n      <td>2.000000</td>\n      <td>21.000000</td>\n      <td>8.000000</td>\n      <td>319.000000</td>\n      <td>3.000000</td>\n      <td>0.000000</td>\n      <td>3.000000</td>\n      <td>0.000000</td>\n    </tr>\n    <tr>\n      <th>max</th>\n      <td>95.000000</td>\n      <td>11.000000</td>\n      <td>2.000000</td>\n      <td>3.000000</td>\n      <td>1.000000</td>\n      <td>1.000000</td>\n      <td>1.000000</td>\n      <td>1.000000</td>\n      <td>2.000000</td>\n      <td>31.000000</td>\n      <td>11.000000</td>\n      <td>4918.000000</td>\n      <td>63.000000</td>\n      <td>275.000000</td>\n      <td>3.000000</td>\n      <td>1.000000</td>\n    </tr>\n  </tbody>\n</table>\n</div>"
     },
     "execution_count": 266,
     "metadata": {},
     "output_type": "execute_result"
    }
   ],
   "source": [
    "df_b.describe()"
   ],
   "metadata": {
    "collapsed": false,
    "pycharm": {
     "name": "#%%\n"
    }
   }
  },
  {
   "cell_type": "markdown",
   "source": [
    "The Descriptions from the data right now show that the data is displaying a lot of different scales.\n",
    "Namely the following\n",
    "- Age\n",
    "- previous\n",
    "- Duration\n",
    "- Month\n",
    "- Day <br>\n",
    "\n",
    "This Leads us to believe that we need to standardize the data to bring them into scale so that our\n",
    "different models are not affected disproportionately"
   ],
   "metadata": {
    "collapsed": false,
    "pycharm": {
     "name": "#%% md\n"
    }
   }
  },
  {
   "cell_type": "code",
   "execution_count": 267,
   "outputs": [
    {
     "data": {
      "text/plain": "<AxesSubplot:>"
     },
     "execution_count": 267,
     "metadata": {},
     "output_type": "execute_result"
    },
    {
     "data": {
      "text/plain": "<Figure size 432x288 with 2 Axes>",
      "image/png": "[encoded data removed]"
     },
     "metadata": {
      "needs_background": "light"
     },
     "output_type": "display_data"
    }
   ],
   "source": [
    "sns.heatmap(df_b.corr())"
   ],
   "metadata": {
    "collapsed": false,
    "pycharm": {
     "name": "#%%\n"
    }
   }
  },
  {
   "cell_type": "markdown",
   "source": [
    "From the Correlation Map we can see that Y has a high correlation with marital status followed by education and housing.\n"
   ],
   "metadata": {
    "collapsed": false
   }
  },
  {
   "cell_type": "markdown",
   "source": [
    "Splitting the Data into X and Y"
   ],
   "metadata": {
    "collapsed": false,
    "pycharm": {
     "name": "#%% md\n"
    }
   }
  },
  {
   "cell_type": "code",
   "execution_count": 268,
   "outputs": [],
   "source": [
    "y = df_b[\"y\"]\n",
    "X = df_b.drop(\"y\", axis=1)"
   ],
   "metadata": {
    "collapsed": false,
    "pycharm": {
     "name": "#%%\n"
    }
   }
  },
  {
   "cell_type": "markdown",
   "source": [
    "Taking another look at the correlation of only the features"
   ],
   "metadata": {
    "collapsed": false,
    "pycharm": {
     "name": "#%% md\n"
    }
   }
  },
  {
   "cell_type": "code",
   "execution_count": 269,
   "outputs": [
    {
     "data": {
      "text/plain": "<AxesSubplot:>"
     },
     "execution_count": 269,
     "metadata": {},
     "output_type": "execute_result"
    },
    {
     "data": {
      "text/plain": "<Figure size 432x288 with 2 Axes>",
      "image/png": "[encoded data removed]"
     },
     "metadata": {
      "needs_background": "light"
     },
     "output_type": "display_data"
    }
   ],
   "source": [
    "sns.heatmap(X.corr())"
   ],
   "metadata": {
    "collapsed": false,
    "pycharm": {
     "name": "#%%\n"
    }
   }
  },
  {
   "cell_type": "markdown",
   "source": [
    "Setting the data up into training and testing splits"
   ],
   "metadata": {
    "collapsed": false,
    "pycharm": {
     "name": "#%% md\n"
    }
   }
  },
  {
   "cell_type": "code",
   "execution_count": 270,
   "outputs": [],
   "source": [
    "# Splitting the dataset into Train Set and Test Set\n",
    "X_train, X_test, y_train, y_test = train_test_split(X,y, test_size=0.2, random_state=0)"
   ],
   "metadata": {
    "collapsed": false,
    "pycharm": {
     "name": "#%%\n"
    }
   }
  },
  {
   "cell_type": "markdown",
   "source": [
    "Now I want to look at reducing the number of features and get rid of any correlation between the two\n",
    "\n",
    "First I will want to scale the data"
   ],
   "metadata": {
    "collapsed": false,
    "pycharm": {
     "name": "#%% md\n"
    }
   }
  },
  {
   "cell_type": "code",
   "execution_count": 271,
   "outputs": [
    {
     "name": "stdout",
     "output_type": "stream",
     "text": [
      "Number of Features:14\n",
      "Total Variance Explained:0.9695974883329092\n"
     ]
    }
   ],
   "source": [
    "sc = StandardScaler()\n",
    "\n",
    "X_train_scaled = sc.fit_transform(X_train)\n",
    "pca = PCA()\n",
    "X_pca = pca.fit_transform(X_train_scaled)\n",
    "\n",
    "total_explained_variance = pca.explained_variance_ratio_.cumsum()\n",
    "n_over_95 = len(total_explained_variance[total_explained_variance >= .95])\n",
    "n_to_reach_95 = X.shape[1] - n_over_95 + 1\n",
    "print(\"Number of Features:{}\".format(n_to_reach_95))\n",
    "print(\"Total Variance Explained:{}\".format(total_explained_variance[n_to_reach_95-1]))"
   ],
   "metadata": {
    "collapsed": false,
    "pycharm": {
     "name": "#%%\n"
    }
   }
  },
  {
   "cell_type": "code",
   "execution_count": 272,
   "outputs": [
    {
     "data": {
      "text/plain": "Pipeline(steps=[('scalar', StandardScaler()),\n                ('pca', PCA(n_components=14, random_state=0)),\n                ('dt', DecisionTreeClassifier())])"
     },
     "execution_count": 272,
     "metadata": {},
     "output_type": "execute_result"
    }
   ],
   "source": [
    "pipe = Pipeline([('scalar', StandardScaler()),\n",
    "                 ('pca', PCA(n_components=n_to_reach_95, random_state=0)),\n",
    "                 ('dt', tree.DecisionTreeClassifier())])\n",
    "pipe.fit(X_train,y_train)"
   ],
   "metadata": {
    "collapsed": false,
    "pycharm": {
     "name": "#%%\n"
    }
   }
  },
  {
   "cell_type": "code",
   "execution_count": 273,
   "outputs": [
    {
     "data": {
      "text/plain": "<Figure size 432x288 with 1 Axes>",
      "image/png": "[encoded data removed]"
     },
     "metadata": {
      "needs_background": "light"
     },
     "output_type": "display_data"
    }
   ],
   "source": [
    "model = pipe.steps[1][1]\n",
    "n_pcs = model.components_.shape[0]\n",
    "initial_feature_names = X_train.columns\n",
    "most_important = [np.abs(model.components_[i]).argmax() for i in range(n_pcs)]\n",
    "most_important_names = [initial_feature_names[most_important[i]] for i in range(n_pcs)]\n",
    "zipped_feats = zip(most_important_names, pipe.steps[2][1].feature_importances_)\n",
    "zipped_feats = sorted(zipped_feats, key=lambda x: x[1], reverse=True)\n",
    "\n",
    "features, importances = zip(*zipped_feats)\n",
    "top_features = features[:15]\n",
    "top_importances = importances[:15]\n",
    "\n",
    "plt.title(\"Feature Importances\")\n",
    "plt.barh(range(len(top_importances)), top_importances, color='b', align='center')\n",
    "plt.yticks(range(len(top_importances)), top_features)\n",
    "plt.xlabel(\"Relative Importance\")\n",
    "plt.show()"
   ],
   "metadata": {
    "collapsed": false,
    "pycharm": {
     "name": "#%%\n"
    }
   }
  },
  {
   "cell_type": "markdown",
   "source": [
    "The Function Below Gathers the Accuracies for the different amount of components for PCA"
   ],
   "metadata": {
    "collapsed": false,
    "pycharm": {
     "name": "#%% md\n"
    }
   }
  },
  {
   "cell_type": "code",
   "execution_count": 274,
   "outputs": [],
   "source": [
    "def gather_model_accuracies(class_type, name):\n",
    "    \"\"\"This function takes in Different Classifiers to gather accuracies\"\"\"\n",
    "    accuracy = []\n",
    "    for i in range(1,16):\n",
    "        pipe = Pipeline([('scalar', StandardScaler()),\n",
    "                         ('preprocessor', PCA(n_components=i, random_state=0)),\n",
    "                         ('clf', class_type)])\n",
    "        pipe.fit(X_train, y_train)\n",
    "        y_prediction = pipe.predict(X_test)\n",
    "        accuracy.append(accuracy_score(y_test, y_prediction))\n",
    "    accuracy = pd.DataFrame(accuracy, index=[i for i in range(1,16)], columns=[name])\n",
    "    return accuracy"
   ],
   "metadata": {
    "collapsed": false,
    "pycharm": {
     "name": "#%%\n"
    }
   }
  },
  {
   "cell_type": "markdown",
   "source": [
    "The Function Below Graphs the Accuracies Gathered from above"
   ],
   "metadata": {
    "collapsed": false,
    "pycharm": {
     "name": "#%% md\n"
    }
   }
  },
  {
   "cell_type": "code",
   "execution_count": 275,
   "outputs": [
    {
     "data": {
      "text/plain": "    Decision Tree\n1        0.802720\n2        0.807918\n3        0.816875\n4        0.827159\n5        0.838881\n6        0.838991\n7        0.850824\n8        0.853146\n9        0.852483\n10       0.848059\n11       0.852925\n12       0.851266\n13       0.855468\n14       0.854584\n15       0.852483",
      "text/html": "<div>\n<style scoped>\n    .dataframe tbody tr th:only-of-type {\n        vertical-align: middle;\n    }\n\n    .dataframe tbody tr th {\n        vertical-align: top;\n    }\n\n    .dataframe thead th {\n        text-align: right;\n    }\n</style>\n<table border=\"1\" class=\"dataframe\">\n  <thead>\n    <tr style=\"text-align: right;\">\n      <th></th>\n      <th>Decision Tree</th>\n    </tr>\n  </thead>\n  <tbody>\n    <tr>\n      <th>1</th>\n      <td>0.802720</td>\n    </tr>\n    <tr>\n      <th>2</th>\n      <td>0.807918</td>\n    </tr>\n    <tr>\n      <th>3</th>\n      <td>0.816875</td>\n    </tr>\n    <tr>\n      <th>4</th>\n      <td>0.827159</td>\n    </tr>\n    <tr>\n      <th>5</th>\n      <td>0.838881</td>\n    </tr>\n    <tr>\n      <th>6</th>\n      <td>0.838991</td>\n    </tr>\n    <tr>\n      <th>7</th>\n      <td>0.850824</td>\n    </tr>\n    <tr>\n      <th>8</th>\n      <td>0.853146</td>\n    </tr>\n    <tr>\n      <th>9</th>\n      <td>0.852483</td>\n    </tr>\n    <tr>\n      <th>10</th>\n      <td>0.848059</td>\n    </tr>\n    <tr>\n      <th>11</th>\n      <td>0.852925</td>\n    </tr>\n    <tr>\n      <th>12</th>\n      <td>0.851266</td>\n    </tr>\n    <tr>\n      <th>13</th>\n      <td>0.855468</td>\n    </tr>\n    <tr>\n      <th>14</th>\n      <td>0.854584</td>\n    </tr>\n    <tr>\n      <th>15</th>\n      <td>0.852483</td>\n    </tr>\n  </tbody>\n</table>\n</div>"
     },
     "execution_count": 275,
     "metadata": {},
     "output_type": "execute_result"
    }
   ],
   "source": [
    "dtree_accuracy = gather_model_accuracies(tree.DecisionTreeClassifier(random_state=0), \"Decision Tree\")\n",
    "dtree_accuracy"
   ],
   "metadata": {
    "collapsed": false,
    "pycharm": {
     "name": "#%%\n"
    }
   }
  },
  {
   "cell_type": "code",
   "execution_count": 276,
   "outputs": [
    {
     "data": {
      "text/plain": "    Gaussian\n1   0.882451\n2   0.882451\n3   0.881345\n4   0.882119\n5   0.882672\n6   0.883003\n7   0.884773\n8   0.884883\n9   0.885879\n10  0.885657\n11  0.885768\n12  0.886653\n13  0.885436\n14  0.884883\n15  0.884883",
      "text/html": "<div>\n<style scoped>\n    .dataframe tbody tr th:only-of-type {\n        vertical-align: middle;\n    }\n\n    .dataframe tbody tr th {\n        vertical-align: top;\n    }\n\n    .dataframe thead th {\n        text-align: right;\n    }\n</style>\n<table border=\"1\" class=\"dataframe\">\n  <thead>\n    <tr style=\"text-align: right;\">\n      <th></th>\n      <th>Gaussian</th>\n    </tr>\n  </thead>\n  <tbody>\n    <tr>\n      <th>1</th>\n      <td>0.882451</td>\n    </tr>\n    <tr>\n      <th>2</th>\n      <td>0.882451</td>\n    </tr>\n    <tr>\n      <th>3</th>\n      <td>0.881345</td>\n    </tr>\n    <tr>\n      <th>4</th>\n      <td>0.882119</td>\n    </tr>\n    <tr>\n      <th>5</th>\n      <td>0.882672</td>\n    </tr>\n    <tr>\n      <th>6</th>\n      <td>0.883003</td>\n    </tr>\n    <tr>\n      <th>7</th>\n      <td>0.884773</td>\n    </tr>\n    <tr>\n      <th>8</th>\n      <td>0.884883</td>\n    </tr>\n    <tr>\n      <th>9</th>\n      <td>0.885879</td>\n    </tr>\n    <tr>\n      <th>10</th>\n      <td>0.885657</td>\n    </tr>\n    <tr>\n      <th>11</th>\n      <td>0.885768</td>\n    </tr>\n    <tr>\n      <th>12</th>\n      <td>0.886653</td>\n    </tr>\n    <tr>\n      <th>13</th>\n      <td>0.885436</td>\n    </tr>\n    <tr>\n      <th>14</th>\n      <td>0.884883</td>\n    </tr>\n    <tr>\n      <th>15</th>\n      <td>0.884883</td>\n    </tr>\n  </tbody>\n</table>\n</div>"
     },
     "execution_count": 276,
     "metadata": {},
     "output_type": "execute_result"
    }
   ],
   "source": [
    "gnb_accuracy = gather_model_accuracies(GaussianNB(), \"Gaussian\")\n",
    "gnb_accuracy"
   ],
   "metadata": {
    "collapsed": false,
    "pycharm": {
     "name": "#%%\n"
    }
   }
  },
  {
   "cell_type": "code",
   "execution_count": 277,
   "outputs": [
    {
     "data": {
      "text/plain": "     K-Means\n1   0.164547\n2   0.225147\n3   0.117881\n4   0.074865\n5   0.157359\n6   0.066018\n7   0.158465\n8   0.215305\n9   0.038704\n10  0.160787\n11  0.291828\n12  0.028752\n13  0.179255\n14  0.156475\n15  0.052084",
      "text/html": "<div>\n<style scoped>\n    .dataframe tbody tr th:only-of-type {\n        vertical-align: middle;\n    }\n\n    .dataframe tbody tr th {\n        vertical-align: top;\n    }\n\n    .dataframe thead th {\n        text-align: right;\n    }\n</style>\n<table border=\"1\" class=\"dataframe\">\n  <thead>\n    <tr style=\"text-align: right;\">\n      <th></th>\n      <th>K-Means</th>\n    </tr>\n  </thead>\n  <tbody>\n    <tr>\n      <th>1</th>\n      <td>0.164547</td>\n    </tr>\n    <tr>\n      <th>2</th>\n      <td>0.225147</td>\n    </tr>\n    <tr>\n      <th>3</th>\n      <td>0.117881</td>\n    </tr>\n    <tr>\n      <th>4</th>\n      <td>0.074865</td>\n    </tr>\n    <tr>\n      <th>5</th>\n      <td>0.157359</td>\n    </tr>\n    <tr>\n      <th>6</th>\n      <td>0.066018</td>\n    </tr>\n    <tr>\n      <th>7</th>\n      <td>0.158465</td>\n    </tr>\n    <tr>\n      <th>8</th>\n      <td>0.215305</td>\n    </tr>\n    <tr>\n      <th>9</th>\n      <td>0.038704</td>\n    </tr>\n    <tr>\n      <th>10</th>\n      <td>0.160787</td>\n    </tr>\n    <tr>\n      <th>11</th>\n      <td>0.291828</td>\n    </tr>\n    <tr>\n      <th>12</th>\n      <td>0.028752</td>\n    </tr>\n    <tr>\n      <th>13</th>\n      <td>0.179255</td>\n    </tr>\n    <tr>\n      <th>14</th>\n      <td>0.156475</td>\n    </tr>\n    <tr>\n      <th>15</th>\n      <td>0.052084</td>\n    </tr>\n  </tbody>\n</table>\n</div>"
     },
     "execution_count": 277,
     "metadata": {},
     "output_type": "execute_result"
    }
   ],
   "source": [
    "k_means_accuracy = gather_model_accuracies(KMeans(), \"K-Means\")\n",
    "k_means_accuracy"
   ],
   "metadata": {
    "collapsed": false,
    "pycharm": {
     "name": "#%%\n"
    }
   }
  },
  {
   "cell_type": "markdown",
   "source": [
    "Joining the Accuracies Into a Graph"
   ],
   "metadata": {
    "collapsed": false,
    "pycharm": {
     "name": "#%% md\n"
    }
   }
  },
  {
   "cell_type": "code",
   "execution_count": 278,
   "outputs": [],
   "source": [
    "joined_models = pd.concat([dtree_accuracy, gnb_accuracy], axis=1)\n",
    "joined_models[\"index\"] = joined_models.index"
   ],
   "metadata": {
    "collapsed": false,
    "pycharm": {
     "name": "#%%\n"
    }
   }
  },
  {
   "cell_type": "code",
   "execution_count": 279,
   "outputs": [
    {
     "data": {
      "text/plain": "<AxesSubplot:xlabel='index', ylabel='value'>"
     },
     "execution_count": 279,
     "metadata": {},
     "output_type": "execute_result"
    },
    {
     "data": {
      "text/plain": "<Figure size 432x288 with 1 Axes>",
      "image/png": "[encoded data removed]"
     },
     "metadata": {
      "needs_background": "light"
     },
     "output_type": "display_data"
    }
   ],
   "source": [
    "sns.lineplot(x = 'index', y= 'value', hue =\"variable\", data= pd.melt(joined_models, ['index']))"
   ],
   "metadata": {
    "collapsed": false,
    "pycharm": {
     "name": "#%%\n"
    }
   }
  }
 ],
 "metadata": {
  "kernelspec": {
   "name": "pycharm-865e1948",
   "language": "python",
   "display_name": "PyCharm (GITHUB_REPOSITORY)"
  },
  "language_info": {
   "codemirror_mode": {
    "name": "ipython",
    "version": 2
   },
   "file_extension": ".py",
   "mimetype": "text/x-python",
   "name": "python",
   "nbconvert_exporter": "python",
   "pygments_lexer": "ipython2",
   "version": "2.7.6"
  }
 },
 "nbformat": 4,
 "nbformat_minor": 0
}