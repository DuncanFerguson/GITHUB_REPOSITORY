{
 "cells": [
  {
   "cell_type": "code",
   "execution_count": 89,
   "outputs": [],
   "source": [
    "# Importing Standard Libraries\n",
    "import pandas as pd\n",
    "import numpy as np\n",
    "from csv import reader\n",
    "\n",
    "# Sklearn Libraries\n",
    "from sklearn import tree\n",
    "from sklearn.model_selection import train_test_split\n",
    "from sklearn.metrics import homogeneity_score, completeness_score, adjusted_mutual_info_score, accuracy_score\n",
    "from sklearn.naive_bayes import GaussianNB\n",
    "from sklearn.cluster import KMeans, DBSCAN\n",
    "from sklearn.inspection import permutation_importance\n",
    "from sklearn.preprocessing import StandardScaler\n",
    "from sklearn.decomposition import PCA\n",
    "from sklearn.pipeline import Pipeline\n",
    "\n",
    "# Importing mlxtend Libraries\n",
    "from mlxtend.frequent_patterns import apriori, association_rules\n",
    "from mlxtend.preprocessing import TransactionEncoder\n",
    "\n",
    "# Graphing Libraries\n",
    "import matplotlib.pyplot as plt\n",
    "import seaborn as sns"
   ],
   "metadata": {
    "collapsed": false,
    "pycharm": {
     "name": "#%%\n"
    }
   }
  },
  {
   "cell_type": "code",
   "execution_count": 90,
   "outputs": [],
   "source": [
    "# Importing the Data Set\n",
    "df =  pd.read_csv(\"bank.csv\")\n",
    "# df =  pd.read_csv(\"bank-full.csv\")\n",
    "df.head()\n",
    "\n",
    "# Establishing copies for running through the different scrubs\n",
    "df_a = df.copy()\n",
    "df_b = df.copy()\n"
   ],
   "metadata": {
    "collapsed": false,
    "pycharm": {
     "name": "#%%\n"
    }
   }
  },
  {
   "cell_type": "markdown",
   "source": [
    "# Part 2\n",
    "Changing all non-numeric into category data for PCA"
   ],
   "metadata": {
    "collapsed": false
   }
  },
  {
   "cell_type": "code",
   "execution_count": 91,
   "outputs": [
    {
     "name": "stdout",
     "output_type": "stream",
     "text": [
      "Post Conversion of Data into numeric, dropping pdays, and normalizing balance:\n"
     ]
    },
    {
     "data": {
      "text/plain": "   age  job  marital  education  default   balance  housing  loan  contact  \\\n0   11   10        1          0        0  0.068455        0     0        0   \n1   14    7        1          1        0  0.108750        1     1        0   \n2   16    4        2          2        0  0.062590        1     0        0   \n3   11    4        1          2        0  0.064281        1     1        2   \n4   40    1        1          1        0  0.044469        1     0        2   \n5   16    4        2          2        0  0.054496        0     0        0   \n6   17    6        1          2        0  0.048590        1     0        0   \n7   20    9        1          1        0  0.046442        1     0        0   \n8   22    2        1          2        0  0.047436        1     0        2   \n9   24    7        1          0        0  0.043288        1     1        0   \n\n   day  month  duration  campaign  previous  poutcome  y  ageBand  \n0   19     10        79         1         0         3  0      3.0  \n1   11      8       220         1         4         0  0      3.0  \n2   16      0       185         1         1         0  0      3.0  \n3    3      6       199         4         0         3  0      3.0  \n4    5      8       226         1         0         3  0      5.0  \n5   23      3       141         2         3         0  0      3.0  \n6   14      8       341         1         2         1  0      3.0  \n7    6      8       151         2         0         3  0      3.0  \n8   14      8        57         2         0         3  0      4.0  \n9   17      0       313         1         2         0  0      4.0  ",
      "text/html": "<div>\n<style scoped>\n    .dataframe tbody tr th:only-of-type {\n        vertical-align: middle;\n    }\n\n    .dataframe tbody tr th {\n        vertical-align: top;\n    }\n\n    .dataframe thead th {\n        text-align: right;\n    }\n</style>\n<table border=\"1\" class=\"dataframe\">\n  <thead>\n    <tr style=\"text-align: right;\">\n      <th></th>\n      <th>age</th>\n      <th>job</th>\n      <th>marital</th>\n      <th>education</th>\n      <th>default</th>\n      <th>balance</th>\n      <th>housing</th>\n      <th>loan</th>\n      <th>contact</th>\n      <th>day</th>\n      <th>month</th>\n      <th>duration</th>\n      <th>campaign</th>\n      <th>previous</th>\n      <th>poutcome</th>\n      <th>y</th>\n      <th>ageBand</th>\n    </tr>\n  </thead>\n  <tbody>\n    <tr>\n      <th>0</th>\n      <td>11</td>\n      <td>10</td>\n      <td>1</td>\n      <td>0</td>\n      <td>0</td>\n      <td>0.068455</td>\n      <td>0</td>\n      <td>0</td>\n      <td>0</td>\n      <td>19</td>\n      <td>10</td>\n      <td>79</td>\n      <td>1</td>\n      <td>0</td>\n      <td>3</td>\n      <td>0</td>\n      <td>3.0</td>\n    </tr>\n    <tr>\n      <th>1</th>\n      <td>14</td>\n      <td>7</td>\n      <td>1</td>\n      <td>1</td>\n      <td>0</td>\n      <td>0.108750</td>\n      <td>1</td>\n      <td>1</td>\n      <td>0</td>\n      <td>11</td>\n      <td>8</td>\n      <td>220</td>\n      <td>1</td>\n      <td>4</td>\n      <td>0</td>\n      <td>0</td>\n      <td>3.0</td>\n    </tr>\n    <tr>\n      <th>2</th>\n      <td>16</td>\n      <td>4</td>\n      <td>2</td>\n      <td>2</td>\n      <td>0</td>\n      <td>0.062590</td>\n      <td>1</td>\n      <td>0</td>\n      <td>0</td>\n      <td>16</td>\n      <td>0</td>\n      <td>185</td>\n      <td>1</td>\n      <td>1</td>\n      <td>0</td>\n      <td>0</td>\n      <td>3.0</td>\n    </tr>\n    <tr>\n      <th>3</th>\n      <td>11</td>\n      <td>4</td>\n      <td>1</td>\n      <td>2</td>\n      <td>0</td>\n      <td>0.064281</td>\n      <td>1</td>\n      <td>1</td>\n      <td>2</td>\n      <td>3</td>\n      <td>6</td>\n      <td>199</td>\n      <td>4</td>\n      <td>0</td>\n      <td>3</td>\n      <td>0</td>\n      <td>3.0</td>\n    </tr>\n    <tr>\n      <th>4</th>\n      <td>40</td>\n      <td>1</td>\n      <td>1</td>\n      <td>1</td>\n      <td>0</td>\n      <td>0.044469</td>\n      <td>1</td>\n      <td>0</td>\n      <td>2</td>\n      <td>5</td>\n      <td>8</td>\n      <td>226</td>\n      <td>1</td>\n      <td>0</td>\n      <td>3</td>\n      <td>0</td>\n      <td>5.0</td>\n    </tr>\n    <tr>\n      <th>5</th>\n      <td>16</td>\n      <td>4</td>\n      <td>2</td>\n      <td>2</td>\n      <td>0</td>\n      <td>0.054496</td>\n      <td>0</td>\n      <td>0</td>\n      <td>0</td>\n      <td>23</td>\n      <td>3</td>\n      <td>141</td>\n      <td>2</td>\n      <td>3</td>\n      <td>0</td>\n      <td>0</td>\n      <td>3.0</td>\n    </tr>\n    <tr>\n      <th>6</th>\n      <td>17</td>\n      <td>6</td>\n      <td>1</td>\n      <td>2</td>\n      <td>0</td>\n      <td>0.048590</td>\n      <td>1</td>\n      <td>0</td>\n      <td>0</td>\n      <td>14</td>\n      <td>8</td>\n      <td>341</td>\n      <td>1</td>\n      <td>2</td>\n      <td>1</td>\n      <td>0</td>\n      <td>3.0</td>\n    </tr>\n    <tr>\n      <th>7</th>\n      <td>20</td>\n      <td>9</td>\n      <td>1</td>\n      <td>1</td>\n      <td>0</td>\n      <td>0.046442</td>\n      <td>1</td>\n      <td>0</td>\n      <td>0</td>\n      <td>6</td>\n      <td>8</td>\n      <td>151</td>\n      <td>2</td>\n      <td>0</td>\n      <td>3</td>\n      <td>0</td>\n      <td>3.0</td>\n    </tr>\n    <tr>\n      <th>8</th>\n      <td>22</td>\n      <td>2</td>\n      <td>1</td>\n      <td>2</td>\n      <td>0</td>\n      <td>0.047436</td>\n      <td>1</td>\n      <td>0</td>\n      <td>2</td>\n      <td>14</td>\n      <td>8</td>\n      <td>57</td>\n      <td>2</td>\n      <td>0</td>\n      <td>3</td>\n      <td>0</td>\n      <td>4.0</td>\n    </tr>\n    <tr>\n      <th>9</th>\n      <td>24</td>\n      <td>7</td>\n      <td>1</td>\n      <td>0</td>\n      <td>0</td>\n      <td>0.043288</td>\n      <td>1</td>\n      <td>1</td>\n      <td>0</td>\n      <td>17</td>\n      <td>0</td>\n      <td>313</td>\n      <td>1</td>\n      <td>2</td>\n      <td>0</td>\n      <td>0</td>\n      <td>4.0</td>\n    </tr>\n  </tbody>\n</table>\n</div>"
     },
     "execution_count": 91,
     "metadata": {},
     "output_type": "execute_result"
    }
   ],
   "source": [
    "# Creating Categories for ages then making categories\n",
    "df_b.loc[((df_b['age'] < 25) & (df_b['age'] >= 0)),  'ageBand'] = 1\n",
    "df_b.loc[((df_b['age'] < 30) & (df_b['age'] >= 25)), 'ageBand'] = 2\n",
    "df_b.loc[((df_b['age'] < 40) & (df_b['age'] >= 30)), 'ageBand'] = 3\n",
    "df_b.loc[((df_b['age'] < 50) & (df_b['age'] >= 40)), 'ageBand'] = 4\n",
    "df_b.loc[((df_b['age'] < 120) & (df_b['age'] >= 50)),'ageBand'] = 5\n",
    "df_b['age'] = df_b['age'].astype('category')\n",
    "df_b['age'] = df_b['age'].cat.codes\n",
    "\n",
    "df_b['job'] = df_b['job'].astype('category')\n",
    "df_b['job'] = df_b['job'].cat.codes\n",
    "df_b['marital'] = df_b['marital'].astype('category')\n",
    "df_b['marital'] = df_b['marital'].cat.codes\n",
    "df_b['education'] = df_b['education'].astype('category')\n",
    "df_b['education'] = df_b['education'].cat.codes\n",
    "df_b['default'] = df_b['default'].astype('category')\n",
    "df_b['default'] = df_b['default'].cat.codes\n",
    "df_b['contact'] = df_b['contact'].astype('category')\n",
    "df_b['contact'] = df_b['contact'].cat.codes\n",
    "df_b['month'] = df_b['month'].astype('category')\n",
    "df_b['month'] = df_b['month'].cat.codes\n",
    "df_b['poutcome'] = df_b['poutcome'].astype('category')\n",
    "df_b['poutcome'] = df_b['poutcome'].cat.codes\n",
    "df_b['housing'] = df_b['housing'].astype('category')\n",
    "df_b['housing'] = df_b['housing'].cat.codes\n",
    "df_b['loan'] = df_b['loan'].astype('category')\n",
    "df_b['loan'] = df_b['loan'].cat.codes\n",
    "df_b['y'] = df_b['y'].astype('category')\n",
    "df_b['y'] = df_b['y'].cat.codes\n",
    "df_b = df_b.drop('pdays',axis=1)\n",
    "df_b['balance'] = (df_b['balance'] - df_b['balance'].min()) / ( df_b['balance'].max() - df_b['balance'].min())\n",
    "print(\"Post Conversion of Data into numeric, dropping pdays, and normalizing balance:\")\n",
    "df_b.head(10)"
   ],
   "metadata": {
    "collapsed": false,
    "pycharm": {
     "name": "#%%\n"
    }
   }
  },
  {
   "cell_type": "markdown",
   "source": [
    "Exploratory Data Analysis"
   ],
   "metadata": {
    "collapsed": false,
    "pycharm": {
     "name": "#%% md\n"
    }
   },
   "outputs": [
    {
     "ename": "SyntaxError",
     "evalue": "invalid syntax (Temp/ipykernel_13928/2388544605.py, line 1)",
     "output_type": "error",
     "traceback": [
      "\u001B[1;36m  File \u001B[1;32m\"C:\\Users\\dunca\\AppData\\Local\\Temp/ipykernel_13928/2388544605.py\"\u001B[1;36m, line \u001B[1;32m1\u001B[0m\n\u001B[1;33m    Quick Data Visualization\u001B[0m\n\u001B[1;37m          ^\u001B[0m\n\u001B[1;31mSyntaxError\u001B[0m\u001B[1;31m:\u001B[0m invalid syntax\n"
     ]
    }
   ],
   "execution_count": 58
  },
  {
   "cell_type": "code",
   "execution_count": 92,
   "outputs": [
    {
     "name": "stdout",
     "output_type": "stream",
     "text": [
      "<class 'pandas.core.frame.DataFrame'>\n",
      "RangeIndex: 4521 entries, 0 to 4520\n",
      "Data columns (total 17 columns):\n",
      " #   Column     Non-Null Count  Dtype  \n",
      "---  ------     --------------  -----  \n",
      " 0   age        4521 non-null   int8   \n",
      " 1   job        4521 non-null   int8   \n",
      " 2   marital    4521 non-null   int8   \n",
      " 3   education  4521 non-null   int8   \n",
      " 4   default    4521 non-null   int8   \n",
      " 5   balance    4521 non-null   float64\n",
      " 6   housing    4521 non-null   int8   \n",
      " 7   loan       4521 non-null   int8   \n",
      " 8   contact    4521 non-null   int8   \n",
      " 9   day        4521 non-null   int64  \n",
      " 10  month      4521 non-null   int8   \n",
      " 11  duration   4521 non-null   int64  \n",
      " 12  campaign   4521 non-null   int64  \n",
      " 13  previous   4521 non-null   int64  \n",
      " 14  poutcome   4521 non-null   int8   \n",
      " 15  y          4521 non-null   int8   \n",
      " 16  ageBand    4521 non-null   float64\n",
      "dtypes: float64(2), int64(4), int8(11)\n",
      "memory usage: 260.6 KB\n"
     ]
    }
   ],
   "source": [
    "df_b.info()"
   ],
   "metadata": {
    "collapsed": false,
    "pycharm": {
     "name": "#%%\n"
    }
   }
  },
  {
   "cell_type": "code",
   "execution_count": 93,
   "outputs": [
    {
     "data": {
      "text/plain": "               age          job      marital    education      default  \\\ncount  4521.000000  4521.000000  4521.000000  4521.000000  4521.000000   \nmean     22.168104     4.411192     1.147755     1.231365     0.016810   \nstd      10.568155     3.255716     0.599650     0.748744     0.128575   \nmin       0.000000     0.000000     0.000000     0.000000     0.000000   \n25%      14.000000     1.000000     1.000000     1.000000     0.000000   \n50%      20.000000     4.000000     1.000000     1.000000     0.000000   \n75%      30.000000     7.000000     2.000000     2.000000     0.000000   \nmax      66.000000    11.000000     2.000000     3.000000     1.000000   \n\n           balance      housing         loan      contact          day  \\\ncount  4521.000000  4521.000000  4521.000000  4521.000000  4521.000000   \nmean      0.063565     0.566025     0.152842     0.652289    15.915284   \nstd       0.040397     0.495676     0.359875     0.901498     8.247667   \nmin       0.000000     0.000000     0.000000     0.000000     1.000000   \n25%       0.045395     0.000000     0.000000     0.000000     9.000000   \n50%       0.050429     1.000000     0.000000     0.000000    16.000000   \n75%       0.064335     1.000000     0.000000     2.000000    21.000000   \nmax       1.000000     1.000000     1.000000     2.000000    31.000000   \n\n             month     duration     campaign     previous     poutcome  \\\ncount  4521.000000  4521.000000  4521.000000  4521.000000  4521.000000   \nmean      5.540146   263.961292     2.793630     0.542579     2.559168   \nstd       3.002763   259.856633     3.109807     1.693562     0.992051   \nmin       0.000000     4.000000     1.000000     0.000000     0.000000   \n25%       3.000000   104.000000     1.000000     0.000000     3.000000   \n50%       6.000000   185.000000     2.000000     0.000000     3.000000   \n75%       8.000000   329.000000     3.000000     0.000000     3.000000   \nmax      11.000000  3025.000000    50.000000    25.000000     3.000000   \n\n                 y      ageBand  \ncount  4521.000000  4521.000000  \nmean      0.115240     3.599425  \nstd       0.319347     0.983667  \nmin       0.000000     1.000000  \n25%       0.000000     3.000000  \n50%       0.000000     3.000000  \n75%       0.000000     4.000000  \nmax       1.000000     5.000000  ",
      "text/html": "<div>\n<style scoped>\n    .dataframe tbody tr th:only-of-type {\n        vertical-align: middle;\n    }\n\n    .dataframe tbody tr th {\n        vertical-align: top;\n    }\n\n    .dataframe thead th {\n        text-align: right;\n    }\n</style>\n<table border=\"1\" class=\"dataframe\">\n  <thead>\n    <tr style=\"text-align: right;\">\n      <th></th>\n      <th>age</th>\n      <th>job</th>\n      <th>marital</th>\n      <th>education</th>\n      <th>default</th>\n      <th>balance</th>\n      <th>housing</th>\n      <th>loan</th>\n      <th>contact</th>\n      <th>day</th>\n      <th>month</th>\n      <th>duration</th>\n      <th>campaign</th>\n      <th>previous</th>\n      <th>poutcome</th>\n      <th>y</th>\n      <th>ageBand</th>\n    </tr>\n  </thead>\n  <tbody>\n    <tr>\n      <th>count</th>\n      <td>4521.000000</td>\n      <td>4521.000000</td>\n      <td>4521.000000</td>\n      <td>4521.000000</td>\n      <td>4521.000000</td>\n      <td>4521.000000</td>\n      <td>4521.000000</td>\n      <td>4521.000000</td>\n      <td>4521.000000</td>\n      <td>4521.000000</td>\n      <td>4521.000000</td>\n      <td>4521.000000</td>\n      <td>4521.000000</td>\n      <td>4521.000000</td>\n      <td>4521.000000</td>\n      <td>4521.000000</td>\n      <td>4521.000000</td>\n    </tr>\n    <tr>\n      <th>mean</th>\n      <td>22.168104</td>\n      <td>4.411192</td>\n      <td>1.147755</td>\n      <td>1.231365</td>\n      <td>0.016810</td>\n      <td>0.063565</td>\n      <td>0.566025</td>\n      <td>0.152842</td>\n      <td>0.652289</td>\n      <td>15.915284</td>\n      <td>5.540146</td>\n      <td>263.961292</td>\n      <td>2.793630</td>\n      <td>0.542579</td>\n      <td>2.559168</td>\n      <td>0.115240</td>\n      <td>3.599425</td>\n    </tr>\n    <tr>\n      <th>std</th>\n      <td>10.568155</td>\n      <td>3.255716</td>\n      <td>0.599650</td>\n      <td>0.748744</td>\n      <td>0.128575</td>\n      <td>0.040397</td>\n      <td>0.495676</td>\n      <td>0.359875</td>\n      <td>0.901498</td>\n      <td>8.247667</td>\n      <td>3.002763</td>\n      <td>259.856633</td>\n      <td>3.109807</td>\n      <td>1.693562</td>\n      <td>0.992051</td>\n      <td>0.319347</td>\n      <td>0.983667</td>\n    </tr>\n    <tr>\n      <th>min</th>\n      <td>0.000000</td>\n      <td>0.000000</td>\n      <td>0.000000</td>\n      <td>0.000000</td>\n      <td>0.000000</td>\n      <td>0.000000</td>\n      <td>0.000000</td>\n      <td>0.000000</td>\n      <td>0.000000</td>\n      <td>1.000000</td>\n      <td>0.000000</td>\n      <td>4.000000</td>\n      <td>1.000000</td>\n      <td>0.000000</td>\n      <td>0.000000</td>\n      <td>0.000000</td>\n      <td>1.000000</td>\n    </tr>\n    <tr>\n      <th>25%</th>\n      <td>14.000000</td>\n      <td>1.000000</td>\n      <td>1.000000</td>\n      <td>1.000000</td>\n      <td>0.000000</td>\n      <td>0.045395</td>\n      <td>0.000000</td>\n      <td>0.000000</td>\n      <td>0.000000</td>\n      <td>9.000000</td>\n      <td>3.000000</td>\n      <td>104.000000</td>\n      <td>1.000000</td>\n      <td>0.000000</td>\n      <td>3.000000</td>\n      <td>0.000000</td>\n      <td>3.000000</td>\n    </tr>\n    <tr>\n      <th>50%</th>\n      <td>20.000000</td>\n      <td>4.000000</td>\n      <td>1.000000</td>\n      <td>1.000000</td>\n      <td>0.000000</td>\n      <td>0.050429</td>\n      <td>1.000000</td>\n      <td>0.000000</td>\n      <td>0.000000</td>\n      <td>16.000000</td>\n      <td>6.000000</td>\n      <td>185.000000</td>\n      <td>2.000000</td>\n      <td>0.000000</td>\n      <td>3.000000</td>\n      <td>0.000000</td>\n      <td>3.000000</td>\n    </tr>\n    <tr>\n      <th>75%</th>\n      <td>30.000000</td>\n      <td>7.000000</td>\n      <td>2.000000</td>\n      <td>2.000000</td>\n      <td>0.000000</td>\n      <td>0.064335</td>\n      <td>1.000000</td>\n      <td>0.000000</td>\n      <td>2.000000</td>\n      <td>21.000000</td>\n      <td>8.000000</td>\n      <td>329.000000</td>\n      <td>3.000000</td>\n      <td>0.000000</td>\n      <td>3.000000</td>\n      <td>0.000000</td>\n      <td>4.000000</td>\n    </tr>\n    <tr>\n      <th>max</th>\n      <td>66.000000</td>\n      <td>11.000000</td>\n      <td>2.000000</td>\n      <td>3.000000</td>\n      <td>1.000000</td>\n      <td>1.000000</td>\n      <td>1.000000</td>\n      <td>1.000000</td>\n      <td>2.000000</td>\n      <td>31.000000</td>\n      <td>11.000000</td>\n      <td>3025.000000</td>\n      <td>50.000000</td>\n      <td>25.000000</td>\n      <td>3.000000</td>\n      <td>1.000000</td>\n      <td>5.000000</td>\n    </tr>\n  </tbody>\n</table>\n</div>"
     },
     "execution_count": 93,
     "metadata": {},
     "output_type": "execute_result"
    }
   ],
   "source": [
    "df_b.describe()"
   ],
   "metadata": {
    "collapsed": false,
    "pycharm": {
     "name": "#%%\n"
    }
   }
  },
  {
   "cell_type": "markdown",
   "source": [
    "The Descriptions from the data right now show that the data is displaying a lot of different scales.\n",
    "Namely the following\n",
    "- Age\n",
    "- previous\n",
    "- Duration\n",
    "- Month\n",
    "- Day <br>\n",
    "\n",
    "This Leads us to believe that we need to standardize the data to bring them into scale so that our\n",
    "different models are not affected disproportionately"
   ],
   "metadata": {
    "collapsed": false,
    "pycharm": {
     "name": "#%% md\n"
    }
   }
  },
  {
   "cell_type": "code",
   "execution_count": 94,
   "outputs": [
    {
     "data": {
      "text/plain": "<AxesSubplot:>"
     },
     "execution_count": 94,
     "metadata": {},
     "output_type": "execute_result"
    },
    {
     "data": {
      "text/plain": "<Figure size 432x288 with 2 Axes>",
      "image/png": "[encoded data removed]"
     },
     "metadata": {
      "needs_background": "light"
     },
     "output_type": "display_data"
    }
   ],
   "source": [
    "sns.heatmap(df_b.corr())"
   ],
   "metadata": {
    "collapsed": false,
    "pycharm": {
     "name": "#%%\n"
    }
   }
  },
  {
   "cell_type": "markdown",
   "source": [
    "From the Correlation Map we can see that Y has a high correlation with marital status followed by education and housing.\n"
   ],
   "metadata": {
    "collapsed": false
   }
  },
  {
   "cell_type": "markdown",
   "source": [
    "Splitting the Data into X and Y"
   ],
   "metadata": {
    "collapsed": false,
    "pycharm": {
     "name": "#%% md\n"
    }
   }
  },
  {
   "cell_type": "code",
   "execution_count": 95,
   "outputs": [],
   "source": [
    "y = df_b[\"y\"]\n",
    "X = df_b.drop(\"y\", axis=1)"
   ],
   "metadata": {
    "collapsed": false,
    "pycharm": {
     "name": "#%%\n"
    }
   }
  },
  {
   "cell_type": "markdown",
   "source": [
    "Taking another look at the correlation of only the features"
   ],
   "metadata": {
    "collapsed": false,
    "pycharm": {
     "name": "#%% md\n"
    }
   }
  },
  {
   "cell_type": "code",
   "execution_count": 96,
   "outputs": [
    {
     "data": {
      "text/plain": "<AxesSubplot:>"
     },
     "execution_count": 96,
     "metadata": {},
     "output_type": "execute_result"
    },
    {
     "data": {
      "text/plain": "<Figure size 432x288 with 2 Axes>",
      "image/png": "[encoded data removed]"
     },
     "metadata": {
      "needs_background": "light"
     },
     "output_type": "display_data"
    }
   ],
   "source": [
    "sns.heatmap(X.corr())"
   ],
   "metadata": {
    "collapsed": false,
    "pycharm": {
     "name": "#%%\n"
    }
   }
  },
  {
   "cell_type": "markdown",
   "source": [
    "Setting the data up into training and testing splits"
   ],
   "metadata": {
    "collapsed": false,
    "pycharm": {
     "name": "#%% md\n"
    }
   }
  },
  {
   "cell_type": "code",
   "execution_count": 97,
   "outputs": [],
   "source": [
    "# Splitting the dataset into Train Set and Test Set\n",
    "X_train, X_test, y_train, y_test = train_test_split(X,y, test_size=0.2, random_state=42)"
   ],
   "metadata": {
    "collapsed": false,
    "pycharm": {
     "name": "#%%\n"
    }
   }
  },
  {
   "cell_type": "markdown",
   "source": [
    "Now I want to look at reducing the number of features and get rid of any correlation between the two\n",
    "\n",
    "First I will want to scale the data"
   ],
   "metadata": {
    "collapsed": false,
    "pycharm": {
     "name": "#%% md\n"
    }
   }
  },
  {
   "cell_type": "code",
   "execution_count": 98,
   "outputs": [
    {
     "name": "stdout",
     "output_type": "stream",
     "text": [
      "Number of Features:14\n",
      "Total Variance Explained:0.9728803255679062\n"
     ]
    }
   ],
   "source": [
    "sc = StandardScaler()\n",
    "\n",
    "X_train_scaled = sc.fit_transform(X_train)\n",
    "pca = PCA()\n",
    "X_pca = pca.fit_transform(X_train_scaled)\n",
    "\n",
    "total_explained_variance = pca.explained_variance_ratio_.cumsum()\n",
    "n_over_95 = len(total_explained_variance[total_explained_variance >= .95])\n",
    "n_to_reach_95 = X.shape[1] - n_over_95 + 1\n",
    "print(\"Number of Features:{}\".format(n_to_reach_95))\n",
    "print(\"Total Variance Explained:{}\".format(total_explained_variance[n_to_reach_95-1]))"
   ],
   "metadata": {
    "collapsed": false,
    "pycharm": {
     "name": "#%%\n"
    }
   }
  },
  {
   "cell_type": "code",
   "execution_count": 99,
   "outputs": [
    {
     "data": {
      "text/plain": "Pipeline(steps=[('scalar', StandardScaler()), ('pca', PCA(n_components=14)),\n                ('dt', DecisionTreeClassifier())])"
     },
     "execution_count": 99,
     "metadata": {},
     "output_type": "execute_result"
    }
   ],
   "source": [
    "pipe = Pipeline([('scalar', StandardScaler()),\n",
    "                 ('pca', PCA(n_components=n_to_reach_95, random_state=42)),\n",
    "                 ('dt', tree.DecisionTreeClassifier())])\n",
    "pipe.fit(X_train,y_train)"
   ],
   "metadata": {
    "collapsed": false,
    "pycharm": {
     "name": "#%%\n"
    }
   }
  },
  {
   "cell_type": "code",
   "execution_count": 100,
   "outputs": [
    {
     "data": {
      "text/plain": "<Figure size 432x288 with 1 Axes>",
      "image/png": "[encoded data removed]"
     },
     "metadata": {
      "needs_background": "light"
     },
     "output_type": "display_data"
    }
   ],
   "source": [
    "model = pipe.steps[1][1]\n",
    "n_pcs = model.components_.shape[0]\n",
    "initial_feature_names = X_train.columns\n",
    "most_important = [np.abs(model.components_[i]).argmax() for i in range(n_pcs)]\n",
    "most_important_names = [initial_feature_names[most_important[i]] for i in range(n_pcs)]\n",
    "zipped_feats = zip(most_important_names, pipe.steps[2][1].feature_importances_)\n",
    "zipped_feats = sorted(zipped_feats, key=lambda x: x[1], reverse=True)\n",
    "\n",
    "features, importances = zip(*zipped_feats)\n",
    "top_features = features[:15]\n",
    "top_importances = importances[:15]\n",
    "\n",
    "plt.title(\"Feature Importances\")\n",
    "plt.barh(range(len(top_importances)), top_importances, color='b', align='center')\n",
    "plt.yticks(range(len(top_importances)), top_features)\n",
    "plt.xlabel(\"Realtive Importance\")\n",
    "plt.show()"
   ],
   "metadata": {
    "collapsed": false,
    "pycharm": {
     "name": "#%%\n"
    }
   }
  },
  {
   "cell_type": "markdown",
   "source": [
    "The Function Below Gathers the Accuracies for the different amount of components for PCA"
   ],
   "metadata": {
    "collapsed": false,
    "pycharm": {
     "name": "#%% md\n"
    }
   }
  },
  {
   "cell_type": "code",
   "execution_count": 103,
   "outputs": [],
   "source": [
    "def gather_model_accuracies(class_type):\n",
    "    \"\"\"This function takes in Different Classifiers to gather accuracies\"\"\"\n",
    "    accuracy = []\n",
    "    for i in range(1,16):\n",
    "        pca = Pipeline([('pca', PCA(n_components=i, random_state=42))])\n",
    "        pipe = Pipeline([('preprocessor', pca), ('model', class_type)])\n",
    "        pipe.fit(X_train, y_train)\n",
    "        y_prediction = pipe.predict(X_test)\n",
    "        accuracy.append(accuracy_score(y_test, y_prediction))\n",
    "    return accuracy"
   ],
   "metadata": {
    "collapsed": false,
    "pycharm": {
     "name": "#%%\n"
    }
   }
  },
  {
   "cell_type": "markdown",
   "source": [
    "The Function Below Graphs the Accuracies Gathered from above\n",
    "\n"
   ],
   "metadata": {
    "collapsed": false,
    "pycharm": {
     "name": "#%% md\n"
    }
   }
  },
  {
   "cell_type": "code",
   "execution_count": 104,
   "outputs": [
    {
     "data": {
      "text/plain": "[0.8243093922651934,\n 0.8430939226519337,\n 0.8497237569060774,\n 0.8353591160220994,\n 0.8342541436464088,\n 0.8320441988950277,\n 0.8519337016574585,\n 0.8430939226519337,\n 0.8530386740331491,\n 0.8552486187845304,\n 0.856353591160221,\n 0.8662983425414365,\n 0.8552486187845304,\n 0.8718232044198895,\n 0.8662983425414365]"
     },
     "execution_count": 104,
     "metadata": {},
     "output_type": "execute_result"
    }
   ],
   "source": [
    "dtree = Pipeline([('dt', tree.DecisionTreeClassifier())])\n",
    "dtree_accuracy = gather_model_accuracies(dtree)\n",
    "dtree_accuracy"
   ],
   "metadata": {
    "collapsed": false,
    "pycharm": {
     "name": "#%%\n"
    }
   }
  },
  {
   "cell_type": "code",
   "execution_count": 105,
   "outputs": [
    {
     "data": {
      "text/plain": "[0.8895027624309392,\n 0.8895027624309392,\n 0.8895027624309392,\n 0.8906077348066298,\n 0.8917127071823204,\n 0.8895027624309392,\n 0.8784530386740331,\n 0.8828729281767956,\n 0.881767955801105,\n 0.881767955801105,\n 0.8828729281767956,\n 0.8850828729281768,\n 0.887292817679558,\n 0.887292817679558,\n 0.8674033149171271]"
     },
     "execution_count": 105,
     "metadata": {},
     "output_type": "execute_result"
    }
   ],
   "source": [
    "gnb = Pipeline([('gnb', GaussianNB())])\n",
    "gnb_accuracy = gather_model_accuracies(gnb)\n",
    "gnb_accuracy"
   ],
   "metadata": {
    "collapsed": false,
    "pycharm": {
     "name": "#%%\n"
    }
   }
  },
  {
   "cell_type": "markdown",
   "source": [
    "Graphing Accuracies for the different models"
   ],
   "metadata": {
    "collapsed": false,
    "pycharm": {
     "name": "#%% md\n"
    }
   }
  },
  {
   "cell_type": "code",
   "execution_count": null,
   "outputs": [],
   "source": [
    "def graph_component_accuracies(accuracies):\n",
    "    \"\"\"This Function Graphs The Accuracies\"\"\"\n",
    "    fig, ax = plt.subplots()\n"
   ],
   "metadata": {
    "collapsed": false,
    "pycharm": {
     "name": "#%%\n"
    }
   }
  }
 ],
 "metadata": {
  "kernelspec": {
   "name": "pycharm-865e1948",
   "language": "python",
   "display_name": "PyCharm (GITHUB_REPOSITORY)"
  },
  "language_info": {
   "codemirror_mode": {
    "name": "ipython",
    "version": 2
   },
   "file_extension": ".py",
   "mimetype": "text/x-python",
   "name": "python",
   "nbconvert_exporter": "python",
   "pygments_lexer": "ipython2",
   "version": "2.7.6"
  }
 },
 "nbformat": 4,
 "nbformat_minor": 0
}