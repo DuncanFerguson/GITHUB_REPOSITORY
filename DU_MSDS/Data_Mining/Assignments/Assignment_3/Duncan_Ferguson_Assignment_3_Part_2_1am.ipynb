{
 "cells": [
  {
   "cell_type": "code",
   "execution_count": 2,
   "outputs": [],
   "source": [
    "# Importing Standard Libraries\n",
    "import graphviz\n",
    "import pandas as pd\n",
    "import numpy as np\n",
    "from csv import reader\n",
    "\n",
    "# Sklearn Libraries\n",
    "from sklearn import tree\n",
    "from sklearn.model_selection import train_test_split, ParameterGrid\n",
    "from sklearn.metrics import *\n",
    "from sklearn.naive_bayes import *\n",
    "from sklearn.cluster import KMeans, DBSCAN\n",
    "from sklearn.inspection import permutation_importance\n",
    "from sklearn.preprocessing import StandardScaler, Normalizer\n",
    "from sklearn.decomposition import PCA\n",
    "from sklearn.pipeline import Pipeline\n",
    "from sklearn.tree import export_graphviz, export_text\n",
    "import pydotplus\n",
    "\n",
    "# Importing mlxtend Libraries\n",
    "from mlxtend.frequent_patterns import apriori, association_rules\n",
    "from mlxtend.preprocessing import TransactionEncoder\n",
    "\n",
    "# Graphing Libraries\n",
    "import matplotlib.pyplot as plt\n",
    "import seaborn as sns\n"
   ],
   "metadata": {
    "collapsed": false,
    "pycharm": {
     "name": "#%%\n"
    }
   }
  },
  {
   "cell_type": "code",
   "execution_count": 3,
   "outputs": [],
   "source": [
    "np.random.seed(0)\n",
    "\n",
    "# Importing the Data Set\n",
    "# df =  pd.read_csv(\"bank.csv\")\n",
    "df =  pd.read_csv(\"bank-full.csv\")\n",
    "df.head()\n",
    "\n",
    "# Establishing copies for running through the different scrubs\n",
    "df_a = df.copy()\n",
    "df_b = df.copy()"
   ],
   "metadata": {
    "collapsed": false,
    "pycharm": {
     "name": "#%%\n"
    }
   }
  },
  {
   "cell_type": "markdown",
   "source": [
    "#### Feature Engineering"
   ],
   "metadata": {
    "collapsed": false
   }
  },
  {
   "cell_type": "code",
   "execution_count": 4,
   "outputs": [
    {
     "name": "stdout",
     "output_type": "stream",
     "text": [
      "Post Conversion of Data into numeric, dropping pdays, and normalizing balance:\n"
     ]
    },
    {
     "data": {
      "text/plain": "   age  job  marital  education  default   balance  housing  loan  contact  \\\n0   58    4        1          2        0  0.092259        1     0        2   \n1   44    9        2          1        0  0.073067        1     0        2   \n2   33    2        1          1        0  0.072822        1     1        2   \n3   47    1        1          3        0  0.086476        1     0        2   \n4   33   11        2          3        0  0.072812        0     0        2   \n5   35    4        1          2        0  0.074901        1     0        2   \n6   28    4        2          2        0  0.076862        1     1        2   \n7   42    2        0          2        1  0.072822        1     0        2   \n8   58    5        1          0        0  0.073902        1     0        2   \n9   43    9        2          1        0  0.078187        1     0        2   \n\n   day  month  duration  campaign  previous  poutcome  y  \n0    5      8       261         1         0         3  0  \n1    5      8       151         1         0         3  0  \n2    5      8        76         1         0         3  0  \n3    5      8        92         1         0         3  0  \n4    5      8       198         1         0         3  0  \n5    5      8       139         1         0         3  0  \n6    5      8       217         1         0         3  0  \n7    5      8       380         1         0         3  0  \n8    5      8        50         1         0         3  0  \n9    5      8        55         1         0         3  0  ",
      "text/html": "<div>\n<style scoped>\n    .dataframe tbody tr th:only-of-type {\n        vertical-align: middle;\n    }\n\n    .dataframe tbody tr th {\n        vertical-align: top;\n    }\n\n    .dataframe thead th {\n        text-align: right;\n    }\n</style>\n<table border=\"1\" class=\"dataframe\">\n  <thead>\n    <tr style=\"text-align: right;\">\n      <th></th>\n      <th>age</th>\n      <th>job</th>\n      <th>marital</th>\n      <th>education</th>\n      <th>default</th>\n      <th>balance</th>\n      <th>housing</th>\n      <th>loan</th>\n      <th>contact</th>\n      <th>day</th>\n      <th>month</th>\n      <th>duration</th>\n      <th>campaign</th>\n      <th>previous</th>\n      <th>poutcome</th>\n      <th>y</th>\n    </tr>\n  </thead>\n  <tbody>\n    <tr>\n      <th>0</th>\n      <td>58</td>\n      <td>4</td>\n      <td>1</td>\n      <td>2</td>\n      <td>0</td>\n      <td>0.092259</td>\n      <td>1</td>\n      <td>0</td>\n      <td>2</td>\n      <td>5</td>\n      <td>8</td>\n      <td>261</td>\n      <td>1</td>\n      <td>0</td>\n      <td>3</td>\n      <td>0</td>\n    </tr>\n    <tr>\n      <th>1</th>\n      <td>44</td>\n      <td>9</td>\n      <td>2</td>\n      <td>1</td>\n      <td>0</td>\n      <td>0.073067</td>\n      <td>1</td>\n      <td>0</td>\n      <td>2</td>\n      <td>5</td>\n      <td>8</td>\n      <td>151</td>\n      <td>1</td>\n      <td>0</td>\n      <td>3</td>\n      <td>0</td>\n    </tr>\n    <tr>\n      <th>2</th>\n      <td>33</td>\n      <td>2</td>\n      <td>1</td>\n      <td>1</td>\n      <td>0</td>\n      <td>0.072822</td>\n      <td>1</td>\n      <td>1</td>\n      <td>2</td>\n      <td>5</td>\n      <td>8</td>\n      <td>76</td>\n      <td>1</td>\n      <td>0</td>\n      <td>3</td>\n      <td>0</td>\n    </tr>\n    <tr>\n      <th>3</th>\n      <td>47</td>\n      <td>1</td>\n      <td>1</td>\n      <td>3</td>\n      <td>0</td>\n      <td>0.086476</td>\n      <td>1</td>\n      <td>0</td>\n      <td>2</td>\n      <td>5</td>\n      <td>8</td>\n      <td>92</td>\n      <td>1</td>\n      <td>0</td>\n      <td>3</td>\n      <td>0</td>\n    </tr>\n    <tr>\n      <th>4</th>\n      <td>33</td>\n      <td>11</td>\n      <td>2</td>\n      <td>3</td>\n      <td>0</td>\n      <td>0.072812</td>\n      <td>0</td>\n      <td>0</td>\n      <td>2</td>\n      <td>5</td>\n      <td>8</td>\n      <td>198</td>\n      <td>1</td>\n      <td>0</td>\n      <td>3</td>\n      <td>0</td>\n    </tr>\n    <tr>\n      <th>5</th>\n      <td>35</td>\n      <td>4</td>\n      <td>1</td>\n      <td>2</td>\n      <td>0</td>\n      <td>0.074901</td>\n      <td>1</td>\n      <td>0</td>\n      <td>2</td>\n      <td>5</td>\n      <td>8</td>\n      <td>139</td>\n      <td>1</td>\n      <td>0</td>\n      <td>3</td>\n      <td>0</td>\n    </tr>\n    <tr>\n      <th>6</th>\n      <td>28</td>\n      <td>4</td>\n      <td>2</td>\n      <td>2</td>\n      <td>0</td>\n      <td>0.076862</td>\n      <td>1</td>\n      <td>1</td>\n      <td>2</td>\n      <td>5</td>\n      <td>8</td>\n      <td>217</td>\n      <td>1</td>\n      <td>0</td>\n      <td>3</td>\n      <td>0</td>\n    </tr>\n    <tr>\n      <th>7</th>\n      <td>42</td>\n      <td>2</td>\n      <td>0</td>\n      <td>2</td>\n      <td>1</td>\n      <td>0.072822</td>\n      <td>1</td>\n      <td>0</td>\n      <td>2</td>\n      <td>5</td>\n      <td>8</td>\n      <td>380</td>\n      <td>1</td>\n      <td>0</td>\n      <td>3</td>\n      <td>0</td>\n    </tr>\n    <tr>\n      <th>8</th>\n      <td>58</td>\n      <td>5</td>\n      <td>1</td>\n      <td>0</td>\n      <td>0</td>\n      <td>0.073902</td>\n      <td>1</td>\n      <td>0</td>\n      <td>2</td>\n      <td>5</td>\n      <td>8</td>\n      <td>50</td>\n      <td>1</td>\n      <td>0</td>\n      <td>3</td>\n      <td>0</td>\n    </tr>\n    <tr>\n      <th>9</th>\n      <td>43</td>\n      <td>9</td>\n      <td>2</td>\n      <td>1</td>\n      <td>0</td>\n      <td>0.078187</td>\n      <td>1</td>\n      <td>0</td>\n      <td>2</td>\n      <td>5</td>\n      <td>8</td>\n      <td>55</td>\n      <td>1</td>\n      <td>0</td>\n      <td>3</td>\n      <td>0</td>\n    </tr>\n  </tbody>\n</table>\n</div>"
     },
     "execution_count": 4,
     "metadata": {},
     "output_type": "execute_result"
    }
   ],
   "source": [
    "# Creating Categories for ages then making categories\n",
    "df_b['job'] = df_b['job'].astype('category')\n",
    "df_b['job'] = df_b['job'].cat.codes\n",
    "df_b['marital'] = df_b['marital'].astype('category')\n",
    "df_b['marital'] = df_b['marital'].cat.codes\n",
    "df_b['education'] = df_b['education'].astype('category')\n",
    "df_b['education'] = df_b['education'].cat.codes\n",
    "df_b['default'] = df_b['default'].astype('category')\n",
    "df_b['default'] = df_b['default'].cat.codes\n",
    "df_b['contact'] = df_b['contact'].astype('category')\n",
    "df_b['contact'] = df_b['contact'].cat.codes\n",
    "df_b['month'] = df_b['month'].astype('category')\n",
    "df_b['month'] = df_b['month'].cat.codes\n",
    "df_b['poutcome'] = df_b['poutcome'].astype('category')\n",
    "df_b['poutcome'] = df_b['poutcome'].cat.codes\n",
    "df_b['housing'] = df_b['housing'].astype('category')\n",
    "df_b['housing'] = df_b['housing'].cat.codes\n",
    "df_b['loan'] = df_b['loan'].astype('category')\n",
    "df_b['loan'] = df_b['loan'].cat.codes\n",
    "df_b['y'] = df_b['y'].astype('category')\n",
    "df_b['y'] = df_b['y'].cat.codes\n",
    "df_b = df_b.drop('pdays',axis=1)\n",
    "df_b['balance'] = (df_b['balance'] - df_b['balance'].min()) / ( df_b['balance'].max() - df_b['balance'].min())\n",
    "print(\"Post Conversion of Data into numeric, dropping pdays, and normalizing balance:\")\n",
    "df_b.head(10)"
   ],
   "metadata": {
    "collapsed": false,
    "pycharm": {
     "name": "#%%\n"
    }
   }
  },
  {
   "cell_type": "markdown",
   "source": [
    "#### Exploratory Data Analysis"
   ],
   "metadata": {
    "collapsed": false,
    "pycharm": {
     "name": "#%% md\n"
    }
   },
   "outputs": [
    {
     "ename": "SyntaxError",
     "evalue": "invalid syntax (Temp/ipykernel_13928/2388544605.py, line 1)",
     "output_type": "error",
     "traceback": [
      "\u001B[1;36m  File \u001B[1;32m\"C:\\Users\\dunca\\AppData\\Local\\Temp/ipykernel_13928/2388544605.py\"\u001B[1;36m, line \u001B[1;32m1\u001B[0m\n\u001B[1;33m    Quick Data Visualization\u001B[0m\n\u001B[1;37m          ^\u001B[0m\n\u001B[1;31mSyntaxError\u001B[0m\u001B[1;31m:\u001B[0m invalid syntax\n"
     ]
    }
   ],
   "execution_count": 58
  },
  {
   "cell_type": "code",
   "execution_count": 5,
   "outputs": [
    {
     "name": "stdout",
     "output_type": "stream",
     "text": [
      "<class 'pandas.core.frame.DataFrame'>\n",
      "RangeIndex: 45211 entries, 0 to 45210\n",
      "Data columns (total 16 columns):\n",
      " #   Column     Non-Null Count  Dtype  \n",
      "---  ------     --------------  -----  \n",
      " 0   age        45211 non-null  int64  \n",
      " 1   job        45211 non-null  int8   \n",
      " 2   marital    45211 non-null  int8   \n",
      " 3   education  45211 non-null  int8   \n",
      " 4   default    45211 non-null  int8   \n",
      " 5   balance    45211 non-null  float64\n",
      " 6   housing    45211 non-null  int8   \n",
      " 7   loan       45211 non-null  int8   \n",
      " 8   contact    45211 non-null  int8   \n",
      " 9   day        45211 non-null  int64  \n",
      " 10  month      45211 non-null  int8   \n",
      " 11  duration   45211 non-null  int64  \n",
      " 12  campaign   45211 non-null  int64  \n",
      " 13  previous   45211 non-null  int64  \n",
      " 14  poutcome   45211 non-null  int8   \n",
      " 15  y          45211 non-null  int8   \n",
      "dtypes: float64(1), int64(5), int8(10)\n",
      "memory usage: 2.5 MB\n"
     ]
    }
   ],
   "source": [
    "df_b.info()"
   ],
   "metadata": {
    "collapsed": false,
    "pycharm": {
     "name": "#%%\n"
    }
   }
  },
  {
   "cell_type": "code",
   "execution_count": 6,
   "outputs": [
    {
     "data": {
      "text/plain": "                age           job       marital     education       default  \\\ncount  45211.000000  45211.000000  45211.000000  45211.000000  45211.000000   \nmean      40.936210      4.339762      1.167725      1.224813      0.018027   \nstd       10.618762      3.272657      0.608230      0.747997      0.133049   \nmin       18.000000      0.000000      0.000000      0.000000      0.000000   \n25%       33.000000      1.000000      1.000000      1.000000      0.000000   \n50%       39.000000      4.000000      1.000000      1.000000      0.000000   \n75%       48.000000      7.000000      2.000000      2.000000      0.000000   \nmax       95.000000     11.000000      2.000000      3.000000      1.000000   \n\n            balance       housing          loan       contact           day  \\\ncount  45211.000000  45211.000000  45211.000000  45211.000000  45211.000000   \nmean       0.085171      0.555838      0.160226      0.640242     15.806419   \nstd        0.027643      0.496878      0.366820      0.897951      8.322476   \nmin        0.000000      0.000000      0.000000      0.000000      1.000000   \n25%        0.073457      0.000000      0.000000      0.000000      8.000000   \n50%        0.076871      1.000000      0.000000      0.000000     16.000000   \n75%        0.085768      1.000000      0.000000      2.000000     21.000000   \nmax        1.000000      1.000000      1.000000      2.000000     31.000000   \n\n              month      duration      campaign      previous      poutcome  \\\ncount  45211.000000  45211.000000  45211.000000  45211.000000  45211.000000   \nmean       5.523014    258.163080      2.763841      0.580323      2.559974   \nstd        3.006911    257.527812      3.098021      2.303441      0.989059   \nmin        0.000000      0.000000      1.000000      0.000000      0.000000   \n25%        3.000000    103.000000      1.000000      0.000000      3.000000   \n50%        6.000000    180.000000      2.000000      0.000000      3.000000   \n75%        8.000000    319.000000      3.000000      0.000000      3.000000   \nmax       11.000000   4918.000000     63.000000    275.000000      3.000000   \n\n                  y  \ncount  45211.000000  \nmean       0.116985  \nstd        0.321406  \nmin        0.000000  \n25%        0.000000  \n50%        0.000000  \n75%        0.000000  \nmax        1.000000  ",
      "text/html": "<div>\n<style scoped>\n    .dataframe tbody tr th:only-of-type {\n        vertical-align: middle;\n    }\n\n    .dataframe tbody tr th {\n        vertical-align: top;\n    }\n\n    .dataframe thead th {\n        text-align: right;\n    }\n</style>\n<table border=\"1\" class=\"dataframe\">\n  <thead>\n    <tr style=\"text-align: right;\">\n      <th></th>\n      <th>age</th>\n      <th>job</th>\n      <th>marital</th>\n      <th>education</th>\n      <th>default</th>\n      <th>balance</th>\n      <th>housing</th>\n      <th>loan</th>\n      <th>contact</th>\n      <th>day</th>\n      <th>month</th>\n      <th>duration</th>\n      <th>campaign</th>\n      <th>previous</th>\n      <th>poutcome</th>\n      <th>y</th>\n    </tr>\n  </thead>\n  <tbody>\n    <tr>\n      <th>count</th>\n      <td>45211.000000</td>\n      <td>45211.000000</td>\n      <td>45211.000000</td>\n      <td>45211.000000</td>\n      <td>45211.000000</td>\n      <td>45211.000000</td>\n      <td>45211.000000</td>\n      <td>45211.000000</td>\n      <td>45211.000000</td>\n      <td>45211.000000</td>\n      <td>45211.000000</td>\n      <td>45211.000000</td>\n      <td>45211.000000</td>\n      <td>45211.000000</td>\n      <td>45211.000000</td>\n      <td>45211.000000</td>\n    </tr>\n    <tr>\n      <th>mean</th>\n      <td>40.936210</td>\n      <td>4.339762</td>\n      <td>1.167725</td>\n      <td>1.224813</td>\n      <td>0.018027</td>\n      <td>0.085171</td>\n      <td>0.555838</td>\n      <td>0.160226</td>\n      <td>0.640242</td>\n      <td>15.806419</td>\n      <td>5.523014</td>\n      <td>258.163080</td>\n      <td>2.763841</td>\n      <td>0.580323</td>\n      <td>2.559974</td>\n      <td>0.116985</td>\n    </tr>\n    <tr>\n      <th>std</th>\n      <td>10.618762</td>\n      <td>3.272657</td>\n      <td>0.608230</td>\n      <td>0.747997</td>\n      <td>0.133049</td>\n      <td>0.027643</td>\n      <td>0.496878</td>\n      <td>0.366820</td>\n      <td>0.897951</td>\n      <td>8.322476</td>\n      <td>3.006911</td>\n      <td>257.527812</td>\n      <td>3.098021</td>\n      <td>2.303441</td>\n      <td>0.989059</td>\n      <td>0.321406</td>\n    </tr>\n    <tr>\n      <th>min</th>\n      <td>18.000000</td>\n      <td>0.000000</td>\n      <td>0.000000</td>\n      <td>0.000000</td>\n      <td>0.000000</td>\n      <td>0.000000</td>\n      <td>0.000000</td>\n      <td>0.000000</td>\n      <td>0.000000</td>\n      <td>1.000000</td>\n      <td>0.000000</td>\n      <td>0.000000</td>\n      <td>1.000000</td>\n      <td>0.000000</td>\n      <td>0.000000</td>\n      <td>0.000000</td>\n    </tr>\n    <tr>\n      <th>25%</th>\n      <td>33.000000</td>\n      <td>1.000000</td>\n      <td>1.000000</td>\n      <td>1.000000</td>\n      <td>0.000000</td>\n      <td>0.073457</td>\n      <td>0.000000</td>\n      <td>0.000000</td>\n      <td>0.000000</td>\n      <td>8.000000</td>\n      <td>3.000000</td>\n      <td>103.000000</td>\n      <td>1.000000</td>\n      <td>0.000000</td>\n      <td>3.000000</td>\n      <td>0.000000</td>\n    </tr>\n    <tr>\n      <th>50%</th>\n      <td>39.000000</td>\n      <td>4.000000</td>\n      <td>1.000000</td>\n      <td>1.000000</td>\n      <td>0.000000</td>\n      <td>0.076871</td>\n      <td>1.000000</td>\n      <td>0.000000</td>\n      <td>0.000000</td>\n      <td>16.000000</td>\n      <td>6.000000</td>\n      <td>180.000000</td>\n      <td>2.000000</td>\n      <td>0.000000</td>\n      <td>3.000000</td>\n      <td>0.000000</td>\n    </tr>\n    <tr>\n      <th>75%</th>\n      <td>48.000000</td>\n      <td>7.000000</td>\n      <td>2.000000</td>\n      <td>2.000000</td>\n      <td>0.000000</td>\n      <td>0.085768</td>\n      <td>1.000000</td>\n      <td>0.000000</td>\n      <td>2.000000</td>\n      <td>21.000000</td>\n      <td>8.000000</td>\n      <td>319.000000</td>\n      <td>3.000000</td>\n      <td>0.000000</td>\n      <td>3.000000</td>\n      <td>0.000000</td>\n    </tr>\n    <tr>\n      <th>max</th>\n      <td>95.000000</td>\n      <td>11.000000</td>\n      <td>2.000000</td>\n      <td>3.000000</td>\n      <td>1.000000</td>\n      <td>1.000000</td>\n      <td>1.000000</td>\n      <td>1.000000</td>\n      <td>2.000000</td>\n      <td>31.000000</td>\n      <td>11.000000</td>\n      <td>4918.000000</td>\n      <td>63.000000</td>\n      <td>275.000000</td>\n      <td>3.000000</td>\n      <td>1.000000</td>\n    </tr>\n  </tbody>\n</table>\n</div>"
     },
     "execution_count": 6,
     "metadata": {},
     "output_type": "execute_result"
    }
   ],
   "source": [
    "df_b.describe()"
   ],
   "metadata": {
    "collapsed": false,
    "pycharm": {
     "name": "#%%\n"
    }
   }
  },
  {
   "cell_type": "markdown",
   "source": [
    "The Descriptions from the data right now show that the data is displaying a lot of different scales.\n",
    "Namely the following\n",
    "- Age\n",
    "- previous\n",
    "- Duration\n",
    "- Month\n",
    "- Day <br>\n",
    "\n",
    "This Leads us to believe that we need to standardize the data to bring them into scale so that our\n",
    "different models are not affected disproportionately"
   ],
   "metadata": {
    "collapsed": false,
    "pycharm": {
     "name": "#%% md\n"
    }
   }
  },
  {
   "cell_type": "code",
   "execution_count": 7,
   "outputs": [
    {
     "data": {
      "text/plain": "<AxesSubplot:>"
     },
     "execution_count": 7,
     "metadata": {},
     "output_type": "execute_result"
    },
    {
     "data": {
      "text/plain": "<Figure size 432x288 with 2 Axes>",
      "image/png": "[encoded data removed]"
     },
     "metadata": {
      "needs_background": "light"
     },
     "output_type": "display_data"
    }
   ],
   "source": [
    "sns.heatmap(df_b.corr())"
   ],
   "metadata": {
    "collapsed": false,
    "pycharm": {
     "name": "#%%\n"
    }
   }
  },
  {
   "cell_type": "markdown",
   "source": [
    "From the Correlation Map we can see that Y has a high correlation with marital status followed by education and housing.\n"
   ],
   "metadata": {
    "collapsed": false
   }
  },
  {
   "cell_type": "markdown",
   "source": [
    "Splitting the Data into X and Y"
   ],
   "metadata": {
    "collapsed": false,
    "pycharm": {
     "name": "#%% md\n"
    }
   }
  },
  {
   "cell_type": "code",
   "execution_count": 8,
   "outputs": [],
   "source": [
    "y = df_b[\"y\"]\n",
    "X = df_b.drop(\"y\", axis=1)"
   ],
   "metadata": {
    "collapsed": false,
    "pycharm": {
     "name": "#%%\n"
    }
   }
  },
  {
   "cell_type": "markdown",
   "source": [
    "Taking another look at the correlation of only the features"
   ],
   "metadata": {
    "collapsed": false,
    "pycharm": {
     "name": "#%% md\n"
    }
   }
  },
  {
   "cell_type": "code",
   "execution_count": 9,
   "outputs": [
    {
     "data": {
      "text/plain": "<AxesSubplot:>"
     },
     "execution_count": 9,
     "metadata": {},
     "output_type": "execute_result"
    },
    {
     "data": {
      "text/plain": "<Figure size 432x288 with 2 Axes>",
      "image/png": "[encoded data removed]"
     },
     "metadata": {
      "needs_background": "light"
     },
     "output_type": "display_data"
    }
   ],
   "source": [
    "sns.heatmap(X.corr())"
   ],
   "metadata": {
    "collapsed": false,
    "pycharm": {
     "name": "#%%\n"
    }
   }
  },
  {
   "cell_type": "markdown",
   "source": [
    "Setting the data up into training and testing splits"
   ],
   "metadata": {
    "collapsed": false,
    "pycharm": {
     "name": "#%% md\n"
    }
   }
  },
  {
   "cell_type": "code",
   "execution_count": 10,
   "outputs": [],
   "source": [
    "# Splitting the dataset into Train Set and Test Set\n",
    "X_train, X_test, y_train, y_test = train_test_split(X,y, test_size=0.2, random_state=0)"
   ],
   "metadata": {
    "collapsed": false,
    "pycharm": {
     "name": "#%%\n"
    }
   }
  },
  {
   "cell_type": "markdown",
   "source": [
    "Displaying General PCA"
   ],
   "metadata": {
    "collapsed": false,
    "pycharm": {
     "name": "#%% md\n"
    }
   }
  },
  {
   "cell_type": "code",
   "execution_count": 11,
   "outputs": [
    {
     "data": {
      "text/plain": "<Figure size 432x288 with 1 Axes>",
      "image/png": "[encoded data removed]"
     },
     "metadata": {
      "needs_background": "light"
     },
     "output_type": "display_data"
    }
   ],
   "source": [
    "# Standardizing the data\n",
    "X_std = StandardScaler().fit_transform(df_b.drop(\"y\", axis=1))\n",
    "\n",
    "# Create a PCA instance\n",
    "pca = PCA(n_components=15)\n",
    "principalComponents =pca.fit_transform(X_std)\n",
    "\n",
    "# Plotting the explained variances\n",
    "features = range(pca.n_components_)\n",
    "plt.bar(features, pca.explained_variance_ratio_, color='b')\n",
    "plt.xlabel('PCA Features')\n",
    "plt.ylabel('Variance %')\n",
    "plt.xticks(features)\n",
    "plt.title(\"PCA Variances\", fontsize=20)\n",
    "plt.show()"
   ],
   "metadata": {
    "collapsed": false,
    "pycharm": {
     "name": "#%%\n"
    }
   }
  },
  {
   "cell_type": "markdown",
   "source": [
    "Now I want to look at reducing the number of features and get rid of any correlation between the two\n",
    "\n",
    "First I will want to scale the data"
   ],
   "metadata": {
    "collapsed": false,
    "pycharm": {
     "name": "#%% md\n"
    }
   }
  },
  {
   "cell_type": "markdown",
   "source": [
    "The Function Below Gathers the Accuracies for the different amount of components for PCA"
   ],
   "metadata": {
    "collapsed": false,
    "pycharm": {
     "name": "#%% md\n"
    }
   }
  },
  {
   "cell_type": "code",
   "execution_count": 12,
   "outputs": [],
   "source": [
    "def gather_model_accuracies(model_type, name):\n",
    "    \"\"\"This function takes in Different Classifiers to gather accuracies\"\"\"\n",
    "    accuracy = []\n",
    "    for i in range(1,16):\n",
    "        # pipe = Pipeline([('scalar', StandardScaler()),\n",
    "        #                  ('preprocessor', PCA(n_components=i, random_state=0)),\n",
    "        #                  ('clf', model_type)])\n",
    "        pipe = Pipeline([('preprocessor', PCA(n_components=i, random_state=0)),\n",
    "                         ('clf', model_type)])\n",
    "        pipe.fit(X_train, y_train)\n",
    "        y_prediction = pipe.predict(X_test)\n",
    "        accuracy.append(accuracy_score(y_test, y_prediction))\n",
    "    accuracy = pd.DataFrame(accuracy, index=[i for i in range(1,16)], columns=[name])\n",
    "    return accuracy"
   ],
   "metadata": {
    "collapsed": false,
    "pycharm": {
     "name": "#%%\n"
    }
   }
  },
  {
   "cell_type": "markdown",
   "source": [
    "The Function Below Graphs the Accuracies Gathered from above"
   ],
   "metadata": {
    "collapsed": false,
    "pycharm": {
     "name": "#%% md\n"
    }
   }
  },
  {
   "cell_type": "code",
   "execution_count": 13,
   "outputs": [],
   "source": [
    "def graph_accuracies(model_type, model_name):\n",
    "    \"\"\"This Function Graphs The Accuracies\"\"\"\n",
    "    x = model_type.index.tolist()\n",
    "    y = model_type.iloc[:,0].tolist()\n",
    "    fig, ax = plt.subplots(1, figsize=(5,5))\n",
    "    sns.lineplot(x=x, y=y, linewidth=4, color='b', ax=ax)\n",
    "    ax.set_xlabel(\"Number of Features\")\n",
    "    ax.set_ylabel(\"Model Accuracy\")\n",
    "    plt.xticks(np.arange(min(x),max(x)+1))\n",
    "    plt.title(str(\"Accuracy for \" + model_name), fontsize=20)\n",
    "    plt.grid()\n",
    "    plt.show()\n"
   ],
   "metadata": {
    "collapsed": false,
    "pycharm": {
     "name": "#%%\n"
    }
   }
  },
  {
   "cell_type": "markdown",
   "source": [
    "Gathering the Decision Tree and GaussianNB Model Accuracy"
   ],
   "metadata": {
    "collapsed": false,
    "pycharm": {
     "name": "#%% md\n"
    }
   }
  },
  {
   "cell_type": "code",
   "execution_count": 14,
   "outputs": [],
   "source": [
    "dtree_accuracy = gather_model_accuracies(tree.DecisionTreeClassifier(random_state=0), \"Decision Tree\")\n",
    "# dtree_accuracy"
   ],
   "metadata": {
    "collapsed": false,
    "pycharm": {
     "name": "#%%\n"
    }
   }
  },
  {
   "cell_type": "code",
   "execution_count": 15,
   "outputs": [],
   "source": [
    "gnb_accuracy = gather_model_accuracies(GaussianNB(), \"Gaussian\")\n",
    "# gnb_accuracy"
   ],
   "metadata": {
    "collapsed": false,
    "pycharm": {
     "name": "#%%\n"
    }
   }
  },
  {
   "cell_type": "markdown",
   "source": [
    "#### TODO Maybe Add in K-Means here"
   ],
   "metadata": {
    "collapsed": false,
    "pycharm": {
     "name": "#%% md\n"
    }
   }
  },
  {
   "cell_type": "markdown",
   "source": [
    "Graphing Decision Tree and Gaussian Model Accuracy"
   ],
   "metadata": {
    "collapsed": false,
    "pycharm": {
     "name": "#%% md\n"
    }
   }
  },
  {
   "cell_type": "code",
   "execution_count": 16,
   "outputs": [
    {
     "data": {
      "text/plain": "<Figure size 360x360 with 1 Axes>",
      "image/png": "[encoded data removed]"
     },
     "metadata": {
      "needs_background": "light"
     },
     "output_type": "display_data"
    }
   ],
   "source": [
    "graph_accuracies(dtree_accuracy, \"Decision Tree\")"
   ],
   "metadata": {
    "collapsed": false,
    "pycharm": {
     "name": "#%%\n"
    }
   }
  },
  {
   "cell_type": "code",
   "execution_count": 17,
   "outputs": [
    {
     "data": {
      "text/plain": "<Figure size 360x360 with 1 Axes>",
      "image/png": "[encoded data removed]"
     },
     "metadata": {
      "needs_background": "light"
     },
     "output_type": "display_data"
    }
   ],
   "source": [
    "graph_accuracies(gnb_accuracy, \"GaussianNB\")"
   ],
   "metadata": {
    "collapsed": false,
    "pycharm": {
     "name": "#%%\n"
    }
   }
  },
  {
   "cell_type": "markdown",
   "source": [
    "Now to Select The Best Features For the Models\n"
   ],
   "metadata": {
    "collapsed": false,
    "pycharm": {
     "name": "#%% md\n"
    }
   }
  },
  {
   "cell_type": "markdown",
   "source": [
    "### Setting Up Functions to Better Look into the Decision tree and the Gaussian Models\n",
    "#### Fitting Models"
   ],
   "metadata": {
    "collapsed": false,
    "pycharm": {
     "name": "#%% md\n"
    }
   }
  },
  {
   "cell_type": "code",
   "execution_count": 18,
   "outputs": [
    {
     "name": "stdout",
     "output_type": "stream",
     "text": [
      "Accuracy: 0.8635408603339599\n",
      "Tree Depth: 29\n"
     ]
    }
   ],
   "source": [
    "clf = tree.DecisionTreeClassifier(random_state=0)\n",
    "clf = clf.fit(X_train, y_train)\n",
    "y_pred = clf.predict(X_test)\n",
    "\n",
    "print(\"Accuracy:\", accuracy_score(y_test, y_pred))\n",
    "print(\"Tree Depth:\", clf.tree_.max_depth)"
   ],
   "metadata": {
    "collapsed": false,
    "pycharm": {
     "name": "#%%\n"
    }
   }
  },
  {
   "cell_type": "code",
   "execution_count": 19,
   "outputs": [],
   "source": [
    "# treeStruct = export_text(clf)\n",
    "# print(treeStruct)"
   ],
   "metadata": {
    "collapsed": false,
    "pycharm": {
     "name": "#%%\n"
    }
   }
  },
  {
   "cell_type": "code",
   "execution_count": 20,
   "outputs": [
    {
     "name": "stdout",
     "output_type": "stream",
     "text": [
      "Accuracy: 0.8942828707287405\n",
      "Tree Depth: 10\n",
      "Important Features: [0.06748149 0.01203522 0.01100038 0.00958603 0.00083134 0.05294651\n",
      " 0.03552026 0.00608226 0.03379701 0.05427403 0.12596836 0.41254568\n",
      " 0.00883265 0.05208453 0.11701425]\n"
     ]
    }
   ],
   "source": [
    "clf2 = tree.DecisionTreeClassifier(random_state=0, max_depth=10)\n",
    "clf2 = clf2.fit(X_train, y_train)\n",
    "y_pred2 = clf2.predict(X_test)\n",
    "\n",
    "print(\"Accuracy:\", accuracy_score(y_test, y_pred2))\n",
    "print(\"Tree Depth:\", clf2.tree_.max_depth)\n",
    "print(\"Important Features:\", clf2.feature_importances_)"
   ],
   "metadata": {
    "collapsed": false,
    "pycharm": {
     "name": "#%%\n"
    }
   }
  },
  {
   "cell_type": "code",
   "execution_count": 21,
   "outputs": [],
   "source": [
    "def train_data(df, drops=None):\n",
    "    \"\"\"This Function splits the data to train and test the data. It also an element for being able to\n",
    "    drop certain rows.\"\"\"\n",
    "    # Y is the classification\n",
    "    Y = df['y'].tolist()\n",
    "    X = df.copy()\n",
    "    X = X.drop(columns=[\"y\"])\n",
    "    if drops != None:\n",
    "        X = X.drop(columns=drops)\n",
    "    x_train, x_test, y_train, y_test = train_test_split(X, Y, test_size=0.2, random_state=0)\n",
    "    return x_train, x_test, y_train, y_test, X"
   ],
   "metadata": {
    "collapsed": false,
    "pycharm": {
     "name": "#%%\n"
    }
   }
  },
  {
   "cell_type": "code",
   "execution_count": 22,
   "outputs": [],
   "source": [
    "def decisionTree_Model(x_train, x_test, y_train, y_test, X, yes_print=False):\n",
    "    \"\"\"This Function goes through building a decision tree and creating a confusion matrix\n",
    "    computing accuracy, and listing the decision tree features and their importance\"\"\"\n",
    "    # Building out a decision tree\n",
    "    dtree = tree.DecisionTreeClassifier(criterion=\"gini\")\n",
    "    dtree = dtree.fit(x_train, y_train)\n",
    "    y_predicted = dtree.predict(x_test)\n",
    "    accuracy = accuracy_score(y_test, y_predicted)\n",
    "    important = dtree.feature_importances_\n",
    "    df_importance_list = []\n",
    "    for i, v in enumerate(important):\n",
    "        df_importance_list.append([X.columns[i], v])\n",
    "    df_importance = pd.DataFrame(df_importance_list, columns=[\"FName\", \"Score\"])\n",
    "    df_importance.sort_values(by=['Score'], ascending=False, inplace=True)\n",
    "    decisionTree_Model_Features = df_importance[\"FName\"].tolist()\n",
    "    if yes_print:\n",
    "        print(\"DecisionTree Accuracy: \", accuracy)\n",
    "        print(\"DecisionTree Confusion Matrix:\")\n",
    "        print(confusion_matrix(y_test, y_predicted))\n",
    "        print(\"decision tree dtree feature importance:\")\n",
    "        print(df_importance)\n",
    "    return accuracy, decisionTree_Model_Features"
   ],
   "metadata": {
    "collapsed": false,
    "pycharm": {
     "name": "#%%\n"
    }
   }
  },
  {
   "cell_type": "code",
   "execution_count": 23,
   "outputs": [],
   "source": [
    "def GausianNB_Model(x_train, x_test, y_train, y_test, X, yes_print=False):\n",
    "    \"\"\"This Function goes through the GausianNB model and calculates the accuracy, computes the confusion matrix\n",
    "    and then lists the Gaussian Model Features and their significance\"\"\"\n",
    "    model2 = GaussianNB()\n",
    "    model2.fit(x_train, y_train)\n",
    "    gausianNB_predicted = model2.predict(x_test)\n",
    "    accuracy = accuracy_score(y_test, gausianNB_predicted)\n",
    "    imps = permutation_importance(model2, x_test, y_test)\n",
    "    df_Gausian_Feature_Importance_List = []\n",
    "    Gausian_Feature_Importance_List =  imps.importances_mean.tolist()\n",
    "    for row in enumerate(Gausian_Feature_Importance_List):\n",
    "        df_Gausian_Feature_Importance_List.append([X.columns[row[0]], row[1]])\n",
    "    df_Gausian_Feature_Importance = pd.DataFrame(df_Gausian_Feature_Importance_List, columns=[\"Feature\", \"Significance\"])\n",
    "    df_Gausian_Feature_Importance.sort_values(by=[\"Significance\"], ascending=False, inplace=True)\n",
    "    GausianND_Features = df_Gausian_Feature_Importance[\"Feature\"].tolist()\n",
    "    if yes_print:\n",
    "        print('\\nconfusion_matrix from Gaussian naive bayes:')\n",
    "        print(confusion_matrix(y_test, gausianNB_predicted))\n",
    "        print('accuracy = ' + str(accuracy))\n",
    "        print(\"gausianNB feature importance:\")\n",
    "        print(df_Gausian_Feature_Importance)\n",
    "    return accuracy, GausianND_Features"
   ],
   "metadata": {
    "collapsed": false,
    "pycharm": {
     "name": "#%%\n"
    }
   }
  },
  {
   "cell_type": "code",
   "execution_count": 24,
   "outputs": [],
   "source": [
    "def backward_selection(accuracy, features, selection, df, model):\n",
    "    \"\"\"This is a backward selection model that removes one feature at a time to see if we can improve the\n",
    "    accuracy of the model. Once any improvement is reached the function returns which feature that was dropped\n",
    "    that improves the model. The features that were included and the accuracy of the new model\"\"\"\n",
    "    features_loop = [word for word in features if word not in selection]\n",
    "    accuracy_start = accuracy\n",
    "    for feature in features_loop:\n",
    "        x_train, x_test, y_train, y_test, X = train_data(df, [feature] + selection)  # Dropping selection and feature\n",
    "        if model == 1:  # 1 For decisionTree\n",
    "            new_accuracy, new_features = decisionTree_Model(x_train, x_test, y_train, y_test, X, False)\n",
    "        else:\n",
    "            new_accuracy, new_features = GausianNB_Model(x_train, x_test, y_train, y_test, X, False)\n",
    "        if new_accuracy >= accuracy_start:\n",
    "            print(\"Accuracy:\", new_accuracy, \"\\nFeatures:\", new_features,\"\\nDropped Feature:\", feature)\n",
    "            return\n",
    "    return \"No Improvement\""
   ],
   "metadata": {
    "collapsed": false,
    "pycharm": {
     "name": "#%%\n"
    }
   }
  },
  {
   "cell_type": "code",
   "execution_count": 25,
   "outputs": [],
   "source": [
    "def forward_selection(accuracy, features, selection, df, model):\n",
    "    \"\"\"This is a backward selection model that removes one feature at a time to see if we can improve the\n",
    "    accuracy of the model. Once any improvement is reached the function returns which feature that was dropped\n",
    "    that improves the model. The features that were included and the accuracy of the new model\"\"\"\n",
    "    features_loop = [word for word in features if word not in selection]\n",
    "    best_accuracy = accuracy\n",
    "    for feature in features_loop:\n",
    "        drop_features = [word for word in features if word not in [feature] + selection]\n",
    "        x_train, x_test, y_train, y_test, X = train_data(df, drop_features)  # Dropping selection and feature\n",
    "        if model == 1:  # 1 For decisionTree\n",
    "            new_accuracy, new_features = decisionTree_Model(x_train, x_test, y_train, y_test, X, False)\n",
    "        else:\n",
    "            new_accuracy, new_features = GausianNB_Model(x_train, x_test, y_train, y_test, X, False)\n",
    "        if new_accuracy >= best_accuracy:\n",
    "            best_accuracy = new_accuracy\n",
    "            add_feature = feature\n",
    "    if best_accuracy > accuracy:\n",
    "            print(\"Accuracy:\", best_accuracy, \"\\nAdd Feature:\", add_feature, \"\\nModel Features\", [add_feature] + selection)\n",
    "    else:\n",
    "        return \"No Improvement\""
   ],
   "metadata": {
    "collapsed": false,
    "pycharm": {
     "name": "#%%\n"
    }
   }
  },
  {
   "cell_type": "code",
   "execution_count": 26,
   "outputs": [
    {
     "name": "stdout",
     "output_type": "stream",
     "text": [
      "DecisionTree Accuracy:  0.8635408603339599\n",
      "DecisionTree Confusion Matrix:\n",
      "[[7324  656]\n",
      " [ 578  485]]\n",
      "decision tree dtree feature importance:\n",
      "        FName     Score\n",
      "11   duration  0.296549\n",
      "5     balance  0.123322\n",
      "10      month  0.102925\n",
      "0         age  0.095055\n",
      "9         day  0.094529\n",
      "14   poutcome  0.060507\n",
      "1         job  0.048802\n",
      "13   previous  0.036116\n",
      "12   campaign  0.033984\n",
      "3   education  0.027874\n",
      "6     housing  0.024090\n",
      "8     contact  0.022019\n",
      "2     marital  0.021672\n",
      "7        loan  0.010346\n",
      "4     default  0.002211\n"
     ]
    }
   ],
   "source": [
    "# Dropping Rain Today\n",
    "x_train, x_test, y_train, y_test, X = train_data(df_b)\n",
    "\n",
    "# Decision Tree Model\n",
    "dt_a, dt_f = decisionTree_Model(x_train, x_test, y_train, y_test, X, True)"
   ],
   "metadata": {
    "collapsed": false,
    "pycharm": {
     "name": "#%%\n"
    }
   }
  },
  {
   "cell_type": "markdown",
   "source": [
    "Starting the Decision tree with backward selection"
   ],
   "metadata": {
    "collapsed": false,
    "pycharm": {
     "name": "#%% md\n"
    }
   }
  },
  {
   "cell_type": "code",
   "execution_count": 27,
   "outputs": [
    {
     "name": "stdout",
     "output_type": "stream",
     "text": [
      "Accuracy: 0.8713922370894615 \n",
      "Features: ['duration', 'balance', 'month', 'day', 'poutcome', 'job', 'campaign', 'education', 'contact', 'marital', 'housing', 'previous', 'loan', 'default'] \n",
      "Dropped Feature: age\n"
     ]
    }
   ],
   "source": [
    "features = df_b.columns.tolist()\n",
    "features.pop(-1)\n",
    "accuracy = 0.8635408603339599\n",
    "selection = []\n",
    "\n",
    "backward_selection(accuracy, features, selection, df_b, 1)"
   ],
   "metadata": {
    "collapsed": false,
    "pycharm": {
     "name": "#%%\n"
    }
   }
  },
  {
   "cell_type": "code",
   "execution_count": 28,
   "outputs": [
    {
     "data": {
      "text/plain": "'No Improvement'"
     },
     "execution_count": 28,
     "metadata": {},
     "output_type": "execute_result"
    }
   ],
   "source": [
    "selection = ['age']\n",
    "accuracy = 0.8713922370894615\n",
    "backward_selection(accuracy, features, selection, df_b, 1)"
   ],
   "metadata": {
    "collapsed": false,
    "pycharm": {
     "name": "#%%\n"
    }
   }
  },
  {
   "cell_type": "markdown",
   "source": [
    "Starting the Decision tree with forward selection"
   ],
   "metadata": {
    "collapsed": false,
    "pycharm": {
     "name": "#%% md\n"
    }
   }
  },
  {
   "cell_type": "code",
   "execution_count": 29,
   "outputs": [
    {
     "name": "stdout",
     "output_type": "stream",
     "text": [
      "Accuracy: 0.8877584872276899 \n",
      "Add Feature: poutcome \n",
      "Model Features ['poutcome', 'age']\n"
     ]
    }
   ],
   "source": [
    "forward_selection(accuracy, features, selection, df_b, 1)"
   ],
   "metadata": {
    "collapsed": false,
    "pycharm": {
     "name": "#%%\n"
    }
   }
  },
  {
   "cell_type": "code",
   "execution_count": 30,
   "outputs": [
    {
     "name": "stdout",
     "output_type": "stream",
     "text": [
      "Accuracy: 0.8879796527700984 \n",
      "Add Feature: contact \n",
      "Model Features ['contact', 'poutcome', 'age']\n"
     ]
    }
   ],
   "source": [
    "selection = ['poutcome', 'age']\n",
    "accuracy = 0.8877584872276899\n",
    "forward_selection(accuracy, features, selection, df_b, 1)"
   ],
   "metadata": {
    "collapsed": false,
    "pycharm": {
     "name": "#%%\n"
    }
   }
  },
  {
   "cell_type": "code",
   "execution_count": 31,
   "outputs": [
    {
     "name": "stdout",
     "output_type": "stream",
     "text": [
      "Accuracy: 0.8880902355413026 \n",
      "Add Feature: default \n",
      "Model Features ['default', 'contact', 'poutcome', 'age']\n"
     ]
    }
   ],
   "source": [
    "selection = ['contact', 'poutcome', 'age']\n",
    "accuracy = 0.8879796527700984\n",
    "forward_selection(accuracy, features, selection, df_b, 1)"
   ],
   "metadata": {
    "collapsed": false,
    "pycharm": {
     "name": "#%%\n"
    }
   }
  },
  {
   "cell_type": "code",
   "execution_count": 32,
   "outputs": [
    {
     "data": {
      "text/plain": "'No Improvement'"
     },
     "execution_count": 32,
     "metadata": {},
     "output_type": "execute_result"
    }
   ],
   "source": [
    "selection = ['default', 'contact', 'poutcome', 'age']\n",
    "accuracy = 0.8880902355413026\n",
    "forward_selection(accuracy, features, selection, df_b, 1)"
   ],
   "metadata": {
    "collapsed": false,
    "pycharm": {
     "name": "#%%\n"
    }
   }
  },
  {
   "cell_type": "markdown",
   "source": [
    "Looking at the Decision Tree we can conclude that the highest accuracy\n",
    "that we reached was .888090 with ['default', 'contact', 'poutcome', 'age'] as the selection\n",
    "The backward model stopped at only removing age with an accuracy of 0.8713922370894615"
   ],
   "metadata": {
    "collapsed": false,
    "pycharm": {
     "name": "#%% md\n"
    }
   }
  },
  {
   "cell_type": "markdown",
   "source": [
    "Now to look at the Gaussian model with backward selection"
   ],
   "metadata": {
    "collapsed": false,
    "pycharm": {
     "name": "#%% md\n"
    }
   }
  },
  {
   "cell_type": "code",
   "execution_count": 33,
   "outputs": [
    {
     "name": "stdout",
     "output_type": "stream",
     "text": [
      "\n",
      "confusion_matrix from Gaussian naive bayes:\n",
      "[[7379  601]\n",
      " [ 610  453]]\n",
      "accuracy = 0.8660842640716576\n",
      "gausianNB feature importance:\n",
      "      Feature  Significance\n",
      "11   duration      0.044830\n",
      "0         age      0.004689\n",
      "6     housing      0.002964\n",
      "7        loan      0.000487\n",
      "2     marital      0.000199\n",
      "3   education     -0.000044\n",
      "8     contact     -0.000111\n",
      "1         job     -0.000221\n",
      "4     default     -0.000221\n",
      "12   campaign     -0.000464\n",
      "13   previous     -0.001062\n",
      "10      month     -0.001150\n",
      "9         day     -0.001349\n",
      "14   poutcome     -0.002256\n",
      "5     balance     -0.002654\n"
     ]
    }
   ],
   "source": [
    "x_train, x_test, y_train, y_test, X = train_data(df_b)\n",
    "gm_a, gm_f = GausianNB_Model(x_train, x_test, y_train, y_test, X, True)"
   ],
   "metadata": {
    "collapsed": false,
    "pycharm": {
     "name": "#%%\n"
    }
   }
  },
  {
   "cell_type": "code",
   "execution_count": 34,
   "outputs": [
    {
     "name": "stdout",
     "output_type": "stream",
     "text": [
      "Accuracy: 0.8802388587858012 \n",
      "Features: ['duration', 'housing', 'job', 'marital', 'default', 'campaign'] \n",
      "Dropped Feature: age\n"
     ]
    }
   ],
   "source": [
    "selection = [\"education\",\"contact\",\"day\",\"loan\",\"previous\",\"month\", \"balance\", \"poutcome\"]\n",
    "accuracy = 0.8660842640716576\n",
    "backward_selection(accuracy, features, selection, df_b, 0)"
   ],
   "metadata": {
    "collapsed": false,
    "pycharm": {
     "name": "#%%\n"
    }
   }
  },
  {
   "cell_type": "code",
   "execution_count": 35,
   "outputs": [
    {
     "name": "stdout",
     "output_type": "stream",
     "text": [
      "Accuracy: 0.8814552692690479 \n",
      "Features: ['duration', 'housing', 'campaign', 'marital', 'job'] \n",
      "Dropped Feature: default\n"
     ]
    }
   ],
   "source": [
    "selection = [\"education\",\"contact\",\"day\",\"loan\",\"previous\",\"month\", \"balance\", \"poutcome\",\"age\"]\n",
    "accuracy = 0.8802388587858012\n",
    "backward_selection(accuracy, features, selection, df_b, 0)"
   ],
   "metadata": {
    "collapsed": false,
    "pycharm": {
     "name": "#%%\n"
    }
   }
  },
  {
   "cell_type": "code",
   "execution_count": 36,
   "outputs": [
    {
     "name": "stdout",
     "output_type": "stream",
     "text": [
      "Accuracy: 0.8815658520402522 \n",
      "Features: ['duration', 'housing', 'marital', 'campaign'] \n",
      "Dropped Feature: job\n"
     ]
    }
   ],
   "source": [
    "selection = [\"education\",\"contact\",\"day\",\"loan\",\"previous\",\"month\", \"balance\", \"poutcome\",\"age\",\n",
    "             \"default\"]\n",
    "accuracy = 0.8814552692690479\n",
    "backward_selection(accuracy, features, selection, df_b, 0)"
   ],
   "metadata": {
    "collapsed": false,
    "pycharm": {
     "name": "#%%\n"
    }
   }
  },
  {
   "cell_type": "code",
   "execution_count": 37,
   "outputs": [
    {
     "name": "stdout",
     "output_type": "stream",
     "text": [
      "Accuracy: 0.8817870175826606 \n",
      "Features: ['duration', 'housing', 'campaign'] \n",
      "Dropped Feature: marital\n"
     ]
    }
   ],
   "source": [
    "selection = [\"education\",\"contact\",\"day\",\"loan\",\"previous\",\"month\", \"balance\", \"poutcome\",\"age\",\n",
    "             \"default\",\"job\"]\n",
    "accuracy = 0.8815658520402522\n",
    "backward_selection(accuracy, features, selection, df_b, 0)"
   ],
   "metadata": {
    "collapsed": false,
    "pycharm": {
     "name": "#%%\n"
    }
   }
  },
  {
   "cell_type": "code",
   "execution_count": 38,
   "outputs": [
    {
     "name": "stdout",
     "output_type": "stream",
     "text": [
      "Accuracy: 0.8824505142098861 \n",
      "Features: ['housing', 'campaign'] \n",
      "Dropped Feature: duration\n"
     ]
    }
   ],
   "source": [
    "selection = [\"education\",\"contact\",\"day\",\"loan\",\"previous\",\"month\", \"balance\", \"poutcome\",\"age\",\n",
    "             \"default\",\"job\", \"marital\"]\n",
    "accuracy = 0.8817870175826606\n",
    "backward_selection(accuracy, features, selection, df_b, 0)"
   ],
   "metadata": {
    "collapsed": false,
    "pycharm": {
     "name": "#%%\n"
    }
   }
  },
  {
   "cell_type": "code",
   "execution_count": 39,
   "outputs": [
    {
     "name": "stdout",
     "output_type": "stream",
     "text": [
      "Accuracy: 0.8824505142098861 \n",
      "Features: ['campaign'] \n",
      "Dropped Feature: housing\n"
     ]
    }
   ],
   "source": [
    "selection = [\"education\",\"contact\",\"day\",\"loan\",\"previous\",\"month\", \"balance\", \"poutcome\",\"age\",\n",
    "             \"default\",\"job\", \"marital\", \"duration\"]\n",
    "accuracy = 0.8824505142098861\n",
    "backward_selection(accuracy, features, selection, df_b, 0)"
   ],
   "metadata": {
    "collapsed": false,
    "pycharm": {
     "name": "#%%\n"
    }
   }
  },
  {
   "cell_type": "markdown",
   "source": [
    "Backward selection with the gaussiannb model shows that Campaign solely is the best predictor"
   ],
   "metadata": {
    "collapsed": false,
    "pycharm": {
     "name": "#%% md\n"
    }
   }
  },
  {
   "cell_type": "markdown",
   "source": [
    "Now to Look at the GaussianNB model with forward selection"
   ],
   "metadata": {
    "collapsed": false,
    "pycharm": {
     "name": "#%% md\n"
    }
   }
  },
  {
   "cell_type": "code",
   "execution_count": 40,
   "outputs": [
    {
     "name": "stdout",
     "output_type": "stream",
     "text": [
      "Accuracy: 0.8834457591507243 \n",
      "Add Feature: duration \n",
      "Model Features ['duration']\n"
     ]
    }
   ],
   "source": [
    "accuracy = 0\n",
    "selection = []\n",
    "forward_selection(accuracy, features, selection, df_b, 0)"
   ],
   "metadata": {
    "collapsed": false,
    "pycharm": {
     "name": "#%%\n"
    }
   }
  },
  {
   "cell_type": "code",
   "execution_count": 41,
   "outputs": [
    {
     "name": "stdout",
     "output_type": "stream",
     "text": [
      "Accuracy: 0.8854362490324007 \n",
      "Add Feature: contact \n",
      "Model Features ['contact', 'duration']\n"
     ]
    }
   ],
   "source": [
    "accuracy = 0.8834457591507243\n",
    "selection = ['duration']\n",
    "forward_selection(accuracy, features, selection, df_b, 0)"
   ],
   "metadata": {
    "collapsed": false,
    "pycharm": {
     "name": "#%%\n"
    }
   }
  },
  {
   "cell_type": "code",
   "execution_count": 42,
   "outputs": [
    {
     "name": "stdout",
     "output_type": "stream",
     "text": [
      "Accuracy: 0.8857679973460135 \n",
      "Add Feature: age \n",
      "Model Features ['age', 'contact', 'duration']\n"
     ]
    }
   ],
   "source": [
    "accuracy = 0.8854362490324007\n",
    "selection = ['contact', 'duration']\n",
    "forward_selection(accuracy, features, selection, df_b, 0)"
   ],
   "metadata": {
    "collapsed": false,
    "pycharm": {
     "name": "#%%\n"
    }
   }
  },
  {
   "cell_type": "code",
   "execution_count": 43,
   "outputs": [
    {
     "data": {
      "text/plain": "'No Improvement'"
     },
     "execution_count": 43,
     "metadata": {},
     "output_type": "execute_result"
    }
   ],
   "source": [
    "accuracy = 0.8857679973460135\n",
    "selection = ['age', 'contact', 'duration']\n",
    "forward_selection(accuracy, features, selection, df_b, 0)"
   ],
   "metadata": {
    "collapsed": false,
    "pycharm": {
     "name": "#%%\n"
    }
   }
  },
  {
   "cell_type": "markdown",
   "source": [
    "The Forward Selection with the Gaussian model found the greatedst accuracy to be\n",
    "0.8857679973460135  with ['age', 'contact', 'duration'] as variables"
   ],
   "metadata": {
    "collapsed": false,
    "pycharm": {
     "name": "#%% md\n"
    }
   }
  },
  {
   "cell_type": "markdown",
   "source": [
    "### K-Means\n",
    "For K-means we will first use the scalar."
   ],
   "metadata": {
    "collapsed": false,
    "pycharm": {
     "name": "#%% md\n"
    }
   }
  },
  {
   "cell_type": "code",
   "execution_count": 44,
   "outputs": [],
   "source": [
    "df_c_scaled = df_b.copy()\n",
    "df_c_scaled[df_c_scaled.columns] = StandardScaler().fit_transform(df_c_scaled)"
   ],
   "metadata": {
    "collapsed": false,
    "pycharm": {
     "name": "#%%\n"
    }
   }
  },
  {
   "cell_type": "markdown",
   "source": [
    "Running K-Means through PCA"
   ],
   "metadata": {
    "collapsed": false,
    "pycharm": {
     "name": "#%% md\n"
    }
   }
  },
  {
   "cell_type": "code",
   "execution_count": 45,
   "outputs": [
    {
     "name": "stdout",
     "output_type": "stream",
     "text": [
      "Cumulative variance explained by 1 principal components: 11.55%\n",
      "Cumulative variance explained by 2 principal components: 21.63%\n",
      "Cumulative variance explained by 3 principal components: 30.90%\n",
      "Cumulative variance explained by 4 principal components: 39.55%\n",
      "Cumulative variance explained by 5 principal components: 46.84%\n",
      "Cumulative variance explained by 6 principal components: 53.56%\n",
      "Cumulative variance explained by 7 principal components: 59.89%\n",
      "Cumulative variance explained by 8 principal components: 65.71%\n",
      "Cumulative variance explained by 9 principal components: 71.45%\n",
      "Cumulative variance explained by 10 principal components: 76.71%\n",
      "Cumulative variance explained by 11 principal components: 81.85%\n",
      "Cumulative variance explained by 12 principal components: 86.74%\n",
      "Cumulative variance explained by 13 principal components: 90.52%\n",
      "Cumulative variance explained by 14 principal components: 93.92%\n",
      "Cumulative variance explained by 15 principal components: 97.21%\n"
     ]
    }
   ],
   "source": [
    "for i in range(1,16):\n",
    "    pca = PCA(n_components=i)\n",
    "    pca_result = pca.fit_transform(df_c_scaled)\n",
    "    # print(\"Explained variation per principal component: {}\".format(pca.explained_variance_ratio_))\n",
    "    print(\"Cumulative variance explained by {} principal components: {:.2%}\".format(i, np.sum(pca.explained_variance_ratio_)))"
   ],
   "metadata": {
    "collapsed": false,
    "pycharm": {
     "name": "#%%\n"
    }
   }
  },
  {
   "cell_type": "markdown",
   "source": [
    "K-Means Does best when it is reduced down to a minimal amount of clusters, Unfortunatel\n",
    "This is not the case with this data set\n",
    "\n",
    "Now to look at the k means inertias"
   ],
   "metadata": {
    "collapsed": false,
    "pycharm": {
     "name": "#%% md\n"
    }
   }
  },
  {
   "cell_type": "code",
   "execution_count": 46,
   "outputs": [],
   "source": [
    "pca = PCA(n_components=16)\n",
    "principalComponents = pca.fit_transform(df_c_scaled)\n",
    "PCA_components = pd.DataFrame(principalComponents)\n",
    "\n",
    "inertias = []\n",
    "for k in range(1,16):\n",
    "    \"\"\"Creating a K means Clustering\"\"\"\n",
    "    model = KMeans(n_clusters=k)\n",
    "    model.fit(PCA_components.iloc[:,:3])\n",
    "    inertias.append(model.inertia_)"
   ],
   "metadata": {
    "collapsed": false,
    "pycharm": {
     "name": "#%%\n"
    }
   }
  },
  {
   "cell_type": "code",
   "execution_count": 47,
   "outputs": [
    {
     "data": {
      "text/plain": "<Figure size 432x288 with 1 Axes>",
      "image/png": "[encoded data removed]"
     },
     "metadata": {
      "needs_background": "light"
     },
     "output_type": "display_data"
    }
   ],
   "source": [
    "x = [i for i in range(1,16)]\n",
    "plt.plot(x, inertias, 'o', color='b')\n",
    "plt.xlabel(\"Number of clusters, k\")\n",
    "plt.ylabel(\"inertia\")\n",
    "plt.xticks(x)\n",
    "plt.show()\n",
    "\n"
   ],
   "metadata": {
    "collapsed": false,
    "pycharm": {
     "name": "#%%\n"
    }
   }
  },
  {
   "cell_type": "markdown",
   "source": [
    "The K-means doesn't seem to be the best fit for this data set. But just to show that I know how to graph it.\n",
    "Below is a k-means look. The elbow on the graph above shows that\n",
    "\n",
    "Looking at the inerta we see an elbow at three clusters. We will there for use this in our k-means model\n",
    "\n",
    "### TODO REVISIT LATER"
   ],
   "metadata": {
    "collapsed": false,
    "pycharm": {
     "name": "#%% md\n"
    }
   }
  },
  {
   "cell_type": "code",
   "execution_count": 48,
   "outputs": [],
   "source": [
    "# kmeans = KMeans(n_clusters=2, random_state=0).fit(df_c_scaled)\n",
    "# k_prediction = kmeans.labels_\n",
    "# len(k_prediction)\n"
   ],
   "metadata": {
    "collapsed": false,
    "pycharm": {
     "name": "#%%\n"
    }
   }
  },
  {
   "cell_type": "markdown",
   "source": [
    "### DBSCAN\n",
    "\n",
    "Now for looping through DB Scan"
   ],
   "metadata": {
    "collapsed": false,
    "pycharm": {
     "name": "#%% md\n"
    }
   }
  }
 ],
 "metadata": {
  "kernelspec": {
   "name": "pycharm-865e1948",
   "language": "python",
   "display_name": "PyCharm (GITHUB_REPOSITORY)"
  },
  "language_info": {
   "codemirror_mode": {
    "name": "ipython",
    "version": 2
   },
   "file_extension": ".py",
   "mimetype": "text/x-python",
   "name": "python",
   "nbconvert_exporter": "python",
   "pygments_lexer": "ipython2",
   "version": "2.7.6"
  }
 },
 "nbformat": 4,
 "nbformat_minor": 0
}