{
 "cells": [
  {
   "cell_type": "markdown",
   "source": [
    "Student: Duncan Ferguson <br>\n",
    "Student Id: 871641260 <br>\n",
    "Class: Comp 4431-1 <br>\n",
    "Assignment: Assignment 3 <br>\n",
    "Date: 11/20/2021 <br>\n",
    "\n",
    "You are to apply the following techniques to mine this data set:\n",
    "\n",
    "- Association Rules\n",
    "- Decision tree Classification\n",
    "- Naive Bayes Classification\n",
    "- kmeans and dbscan clustering\n",
    "\n",
    "Also, you are to use Principle Component Analysis to reduce the number of attributes (aka features)\n",
    "\n",
    "## 1. What can you deduce from the data set? (in otherwords, what attribute values are indicative of \"success\")\n",
    "\n",
    "### TODO ANSWER GERE\n",
    "## 2. Which mining techniques yielded the best results for what? How do you define \"best results\"?\n",
    "### TODO ANSWER GERE\n",
    "\n",
    "### 3. How useful was Principle Component Analysis? For what number of components did you get the \"best results.\"\n",
    "### TODO ANSWER GERE\n",
    "PCA as alright. There was a variety of different answers. There was an even spread and no noticable\n",
    "dip that made it easy to just cut off the data. It was useful for DBSCAN and K-means Clustering to aid in the\n",
    "visualization\n",
    "\n",
    "Please include tables and/or graphs to justify your statements about which are best."
   ],
   "metadata": {
    "collapsed": false
   }
  },
  {
   "cell_type": "markdown",
   "source": [
    "### Start of The Code\n",
    "Main Library Imports Below"
   ],
   "metadata": {
    "collapsed": false,
    "pycharm": {
     "name": "#%% md\n"
    }
   }
  },
  {
   "cell_type": "code",
   "execution_count": 8,
   "outputs": [],
   "source": [
    "import graphviz\n",
    "import pandas as pd\n",
    "import numpy as np\n",
    "from csv import reader\n",
    "\n",
    "# Sklearn Libraries\n",
    "from sklearn import tree\n",
    "from sklearn.model_selection import train_test_split, ParameterGrid\n",
    "from sklearn.metrics import *\n",
    "from sklearn.naive_bayes import *\n",
    "from sklearn.cluster import KMeans, DBSCAN\n",
    "from sklearn.inspection import permutation_importance\n",
    "from sklearn.preprocessing import StandardScaler, Normalizer\n",
    "from sklearn.decomposition import PCA\n",
    "from sklearn.pipeline import Pipeline\n",
    "from sklearn.tree import export_graphviz, export_text\n",
    "import pydotplus\n",
    "\n",
    "# Importing mlxtend Libraries\n",
    "from mlxtend.frequent_patterns import apriori, association_rules\n",
    "from mlxtend.preprocessing import TransactionEncoder\n",
    "\n",
    "# Graphing Libraries\n",
    "import matplotlib.pyplot as plt\n",
    "import seaborn as sns"
   ],
   "metadata": {
    "collapsed": false,
    "pycharm": {
     "name": "#%%\n"
    }
   }
  },
  {
   "cell_type": "markdown",
   "source": [
    "Importing the main document <br>\n",
    "Setting the random seed and setting view options <br>"
   ],
   "metadata": {
    "collapsed": false,
    "pycharm": {
     "name": "#%% md\n"
    }
   }
  },
  {
   "cell_type": "code",
   "execution_count": 9,
   "outputs": [],
   "source": [
    "np.random.seed(0)\n",
    "df =  pd.read_csv(\"bank-full.csv\")\n",
    "\n",
    "pd.set_option('display.max_columns', None)\n",
    "pd.set_option('max_columns', None)\n",
    "pd.set_option('max_rows', None)\n",
    "pd.options.display.width = 0   # automatically ajust to window length\n",
    "\n",
    "df_a = df.copy()\n",
    "df_b = df.copy()"
   ],
   "metadata": {
    "collapsed": false,
    "pycharm": {
     "name": "#%%\n"
    }
   }
  },
  {
   "cell_type": "code",
   "execution_count": 10,
   "outputs": [
    {
     "data": {
      "text/plain": "   age           job  marital  education default  balance housing loan  \\\n0   58    management  married   tertiary      no     2143     yes   no   \n1   44    technician   single  secondary      no       29     yes   no   \n2   33  entrepreneur  married  secondary      no        2     yes  yes   \n3   47   blue-collar  married    unknown      no     1506     yes   no   \n4   33       unknown   single    unknown      no        1      no   no   \n\n   contact  day month  duration  campaign  pdays  previous poutcome   y  \n0  unknown    5   may       261         1     -1         0  unknown  no  \n1  unknown    5   may       151         1     -1         0  unknown  no  \n2  unknown    5   may        76         1     -1         0  unknown  no  \n3  unknown    5   may        92         1     -1         0  unknown  no  \n4  unknown    5   may       198         1     -1         0  unknown  no  ",
      "text/html": "<div>\n<style scoped>\n    .dataframe tbody tr th:only-of-type {\n        vertical-align: middle;\n    }\n\n    .dataframe tbody tr th {\n        vertical-align: top;\n    }\n\n    .dataframe thead th {\n        text-align: right;\n    }\n</style>\n<table border=\"1\" class=\"dataframe\">\n  <thead>\n    <tr style=\"text-align: right;\">\n      <th></th>\n      <th>age</th>\n      <th>job</th>\n      <th>marital</th>\n      <th>education</th>\n      <th>default</th>\n      <th>balance</th>\n      <th>housing</th>\n      <th>loan</th>\n      <th>contact</th>\n      <th>day</th>\n      <th>month</th>\n      <th>duration</th>\n      <th>campaign</th>\n      <th>pdays</th>\n      <th>previous</th>\n      <th>poutcome</th>\n      <th>y</th>\n    </tr>\n  </thead>\n  <tbody>\n    <tr>\n      <th>0</th>\n      <td>58</td>\n      <td>management</td>\n      <td>married</td>\n      <td>tertiary</td>\n      <td>no</td>\n      <td>2143</td>\n      <td>yes</td>\n      <td>no</td>\n      <td>unknown</td>\n      <td>5</td>\n      <td>may</td>\n      <td>261</td>\n      <td>1</td>\n      <td>-1</td>\n      <td>0</td>\n      <td>unknown</td>\n      <td>no</td>\n    </tr>\n    <tr>\n      <th>1</th>\n      <td>44</td>\n      <td>technician</td>\n      <td>single</td>\n      <td>secondary</td>\n      <td>no</td>\n      <td>29</td>\n      <td>yes</td>\n      <td>no</td>\n      <td>unknown</td>\n      <td>5</td>\n      <td>may</td>\n      <td>151</td>\n      <td>1</td>\n      <td>-1</td>\n      <td>0</td>\n      <td>unknown</td>\n      <td>no</td>\n    </tr>\n    <tr>\n      <th>2</th>\n      <td>33</td>\n      <td>entrepreneur</td>\n      <td>married</td>\n      <td>secondary</td>\n      <td>no</td>\n      <td>2</td>\n      <td>yes</td>\n      <td>yes</td>\n      <td>unknown</td>\n      <td>5</td>\n      <td>may</td>\n      <td>76</td>\n      <td>1</td>\n      <td>-1</td>\n      <td>0</td>\n      <td>unknown</td>\n      <td>no</td>\n    </tr>\n    <tr>\n      <th>3</th>\n      <td>47</td>\n      <td>blue-collar</td>\n      <td>married</td>\n      <td>unknown</td>\n      <td>no</td>\n      <td>1506</td>\n      <td>yes</td>\n      <td>no</td>\n      <td>unknown</td>\n      <td>5</td>\n      <td>may</td>\n      <td>92</td>\n      <td>1</td>\n      <td>-1</td>\n      <td>0</td>\n      <td>unknown</td>\n      <td>no</td>\n    </tr>\n    <tr>\n      <th>4</th>\n      <td>33</td>\n      <td>unknown</td>\n      <td>single</td>\n      <td>unknown</td>\n      <td>no</td>\n      <td>1</td>\n      <td>no</td>\n      <td>no</td>\n      <td>unknown</td>\n      <td>5</td>\n      <td>may</td>\n      <td>198</td>\n      <td>1</td>\n      <td>-1</td>\n      <td>0</td>\n      <td>unknown</td>\n      <td>no</td>\n    </tr>\n  </tbody>\n</table>\n</div>"
     },
     "execution_count": 10,
     "metadata": {},
     "output_type": "execute_result"
    }
   ],
   "source": [
    "df_a.head()"
   ],
   "metadata": {
    "collapsed": false,
    "pycharm": {
     "name": "#%%\n"
    }
   }
  },
  {
   "cell_type": "markdown",
   "source": [
    "### Association Rule Analysis Below\n",
    "### Feature Engineering\n",
    "First Cleaning up the data and creating categories"
   ],
   "metadata": {
    "collapsed": false,
    "pycharm": {
     "name": "#%% md\n"
    }
   }
  },
  {
   "cell_type": "code",
   "execution_count": 11,
   "outputs": [
    {
     "data": {
      "text/plain": "            job  marital  education  contact month poutcome   y  \\\n0    management  married   tertiary  unknown   may  unknown  no   \n1    technician   single  secondary  unknown   may  unknown  no   \n2  entrepreneur  married  secondary  unknown   may  unknown  no   \n3   blue-collar  married    unknown  unknown   may  unknown  no   \n4       unknown   single    unknown  unknown   may  unknown  no   \n\n  balanceSummary   ageBand defaultValue housingVal  loanVal  \n0       positive  ageBand5    defaultNo   houseYes   loanNo  \n1       positive  ageBand4    defaultNo   houseYes   loanNo  \n2       positive  ageBand3    defaultNo   houseYes  loanYes  \n3       positive  ageBand4    defaultNo   houseYes   loanNo  \n4       positive  ageBand3    defaultNo    houseNo   loanNo  ",
      "text/html": "<div>\n<style scoped>\n    .dataframe tbody tr th:only-of-type {\n        vertical-align: middle;\n    }\n\n    .dataframe tbody tr th {\n        vertical-align: top;\n    }\n\n    .dataframe thead th {\n        text-align: right;\n    }\n</style>\n<table border=\"1\" class=\"dataframe\">\n  <thead>\n    <tr style=\"text-align: right;\">\n      <th></th>\n      <th>job</th>\n      <th>marital</th>\n      <th>education</th>\n      <th>contact</th>\n      <th>month</th>\n      <th>poutcome</th>\n      <th>y</th>\n      <th>balanceSummary</th>\n      <th>ageBand</th>\n      <th>defaultValue</th>\n      <th>housingVal</th>\n      <th>loanVal</th>\n    </tr>\n  </thead>\n  <tbody>\n    <tr>\n      <th>0</th>\n      <td>management</td>\n      <td>married</td>\n      <td>tertiary</td>\n      <td>unknown</td>\n      <td>may</td>\n      <td>unknown</td>\n      <td>no</td>\n      <td>positive</td>\n      <td>ageBand5</td>\n      <td>defaultNo</td>\n      <td>houseYes</td>\n      <td>loanNo</td>\n    </tr>\n    <tr>\n      <th>1</th>\n      <td>technician</td>\n      <td>single</td>\n      <td>secondary</td>\n      <td>unknown</td>\n      <td>may</td>\n      <td>unknown</td>\n      <td>no</td>\n      <td>positive</td>\n      <td>ageBand4</td>\n      <td>defaultNo</td>\n      <td>houseYes</td>\n      <td>loanNo</td>\n    </tr>\n    <tr>\n      <th>2</th>\n      <td>entrepreneur</td>\n      <td>married</td>\n      <td>secondary</td>\n      <td>unknown</td>\n      <td>may</td>\n      <td>unknown</td>\n      <td>no</td>\n      <td>positive</td>\n      <td>ageBand3</td>\n      <td>defaultNo</td>\n      <td>houseYes</td>\n      <td>loanYes</td>\n    </tr>\n    <tr>\n      <th>3</th>\n      <td>blue-collar</td>\n      <td>married</td>\n      <td>unknown</td>\n      <td>unknown</td>\n      <td>may</td>\n      <td>unknown</td>\n      <td>no</td>\n      <td>positive</td>\n      <td>ageBand4</td>\n      <td>defaultNo</td>\n      <td>houseYes</td>\n      <td>loanNo</td>\n    </tr>\n    <tr>\n      <th>4</th>\n      <td>unknown</td>\n      <td>single</td>\n      <td>unknown</td>\n      <td>unknown</td>\n      <td>may</td>\n      <td>unknown</td>\n      <td>no</td>\n      <td>positive</td>\n      <td>ageBand3</td>\n      <td>defaultNo</td>\n      <td>houseNo</td>\n      <td>loanNo</td>\n    </tr>\n  </tbody>\n</table>\n</div>"
     },
     "execution_count": 11,
     "metadata": {},
     "output_type": "execute_result"
    }
   ],
   "source": [
    "for index, row in df_a.iterrows():\n",
    "\tif row['balance'] < 0:\n",
    "\t\trow['balance'] = 'inDebt'\n",
    "\telse:\n",
    "\t\trow['balance'] = 'notInDebt'\n",
    "\n",
    "# Creating Categories for balance\n",
    "df_a.loc[(df_a['balance'] >= 10000), 'balanceSummary'] = 'veryPositive'\n",
    "df_a.loc[((df_a['balance'] < 0) & (df_a['balance'] >= -10000)), 'balanceSummary'] = 'negative'\n",
    "df_a.loc[((df_a['balance'] < 10000) & (df_a['balance'] >= 0)), 'balanceSummary'] = 'positive'\n",
    "df_a.loc[df_a['balance'] < -500, 'balanceSummary'] = 'veryNegative'\n",
    "\n",
    "# Creating Categories for ages\n",
    "df_a.loc[((df_a['age'] < 25) & (df_a['age'] >= 0)),  'ageBand'] = 'ageBand1'\n",
    "df_a.loc[((df_a['age'] < 30) & (df_a['age'] >= 25)), 'ageBand'] = 'ageBand2'\n",
    "df_a.loc[((df_a['age'] < 40) & (df_a['age'] >= 30)), 'ageBand'] = 'ageBand3'\n",
    "df_a.loc[((df_a['age'] < 50) & (df_a['age'] >= 40)), 'ageBand'] = 'ageBand4'\n",
    "df_a.loc[((df_a['age'] < 120) & (df_a['age'] >= 50)),'ageBand'] = 'ageBand5'\n",
    "\n",
    "# Creating Categories for default\n",
    "df_a.loc[(df_a['default'] == 'no'), 'defaultValue'] = 'defaultNo'\n",
    "df_a.loc[(df_a['default'] == 'yes'), 'defaultValue'] = 'defaultYes'\n",
    "\n",
    "# Creating Categories for Housing\n",
    "df_a.loc[(df_a['housing'] == 'no'), 'housingVal'] = 'houseNo'\n",
    "df_a.loc[(df_a['housing'] == 'yes'), 'housingVal'] = 'houseYes'\n",
    "\n",
    "# Creating Categories for Loans\n",
    "df_a.loc[(df_a['loan'] == 'no'), 'loanVal'] = 'loanNo'\n",
    "df_a.loc[(df_a['loan'] == 'yes'), 'loanVal'] = 'loanYes'\n",
    "\n",
    "# Dropping all values that are not strings\n",
    "df_a = df_a.drop(['age', 'day', 'duration', 'balance', 'campaign', 'previous', 'default', 'housing', 'loan', 'pdays'],\n",
    "                 axis=1)\n",
    "\n",
    "# Displaying Head\n",
    "df_a.head()"
   ],
   "metadata": {
    "collapsed": false,
    "pycharm": {
     "name": "#%%\n"
    }
   }
  },
  {
   "cell_type": "markdown",
   "source": [
    "Displaying all the Unique Values"
   ],
   "metadata": {
    "collapsed": false,
    "pycharm": {
     "name": "#%% md\n"
    }
   }
  },
  {
   "cell_type": "code",
   "execution_count": 12,
   "outputs": [
    {
     "name": "stdout",
     "output_type": "stream",
     "text": [
      "job : ['management' 'technician' 'entrepreneur' 'blue-collar' 'unknown'\n",
      " 'retired' 'admin.' 'services' 'self-employed' 'unemployed' 'housemaid'\n",
      " 'student']\n",
      "marital : ['married' 'single' 'divorced']\n",
      "education : ['tertiary' 'secondary' 'unknown' 'primary']\n",
      "contact : ['unknown' 'cellular' 'telephone']\n",
      "month : ['may' 'jun' 'jul' 'aug' 'oct' 'nov' 'dec' 'jan' 'feb' 'mar' 'apr' 'sep']\n",
      "poutcome : ['unknown' 'failure' 'other' 'success']\n",
      "y : ['no' 'yes']\n",
      "balanceSummary : ['positive' 'negative' 'veryPositive' 'veryNegative']\n",
      "ageBand : ['ageBand5' 'ageBand4' 'ageBand3' 'ageBand2' 'ageBand1']\n",
      "defaultValue : ['defaultNo' 'defaultYes']\n",
      "housingVal : ['houseYes' 'houseNo']\n",
      "loanVal : ['loanNo' 'loanYes']\n"
     ]
    }
   ],
   "source": [
    "for col in df_a:\n",
    "    print(col, \":\", df_a[col].unique())"
   ],
   "metadata": {
    "collapsed": false,
    "pycharm": {
     "name": "#%%\n"
    }
   }
  },
  {
   "cell_type": "markdown",
   "source": [
    "Exporting the dataframe as a CSV and reimporting it to speed up run times."
   ],
   "metadata": {
    "collapsed": false,
    "pycharm": {
     "name": "#%% md\n"
    }
   }
  },
  {
   "cell_type": "code",
   "execution_count": 13,
   "outputs": [],
   "source": [
    "df_a.to_csv(\"outfile.csv\", index=False)\n",
    "file = []\n",
    "with open(\"outfile.csv\", 'r') as read_obj:\n",
    "    csv_reader = reader(read_obj)\n",
    "    for row in csv_reader:\n",
    "        file.append(row)"
   ],
   "metadata": {
    "collapsed": false,
    "pycharm": {
     "name": "#%%\n"
    }
   }
  },
  {
   "cell_type": "markdown",
   "source": [
    "Creating transact 1 hot boolean encoded numpy array and displaying dataframe head"
   ],
   "metadata": {
    "collapsed": false,
    "pycharm": {
     "name": "#%% md\n"
    }
   }
  },
  {
   "cell_type": "code",
   "execution_count": 14,
   "outputs": [
    {
     "data": {
      "text/plain": "   admin.  ageBand  ageBand1  ageBand2  ageBand3  ageBand4  ageBand5    apr  \\\n0   False     True     False     False     False     False     False  False   \n1   False    False     False     False     False     False      True  False   \n2   False    False     False     False     False      True     False  False   \n3   False    False     False     False      True     False     False  False   \n4   False    False     False     False     False      True     False  False   \n\n     aug  balanceSummary  blue-collar  cellular  contact    dec  defaultNo  \\\n0  False            True        False     False     True  False      False   \n1  False           False        False     False    False  False       True   \n2  False           False        False     False    False  False       True   \n3  False           False        False     False    False  False       True   \n4  False           False         True     False    False  False       True   \n\n   defaultValue  defaultYes  divorced  education  entrepreneur  failure  \\\n0          True       False     False       True         False    False   \n1         False       False     False      False         False    False   \n2         False       False     False      False         False    False   \n3         False       False     False      False          True    False   \n4         False       False     False      False         False    False   \n\n     feb  houseNo  houseYes  housemaid  housingVal    jan    job    jul  \\\n0  False    False     False      False        True  False   True  False   \n1  False    False      True      False       False  False  False  False   \n2  False    False      True      False       False  False  False  False   \n3  False    False      True      False       False  False  False  False   \n4  False    False      True      False       False  False  False  False   \n\n     jun  loanNo  loanVal  loanYes  management    mar  marital  married  \\\n0  False   False     True    False       False  False     True    False   \n1  False    True    False    False        True  False    False     True   \n2  False    True    False    False       False  False    False    False   \n3  False   False    False     True       False  False    False     True   \n4  False    True    False    False       False  False    False     True   \n\n     may  month  negative     no    nov    oct  other  positive  poutcome  \\\n0  False   True     False  False  False  False  False     False      True   \n1   True  False     False   True  False  False  False      True     False   \n2   True  False     False   True  False  False  False      True     False   \n3   True  False     False   True  False  False  False      True     False   \n4   True  False     False   True  False  False  False      True     False   \n\n   primary  retired  secondary  self-employed    sep  services  single  \\\n0    False    False      False          False  False     False   False   \n1    False    False      False          False  False     False   False   \n2    False    False       True          False  False     False    True   \n3    False    False       True          False  False     False   False   \n4    False    False      False          False  False     False   False   \n\n   student  success  technician  telephone  tertiary  unemployed  unknown  \\\n0    False    False       False      False     False       False    False   \n1    False    False       False      False      True       False     True   \n2    False    False        True      False     False       False     True   \n3    False    False       False      False     False       False     True   \n4    False    False       False      False     False       False     True   \n\n   veryNegative  veryPositive      y    yes  \n0         False         False   True  False  \n1         False         False  False  False  \n2         False         False  False  False  \n3         False         False  False  False  \n4         False         False  False  False  ",
      "text/html": "<div>\n<style scoped>\n    .dataframe tbody tr th:only-of-type {\n        vertical-align: middle;\n    }\n\n    .dataframe tbody tr th {\n        vertical-align: top;\n    }\n\n    .dataframe thead th {\n        text-align: right;\n    }\n</style>\n<table border=\"1\" class=\"dataframe\">\n  <thead>\n    <tr style=\"text-align: right;\">\n      <th></th>\n      <th>admin.</th>\n      <th>ageBand</th>\n      <th>ageBand1</th>\n      <th>ageBand2</th>\n      <th>ageBand3</th>\n      <th>ageBand4</th>\n      <th>ageBand5</th>\n      <th>apr</th>\n      <th>aug</th>\n      <th>balanceSummary</th>\n      <th>blue-collar</th>\n      <th>cellular</th>\n      <th>contact</th>\n      <th>dec</th>\n      <th>defaultNo</th>\n      <th>defaultValue</th>\n      <th>defaultYes</th>\n      <th>divorced</th>\n      <th>education</th>\n      <th>entrepreneur</th>\n      <th>failure</th>\n      <th>feb</th>\n      <th>houseNo</th>\n      <th>houseYes</th>\n      <th>housemaid</th>\n      <th>housingVal</th>\n      <th>jan</th>\n      <th>job</th>\n      <th>jul</th>\n      <th>jun</th>\n      <th>loanNo</th>\n      <th>loanVal</th>\n      <th>loanYes</th>\n      <th>management</th>\n      <th>mar</th>\n      <th>marital</th>\n      <th>married</th>\n      <th>may</th>\n      <th>month</th>\n      <th>negative</th>\n      <th>no</th>\n      <th>nov</th>\n      <th>oct</th>\n      <th>other</th>\n      <th>positive</th>\n      <th>poutcome</th>\n      <th>primary</th>\n      <th>retired</th>\n      <th>secondary</th>\n      <th>self-employed</th>\n      <th>sep</th>\n      <th>services</th>\n      <th>single</th>\n      <th>student</th>\n      <th>success</th>\n      <th>technician</th>\n      <th>telephone</th>\n      <th>tertiary</th>\n      <th>unemployed</th>\n      <th>unknown</th>\n      <th>veryNegative</th>\n      <th>veryPositive</th>\n      <th>y</th>\n      <th>yes</th>\n    </tr>\n  </thead>\n  <tbody>\n    <tr>\n      <th>0</th>\n      <td>False</td>\n      <td>True</td>\n      <td>False</td>\n      <td>False</td>\n      <td>False</td>\n      <td>False</td>\n      <td>False</td>\n      <td>False</td>\n      <td>False</td>\n      <td>True</td>\n      <td>False</td>\n      <td>False</td>\n      <td>True</td>\n      <td>False</td>\n      <td>False</td>\n      <td>True</td>\n      <td>False</td>\n      <td>False</td>\n      <td>True</td>\n      <td>False</td>\n      <td>False</td>\n      <td>False</td>\n      <td>False</td>\n      <td>False</td>\n      <td>False</td>\n      <td>True</td>\n      <td>False</td>\n      <td>True</td>\n      <td>False</td>\n      <td>False</td>\n      <td>False</td>\n      <td>True</td>\n      <td>False</td>\n      <td>False</td>\n      <td>False</td>\n      <td>True</td>\n      <td>False</td>\n      <td>False</td>\n      <td>True</td>\n      <td>False</td>\n      <td>False</td>\n      <td>False</td>\n      <td>False</td>\n      <td>False</td>\n      <td>False</td>\n      <td>True</td>\n      <td>False</td>\n      <td>False</td>\n      <td>False</td>\n      <td>False</td>\n      <td>False</td>\n      <td>False</td>\n      <td>False</td>\n      <td>False</td>\n      <td>False</td>\n      <td>False</td>\n      <td>False</td>\n      <td>False</td>\n      <td>False</td>\n      <td>False</td>\n      <td>False</td>\n      <td>False</td>\n      <td>True</td>\n      <td>False</td>\n    </tr>\n    <tr>\n      <th>1</th>\n      <td>False</td>\n      <td>False</td>\n      <td>False</td>\n      <td>False</td>\n      <td>False</td>\n      <td>False</td>\n      <td>True</td>\n      <td>False</td>\n      <td>False</td>\n      <td>False</td>\n      <td>False</td>\n      <td>False</td>\n      <td>False</td>\n      <td>False</td>\n      <td>True</td>\n      <td>False</td>\n      <td>False</td>\n      <td>False</td>\n      <td>False</td>\n      <td>False</td>\n      <td>False</td>\n      <td>False</td>\n      <td>False</td>\n      <td>True</td>\n      <td>False</td>\n      <td>False</td>\n      <td>False</td>\n      <td>False</td>\n      <td>False</td>\n      <td>False</td>\n      <td>True</td>\n      <td>False</td>\n      <td>False</td>\n      <td>True</td>\n      <td>False</td>\n      <td>False</td>\n      <td>True</td>\n      <td>True</td>\n      <td>False</td>\n      <td>False</td>\n      <td>True</td>\n      <td>False</td>\n      <td>False</td>\n      <td>False</td>\n      <td>True</td>\n      <td>False</td>\n      <td>False</td>\n      <td>False</td>\n      <td>False</td>\n      <td>False</td>\n      <td>False</td>\n      <td>False</td>\n      <td>False</td>\n      <td>False</td>\n      <td>False</td>\n      <td>False</td>\n      <td>False</td>\n      <td>True</td>\n      <td>False</td>\n      <td>True</td>\n      <td>False</td>\n      <td>False</td>\n      <td>False</td>\n      <td>False</td>\n    </tr>\n    <tr>\n      <th>2</th>\n      <td>False</td>\n      <td>False</td>\n      <td>False</td>\n      <td>False</td>\n      <td>False</td>\n      <td>True</td>\n      <td>False</td>\n      <td>False</td>\n      <td>False</td>\n      <td>False</td>\n      <td>False</td>\n      <td>False</td>\n      <td>False</td>\n      <td>False</td>\n      <td>True</td>\n      <td>False</td>\n      <td>False</td>\n      <td>False</td>\n      <td>False</td>\n      <td>False</td>\n      <td>False</td>\n      <td>False</td>\n      <td>False</td>\n      <td>True</td>\n      <td>False</td>\n      <td>False</td>\n      <td>False</td>\n      <td>False</td>\n      <td>False</td>\n      <td>False</td>\n      <td>True</td>\n      <td>False</td>\n      <td>False</td>\n      <td>False</td>\n      <td>False</td>\n      <td>False</td>\n      <td>False</td>\n      <td>True</td>\n      <td>False</td>\n      <td>False</td>\n      <td>True</td>\n      <td>False</td>\n      <td>False</td>\n      <td>False</td>\n      <td>True</td>\n      <td>False</td>\n      <td>False</td>\n      <td>False</td>\n      <td>True</td>\n      <td>False</td>\n      <td>False</td>\n      <td>False</td>\n      <td>True</td>\n      <td>False</td>\n      <td>False</td>\n      <td>True</td>\n      <td>False</td>\n      <td>False</td>\n      <td>False</td>\n      <td>True</td>\n      <td>False</td>\n      <td>False</td>\n      <td>False</td>\n      <td>False</td>\n    </tr>\n    <tr>\n      <th>3</th>\n      <td>False</td>\n      <td>False</td>\n      <td>False</td>\n      <td>False</td>\n      <td>True</td>\n      <td>False</td>\n      <td>False</td>\n      <td>False</td>\n      <td>False</td>\n      <td>False</td>\n      <td>False</td>\n      <td>False</td>\n      <td>False</td>\n      <td>False</td>\n      <td>True</td>\n      <td>False</td>\n      <td>False</td>\n      <td>False</td>\n      <td>False</td>\n      <td>True</td>\n      <td>False</td>\n      <td>False</td>\n      <td>False</td>\n      <td>True</td>\n      <td>False</td>\n      <td>False</td>\n      <td>False</td>\n      <td>False</td>\n      <td>False</td>\n      <td>False</td>\n      <td>False</td>\n      <td>False</td>\n      <td>True</td>\n      <td>False</td>\n      <td>False</td>\n      <td>False</td>\n      <td>True</td>\n      <td>True</td>\n      <td>False</td>\n      <td>False</td>\n      <td>True</td>\n      <td>False</td>\n      <td>False</td>\n      <td>False</td>\n      <td>True</td>\n      <td>False</td>\n      <td>False</td>\n      <td>False</td>\n      <td>True</td>\n      <td>False</td>\n      <td>False</td>\n      <td>False</td>\n      <td>False</td>\n      <td>False</td>\n      <td>False</td>\n      <td>False</td>\n      <td>False</td>\n      <td>False</td>\n      <td>False</td>\n      <td>True</td>\n      <td>False</td>\n      <td>False</td>\n      <td>False</td>\n      <td>False</td>\n    </tr>\n    <tr>\n      <th>4</th>\n      <td>False</td>\n      <td>False</td>\n      <td>False</td>\n      <td>False</td>\n      <td>False</td>\n      <td>True</td>\n      <td>False</td>\n      <td>False</td>\n      <td>False</td>\n      <td>False</td>\n      <td>True</td>\n      <td>False</td>\n      <td>False</td>\n      <td>False</td>\n      <td>True</td>\n      <td>False</td>\n      <td>False</td>\n      <td>False</td>\n      <td>False</td>\n      <td>False</td>\n      <td>False</td>\n      <td>False</td>\n      <td>False</td>\n      <td>True</td>\n      <td>False</td>\n      <td>False</td>\n      <td>False</td>\n      <td>False</td>\n      <td>False</td>\n      <td>False</td>\n      <td>True</td>\n      <td>False</td>\n      <td>False</td>\n      <td>False</td>\n      <td>False</td>\n      <td>False</td>\n      <td>True</td>\n      <td>True</td>\n      <td>False</td>\n      <td>False</td>\n      <td>True</td>\n      <td>False</td>\n      <td>False</td>\n      <td>False</td>\n      <td>True</td>\n      <td>False</td>\n      <td>False</td>\n      <td>False</td>\n      <td>False</td>\n      <td>False</td>\n      <td>False</td>\n      <td>False</td>\n      <td>False</td>\n      <td>False</td>\n      <td>False</td>\n      <td>False</td>\n      <td>False</td>\n      <td>False</td>\n      <td>False</td>\n      <td>True</td>\n      <td>False</td>\n      <td>False</td>\n      <td>False</td>\n      <td>False</td>\n    </tr>\n  </tbody>\n</table>\n</div>"
     },
     "execution_count": 14,
     "metadata": {},
     "output_type": "execute_result"
    }
   ],
   "source": [
    "te = TransactionEncoder()\n",
    "te_ary = te.fit(file).transform(file)\n",
    "df_a_encoded = pd.DataFrame(te_ary, columns=te.columns_)\n",
    "df_a_encoded.head()"
   ],
   "metadata": {
    "collapsed": false,
    "pycharm": {
     "name": "#%%\n"
    }
   }
  }
 ],
 "metadata": {
  "kernelspec": {
   "name": "pycharm-865e1948",
   "language": "python",
   "display_name": "PyCharm (GITHUB_REPOSITORY)"
  },
  "language_info": {
   "codemirror_mode": {
    "name": "ipython",
    "version": 2
   },
   "file_extension": ".py",
   "mimetype": "text/x-python",
   "name": "python",
   "nbconvert_exporter": "python",
   "pygments_lexer": "ipython2",
   "version": "2.7.6"
  }
 },
 "nbformat": 4,
 "nbformat_minor": 0
}