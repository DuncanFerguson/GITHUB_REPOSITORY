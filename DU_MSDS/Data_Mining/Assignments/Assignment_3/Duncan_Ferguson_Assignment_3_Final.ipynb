{
 "cells": [
  {
   "cell_type": "markdown",
   "source": [
    "Student: Duncan Ferguson <br>\n",
    "Student Id: 871641260 <br>\n",
    "Class: Comp 4431-1 <br>\n",
    "Assignment: Assignment 3 <br>\n",
    "Date: 11/20/2021 <br>\n",
    "\n",
    "You are to apply the following techniques to mine this data set:\n",
    "\n",
    "- Association Rules\n",
    "- Decision tree Classification\n",
    "- Naive Bayes Classification\n",
    "- kmeans and dbscan clustering\n",
    "\n",
    "Also, you are to use Principle Component Analysis to reduce the number of attributes (aka features)\n",
    "\n",
    "## 1. What can you deduce from the data set? (in otherwords, what attribute values are indicative of \"success\")\n",
    "\n",
    "poutcome and campaign are very indicative of success. This makes sense as poutcome is people that subscribed before\n",
    "and campaign is the type of campaign that they are targeted with. Association rules did not find anything any rules\n",
    "that were actually interesting or strong with relation to predicting success. The Decision tree gave the best results\n",
    "followed by the Gaussian Model. K-means and DBscan seemed to be a bit lacking which was probably due to the fact\n",
    "that there were a lot of features.\n",
    "\n",
    "\n",
    "## 2. Which mining techniques yielded the best results for what? How do you define \"best results\"?\n",
    "Best result is defined by the highest accuracy\n",
    "\n",
    "The technique that yielded the best results was running a backward selection with\n",
    "a decision tree. <br>\n",
    "Accuracy: 0.8911865531350216\n",
    "Features: ['poutcome', 'campaign'] <br>\n",
    "\n",
    "This makes the most sense on the campaign being successful. They had previously subscribed. And the type\n",
    "of campaign that is run predicted if they would subscribe.\n",
    "\n",
    "This was followed up by decision tree using the forward model selection which added a few features.\n",
    "Accuracy: 0.8916288842198385\n",
    "Add Feature: contact <br>\n",
    "Model Features ['contact', 'poutcome', 'campaign', 'loan'] <br>\n",
    "Contact and Loan seem to have added to the forward selection. This is due to me just dropping values in the\n",
    "backward selection model that made the model drop the first value that\n",
    "\n",
    "The backward model selection with the gaussian found the most accurate model to just be:\n",
    "Accuracy: 0.8824505142098861 <br>\n",
    "Features: ['campaign']  <br>\n",
    "\n",
    "\n",
    "### 3. How useful was Principle Component Analysis? For what number of components did you get the \"best results.\"\n",
    "### TODO ANSWER GERE\n",
    "PCA was alright. There was a variety of different answers. There was an even spread and it did not contain a noticable\n",
    "dip that made it easy to just cut off the data. It was useful for DBSCAN and K-means Clustering to aid in the\n",
    "visualization. The PCA only explained about 33 percent of the variation with only three features. If there was a more\n",
    "noticable dip instead of a even spread on the features determining variation I would have ben able to utilize it\n",
    "a bit more.\n",
    "\n",
    "Please include tables and/or graphs to justify your statements about which are best. <br>\n",
    "All of the graphs and tables are below following with the analysis."
   ],
   "metadata": {
    "collapsed": false
   }
  },
  {
   "cell_type": "markdown",
   "source": [
    "### Start of The Code\n",
    "Main Library Imports Below"
   ],
   "metadata": {
    "collapsed": false,
    "pycharm": {
     "name": "#%% md\n"
    }
   }
  },
  {
   "cell_type": "code",
   "execution_count": 301,
   "outputs": [],
   "source": [
    "import graphviz\n",
    "import pandas as pd\n",
    "import numpy as np\n",
    "from csv import reader\n",
    "\n",
    "# Sklearn Libraries\n",
    "from sklearn import tree\n",
    "from sklearn.model_selection import train_test_split, ParameterGrid\n",
    "from sklearn.metrics import *\n",
    "from sklearn.naive_bayes import *\n",
    "from sklearn.cluster import KMeans, DBSCAN\n",
    "from sklearn.inspection import permutation_importance\n",
    "from sklearn.preprocessing import StandardScaler, Normalizer\n",
    "from sklearn.decomposition import PCA\n",
    "from sklearn.pipeline import Pipeline\n",
    "from sklearn.tree import export_graphviz, export_text\n",
    "import pydotplus\n",
    "\n",
    "# Importing mlxtend Libraries\n",
    "from mlxtend.frequent_patterns import apriori, association_rules\n",
    "from mlxtend.preprocessing import TransactionEncoder\n",
    "\n",
    "# Graphing Libraries\n",
    "import matplotlib.pyplot as plt\n",
    "import seaborn as sns"
   ],
   "metadata": {
    "collapsed": false,
    "pycharm": {
     "name": "#%%\n"
    }
   }
  },
  {
   "cell_type": "markdown",
   "source": [
    "Importing the main document <br>\n",
    "Setting the random seed and setting view options <br>"
   ],
   "metadata": {
    "collapsed": false,
    "pycharm": {
     "name": "#%% md\n"
    }
   }
  },
  {
   "cell_type": "code",
   "execution_count": 302,
   "outputs": [],
   "source": [
    "np.random.seed(0)\n",
    "df =  pd.read_csv(\"bank-full.csv\")\n",
    "\n",
    "pd.set_option('display.max_columns', None)\n",
    "pd.set_option('max_columns', None)\n",
    "pd.set_option('max_rows', None)\n",
    "pd.options.display.width = 0   # automatically ajust to window length\n",
    "\n",
    "df_a = df.copy()\n",
    "df_b = df.copy()"
   ],
   "metadata": {
    "collapsed": false,
    "pycharm": {
     "name": "#%%\n"
    }
   }
  },
  {
   "cell_type": "code",
   "execution_count": 303,
   "outputs": [
    {
     "data": {
      "text/plain": "   age           job  marital  education default  balance housing loan  \\\n0   58    management  married   tertiary      no     2143     yes   no   \n1   44    technician   single  secondary      no       29     yes   no   \n2   33  entrepreneur  married  secondary      no        2     yes  yes   \n3   47   blue-collar  married    unknown      no     1506     yes   no   \n4   33       unknown   single    unknown      no        1      no   no   \n\n   contact  day month  duration  campaign  pdays  previous poutcome   y  \n0  unknown    5   may       261         1     -1         0  unknown  no  \n1  unknown    5   may       151         1     -1         0  unknown  no  \n2  unknown    5   may        76         1     -1         0  unknown  no  \n3  unknown    5   may        92         1     -1         0  unknown  no  \n4  unknown    5   may       198         1     -1         0  unknown  no  ",
      "text/html": "<div>\n<style scoped>\n    .dataframe tbody tr th:only-of-type {\n        vertical-align: middle;\n    }\n\n    .dataframe tbody tr th {\n        vertical-align: top;\n    }\n\n    .dataframe thead th {\n        text-align: right;\n    }\n</style>\n<table border=\"1\" class=\"dataframe\">\n  <thead>\n    <tr style=\"text-align: right;\">\n      <th></th>\n      <th>age</th>\n      <th>job</th>\n      <th>marital</th>\n      <th>education</th>\n      <th>default</th>\n      <th>balance</th>\n      <th>housing</th>\n      <th>loan</th>\n      <th>contact</th>\n      <th>day</th>\n      <th>month</th>\n      <th>duration</th>\n      <th>campaign</th>\n      <th>pdays</th>\n      <th>previous</th>\n      <th>poutcome</th>\n      <th>y</th>\n    </tr>\n  </thead>\n  <tbody>\n    <tr>\n      <th>0</th>\n      <td>58</td>\n      <td>management</td>\n      <td>married</td>\n      <td>tertiary</td>\n      <td>no</td>\n      <td>2143</td>\n      <td>yes</td>\n      <td>no</td>\n      <td>unknown</td>\n      <td>5</td>\n      <td>may</td>\n      <td>261</td>\n      <td>1</td>\n      <td>-1</td>\n      <td>0</td>\n      <td>unknown</td>\n      <td>no</td>\n    </tr>\n    <tr>\n      <th>1</th>\n      <td>44</td>\n      <td>technician</td>\n      <td>single</td>\n      <td>secondary</td>\n      <td>no</td>\n      <td>29</td>\n      <td>yes</td>\n      <td>no</td>\n      <td>unknown</td>\n      <td>5</td>\n      <td>may</td>\n      <td>151</td>\n      <td>1</td>\n      <td>-1</td>\n      <td>0</td>\n      <td>unknown</td>\n      <td>no</td>\n    </tr>\n    <tr>\n      <th>2</th>\n      <td>33</td>\n      <td>entrepreneur</td>\n      <td>married</td>\n      <td>secondary</td>\n      <td>no</td>\n      <td>2</td>\n      <td>yes</td>\n      <td>yes</td>\n      <td>unknown</td>\n      <td>5</td>\n      <td>may</td>\n      <td>76</td>\n      <td>1</td>\n      <td>-1</td>\n      <td>0</td>\n      <td>unknown</td>\n      <td>no</td>\n    </tr>\n    <tr>\n      <th>3</th>\n      <td>47</td>\n      <td>blue-collar</td>\n      <td>married</td>\n      <td>unknown</td>\n      <td>no</td>\n      <td>1506</td>\n      <td>yes</td>\n      <td>no</td>\n      <td>unknown</td>\n      <td>5</td>\n      <td>may</td>\n      <td>92</td>\n      <td>1</td>\n      <td>-1</td>\n      <td>0</td>\n      <td>unknown</td>\n      <td>no</td>\n    </tr>\n    <tr>\n      <th>4</th>\n      <td>33</td>\n      <td>unknown</td>\n      <td>single</td>\n      <td>unknown</td>\n      <td>no</td>\n      <td>1</td>\n      <td>no</td>\n      <td>no</td>\n      <td>unknown</td>\n      <td>5</td>\n      <td>may</td>\n      <td>198</td>\n      <td>1</td>\n      <td>-1</td>\n      <td>0</td>\n      <td>unknown</td>\n      <td>no</td>\n    </tr>\n  </tbody>\n</table>\n</div>"
     },
     "execution_count": 303,
     "metadata": {},
     "output_type": "execute_result"
    }
   ],
   "source": [
    "df_a.head()"
   ],
   "metadata": {
    "collapsed": false,
    "pycharm": {
     "name": "#%%\n"
    }
   }
  },
  {
   "cell_type": "markdown",
   "source": [
    "### Association Rule Analysis Below\n",
    "### Feature Engineering\n",
    "First Cleaning up the data and creating categories"
   ],
   "metadata": {
    "collapsed": false,
    "pycharm": {
     "name": "#%% md\n"
    }
   }
  },
  {
   "cell_type": "code",
   "execution_count": 304,
   "outputs": [
    {
     "data": {
      "text/plain": "            job  marital  education  contact month poutcome   y  \\\n0    management  married   tertiary  unknown   may  unknown  no   \n1    technician   single  secondary  unknown   may  unknown  no   \n2  entrepreneur  married  secondary  unknown   may  unknown  no   \n3   blue-collar  married    unknown  unknown   may  unknown  no   \n4       unknown   single    unknown  unknown   may  unknown  no   \n\n  balanceSummary   ageBand defaultValue housingVal  loanVal  \n0       positive  ageBand5    defaultNo   houseYes   loanNo  \n1       positive  ageBand4    defaultNo   houseYes   loanNo  \n2       positive  ageBand3    defaultNo   houseYes  loanYes  \n3       positive  ageBand4    defaultNo   houseYes   loanNo  \n4       positive  ageBand3    defaultNo    houseNo   loanNo  ",
      "text/html": "<div>\n<style scoped>\n    .dataframe tbody tr th:only-of-type {\n        vertical-align: middle;\n    }\n\n    .dataframe tbody tr th {\n        vertical-align: top;\n    }\n\n    .dataframe thead th {\n        text-align: right;\n    }\n</style>\n<table border=\"1\" class=\"dataframe\">\n  <thead>\n    <tr style=\"text-align: right;\">\n      <th></th>\n      <th>job</th>\n      <th>marital</th>\n      <th>education</th>\n      <th>contact</th>\n      <th>month</th>\n      <th>poutcome</th>\n      <th>y</th>\n      <th>balanceSummary</th>\n      <th>ageBand</th>\n      <th>defaultValue</th>\n      <th>housingVal</th>\n      <th>loanVal</th>\n    </tr>\n  </thead>\n  <tbody>\n    <tr>\n      <th>0</th>\n      <td>management</td>\n      <td>married</td>\n      <td>tertiary</td>\n      <td>unknown</td>\n      <td>may</td>\n      <td>unknown</td>\n      <td>no</td>\n      <td>positive</td>\n      <td>ageBand5</td>\n      <td>defaultNo</td>\n      <td>houseYes</td>\n      <td>loanNo</td>\n    </tr>\n    <tr>\n      <th>1</th>\n      <td>technician</td>\n      <td>single</td>\n      <td>secondary</td>\n      <td>unknown</td>\n      <td>may</td>\n      <td>unknown</td>\n      <td>no</td>\n      <td>positive</td>\n      <td>ageBand4</td>\n      <td>defaultNo</td>\n      <td>houseYes</td>\n      <td>loanNo</td>\n    </tr>\n    <tr>\n      <th>2</th>\n      <td>entrepreneur</td>\n      <td>married</td>\n      <td>secondary</td>\n      <td>unknown</td>\n      <td>may</td>\n      <td>unknown</td>\n      <td>no</td>\n      <td>positive</td>\n      <td>ageBand3</td>\n      <td>defaultNo</td>\n      <td>houseYes</td>\n      <td>loanYes</td>\n    </tr>\n    <tr>\n      <th>3</th>\n      <td>blue-collar</td>\n      <td>married</td>\n      <td>unknown</td>\n      <td>unknown</td>\n      <td>may</td>\n      <td>unknown</td>\n      <td>no</td>\n      <td>positive</td>\n      <td>ageBand4</td>\n      <td>defaultNo</td>\n      <td>houseYes</td>\n      <td>loanNo</td>\n    </tr>\n    <tr>\n      <th>4</th>\n      <td>unknown</td>\n      <td>single</td>\n      <td>unknown</td>\n      <td>unknown</td>\n      <td>may</td>\n      <td>unknown</td>\n      <td>no</td>\n      <td>positive</td>\n      <td>ageBand3</td>\n      <td>defaultNo</td>\n      <td>houseNo</td>\n      <td>loanNo</td>\n    </tr>\n  </tbody>\n</table>\n</div>"
     },
     "execution_count": 304,
     "metadata": {},
     "output_type": "execute_result"
    }
   ],
   "source": [
    "for index, row in df_a.iterrows():\n",
    "\tif row['balance'] < 0:\n",
    "\t\trow['balance'] = 'inDebt'\n",
    "\telse:\n",
    "\t\trow['balance'] = 'notInDebt'\n",
    "\n",
    "# Creating Categories for balance\n",
    "df_a.loc[(df_a['balance'] >= 10000), 'balanceSummary'] = 'veryPositive'\n",
    "df_a.loc[((df_a['balance'] < 0) & (df_a['balance'] >= -10000)), 'balanceSummary'] = 'negative'\n",
    "df_a.loc[((df_a['balance'] < 10000) & (df_a['balance'] >= 0)), 'balanceSummary'] = 'positive'\n",
    "df_a.loc[df_a['balance'] < -500, 'balanceSummary'] = 'veryNegative'\n",
    "\n",
    "# Creating Categories for ages\n",
    "df_a.loc[((df_a['age'] < 25) & (df_a['age'] >= 0)),  'ageBand'] = 'ageBand1'\n",
    "df_a.loc[((df_a['age'] < 30) & (df_a['age'] >= 25)), 'ageBand'] = 'ageBand2'\n",
    "df_a.loc[((df_a['age'] < 40) & (df_a['age'] >= 30)), 'ageBand'] = 'ageBand3'\n",
    "df_a.loc[((df_a['age'] < 50) & (df_a['age'] >= 40)), 'ageBand'] = 'ageBand4'\n",
    "df_a.loc[((df_a['age'] < 120) & (df_a['age'] >= 50)),'ageBand'] = 'ageBand5'\n",
    "\n",
    "# Creating Categories for default\n",
    "df_a.loc[(df_a['default'] == 'no'), 'defaultValue'] = 'defaultNo'\n",
    "df_a.loc[(df_a['default'] == 'yes'), 'defaultValue'] = 'defaultYes'\n",
    "\n",
    "# Creating Categories for Housing\n",
    "df_a.loc[(df_a['housing'] == 'no'), 'housingVal'] = 'houseNo'\n",
    "df_a.loc[(df_a['housing'] == 'yes'), 'housingVal'] = 'houseYes'\n",
    "\n",
    "# Creating Categories for Loans\n",
    "df_a.loc[(df_a['loan'] == 'no'), 'loanVal'] = 'loanNo'\n",
    "df_a.loc[(df_a['loan'] == 'yes'), 'loanVal'] = 'loanYes'\n",
    "\n",
    "# Dropping all values that are not strings\n",
    "df_a = df_a.drop(['age', 'day', 'duration', 'balance', 'campaign', 'previous', 'default', 'housing', 'loan', 'pdays'],\n",
    "                 axis=1)\n",
    "\n",
    "# Displaying Head\n",
    "df_a.head()"
   ],
   "metadata": {
    "collapsed": false,
    "pycharm": {
     "name": "#%%\n"
    }
   }
  },
  {
   "cell_type": "markdown",
   "source": [
    "Displaying all the Unique Values"
   ],
   "metadata": {
    "collapsed": false,
    "pycharm": {
     "name": "#%% md\n"
    }
   }
  },
  {
   "cell_type": "code",
   "execution_count": 305,
   "outputs": [
    {
     "name": "stdout",
     "output_type": "stream",
     "text": [
      "job : ['management' 'technician' 'entrepreneur' 'blue-collar' 'unknown'\n",
      " 'retired' 'admin.' 'services' 'self-employed' 'unemployed' 'housemaid'\n",
      " 'student']\n",
      "marital : ['married' 'single' 'divorced']\n",
      "education : ['tertiary' 'secondary' 'unknown' 'primary']\n",
      "contact : ['unknown' 'cellular' 'telephone']\n",
      "month : ['may' 'jun' 'jul' 'aug' 'oct' 'nov' 'dec' 'jan' 'feb' 'mar' 'apr' 'sep']\n",
      "poutcome : ['unknown' 'failure' 'other' 'success']\n",
      "y : ['no' 'yes']\n",
      "balanceSummary : ['positive' 'negative' 'veryPositive' 'veryNegative']\n",
      "ageBand : ['ageBand5' 'ageBand4' 'ageBand3' 'ageBand2' 'ageBand1']\n",
      "defaultValue : ['defaultNo' 'defaultYes']\n",
      "housingVal : ['houseYes' 'houseNo']\n",
      "loanVal : ['loanNo' 'loanYes']\n"
     ]
    }
   ],
   "source": [
    "for col in df_a:\n",
    "    print(col, \":\", df_a[col].unique())"
   ],
   "metadata": {
    "collapsed": false,
    "pycharm": {
     "name": "#%%\n"
    }
   }
  },
  {
   "cell_type": "markdown",
   "source": [
    "Exporting the dataframe as a CSV and reimporting it to speed up run times."
   ],
   "metadata": {
    "collapsed": false,
    "pycharm": {
     "name": "#%% md\n"
    }
   }
  },
  {
   "cell_type": "code",
   "execution_count": 306,
   "outputs": [],
   "source": [
    "df_a.to_csv(\"outfile.csv\", index=False)\n",
    "file = []\n",
    "with open(\"outfile.csv\", 'r') as read_obj:\n",
    "    csv_reader = reader(read_obj)\n",
    "    for row in csv_reader:\n",
    "        file.append(row)"
   ],
   "metadata": {
    "collapsed": false,
    "pycharm": {
     "name": "#%%\n"
    }
   }
  },
  {
   "cell_type": "markdown",
   "source": [
    "Creating transact 1 hot boolean encoded numpy array and displaying dataframe head"
   ],
   "metadata": {
    "collapsed": false,
    "pycharm": {
     "name": "#%% md\n"
    }
   }
  },
  {
   "cell_type": "code",
   "execution_count": 307,
   "outputs": [
    {
     "data": {
      "text/plain": "   admin.  ageBand  ageBand1  ageBand2  ageBand3  ageBand4  ageBand5    apr  \\\n0   False     True     False     False     False     False     False  False   \n1   False    False     False     False     False     False      True  False   \n2   False    False     False     False     False      True     False  False   \n3   False    False     False     False      True     False     False  False   \n4   False    False     False     False     False      True     False  False   \n\n     aug  balanceSummary  blue-collar  cellular  contact    dec  defaultNo  \\\n0  False            True        False     False     True  False      False   \n1  False           False        False     False    False  False       True   \n2  False           False        False     False    False  False       True   \n3  False           False        False     False    False  False       True   \n4  False           False         True     False    False  False       True   \n\n   defaultValue  defaultYes  divorced  education  entrepreneur  failure  \\\n0          True       False     False       True         False    False   \n1         False       False     False      False         False    False   \n2         False       False     False      False         False    False   \n3         False       False     False      False          True    False   \n4         False       False     False      False         False    False   \n\n     feb  houseNo  houseYes  housemaid  housingVal    jan    job    jul  \\\n0  False    False     False      False        True  False   True  False   \n1  False    False      True      False       False  False  False  False   \n2  False    False      True      False       False  False  False  False   \n3  False    False      True      False       False  False  False  False   \n4  False    False      True      False       False  False  False  False   \n\n     jun  loanNo  loanVal  loanYes  management    mar  marital  married  \\\n0  False   False     True    False       False  False     True    False   \n1  False    True    False    False        True  False    False     True   \n2  False    True    False    False       False  False    False    False   \n3  False   False    False     True       False  False    False     True   \n4  False    True    False    False       False  False    False     True   \n\n     may  month  negative     no    nov    oct  other  positive  poutcome  \\\n0  False   True     False  False  False  False  False     False      True   \n1   True  False     False   True  False  False  False      True     False   \n2   True  False     False   True  False  False  False      True     False   \n3   True  False     False   True  False  False  False      True     False   \n4   True  False     False   True  False  False  False      True     False   \n\n   primary  retired  secondary  self-employed    sep  services  single  \\\n0    False    False      False          False  False     False   False   \n1    False    False      False          False  False     False   False   \n2    False    False       True          False  False     False    True   \n3    False    False       True          False  False     False   False   \n4    False    False      False          False  False     False   False   \n\n   student  success  technician  telephone  tertiary  unemployed  unknown  \\\n0    False    False       False      False     False       False    False   \n1    False    False       False      False      True       False     True   \n2    False    False        True      False     False       False     True   \n3    False    False       False      False     False       False     True   \n4    False    False       False      False     False       False     True   \n\n   veryNegative  veryPositive      y    yes  \n0         False         False   True  False  \n1         False         False  False  False  \n2         False         False  False  False  \n3         False         False  False  False  \n4         False         False  False  False  ",
      "text/html": "<div>\n<style scoped>\n    .dataframe tbody tr th:only-of-type {\n        vertical-align: middle;\n    }\n\n    .dataframe tbody tr th {\n        vertical-align: top;\n    }\n\n    .dataframe thead th {\n        text-align: right;\n    }\n</style>\n<table border=\"1\" class=\"dataframe\">\n  <thead>\n    <tr style=\"text-align: right;\">\n      <th></th>\n      <th>admin.</th>\n      <th>ageBand</th>\n      <th>ageBand1</th>\n      <th>ageBand2</th>\n      <th>ageBand3</th>\n      <th>ageBand4</th>\n      <th>ageBand5</th>\n      <th>apr</th>\n      <th>aug</th>\n      <th>balanceSummary</th>\n      <th>blue-collar</th>\n      <th>cellular</th>\n      <th>contact</th>\n      <th>dec</th>\n      <th>defaultNo</th>\n      <th>defaultValue</th>\n      <th>defaultYes</th>\n      <th>divorced</th>\n      <th>education</th>\n      <th>entrepreneur</th>\n      <th>failure</th>\n      <th>feb</th>\n      <th>houseNo</th>\n      <th>houseYes</th>\n      <th>housemaid</th>\n      <th>housingVal</th>\n      <th>jan</th>\n      <th>job</th>\n      <th>jul</th>\n      <th>jun</th>\n      <th>loanNo</th>\n      <th>loanVal</th>\n      <th>loanYes</th>\n      <th>management</th>\n      <th>mar</th>\n      <th>marital</th>\n      <th>married</th>\n      <th>may</th>\n      <th>month</th>\n      <th>negative</th>\n      <th>no</th>\n      <th>nov</th>\n      <th>oct</th>\n      <th>other</th>\n      <th>positive</th>\n      <th>poutcome</th>\n      <th>primary</th>\n      <th>retired</th>\n      <th>secondary</th>\n      <th>self-employed</th>\n      <th>sep</th>\n      <th>services</th>\n      <th>single</th>\n      <th>student</th>\n      <th>success</th>\n      <th>technician</th>\n      <th>telephone</th>\n      <th>tertiary</th>\n      <th>unemployed</th>\n      <th>unknown</th>\n      <th>veryNegative</th>\n      <th>veryPositive</th>\n      <th>y</th>\n      <th>yes</th>\n    </tr>\n  </thead>\n  <tbody>\n    <tr>\n      <th>0</th>\n      <td>False</td>\n      <td>True</td>\n      <td>False</td>\n      <td>False</td>\n      <td>False</td>\n      <td>False</td>\n      <td>False</td>\n      <td>False</td>\n      <td>False</td>\n      <td>True</td>\n      <td>False</td>\n      <td>False</td>\n      <td>True</td>\n      <td>False</td>\n      <td>False</td>\n      <td>True</td>\n      <td>False</td>\n      <td>False</td>\n      <td>True</td>\n      <td>False</td>\n      <td>False</td>\n      <td>False</td>\n      <td>False</td>\n      <td>False</td>\n      <td>False</td>\n      <td>True</td>\n      <td>False</td>\n      <td>True</td>\n      <td>False</td>\n      <td>False</td>\n      <td>False</td>\n      <td>True</td>\n      <td>False</td>\n      <td>False</td>\n      <td>False</td>\n      <td>True</td>\n      <td>False</td>\n      <td>False</td>\n      <td>True</td>\n      <td>False</td>\n      <td>False</td>\n      <td>False</td>\n      <td>False</td>\n      <td>False</td>\n      <td>False</td>\n      <td>True</td>\n      <td>False</td>\n      <td>False</td>\n      <td>False</td>\n      <td>False</td>\n      <td>False</td>\n      <td>False</td>\n      <td>False</td>\n      <td>False</td>\n      <td>False</td>\n      <td>False</td>\n      <td>False</td>\n      <td>False</td>\n      <td>False</td>\n      <td>False</td>\n      <td>False</td>\n      <td>False</td>\n      <td>True</td>\n      <td>False</td>\n    </tr>\n    <tr>\n      <th>1</th>\n      <td>False</td>\n      <td>False</td>\n      <td>False</td>\n      <td>False</td>\n      <td>False</td>\n      <td>False</td>\n      <td>True</td>\n      <td>False</td>\n      <td>False</td>\n      <td>False</td>\n      <td>False</td>\n      <td>False</td>\n      <td>False</td>\n      <td>False</td>\n      <td>True</td>\n      <td>False</td>\n      <td>False</td>\n      <td>False</td>\n      <td>False</td>\n      <td>False</td>\n      <td>False</td>\n      <td>False</td>\n      <td>False</td>\n      <td>True</td>\n      <td>False</td>\n      <td>False</td>\n      <td>False</td>\n      <td>False</td>\n      <td>False</td>\n      <td>False</td>\n      <td>True</td>\n      <td>False</td>\n      <td>False</td>\n      <td>True</td>\n      <td>False</td>\n      <td>False</td>\n      <td>True</td>\n      <td>True</td>\n      <td>False</td>\n      <td>False</td>\n      <td>True</td>\n      <td>False</td>\n      <td>False</td>\n      <td>False</td>\n      <td>True</td>\n      <td>False</td>\n      <td>False</td>\n      <td>False</td>\n      <td>False</td>\n      <td>False</td>\n      <td>False</td>\n      <td>False</td>\n      <td>False</td>\n      <td>False</td>\n      <td>False</td>\n      <td>False</td>\n      <td>False</td>\n      <td>True</td>\n      <td>False</td>\n      <td>True</td>\n      <td>False</td>\n      <td>False</td>\n      <td>False</td>\n      <td>False</td>\n    </tr>\n    <tr>\n      <th>2</th>\n      <td>False</td>\n      <td>False</td>\n      <td>False</td>\n      <td>False</td>\n      <td>False</td>\n      <td>True</td>\n      <td>False</td>\n      <td>False</td>\n      <td>False</td>\n      <td>False</td>\n      <td>False</td>\n      <td>False</td>\n      <td>False</td>\n      <td>False</td>\n      <td>True</td>\n      <td>False</td>\n      <td>False</td>\n      <td>False</td>\n      <td>False</td>\n      <td>False</td>\n      <td>False</td>\n      <td>False</td>\n      <td>False</td>\n      <td>True</td>\n      <td>False</td>\n      <td>False</td>\n      <td>False</td>\n      <td>False</td>\n      <td>False</td>\n      <td>False</td>\n      <td>True</td>\n      <td>False</td>\n      <td>False</td>\n      <td>False</td>\n      <td>False</td>\n      <td>False</td>\n      <td>False</td>\n      <td>True</td>\n      <td>False</td>\n      <td>False</td>\n      <td>True</td>\n      <td>False</td>\n      <td>False</td>\n      <td>False</td>\n      <td>True</td>\n      <td>False</td>\n      <td>False</td>\n      <td>False</td>\n      <td>True</td>\n      <td>False</td>\n      <td>False</td>\n      <td>False</td>\n      <td>True</td>\n      <td>False</td>\n      <td>False</td>\n      <td>True</td>\n      <td>False</td>\n      <td>False</td>\n      <td>False</td>\n      <td>True</td>\n      <td>False</td>\n      <td>False</td>\n      <td>False</td>\n      <td>False</td>\n    </tr>\n    <tr>\n      <th>3</th>\n      <td>False</td>\n      <td>False</td>\n      <td>False</td>\n      <td>False</td>\n      <td>True</td>\n      <td>False</td>\n      <td>False</td>\n      <td>False</td>\n      <td>False</td>\n      <td>False</td>\n      <td>False</td>\n      <td>False</td>\n      <td>False</td>\n      <td>False</td>\n      <td>True</td>\n      <td>False</td>\n      <td>False</td>\n      <td>False</td>\n      <td>False</td>\n      <td>True</td>\n      <td>False</td>\n      <td>False</td>\n      <td>False</td>\n      <td>True</td>\n      <td>False</td>\n      <td>False</td>\n      <td>False</td>\n      <td>False</td>\n      <td>False</td>\n      <td>False</td>\n      <td>False</td>\n      <td>False</td>\n      <td>True</td>\n      <td>False</td>\n      <td>False</td>\n      <td>False</td>\n      <td>True</td>\n      <td>True</td>\n      <td>False</td>\n      <td>False</td>\n      <td>True</td>\n      <td>False</td>\n      <td>False</td>\n      <td>False</td>\n      <td>True</td>\n      <td>False</td>\n      <td>False</td>\n      <td>False</td>\n      <td>True</td>\n      <td>False</td>\n      <td>False</td>\n      <td>False</td>\n      <td>False</td>\n      <td>False</td>\n      <td>False</td>\n      <td>False</td>\n      <td>False</td>\n      <td>False</td>\n      <td>False</td>\n      <td>True</td>\n      <td>False</td>\n      <td>False</td>\n      <td>False</td>\n      <td>False</td>\n    </tr>\n    <tr>\n      <th>4</th>\n      <td>False</td>\n      <td>False</td>\n      <td>False</td>\n      <td>False</td>\n      <td>False</td>\n      <td>True</td>\n      <td>False</td>\n      <td>False</td>\n      <td>False</td>\n      <td>False</td>\n      <td>True</td>\n      <td>False</td>\n      <td>False</td>\n      <td>False</td>\n      <td>True</td>\n      <td>False</td>\n      <td>False</td>\n      <td>False</td>\n      <td>False</td>\n      <td>False</td>\n      <td>False</td>\n      <td>False</td>\n      <td>False</td>\n      <td>True</td>\n      <td>False</td>\n      <td>False</td>\n      <td>False</td>\n      <td>False</td>\n      <td>False</td>\n      <td>False</td>\n      <td>True</td>\n      <td>False</td>\n      <td>False</td>\n      <td>False</td>\n      <td>False</td>\n      <td>False</td>\n      <td>True</td>\n      <td>True</td>\n      <td>False</td>\n      <td>False</td>\n      <td>True</td>\n      <td>False</td>\n      <td>False</td>\n      <td>False</td>\n      <td>True</td>\n      <td>False</td>\n      <td>False</td>\n      <td>False</td>\n      <td>False</td>\n      <td>False</td>\n      <td>False</td>\n      <td>False</td>\n      <td>False</td>\n      <td>False</td>\n      <td>False</td>\n      <td>False</td>\n      <td>False</td>\n      <td>False</td>\n      <td>False</td>\n      <td>True</td>\n      <td>False</td>\n      <td>False</td>\n      <td>False</td>\n      <td>False</td>\n    </tr>\n  </tbody>\n</table>\n</div>"
     },
     "execution_count": 307,
     "metadata": {},
     "output_type": "execute_result"
    }
   ],
   "source": [
    "te = TransactionEncoder()\n",
    "te_ary = te.fit(file).transform(file)\n",
    "df_a_encoded = pd.DataFrame(te_ary, columns=te.columns_)\n",
    "df_a_encoded.head()"
   ],
   "metadata": {
    "collapsed": false,
    "pycharm": {
     "name": "#%%\n"
    }
   }
  },
  {
   "cell_type": "markdown",
   "source": [
    "Creating Filter Function for frequent Item Sets"
   ],
   "metadata": {
    "collapsed": false,
    "pycharm": {
     "name": "#%% md\n"
    }
   }
  },
  {
   "cell_type": "code",
   "execution_count": 308,
   "outputs": [],
   "source": [
    "def filter_freq_items(freq_items,items=1):\n",
    "    \"\"\"This function filters the frequent items so that we can look a certain n-itemsets\"\"\"\n",
    "    filtered_freq_items = freq_items[freq_items[\"length\"] == items].copy()\n",
    "    return filtered_freq_items"
   ],
   "metadata": {
    "collapsed": false,
    "pycharm": {
     "name": "#%%\n"
    }
   }
  },
  {
   "cell_type": "markdown",
   "source": [
    "Creating Frequent Items List and Association Rules"
   ],
   "metadata": {
    "collapsed": false,
    "pycharm": {
     "name": "#%% md\n"
    }
   }
  },
  {
   "cell_type": "code",
   "execution_count": 309,
   "outputs": [
    {
     "data": {
      "text/plain": "     support               itemsets  length\n1   0.981952            (defaultNo)       1\n6   0.898346             (positive)       1\n17  0.890073  (defaultNo, positive)       2\n5   0.882996                   (no)       1\n16  0.866120        (defaultNo, no)       2\n3   0.839755               (loanNo)       1\n14  0.828386    (defaultNo, loanNo)       2\n8   0.826528              (unknown)       1\n19  0.809741   (defaultNo, unknown)       2\n27  0.788994         (no, positive)       2",
      "text/html": "<div>\n<style scoped>\n    .dataframe tbody tr th:only-of-type {\n        vertical-align: middle;\n    }\n\n    .dataframe tbody tr th {\n        vertical-align: top;\n    }\n\n    .dataframe thead th {\n        text-align: right;\n    }\n</style>\n<table border=\"1\" class=\"dataframe\">\n  <thead>\n    <tr style=\"text-align: right;\">\n      <th></th>\n      <th>support</th>\n      <th>itemsets</th>\n      <th>length</th>\n    </tr>\n  </thead>\n  <tbody>\n    <tr>\n      <th>1</th>\n      <td>0.981952</td>\n      <td>(defaultNo)</td>\n      <td>1</td>\n    </tr>\n    <tr>\n      <th>6</th>\n      <td>0.898346</td>\n      <td>(positive)</td>\n      <td>1</td>\n    </tr>\n    <tr>\n      <th>17</th>\n      <td>0.890073</td>\n      <td>(defaultNo, positive)</td>\n      <td>2</td>\n    </tr>\n    <tr>\n      <th>5</th>\n      <td>0.882996</td>\n      <td>(no)</td>\n      <td>1</td>\n    </tr>\n    <tr>\n      <th>16</th>\n      <td>0.866120</td>\n      <td>(defaultNo, no)</td>\n      <td>2</td>\n    </tr>\n    <tr>\n      <th>3</th>\n      <td>0.839755</td>\n      <td>(loanNo)</td>\n      <td>1</td>\n    </tr>\n    <tr>\n      <th>14</th>\n      <td>0.828386</td>\n      <td>(defaultNo, loanNo)</td>\n      <td>2</td>\n    </tr>\n    <tr>\n      <th>8</th>\n      <td>0.826528</td>\n      <td>(unknown)</td>\n      <td>1</td>\n    </tr>\n    <tr>\n      <th>19</th>\n      <td>0.809741</td>\n      <td>(defaultNo, unknown)</td>\n      <td>2</td>\n    </tr>\n    <tr>\n      <th>27</th>\n      <td>0.788994</td>\n      <td>(no, positive)</td>\n      <td>2</td>\n    </tr>\n  </tbody>\n</table>\n</div>"
     },
     "execution_count": 309,
     "metadata": {},
     "output_type": "execute_result"
    }
   ],
   "source": [
    "# Creating Frequent Items List\n",
    "freq_items = apriori(df_a_encoded, min_support=.5, use_colnames=True)\n",
    "freq_items['length'] = freq_items['itemsets'].apply(lambda x: len(x))\n",
    "freq_items.sort_values([\"support\", \"length\"], inplace=True, ascending=False)\n",
    "freq_items.head(10)"
   ],
   "metadata": {
    "collapsed": false,
    "pycharm": {
     "name": "#%%\n"
    }
   }
  },
  {
   "cell_type": "code",
   "execution_count": 310,
   "outputs": [
    {
     "data": {
      "text/plain": "                        antecedents                     consequents  \\\n233                      (houseYes)                 (defaultNo, no)   \n228                 (defaultNo, no)                      (houseYes)   \n227                            (no)                      (houseYes)   \n226                      (houseYes)                            (no)   \n232                            (no)           (defaultNo, houseYes)   \n229           (defaultNo, houseYes)                            (no)   \n176         (defaultNo, no, loanNo)             (unknown, positive)   \n177             (unknown, positive)         (defaultNo, no, loanNo)   \n185                    (no, loanNo)  (defaultNo, unknown, positive)   \n168  (defaultNo, unknown, positive)                    (no, loanNo)   \n\n     antecedent support  consequent support   support  confidence      lift  \\\n233            0.555826            0.866120  0.504048    0.906844  1.047020   \n228            0.866120            0.555826  0.504048    0.581961  1.047020   \n227            0.882996            0.555826  0.513028    0.581008  1.045306   \n226            0.555826            0.882996  0.513028    0.923000  1.045306   \n232            0.882996            0.546205  0.504048    0.570838  1.045100   \n229            0.546205            0.882996  0.504048    0.922818  1.045100   \n176            0.722928            0.738830  0.557463    0.771118  1.043701   \n177            0.738830            0.722928  0.557463    0.754520  1.043701   \n185            0.733478            0.731045  0.557463    0.760027  1.039644   \n168            0.731045            0.733478  0.557463    0.762556  1.039644   \n\n     leverage  conviction  \n233  0.022636    1.437170  \n228  0.022636    1.062518  \n227  0.022236    1.060102  \n226  0.022236    1.519545  \n232  0.021751    1.057399  \n229  0.021751    1.515961  \n176  0.023342    1.141068  \n177  0.023342    1.128699  \n185  0.021257    1.120770  \n168  0.021257    1.122463  ",
      "text/html": "<div>\n<style scoped>\n    .dataframe tbody tr th:only-of-type {\n        vertical-align: middle;\n    }\n\n    .dataframe tbody tr th {\n        vertical-align: top;\n    }\n\n    .dataframe thead th {\n        text-align: right;\n    }\n</style>\n<table border=\"1\" class=\"dataframe\">\n  <thead>\n    <tr style=\"text-align: right;\">\n      <th></th>\n      <th>antecedents</th>\n      <th>consequents</th>\n      <th>antecedent support</th>\n      <th>consequent support</th>\n      <th>support</th>\n      <th>confidence</th>\n      <th>lift</th>\n      <th>leverage</th>\n      <th>conviction</th>\n    </tr>\n  </thead>\n  <tbody>\n    <tr>\n      <th>233</th>\n      <td>(houseYes)</td>\n      <td>(defaultNo, no)</td>\n      <td>0.555826</td>\n      <td>0.866120</td>\n      <td>0.504048</td>\n      <td>0.906844</td>\n      <td>1.047020</td>\n      <td>0.022636</td>\n      <td>1.437170</td>\n    </tr>\n    <tr>\n      <th>228</th>\n      <td>(defaultNo, no)</td>\n      <td>(houseYes)</td>\n      <td>0.866120</td>\n      <td>0.555826</td>\n      <td>0.504048</td>\n      <td>0.581961</td>\n      <td>1.047020</td>\n      <td>0.022636</td>\n      <td>1.062518</td>\n    </tr>\n    <tr>\n      <th>227</th>\n      <td>(no)</td>\n      <td>(houseYes)</td>\n      <td>0.882996</td>\n      <td>0.555826</td>\n      <td>0.513028</td>\n      <td>0.581008</td>\n      <td>1.045306</td>\n      <td>0.022236</td>\n      <td>1.060102</td>\n    </tr>\n    <tr>\n      <th>226</th>\n      <td>(houseYes)</td>\n      <td>(no)</td>\n      <td>0.555826</td>\n      <td>0.882996</td>\n      <td>0.513028</td>\n      <td>0.923000</td>\n      <td>1.045306</td>\n      <td>0.022236</td>\n      <td>1.519545</td>\n    </tr>\n    <tr>\n      <th>232</th>\n      <td>(no)</td>\n      <td>(defaultNo, houseYes)</td>\n      <td>0.882996</td>\n      <td>0.546205</td>\n      <td>0.504048</td>\n      <td>0.570838</td>\n      <td>1.045100</td>\n      <td>0.021751</td>\n      <td>1.057399</td>\n    </tr>\n    <tr>\n      <th>229</th>\n      <td>(defaultNo, houseYes)</td>\n      <td>(no)</td>\n      <td>0.546205</td>\n      <td>0.882996</td>\n      <td>0.504048</td>\n      <td>0.922818</td>\n      <td>1.045100</td>\n      <td>0.021751</td>\n      <td>1.515961</td>\n    </tr>\n    <tr>\n      <th>176</th>\n      <td>(defaultNo, no, loanNo)</td>\n      <td>(unknown, positive)</td>\n      <td>0.722928</td>\n      <td>0.738830</td>\n      <td>0.557463</td>\n      <td>0.771118</td>\n      <td>1.043701</td>\n      <td>0.023342</td>\n      <td>1.141068</td>\n    </tr>\n    <tr>\n      <th>177</th>\n      <td>(unknown, positive)</td>\n      <td>(defaultNo, no, loanNo)</td>\n      <td>0.738830</td>\n      <td>0.722928</td>\n      <td>0.557463</td>\n      <td>0.754520</td>\n      <td>1.043701</td>\n      <td>0.023342</td>\n      <td>1.128699</td>\n    </tr>\n    <tr>\n      <th>185</th>\n      <td>(no, loanNo)</td>\n      <td>(defaultNo, unknown, positive)</td>\n      <td>0.733478</td>\n      <td>0.731045</td>\n      <td>0.557463</td>\n      <td>0.760027</td>\n      <td>1.039644</td>\n      <td>0.021257</td>\n      <td>1.120770</td>\n    </tr>\n    <tr>\n      <th>168</th>\n      <td>(defaultNo, unknown, positive)</td>\n      <td>(no, loanNo)</td>\n      <td>0.731045</td>\n      <td>0.733478</td>\n      <td>0.557463</td>\n      <td>0.762556</td>\n      <td>1.039644</td>\n      <td>0.021257</td>\n      <td>1.122463</td>\n    </tr>\n  </tbody>\n</table>\n</div>"
     },
     "execution_count": 310,
     "metadata": {},
     "output_type": "execute_result"
    }
   ],
   "source": [
    "# Creating Association Rules\n",
    "rules = association_rules(freq_items, metric=\"confidence\", min_threshold=0.3)\n",
    "rules.sort_values([\"lift\"], inplace=True, ascending=False)\n",
    "rules.head(10)"
   ],
   "metadata": {
    "collapsed": false,
    "pycharm": {
     "name": "#%%\n"
    }
   }
  },
  {
   "cell_type": "markdown",
   "source": [
    "### Association rules analysis\n",
    "Below are different tables that show the break down of the frequent item sets\n",
    "#### Frequent Items"
   ],
   "metadata": {
    "collapsed": false,
    "pycharm": {
     "name": "#%% md\n"
    }
   }
  },
  {
   "cell_type": "code",
   "execution_count": 311,
   "outputs": [
    {
     "data": {
      "text/plain": "     support                                    itemsets  length\n51  0.557463  (positive, unknown, no, defaultNo, loanNo)       5",
      "text/html": "<div>\n<style scoped>\n    .dataframe tbody tr th:only-of-type {\n        vertical-align: middle;\n    }\n\n    .dataframe tbody tr th {\n        vertical-align: top;\n    }\n\n    .dataframe thead th {\n        text-align: right;\n    }\n</style>\n<table border=\"1\" class=\"dataframe\">\n  <thead>\n    <tr style=\"text-align: right;\">\n      <th></th>\n      <th>support</th>\n      <th>itemsets</th>\n      <th>length</th>\n    </tr>\n  </thead>\n  <tbody>\n    <tr>\n      <th>51</th>\n      <td>0.557463</td>\n      <td>(positive, unknown, no, defaultNo, loanNo)</td>\n      <td>5</td>\n    </tr>\n  </tbody>\n</table>\n</div>"
     },
     "execution_count": 311,
     "metadata": {},
     "output_type": "execute_result"
    }
   ],
   "source": [
    "filter_freq_items(freq_items,5)"
   ],
   "metadata": {
    "collapsed": false,
    "pycharm": {
     "name": "#%%\n"
    }
   }
  },
  {
   "cell_type": "code",
   "execution_count": 312,
   "outputs": [
    {
     "data": {
      "text/plain": "     support                                itemsets  length\n46  0.660444       (defaultNo, no, positive, loanNo)       4\n49  0.659692      (defaultNo, unknown, no, positive)       4\n48  0.622180  (defaultNo, unknown, positive, loanNo)       4\n47  0.611298        (defaultNo, unknown, no, loanNo)       4\n50  0.562107         (unknown, no, positive, loanNo)       4",
      "text/html": "<div>\n<style scoped>\n    .dataframe tbody tr th:only-of-type {\n        vertical-align: middle;\n    }\n\n    .dataframe tbody tr th {\n        vertical-align: top;\n    }\n\n    .dataframe thead th {\n        text-align: right;\n    }\n</style>\n<table border=\"1\" class=\"dataframe\">\n  <thead>\n    <tr style=\"text-align: right;\">\n      <th></th>\n      <th>support</th>\n      <th>itemsets</th>\n      <th>length</th>\n    </tr>\n  </thead>\n  <tbody>\n    <tr>\n      <th>46</th>\n      <td>0.660444</td>\n      <td>(defaultNo, no, positive, loanNo)</td>\n      <td>4</td>\n    </tr>\n    <tr>\n      <th>49</th>\n      <td>0.659692</td>\n      <td>(defaultNo, unknown, no, positive)</td>\n      <td>4</td>\n    </tr>\n    <tr>\n      <th>48</th>\n      <td>0.622180</td>\n      <td>(defaultNo, unknown, positive, loanNo)</td>\n      <td>4</td>\n    </tr>\n    <tr>\n      <th>47</th>\n      <td>0.611298</td>\n      <td>(defaultNo, unknown, no, loanNo)</td>\n      <td>4</td>\n    </tr>\n    <tr>\n      <th>50</th>\n      <td>0.562107</td>\n      <td>(unknown, no, positive, loanNo)</td>\n      <td>4</td>\n    </tr>\n  </tbody>\n</table>\n</div>"
     },
     "execution_count": 312,
     "metadata": {},
     "output_type": "execute_result"
    }
   ],
   "source": [
    "filter_freq_items(freq_items,4)"
   ],
   "metadata": {
    "collapsed": false,
    "pycharm": {
     "name": "#%%\n"
    }
   }
  },
  {
   "cell_type": "code",
   "execution_count": 313,
   "outputs": [
    {
     "data": {
      "text/plain": "     support                        itemsets  length\n39  0.781253       (defaultNo, no, positive)       3\n35  0.760440   (defaultNo, positive, loanNo)       3\n40  0.733323        (defaultNo, unknown, no)       3\n41  0.731045  (defaultNo, unknown, positive)       3\n34  0.722928         (defaultNo, no, loanNo)       3\n36  0.679842    (defaultNo, unknown, loanNo)       3\n45  0.666991         (unknown, no, positive)       3\n42  0.665399          (no, positive, loanNo)       3\n44  0.627157     (unknown, positive, loanNo)       3\n43  0.621096           (unknown, no, loanNo)       3",
      "text/html": "<div>\n<style scoped>\n    .dataframe tbody tr th:only-of-type {\n        vertical-align: middle;\n    }\n\n    .dataframe tbody tr th {\n        vertical-align: top;\n    }\n\n    .dataframe thead th {\n        text-align: right;\n    }\n</style>\n<table border=\"1\" class=\"dataframe\">\n  <thead>\n    <tr style=\"text-align: right;\">\n      <th></th>\n      <th>support</th>\n      <th>itemsets</th>\n      <th>length</th>\n    </tr>\n  </thead>\n  <tbody>\n    <tr>\n      <th>39</th>\n      <td>0.781253</td>\n      <td>(defaultNo, no, positive)</td>\n      <td>3</td>\n    </tr>\n    <tr>\n      <th>35</th>\n      <td>0.760440</td>\n      <td>(defaultNo, positive, loanNo)</td>\n      <td>3</td>\n    </tr>\n    <tr>\n      <th>40</th>\n      <td>0.733323</td>\n      <td>(defaultNo, unknown, no)</td>\n      <td>3</td>\n    </tr>\n    <tr>\n      <th>41</th>\n      <td>0.731045</td>\n      <td>(defaultNo, unknown, positive)</td>\n      <td>3</td>\n    </tr>\n    <tr>\n      <th>34</th>\n      <td>0.722928</td>\n      <td>(defaultNo, no, loanNo)</td>\n      <td>3</td>\n    </tr>\n    <tr>\n      <th>36</th>\n      <td>0.679842</td>\n      <td>(defaultNo, unknown, loanNo)</td>\n      <td>3</td>\n    </tr>\n    <tr>\n      <th>45</th>\n      <td>0.666991</td>\n      <td>(unknown, no, positive)</td>\n      <td>3</td>\n    </tr>\n    <tr>\n      <th>42</th>\n      <td>0.665399</td>\n      <td>(no, positive, loanNo)</td>\n      <td>3</td>\n    </tr>\n    <tr>\n      <th>44</th>\n      <td>0.627157</td>\n      <td>(unknown, positive, loanNo)</td>\n      <td>3</td>\n    </tr>\n    <tr>\n      <th>43</th>\n      <td>0.621096</td>\n      <td>(unknown, no, loanNo)</td>\n      <td>3</td>\n    </tr>\n  </tbody>\n</table>\n</div>"
     },
     "execution_count": 313,
     "metadata": {},
     "output_type": "execute_result"
    }
   ],
   "source": [
    "filter_freq_items(freq_items,3).head(10)"
   ],
   "metadata": {
    "collapsed": false,
    "pycharm": {
     "name": "#%%\n"
    }
   }
  },
  {
   "cell_type": "code",
   "execution_count": 314,
   "outputs": [
    {
     "data": {
      "text/plain": "     support               itemsets  length\n17  0.890073  (defaultNo, positive)       2\n16  0.866120        (defaultNo, no)       2\n14  0.828386    (defaultNo, loanNo)       2\n19  0.809741   (defaultNo, unknown)       2\n27  0.788994         (no, positive)       2\n22  0.765770     (positive, loanNo)       2\n28  0.749049          (unknown, no)       2\n29  0.738830    (unknown, positive)       2\n21  0.733478           (no, loanNo)       2\n23  0.690392      (unknown, loanNo)       2",
      "text/html": "<div>\n<style scoped>\n    .dataframe tbody tr th:only-of-type {\n        vertical-align: middle;\n    }\n\n    .dataframe tbody tr th {\n        vertical-align: top;\n    }\n\n    .dataframe thead th {\n        text-align: right;\n    }\n</style>\n<table border=\"1\" class=\"dataframe\">\n  <thead>\n    <tr style=\"text-align: right;\">\n      <th></th>\n      <th>support</th>\n      <th>itemsets</th>\n      <th>length</th>\n    </tr>\n  </thead>\n  <tbody>\n    <tr>\n      <th>17</th>\n      <td>0.890073</td>\n      <td>(defaultNo, positive)</td>\n      <td>2</td>\n    </tr>\n    <tr>\n      <th>16</th>\n      <td>0.866120</td>\n      <td>(defaultNo, no)</td>\n      <td>2</td>\n    </tr>\n    <tr>\n      <th>14</th>\n      <td>0.828386</td>\n      <td>(defaultNo, loanNo)</td>\n      <td>2</td>\n    </tr>\n    <tr>\n      <th>19</th>\n      <td>0.809741</td>\n      <td>(defaultNo, unknown)</td>\n      <td>2</td>\n    </tr>\n    <tr>\n      <th>27</th>\n      <td>0.788994</td>\n      <td>(no, positive)</td>\n      <td>2</td>\n    </tr>\n    <tr>\n      <th>22</th>\n      <td>0.765770</td>\n      <td>(positive, loanNo)</td>\n      <td>2</td>\n    </tr>\n    <tr>\n      <th>28</th>\n      <td>0.749049</td>\n      <td>(unknown, no)</td>\n      <td>2</td>\n    </tr>\n    <tr>\n      <th>29</th>\n      <td>0.738830</td>\n      <td>(unknown, positive)</td>\n      <td>2</td>\n    </tr>\n    <tr>\n      <th>21</th>\n      <td>0.733478</td>\n      <td>(no, loanNo)</td>\n      <td>2</td>\n    </tr>\n    <tr>\n      <th>23</th>\n      <td>0.690392</td>\n      <td>(unknown, loanNo)</td>\n      <td>2</td>\n    </tr>\n  </tbody>\n</table>\n</div>"
     },
     "execution_count": 314,
     "metadata": {},
     "output_type": "execute_result"
    }
   ],
   "source": [
    "filter_freq_items(freq_items,2).head(10)"
   ],
   "metadata": {
    "collapsed": false,
    "pycharm": {
     "name": "#%%\n"
    }
   }
  },
  {
   "cell_type": "markdown",
   "source": [
    "After breaking down the frequent item sets it is interesting to learn that there is only\n",
    "1 frequent item set that contains 5 words with a support over 5. This will make our cluster analysis\n",
    "a bit more interesting later. With that said.\n",
    "Positive balance, unknown job, no default and no loan is not is not likely to subscribe\n",
    "at least with a .557463 support.\n",
    "\n",
    "It is also interesting to see that the majority of the frequent item sets contain \"no\" meaning\n",
    "that they are not likely to subscribe. The majority of the banks customers had defaultno with a\n",
    "positive balance summary, or were not likely to subscribe.\n",
    "\n",
    "It is also interesting to see that yes is not included in the frequent item sets. meaning that\n",
    "the majority of people that say yes do not have a whole lot in common with others that said yes\n",
    "\n",
    "#### Association rules"
   ],
   "metadata": {
    "collapsed": false,
    "pycharm": {
     "name": "#%% md\n"
    }
   }
  },
  {
   "cell_type": "code",
   "execution_count": 315,
   "outputs": [
    {
     "data": {
      "text/plain": "         antecedents            consequents  antecedent support  \\\n233       (houseYes)        (defaultNo, no)            0.555826   \n228  (defaultNo, no)             (houseYes)            0.866120   \n227             (no)             (houseYes)            0.882996   \n226       (houseYes)                   (no)            0.555826   \n232             (no)  (defaultNo, houseYes)            0.882996   \n\n     consequent support   support  confidence      lift  leverage  conviction  \n233            0.866120  0.504048    0.906844  1.047020  0.022636    1.437170  \n228            0.555826  0.504048    0.581961  1.047020  0.022636    1.062518  \n227            0.555826  0.513028    0.581008  1.045306  0.022236    1.060102  \n226            0.882996  0.513028    0.923000  1.045306  0.022236    1.519545  \n232            0.546205  0.504048    0.570838  1.045100  0.021751    1.057399  ",
      "text/html": "<div>\n<style scoped>\n    .dataframe tbody tr th:only-of-type {\n        vertical-align: middle;\n    }\n\n    .dataframe tbody tr th {\n        vertical-align: top;\n    }\n\n    .dataframe thead th {\n        text-align: right;\n    }\n</style>\n<table border=\"1\" class=\"dataframe\">\n  <thead>\n    <tr style=\"text-align: right;\">\n      <th></th>\n      <th>antecedents</th>\n      <th>consequents</th>\n      <th>antecedent support</th>\n      <th>consequent support</th>\n      <th>support</th>\n      <th>confidence</th>\n      <th>lift</th>\n      <th>leverage</th>\n      <th>conviction</th>\n    </tr>\n  </thead>\n  <tbody>\n    <tr>\n      <th>233</th>\n      <td>(houseYes)</td>\n      <td>(defaultNo, no)</td>\n      <td>0.555826</td>\n      <td>0.866120</td>\n      <td>0.504048</td>\n      <td>0.906844</td>\n      <td>1.047020</td>\n      <td>0.022636</td>\n      <td>1.437170</td>\n    </tr>\n    <tr>\n      <th>228</th>\n      <td>(defaultNo, no)</td>\n      <td>(houseYes)</td>\n      <td>0.866120</td>\n      <td>0.555826</td>\n      <td>0.504048</td>\n      <td>0.581961</td>\n      <td>1.047020</td>\n      <td>0.022636</td>\n      <td>1.062518</td>\n    </tr>\n    <tr>\n      <th>227</th>\n      <td>(no)</td>\n      <td>(houseYes)</td>\n      <td>0.882996</td>\n      <td>0.555826</td>\n      <td>0.513028</td>\n      <td>0.581008</td>\n      <td>1.045306</td>\n      <td>0.022236</td>\n      <td>1.060102</td>\n    </tr>\n    <tr>\n      <th>226</th>\n      <td>(houseYes)</td>\n      <td>(no)</td>\n      <td>0.555826</td>\n      <td>0.882996</td>\n      <td>0.513028</td>\n      <td>0.923000</td>\n      <td>1.045306</td>\n      <td>0.022236</td>\n      <td>1.519545</td>\n    </tr>\n    <tr>\n      <th>232</th>\n      <td>(no)</td>\n      <td>(defaultNo, houseYes)</td>\n      <td>0.882996</td>\n      <td>0.546205</td>\n      <td>0.504048</td>\n      <td>0.570838</td>\n      <td>1.045100</td>\n      <td>0.021751</td>\n      <td>1.057399</td>\n    </tr>\n  </tbody>\n</table>\n</div>"
     },
     "execution_count": 315,
     "metadata": {},
     "output_type": "execute_result"
    }
   ],
   "source": [
    "rules.sort_values('lift', ascending=False).head(5)"
   ],
   "metadata": {
    "collapsed": false,
    "pycharm": {
     "name": "#%%\n"
    }
   }
  },
  {
   "cell_type": "markdown",
   "source": [
    "The top 5 most interesting rules, defined by the highest lift values is that homeowners\n",
    "are not likely to default and subscribe. This not exactly shocking to find out. It is intresting to see\n",
    "that the lift values are not extremely high."
   ],
   "metadata": {
    "collapsed": false,
    "pycharm": {
     "name": "#%% md\n"
    }
   }
  },
  {
   "cell_type": "code",
   "execution_count": 316,
   "outputs": [
    {
     "data": {
      "text/plain": "                         antecedents  consequents  antecedent support  \\\n20                (positive, loanNo)  (defaultNo)            0.765770   \n71            (no, positive, loanNo)  (defaultNo)            0.665399   \n107      (unknown, positive, loanNo)  (defaultNo)            0.627157   \n163  (unknown, no, positive, loanNo)  (defaultNo)            0.562107   \n210              (married, positive)  (defaultNo)            0.541206   \n\n     consequent support   support  confidence      lift  leverage  conviction  \n20             0.981952  0.760440    0.993039  1.011291  0.008490    2.592815  \n71             0.981952  0.660444    0.992554  1.010797  0.007055    2.423952  \n107            0.981952  0.622180    0.992065  1.010299  0.006343    2.274488  \n163            0.981952  0.557463    0.991737  1.009965  0.005500    2.184189  \n210            0.981952  0.536694    0.991663  1.009890  0.005256    2.164823  ",
      "text/html": "<div>\n<style scoped>\n    .dataframe tbody tr th:only-of-type {\n        vertical-align: middle;\n    }\n\n    .dataframe tbody tr th {\n        vertical-align: top;\n    }\n\n    .dataframe thead th {\n        text-align: right;\n    }\n</style>\n<table border=\"1\" class=\"dataframe\">\n  <thead>\n    <tr style=\"text-align: right;\">\n      <th></th>\n      <th>antecedents</th>\n      <th>consequents</th>\n      <th>antecedent support</th>\n      <th>consequent support</th>\n      <th>support</th>\n      <th>confidence</th>\n      <th>lift</th>\n      <th>leverage</th>\n      <th>conviction</th>\n    </tr>\n  </thead>\n  <tbody>\n    <tr>\n      <th>20</th>\n      <td>(positive, loanNo)</td>\n      <td>(defaultNo)</td>\n      <td>0.765770</td>\n      <td>0.981952</td>\n      <td>0.760440</td>\n      <td>0.993039</td>\n      <td>1.011291</td>\n      <td>0.008490</td>\n      <td>2.592815</td>\n    </tr>\n    <tr>\n      <th>71</th>\n      <td>(no, positive, loanNo)</td>\n      <td>(defaultNo)</td>\n      <td>0.665399</td>\n      <td>0.981952</td>\n      <td>0.660444</td>\n      <td>0.992554</td>\n      <td>1.010797</td>\n      <td>0.007055</td>\n      <td>2.423952</td>\n    </tr>\n    <tr>\n      <th>107</th>\n      <td>(unknown, positive, loanNo)</td>\n      <td>(defaultNo)</td>\n      <td>0.627157</td>\n      <td>0.981952</td>\n      <td>0.622180</td>\n      <td>0.992065</td>\n      <td>1.010299</td>\n      <td>0.006343</td>\n      <td>2.274488</td>\n    </tr>\n    <tr>\n      <th>163</th>\n      <td>(unknown, no, positive, loanNo)</td>\n      <td>(defaultNo)</td>\n      <td>0.562107</td>\n      <td>0.981952</td>\n      <td>0.557463</td>\n      <td>0.991737</td>\n      <td>1.009965</td>\n      <td>0.005500</td>\n      <td>2.184189</td>\n    </tr>\n    <tr>\n      <th>210</th>\n      <td>(married, positive)</td>\n      <td>(defaultNo)</td>\n      <td>0.541206</td>\n      <td>0.981952</td>\n      <td>0.536694</td>\n      <td>0.991663</td>\n      <td>1.009890</td>\n      <td>0.005256</td>\n      <td>2.164823</td>\n    </tr>\n  </tbody>\n</table>\n</div>"
     },
     "execution_count": 316,
     "metadata": {},
     "output_type": "execute_result"
    }
   ],
   "source": [
    "rules.sort_values('confidence', ascending=False).head(5)"
   ],
   "metadata": {
    "collapsed": false,
    "pycharm": {
     "name": "#%%\n"
    }
   }
  },
  {
   "cell_type": "markdown",
   "source": [
    "Looking at the top five strong rules reveals th default no has the strongest confidence if\n",
    "the antecedents are, loanNo, positive bank account  and are married or have an unknown job.\n",
    "\n",
    "Unfortunately these word associations are not leading us to find anything that is helping find rules\n",
    "that are indicative of a successful campaign. It is for that reason that I will continue data mining with the\n",
    "remain algorithms."
   ],
   "metadata": {
    "collapsed": false,
    "pycharm": {
     "name": "#%% md\n"
    }
   }
  },
  {
   "cell_type": "markdown",
   "source": [
    "### Feature Engineering for the following algorithms\n",
    "- Decision tree Classification\n",
    "- Naive Bayes Classification\n",
    "\n",
    "First we must take all the data and numericalize it"
   ],
   "metadata": {
    "collapsed": false,
    "pycharm": {
     "name": "#%% md\n"
    }
   }
  },
  {
   "cell_type": "code",
   "execution_count": 317,
   "outputs": [
    {
     "name": "stdout",
     "output_type": "stream",
     "text": [
      "Post Conversion of Data into numeric, dropping pdays, and normalizing balance:\n"
     ]
    },
    {
     "data": {
      "text/plain": "   age  job  marital  education  default   balance  housing  loan  contact  \\\n0   58    4        1          2        0  0.092259        1     0        2   \n1   44    9        2          1        0  0.073067        1     0        2   \n2   33    2        1          1        0  0.072822        1     1        2   \n3   47    1        1          3        0  0.086476        1     0        2   \n4   33   11        2          3        0  0.072812        0     0        2   \n5   35    4        1          2        0  0.074901        1     0        2   \n6   28    4        2          2        0  0.076862        1     1        2   \n7   42    2        0          2        1  0.072822        1     0        2   \n8   58    5        1          0        0  0.073902        1     0        2   \n9   43    9        2          1        0  0.078187        1     0        2   \n\n   day  month  duration  campaign  previous  poutcome  y  \n0    5      8       261         1         0         3  0  \n1    5      8       151         1         0         3  0  \n2    5      8        76         1         0         3  0  \n3    5      8        92         1         0         3  0  \n4    5      8       198         1         0         3  0  \n5    5      8       139         1         0         3  0  \n6    5      8       217         1         0         3  0  \n7    5      8       380         1         0         3  0  \n8    5      8        50         1         0         3  0  \n9    5      8        55         1         0         3  0  ",
      "text/html": "<div>\n<style scoped>\n    .dataframe tbody tr th:only-of-type {\n        vertical-align: middle;\n    }\n\n    .dataframe tbody tr th {\n        vertical-align: top;\n    }\n\n    .dataframe thead th {\n        text-align: right;\n    }\n</style>\n<table border=\"1\" class=\"dataframe\">\n  <thead>\n    <tr style=\"text-align: right;\">\n      <th></th>\n      <th>age</th>\n      <th>job</th>\n      <th>marital</th>\n      <th>education</th>\n      <th>default</th>\n      <th>balance</th>\n      <th>housing</th>\n      <th>loan</th>\n      <th>contact</th>\n      <th>day</th>\n      <th>month</th>\n      <th>duration</th>\n      <th>campaign</th>\n      <th>previous</th>\n      <th>poutcome</th>\n      <th>y</th>\n    </tr>\n  </thead>\n  <tbody>\n    <tr>\n      <th>0</th>\n      <td>58</td>\n      <td>4</td>\n      <td>1</td>\n      <td>2</td>\n      <td>0</td>\n      <td>0.092259</td>\n      <td>1</td>\n      <td>0</td>\n      <td>2</td>\n      <td>5</td>\n      <td>8</td>\n      <td>261</td>\n      <td>1</td>\n      <td>0</td>\n      <td>3</td>\n      <td>0</td>\n    </tr>\n    <tr>\n      <th>1</th>\n      <td>44</td>\n      <td>9</td>\n      <td>2</td>\n      <td>1</td>\n      <td>0</td>\n      <td>0.073067</td>\n      <td>1</td>\n      <td>0</td>\n      <td>2</td>\n      <td>5</td>\n      <td>8</td>\n      <td>151</td>\n      <td>1</td>\n      <td>0</td>\n      <td>3</td>\n      <td>0</td>\n    </tr>\n    <tr>\n      <th>2</th>\n      <td>33</td>\n      <td>2</td>\n      <td>1</td>\n      <td>1</td>\n      <td>0</td>\n      <td>0.072822</td>\n      <td>1</td>\n      <td>1</td>\n      <td>2</td>\n      <td>5</td>\n      <td>8</td>\n      <td>76</td>\n      <td>1</td>\n      <td>0</td>\n      <td>3</td>\n      <td>0</td>\n    </tr>\n    <tr>\n      <th>3</th>\n      <td>47</td>\n      <td>1</td>\n      <td>1</td>\n      <td>3</td>\n      <td>0</td>\n      <td>0.086476</td>\n      <td>1</td>\n      <td>0</td>\n      <td>2</td>\n      <td>5</td>\n      <td>8</td>\n      <td>92</td>\n      <td>1</td>\n      <td>0</td>\n      <td>3</td>\n      <td>0</td>\n    </tr>\n    <tr>\n      <th>4</th>\n      <td>33</td>\n      <td>11</td>\n      <td>2</td>\n      <td>3</td>\n      <td>0</td>\n      <td>0.072812</td>\n      <td>0</td>\n      <td>0</td>\n      <td>2</td>\n      <td>5</td>\n      <td>8</td>\n      <td>198</td>\n      <td>1</td>\n      <td>0</td>\n      <td>3</td>\n      <td>0</td>\n    </tr>\n    <tr>\n      <th>5</th>\n      <td>35</td>\n      <td>4</td>\n      <td>1</td>\n      <td>2</td>\n      <td>0</td>\n      <td>0.074901</td>\n      <td>1</td>\n      <td>0</td>\n      <td>2</td>\n      <td>5</td>\n      <td>8</td>\n      <td>139</td>\n      <td>1</td>\n      <td>0</td>\n      <td>3</td>\n      <td>0</td>\n    </tr>\n    <tr>\n      <th>6</th>\n      <td>28</td>\n      <td>4</td>\n      <td>2</td>\n      <td>2</td>\n      <td>0</td>\n      <td>0.076862</td>\n      <td>1</td>\n      <td>1</td>\n      <td>2</td>\n      <td>5</td>\n      <td>8</td>\n      <td>217</td>\n      <td>1</td>\n      <td>0</td>\n      <td>3</td>\n      <td>0</td>\n    </tr>\n    <tr>\n      <th>7</th>\n      <td>42</td>\n      <td>2</td>\n      <td>0</td>\n      <td>2</td>\n      <td>1</td>\n      <td>0.072822</td>\n      <td>1</td>\n      <td>0</td>\n      <td>2</td>\n      <td>5</td>\n      <td>8</td>\n      <td>380</td>\n      <td>1</td>\n      <td>0</td>\n      <td>3</td>\n      <td>0</td>\n    </tr>\n    <tr>\n      <th>8</th>\n      <td>58</td>\n      <td>5</td>\n      <td>1</td>\n      <td>0</td>\n      <td>0</td>\n      <td>0.073902</td>\n      <td>1</td>\n      <td>0</td>\n      <td>2</td>\n      <td>5</td>\n      <td>8</td>\n      <td>50</td>\n      <td>1</td>\n      <td>0</td>\n      <td>3</td>\n      <td>0</td>\n    </tr>\n    <tr>\n      <th>9</th>\n      <td>43</td>\n      <td>9</td>\n      <td>2</td>\n      <td>1</td>\n      <td>0</td>\n      <td>0.078187</td>\n      <td>1</td>\n      <td>0</td>\n      <td>2</td>\n      <td>5</td>\n      <td>8</td>\n      <td>55</td>\n      <td>1</td>\n      <td>0</td>\n      <td>3</td>\n      <td>0</td>\n    </tr>\n  </tbody>\n</table>\n</div>"
     },
     "execution_count": 317,
     "metadata": {},
     "output_type": "execute_result"
    }
   ],
   "source": [
    "# Creating Categories for ages then making categories\n",
    "df_b['job'] = df_b['job'].astype('category')\n",
    "df_b['job'] = df_b['job'].cat.codes\n",
    "df_b['marital'] = df_b['marital'].astype('category')\n",
    "df_b['marital'] = df_b['marital'].cat.codes\n",
    "df_b['education'] = df_b['education'].astype('category')\n",
    "df_b['education'] = df_b['education'].cat.codes\n",
    "df_b['default'] = df_b['default'].astype('category')\n",
    "df_b['default'] = df_b['default'].cat.codes\n",
    "df_b['contact'] = df_b['contact'].astype('category')\n",
    "df_b['contact'] = df_b['contact'].cat.codes\n",
    "df_b['month'] = df_b['month'].astype('category')\n",
    "df_b['month'] = df_b['month'].cat.codes\n",
    "df_b['poutcome'] = df_b['poutcome'].astype('category')\n",
    "df_b['poutcome'] = df_b['poutcome'].cat.codes\n",
    "df_b['housing'] = df_b['housing'].astype('category')\n",
    "df_b['housing'] = df_b['housing'].cat.codes\n",
    "df_b['loan'] = df_b['loan'].astype('category')\n",
    "df_b['loan'] = df_b['loan'].cat.codes\n",
    "df_b['y'] = df_b['y'].astype('category')\n",
    "df_b['y'] = df_b['y'].cat.codes\n",
    "df_b = df_b.drop('pdays',axis=1)\n",
    "df_b['balance'] = (df_b['balance'] - df_b['balance'].min()) / ( df_b['balance'].max() - df_b['balance'].min())\n",
    "print(\"Post Conversion of Data into numeric, dropping pdays, and normalizing balance:\")\n",
    "df_b.head(10)"
   ],
   "metadata": {
    "collapsed": false,
    "pycharm": {
     "name": "#%%\n"
    }
   }
  },
  {
   "cell_type": "markdown",
   "source": [
    "#### Exploratory Data Analysis\n",
    "Now that we have numericalized the data it is time to do some preliminary exploration"
   ],
   "metadata": {
    "collapsed": false,
    "pycharm": {
     "name": "#%% md\n"
    }
   }
  },
  {
   "cell_type": "code",
   "execution_count": 318,
   "outputs": [
    {
     "data": {
      "text/plain": "<AxesSubplot:>"
     },
     "execution_count": 318,
     "metadata": {},
     "output_type": "execute_result"
    },
    {
     "data": {
      "text/plain": "<Figure size 432x288 with 2 Axes>",
      "image/png": "[encoded data removed]"
     },
     "metadata": {
      "needs_background": "light"
     },
     "output_type": "display_data"
    }
   ],
   "source": [
    "sns.heatmap(df_b.corr())"
   ],
   "metadata": {
    "collapsed": false,
    "pycharm": {
     "name": "#%%\n"
    }
   }
  },
  {
   "cell_type": "code",
   "execution_count": 319,
   "outputs": [
    {
     "name": "stdout",
     "output_type": "stream",
     "text": [
      "<class 'pandas.core.frame.DataFrame'>\n",
      "RangeIndex: 45211 entries, 0 to 45210\n",
      "Data columns (total 16 columns):\n",
      " #   Column     Non-Null Count  Dtype  \n",
      "---  ------     --------------  -----  \n",
      " 0   age        45211 non-null  int64  \n",
      " 1   job        45211 non-null  int8   \n",
      " 2   marital    45211 non-null  int8   \n",
      " 3   education  45211 non-null  int8   \n",
      " 4   default    45211 non-null  int8   \n",
      " 5   balance    45211 non-null  float64\n",
      " 6   housing    45211 non-null  int8   \n",
      " 7   loan       45211 non-null  int8   \n",
      " 8   contact    45211 non-null  int8   \n",
      " 9   day        45211 non-null  int64  \n",
      " 10  month      45211 non-null  int8   \n",
      " 11  duration   45211 non-null  int64  \n",
      " 12  campaign   45211 non-null  int64  \n",
      " 13  previous   45211 non-null  int64  \n",
      " 14  poutcome   45211 non-null  int8   \n",
      " 15  y          45211 non-null  int8   \n",
      "dtypes: float64(1), int64(5), int8(10)\n",
      "memory usage: 2.5 MB\n"
     ]
    }
   ],
   "source": [
    "df_b.info()"
   ],
   "metadata": {
    "collapsed": false,
    "pycharm": {
     "name": "#%%\n"
    }
   }
  },
  {
   "cell_type": "markdown",
   "source": [
    "From the Correlation Map we can see that Y has a high correlation with marital status followed by education and housing.\n"
   ],
   "metadata": {
    "collapsed": false,
    "pycharm": {
     "name": "#%% md\n"
    }
   }
  },
  {
   "cell_type": "markdown",
   "source": [
    "Now to split the data into training sets and do some more exploration. But first we will split the data into\n",
    "feature{x} and outcome{y}. Followed by a quick heatmap, just go get a vizualization of the features correlated to\n",
    "themselves"
   ],
   "metadata": {
    "collapsed": false,
    "pycharm": {
     "name": "#%% md\n"
    }
   }
  },
  {
   "cell_type": "code",
   "execution_count": 320,
   "outputs": [
    {
     "data": {
      "text/plain": "<AxesSubplot:>"
     },
     "execution_count": 320,
     "metadata": {},
     "output_type": "execute_result"
    },
    {
     "data": {
      "text/plain": "<Figure size 432x288 with 2 Axes>",
      "image/png": "[encoded data removed]"
     },
     "metadata": {
      "needs_background": "light"
     },
     "output_type": "display_data"
    }
   ],
   "source": [
    "y = df_b[\"y\"]\n",
    "X = df_b.drop(\"y\", axis=1)\n",
    "\n",
    "# Standardizing the feature data\n",
    "X[X.columns] = StandardScaler().fit_transform(X)\n",
    "sns.heatmap(X.corr())"
   ],
   "metadata": {
    "collapsed": false,
    "pycharm": {
     "name": "#%%\n"
    }
   }
  },
  {
   "cell_type": "code",
   "execution_count": 321,
   "outputs": [],
   "source": [
    "# Splitting the dataset into Train Set and Test Set\n",
    "X_train, X_test, y_train, y_test = train_test_split(X,y, test_size=0.2, random_state=0)"
   ],
   "metadata": {
    "collapsed": false,
    "pycharm": {
     "name": "#%%\n"
    }
   }
  },
  {
   "cell_type": "markdown",
   "source": [
    "#### PCA Analysis\n",
    "The Principal Component Analysis Will help use look to see how many variables affect our algorithm\n",
    "to see if we can include less features to help speed up run times."
   ],
   "metadata": {
    "collapsed": false
   }
  },
  {
   "cell_type": "code",
   "execution_count": 322,
   "outputs": [
    {
     "data": {
      "text/plain": "<Figure size 432x288 with 1 Axes>",
      "image/png": "[encoded data removed]"
     },
     "metadata": {
      "needs_background": "light"
     },
     "output_type": "display_data"
    }
   ],
   "source": [
    "# Standardizing the Data\n",
    "pca = PCA(n_components=15)\n",
    "principalComponents = pca.fit_transform(X)\n",
    "\n",
    "#Plotting the explained variances\n",
    "features = range(1,pca.n_components_+1)\n",
    "plt.bar(features, pca.explained_variance_ratio_, color='b')\n",
    "plt.xlabel('PCA Features')\n",
    "plt.ylabel('Variance %')\n",
    "plt.xticks(features)\n",
    "plt.title(\"PCA Variances\", fontsize=20)\n",
    "plt.show()"
   ],
   "metadata": {
    "collapsed": false,
    "pycharm": {
     "name": "#%%\n"
    }
   }
  },
  {
   "cell_type": "code",
   "execution_count": 323,
   "outputs": [
    {
     "data": {
      "text/plain": "0.322735471272194"
     },
     "execution_count": 323,
     "metadata": {},
     "output_type": "execute_result"
    }
   ],
   "source": [
    "# First Three Feature variance Explanation\n",
    "sum(pca.explained_variance_ratio_[:3])"
   ],
   "metadata": {
    "collapsed": false,
    "pycharm": {
     "name": "#%%\n"
    }
   }
  },
  {
   "cell_type": "markdown",
   "source": [
    "This first graph of the PCA's shows us a constant decline in variance. There is a bit of a dip around the first three\n",
    "give us an explanation of about 32%.\n",
    "\n",
    "Next Graph will show us the cumulative PCA"
   ],
   "metadata": {
    "collapsed": false,
    "pycharm": {
     "name": "#%% md\n"
    }
   }
  },
  {
   "cell_type": "code",
   "execution_count": 324,
   "outputs": [
    {
     "data": {
      "text/plain": "<Figure size 576x576 with 1 Axes>",
      "image/png": "[encoded data removed]"
     },
     "metadata": {
      "needs_background": "light"
     },
     "output_type": "display_data"
    }
   ],
   "source": [
    "var = np.cumsum(np.round(pca.explained_variance_ratio_, 3)*100)\n",
    "plt.figure(figsize=(8,8))\n",
    "\n",
    "plt.title('PCA Cumulative Analysis')\n",
    "plt.ylim(0,101)\n",
    "plt.xticks(features)\n",
    "plt.ylabel('% Cumulative Variance Explained')\n",
    "plt.xlabel('# of Features')\n",
    "plt.title(\"PCA Cumulative Variances\", fontsize=20)\n",
    "plt.plot(features, var)\n",
    "plt.grid()\n",
    "plt.show()"
   ],
   "metadata": {
    "collapsed": false,
    "pycharm": {
     "name": "#%%\n"
    }
   }
  },
  {
   "cell_type": "markdown",
   "source": [
    "Looking at the cumulative PCA variance graph offers us the same insight. there is no major elbow that\n",
    "makes limiting the amount of features drastically change. instead it gets closer and closer to explaining the variance\n",
    "the more features that we add.\n",
    "\n",
    "The next few graphs will go through looking at graphing the different amount of accuracy\n",
    "for the both the GaussianNB model and decision trees."
   ],
   "metadata": {
    "collapsed": false,
    "pycharm": {
     "name": "#%% md\n"
    }
   }
  },
  {
   "cell_type": "code",
   "execution_count": 325,
   "outputs": [],
   "source": [
    "def gather_model_accuracies(model_type, name):\n",
    "    \"\"\"This function takes in Different Classifiers to gather accuracies\"\"\"\n",
    "    accuracy = []\n",
    "    for i in range(1,16):\n",
    "        pipe = Pipeline([('preprocessor', PCA(n_components=i, random_state=0)),\n",
    "                         ('clf', model_type)])\n",
    "        pipe.fit(X_train, y_train)\n",
    "        y_prediction = pipe.predict(X_test)\n",
    "        accuracy.append(accuracy_score(y_test, y_prediction))\n",
    "    accuracy = pd.DataFrame(accuracy, index=[i for i in range(1,16)], columns=[name])\n",
    "    return accuracy"
   ],
   "metadata": {
    "collapsed": false,
    "pycharm": {
     "name": "#%%\n"
    }
   }
  },
  {
   "cell_type": "markdown",
   "source": [
    "The Function Below Graphs the Accuracies Gathered from above"
   ],
   "metadata": {
    "collapsed": false,
    "pycharm": {
     "name": "#%% md\n"
    }
   }
  },
  {
   "cell_type": "code",
   "execution_count": 326,
   "outputs": [],
   "source": [
    "def graph_accuracies(model_type, model_name):\n",
    "    \"\"\"This Function Graphs The Accuracies\"\"\"\n",
    "    x = model_type.index.tolist()\n",
    "    y = model_type.iloc[:,0].tolist()\n",
    "    fig, ax = plt.subplots(1, figsize=(5,5))\n",
    "    sns.lineplot(x=x, y=y, linewidth=4, color='b', ax=ax)\n",
    "    ax.set_xlabel(\"Number of Features\")\n",
    "    ax.set_ylabel(\"Model Accuracy\")\n",
    "    plt.xticks(np.arange(min(x),max(x)+1))\n",
    "    plt.title(str(\"Accuracy for \" + model_name), fontsize=20)\n",
    "    plt.grid()\n",
    "    plt.show()\n"
   ],
   "metadata": {
    "collapsed": false,
    "pycharm": {
     "name": "#%%\n"
    }
   }
  },
  {
   "cell_type": "markdown",
   "source": [
    "Gathering the Decision Tree and GaussianNB Model Accuracy"
   ],
   "metadata": {
    "collapsed": false
   }
  },
  {
   "cell_type": "code",
   "execution_count": 327,
   "outputs": [
    {
     "data": {
      "text/plain": "    Decision Tree\n1        0.801946\n2        0.806480\n3        0.818865\n4        0.823952\n5        0.838107\n6        0.839323\n7        0.848944\n8        0.846069\n9        0.845848\n10       0.846732\n11       0.849607\n12       0.851598\n13       0.848833\n14       0.850050\n15       0.854915",
      "text/html": "<div>\n<style scoped>\n    .dataframe tbody tr th:only-of-type {\n        vertical-align: middle;\n    }\n\n    .dataframe tbody tr th {\n        vertical-align: top;\n    }\n\n    .dataframe thead th {\n        text-align: right;\n    }\n</style>\n<table border=\"1\" class=\"dataframe\">\n  <thead>\n    <tr style=\"text-align: right;\">\n      <th></th>\n      <th>Decision Tree</th>\n    </tr>\n  </thead>\n  <tbody>\n    <tr>\n      <th>1</th>\n      <td>0.801946</td>\n    </tr>\n    <tr>\n      <th>2</th>\n      <td>0.806480</td>\n    </tr>\n    <tr>\n      <th>3</th>\n      <td>0.818865</td>\n    </tr>\n    <tr>\n      <th>4</th>\n      <td>0.823952</td>\n    </tr>\n    <tr>\n      <th>5</th>\n      <td>0.838107</td>\n    </tr>\n    <tr>\n      <th>6</th>\n      <td>0.839323</td>\n    </tr>\n    <tr>\n      <th>7</th>\n      <td>0.848944</td>\n    </tr>\n    <tr>\n      <th>8</th>\n      <td>0.846069</td>\n    </tr>\n    <tr>\n      <th>9</th>\n      <td>0.845848</td>\n    </tr>\n    <tr>\n      <th>10</th>\n      <td>0.846732</td>\n    </tr>\n    <tr>\n      <th>11</th>\n      <td>0.849607</td>\n    </tr>\n    <tr>\n      <th>12</th>\n      <td>0.851598</td>\n    </tr>\n    <tr>\n      <th>13</th>\n      <td>0.848833</td>\n    </tr>\n    <tr>\n      <th>14</th>\n      <td>0.850050</td>\n    </tr>\n    <tr>\n      <th>15</th>\n      <td>0.854915</td>\n    </tr>\n  </tbody>\n</table>\n</div>"
     },
     "execution_count": 327,
     "metadata": {},
     "output_type": "execute_result"
    }
   ],
   "source": [
    "dtree_accuracy = gather_model_accuracies(tree.DecisionTreeClassifier(random_state=0), \"Decision Tree\")\n",
    "dtree_accuracy"
   ],
   "metadata": {
    "collapsed": false,
    "pycharm": {
     "name": "#%%\n"
    }
   }
  },
  {
   "cell_type": "code",
   "execution_count": 328,
   "outputs": [
    {
     "data": {
      "text/plain": "    Gaussian\n1   0.882451\n2   0.882451\n3   0.881787\n4   0.882008\n5   0.882893\n6   0.883335\n7   0.885105\n8   0.884883\n9   0.885879\n10  0.886321\n11  0.886210\n12  0.886431\n13  0.886653\n14  0.885989\n15  0.886431",
      "text/html": "<div>\n<style scoped>\n    .dataframe tbody tr th:only-of-type {\n        vertical-align: middle;\n    }\n\n    .dataframe tbody tr th {\n        vertical-align: top;\n    }\n\n    .dataframe thead th {\n        text-align: right;\n    }\n</style>\n<table border=\"1\" class=\"dataframe\">\n  <thead>\n    <tr style=\"text-align: right;\">\n      <th></th>\n      <th>Gaussian</th>\n    </tr>\n  </thead>\n  <tbody>\n    <tr>\n      <th>1</th>\n      <td>0.882451</td>\n    </tr>\n    <tr>\n      <th>2</th>\n      <td>0.882451</td>\n    </tr>\n    <tr>\n      <th>3</th>\n      <td>0.881787</td>\n    </tr>\n    <tr>\n      <th>4</th>\n      <td>0.882008</td>\n    </tr>\n    <tr>\n      <th>5</th>\n      <td>0.882893</td>\n    </tr>\n    <tr>\n      <th>6</th>\n      <td>0.883335</td>\n    </tr>\n    <tr>\n      <th>7</th>\n      <td>0.885105</td>\n    </tr>\n    <tr>\n      <th>8</th>\n      <td>0.884883</td>\n    </tr>\n    <tr>\n      <th>9</th>\n      <td>0.885879</td>\n    </tr>\n    <tr>\n      <th>10</th>\n      <td>0.886321</td>\n    </tr>\n    <tr>\n      <th>11</th>\n      <td>0.886210</td>\n    </tr>\n    <tr>\n      <th>12</th>\n      <td>0.886431</td>\n    </tr>\n    <tr>\n      <th>13</th>\n      <td>0.886653</td>\n    </tr>\n    <tr>\n      <th>14</th>\n      <td>0.885989</td>\n    </tr>\n    <tr>\n      <th>15</th>\n      <td>0.886431</td>\n    </tr>\n  </tbody>\n</table>\n</div>"
     },
     "execution_count": 328,
     "metadata": {},
     "output_type": "execute_result"
    }
   ],
   "source": [
    "gnb_accuracy = gather_model_accuracies(GaussianNB(), \"Gaussian\")\n",
    "gnb_accuracy"
   ],
   "metadata": {
    "collapsed": false,
    "pycharm": {
     "name": "#%%\n"
    }
   }
  },
  {
   "cell_type": "markdown",
   "source": [
    "Graphing the best features for the GaussianND and the Decision Tree Model"
   ],
   "metadata": {
    "collapsed": false,
    "pycharm": {
     "name": "#%% md\n"
    }
   }
  },
  {
   "cell_type": "code",
   "execution_count": 329,
   "outputs": [
    {
     "data": {
      "text/plain": "<Figure size 360x360 with 1 Axes>",
      "image/png": "[encoded data removed]"
     },
     "metadata": {
      "needs_background": "light"
     },
     "output_type": "display_data"
    }
   ],
   "source": [
    "graph_accuracies(dtree_accuracy, \"Decision Tree\")"
   ],
   "metadata": {
    "collapsed": false,
    "pycharm": {
     "name": "#%%\n"
    }
   }
  },
  {
   "cell_type": "code",
   "execution_count": 330,
   "outputs": [
    {
     "data": {
      "text/plain": "<Figure size 360x360 with 1 Axes>",
      "image/png": "[encoded data removed]"
     },
     "metadata": {
      "needs_background": "light"
     },
     "output_type": "display_data"
    }
   ],
   "source": [
    "graph_accuracies(gnb_accuracy, \"GaussianNB\")"
   ],
   "metadata": {
    "collapsed": false,
    "pycharm": {
     "name": "#%%\n"
    }
   }
  },
  {
   "cell_type": "markdown",
   "source": [
    "Looking at the two graphs above. It looks like there is a slight peak for the Decision tree at 7 features\n",
    "then a valey, then another peak at 12 features with the total model accuracy being best at\n",
    "15 features. The range for the accuracy is in between just above 80% with one features and 86% with\n",
    "15 features.\n",
    "\n",
    "For the GaussianNB Model the range of accuracies is in between 88.2% going all the way up to 88.65 %\n",
    "There isolated peaks at 2 features, 7 features 10 and the highest accuracy being at 13 features.\n",
    "\n",
    "Now that we have looked at these graphs. It's time to actually build some models and discover if we are\n",
    "better at making some models.\n",
    "\n",
    "The Next Few functions are set up so that I can run both the Decsion Tree and Gaussian Model with forward\n",
    "and backward selection. Adding and taking away features.\n"
   ],
   "metadata": {
    "collapsed": false,
    "pycharm": {
     "name": "#%% md\n"
    }
   }
  },
  {
   "cell_type": "code",
   "execution_count": 331,
   "outputs": [],
   "source": [
    "def train_data(df, drops=None):\n",
    "    \"\"\"This Function splits the data to train and test the data. It also an element for being able to\n",
    "    drop certain rows.\"\"\"\n",
    "    # Y is the classification\n",
    "    Y = df['y'].tolist()\n",
    "    X = df.copy()\n",
    "    X = X.drop(columns=[\"y\"])\n",
    "    X[X.columns] = StandardScaler().fit_transform(X)\n",
    "    if drops != None:\n",
    "        X = X.drop(columns=drops)\n",
    "    x_train, x_test, y_train, y_test = train_test_split(X, Y, test_size=0.2, random_state=0)\n",
    "    return x_train, x_test, y_train, y_test, X"
   ],
   "metadata": {
    "collapsed": false,
    "pycharm": {
     "name": "#%%\n"
    }
   }
  },
  {
   "cell_type": "code",
   "execution_count": 332,
   "outputs": [],
   "source": [
    "def decisionTree_Model(x_train, x_test, y_train, y_test, X, yes_print=False):\n",
    "    \"\"\"This Function goes through building a decision tree and creating a confusion matrix\n",
    "    computing accuracy, and listing the decision tree features and their importance\"\"\"\n",
    "    # Building out a decision tree\n",
    "    dtree = tree.DecisionTreeClassifier(criterion=\"gini\")\n",
    "    dtree = dtree.fit(x_train, y_train)\n",
    "    y_predicted = dtree.predict(x_test)\n",
    "    accuracy = accuracy_score(y_test, y_predicted)\n",
    "    important = dtree.feature_importances_\n",
    "    df_importance_list = []\n",
    "    for i, v in enumerate(important):\n",
    "        df_importance_list.append([X.columns[i], v])\n",
    "    df_importance = pd.DataFrame(df_importance_list, columns=[\"FName\", \"Score\"])\n",
    "    df_importance.sort_values(by=['Score'], ascending=False, inplace=True)\n",
    "    decisionTree_Model_Features = df_importance[\"FName\"].tolist()\n",
    "    if yes_print:\n",
    "        print(\"DecisionTree Accuracy: \", accuracy)\n",
    "        print(\"DecisionTree Confusion Matrix:\")\n",
    "        print(confusion_matrix(y_test, y_predicted))\n",
    "        print(\"decision tree dtree feature importance:\")\n",
    "        print(df_importance)\n",
    "    return accuracy, decisionTree_Model_Features"
   ],
   "metadata": {
    "collapsed": false,
    "pycharm": {
     "name": "#%%\n"
    }
   }
  },
  {
   "cell_type": "code",
   "execution_count": 333,
   "outputs": [],
   "source": [
    "def GausianNB_Model(x_train, x_test, y_train, y_test, X, yes_print=False):\n",
    "    \"\"\"This Function goes through the GausianNB model and calculates the accuracy, computes the confusion matrix\n",
    "    and then lists the Gaussian Model Features and their significance\"\"\"\n",
    "    model2 = GaussianNB()\n",
    "    model2.fit(x_train, y_train)\n",
    "    gausianNB_predicted = model2.predict(x_test)\n",
    "    accuracy = accuracy_score(y_test, gausianNB_predicted)\n",
    "    imps = permutation_importance(model2, x_test, y_test)\n",
    "    df_Gausian_Feature_Importance_List = []\n",
    "    Gausian_Feature_Importance_List =  imps.importances_mean.tolist()\n",
    "    for row in enumerate(Gausian_Feature_Importance_List):\n",
    "        df_Gausian_Feature_Importance_List.append([X.columns[row[0]], row[1]])\n",
    "    df_Gausian_Feature_Importance = pd.DataFrame(df_Gausian_Feature_Importance_List, columns=[\"Feature\", \"Significance\"])\n",
    "    df_Gausian_Feature_Importance.sort_values(by=[\"Significance\"], ascending=False, inplace=True)\n",
    "    GausianND_Features = df_Gausian_Feature_Importance[\"Feature\"].tolist()\n",
    "    if yes_print:\n",
    "        print('\\nconfusion_matrix from Gaussian naive bayes:')\n",
    "        print(confusion_matrix(y_test, gausianNB_predicted))\n",
    "        print('accuracy = ' + str(accuracy))\n",
    "        print(\"gausianNB feature importance:\")\n",
    "        print(df_Gausian_Feature_Importance)\n",
    "    return accuracy, GausianND_Features"
   ],
   "metadata": {
    "collapsed": false,
    "pycharm": {
     "name": "#%%\n"
    }
   }
  },
  {
   "cell_type": "code",
   "execution_count": 334,
   "outputs": [],
   "source": [
    "def backward_selection(accuracy, features, selection, df, model):\n",
    "    \"\"\"This is a backward selection model that removes one feature at a time to see if we can improve the\n",
    "    accuracy of the model. Once any improvement is reached the function returns which feature that was dropped\n",
    "    that improves the model. The features that were included and the accuracy of the new model\"\"\"\n",
    "    features_loop = [word for word in features if word not in selection]\n",
    "    accuracy_start = accuracy\n",
    "    for feature in features_loop:\n",
    "        x_train, x_test, y_train, y_test, X = train_data(df, [feature] + selection)  # Dropping selection and feature\n",
    "        if model == 1:  # 1 For decisionTree\n",
    "            new_accuracy, new_features = decisionTree_Model(x_train, x_test, y_train, y_test, X, False)\n",
    "        else:\n",
    "            new_accuracy, new_features = GausianNB_Model(x_train, x_test, y_train, y_test, X, False)\n",
    "        if new_accuracy >= accuracy_start:\n",
    "            print(\"Accuracy:\", new_accuracy, \"\\nFeatures:\", new_features,\"\\nDropped Feature:\", feature)\n",
    "            return\n",
    "    return \"No Improvement\""
   ],
   "metadata": {
    "collapsed": false,
    "pycharm": {
     "name": "#%%\n"
    }
   }
  },
  {
   "cell_type": "code",
   "execution_count": 335,
   "outputs": [],
   "source": [
    "def forward_selection(accuracy, features, selection, df, model):\n",
    "    \"\"\"This is a backward selection model that removes one feature at a time to see if we can improve the\n",
    "    accuracy of the model. Once any improvement is reached the function returns which feature that was dropped\n",
    "    that improves the model. The features that were included and the accuracy of the new model\"\"\"\n",
    "    features_loop = [word for word in features if word not in selection]\n",
    "    best_accuracy = accuracy\n",
    "    for feature in features_loop:\n",
    "        drop_features = [word for word in features if word not in [feature] + selection]\n",
    "        x_train, x_test, y_train, y_test, X = train_data(df, drop_features)  # Dropping selection and feature\n",
    "        if model == 1:  # 1 For decisionTree\n",
    "            new_accuracy, new_features = decisionTree_Model(x_train, x_test, y_train, y_test, X, False)\n",
    "        else:\n",
    "            new_accuracy, new_features = GausianNB_Model(x_train, x_test, y_train, y_test, X, False)\n",
    "        if new_accuracy >= best_accuracy:\n",
    "            best_accuracy = new_accuracy\n",
    "            add_feature = feature\n",
    "    if best_accuracy > accuracy:\n",
    "            print(\"Accuracy:\", best_accuracy, \"\\nAdd Feature:\", add_feature, \"\\nModel Features\", [add_feature] + selection)\n",
    "    else:\n",
    "        return \"No Improvement\""
   ],
   "metadata": {
    "collapsed": false,
    "pycharm": {
     "name": "#%%\n"
    }
   }
  },
  {
   "cell_type": "markdown",
   "source": [
    "Now To loop through. Starting Backwards with the Decision Tree Models"
   ],
   "metadata": {
    "collapsed": false,
    "pycharm": {
     "name": "#%% md\n"
    }
   }
  },
  {
   "cell_type": "code",
   "execution_count": 336,
   "outputs": [
    {
     "name": "stdout",
     "output_type": "stream",
     "text": [
      "DecisionTree Accuracy:  0.8625456153931218\n",
      "DecisionTree Confusion Matrix:\n",
      "[[7315  665]\n",
      " [ 578  485]]\n",
      "decision tree dtree feature importance:\n",
      "        FName     Score\n",
      "11   duration  0.296549\n",
      "5     balance  0.123322\n",
      "10      month  0.102925\n",
      "0         age  0.095055\n",
      "9         day  0.094529\n",
      "14   poutcome  0.060507\n",
      "1         job  0.048802\n",
      "13   previous  0.036116\n",
      "12   campaign  0.033984\n",
      "3   education  0.027874\n",
      "6     housing  0.024090\n",
      "8     contact  0.022019\n",
      "2     marital  0.021672\n",
      "7        loan  0.010346\n",
      "4     default  0.002211\n"
     ]
    }
   ],
   "source": [
    "# Running the data back through the trainer\n",
    "x_train, x_test, y_train, y_test, X = train_data(df_b)\n",
    "\n",
    "# Decision Tree Model\n",
    "dt_a, dt_f = decisionTree_Model(x_train, x_test, y_train, y_test, X, True)"
   ],
   "metadata": {
    "collapsed": false,
    "pycharm": {
     "name": "#%%\n"
    }
   }
  },
  {
   "cell_type": "markdown",
   "source": [
    "This first look gives us [duration, balance, month, age, day] the most important deciding factors.\n",
    "To improve upon this model we will first step backwards to see if we can improve accuracy"
   ],
   "metadata": {
    "collapsed": false,
    "pycharm": {
     "name": "#%% md\n"
    }
   }
  },
  {
   "cell_type": "code",
   "execution_count": 337,
   "outputs": [
    {
     "name": "stdout",
     "output_type": "stream",
     "text": [
      "Accuracy: 0.871171071547053 \n",
      "Features: ['duration', 'balance', 'month', 'day', 'poutcome', 'job', 'campaign', 'education', 'contact', 'marital', 'housing', 'previous', 'loan', 'default'] \n",
      "Dropped Feature: age\n"
     ]
    }
   ],
   "source": [
    "features = df_b.columns.tolist()\n",
    "features.pop(-1)\n",
    "accuracy = 0.8625456153931218\n",
    "selection = []\n",
    "\n",
    "backward_selection(accuracy, features, selection, df_b, 1)"
   ],
   "metadata": {
    "collapsed": false,
    "pycharm": {
     "name": "#%%\n"
    }
   }
  },
  {
   "cell_type": "code",
   "execution_count": 338,
   "outputs": [
    {
     "name": "stdout",
     "output_type": "stream",
     "text": [
      "Accuracy: 0.8686276678093553 \n",
      "Features: ['duration', 'balance', 'month', 'day', 'poutcome', 'campaign', 'education', 'previous', 'marital', 'contact', 'housing', 'loan', 'default'] \n",
      "Dropped Feature: job\n"
     ]
    }
   ],
   "source": [
    "accuracy = 0.8625456153931218\n",
    "selection = ['age']\n",
    "\n",
    "backward_selection(accuracy, features, selection, df_b, 1)"
   ],
   "metadata": {
    "collapsed": false,
    "pycharm": {
     "name": "#%%\n"
    }
   }
  },
  {
   "cell_type": "code",
   "execution_count": 339,
   "outputs": [
    {
     "name": "stdout",
     "output_type": "stream",
     "text": [
      "Accuracy: 0.8726086475727082 \n",
      "Features: ['duration', 'balance', 'day', 'month', 'poutcome', 'campaign', 'previous', 'marital', 'contact', 'housing', 'loan', 'default'] \n",
      "Dropped Feature: education\n"
     ]
    }
   ],
   "source": [
    "accuracy = 0.8678535884109255\n",
    "selection = ['age','job']\n",
    "\n",
    "backward_selection(accuracy, features, selection, df_b, 1)"
   ],
   "metadata": {
    "collapsed": false,
    "pycharm": {
     "name": "#%%\n"
    }
   }
  },
  {
   "cell_type": "code",
   "execution_count": 340,
   "outputs": [
    {
     "name": "stdout",
     "output_type": "stream",
     "text": [
      "Accuracy: 0.871171071547053 \n",
      "Features: ['duration', 'balance', 'day', 'month', 'poutcome', 'campaign', 'contact', 'housing', 'previous', 'loan', 'default'] \n",
      "Dropped Feature: education\n"
     ]
    }
   ],
   "source": [
    "accuracy = 0.8696229127501935\n",
    "selection = ['age','job','marital']\n",
    "\n",
    "backward_selection(accuracy, features, selection, df_b, 1)"
   ],
   "metadata": {
    "collapsed": false,
    "pycharm": {
     "name": "#%%\n"
    }
   }
  },
  {
   "cell_type": "code",
   "execution_count": 341,
   "outputs": [
    {
     "name": "stdout",
     "output_type": "stream",
     "text": [
      "Accuracy: 0.872055733716687 \n",
      "Features: ['duration', 'balance', 'day', 'month', 'poutcome', 'campaign', 'contact', 'housing', 'previous', 'loan'] \n",
      "Dropped Feature: default\n"
     ]
    }
   ],
   "source": [
    "\n",
    "accuracy = 0.871171071547053\n",
    "selection = ['age','job','marital', 'education']\n",
    "\n",
    "backward_selection(accuracy, features, selection, df_b, 1)"
   ],
   "metadata": {
    "collapsed": false,
    "pycharm": {
     "name": "#%%\n"
    }
   }
  },
  {
   "cell_type": "code",
   "execution_count": 342,
   "outputs": [
    {
     "name": "stdout",
     "output_type": "stream",
     "text": [
      "Accuracy: 0.8738250580559549 \n",
      "Features: ['duration', 'day', 'month', 'campaign', 'poutcome', 'previous', 'contact', 'housing', 'loan'] \n",
      "Dropped Feature: balance\n"
     ]
    }
   ],
   "source": [
    "accuracy = 0.872055733716687\n",
    "selection = ['age','job','marital', 'education', 'default']\n",
    "\n",
    "backward_selection(accuracy, features, selection, df_b, 1)"
   ],
   "metadata": {
    "collapsed": false,
    "pycharm": {
     "name": "#%%\n"
    }
   }
  },
  {
   "cell_type": "code",
   "execution_count": 343,
   "outputs": [
    {
     "name": "stdout",
     "output_type": "stream",
     "text": [
      "Accuracy: 0.8764790445648568 \n",
      "Features: ['day', 'month', 'previous', 'campaign', 'poutcome', 'contact', 'housing', 'loan'] \n",
      "Dropped Feature: duration\n"
     ]
    }
   ],
   "source": [
    "accuracy = 0.8738250580559549\n",
    "selection = ['age','job','marital', 'education', 'default', 'balance']\n",
    "\n",
    "backward_selection(accuracy, features, selection, df_b, 1)"
   ],
   "metadata": {
    "collapsed": false,
    "pycharm": {
     "name": "#%%\n"
    }
   }
  },
  {
   "cell_type": "code",
   "execution_count": 344,
   "outputs": [
    {
     "name": "stdout",
     "output_type": "stream",
     "text": [
      "Accuracy: 0.879243613844963 \n",
      "Features: ['day', 'month', 'poutcome', 'campaign', 'previous', 'contact', 'loan'] \n",
      "Dropped Feature: housing\n"
     ]
    }
   ],
   "source": [
    "accuracy = 0.8764790445648568\n",
    "selection = ['age','job','marital', 'education', 'default', 'balance', 'duration']\n",
    "backward_selection(accuracy, features, selection, df_b, 1)"
   ],
   "metadata": {
    "collapsed": false,
    "pycharm": {
     "name": "#%%\n"
    }
   }
  },
  {
   "cell_type": "code",
   "execution_count": 345,
   "outputs": [
    {
     "name": "stdout",
     "output_type": "stream",
     "text": [
      "Accuracy: 0.8817870175826606 \n",
      "Features: ['day', 'month', 'poutcome', 'campaign', 'previous', 'contact'] \n",
      "Dropped Feature: loan\n"
     ]
    }
   ],
   "source": [
    "accuracy = 0.879243613844963\n",
    "selection = ['age','job','marital', 'education', 'default', 'balance', 'duration', 'housing']\n",
    "\n",
    "backward_selection(accuracy, features, selection, df_b, 1)"
   ],
   "metadata": {
    "collapsed": false,
    "pycharm": {
     "name": "#%%\n"
    }
   }
  },
  {
   "cell_type": "code",
   "execution_count": 346,
   "outputs": [
    {
     "name": "stdout",
     "output_type": "stream",
     "text": [
      "Accuracy: 0.8845515868627668 \n",
      "Features: ['day', 'month', 'poutcome', 'campaign', 'previous'] \n",
      "Dropped Feature: contact\n"
     ]
    }
   ],
   "source": [
    "accuracy = 0.8817870175826606\n",
    "selection = ['age','job','marital', 'education', 'default', 'balance', 'duration', 'housing', 'loan']\n",
    "\n",
    "backward_selection(accuracy, features, selection, df_b, 1)"
   ],
   "metadata": {
    "collapsed": false,
    "pycharm": {
     "name": "#%%\n"
    }
   }
  },
  {
   "cell_type": "code",
   "execution_count": 347,
   "outputs": [
    {
     "name": "stdout",
     "output_type": "stream",
     "text": [
      "Accuracy: 0.886873825058056 \n",
      "Features: ['poutcome', 'month', 'previous', 'campaign'] \n",
      "Dropped Feature: day\n"
     ]
    }
   ],
   "source": [
    "accuracy = 0.8845515868627668\n",
    "selection = ['age','job','marital', 'education', 'default', 'balance', 'duration', 'housing', 'loan', \"contact\"]\n",
    "\n",
    "backward_selection(accuracy, features, selection, df_b, 1)"
   ],
   "metadata": {
    "collapsed": false,
    "pycharm": {
     "name": "#%%\n"
    }
   }
  },
  {
   "cell_type": "code",
   "execution_count": 348,
   "outputs": [
    {
     "name": "stdout",
     "output_type": "stream",
     "text": [
      "Accuracy: 0.8905230565077961 \n",
      "Features: ['poutcome', 'previous', 'campaign'] \n",
      "Dropped Feature: month\n"
     ]
    }
   ],
   "source": [
    "accuracy = 0.886873825058056\n",
    "selection = ['age','job','marital', 'education', 'default', 'balance', 'duration', 'housing', 'loan',\n",
    "             \"contact\", \"day\"]\n",
    "\n",
    "backward_selection(accuracy, features, selection, df_b, 1)"
   ],
   "metadata": {
    "collapsed": false,
    "pycharm": {
     "name": "#%%\n"
    }
   }
  },
  {
   "cell_type": "code",
   "execution_count": 349,
   "outputs": [
    {
     "name": "stdout",
     "output_type": "stream",
     "text": [
      "Accuracy: 0.8911865531350216 \n",
      "Features: ['poutcome', 'campaign'] \n",
      "Dropped Feature: previous\n"
     ]
    }
   ],
   "source": [
    "accuracy = 0.8905230565077961\n",
    "selection = ['age','job','marital', 'education', 'default', 'balance', 'duration', 'housing', 'loan',\n",
    "             \"contact\", \"day\", \"month\"]\n",
    "\n",
    "backward_selection(accuracy, features, selection, df_b, 1)"
   ],
   "metadata": {
    "collapsed": false,
    "pycharm": {
     "name": "#%%\n"
    }
   }
  },
  {
   "cell_type": "code",
   "execution_count": 350,
   "outputs": [
    {
     "data": {
      "text/plain": "'No Improvement'"
     },
     "execution_count": 350,
     "metadata": {},
     "output_type": "execute_result"
    }
   ],
   "source": [
    "accuracy = 0.8905230565077961\n",
    "selection = ['age','job','marital', 'education', 'default', 'balance', 'duration', 'housing', 'loan',\n",
    "             \"contact\", \"day\", \"month\", \"previous\"]\n",
    "\n",
    "backward_selection(accuracy, features, selection, df_b, 1)"
   ],
   "metadata": {
    "collapsed": false,
    "pycharm": {
     "name": "#%%\n"
    }
   }
  },
  {
   "cell_type": "markdown",
   "source": [
    "Well that was anticlimatic. Of cources if they were subscribed before they are more likely to subscribe again.\n",
    "Lets run the forward model and see if we can find out anything that is more interesting..."
   ],
   "metadata": {
    "collapsed": false,
    "pycharm": {
     "name": "#%% md\n"
    }
   }
  },
  {
   "cell_type": "code",
   "execution_count": 351,
   "outputs": [
    {
     "name": "stdout",
     "output_type": "stream",
     "text": [
      "Accuracy: 0.8911865531350216 \n",
      "Add Feature: campaign \n",
      "Model Features ['campaign']\n"
     ]
    }
   ],
   "source": [
    "selection= []\n",
    "features.pop(-1)\n",
    "accuracy = 0.8\n",
    "\n",
    "forward_selection(accuracy, features, selection, df_b, 1)"
   ],
   "metadata": {
    "collapsed": false,
    "pycharm": {
     "name": "#%%\n"
    }
   }
  },
  {
   "cell_type": "code",
   "execution_count": 352,
   "outputs": [
    {
     "name": "stdout",
     "output_type": "stream",
     "text": [
      "Accuracy: 0.8911865531350216 \n",
      "Add Feature: campaign \n",
      "Model Features ['campaign', 'poutcome']\n"
     ]
    }
   ],
   "source": [
    "selection= ['poutcome']\n",
    "accuracy = 0.8901913081941834\n",
    "\n",
    "forward_selection(accuracy, features, selection, df_b, 1)"
   ],
   "metadata": {
    "collapsed": false,
    "pycharm": {
     "name": "#%%\n"
    }
   }
  },
  {
   "cell_type": "code",
   "execution_count": 353,
   "outputs": [
    {
     "name": "stdout",
     "output_type": "stream",
     "text": [
      "Accuracy: 0.8915183014486343 \n",
      "Add Feature: loan \n",
      "Model Features ['loan', 'poutcome', 'campaign']\n"
     ]
    }
   ],
   "source": [
    "selection= ['poutcome', \"campaign\"]\n",
    "accuracy = 0.8911865531350216\n",
    "\n",
    "forward_selection(accuracy, features, selection, df_b, 1)"
   ],
   "metadata": {
    "collapsed": false,
    "pycharm": {
     "name": "#%%\n"
    }
   }
  },
  {
   "cell_type": "code",
   "execution_count": 354,
   "outputs": [
    {
     "name": "stdout",
     "output_type": "stream",
     "text": [
      "Accuracy: 0.8916288842198385 \n",
      "Add Feature: contact \n",
      "Model Features ['contact', 'poutcome', 'campaign', 'loan']\n"
     ]
    }
   ],
   "source": [
    "selection= ['poutcome', \"campaign\", \"loan\"]\n",
    "accuracy = 0.8915183014486343\n",
    "\n",
    "forward_selection(accuracy, features, selection, df_b, 1)"
   ],
   "metadata": {
    "collapsed": false,
    "pycharm": {
     "name": "#%%\n"
    }
   }
  },
  {
   "cell_type": "code",
   "execution_count": 355,
   "outputs": [
    {
     "data": {
      "text/plain": "'No Improvement'"
     },
     "execution_count": 355,
     "metadata": {},
     "output_type": "execute_result"
    }
   ],
   "source": [
    "selection= ['poutcome', \"campaign\", \"loan\", \"contact\"]\n",
    "accuracy = 0.8916288842198385\n",
    "\n",
    "forward_selection(accuracy, features, selection, df_b, 1)"
   ],
   "metadata": {
    "collapsed": false,
    "pycharm": {
     "name": "#%%\n"
    }
   }
  },
  {
   "cell_type": "markdown",
   "source": [
    "Now to look at the GaussianNB model with forward model selection."
   ],
   "metadata": {
    "collapsed": false,
    "pycharm": {
     "name": "#%% md\n"
    }
   }
  },
  {
   "cell_type": "code",
   "execution_count": 356,
   "outputs": [
    {
     "name": "stdout",
     "output_type": "stream",
     "text": [
      "\n",
      "confusion_matrix from Gaussian naive bayes:\n",
      "[[7374  606]\n",
      " [ 610  453]]\n",
      "accuracy = 0.8655313502156364\n",
      "gausianNB feature importance:\n",
      "      Feature  Significance\n",
      "11   duration      0.046754\n",
      "0         age      0.006259\n",
      "6     housing      0.002389\n",
      "2     marital      0.000752\n",
      "1         job      0.000641\n",
      "12   campaign      0.000553\n",
      "3   education      0.000487\n",
      "7        loan      0.000288\n",
      "4     default     -0.000088\n",
      "9         day     -0.000288\n",
      "8     contact     -0.000487\n",
      "13   previous     -0.000487\n",
      "14   poutcome     -0.000730\n",
      "10      month     -0.001039\n",
      "5     balance     -0.001902\n"
     ]
    }
   ],
   "source": [
    "x_train, x_test, y_train, y_test, X = train_data(df_b)\n",
    "gm_a, gm_f = GausianNB_Model(x_train, x_test, y_train, y_test, X, True)"
   ],
   "metadata": {
    "collapsed": false,
    "pycharm": {
     "name": "#%%\n"
    }
   }
  },
  {
   "cell_type": "markdown",
   "source": [
    "At first glance to speed things up a bit, we will remove the negative significance values"
   ],
   "metadata": {
    "collapsed": false,
    "pycharm": {
     "name": "#%% md\n"
    }
   }
  },
  {
   "cell_type": "code",
   "source": [
    "selection = ['contact','default','loan','day', 'previous','month', 'poutcome', 'balance']\n",
    "accuracy = 0.8655313502156364\n",
    "backward_selection(accuracy, features, selection, df_b, 0)"
   ],
   "metadata": {
    "collapsed": false,
    "pycharm": {
     "name": "#%%\n"
    }
   },
   "execution_count": 357,
   "outputs": [
    {
     "name": "stdout",
     "output_type": "stream",
     "text": [
      "Accuracy: 0.8820081831250691 \n",
      "Features: ['duration', 'housing', 'education', 'job', 'marital', 'campaign'] \n",
      "Dropped Feature: age\n"
     ]
    }
   ]
  },
  {
   "cell_type": "code",
   "execution_count": 360,
   "outputs": [
    {
     "name": "stdout",
     "output_type": "stream",
     "text": [
      "Accuracy: 0.8820081831250691 \n",
      "Features: ['duration', 'housing', 'education', 'marital', 'campaign'] \n",
      "Dropped Feature: job\n",
      "Accuracy: 0.8820081831250691 \n",
      "Features: ['duration', 'housing', 'education', 'campaign', 'marital'] \n",
      "Dropped Feature: job\n"
     ]
    }
   ],
   "source": [
    "selection = ['contact','default','loan','day', 'previous','month', 'poutcome', 'balance',\n",
    "             'age']\n",
    "accuracy = 0.8820081831250691\n",
    "backward_selection(accuracy, features, selection, df_b, 0)"
   ],
   "metadata": {
    "collapsed": false,
    "pycharm": {
     "name": "#%%\n"
    }
   }
  },
  {
   "cell_type": "code",
   "execution_count": 361,
   "outputs": [
    {
     "name": "stdout",
     "output_type": "stream",
     "text": [
      "Accuracy: 0.8821187658962734 \n",
      "Features: ['duration', 'housing', 'education', 'campaign'] \n",
      "Dropped Feature: marital\n"
     ]
    }
   ],
   "source": [
    "selection = ['contact','default','loan','day', 'previous','month', 'poutcome', 'balance',\n",
    "             'age', 'job']\n",
    "accuracy = 0.8820081831250691\n",
    "backward_selection(accuracy, features, selection, df_b, 0)"
   ],
   "metadata": {
    "collapsed": false,
    "pycharm": {
     "name": "#%%\n"
    }
   }
  },
  {
   "cell_type": "code",
   "execution_count": 362,
   "outputs": [
    {
     "name": "stdout",
     "output_type": "stream",
     "text": [
      "Accuracy: 0.8824505142098861 \n",
      "Features: ['education', 'housing', 'campaign'] \n",
      "Dropped Feature: duration\n"
     ]
    }
   ],
   "source": [
    "selection = ['contact','default','loan','day', 'previous','month', 'poutcome', 'balance',\n",
    "             'age', 'job', 'marital']\n",
    "accuracy = 0.8821187658962734\n",
    "backward_selection(accuracy, features, selection, df_b, 0)"
   ],
   "metadata": {
    "collapsed": false,
    "pycharm": {
     "name": "#%%\n"
    }
   }
  },
  {
   "cell_type": "code",
   "execution_count": 363,
   "outputs": [
    {
     "name": "stdout",
     "output_type": "stream",
     "text": [
      "Accuracy: 0.8824505142098861 \n",
      "Features: ['housing', 'campaign'] \n",
      "Dropped Feature: education\n"
     ]
    }
   ],
   "source": [
    "selection = ['contact','default','loan','day', 'previous','month', 'poutcome', 'balance',\n",
    "             'age', 'job', 'marital','duration']\n",
    "accuracy = 0.8824505142098861\n",
    "backward_selection(accuracy, features, selection, df_b, 0)"
   ],
   "metadata": {
    "collapsed": false,
    "pycharm": {
     "name": "#%%\n"
    }
   }
  },
  {
   "cell_type": "code",
   "execution_count": 364,
   "outputs": [
    {
     "name": "stdout",
     "output_type": "stream",
     "text": [
      "Accuracy: 0.8824505142098861 \n",
      "Features: ['campaign'] \n",
      "Dropped Feature: housing\n"
     ]
    }
   ],
   "source": [
    "selection = ['contact','default','loan','day', 'previous','month', 'poutcome', 'balance',\n",
    "             'age', 'job', 'marital','duration', \"education\"]\n",
    "accuracy = 0.8824505142098861\n",
    "backward_selection(accuracy, features, selection, df_b, 0)\n"
   ],
   "metadata": {
    "collapsed": false,
    "pycharm": {
     "name": "#%%\n"
    }
   }
  }
 ],
 "metadata": {
  "kernelspec": {
   "name": "pycharm-865e1948",
   "language": "python",
   "display_name": "PyCharm (GITHUB_REPOSITORY)"
  },
  "language_info": {
   "codemirror_mode": {
    "name": "ipython",
    "version": 2
   },
   "file_extension": ".py",
   "mimetype": "text/x-python",
   "name": "python",
   "nbconvert_exporter": "python",
   "pygments_lexer": "ipython2",
   "version": "2.7.6"
  }
 },
 "nbformat": 4,
 "nbformat_minor": 0
}