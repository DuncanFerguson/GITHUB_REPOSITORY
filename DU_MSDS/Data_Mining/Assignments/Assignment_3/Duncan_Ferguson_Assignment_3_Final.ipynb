{
 "cells": [
  {
   "cell_type": "markdown",
   "source": [
    "Student: Duncan Ferguson <br>\n",
    "Student Id: 871641260 <br>\n",
    "Class: Comp 4431-1 <br>\n",
    "Assignment: Assignment 3 <br>\n",
    "Date: 11/20/2021 <br>\n",
    "\n",
    "You are to apply the following techniques to mine this data set:\n",
    "\n",
    "- Association Rules\n",
    "- Decision tree Classification\n",
    "- Naive Bayes Classification\n",
    "- kmeans and dbscan clustering\n",
    "\n",
    "Also, you are to use Principle Component Analysis to reduce the number of attributes (aka features)\n",
    "\n",
    "## 1. What can you deduce from the data set? (in otherwords, what attribute values are indicative of \"success\")\n",
    "\n",
    "### TODO ANSWER GERE\n",
    "## 2. Which mining techniques yielded the best results for what? How do you define \"best results\"?\n",
    "### TODO ANSWER GERE\n",
    "\n",
    "### 3. How useful was Principle Component Analysis? For what number of components did you get the \"best results.\"\n",
    "### TODO ANSWER GERE\n",
    "PCA as alright. There was a variety of different answers. There was an even spread and no noticable\n",
    "dip that made it easy to just cut off the data. It was useful for DBSCAN and K-means Clustering to aid in the\n",
    "visualization\n",
    "\n",
    "Please include tables and/or graphs to justify your statements about which are best."
   ],
   "metadata": {
    "collapsed": false
   }
  },
  {
   "cell_type": "markdown",
   "source": [
    "### Start of The Code\n",
    "Main Library Imports Below"
   ],
   "metadata": {
    "collapsed": false,
    "pycharm": {
     "name": "#%% md\n"
    }
   }
  },
  {
   "cell_type": "code",
   "execution_count": 15,
   "outputs": [],
   "source": [
    "import graphviz\n",
    "import pandas as pd\n",
    "import numpy as np\n",
    "from csv import reader\n",
    "\n",
    "# Sklearn Libraries\n",
    "from sklearn import tree\n",
    "from sklearn.model_selection import train_test_split, ParameterGrid\n",
    "from sklearn.metrics import *\n",
    "from sklearn.naive_bayes import *\n",
    "from sklearn.cluster import KMeans, DBSCAN\n",
    "from sklearn.inspection import permutation_importance\n",
    "from sklearn.preprocessing import StandardScaler, Normalizer\n",
    "from sklearn.decomposition import PCA\n",
    "from sklearn.pipeline import Pipeline\n",
    "from sklearn.tree import export_graphviz, export_text\n",
    "import pydotplus\n",
    "\n",
    "# Importing mlxtend Libraries\n",
    "from mlxtend.frequent_patterns import apriori, association_rules\n",
    "from mlxtend.preprocessing import TransactionEncoder\n",
    "\n",
    "# Graphing Libraries\n",
    "import matplotlib.pyplot as plt\n",
    "import seaborn as sns"
   ],
   "metadata": {
    "collapsed": false,
    "pycharm": {
     "name": "#%%\n"
    }
   }
  },
  {
   "cell_type": "markdown",
   "source": [
    "Importing the main document <br>\n",
    "Setting the random seed and setting view options <br>"
   ],
   "metadata": {
    "collapsed": false,
    "pycharm": {
     "name": "#%% md\n"
    }
   }
  },
  {
   "cell_type": "code",
   "execution_count": 16,
   "outputs": [],
   "source": [
    "np.random.seed(0)\n",
    "df =  pd.read_csv(\"bank-full.csv\")\n",
    "\n",
    "pd.set_option('display.max_columns', None)\n",
    "pd.set_option('max_columns', None)\n",
    "pd.set_option('max_rows', None)\n",
    "pd.options.display.width = 0   # automatically ajust to window length\n",
    "\n",
    "df_a = df.copy()\n",
    "df_b = df.copy()"
   ],
   "metadata": {
    "collapsed": false,
    "pycharm": {
     "name": "#%%\n"
    }
   }
  },
  {
   "cell_type": "code",
   "execution_count": 17,
   "outputs": [
    {
     "data": {
      "text/plain": "   age           job  marital  education default  balance housing loan  \\\n0   58    management  married   tertiary      no     2143     yes   no   \n1   44    technician   single  secondary      no       29     yes   no   \n2   33  entrepreneur  married  secondary      no        2     yes  yes   \n3   47   blue-collar  married    unknown      no     1506     yes   no   \n4   33       unknown   single    unknown      no        1      no   no   \n\n   contact  day month  duration  campaign  pdays  previous poutcome   y  \n0  unknown    5   may       261         1     -1         0  unknown  no  \n1  unknown    5   may       151         1     -1         0  unknown  no  \n2  unknown    5   may        76         1     -1         0  unknown  no  \n3  unknown    5   may        92         1     -1         0  unknown  no  \n4  unknown    5   may       198         1     -1         0  unknown  no  ",
      "text/html": "<div>\n<style scoped>\n    .dataframe tbody tr th:only-of-type {\n        vertical-align: middle;\n    }\n\n    .dataframe tbody tr th {\n        vertical-align: top;\n    }\n\n    .dataframe thead th {\n        text-align: right;\n    }\n</style>\n<table border=\"1\" class=\"dataframe\">\n  <thead>\n    <tr style=\"text-align: right;\">\n      <th></th>\n      <th>age</th>\n      <th>job</th>\n      <th>marital</th>\n      <th>education</th>\n      <th>default</th>\n      <th>balance</th>\n      <th>housing</th>\n      <th>loan</th>\n      <th>contact</th>\n      <th>day</th>\n      <th>month</th>\n      <th>duration</th>\n      <th>campaign</th>\n      <th>pdays</th>\n      <th>previous</th>\n      <th>poutcome</th>\n      <th>y</th>\n    </tr>\n  </thead>\n  <tbody>\n    <tr>\n      <th>0</th>\n      <td>58</td>\n      <td>management</td>\n      <td>married</td>\n      <td>tertiary</td>\n      <td>no</td>\n      <td>2143</td>\n      <td>yes</td>\n      <td>no</td>\n      <td>unknown</td>\n      <td>5</td>\n      <td>may</td>\n      <td>261</td>\n      <td>1</td>\n      <td>-1</td>\n      <td>0</td>\n      <td>unknown</td>\n      <td>no</td>\n    </tr>\n    <tr>\n      <th>1</th>\n      <td>44</td>\n      <td>technician</td>\n      <td>single</td>\n      <td>secondary</td>\n      <td>no</td>\n      <td>29</td>\n      <td>yes</td>\n      <td>no</td>\n      <td>unknown</td>\n      <td>5</td>\n      <td>may</td>\n      <td>151</td>\n      <td>1</td>\n      <td>-1</td>\n      <td>0</td>\n      <td>unknown</td>\n      <td>no</td>\n    </tr>\n    <tr>\n      <th>2</th>\n      <td>33</td>\n      <td>entrepreneur</td>\n      <td>married</td>\n      <td>secondary</td>\n      <td>no</td>\n      <td>2</td>\n      <td>yes</td>\n      <td>yes</td>\n      <td>unknown</td>\n      <td>5</td>\n      <td>may</td>\n      <td>76</td>\n      <td>1</td>\n      <td>-1</td>\n      <td>0</td>\n      <td>unknown</td>\n      <td>no</td>\n    </tr>\n    <tr>\n      <th>3</th>\n      <td>47</td>\n      <td>blue-collar</td>\n      <td>married</td>\n      <td>unknown</td>\n      <td>no</td>\n      <td>1506</td>\n      <td>yes</td>\n      <td>no</td>\n      <td>unknown</td>\n      <td>5</td>\n      <td>may</td>\n      <td>92</td>\n      <td>1</td>\n      <td>-1</td>\n      <td>0</td>\n      <td>unknown</td>\n      <td>no</td>\n    </tr>\n    <tr>\n      <th>4</th>\n      <td>33</td>\n      <td>unknown</td>\n      <td>single</td>\n      <td>unknown</td>\n      <td>no</td>\n      <td>1</td>\n      <td>no</td>\n      <td>no</td>\n      <td>unknown</td>\n      <td>5</td>\n      <td>may</td>\n      <td>198</td>\n      <td>1</td>\n      <td>-1</td>\n      <td>0</td>\n      <td>unknown</td>\n      <td>no</td>\n    </tr>\n  </tbody>\n</table>\n</div>"
     },
     "execution_count": 17,
     "metadata": {},
     "output_type": "execute_result"
    }
   ],
   "source": [
    "df_a.head()"
   ],
   "metadata": {
    "collapsed": false,
    "pycharm": {
     "name": "#%%\n"
    }
   }
  },
  {
   "cell_type": "markdown",
   "source": [
    "### Association Rule Analysis Below\n",
    "### Feature Engineering\n",
    "First Cleaning up the data and creating categories"
   ],
   "metadata": {
    "collapsed": false,
    "pycharm": {
     "name": "#%% md\n"
    }
   }
  },
  {
   "cell_type": "code",
   "execution_count": 18,
   "outputs": [
    {
     "data": {
      "text/plain": "            job  marital  education  contact month poutcome   y  \\\n0    management  married   tertiary  unknown   may  unknown  no   \n1    technician   single  secondary  unknown   may  unknown  no   \n2  entrepreneur  married  secondary  unknown   may  unknown  no   \n3   blue-collar  married    unknown  unknown   may  unknown  no   \n4       unknown   single    unknown  unknown   may  unknown  no   \n\n  balanceSummary   ageBand defaultValue housingVal  loanVal  \n0       positive  ageBand5    defaultNo   houseYes   loanNo  \n1       positive  ageBand4    defaultNo   houseYes   loanNo  \n2       positive  ageBand3    defaultNo   houseYes  loanYes  \n3       positive  ageBand4    defaultNo   houseYes   loanNo  \n4       positive  ageBand3    defaultNo    houseNo   loanNo  ",
      "text/html": "<div>\n<style scoped>\n    .dataframe tbody tr th:only-of-type {\n        vertical-align: middle;\n    }\n\n    .dataframe tbody tr th {\n        vertical-align: top;\n    }\n\n    .dataframe thead th {\n        text-align: right;\n    }\n</style>\n<table border=\"1\" class=\"dataframe\">\n  <thead>\n    <tr style=\"text-align: right;\">\n      <th></th>\n      <th>job</th>\n      <th>marital</th>\n      <th>education</th>\n      <th>contact</th>\n      <th>month</th>\n      <th>poutcome</th>\n      <th>y</th>\n      <th>balanceSummary</th>\n      <th>ageBand</th>\n      <th>defaultValue</th>\n      <th>housingVal</th>\n      <th>loanVal</th>\n    </tr>\n  </thead>\n  <tbody>\n    <tr>\n      <th>0</th>\n      <td>management</td>\n      <td>married</td>\n      <td>tertiary</td>\n      <td>unknown</td>\n      <td>may</td>\n      <td>unknown</td>\n      <td>no</td>\n      <td>positive</td>\n      <td>ageBand5</td>\n      <td>defaultNo</td>\n      <td>houseYes</td>\n      <td>loanNo</td>\n    </tr>\n    <tr>\n      <th>1</th>\n      <td>technician</td>\n      <td>single</td>\n      <td>secondary</td>\n      <td>unknown</td>\n      <td>may</td>\n      <td>unknown</td>\n      <td>no</td>\n      <td>positive</td>\n      <td>ageBand4</td>\n      <td>defaultNo</td>\n      <td>houseYes</td>\n      <td>loanNo</td>\n    </tr>\n    <tr>\n      <th>2</th>\n      <td>entrepreneur</td>\n      <td>married</td>\n      <td>secondary</td>\n      <td>unknown</td>\n      <td>may</td>\n      <td>unknown</td>\n      <td>no</td>\n      <td>positive</td>\n      <td>ageBand3</td>\n      <td>defaultNo</td>\n      <td>houseYes</td>\n      <td>loanYes</td>\n    </tr>\n    <tr>\n      <th>3</th>\n      <td>blue-collar</td>\n      <td>married</td>\n      <td>unknown</td>\n      <td>unknown</td>\n      <td>may</td>\n      <td>unknown</td>\n      <td>no</td>\n      <td>positive</td>\n      <td>ageBand4</td>\n      <td>defaultNo</td>\n      <td>houseYes</td>\n      <td>loanNo</td>\n    </tr>\n    <tr>\n      <th>4</th>\n      <td>unknown</td>\n      <td>single</td>\n      <td>unknown</td>\n      <td>unknown</td>\n      <td>may</td>\n      <td>unknown</td>\n      <td>no</td>\n      <td>positive</td>\n      <td>ageBand3</td>\n      <td>defaultNo</td>\n      <td>houseNo</td>\n      <td>loanNo</td>\n    </tr>\n  </tbody>\n</table>\n</div>"
     },
     "execution_count": 18,
     "metadata": {},
     "output_type": "execute_result"
    }
   ],
   "source": [
    "for index, row in df_a.iterrows():\n",
    "\tif row['balance'] < 0:\n",
    "\t\trow['balance'] = 'inDebt'\n",
    "\telse:\n",
    "\t\trow['balance'] = 'notInDebt'\n",
    "\n",
    "# Creating Categories for balance\n",
    "df_a.loc[(df_a['balance'] >= 10000), 'balanceSummary'] = 'veryPositive'\n",
    "df_a.loc[((df_a['balance'] < 0) & (df_a['balance'] >= -10000)), 'balanceSummary'] = 'negative'\n",
    "df_a.loc[((df_a['balance'] < 10000) & (df_a['balance'] >= 0)), 'balanceSummary'] = 'positive'\n",
    "df_a.loc[df_a['balance'] < -500, 'balanceSummary'] = 'veryNegative'\n",
    "\n",
    "# Creating Categories for ages\n",
    "df_a.loc[((df_a['age'] < 25) & (df_a['age'] >= 0)),  'ageBand'] = 'ageBand1'\n",
    "df_a.loc[((df_a['age'] < 30) & (df_a['age'] >= 25)), 'ageBand'] = 'ageBand2'\n",
    "df_a.loc[((df_a['age'] < 40) & (df_a['age'] >= 30)), 'ageBand'] = 'ageBand3'\n",
    "df_a.loc[((df_a['age'] < 50) & (df_a['age'] >= 40)), 'ageBand'] = 'ageBand4'\n",
    "df_a.loc[((df_a['age'] < 120) & (df_a['age'] >= 50)),'ageBand'] = 'ageBand5'\n",
    "\n",
    "# Creating Categories for default\n",
    "df_a.loc[(df_a['default'] == 'no'), 'defaultValue'] = 'defaultNo'\n",
    "df_a.loc[(df_a['default'] == 'yes'), 'defaultValue'] = 'defaultYes'\n",
    "\n",
    "# Creating Categories for Housing\n",
    "df_a.loc[(df_a['housing'] == 'no'), 'housingVal'] = 'houseNo'\n",
    "df_a.loc[(df_a['housing'] == 'yes'), 'housingVal'] = 'houseYes'\n",
    "\n",
    "# Creating Categories for Loans\n",
    "df_a.loc[(df_a['loan'] == 'no'), 'loanVal'] = 'loanNo'\n",
    "df_a.loc[(df_a['loan'] == 'yes'), 'loanVal'] = 'loanYes'\n",
    "\n",
    "# Dropping all values that are not strings\n",
    "df_a = df_a.drop(['age', 'day', 'duration', 'balance', 'campaign', 'previous', 'default', 'housing', 'loan', 'pdays'],\n",
    "                 axis=1)\n",
    "\n",
    "# Displaying Head\n",
    "df_a.head()"
   ],
   "metadata": {
    "collapsed": false,
    "pycharm": {
     "name": "#%%\n"
    }
   }
  },
  {
   "cell_type": "markdown",
   "source": [
    "Displaying all the Unique Values"
   ],
   "metadata": {
    "collapsed": false,
    "pycharm": {
     "name": "#%% md\n"
    }
   }
  },
  {
   "cell_type": "code",
   "execution_count": 19,
   "outputs": [
    {
     "name": "stdout",
     "output_type": "stream",
     "text": [
      "job : ['management' 'technician' 'entrepreneur' 'blue-collar' 'unknown'\n",
      " 'retired' 'admin.' 'services' 'self-employed' 'unemployed' 'housemaid'\n",
      " 'student']\n",
      "marital : ['married' 'single' 'divorced']\n",
      "education : ['tertiary' 'secondary' 'unknown' 'primary']\n",
      "contact : ['unknown' 'cellular' 'telephone']\n",
      "month : ['may' 'jun' 'jul' 'aug' 'oct' 'nov' 'dec' 'jan' 'feb' 'mar' 'apr' 'sep']\n",
      "poutcome : ['unknown' 'failure' 'other' 'success']\n",
      "y : ['no' 'yes']\n",
      "balanceSummary : ['positive' 'negative' 'veryPositive' 'veryNegative']\n",
      "ageBand : ['ageBand5' 'ageBand4' 'ageBand3' 'ageBand2' 'ageBand1']\n",
      "defaultValue : ['defaultNo' 'defaultYes']\n",
      "housingVal : ['houseYes' 'houseNo']\n",
      "loanVal : ['loanNo' 'loanYes']\n"
     ]
    }
   ],
   "source": [
    "for col in df_a:\n",
    "    print(col, \":\", df_a[col].unique())"
   ],
   "metadata": {
    "collapsed": false,
    "pycharm": {
     "name": "#%%\n"
    }
   }
  },
  {
   "cell_type": "markdown",
   "source": [
    "Exporting the dataframe as a CSV and reimporting it to speed up run times."
   ],
   "metadata": {
    "collapsed": false,
    "pycharm": {
     "name": "#%% md\n"
    }
   }
  },
  {
   "cell_type": "code",
   "execution_count": 20,
   "outputs": [],
   "source": [
    "df_a.to_csv(\"outfile.csv\", index=False)\n",
    "file = []\n",
    "with open(\"outfile.csv\", 'r') as read_obj:\n",
    "    csv_reader = reader(read_obj)\n",
    "    for row in csv_reader:\n",
    "        file.append(row)"
   ],
   "metadata": {
    "collapsed": false,
    "pycharm": {
     "name": "#%%\n"
    }
   }
  },
  {
   "cell_type": "markdown",
   "source": [
    "Creating transact 1 hot boolean encoded numpy array and displaying dataframe head"
   ],
   "metadata": {
    "collapsed": false,
    "pycharm": {
     "name": "#%% md\n"
    }
   }
  },
  {
   "cell_type": "code",
   "execution_count": 21,
   "outputs": [
    {
     "data": {
      "text/plain": "   admin.  ageBand  ageBand1  ageBand2  ageBand3  ageBand4  ageBand5    apr  \\\n0   False     True     False     False     False     False     False  False   \n1   False    False     False     False     False     False      True  False   \n2   False    False     False     False     False      True     False  False   \n3   False    False     False     False      True     False     False  False   \n4   False    False     False     False     False      True     False  False   \n\n     aug  balanceSummary  blue-collar  cellular  contact    dec  defaultNo  \\\n0  False            True        False     False     True  False      False   \n1  False           False        False     False    False  False       True   \n2  False           False        False     False    False  False       True   \n3  False           False        False     False    False  False       True   \n4  False           False         True     False    False  False       True   \n\n   defaultValue  defaultYes  divorced  education  entrepreneur  failure  \\\n0          True       False     False       True         False    False   \n1         False       False     False      False         False    False   \n2         False       False     False      False         False    False   \n3         False       False     False      False          True    False   \n4         False       False     False      False         False    False   \n\n     feb  houseNo  houseYes  housemaid  housingVal    jan    job    jul  \\\n0  False    False     False      False        True  False   True  False   \n1  False    False      True      False       False  False  False  False   \n2  False    False      True      False       False  False  False  False   \n3  False    False      True      False       False  False  False  False   \n4  False    False      True      False       False  False  False  False   \n\n     jun  loanNo  loanVal  loanYes  management    mar  marital  married  \\\n0  False   False     True    False       False  False     True    False   \n1  False    True    False    False        True  False    False     True   \n2  False    True    False    False       False  False    False    False   \n3  False   False    False     True       False  False    False     True   \n4  False    True    False    False       False  False    False     True   \n\n     may  month  negative     no    nov    oct  other  positive  poutcome  \\\n0  False   True     False  False  False  False  False     False      True   \n1   True  False     False   True  False  False  False      True     False   \n2   True  False     False   True  False  False  False      True     False   \n3   True  False     False   True  False  False  False      True     False   \n4   True  False     False   True  False  False  False      True     False   \n\n   primary  retired  secondary  self-employed    sep  services  single  \\\n0    False    False      False          False  False     False   False   \n1    False    False      False          False  False     False   False   \n2    False    False       True          False  False     False    True   \n3    False    False       True          False  False     False   False   \n4    False    False      False          False  False     False   False   \n\n   student  success  technician  telephone  tertiary  unemployed  unknown  \\\n0    False    False       False      False     False       False    False   \n1    False    False       False      False      True       False     True   \n2    False    False        True      False     False       False     True   \n3    False    False       False      False     False       False     True   \n4    False    False       False      False     False       False     True   \n\n   veryNegative  veryPositive      y    yes  \n0         False         False   True  False  \n1         False         False  False  False  \n2         False         False  False  False  \n3         False         False  False  False  \n4         False         False  False  False  ",
      "text/html": "<div>\n<style scoped>\n    .dataframe tbody tr th:only-of-type {\n        vertical-align: middle;\n    }\n\n    .dataframe tbody tr th {\n        vertical-align: top;\n    }\n\n    .dataframe thead th {\n        text-align: right;\n    }\n</style>\n<table border=\"1\" class=\"dataframe\">\n  <thead>\n    <tr style=\"text-align: right;\">\n      <th></th>\n      <th>admin.</th>\n      <th>ageBand</th>\n      <th>ageBand1</th>\n      <th>ageBand2</th>\n      <th>ageBand3</th>\n      <th>ageBand4</th>\n      <th>ageBand5</th>\n      <th>apr</th>\n      <th>aug</th>\n      <th>balanceSummary</th>\n      <th>blue-collar</th>\n      <th>cellular</th>\n      <th>contact</th>\n      <th>dec</th>\n      <th>defaultNo</th>\n      <th>defaultValue</th>\n      <th>defaultYes</th>\n      <th>divorced</th>\n      <th>education</th>\n      <th>entrepreneur</th>\n      <th>failure</th>\n      <th>feb</th>\n      <th>houseNo</th>\n      <th>houseYes</th>\n      <th>housemaid</th>\n      <th>housingVal</th>\n      <th>jan</th>\n      <th>job</th>\n      <th>jul</th>\n      <th>jun</th>\n      <th>loanNo</th>\n      <th>loanVal</th>\n      <th>loanYes</th>\n      <th>management</th>\n      <th>mar</th>\n      <th>marital</th>\n      <th>married</th>\n      <th>may</th>\n      <th>month</th>\n      <th>negative</th>\n      <th>no</th>\n      <th>nov</th>\n      <th>oct</th>\n      <th>other</th>\n      <th>positive</th>\n      <th>poutcome</th>\n      <th>primary</th>\n      <th>retired</th>\n      <th>secondary</th>\n      <th>self-employed</th>\n      <th>sep</th>\n      <th>services</th>\n      <th>single</th>\n      <th>student</th>\n      <th>success</th>\n      <th>technician</th>\n      <th>telephone</th>\n      <th>tertiary</th>\n      <th>unemployed</th>\n      <th>unknown</th>\n      <th>veryNegative</th>\n      <th>veryPositive</th>\n      <th>y</th>\n      <th>yes</th>\n    </tr>\n  </thead>\n  <tbody>\n    <tr>\n      <th>0</th>\n      <td>False</td>\n      <td>True</td>\n      <td>False</td>\n      <td>False</td>\n      <td>False</td>\n      <td>False</td>\n      <td>False</td>\n      <td>False</td>\n      <td>False</td>\n      <td>True</td>\n      <td>False</td>\n      <td>False</td>\n      <td>True</td>\n      <td>False</td>\n      <td>False</td>\n      <td>True</td>\n      <td>False</td>\n      <td>False</td>\n      <td>True</td>\n      <td>False</td>\n      <td>False</td>\n      <td>False</td>\n      <td>False</td>\n      <td>False</td>\n      <td>False</td>\n      <td>True</td>\n      <td>False</td>\n      <td>True</td>\n      <td>False</td>\n      <td>False</td>\n      <td>False</td>\n      <td>True</td>\n      <td>False</td>\n      <td>False</td>\n      <td>False</td>\n      <td>True</td>\n      <td>False</td>\n      <td>False</td>\n      <td>True</td>\n      <td>False</td>\n      <td>False</td>\n      <td>False</td>\n      <td>False</td>\n      <td>False</td>\n      <td>False</td>\n      <td>True</td>\n      <td>False</td>\n      <td>False</td>\n      <td>False</td>\n      <td>False</td>\n      <td>False</td>\n      <td>False</td>\n      <td>False</td>\n      <td>False</td>\n      <td>False</td>\n      <td>False</td>\n      <td>False</td>\n      <td>False</td>\n      <td>False</td>\n      <td>False</td>\n      <td>False</td>\n      <td>False</td>\n      <td>True</td>\n      <td>False</td>\n    </tr>\n    <tr>\n      <th>1</th>\n      <td>False</td>\n      <td>False</td>\n      <td>False</td>\n      <td>False</td>\n      <td>False</td>\n      <td>False</td>\n      <td>True</td>\n      <td>False</td>\n      <td>False</td>\n      <td>False</td>\n      <td>False</td>\n      <td>False</td>\n      <td>False</td>\n      <td>False</td>\n      <td>True</td>\n      <td>False</td>\n      <td>False</td>\n      <td>False</td>\n      <td>False</td>\n      <td>False</td>\n      <td>False</td>\n      <td>False</td>\n      <td>False</td>\n      <td>True</td>\n      <td>False</td>\n      <td>False</td>\n      <td>False</td>\n      <td>False</td>\n      <td>False</td>\n      <td>False</td>\n      <td>True</td>\n      <td>False</td>\n      <td>False</td>\n      <td>True</td>\n      <td>False</td>\n      <td>False</td>\n      <td>True</td>\n      <td>True</td>\n      <td>False</td>\n      <td>False</td>\n      <td>True</td>\n      <td>False</td>\n      <td>False</td>\n      <td>False</td>\n      <td>True</td>\n      <td>False</td>\n      <td>False</td>\n      <td>False</td>\n      <td>False</td>\n      <td>False</td>\n      <td>False</td>\n      <td>False</td>\n      <td>False</td>\n      <td>False</td>\n      <td>False</td>\n      <td>False</td>\n      <td>False</td>\n      <td>True</td>\n      <td>False</td>\n      <td>True</td>\n      <td>False</td>\n      <td>False</td>\n      <td>False</td>\n      <td>False</td>\n    </tr>\n    <tr>\n      <th>2</th>\n      <td>False</td>\n      <td>False</td>\n      <td>False</td>\n      <td>False</td>\n      <td>False</td>\n      <td>True</td>\n      <td>False</td>\n      <td>False</td>\n      <td>False</td>\n      <td>False</td>\n      <td>False</td>\n      <td>False</td>\n      <td>False</td>\n      <td>False</td>\n      <td>True</td>\n      <td>False</td>\n      <td>False</td>\n      <td>False</td>\n      <td>False</td>\n      <td>False</td>\n      <td>False</td>\n      <td>False</td>\n      <td>False</td>\n      <td>True</td>\n      <td>False</td>\n      <td>False</td>\n      <td>False</td>\n      <td>False</td>\n      <td>False</td>\n      <td>False</td>\n      <td>True</td>\n      <td>False</td>\n      <td>False</td>\n      <td>False</td>\n      <td>False</td>\n      <td>False</td>\n      <td>False</td>\n      <td>True</td>\n      <td>False</td>\n      <td>False</td>\n      <td>True</td>\n      <td>False</td>\n      <td>False</td>\n      <td>False</td>\n      <td>True</td>\n      <td>False</td>\n      <td>False</td>\n      <td>False</td>\n      <td>True</td>\n      <td>False</td>\n      <td>False</td>\n      <td>False</td>\n      <td>True</td>\n      <td>False</td>\n      <td>False</td>\n      <td>True</td>\n      <td>False</td>\n      <td>False</td>\n      <td>False</td>\n      <td>True</td>\n      <td>False</td>\n      <td>False</td>\n      <td>False</td>\n      <td>False</td>\n    </tr>\n    <tr>\n      <th>3</th>\n      <td>False</td>\n      <td>False</td>\n      <td>False</td>\n      <td>False</td>\n      <td>True</td>\n      <td>False</td>\n      <td>False</td>\n      <td>False</td>\n      <td>False</td>\n      <td>False</td>\n      <td>False</td>\n      <td>False</td>\n      <td>False</td>\n      <td>False</td>\n      <td>True</td>\n      <td>False</td>\n      <td>False</td>\n      <td>False</td>\n      <td>False</td>\n      <td>True</td>\n      <td>False</td>\n      <td>False</td>\n      <td>False</td>\n      <td>True</td>\n      <td>False</td>\n      <td>False</td>\n      <td>False</td>\n      <td>False</td>\n      <td>False</td>\n      <td>False</td>\n      <td>False</td>\n      <td>False</td>\n      <td>True</td>\n      <td>False</td>\n      <td>False</td>\n      <td>False</td>\n      <td>True</td>\n      <td>True</td>\n      <td>False</td>\n      <td>False</td>\n      <td>True</td>\n      <td>False</td>\n      <td>False</td>\n      <td>False</td>\n      <td>True</td>\n      <td>False</td>\n      <td>False</td>\n      <td>False</td>\n      <td>True</td>\n      <td>False</td>\n      <td>False</td>\n      <td>False</td>\n      <td>False</td>\n      <td>False</td>\n      <td>False</td>\n      <td>False</td>\n      <td>False</td>\n      <td>False</td>\n      <td>False</td>\n      <td>True</td>\n      <td>False</td>\n      <td>False</td>\n      <td>False</td>\n      <td>False</td>\n    </tr>\n    <tr>\n      <th>4</th>\n      <td>False</td>\n      <td>False</td>\n      <td>False</td>\n      <td>False</td>\n      <td>False</td>\n      <td>True</td>\n      <td>False</td>\n      <td>False</td>\n      <td>False</td>\n      <td>False</td>\n      <td>True</td>\n      <td>False</td>\n      <td>False</td>\n      <td>False</td>\n      <td>True</td>\n      <td>False</td>\n      <td>False</td>\n      <td>False</td>\n      <td>False</td>\n      <td>False</td>\n      <td>False</td>\n      <td>False</td>\n      <td>False</td>\n      <td>True</td>\n      <td>False</td>\n      <td>False</td>\n      <td>False</td>\n      <td>False</td>\n      <td>False</td>\n      <td>False</td>\n      <td>True</td>\n      <td>False</td>\n      <td>False</td>\n      <td>False</td>\n      <td>False</td>\n      <td>False</td>\n      <td>True</td>\n      <td>True</td>\n      <td>False</td>\n      <td>False</td>\n      <td>True</td>\n      <td>False</td>\n      <td>False</td>\n      <td>False</td>\n      <td>True</td>\n      <td>False</td>\n      <td>False</td>\n      <td>False</td>\n      <td>False</td>\n      <td>False</td>\n      <td>False</td>\n      <td>False</td>\n      <td>False</td>\n      <td>False</td>\n      <td>False</td>\n      <td>False</td>\n      <td>False</td>\n      <td>False</td>\n      <td>False</td>\n      <td>True</td>\n      <td>False</td>\n      <td>False</td>\n      <td>False</td>\n      <td>False</td>\n    </tr>\n  </tbody>\n</table>\n</div>"
     },
     "execution_count": 21,
     "metadata": {},
     "output_type": "execute_result"
    }
   ],
   "source": [
    "te = TransactionEncoder()\n",
    "te_ary = te.fit(file).transform(file)\n",
    "df_a_encoded = pd.DataFrame(te_ary, columns=te.columns_)\n",
    "df_a_encoded.head()"
   ],
   "metadata": {
    "collapsed": false,
    "pycharm": {
     "name": "#%%\n"
    }
   }
  },
  {
   "cell_type": "markdown",
   "source": [
    "Creating Filter Function for frequent Item Sets"
   ],
   "metadata": {
    "collapsed": false,
    "pycharm": {
     "name": "#%% md\n"
    }
   }
  },
  {
   "cell_type": "code",
   "execution_count": 22,
   "outputs": [],
   "source": [
    "def filter_freq_items(freq_items,items=1):\n",
    "    \"\"\"This function filters the frequent items so that we can look a certain n-itemsets\"\"\"\n",
    "    filtered_freq_items = freq_items[freq_items[\"length\"] == items].copy()\n",
    "    return filtered_freq_items"
   ],
   "metadata": {
    "collapsed": false,
    "pycharm": {
     "name": "#%%\n"
    }
   }
  },
  {
   "cell_type": "markdown",
   "source": [
    "Creating Frequent Items List and Association Rules"
   ],
   "metadata": {
    "collapsed": false,
    "pycharm": {
     "name": "#%% md\n"
    }
   }
  },
  {
   "cell_type": "code",
   "execution_count": 25,
   "outputs": [
    {
     "data": {
      "text/plain": "     support               itemsets  length\n1   0.981952            (defaultNo)       1\n6   0.898346             (positive)       1\n17  0.890073  (defaultNo, positive)       2\n5   0.882996                   (no)       1\n16  0.866120        (defaultNo, no)       2\n3   0.839755               (loanNo)       1\n14  0.828386    (defaultNo, loanNo)       2\n8   0.826528              (unknown)       1\n19  0.809741   (defaultNo, unknown)       2\n27  0.788994         (no, positive)       2",
      "text/html": "<div>\n<style scoped>\n    .dataframe tbody tr th:only-of-type {\n        vertical-align: middle;\n    }\n\n    .dataframe tbody tr th {\n        vertical-align: top;\n    }\n\n    .dataframe thead th {\n        text-align: right;\n    }\n</style>\n<table border=\"1\" class=\"dataframe\">\n  <thead>\n    <tr style=\"text-align: right;\">\n      <th></th>\n      <th>support</th>\n      <th>itemsets</th>\n      <th>length</th>\n    </tr>\n  </thead>\n  <tbody>\n    <tr>\n      <th>1</th>\n      <td>0.981952</td>\n      <td>(defaultNo)</td>\n      <td>1</td>\n    </tr>\n    <tr>\n      <th>6</th>\n      <td>0.898346</td>\n      <td>(positive)</td>\n      <td>1</td>\n    </tr>\n    <tr>\n      <th>17</th>\n      <td>0.890073</td>\n      <td>(defaultNo, positive)</td>\n      <td>2</td>\n    </tr>\n    <tr>\n      <th>5</th>\n      <td>0.882996</td>\n      <td>(no)</td>\n      <td>1</td>\n    </tr>\n    <tr>\n      <th>16</th>\n      <td>0.866120</td>\n      <td>(defaultNo, no)</td>\n      <td>2</td>\n    </tr>\n    <tr>\n      <th>3</th>\n      <td>0.839755</td>\n      <td>(loanNo)</td>\n      <td>1</td>\n    </tr>\n    <tr>\n      <th>14</th>\n      <td>0.828386</td>\n      <td>(defaultNo, loanNo)</td>\n      <td>2</td>\n    </tr>\n    <tr>\n      <th>8</th>\n      <td>0.826528</td>\n      <td>(unknown)</td>\n      <td>1</td>\n    </tr>\n    <tr>\n      <th>19</th>\n      <td>0.809741</td>\n      <td>(defaultNo, unknown)</td>\n      <td>2</td>\n    </tr>\n    <tr>\n      <th>27</th>\n      <td>0.788994</td>\n      <td>(no, positive)</td>\n      <td>2</td>\n    </tr>\n  </tbody>\n</table>\n</div>"
     },
     "execution_count": 25,
     "metadata": {},
     "output_type": "execute_result"
    }
   ],
   "source": [
    "# Creating Frequent Items List\n",
    "freq_items = apriori(df_a_encoded, min_support=.5, use_colnames=True)\n",
    "freq_items['length'] = freq_items['itemsets'].apply(lambda x: len(x))\n",
    "freq_items.sort_values([\"support\", \"length\"], inplace=True, ascending=False)\n",
    "freq_items.head(10)"
   ],
   "metadata": {
    "collapsed": false,
    "pycharm": {
     "name": "#%%\n"
    }
   }
  },
  {
   "cell_type": "code",
   "execution_count": 26,
   "outputs": [
    {
     "data": {
      "text/plain": "                        antecedents                     consequents  \\\n233                      (houseYes)                 (defaultNo, no)   \n228                 (defaultNo, no)                      (houseYes)   \n227                            (no)                      (houseYes)   \n226                      (houseYes)                            (no)   \n232                            (no)           (defaultNo, houseYes)   \n229           (defaultNo, houseYes)                            (no)   \n176         (defaultNo, no, loanNo)             (unknown, positive)   \n177             (unknown, positive)         (defaultNo, no, loanNo)   \n185                    (no, loanNo)  (defaultNo, unknown, positive)   \n168  (defaultNo, unknown, positive)                    (no, loanNo)   \n\n     antecedent support  consequent support   support  confidence      lift  \\\n233            0.555826            0.866120  0.504048    0.906844  1.047020   \n228            0.866120            0.555826  0.504048    0.581961  1.047020   \n227            0.882996            0.555826  0.513028    0.581008  1.045306   \n226            0.555826            0.882996  0.513028    0.923000  1.045306   \n232            0.882996            0.546205  0.504048    0.570838  1.045100   \n229            0.546205            0.882996  0.504048    0.922818  1.045100   \n176            0.722928            0.738830  0.557463    0.771118  1.043701   \n177            0.738830            0.722928  0.557463    0.754520  1.043701   \n185            0.733478            0.731045  0.557463    0.760027  1.039644   \n168            0.731045            0.733478  0.557463    0.762556  1.039644   \n\n     leverage  conviction  \n233  0.022636    1.437170  \n228  0.022636    1.062518  \n227  0.022236    1.060102  \n226  0.022236    1.519545  \n232  0.021751    1.057399  \n229  0.021751    1.515961  \n176  0.023342    1.141068  \n177  0.023342    1.128699  \n185  0.021257    1.120770  \n168  0.021257    1.122463  ",
      "text/html": "<div>\n<style scoped>\n    .dataframe tbody tr th:only-of-type {\n        vertical-align: middle;\n    }\n\n    .dataframe tbody tr th {\n        vertical-align: top;\n    }\n\n    .dataframe thead th {\n        text-align: right;\n    }\n</style>\n<table border=\"1\" class=\"dataframe\">\n  <thead>\n    <tr style=\"text-align: right;\">\n      <th></th>\n      <th>antecedents</th>\n      <th>consequents</th>\n      <th>antecedent support</th>\n      <th>consequent support</th>\n      <th>support</th>\n      <th>confidence</th>\n      <th>lift</th>\n      <th>leverage</th>\n      <th>conviction</th>\n    </tr>\n  </thead>\n  <tbody>\n    <tr>\n      <th>233</th>\n      <td>(houseYes)</td>\n      <td>(defaultNo, no)</td>\n      <td>0.555826</td>\n      <td>0.866120</td>\n      <td>0.504048</td>\n      <td>0.906844</td>\n      <td>1.047020</td>\n      <td>0.022636</td>\n      <td>1.437170</td>\n    </tr>\n    <tr>\n      <th>228</th>\n      <td>(defaultNo, no)</td>\n      <td>(houseYes)</td>\n      <td>0.866120</td>\n      <td>0.555826</td>\n      <td>0.504048</td>\n      <td>0.581961</td>\n      <td>1.047020</td>\n      <td>0.022636</td>\n      <td>1.062518</td>\n    </tr>\n    <tr>\n      <th>227</th>\n      <td>(no)</td>\n      <td>(houseYes)</td>\n      <td>0.882996</td>\n      <td>0.555826</td>\n      <td>0.513028</td>\n      <td>0.581008</td>\n      <td>1.045306</td>\n      <td>0.022236</td>\n      <td>1.060102</td>\n    </tr>\n    <tr>\n      <th>226</th>\n      <td>(houseYes)</td>\n      <td>(no)</td>\n      <td>0.555826</td>\n      <td>0.882996</td>\n      <td>0.513028</td>\n      <td>0.923000</td>\n      <td>1.045306</td>\n      <td>0.022236</td>\n      <td>1.519545</td>\n    </tr>\n    <tr>\n      <th>232</th>\n      <td>(no)</td>\n      <td>(defaultNo, houseYes)</td>\n      <td>0.882996</td>\n      <td>0.546205</td>\n      <td>0.504048</td>\n      <td>0.570838</td>\n      <td>1.045100</td>\n      <td>0.021751</td>\n      <td>1.057399</td>\n    </tr>\n    <tr>\n      <th>229</th>\n      <td>(defaultNo, houseYes)</td>\n      <td>(no)</td>\n      <td>0.546205</td>\n      <td>0.882996</td>\n      <td>0.504048</td>\n      <td>0.922818</td>\n      <td>1.045100</td>\n      <td>0.021751</td>\n      <td>1.515961</td>\n    </tr>\n    <tr>\n      <th>176</th>\n      <td>(defaultNo, no, loanNo)</td>\n      <td>(unknown, positive)</td>\n      <td>0.722928</td>\n      <td>0.738830</td>\n      <td>0.557463</td>\n      <td>0.771118</td>\n      <td>1.043701</td>\n      <td>0.023342</td>\n      <td>1.141068</td>\n    </tr>\n    <tr>\n      <th>177</th>\n      <td>(unknown, positive)</td>\n      <td>(defaultNo, no, loanNo)</td>\n      <td>0.738830</td>\n      <td>0.722928</td>\n      <td>0.557463</td>\n      <td>0.754520</td>\n      <td>1.043701</td>\n      <td>0.023342</td>\n      <td>1.128699</td>\n    </tr>\n    <tr>\n      <th>185</th>\n      <td>(no, loanNo)</td>\n      <td>(defaultNo, unknown, positive)</td>\n      <td>0.733478</td>\n      <td>0.731045</td>\n      <td>0.557463</td>\n      <td>0.760027</td>\n      <td>1.039644</td>\n      <td>0.021257</td>\n      <td>1.120770</td>\n    </tr>\n    <tr>\n      <th>168</th>\n      <td>(defaultNo, unknown, positive)</td>\n      <td>(no, loanNo)</td>\n      <td>0.731045</td>\n      <td>0.733478</td>\n      <td>0.557463</td>\n      <td>0.762556</td>\n      <td>1.039644</td>\n      <td>0.021257</td>\n      <td>1.122463</td>\n    </tr>\n  </tbody>\n</table>\n</div>"
     },
     "execution_count": 26,
     "metadata": {},
     "output_type": "execute_result"
    }
   ],
   "source": [
    "# Creating Association Rules\n",
    "rules = association_rules(freq_items, metric=\"confidence\", min_threshold=0.3)\n",
    "rules.sort_values([\"lift\"], inplace=True, ascending=False)\n",
    "rules.head(10)"
   ],
   "metadata": {
    "collapsed": false,
    "pycharm": {
     "name": "#%%\n"
    }
   }
  },
  {
   "cell_type": "markdown",
   "source": [
    "### Association rules analysis\n",
    "Below are different tables that show the break down of the frequent item sets\n",
    "#### Frequent Items"
   ],
   "metadata": {
    "collapsed": false,
    "pycharm": {
     "name": "#%% md\n"
    }
   }
  },
  {
   "cell_type": "code",
   "execution_count": 33,
   "outputs": [
    {
     "data": {
      "text/plain": "     support                                    itemsets  length\n51  0.557463  (positive, unknown, no, defaultNo, loanNo)       5",
      "text/html": "<div>\n<style scoped>\n    .dataframe tbody tr th:only-of-type {\n        vertical-align: middle;\n    }\n\n    .dataframe tbody tr th {\n        vertical-align: top;\n    }\n\n    .dataframe thead th {\n        text-align: right;\n    }\n</style>\n<table border=\"1\" class=\"dataframe\">\n  <thead>\n    <tr style=\"text-align: right;\">\n      <th></th>\n      <th>support</th>\n      <th>itemsets</th>\n      <th>length</th>\n    </tr>\n  </thead>\n  <tbody>\n    <tr>\n      <th>51</th>\n      <td>0.557463</td>\n      <td>(positive, unknown, no, defaultNo, loanNo)</td>\n      <td>5</td>\n    </tr>\n  </tbody>\n</table>\n</div>"
     },
     "execution_count": 33,
     "metadata": {},
     "output_type": "execute_result"
    }
   ],
   "source": [
    "filter_freq_items(freq_items,5)"
   ],
   "metadata": {
    "collapsed": false,
    "pycharm": {
     "name": "#%%\n"
    }
   }
  },
  {
   "cell_type": "code",
   "execution_count": 34,
   "outputs": [
    {
     "data": {
      "text/plain": "     support                                itemsets  length\n46  0.660444       (defaultNo, no, positive, loanNo)       4\n49  0.659692      (defaultNo, unknown, no, positive)       4\n48  0.622180  (defaultNo, unknown, positive, loanNo)       4\n47  0.611298        (defaultNo, unknown, no, loanNo)       4\n50  0.562107         (unknown, no, positive, loanNo)       4",
      "text/html": "<div>\n<style scoped>\n    .dataframe tbody tr th:only-of-type {\n        vertical-align: middle;\n    }\n\n    .dataframe tbody tr th {\n        vertical-align: top;\n    }\n\n    .dataframe thead th {\n        text-align: right;\n    }\n</style>\n<table border=\"1\" class=\"dataframe\">\n  <thead>\n    <tr style=\"text-align: right;\">\n      <th></th>\n      <th>support</th>\n      <th>itemsets</th>\n      <th>length</th>\n    </tr>\n  </thead>\n  <tbody>\n    <tr>\n      <th>46</th>\n      <td>0.660444</td>\n      <td>(defaultNo, no, positive, loanNo)</td>\n      <td>4</td>\n    </tr>\n    <tr>\n      <th>49</th>\n      <td>0.659692</td>\n      <td>(defaultNo, unknown, no, positive)</td>\n      <td>4</td>\n    </tr>\n    <tr>\n      <th>48</th>\n      <td>0.622180</td>\n      <td>(defaultNo, unknown, positive, loanNo)</td>\n      <td>4</td>\n    </tr>\n    <tr>\n      <th>47</th>\n      <td>0.611298</td>\n      <td>(defaultNo, unknown, no, loanNo)</td>\n      <td>4</td>\n    </tr>\n    <tr>\n      <th>50</th>\n      <td>0.562107</td>\n      <td>(unknown, no, positive, loanNo)</td>\n      <td>4</td>\n    </tr>\n  </tbody>\n</table>\n</div>"
     },
     "execution_count": 34,
     "metadata": {},
     "output_type": "execute_result"
    }
   ],
   "source": [
    "filter_freq_items(freq_items,4)"
   ],
   "metadata": {
    "collapsed": false,
    "pycharm": {
     "name": "#%%\n"
    }
   }
  },
  {
   "cell_type": "code",
   "execution_count": 38,
   "outputs": [
    {
     "data": {
      "text/plain": "     support                        itemsets  length\n39  0.781253       (defaultNo, no, positive)       3\n35  0.760440   (defaultNo, positive, loanNo)       3\n40  0.733323        (defaultNo, unknown, no)       3\n41  0.731045  (defaultNo, unknown, positive)       3\n34  0.722928         (defaultNo, no, loanNo)       3\n36  0.679842    (defaultNo, unknown, loanNo)       3\n45  0.666991         (unknown, no, positive)       3\n42  0.665399          (no, positive, loanNo)       3\n44  0.627157     (unknown, positive, loanNo)       3\n43  0.621096           (unknown, no, loanNo)       3",
      "text/html": "<div>\n<style scoped>\n    .dataframe tbody tr th:only-of-type {\n        vertical-align: middle;\n    }\n\n    .dataframe tbody tr th {\n        vertical-align: top;\n    }\n\n    .dataframe thead th {\n        text-align: right;\n    }\n</style>\n<table border=\"1\" class=\"dataframe\">\n  <thead>\n    <tr style=\"text-align: right;\">\n      <th></th>\n      <th>support</th>\n      <th>itemsets</th>\n      <th>length</th>\n    </tr>\n  </thead>\n  <tbody>\n    <tr>\n      <th>39</th>\n      <td>0.781253</td>\n      <td>(defaultNo, no, positive)</td>\n      <td>3</td>\n    </tr>\n    <tr>\n      <th>35</th>\n      <td>0.760440</td>\n      <td>(defaultNo, positive, loanNo)</td>\n      <td>3</td>\n    </tr>\n    <tr>\n      <th>40</th>\n      <td>0.733323</td>\n      <td>(defaultNo, unknown, no)</td>\n      <td>3</td>\n    </tr>\n    <tr>\n      <th>41</th>\n      <td>0.731045</td>\n      <td>(defaultNo, unknown, positive)</td>\n      <td>3</td>\n    </tr>\n    <tr>\n      <th>34</th>\n      <td>0.722928</td>\n      <td>(defaultNo, no, loanNo)</td>\n      <td>3</td>\n    </tr>\n    <tr>\n      <th>36</th>\n      <td>0.679842</td>\n      <td>(defaultNo, unknown, loanNo)</td>\n      <td>3</td>\n    </tr>\n    <tr>\n      <th>45</th>\n      <td>0.666991</td>\n      <td>(unknown, no, positive)</td>\n      <td>3</td>\n    </tr>\n    <tr>\n      <th>42</th>\n      <td>0.665399</td>\n      <td>(no, positive, loanNo)</td>\n      <td>3</td>\n    </tr>\n    <tr>\n      <th>44</th>\n      <td>0.627157</td>\n      <td>(unknown, positive, loanNo)</td>\n      <td>3</td>\n    </tr>\n    <tr>\n      <th>43</th>\n      <td>0.621096</td>\n      <td>(unknown, no, loanNo)</td>\n      <td>3</td>\n    </tr>\n  </tbody>\n</table>\n</div>"
     },
     "execution_count": 38,
     "metadata": {},
     "output_type": "execute_result"
    }
   ],
   "source": [
    "filter_freq_items(freq_items,3).head(10)"
   ],
   "metadata": {
    "collapsed": false,
    "pycharm": {
     "name": "#%%\n"
    }
   }
  },
  {
   "cell_type": "code",
   "execution_count": 37,
   "outputs": [
    {
     "data": {
      "text/plain": "     support               itemsets  length\n17  0.890073  (defaultNo, positive)       2\n16  0.866120        (defaultNo, no)       2\n14  0.828386    (defaultNo, loanNo)       2\n19  0.809741   (defaultNo, unknown)       2\n27  0.788994         (no, positive)       2\n22  0.765770     (positive, loanNo)       2\n28  0.749049          (unknown, no)       2\n29  0.738830    (unknown, positive)       2\n21  0.733478           (no, loanNo)       2\n23  0.690392      (unknown, loanNo)       2",
      "text/html": "<div>\n<style scoped>\n    .dataframe tbody tr th:only-of-type {\n        vertical-align: middle;\n    }\n\n    .dataframe tbody tr th {\n        vertical-align: top;\n    }\n\n    .dataframe thead th {\n        text-align: right;\n    }\n</style>\n<table border=\"1\" class=\"dataframe\">\n  <thead>\n    <tr style=\"text-align: right;\">\n      <th></th>\n      <th>support</th>\n      <th>itemsets</th>\n      <th>length</th>\n    </tr>\n  </thead>\n  <tbody>\n    <tr>\n      <th>17</th>\n      <td>0.890073</td>\n      <td>(defaultNo, positive)</td>\n      <td>2</td>\n    </tr>\n    <tr>\n      <th>16</th>\n      <td>0.866120</td>\n      <td>(defaultNo, no)</td>\n      <td>2</td>\n    </tr>\n    <tr>\n      <th>14</th>\n      <td>0.828386</td>\n      <td>(defaultNo, loanNo)</td>\n      <td>2</td>\n    </tr>\n    <tr>\n      <th>19</th>\n      <td>0.809741</td>\n      <td>(defaultNo, unknown)</td>\n      <td>2</td>\n    </tr>\n    <tr>\n      <th>27</th>\n      <td>0.788994</td>\n      <td>(no, positive)</td>\n      <td>2</td>\n    </tr>\n    <tr>\n      <th>22</th>\n      <td>0.765770</td>\n      <td>(positive, loanNo)</td>\n      <td>2</td>\n    </tr>\n    <tr>\n      <th>28</th>\n      <td>0.749049</td>\n      <td>(unknown, no)</td>\n      <td>2</td>\n    </tr>\n    <tr>\n      <th>29</th>\n      <td>0.738830</td>\n      <td>(unknown, positive)</td>\n      <td>2</td>\n    </tr>\n    <tr>\n      <th>21</th>\n      <td>0.733478</td>\n      <td>(no, loanNo)</td>\n      <td>2</td>\n    </tr>\n    <tr>\n      <th>23</th>\n      <td>0.690392</td>\n      <td>(unknown, loanNo)</td>\n      <td>2</td>\n    </tr>\n  </tbody>\n</table>\n</div>"
     },
     "execution_count": 37,
     "metadata": {},
     "output_type": "execute_result"
    }
   ],
   "source": [
    "filter_freq_items(freq_items,2).head(10)"
   ],
   "metadata": {
    "collapsed": false,
    "pycharm": {
     "name": "#%%\n"
    }
   }
  },
  {
   "cell_type": "markdown",
   "source": [
    "After breaking down the frequent item sets it is interesting to learn that there is only\n",
    "1 frequent item set that contains 5 words with a support over 5. This will make our cluster analysis\n",
    "a bit more interesting later. With that said.\n",
    "Positive balance, unknown job, no default and no loan is not is not likely to subscribe\n",
    "at least with a .557463 support.\n",
    "\n",
    "It is also interesting to see that the majority of the frequent item sets contain \"no\" meaning\n",
    "that they are not likely to subscribe. The majority of the banks customers had defaultno with a\n",
    "positive balance summary, or were not likely to subscribe.\n",
    "\n",
    "It is also interesting to see that yes is not included in the frequent item sets. meaning that\n",
    "the majority of people that say yes do not have a whole lot in common with others that said yes\n",
    "\n",
    "#### Association rules"
   ],
   "metadata": {
    "collapsed": false,
    "pycharm": {
     "name": "#%% md\n"
    }
   }
  },
  {
   "cell_type": "code",
   "execution_count": 53,
   "outputs": [
    {
     "data": {
      "text/plain": "         antecedents            consequents  antecedent support  \\\n233       (houseYes)        (defaultNo, no)            0.555826   \n228  (defaultNo, no)             (houseYes)            0.866120   \n227             (no)             (houseYes)            0.882996   \n226       (houseYes)                   (no)            0.555826   \n232             (no)  (defaultNo, houseYes)            0.882996   \n\n     consequent support   support  confidence      lift  leverage  conviction  \n233            0.866120  0.504048    0.906844  1.047020  0.022636    1.437170  \n228            0.555826  0.504048    0.581961  1.047020  0.022636    1.062518  \n227            0.555826  0.513028    0.581008  1.045306  0.022236    1.060102  \n226            0.882996  0.513028    0.923000  1.045306  0.022236    1.519545  \n232            0.546205  0.504048    0.570838  1.045100  0.021751    1.057399  ",
      "text/html": "<div>\n<style scoped>\n    .dataframe tbody tr th:only-of-type {\n        vertical-align: middle;\n    }\n\n    .dataframe tbody tr th {\n        vertical-align: top;\n    }\n\n    .dataframe thead th {\n        text-align: right;\n    }\n</style>\n<table border=\"1\" class=\"dataframe\">\n  <thead>\n    <tr style=\"text-align: right;\">\n      <th></th>\n      <th>antecedents</th>\n      <th>consequents</th>\n      <th>antecedent support</th>\n      <th>consequent support</th>\n      <th>support</th>\n      <th>confidence</th>\n      <th>lift</th>\n      <th>leverage</th>\n      <th>conviction</th>\n    </tr>\n  </thead>\n  <tbody>\n    <tr>\n      <th>233</th>\n      <td>(houseYes)</td>\n      <td>(defaultNo, no)</td>\n      <td>0.555826</td>\n      <td>0.866120</td>\n      <td>0.504048</td>\n      <td>0.906844</td>\n      <td>1.047020</td>\n      <td>0.022636</td>\n      <td>1.437170</td>\n    </tr>\n    <tr>\n      <th>228</th>\n      <td>(defaultNo, no)</td>\n      <td>(houseYes)</td>\n      <td>0.866120</td>\n      <td>0.555826</td>\n      <td>0.504048</td>\n      <td>0.581961</td>\n      <td>1.047020</td>\n      <td>0.022636</td>\n      <td>1.062518</td>\n    </tr>\n    <tr>\n      <th>227</th>\n      <td>(no)</td>\n      <td>(houseYes)</td>\n      <td>0.882996</td>\n      <td>0.555826</td>\n      <td>0.513028</td>\n      <td>0.581008</td>\n      <td>1.045306</td>\n      <td>0.022236</td>\n      <td>1.060102</td>\n    </tr>\n    <tr>\n      <th>226</th>\n      <td>(houseYes)</td>\n      <td>(no)</td>\n      <td>0.555826</td>\n      <td>0.882996</td>\n      <td>0.513028</td>\n      <td>0.923000</td>\n      <td>1.045306</td>\n      <td>0.022236</td>\n      <td>1.519545</td>\n    </tr>\n    <tr>\n      <th>232</th>\n      <td>(no)</td>\n      <td>(defaultNo, houseYes)</td>\n      <td>0.882996</td>\n      <td>0.546205</td>\n      <td>0.504048</td>\n      <td>0.570838</td>\n      <td>1.045100</td>\n      <td>0.021751</td>\n      <td>1.057399</td>\n    </tr>\n  </tbody>\n</table>\n</div>"
     },
     "execution_count": 53,
     "metadata": {},
     "output_type": "execute_result"
    }
   ],
   "source": [
    "rules.sort_values('lift', ascending=False).head(5)"
   ],
   "metadata": {
    "collapsed": false,
    "pycharm": {
     "name": "#%%\n"
    }
   }
  },
  {
   "cell_type": "markdown",
   "source": [
    "The top 5 most interesting rules, defined by the highest lift values is that homeowners\n",
    "are not likely to default and subscribe. This not exactly shocking to find out. It is intresting to see\n",
    "that the lift values are not extremely high."
   ],
   "metadata": {
    "collapsed": false,
    "pycharm": {
     "name": "#%% md\n"
    }
   }
  },
  {
   "cell_type": "code",
   "execution_count": 54,
   "outputs": [
    {
     "data": {
      "text/plain": "                         antecedents  consequents  antecedent support  \\\n20                (positive, loanNo)  (defaultNo)            0.765770   \n71            (no, positive, loanNo)  (defaultNo)            0.665399   \n107      (unknown, positive, loanNo)  (defaultNo)            0.627157   \n163  (unknown, no, positive, loanNo)  (defaultNo)            0.562107   \n210              (married, positive)  (defaultNo)            0.541206   \n\n     consequent support   support  confidence      lift  leverage  conviction  \n20             0.981952  0.760440    0.993039  1.011291  0.008490    2.592815  \n71             0.981952  0.660444    0.992554  1.010797  0.007055    2.423952  \n107            0.981952  0.622180    0.992065  1.010299  0.006343    2.274488  \n163            0.981952  0.557463    0.991737  1.009965  0.005500    2.184189  \n210            0.981952  0.536694    0.991663  1.009890  0.005256    2.164823  ",
      "text/html": "<div>\n<style scoped>\n    .dataframe tbody tr th:only-of-type {\n        vertical-align: middle;\n    }\n\n    .dataframe tbody tr th {\n        vertical-align: top;\n    }\n\n    .dataframe thead th {\n        text-align: right;\n    }\n</style>\n<table border=\"1\" class=\"dataframe\">\n  <thead>\n    <tr style=\"text-align: right;\">\n      <th></th>\n      <th>antecedents</th>\n      <th>consequents</th>\n      <th>antecedent support</th>\n      <th>consequent support</th>\n      <th>support</th>\n      <th>confidence</th>\n      <th>lift</th>\n      <th>leverage</th>\n      <th>conviction</th>\n    </tr>\n  </thead>\n  <tbody>\n    <tr>\n      <th>20</th>\n      <td>(positive, loanNo)</td>\n      <td>(defaultNo)</td>\n      <td>0.765770</td>\n      <td>0.981952</td>\n      <td>0.760440</td>\n      <td>0.993039</td>\n      <td>1.011291</td>\n      <td>0.008490</td>\n      <td>2.592815</td>\n    </tr>\n    <tr>\n      <th>71</th>\n      <td>(no, positive, loanNo)</td>\n      <td>(defaultNo)</td>\n      <td>0.665399</td>\n      <td>0.981952</td>\n      <td>0.660444</td>\n      <td>0.992554</td>\n      <td>1.010797</td>\n      <td>0.007055</td>\n      <td>2.423952</td>\n    </tr>\n    <tr>\n      <th>107</th>\n      <td>(unknown, positive, loanNo)</td>\n      <td>(defaultNo)</td>\n      <td>0.627157</td>\n      <td>0.981952</td>\n      <td>0.622180</td>\n      <td>0.992065</td>\n      <td>1.010299</td>\n      <td>0.006343</td>\n      <td>2.274488</td>\n    </tr>\n    <tr>\n      <th>163</th>\n      <td>(unknown, no, positive, loanNo)</td>\n      <td>(defaultNo)</td>\n      <td>0.562107</td>\n      <td>0.981952</td>\n      <td>0.557463</td>\n      <td>0.991737</td>\n      <td>1.009965</td>\n      <td>0.005500</td>\n      <td>2.184189</td>\n    </tr>\n    <tr>\n      <th>210</th>\n      <td>(married, positive)</td>\n      <td>(defaultNo)</td>\n      <td>0.541206</td>\n      <td>0.981952</td>\n      <td>0.536694</td>\n      <td>0.991663</td>\n      <td>1.009890</td>\n      <td>0.005256</td>\n      <td>2.164823</td>\n    </tr>\n  </tbody>\n</table>\n</div>"
     },
     "execution_count": 54,
     "metadata": {},
     "output_type": "execute_result"
    }
   ],
   "source": [
    "rules.sort_values('confidence', ascending=False).head(5)"
   ],
   "metadata": {
    "collapsed": false,
    "pycharm": {
     "name": "#%%\n"
    }
   }
  },
  {
   "cell_type": "markdown",
   "source": [
    "Looking at the top five strong rules reveals th default no has the strongest confidence if\n",
    "the antecedents are, loanNo, positive bank account  and are married or have an unknown job.\n",
    "\n",
    "Unfortunately these word associations are not leading us to find anything that is helping find rules\n",
    "that are indicative of a successful campaign. It is for that reason that I will continue data mining with the\n",
    "remain algorithms."
   ],
   "metadata": {
    "collapsed": false,
    "pycharm": {
     "name": "#%% md\n"
    }
   }
  },
  {
   "cell_type": "markdown",
   "source": [
    "### Feature Engineering for the following algorithms\n",
    "- Decision tree Classification\n",
    "- Naive Bayes Classification\n",
    "- kmeans and dbscan clustering\n",
    "\n",
    "First we must take all the data and numericalize it"
   ],
   "metadata": {
    "collapsed": false,
    "pycharm": {
     "name": "#%% md\n"
    }
   }
  },
  {
   "cell_type": "code",
   "execution_count": 55,
   "outputs": [
    {
     "name": "stdout",
     "output_type": "stream",
     "text": [
      "Post Conversion of Data into numeric, dropping pdays, and normalizing balance:\n"
     ]
    },
    {
     "data": {
      "text/plain": "   age  job  marital  education  default   balance  housing  loan  contact  \\\n0   58    4        1          2        0  0.092259        1     0        2   \n1   44    9        2          1        0  0.073067        1     0        2   \n2   33    2        1          1        0  0.072822        1     1        2   \n3   47    1        1          3        0  0.086476        1     0        2   \n4   33   11        2          3        0  0.072812        0     0        2   \n5   35    4        1          2        0  0.074901        1     0        2   \n6   28    4        2          2        0  0.076862        1     1        2   \n7   42    2        0          2        1  0.072822        1     0        2   \n8   58    5        1          0        0  0.073902        1     0        2   \n9   43    9        2          1        0  0.078187        1     0        2   \n\n   day  month  duration  campaign  previous  poutcome  y  \n0    5      8       261         1         0         3  0  \n1    5      8       151         1         0         3  0  \n2    5      8        76         1         0         3  0  \n3    5      8        92         1         0         3  0  \n4    5      8       198         1         0         3  0  \n5    5      8       139         1         0         3  0  \n6    5      8       217         1         0         3  0  \n7    5      8       380         1         0         3  0  \n8    5      8        50         1         0         3  0  \n9    5      8        55         1         0         3  0  ",
      "text/html": "<div>\n<style scoped>\n    .dataframe tbody tr th:only-of-type {\n        vertical-align: middle;\n    }\n\n    .dataframe tbody tr th {\n        vertical-align: top;\n    }\n\n    .dataframe thead th {\n        text-align: right;\n    }\n</style>\n<table border=\"1\" class=\"dataframe\">\n  <thead>\n    <tr style=\"text-align: right;\">\n      <th></th>\n      <th>age</th>\n      <th>job</th>\n      <th>marital</th>\n      <th>education</th>\n      <th>default</th>\n      <th>balance</th>\n      <th>housing</th>\n      <th>loan</th>\n      <th>contact</th>\n      <th>day</th>\n      <th>month</th>\n      <th>duration</th>\n      <th>campaign</th>\n      <th>previous</th>\n      <th>poutcome</th>\n      <th>y</th>\n    </tr>\n  </thead>\n  <tbody>\n    <tr>\n      <th>0</th>\n      <td>58</td>\n      <td>4</td>\n      <td>1</td>\n      <td>2</td>\n      <td>0</td>\n      <td>0.092259</td>\n      <td>1</td>\n      <td>0</td>\n      <td>2</td>\n      <td>5</td>\n      <td>8</td>\n      <td>261</td>\n      <td>1</td>\n      <td>0</td>\n      <td>3</td>\n      <td>0</td>\n    </tr>\n    <tr>\n      <th>1</th>\n      <td>44</td>\n      <td>9</td>\n      <td>2</td>\n      <td>1</td>\n      <td>0</td>\n      <td>0.073067</td>\n      <td>1</td>\n      <td>0</td>\n      <td>2</td>\n      <td>5</td>\n      <td>8</td>\n      <td>151</td>\n      <td>1</td>\n      <td>0</td>\n      <td>3</td>\n      <td>0</td>\n    </tr>\n    <tr>\n      <th>2</th>\n      <td>33</td>\n      <td>2</td>\n      <td>1</td>\n      <td>1</td>\n      <td>0</td>\n      <td>0.072822</td>\n      <td>1</td>\n      <td>1</td>\n      <td>2</td>\n      <td>5</td>\n      <td>8</td>\n      <td>76</td>\n      <td>1</td>\n      <td>0</td>\n      <td>3</td>\n      <td>0</td>\n    </tr>\n    <tr>\n      <th>3</th>\n      <td>47</td>\n      <td>1</td>\n      <td>1</td>\n      <td>3</td>\n      <td>0</td>\n      <td>0.086476</td>\n      <td>1</td>\n      <td>0</td>\n      <td>2</td>\n      <td>5</td>\n      <td>8</td>\n      <td>92</td>\n      <td>1</td>\n      <td>0</td>\n      <td>3</td>\n      <td>0</td>\n    </tr>\n    <tr>\n      <th>4</th>\n      <td>33</td>\n      <td>11</td>\n      <td>2</td>\n      <td>3</td>\n      <td>0</td>\n      <td>0.072812</td>\n      <td>0</td>\n      <td>0</td>\n      <td>2</td>\n      <td>5</td>\n      <td>8</td>\n      <td>198</td>\n      <td>1</td>\n      <td>0</td>\n      <td>3</td>\n      <td>0</td>\n    </tr>\n    <tr>\n      <th>5</th>\n      <td>35</td>\n      <td>4</td>\n      <td>1</td>\n      <td>2</td>\n      <td>0</td>\n      <td>0.074901</td>\n      <td>1</td>\n      <td>0</td>\n      <td>2</td>\n      <td>5</td>\n      <td>8</td>\n      <td>139</td>\n      <td>1</td>\n      <td>0</td>\n      <td>3</td>\n      <td>0</td>\n    </tr>\n    <tr>\n      <th>6</th>\n      <td>28</td>\n      <td>4</td>\n      <td>2</td>\n      <td>2</td>\n      <td>0</td>\n      <td>0.076862</td>\n      <td>1</td>\n      <td>1</td>\n      <td>2</td>\n      <td>5</td>\n      <td>8</td>\n      <td>217</td>\n      <td>1</td>\n      <td>0</td>\n      <td>3</td>\n      <td>0</td>\n    </tr>\n    <tr>\n      <th>7</th>\n      <td>42</td>\n      <td>2</td>\n      <td>0</td>\n      <td>2</td>\n      <td>1</td>\n      <td>0.072822</td>\n      <td>1</td>\n      <td>0</td>\n      <td>2</td>\n      <td>5</td>\n      <td>8</td>\n      <td>380</td>\n      <td>1</td>\n      <td>0</td>\n      <td>3</td>\n      <td>0</td>\n    </tr>\n    <tr>\n      <th>8</th>\n      <td>58</td>\n      <td>5</td>\n      <td>1</td>\n      <td>0</td>\n      <td>0</td>\n      <td>0.073902</td>\n      <td>1</td>\n      <td>0</td>\n      <td>2</td>\n      <td>5</td>\n      <td>8</td>\n      <td>50</td>\n      <td>1</td>\n      <td>0</td>\n      <td>3</td>\n      <td>0</td>\n    </tr>\n    <tr>\n      <th>9</th>\n      <td>43</td>\n      <td>9</td>\n      <td>2</td>\n      <td>1</td>\n      <td>0</td>\n      <td>0.078187</td>\n      <td>1</td>\n      <td>0</td>\n      <td>2</td>\n      <td>5</td>\n      <td>8</td>\n      <td>55</td>\n      <td>1</td>\n      <td>0</td>\n      <td>3</td>\n      <td>0</td>\n    </tr>\n  </tbody>\n</table>\n</div>"
     },
     "execution_count": 55,
     "metadata": {},
     "output_type": "execute_result"
    }
   ],
   "source": [
    "# Creating Categories for ages then making categories\n",
    "df_b['job'] = df_b['job'].astype('category')\n",
    "df_b['job'] = df_b['job'].cat.codes\n",
    "df_b['marital'] = df_b['marital'].astype('category')\n",
    "df_b['marital'] = df_b['marital'].cat.codes\n",
    "df_b['education'] = df_b['education'].astype('category')\n",
    "df_b['education'] = df_b['education'].cat.codes\n",
    "df_b['default'] = df_b['default'].astype('category')\n",
    "df_b['default'] = df_b['default'].cat.codes\n",
    "df_b['contact'] = df_b['contact'].astype('category')\n",
    "df_b['contact'] = df_b['contact'].cat.codes\n",
    "df_b['month'] = df_b['month'].astype('category')\n",
    "df_b['month'] = df_b['month'].cat.codes\n",
    "df_b['poutcome'] = df_b['poutcome'].astype('category')\n",
    "df_b['poutcome'] = df_b['poutcome'].cat.codes\n",
    "df_b['housing'] = df_b['housing'].astype('category')\n",
    "df_b['housing'] = df_b['housing'].cat.codes\n",
    "df_b['loan'] = df_b['loan'].astype('category')\n",
    "df_b['loan'] = df_b['loan'].cat.codes\n",
    "df_b['y'] = df_b['y'].astype('category')\n",
    "df_b['y'] = df_b['y'].cat.codes\n",
    "df_b = df_b.drop('pdays',axis=1)\n",
    "df_b['balance'] = (df_b['balance'] - df_b['balance'].min()) / ( df_b['balance'].max() - df_b['balance'].min())\n",
    "print(\"Post Conversion of Data into numeric, dropping pdays, and normalizing balance:\")\n",
    "df_b.head(10)"
   ],
   "metadata": {
    "collapsed": false,
    "pycharm": {
     "name": "#%%\n"
    }
   }
  }
 ],
 "metadata": {
  "kernelspec": {
   "name": "pycharm-865e1948",
   "language": "python",
   "display_name": "PyCharm (GITHUB_REPOSITORY)"
  },
  "language_info": {
   "codemirror_mode": {
    "name": "ipython",
    "version": 2
   },
   "file_extension": ".py",
   "mimetype": "text/x-python",
   "name": "python",
   "nbconvert_exporter": "python",
   "pygments_lexer": "ipython2",
   "version": "2.7.6"
  }
 },
 "nbformat": 4,
 "nbformat_minor": 0
}