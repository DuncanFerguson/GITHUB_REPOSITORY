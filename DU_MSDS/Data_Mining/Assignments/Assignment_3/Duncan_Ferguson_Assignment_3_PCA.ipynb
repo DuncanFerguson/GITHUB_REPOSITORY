{
 "cells": [
  {
   "cell_type": "markdown",
   "metadata": {
    "collapsed": true,
    "pycharm": {
     "name": "#%% md\n"
    }
   },
   "source": [
    "### PCA"
   ]
  },
  {
   "cell_type": "code",
   "execution_count": 44,
   "outputs": [],
   "source": [
    "# Importing Standard Libraries\n",
    "import pandas as pd\n",
    "import numpy as np\n",
    "from csv import reader\n",
    "\n",
    "# Sklearn Libraries\n",
    "from sklearn import tree\n",
    "from sklearn.model_selection import train_test_split\n",
    "from sklearn.metrics import *\n",
    "from sklearn.naive_bayes import *\n",
    "from sklearn.cluster import KMeans, DBSCAN\n",
    "from sklearn import preprocessing\n",
    "from sklearn.preprocessing import StandardScaler\n",
    "from sklearn.decomposition import PCA\n",
    "\n",
    "# Importing mlxtend Libraries\n",
    "from mlxtend.frequent_patterns import apriori, association_rules\n",
    "from mlxtend.preprocessing import TransactionEncoder\n",
    "\n",
    "# Graphing Libraries\n",
    "import matplotlib.pyplot as plt\n",
    "import seaborn as sns"
   ],
   "metadata": {
    "collapsed": false,
    "pycharm": {
     "name": "#%%\n"
    }
   }
  },
  {
   "cell_type": "code",
   "execution_count": 38,
   "outputs": [],
   "source": [
    "# Importing the Data Set\n",
    "df =  pd.read_csv(\"bank.csv\")\n",
    "# df =  pd.read_csv(\"bank-full.csv\")\n",
    "df.head()\n",
    "\n",
    "# Establishing copies for running through the different scrubs\n",
    "df_a = df.copy()\n",
    "df_b = df.copy()\n"
   ],
   "metadata": {
    "collapsed": false,
    "pycharm": {
     "name": "#%%\n"
    }
   }
  },
  {
   "cell_type": "markdown",
   "source": [
    "# Part 2\n",
    "Changing all non-numeric into category data for PCA"
   ],
   "metadata": {
    "collapsed": false
   }
  },
  {
   "cell_type": "code",
   "execution_count": 39,
   "outputs": [
    {
     "name": "stdout",
     "output_type": "stream",
     "text": [
      "Post Conversion of Data into numeric, dropping pdays, and normalizing balance:\n"
     ]
    },
    {
     "data": {
      "text/plain": "   age  job  marital  education  default  balance  housing  loan  contact  \\\n0   30   10        1          0        0     1787        0     0        0   \n1   33    7        1          1        0     4789        1     1        0   \n2   35    4        2          2        0     1350        1     0        0   \n3   30    4        1          2        0     1476        1     1        2   \n4   59    1        1          1        0        0        1     0        2   \n5   35    4        2          2        0      747        0     0        0   \n6   36    6        1          2        0      307        1     0        0   \n7   39    9        1          1        0      147        1     0        0   \n8   41    2        1          2        0      221        1     0        2   \n9   43    7        1          0        0      -88        1     1        0   \n\n   day  month  duration  campaign  previous  poutcome  y  \n0   19     10        79         1         0         3  0  \n1   11      8       220         1         4         0  0  \n2   16      0       185         1         1         0  0  \n3    3      6       199         4         0         3  0  \n4    5      8       226         1         0         3  0  \n5   23      3       141         2         3         0  0  \n6   14      8       341         1         2         1  0  \n7    6      8       151         2         0         3  0  \n8   14      8        57         2         0         3  0  \n9   17      0       313         1         2         0  0  ",
      "text/html": "<div>\n<style scoped>\n    .dataframe tbody tr th:only-of-type {\n        vertical-align: middle;\n    }\n\n    .dataframe tbody tr th {\n        vertical-align: top;\n    }\n\n    .dataframe thead th {\n        text-align: right;\n    }\n</style>\n<table border=\"1\" class=\"dataframe\">\n  <thead>\n    <tr style=\"text-align: right;\">\n      <th></th>\n      <th>age</th>\n      <th>job</th>\n      <th>marital</th>\n      <th>education</th>\n      <th>default</th>\n      <th>balance</th>\n      <th>housing</th>\n      <th>loan</th>\n      <th>contact</th>\n      <th>day</th>\n      <th>month</th>\n      <th>duration</th>\n      <th>campaign</th>\n      <th>previous</th>\n      <th>poutcome</th>\n      <th>y</th>\n    </tr>\n  </thead>\n  <tbody>\n    <tr>\n      <th>0</th>\n      <td>30</td>\n      <td>10</td>\n      <td>1</td>\n      <td>0</td>\n      <td>0</td>\n      <td>1787</td>\n      <td>0</td>\n      <td>0</td>\n      <td>0</td>\n      <td>19</td>\n      <td>10</td>\n      <td>79</td>\n      <td>1</td>\n      <td>0</td>\n      <td>3</td>\n      <td>0</td>\n    </tr>\n    <tr>\n      <th>1</th>\n      <td>33</td>\n      <td>7</td>\n      <td>1</td>\n      <td>1</td>\n      <td>0</td>\n      <td>4789</td>\n      <td>1</td>\n      <td>1</td>\n      <td>0</td>\n      <td>11</td>\n      <td>8</td>\n      <td>220</td>\n      <td>1</td>\n      <td>4</td>\n      <td>0</td>\n      <td>0</td>\n    </tr>\n    <tr>\n      <th>2</th>\n      <td>35</td>\n      <td>4</td>\n      <td>2</td>\n      <td>2</td>\n      <td>0</td>\n      <td>1350</td>\n      <td>1</td>\n      <td>0</td>\n      <td>0</td>\n      <td>16</td>\n      <td>0</td>\n      <td>185</td>\n      <td>1</td>\n      <td>1</td>\n      <td>0</td>\n      <td>0</td>\n    </tr>\n    <tr>\n      <th>3</th>\n      <td>30</td>\n      <td>4</td>\n      <td>1</td>\n      <td>2</td>\n      <td>0</td>\n      <td>1476</td>\n      <td>1</td>\n      <td>1</td>\n      <td>2</td>\n      <td>3</td>\n      <td>6</td>\n      <td>199</td>\n      <td>4</td>\n      <td>0</td>\n      <td>3</td>\n      <td>0</td>\n    </tr>\n    <tr>\n      <th>4</th>\n      <td>59</td>\n      <td>1</td>\n      <td>1</td>\n      <td>1</td>\n      <td>0</td>\n      <td>0</td>\n      <td>1</td>\n      <td>0</td>\n      <td>2</td>\n      <td>5</td>\n      <td>8</td>\n      <td>226</td>\n      <td>1</td>\n      <td>0</td>\n      <td>3</td>\n      <td>0</td>\n    </tr>\n    <tr>\n      <th>5</th>\n      <td>35</td>\n      <td>4</td>\n      <td>2</td>\n      <td>2</td>\n      <td>0</td>\n      <td>747</td>\n      <td>0</td>\n      <td>0</td>\n      <td>0</td>\n      <td>23</td>\n      <td>3</td>\n      <td>141</td>\n      <td>2</td>\n      <td>3</td>\n      <td>0</td>\n      <td>0</td>\n    </tr>\n    <tr>\n      <th>6</th>\n      <td>36</td>\n      <td>6</td>\n      <td>1</td>\n      <td>2</td>\n      <td>0</td>\n      <td>307</td>\n      <td>1</td>\n      <td>0</td>\n      <td>0</td>\n      <td>14</td>\n      <td>8</td>\n      <td>341</td>\n      <td>1</td>\n      <td>2</td>\n      <td>1</td>\n      <td>0</td>\n    </tr>\n    <tr>\n      <th>7</th>\n      <td>39</td>\n      <td>9</td>\n      <td>1</td>\n      <td>1</td>\n      <td>0</td>\n      <td>147</td>\n      <td>1</td>\n      <td>0</td>\n      <td>0</td>\n      <td>6</td>\n      <td>8</td>\n      <td>151</td>\n      <td>2</td>\n      <td>0</td>\n      <td>3</td>\n      <td>0</td>\n    </tr>\n    <tr>\n      <th>8</th>\n      <td>41</td>\n      <td>2</td>\n      <td>1</td>\n      <td>2</td>\n      <td>0</td>\n      <td>221</td>\n      <td>1</td>\n      <td>0</td>\n      <td>2</td>\n      <td>14</td>\n      <td>8</td>\n      <td>57</td>\n      <td>2</td>\n      <td>0</td>\n      <td>3</td>\n      <td>0</td>\n    </tr>\n    <tr>\n      <th>9</th>\n      <td>43</td>\n      <td>7</td>\n      <td>1</td>\n      <td>0</td>\n      <td>0</td>\n      <td>-88</td>\n      <td>1</td>\n      <td>1</td>\n      <td>0</td>\n      <td>17</td>\n      <td>0</td>\n      <td>313</td>\n      <td>1</td>\n      <td>2</td>\n      <td>0</td>\n      <td>0</td>\n    </tr>\n  </tbody>\n</table>\n</div>"
     },
     "execution_count": 39,
     "metadata": {},
     "output_type": "execute_result"
    }
   ],
   "source": [
    "df_b['job'] = df_b['job'].astype('category')\n",
    "df_b['job'] = df_b['job'].cat.codes\n",
    "df_b['marital'] = df_b['marital'].astype('category')\n",
    "df_b['marital'] = df_b['marital'].cat.codes\n",
    "df_b['education'] = df_b['education'].astype('category')\n",
    "df_b['education'] = df_b['education'].cat.codes\n",
    "df_b['default'] = df_b['default'].astype('category')\n",
    "df_b['default'] = df_b['default'].cat.codes\n",
    "df_b['contact'] = df_b['contact'].astype('category')\n",
    "df_b['contact'] = df_b['contact'].cat.codes\n",
    "df_b['month'] = df_b['month'].astype('category')\n",
    "df_b['month'] = df_b['month'].cat.codes\n",
    "df_b['poutcome'] = df_b['poutcome'].astype('category')\n",
    "df_b['poutcome'] = df_b['poutcome'].cat.codes\n",
    "df_b['housing'] = df_b['housing'].astype('category')\n",
    "df_b['housing'] = df_b['housing'].cat.codes\n",
    "df_b['loan'] = df_b['loan'].astype('category')\n",
    "df_b['loan'] = df_b['loan'].cat.codes\n",
    "df_b['y'] = df_b['y'].astype('category')\n",
    "df_b['y'] = df_b['y'].cat.codes\n",
    "df_b = df_b.drop('pdays',axis=1)\n",
    "# df_b['balance'] = (df_b['balance'] - df_b['balance'].min()) / ( df_b['balance'].max() - df_b['balance'].min())\n",
    "print(\"Post Conversion of Data into numeric, dropping pdays, and normalizing balance:\")\n",
    "df_b.head(10)"
   ],
   "metadata": {
    "collapsed": false,
    "pycharm": {
     "name": "#%%\n"
    }
   }
  },
  {
   "cell_type": "code",
   "execution_count": 40,
   "outputs": [
    {
     "name": "stdout",
     "output_type": "stream",
     "text": [
      "<class 'pandas.core.frame.DataFrame'>\n",
      "RangeIndex: 4521 entries, 0 to 4520\n",
      "Data columns (total 16 columns):\n",
      " #   Column     Non-Null Count  Dtype\n",
      "---  ------     --------------  -----\n",
      " 0   age        4521 non-null   int64\n",
      " 1   job        4521 non-null   int8 \n",
      " 2   marital    4521 non-null   int8 \n",
      " 3   education  4521 non-null   int8 \n",
      " 4   default    4521 non-null   int8 \n",
      " 5   balance    4521 non-null   int64\n",
      " 6   housing    4521 non-null   int8 \n",
      " 7   loan       4521 non-null   int8 \n",
      " 8   contact    4521 non-null   int8 \n",
      " 9   day        4521 non-null   int64\n",
      " 10  month      4521 non-null   int8 \n",
      " 11  duration   4521 non-null   int64\n",
      " 12  campaign   4521 non-null   int64\n",
      " 13  previous   4521 non-null   int64\n",
      " 14  poutcome   4521 non-null   int8 \n",
      " 15  y          4521 non-null   int8 \n",
      "dtypes: int64(6), int8(10)\n",
      "memory usage: 256.2 KB\n"
     ]
    }
   ],
   "source": [
    "df_b.info()"
   ],
   "metadata": {
    "collapsed": false,
    "pycharm": {
     "name": "#%%\n"
    }
   }
  },
  {
   "cell_type": "markdown",
   "source": [
    "Preprocessing the Data for PCA"
   ],
   "metadata": {
    "collapsed": false,
    "pycharm": {
     "name": "#%% md\n"
    }
   }
  },
  {
   "cell_type": "code",
   "execution_count": 43,
   "outputs": [
    {
     "data": {
      "text/plain": "           age       job   marital  education   default   balance   housing  \\\n0    -1.056270  1.716804 -0.246429  -1.644755 -0.130759  0.121072 -1.142051   \n1    -0.772583  0.795246 -0.246429  -0.309038 -0.130759  1.118644  0.875617   \n2    -0.583458 -0.126313  1.421396   1.026680 -0.130759 -0.024144  0.875617   \n3    -1.056270 -0.126313 -0.246429   1.026680 -0.130759  0.017726  0.875617   \n4     1.686036 -1.047871 -0.246429  -0.309038 -0.130759 -0.472753  0.875617   \n...        ...       ...       ...        ...       ...       ...       ...   \n4516 -0.772583  0.795246 -0.246429  -0.309038 -0.130759 -0.583410  0.875617   \n4517  1.496912  0.488060 -0.246429   1.026680  7.647669 -1.573671  0.875617   \n4518  1.496912  1.409618 -0.246429  -0.309038 -0.130759 -0.374724 -1.142051   \n4519 -1.245394 -1.047871 -0.246429  -0.309038 -0.130759 -0.094925 -1.142051   \n4520  0.267602 -0.740685  1.421396   1.026680 -0.130759 -0.095257  0.875617   \n\n          loan   contact       day     month  duration  campaign  previous  \\\n0    -0.424756 -0.723642  0.374052  1.485414 -0.711861 -0.576829 -0.320413   \n1     2.354292 -0.723642 -0.596026  0.819288 -0.169194 -0.576829  2.041734   \n2    -0.424756 -0.723642  0.010273 -1.845220 -0.303898 -0.576829  0.270124   \n3     2.354292  1.495133 -1.566105  0.153161 -0.250017  0.387967 -0.320413   \n4    -0.424756  1.495133 -1.323585  0.819288 -0.146102 -0.576829 -0.320413   \n...        ...       ...       ...       ...       ...       ...       ...   \n4516 -0.424756 -0.723642  1.707910 -0.179903  0.250315  0.709566 -0.320413   \n4517  2.354292  1.495133 -0.838546  0.819288 -0.427057 -0.576829 -0.320413   \n4518 -0.424756 -0.723642  0.374052 -1.512157 -0.434754  2.639160 -0.320413   \n4519 -0.424756 -0.723642 -1.202326 -0.846030 -0.519426  0.387967  1.451197   \n4520  2.354292 -0.723642 -1.566105 -1.845220  0.311894 -0.255231  3.813344   \n\n      poutcome  \n0     0.444413  \n1    -2.579961  \n2    -2.579961  \n3     0.444413  \n4     0.444413  \n...        ...  \n4516  0.444413  \n4517  0.444413  \n4518  0.444413  \n4519 -1.571836  \n4520 -1.571836  \n\n[4521 rows x 15 columns]",
      "text/html": "<div>\n<style scoped>\n    .dataframe tbody tr th:only-of-type {\n        vertical-align: middle;\n    }\n\n    .dataframe tbody tr th {\n        vertical-align: top;\n    }\n\n    .dataframe thead th {\n        text-align: right;\n    }\n</style>\n<table border=\"1\" class=\"dataframe\">\n  <thead>\n    <tr style=\"text-align: right;\">\n      <th></th>\n      <th>age</th>\n      <th>job</th>\n      <th>marital</th>\n      <th>education</th>\n      <th>default</th>\n      <th>balance</th>\n      <th>housing</th>\n      <th>loan</th>\n      <th>contact</th>\n      <th>day</th>\n      <th>month</th>\n      <th>duration</th>\n      <th>campaign</th>\n      <th>previous</th>\n      <th>poutcome</th>\n    </tr>\n  </thead>\n  <tbody>\n    <tr>\n      <th>0</th>\n      <td>-1.056270</td>\n      <td>1.716804</td>\n      <td>-0.246429</td>\n      <td>-1.644755</td>\n      <td>-0.130759</td>\n      <td>0.121072</td>\n      <td>-1.142051</td>\n      <td>-0.424756</td>\n      <td>-0.723642</td>\n      <td>0.374052</td>\n      <td>1.485414</td>\n      <td>-0.711861</td>\n      <td>-0.576829</td>\n      <td>-0.320413</td>\n      <td>0.444413</td>\n    </tr>\n    <tr>\n      <th>1</th>\n      <td>-0.772583</td>\n      <td>0.795246</td>\n      <td>-0.246429</td>\n      <td>-0.309038</td>\n      <td>-0.130759</td>\n      <td>1.118644</td>\n      <td>0.875617</td>\n      <td>2.354292</td>\n      <td>-0.723642</td>\n      <td>-0.596026</td>\n      <td>0.819288</td>\n      <td>-0.169194</td>\n      <td>-0.576829</td>\n      <td>2.041734</td>\n      <td>-2.579961</td>\n    </tr>\n    <tr>\n      <th>2</th>\n      <td>-0.583458</td>\n      <td>-0.126313</td>\n      <td>1.421396</td>\n      <td>1.026680</td>\n      <td>-0.130759</td>\n      <td>-0.024144</td>\n      <td>0.875617</td>\n      <td>-0.424756</td>\n      <td>-0.723642</td>\n      <td>0.010273</td>\n      <td>-1.845220</td>\n      <td>-0.303898</td>\n      <td>-0.576829</td>\n      <td>0.270124</td>\n      <td>-2.579961</td>\n    </tr>\n    <tr>\n      <th>3</th>\n      <td>-1.056270</td>\n      <td>-0.126313</td>\n      <td>-0.246429</td>\n      <td>1.026680</td>\n      <td>-0.130759</td>\n      <td>0.017726</td>\n      <td>0.875617</td>\n      <td>2.354292</td>\n      <td>1.495133</td>\n      <td>-1.566105</td>\n      <td>0.153161</td>\n      <td>-0.250017</td>\n      <td>0.387967</td>\n      <td>-0.320413</td>\n      <td>0.444413</td>\n    </tr>\n    <tr>\n      <th>4</th>\n      <td>1.686036</td>\n      <td>-1.047871</td>\n      <td>-0.246429</td>\n      <td>-0.309038</td>\n      <td>-0.130759</td>\n      <td>-0.472753</td>\n      <td>0.875617</td>\n      <td>-0.424756</td>\n      <td>1.495133</td>\n      <td>-1.323585</td>\n      <td>0.819288</td>\n      <td>-0.146102</td>\n      <td>-0.576829</td>\n      <td>-0.320413</td>\n      <td>0.444413</td>\n    </tr>\n    <tr>\n      <th>...</th>\n      <td>...</td>\n      <td>...</td>\n      <td>...</td>\n      <td>...</td>\n      <td>...</td>\n      <td>...</td>\n      <td>...</td>\n      <td>...</td>\n      <td>...</td>\n      <td>...</td>\n      <td>...</td>\n      <td>...</td>\n      <td>...</td>\n      <td>...</td>\n      <td>...</td>\n    </tr>\n    <tr>\n      <th>4516</th>\n      <td>-0.772583</td>\n      <td>0.795246</td>\n      <td>-0.246429</td>\n      <td>-0.309038</td>\n      <td>-0.130759</td>\n      <td>-0.583410</td>\n      <td>0.875617</td>\n      <td>-0.424756</td>\n      <td>-0.723642</td>\n      <td>1.707910</td>\n      <td>-0.179903</td>\n      <td>0.250315</td>\n      <td>0.709566</td>\n      <td>-0.320413</td>\n      <td>0.444413</td>\n    </tr>\n    <tr>\n      <th>4517</th>\n      <td>1.496912</td>\n      <td>0.488060</td>\n      <td>-0.246429</td>\n      <td>1.026680</td>\n      <td>7.647669</td>\n      <td>-1.573671</td>\n      <td>0.875617</td>\n      <td>2.354292</td>\n      <td>1.495133</td>\n      <td>-0.838546</td>\n      <td>0.819288</td>\n      <td>-0.427057</td>\n      <td>-0.576829</td>\n      <td>-0.320413</td>\n      <td>0.444413</td>\n    </tr>\n    <tr>\n      <th>4518</th>\n      <td>1.496912</td>\n      <td>1.409618</td>\n      <td>-0.246429</td>\n      <td>-0.309038</td>\n      <td>-0.130759</td>\n      <td>-0.374724</td>\n      <td>-1.142051</td>\n      <td>-0.424756</td>\n      <td>-0.723642</td>\n      <td>0.374052</td>\n      <td>-1.512157</td>\n      <td>-0.434754</td>\n      <td>2.639160</td>\n      <td>-0.320413</td>\n      <td>0.444413</td>\n    </tr>\n    <tr>\n      <th>4519</th>\n      <td>-1.245394</td>\n      <td>-1.047871</td>\n      <td>-0.246429</td>\n      <td>-0.309038</td>\n      <td>-0.130759</td>\n      <td>-0.094925</td>\n      <td>-1.142051</td>\n      <td>-0.424756</td>\n      <td>-0.723642</td>\n      <td>-1.202326</td>\n      <td>-0.846030</td>\n      <td>-0.519426</td>\n      <td>0.387967</td>\n      <td>1.451197</td>\n      <td>-1.571836</td>\n    </tr>\n    <tr>\n      <th>4520</th>\n      <td>0.267602</td>\n      <td>-0.740685</td>\n      <td>1.421396</td>\n      <td>1.026680</td>\n      <td>-0.130759</td>\n      <td>-0.095257</td>\n      <td>0.875617</td>\n      <td>2.354292</td>\n      <td>-0.723642</td>\n      <td>-1.566105</td>\n      <td>-1.845220</td>\n      <td>0.311894</td>\n      <td>-0.255231</td>\n      <td>3.813344</td>\n      <td>-1.571836</td>\n    </tr>\n  </tbody>\n</table>\n<p>4521 rows × 15 columns</p>\n</div>"
     },
     "execution_count": 43,
     "metadata": {},
     "output_type": "execute_result"
    }
   ],
   "source": [
    "y = df_b[\"y\"]\n",
    "X = df_b.drop(\"y\", axis=1)\n",
    "\n",
    "# Splitting the dataset into Train Set and Test Set\n",
    "X_train, X_test, y_train, y_test = train_test_split(X,y, test_size=0.2, random_state=42)"
   ],
   "metadata": {
    "collapsed": false,
    "pycharm": {
     "name": "#%%\n"
    }
   }
  },
  {
   "cell_type": "markdown",
   "source": [
    "PCA Performs best with normalized Feature sets. Next we perform stanard scalar normalization to normalize our feature set"
   ],
   "metadata": {
    "collapsed": false,
    "pycharm": {
     "name": "#%% md\n"
    }
   }
  },
  {
   "cell_type": "code",
   "execution_count": null,
   "outputs": [],
   "source": [
    "sc = StandardScaler()\n",
    "X_train = sc.fit_transform(X_train)\n",
    "X_test = sc.fit_transform(X_test)"
   ],
   "metadata": {
    "collapsed": false,
    "pycharm": {
     "name": "#%%\n"
    }
   }
  },
  {
   "cell_type": "markdown",
   "source": [
    "Now to Apply PCA"
   ],
   "metadata": {
    "collapsed": false,
    "pycharm": {
     "name": "#%% md\n"
    }
   }
  },
  {
   "cell_type": "code",
   "execution_count": null,
   "outputs": [],
   "source": [
    "pca = PCA()\n",
    "X_train = pca.fit_transform(X_train)\n",
    "X_test = pca.transform(X_test)\n"
   ],
   "metadata": {
    "collapsed": false,
    "pycharm": {
     "name": "#%%\n"
    }
   }
  }
 ],
 "metadata": {
  "kernelspec": {
   "name": "pycharm-865e1948",
   "language": "python",
   "display_name": "PyCharm (GITHUB_REPOSITORY)"
  },
  "language_info": {
   "codemirror_mode": {
    "name": "ipython",
    "version": 2
   },
   "file_extension": ".py",
   "mimetype": "text/x-python",
   "name": "python",
   "nbconvert_exporter": "python",
   "pygments_lexer": "ipython2",
   "version": "2.7.6"
  }
 },
 "nbformat": 4,
 "nbformat_minor": 0
}