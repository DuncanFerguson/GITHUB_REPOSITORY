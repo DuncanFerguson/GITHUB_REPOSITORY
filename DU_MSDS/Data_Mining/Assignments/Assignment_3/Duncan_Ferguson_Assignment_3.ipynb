{
 "cells": [
  {
   "cell_type": "markdown",
   "metadata": {
    "collapsed": true,
    "pycharm": {
     "name": "#%% md\n"
    }
   },
   "source": [
    "Student: Duncan Ferguson <br>\n",
    "Student Id: 871641260 <br>\n",
    "Class: Comp 4431-1 <br>\n",
    "Assignment: Assignment 3 <br>\n",
    "Date: 11/20/2021 <br>"
   ]
  },
  {
   "cell_type": "markdown",
   "source": [
    "You are to apply the following techniques to mine this data set:\n",
    "- Association Rules\n",
    "- Decision tree Classification\n",
    "- Naive Bayes Classification\n",
    "- kmeans and dbscan clustering\n",
    "\n",
    "Also, you are to use Principle Component Analysis to reduce the number of attributes\n",
    "(aka features)\n",
    "\n",
    "Please answer the following questions:\n",
    "\n",
    "1. What can you deduce from the data set? (in otherwords, what attribute values are indicative of \"success\")\n",
    "2. Which mining techniques yielded the best results for what? How do you define \"best results\"? Please\n",
    "include tables and/or graphs to justify your statement\n",
    "\n",
    "Note: While numeric data is desired for classification/clustering, you need strings that look like market basket\n",
    "data (sets of item names) for Association Rules. Numeric data can be grouped into names like\n",
    "\"lowValue, midValue, midValue, mediumHighValue, highValue\" etc. See the following code for possible\n",
    "way of doing this (not necessarily the best):\n",
    "\n",
    "What to turn in:\n",
    "- a pdf file with the answers to these three questions\n",
    "- Your code used to answer these questions\n",
    "\n"
   ],
   "metadata": {
    "collapsed": false,
    "pycharm": {
     "name": "#%% md\n"
    }
   }
  }
 ],
 "metadata": {
  "kernelspec": {
   "display_name": "Python 3",
   "language": "python",
   "name": "python3"
  },
  "language_info": {
   "codemirror_mode": {
    "name": "ipython",
    "version": 2
   },
   "file_extension": ".py",
   "mimetype": "text/x-python",
   "name": "python",
   "nbconvert_exporter": "python",
   "pygments_lexer": "ipython2",
   "version": "2.7.6"
  }
 },
 "nbformat": 4,
 "nbformat_minor": 0
}