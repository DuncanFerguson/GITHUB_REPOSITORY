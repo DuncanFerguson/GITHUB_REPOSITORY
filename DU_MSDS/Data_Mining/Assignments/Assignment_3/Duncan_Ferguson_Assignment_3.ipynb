{
 "cells": [
  {
   "cell_type": "markdown",
   "metadata": {
    "collapsed": true,
    "pycharm": {
     "name": "#%% md\n"
    }
   },
   "source": [
    "Student: Duncan Ferguson <br>\n",
    "Student Id: 871641260 <br>\n",
    "Class: Comp 4431-1 <br>\n",
    "Assignment: Assignment 3 <br>\n",
    "Date: 11/20/2021 <br>"
   ]
  },
  {
   "cell_type": "markdown",
   "source": [
    "You are to apply the following techniques to mine this data set:\n",
    "- Association Rules\n",
    "- Decision tree Classification\n",
    "- Naive Bayes Classification\n",
    "- kmeans and dbscan clustering\n",
    "\n",
    "Also, you are to use Principle Component Analysis to reduce the number of attributes\n",
    "(aka features)\n",
    "\n",
    "Please answer the following questions:\n",
    "\n",
    "1. What can you deduce from the data set? (in otherwords, what attribute values are indicative of \"success\")\n",
    "2. Which mining techniques yielded the best results for what? How do you define \"best results\"? Please\n",
    "include tables and/or graphs to justify your statement\n",
    "\n",
    "Note: While numeric data is desired for classification/clustering, you need strings that look like market basket\n",
    "data (sets of item names) for Association Rules. Numeric data can be grouped into names like\n",
    "\"lowValue, midValue, midValue, mediumHighValue, highValue\" etc. See the following code for possible\n",
    "way of doing this (not necessarily the best):\n",
    "\n",
    "What to turn in:\n",
    "- a pdf file with the answers to these three questions\n",
    "- Your code used to answer these questions\n"
   ],
   "metadata": {
    "collapsed": false,
    "pycharm": {
     "name": "#%% md\n"
    }
   }
  },
  {
   "cell_type": "code",
   "execution_count": 22,
   "outputs": [],
   "source": [
    "# Importing Standard Libraries\n",
    "import pandas as pd\n",
    "import numpy as np\n",
    "\n",
    "\n",
    "# Sklearn Libraries\n",
    "from sklearn import tree\n",
    "from sklearn.model_selection import train_test_split\n",
    "from sklearn.metrics import *\n",
    "from sklearn.naive_bayes import *\n",
    "from sklearn.cluster import KMeans, DBSCAN\n",
    "from sklearn import preprocessing\n",
    "from sklearn.preprocessing import StandardScaler\n",
    "\n",
    "# Graphing Libraries\n",
    "import matplotlib.pyplot as plt\n",
    "import seaborn as sns"
   ],
   "metadata": {
    "collapsed": false,
    "pycharm": {
     "name": "#%%\n"
    }
   }
  },
  {
   "cell_type": "code",
   "execution_count": null,
   "outputs": [],
   "source": [
    "# Setting up view options\n",
    "pd.set_option('display.max_columns', None)\n",
    "pd.set_option('max_columns', None)\n",
    "pd.set_option('max_rows', None)\n",
    "pd.options.display.width = 0   #\n"
   ],
   "metadata": {
    "collapsed": false,
    "pycharm": {
     "name": "#%%\n"
    }
   }
  },
  {
   "cell_type": "code",
   "execution_count": 14,
   "outputs": [
    {
     "data": {
      "text/plain": "   age          job  marital  education default  balance housing loan  \\\n0   30   unemployed  married    primary      no     1787      no   no   \n1   33     services  married  secondary      no     4789     yes  yes   \n2   35   management   single   tertiary      no     1350     yes   no   \n3   30   management  married   tertiary      no     1476     yes  yes   \n4   59  blue-collar  married  secondary      no        0     yes   no   \n\n    contact  day month  duration  campaign  pdays  previous poutcome   y  \n0  cellular   19   oct        79         1     -1         0  unknown  no  \n1  cellular   11   may       220         1    339         4  failure  no  \n2  cellular   16   apr       185         1    330         1  failure  no  \n3   unknown    3   jun       199         4     -1         0  unknown  no  \n4   unknown    5   may       226         1     -1         0  unknown  no  ",
      "text/html": "<div>\n<style scoped>\n    .dataframe tbody tr th:only-of-type {\n        vertical-align: middle;\n    }\n\n    .dataframe tbody tr th {\n        vertical-align: top;\n    }\n\n    .dataframe thead th {\n        text-align: right;\n    }\n</style>\n<table border=\"1\" class=\"dataframe\">\n  <thead>\n    <tr style=\"text-align: right;\">\n      <th></th>\n      <th>age</th>\n      <th>job</th>\n      <th>marital</th>\n      <th>education</th>\n      <th>default</th>\n      <th>balance</th>\n      <th>housing</th>\n      <th>loan</th>\n      <th>contact</th>\n      <th>day</th>\n      <th>month</th>\n      <th>duration</th>\n      <th>campaign</th>\n      <th>pdays</th>\n      <th>previous</th>\n      <th>poutcome</th>\n      <th>y</th>\n    </tr>\n  </thead>\n  <tbody>\n    <tr>\n      <th>0</th>\n      <td>30</td>\n      <td>unemployed</td>\n      <td>married</td>\n      <td>primary</td>\n      <td>no</td>\n      <td>1787</td>\n      <td>no</td>\n      <td>no</td>\n      <td>cellular</td>\n      <td>19</td>\n      <td>oct</td>\n      <td>79</td>\n      <td>1</td>\n      <td>-1</td>\n      <td>0</td>\n      <td>unknown</td>\n      <td>no</td>\n    </tr>\n    <tr>\n      <th>1</th>\n      <td>33</td>\n      <td>services</td>\n      <td>married</td>\n      <td>secondary</td>\n      <td>no</td>\n      <td>4789</td>\n      <td>yes</td>\n      <td>yes</td>\n      <td>cellular</td>\n      <td>11</td>\n      <td>may</td>\n      <td>220</td>\n      <td>1</td>\n      <td>339</td>\n      <td>4</td>\n      <td>failure</td>\n      <td>no</td>\n    </tr>\n    <tr>\n      <th>2</th>\n      <td>35</td>\n      <td>management</td>\n      <td>single</td>\n      <td>tertiary</td>\n      <td>no</td>\n      <td>1350</td>\n      <td>yes</td>\n      <td>no</td>\n      <td>cellular</td>\n      <td>16</td>\n      <td>apr</td>\n      <td>185</td>\n      <td>1</td>\n      <td>330</td>\n      <td>1</td>\n      <td>failure</td>\n      <td>no</td>\n    </tr>\n    <tr>\n      <th>3</th>\n      <td>30</td>\n      <td>management</td>\n      <td>married</td>\n      <td>tertiary</td>\n      <td>no</td>\n      <td>1476</td>\n      <td>yes</td>\n      <td>yes</td>\n      <td>unknown</td>\n      <td>3</td>\n      <td>jun</td>\n      <td>199</td>\n      <td>4</td>\n      <td>-1</td>\n      <td>0</td>\n      <td>unknown</td>\n      <td>no</td>\n    </tr>\n    <tr>\n      <th>4</th>\n      <td>59</td>\n      <td>blue-collar</td>\n      <td>married</td>\n      <td>secondary</td>\n      <td>no</td>\n      <td>0</td>\n      <td>yes</td>\n      <td>no</td>\n      <td>unknown</td>\n      <td>5</td>\n      <td>may</td>\n      <td>226</td>\n      <td>1</td>\n      <td>-1</td>\n      <td>0</td>\n      <td>unknown</td>\n      <td>no</td>\n    </tr>\n  </tbody>\n</table>\n</div>"
     },
     "execution_count": 14,
     "metadata": {},
     "output_type": "execute_result"
    }
   ],
   "source": [
    "# Importing the Data Set\n",
    "\n",
    "df =  pd.read_csv(\"bank.csv\")\n",
    "df.head()"
   ],
   "metadata": {
    "collapsed": false,
    "pycharm": {
     "name": "#%%\n"
    }
   }
  },
  {
   "cell_type": "code",
   "execution_count": 15,
   "outputs": [
    {
     "name": "stdout",
     "output_type": "stream",
     "text": [
      "age : [30 33 35 59 36 39 41 43 20 31 40 56 37 25 38 42 44 26 55 67 53 68 32 49\n",
      " 78 23 52 34 61 45 48 57 54 63 51 29 50 27 60 28 21 58 22 46 24 77 75 47\n",
      " 70 65 64 62 66 19 81 83 80 71 72 69 79 73 86 74 76 87 84]\n",
      "job : ['unemployed' 'services' 'management' 'blue-collar' 'self-employed'\n",
      " 'technician' 'entrepreneur' 'admin.' 'student' 'housemaid' 'retired'\n",
      " 'unknown']\n",
      "marital : ['married' 'single' 'divorced']\n",
      "education : ['primary' 'secondary' 'tertiary' 'unknown']\n",
      "default : ['no' 'yes']\n",
      "balance : [ 1787  4789  1350 ...  -333 -3313  1137]\n",
      "housing : ['no' 'yes']\n",
      "loan : ['no' 'yes']\n",
      "contact : ['cellular' 'unknown' 'telephone']\n",
      "day : [19 11 16  3  5 23 14  6 17 20 13 30 29 27  7 18 12 21 26 22  2  4 15  8\n",
      " 28  9  1 10 31 25 24]\n",
      "month : ['oct' 'may' 'apr' 'jun' 'feb' 'aug' 'jan' 'jul' 'nov' 'sep' 'mar' 'dec']\n",
      "duration : [  79  220  185  199  226  141  341  151   57  313  273  113  328  261\n",
      "   89  189  239  114  250  148   96  140  109  125  169  182  247  119\n",
      "  149   74  897   81   40  958  354  150   97  132  765   16  609  106\n",
      "  365  205   11  105   59  425  204  181 1018 1740   98  441  272  159\n",
      "  295  314  579  554  323  227  134  223  155  130  630  164  268  380\n",
      "  154  221   67  367   87  701  652   63  398  224  406   60  521  279\n",
      "  203  201  372  391  165  231  291  233  473  736  337  553  345   65\n",
      "    9  259  371  280  243  435  258    7  317   76  170  386   83   69\n",
      "  564  588  779  281 1877   51   32  176  161  187   24   85  236   54\n",
      "   71  489   39  455   86  190   45  168  194  103  333  102   92  213\n",
      "  289   77  324   84   10   35   82  676   80  549  135  412  101  253\n",
      "  166   18  147   14   61  377  152  382  543  240   48  471  285  301\n",
      "  768 1337  403  139  196  115   17   95  198  654  256  834   20  178\n",
      "  111  186  297  210  112  222  195  123  145  124  216  483  690  344\n",
      "  673  144  246  361  375 1097  180  373  230   58   88  487   29  484\n",
      "  262  644  699   49   64  121  197  331  138  312  120  526  211   62\n",
      "  988  451 1030 1484  445  383  605  330  171  442  772  249  357  271\n",
      "  783  472  395   56  641  429  157  162  799 1370   22  215 1017  298\n",
      "  126    8  555  270  339  342 1434   30  397  620    6  209  419  283\n",
      "  188  267  245 1065  207  456  131   94  567  153   53  234  108  208\n",
      "  597  505  332  212  493  681  287  202   37   72  325 1212  319  514\n",
      "  551  142  293  107  127 1816  200  418  387  156   47  265   31   28\n",
      "  369  854   46  266  321   99  430  264  118  343    5  722  748  523\n",
      "  421   15  502  193  347  468  388 1735  172  117  587  501  282  110\n",
      "  104  378 1407  738   70  904  336  238  585   68 1713  218  661  566\n",
      "  136  160   44  792   73   90  346  192  682  651  405  350   36  389\n",
      " 3025  219  427  533   19  819  278  617   34  668   75  146  356  251\n",
      "  352  184  568  260  447  426  174  284  428  237 1031  700  590   43\n",
      "   27 1181  122  307  770  767  232  986   66  158  306  559  183  631\n",
      " 1282 1199  244   55  290  385  133   91   25  275  632  100   41  446\n",
      "  304  335  276   42  614  557 1663  510 1259  225  404 1015  761  464\n",
      "  206  667  143  717   38  254  882  957  299  167  500  177  457  460\n",
      " 1028  315  381  643  508  128  492  257  241  536  601 1168  277  364\n",
      "  229  402  175  255  820  116  463  603  191 2087  754  303  288  891\n",
      "  558  228  353  296  432 1130  305  274  860  420  756  968  408   13\n",
      "  763  316   50    4   78  286  766  648  688   21  593  407  563   52\n",
      "  803  396  637  945 1178  506  409  327  618  936  329  179  731  670\n",
      "  318  415  137  349  263  671  452  163  586  650  610  747  252  883\n",
      "  684  686 1060  724  424  712  753 1081  376  433  411 1083  757  524\n",
      "  653   93  503  217  475  340  242  530   23  935  773  423  626  578\n",
      "  248  528  785  952 1174  915  937  129 1063  758  574  847 1558  789\n",
      " 1441  322 1504  537  611   26   12  235  796 1126  697  931 1034  362\n",
      "  410  570  633  659  302  727  214  173  635  540 1210  486  646  326\n",
      "  414  716  449  580  399 1029  755  619  606  971  348  594 1275  379\n",
      " 1032  393  808  923  413  541  602  762  360  310  311  638  355  300\n",
      "  417  308  657  434  488 1309 1056  908  401  827  735  691  461  669\n",
      " 1473 1386  294  910  550 1366 1532  955  513 1236  809  482 1164  674\n",
      "  709  436  374  309  363  422  358  640  439  476  480  517  993   33\n",
      "  730  636  750  334  868  351 1689  607  485 1021  732  577  733  788\n",
      "  863 1073  525  696  535  370  465  338  956  546  470  836  544  443\n",
      " 1149  707 1451 1143  477  450  467  292  806  560  759 1183  598  466\n",
      "  431  269  542  562  515 1165  547  780  916  474  509  679 1472  965\n",
      " 1139  504  672  749  454  531  479  384  973  728  656  998  320  615\n",
      "  612  664  394  877 1971 1258  599  655 1994  743  924  929  491  719\n",
      "  565 1529  390 1467 1007  665  990  582  458  775  497  698  702  520\n",
      " 1156  884 1521  359  527  994 1579  437 1225  865  569 1011  814  984\n",
      "  392  595 1448  529 1006  622  494 1022 1044  781 1124  400  516 1516\n",
      "  978  720  495  798  876  875  481  793 1117 1223 1101  744 2769  561\n",
      "  715  639  538 1721 1608  725  519  490  907  680  977  959  693 2029\n",
      " 1009  718  805  623  976  600  469 1010  634 1531  764  532  825  539\n",
      "  816  821 1231  742 2456  721  777  548  830  645  723  746  869 1173\n",
      "  624  518  815  857  921  627  800  366 1088  812  866 1151  873  592\n",
      "  663  576 1476  951 1234 1263  660]\n",
      "campaign : [ 1  4  2  5  3  6 18 10  9  7 12 14 13 24 11  8 29 32 16 22 15 30 25 21\n",
      " 17 19 23 20 50 28 31 44]\n",
      "pdays : [ -1 339 330 176 147 241 152 105 342 101   5  92  56 170 182 297 196 460\n",
      " 137 367 145 169 207 266 288 168 345 436  90 183 146 335 347 119   7 271\n",
      " 181  88 141 126  61 373 351 242  62  91 308 250 172 265  78  28  79   1\n",
      " 188 167  89 164 462 209 321 254  94 364  96 356 149 363 275 325 341 260\n",
      " 358  87 303  98 327 337 322 102  99 370  84 212  63  81 191 360 332  80\n",
      "  85 247 150 175 382 261 336  58 206 112 199 133 208 253 135 278 140 298\n",
      " 273 124 281 162 323 349 117   2 256 333 116 268 136 198 357 259 353 174\n",
      " 371 205 246  69 315 110 461 184 270 127 187  64 130 346 100 352 808 113\n",
      " 378 292 287 107 293 139 138 193 274  97 103 359 185 674 211 300 334 280\n",
      " 479  95 262 362 225   3 366  60 190 368 122 343 131 365 299 115 316 180\n",
      " 154 313 264 350  73 232 204 143 375 186 344 210 248 177 221 189 104 258\n",
      " 305 171 120 317 178 386 118 404 374 282 179 284 227 291 173 871 238 294\n",
      " 222 435 340 426 239  83 111 415 255 235 244  38 683 329  59 151 192 158\n",
      " 338 388 165 348 197 295 109 484 326 369 397 414 319 474  93 249 272 355\n",
      " 195  82 541 231 153 201 761 114 385 267 161 467  75 106 223 312 148 309\n",
      " 283  86 166 160 450 500 311 123 159 687 224 361  74  76 286  77  57 219\n",
      " 331 804 144 234]\n",
      "previous : [ 0  4  1  3  2  5 20  7  6 10  9  8 18 19 12 13 11 14 15 24 17 22 23 25]\n",
      "poutcome : ['unknown' 'failure' 'other' 'success']\n",
      "y : ['no' 'yes']\n"
     ]
    }
   ],
   "source": [
    "# First Exploration of all the Variables that we are dealing with\n",
    "for col in df:\n",
    "    print(col, \":\", df[col].unique())"
   ],
   "metadata": {
    "collapsed": false,
    "pycharm": {
     "name": "#%%\n"
    }
   }
  },
  {
   "cell_type": "markdown",
   "source": [
    "Changing all non-numeric into category data"
   ],
   "metadata": {
    "collapsed": false,
    "pycharm": {
     "name": "#%% md\n"
    }
   }
  },
  {
   "cell_type": "code",
   "execution_count": null,
   "outputs": [],
   "source": [
    "df['job'] = df['job'].astype('category')\n",
    "df['job'] = df['job'].cat.codes\n",
    "df['marital'] = df['marital'].astype('category')\n",
    "df['marital'] = df['marital'].cat.codes\n",
    "df['education'] = df['education'].astype('category')\n",
    "df['education'] = df['education'].cat.codes\n",
    "df['default'] = df['default'].astype('category')\n",
    "df['default'] = df['default'].cat.codes\n",
    "df['contact'] = df['contact'].astype('category')\n",
    "df['contact'] = df['contact'].cat.codes\n",
    "df['month'] = df['month'].astype('category')\n",
    "df['month'] = df['month'].cat.codes\n",
    "df['poutcome'] = df['poutcome'].astype('category')\n",
    "df['poutcome'] = df['poutcome'].cat.codes\n",
    "df['housing'] = df['housing'].astype('category')\n",
    "df['housing'] = df['housing'].cat.codes\n",
    "df['loan'] = df['loan'].astype('category')\n",
    "df['loan'] = df['loan'].cat.codes\n",
    "df['y'] = df['y'].astype('category')\n",
    "df['y'] = df['y'].cat.codes\n",
    "df = df.drop('pdays',axis=1)\n",
    "df['balance'] = (df['balance'] - df['balance'].min()) / ( df['balance'].max() - df['balance'].min())\n",
    "print(\"Post Conversion of Data into numeric, dropping pdays, and normalizing balance:\")\n",
    "df.head(100)"
   ],
   "metadata": {
    "collapsed": false,
    "pycharm": {
     "name": "#%%\n"
    }
   }
  },
  {
   "cell_type": "code",
   "execution_count": 18,
   "outputs": [
    {
     "name": "stdout",
     "output_type": "stream",
     "text": [
      "age : [30 33 35 59 36 39 41 43 20 31 40 56 37 25 38 42 44 26 55 67 53 68 32 49\n",
      " 78 23 52 34 61 45 48 57 54 63 51 29 50 27 60 28 21 58 22 46 24 77 75 47\n",
      " 70 65 64 62 66 19 81 83 80 71 72 69 79 73 86 74 76 87 84]\n",
      "job : [10  7  4  1  6  9  2  0  8  3  5 11]\n",
      "marital : [1 2 0]\n",
      "education : [0 1 2 3]\n",
      "default : [0 1]\n",
      "balance : [0.06845546 0.10875022 0.06258976 ... 0.03999946 0.         0.05973074]\n",
      "housing : [0 1]\n",
      "loan : [0 1]\n",
      "contact : [0 2 1]\n",
      "day : [19 11 16  3  5 23 14  6 17 20 13 30 29 27  7 18 12 21 26 22  2  4 15  8\n",
      " 28  9  1 10 31 25 24]\n",
      "month : [10  8  0  6  3  1  4  5  9 11  7  2]\n",
      "duration : [  79  220  185  199  226  141  341  151   57  313  273  113  328  261\n",
      "   89  189  239  114  250  148   96  140  109  125  169  182  247  119\n",
      "  149   74  897   81   40  958  354  150   97  132  765   16  609  106\n",
      "  365  205   11  105   59  425  204  181 1018 1740   98  441  272  159\n",
      "  295  314  579  554  323  227  134  223  155  130  630  164  268  380\n",
      "  154  221   67  367   87  701  652   63  398  224  406   60  521  279\n",
      "  203  201  372  391  165  231  291  233  473  736  337  553  345   65\n",
      "    9  259  371  280  243  435  258    7  317   76  170  386   83   69\n",
      "  564  588  779  281 1877   51   32  176  161  187   24   85  236   54\n",
      "   71  489   39  455   86  190   45  168  194  103  333  102   92  213\n",
      "  289   77  324   84   10   35   82  676   80  549  135  412  101  253\n",
      "  166   18  147   14   61  377  152  382  543  240   48  471  285  301\n",
      "  768 1337  403  139  196  115   17   95  198  654  256  834   20  178\n",
      "  111  186  297  210  112  222  195  123  145  124  216  483  690  344\n",
      "  673  144  246  361  375 1097  180  373  230   58   88  487   29  484\n",
      "  262  644  699   49   64  121  197  331  138  312  120  526  211   62\n",
      "  988  451 1030 1484  445  383  605  330  171  442  772  249  357  271\n",
      "  783  472  395   56  641  429  157  162  799 1370   22  215 1017  298\n",
      "  126    8  555  270  339  342 1434   30  397  620    6  209  419  283\n",
      "  188  267  245 1065  207  456  131   94  567  153   53  234  108  208\n",
      "  597  505  332  212  493  681  287  202   37   72  325 1212  319  514\n",
      "  551  142  293  107  127 1816  200  418  387  156   47  265   31   28\n",
      "  369  854   46  266  321   99  430  264  118  343    5  722  748  523\n",
      "  421   15  502  193  347  468  388 1735  172  117  587  501  282  110\n",
      "  104  378 1407  738   70  904  336  238  585   68 1713  218  661  566\n",
      "  136  160   44  792   73   90  346  192  682  651  405  350   36  389\n",
      " 3025  219  427  533   19  819  278  617   34  668   75  146  356  251\n",
      "  352  184  568  260  447  426  174  284  428  237 1031  700  590   43\n",
      "   27 1181  122  307  770  767  232  986   66  158  306  559  183  631\n",
      " 1282 1199  244   55  290  385  133   91   25  275  632  100   41  446\n",
      "  304  335  276   42  614  557 1663  510 1259  225  404 1015  761  464\n",
      "  206  667  143  717   38  254  882  957  299  167  500  177  457  460\n",
      " 1028  315  381  643  508  128  492  257  241  536  601 1168  277  364\n",
      "  229  402  175  255  820  116  463  603  191 2087  754  303  288  891\n",
      "  558  228  353  296  432 1130  305  274  860  420  756  968  408   13\n",
      "  763  316   50    4   78  286  766  648  688   21  593  407  563   52\n",
      "  803  396  637  945 1178  506  409  327  618  936  329  179  731  670\n",
      "  318  415  137  349  263  671  452  163  586  650  610  747  252  883\n",
      "  684  686 1060  724  424  712  753 1081  376  433  411 1083  757  524\n",
      "  653   93  503  217  475  340  242  530   23  935  773  423  626  578\n",
      "  248  528  785  952 1174  915  937  129 1063  758  574  847 1558  789\n",
      " 1441  322 1504  537  611   26   12  235  796 1126  697  931 1034  362\n",
      "  410  570  633  659  302  727  214  173  635  540 1210  486  646  326\n",
      "  414  716  449  580  399 1029  755  619  606  971  348  594 1275  379\n",
      " 1032  393  808  923  413  541  602  762  360  310  311  638  355  300\n",
      "  417  308  657  434  488 1309 1056  908  401  827  735  691  461  669\n",
      " 1473 1386  294  910  550 1366 1532  955  513 1236  809  482 1164  674\n",
      "  709  436  374  309  363  422  358  640  439  476  480  517  993   33\n",
      "  730  636  750  334  868  351 1689  607  485 1021  732  577  733  788\n",
      "  863 1073  525  696  535  370  465  338  956  546  470  836  544  443\n",
      " 1149  707 1451 1143  477  450  467  292  806  560  759 1183  598  466\n",
      "  431  269  542  562  515 1165  547  780  916  474  509  679 1472  965\n",
      " 1139  504  672  749  454  531  479  384  973  728  656  998  320  615\n",
      "  612  664  394  877 1971 1258  599  655 1994  743  924  929  491  719\n",
      "  565 1529  390 1467 1007  665  990  582  458  775  497  698  702  520\n",
      " 1156  884 1521  359  527  994 1579  437 1225  865  569 1011  814  984\n",
      "  392  595 1448  529 1006  622  494 1022 1044  781 1124  400  516 1516\n",
      "  978  720  495  798  876  875  481  793 1117 1223 1101  744 2769  561\n",
      "  715  639  538 1721 1608  725  519  490  907  680  977  959  693 2029\n",
      " 1009  718  805  623  976  600  469 1010  634 1531  764  532  825  539\n",
      "  816  821 1231  742 2456  721  777  548  830  645  723  746  869 1173\n",
      "  624  518  815  857  921  627  800  366 1088  812  866 1151  873  592\n",
      "  663  576 1476  951 1234 1263  660]\n",
      "campaign : [ 1  4  2  5  3  6 18 10  9  7 12 14 13 24 11  8 29 32 16 22 15 30 25 21\n",
      " 17 19 23 20 50 28 31 44]\n",
      "previous : [ 0  4  1  3  2  5 20  7  6 10  9  8 18 19 12 13 11 14 15 24 17 22 23 25]\n",
      "poutcome : [3 0 1 2]\n",
      "y : [0 1]\n"
     ]
    }
   ],
   "source": [
    "# Taking a look at all the new unique values\n",
    "for col in df:\n",
    "    print(col, \":\", df[col].unique())"
   ],
   "metadata": {
    "collapsed": false,
    "pycharm": {
     "name": "#%%\n"
    }
   }
  },
  {
   "cell_type": "markdown",
   "source": [
    "Creating X and Y for machine learning Algorithms"
   ],
   "metadata": {
    "collapsed": false,
    "pycharm": {
     "name": "#%% md\n"
    }
   }
  },
  {
   "cell_type": "code",
   "execution_count": 20,
   "outputs": [],
   "source": [
    "Y = df['y']\n",
    "df = df.drop('y',axis=1)\n",
    "X = df"
   ],
   "metadata": {
    "collapsed": false,
    "pycharm": {
     "name": "#%%\n"
    }
   }
  },
  {
   "cell_type": "markdown",
   "source": [
    "Partitioning data into training and testing sets"
   ],
   "metadata": {
    "collapsed": false,
    "pycharm": {
     "name": "#%% md\n"
    }
   }
  },
  {
   "cell_type": "code",
   "execution_count": 23,
   "outputs": [
    {
     "name": "stdout",
     "output_type": "stream",
     "text": [
      "len(x_train), len(y_train) = 3616,3616\n",
      "len(x_test), len(y_test) = 905,905\n"
     ]
    }
   ],
   "source": [
    "x_train, x_test, y_train, y_test  = train_test_split( X, Y,  test_size=0.20, random_state=1)\n",
    "print('len(x_train), len(y_train) = ' + str(len(x_train)) + ',' + str(len(y_train)) )\n",
    "print('len(x_test), len(y_test) = ' + str(len(x_test)) + ',' + str(len(y_test)) )"
   ],
   "metadata": {
    "collapsed": false,
    "pycharm": {
     "name": "#%%\n"
    }
   }
  },
  {
   "cell_type": "markdown",
   "source": [
    "Running a decision Tree"
   ],
   "metadata": {
    "collapsed": false,
    "pycharm": {
     "name": "#%% md\n"
    }
   }
  },
  {
   "cell_type": "code",
   "execution_count": 24,
   "outputs": [
    {
     "name": "stdout",
     "output_type": "stream",
     "text": [
      "DecisionTreeClassifier()\n",
      "\n",
      "confusion_matrix from decision tree:\n",
      "[[731  59]\n",
      " [ 70  45]]\n",
      "accuracy = 0.8574585635359117\n",
      "recall = 0.391304347826087\n",
      "precision = 0.4326923076923077\n"
     ]
    }
   ],
   "source": [
    "clf = tree.DecisionTreeClassifier()\n",
    "clf = clf.fit(x_train,y_train)\n",
    "print(clf)\n",
    "y_predicted = clf.predict(x_test)\n",
    "print('\\nconfusion_matrix from decision tree:')\n",
    "print(confusion_matrix( y_test, y_predicted ) )\n",
    "accuracy = accuracy_score(y_test, y_predicted)\n",
    "recall = recall_score(y_test, y_predicted)\n",
    "precision = precision_score(y_test, y_predicted)\n",
    "print('accuracy = ' + str(accuracy))\n",
    "print('recall = ' + str(recall))\n",
    "print('precision = ' + str(precision))"
   ],
   "metadata": {
    "collapsed": false,
    "pycharm": {
     "name": "#%%\n"
    }
   }
  },
  {
   "cell_type": "markdown",
   "source": [
    "Running GaussianNB"
   ],
   "metadata": {
    "collapsed": false,
    "pycharm": {
     "name": "#%% md\n"
    }
   }
  },
  {
   "cell_type": "code",
   "execution_count": 25,
   "outputs": [
    {
     "name": "stdout",
     "output_type": "stream",
     "text": [
      "\n",
      "confusion_matrix from Gaussian naive bayes:\n",
      "[[731  59]\n",
      " [ 65  50]]\n",
      "accuracy = 0.8629834254143647\n",
      "recall = 0.43478260869565216\n",
      "precision = 0.45871559633027525\n"
     ]
    }
   ],
   "source": [
    "model = GaussianNB()\n",
    "model.fit(x_train,y_train)\n",
    "gausianNB_predicted = model.predict(x_test)\n",
    "print('\\nconfusion_matrix from Gaussian naive bayes:')\n",
    "print(confusion_matrix( y_test, gausianNB_predicted ) )\n",
    "accuracy = accuracy_score(y_test, gausianNB_predicted)\n",
    "recall = recall_score(y_test, gausianNB_predicted )\n",
    "precision = precision_score(y_test, gausianNB_predicted)\n",
    "print('accuracy = ' + str(accuracy))\n",
    "print('recall = ' + str(recall))\n",
    "print('precision = ' + str(precision))\n",
    "\n",
    "\n"
   ],
   "metadata": {
    "collapsed": false,
    "pycharm": {
     "name": "#%%\n"
    }
   }
  }
 ],
 "metadata": {
  "kernelspec": {
   "name": "pycharm-865e1948",
   "language": "python",
   "display_name": "PyCharm (GITHUB_REPOSITORY)"
  },
  "language_info": {
   "codemirror_mode": {
    "name": "ipython",
    "version": 2
   },
   "file_extension": ".py",
   "mimetype": "text/x-python",
   "name": "python",
   "nbconvert_exporter": "python",
   "pygments_lexer": "ipython2",
   "version": "2.7.6"
  }
 },
 "nbformat": 4,
 "nbformat_minor": 0
}