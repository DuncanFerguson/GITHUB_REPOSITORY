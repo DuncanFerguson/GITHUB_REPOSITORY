{
 "cells": [
  {
   "cell_type": "markdown",
   "metadata": {
    "collapsed": true,
    "pycharm": {
     "name": "#%% md\n"
    }
   },
   "source": [
    "Student: Duncan Ferguson <br>\n",
    "Student Id: 871641260 <br>\n",
    "Class: Comp 4431-1 <br>\n",
    "Assignment: Assignment 3 <br>\n",
    "Date: 11/20/2021 <br>"
   ]
  },
  {
   "cell_type": "markdown",
   "source": [
    "You are to apply the following techniques to mine this data set:\n",
    "- Association Rules\n",
    "- Decision tree Classification\n",
    "- Naive Bayes Classification\n",
    "- kmeans and dbscan clustering\n",
    "\n",
    "Also, you are to use Principle Component Analysis to reduce the number of attributes\n",
    "(aka features)\n",
    "\n",
    "Please answer the following questions:\n",
    "\n",
    "1. What can you deduce from the data set? (in otherwords, what attribute values are indicative of \"success\")\n",
    "2. Which mining techniques yielded the best results for what? How do you define \"best results\"? Please\n",
    "include tables and/or graphs to justify your statement\n",
    "\n",
    "Note: While numeric data is desired for classification/clustering, you need strings that look like market basket\n",
    "data (sets of item names) for Association Rules. Numeric data can be grouped into names like\n",
    "\"lowValue, midValue, midValue, mediumHighValue, highValue\" etc. See the following code for possible\n",
    "way of doing this (not necessarily the best):\n",
    "\n",
    "What to turn in:\n",
    "- a pdf file with the answers to these three questions\n",
    "- Your code used to answer these questions\n"
   ],
   "metadata": {
    "collapsed": false,
    "pycharm": {
     "name": "#%% md\n"
    }
   }
  },
  {
   "cell_type": "code",
   "execution_count": 2,
   "outputs": [],
   "source": [
    "import pandas as pd\n"
   ],
   "metadata": {
    "collapsed": false,
    "pycharm": {
     "name": "#%%\n"
    }
   }
  },
  {
   "cell_type": "code",
   "execution_count": 5,
   "outputs": [
    {
     "data": {
      "text/plain": "   age          job  marital  education default  balance housing loan  \\\n0   30   unemployed  married    primary      no     1787      no   no   \n1   33     services  married  secondary      no     4789     yes  yes   \n2   35   management   single   tertiary      no     1350     yes   no   \n3   30   management  married   tertiary      no     1476     yes  yes   \n4   59  blue-collar  married  secondary      no        0     yes   no   \n\n    contact  day month  duration  campaign  pdays  previous poutcome   y  \n0  cellular   19   oct        79         1     -1         0  unknown  no  \n1  cellular   11   may       220         1    339         4  failure  no  \n2  cellular   16   apr       185         1    330         1  failure  no  \n3   unknown    3   jun       199         4     -1         0  unknown  no  \n4   unknown    5   may       226         1     -1         0  unknown  no  ",
      "text/html": "<div>\n<style scoped>\n    .dataframe tbody tr th:only-of-type {\n        vertical-align: middle;\n    }\n\n    .dataframe tbody tr th {\n        vertical-align: top;\n    }\n\n    .dataframe thead th {\n        text-align: right;\n    }\n</style>\n<table border=\"1\" class=\"dataframe\">\n  <thead>\n    <tr style=\"text-align: right;\">\n      <th></th>\n      <th>age</th>\n      <th>job</th>\n      <th>marital</th>\n      <th>education</th>\n      <th>default</th>\n      <th>balance</th>\n      <th>housing</th>\n      <th>loan</th>\n      <th>contact</th>\n      <th>day</th>\n      <th>month</th>\n      <th>duration</th>\n      <th>campaign</th>\n      <th>pdays</th>\n      <th>previous</th>\n      <th>poutcome</th>\n      <th>y</th>\n    </tr>\n  </thead>\n  <tbody>\n    <tr>\n      <th>0</th>\n      <td>30</td>\n      <td>unemployed</td>\n      <td>married</td>\n      <td>primary</td>\n      <td>no</td>\n      <td>1787</td>\n      <td>no</td>\n      <td>no</td>\n      <td>cellular</td>\n      <td>19</td>\n      <td>oct</td>\n      <td>79</td>\n      <td>1</td>\n      <td>-1</td>\n      <td>0</td>\n      <td>unknown</td>\n      <td>no</td>\n    </tr>\n    <tr>\n      <th>1</th>\n      <td>33</td>\n      <td>services</td>\n      <td>married</td>\n      <td>secondary</td>\n      <td>no</td>\n      <td>4789</td>\n      <td>yes</td>\n      <td>yes</td>\n      <td>cellular</td>\n      <td>11</td>\n      <td>may</td>\n      <td>220</td>\n      <td>1</td>\n      <td>339</td>\n      <td>4</td>\n      <td>failure</td>\n      <td>no</td>\n    </tr>\n    <tr>\n      <th>2</th>\n      <td>35</td>\n      <td>management</td>\n      <td>single</td>\n      <td>tertiary</td>\n      <td>no</td>\n      <td>1350</td>\n      <td>yes</td>\n      <td>no</td>\n      <td>cellular</td>\n      <td>16</td>\n      <td>apr</td>\n      <td>185</td>\n      <td>1</td>\n      <td>330</td>\n      <td>1</td>\n      <td>failure</td>\n      <td>no</td>\n    </tr>\n    <tr>\n      <th>3</th>\n      <td>30</td>\n      <td>management</td>\n      <td>married</td>\n      <td>tertiary</td>\n      <td>no</td>\n      <td>1476</td>\n      <td>yes</td>\n      <td>yes</td>\n      <td>unknown</td>\n      <td>3</td>\n      <td>jun</td>\n      <td>199</td>\n      <td>4</td>\n      <td>-1</td>\n      <td>0</td>\n      <td>unknown</td>\n      <td>no</td>\n    </tr>\n    <tr>\n      <th>4</th>\n      <td>59</td>\n      <td>blue-collar</td>\n      <td>married</td>\n      <td>secondary</td>\n      <td>no</td>\n      <td>0</td>\n      <td>yes</td>\n      <td>no</td>\n      <td>unknown</td>\n      <td>5</td>\n      <td>may</td>\n      <td>226</td>\n      <td>1</td>\n      <td>-1</td>\n      <td>0</td>\n      <td>unknown</td>\n      <td>no</td>\n    </tr>\n  </tbody>\n</table>\n</div>"
     },
     "execution_count": 5,
     "metadata": {},
     "output_type": "execute_result"
    }
   ],
   "source": [
    "df =  pd.read_csv(\"bank.csv\")\n",
    "df.head()"
   ],
   "metadata": {
    "collapsed": false,
    "pycharm": {
     "name": "#%%\n"
    }
   }
  }
 ],
 "metadata": {
  "kernelspec": {
   "name": "pycharm-865e1948",
   "language": "python",
   "display_name": "PyCharm (GITHUB_REPOSITORY)"
  },
  "language_info": {
   "codemirror_mode": {
    "name": "ipython",
    "version": 2
   },
   "file_extension": ".py",
   "mimetype": "text/x-python",
   "name": "python",
   "nbconvert_exporter": "python",
   "pygments_lexer": "ipython2",
   "version": "2.7.6"
  }
 },
 "nbformat": 4,
 "nbformat_minor": 0
}