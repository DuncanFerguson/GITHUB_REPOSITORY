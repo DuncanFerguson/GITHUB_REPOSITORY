{
 "cells": [
  {
   "cell_type": "markdown",
   "metadata": {
    "collapsed": true,
    "pycharm": {
     "name": "#%% md\n"
    }
   },
   "source": [
    "Student: Duncan Ferguson <br>\n",
    "Student Id: 871641260 <br>\n",
    "Class: Comp 4431-1 <br>\n",
    "Assignment: Assignment 3 <br>\n",
    "Date: 11/20/2021 <br>"
   ]
  },
  {
   "cell_type": "markdown",
   "source": [
    "You are to apply the following techniques to mine this data set:\n",
    "- Association Rules\n",
    "- Decision tree Classification\n",
    "- Naive Bayes Classification\n",
    "- kmeans and dbscan clustering\n",
    "\n",
    "Also, you are to use Principle Component Analysis to reduce the number of attributes\n",
    "(aka features)\n",
    "\n",
    "Please answer the following questions:\n",
    "\n",
    "1. What can you deduce from the data set? (in otherwords, what attribute values are indicative of \"success\")\n",
    "2. Which mining techniques yielded the best results for what? How do you define \"best results\"? Please\n",
    "include tables and/or graphs to justify your statement\n",
    "\n",
    "Note: While numeric data is desired for classification/clustering, you need strings that look like market basket\n",
    "data (sets of item names) for Association Rules. Numeric data can be grouped into names like\n",
    "\"lowValue, midValue, midValue, mediumHighValue, highValue\" etc. See the following code for possible\n",
    "way of doing this (not necessarily the best):\n",
    "\n",
    "What to turn in:\n",
    "- a pdf file with the answers to these three questions\n",
    "- Your code used to answer these questions\n"
   ],
   "metadata": {
    "collapsed": false,
    "pycharm": {
     "name": "#%% md\n"
    }
   }
  },
  {
   "cell_type": "code",
   "execution_count": 127,
   "outputs": [],
   "source": [
    "# Importing Standard Libraries\n",
    "import pandas as pd\n",
    "import numpy as np\n",
    "\n",
    "# Sklearn Libraries\n",
    "from sklearn import tree\n",
    "from sklearn.model_selection import train_test_split\n",
    "from sklearn.metrics import *\n",
    "from sklearn.naive_bayes import *\n",
    "from sklearn.cluster import KMeans, DBSCAN\n",
    "from sklearn import preprocessing\n",
    "from sklearn.preprocessing import StandardScaler\n",
    "\n",
    "# Graphing Libraries\n",
    "import matplotlib.pyplot as plt\n",
    "import seaborn as sns"
   ],
   "metadata": {
    "collapsed": false,
    "pycharm": {
     "name": "#%%\n"
    }
   }
  },
  {
   "cell_type": "code",
   "execution_count": 128,
   "outputs": [],
   "source": [
    "# Setting up view options\n",
    "pd.set_option('display.max_columns', None)\n",
    "pd.set_option('max_columns', None)\n",
    "pd.set_option('max_rows', None)\n",
    "pd.options.display.width = 0   #\n"
   ],
   "metadata": {
    "collapsed": false,
    "pycharm": {
     "name": "#%%\n"
    }
   }
  },
  {
   "cell_type": "code",
   "execution_count": 129,
   "outputs": [],
   "source": [
    "# Importing the Data Set\n",
    "df =  pd.read_csv(\"bank.csv\")\n",
    "# df =  pd.read_csv(\"bank-full.csv\")\n",
    "df.head()\n",
    "\n",
    "# Establishing copies for running through the different scrubs\n",
    "df_a = df.copy()\n",
    "df_b = df.copy()"
   ],
   "metadata": {
    "collapsed": false,
    "pycharm": {
     "name": "#%%\n"
    }
   }
  },
  {
   "cell_type": "markdown",
   "source": [
    "### Association Rules Data Mining\n",
    "First Cleaning up the data and creating categories"
   ],
   "metadata": {
    "collapsed": false
   }
  },
  {
   "cell_type": "code",
   "execution_count": 130,
   "outputs": [],
   "source": [
    "for index, row in df_a.iterrows():\n",
    "\tif row['balance'] < 0:\n",
    "\t\trow['balance'] = 'inDebt'\n",
    "\telse:\n",
    "\t\trow['balance'] = 'notInDebt'\n",
    "\n",
    "# Creating Categories for balance\n",
    "df_a.loc[(df_a['balance'] >= 10000), 'balanceSummary'] = 'veryPositive'\n",
    "df_a.loc[((df_a['balance'] < 0) & (df_a['balance'] >= -10000)), 'balanceSummary'] = 'negative'\n",
    "df_a.loc[((df_a['balance'] < 10000) & (df_a['balance'] >= 0)), 'balanceSummary'] = 'positive'\n",
    "df_a.loc[df_a['balance'] < -500, 'balanceSummary'] = 'veryNegative'\n",
    "\n",
    "# Creating Categories for ages\n",
    "df_a.loc[((df_a['age'] < 25) & (df_a['age'] >= 0)),  'ageBand'] = 'ageBand1'\n",
    "df_a.loc[((df_a['age'] < 30) & (df_a['age'] >= 25)), 'ageBand'] = 'ageBand2'\n",
    "df_a.loc[((df_a['age'] < 40) & (df_a['age'] >= 30)), 'ageBand'] = 'ageBand3'\n",
    "df_a.loc[((df_a['age'] < 50) & (df_a['age'] >= 40)), 'ageBand'] = 'ageBand4'\n",
    "df_a.loc[((df_a['age'] < 120) & (df_a['age'] >= 50)),'ageBand'] = 'ageBand5'\n",
    "\n",
    "# Creating Categories for default\n",
    "df_a.loc[(df_a['default'] == 'no'), 'defaultValue'] = 'defaultNo'\n",
    "df_a.loc[(df_a['default'] == 'yes'), 'defaultValue'] = 'defaultYes'\n",
    "\n",
    "# Creating Categories for Housing\n",
    "df_a.loc[(df_a['housing'] == 'no'), 'housingVal'] = 'houseNo'\n",
    "df_a.loc[(df_a['housing'] == 'yes'), 'housingVal'] = 'houseYes'\n",
    "\n",
    "# Creating Categories for Loans\n",
    "df_a.loc[(df_a['loan'] == 'no'), 'loanVal'] = 'loanNo'\n",
    "df_a.loc[(df_a['loan'] == 'yes'), 'loanVal'] = 'loanYes'"
   ],
   "metadata": {
    "collapsed": false,
    "pycharm": {
     "name": "#%%\n"
    }
   }
  },
  {
   "cell_type": "markdown",
   "source": [
    "Displaying Data with new categories"
   ],
   "metadata": {
    "collapsed": false
   }
  },
  {
   "cell_type": "code",
   "execution_count": 131,
   "outputs": [
    {
     "data": {
      "text/plain": "   age            job  marital  education default  balance housing loan  \\\n0   30     unemployed  married    primary      no     1787      no   no   \n1   33       services  married  secondary      no     4789     yes  yes   \n2   35     management   single   tertiary      no     1350     yes   no   \n3   30     management  married   tertiary      no     1476     yes  yes   \n4   59    blue-collar  married  secondary      no        0     yes   no   \n5   35     management   single   tertiary      no      747      no   no   \n6   36  self-employed  married   tertiary      no      307     yes   no   \n7   39     technician  married  secondary      no      147     yes   no   \n8   41   entrepreneur  married   tertiary      no      221     yes   no   \n9   43       services  married    primary      no      -88     yes  yes   \n\n    contact  day month  duration  campaign  pdays  previous poutcome   y  \\\n0  cellular   19   oct        79         1     -1         0  unknown  no   \n1  cellular   11   may       220         1    339         4  failure  no   \n2  cellular   16   apr       185         1    330         1  failure  no   \n3   unknown    3   jun       199         4     -1         0  unknown  no   \n4   unknown    5   may       226         1     -1         0  unknown  no   \n5  cellular   23   feb       141         2    176         3  failure  no   \n6  cellular   14   may       341         1    330         2    other  no   \n7  cellular    6   may       151         2     -1         0  unknown  no   \n8   unknown   14   may        57         2     -1         0  unknown  no   \n9  cellular   17   apr       313         1    147         2  failure  no   \n\n  balanceSummary   ageBand defaultValue housingVal  loanVal  \n0       positive  ageBand3    defaultNo    houseNo   loanNo  \n1       positive  ageBand3    defaultNo   houseYes  loanYes  \n2       positive  ageBand3    defaultNo   houseYes   loanNo  \n3       positive  ageBand3    defaultNo   houseYes  loanYes  \n4       positive  ageBand5    defaultNo   houseYes   loanNo  \n5       positive  ageBand3    defaultNo    houseNo   loanNo  \n6       positive  ageBand3    defaultNo   houseYes   loanNo  \n7       positive  ageBand3    defaultNo   houseYes   loanNo  \n8       positive  ageBand4    defaultNo   houseYes   loanNo  \n9       negative  ageBand4    defaultNo   houseYes  loanYes  ",
      "text/html": "<div>\n<style scoped>\n    .dataframe tbody tr th:only-of-type {\n        vertical-align: middle;\n    }\n\n    .dataframe tbody tr th {\n        vertical-align: top;\n    }\n\n    .dataframe thead th {\n        text-align: right;\n    }\n</style>\n<table border=\"1\" class=\"dataframe\">\n  <thead>\n    <tr style=\"text-align: right;\">\n      <th></th>\n      <th>age</th>\n      <th>job</th>\n      <th>marital</th>\n      <th>education</th>\n      <th>default</th>\n      <th>balance</th>\n      <th>housing</th>\n      <th>loan</th>\n      <th>contact</th>\n      <th>day</th>\n      <th>month</th>\n      <th>duration</th>\n      <th>campaign</th>\n      <th>pdays</th>\n      <th>previous</th>\n      <th>poutcome</th>\n      <th>y</th>\n      <th>balanceSummary</th>\n      <th>ageBand</th>\n      <th>defaultValue</th>\n      <th>housingVal</th>\n      <th>loanVal</th>\n    </tr>\n  </thead>\n  <tbody>\n    <tr>\n      <th>0</th>\n      <td>30</td>\n      <td>unemployed</td>\n      <td>married</td>\n      <td>primary</td>\n      <td>no</td>\n      <td>1787</td>\n      <td>no</td>\n      <td>no</td>\n      <td>cellular</td>\n      <td>19</td>\n      <td>oct</td>\n      <td>79</td>\n      <td>1</td>\n      <td>-1</td>\n      <td>0</td>\n      <td>unknown</td>\n      <td>no</td>\n      <td>positive</td>\n      <td>ageBand3</td>\n      <td>defaultNo</td>\n      <td>houseNo</td>\n      <td>loanNo</td>\n    </tr>\n    <tr>\n      <th>1</th>\n      <td>33</td>\n      <td>services</td>\n      <td>married</td>\n      <td>secondary</td>\n      <td>no</td>\n      <td>4789</td>\n      <td>yes</td>\n      <td>yes</td>\n      <td>cellular</td>\n      <td>11</td>\n      <td>may</td>\n      <td>220</td>\n      <td>1</td>\n      <td>339</td>\n      <td>4</td>\n      <td>failure</td>\n      <td>no</td>\n      <td>positive</td>\n      <td>ageBand3</td>\n      <td>defaultNo</td>\n      <td>houseYes</td>\n      <td>loanYes</td>\n    </tr>\n    <tr>\n      <th>2</th>\n      <td>35</td>\n      <td>management</td>\n      <td>single</td>\n      <td>tertiary</td>\n      <td>no</td>\n      <td>1350</td>\n      <td>yes</td>\n      <td>no</td>\n      <td>cellular</td>\n      <td>16</td>\n      <td>apr</td>\n      <td>185</td>\n      <td>1</td>\n      <td>330</td>\n      <td>1</td>\n      <td>failure</td>\n      <td>no</td>\n      <td>positive</td>\n      <td>ageBand3</td>\n      <td>defaultNo</td>\n      <td>houseYes</td>\n      <td>loanNo</td>\n    </tr>\n    <tr>\n      <th>3</th>\n      <td>30</td>\n      <td>management</td>\n      <td>married</td>\n      <td>tertiary</td>\n      <td>no</td>\n      <td>1476</td>\n      <td>yes</td>\n      <td>yes</td>\n      <td>unknown</td>\n      <td>3</td>\n      <td>jun</td>\n      <td>199</td>\n      <td>4</td>\n      <td>-1</td>\n      <td>0</td>\n      <td>unknown</td>\n      <td>no</td>\n      <td>positive</td>\n      <td>ageBand3</td>\n      <td>defaultNo</td>\n      <td>houseYes</td>\n      <td>loanYes</td>\n    </tr>\n    <tr>\n      <th>4</th>\n      <td>59</td>\n      <td>blue-collar</td>\n      <td>married</td>\n      <td>secondary</td>\n      <td>no</td>\n      <td>0</td>\n      <td>yes</td>\n      <td>no</td>\n      <td>unknown</td>\n      <td>5</td>\n      <td>may</td>\n      <td>226</td>\n      <td>1</td>\n      <td>-1</td>\n      <td>0</td>\n      <td>unknown</td>\n      <td>no</td>\n      <td>positive</td>\n      <td>ageBand5</td>\n      <td>defaultNo</td>\n      <td>houseYes</td>\n      <td>loanNo</td>\n    </tr>\n    <tr>\n      <th>5</th>\n      <td>35</td>\n      <td>management</td>\n      <td>single</td>\n      <td>tertiary</td>\n      <td>no</td>\n      <td>747</td>\n      <td>no</td>\n      <td>no</td>\n      <td>cellular</td>\n      <td>23</td>\n      <td>feb</td>\n      <td>141</td>\n      <td>2</td>\n      <td>176</td>\n      <td>3</td>\n      <td>failure</td>\n      <td>no</td>\n      <td>positive</td>\n      <td>ageBand3</td>\n      <td>defaultNo</td>\n      <td>houseNo</td>\n      <td>loanNo</td>\n    </tr>\n    <tr>\n      <th>6</th>\n      <td>36</td>\n      <td>self-employed</td>\n      <td>married</td>\n      <td>tertiary</td>\n      <td>no</td>\n      <td>307</td>\n      <td>yes</td>\n      <td>no</td>\n      <td>cellular</td>\n      <td>14</td>\n      <td>may</td>\n      <td>341</td>\n      <td>1</td>\n      <td>330</td>\n      <td>2</td>\n      <td>other</td>\n      <td>no</td>\n      <td>positive</td>\n      <td>ageBand3</td>\n      <td>defaultNo</td>\n      <td>houseYes</td>\n      <td>loanNo</td>\n    </tr>\n    <tr>\n      <th>7</th>\n      <td>39</td>\n      <td>technician</td>\n      <td>married</td>\n      <td>secondary</td>\n      <td>no</td>\n      <td>147</td>\n      <td>yes</td>\n      <td>no</td>\n      <td>cellular</td>\n      <td>6</td>\n      <td>may</td>\n      <td>151</td>\n      <td>2</td>\n      <td>-1</td>\n      <td>0</td>\n      <td>unknown</td>\n      <td>no</td>\n      <td>positive</td>\n      <td>ageBand3</td>\n      <td>defaultNo</td>\n      <td>houseYes</td>\n      <td>loanNo</td>\n    </tr>\n    <tr>\n      <th>8</th>\n      <td>41</td>\n      <td>entrepreneur</td>\n      <td>married</td>\n      <td>tertiary</td>\n      <td>no</td>\n      <td>221</td>\n      <td>yes</td>\n      <td>no</td>\n      <td>unknown</td>\n      <td>14</td>\n      <td>may</td>\n      <td>57</td>\n      <td>2</td>\n      <td>-1</td>\n      <td>0</td>\n      <td>unknown</td>\n      <td>no</td>\n      <td>positive</td>\n      <td>ageBand4</td>\n      <td>defaultNo</td>\n      <td>houseYes</td>\n      <td>loanNo</td>\n    </tr>\n    <tr>\n      <th>9</th>\n      <td>43</td>\n      <td>services</td>\n      <td>married</td>\n      <td>primary</td>\n      <td>no</td>\n      <td>-88</td>\n      <td>yes</td>\n      <td>yes</td>\n      <td>cellular</td>\n      <td>17</td>\n      <td>apr</td>\n      <td>313</td>\n      <td>1</td>\n      <td>147</td>\n      <td>2</td>\n      <td>failure</td>\n      <td>no</td>\n      <td>negative</td>\n      <td>ageBand4</td>\n      <td>defaultNo</td>\n      <td>houseYes</td>\n      <td>loanYes</td>\n    </tr>\n  </tbody>\n</table>\n</div>"
     },
     "execution_count": 131,
     "metadata": {},
     "output_type": "execute_result"
    }
   ],
   "source": [
    "df_a.head(10)"
   ],
   "metadata": {
    "collapsed": false,
    "pycharm": {
     "name": "#%%\n"
    }
   }
  },
  {
   "cell_type": "markdown",
   "source": [
    "Dropping data that is not in a string"
   ],
   "metadata": {
    "collapsed": false
   }
  },
  {
   "cell_type": "code",
   "execution_count": 132,
   "outputs": [],
   "source": [
    "df_a = df_a.drop('age',axis=1)\n",
    "df_a = df_a.drop('day',axis=1)\n",
    "df_a = df_a.drop('duration',axis=1)\n",
    "df_a = df_a.drop('balance',axis=1)\n",
    "df_a = df_a.drop('campaign',axis=1)\n",
    "df_a = df_a.drop('previous',axis=1)\n",
    "df_a = df_a.drop('default',axis=1)\n",
    "df_a = df_a.drop('housing',axis=1)\n",
    "df_a = df_a.drop('loan',axis=1)\n",
    "df_a = df_a.drop('pdays',axis=1)"
   ],
   "metadata": {
    "collapsed": false,
    "pycharm": {
     "name": "#%%\n"
    }
   }
  },
  {
   "cell_type": "markdown",
   "source": [
    "Displaying Final Data to be interpreted"
   ],
   "metadata": {
    "collapsed": false
   }
  },
  {
   "cell_type": "code",
   "execution_count": 133,
   "outputs": [
    {
     "data": {
      "text/plain": "             job  marital  education   contact month poutcome   y  \\\n0     unemployed  married    primary  cellular   oct  unknown  no   \n1       services  married  secondary  cellular   may  failure  no   \n2     management   single   tertiary  cellular   apr  failure  no   \n3     management  married   tertiary   unknown   jun  unknown  no   \n4    blue-collar  married  secondary   unknown   may  unknown  no   \n5     management   single   tertiary  cellular   feb  failure  no   \n6  self-employed  married   tertiary  cellular   may    other  no   \n7     technician  married  secondary  cellular   may  unknown  no   \n8   entrepreneur  married   tertiary   unknown   may  unknown  no   \n9       services  married    primary  cellular   apr  failure  no   \n\n  balanceSummary   ageBand defaultValue housingVal  loanVal  \n0       positive  ageBand3    defaultNo    houseNo   loanNo  \n1       positive  ageBand3    defaultNo   houseYes  loanYes  \n2       positive  ageBand3    defaultNo   houseYes   loanNo  \n3       positive  ageBand3    defaultNo   houseYes  loanYes  \n4       positive  ageBand5    defaultNo   houseYes   loanNo  \n5       positive  ageBand3    defaultNo    houseNo   loanNo  \n6       positive  ageBand3    defaultNo   houseYes   loanNo  \n7       positive  ageBand3    defaultNo   houseYes   loanNo  \n8       positive  ageBand4    defaultNo   houseYes   loanNo  \n9       negative  ageBand4    defaultNo   houseYes  loanYes  ",
      "text/html": "<div>\n<style scoped>\n    .dataframe tbody tr th:only-of-type {\n        vertical-align: middle;\n    }\n\n    .dataframe tbody tr th {\n        vertical-align: top;\n    }\n\n    .dataframe thead th {\n        text-align: right;\n    }\n</style>\n<table border=\"1\" class=\"dataframe\">\n  <thead>\n    <tr style=\"text-align: right;\">\n      <th></th>\n      <th>job</th>\n      <th>marital</th>\n      <th>education</th>\n      <th>contact</th>\n      <th>month</th>\n      <th>poutcome</th>\n      <th>y</th>\n      <th>balanceSummary</th>\n      <th>ageBand</th>\n      <th>defaultValue</th>\n      <th>housingVal</th>\n      <th>loanVal</th>\n    </tr>\n  </thead>\n  <tbody>\n    <tr>\n      <th>0</th>\n      <td>unemployed</td>\n      <td>married</td>\n      <td>primary</td>\n      <td>cellular</td>\n      <td>oct</td>\n      <td>unknown</td>\n      <td>no</td>\n      <td>positive</td>\n      <td>ageBand3</td>\n      <td>defaultNo</td>\n      <td>houseNo</td>\n      <td>loanNo</td>\n    </tr>\n    <tr>\n      <th>1</th>\n      <td>services</td>\n      <td>married</td>\n      <td>secondary</td>\n      <td>cellular</td>\n      <td>may</td>\n      <td>failure</td>\n      <td>no</td>\n      <td>positive</td>\n      <td>ageBand3</td>\n      <td>defaultNo</td>\n      <td>houseYes</td>\n      <td>loanYes</td>\n    </tr>\n    <tr>\n      <th>2</th>\n      <td>management</td>\n      <td>single</td>\n      <td>tertiary</td>\n      <td>cellular</td>\n      <td>apr</td>\n      <td>failure</td>\n      <td>no</td>\n      <td>positive</td>\n      <td>ageBand3</td>\n      <td>defaultNo</td>\n      <td>houseYes</td>\n      <td>loanNo</td>\n    </tr>\n    <tr>\n      <th>3</th>\n      <td>management</td>\n      <td>married</td>\n      <td>tertiary</td>\n      <td>unknown</td>\n      <td>jun</td>\n      <td>unknown</td>\n      <td>no</td>\n      <td>positive</td>\n      <td>ageBand3</td>\n      <td>defaultNo</td>\n      <td>houseYes</td>\n      <td>loanYes</td>\n    </tr>\n    <tr>\n      <th>4</th>\n      <td>blue-collar</td>\n      <td>married</td>\n      <td>secondary</td>\n      <td>unknown</td>\n      <td>may</td>\n      <td>unknown</td>\n      <td>no</td>\n      <td>positive</td>\n      <td>ageBand5</td>\n      <td>defaultNo</td>\n      <td>houseYes</td>\n      <td>loanNo</td>\n    </tr>\n    <tr>\n      <th>5</th>\n      <td>management</td>\n      <td>single</td>\n      <td>tertiary</td>\n      <td>cellular</td>\n      <td>feb</td>\n      <td>failure</td>\n      <td>no</td>\n      <td>positive</td>\n      <td>ageBand3</td>\n      <td>defaultNo</td>\n      <td>houseNo</td>\n      <td>loanNo</td>\n    </tr>\n    <tr>\n      <th>6</th>\n      <td>self-employed</td>\n      <td>married</td>\n      <td>tertiary</td>\n      <td>cellular</td>\n      <td>may</td>\n      <td>other</td>\n      <td>no</td>\n      <td>positive</td>\n      <td>ageBand3</td>\n      <td>defaultNo</td>\n      <td>houseYes</td>\n      <td>loanNo</td>\n    </tr>\n    <tr>\n      <th>7</th>\n      <td>technician</td>\n      <td>married</td>\n      <td>secondary</td>\n      <td>cellular</td>\n      <td>may</td>\n      <td>unknown</td>\n      <td>no</td>\n      <td>positive</td>\n      <td>ageBand3</td>\n      <td>defaultNo</td>\n      <td>houseYes</td>\n      <td>loanNo</td>\n    </tr>\n    <tr>\n      <th>8</th>\n      <td>entrepreneur</td>\n      <td>married</td>\n      <td>tertiary</td>\n      <td>unknown</td>\n      <td>may</td>\n      <td>unknown</td>\n      <td>no</td>\n      <td>positive</td>\n      <td>ageBand4</td>\n      <td>defaultNo</td>\n      <td>houseYes</td>\n      <td>loanNo</td>\n    </tr>\n    <tr>\n      <th>9</th>\n      <td>services</td>\n      <td>married</td>\n      <td>primary</td>\n      <td>cellular</td>\n      <td>apr</td>\n      <td>failure</td>\n      <td>no</td>\n      <td>negative</td>\n      <td>ageBand4</td>\n      <td>defaultNo</td>\n      <td>houseYes</td>\n      <td>loanYes</td>\n    </tr>\n  </tbody>\n</table>\n</div>"
     },
     "execution_count": 133,
     "metadata": {},
     "output_type": "execute_result"
    }
   ],
   "source": [
    "df_a.head(10)"
   ],
   "metadata": {
    "collapsed": false,
    "pycharm": {
     "name": "#%%\n"
    }
   }
  },
  {
   "cell_type": "markdown",
   "source": [
    "Displaying all Unique Values"
   ],
   "metadata": {
    "collapsed": false,
    "pycharm": {
     "name": "#%% md\n"
    }
   }
  },
  {
   "cell_type": "code",
   "execution_count": 139,
   "outputs": [
    {
     "name": "stdout",
     "output_type": "stream",
     "text": [
      "job : ['unemployed' 'services' 'management' 'blue-collar' 'self-employed'\n",
      " 'technician' 'entrepreneur' 'admin.' 'student' 'housemaid' 'retired'\n",
      " 'unknown']\n",
      "marital : ['married' 'single' 'divorced']\n",
      "education : ['primary' 'secondary' 'tertiary' 'unknown']\n",
      "contact : ['cellular' 'unknown' 'telephone']\n",
      "month : ['oct' 'may' 'apr' 'jun' 'feb' 'aug' 'jan' 'jul' 'nov' 'sep' 'mar' 'dec']\n",
      "poutcome : ['unknown' 'failure' 'other' 'success']\n",
      "y : ['no' 'yes']\n",
      "balanceSummary : ['positive' 'negative' 'veryPositive' 'veryNegative']\n",
      "ageBand : ['ageBand3' 'ageBand5' 'ageBand4' 'ageBand1' 'ageBand2']\n",
      "defaultValue : ['defaultNo' 'defaultYes']\n",
      "housingVal : ['houseNo' 'houseYes']\n",
      "loanVal : ['loanNo' 'loanYes']\n"
     ]
    }
   ],
   "source": [
    "for col in df_a:\n",
    "    print(col, \":\", df_a[col].unique())"
   ],
   "metadata": {
    "collapsed": false,
    "pycharm": {
     "name": "#%%\n"
    }
   }
  },
  {
   "cell_type": "code",
   "execution_count": null,
   "outputs": [],
   "source": [
    "\n",
    "\n",
    "\n",
    "\n",
    "\n",
    "\n",
    "\n",
    "\n",
    "\n",
    "\n",
    "\n"
   ],
   "metadata": {
    "collapsed": false,
    "pycharm": {
     "name": "#%%\n"
    }
   }
  },
  {
   "cell_type": "markdown",
   "source": [
    "# Part 2\n",
    "Changing all non-numeric into category data for Part 3"
   ],
   "metadata": {
    "collapsed": false,
    "pycharm": {
     "name": "#%% md\n"
    }
   }
  },
  {
   "cell_type": "code",
   "execution_count": 134,
   "outputs": [
    {
     "name": "stdout",
     "output_type": "stream",
     "text": [
      "Post Conversion of Data into numeric, dropping pdays, and normalizing balance:\n"
     ]
    },
    {
     "data": {
      "text/plain": "   age  job  marital  education  default   balance  housing  loan  contact  \\\n0   30   10        1          0        0  0.068455        0     0        0   \n1   33    7        1          1        0  0.108750        1     1        0   \n2   35    4        2          2        0  0.062590        1     0        0   \n3   30    4        1          2        0  0.064281        1     1        2   \n4   59    1        1          1        0  0.044469        1     0        2   \n5   35    4        2          2        0  0.054496        0     0        0   \n6   36    6        1          2        0  0.048590        1     0        0   \n7   39    9        1          1        0  0.046442        1     0        0   \n8   41    2        1          2        0  0.047436        1     0        2   \n9   43    7        1          0        0  0.043288        1     1        0   \n\n   day  month  duration  campaign  previous  poutcome  y  \n0   19     10        79         1         0         3  0  \n1   11      8       220         1         4         0  0  \n2   16      0       185         1         1         0  0  \n3    3      6       199         4         0         3  0  \n4    5      8       226         1         0         3  0  \n5   23      3       141         2         3         0  0  \n6   14      8       341         1         2         1  0  \n7    6      8       151         2         0         3  0  \n8   14      8        57         2         0         3  0  \n9   17      0       313         1         2         0  0  ",
      "text/html": "<div>\n<style scoped>\n    .dataframe tbody tr th:only-of-type {\n        vertical-align: middle;\n    }\n\n    .dataframe tbody tr th {\n        vertical-align: top;\n    }\n\n    .dataframe thead th {\n        text-align: right;\n    }\n</style>\n<table border=\"1\" class=\"dataframe\">\n  <thead>\n    <tr style=\"text-align: right;\">\n      <th></th>\n      <th>age</th>\n      <th>job</th>\n      <th>marital</th>\n      <th>education</th>\n      <th>default</th>\n      <th>balance</th>\n      <th>housing</th>\n      <th>loan</th>\n      <th>contact</th>\n      <th>day</th>\n      <th>month</th>\n      <th>duration</th>\n      <th>campaign</th>\n      <th>previous</th>\n      <th>poutcome</th>\n      <th>y</th>\n    </tr>\n  </thead>\n  <tbody>\n    <tr>\n      <th>0</th>\n      <td>30</td>\n      <td>10</td>\n      <td>1</td>\n      <td>0</td>\n      <td>0</td>\n      <td>0.068455</td>\n      <td>0</td>\n      <td>0</td>\n      <td>0</td>\n      <td>19</td>\n      <td>10</td>\n      <td>79</td>\n      <td>1</td>\n      <td>0</td>\n      <td>3</td>\n      <td>0</td>\n    </tr>\n    <tr>\n      <th>1</th>\n      <td>33</td>\n      <td>7</td>\n      <td>1</td>\n      <td>1</td>\n      <td>0</td>\n      <td>0.108750</td>\n      <td>1</td>\n      <td>1</td>\n      <td>0</td>\n      <td>11</td>\n      <td>8</td>\n      <td>220</td>\n      <td>1</td>\n      <td>4</td>\n      <td>0</td>\n      <td>0</td>\n    </tr>\n    <tr>\n      <th>2</th>\n      <td>35</td>\n      <td>4</td>\n      <td>2</td>\n      <td>2</td>\n      <td>0</td>\n      <td>0.062590</td>\n      <td>1</td>\n      <td>0</td>\n      <td>0</td>\n      <td>16</td>\n      <td>0</td>\n      <td>185</td>\n      <td>1</td>\n      <td>1</td>\n      <td>0</td>\n      <td>0</td>\n    </tr>\n    <tr>\n      <th>3</th>\n      <td>30</td>\n      <td>4</td>\n      <td>1</td>\n      <td>2</td>\n      <td>0</td>\n      <td>0.064281</td>\n      <td>1</td>\n      <td>1</td>\n      <td>2</td>\n      <td>3</td>\n      <td>6</td>\n      <td>199</td>\n      <td>4</td>\n      <td>0</td>\n      <td>3</td>\n      <td>0</td>\n    </tr>\n    <tr>\n      <th>4</th>\n      <td>59</td>\n      <td>1</td>\n      <td>1</td>\n      <td>1</td>\n      <td>0</td>\n      <td>0.044469</td>\n      <td>1</td>\n      <td>0</td>\n      <td>2</td>\n      <td>5</td>\n      <td>8</td>\n      <td>226</td>\n      <td>1</td>\n      <td>0</td>\n      <td>3</td>\n      <td>0</td>\n    </tr>\n    <tr>\n      <th>5</th>\n      <td>35</td>\n      <td>4</td>\n      <td>2</td>\n      <td>2</td>\n      <td>0</td>\n      <td>0.054496</td>\n      <td>0</td>\n      <td>0</td>\n      <td>0</td>\n      <td>23</td>\n      <td>3</td>\n      <td>141</td>\n      <td>2</td>\n      <td>3</td>\n      <td>0</td>\n      <td>0</td>\n    </tr>\n    <tr>\n      <th>6</th>\n      <td>36</td>\n      <td>6</td>\n      <td>1</td>\n      <td>2</td>\n      <td>0</td>\n      <td>0.048590</td>\n      <td>1</td>\n      <td>0</td>\n      <td>0</td>\n      <td>14</td>\n      <td>8</td>\n      <td>341</td>\n      <td>1</td>\n      <td>2</td>\n      <td>1</td>\n      <td>0</td>\n    </tr>\n    <tr>\n      <th>7</th>\n      <td>39</td>\n      <td>9</td>\n      <td>1</td>\n      <td>1</td>\n      <td>0</td>\n      <td>0.046442</td>\n      <td>1</td>\n      <td>0</td>\n      <td>0</td>\n      <td>6</td>\n      <td>8</td>\n      <td>151</td>\n      <td>2</td>\n      <td>0</td>\n      <td>3</td>\n      <td>0</td>\n    </tr>\n    <tr>\n      <th>8</th>\n      <td>41</td>\n      <td>2</td>\n      <td>1</td>\n      <td>2</td>\n      <td>0</td>\n      <td>0.047436</td>\n      <td>1</td>\n      <td>0</td>\n      <td>2</td>\n      <td>14</td>\n      <td>8</td>\n      <td>57</td>\n      <td>2</td>\n      <td>0</td>\n      <td>3</td>\n      <td>0</td>\n    </tr>\n    <tr>\n      <th>9</th>\n      <td>43</td>\n      <td>7</td>\n      <td>1</td>\n      <td>0</td>\n      <td>0</td>\n      <td>0.043288</td>\n      <td>1</td>\n      <td>1</td>\n      <td>0</td>\n      <td>17</td>\n      <td>0</td>\n      <td>313</td>\n      <td>1</td>\n      <td>2</td>\n      <td>0</td>\n      <td>0</td>\n    </tr>\n  </tbody>\n</table>\n</div>"
     },
     "execution_count": 134,
     "metadata": {},
     "output_type": "execute_result"
    }
   ],
   "source": [
    "df_b['job'] = df_b['job'].astype('category')\n",
    "df_b['job'] = df_b['job'].cat.codes\n",
    "df_b['marital'] = df_b['marital'].astype('category')\n",
    "df_b['marital'] = df_b['marital'].cat.codes\n",
    "df_b['education'] = df_b['education'].astype('category')\n",
    "df_b['education'] = df_b['education'].cat.codes\n",
    "df_b['default'] = df_b['default'].astype('category')\n",
    "df_b['default'] = df_b['default'].cat.codes\n",
    "df_b['contact'] = df_b['contact'].astype('category')\n",
    "df_b['contact'] = df_b['contact'].cat.codes\n",
    "df_b['month'] = df_b['month'].astype('category')\n",
    "df_b['month'] = df_b['month'].cat.codes\n",
    "df_b['poutcome'] = df_b['poutcome'].astype('category')\n",
    "df_b['poutcome'] = df_b['poutcome'].cat.codes\n",
    "df_b['housing'] = df_b['housing'].astype('category')\n",
    "df_b['housing'] = df_b['housing'].cat.codes\n",
    "df_b['loan'] = df_b['loan'].astype('category')\n",
    "df_b['loan'] = df_b['loan'].cat.codes\n",
    "df_b['y'] = df_b['y'].astype('category')\n",
    "df_b['y'] = df_b['y'].cat.codes\n",
    "df_b = df_b.drop('pdays',axis=1)\n",
    "df_b['balance'] = (df_b['balance'] - df_b['balance'].min()) / ( df_b['balance'].max() - df_b['balance'].min())\n",
    "print(\"Post Conversion of Data into numeric, dropping pdays, and normalizing balance:\")\n",
    "df_b.head(10)"
   ],
   "metadata": {
    "collapsed": false,
    "pycharm": {
     "name": "#%%\n"
    }
   }
  },
  {
   "cell_type": "markdown",
   "source": [
    "Creating X and Y for machine learning Algorithms"
   ],
   "metadata": {
    "collapsed": false
   }
  },
  {
   "cell_type": "code",
   "execution_count": 135,
   "outputs": [],
   "source": [
    "Y = df_b['y']\n",
    "df_b = df_b.drop('y',axis=1)\n",
    "X = df_b"
   ],
   "metadata": {
    "collapsed": false,
    "pycharm": {
     "name": "#%%\n"
    }
   }
  },
  {
   "cell_type": "markdown",
   "source": [
    "Partitioning data into training and testing sets"
   ],
   "metadata": {
    "collapsed": false
   }
  },
  {
   "cell_type": "code",
   "execution_count": 136,
   "outputs": [
    {
     "name": "stdout",
     "output_type": "stream",
     "text": [
      "len(x_train), len(y_train) = 3616,3616\n",
      "len(x_test), len(y_test) = 905,905\n"
     ]
    }
   ],
   "source": [
    "x_train, x_test, y_train, y_test  = train_test_split( X, Y,  test_size=0.20, random_state=1)\n",
    "print('len(x_train), len(y_train) = ' + str(len(x_train)) + ',' + str(len(y_train)) )\n",
    "print('len(x_test), len(y_test) = ' + str(len(x_test)) + ',' + str(len(y_test)) )"
   ],
   "metadata": {
    "collapsed": false,
    "pycharm": {
     "name": "#%%\n"
    }
   }
  },
  {
   "cell_type": "markdown",
   "source": [
    "Running a decision Tree"
   ],
   "metadata": {
    "collapsed": false
   }
  },
  {
   "cell_type": "code",
   "execution_count": 137,
   "outputs": [
    {
     "name": "stdout",
     "output_type": "stream",
     "text": [
      "DecisionTreeClassifier()\n",
      "\n",
      "confusion_matrix from decision tree:\n",
      "[[726  64]\n",
      " [ 68  47]]\n",
      "accuracy = 0.8541436464088398\n",
      "recall = 0.40869565217391307\n",
      "precision = 0.42342342342342343\n"
     ]
    }
   ],
   "source": [
    "clf = tree.DecisionTreeClassifier()\n",
    "clf = clf.fit(x_train,y_train)\n",
    "print(clf)\n",
    "y_predicted = clf.predict(x_test)\n",
    "print('\\nconfusion_matrix from decision tree:')\n",
    "print(confusion_matrix( y_test, y_predicted ) )\n",
    "accuracy = accuracy_score(y_test, y_predicted)\n",
    "recall = recall_score(y_test, y_predicted)\n",
    "precision = precision_score(y_test, y_predicted)\n",
    "print('accuracy = ' + str(accuracy))\n",
    "print('recall = ' + str(recall))\n",
    "print('precision = ' + str(precision))"
   ],
   "metadata": {
    "collapsed": false,
    "pycharm": {
     "name": "#%%\n"
    }
   }
  },
  {
   "cell_type": "markdown",
   "source": [
    "Running GaussianNB"
   ],
   "metadata": {
    "collapsed": false
   }
  },
  {
   "cell_type": "code",
   "execution_count": 138,
   "outputs": [
    {
     "name": "stdout",
     "output_type": "stream",
     "text": [
      "\n",
      "confusion_matrix from Gaussian naive bayes:\n",
      "[[731  59]\n",
      " [ 65  50]]\n",
      "accuracy = 0.8629834254143647\n",
      "recall = 0.43478260869565216\n",
      "precision = 0.45871559633027525\n"
     ]
    }
   ],
   "source": [
    "model = GaussianNB()\n",
    "model.fit(x_train,y_train)\n",
    "gausianNB_predicted = model.predict(x_test)\n",
    "print('\\nconfusion_matrix from Gaussian naive bayes:')\n",
    "print(confusion_matrix( y_test, gausianNB_predicted ) )\n",
    "accuracy = accuracy_score(y_test, gausianNB_predicted)\n",
    "recall = recall_score(y_test, gausianNB_predicted )\n",
    "precision = precision_score(y_test, gausianNB_predicted)\n",
    "print('accuracy = ' + str(accuracy))\n",
    "print('recall = ' + str(recall))\n",
    "print('precision = ' + str(precision))"
   ],
   "metadata": {
    "collapsed": false,
    "pycharm": {
     "name": "#%%\n"
    }
   }
  }
 ],
 "metadata": {
  "kernelspec": {
   "name": "pycharm-865e1948",
   "language": "python",
   "display_name": "PyCharm (GITHUB_REPOSITORY)"
  },
  "language_info": {
   "codemirror_mode": {
    "name": "ipython",
    "version": 2
   },
   "file_extension": ".py",
   "mimetype": "text/x-python",
   "name": "python",
   "nbconvert_exporter": "python",
   "pygments_lexer": "ipython2",
   "version": "2.7.6"
  }
 },
 "nbformat": 4,
 "nbformat_minor": 0
}