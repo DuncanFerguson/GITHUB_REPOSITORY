{
  "cells": [
    {
      "cell_type": "code",
      "execution_count": 40,
      "metadata": {
        "id": "q7e5FvPEUVob"
      },
      "outputs": [],
      "source": [
        "# Import Libraries\n",
        "import pandas as pd\n",
        "import numpy as np\n",
        "import matplotlib.pyplot as plt\n",
        "import seaborn as sns\n",
        "from IPython.display import display\n"
      ]
    },
    {
      "cell_type": "markdown",
      "metadata": {
        "id": "0awIw7mSY1A1"
      },
      "source": [
        "# Experiment Objective\n"
      ]
    },
    {
      "cell_type": "markdown",
      "metadata": {
        "id": "ljjJlwoIZUFg"
      },
      "source": [
        "## Describe the data set that is being analyzed. Including the TOS (Terms of Service) and ethical considerations\n",
        "- Lecture 07 Data Science Ethics, and Building Good Training Datasets with Data Preprocessing\n",
        "\n",
        "The Data set that is being examined is from the University of Calironia - Irvine's Machine Learning repository. I looked at a few other datasets from the U.S. Census, SNOTEL, and various Employement Statistics. This data set seemed the most revelant to my current job. It is a little lighter on the extractaion method which should led me more time to focuse on machine learning aspects of the project. \n",
        "\n",
        "When looking at the \"READ ME\" of this data set it is cited that the data set is available for research, but should include the following citation.\n",
        "\n",
        "  [Moro et al., 2011] S. Moro, R. Laureano and P. Cortez. Using Data Mining for Bank Direct Marketing: An Application of the CRISP-DM Methodology. \n",
        "  In P. Novais et al. (Eds.), Proceedings of the European Simulation and Modelling Conference - ESM'2011, pp. 117-121, Guimarães, Portugal, October, 2011. EUROSIS.\n",
        "\n",
        "  Available at: http://www3.dsi.uminho.pt/pcortez/bib/2011-esm-1.txt\n",
        "\"\n",
        "\n",
        "\n",
        "- What am I attempting to model?\n",
        "\n",
        "With the dataset that I have selected, I am attempting to predict if a client has subscribed to a term deposit. More importantly, if a campaign was successfull in helpful in determing that the client dubscribed.\n",
        "\n",
        "- Why did I choose the traininng examples I did for training the model\n",
        "\n",
        "There were a few things in the data set that needed to be remove before more extensive feature selection could be conducted. The first point is selecting clients that have not been contacted before for a campaign. This means we have to scrub out any data points that do not have pday = -1 or previous > 0. Because we do not which campaigns the clients were a part of previously contacted people offer an opportunity to sckew the data. There could be some clients that were contacted by a certain campaign while other were not contacted by the same one. By removing these clients we remove this potential source of bias"
      ]
    },
    {
      "cell_type": "markdown",
      "metadata": {
        "id": "wXVCAu0qfjhR"
      },
      "source": [
        "## Experiment Objective: \n",
        "- Did a client subscribe a term deposit.\n",
        "- What are the significant factors in determining if a client is subscribed to a term deposit\n",
        "\n"
      ]
    },
    {
      "cell_type": "markdown",
      "metadata": {
        "id": "UJ1uIE8wY4B0"
      },
      "source": [
        "# Data Collection\n"
      ]
    },
    {
      "cell_type": "markdown",
      "metadata": {
        "id": "YQyHMcIsZs2m"
      },
      "source": [
        "### Write the Necessary Python code to retrieve and store the training examples that are to be used in the model\n",
        "- Am I accessing an API / Scraping a website? Downloading an archive?\n",
        "\n",
        "The Data is being downloaded directly from an archive\n",
        "\n",
        "- Implementation goes in this section. \n",
        "\n",
        "Code implementation is below\n",
        "\n",
        "- Result of this section should be an in-memory panda DF\n",
        "\n",
        "The Dataframe is shown a few times. At first the raw head of the data frame is displayed. Then a few statistics are shown. After that feature selection is conducted and reduced down until there is a sutaible dataset to build the model upon.\n",
        "\n",
        "- Note the data must have at least five different features , and at least two unique class labels\n",
        "\n",
        "There are 16 different features to start with this gets boiled down as the project goes on. Which will be listed below in the code. The Classification label is either \"Yes\" or \"No\". Leaving use with two unique classification labels. \n"
      ]
    },
    {
      "cell_type": "code",
      "execution_count": 41,
      "metadata": {
        "colab": {
          "base_uri": "https://localhost:8080/"
        },
        "id": "aVZEWV4DY95T",
        "outputId": "f3fb2bd3-1da0-4c06-93f8-82b4a2cc8011"
      },
      "outputs": [
        {
          "output_type": "stream",
          "name": "stdout",
          "text": [
            "--2022-07-24 04:06:27--  http://banking_data/\n",
            "Resolving banking_data (banking_data)... failed: Name or service not known.\n",
            "wget: unable to resolve host address ‘banking_data’\n",
            "--2022-07-24 04:06:27--  https://archive.ics.uci.edu/ml/machine-learning-databases/00222/bank.zip\n",
            "Resolving archive.ics.uci.edu (archive.ics.uci.edu)... 128.195.10.252\n",
            "Connecting to archive.ics.uci.edu (archive.ics.uci.edu)|128.195.10.252|:443... connected.\n",
            "HTTP request sent, awaiting response... 200 OK\n",
            "Length: 579043 (565K) [application/x-httpd-php]\n",
            "Saving to: ‘bank.zip.2’\n",
            "\n",
            "bank.zip.2          100%[===================>] 565.47K  --.-KB/s    in 0.1s    \n",
            "\n",
            "2022-07-24 04:06:27 (4.09 MB/s) - ‘bank.zip.2’ saved [579043/579043]\n",
            "\n",
            "FINISHED --2022-07-24 04:06:27--\n",
            "Total wall clock time: 0.3s\n",
            "Downloaded: 1 files, 565K in 0.1s (4.09 MB/s)\n"
          ]
        }
      ],
      "source": [
        "# Grabbing the website\n",
        "!wget 'banking_data' 'https://archive.ics.uci.edu/ml/machine-learning-databases/00222/bank.zip'"
      ]
    },
    {
      "cell_type": "code",
      "source": [
        "!unzip -o 'bank.zip'"
      ],
      "metadata": {
        "colab": {
          "base_uri": "https://localhost:8080/"
        },
        "id": "n4z8-XmvVg5R",
        "outputId": "d2def5fe-bd94-4aa5-eb7c-2a09b718cb61"
      },
      "execution_count": 42,
      "outputs": [
        {
          "output_type": "stream",
          "name": "stdout",
          "text": [
            "Archive:  bank.zip\n",
            "  inflating: bank-full.csv           \n",
            "  inflating: bank-names.txt          \n",
            "  inflating: bank.csv                \n"
          ]
        }
      ]
    },
    {
      "cell_type": "code",
      "source": [
        "# Downloading the Excel file and reading in the second sheet\n",
        "df = pd.read_csv('bank-full.csv', sep=';')"
      ],
      "metadata": {
        "id": "Fx3BNk9eF55d"
      },
      "execution_count": 43,
      "outputs": []
    },
    {
      "cell_type": "code",
      "source": [
        "# Filtering out clients that have been contacted by previous campaigns\n",
        "df = df.loc[(df['pdays'] == -1) & (df['previous'] == 0)]\n",
        "\n",
        "# Dropping out these two columns because they are no longer needed\n",
        "df = df.drop(labels=['pdays','previous'], axis=1)"
      ],
      "metadata": {
        "id": "UjN9w3yuwlE3"
      },
      "execution_count": 44,
      "outputs": []
    },
    {
      "cell_type": "code",
      "source": [
        "# Displaying the Head of the Data\n",
        "df.head()"
      ],
      "metadata": {
        "colab": {
          "base_uri": "https://localhost:8080/",
          "height": 206
        },
        "id": "ByoSYV8mQASn",
        "outputId": "820a15b9-c5b2-4b70-c9f9-1c38e1cfb77d"
      },
      "execution_count": 45,
      "outputs": [
        {
          "output_type": "execute_result",
          "data": {
            "text/plain": [
              "   age           job  marital  education default  balance housing loan  \\\n",
              "0   58    management  married   tertiary      no     2143     yes   no   \n",
              "1   44    technician   single  secondary      no       29     yes   no   \n",
              "2   33  entrepreneur  married  secondary      no        2     yes  yes   \n",
              "3   47   blue-collar  married    unknown      no     1506     yes   no   \n",
              "4   33       unknown   single    unknown      no        1      no   no   \n",
              "\n",
              "   contact  day month  duration  campaign poutcome   y  \n",
              "0  unknown    5   may       261         1  unknown  no  \n",
              "1  unknown    5   may       151         1  unknown  no  \n",
              "2  unknown    5   may        76         1  unknown  no  \n",
              "3  unknown    5   may        92         1  unknown  no  \n",
              "4  unknown    5   may       198         1  unknown  no  "
            ],
            "text/html": [
              "\n",
              "  <div id=\"df-3fa178b4-7638-4be6-863a-9199f5d4221d\">\n",
              "    <div class=\"colab-df-container\">\n",
              "      <div>\n",
              "<style scoped>\n",
              "    .dataframe tbody tr th:only-of-type {\n",
              "        vertical-align: middle;\n",
              "    }\n",
              "\n",
              "    .dataframe tbody tr th {\n",
              "        vertical-align: top;\n",
              "    }\n",
              "\n",
              "    .dataframe thead th {\n",
              "        text-align: right;\n",
              "    }\n",
              "</style>\n",
              "<table border=\"1\" class=\"dataframe\">\n",
              "  <thead>\n",
              "    <tr style=\"text-align: right;\">\n",
              "      <th></th>\n",
              "      <th>age</th>\n",
              "      <th>job</th>\n",
              "      <th>marital</th>\n",
              "      <th>education</th>\n",
              "      <th>default</th>\n",
              "      <th>balance</th>\n",
              "      <th>housing</th>\n",
              "      <th>loan</th>\n",
              "      <th>contact</th>\n",
              "      <th>day</th>\n",
              "      <th>month</th>\n",
              "      <th>duration</th>\n",
              "      <th>campaign</th>\n",
              "      <th>poutcome</th>\n",
              "      <th>y</th>\n",
              "    </tr>\n",
              "  </thead>\n",
              "  <tbody>\n",
              "    <tr>\n",
              "      <th>0</th>\n",
              "      <td>58</td>\n",
              "      <td>management</td>\n",
              "      <td>married</td>\n",
              "      <td>tertiary</td>\n",
              "      <td>no</td>\n",
              "      <td>2143</td>\n",
              "      <td>yes</td>\n",
              "      <td>no</td>\n",
              "      <td>unknown</td>\n",
              "      <td>5</td>\n",
              "      <td>may</td>\n",
              "      <td>261</td>\n",
              "      <td>1</td>\n",
              "      <td>unknown</td>\n",
              "      <td>no</td>\n",
              "    </tr>\n",
              "    <tr>\n",
              "      <th>1</th>\n",
              "      <td>44</td>\n",
              "      <td>technician</td>\n",
              "      <td>single</td>\n",
              "      <td>secondary</td>\n",
              "      <td>no</td>\n",
              "      <td>29</td>\n",
              "      <td>yes</td>\n",
              "      <td>no</td>\n",
              "      <td>unknown</td>\n",
              "      <td>5</td>\n",
              "      <td>may</td>\n",
              "      <td>151</td>\n",
              "      <td>1</td>\n",
              "      <td>unknown</td>\n",
              "      <td>no</td>\n",
              "    </tr>\n",
              "    <tr>\n",
              "      <th>2</th>\n",
              "      <td>33</td>\n",
              "      <td>entrepreneur</td>\n",
              "      <td>married</td>\n",
              "      <td>secondary</td>\n",
              "      <td>no</td>\n",
              "      <td>2</td>\n",
              "      <td>yes</td>\n",
              "      <td>yes</td>\n",
              "      <td>unknown</td>\n",
              "      <td>5</td>\n",
              "      <td>may</td>\n",
              "      <td>76</td>\n",
              "      <td>1</td>\n",
              "      <td>unknown</td>\n",
              "      <td>no</td>\n",
              "    </tr>\n",
              "    <tr>\n",
              "      <th>3</th>\n",
              "      <td>47</td>\n",
              "      <td>blue-collar</td>\n",
              "      <td>married</td>\n",
              "      <td>unknown</td>\n",
              "      <td>no</td>\n",
              "      <td>1506</td>\n",
              "      <td>yes</td>\n",
              "      <td>no</td>\n",
              "      <td>unknown</td>\n",
              "      <td>5</td>\n",
              "      <td>may</td>\n",
              "      <td>92</td>\n",
              "      <td>1</td>\n",
              "      <td>unknown</td>\n",
              "      <td>no</td>\n",
              "    </tr>\n",
              "    <tr>\n",
              "      <th>4</th>\n",
              "      <td>33</td>\n",
              "      <td>unknown</td>\n",
              "      <td>single</td>\n",
              "      <td>unknown</td>\n",
              "      <td>no</td>\n",
              "      <td>1</td>\n",
              "      <td>no</td>\n",
              "      <td>no</td>\n",
              "      <td>unknown</td>\n",
              "      <td>5</td>\n",
              "      <td>may</td>\n",
              "      <td>198</td>\n",
              "      <td>1</td>\n",
              "      <td>unknown</td>\n",
              "      <td>no</td>\n",
              "    </tr>\n",
              "  </tbody>\n",
              "</table>\n",
              "</div>\n",
              "      <button class=\"colab-df-convert\" onclick=\"convertToInteractive('df-3fa178b4-7638-4be6-863a-9199f5d4221d')\"\n",
              "              title=\"Convert this dataframe to an interactive table.\"\n",
              "              style=\"display:none;\">\n",
              "        \n",
              "  <svg xmlns=\"http://www.w3.org/2000/svg\" height=\"24px\"viewBox=\"0 0 24 24\"\n",
              "       width=\"24px\">\n",
              "    <path d=\"M0 0h24v24H0V0z\" fill=\"none\"/>\n",
              "    <path d=\"M18.56 5.44l.94 2.06.94-2.06 2.06-.94-2.06-.94-.94-2.06-.94 2.06-2.06.94zm-11 1L8.5 8.5l.94-2.06 2.06-.94-2.06-.94L8.5 2.5l-.94 2.06-2.06.94zm10 10l.94 2.06.94-2.06 2.06-.94-2.06-.94-.94-2.06-.94 2.06-2.06.94z\"/><path d=\"M17.41 7.96l-1.37-1.37c-.4-.4-.92-.59-1.43-.59-.52 0-1.04.2-1.43.59L10.3 9.45l-7.72 7.72c-.78.78-.78 2.05 0 2.83L4 21.41c.39.39.9.59 1.41.59.51 0 1.02-.2 1.41-.59l7.78-7.78 2.81-2.81c.8-.78.8-2.07 0-2.86zM5.41 20L4 18.59l7.72-7.72 1.47 1.35L5.41 20z\"/>\n",
              "  </svg>\n",
              "      </button>\n",
              "      \n",
              "  <style>\n",
              "    .colab-df-container {\n",
              "      display:flex;\n",
              "      flex-wrap:wrap;\n",
              "      gap: 12px;\n",
              "    }\n",
              "\n",
              "    .colab-df-convert {\n",
              "      background-color: #E8F0FE;\n",
              "      border: none;\n",
              "      border-radius: 50%;\n",
              "      cursor: pointer;\n",
              "      display: none;\n",
              "      fill: #1967D2;\n",
              "      height: 32px;\n",
              "      padding: 0 0 0 0;\n",
              "      width: 32px;\n",
              "    }\n",
              "\n",
              "    .colab-df-convert:hover {\n",
              "      background-color: #E2EBFA;\n",
              "      box-shadow: 0px 1px 2px rgba(60, 64, 67, 0.3), 0px 1px 3px 1px rgba(60, 64, 67, 0.15);\n",
              "      fill: #174EA6;\n",
              "    }\n",
              "\n",
              "    [theme=dark] .colab-df-convert {\n",
              "      background-color: #3B4455;\n",
              "      fill: #D2E3FC;\n",
              "    }\n",
              "\n",
              "    [theme=dark] .colab-df-convert:hover {\n",
              "      background-color: #434B5C;\n",
              "      box-shadow: 0px 1px 3px 1px rgba(0, 0, 0, 0.15);\n",
              "      filter: drop-shadow(0px 1px 2px rgba(0, 0, 0, 0.3));\n",
              "      fill: #FFFFFF;\n",
              "    }\n",
              "  </style>\n",
              "\n",
              "      <script>\n",
              "        const buttonEl =\n",
              "          document.querySelector('#df-3fa178b4-7638-4be6-863a-9199f5d4221d button.colab-df-convert');\n",
              "        buttonEl.style.display =\n",
              "          google.colab.kernel.accessAllowed ? 'block' : 'none';\n",
              "\n",
              "        async function convertToInteractive(key) {\n",
              "          const element = document.querySelector('#df-3fa178b4-7638-4be6-863a-9199f5d4221d');\n",
              "          const dataTable =\n",
              "            await google.colab.kernel.invokeFunction('convertToInteractive',\n",
              "                                                     [key], {});\n",
              "          if (!dataTable) return;\n",
              "\n",
              "          const docLinkHtml = 'Like what you see? Visit the ' +\n",
              "            '<a target=\"_blank\" href=https://colab.research.google.com/notebooks/data_table.ipynb>data table notebook</a>'\n",
              "            + ' to learn more about interactive tables.';\n",
              "          element.innerHTML = '';\n",
              "          dataTable['output_type'] = 'display_data';\n",
              "          await google.colab.output.renderOutput(dataTable, element);\n",
              "          const docLink = document.createElement('div');\n",
              "          docLink.innerHTML = docLinkHtml;\n",
              "          element.appendChild(docLink);\n",
              "        }\n",
              "      </script>\n",
              "    </div>\n",
              "  </div>\n",
              "  "
            ]
          },
          "metadata": {},
          "execution_count": 45
        }
      ]
    },
    {
      "cell_type": "code",
      "execution_count": 46,
      "metadata": {
        "colab": {
          "base_uri": "https://localhost:8080/"
        },
        "id": "RniZHyHzzknn",
        "outputId": "26c997fc-f23f-40ea-bb25-fcfa5366b88e"
      },
      "outputs": [
        {
          "output_type": "execute_result",
          "data": {
            "text/plain": [
              "Index(['age', 'job', 'marital', 'education', 'default', 'balance', 'housing',\n",
              "       'loan', 'contact', 'day', 'month', 'duration', 'campaign', 'poutcome',\n",
              "       'y'],\n",
              "      dtype='object')"
            ]
          },
          "metadata": {},
          "execution_count": 46
        }
      ],
      "source": [
        "df.columns"
      ]
    },
    {
      "cell_type": "code",
      "execution_count": 47,
      "metadata": {
        "id": "hmaZ77gjvlA3",
        "colab": {
          "base_uri": "https://localhost:8080/"
        },
        "outputId": "e800c45a-ad82-4111-95cc-0367ec479021"
      },
      "outputs": [
        {
          "output_type": "execute_result",
          "data": {
            "text/plain": [
              "(36954, 15)"
            ]
          },
          "metadata": {},
          "execution_count": 47
        }
      ],
      "source": [
        "df.shape"
      ]
    },
    {
      "cell_type": "markdown",
      "source": [
        "Before we get started looking into the different types of stats of the "
      ],
      "metadata": {
        "id": "JcSX0dC9s4dq"
      }
    },
    {
      "cell_type": "code",
      "execution_count": 48,
      "metadata": {
        "id": "lP7_3jkH2s7O",
        "colab": {
          "base_uri": "https://localhost:8080/",
          "height": 700
        },
        "outputId": "4c9c5031-8c83-414f-8691-77424cb6300c"
      },
      "outputs": [
        {
          "output_type": "display_data",
          "data": {
            "text/plain": [
              "                age        balance           day      duration      campaign\n",
              "count  36954.000000   36954.000000  36954.000000  36954.000000  36954.000000\n",
              "mean      40.932430    1318.788846     16.145424    257.726119      2.921957\n",
              "std       10.430218    3039.557077      8.372554    262.256406      3.325791\n",
              "min       18.000000   -8019.000000      1.000000      0.000000      1.000000\n",
              "25%       33.000000      55.000000      9.000000    101.000000      1.000000\n",
              "50%       39.000000     414.000000     17.000000    177.000000      2.000000\n",
              "75%       49.000000    1358.000000     22.000000    318.000000      3.000000\n",
              "max       95.000000  102127.000000     31.000000   4918.000000     63.000000"
            ],
            "text/html": [
              "\n",
              "  <div id=\"df-9e76efe5-70fc-42e0-a8e6-8eeea1ec61ef\">\n",
              "    <div class=\"colab-df-container\">\n",
              "      <div>\n",
              "<style scoped>\n",
              "    .dataframe tbody tr th:only-of-type {\n",
              "        vertical-align: middle;\n",
              "    }\n",
              "\n",
              "    .dataframe tbody tr th {\n",
              "        vertical-align: top;\n",
              "    }\n",
              "\n",
              "    .dataframe thead th {\n",
              "        text-align: right;\n",
              "    }\n",
              "</style>\n",
              "<table border=\"1\" class=\"dataframe\">\n",
              "  <thead>\n",
              "    <tr style=\"text-align: right;\">\n",
              "      <th></th>\n",
              "      <th>age</th>\n",
              "      <th>balance</th>\n",
              "      <th>day</th>\n",
              "      <th>duration</th>\n",
              "      <th>campaign</th>\n",
              "    </tr>\n",
              "  </thead>\n",
              "  <tbody>\n",
              "    <tr>\n",
              "      <th>count</th>\n",
              "      <td>36954.000000</td>\n",
              "      <td>36954.000000</td>\n",
              "      <td>36954.000000</td>\n",
              "      <td>36954.000000</td>\n",
              "      <td>36954.000000</td>\n",
              "    </tr>\n",
              "    <tr>\n",
              "      <th>mean</th>\n",
              "      <td>40.932430</td>\n",
              "      <td>1318.788846</td>\n",
              "      <td>16.145424</td>\n",
              "      <td>257.726119</td>\n",
              "      <td>2.921957</td>\n",
              "    </tr>\n",
              "    <tr>\n",
              "      <th>std</th>\n",
              "      <td>10.430218</td>\n",
              "      <td>3039.557077</td>\n",
              "      <td>8.372554</td>\n",
              "      <td>262.256406</td>\n",
              "      <td>3.325791</td>\n",
              "    </tr>\n",
              "    <tr>\n",
              "      <th>min</th>\n",
              "      <td>18.000000</td>\n",
              "      <td>-8019.000000</td>\n",
              "      <td>1.000000</td>\n",
              "      <td>0.000000</td>\n",
              "      <td>1.000000</td>\n",
              "    </tr>\n",
              "    <tr>\n",
              "      <th>25%</th>\n",
              "      <td>33.000000</td>\n",
              "      <td>55.000000</td>\n",
              "      <td>9.000000</td>\n",
              "      <td>101.000000</td>\n",
              "      <td>1.000000</td>\n",
              "    </tr>\n",
              "    <tr>\n",
              "      <th>50%</th>\n",
              "      <td>39.000000</td>\n",
              "      <td>414.000000</td>\n",
              "      <td>17.000000</td>\n",
              "      <td>177.000000</td>\n",
              "      <td>2.000000</td>\n",
              "    </tr>\n",
              "    <tr>\n",
              "      <th>75%</th>\n",
              "      <td>49.000000</td>\n",
              "      <td>1358.000000</td>\n",
              "      <td>22.000000</td>\n",
              "      <td>318.000000</td>\n",
              "      <td>3.000000</td>\n",
              "    </tr>\n",
              "    <tr>\n",
              "      <th>max</th>\n",
              "      <td>95.000000</td>\n",
              "      <td>102127.000000</td>\n",
              "      <td>31.000000</td>\n",
              "      <td>4918.000000</td>\n",
              "      <td>63.000000</td>\n",
              "    </tr>\n",
              "  </tbody>\n",
              "</table>\n",
              "</div>\n",
              "      <button class=\"colab-df-convert\" onclick=\"convertToInteractive('df-9e76efe5-70fc-42e0-a8e6-8eeea1ec61ef')\"\n",
              "              title=\"Convert this dataframe to an interactive table.\"\n",
              "              style=\"display:none;\">\n",
              "        \n",
              "  <svg xmlns=\"http://www.w3.org/2000/svg\" height=\"24px\"viewBox=\"0 0 24 24\"\n",
              "       width=\"24px\">\n",
              "    <path d=\"M0 0h24v24H0V0z\" fill=\"none\"/>\n",
              "    <path d=\"M18.56 5.44l.94 2.06.94-2.06 2.06-.94-2.06-.94-.94-2.06-.94 2.06-2.06.94zm-11 1L8.5 8.5l.94-2.06 2.06-.94-2.06-.94L8.5 2.5l-.94 2.06-2.06.94zm10 10l.94 2.06.94-2.06 2.06-.94-2.06-.94-.94-2.06-.94 2.06-2.06.94z\"/><path d=\"M17.41 7.96l-1.37-1.37c-.4-.4-.92-.59-1.43-.59-.52 0-1.04.2-1.43.59L10.3 9.45l-7.72 7.72c-.78.78-.78 2.05 0 2.83L4 21.41c.39.39.9.59 1.41.59.51 0 1.02-.2 1.41-.59l7.78-7.78 2.81-2.81c.8-.78.8-2.07 0-2.86zM5.41 20L4 18.59l7.72-7.72 1.47 1.35L5.41 20z\"/>\n",
              "  </svg>\n",
              "      </button>\n",
              "      \n",
              "  <style>\n",
              "    .colab-df-container {\n",
              "      display:flex;\n",
              "      flex-wrap:wrap;\n",
              "      gap: 12px;\n",
              "    }\n",
              "\n",
              "    .colab-df-convert {\n",
              "      background-color: #E8F0FE;\n",
              "      border: none;\n",
              "      border-radius: 50%;\n",
              "      cursor: pointer;\n",
              "      display: none;\n",
              "      fill: #1967D2;\n",
              "      height: 32px;\n",
              "      padding: 0 0 0 0;\n",
              "      width: 32px;\n",
              "    }\n",
              "\n",
              "    .colab-df-convert:hover {\n",
              "      background-color: #E2EBFA;\n",
              "      box-shadow: 0px 1px 2px rgba(60, 64, 67, 0.3), 0px 1px 3px 1px rgba(60, 64, 67, 0.15);\n",
              "      fill: #174EA6;\n",
              "    }\n",
              "\n",
              "    [theme=dark] .colab-df-convert {\n",
              "      background-color: #3B4455;\n",
              "      fill: #D2E3FC;\n",
              "    }\n",
              "\n",
              "    [theme=dark] .colab-df-convert:hover {\n",
              "      background-color: #434B5C;\n",
              "      box-shadow: 0px 1px 3px 1px rgba(0, 0, 0, 0.15);\n",
              "      filter: drop-shadow(0px 1px 2px rgba(0, 0, 0, 0.3));\n",
              "      fill: #FFFFFF;\n",
              "    }\n",
              "  </style>\n",
              "\n",
              "      <script>\n",
              "        const buttonEl =\n",
              "          document.querySelector('#df-9e76efe5-70fc-42e0-a8e6-8eeea1ec61ef button.colab-df-convert');\n",
              "        buttonEl.style.display =\n",
              "          google.colab.kernel.accessAllowed ? 'block' : 'none';\n",
              "\n",
              "        async function convertToInteractive(key) {\n",
              "          const element = document.querySelector('#df-9e76efe5-70fc-42e0-a8e6-8eeea1ec61ef');\n",
              "          const dataTable =\n",
              "            await google.colab.kernel.invokeFunction('convertToInteractive',\n",
              "                                                     [key], {});\n",
              "          if (!dataTable) return;\n",
              "\n",
              "          const docLinkHtml = 'Like what you see? Visit the ' +\n",
              "            '<a target=\"_blank\" href=https://colab.research.google.com/notebooks/data_table.ipynb>data table notebook</a>'\n",
              "            + ' to learn more about interactive tables.';\n",
              "          element.innerHTML = '';\n",
              "          dataTable['output_type'] = 'display_data';\n",
              "          await google.colab.output.renderOutput(dataTable, element);\n",
              "          const docLink = document.createElement('div');\n",
              "          docLink.innerHTML = docLinkHtml;\n",
              "          element.appendChild(docLink);\n",
              "        }\n",
              "      </script>\n",
              "    </div>\n",
              "  </div>\n",
              "  "
            ]
          },
          "metadata": {}
        },
        {
          "output_type": "stream",
          "name": "stdout",
          "text": [
            "<class 'pandas.core.frame.DataFrame'>\n",
            "Int64Index: 36954 entries, 0 to 45209\n",
            "Data columns (total 15 columns):\n",
            " #   Column     Non-Null Count  Dtype \n",
            "---  ------     --------------  ----- \n",
            " 0   age        36954 non-null  int64 \n",
            " 1   job        36954 non-null  object\n",
            " 2   marital    36954 non-null  object\n",
            " 3   education  36954 non-null  object\n",
            " 4   default    36954 non-null  object\n",
            " 5   balance    36954 non-null  int64 \n",
            " 6   housing    36954 non-null  object\n",
            " 7   loan       36954 non-null  object\n",
            " 8   contact    36954 non-null  object\n",
            " 9   day        36954 non-null  int64 \n",
            " 10  month      36954 non-null  object\n",
            " 11  duration   36954 non-null  int64 \n",
            " 12  campaign   36954 non-null  int64 \n",
            " 13  poutcome   36954 non-null  object\n",
            " 14  y          36954 non-null  object\n",
            "dtypes: int64(5), object(10)\n",
            "memory usage: 4.5+ MB\n"
          ]
        },
        {
          "output_type": "display_data",
          "data": {
            "text/plain": [
              "None"
            ]
          },
          "metadata": {}
        }
      ],
      "source": [
        "# Giving the descriptive metrics\n",
        "display(df.describe())\n",
        "\n",
        "# Displaying Info $ and DTypes and counts\n",
        "display(df.info())"
      ]
    },
    {
      "cell_type": "markdown",
      "source": [
        "While on the face, It looks like there are no missing values. This is not quite true. They have been entries marked as unknown. For this reason we will change them to make them more visable and easier to handle."
      ],
      "metadata": {
        "id": "yPSlR3YuhcHV"
      }
    },
    {
      "cell_type": "code",
      "source": [
        "# Replacing all the Unknown values with Nan\n",
        "df.replace('unknown', np.nan, inplace=True)\n",
        "\n",
        "# Displaying the count of the NaN's in the dataframe\n",
        "df.isna().sum()"
      ],
      "metadata": {
        "colab": {
          "base_uri": "https://localhost:8080/"
        },
        "id": "2lNjplsGhlhv",
        "outputId": "f30b0543-83d2-4aa9-f6fd-c53959a1ecbb"
      },
      "execution_count": 49,
      "outputs": [
        {
          "output_type": "execute_result",
          "data": {
            "text/plain": [
              "age              0\n",
              "job            255\n",
              "marital          0\n",
              "education     1534\n",
              "default          0\n",
              "balance          0\n",
              "housing          0\n",
              "loan             0\n",
              "contact      12950\n",
              "day              0\n",
              "month            0\n",
              "duration         0\n",
              "campaign         0\n",
              "poutcome     36954\n",
              "y                0\n",
              "dtype: int64"
            ]
          },
          "metadata": {},
          "execution_count": 49
        }
      ]
    },
    {
      "cell_type": "code",
      "source": [
        "# Displaying the new NaNs on a heatmap\n",
        "plt.figure(figsize=(10,10))\n",
        "sns.heatmap(df.isna())\n",
        "plt.title('Heatmap of NA')\n",
        "plt.show()"
      ],
      "metadata": {
        "colab": {
          "base_uri": "https://localhost:8080/",
          "height": 647
        },
        "id": "RWbTMAIPjkr-",
        "outputId": "692ffccb-9280-4971-e08f-e7426e952ce0"
      },
      "execution_count": 50,
      "outputs": [
        {
          "output_type": "display_data",
          "data": {
            "text/plain": [
              "<Figure size 720x720 with 2 Axes>"
            ],
            "image/png": "[encoded data removed]"
          },
          "metadata": {
            "needs_background": "light"
          }
        }
      ]
    },
    {
      "cell_type": "code",
      "source": [
        "missing_col_per = pd.DataFrame([(df[col].isnull().sum()/df.shape[0]) for col in df.columns] , df.columns, columns=['Percent_Missing'])\n",
        "missing_col_per"
      ],
      "metadata": {
        "colab": {
          "base_uri": "https://localhost:8080/",
          "height": 520
        },
        "id": "kNQcK4I7j8GC",
        "outputId": "fb0f7208-0f25-450a-908b-411663a339dd"
      },
      "execution_count": 51,
      "outputs": [
        {
          "output_type": "execute_result",
          "data": {
            "text/plain": [
              "           Percent_Missing\n",
              "age               0.000000\n",
              "job               0.006900\n",
              "marital           0.000000\n",
              "education         0.041511\n",
              "default           0.000000\n",
              "balance           0.000000\n",
              "housing           0.000000\n",
              "loan              0.000000\n",
              "contact           0.350436\n",
              "day               0.000000\n",
              "month             0.000000\n",
              "duration          0.000000\n",
              "campaign          0.000000\n",
              "poutcome          1.000000\n",
              "y                 0.000000"
            ],
            "text/html": [
              "\n",
              "  <div id=\"df-046bb77d-74a4-4f04-931a-888a40a709cc\">\n",
              "    <div class=\"colab-df-container\">\n",
              "      <div>\n",
              "<style scoped>\n",
              "    .dataframe tbody tr th:only-of-type {\n",
              "        vertical-align: middle;\n",
              "    }\n",
              "\n",
              "    .dataframe tbody tr th {\n",
              "        vertical-align: top;\n",
              "    }\n",
              "\n",
              "    .dataframe thead th {\n",
              "        text-align: right;\n",
              "    }\n",
              "</style>\n",
              "<table border=\"1\" class=\"dataframe\">\n",
              "  <thead>\n",
              "    <tr style=\"text-align: right;\">\n",
              "      <th></th>\n",
              "      <th>Percent_Missing</th>\n",
              "    </tr>\n",
              "  </thead>\n",
              "  <tbody>\n",
              "    <tr>\n",
              "      <th>age</th>\n",
              "      <td>0.000000</td>\n",
              "    </tr>\n",
              "    <tr>\n",
              "      <th>job</th>\n",
              "      <td>0.006900</td>\n",
              "    </tr>\n",
              "    <tr>\n",
              "      <th>marital</th>\n",
              "      <td>0.000000</td>\n",
              "    </tr>\n",
              "    <tr>\n",
              "      <th>education</th>\n",
              "      <td>0.041511</td>\n",
              "    </tr>\n",
              "    <tr>\n",
              "      <th>default</th>\n",
              "      <td>0.000000</td>\n",
              "    </tr>\n",
              "    <tr>\n",
              "      <th>balance</th>\n",
              "      <td>0.000000</td>\n",
              "    </tr>\n",
              "    <tr>\n",
              "      <th>housing</th>\n",
              "      <td>0.000000</td>\n",
              "    </tr>\n",
              "    <tr>\n",
              "      <th>loan</th>\n",
              "      <td>0.000000</td>\n",
              "    </tr>\n",
              "    <tr>\n",
              "      <th>contact</th>\n",
              "      <td>0.350436</td>\n",
              "    </tr>\n",
              "    <tr>\n",
              "      <th>day</th>\n",
              "      <td>0.000000</td>\n",
              "    </tr>\n",
              "    <tr>\n",
              "      <th>month</th>\n",
              "      <td>0.000000</td>\n",
              "    </tr>\n",
              "    <tr>\n",
              "      <th>duration</th>\n",
              "      <td>0.000000</td>\n",
              "    </tr>\n",
              "    <tr>\n",
              "      <th>campaign</th>\n",
              "      <td>0.000000</td>\n",
              "    </tr>\n",
              "    <tr>\n",
              "      <th>poutcome</th>\n",
              "      <td>1.000000</td>\n",
              "    </tr>\n",
              "    <tr>\n",
              "      <th>y</th>\n",
              "      <td>0.000000</td>\n",
              "    </tr>\n",
              "  </tbody>\n",
              "</table>\n",
              "</div>\n",
              "      <button class=\"colab-df-convert\" onclick=\"convertToInteractive('df-046bb77d-74a4-4f04-931a-888a40a709cc')\"\n",
              "              title=\"Convert this dataframe to an interactive table.\"\n",
              "              style=\"display:none;\">\n",
              "        \n",
              "  <svg xmlns=\"http://www.w3.org/2000/svg\" height=\"24px\"viewBox=\"0 0 24 24\"\n",
              "       width=\"24px\">\n",
              "    <path d=\"M0 0h24v24H0V0z\" fill=\"none\"/>\n",
              "    <path d=\"M18.56 5.44l.94 2.06.94-2.06 2.06-.94-2.06-.94-.94-2.06-.94 2.06-2.06.94zm-11 1L8.5 8.5l.94-2.06 2.06-.94-2.06-.94L8.5 2.5l-.94 2.06-2.06.94zm10 10l.94 2.06.94-2.06 2.06-.94-2.06-.94-.94-2.06-.94 2.06-2.06.94z\"/><path d=\"M17.41 7.96l-1.37-1.37c-.4-.4-.92-.59-1.43-.59-.52 0-1.04.2-1.43.59L10.3 9.45l-7.72 7.72c-.78.78-.78 2.05 0 2.83L4 21.41c.39.39.9.59 1.41.59.51 0 1.02-.2 1.41-.59l7.78-7.78 2.81-2.81c.8-.78.8-2.07 0-2.86zM5.41 20L4 18.59l7.72-7.72 1.47 1.35L5.41 20z\"/>\n",
              "  </svg>\n",
              "      </button>\n",
              "      \n",
              "  <style>\n",
              "    .colab-df-container {\n",
              "      display:flex;\n",
              "      flex-wrap:wrap;\n",
              "      gap: 12px;\n",
              "    }\n",
              "\n",
              "    .colab-df-convert {\n",
              "      background-color: #E8F0FE;\n",
              "      border: none;\n",
              "      border-radius: 50%;\n",
              "      cursor: pointer;\n",
              "      display: none;\n",
              "      fill: #1967D2;\n",
              "      height: 32px;\n",
              "      padding: 0 0 0 0;\n",
              "      width: 32px;\n",
              "    }\n",
              "\n",
              "    .colab-df-convert:hover {\n",
              "      background-color: #E2EBFA;\n",
              "      box-shadow: 0px 1px 2px rgba(60, 64, 67, 0.3), 0px 1px 3px 1px rgba(60, 64, 67, 0.15);\n",
              "      fill: #174EA6;\n",
              "    }\n",
              "\n",
              "    [theme=dark] .colab-df-convert {\n",
              "      background-color: #3B4455;\n",
              "      fill: #D2E3FC;\n",
              "    }\n",
              "\n",
              "    [theme=dark] .colab-df-convert:hover {\n",
              "      background-color: #434B5C;\n",
              "      box-shadow: 0px 1px 3px 1px rgba(0, 0, 0, 0.15);\n",
              "      filter: drop-shadow(0px 1px 2px rgba(0, 0, 0, 0.3));\n",
              "      fill: #FFFFFF;\n",
              "    }\n",
              "  </style>\n",
              "\n",
              "      <script>\n",
              "        const buttonEl =\n",
              "          document.querySelector('#df-046bb77d-74a4-4f04-931a-888a40a709cc button.colab-df-convert');\n",
              "        buttonEl.style.display =\n",
              "          google.colab.kernel.accessAllowed ? 'block' : 'none';\n",
              "\n",
              "        async function convertToInteractive(key) {\n",
              "          const element = document.querySelector('#df-046bb77d-74a4-4f04-931a-888a40a709cc');\n",
              "          const dataTable =\n",
              "            await google.colab.kernel.invokeFunction('convertToInteractive',\n",
              "                                                     [key], {});\n",
              "          if (!dataTable) return;\n",
              "\n",
              "          const docLinkHtml = 'Like what you see? Visit the ' +\n",
              "            '<a target=\"_blank\" href=https://colab.research.google.com/notebooks/data_table.ipynb>data table notebook</a>'\n",
              "            + ' to learn more about interactive tables.';\n",
              "          element.innerHTML = '';\n",
              "          dataTable['output_type'] = 'display_data';\n",
              "          await google.colab.output.renderOutput(dataTable, element);\n",
              "          const docLink = document.createElement('div');\n",
              "          docLink.innerHTML = docLinkHtml;\n",
              "          element.appendChild(docLink);\n",
              "        }\n",
              "      </script>\n",
              "    </div>\n",
              "  </div>\n",
              "  "
            ]
          },
          "metadata": {},
          "execution_count": 51
        }
      ]
    },
    {
      "cell_type": "markdown",
      "source": [
        "Since we removed all the clients that had been placed in a campaign before we now get 100% of the Poutcome column as unknown. Meaning that this column should be dropped. Below we set up the threshold for dropping a column as over 80% missing. This will end up taking contact and poutcome out of the equation."
      ],
      "metadata": {
        "id": "m2eH6o9upFl8"
      }
    },
    {
      "cell_type": "code",
      "source": [
        "# Setting the limit for dropping\n",
        "drop_lim = df.shape[0] * .8\n",
        "df_1 = df.dropna(thresh=drop_lim, axis=1)"
      ],
      "metadata": {
        "id": "LQN_x6NMqG92"
      },
      "execution_count": 56,
      "outputs": []
    },
    {
      "cell_type": "code",
      "source": [
        "# Displaying the New Columns to be used\n",
        "df_1.columns"
      ],
      "metadata": {
        "colab": {
          "base_uri": "https://localhost:8080/"
        },
        "id": "gCQZuzSiqnfE",
        "outputId": "b33b4322-2bc0-4ef7-d7a0-a6b067df7003"
      },
      "execution_count": 55,
      "outputs": [
        {
          "output_type": "execute_result",
          "data": {
            "text/plain": [
              "Index(['age', 'job', 'marital', 'education', 'default', 'balance', 'housing',\n",
              "       'loan', 'day', 'month', 'duration', 'campaign', 'y'],\n",
              "      dtype='object')"
            ]
          },
          "metadata": {},
          "execution_count": 55
        }
      ]
    },
    {
      "cell_type": "code",
      "source": [
        "# Displaying the count of the NaN's in the dataframe\n",
        "df_1.isna().sum()"
      ],
      "metadata": {
        "colab": {
          "base_uri": "https://localhost:8080/"
        },
        "id": "iZiVNvb5YVQo",
        "outputId": "26cbe49d-4c2a-4d5d-801e-305bff65e079"
      },
      "execution_count": 57,
      "outputs": [
        {
          "output_type": "execute_result",
          "data": {
            "text/plain": [
              "age             0\n",
              "job           255\n",
              "marital         0\n",
              "education    1534\n",
              "default         0\n",
              "balance         0\n",
              "housing         0\n",
              "loan            0\n",
              "day             0\n",
              "month           0\n",
              "duration        0\n",
              "campaign        0\n",
              "y               0\n",
              "dtype: int64"
            ]
          },
          "metadata": {},
          "execution_count": 57
        }
      ]
    },
    {
      "cell_type": "code",
      "source": [
        "# Showing the number of unique values\n",
        "df_1.nunique()"
      ],
      "metadata": {
        "colab": {
          "base_uri": "https://localhost:8080/"
        },
        "id": "uiEjKd2BZeGe",
        "outputId": "9c9055e1-6be3-474f-9429-3f91c82562d1"
      },
      "execution_count": 58,
      "outputs": [
        {
          "output_type": "execute_result",
          "data": {
            "text/plain": [
              "age            76\n",
              "job            11\n",
              "marital         3\n",
              "education       3\n",
              "default         2\n",
              "balance      7058\n",
              "housing         2\n",
              "loan            2\n",
              "day            31\n",
              "month          12\n",
              "duration     1525\n",
              "campaign       48\n",
              "y               2\n",
              "dtype: int64"
            ]
          },
          "metadata": {},
          "execution_count": 58
        }
      ]
    },
    {
      "cell_type": "markdown",
      "source": [
        "There are a few NaN's still present in the data set bu t they dont leave enough of a mark on the data to warrent removing the entire column. Instead this will be left to the data pipeline for removal. Before going completely ahead. Some brief data visualization is needed to get a full understanding of the data that we have collected."
      ],
      "metadata": {
        "id": "dfScd-syY5zU"
      }
    },
    {
      "cell_type": "code",
      "source": [
        "# Age\n",
        "df_1['age'].hist()"
      ],
      "metadata": {
        "colab": {
          "base_uri": "https://localhost:8080/",
          "height": 282
        },
        "id": "4zIreMzSZuY4",
        "outputId": "2431916c-851b-4100-e6eb-f276dd9574c9"
      },
      "execution_count": 60,
      "outputs": [
        {
          "output_type": "execute_result",
          "data": {
            "text/plain": [
              "<matplotlib.axes._subplots.AxesSubplot at 0x7f661565e490>"
            ]
          },
          "metadata": {},
          "execution_count": 60
        },
        {
          "output_type": "display_data",
          "data": {
            "text/plain": [
              "<Figure size 432x288 with 1 Axes>"
            ],
            "image/png": "[encoded data removed]"
          },
          "metadata": {
            "needs_background": "light"
          }
        }
      ]
    },
    {
      "cell_type": "code",
      "source": [
        "# Y variable\n",
        "df_1['y'].hist()"
      ],
      "metadata": {
        "colab": {
          "base_uri": "https://localhost:8080/",
          "height": 285
        },
        "id": "mZot2Q0ZaC5e",
        "outputId": "8c10165b-8e65-426f-90ca-cafc1442e858"
      },
      "execution_count": 61,
      "outputs": [
        {
          "output_type": "execute_result",
          "data": {
            "text/plain": [
              "<matplotlib.axes._subplots.AxesSubplot at 0x7f66155ae610>"
            ]
          },
          "metadata": {},
          "execution_count": 61
        },
        {
          "output_type": "display_data",
          "data": {
            "text/plain": [
              "<Figure size 432x288 with 1 Axes>"
            ],
            "image/png": "[encoded data removed]"
          },
          "metadata": {
            "needs_background": "light"
          }
        }
      ]
    },
    {
      "cell_type": "markdown",
      "source": [
        "The distribution of the Yes to the No in the Y variable is a bit concerning for our test. We will have to resample the no and maybe do some cross validation to bring this more to an even set."
      ],
      "metadata": {
        "id": "h3P9T9KvaNIR"
      }
    },
    {
      "cell_type": "code",
      "source": [
        "# Job\n",
        "df_1['job'].hist()\n",
        "plt.xticks(rotation=90)\n",
        "plt.show()"
      ],
      "metadata": {
        "colab": {
          "base_uri": "https://localhost:8080/",
          "height": 326
        },
        "id": "eD9r392maX16",
        "outputId": "6a3e250a-e49b-4aeb-be95-b8e71e7b3015"
      },
      "execution_count": 71,
      "outputs": [
        {
          "output_type": "display_data",
          "data": {
            "text/plain": [
              "<Figure size 432x288 with 1 Axes>"
            ],
            "image/png": "[encoded data removed]"
          },
          "metadata": {
            "needs_background": "light"
          }
        }
      ]
    },
    {
      "cell_type": "code",
      "source": [
        "# Marital status\n",
        "df_1['marital'].hist()\n",
        "plt.show()"
      ],
      "metadata": {
        "colab": {
          "base_uri": "https://localhost:8080/",
          "height": 265
        },
        "id": "jZIVKnyPbCT6",
        "outputId": "10b71b2b-a967-417d-8140-1ea110f30f7c"
      },
      "execution_count": 73,
      "outputs": [
        {
          "output_type": "display_data",
          "data": {
            "text/plain": [
              "<Figure size 432x288 with 1 Axes>"
            ],
            "image/png": "[encoded data removed]"
          },
          "metadata": {
            "needs_background": "light"
          }
        }
      ]
    },
    {
      "cell_type": "code",
      "source": [
        "# Education\n",
        "df_1['education'].hist()\n",
        "plt.show()"
      ],
      "metadata": {
        "colab": {
          "base_uri": "https://localhost:8080/",
          "height": 265
        },
        "id": "LNHU3hxdbMk8",
        "outputId": "ebdbb76e-d6e7-468a-fa86-cb384bbd0490"
      },
      "execution_count": 75,
      "outputs": [
        {
          "output_type": "display_data",
          "data": {
            "text/plain": [
              "<Figure size 432x288 with 1 Axes>"
            ],
            "image/png": "[encoded data removed]"
          },
          "metadata": {
            "needs_background": "light"
          }
        }
      ]
    },
    {
      "cell_type": "code",
      "source": [
        "# Default\n",
        "df_1['default'].hist()\n",
        "plt.show()"
      ],
      "metadata": {
        "colab": {
          "base_uri": "https://localhost:8080/",
          "height": 265
        },
        "id": "kqYkt3G6bVOH",
        "outputId": "f382d366-d1cd-43f5-e4c9-87d9aa259a31"
      },
      "execution_count": 76,
      "outputs": [
        {
          "output_type": "display_data",
          "data": {
            "text/plain": [
              "<Figure size 432x288 with 1 Axes>"
            ],
            "image/png": "[encoded data removed]"
          },
          "metadata": {
            "needs_background": "light"
          }
        }
      ]
    },
    {
      "cell_type": "code",
      "source": [
        "# Balance\n",
        "df_1['balance'].hist()\n",
        "plt.show()"
      ],
      "metadata": {
        "id": "vHsj6L0pcm-X"
      },
      "execution_count": null,
      "outputs": []
    },
    {
      "cell_type": "code",
      "source": [
        "# Housing\n",
        "df_1['housing'].hist()\n",
        "plt.show()"
      ],
      "metadata": {
        "id": "Rjp7YqMnc3vx"
      },
      "execution_count": null,
      "outputs": []
    },
    {
      "cell_type": "code",
      "source": [
        "# Loan\n",
        "df_1['loan'].hist()"
      ],
      "metadata": {
        "id": "kzwgMcLAc5TO"
      },
      "execution_count": null,
      "outputs": []
    },
    {
      "cell_type": "code",
      "source": [
        "# Day\n",
        "df_1['day'].hist()"
      ],
      "metadata": {
        "id": "lB-UHuiDc5aN"
      },
      "execution_count": null,
      "outputs": []
    },
    {
      "cell_type": "code",
      "source": [
        "# Month\n",
        "df_1"
      ],
      "metadata": {
        "id": "103iffLXc5y0"
      },
      "execution_count": null,
      "outputs": []
    },
    {
      "cell_type": "code",
      "source": [
        "# Duration"
      ],
      "metadata": {
        "id": "VrdzpF50c519"
      },
      "execution_count": null,
      "outputs": []
    },
    {
      "cell_type": "code",
      "source": [
        "# Campaign"
      ],
      "metadata": {
        "id": "Sk9YrYq-c-Up"
      },
      "execution_count": null,
      "outputs": []
    },
    {
      "cell_type": "markdown",
      "metadata": {
        "id": "S3e6LAMsY_fA"
      },
      "source": [
        "# Data Preprocessing\n",
        "## This is where I perform functions such as iumputing / dropping missing data,scaling features, mapping categorical labels, feature selection / extraction to select relevant features and reduce the dimensionality of the training examples. \n",
        "- The Extraction methods chosen for preprocessing data will depend on the ML algorithms intended to use, the state of the training examples collected\n",
        "-A requirement of the project will be to address each category of data preprocessing stated above, describe the reasons for whether you used a given preprocessing technique or not\n",
        "- At least Three of the features must require some form of data preprocessing\n",
        "- Data cannot be \"Turn-Key\" for training\n",
        "\n",
        "The Data is rather clean, but not completely turn key because we have to transform all of the categorical variables.\n",
        "\n",
        "- NOTE regardless of wehter the features can ultimately be reduced via feature selection techniques or not, it's a requirement that you perform feature selection analysis to determine the relative importance of each feature and decide which features should be included in the model\n",
        "\n",
        "\n",
        "- After preprocessing the data, check examples to ensure your training dataset is balanced\n",
        "- Remove examples with missing fields, or instances, could reulst in a training dataset that is unbalanced if one class label was more likely to be missing a particular feature.\n",
        "-If you find yourself in the situation of having inbalanced dataset after preprocessing your data, consider alternative methods of preprocessing such as creating fake values or dropping the feature altogehr. These kinds of decisions are precisely what I want described in the write up inside the note book."
      ]
    },
    {
      "cell_type": "markdown",
      "source": [
        ""
      ],
      "metadata": {
        "id": "Zp6I4N9lY5BR"
      }
    },
    {
      "cell_type": "markdown",
      "metadata": {
        "id": "mhEE9w_SaRpR"
      },
      "source": [
        ""
      ]
    },
    {
      "cell_type": "code",
      "execution_count": 32,
      "metadata": {
        "id": "01EHotJKZBC-",
        "colab": {
          "base_uri": "https://localhost:8080/"
        },
        "outputId": "2711d079-3bd8-4805-8044-861abcc67e10"
      },
      "outputs": [
        {
          "output_type": "execute_result",
          "data": {
            "text/plain": [
              "age           int64\n",
              "job          object\n",
              "marital      object\n",
              "education    object\n",
              "default      object\n",
              "balance       int64\n",
              "housing      object\n",
              "loan         object\n",
              "day           int64\n",
              "month        object\n",
              "duration      int64\n",
              "campaign      int64\n",
              "y            object\n",
              "dtype: object"
            ]
          },
          "metadata": {},
          "execution_count": 32
        }
      ],
      "source": [
        "# Data Preprocessing Code\n",
        "df_1.dtypes"
      ]
    },
    {
      "cell_type": "markdown",
      "source": [
        "To look into running the different algorithms we need to set up a data pipeline. To do this I will use some of the libraries from sklearn"
      ],
      "metadata": {
        "id": "rTBETwhuVn-w"
      }
    },
    {
      "cell_type": "code",
      "source": [
        "# Import Strings\n",
        "from sklearn.pipeline import Pipeline\n",
        "from sklearn.impute import SimpleImputer\n",
        "from sklearn.compose import ColumnTransformer\n",
        "from sklearn.preprocessing import OneHotEncoder, StandardScaler\n",
        "from sklearn.model_selection import train_test_split, cross_val_score\n",
        "from sklearn import metrics"
      ],
      "metadata": {
        "id": "C-qAawG6Vxuo"
      },
      "execution_count": 33,
      "outputs": []
    },
    {
      "cell_type": "code",
      "execution_count": 36,
      "metadata": {
        "id": "bB1I2ckMlhSb",
        "colab": {
          "base_uri": "https://localhost:8080/"
        },
        "outputId": "d07000d3-548c-49eb-81e7-8daf1e8b3c98"
      },
      "outputs": [
        {
          "output_type": "execute_result",
          "data": {
            "text/plain": [
              "2"
            ]
          },
          "metadata": {},
          "execution_count": 36
        }
      ],
      "source": [
        "# Counting to see the sums\n",
        "df_1.isnull().any().sum()"
      ]
    },
    {
      "cell_type": "markdown",
      "metadata": {
        "id": "N5nfbw5lZER9"
      },
      "source": [
        "# Model Comparison"
      ]
    },
    {
      "cell_type": "markdown",
      "metadata": {
        "id": "g1vHI7JFbwvk"
      },
      "source": [
        "## This is where I will implement and compare the performance of at least three different classification algorithms to determine which model best fits the training and test data collected. \n",
        "- A description of the performance of each model (using an evaluation criteria such as classification accurcy) is required for this section as well as an overall decision as to which model is the best choiuce for the problem domain\n",
        "-NOTE: the preceptron is not allowed to be one of the models you compare for this projec, as there are better algorithms available to you with similar functionality"
      ]
    },
    {
      "cell_type": "code",
      "execution_count": 18,
      "metadata": {
        "id": "NsXtnKrAZGDQ"
      },
      "outputs": [],
      "source": [
        "# Model Comparison Code\n"
      ]
    },
    {
      "cell_type": "markdown",
      "metadata": {
        "id": "53oILY9gZIlN"
      },
      "source": [
        "# Experiment Summary\n"
      ]
    },
    {
      "cell_type": "markdown",
      "metadata": {
        "id": "NsG4c9F5cbfj"
      },
      "source": [
        "## This is where the results are sumarized for the experiment. \n",
        "- How did I have to collect data? How 2was the data preprocessed?\n",
        "- What models where compared?\n",
        "- Which Model performed the best\n",
        "- Was I able to model the data accurately in the way I was hoping when I started the project?\n",
        "- What did I learn during the process"
      ]
    },
    {
      "cell_type": "code",
      "execution_count": 19,
      "metadata": {
        "id": "tI4t_1OMZLvt"
      },
      "outputs": [],
      "source": [
        "# Experiment Summary Code"
      ]
    }
  ],
  "metadata": {
    "colab": {
      "collapsed_sections": [
        "0awIw7mSY1A1"
      ],
      "name": "Project_1_Duncan_Ferguson.ipynb",
      "provenance": []
    },
    "kernelspec": {
      "display_name": "Python 3",
      "name": "python3"
    },
    "language_info": {
      "name": "python"
    }
  },
  "nbformat": 4,
  "nbformat_minor": 0
}