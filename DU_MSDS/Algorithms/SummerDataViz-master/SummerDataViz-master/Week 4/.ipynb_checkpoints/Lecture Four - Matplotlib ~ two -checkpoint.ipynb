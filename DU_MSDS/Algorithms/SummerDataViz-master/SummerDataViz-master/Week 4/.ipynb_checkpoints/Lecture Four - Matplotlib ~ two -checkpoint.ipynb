{
 "cells": [
  {
   "cell_type": "code",
   "execution_count": null,
   "metadata": {},
   "outputs": [],
   "source": [
    "from IPython.core.display import display, HTML\n",
    "import matplotlib\n",
    "import matplotlib.pyplot as plt\n",
    "import seaborn as sns\n",
    "import pandas as pd\n",
    "import numpy as np\n",
    "sns.set()\n",
    "matplotlib.rcParams['figure.dpi'] = 144"
   ]
  },
  {
   "cell_type": "markdown",
   "metadata": {},
   "source": [
    "### Pie chart in Matplotlibs"
   ]
  },
  {
   "cell_type": "code",
   "execution_count": null,
   "metadata": {},
   "outputs": [],
   "source": [
    "df_iris = sns.load_dataset('iris') "
   ]
  },
  {
   "cell_type": "code",
   "execution_count": null,
   "metadata": {},
   "outputs": [],
   "source": [
    "pie_plt=df_iris[['sepal_length','species']].groupby('species').count()\n",
    "mypie=plt.pie(pie_plt['sepal_length'],labels=pie_plt.index,autopct='%.2f',startangle=90,explode=[0,0,0])\n",
    "plt.axis('equal')"
   ]
  },
  {
   "cell_type": "markdown",
   "metadata": {},
   "source": [
    "### God bless <a href=\"https://stackoverflow.com/questions/6170246/how-do-i-use-matplotlib-autopct\" target=\"_top\">Stack Overflow</a> !\n",
    "\n",
    "`autopct` enables you to display the percent value using Python string formatting. For example, if autopct= `%.2f`, then for each pie wedge, the format string is `%.2f` and the numerical percent value for that wedge is pct, so the wedge label is set to the string `'%.2f'%pct`. "
   ]
  },
  {
   "cell_type": "code",
   "execution_count": null,
   "metadata": {},
   "outputs": [],
   "source": [
    "labels=['fiction','history','science','math']\n",
    "sizes=[40,60,30,70] # totals 200\n",
    "explode=(0,0,0.1,0) # tuple\n",
    "\n",
    "fig,ax=plt.subplots(1,2,figsize=(14,6),num=9)\n",
    "\n",
    "ax[0].pie(sizes,labels=labels,explode=explode,autopct='%1.1f%%')\n",
    "ax[0].set_title('Book Catagories')\n",
    "ax[0].axis('equal')\n",
    "\n",
    "ax[1].pie(sizes,labels=labels,explode=explode, autopct=lambda p: '{:.0f}'.format(p * sum(sizes) / 100.0))\n",
    "ax[1].set_title('Book Catagories')\n",
    "ax[1].axis('auto')\n",
    "\n",
    "plt.show()"
   ]
  },
  {
   "cell_type": "markdown",
   "metadata": {},
   "source": [
    "Hypertext Transfer Protocol (HTTP) is a messaging protocol that describes the types and structure of messages that can be used for communication between servers and clients. Communication occurs in a request-response cycle, in which a client sends a request to the server which then replies with a response.\n",
    "- If the page is very simple, treat it as a bunch of text => __string manipulation / [regular expressions](https://docs.python.org/2/howto/regex.html)__ in Python.\n",
    "- If the page is more complicated (and/or written in good style), we want to use the HTML parse tree => __[BeautifulSoup](https://www.crummy.com/software/BeautifulSoup/bs4/doc/) / [lxml](http://lxml.de/lxmlhtml.html)__ in Python."
   ]
  },
  {
   "cell_type": "code",
   "execution_count": null,
   "metadata": {},
   "outputs": [],
   "source": [
    "import requests\n",
    "from bs4 import BeautifulSoup\n",
    "\n",
    "URL = \"https://en.wikipedia.org/wiki/Fastest_animals\"\n",
    "animal_dict={}\n",
    "res = requests.get(URL).text\n",
    "soup = BeautifulSoup(res,'lxml')\n",
    "for items in soup.find('table', class_='wikitable').find_all('tr')[1::1]: #tr defines the row\n",
    "    data = items.find_all(['th','td'])\n",
    "    try:\n",
    "        animal = data[1].a.text\n",
    "        speed = data[2].text.split('km/h')[0].strip()\n",
    "    except IndexError:pass\n",
    "    animal_dict[animal]=speed"
   ]
  },
  {
   "cell_type": "code",
   "execution_count": null,
   "metadata": {},
   "outputs": [],
   "source": [
    "data[2].text.split('km/h')[0].strip()"
   ]
  },
  {
   "cell_type": "code",
   "execution_count": null,
   "metadata": {},
   "outputs": [],
   "source": [
    "import re\n",
    "\n",
    "def mean_str(x):\n",
    "    x=re.sub('[^0-9]',' ',x)\n",
    "    x=x.split(' ')\n",
    "    x=[float(item) for item in x]\n",
    "    return sum(x)/len(x)\n",
    "\n",
    "df=pd.Series(animal_dict).reset_index()\n",
    "df.columns=['Animal','Speed (km/h)']"
   ]
  },
  {
   "cell_type": "code",
   "execution_count": null,
   "metadata": {},
   "outputs": [],
   "source": [
    "df['Speed']=df['Speed (km/h)'].apply(lambda x:mean_str(x))\n",
    "df"
   ]
  },
  {
   "cell_type": "markdown",
   "metadata": {},
   "source": [
    "### Vertical and Horizontal bars"
   ]
  },
  {
   "cell_type": "code",
   "execution_count": null,
   "metadata": {},
   "outputs": [],
   "source": [
    "import pandas as pd\n",
    "import matplotlib.pyplot as plt\n",
    "\n",
    "df=df.iloc[1:5,:]\n",
    "fig,ax=plt.subplots(1,2,figsize=(14,8),num=91)\n",
    "\n",
    "ax[0].barh(df['Animal'], df['Speed'])\n",
    "ax[0].set_title('Fast Animals')\n",
    "ax[0].set_xlabel('miles/hour')\n",
    "ax[0].set_ylabel('Animal')\n",
    "plt.xticks(range(len(df)), df['Animal'],rotation=35)\n",
    "\n",
    "ax[1].bar( range(len(df)), df['Speed'])\n",
    "ax[1].set_title('Fast Animals')\n",
    "ax[1].set_ylabel('miles/hour')\n",
    "ax[1].set_xlabel('Animal')\n",
    "plt.tight_layout()\n",
    "plt.show()"
   ]
  },
  {
   "cell_type": "markdown",
   "metadata": {},
   "source": [
    "### Stacked Bar Charts"
   ]
  },
  {
   "cell_type": "code",
   "execution_count": null,
   "metadata": {},
   "outputs": [],
   "source": [
    "import numpy as np\n",
    "import matplotlib.pyplot as plt\n",
    "import matplotlib.patches as mpatches\n",
    "usa=np.array([100,150,200,200,150,85])\n",
    "uk=usa*0.50\n",
    "can=usa*0.25\n",
    "mo=[1,2,3,4,5,6]"
   ]
  },
  {
   "cell_type": "code",
   "execution_count": null,
   "metadata": {},
   "outputs": [],
   "source": [
    "fig,ax=plt.subplots(figsize=(9,6),num=93) # a circle will be stretched such that the height is num times the width\n",
    "ax.bar(mo,usa,color='blue')\n",
    "ax.bar(mo,uk,color='green',bottom=usa)\n",
    "ax.set_aspect(aspect=0.01)"
   ]
  },
  {
   "cell_type": "code",
   "execution_count": null,
   "metadata": {},
   "outputs": [],
   "source": [
    "fig,ax=plt.subplots(figsize=(9,6),num=93)\n",
    "\n",
    "# bottom: The y coordinate(s) of the bars bases\n",
    "\n",
    "ax.bar(mo,usa,color='blue')\n",
    "ax.bar(mo,uk,color='green',bottom=usa)\n",
    "ax.bar(mo,can,color='red', bottom=list(map(lambda x,y: x+y, usa,uk)))\n",
    "\n",
    "ax.set_xlabel('Month number')\n",
    "ax.set_ylabel('Sales in dollars')\n",
    "ax.set_title('Sales of Widgets this Year')\n",
    "\n",
    "blue_patch=mpatches.Patch(color='blue',label='US')\n",
    "green_patch=mpatches.Patch(color='green',label='UK')\n",
    "red_patch=mpatches.Patch(color='red',label='Canada')\n",
    "\n",
    "ax.legend(handles=[red_patch,green_patch,blue_patch], loc='upper left')\n",
    "\n",
    "plt.show()"
   ]
  },
  {
   "cell_type": "markdown",
   "metadata": {},
   "source": [
    "### Ticks and Canvas"
   ]
  },
  {
   "cell_type": "code",
   "execution_count": null,
   "metadata": {},
   "outputs": [],
   "source": [
    "import numpy as np\n",
    "import matplotlib.pyplot as plt\n",
    "\n",
    "xt=np.arange(0,101)\n",
    "yt=xt*xt\n",
    "\n",
    "fig3=plt.figure(num=94,figsize=(16,8))\n",
    "\n",
    "ax3=plt.gca() #current graphical axes\n",
    "ax3.plot(xt,yt,color='r')\n",
    "\n",
    "maj_ticks_x=np.arange(0, 101, 20)\n",
    "min_ticks_x=np.arange(0, 101, 5)\n",
    "maj_ticks_y=np.arange(0, 10001, 2000)\n",
    "min_ticks_y=np.arange(0, 10001, 500)\n",
    "\n",
    "ax3.set_xticks(maj_ticks_x)\n",
    "ax3.set_xticks(min_ticks_x, minor=True)\n",
    "ax3.set_yticks(maj_ticks_y)\n",
    "ax3.set_yticks(min_ticks_y, minor=True)\n",
    "ax3.grid(which='minor', alpha=0.2)\n",
    "ax3.grid(which='major', alpha=0.5)\n",
    "\n",
    "plt.show()"
   ]
  },
  {
   "cell_type": "code",
   "execution_count": null,
   "metadata": {},
   "outputs": [],
   "source": [
    "from datetime import datetime, date, time, timedelta\n",
    "\n",
    "NPTS=330\n",
    "d2=datetime(2019,1,26)\n",
    "d1=datetime(2018,3,2) # 330 days prior\n",
    "dates=pd.date_range(d1,(d2-timedelta(days=1)))\n",
    "\n",
    "price=np.zeros(NPTS)\n",
    "base_price=477\n",
    "for i in range(NPTS):\n",
    "    price[i] = base_price + 100*np.sin(4*np.pi*i/NPTS)\n"
   ]
  },
  {
   "cell_type": "code",
   "execution_count": null,
   "metadata": {},
   "outputs": [],
   "source": [
    "np.random.seed(51)\n",
    "ask_n=20*np.random.randn(NPTS)\n",
    "bid_n=35*np.random.randn(NPTS)\n",
    "ask=price+25+ask_n\n",
    "bid=price-75+bid_n\n",
    "\n",
    "match=np.zeros(NPTS)\n",
    "for i in np.arange(NPTS):\n",
    "    if bid[i] >= ask[i]:\n",
    "        match[i]=1\n",
    "        \n",
    "vol=20+5*np.random.randn(NPTS)"
   ]
  },
  {
   "cell_type": "markdown",
   "metadata": {},
   "source": [
    "### Illustration of Canvas"
   ]
  },
  {
   "cell_type": "code",
   "execution_count": null,
   "metadata": {},
   "outputs": [],
   "source": [
    "fig=plt.figure(figsize=(16,10),num=95)\n",
    "\n",
    "ax1=fig.add_axes([0.1,0.50,0.85,0.40]) #left, bottom, lenght, height\n",
    "ax2=fig.add_axes([0.1,0.25,0.85,0.15])\n",
    "ax3=fig.add_axes([0.1,0.10,0.85,0.10])\n",
    "\n",
    "ax1.plot(dates,price,'g',label='Price')\n",
    "ax1.plot(dates,ask,'b',label='Ask')\n",
    "ax1.plot(dates,bid,'r',label='Bid')\n",
    "ax1.legend(loc=0)\n",
    "\n",
    "ax2.plot(dates,vol)\n",
    "\n",
    "ax3.plot(dates,match)\n",
    "ax3.set_xlabel('Date')\n",
    "\n",
    "ax1.set_title('Transaction History for Pork Bellies (330 days)')\n",
    "ax1.set_ylabel('\"Best\" Asks and Bids')\n",
    "\n",
    "ax2.set_ylabel('Volume of Bids')\n",
    "\n",
    "ax3.set_ylabel('Sales Transactions')\n",
    "\n",
    "plt.tight_layout()\n",
    "plt.show()"
   ]
  },
  {
   "cell_type": "code",
   "execution_count": null,
   "metadata": {},
   "outputs": [],
   "source": [
    "dlist=['2010-01-05','2010-01-10','2010-01-15','2010-01-20','2010-01-25','2010-01-30']\n",
    "ulist=[15,20,25,35,50,55]\n",
    "\n",
    "d2={'date':dlist, 'units':ulist}\n",
    "df2=pd.DataFrame(d2)\n",
    "print(df2)\n",
    "\n",
    "df2['date']=pd.to_datetime(df2['date'])\n",
    "df2=df2.set_index('date')\n",
    "print(df2)\n",
    "\n",
    "fig2=plt.figure(num=53,figsize=(16,8))\n",
    "\n",
    "ax=plt.gca() #Get the current Axes\n",
    "\n",
    "ax.plot(df2['units'],color='r')\n",
    "ax.set_title('Unit Order History')\n",
    "ax.set_xlabel('Date')\n",
    "ax.set_ylabel('Units Ordered')\n",
    "plt.tight_layout()\n",
    "plt.show()"
   ]
  },
  {
   "cell_type": "markdown",
   "metadata": {},
   "source": [
    "### Time series data; more examples"
   ]
  },
  {
   "cell_type": "code",
   "execution_count": null,
   "metadata": {},
   "outputs": [],
   "source": [
    "weather=pd.read_csv('temperatures.csv',names=['Date', 'Temp'])\n",
    "\n",
    "rain=np.random.randn(1,len(weather))\n",
    "rain=np.round(rain[0]*30,1) \n",
    "rain[rain<5]=0\n",
    "weather['Rain']=rain #made up rainfall data"
   ]
  },
  {
   "cell_type": "code",
   "execution_count": null,
   "metadata": {},
   "outputs": [],
   "source": [
    "print(weather.dtypes)\n",
    "weather['Date']"
   ]
  },
  {
   "cell_type": "code",
   "execution_count": null,
   "metadata": {},
   "outputs": [],
   "source": [
    "weather['Date']=pd.to_datetime(weather['Date'])\n",
    "weather['Year']=pd.DatetimeIndex(weather['Date']).year\n",
    "weather['Month']=pd.DatetimeIndex(weather['Date']).month\n",
    "weather['Day']=pd.DatetimeIndex(weather['Date']).day\n",
    "weather['hour']=pd.DatetimeIndex(weather['Date']).hour"
   ]
  },
  {
   "cell_type": "code",
   "execution_count": null,
   "metadata": {},
   "outputs": [],
   "source": [
    "print(weather.dtypes)"
   ]
  },
  {
   "cell_type": "code",
   "execution_count": null,
   "metadata": {},
   "outputs": [],
   "source": [
    "import datetime\n",
    "import matplotlib.dates as mdates\n",
    "\n",
    "fig, ax = plt.subplots(figsize=(14,9))\n",
    "ax.plot(weather['Date'],weather['Temp'])\n",
    "ax.set_xlim(datetime.date(2006,1,1),datetime.date(2006,2,1))\n",
    "years_fmt=mdates.DateFormatter('%Y-%b')\n",
    "ax.xaxis.set_major_formatter(years_fmt)"
   ]
  },
  {
   "cell_type": "code",
   "execution_count": null,
   "metadata": {},
   "outputs": [],
   "source": [
    "annual_weather=weather[['Year','Temp','Rain']].groupby('Year').mean().reset_index()\n",
    "monthly_weather=weather[['Month','Temp','Rain']].groupby('Month').mean().reset_index()"
   ]
  },
  {
   "cell_type": "markdown",
   "metadata": {},
   "source": [
    "### Nested figures"
   ]
  },
  {
   "cell_type": "code",
   "execution_count": null,
   "metadata": {},
   "outputs": [],
   "source": [
    "fig=plt.figure(figsize=(9,4))\n",
    "\n",
    "ax1=fig.add_axes([0,0,1,1])\n",
    "ax2=fig.add_axes([0.1,0.35,0.7,0.5])"
   ]
  },
  {
   "cell_type": "code",
   "execution_count": null,
   "metadata": {},
   "outputs": [],
   "source": [
    "fig=plt.figure(figsize=(9,4))\n",
    "\n",
    "ax1=fig.add_axes([0,0,1,1])\n",
    "ax2=fig.add_axes([0.05,0.65,0.5,0.3]) #left, bottom, width, height\n",
    "\n",
    "ax1.set_title('Weather Data')\n",
    "ax1.plot(annual_weather['Year'],annual_weather['Temp'],color='green')\n",
    "\n",
    "ax2.plot(monthly_weather['Month'],monthly_weather['Temp'],color='blue')"
   ]
  },
  {
   "cell_type": "markdown",
   "metadata": {},
   "source": [
    "### Primary vs Secondary axis"
   ]
  },
  {
   "cell_type": "code",
   "execution_count": null,
   "metadata": {},
   "outputs": [],
   "source": [
    "fig,ax=plt.subplots()\n",
    "\n",
    "fig.set_figwidth(12)\n",
    "fig.set_figheight(6)\n",
    "\n",
    "ax.set_xlabel('Date')\n",
    "ax.tick_params(axis='x',bottom=False,labelbottom=False)\n",
    "\n",
    "ax.set_ylabel('Temp(F)',color='green')\n",
    "ax.tick_params(axis='y',labelcolor='green',labelsize='large')\n",
    "\n",
    "ax.plot(monthly_weather['Month'],\n",
    "        monthly_weather['Temp'],\n",
    "       color='green')\n",
    "\n",
    "ax_twin=ax.twinx()\n",
    "ax_twin.set_ylabel('Precip',color='blue',size='large')\n",
    "ax_twin.tick_params(axis='y',labelcolor='blue',labelsize='large')\n",
    "\n",
    "ax_twin.plot(monthly_weather['Month'],\n",
    "        monthly_weather['Rain'],\n",
    "       color='blue')\n"
   ]
  },
  {
   "cell_type": "markdown",
   "metadata": {},
   "source": [
    "### For the lovers of ggplot"
   ]
  },
  {
   "cell_type": "code",
   "execution_count": null,
   "metadata": {},
   "outputs": [],
   "source": [
    "import matplotlib.pyplot as plt\n",
    "import seaborn as sns\n",
    "%matplotlib inline\n",
    "\n",
    "plt.style.use('ggplot')\n",
    "\n",
    "# More on color below, but you can also set a color palette at the top\n",
    "# Or set the plt style using the seaborn styles in matplotlib\n",
    "\n",
    "# sns.set_palette('colorblind')\n",
    "# plt.style.use('seaborn-colorblind')\n",
    "\n",
    "plt.plot('Rain',data=weather)"
   ]
  },
  {
   "cell_type": "markdown",
   "metadata": {},
   "source": [
    "### An Intresting read on <a href=\"https://medium.com/python-in-plain-english/radar-chart-basics-with-pythons-matplotlib-ba9e002ddbcd\" target=\"_top\">Radar chart / Ploar Area Chart </a>\n",
    "\n",
    "A radar chart is a graphical method of displaying multivariate data in the form of a two-dimensional chart of three or more quantitative variables represented on axes starting from the same point."
   ]
  },
  {
   "cell_type": "code",
   "execution_count": null,
   "metadata": {},
   "outputs": [],
   "source": [
    "np.random.seed(19680801)\n",
    "\n",
    "# Compute pie slices\n",
    "N = 20\n",
    "theta = np.linspace(0.0, 2 * np.pi, N, endpoint=False)\n",
    "radii = 10 * np.random.rand(N)\n",
    "width = np.pi / 4 * np.random.rand(N)\n",
    "colors = plt.cm.viridis(radii / 10.)\n",
    "\n",
    "ax = plt.subplot(111, projection='polar')\n",
    "ax.bar(theta, radii, width=width, bottom=0.0, color=colors, alpha=0.5)\n",
    "\n",
    "plt.show()"
   ]
  },
  {
   "cell_type": "code",
   "execution_count": null,
   "metadata": {},
   "outputs": [],
   "source": [
    "\n",
    "import matplotlib.pyplot as plt\n",
    "from matplotlib.patches import Circle, RegularPolygon\n",
    "from matplotlib.path import Path\n",
    "from matplotlib.projections.polar import PolarAxes\n",
    "from matplotlib.projections import register_projection\n",
    "from matplotlib.spines import Spine\n",
    "from matplotlib.transforms import Affine2D\n",
    "\n",
    "\n",
    "def radar_factory(num_vars, frame='circle'):\n",
    "    \"\"\"Create a radar chart with `num_vars` axes.\n",
    "\n",
    "    This function creates a RadarAxes projection and registers it.\n",
    "\n",
    "    Parameters\n",
    "    ----------\n",
    "    num_vars : int\n",
    "        Number of variables for radar chart.\n",
    "    frame : {'circle' | 'polygon'}\n",
    "        Shape of frame surrounding axes.\n",
    "\n",
    "    \"\"\"\n",
    "    # calculate evenly-spaced axis angles\n",
    "    theta = np.linspace(0, 2*np.pi, num_vars, endpoint=False)\n",
    "\n",
    "    class RadarAxes(PolarAxes):\n",
    "\n",
    "        name = 'radar'\n",
    "        # use 1 line segment to connect specified points\n",
    "        RESOLUTION = 1\n",
    "\n",
    "        def __init__(self, *args, **kwargs):\n",
    "            super().__init__(*args, **kwargs)\n",
    "            # rotate plot such that the first axis is at the top\n",
    "            self.set_theta_zero_location('N')\n",
    "\n",
    "        def fill(self, *args, closed=True, **kwargs):\n",
    "            \"\"\"Override fill so that line is closed by default\"\"\"\n",
    "            return super().fill(closed=closed, *args, **kwargs)\n",
    "\n",
    "        def plot(self, *args, **kwargs):\n",
    "            \"\"\"Override plot so that line is closed by default\"\"\"\n",
    "            lines = super().plot(*args, **kwargs)\n",
    "            for line in lines:\n",
    "                self._close_line(line)\n",
    "\n",
    "        def _close_line(self, line):\n",
    "            x, y = line.get_data()\n",
    "            # FIXME: markers at x[0], y[0] get doubled-up\n",
    "            if x[0] != x[-1]:\n",
    "                x = np.concatenate((x, [x[0]]))\n",
    "                y = np.concatenate((y, [y[0]]))\n",
    "                line.set_data(x, y)\n",
    "\n",
    "        def set_varlabels(self, labels):\n",
    "            self.set_thetagrids(np.degrees(theta), labels)\n",
    "\n",
    "        def _gen_axes_patch(self):\n",
    "            # The Axes patch must be centered at (0.5, 0.5) and of radius 0.5\n",
    "            # in axes coordinates.\n",
    "            if frame == 'circle':\n",
    "                return Circle((0.5, 0.5), 0.5)\n",
    "            elif frame == 'polygon':\n",
    "                return RegularPolygon((0.5, 0.5), num_vars,\n",
    "                                      radius=.5, edgecolor=\"k\")\n",
    "            else:\n",
    "                raise ValueError(\"unknown value for 'frame': %s\" % frame)\n",
    "\n",
    "        def _gen_axes_spines(self):\n",
    "            if frame == 'circle':\n",
    "                return super()._gen_axes_spines()\n",
    "            elif frame == 'polygon':\n",
    "                # spine_type must be 'left'/'right'/'top'/'bottom'/'circle'.\n",
    "                spine = Spine(axes=self,\n",
    "                              spine_type='circle',\n",
    "                              path=Path.unit_regular_polygon(num_vars))\n",
    "                # unit_regular_polygon gives a polygon of radius 1 centered at\n",
    "                # (0, 0) but we want a polygon of radius 0.5 centered at (0.5,\n",
    "                # 0.5) in axes coordinates.\n",
    "                spine.set_transform(Affine2D().scale(.5).translate(.5, .5)\n",
    "                                    + self.transAxes)\n",
    "                return {'polar': spine}\n",
    "            else:\n",
    "                raise ValueError(\"unknown value for 'frame': %s\" % frame)\n",
    "\n",
    "    register_projection(RadarAxes)\n",
    "    return theta\n",
    "\n",
    "\n",
    "def example_data():\n",
    "    # The following data is from the Denver Aerosol Sources and Health study.\n",
    "    # See doi:10.1016/j.atmosenv.2008.12.017\n",
    "    #\n",
    "    # The data are pollution source profile estimates for five modeled\n",
    "    # pollution sources (e.g., cars, wood-burning, etc) that emit 7-9 chemical\n",
    "    # species. The radar charts are experimented with here to see if we can\n",
    "    # nicely visualize how the modeled source profiles change across four\n",
    "    # scenarios:\n",
    "    #  1) No gas-phase species present, just seven particulate counts on\n",
    "    #     Sulfate\n",
    "    #     Nitrate\n",
    "    #     Elemental Carbon (EC)\n",
    "    #     Organic Carbon fraction 1 (OC)\n",
    "    #     Organic Carbon fraction 2 (OC2)\n",
    "    #     Organic Carbon fraction 3 (OC3)\n",
    "    #     Pyrolized Organic Carbon (OP)\n",
    "    #  2)Inclusion of gas-phase specie carbon monoxide (CO)\n",
    "    #  3)Inclusion of gas-phase specie ozone (O3).\n",
    "    #  4)Inclusion of both gas-phase species is present...\n",
    "    data = [\n",
    "        ['Sulfate', 'Nitrate', 'EC', 'OC1', 'OC2', 'OC3', 'OP', 'CO', 'O3'],\n",
    "        ('Basecase', [\n",
    "            [0.88, 0.01, 0.03, 0.03, 0.00, 0.06, 0.01, 0.00, 0.00],\n",
    "            [0.07, 0.95, 0.04, 0.05, 0.00, 0.02, 0.01, 0.00, 0.00],\n",
    "            [0.01, 0.02, 0.85, 0.19, 0.05, 0.10, 0.00, 0.00, 0.00],\n",
    "            [0.02, 0.01, 0.07, 0.01, 0.21, 0.12, 0.98, 0.00, 0.00],\n",
    "            [0.01, 0.01, 0.02, 0.71, 0.74, 0.70, 0.00, 0.00, 0.00]]),\n",
    "        ('With CO', [\n",
    "            [0.88, 0.02, 0.02, 0.02, 0.00, 0.05, 0.00, 0.05, 0.00],\n",
    "            [0.08, 0.94, 0.04, 0.02, 0.00, 0.01, 0.12, 0.04, 0.00],\n",
    "            [0.01, 0.01, 0.79, 0.10, 0.00, 0.05, 0.00, 0.31, 0.00],\n",
    "            [0.00, 0.02, 0.03, 0.38, 0.31, 0.31, 0.00, 0.59, 0.00],\n",
    "            [0.02, 0.02, 0.11, 0.47, 0.69, 0.58, 0.88, 0.00, 0.00]]),\n",
    "        ('With O3', [\n",
    "            [0.89, 0.01, 0.07, 0.00, 0.00, 0.05, 0.00, 0.00, 0.03],\n",
    "            [0.07, 0.95, 0.05, 0.04, 0.00, 0.02, 0.12, 0.00, 0.00],\n",
    "            [0.01, 0.02, 0.86, 0.27, 0.16, 0.19, 0.00, 0.00, 0.00],\n",
    "            [0.01, 0.03, 0.00, 0.32, 0.29, 0.27, 0.00, 0.00, 0.95],\n",
    "            [0.02, 0.00, 0.03, 0.37, 0.56, 0.47, 0.87, 0.00, 0.00]]),\n",
    "        ('CO & O3', [\n",
    "            [0.87, 0.01, 0.08, 0.00, 0.00, 0.04, 0.00, 0.00, 0.01],\n",
    "            [0.09, 0.95, 0.02, 0.03, 0.00, 0.01, 0.13, 0.06, 0.00],\n",
    "            [0.01, 0.02, 0.71, 0.24, 0.13, 0.16, 0.00, 0.50, 0.00],\n",
    "            [0.01, 0.03, 0.00, 0.28, 0.24, 0.23, 0.00, 0.44, 0.88],\n",
    "            [0.02, 0.00, 0.18, 0.45, 0.64, 0.55, 0.86, 0.00, 0.16]])\n",
    "    ]\n",
    "    return data\n",
    "\n",
    "\n",
    "if __name__ == '__main__':\n",
    "    N = 9\n",
    "    theta = radar_factory(N, frame='polygon')\n",
    "\n",
    "    data = example_data()\n",
    "    spoke_labels = data.pop(0)\n",
    "\n",
    "    fig, axes = plt.subplots(figsize=(9, 9), nrows=2, ncols=2,\n",
    "                             subplot_kw=dict(projection='radar'))\n",
    "    fig.subplots_adjust(wspace=0.25, hspace=0.20, top=0.85, bottom=0.05)\n",
    "\n",
    "    colors = ['b', 'r', 'g', 'm', 'y']\n",
    "    # Plot the four cases from the example data on separate axes\n",
    "    for ax, (title, case_data) in zip(axes.flat, data):\n",
    "        ax.set_rgrids([0.2, 0.4, 0.6, 0.8])\n",
    "        ax.set_title(title, weight='bold', size='medium', position=(0.5, 1.1),\n",
    "                     horizontalalignment='center', verticalalignment='center')\n",
    "        for d, color in zip(case_data, colors):\n",
    "            ax.plot(theta, d, color=color)\n",
    "            ax.fill(theta, d, facecolor=color, alpha=0.25)\n",
    "        ax.set_varlabels(spoke_labels)\n",
    "\n",
    "    # add legend relative to top-left plot\n",
    "    ax = axes[0, 0]\n",
    "    labels = ('Factor 1', 'Factor 2', 'Factor 3', 'Factor 4', 'Factor 5')\n",
    "    legend = ax.legend(labels, loc=(0.9, .95),\n",
    "                       labelspacing=0.1, fontsize='small')\n",
    "\n",
    "    fig.text(0.5, 0.965, '5-Factor Solution Profiles Across Four Scenarios',\n",
    "             horizontalalignment='center', color='black', weight='bold',\n",
    "             size='large')\n",
    "\n",
    "    plt.show()"
   ]
  },
  {
   "cell_type": "markdown",
   "metadata": {},
   "source": [
    "### Import and manage financial data in Python"
   ]
  },
  {
   "cell_type": "code",
   "execution_count": null,
   "metadata": {},
   "outputs": [],
   "source": [
    "import yfinance as yf\n",
    "\n",
    "df=yf.download('AAPL','2019-01-01','2019-01-31')\n",
    "df.head(20)"
   ]
  },
  {
   "cell_type": "markdown",
   "metadata": {},
   "source": [
    "#### Animation vibe!"
   ]
  },
  {
   "cell_type": "code",
   "execution_count": null,
   "metadata": {},
   "outputs": [],
   "source": [
    "#activate\n",
    "plt.xkcd() #animation stuff!\n",
    "\n",
    "#deactivate\n",
    "plt.rcdefaults() #end it!"
   ]
  },
  {
   "cell_type": "code",
   "execution_count": null,
   "metadata": {},
   "outputs": [],
   "source": [
    "#plt.figure(figsize=(8,8))\n",
    "\n",
    "# Plot data\n",
    "languages = 'Java', 'Python', 'PHP', 'JavaScript', 'C#', 'C++'\n",
    "popularity = [22.2, 17.6, 8.8, 8, 7.7, 6.7]\n",
    "colors = [\"b\", \"g\", \"r\", \"y\", \"k\", \"grey\"]\n",
    "explode = (0.1, 0, 0, 0, 0, 0)  \n",
    "\n",
    "plt.pie(popularity, explode=explode, labels=languages, colors=colors,autopct='%1.1f%%', shadow=True, startangle=140)\n",
    "plt.title(\"Popularity of Programming Language\\n\" + \"Worldwide, Oct 2017 compared to a year ago\", bbox={'facecolor':'0.8', 'pad':5})\n",
    "plt.show()"
   ]
  },
  {
   "cell_type": "code",
   "execution_count": null,
   "metadata": {},
   "outputs": [],
   "source": [
    "x = ['Java', 'Python', 'PHP', 'JS', 'C#', 'C++']\n",
    "popularity = [22.2, 17.6, 8.8, 8, 7.7, 6.7]\n",
    "x_pos = [i for i, _ in enumerate(x)]\n",
    "plt.barh(x_pos, popularity, color='green')\n",
    "plt.xlabel(\"Popularity\")\n",
    "plt.ylabel(\"Languages\")\n",
    "plt.title(\"PopularitY of Programming Language\\n\" + \"Worldwide, Oct 2017 compared to a year ago\")\n",
    "plt.yticks(x_pos, x)\n",
    "# Turn on the grid\n",
    "plt.minorticks_on()\n",
    "plt.grid(which='major', linestyle='-', linewidth='0.5', color='red')\n",
    "# Customize the minor grid\n",
    "plt.grid(which='minor', linestyle=':', linewidth='0.5', color='black')\n",
    "plt.show()\n"
   ]
  },
  {
   "cell_type": "code",
   "execution_count": null,
   "metadata": {
    "pycharm": {
     "name": "#%%\n"
    }
   },
   "outputs": [],
   "source": [
    "from IPython.core.display import display, HTML\n",
    "import matplotlib\n",
    "import matplotlib.pyplot as plt\n",
    "import seaborn as sns\n",
    "import pandas as pd\n",
    "import numpy as np\n",
    "sns.set()\n",
    "matplotlib.rcParams['figure.dpi'] = 144\n",
    "import matplotlib.pyplot as plt"
   ]
  },
  {
   "cell_type": "markdown",
   "metadata": {
    "pycharm": {
     "name": "#%% md\n"
    }
   },
   "source": [
    "# Classwork Excercise"
   ]
  },
  {
   "cell_type": "code",
   "execution_count": null,
   "metadata": {},
   "outputs": [],
   "source": [
    "rain_central_park_df = pd.read_csv(\"../Sample Data/Rain-Central Park.csv\")\n",
    "\n",
    "rain_central_park_df['DATE'] = pd.to_datetime(rain_central_park_df['DATE'])\n",
    "rain_central_park_df['Weekday'] = rain_central_park_df['DATE'].dt.weekday\n",
    "rain_central_park_df['Month'] = rain_central_park_df['DATE'].dt.month\n",
    "\n",
    "display(HTML(\"<h3> City Stats </h3>\"))\n",
    "display(rain_central_park_df.head())\n",
    "\n",
    "display(HTML(\"<h3> Station Stats </h3>\"))\n",
    "display(rain_central_park_df[\"STATION\"].describe())\n",
    "\n",
    "display(HTML(\"<h3> City Stats </h3>\"))\n",
    "display(rain_central_park_df[\"NAME\"].describe())"
   ]
  },
  {
   "cell_type": "markdown",
   "metadata": {
    "pycharm": {
     "name": "#%% md\n"
    }
   },
   "source": [
    "# Playing Soccer in the weekend... Why Only Weekend is Rainy?"
   ]
  },
  {
   "cell_type": "markdown",
   "metadata": {},
   "source": [
    "# Which month has more contribution to the total annual rainfall?"
   ]
  },
  {
   "cell_type": "markdown",
   "metadata": {},
   "source": [
    "# Distribution of non-zero rainfall?"
   ]
  },
  {
   "cell_type": "code",
   "execution_count": null,
   "metadata": {
    "pycharm": {
     "name": "#%%\n"
    }
   },
   "outputs": [],
   "source": []
  }
 ],
 "metadata": {
  "kernelspec": {
   "display_name": "Python 3",
   "language": "python",
   "name": "python3"
  },
  "language_info": {
   "codemirror_mode": {
    "name": "ipython",
    "version": 3
   },
   "file_extension": ".py",
   "mimetype": "text/x-python",
   "name": "python",
   "nbconvert_exporter": "python",
   "pygments_lexer": "ipython3",
   "version": "3.9.2"
  }
 },
 "nbformat": 4,
 "nbformat_minor": 4
}
