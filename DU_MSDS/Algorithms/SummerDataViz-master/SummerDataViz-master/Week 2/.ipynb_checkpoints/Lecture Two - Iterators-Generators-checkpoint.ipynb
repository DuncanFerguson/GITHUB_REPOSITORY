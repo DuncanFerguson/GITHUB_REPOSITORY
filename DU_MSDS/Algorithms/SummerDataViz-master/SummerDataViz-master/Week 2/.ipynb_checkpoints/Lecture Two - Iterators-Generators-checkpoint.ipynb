{
 "cells": [
  {
   "cell_type": "code",
   "execution_count": null,
   "metadata": {},
   "outputs": [],
   "source": [
    "%matplotlib inline\n",
    "import matplotlib\n",
    "import seaborn as sns\n",
    "sns.set()\n",
    "matplotlib.rcParams['figure.dpi'] = 144"
   ]
  },
  {
   "cell_type": "code",
   "execution_count": null,
   "metadata": {},
   "outputs": [],
   "source": [
    "import expectexception"
   ]
  },
  {
   "cell_type": "markdown",
   "metadata": {},
   "source": [
    "# Iterators, Generators\n"
   ]
  },
  {
   "cell_type": "markdown",
   "metadata": {},
   "source": [
    "Python's composite data structures can be used in for loops and comprehensions.  Other objects can be used in these too, as long as they support the iterable and iterator interfaces.\n",
    "\n",
    "One convenient way to do this is by creating a generator.  A generator acts like a function that pauses every time it reaches the `yield` keyword.  Coroutines are related construction that allow the function to pause for input.  While a little abstract, these tools allow for more readable code overall by separating concerns."
   ]
  },
  {
   "cell_type": "markdown",
   "metadata": {},
   "source": [
    "## Iterables and Iterators\n"
   ]
  },
  {
   "cell_type": "markdown",
   "metadata": {},
   "source": [
    "What's happening inside a for loop?"
   ]
  },
  {
   "cell_type": "code",
   "execution_count": null,
   "metadata": {},
   "outputs": [],
   "source": [
    "for i,item in enumerate([1, 2, 3]):\n",
    "    print(i,item)"
   ]
  },
  {
   "cell_type": "markdown",
   "metadata": {},
   "source": [
    "Python is not actually figuring out the length of the list and then indexing through it.  Instead, it is doing something akin to the following:"
   ]
  },
  {
   "cell_type": "code",
   "execution_count": null,
   "metadata": {},
   "outputs": [],
   "source": [
    "it = iter([1, 2, 3])\n",
    "while True:\n",
    "    try:\n",
    "        i = next(it)\n",
    "    except StopIteration:\n",
    "        break\n",
    "    print(i)"
   ]
  },
  {
   "cell_type": "markdown",
   "metadata": {},
   "source": [
    "The list is an **iterable**.  That means we can call `iter()` on it and get an **iterator**."
   ]
  },
  {
   "cell_type": "code",
   "execution_count": null,
   "metadata": {},
   "outputs": [],
   "source": [
    "type(it)"
   ]
  },
  {
   "cell_type": "markdown",
   "metadata": {},
   "source": [
    "This iterator will go through the list *once* and then raise `StopIteration`.  After that, it cannot be reused."
   ]
  },
  {
   "cell_type": "code",
   "execution_count": null,
   "metadata": {},
   "outputs": [],
   "source": [
    "try:\n",
    "    next(it)\n",
    "except StopIteration:\n",
    "    print(\"Iterator exhausted\")"
   ]
  },
  {
   "cell_type": "markdown",
   "metadata": {},
   "source": [
    "The `iter()` function just calls the `__iter__()` method of its argument.  Therefore, implementing an iterable is as simple as giving a class an `__iter__()` method.\n",
    "\n",
    "This is a good example of Python's \"duck typing\".  There's no iterable class or interface to inherit from.  It just checks if there is a `__iter__()` method.  If so, that's good enough to be an iterable."
   ]
  },
  {
   "cell_type": "code",
   "execution_count": null,
   "metadata": {},
   "outputs": [],
   "source": [
    "class Iterable(object):\n",
    "    \n",
    "    def __init__(self, n):\n",
    "        self.n = n\n",
    "    \n",
    "    def __iter__(self):\n",
    "        return iter([self.n] * self.n)"
   ]
  },
  {
   "cell_type": "code",
   "execution_count": null,
   "metadata": {},
   "outputs": [],
   "source": [
    "my_iter = Iterable(5)\n",
    "for i in my_iter:\n",
    "    print(i)"
   ]
  },
  {
   "cell_type": "markdown",
   "metadata": {},
   "source": [
    "Similarly, all it takes to be an iterator is a `__next__()` method."
   ]
  },
  {
   "cell_type": "code",
   "execution_count": null,
   "metadata": {},
   "outputs": [],
   "source": [
    "class Iterator(object):\n",
    "    \n",
    "    def __init__(self, n):\n",
    "        self.curr = n + 1\n",
    "    \n",
    "    def __next__(self):\n",
    "        self.curr -= 1\n",
    "        if self.curr >= 0:\n",
    "            return self.curr\n",
    "        else:\n",
    "            raise StopIteration"
   ]
  },
  {
   "cell_type": "markdown",
   "metadata": {},
   "source": [
    "This iterator isn't an iterable, so we can't use it directly in a for loop.  We can demo it in the same while loop we used before."
   ]
  },
  {
   "cell_type": "code",
   "execution_count": null,
   "metadata": {},
   "outputs": [],
   "source": [
    "iterator = Iterator(5)\n",
    "while True:\n",
    "    try:\n",
    "        i = next(iterator)\n",
    "    except StopIteration:\n",
    "        break\n",
    "    print(i)"
   ]
  },
  {
   "cell_type": "markdown",
   "metadata": {},
   "source": [
    "To actually use it in a for loop, we'd need an iterable that returns it.  We could make a separate class, but it's easier to just make the iterator be iterable as well."
   ]
  },
  {
   "cell_type": "code",
   "execution_count": null,
   "metadata": {},
   "outputs": [],
   "source": [
    "class IterableIterator(object):\n",
    "    \n",
    "    def __init__(self, n):\n",
    "        self.curr = n + 1\n",
    "    \n",
    "    def __iter__(self):\n",
    "        return self\n",
    "    \n",
    "    def __next__(self):\n",
    "        self.curr -= 1\n",
    "        if self.curr >= 0:\n",
    "            return self.curr\n",
    "        else:\n",
    "            raise StopIteration"
   ]
  },
  {
   "cell_type": "code",
   "execution_count": null,
   "metadata": {},
   "outputs": [],
   "source": [
    "for i in IterableIterator(5):\n",
    "    print(i)"
   ]
  },
  {
   "cell_type": "markdown",
   "metadata": {},
   "source": [
    "## Generators"
   ]
  },
  {
   "cell_type": "markdown",
   "metadata": {},
   "source": [
    "Generators are a type of iterator.  Benefits:\n",
    "1. They are more powerful than just using `map` and `filter` because they allow you to hold state in between processing entries.  They are like `reduce` but much easier to use, which makes them powerful.\n",
    "1. They allow you to hold data in an \"inner\" context without needing to resort to creating a `class`.  This can be faster since `self.foo` is actually pretty slow in python.\n",
    "1. **Gotcha**: the generator is not run until you first call `.__next__`, which can be a bit counter-intuitive ...\n",
    "\n",
    "Here's a generator that does the same countdown as the `IterableIterator` we defined above.  Notice that, even with some print statements, it uses fewer lines of code."
   ]
  },
  {
   "cell_type": "code",
   "execution_count": null,
   "metadata": {},
   "outputs": [],
   "source": [
    "def Countdown(n):\n",
    "    print(\"Counting down ...\")\n",
    "    while n > 0:\n",
    "        yield n\n",
    "        n -= 1\n",
    "\n",
    "c = Countdown(5)\n",
    "print(\"Set up Countdown\")\n",
    "for i in c:\n",
    "    print(i)"
   ]
  },
  {
   "cell_type": "markdown",
   "metadata": {},
   "source": [
    "`Countdown` is a generator function.  When it is called, it immediately returns a generator object, but no code is executed."
   ]
  },
  {
   "cell_type": "code",
   "execution_count": null,
   "metadata": {},
   "outputs": [],
   "source": [
    "c = Countdown(3)\n",
    "c"
   ]
  },
  {
   "cell_type": "markdown",
   "metadata": {},
   "source": [
    "Generators are iterators, so we can use the `next` method to allow the execution to proceed to the next `yield` statement."
   ]
  },
  {
   "cell_type": "code",
   "execution_count": null,
   "metadata": {},
   "outputs": [],
   "source": [
    "my_list=[1,2,3,4,6,10,100]\n",
    "#[i for i,item in enumerate(my_list) if item>5]"
   ]
  },
  {
   "cell_type": "code",
   "execution_count": null,
   "metadata": {},
   "outputs": [],
   "source": [
    "print(next(c))\n",
    "print(next(c))"
   ]
  },
  {
   "cell_type": "markdown",
   "metadata": {},
   "source": [
    "When the generator returns during a `.__next__()` call, `StopIteration` is raised.  This is used by for loops and list comprehensions to signal the end of the iterator."
   ]
  },
  {
   "cell_type": "markdown",
   "metadata": {},
   "source": [
    "## Generator \"pipelines\"\n"
   ]
  },
  {
   "cell_type": "markdown",
   "metadata": {},
   "source": [
    "In particular, we're going to create this generator\n",
    "\n",
    "```\n",
    "source_gen -> and_plus_one_gen -> sum_gen\n",
    "```\n",
    "\n",
    "and chain them together.  Note that for each generator input, we can yield none, one, or multiple outputs.\n",
    "\n",
    "1. **Source:** pushes values using `yield`.\n",
    "2. **Intermediate Step:** both requests previous values (`next`) and pushes them using `yield`\n",
    "3. **Sink:** iterates through previous values using `next`.\n",
    "\n",
    "**Question:** why is this better than dealing with a list?"
   ]
  },
  {
   "cell_type": "code",
   "execution_count": null,
   "metadata": {},
   "outputs": [],
   "source": [
    "def source_gen(n):\n",
    "    for i in range(n):\n",
    "        yield i\n",
    "\n",
    "def and_plus_one_gen(gen):\n",
    "    for i in gen:\n",
    "        yield i\n",
    "        yield i + 1\n",
    "\n",
    "def sum_gen(gen):\n",
    "    return sum(i for i in gen)\n",
    "\n",
    "gen1 = source_gen(1)\n",
    "gen2 = and_plus_one_gen(gen1)\n",
    "result = sum_gen(gen2)"
   ]
  },
  {
   "cell_type": "markdown",
   "metadata": {},
   "source": [
    "## Generator comprehensions\n"
   ]
  },
  {
   "cell_type": "markdown",
   "metadata": {},
   "source": [
    "Python supports generator comprehensions in addition to list comprehensions.  They use parentheses `()` instead of brackets `[]`.  While concise, they can only do `map` and `filter`-like things."
   ]
  },
  {
   "cell_type": "code",
   "execution_count": null,
   "metadata": {},
   "outputs": [],
   "source": [
    "(j for j in range(10))"
   ]
  },
  {
   "cell_type": "markdown",
   "metadata": {},
   "source": [
    "Actually, the parentheses are needed only to group the expression together.  If the generator comprehension appears in another set of parentheses, a second set is not needed."
   ]
  },
  {
   "cell_type": "code",
   "execution_count": null,
   "metadata": {},
   "outputs": [],
   "source": [
    "sum(j for j in range(10))"
   ]
  },
  {
   "cell_type": "markdown",
   "metadata": {},
   "source": [
    "Comprehensions can be nested.  This produces a flattened list or generator.  Note that the syntax reads outwards from the middle: The outermost loop appears in the middle, the inner loop appears at the end, and the quantity calculated in that loop appears at the beginning."
   ]
  },
  {
   "cell_type": "code",
   "execution_count": null,
   "metadata": {},
   "outputs": [],
   "source": [
    "[j for i in range(10) for j in (i, i+1)]"
   ]
  },
  {
   "cell_type": "markdown",
   "metadata": {},
   "source": [
    "Using this, we can reproduce the previous generator pipeline."
   ]
  },
  {
   "cell_type": "code",
   "execution_count": null,
   "metadata": {},
   "outputs": [],
   "source": [
    "sum(j for i in range(10) for j in (i, i+1))"
   ]
  },
  {
   "cell_type": "markdown",
   "metadata": {},
   "source": [
    "### Not all generators can be written as generator comprehensions\n"
   ]
  },
  {
   "cell_type": "markdown",
   "metadata": {},
   "source": [
    "It might seem from the above example that all generators can be written as generator expressions.  This is not true.  Generator expressions cannot keep track of state in between processing elements, generators can.  In the following example, the `total` variable holds state between generator iterations."
   ]
  },
  {
   "cell_type": "code",
   "execution_count": null,
   "metadata": {},
   "outputs": [],
   "source": [
    "def and_total_gen(gen):\n",
    "    total = 0\n",
    "    for i in gen:\n",
    "        yield i\n",
    "        total += i\n",
    "        yield total"
   ]
  },
  {
   "cell_type": "code",
   "execution_count": null,
   "metadata": {},
   "outputs": [],
   "source": [
    "list(and_total_gen(range(10)))"
   ]
  },
  {
   "cell_type": "markdown",
   "metadata": {},
   "source": [
    "## Time complexity\n"
   ]
  },
  {
   "cell_type": "markdown",
   "metadata": {},
   "source": [
    "Because they don't have to construct an entire list, iterators are much faster. Generator comprehensions will be faster than list comprehensions. They are also much more memory efficient (typically `O(1)` rather than `O(n)`)."
   ]
  },
  {
   "cell_type": "code",
   "execution_count": null,
   "metadata": {},
   "outputs": [],
   "source": [
    "%%timeit -n1\n",
    "my_list=[1,2,3,4,5,6,7,8,9]\n",
    "def fi_con(list):\n",
    "    it = iter(list)\n",
    "    count = 0\n",
    "    while count < len(list):\n",
    "        item = next(it)\n",
    "        if item > 9:\n",
    "            return count\n",
    "        else:\n",
    "            count += 1"
   ]
  },
  {
   "cell_type": "code",
   "execution_count": null,
   "metadata": {},
   "outputs": [],
   "source": [
    "%%timeit -n1\n",
    "my_list=[1,2,3,4,5,6,7,8,9]\n",
    "for idx,item in zip(range(len(my_list)),my_list):\n",
    "    if item > 5:\n",
    "        print(idx)\n",
    "        break"
   ]
  },
  {
   "cell_type": "code",
   "execution_count": null,
   "metadata": {},
   "outputs": [],
   "source": [
    "%%timeit -n1\n",
    "my_list=[1,2,3,4,5,6,7,8,9]\n",
    "print(next(i for i,item in enumerate(my_list) if item>5))"
   ]
  },
  {
   "cell_type": "markdown",
   "metadata": {},
   "source": [
    "## Itertools in Python\n"
   ]
  },
  {
   "cell_type": "markdown",
   "metadata": {},
   "source": [
    "Manipulating iterators requires a little more care than before.  The itertools package provides some nice tools for dealing with iterators.  Remember that many common operations like `range` and `dict.items` are returning iterators and not lists."
   ]
  },
  {
   "cell_type": "code",
   "execution_count": null,
   "metadata": {},
   "outputs": [],
   "source": [
    "from itertools import count, islice, chain, tee, takewhile, dropwhile, combinations"
   ]
  },
  {
   "cell_type": "markdown",
   "metadata": {},
   "source": [
    "Count is an iterator that is never exhausted.  We can slice a portion of it."
   ]
  },
  {
   "cell_type": "code",
   "execution_count": null,
   "metadata": {},
   "outputs": [],
   "source": [
    "list(islice(count(), 10))"
   ]
  },
  {
   "cell_type": "code",
   "execution_count": null,
   "metadata": {},
   "outputs": [],
   "source": [
    "list(chain(range(10), range(10)))"
   ]
  },
  {
   "cell_type": "code",
   "execution_count": null,
   "metadata": {},
   "outputs": [],
   "source": [
    "it = range(5)\n",
    "it1, it2 = tee(it, 2)"
   ]
  },
  {
   "cell_type": "code",
   "execution_count": null,
   "metadata": {},
   "outputs": [],
   "source": [
    "list(it2)"
   ]
  },
  {
   "cell_type": "code",
   "execution_count": null,
   "metadata": {},
   "outputs": [],
   "source": [
    "list(it1)"
   ]
  },
  {
   "cell_type": "code",
   "execution_count": null,
   "metadata": {},
   "outputs": [],
   "source": [
    "list(takewhile(lambda x: x < 'C', 'ABCDABCD'))"
   ]
  },
  {
   "cell_type": "code",
   "execution_count": null,
   "metadata": {},
   "outputs": [],
   "source": [
    "list(dropwhile(lambda x: x < 'C', 'ABCDABCD'))"
   ]
  },
  {
   "cell_type": "code",
   "execution_count": null,
   "metadata": {},
   "outputs": [],
   "source": [
    "list(combinations(range(4), 2))"
   ]
  },
  {
   "cell_type": "code",
   "execution_count": null,
   "metadata": {},
   "outputs": [],
   "source": []
  }
 ],
 "metadata": {
  "kernelspec": {
   "display_name": "Python 3",
   "language": "python",
   "name": "python3"
  },
  "language_info": {
   "codemirror_mode": {
    "name": "ipython",
    "version": 3
   },
   "file_extension": ".py",
   "mimetype": "text/x-python",
   "name": "python",
   "nbconvert_exporter": "python",
   "pygments_lexer": "ipython3",
   "version": "3.9.2"
  },
  "nbclean": true
 },
 "nbformat": 4,
 "nbformat_minor": 1
}
