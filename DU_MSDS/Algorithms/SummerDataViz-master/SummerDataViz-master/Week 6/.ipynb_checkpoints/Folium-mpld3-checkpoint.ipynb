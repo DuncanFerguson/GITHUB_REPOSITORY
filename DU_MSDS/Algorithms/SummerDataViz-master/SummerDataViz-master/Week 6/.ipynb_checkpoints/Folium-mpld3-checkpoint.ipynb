{
 "cells": [
  {
   "cell_type": "markdown",
   "id": "endangered-january",
   "metadata": {},
   "source": [
    "The [mpld3](https://mpld3.github.io/quickstart.html) package is extremely easy to use: you can simply take any script generating a matplotlib plot, run it through one of mpld3’s convenience routines, and embed the result in a web page."
   ]
  },
  {
   "cell_type": "code",
   "execution_count": null,
   "id": "subject-saver",
   "metadata": {},
   "outputs": [],
   "source": [
    "import matplotlib.pyplot as plt, mpld3\n",
    "plt.plot([3,1,4,1,5], 'ks-', mec='w', mew=5, ms=20)\n",
    "mpld3.display()"
   ]
  },
  {
   "cell_type": "markdown",
   "id": "valued-parish",
   "metadata": {},
   "source": [
    "Showing US Election Choropleth with Folium and mpld3 (Courtesy of [Conor O'Sullivan](https://towardsdatascience.com/us-election-choropleth-with-python-bad8e355f1bd))"
   ]
  },
  {
   "cell_type": "code",
   "execution_count": null,
   "id": "honest-clarity",
   "metadata": {},
   "outputs": [],
   "source": [
    "import numpy as np\n",
    "import pandas as pd\n",
    "import matplotlib.pyplot as plt, mpld3\n",
    "%matplotlib inline\n",
    "import json\n",
    "import datetime\n",
    "\n",
    "from shapely.geometry import Polygon, mapping\n",
    "import geopandas as gpd\n",
    "import folium\n",
    "from folium.plugins import TimeSliderChoropleth"
   ]
  },
  {
   "cell_type": "code",
   "execution_count": null,
   "id": "understood-armor",
   "metadata": {},
   "outputs": [],
   "source": []
  },
  {
   "cell_type": "code",
   "execution_count": null,
   "id": "aboriginal-catholic",
   "metadata": {},
   "outputs": [],
   "source": [
    "us_shape = gpd.read_file('https://alicia.data.socrata.com/api/geospatial/jhnu-yfrj?method=export&format=Shapefile')\n",
    "us_shape = us_shape[['state_name','geometry']]\n",
    "us_shape['state_name']=us_shape['state_name'].apply(lambda x:x.upper())\n",
    "us_shape.head()"
   ]
  },
  {
   "cell_type": "code",
   "execution_count": null,
   "id": "exposed-psychology",
   "metadata": {},
   "outputs": [],
   "source": [
    "m = folium.Map(location=[50.77500, -100],zoom_start=3) \n",
    "choropleth =folium.GeoJson(data= us_shape.to_json())\n",
    "m.add_child(choropleth)"
   ]
  },
  {
   "cell_type": "code",
   "execution_count": null,
   "id": "amino-reconstruction",
   "metadata": {},
   "outputs": [],
   "source": [
    "#Get election data\n",
    "election = pd.read_csv(r\"C:\\Users\\sarma\\Downloads\\1976-2020-president.csv\" )\n",
    "election.replace('democratic-farmer-labor','democrat',inplace=True)\n",
    "election.head()"
   ]
  },
  {
   "cell_type": "code",
   "execution_count": null,
   "id": "powerful-virginia",
   "metadata": {},
   "outputs": [],
   "source": [
    "# Transform election data \n",
    "states = set(election['state'])\n",
    "\n",
    "results = {}\n",
    "for year in range(1976,2020,4):\n",
    "    \n",
    "    result = {}\n",
    "    for state in states:\n",
    "        \n",
    "        state_year = election[(election.year == year) \n",
    "                              & (election.state == state)]\n",
    "        dem = max(state_year[state_year.party == 'DEMOCRAT']['candidatevotes'])\n",
    "        rep = max(state_year[state_year.party == 'REPUBLICAN']['candidatevotes'])\n",
    "        \n",
    "        result[state] = {'dem':dem, 'rep':rep}\n",
    "        \n",
    "    results[year] = result"
   ]
  },
  {
   "cell_type": "code",
   "execution_count": null,
   "id": "excess-viking",
   "metadata": {},
   "outputs": [],
   "source": [
    "results"
   ]
  },
  {
   "cell_type": "code",
   "execution_count": null,
   "id": "finnish-scheduling",
   "metadata": {},
   "outputs": [],
   "source": [
    "def state_style(state,year,function=False):\n",
    "    \"\"\"\n",
    "    Returns the style for a state in a given year\n",
    "    \"\"\"\n",
    "    \n",
    "    state_results = results[year][state]\n",
    "    \n",
    "    #Set state colour\n",
    "    if state_results['dem'] >= state_results['rep']:\n",
    "        color = '#4f7bff' #blue\n",
    "    else:\n",
    "        color = '#ff5b4f' #red\n",
    "    \n",
    "    #Set state style\n",
    "    if function == False:\n",
    "        # Format for style_dictionary\n",
    "        state_style = {\n",
    "            'opacity': 1,\n",
    "            'color': color,\n",
    "        } \n",
    "    else:\n",
    "        # Format for style_function\n",
    "        state_style = {\n",
    "             'fillOpacity': 1,\n",
    "             'weight': 1,\n",
    "             'fillColor': color,\n",
    "             'color': '#000000'}    \n",
    "  \n",
    "    return state_style"
   ]
  },
  {
   "cell_type": "code",
   "execution_count": null,
   "id": "spare-shade",
   "metadata": {},
   "outputs": [],
   "source": [
    "def style_function(feature):\n",
    "    \"\"\"\n",
    "    style_function used by the GeoJson folium function\n",
    "    \"\"\"\n",
    "\n",
    "    state = feature['properties']['state_name']\n",
    "    style = state_style(state,year=2016,function=True)\n",
    "    \n",
    "    return style"
   ]
  },
  {
   "cell_type": "code",
   "execution_count": null,
   "id": "bulgarian-confidence",
   "metadata": {},
   "outputs": [],
   "source": [
    "m = folium.Map(location=[50.77500, -100],zoom_start=3)\n",
    "choropleth =folium.GeoJson(data= us_shape.to_json(),style_function=style_function)\n",
    "m.add_child(choropleth)"
   ]
  },
  {
   "cell_type": "code",
   "execution_count": null,
   "id": "present-acquisition",
   "metadata": {},
   "outputs": [],
   "source": [
    "def getFigure(state):\n",
    "    \"\"\"\n",
    "    Plot voting trends from a given state\n",
    "    \"\"\"\n",
    "\n",
    "    #Get number of votes\n",
    "    years = range(1976,2020,4)\n",
    "    dems = []\n",
    "    reps =[]\n",
    "    for year in years:\n",
    "\n",
    "        result = results[year][state]\n",
    "        dems.append(result['dem']/1000000)  \n",
    "        reps.append(result['rep']/1000000) \n",
    "\n",
    "    #Plot number of votes    \n",
    "    fig = plt.figure(figsize=(8,4))\n",
    "    plt.plot(years,dems,label='Democrat',color='#4f7bff')\n",
    "    plt.plot(years,reps,label='Republican',color='#ff5b4f')\n",
    "\n",
    "    plt.title(state,size = 18)\n",
    "    plt.ticklabel_format(style='plain')\n",
    "    plt.xlabel('Year',size =14)\n",
    "    plt.ylabel('Votes (millions)',size =14)\n",
    "    plt.legend(loc =0)\n",
    "\n",
    "    #Add figure to iframe\n",
    "    html = mpld3.fig_to_html(fig)\n",
    "    iframe = folium.IFrame(html=html,width = 600, height = 300)\n",
    "\n",
    "    return iframe"
   ]
  },
  {
   "cell_type": "code",
   "execution_count": null,
   "id": "split-proposition",
   "metadata": {},
   "outputs": [],
   "source": [
    "\n",
    "def highlight_style(feature): \n",
    "    \"\"\"\n",
    "    style_function for when choropleth button\n",
    "    is highighted\n",
    "    \"\"\"\n",
    "    return {'fillOpacity': 0.2,\n",
    "         'weight': 1,\n",
    "         'fillColor': '#000000',\n",
    "         'color': '#000000'}  "
   ]
  },
  {
   "cell_type": "code",
   "execution_count": null,
   "id": "preceding-capability",
   "metadata": {},
   "outputs": [],
   "source": [
    "#plot choropleth button map\n",
    "fig = plt.figure(figsize=(18,14))\n",
    "\n",
    "m = folium.Map(location=[50.77500, -100],zoom_start=3)\n",
    "choropleth =folium.GeoJson(data= us_shape.to_json(),\n",
    "                           style_function=style_function)\n",
    "m.add_child(choropleth)\n",
    "\n",
    "#Create popup button for each state\n",
    "for i in range(len(us_shape)):\n",
    "    \n",
    "    geometry = us_shape.loc[i]['geometry']\n",
    "    state_name = us_shape.loc[i]['state_name']\n",
    "    popup = folium.Popup(getFigure(state_name),max_width=1000)\n",
    "    \n",
    "    state_marker = folium.GeoJson(data=mapping(geometry),\n",
    "                                  highlight_function = highlight_style)\n",
    "    state_marker.add_child(popup)\n",
    "    m.add_child(state_marker)\n",
    "\n",
    "#m.save(\"us_election_map2.html\")\n",
    "m"
   ]
  },
  {
   "cell_type": "code",
   "execution_count": null,
   "id": "faced-latitude",
   "metadata": {},
   "outputs": [],
   "source": []
  }
 ],
 "metadata": {
  "kernelspec": {
   "display_name": "Python 3",
   "language": "python",
   "name": "python3"
  },
  "language_info": {
   "codemirror_mode": {
    "name": "ipython",
    "version": 3
   },
   "file_extension": ".py",
   "mimetype": "text/x-python",
   "name": "python",
   "nbconvert_exporter": "python",
   "pygments_lexer": "ipython3",
   "version": "3.9.2"
  }
 },
 "nbformat": 4,
 "nbformat_minor": 5
}
