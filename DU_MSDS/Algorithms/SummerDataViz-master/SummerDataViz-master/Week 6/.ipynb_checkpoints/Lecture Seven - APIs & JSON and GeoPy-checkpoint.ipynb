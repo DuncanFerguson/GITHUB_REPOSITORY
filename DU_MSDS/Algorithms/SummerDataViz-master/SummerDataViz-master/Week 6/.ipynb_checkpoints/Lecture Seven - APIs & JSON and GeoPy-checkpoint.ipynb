{
 "cells": [
  {
   "cell_type": "code",
   "execution_count": null,
   "metadata": {},
   "outputs": [],
   "source": [
    "%matplotlib inline\n",
    "import matplotlib\n",
    "import seaborn as sns\n",
    "sns.set()\n",
    "matplotlib.rcParams['figure.dpi'] = 144"
   ]
  },
  {
   "cell_type": "markdown",
   "metadata": {},
   "source": [
    "# Consuming APIs (and JSON)\n",
    "<!-- requirement: secrets/twitter_secrets.json.sample -->\n",
    "<!-- devrequirement: secrets/twitter_secrets.json.nogit -->\n"
   ]
  },
  {
   "cell_type": "markdown",
   "metadata": {},
   "source": [
    "Consuming APIs is supposed to be easy (that's the point of having an API).  \n",
    "\n",
    "Let's look at a simple example of consuming a JSON API.  The example we'll look at is a *geocoder*: That is, a service for converting between addresses and normalized geographic information (e.g. latitude and longitude).  Going from addresses to normalized form is \"forward geocoding\" and going the other way is \"reverse geocoding\".\n",
    "\n",
    "We'll interact with a free (and non-authenticated) geocoder run by OpenStreetMap.  The geocoded information is available by sending a GET request to <tt>http:&#8203;//nominatim.openstreetmap.org/search?q=<i>address</i>&addressdetails=1&format=json</tt>.  The portion before the question mark (`http://nominatim.openstreetmap.org/search`) is the endpoint on the server, while the portion following, known as the *query string*, contains the data being sent to the server.  (Thus, a GET request can be repeated simply by requesting the same URL again.  In contrast, the data sent in a POST request is contained in the request body, not in the URL.)\n",
    "\n",
    "As is typical, the query string consists of several key=value pairs, separated by ampersands.  The requested address is specified with the `q` key in this case.  Some characters, like the spaces and commas, cannot be used in the URL, so they must be encoded with the `quote()` function."
   ]
  },
  {
   "cell_type": "code",
   "execution_count": null,
   "metadata": {
    "scrolled": true
   },
   "outputs": [],
   "source": [
    "from urllib.parse import quote\n",
    "from urllib.request import urlopen\n",
    "\n",
    "address = \"1600 Pennsylvania Avenue NW, Washington\"\n",
    "quote(address)"
   ]
  },
  {
   "cell_type": "code",
   "execution_count": null,
   "metadata": {},
   "outputs": [],
   "source": [
    "url = \"http://nominatim.openstreetmap.org/search?q={}&addressdetails=1&format=json\".format(quote(address))\n",
    "url"
   ]
  },
  {
   "cell_type": "markdown",
   "metadata": {},
   "source": [
    "We can request this URL with the `urlopen()` function, which returns a stream we can read from."
   ]
  },
  {
   "cell_type": "code",
   "execution_count": null,
   "metadata": {},
   "outputs": [],
   "source": [
    "data = urlopen(url).read()\n",
    "data"
   ]
  },
  {
   "cell_type": "markdown",
   "metadata": {},
   "source": [
    "The result was returned to us in the form of JSON. JSON is JavaScript Object Notation&mdash;it's a human readable text-based format for transmitting key-value pairs (and strings, numbers, and arrays). The `simplejson` package lets us convert between this and Python's native dictionaries, etc."
   ]
  },
  {
   "cell_type": "code",
   "execution_count": null,
   "metadata": {},
   "outputs": [],
   "source": [
    "import simplejson as json\n",
    "\n",
    "json.loads(data)"
   ]
  },
  {
   "cell_type": "code",
   "execution_count": null,
   "metadata": {},
   "outputs": [],
   "source": [
    "json.loads(data)[0]['boundingbox']"
   ]
  },
  {
   "cell_type": "markdown",
   "metadata": {},
   "source": [
    "## Handling URL parameters\n"
   ]
  },
  {
   "cell_type": "markdown",
   "metadata": {},
   "source": [
    "`urllib` module requires an enormous amount of work to perform the simplest of tasks. The `requests` library provides a higher-level way to do web requests. This is already nice in examples, like the above, where we need to encode parameters into the URL.  It is even more convenient when there are also `POST` parameters (or cookies, or authentication, or...) involved.  (Don't worry if you don't know what that means.)"
   ]
  },
  {
   "cell_type": "code",
   "execution_count": null,
   "metadata": {},
   "outputs": [],
   "source": [
    "import requests\n",
    "\n",
    "def geocode(address):\n",
    "    params = { 'format'        :'json', \n",
    "               'addressdetails': 1, #include breakdown of address into elements\n",
    "               'q'             : address}\n",
    "    return requests.get('http://nominatim.openstreetmap.org/search', params=params)\n",
    "\n",
    "response = geocode(\"107 Page St., San Francisco\")\n",
    "response"
   ]
  },
  {
   "cell_type": "markdown",
   "metadata": {},
   "source": [
    "The parameters are automatically encoded and assembled into the query string."
   ]
  },
  {
   "cell_type": "code",
   "execution_count": null,
   "metadata": {},
   "outputs": [],
   "source": [
    "response.url"
   ]
  },
  {
   "cell_type": "markdown",
   "metadata": {},
   "source": [
    "The raw response is available..."
   ]
  },
  {
   "cell_type": "code",
   "execution_count": null,
   "metadata": {},
   "outputs": [],
   "source": [
    "response.text"
   ]
  },
  {
   "cell_type": "markdown",
   "metadata": {},
   "source": [
    "...but it can also be converted to JSON."
   ]
  },
  {
   "cell_type": "code",
   "execution_count": null,
   "metadata": {},
   "outputs": [],
   "source": [
    "response.json()"
   ]
  },
  {
   "cell_type": "code",
   "execution_count": null,
   "metadata": {},
   "outputs": [],
   "source": [
    "response.json()[0]['boundingbox']"
   ]
  },
  {
   "cell_type": "markdown",
   "metadata": {},
   "source": [
    "**Exercise:** The National Weather Service operates a free API for weather information.  A sample request looks like this: `http://forecast.weather.gov/MapClick.php?lat=37.7739&lon=-122.4225&FcstType=json`.\n",
    "\n",
    "Use the geocoder to write a function\n",
    "\n",
    "        def weather_at_address(address):\n",
    "            ....\n",
    "            \n",
    "that gets the current weather (temperature, cloudy or not) from a human-entered address."
   ]
  },
  {
   "cell_type": "markdown",
   "metadata": {},
   "source": [
    "## Requests: Authenticated APIs\n"
   ]
  },
  {
   "cell_type": "markdown",
   "metadata": {},
   "source": [
    "Lots of interesting APIs are free (or at least free for moderate use) but still require you to register first.  The `requests` library (together with some supporting ones, e.g. `requests_oauthlib`) make it easy to consume these too.\n",
    "\n",
    "In order to access the Twitter API, you must first sign up: create an app on http://apps.twitter.com, get an access token, *et voila*, you have your shiny new credentials -- consisting of four pieces of data. The file `secrets/twitter_secrets.json.sample` has the format template; then rename the file to have a `.nogit` extension to prevent it being tracked in a git repository.\n",
    "\n",
    "more on here: https://requests-oauthlib.readthedocs.io/en/latest/oauth1_workflow.html"
   ]
  },
  {
   "cell_type": "code",
   "execution_count": null,
   "metadata": {},
   "outputs": [],
   "source": [
    "from requests_oauthlib import OAuth1\n",
    "\n",
    "with open(\"secrets/twitter_secrets.json.nogit\") as fh:\n",
    "    secrets = json.loads(fh.read())\n",
    "\n",
    "# create an auth object\n",
    "auth = OAuth1(\n",
    "    secrets[\"api_key\"],\n",
    "    secrets[\"api_secret\"],\n",
    "    secrets[\"access_token\"],\n",
    "    secrets[\"access_token_secret\"]\n",
    ")"
   ]
  },
  {
   "cell_type": "markdown",
   "metadata": {},
   "source": [
    "## GeoPy"
   ]
  },
  {
   "cell_type": "markdown",
   "metadata": {},
   "source": [
    "Geopy makes it easy for Python developers to locate the coordinates of addresses, cities, countries, and landmarks across the globe using third-party geocoders and other data sources. geopy includes geocoder classes for the OpenStreetMap Nominatim , Google Geocoding API (V3), and many other geocoding services."
   ]
  },
  {
   "cell_type": "code",
   "execution_count": null,
   "metadata": {},
   "outputs": [],
   "source": [
    "import geopy"
   ]
  },
  {
   "cell_type": "markdown",
   "metadata": {},
   "source": [
    "To geolocate a single address, you can use Geopy python library. Geopy has different Geocoding services that you can choose from, including Google Maps, ArcGIS, AzureMaps, Bing, etc. Some of them require API keys, while others do not need. You can see the complete list here: https://geopy.readthedocs.io/en/stable/"
   ]
  },
  {
   "cell_type": "code",
   "execution_count": null,
   "metadata": {},
   "outputs": [],
   "source": [
    "from geopy.geocoders import ArcGIS, GoogleV3\n",
    "import pandas as pd\n",
    "\n",
    "addrs=['2155 E Wesley Ave, Denver, CO 80208',\n",
    " '8500 Pena Blvd, Denver, CO 80249',\n",
    " '1600 Pennsylvania Ave NW, Washington, DC 20500']\n",
    "\n",
    "nom=ArcGIS()\n",
    "\n",
    "for addr in addrs:\n",
    "    n=nom.geocode(addr)\n",
    "    print(n)\n",
    "    print(n.latitude)\n",
    "    print(n.longitude)\n",
    "    df=pd.DataFrame({'Addr': addrs},index=['DU-ECS','DEN','WHouse'])\n",
    "    df['Coord']=df['Addr'].apply(nom.geocode)\n",
    "    df['Lat']=df['Coord'].apply(lambda x: x.latitude)\n",
    "    df['Lon']=df['Coord'].apply(lambda x: x.longitude)\n",
    "    df.drop('Coord', axis=1, inplace=True)\n",
    "    print(df)"
   ]
  },
  {
   "cell_type": "code",
   "execution_count": null,
   "metadata": {},
   "outputs": [],
   "source": [
    "df"
   ]
  },
  {
   "cell_type": "code",
   "execution_count": null,
   "metadata": {},
   "outputs": [],
   "source": [
    "import os\n",
    "\n",
    "key=os.environ.get('GoogleAPI')\n",
    "geolocator = GoogleV3(api_key=key)"
   ]
  },
  {
   "cell_type": "markdown",
   "metadata": {},
   "source": [
    "## Authenticated APIs: Run the same with Google API"
   ]
  },
  {
   "cell_type": "code",
   "execution_count": null,
   "metadata": {},
   "outputs": [],
   "source": [
    "for addr in addrs:\n",
    "    n=geolocator.geocode(addr)\n",
    "    print(n)\n",
    "    print(n.latitude)\n",
    "    print(n.longitude)\n",
    "    df=pd.DataFrame({'Addr': addrs},index=['DU-ECS','DEN','WHouse'])\n",
    "    df['Coord']=df['Addr'].apply(nom.geocode)\n",
    "    df['Lat']=df['Coord'].apply(lambda x: x.latitude)\n",
    "    df['Lon']=df['Coord'].apply(lambda x: x.longitude)\n",
    "    df.drop('Coord', axis=1, inplace=True)\n",
    "    print(df)"
   ]
  },
  {
   "cell_type": "markdown",
   "metadata": {},
   "source": [
    "#### Doing the reverse with Google geolocator!"
   ]
  },
  {
   "cell_type": "code",
   "execution_count": null,
   "metadata": {},
   "outputs": [],
   "source": [
    "point = '51.523910, -0.158578' #here's famous Sherlock Holmes' museum lat & lng\n",
    "address = geolocator.reverse(point)"
   ]
  },
  {
   "cell_type": "code",
   "execution_count": null,
   "metadata": {},
   "outputs": [],
   "source": [
    "address"
   ]
  },
  {
   "cell_type": "code",
   "execution_count": null,
   "metadata": {},
   "outputs": [],
   "source": []
  }
 ],
 "metadata": {
  "kernelspec": {
   "display_name": "Python 3",
   "language": "python",
   "name": "python3"
  },
  "language_info": {
   "codemirror_mode": {
    "name": "ipython",
    "version": 3
   },
   "file_extension": ".py",
   "mimetype": "text/x-python",
   "name": "python",
   "nbconvert_exporter": "python",
   "pygments_lexer": "ipython3",
   "version": "3.9.2"
  },
  "nbclean": true
 },
 "nbformat": 4,
 "nbformat_minor": 1
}
