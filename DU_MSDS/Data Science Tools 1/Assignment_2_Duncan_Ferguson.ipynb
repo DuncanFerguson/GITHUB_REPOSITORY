{
 "cells": [
  {
   "cell_type": "markdown",
   "source": [
    "# Assignment 2 - Advanced Python\n",
    "## Data Science Tools I\n",
    "### Professor: Don Dalton\n",
    "\n",
    "---\n",
    "\n",
    "### Student: Duncan Ferguson"
   ],
   "metadata": {
    "collapsed": false
   }
  },
  {
   "cell_type": "markdown",
   "source": [
    "# Question 1 - Caesar Cipher\n",
    "\n",
    "### 5 points\n",
    "\n",
    "A cipher is an algorithm used for encrypting and decrypting messages. This is a key idea in the field of cryptography, which is basically the study of hidden messages. The idea is that we want to communicate with someone by sending a message, but we don't want any third parties to be able to read the message. Ciphers make it so that only the sender and receiver can read the message.\n",
    "\n",
    "There are many types of ciphers, but among the simplest is one called the [Caesar Cipher](https://en.wikipedia.org/wiki/Caesar_cipher), which was supposedly used by Julius Caesar with a shift value of 3. The \"shift value\" refers to how the message's characters are manipulated. The Caesar Cipher is a simple example of a substitution cipher, where each character in the message is replaced by some other character. Here, each character is \"shifted\" by some value to be replaced by the character that many spaces over in the alphabet.\n",
    "\n",
    "Run the code below to see a diagram illustrating this idea with a shift value of 2."
   ],
   "metadata": {
    "collapsed": false
   }
  },
  {
   "cell_type": "code",
   "execution_count": null,
   "outputs": [],
   "source": [
    "import string\n",
    "\n",
    "from IPython import display\n",
    "display.Image(\"https://4.bp.blogspot.com/-lhTbszCWwVw/WSPPPA3heVI/AAAAAAAAA8I/MDwB9zjGGJcfECLxThU68CC6mKz5Peu_gCLcB/s1600/caesar-cipher-4-638.jpg\")"
   ],
   "metadata": {
    "collapsed": false,
    "pycharm": {
     "name": "#%%\n"
    }
   }
  },
  {
   "cell_type": "markdown",
   "source": [
    "Define a class called CaesarCipher. The constructor should take the shift value as a parameter and store it as an instance variable. (The classical example is a shift value of 3. Shift values can be any integer, positive or negative, though realistically only values between -26 and 26 make sense when using the English alphabet.)\n",
    "\n",
    "Define the methods `encrypt` and `decrypt`, which should take a string as a parameter and produce an encrypted message and decrypted message, respectively, given the input string. In cryptography terms, the original message is referred to as \"plaintext\" and the encrypted message is referred to as \"ciphertext\".\n",
    "\n",
    "**We will assume a message will be provided in lowercase letters with a single space separating each word.** For example:\n",
    "\n",
    "    yo there are free sandwiches in the third floor kitchen\n",
    "\n",
    "Although not strictly necessary for this question, it helps if you understand what character encodings are, perhaps the most well-known being [ASCII](https://www.ascii-code.com/). The idea is that computers have an easy means of representing numerical values by using binary units. For the computer to know how to represent characters, we simply assign each character a number. Lowercase letters in ASCII start at 97, so `'a'=97`, `'b'=98`, and so on.\n",
    "\n",
    "Hints:\n",
    "* Remember the modulo operator `%` returns the remainder after dividing two integers. This is useful for \"wrapping around\" the alphabet. For example, shifting the character `z` by positive 3 should result in `c`, which is at the start of the alphabet.\n",
    "* `ord(char)` returns the character encoding number for `char`.\n",
    "* `chr(number)` returns the character represented by `number`.\n",
    "* `str.join(lst)` returns a string where each element in the list is used as a string and concatenated together with `str` as the delimiter. For example, `\"..\".join(['a', 'b', 'c'])` returns `'a..b..c'`.\n",
    "\n",
    "**Test your program** by encrypting the message \"there is a quiz tomorrow\" with a shift value of 3 and printing the result, which should be \"wkhuh lv d txlc wrpruurz\". Decrypt the encrypted message to ensure that your decryption works as well.\n",
    "\n",
    "*If you want an extra challenge (meaning this is totally optional), define a helper function (a private function that is intended to be used only be other methods in this class) that performs either an encryption or decryption depending on the value passed into a parameter. `encrypt` and `decrypt` can then call the helper function instead of both functions having nearly the exact same code.*\n",
    "\n"
   ],
   "metadata": {
    "collapsed": false
   }
  },
  {
   "cell_type": "code",
   "execution_count": null,
   "outputs": [],
   "source": [
    "import string\n",
    "\n",
    "class CaesarCipher:\n",
    "\n",
    "    def __init__(self, key=3):\n",
    "        self.key = key % 26\n",
    "        self.e = dict(zip(string.ascii_lowercase, string.ascii_lowercase[self.key:] + string.ascii_lowercase[:self.key]))\n",
    "\n",
    "        # Dict used for encryption\n",
    "        self.e.update(dict(zip(string.ascii_uppercase, string.ascii_uppercase[self.key:] + string.ascii_lowercase[:self.key])))\n",
    "\n",
    "        # Dict used for decryption\n",
    "        self.d = dict(zip(string.ascii_lowercase[self.key:] + string.ascii_lowercase[:self.key], string.ascii_lowercase))\n",
    "        self.d.update(dict(zip(string.ascii_uppercase[self.key:] + string.ascii_uppercase[:self.key], string.ascii_uppercase)))\n",
    "\n",
    "    def encrypt(self, plaintext):\n",
    "        return ''.join([self.e[letter] if letter in self.e else letter for letter in plaintext])\n",
    "\n",
    "    def decrypt(self, ciphertext):\n",
    "        return ''.join([self.d[letter] if letter in self.d else letter for letter in ciphertext])\n",
    "\n",
    "\n",
    "sentence2Cipher = \"there is a quiz tomorrow\"\n",
    "\n",
    "test = CaesarCipher(3)\n",
    "test.encrypt(sentence2Cipher)"
   ],
   "metadata": {
    "collapsed": false,
    "pycharm": {
     "name": "#%%\n",
     "is_executing": true
    }
   }
  },
  {
   "cell_type": "code",
   "execution_count": 23,
   "outputs": [
    {
     "ename": "TypeError",
     "evalue": "'str' object is not callable",
     "output_type": "error",
     "traceback": [
      "\u001B[1;31m---------------------------------------------------------------------------\u001B[0m",
      "\u001B[1;31mTypeError\u001B[0m                                 Traceback (most recent call last)",
      "\u001B[1;32m~\\AppData\\Local\\Temp/ipykernel_8912/3993264708.py\u001B[0m in \u001B[0;36m<module>\u001B[1;34m\u001B[0m\n\u001B[0;32m      2\u001B[0m \u001B[1;33m\u001B[0m\u001B[0m\n\u001B[0;32m      3\u001B[0m \u001B[1;33m\u001B[0m\u001B[0m\n\u001B[1;32m----> 4\u001B[1;33m \u001B[0ma\u001B[0m \u001B[1;33m=\u001B[0m \u001B[0mstring\u001B[0m\u001B[1;33m.\u001B[0m\u001B[0mascii_lowercase\u001B[0m\u001B[1;33m(\u001B[0m\u001B[1;34m\"a\"\u001B[0m\u001B[1;33m)\u001B[0m\u001B[1;33m\u001B[0m\u001B[1;33m\u001B[0m\u001B[0m\n\u001B[0m\u001B[0;32m      5\u001B[0m \u001B[0mprint\u001B[0m\u001B[1;33m(\u001B[0m\u001B[0ma\u001B[0m\u001B[1;33m)\u001B[0m\u001B[1;33m\u001B[0m\u001B[1;33m\u001B[0m\u001B[0m\n",
      "\u001B[1;31mTypeError\u001B[0m: 'str' object is not callable"
     ]
    }
   ],
   "source": [
    "# More Testing\n",
    "a = string.ascii_lowercase(\"a\")\n",
    "print(a)"
   ],
   "metadata": {
    "collapsed": false,
    "pycharm": {
     "name": "#%%\n"
    }
   }
  },
  {
   "cell_type": "markdown",
   "source": [
    "# Question 2 - Nations Data\n",
    "\n",
    "This question is divided into multiple parts. Answer the questions in order and only use the provided code cell below each question to do so."
   ],
   "metadata": {
    "collapsed": false
   }
  },
  {
   "cell_type": "markdown",
   "source": [
    "### (a) 3 Points\n",
    "\n",
    "Create a class called Nation to represent a single nation. Your class should have the following attributes:\n",
    "\n",
    "*   Four instance variables: `country`, `continent`, `population` and `land_area`, all stored as strings  --CHECK\n",
    "*   A class variable `_num_instances` to keep track of how many Nation object instances have been created  --CHECK\n",
    "*   A constructor (`__init__`) that sets all four instance variable using to the given parameters and increments `_num_instances` by one. --CHECK\n",
    "  *   Remember class variables are accessed in a non-class method by prepending `self.__class__.` before the name of the class variable. ## TODO\n",
    "* A class method `num_instances` to return the value of `_num_instances`. --CHECK\n",
    "* `__str__` defined to return a string representation of a Nation comprised of the values of the instance variables.  --CHECK\n",
    "* A method `population_density` that computes the population density of the nation (population / land area).\n",
    "  * Note that the instance variables are strings and must be converted to floats to perform this calculation.\n",
    "\n"
   ],
   "metadata": {
    "collapsed": false
   }
  },
  {
   "cell_type": "code",
   "execution_count": null,
   "outputs": [],
   "source": [
    "\n",
    "class Nation:\n",
    "\n",
    "    # Class Variable\n",
    "    _num_instances = 0\n",
    "\n",
    "    # Creating instructor __init__\n",
    "    def __init__(self, country, continent, population, land_area):\n",
    "        # Defining the 4 instance variables\n",
    "        self.country = country\n",
    "        self.continent = continent\n",
    "        self.population = population\n",
    "        self.land_area = land_area\n",
    "\n",
    "        # Self incrementing instances by one\n",
    "        Nation._num_instances += 1\n",
    "\n",
    "    # __str__ defined to return a string representation of a nation comprised of the values of the instance variables\n",
    "    def __str__(self):\n",
    "        return(self.country + \", \" + self.continent + \", \" + self.population + \", \"+ self.land_area)\n",
    "\n",
    "    def num_instances(self):\n",
    "        return self._num_instances\n",
    "\n",
    "    # Class Method that computes the population density of nation\n",
    "    def get_population_density(self):\n",
    "        \"\"\"This class method computes the population density of a nation (population / land area)\"\"\"\n",
    "        return float(self.population) / float(self.land_area)\n",
    "\n"
   ],
   "metadata": {
    "collapsed": false,
    "pycharm": {
     "name": "#%%\n",
     "is_executing": true
    }
   }
  },
  {
   "cell_type": "markdown",
   "source": [
    "Test your Nation class by manually creating an instance called `usa` with country `\"United States\"`, continent `\"North America\"`, population `\"318.9\"`, and land area `\"3794066\"`. Print the variable `usa` to observe the string representation given by `__str__`. Print the population density and number of instances as well."
   ],
   "metadata": {
    "collapsed": false
   }
  },
  {
   "cell_type": "code",
   "execution_count": 123,
   "outputs": [
    {
     "name": "stdout",
     "output_type": "stream",
     "text": [
      "United States, North America, 318.9, 3794066\n"
     ]
    }
   ],
   "source": [
    "usa = Nation(country=\"United States\", continent=\"North America\", population=\"318.9\", land_area=\"3794066\")\n",
    "usa = Nation(country=\"United States\", continent=\"North America\", population=\"318.9\", land_area=\"3794066\")\n",
    "print(usa)"
   ],
   "metadata": {
    "collapsed": false,
    "pycharm": {
     "name": "#%%\n"
    }
   }
  },
  {
   "cell_type": "code",
   "execution_count": 124,
   "outputs": [
    {
     "name": "stdout",
     "output_type": "stream",
     "text": [
      "<bound method Nation.get_population_density of <__main__.Nation object at 0x000001E9F13AEAF0>>\n",
      "8\n"
     ]
    }
   ],
   "source": [
    "print(usa.get_population_density)\n",
    "print(usa.num_instances())"
   ],
   "metadata": {
    "collapsed": false,
    "pycharm": {
     "name": "#%%\n"
    }
   }
  },
  {
   "cell_type": "code",
   "execution_count": 49,
   "outputs": [
    {
     "data": {
      "text/plain": "1"
     },
     "execution_count": 49,
     "metadata": {},
     "output_type": "execute_result"
    }
   ],
   "source": [],
   "metadata": {
    "collapsed": false,
    "pycharm": {
     "name": "#%%\n"
    }
   }
  },
  {
   "cell_type": "markdown",
   "source": [
    "### (b) 2 points\n",
    "\n",
    "Define a method called `process_file` that reads the .csv file as a list of lists, then converts that list of lists into a dictionary. The keys in the dictionary will be country names and the values are instances of Nation that represent that country. `process_file` should then return that dictionary.\n",
    "\n",
    "If you are using Google Colab, there are a few ways to get your local files into your colab, but the simplest is to upload the .csv file to your colab. On the left-hand side of the colab UI you should see a folder symbol. Clicking on that symbol will open up the Files tab with a default folder called `sample_data` (which you can ignore). Simply drag and drop the .csv for this assignment to the root Files directory alongside `sample_data`, or use the Upload button to select the file. If the .csv file is called `nations.csv`, the path in Google Colab is therefore `/content/nations.csv`.\n",
    "\n",
    "Regardless of your Notebook editor, the `path` variable in the provided code below should be the path to wherever your .csv file is. Change this to match your directory structure as necessary. You may use this code directly in your code cell to read the file in as a list of lists.\n",
    "\n",
    "```python\n",
    "path = \"/content/nations.csv\"\n",
    "with open(path) as file:\n",
    "  data = [line.rstrip(\"\\n\").split(\",\") for line in file.readlines()]\n",
    "```\n",
    "\n",
    "The each list has the information for a particular country in the order of country, continent, population, land area. Here are the first few entries of the list of lists:\n",
    "\n",
    "```\n",
    "[['Afghanistan', 'Asia', '31.8', '251772'],\n",
    " ['Albania', 'Europe', '3.0', '11100'],\n",
    " ['Algeria', 'Africa', '38.3', '919595'],\n",
    " ...\n",
    "```"
   ],
   "metadata": {
    "collapsed": false
   }
  },
  {
   "cell_type": "code",
   "execution_count": null,
   "outputs": [],
   "source": [
    "# YOUR CODE HERE\n"
   ],
   "metadata": {
    "collapsed": false,
    "pycharm": {
     "name": "#%%\n"
    }
   }
  },
  {
   "cell_type": "markdown",
   "source": [
    "Test your `process_file` method by printing out the first 10 Nation instances stored in the dictionary. You should see your string representation for each nation."
   ],
   "metadata": {
    "collapsed": false
   }
  },
  {
   "cell_type": "code",
   "execution_count": null,
   "outputs": [],
   "source": [
    "# YOUR CODE HERE\n"
   ],
   "metadata": {
    "collapsed": false,
    "pycharm": {
     "name": "#%%\n"
    }
   }
  },
  {
   "cell_type": "markdown",
   "source": [
    "### (c) 2 points\n",
    "Define a function `list_countries` that takes a continent as a parameter and produces a list of countries that reside in that continent. Naturally, you should called your `process_file` method to first get the dictionary of info on each nation, then iterate over that dictionary to produce a list of countrie specific to the given continent.\n",
    "\n",
    "*Optional: This function can be defined in just a couple lines if you use list comprehension.*"
   ],
   "metadata": {
    "collapsed": false
   }
  },
  {
   "cell_type": "code",
   "execution_count": null,
   "outputs": [],
   "source": [
    "# YOUR CODE HERE\n"
   ],
   "metadata": {
    "collapsed": false,
    "pycharm": {
     "name": "#%%\n"
    }
   }
  },
  {
   "cell_type": "markdown",
   "source": [
    "Test your method by calling, say, `list_countries(\"South America\")` (feel free to test out other continents). Your output should look something like:\n",
    "```\n",
    "['Argentina',\n",
    " 'Bolivia',\n",
    " 'Brazil',\n",
    " 'Chile',\n",
    " 'Colombia',\n",
    " 'Ecuador',\n",
    " 'Guyana',\n",
    " 'Paraguay',\n",
    " 'Peru',\n",
    " 'Suriname',\n",
    " 'Uruguay',\n",
    " 'Venezuela']\n",
    "```"
   ],
   "metadata": {
    "collapsed": false
   }
  },
  {
   "cell_type": "code",
   "execution_count": null,
   "outputs": [],
   "source": [
    "# YOUR CODE HERE\n"
   ],
   "metadata": {
    "collapsed": false,
    "pycharm": {
     "name": "#%%\n"
    }
   }
  },
  {
   "cell_type": "markdown",
   "source": [
    "### (d) 3 points\n",
    "\n",
    "Again using your `process_file` method, iterate over the dictionary of nations to print the data in a tabular format. To keep the output short, print the information on, say, the first 15 nations stored in the dictionary. Format your output so the data is easily readable.\n",
    "\n",
    "Your output should look something like:\n",
    "```\n",
    "Country Name        \tContinent           \tPopulation          \tLand Area\n",
    "Afghanistan         \tAsia                \t31.8                \t251772\n",
    "Albania             \tEurope              \t3.0                 \t11100\n",
    "Algeria             \tAfrica              \t38.3                \t919595\n",
    "Andorra             \tEurope              \t.085                \t181\n",
    "Angola              \tAfrica              \t19.1                \t481354\n",
    "Antigua and Barbuda \tNorth America       \t.091                \t108\n",
    "Argentina           \tSouth America       \t44.0                \t1068302\n",
    "Armenia             \tAsia                \t3.1                 \t11506\n",
    "Australia           \tAustralia/Oceania   \t22.5                \t2967909\n",
    "Austria             \tEurope              \t8.2                 \t32383\n",
    "Azerbaijan          \tAsia                \t9.7                 \t33436\n",
    "Bahamas             \tNorth America       \t.32                 \t5358\n",
    "Bahrain             \tAsia                \t1.3                 \t253\n",
    "Bangladesh          \tAsia                \t166.3               \t55599\n",
    "Barbados            \tNorth America       \t.29                 \t167\n",
    "```"
   ],
   "metadata": {
    "collapsed": false
   }
  },
  {
   "cell_type": "code",
   "execution_count": null,
   "outputs": [],
   "source": [
    "# YOUR CODE HERE\n"
   ],
   "metadata": {
    "collapsed": false,
    "pycharm": {
     "name": "#%%\n"
    }
   }
  },
  {
   "cell_type": "markdown",
   "source": [
    "### Create a class called Organism.\n",
    "The organism class should take in the kingdom and the weight of the organism.  It should have an init, weight and str method.  Now create a class dog that inherits from Organism.  The dog class should take kingdom, weight, name, species and color.  Finally, create a class Plant that inherits from Organism.  It should take as input kingdom, weight, species and color.  Dog and Plant should have methods to return the values as a string (__str__) and method to return species, color, etc."
   ],
   "metadata": {
    "collapsed": false
   }
  },
  {
   "cell_type": "code",
   "execution_count": 1,
   "outputs": [
    {
     "ename": "TypeError",
     "evalue": "__init__() takes 1 positional argument but 6 were given",
     "output_type": "error",
     "traceback": [
      "\u001B[1;31m---------------------------------------------------------------------------\u001B[0m",
      "\u001B[1;31mTypeError\u001B[0m                                 Traceback (most recent call last)",
      "\u001B[1;32m~\\AppData\\Local\\Temp/ipykernel_8912/2303264438.py\u001B[0m in \u001B[0;36m<module>\u001B[1;34m\u001B[0m\n\u001B[0;32m      8\u001B[0m \u001B[1;33m\u001B[0m\u001B[0m\n\u001B[0;32m      9\u001B[0m \u001B[1;31m# set the following instances\u001B[0m\u001B[1;33m\u001B[0m\u001B[1;33m\u001B[0m\u001B[1;33m\u001B[0m\u001B[0m\n\u001B[1;32m---> 10\u001B[1;33m \u001B[0mMissy\u001B[0m \u001B[1;33m=\u001B[0m \u001B[0mDog\u001B[0m\u001B[1;33m(\u001B[0m\u001B[1;34m'animalia'\u001B[0m\u001B[1;33m,\u001B[0m \u001B[1;36m55\u001B[0m\u001B[1;33m,\u001B[0m \u001B[1;34m'Missy'\u001B[0m\u001B[1;33m,\u001B[0m\u001B[1;34m'German Shorthair'\u001B[0m\u001B[1;33m,\u001B[0m\u001B[1;34m'brown'\u001B[0m\u001B[1;33m)\u001B[0m\u001B[1;33m\u001B[0m\u001B[1;33m\u001B[0m\u001B[0m\n\u001B[0m\u001B[0;32m     11\u001B[0m \u001B[0mIris\u001B[0m \u001B[1;33m=\u001B[0m \u001B[0mPlant\u001B[0m\u001B[1;33m(\u001B[0m\u001B[1;34m'plantae'\u001B[0m\u001B[1;33m,\u001B[0m\u001B[1;36m5\u001B[0m\u001B[1;33m,\u001B[0m\u001B[1;34m'Iris'\u001B[0m\u001B[1;33m,\u001B[0m\u001B[1;34m'white'\u001B[0m\u001B[1;33m)\u001B[0m\u001B[1;33m\u001B[0m\u001B[1;33m\u001B[0m\u001B[0m\n\u001B[0;32m     12\u001B[0m \u001B[0mprint\u001B[0m\u001B[1;33m(\u001B[0m\u001B[0mMissy\u001B[0m\u001B[1;33m)\u001B[0m\u001B[1;33m\u001B[0m\u001B[1;33m\u001B[0m\u001B[0m\n",
      "\u001B[1;31mTypeError\u001B[0m: __init__() takes 1 positional argument but 6 were given"
     ]
    }
   ],
   "source": [
    "class Dog:\n",
    "    def __init__(self):\n",
    "        return\n",
    "\n",
    "class Plant:\n",
    "    def __init__(self):\n",
    "        return\n",
    "\n",
    "# set the following instances\n",
    "Missy = Dog('animalia', 55, 'Missy','German Shorthair','brown')\n",
    "Iris = Plant('plantae',5,'Iris','white')\n",
    "print(Missy)\n",
    "print(Iris)\n",
    "print(Missy.weight)\n",
    "print(Iris.color)\n"
   ],
   "metadata": {
    "collapsed": false,
    "pycharm": {
     "name": "#%%\n"
    }
   }
  }
 ],
 "metadata": {
  "kernelspec": {
   "display_name": "Python 3",
   "language": "python",
   "name": "python3"
  },
  "language_info": {
   "codemirror_mode": {
    "name": "ipython",
    "version": 2
   },
   "file_extension": ".py",
   "mimetype": "text/x-python",
   "name": "python",
   "nbconvert_exporter": "python",
   "pygments_lexer": "ipython2",
   "version": "2.7.6"
  }
 },
 "nbformat": 4,
 "nbformat_minor": 0
}