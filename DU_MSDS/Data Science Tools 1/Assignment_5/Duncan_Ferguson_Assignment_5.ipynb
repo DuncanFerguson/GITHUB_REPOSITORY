{
 "cells": [
  {
   "cell_type": "markdown",
   "metadata": {
    "id": "cpUWdOsajPvs"
   },
   "source": [
    "# Assignment 5 - Time Series Analysis\n",
    "## Data Science Tools I\n",
    "### Professor: Don Dalton\n",
    "\n",
    "---\n",
    "\n",
    "### Student: Duncan Ferguson"
   ]
  },
  {
   "cell_type": "code",
   "execution_count": 1,
   "metadata": {
    "id": "bWOJfxY5jIrM"
   },
   "outputs": [],
   "source": [
    "import numpy as np\n",
    "import pandas as pd\n",
    "import matplotlib.pyplot as plt\n",
    "import seaborn as sns"
   ]
  },
  {
   "cell_type": "markdown",
   "metadata": {
    "id": "OZEigOwKjszF"
   },
   "source": [
    "# Question 1 - Importing the Datasets"
   ]
  },
  {
   "cell_type": "markdown",
   "metadata": {
    "id": "1kshXGmaGATQ"
   },
   "source": [
    "## Part (a)\n",
    "### 8 points\n",
    "\n",
    "Download the .csv files (CurrentPrices, EmploymentRate, ProductionVolume, and Sales) linked on Canvas on the assignment page and place them in a local repository alongside your notebook file. (If on Google Colab, upload the files to the colab.) Use Pandas to read each .csv file into its own variable.\n",
    "\n",
    "After inspecting the first few rows of each data frame, clean up each data frame by converting the `Date` column to Datetime objects, then setting the index of the data frame to be the `Date` values to convert the data frame into a series.\n",
    "\n",
    "Plot each dataset with an appropriate title, either individually in separate code cells or all together in a single plot using subplots."
   ]
  },
  {
   "cell_type": "code",
   "execution_count": null,
   "metadata": {
    "id": "zwGzqq3Ejt7x"
   },
   "outputs": [],
   "source": [
    "CurrentPrices = pd.read_csv('CurrentPrices.csv')\n",
    "EmploymentRate = pd.read_csv('EmploymentRate.csv')\n",
    "ProductionVolume = pd.read_csv('ProductionVolume.csv')\n",
    "Sales = pd.read_csv('Sales.csv')\n"
   ]
  },
  {
   "cell_type": "markdown",
   "metadata": {
    "id": "pKCPXs3tnmmI"
   },
   "source": [
    "## Part (b)\n",
    "### 4 points\n",
    "\n",
    "Based on the plots you created in part (a), determine which pattern each dataset falls into and suggest a corresponding forecasting technique to match each pattern. For pattern and forecasting technique, limit your choice to the following options:\n",
    "\n",
    "> **Patterns:** Horizontal, Trend, Seasonal without Trend, Seasonal with Trend\n",
    "\n",
    "> **Forecasting Technique:** Naive Forecasting, Moving Average Smoothing, Exponential Smoothing, Regression Analysis, Regression Analysis with Dummy Variables\n",
    "\n",
    "To answer this question, EDIT THIS TEXT CELL by replacing the x's below with your answers (as opposed to typing in a code cell).\n",
    "\n",
    "Dataset | Pattern | Forecasting Technique\n",
    "--- | --- | ---\n",
    "CurrentPrice | x | x\n",
    "EmploymentRate | x | x\n",
    "ProductionVolume | x | x\n",
    "Sales | x | x"
   ]
  },
  {
   "cell_type": "markdown",
   "metadata": {
    "id": "Q-W-BI5epsIa"
   },
   "source": [
    "# Question 2 - Examining the Data\n",
    "\n",
    "For this question and the subsequent ones, we will use the **ProductionVolume** dataset as the time series of interest."
   ]
  },
  {
   "cell_type": "markdown",
   "metadata": {
    "id": "9yFYZKSnqPn6"
   },
   "source": [
    "## Part (a)\n",
    "### 4 points\n",
    "\n",
    "To start, check the stationarity of the data by plotting the rolling mean and standard deviation alongside the data itself. \n",
    "\n",
    "Based on your plot, is the data stationary? Provide reasons with your answes. Include your answer either as a text cell or in-line comment."
   ]
  },
  {
   "cell_type": "code",
   "execution_count": null,
   "metadata": {
    "id": "AOVZnmI6qKaT"
   },
   "outputs": [],
   "source": []
  },
  {
   "cell_type": "markdown",
   "metadata": {
    "id": "iZHf99G5r3_Z"
   },
   "source": [
    "## Part (b)\n",
    "### 4 points\n",
    "\n",
    "Use `seasonal_decompose` to observe the trend, seasonality, and residuals for the data by plotting all plots alongside one another.\n",
    "\n",
    "Based on your plots, is there a cyclical pattern in the data? Provide reasons with your answers. Include your answer either as a text cell or in-line comment."
   ]
  },
  {
   "cell_type": "code",
   "execution_count": null,
   "metadata": {
    "id": "7nhzhFHwqKSb"
   },
   "outputs": [],
   "source": []
  },
  {
   "cell_type": "markdown",
   "metadata": {
    "id": "QvZA4qO8tald"
   },
   "source": [
    "## Part (c)\n",
    "### 4 points\n",
    "\n",
    "To further confirm stationarity or non-stationarity, perform the Dickey-Fuller Test on the data. You may use the `run_adftest` method provided in lecture.\n",
    "\n",
    "Based on the result, is any differencing needed? If so, first-order difference the data and re-run the Dickey-Fuller Test to see if the results change."
   ]
  },
  {
   "cell_type": "code",
   "execution_count": null,
   "metadata": {
    "id": "O9aQFmvnp0LB"
   },
   "outputs": [],
   "source": []
  },
  {
   "cell_type": "markdown",
   "metadata": {
    "id": "Fn5LuvJcGQjG"
   },
   "source": [
    "# Question 3 - Model Estimation"
   ]
  },
  {
   "cell_type": "markdown",
   "metadata": {
    "id": "HbQZ3jWQvCre"
   },
   "source": [
    "## Part (a)\n",
    "### 4 points\n",
    "\n",
    "Plot the auto-correlation function (ACF) to get an indication of what type of ARIMA model may apply to this dataset. Refer to the table below to determine which model is best.\n",
    "\n",
    "Provide your model choice either in a text cell below or as comments in the code cell alongside your code for the ACF plot. \n",
    "\n",
    "Shape | Indicated Model\n",
    "--- | ---\n",
    "Exponential, decay to zero | AR - Use PACF plot to identify order\n",
    "Alternating positive and negative, decaying to zero | AR - Use PACF plot to identify order\n",
    "One or more spikes, rest are essentially zero  | MA - Order identified by where plot becomes zero\n",
    "Decay, starting after a few lags | ARMA\n",
    "All zero or close to zero | Data is essentially random\n",
    "High values at fixed intervals | Include seasonal autoregressive term / difference\n",
    "No decay to zero | The series is not stationary"
   ]
  },
  {
   "cell_type": "code",
   "execution_count": null,
   "metadata": {
    "id": "xlzHOx8ntgxS"
   },
   "outputs": [],
   "source": []
  },
  {
   "cell_type": "markdown",
   "metadata": {
    "id": "qPyhGDLPVLcB"
   },
   "source": [
    "## Part (b)\n",
    "### 5 points\n",
    "\n",
    "Plot the partial auto-correlation function (PACF). Based on the PACF plot and ACF plot, determine what values are likely best for `p` and `q`. \n",
    "\n",
    "Question 2 Part (c) should have determined the best value for `d`. Fill in your answer for `p`, `d`, and `q` in this text cell:\n",
    "\n",
    "`p=` YOUR_ANSWER_WITH_REASON\n",
    "\n",
    "`d=` YOUR_ANSWER (reason provided in Question 2 Part (c))\n",
    "\n",
    "`q=` YOUR_ANSWER_WITH_REASON"
   ]
  },
  {
   "cell_type": "code",
   "execution_count": null,
   "metadata": {
    "id": "Wf8n5GQTGTh_"
   },
   "outputs": [],
   "source": []
  },
  {
   "cell_type": "markdown",
   "metadata": {
    "id": "WB9WBEohXaCr"
   },
   "source": [
    "# Question 4 - Model Fitting\n",
    "\n"
   ]
  },
  {
   "cell_type": "markdown",
   "metadata": {
    "id": "k47oGPOPfMuX"
   },
   "source": [
    "## Part (a)\n",
    "### 6 points\n",
    "\n",
    "Given your determination of `p`, `d`, and `q`, fit an ARIMA model with those parameters using the entire time series as training data. Get the predicted values from the model (calling `predict` with `d` as the start value and including `typ='levels'` if `d>0`) and compute the mean squared error (MSE) between the predictions and the actual values.\n",
    "\n",
    "In addition to printing the resulting MSE, plot the predictions alongside the actual values."
   ]
  },
  {
   "cell_type": "code",
   "execution_count": null,
   "metadata": {
    "id": "q4PXsLxnXrdC"
   },
   "outputs": [],
   "source": []
  },
  {
   "cell_type": "markdown",
   "metadata": {
    "id": "iKJ2tXZefPnh"
   },
   "source": [
    "## Part (b)\n",
    "### 4 points\n",
    "\n",
    "To further assess the accuracy of the model, plot the residual errors of the model both as a **histogram** and as a **scatterplot**.\n",
    "\n",
    "Based on these plots, are the residuals normally distributed? Are the mean and variance constant over time? Provide reasons with your answers. Include your answer either as a text cell or in-line comment."
   ]
  },
  {
   "cell_type": "code",
   "execution_count": null,
   "metadata": {
    "id": "X_UwEH-ZYfOq"
   },
   "outputs": [],
   "source": []
  },
  {
   "cell_type": "markdown",
   "metadata": {
    "id": "sVVH9SlBgWEP"
   },
   "source": [
    "## Part (c)\n",
    "### 2 points\n",
    "\n",
    "Since the estimated parameters are not guaranteed to provide the best results, try fitting an ARIMA model with new parameters (different value for at least one of `p`, `d`, and `q`). Based on MSE, is your new model better or worse than your original in part (a)?"
   ]
  },
  {
   "cell_type": "code",
   "execution_count": null,
   "metadata": {
    "id": "U1u1kMi3gXWB"
   },
   "outputs": [],
   "source": []
  },
  {
   "cell_type": "markdown",
   "metadata": {
    "id": "D2kFfBywg2jU"
   },
   "source": [
    "# Question 5 - Forecasting\n",
    "\n",
    "For this question, use whichever model from question 4 ended up being the better one based on MSE."
   ]
  },
  {
   "cell_type": "markdown",
   "metadata": {
    "id": "j_axANw_hPog"
   },
   "source": [
    "## Part (a)\n",
    "### 2 points\n",
    "\n",
    "Use your model to forecast the next value and print the result."
   ]
  },
  {
   "cell_type": "code",
   "execution_count": null,
   "metadata": {
    "id": "JKyZ5cblhH-F"
   },
   "outputs": [],
   "source": []
  },
  {
   "cell_type": "markdown",
   "metadata": {
    "id": "CX-8uXn1hRIU"
   },
   "source": [
    "## Part (b)\n",
    "### 2 points\n",
    "\n",
    "Use `plot_predict` to plot the actual data, the model's predictions for the actual data, and the confidence interval and forecasts for the next 50 steps."
   ]
  },
  {
   "cell_type": "code",
   "execution_count": null,
   "metadata": {
    "id": "_LHGme0Pg4pG"
   },
   "outputs": [],
   "source": []
  }
 ],
 "metadata": {
  "colab": {
   "authorship_tag": "ABX9TyOku4oOicE0lllIu2veWbpM",
   "collapsed_sections": [],
   "name": "Assignment 5 - Time Series Analysis.ipynb",
   "provenance": [],
   "toc_visible": true
  },
  "kernelspec": {
   "display_name": "Python 3",
   "language": "python",
   "name": "python3"
  },
  "language_info": {
   "codemirror_mode": {
    "name": "ipython",
    "version": 3
   },
   "file_extension": ".py",
   "mimetype": "text/x-python",
   "name": "python",
   "nbconvert_exporter": "python",
   "pygments_lexer": "ipython3",
   "version": "3.8.8"
  }
 },
 "nbformat": 4,
 "nbformat_minor": 1
}