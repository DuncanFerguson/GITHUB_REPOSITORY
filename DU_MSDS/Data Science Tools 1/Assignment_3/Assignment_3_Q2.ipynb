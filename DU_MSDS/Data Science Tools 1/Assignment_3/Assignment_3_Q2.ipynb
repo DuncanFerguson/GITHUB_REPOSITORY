{
 "cells": [
  {
   "cell_type": "markdown",
   "metadata": {
    "collapsed": true,
    "pycharm": {
     "name": "#%% md\n"
    }
   },
   "source": [
    "## Question 2\n",
    "Below is a list of sorting algorithms. Choose **one** algorithm from the list, look up how it works, then briefly describe the algorithm.\n",
    "Your Answer should be roughly a paragraph in length. Include the algorithm's worse-case runtime complexity with a brief justification\n",
    "\n",
    "**Gnome Sort:**\n",
    "This algorithm looks at two values and swaps them to be in the right order. The values that are being compared\n",
    "are determined by the index. There are three rules to the index position:\n",
    "-If the algorithm is at the start position the index is increased one.\n",
    "-If the algorithm has to make a swap between two numbers the index is decreased 1\n",
    "-If there are no more numbers ahead of the index. Or the index is the same length of the list the algorithm stops running.\n",
    "\n",
    "For an example we will start with a simple list [5,1,2]. 5 @index=0; 1 @index=1 and 2 @index=2.\n",
    "When at the start index the algorithm automatically increase to index 1. It then validates if 5 < 1. Since 5 < 1 = False The items are swapped to [1,5] and the index is de-incremented back to 0, but with the array now being [1,5,2]. Because 0 is the start, the algorithm goes back to index 1. But now 1 < 5 = True. Because this logic is true the index increases to 2. Now 5 < 2 is tested. This is false so the algorithm swaps the numbers to [2,5] with the array being [1,2,5]. Because a swap was made the index decreases to 1. 1 < 2 = True so the index is increased to 2. 2 < 5 = True so the index is increase to 3. This is the length of the list so the algorithm is done sorting.\n",
    "\n",
    "This algorithm is writen with one while loop and has a worst case runtime complexity of O(N^2). This is due to the fact that the index gets incremented and decrement. The best case time complexity is O(N). This happens when the list is mostly sorted."
   ]
  },
  {
   "cell_type": "markdown",
   "source": [],
   "metadata": {
    "collapsed": false
   }
  },
  {
   "cell_type": "markdown",
   "source": [
    "## Question 3\n",
    "Below is a list of topics related to data structures we have covered. Choose <u>**_one_**<u/> from the list and research some information on it.\n",
    "\n",
    "**Briefly describe what open addressing is, as a form of collision handling in hash tables.**\n",
    "\n",
    "A hash table that uses open addressing stores all it's elements directly in the hash table array. Meaning that each slot only takes one element. When looking to place an element. The hash table will go to the directed slot. If the slot is empty the element will be inserted. If there is an item in that slot, a collision occurs and the algorithm will look for the next available slot and insert the item there. When looking up items, the algorithm will go to the slot where an item should be placed. If another item is there, the algorithm will continue down the sequence of looking at the next available slots until the item is found or an empty slot is identified. If that slot is empty it means the item was not in the hash table. Because of the way that items are looked up in the hashtable, if an item is deleted or removed this slot must be filled with a filler such as deleted, so that the chain for looking up items is not broken. The algorithm can be tuned to linear prob in different sequences such as i+1 or i+3. The challenges that appear with this technique is if the elements are clustered and many collisions happen. This causes the hash table to not be efficient. The advantages of open addressing are that it is memory efficient.\n",
    "\n",
    "\n",
    "\n"
   ],
   "metadata": {
    "collapsed": false,
    "pycharm": {
     "name": "#%% md\n"
    }
   }
  },
  {
   "cell_type": "markdown",
   "source": [],
   "metadata": {
    "collapsed": false
   }
  }
 ],
 "metadata": {
  "kernelspec": {
   "display_name": "Python 3",
   "language": "python",
   "name": "python3"
  },
  "language_info": {
   "codemirror_mode": {
    "name": "ipython",
    "version": 2
   },
   "file_extension": ".py",
   "mimetype": "text/x-python",
   "name": "python",
   "nbconvert_exporter": "python",
   "pygments_lexer": "ipython2",
   "version": "2.7.6"
  }
 },
 "nbformat": 4,
 "nbformat_minor": 0
}