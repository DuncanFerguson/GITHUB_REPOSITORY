{
 "cells": [
  {
   "cell_type": "code",
   "execution_count": null,
   "outputs": [],
   "source": [
    "def m1(n):\n",
    "  factorial = 1\n",
    "  for i in range(1, n+1):\n",
    "    factorial *= i\n",
    "  return factorial"
   ],
   "metadata": {
    "collapsed": false,
    "pycharm": {
     "name": "#%%\n"
    }
   }
  },
  {
   "cell_type": "code",
   "execution_count": 2,
   "outputs": [],
   "source": [
    "def m2(lst):\n",
    "  n = len(lst)\n",
    "  for e1 in lst:\n",
    "    for e2 in lst:\n",
    "      for e3 in lst:\n",
    "        if e1 == e2 == e3:\n",
    "          print(\"equal\")"
   ],
   "metadata": {
    "collapsed": false,
    "pycharm": {
     "name": "#%%\n"
    }
   }
  },
  {
   "cell_type": "code",
   "execution_count": 3,
   "outputs": [],
   "source": [
    "def m3(lst):\n",
    "  n = len(lst)\n",
    "  for e1 in lst:\n",
    "    print(e1)\n",
    "  for e2 in lst:\n",
    "    print(e2)\n",
    "  for e3 in lst:\n",
    "    print(e3)"
   ],
   "metadata": {
    "collapsed": false,
    "pycharm": {
     "name": "#%%\n"
    }
   }
  },
  {
   "cell_type": "code",
   "execution_count": 4,
   "outputs": [],
   "source": [
    "def m4(lst):\n",
    "  n = len(lst)\n",
    "  for i in range(10):\n",
    "    print(lst[ i ])"
   ],
   "metadata": {
    "collapsed": false,
    "pycharm": {
     "name": "#%%\n"
    }
   }
  },
  {
   "cell_type": "code",
   "execution_count": 6,
   "outputs": [],
   "source": [
    "def m5(lst):\n",
    "    n = len(lst)\n",
    "    copy = lst.copy()\n",
    "    while len(copy) > 0:\n",
    "        print(len(copy))\n",
    "        copy = copy[0:int(len(copy)/2)]"
   ],
   "metadata": {
    "collapsed": false,
    "pycharm": {
     "name": "#%%\n"
    }
   }
  },
  {
   "cell_type": "code",
   "execution_count": 86,
   "outputs": [
    {
     "name": "stdout",
     "output_type": "stream",
     "text": [
      "Index Start 1\n",
      "End Index 0\n",
      "0 [1, 5, 2]\n",
      "Index Start 1\n",
      "Index Inside 2\n",
      "2 [1, 5, 2]\n",
      "End Index 1\n",
      "1 [1, 2, 5]\n",
      "Index Inside 2\n",
      "2 [1, 2, 5]\n",
      "Index Inside 3\n",
      "3 [1, 2, 5]\n"
     ]
    }
   ],
   "source": [
    "def gnomeSort( arr, n):\n",
    "    index = 0\n",
    "    while index < n:\n",
    "        if index == 0:\n",
    "            index = index + 1\n",
    "            print(\"Index Start\", index)\n",
    "        if arr[index] >= arr[index - 1]:\n",
    "            index = index + 1\n",
    "            print(\"Index Inside\", index)\n",
    "        else:\n",
    "            arr[index], arr[index-1] = arr[index-1], arr[index]\n",
    "            index = index - 1\n",
    "            print(\"End Index\", index)\n",
    "        print(index, arr)\n",
    "    return arr\n",
    "\n",
    "# Driver Code\n",
    "arr = [5,1,2]\n",
    "n = len(arr)\n",
    "arr = gnomeSort(arr, n)\n"
   ],
   "metadata": {
    "collapsed": false,
    "pycharm": {
     "name": "#%%\n"
    }
   }
  }
 ],
 "metadata": {
  "kernelspec": {
   "display_name": "Python 3",
   "language": "python",
   "name": "python3"
  },
  "language_info": {
   "codemirror_mode": {
    "name": "ipython",
    "version": 2
   },
   "file_extension": ".py",
   "mimetype": "text/x-python",
   "name": "python",
   "nbconvert_exporter": "python",
   "pygments_lexer": "ipython2",
   "version": "2.7.6"
  }
 },
 "nbformat": 4,
 "nbformat_minor": 0
}