{
 "cells": [
  {
   "cell_type": "markdown",
   "metadata": {
    "id": "ojfmUSB9zVRb"
   },
   "source": [
    "# Assignment 1 - Python Fundamentals\n",
    "## Data Science Tools I\n",
    "### Professor: Don Dalton\n",
    "\n",
    "---\n",
    "\n",
    "### Student: Duncan Ferguson"
   ]
  },
  {
   "cell_type": "markdown",
   "metadata": {
    "id": "_8AZ8CodzxtF"
   },
   "source": [
    "# Question 1 - Warm-up with Random Numbers\n",
    "### 2 points\n",
    "\n",
    "Create a list of 20 randomly generated integers in the range 1 to 10. Print the list of integers. Sort the list and print out the integers in sorted order. Count the number of duplicate values (i.e. how many integers in the list show up more than once in the list) and print out the result.\n",
    "\n",
    "*Hint: There is a correlation between the number of unique values and number of duplicates.*"
   ]
  },
  {
   "cell_type": "code",
   "execution_count": 4,
   "metadata": {
    "id": "8nN8q65EzKXO"
   },
   "outputs": [
    {
     "name": "stdout",
     "output_type": "stream",
     "text": [
      "Random List of  20  inbetween 1 and 10: [1, 1, 1, 1, 2, 2, 2, 2, 3, 4, 4, 4, 4, 4, 5, 7, 9, 9, 9, 9]\n",
      "Number of times a number appears:  {1: 4, 2: 4, 3: 1, 4: 5, 5: 1, 7: 1, 9: 4}\n",
      "Count of dumplicate values of more than 1 {1: 4, 2: 4, 4: 5, 9: 4}\n",
      "Number of numbers that have duplicates 4\n"
     ]
    }
   ],
   "source": [
    "import random\n",
    "random.seed(42)\n",
    "\n",
    "# Creating List of 20 randomly generated integers in between 1-10\n",
    "rand_list = [random.randrange(1,10,1) for i in range(20)]\n",
    "\n",
    "# Sorting Integers in list\n",
    "rand_list.sort()\n",
    "\n",
    "# Printing List of\n",
    "print(\"Random List of \", len(rand_list), \" inbetween 1 and 10:\", rand_list)\n",
    "\n",
    "# Counting Duplicates\n",
    "counts = dict()\n",
    "for i in rand_list:\n",
    "     counts[i] = counts.get(i, 0) + 1\n",
    "\n",
    "# Printing Count Dictionary\n",
    "print(\"Number of times a number appears: \", counts)\n",
    "\n",
    "# Now printing out only dictionary items that are greater than 1\n",
    "dup_dict = {k:v for (k,v) in counts.items() if v > 1}\n",
    "print(\"Count of duplicate values of more than 1\", dup_dict)\n",
    "\n",
    "# Print Number of duplicates\n",
    "print(\"Number of numbers that have duplicates\",len(dup_dict))\n"
   ]
  },
  {
   "cell_type": "markdown",
   "metadata": {
    "id": "ehn1LLvYLGQY"
   },
   "source": [
    "# Question 2 - Warm-up with List Comprehension\n",
    "\n",
    "### 3 points\n",
    "\n",
    "Write a snippet of code that asks the user for a positive integer. To keep things simple, you may assume that the user will indeed type a positive integer, and not a negative value or any string that is otherwise not an integer. Add the user's input to an initially empty list. Repeatedly ask for an integer until you have added the user's input 7 times to a list. (Do not convert the input to ints just yet.)\n",
    "\n",
    "Since the `input` function in Python takes in strings, you will want the list of user-inputted values to be converted to integers. Do so using **list comprehension**. Create a new list that applies the `int` function to all of the elements in the original, thereby creating a separate list of integers that are, indeed, integers and not strings.\n",
    "\n",
    "After using list comprehension to perform the conversion, determine the maximum and minimum values of the list as well as the average. Print these values to the screen."
   ]
  },
  {
   "cell_type": "code",
   "execution_count": 14,
   "metadata": {
    "id": "alPvh3xJMR85"
   },
   "outputs": [
    {
     "name": "stdout",
     "output_type": "stream",
     "text": [
      "User Entered 7 numbers: ['7', '1', '6', '2', '5', '3', '4']\n"
     ]
    }
   ],
   "source": [
    "# Asking User to input 7 positive integers\n",
    "user_list =[input(\"Enter a positive number\") for _ in range(7)]\n",
    "print(\"User Entered\", len(user_list), \"numbers:\",user_list)"
   ]
  },
  {
   "cell_type": "code",
   "execution_count": 15,
   "metadata": {
    "pycharm": {
     "name": "#%%\n"
    }
   },
   "outputs": [
    {
     "name": "stdout",
     "output_type": "stream",
     "text": [
      "[1, 2, 3, 4, 5, 6, 7]\n"
     ]
    }
   ],
   "source": [
    "# Casting Items in list into integer value\n",
    "int_user_list = [int(i) for i in user_list]\n",
    "\n",
    "# Sorting list\n",
    "int_user_list.sort()\n",
    "\n",
    "# Printing out list\n",
    "print(int_user_list)"
   ]
  },
  {
   "cell_type": "code",
   "execution_count": 16,
   "metadata": {
    "pycharm": {
     "name": "#%%\n"
    }
   },
   "outputs": [
    {
     "name": "stdout",
     "output_type": "stream",
     "text": [
      "Max: 7 Min: 1 Average: 4.0\n"
     ]
    }
   ],
   "source": [
    "# Printing Max and Min of list\n",
    "print(\"Max:\", max(int_user_list), \n",
    "      \"Min:\", min(int_user_list),\n",
    "      \"Average:\", sum(int_user_list)/len(int_user_list) )"
   ]
  },
  {
   "cell_type": "markdown",
   "metadata": {
    "id": "jccoqsZN04Zf"
   },
   "source": [
    " # Question 3 - Multiplication Questions\n",
    "### 4 points\n",
    "\n",
    "You work as a programmer contracted with the Denver Public School District to develop an educational program for primary school mathematics. Use the random module to generate two positive integers so that the program starts by displaying a question such as:\n",
    "\n",
    "\n",
    "    How much is 10 times 5?\n",
    "\n",
    "\n",
    "To keep things simple, the randomly generated integers should be between 2 and 12.\n",
    "\n",
    "The student should be able to answer the question and the program will verify if the answer they type is correct. If the student is incorrect, the program should print \"Incorrect. Please try again.\" and wait for another answer for the same question.\n",
    "\n",
    "If the student is correct, the program should randomly choose among a list of words to display to congratulate them (e.g. \"Good job!\", \"Excellent!\", \"Fantastic!\"). After printing a randomly chosen response, the program should then ask another multiplication question.\n",
    "\n",
    "If at any point the student enters `quit`, the program should terminate. *You may assume that the student will only type either an integer value or the word `quit`.*\n",
    "\n",
    "**Test your program:** Answer the first two generated questions correctly, then answer the subsequent question with two incorrect answers followed by the correct answer.\n",
    "\n"
   ]
  },
  {
   "cell_type": "code",
   "execution_count": 18,
   "metadata": {
    "pycharm": {
     "name": "#%%\n"
    }
   },
   "outputs": [
    {
     "name": "stdout",
     "output_type": "stream",
     "text": [
      "Good Job!. 7 times 6 does equal 42\n",
      "Well Done. 5 times 7 does equal 35\n",
      "Incorrect. Please try again. 3 times 8 does not equal 2.\n",
      "Incorrect. Please try again. 3 times 8 does not equal 2.\n"
     ]
    }
   ],
   "source": [
    "# List of Congratulations\n",
    "random_congrats = [\"Well Done\", \"Good Job!\", \"Way to go!\", \"Excellent!\"]\n",
    "looping = True\n",
    "nums = [random.randint(2,12) for _ in range(2)]\n",
    "\n",
    "# Asking for initial input\n",
    "response = input(\"How much is \" + str(nums[0]) + \" times \" + str(nums[1]) + \"?\")\n",
    "\n",
    "# Looping until user types QUIT\n",
    "while looping:\n",
    "    answer = nums[0]*nums[1]\n",
    "    if response.upper() == \"QUIT\":\n",
    "        looping = False\n",
    "\n",
    "    # If response is correct enter loop\n",
    "    elif int(response) == answer:\n",
    "        print(\"{}. {} times {} does equal {}\"\n",
    "              .format(random_congrats[random.randint(0, len(random_congrats)-1)],nums[0], nums[1], answer))\n",
    "\n",
    "        # Get new set of random numbers\n",
    "        nums = [random.randint(2,12) for _ in range(2)]\n",
    "\n",
    "        # Ask question again\n",
    "        response = input(\"How much is \" + str(nums[0]) + \" times \" + str(nums[1]) + \"?\")\n",
    "\n",
    "    # Else; response is not correct, ask same question\n",
    "    else:\n",
    "        print(\"Incorrect. Please try again. {} times {} does not equal {}.\"\n",
    "              .format(nums[0], nums[1], response))\n",
    "        response = input(\"How much is \" + str(nums[0]) + \" times \" + str(nums[1]) + \"?\")"
   ]
  },
  {
   "cell_type": "markdown",
   "metadata": {
    "id": "0kSQMYvFa9OQ"
   },
   "source": [
    "# Question 4 - Pascal's Triangle\n",
    "\n",
    "### 4 points\n",
    "\n",
    "[Pascal's Triangle](https://en.wikipedia.org/wiki/Pascal%27s_triangle) is a visualization of a sequence of numbers that is relevant in many subfields of math. It starts with 1 at the top of the triangle in its own row. Each subsequent row is constructed by adding the number \"north-west\" to the number \"north-east\" of the current position, treating any blanks on either side of the triangle as 0. It's perhaps easier to just look at the pattern below:\n",
    "\n",
    "```\n",
    "            1            \n",
    "           1 1           \n",
    "          1 2 1          \n",
    "         1 3 3 1         \n",
    "        1 4 6 4 1        \n",
    "      1 5 10 10 5 1      \n",
    "    1 6 15 20 15 6 1     \n",
    "   1 7 21 35 35 21 7 1\n",
    "```\n",
    "\n",
    "Note that each row always has 1 as the first and last element.\n",
    "\n",
    "Write a function called `pascals_triangle` that takes in an integer `n` and prints the first `n` rows of Pascal's Triangle. You do not have to center-justify your triangle; left-justification is perfectly fine. The important thing is that the values in each row are calculated and printed correctly.\n",
    "\n",
    "**Test your program** by providing your function the value of 8, which should yield the same values as the ones provided above."
   ]
  },
  {
   "cell_type": "code",
   "execution_count": 21,
   "metadata": {
    "id": "Rob3xzlvSgzL"
   },
   "outputs": [
    {
     "name": "stdout",
     "output_type": "stream",
     "text": [
      "1\n",
      "1, 1\n",
      "1, 2, 1\n",
      "1, 3, 3, 1\n",
      "1, 4, 6, 4, 1\n",
      "1, 5, 10, 10, 5, 1\n",
      "1, 6, 15, 20, 15, 6, 1\n",
      "1, 7, 21, 35, 35, 21, 7, 1\n",
      "1, 8, 28, 56, 70, 56, 28, 8, 1\n"
     ]
    }
   ],
   "source": [
    "def n_row_pascals(n):\n",
    "    \"\"\"This Function prints the nth row of pascals triangle\"\"\"\n",
    "    start = 1\n",
    "    print(start, end = \"\")\n",
    "    for i in range(1, n +1):\n",
    "        curr = (start*(n-i+1))//i\n",
    "        print(\",\", curr, end=\"\")\n",
    "        start = curr\n",
    "\n",
    "n= 9\n",
    "for i in range(n):\n",
    "    n_row_pascals(i)\n",
    "    print(\"\")  # entering new line\n",
    "          "
   ]
  },
  {
   "cell_type": "markdown",
   "metadata": {
    "id": "8CC5PI0dNtJV"
   },
   "source": [
    "# Question 5 - Word Sandwiches\n",
    "### 4 points\n",
    "\n",
    "For this question, we will utilize a list of words provided by the NLTK (Natural Language Toolkit) library. We will likely use NLTK more later in the quarter, but for now start by simply running the code below to get a list of English words. Keep in mind that this is not necessarily a *complete* list of English words (e.g. \"carousel\" is not in the list), but it suffices for this question."
   ]
  },
  {
   "cell_type": "code",
   "execution_count": 23,
   "metadata": {
    "id": "OTpMKJArFR9U"
   },
   "outputs": [
    {
     "name": "stderr",
     "output_type": "stream",
     "text": [
      "[nltk_data] Downloading package words to\n",
      "[nltk_data]     C:\\Users\\dunca\\AppData\\Roaming\\nltk_data...\n",
      "[nltk_data]   Package words is already up-to-date!\n"
     ]
    }
   ],
   "source": [
    "import nltk\n",
    "nltk.download('words')\n",
    "\n",
    "from nltk.corpus import words\n",
    "\n",
    "# You can refer to word_lst for checking if a string is a valid English word\n",
    "word_lst = words.words()"
   ]
  },
  {
   "cell_type": "markdown",
   "metadata": {
    "id": "fuW2_OpnH9-2"
   },
   "source": [
    "Write a function called `word_sandwich` that takes two strings as input, call them `str_a` and `str_b`. \n",
    "\n",
    "Since this question is more interesting if the input strings are valid words, the function should first determine if `str_a` and `str_b` are in fact English words. If they are not, return `None`. Otherwise, continue on.\n",
    "\n",
    "The function should determine if by inserting `str_a` somewhere inside `str_b` **or** by inserting `str_b` somewhere inside `str_a`, a new word can be formed. That is, we want to know if the words can \"meld\". You should create an inner function that checks one direction (like `str_a` into `str_b`) to prevent repeating code.\n",
    "\n",
    "Here are a few example inputs and outputs:\n",
    "\n",
    "    Input: (\"eight\", \"yes\"), Output: \"eyesight\"\n",
    "    Input: (\"net\", \"magic\"), Output: \"magnetic\"\n",
    "    Input: (\"entry\", \"eat\"), Output: \"entreaty\"\n",
    "    Input: (\"word\", \"sandwich\"), Output: None\n",
    "    Input: (\"i\", \"team\"), Output: None\n",
    "    Input: (\"butter\", \"fly\"), Output: None\n",
    "\n",
    "Note that we are *not* checking if the two words concatenated form another word. We are interested in checking if by inserting one word *inside* another (not at the front nor at the end) we can form a new word.\n",
    "\n",
    "**Test your program** by trying out the above word pairs as examples. If you can think of more valid words sandwiches, feel free to use them.\n",
    "\n",
    "*Side note: This question was inspired by [a Sunday Puzzle from NPR](https://www.npr.org/2020/12/27/950036966/sunday-puzzle-word-sandwiches). The word pairs they came up with all happen to be of length 3 and 5, but clearly that is not a requirement for making a word sandwich.*"
   ]
  },
  {
   "cell_type": "code",
   "execution_count": 24,
   "metadata": {
    "id": "GrNqHEP0JaAg"
   },
   "outputs": [
    {
     "name": "stdout",
     "output_type": "stream",
     "text": [
      "Input: ('eight','yes'), Output: ['eyesight']\n"
     ]
    }
   ],
   "source": [
    "str_a = input(\"Enter Word 1\")\n",
    "str_b = input(\"Enter Word 2\")\n",
    "output = []\n",
    "\n",
    "# Looping through str_a and inserting str_b inbetween to see if it is in word list\n",
    "for char in range(len(str_a)):\n",
    "    combo = str_a[:char]+str_b+str_a[char:]  # inserting word\n",
    "    if combo in word_lst:  # Checking if in list\n",
    "        output.append(combo)\n",
    "\n",
    "# Looping through str_b and inserting str_a inbetween to see if it is in word list\n",
    "for char in range(len(str_b)):\n",
    "    combo = str_b[:char]+str_a+str_b[char:]  # inserting word\n",
    "    if combo in word_lst:  # checking if in list\n",
    "        output.append(combo)\n",
    "\n",
    "\n",
    "if len(output) > 0:  # If there is a match print this line\n",
    "    print(\"Input: ('{}','{}'), Output: {}\".format(str_a, str_b, output))\n",
    "else:  # Else no match, print this line\n",
    "    print(\"Input: ('{}','{}'), Output: None\".format(str_a, str_b))"
   ]
  },
  {
   "cell_type": "markdown",
   "metadata": {
    "id": "LhPtBPyd2a_I"
   },
   "source": [
    "# Question 6 - Data for Dogs\n",
    "\n",
    "### 4 points\n",
    "\n",
    "You work as a contractor for a dog-walking company, developing some of their backend applications. Their employees (the dogwalkers) use a logging system that logs their walks by appending to a list of tuples. Each tuple has the structure (walker_name, dog_name, minutes_walked).\n",
    "\n",
    "To make this information more readable, you are asked to display a summary table of this information. The columns of the table should represent each dog walker; each row represents each dog; and each entry in the table corresponding to a walker *w* and a dog *d* should have the total number of minutes that *w* has walked *d*.\n",
    "\n",
    "Your output should print this information with the walker names and dog names in **sorted order**. The data should be evenly spaced and easy to read.\n",
    "\n",
    "Execute the code cell below to initialize the test list of tuples.\n",
    "\n"
   ]
  },
  {
   "cell_type": "code",
   "execution_count": 25,
   "metadata": {
    "id": "_IRU4z392VkI"
   },
   "outputs": [],
   "source": [
    "logs = [\n",
    "        (\"Marceline\", \"Oakley\", 30),\n",
    "        (\"Kelly\", \"Luther\", 15),\n",
    "        (\"Ryan\", \"Appa\", 30),\n",
    "        (\"Forest\", \"Appa\", 20),\n",
    "        (\"Marceline\", \"Oakley\", 10),\n",
    "        (\"Marceline\", \"Appa\", 20),\n",
    "        (\"Kelly\", \"Luther\", 20),\n",
    "        (\"Kelly\", \"Luther\", 10),\n",
    "        (\"Forest\", \"Oakley\", 25),\n",
    "        (\"Marceline\", \"Luther\", 20),\n",
    "        (\"Ryan\", \"Oakley\", 15),\n",
    "        (\"Ryan\", \"Appa\", 10),\n",
    "        (\"Marceline\", \"Luther\", 15)\n",
    "]"
   ]
  },
  {
   "cell_type": "markdown",
   "metadata": {
    "id": "aE4aT_ya2fAN"
   },
   "source": [
    "For reference, a possible tabular output for the above data is:\n",
    "\n",
    "```\n",
    "               Forest      Kelly     Marceline      Ryan    \n",
    "        Appa     20          0           20          40     \n",
    "      Luther     0           45          35          0      \n",
    "      Oakley     25          0           40          15 \n",
    "```"
   ]
  },
  {
   "cell_type": "markdown",
   "metadata": {
    "id": "cWqek42pHr3T"
   },
   "source": [
    "If you happen to already be familiar with objects like data frames from certain data science libraries, be sure NOT to use these. All of your code should utilize data structures in Python's standard library (i.e. lists, dicts, etc.).\n",
    "\n",
    "You may find it useful to print without a newline at the end. Python's `print` function allows you to specify what string to add to the end of a print statement, which is by default `\\n`. If you instead use an empty string, the newline will not be printed.\n",
    "```python\n",
    "print(\"a\", end=\"\") # replace `\\n` with empty string\n",
    "print(\"b\") \n",
    "print(\"c\")\n",
    "```\n",
    "produces the following output:\n",
    "\n",
    "    ab\n",
    "    c"
   ]
  },
  {
   "cell_type": "code",
   "execution_count": 489,
   "metadata": {
    "pycharm": {
     "name": "#%%\n"
    }
   },
   "outputs": [
    {
     "name": "stdout",
     "output_type": "stream",
     "text": [
      "                        Forest          Kelly      Marceline           Ryan\n",
      "           Appa             20              0             20             40\n",
      "         Luther              0             45             35              0\n",
      "         Oakley             25              0             40             15\n"
     ]
    }
   ],
   "source": [
    "dogs = list(set([dog[1] for dog in logs]))\n",
    "dog_walker = list(set([dog_walker[0] for dog_walker in logs]))\n",
    "dogs.sort()\n",
    "dog_walker.sort()\n",
    "data = []\n",
    "\n",
    "# Placing data in to list by looking at the sorted dogs and dog walkers\n",
    "# Information is placed into a list of list with dog names as the row\n",
    "for dog in dogs:  # Dogs are columns\n",
    "    row = []\n",
    "    for walker in dog_walker:  # Walkers are rows\n",
    "        row.append(sum([num[2] for num in logs if dog in num and walker in num]))\n",
    "    data.append(row)  # Adding Dog data to row\n",
    "\n",
    "# Printing out information\n",
    "format_columns = \"{:>15}\" * (len(dog_walker) + 1)\n",
    "print(format_columns.format(\"\", *dog_walker))  # Printing Columns of Dog Walkers\n",
    "for dog, row in zip(dogs, data):\n",
    "    print(format_columns.format(dog, *row))  # Printing out how much each dog walker walked each dog"
   ]
  },
  {
   "cell_type": "markdown",
   "metadata": {},
   "source": [
    "### Sorting\n",
    "Sort a list of words by the number of capital letters in the word"
   ]
  },
  {
   "cell_type": "code",
   "execution_count": 12,
   "metadata": {},
   "outputs": [
    {
     "name": "stdout",
     "output_type": "stream",
     "text": [
      "['dogs', 'of', 'Don', 'Dalton', 'Univerisity', 'Denver', 'APythonVariableName', 'ColORaDO']\n"
     ]
    }
   ],
   "source": [
    "def upper_sort(word):\n",
    "    \"\"\"This Function returns the number of upper case letters a word\"\"\"\n",
    "    return len([char for char in word if char.isupper()])\n",
    "\n",
    "\n",
    "newList = []\n",
    "words = ['Don Dalton','dogs','APythonVariableName','Univerisity of Denver','ColORaDO']\n",
    "for w in words:\n",
    "    w = w.split()\n",
    "    for i in w:\n",
    "        if len(i) > 0: newList.append(i)\n",
    "\n",
    "\n",
    "\n",
    "newList.sort(key=upper_sort)  # Sorting by number of upper case letters in ascending order\n",
    "print(newList)  # Printing out sorted list"
   ]
  },
  {
   "cell_type": "markdown",
   "metadata": {},
   "source": [
    "Sort the same list of words by the length of the word"
   ]
  },
  {
   "cell_type": "code",
   "execution_count": 13,
   "metadata": {},
   "outputs": [
    {
     "name": "stdout",
     "output_type": "stream",
     "text": [
      "['of', 'Don', 'dogs', 'Dalton', 'Denver', 'ColORaDO', 'Univerisity', 'APythonVariableName']\n"
     ]
    }
   ],
   "source": [
    "def len_sort(word):\n",
    "    \"\"\"This function returns the number of characters in a word\"\"\"\n",
    "    return len([char for char in word])\n",
    "words2 = ['Don Dalton','dogs','APythonVariableName','Univerisity of Denver','ColORaDO']\n",
    "newList = []\n",
    "for w in words2:\n",
    "    w = w.split()\n",
    "    for i in w:\n",
    "        if len(i) > 0: newList.append(i)\n",
    "\n",
    "newList.sort(key=len_sort)\n",
    "print(newList)\n"
   ]
  },
  {
   "cell_type": "markdown",
   "metadata": {},
   "source": [
    "### Formatting\n",
    "Take the items from this dictionary and print them as a nicely formatted table.  Name, age and University will be the column headers and one row per student.  The column widths should be as wide as needed to fit the data."
   ]
  },
  {
   "cell_type": "code",
   "execution_count": 31,
   "metadata": {
    "pycharm": {
     "name": "#%%\n"
    }
   },
   "outputs": [
    {
     "name": "stdout",
     "output_type": "stream",
     "text": [
      "Name      Age       University\n",
      "Ankit     23        BHU       \n",
      "Aishwarya 21        JNU       \n",
      "Shaurya   22        DU        \n",
      "Shivangi  21        BHU       \n"
     ]
    }
   ],
   "source": [
    "details = {\n",
    "    'Name' : ['Ankit', 'Aishwarya', 'Shaurya', 'Shivangi'],\n",
    "    'Age' : [23, 21, 22, 21],\n",
    "    'University' : ['BHU', 'JNU', 'DU', 'BHU'],\n",
    "}\n",
    "\n",
    "data = [[i for i in details]]  # Adding in Columns headers\n",
    "row = [i[1] for i in details.items()]  # gathering list of values from dictionary keys\n",
    "newgrid = [[x[i] for x in row] for i in range(len(row[0]))]  # Creating Row Values\n",
    "\n",
    "print(\"{:<10}{:<10}{:<10}\".format(data[0][0], data[0][1], data[0][2]))  # Printing Headers\n",
    "for row in newgrid:\n",
    "    print(\"{:<10}{:<10}{:<10}\".format(row[0], row[1], row[2]))  # Printing Row values\n"
   ]
  }
 ],
 "metadata": {
  "colab": {
   "authorship_tag": "ABX9TyNnvGc/EfwwurtbE52UHRdY",
   "collapsed_sections": [],
   "name": "Assignment 1 - Python Fundamentals.ipynb",
   "provenance": [],
   "toc_visible": true
  },
  "kernelspec": {
   "display_name": "Python 3 (ipykernel)",
   "language": "python",
   "name": "python3"
  },
  "language_info": {
   "codemirror_mode": {
    "name": "ipython",
    "version": 3
   },
   "file_extension": ".py",
   "mimetype": "text/x-python",
   "name": "python",
   "nbconvert_exporter": "python",
   "pygments_lexer": "ipython3",
   "version": "3.8.10"
  }
 },
 "nbformat": 4,
 "nbformat_minor": 1
}