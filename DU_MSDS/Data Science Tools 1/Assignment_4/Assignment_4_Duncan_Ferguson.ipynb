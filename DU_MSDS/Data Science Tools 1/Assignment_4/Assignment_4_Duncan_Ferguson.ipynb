{
 "cells": [
  {
   "cell_type": "markdown",
   "metadata": {
    "id": "odUunBb_Qd6-"
   },
   "source": [
    "# Assignment 4\n",
    "## Data Science Tools I\n",
    "### Professor: Don Dalton\n",
    "\n",
    "---\n",
    "\n",
    "### Student: Duncan Ferguson\n"
   ]
  },
  {
   "cell_type": "markdown",
   "metadata": {
    "id": "DvRZS7PSsk7b"
   },
   "source": [
    "The questions in this notebook all relate to the same sets of data, linked on the Canvas assignment page. Each question walks through various manipulations of the data, each in multiple parts. These are designed to review the topics covered in week 3 and many parts (there are some exceptions) can be answered with just one or a few lines of code."
   ]
  },
  {
   "cell_type": "code",
   "execution_count": 1,
   "metadata": {
    "id": "hwl4y_Z8QR-m"
   },
   "outputs": [],
   "source": [
    "import pandas as pd\n",
    "import numpy as np\n",
    "import matplotlib.pyplot as plt\n",
    "import seaborn as sns"
   ]
  },
  {
   "cell_type": "markdown",
   "metadata": {
    "id": "Utq468K6AzPM"
   },
   "source": [
    "# Question 1 - Data Cleaning"
   ]
  },
  {
   "cell_type": "markdown",
   "metadata": {
    "id": "HVpu6Z82tWwh"
   },
   "source": [
    "## Part (a)\n",
    "### 3 points\n",
    "\n",
    "Use `pd.read_csv` to read the `cereals_data.csv` file into a DataFrame called `cereals_data`. If you are using Google Colab, uploaded files reside in the root folder `/content/`. If you are using a local file, provide the path to the file relative to the folder your notebook is in.\n",
    "\n",
    "Print the dimensions (shape) of the data frame and output the first 5 rows to take a look at what sort of information we're dealing with."
   ]
  },
  {
   "cell_type": "code",
   "execution_count": 2,
   "metadata": {
    "id": "NBOyC4V9AyMK"
   },
   "outputs": [
    {
     "data": {
      "text/plain": "   unnamed:                          Name Manuf Type  Calories  Protein  Fat  \\\n0         NaN                  100%_Bran     N    C         70        4    1   \n1         NaN          100%_Natural_Bran     Q    C        120        3    5   \n2         NaN                   All-Bran     K    C         70        4    1   \n3         NaN  All-Bran_with_Extra_Fiber     K    C         50        4    0   \n4         NaN             Almond_Delight     R    C        110        2    2   \n\n   Sodium  Fiber  Carbo  Sugars  Potass  Vitamins  Shelf  Weight  Cups  \\\n0     130   10.0    5.0     6.0   280.0        25      3     1.0  0.33   \n1      15    2.0    8.0     8.0   135.0         0      3     1.0  1.00   \n2     260    9.0    7.0     5.0   320.0        25      3     1.0  0.33   \n3     140   14.0    8.0     0.0   330.0        25      3     1.0  0.50   \n4     200    1.0   14.0     8.0     NaN        25      3     1.0  0.75   \n\n      Rating  \n0  68.402973  \n1  33.983679  \n2  59.425505  \n3  93.704912  \n4  34.384843  ",
      "text/html": "<div>\n<style scoped>\n    .dataframe tbody tr th:only-of-type {\n        vertical-align: middle;\n    }\n\n    .dataframe tbody tr th {\n        vertical-align: top;\n    }\n\n    .dataframe thead th {\n        text-align: right;\n    }\n</style>\n<table border=\"1\" class=\"dataframe\">\n  <thead>\n    <tr style=\"text-align: right;\">\n      <th></th>\n      <th>unnamed:</th>\n      <th>Name</th>\n      <th>Manuf</th>\n      <th>Type</th>\n      <th>Calories</th>\n      <th>Protein</th>\n      <th>Fat</th>\n      <th>Sodium</th>\n      <th>Fiber</th>\n      <th>Carbo</th>\n      <th>Sugars</th>\n      <th>Potass</th>\n      <th>Vitamins</th>\n      <th>Shelf</th>\n      <th>Weight</th>\n      <th>Cups</th>\n      <th>Rating</th>\n    </tr>\n  </thead>\n  <tbody>\n    <tr>\n      <th>0</th>\n      <td>NaN</td>\n      <td>100%_Bran</td>\n      <td>N</td>\n      <td>C</td>\n      <td>70</td>\n      <td>4</td>\n      <td>1</td>\n      <td>130</td>\n      <td>10.0</td>\n      <td>5.0</td>\n      <td>6.0</td>\n      <td>280.0</td>\n      <td>25</td>\n      <td>3</td>\n      <td>1.0</td>\n      <td>0.33</td>\n      <td>68.402973</td>\n    </tr>\n    <tr>\n      <th>1</th>\n      <td>NaN</td>\n      <td>100%_Natural_Bran</td>\n      <td>Q</td>\n      <td>C</td>\n      <td>120</td>\n      <td>3</td>\n      <td>5</td>\n      <td>15</td>\n      <td>2.0</td>\n      <td>8.0</td>\n      <td>8.0</td>\n      <td>135.0</td>\n      <td>0</td>\n      <td>3</td>\n      <td>1.0</td>\n      <td>1.00</td>\n      <td>33.983679</td>\n    </tr>\n    <tr>\n      <th>2</th>\n      <td>NaN</td>\n      <td>All-Bran</td>\n      <td>K</td>\n      <td>C</td>\n      <td>70</td>\n      <td>4</td>\n      <td>1</td>\n      <td>260</td>\n      <td>9.0</td>\n      <td>7.0</td>\n      <td>5.0</td>\n      <td>320.0</td>\n      <td>25</td>\n      <td>3</td>\n      <td>1.0</td>\n      <td>0.33</td>\n      <td>59.425505</td>\n    </tr>\n    <tr>\n      <th>3</th>\n      <td>NaN</td>\n      <td>All-Bran_with_Extra_Fiber</td>\n      <td>K</td>\n      <td>C</td>\n      <td>50</td>\n      <td>4</td>\n      <td>0</td>\n      <td>140</td>\n      <td>14.0</td>\n      <td>8.0</td>\n      <td>0.0</td>\n      <td>330.0</td>\n      <td>25</td>\n      <td>3</td>\n      <td>1.0</td>\n      <td>0.50</td>\n      <td>93.704912</td>\n    </tr>\n    <tr>\n      <th>4</th>\n      <td>NaN</td>\n      <td>Almond_Delight</td>\n      <td>R</td>\n      <td>C</td>\n      <td>110</td>\n      <td>2</td>\n      <td>2</td>\n      <td>200</td>\n      <td>1.0</td>\n      <td>14.0</td>\n      <td>8.0</td>\n      <td>NaN</td>\n      <td>25</td>\n      <td>3</td>\n      <td>1.0</td>\n      <td>0.75</td>\n      <td>34.384843</td>\n    </tr>\n  </tbody>\n</table>\n</div>"
     },
     "execution_count": 2,
     "metadata": {},
     "output_type": "execute_result"
    }
   ],
   "source": [
    "cereals_data = pd.read_csv('cereals_data.csv')\n",
    "cereals_data.head()"
   ]
  },
  {
   "cell_type": "markdown",
   "metadata": {
    "id": "jJzTRUOwuARn"
   },
   "source": [
    "If you take a close look at this .csv file, you will find that some column names as well as some of the categorical values have extra whitespace on the left- and/or right-hand sides. For example, the column index `unnamed: ` has a space after the colon.\n",
    "\n",
    "Strip the whitespace off of the column names by using `cereals_data.columns.str.strip()`. The `.str.strip()` method can be applied to values within individual columns as well. Apply this method to the columns `Name`, `Manuf`, and `Type`. (Even if you print the first 5 rows again, it may not be immediately clear if you have successfully stripped the whitespace until you start accessing particular values.)"
   ]
  },
  {
   "cell_type": "code",
   "execution_count": 3,
   "metadata": {
    "id": "N0D9SjjJuCSx"
   },
   "outputs": [
    {
     "name": "stdout",
     "output_type": "stream",
     "text": [
      "[10, 4, 5, 4, 8, 7, 3, 6, 5, 5, 6, 6, 8, 5, 6, 4, 6]\n",
      "[8, 4, 5, 4, 8, 7, 3, 6, 5, 5, 6, 6, 8, 5, 6, 4, 6]\n",
      "2.0\n",
      "1.0\n"
     ]
    }
   ],
   "source": [
    "# Stripping the white space from the headers. Printing test before and after\n",
    "print([len(word) for word in cereals_data.columns])\n",
    "cereals_data.columns = cereals_data.columns.str.strip()\n",
    "print([len(word) for word in cereals_data.columns])\n",
    "\n",
    "manuf = cereals_data['Manuf'].to_list()\n",
    "print(sum([len(word) for word in manuf])/len(manuf))\n",
    "\n",
    "# Stripping the white space from columns Name, Manuf and Type\n",
    "cereals_data['Name'] = cereals_data['Name'].str.strip()\n",
    "cereals_data['Manuf'] = cereals_data['Manuf'].str.strip()\n",
    "cereals_data['Type'] = cereals_data['Type'].str.strip()\n",
    "\n",
    "manuf = cereals_data['Manuf'].to_list()\n",
    "print(sum([len(word) for word in manuf])/len(manuf))\n"
   ]
  },
  {
   "cell_type": "markdown",
   "metadata": {
    "id": "yxBNnQ1Mu_BS"
   },
   "source": [
    "## Part (b) \n",
    "### 3 points\n",
    "\n",
    "\n",
    "The `unnamed:` column is not very useful, so permanently drop that column. \n",
    "\n",
    "Additionally, to follow the pattern of abbreviations, rename `Calories` to `Cal` and `Vitamins` to `Vit`. (This can be done in one line.) \n",
    "\n",
    "Again output the data frame dimensions and the first five rows to confirm these changes. Successfully performing these changes should demonstrate that the extraneous whitespace in the columns was removed."
   ]
  },
  {
   "cell_type": "code",
   "execution_count": 4,
   "metadata": {
    "id": "gvorcEViCQwx"
   },
   "outputs": [
    {
     "data": {
      "text/plain": "                        Name Manuf Type  Cal  Protein  Fat  Sodium  Fiber  \\\n0                  100%_Bran     N    C   70        4    1     130   10.0   \n1          100%_Natural_Bran     Q    C  120        3    5      15    2.0   \n2                   All-Bran     K    C   70        4    1     260    9.0   \n3  All-Bran_with_Extra_Fiber     K    C   50        4    0     140   14.0   \n4             Almond_Delight     R    C  110        2    2     200    1.0   \n\n   Carbo  Sugars  Potass  Vit  Shelf  Weight  Cups     Rating  \n0    5.0     6.0   280.0   25      3     1.0  0.33  68.402973  \n1    8.0     8.0   135.0    0      3     1.0  1.00  33.983679  \n2    7.0     5.0   320.0   25      3     1.0  0.33  59.425505  \n3    8.0     0.0   330.0   25      3     1.0  0.50  93.704912  \n4   14.0     8.0     NaN   25      3     1.0  0.75  34.384843  ",
      "text/html": "<div>\n<style scoped>\n    .dataframe tbody tr th:only-of-type {\n        vertical-align: middle;\n    }\n\n    .dataframe tbody tr th {\n        vertical-align: top;\n    }\n\n    .dataframe thead th {\n        text-align: right;\n    }\n</style>\n<table border=\"1\" class=\"dataframe\">\n  <thead>\n    <tr style=\"text-align: right;\">\n      <th></th>\n      <th>Name</th>\n      <th>Manuf</th>\n      <th>Type</th>\n      <th>Cal</th>\n      <th>Protein</th>\n      <th>Fat</th>\n      <th>Sodium</th>\n      <th>Fiber</th>\n      <th>Carbo</th>\n      <th>Sugars</th>\n      <th>Potass</th>\n      <th>Vit</th>\n      <th>Shelf</th>\n      <th>Weight</th>\n      <th>Cups</th>\n      <th>Rating</th>\n    </tr>\n  </thead>\n  <tbody>\n    <tr>\n      <th>0</th>\n      <td>100%_Bran</td>\n      <td>N</td>\n      <td>C</td>\n      <td>70</td>\n      <td>4</td>\n      <td>1</td>\n      <td>130</td>\n      <td>10.0</td>\n      <td>5.0</td>\n      <td>6.0</td>\n      <td>280.0</td>\n      <td>25</td>\n      <td>3</td>\n      <td>1.0</td>\n      <td>0.33</td>\n      <td>68.402973</td>\n    </tr>\n    <tr>\n      <th>1</th>\n      <td>100%_Natural_Bran</td>\n      <td>Q</td>\n      <td>C</td>\n      <td>120</td>\n      <td>3</td>\n      <td>5</td>\n      <td>15</td>\n      <td>2.0</td>\n      <td>8.0</td>\n      <td>8.0</td>\n      <td>135.0</td>\n      <td>0</td>\n      <td>3</td>\n      <td>1.0</td>\n      <td>1.00</td>\n      <td>33.983679</td>\n    </tr>\n    <tr>\n      <th>2</th>\n      <td>All-Bran</td>\n      <td>K</td>\n      <td>C</td>\n      <td>70</td>\n      <td>4</td>\n      <td>1</td>\n      <td>260</td>\n      <td>9.0</td>\n      <td>7.0</td>\n      <td>5.0</td>\n      <td>320.0</td>\n      <td>25</td>\n      <td>3</td>\n      <td>1.0</td>\n      <td>0.33</td>\n      <td>59.425505</td>\n    </tr>\n    <tr>\n      <th>3</th>\n      <td>All-Bran_with_Extra_Fiber</td>\n      <td>K</td>\n      <td>C</td>\n      <td>50</td>\n      <td>4</td>\n      <td>0</td>\n      <td>140</td>\n      <td>14.0</td>\n      <td>8.0</td>\n      <td>0.0</td>\n      <td>330.0</td>\n      <td>25</td>\n      <td>3</td>\n      <td>1.0</td>\n      <td>0.50</td>\n      <td>93.704912</td>\n    </tr>\n    <tr>\n      <th>4</th>\n      <td>Almond_Delight</td>\n      <td>R</td>\n      <td>C</td>\n      <td>110</td>\n      <td>2</td>\n      <td>2</td>\n      <td>200</td>\n      <td>1.0</td>\n      <td>14.0</td>\n      <td>8.0</td>\n      <td>NaN</td>\n      <td>25</td>\n      <td>3</td>\n      <td>1.0</td>\n      <td>0.75</td>\n      <td>34.384843</td>\n    </tr>\n  </tbody>\n</table>\n</div>"
     },
     "execution_count": 4,
     "metadata": {},
     "output_type": "execute_result"
    }
   ],
   "source": [
    "cereals_data.drop(columns = ['unnamed:'], inplace=True)\n",
    "cereals_data.rename(columns={\"Calories\":\"Cal\",\"Vitamins\":\"Vit\"}, inplace=True)\n",
    "cereals_data.head()"
   ]
  },
  {
   "cell_type": "markdown",
   "metadata": {
    "id": "iCGTE4YTvesS"
   },
   "source": [
    "## Part (c)\n",
    "\n",
    "### 3 points\n",
    "\n",
    "\n",
    "Print the unique values in the columns `Manuf`, `Type`, and `Shelf`. You should find that there are 7 unique characters for `Manuf`, 'C' and 'H' for `Type`, and 1, 2, and 3 for `Shelf`."
   ]
  },
  {
   "cell_type": "code",
   "execution_count": 5,
   "outputs": [
    {
     "data": {
      "text/plain": "array(['N', 'Q', 'K', 'R', 'G', 'P', 'A'], dtype=object)"
     },
     "execution_count": 5,
     "metadata": {},
     "output_type": "execute_result"
    }
   ],
   "source": [
    "cereals_data['Manuf'].unique()"
   ],
   "metadata": {
    "collapsed": false,
    "pycharm": {
     "name": "#%%\n"
    }
   }
  },
  {
   "cell_type": "code",
   "execution_count": 6,
   "outputs": [
    {
     "data": {
      "text/plain": "array(['N', 'Q', 'K', 'R', 'G', 'P', 'A'], dtype=object)"
     },
     "execution_count": 6,
     "metadata": {},
     "output_type": "execute_result"
    }
   ],
   "source": [
    "cereals_data.Manuf.unique()"
   ],
   "metadata": {
    "collapsed": false,
    "pycharm": {
     "name": "#%%\n"
    }
   }
  },
  {
   "cell_type": "code",
   "execution_count": 7,
   "outputs": [
    {
     "data": {
      "text/plain": "array(['C', 'H'], dtype=object)"
     },
     "execution_count": 7,
     "metadata": {},
     "output_type": "execute_result"
    }
   ],
   "source": [
    "cereals_data.Type.unique()"
   ],
   "metadata": {
    "collapsed": false,
    "pycharm": {
     "name": "#%%\n"
    }
   }
  },
  {
   "cell_type": "code",
   "execution_count": 8,
   "outputs": [
    {
     "data": {
      "text/plain": "array(['C', 'H'], dtype=object)"
     },
     "execution_count": 8,
     "metadata": {},
     "output_type": "execute_result"
    }
   ],
   "source": [
    "cereals_data['Type'].unique()"
   ],
   "metadata": {
    "collapsed": false,
    "pycharm": {
     "name": "#%%\n"
    }
   }
  },
  {
   "cell_type": "code",
   "execution_count": 9,
   "outputs": [
    {
     "data": {
      "text/plain": "array([3, 1, 2], dtype=int64)"
     },
     "execution_count": 9,
     "metadata": {},
     "output_type": "execute_result"
    }
   ],
   "source": [
    "cereals_data.Shelf.unique()"
   ],
   "metadata": {
    "collapsed": false,
    "pycharm": {
     "name": "#%%\n"
    }
   }
  },
  {
   "cell_type": "code",
   "execution_count": 10,
   "outputs": [
    {
     "data": {
      "text/plain": "array([3, 1, 2], dtype=int64)"
     },
     "execution_count": 10,
     "metadata": {},
     "output_type": "execute_result"
    }
   ],
   "source": [
    "cereals_data['Shelf'].unique()"
   ],
   "metadata": {
    "collapsed": false,
    "pycharm": {
     "name": "#%%\n"
    }
   }
  },
  {
   "cell_type": "markdown",
   "metadata": {
    "id": "x8mL4An8xJ3j"
   },
   "source": [
    "Change the `Type` column such that it uses 'cold' and 'hot' instead of 'C' and 'H' respectively. Output the first five rows to confirm this change."
   ]
  },
  {
   "cell_type": "code",
   "execution_count": 11,
   "metadata": {
    "id": "NAeDyxCDH06Z"
   },
   "outputs": [
    {
     "data": {
      "text/plain": "                        Name Manuf  Type  Cal  Protein  Fat  Sodium  Fiber  \\\n0                  100%_Bran     N  Cold   70        4    1     130   10.0   \n1          100%_Natural_Bran     Q  Cold  120        3    5      15    2.0   \n2                   All-Bran     K  Cold   70        4    1     260    9.0   \n3  All-Bran_with_Extra_Fiber     K  Cold   50        4    0     140   14.0   \n4             Almond_Delight     R  Cold  110        2    2     200    1.0   \n\n   Carbo  Sugars  Potass  Vit  Shelf  Weight  Cups     Rating  \n0    5.0     6.0   280.0   25      3     1.0  0.33  68.402973  \n1    8.0     8.0   135.0    0      3     1.0  1.00  33.983679  \n2    7.0     5.0   320.0   25      3     1.0  0.33  59.425505  \n3    8.0     0.0   330.0   25      3     1.0  0.50  93.704912  \n4   14.0     8.0     NaN   25      3     1.0  0.75  34.384843  ",
      "text/html": "<div>\n<style scoped>\n    .dataframe tbody tr th:only-of-type {\n        vertical-align: middle;\n    }\n\n    .dataframe tbody tr th {\n        vertical-align: top;\n    }\n\n    .dataframe thead th {\n        text-align: right;\n    }\n</style>\n<table border=\"1\" class=\"dataframe\">\n  <thead>\n    <tr style=\"text-align: right;\">\n      <th></th>\n      <th>Name</th>\n      <th>Manuf</th>\n      <th>Type</th>\n      <th>Cal</th>\n      <th>Protein</th>\n      <th>Fat</th>\n      <th>Sodium</th>\n      <th>Fiber</th>\n      <th>Carbo</th>\n      <th>Sugars</th>\n      <th>Potass</th>\n      <th>Vit</th>\n      <th>Shelf</th>\n      <th>Weight</th>\n      <th>Cups</th>\n      <th>Rating</th>\n    </tr>\n  </thead>\n  <tbody>\n    <tr>\n      <th>0</th>\n      <td>100%_Bran</td>\n      <td>N</td>\n      <td>Cold</td>\n      <td>70</td>\n      <td>4</td>\n      <td>1</td>\n      <td>130</td>\n      <td>10.0</td>\n      <td>5.0</td>\n      <td>6.0</td>\n      <td>280.0</td>\n      <td>25</td>\n      <td>3</td>\n      <td>1.0</td>\n      <td>0.33</td>\n      <td>68.402973</td>\n    </tr>\n    <tr>\n      <th>1</th>\n      <td>100%_Natural_Bran</td>\n      <td>Q</td>\n      <td>Cold</td>\n      <td>120</td>\n      <td>3</td>\n      <td>5</td>\n      <td>15</td>\n      <td>2.0</td>\n      <td>8.0</td>\n      <td>8.0</td>\n      <td>135.0</td>\n      <td>0</td>\n      <td>3</td>\n      <td>1.0</td>\n      <td>1.00</td>\n      <td>33.983679</td>\n    </tr>\n    <tr>\n      <th>2</th>\n      <td>All-Bran</td>\n      <td>K</td>\n      <td>Cold</td>\n      <td>70</td>\n      <td>4</td>\n      <td>1</td>\n      <td>260</td>\n      <td>9.0</td>\n      <td>7.0</td>\n      <td>5.0</td>\n      <td>320.0</td>\n      <td>25</td>\n      <td>3</td>\n      <td>1.0</td>\n      <td>0.33</td>\n      <td>59.425505</td>\n    </tr>\n    <tr>\n      <th>3</th>\n      <td>All-Bran_with_Extra_Fiber</td>\n      <td>K</td>\n      <td>Cold</td>\n      <td>50</td>\n      <td>4</td>\n      <td>0</td>\n      <td>140</td>\n      <td>14.0</td>\n      <td>8.0</td>\n      <td>0.0</td>\n      <td>330.0</td>\n      <td>25</td>\n      <td>3</td>\n      <td>1.0</td>\n      <td>0.50</td>\n      <td>93.704912</td>\n    </tr>\n    <tr>\n      <th>4</th>\n      <td>Almond_Delight</td>\n      <td>R</td>\n      <td>Cold</td>\n      <td>110</td>\n      <td>2</td>\n      <td>2</td>\n      <td>200</td>\n      <td>1.0</td>\n      <td>14.0</td>\n      <td>8.0</td>\n      <td>NaN</td>\n      <td>25</td>\n      <td>3</td>\n      <td>1.0</td>\n      <td>0.75</td>\n      <td>34.384843</td>\n    </tr>\n  </tbody>\n</table>\n</div>"
     },
     "execution_count": 11,
     "metadata": {},
     "output_type": "execute_result"
    }
   ],
   "source": [
    "cereals_data[\"Type\"].replace({\"C\":\"Cold\", \"H\":\"Hot\"}, inplace=True)\n",
    "cereals_data.head()"
   ]
  },
  {
   "cell_type": "markdown",
   "metadata": {
    "id": "w6gPmtVvNEvD"
   },
   "source": [
    "# Question 2 - Indexing"
   ]
  },
  {
   "cell_type": "markdown",
   "metadata": {
    "id": "SVtJalUey6bn"
   },
   "source": [
    "## Part (a)\n",
    "### 5 points\n",
    "\n",
    "Use the `iloc` method to select the 5th and 7th rows of `cereals_data`. Note that indexes start at 0, so the 5th row, for example, is at index 4.\n",
    "\n",
    "\"Select\" simply means let the notebook run this command and then output the result to the screen to view the contents."
   ]
  },
  {
   "cell_type": "code",
   "execution_count": 12,
   "metadata": {
    "id": "QJ5jRGtOI7h-"
   },
   "outputs": [
    {
     "data": {
      "text/plain": "             Name Manuf  Type  Cal  Protein  Fat  Sodium  Fiber  Carbo  \\\n4  Almond_Delight     R  Cold  110        2    2     200    1.0   14.0   \n6     Apple_Jacks     K  Cold  110        2    0     125    1.0   11.0   \n\n   Sugars  Potass  Vit  Shelf  Weight  Cups     Rating  \n4     8.0     NaN   25      3     1.0  0.75  34.384843  \n6    14.0    30.0   25      2     1.0  1.00  33.174094  ",
      "text/html": "<div>\n<style scoped>\n    .dataframe tbody tr th:only-of-type {\n        vertical-align: middle;\n    }\n\n    .dataframe tbody tr th {\n        vertical-align: top;\n    }\n\n    .dataframe thead th {\n        text-align: right;\n    }\n</style>\n<table border=\"1\" class=\"dataframe\">\n  <thead>\n    <tr style=\"text-align: right;\">\n      <th></th>\n      <th>Name</th>\n      <th>Manuf</th>\n      <th>Type</th>\n      <th>Cal</th>\n      <th>Protein</th>\n      <th>Fat</th>\n      <th>Sodium</th>\n      <th>Fiber</th>\n      <th>Carbo</th>\n      <th>Sugars</th>\n      <th>Potass</th>\n      <th>Vit</th>\n      <th>Shelf</th>\n      <th>Weight</th>\n      <th>Cups</th>\n      <th>Rating</th>\n    </tr>\n  </thead>\n  <tbody>\n    <tr>\n      <th>4</th>\n      <td>Almond_Delight</td>\n      <td>R</td>\n      <td>Cold</td>\n      <td>110</td>\n      <td>2</td>\n      <td>2</td>\n      <td>200</td>\n      <td>1.0</td>\n      <td>14.0</td>\n      <td>8.0</td>\n      <td>NaN</td>\n      <td>25</td>\n      <td>3</td>\n      <td>1.0</td>\n      <td>0.75</td>\n      <td>34.384843</td>\n    </tr>\n    <tr>\n      <th>6</th>\n      <td>Apple_Jacks</td>\n      <td>K</td>\n      <td>Cold</td>\n      <td>110</td>\n      <td>2</td>\n      <td>0</td>\n      <td>125</td>\n      <td>1.0</td>\n      <td>11.0</td>\n      <td>14.0</td>\n      <td>30.0</td>\n      <td>25</td>\n      <td>2</td>\n      <td>1.0</td>\n      <td>1.00</td>\n      <td>33.174094</td>\n    </tr>\n  </tbody>\n</table>\n</div>"
     },
     "execution_count": 12,
     "metadata": {},
     "output_type": "execute_result"
    }
   ],
   "source": [
    "cereals_data.iloc[[4, 6]]"
   ]
  },
  {
   "cell_type": "markdown",
   "metadata": {
    "id": "Syy7RLTbzcss"
   },
   "source": [
    "Now select the same two rows using the `loc` method, but additionally select the all the columns between `Type` through `Carbo`, inclusive."
   ]
  },
  {
   "cell_type": "code",
   "execution_count": 13,
   "metadata": {
    "id": "iY9G_5TpMQx2"
   },
   "outputs": [
    {
     "data": {
      "text/plain": "   Type  Carbo\n4  Cold   14.0\n6  Cold   11.0",
      "text/html": "<div>\n<style scoped>\n    .dataframe tbody tr th:only-of-type {\n        vertical-align: middle;\n    }\n\n    .dataframe tbody tr th {\n        vertical-align: top;\n    }\n\n    .dataframe thead th {\n        text-align: right;\n    }\n</style>\n<table border=\"1\" class=\"dataframe\">\n  <thead>\n    <tr style=\"text-align: right;\">\n      <th></th>\n      <th>Type</th>\n      <th>Carbo</th>\n    </tr>\n  </thead>\n  <tbody>\n    <tr>\n      <th>4</th>\n      <td>Cold</td>\n      <td>14.0</td>\n    </tr>\n    <tr>\n      <th>6</th>\n      <td>Cold</td>\n      <td>11.0</td>\n    </tr>\n  </tbody>\n</table>\n</div>"
     },
     "execution_count": 13,
     "metadata": {},
     "output_type": "execute_result"
    }
   ],
   "source": [
    "cereals_data.loc[[4, 6], [\"Type\", \"Carbo\"]]"
   ]
  },
  {
   "cell_type": "markdown",
   "metadata": {
    "id": "0UYzcajzzsX0"
   },
   "source": [
    "Now make the exact same selection as above (with the columns from `Type` to `Carbo`), but using `iloc` once again."
   ]
  },
  {
   "cell_type": "code",
   "execution_count": 14,
   "metadata": {
    "id": "YoeiSIeRMy11"
   },
   "outputs": [
    {
     "data": {
      "text/plain": "   Type  Carbo\n4  Cold   14.0\n6  Cold   11.0",
      "text/html": "<div>\n<style scoped>\n    .dataframe tbody tr th:only-of-type {\n        vertical-align: middle;\n    }\n\n    .dataframe tbody tr th {\n        vertical-align: top;\n    }\n\n    .dataframe thead th {\n        text-align: right;\n    }\n</style>\n<table border=\"1\" class=\"dataframe\">\n  <thead>\n    <tr style=\"text-align: right;\">\n      <th></th>\n      <th>Type</th>\n      <th>Carbo</th>\n    </tr>\n  </thead>\n  <tbody>\n    <tr>\n      <th>4</th>\n      <td>Cold</td>\n      <td>14.0</td>\n    </tr>\n    <tr>\n      <th>6</th>\n      <td>Cold</td>\n      <td>11.0</td>\n    </tr>\n  </tbody>\n</table>\n</div>"
     },
     "execution_count": 14,
     "metadata": {},
     "output_type": "execute_result"
    }
   ],
   "source": [
    "cereals_data.iloc[[4,6],[2,8]]"
   ]
  },
  {
   "cell_type": "markdown",
   "metadata": {
    "id": "ueDK446zz6aU"
   },
   "source": [
    "Use the square bracket syntax (not using `loc` nor `iloc`) to select the first 10 rows and the columns `Protein`, `Sodium`, and `Carbo`."
   ]
  },
  {
   "cell_type": "code",
   "execution_count": 15,
   "metadata": {
    "id": "JpKg-ZJFN8QR"
   },
   "outputs": [
    {
     "data": {
      "text/plain": "   Protein  Sodium  Carbo\n0        4     130    5.0\n1        3      15    8.0\n2        4     260    7.0\n3        4     140    8.0\n4        2     200   14.0\n5        2     180   10.5\n6        2     125   11.0\n7        3     210   18.0\n8        2     200   15.0\n9        3     210   13.0",
      "text/html": "<div>\n<style scoped>\n    .dataframe tbody tr th:only-of-type {\n        vertical-align: middle;\n    }\n\n    .dataframe tbody tr th {\n        vertical-align: top;\n    }\n\n    .dataframe thead th {\n        text-align: right;\n    }\n</style>\n<table border=\"1\" class=\"dataframe\">\n  <thead>\n    <tr style=\"text-align: right;\">\n      <th></th>\n      <th>Protein</th>\n      <th>Sodium</th>\n      <th>Carbo</th>\n    </tr>\n  </thead>\n  <tbody>\n    <tr>\n      <th>0</th>\n      <td>4</td>\n      <td>130</td>\n      <td>5.0</td>\n    </tr>\n    <tr>\n      <th>1</th>\n      <td>3</td>\n      <td>15</td>\n      <td>8.0</td>\n    </tr>\n    <tr>\n      <th>2</th>\n      <td>4</td>\n      <td>260</td>\n      <td>7.0</td>\n    </tr>\n    <tr>\n      <th>3</th>\n      <td>4</td>\n      <td>140</td>\n      <td>8.0</td>\n    </tr>\n    <tr>\n      <th>4</th>\n      <td>2</td>\n      <td>200</td>\n      <td>14.0</td>\n    </tr>\n    <tr>\n      <th>5</th>\n      <td>2</td>\n      <td>180</td>\n      <td>10.5</td>\n    </tr>\n    <tr>\n      <th>6</th>\n      <td>2</td>\n      <td>125</td>\n      <td>11.0</td>\n    </tr>\n    <tr>\n      <th>7</th>\n      <td>3</td>\n      <td>210</td>\n      <td>18.0</td>\n    </tr>\n    <tr>\n      <th>8</th>\n      <td>2</td>\n      <td>200</td>\n      <td>15.0</td>\n    </tr>\n    <tr>\n      <th>9</th>\n      <td>3</td>\n      <td>210</td>\n      <td>13.0</td>\n    </tr>\n  </tbody>\n</table>\n</div>"
     },
     "execution_count": 15,
     "metadata": {},
     "output_type": "execute_result"
    }
   ],
   "source": [
    "cereals_data[[\"Protein\", \"Sodium\", \"Carbo\"]][:10]"
   ]
  },
  {
   "cell_type": "markdown",
   "metadata": {
    "id": "npz1c3170ZJn"
   },
   "source": [
    "Use `iloc` to select the first five rows."
   ]
  },
  {
   "cell_type": "code",
   "execution_count": 16,
   "metadata": {
    "id": "ZS-jkNgzPEWz"
   },
   "outputs": [
    {
     "data": {
      "text/plain": "                        Name Manuf  Type  Cal  Protein  Fat  Sodium  Fiber  \\\n0                  100%_Bran     N  Cold   70        4    1     130   10.0   \n1          100%_Natural_Bran     Q  Cold  120        3    5      15    2.0   \n2                   All-Bran     K  Cold   70        4    1     260    9.0   \n3  All-Bran_with_Extra_Fiber     K  Cold   50        4    0     140   14.0   \n4             Almond_Delight     R  Cold  110        2    2     200    1.0   \n5    Apple_Cinnamon_Cheerios     G  Cold  110        2    2     180    1.5   \n\n   Carbo  Sugars  Potass  Vit  Shelf  Weight  Cups     Rating  \n0    5.0     6.0   280.0   25      3     1.0  0.33  68.402973  \n1    8.0     8.0   135.0    0      3     1.0  1.00  33.983679  \n2    7.0     5.0   320.0   25      3     1.0  0.33  59.425505  \n3    8.0     0.0   330.0   25      3     1.0  0.50  93.704912  \n4   14.0     8.0     NaN   25      3     1.0  0.75  34.384843  \n5   10.5    10.0    70.0   25      1     1.0  0.75  29.509541  ",
      "text/html": "<div>\n<style scoped>\n    .dataframe tbody tr th:only-of-type {\n        vertical-align: middle;\n    }\n\n    .dataframe tbody tr th {\n        vertical-align: top;\n    }\n\n    .dataframe thead th {\n        text-align: right;\n    }\n</style>\n<table border=\"1\" class=\"dataframe\">\n  <thead>\n    <tr style=\"text-align: right;\">\n      <th></th>\n      <th>Name</th>\n      <th>Manuf</th>\n      <th>Type</th>\n      <th>Cal</th>\n      <th>Protein</th>\n      <th>Fat</th>\n      <th>Sodium</th>\n      <th>Fiber</th>\n      <th>Carbo</th>\n      <th>Sugars</th>\n      <th>Potass</th>\n      <th>Vit</th>\n      <th>Shelf</th>\n      <th>Weight</th>\n      <th>Cups</th>\n      <th>Rating</th>\n    </tr>\n  </thead>\n  <tbody>\n    <tr>\n      <th>0</th>\n      <td>100%_Bran</td>\n      <td>N</td>\n      <td>Cold</td>\n      <td>70</td>\n      <td>4</td>\n      <td>1</td>\n      <td>130</td>\n      <td>10.0</td>\n      <td>5.0</td>\n      <td>6.0</td>\n      <td>280.0</td>\n      <td>25</td>\n      <td>3</td>\n      <td>1.0</td>\n      <td>0.33</td>\n      <td>68.402973</td>\n    </tr>\n    <tr>\n      <th>1</th>\n      <td>100%_Natural_Bran</td>\n      <td>Q</td>\n      <td>Cold</td>\n      <td>120</td>\n      <td>3</td>\n      <td>5</td>\n      <td>15</td>\n      <td>2.0</td>\n      <td>8.0</td>\n      <td>8.0</td>\n      <td>135.0</td>\n      <td>0</td>\n      <td>3</td>\n      <td>1.0</td>\n      <td>1.00</td>\n      <td>33.983679</td>\n    </tr>\n    <tr>\n      <th>2</th>\n      <td>All-Bran</td>\n      <td>K</td>\n      <td>Cold</td>\n      <td>70</td>\n      <td>4</td>\n      <td>1</td>\n      <td>260</td>\n      <td>9.0</td>\n      <td>7.0</td>\n      <td>5.0</td>\n      <td>320.0</td>\n      <td>25</td>\n      <td>3</td>\n      <td>1.0</td>\n      <td>0.33</td>\n      <td>59.425505</td>\n    </tr>\n    <tr>\n      <th>3</th>\n      <td>All-Bran_with_Extra_Fiber</td>\n      <td>K</td>\n      <td>Cold</td>\n      <td>50</td>\n      <td>4</td>\n      <td>0</td>\n      <td>140</td>\n      <td>14.0</td>\n      <td>8.0</td>\n      <td>0.0</td>\n      <td>330.0</td>\n      <td>25</td>\n      <td>3</td>\n      <td>1.0</td>\n      <td>0.50</td>\n      <td>93.704912</td>\n    </tr>\n    <tr>\n      <th>4</th>\n      <td>Almond_Delight</td>\n      <td>R</td>\n      <td>Cold</td>\n      <td>110</td>\n      <td>2</td>\n      <td>2</td>\n      <td>200</td>\n      <td>1.0</td>\n      <td>14.0</td>\n      <td>8.0</td>\n      <td>NaN</td>\n      <td>25</td>\n      <td>3</td>\n      <td>1.0</td>\n      <td>0.75</td>\n      <td>34.384843</td>\n    </tr>\n    <tr>\n      <th>5</th>\n      <td>Apple_Cinnamon_Cheerios</td>\n      <td>G</td>\n      <td>Cold</td>\n      <td>110</td>\n      <td>2</td>\n      <td>2</td>\n      <td>180</td>\n      <td>1.5</td>\n      <td>10.5</td>\n      <td>10.0</td>\n      <td>70.0</td>\n      <td>25</td>\n      <td>1</td>\n      <td>1.0</td>\n      <td>0.75</td>\n      <td>29.509541</td>\n    </tr>\n  </tbody>\n</table>\n</div>"
     },
     "execution_count": 16,
     "metadata": {},
     "output_type": "execute_result"
    }
   ],
   "source": [
    "cereals_data.iloc[:6]"
   ]
  },
  {
   "cell_type": "markdown",
   "metadata": {
    "id": "V8ihbLzX0ftx"
   },
   "source": [
    "## Part (b)\n",
    "\n",
    "### 3 points\n",
    "\n",
    "\n",
    "Use boolean indexing to select the rows with a value of `Cal` greater than 100."
   ]
  },
  {
   "cell_type": "code",
   "execution_count": 17,
   "metadata": {
    "id": "RLAHQmkSPbVJ"
   },
   "outputs": [
    {
     "data": {
      "text/plain": "                                      Name Manuf  Type  Cal  Protein  Fat  \\\n1                        100%_Natural_Bran     Q  Cold  120        3    5   \n4                           Almond_Delight     R  Cold  110        2    2   \n5                  Apple_Cinnamon_Cheerios     G  Cold  110        2    2   \n6                              Apple_Jacks     K  Cold  110        2    0   \n7                                  Basic_4     G  Cold  130        3    2   \n10                            Cap'n'Crunch     Q  Cold  120        1    2   \n11                                Cheerios     G  Cold  110        6    2   \n12                   Cinnamon_Toast_Crunch     G  Cold  120        1    3   \n13                                Clusters     G  Cold  110        3    2   \n14                             Cocoa_Puffs     G  Cold  110        1    1   \n15                               Corn_Chex     R  Cold  110        2    0   \n17                               Corn_Pops     K  Cold  110        1    0   \n18                           Count_Chocula     G  Cold  110        1    1   \n19                      Cracklin'_Oat_Bran     K  Cold  110        3    3   \n21                                 Crispix     K  Cold  110        2    0   \n24                             Froot_Loops     K  Cold  110        2    1   \n25                          Frosted_Flakes     K  Cold  110        1    0   \n27  Fruit_&_Fibre_Dates,_Walnuts,_and_Oats     P  Cold  120        3    2   \n28                           Fruitful_Bran     K  Cold  120        3    0   \n29                          Fruity_Pebbles     P  Cold  110        1    1   \n31                          Golden_Grahams     G  Cold  110        1    1   \n33                              Grape-Nuts     P  Cold  110        3    0   \n34                      Great_Grains_Pecan     P  Cold  120        3    3   \n35                        Honey_Graham_Ohs     Q  Cold  120        1    2   \n36                      Honey_Nut_Cheerios     G  Cold  110        3    1   \n37                              Honey-comb     P  Cold  110        1    0   \n38             Just_Right_Crunchy__Nuggets     K  Cold  110        2    1   \n39                  Just_Right_Fruit_&_Nut     K  Cold  140        3    1   \n40                                     Kix     G  Cold  110        2    1   \n42                            Lucky_Charms     G  Cold  110        2    1   \n44        Muesli_Raisins,_Dates,_&_Almonds     R  Cold  110        4    3   \n45       Muesli_Raisins,_Peaches,_&_Pecans     R  Cold  150        4    3   \n46                    Mueslix_Crispy_Blend     K  Cold  160        3    2   \n48                        Nut&Honey_Crunch     K  Cold  120        2    1   \n49               Nutri-Grain_Almond-Raisin     K  Cold  140        3    2   \n51                    Oatmeal_Raisin_Crisp     G  Cold  130        3    2   \n52                   Post_Nat._Raisin_Bran     P  Cold  120        3    1   \n58                             Raisin_Bran     K  Cold  120        3    1   \n\n    Sodium  Fiber  Carbo  Sugars  Potass  Vit  Shelf  Weight  Cups     Rating  \n1       15    2.0    8.0     8.0   135.0    0      3    1.00  1.00  33.983679  \n4      200    1.0   14.0     8.0     NaN   25      3    1.00  0.75  34.384843  \n5      180    1.5   10.5    10.0    70.0   25      1    1.00  0.75  29.509541  \n6      125    1.0   11.0    14.0    30.0   25      2    1.00  1.00  33.174094  \n7      210    2.0   18.0     8.0   100.0   25      3    1.33  0.75  37.038562  \n10     220    0.0   12.0    12.0    35.0   25      2    1.00  0.75  18.042851  \n11     290    2.0   17.0     1.0   105.0   25      1    1.00  1.25  50.764999  \n12     210    0.0   13.0     9.0    45.0   25      2    1.00  0.75  19.823573  \n13     140    2.0   13.0     7.0   105.0   25      3    1.00  0.50  40.400208  \n14     180    0.0   12.0    13.0    55.0   25      2    1.00  1.00  22.736446  \n15     280    0.0   22.0     3.0    25.0   25      1    1.00  1.00  41.445019  \n17      90    1.0   13.0    12.0    20.0   25      2    1.00  1.00  35.782791  \n18     180    0.0   12.0    13.0    65.0   25      2    1.00  1.00  22.396513  \n19     140    4.0   10.0     7.0   160.0   25      3    1.00  0.50  40.448772  \n21     220    1.0   21.0     3.0    30.0   25      3    1.00  1.00  46.895644  \n24     125    1.0   11.0    13.0    30.0   25      2    1.00  1.00  32.207582  \n25     200    1.0   14.0    11.0    25.0   25      1    1.00  0.75  31.435973  \n27     160    5.0   12.0    10.0   200.0   25      3    1.25  0.67  40.917047  \n28     240    5.0   14.0    12.0   190.0   25      3    1.33  0.67  41.015492  \n29     135    0.0   13.0    12.0    25.0   25      2    1.00  0.75  28.025765  \n31     280    0.0   15.0     9.0    45.0   25      2    1.00  0.75  23.804043  \n33     170    3.0   17.0     3.0    90.0   25      3    1.00  0.25  53.371007  \n34      75    3.0   13.0     4.0   100.0   25      3    1.00  0.33  45.811716  \n35     220    1.0   12.0    11.0    45.0   25      2    1.00  1.00  21.871292  \n36     250    1.5   11.5    10.0    90.0   25      1    1.00  0.75  31.072217  \n37     180    0.0   14.0    11.0    35.0   25      1    1.00  1.33  28.742414  \n38     170    1.0   17.0     6.0    60.0  100      3    1.00  1.00  36.523683  \n39     170    2.0   20.0     9.0    95.0  100      3    1.30  0.75  36.471512  \n40     260    0.0   21.0     3.0    40.0   25      2    1.00  1.50  39.241114  \n42     180    0.0   12.0    12.0    55.0   25      2    1.00  1.00  26.734515  \n44      95    3.0   16.0    11.0   170.0   25      3    1.00  1.00  37.136863  \n45     150    3.0   16.0    11.0   170.0   25      3    1.00  1.00  34.139765  \n46     150    3.0   17.0    13.0   160.0   25      3    1.50  0.67  30.313351  \n48     190    0.0   15.0     9.0    40.0   25      2    1.00  0.67  29.924285  \n49     220    3.0   21.0     7.0   130.0   25      3    1.33  0.67  40.692320  \n51     170    1.5   13.5    10.0   120.0   25      3    1.25  0.50  30.450843  \n52     200    6.0   11.0    14.0   260.0   25      3    1.33  0.67  37.840594  \n58     210    5.0   14.0    12.0   240.0   25      2    1.33  0.75  39.259197  ",
      "text/html": "<div>\n<style scoped>\n    .dataframe tbody tr th:only-of-type {\n        vertical-align: middle;\n    }\n\n    .dataframe tbody tr th {\n        vertical-align: top;\n    }\n\n    .dataframe thead th {\n        text-align: right;\n    }\n</style>\n<table border=\"1\" class=\"dataframe\">\n  <thead>\n    <tr style=\"text-align: right;\">\n      <th></th>\n      <th>Name</th>\n      <th>Manuf</th>\n      <th>Type</th>\n      <th>Cal</th>\n      <th>Protein</th>\n      <th>Fat</th>\n      <th>Sodium</th>\n      <th>Fiber</th>\n      <th>Carbo</th>\n      <th>Sugars</th>\n      <th>Potass</th>\n      <th>Vit</th>\n      <th>Shelf</th>\n      <th>Weight</th>\n      <th>Cups</th>\n      <th>Rating</th>\n    </tr>\n  </thead>\n  <tbody>\n    <tr>\n      <th>1</th>\n      <td>100%_Natural_Bran</td>\n      <td>Q</td>\n      <td>Cold</td>\n      <td>120</td>\n      <td>3</td>\n      <td>5</td>\n      <td>15</td>\n      <td>2.0</td>\n      <td>8.0</td>\n      <td>8.0</td>\n      <td>135.0</td>\n      <td>0</td>\n      <td>3</td>\n      <td>1.00</td>\n      <td>1.00</td>\n      <td>33.983679</td>\n    </tr>\n    <tr>\n      <th>4</th>\n      <td>Almond_Delight</td>\n      <td>R</td>\n      <td>Cold</td>\n      <td>110</td>\n      <td>2</td>\n      <td>2</td>\n      <td>200</td>\n      <td>1.0</td>\n      <td>14.0</td>\n      <td>8.0</td>\n      <td>NaN</td>\n      <td>25</td>\n      <td>3</td>\n      <td>1.00</td>\n      <td>0.75</td>\n      <td>34.384843</td>\n    </tr>\n    <tr>\n      <th>5</th>\n      <td>Apple_Cinnamon_Cheerios</td>\n      <td>G</td>\n      <td>Cold</td>\n      <td>110</td>\n      <td>2</td>\n      <td>2</td>\n      <td>180</td>\n      <td>1.5</td>\n      <td>10.5</td>\n      <td>10.0</td>\n      <td>70.0</td>\n      <td>25</td>\n      <td>1</td>\n      <td>1.00</td>\n      <td>0.75</td>\n      <td>29.509541</td>\n    </tr>\n    <tr>\n      <th>6</th>\n      <td>Apple_Jacks</td>\n      <td>K</td>\n      <td>Cold</td>\n      <td>110</td>\n      <td>2</td>\n      <td>0</td>\n      <td>125</td>\n      <td>1.0</td>\n      <td>11.0</td>\n      <td>14.0</td>\n      <td>30.0</td>\n      <td>25</td>\n      <td>2</td>\n      <td>1.00</td>\n      <td>1.00</td>\n      <td>33.174094</td>\n    </tr>\n    <tr>\n      <th>7</th>\n      <td>Basic_4</td>\n      <td>G</td>\n      <td>Cold</td>\n      <td>130</td>\n      <td>3</td>\n      <td>2</td>\n      <td>210</td>\n      <td>2.0</td>\n      <td>18.0</td>\n      <td>8.0</td>\n      <td>100.0</td>\n      <td>25</td>\n      <td>3</td>\n      <td>1.33</td>\n      <td>0.75</td>\n      <td>37.038562</td>\n    </tr>\n    <tr>\n      <th>10</th>\n      <td>Cap'n'Crunch</td>\n      <td>Q</td>\n      <td>Cold</td>\n      <td>120</td>\n      <td>1</td>\n      <td>2</td>\n      <td>220</td>\n      <td>0.0</td>\n      <td>12.0</td>\n      <td>12.0</td>\n      <td>35.0</td>\n      <td>25</td>\n      <td>2</td>\n      <td>1.00</td>\n      <td>0.75</td>\n      <td>18.042851</td>\n    </tr>\n    <tr>\n      <th>11</th>\n      <td>Cheerios</td>\n      <td>G</td>\n      <td>Cold</td>\n      <td>110</td>\n      <td>6</td>\n      <td>2</td>\n      <td>290</td>\n      <td>2.0</td>\n      <td>17.0</td>\n      <td>1.0</td>\n      <td>105.0</td>\n      <td>25</td>\n      <td>1</td>\n      <td>1.00</td>\n      <td>1.25</td>\n      <td>50.764999</td>\n    </tr>\n    <tr>\n      <th>12</th>\n      <td>Cinnamon_Toast_Crunch</td>\n      <td>G</td>\n      <td>Cold</td>\n      <td>120</td>\n      <td>1</td>\n      <td>3</td>\n      <td>210</td>\n      <td>0.0</td>\n      <td>13.0</td>\n      <td>9.0</td>\n      <td>45.0</td>\n      <td>25</td>\n      <td>2</td>\n      <td>1.00</td>\n      <td>0.75</td>\n      <td>19.823573</td>\n    </tr>\n    <tr>\n      <th>13</th>\n      <td>Clusters</td>\n      <td>G</td>\n      <td>Cold</td>\n      <td>110</td>\n      <td>3</td>\n      <td>2</td>\n      <td>140</td>\n      <td>2.0</td>\n      <td>13.0</td>\n      <td>7.0</td>\n      <td>105.0</td>\n      <td>25</td>\n      <td>3</td>\n      <td>1.00</td>\n      <td>0.50</td>\n      <td>40.400208</td>\n    </tr>\n    <tr>\n      <th>14</th>\n      <td>Cocoa_Puffs</td>\n      <td>G</td>\n      <td>Cold</td>\n      <td>110</td>\n      <td>1</td>\n      <td>1</td>\n      <td>180</td>\n      <td>0.0</td>\n      <td>12.0</td>\n      <td>13.0</td>\n      <td>55.0</td>\n      <td>25</td>\n      <td>2</td>\n      <td>1.00</td>\n      <td>1.00</td>\n      <td>22.736446</td>\n    </tr>\n    <tr>\n      <th>15</th>\n      <td>Corn_Chex</td>\n      <td>R</td>\n      <td>Cold</td>\n      <td>110</td>\n      <td>2</td>\n      <td>0</td>\n      <td>280</td>\n      <td>0.0</td>\n      <td>22.0</td>\n      <td>3.0</td>\n      <td>25.0</td>\n      <td>25</td>\n      <td>1</td>\n      <td>1.00</td>\n      <td>1.00</td>\n      <td>41.445019</td>\n    </tr>\n    <tr>\n      <th>17</th>\n      <td>Corn_Pops</td>\n      <td>K</td>\n      <td>Cold</td>\n      <td>110</td>\n      <td>1</td>\n      <td>0</td>\n      <td>90</td>\n      <td>1.0</td>\n      <td>13.0</td>\n      <td>12.0</td>\n      <td>20.0</td>\n      <td>25</td>\n      <td>2</td>\n      <td>1.00</td>\n      <td>1.00</td>\n      <td>35.782791</td>\n    </tr>\n    <tr>\n      <th>18</th>\n      <td>Count_Chocula</td>\n      <td>G</td>\n      <td>Cold</td>\n      <td>110</td>\n      <td>1</td>\n      <td>1</td>\n      <td>180</td>\n      <td>0.0</td>\n      <td>12.0</td>\n      <td>13.0</td>\n      <td>65.0</td>\n      <td>25</td>\n      <td>2</td>\n      <td>1.00</td>\n      <td>1.00</td>\n      <td>22.396513</td>\n    </tr>\n    <tr>\n      <th>19</th>\n      <td>Cracklin'_Oat_Bran</td>\n      <td>K</td>\n      <td>Cold</td>\n      <td>110</td>\n      <td>3</td>\n      <td>3</td>\n      <td>140</td>\n      <td>4.0</td>\n      <td>10.0</td>\n      <td>7.0</td>\n      <td>160.0</td>\n      <td>25</td>\n      <td>3</td>\n      <td>1.00</td>\n      <td>0.50</td>\n      <td>40.448772</td>\n    </tr>\n    <tr>\n      <th>21</th>\n      <td>Crispix</td>\n      <td>K</td>\n      <td>Cold</td>\n      <td>110</td>\n      <td>2</td>\n      <td>0</td>\n      <td>220</td>\n      <td>1.0</td>\n      <td>21.0</td>\n      <td>3.0</td>\n      <td>30.0</td>\n      <td>25</td>\n      <td>3</td>\n      <td>1.00</td>\n      <td>1.00</td>\n      <td>46.895644</td>\n    </tr>\n    <tr>\n      <th>24</th>\n      <td>Froot_Loops</td>\n      <td>K</td>\n      <td>Cold</td>\n      <td>110</td>\n      <td>2</td>\n      <td>1</td>\n      <td>125</td>\n      <td>1.0</td>\n      <td>11.0</td>\n      <td>13.0</td>\n      <td>30.0</td>\n      <td>25</td>\n      <td>2</td>\n      <td>1.00</td>\n      <td>1.00</td>\n      <td>32.207582</td>\n    </tr>\n    <tr>\n      <th>25</th>\n      <td>Frosted_Flakes</td>\n      <td>K</td>\n      <td>Cold</td>\n      <td>110</td>\n      <td>1</td>\n      <td>0</td>\n      <td>200</td>\n      <td>1.0</td>\n      <td>14.0</td>\n      <td>11.0</td>\n      <td>25.0</td>\n      <td>25</td>\n      <td>1</td>\n      <td>1.00</td>\n      <td>0.75</td>\n      <td>31.435973</td>\n    </tr>\n    <tr>\n      <th>27</th>\n      <td>Fruit_&amp;_Fibre_Dates,_Walnuts,_and_Oats</td>\n      <td>P</td>\n      <td>Cold</td>\n      <td>120</td>\n      <td>3</td>\n      <td>2</td>\n      <td>160</td>\n      <td>5.0</td>\n      <td>12.0</td>\n      <td>10.0</td>\n      <td>200.0</td>\n      <td>25</td>\n      <td>3</td>\n      <td>1.25</td>\n      <td>0.67</td>\n      <td>40.917047</td>\n    </tr>\n    <tr>\n      <th>28</th>\n      <td>Fruitful_Bran</td>\n      <td>K</td>\n      <td>Cold</td>\n      <td>120</td>\n      <td>3</td>\n      <td>0</td>\n      <td>240</td>\n      <td>5.0</td>\n      <td>14.0</td>\n      <td>12.0</td>\n      <td>190.0</td>\n      <td>25</td>\n      <td>3</td>\n      <td>1.33</td>\n      <td>0.67</td>\n      <td>41.015492</td>\n    </tr>\n    <tr>\n      <th>29</th>\n      <td>Fruity_Pebbles</td>\n      <td>P</td>\n      <td>Cold</td>\n      <td>110</td>\n      <td>1</td>\n      <td>1</td>\n      <td>135</td>\n      <td>0.0</td>\n      <td>13.0</td>\n      <td>12.0</td>\n      <td>25.0</td>\n      <td>25</td>\n      <td>2</td>\n      <td>1.00</td>\n      <td>0.75</td>\n      <td>28.025765</td>\n    </tr>\n    <tr>\n      <th>31</th>\n      <td>Golden_Grahams</td>\n      <td>G</td>\n      <td>Cold</td>\n      <td>110</td>\n      <td>1</td>\n      <td>1</td>\n      <td>280</td>\n      <td>0.0</td>\n      <td>15.0</td>\n      <td>9.0</td>\n      <td>45.0</td>\n      <td>25</td>\n      <td>2</td>\n      <td>1.00</td>\n      <td>0.75</td>\n      <td>23.804043</td>\n    </tr>\n    <tr>\n      <th>33</th>\n      <td>Grape-Nuts</td>\n      <td>P</td>\n      <td>Cold</td>\n      <td>110</td>\n      <td>3</td>\n      <td>0</td>\n      <td>170</td>\n      <td>3.0</td>\n      <td>17.0</td>\n      <td>3.0</td>\n      <td>90.0</td>\n      <td>25</td>\n      <td>3</td>\n      <td>1.00</td>\n      <td>0.25</td>\n      <td>53.371007</td>\n    </tr>\n    <tr>\n      <th>34</th>\n      <td>Great_Grains_Pecan</td>\n      <td>P</td>\n      <td>Cold</td>\n      <td>120</td>\n      <td>3</td>\n      <td>3</td>\n      <td>75</td>\n      <td>3.0</td>\n      <td>13.0</td>\n      <td>4.0</td>\n      <td>100.0</td>\n      <td>25</td>\n      <td>3</td>\n      <td>1.00</td>\n      <td>0.33</td>\n      <td>45.811716</td>\n    </tr>\n    <tr>\n      <th>35</th>\n      <td>Honey_Graham_Ohs</td>\n      <td>Q</td>\n      <td>Cold</td>\n      <td>120</td>\n      <td>1</td>\n      <td>2</td>\n      <td>220</td>\n      <td>1.0</td>\n      <td>12.0</td>\n      <td>11.0</td>\n      <td>45.0</td>\n      <td>25</td>\n      <td>2</td>\n      <td>1.00</td>\n      <td>1.00</td>\n      <td>21.871292</td>\n    </tr>\n    <tr>\n      <th>36</th>\n      <td>Honey_Nut_Cheerios</td>\n      <td>G</td>\n      <td>Cold</td>\n      <td>110</td>\n      <td>3</td>\n      <td>1</td>\n      <td>250</td>\n      <td>1.5</td>\n      <td>11.5</td>\n      <td>10.0</td>\n      <td>90.0</td>\n      <td>25</td>\n      <td>1</td>\n      <td>1.00</td>\n      <td>0.75</td>\n      <td>31.072217</td>\n    </tr>\n    <tr>\n      <th>37</th>\n      <td>Honey-comb</td>\n      <td>P</td>\n      <td>Cold</td>\n      <td>110</td>\n      <td>1</td>\n      <td>0</td>\n      <td>180</td>\n      <td>0.0</td>\n      <td>14.0</td>\n      <td>11.0</td>\n      <td>35.0</td>\n      <td>25</td>\n      <td>1</td>\n      <td>1.00</td>\n      <td>1.33</td>\n      <td>28.742414</td>\n    </tr>\n    <tr>\n      <th>38</th>\n      <td>Just_Right_Crunchy__Nuggets</td>\n      <td>K</td>\n      <td>Cold</td>\n      <td>110</td>\n      <td>2</td>\n      <td>1</td>\n      <td>170</td>\n      <td>1.0</td>\n      <td>17.0</td>\n      <td>6.0</td>\n      <td>60.0</td>\n      <td>100</td>\n      <td>3</td>\n      <td>1.00</td>\n      <td>1.00</td>\n      <td>36.523683</td>\n    </tr>\n    <tr>\n      <th>39</th>\n      <td>Just_Right_Fruit_&amp;_Nut</td>\n      <td>K</td>\n      <td>Cold</td>\n      <td>140</td>\n      <td>3</td>\n      <td>1</td>\n      <td>170</td>\n      <td>2.0</td>\n      <td>20.0</td>\n      <td>9.0</td>\n      <td>95.0</td>\n      <td>100</td>\n      <td>3</td>\n      <td>1.30</td>\n      <td>0.75</td>\n      <td>36.471512</td>\n    </tr>\n    <tr>\n      <th>40</th>\n      <td>Kix</td>\n      <td>G</td>\n      <td>Cold</td>\n      <td>110</td>\n      <td>2</td>\n      <td>1</td>\n      <td>260</td>\n      <td>0.0</td>\n      <td>21.0</td>\n      <td>3.0</td>\n      <td>40.0</td>\n      <td>25</td>\n      <td>2</td>\n      <td>1.00</td>\n      <td>1.50</td>\n      <td>39.241114</td>\n    </tr>\n    <tr>\n      <th>42</th>\n      <td>Lucky_Charms</td>\n      <td>G</td>\n      <td>Cold</td>\n      <td>110</td>\n      <td>2</td>\n      <td>1</td>\n      <td>180</td>\n      <td>0.0</td>\n      <td>12.0</td>\n      <td>12.0</td>\n      <td>55.0</td>\n      <td>25</td>\n      <td>2</td>\n      <td>1.00</td>\n      <td>1.00</td>\n      <td>26.734515</td>\n    </tr>\n    <tr>\n      <th>44</th>\n      <td>Muesli_Raisins,_Dates,_&amp;_Almonds</td>\n      <td>R</td>\n      <td>Cold</td>\n      <td>110</td>\n      <td>4</td>\n      <td>3</td>\n      <td>95</td>\n      <td>3.0</td>\n      <td>16.0</td>\n      <td>11.0</td>\n      <td>170.0</td>\n      <td>25</td>\n      <td>3</td>\n      <td>1.00</td>\n      <td>1.00</td>\n      <td>37.136863</td>\n    </tr>\n    <tr>\n      <th>45</th>\n      <td>Muesli_Raisins,_Peaches,_&amp;_Pecans</td>\n      <td>R</td>\n      <td>Cold</td>\n      <td>150</td>\n      <td>4</td>\n      <td>3</td>\n      <td>150</td>\n      <td>3.0</td>\n      <td>16.0</td>\n      <td>11.0</td>\n      <td>170.0</td>\n      <td>25</td>\n      <td>3</td>\n      <td>1.00</td>\n      <td>1.00</td>\n      <td>34.139765</td>\n    </tr>\n    <tr>\n      <th>46</th>\n      <td>Mueslix_Crispy_Blend</td>\n      <td>K</td>\n      <td>Cold</td>\n      <td>160</td>\n      <td>3</td>\n      <td>2</td>\n      <td>150</td>\n      <td>3.0</td>\n      <td>17.0</td>\n      <td>13.0</td>\n      <td>160.0</td>\n      <td>25</td>\n      <td>3</td>\n      <td>1.50</td>\n      <td>0.67</td>\n      <td>30.313351</td>\n    </tr>\n    <tr>\n      <th>48</th>\n      <td>Nut&amp;Honey_Crunch</td>\n      <td>K</td>\n      <td>Cold</td>\n      <td>120</td>\n      <td>2</td>\n      <td>1</td>\n      <td>190</td>\n      <td>0.0</td>\n      <td>15.0</td>\n      <td>9.0</td>\n      <td>40.0</td>\n      <td>25</td>\n      <td>2</td>\n      <td>1.00</td>\n      <td>0.67</td>\n      <td>29.924285</td>\n    </tr>\n    <tr>\n      <th>49</th>\n      <td>Nutri-Grain_Almond-Raisin</td>\n      <td>K</td>\n      <td>Cold</td>\n      <td>140</td>\n      <td>3</td>\n      <td>2</td>\n      <td>220</td>\n      <td>3.0</td>\n      <td>21.0</td>\n      <td>7.0</td>\n      <td>130.0</td>\n      <td>25</td>\n      <td>3</td>\n      <td>1.33</td>\n      <td>0.67</td>\n      <td>40.692320</td>\n    </tr>\n    <tr>\n      <th>51</th>\n      <td>Oatmeal_Raisin_Crisp</td>\n      <td>G</td>\n      <td>Cold</td>\n      <td>130</td>\n      <td>3</td>\n      <td>2</td>\n      <td>170</td>\n      <td>1.5</td>\n      <td>13.5</td>\n      <td>10.0</td>\n      <td>120.0</td>\n      <td>25</td>\n      <td>3</td>\n      <td>1.25</td>\n      <td>0.50</td>\n      <td>30.450843</td>\n    </tr>\n    <tr>\n      <th>52</th>\n      <td>Post_Nat._Raisin_Bran</td>\n      <td>P</td>\n      <td>Cold</td>\n      <td>120</td>\n      <td>3</td>\n      <td>1</td>\n      <td>200</td>\n      <td>6.0</td>\n      <td>11.0</td>\n      <td>14.0</td>\n      <td>260.0</td>\n      <td>25</td>\n      <td>3</td>\n      <td>1.33</td>\n      <td>0.67</td>\n      <td>37.840594</td>\n    </tr>\n    <tr>\n      <th>58</th>\n      <td>Raisin_Bran</td>\n      <td>K</td>\n      <td>Cold</td>\n      <td>120</td>\n      <td>3</td>\n      <td>1</td>\n      <td>210</td>\n      <td>5.0</td>\n      <td>14.0</td>\n      <td>12.0</td>\n      <td>240.0</td>\n      <td>25</td>\n      <td>2</td>\n      <td>1.33</td>\n      <td>0.75</td>\n      <td>39.259197</td>\n    </tr>\n  </tbody>\n</table>\n</div>"
     },
     "execution_count": 17,
     "metadata": {},
     "output_type": "execute_result"
    }
   ],
   "source": [
    "cereals_data[cereals_data['Cal'] > 100]"
   ]
  },
  {
   "cell_type": "markdown",
   "metadata": {
    "id": "Myxxhs4M0wZB"
   },
   "source": [
    "Use boolean indexing again to select rows with calories greater than 120, but additionally only the rows that also meet the condition that the `Manuf` is 'K'."
   ]
  },
  {
   "cell_type": "code",
   "execution_count": 18,
   "metadata": {
    "id": "JQ_76xG4P9ZE"
   },
   "outputs": [
    {
     "data": {
      "text/plain": "                         Name Manuf  Type  Cal  Protein  Fat  Sodium  Fiber  \\\n39     Just_Right_Fruit_&_Nut     K  Cold  140        3    1     170    2.0   \n46       Mueslix_Crispy_Blend     K  Cold  160        3    2     150    3.0   \n49  Nutri-Grain_Almond-Raisin     K  Cold  140        3    2     220    3.0   \n\n    Carbo  Sugars  Potass  Vit  Shelf  Weight  Cups     Rating  \n39   20.0     9.0    95.0  100      3    1.30  0.75  36.471512  \n46   17.0    13.0   160.0   25      3    1.50  0.67  30.313351  \n49   21.0     7.0   130.0   25      3    1.33  0.67  40.692320  ",
      "text/html": "<div>\n<style scoped>\n    .dataframe tbody tr th:only-of-type {\n        vertical-align: middle;\n    }\n\n    .dataframe tbody tr th {\n        vertical-align: top;\n    }\n\n    .dataframe thead th {\n        text-align: right;\n    }\n</style>\n<table border=\"1\" class=\"dataframe\">\n  <thead>\n    <tr style=\"text-align: right;\">\n      <th></th>\n      <th>Name</th>\n      <th>Manuf</th>\n      <th>Type</th>\n      <th>Cal</th>\n      <th>Protein</th>\n      <th>Fat</th>\n      <th>Sodium</th>\n      <th>Fiber</th>\n      <th>Carbo</th>\n      <th>Sugars</th>\n      <th>Potass</th>\n      <th>Vit</th>\n      <th>Shelf</th>\n      <th>Weight</th>\n      <th>Cups</th>\n      <th>Rating</th>\n    </tr>\n  </thead>\n  <tbody>\n    <tr>\n      <th>39</th>\n      <td>Just_Right_Fruit_&amp;_Nut</td>\n      <td>K</td>\n      <td>Cold</td>\n      <td>140</td>\n      <td>3</td>\n      <td>1</td>\n      <td>170</td>\n      <td>2.0</td>\n      <td>20.0</td>\n      <td>9.0</td>\n      <td>95.0</td>\n      <td>100</td>\n      <td>3</td>\n      <td>1.30</td>\n      <td>0.75</td>\n      <td>36.471512</td>\n    </tr>\n    <tr>\n      <th>46</th>\n      <td>Mueslix_Crispy_Blend</td>\n      <td>K</td>\n      <td>Cold</td>\n      <td>160</td>\n      <td>3</td>\n      <td>2</td>\n      <td>150</td>\n      <td>3.0</td>\n      <td>17.0</td>\n      <td>13.0</td>\n      <td>160.0</td>\n      <td>25</td>\n      <td>3</td>\n      <td>1.50</td>\n      <td>0.67</td>\n      <td>30.313351</td>\n    </tr>\n    <tr>\n      <th>49</th>\n      <td>Nutri-Grain_Almond-Raisin</td>\n      <td>K</td>\n      <td>Cold</td>\n      <td>140</td>\n      <td>3</td>\n      <td>2</td>\n      <td>220</td>\n      <td>3.0</td>\n      <td>21.0</td>\n      <td>7.0</td>\n      <td>130.0</td>\n      <td>25</td>\n      <td>3</td>\n      <td>1.33</td>\n      <td>0.67</td>\n      <td>40.692320</td>\n    </tr>\n  </tbody>\n</table>\n</div>"
     },
     "execution_count": 18,
     "metadata": {},
     "output_type": "execute_result"
    }
   ],
   "source": [
    "cereals_data[(cereals_data['Cal'] > 120) & (cereals_data['Manuf'] == 'K')]"
   ]
  },
  {
   "cell_type": "markdown",
   "metadata": {
    "id": "qG-RZ1Q71CNw"
   },
   "source": [
    "Select the same rows as above (calories > 120 and manufacturer being 'K'), but using the `query` method.\n",
    "\n",
    "`query` was not covered in class, so here is a [link](https://pandas.pydata.org/pandas-docs/stable/reference/api/pandas.DataFrame.query.html) to the corresponding documentation. Simply put, `query` behaves just like boolean indexing, but uses a slightly more succinct syntax in string format."
   ]
  },
  {
   "cell_type": "code",
   "execution_count": 19,
   "metadata": {
    "id": "DaZ71hQoPgQX"
   },
   "outputs": [
    {
     "data": {
      "text/plain": "                         Name Manuf  Type  Cal  Protein  Fat  Sodium  Fiber  \\\n39     Just_Right_Fruit_&_Nut     K  Cold  140        3    1     170    2.0   \n46       Mueslix_Crispy_Blend     K  Cold  160        3    2     150    3.0   \n49  Nutri-Grain_Almond-Raisin     K  Cold  140        3    2     220    3.0   \n\n    Carbo  Sugars  Potass  Vit  Shelf  Weight  Cups     Rating  \n39   20.0     9.0    95.0  100      3    1.30  0.75  36.471512  \n46   17.0    13.0   160.0   25      3    1.50  0.67  30.313351  \n49   21.0     7.0   130.0   25      3    1.33  0.67  40.692320  ",
      "text/html": "<div>\n<style scoped>\n    .dataframe tbody tr th:only-of-type {\n        vertical-align: middle;\n    }\n\n    .dataframe tbody tr th {\n        vertical-align: top;\n    }\n\n    .dataframe thead th {\n        text-align: right;\n    }\n</style>\n<table border=\"1\" class=\"dataframe\">\n  <thead>\n    <tr style=\"text-align: right;\">\n      <th></th>\n      <th>Name</th>\n      <th>Manuf</th>\n      <th>Type</th>\n      <th>Cal</th>\n      <th>Protein</th>\n      <th>Fat</th>\n      <th>Sodium</th>\n      <th>Fiber</th>\n      <th>Carbo</th>\n      <th>Sugars</th>\n      <th>Potass</th>\n      <th>Vit</th>\n      <th>Shelf</th>\n      <th>Weight</th>\n      <th>Cups</th>\n      <th>Rating</th>\n    </tr>\n  </thead>\n  <tbody>\n    <tr>\n      <th>39</th>\n      <td>Just_Right_Fruit_&amp;_Nut</td>\n      <td>K</td>\n      <td>Cold</td>\n      <td>140</td>\n      <td>3</td>\n      <td>1</td>\n      <td>170</td>\n      <td>2.0</td>\n      <td>20.0</td>\n      <td>9.0</td>\n      <td>95.0</td>\n      <td>100</td>\n      <td>3</td>\n      <td>1.30</td>\n      <td>0.75</td>\n      <td>36.471512</td>\n    </tr>\n    <tr>\n      <th>46</th>\n      <td>Mueslix_Crispy_Blend</td>\n      <td>K</td>\n      <td>Cold</td>\n      <td>160</td>\n      <td>3</td>\n      <td>2</td>\n      <td>150</td>\n      <td>3.0</td>\n      <td>17.0</td>\n      <td>13.0</td>\n      <td>160.0</td>\n      <td>25</td>\n      <td>3</td>\n      <td>1.50</td>\n      <td>0.67</td>\n      <td>30.313351</td>\n    </tr>\n    <tr>\n      <th>49</th>\n      <td>Nutri-Grain_Almond-Raisin</td>\n      <td>K</td>\n      <td>Cold</td>\n      <td>140</td>\n      <td>3</td>\n      <td>2</td>\n      <td>220</td>\n      <td>3.0</td>\n      <td>21.0</td>\n      <td>7.0</td>\n      <td>130.0</td>\n      <td>25</td>\n      <td>3</td>\n      <td>1.33</td>\n      <td>0.67</td>\n      <td>40.692320</td>\n    </tr>\n  </tbody>\n</table>\n</div>"
     },
     "execution_count": 19,
     "metadata": {},
     "output_type": "execute_result"
    }
   ],
   "source": [
    "cereals_data.query('Cal>120 & Manuf==\"K\"')"
   ]
  },
  {
   "cell_type": "markdown",
   "metadata": {
    "id": "FQK7wXlJRref"
   },
   "source": [
    "# Question 3 - Combining Data"
   ]
  },
  {
   "cell_type": "markdown",
   "metadata": {
    "id": "-e4mq8zA2Laz"
   },
   "source": [
    "## Part (a)\n",
    "\n",
    "### 2 points\n",
    "\n",
    "\n",
    "Read the .csv file `cereal_names.csv` as a data frame called `cereal_names` and output the first five rows."
   ]
  },
  {
   "cell_type": "code",
   "execution_count": 20,
   "metadata": {
    "id": "1kWpfncvRI_b"
   },
   "outputs": [
    {
     "data": {
      "text/plain": "   Nabisco  Quaker  Kelloggs  GeneralMills  Ralston  AHFP\n0        1       0         0             0        0     0\n1        0       1         0             0        0     0\n2        0       0         1             0        0     0\n3        0       0         1             0        0     0\n4        0       0         0             0        1     0",
      "text/html": "<div>\n<style scoped>\n    .dataframe tbody tr th:only-of-type {\n        vertical-align: middle;\n    }\n\n    .dataframe tbody tr th {\n        vertical-align: top;\n    }\n\n    .dataframe thead th {\n        text-align: right;\n    }\n</style>\n<table border=\"1\" class=\"dataframe\">\n  <thead>\n    <tr style=\"text-align: right;\">\n      <th></th>\n      <th>Nabisco</th>\n      <th>Quaker</th>\n      <th>Kelloggs</th>\n      <th>GeneralMills</th>\n      <th>Ralston</th>\n      <th>AHFP</th>\n    </tr>\n  </thead>\n  <tbody>\n    <tr>\n      <th>0</th>\n      <td>1</td>\n      <td>0</td>\n      <td>0</td>\n      <td>0</td>\n      <td>0</td>\n      <td>0</td>\n    </tr>\n    <tr>\n      <th>1</th>\n      <td>0</td>\n      <td>1</td>\n      <td>0</td>\n      <td>0</td>\n      <td>0</td>\n      <td>0</td>\n    </tr>\n    <tr>\n      <th>2</th>\n      <td>0</td>\n      <td>0</td>\n      <td>1</td>\n      <td>0</td>\n      <td>0</td>\n      <td>0</td>\n    </tr>\n    <tr>\n      <th>3</th>\n      <td>0</td>\n      <td>0</td>\n      <td>1</td>\n      <td>0</td>\n      <td>0</td>\n      <td>0</td>\n    </tr>\n    <tr>\n      <th>4</th>\n      <td>0</td>\n      <td>0</td>\n      <td>0</td>\n      <td>0</td>\n      <td>1</td>\n      <td>0</td>\n    </tr>\n  </tbody>\n</table>\n</div>"
     },
     "execution_count": 20,
     "metadata": {},
     "output_type": "execute_result"
    }
   ],
   "source": [
    "cereal_names = pd.read_csv(\"cereal_names.csv\")\n",
    "cereal_names.head()"
   ]
  },
  {
   "cell_type": "markdown",
   "metadata": {
    "id": "1gNvz9t32jnN"
   },
   "source": [
    "Create a new data frame called `cereals_data2` that combines (joins) `cereals_data` with `cereal_names` horizontally, placing `cereal_names` on the right. Output the first five rows and last 10 columns to confirm the resulting combined data frame. (Remember that negative indexes wrap around to the end of an array-like structure.)"
   ]
  },
  {
   "cell_type": "code",
   "execution_count": 21,
   "metadata": {
    "id": "FNgSUpIMUSDE"
   },
   "outputs": [
    {
     "data": {
      "text/plain": "   Shelf  Weight  Cups     Rating  Nabisco  Quaker  Kelloggs  GeneralMills  \\\n0      3     1.0  0.33  68.402973        1       0         0             0   \n1      3     1.0  1.00  33.983679        0       1         0             0   \n2      3     1.0  0.33  59.425505        0       0         1             0   \n3      3     1.0  0.50  93.704912        0       0         1             0   \n4      3     1.0  0.75  34.384843        0       0         0             0   \n\n   Ralston  AHFP  \n0        0     0  \n1        0     0  \n2        0     0  \n3        0     0  \n4        1     0  ",
      "text/html": "<div>\n<style scoped>\n    .dataframe tbody tr th:only-of-type {\n        vertical-align: middle;\n    }\n\n    .dataframe tbody tr th {\n        vertical-align: top;\n    }\n\n    .dataframe thead th {\n        text-align: right;\n    }\n</style>\n<table border=\"1\" class=\"dataframe\">\n  <thead>\n    <tr style=\"text-align: right;\">\n      <th></th>\n      <th>Shelf</th>\n      <th>Weight</th>\n      <th>Cups</th>\n      <th>Rating</th>\n      <th>Nabisco</th>\n      <th>Quaker</th>\n      <th>Kelloggs</th>\n      <th>GeneralMills</th>\n      <th>Ralston</th>\n      <th>AHFP</th>\n    </tr>\n  </thead>\n  <tbody>\n    <tr>\n      <th>0</th>\n      <td>3</td>\n      <td>1.0</td>\n      <td>0.33</td>\n      <td>68.402973</td>\n      <td>1</td>\n      <td>0</td>\n      <td>0</td>\n      <td>0</td>\n      <td>0</td>\n      <td>0</td>\n    </tr>\n    <tr>\n      <th>1</th>\n      <td>3</td>\n      <td>1.0</td>\n      <td>1.00</td>\n      <td>33.983679</td>\n      <td>0</td>\n      <td>1</td>\n      <td>0</td>\n      <td>0</td>\n      <td>0</td>\n      <td>0</td>\n    </tr>\n    <tr>\n      <th>2</th>\n      <td>3</td>\n      <td>1.0</td>\n      <td>0.33</td>\n      <td>59.425505</td>\n      <td>0</td>\n      <td>0</td>\n      <td>1</td>\n      <td>0</td>\n      <td>0</td>\n      <td>0</td>\n    </tr>\n    <tr>\n      <th>3</th>\n      <td>3</td>\n      <td>1.0</td>\n      <td>0.50</td>\n      <td>93.704912</td>\n      <td>0</td>\n      <td>0</td>\n      <td>1</td>\n      <td>0</td>\n      <td>0</td>\n      <td>0</td>\n    </tr>\n    <tr>\n      <th>4</th>\n      <td>3</td>\n      <td>1.0</td>\n      <td>0.75</td>\n      <td>34.384843</td>\n      <td>0</td>\n      <td>0</td>\n      <td>0</td>\n      <td>0</td>\n      <td>1</td>\n      <td>0</td>\n    </tr>\n  </tbody>\n</table>\n</div>"
     },
     "execution_count": 21,
     "metadata": {},
     "output_type": "execute_result"
    }
   ],
   "source": [
    "cereals_data2 = cereals_data.join(cereal_names)\n",
    "cereals_data2.iloc[:,-10:].head(5)"
   ]
  },
  {
   "cell_type": "markdown",
   "metadata": {
    "id": "obafrEJ_3CIb"
   },
   "source": [
    "## Part (b)\n",
    "\n",
    "### 4 points\n",
    "\n",
    "\n",
    "Read the .csv file `more_cereals_data.csv` as a data frame called `more_cereals_data`. As we did with `cereals_data.csv`, strip the column names of extraneous whitespace, and same for the columns `Name`, `Manuf`, and `Type`.\n",
    "\n",
    "Output the first five rows to get a look at the data."
   ]
  },
  {
   "cell_type": "code",
   "execution_count": 22,
   "metadata": {
    "id": "9YH1ai2EUmTC"
   },
   "outputs": [
    {
     "data": {
      "text/plain": "                  Name Manuf Type  Calories  Protein  Fat  Sodium  Fiber  \\\n0        Puffed_Wheat     Q    C         50        2    0       0    1.0   \n1  Quaker_Oat_Squares     Q    C        100        4    1     135    2.0   \n2      Quaker_Oatmeal     Q    H        100        5    2       0    2.7   \n3         Raisin_Bran     K    C        120        3    1     210    5.0   \n4     Raisin_Nut_Bran     G    C        100        3    2     140    2.5   \n\n   Carbo  Sugars  ...  Weight  Cups     Rating  Cold  Nabisco  Quaker  \\\n0   10.0     0.0  ...    0.50  1.00  63.005645     1        0       1   \n1   14.0     6.0  ...    1.00  0.50  49.511874     1        0       1   \n2    NaN     NaN  ...    1.00  0.67  50.828392     0        0       1   \n3   14.0    12.0  ...    1.33  0.75  39.259197     1        0       0   \n4   10.5     8.0  ...    1.00  0.50  39.703400     1        0       0   \n\n   Kelloggs  GeneralMills  Ralston  AHFP  \n0         0             0        0     0  \n1         0             0        0     0  \n2         0             0        0     0  \n3         1             0        0     0  \n4         0             1        0     0  \n\n[5 rows x 23 columns]",
      "text/html": "<div>\n<style scoped>\n    .dataframe tbody tr th:only-of-type {\n        vertical-align: middle;\n    }\n\n    .dataframe tbody tr th {\n        vertical-align: top;\n    }\n\n    .dataframe thead th {\n        text-align: right;\n    }\n</style>\n<table border=\"1\" class=\"dataframe\">\n  <thead>\n    <tr style=\"text-align: right;\">\n      <th></th>\n      <th>Name</th>\n      <th>Manuf</th>\n      <th>Type</th>\n      <th>Calories</th>\n      <th>Protein</th>\n      <th>Fat</th>\n      <th>Sodium</th>\n      <th>Fiber</th>\n      <th>Carbo</th>\n      <th>Sugars</th>\n      <th>...</th>\n      <th>Weight</th>\n      <th>Cups</th>\n      <th>Rating</th>\n      <th>Cold</th>\n      <th>Nabisco</th>\n      <th>Quaker</th>\n      <th>Kelloggs</th>\n      <th>GeneralMills</th>\n      <th>Ralston</th>\n      <th>AHFP</th>\n    </tr>\n  </thead>\n  <tbody>\n    <tr>\n      <th>0</th>\n      <td>Puffed_Wheat</td>\n      <td>Q</td>\n      <td>C</td>\n      <td>50</td>\n      <td>2</td>\n      <td>0</td>\n      <td>0</td>\n      <td>1.0</td>\n      <td>10.0</td>\n      <td>0.0</td>\n      <td>...</td>\n      <td>0.50</td>\n      <td>1.00</td>\n      <td>63.005645</td>\n      <td>1</td>\n      <td>0</td>\n      <td>1</td>\n      <td>0</td>\n      <td>0</td>\n      <td>0</td>\n      <td>0</td>\n    </tr>\n    <tr>\n      <th>1</th>\n      <td>Quaker_Oat_Squares</td>\n      <td>Q</td>\n      <td>C</td>\n      <td>100</td>\n      <td>4</td>\n      <td>1</td>\n      <td>135</td>\n      <td>2.0</td>\n      <td>14.0</td>\n      <td>6.0</td>\n      <td>...</td>\n      <td>1.00</td>\n      <td>0.50</td>\n      <td>49.511874</td>\n      <td>1</td>\n      <td>0</td>\n      <td>1</td>\n      <td>0</td>\n      <td>0</td>\n      <td>0</td>\n      <td>0</td>\n    </tr>\n    <tr>\n      <th>2</th>\n      <td>Quaker_Oatmeal</td>\n      <td>Q</td>\n      <td>H</td>\n      <td>100</td>\n      <td>5</td>\n      <td>2</td>\n      <td>0</td>\n      <td>2.7</td>\n      <td>NaN</td>\n      <td>NaN</td>\n      <td>...</td>\n      <td>1.00</td>\n      <td>0.67</td>\n      <td>50.828392</td>\n      <td>0</td>\n      <td>0</td>\n      <td>1</td>\n      <td>0</td>\n      <td>0</td>\n      <td>0</td>\n      <td>0</td>\n    </tr>\n    <tr>\n      <th>3</th>\n      <td>Raisin_Bran</td>\n      <td>K</td>\n      <td>C</td>\n      <td>120</td>\n      <td>3</td>\n      <td>1</td>\n      <td>210</td>\n      <td>5.0</td>\n      <td>14.0</td>\n      <td>12.0</td>\n      <td>...</td>\n      <td>1.33</td>\n      <td>0.75</td>\n      <td>39.259197</td>\n      <td>1</td>\n      <td>0</td>\n      <td>0</td>\n      <td>1</td>\n      <td>0</td>\n      <td>0</td>\n      <td>0</td>\n    </tr>\n    <tr>\n      <th>4</th>\n      <td>Raisin_Nut_Bran</td>\n      <td>G</td>\n      <td>C</td>\n      <td>100</td>\n      <td>3</td>\n      <td>2</td>\n      <td>140</td>\n      <td>2.5</td>\n      <td>10.5</td>\n      <td>8.0</td>\n      <td>...</td>\n      <td>1.00</td>\n      <td>0.50</td>\n      <td>39.703400</td>\n      <td>1</td>\n      <td>0</td>\n      <td>0</td>\n      <td>0</td>\n      <td>1</td>\n      <td>0</td>\n      <td>0</td>\n    </tr>\n  </tbody>\n</table>\n<p>5 rows × 23 columns</p>\n</div>"
     },
     "execution_count": 22,
     "metadata": {},
     "output_type": "execute_result"
    }
   ],
   "source": [
    "more_cereals_data = pd.read_csv(\"more_cereals_data.csv\")\n",
    "more_cereals_data.head()"
   ]
  },
  {
   "cell_type": "markdown",
   "metadata": {
    "id": "ykKIpCJN3NJZ"
   },
   "source": [
    "Create a new data frame called `cereals_data3` that combines (appends) `cereals_data2` with `more_cereals_data` vertically, placing `more_cereals_data` below `cereals_data2`. To avoid duplicating indexes, make sure that indexes are ignored when appending.\n",
    "\n",
    "Output the last 10 rows to confirm the resulting combined data frame. (You should see that `Cal`, `Vit`, `Calories`, and `Vitamins` are all present since the additional data frame did not use the abbreviated terms you applied earlier. This is an intentional result.)"
   ]
  },
  {
   "cell_type": "code",
   "execution_count": 24,
   "metadata": {
    "id": "nQkmal9KVCvW"
   },
   "outputs": [
    {
     "data": {
      "text/plain": "                        Name Manuf Type  Cal  Protein  Fat  Sodium  Fiber  \\\n72                Special_K     K    C   NaN        6    0     230    1.0   \n73  Strawberry_Fruit_Wheats     N    C   NaN        2    0      15    3.0   \n74        Total_Corn_Flakes     G    C   NaN        2    1     200    0.0   \n75        Total_Raisin_Bran     G    C   NaN        3    1     190    4.0   \n76        Total_Whole_Grain     G    C   NaN        3    1     200    3.0   \n77                  Triples     G    C   NaN        2    1     250    0.0   \n78                     Trix     G    C   NaN        1    1     140    0.0   \n79               Wheat_Chex     R    C   NaN        3    1     230    3.0   \n80                 Wheaties     G    C   NaN        3    1     200    3.0   \n81      Wheaties_Honey_Gold     G    C   NaN        2    1     200    1.0   \n\n    Carbo  Sugars  ...     Rating  Nabisco  Quaker  Kelloggs  GeneralMills  \\\n72   16.0     3.0  ...  53.131324        0       0         1             0   \n73   15.0     5.0  ...  59.363993        1       0         0             0   \n74   21.0     3.0  ...  38.839746        0       0         0             1   \n75   15.0    14.0  ...  28.592785        0       0         0             1   \n76   16.0     3.0  ...  46.658844        0       0         0             1   \n77   21.0     3.0  ...  39.106174        0       0         0             1   \n78   13.0    12.0  ...  27.753301        0       0         0             1   \n79   17.0     3.0  ...  49.787445        0       0         0             0   \n80   17.0     3.0  ...  51.592193        0       0         0             1   \n81   16.0     8.0  ...  36.187559        0       0         0             1   \n\n    Ralston  AHFP  Calories  Vitamins  Cold  \n72        0     0     110.0      25.0   1.0  \n73        0     0      90.0      25.0   1.0  \n74        0     0     110.0     100.0   1.0  \n75        0     0     140.0     100.0   1.0  \n76        0     0     100.0     100.0   1.0  \n77        0     0     110.0      25.0   1.0  \n78        0     0     110.0      25.0   1.0  \n79        1     0     100.0      25.0   1.0  \n80        0     0     100.0      25.0   1.0  \n81        0     0     110.0      25.0   1.0  \n\n[10 rows x 25 columns]",
      "text/html": "<div>\n<style scoped>\n    .dataframe tbody tr th:only-of-type {\n        vertical-align: middle;\n    }\n\n    .dataframe tbody tr th {\n        vertical-align: top;\n    }\n\n    .dataframe thead th {\n        text-align: right;\n    }\n</style>\n<table border=\"1\" class=\"dataframe\">\n  <thead>\n    <tr style=\"text-align: right;\">\n      <th></th>\n      <th>Name</th>\n      <th>Manuf</th>\n      <th>Type</th>\n      <th>Cal</th>\n      <th>Protein</th>\n      <th>Fat</th>\n      <th>Sodium</th>\n      <th>Fiber</th>\n      <th>Carbo</th>\n      <th>Sugars</th>\n      <th>...</th>\n      <th>Rating</th>\n      <th>Nabisco</th>\n      <th>Quaker</th>\n      <th>Kelloggs</th>\n      <th>GeneralMills</th>\n      <th>Ralston</th>\n      <th>AHFP</th>\n      <th>Calories</th>\n      <th>Vitamins</th>\n      <th>Cold</th>\n    </tr>\n  </thead>\n  <tbody>\n    <tr>\n      <th>72</th>\n      <td>Special_K</td>\n      <td>K</td>\n      <td>C</td>\n      <td>NaN</td>\n      <td>6</td>\n      <td>0</td>\n      <td>230</td>\n      <td>1.0</td>\n      <td>16.0</td>\n      <td>3.0</td>\n      <td>...</td>\n      <td>53.131324</td>\n      <td>0</td>\n      <td>0</td>\n      <td>1</td>\n      <td>0</td>\n      <td>0</td>\n      <td>0</td>\n      <td>110.0</td>\n      <td>25.0</td>\n      <td>1.0</td>\n    </tr>\n    <tr>\n      <th>73</th>\n      <td>Strawberry_Fruit_Wheats</td>\n      <td>N</td>\n      <td>C</td>\n      <td>NaN</td>\n      <td>2</td>\n      <td>0</td>\n      <td>15</td>\n      <td>3.0</td>\n      <td>15.0</td>\n      <td>5.0</td>\n      <td>...</td>\n      <td>59.363993</td>\n      <td>1</td>\n      <td>0</td>\n      <td>0</td>\n      <td>0</td>\n      <td>0</td>\n      <td>0</td>\n      <td>90.0</td>\n      <td>25.0</td>\n      <td>1.0</td>\n    </tr>\n    <tr>\n      <th>74</th>\n      <td>Total_Corn_Flakes</td>\n      <td>G</td>\n      <td>C</td>\n      <td>NaN</td>\n      <td>2</td>\n      <td>1</td>\n      <td>200</td>\n      <td>0.0</td>\n      <td>21.0</td>\n      <td>3.0</td>\n      <td>...</td>\n      <td>38.839746</td>\n      <td>0</td>\n      <td>0</td>\n      <td>0</td>\n      <td>1</td>\n      <td>0</td>\n      <td>0</td>\n      <td>110.0</td>\n      <td>100.0</td>\n      <td>1.0</td>\n    </tr>\n    <tr>\n      <th>75</th>\n      <td>Total_Raisin_Bran</td>\n      <td>G</td>\n      <td>C</td>\n      <td>NaN</td>\n      <td>3</td>\n      <td>1</td>\n      <td>190</td>\n      <td>4.0</td>\n      <td>15.0</td>\n      <td>14.0</td>\n      <td>...</td>\n      <td>28.592785</td>\n      <td>0</td>\n      <td>0</td>\n      <td>0</td>\n      <td>1</td>\n      <td>0</td>\n      <td>0</td>\n      <td>140.0</td>\n      <td>100.0</td>\n      <td>1.0</td>\n    </tr>\n    <tr>\n      <th>76</th>\n      <td>Total_Whole_Grain</td>\n      <td>G</td>\n      <td>C</td>\n      <td>NaN</td>\n      <td>3</td>\n      <td>1</td>\n      <td>200</td>\n      <td>3.0</td>\n      <td>16.0</td>\n      <td>3.0</td>\n      <td>...</td>\n      <td>46.658844</td>\n      <td>0</td>\n      <td>0</td>\n      <td>0</td>\n      <td>1</td>\n      <td>0</td>\n      <td>0</td>\n      <td>100.0</td>\n      <td>100.0</td>\n      <td>1.0</td>\n    </tr>\n    <tr>\n      <th>77</th>\n      <td>Triples</td>\n      <td>G</td>\n      <td>C</td>\n      <td>NaN</td>\n      <td>2</td>\n      <td>1</td>\n      <td>250</td>\n      <td>0.0</td>\n      <td>21.0</td>\n      <td>3.0</td>\n      <td>...</td>\n      <td>39.106174</td>\n      <td>0</td>\n      <td>0</td>\n      <td>0</td>\n      <td>1</td>\n      <td>0</td>\n      <td>0</td>\n      <td>110.0</td>\n      <td>25.0</td>\n      <td>1.0</td>\n    </tr>\n    <tr>\n      <th>78</th>\n      <td>Trix</td>\n      <td>G</td>\n      <td>C</td>\n      <td>NaN</td>\n      <td>1</td>\n      <td>1</td>\n      <td>140</td>\n      <td>0.0</td>\n      <td>13.0</td>\n      <td>12.0</td>\n      <td>...</td>\n      <td>27.753301</td>\n      <td>0</td>\n      <td>0</td>\n      <td>0</td>\n      <td>1</td>\n      <td>0</td>\n      <td>0</td>\n      <td>110.0</td>\n      <td>25.0</td>\n      <td>1.0</td>\n    </tr>\n    <tr>\n      <th>79</th>\n      <td>Wheat_Chex</td>\n      <td>R</td>\n      <td>C</td>\n      <td>NaN</td>\n      <td>3</td>\n      <td>1</td>\n      <td>230</td>\n      <td>3.0</td>\n      <td>17.0</td>\n      <td>3.0</td>\n      <td>...</td>\n      <td>49.787445</td>\n      <td>0</td>\n      <td>0</td>\n      <td>0</td>\n      <td>0</td>\n      <td>1</td>\n      <td>0</td>\n      <td>100.0</td>\n      <td>25.0</td>\n      <td>1.0</td>\n    </tr>\n    <tr>\n      <th>80</th>\n      <td>Wheaties</td>\n      <td>G</td>\n      <td>C</td>\n      <td>NaN</td>\n      <td>3</td>\n      <td>1</td>\n      <td>200</td>\n      <td>3.0</td>\n      <td>17.0</td>\n      <td>3.0</td>\n      <td>...</td>\n      <td>51.592193</td>\n      <td>0</td>\n      <td>0</td>\n      <td>0</td>\n      <td>1</td>\n      <td>0</td>\n      <td>0</td>\n      <td>100.0</td>\n      <td>25.0</td>\n      <td>1.0</td>\n    </tr>\n    <tr>\n      <th>81</th>\n      <td>Wheaties_Honey_Gold</td>\n      <td>G</td>\n      <td>C</td>\n      <td>NaN</td>\n      <td>2</td>\n      <td>1</td>\n      <td>200</td>\n      <td>1.0</td>\n      <td>16.0</td>\n      <td>8.0</td>\n      <td>...</td>\n      <td>36.187559</td>\n      <td>0</td>\n      <td>0</td>\n      <td>0</td>\n      <td>1</td>\n      <td>0</td>\n      <td>0</td>\n      <td>110.0</td>\n      <td>25.0</td>\n      <td>1.0</td>\n    </tr>\n  </tbody>\n</table>\n<p>10 rows × 25 columns</p>\n</div>"
     },
     "execution_count": 24,
     "metadata": {},
     "output_type": "execute_result"
    }
   ],
   "source": [
    "cereals_data3 = cereals_data2.append(more_cereals_data, ignore_index=True)\n",
    "cereals_data3.tail(10)"
   ]
  },
  {
   "cell_type": "markdown",
   "metadata": {
    "id": "NAUtbOz63vmk"
   },
   "source": [
    "## Part (c)\n",
    "\n",
    "### 4 points\n",
    "\n",
    "\n",
    "Check for any missing values in `cereals_data3` by computing for each column how many values are null."
   ]
  },
  {
   "cell_type": "code",
   "execution_count": 25,
   "metadata": {
    "id": "wzNhYOMAVaWm"
   },
   "outputs": [
    {
     "data": {
      "text/plain": "Name             0\nManuf            0\nType             0\nCal             22\nProtein          0\nFat              0\nSodium           0\nFiber            0\nCarbo            2\nSugars           2\nPotass           2\nVit             22\nShelf            0\nWeight           0\nCups             0\nRating           0\nNabisco          0\nQuaker           0\nKelloggs         0\nGeneralMills     0\nRalston          0\nAHFP             0\nCalories        60\nVitamins        60\nCold            60\ndtype: int64"
     },
     "execution_count": 25,
     "metadata": {},
     "output_type": "execute_result"
    }
   ],
   "source": [
    "cereals_data3.isnull().sum()"
   ]
  },
  {
   "cell_type": "markdown",
   "metadata": {
    "id": "Yjt2eXOr39T3"
   },
   "source": [
    "Iterate over the columns of `cereals_data3`. For each numeric column, fill in the missing (null) values of the column with the column's mean.\n",
    "\n",
    "For each categorical (non-numeric) column, fill in the missing values using the \"forward fill\" method.\n",
    "\n",
    "To check if a column's data type is numeric, you may import the top-level function `is_numeric_dtype` and provide a specific column. The import statement is provided below:\n",
    "\n",
    "```python\n",
    "from pandas.api.types import is_numeric_dtype\n",
    "```"
   ]
  },
  {
   "cell_type": "code",
   "execution_count": 26,
   "metadata": {
    "id": "kWs4gLkxV17C"
   },
   "outputs": [
    {
     "data": {
      "text/plain": "                         Name Manuf  Type         Cal  Protein  Fat  Sodium  \\\n0                   100%_Bran     N  Cold   70.000000        4    1     130   \n1           100%_Natural_Bran     Q  Cold  120.000000        3    5      15   \n2                    All-Bran     K  Cold   70.000000        4    1     260   \n3   All-Bran_with_Extra_Fiber     K  Cold   50.000000        4    0     140   \n4              Almond_Delight     R  Cold  110.000000        2    2     200   \n..                        ...   ...   ...         ...      ...  ...     ...   \n77                   Triples     G     C   107.166667        2    1     250   \n78                      Trix     G     C   107.166667        1    1     140   \n79                Wheat_Chex     R     C   107.166667        3    1     230   \n80                  Wheaties     G     C   107.166667        3    1     200   \n81       Wheaties_Honey_Gold     G     C   107.166667        2    1     200   \n\n    Fiber  Carbo  Sugars  ...     Rating  Nabisco  Quaker  Kelloggs  \\\n0    10.0    5.0     6.0  ...  68.402973        1       0         0   \n1     2.0    8.0     8.0  ...  33.983679        0       1         0   \n2     9.0    7.0     5.0  ...  59.425505        0       0         1   \n3    14.0    8.0     0.0  ...  93.704912        0       0         1   \n4     1.0   14.0     8.0  ...  34.384843        0       0         0   \n..    ...    ...     ...  ...        ...      ...     ...       ...   \n77    0.0   21.0     3.0  ...  39.106174        0       0         0   \n78    0.0   13.0    12.0  ...  27.753301        0       0         0   \n79    3.0   17.0     3.0  ...  49.787445        0       0         0   \n80    3.0   17.0     3.0  ...  51.592193        0       0         0   \n81    1.0   16.0     8.0  ...  36.187559        0       0         0   \n\n    GeneralMills  Ralston  AHFP    Calories   Vitamins      Cold  \n0              0        0     0  101.363636  29.545455  0.954545  \n1              0        0     0  101.363636  29.545455  0.954545  \n2              0        0     0  101.363636  29.545455  0.954545  \n3              0        0     0  101.363636  29.545455  0.954545  \n4              0        1     0  101.363636  29.545455  0.954545  \n..           ...      ...   ...         ...        ...       ...  \n77             1        0     0  110.000000  25.000000  1.000000  \n78             1        0     0  110.000000  25.000000  1.000000  \n79             0        1     0  100.000000  25.000000  1.000000  \n80             1        0     0  100.000000  25.000000  1.000000  \n81             1        0     0  110.000000  25.000000  1.000000  \n\n[82 rows x 25 columns]",
      "text/html": "<div>\n<style scoped>\n    .dataframe tbody tr th:only-of-type {\n        vertical-align: middle;\n    }\n\n    .dataframe tbody tr th {\n        vertical-align: top;\n    }\n\n    .dataframe thead th {\n        text-align: right;\n    }\n</style>\n<table border=\"1\" class=\"dataframe\">\n  <thead>\n    <tr style=\"text-align: right;\">\n      <th></th>\n      <th>Name</th>\n      <th>Manuf</th>\n      <th>Type</th>\n      <th>Cal</th>\n      <th>Protein</th>\n      <th>Fat</th>\n      <th>Sodium</th>\n      <th>Fiber</th>\n      <th>Carbo</th>\n      <th>Sugars</th>\n      <th>...</th>\n      <th>Rating</th>\n      <th>Nabisco</th>\n      <th>Quaker</th>\n      <th>Kelloggs</th>\n      <th>GeneralMills</th>\n      <th>Ralston</th>\n      <th>AHFP</th>\n      <th>Calories</th>\n      <th>Vitamins</th>\n      <th>Cold</th>\n    </tr>\n  </thead>\n  <tbody>\n    <tr>\n      <th>0</th>\n      <td>100%_Bran</td>\n      <td>N</td>\n      <td>Cold</td>\n      <td>70.000000</td>\n      <td>4</td>\n      <td>1</td>\n      <td>130</td>\n      <td>10.0</td>\n      <td>5.0</td>\n      <td>6.0</td>\n      <td>...</td>\n      <td>68.402973</td>\n      <td>1</td>\n      <td>0</td>\n      <td>0</td>\n      <td>0</td>\n      <td>0</td>\n      <td>0</td>\n      <td>101.363636</td>\n      <td>29.545455</td>\n      <td>0.954545</td>\n    </tr>\n    <tr>\n      <th>1</th>\n      <td>100%_Natural_Bran</td>\n      <td>Q</td>\n      <td>Cold</td>\n      <td>120.000000</td>\n      <td>3</td>\n      <td>5</td>\n      <td>15</td>\n      <td>2.0</td>\n      <td>8.0</td>\n      <td>8.0</td>\n      <td>...</td>\n      <td>33.983679</td>\n      <td>0</td>\n      <td>1</td>\n      <td>0</td>\n      <td>0</td>\n      <td>0</td>\n      <td>0</td>\n      <td>101.363636</td>\n      <td>29.545455</td>\n      <td>0.954545</td>\n    </tr>\n    <tr>\n      <th>2</th>\n      <td>All-Bran</td>\n      <td>K</td>\n      <td>Cold</td>\n      <td>70.000000</td>\n      <td>4</td>\n      <td>1</td>\n      <td>260</td>\n      <td>9.0</td>\n      <td>7.0</td>\n      <td>5.0</td>\n      <td>...</td>\n      <td>59.425505</td>\n      <td>0</td>\n      <td>0</td>\n      <td>1</td>\n      <td>0</td>\n      <td>0</td>\n      <td>0</td>\n      <td>101.363636</td>\n      <td>29.545455</td>\n      <td>0.954545</td>\n    </tr>\n    <tr>\n      <th>3</th>\n      <td>All-Bran_with_Extra_Fiber</td>\n      <td>K</td>\n      <td>Cold</td>\n      <td>50.000000</td>\n      <td>4</td>\n      <td>0</td>\n      <td>140</td>\n      <td>14.0</td>\n      <td>8.0</td>\n      <td>0.0</td>\n      <td>...</td>\n      <td>93.704912</td>\n      <td>0</td>\n      <td>0</td>\n      <td>1</td>\n      <td>0</td>\n      <td>0</td>\n      <td>0</td>\n      <td>101.363636</td>\n      <td>29.545455</td>\n      <td>0.954545</td>\n    </tr>\n    <tr>\n      <th>4</th>\n      <td>Almond_Delight</td>\n      <td>R</td>\n      <td>Cold</td>\n      <td>110.000000</td>\n      <td>2</td>\n      <td>2</td>\n      <td>200</td>\n      <td>1.0</td>\n      <td>14.0</td>\n      <td>8.0</td>\n      <td>...</td>\n      <td>34.384843</td>\n      <td>0</td>\n      <td>0</td>\n      <td>0</td>\n      <td>0</td>\n      <td>1</td>\n      <td>0</td>\n      <td>101.363636</td>\n      <td>29.545455</td>\n      <td>0.954545</td>\n    </tr>\n    <tr>\n      <th>...</th>\n      <td>...</td>\n      <td>...</td>\n      <td>...</td>\n      <td>...</td>\n      <td>...</td>\n      <td>...</td>\n      <td>...</td>\n      <td>...</td>\n      <td>...</td>\n      <td>...</td>\n      <td>...</td>\n      <td>...</td>\n      <td>...</td>\n      <td>...</td>\n      <td>...</td>\n      <td>...</td>\n      <td>...</td>\n      <td>...</td>\n      <td>...</td>\n      <td>...</td>\n      <td>...</td>\n    </tr>\n    <tr>\n      <th>77</th>\n      <td>Triples</td>\n      <td>G</td>\n      <td>C</td>\n      <td>107.166667</td>\n      <td>2</td>\n      <td>1</td>\n      <td>250</td>\n      <td>0.0</td>\n      <td>21.0</td>\n      <td>3.0</td>\n      <td>...</td>\n      <td>39.106174</td>\n      <td>0</td>\n      <td>0</td>\n      <td>0</td>\n      <td>1</td>\n      <td>0</td>\n      <td>0</td>\n      <td>110.000000</td>\n      <td>25.000000</td>\n      <td>1.000000</td>\n    </tr>\n    <tr>\n      <th>78</th>\n      <td>Trix</td>\n      <td>G</td>\n      <td>C</td>\n      <td>107.166667</td>\n      <td>1</td>\n      <td>1</td>\n      <td>140</td>\n      <td>0.0</td>\n      <td>13.0</td>\n      <td>12.0</td>\n      <td>...</td>\n      <td>27.753301</td>\n      <td>0</td>\n      <td>0</td>\n      <td>0</td>\n      <td>1</td>\n      <td>0</td>\n      <td>0</td>\n      <td>110.000000</td>\n      <td>25.000000</td>\n      <td>1.000000</td>\n    </tr>\n    <tr>\n      <th>79</th>\n      <td>Wheat_Chex</td>\n      <td>R</td>\n      <td>C</td>\n      <td>107.166667</td>\n      <td>3</td>\n      <td>1</td>\n      <td>230</td>\n      <td>3.0</td>\n      <td>17.0</td>\n      <td>3.0</td>\n      <td>...</td>\n      <td>49.787445</td>\n      <td>0</td>\n      <td>0</td>\n      <td>0</td>\n      <td>0</td>\n      <td>1</td>\n      <td>0</td>\n      <td>100.000000</td>\n      <td>25.000000</td>\n      <td>1.000000</td>\n    </tr>\n    <tr>\n      <th>80</th>\n      <td>Wheaties</td>\n      <td>G</td>\n      <td>C</td>\n      <td>107.166667</td>\n      <td>3</td>\n      <td>1</td>\n      <td>200</td>\n      <td>3.0</td>\n      <td>17.0</td>\n      <td>3.0</td>\n      <td>...</td>\n      <td>51.592193</td>\n      <td>0</td>\n      <td>0</td>\n      <td>0</td>\n      <td>1</td>\n      <td>0</td>\n      <td>0</td>\n      <td>100.000000</td>\n      <td>25.000000</td>\n      <td>1.000000</td>\n    </tr>\n    <tr>\n      <th>81</th>\n      <td>Wheaties_Honey_Gold</td>\n      <td>G</td>\n      <td>C</td>\n      <td>107.166667</td>\n      <td>2</td>\n      <td>1</td>\n      <td>200</td>\n      <td>1.0</td>\n      <td>16.0</td>\n      <td>8.0</td>\n      <td>...</td>\n      <td>36.187559</td>\n      <td>0</td>\n      <td>0</td>\n      <td>0</td>\n      <td>1</td>\n      <td>0</td>\n      <td>0</td>\n      <td>110.000000</td>\n      <td>25.000000</td>\n      <td>1.000000</td>\n    </tr>\n  </tbody>\n</table>\n<p>82 rows × 25 columns</p>\n</div>"
     },
     "execution_count": 26,
     "metadata": {},
     "output_type": "execute_result"
    }
   ],
   "source": [
    "from pandas.api.types import is_numeric_dtype\n",
    "\n",
    "for column in cereals_data3:\n",
    "    if is_numeric_dtype(cereals_data3[column]) == True:\n",
    "        cereals_data3[column].fillna(value=cereals_data3[column].mean(), inplace=True)\n",
    "    else:\n",
    "        cereals_data3.ffill(axis=1)\n",
    "cereals_data3\n"
   ]
  },
  {
   "cell_type": "markdown",
   "metadata": {
    "id": "OVpyREov6Xf1"
   },
   "source": [
    "## Part (d)\n",
    "\n",
    "### 6 points\n"
   ]
  },
  {
   "cell_type": "markdown",
   "metadata": {
    "id": "PEiqzTBz6yBH"
   },
   "source": [
    "Pandas provides two types of \"cut\" methods. One is `cut` and the other `qcut`. `cut` will separate data (such as a column in a DataFrame) into bins based on the values of the data, where the bins are equally spaced. `qcut` will separate the data into bins such that each bin has (roughly) equal number of entities in each bin. For example, a normal bell-curved dataset split into 3 bins should have most values placed in the middle bin when using `cut`, whereas `qcut` using a value of 3 for `q` (\"q\" referring to the more common \"quartile\" with a value of 4) would instead adjuct the range of each bin to make it so each one has almost equal number of values.\n",
    "\n",
    "Use the `Cal` column of `cereals_data3` to demonstrate this difference. Cut the data using `cut` with 3 bins and the labels `low`, `moderate`, and `high`. Do the same thing with `qcut` with the same labels and a value of 3 for `q`. Print out the `value_counts()` table for each type of cut to see the results."
   ]
  },
  {
   "cell_type": "code",
   "execution_count": 27,
   "metadata": {
    "id": "TLi1yMWhROAi"
   },
   "outputs": [
    {
     "data": {
      "text/plain": "moderate    71\nhigh         6\nlow          5\nName: Cal, dtype: int64"
     },
     "execution_count": 27,
     "metadata": {},
     "output_type": "execute_result"
    }
   ],
   "source": [
    "pd.cut(cereals_data3['Cal'], bins=3, labels=['low', 'moderate', 'high']).value_counts()"
   ]
  },
  {
   "cell_type": "code",
   "execution_count": 28,
   "outputs": [
    {
     "data": {
      "text/plain": "low         44\nmoderate    22\nhigh        16\nName: Cal, dtype: int64"
     },
     "execution_count": 28,
     "metadata": {},
     "output_type": "execute_result"
    }
   ],
   "source": [
    "pd.qcut(cereals_data3['Cal'], q=3, labels=['low', 'moderate', 'high'], retbins=False).value_counts()"
   ],
   "metadata": {
    "collapsed": false,
    "pycharm": {
     "name": "#%%\n"
    }
   }
  },
  {
   "cell_type": "markdown",
   "metadata": {
    "id": "1kwe5JGj9VM3"
   },
   "source": [
    "Combine the two counts of each cut into a single data frame with one column called `cut` and the other `qcut`, each with counts for the three labels. Then plot a histogram / bar graph displaying the counts side-by-side on the same graph."
   ]
  },
  {
   "cell_type": "code",
   "execution_count": 29,
   "metadata": {
    "id": "nN8V7SYj9Vvl"
   },
   "outputs": [
    {
     "data": {
      "text/plain": "          cut  qcut\nlow        71    44\nmoderate    6    22\nhigh        5    16",
      "text/html": "<div>\n<style scoped>\n    .dataframe tbody tr th:only-of-type {\n        vertical-align: middle;\n    }\n\n    .dataframe tbody tr th {\n        vertical-align: top;\n    }\n\n    .dataframe thead th {\n        text-align: right;\n    }\n</style>\n<table border=\"1\" class=\"dataframe\">\n  <thead>\n    <tr style=\"text-align: right;\">\n      <th></th>\n      <th>cut</th>\n      <th>qcut</th>\n    </tr>\n  </thead>\n  <tbody>\n    <tr>\n      <th>low</th>\n      <td>71</td>\n      <td>44</td>\n    </tr>\n    <tr>\n      <th>moderate</th>\n      <td>6</td>\n      <td>22</td>\n    </tr>\n    <tr>\n      <th>high</th>\n      <td>5</td>\n      <td>16</td>\n    </tr>\n  </tbody>\n</table>\n</div>"
     },
     "execution_count": 29,
     "metadata": {},
     "output_type": "execute_result"
    }
   ],
   "source": [
    "cut = pd.cut(cereals_data3['Cal'], bins=3, labels=['low', 'moderate', 'high']).value_counts()\n",
    "qcut = pd.qcut(cereals_data3['Cal'], q=3, labels=['low', 'moderate', 'high'], retbins=False).value_counts()\n",
    "cut_data = [cut.values, qcut.values]\n",
    "\n",
    "df = pd.DataFrame(cut_data, index=[\"cut\",\"qcut\"], columns=[\"low\",\"moderate\",\"high\"]).T\n",
    "df"
   ]
  },
  {
   "cell_type": "code",
   "execution_count": 30,
   "outputs": [
    {
     "data": {
      "text/plain": "        Bin Cut_Type  Count\n0       low      cut     71\n1       low     qcut     44\n2  moderate      cut      6\n3  moderate     qcut     22\n4      high      cut      5\n5      high     qcut     16",
      "text/html": "<div>\n<style scoped>\n    .dataframe tbody tr th:only-of-type {\n        vertical-align: middle;\n    }\n\n    .dataframe tbody tr th {\n        vertical-align: top;\n    }\n\n    .dataframe thead th {\n        text-align: right;\n    }\n</style>\n<table border=\"1\" class=\"dataframe\">\n  <thead>\n    <tr style=\"text-align: right;\">\n      <th></th>\n      <th>Bin</th>\n      <th>Cut_Type</th>\n      <th>Count</th>\n    </tr>\n  </thead>\n  <tbody>\n    <tr>\n      <th>0</th>\n      <td>low</td>\n      <td>cut</td>\n      <td>71</td>\n    </tr>\n    <tr>\n      <th>1</th>\n      <td>low</td>\n      <td>qcut</td>\n      <td>44</td>\n    </tr>\n    <tr>\n      <th>2</th>\n      <td>moderate</td>\n      <td>cut</td>\n      <td>6</td>\n    </tr>\n    <tr>\n      <th>3</th>\n      <td>moderate</td>\n      <td>qcut</td>\n      <td>22</td>\n    </tr>\n    <tr>\n      <th>4</th>\n      <td>high</td>\n      <td>cut</td>\n      <td>5</td>\n    </tr>\n    <tr>\n      <th>5</th>\n      <td>high</td>\n      <td>qcut</td>\n      <td>16</td>\n    </tr>\n  </tbody>\n</table>\n</div>"
     },
     "execution_count": 30,
     "metadata": {},
     "output_type": "execute_result"
    }
   ],
   "source": [
    "df = df.stack().reset_index()\n",
    "df.columns= [\"Bin\", \"Cut_Type\", \"Count\"]\n",
    "df"
   ],
   "metadata": {
    "collapsed": false,
    "pycharm": {
     "name": "#%%\n"
    }
   }
  },
  {
   "cell_type": "code",
   "execution_count": 31,
   "outputs": [
    {
     "data": {
      "text/plain": "<Figure size 418.125x360 with 1 Axes>",
      "image/png": "[encoded data removed]"
     },
     "metadata": {
      "needs_background": "light"
     },
     "output_type": "display_data"
    }
   ],
   "source": [
    "sns.catplot(x = 'Bin', y='Count',\n",
    "               hue = 'Cut_Type',data=df, kind='bar')\n",
    "plt.title(\"Bin Counts for Cut and QCut\")\n",
    "plt.show()\n"
   ],
   "metadata": {
    "collapsed": false,
    "pycharm": {
     "name": "#%%\n"
    }
   }
  },
  {
   "cell_type": "markdown",
   "metadata": {
    "id": "SDP-eLE79w17"
   },
   "source": [
    "## Part (e)\n",
    "\n",
    "### 5 points\n",
    "\n",
    "\n",
    "Write a method called `standardize` that takes in a data frame and a list of columns. The method should create and return a data frame that contains only the numeric columns from the given data frame that are provided in the columns list, but in a standardized form. (You may find it easiest to start with an initially empty data frame and add columns to it.) This standardized form is called a \"z-score\" and can be computed as follows:\n",
    "\n",
    "$$\n",
    "z = \\frac{x-\\bar{x}}{s}\n",
    "$$\n",
    "\n",
    "where $x$ is the original value, $\\bar{x}$ is the mean of the values in that column, and $s$ is the standard deviation of values in that column.\n",
    "\n",
    "Call `standardize` by giving it the `cereals_data3` data frame and the columns `Carbo`, `Sugars`, `Potass`, `Vit`, and `Name`. (`Name` is not a numeric column, so it should not show up in the resulting data frame, nor should it cause an error.)\n",
    "\n"
   ]
  },
  {
   "cell_type": "code",
   "execution_count": 32,
   "metadata": {
    "id": "PxGDbx5JS0I4"
   },
   "outputs": [
    {
     "data": {
      "text/plain": "       Carbo    Sugars    Potass           Vit\n0  -2.526295 -0.231302  2.582194 -1.065107e-01\n1  -1.742442  0.231302  0.494846 -1.704172e+00\n2  -2.003726 -0.462604  3.158015 -1.065107e-01\n3  -1.742442 -1.619115  3.301970 -1.065107e-01\n4  -0.174734  0.231302  0.000000 -1.065107e-01\n..       ...       ...       ...           ...\n77  1.654258 -0.925208 -0.584818 -2.270413e-16\n78 -0.436019  1.156510 -1.088660 -2.270413e-16\n79  0.609120 -0.925208  0.206935 -2.270413e-16\n80  0.609120 -0.925208  0.134958 -2.270413e-16\n81  0.347835  0.231302 -0.584818 -2.270413e-16\n\n[82 rows x 4 columns]",
      "text/html": "<div>\n<style scoped>\n    .dataframe tbody tr th:only-of-type {\n        vertical-align: middle;\n    }\n\n    .dataframe tbody tr th {\n        vertical-align: top;\n    }\n\n    .dataframe thead th {\n        text-align: right;\n    }\n</style>\n<table border=\"1\" class=\"dataframe\">\n  <thead>\n    <tr style=\"text-align: right;\">\n      <th></th>\n      <th>Carbo</th>\n      <th>Sugars</th>\n      <th>Potass</th>\n      <th>Vit</th>\n    </tr>\n  </thead>\n  <tbody>\n    <tr>\n      <th>0</th>\n      <td>-2.526295</td>\n      <td>-0.231302</td>\n      <td>2.582194</td>\n      <td>-1.065107e-01</td>\n    </tr>\n    <tr>\n      <th>1</th>\n      <td>-1.742442</td>\n      <td>0.231302</td>\n      <td>0.494846</td>\n      <td>-1.704172e+00</td>\n    </tr>\n    <tr>\n      <th>2</th>\n      <td>-2.003726</td>\n      <td>-0.462604</td>\n      <td>3.158015</td>\n      <td>-1.065107e-01</td>\n    </tr>\n    <tr>\n      <th>3</th>\n      <td>-1.742442</td>\n      <td>-1.619115</td>\n      <td>3.301970</td>\n      <td>-1.065107e-01</td>\n    </tr>\n    <tr>\n      <th>4</th>\n      <td>-0.174734</td>\n      <td>0.231302</td>\n      <td>0.000000</td>\n      <td>-1.065107e-01</td>\n    </tr>\n    <tr>\n      <th>...</th>\n      <td>...</td>\n      <td>...</td>\n      <td>...</td>\n      <td>...</td>\n    </tr>\n    <tr>\n      <th>77</th>\n      <td>1.654258</td>\n      <td>-0.925208</td>\n      <td>-0.584818</td>\n      <td>-2.270413e-16</td>\n    </tr>\n    <tr>\n      <th>78</th>\n      <td>-0.436019</td>\n      <td>1.156510</td>\n      <td>-1.088660</td>\n      <td>-2.270413e-16</td>\n    </tr>\n    <tr>\n      <th>79</th>\n      <td>0.609120</td>\n      <td>-0.925208</td>\n      <td>0.206935</td>\n      <td>-2.270413e-16</td>\n    </tr>\n    <tr>\n      <th>80</th>\n      <td>0.609120</td>\n      <td>-0.925208</td>\n      <td>0.134958</td>\n      <td>-2.270413e-16</td>\n    </tr>\n    <tr>\n      <th>81</th>\n      <td>0.347835</td>\n      <td>0.231302</td>\n      <td>-0.584818</td>\n      <td>-2.270413e-16</td>\n    </tr>\n  </tbody>\n</table>\n<p>82 rows × 4 columns</p>\n</div>"
     },
     "execution_count": 32,
     "metadata": {},
     "output_type": "execute_result"
    }
   ],
   "source": [
    "def standardize(df, lst):\n",
    "    \"\"\"This Method takes in a dataframe and  alist of columns. It creates and returns a data frame that contains only the numeric\n",
    "    columns from the given dataframe that are provided in the columns list. But in a standardized form.\"\"\"\n",
    "    for column in lst:\n",
    "        if is_numeric_dtype(cereals_data3[column]) == True:\n",
    "            df[column] = (df[column] - df[column].mean()) / df[column].std()\n",
    "        else:\n",
    "            df.drop(columns=column, inplace=True, axis=1)\n",
    "    return df\n",
    "\n",
    "cols = ['Carbo', 'Sugars', 'Potass', 'Vit', 'Name']\n",
    "z_scores = standardize(cereals_data3[cols].copy(), cols)\n",
    "z_scores"
   ]
  },
  {
   "cell_type": "markdown",
   "metadata": {
    "id": "wgXJ3jrQ_Y37"
   },
   "source": [
    "Using this standardized data frame, check for outliers by finding any values that are greater than 3. Output for a each column a count of the number of outliers in that column."
   ]
  },
  {
   "cell_type": "code",
   "execution_count": 53,
   "metadata": {
    "id": "BNSMsALVS9hj"
   },
   "outputs": [
    {
     "data": {
      "text/plain": "Carbo     0\nSugars    0\nPotass    2\nVit       3\ndtype: int64"
     },
     "execution_count": 53,
     "metadata": {},
     "output_type": "execute_result"
    }
   ],
   "source": [
    "z_scores[z_scores > 3].count()"
   ]
  },
  {
   "cell_type": "markdown",
   "metadata": {
    "id": "DyXL_5f4_vdT"
   },
   "source": [
    "# Question 4 - Data Aggregation\n",
    "### All parts in the question will use cereals_data3 as the data frame to analyze.\n",
    "\n",
    "## Part (a)\n",
    "\n",
    "### 3 points\n",
    "\n",
    "\n",
    "\n",
    "Group the data based on manufacturer and name using `groupby` and compute the mean for the columns `Cal`, `Fat`, `Sodium`, `Fiber`, and `Sugars`."
   ]
  },
  {
   "cell_type": "code",
   "execution_count": 78,
   "metadata": {
    "id": "DGJ_wA_AZAjj"
   },
   "outputs": [
    {
     "data": {
      "text/plain": "              Cal       Fat      Sodium     Fiber    Sugars\nManuf                                                      \nA      100.000000  1.000000    0.000000  0.000000  3.000000\nG      111.333333  1.533333  202.000000  1.133333  8.600000\nG      107.166667  1.125000  190.000000  1.687500  6.750000\nK      109.473684  0.684211  180.526316  3.105263  7.736842\nK      107.166667  0.400000  160.000000  1.800000  7.800000\nN       85.000000  0.500000  105.000000  5.500000  3.000000\nN      107.166667  0.000000    3.750000  3.250000  1.250000\nP      108.888889  0.888889  146.111111  2.777778  8.777778\nQ       95.000000  1.750000   92.500000  1.337500  6.250000\nQ      107.166667  1.000000   45.000000  1.900000  4.333333\nR      111.666667  1.500000  185.833333  2.000000  7.333333\nR      107.166667  0.500000  235.000000  1.500000  2.500000",
      "text/html": "<div>\n<style scoped>\n    .dataframe tbody tr th:only-of-type {\n        vertical-align: middle;\n    }\n\n    .dataframe tbody tr th {\n        vertical-align: top;\n    }\n\n    .dataframe thead th {\n        text-align: right;\n    }\n</style>\n<table border=\"1\" class=\"dataframe\">\n  <thead>\n    <tr style=\"text-align: right;\">\n      <th></th>\n      <th>Cal</th>\n      <th>Fat</th>\n      <th>Sodium</th>\n      <th>Fiber</th>\n      <th>Sugars</th>\n    </tr>\n    <tr>\n      <th>Manuf</th>\n      <th></th>\n      <th></th>\n      <th></th>\n      <th></th>\n      <th></th>\n    </tr>\n  </thead>\n  <tbody>\n    <tr>\n      <th>A</th>\n      <td>100.000000</td>\n      <td>1.000000</td>\n      <td>0.000000</td>\n      <td>0.000000</td>\n      <td>3.000000</td>\n    </tr>\n    <tr>\n      <th>G</th>\n      <td>111.333333</td>\n      <td>1.533333</td>\n      <td>202.000000</td>\n      <td>1.133333</td>\n      <td>8.600000</td>\n    </tr>\n    <tr>\n      <th>G</th>\n      <td>107.166667</td>\n      <td>1.125000</td>\n      <td>190.000000</td>\n      <td>1.687500</td>\n      <td>6.750000</td>\n    </tr>\n    <tr>\n      <th>K</th>\n      <td>109.473684</td>\n      <td>0.684211</td>\n      <td>180.526316</td>\n      <td>3.105263</td>\n      <td>7.736842</td>\n    </tr>\n    <tr>\n      <th>K</th>\n      <td>107.166667</td>\n      <td>0.400000</td>\n      <td>160.000000</td>\n      <td>1.800000</td>\n      <td>7.800000</td>\n    </tr>\n    <tr>\n      <th>N</th>\n      <td>85.000000</td>\n      <td>0.500000</td>\n      <td>105.000000</td>\n      <td>5.500000</td>\n      <td>3.000000</td>\n    </tr>\n    <tr>\n      <th>N</th>\n      <td>107.166667</td>\n      <td>0.000000</td>\n      <td>3.750000</td>\n      <td>3.250000</td>\n      <td>1.250000</td>\n    </tr>\n    <tr>\n      <th>P</th>\n      <td>108.888889</td>\n      <td>0.888889</td>\n      <td>146.111111</td>\n      <td>2.777778</td>\n      <td>8.777778</td>\n    </tr>\n    <tr>\n      <th>Q</th>\n      <td>95.000000</td>\n      <td>1.750000</td>\n      <td>92.500000</td>\n      <td>1.337500</td>\n      <td>6.250000</td>\n    </tr>\n    <tr>\n      <th>Q</th>\n      <td>107.166667</td>\n      <td>1.000000</td>\n      <td>45.000000</td>\n      <td>1.900000</td>\n      <td>4.333333</td>\n    </tr>\n    <tr>\n      <th>R</th>\n      <td>111.666667</td>\n      <td>1.500000</td>\n      <td>185.833333</td>\n      <td>2.000000</td>\n      <td>7.333333</td>\n    </tr>\n    <tr>\n      <th>R</th>\n      <td>107.166667</td>\n      <td>0.500000</td>\n      <td>235.000000</td>\n      <td>1.500000</td>\n      <td>2.500000</td>\n    </tr>\n  </tbody>\n</table>\n</div>"
     },
     "execution_count": 78,
     "metadata": {},
     "output_type": "execute_result"
    }
   ],
   "source": [
    "cereals_data3.groupby(['Manuf'])[['Cal', 'Fat', 'Sodium', 'Fiber', 'Sugars']].mean()"
   ]
  },
  {
   "cell_type": "markdown",
   "metadata": {
    "id": "sgAkB_-DBKsZ"
   },
   "source": [
    "Produce the same table as the above GroupBy example, but using `pivot_table` instead."
   ]
  },
  {
   "cell_type": "code",
   "execution_count": 84,
   "metadata": {
    "id": "Bb9uJgZ-hjSa"
   },
   "outputs": [
    {
     "data": {
      "text/plain": "              Cal       Fat     Fiber      Sodium    Sugars\nManuf                                                      \nA      100.000000  1.000000  0.000000    0.000000  3.000000\nG      111.333333  1.533333  1.133333  202.000000  8.600000\nG      107.166667  1.125000  1.687500  190.000000  6.750000\nK      109.473684  0.684211  3.105263  180.526316  7.736842\nK      107.166667  0.400000  1.800000  160.000000  7.800000\nN       85.000000  0.500000  5.500000  105.000000  3.000000\nN      107.166667  0.000000  3.250000    3.750000  1.250000\nP      108.888889  0.888889  2.777778  146.111111  8.777778\nQ       95.000000  1.750000  1.337500   92.500000  6.250000\nQ      107.166667  1.000000  1.900000   45.000000  4.333333\nR      111.666667  1.500000  2.000000  185.833333  7.333333\nR      107.166667  0.500000  1.500000  235.000000  2.500000",
      "text/html": "<div>\n<style scoped>\n    .dataframe tbody tr th:only-of-type {\n        vertical-align: middle;\n    }\n\n    .dataframe tbody tr th {\n        vertical-align: top;\n    }\n\n    .dataframe thead th {\n        text-align: right;\n    }\n</style>\n<table border=\"1\" class=\"dataframe\">\n  <thead>\n    <tr style=\"text-align: right;\">\n      <th></th>\n      <th>Cal</th>\n      <th>Fat</th>\n      <th>Fiber</th>\n      <th>Sodium</th>\n      <th>Sugars</th>\n    </tr>\n    <tr>\n      <th>Manuf</th>\n      <th></th>\n      <th></th>\n      <th></th>\n      <th></th>\n      <th></th>\n    </tr>\n  </thead>\n  <tbody>\n    <tr>\n      <th>A</th>\n      <td>100.000000</td>\n      <td>1.000000</td>\n      <td>0.000000</td>\n      <td>0.000000</td>\n      <td>3.000000</td>\n    </tr>\n    <tr>\n      <th>G</th>\n      <td>111.333333</td>\n      <td>1.533333</td>\n      <td>1.133333</td>\n      <td>202.000000</td>\n      <td>8.600000</td>\n    </tr>\n    <tr>\n      <th>G</th>\n      <td>107.166667</td>\n      <td>1.125000</td>\n      <td>1.687500</td>\n      <td>190.000000</td>\n      <td>6.750000</td>\n    </tr>\n    <tr>\n      <th>K</th>\n      <td>109.473684</td>\n      <td>0.684211</td>\n      <td>3.105263</td>\n      <td>180.526316</td>\n      <td>7.736842</td>\n    </tr>\n    <tr>\n      <th>K</th>\n      <td>107.166667</td>\n      <td>0.400000</td>\n      <td>1.800000</td>\n      <td>160.000000</td>\n      <td>7.800000</td>\n    </tr>\n    <tr>\n      <th>N</th>\n      <td>85.000000</td>\n      <td>0.500000</td>\n      <td>5.500000</td>\n      <td>105.000000</td>\n      <td>3.000000</td>\n    </tr>\n    <tr>\n      <th>N</th>\n      <td>107.166667</td>\n      <td>0.000000</td>\n      <td>3.250000</td>\n      <td>3.750000</td>\n      <td>1.250000</td>\n    </tr>\n    <tr>\n      <th>P</th>\n      <td>108.888889</td>\n      <td>0.888889</td>\n      <td>2.777778</td>\n      <td>146.111111</td>\n      <td>8.777778</td>\n    </tr>\n    <tr>\n      <th>Q</th>\n      <td>95.000000</td>\n      <td>1.750000</td>\n      <td>1.337500</td>\n      <td>92.500000</td>\n      <td>6.250000</td>\n    </tr>\n    <tr>\n      <th>Q</th>\n      <td>107.166667</td>\n      <td>1.000000</td>\n      <td>1.900000</td>\n      <td>45.000000</td>\n      <td>4.333333</td>\n    </tr>\n    <tr>\n      <th>R</th>\n      <td>111.666667</td>\n      <td>1.500000</td>\n      <td>2.000000</td>\n      <td>185.833333</td>\n      <td>7.333333</td>\n    </tr>\n    <tr>\n      <th>R</th>\n      <td>107.166667</td>\n      <td>0.500000</td>\n      <td>1.500000</td>\n      <td>235.000000</td>\n      <td>2.500000</td>\n    </tr>\n  </tbody>\n</table>\n</div>"
     },
     "execution_count": 84,
     "metadata": {},
     "output_type": "execute_result"
    }
   ],
   "source": [
    "pd.pivot_table(cereals_data3, index=['Manuf'], values=['Cal', 'Fat', 'Sodium', 'Fiber', 'Sugars'], aggfunc={'Cal': np.mean,\n",
    "                                                                                                            'Fat': np.mean,\n",
    "                                                                                                            'Sodium': np.mean,\n",
    "                                                                                                            'Fiber': np.mean,\n",
    "                                                                                                            'Sugars': np.mean})"
   ]
  },
  {
   "cell_type": "markdown",
   "metadata": {
    "id": "KDjzXnzBAacp"
   },
   "source": [
    "Use the `agg` method to compute the min, mean, and max of the columns `Cal`, `Carbo`, and `Sugars`."
   ]
  },
  {
   "cell_type": "code",
   "execution_count": 90,
   "metadata": {
    "id": "q87hhNngcLOb"
   },
   "outputs": [
    {
     "data": {
      "text/plain": "             Cal     Carbo  Sugars\nmean  107.166667  14.66875     7.0\nmin    50.000000   5.00000     0.0\nmax   160.000000  23.00000    15.0",
      "text/html": "<div>\n<style scoped>\n    .dataframe tbody tr th:only-of-type {\n        vertical-align: middle;\n    }\n\n    .dataframe tbody tr th {\n        vertical-align: top;\n    }\n\n    .dataframe thead th {\n        text-align: right;\n    }\n</style>\n<table border=\"1\" class=\"dataframe\">\n  <thead>\n    <tr style=\"text-align: right;\">\n      <th></th>\n      <th>Cal</th>\n      <th>Carbo</th>\n      <th>Sugars</th>\n    </tr>\n  </thead>\n  <tbody>\n    <tr>\n      <th>mean</th>\n      <td>107.166667</td>\n      <td>14.66875</td>\n      <td>7.0</td>\n    </tr>\n    <tr>\n      <th>min</th>\n      <td>50.000000</td>\n      <td>5.00000</td>\n      <td>0.0</td>\n    </tr>\n    <tr>\n      <th>max</th>\n      <td>160.000000</td>\n      <td>23.00000</td>\n      <td>15.0</td>\n    </tr>\n  </tbody>\n</table>\n</div>"
     },
     "execution_count": 90,
     "metadata": {},
     "output_type": "execute_result"
    }
   ],
   "source": [
    "cereals_data3.agg(['mean', 'min', 'max'])[['Cal', 'Carbo', 'Sugars']]"
   ]
  },
  {
   "cell_type": "markdown",
   "metadata": {
    "id": "W_IbGbaMBziJ"
   },
   "source": [
    "## Part (b)\n",
    "\n",
    "### 3 points\n",
    "\n",
    "\n",
    "Create a cross tabulation between `Manuf` and `Shelf` using raw frequencies. (If you properly removed whitespace after reading in `more_cereals_data.csv` in Question 3, you should not see any duplicate values for `Manuf` here.)"
   ]
  },
  {
   "cell_type": "code",
   "execution_count": 84,
   "metadata": {
    "id": "kZZ2ysXSkmol"
   },
   "outputs": [],
   "source": []
  },
  {
   "cell_type": "markdown",
   "metadata": {
    "id": "PLvKoTycCDoE"
   },
   "source": [
    "Using the above crosstab, determine what percentage of cereals on shelf 2 are made by manufacturer 'K'. Your code should compute and output this value as a floating point number."
   ]
  },
  {
   "cell_type": "code",
   "execution_count": 84,
   "metadata": {
    "id": "TuDuBwzQofit"
   },
   "outputs": [],
   "source": []
  },
  {
   "cell_type": "markdown",
   "metadata": {
    "id": "Nhnz7qpkqpvN"
   },
   "source": [
    "# Question 5 - Data Visualization"
   ]
  },
  {
   "cell_type": "markdown",
   "metadata": {
    "id": "0BHtil_eDlZa"
   },
   "source": [
    "## Part (a)\n",
    "\n",
    "### 4 points\n",
    "\n",
    "\n",
    "Create a `plt` figure and set its size in inches (use `set_size_inches`) to 12x8. Add six subplots to this figure, arranged in a 2x3 grid. The x-values for each subplot should come from `Protein`, `Fat`, `Sodium`, `Fiber`, `Carbo`, and `Sugars` respectively. The y-values for all subplots should be the values for `Cal`. Set the x-label (use `set_xlabel`) for each subplot to be its respective column name."
   ]
  },
  {
   "cell_type": "code",
   "execution_count": 84,
   "metadata": {
    "id": "4-HC_U6XqAEZ"
   },
   "outputs": [],
   "source": []
  },
  {
   "cell_type": "markdown",
   "metadata": {
    "id": "a8gIVijKG7v7"
   },
   "source": [
    "## Part (b)\n",
    "\n",
    "### 4 points\n",
    "\n",
    "\n",
    "Use Seaborn to create a scatterplot using `Carbo` vs `Sugars`. Change the hue of the data points based on `Shelf` so that each shelf (1, 2, and 3) has its own color represented in the plot."
   ]
  },
  {
   "cell_type": "code",
   "execution_count": 84,
   "metadata": {
    "id": "Q7RYgdh_rIiL"
   },
   "outputs": [],
   "source": []
  },
  {
   "cell_type": "markdown",
   "metadata": {
    "id": "5hWkw9fHI_1_"
   },
   "source": [
    "Get a list of the unique manufacturers in the data. Create a figure and axes using `subplots` that is 1x7 (for the 7 manufacturers). Set the figure to 2x14 inches.\n",
    "\n",
    "For each manufacturer, use Seaborn to create a scatterplot displaying `Carbo` vs `Sugars` for each subplot based on each manufacturer. (You can pass an AxesSubplot object to a Seaborn scatterplot using the `ax` parameter.) You should have 7 subplots, each corresponding to a particular manufacturer displaying the correlation between `Carbo` and `Sugar` for that manufacturer's cereal."
   ]
  },
  {
   "cell_type": "code",
   "execution_count": 84,
   "metadata": {
    "id": "DHpvP5XIFUhv"
   },
   "outputs": [],
   "source": []
  }
 ],
 "metadata": {
  "colab": {
   "authorship_tag": "ABX9TyNiz9AZo/78VIhPbLPZxS7U",
   "collapsed_sections": [],
   "name": "Assignment 4 - Data Cleaning, Aggregation, and Visualization.ipynb",
   "provenance": []
  },
  "kernelspec": {
   "display_name": "Python 3",
   "language": "python",
   "name": "python3"
  },
  "language_info": {
   "codemirror_mode": {
    "name": "ipython",
    "version": 3
   },
   "file_extension": ".py",
   "mimetype": "text/x-python",
   "name": "python",
   "nbconvert_exporter": "python",
   "pygments_lexer": "ipython3",
   "version": "3.8.8"
  }
 },
 "nbformat": 4,
 "nbformat_minor": 1
}