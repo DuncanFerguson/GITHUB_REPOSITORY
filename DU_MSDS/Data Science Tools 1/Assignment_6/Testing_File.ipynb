{
 "cells": [
  {
   "cell_type": "code",
   "execution_count": 18,
   "metadata": {
    "collapsed": true
   },
   "outputs": [
    {
     "data": {
      "text/plain": "           Momentum     Value  ShortInterest\nindustry                                    \nFINANCIAL  0.029769  0.079899      -0.020009\nTECH       0.029872  0.079764      -0.019634",
      "text/html": "<div>\n<style scoped>\n    .dataframe tbody tr th:only-of-type {\n        vertical-align: middle;\n    }\n\n    .dataframe tbody tr th {\n        vertical-align: top;\n    }\n\n    .dataframe thead th {\n        text-align: right;\n    }\n</style>\n<table border=\"1\" class=\"dataframe\">\n  <thead>\n    <tr style=\"text-align: right;\">\n      <th></th>\n      <th>Momentum</th>\n      <th>Value</th>\n      <th>ShortInterest</th>\n    </tr>\n    <tr>\n      <th>industry</th>\n      <th></th>\n      <th></th>\n      <th></th>\n    </tr>\n  </thead>\n  <tbody>\n    <tr>\n      <th>FINANCIAL</th>\n      <td>0.029769</td>\n      <td>0.079899</td>\n      <td>-0.020009</td>\n    </tr>\n    <tr>\n      <th>TECH</th>\n      <td>0.029872</td>\n      <td>0.079764</td>\n      <td>-0.019634</td>\n    </tr>\n  </tbody>\n</table>\n</div>"
     },
     "execution_count": 18,
     "metadata": {},
     "output_type": "execute_result"
    }
   ],
   "source": [
    "import random; random.seed(0)\n",
    "import string\n",
    "import numpy as np\n",
    "import pandas as pd\n",
    "N = 1000\n",
    "def rands(n):\n",
    "    choices = string.ascii_uppercase\n",
    "    return ''.join([random.choice(choices) for _ in range(n)])\n",
    "tickers = np.array([rands(5) for _ in range(N)])\n",
    "\n",
    "M = 500\n",
    "\n",
    "M = 500\n",
    "df = pd.DataFrame({'Momentum' : np.random.randn(M) / 200 + 0.03, 'Value' : np.random.randn(M) / 200 + 0.08, 'ShortInterest' : np.random.randn(M) / 200 - 0.02}, index=tickers[:M])\n",
    "\n",
    "ind_names = np.array(['FINANCIAL', 'TECH'])\n",
    "sampler = np.random.randint(0, len(ind_names), N)\n",
    "industries = pd.Series(ind_names[sampler], index=tickers, name='industry')\n",
    "by_industry = df.groupby(industries)\n",
    "by_industry.mean()"
   ]
  }
 ],
 "metadata": {
  "kernelspec": {
   "display_name": "Python 3",
   "language": "python",
   "name": "python3"
  },
  "language_info": {
   "codemirror_mode": {
    "name": "ipython",
    "version": 2
   },
   "file_extension": ".py",
   "mimetype": "text/x-python",
   "name": "python",
   "nbconvert_exporter": "python",
   "pygments_lexer": "ipython2",
   "version": "2.7.6"
  }
 },
 "nbformat": 4,
 "nbformat_minor": 0
}