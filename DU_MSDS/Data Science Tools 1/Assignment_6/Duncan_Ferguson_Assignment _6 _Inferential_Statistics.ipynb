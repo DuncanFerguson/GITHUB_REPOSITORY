{
 "cells": [
  {
   "cell_type": "markdown",
   "metadata": {
    "id": "D6EDWciIeQGJ"
   },
   "source": [
    "# Assignment 6 - Inferential Statistics\n",
    "## Data Science Tools I\n",
    "### Professor: Don Dalton\n",
    "\n",
    "---\n",
    "\n",
    "### Student: Duncan Ferguson"
   ]
  },
  {
   "cell_type": "code",
   "execution_count": null,
   "metadata": {
    "id": "7e8yGcGjgj1P",
    "pycharm": {
     "is_executing": true
    }
   },
   "outputs": [],
   "source": [
    "import numpy as np\n",
    "import pandas as pd\n",
    "import matplotlib.pyplot as plt\n",
    "import seaborn as sns\n",
    "from scipy import stats\n",
    "from scipy.stats import sem\n",
    "from statsmodels.stats.weightstats import ztest as ztest"
   ]
  },
  {
   "cell_type": "markdown",
   "metadata": {
    "id": "SCrNyO0ukBl2"
   },
   "source": [
    "These questions will refer to a dataset on 801 Pokémon, taken from [this Kaggle link](https://www.kaggle.com/rounakbanik/pokemon). If you're not familiar with Pokémon, don't worry. You don't need any outside knowledge to do this assignment. If you are a Pokémon veteran, then you may know that there are actually more Pokémon than what are in this dataset, so this dataset is not complete. (You might say they have not caught them all.) Nonetheless, we will assume this dataset represents the entire population in question.\n",
    "\n",
    "Normally we do not have access to the entire population being researched. This example is therefore unrealistic, even excluding the fact that we're talking about fictional monsters from a video game / anime series. Nonetheless, this demonstrates the ideas discussed in class and is hopefully fun for you."
   ]
  },
  {
   "cell_type": "markdown",
   "metadata": {
    "id": "HElDGzuHed6d"
   },
   "source": [
    "# Question 1 - Exploratory Analysis"
   ]
  },
  {
   "cell_type": "markdown",
   "metadata": {
    "id": "9wUd2lKIALMe"
   },
   "source": [
    "## Part (a)\n",
    "### 2 points: Done\n",
    "\n",
    "Download the `pokemon.csv` file from the Canvas assignment page and read it into a Pandas data frame. There are many columns that we can ignore; just keep the columns `'name'`, `'base_total'`, `'type1'`, `'type2'`, `'weight_kg'`, and `'generation'`. Print the head of your filtered data frame to confirm that you only have these columns. Also print the shape of the data frame to confirm that the dataset contains 801 rows."
   ]
  },
  {
   "cell_type": "code",
   "execution_count": 162,
   "metadata": {
    "id": "Uf-6Vv8teKs5"
   },
   "outputs": [
    {
     "data": {
      "text/html": [
       "<div>\n",
       "<style scoped>\n",
       "    .dataframe tbody tr th:only-of-type {\n",
       "        vertical-align: middle;\n",
       "    }\n",
       "\n",
       "    .dataframe tbody tr th {\n",
       "        vertical-align: top;\n",
       "    }\n",
       "\n",
       "    .dataframe thead th {\n",
       "        text-align: right;\n",
       "    }\n",
       "</style>\n",
       "<table border=\"1\" class=\"dataframe\">\n",
       "  <thead>\n",
       "    <tr style=\"text-align: right;\">\n",
       "      <th></th>\n",
       "      <th>name</th>\n",
       "      <th>base_total</th>\n",
       "      <th>type1</th>\n",
       "      <th>type2</th>\n",
       "      <th>weight_kg</th>\n",
       "      <th>generation</th>\n",
       "    </tr>\n",
       "  </thead>\n",
       "  <tbody>\n",
       "    <tr>\n",
       "      <th>0</th>\n",
       "      <td>Bulbasaur</td>\n",
       "      <td>318</td>\n",
       "      <td>grass</td>\n",
       "      <td>poison</td>\n",
       "      <td>6.9</td>\n",
       "      <td>1</td>\n",
       "    </tr>\n",
       "    <tr>\n",
       "      <th>1</th>\n",
       "      <td>Ivysaur</td>\n",
       "      <td>405</td>\n",
       "      <td>grass</td>\n",
       "      <td>poison</td>\n",
       "      <td>13.0</td>\n",
       "      <td>1</td>\n",
       "    </tr>\n",
       "    <tr>\n",
       "      <th>2</th>\n",
       "      <td>Venusaur</td>\n",
       "      <td>625</td>\n",
       "      <td>grass</td>\n",
       "      <td>poison</td>\n",
       "      <td>100.0</td>\n",
       "      <td>1</td>\n",
       "    </tr>\n",
       "    <tr>\n",
       "      <th>3</th>\n",
       "      <td>Charmander</td>\n",
       "      <td>309</td>\n",
       "      <td>fire</td>\n",
       "      <td>NaN</td>\n",
       "      <td>8.5</td>\n",
       "      <td>1</td>\n",
       "    </tr>\n",
       "    <tr>\n",
       "      <th>4</th>\n",
       "      <td>Charmeleon</td>\n",
       "      <td>405</td>\n",
       "      <td>fire</td>\n",
       "      <td>NaN</td>\n",
       "      <td>19.0</td>\n",
       "      <td>1</td>\n",
       "    </tr>\n",
       "  </tbody>\n",
       "</table>\n",
       "</div>"
      ],
      "text/plain": [
       "         name  base_total  type1   type2  weight_kg  generation\n",
       "0   Bulbasaur         318  grass  poison        6.9           1\n",
       "1     Ivysaur         405  grass  poison       13.0           1\n",
       "2    Venusaur         625  grass  poison      100.0           1\n",
       "3  Charmander         309   fire     NaN        8.5           1\n",
       "4  Charmeleon         405   fire     NaN       19.0           1"
      ]
     },
     "execution_count": 162,
     "metadata": {},
     "output_type": "execute_result"
    }
   ],
   "source": [
    "# Importing the data and displaying the head()\n",
    "df = pd.read_csv('pokemon.csv')\n",
    "df = df[['name', 'base_total', 'type1', 'type2','weight_kg','generation']].copy()\n",
    "df.head()"
   ]
  },
  {
   "cell_type": "code",
   "execution_count": 163,
   "metadata": {
    "pycharm": {
     "name": "#%%\n"
    }
   },
   "outputs": [
    {
     "data": {
      "text/plain": [
       "(801, 6)"
      ]
     },
     "execution_count": 163,
     "metadata": {},
     "output_type": "execute_result"
    }
   ],
   "source": [
    "# Pringting out the shape\n",
    "df.shape"
   ]
  },
  {
   "cell_type": "markdown",
   "metadata": {
    "id": "vnjkpcOPB8k0"
   },
   "source": [
    "## Part (b)\n",
    "### 2 points\n",
    "\n",
    "All Pokémon have either 1 or 2 types, called \"primary\" (corresponding to `'type1'`) and \"secondary\" (`'type2'`) respectively. As of the most recent games, there are 18 types total. Confirm this value using the column `'type1'`.\n",
    "\n",
    "Then, count how many Pokémon there of each type. This can be easily computed using the `value_counts` method and by knowing that it is not possible for one Pokémon to have the same type for both `type1` and `type2`. Plot a bar plot showing a count for each type with each type listed along the x-axis."
   ]
  },
  {
   "cell_type": "code",
   "execution_count": 176,
   "metadata": {
    "id": "SJ2Pj0PeCKvx"
   },
   "outputs": [
    {
     "name": "stdout",
     "output_type": "stream",
     "text": [
      "Unique Values: ['bug' 'dark' 'dragon' 'electric' 'fairy' 'fighting' 'fire' 'flying'\n",
      " 'ghost' 'grass' 'ground' 'ice' 'normal' 'poison' 'psychic' 'rock' 'steel'\n",
      " 'water'] \n",
      "Number of Unique Values:  18\n"
     ]
    }
   ],
   "source": [
    "# Unique values for type 1\n",
    "unique_vals = df['type1'].unique()\n",
    "unique_vals.sort()\n",
    "print(\"Unique Values:\", unique_vals, \"\\nNumber of Unique Values: \",len(unique_vals) )"
   ]
  },
  {
   "cell_type": "code",
   "execution_count": 10,
   "metadata": {
    "pycharm": {
     "name": "#%%\n"
    }
   },
   "outputs": [
    {
     "data": {
      "text/plain": [
       "water       114\n",
       "normal      105\n",
       "grass        78\n",
       "bug          72\n",
       "psychic      53\n",
       "fire         52\n",
       "rock         45\n",
       "electric     39\n",
       "poison       32\n",
       "ground       32\n",
       "dark         29\n",
       "fighting     28\n",
       "ghost        27\n",
       "dragon       27\n",
       "steel        24\n",
       "ice          23\n",
       "fairy        18\n",
       "flying        3\n",
       "Name: type1, dtype: int64"
      ]
     },
     "execution_count": 10,
     "metadata": {},
     "output_type": "execute_result"
    }
   ],
   "source": [
    "# Displaying Type 1 Value Counts\n",
    "df.type1.value_counts()"
   ]
  },
  {
   "cell_type": "code",
   "execution_count": 133,
   "metadata": {
    "pycharm": {
     "name": "#%%\n"
    }
   },
   "outputs": [
    {
     "data": {
      "image/png": "[encoded data removed]",
      "text/plain": [
       "<Figure size 360x360 with 1 Axes>"
      ]
     },
     "metadata": {
      "needs_background": "light"
     },
     "output_type": "display_data"
    }
   ],
   "source": [
    "# Graphing Type 1 value counts\n",
    "plot = sns.displot(data=df.type1)\n",
    "plot.set_xticklabels(rotation=90);\n",
    "plot.tight_layout()\n",
    "plt.title(\"Type1 Primary Pokemon Count\");"
   ]
  },
  {
   "cell_type": "code",
   "execution_count": 12,
   "metadata": {
    "pycharm": {
     "name": "#%%\n"
    }
   },
   "outputs": [
    {
     "data": {
      "text/plain": [
       "flying      95\n",
       "poison      34\n",
       "ground      34\n",
       "fairy       29\n",
       "psychic     29\n",
       "fighting    25\n",
       "steel       22\n",
       "dark        21\n",
       "grass       20\n",
       "water       17\n",
       "dragon      17\n",
       "ice         15\n",
       "rock        14\n",
       "ghost       14\n",
       "fire        13\n",
       "electric     9\n",
       "bug          5\n",
       "normal       4\n",
       "Name: type2, dtype: int64"
      ]
     },
     "execution_count": 12,
     "metadata": {},
     "output_type": "execute_result"
    }
   ],
   "source": [
    "# Displaying Type 2 Counts\n",
    "df.type2.value_counts()"
   ]
  },
  {
   "cell_type": "code",
   "execution_count": 134,
   "metadata": {
    "pycharm": {
     "name": "#%%\n"
    }
   },
   "outputs": [
    {
     "data": {
      "image/png": "[encoded data removed]",
      "text/plain": [
       "<Figure size 360x360 with 1 Axes>"
      ]
     },
     "metadata": {
      "needs_background": "light"
     },
     "output_type": "display_data"
    }
   ],
   "source": [
    "# Graphing Type 2 Counts\n",
    "plot = sns.displot(data=df.type2)\n",
    "plot.set_xticklabels(rotation=90);\n",
    "plot.tight_layout()\n",
    "plt.title(\"Type2 Secondary Pokemon Count\");"
   ]
  },
  {
   "cell_type": "code",
   "execution_count": 14,
   "metadata": {
    "pycharm": {
     "name": "#%%\n"
    }
   },
   "outputs": [
    {
     "data": {
      "text/plain": [
       "water       131\n",
       "normal      109\n",
       "grass        98\n",
       "flying       98\n",
       "psychic      82\n",
       "bug          77\n",
       "poison       66\n",
       "ground       66\n",
       "fire         65\n",
       "rock         59\n",
       "fighting     53\n",
       "dark         50\n",
       "electric     48\n",
       "fairy        47\n",
       "steel        46\n",
       "dragon       44\n",
       "ghost        41\n",
       "ice          38\n",
       "Name: type, dtype: int64"
      ]
     },
     "execution_count": 14,
     "metadata": {},
     "output_type": "execute_result"
    }
   ],
   "source": [
    "# Manipulating the data so that I can count types for both type 1 & 2 together\n",
    "df_type1 = df[['name', 'type1']].copy()\n",
    "df_type2 = df[['name', 'type2']].copy()\n",
    "df_type2 = df_type2[~df_type2['type2'].isnull()].copy()\n",
    "df_type1['Type_Origin'] = ['Type1' for _ in range(len(df_type1['type1']))]\n",
    "df_type2['Type_Origin'] = ['Type2' for _ in range(len(df_type2['type2']))]\n",
    "df_type1.rename(columns={'type1':'type'}, inplace=True)\n",
    "df_type2.rename(columns={'type2':'type'}, inplace=True)\n",
    "df_comp = pd.concat([df_type1, df_type2], ignore_index=True)\n",
    "# Displaying the Counts for the comp\n",
    "df_comp['type'].value_counts()"
   ]
  },
  {
   "cell_type": "code",
   "execution_count": 159,
   "metadata": {
    "pycharm": {
     "name": "#%%\n"
    }
   },
   "outputs": [
    {
     "data": {
      "image/png": "[encoded data removed]",
      "text/plain": [
       "<Figure size 360x360 with 1 Axes>"
      ]
     },
     "metadata": {
      "needs_background": "light"
     },
     "output_type": "display_data"
    }
   ],
   "source": [
    "# Graphing the comp counts\n",
    "plot = sns.displot(data=df_comp.type)\n",
    "plot.set_xticklabels(rotation=90)\n",
    "plot.tight_layout()\n",
    "plt.title(\"Total Type 1 & Type 2 Counts combined\");"
   ]
  },
  {
   "cell_type": "code",
   "execution_count": 160,
   "metadata": {
    "pycharm": {
     "name": "#%%\n"
    }
   },
   "outputs": [
    {
     "data": {
      "image/png": "[encoded data removed]",
      "text/plain": [
       "<Figure size 426.125x360 with 1 Axes>"
      ]
     },
     "metadata": {
      "needs_background": "light"
     },
     "output_type": "display_data"
    }
   ],
   "source": [
    "# Displaying the Type Counts on top of each other\n",
    "plot = sns.displot(data=df_comp, x='type', hue='Type_Origin', multiple='stack')\n",
    "plot.set_xticklabels(rotation=90)\n",
    "plot.tight_layout()\n",
    "plt.title(\"Total Type Count by Type\");"
   ]
  },
  {
   "cell_type": "markdown",
   "metadata": {
    "id": "aXPpyxRkC3Bu"
   },
   "source": [
    "## Part (c)\n",
    "### 4 points\n",
    "\n",
    "`'weight_kg'` (unsurprisingly) is the weight in kilograms of a given Pokémon. `'base_total'` is the \"base stat total\" of a Pokémon, which is the sum of its HP, attack, speed, etc. Simply put, the base total is a measure of a Pokémon's overall strength.\n",
    "\n",
    "Plot separate distribution plots for the columns `'weight_kg'` and `'base_total'`, overlaying the estimated distribution (kde) on each histogram. Print the skew value for each column along with its plot.\n",
    "\n",
    "Are these distributions normal? Include your answers as an in-line comment within your code cell(s)."
   ]
  },
  {
   "cell_type": "code",
   "execution_count": 18,
   "metadata": {
    "id": "-wVSuDIZgpC5"
   },
   "outputs": [
    {
     "data": {
      "image/png": "[encoded data removed]",
      "text/plain": [
       "<Figure size 360x360 with 1 Axes>"
      ]
     },
     "metadata": {
      "needs_background": "light"
     },
     "output_type": "display_data"
    }
   ],
   "source": [
    "# Plotting distribution plot for 'weight_kg\n",
    "plot = sns.displot(data=df.weight_kg, kde=True)\n",
    "plot.set_xticklabels(rotation=90)\n",
    "plot.tight_layout()\n",
    "plt.title(\"Weight kg Distribution plot\");"
   ]
  },
  {
   "cell_type": "code",
   "execution_count": 19,
   "metadata": {
    "pycharm": {
     "name": "#%%\n"
    }
   },
   "outputs": [
    {
     "name": "stdout",
     "output_type": "stream",
     "text": [
      "Weight Kg skew: 4.8710444546306055\n"
     ]
    }
   ],
   "source": [
    "print(f\"Weight Kg skew: {df.weight_kg.skew()}\")"
   ]
  },
  {
   "cell_type": "markdown",
   "metadata": {
    "pycharm": {
     "name": "#%% md\n"
    }
   },
   "source": [
    "### Weight KG is not a normal distribution. It is skewed. The skewed value is above 1 indicated that the data is highly skewed. The Weight kg skew is to the right."
   ]
  },
  {
   "cell_type": "code",
   "execution_count": 20,
   "metadata": {
    "pycharm": {
     "name": "#%%\n"
    }
   },
   "outputs": [
    {
     "data": {
      "image/png": "[encoded data removed]",
      "text/plain": [
       "<Figure size 360x360 with 1 Axes>"
      ]
     },
     "metadata": {
      "needs_background": "light"
     },
     "output_type": "display_data"
    }
   ],
   "source": [
    "# Plotting distribution plot for base_total\n",
    "plot = sns.displot(data=df.base_total, kde=True)\n",
    "plot.set_xticklabels(rotation=90)\n",
    "plot.tight_layout()\n",
    "plt.title(\"Total Base Distribution plot\");"
   ]
  },
  {
   "cell_type": "code",
   "execution_count": 21,
   "metadata": {
    "pycharm": {
     "name": "#%%\n"
    }
   },
   "outputs": [
    {
     "name": "stdout",
     "output_type": "stream",
     "text": [
      "Total base skew: 0.1745927583435159\n"
     ]
    }
   ],
   "source": [
    "print(f\"Total base skew: {df.base_total.skew()}\")"
   ]
  },
  {
   "cell_type": "markdown",
   "metadata": {
    "pycharm": {
     "name": "#%% md\n"
    }
   },
   "source": [
    "### Total base has a skew value that is inbetween -0.5 and 0.5 indicating that the distrbution is appoximately symmetric. Meaning that it is closer to a normal distribution"
   ]
  },
  {
   "cell_type": "markdown",
   "metadata": {
    "id": "24qujI8-zS3g"
   },
   "source": [
    "# Question 2 - z-test\n",
    "\n",
    "This question will use the `'base_total'` column as the data of interest and the Pokémon from Generation I as the sample set. While z-tests can easily be automated, here we will walk through the process to get a better feel for what's happening \"behind the scenes\"."
   ]
  },
  {
   "cell_type": "markdown",
   "metadata": {
    "id": "h_x1Pp1K_h40"
   },
   "source": [
    "## Part (a)\n",
    "### 2 points\n",
    "\n",
    "Suppose your friend likes Pokémon but is only familiar with the original 151 from generation 1. They didn't realize that many more games have come out since the first ones and are curious if the overall base totals have changed much with the newer generations. The Pokémon from generation 1 will be our sample.\n",
    "\n",
    "For this example, we know the population mean and standard deviation. In realistic settings, these are given from outside sources, but in our case we can calculate them from the dataset of all Pokémon. Compute and print these values.\n",
    "\n",
    "After determining the population mean (and standard deviation), state the null and alternative hypotheses in a text cell or as an in-line comment."
   ]
  },
  {
   "cell_type": "code",
   "execution_count": 26,
   "metadata": {
    "id": "IMujcizUiWkR"
   },
   "outputs": [
    {
     "data": {
      "text/plain": [
       "count    801.000000\n",
       "mean     428.377029\n",
       "std      119.203577\n",
       "min      180.000000\n",
       "25%      320.000000\n",
       "50%      435.000000\n",
       "75%      505.000000\n",
       "max      780.000000\n",
       "Name: base_total, dtype: float64"
      ]
     },
     "execution_count": 26,
     "metadata": {},
     "output_type": "execute_result"
    }
   ],
   "source": [
    "# Computing the Mean and stardard deviation for all Pokemon. i.e. All generations as asked for above.\n",
    "df['base_total'].describe()"
   ]
  },
  {
   "cell_type": "markdown",
   "metadata": {
    "pycharm": {
     "name": "#%% md\n"
    }
   },
   "source": [
    "### The Null hypothesis is that the mean for Generation 1 is the same as the rest of the generations\n",
    "Null Hypothesis $$ \\mu =\\mu_0 = 428.377029$$\n",
    "\n",
    "### The Alternative hypothesis is that there is no evidence that suggests that the two means are the same\n",
    "Alternative Hypothesis $$ \\mu \\neq \\mu_0 \\neq 428.377029$$\n",
    "\n",
    "\n"
   ]
  },
  {
   "cell_type": "markdown",
   "metadata": {
    "pycharm": {
     "name": "#%% md\n"
    }
   },
   "source": [
    "## Part (b)\n",
    "### 2 points\n",
    "\n",
    "As a separate data frame, extract the Pokémon that are from generation 1 to use as our sample. Call this variable `gen1`. Confirm that the last Pokémon included in the sample is the 151st (index 150) by printing the tail of `gen1`.\n",
    "\n",
    "Calculate and print the standard error of the sampling distribution of the mean following the formula given in class:\n",
    "$$\n",
    "\\sigma_{\\bar{X}} = \\frac{\\sigma}{\\sqrt{n}}\n",
    "$$\n"
   ]
  },
  {
   "cell_type": "code",
   "execution_count": 35,
   "metadata": {
    "pycharm": {
     "name": "#%%\n"
    }
   },
   "outputs": [
    {
     "data": {
      "text/plain": [
       "146    300\n",
       "147    420\n",
       "148    600\n",
       "149    780\n",
       "150    600\n",
       "Name: base_total, dtype: int64"
      ]
     },
     "execution_count": 35,
     "metadata": {},
     "output_type": "execute_result"
    }
   ],
   "source": [
    "# Extracting Pokemon from generation 1\n",
    "gen1 = df[df['generation'] == 1].copy()\n",
    "\n",
    "# Confirming that the last pokemon included in the sample is the 151st (Index 150) by printing the tail of gen1\n",
    "gen1['base_total'].tail()"
   ]
  },
  {
   "cell_type": "code",
   "execution_count": 38,
   "metadata": {
    "pycharm": {
     "name": "#%%\n"
    }
   },
   "outputs": [
    {
     "data": {
      "text/plain": [
       "9.13667726225073"
      ]
     },
     "execution_count": 38,
     "metadata": {},
     "output_type": "execute_result"
    }
   ],
   "source": [
    "# Calculating the standard error the sampling distribution of the mean using two different versions. the later being the formula in class\n",
    "sem(gen1['base_total'])"
   ]
  },
  {
   "cell_type": "code",
   "execution_count": 39,
   "metadata": {
    "pycharm": {
     "name": "#%%\n"
    }
   },
   "outputs": [
    {
     "data": {
      "text/plain": [
       "9.136677262250727"
      ]
     },
     "execution_count": 39,
     "metadata": {},
     "output_type": "execute_result"
    }
   ],
   "source": [
    "np.std(gen1['base_total'], ddof=1) / np.sqrt(np.size(gen1['base_total']))"
   ]
  },
  {
   "cell_type": "markdown",
   "metadata": {
    "id": "qE79EAffN0aa"
   },
   "source": [
    "\n",
    "\n",
    "\n",
    "## Part (c)\n",
    "### 3 points\n",
    "\n",
    "To demonstrate the properties of the z-distribution, create a Series that is the `'base_total'` column converted into z-scores using the formula:\n",
    "$$\n",
    "z = \\frac{x-\\mu}{\\sigma}\n",
    "$$\n",
    "for each value $x$ in the column. Plot this distribution to visually confirm the mean is around 0 and the standard deviation is around 1.\n",
    "\n",
    "Compute and output the \"observed z\", which is the sample mean converted into a z-score.\n",
    "$$\n",
    "z_{observed} = \\frac{\\bar{X} - \\mu}{\\sigma_{\\bar{X}}}\n",
    "$$"
   ]
  },
  {
   "cell_type": "code",
   "execution_count": 47,
   "metadata": {
    "pycharm": {
     "name": "#%%\n"
    }
   },
   "outputs": [
    {
     "data": {
      "text/html": [
       "<div>\n",
       "<style scoped>\n",
       "    .dataframe tbody tr th:only-of-type {\n",
       "        vertical-align: middle;\n",
       "    }\n",
       "\n",
       "    .dataframe tbody tr th {\n",
       "        vertical-align: top;\n",
       "    }\n",
       "\n",
       "    .dataframe thead th {\n",
       "        text-align: right;\n",
       "    }\n",
       "</style>\n",
       "<table border=\"1\" class=\"dataframe\">\n",
       "  <thead>\n",
       "    <tr style=\"text-align: right;\">\n",
       "      <th></th>\n",
       "      <th>name</th>\n",
       "      <th>base_total</th>\n",
       "      <th>type1</th>\n",
       "      <th>type2</th>\n",
       "      <th>weight_kg</th>\n",
       "      <th>generation</th>\n",
       "      <th>base_total_z</th>\n",
       "    </tr>\n",
       "  </thead>\n",
       "  <tbody>\n",
       "    <tr>\n",
       "      <th>0</th>\n",
       "      <td>Bulbasaur</td>\n",
       "      <td>318</td>\n",
       "      <td>grass</td>\n",
       "      <td>poison</td>\n",
       "      <td>6.9</td>\n",
       "      <td>1</td>\n",
       "      <td>-0.926533</td>\n",
       "    </tr>\n",
       "    <tr>\n",
       "      <th>1</th>\n",
       "      <td>Ivysaur</td>\n",
       "      <td>405</td>\n",
       "      <td>grass</td>\n",
       "      <td>poison</td>\n",
       "      <td>13.0</td>\n",
       "      <td>1</td>\n",
       "      <td>-0.196233</td>\n",
       "    </tr>\n",
       "    <tr>\n",
       "      <th>2</th>\n",
       "      <td>Venusaur</td>\n",
       "      <td>625</td>\n",
       "      <td>grass</td>\n",
       "      <td>poison</td>\n",
       "      <td>100.0</td>\n",
       "      <td>1</td>\n",
       "      <td>1.650503</td>\n",
       "    </tr>\n",
       "    <tr>\n",
       "      <th>3</th>\n",
       "      <td>Charmander</td>\n",
       "      <td>309</td>\n",
       "      <td>fire</td>\n",
       "      <td>NaN</td>\n",
       "      <td>8.5</td>\n",
       "      <td>1</td>\n",
       "      <td>-1.002081</td>\n",
       "    </tr>\n",
       "    <tr>\n",
       "      <th>4</th>\n",
       "      <td>Charmeleon</td>\n",
       "      <td>405</td>\n",
       "      <td>fire</td>\n",
       "      <td>NaN</td>\n",
       "      <td>19.0</td>\n",
       "      <td>1</td>\n",
       "      <td>-0.196233</td>\n",
       "    </tr>\n",
       "  </tbody>\n",
       "</table>\n",
       "</div>"
      ],
      "text/plain": [
       "         name  base_total  type1   type2  weight_kg  generation  base_total_z\n",
       "0   Bulbasaur         318  grass  poison        6.9           1     -0.926533\n",
       "1     Ivysaur         405  grass  poison       13.0           1     -0.196233\n",
       "2    Venusaur         625  grass  poison      100.0           1      1.650503\n",
       "3  Charmander         309   fire     NaN        8.5           1     -1.002081\n",
       "4  Charmeleon         405   fire     NaN       19.0           1     -0.196233"
      ]
     },
     "execution_count": 47,
     "metadata": {},
     "output_type": "execute_result"
    }
   ],
   "source": [
    "# Generating the Z scores for the whole df\n",
    "df['base_total_z'] = (df['base_total'] - df['base_total'].mean())/df['base_total'].std(ddof=0)\n",
    "df.head()"
   ]
  },
  {
   "cell_type": "code",
   "execution_count": 49,
   "metadata": {
    "id": "hubGpW7Hzdes"
   },
   "outputs": [
    {
     "data": {
      "image/png": "[encoded data removed]",
      "text/plain": [
       "<Figure size 360x360 with 1 Axes>"
      ]
     },
     "metadata": {
      "needs_background": "light"
     },
     "output_type": "display_data"
    }
   ],
   "source": [
    "# Displaying the Z- Scores for the whole DF\n",
    "sns.displot(df, x= \"base_total_z\", kde= True)\n",
    "plot.set_xticklabels(rotation=90)\n",
    "plot.tight_layout()\n",
    "plt.title(\"Plotting Distribution of z scores for total data set\");"
   ]
  },
  {
   "cell_type": "code",
   "execution_count": 52,
   "metadata": {
    "pycharm": {
     "name": "#%%\n"
    }
   },
   "outputs": [
    {
     "data": {
      "image/png": "[encoded data removed]",
      "text/plain": [
       "<Figure size 360x360 with 1 Axes>"
      ]
     },
     "metadata": {
      "needs_background": "light"
     },
     "output_type": "display_data"
    }
   ],
   "source": [
    "# Plotting the distribution for just generation 1\n",
    "sns.displot(df[df['generation'] == 1], x= \"base_total_z\", kde= True)\n",
    "plot.set_xticklabels(rotation=90)\n",
    "plot.tight_layout()\n",
    "plt.title(\"Plotting Distribution of z scores for Gen 1\");"
   ]
  },
  {
   "cell_type": "code",
   "execution_count": 135,
   "metadata": {
    "pycharm": {
     "name": "#%%\n"
    }
   },
   "outputs": [
    {
     "data": {
      "text/plain": [
       "1.3271097070557305"
      ]
     },
     "execution_count": 135,
     "metadata": {},
     "output_type": "execute_result"
    }
   ],
   "source": [
    "observed_z = (gen1['base_total'].mean()- df['base_total'].mean())/(np.std(gen1['base_total'], ddof=1) / np.sqrt(np.size(gen1['base_total'])))\n",
    "abs(observed_z)"
   ]
  },
  {
   "cell_type": "markdown",
   "metadata": {
    "id": "Rmkh32ZuOw3H"
   },
   "source": [
    "## Part (d)\n",
    "### 2 points\n",
    "\n",
    "Using a confidence level of $\\alpha=0.05$ and corresponding critical values of $\\pm1.96$, determine if the null hypothesis should be rejected or retained. State a conclusion regarding base totals of all Pokémon based on this decision rule."
   ]
  },
  {
   "cell_type": "markdown",
   "metadata": {
    "id": "meHGT745PQPW"
   },
   "source": [
    "### The absolute value of our observed z score is 1.3271 < 1.96 critical value so we fail to reject the null hypothesis  with a level of significance of $\\alpha=0.05$\n"
   ]
  },
  {
   "cell_type": "markdown",
   "metadata": {
    "id": "9No5ikg7PScy"
   },
   "source": [
    "# Question 3 - t-test\n",
    "\n",
    "Base totals again are the data of interest, but now with two independent samples of mostly male Pokémon from generation 1 and mostly female Pokémon from generation 1."
   ]
  },
  {
   "cell_type": "markdown",
   "metadata": {
    "id": "zvi_UTWFPVTr"
   },
   "source": [
    "## Part (a)\n",
    "### 3 points\n",
    "\n",
    "As an example of a two-sample t-test, let's suppose we are interested in seeing if there is any bias coming from the designers of the games regarding the base totals for Pokémon that are more likely to be male and those that are more likely to be female (the intuition being that the base totals for mostly female Pokémon are perhaps lower than those of mostly males). The two-sample t-test will determine if the mean base totals between these two groups significantly differ.\n",
    "\n",
    "Start by extracting the Pokémon from `gen1` whose `'percentage_male'` is strictly greater than 50 in a separate data frame. Do the same for mostly female Pokémon whose `'percentage_male'` is strictly less than 50. *Note that we are excluding Pokémon whose `'percentage_male'` is equal to 50.*\n",
    "\n",
    "Confirm the normality of these two group's `'base_total'` values using distribution plots and skewness value as before."
   ]
  },
  {
   "cell_type": "code",
   "execution_count": 144,
   "metadata": {
    "id": "9T-SC7OgXNvv"
   },
   "outputs": [
    {
     "name": "stderr",
     "output_type": "stream",
     "text": [
      "C:\\Users\\dunca\\AppData\\Local\\Temp/ipykernel_19596/4155852391.py:6: UserWarning: Boolean Series key will be reindexed to match DataFrame index.\n",
      "  gen1_v2 = df2[df['generation'] == 1].copy()\n"
     ]
    }
   ],
   "source": [
    "df2 = pd.read_csv('pokemon.csv')\n",
    "df2 = df2[['name', 'base_total', 'type1', 'type2','weight_kg','generation', 'percentage_male']].copy()\n",
    "df2 = df2[~df2['percentage_male'].isnull()].copy()\n",
    "\n",
    "\n",
    "gen1_v2 = df2[df['generation'] == 1].copy()\n",
    "gen1_male = gen1_v2[gen1_v2['percentage_male'] > 50]\n",
    "gen1_female = gen1_v2[gen1_v2['percentage_male'] < 50]"
   ]
  },
  {
   "cell_type": "code",
   "execution_count": 145,
   "metadata": {
    "pycharm": {
     "name": "#%%\n"
    }
   },
   "outputs": [
    {
     "data": {
      "text/html": [
       "<div>\n",
       "<style scoped>\n",
       "    .dataframe tbody tr th:only-of-type {\n",
       "        vertical-align: middle;\n",
       "    }\n",
       "\n",
       "    .dataframe tbody tr th {\n",
       "        vertical-align: top;\n",
       "    }\n",
       "\n",
       "    .dataframe thead th {\n",
       "        text-align: right;\n",
       "    }\n",
       "</style>\n",
       "<table border=\"1\" class=\"dataframe\">\n",
       "  <thead>\n",
       "    <tr style=\"text-align: right;\">\n",
       "      <th></th>\n",
       "      <th>name</th>\n",
       "      <th>base_total</th>\n",
       "      <th>type1</th>\n",
       "      <th>type2</th>\n",
       "      <th>weight_kg</th>\n",
       "      <th>generation</th>\n",
       "      <th>percentage_male</th>\n",
       "    </tr>\n",
       "  </thead>\n",
       "  <tbody>\n",
       "    <tr>\n",
       "      <th>0</th>\n",
       "      <td>Bulbasaur</td>\n",
       "      <td>318</td>\n",
       "      <td>grass</td>\n",
       "      <td>poison</td>\n",
       "      <td>6.9</td>\n",
       "      <td>1</td>\n",
       "      <td>88.1</td>\n",
       "    </tr>\n",
       "    <tr>\n",
       "      <th>1</th>\n",
       "      <td>Ivysaur</td>\n",
       "      <td>405</td>\n",
       "      <td>grass</td>\n",
       "      <td>poison</td>\n",
       "      <td>13.0</td>\n",
       "      <td>1</td>\n",
       "      <td>88.1</td>\n",
       "    </tr>\n",
       "    <tr>\n",
       "      <th>2</th>\n",
       "      <td>Venusaur</td>\n",
       "      <td>625</td>\n",
       "      <td>grass</td>\n",
       "      <td>poison</td>\n",
       "      <td>100.0</td>\n",
       "      <td>1</td>\n",
       "      <td>88.1</td>\n",
       "    </tr>\n",
       "    <tr>\n",
       "      <th>3</th>\n",
       "      <td>Charmander</td>\n",
       "      <td>309</td>\n",
       "      <td>fire</td>\n",
       "      <td>NaN</td>\n",
       "      <td>8.5</td>\n",
       "      <td>1</td>\n",
       "      <td>88.1</td>\n",
       "    </tr>\n",
       "    <tr>\n",
       "      <th>4</th>\n",
       "      <td>Charmeleon</td>\n",
       "      <td>405</td>\n",
       "      <td>fire</td>\n",
       "      <td>NaN</td>\n",
       "      <td>19.0</td>\n",
       "      <td>1</td>\n",
       "      <td>88.1</td>\n",
       "    </tr>\n",
       "  </tbody>\n",
       "</table>\n",
       "</div>"
      ],
      "text/plain": [
       "         name  base_total  type1   type2  weight_kg  generation  \\\n",
       "0   Bulbasaur         318  grass  poison        6.9           1   \n",
       "1     Ivysaur         405  grass  poison       13.0           1   \n",
       "2    Venusaur         625  grass  poison      100.0           1   \n",
       "3  Charmander         309   fire     NaN        8.5           1   \n",
       "4  Charmeleon         405   fire     NaN       19.0           1   \n",
       "\n",
       "   percentage_male  \n",
       "0             88.1  \n",
       "1             88.1  \n",
       "2             88.1  \n",
       "3             88.1  \n",
       "4             88.1  "
      ]
     },
     "execution_count": 145,
     "metadata": {},
     "output_type": "execute_result"
    }
   ],
   "source": [
    "gen1_male.head()"
   ]
  },
  {
   "cell_type": "code",
   "execution_count": 104,
   "metadata": {
    "pycharm": {
     "name": "#%%\n"
    }
   },
   "outputs": [
    {
     "data": {
      "text/html": [
       "<div>\n",
       "<style scoped>\n",
       "    .dataframe tbody tr th:only-of-type {\n",
       "        vertical-align: middle;\n",
       "    }\n",
       "\n",
       "    .dataframe tbody tr th {\n",
       "        vertical-align: top;\n",
       "    }\n",
       "\n",
       "    .dataframe thead th {\n",
       "        text-align: right;\n",
       "    }\n",
       "</style>\n",
       "<table border=\"1\" class=\"dataframe\">\n",
       "  <thead>\n",
       "    <tr style=\"text-align: right;\">\n",
       "      <th></th>\n",
       "      <th>name</th>\n",
       "      <th>base_total</th>\n",
       "      <th>type1</th>\n",
       "      <th>type2</th>\n",
       "      <th>weight_kg</th>\n",
       "      <th>generation</th>\n",
       "      <th>percentage_male</th>\n",
       "    </tr>\n",
       "  </thead>\n",
       "  <tbody>\n",
       "    <tr>\n",
       "      <th>28</th>\n",
       "      <td>Nidoran♀</td>\n",
       "      <td>275</td>\n",
       "      <td>poison</td>\n",
       "      <td>NaN</td>\n",
       "      <td>7.0</td>\n",
       "      <td>1</td>\n",
       "      <td>0.0</td>\n",
       "    </tr>\n",
       "    <tr>\n",
       "      <th>29</th>\n",
       "      <td>Nidorina</td>\n",
       "      <td>365</td>\n",
       "      <td>poison</td>\n",
       "      <td>NaN</td>\n",
       "      <td>20.0</td>\n",
       "      <td>1</td>\n",
       "      <td>0.0</td>\n",
       "    </tr>\n",
       "    <tr>\n",
       "      <th>30</th>\n",
       "      <td>Nidoqueen</td>\n",
       "      <td>505</td>\n",
       "      <td>poison</td>\n",
       "      <td>ground</td>\n",
       "      <td>60.0</td>\n",
       "      <td>1</td>\n",
       "      <td>0.0</td>\n",
       "    </tr>\n",
       "    <tr>\n",
       "      <th>34</th>\n",
       "      <td>Clefairy</td>\n",
       "      <td>323</td>\n",
       "      <td>fairy</td>\n",
       "      <td>NaN</td>\n",
       "      <td>7.5</td>\n",
       "      <td>1</td>\n",
       "      <td>24.6</td>\n",
       "    </tr>\n",
       "    <tr>\n",
       "      <th>35</th>\n",
       "      <td>Clefable</td>\n",
       "      <td>483</td>\n",
       "      <td>fairy</td>\n",
       "      <td>NaN</td>\n",
       "      <td>40.0</td>\n",
       "      <td>1</td>\n",
       "      <td>24.6</td>\n",
       "    </tr>\n",
       "  </tbody>\n",
       "</table>\n",
       "</div>"
      ],
      "text/plain": [
       "         name  base_total   type1   type2  weight_kg  generation  \\\n",
       "28   Nidoran♀         275  poison     NaN        7.0           1   \n",
       "29   Nidorina         365  poison     NaN       20.0           1   \n",
       "30  Nidoqueen         505  poison  ground       60.0           1   \n",
       "34   Clefairy         323   fairy     NaN        7.5           1   \n",
       "35   Clefable         483   fairy     NaN       40.0           1   \n",
       "\n",
       "    percentage_male  \n",
       "28              0.0  \n",
       "29              0.0  \n",
       "30              0.0  \n",
       "34             24.6  \n",
       "35             24.6  "
      ]
     },
     "execution_count": 104,
     "metadata": {},
     "output_type": "execute_result"
    }
   ],
   "source": [
    "gen1_female.head()"
   ]
  },
  {
   "cell_type": "code",
   "execution_count": 105,
   "metadata": {
    "pycharm": {
     "name": "#%%\n"
    }
   },
   "outputs": [
    {
     "data": {
      "image/png": "[encoded data removed]",
      "text/plain": [
       "<Figure size 360x360 with 1 Axes>"
      ]
     },
     "metadata": {
      "needs_background": "light"
     },
     "output_type": "display_data"
    }
   ],
   "source": [
    "# Plotting distribution plot for 'weight_kg\n",
    "plot = sns.displot(data=gen1_male.base_total, kde=True)\n",
    "plot.set_xticklabels(rotation=90)\n",
    "plot.tight_layout()\n",
    "plt.title(\"Gen 1 Distribution Plot of Males Base Total\");"
   ]
  },
  {
   "cell_type": "code",
   "execution_count": 106,
   "metadata": {
    "pycharm": {
     "name": "#%%\n"
    }
   },
   "outputs": [
    {
     "name": "stdout",
     "output_type": "stream",
     "text": [
      "Total base skew: 0.1073057362993733\n"
     ]
    }
   ],
   "source": [
    "print(f\"Total base skew: {gen1_male.base_total.skew()}\")"
   ]
  },
  {
   "cell_type": "code",
   "execution_count": 107,
   "metadata": {
    "pycharm": {
     "name": "#%%\n"
    }
   },
   "outputs": [
    {
     "data": {
      "image/png": "[encoded data removed]",
      "text/plain": [
       "<Figure size 360x360 with 1 Axes>"
      ]
     },
     "metadata": {
      "needs_background": "light"
     },
     "output_type": "display_data"
    }
   ],
   "source": [
    "# Plotting distribution plot for 'weight_kg\n",
    "plot = sns.displot(data=gen1_female.base_total, kde=True)\n",
    "plot.set_xticklabels(rotation=90)\n",
    "plot.tight_layout()\n",
    "plt.title(\"Gen 1 Distribution Plot of Female Base Total\");"
   ]
  },
  {
   "cell_type": "code",
   "execution_count": 108,
   "metadata": {
    "pycharm": {
     "name": "#%%\n"
    }
   },
   "outputs": [
    {
     "name": "stdout",
     "output_type": "stream",
     "text": [
      "Total base skew: -0.02523749124096716\n"
     ]
    }
   ],
   "source": [
    "print(f\"Total base skew: {gen1_female.base_total.skew()}\")"
   ]
  },
  {
   "cell_type": "code",
   "execution_count": 147,
   "metadata": {
    "pycharm": {
     "name": "#%%\n"
    }
   },
   "outputs": [
    {
     "name": "stderr",
     "output_type": "stream",
     "text": [
      "C:\\Users\\dunca\\anaconda3\\envs\\GIS\\lib\\site-packages\\pandas\\core\\frame.py:3607: SettingWithCopyWarning: \n",
      "A value is trying to be set on a copy of a slice from a DataFrame.\n",
      "Try using .loc[row_indexer,col_indexer] = value instead\n",
      "\n",
      "See the caveats in the documentation: https://pandas.pydata.org/pandas-docs/stable/user_guide/indexing.html#returning-a-view-versus-a-copy\n",
      "  self._set_item(key, value)\n"
     ]
    },
    {
     "data": {
      "image/png": "[encoded data removed]",
      "text/plain": [
       "<Figure size 430.5x360 with 1 Axes>"
      ]
     },
     "metadata": {
      "needs_background": "light"
     },
     "output_type": "display_data"
    }
   ],
   "source": [
    "gen1_male['Gender'] = ['Male' for _ in range(len(gen1_male['base_total']))]\n",
    "gen1_male_bt = gen1_male[['base_total', 'Gender']].copy()\n",
    "\n",
    "gen1_female['Gender'] = ['female' for _ in range(len(gen1_female['base_total']))]\n",
    "gen1_female_bt = gen1_female[['base_total', 'Gender']].copy()\n",
    "\n",
    "gen1_gender = pd.concat([gen1_male_bt, gen1_female_bt], ignore_index=True)\n",
    "# Displaying the Counts for the comp\n",
    "plot = sns.displot(data=gen1_gender, x='base_total', hue='Gender', multiple='stack',kde=True)\n",
    "plot.set_xticklabels(rotation=90)\n",
    "plot.tight_layout()\n",
    "plt.title(\"Base Total Distribution by Gender\");"
   ]
  },
  {
   "cell_type": "markdown",
   "metadata": {
    "id": "Ag2WQeV0L_Tb"
   },
   "source": [
    "## Part (b)\n",
    "### 2 points\n",
    "\n",
    "Generally the t-test requires an assumption that the variance between the two independent groups is roughly equal (called \"homogeneity of variance\"). The t-test method given by `stats` can actually account for when the variance is unequal as well. Regardless, we need to know which is the case for our data, so let's check using the Levene test. Again, we're interested in the `'base_total'` values of each group - mostly male and mostly female."
   ]
  },
  {
   "cell_type": "code",
   "execution_count": 111,
   "metadata": {
    "pycharm": {
     "name": "#%%\n"
    }
   },
   "outputs": [
    {
     "name": "stdout",
     "output_type": "stream",
     "text": [
      "Retain H0 - variance is roughly equal\n",
      "alpha: 0.05\n",
      "p-value: 0.7408294278242322\n",
      "test stat: 0.1107570254698387\n"
     ]
    }
   ],
   "source": [
    "test_stat, p_value = stats.levene(gen1_male.base_total, gen1_female.base_total)\n",
    "alpha = 0.05\n",
    "\n",
    "if p_value > alpha:\n",
    "  print(\"Retain H0 - variance is roughly equal\")\n",
    "else:\n",
    "  print(\"Reject H0 - variance is not equal\")\n",
    "\n",
    "print(f\"alpha: {alpha}\")\n",
    "print(f\"p-value: {p_value}\")  # if p-value is not less than 0.05 then we cannot reject null hypothesis that variance is the same\n",
    "print(f\"test stat: {test_stat}\")\n"
   ]
  },
  {
   "cell_type": "code",
   "execution_count": 84,
   "metadata": {
    "pycharm": {
     "name": "#%%\n"
    }
   },
   "outputs": [
    {
     "data": {
      "text/plain": [
       "412.9166666666667"
      ]
     },
     "execution_count": 84,
     "metadata": {},
     "output_type": "execute_result"
    }
   ],
   "source": [
    "gen1_female.base_total.mean()"
   ]
  },
  {
   "cell_type": "code",
   "execution_count": 85,
   "metadata": {
    "pycharm": {
     "name": "#%%\n"
    }
   },
   "outputs": [
    {
     "data": {
      "text/plain": [
       "450.22857142857146"
      ]
     },
     "execution_count": 85,
     "metadata": {},
     "output_type": "execute_result"
    }
   ],
   "source": [
    "gen1_male.base_total.mean()"
   ]
  },
  {
   "cell_type": "markdown",
   "metadata": {
    "id": "_nwRe0oBMav4"
   },
   "source": [
    "## Part (c)\n",
    "### 3 points\n",
    "\n",
    "Now that we know what to set the `equal_var` parameter to (either `True` or `False`), perform the t-test for two independent samples. Use the resulting p-value and an alpha of 0.05 to determine if the null hypothesis can be rejected or not. State your conclusion either as an in-line comment with your t-test code or as a separate text cell."
   ]
  },
  {
   "cell_type": "code",
   "execution_count": 112,
   "metadata": {
    "id": "9diMYT9IKacb"
   },
   "outputs": [
    {
     "name": "stdout",
     "output_type": "stream",
     "text": [
      "Retain H0 - variance is roughly equal\n",
      "alpha: 0.05\n",
      "p-value: 0.2989084640467425\n",
      "test stat: 1.050915461492849\n"
     ]
    }
   ],
   "source": [
    "test_stat, p_value = stats.ttest_ind(gen1_male.base_total, gen1_female.base_total, equal_var=True)\n",
    "alpha = 0.05\n",
    "\n",
    "if p_value > alpha:\n",
    "  print(\"Retain H0 - variance is roughly equal\")\n",
    "else:\n",
    "  print(\"Reject H0 - variance is not equal\")\n",
    "\n",
    "print(f\"alpha: {alpha}\")\n",
    "print(f\"p-value: {p_value}\")  # if p-value is not less than 0.05 then we cannot reject null hypothesis that variance is the same\n",
    "print(f\"test stat: {test_stat}\")"
   ]
  },
  {
   "cell_type": "markdown",
   "metadata": {
    "pycharm": {
     "name": "#%% md\n"
    }
   },
   "source": [
    "### $H_0$: $\\mu_0$ = $\\mu_2$\n",
    "### $H_1$: $\\mu_0$ $\\neq$$\\mu_2$\n",
    "### The difference between the means is not statistically significant: p-vale > alpha; therefore we fail to reject the null hypothesis"
   ]
  },
  {
   "cell_type": "markdown",
   "metadata": {
    "id": "ABeiBOQjWhps"
   },
   "source": [
    "# Question 4 - ANOVA\n",
    "\n",
    "Again we use base totals, but with three independent subsets of the population: Pokémon from generations 1, 2, and 3."
   ]
  },
  {
   "cell_type": "markdown",
   "metadata": {
    "id": "HtfeS1GDO200"
   },
   "source": [
    "## Part (a)\n",
    "### 3 points\n",
    "\n",
    "Suppose another friend of yours was super into Pokémon for a while, playing the first three generations of the games for hours on end when they were a kid. They are curious if the base totals of Pokémon between generations stays relatively the same, or if there are perhaps generations that are \"overpowered\". To test this, we can use ANOVA.\n",
    "\n",
    "Start by extracting the Pokémon from generations 2 and 3 into variables called `gen2` and `gen3`, just as we did earlier with `gen1`.\n",
    "\n",
    "Plot all three generations on the same distribution plot using their generation value to adjust the color of the plot. This can be easily achieved by creating a combined data frame with all three generations appended one after the other (`gen1` appended with `gen2` appended with `gen3`). You can then use Seaborn's `displot` method to plot histograms of all three generations with `hue` set accordingly. Set the `multiple` parameter to `'dodge'` to make each bar sit side-by-side with the others."
   ]
  },
  {
   "cell_type": "markdown",
   "metadata": {},
   "source": []
  },
  {
   "cell_type": "code",
   "execution_count": 118,
   "metadata": {
    "id": "KFvXQBhPNP25"
   },
   "outputs": [],
   "source": [
    "df4 = pd.read_csv('pokemon.csv')\n",
    "df4 = df4[['base_total','generation']].copy()\n",
    "df4 = df4[df['generation'] < 4].copy()\n",
    "gen1  = df4[df4['generation'] == 1].copy()\n",
    "gen2  = df4[df4['generation'] == 2].copy()\n",
    "gen3  = df4[df4['generation'] == 3].copy()"
   ]
  },
  {
   "cell_type": "code",
   "execution_count": 119,
   "metadata": {
    "pycharm": {
     "name": "#%%\n"
    }
   },
   "outputs": [
    {
     "data": {
      "text/html": [
       "<div>\n",
       "<style scoped>\n",
       "    .dataframe tbody tr th:only-of-type {\n",
       "        vertical-align: middle;\n",
       "    }\n",
       "\n",
       "    .dataframe tbody tr th {\n",
       "        vertical-align: top;\n",
       "    }\n",
       "\n",
       "    .dataframe thead th {\n",
       "        text-align: right;\n",
       "    }\n",
       "</style>\n",
       "<table border=\"1\" class=\"dataframe\">\n",
       "  <thead>\n",
       "    <tr style=\"text-align: right;\">\n",
       "      <th></th>\n",
       "      <th>base_total</th>\n",
       "      <th>generation</th>\n",
       "    </tr>\n",
       "  </thead>\n",
       "  <tbody>\n",
       "    <tr>\n",
       "      <th>0</th>\n",
       "      <td>318</td>\n",
       "      <td>1</td>\n",
       "    </tr>\n",
       "    <tr>\n",
       "      <th>1</th>\n",
       "      <td>405</td>\n",
       "      <td>1</td>\n",
       "    </tr>\n",
       "    <tr>\n",
       "      <th>2</th>\n",
       "      <td>625</td>\n",
       "      <td>1</td>\n",
       "    </tr>\n",
       "    <tr>\n",
       "      <th>3</th>\n",
       "      <td>309</td>\n",
       "      <td>1</td>\n",
       "    </tr>\n",
       "    <tr>\n",
       "      <th>4</th>\n",
       "      <td>405</td>\n",
       "      <td>1</td>\n",
       "    </tr>\n",
       "  </tbody>\n",
       "</table>\n",
       "</div>"
      ],
      "text/plain": [
       "   base_total  generation\n",
       "0         318           1\n",
       "1         405           1\n",
       "2         625           1\n",
       "3         309           1\n",
       "4         405           1"
      ]
     },
     "execution_count": 119,
     "metadata": {},
     "output_type": "execute_result"
    }
   ],
   "source": [
    "gen1.head()"
   ]
  },
  {
   "cell_type": "code",
   "execution_count": 120,
   "metadata": {
    "pycharm": {
     "name": "#%%\n"
    }
   },
   "outputs": [
    {
     "data": {
      "text/html": [
       "<div>\n",
       "<style scoped>\n",
       "    .dataframe tbody tr th:only-of-type {\n",
       "        vertical-align: middle;\n",
       "    }\n",
       "\n",
       "    .dataframe tbody tr th {\n",
       "        vertical-align: top;\n",
       "    }\n",
       "\n",
       "    .dataframe thead th {\n",
       "        text-align: right;\n",
       "    }\n",
       "</style>\n",
       "<table border=\"1\" class=\"dataframe\">\n",
       "  <thead>\n",
       "    <tr style=\"text-align: right;\">\n",
       "      <th></th>\n",
       "      <th>base_total</th>\n",
       "      <th>generation</th>\n",
       "    </tr>\n",
       "  </thead>\n",
       "  <tbody>\n",
       "    <tr>\n",
       "      <th>151</th>\n",
       "      <td>318</td>\n",
       "      <td>2</td>\n",
       "    </tr>\n",
       "    <tr>\n",
       "      <th>152</th>\n",
       "      <td>405</td>\n",
       "      <td>2</td>\n",
       "    </tr>\n",
       "    <tr>\n",
       "      <th>153</th>\n",
       "      <td>525</td>\n",
       "      <td>2</td>\n",
       "    </tr>\n",
       "    <tr>\n",
       "      <th>154</th>\n",
       "      <td>309</td>\n",
       "      <td>2</td>\n",
       "    </tr>\n",
       "    <tr>\n",
       "      <th>155</th>\n",
       "      <td>405</td>\n",
       "      <td>2</td>\n",
       "    </tr>\n",
       "  </tbody>\n",
       "</table>\n",
       "</div>"
      ],
      "text/plain": [
       "     base_total  generation\n",
       "151         318           2\n",
       "152         405           2\n",
       "153         525           2\n",
       "154         309           2\n",
       "155         405           2"
      ]
     },
     "execution_count": 120,
     "metadata": {},
     "output_type": "execute_result"
    }
   ],
   "source": [
    "gen2.head()"
   ]
  },
  {
   "cell_type": "code",
   "execution_count": 121,
   "metadata": {
    "pycharm": {
     "name": "#%%\n"
    }
   },
   "outputs": [
    {
     "data": {
      "text/html": [
       "<div>\n",
       "<style scoped>\n",
       "    .dataframe tbody tr th:only-of-type {\n",
       "        vertical-align: middle;\n",
       "    }\n",
       "\n",
       "    .dataframe tbody tr th {\n",
       "        vertical-align: top;\n",
       "    }\n",
       "\n",
       "    .dataframe thead th {\n",
       "        text-align: right;\n",
       "    }\n",
       "</style>\n",
       "<table border=\"1\" class=\"dataframe\">\n",
       "  <thead>\n",
       "    <tr style=\"text-align: right;\">\n",
       "      <th></th>\n",
       "      <th>base_total</th>\n",
       "      <th>generation</th>\n",
       "    </tr>\n",
       "  </thead>\n",
       "  <tbody>\n",
       "    <tr>\n",
       "      <th>251</th>\n",
       "      <td>310</td>\n",
       "      <td>3</td>\n",
       "    </tr>\n",
       "    <tr>\n",
       "      <th>252</th>\n",
       "      <td>405</td>\n",
       "      <td>3</td>\n",
       "    </tr>\n",
       "    <tr>\n",
       "      <th>253</th>\n",
       "      <td>630</td>\n",
       "      <td>3</td>\n",
       "    </tr>\n",
       "    <tr>\n",
       "      <th>254</th>\n",
       "      <td>310</td>\n",
       "      <td>3</td>\n",
       "    </tr>\n",
       "    <tr>\n",
       "      <th>255</th>\n",
       "      <td>405</td>\n",
       "      <td>3</td>\n",
       "    </tr>\n",
       "  </tbody>\n",
       "</table>\n",
       "</div>"
      ],
      "text/plain": [
       "     base_total  generation\n",
       "251         310           3\n",
       "252         405           3\n",
       "253         630           3\n",
       "254         310           3\n",
       "255         405           3"
      ]
     },
     "execution_count": 121,
     "metadata": {},
     "output_type": "execute_result"
    }
   ],
   "source": [
    "gen3.head()"
   ]
  },
  {
   "cell_type": "code",
   "execution_count": 124,
   "metadata": {
    "pycharm": {
     "name": "#%%\n"
    }
   },
   "outputs": [
    {
     "data": {
      "image/png": "[encoded data removed]",
      "text/plain": [
       "<Figure size 422.375x360 with 1 Axes>"
      ]
     },
     "metadata": {
      "needs_background": "light"
     },
     "output_type": "display_data"
    }
   ],
   "source": [
    "# Plotting the bast total distribution by Generation side by side with dodge\n",
    "plot = sns.displot(data=df4, x='base_total', hue='generation', multiple='dodge',kde=True)\n",
    "plot.set_xticklabels(rotation=90)\n",
    "plot.tight_layout()\n",
    "plt.title(\"Base Total Distribution by Generation 1,2 and 3\");"
   ]
  },
  {
   "cell_type": "code",
   "execution_count": 125,
   "metadata": {
    "pycharm": {
     "name": "#%%\n"
    }
   },
   "outputs": [
    {
     "data": {
      "text/plain": [
       "<AxesSubplot:title={'center':'base_total'}, xlabel='[generation]'>"
      ]
     },
     "execution_count": 125,
     "metadata": {},
     "output_type": "execute_result"
    },
    {
     "data": {
      "image/png": "[encoded data removed]",
      "text/plain": [
       "<Figure size 432x288 with 1 Axes>"
      ]
     },
     "metadata": {
      "needs_background": "light"
     },
     "output_type": "display_data"
    }
   ],
   "source": [
    "# Box plot to help see the data spread\n",
    "df4.boxplot(by='generation')"
   ]
  },
  {
   "cell_type": "markdown",
   "metadata": {
    "id": "sTnihAGAQgIv"
   },
   "source": [
    "## Part (b)\n",
    "### 2 points\n",
    "\n",
    "As we did for t-tests, test for equal variance among the three samples. For ANOVA, this ultimately is of little consequence since the F-test is robust to violation of the homogeneity of variance, but it's worth checking nonetheless. "
   ]
  },
  {
   "cell_type": "code",
   "execution_count": 148,
   "metadata": {
    "id": "mOZcW3H0OBWg"
   },
   "outputs": [
    {
     "name": "stdout",
     "output_type": "stream",
     "text": [
      "Retain H0 - variance is roughly equal\n",
      "alpha: 0.05\n",
      "p-value: 0.7081507441841759\n",
      "test stat: 0.14045232520958187\n"
     ]
    }
   ],
   "source": [
    "# Two Sample T Test between gen1 and gen 2\n",
    "test_stat, p_value = stats.levene(gen1.base_total, gen2.base_total)\n",
    "alpha = 0.05\n",
    "\n",
    "if p_value > alpha:\n",
    "  print(\"Retain H0 - variance is roughly equal\")\n",
    "else:\n",
    "  print(\"Reject H0 - variance is not equal\")\n",
    "\n",
    "print(f\"alpha: {alpha}\")\n",
    "print(f\"p-value: {p_value}\")  # if p-value is not less than 0.05 then we cannot reject null hypothesis that variance is the same\n",
    "print(f\"test stat: {test_stat}\")"
   ]
  },
  {
   "cell_type": "code",
   "execution_count": 149,
   "metadata": {
    "pycharm": {
     "name": "#%%\n"
    }
   },
   "outputs": [
    {
     "name": "stdout",
     "output_type": "stream",
     "text": [
      "Retain H0 - variance is roughly equal\n",
      "alpha: 0.05\n",
      "p-value: 0.20263961694110175\n",
      "test stat: 1.632424079229965\n"
     ]
    }
   ],
   "source": [
    "#  Two Sample T-Test between gen2 and gen3\n",
    "test_stat, p_value = stats.levene(gen2.base_total, gen3.base_total)\n",
    "alpha = 0.05\n",
    "\n",
    "if p_value > alpha:\n",
    "  print(\"Retain H0 - variance is roughly equal\")\n",
    "else:\n",
    "  print(\"Reject H0 - variance is not equal\")\n",
    "\n",
    "print(f\"alpha: {alpha}\")\n",
    "print(f\"p-value: {p_value}\")  # if p-value is not less than 0.05 then we cannot reject null hypothesis that variance is the same\n",
    "print(f\"test stat: {test_stat}\")"
   ]
  },
  {
   "cell_type": "code",
   "execution_count": 151,
   "metadata": {
    "pycharm": {
     "name": "#%%\n"
    }
   },
   "outputs": [
    {
     "name": "stdout",
     "output_type": "stream",
     "text": [
      "Retain H0 - variance is roughly equal\n",
      "alpha: 0.05\n",
      "p-value: 0.05671803081045466\n",
      "test stat: 3.6606266604132225\n"
     ]
    }
   ],
   "source": [
    "# Two Sample T-Test between gen 1 and gen 3\n",
    "test_stat, p_value = stats.levene(gen1.base_total, gen3.base_total)\n",
    "alpha = 0.05\n",
    "\n",
    "if p_value > alpha:\n",
    "  print(\"Retain H0 - variance is roughly equal\")\n",
    "else:\n",
    "  print(\"Reject H0 - variance is not equal\")\n",
    "\n",
    "print(f\"alpha: {alpha}\")\n",
    "print(f\"p-value: {p_value}\")  # if p-value is not less than 0.05 then we cannot reject null hypothesis that variance is the same\n",
    "print(f\"test stat: {test_stat}\")"
   ]
  },
  {
   "cell_type": "code",
   "execution_count": 153,
   "metadata": {
    "pycharm": {
     "name": "#%%\n"
    }
   },
   "outputs": [
    {
     "name": "stdout",
     "output_type": "stream",
     "text": [
      "Retain H0 - variance is roughly equal\n",
      "alpha: 0.05\n",
      "p-value: 0.1404649672280984\n",
      "test stat: 1.9728905563651231\n"
     ]
    }
   ],
   "source": [
    "## Two Sample T test between Gen 1 & gen 2 & gen 3\n",
    "test_stat, p_value = stats.levene(gen1.base_total, gen2.base_total, gen3.base_total)\n",
    "alpha = 0.05\n",
    "\n",
    "if p_value > alpha:\n",
    "  print(\"Retain H0 - variance is roughly equal\")\n",
    "else:\n",
    "  print(\"Reject H0 - variance is not equal\")\n",
    "\n",
    "print(f\"alpha: {alpha}\")\n",
    "print(f\"p-value: {p_value}\")  # if p-value is not less than 0.05 then we cannot reject null hypothesis that variance is the same\n",
    "print(f\"test stat: {test_stat}\")"
   ]
  },
  {
   "cell_type": "markdown",
   "metadata": {
    "pycharm": {
     "name": "#%% md\n"
    }
   },
   "source": [
    "### We fail to reject the null hypothesis that the sample means between gen 1 gen 2 and gen 3 are different. They all have a varianec that is roughly equal."
   ]
  },
  {
   "cell_type": "markdown",
   "metadata": {
    "id": "2wc3NmLOQtOX"
   },
   "source": [
    "## Part (c)\n",
    "### 3 points\n",
    "\n",
    "Perform the ANOVA test on the base totals of generations 1, 2, and 3. Given an alpha of 0.05, include your conclusion as an in-line comment in your code or as a separate text cell."
   ]
  },
  {
   "cell_type": "code",
   "execution_count": 130,
   "metadata": {
    "id": "OtLrgaHdOrr8"
   },
   "outputs": [
    {
     "data": {
      "text/plain": [
       "F_onewayResult(statistic=0.09048015905055794, pvalue=0.913511978321936)"
      ]
     },
     "execution_count": 130,
     "metadata": {},
     "output_type": "execute_result"
    }
   ],
   "source": [
    "stats.f_oneway(gen1.base_total, gen2.base_total, gen3.base_total)"
   ]
  },
  {
   "cell_type": "markdown",
   "metadata": {
    "pycharm": {
     "name": "#%% md\n"
    }
   },
   "source": [
    "### We fail to reject the null hypothesis w/ a p value > 0.05 and a test statistic that is below 1. Meaning that the means are similiar"
   ]
  },
  {
   "cell_type": "code",
   "execution_count": 155,
   "metadata": {
    "pycharm": {
     "name": "#%%\n"
    }
   },
   "outputs": [
    {
     "data": {
      "text/plain": [
       "<seaborn.axisgrid.FacetGrid at 0x1580eda10a0>"
      ]
     },
     "execution_count": 155,
     "metadata": {},
     "output_type": "execute_result"
    },
    {
     "data": {
      "image/png": "[encoded data removed]",
      "text/plain": [
       "<Figure size 422.375x360 with 1 Axes>"
      ]
     },
     "metadata": {
      "needs_background": "light"
     },
     "output_type": "display_data"
    }
   ],
   "source": [
    "sns.displot(data=df[df['generation'] < 4], x='base_total', hue='generation', multiple='stack')"
   ]
  }
 ],
 "metadata": {
  "colab": {
   "authorship_tag": "ABX9TyO+OSqb7JT5rIX0eBm+Ds1e",
   "collapsed_sections": [],
   "name": "Assignment 6 - Inferential Statistics.ipynb",
   "provenance": [],
   "toc_visible": true
  },
  "kernelspec": {
   "display_name": "Python 3 (ipykernel)",
   "language": "python",
   "name": "python3"
  },
  "language_info": {
   "codemirror_mode": {
    "name": "ipython",
    "version": 3
   },
   "file_extension": ".py",
   "mimetype": "text/x-python",
   "name": "python",
   "nbconvert_exporter": "python",
   "pygments_lexer": "ipython3",
   "version": "3.9.5"
  }
 },
 "nbformat": 4,
 "nbformat_minor": 1
}