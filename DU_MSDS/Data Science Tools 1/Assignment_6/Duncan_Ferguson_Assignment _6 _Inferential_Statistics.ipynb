{
 "cells": [
  {
   "cell_type": "markdown",
   "metadata": {
    "id": "D6EDWciIeQGJ"
   },
   "source": [
    "# Assignment 6 - Inferential Statistics\n",
    "## Data Science Tools I\n",
    "### Professor: Don Dalton\n",
    "\n",
    "---\n",
    "\n",
    "### Student: Duncan Ferguson"
   ]
  },
  {
   "cell_type": "code",
   "execution_count": 2,
   "metadata": {
    "id": "7e8yGcGjgj1P"
   },
   "outputs": [],
   "source": [
    "import numpy as np\n",
    "import pandas as pd\n",
    "import matplotlib.pyplot as plt\n",
    "import seaborn as sns"
   ]
  },
  {
   "cell_type": "markdown",
   "metadata": {
    "id": "SCrNyO0ukBl2"
   },
   "source": [
    "These questions will refer to a dataset on 801 Pokémon, taken from [this Kaggle link](https://www.kaggle.com/rounakbanik/pokemon). If you're not familiar with Pokémon, don't worry. You don't need any outside knowledge to do this assignment. If you are a Pokémon veteran, then you may know that there are actually more Pokémon than what are in this dataset, so this dataset is not complete. (You might say they have not caught them all.) Nonetheless, we will assume this dataset represents the entire population in question.\n",
    "\n",
    "Normally we do not have access to the entire population being researched. This example is therefore unrealistic, even excluding the fact that we're talking about fictional monsters from a video game / anime series. Nonetheless, this demonstrates the ideas discussed in class and is hopefully fun for you."
   ]
  },
  {
   "cell_type": "markdown",
   "metadata": {
    "id": "HElDGzuHed6d"
   },
   "source": [
    "# Question 1 - Exploratory Analysis"
   ]
  },
  {
   "cell_type": "markdown",
   "metadata": {
    "id": "9wUd2lKIALMe"
   },
   "source": [
    "## Part (a)\n",
    "### 2 points: Done\n",
    "\n",
    "Download the `pokemon.csv` file from the Canvas assignment page and read it into a Pandas data frame. There are many columns that we can ignore; just keep the columns `'name'`, `'base_total'`, `'type1'`, `'type2'`, `'weight_kg'`, and `'generation'`. Print the head of your filtered data frame to confirm that you only have these columns. Also print the shape of the data frame to confirm that the dataset contains 801 rows."
   ]
  },
  {
   "cell_type": "code",
   "execution_count": 8,
   "metadata": {
    "id": "Uf-6Vv8teKs5"
   },
   "outputs": [
    {
     "data": {
      "text/plain": "         name  base_total  type1   type2  weight_kg  generation\n0   Bulbasaur         318  grass  poison        6.9           1\n1     Ivysaur         405  grass  poison       13.0           1\n2    Venusaur         625  grass  poison      100.0           1\n3  Charmander         309   fire     NaN        8.5           1\n4  Charmeleon         405   fire     NaN       19.0           1",
      "text/html": "<div>\n<style scoped>\n    .dataframe tbody tr th:only-of-type {\n        vertical-align: middle;\n    }\n\n    .dataframe tbody tr th {\n        vertical-align: top;\n    }\n\n    .dataframe thead th {\n        text-align: right;\n    }\n</style>\n<table border=\"1\" class=\"dataframe\">\n  <thead>\n    <tr style=\"text-align: right;\">\n      <th></th>\n      <th>name</th>\n      <th>base_total</th>\n      <th>type1</th>\n      <th>type2</th>\n      <th>weight_kg</th>\n      <th>generation</th>\n    </tr>\n  </thead>\n  <tbody>\n    <tr>\n      <th>0</th>\n      <td>Bulbasaur</td>\n      <td>318</td>\n      <td>grass</td>\n      <td>poison</td>\n      <td>6.9</td>\n      <td>1</td>\n    </tr>\n    <tr>\n      <th>1</th>\n      <td>Ivysaur</td>\n      <td>405</td>\n      <td>grass</td>\n      <td>poison</td>\n      <td>13.0</td>\n      <td>1</td>\n    </tr>\n    <tr>\n      <th>2</th>\n      <td>Venusaur</td>\n      <td>625</td>\n      <td>grass</td>\n      <td>poison</td>\n      <td>100.0</td>\n      <td>1</td>\n    </tr>\n    <tr>\n      <th>3</th>\n      <td>Charmander</td>\n      <td>309</td>\n      <td>fire</td>\n      <td>NaN</td>\n      <td>8.5</td>\n      <td>1</td>\n    </tr>\n    <tr>\n      <th>4</th>\n      <td>Charmeleon</td>\n      <td>405</td>\n      <td>fire</td>\n      <td>NaN</td>\n      <td>19.0</td>\n      <td>1</td>\n    </tr>\n  </tbody>\n</table>\n</div>"
     },
     "execution_count": 8,
     "metadata": {},
     "output_type": "execute_result"
    }
   ],
   "source": [
    "df = pd.read_csv('pokemon.csv')\n",
    "df = df[['name', 'base_total', 'type1', 'type2','weight_kg','generation']].copy()\n",
    "df.head()"
   ]
  },
  {
   "cell_type": "code",
   "execution_count": 9,
   "outputs": [
    {
     "data": {
      "text/plain": "(801, 6)"
     },
     "execution_count": 9,
     "metadata": {},
     "output_type": "execute_result"
    }
   ],
   "source": [
    "df.shape"
   ],
   "metadata": {
    "collapsed": false,
    "pycharm": {
     "name": "#%%\n"
    }
   }
  },
  {
   "cell_type": "markdown",
   "metadata": {
    "id": "vnjkpcOPB8k0"
   },
   "source": [
    "## Part (b)\n",
    "### 2 points\n",
    "\n",
    "All Pokémon have either 1 or 2 types, called \"primary\" (corresponding to `'type1'`) and \"secondary\" (`'type2'`) respectively. As of the most recent games, there are 18 types total. Confirm this value using the column `'type1'`.\n",
    "\n",
    "Then, count how many Pokémon there of each type. This can be easily computed using the `value_counts` method and by knowing that it is not possible for one Pokémon to have the same type for both `type1` and `type2`. Plot a bar plot showing a count for each type with each type listed along the x-axis."
   ]
  },
  {
   "cell_type": "code",
   "execution_count": null,
   "metadata": {
    "id": "SJ2Pj0PeCKvx"
   },
   "outputs": [],
   "source": []
  },
  {
   "cell_type": "markdown",
   "metadata": {
    "id": "aXPpyxRkC3Bu"
   },
   "source": [
    "## Part (c)\n",
    "### 4 points\n",
    "\n",
    "`'weight_kg'` (unsurprisingly) is the weight in kilograms of a given Pokémon. `'base_total'` is the \"base stat total\" of a Pokémon, which is the sum of its HP, attack, speed, etc. Simply put, the base total is a measure of a Pokémon's overall strength.\n",
    "\n",
    "Plot separate distribution plots for the columns `'weight_kg'` and `'base_total'`, overlaying the estimated distribution (kde) on each histogram. Print the skew value for each column along with its plot.\n",
    "\n",
    "Are these distributions normal? Include your answers as an in-line comment within your code cell(s)."
   ]
  },
  {
   "cell_type": "code",
   "execution_count": null,
   "metadata": {
    "id": "-wVSuDIZgpC5"
   },
   "outputs": [],
   "source": []
  },
  {
   "cell_type": "markdown",
   "metadata": {
    "id": "24qujI8-zS3g"
   },
   "source": [
    "# Question 2 - z-test\n",
    "\n",
    "This question will use the `'base_total'` column as the data of interest and the Pokémon from Generation I as the sample set. While z-tests can easily be automated, here we will walk through the process to get a better feel for what's happening \"behind the scenes\"."
   ]
  },
  {
   "cell_type": "markdown",
   "metadata": {
    "id": "h_x1Pp1K_h40"
   },
   "source": [
    "## Part (a)\n",
    "### 2 points\n",
    "\n",
    "Suppose your friend likes Pokémon but is only familiar with the original 151 from generation 1. They didn't realize that many more games have come out since the first ones and are curious if the overall base totals have changed much with the newer generations. The Pokémon from generation 1 will be our sample.\n",
    "\n",
    "For this example, we know the population mean and standard deviation. In realistic settings, these are given from outside sources, but in our case we can calculate them from the dataset of all Pokémon. Compute and print these values.\n",
    "\n",
    "After determining the population mean (and standard deviation), state the null and alternative hypotheses in a text cell or as an in-line comment."
   ]
  },
  {
   "cell_type": "code",
   "execution_count": null,
   "metadata": {
    "id": "b0rCjhccV-w-"
   },
   "outputs": [],
   "source": []
  },
  {
   "cell_type": "markdown",
   "metadata": {
    "id": "lvicd9smFpa4"
   },
   "source": [
    "## Part (b)\n",
    "### 2 points\n",
    "\n",
    "As a separate data frame, extract the Pokémon that are from generation 1 to use as our sample. Call this variable `gen1`. Confirm that the last Pokémon included in the sample is the 151st (index 150) by printing the tail of `gen1`.\n",
    "\n",
    "Calculate and print the standard error of the sampling distribution of the mean following the formula given in class:\n",
    "$$\n",
    "\\sigma_{\\bar{X}} = \\frac{\\sigma}{\\sqrt{n}}\n",
    "$$"
   ]
  },
  {
   "cell_type": "code",
   "execution_count": null,
   "metadata": {
    "id": "IMujcizUiWkR"
   },
   "outputs": [],
   "source": []
  },
  {
   "cell_type": "markdown",
   "metadata": {
    "id": "qE79EAffN0aa"
   },
   "source": [
    "## Part (c)\n",
    "### 3 points\n",
    "\n",
    "To demonstrate the properties of the z-distribution, create a Series that is the `'base_total'` column converted into z-scores using the formula:\n",
    "$$\n",
    "z = \\frac{x-\\mu}{\\sigma}\n",
    "$$\n",
    "for each value $x$ in the column. Plot this distribution to visually confirm the mean is around 0 and the standard deviation is around 1.\n",
    "\n",
    "Compute and output the \"observed z\", which is the sample mean converted into a z-score.\n",
    "$$\n",
    "z_{observed} = \\frac{\\bar{X} - \\mu}{\\sigma_{\\bar{X}}}\n",
    "$$"
   ]
  },
  {
   "cell_type": "code",
   "execution_count": null,
   "metadata": {
    "id": "hubGpW7Hzdes"
   },
   "outputs": [],
   "source": []
  },
  {
   "cell_type": "markdown",
   "metadata": {
    "id": "Rmkh32ZuOw3H"
   },
   "source": [
    "## Part (d)\n",
    "### 2 points\n",
    "\n",
    "Using a confidence level of $\\alpha=0.05$ and corresponding critical values of $\\pm1.96$, determine if the null hypothesis should be rejected or retained. State a conclusion regarding base totals of all Pokémon based on this decision rule."
   ]
  },
  {
   "cell_type": "markdown",
   "metadata": {
    "id": "meHGT745PQPW"
   },
   "source": [
    "YOUR ANSWER HERE"
   ]
  },
  {
   "cell_type": "markdown",
   "metadata": {
    "id": "9No5ikg7PScy"
   },
   "source": [
    "# Question 3 - t-test\n",
    "\n",
    "Base totals again are the data of interest, but now with two independent samples of mostly male Pokémon from generation 1 and mostly female Pokémon from generation 1."
   ]
  },
  {
   "cell_type": "markdown",
   "metadata": {
    "id": "zvi_UTWFPVTr"
   },
   "source": [
    "## Part (a)\n",
    "### 3 points\n",
    "\n",
    "As an example of a two-sample t-test, let's suppose we are interested in seeing if there is any bias coming from the designers of the games regarding the base totals for Pokémon that are more likely to be male and those that are more likely to be female (the intuition being that the base totals for mostly female Pokémon are perhaps lower than those of mostly males). The two-sample t-test will determine if the mean base totals between these two groups significantly differ.\n",
    "\n",
    "Start by extracting the Pokémon from `gen1` whose `'percentage_male'` is strictly greater than 50 in a separate data frame. Do the same for mostly female Pokémon whose `'percentage_male'` is strictly less than 50. *Note that we are excluding Pokémon whose `'percentage_male'` is equal to 50.*\n",
    "\n",
    "Confirm the normality of these two group's `'base_total'` values using distribution plots and skewness value as before."
   ]
  },
  {
   "cell_type": "code",
   "execution_count": null,
   "metadata": {
    "id": "9T-SC7OgXNvv"
   },
   "outputs": [],
   "source": []
  },
  {
   "cell_type": "markdown",
   "metadata": {
    "id": "Ag2WQeV0L_Tb"
   },
   "source": [
    "## Part (b)\n",
    "### 2 points\n",
    "\n",
    "Generally the t-test requires an assumption that the variance between the two independent groups is roughly equal (called \"homogeneity of variance\"). The t-test method given by `stats` can actually account for when the variance is unequal as well. Regardless, we need to know which is the case for our data, so let's check using the Levene test. Again, we're interested in the `'base_total'` values of each group - mostly male and mostly female."
   ]
  },
  {
   "cell_type": "code",
   "execution_count": null,
   "metadata": {
    "id": "IatxSJL-TD9b"
   },
   "outputs": [],
   "source": []
  },
  {
   "cell_type": "markdown",
   "metadata": {
    "id": "_nwRe0oBMav4"
   },
   "source": [
    "## Part (c)\n",
    "### 3 points\n",
    "\n",
    "Now that we know what to set the `equal_var` parameter to (either `True` or `False`), perform the t-test for two independent samples. Use the resulting p-value and an alpha of 0.05 to determine if the null hypothesis can be rejected or not. State your conclusion either as an in-line comment with your t-test code or as a separate text cell."
   ]
  },
  {
   "cell_type": "code",
   "execution_count": null,
   "metadata": {
    "id": "9diMYT9IKacb"
   },
   "outputs": [],
   "source": []
  },
  {
   "cell_type": "markdown",
   "metadata": {
    "id": "ABeiBOQjWhps"
   },
   "source": [
    "# Question 4 - ANOVA\n",
    "\n",
    "Again we use base totals, but with three independent subsets of the population: Pokémon from generations 1, 2, and 3."
   ]
  },
  {
   "cell_type": "markdown",
   "metadata": {
    "id": "HtfeS1GDO200"
   },
   "source": [
    "## Part (a)\n",
    "### 3 points\n",
    "\n",
    "Suppose another friend of yours was super into Pokémon for a while, playing the first three generations of the games for hours on end when they were a kid. They are curious if the base totals of Pokémon between generations stays relatively the same, or if there are perhaps generations that are \"overpowered\". To test this, we can use ANOVA.\n",
    "\n",
    "Start by extracting the Pokémon from generations 2 and 3 into variables called `gen2` and `gen3`, just as we did earlier with `gen1`.\n",
    "\n",
    "Plot all three generations on the same distribution plot using their generation value to adjust the color of the plot. This can be easily achieved by creating a combined data frame with all three generations appended one after the other (`gen1` appended with `gen2` appended with `gen3`). You can then use Seaborn's `displot` method to plot histograms of all three generations with `hue` set accordingly. Set the `multiple` parameter to `'dodge'` to make each bar sit side-by-side with the others."
   ]
  },
  {
   "cell_type": "code",
   "execution_count": null,
   "metadata": {
    "id": "KFvXQBhPNP25"
   },
   "outputs": [],
   "source": []
  },
  {
   "cell_type": "markdown",
   "metadata": {
    "id": "sTnihAGAQgIv"
   },
   "source": [
    "## Part (b)\n",
    "### 2 points\n",
    "\n",
    "As we did for t-tests, test for equal variance among the three samples. For ANOVA, this ultimately is of little consequence since the F-test is robust to violation of the homogeneity of variance, but it's worth checking nonetheless. "
   ]
  },
  {
   "cell_type": "code",
   "execution_count": null,
   "metadata": {
    "id": "mOZcW3H0OBWg"
   },
   "outputs": [],
   "source": []
  },
  {
   "cell_type": "markdown",
   "metadata": {
    "id": "2wc3NmLOQtOX"
   },
   "source": [
    "## Part (c)\n",
    "### 3 points\n",
    "\n",
    "Perform the ANOVA test on the base totals of generations 1, 2, and 3. Given an alpha of 0.05, include your conclusion as an in-line comment in your code or as a separate text cell."
   ]
  },
  {
   "cell_type": "code",
   "execution_count": null,
   "metadata": {
    "id": "OtLrgaHdOrr8"
   },
   "outputs": [],
   "source": []
  }
 ],
 "metadata": {
  "colab": {
   "authorship_tag": "ABX9TyO+OSqb7JT5rIX0eBm+Ds1e",
   "collapsed_sections": [],
   "name": "Assignment 6 - Inferential Statistics.ipynb",
   "provenance": [],
   "toc_visible": true
  },
  "kernelspec": {
   "display_name": "Python 3",
   "language": "python",
   "name": "python3"
  },
  "language_info": {
   "codemirror_mode": {
    "name": "ipython",
    "version": 3
   },
   "file_extension": ".py",
   "mimetype": "text/x-python",
   "name": "python",
   "nbconvert_exporter": "python",
   "pygments_lexer": "ipython3",
   "version": "3.8.8"
  }
 },
 "nbformat": 4,
 "nbformat_minor": 1
}