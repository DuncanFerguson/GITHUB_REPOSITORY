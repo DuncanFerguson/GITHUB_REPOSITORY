{
 "cells": [
  {
   "cell_type": "markdown",
   "metadata": {
    "id": "QaE7WW_0fWvs"
   },
   "source": [
    "# Inferential Statistics in Python\n",
    "## Data Science Tools I\n",
    "### Terron Ishihara and Don Dalton | University of Denver\n",
    "\n",
    "\n",
    "---\n",
    "\n",
    "This notebook covers various hypothesis tests, including t-tests, ANOVA, and regression analysis. z-tests are not covered here, but a Python implementation for z-tests can be found in the `statsmodels` package: https://www.statsmodels.org/stable/generated/statsmodels.stats.weightstats.ztest.html"
   ]
  },
  {
   "cell_type": "code",
   "execution_count": 1,
   "metadata": {
    "id": "qISVxC99fwcg"
   },
   "outputs": [],
   "source": [
    "import numpy as np\n",
    "import pandas as pd\n",
    "import matplotlib.pyplot as plt\n",
    "import seaborn as sns\n",
    "\n",
    "sns.set_style(\"white\")\n",
    "sns.set_context(\"talk\")"
   ]
  },
  {
   "cell_type": "markdown",
   "metadata": {
    "id": "im_W2ZwqohmD"
   },
   "source": [
    "# One Sample Test"
   ]
  },
  {
   "cell_type": "markdown",
   "metadata": {
    "id": "Uin0crc5fuhV"
   },
   "source": [
    "Glassdoor claims that the average base salary of a professor is $98,500. We would like to use a sample to test if this is accurate.\n",
    "\n",
    "![](https://drive.google.com/uc?id=19WZ_D8j_zDY1R53P2Vx0GFms18xtslW3)\n",
    "\n",
    "The data we're using here is actually from 2008-2009, so this is not a realistic comparison. For the sake of learning, let's just assume that the data is current.\n",
    "\n",
    "Link to data details: https://vincentarelbundock.github.io/Rdatasets/doc/carData/Salaries.html"
   ]
  },
  {
   "cell_type": "code",
   "execution_count": 2,
   "metadata": {
    "colab": {
     "base_uri": "https://localhost:8080/",
     "height": 198
    },
    "executionInfo": {
     "elapsed": 493,
     "status": "ok",
     "timestamp": 1614049831690,
     "user": {
      "displayName": "Terron Ishihara",
      "photoUrl": "https://lh3.googleusercontent.com/a-/AOh14Gi_V1-4JYC1SiOmkOV80wtuzyxk6ic6tMOCMUJ0sw=s64",
      "userId": "09713116719036350569"
     },
     "user_tz": 480
    },
    "id": "SySrEWLifRLb",
    "outputId": "4bb77e36-2904-44eb-a895-0cbeb2fac8a7"
   },
   "outputs": [
    {
     "data": {
      "text/html": [
       "<div>\n",
       "<style scoped>\n",
       "    .dataframe tbody tr th:only-of-type {\n",
       "        vertical-align: middle;\n",
       "    }\n",
       "\n",
       "    .dataframe tbody tr th {\n",
       "        vertical-align: top;\n",
       "    }\n",
       "\n",
       "    .dataframe thead th {\n",
       "        text-align: right;\n",
       "    }\n",
       "</style>\n",
       "<table border=\"1\" class=\"dataframe\">\n",
       "  <thead>\n",
       "    <tr style=\"text-align: right;\">\n",
       "      <th></th>\n",
       "      <th>rank</th>\n",
       "      <th>discipline</th>\n",
       "      <th>years_since_phd</th>\n",
       "      <th>years_of_service</th>\n",
       "      <th>sex</th>\n",
       "      <th>salary</th>\n",
       "    </tr>\n",
       "  </thead>\n",
       "  <tbody>\n",
       "    <tr>\n",
       "      <th>0</th>\n",
       "      <td>Prof</td>\n",
       "      <td>applied</td>\n",
       "      <td>19</td>\n",
       "      <td>18</td>\n",
       "      <td>Male</td>\n",
       "      <td>139750</td>\n",
       "    </tr>\n",
       "    <tr>\n",
       "      <th>1</th>\n",
       "      <td>Prof</td>\n",
       "      <td>applied</td>\n",
       "      <td>20</td>\n",
       "      <td>16</td>\n",
       "      <td>Male</td>\n",
       "      <td>173200</td>\n",
       "    </tr>\n",
       "    <tr>\n",
       "      <th>2</th>\n",
       "      <td>AsstProf</td>\n",
       "      <td>applied</td>\n",
       "      <td>4</td>\n",
       "      <td>3</td>\n",
       "      <td>Male</td>\n",
       "      <td>79750</td>\n",
       "    </tr>\n",
       "    <tr>\n",
       "      <th>3</th>\n",
       "      <td>Prof</td>\n",
       "      <td>applied</td>\n",
       "      <td>45</td>\n",
       "      <td>39</td>\n",
       "      <td>Male</td>\n",
       "      <td>115000</td>\n",
       "    </tr>\n",
       "    <tr>\n",
       "      <th>4</th>\n",
       "      <td>Prof</td>\n",
       "      <td>applied</td>\n",
       "      <td>40</td>\n",
       "      <td>41</td>\n",
       "      <td>Male</td>\n",
       "      <td>141500</td>\n",
       "    </tr>\n",
       "  </tbody>\n",
       "</table>\n",
       "</div>"
      ],
      "text/plain": [
       "       rank discipline  years_since_phd  years_of_service   sex  salary\n",
       "0      Prof    applied               19                18  Male  139750\n",
       "1      Prof    applied               20                16  Male  173200\n",
       "2  AsstProf    applied                4                 3  Male   79750\n",
       "3      Prof    applied               45                39  Male  115000\n",
       "4      Prof    applied               40                41  Male  141500"
      ]
     },
     "execution_count": 2,
     "metadata": {},
     "output_type": "execute_result"
    }
   ],
   "source": [
    "url = \"https://vincentarelbundock.github.io/Rdatasets/csv/carData/Salaries.csv\"\n",
    "salary_data = pd.read_csv(url)\n",
    "salary_data.drop(\"Unnamed: 0\", axis=1, inplace=True)\n",
    "salary_data.rename({\"yrs.since.phd\": \"years_since_phd\", \"yrs.service\": \"years_of_service\"}, axis=1, inplace=True)\n",
    "salary_data.discipline = salary_data.discipline.replace({'A': 'theory', 'B': 'applied'})\n",
    "salary_data.head()"
   ]
  },
  {
   "cell_type": "markdown",
   "metadata": {
    "id": "g1b40tiKo3sP"
   },
   "source": [
    "We can get an idea of our data's distribution by observing its statistical properties."
   ]
  },
  {
   "cell_type": "code",
   "execution_count": 3,
   "metadata": {
    "colab": {
     "base_uri": "https://localhost:8080/",
     "height": 288
    },
    "executionInfo": {
     "elapsed": 486,
     "status": "ok",
     "timestamp": 1614049877707,
     "user": {
      "displayName": "Terron Ishihara",
      "photoUrl": "https://lh3.googleusercontent.com/a-/AOh14Gi_V1-4JYC1SiOmkOV80wtuzyxk6ic6tMOCMUJ0sw=s64",
      "userId": "09713116719036350569"
     },
     "user_tz": 480
    },
    "id": "mSBuwWtNpApj",
    "outputId": "158255f8-3119-45fb-d7ff-05092f9b4e69"
   },
   "outputs": [
    {
     "data": {
      "text/html": [
       "<div>\n",
       "<style scoped>\n",
       "    .dataframe tbody tr th:only-of-type {\n",
       "        vertical-align: middle;\n",
       "    }\n",
       "\n",
       "    .dataframe tbody tr th {\n",
       "        vertical-align: top;\n",
       "    }\n",
       "\n",
       "    .dataframe thead th {\n",
       "        text-align: right;\n",
       "    }\n",
       "</style>\n",
       "<table border=\"1\" class=\"dataframe\">\n",
       "  <thead>\n",
       "    <tr style=\"text-align: right;\">\n",
       "      <th></th>\n",
       "      <th>years_since_phd</th>\n",
       "      <th>years_of_service</th>\n",
       "      <th>salary</th>\n",
       "    </tr>\n",
       "  </thead>\n",
       "  <tbody>\n",
       "    <tr>\n",
       "      <th>count</th>\n",
       "      <td>397.000000</td>\n",
       "      <td>397.000000</td>\n",
       "      <td>397.000000</td>\n",
       "    </tr>\n",
       "    <tr>\n",
       "      <th>mean</th>\n",
       "      <td>22.314861</td>\n",
       "      <td>17.614610</td>\n",
       "      <td>113706.458438</td>\n",
       "    </tr>\n",
       "    <tr>\n",
       "      <th>std</th>\n",
       "      <td>12.887003</td>\n",
       "      <td>13.006024</td>\n",
       "      <td>30289.038695</td>\n",
       "    </tr>\n",
       "    <tr>\n",
       "      <th>min</th>\n",
       "      <td>1.000000</td>\n",
       "      <td>0.000000</td>\n",
       "      <td>57800.000000</td>\n",
       "    </tr>\n",
       "    <tr>\n",
       "      <th>25%</th>\n",
       "      <td>12.000000</td>\n",
       "      <td>7.000000</td>\n",
       "      <td>91000.000000</td>\n",
       "    </tr>\n",
       "    <tr>\n",
       "      <th>50%</th>\n",
       "      <td>21.000000</td>\n",
       "      <td>16.000000</td>\n",
       "      <td>107300.000000</td>\n",
       "    </tr>\n",
       "    <tr>\n",
       "      <th>75%</th>\n",
       "      <td>32.000000</td>\n",
       "      <td>27.000000</td>\n",
       "      <td>134185.000000</td>\n",
       "    </tr>\n",
       "    <tr>\n",
       "      <th>max</th>\n",
       "      <td>56.000000</td>\n",
       "      <td>60.000000</td>\n",
       "      <td>231545.000000</td>\n",
       "    </tr>\n",
       "  </tbody>\n",
       "</table>\n",
       "</div>"
      ],
      "text/plain": [
       "       years_since_phd  years_of_service         salary\n",
       "count       397.000000        397.000000     397.000000\n",
       "mean         22.314861         17.614610  113706.458438\n",
       "std          12.887003         13.006024   30289.038695\n",
       "min           1.000000          0.000000   57800.000000\n",
       "25%          12.000000          7.000000   91000.000000\n",
       "50%          21.000000         16.000000  107300.000000\n",
       "75%          32.000000         27.000000  134185.000000\n",
       "max          56.000000         60.000000  231545.000000"
      ]
     },
     "execution_count": 3,
     "metadata": {},
     "output_type": "execute_result"
    }
   ],
   "source": [
    "salary_data.describe()"
   ]
  },
  {
   "cell_type": "markdown",
   "metadata": {
    "id": "tW36voldjEFE"
   },
   "source": [
    "## Preliminary Analysis\n",
    "\n",
    "We ultimately want to apply a hypothesis test. This test comes with a set of assumptions:\n",
    "\n",
    "* The population is normally distributed\n",
    "  * If it is not, we can check if this is due to outliers that we could ignore.\n",
    "  * Either way, we can also ensure that the sample size is sufficiently large.\n",
    "* Observations are independent of each other\n",
    "* Data is quantitative (an obvious requirement)\n",
    "\n",
    "The third assumption is trivial and the second is generally just assumed to be met. Observations being independent of one another is a factor of how the sample has been taken from the population.\n",
    "\n",
    "The first assumption we can easily check with a histogram, boxplot, and/or descriptive statistics (mean, median, mode, etc.). "
   ]
  },
  {
   "cell_type": "code",
   "execution_count": 4,
   "metadata": {
    "colab": {
     "base_uri": "https://localhost:8080/",
     "height": 381
    },
    "executionInfo": {
     "elapsed": 1128,
     "status": "ok",
     "timestamp": 1614050010242,
     "user": {
      "displayName": "Terron Ishihara",
      "photoUrl": "https://lh3.googleusercontent.com/a-/AOh14Gi_V1-4JYC1SiOmkOV80wtuzyxk6ic6tMOCMUJ0sw=s64",
      "userId": "09713116719036350569"
     },
     "user_tz": 480
    },
    "id": "yxW7JnDaf7Tn",
    "outputId": "034d099a-b017-4dda-e8f3-9fbc8b18a5e2"
   },
   "outputs": [
    {
     "data": {
      "image/png": "[encoded data removed]",
      "text/plain": [
       "<Figure size 360x360 with 1 Axes>"
      ]
     },
     "metadata": {},
     "output_type": "display_data"
    }
   ],
   "source": [
    "plot = sns.displot(data=salary_data.salary, kde=True) # kde is an estimation of the data's distribution\n",
    "plot.set_xticklabels(rotation=30); # make ticks readable"
   ]
  },
  {
   "cell_type": "code",
   "execution_count": 5,
   "metadata": {
    "colab": {
     "base_uri": "https://localhost:8080/",
     "height": 296
    },
    "executionInfo": {
     "elapsed": 576,
     "status": "ok",
     "timestamp": 1614050065770,
     "user": {
      "displayName": "Terron Ishihara",
      "photoUrl": "https://lh3.googleusercontent.com/a-/AOh14Gi_V1-4JYC1SiOmkOV80wtuzyxk6ic6tMOCMUJ0sw=s64",
      "userId": "09713116719036350569"
     },
     "user_tz": 480
    },
    "id": "fno4RBbcj9Vg",
    "outputId": "6b3e06e3-0b24-47a8-9649-cae7576b3f79"
   },
   "outputs": [
    {
     "data": {
      "text/plain": [
       "<AxesSubplot:>"
      ]
     },
     "execution_count": 5,
     "metadata": {},
     "output_type": "execute_result"
    },
    {
     "data": {
      "image/png": "[encoded data removed]",
      "text/plain": [
       "<Figure size 432x288 with 1 Axes>"
      ]
     },
     "metadata": {},
     "output_type": "display_data"
    }
   ],
   "source": [
    "sns.boxplot(data=salary_data.salary)"
   ]
  },
  {
   "cell_type": "markdown",
   "metadata": {
    "id": "Xs-KkzX8ndlb"
   },
   "source": [
    "Skewness is a single value you can use to test the normality of a distribution. If the skew is between -1 and 1, the distribution of the data is close to normal."
   ]
  },
  {
   "cell_type": "code",
   "execution_count": 6,
   "metadata": {
    "colab": {
     "base_uri": "https://localhost:8080/"
    },
    "executionInfo": {
     "elapsed": 632,
     "status": "ok",
     "timestamp": 1614050088500,
     "user": {
      "displayName": "Terron Ishihara",
      "photoUrl": "https://lh3.googleusercontent.com/a-/AOh14Gi_V1-4JYC1SiOmkOV80wtuzyxk6ic6tMOCMUJ0sw=s64",
      "userId": "09713116719036350569"
     },
     "user_tz": 480
    },
    "id": "e-yemg4FnCpp",
    "outputId": "ea476773-b2ef-46f9-ba9e-7fdba3ac27a0"
   },
   "outputs": [
    {
     "data": {
      "text/plain": [
       "0.71456845319916"
      ]
     },
     "execution_count": 6,
     "metadata": {},
     "output_type": "execute_result"
    }
   ],
   "source": [
    "salary_data.salary.skew()"
   ]
  },
  {
   "cell_type": "markdown",
   "metadata": {
    "id": "3Nkm0ryaoAS3"
   },
   "source": [
    "We can confidently deduce from the above observations that this data is relatively normal. If it were not, we would have to consider the size of our sample as well. This sample happens to be quite large, so regardless we can continue on to the hypothesis test."
   ]
  },
  {
   "cell_type": "code",
   "execution_count": 7,
   "metadata": {
    "colab": {
     "base_uri": "https://localhost:8080/"
    },
    "executionInfo": {
     "elapsed": 477,
     "status": "ok",
     "timestamp": 1614050141062,
     "user": {
      "displayName": "Terron Ishihara",
      "photoUrl": "https://lh3.googleusercontent.com/a-/AOh14Gi_V1-4JYC1SiOmkOV80wtuzyxk6ic6tMOCMUJ0sw=s64",
      "userId": "09713116719036350569"
     },
     "user_tz": 480
    },
    "id": "ZAwa_23xnTA7",
    "outputId": "243b48be-618b-49d8-f3bb-a466d73c44a8"
   },
   "outputs": [
    {
     "data": {
      "text/plain": [
       "397"
      ]
     },
     "execution_count": 7,
     "metadata": {},
     "output_type": "execute_result"
    }
   ],
   "source": [
    "salary_data.shape[0] # How many rows (observations) are in the sample?"
   ]
  },
  {
   "cell_type": "markdown",
   "metadata": {
    "id": "pXEG_WE1oYUp"
   },
   "source": [
    "## One Sample t-test\n",
    "\n",
    "Remember the the null hypothesis asserts that nothing special is happening. $H_0$ would therefore state that Glassdoor's average is correct and our sample is not a rare outcome.\n",
    "$$\n",
    "H_0: \\mu = 98,500\n",
    "$$\n",
    "$$\n",
    "H_1: \\mu \\ne 98,500\n",
    "$$\n",
    "\n",
    "Actually executing the t-test is more tedious by hand, so fortunately there are libraries that can do all of these for us. We import the test from SciPy's `stats` package and observe the resulting p-value.\n",
    "\n"
   ]
  },
  {
   "cell_type": "code",
   "execution_count": 8,
   "metadata": {
    "colab": {
     "base_uri": "https://localhost:8080/"
    },
    "executionInfo": {
     "elapsed": 428,
     "status": "ok",
     "timestamp": 1614050195858,
     "user": {
      "displayName": "Terron Ishihara",
      "photoUrl": "https://lh3.googleusercontent.com/a-/AOh14Gi_V1-4JYC1SiOmkOV80wtuzyxk6ic6tMOCMUJ0sw=s64",
      "userId": "09713116719036350569"
     },
     "user_tz": 480
    },
    "id": "MfFShgBHoQNn",
    "outputId": "149e83bd-71bc-44f0-ed36-b859ca83078d"
   },
   "outputs": [],
   "source": [
    "from scipy import stats\n",
    "\n",
    "test_stat, pvalue = stats.ttest_1samp(salary_data.salary, popmean=98500)"
   ]
  },
  {
   "cell_type": "markdown",
   "metadata": {
    "id": "lGQ37zi6r4wT"
   },
   "source": [
    "The resulting p-value is vanishingly small (21 decimal places out). Although we would probably state an $\\alpha$ of 0.05, regardless of our choice of $\\alpha$ we can confidently **reject** the null hypothesis."
   ]
  },
  {
   "cell_type": "markdown",
   "metadata": {
    "id": "7oW8D8btsbED"
   },
   "source": [
    "A formal report of the findings might look something like this:\n",
    "\n",
    "> A one-sample hypothesis t-test was conducted to examine whether the mean salary of faculty is statistically significantly different from the average faculy salary on glassdoor.com ($98,500 per year). The findings of the test revealed with a p-value of 3.74e-21 and alpha of 0.05 that there is a significant difference between the average salary of sampled faculty and the reported average. "
   ]
  },
  {
   "cell_type": "markdown",
   "metadata": {
    "id": "9H_DCAV7vE_V"
   },
   "source": [
    "# Two Sample Test\n",
    "\n",
    "As an example of a two-sample test, let's compare the salaries of male and female professors. Our research question is whether or not there is a significant difference in the mean salary of male professors vs the mean salary of female professors."
   ]
  },
  {
   "cell_type": "code",
   "execution_count": 9,
   "metadata": {
    "colab": {
     "base_uri": "https://localhost:8080/"
    },
    "executionInfo": {
     "elapsed": 456,
     "status": "ok",
     "timestamp": 1614050433740,
     "user": {
      "displayName": "Terron Ishihara",
      "photoUrl": "https://lh3.googleusercontent.com/a-/AOh14Gi_V1-4JYC1SiOmkOV80wtuzyxk6ic6tMOCMUJ0sw=s64",
      "userId": "09713116719036350569"
     },
     "user_tz": 480
    },
    "id": "C10-eAL5pdaj",
    "outputId": "681539b0-64b5-4f74-fc0b-73218995a31b"
   },
   "outputs": [
    {
     "name": "stdout",
     "output_type": "stream",
     "text": [
      "(358,)\n"
     ]
    },
    {
     "data": {
      "text/plain": [
       "0    139750\n",
       "1    173200\n",
       "2     79750\n",
       "3    115000\n",
       "4    141500\n",
       "Name: salary, dtype: int64"
      ]
     },
     "execution_count": 9,
     "metadata": {},
     "output_type": "execute_result"
    }
   ],
   "source": [
    "male_salary = salary_data.salary[salary_data.sex == 'Male']\n",
    "print(male_salary.shape)\n",
    "male_salary.head()"
   ]
  },
  {
   "cell_type": "code",
   "execution_count": 10,
   "metadata": {
    "colab": {
     "base_uri": "https://localhost:8080/"
    },
    "executionInfo": {
     "elapsed": 521,
     "status": "ok",
     "timestamp": 1614050436353,
     "user": {
      "displayName": "Terron Ishihara",
      "photoUrl": "https://lh3.googleusercontent.com/a-/AOh14Gi_V1-4JYC1SiOmkOV80wtuzyxk6ic6tMOCMUJ0sw=s64",
      "userId": "09713116719036350569"
     },
     "user_tz": 480
    },
    "id": "VL_AZudBvV9h",
    "outputId": "1e7901b1-2a2a-4f6f-9616-da2886735f7d"
   },
   "outputs": [
    {
     "name": "stdout",
     "output_type": "stream",
     "text": [
      "(39,)\n"
     ]
    },
    {
     "data": {
      "text/plain": [
       "9     129000\n",
       "19    137000\n",
       "24     74830\n",
       "34     80225\n",
       "35     77000\n",
       "Name: salary, dtype: int64"
      ]
     },
     "execution_count": 10,
     "metadata": {},
     "output_type": "execute_result"
    }
   ],
   "source": [
    "female_salary = salary_data.salary[salary_data.sex == 'Female']\n",
    "print(female_salary.shape)\n",
    "female_salary.head()"
   ]
  },
  {
   "cell_type": "markdown",
   "metadata": {
    "id": "dZ8Yc0o3ziG4"
   },
   "source": [
    "## Preliminary Analysis\n",
    "\n",
    "We can use the groupby method to observe the means of each subcategory."
   ]
  },
  {
   "cell_type": "code",
   "execution_count": 11,
   "metadata": {
    "colab": {
     "base_uri": "https://localhost:8080/",
     "height": 138
    },
    "executionInfo": {
     "elapsed": 491,
     "status": "ok",
     "timestamp": 1614050457020,
     "user": {
      "displayName": "Terron Ishihara",
      "photoUrl": "https://lh3.googleusercontent.com/a-/AOh14Gi_V1-4JYC1SiOmkOV80wtuzyxk6ic6tMOCMUJ0sw=s64",
      "userId": "09713116719036350569"
     },
     "user_tz": 480
    },
    "id": "kL6wLrWEz4zO",
    "outputId": "4092ae27-2a76-4b85-ccc9-b98627b54bb7"
   },
   "outputs": [
    {
     "data": {
      "text/html": [
       "<div>\n",
       "<style scoped>\n",
       "    .dataframe tbody tr th:only-of-type {\n",
       "        vertical-align: middle;\n",
       "    }\n",
       "\n",
       "    .dataframe tbody tr th {\n",
       "        vertical-align: top;\n",
       "    }\n",
       "\n",
       "    .dataframe thead th {\n",
       "        text-align: right;\n",
       "    }\n",
       "</style>\n",
       "<table border=\"1\" class=\"dataframe\">\n",
       "  <thead>\n",
       "    <tr style=\"text-align: right;\">\n",
       "      <th></th>\n",
       "      <th>salary</th>\n",
       "    </tr>\n",
       "    <tr>\n",
       "      <th>sex</th>\n",
       "      <th></th>\n",
       "    </tr>\n",
       "  </thead>\n",
       "  <tbody>\n",
       "    <tr>\n",
       "      <th>Female</th>\n",
       "      <td>101002.410256</td>\n",
       "    </tr>\n",
       "    <tr>\n",
       "      <th>Male</th>\n",
       "      <td>115090.418994</td>\n",
       "    </tr>\n",
       "  </tbody>\n",
       "</table>\n",
       "</div>"
      ],
      "text/plain": [
       "               salary\n",
       "sex                  \n",
       "Female  101002.410256\n",
       "Male    115090.418994"
      ]
     },
     "execution_count": 11,
     "metadata": {},
     "output_type": "execute_result"
    }
   ],
   "source": [
    "salary_data[['salary', 'sex']].groupby('sex').mean()"
   ]
  },
  {
   "cell_type": "markdown",
   "metadata": {
    "id": "vzlRN-MQ0RnR"
   },
   "source": [
    "As before, we check for normality of the sample distribution."
   ]
  },
  {
   "cell_type": "code",
   "execution_count": 12,
   "metadata": {
    "colab": {
     "base_uri": "https://localhost:8080/",
     "height": 369
    },
    "executionInfo": {
     "elapsed": 1255,
     "status": "ok",
     "timestamp": 1614050485812,
     "user": {
      "displayName": "Terron Ishihara",
      "photoUrl": "https://lh3.googleusercontent.com/a-/AOh14Gi_V1-4JYC1SiOmkOV80wtuzyxk6ic6tMOCMUJ0sw=s64",
      "userId": "09713116719036350569"
     },
     "user_tz": 480
    },
    "id": "94aCtamkvfBx",
    "outputId": "91b41bfc-b916-427b-ea65-09d0be85e87d"
   },
   "outputs": [
    {
     "data": {
      "text/plain": [
       "<seaborn.axisgrid.FacetGrid at 0x132950bd850>"
      ]
     },
     "execution_count": 12,
     "metadata": {},
     "output_type": "execute_result"
    },
    {
     "data": {
      "image/png": "[encoded data removed]",
      "text/plain": [
       "<Figure size 474.525x360 with 1 Axes>"
      ]
     },
     "metadata": {},
     "output_type": "display_data"
    }
   ],
   "source": [
    "sns.displot(data=salary_data, x='salary', hue='sex')"
   ]
  },
  {
   "cell_type": "code",
   "execution_count": 13,
   "metadata": {
    "colab": {
     "base_uri": "https://localhost:8080/",
     "height": 369
    },
    "executionInfo": {
     "elapsed": 1077,
     "status": "ok",
     "timestamp": 1614050512265,
     "user": {
      "displayName": "Terron Ishihara",
      "photoUrl": "https://lh3.googleusercontent.com/a-/AOh14Gi_V1-4JYC1SiOmkOV80wtuzyxk6ic6tMOCMUJ0sw=s64",
      "userId": "09713116719036350569"
     },
     "user_tz": 480
    },
    "id": "bQmnNvEz0cIS",
    "outputId": "079fc71a-fe02-4b57-c039-ef2e985b76aa"
   },
   "outputs": [
    {
     "name": "stdout",
     "output_type": "stream",
     "text": [
      "0.7208921489818444\n"
     ]
    },
    {
     "data": {
      "image/png": "[encoded data removed]",
      "text/plain": [
       "<Figure size 360x360 with 1 Axes>"
      ]
     },
     "metadata": {},
     "output_type": "display_data"
    }
   ],
   "source": [
    "sns.displot(data=male_salary, kde=True)\n",
    "print(male_salary.skew())"
   ]
  },
  {
   "cell_type": "code",
   "execution_count": 14,
   "metadata": {
    "colab": {
     "base_uri": "https://localhost:8080/",
     "height": 369
    },
    "executionInfo": {
     "elapsed": 1064,
     "status": "ok",
     "timestamp": 1614050524249,
     "user": {
      "displayName": "Terron Ishihara",
      "photoUrl": "https://lh3.googleusercontent.com/a-/AOh14Gi_V1-4JYC1SiOmkOV80wtuzyxk6ic6tMOCMUJ0sw=s64",
      "userId": "09713116719036350569"
     },
     "user_tz": 480
    },
    "id": "Q7p0m9zq2Ac3",
    "outputId": "91bf491c-dc1e-4002-db42-4a1b1d50c52e"
   },
   "outputs": [
    {
     "name": "stdout",
     "output_type": "stream",
     "text": [
      "0.4580322018771293\n"
     ]
    },
    {
     "data": {
      "image/png": "[encoded data removed]",
      "text/plain": [
       "<Figure size 360x360 with 1 Axes>"
      ]
     },
     "metadata": {},
     "output_type": "display_data"
    }
   ],
   "source": [
    "sns.displot(data=female_salary, bins=12, kde=True) # Increased num bins to see more detail\n",
    "print(female_salary.skew())"
   ]
  },
  {
   "cell_type": "code",
   "execution_count": 15,
   "metadata": {
    "colab": {
     "base_uri": "https://localhost:8080/",
     "height": 393
    },
    "executionInfo": {
     "elapsed": 605,
     "status": "ok",
     "timestamp": 1614050560126,
     "user": {
      "displayName": "Terron Ishihara",
      "photoUrl": "https://lh3.googleusercontent.com/a-/AOh14Gi_V1-4JYC1SiOmkOV80wtuzyxk6ic6tMOCMUJ0sw=s64",
      "userId": "09713116719036350569"
     },
     "user_tz": 480
    },
    "id": "4ypCHJWv2p2q",
    "outputId": "8d5e3d35-cbcb-4bad-c9ab-61884df43314"
   },
   "outputs": [
    {
     "data": {
      "text/plain": [
       "<AxesSubplot:title={'center':'salary'}, xlabel='[sex]'>"
      ]
     },
     "execution_count": 15,
     "metadata": {},
     "output_type": "execute_result"
    },
    {
     "data": {
      "image/png": "[encoded data removed]",
      "text/plain": [
       "<Figure size 432x288 with 1 Axes>"
      ]
     },
     "metadata": {},
     "output_type": "display_data"
    }
   ],
   "source": [
    "salary_data[['salary', 'sex']].boxplot(by='sex')"
   ]
  },
  {
   "cell_type": "markdown",
   "metadata": {
    "id": "c0_pBE_x2TSD"
   },
   "source": [
    "In addition to normality, for a two-sample test, we must also ensure that the variance between the two samples is roughly equal. There are a few tests that will check for significant differences in variance, such as Bartlett's test and the F-test. We will use Levene's test which seems to be reported as the most robust. \n",
    "\n",
    "This is its own sort of hypothesis test, with a returned test statistic and p-value. If the null hypothesis is not rejected (i.e. retained), the variance is roughly equal between the two samples and we can proceed to performing the t-test."
   ]
  },
  {
   "cell_type": "code",
   "execution_count": 16,
   "metadata": {
    "colab": {
     "base_uri": "https://localhost:8080/"
    },
    "executionInfo": {
     "elapsed": 438,
     "status": "ok",
     "timestamp": 1614050650362,
     "user": {
      "displayName": "Terron Ishihara",
      "photoUrl": "https://lh3.googleusercontent.com/a-/AOh14Gi_V1-4JYC1SiOmkOV80wtuzyxk6ic6tMOCMUJ0sw=s64",
      "userId": "09713116719036350569"
     },
     "user_tz": 480
    },
    "id": "8OuOWwJE2Cvb",
    "outputId": "18906920-d029-4c2b-8138-6c1311e6185a"
   },
   "outputs": [
    {
     "name": "stdout",
     "output_type": "stream",
     "text": [
      "Retain H0 - variance is roughly equal\n",
      "alpha: 0.05\n",
      "p-value: 0.35993255760111553\n",
      "test stat: 0.8400820216384142\n"
     ]
    }
   ],
   "source": [
    "test_stat, p_value = stats.levene(male_salary, female_salary)\n",
    "alpha = 0.05\n",
    "\n",
    "if p_value > alpha:\n",
    "  print(\"Retain H0 - variance is roughly equal\")\n",
    "else:\n",
    "  print(\"Reject H0 - variance is not equal\")\n",
    "\n",
    "print(f\"alpha: {alpha}\")\n",
    "print(f\"p-value: {p_value}\")  # if p-value is not less than 0.05 then we cannot reject null hypothesis that variance is the same\n",
    "print(f\"test stat: {test_stat}\")"
   ]
  },
  {
   "cell_type": "markdown",
   "metadata": {},
   "source": [
    "https://docs.scipy.org/doc/scipy/reference/generated/scipy.stats.levene.html\n",
    "The Levene test tests the null hypothesis that all input samples are from populations with equal variances. Levene’s test is an alternative to Bartlett’s test bartlett in the case where there are significant deviations from normality.  If p-value is not less than 0.05 then we cannot reject null hypothesis that variance is the same.\n",
    "\n",
    "P-Values clearly explained: https://www.youtube.com/watch?v=5Z9OIYA8He8"
   ]
  },
  {
   "cell_type": "markdown",
   "metadata": {
    "id": "vnRDsRuf41l8"
   },
   "source": [
    "## Two Sample t-test\n",
    "\n",
    "We can perform the t-test much like before but with two independent samples. Just as `ttest_1samp` used a null hypothesis that the population mean is a given value, here `ttest_ind` uses a null hypothesis that the independent samples have the same mean."
   ]
  },
  {
   "cell_type": "code",
   "execution_count": 17,
   "metadata": {
    "colab": {
     "base_uri": "https://localhost:8080/"
    },
    "executionInfo": {
     "elapsed": 416,
     "status": "ok",
     "timestamp": 1614050695712,
     "user": {
      "displayName": "Terron Ishihara",
      "photoUrl": "https://lh3.googleusercontent.com/a-/AOh14Gi_V1-4JYC1SiOmkOV80wtuzyxk6ic6tMOCMUJ0sw=s64",
      "userId": "09713116719036350569"
     },
     "user_tz": 480
    },
    "id": "FlbLbSbq3qUK",
    "outputId": "07238018-af75-434e-ff1c-5d6a45a9df43"
   },
   "outputs": [
    {
     "data": {
      "text/plain": [
       "Ttest_indResult(statistic=2.781674064262432, pvalue=0.005667106519338681)"
      ]
     },
     "execution_count": 17,
     "metadata": {},
     "output_type": "execute_result"
    }
   ],
   "source": [
    "stats.ttest_ind(male_salary, female_salary, equal_var=True)"
   ]
  },
  {
   "cell_type": "markdown",
   "metadata": {
    "id": "W36c1g7d5sxY"
   },
   "source": [
    "For an $\\alpha$ of 0.05 and resulting p-value of 0.0057, we reject the null hypothesis and conclude that the average salaries of male and female professors significantly differ. Very small p-value means to reject null hypothesis."
   ]
  },
  {
   "cell_type": "markdown",
   "metadata": {
    "id": "eHxZQuY06JJ7"
   },
   "source": [
    "# ANOVA\n",
    "\n",
    "Suppose instead we would like to compare the mean salaries between three samples - professors, assistant professors, and associate professors. This requires us to use the analaysis of variance (ANOVA) test since there is more than two samples."
   ]
  },
  {
   "cell_type": "code",
   "execution_count": 18,
   "metadata": {
    "colab": {
     "base_uri": "https://localhost:8080/"
    },
    "executionInfo": {
     "elapsed": 300,
     "status": "ok",
     "timestamp": 1614050820365,
     "user": {
      "displayName": "Terron Ishihara",
      "photoUrl": "https://lh3.googleusercontent.com/a-/AOh14Gi_V1-4JYC1SiOmkOV80wtuzyxk6ic6tMOCMUJ0sw=s64",
      "userId": "09713116719036350569"
     },
     "user_tz": 480
    },
    "id": "oOhAzxmg483n",
    "outputId": "89dd1dab-7b13-497d-d695-9e2e39a12318"
   },
   "outputs": [
    {
     "data": {
      "text/plain": [
       "array(['Prof', 'AsstProf', 'AssocProf'], dtype=object)"
      ]
     },
     "execution_count": 18,
     "metadata": {},
     "output_type": "execute_result"
    }
   ],
   "source": [
    "salary_data['rank'].unique()"
   ]
  },
  {
   "cell_type": "markdown",
   "metadata": {
    "id": "hfBL1mMdAG69"
   },
   "source": [
    "## Preliminary Analysis"
   ]
  },
  {
   "cell_type": "code",
   "execution_count": 19,
   "metadata": {
    "colab": {
     "base_uri": "https://localhost:8080/",
     "height": 369
    },
    "executionInfo": {
     "elapsed": 1249,
     "status": "ok",
     "timestamp": 1614050872006,
     "user": {
      "displayName": "Terron Ishihara",
      "photoUrl": "https://lh3.googleusercontent.com/a-/AOh14Gi_V1-4JYC1SiOmkOV80wtuzyxk6ic6tMOCMUJ0sw=s64",
      "userId": "09713116719036350569"
     },
     "user_tz": 480
    },
    "id": "C2Z9gIfw6zfQ",
    "outputId": "7183c5eb-40ca-4236-8bc8-3590b531e899"
   },
   "outputs": [
    {
     "data": {
      "text/plain": [
       "<seaborn.axisgrid.FacetGrid at 0x13295481790>"
      ]
     },
     "execution_count": 19,
     "metadata": {},
     "output_type": "execute_result"
    },
    {
     "data": {
      "image/png": "[encoded data removed]",
      "text/plain": [
       "<Figure size 494.65x360 with 1 Axes>"
      ]
     },
     "metadata": {},
     "output_type": "display_data"
    }
   ],
   "source": [
    "sns.displot(data=salary_data, x='salary', hue='rank', multiple='stack')"
   ]
  },
  {
   "cell_type": "code",
   "execution_count": 20,
   "metadata": {
    "id": "uUUTj_pS6N2x"
   },
   "outputs": [],
   "source": [
    "prof_salary = salary_data['salary'][salary_data['rank'] == 'Prof']\n",
    "asstprof_salary = salary_data['salary'][salary_data['rank'] == 'AsstProf']\n",
    "assocprof_salary = salary_data['salary'][salary_data['rank'] == 'AssocProf']"
   ]
  },
  {
   "cell_type": "markdown",
   "metadata": {
    "id": "MfgqiFjO-nxY"
   },
   "source": [
    "Test for normality."
   ]
  },
  {
   "cell_type": "code",
   "execution_count": 36,
   "metadata": {
    "colab": {
     "base_uri": "https://localhost:8080/",
     "height": 1000
    },
    "executionInfo": {
     "elapsed": 2270,
     "status": "ok",
     "timestamp": 1614050920035,
     "user": {
      "displayName": "Terron Ishihara",
      "photoUrl": "https://lh3.googleusercontent.com/a-/AOh14Gi_V1-4JYC1SiOmkOV80wtuzyxk6ic6tMOCMUJ0sw=s64",
      "userId": "09713116719036350569"
     },
     "user_tz": 480
    },
    "id": "V-SK1hLW67Zd",
    "outputId": "bbb49f43-e946-4950-98eb-781ff3a482ac"
   },
   "outputs": [
    {
     "name": "stdout",
     "output_type": "stream",
     "text": [
      "Prof skew: 0.5900071212136428\n",
      "AsstProf skew: 0.08297549121003074\n",
      "AssocProf skew: -0.08589258223727936\n"
     ]
    },
    {
     "data": {
      "image/png": "[encoded data removed]",
      "text/plain": [
       "<Figure size 360x360 with 1 Axes>"
      ]
     },
     "metadata": {},
     "output_type": "display_data"
    },
    {
     "data": {
      "image/png": "[encoded data removed]",
      "text/plain": [
       "<Figure size 360x360 with 1 Axes>"
      ]
     },
     "metadata": {},
     "output_type": "display_data"
    },
    {
     "data": {
      "image/png": "[encoded data removed]",
      "text/plain": [
       "<Figure size 360x360 with 1 Axes>"
      ]
     },
     "metadata": {},
     "output_type": "display_data"
    }
   ],
   "source": [
    "sns.displot(prof_salary, kde=True)\n",
    "plt.title(\"Professor Salary\")\n",
    "sns.displot(asstprof_salary, kde=True)\n",
    "plt.title(\"Asst. Professor Salary\")\n",
    "sns.displot(assocprof_salary, kde=True)\n",
    "plt.title(\"Assoc. Professor Salary\")\n",
    "\n",
    "print(f\"Prof skew: {prof_salary.skew()}\")\n",
    "print(f\"AsstProf skew: {asstprof_salary.skew()}\")\n",
    "print(f\"AssocProf skew: {assocprof_salary.skew()}\")"
   ]
  },
  {
   "cell_type": "markdown",
   "metadata": {
    "id": "VX99HXbT-y3K"
   },
   "source": [
    "Test for equal variance with Levene's test."
   ]
  },
  {
   "cell_type": "markdown",
   "metadata": {
    "id": "2Hr-MW9KJRoa"
   },
   "source": [
    "The F-test is robust to the homogeneity of variance assumption (the assumption that the variances of all groups is roughly equal), so even if the variances differ the test is still valid."
   ]
  },
  {
   "cell_type": "code",
   "execution_count": 22,
   "metadata": {
    "colab": {
     "base_uri": "https://localhost:8080/"
    },
    "executionInfo": {
     "elapsed": 611,
     "status": "ok",
     "timestamp": 1614054465438,
     "user": {
      "displayName": "Terron Ishihara",
      "photoUrl": "https://lh3.googleusercontent.com/a-/AOh14Gi_V1-4JYC1SiOmkOV80wtuzyxk6ic6tMOCMUJ0sw=s64",
      "userId": "09713116719036350569"
     },
     "user_tz": 480
    },
    "id": "0-BGUyR98H8R",
    "outputId": "9eb6b02e-15e9-4463-90c8-d7537487b69a"
   },
   "outputs": [
    {
     "name": "stdout",
     "output_type": "stream",
     "text": [
      "Reject H0 - variance is not equal\n",
      "alpha: 0.05\n",
      "p-value: 4.476856382324779e-16\n",
      "test stat: 38.711118112709656\n"
     ]
    }
   ],
   "source": [
    "test_stat, p_value = stats.levene(prof_salary.values, asstprof_salary.values, assocprof_salary.values)\n",
    "alpha = 0.05\n",
    "\n",
    "if p_value > alpha:\n",
    "  print(\"Retain H0 - variance is roughly equal\")\n",
    "else:\n",
    "  print(\"Reject H0 - variance is not equal\")\n",
    "\n",
    "print(f\"alpha: {alpha}\")\n",
    "print(f\"p-value: {p_value}\")\n",
    "print(f\"test stat: {test_stat}\")"
   ]
  },
  {
   "cell_type": "markdown",
   "metadata": {},
   "source": [
    "The Levene test tests the null hypothesis that all input samples are from populations with equal variances. Levene’s test is an alternative to Bartlett’s test bartlett in the case where there are significant deviations from normality.  If p-value is not less than 0.05 then we cannot reject null hypothesis that variance is the same."
   ]
  },
  {
   "cell_type": "markdown",
   "metadata": {
    "id": "Wg-bnkrL_Pcg"
   },
   "source": [
    "## ANOVA Test\n",
    "\n",
    "Perform ANOVA test."
   ]
  },
  {
   "cell_type": "code",
   "execution_count": 23,
   "metadata": {
    "colab": {
     "base_uri": "https://localhost:8080/"
    },
    "executionInfo": {
     "elapsed": 421,
     "status": "ok",
     "timestamp": 1614051045515,
     "user": {
      "displayName": "Terron Ishihara",
      "photoUrl": "https://lh3.googleusercontent.com/a-/AOh14Gi_V1-4JYC1SiOmkOV80wtuzyxk6ic6tMOCMUJ0sw=s64",
      "userId": "09713116719036350569"
     },
     "user_tz": 480
    },
    "id": "EJUy66z9-70i",
    "outputId": "80efce8c-4858-4e9c-c8a4-01049a1b09e5"
   },
   "outputs": [
    {
     "data": {
      "text/plain": [
       "F_onewayResult(statistic=128.2173938320361, pvalue=1.29304847087234e-43)"
      ]
     },
     "execution_count": 23,
     "metadata": {},
     "output_type": "execute_result"
    }
   ],
   "source": [
    "stats.f_oneway(prof_salary, asstprof_salary, assocprof_salary)"
   ]
  },
  {
   "cell_type": "markdown",
   "metadata": {
    "id": "QvL4Alup_iW5"
   },
   "source": [
    "Once again, we find that we reject the null hypothesis because of the resulting p-value. Notice the F-statistic is far greater than 1, meaning there is a considerably significant difference between means.\n",
    "\n",
    "Our conclusion in this case is that at least one of the means (professor, assistant professor, or associate professor) is significantly different from the others. More tests would have to be performed to determine which groups are different."
   ]
  },
  {
   "cell_type": "markdown",
   "metadata": {
    "id": "JsvScnMgXhdb"
   },
   "source": [
    "## Tukey's Range Test\n",
    "\n",
    "Another test similar to ANOVA is Tukey's Range Test (also called \"Tukey's HSD (honestly significantly different) test\" as referenced in the code), which is essentially a good next step after running an ANOVA test that rejects the null hypothesis. This test compares mean of pair-wise groups based on the Student's distribution (similar to the t-distribution). The same assumptions about normal distribution and equal variance apply to this test."
   ]
  },
  {
   "cell_type": "code",
   "execution_count": 24,
   "metadata": {
    "colab": {
     "base_uri": "https://localhost:8080/",
     "height": 170
    },
    "executionInfo": {
     "elapsed": 492,
     "status": "ok",
     "timestamp": 1614051153282,
     "user": {
      "displayName": "Terron Ishihara",
      "photoUrl": "https://lh3.googleusercontent.com/a-/AOh14Gi_V1-4JYC1SiOmkOV80wtuzyxk6ic6tMOCMUJ0sw=s64",
      "userId": "09713116719036350569"
     },
     "user_tz": 480
    },
    "id": "i-Swg7guXply",
    "outputId": "010ee568-79b2-430d-e0fa-ba2b09207283"
   },
   "outputs": [
    {
     "data": {
      "text/html": [
       "<table class=\"simpletable\">\n",
       "<caption>Multiple Comparison of Means - Tukey HSD, FWER=0.05</caption>\n",
       "<tr>\n",
       "   <th>group1</th>    <th>group2</th>   <th>meandiff</th>    <th>p-adj</th>    <th>lower</th>       <th>upper</th>   <th>reject</th>\n",
       "</tr>\n",
       "<tr>\n",
       "  <td>AssocProf</td> <td>AsstProf</td> <td>-13100.4524</td> <td>0.0047</td> <td>-22819.1231</td> <td>-3381.7818</td>  <td>True</td> \n",
       "</tr>\n",
       "<tr>\n",
       "  <td>AssocProf</td>   <td>Prof</td>   <td>32895.6715</td>   <td>0.001</td> <td>25154.1777</td>  <td>40637.1653</td>  <td>True</td> \n",
       "</tr>\n",
       "<tr>\n",
       "  <td>AsstProf</td>    <td>Prof</td>   <td>45996.1239</td>   <td>0.001</td>  <td>38395.618</td>  <td>53596.6299</td>  <td>True</td> \n",
       "</tr>\n",
       "</table>"
      ],
      "text/plain": [
       "<class 'statsmodels.iolib.table.SimpleTable'>"
      ]
     },
     "execution_count": 24,
     "metadata": {},
     "output_type": "execute_result"
    }
   ],
   "source": [
    "from statsmodels.stats.multicomp import pairwise_tukeyhsd\n",
    "\n",
    "tukey = pairwise_tukeyhsd(endog=salary_data['salary'], groups=salary_data['rank'], alpha=0.05)\n",
    "tukey.summary()"
   ]
  },
  {
   "cell_type": "code",
   "execution_count": 25,
   "metadata": {
    "colab": {
     "base_uri": "https://localhost:8080/",
     "height": 425
    },
    "executionInfo": {
     "elapsed": 775,
     "status": "ok",
     "timestamp": 1614051207986,
     "user": {
      "displayName": "Terron Ishihara",
      "photoUrl": "https://lh3.googleusercontent.com/a-/AOh14Gi_V1-4JYC1SiOmkOV80wtuzyxk6ic6tMOCMUJ0sw=s64",
      "userId": "09713116719036350569"
     },
     "user_tz": 480
    },
    "id": "U0IIBW0ja3tV",
    "outputId": "a0094187-ce63-41f8-984f-fcee11a1ac11"
   },
   "outputs": [
    {
     "data": {
      "text/plain": [
       "<matplotlib.collections.LineCollection at 0x13296721c70>"
      ]
     },
     "execution_count": 25,
     "metadata": {},
     "output_type": "execute_result"
    },
    {
     "data": {
      "image/png": "[encoded data removed]",
      "text/plain": [
       "<Figure size 720x432 with 1 Axes>"
      ]
     },
     "metadata": {},
     "output_type": "display_data"
    }
   ],
   "source": [
    "# Plot group means\n",
    "tukey.plot_simultaneous()\n",
    "\n",
    "# Add mean of entire dataset to plot\n",
    "# ymin and ymax are required for vlines. The plot starts at y=-1 and \n",
    "# with 3 categories goes up to y=3.\n",
    "plt.vlines(x=salary_data['salary'].mean(), ymin=-1, ymax=3, color='red')"
   ]
  },
  {
   "cell_type": "markdown",
   "metadata": {
    "id": "hcDQz9BdAzfU"
   },
   "source": [
    "# Regression Analysis\n",
    "\n",
    "A similar form of statistical analysis that can be used a hypothesis test is regression analysis. Here we are determining if there is a relationship between two variables. If we choose a linear regression analysis, the simplest form of regression analysis, we are supposing that the relationship is linear. This yields a model of the form\n",
    "$$\n",
    "y = \\beta_0 + \\beta_1 x+ \\epsilon\n",
    "$$\n",
    "where y is the dependent variable, $x$ is the independent variable, $\\beta_0$ is the y-intercept, $\\beta_1$ is the slope, and $\\epsilon$ is the error between what the model predicts and what the true value is.\n",
    "\n",
    "The linear regression model minimizes the sum of the squared distance between each data point to the line: $\\sum (\\hat{y} - y)^2$. This is often abbreviated as $SS_{total}$."
   ]
  },
  {
   "cell_type": "code",
   "execution_count": 26,
   "metadata": {
    "colab": {
     "base_uri": "https://localhost:8080/"
    },
    "executionInfo": {
     "elapsed": 430,
     "status": "ok",
     "timestamp": 1614051439719,
     "user": {
      "displayName": "Terron Ishihara",
      "photoUrl": "https://lh3.googleusercontent.com/a-/AOh14Gi_V1-4JYC1SiOmkOV80wtuzyxk6ic6tMOCMUJ0sw=s64",
      "userId": "09713116719036350569"
     },
     "user_tz": 480
    },
    "id": "0-1KvE69HOy3",
    "outputId": "b4319d78-2454-4dc3-b884-6af3f476d4a6"
   },
   "outputs": [
    {
     "data": {
      "text/plain": [
       "LinregressResult(slope=779.569113694737, intercept=99974.65286632923, rvalue=0.3347446756998621, pvalue=7.528739019469755e-12, stderr=110.41693214331899, intercept_stderr=2416.6052625809575)"
      ]
     },
     "execution_count": 26,
     "metadata": {},
     "output_type": "execute_result"
    }
   ],
   "source": [
    "model = stats.linregress(x=salary_data['years_of_service'], y=salary_data['salary'])\n",
    "model"
   ]
  },
  {
   "cell_type": "code",
   "execution_count": 27,
   "metadata": {
    "colab": {
     "base_uri": "https://localhost:8080/",
     "height": 296
    },
    "executionInfo": {
     "elapsed": 776,
     "status": "ok",
     "timestamp": 1614051484202,
     "user": {
      "displayName": "Terron Ishihara",
      "photoUrl": "https://lh3.googleusercontent.com/a-/AOh14Gi_V1-4JYC1SiOmkOV80wtuzyxk6ic6tMOCMUJ0sw=s64",
      "userId": "09713116719036350569"
     },
     "user_tz": 480
    },
    "id": "cCTwLJwnHYkF",
    "outputId": "525a6666-3e72-4716-88ef-f2582d16934c"
   },
   "outputs": [
    {
     "data": {
      "text/plain": [
       "[<matplotlib.lines.Line2D at 0x13296be85b0>]"
      ]
     },
     "execution_count": 27,
     "metadata": {},
     "output_type": "execute_result"
    },
    {
     "data": {
      "image/png": "[encoded data removed]",
      "text/plain": [
       "<Figure size 432x288 with 1 Axes>"
      ]
     },
     "metadata": {},
     "output_type": "display_data"
    }
   ],
   "source": [
    "plt.scatter(x=salary_data['years_of_service'], y=salary_data['salary'])\n",
    "plt.plot(salary_data['years_of_service'], salary_data['years_of_service']*model.slope+model.intercept, color='r')"
   ]
  },
  {
   "cell_type": "markdown",
   "metadata": {
    "id": "GHlPXVBhLYxU"
   },
   "source": [
    "The linear regression model can also be used as a hypothesis test to determine whether or not there is a relationship between two variables. We can even see that `stats.linregress` has return a p-value in addition to the slope and intercept. This p-value corresponds to a t-test with the null hypothesis that the slope of the line is 0.\n",
    "\n",
    "Why do we care about the slope and not the intercept? The slope is actually interpretable. It represents how the dependent variable is proportionally influenced by the independent variable. That is, with $x$ number of years of service, we can generally expect an increase of $799/year in salary. If there were no relationship between salary and years of service, the slope should be 0 (a flat line across the plot).\n",
    "\n",
    "The intercept on the other hand is generally not interpretable. We could say that this generally represents what a starting salary might be for a new PhD graduate, but in most cases there is not much meaning to the intercept.\n",
    "\n",
    "Since the p-value is far below 0.05, we can confidently say that the null hypothesis is rejected and therefore there is a relationship between years of service and salary."
   ]
  },
  {
   "cell_type": "markdown",
   "metadata": {
    "id": "I0N3JlBuOC90"
   },
   "source": [
    "# More Information\n",
    "\n",
    "A great overview of all the topics we've covered and more, check out the Crash Course Statistics playlist on YouTube: https://www.youtube.com/playlist?list=PL8dPuuaLjXtNM_Y-bUAhblSAdWRnmBUcr\n",
    "\n",
    "StatQuest on linear regression: https://www.youtube.com/watch?v=nk2CQITm_eo"
   ]
  }
 ],
 "metadata": {
  "colab": {
   "authorship_tag": "ABX9TyPKCMhfydOa6AZzDdc6tZ/m",
   "name": "11 - Inferential Statistics in Python.ipynb",
   "provenance": [],
   "toc_visible": true
  },
  "kernelspec": {
   "display_name": "Python 3 (ipykernel)",
   "language": "python",
   "name": "python3"
  },
  "language_info": {
   "codemirror_mode": {
    "name": "ipython",
    "version": 3
   },
   "file_extension": ".py",
   "mimetype": "text/x-python",
   "name": "python",
   "nbconvert_exporter": "python",
   "pygments_lexer": "ipython3",
   "version": "3.8.0"
  }
 },
 "nbformat": 4,
 "nbformat_minor": 1
}
