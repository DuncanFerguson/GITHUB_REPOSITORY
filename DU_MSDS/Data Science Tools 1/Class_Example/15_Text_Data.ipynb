{
 "nbformat": 4,
 "nbformat_minor": 0,
 "metadata": {
  "colab": {
   "name": "15 - Text Data.ipynb",
   "provenance": [],
   "toc_visible": true
  },
  "kernelspec": {
   "name": "python3",
   "display_name": "Python 3"
  }
 },
 "cells": [
  {
   "cell_type": "markdown",
   "metadata": {
    "id": "gAdzEObk5Kwk"
   },
   "source": [
    "# Text Data\n",
    "## Data Science Tools I\n",
    "### Terron Ishihara | University of Denver\n",
    "\n",
    "\n",
    "---\n",
    "\n",
    "Main reference: [*Introduction to Machine Learning with Python: A Guide for Data Scientists* by Andres C. Müller and Sarah Guido](https://www.amazon.com/Introduction-Machine-Learning-Python-Scientists-ebook/dp/B01M0LNE8C)\n"
   ]
  },
  {
   "cell_type": "code",
   "metadata": {
    "id": "PI2pxuq2YfmY"
   },
   "source": [
    "import numpy as np\n",
    "import pandas as pd\n",
    "import matplotlib.pyplot as plt\n",
    "import seaborn as sns"
   ],
   "execution_count": 1,
   "outputs": []
  },
  {
   "cell_type": "markdown",
   "metadata": {
    "id": "WdSLt4bxYb_c"
   },
   "source": [
    "## Types of Data Represented as Strings\n",
    "\n",
    "In a previous lecture, we observed that in order for features to be interpreted by machine learning models, they must be continuous (numerical and interpretable as numbers). Some features are categorical, often represented with strings. In a classification task, the target vector is typically a categorical feature with the unique values of that feature being the possible class labels.\n",
    "\n",
    "Just as not all numerical data is continuous, not all string data is categorical. Generally there are four types of string data:\n",
    "* Categorical data\n",
    "* Free strings that can be symantically mapped to categories\n",
    "* Structured string data\n",
    "* Text data\n",
    "\n",
    "Categorical is what we've discussed already, where there is a finite set of string options that can be chosen from for a particular observation. For example, a survey of people's favorite colors could have the options \"red\", \"green\", \"blue\", \"yellow\", \"orange\", \"purple\", etc.\n",
    "\n",
    "Particularly in scenarios like surveys where, instead of a drop-down menu or something, users are able to type freely, typos can occur. Someone could respond saying their favorite color is \"yelow\" for example, which we could map to the category \"yellow\". Some responses could say \"gray\" while others say \"grey\". (An easy way to generally remember which to use is that \"gr**A**y\" is more often used by **A**merican speakers while \"gr**E**y\" is more often used by British **E**nglish speakers.) Some responses could be more specific, saying something like \"navy blue\" which could be mapped to \"blue\". Ultimately \"free strings\" like these are actually categorical but require manual assignment to the categories of interest.\n",
    "\n",
    "Structured string data includes things like address, phone numbers, place names, people names, and other identifiers.\n",
    "\n",
    "## Text Data\n",
    "\n",
    "Text data is freeform, consisting of phrases or sentences. Text data could generally be considered anything that communicates a thought that isn't one of the previous categories, perhaps an email, a social media post, a speech, a line of dialogue, etc. Some key terms to note here:\n",
    "* An \"atomic\" entity of text can be called a **word**, **term**, or **token** depending on the context.\n",
    "* A body of text (e.g. one email) is called a **document**.\n",
    "* A collection of documents is called a **corpus** (plural: **corpora**).\n",
    "* The field of research related to search through corpora is called **information retrieval (IR)**.\n",
    "* The field of research related to analyzing text data is called **natural language processing (NLP)**.\n",
    "\n",
    "\n",
    "\n"
   ]
  },
  {
   "cell_type": "markdown",
   "metadata": {
    "id": "owb5oNXGe51w"
   },
   "source": [
    "# Example Application: Sentiment Analysis on Movie Reviews\n",
    "\n",
    "A classic example of natural language processing is sentiment analysis, where the objective is to classify the **polarity** of a document. Sentiment analysis in its simplest form is a binary classification of either \"positive\" or \"negative\", though certainly more fine-grained classifications exist. In fact, IMDB's rating system is based on values between 1 and 10, but the dataset we will use consolidates these values into \"positive\" if 6 or higher and \"negative\" otherwise.\n",
    "\n",
    "Data Source: http://ai.stanford.edu/~amaas/data/sentiment/ "
   ]
  },
  {
   "cell_type": "code",
   "metadata": {
    "id": "LVaHnc25kYmi",
    "colab": {
     "base_uri": "https://localhost:8080/"
    },
    "outputId": "2002a1bd-01cd-43c2-ccbe-2bf06f70cd88"
   },
   "source": [
    "!wget \"http://ai.stanford.edu/~amaas/data/sentiment/aclImdb_v1.tar.gz\""
   ],
   "execution_count": 2,
   "outputs": [
    {
     "name": "stderr",
     "output_type": "stream",
     "text": [
      "'wget' is not recognized as an internal or external command,\n",
      "operable program or batch file.\n"
     ]
    }
   ]
  },
  {
   "cell_type": "code",
   "metadata": {
    "id": "emLQp-RVycKc"
   },
   "source": [
    "!tar -xf aclImdb_v1.tar.gz"
   ],
   "execution_count": 3,
   "outputs": [
    {
     "name": "stderr",
     "output_type": "stream",
     "text": [
      "tar: Error opening archive: Failed to open 'aclImdb_v1.tar.gz'\n"
     ]
    }
   ]
  },
  {
   "cell_type": "markdown",
   "metadata": {
    "id": "wUE4Q2c-nRTR"
   },
   "source": [
    "The data is pre-split into train and test, each as folders within which are folders label `neg` and `pos` for the negative and positive reviews respectfully. The `train` folder has a folder for unsupervised learning (without labels), but we will stick with the supervised version of this classification.\n",
    "\n",
    "`sklearn`'s `load_files` method conveniently can load files provided in this format."
   ]
  },
  {
   "cell_type": "code",
   "metadata": {
    "id": "lO6_dnv_mhUR",
    "colab": {
     "base_uri": "https://localhost:8080/",
     "height": 356
    },
    "outputId": "10513cf9-100b-4e1f-86fa-89e7d2fb90de"
   },
   "source": [
    "from sklearn.datasets import load_files\n",
    "\n",
    "# Ignore the `unsup` folder\n",
    "reviews_train = load_files(\"/content/aclImdb/train/\", categories=['neg','pos'])\n",
    "X_train, y_train = reviews_train.data, reviews_train.target\n",
    "\n",
    "# Take only part of the data to train and test because the corpus is so large\n",
    "sample_size = 8000\n",
    "X_train = X_train[:sample_size]\n",
    "y_train = y_train[:sample_size]\n",
    "\n",
    "print(f\"Type of X_train: {type(X_train)}\")\n",
    "print(f\"Length of X_train: {len(X_train)}\") \n",
    "print(f\"X_train[1]:\\n{X_train[1]}\")"
   ],
   "execution_count": 7,
   "outputs": [
    {
     "ename": "AttributeError",
     "evalue": "'list' object has no attribute 'data'",
     "output_type": "error",
     "traceback": [
      "\u001B[1;31m---------------------------------------------------------------------------\u001B[0m",
      "\u001B[1;31mAttributeError\u001B[0m                            Traceback (most recent call last)",
      "\u001B[1;32m~\\AppData\\Local\\Temp/ipykernel_23960/2340168449.py\u001B[0m in \u001B[0;36m<module>\u001B[1;34m\u001B[0m\n\u001B[0;32m      4\u001B[0m reviews_train =  [\"I don't know half of you half as well as I should like\",\n\u001B[0;32m      5\u001B[0m                 \"and I like less than half of you half as well as you deserve.\"]\n\u001B[1;32m----> 6\u001B[1;33m \u001B[0mX_train\u001B[0m\u001B[1;33m,\u001B[0m \u001B[0my_train\u001B[0m \u001B[1;33m=\u001B[0m \u001B[0mreviews_train\u001B[0m\u001B[1;33m.\u001B[0m\u001B[0mdata\u001B[0m\u001B[1;33m,\u001B[0m \u001B[0mreviews_train\u001B[0m\u001B[1;33m.\u001B[0m\u001B[0mtarget\u001B[0m\u001B[1;33m\u001B[0m\u001B[1;33m\u001B[0m\u001B[0m\n\u001B[0m\u001B[0;32m      7\u001B[0m \u001B[1;33m\u001B[0m\u001B[0m\n\u001B[0;32m      8\u001B[0m \u001B[1;31m# Take only part of the data to train and test because the corpus is so large\u001B[0m\u001B[1;33m\u001B[0m\u001B[1;33m\u001B[0m\u001B[1;33m\u001B[0m\u001B[0m\n",
      "\u001B[1;31mAttributeError\u001B[0m: 'list' object has no attribute 'data'"
     ]
    }
   ]
  },
  {
   "cell_type": "markdown",
   "metadata": {
    "id": "P1c3alPQo5pe"
   },
   "source": [
    "The string for the movie review is given as a byte literal, which is a special string that encodes using ASCII, characters represented by ASCII values 0 to 255. Any characters that are not within this range are given as escaped characters (e.g. `\\x41` is `'A'`).\n",
    "\n",
    "Aside from some escaped characters, the review text contains HTML newline tags, `<br />`. These shouldn't affect the model much, but we might as well get rid of them since they do not contain any semantic significance. Note that we do not replace these with empty strings since we still want whitespace separating each word in the review."
   ]
  },
  {
   "cell_type": "code",
   "metadata": {
    "id": "AOz7xuDSoH_d"
   },
   "source": [
    "# Remove html <br /> tags\n",
    "X_train = [doc.replace(b\"<br />\", b\" \") for doc in X_train]"
   ],
   "execution_count": 5,
   "outputs": [
    {
     "ename": "NameError",
     "evalue": "name 'X_train' is not defined",
     "output_type": "error",
     "traceback": [
      "\u001B[1;31m---------------------------------------------------------------------------\u001B[0m",
      "\u001B[1;31mNameError\u001B[0m                                 Traceback (most recent call last)",
      "\u001B[1;32m~\\AppData\\Local\\Temp/ipykernel_23960/303945738.py\u001B[0m in \u001B[0;36m<module>\u001B[1;34m\u001B[0m\n\u001B[0;32m      1\u001B[0m \u001B[1;31m# Remove html <br /> tags\u001B[0m\u001B[1;33m\u001B[0m\u001B[1;33m\u001B[0m\u001B[1;33m\u001B[0m\u001B[0m\n\u001B[1;32m----> 2\u001B[1;33m \u001B[0mX_train\u001B[0m \u001B[1;33m=\u001B[0m \u001B[1;33m[\u001B[0m\u001B[0mdoc\u001B[0m\u001B[1;33m.\u001B[0m\u001B[0mreplace\u001B[0m\u001B[1;33m(\u001B[0m\u001B[1;34mb\"<br />\"\u001B[0m\u001B[1;33m,\u001B[0m \u001B[1;34mb\" \"\u001B[0m\u001B[1;33m)\u001B[0m \u001B[1;32mfor\u001B[0m \u001B[0mdoc\u001B[0m \u001B[1;32min\u001B[0m \u001B[0mX_train\u001B[0m\u001B[1;33m]\u001B[0m\u001B[1;33m\u001B[0m\u001B[1;33m\u001B[0m\u001B[0m\n\u001B[0m",
      "\u001B[1;31mNameError\u001B[0m: name 'X_train' is not defined"
     ]
    }
   ]
  },
  {
   "cell_type": "markdown",
   "metadata": {
    "id": "kjwFGdEpp7zd"
   },
   "source": [
    "We can observe how many positive versus negative labels there are using `np.bincount`."
   ]
  },
  {
   "cell_type": "code",
   "metadata": {
    "id": "dXNxfeRPp0tQ",
    "colab": {
     "base_uri": "https://localhost:8080/"
    },
    "outputId": "a340c1b3-cae0-4caa-a0ab-6b9ff5688e10"
   },
   "source": [
    "print(f\"Samples per class (training): {np.bincount(y_train)}\")\n",
    "print(f\"Labels: {np.unique(y_train)}\")"
   ],
   "execution_count": 8,
   "outputs": [
    {
     "ename": "NameError",
     "evalue": "name 'y_train' is not defined",
     "output_type": "error",
     "traceback": [
      "\u001B[1;31m---------------------------------------------------------------------------\u001B[0m",
      "\u001B[1;31mNameError\u001B[0m                                 Traceback (most recent call last)",
      "\u001B[1;32m~\\AppData\\Local\\Temp/ipykernel_23960/3106905989.py\u001B[0m in \u001B[0;36m<module>\u001B[1;34m\u001B[0m\n\u001B[1;32m----> 1\u001B[1;33m \u001B[0mprint\u001B[0m\u001B[1;33m(\u001B[0m\u001B[1;34mf\"Samples per class (training): {np.bincount(y_train)}\"\u001B[0m\u001B[1;33m)\u001B[0m\u001B[1;33m\u001B[0m\u001B[1;33m\u001B[0m\u001B[0m\n\u001B[0m\u001B[0;32m      2\u001B[0m \u001B[0mprint\u001B[0m\u001B[1;33m(\u001B[0m\u001B[1;34mf\"Labels: {np.unique(y_train)}\"\u001B[0m\u001B[1;33m)\u001B[0m\u001B[1;33m\u001B[0m\u001B[1;33m\u001B[0m\u001B[0m\n",
      "\u001B[1;31mNameError\u001B[0m: name 'y_train' is not defined"
     ]
    }
   ]
  },
  {
   "cell_type": "markdown",
   "metadata": {
    "id": "nf4feBvfsN_G"
   },
   "source": [
    "We can prepare the test data in the same manner."
   ]
  },
  {
   "cell_type": "code",
   "metadata": {
    "id": "rtOUKQMQqoZp",
    "colab": {
     "base_uri": "https://localhost:8080/",
     "height": 356
    },
    "outputId": "12bed85b-0adf-4cca-fda5-22fe6e529171"
   },
   "source": [
    "from sklearn.datasets import load_files\n",
    "\n",
    "# 'unsup' does not exist in the test folder, so we don't have to ignore it\n",
    "reviews_test = load_files(\"/content/aclImdb/test/\")\n",
    "X_test, y_test = reviews_test.data, reviews_test.target\n",
    "\n",
    "X_test = X_test[:sample_size]\n",
    "y_test = y_test[:sample_size]\n",
    "\n",
    "# Remove HTML <br />\n",
    "X_test = [doc.replace(b\"<br />\", b\" \") for doc in X_test]\n",
    "\n",
    "print(f\"Type of X_test: {type(X_test)}\")\n",
    "print(f\"Length of X_test: {len(X_test)}\") "
   ],
   "execution_count": 9,
   "outputs": [
    {
     "ename": "FileNotFoundError",
     "evalue": "[WinError 3] The system cannot find the path specified: '/content/aclImdb/test/'",
     "output_type": "error",
     "traceback": [
      "\u001B[1;31m---------------------------------------------------------------------------\u001B[0m",
      "\u001B[1;31mFileNotFoundError\u001B[0m                         Traceback (most recent call last)",
      "\u001B[1;32m~\\AppData\\Local\\Temp/ipykernel_23960/1542009849.py\u001B[0m in \u001B[0;36m<module>\u001B[1;34m\u001B[0m\n\u001B[0;32m      2\u001B[0m \u001B[1;33m\u001B[0m\u001B[0m\n\u001B[0;32m      3\u001B[0m \u001B[1;31m# 'unsup' does not exist in the test folder, so we don't have to ignore it\u001B[0m\u001B[1;33m\u001B[0m\u001B[1;33m\u001B[0m\u001B[1;33m\u001B[0m\u001B[0m\n\u001B[1;32m----> 4\u001B[1;33m \u001B[0mreviews_test\u001B[0m \u001B[1;33m=\u001B[0m \u001B[0mload_files\u001B[0m\u001B[1;33m(\u001B[0m\u001B[1;34m\"/content/aclImdb/test/\"\u001B[0m\u001B[1;33m)\u001B[0m\u001B[1;33m\u001B[0m\u001B[1;33m\u001B[0m\u001B[0m\n\u001B[0m\u001B[0;32m      5\u001B[0m \u001B[0mX_test\u001B[0m\u001B[1;33m,\u001B[0m \u001B[0my_test\u001B[0m \u001B[1;33m=\u001B[0m \u001B[0mreviews_test\u001B[0m\u001B[1;33m.\u001B[0m\u001B[0mdata\u001B[0m\u001B[1;33m,\u001B[0m \u001B[0mreviews_test\u001B[0m\u001B[1;33m.\u001B[0m\u001B[0mtarget\u001B[0m\u001B[1;33m\u001B[0m\u001B[1;33m\u001B[0m\u001B[0m\n\u001B[0;32m      6\u001B[0m \u001B[1;33m\u001B[0m\u001B[0m\n",
      "\u001B[1;32m~\\anaconda3\\envs\\GIS\\lib\\site-packages\\sklearn\\datasets\\_base.py\u001B[0m in \u001B[0;36mload_files\u001B[1;34m(container_path, description, categories, load_content, shuffle, encoding, decode_error, random_state)\u001B[0m\n\u001B[0;32m    201\u001B[0m \u001B[1;33m\u001B[0m\u001B[0m\n\u001B[0;32m    202\u001B[0m     folders = [\n\u001B[1;32m--> 203\u001B[1;33m         \u001B[0mf\u001B[0m \u001B[1;32mfor\u001B[0m \u001B[0mf\u001B[0m \u001B[1;32min\u001B[0m \u001B[0msorted\u001B[0m\u001B[1;33m(\u001B[0m\u001B[0mlistdir\u001B[0m\u001B[1;33m(\u001B[0m\u001B[0mcontainer_path\u001B[0m\u001B[1;33m)\u001B[0m\u001B[1;33m)\u001B[0m \u001B[1;32mif\u001B[0m \u001B[0misdir\u001B[0m\u001B[1;33m(\u001B[0m\u001B[0mjoin\u001B[0m\u001B[1;33m(\u001B[0m\u001B[0mcontainer_path\u001B[0m\u001B[1;33m,\u001B[0m \u001B[0mf\u001B[0m\u001B[1;33m)\u001B[0m\u001B[1;33m)\u001B[0m\u001B[1;33m\u001B[0m\u001B[1;33m\u001B[0m\u001B[0m\n\u001B[0m\u001B[0;32m    204\u001B[0m     ]\n\u001B[0;32m    205\u001B[0m \u001B[1;33m\u001B[0m\u001B[0m\n",
      "\u001B[1;31mFileNotFoundError\u001B[0m: [WinError 3] The system cannot find the path specified: '/content/aclImdb/test/'"
     ]
    }
   ]
  },
  {
   "cell_type": "markdown",
   "metadata": {
    "id": "HK-KGn8qsqgS"
   },
   "source": [
    "# Representing Text as a Bag of Words\n",
    "\n",
    "Anyone familiar with the board game Scrabble or Bananagrams should have an intuitive image in their mind of a bag of letters; both of these games involve placing tiles, each with one letter written on them, in a grid-like fashion to create words. Which letters you get is totally random since all tiles are thrown into the bag and the bag is shaken up.\n",
    "\n",
    "The **bag-of-words** approach to representing text follows the same idea but at a word level rather than letters. Regardless of the ordering of the words in our corpus, we consider them all to be separate entities independent of one another. In doing so, we disregard sentence structure, grammar, and other linguistic rules. Certainly this sort of information is extremely useful and is taken into consideration in other models. Surprisingly, however, we can get pretty good performance with a bag-of-words approach.\n",
    "\n",
    "Converting a corpus into a bag of words involves three steps:\n",
    "\n",
    "* *Tokenization*: Split each document into words (tokens) by splitting on, say, whitespace and punctuation.\n",
    "* *Vocabulary building*: Create a vocabulary of words that appear in the corpus and number them (say, in alphabetical order)\n",
    "* *Encoding*: For each document, count how many times each word in the vocabulary appears in that document.\n",
    "\n",
    "\n",
    "\n"
   ]
  },
  {
   "cell_type": "markdown",
   "metadata": {
    "id": "oSCg__1f-_29"
   },
   "source": [
    "## Simple Dataset\n",
    "\n",
    "Each of the steps listed above have finer details about them, but for now let's use `sklearn`'s tools to perform these steps on a simple dataset."
   ]
  },
  {
   "cell_type": "code",
   "metadata": {
    "id": "j34XHfwZrWV_"
   },
   "source": [
    "bilbo_speech = [\"I don't know half of you half as well as I should like\",\n",
    "                \"and I like less than half of you half as well as you deserve.\"]"
   ],
   "execution_count": 11,
   "outputs": []
  },
  {
   "cell_type": "markdown",
   "metadata": {
    "id": "skRyAgK22GCt"
   },
   "source": [
    "The `CountVectorizer` performs the aforementioned steps using an efficient representation."
   ]
  },
  {
   "cell_type": "code",
   "metadata": {
    "id": "6DA-H3UQ2JCf",
    "colab": {
     "base_uri": "https://localhost:8080/"
    },
    "outputId": "623b6c5a-d436-492d-c4bb-afe318b26a61"
   },
   "source": [
    "from sklearn.feature_extraction.text import CountVectorizer\n",
    "\n",
    "vect = CountVectorizer()\n",
    "vect.fit(bilbo_speech)"
   ],
   "execution_count": 12,
   "outputs": [
    {
     "data": {
      "text/plain": "CountVectorizer()"
     },
     "execution_count": 12,
     "metadata": {},
     "output_type": "execute_result"
    }
   ]
  },
  {
   "cell_type": "markdown",
   "metadata": {
    "id": "FQzCjnCz2SCD"
   },
   "source": [
    "The `token_pattern` parameter designates a **regular expression** used to separate the corpus into tokens. Regular expressions are powerful tools for representing patterns in text, the details of which are too abundant to go over in this lecture. Suffice to say, `(?u)\\\\b\\\\w\\\\w+\\\\b` matches entities that are separated by word boundaries and that contain at least two letters or numbers.\n",
    "\n",
    "Printing the vocabulary illustratest that the words are encoded with integer labels corresponding to their position in sorted order."
   ]
  },
  {
   "cell_type": "code",
   "metadata": {
    "id": "RAfIMOBb2Mp3",
    "colab": {
     "base_uri": "https://localhost:8080/"
    },
    "outputId": "97498d79-dcc3-4559-ca1d-8d843b47e7d9"
   },
   "source": [
    "print(f\"Vocabulary size: {len(vect.vocabulary_)}\")\n",
    "print(f\"Vocabulary content:\\n {vect.vocabulary_}\")"
   ],
   "execution_count": 13,
   "outputs": [
    {
     "name": "stdout",
     "output_type": "stream",
     "text": [
      "Vocabulary size: 13\n",
      "Vocabulary content:\n",
      " {'don': 3, 'know': 5, 'half': 4, 'of': 8, 'you': 12, 'as': 1, 'well': 11, 'should': 9, 'like': 7, 'and': 0, 'less': 6, 'than': 10, 'deserve': 2}\n"
     ]
    }
   ]
  },
  {
   "cell_type": "markdown",
   "metadata": {
    "id": "n6Na6zlt6cWo"
   },
   "source": [
    "Printing the transformed text's representation, we see that the result is a sparse matrix, which is a memory-efficient means of representing matrices that contain lots of zeroes where only non-zero values are stored."
   ]
  },
  {
   "cell_type": "code",
   "metadata": {
    "id": "hqRlU_Ht5bbq",
    "colab": {
     "base_uri": "https://localhost:8080/"
    },
    "outputId": "23aaf5ed-8b12-4196-ed99-d4c796c3744a"
   },
   "source": [
    "bag_of_words = vect.transform(bilbo_speech)\n",
    "print(f\"bag_of_words: {repr(bag_of_words)}\")"
   ],
   "execution_count": 14,
   "outputs": [
    {
     "name": "stdout",
     "output_type": "stream",
     "text": [
      "bag_of_words: <2x13 sparse matrix of type '<class 'numpy.int64'>'\n",
      "\twith 19 stored elements in Compressed Sparse Row format>\n"
     ]
    }
   ]
  },
  {
   "cell_type": "markdown",
   "metadata": {
    "id": "9XC7VtIG7Bp4"
   },
   "source": [
    "Printing the dense version of this matrix will show what the full representation looks like."
   ]
  },
  {
   "cell_type": "code",
   "metadata": {
    "id": "2BSVNL9-5y_g",
    "colab": {
     "base_uri": "https://localhost:8080/"
    },
    "outputId": "2bdaf51f-cfbf-4da0-91d2-b74eae1727c9"
   },
   "source": [
    "print(f\"Dense representation of bag_of_words:\\n{bag_of_words.toarray()}\")"
   ],
   "execution_count": 15,
   "outputs": [
    {
     "name": "stdout",
     "output_type": "stream",
     "text": [
      "Dense representation of bag_of_words:\n",
      "[[0 2 0 1 2 1 0 1 1 1 0 1 1]\n",
      " [1 2 1 0 2 0 1 1 1 0 1 1 2]]\n"
     ]
    }
   ]
  },
  {
   "cell_type": "markdown",
   "metadata": {
    "id": "HVgDvbWH9cbL"
   },
   "source": [
    "These counts are per-document and correspond to the words as ordered in the vocabulary encoding. Take the first string as an example. The first word in the vocabulary encoding is \"and\", which does not appear in the first string, so the value 0 is at the first index. The next word in the vocabulary is \"as\", which shows up twice in the first string, yielding the number 2, and so on for the remaining words in the vocabulary.\n",
    "\n"
   ]
  },
  {
   "cell_type": "markdown",
   "metadata": {
    "id": "UWqxSoO-A8Cc"
   },
   "source": [
    "## Movie Reviews as Bag-Of-Words\n",
    "\n",
    "Let's apply the same technique to the movie reviews dataset."
   ]
  },
  {
   "cell_type": "code",
   "metadata": {
    "id": "siC2zeYh7LUd",
    "colab": {
     "base_uri": "https://localhost:8080/",
     "height": 200
    },
    "outputId": "78f1b5bb-af86-49f4-a364-6c958b06d2b1"
   },
   "source": [
    "vect = CountVectorizer().fit(X_train)\n",
    "X_train_bow = vect.transform(X_train)\n",
    "print(\"X_train_bow:\\n{}\".format(repr(X_train_bow)))"
   ],
   "execution_count": 16,
   "outputs": [
    {
     "ename": "NameError",
     "evalue": "name 'X_train' is not defined",
     "output_type": "error",
     "traceback": [
      "\u001B[1;31m---------------------------------------------------------------------------\u001B[0m",
      "\u001B[1;31mNameError\u001B[0m                                 Traceback (most recent call last)",
      "\u001B[1;32m~\\AppData\\Local\\Temp/ipykernel_23960/1807283161.py\u001B[0m in \u001B[0;36m<module>\u001B[1;34m\u001B[0m\n\u001B[1;32m----> 1\u001B[1;33m \u001B[0mvect\u001B[0m \u001B[1;33m=\u001B[0m \u001B[0mCountVectorizer\u001B[0m\u001B[1;33m(\u001B[0m\u001B[1;33m)\u001B[0m\u001B[1;33m.\u001B[0m\u001B[0mfit\u001B[0m\u001B[1;33m(\u001B[0m\u001B[0mX_train\u001B[0m\u001B[1;33m)\u001B[0m\u001B[1;33m\u001B[0m\u001B[1;33m\u001B[0m\u001B[0m\n\u001B[0m\u001B[0;32m      2\u001B[0m \u001B[0mX_train_bow\u001B[0m \u001B[1;33m=\u001B[0m \u001B[0mvect\u001B[0m\u001B[1;33m.\u001B[0m\u001B[0mtransform\u001B[0m\u001B[1;33m(\u001B[0m\u001B[0mX_train\u001B[0m\u001B[1;33m)\u001B[0m\u001B[1;33m\u001B[0m\u001B[1;33m\u001B[0m\u001B[0m\n\u001B[0;32m      3\u001B[0m \u001B[0mprint\u001B[0m\u001B[1;33m(\u001B[0m\u001B[1;34m\"X_train_bow:\\n{}\"\u001B[0m\u001B[1;33m.\u001B[0m\u001B[0mformat\u001B[0m\u001B[1;33m(\u001B[0m\u001B[0mrepr\u001B[0m\u001B[1;33m(\u001B[0m\u001B[0mX_train_bow\u001B[0m\u001B[1;33m)\u001B[0m\u001B[1;33m)\u001B[0m\u001B[1;33m)\u001B[0m\u001B[1;33m\u001B[0m\u001B[1;33m\u001B[0m\u001B[0m\n",
      "\u001B[1;31mNameError\u001B[0m: name 'X_train' is not defined"
     ]
    }
   ]
  },
  {
   "cell_type": "markdown",
   "metadata": {
    "id": "ITgYPreUCEaX"
   },
   "source": [
    "The `get_feature_names` method in `CountVectorizer` can give us more insight on what the `CountVectorizer` is actually storing."
   ]
  },
  {
   "cell_type": "code",
   "metadata": {
    "id": "9oZwNZOdBPDp",
    "colab": {
     "base_uri": "https://localhost:8080/"
    },
    "outputId": "dffaf3f8-1175-4eba-f995-647108ab4733"
   },
   "source": [
    "feature_names = vect.get_feature_names()\n",
    "print(f\"Number of features: {len(feature_names)}\")\n",
    "print(f\"First 20 features:\\n{feature_names[:20]}\")\n",
    "print(f\"Features 20010 to 20030:\\n{feature_names[20010:20030]}\")\n",
    "print(f\"Every 2000th feature:\\n{feature_names[::2000]}\")"
   ],
   "execution_count": 17,
   "outputs": [
    {
     "name": "stdout",
     "output_type": "stream",
     "text": [
      "Number of features: 13\n",
      "First 20 features:\n",
      "['and', 'as', 'deserve', 'don', 'half', 'know', 'less', 'like', 'of', 'should', 'than', 'well', 'you']\n",
      "Features 20010 to 20030:\n",
      "[]\n",
      "Every 2000th feature:\n",
      "['and']\n"
     ]
    },
    {
     "name": "stderr",
     "output_type": "stream",
     "text": [
      "C:\\Users\\dunca\\anaconda3\\envs\\GIS\\lib\\site-packages\\sklearn\\utils\\deprecation.py:87: FutureWarning: Function get_feature_names is deprecated; get_feature_names is deprecated in 1.0 and will be removed in 1.2. Please use get_feature_names_out instead.\n",
      "  warnings.warn(msg, category=FutureWarning)\n"
     ]
    }
   ]
  },
  {
   "cell_type": "markdown",
   "metadata": {
    "id": "WNe8BxN4CAqY"
   },
   "source": [
    "Interestingly, the first few \"words\" in the vocabulary are actually numbers. It is not likely that many of these have any significant meaning (though `007` does mean something with regard to James Bond films). \n",
    "\n",
    "Also notice that the word \"homeowner\" and its plural \"homeowners\" are both in the vocabulary. Given that we are considering all words to be independent entities in this bag-of-words approach, it may make more sense to consider both \"homeowner\" and \"homeowners\" as the same word since the pluralization does not add any extra useful information.\n",
    "\n",
    "Let's run a linear classifier to see what sort of result we get.\n",
    "\n"
   ]
  },
  {
   "cell_type": "code",
   "metadata": {
    "id": "9Um6I5PMC8ma",
    "colab": {
     "base_uri": "https://localhost:8080/",
     "height": 217
    },
    "outputId": "54f6d42d-0487-4daf-be7e-2f7111aed939"
   },
   "source": [
    "from sklearn.model_selection import cross_val_score\n",
    "from sklearn.linear_model import LogisticRegression\n",
    "\n",
    "scores = cross_val_score(LogisticRegression(max_iter=1000), X_train_bow, y_train, cv=5) \n",
    "print(f\"Mean cross-validation accuracy: {scores.mean():.2f}\")"
   ],
   "execution_count": 18,
   "outputs": [
    {
     "ename": "NameError",
     "evalue": "name 'X_train_bow' is not defined",
     "output_type": "error",
     "traceback": [
      "\u001B[1;31m---------------------------------------------------------------------------\u001B[0m",
      "\u001B[1;31mNameError\u001B[0m                                 Traceback (most recent call last)",
      "\u001B[1;32m~\\AppData\\Local\\Temp/ipykernel_23960/947830212.py\u001B[0m in \u001B[0;36m<module>\u001B[1;34m\u001B[0m\n\u001B[0;32m      2\u001B[0m \u001B[1;32mfrom\u001B[0m \u001B[0msklearn\u001B[0m\u001B[1;33m.\u001B[0m\u001B[0mlinear_model\u001B[0m \u001B[1;32mimport\u001B[0m \u001B[0mLogisticRegression\u001B[0m\u001B[1;33m\u001B[0m\u001B[1;33m\u001B[0m\u001B[0m\n\u001B[0;32m      3\u001B[0m \u001B[1;33m\u001B[0m\u001B[0m\n\u001B[1;32m----> 4\u001B[1;33m \u001B[0mscores\u001B[0m \u001B[1;33m=\u001B[0m \u001B[0mcross_val_score\u001B[0m\u001B[1;33m(\u001B[0m\u001B[0mLogisticRegression\u001B[0m\u001B[1;33m(\u001B[0m\u001B[0mmax_iter\u001B[0m\u001B[1;33m=\u001B[0m\u001B[1;36m1000\u001B[0m\u001B[1;33m)\u001B[0m\u001B[1;33m,\u001B[0m \u001B[0mX_train_bow\u001B[0m\u001B[1;33m,\u001B[0m \u001B[0my_train\u001B[0m\u001B[1;33m,\u001B[0m \u001B[0mcv\u001B[0m\u001B[1;33m=\u001B[0m\u001B[1;36m5\u001B[0m\u001B[1;33m)\u001B[0m\u001B[1;33m\u001B[0m\u001B[1;33m\u001B[0m\u001B[0m\n\u001B[0m\u001B[0;32m      5\u001B[0m \u001B[0mprint\u001B[0m\u001B[1;33m(\u001B[0m\u001B[1;34mf\"Mean cross-validation accuracy: {scores.mean():.2f}\"\u001B[0m\u001B[1;33m)\u001B[0m\u001B[1;33m\u001B[0m\u001B[1;33m\u001B[0m\u001B[0m\n",
      "\u001B[1;31mNameError\u001B[0m: name 'X_train_bow' is not defined"
     ]
    }
   ]
  },
  {
   "cell_type": "markdown",
   "metadata": {
    "id": "dz7NnlAqclIf"
   },
   "source": [
    "Logistic regression does have a hyperparameter called C that can be tuned to possibly achieve a better score. Since we're focusing on text processing, however, let's consider removing some tokens from our corpus in hopes that tokens that are not useful in discerning between labels will be removed.\n",
    "\n",
    "One way of doing this is by setting a minimum number of documents a token must appear in, referred to as its **document frequency**. For example, we might find that a couple movie reviews (perhaps for \"Bill and Ted's Excellent Adventure\" and its sequel) uses the word \"triumphant\" a lot, while all the others do not. This means that \"triumphant\" has significance for a couple documents but is not relevant to any others. Applying this globally should hopefully remove less informative tokens."
   ]
  },
  {
   "cell_type": "code",
   "metadata": {
    "id": "hF8cn_SGDFhL"
   },
   "source": [
    "vect = CountVectorizer(min_df=5).fit(X_train) # Specify minimum document frequency\n",
    "X_train_bow = vect.transform(X_train)\n",
    "print(f\"X_train with min_df: {repr(X_train_bow)}\")"
   ],
   "execution_count": null,
   "outputs": []
  },
  {
   "cell_type": "markdown",
   "metadata": {
    "id": "aRLDDgrZebm2"
   },
   "source": [
    "Compare the number of features here versus the number of features in the original bag-of-words X_train. With so many tokens removed, let's see if the model has improved."
   ]
  },
  {
   "cell_type": "code",
   "metadata": {
    "id": "2Ie81lnAeWiC"
   },
   "source": [
    "from sklearn.model_selection import cross_val_score\n",
    "from sklearn.linear_model import LogisticRegression\n",
    "\n",
    "scores = cross_val_score(LogisticRegression(max_iter=1000), X_train_bow, y_train, cv=5) \n",
    "print(f\"Mean cross-validation accuracy: {scores.mean():.2f}\")"
   ],
   "execution_count": null,
   "outputs": []
  },
  {
   "cell_type": "markdown",
   "metadata": {
    "id": "bfTF7oZ7e10i"
   },
   "source": [
    "It looks like there is still work to be done, but at least the dimensionality of our feature matrix has been reduced."
   ]
  },
  {
   "cell_type": "markdown",
   "metadata": {
    "id": "iBVkEMdGe6ob"
   },
   "source": [
    "# Stop Words\n",
    "\n",
    "Another means of reducing the number of features (i.e. removing unnecessary tokens) is the use of **stop words**. There are plenty of words whose minimum document frequency is high (some probably appear in almost every document) but also do not provide any more semantic or useful information, such as \"the\", \"an\", \"but\", etc. These are called stop words and libraries designed for NLP tasks typically have a list of stop words for the most common languages.\n",
    "\n"
   ]
  },
  {
   "cell_type": "code",
   "metadata": {
    "id": "GQRjTIpqfDWz",
    "colab": {
     "base_uri": "https://localhost:8080/"
    },
    "outputId": "765d3327-d78e-40b5-f034-0b0d0d9957f8"
   },
   "source": [
    "from sklearn.feature_extraction.text import ENGLISH_STOP_WORDS\n",
    "\n",
    "print(f\"Number of stop words: {len(ENGLISH_STOP_WORDS)}\")\n",
    "print(f\"Every 10th stopword:\\n{list(ENGLISH_STOP_WORDS)[::10]}\")"
   ],
   "execution_count": 19,
   "outputs": [
    {
     "name": "stdout",
     "output_type": "stream",
     "text": [
      "Number of stop words: 318\n",
      "Every 10th stopword:\n",
      "['amoungst', 'name', 'our', 'seemed', 'call', 'rather', 'may', 'across', 'amongst', 'have', 'sometimes', 'take', 'too', 'front', 'him', 'twenty', 'again', 'mill', 'afterwards', 'fifteen', 'what', 'here', 'together', 'serious', 'eleven', 'nor', 'someone', 'namely', 'it', 'some', 'themselves', 'whatever']\n"
     ]
    }
   ]
  },
  {
   "cell_type": "markdown",
   "metadata": {
    "id": "QK7bXA44gvNS"
   },
   "source": [
    "Let's see if our score improves with stop words removed."
   ]
  },
  {
   "cell_type": "code",
   "metadata": {
    "id": "b5f-wIcvg4ly",
    "colab": {
     "base_uri": "https://localhost:8080/"
    },
    "outputId": "9cba6e69-0adc-458e-de47-74d8fb427fbc"
   },
   "source": [
    "vect = CountVectorizer(min_df=5, stop_words='english').fit(X_train)\n",
    "X_train_bow = vect.transform(X_train)\n",
    "print(f\"X_train with min_df and stop words: {repr(X_train_bow)}\")"
   ],
   "execution_count": 25,
   "outputs": [
    {
     "ename": "ValueError",
     "evalue": "max_df corresponds to < documents than min_df",
     "output_type": "error",
     "traceback": [
      "\u001B[1;31m---------------------------------------------------------------------------\u001B[0m",
      "\u001B[1;31mValueError\u001B[0m                                Traceback (most recent call last)",
      "\u001B[1;32m~\\AppData\\Local\\Temp/ipykernel_23960/2653594038.py\u001B[0m in \u001B[0;36m<module>\u001B[1;34m\u001B[0m\n\u001B[1;32m----> 1\u001B[1;33m \u001B[0mvect\u001B[0m \u001B[1;33m=\u001B[0m \u001B[0mCountVectorizer\u001B[0m\u001B[1;33m(\u001B[0m\u001B[0mmin_df\u001B[0m\u001B[1;33m=\u001B[0m\u001B[1;36m5\u001B[0m\u001B[1;33m,\u001B[0m \u001B[0mstop_words\u001B[0m\u001B[1;33m=\u001B[0m\u001B[1;34m'english'\u001B[0m\u001B[1;33m)\u001B[0m\u001B[1;33m.\u001B[0m\u001B[0mfit\u001B[0m\u001B[1;33m(\u001B[0m\u001B[0mbilbo_speech\u001B[0m\u001B[1;33m)\u001B[0m\u001B[1;33m\u001B[0m\u001B[1;33m\u001B[0m\u001B[0m\n\u001B[0m\u001B[0;32m      2\u001B[0m \u001B[0mX_train_bow\u001B[0m \u001B[1;33m=\u001B[0m \u001B[0mvect\u001B[0m\u001B[1;33m.\u001B[0m\u001B[0mtransform\u001B[0m\u001B[1;33m(\u001B[0m\u001B[0mbilbo_speech\u001B[0m\u001B[1;33m)\u001B[0m\u001B[1;33m\u001B[0m\u001B[1;33m\u001B[0m\u001B[0m\n\u001B[0;32m      3\u001B[0m \u001B[0mprint\u001B[0m\u001B[1;33m(\u001B[0m\u001B[1;34mf\"X_train with min_df and stop words: {repr(X_train_bow)}\"\u001B[0m\u001B[1;33m)\u001B[0m\u001B[1;33m\u001B[0m\u001B[1;33m\u001B[0m\u001B[0m\n",
      "\u001B[1;32m~\\anaconda3\\envs\\GIS\\lib\\site-packages\\sklearn\\feature_extraction\\text.py\u001B[0m in \u001B[0;36mfit\u001B[1;34m(self, raw_documents, y)\u001B[0m\n\u001B[0;32m   1281\u001B[0m         \"\"\"\n\u001B[0;32m   1282\u001B[0m         \u001B[0mself\u001B[0m\u001B[1;33m.\u001B[0m\u001B[0m_warn_for_unused_params\u001B[0m\u001B[1;33m(\u001B[0m\u001B[1;33m)\u001B[0m\u001B[1;33m\u001B[0m\u001B[1;33m\u001B[0m\u001B[0m\n\u001B[1;32m-> 1283\u001B[1;33m         \u001B[0mself\u001B[0m\u001B[1;33m.\u001B[0m\u001B[0mfit_transform\u001B[0m\u001B[1;33m(\u001B[0m\u001B[0mraw_documents\u001B[0m\u001B[1;33m)\u001B[0m\u001B[1;33m\u001B[0m\u001B[1;33m\u001B[0m\u001B[0m\n\u001B[0m\u001B[0;32m   1284\u001B[0m         \u001B[1;32mreturn\u001B[0m \u001B[0mself\u001B[0m\u001B[1;33m\u001B[0m\u001B[1;33m\u001B[0m\u001B[0m\n\u001B[0;32m   1285\u001B[0m \u001B[1;33m\u001B[0m\u001B[0m\n",
      "\u001B[1;32m~\\anaconda3\\envs\\GIS\\lib\\site-packages\\sklearn\\feature_extraction\\text.py\u001B[0m in \u001B[0;36mfit_transform\u001B[1;34m(self, raw_documents, y)\u001B[0m\n\u001B[0;32m   1342\u001B[0m             )\n\u001B[0;32m   1343\u001B[0m             \u001B[1;32mif\u001B[0m \u001B[0mmax_doc_count\u001B[0m \u001B[1;33m<\u001B[0m \u001B[0mmin_doc_count\u001B[0m\u001B[1;33m:\u001B[0m\u001B[1;33m\u001B[0m\u001B[1;33m\u001B[0m\u001B[0m\n\u001B[1;32m-> 1344\u001B[1;33m                 \u001B[1;32mraise\u001B[0m \u001B[0mValueError\u001B[0m\u001B[1;33m(\u001B[0m\u001B[1;34m\"max_df corresponds to < documents than min_df\"\u001B[0m\u001B[1;33m)\u001B[0m\u001B[1;33m\u001B[0m\u001B[1;33m\u001B[0m\u001B[0m\n\u001B[0m\u001B[0;32m   1345\u001B[0m             \u001B[1;32mif\u001B[0m \u001B[0mmax_features\u001B[0m \u001B[1;32mis\u001B[0m \u001B[1;32mnot\u001B[0m \u001B[1;32mNone\u001B[0m\u001B[1;33m:\u001B[0m\u001B[1;33m\u001B[0m\u001B[1;33m\u001B[0m\u001B[0m\n\u001B[0;32m   1346\u001B[0m                 \u001B[0mX\u001B[0m \u001B[1;33m=\u001B[0m \u001B[0mself\u001B[0m\u001B[1;33m.\u001B[0m\u001B[0m_sort_features\u001B[0m\u001B[1;33m(\u001B[0m\u001B[0mX\u001B[0m\u001B[1;33m,\u001B[0m \u001B[0mvocabulary\u001B[0m\u001B[1;33m)\u001B[0m\u001B[1;33m\u001B[0m\u001B[1;33m\u001B[0m\u001B[0m\n",
      "\u001B[1;31mValueError\u001B[0m: max_df corresponds to < documents than min_df"
     ]
    }
   ]
  },
  {
   "cell_type": "code",
   "metadata": {
    "id": "WwwOSDwefKdY",
    "colab": {
     "base_uri": "https://localhost:8080/"
    },
    "outputId": "75b2434f-8a3d-413b-e88f-617969337a53"
   },
   "source": [
    "from sklearn.model_selection import cross_val_score\n",
    "from sklearn.linear_model import LogisticRegression\n",
    "\n",
    "scores = cross_val_score(LogisticRegression(max_iter=1000), X_train_bow, y_train, cv=5) \n",
    "print(f\"Mean cross-validation accuracy: {scores.mean():.2f}\")"
   ],
   "execution_count": 23,
   "outputs": [
    {
     "ename": "NameError",
     "evalue": "name 'X_train_bow' is not defined",
     "output_type": "error",
     "traceback": [
      "\u001B[1;31m---------------------------------------------------------------------------\u001B[0m",
      "\u001B[1;31mNameError\u001B[0m                                 Traceback (most recent call last)",
      "\u001B[1;32m~\\AppData\\Local\\Temp/ipykernel_23960/947830212.py\u001B[0m in \u001B[0;36m<module>\u001B[1;34m\u001B[0m\n\u001B[0;32m      2\u001B[0m \u001B[1;32mfrom\u001B[0m \u001B[0msklearn\u001B[0m\u001B[1;33m.\u001B[0m\u001B[0mlinear_model\u001B[0m \u001B[1;32mimport\u001B[0m \u001B[0mLogisticRegression\u001B[0m\u001B[1;33m\u001B[0m\u001B[1;33m\u001B[0m\u001B[0m\n\u001B[0;32m      3\u001B[0m \u001B[1;33m\u001B[0m\u001B[0m\n\u001B[1;32m----> 4\u001B[1;33m \u001B[0mscores\u001B[0m \u001B[1;33m=\u001B[0m \u001B[0mcross_val_score\u001B[0m\u001B[1;33m(\u001B[0m\u001B[0mLogisticRegression\u001B[0m\u001B[1;33m(\u001B[0m\u001B[0mmax_iter\u001B[0m\u001B[1;33m=\u001B[0m\u001B[1;36m1000\u001B[0m\u001B[1;33m)\u001B[0m\u001B[1;33m,\u001B[0m \u001B[0mX_train_bow\u001B[0m\u001B[1;33m,\u001B[0m \u001B[0my_train\u001B[0m\u001B[1;33m,\u001B[0m \u001B[0mcv\u001B[0m\u001B[1;33m=\u001B[0m\u001B[1;36m5\u001B[0m\u001B[1;33m)\u001B[0m\u001B[1;33m\u001B[0m\u001B[1;33m\u001B[0m\u001B[0m\n\u001B[0m\u001B[0;32m      5\u001B[0m \u001B[0mprint\u001B[0m\u001B[1;33m(\u001B[0m\u001B[1;34mf\"Mean cross-validation accuracy: {scores.mean():.2f}\"\u001B[0m\u001B[1;33m)\u001B[0m\u001B[1;33m\u001B[0m\u001B[1;33m\u001B[0m\u001B[0m\n",
      "\u001B[1;31mNameError\u001B[0m: name 'X_train_bow' is not defined"
     ]
    }
   ]
  },
  {
   "cell_type": "markdown",
   "metadata": {
    "id": "J6cDs_AhhrVt"
   },
   "source": [
    "Removing stop words is more effective with smaller datasets since there may not be enough distinct words for the model to discern between stop words and informative words. Since this dataset is rather large, we find that removing stop words actually decreases the accuracy slightly, so it may not be worth utilizing in the long run."
   ]
  },
  {
   "cell_type": "markdown",
   "metadata": {
    "id": "SjFe4mYciRXU"
   },
   "source": [
    "# Rescaling the Data with tf-idf\n",
    "\n",
    "Instead of dropping features that are deemed unimportant, another approach is to rescale features by how informative we expect them to be. One of the most common ways to do this is using the **term frequency–inverse document frequency (tf–idf)** method. Recalling the \"triumphant\" example from before, although that word is perhaps not as significant across all documents, the fact that it appears many times in one document is also important. Overall, we want to give higher weight to terms that appear often within a document, but not in very many documents. In other words, we want term frequency (number of times a term appear in a given document) to be higher and document frequency (number of documents a term appears in at least once) to be lower.\n",
    "\n",
    "$$\n",
    "\\text{tfidf} = \\text{tf}(w,d) \\cdot \\log(\\frac{N+1}{N_w+1}) + 1\n",
    "$$\n",
    "where\n",
    "* $\\text{tf}(w,d)$ is the term frequency (the number of times word $w$ appears in the query document $d$)\n",
    "* $N$ is the number of documents in the training set\n",
    "* $N_w$ is the document frequency of $w$ (the number of documents $w$ appears in)\n",
    "\n",
    "`sklearn`'s `TfidfTransformer` will take the bag-of-words representation given by `CountVectorizer` and calculate the tfidf of each term and use that value instead of a raw word count. `TfidfVectorizer` is a combination of both of these classes.\n",
    "\n",
    "The tfidf is also normalized so any given document's vector of tfidf scores has a Euclidean norm of 1. In doing so, a document's length (the number of words in a document) is not factored into the calculation. This is significant particularly in information retrieval where tfidf is used to determine what document is most relevant to your query (e.g. Google search). Someone could artificially attach many words or repeat certain words to make the search engine more likely to pick their website, which is prevented by this normalization."
   ]
  },
  {
   "cell_type": "code",
   "metadata": {
    "id": "IefBuS3_myp7",
    "colab": {
     "base_uri": "https://localhost:8080/"
    },
    "outputId": "fedb6731-b3a8-452c-f0f0-f3e01074b0b3"
   },
   "source": [
    "from sklearn.feature_extraction.text import TfidfVectorizer\n",
    "from sklearn.model_selection import cross_val_score\n",
    "from sklearn.linear_model import LogisticRegression\n",
    "\n",
    "vect = TfidfVectorizer(min_df=5)\n",
    "X_train_tfidf = vect.fit_transform(X_train)\n",
    "\n",
    "scores = cross_val_score(LogisticRegression(max_iter=1000), X_train_tfidf, y_train, cv=5) \n",
    "print(f\"Mean cross-validation accuracy: {scores.mean():.2f}\")"
   ],
   "execution_count": null,
   "outputs": [
    {
     "output_type": "stream",
     "text": [
      "Mean cross-validation accuracy: 0.87\n"
     ],
     "name": "stdout"
    }
   ]
  },
  {
   "cell_type": "code",
   "metadata": {
    "id": "ZWUkNW5znNcZ",
    "colab": {
     "base_uri": "https://localhost:8080/"
    },
    "outputId": "d9b96a51-f515-4e13-ac1b-5c9e730ac7be"
   },
   "source": [
    "# Compute max value for each feature\n",
    "max_value = X_train_tfidf.max(axis=0).toarray().ravel()\n",
    "# Sort the values based on tfidf\n",
    "sorted_by_tfidf = max_value.argsort()\n",
    "# Get feature names\n",
    "feature_names = np.array(vect.get_feature_names())\n",
    "# Get the first 20 tfidf scores and use them to index into feature array\n",
    "print(f\"Features with lowest tfidf:\\n{feature_names[sorted_by_tfidf[:20]]}\")\n",
    "# Do the same, but for the last 20\n",
    "print(f\"Features with highest tfidf: \\n{feature_names[sorted_by_tfidf[-20:]]}\")"
   ],
   "execution_count": null,
   "outputs": [
    {
     "output_type": "stream",
     "text": [
      "Features with lowest tfidf:\n",
      "['panning' 'gleefully' 'dominance' 'naïve' 'dissolution' 'conquered'\n",
      " 'tumbling' 'betraying' 'emerald' 'growling' 'landmarks' 'evaluate'\n",
      " 'sedate' 'sympathetically' 'flourished' 'eliminating' 'doorstep' 'relish'\n",
      " 'informs' 'claustrophobia']\n",
      "Features with highest tfidf: \n",
      "['modesty' 'pia' 'naschy' 'pierce' 'che' 'worms' 'gundam' 'reese' 'zombi'\n",
      " 'darius' 'elvira' 'bruce' 'ants' 'brendan' 'seagal' 'bye' 'botched'\n",
      " 'demons' 'woo' 'pokemon']\n"
     ],
     "name": "stdout"
    }
   ]
  },
  {
   "cell_type": "markdown",
   "metadata": {
    "id": "OQ2tk_zzuF7n"
   },
   "source": [
    "Terms with low tfidf either are very commonly used across documents or are only used sparingly. The high tfidf terms should appear in fewer documents but many times within those documents. It's not surprising that terms like `pokemon` and `elvira` and `gundam` have high tfidf since these identify the movies/actors the reviews are talking about.\n",
    "\n",
    "Terms with low idf alone are ones that appear in many documents. These could be used to create a dynamic list of stop words. Some terms are specific to the corpus, which could end up lacking meaning with how often they are used (e.g. \"movie\")."
   ]
  },
  {
   "cell_type": "code",
   "metadata": {
    "id": "DoZCwlWcsv1h",
    "colab": {
     "base_uri": "https://localhost:8080/"
    },
    "outputId": "0493e444-d6fd-436c-80a9-672898bb052a"
   },
   "source": [
    "sorted_by_idf = np.argsort(vect.idf_)\n",
    "print(f\"Features with lowest idf:\\n{feature_names[sorted_by_idf[:100]]}\")"
   ],
   "execution_count": null,
   "outputs": [
    {
     "output_type": "stream",
     "text": [
      "Features with lowest idf:\n",
      "['the' 'and' 'of' 'to' 'this' 'is' 'it' 'in' 'that' 'but' 'for' 'with'\n",
      " 'was' 'as' 'on' 'movie' 'not' 'be' 'one' 'have' 'film' 'are' 'you' 'all'\n",
      " 'at' 'an' 'by' 'like' 'from' 'so' 'who' 'his' 'there' 'out' 'they' 'he'\n",
      " 'if' 'just' 'about' 'or' 'has' 'can' 'what' 'good' 'some' 'when' 'more'\n",
      " 'time' 'up' 'even' 'very' 'only' 'would' 'no' 'my' 'see' 'really' 'which'\n",
      " 'well' 'story' 'had' 'me' 'than' 'much' 'their' 'do' 'other' 'were' 'get'\n",
      " 'been' 'don' 'her' 'also' 'most' 'first' 'great' 'into' 'made' 'how'\n",
      " 'people' 'because' 'will' 'we' 'make' 'way' 'after' 'could' 'bad' 'any'\n",
      " 'she' 'then' 'too' 'them' 'think' 'watch' 'movies' 'seen' 'acting'\n",
      " 'being' 'its']\n"
     ],
     "name": "stdout"
    }
   ]
  },
  {
   "cell_type": "markdown",
   "metadata": {
    "id": "MNJX1Ls3u8rT"
   },
   "source": [
    "Stepping back to the overall objective here, we ultimately want to classify reviews as being positive or negative. These labels have nothing to do with term frequency, document frequency, stopwords, etc. Tfidf and the related features can help us transform the data to make the model fit better, but we haven't yet seen what our model has learned.\n",
    "\n",
    "The textbook author's `mglearn` library has a nice visualization plot that can show us what the most significant coefficients are in our resulting model. Those that most correlate with positive labels are given higher positive coefficients, and the opposite for negative labels."
   ]
  },
  {
   "cell_type": "code",
   "metadata": {
    "id": "baGEg5p_vnIg",
    "colab": {
     "base_uri": "https://localhost:8080/"
    },
    "outputId": "aa6b1061-2725-4912-fbb1-cad84eafe288"
   },
   "source": [
    "!pip install mglearn"
   ],
   "execution_count": null,
   "outputs": [
    {
     "output_type": "stream",
     "text": [
      "Collecting mglearn\n",
      "\u001B[?25l  Downloading https://files.pythonhosted.org/packages/65/38/8aced26fce0b2ae82c3c87cd3b6105f38ca6d9d51704ecc44aa54473e6b9/mglearn-0.1.9.tar.gz (540kB)\n",
      "\r\u001B[K     |▋                               | 10kB 17.1MB/s eta 0:00:01\r\u001B[K     |█▏                              | 20kB 14.3MB/s eta 0:00:01\r\u001B[K     |█▉                              | 30kB 10.8MB/s eta 0:00:01\r\u001B[K     |██▍                             | 40kB 8.9MB/s eta 0:00:01\r\u001B[K     |███                             | 51kB 7.7MB/s eta 0:00:01\r\u001B[K     |███▋                            | 61kB 6.7MB/s eta 0:00:01\r\u001B[K     |████▎                           | 71kB 7.5MB/s eta 0:00:01\r\u001B[K     |████▉                           | 81kB 7.9MB/s eta 0:00:01\r\u001B[K     |█████▌                          | 92kB 7.8MB/s eta 0:00:01\r\u001B[K     |██████                          | 102kB 7.3MB/s eta 0:00:01\r\u001B[K     |██████▊                         | 112kB 7.3MB/s eta 0:00:01\r\u001B[K     |███████▎                        | 122kB 7.3MB/s eta 0:00:01\r\u001B[K     |███████▉                        | 133kB 7.3MB/s eta 0:00:01\r\u001B[K     |████████▌                       | 143kB 7.3MB/s eta 0:00:01\r\u001B[K     |█████████                       | 153kB 7.3MB/s eta 0:00:01\r\u001B[K     |█████████▊                      | 163kB 7.3MB/s eta 0:00:01\r\u001B[K     |██████████▎                     | 174kB 7.3MB/s eta 0:00:01\r\u001B[K     |███████████                     | 184kB 7.3MB/s eta 0:00:01\r\u001B[K     |███████████▌                    | 194kB 7.3MB/s eta 0:00:01\r\u001B[K     |████████████▏                   | 204kB 7.3MB/s eta 0:00:01\r\u001B[K     |████████████▊                   | 215kB 7.3MB/s eta 0:00:01\r\u001B[K     |█████████████▍                  | 225kB 7.3MB/s eta 0:00:01\r\u001B[K     |██████████████                  | 235kB 7.3MB/s eta 0:00:01\r\u001B[K     |██████████████▋                 | 245kB 7.3MB/s eta 0:00:01\r\u001B[K     |███████████████▏                | 256kB 7.3MB/s eta 0:00:01\r\u001B[K     |███████████████▊                | 266kB 7.3MB/s eta 0:00:01\r\u001B[K     |████████████████▍               | 276kB 7.3MB/s eta 0:00:01\r\u001B[K     |█████████████████               | 286kB 7.3MB/s eta 0:00:01\r\u001B[K     |█████████████████▋              | 296kB 7.3MB/s eta 0:00:01\r\u001B[K     |██████████████████▏             | 307kB 7.3MB/s eta 0:00:01\r\u001B[K     |██████████████████▉             | 317kB 7.3MB/s eta 0:00:01\r\u001B[K     |███████████████████▍            | 327kB 7.3MB/s eta 0:00:01\r\u001B[K     |████████████████████            | 337kB 7.3MB/s eta 0:00:01\r\u001B[K     |████████████████████▋           | 348kB 7.3MB/s eta 0:00:01\r\u001B[K     |█████████████████████▎          | 358kB 7.3MB/s eta 0:00:01\r\u001B[K     |█████████████████████▉          | 368kB 7.3MB/s eta 0:00:01\r\u001B[K     |██████████████████████▌         | 378kB 7.3MB/s eta 0:00:01\r\u001B[K     |███████████████████████         | 389kB 7.3MB/s eta 0:00:01\r\u001B[K     |███████████████████████▋        | 399kB 7.3MB/s eta 0:00:01\r\u001B[K     |████████████████████████▎       | 409kB 7.3MB/s eta 0:00:01\r\u001B[K     |████████████████████████▉       | 419kB 7.3MB/s eta 0:00:01\r\u001B[K     |█████████████████████████▌      | 430kB 7.3MB/s eta 0:00:01\r\u001B[K     |██████████████████████████      | 440kB 7.3MB/s eta 0:00:01\r\u001B[K     |██████████████████████████▊     | 450kB 7.3MB/s eta 0:00:01\r\u001B[K     |███████████████████████████▎    | 460kB 7.3MB/s eta 0:00:01\r\u001B[K     |████████████████████████████    | 471kB 7.3MB/s eta 0:00:01\r\u001B[K     |████████████████████████████▌   | 481kB 7.3MB/s eta 0:00:01\r\u001B[K     |█████████████████████████████▏  | 491kB 7.3MB/s eta 0:00:01\r\u001B[K     |█████████████████████████████▊  | 501kB 7.3MB/s eta 0:00:01\r\u001B[K     |██████████████████████████████▍ | 512kB 7.3MB/s eta 0:00:01\r\u001B[K     |███████████████████████████████ | 522kB 7.3MB/s eta 0:00:01\r\u001B[K     |███████████████████████████████▌| 532kB 7.3MB/s eta 0:00:01\r\u001B[K     |████████████████████████████████| 542kB 7.3MB/s \n",
      "\u001B[?25hRequirement already satisfied: numpy in /usr/local/lib/python3.7/dist-packages (from mglearn) (1.19.5)\n",
      "Requirement already satisfied: matplotlib in /usr/local/lib/python3.7/dist-packages (from mglearn) (3.2.2)\n",
      "Requirement already satisfied: scikit-learn in /usr/local/lib/python3.7/dist-packages (from mglearn) (0.22.2.post1)\n",
      "Requirement already satisfied: pandas in /usr/local/lib/python3.7/dist-packages (from mglearn) (1.1.5)\n",
      "Requirement already satisfied: pillow in /usr/local/lib/python3.7/dist-packages (from mglearn) (7.0.0)\n",
      "Requirement already satisfied: cycler in /usr/local/lib/python3.7/dist-packages (from mglearn) (0.10.0)\n",
      "Requirement already satisfied: imageio in /usr/local/lib/python3.7/dist-packages (from mglearn) (2.4.1)\n",
      "Requirement already satisfied: joblib in /usr/local/lib/python3.7/dist-packages (from mglearn) (1.0.1)\n",
      "Requirement already satisfied: kiwisolver>=1.0.1 in /usr/local/lib/python3.7/dist-packages (from matplotlib->mglearn) (1.3.1)\n",
      "Requirement already satisfied: pyparsing!=2.0.4,!=2.1.2,!=2.1.6,>=2.0.1 in /usr/local/lib/python3.7/dist-packages (from matplotlib->mglearn) (2.4.7)\n",
      "Requirement already satisfied: python-dateutil>=2.1 in /usr/local/lib/python3.7/dist-packages (from matplotlib->mglearn) (2.8.1)\n",
      "Requirement already satisfied: scipy>=0.17.0 in /usr/local/lib/python3.7/dist-packages (from scikit-learn->mglearn) (1.4.1)\n",
      "Requirement already satisfied: pytz>=2017.2 in /usr/local/lib/python3.7/dist-packages (from pandas->mglearn) (2018.9)\n",
      "Requirement already satisfied: six in /usr/local/lib/python3.7/dist-packages (from cycler->mglearn) (1.15.0)\n",
      "Building wheels for collected packages: mglearn\n",
      "  Building wheel for mglearn (setup.py) ... \u001B[?25l\u001B[?25hdone\n",
      "  Created wheel for mglearn: filename=mglearn-0.1.9-py2.py3-none-any.whl size=582638 sha256=2e244d0750085c089442d68e62a2cfd4e38db620daf329a10b5959dabf3d26f9\n",
      "  Stored in directory: /root/.cache/pip/wheels/eb/a6/ea/a6a3716233fa62fc561259b5cb1e28f79e9ff3592c0adac5f0\n",
      "Successfully built mglearn\n",
      "Installing collected packages: mglearn\n",
      "Successfully installed mglearn-0.1.9\n"
     ],
     "name": "stdout"
    }
   ]
  },
  {
   "cell_type": "code",
   "metadata": {
    "id": "MFz-rSqhu7IH",
    "colab": {
     "base_uri": "https://localhost:8080/",
     "height": 333
    },
    "outputId": "d2b5f557-f6f4-4f28-d131-02b68e7be318"
   },
   "source": [
    "import mglearn\n",
    "\n",
    "logreg = LogisticRegression(max_iter=1000).fit(X_train_tfidf, y_train)\n",
    "mglearn.tools.visualize_coefficients(logreg.coef_, feature_names, n_top_features=40)"
   ],
   "execution_count": 22,
   "outputs": [
    {
     "ename": "ModuleNotFoundError",
     "evalue": "No module named 'mglearn'",
     "output_type": "error",
     "traceback": [
      "\u001B[1;31m---------------------------------------------------------------------------\u001B[0m",
      "\u001B[1;31mModuleNotFoundError\u001B[0m                       Traceback (most recent call last)",
      "\u001B[1;32m~\\AppData\\Local\\Temp/ipykernel_23960/2540936449.py\u001B[0m in \u001B[0;36m<module>\u001B[1;34m\u001B[0m\n\u001B[1;32m----> 1\u001B[1;33m \u001B[1;32mimport\u001B[0m \u001B[0mmglearn\u001B[0m\u001B[1;33m\u001B[0m\u001B[1;33m\u001B[0m\u001B[0m\n\u001B[0m\u001B[0;32m      2\u001B[0m \u001B[1;33m\u001B[0m\u001B[0m\n\u001B[0;32m      3\u001B[0m \u001B[0mlogreg\u001B[0m \u001B[1;33m=\u001B[0m \u001B[0mLogisticRegression\u001B[0m\u001B[1;33m(\u001B[0m\u001B[0mmax_iter\u001B[0m\u001B[1;33m=\u001B[0m\u001B[1;36m1000\u001B[0m\u001B[1;33m)\u001B[0m\u001B[1;33m.\u001B[0m\u001B[0mfit\u001B[0m\u001B[1;33m(\u001B[0m\u001B[0mX_train_tfidf\u001B[0m\u001B[1;33m,\u001B[0m \u001B[0my_train\u001B[0m\u001B[1;33m)\u001B[0m\u001B[1;33m\u001B[0m\u001B[1;33m\u001B[0m\u001B[0m\n\u001B[0;32m      4\u001B[0m \u001B[0mmglearn\u001B[0m\u001B[1;33m.\u001B[0m\u001B[0mtools\u001B[0m\u001B[1;33m.\u001B[0m\u001B[0mvisualize_coefficients\u001B[0m\u001B[1;33m(\u001B[0m\u001B[0mlogreg\u001B[0m\u001B[1;33m.\u001B[0m\u001B[0mcoef_\u001B[0m\u001B[1;33m,\u001B[0m \u001B[0mfeature_names\u001B[0m\u001B[1;33m,\u001B[0m \u001B[0mn_top_features\u001B[0m\u001B[1;33m=\u001B[0m\u001B[1;36m40\u001B[0m\u001B[1;33m)\u001B[0m\u001B[1;33m\u001B[0m\u001B[1;33m\u001B[0m\u001B[0m\n",
      "\u001B[1;31mModuleNotFoundError\u001B[0m: No module named 'mglearn'"
     ]
    }
   ]
  },
  {
   "cell_type": "markdown",
   "metadata": {
    "id": "wzVv7AK1yMi6"
   },
   "source": [
    "# Bag of Words with n-grams\n",
    "\n",
    "The previous plot demonstrates that the words \"excellent\" and \"great\" become associated with positive reviews while \"bad\" and \"worst\" are associated with negative ones, as to be expected. But what if we come across a review that says something like \"The movie is not great\" or \"It's wasn't bad.\"? By viewing each word as independent of all others, we lose connotations that can change with a word like \"not\" (though this is admittedly an extreme version of this predicament). \n",
    "\n",
    "What if, instead, we use *pairs* of words instead of single words (also called **unigrams**)? These pairs are referred to as **bigrams**. Similarly, three-word groups are called **trigrams**, and generally these are called **n-grams**. The overall approach remains the same, but the level of granularity for our vocabulary changes.\n",
    "\n",
    "Let's observe a simple example of this with the sample text from earlier."
   ]
  },
  {
   "cell_type": "code",
   "metadata": {
    "id": "jVcs0EsivmLi",
    "colab": {
     "base_uri": "https://localhost:8080/"
    },
    "outputId": "35c76135-9a53-478c-adca-7741cfe373b8"
   },
   "source": [
    "count_vect = CountVectorizer(ngram_range=(1,1))\n",
    "count_vect.fit(bilbo_speech)\n",
    "\n",
    "print(f\"Vocabulary size: {len(count_vect.vocabulary_)}\")\n",
    "print(f\"Vocabulary:\\n{count_vect.vocabulary_}\")"
   ],
   "execution_count": null,
   "outputs": [
    {
     "output_type": "stream",
     "text": [
      "Vocabulary size: 13\n",
      "Vocabulary:\n",
      "{'don': 3, 'know': 5, 'half': 4, 'of': 8, 'you': 12, 'as': 1, 'well': 11, 'should': 9, 'like': 7, 'and': 0, 'less': 6, 'than': 10, 'deserve': 2}\n"
     ],
     "name": "stdout"
    }
   ]
  },
  {
   "cell_type": "markdown",
   "metadata": {
    "id": "_tTFyB-yzbZG"
   },
   "source": [
    "Here we get the same results as before, but explicitly stating that we want n-grams from n=1 to n=1, so excluding all other values of n. Let's see what happens when we only ask for bigrams."
   ]
  },
  {
   "cell_type": "code",
   "metadata": {
    "id": "JKX0iMWWzaEB",
    "colab": {
     "base_uri": "https://localhost:8080/"
    },
    "outputId": "e17e3333-01a3-426a-e1f9-d8ba728e47e2"
   },
   "source": [
    "count_vect = CountVectorizer(ngram_range=(2,2))\n",
    "count_vect.fit(bilbo_speech)\n",
    "\n",
    "print(f\"Vocabulary size: {len(count_vect.vocabulary_)}\")\n",
    "print(f\"Vocabulary:\\n{count_vect.vocabulary_}\")"
   ],
   "execution_count": null,
   "outputs": [
    {
     "output_type": "stream",
     "text": [
      "Vocabulary size: 16\n",
      "Vocabulary:\n",
      "{'don know': 4, 'know half': 7, 'half of': 6, 'of you': 10, 'you half': 15, 'half as': 5, 'as well': 2, 'well as': 13, 'as should': 1, 'should like': 11, 'and like': 0, 'like less': 9, 'less than': 8, 'than half': 12, 'as you': 3, 'you deserve': 14}\n"
     ],
     "name": "stdout"
    }
   ]
  },
  {
   "cell_type": "markdown",
   "metadata": {
    "id": "8aEMeuSAzqLA"
   },
   "source": [
    "Naturally, we can specify a range of values for n."
   ]
  },
  {
   "cell_type": "code",
   "metadata": {
    "id": "xKw3Q96Fzlwb",
    "colab": {
     "base_uri": "https://localhost:8080/"
    },
    "outputId": "fcbb4489-5e8c-4534-e278-cd0266d60abe"
   },
   "source": [
    "count_vect = CountVectorizer(ngram_range=(1,3))\n",
    "count_vect.fit(bilbo_speech)\n",
    "\n",
    "print(f\"Vocabulary size: {len(count_vect.vocabulary_)}\")\n",
    "print(f\"Vocabulary:\\n{count_vect.vocabulary_}\")"
   ],
   "execution_count": null,
   "outputs": [
    {
     "output_type": "stream",
     "text": [
      "Vocabulary size: 44\n",
      "Vocabulary:\n",
      "{'don': 11, 'know': 19, 'half': 14, 'of': 28, 'you': 40, 'as': 3, 'well': 36, 'should': 31, 'like': 25, 'don know': 12, 'know half': 20, 'half of': 17, 'of you': 29, 'you half': 42, 'half as': 15, 'as well': 6, 'well as': 37, 'as should': 4, 'should like': 32, 'don know half': 13, 'know half of': 21, 'half of you': 18, 'of you half': 30, 'you half as': 43, 'half as well': 16, 'as well as': 7, 'well as should': 38, 'as should like': 5, 'and': 0, 'less': 22, 'than': 33, 'deserve': 10, 'and like': 1, 'like less': 26, 'less than': 23, 'than half': 34, 'as you': 8, 'you deserve': 41, 'and like less': 2, 'like less than': 27, 'less than half': 24, 'than half of': 35, 'well as you': 39, 'as you deserve': 9}\n"
     ],
     "name": "stdout"
    }
   ]
  },
  {
   "cell_type": "markdown",
   "metadata": {
    "id": "UR_0Q2gbz8su"
   },
   "source": [
    "Let's try applying this approach to the movie review dataset."
   ]
  },
  {
   "cell_type": "code",
   "metadata": {
    "id": "NMDhokAQzyWB",
    "colab": {
     "base_uri": "https://localhost:8080/"
    },
    "outputId": "623e199c-369a-45d2-8a2f-06182a54ba5d"
   },
   "source": [
    "from sklearn.feature_extraction.text import TfidfVectorizer\n",
    "from sklearn.model_selection import cross_val_score\n",
    "from sklearn.linear_model import LogisticRegression\n",
    "\n",
    "vect = TfidfVectorizer(min_df=5, ngram_range=(1,3)) # Use unigrams, bigrams, and trigrams\n",
    "X_train_tfidf = vect.fit_transform(X_train)\n",
    "\n",
    "scores = cross_val_score(LogisticRegression(max_iter=1000), X_train_tfidf, y_train, cv=5) \n",
    "print(f\"Mean cross-validation accuracy: {scores.mean():.2f}\")"
   ],
   "execution_count": null,
   "outputs": [
    {
     "output_type": "stream",
     "text": [
      "Mean cross-validation accuracy: 0.87\n"
     ],
     "name": "stdout"
    }
   ]
  },
  {
   "cell_type": "markdown",
   "metadata": {
    "id": "mNPc6oZN0n-T"
   },
   "source": [
    "Again we can observe what the most significant features are."
   ]
  },
  {
   "cell_type": "code",
   "metadata": {
    "id": "Q8h4__rD0NZO",
    "colab": {
     "base_uri": "https://localhost:8080/",
     "height": 321
    },
    "outputId": "8b0e62a2-b63b-45df-ab88-180d4bd40a54"
   },
   "source": [
    "logreg = LogisticRegression(max_iter=1000).fit(X_train_tfidf, y_train)\n",
    "feature_names = np.array(vect.get_feature_names())\n",
    "mglearn.tools.visualize_coefficients(logreg.coef_, feature_names, n_top_features=40)"
   ],
   "execution_count": null,
   "outputs": [
    {
     "output_type": "display_data",
     "data": {
      "image/png": "[encoded data removed]",
      "text/plain": [
       "<Figure size 1080x360 with 1 Axes>"
      ]
     },
     "metadata": {
      "tags": [],
      "needs_background": "light"
     }
    }
   ]
  }
 ]
}