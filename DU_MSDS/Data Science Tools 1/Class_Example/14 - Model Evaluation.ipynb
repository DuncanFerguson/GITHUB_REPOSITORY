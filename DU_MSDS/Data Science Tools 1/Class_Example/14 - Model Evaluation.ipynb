{
 "cells": [
  {
   "cell_type": "markdown",
   "metadata": {
    "id": "bys2-F7q2pGS"
   },
   "source": [
    "# Model Evaluation\n",
    "## Data Science Tools I\n",
    "### Don Dalton | University of Denver\n",
    "\n",
    "\n",
    "---\n",
    "\n",
    "This notebook covers cross-validation and binary classification evaluation metrics.\n",
    "\n",
    "\n",
    "Main reference: [*Introduction to Machine Learning with Python: A Guide for Data Scientists* by Andres C. Müller and Sarah \n",
    "Guido](https://www.amazon.com/Introduction-Machine-Learning-Python-Scientists-ebook/dp/B01M0LNE8C)\n",
    "\n",
    "Link to book for free on O'Reilly: https://learning.oreilly.com/library/view/introduction-to-machine/9781449369880/"
   ]
  },
  {
   "cell_type": "code",
   "execution_count": 1,
   "metadata": {
    "executionInfo": {
     "elapsed": 1284,
     "status": "ok",
     "timestamp": 1614823986009,
     "user": {
      "displayName": "Terron Ishihara",
      "photoUrl": "https://lh3.googleusercontent.com/a-/AOh14Gi_V1-4JYC1SiOmkOV80wtuzyxk6ic6tMOCMUJ0sw=s64",
      "userId": "09713116719036350569"
     },
     "user_tz": 480
    },
    "id": "qY1_zuz42i86"
   },
   "outputs": [],
   "source": [
    "import numpy as np\n",
    "import pandas as pd\n",
    "import matplotlib.pyplot as plt\n",
    "import seaborn as sns"
   ]
  },
  {
   "cell_type": "code",
   "execution_count": 2,
   "metadata": {
    "colab": {
     "base_uri": "https://localhost:8080/"
    },
    "executionInfo": {
     "elapsed": 3135,
     "status": "ok",
     "timestamp": 1614824002923,
     "user": {
      "displayName": "Terron Ishihara",
      "photoUrl": "https://lh3.googleusercontent.com/a-/AOh14Gi_V1-4JYC1SiOmkOV80wtuzyxk6ic6tMOCMUJ0sw=s64",
      "userId": "09713116719036350569"
     },
     "user_tz": 480
    },
    "id": "B-LCbD0r2wnM",
    "outputId": "61f734d0-de1d-4933-da84-b1d4eedac65c"
   },
   "outputs": [
    {
     "name": "stdout",
     "output_type": "stream",
     "text": [
      "Requirement already satisfied: mglearn in /usr/local/lib/python3.7/dist-packages (0.1.9)\n",
      "Requirement already satisfied: matplotlib in /usr/local/lib/python3.7/dist-packages (from mglearn) (3.2.2)\n",
      "Requirement already satisfied: imageio in /usr/local/lib/python3.7/dist-packages (from mglearn) (2.4.1)\n",
      "Requirement already satisfied: scikit-learn in /usr/local/lib/python3.7/dist-packages (from mglearn) (0.22.2.post1)\n",
      "Requirement already satisfied: cycler in /usr/local/lib/python3.7/dist-packages (from mglearn) (0.10.0)\n",
      "Requirement already satisfied: pandas in /usr/local/lib/python3.7/dist-packages (from mglearn) (1.1.5)\n",
      "Requirement already satisfied: pillow in /usr/local/lib/python3.7/dist-packages (from mglearn) (7.0.0)\n",
      "Requirement already satisfied: numpy in /usr/local/lib/python3.7/dist-packages (from mglearn) (1.19.5)\n",
      "Requirement already satisfied: joblib in /usr/local/lib/python3.7/dist-packages (from mglearn) (1.0.1)\n",
      "Requirement already satisfied: pyparsing!=2.0.4,!=2.1.2,!=2.1.6,>=2.0.1 in /usr/local/lib/python3.7/dist-packages (from matplotlib->mglearn) (2.4.7)\n",
      "Requirement already satisfied: kiwisolver>=1.0.1 in /usr/local/lib/python3.7/dist-packages (from matplotlib->mglearn) (1.3.1)\n",
      "Requirement already satisfied: python-dateutil>=2.1 in /usr/local/lib/python3.7/dist-packages (from matplotlib->mglearn) (2.8.1)\n",
      "Requirement already satisfied: scipy>=0.17.0 in /usr/local/lib/python3.7/dist-packages (from scikit-learn->mglearn) (1.4.1)\n",
      "Requirement already satisfied: six in /usr/local/lib/python3.7/dist-packages (from cycler->mglearn) (1.15.0)\n",
      "Requirement already satisfied: pytz>=2017.2 in /usr/local/lib/python3.7/dist-packages (from pandas->mglearn) (2018.9)\n"
     ]
    }
   ],
   "source": [
    "#!pip install mglearn"
   ]
  },
  {
   "cell_type": "code",
   "execution_count": 2,
   "metadata": {
    "executionInfo": {
     "elapsed": 512,
     "status": "ok",
     "timestamp": 1614824005366,
     "user": {
      "displayName": "Terron Ishihara",
      "photoUrl": "https://lh3.googleusercontent.com/a-/AOh14Gi_V1-4JYC1SiOmkOV80wtuzyxk6ic6tMOCMUJ0sw=s64",
      "userId": "09713116719036350569"
     },
     "user_tz": 480
    },
    "id": "27hmuEhE255E"
   },
   "outputs": [],
   "source": [
    "import mglearn # Custom library made by textbook authors"
   ]
  },
  {
   "cell_type": "markdown",
   "metadata": {
    "id": "d2OTzvVg2_eR"
   },
   "source": [
    "# Machine Learning Outline\n",
    "\n",
    "When creating a machine learning model, there are typically a series of steps that you will always follow:\n",
    "\n",
    "1. Data Preparation\n",
    "2. Model Selection \n",
    "3. **Model Training**\n",
    "4. **Model Evaluation**\n",
    "5. Parameter Tuning\n",
    "6. Predictions\n",
    "\n",
    "We have covered data preparation in relative depth already, regarding data cleaning, wrangling, aggregation, etc. Model selection and parameter tuning require more background knowledge of how each model works, which is a major aspect of Data Science Tools II. We have seen model training and evaluation utilized, but this lecture will go more in depth on both topics. And of course, predictions are ultimately what every machine learning algorithm is designed to do.\n",
    "\n"
   ]
  },
  {
   "cell_type": "markdown",
   "metadata": {
    "id": "2lkRhIKd_ujO"
   },
   "source": [
    "# Generalization and Overfitting\n",
    "\n",
    "To evaluate our model, we have to make do with the data that we have. Splitting the data into a training set and testing set allows us to let the model learn its parameters (call `fit` in `sklearn`) and then test the results on data that we have \"confirmed\" or \"seen\". If the data in the testing set is similar to that of the training set, the model will do well. If not, our results will be poor.\n",
    "\n",
    "Another situation where we can get poor results even if the two sets contain similar data is when the model becomes too complex. This is an idea known as **overfitting**. The model becomes extremely good at predicting data in the training data, but does not **generalize** to data that it has not yet seen.\n",
    "\n",
    "Take this made-up dataset on customers who have or have not bought a boat, where predicting as such is the objective. "
   ]
  },
  {
   "cell_type": "code",
   "execution_count": 3,
   "metadata": {
    "colab": {
     "base_uri": "https://localhost:8080/",
     "height": 418
    },
    "executionInfo": {
     "elapsed": 587,
     "status": "ok",
     "timestamp": 1614824302487,
     "user": {
      "displayName": "Terron Ishihara",
      "photoUrl": "https://lh3.googleusercontent.com/a-/AOh14Gi_V1-4JYC1SiOmkOV80wtuzyxk6ic6tMOCMUJ0sw=s64",
      "userId": "09713116719036350569"
     },
     "user_tz": 480
    },
    "id": "uV3MTn6p28ph",
    "outputId": "31cd50b2-7712-4005-fffb-2dff8eb3d6a2"
   },
   "outputs": [
    {
     "data": {
      "text/html": [
       "<div>\n",
       "<style scoped>\n",
       "    .dataframe tbody tr th:only-of-type {\n",
       "        vertical-align: middle;\n",
       "    }\n",
       "\n",
       "    .dataframe tbody tr th {\n",
       "        vertical-align: top;\n",
       "    }\n",
       "\n",
       "    .dataframe thead th {\n",
       "        text-align: right;\n",
       "    }\n",
       "</style>\n",
       "<table border=\"1\" class=\"dataframe\">\n",
       "  <thead>\n",
       "    <tr style=\"text-align: right;\">\n",
       "      <th></th>\n",
       "      <th>age</th>\n",
       "      <th>num_cars_owned</th>\n",
       "      <th>owns_house</th>\n",
       "      <th>num_children</th>\n",
       "      <th>marital_status</th>\n",
       "      <th>owns_a_dog</th>\n",
       "      <th>bought_a_boat</th>\n",
       "    </tr>\n",
       "  </thead>\n",
       "  <tbody>\n",
       "    <tr>\n",
       "      <th>0</th>\n",
       "      <td>66</td>\n",
       "      <td>1</td>\n",
       "      <td>yes</td>\n",
       "      <td>2</td>\n",
       "      <td>widowed</td>\n",
       "      <td>no</td>\n",
       "      <td>yes</td>\n",
       "    </tr>\n",
       "    <tr>\n",
       "      <th>1</th>\n",
       "      <td>52</td>\n",
       "      <td>2</td>\n",
       "      <td>yes</td>\n",
       "      <td>3</td>\n",
       "      <td>married</td>\n",
       "      <td>no</td>\n",
       "      <td>yes</td>\n",
       "    </tr>\n",
       "    <tr>\n",
       "      <th>2</th>\n",
       "      <td>22</td>\n",
       "      <td>0</td>\n",
       "      <td>no</td>\n",
       "      <td>0</td>\n",
       "      <td>married</td>\n",
       "      <td>yes</td>\n",
       "      <td>no</td>\n",
       "    </tr>\n",
       "    <tr>\n",
       "      <th>3</th>\n",
       "      <td>25</td>\n",
       "      <td>1</td>\n",
       "      <td>no</td>\n",
       "      <td>1</td>\n",
       "      <td>single</td>\n",
       "      <td>no</td>\n",
       "      <td>no</td>\n",
       "    </tr>\n",
       "    <tr>\n",
       "      <th>4</th>\n",
       "      <td>44</td>\n",
       "      <td>0</td>\n",
       "      <td>no</td>\n",
       "      <td>2</td>\n",
       "      <td>divorced</td>\n",
       "      <td>yes</td>\n",
       "      <td>no</td>\n",
       "    </tr>\n",
       "    <tr>\n",
       "      <th>5</th>\n",
       "      <td>39</td>\n",
       "      <td>1</td>\n",
       "      <td>yes</td>\n",
       "      <td>2</td>\n",
       "      <td>married</td>\n",
       "      <td>yes</td>\n",
       "      <td>no</td>\n",
       "    </tr>\n",
       "    <tr>\n",
       "      <th>6</th>\n",
       "      <td>26</td>\n",
       "      <td>1</td>\n",
       "      <td>no</td>\n",
       "      <td>2</td>\n",
       "      <td>single</td>\n",
       "      <td>no</td>\n",
       "      <td>no</td>\n",
       "    </tr>\n",
       "    <tr>\n",
       "      <th>7</th>\n",
       "      <td>40</td>\n",
       "      <td>3</td>\n",
       "      <td>yes</td>\n",
       "      <td>1</td>\n",
       "      <td>married</td>\n",
       "      <td>yes</td>\n",
       "      <td>no</td>\n",
       "    </tr>\n",
       "    <tr>\n",
       "      <th>8</th>\n",
       "      <td>53</td>\n",
       "      <td>2</td>\n",
       "      <td>yes</td>\n",
       "      <td>2</td>\n",
       "      <td>divorced</td>\n",
       "      <td>no</td>\n",
       "      <td>yes</td>\n",
       "    </tr>\n",
       "    <tr>\n",
       "      <th>9</th>\n",
       "      <td>64</td>\n",
       "      <td>2</td>\n",
       "      <td>yes</td>\n",
       "      <td>3</td>\n",
       "      <td>divorced</td>\n",
       "      <td>no</td>\n",
       "      <td>no</td>\n",
       "    </tr>\n",
       "    <tr>\n",
       "      <th>10</th>\n",
       "      <td>58</td>\n",
       "      <td>2</td>\n",
       "      <td>yes</td>\n",
       "      <td>2</td>\n",
       "      <td>married</td>\n",
       "      <td>yes</td>\n",
       "      <td>yes</td>\n",
       "    </tr>\n",
       "    <tr>\n",
       "      <th>11</th>\n",
       "      <td>33</td>\n",
       "      <td>1</td>\n",
       "      <td>no</td>\n",
       "      <td>1</td>\n",
       "      <td>single</td>\n",
       "      <td>no</td>\n",
       "      <td>no</td>\n",
       "    </tr>\n",
       "  </tbody>\n",
       "</table>\n",
       "</div>"
      ],
      "text/plain": [
       "    age  num_cars_owned owns_house  num_children marital_status owns_a_dog  \\\n",
       "0    66               1        yes             2        widowed         no   \n",
       "1    52               2        yes             3        married         no   \n",
       "2    22               0         no             0        married        yes   \n",
       "3    25               1         no             1         single         no   \n",
       "4    44               0         no             2       divorced        yes   \n",
       "5    39               1        yes             2        married        yes   \n",
       "6    26               1         no             2         single         no   \n",
       "7    40               3        yes             1        married        yes   \n",
       "8    53               2        yes             2       divorced         no   \n",
       "9    64               2        yes             3       divorced         no   \n",
       "10   58               2        yes             2        married        yes   \n",
       "11   33               1         no             1         single         no   \n",
       "\n",
       "   bought_a_boat  \n",
       "0            yes  \n",
       "1            yes  \n",
       "2             no  \n",
       "3             no  \n",
       "4             no  \n",
       "5             no  \n",
       "6             no  \n",
       "7             no  \n",
       "8            yes  \n",
       "9             no  \n",
       "10           yes  \n",
       "11            no  "
      ]
     },
     "execution_count": 3,
     "metadata": {},
     "output_type": "execute_result"
    }
   ],
   "source": [
    "pd.DataFrame({\n",
    "    \"age\": [66, 52, 22, 25, 44, 39, 26, 40, 53, 64, 58, 33],\n",
    "    \"num_cars_owned\": [1, 2, 0, 1, 0, 1, 1, 3, 2, 2, 2, 1],\n",
    "    \"owns_house\": ['yes', 'yes', 'no', 'no', 'no', 'yes', 'no', 'yes', 'yes', 'yes', 'yes', 'no'],\n",
    "    \"num_children\": [2, 3, 0, 1, 2, 2, 2, 1, 2, 3, 2, 1],\n",
    "    \"marital_status\": ['widowed', 'married', 'married', 'single', 'divorced', 'married', 'single', 'married', 'divorced', 'divorced', 'married', 'single'],\n",
    "    \"owns_a_dog\": ['no', 'no', 'yes', 'no', 'yes', 'yes', 'no', 'yes', 'no', 'no', 'yes', 'no'],\n",
    "    \"bought_a_boat\": ['yes', 'yes', 'no', 'no', 'no', 'no', 'no', 'no', 'yes', 'no', 'yes', 'no']\n",
    "})"
   ]
  },
  {
   "cell_type": "markdown",
   "metadata": {
    "id": "Rc2S7GbuEPZ4"
   },
   "source": [
    "Just based on this dataset, we could come up with a rule such as:\n",
    "\n",
    "> If a customer is over 45 years old AND has less than 3 children OR is not divorced, then they will buy a boat.\n",
    "\n",
    "This is technically a model of the data, though far more rudimentary than what we have been discussing. Nonetheless, we could boast that this rule is 100% accurate on the given data, which is indeed true. By that reasoning, however, we could also say that if the customer is 66, 52, 53, or 58, they will buy a boat. While this works perfectly fine for data that our extremely simple model has seen, this clearly does not generalize to new, unseen data. This model is too fine-tuned to the specific data in this set, meaning it is **overfitted**.\n",
    "\n",
    "Naturally, a model that is too simple is called **underfitted**. For example, a rule like \"a customer over 40 year old will buy a boat\" may generalize to some extent to new data, but does not achieve good accuracy even on the training set.\n",
    "\n",
    "There is generally a sweet spot at some level of training that achieves good performance on the test set while having good accuracy on the training set. The plot (not on actual data) conveys the usual trend.\n",
    "\n",
    "![](https://drive.google.com/uc?id=1pXsgGMlXs9cOXZ9ZzfzqcxI3PaVfEBLq)"
   ]
  },
  {
   "cell_type": "markdown",
   "metadata": {
    "id": "NnKdD3uWJ23b"
   },
   "source": [
    "## Model Complexity vs Dataset Size\n",
    "\n",
    "The complexity of a model can increase with an increase in dataset size and variety without overfitting. For example, the first rule we had about a customer being over 45, having less than 3 children, or not being divorced is not a good rule when our dataset has just 12 samples. If instead we had 1000 samples, this rule could potentially be a reasonable model if accuracy on the training set is maintained.\n",
    "\n",
    "Needless to say, more data is always better. The larger the sample size, the closer an approximation we can make of the underlying population and therefore the better our models' predictions will be."
   ]
  },
  {
   "cell_type": "markdown",
   "metadata": {
    "id": "nY7PprpHKlr1"
   },
   "source": [
    "# Cross-Validation\n",
    "\n",
    "While the basic setup of partitioning the data into train and test, fitting the model to the training set, and evaluating on the testing set is a solid first step, we can do better. In particular, we should consider the possibility that the data within each set are imbalanced. If we are making classifications on the Iris dataset, for example, we could find that the training set contains only data points with 2 of the 3 species, and the testing set contains only the third one. Since our model only \"learns\" 2 species and not the one it is tested on, its score will be 0.\n",
    "\n",
    "Of course, `train_test_split` attempts to avoid this by randomizing the data before splitting. Still, there is a small chance that a situation like this could happen. A more robust way of evaluation a model is to use something called **cross-validation**.\n",
    "\n",
    "Basic cross-validation splits the data into $k$ partitions. $k$ iterations are then performed of leaving out 1 partition as the testing set, training the model on the other $k-1$ partitions, then evaluating."
   ]
  },
  {
   "cell_type": "code",
   "execution_count": 4,
   "metadata": {
    "colab": {
     "base_uri": "https://localhost:8080/",
     "height": 187
    },
    "executionInfo": {
     "elapsed": 712,
     "status": "ok",
     "timestamp": 1614824898979,
     "user": {
      "displayName": "Terron Ishihara",
      "photoUrl": "https://lh3.googleusercontent.com/a-/AOh14Gi_V1-4JYC1SiOmkOV80wtuzyxk6ic6tMOCMUJ0sw=s64",
      "userId": "09713116719036350569"
     },
     "user_tz": 480
    },
    "id": "rspgcZKvBb4E",
    "outputId": "eed43df2-fec6-4f36-af22-64d954eee5ba"
   },
   "outputs": [
    {
     "data": {
      "image/png": "[encoded data removed]",
      "text/plain": [
       "<Figure size 864x144 with 1 Axes>"
      ]
     },
     "metadata": {
      "needs_background": "light"
     },
     "output_type": "display_data"
    }
   ],
   "source": [
    "# Certain diagrams are conveniently provided by authors in mglearn\n",
    "mglearn.plots.plot_cross_validation()"
   ]
  },
  {
   "cell_type": "markdown",
   "metadata": {
    "id": "JEYQpXECMGOe"
   },
   "source": [
    "This is known as **k-fold cross-validation**. Commonly $k=5$ (`sklearn`'s default) or $k=10$ are used. The result of a k-fold cross-validation is a list of $k$ scores. Typically these scores are summarized by taking the mean."
   ]
  },
  {
   "cell_type": "code",
   "execution_count": 3,
   "metadata": {
    "colab": {
     "base_uri": "https://localhost:8080/"
    },
    "executionInfo": {
     "elapsed": 520,
     "status": "ok",
     "timestamp": 1614824994864,
     "user": {
      "displayName": "Terron Ishihara",
      "photoUrl": "https://lh3.googleusercontent.com/a-/AOh14Gi_V1-4JYC1SiOmkOV80wtuzyxk6ic6tMOCMUJ0sw=s64",
      "userId": "09713116719036350569"
     },
     "user_tz": 480
    },
    "id": "unzkM8rRL7ec",
    "outputId": "b4d77429-ac2c-4ea3-a00d-2e2ab45579db"
   },
   "outputs": [
    {
     "name": "stdout",
     "output_type": "stream",
     "text": [
      "Cross-validation scores: [0.93333333 0.96666667 0.93333333 0.93333333 1.        ]\n",
      "Cross-validation mean: 0.953\n"
     ]
    }
   ],
   "source": [
    "from sklearn.model_selection import cross_val_score \n",
    "from sklearn.datasets import load_iris\n",
    "from sklearn.naive_bayes import GaussianNB\n",
    "import numpy as np\n",
    "iris = load_iris()\n",
    "nb = GaussianNB()\n",
    "scores = cross_val_score(nb, iris.data, iris.target, cv=5) # 5 is the default for cv\n",
    "print(f\"Cross-validation scores: {scores}\")\n",
    "print(f\"Cross-validation mean: {np.mean(scores):.3f}\")"
   ]
  },
  {
   "cell_type": "markdown",
   "metadata": {
    "id": "bhzKD7PwdgL9"
   },
   "source": [
    "## Benefits of Cross-Validation\n",
    "\n",
    "The scores above range from about 93% to 100%. The fact that 100% is possible but not guaranteed is a good example of why using multiple folds gives you a better idea of the performance of your model. While a single run could predict 100% of labels correctly for some test set, just that one run is not enough to demonstrate that level of performance across all unseen data.\n",
    "\n",
    "Hence, evaluating the model on multiple partitions helps us avoid our chances of just luckily partitioning the data in a way that yields high accuracy. In fact, cross-validation ensures that **every sample in the dataset will be seen exactly once**. \n",
    "\n",
    "Moreover, we make even more use of our data. With a single `train_test_split`, by default we use 75% of the data for training and 25% for testing. An iteration of 5-fold CV uses 80% of data for training and similarly for 10-fold CV using 90%. Since we iterate across all folds, all data is at some point used for training so the model becomes more accurate."
   ]
  },
  {
   "cell_type": "markdown",
   "metadata": {
    "id": "kwNtaKApemhj"
   },
   "source": [
    "## Disadvantage of Standard k-Fold Cross-Validation\n",
    "\n",
    "As mentioned before, we could have a severe imbalance in the types of samples placed into each fold. Consider the Iris dataset's sequence of labels."
   ]
  },
  {
   "cell_type": "code",
   "execution_count": 6,
   "metadata": {
    "colab": {
     "base_uri": "https://localhost:8080/"
    },
    "executionInfo": {
     "elapsed": 554,
     "status": "ok",
     "timestamp": 1614825207099,
     "user": {
      "displayName": "Terron Ishihara",
      "photoUrl": "https://lh3.googleusercontent.com/a-/AOh14Gi_V1-4JYC1SiOmkOV80wtuzyxk6ic6tMOCMUJ0sw=s64",
      "userId": "09713116719036350569"
     },
     "user_tz": 480
    },
    "id": "EEAkNMrQMyPk",
    "outputId": "11a2ec94-d855-4da1-baf0-5d9e888eb3e1"
   },
   "outputs": [
    {
     "name": "stdout",
     "output_type": "stream",
     "text": [
      "Iris labels:\n",
      "[0 0 0 0 0 0 0 0 0 0 0 0 0 0 0 0 0 0 0 0 0 0 0 0 0 0 0 0 0 0 0 0 0 0 0 0 0\n",
      " 0 0 0 0 0 0 0 0 0 0 0 0 0 1 1 1 1 1 1 1 1 1 1 1 1 1 1 1 1 1 1 1 1 1 1 1 1\n",
      " 1 1 1 1 1 1 1 1 1 1 1 1 1 1 1 1 1 1 1 1 1 1 1 1 1 1 2 2 2 2 2 2 2 2 2 2 2\n",
      " 2 2 2 2 2 2 2 2 2 2 2 2 2 2 2 2 2 2 2 2 2 2 2 2 2 2 2 2 2 2 2 2 2 2 2 2 2\n",
      " 2 2]\n"
     ]
    }
   ],
   "source": [
    "from sklearn.datasets import load_iris\n",
    "iris = load_iris()\n",
    "print(\"Iris labels:\\n{}\".format(iris.target))"
   ]
  },
  {
   "cell_type": "markdown",
   "metadata": {
    "id": "CnlierFofTUP"
   },
   "source": [
    "If we happened to not shuffle the data before partitioning and took the first two-thirds as training and the last one-third as test, the model would never see the label `2` and completely fail in predicting the test set.\n",
    "\n",
    "k-fold cross-validation could still yield poor performance on a dataset like this for the same reason. More specifically, if we use a 3-fold cross-validation without shuffling, our scores will all be 0. To enforce this, we import the `KFold` class to give to the `cv` parameter instead of just specifying a number."
   ]
  },
  {
   "cell_type": "code",
   "execution_count": 7,
   "metadata": {
    "colab": {
     "base_uri": "https://localhost:8080/"
    },
    "executionInfo": {
     "elapsed": 505,
     "status": "ok",
     "timestamp": 1614825293481,
     "user": {
      "displayName": "Terron Ishihara",
      "photoUrl": "https://lh3.googleusercontent.com/a-/AOh14Gi_V1-4JYC1SiOmkOV80wtuzyxk6ic6tMOCMUJ0sw=s64",
      "userId": "09713116719036350569"
     },
     "user_tz": 480
    },
    "id": "hwz9q92betJW",
    "outputId": "95eb27a2-88f2-4558-c405-79c4e67838a2"
   },
   "outputs": [
    {
     "name": "stdout",
     "output_type": "stream",
     "text": [
      "Cross-validation scores: [0. 0. 0.]\n"
     ]
    }
   ],
   "source": [
    "from sklearn.model_selection import KFold\n",
    "\n",
    "kfold = KFold(n_splits=3)\n",
    "scores = cross_val_score(nb, iris.data, iris.target, cv=kfold)\n",
    "print(f\"Cross-validation scores: {scores}\")"
   ]
  },
  {
   "cell_type": "markdown",
   "metadata": {
    "id": "rOJpqzbCgkuw"
   },
   "source": [
    "A somewhat extreme way of still using k-fold cross-validation while avoiding this pitfall is to use **leave-one-out** cross-validation. That is, $n$, the size of our data, is given as the value of $k$. For 150 samples, 149 are used for training and the remaining 1 is used for testing."
   ]
  },
  {
   "cell_type": "code",
   "execution_count": 8,
   "metadata": {
    "id": "YC4AfnI2gRpW"
   },
   "outputs": [
    {
     "name": "stdout",
     "output_type": "stream",
     "text": [
      "Number of cv iterations: 150\n",
      "Mean accuracy: 0.95\n"
     ]
    }
   ],
   "source": [
    "from sklearn.model_selection import LeaveOneOut\n",
    "loo = LeaveOneOut()\n",
    "scores = cross_val_score(nb, iris.data, iris.target, cv=loo) \n",
    "print(f\"Number of cv iterations: {len(scores)}\")\n",
    "print(f\"Mean accuracy: {scores.mean():.2f}\")"
   ]
  },
  {
   "cell_type": "markdown",
   "metadata": {
    "id": "zDBe6Rd8hOuQ"
   },
   "source": [
    "## Stratified k-Fold Cross-Validation\n",
    "\n",
    "A more robust method for preventing an imbalance of data types in each set is **stratified k-fold cross-validation**. With this method, the overall percentage of each label is assessed across the entire dataset. In the case of the Iris dataset, each of the three labels takes up 33.3% of the dataset. Stratified k-fold cross-validation would therefore ensure that each fold contains the same proportion of 33.3-33.3-33.3 for the three labels within the fold. In doing so, every training set will contain some amount of every label so no label goes unseen.\n",
    "\n",
    "This is actually what `cross_val_score` executes by default. The type of cross-validation is set differently when `cv` is given some other method like `KFold` or `LeaveOneOut`."
   ]
  },
  {
   "cell_type": "code",
   "execution_count": 9,
   "metadata": {
    "colab": {
     "base_uri": "https://localhost:8080/",
     "height": 369
    },
    "executionInfo": {
     "elapsed": 931,
     "status": "ok",
     "timestamp": 1614825433273,
     "user": {
      "displayName": "Terron Ishihara",
      "photoUrl": "https://lh3.googleusercontent.com/a-/AOh14Gi_V1-4JYC1SiOmkOV80wtuzyxk6ic6tMOCMUJ0sw=s64",
      "userId": "09713116719036350569"
     },
     "user_tz": 480
    },
    "id": "4oKi22iDhFyH",
    "outputId": "9dddbb08-d8e8-4ffa-9388-eb4a3de1f9bf"
   },
   "outputs": [
    {
     "data": {
      "image/png": "[encoded data removed]",
      "text/plain": [
       "<Figure size 864x360 with 2 Axes>"
      ]
     },
     "metadata": {
      "needs_background": "light"
     },
     "output_type": "display_data"
    }
   ],
   "source": [
    "mglearn.plots.plot_stratified_cross_validation()"
   ]
  },
  {
   "cell_type": "markdown",
   "metadata": {
    "id": "oWo9dQoYilme"
   },
   "source": [
    "This concept of stratifying k-fold cross-validation only applies to a classification task since the prediction in that scenario is a label. For regression, a continuous value is given as output, so proportionality of labels does not come into play as part of evaluating the model. **Scikit-Learn uses standard k-fold cross-validation for regression models as a result.**"
   ]
  },
  {
   "cell_type": "markdown",
   "metadata": {
    "id": "BrO48oYPj11K"
   },
   "source": [
    "## Shuffle-Split Cross-Validation\n",
    "\n",
    "Another robust approach is **shuffle-split cross-validation**. This essentially takes the original setup of `train_test_split` where the data is shuffled before splitting into train and test and applies it multiple times. The diagram below illustrates 10 data points (not a realistic size for a data set) being randomly selected over 4 iterations such that the train set is size 5 and test set is size 2."
   ]
  },
  {
   "cell_type": "code",
   "execution_count": 10,
   "metadata": {
    "colab": {
     "base_uri": "https://localhost:8080/",
     "height": 153
    },
    "executionInfo": {
     "elapsed": 966,
     "status": "ok",
     "timestamp": 1614825695651,
     "user": {
      "displayName": "Terron Ishihara",
      "photoUrl": "https://lh3.googleusercontent.com/a-/AOh14Gi_V1-4JYC1SiOmkOV80wtuzyxk6ic6tMOCMUJ0sw=s64",
      "userId": "09713116719036350569"
     },
     "user_tz": 480
    },
    "id": "VVJqNHedifi5",
    "outputId": "47532baa-2925-447e-b2b7-7609c39bcc34"
   },
   "outputs": [
    {
     "data": {
      "image/png": "[encoded data removed]",
      "text/plain": [
       "<Figure size 720x144 with 1 Axes>"
      ]
     },
     "metadata": {
      "needs_background": "light"
     },
     "output_type": "display_data"
    }
   ],
   "source": [
    "mglearn.plots.plot_shuffle_split()"
   ]
  },
  {
   "cell_type": "markdown",
   "metadata": {
    "id": "-7ajUJOvkjTS"
   },
   "source": [
    "Shuffle-Split CV gives you a little more control since you can specify both the number of iterations and can provide independent sizes for train and test. The example below uses 90% of the data each iteration, with 50% going to train and 40% going to test."
   ]
  },
  {
   "cell_type": "code",
   "execution_count": 11,
   "metadata": {
    "colab": {
     "base_uri": "https://localhost:8080/"
    },
    "executionInfo": {
     "elapsed": 582,
     "status": "ok",
     "timestamp": 1614825818446,
     "user": {
      "displayName": "Terron Ishihara",
      "photoUrl": "https://lh3.googleusercontent.com/a-/AOh14Gi_V1-4JYC1SiOmkOV80wtuzyxk6ic6tMOCMUJ0sw=s64",
      "userId": "09713116719036350569"
     },
     "user_tz": 480
    },
    "id": "kC4cN1rBkQky",
    "outputId": "d8e38e95-14c8-4540-c2a3-5a71d649acf2"
   },
   "outputs": [
    {
     "name": "stdout",
     "output_type": "stream",
     "text": [
      "Cross-validation scores: [0.95       0.98333333 0.95       0.98333333 0.95       0.96666667\n",
      " 0.96666667 0.9        0.95       0.91666667]\n",
      "Cross-validation mean: 0.952\n"
     ]
    }
   ],
   "source": [
    "from sklearn.model_selection import ShuffleSplit\n",
    "\n",
    "shuffle_split = ShuffleSplit(train_size=.5, test_size=.4, n_splits=10)\n",
    "scores = cross_val_score(nb, iris.data, iris.target, cv=shuffle_split)\n",
    "print(f\"Cross-validation scores: {scores}\")\n",
    "print(f\"Cross-validation mean: {scores.mean():.3f}\")"
   ]
  },
  {
   "cell_type": "markdown",
   "metadata": {
    "id": "gENYr9FAlmhQ"
   },
   "source": [
    "Unsurprisingly, `StratifiedShuffleSplit` is also available."
   ]
  },
  {
   "cell_type": "markdown",
   "metadata": {
    "id": "SOj51cGvnTNI"
   },
   "source": [
    "## Group k-Fold Cross-Validation\n",
    "\n",
    "There are many scenarios where data points are not each from independent origins. For example, we could be trying to classify emotions on people's faces with features based on if a smile is detected, if their eyebrows are raised, etc. It is useful in this scenario to have the same person make multiple facial expressions and have each image as a sample. As a result of any of the types of cross-validation we have seen, however, the same person could end up being in both the training and testing sets (since stratification is based on emotion labels, not the person in the picture) despite our hopes of the testing set containing only people the model has not seen. \n",
    "\n",
    "Another example is medicine, where multiple observations are made about the same patient over time and we want our model to make predictions on other patients. Speech recognition applications could have multiple recordings from the same person. \n",
    "\n",
    "To simulate this idea, we generate a synthetic dataset with 12 data points, each of which we will assume to be in some group with label `0`, `1`, `2`, and `3`. The fact that we're using `make_blobs` has no relevance to the idea of group k-folds, only that it makes a random dataset."
   ]
  },
  {
   "cell_type": "code",
   "execution_count": 13,
   "metadata": {
    "colab": {
     "base_uri": "https://localhost:8080/"
    },
    "executionInfo": {
     "elapsed": 528,
     "status": "ok",
     "timestamp": 1614826104054,
     "user": {
      "displayName": "Terron Ishihara",
      "photoUrl": "https://lh3.googleusercontent.com/a-/AOh14Gi_V1-4JYC1SiOmkOV80wtuzyxk6ic6tMOCMUJ0sw=s64",
      "userId": "09713116719036350569"
     },
     "user_tz": 480
    },
    "id": "RWDPudSkk2fV",
    "outputId": "7ebde612-75dd-49d0-8d99-62650987decd"
   },
   "outputs": [
    {
     "name": "stdout",
     "output_type": "stream",
     "text": [
      "Cross-validation scores: [0.5        0.4        0.66666667]\n"
     ]
    }
   ],
   "source": [
    "from sklearn.model_selection import GroupKFold\n",
    "from sklearn.datasets import make_blobs\n",
    "\n",
    "X, y = make_blobs(n_samples=12, random_state=0)\n",
    "groups = [0, 0, 0, 1, 1, 1, 1, 2, 2, 3, 3, 3]\n",
    "scores = cross_val_score(nb, X, y, groups = groups, cv=GroupKFold(n_splits=3))\n",
    "print(f\"Cross-validation scores: {scores}\")"
   ]
  },
  {
   "cell_type": "markdown",
   "metadata": {
    "id": "vf1aLYj5qfmL"
   },
   "source": [
    "With the groups specified as a parameter for `cross_val_score` and a corresponding `GroupKFold` method with 3 splits provided, each group is forced to be either entirely in the training set or entirely in the testing set for each split. This is visualized below."
   ]
  },
  {
   "cell_type": "code",
   "execution_count": 14,
   "metadata": {
    "colab": {
     "base_uri": "https://localhost:8080/",
     "height": 153
    },
    "executionInfo": {
     "elapsed": 812,
     "status": "ok",
     "timestamp": 1614826116269,
     "user": {
      "displayName": "Terron Ishihara",
      "photoUrl": "https://lh3.googleusercontent.com/a-/AOh14Gi_V1-4JYC1SiOmkOV80wtuzyxk6ic6tMOCMUJ0sw=s64",
      "userId": "09713116719036350569"
     },
     "user_tz": 480
    },
    "id": "sB8YP8VRpnpk",
    "outputId": "6d37d87a-7a83-4732-bbc2-5b7bffcd16f1"
   },
   "outputs": [
    {
     "data": {
      "image/png": "[encoded data removed]",
      "text/plain": [
       "<Figure size 720x144 with 1 Axes>"
      ]
     },
     "metadata": {
      "needs_background": "light"
     },
     "output_type": "display_data"
    }
   ],
   "source": [
    "mglearn.plots.plot_group_kfold()"
   ]
  },
  {
   "cell_type": "markdown",
   "metadata": {
    "id": "IuojUTX7qz4N"
   },
   "source": [
    "# Evaluation Metrics\n",
    "\n",
    "Thus far, we have been using accuracy as the main metric for classification and $R^2$ as the metric for regression. These, however, are not the only means of evaluating a model and in particular, classification problems are not always best assessed on accuracy alone. Although accuracy is intuitive and easy to explain, ultimately the best metric depends on the problem.\n"
   ]
  },
  {
   "cell_type": "markdown",
   "metadata": {
    "id": "BoYqd7N97DCb"
   },
   "source": [
    "## Binary Classification\n",
    "\n",
    "A common and simple example of this is binary classification, where each data point is classified as one of two possible labels. When we discussed hypothesis testing, we defined type I and type II errors, which are basically different names for **false positives** and **false negatives**. These apply to binary classification as well and the consequences of each can be anywhere from trivial to enormous depending on the task.\n",
    "\n",
    "For example, suppose we are programming a \"smart\" fire alarm that uses machine learning to detect fires. A false positive would be the case where the alarm goes off but there is no fire. This is an inconvenience and perhaps an annoyance to the owner, but ultimately it is of little consequence so long as it doesn't happen too often and the owner asks for a refund. A false negative, on the other hand, would be when the alarm does not go off but there is a fire. This has drastic, possibly deadly consequences and must be avoided at all costs."
   ]
  },
  {
   "cell_type": "markdown",
   "metadata": {
    "id": "3MDvpI4m8YXl"
   },
   "source": [
    "### Imbalanced Datasets\n",
    "\n",
    "To illustrate why these types of errors are distinct from accuracy, consider the case where the data is significantly imbalanced: 90% of the data has one label, and 10% the other. If our model simply chooses the majority label for every prediction, we achieve 90% accuracy. This is an impressive result to the layperson or someone who does not investigate further, but clearly we are not actually \"learning\" anything here. We need some other means of distinguishing between a \"dummy\" model and an actual, potentially good model.\n",
    "\n",
    "Here we use the EMNIST handwritten digits dataset with a twist to illustrate this point. This dataset is commonly used a \"hello world\" program for basic machine learning, particularly deep learning, demos. Each data point is a black-and-white image of a digit with a corresponding label that is the true digit that was written (0 through 9). The nature of the data is not so important for this example since we're going to change it anyway.\n",
    "\n",
    "Instead of 10 different labels, we make 2 using boolean values indicating if a digit is `nine` or is `not_nine`."
   ]
  },
  {
   "cell_type": "code",
   "execution_count": 15,
   "metadata": {
    "executionInfo": {
     "elapsed": 525,
     "status": "ok",
     "timestamp": 1614827167287,
     "user": {
      "displayName": "Terron Ishihara",
      "photoUrl": "https://lh3.googleusercontent.com/a-/AOh14Gi_V1-4JYC1SiOmkOV80wtuzyxk6ic6tMOCMUJ0sw=s64",
      "userId": "09713116719036350569"
     },
     "user_tz": 480
    },
    "id": "lc9ndUvApwY1"
   },
   "outputs": [],
   "source": [
    "from sklearn.datasets import load_digits\n",
    "from sklearn.model_selection import train_test_split\n",
    "\n",
    "digits = load_digits()\n",
    "y = digits.target == 9 # Labels are now True and False, corresponding to the original label being 9 or not\n",
    "\n",
    "X_train, X_test, y_train, y_test = train_test_split(digits.data, y, random_state=0)"
   ]
  },
  {
   "cell_type": "markdown",
   "metadata": {
    "id": "jFA5jURN-IUm"
   },
   "source": [
    "`sklearn` provides a `DummyClassifier` that can be set to predict labels based on a trivial option. Here we set it to choose the majority label every time."
   ]
  },
  {
   "cell_type": "code",
   "execution_count": 16,
   "metadata": {
    "colab": {
     "base_uri": "https://localhost:8080/"
    },
    "executionInfo": {
     "elapsed": 557,
     "status": "ok",
     "timestamp": 1614827210759,
     "user": {
      "displayName": "Terron Ishihara",
      "photoUrl": "https://lh3.googleusercontent.com/a-/AOh14Gi_V1-4JYC1SiOmkOV80wtuzyxk6ic6tMOCMUJ0sw=s64",
      "userId": "09713116719036350569"
     },
     "user_tz": 480
    },
    "id": "zXxGyD71-GnP",
    "outputId": "96c478ec-98ac-4996-be62-b293a4e906c8"
   },
   "outputs": [
    {
     "name": "stdout",
     "output_type": "stream",
     "text": [
      "Unique predicted labels: [False]\n",
      "Test score: 0.90\n"
     ]
    }
   ],
   "source": [
    "from sklearn.dummy import DummyClassifier\n",
    "\n",
    "dummy_majority = DummyClassifier(strategy='most_frequent').fit(X_train, y_train)\n",
    "pred_most_frequent = dummy_majority.predict(X_test)\n",
    "print(f\"Unique predicted labels: {np.unique(pred_most_frequent)}\")\n",
    "print(f\"Test score: {dummy_majority.score(X_test, y_test):.2f}\")"
   ]
  },
  {
   "cell_type": "markdown",
   "metadata": {
    "id": "IFCN-bOX-gRe"
   },
   "source": [
    "Since 90% of labels are False because 9 out of the 10 digits are not the digit 9, the dummy classifier only predicts False but still achieves 90% accuracy.\n",
    "\n",
    "Let's try another classifier and see the results."
   ]
  },
  {
   "cell_type": "code",
   "execution_count": 17,
   "metadata": {
    "colab": {
     "base_uri": "https://localhost:8080/"
    },
    "executionInfo": {
     "elapsed": 784,
     "status": "ok",
     "timestamp": 1614827244146,
     "user": {
      "displayName": "Terron Ishihara",
      "photoUrl": "https://lh3.googleusercontent.com/a-/AOh14Gi_V1-4JYC1SiOmkOV80wtuzyxk6ic6tMOCMUJ0sw=s64",
      "userId": "09713116719036350569"
     },
     "user_tz": 480
    },
    "id": "6SZ1fXWc-eQb",
    "outputId": "6980aa20-a0e7-4371-8add-3d10d1b2596c"
   },
   "outputs": [
    {
     "name": "stdout",
     "output_type": "stream",
     "text": [
      "Test score: 0.98\n"
     ]
    },
    {
     "name": "stderr",
     "output_type": "stream",
     "text": [
      "C:\\Users\\donda\\Anaconda3\\lib\\site-packages\\sklearn\\linear_model\\_logistic.py:763: ConvergenceWarning: lbfgs failed to converge (status=1):\n",
      "STOP: TOTAL NO. of ITERATIONS REACHED LIMIT.\n",
      "\n",
      "Increase the number of iterations (max_iter) or scale the data as shown in:\n",
      "    https://scikit-learn.org/stable/modules/preprocessing.html\n",
      "Please also refer to the documentation for alternative solver options:\n",
      "    https://scikit-learn.org/stable/modules/linear_model.html#logistic-regression\n",
      "  n_iter_i = _check_optimize_result(\n"
     ]
    }
   ],
   "source": [
    "from sklearn.linear_model import LogisticRegression\n",
    "\n",
    "logreg = LogisticRegression(C=0.1).fit(X_train, y_train)\n",
    "pred_logreg = logreg.predict(X_test)\n",
    "print(f\"Test score: {logreg.score(X_test, y_test):.2f}\")"
   ]
  },
  {
   "cell_type": "markdown",
   "metadata": {},
   "source": [
    "Note how the sklearn gave a convergence warning.  They suggest to scale the data (mean zero, standard deviation one).  The end result is slightly different because the logistic regression actually converged."
   ]
  },
  {
   "cell_type": "code",
   "execution_count": 20,
   "metadata": {},
   "outputs": [
    {
     "name": "stdout",
     "output_type": "stream",
     "text": [
      "Test score: 0.97\n"
     ]
    }
   ],
   "source": [
    "from sklearn import preprocessing\n",
    "\n",
    "scaler = preprocessing.StandardScaler().fit(X_train)\n",
    "X_scaled = scaler.transform(X_train)\n",
    "scaler = preprocessing.StandardScaler().fit(X_test)\n",
    "X_testscaled = scaler.transform(X_test)\n",
    "logreg = LogisticRegression(C=0.1).fit(X_scaled, y_train)\n",
    "pred_logreg = logreg.predict(X_testscaled)\n",
    "print(f\"Test score: {logreg.score(X_testscaled, y_test):.2f}\")"
   ]
  },
  {
   "cell_type": "markdown",
   "metadata": {
    "id": "M1KmQu5y_ovR"
   },
   "source": [
    "### Confusion Matrices\n",
    "\n",
    "A more definitive means of evaluating a binary classification model is to use a confusion matrix. With only two labels available, one is considered the \"positive\" label and the other the \"negative\" label. In our simple example, `nine` is positive and `not_nine` is negative. A confusion matrix outlines the total number of true positives, false positives, true negatives, and false negatives made by a given model based on this categorization."
   ]
  },
  {
   "cell_type": "code",
   "execution_count": 17,
   "metadata": {
    "colab": {
     "base_uri": "https://localhost:8080/",
     "height": 270
    },
    "executionInfo": {
     "elapsed": 588,
     "status": "ok",
     "timestamp": 1614827312882,
     "user": {
      "displayName": "Terron Ishihara",
      "photoUrl": "https://lh3.googleusercontent.com/a-/AOh14Gi_V1-4JYC1SiOmkOV80wtuzyxk6ic6tMOCMUJ0sw=s64",
      "userId": "09713116719036350569"
     },
     "user_tz": 480
    },
    "id": "ZCrjvORG_a98",
    "outputId": "84237da9-6058-44da-ac4a-98ddb2c0147c"
   },
   "outputs": [
    {
     "data": {
      "image/png": "[encoded data removed]",
      "text/plain": [
       "<Figure size 432x288 with 1 Axes>"
      ]
     },
     "metadata": {
      "needs_background": "light",
      "tags": []
     },
     "output_type": "display_data"
    }
   ],
   "source": [
    "mglearn.plots.plot_binary_confusion_matrix()"
   ]
  },
  {
   "cell_type": "markdown",
   "metadata": {
    "id": "PCjukAVQAchg"
   },
   "source": [
    "Entries on the main diagonal correspond to correct classifications, while the other entries indicate each type of error. If we compute this for our models, we get the following."
   ]
  },
  {
   "cell_type": "code",
   "execution_count": 18,
   "metadata": {
    "colab": {
     "base_uri": "https://localhost:8080/"
    },
    "executionInfo": {
     "elapsed": 315,
     "status": "ok",
     "timestamp": 1614827405189,
     "user": {
      "displayName": "Terron Ishihara",
      "photoUrl": "https://lh3.googleusercontent.com/a-/AOh14Gi_V1-4JYC1SiOmkOV80wtuzyxk6ic6tMOCMUJ0sw=s64",
      "userId": "09713116719036350569"
     },
     "user_tz": 480
    },
    "id": "1F5cdLBPAXxj",
    "outputId": "60bc7b40-070d-4ef4-8629-e1c3396c64f9"
   },
   "outputs": [
    {
     "data": {
      "text/plain": [
       "array([[403,   0],\n",
       "       [ 47,   0]])"
      ]
     },
     "execution_count": 18,
     "metadata": {
      "tags": []
     },
     "output_type": "execute_result"
    }
   ],
   "source": [
    "from sklearn.metrics import confusion_matrix\n",
    "\n",
    "confusion_matrix(y_test, pred_most_frequent) # Dummy"
   ]
  },
  {
   "cell_type": "code",
   "execution_count": 19,
   "metadata": {
    "colab": {
     "base_uri": "https://localhost:8080/"
    },
    "executionInfo": {
     "elapsed": 549,
     "status": "ok",
     "timestamp": 1614827407723,
     "user": {
      "displayName": "Terron Ishihara",
      "photoUrl": "https://lh3.googleusercontent.com/a-/AOh14Gi_V1-4JYC1SiOmkOV80wtuzyxk6ic6tMOCMUJ0sw=s64",
      "userId": "09713116719036350569"
     },
     "user_tz": 480
    },
    "id": "RNiM4wffAmcB",
    "outputId": "6da87924-dfad-43e4-9893-10a07da09595"
   },
   "outputs": [
    {
     "data": {
      "text/plain": [
       "array([[402,   1],\n",
       "       [  6,  41]])"
      ]
     },
     "execution_count": 19,
     "metadata": {
      "tags": []
     },
     "output_type": "execute_result"
    }
   ],
   "source": [
    "confusion_matrix(y_test, pred_logreg) # Logistic Regression"
   ]
  },
  {
   "cell_type": "markdown",
   "metadata": {
    "id": "5O931i8uXMB2"
   },
   "source": [
    "Since the dummy classifier only chooses the negative label, only true negatives and false negatives appear in the confusion matrix. Clearly there is something wrong here. Meanwhile, the logistic regression classifier's confusion matrix shows the majority of predictions are true positives and true negatives, while false positives and false negatives are minimal. Ideally, the off diagonal would contain 0's, but this illustrates why the logistic regression model's accuracy is so high and not just in a trivial manner.\n",
    "\n",
    "Accuracy can be extracted from a confusion matrix via the following ratio:\n",
    "$$\n",
    "\\text{Accuracy} = \\frac{\\text{TP+TN}}{\\text{TP+FP+TN+FN}}\n",
    "$$"
   ]
  },
  {
   "cell_type": "markdown",
   "metadata": {
    "id": "eTTyiflHaBXb"
   },
   "source": [
    "### Precision, Recall, and F1\n",
    "\n",
    "There are other means of combining these values to produce a summarized number that evaluates our model. Accuracy simply tells us the proportion of labels we predicted correctly, but this is not always what is most important. For example, suppose our task is predicting if a new drug will be effective in treating a disease. Clinical trials are often expensive, so the pharmaceutical company will only want to run experiments if they are fairly certain the drug will work. As such, the model should not produce many false positives. This is best measured by **precision** (also called positive predictive value).\n",
    "\n",
    "$$\n",
    "\\text{Precision} = \\frac{\\text{TP}}{\\text{TP+FP}}\n",
    "$$"
   ]
  },
  {
   "cell_type": "markdown",
   "metadata": {
    "id": "bE_61-chimTo"
   },
   "source": [
    "While precision is used when we don't want many false positives, we can use recall when we don't want many false negatives. A good example of this would be cancer diagnosis - telling a patient they don't have cancer when they actually do would be disasterous. Also called sensitivity, hit rate, and true positive rate, recall is defined as\n",
    "$$\n",
    "\\text{Recall} = \\frac{\\text{TP}}{\\text{TP+FN}}\n",
    "$$"
   ]
  },
  {
   "cell_type": "markdown",
   "metadata": {
    "id": "JhHUmN-Rim_s"
   },
   "source": [
    "Naturally, precision and recall overlap since there is only one term different between the two. Much like how we can trivially achieve high accuracy, we can also trivially achieve perfect recall by predicting only the positive label (TP will be maximized and FN will be 0). However, precision will be very low as a result because there will be many false positives.\n",
    "\n",
    "Since neither precision nor recall provide the full picture, combination of the two called f-score or f-measure, which is the harmonic mean of precision and recall:\n",
    "$$\n",
    "\\text{F} = 2 \\cdot \\frac{\\text{precision}\\cdot\\text{recall}}{\\text{precision}+\\text{recall}}\n",
    "$$\n",
    "\n",
    "This particular f-score is called the **f1-score**."
   ]
  },
  {
   "cell_type": "code",
   "execution_count": 18,
   "metadata": {
    "colab": {
     "base_uri": "https://localhost:8080/"
    },
    "executionInfo": {
     "elapsed": 523,
     "status": "ok",
     "timestamp": 1614827910165,
     "user": {
      "displayName": "Terron Ishihara",
      "photoUrl": "https://lh3.googleusercontent.com/a-/AOh14Gi_V1-4JYC1SiOmkOV80wtuzyxk6ic6tMOCMUJ0sw=s64",
      "userId": "09713116719036350569"
     },
     "user_tz": 480
    },
    "id": "0L4jjzq5Ao7Q",
    "outputId": "0ba36219-e633-4009-f549-725a211a5552"
   },
   "outputs": [
    {
     "name": "stdout",
     "output_type": "stream",
     "text": [
      "Precision: 0.9761904761904762\n",
      "Recall: 0.8723404255319149\n",
      "F1: 0.9213483146067415\n"
     ]
    }
   ],
   "source": [
    "from sklearn.metrics import precision_score, recall_score, f1_score\n",
    "\n",
    "print(f\"Precision: {precision_score(y_test, pred_logreg)}\")\n",
    "print(f\"Recall: {recall_score(y_test, pred_logreg)}\")\n",
    "print(f\"F1: {f1_score(y_test, pred_logreg)}\")"
   ]
  },
  {
   "cell_type": "markdown",
   "metadata": {
    "id": "iGUE65o9kWEe"
   },
   "source": [
    "The `classification_report` method produces a table with this information and more, and does so when viewing each label as the positive label."
   ]
  },
  {
   "cell_type": "code",
   "execution_count": 19,
   "metadata": {
    "colab": {
     "base_uri": "https://localhost:8080/"
    },
    "executionInfo": {
     "elapsed": 552,
     "status": "ok",
     "timestamp": 1614827966861,
     "user": {
      "displayName": "Terron Ishihara",
      "photoUrl": "https://lh3.googleusercontent.com/a-/AOh14Gi_V1-4JYC1SiOmkOV80wtuzyxk6ic6tMOCMUJ0sw=s64",
      "userId": "09713116719036350569"
     },
     "user_tz": 480
    },
    "id": "dGMRMsUImKkC",
    "outputId": "cf156d3a-e2c4-4ed7-cd4b-f6967a36451b"
   },
   "outputs": [
    {
     "name": "stdout",
     "output_type": "stream",
     "text": [
      "              precision    recall  f1-score   support\n",
      "\n",
      "    not nine       0.99      1.00      0.99       403\n",
      "        nine       0.98      0.87      0.92        47\n",
      "\n",
      "    accuracy                           0.98       450\n",
      "   macro avg       0.98      0.93      0.96       450\n",
      "weighted avg       0.98      0.98      0.98       450\n",
      "\n"
     ]
    }
   ],
   "source": [
    "from sklearn.metrics import classification_report\n",
    "\n",
    "print(classification_report(y_test, pred_logreg, target_names=[\"not nine\", \"nine\"]))"
   ]
  },
  {
   "cell_type": "markdown",
   "metadata": {
    "id": "gWuPbSQ0i2-x"
   },
   "source": [
    "More information on scores like precision, recall, and F1 can be found on [this Wikipedia page](https://en.wikipedia.org/wiki/Sensitivity_and_specificity)."
   ]
  }
 ],
 "metadata": {
  "colab": {
   "authorship_tag": "ABX9TyOl/JXw3Cfmt8ArMFxlPBFk",
   "collapsed_sections": [],
   "name": "14 - Model Evaluation.ipynb",
   "provenance": [],
   "toc_visible": true
  },
  "kernelspec": {
   "display_name": "Python 3 (ipykernel)",
   "language": "python",
   "name": "python3"
  },
  "language_info": {
   "codemirror_mode": {
    "name": "ipython",
    "version": 3
   },
   "file_extension": ".py",
   "mimetype": "text/x-python",
   "name": "python",
   "nbconvert_exporter": "python",
   "pygments_lexer": "ipython3",
   "version": "3.8.8"
  }
 },
 "nbformat": 4,
 "nbformat_minor": 1
}
