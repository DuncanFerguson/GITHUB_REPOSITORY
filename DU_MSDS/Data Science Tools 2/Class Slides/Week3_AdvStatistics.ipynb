{
 "cells": [
  {
   "cell_type": "markdown",
   "metadata": {},
   "source": [
    "# Advanced Statistics with Python \n",
    "\n",
    "## We will cover 4 major topics :\n",
    "\n",
    "- One-Sample Hypothesis Test\n",
    "- Two-Sample Independent Hypothesis T-Test\n",
    "- One-Way Analysis of Variance\n",
    "- Chi-Squared Test of Independence"
   ]
  },
  {
   "cell_type": "markdown",
   "metadata": {},
   "source": [
    "#### Hypothesis testing\n",
    "\n",
    "A hypothesis is simply put an educated guess about something. You should be able to test it, either by experiment or observation. \n",
    "\n",
    "Hypothesis testing is simply a way for you to test your results of an experiment to verify if you have meaningful results.\n",
    "\n",
    "These hypothesis are usually in the form : If I change, i.e. increase/decrease, this independent variable then the dependent variable will change, i.e. increase/decrease.\n",
    "\n",
    "You hypothesis should include :\n",
    "\n",
    "- if/then statement\n",
    "- Specify both the independent and dependent variables\n",
    "- Be testable by experiment, survey or other scientifically sound technique.\n",
    "- Should have some design criteria\n",
    "\n",
    "When formulating your hypothesis you also have to specify what the null hypothesis is.... which essentially states what happens if your hypothesis is wrong. Meaning that nothing happens.\n"
   ]
  },
  {
   "cell_type": "markdown",
   "metadata": {},
   "source": [
    "### Blueprint for conducting hypothesis testing is :\n",
    "\n",
    "- Collect data in such a way that you have a random sample, this is so that it is representative of the population you're studying\n",
    "\n",
    "- Formulate your hypothesis\n",
    "\n",
    "- Figure out the distribution your population follows (more on this later)\n",
    "\n",
    "    - based on said distribution figure out what type of test to use, i.e. parametric/non-parametric, one or two tailed\n",
    "    \n",
    "- Pick the appropriate test to verify hypothesis\n",
    "\n",
    "- Find the critical value, this is based on the alpha value (more on this later)\n",
    "\n",
    "- Run statistical test. Based on result, accept/reject the null hypothesis using the p-value and test statistic.\n",
    "\n",
    "\n",
    "\n",
    "\n",
    "\n",
    "\n",
    "\n",
    "\n",
    "\n",
    "\n",
    "\n",
    "\n",
    "\n",
    "\n",
    "\n",
    "\n"
   ]
  },
  {
   "cell_type": "markdown",
   "metadata": {},
   "source": [
    "A quick glance at some of the distributions out there :\n",
    "\n",
    "- Beta Distribution.\n",
    "- Exponential Distribution.\n",
    "- Gamma Distribution.\n",
    "- Inverse Gamma Distribution.\n",
    "- Log Normal Distribution.\n",
    "- Logistic Distribution.\n",
    "- Maxwell-Boltzmann Distribution.\n",
    "- Poisson Distribution.\n",
    "- Skewed Distribution.\n",
    "- Symmetric Distribution.\n",
    "- Uniform Distribution.\n",
    "- Unimodal Distribution.\n",
    "- Weibull Distribution.\n",
    "\n",
    "[Here](http://people.stern.nyu.edu/adamodar/New_Home_Page/StatFile/statdistns.htm) is a neat website that does a pretty good job at explaining some of these distributions."
   ]
  },
  {
   "cell_type": "markdown",
   "metadata": {},
   "source": [
    "### One-Sample Hypothesis Test\n",
    "\n",
    "- One tailed : right-tailed or left-tailed\n",
    "- Two tailed, aka inequality"
   ]
  },
  {
   "cell_type": "markdown",
   "metadata": {},
   "source": [
    "### Z-test : this is a test that is used to validate a hypothesis that the sample drawn belongs to the same population\n",
    "\n",
    "Requires : \n",
    "- sample to be normally distributed\n",
    "- population mean\n",
    "- population standard deviation\n",
    "- sample size greater than 30\n",
    "\n",
    "Null hypothesis : Sample mean is the same as the population mean\n",
    "\n",
    "Alternative : Sample mean is lower, higher or not the same\n",
    "\n",
    "\n",
    "\n"
   ]
  },
  {
   "cell_type": "code",
   "execution_count": 17,
   "metadata": {},
   "outputs": [
    {
     "name": "stdout",
     "output_type": "stream",
     "text": [
      "z-score 1.4040093635408895\n",
      "p-value 0.16031606130705378\n",
      "128.8172857142857\n",
      "accept null hypothesis\n"
     ]
    }
   ],
   "source": [
    "import pandas as pd\n",
    "# from scipy import stats\n",
    "from statsmodels.stats import weightstats as stests\n",
    "\n",
    "#This comes from a Kaggle data set\n",
    "df = pd.read_csv(\"cardio_train.csv\", sep=';')\n",
    "\n",
    "# df.head()\n",
    "\n",
    "ztest ,pval = stests.ztest(df['ap_hi'], x2=None, value=128)\n",
    "\n",
    "print(\"z-score\",ztest)\n",
    "print(\"p-value\", float(pval))\n",
    "\n",
    "if pval<0.05:\n",
    "    print(\"reject null hypothesis\")\n",
    "else:\n",
    "    print(\"accept null hypothesis\")"
   ]
  },
  {
   "cell_type": "code",
   "execution_count": 1,
   "metadata": {},
   "outputs": [
    {
     "name": "stderr",
     "output_type": "stream",
     "text": [
      "/Library/Frameworks/Python.framework/Versions/3.7/lib/python3.7/site-packages/statsmodels/tools/_testing.py:19: FutureWarning: pandas.util.testing is deprecated. Use the functions in the public API at pandas.testing instead.\n",
      "  import pandas.util.testing as tm\n"
     ]
    }
   ],
   "source": [
    "import pandas as pd\n",
    "# from scipy import stats\n",
    "from statsmodels.stats import weightstats as stests\n",
    "\n",
    "\n",
    "stests.ztest?"
   ]
  },
  {
   "cell_type": "markdown",
   "metadata": {},
   "source": [
    "### T-test : this test is used to compare the mean of 2 given samples when the population parameters are, like mean and standard deviation, are not known.\n",
    "\n",
    "Requires :\n",
    "- normal distribution of the sample \n",
    "- independance of samples\n",
    "- homogeneity of variance\n",
    "\n",
    "Null hypothesis : means are the same\n",
    "\n",
    "Alternative : Sample mean is lower, higher or not the same\n",
    "\n",
    "3 versions are available :\n",
    "- One sample t-test : compares the mean of the single group against a know mean\n",
    "- Independent samples t-test : compares the mean for 2 distinct groups\n",
    "- Paired samples t-test : compares the mean from the same group at different times\n",
    "\n",
    "What does the t-score mean ?"
   ]
  },
  {
   "cell_type": "markdown",
   "metadata": {},
   "source": [
    "#### Two-Sample Independent Hypothesis T-Test"
   ]
  },
  {
   "cell_type": "markdown",
   "metadata": {},
   "source": [
    "#### Let's see if the number of miles ran by Boulderites is greater than Denverites"
   ]
  },
  {
   "cell_type": "code",
   "execution_count": 18,
   "metadata": {},
   "outputs": [],
   "source": [
    "#Independent samples t-test\n",
    "from statsmodels.stats.weightstats import ttest_ind\n",
    "import numpy as np"
   ]
  },
  {
   "cell_type": "markdown",
   "metadata": {},
   "source": [
    "Let's use the Statsmodels package"
   ]
  },
  {
   "cell_type": "code",
   "execution_count": 19,
   "metadata": {},
   "outputs": [],
   "source": [
    "#Random sampling from a group of Boulderites\n",
    "b_miles = np.random.normal(12.5, 2.6, 1000)\n",
    "\n",
    "#Random sampling from a group of Denverites \n",
    "d_miles = np.random.normal(10.7, 2.1, 1000)"
   ]
  },
  {
   "cell_type": "code",
   "execution_count": 20,
   "metadata": {},
   "outputs": [
    {
     "data": {
      "text/plain": [
       "(17.093635031597223, 3.0200646889491784e-61, 1998.0)"
      ]
     },
     "execution_count": 20,
     "metadata": {},
     "output_type": "execute_result"
    }
   ],
   "source": [
    "#Perform the test :\n",
    "ttest_stats = ttest_ind(b_miles, d_miles)\n",
    "ttest_stats"
   ]
  },
  {
   "cell_type": "code",
   "execution_count": 2,
   "metadata": {},
   "outputs": [],
   "source": [
    "from statsmodels.stats.weightstats import ttest_ind\n",
    "ttest_ind?"
   ]
  },
  {
   "cell_type": "markdown",
   "metadata": {},
   "source": [
    "Now using Scipy instead"
   ]
  },
  {
   "cell_type": "code",
   "execution_count": 21,
   "metadata": {},
   "outputs": [
    {
     "data": {
      "text/plain": [
       "Ttest_indResult(statistic=17.09363503159724, pvalue=3.0200646889483175e-61)"
      ]
     },
     "execution_count": 21,
     "metadata": {},
     "output_type": "execute_result"
    }
   ],
   "source": [
    "from scipy.stats import ttest_ind\n",
    "\n",
    "ttest_sp = ttest_ind(b_miles, d_miles)\n",
    "ttest_sp"
   ]
  },
  {
   "cell_type": "code",
   "execution_count": 22,
   "metadata": {},
   "outputs": [
    {
     "data": {
      "text/plain": [
       "Ttest_relResult(statistic=16.677143571064153, pvalue=2.8217239987865275e-55)"
      ]
     },
     "execution_count": 22,
     "metadata": {},
     "output_type": "execute_result"
    }
   ],
   "source": [
    "#Dependent samples t-test\n",
    "# from scipy.stats import ttest_rel\n",
    "\n",
    "# ttest_pair = ttest_rel(b_miles, d_miles)\n",
    "# ttest_pair"
   ]
  },
  {
   "cell_type": "markdown",
   "metadata": {},
   "source": [
    "### ANOVA (ANalaysis Of VAriance) : this is an extension of the t-test which allows you to compare multiple (3 or more) samples with a single test. This test looks for variation within groups and between groups.\n",
    "\n",
    "Requires :\n",
    "- data must be close to normal distribution\n",
    "- samples must be independent\n",
    "- sample variances must be equal\n",
    "- similar sample sizes\n",
    "\n",
    "2 versions :\n",
    "- One way ANOVA : this is used to compare the difference between the 3 or more samples/groups of a single independent variable\n",
    "- Two way ANOVA : is an extension of the one-way ANOVA, which allows you to see the impact of two independent variables\n",
    "\n",
    "Null : All pairs of samples are the same, i.e. all sample means are equal\n",
    "\n",
    "Alternative : At least one pair of samples is significantly different\n",
    "\n",
    "\n",
    "The following examples comes from [here](https://docs.scipy.org/doc/scipy/reference/generated/scipy.stats.f_oneway.html)"
   ]
  },
  {
   "cell_type": "code",
   "execution_count": 23,
   "metadata": {},
   "outputs": [
    {
     "data": {
      "text/plain": [
       "F_onewayResult(statistic=7.121019471642447, pvalue=0.0002812242314534544)"
      ]
     },
     "execution_count": 23,
     "metadata": {},
     "output_type": "execute_result"
    }
   ],
   "source": [
    "import scipy.stats as stats\n",
    "\n",
    "'''Here are some data on a shell measurement (the length of the anterior adductor muscle scar, standardized by \n",
    "dividing by length) in the mussel Mytilus trossulus from five locations: \n",
    "-Tillamook, Oregon\n",
    "-Newport, Oregon\n",
    "-Petersburg, Alaska \n",
    "-Magadan, Russia\n",
    "-Tvarminne, Finland \n",
    "taken from a much larger data set used in McDonald et al. (1991).\n",
    "\n",
    "Used for identifying empty shells to determine their correct taxonomic placement\n",
    "'''\n",
    "    \n",
    "tillamook = [0.0571, 0.0813, 0.0831, 0.0976, 0.0817, 0.0859, 0.0735,\n",
    "              0.0659, 0.0923, 0.0836]\n",
    "\n",
    "newport = [0.0873, 0.0662, 0.0672, 0.0819, 0.0749, 0.0649, 0.0835,\n",
    "            0.0725]\n",
    "\n",
    "petersburg = [0.0974, 0.1352, 0.0817, 0.1016, 0.0968, 0.1064, 0.105]\n",
    "\n",
    "magadan = [0.1033, 0.0915, 0.0781, 0.0685, 0.0677, 0.0697, 0.0764,\n",
    "            0.0689]\n",
    "\n",
    "tvarminne = [0.0703, 0.1026, 0.0956, 0.0973, 0.1039, 0.1045]\n",
    "\n",
    "\n",
    "stats.f_oneway(tillamook, newport, petersburg, magadan, tvarminne)\n",
    "\n",
    "#The results tell us that the shell measurement is statistically different. "
   ]
  },
  {
   "cell_type": "code",
   "execution_count": 4,
   "metadata": {},
   "outputs": [],
   "source": [
    "import scipy.stats as stats\n",
    "\n",
    "stats.f_oneway?"
   ]
  },
  {
   "cell_type": "markdown",
   "metadata": {},
   "source": [
    "### Chi-square test : this is used to verify independance of categorical variables\n",
    "\n",
    "Requires :\n",
    "- independent samples\n",
    "- variables to be categorical\n",
    "\n",
    "2 versions :\n",
    "- Goodness of fit test, which determines if a sample matches the population\n",
    "- Chi-squared fit test for 2 independent variables is used to compare variables in a contingency table to check if the data fits.\n",
    "\n",
    "Null : Variable A and variable B are independent.\n",
    "\n",
    "A small(high) chi-square value means that the data fits, i.e. there is (not) a relationship. This is a real number that tells you how much difference exists between your observed count and the count you would expect if there were no relationship at all in the population.\n",
    "\n",
    "To perform a chi-squared test and get a p-value you need :\n",
    "- degrees of freedom - 1\n",
    "- alpha level, this is chosen by the user. Usually 0.05 is used."
   ]
  },
  {
   "cell_type": "markdown",
   "metadata": {},
   "source": [
    "Let's take a look at a chi-square test using die"
   ]
  },
  {
   "cell_type": "code",
   "execution_count": null,
   "metadata": {},
   "outputs": [],
   "source": [
    "from scipy import stats\n",
    "import numpy as np"
   ]
  },
  {
   "cell_type": "code",
   "execution_count": 25,
   "metadata": {},
   "outputs": [
    {
     "name": "stdout",
     "output_type": "stream",
     "text": [
      "===Chi2 Stat===\n",
      "14.356104530652805\n",
      "\n",
      "\n",
      "===Degrees of Freedom===\n",
      "20\n",
      "\n",
      "\n",
      "===P-Value===\n",
      "0.8119914228939127\n",
      "\n",
      "\n",
      "===Contingency Table===\n",
      "[[826.6 812.  838.2 840.6 832.6 850. ]\n",
      " [826.6 812.  838.2 840.6 832.6 850. ]\n",
      " [826.6 812.  838.2 840.6 832.6 850. ]\n",
      " [826.6 812.  838.2 840.6 832.6 850. ]\n",
      " [826.6 812.  838.2 840.6 832.6 850. ]]\n"
     ]
    }
   ],
   "source": [
    "#Generate random die rolls\n",
    "r1 = np.random.randint(1,7,5000)\n",
    "r2 = np.random.randint(1,7,5000)\n",
    "r3 = np.random.randint(1,7,5000)\n",
    "r4 = np.random.randint(1,7,5000)\n",
    "r5 = np.random.randint(1,7,5000)\n",
    "\n",
    "\n",
    "#Calculate the counts for each face of the die\n",
    "unique, counts1 = np.unique(r1, return_counts=True)\n",
    "unique, counts2 = np.unique(r2, return_counts=True)\n",
    "unique, counts3 = np.unique(r3, return_counts=True)\n",
    "unique, counts4 = np.unique(r4, return_counts=True)\n",
    "unique, counts5 = np.unique(r5, return_counts=True)\n",
    "\n",
    "#Combine the results\n",
    "die_rolls = np.array([counts1, counts2, counts3, counts4, counts5])\n",
    "\n",
    "#Running the test\n",
    "chi2_stat, p_val, dof, ex = stats.chi2_contingency(die_rolls)\n",
    "\n",
    "#Print out the results\n",
    "print(\"===Chi2 Stat===\")\n",
    "print(chi2_stat)\n",
    "print(\"\\n\")\n",
    "\n",
    "print(\"===Degrees of Freedom===\")\n",
    "print(dof)\n",
    "print(\"\\n\")\n",
    "\n",
    "print(\"===P-Value===\")\n",
    "print(p_val)\n",
    "print(\"\\n\")\n",
    "\n",
    "print(\"===Contingency Table===\")\n",
    "print(ex)\n",
    "\n",
    "#What do you think of the values in the contingency table ?"
   ]
  },
  {
   "cell_type": "markdown",
   "metadata": {},
   "source": [
    "Interesting* annecdote about chi-square test\n",
    "\n",
    "*Heavily depends on your definition of interesting"
   ]
  },
  {
   "cell_type": "code",
   "execution_count": null,
   "metadata": {},
   "outputs": [],
   "source": []
  },
  {
   "cell_type": "code",
   "execution_count": null,
   "metadata": {},
   "outputs": [],
   "source": []
  },
  {
   "cell_type": "code",
   "execution_count": null,
   "metadata": {},
   "outputs": [],
   "source": []
  },
  {
   "cell_type": "code",
   "execution_count": null,
   "metadata": {},
   "outputs": [],
   "source": []
  },
  {
   "cell_type": "code",
   "execution_count": null,
   "metadata": {},
   "outputs": [],
   "source": []
  },
  {
   "cell_type": "code",
   "execution_count": null,
   "metadata": {},
   "outputs": [],
   "source": []
  },
  {
   "cell_type": "code",
   "execution_count": null,
   "metadata": {},
   "outputs": [],
   "source": []
  },
  {
   "cell_type": "code",
   "execution_count": null,
   "metadata": {},
   "outputs": [],
   "source": []
  }
 ],
 "metadata": {
  "kernelspec": {
   "display_name": "Python 3",
   "language": "python",
   "name": "python3"
  },
  "language_info": {
   "codemirror_mode": {
    "name": "ipython",
    "version": 3
   },
   "file_extension": ".py",
   "mimetype": "text/x-python",
   "name": "python",
   "nbconvert_exporter": "python",
   "pygments_lexer": "ipython3",
   "version": "3.7.3"
  }
 },
 "nbformat": 4,
 "nbformat_minor": 2
}
