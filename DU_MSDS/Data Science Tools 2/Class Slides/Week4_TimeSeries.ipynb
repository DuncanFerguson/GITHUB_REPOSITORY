{
 "cells": [
  {
   "cell_type": "markdown",
   "metadata": {
    "slideshow": {
     "slide_type": "slide"
    }
   },
   "source": [
    "# Time series\n",
    "\n",
    "Sequence of data objects indexed by time"
   ]
  },
  {
   "cell_type": "markdown",
   "metadata": {
    "slideshow": {
     "slide_type": "subslide"
    }
   },
   "source": [
    "# Applications\n",
    "- NLP(natural language processing)\n",
    "    + How computer understand what we speak\n",
    "- Brain signals/ brain function understanding.\n",
    "    +  electroencephalograms (EEG), magnetoencephalograms (MEG), and magnetic resonance imaging (MRI).\n",
    "- Understanding national/global social issues, economic issues    \n",
    "- Video understanding\n",
    "- Finance, health care, Physics"
   ]
  },
  {
   "cell_type": "code",
   "execution_count": 1,
   "metadata": {
    "slideshow": {
     "slide_type": "subslide"
    }
   },
   "outputs": [],
   "source": [
    "import pandas as pd\n",
    "import numpy as np\n",
    "%matplotlib inline\n",
    "import matplotlib.pyplot as plt"
   ]
  },
  {
   "cell_type": "markdown",
   "metadata": {
    "slideshow": {
     "slide_type": "slide"
    }
   },
   "source": [
    "# Date Time Data Types in pandas"
   ]
  },
  {
   "cell_type": "markdown",
   "metadata": {
    "slideshow": {
     "slide_type": "subslide"
    }
   },
   "source": [
    "We already used pandas to_datetime functionality"
   ]
  },
  {
   "cell_type": "code",
   "execution_count": 2,
   "metadata": {
    "slideshow": {
     "slide_type": "fragment"
    }
   },
   "outputs": [],
   "source": [
    "dates = ['2011-07-06 12:00:00', '2011-08-06 00:00:00', None]"
   ]
  },
  {
   "cell_type": "code",
   "execution_count": 3,
   "metadata": {
    "slideshow": {
     "slide_type": "fragment"
    }
   },
   "outputs": [
    {
     "data": {
      "text/plain": [
       "DatetimeIndex(['2011-07-06 12:00:00', '2011-08-06 00:00:00', 'NaT'], dtype='datetime64[ns]', freq=None)"
      ]
     },
     "execution_count": 3,
     "metadata": {},
     "output_type": "execute_result"
    }
   ],
   "source": [
    "index = pd.to_datetime(dates)\n",
    "index"
   ]
  },
  {
   "cell_type": "code",
   "execution_count": 4,
   "metadata": {
    "slideshow": {
     "slide_type": "fragment"
    }
   },
   "outputs": [
    {
     "data": {
      "text/plain": [
       "dtype('<M8[ns]')"
      ]
     },
     "execution_count": 4,
     "metadata": {},
     "output_type": "execute_result"
    }
   ],
   "source": [
    "index.dtype"
   ]
  },
  {
   "cell_type": "code",
   "execution_count": 5,
   "metadata": {
    "slideshow": {
     "slide_type": "fragment"
    }
   },
   "outputs": [
    {
     "data": {
      "text/plain": [
       "Timestamp('2011-07-06 12:00:00')"
      ]
     },
     "execution_count": 5,
     "metadata": {},
     "output_type": "execute_result"
    }
   ],
   "source": [
    "index[0]"
   ]
  },
  {
   "cell_type": "markdown",
   "metadata": {
    "slideshow": {
     "slide_type": "subslide"
    }
   },
   "source": [
    "# timestamp\n",
    "\n",
    "https://pandas.pydata.org/pandas-docs/stable/reference/api/pandas.Timestamp.html"
   ]
  },
  {
   "cell_type": "code",
   "execution_count": null,
   "metadata": {},
   "outputs": [],
   "source": [
    "# ! pip install --upgrade pandas"
   ]
  },
  {
   "cell_type": "code",
   "execution_count": 6,
   "metadata": {
    "slideshow": {
     "slide_type": "fragment"
    }
   },
   "outputs": [
    {
     "data": {
      "text/plain": [
       "Timestamp('2018-01-01 00:00:00')"
      ]
     },
     "execution_count": 6,
     "metadata": {},
     "output_type": "execute_result"
    }
   ],
   "source": [
    "ts= pd.Timestamp('1/1/2018')\n",
    "ts"
   ]
  },
  {
   "cell_type": "code",
   "execution_count": 7,
   "metadata": {
    "slideshow": {
     "slide_type": "fragment"
    }
   },
   "outputs": [
    {
     "data": {
      "text/plain": [
       "('Monday', 0, 31, None)"
      ]
     },
     "execution_count": 7,
     "metadata": {},
     "output_type": "execute_result"
    }
   ],
   "source": [
    "ts.day_name(), ts.dayofweek, ts.days_in_month, ts.tzinfo"
   ]
  },
  {
   "cell_type": "code",
   "execution_count": 19,
   "metadata": {
    "slideshow": {
     "slide_type": "fragment"
    }
   },
   "outputs": [
    {
     "data": {
      "text/plain": [
       "DatetimeIndex(['2012-01-04 10:00:00'], dtype='datetime64[ns]', freq=None)"
      ]
     },
     "execution_count": 19,
     "metadata": {},
     "output_type": "execute_result"
    }
   ],
   "source": [
    "pd.to_datetime(['04-01-2012 10:00'], dayfirst=True)"
   ]
  },
  {
   "cell_type": "markdown",
   "metadata": {
    "slideshow": {
     "slide_type": "subslide"
    }
   },
   "source": [
    "# timeDelta\n",
    "https://pandas.pydata.org/pandas-docs/stable/user_guide/timedeltas.html"
   ]
  },
  {
   "cell_type": "code",
   "execution_count": 8,
   "metadata": {
    "slideshow": {
     "slide_type": "fragment"
    }
   },
   "outputs": [
    {
     "data": {
      "text/plain": [
       "Timedelta('1 days 02:00:00')"
      ]
     },
     "execution_count": 8,
     "metadata": {},
     "output_type": "execute_result"
    }
   ],
   "source": [
    "interval = pd.Timedelta(\"1 day 2 hours\")\n",
    "interval"
   ]
  },
  {
   "cell_type": "code",
   "execution_count": 9,
   "metadata": {},
   "outputs": [
    {
     "data": {
      "text/plain": [
       "Timestamp('2018-01-01 00:00:00')"
      ]
     },
     "execution_count": 9,
     "metadata": {},
     "output_type": "execute_result"
    }
   ],
   "source": [
    "ts"
   ]
  },
  {
   "cell_type": "code",
   "execution_count": 10,
   "metadata": {
    "slideshow": {
     "slide_type": "fragment"
    }
   },
   "outputs": [
    {
     "data": {
      "text/plain": [
       "Timestamp('2018-01-02 02:00:00')"
      ]
     },
     "execution_count": 10,
     "metadata": {},
     "output_type": "execute_result"
    }
   ],
   "source": [
    "ts+interval"
   ]
  },
  {
   "cell_type": "markdown",
   "metadata": {
    "slideshow": {
     "slide_type": "subslide"
    }
   },
   "source": [
    "# Creating time index based on Timestamp"
   ]
  },
  {
   "cell_type": "code",
   "execution_count": 13,
   "metadata": {
    "slideshow": {
     "slide_type": "fragment"
    }
   },
   "outputs": [
    {
     "data": {
      "text/plain": [
       "DatetimeIndex(['2018-03-31', '2018-06-30', '2018-09-30', '2018-12-31',\n",
       "               '2019-03-31'],\n",
       "              dtype='datetime64[ns]', freq='Q-DEC')"
      ]
     },
     "execution_count": 13,
     "metadata": {},
     "output_type": "execute_result"
    }
   ],
   "source": [
    "time_range= pd.date_range(start='1/1/2018', periods=10)\n",
    "time_range\n",
    "\n",
    "\n",
    "time_range= pd.date_range(start='1/1/2018', periods=5, freq= 'Q')\n",
    "time_range"
   ]
  },
  {
   "cell_type": "code",
   "execution_count": 15,
   "metadata": {
    "slideshow": {
     "slide_type": "fragment"
    }
   },
   "outputs": [
    {
     "data": {
      "text/plain": [
       "DatetimeIndex(['2018-03-31', '2018-06-30'], dtype='datetime64[ns]', freq='Q-DEC')"
      ]
     },
     "execution_count": 15,
     "metadata": {},
     "output_type": "execute_result"
    }
   ],
   "source": [
    "time_range[0:2]"
   ]
  },
  {
   "cell_type": "markdown",
   "metadata": {
    "slideshow": {
     "slide_type": "subslide"
    }
   },
   "source": [
    "# Can you change frequency to month"
   ]
  },
  {
   "cell_type": "code",
   "execution_count": 16,
   "metadata": {
    "slideshow": {
     "slide_type": "fragment"
    }
   },
   "outputs": [
    {
     "data": {
      "text/plain": [
       "DatetimeIndex(['2018-01-31', '2018-02-28', '2018-03-31', '2018-04-30',\n",
       "               '2018-05-31'],\n",
       "              dtype='datetime64[ns]', freq='M')"
      ]
     },
     "execution_count": 16,
     "metadata": {},
     "output_type": "execute_result"
    }
   ],
   "source": [
    "date_range = pd.date_range(start='1/4/2018', periods=5, freq='M')\n",
    "date_range"
   ]
  },
  {
   "cell_type": "code",
   "execution_count": 17,
   "metadata": {
    "slideshow": {
     "slide_type": "fragment"
    }
   },
   "outputs": [
    {
     "data": {
      "text/plain": [
       "DatetimeIndex(['2018-01-01 00:00:00', '2018-01-01 01:30:00',\n",
       "               '2018-01-01 03:00:00', '2018-01-01 04:30:00',\n",
       "               '2018-01-01 06:00:00'],\n",
       "              dtype='datetime64[ns]', freq='90T')"
      ]
     },
     "execution_count": 17,
     "metadata": {},
     "output_type": "execute_result"
    }
   ],
   "source": [
    "date_range = pd.date_range(start='1/1/2018', periods=5, freq='1h30min')\n",
    "date_range"
   ]
  },
  {
   "cell_type": "code",
   "execution_count": 18,
   "metadata": {
    "slideshow": {
     "slide_type": "fragment"
    }
   },
   "outputs": [
    {
     "data": {
      "text/plain": [
       "DatetimeIndex(['2018-01-02 02:00:00', '2018-01-02 03:30:00',\n",
       "               '2018-01-02 05:00:00', '2018-01-02 06:30:00',\n",
       "               '2018-01-02 08:00:00'],\n",
       "              dtype='datetime64[ns]', freq='90T')"
      ]
     },
     "execution_count": 18,
     "metadata": {},
     "output_type": "execute_result"
    }
   ],
   "source": [
    "date_range + interval"
   ]
  },
  {
   "cell_type": "markdown",
   "metadata": {
    "slideshow": {
     "slide_type": "slide"
    }
   },
   "source": [
    "# Period"
   ]
  },
  {
   "cell_type": "code",
   "execution_count": 30,
   "metadata": {
    "slideshow": {
     "slide_type": "subslide"
    }
   },
   "outputs": [
    {
     "data": {
      "text/plain": [
       "(Period('2019-03', 'M'),\n",
       " Timestamp('2019-03-01 00:00:00'),\n",
       " Timestamp('2019-03-31 23:59:59.999999999'))"
      ]
     },
     "execution_count": 30,
     "metadata": {},
     "output_type": "execute_result"
    }
   ],
   "source": [
    "p = pd.Period('3/2019')\n",
    "p,p.start_time, p.end_time"
   ]
  },
  {
   "cell_type": "code",
   "execution_count": 19,
   "metadata": {
    "slideshow": {
     "slide_type": "subslide"
    }
   },
   "outputs": [
    {
     "data": {
      "text/plain": [
       "(Timestamp('2017-01-01 00:00:00'), Timestamp('2017-03-31 23:59:59.999999999'))"
      ]
     },
     "execution_count": 19,
     "metadata": {},
     "output_type": "execute_result"
    }
   ],
   "source": [
    "pq= pd.Period('2017Q1', freq='Q')\n",
    "pq.start_time, pq.end_time"
   ]
  },
  {
   "cell_type": "markdown",
   "metadata": {
    "slideshow": {
     "slide_type": "subslide"
    }
   },
   "source": [
    "## period_range"
   ]
  },
  {
   "cell_type": "code",
   "execution_count": 32,
   "metadata": {
    "slideshow": {
     "slide_type": "fragment"
    }
   },
   "outputs": [
    {
     "data": {
      "text/plain": [
       "PeriodIndex(['2017-01-01', '2017-01-02', '2017-01-03', '2017-01-04',\n",
       "             '2017-01-05', '2017-01-06', '2017-01-07', '2017-01-08',\n",
       "             '2017-01-09', '2017-01-10', '2017-01-11', '2017-01-12',\n",
       "             '2017-01-13', '2017-01-14', '2017-01-15', '2017-01-16',\n",
       "             '2017-01-17', '2017-01-18', '2017-01-19', '2017-01-20',\n",
       "             '2017-01-21', '2017-01-22', '2017-01-23', '2017-01-24',\n",
       "             '2017-01-25', '2017-01-26', '2017-01-27', '2017-01-28',\n",
       "             '2017-01-29', '2017-01-30', '2017-01-31', '2017-02-01',\n",
       "             '2017-02-02', '2017-02-03', '2017-02-04', '2017-02-05',\n",
       "             '2017-02-06', '2017-02-07', '2017-02-08', '2017-02-09',\n",
       "             '2017-02-10', '2017-02-11', '2017-02-12', '2017-02-13',\n",
       "             '2017-02-14', '2017-02-15', '2017-02-16', '2017-02-17',\n",
       "             '2017-02-18', '2017-02-19', '2017-02-20', '2017-02-21',\n",
       "             '2017-02-22', '2017-02-23', '2017-02-24', '2017-02-25',\n",
       "             '2017-02-26', '2017-02-27', '2017-02-28', '2017-03-01'],\n",
       "            dtype='period[D]', freq='D')"
      ]
     },
     "execution_count": 32,
     "metadata": {},
     "output_type": "execute_result"
    }
   ],
   "source": [
    "pd.period_range(start='2017-01-01', end='2017-03-01', freq='D')\n"
   ]
  },
  {
   "cell_type": "code",
   "execution_count": 33,
   "metadata": {
    "slideshow": {
     "slide_type": "subslide"
    }
   },
   "outputs": [
    {
     "data": {
      "text/plain": [
       "PeriodIndex(['2017-03', '2017-04', '2017-05', '2017-06'], dtype='period[M]', freq='M')"
      ]
     },
     "execution_count": 33,
     "metadata": {},
     "output_type": "execute_result"
    }
   ],
   "source": [
    "pd.period_range(start=pd.Period('2017Q1'),\n",
    "               end=pd.Period('2017Q2'), freq='M')"
   ]
  },
  {
   "cell_type": "markdown",
   "metadata": {
    "slideshow": {
     "slide_type": "slide"
    }
   },
   "source": [
    "# time zone"
   ]
  },
  {
   "cell_type": "code",
   "execution_count": 20,
   "metadata": {
    "slideshow": {
     "slide_type": "subslide"
    }
   },
   "outputs": [
    {
     "data": {
      "text/plain": [
       "DatetimeIndex(['2019-02-01 00:00:00+00:00', '2019-02-02 00:00:00+00:00',\n",
       "               '2019-02-03 00:00:00+00:00', '2019-02-04 00:00:00+00:00',\n",
       "               '2019-02-05 00:00:00+00:00'],\n",
       "              dtype='datetime64[ns, Europe/London]', freq='D')"
      ]
     },
     "execution_count": 20,
     "metadata": {},
     "output_type": "execute_result"
    }
   ],
   "source": [
    "rng =pd.date_range('2019-2-1', periods=5, freq='D', tz='Europe/London')\n",
    "rng"
   ]
  },
  {
   "cell_type": "code",
   "execution_count": 21,
   "metadata": {
    "slideshow": {
     "slide_type": "fragment"
    }
   },
   "outputs": [
    {
     "data": {
      "text/plain": [
       "<DstTzInfo 'Europe/London' LMT-1 day, 23:59:00 STD>"
      ]
     },
     "execution_count": 21,
     "metadata": {},
     "output_type": "execute_result"
    }
   ],
   "source": [
    "rng.tz"
   ]
  },
  {
   "cell_type": "code",
   "execution_count": 22,
   "metadata": {},
   "outputs": [
    {
     "data": {
      "text/plain": [
       "Timestamp('2019-02-01 06:30:00+0630', tz='Asia/Rangoon', freq='D')"
      ]
     },
     "execution_count": 22,
     "metadata": {},
     "output_type": "execute_result"
    }
   ],
   "source": [
    "rng[0].tz_convert('Asia/Rangoon')"
   ]
  },
  {
   "cell_type": "code",
   "execution_count": 23,
   "metadata": {
    "slideshow": {
     "slide_type": "subslide"
    }
   },
   "outputs": [],
   "source": [
    "from pytz import common_timezones, all_timezones, country_timezones"
   ]
  },
  {
   "cell_type": "code",
   "execution_count": 24,
   "metadata": {
    "slideshow": {
     "slide_type": "fragment"
    }
   },
   "outputs": [
    {
     "data": {
      "text/plain": [
       "['Europe/Zurich']"
      ]
     },
     "execution_count": 24,
     "metadata": {},
     "output_type": "execute_result"
    }
   ],
   "source": [
    "country_timezones('ch')"
   ]
  },
  {
   "cell_type": "code",
   "execution_count": 25,
   "metadata": {
    "slideshow": {
     "slide_type": "fragment"
    }
   },
   "outputs": [
    {
     "data": {
      "text/plain": [
       "592"
      ]
     },
     "execution_count": 25,
     "metadata": {},
     "output_type": "execute_result"
    }
   ],
   "source": [
    "len(all_timezones)"
   ]
  },
  {
   "cell_type": "code",
   "execution_count": 28,
   "metadata": {
    "slideshow": {
     "slide_type": "fragment"
    }
   },
   "outputs": [
    {
     "data": {
      "text/plain": [
       "{'Africa/Asmera',\n",
       " 'Africa/Timbuktu',\n",
       " 'America/Argentina/ComodRivadavia',\n",
       " 'America/Atka',\n",
       " 'America/Buenos_Aires',\n",
       " 'America/Catamarca',\n",
       " 'America/Coral_Harbour',\n",
       " 'America/Cordoba',\n",
       " 'America/Ensenada',\n",
       " 'America/Fort_Wayne',\n",
       " 'America/Indianapolis',\n",
       " 'America/Jujuy',\n",
       " 'America/Knox_IN',\n",
       " 'America/Louisville',\n",
       " 'America/Mendoza',\n",
       " 'America/Montreal',\n",
       " 'America/Porto_Acre',\n",
       " 'America/Rosario',\n",
       " 'America/Santa_Isabel',\n",
       " 'America/Shiprock',\n",
       " 'America/Virgin',\n",
       " 'Antarctica/South_Pole',\n",
       " 'Asia/Ashkhabad',\n",
       " 'Asia/Calcutta',\n",
       " 'Asia/Chongqing',\n",
       " 'Asia/Chungking',\n",
       " 'Asia/Dacca',\n",
       " 'Asia/Harbin',\n",
       " 'Asia/Istanbul',\n",
       " 'Asia/Kashgar',\n",
       " 'Asia/Katmandu',\n",
       " 'Asia/Macao',\n",
       " 'Asia/Rangoon',\n",
       " 'Asia/Saigon',\n",
       " 'Asia/Tel_Aviv',\n",
       " 'Asia/Thimbu',\n",
       " 'Asia/Ujung_Pandang',\n",
       " 'Asia/Ulan_Bator',\n",
       " 'Atlantic/Faeroe',\n",
       " 'Atlantic/Jan_Mayen',\n",
       " 'Australia/ACT',\n",
       " 'Australia/Canberra',\n",
       " 'Australia/LHI',\n",
       " 'Australia/NSW',\n",
       " 'Australia/North',\n",
       " 'Australia/Queensland',\n",
       " 'Australia/South',\n",
       " 'Australia/Tasmania',\n",
       " 'Australia/Victoria',\n",
       " 'Australia/West',\n",
       " 'Australia/Yancowinna',\n",
       " 'Brazil/Acre',\n",
       " 'Brazil/DeNoronha',\n",
       " 'Brazil/East',\n",
       " 'Brazil/West',\n",
       " 'CET',\n",
       " 'CST6CDT',\n",
       " 'Canada/Saskatchewan',\n",
       " 'Canada/Yukon',\n",
       " 'Chile/Continental',\n",
       " 'Chile/EasterIsland',\n",
       " 'Cuba',\n",
       " 'EET',\n",
       " 'EST',\n",
       " 'EST5EDT',\n",
       " 'Egypt',\n",
       " 'Eire',\n",
       " 'Etc/GMT',\n",
       " 'Etc/GMT+0',\n",
       " 'Etc/GMT+1',\n",
       " 'Etc/GMT+10',\n",
       " 'Etc/GMT+11',\n",
       " 'Etc/GMT+12',\n",
       " 'Etc/GMT+2',\n",
       " 'Etc/GMT+3',\n",
       " 'Etc/GMT+4',\n",
       " 'Etc/GMT+5',\n",
       " 'Etc/GMT+6',\n",
       " 'Etc/GMT+7',\n",
       " 'Etc/GMT+8',\n",
       " 'Etc/GMT+9',\n",
       " 'Etc/GMT-0',\n",
       " 'Etc/GMT-1',\n",
       " 'Etc/GMT-10',\n",
       " 'Etc/GMT-11',\n",
       " 'Etc/GMT-12',\n",
       " 'Etc/GMT-13',\n",
       " 'Etc/GMT-14',\n",
       " 'Etc/GMT-2',\n",
       " 'Etc/GMT-3',\n",
       " 'Etc/GMT-4',\n",
       " 'Etc/GMT-5',\n",
       " 'Etc/GMT-6',\n",
       " 'Etc/GMT-7',\n",
       " 'Etc/GMT-8',\n",
       " 'Etc/GMT-9',\n",
       " 'Etc/GMT0',\n",
       " 'Etc/Greenwich',\n",
       " 'Etc/UCT',\n",
       " 'Etc/UTC',\n",
       " 'Etc/Universal',\n",
       " 'Etc/Zulu',\n",
       " 'Europe/Belfast',\n",
       " 'Europe/Nicosia',\n",
       " 'Europe/Tiraspol',\n",
       " 'GB',\n",
       " 'GB-Eire',\n",
       " 'GMT+0',\n",
       " 'GMT-0',\n",
       " 'GMT0',\n",
       " 'Greenwich',\n",
       " 'HST',\n",
       " 'Hongkong',\n",
       " 'Iceland',\n",
       " 'Iran',\n",
       " 'Israel',\n",
       " 'Jamaica',\n",
       " 'Japan',\n",
       " 'Kwajalein',\n",
       " 'Libya',\n",
       " 'MET',\n",
       " 'MST',\n",
       " 'MST7MDT',\n",
       " 'Mexico/BajaNorte',\n",
       " 'Mexico/BajaSur',\n",
       " 'Mexico/General',\n",
       " 'NZ',\n",
       " 'NZ-CHAT',\n",
       " 'Navajo',\n",
       " 'PRC',\n",
       " 'PST8PDT',\n",
       " 'Pacific/Johnston',\n",
       " 'Pacific/Ponape',\n",
       " 'Pacific/Samoa',\n",
       " 'Pacific/Truk',\n",
       " 'Pacific/Yap',\n",
       " 'Poland',\n",
       " 'Portugal',\n",
       " 'ROC',\n",
       " 'ROK',\n",
       " 'Singapore',\n",
       " 'Turkey',\n",
       " 'UCT',\n",
       " 'US/Aleutian',\n",
       " 'US/East-Indiana',\n",
       " 'US/Indiana-Starke',\n",
       " 'US/Michigan',\n",
       " 'US/Samoa',\n",
       " 'Universal',\n",
       " 'W-SU',\n",
       " 'WET',\n",
       " 'Zulu'}"
      ]
     },
     "execution_count": 28,
     "metadata": {},
     "output_type": "execute_result"
    }
   ],
   "source": [
    "# Find time zone in all time zone but not in common time zone\n",
    "#???s\n",
    "set(all_timezones) - set(common_timezones)"
   ]
  },
  {
   "cell_type": "markdown",
   "metadata": {
    "slideshow": {
     "slide_type": "subslide"
    }
   },
   "source": [
    "# Day light saving "
   ]
  },
  {
   "cell_type": "code",
   "execution_count": 29,
   "metadata": {
    "slideshow": {
     "slide_type": "subslide"
    }
   },
   "outputs": [
    {
     "data": {
      "text/plain": [
       "DatetimeIndex(['2019-03-08 21:00:00-07:00', '2019-03-09 21:00:00-07:00',\n",
       "               '2019-03-10 21:00:00-06:00', '2019-03-11 21:00:00-06:00',\n",
       "               '2019-03-12 21:00:00-06:00', '2019-03-13 21:00:00-06:00',\n",
       "               '2019-03-14 21:00:00-06:00', '2019-03-15 21:00:00-06:00',\n",
       "               '2019-03-16 21:00:00-06:00', '2019-03-17 21:00:00-06:00'],\n",
       "              dtype='datetime64[ns, US/Mountain]', freq='D')"
      ]
     },
     "execution_count": 29,
     "metadata": {},
     "output_type": "execute_result"
    }
   ],
   "source": [
    "rng =pd.date_range('2019-3-8 9 pm', periods=10, tz='US/Mountain')\n",
    "rng"
   ]
  },
  {
   "cell_type": "markdown",
   "metadata": {
    "slideshow": {
     "slide_type": "slide"
    }
   },
   "source": [
    "# Let's make some time series"
   ]
  },
  {
   "cell_type": "code",
   "execution_count": 30,
   "metadata": {
    "slideshow": {
     "slide_type": "subslide"
    }
   },
   "outputs": [
    {
     "data": {
      "text/plain": [
       "2019-01-01 00:00:00    1\n",
       "2019-01-01 01:00:00    8\n",
       "2019-01-01 02:00:00    9\n",
       "2019-01-01 03:00:00    8\n",
       "2019-01-01 04:00:00    3\n",
       "2019-01-01 05:00:00    1\n",
       "2019-01-01 06:00:00    8\n",
       "2019-01-01 07:00:00    8\n",
       "2019-01-01 08:00:00    2\n",
       "2019-01-01 09:00:00    5\n",
       "Freq: H, dtype: int64"
      ]
     },
     "execution_count": 30,
     "metadata": {},
     "output_type": "execute_result"
    }
   ],
   "source": [
    "pd.Series(np.random.randint(low =1, high =10, size = 10), pd.date_range('2019 1 1', periods= 10, freq = 'H'))"
   ]
  },
  {
   "cell_type": "markdown",
   "metadata": {
    "slideshow": {
     "slide_type": "slide"
    }
   },
   "source": [
    "# reading time series data"
   ]
  },
  {
   "cell_type": "markdown",
   "metadata": {
    "slideshow": {
     "slide_type": "subslide"
    }
   },
   "source": [
    "https://archive.ics.uci.edu/ml/datasets/Air+Quality#"
   ]
  },
  {
   "cell_type": "code",
   "execution_count": 33,
   "metadata": {
    "slideshow": {
     "slide_type": "fragment"
    }
   },
   "outputs": [
    {
     "name": "stdout",
     "output_type": "stream",
     "text": [
      "  % Total    % Received % Xferd  Average Speed   Time    Time     Time  Current\n",
      "                                 Dload  Upload   Total   Spent    Left  Speed\n",
      "100 1507k  100 1507k    0     0  2761k      0 --:--:-- --:--:-- --:--:-- 2761k\n"
     ]
    }
   ],
   "source": [
    "!curl -O https://archive.ics.uci.edu/ml/machine-learning-databases/00360/AirQualityUCI.zip"
   ]
  },
  {
   "cell_type": "code",
   "execution_count": 34,
   "metadata": {
    "slideshow": {
     "slide_type": "fragment"
    }
   },
   "outputs": [
    {
     "name": "stdout",
     "output_type": "stream",
     "text": [
      "Archive:  AirQualityUCI.zip\r\n",
      "  inflating: AirQualityUCI.csv       \r\n",
      "  inflating: AirQualityUCI.xlsx      \r\n"
     ]
    }
   ],
   "source": [
    "!unzip AirQualityUCI.zip"
   ]
  },
  {
   "cell_type": "code",
   "execution_count": 35,
   "metadata": {
    "slideshow": {
     "slide_type": "fragment"
    }
   },
   "outputs": [
    {
     "name": "stdout",
     "output_type": "stream",
     "text": [
      "AirQualityUCI.csv\r\n",
      "IMDB Dataset.csv\r\n",
      "abcnews-date-text.csv\r\n",
      "bank.csv\r\n",
      "house_pricing.csv\r\n",
      "real_property_apartment_and_commercial_characteristics.csv\r\n",
      "syn.csv\r\n",
      "techtrack100.csv\r\n"
     ]
    }
   ],
   "source": [
    "!ls *.csv"
   ]
  },
  {
   "cell_type": "code",
   "execution_count": 36,
   "metadata": {
    "slideshow": {
     "slide_type": "subslide"
    }
   },
   "outputs": [
    {
     "name": "stdout",
     "output_type": "stream",
     "text": [
      "/bin/sh: shuf: command not found\r\n"
     ]
    }
   ],
   "source": [
    "!shuf -n 10 AirQualityUCI.csv"
   ]
  },
  {
   "cell_type": "code",
   "execution_count": 37,
   "metadata": {
    "slideshow": {
     "slide_type": "subslide"
    }
   },
   "outputs": [],
   "source": [
    "# write grep command to remove ;; and store resutls in AirQualityUCI_clean.csv file\n",
    "!grep -Ev \"^;;.*\" AirQualityUCI.csv  > AirQualityUCI_clean.csv "
   ]
  },
  {
   "cell_type": "code",
   "execution_count": 38,
   "metadata": {
    "slideshow": {
     "slide_type": "subslide"
    }
   },
   "outputs": [
    {
     "data": {
      "text/html": [
       "<div>\n",
       "<style scoped>\n",
       "    .dataframe tbody tr th:only-of-type {\n",
       "        vertical-align: middle;\n",
       "    }\n",
       "\n",
       "    .dataframe tbody tr th {\n",
       "        vertical-align: top;\n",
       "    }\n",
       "\n",
       "    .dataframe thead th {\n",
       "        text-align: right;\n",
       "    }\n",
       "</style>\n",
       "<table border=\"1\" class=\"dataframe\">\n",
       "  <thead>\n",
       "    <tr style=\"text-align: right;\">\n",
       "      <th></th>\n",
       "      <th>Date</th>\n",
       "      <th>Time</th>\n",
       "      <th>CO(GT)</th>\n",
       "      <th>PT08.S1(CO)</th>\n",
       "      <th>NMHC(GT)</th>\n",
       "      <th>C6H6(GT)</th>\n",
       "      <th>PT08.S2(NMHC)</th>\n",
       "      <th>NOx(GT)</th>\n",
       "      <th>PT08.S3(NOx)</th>\n",
       "      <th>NO2(GT)</th>\n",
       "      <th>PT08.S4(NO2)</th>\n",
       "      <th>PT08.S5(O3)</th>\n",
       "      <th>T</th>\n",
       "      <th>RH</th>\n",
       "      <th>AH</th>\n",
       "      <th>Unnamed: 15</th>\n",
       "      <th>Unnamed: 16</th>\n",
       "    </tr>\n",
       "  </thead>\n",
       "  <tbody>\n",
       "    <tr>\n",
       "      <th>0</th>\n",
       "      <td>10/03/2004</td>\n",
       "      <td>18.00.00</td>\n",
       "      <td>2,6</td>\n",
       "      <td>1360</td>\n",
       "      <td>150</td>\n",
       "      <td>11,9</td>\n",
       "      <td>1046</td>\n",
       "      <td>166</td>\n",
       "      <td>1056</td>\n",
       "      <td>113</td>\n",
       "      <td>1692</td>\n",
       "      <td>1268</td>\n",
       "      <td>13,6</td>\n",
       "      <td>48,9</td>\n",
       "      <td>0,7578</td>\n",
       "      <td>NaN</td>\n",
       "      <td>NaN</td>\n",
       "    </tr>\n",
       "    <tr>\n",
       "      <th>1</th>\n",
       "      <td>10/03/2004</td>\n",
       "      <td>19.00.00</td>\n",
       "      <td>2</td>\n",
       "      <td>1292</td>\n",
       "      <td>112</td>\n",
       "      <td>9,4</td>\n",
       "      <td>955</td>\n",
       "      <td>103</td>\n",
       "      <td>1174</td>\n",
       "      <td>92</td>\n",
       "      <td>1559</td>\n",
       "      <td>972</td>\n",
       "      <td>13,3</td>\n",
       "      <td>47,7</td>\n",
       "      <td>0,7255</td>\n",
       "      <td>NaN</td>\n",
       "      <td>NaN</td>\n",
       "    </tr>\n",
       "    <tr>\n",
       "      <th>2</th>\n",
       "      <td>10/03/2004</td>\n",
       "      <td>20.00.00</td>\n",
       "      <td>2,2</td>\n",
       "      <td>1402</td>\n",
       "      <td>88</td>\n",
       "      <td>9,0</td>\n",
       "      <td>939</td>\n",
       "      <td>131</td>\n",
       "      <td>1140</td>\n",
       "      <td>114</td>\n",
       "      <td>1555</td>\n",
       "      <td>1074</td>\n",
       "      <td>11,9</td>\n",
       "      <td>54,0</td>\n",
       "      <td>0,7502</td>\n",
       "      <td>NaN</td>\n",
       "      <td>NaN</td>\n",
       "    </tr>\n",
       "    <tr>\n",
       "      <th>3</th>\n",
       "      <td>10/03/2004</td>\n",
       "      <td>21.00.00</td>\n",
       "      <td>2,2</td>\n",
       "      <td>1376</td>\n",
       "      <td>80</td>\n",
       "      <td>9,2</td>\n",
       "      <td>948</td>\n",
       "      <td>172</td>\n",
       "      <td>1092</td>\n",
       "      <td>122</td>\n",
       "      <td>1584</td>\n",
       "      <td>1203</td>\n",
       "      <td>11,0</td>\n",
       "      <td>60,0</td>\n",
       "      <td>0,7867</td>\n",
       "      <td>NaN</td>\n",
       "      <td>NaN</td>\n",
       "    </tr>\n",
       "    <tr>\n",
       "      <th>4</th>\n",
       "      <td>10/03/2004</td>\n",
       "      <td>22.00.00</td>\n",
       "      <td>1,6</td>\n",
       "      <td>1272</td>\n",
       "      <td>51</td>\n",
       "      <td>6,5</td>\n",
       "      <td>836</td>\n",
       "      <td>131</td>\n",
       "      <td>1205</td>\n",
       "      <td>116</td>\n",
       "      <td>1490</td>\n",
       "      <td>1110</td>\n",
       "      <td>11,2</td>\n",
       "      <td>59,6</td>\n",
       "      <td>0,7888</td>\n",
       "      <td>NaN</td>\n",
       "      <td>NaN</td>\n",
       "    </tr>\n",
       "    <tr>\n",
       "      <th>5</th>\n",
       "      <td>10/03/2004</td>\n",
       "      <td>23.00.00</td>\n",
       "      <td>1,2</td>\n",
       "      <td>1197</td>\n",
       "      <td>38</td>\n",
       "      <td>4,7</td>\n",
       "      <td>750</td>\n",
       "      <td>89</td>\n",
       "      <td>1337</td>\n",
       "      <td>96</td>\n",
       "      <td>1393</td>\n",
       "      <td>949</td>\n",
       "      <td>11,2</td>\n",
       "      <td>59,2</td>\n",
       "      <td>0,7848</td>\n",
       "      <td>NaN</td>\n",
       "      <td>NaN</td>\n",
       "    </tr>\n",
       "    <tr>\n",
       "      <th>6</th>\n",
       "      <td>11/03/2004</td>\n",
       "      <td>00.00.00</td>\n",
       "      <td>1,2</td>\n",
       "      <td>1185</td>\n",
       "      <td>31</td>\n",
       "      <td>3,6</td>\n",
       "      <td>690</td>\n",
       "      <td>62</td>\n",
       "      <td>1462</td>\n",
       "      <td>77</td>\n",
       "      <td>1333</td>\n",
       "      <td>733</td>\n",
       "      <td>11,3</td>\n",
       "      <td>56,8</td>\n",
       "      <td>0,7603</td>\n",
       "      <td>NaN</td>\n",
       "      <td>NaN</td>\n",
       "    </tr>\n",
       "    <tr>\n",
       "      <th>7</th>\n",
       "      <td>11/03/2004</td>\n",
       "      <td>01.00.00</td>\n",
       "      <td>1</td>\n",
       "      <td>1136</td>\n",
       "      <td>31</td>\n",
       "      <td>3,3</td>\n",
       "      <td>672</td>\n",
       "      <td>62</td>\n",
       "      <td>1453</td>\n",
       "      <td>76</td>\n",
       "      <td>1333</td>\n",
       "      <td>730</td>\n",
       "      <td>10,7</td>\n",
       "      <td>60,0</td>\n",
       "      <td>0,7702</td>\n",
       "      <td>NaN</td>\n",
       "      <td>NaN</td>\n",
       "    </tr>\n",
       "    <tr>\n",
       "      <th>8</th>\n",
       "      <td>11/03/2004</td>\n",
       "      <td>02.00.00</td>\n",
       "      <td>0,9</td>\n",
       "      <td>1094</td>\n",
       "      <td>24</td>\n",
       "      <td>2,3</td>\n",
       "      <td>609</td>\n",
       "      <td>45</td>\n",
       "      <td>1579</td>\n",
       "      <td>60</td>\n",
       "      <td>1276</td>\n",
       "      <td>620</td>\n",
       "      <td>10,7</td>\n",
       "      <td>59,7</td>\n",
       "      <td>0,7648</td>\n",
       "      <td>NaN</td>\n",
       "      <td>NaN</td>\n",
       "    </tr>\n",
       "    <tr>\n",
       "      <th>9</th>\n",
       "      <td>11/03/2004</td>\n",
       "      <td>03.00.00</td>\n",
       "      <td>0,6</td>\n",
       "      <td>1010</td>\n",
       "      <td>19</td>\n",
       "      <td>1,7</td>\n",
       "      <td>561</td>\n",
       "      <td>-200</td>\n",
       "      <td>1705</td>\n",
       "      <td>-200</td>\n",
       "      <td>1235</td>\n",
       "      <td>501</td>\n",
       "      <td>10,3</td>\n",
       "      <td>60,2</td>\n",
       "      <td>0,7517</td>\n",
       "      <td>NaN</td>\n",
       "      <td>NaN</td>\n",
       "    </tr>\n",
       "  </tbody>\n",
       "</table>\n",
       "</div>"
      ],
      "text/plain": [
       "         Date      Time CO(GT)  PT08.S1(CO)  NMHC(GT) C6H6(GT)  PT08.S2(NMHC)  \\\n",
       "0  10/03/2004  18.00.00    2,6         1360       150     11,9           1046   \n",
       "1  10/03/2004  19.00.00      2         1292       112      9,4            955   \n",
       "2  10/03/2004  20.00.00    2,2         1402        88      9,0            939   \n",
       "3  10/03/2004  21.00.00    2,2         1376        80      9,2            948   \n",
       "4  10/03/2004  22.00.00    1,6         1272        51      6,5            836   \n",
       "5  10/03/2004  23.00.00    1,2         1197        38      4,7            750   \n",
       "6  11/03/2004  00.00.00    1,2         1185        31      3,6            690   \n",
       "7  11/03/2004  01.00.00      1         1136        31      3,3            672   \n",
       "8  11/03/2004  02.00.00    0,9         1094        24      2,3            609   \n",
       "9  11/03/2004  03.00.00    0,6         1010        19      1,7            561   \n",
       "\n",
       "   NOx(GT)  PT08.S3(NOx)  NO2(GT)  PT08.S4(NO2)  PT08.S5(O3)     T    RH  \\\n",
       "0      166          1056      113          1692         1268  13,6  48,9   \n",
       "1      103          1174       92          1559          972  13,3  47,7   \n",
       "2      131          1140      114          1555         1074  11,9  54,0   \n",
       "3      172          1092      122          1584         1203  11,0  60,0   \n",
       "4      131          1205      116          1490         1110  11,2  59,6   \n",
       "5       89          1337       96          1393          949  11,2  59,2   \n",
       "6       62          1462       77          1333          733  11,3  56,8   \n",
       "7       62          1453       76          1333          730  10,7  60,0   \n",
       "8       45          1579       60          1276          620  10,7  59,7   \n",
       "9     -200          1705     -200          1235          501  10,3  60,2   \n",
       "\n",
       "       AH  Unnamed: 15  Unnamed: 16  \n",
       "0  0,7578          NaN          NaN  \n",
       "1  0,7255          NaN          NaN  \n",
       "2  0,7502          NaN          NaN  \n",
       "3  0,7867          NaN          NaN  \n",
       "4  0,7888          NaN          NaN  \n",
       "5  0,7848          NaN          NaN  \n",
       "6  0,7603          NaN          NaN  \n",
       "7  0,7702          NaN          NaN  \n",
       "8  0,7648          NaN          NaN  \n",
       "9  0,7517          NaN          NaN  "
      ]
     },
     "execution_count": 38,
     "metadata": {},
     "output_type": "execute_result"
    }
   ],
   "source": [
    "air_quality_df = pd.read_csv('AirQualityUCI_clean.csv',sep = ';')\n",
    "air_quality_df.head(10)"
   ]
  },
  {
   "cell_type": "code",
   "execution_count": null,
   "metadata": {
    "slideshow": {
     "slide_type": "subslide"
    }
   },
   "outputs": [],
   "source": [
    "# %timeit air_quality_df.Time.apply(lambda x: ':'.join(x.split('.')))"
   ]
  },
  {
   "cell_type": "code",
   "execution_count": null,
   "metadata": {
    "slideshow": {
     "slide_type": "subslide"
    }
   },
   "outputs": [],
   "source": [
    "# %timeit air_quality_df[['Time']].apply(lambda x: x.str.replace('.', ':'))"
   ]
  },
  {
   "cell_type": "code",
   "execution_count": 39,
   "metadata": {
    "slideshow": {
     "slide_type": "subslide"
    }
   },
   "outputs": [
    {
     "data": {
      "text/html": [
       "<div>\n",
       "<style scoped>\n",
       "    .dataframe tbody tr th:only-of-type {\n",
       "        vertical-align: middle;\n",
       "    }\n",
       "\n",
       "    .dataframe tbody tr th {\n",
       "        vertical-align: top;\n",
       "    }\n",
       "\n",
       "    .dataframe thead th {\n",
       "        text-align: right;\n",
       "    }\n",
       "</style>\n",
       "<table border=\"1\" class=\"dataframe\">\n",
       "  <thead>\n",
       "    <tr style=\"text-align: right;\">\n",
       "      <th></th>\n",
       "      <th>Date</th>\n",
       "      <th>Time</th>\n",
       "      <th>CO(GT)</th>\n",
       "      <th>PT08.S1(CO)</th>\n",
       "      <th>NMHC(GT)</th>\n",
       "      <th>C6H6(GT)</th>\n",
       "      <th>PT08.S2(NMHC)</th>\n",
       "      <th>NOx(GT)</th>\n",
       "      <th>PT08.S3(NOx)</th>\n",
       "      <th>NO2(GT)</th>\n",
       "      <th>PT08.S4(NO2)</th>\n",
       "      <th>PT08.S5(O3)</th>\n",
       "      <th>T</th>\n",
       "      <th>RH</th>\n",
       "      <th>AH</th>\n",
       "      <th>Unnamed: 15</th>\n",
       "      <th>Unnamed: 16</th>\n",
       "    </tr>\n",
       "  </thead>\n",
       "  <tbody>\n",
       "    <tr>\n",
       "      <th>0</th>\n",
       "      <td>10/03/2004</td>\n",
       "      <td>18:00:00</td>\n",
       "      <td>2,6</td>\n",
       "      <td>1360</td>\n",
       "      <td>150</td>\n",
       "      <td>11,9</td>\n",
       "      <td>1046</td>\n",
       "      <td>166</td>\n",
       "      <td>1056</td>\n",
       "      <td>113</td>\n",
       "      <td>1692</td>\n",
       "      <td>1268</td>\n",
       "      <td>13,6</td>\n",
       "      <td>48,9</td>\n",
       "      <td>0,7578</td>\n",
       "      <td>NaN</td>\n",
       "      <td>NaN</td>\n",
       "    </tr>\n",
       "    <tr>\n",
       "      <th>1</th>\n",
       "      <td>10/03/2004</td>\n",
       "      <td>19:00:00</td>\n",
       "      <td>2</td>\n",
       "      <td>1292</td>\n",
       "      <td>112</td>\n",
       "      <td>9,4</td>\n",
       "      <td>955</td>\n",
       "      <td>103</td>\n",
       "      <td>1174</td>\n",
       "      <td>92</td>\n",
       "      <td>1559</td>\n",
       "      <td>972</td>\n",
       "      <td>13,3</td>\n",
       "      <td>47,7</td>\n",
       "      <td>0,7255</td>\n",
       "      <td>NaN</td>\n",
       "      <td>NaN</td>\n",
       "    </tr>\n",
       "    <tr>\n",
       "      <th>2</th>\n",
       "      <td>10/03/2004</td>\n",
       "      <td>20:00:00</td>\n",
       "      <td>2,2</td>\n",
       "      <td>1402</td>\n",
       "      <td>88</td>\n",
       "      <td>9,0</td>\n",
       "      <td>939</td>\n",
       "      <td>131</td>\n",
       "      <td>1140</td>\n",
       "      <td>114</td>\n",
       "      <td>1555</td>\n",
       "      <td>1074</td>\n",
       "      <td>11,9</td>\n",
       "      <td>54,0</td>\n",
       "      <td>0,7502</td>\n",
       "      <td>NaN</td>\n",
       "      <td>NaN</td>\n",
       "    </tr>\n",
       "    <tr>\n",
       "      <th>3</th>\n",
       "      <td>10/03/2004</td>\n",
       "      <td>21:00:00</td>\n",
       "      <td>2,2</td>\n",
       "      <td>1376</td>\n",
       "      <td>80</td>\n",
       "      <td>9,2</td>\n",
       "      <td>948</td>\n",
       "      <td>172</td>\n",
       "      <td>1092</td>\n",
       "      <td>122</td>\n",
       "      <td>1584</td>\n",
       "      <td>1203</td>\n",
       "      <td>11,0</td>\n",
       "      <td>60,0</td>\n",
       "      <td>0,7867</td>\n",
       "      <td>NaN</td>\n",
       "      <td>NaN</td>\n",
       "    </tr>\n",
       "    <tr>\n",
       "      <th>4</th>\n",
       "      <td>10/03/2004</td>\n",
       "      <td>22:00:00</td>\n",
       "      <td>1,6</td>\n",
       "      <td>1272</td>\n",
       "      <td>51</td>\n",
       "      <td>6,5</td>\n",
       "      <td>836</td>\n",
       "      <td>131</td>\n",
       "      <td>1205</td>\n",
       "      <td>116</td>\n",
       "      <td>1490</td>\n",
       "      <td>1110</td>\n",
       "      <td>11,2</td>\n",
       "      <td>59,6</td>\n",
       "      <td>0,7888</td>\n",
       "      <td>NaN</td>\n",
       "      <td>NaN</td>\n",
       "    </tr>\n",
       "    <tr>\n",
       "      <th>5</th>\n",
       "      <td>10/03/2004</td>\n",
       "      <td>23:00:00</td>\n",
       "      <td>1,2</td>\n",
       "      <td>1197</td>\n",
       "      <td>38</td>\n",
       "      <td>4,7</td>\n",
       "      <td>750</td>\n",
       "      <td>89</td>\n",
       "      <td>1337</td>\n",
       "      <td>96</td>\n",
       "      <td>1393</td>\n",
       "      <td>949</td>\n",
       "      <td>11,2</td>\n",
       "      <td>59,2</td>\n",
       "      <td>0,7848</td>\n",
       "      <td>NaN</td>\n",
       "      <td>NaN</td>\n",
       "    </tr>\n",
       "    <tr>\n",
       "      <th>6</th>\n",
       "      <td>11/03/2004</td>\n",
       "      <td>00:00:00</td>\n",
       "      <td>1,2</td>\n",
       "      <td>1185</td>\n",
       "      <td>31</td>\n",
       "      <td>3,6</td>\n",
       "      <td>690</td>\n",
       "      <td>62</td>\n",
       "      <td>1462</td>\n",
       "      <td>77</td>\n",
       "      <td>1333</td>\n",
       "      <td>733</td>\n",
       "      <td>11,3</td>\n",
       "      <td>56,8</td>\n",
       "      <td>0,7603</td>\n",
       "      <td>NaN</td>\n",
       "      <td>NaN</td>\n",
       "    </tr>\n",
       "    <tr>\n",
       "      <th>7</th>\n",
       "      <td>11/03/2004</td>\n",
       "      <td>01:00:00</td>\n",
       "      <td>1</td>\n",
       "      <td>1136</td>\n",
       "      <td>31</td>\n",
       "      <td>3,3</td>\n",
       "      <td>672</td>\n",
       "      <td>62</td>\n",
       "      <td>1453</td>\n",
       "      <td>76</td>\n",
       "      <td>1333</td>\n",
       "      <td>730</td>\n",
       "      <td>10,7</td>\n",
       "      <td>60,0</td>\n",
       "      <td>0,7702</td>\n",
       "      <td>NaN</td>\n",
       "      <td>NaN</td>\n",
       "    </tr>\n",
       "    <tr>\n",
       "      <th>8</th>\n",
       "      <td>11/03/2004</td>\n",
       "      <td>02:00:00</td>\n",
       "      <td>0,9</td>\n",
       "      <td>1094</td>\n",
       "      <td>24</td>\n",
       "      <td>2,3</td>\n",
       "      <td>609</td>\n",
       "      <td>45</td>\n",
       "      <td>1579</td>\n",
       "      <td>60</td>\n",
       "      <td>1276</td>\n",
       "      <td>620</td>\n",
       "      <td>10,7</td>\n",
       "      <td>59,7</td>\n",
       "      <td>0,7648</td>\n",
       "      <td>NaN</td>\n",
       "      <td>NaN</td>\n",
       "    </tr>\n",
       "    <tr>\n",
       "      <th>9</th>\n",
       "      <td>11/03/2004</td>\n",
       "      <td>03:00:00</td>\n",
       "      <td>0,6</td>\n",
       "      <td>1010</td>\n",
       "      <td>19</td>\n",
       "      <td>1,7</td>\n",
       "      <td>561</td>\n",
       "      <td>-200</td>\n",
       "      <td>1705</td>\n",
       "      <td>-200</td>\n",
       "      <td>1235</td>\n",
       "      <td>501</td>\n",
       "      <td>10,3</td>\n",
       "      <td>60,2</td>\n",
       "      <td>0,7517</td>\n",
       "      <td>NaN</td>\n",
       "      <td>NaN</td>\n",
       "    </tr>\n",
       "  </tbody>\n",
       "</table>\n",
       "</div>"
      ],
      "text/plain": [
       "         Date      Time CO(GT)  PT08.S1(CO)  NMHC(GT) C6H6(GT)  PT08.S2(NMHC)  \\\n",
       "0  10/03/2004  18:00:00    2,6         1360       150     11,9           1046   \n",
       "1  10/03/2004  19:00:00      2         1292       112      9,4            955   \n",
       "2  10/03/2004  20:00:00    2,2         1402        88      9,0            939   \n",
       "3  10/03/2004  21:00:00    2,2         1376        80      9,2            948   \n",
       "4  10/03/2004  22:00:00    1,6         1272        51      6,5            836   \n",
       "5  10/03/2004  23:00:00    1,2         1197        38      4,7            750   \n",
       "6  11/03/2004  00:00:00    1,2         1185        31      3,6            690   \n",
       "7  11/03/2004  01:00:00      1         1136        31      3,3            672   \n",
       "8  11/03/2004  02:00:00    0,9         1094        24      2,3            609   \n",
       "9  11/03/2004  03:00:00    0,6         1010        19      1,7            561   \n",
       "\n",
       "   NOx(GT)  PT08.S3(NOx)  NO2(GT)  PT08.S4(NO2)  PT08.S5(O3)     T    RH  \\\n",
       "0      166          1056      113          1692         1268  13,6  48,9   \n",
       "1      103          1174       92          1559          972  13,3  47,7   \n",
       "2      131          1140      114          1555         1074  11,9  54,0   \n",
       "3      172          1092      122          1584         1203  11,0  60,0   \n",
       "4      131          1205      116          1490         1110  11,2  59,6   \n",
       "5       89          1337       96          1393          949  11,2  59,2   \n",
       "6       62          1462       77          1333          733  11,3  56,8   \n",
       "7       62          1453       76          1333          730  10,7  60,0   \n",
       "8       45          1579       60          1276          620  10,7  59,7   \n",
       "9     -200          1705     -200          1235          501  10,3  60,2   \n",
       "\n",
       "       AH  Unnamed: 15  Unnamed: 16  \n",
       "0  0,7578          NaN          NaN  \n",
       "1  0,7255          NaN          NaN  \n",
       "2  0,7502          NaN          NaN  \n",
       "3  0,7867          NaN          NaN  \n",
       "4  0,7888          NaN          NaN  \n",
       "5  0,7848          NaN          NaN  \n",
       "6  0,7603          NaN          NaN  \n",
       "7  0,7702          NaN          NaN  \n",
       "8  0,7648          NaN          NaN  \n",
       "9  0,7517          NaN          NaN  "
      ]
     },
     "execution_count": 39,
     "metadata": {},
     "output_type": "execute_result"
    }
   ],
   "source": [
    "air_quality_df.Time = air_quality_df[['Time']].apply(lambda x: x.str.replace('.', ':'))\n",
    "air_quality_df.head(10)\n",
    "#eval\n",
    "#query"
   ]
  },
  {
   "cell_type": "code",
   "execution_count": 40,
   "metadata": {
    "slideshow": {
     "slide_type": "subslide"
    }
   },
   "outputs": [],
   "source": [
    "air_quality_df.to_csv('AirQualityUCI1.csv', index=False)"
   ]
  },
  {
   "cell_type": "code",
   "execution_count": null,
   "metadata": {
    "slideshow": {
     "slide_type": "fragment"
    }
   },
   "outputs": [],
   "source": [
    "# !head -n 10 AirQualityUCI1.csv"
   ]
  },
  {
   "cell_type": "code",
   "execution_count": null,
   "metadata": {},
   "outputs": [],
   "source": [
    "# ! ls *.csv"
   ]
  },
  {
   "cell_type": "code",
   "execution_count": null,
   "metadata": {},
   "outputs": [],
   "source": []
  },
  {
   "cell_type": "code",
   "execution_count": 41,
   "metadata": {},
   "outputs": [
    {
     "data": {
      "text/html": [
       "<div>\n",
       "<style scoped>\n",
       "    .dataframe tbody tr th:only-of-type {\n",
       "        vertical-align: middle;\n",
       "    }\n",
       "\n",
       "    .dataframe tbody tr th {\n",
       "        vertical-align: top;\n",
       "    }\n",
       "\n",
       "    .dataframe thead th {\n",
       "        text-align: right;\n",
       "    }\n",
       "</style>\n",
       "<table border=\"1\" class=\"dataframe\">\n",
       "  <thead>\n",
       "    <tr style=\"text-align: right;\">\n",
       "      <th></th>\n",
       "      <th>CO(GT)</th>\n",
       "      <th>PT08.S1(CO)</th>\n",
       "      <th>NMHC(GT)</th>\n",
       "      <th>C6H6(GT)</th>\n",
       "      <th>PT08.S2(NMHC)</th>\n",
       "      <th>NOx(GT)</th>\n",
       "      <th>PT08.S3(NOx)</th>\n",
       "      <th>NO2(GT)</th>\n",
       "      <th>PT08.S4(NO2)</th>\n",
       "      <th>PT08.S5(O3)</th>\n",
       "      <th>T</th>\n",
       "      <th>RH</th>\n",
       "      <th>AH</th>\n",
       "      <th>Unnamed: 15</th>\n",
       "      <th>Unnamed: 16</th>\n",
       "    </tr>\n",
       "    <tr>\n",
       "      <th>Date_Time</th>\n",
       "      <th></th>\n",
       "      <th></th>\n",
       "      <th></th>\n",
       "      <th></th>\n",
       "      <th></th>\n",
       "      <th></th>\n",
       "      <th></th>\n",
       "      <th></th>\n",
       "      <th></th>\n",
       "      <th></th>\n",
       "      <th></th>\n",
       "      <th></th>\n",
       "      <th></th>\n",
       "      <th></th>\n",
       "      <th></th>\n",
       "    </tr>\n",
       "  </thead>\n",
       "  <tbody>\n",
       "    <tr>\n",
       "      <th>2004-10-03 18:00:00</th>\n",
       "      <td>2,6</td>\n",
       "      <td>1360</td>\n",
       "      <td>150</td>\n",
       "      <td>11,9</td>\n",
       "      <td>1046</td>\n",
       "      <td>166</td>\n",
       "      <td>1056</td>\n",
       "      <td>113</td>\n",
       "      <td>1692</td>\n",
       "      <td>1268</td>\n",
       "      <td>13,6</td>\n",
       "      <td>48,9</td>\n",
       "      <td>0,7578</td>\n",
       "      <td>NaN</td>\n",
       "      <td>NaN</td>\n",
       "    </tr>\n",
       "    <tr>\n",
       "      <th>2004-10-03 19:00:00</th>\n",
       "      <td>2</td>\n",
       "      <td>1292</td>\n",
       "      <td>112</td>\n",
       "      <td>9,4</td>\n",
       "      <td>955</td>\n",
       "      <td>103</td>\n",
       "      <td>1174</td>\n",
       "      <td>92</td>\n",
       "      <td>1559</td>\n",
       "      <td>972</td>\n",
       "      <td>13,3</td>\n",
       "      <td>47,7</td>\n",
       "      <td>0,7255</td>\n",
       "      <td>NaN</td>\n",
       "      <td>NaN</td>\n",
       "    </tr>\n",
       "    <tr>\n",
       "      <th>2004-10-03 20:00:00</th>\n",
       "      <td>2,2</td>\n",
       "      <td>1402</td>\n",
       "      <td>88</td>\n",
       "      <td>9,0</td>\n",
       "      <td>939</td>\n",
       "      <td>131</td>\n",
       "      <td>1140</td>\n",
       "      <td>114</td>\n",
       "      <td>1555</td>\n",
       "      <td>1074</td>\n",
       "      <td>11,9</td>\n",
       "      <td>54,0</td>\n",
       "      <td>0,7502</td>\n",
       "      <td>NaN</td>\n",
       "      <td>NaN</td>\n",
       "    </tr>\n",
       "    <tr>\n",
       "      <th>2004-10-03 21:00:00</th>\n",
       "      <td>2,2</td>\n",
       "      <td>1376</td>\n",
       "      <td>80</td>\n",
       "      <td>9,2</td>\n",
       "      <td>948</td>\n",
       "      <td>172</td>\n",
       "      <td>1092</td>\n",
       "      <td>122</td>\n",
       "      <td>1584</td>\n",
       "      <td>1203</td>\n",
       "      <td>11,0</td>\n",
       "      <td>60,0</td>\n",
       "      <td>0,7867</td>\n",
       "      <td>NaN</td>\n",
       "      <td>NaN</td>\n",
       "    </tr>\n",
       "    <tr>\n",
       "      <th>2004-10-03 22:00:00</th>\n",
       "      <td>1,6</td>\n",
       "      <td>1272</td>\n",
       "      <td>51</td>\n",
       "      <td>6,5</td>\n",
       "      <td>836</td>\n",
       "      <td>131</td>\n",
       "      <td>1205</td>\n",
       "      <td>116</td>\n",
       "      <td>1490</td>\n",
       "      <td>1110</td>\n",
       "      <td>11,2</td>\n",
       "      <td>59,6</td>\n",
       "      <td>0,7888</td>\n",
       "      <td>NaN</td>\n",
       "      <td>NaN</td>\n",
       "    </tr>\n",
       "    <tr>\n",
       "      <th>2004-10-03 23:00:00</th>\n",
       "      <td>1,2</td>\n",
       "      <td>1197</td>\n",
       "      <td>38</td>\n",
       "      <td>4,7</td>\n",
       "      <td>750</td>\n",
       "      <td>89</td>\n",
       "      <td>1337</td>\n",
       "      <td>96</td>\n",
       "      <td>1393</td>\n",
       "      <td>949</td>\n",
       "      <td>11,2</td>\n",
       "      <td>59,2</td>\n",
       "      <td>0,7848</td>\n",
       "      <td>NaN</td>\n",
       "      <td>NaN</td>\n",
       "    </tr>\n",
       "    <tr>\n",
       "      <th>2004-11-03 00:00:00</th>\n",
       "      <td>1,2</td>\n",
       "      <td>1185</td>\n",
       "      <td>31</td>\n",
       "      <td>3,6</td>\n",
       "      <td>690</td>\n",
       "      <td>62</td>\n",
       "      <td>1462</td>\n",
       "      <td>77</td>\n",
       "      <td>1333</td>\n",
       "      <td>733</td>\n",
       "      <td>11,3</td>\n",
       "      <td>56,8</td>\n",
       "      <td>0,7603</td>\n",
       "      <td>NaN</td>\n",
       "      <td>NaN</td>\n",
       "    </tr>\n",
       "    <tr>\n",
       "      <th>2004-11-03 01:00:00</th>\n",
       "      <td>1</td>\n",
       "      <td>1136</td>\n",
       "      <td>31</td>\n",
       "      <td>3,3</td>\n",
       "      <td>672</td>\n",
       "      <td>62</td>\n",
       "      <td>1453</td>\n",
       "      <td>76</td>\n",
       "      <td>1333</td>\n",
       "      <td>730</td>\n",
       "      <td>10,7</td>\n",
       "      <td>60,0</td>\n",
       "      <td>0,7702</td>\n",
       "      <td>NaN</td>\n",
       "      <td>NaN</td>\n",
       "    </tr>\n",
       "    <tr>\n",
       "      <th>2004-11-03 02:00:00</th>\n",
       "      <td>0,9</td>\n",
       "      <td>1094</td>\n",
       "      <td>24</td>\n",
       "      <td>2,3</td>\n",
       "      <td>609</td>\n",
       "      <td>45</td>\n",
       "      <td>1579</td>\n",
       "      <td>60</td>\n",
       "      <td>1276</td>\n",
       "      <td>620</td>\n",
       "      <td>10,7</td>\n",
       "      <td>59,7</td>\n",
       "      <td>0,7648</td>\n",
       "      <td>NaN</td>\n",
       "      <td>NaN</td>\n",
       "    </tr>\n",
       "    <tr>\n",
       "      <th>2004-11-03 03:00:00</th>\n",
       "      <td>0,6</td>\n",
       "      <td>1010</td>\n",
       "      <td>19</td>\n",
       "      <td>1,7</td>\n",
       "      <td>561</td>\n",
       "      <td>-200</td>\n",
       "      <td>1705</td>\n",
       "      <td>-200</td>\n",
       "      <td>1235</td>\n",
       "      <td>501</td>\n",
       "      <td>10,3</td>\n",
       "      <td>60,2</td>\n",
       "      <td>0,7517</td>\n",
       "      <td>NaN</td>\n",
       "      <td>NaN</td>\n",
       "    </tr>\n",
       "  </tbody>\n",
       "</table>\n",
       "</div>"
      ],
      "text/plain": [
       "                    CO(GT)  PT08.S1(CO)  NMHC(GT) C6H6(GT)  PT08.S2(NMHC)  \\\n",
       "Date_Time                                                                   \n",
       "2004-10-03 18:00:00    2,6         1360       150     11,9           1046   \n",
       "2004-10-03 19:00:00      2         1292       112      9,4            955   \n",
       "2004-10-03 20:00:00    2,2         1402        88      9,0            939   \n",
       "2004-10-03 21:00:00    2,2         1376        80      9,2            948   \n",
       "2004-10-03 22:00:00    1,6         1272        51      6,5            836   \n",
       "2004-10-03 23:00:00    1,2         1197        38      4,7            750   \n",
       "2004-11-03 00:00:00    1,2         1185        31      3,6            690   \n",
       "2004-11-03 01:00:00      1         1136        31      3,3            672   \n",
       "2004-11-03 02:00:00    0,9         1094        24      2,3            609   \n",
       "2004-11-03 03:00:00    0,6         1010        19      1,7            561   \n",
       "\n",
       "                     NOx(GT)  PT08.S3(NOx)  NO2(GT)  PT08.S4(NO2)  \\\n",
       "Date_Time                                                           \n",
       "2004-10-03 18:00:00      166          1056      113          1692   \n",
       "2004-10-03 19:00:00      103          1174       92          1559   \n",
       "2004-10-03 20:00:00      131          1140      114          1555   \n",
       "2004-10-03 21:00:00      172          1092      122          1584   \n",
       "2004-10-03 22:00:00      131          1205      116          1490   \n",
       "2004-10-03 23:00:00       89          1337       96          1393   \n",
       "2004-11-03 00:00:00       62          1462       77          1333   \n",
       "2004-11-03 01:00:00       62          1453       76          1333   \n",
       "2004-11-03 02:00:00       45          1579       60          1276   \n",
       "2004-11-03 03:00:00     -200          1705     -200          1235   \n",
       "\n",
       "                     PT08.S5(O3)     T    RH      AH  Unnamed: 15  Unnamed: 16  \n",
       "Date_Time                                                                       \n",
       "2004-10-03 18:00:00         1268  13,6  48,9  0,7578          NaN          NaN  \n",
       "2004-10-03 19:00:00          972  13,3  47,7  0,7255          NaN          NaN  \n",
       "2004-10-03 20:00:00         1074  11,9  54,0  0,7502          NaN          NaN  \n",
       "2004-10-03 21:00:00         1203  11,0  60,0  0,7867          NaN          NaN  \n",
       "2004-10-03 22:00:00         1110  11,2  59,6  0,7888          NaN          NaN  \n",
       "2004-10-03 23:00:00          949  11,2  59,2  0,7848          NaN          NaN  \n",
       "2004-11-03 00:00:00          733  11,3  56,8  0,7603          NaN          NaN  \n",
       "2004-11-03 01:00:00          730  10,7  60,0  0,7702          NaN          NaN  \n",
       "2004-11-03 02:00:00          620  10,7  59,7  0,7648          NaN          NaN  \n",
       "2004-11-03 03:00:00          501  10,3  60,2  0,7517          NaN          NaN  "
      ]
     },
     "execution_count": 41,
     "metadata": {},
     "output_type": "execute_result"
    }
   ],
   "source": [
    "air_quality_df0 = pd.read_csv('AirQualityUCI1.csv',sep= ',',\n",
    "                index_col=0, parse_dates=[[0,1]], infer_datetime_format= True)\n",
    "air_quality_df0.head(10)"
   ]
  },
  {
   "cell_type": "code",
   "execution_count": 42,
   "metadata": {
    "slideshow": {
     "slide_type": "subslide"
    }
   },
   "outputs": [
    {
     "data": {
      "text/plain": [
       "DatetimeIndex(['2004-10-03 18:00:00', '2004-10-03 19:00:00',\n",
       "               '2004-10-03 20:00:00', '2004-10-03 21:00:00',\n",
       "               '2004-10-03 22:00:00', '2004-10-03 23:00:00',\n",
       "               '2004-11-03 00:00:00', '2004-11-03 01:00:00',\n",
       "               '2004-11-03 02:00:00', '2004-11-03 03:00:00',\n",
       "               ...\n",
       "               '2005-04-04 05:00:00', '2005-04-04 06:00:00',\n",
       "               '2005-04-04 07:00:00', '2005-04-04 08:00:00',\n",
       "               '2005-04-04 09:00:00', '2005-04-04 10:00:00',\n",
       "               '2005-04-04 11:00:00', '2005-04-04 12:00:00',\n",
       "               '2005-04-04 13:00:00', '2005-04-04 14:00:00'],\n",
       "              dtype='datetime64[ns]', name='Date_Time', length=9357, freq=None)"
      ]
     },
     "execution_count": 42,
     "metadata": {},
     "output_type": "execute_result"
    }
   ],
   "source": [
    "air_quality_df0.index"
   ]
  },
  {
   "cell_type": "markdown",
   "metadata": {},
   "source": [
    "# Let's say we want to avoid Time manipulation and   write custom date parser for reading csv file"
   ]
  },
  {
   "cell_type": "code",
   "execution_count": 50,
   "metadata": {
    "slideshow": {
     "slide_type": "subslide"
    }
   },
   "outputs": [
    {
     "data": {
      "text/html": [
       "<div>\n",
       "<style scoped>\n",
       "    .dataframe tbody tr th:only-of-type {\n",
       "        vertical-align: middle;\n",
       "    }\n",
       "\n",
       "    .dataframe tbody tr th {\n",
       "        vertical-align: top;\n",
       "    }\n",
       "\n",
       "    .dataframe thead th {\n",
       "        text-align: right;\n",
       "    }\n",
       "</style>\n",
       "<table border=\"1\" class=\"dataframe\">\n",
       "  <thead>\n",
       "    <tr style=\"text-align: right;\">\n",
       "      <th></th>\n",
       "      <th>CO(GT)</th>\n",
       "      <th>PT08.S1(CO)</th>\n",
       "      <th>NMHC(GT)</th>\n",
       "      <th>C6H6(GT)</th>\n",
       "      <th>PT08.S2(NMHC)</th>\n",
       "      <th>NOx(GT)</th>\n",
       "      <th>PT08.S3(NOx)</th>\n",
       "      <th>NO2(GT)</th>\n",
       "      <th>PT08.S4(NO2)</th>\n",
       "      <th>PT08.S5(O3)</th>\n",
       "      <th>T</th>\n",
       "      <th>RH</th>\n",
       "      <th>AH</th>\n",
       "      <th>Unnamed: 15</th>\n",
       "      <th>Unnamed: 16</th>\n",
       "    </tr>\n",
       "    <tr>\n",
       "      <th>Date_Time</th>\n",
       "      <th></th>\n",
       "      <th></th>\n",
       "      <th></th>\n",
       "      <th></th>\n",
       "      <th></th>\n",
       "      <th></th>\n",
       "      <th></th>\n",
       "      <th></th>\n",
       "      <th></th>\n",
       "      <th></th>\n",
       "      <th></th>\n",
       "      <th></th>\n",
       "      <th></th>\n",
       "      <th></th>\n",
       "      <th></th>\n",
       "    </tr>\n",
       "  </thead>\n",
       "  <tbody>\n",
       "    <tr>\n",
       "      <th>10/03/2004 18.00.00</th>\n",
       "      <td>2,6</td>\n",
       "      <td>1360</td>\n",
       "      <td>150</td>\n",
       "      <td>11,9</td>\n",
       "      <td>1046</td>\n",
       "      <td>166</td>\n",
       "      <td>1056</td>\n",
       "      <td>113</td>\n",
       "      <td>1692</td>\n",
       "      <td>1268</td>\n",
       "      <td>13,6</td>\n",
       "      <td>48,9</td>\n",
       "      <td>0,7578</td>\n",
       "      <td>NaN</td>\n",
       "      <td>NaN</td>\n",
       "    </tr>\n",
       "    <tr>\n",
       "      <th>10/03/2004 19.00.00</th>\n",
       "      <td>2</td>\n",
       "      <td>1292</td>\n",
       "      <td>112</td>\n",
       "      <td>9,4</td>\n",
       "      <td>955</td>\n",
       "      <td>103</td>\n",
       "      <td>1174</td>\n",
       "      <td>92</td>\n",
       "      <td>1559</td>\n",
       "      <td>972</td>\n",
       "      <td>13,3</td>\n",
       "      <td>47,7</td>\n",
       "      <td>0,7255</td>\n",
       "      <td>NaN</td>\n",
       "      <td>NaN</td>\n",
       "    </tr>\n",
       "    <tr>\n",
       "      <th>10/03/2004 20.00.00</th>\n",
       "      <td>2,2</td>\n",
       "      <td>1402</td>\n",
       "      <td>88</td>\n",
       "      <td>9,0</td>\n",
       "      <td>939</td>\n",
       "      <td>131</td>\n",
       "      <td>1140</td>\n",
       "      <td>114</td>\n",
       "      <td>1555</td>\n",
       "      <td>1074</td>\n",
       "      <td>11,9</td>\n",
       "      <td>54,0</td>\n",
       "      <td>0,7502</td>\n",
       "      <td>NaN</td>\n",
       "      <td>NaN</td>\n",
       "    </tr>\n",
       "    <tr>\n",
       "      <th>10/03/2004 21.00.00</th>\n",
       "      <td>2,2</td>\n",
       "      <td>1376</td>\n",
       "      <td>80</td>\n",
       "      <td>9,2</td>\n",
       "      <td>948</td>\n",
       "      <td>172</td>\n",
       "      <td>1092</td>\n",
       "      <td>122</td>\n",
       "      <td>1584</td>\n",
       "      <td>1203</td>\n",
       "      <td>11,0</td>\n",
       "      <td>60,0</td>\n",
       "      <td>0,7867</td>\n",
       "      <td>NaN</td>\n",
       "      <td>NaN</td>\n",
       "    </tr>\n",
       "    <tr>\n",
       "      <th>10/03/2004 22.00.00</th>\n",
       "      <td>1,6</td>\n",
       "      <td>1272</td>\n",
       "      <td>51</td>\n",
       "      <td>6,5</td>\n",
       "      <td>836</td>\n",
       "      <td>131</td>\n",
       "      <td>1205</td>\n",
       "      <td>116</td>\n",
       "      <td>1490</td>\n",
       "      <td>1110</td>\n",
       "      <td>11,2</td>\n",
       "      <td>59,6</td>\n",
       "      <td>0,7888</td>\n",
       "      <td>NaN</td>\n",
       "      <td>NaN</td>\n",
       "    </tr>\n",
       "    <tr>\n",
       "      <th>10/03/2004 23.00.00</th>\n",
       "      <td>1,2</td>\n",
       "      <td>1197</td>\n",
       "      <td>38</td>\n",
       "      <td>4,7</td>\n",
       "      <td>750</td>\n",
       "      <td>89</td>\n",
       "      <td>1337</td>\n",
       "      <td>96</td>\n",
       "      <td>1393</td>\n",
       "      <td>949</td>\n",
       "      <td>11,2</td>\n",
       "      <td>59,2</td>\n",
       "      <td>0,7848</td>\n",
       "      <td>NaN</td>\n",
       "      <td>NaN</td>\n",
       "    </tr>\n",
       "    <tr>\n",
       "      <th>11/03/2004 00.00.00</th>\n",
       "      <td>1,2</td>\n",
       "      <td>1185</td>\n",
       "      <td>31</td>\n",
       "      <td>3,6</td>\n",
       "      <td>690</td>\n",
       "      <td>62</td>\n",
       "      <td>1462</td>\n",
       "      <td>77</td>\n",
       "      <td>1333</td>\n",
       "      <td>733</td>\n",
       "      <td>11,3</td>\n",
       "      <td>56,8</td>\n",
       "      <td>0,7603</td>\n",
       "      <td>NaN</td>\n",
       "      <td>NaN</td>\n",
       "    </tr>\n",
       "    <tr>\n",
       "      <th>11/03/2004 01.00.00</th>\n",
       "      <td>1</td>\n",
       "      <td>1136</td>\n",
       "      <td>31</td>\n",
       "      <td>3,3</td>\n",
       "      <td>672</td>\n",
       "      <td>62</td>\n",
       "      <td>1453</td>\n",
       "      <td>76</td>\n",
       "      <td>1333</td>\n",
       "      <td>730</td>\n",
       "      <td>10,7</td>\n",
       "      <td>60,0</td>\n",
       "      <td>0,7702</td>\n",
       "      <td>NaN</td>\n",
       "      <td>NaN</td>\n",
       "    </tr>\n",
       "    <tr>\n",
       "      <th>11/03/2004 02.00.00</th>\n",
       "      <td>0,9</td>\n",
       "      <td>1094</td>\n",
       "      <td>24</td>\n",
       "      <td>2,3</td>\n",
       "      <td>609</td>\n",
       "      <td>45</td>\n",
       "      <td>1579</td>\n",
       "      <td>60</td>\n",
       "      <td>1276</td>\n",
       "      <td>620</td>\n",
       "      <td>10,7</td>\n",
       "      <td>59,7</td>\n",
       "      <td>0,7648</td>\n",
       "      <td>NaN</td>\n",
       "      <td>NaN</td>\n",
       "    </tr>\n",
       "    <tr>\n",
       "      <th>11/03/2004 03.00.00</th>\n",
       "      <td>0,6</td>\n",
       "      <td>1010</td>\n",
       "      <td>19</td>\n",
       "      <td>1,7</td>\n",
       "      <td>561</td>\n",
       "      <td>-200</td>\n",
       "      <td>1705</td>\n",
       "      <td>-200</td>\n",
       "      <td>1235</td>\n",
       "      <td>501</td>\n",
       "      <td>10,3</td>\n",
       "      <td>60,2</td>\n",
       "      <td>0,7517</td>\n",
       "      <td>NaN</td>\n",
       "      <td>NaN</td>\n",
       "    </tr>\n",
       "  </tbody>\n",
       "</table>\n",
       "</div>"
      ],
      "text/plain": [
       "                    CO(GT)  PT08.S1(CO)  NMHC(GT) C6H6(GT)  PT08.S2(NMHC)  \\\n",
       "Date_Time                                                                   \n",
       "10/03/2004 18.00.00    2,6         1360       150     11,9           1046   \n",
       "10/03/2004 19.00.00      2         1292       112      9,4            955   \n",
       "10/03/2004 20.00.00    2,2         1402        88      9,0            939   \n",
       "10/03/2004 21.00.00    2,2         1376        80      9,2            948   \n",
       "10/03/2004 22.00.00    1,6         1272        51      6,5            836   \n",
       "10/03/2004 23.00.00    1,2         1197        38      4,7            750   \n",
       "11/03/2004 00.00.00    1,2         1185        31      3,6            690   \n",
       "11/03/2004 01.00.00      1         1136        31      3,3            672   \n",
       "11/03/2004 02.00.00    0,9         1094        24      2,3            609   \n",
       "11/03/2004 03.00.00    0,6         1010        19      1,7            561   \n",
       "\n",
       "                     NOx(GT)  PT08.S3(NOx)  NO2(GT)  PT08.S4(NO2)  \\\n",
       "Date_Time                                                           \n",
       "10/03/2004 18.00.00      166          1056      113          1692   \n",
       "10/03/2004 19.00.00      103          1174       92          1559   \n",
       "10/03/2004 20.00.00      131          1140      114          1555   \n",
       "10/03/2004 21.00.00      172          1092      122          1584   \n",
       "10/03/2004 22.00.00      131          1205      116          1490   \n",
       "10/03/2004 23.00.00       89          1337       96          1393   \n",
       "11/03/2004 00.00.00       62          1462       77          1333   \n",
       "11/03/2004 01.00.00       62          1453       76          1333   \n",
       "11/03/2004 02.00.00       45          1579       60          1276   \n",
       "11/03/2004 03.00.00     -200          1705     -200          1235   \n",
       "\n",
       "                     PT08.S5(O3)     T    RH      AH  Unnamed: 15  Unnamed: 16  \n",
       "Date_Time                                                                       \n",
       "10/03/2004 18.00.00         1268  13,6  48,9  0,7578          NaN          NaN  \n",
       "10/03/2004 19.00.00          972  13,3  47,7  0,7255          NaN          NaN  \n",
       "10/03/2004 20.00.00         1074  11,9  54,0  0,7502          NaN          NaN  \n",
       "10/03/2004 21.00.00         1203  11,0  60,0  0,7867          NaN          NaN  \n",
       "10/03/2004 22.00.00         1110  11,2  59,6  0,7888          NaN          NaN  \n",
       "10/03/2004 23.00.00          949  11,2  59,2  0,7848          NaN          NaN  \n",
       "11/03/2004 00.00.00          733  11,3  56,8  0,7603          NaN          NaN  \n",
       "11/03/2004 01.00.00          730  10,7  60,0  0,7702          NaN          NaN  \n",
       "11/03/2004 02.00.00          620  10,7  59,7  0,7648          NaN          NaN  \n",
       "11/03/2004 03.00.00          501  10,3  60,2  0,7517          NaN          NaN  "
      ]
     },
     "execution_count": 50,
     "metadata": {},
     "output_type": "execute_result"
    }
   ],
   "source": [
    "air_quality_df1 = pd.read_csv('AirQualityUCI_clean.csv',sep= ';',\n",
    "                index_col=0,parse_dates = [[0, 1]])\n",
    "air_quality_df1.head(10)"
   ]
  },
  {
   "cell_type": "code",
   "execution_count": 51,
   "metadata": {
    "slideshow": {
     "slide_type": "subslide"
    }
   },
   "outputs": [
    {
     "data": {
      "text/plain": [
       "Index(['10/03/2004 18.00.00', '10/03/2004 19.00.00', '10/03/2004 20.00.00',\n",
       "       '10/03/2004 21.00.00', '10/03/2004 22.00.00', '10/03/2004 23.00.00',\n",
       "       '11/03/2004 00.00.00', '11/03/2004 01.00.00', '11/03/2004 02.00.00',\n",
       "       '11/03/2004 03.00.00',\n",
       "       ...\n",
       "       '04/04/2005 05.00.00', '04/04/2005 06.00.00', '04/04/2005 07.00.00',\n",
       "       '04/04/2005 08.00.00', '04/04/2005 09.00.00', '04/04/2005 10.00.00',\n",
       "       '04/04/2005 11.00.00', '04/04/2005 12.00.00', '04/04/2005 13.00.00',\n",
       "       '04/04/2005 14.00.00'],\n",
       "      dtype='object', name='Date_Time', length=9357)"
      ]
     },
     "execution_count": 51,
     "metadata": {},
     "output_type": "execute_result"
    }
   ],
   "source": [
    "air_quality_df1.index"
   ]
  },
  {
   "cell_type": "markdown",
   "metadata": {
    "slideshow": {
     "slide_type": "subslide"
    }
   },
   "source": [
    "# side: string to datetime object"
   ]
  },
  {
   "cell_type": "code",
   "execution_count": 52,
   "metadata": {
    "slideshow": {
     "slide_type": "fragment"
    }
   },
   "outputs": [
    {
     "name": "stderr",
     "output_type": "stream",
     "text": [
      "/Library/Frameworks/Python.framework/Versions/3.7/lib/python3.7/site-packages/ipykernel_launcher.py:2: FutureWarning: The pandas.datetime class is deprecated and will be removed from pandas in a future version. Import from datetime module instead.\n",
      "  \n"
     ]
    },
    {
     "data": {
      "text/plain": [
       "datetime.datetime(2019, 3, 11, 0, 0)"
      ]
     },
     "execution_count": 52,
     "metadata": {},
     "output_type": "execute_result"
    }
   ],
   "source": [
    "date_str = '3$11$19'\n",
    "pd.datetime.strptime(date_str, '%m$%d$%y')"
   ]
  },
  {
   "cell_type": "code",
   "execution_count": null,
   "metadata": {},
   "outputs": [],
   "source": [
    "#It is possible to have custom date formats\n",
    "# dates = []"
   ]
  },
  {
   "cell_type": "markdown",
   "metadata": {
    "slideshow": {
     "slide_type": "subslide"
    }
   },
   "source": [
    "## List of formating options"
   ]
  },
  {
   "cell_type": "code",
   "execution_count": 53,
   "metadata": {
    "slideshow": {
     "slide_type": "subslide"
    }
   },
   "outputs": [],
   "source": [
    "tbls = pd.read_html('http://strftime.org/')"
   ]
  },
  {
   "cell_type": "code",
   "execution_count": 54,
   "metadata": {
    "slideshow": {
     "slide_type": "fragment"
    }
   },
   "outputs": [
    {
     "data": {
      "text/html": [
       "<div>\n",
       "<style scoped>\n",
       "    .dataframe tbody tr th:only-of-type {\n",
       "        vertical-align: middle;\n",
       "    }\n",
       "\n",
       "    .dataframe tbody tr th {\n",
       "        vertical-align: top;\n",
       "    }\n",
       "\n",
       "    .dataframe thead th {\n",
       "        text-align: right;\n",
       "    }\n",
       "</style>\n",
       "<table border=\"1\" class=\"dataframe\">\n",
       "  <thead>\n",
       "    <tr style=\"text-align: right;\">\n",
       "      <th></th>\n",
       "      <th>Code</th>\n",
       "      <th>Meaning</th>\n",
       "      <th>Example</th>\n",
       "    </tr>\n",
       "  </thead>\n",
       "  <tbody>\n",
       "    <tr>\n",
       "      <th>0</th>\n",
       "      <td>%a</td>\n",
       "      <td>Weekday as locale’s abbreviated name.</td>\n",
       "      <td>Mon</td>\n",
       "    </tr>\n",
       "    <tr>\n",
       "      <th>1</th>\n",
       "      <td>%A</td>\n",
       "      <td>Weekday as locale’s full name.</td>\n",
       "      <td>Monday</td>\n",
       "    </tr>\n",
       "    <tr>\n",
       "      <th>2</th>\n",
       "      <td>%w</td>\n",
       "      <td>Weekday as a decimal number, where 0 is Sunday...</td>\n",
       "      <td>1</td>\n",
       "    </tr>\n",
       "    <tr>\n",
       "      <th>3</th>\n",
       "      <td>%d</td>\n",
       "      <td>Day of the month as a zero-padded decimal number.</td>\n",
       "      <td>30</td>\n",
       "    </tr>\n",
       "    <tr>\n",
       "      <th>4</th>\n",
       "      <td>%-d</td>\n",
       "      <td>Day of the month as a decimal number. (Platfor...</td>\n",
       "      <td>30</td>\n",
       "    </tr>\n",
       "    <tr>\n",
       "      <th>5</th>\n",
       "      <td>%b</td>\n",
       "      <td>Month as locale’s abbreviated name.</td>\n",
       "      <td>Sep</td>\n",
       "    </tr>\n",
       "    <tr>\n",
       "      <th>6</th>\n",
       "      <td>%B</td>\n",
       "      <td>Month as locale’s full name.</td>\n",
       "      <td>September</td>\n",
       "    </tr>\n",
       "    <tr>\n",
       "      <th>7</th>\n",
       "      <td>%m</td>\n",
       "      <td>Month as a zero-padded decimal number.</td>\n",
       "      <td>09</td>\n",
       "    </tr>\n",
       "    <tr>\n",
       "      <th>8</th>\n",
       "      <td>%-m</td>\n",
       "      <td>Month as a decimal number. (Platform specific)</td>\n",
       "      <td>9</td>\n",
       "    </tr>\n",
       "    <tr>\n",
       "      <th>9</th>\n",
       "      <td>%y</td>\n",
       "      <td>Year without century as a zero-padded decimal ...</td>\n",
       "      <td>13</td>\n",
       "    </tr>\n",
       "    <tr>\n",
       "      <th>10</th>\n",
       "      <td>%Y</td>\n",
       "      <td>Year with century as a decimal number.</td>\n",
       "      <td>2013</td>\n",
       "    </tr>\n",
       "    <tr>\n",
       "      <th>11</th>\n",
       "      <td>%H</td>\n",
       "      <td>Hour (24-hour clock) as a zero-padded decimal ...</td>\n",
       "      <td>07</td>\n",
       "    </tr>\n",
       "    <tr>\n",
       "      <th>12</th>\n",
       "      <td>%-H</td>\n",
       "      <td>Hour (24-hour clock) as a decimal number. (Pla...</td>\n",
       "      <td>7</td>\n",
       "    </tr>\n",
       "    <tr>\n",
       "      <th>13</th>\n",
       "      <td>%I</td>\n",
       "      <td>Hour (12-hour clock) as a zero-padded decimal ...</td>\n",
       "      <td>07</td>\n",
       "    </tr>\n",
       "    <tr>\n",
       "      <th>14</th>\n",
       "      <td>%-I</td>\n",
       "      <td>Hour (12-hour clock) as a decimal number. (Pla...</td>\n",
       "      <td>7</td>\n",
       "    </tr>\n",
       "    <tr>\n",
       "      <th>15</th>\n",
       "      <td>%p</td>\n",
       "      <td>Locale’s equivalent of either AM or PM.</td>\n",
       "      <td>AM</td>\n",
       "    </tr>\n",
       "    <tr>\n",
       "      <th>16</th>\n",
       "      <td>%M</td>\n",
       "      <td>Minute as a zero-padded decimal number.</td>\n",
       "      <td>06</td>\n",
       "    </tr>\n",
       "    <tr>\n",
       "      <th>17</th>\n",
       "      <td>%-M</td>\n",
       "      <td>Minute as a decimal number. (Platform specific)</td>\n",
       "      <td>6</td>\n",
       "    </tr>\n",
       "    <tr>\n",
       "      <th>18</th>\n",
       "      <td>%S</td>\n",
       "      <td>Second as a zero-padded decimal number.</td>\n",
       "      <td>05</td>\n",
       "    </tr>\n",
       "    <tr>\n",
       "      <th>19</th>\n",
       "      <td>%-S</td>\n",
       "      <td>Second as a decimal number. (Platform specific)</td>\n",
       "      <td>5</td>\n",
       "    </tr>\n",
       "    <tr>\n",
       "      <th>20</th>\n",
       "      <td>%f</td>\n",
       "      <td>Microsecond as a decimal number, zero-padded o...</td>\n",
       "      <td>000000</td>\n",
       "    </tr>\n",
       "    <tr>\n",
       "      <th>21</th>\n",
       "      <td>%z</td>\n",
       "      <td>UTC offset in the form +HHMM or -HHMM (empty s...</td>\n",
       "      <td>NaN</td>\n",
       "    </tr>\n",
       "    <tr>\n",
       "      <th>22</th>\n",
       "      <td>%Z</td>\n",
       "      <td>Time zone name (empty string if the object is ...</td>\n",
       "      <td>NaN</td>\n",
       "    </tr>\n",
       "    <tr>\n",
       "      <th>23</th>\n",
       "      <td>%j</td>\n",
       "      <td>Day of the year as a zero-padded decimal number.</td>\n",
       "      <td>273</td>\n",
       "    </tr>\n",
       "    <tr>\n",
       "      <th>24</th>\n",
       "      <td>%-j</td>\n",
       "      <td>Day of the year as a decimal number. (Platform...</td>\n",
       "      <td>273</td>\n",
       "    </tr>\n",
       "    <tr>\n",
       "      <th>25</th>\n",
       "      <td>%U</td>\n",
       "      <td>Week number of the year (Sunday as the first d...</td>\n",
       "      <td>39</td>\n",
       "    </tr>\n",
       "    <tr>\n",
       "      <th>26</th>\n",
       "      <td>%W</td>\n",
       "      <td>Week number of the year (Monday as the first d...</td>\n",
       "      <td>39</td>\n",
       "    </tr>\n",
       "    <tr>\n",
       "      <th>27</th>\n",
       "      <td>%c</td>\n",
       "      <td>Locale’s appropriate date and time representat...</td>\n",
       "      <td>Mon Sep 30 07:06:05 2013</td>\n",
       "    </tr>\n",
       "    <tr>\n",
       "      <th>28</th>\n",
       "      <td>%x</td>\n",
       "      <td>Locale’s appropriate date representation.</td>\n",
       "      <td>09/30/13</td>\n",
       "    </tr>\n",
       "    <tr>\n",
       "      <th>29</th>\n",
       "      <td>%X</td>\n",
       "      <td>Locale’s appropriate time representation.</td>\n",
       "      <td>07:06:05</td>\n",
       "    </tr>\n",
       "    <tr>\n",
       "      <th>30</th>\n",
       "      <td>%%</td>\n",
       "      <td>A literal '%' character.</td>\n",
       "      <td>%</td>\n",
       "    </tr>\n",
       "  </tbody>\n",
       "</table>\n",
       "</div>"
      ],
      "text/plain": [
       "   Code                                            Meaning  \\\n",
       "0    %a              Weekday as locale’s abbreviated name.   \n",
       "1    %A                     Weekday as locale’s full name.   \n",
       "2    %w  Weekday as a decimal number, where 0 is Sunday...   \n",
       "3    %d  Day of the month as a zero-padded decimal number.   \n",
       "4   %-d  Day of the month as a decimal number. (Platfor...   \n",
       "5    %b                Month as locale’s abbreviated name.   \n",
       "6    %B                       Month as locale’s full name.   \n",
       "7    %m             Month as a zero-padded decimal number.   \n",
       "8   %-m     Month as a decimal number. (Platform specific)   \n",
       "9    %y  Year without century as a zero-padded decimal ...   \n",
       "10   %Y             Year with century as a decimal number.   \n",
       "11   %H  Hour (24-hour clock) as a zero-padded decimal ...   \n",
       "12  %-H  Hour (24-hour clock) as a decimal number. (Pla...   \n",
       "13   %I  Hour (12-hour clock) as a zero-padded decimal ...   \n",
       "14  %-I  Hour (12-hour clock) as a decimal number. (Pla...   \n",
       "15   %p            Locale’s equivalent of either AM or PM.   \n",
       "16   %M            Minute as a zero-padded decimal number.   \n",
       "17  %-M    Minute as a decimal number. (Platform specific)   \n",
       "18   %S            Second as a zero-padded decimal number.   \n",
       "19  %-S    Second as a decimal number. (Platform specific)   \n",
       "20   %f  Microsecond as a decimal number, zero-padded o...   \n",
       "21   %z  UTC offset in the form +HHMM or -HHMM (empty s...   \n",
       "22   %Z  Time zone name (empty string if the object is ...   \n",
       "23   %j   Day of the year as a zero-padded decimal number.   \n",
       "24  %-j  Day of the year as a decimal number. (Platform...   \n",
       "25   %U  Week number of the year (Sunday as the first d...   \n",
       "26   %W  Week number of the year (Monday as the first d...   \n",
       "27   %c  Locale’s appropriate date and time representat...   \n",
       "28   %x          Locale’s appropriate date representation.   \n",
       "29   %X          Locale’s appropriate time representation.   \n",
       "30   %%                           A literal '%' character.   \n",
       "\n",
       "                     Example  \n",
       "0                        Mon  \n",
       "1                     Monday  \n",
       "2                          1  \n",
       "3                         30  \n",
       "4                         30  \n",
       "5                        Sep  \n",
       "6                  September  \n",
       "7                         09  \n",
       "8                          9  \n",
       "9                         13  \n",
       "10                      2013  \n",
       "11                        07  \n",
       "12                         7  \n",
       "13                        07  \n",
       "14                         7  \n",
       "15                        AM  \n",
       "16                        06  \n",
       "17                         6  \n",
       "18                        05  \n",
       "19                         5  \n",
       "20                    000000  \n",
       "21                       NaN  \n",
       "22                       NaN  \n",
       "23                       273  \n",
       "24                       273  \n",
       "25                        39  \n",
       "26                        39  \n",
       "27  Mon Sep 30 07:06:05 2013  \n",
       "28                  09/30/13  \n",
       "29                  07:06:05  \n",
       "30                         %  "
      ]
     },
     "execution_count": 54,
     "metadata": {},
     "output_type": "execute_result"
    }
   ],
   "source": [
    "tbls[0]"
   ]
  },
  {
   "cell_type": "code",
   "execution_count": 55,
   "metadata": {
    "slideshow": {
     "slide_type": "fragment"
    }
   },
   "outputs": [
    {
     "name": "stderr",
     "output_type": "stream",
     "text": [
      "/Library/Frameworks/Python.framework/Versions/3.7/lib/python3.7/site-packages/ipykernel_launcher.py:2: FutureWarning: The pandas.datetime class is deprecated and will be removed from pandas in a future version. Import from datetime module instead.\n",
      "  \n"
     ]
    }
   ],
   "source": [
    "# We can use a lambda function to customize how we deal with date formats\n",
    "my_date_parser= lambda y,t :pd.datetime.strptime('{}  {}'.format(y,t), \"%d/%m/%Y %H.%M.%S\") \n",
    "air_quality_df2 = pd.read_csv('AirQualityUCI_clean.csv',sep= ';',\n",
    "                index_col=0,parse_dates = [[0,1]], date_parser=my_date_parser )"
   ]
  },
  {
   "cell_type": "code",
   "execution_count": 56,
   "metadata": {
    "slideshow": {
     "slide_type": "fragment"
    }
   },
   "outputs": [
    {
     "data": {
      "text/plain": [
       "DatetimeIndex(['2004-03-10 18:00:00', '2004-03-10 19:00:00',\n",
       "               '2004-03-10 20:00:00', '2004-03-10 21:00:00',\n",
       "               '2004-03-10 22:00:00', '2004-03-10 23:00:00',\n",
       "               '2004-03-11 00:00:00', '2004-03-11 01:00:00',\n",
       "               '2004-03-11 02:00:00', '2004-03-11 03:00:00',\n",
       "               ...\n",
       "               '2005-04-04 05:00:00', '2005-04-04 06:00:00',\n",
       "               '2005-04-04 07:00:00', '2005-04-04 08:00:00',\n",
       "               '2005-04-04 09:00:00', '2005-04-04 10:00:00',\n",
       "               '2005-04-04 11:00:00', '2005-04-04 12:00:00',\n",
       "               '2005-04-04 13:00:00', '2005-04-04 14:00:00'],\n",
       "              dtype='datetime64[ns]', name='Date_Time', length=9357, freq=None)"
      ]
     },
     "execution_count": 56,
     "metadata": {},
     "output_type": "execute_result"
    }
   ],
   "source": [
    "air_quality_df2.index"
   ]
  },
  {
   "cell_type": "code",
   "execution_count": 57,
   "metadata": {},
   "outputs": [
    {
     "data": {
      "text/html": [
       "<div>\n",
       "<style scoped>\n",
       "    .dataframe tbody tr th:only-of-type {\n",
       "        vertical-align: middle;\n",
       "    }\n",
       "\n",
       "    .dataframe tbody tr th {\n",
       "        vertical-align: top;\n",
       "    }\n",
       "\n",
       "    .dataframe thead th {\n",
       "        text-align: right;\n",
       "    }\n",
       "</style>\n",
       "<table border=\"1\" class=\"dataframe\">\n",
       "  <thead>\n",
       "    <tr style=\"text-align: right;\">\n",
       "      <th></th>\n",
       "      <th>CO(GT)</th>\n",
       "      <th>PT08.S1(CO)</th>\n",
       "      <th>NMHC(GT)</th>\n",
       "      <th>C6H6(GT)</th>\n",
       "      <th>PT08.S2(NMHC)</th>\n",
       "      <th>NOx(GT)</th>\n",
       "      <th>PT08.S3(NOx)</th>\n",
       "      <th>NO2(GT)</th>\n",
       "      <th>PT08.S4(NO2)</th>\n",
       "      <th>PT08.S5(O3)</th>\n",
       "      <th>T</th>\n",
       "      <th>RH</th>\n",
       "      <th>AH</th>\n",
       "      <th>Unnamed: 15</th>\n",
       "      <th>Unnamed: 16</th>\n",
       "    </tr>\n",
       "    <tr>\n",
       "      <th>Date_Time</th>\n",
       "      <th></th>\n",
       "      <th></th>\n",
       "      <th></th>\n",
       "      <th></th>\n",
       "      <th></th>\n",
       "      <th></th>\n",
       "      <th></th>\n",
       "      <th></th>\n",
       "      <th></th>\n",
       "      <th></th>\n",
       "      <th></th>\n",
       "      <th></th>\n",
       "      <th></th>\n",
       "      <th></th>\n",
       "      <th></th>\n",
       "    </tr>\n",
       "  </thead>\n",
       "  <tbody>\n",
       "    <tr>\n",
       "      <th>2004-03-10 18:00:00</th>\n",
       "      <td>2,6</td>\n",
       "      <td>1360</td>\n",
       "      <td>150</td>\n",
       "      <td>11,9</td>\n",
       "      <td>1046</td>\n",
       "      <td>166</td>\n",
       "      <td>1056</td>\n",
       "      <td>113</td>\n",
       "      <td>1692</td>\n",
       "      <td>1268</td>\n",
       "      <td>13,6</td>\n",
       "      <td>48,9</td>\n",
       "      <td>0,7578</td>\n",
       "      <td>NaN</td>\n",
       "      <td>NaN</td>\n",
       "    </tr>\n",
       "    <tr>\n",
       "      <th>2004-03-10 19:00:00</th>\n",
       "      <td>2</td>\n",
       "      <td>1292</td>\n",
       "      <td>112</td>\n",
       "      <td>9,4</td>\n",
       "      <td>955</td>\n",
       "      <td>103</td>\n",
       "      <td>1174</td>\n",
       "      <td>92</td>\n",
       "      <td>1559</td>\n",
       "      <td>972</td>\n",
       "      <td>13,3</td>\n",
       "      <td>47,7</td>\n",
       "      <td>0,7255</td>\n",
       "      <td>NaN</td>\n",
       "      <td>NaN</td>\n",
       "    </tr>\n",
       "    <tr>\n",
       "      <th>2004-03-10 20:00:00</th>\n",
       "      <td>2,2</td>\n",
       "      <td>1402</td>\n",
       "      <td>88</td>\n",
       "      <td>9,0</td>\n",
       "      <td>939</td>\n",
       "      <td>131</td>\n",
       "      <td>1140</td>\n",
       "      <td>114</td>\n",
       "      <td>1555</td>\n",
       "      <td>1074</td>\n",
       "      <td>11,9</td>\n",
       "      <td>54,0</td>\n",
       "      <td>0,7502</td>\n",
       "      <td>NaN</td>\n",
       "      <td>NaN</td>\n",
       "    </tr>\n",
       "    <tr>\n",
       "      <th>2004-03-10 21:00:00</th>\n",
       "      <td>2,2</td>\n",
       "      <td>1376</td>\n",
       "      <td>80</td>\n",
       "      <td>9,2</td>\n",
       "      <td>948</td>\n",
       "      <td>172</td>\n",
       "      <td>1092</td>\n",
       "      <td>122</td>\n",
       "      <td>1584</td>\n",
       "      <td>1203</td>\n",
       "      <td>11,0</td>\n",
       "      <td>60,0</td>\n",
       "      <td>0,7867</td>\n",
       "      <td>NaN</td>\n",
       "      <td>NaN</td>\n",
       "    </tr>\n",
       "    <tr>\n",
       "      <th>2004-03-10 22:00:00</th>\n",
       "      <td>1,6</td>\n",
       "      <td>1272</td>\n",
       "      <td>51</td>\n",
       "      <td>6,5</td>\n",
       "      <td>836</td>\n",
       "      <td>131</td>\n",
       "      <td>1205</td>\n",
       "      <td>116</td>\n",
       "      <td>1490</td>\n",
       "      <td>1110</td>\n",
       "      <td>11,2</td>\n",
       "      <td>59,6</td>\n",
       "      <td>0,7888</td>\n",
       "      <td>NaN</td>\n",
       "      <td>NaN</td>\n",
       "    </tr>\n",
       "    <tr>\n",
       "      <th>2004-03-10 23:00:00</th>\n",
       "      <td>1,2</td>\n",
       "      <td>1197</td>\n",
       "      <td>38</td>\n",
       "      <td>4,7</td>\n",
       "      <td>750</td>\n",
       "      <td>89</td>\n",
       "      <td>1337</td>\n",
       "      <td>96</td>\n",
       "      <td>1393</td>\n",
       "      <td>949</td>\n",
       "      <td>11,2</td>\n",
       "      <td>59,2</td>\n",
       "      <td>0,7848</td>\n",
       "      <td>NaN</td>\n",
       "      <td>NaN</td>\n",
       "    </tr>\n",
       "    <tr>\n",
       "      <th>2004-03-11 00:00:00</th>\n",
       "      <td>1,2</td>\n",
       "      <td>1185</td>\n",
       "      <td>31</td>\n",
       "      <td>3,6</td>\n",
       "      <td>690</td>\n",
       "      <td>62</td>\n",
       "      <td>1462</td>\n",
       "      <td>77</td>\n",
       "      <td>1333</td>\n",
       "      <td>733</td>\n",
       "      <td>11,3</td>\n",
       "      <td>56,8</td>\n",
       "      <td>0,7603</td>\n",
       "      <td>NaN</td>\n",
       "      <td>NaN</td>\n",
       "    </tr>\n",
       "    <tr>\n",
       "      <th>2004-03-11 01:00:00</th>\n",
       "      <td>1</td>\n",
       "      <td>1136</td>\n",
       "      <td>31</td>\n",
       "      <td>3,3</td>\n",
       "      <td>672</td>\n",
       "      <td>62</td>\n",
       "      <td>1453</td>\n",
       "      <td>76</td>\n",
       "      <td>1333</td>\n",
       "      <td>730</td>\n",
       "      <td>10,7</td>\n",
       "      <td>60,0</td>\n",
       "      <td>0,7702</td>\n",
       "      <td>NaN</td>\n",
       "      <td>NaN</td>\n",
       "    </tr>\n",
       "    <tr>\n",
       "      <th>2004-03-11 02:00:00</th>\n",
       "      <td>0,9</td>\n",
       "      <td>1094</td>\n",
       "      <td>24</td>\n",
       "      <td>2,3</td>\n",
       "      <td>609</td>\n",
       "      <td>45</td>\n",
       "      <td>1579</td>\n",
       "      <td>60</td>\n",
       "      <td>1276</td>\n",
       "      <td>620</td>\n",
       "      <td>10,7</td>\n",
       "      <td>59,7</td>\n",
       "      <td>0,7648</td>\n",
       "      <td>NaN</td>\n",
       "      <td>NaN</td>\n",
       "    </tr>\n",
       "    <tr>\n",
       "      <th>2004-03-11 03:00:00</th>\n",
       "      <td>0,6</td>\n",
       "      <td>1010</td>\n",
       "      <td>19</td>\n",
       "      <td>1,7</td>\n",
       "      <td>561</td>\n",
       "      <td>-200</td>\n",
       "      <td>1705</td>\n",
       "      <td>-200</td>\n",
       "      <td>1235</td>\n",
       "      <td>501</td>\n",
       "      <td>10,3</td>\n",
       "      <td>60,2</td>\n",
       "      <td>0,7517</td>\n",
       "      <td>NaN</td>\n",
       "      <td>NaN</td>\n",
       "    </tr>\n",
       "  </tbody>\n",
       "</table>\n",
       "</div>"
      ],
      "text/plain": [
       "                    CO(GT)  PT08.S1(CO)  NMHC(GT) C6H6(GT)  PT08.S2(NMHC)  \\\n",
       "Date_Time                                                                   \n",
       "2004-03-10 18:00:00    2,6         1360       150     11,9           1046   \n",
       "2004-03-10 19:00:00      2         1292       112      9,4            955   \n",
       "2004-03-10 20:00:00    2,2         1402        88      9,0            939   \n",
       "2004-03-10 21:00:00    2,2         1376        80      9,2            948   \n",
       "2004-03-10 22:00:00    1,6         1272        51      6,5            836   \n",
       "2004-03-10 23:00:00    1,2         1197        38      4,7            750   \n",
       "2004-03-11 00:00:00    1,2         1185        31      3,6            690   \n",
       "2004-03-11 01:00:00      1         1136        31      3,3            672   \n",
       "2004-03-11 02:00:00    0,9         1094        24      2,3            609   \n",
       "2004-03-11 03:00:00    0,6         1010        19      1,7            561   \n",
       "\n",
       "                     NOx(GT)  PT08.S3(NOx)  NO2(GT)  PT08.S4(NO2)  \\\n",
       "Date_Time                                                           \n",
       "2004-03-10 18:00:00      166          1056      113          1692   \n",
       "2004-03-10 19:00:00      103          1174       92          1559   \n",
       "2004-03-10 20:00:00      131          1140      114          1555   \n",
       "2004-03-10 21:00:00      172          1092      122          1584   \n",
       "2004-03-10 22:00:00      131          1205      116          1490   \n",
       "2004-03-10 23:00:00       89          1337       96          1393   \n",
       "2004-03-11 00:00:00       62          1462       77          1333   \n",
       "2004-03-11 01:00:00       62          1453       76          1333   \n",
       "2004-03-11 02:00:00       45          1579       60          1276   \n",
       "2004-03-11 03:00:00     -200          1705     -200          1235   \n",
       "\n",
       "                     PT08.S5(O3)     T    RH      AH  Unnamed: 15  Unnamed: 16  \n",
       "Date_Time                                                                       \n",
       "2004-03-10 18:00:00         1268  13,6  48,9  0,7578          NaN          NaN  \n",
       "2004-03-10 19:00:00          972  13,3  47,7  0,7255          NaN          NaN  \n",
       "2004-03-10 20:00:00         1074  11,9  54,0  0,7502          NaN          NaN  \n",
       "2004-03-10 21:00:00         1203  11,0  60,0  0,7867          NaN          NaN  \n",
       "2004-03-10 22:00:00         1110  11,2  59,6  0,7888          NaN          NaN  \n",
       "2004-03-10 23:00:00          949  11,2  59,2  0,7848          NaN          NaN  \n",
       "2004-03-11 00:00:00          733  11,3  56,8  0,7603          NaN          NaN  \n",
       "2004-03-11 01:00:00          730  10,7  60,0  0,7702          NaN          NaN  \n",
       "2004-03-11 02:00:00          620  10,7  59,7  0,7648          NaN          NaN  \n",
       "2004-03-11 03:00:00          501  10,3  60,2  0,7517          NaN          NaN  "
      ]
     },
     "execution_count": 57,
     "metadata": {},
     "output_type": "execute_result"
    }
   ],
   "source": [
    "air_quality_df2.head(10)"
   ]
  },
  {
   "cell_type": "markdown",
   "metadata": {
    "slideshow": {
     "slide_type": "slide"
    }
   },
   "source": [
    "# Re sampling"
   ]
  },
  {
   "cell_type": "code",
   "execution_count": 64,
   "metadata": {
    "slideshow": {
     "slide_type": "subslide"
    }
   },
   "outputs": [
    {
     "data": {
      "text/plain": [
       "Date_Time\n",
       "2004-03-10 18:00:00    1360\n",
       "2004-03-10 19:00:00    1292\n",
       "2004-03-10 20:00:00    1402\n",
       "2004-03-10 21:00:00    1376\n",
       "2004-03-10 22:00:00    1272\n",
       "2004-03-10 23:00:00    1197\n",
       "2004-03-11 00:00:00    1185\n",
       "2004-03-11 01:00:00    1136\n",
       "2004-03-11 02:00:00    1094\n",
       "2004-03-11 03:00:00    1010\n",
       "Name: PT08.S1(CO), dtype: int64"
      ]
     },
     "execution_count": 64,
     "metadata": {},
     "output_type": "execute_result"
    }
   ],
   "source": [
    "sample_df =  air_quality_df2['PT08.S1(CO)']\n",
    "sample_df.head(10)"
   ]
  },
  {
   "cell_type": "code",
   "execution_count": 65,
   "metadata": {
    "slideshow": {
     "slide_type": "fragment"
    }
   },
   "outputs": [
    {
     "data": {
      "text/plain": [
       "DatetimeIndex(['2004-03-10 18:00:00', '2004-03-10 19:00:00',\n",
       "               '2004-03-10 20:00:00', '2004-03-10 21:00:00',\n",
       "               '2004-03-10 22:00:00', '2004-03-10 23:00:00',\n",
       "               '2004-03-11 00:00:00', '2004-03-11 01:00:00',\n",
       "               '2004-03-11 02:00:00', '2004-03-11 03:00:00',\n",
       "               ...\n",
       "               '2005-04-04 05:00:00', '2005-04-04 06:00:00',\n",
       "               '2005-04-04 07:00:00', '2005-04-04 08:00:00',\n",
       "               '2005-04-04 09:00:00', '2005-04-04 10:00:00',\n",
       "               '2005-04-04 11:00:00', '2005-04-04 12:00:00',\n",
       "               '2005-04-04 13:00:00', '2005-04-04 14:00:00'],\n",
       "              dtype='datetime64[ns]', name='Date_Time', length=9357, freq=None)"
      ]
     },
     "execution_count": 65,
     "metadata": {},
     "output_type": "execute_result"
    }
   ],
   "source": [
    "sample_df.index"
   ]
  },
  {
   "cell_type": "markdown",
   "metadata": {},
   "source": [
    "Let's now circle back to the freq part of the index...."
   ]
  },
  {
   "cell_type": "code",
   "execution_count": 66,
   "metadata": {
    "slideshow": {
     "slide_type": "subslide"
    }
   },
   "outputs": [
    {
     "data": {
      "text/plain": [
       "Date_Time\n",
       "2004-03-10 18:00:00    1360.0\n",
       "2004-03-10 18:30:00       NaN\n",
       "2004-03-10 19:00:00    1292.0\n",
       "2004-03-10 19:30:00       NaN\n",
       "2004-03-10 20:00:00    1402.0\n",
       "2004-03-10 20:30:00       NaN\n",
       "2004-03-10 21:00:00    1376.0\n",
       "2004-03-10 21:30:00       NaN\n",
       "2004-03-10 22:00:00    1272.0\n",
       "2004-03-10 22:30:00       NaN\n",
       "Freq: 30T, Name: PT08.S1(CO), dtype: float64"
      ]
     },
     "execution_count": 66,
     "metadata": {},
     "output_type": "execute_result"
    }
   ],
   "source": [
    "sampled_30min_df = sample_df.asfreq('30min')\n",
    "sampled_30min_df.head(10)"
   ]
  },
  {
   "cell_type": "code",
   "execution_count": 67,
   "metadata": {
    "slideshow": {
     "slide_type": "subslide"
    }
   },
   "outputs": [
    {
     "data": {
      "text/plain": [
       "Date_Time\n",
       "2004-03-10 18:00:00    1360\n",
       "2004-03-10 18:30:00    1360\n",
       "2004-03-10 19:00:00    1292\n",
       "2004-03-10 19:30:00    1292\n",
       "2004-03-10 20:00:00    1402\n",
       "2004-03-10 20:30:00    1402\n",
       "2004-03-10 21:00:00    1376\n",
       "2004-03-10 21:30:00    1376\n",
       "2004-03-10 22:00:00    1272\n",
       "2004-03-10 22:30:00    1272\n",
       "Freq: 30T, Name: PT08.S1(CO), dtype: int64"
      ]
     },
     "execution_count": 67,
     "metadata": {},
     "output_type": "execute_result"
    }
   ],
   "source": [
    "# upsample\n",
    "sampled_30min_df =sample_df.asfreq('30min', method='ffill')\n",
    "sampled_30min_df.head(10)"
   ]
  },
  {
   "cell_type": "code",
   "execution_count": 68,
   "metadata": {
    "slideshow": {
     "slide_type": "subslide"
    }
   },
   "outputs": [
    {
     "data": {
      "text/plain": [
       "Date_Time\n",
       "2004-03-10 18:00:00    1360\n",
       "2004-03-10 22:00:00    1272\n",
       "2004-03-11 02:00:00    1094\n",
       "2004-03-11 06:00:00    1052\n",
       "2004-03-11 10:00:00    1233\n",
       "2004-03-11 14:00:00    1371\n",
       "2004-03-11 18:00:00    1581\n",
       "2004-03-11 22:00:00     965\n",
       "2004-03-12 02:00:00     988\n",
       "2004-03-12 06:00:00     927\n",
       "Freq: 4H, Name: PT08.S1(CO), dtype: int64"
      ]
     },
     "execution_count": 68,
     "metadata": {},
     "output_type": "execute_result"
    }
   ],
   "source": [
    "# downsample\n",
    "sampled_30min_df.asfreq('4H').head(10)"
   ]
  },
  {
   "cell_type": "markdown",
   "metadata": {
    "slideshow": {
     "slide_type": "slide"
    }
   },
   "source": [
    "# resample"
   ]
  },
  {
   "cell_type": "code",
   "execution_count": 69,
   "metadata": {
    "slideshow": {
     "slide_type": "subslide"
    }
   },
   "outputs": [
    {
     "data": {
      "text/plain": [
       "Date_Time\n",
       "2004-03-10 18:00:00    1360\n",
       "2004-03-10 19:00:00    1292\n",
       "2004-03-10 20:00:00    1402\n",
       "2004-03-10 21:00:00    1376\n",
       "2004-03-10 22:00:00    1272\n",
       "2004-03-10 23:00:00    1197\n",
       "2004-03-11 00:00:00    1185\n",
       "2004-03-11 01:00:00    1136\n",
       "2004-03-11 02:00:00    1094\n",
       "2004-03-11 03:00:00    1010\n",
       "Freq: H, Name: PT08.S1(CO), dtype: int64"
      ]
     },
     "execution_count": 69,
     "metadata": {},
     "output_type": "execute_result"
    }
   ],
   "source": [
    "sample_df = sample_df.asfreq('1H')\n",
    "sample_df.head(10)"
   ]
  },
  {
   "cell_type": "code",
   "execution_count": 70,
   "metadata": {
    "slideshow": {
     "slide_type": "subslide"
    }
   },
   "outputs": [
    {
     "data": {
      "text/plain": [
       "DatetimeIndex(['2004-03-10 18:00:00', '2004-03-10 19:00:00',\n",
       "               '2004-03-10 20:00:00', '2004-03-10 21:00:00',\n",
       "               '2004-03-10 22:00:00', '2004-03-10 23:00:00',\n",
       "               '2004-03-11 00:00:00', '2004-03-11 01:00:00',\n",
       "               '2004-03-11 02:00:00', '2004-03-11 03:00:00',\n",
       "               ...\n",
       "               '2005-04-04 05:00:00', '2005-04-04 06:00:00',\n",
       "               '2005-04-04 07:00:00', '2005-04-04 08:00:00',\n",
       "               '2005-04-04 09:00:00', '2005-04-04 10:00:00',\n",
       "               '2005-04-04 11:00:00', '2005-04-04 12:00:00',\n",
       "               '2005-04-04 13:00:00', '2005-04-04 14:00:00'],\n",
       "              dtype='datetime64[ns]', name='Date_Time', length=9357, freq='H')"
      ]
     },
     "execution_count": 70,
     "metadata": {},
     "output_type": "execute_result"
    }
   ],
   "source": [
    "sample_df.index"
   ]
  },
  {
   "cell_type": "code",
   "execution_count": 71,
   "metadata": {
    "slideshow": {
     "slide_type": "subslide"
    }
   },
   "outputs": [
    {
     "data": {
      "text/plain": [
       "pandas.core.resample.DatetimeIndexResampler"
      ]
     },
     "execution_count": 71,
     "metadata": {},
     "output_type": "execute_result"
    }
   ],
   "source": [
    "downsample_df = sample_df.resample('2H')\n",
    "type(downsample_df)"
   ]
  },
  {
   "cell_type": "code",
   "execution_count": 72,
   "metadata": {
    "slideshow": {
     "slide_type": "subslide"
    }
   },
   "outputs": [
    {
     "data": {
      "text/plain": [
       "Date_Time\n",
       "2004-03-10 18:00:00    1360\n",
       "2004-03-10 19:00:00    1292\n",
       "2004-03-10 20:00:00    1402\n",
       "2004-03-10 21:00:00    1376\n",
       "2004-03-10 22:00:00    1272\n",
       "2004-03-10 23:00:00    1197\n",
       "2004-03-11 00:00:00    1185\n",
       "2004-03-11 01:00:00    1136\n",
       "2004-03-11 02:00:00    1094\n",
       "2004-03-11 03:00:00    1010\n",
       "Freq: H, Name: PT08.S1(CO), dtype: int64"
      ]
     },
     "execution_count": 72,
     "metadata": {},
     "output_type": "execute_result"
    }
   ],
   "source": [
    "sample_df.head(10)"
   ]
  },
  {
   "cell_type": "code",
   "execution_count": 73,
   "metadata": {
    "slideshow": {
     "slide_type": "subslide"
    }
   },
   "outputs": [
    {
     "data": {
      "text/plain": [
       "1326.0"
      ]
     },
     "execution_count": 73,
     "metadata": {},
     "output_type": "execute_result"
    }
   ],
   "source": [
    "#Let's calculate the mean value for a period of 2 hours\n",
    "#Quick sanity check :\n",
    "(1360+1292)/2"
   ]
  },
  {
   "cell_type": "code",
   "execution_count": 74,
   "metadata": {
    "scrolled": true,
    "slideshow": {
     "slide_type": "subslide"
    }
   },
   "outputs": [
    {
     "data": {
      "text/plain": [
       "Date_Time\n",
       "2004-03-10 18:00:00    1326.0\n",
       "2004-03-10 20:00:00    1389.0\n",
       "2004-03-10 22:00:00    1234.5\n",
       "2004-03-11 00:00:00    1160.5\n",
       "2004-03-11 02:00:00    1052.0\n",
       "                        ...  \n",
       "2005-04-04 06:00:00    1207.5\n",
       "2005-04-04 08:00:00    1371.5\n",
       "2005-04-04 10:00:00    1238.5\n",
       "2005-04-04 12:00:00    1072.5\n",
       "2005-04-04 14:00:00    1071.0\n",
       "Freq: 2H, Name: PT08.S1(CO), Length: 4679, dtype: float64"
      ]
     },
     "execution_count": 74,
     "metadata": {},
     "output_type": "execute_result"
    }
   ],
   "source": [
    "downsample_df.mean()"
   ]
  },
  {
   "cell_type": "markdown",
   "metadata": {
    "slideshow": {
     "slide_type": "subslide"
    }
   },
   "source": [
    "# Shifting time series(Leading and Lagging))"
   ]
  },
  {
   "cell_type": "code",
   "execution_count": 75,
   "metadata": {
    "slideshow": {
     "slide_type": "subslide"
    }
   },
   "outputs": [
    {
     "data": {
      "text/plain": [
       "2018-01-01    3.162946\n",
       "2018-01-02    2.560897\n",
       "2018-01-03    1.364524\n",
       "2018-01-04    0.319462\n",
       "2018-01-05    2.787799\n",
       "2018-01-06    1.984340\n",
       "2018-01-07    1.297909\n",
       "2018-01-08    0.243323\n",
       "2018-01-09    1.660931\n",
       "2018-01-10    2.294548\n",
       "Freq: D, dtype: float64"
      ]
     },
     "execution_count": 75,
     "metadata": {},
     "output_type": "execute_result"
    }
   ],
   "source": [
    "import numpy as np\n",
    "ts = pd.Series(np.random.randn(10) +2,\n",
    "               index=pd.date_range('1/1/2018', periods=10, freq='D'))\n",
    "ts"
   ]
  },
  {
   "cell_type": "code",
   "execution_count": 78,
   "metadata": {
    "slideshow": {
     "slide_type": "subslide"
    }
   },
   "outputs": [
    {
     "data": {
      "text/plain": [
       "2018-01-01    2.560897\n",
       "2018-01-02    1.364524\n",
       "2018-01-03    0.319462\n",
       "2018-01-04    2.787799\n",
       "2018-01-05    1.984340\n",
       "2018-01-06    1.297909\n",
       "2018-01-07    0.243323\n",
       "2018-01-08    1.660931\n",
       "2018-01-09    2.294548\n",
       "2018-01-10         NaN\n",
       "Freq: D, dtype: float64"
      ]
     },
     "execution_count": 78,
     "metadata": {},
     "output_type": "execute_result"
    }
   ],
   "source": [
    "#Move values \"down\"\n",
    "ts.shift(-1)"
   ]
  },
  {
   "cell_type": "code",
   "execution_count": 79,
   "metadata": {},
   "outputs": [
    {
     "data": {
      "text/plain": [
       "2017-12-31    3.162946\n",
       "2018-01-01    2.560897\n",
       "2018-01-02    1.364524\n",
       "2018-01-03    0.319462\n",
       "2018-01-04    2.787799\n",
       "2018-01-05    1.984340\n",
       "2018-01-06    1.297909\n",
       "2018-01-07    0.243323\n",
       "2018-01-08    1.660931\n",
       "2018-01-09    2.294548\n",
       "Freq: D, dtype: float64"
      ]
     },
     "execution_count": 79,
     "metadata": {},
     "output_type": "execute_result"
    }
   ],
   "source": [
    "#Move dates \"down\"\n",
    "ts.tshift(-1)"
   ]
  },
  {
   "cell_type": "code",
   "execution_count": 80,
   "metadata": {
    "slideshow": {
     "slide_type": "subslide"
    }
   },
   "outputs": [
    {
     "data": {
      "text/plain": [
       "2018-01-01         NaN\n",
       "2018-01-02   -0.602049\n",
       "2018-01-03   -1.196374\n",
       "2018-01-04   -1.045061\n",
       "2018-01-05    2.468337\n",
       "2018-01-06   -0.803459\n",
       "2018-01-07   -0.686431\n",
       "2018-01-08   -1.054586\n",
       "2018-01-09    1.417608\n",
       "2018-01-10    0.633618\n",
       "Freq: D, dtype: float64"
      ]
     },
     "execution_count": 80,
     "metadata": {},
     "output_type": "execute_result"
    }
   ],
   "source": [
    "#These two are equivalent :\n",
    "ts.diff(1)\n",
    "\n",
    "ts - ts.shift(1)"
   ]
  },
  {
   "cell_type": "code",
   "execution_count": 81,
   "metadata": {
    "slideshow": {
     "slide_type": "subslide"
    }
   },
   "outputs": [],
   "source": [
    "# feature engineering\n",
    "lag_analysis = pd.concat([ts, ts.shift(1), ts.diff(1)], axis=1)"
   ]
  },
  {
   "cell_type": "code",
   "execution_count": 82,
   "metadata": {
    "slideshow": {
     "slide_type": "subslide"
    }
   },
   "outputs": [],
   "source": [
    "lag_analysis.columns= ['ori', 'shifted', 'diff']"
   ]
  },
  {
   "cell_type": "code",
   "execution_count": 83,
   "metadata": {
    "slideshow": {
     "slide_type": "subslide"
    }
   },
   "outputs": [
    {
     "data": {
      "text/html": [
       "<div>\n",
       "<style scoped>\n",
       "    .dataframe tbody tr th:only-of-type {\n",
       "        vertical-align: middle;\n",
       "    }\n",
       "\n",
       "    .dataframe tbody tr th {\n",
       "        vertical-align: top;\n",
       "    }\n",
       "\n",
       "    .dataframe thead th {\n",
       "        text-align: right;\n",
       "    }\n",
       "</style>\n",
       "<table border=\"1\" class=\"dataframe\">\n",
       "  <thead>\n",
       "    <tr style=\"text-align: right;\">\n",
       "      <th></th>\n",
       "      <th>ori</th>\n",
       "      <th>shifted</th>\n",
       "      <th>diff</th>\n",
       "    </tr>\n",
       "  </thead>\n",
       "  <tbody>\n",
       "    <tr>\n",
       "      <th>2018-01-01</th>\n",
       "      <td>3.162946</td>\n",
       "      <td>NaN</td>\n",
       "      <td>NaN</td>\n",
       "    </tr>\n",
       "    <tr>\n",
       "      <th>2018-01-02</th>\n",
       "      <td>2.560897</td>\n",
       "      <td>3.162946</td>\n",
       "      <td>-0.602049</td>\n",
       "    </tr>\n",
       "    <tr>\n",
       "      <th>2018-01-03</th>\n",
       "      <td>1.364524</td>\n",
       "      <td>2.560897</td>\n",
       "      <td>-1.196374</td>\n",
       "    </tr>\n",
       "    <tr>\n",
       "      <th>2018-01-04</th>\n",
       "      <td>0.319462</td>\n",
       "      <td>1.364524</td>\n",
       "      <td>-1.045061</td>\n",
       "    </tr>\n",
       "    <tr>\n",
       "      <th>2018-01-05</th>\n",
       "      <td>2.787799</td>\n",
       "      <td>0.319462</td>\n",
       "      <td>2.468337</td>\n",
       "    </tr>\n",
       "    <tr>\n",
       "      <th>2018-01-06</th>\n",
       "      <td>1.984340</td>\n",
       "      <td>2.787799</td>\n",
       "      <td>-0.803459</td>\n",
       "    </tr>\n",
       "    <tr>\n",
       "      <th>2018-01-07</th>\n",
       "      <td>1.297909</td>\n",
       "      <td>1.984340</td>\n",
       "      <td>-0.686431</td>\n",
       "    </tr>\n",
       "    <tr>\n",
       "      <th>2018-01-08</th>\n",
       "      <td>0.243323</td>\n",
       "      <td>1.297909</td>\n",
       "      <td>-1.054586</td>\n",
       "    </tr>\n",
       "    <tr>\n",
       "      <th>2018-01-09</th>\n",
       "      <td>1.660931</td>\n",
       "      <td>0.243323</td>\n",
       "      <td>1.417608</td>\n",
       "    </tr>\n",
       "    <tr>\n",
       "      <th>2018-01-10</th>\n",
       "      <td>2.294548</td>\n",
       "      <td>1.660931</td>\n",
       "      <td>0.633618</td>\n",
       "    </tr>\n",
       "  </tbody>\n",
       "</table>\n",
       "</div>"
      ],
      "text/plain": [
       "                 ori   shifted      diff\n",
       "2018-01-01  3.162946       NaN       NaN\n",
       "2018-01-02  2.560897  3.162946 -0.602049\n",
       "2018-01-03  1.364524  2.560897 -1.196374\n",
       "2018-01-04  0.319462  1.364524 -1.045061\n",
       "2018-01-05  2.787799  0.319462  2.468337\n",
       "2018-01-06  1.984340  2.787799 -0.803459\n",
       "2018-01-07  1.297909  1.984340 -0.686431\n",
       "2018-01-08  0.243323  1.297909 -1.054586\n",
       "2018-01-09  1.660931  0.243323  1.417608\n",
       "2018-01-10  2.294548  1.660931  0.633618"
      ]
     },
     "execution_count": 83,
     "metadata": {},
     "output_type": "execute_result"
    }
   ],
   "source": [
    "lag_analysis"
   ]
  },
  {
   "cell_type": "code",
   "execution_count": 84,
   "metadata": {
    "slideshow": {
     "slide_type": "subslide"
    }
   },
   "outputs": [
    {
     "data": {
      "text/plain": [
       "<matplotlib.axes._subplots.AxesSubplot at 0x12c464e48>"
      ]
     },
     "execution_count": 84,
     "metadata": {},
     "output_type": "execute_result"
    },
    {
     "data": {
      "image/png": "[encoded data removed]",
      "text/plain": [
       "<Figure size 432x288 with 1 Axes>"
      ]
     },
     "metadata": {
      "needs_background": "light"
     },
     "output_type": "display_data"
    }
   ],
   "source": [
    "lag_analysis.plot()"
   ]
  },
  {
   "cell_type": "markdown",
   "metadata": {
    "slideshow": {
     "slide_type": "subslide"
    }
   },
   "source": [
    "Use periods argument to move forward (positive) or backward (negative)"
   ]
  },
  {
   "cell_type": "code",
   "execution_count": null,
   "metadata": {},
   "outputs": [],
   "source": []
  },
  {
   "cell_type": "code",
   "execution_count": 24,
   "metadata": {},
   "outputs": [
    {
     "data": {
      "text/html": [
       "<div>\n",
       "<style scoped>\n",
       "    .dataframe tbody tr th:only-of-type {\n",
       "        vertical-align: middle;\n",
       "    }\n",
       "\n",
       "    .dataframe tbody tr th {\n",
       "        vertical-align: top;\n",
       "    }\n",
       "\n",
       "    .dataframe thead th {\n",
       "        text-align: right;\n",
       "    }\n",
       "</style>\n",
       "<table border=\"1\" class=\"dataframe\">\n",
       "  <thead>\n",
       "    <tr style=\"text-align: right;\">\n",
       "      <th></th>\n",
       "      <th>year</th>\n",
       "      <th>month</th>\n",
       "      <th>passengers</th>\n",
       "    </tr>\n",
       "  </thead>\n",
       "  <tbody>\n",
       "    <tr>\n",
       "      <th>0</th>\n",
       "      <td>1949</td>\n",
       "      <td>January</td>\n",
       "      <td>112</td>\n",
       "    </tr>\n",
       "    <tr>\n",
       "      <th>1</th>\n",
       "      <td>1949</td>\n",
       "      <td>February</td>\n",
       "      <td>118</td>\n",
       "    </tr>\n",
       "    <tr>\n",
       "      <th>2</th>\n",
       "      <td>1949</td>\n",
       "      <td>March</td>\n",
       "      <td>132</td>\n",
       "    </tr>\n",
       "    <tr>\n",
       "      <th>3</th>\n",
       "      <td>1949</td>\n",
       "      <td>April</td>\n",
       "      <td>129</td>\n",
       "    </tr>\n",
       "    <tr>\n",
       "      <th>4</th>\n",
       "      <td>1949</td>\n",
       "      <td>May</td>\n",
       "      <td>121</td>\n",
       "    </tr>\n",
       "  </tbody>\n",
       "</table>\n",
       "</div>"
      ],
      "text/plain": [
       "   year     month  passengers\n",
       "0  1949   January         112\n",
       "1  1949  February         118\n",
       "2  1949     March         132\n",
       "3  1949     April         129\n",
       "4  1949       May         121"
      ]
     },
     "execution_count": 24,
     "metadata": {},
     "output_type": "execute_result"
    },
    {
     "data": {
      "image/png": "[encoded data removed]",
      "text/plain": [
       "<Figure size 864x432 with 1 Axes>"
      ]
     },
     "metadata": {
      "needs_background": "light"
     },
     "output_type": "display_data"
    }
   ],
   "source": [
    "import seaborn as sns\n",
    "import numpy as np \n",
    "\n",
    "#Load data\n",
    "flights = sns.load_dataset('flights')\n",
    "\n",
    "#Plot data\n",
    "fig, ax = plt.subplots(figsize=(12, 6))\n",
    "sns.lineplot(x=flights.index, y=flights.passengers)\n",
    "ax.set_title('Passengers Flying since Jan 1949')\n",
    "ax.set_xlabel('Months')\n",
    "ax.set_ylabel('Passengers')"
   ]
  },
  {
   "cell_type": "code",
   "execution_count": 87,
   "metadata": {},
   "outputs": [
    {
     "data": {
      "text/plain": [
       "Text(0, 0.5, 'Passengers')"
      ]
     },
     "execution_count": 87,
     "metadata": {},
     "output_type": "execute_result"
    },
    {
     "data": {
      "image/png": "[encoded data removed]",
      "text/plain": [
       "<Figure size 1080x432 with 1 Axes>"
      ]
     },
     "metadata": {
      "needs_background": "light"
     },
     "output_type": "display_data"
    },
    {
     "data": {
      "image/png": "[encoded data removed]",
      "text/plain": [
       "<Figure size 1080x432 with 2 Axes>"
      ]
     },
     "metadata": {
      "needs_background": "light"
     },
     "output_type": "display_data"
    }
   ],
   "source": [
    "fig, ax = plt.subplots(figsize=(15, 6))\n",
    "\n",
    "palette = sns.color_palette(\"ch:2.5,-.2,dark=.3\", 12)\n",
    "\n",
    "sns.lineplot(flights['month'], flights['passengers'], hue=flights['year'], palette=palette)\n",
    "ax.set_title('Seasonal plot of passengers', fontsize = 20, loc='center')\n",
    "ax.set_xlabel('Month', fontsize = 16)\n",
    "ax.set_ylabel('Passengers', fontsize = 16)\n",
    "ax.legend(loc=[1.01,0.39])\n",
    "\n",
    "\n",
    "fig, ax = plt.subplots(nrows=1, ncols=2, figsize=(15, 6))\n",
    "\n",
    "sns.boxplot(flights['year'], flights['passengers'], ax=ax[0])\n",
    "ax[0].set_title('Year-wise\\n(Trend)', fontsize = 20, loc='center')\n",
    "ax[0].set_xlabel('Year', fontsize = 16)\n",
    "ax[0].set_ylabel('Passengers', fontsize = 16)\n",
    "\n",
    "sns.boxplot(flights['month'], flights['passengers'], ax=ax[1])\n",
    "ax[1].set_title('Month-wise\\n(Seasonality)', fontsize = 20, loc='center')\n",
    "ax[1].set_xlabel('Month', fontsize = 16)\n",
    "ax[1].set_ylabel('Passengers', fontsize = 16)"
   ]
  },
  {
   "cell_type": "code",
   "execution_count": null,
   "metadata": {},
   "outputs": [],
   "source": []
  },
  {
   "cell_type": "markdown",
   "metadata": {
    "slideshow": {
     "slide_type": "subslide"
    }
   },
   "source": [
    "# Moving Window Functions\n",
    "Moving aggregates measures"
   ]
  },
  {
   "cell_type": "code",
   "execution_count": null,
   "metadata": {},
   "outputs": [],
   "source": []
  },
  {
   "cell_type": "code",
   "execution_count": 8,
   "metadata": {
    "slideshow": {
     "slide_type": "subslide"
    }
   },
   "outputs": [
    {
     "data": {
      "text/plain": [
       "DatetimeIndex(['2018-07-10', '2018-07-11', '2018-07-12', '2018-07-13',\n",
       "               '2018-07-14', '2018-07-15', '2018-07-16', '2018-07-17',\n",
       "               '2018-07-18', '2018-07-19',\n",
       "               ...\n",
       "               '2019-08-04', '2019-08-05', '2019-08-06', '2019-08-07',\n",
       "               '2019-08-08', '2019-08-09', '2019-08-10', '2019-08-11',\n",
       "               '2019-08-12', '2019-08-13'],\n",
       "              dtype='datetime64[ns]', length=400, freq='D')"
      ]
     },
     "execution_count": 8,
     "metadata": {},
     "output_type": "execute_result"
    }
   ],
   "source": [
    "df= pd.DataFrame(np.random.randn(400,1), index=pd.date_range('2018/7/10', freq= 'D', periods =400 ), columns=['D1'])\n",
    "df.index"
   ]
  },
  {
   "cell_type": "code",
   "execution_count": 9,
   "metadata": {
    "slideshow": {
     "slide_type": "subslide"
    }
   },
   "outputs": [
    {
     "data": {
      "text/html": [
       "<div>\n",
       "<style scoped>\n",
       "    .dataframe tbody tr th:only-of-type {\n",
       "        vertical-align: middle;\n",
       "    }\n",
       "\n",
       "    .dataframe tbody tr th {\n",
       "        vertical-align: top;\n",
       "    }\n",
       "\n",
       "    .dataframe thead th {\n",
       "        text-align: right;\n",
       "    }\n",
       "</style>\n",
       "<table border=\"1\" class=\"dataframe\">\n",
       "  <thead>\n",
       "    <tr style=\"text-align: right;\">\n",
       "      <th></th>\n",
       "      <th>D1</th>\n",
       "    </tr>\n",
       "  </thead>\n",
       "  <tbody>\n",
       "    <tr>\n",
       "      <th>2018-07-10</th>\n",
       "      <td>-0.415430</td>\n",
       "    </tr>\n",
       "    <tr>\n",
       "      <th>2018-07-11</th>\n",
       "      <td>-0.649243</td>\n",
       "    </tr>\n",
       "    <tr>\n",
       "      <th>2018-07-12</th>\n",
       "      <td>-0.189940</td>\n",
       "    </tr>\n",
       "    <tr>\n",
       "      <th>2018-07-13</th>\n",
       "      <td>1.634372</td>\n",
       "    </tr>\n",
       "    <tr>\n",
       "      <th>2018-07-14</th>\n",
       "      <td>-0.366261</td>\n",
       "    </tr>\n",
       "  </tbody>\n",
       "</table>\n",
       "</div>"
      ],
      "text/plain": [
       "                  D1\n",
       "2018-07-10 -0.415430\n",
       "2018-07-11 -0.649243\n",
       "2018-07-12 -0.189940\n",
       "2018-07-13  1.634372\n",
       "2018-07-14 -0.366261"
      ]
     },
     "execution_count": 9,
     "metadata": {},
     "output_type": "execute_result"
    }
   ],
   "source": [
    "df.head()"
   ]
  },
  {
   "cell_type": "code",
   "execution_count": 10,
   "metadata": {
    "slideshow": {
     "slide_type": "subslide"
    }
   },
   "outputs": [
    {
     "data": {
      "text/plain": [
       "Rolling [window=30,center=False,axis=0]"
      ]
     },
     "execution_count": 10,
     "metadata": {},
     "output_type": "execute_result"
    }
   ],
   "source": [
    "rolling_df = df.rolling(window = 30)\n",
    "rolling_df"
   ]
  },
  {
   "cell_type": "code",
   "execution_count": 15,
   "metadata": {
    "slideshow": {
     "slide_type": "subslide"
    }
   },
   "outputs": [
    {
     "data": {
      "text/plain": [
       "<matplotlib.legend.Legend at 0x11deace10>"
      ]
     },
     "execution_count": 15,
     "metadata": {},
     "output_type": "execute_result"
    },
    {
     "data": {
      "image/png": "[encoded data removed]",
      "text/plain": [
       "<Figure size 864x720 with 1 Axes>"
      ]
     },
     "metadata": {
      "needs_background": "light"
     },
     "output_type": "display_data"
    }
   ],
   "source": [
    "# label = []\n",
    "ax = df.plot(color = 'gray', figsize= (12, 10), label = 'raw')\n",
    "rolling_df.mean().plot(ax= ax, color='green', label = 'mean')\n",
    "rolling_df.max().plot(ax= ax, color='red', label = 'max')\n",
    "rolling_df.min().plot(ax= ax, color='blue', label = 'min')\n",
    "rolling_df.quantile(.40).plot(ax= ax, color='orange', label='40th quantile')\n",
    "ax.legend(['Raw','Mean','Max','Min','Quantile'])"
   ]
  },
  {
   "cell_type": "markdown",
   "metadata": {
    "slideshow": {
     "slide_type": "subslide"
    }
   },
   "source": [
    "Computing more aggregate functions"
   ]
  },
  {
   "cell_type": "code",
   "execution_count": 16,
   "metadata": {
    "slideshow": {
     "slide_type": "fragment"
    }
   },
   "outputs": [
    {
     "data": {
      "text/html": [
       "<div>\n",
       "<style scoped>\n",
       "    .dataframe tbody tr th:only-of-type {\n",
       "        vertical-align: middle;\n",
       "    }\n",
       "\n",
       "    .dataframe tbody tr th {\n",
       "        vertical-align: top;\n",
       "    }\n",
       "\n",
       "    .dataframe thead tr th {\n",
       "        text-align: left;\n",
       "    }\n",
       "</style>\n",
       "<table border=\"1\" class=\"dataframe\">\n",
       "  <thead>\n",
       "    <tr>\n",
       "      <th></th>\n",
       "      <th colspan=\"2\" halign=\"left\">D1</th>\n",
       "    </tr>\n",
       "    <tr>\n",
       "      <th></th>\n",
       "      <th>median</th>\n",
       "      <th>mean</th>\n",
       "    </tr>\n",
       "  </thead>\n",
       "  <tbody>\n",
       "    <tr>\n",
       "      <th>2018-07-10</th>\n",
       "      <td>NaN</td>\n",
       "      <td>NaN</td>\n",
       "    </tr>\n",
       "    <tr>\n",
       "      <th>2018-07-11</th>\n",
       "      <td>NaN</td>\n",
       "      <td>NaN</td>\n",
       "    </tr>\n",
       "    <tr>\n",
       "      <th>2018-07-12</th>\n",
       "      <td>NaN</td>\n",
       "      <td>NaN</td>\n",
       "    </tr>\n",
       "    <tr>\n",
       "      <th>2018-07-13</th>\n",
       "      <td>NaN</td>\n",
       "      <td>NaN</td>\n",
       "    </tr>\n",
       "    <tr>\n",
       "      <th>2018-07-14</th>\n",
       "      <td>NaN</td>\n",
       "      <td>NaN</td>\n",
       "    </tr>\n",
       "    <tr>\n",
       "      <th>2018-07-15</th>\n",
       "      <td>NaN</td>\n",
       "      <td>NaN</td>\n",
       "    </tr>\n",
       "    <tr>\n",
       "      <th>2018-07-16</th>\n",
       "      <td>NaN</td>\n",
       "      <td>NaN</td>\n",
       "    </tr>\n",
       "    <tr>\n",
       "      <th>2018-07-17</th>\n",
       "      <td>NaN</td>\n",
       "      <td>NaN</td>\n",
       "    </tr>\n",
       "    <tr>\n",
       "      <th>2018-07-18</th>\n",
       "      <td>NaN</td>\n",
       "      <td>NaN</td>\n",
       "    </tr>\n",
       "    <tr>\n",
       "      <th>2018-07-19</th>\n",
       "      <td>NaN</td>\n",
       "      <td>NaN</td>\n",
       "    </tr>\n",
       "    <tr>\n",
       "      <th>2018-07-20</th>\n",
       "      <td>NaN</td>\n",
       "      <td>NaN</td>\n",
       "    </tr>\n",
       "    <tr>\n",
       "      <th>2018-07-21</th>\n",
       "      <td>NaN</td>\n",
       "      <td>NaN</td>\n",
       "    </tr>\n",
       "    <tr>\n",
       "      <th>2018-07-22</th>\n",
       "      <td>NaN</td>\n",
       "      <td>NaN</td>\n",
       "    </tr>\n",
       "    <tr>\n",
       "      <th>2018-07-23</th>\n",
       "      <td>NaN</td>\n",
       "      <td>NaN</td>\n",
       "    </tr>\n",
       "    <tr>\n",
       "      <th>2018-07-24</th>\n",
       "      <td>NaN</td>\n",
       "      <td>NaN</td>\n",
       "    </tr>\n",
       "    <tr>\n",
       "      <th>2018-07-25</th>\n",
       "      <td>NaN</td>\n",
       "      <td>NaN</td>\n",
       "    </tr>\n",
       "    <tr>\n",
       "      <th>2018-07-26</th>\n",
       "      <td>NaN</td>\n",
       "      <td>NaN</td>\n",
       "    </tr>\n",
       "    <tr>\n",
       "      <th>2018-07-27</th>\n",
       "      <td>NaN</td>\n",
       "      <td>NaN</td>\n",
       "    </tr>\n",
       "    <tr>\n",
       "      <th>2018-07-28</th>\n",
       "      <td>NaN</td>\n",
       "      <td>NaN</td>\n",
       "    </tr>\n",
       "    <tr>\n",
       "      <th>2018-07-29</th>\n",
       "      <td>NaN</td>\n",
       "      <td>NaN</td>\n",
       "    </tr>\n",
       "    <tr>\n",
       "      <th>2018-07-30</th>\n",
       "      <td>NaN</td>\n",
       "      <td>NaN</td>\n",
       "    </tr>\n",
       "    <tr>\n",
       "      <th>2018-07-31</th>\n",
       "      <td>NaN</td>\n",
       "      <td>NaN</td>\n",
       "    </tr>\n",
       "    <tr>\n",
       "      <th>2018-08-01</th>\n",
       "      <td>NaN</td>\n",
       "      <td>NaN</td>\n",
       "    </tr>\n",
       "    <tr>\n",
       "      <th>2018-08-02</th>\n",
       "      <td>NaN</td>\n",
       "      <td>NaN</td>\n",
       "    </tr>\n",
       "    <tr>\n",
       "      <th>2018-08-03</th>\n",
       "      <td>NaN</td>\n",
       "      <td>NaN</td>\n",
       "    </tr>\n",
       "    <tr>\n",
       "      <th>2018-08-04</th>\n",
       "      <td>NaN</td>\n",
       "      <td>NaN</td>\n",
       "    </tr>\n",
       "    <tr>\n",
       "      <th>2018-08-05</th>\n",
       "      <td>NaN</td>\n",
       "      <td>NaN</td>\n",
       "    </tr>\n",
       "    <tr>\n",
       "      <th>2018-08-06</th>\n",
       "      <td>NaN</td>\n",
       "      <td>NaN</td>\n",
       "    </tr>\n",
       "    <tr>\n",
       "      <th>2018-08-07</th>\n",
       "      <td>NaN</td>\n",
       "      <td>NaN</td>\n",
       "    </tr>\n",
       "    <tr>\n",
       "      <th>2018-08-08</th>\n",
       "      <td>0.537284</td>\n",
       "      <td>0.222935</td>\n",
       "    </tr>\n",
       "    <tr>\n",
       "      <th>2018-08-09</th>\n",
       "      <td>0.537284</td>\n",
       "      <td>0.201110</td>\n",
       "    </tr>\n",
       "    <tr>\n",
       "      <th>2018-08-10</th>\n",
       "      <td>0.537284</td>\n",
       "      <td>0.217337</td>\n",
       "    </tr>\n",
       "    <tr>\n",
       "      <th>2018-08-11</th>\n",
       "      <td>0.537284</td>\n",
       "      <td>0.213508</td>\n",
       "    </tr>\n",
       "    <tr>\n",
       "      <th>2018-08-12</th>\n",
       "      <td>0.424485</td>\n",
       "      <td>0.149166</td>\n",
       "    </tr>\n",
       "    <tr>\n",
       "      <th>2018-08-13</th>\n",
       "      <td>0.537284</td>\n",
       "      <td>0.214947</td>\n",
       "    </tr>\n",
       "    <tr>\n",
       "      <th>2018-08-14</th>\n",
       "      <td>0.424485</td>\n",
       "      <td>0.162831</td>\n",
       "    </tr>\n",
       "    <tr>\n",
       "      <th>2018-08-15</th>\n",
       "      <td>0.352177</td>\n",
       "      <td>0.137840</td>\n",
       "    </tr>\n",
       "    <tr>\n",
       "      <th>2018-08-16</th>\n",
       "      <td>0.333229</td>\n",
       "      <td>0.090819</td>\n",
       "    </tr>\n",
       "    <tr>\n",
       "      <th>2018-08-17</th>\n",
       "      <td>0.111474</td>\n",
       "      <td>0.073563</td>\n",
       "    </tr>\n",
       "    <tr>\n",
       "      <th>2018-08-18</th>\n",
       "      <td>0.333229</td>\n",
       "      <td>0.111167</td>\n",
       "    </tr>\n",
       "  </tbody>\n",
       "</table>\n",
       "</div>"
      ],
      "text/plain": [
       "                  D1          \n",
       "              median      mean\n",
       "2018-07-10       NaN       NaN\n",
       "2018-07-11       NaN       NaN\n",
       "2018-07-12       NaN       NaN\n",
       "2018-07-13       NaN       NaN\n",
       "2018-07-14       NaN       NaN\n",
       "2018-07-15       NaN       NaN\n",
       "2018-07-16       NaN       NaN\n",
       "2018-07-17       NaN       NaN\n",
       "2018-07-18       NaN       NaN\n",
       "2018-07-19       NaN       NaN\n",
       "2018-07-20       NaN       NaN\n",
       "2018-07-21       NaN       NaN\n",
       "2018-07-22       NaN       NaN\n",
       "2018-07-23       NaN       NaN\n",
       "2018-07-24       NaN       NaN\n",
       "2018-07-25       NaN       NaN\n",
       "2018-07-26       NaN       NaN\n",
       "2018-07-27       NaN       NaN\n",
       "2018-07-28       NaN       NaN\n",
       "2018-07-29       NaN       NaN\n",
       "2018-07-30       NaN       NaN\n",
       "2018-07-31       NaN       NaN\n",
       "2018-08-01       NaN       NaN\n",
       "2018-08-02       NaN       NaN\n",
       "2018-08-03       NaN       NaN\n",
       "2018-08-04       NaN       NaN\n",
       "2018-08-05       NaN       NaN\n",
       "2018-08-06       NaN       NaN\n",
       "2018-08-07       NaN       NaN\n",
       "2018-08-08  0.537284  0.222935\n",
       "2018-08-09  0.537284  0.201110\n",
       "2018-08-10  0.537284  0.217337\n",
       "2018-08-11  0.537284  0.213508\n",
       "2018-08-12  0.424485  0.149166\n",
       "2018-08-13  0.537284  0.214947\n",
       "2018-08-14  0.424485  0.162831\n",
       "2018-08-15  0.352177  0.137840\n",
       "2018-08-16  0.333229  0.090819\n",
       "2018-08-17  0.111474  0.073563\n",
       "2018-08-18  0.333229  0.111167"
      ]
     },
     "execution_count": 16,
     "metadata": {},
     "output_type": "execute_result"
    }
   ],
   "source": [
    "rolling_df.agg(['median', 'mean']).head(40)"
   ]
  },
  {
   "cell_type": "markdown",
   "metadata": {
    "slideshow": {
     "slide_type": "subslide"
    }
   },
   "source": [
    "If you have some requirement not baked into pandas you can use apply function"
   ]
  },
  {
   "cell_type": "code",
   "execution_count": 17,
   "metadata": {
    "slideshow": {
     "slide_type": "subslide"
    }
   },
   "outputs": [],
   "source": [
    "epsilon = .8"
   ]
  },
  {
   "cell_type": "code",
   "execution_count": 18,
   "metadata": {
    "slideshow": {
     "slide_type": "fragment"
    }
   },
   "outputs": [
    {
     "data": {
      "text/plain": [
       "<matplotlib.legend.Legend at 0x106e3cfd0>"
      ]
     },
     "execution_count": 18,
     "metadata": {},
     "output_type": "execute_result"
    },
    {
     "data": {
      "image/png": "[encoded data removed]",
      "text/plain": [
       "<Figure size 864x720 with 1 Axes>"
      ]
     },
     "metadata": {
      "needs_background": "light"
     },
     "output_type": "display_data"
    }
   ],
   "source": [
    "# apply a rolling window of 2 weigth epsilon and 1-epsilon\n",
    "ax = df.plot(color = 'gray', figsize = (12,10))\n",
    "## ????\n",
    "df.rolling(window=2).apply(lambda x : epsilon*x[0] + (1- epsilon)*x[1], raw= True).plot(ax=ax, color='blue', label = 'custom')\n",
    "ax.legend(['Original', 'Moving average'])\n",
    "\n",
    "# rolling_df.mean().plot(ax= ax, color='green', label = 'mean')"
   ]
  },
  {
   "cell_type": "markdown",
   "metadata": {
    "slideshow": {
     "slide_type": "slide"
    }
   },
   "source": [
    "# Exponentially Weighted average\n"
   ]
  },
  {
   "cell_type": "code",
   "execution_count": 19,
   "metadata": {
    "slideshow": {
     "slide_type": "subslide"
    }
   },
   "outputs": [
    {
     "data": {
      "text/plain": [
       "<matplotlib.legend.Legend at 0x11deac470>"
      ]
     },
     "execution_count": 19,
     "metadata": {},
     "output_type": "execute_result"
    },
    {
     "data": {
      "image/png": "[encoded data removed]",
      "text/plain": [
       "<Figure size 432x288 with 1 Axes>"
      ]
     },
     "metadata": {
      "needs_background": "light"
     },
     "output_type": "display_data"
    }
   ],
   "source": [
    "# From the Wes McKinney book\n",
    "close_px_all = pd.read_csv('https://raw.githubusercontent.com/wesm/pydata-book/2nd-edition/examples/stock_px_2.csv',\n",
    "                               parse_dates=True, index_col=0)\n",
    "\n",
    "#Extract the closing values for 3 companies :\n",
    "close_px = close_px_all[['AAPL', 'MSFT', 'XOM']]\n",
    "\n",
    "#Fill out values on the 'B' column :\n",
    "close_px = close_px.resample('B').ffill()\n",
    "\n",
    "#Extract the data for AAPL for the years 2006 and 2007 :\n",
    "aapl_px = close_px.AAPL['2006':'2007']\n",
    "\n",
    "#Create rolling window, with minimum of 20 values present, that calculates the mean\n",
    "ma60 = aapl_px.rolling(30, min_periods=20).mean()\n",
    "\n",
    "#Get the exponentially weighted average with a decay of 30\n",
    "ewma60 = aapl_px.ewm(span=30).mean()\n",
    "\n",
    "#plotting the data\n",
    "ma60.plot(style='k--', label='Simple MA')\n",
    "ewma60.plot(style='k-', label='EW MA')\n",
    "plt.legend()"
   ]
  },
  {
   "cell_type": "code",
   "execution_count": 104,
   "metadata": {},
   "outputs": [
    {
     "data": {
      "text/html": [
       "<div>\n",
       "<style scoped>\n",
       "    .dataframe tbody tr th:only-of-type {\n",
       "        vertical-align: middle;\n",
       "    }\n",
       "\n",
       "    .dataframe tbody tr th {\n",
       "        vertical-align: top;\n",
       "    }\n",
       "\n",
       "    .dataframe thead th {\n",
       "        text-align: right;\n",
       "    }\n",
       "</style>\n",
       "<table border=\"1\" class=\"dataframe\">\n",
       "  <thead>\n",
       "    <tr style=\"text-align: right;\">\n",
       "      <th></th>\n",
       "      <th>AAPL</th>\n",
       "      <th>MSFT</th>\n",
       "      <th>XOM</th>\n",
       "      <th>SPX</th>\n",
       "    </tr>\n",
       "  </thead>\n",
       "  <tbody>\n",
       "    <tr>\n",
       "      <th>2003-01-02</th>\n",
       "      <td>7.40</td>\n",
       "      <td>21.11</td>\n",
       "      <td>29.22</td>\n",
       "      <td>909.03</td>\n",
       "    </tr>\n",
       "    <tr>\n",
       "      <th>2003-01-03</th>\n",
       "      <td>7.45</td>\n",
       "      <td>21.14</td>\n",
       "      <td>29.24</td>\n",
       "      <td>908.59</td>\n",
       "    </tr>\n",
       "    <tr>\n",
       "      <th>2003-01-06</th>\n",
       "      <td>7.45</td>\n",
       "      <td>21.52</td>\n",
       "      <td>29.96</td>\n",
       "      <td>929.01</td>\n",
       "    </tr>\n",
       "    <tr>\n",
       "      <th>2003-01-07</th>\n",
       "      <td>7.43</td>\n",
       "      <td>21.93</td>\n",
       "      <td>28.95</td>\n",
       "      <td>922.93</td>\n",
       "    </tr>\n",
       "    <tr>\n",
       "      <th>2003-01-08</th>\n",
       "      <td>7.28</td>\n",
       "      <td>21.31</td>\n",
       "      <td>28.83</td>\n",
       "      <td>909.93</td>\n",
       "    </tr>\n",
       "  </tbody>\n",
       "</table>\n",
       "</div>"
      ],
      "text/plain": [
       "            AAPL   MSFT    XOM     SPX\n",
       "2003-01-02  7.40  21.11  29.22  909.03\n",
       "2003-01-03  7.45  21.14  29.24  908.59\n",
       "2003-01-06  7.45  21.52  29.96  929.01\n",
       "2003-01-07  7.43  21.93  28.95  922.93\n",
       "2003-01-08  7.28  21.31  28.83  909.93"
      ]
     },
     "execution_count": 104,
     "metadata": {},
     "output_type": "execute_result"
    }
   ],
   "source": [
    "close_px_all.head()"
   ]
  },
  {
   "cell_type": "code",
   "execution_count": 105,
   "metadata": {
    "slideshow": {
     "slide_type": "subslide"
    }
   },
   "outputs": [
    {
     "data": {
      "text/plain": [
       "DatetimeIndex(['2006-01-02', '2006-01-03', '2006-01-04', '2006-01-05',\n",
       "               '2006-01-06', '2006-01-09', '2006-01-10', '2006-01-11',\n",
       "               '2006-01-12', '2006-01-13',\n",
       "               ...\n",
       "               '2007-12-18', '2007-12-19', '2007-12-20', '2007-12-21',\n",
       "               '2007-12-24', '2007-12-25', '2007-12-26', '2007-12-27',\n",
       "               '2007-12-28', '2007-12-31'],\n",
       "              dtype='datetime64[ns]', length=521, freq='B')"
      ]
     },
     "execution_count": 105,
     "metadata": {},
     "output_type": "execute_result"
    }
   ],
   "source": [
    "aapl_px.index"
   ]
  },
  {
   "cell_type": "code",
   "execution_count": 106,
   "metadata": {
    "slideshow": {
     "slide_type": "subslide"
    }
   },
   "outputs": [
    {
     "data": {
      "text/plain": [
       "<matplotlib.legend.Legend at 0x12cb85c18>"
      ]
     },
     "execution_count": 106,
     "metadata": {},
     "output_type": "execute_result"
    },
    {
     "data": {
      "image/png": "[encoded data removed]",
      "text/plain": [
       "<Figure size 432x288 with 1 Axes>"
      ]
     },
     "metadata": {
      "needs_background": "light"
     },
     "output_type": "display_data"
    }
   ],
   "source": [
    "ma60.plot(style='k--', label='Simple MA')\n",
    "aapl_px.ewm(span = 30, min_periods= 20).mean().plot(style='k-', label='EW MA')\n",
    "plt.legend()"
   ]
  },
  {
   "cell_type": "markdown",
   "metadata": {
    "slideshow": {
     "slide_type": "slide"
    }
   },
   "source": [
    "# Binary Moving Window Functions\n",
    "\n",
    "correlation and covariance, between two time series"
   ]
  },
  {
   "cell_type": "code",
   "execution_count": null,
   "metadata": {
    "slideshow": {
     "slide_type": "subslide"
    }
   },
   "outputs": [],
   "source": [
    "spx_px = close_px_all['SPX']\n",
    "\n",
    "spx_rets = spx_px.pct_change()\n",
    "\n",
    "returns = close_px.pct_change()"
   ]
  },
  {
   "cell_type": "code",
   "execution_count": null,
   "metadata": {
    "slideshow": {
     "slide_type": "subslide"
    }
   },
   "outputs": [],
   "source": [
    "corr = returns.rolling(125, min_periods=100).corr(spx_rets)\n",
    "\n",
    "corr.plot(figsize= (10, 10))"
   ]
  },
  {
   "cell_type": "code",
   "execution_count": null,
   "metadata": {},
   "outputs": [],
   "source": []
  },
  {
   "cell_type": "markdown",
   "metadata": {
    "slideshow": {
     "slide_type": "slide"
    }
   },
   "source": [
    "\n",
    "## Resources\n",
    "- https://pandas.pydata.org/pandas-docs/stable/user_guide/timeseries.html\n",
    "- https://pandas.pydata.org/pandas-docs/stable/reference/api/pandas.Series.expanding.html"
   ]
  }
 ],
 "metadata": {
  "celltoolbar": "Slideshow",
  "kernelspec": {
   "display_name": "Python 3",
   "language": "python",
   "name": "python3"
  },
  "language_info": {
   "codemirror_mode": {
    "name": "ipython",
    "version": 3
   },
   "file_extension": ".py",
   "mimetype": "text/x-python",
   "name": "python",
   "nbconvert_exporter": "python",
   "pygments_lexer": "ipython3",
   "version": "3.7.3"
  }
 },
 "nbformat": 4,
 "nbformat_minor": 2
}
