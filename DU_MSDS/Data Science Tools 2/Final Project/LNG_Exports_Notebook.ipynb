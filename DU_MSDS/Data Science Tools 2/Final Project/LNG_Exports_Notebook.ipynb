{
 "cells": [
  {
   "cell_type": "markdown",
   "metadata": {},
   "source": [
    "## Start of the LNG Project"
   ]
  },
  {
   "cell_type": "code",
   "execution_count": 53,
   "metadata": {},
   "outputs": [],
   "source": [
    "import pandas as pd\n",
    "import numpy as np\n",
    "import matplotlib.pyplot as plt\n",
    "import seaborn as sns\n",
    "\n",
    "from bs4 import BeautifulSoup as bsoup\n",
    "import requests\n",
    "from selenium import webdriver\n",
    "from selenium.webdriver.common.keys import Keys\n",
    "from selenium.webdriver.common.by import By\n",
    "from selenium.webdriver.support.ui import Select\n",
    "from IPython.display import display, HTML\n"
   ]
  },
  {
   "cell_type": "code",
   "execution_count": 54,
   "metadata": {},
   "outputs": [],
   "source": [
    "# # Going to the start of the webpage\n",
    "# url = \"https://www.eia.gov/dnav/ng/ng_move_expc_s1_m.htm\"\n",
    "\n",
    "# # Setting options to not open the browser / make headless\n",
    "# options = webdriver.ChromeOptions()\n",
    "# # options.add_argument(\"headless\")\n",
    "\n",
    "# # Changing the download options\n",
    "# prefs = {\"profile.default_content_settings.popups\": 0,\n",
    "#         \"download.default_directory\": r\"C:\\Users\\user_dir\\Desktop\\\\\", # IMPORTANT - ENDING SLASH V IMPORTANT\n",
    "#         \"directory_upgrade\": True}\n",
    "# options.add_experimental_option('prefs',prefs)\n",
    "\n",
    "\n",
    "# # Webdriver is in the hw file. But Driver Path is the location in which the chromedriver is located\n",
    "# DRIVER_PATH = 'chromedriver'\n",
    "# driver = webdriver.Chrome(executable_path=DRIVER_PATH, options=options)\n",
    "\n",
    "# # Placing the Website in the webdriver\n",
    "# driver.get(url)\n",
    "\n",
    "# # Going through the webpage and finding the new excel file\n",
    "# file_link = driver.find_element(By.CLASS_NAME, \"crumb\").send_keys(Keys.ENTER)\n",
    "# file_link\n",
    "\n",
    "# # TODO Figure out how to tinker with the importing of the file to get it to save right to the current dirrectory"
   ]
  },
  {
   "cell_type": "code",
   "execution_count": 55,
   "metadata": {},
   "outputs": [
    {
     "data": {
      "text/plain": [
       "['Contents', 'Data 1', 'Data 2']"
      ]
     },
     "metadata": {},
     "output_type": "display_data"
    }
   ],
   "source": [
    "# Importing the LNG Raw File\n",
    "xl = pd.ExcelFile('NG_MOVE_EXPC_S1_M.xls')\n",
    "\n",
    "# Parsing through the excel sheets\n",
    "xl_sheets = [xl.parse(sheet) for sheet in xl.sheet_names]\n",
    "\n",
    "# displaying length of the sheet\n",
    "display(xl.sheet_names)\n"
   ]
  },
  {
   "cell_type": "code",
   "execution_count": 56,
   "metadata": {},
   "outputs": [
    {
     "data": {
      "text/html": [
       "<div>\n",
       "<style scoped>\n",
       "    .dataframe tbody tr th:only-of-type {\n",
       "        vertical-align: middle;\n",
       "    }\n",
       "\n",
       "    .dataframe tbody tr th {\n",
       "        vertical-align: top;\n",
       "    }\n",
       "\n",
       "    .dataframe thead th {\n",
       "        text-align: right;\n",
       "    }\n",
       "</style>\n",
       "<table border=\"1\" class=\"dataframe\">\n",
       "  <thead>\n",
       "    <tr style=\"text-align: right;\">\n",
       "      <th></th>\n",
       "      <th>Worksheet Name</th>\n",
       "      <th>Description</th>\n",
       "      <th># Of Series</th>\n",
       "      <th>Frequency</th>\n",
       "      <th>Latest Data for</th>\n",
       "    </tr>\n",
       "  </thead>\n",
       "  <tbody>\n",
       "    <tr>\n",
       "      <th>5</th>\n",
       "      <td>Data 1</td>\n",
       "      <td>Export Volumes</td>\n",
       "      <td>69</td>\n",
       "      <td>Monthly</td>\n",
       "      <td>2/2022</td>\n",
       "    </tr>\n",
       "    <tr>\n",
       "      <th>6</th>\n",
       "      <td>Data 2</td>\n",
       "      <td>Export Prices</td>\n",
       "      <td>69</td>\n",
       "      <td>Monthly</td>\n",
       "      <td>2/2022</td>\n",
       "    </tr>\n",
       "  </tbody>\n",
       "</table>\n",
       "</div>"
      ],
      "text/plain": [
       "  Worksheet Name     Description # Of Series Frequency Latest Data for\n",
       "5         Data 1  Export Volumes          69   Monthly          2/2022\n",
       "6         Data 2   Export Prices          69   Monthly          2/2022"
      ]
     },
     "metadata": {},
     "output_type": "display_data"
    }
   ],
   "source": [
    "# Displaying the Graph inside sheet 1\n",
    "Data_Description = xl_sheets[0].iloc[5:7,1:6].rename(columns=xl_sheets[0].iloc[4,1:6])\n",
    "display(Data_Description)"
   ]
  },
  {
   "cell_type": "code",
   "execution_count": null,
   "metadata": {},
   "outputs": [],
   "source": []
  }
 ],
 "metadata": {
  "interpreter": {
   "hash": "40b8c000fbbebcd68cd80c38dc16ff666c81e0eb8e78703503e6c330662146cf"
  },
  "kernelspec": {
   "display_name": "Python 3.9.5 ('GIS')",
   "language": "python",
   "name": "python3"
  },
  "language_info": {
   "codemirror_mode": {
    "name": "ipython",
    "version": 3
   },
   "file_extension": ".py",
   "mimetype": "text/x-python",
   "name": "python",
   "nbconvert_exporter": "python",
   "pygments_lexer": "ipython3",
   "version": "3.9.5"
  },
  "orig_nbformat": 4
 },
 "nbformat": 4,
 "nbformat_minor": 2
}
