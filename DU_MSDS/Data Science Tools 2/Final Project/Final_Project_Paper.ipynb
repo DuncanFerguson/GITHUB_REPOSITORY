{
 "cells": [
  {
   "cell_type": "code",
   "execution_count": null,
   "metadata": {},
   "outputs": [],
   "source": []
  },
  {
   "cell_type": "markdown",
   "metadata": {},
   "source": [
    "https://theweek.com/ukraine/1009403/us-working-to-cut-nato-europes-reliance-on-russian-oil-and-gas\n",
    "\n",
    "https://oec.world/en/profile/country/rus\n",
    "\n",
    "https://ec.europa.eu/eurostat/cache/infographs/energy/bloc-2a.html#:~:text=In%202019%2C%20the%20energy%20mix,fossil%20fuels%20(both%2013%20%25).\n",
    "\n",
    "\n",
    "https://www.machinelearningplus.com/time-series/arima-model-time-series-forecasting-python/\n",
    "\n",
    "https://www.datasciencesmachinelearning.com/2019/01/arimasarima-in-python.html\n",
    "\n",
    "https://www.eia.gov/energyexplained/natural-gas/liquefied-natural-gas.php\n",
    "\n",
    "https://www.energy.gov/fecm/listings/lng-reports\n",
    "\n",
    "https://www.energy.gov/fecm/articles/lng-monthly-2021\n",
    "\n"
   ]
  }
 ],
 "metadata": {
  "language_info": {
   "name": "python"
  },
  "orig_nbformat": 4
 },
 "nbformat": 4,
 "nbformat_minor": 2
}
