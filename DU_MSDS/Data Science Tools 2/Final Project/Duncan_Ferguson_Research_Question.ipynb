{
 "cells": [
  {
   "cell_type": "markdown",
   "metadata": {},
   "source": [
    "## Final Project Research Question\n",
    "#### Student: Duncan Ferguson\n",
    "\n",
    "Has the U.S. Started to Export more LNG to NATO? What Percentage of our exports of LNG is being directed to Nato?\n",
    "How does this compare to their demand?\n",
    "How much of European Natural Gas is met by sources that are not Russia?\n",
    "\n",
    "# US LNG EXPORTS BY Country\n",
    "https://www.eia.gov/dnav/ng/NG_MOVE_EXPC_S1_M.htm\n",
    "\n",
    "# Basin Statistics\n",
    "https://www.eia.gov/naturalgas/weekly/archivenew_ngwu/2021/09_30/\n",
    "\n",
    "https://www.bruegel.org/publications/datasets/european-natural-gas-imports/\n",
    "\n",
    "# EU Data for Imports of Natural Gas by Partner Country\n",
    "https://ec.europa.eu/eurostat/web/energy/data/database \n",
    "https://ec.europa.eu/eurostat/databrowser/view/nrg_ti_gasm/default/table?lang=en \n",
    "\n",
    "# European Supply, Transofrmation and consumption of gas\n",
    "https://ec.europa.eu/eurostat/databrowser/view/nrg_cb_gasm/default/table?lang=en\n",
    "\n",
    "# Non-energy consumption by fuel\n",
    "https://ec.europa.eu/eurostat/databrowser/view/ten00130/default/table?lang=en"
   ]
  }
 ],
 "metadata": {
  "interpreter": {
   "hash": "d8783e32c5200f84e7937b02edc9e22bc7475410b73bb066245c878d1c029ae2"
  },
  "kernelspec": {
   "display_name": "Python 3.9.5 ('GIS')",
   "language": "python",
   "name": "python3"
  },
  "language_info": {
   "codemirror_mode": {
    "name": "ipython",
    "version": 3
   },
   "file_extension": ".py",
   "mimetype": "text/x-python",
   "name": "python",
   "nbconvert_exporter": "python",
   "pygments_lexer": "ipython3",
   "version": "3.9.5"
  },
  "orig_nbformat": 4
 },
 "nbformat": 4,
 "nbformat_minor": 2
}
