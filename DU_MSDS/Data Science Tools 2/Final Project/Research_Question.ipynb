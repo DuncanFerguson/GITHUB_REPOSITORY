{
 "cells": [
  {
   "cell_type": "markdown",
   "metadata": {},
   "source": [
    "## Final Project Research Question\n",
    "#### Duncan Ferguson\n",
    "#### Student ID:\n",
    "#### Date\n",
    "\n",
    "# Some Title\n",
    "\n",
    "Scrapping data from Reddit for the new's headlines\n",
    "https://www.reddit.com/r/worldnews/?hl=\n",
    "\n",
    "https://gilberttanner.com/blog/scraping-redditdata\n",
    "https://towardsdatascience.com/scraping-reddit-data-1c0af3040768\n",
    "\n",
    "\n",
    "\n",
    "\n",
    "FGathering the data by \n",
    "\n",
    "Use Yahoo Finance for scrapping the data\n",
    "https://finance.yahoo.com/quote/GUSH?p=GUSH&.tsrc=fin-srch\n",
    "\n",
    "Secret: pcSHtlgmzzEYzV8kCGt45G-Zn4MIbA\n",
    "\n",
    "https://www.webscrapingapi.com/real-estate-web-scraper/"
   ]
  },
  {
   "cell_type": "code",
   "execution_count": 1,
   "metadata": {},
   "outputs": [
    {
     "name": "stdout",
     "output_type": "stream",
     "text": [
      "Index(['title', 'score', 'id', 'subreddit', 'url', 'num_comments', 'body',\n",
      "       'created'],\n",
      "      dtype='object')\n",
      "                                                title  score      id  \\\n",
      "3   'Never again will we need the West' Putin unve...  45131  u22chw   \n",
      "8   Russia 'moves military equipment towards Finni...  42515  u1x2tr   \n",
      "11  Marine Le Pen says she opposes sanctions on Ru...  39554  u1wk0n   \n",
      "74  Ukrainian battalion accuses Russia of using ch...  37983  u1h2dd   \n",
      "66  Anonymous vows to continue cyber war against R...  22639  u1ipma   \n",
      "..                                                ...    ...     ...   \n",
      "98  U.S. State Department orders all non-emergency...     80  u29szo   \n",
      "96  Chemical weapons watchdog ‘concerned’ by Mariu...     77  u2a8q9   \n",
      "89  UK military vaults upgraded to store new US nu...     67  u2bn90   \n",
      "90  Former President Lula da Silva has promised Br...     62  u2c4q9   \n",
      "95  Brazil's Lula promises indigenous tribes he wi...     54  u2cozf   \n",
      "\n",
      "    subreddit                                                url  \\\n",
      "3   worldnews  https://www.express.co.uk/news/world/1594979/P...   \n",
      "8   worldnews  https://www.dailymail.co.uk/news/article-10710...   \n",
      "11  worldnews     https://www.bbc.com/news/world-europe-61073894   \n",
      "74  worldnews  https://www.newsweek.com/ukrainian-battalion-a...   \n",
      "66  worldnews  https://fortune.com/2022/04/11/anonymous-cyber...   \n",
      "..        ...                                                ...   \n",
      "98  worldnews  https://www.cnbc.com/2022/04/11/us-state-depar...   \n",
      "96  worldnews  https://www.aljazeera.com/news/2022/4/12/chemi...   \n",
      "89  worldnews  https://www.theguardian.com/world/2022/apr/12/...   \n",
      "90  worldnews  https://www.reuters.com/world/americas/brazils...   \n",
      "95  worldnews  https://www.xapuri.info/lula/brazils-lula-prom...   \n",
      "\n",
      "    num_comments body       created  \n",
      "3           5032       1.649779e+09  \n",
      "8           5123       1.649764e+09  \n",
      "11          4519       1.649762e+09  \n",
      "74          2280       1.649710e+09  \n",
      "66           667       1.649714e+09  \n",
      "..           ...  ...           ...  \n",
      "98             7       1.649798e+09  \n",
      "96             1       1.649800e+09  \n",
      "89            18       1.649804e+09  \n",
      "90             8       1.649805e+09  \n",
      "95             2       1.649807e+09  \n",
      "\n",
      "[100 rows x 8 columns]\n"
     ]
    }
   ],
   "source": [
    "import praw\n",
    "\n",
    "# Creating my authentication\n",
    "reddit = praw.Reddit(client_id='k8t6xYU4n6_iiyt1dn4rSw', client_secret='pcSHtlgmzzEYzV8kCGt45G-Zn4MIbA', user_agent='Duncan_Scarpping')\n",
    "\n",
    "import pandas as pd\n",
    "posts = []\n",
    "ml_subreddit = reddit.subreddit('WorldNews')\n",
    "for post in ml_subreddit.hot(limit=100):\n",
    "    posts.append([post.title, post.score, post.id, post.subreddit, post.url, post.num_comments, post.selftext, post.created])\n",
    "posts = pd.DataFrame(posts,columns=['title', 'score', 'id', 'subreddit', 'url', 'num_comments', 'body', 'created'])\n",
    "print(posts.columns)\n",
    "print(posts.sort_values('score',ascending=False))\n"
   ]
  }
 ],
 "metadata": {
  "interpreter": {
   "hash": "d8783e32c5200f84e7937b02edc9e22bc7475410b73bb066245c878d1c029ae2"
  },
  "kernelspec": {
   "display_name": "Python 3.9.5 ('GIS')",
   "language": "python",
   "name": "python3"
  },
  "language_info": {
   "codemirror_mode": {
    "name": "ipython",
    "version": 3
   },
   "file_extension": ".py",
   "mimetype": "text/x-python",
   "name": "python",
   "nbconvert_exporter": "python",
   "pygments_lexer": "ipython3",
   "version": "3.9.5"
  },
  "orig_nbformat": 4
 },
 "nbformat": 4,
 "nbformat_minor": 2
}
