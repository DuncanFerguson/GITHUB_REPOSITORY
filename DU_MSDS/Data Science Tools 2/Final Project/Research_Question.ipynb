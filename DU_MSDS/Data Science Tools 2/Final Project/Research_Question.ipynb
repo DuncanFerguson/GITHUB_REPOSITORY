{
 "cells": [
  {
   "cell_type": "markdown",
   "metadata": {},
   "source": [
    "## Final Project Research Question\n",
    "#### Duncan Ferguson\n",
    "#### Student ID:\n",
    "#### Date\n",
    "\n",
    "# Some Title\n",
    "\n",
    "Scrapping data from Reddit for the new's headlines\n",
    "https://www.reddit.com/r/worldnews/?hl=\n",
    "\n",
    "https://gilberttanner.com/blog/scraping-redditdata\n",
    "https://towardsdatascience.com/scraping-reddit-data-1c0af3040768\n",
    "\n",
    "\n",
    "\n",
    "\n",
    "FGathering the data by \n",
    "\n",
    "Use Yahoo Finance for scrapping the data\n",
    "https://finance.yahoo.com/quote/GUSH?p=GUSH&.tsrc=fin-srch\n",
    "\n",
    "Secret: pcSHtlgmzzEYzV8kCGt45G-Zn4MIbA"
   ]
  },
  {
   "cell_type": "code",
   "execution_count": 11,
   "metadata": {},
   "outputs": [
    {
     "name": "stdout",
     "output_type": "stream",
     "text": [
      "Index(['title', 'score', 'id', 'subreddit', 'url', 'num_comments', 'body',\n",
      "       'created'],\n",
      "      dtype='object')\n",
      "                                                title  score      id  \\\n",
      "5   Zelenskyy says 'horrors' of Russian invasion c...  94610  tt3005   \n",
      "20  Russian troops withdrawn from Chernobyl 'suffe...  91344  tstprl   \n",
      "3   Russia Demands Wikipedia Take Down Information...  49701  tt830f   \n",
      "8   Vladimir Putin threatens to cut Europe off fro...  46241  tt0ar3   \n",
      "13  Russia drafts 134,500 conscripts but says they...  43247  tswpjh   \n",
      "..                                                ...    ...     ...   \n",
      "92  East Africa faces worst hunger crisis in decad...     46  ttea1m   \n",
      "97  Micronesia urges Solomons Islands not to sign ...     45  ttdyya   \n",
      "96  Ukrainian women escaped to give birth in a cou...     42  ttesyo   \n",
      "95  Chinese military stepping up night drills to c...     37  ttffqr   \n",
      "99  Taiwan donation drive to help Ukrainian refuge...     33  ttfer6   \n",
      "\n",
      "    subreddit                                                url  \\\n",
      "5   worldnews  https://www.businessinsider.com/zelenskyy-says...   \n",
      "20  worldnews  https://metro.co.uk/2022/03/31/chernobyl-withd...   \n",
      "3   worldnews  https://www.forbes.com/sites/dereksaul/2022/03...   \n",
      "8   worldnews  https://metro.co.uk/2022/03/31/ukraine-putin-t...   \n",
      "13  worldnews  https://www.reuters.com/world/europe/russia-dr...   \n",
      "..        ...                                                ...   \n",
      "92  worldnews  https://www.dw.com/en/east-africa-faces-worst-...   \n",
      "97  worldnews  https://au.finance.yahoo.com/news/micronesia-u...   \n",
      "96  worldnews  https://www.msn.com/en-US/news/world/ukrainian...   \n",
      "95  worldnews  https://www.scmp.com/news/china/military/artic...   \n",
      "99  worldnews       https://focustaiwan.tw/politics/202203310025   \n",
      "\n",
      "    num_comments body       created  \n",
      "5           4293       1.648742e+09  \n",
      "20          6558       1.648709e+09  \n",
      "3           2264       1.648756e+09  \n",
      "8           6043       1.648735e+09  \n",
      "13          3307       1.648722e+09  \n",
      "..           ...  ...           ...  \n",
      "92             7       1.648774e+09  \n",
      "97             8       1.648773e+09  \n",
      "96             0       1.648776e+09  \n",
      "95            29       1.648778e+09  \n",
      "99             3       1.648778e+09  \n",
      "\n",
      "[100 rows x 8 columns]\n"
     ]
    }
   ],
   "source": [
    "import praw\n",
    "\n",
    "# Creating my authentication\n",
    "reddit = praw.Reddit(client_id='k8t6xYU4n6_iiyt1dn4rSw', client_secret='pcSHtlgmzzEYzV8kCGt45G-Zn4MIbA', user_agent='Duncan_Scarpping')\n",
    "\n",
    "import pandas as pd\n",
    "posts = []\n",
    "ml_subreddit = reddit.subreddit('WorldNews')\n",
    "for post in ml_subreddit.hot(limit=100):\n",
    "    posts.append([post.title, post.score, post.id, post.subreddit, post.url, post.num_comments, post.selftext, post.created])\n",
    "posts = pd.DataFrame(posts,columns=['title', 'score', 'id', 'subreddit', 'url', 'num_comments', 'body', 'created'])\n",
    "print(posts.columns)\n",
    "print(posts.sort_values('score',ascending=False))\n"
   ]
  }
 ],
 "metadata": {
  "interpreter": {
   "hash": "d8783e32c5200f84e7937b02edc9e22bc7475410b73bb066245c878d1c029ae2"
  },
  "kernelspec": {
   "display_name": "Python 3.9.5 ('GIS')",
   "language": "python",
   "name": "python3"
  },
  "language_info": {
   "codemirror_mode": {
    "name": "ipython",
    "version": 3
   },
   "file_extension": ".py",
   "mimetype": "text/x-python",
   "name": "python",
   "nbconvert_exporter": "python",
   "pygments_lexer": "ipython3",
   "version": "3.9.5"
  },
  "orig_nbformat": 4
 },
 "nbformat": 4,
 "nbformat_minor": 2
}
