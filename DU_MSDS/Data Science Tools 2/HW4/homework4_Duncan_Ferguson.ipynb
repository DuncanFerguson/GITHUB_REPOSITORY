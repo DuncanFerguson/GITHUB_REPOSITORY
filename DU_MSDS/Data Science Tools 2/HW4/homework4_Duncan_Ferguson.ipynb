{
 "cells": [
  {
   "cell_type": "markdown",
   "metadata": {},
   "source": [
    "# Web Scraping and time series"
   ]
  },
  {
   "cell_type": "code",
   "execution_count": 2,
   "metadata": {},
   "outputs": [],
   "source": [
    "#import the necessary packages\n",
    "import requests\n",
    "import pandas as pd\n",
    "from bs4 import BeautifulSoup\n",
    "from selenium import webdriver\n",
    "from selenium.webdriver.support.ui import Select\n",
    "import matplotlib as plt\n",
    "%matplotlib inline"
   ]
  },
  {
   "cell_type": "markdown",
   "metadata": {},
   "source": [
    "### go to the Eurosport Paris Roubaix cycling results page and load it into a pandas dataframe\n",
    "\n",
    "https://www.eurosport.com/cycling/paris-roubaix/2022/live-road-race-men_mtc1323920/live.shtml\n",
    "\n",
    "Hint, pandas read_html() will fail to find the table even though it is on the page.  You need to find the table (class='standing-table') with a selenium driver.get() or BeautifulSoup, then pass that to pandas read_html()."
   ]
  },
  {
   "cell_type": "code",
   "execution_count": null,
   "metadata": {},
   "outputs": [],
   "source": []
  },
  {
   "cell_type": "markdown",
   "metadata": {},
   "source": [
    "### For the next part of the homework you will be scraping data from the following URL"
   ]
  },
  {
   "cell_type": "markdown",
   "metadata": {},
   "source": [
    "# US FDA web page\n",
    "https://www.accessdata.fda.gov/scripts/cder/daf/\n",
    "\n",
    "You are going to go to the FDA web page and search for Fentanyl.  It should return a list of all drugs that contain fentanyl.  The table that comes back is just a simple list of the drug names.  If you click on the drug name, it expands the row to show Drug Name, Link, NDA number, Dosage Form, Marketing Status, and Manufacturer.  You need to scrape this web page and print those values seperated by commas."
   ]
  },
  {
   "cell_type": "markdown",
   "metadata": {},
   "source": [
    "### POST forms\n",
    "POST forms do not put the data in the URL, the data is submitted via javascript.  You have to pretend to fill out the form and submit it.  Grabbing the parameters\n",
    "First we need to find out what parameters we’re going to hunt down. To do this, first make your way to the form, then get prepared.\n",
    "\n",
    "1) In Chrome, more tools > Developer Tools 2) Click the Network tab 3) Fill the form out, and submit it 4) Scroll up to the top of the Network pane, select the segment of the URL you’re at (I’m at tempai.cfm) 5) Click it 6) Select Headers on the right 7) Scroll down until you see Form Data"
   ]
  },
  {
   "cell_type": "markdown",
   "metadata": {},
   "source": [
    "### 1)  Part 1, enter the search term fentanyl and submit"
   ]
  },
  {
   "cell_type": "code",
   "execution_count": null,
   "metadata": {},
   "outputs": [],
   "source": []
  },
  {
   "cell_type": "markdown",
   "metadata": {},
   "source": [
    "### 2) Pull the data from the website, check the status code to make sure it was successfull and create a BeautifulSoup object and parse the data.  Print the soup object below:"
   ]
  },
  {
   "cell_type": "code",
   "execution_count": null,
   "metadata": {},
   "outputs": [],
   "source": []
  },
  {
   "cell_type": "markdown",
   "metadata": {},
   "source": [
    "### 3) import selenium webdriver and BeautifulSoup\n",
    "\n",
    "Get your webdriver and get the page.  Submit the search term and click the search button."
   ]
  },
  {
   "cell_type": "code",
   "execution_count": null,
   "metadata": {},
   "outputs": [],
   "source": []
  },
  {
   "cell_type": "markdown",
   "metadata": {},
   "source": [
    "### 4) run the selenium page_source through beautiful soup using the html parser"
   ]
  },
  {
   "cell_type": "code",
   "execution_count": null,
   "metadata": {},
   "outputs": [],
   "source": [
    "\n"
   ]
  },
  {
   "cell_type": "markdown",
   "metadata": {},
   "source": [
    "### 5) Grab all the rows from the table using find_all.  Note that some of the data is in a 'tr' header and some is in 'li'.\n",
    "\n",
    "Parse the data and print the results\n",
    "\n",
    "Note the link on the page is a relative link.  You must join that link with 'https://www.accessdata.fda.gov' to make it a link you can click on.\n",
    "Example:  https://www.accessdata.fda.gov/scripts/cder/daf/index.cfm?event=overview.process&ApplNo=022510"
   ]
  },
  {
   "cell_type": "markdown",
   "metadata": {},
   "source": [
    "### The output should look like this (except print all rows)\n",
    "Drug Name,Link,NDA number,Dosage Form,Marketing Status,Manufacturer\n",
    "\n",
    "ABSTRAL , https://www.accessdata.fda.gov/scripts/cder/daf/index.cfm?event=overview.process&ApplNo=022510 , NDA   #022510 , TABLET;SUBLINGUAL , Discontinued , SENTYNL THERAPS INC\n",
    "\n",
    "ACTIQ , https://www.accessdata.fda.gov/scripts/cder/daf/index.cfm?event=overview.process&ApplNo=020747 , NDA   #020747 , TROCHE/LOZENGE;TRANSMUCOSAL , Prescription , CEPHALON\n",
    "\n",
    "DURAGESIC-100 , https://www.accessdata.fda.gov/scripts/cder/daf/index.cfm?event=overview.process&ApplNo=019813 , NDA   #019813 , FILM, EXTENDED RELEASE;TRANSDERMAL , Discontinued , JANSSEN PHARMS\n",
    "\n",
    "DURAGESIC-12 , https://www.accessdata.fda.gov/scripts/cder/daf/index.cfm?event=overview.process&ApplNo=019813 , NDA   #019813 , FILM, EXTENDED RELEASE;TRANSDERMAL , Discontinued , JANSSEN PHARMS\n",
    "\n",
    "DURAGESIC-25 , https://www.accessdata.fda.gov/scripts/cder/daf/index.cfm?event=overview.process&ApplNo=019813 , NDA   #019813 , FILM, EXTENDED RELEASE;TRANSDERMAL , Discontinued , JANSSEN PHARMS\n"
   ]
  },
  {
   "cell_type": "code",
   "execution_count": null,
   "metadata": {},
   "outputs": [],
   "source": []
  },
  {
   "cell_type": "markdown",
   "metadata": {},
   "source": [
    "### 10 bonus points for following the link and getting the strength information from that page.  Print the strength information out along with everything you were getting above."
   ]
  },
  {
   "cell_type": "code",
   "execution_count": null,
   "metadata": {},
   "outputs": [],
   "source": []
  }
 ],
 "metadata": {
  "kernelspec": {
   "display_name": "Python 3 (ipykernel)",
   "language": "python",
   "name": "python3"
  },
  "language_info": {
   "codemirror_mode": {
    "name": "ipython",
    "version": 3
   },
   "file_extension": ".py",
   "mimetype": "text/x-python",
   "name": "python",
   "nbconvert_exporter": "python",
   "pygments_lexer": "ipython3",
   "version": "3.9.5"
  }
 },
 "nbformat": 4,
 "nbformat_minor": 2
}
