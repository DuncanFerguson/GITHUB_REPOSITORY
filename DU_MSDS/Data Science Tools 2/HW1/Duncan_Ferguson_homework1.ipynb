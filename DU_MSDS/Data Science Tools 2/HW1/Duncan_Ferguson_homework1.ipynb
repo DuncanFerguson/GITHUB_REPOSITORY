{
 "cells": [
  {
   "cell_type": "code",
   "execution_count": null,
   "metadata": {},
   "outputs": [],
   "source": [
    "import pandas as pd\n",
    "import numpy as np"
   ]
  },
  {
   "cell_type": "markdown",
   "metadata": {},
   "source": [
    "## Import the data from a website :\n",
    "\n",
    "For each question below please have the output showing that the command worked. This will help our TA grade your homeworks faster which I am sure that he will appreciate.\n",
    "\n",
    "Note : loading the data take a little while, so don't panic ;)"
   ]
  },
  {
   "cell_type": "code",
   "execution_count": null,
   "metadata": {},
   "outputs": [],
   "source": [
    "# URL containing the data\n",
    "url = 'https://raw.githubusercontent.com/guipsamora/pandas_exercises/master/07_Visualization/Online_Retail/Online_Retail.csv'\n",
    "\n",
    "# Read in the csv file from a website\n",
    "df_retail = pd.read_csv(url, encoding = 'latin1')\n",
    "\n",
    "# Show the first 5 entries of the dataframe\n",
    "df_retail.head()"
   ]
  },
  {
   "cell_type": "code",
   "execution_count": null,
   "metadata": {},
   "outputs": [],
   "source": [
    "#Checking the dimensions of our data\n",
    "df_retail.shape"
   ]
  },
  {
   "cell_type": "markdown",
   "metadata": {},
   "source": [
    "### 1) Change the column InvoiceNo to OrderNo and make it the indices for the dataframe. Drop the column InvoiceDate"
   ]
  },
  {
   "cell_type": "code",
   "execution_count": null,
   "metadata": {},
   "outputs": [],
   "source": [
    "#Change column InvoiceNo to OrderNo\n",
    "\n",
    "\n",
    "\n",
    "#Make OrderNo the indices of the dataframe\n",
    "\n",
    "\n",
    "# #Drop the column InvoiceDate\n",
    "\n",
    "\n",
    "#Showing result of our hard work\n"
   ]
  },
  {
   "cell_type": "markdown",
   "metadata": {},
   "source": [
    "### 2) Find the average amount people spent per country regardless of item, the average number of items sold per country and the total number of each item ordered."
   ]
  },
  {
   "cell_type": "code",
   "execution_count": null,
   "metadata": {},
   "outputs": [],
   "source": [
    "#Average amount spent across all items\n"
   ]
  },
  {
   "cell_type": "code",
   "execution_count": null,
   "metadata": {},
   "outputs": [],
   "source": [
    "#Average number of items sold per country\n"
   ]
  },
  {
   "cell_type": "code",
   "execution_count": null,
   "metadata": {},
   "outputs": [],
   "source": [
    "#Total number of each item sold worldwide\n"
   ]
  },
  {
   "cell_type": "markdown",
   "metadata": {},
   "source": [
    "### 3) Remove all rows that contain any missing data, have negative values in Quantity and any rows that have products that cost 10 cents or less, then find all the items that cost 25 cents or less."
   ]
  },
  {
   "cell_type": "code",
   "execution_count": null,
   "metadata": {},
   "outputs": [],
   "source": [
    "#Dropping rows with missing data\n"
   ]
  },
  {
   "cell_type": "code",
   "execution_count": null,
   "metadata": {},
   "outputs": [],
   "source": [
    "#Dropping rows with items costing 10 cents or less.\n"
   ]
  },
  {
   "cell_type": "code",
   "execution_count": null,
   "metadata": {},
   "outputs": [],
   "source": [
    "#Dropping all rows with negative quantities in Quantity column\n"
   ]
  },
  {
   "cell_type": "code",
   "execution_count": null,
   "metadata": {},
   "outputs": [],
   "source": [
    "#Retrieving all the items that cost 25 cents or less.\n"
   ]
  },
  {
   "cell_type": "markdown",
   "metadata": {},
   "source": [
    "### 4) Create two dataframes, one with the data of the United Kingdom and another with the data for France. Then merge the two using the StockCode column and add the suffixes '_UK' to the data from the UK and '_FR' to the data from France\n",
    "\n",
    "### Please comment on the number of rows that the result has compared to the number of rows the data originally had. Why did the number of rows increase ? What needs to be changed ?"
   ]
  },
  {
   "cell_type": "code",
   "execution_count": null,
   "metadata": {},
   "outputs": [],
   "source": [
    "#Create dataframe with the data from UK\n",
    "\n",
    "\n",
    "#Create dataframe with the data from France\n",
    "\n",
    "\n",
    "#Merge both dataframes using StockCode to match the data\n",
    "\n"
   ]
  },
  {
   "cell_type": "markdown",
   "metadata": {},
   "source": [
    "### 5) Create 3 labels : low, medium, shop-a-holic for each country based on the total number of good purchased."
   ]
  },
  {
   "cell_type": "code",
   "execution_count": null,
   "metadata": {},
   "outputs": [],
   "source": [
    "#Bins :\n",
    "\n",
    "#Labels :\n",
    "\n",
    "\n"
   ]
  },
  {
   "cell_type": "markdown",
   "metadata": {},
   "source": [
    "### 6) Create a pivot table for the data.\n",
    "\n",
    "### The table should provide the total number of products ordered for each product and every country. In other words, each product should have the associated coutries where that product was ordered and have the total number of that product that was ordered for each country."
   ]
  },
  {
   "cell_type": "code",
   "execution_count": null,
   "metadata": {},
   "outputs": [],
   "source": []
  },
  {
   "cell_type": "markdown",
   "metadata": {},
   "source": [
    "Congratulations ! You made it to the end of the file. Your reward is a joke:\n",
    "\n",
    "Q: What do you call a boomerang that doesn’t work?\n",
    "\n",
    "\n",
    "\n",
    "\n",
    "\n",
    "\n",
    "\n",
    "\n",
    "\n",
    "\n",
    "\n",
    "\n",
    "\n",
    "\n",
    "\n",
    "\n",
    "\n",
    "\n",
    "\n",
    "\n",
    "\n",
    "\n",
    "\n",
    "\n",
    "\n",
    "\n",
    "\n",
    "\n",
    "\n",
    "\n",
    "\n",
    "\n",
    "\n",
    "\n",
    "\n",
    "\n",
    "\n",
    "\n",
    "\n",
    "\n",
    "\n",
    "\n",
    "\n",
    "\n",
    "A: A stick."
   ]
  }
 ],
 "metadata": {
  "kernelspec": {
   "display_name": "Python 3",
   "language": "python",
   "name": "python3"
  },
  "language_info": {
   "codemirror_mode": {
    "name": "ipython",
    "version": 3
   },
   "file_extension": ".py",
   "mimetype": "text/x-python",
   "name": "python",
   "nbconvert_exporter": "python",
   "pygments_lexer": "ipython3",
   "version": "3.7.3"
  }
 },
 "nbformat": 4,
 "nbformat_minor": 2
}
