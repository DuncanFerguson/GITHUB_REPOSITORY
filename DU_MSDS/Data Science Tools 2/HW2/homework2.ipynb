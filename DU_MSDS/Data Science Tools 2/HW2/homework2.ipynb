{
 "cells": [
  {
   "cell_type": "markdown",
   "metadata": {},
   "source": [
    "# Let's work with some forest fire data.\n",
    "\n",
    "Quick import of the data and columns name creation."
   ]
  },
  {
   "cell_type": "code",
   "execution_count": null,
   "metadata": {},
   "outputs": [],
   "source": [
    "import pandas as pd\n",
    "import numpy as np\n",
    "import seaborn as sns\n",
    "import matplotlib.pyplot as plt"
   ]
  },
  {
   "cell_type": "code",
   "execution_count": null,
   "metadata": {},
   "outputs": [],
   "source": [
    "#Read in the data\n",
    "df = pd.read_csv('http://archive.ics.uci.edu/ml/machine-learning-databases/forest-fires/forestfires.csv')\n",
    "\n",
    "#Create the columns\n",
    "df.columns = ['X','Y','Month','Day','FFMC','DMC','DC','ISI','Temp','RH', 'Wind', 'Rain', 'Area']"
   ]
  },
  {
   "cell_type": "markdown",
   "metadata": {},
   "source": [
    "    1. X - x-axis spatial coordinate\n",
    "    2. Y - y-axis spatial coordinate\n",
    "    3. month - month of the year\n",
    "    4. day - day of the week: \"mon\" to \"sun\"\n",
    "    5. FFMC - FFMC index from the FWI system\n",
    "    6. DMC - DMC index from the FWI system\n",
    "    7. DC - DC index from the FWI system\n",
    "    8. ISI - ISI index from the FWI system\n",
    "    9. temp - temperature in Celsius degrees\n",
    "    10. RH - relative humidity in %\n",
    "    11. wind - wind speed in km/h\n",
    "    12. rain - outside rain in mm/m2\n",
    "    13. area - the burned area of the forest (in ha)\n",
    "    \n",
    "For more information about the Fire Weather Index (FWI) please visit [here](https://www.nwcg.gov/publications/pms437/cffdrs/fire-weather-index-system)\n",
    "\n",
    "This dataset is public available for research. The details are described in [Cortez and Morais, 2007]. \n",
    "  Please include this citation if you plan to use this database:\n",
    "\n",
    "  P. Cortez and A. Morais. A Data Mining Approach to Predict Forest Fires using Meteorological Data. \n",
    "  In J. Neves, M. F. Santos and J. Machado Eds., New Trends in Artificial Intelligence, \n",
    "  Proceedings of the 13th EPIA 2007 - Portuguese Conference on Artificial Intelligence, December, \n",
    "  Guimaraes, Portugal, pp. 512-523, 2007. APPIA, ISBN-13 978-989-95618-0-9. \n"
   ]
  },
  {
   "cell_type": "markdown",
   "metadata": {},
   "source": [
    "# Descriptive statistics"
   ]
  },
  {
   "cell_type": "markdown",
   "metadata": {},
   "source": [
    "### 1) Show an overview of the data, speciafically show the data type and the number of non-null values in each column. Also show the mean, std and quantiles of the Area column. What do the quantiles tell you about the burn area of forest fires ?"
   ]
  },
  {
   "cell_type": "code",
   "execution_count": null,
   "metadata": {},
   "outputs": [],
   "source": []
  },
  {
   "cell_type": "markdown",
   "metadata": {},
   "source": [
    "### 2) Show the 5 months that have the largest burn area of the forest on average. Based on the result, is the park in the northern or southern hemisphere ?"
   ]
  },
  {
   "cell_type": "code",
   "execution_count": null,
   "metadata": {},
   "outputs": [],
   "source": []
  },
  {
   "cell_type": "markdown",
   "metadata": {},
   "source": [
    "### Show the number of data points available for each month in the data set. Knowing that data points are collected when there is a fire, does it support your answer ?"
   ]
  },
  {
   "cell_type": "code",
   "execution_count": null,
   "metadata": {},
   "outputs": [],
   "source": []
  },
  {
   "cell_type": "markdown",
   "metadata": {},
   "source": [
    "### 3) Create two summary statistics tables : \n",
    "#### -The first table use : Area, Rain, Relative Humidity (RH), Temperature and Wind. \n",
    "#### -The second use : Area, FFMC, DMC, DC and ISI\n",
    "\n",
    "#### Calculate the total, average and standard deviation for 'Area' and calculate the average for everthing else.\n",
    "\n",
    "#### Map the months of the year to their numerical representation so that the data will be shown chronologically for the year, rathern than ordered alphabetically on the months"
   ]
  },
  {
   "cell_type": "code",
   "execution_count": null,
   "metadata": {},
   "outputs": [],
   "source": []
  },
  {
   "cell_type": "code",
   "execution_count": null,
   "metadata": {},
   "outputs": [],
   "source": []
  },
  {
   "cell_type": "code",
   "execution_count": null,
   "metadata": {},
   "outputs": [],
   "source": []
  },
  {
   "cell_type": "markdown",
   "metadata": {},
   "source": []
  },
  {
   "cell_type": "markdown",
   "metadata": {},
   "source": [
    "### 4) Which of the columns seem to correlate best with the area of burned forest ? Why ?"
   ]
  },
  {
   "cell_type": "markdown",
   "metadata": {},
   "source": []
  },
  {
   "cell_type": "markdown",
   "metadata": {},
   "source": [
    "\n",
    "\n",
    "# Visualization"
   ]
  },
  {
   "cell_type": "markdown",
   "metadata": {},
   "source": [
    "### 5) Visualize the Area burnt by month"
   ]
  },
  {
   "cell_type": "code",
   "execution_count": null,
   "metadata": {},
   "outputs": [],
   "source": []
  },
  {
   "cell_type": "markdown",
   "metadata": {},
   "source": [
    "The plot that you obtained is most likely underwhelming.... Most data points are squished near the value 0 for Area. To fix this, we must change the scale of the values in the Area column and we'll be using a logarithmic scale. \n",
    "\n",
    "Before you apply the logarithmic scale you will need to add a value of 1 to the Area column (this will avoid creating -inf values since the log function has a vertical asymptote at 0). You will also need apply() and the numpy log function.\n",
    "\n",
    "Once you have rescaled the Area data, please replot the same graph you did above and you should have a better 'spread of your data."
   ]
  },
  {
   "cell_type": "code",
   "execution_count": null,
   "metadata": {},
   "outputs": [],
   "source": []
  },
  {
   "cell_type": "markdown",
   "metadata": {},
   "source": [
    "### 6) Show the histogram of the Area variable. How does this histogram support your answer relating to the quantiles ?"
   ]
  },
  {
   "cell_type": "code",
   "execution_count": null,
   "metadata": {},
   "outputs": [],
   "source": []
  },
  {
   "cell_type": "markdown",
   "metadata": {},
   "source": [
    "### 7) Plot the relational plot between Area and the variables you chose in question 4. Comment on the relationship between the variables you chose and Area"
   ]
  },
  {
   "cell_type": "code",
   "execution_count": null,
   "metadata": {},
   "outputs": [],
   "source": []
  },
  {
   "cell_type": "code",
   "execution_count": null,
   "metadata": {},
   "outputs": [],
   "source": []
  }
 ],
 "metadata": {
  "kernelspec": {
   "display_name": "Python 3",
   "language": "python",
   "name": "python3"
  },
  "language_info": {
   "codemirror_mode": {
    "name": "ipython",
    "version": 3
   },
   "file_extension": ".py",
   "mimetype": "text/x-python",
   "name": "python",
   "nbconvert_exporter": "python",
   "pygments_lexer": "ipython3",
   "version": "3.9.5"
  }
 },
 "nbformat": 4,
 "nbformat_minor": 2
}
