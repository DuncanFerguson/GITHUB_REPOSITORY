{
 "cells": [
  {
   "cell_type": "markdown",
   "id": "98bb2258",
   "metadata": {},
   "source": [
    "### Homework 9\n",
    "### K-Means clustering"
   ]
  },
  {
   "cell_type": "code",
   "execution_count": 16,
   "id": "fe1bffb7",
   "metadata": {},
   "outputs": [],
   "source": [
    "import numpy as np\n",
    "from sklearn.datasets import make_blobs\n",
    "import matplotlib.pyplot as plt\n",
    "import pandas as pd\n",
    "from IPython.display import display"
   ]
  },
  {
   "cell_type": "markdown",
   "id": "804a6507",
   "metadata": {},
   "source": [
    "Make some dummy data"
   ]
  },
  {
   "cell_type": "code",
   "execution_count": 3,
   "id": "1e375ff8",
   "metadata": {},
   "outputs": [],
   "source": [
    "#Create some dummy data :\n",
    "n_samples = 1500\n",
    "random_state = 42\n",
    "X, y = make_blobs(n_samples=n_samples, random_state=random_state, centers=5)"
   ]
  },
  {
   "cell_type": "markdown",
   "id": "39fee0a2",
   "metadata": {},
   "source": [
    "### Plot the data to verify"
   ]
  },
  {
   "cell_type": "code",
   "execution_count": 4,
   "id": "73306ecf",
   "metadata": {},
   "outputs": [
    {
     "data": {
      "image/png": "[encoded data removed]",
      "text/plain": [
       "<Figure size 432x288 with 1 Axes>"
      ]
     },
     "metadata": {
      "needs_background": "light"
     },
     "output_type": "display_data"
    }
   ],
   "source": [
    "#Let's plot the data : \n",
    "plt.scatter(X[:, 0], X[:, 1],c=y)\n",
    "plt.show()"
   ]
  },
  {
   "cell_type": "markdown",
   "id": "2545a8e4",
   "metadata": {},
   "source": [
    "### Write your own K-Means clustering algorithm.  Do not use sklean or any other tools.  Just python and numpy are allowed.  Use K=5 for this problem.  Your goal is to use the K-Means algorithm to compute your own clusters, then compare the results to the clusters assigned by the make_blobs function.  See if they are close by looking at the plot.  Because the cluster numbers will not line up with the original cluster numbers, all you can do is look at the plots.\n",
    "\n",
    "### K-Means Algorithm Steps\n",
    "\n",
    "Step-1: Select the value of K, to decide the number of clusters to be formed.\n",
    "\n",
    "Step-2: Select random K points which will act as centroids.\n",
    "\n",
    "Step-3: Assign each data point, based on their distance from the randomly selected points (Centroid), to the nearest/closest centroid which will form the predefined clusters.\n",
    "\n",
    "Step-4: Compute the new centroid of each cluster.\n",
    "\n",
    "Step-5: Repeat step no.3, which reassigns each datapoint to the new closest centroid of each cluster.\n",
    "\n",
    "Step-6: If any reassignment occurs, then go to step-4 else go to Step 7.\n",
    "\n",
    "Step-7: FINISH"
   ]
  },
  {
   "cell_type": "code",
   "execution_count": 11,
   "id": "f3368556",
   "metadata": {},
   "outputs": [],
   "source": [
    "# Step 1: Select value of K, to decide the number of clusters to be formed.\n",
    "\n",
    "# There are more formal ways of choosing the K, but the assignment literaly says to use 5.\n",
    "k = 5"
   ]
  },
  {
   "cell_type": "code",
   "execution_count": 27,
   "id": "27b524cc",
   "metadata": {},
   "outputs": [],
   "source": [
    "# Step 2: Select random K points which will act as \n",
    "\n",
    "# Selecting a k random clusters\n",
    "centroids = X[np.random.choice(X.shape[0], k, replace=False)]\n",
    "centroids = pd.DataFrame(centroids)\n",
    "\n"
   ]
  },
  {
   "cell_type": "code",
   "execution_count": 28,
   "id": "ad72f47d",
   "metadata": {},
   "outputs": [
    {
     "ename": "ValueError",
     "evalue": "all the input array dimensions for the concatenation axis must match exactly, but along dimension 1, the array at index 0 has size 5 and the array at index 1 has size 2",
     "output_type": "error",
     "traceback": [
      "\u001b[1;31m---------------------------------------------------------------------------\u001b[0m",
      "\u001b[1;31mValueError\u001b[0m                                Traceback (most recent call last)",
      "\u001b[1;32m~\\AppData\\Local\\Temp/ipykernel_23332/2496722949.py\u001b[0m in \u001b[0;36m<module>\u001b[1;34m\u001b[0m\n\u001b[0;32m     22\u001b[0m \u001b[1;33m\u001b[0m\u001b[0m\n\u001b[0;32m     23\u001b[0m \u001b[1;33m\u001b[0m\u001b[0m\n\u001b[1;32m---> 24\u001b[1;33m \u001b[0mclusters\u001b[0m \u001b[1;33m=\u001b[0m \u001b[0massign_clusters\u001b[0m\u001b[1;33m(\u001b[0m\u001b[0mcentroids\u001b[0m\u001b[1;33m,\u001b[0m \u001b[0mX\u001b[0m\u001b[1;33m,\u001b[0m \u001b[0mk\u001b[0m\u001b[1;33m)\u001b[0m\u001b[1;33m\u001b[0m\u001b[1;33m\u001b[0m\u001b[0m\n\u001b[0m\u001b[0;32m     25\u001b[0m \u001b[1;33m\u001b[0m\u001b[0m\n",
      "\u001b[1;32m~\\AppData\\Local\\Temp/ipykernel_23332/2496722949.py\u001b[0m in \u001b[0;36massign_clusters\u001b[1;34m(centroids, df, k)\u001b[0m\n\u001b[0;32m     16\u001b[0m             \u001b[0mdivided_clusters\u001b[0m\u001b[1;33m[\u001b[0m\u001b[1;36m0\u001b[0m\u001b[1;33m]\u001b[0m \u001b[1;33m=\u001b[0m \u001b[0mnp\u001b[0m\u001b[1;33m.\u001b[0m\u001b[0mappend\u001b[0m\u001b[1;33m(\u001b[0m\u001b[0mdivided_clusters\u001b[0m\u001b[1;33m[\u001b[0m\u001b[1;36m0\u001b[0m\u001b[1;33m]\u001b[0m\u001b[1;33m,\u001b[0m \u001b[1;33m[\u001b[0m\u001b[0mrow\u001b[0m\u001b[1;33m]\u001b[0m\u001b[1;33m,\u001b[0m \u001b[0maxis\u001b[0m\u001b[1;33m=\u001b[0m\u001b[1;36m0\u001b[0m\u001b[1;33m)\u001b[0m\u001b[1;33m\u001b[0m\u001b[1;33m\u001b[0m\u001b[0m\n\u001b[0;32m     17\u001b[0m         \u001b[1;32melif\u001b[0m \u001b[0mmin\u001b[0m\u001b[1;33m(\u001b[0m\u001b[0md0\u001b[0m\u001b[1;33m,\u001b[0m \u001b[0md1\u001b[0m\u001b[1;33m)\u001b[0m \u001b[1;33m==\u001b[0m \u001b[0md1\u001b[0m\u001b[1;33m:\u001b[0m\u001b[1;33m\u001b[0m\u001b[1;33m\u001b[0m\u001b[0m\n\u001b[1;32m---> 18\u001b[1;33m             \u001b[0mdivided_clusters\u001b[0m\u001b[1;33m[\u001b[0m\u001b[1;36m1\u001b[0m\u001b[1;33m]\u001b[0m \u001b[1;33m=\u001b[0m \u001b[0mnp\u001b[0m\u001b[1;33m.\u001b[0m\u001b[0mappend\u001b[0m\u001b[1;33m(\u001b[0m\u001b[0mdivided_clusters\u001b[0m\u001b[1;33m[\u001b[0m\u001b[1;36m1\u001b[0m\u001b[1;33m]\u001b[0m\u001b[1;33m,\u001b[0m \u001b[1;33m[\u001b[0m\u001b[0mrow\u001b[0m\u001b[1;33m]\u001b[0m\u001b[1;33m,\u001b[0m \u001b[0maxis\u001b[0m\u001b[1;33m=\u001b[0m\u001b[1;36m0\u001b[0m\u001b[1;33m)\u001b[0m\u001b[1;33m\u001b[0m\u001b[1;33m\u001b[0m\u001b[0m\n\u001b[0m\u001b[0;32m     19\u001b[0m         \u001b[1;32melse\u001b[0m\u001b[1;33m:\u001b[0m\u001b[1;33m\u001b[0m\u001b[1;33m\u001b[0m\u001b[0m\n\u001b[0;32m     20\u001b[0m             \u001b[0mprint\u001b[0m\u001b[1;33m(\u001b[0m\u001b[1;34m\"Error\"\u001b[0m\u001b[1;33m)\u001b[0m\u001b[1;33m\u001b[0m\u001b[1;33m\u001b[0m\u001b[0m\n",
      "\u001b[1;32m<__array_function__ internals>\u001b[0m in \u001b[0;36mappend\u001b[1;34m(*args, **kwargs)\u001b[0m\n",
      "\u001b[1;32mc:\\Users\\dunca\\anaconda3\\envs\\GIS\\lib\\site-packages\\numpy\\lib\\function_base.py\u001b[0m in \u001b[0;36mappend\u001b[1;34m(arr, values, axis)\u001b[0m\n\u001b[0;32m   4743\u001b[0m         \u001b[0mvalues\u001b[0m \u001b[1;33m=\u001b[0m \u001b[0mravel\u001b[0m\u001b[1;33m(\u001b[0m\u001b[0mvalues\u001b[0m\u001b[1;33m)\u001b[0m\u001b[1;33m\u001b[0m\u001b[1;33m\u001b[0m\u001b[0m\n\u001b[0;32m   4744\u001b[0m         \u001b[0maxis\u001b[0m \u001b[1;33m=\u001b[0m \u001b[0marr\u001b[0m\u001b[1;33m.\u001b[0m\u001b[0mndim\u001b[0m\u001b[1;33m-\u001b[0m\u001b[1;36m1\u001b[0m\u001b[1;33m\u001b[0m\u001b[1;33m\u001b[0m\u001b[0m\n\u001b[1;32m-> 4745\u001b[1;33m     \u001b[1;32mreturn\u001b[0m \u001b[0mconcatenate\u001b[0m\u001b[1;33m(\u001b[0m\u001b[1;33m(\u001b[0m\u001b[0marr\u001b[0m\u001b[1;33m,\u001b[0m \u001b[0mvalues\u001b[0m\u001b[1;33m)\u001b[0m\u001b[1;33m,\u001b[0m \u001b[0maxis\u001b[0m\u001b[1;33m=\u001b[0m\u001b[0maxis\u001b[0m\u001b[1;33m)\u001b[0m\u001b[1;33m\u001b[0m\u001b[1;33m\u001b[0m\u001b[0m\n\u001b[0m\u001b[0;32m   4746\u001b[0m \u001b[1;33m\u001b[0m\u001b[0m\n\u001b[0;32m   4747\u001b[0m \u001b[1;33m\u001b[0m\u001b[0m\n",
      "\u001b[1;32m<__array_function__ internals>\u001b[0m in \u001b[0;36mconcatenate\u001b[1;34m(*args, **kwargs)\u001b[0m\n",
      "\u001b[1;31mValueError\u001b[0m: all the input array dimensions for the concatenation axis must match exactly, but along dimension 1, the array at index 0 has size 5 and the array at index 1 has size 2"
     ]
    }
   ],
   "source": [
    "# Step-3: Assign each data point, based on their distance from the randomly selected points (Centroid), \n",
    "# to the nearest/closest centroid which will form the predefined clusters.\n",
    "def Euclidean_D(point1, point2):\n",
    "    \"\"\"This Function Finds the distance between two points\"\"\"\n",
    "    dist = (((point2[0]-point1[0])**2) + ((point2[1]-point1[1])**2))\n",
    "    return dist\n",
    "\n",
    "def assign_clusters(centroids, df, k):\n",
    "    \"\"\"This Assigns Clusters to closest centroid\"\"\"\n",
    "    np.random.shuffle(df)\n",
    "    divided_clusters = {i:np.empty([0, k]) for i in range(k)}\n",
    "    for row in df:\n",
    "        d0 = Euclidean_D(centroids[0], row)\n",
    "        d1 = Euclidean_D(centroids[1], row)\n",
    "        if min(d0, d1) == d0:\n",
    "            divided_clusters[0] = np.append(divided_clusters[0], [row], axis=0)\n",
    "        elif min(d0, d1) == d1:\n",
    "            divided_clusters[1] = np.append(divided_clusters[1], [row], axis=0)\n",
    "        else:\n",
    "            print(\"Error\")\n",
    "    return divided_clusters\n",
    "\n",
    "\n",
    "clusters = assign_clusters(centroids, X, k)\n",
    "\n"
   ]
  },
  {
   "cell_type": "code",
   "execution_count": null,
   "id": "32d4738c",
   "metadata": {},
   "outputs": [],
   "source": []
  },
  {
   "cell_type": "code",
   "execution_count": null,
   "id": "94dbd7fb",
   "metadata": {},
   "outputs": [],
   "source": [
    "\n",
    "\n",
    "Step-4: Compute the new centroid of each cluster.\n",
    "\n",
    "Step-5: Repeat step no.3, which reassigns each datapoint to the new closest centroid of each cluster.\n",
    "\n",
    "Step-6: If any reassignment occurs, then go to step-4 else go to Step 7.\n",
    "\n",
    "Step-7: FINISH"
   ]
  },
  {
   "cell_type": "code",
   "execution_count": null,
   "id": "d578c936",
   "metadata": {},
   "outputs": [],
   "source": [
    "def Euclidean_D(point1, point2):\n",
    "    \"\"\"This Function Finds the distance between two 3d points\"\"\"\n",
    "    dist = (((point2[0]-point1[0])**2) + ((point2[1]-point1[1])**2) + ((point2[2]-point1[2])**2))**(1/2)\n",
    "    return dist\n",
    "\n"
   ]
  },
  {
   "cell_type": "markdown",
   "id": "1c324c70",
   "metadata": {},
   "source": [
    "### Plot the cluster assignments to see if they look the same"
   ]
  },
  {
   "cell_type": "code",
   "execution_count": null,
   "id": "edcf25af",
   "metadata": {},
   "outputs": [],
   "source": []
  },
  {
   "cell_type": "markdown",
   "id": "180c68d1",
   "metadata": {},
   "source": [
    "### Calculate the Within Cluster Sum of Squares.  WCSS is the sum of the square of the distance between the point and its cluster center."
   ]
  },
  {
   "cell_type": "code",
   "execution_count": null,
   "id": "910e9d79",
   "metadata": {},
   "outputs": [],
   "source": []
  },
  {
   "cell_type": "markdown",
   "id": "ef9d4834",
   "metadata": {},
   "source": [
    "### Run a loop from k=1 to k=10 and compute WCSS for each value of K.  Plot the WCSS values for each value of K and identify the elbow."
   ]
  },
  {
   "cell_type": "code",
   "execution_count": null,
   "id": "714cc708",
   "metadata": {},
   "outputs": [],
   "source": [
    "import pandas as pd\n",
    "import numpy as np\n",
    "\n",
    "def Euclidean_D(point1, point2):\n",
    "    \"\"\"This Function Finds the distance between two 3d points\"\"\"\n",
    "    dist = (((point2[0]-point1[0])**2) + ((point2[1]-point1[1])**2) + ((point2[2]-point1[2])**2))**(1/2)\n",
    "    return dist\n",
    "\n",
    "def assign_clusters(centroids, df, k):\n",
    "    \"\"\"This Assigns Clusters to closest centroid\"\"\"\n",
    "    np.random.shuffle(df)\n",
    "    divided_clusters = {i:np.empty([0, k]) for i in range(k)}\n",
    "    for row in df:\n",
    "        d0 = Euclidean_D(centroids[0], row)\n",
    "        d1 = Euclidean_D(centroids[1], row)\n",
    "        d2 = Euclidean_D(centroids[2], row)\n",
    "        if min(d0, d1, d2) == d0:\n",
    "            divided_clusters[0] = np.append(divided_clusters[0], [row], axis=0)\n",
    "        elif min(d0, d1, d2) == d1:\n",
    "            divided_clusters[1] = np.append(divided_clusters[1], [row], axis=0)\n",
    "        elif min(d0, d1, d2) == d2:\n",
    "            divided_clusters[2] = np.append(divided_clusters[2], [row], axis=0)\n",
    "        else:\n",
    "            print(\"Error\")\n",
    "    return divided_clusters\n",
    "\n",
    "def cluster_out(centroids, clusters, k):\n",
    "    \"\"\"This function saves the centroids and the clusters in to a txt file\"\"\"\n",
    "    for i in range(k):\n",
    "        print(\"centroid \", i, \":\", centroids[i])\n",
    "        print(\"number of points in cluster = \", len(clusters[i]))\n",
    "        print(clusters[i])\n",
    "        with open(\"handCodedOut.txt\", \"w+\") as file:\n",
    "\n",
    "            file.write(\"centroid: 0 \\n\")\n",
    "            file.write(\"number of points in cluser = \" + str(len(clusters[0])) + \"\\n\")\n",
    "            file.write(str(clusters[0]) + \"\\n\")\n",
    "\n",
    "            file.write(\"centroid 1 \\n\")\n",
    "            file.write(\"number of points in cluser = \" + str(len(clusters[1])) + \"\\n\")\n",
    "            file.write(str(clusters[1]) + \"\\n\")\n",
    "\n",
    "            file.write(\"centroid 2 \\n\")\n",
    "            file.write(\"number of points in cluser = \" + str(len(clusters[2]))+  \"\\n\")\n",
    "            file.write(str(clusters[2]) + \"\\n\")\n",
    "            file.close()\n",
    "\n",
    "\n",
    "def main():\n",
    "    \"\"\"This is the main Code that Runs the hand coded version of the K-means\"\"\"\n",
    "\n",
    "    # Importing the Data\n",
    "    df = pd.read_csv(\"exercise8_infile1.csv\")\n",
    "    df = df.values\n",
    "    k = 3  # Number of Clusters\n",
    "\n",
    "    # Selecting a k random clusters\n",
    "    centroids = df[np.random.choice(df.shape[0], k, replace=False)]\n",
    "\n",
    "    # If selecting These Points as the centroid errors can occur. These errors don't occur on account of the written\n",
    "    # Algorithm. But rather they show weak points within the algorithm.\n",
    "\n",
    "    # centroids = np.array([[30.92971026, 30.87633269, 32.24465664],\n",
    "    #                    [30.96752128, 27.96099865, 30.42075504],\n",
    "    #                    [19.00357287, 19.37803004, 19.99621703]])\n",
    "\n",
    "    # centroids = np.array([[21.171324000344764, 18.40821391520864, 21.44046497631136],\n",
    "    #                      [31.181805503563798, 30.392759945491296, 30.52821442244597],\n",
    "    #                      [29.664278271579857, 30.650114855130788, 29.576174153798604]])\n",
    "    # centroids = np.array([[11.49310608, 10.25651919, 10.54837198],\n",
    "    #                       [24.4627228 , 24.21263294, 24.46612038],\n",
    "    #                       [ 8.37872705,  8.70543244,  9.90606954]])\n",
    "\n",
    "    # Initializing the base case for the three clusters\n",
    "    clusters = assign_clusters(centroids, df, k)\n",
    "    for l in range(k):\n",
    "        centroids[l] = np.mean(clusters[l], axis=0)\n",
    "\n",
    "    # Could have used the while loop that we had with the group from mikes code\n",
    "    # Just wanted to rip through the algorithm knowing this way can work if you set the iterations to a high number\n",
    "    # That way it can be used later on larger data sets if I dont want to go through too many times\n",
    "    iterations = 10000\n",
    "    for _ in range(iterations):\n",
    "        clusters = assign_clusters(centroids, df, k)\n",
    "        for l in range(k):\n",
    "            centroids[l] = np.mean(clusters[l], axis=0)\n",
    "\n",
    "    # Sending the centroids and the clusters out to get outputted to a file\n",
    "    cluster_out(centroids, clusters, k)\n",
    "\n",
    "\n",
    "if __name__ == \"__main__\":\n",
    "    main()\n"
   ]
  }
 ],
 "metadata": {
  "interpreter": {
   "hash": "40b8c000fbbebcd68cd80c38dc16ff666c81e0eb8e78703503e6c330662146cf"
  },
  "kernelspec": {
   "display_name": "Python 3.9.5 ('GIS')",
   "language": "python",
   "name": "python3"
  },
  "language_info": {
   "codemirror_mode": {
    "name": "ipython",
    "version": 3
   },
   "file_extension": ".py",
   "mimetype": "text/x-python",
   "name": "python",
   "nbconvert_exporter": "python",
   "pygments_lexer": "ipython3",
   "version": "3.9.5"
  }
 },
 "nbformat": 4,
 "nbformat_minor": 5
}
