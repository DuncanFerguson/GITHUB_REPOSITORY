{
 "cells": [
  {
   "cell_type": "code",
   "execution_count": null,
   "metadata": {},
   "outputs": [],
   "source": [
    "%matplotlib inline\n",
    "import matplotlib\n",
    "import seaborn as sns\n",
    "sns.set()\n",
    "matplotlib.rcParams['figure.dpi'] = 144"
   ]
  },
  {
   "cell_type": "code",
   "execution_count": null,
   "metadata": {},
   "outputs": [],
   "source": [
    "import matplotlib.pyplot as plt\n",
    "import numpy as np"
   ]
  },
  {
   "cell_type": "markdown",
   "metadata": {},
   "source": [
    "# Matplotlib\n",
    "\n",
    "<!-- requirement: small_data/flights14.csv -->"
   ]
  },
  {
   "cell_type": "markdown",
   "metadata": {},
   "source": [
    "`Matplotlib` lets you plot things, and `matplotlib.pyplot` is a layer on top of it to give it a `MATLAB`-like syntax. You can make illustrations ranging from simple line plots to complicated combinations of different plotting primitives.  `Matplotlib` is great for static academic illustrations.  For more interactive plots check out a package like `Bokeh`.\n",
    "\n",
    "`Matplotlib` operates with a wide set of default settings for the way things should look (for example, the width of a plotted line), but is also extremely customizable by way of optional arguments and keyword arguments to most of the plotting functions.  As we work through examples, keep an eye out for these arguments."
   ]
  },
  {
   "cell_type": "markdown",
   "metadata": {},
   "source": [
    "### The anathomy of matplotlib\n",
    ".\n",
    "\n",
    "<img src=\"matplotlib anat.png\" width=\"600\">"
   ]
  },
  {
   "cell_type": "markdown",
   "metadata": {},
   "source": [
    "### Line plot\n",
    "Matplotlib can do basic X-Y plots if you give it the `x` and `y` data of equal length.  Here is a plot of a few sample paths of Brownian Motion.\n",
    "\n",
    "Notice that calling `plt.plot` multiple results in multiple lines on the same figure.  Call `plt.figure` to create a new figure."
   ]
  },
  {
   "cell_type": "code",
   "execution_count": null,
   "metadata": {},
   "outputs": [],
   "source": [
    "# Line plot example\n",
    "xs = np.random.randn(5, 100)\n",
    "\n",
    "plt.title(\"A few paths of Brownian Motion\")\n",
    "bms = xs.cumsum(1)\n",
    "for bm in bms:\n",
    "    plt.plot(bm) # [0,...,N-1] is used for x when only y data is specified "
   ]
  },
  {
   "cell_type": "markdown",
   "metadata": {},
   "source": [
    "Cool example!  But we should really always have labels on our plots, so let's add a label for the x and y axis.  We can do this with the `xlabel` and `ylabel` commands.  "
   ]
  },
  {
   "cell_type": "code",
   "execution_count": null,
   "metadata": {},
   "outputs": [],
   "source": [
    "# Line plot example\n",
    "xs = np.random.randn(5, 100)\n",
    "\n",
    "plt.title(\"A few paths of Brownian Motion\")\n",
    "bms = xs.cumsum(1)\n",
    "for bm in bms:\n",
    "    plt.plot(bm)\n",
    "plt.xlabel('step')\n",
    "plt.ylabel('displacement');"
   ]
  },
  {
   "cell_type": "markdown",
   "metadata": {},
   "source": [
    "Our plot is getting much nicer, but we often want to add labels to the individual lines and gather these into a legend.  The easiest way to do this is to provide a `label` argument to each `plt.plot` command and then use the `plt.legend()` function which will find all the labels for the plotted lines and format this into a legend."
   ]
  },
  {
   "cell_type": "code",
   "execution_count": null,
   "metadata": {},
   "outputs": [],
   "source": [
    "# Line plot example\n",
    "xs = np.random.randn(5, 100)\n",
    "\n",
    "plt.title(\"A few paths of Brownian Motion\")\n",
    "bms = xs.cumsum(1)\n",
    "for i, bm in enumerate(bms):\n",
    "    plt.plot(bm, label='path {}'.format(i))\n",
    "plt.xlabel('step')\n",
    "plt.ylabel('displacement')\n",
    "plt.legend(loc='best')"
   ]
  },
  {
   "cell_type": "markdown",
   "metadata": {},
   "source": [
    "### Scatter plot\n",
    "`Matplotlib` can generate 2D scatter plot data. Just like the `plt.plot` function, the `plt.scatter` function takes in two arrays (or lists) of equal length and plots them as `x,y` coordinates.  We can also pass in a few other parameters, namely `c` which is an array to control the color of each point and `s` an array to control the size of each point."
   ]
  },
  {
   "cell_type": "code",
   "execution_count": null,
   "metadata": {},
   "outputs": [],
   "source": [
    "# Generate randomly sampled dots within the unit circle, with gamma-distributed radius\n",
    "N=250\n",
    "A=20\n",
    "xo,yo = np.random.uniform(low=-1, high=1, size=N), np.random.uniform(low=-1, high=1, size=N)\n",
    "so = A*np.random.gamma(4.5, 1.0, size=N)\n",
    "\n",
    "x = xo[xo**2+yo**2 < 1]\n",
    "y = yo[xo**2+yo**2 < 1]\n",
    "s = so[xo**2+yo**2 < 1]\n",
    "\n",
    "# Scatter plot, with _s_izes and translucent circles\n",
    "plt.scatter(x, y, s=s, alpha=0.5)"
   ]
  },
  {
   "cell_type": "markdown",
   "metadata": {},
   "source": [
    "### Histograms\n",
    "`Matplotlib` can also plot histograms from raw count data.  They are a useful way of looking at distributions of data.  A `histogram` can be made with the `plt.hist` function.  This function returns three things, the histogram values, the edges of the bins and the patches or list of patches used for the histogram.\n",
    "\n",
    "Let's try this with a `gamma` distribution."
   ]
  },
  {
   "cell_type": "code",
   "execution_count": null,
   "metadata": {},
   "outputs": [],
   "source": [
    "data = np.random.gamma(shape=4.5,scale=1.0,size=10000)\n",
    "hplt=plt.hist(data, bins=60, alpha=.5)"
   ]
  },
  {
   "cell_type": "code",
   "execution_count": null,
   "metadata": {},
   "outputs": [],
   "source": [
    "hplt"
   ]
  },
  {
   "cell_type": "code",
   "execution_count": null,
   "metadata": {},
   "outputs": [],
   "source": [
    "n, bins, patches = plt.hist(data, bins=60, alpha=.5)\n",
    "patches[20].set_color('orange')\n",
    "plt.title(\"Gamma(4.5, 1.0) distribution, 10000 samples\")\n",
    "plt.xlabel(\"Value\")\n",
    "plt.ylabel(\"Occurances per 10,000\");"
   ]
  },
  {
   "cell_type": "markdown",
   "metadata": {},
   "source": [
    "Now we can look at the counts and the bins"
   ]
  },
  {
   "cell_type": "markdown",
   "metadata": {},
   "source": [
    "One reason we might want to know the bins is to plot two histograms with the same bins"
   ]
  },
  {
   "cell_type": "code",
   "execution_count": null,
   "metadata": {},
   "outputs": [],
   "source": [
    "bins = np.linspace(0, 20, 50)\n",
    "for gamma in [3, 4.5]:\n",
    "    data = np.random.gamma(gamma, 1.0, 10000)\n",
    "    n, bins, patches = plt.hist(data, bins=bins, \n",
    "                                alpha=.5, \n",
    "                                density=True,\n",
    "                                label=\"Gamma({}, 1.0)\".format(gamma))\n",
    "plt.title(\"Gamma distribution, 10000 samples\")\n",
    "plt.legend(loc='best')\n",
    "plt.xlabel(\"Value\")\n",
    "plt.ylabel(\"Occurances per 10,000\");"
   ]
  },
  {
   "cell_type": "markdown",
   "metadata": {},
   "source": [
    "You might have noticed we have been adjusting the images opacity through use of the `alpha` keyword argument, this is because histograms tend to look better when they are not opaque and this is particularly true when we have multiple histograms on the same plot."
   ]
  },
  {
   "cell_type": "markdown",
   "metadata": {},
   "source": [
    "### Images\n",
    "`Matplotlib` can plot arrays as 2D images, using a color map that you specify.  Conventionally, we represent images with the origin placed at the upper left instead of lower left corner, so watch out! "
   ]
  },
  {
   "cell_type": "code",
   "execution_count": null,
   "metadata": {},
   "outputs": [],
   "source": [
    "a = np.arange(-4, 4, 0.01)\n",
    "\n",
    "x, y = np.meshgrid(a, a)\n",
    "assert(x.shape == (len(a), len(a)))\n",
    "r = np.sqrt(x ** 2 + y ** 2)\n",
    "plt.imshow(r, cmap=plt.cm.viridis)\n",
    "plt.colorbar()\n",
    "plt.title(\"radius\")\n",
    "plt.xlabel(\"x\")\n",
    "plt.ylabel(\"y\")"
   ]
  },
  {
   "cell_type": "markdown",
   "metadata": {},
   "source": []
  },
  {
   "cell_type": "markdown",
   "metadata": {},
   "source": [
    "## Matplotlib and Pyplot\n",
    "You'll notice that all of the plots created thus far started with `plt.` That references this import at the top of the notebook:\n",
    "\n",
    "```python\n",
    "import matplotlib.pyplot as plt\n",
    "```\n",
    "\n",
    "Pyplot is a special plotting \"state machine\" created for Matplotlib to simplify the creation of plots. Basically, it has an internal concept of the current chart being operated on by the set of methods made available to you. It is a wrapper around Matplotlib's object oriented plotting library.\n",
    "\n",
    "For the previous plot, we could have created it like this:"
   ]
  },
  {
   "cell_type": "code",
   "execution_count": null,
   "metadata": {},
   "outputs": [],
   "source": [
    "fig = plt.figure()\n",
    "ax = fig.add_subplot(111)\n",
    "ax.imshow(r, cmap=plt.cm.viridis)\n",
    "fig.colorbar(ax.get_images()[0])\n",
    "ax.set_title(\"radius\")\n",
    "ax.set_xlabel(\"x\")\n",
    "ax.set_ylabel(\"y\")"
   ]
  },
  {
   "cell_type": "markdown",
   "metadata": {},
   "source": [
    "This approach is more typing but it exposes some of the hidden complexity in `pyplot`. There are figure and axis objects and each has methods that contribute to the result.\n",
    "\n",
    "One approach is not necessarily better than the other, but it is important to know that there is a `pyplot` state machine that creates plots and there is a separate object oriented approach for creating plots.\n",
    "\n",
    "Later in your Python adventures you will see sample Matplotlib code on the Internet and will want to use it to add features to your data visualizations. The sample code might not easily fit the code you have already written if one is using `pyplot` and the other is not.\n",
    "\n",
    "To help you with this, `pyplot` provides the `gcf` and `gca` methods. You can use these to get `pyplot`'s current figure or axis objects."
   ]
  },
  {
   "cell_type": "markdown",
   "metadata": {},
   "source": [
    "### Matplotlib subplots\n",
    "Frequently you will want 2 or more plots in the same figure. You can do that with the subplot command.\n",
    "\n",
    "A common way of creating subplots is with a 3 digit number. The hundreds digit represents the number of rows, the tens digit represents the number of columns, and the ones digit represents the current chart. You call this repeatedly to move from one subplot to the next."
   ]
  },
  {
   "cell_type": "code",
   "execution_count": null,
   "metadata": {},
   "outputs": [],
   "source": [
    "# create a 2x2 subplot grid, and prepare to plot data into the first subplot.\n",
    "plt.subplot(2, 2, 1)\n",
    "plt.title('Upper Left',fontsize=8)\n",
    "plt.plot(np.random.rand(10))\n",
    "\n",
    "# move to the second subplot\n",
    "plt.subplot(2, 2, 2)\n",
    "plt.title('Upper Right',fontsize=8)\n",
    "plt.plot(np.random.rand(10))\n",
    "\n",
    "# move to the third\n",
    "plt.subplot(2, 2, 3)\n",
    "plt.title('Lower Left',fontsize=8)\n",
    "plt.plot(np.random.rand(10))\n",
    "\n",
    "# move to the last subplot\n",
    "plt.subplot(2, 2, 4)\n",
    "plt.title('Lower Right',fontsize=8)\n",
    "plt.plot(np.random.rand(10))"
   ]
  },
  {
   "cell_type": "markdown",
   "metadata": {},
   "source": [
    "These plots look a bit squeezed together, if we want to make them a bit more clean, we can force `Matplotlib` to lay them out in a better format with the `plt.tight_layout()` function."
   ]
  },
  {
   "cell_type": "code",
   "execution_count": null,
   "metadata": {},
   "outputs": [],
   "source": [
    "# create a 2x2 subplot grid, and prepare to plot data into the first subplot.\n",
    "plt.subplot(2, 2, 1)\n",
    "plt.title('Upper Left')\n",
    "plt.plot(np.random.rand(10))\n",
    "\n",
    "# move to the second subplot\n",
    "plt.subplot(2, 2, 2)\n",
    "plt.title('Upper Right')\n",
    "plt.plot(np.random.rand(10))\n",
    "\n",
    "# move to the third\n",
    "plt.subplot(2, 2, 3)\n",
    "plt.title('Lower Left')\n",
    "plt.plot(np.random.rand(10))\n",
    "\n",
    "# move to the last subplot\n",
    "plt.subplot(2, 2, 4)\n",
    "plt.title('Lower Right')\n",
    "plt.plot(np.random.rand(10))\n",
    "\n",
    "#plt.subplots_adjust(hspace=0.4,wspace=0.4,left=0.8)\n",
    "plt.tight_layout()"
   ]
  },
  {
   "cell_type": "markdown",
   "metadata": {},
   "source": [
    "## Matplotlib plots from Pandas\n",
    "The Pandas library comes with built-in plotting tools. Data stored in a DataFrame can be plotted just as easily as the previous examples."
   ]
  },
  {
   "cell_type": "code",
   "execution_count": null,
   "metadata": {},
   "outputs": [],
   "source": [
    "import pandas as pd"
   ]
  },
  {
   "cell_type": "markdown",
   "metadata": {},
   "source": [
    "Let's make a `DataFrame` with some random data, we can then use it to make some nice plots."
   ]
  },
  {
   "cell_type": "code",
   "execution_count": null,
   "metadata": {},
   "outputs": [],
   "source": [
    "test_data = pd.DataFrame(np.random.rand(10, 2),\n",
    "                      index=np.arange(10),\n",
    "                      columns=['A', 'B'])\n",
    "test_data"
   ]
  },
  {
   "cell_type": "markdown",
   "metadata": {},
   "source": [
    "`DataFrame` objects have a few plotting methods, each one of them makes some assumptions about the type of data generally stored in a `DataFrame` (namely structured, tabular data) and thus can make a decent looking plot with effectively zero configuration.\n",
    "\n",
    "For example, when we call the `plot` method, notice that it automatically adds a legend with the column names."
   ]
  },
  {
   "cell_type": "code",
   "execution_count": null,
   "metadata": {},
   "outputs": [],
   "source": [
    "test_data.plot()"
   ]
  },
  {
   "cell_type": "markdown",
   "metadata": {},
   "source": [
    "By default, it assumes you would like to see a line chart. Other choices are available.  Perhaps we want a bar chart:"
   ]
  },
  {
   "cell_type": "code",
   "execution_count": null,
   "metadata": {},
   "outputs": [],
   "source": [
    "test_data.plot.bar()"
   ]
  },
  {
   "cell_type": "markdown",
   "metadata": {},
   "source": [
    "Just like in `Matplotlib`, we can pass parameters to the `bar` method to adjust the chart, here let's use a stacked chart and color things blue and red."
   ]
  },
  {
   "cell_type": "code",
   "execution_count": null,
   "metadata": {},
   "outputs": [],
   "source": [
    "test_data.plot.bar(stacked=True, color=['red', 'blue'], legend=False)"
   ]
  },
  {
   "cell_type": "markdown",
   "metadata": {},
   "source": [
    "These plots can be useful for visually inspecting your data and general exploratory data analysis.\n",
    "\n",
    "As we have already seen, a histogram is particularly helpful for understanding the range and distribution of your data. Outliers will be visible, as well as potential data errors."
   ]
  },
  {
   "cell_type": "code",
   "execution_count": null,
   "metadata": {},
   "outputs": [],
   "source": [
    "test_hist = pd.DataFrame(np.random.beta(0.6, 0.5, size=5000),\n",
    "                      columns=['Beta(0.6, 0.5)'])\n",
    "\n",
    "test_hist.hist(bins=100, color='red');"
   ]
  },
  {
   "cell_type": "markdown",
   "metadata": {},
   "source": [
    "One of the great features of Pandas and plotting is how it handles dates."
   ]
  },
  {
   "cell_type": "code",
   "execution_count": null,
   "metadata": {},
   "outputs": [],
   "source": [
    "import pandas.util.testing as pd_testing\n",
    "\n",
    "#it creates a dummy dataframe with random real number of 4 columns A,B,C,D, and using date as index\n",
    "time_df = pd_testing.makeTimeDataFrame(50).cumsum()\n",
    "\n",
    "time_df.head()"
   ]
  },
  {
   "cell_type": "markdown",
   "metadata": {},
   "source": [
    "This DataFrame has dates in the index. Pandas tries to figure out an intelligent way of arranging the x axis so the labels look pretty."
   ]
  },
  {
   "cell_type": "code",
   "execution_count": null,
   "metadata": {},
   "outputs": [],
   "source": [
    "time_df.plot()"
   ]
  },
  {
   "cell_type": "markdown",
   "metadata": {},
   "source": [
    "### `Matplotlib` in and out of `Jupyter` Notebooks"
   ]
  },
  {
   "cell_type": "markdown",
   "metadata": {},
   "source": [
    "You have may have noticed that our plots appear directly in the notebook, which is extremely useful for most forms of exploratory data science.  We can achieve this through the use of the `%matplotlib inline` magic which you might notice we use in the top cell of most of our notebooks.  Often this is enough, but when we want to use `Matplotlib` outside of the notebooks, the usage is slightly different.  Instead of figures appearing after the end of a cell, they appear only after the `plt.show()` function is executed.  This creates a separate window with an interactive plot.  To try it, run the following code in a python interpreter within a desktop environment (sadly not our `Jupyterhub` environment).\n",
    "\n",
    "```python\n",
    "import numpy as np\n",
    "import matplotlib.pyplot as plt\n",
    "\n",
    "x = np.linspace(0, 10, 20)\n",
    "y = x ** 2\n",
    "plt.plot(x, y)\n",
    "plt.xlabel('x')\n",
    "plt.ylabel('y')\n",
    "plt.show()\n",
    "```\n",
    "\n",
    "Both in and out of a notebook we can save the figures we create to disk, through the `plt.savefig` command.  This takes in a string for the location on disk to place the saved figure and will inspect the extension to use the correct format.  For example, let's run the previous code and save it as a `png` file."
   ]
  },
  {
   "cell_type": "code",
   "execution_count": null,
   "metadata": {},
   "outputs": [],
   "source": [
    "x = np.linspace(0, 10, 20)\n",
    "y = x ** 2\n",
    "plt.plot(x, y)\n",
    "plt.xlabel('x')\n",
    "plt.ylabel('y')\n",
    "plt.savefig('example_plot.png')"
   ]
  },
  {
   "cell_type": "markdown",
   "metadata": {},
   "source": [
    "Let's look at this image."
   ]
  },
  {
   "cell_type": "code",
   "execution_count": null,
   "metadata": {},
   "outputs": [],
   "source": [
    "from IPython import display\n",
    "display.Image('example_plot.png')"
   ]
  },
  {
   "cell_type": "markdown",
   "metadata": {},
   "source": [
    "We can also save a host of other file formats like `jpg` and `pdf`.  One common issue can be seen with the following plot where we rotate the labels so that they are readable."
   ]
  },
  {
   "cell_type": "code",
   "execution_count": null,
   "metadata": {},
   "outputs": [],
   "source": [
    "def gen_plot():\n",
    "    labels = ['carl baggins', \n",
    "              'patrick callahan', \n",
    "              'mitt clinton', \n",
    "              'donald jackson',\n",
    "              'mickey mouse',\n",
    "              'sally mcfarland',\n",
    "              'hope walker',\n",
    "              'cynthia smith']\n",
    "    data = [25, 21, 40, 10, 15, 50, 20, 43]\n",
    "    plt.bar(labels, data)\n",
    "    plt.xticks(np.arange(len(labels)), labels, rotation=40)\n",
    "\n",
    "gen_plot()\n",
    "plt.savefig('bar.png', dpi=250)"
   ]
  },
  {
   "cell_type": "markdown",
   "metadata": {},
   "source": [
    "If we look at the image, we can see some of the text is cut off."
   ]
  },
  {
   "cell_type": "code",
   "execution_count": null,
   "metadata": {},
   "outputs": [],
   "source": [
    "display.Image('bar.png')"
   ]
  },
  {
   "cell_type": "markdown",
   "metadata": {},
   "source": [
    "In order to fix this, we can generate the plot again and then save it with the `bbox_inches` keyword argument."
   ]
  },
  {
   "cell_type": "code",
   "execution_count": null,
   "metadata": {},
   "outputs": [],
   "source": [
    "gen_plot()\n",
    "plt.savefig('bar_fixed.png', dpi=250, bbox_inches='tight')"
   ]
  },
  {
   "cell_type": "code",
   "execution_count": null,
   "metadata": {},
   "outputs": [],
   "source": [
    "display.Image('bar_fixed.png')"
   ]
  },
  {
   "cell_type": "markdown",
   "metadata": {},
   "source": [
    "### Control the color and grids"
   ]
  },
  {
   "cell_type": "code",
   "execution_count": null,
   "metadata": {},
   "outputs": [],
   "source": [
    "import seaborn as sns # just for the dataset\n",
    "\n",
    "df_iris = sns.load_dataset('iris') \n",
    "print(df_iris.head()) \n",
    "color_int=150*[0]\n",
    "for i in range(150):\n",
    "    if df_iris.iloc[i]['species'] == 'versicolor': color_int[i] = 1\n",
    "    elif df_iris.iloc[i]['species'] == 'virginica': color_int[i] = 2"
   ]
  },
  {
   "cell_type": "code",
   "execution_count": null,
   "metadata": {},
   "outputs": [],
   "source": [
    "fig1 = plt.figure(figsize=(14,8),num=61) \n",
    "ax1 = fig1.gca() \n",
    "ax1.scatter(df_iris['sepal_length'],df_iris['sepal_width'], c=color_int) \n",
    "plt.show()\n",
    "        \n",
    "ax1.grid(b=True, which='major', color='red',linestyle='-')\n",
    "# Show the minor grid lines with very faint and # almost transparent grey lines ax1.minorticks_on()\n",
    "ax1.minorticks_on()\n",
    "ax1.grid(b=True, which='minor', color='red', linestyle='-', alpha=0.2)"
   ]
  },
  {
   "cell_type": "code",
   "execution_count": null,
   "metadata": {},
   "outputs": [],
   "source": [
    "rng = np.arange(50)\n",
    "rnd = np.random.randint(0, 10, size=(3, rng.size))\n",
    "yrs = 1950 + rng\n",
    "\n",
    "fig, ax = plt.subplots(figsize=(5, 3))\n",
    "ax.stackplot(yrs, rng + rnd, labels=['Eastasia', 'Eurasia', 'Oceania'])\n",
    "ax.set_title('Combined debt growth over time')\n",
    "ax.legend(loc='upper left')\n",
    "ax.set_ylabel('Total debt')\n",
    "ax.set_xlim(xmin=yrs[0], xmax=yrs[-1])\n",
    "fig.tight_layout()"
   ]
  },
  {
   "cell_type": "markdown",
   "metadata": {},
   "source": [
    "### More examples on using subplots ###"
   ]
  },
  {
   "cell_type": "code",
   "execution_count": null,
   "metadata": {},
   "outputs": [],
   "source": [
    "fig2, ax2 = plt.subplots(1,3,figsize=(15,5),num=62) \n",
    "ax2[0].hist(df_iris['sepal_length'], bins=30) \n",
    "ax2[0].grid(b=True, which='major', color='#666666',linestyle='-')\n",
    "ax2[0].minorticks_on()\n",
    "ax2[0].grid(b=True, which='minor', color='#999999', linestyle='-', alpha=0.2)\n",
    "\n",
    "ax2[1].boxplot(df_iris['sepal_length']) \n",
    "ax2[1].grid(b=True, which='major', color='#666666',linestyle='-')\n",
    "ax2[1].minorticks_on()\n",
    "ax2[1].grid(b=True, which='minor', color='#999999', linestyle='-', alpha=0.2)\n",
    "\n",
    "ax2[2].violinplot(df_iris['sepal_length']) \n",
    "ax2[2].grid(b=True, which='major', color='#666666',linestyle='-')\n",
    "ax2[2].minorticks_on()\n",
    "ax2[2].grid(b=True, which='minor', color='#999999', linestyle='-', alpha=0.2) "
   ]
  },
  {
   "cell_type": "code",
   "execution_count": null,
   "metadata": {},
   "outputs": [],
   "source": [
    "fig2, (ax1,ax2,ax3) = plt.subplots(1,3,figsize=(15,5),num=63) \n",
    "\n",
    "ax2.hist(df_iris['sepal_length'], bins=30) \n",
    "ax2.grid(b=True, which='major', color='#666666',linestyle='-')\n",
    "ax2.minorticks_on()\n",
    "ax2.grid(b=True, which='minor', color='#999999', linestyle='-', alpha=0.2)"
   ]
  },
  {
   "cell_type": "markdown",
   "metadata": {},
   "source": [
    "Let’s look at an example with multiple subplots (Axes) within one Figure, plotting two correlated arrays that are drawn from the discrete uniform distribution:"
   ]
  },
  {
   "cell_type": "code",
   "execution_count": null,
   "metadata": {},
   "outputs": [],
   "source": [
    "x = np.random.randint(low=1, high=11, size=50)\n",
    "y = x + np.random.randint(1, 5, size=x.size)\n",
    "data = np.column_stack((x, y))\n",
    "\n",
    "fig, (ax1, ax2) = plt.subplots(nrows=1, ncols=2,figsize=(8, 4))\n",
    "\n",
    "ax1.scatter(x=x, y=y, marker='o', c='r', edgecolor='b')\n",
    "ax1.set_title('Scatter: $x$ versus $y$')\n",
    "ax1.set_xlabel('$x$')\n",
    "ax1.set_ylabel('$y$')\n",
    "\n",
    "ax2.hist(data, bins=np.arange(data.min(), data.max()),label=('x', 'y'))\n",
    "ax2.legend(loc=(0.65, 0.8))\n",
    "ax2.set_title('Frequencies of $x$ and $y$')\n",
    "ax2.yaxis.tick_right()"
   ]
  },
  {
   "cell_type": "code",
   "execution_count": null,
   "metadata": {},
   "outputs": [],
   "source": [
    "Country=pd.read_csv('Data/Country.csv')\n",
    "Indicators=pd.read_csv('Data/Indicators.csv')\n",
    "Series=pd.read_csv('Data/Series.csv')"
   ]
  },
  {
   "cell_type": "code",
   "execution_count": null,
   "metadata": {},
   "outputs": [],
   "source": [
    "Indicators.head()"
   ]
  },
  {
   "cell_type": "code",
   "execution_count": null,
   "metadata": {},
   "outputs": [],
   "source": [
    "import matplotlib\n",
    "\n",
    "params = {'axes.titlesize':'6',\n",
    "          'xtick.labelsize':'4',\n",
    "          'ytick.labelsize':'4'}\n",
    "matplotlib.rcParams.update(params)\n",
    "\n",
    "my_plot=Indicators[Indicators.Year<1970][['Value','Year']].groupby('Year').boxplot()\n",
    "plt.xlabel('xlabel', fontsize=18)\n",
    "plt.ylabel('ylabel', fontsize=16)"
   ]
  },
  {
   "cell_type": "code",
   "execution_count": null,
   "metadata": {},
   "outputs": [],
   "source": [
    "grouped=Indicators[Indicators.Year<1970][['Value','Year']].groupby('Year')\n",
    "\n",
    "ncols=3\n",
    "nrows = int(np.ceil(grouped.ngroups/ncols))\n",
    "\n",
    "fig, axes = plt.subplots(nrows=nrows, ncols=ncols, figsize=(8,4), sharey=True)\n",
    "\n",
    "i=0\n",
    "for (key, ax) in zip(grouped.groups.keys(), axes.flatten()):\n",
    "    grouped.get_group(key).boxplot(ax=ax)\n",
    "    ax.set_title('A')\n",
    "\n",
    "ax.legend()\n",
    "plt.show()"
   ]
  },
  {
   "cell_type": "code",
   "execution_count": null,
   "metadata": {},
   "outputs": [],
   "source": [
    "base_dict={'Score':np.random.randint(0,9,100),\n",
    "          'mode':np.random.choice(['low','high','mean'],100),\n",
    "          'lon':np.random.rand(100)*5-33,\n",
    "          'lat':np.random.rand(100)*5+73}\n",
    "\n",
    "df=pd.DataFrame(base_dict,columns=['Score','mode','lon','lat'])\n",
    "my_plot=df.hist(by='Score')"
   ]
  },
  {
   "cell_type": "code",
   "execution_count": null,
   "metadata": {},
   "outputs": [],
   "source": [
    "axes = df.hist(by='Score',figsize=(50, 30))\n",
    "for row in axes:\n",
    "    for x in row:\n",
    "        x.set_title('Humidity',fontsize= 30)\n",
    "        x.set_xlabel('Humidity',fontsize= 30)\n",
    "        x.set_ylabel('Humidity',fontsize= 30)"
   ]
  },
  {
   "cell_type": "markdown",
   "metadata": {},
   "source": [
    "### Irregular Grid "
   ]
  },
  {
   "cell_type": "code",
   "execution_count": null,
   "metadata": {},
   "outputs": [],
   "source": [
    "from io import BytesIO\n",
    "import tarfile\n",
    "from urllib.request import urlopen\n",
    "\n",
    "url = 'http://www.dcc.fc.up.pt/~ltorgo/Regression/cal_housing.tgz'\n",
    "b = BytesIO(urlopen(url).read())\n",
    "fpath = 'CaliforniaHousing/cal_housing.data'\n",
    "\n",
    "with tarfile.open(mode='r', fileobj=b) as archive:\n",
    "    housing = np.loadtxt(archive.extractfile(fpath), delimiter=',')\n",
    "    \n",
    "y = housing[:, -1]\n",
    "pop, age = housing[:, [4, 7]].T"
   ]
  },
  {
   "cell_type": "code",
   "execution_count": null,
   "metadata": {},
   "outputs": [],
   "source": [
    "def add_titlebox(ax, text):\n",
    "    ax.text(.55, .8, text,\n",
    "            horizontalalignment='center',\n",
    "            transform=ax.transAxes,\n",
    "            bbox=dict(facecolor='white', alpha=0.6),\n",
    "            fontsize=12.5)\n",
    "    return ax"
   ]
  },
  {
   "cell_type": "code",
   "execution_count": null,
   "metadata": {},
   "outputs": [],
   "source": [
    "gridsize = (3, 2)\n",
    "fig = plt.figure(figsize=(12, 8))\n",
    "ax1 = plt.subplot2grid(gridsize, (0, 0), colspan=2, rowspan=2)\n",
    "ax2 = plt.subplot2grid(gridsize, (2, 0))\n",
    "ax3 = plt.subplot2grid(gridsize, (2, 1))\n",
    "\n",
    "ax1.set_title('Home value as a function of home age & area population', fontsize=14)\n",
    "sctr = ax1.scatter(x=age, y=pop, c=y, cmap='RdYlGn')\n",
    "plt.colorbar(sctr, ax=ax1, format='$%d')\n",
    "ax1.set_yscale('log')\n",
    "ax2.hist(age, bins='auto')\n",
    "ax3.hist(pop, bins='auto', log=True)\n",
    "\n",
    "add_titlebox(ax2, 'Histogram: home age')\n",
    "add_titlebox(ax3, 'Histogram: area population (log scl.)')"
   ]
  },
  {
   "cell_type": "markdown",
   "metadata": {},
   "source": [
    "#### what we actually have is a 3x2 grid. ax1 is twice the height and width of ax2/ax3, meaning that it takes up two columns and two rows.\n",
    "\n",
    "<br>\n",
    "<img src=\"irregular.png\" width=\"500\">"
   ]
  },
  {
   "cell_type": "markdown",
   "metadata": {},
   "source": [
    "### First Method to arrange subplots"
   ]
  },
  {
   "cell_type": "code",
   "execution_count": null,
   "metadata": {},
   "outputs": [],
   "source": [
    "import matplotlib.pyplot as plt\n",
    "\n",
    "fig = plt.figure()\n",
    "\n",
    "ax1 = fig.add_subplot(321)\n",
    "ax2 = fig.add_subplot(323)\n",
    "ax3 = fig.add_subplot(325)\n",
    "\n",
    "\n",
    "ax4 = fig.add_subplot(222)\n",
    "ax5 = fig.add_subplot(224)"
   ]
  },
  {
   "cell_type": "markdown",
   "metadata": {},
   "source": [
    "### Second Method to arrange subplots"
   ]
  },
  {
   "cell_type": "code",
   "execution_count": null,
   "metadata": {},
   "outputs": [],
   "source": [
    "fig = plt.figure()\n",
    "gs = fig.add_gridspec(1, 2)\n",
    "\n",
    "gs0 = gs[0].subgridspec(3, 1)\n",
    "gs1 = gs[1].subgridspec(2, 1)\n",
    "\n",
    "ax1=fig.add_subplot(gs0[0, 0])\n",
    "ax2=fig.add_subplot(gs0[1, 0])\n",
    "ax3=fig.add_subplot(gs0[2, 0])\n",
    "ax4=fig.add_subplot(gs1[0, 0])\n",
    "ax5=fig.add_subplot(gs1[1, 0])"
   ]
  },
  {
   "cell_type": "markdown",
   "metadata": {},
   "source": [
    "### Exercises\n",
    "\n",
    "1) To plot the following, use 5 color/ 5 font / 5label/ 5 title"
   ]
  },
  {
   "cell_type": "markdown",
   "metadata": {},
   "source": [
    "<img src=\"ex.png\" width=\"600\">"
   ]
  },
  {
   "cell_type": "markdown",
   "metadata": {},
   "source": [
    "#### Axes 1: Plot Sin(x)\n",
    "#### Axes 2 : Plot Cos(x)\n",
    "#### Axes 3: A Line plot\n",
    "#### Axes 4: Plot hist(random noraml) \n",
    "#### Axes 5: Plot Scatter"
   ]
  },
  {
   "cell_type": "code",
   "execution_count": null,
   "metadata": {},
   "outputs": [],
   "source": [
    "### First method: using add_subplots\n",
    "import matplotlib.gridspec as gridspec"
   ]
  },
  {
   "cell_type": "code",
   "execution_count": null,
   "metadata": {},
   "outputs": [],
   "source": [
    "### second method gridspec: using subplot2grid\n",
    "\n",
    "gridsize=(3,3)\n",
    "\n",
    "ax1=plt.subplot2grid(gridsize, (0,0), colspan=3)\n",
    "ax2=plt.subplot2grid(gridsize, (1,0), colspan=2)\n",
    "ax3=plt.subplot2grid(gridsize, (1,2), rowspan=2)\n",
    "ax4=plt.subplot2grid(gridsize, (2,0))\n",
    "ax5=plt.subplot2grid(gridsize, (2,1))"
   ]
  },
  {
   "cell_type": "markdown",
   "metadata": {},
   "source": [
    "2) Generate an `np.array` of normally distributed samples and plot them using the histogram function.  Overlay with a 2D plot of the standard normal PDF function.  What happens as the number of random samples increases? Can you use different color to indicate the bins with 5 and 95 percentile?"
   ]
  },
  {
   "cell_type": "code",
   "execution_count": null,
   "metadata": {},
   "outputs": [],
   "source": []
  }
 ],
 "metadata": {
  "kernelspec": {
   "display_name": "Python 3",
   "language": "python",
   "name": "python3"
  },
  "language_info": {
   "codemirror_mode": {
    "name": "ipython",
    "version": 3
   },
   "file_extension": ".py",
   "mimetype": "text/x-python",
   "name": "python",
   "nbconvert_exporter": "python",
   "pygments_lexer": "ipython3",
   "version": "3.9.2"
  },
  "nbclean": true
 },
 "nbformat": 4,
 "nbformat_minor": 1
}
