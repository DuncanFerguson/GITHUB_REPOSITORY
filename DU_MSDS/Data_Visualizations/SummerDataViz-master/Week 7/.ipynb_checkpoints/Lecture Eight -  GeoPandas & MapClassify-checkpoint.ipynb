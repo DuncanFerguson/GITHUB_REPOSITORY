{
 "cells": [
  {
   "cell_type": "markdown",
   "metadata": {},
   "source": [
    "# GeoPandas"
   ]
  },
  {
   "cell_type": "markdown",
   "metadata": {},
   "source": [
    "`GeoPandas` is an open source project to make working with geospatial data in python easier. `GeoPandas` extends the datatypes used by `pandas` to allow spatial operations on geometric types. Geometric operations are performed by `shapely`. `Geopandas` further depends on `fiona` for file access and `descartes` and `matplotlib` for plotting… `GeoPandas` enables you to easily do operations in python that would otherwise require a spatial database such as `PostGIS`."
   ]
  },
  {
   "cell_type": "markdown",
   "metadata": {},
   "source": [
    "Required dependencies:\n",
    "- `numpy`\n",
    "- `pandas` (version 0.19.1 or later)\n",
    "- `shapely` (interface to GEOS)\n",
    "- `fiona` (interface to GDAL)\n",
    "- `pyproj` (interface to PROJ)\n",
    "\n",
    "\n",
    "- `rtree` (optional; spatial index to improve performance and required for overlay operations; interface to libspatialindex)\n",
    "- `psycopg2` (optional; for PostGIS connection)\n",
    "- `geopy` (optional; for geocoding)\n",
    "\n",
    "For plotting, these additional packages may be used:\n",
    "- `matplotlib`\n",
    "- `descartes`\n",
    "- `mapclassify`"
   ]
  },
  {
   "cell_type": "markdown",
   "metadata": {},
   "source": [
    "### Shapely"
   ]
  },
  {
   "cell_type": "code",
   "execution_count": null,
   "metadata": {},
   "outputs": [],
   "source": [
    "from shapely.geometry import Point\n",
    "patch = Point(0.0, 0.0).buffer(10.0)\n",
    "patch"
   ]
  },
  {
   "cell_type": "code",
   "execution_count": null,
   "metadata": {},
   "outputs": [],
   "source": [
    "patch.area"
   ]
  },
  {
   "cell_type": "code",
   "execution_count": null,
   "metadata": {},
   "outputs": [],
   "source": [
    "from shapely.wkt import dumps, loads\n",
    "\n",
    "dumps(loads('POINT (0 0)')) #well-known text"
   ]
  },
  {
   "cell_type": "code",
   "execution_count": null,
   "metadata": {},
   "outputs": [],
   "source": [
    "from shapely.geometry import Point, LineString, Polygon\n",
    "\n",
    "polygon = Polygon(((-1.0, -1.0), (-1.0, 1.0), (1.0, 1.0), (1.0, -1.0)))\n",
    "\n",
    "point_r = Point(-1.5, 1.2)\n",
    "point_g = Point(-1.0, 1.0)\n",
    "point_b = Point(-0.5, 0.5)\n",
    "\n",
    "line_r = LineString(((-0.5, 0.5), (0.5, 0.5)))\n"
   ]
  },
  {
   "cell_type": "code",
   "execution_count": null,
   "metadata": {},
   "outputs": [],
   "source": [
    "line_r"
   ]
  },
  {
   "cell_type": "markdown",
   "metadata": {},
   "source": [
    "### Fiona"
   ]
  },
  {
   "cell_type": "markdown",
   "metadata": {},
   "source": [
    "Fiona reads and writes geographic data files and thereby helps Python programmers integrate geographic information systems with other computer systems. Fiona contains extension modules that link the Geospatial Data Abstraction Library (GDAL)."
   ]
  },
  {
   "cell_type": "markdown",
   "metadata": {},
   "source": [
    "### Descarets"
   ]
  },
  {
   "cell_type": "markdown",
   "metadata": {},
   "source": [
    "Use Shapely or GeoJSON-like geometric objects as matplotlib paths and patches ([example](https://sgillies.net/2010/04/07/descartes.html))"
   ]
  },
  {
   "cell_type": "code",
   "execution_count": null,
   "metadata": {},
   "outputs": [],
   "source": [
    "from matplotlib import pyplot\n",
    "from shapely.geometry import LineString\n",
    "from descartes import PolygonPatch\n",
    "\n",
    "fig = pyplot.figure(1, figsize=(10, 4), dpi=180)\n",
    "\n",
    "# Plot 1: dilating a line\n",
    "line = LineString([(0, 0), (1, 1), (0, 2), (2, 2), (3, 1), (1, 0)])\n",
    "ax = fig.add_subplot(121)\n",
    "dilated = line.buffer(0.5)\n",
    "patch1 = PolygonPatch(dilated, facecolor='#99ccff', edgecolor='#6699cc')\n",
    "ax.add_patch(patch1)\n",
    "x, y = line.xy\n",
    "ax.plot(x, y, color='#999999')\n",
    "ax.set_xlim(-1, 4)\n",
    "ax.set_ylim(-1, 3)\n",
    "\n",
    "# Plot 2: eroding the polygon from 1\n",
    "ax = fig.add_subplot(122)\n",
    "patch2a = PolygonPatch(dilated, facecolor='#cccccc', edgecolor='#999999')\n",
    "ax.add_patch(patch2a)\n",
    "eroded = dilated.buffer(-0.3)\n",
    "patch2b = PolygonPatch(eroded, facecolor='#99ccff', edgecolor='#6699cc')\n",
    "ax.add_patch(patch2b)\n",
    "ax.set_xlim(-1, 4)\n",
    "ax.set_ylim(-1, 3)\n",
    "\n",
    "pyplot.show()"
   ]
  },
  {
   "cell_type": "markdown",
   "metadata": {},
   "source": [
    "# Choropleth"
   ]
  },
  {
   "cell_type": "code",
   "execution_count": null,
   "metadata": {},
   "outputs": [],
   "source": [
    "import geopandas as gpd\n",
    "\n",
    "world = gpd.read_file(gpd.datasets.get_path('naturalearth_lowres'))\n",
    "cities = gpd.read_file(gpd.datasets.get_path('naturalearth_cities'))\n",
    "world.head()"
   ]
  },
  {
   "cell_type": "code",
   "execution_count": null,
   "metadata": {},
   "outputs": [],
   "source": [
    "world.plot( figsize=(16, 9))"
   ]
  },
  {
   "cell_type": "code",
   "execution_count": null,
   "metadata": {},
   "outputs": [],
   "source": [
    "world.columns"
   ]
  },
  {
   "cell_type": "code",
   "execution_count": null,
   "metadata": {},
   "outputs": [],
   "source": [
    "world = world[(world.pop_est>0) & (world.name!=\"Antarctica\")]\n",
    "world['gdp_per_cap'] = world.gdp_md_est / world.pop_est\n",
    "\n",
    "world.plot(column='gdp_per_cap', figsize=(16, 9));"
   ]
  },
  {
   "cell_type": "markdown",
   "metadata": {},
   "source": [
    "Adding a legend to plot"
   ]
  },
  {
   "cell_type": "code",
   "execution_count": null,
   "metadata": {},
   "outputs": [],
   "source": [
    "import matplotlib.pyplot as plt\n",
    "\n",
    "fig, ax = plt.subplots(1, 1, figsize=(16, 9))\n",
    "\n",
    "world.plot(column='pop_est', ax=ax, legend=True)"
   ]
  },
  {
   "cell_type": "markdown",
   "metadata": {},
   "source": [
    "Controlling legend to plot"
   ]
  },
  {
   "cell_type": "code",
   "execution_count": null,
   "metadata": {},
   "outputs": [],
   "source": [
    "from mpl_toolkits.axes_grid1 import make_axes_locatable\n",
    "\n",
    "fig, ax = plt.subplots(1, 1, figsize=(16, 9))\n",
    "\n",
    "divider = make_axes_locatable(ax)\n",
    "cax = divider.append_axes(\"right\", size=\"3%\", pad=0.2)\n",
    "\n",
    "world.plot(column='pop_est', ax=ax, legend=True, cax=cax)"
   ]
  },
  {
   "cell_type": "markdown",
   "metadata": {},
   "source": [
    "The way color maps are scaled can also be manipulated with the `scheme` option "
   ]
  },
  {
   "cell_type": "code",
   "execution_count": null,
   "metadata": {},
   "outputs": [],
   "source": [
    "world.plot(column='gdp_per_cap', cmap='OrRd', scheme='quantiles',legend=True, figsize=(16, 9));"
   ]
  },
  {
   "cell_type": "markdown",
   "metadata": {},
   "source": [
    "# MapClassify"
   ]
  },
  {
   "cell_type": "markdown",
   "metadata": {},
   "source": [
    "`mapclassify` is intended to be used with visualizaiton packages to handle the actual rendering of the choropleth maps defined on its classifiers. In this notebook, we explore some examples of how this is done. The notebook also includes an example that combines `mapclassify` with [ipywidgets](https://ipywidgets.readthedocs.io/en/latest/) to allow for the interactive exploration of the choice of:\n",
    "\n",
    "- classification method\n",
    "- number of classes\n",
    "- colormap"
   ]
  },
  {
   "cell_type": "code",
   "execution_count": null,
   "metadata": {},
   "outputs": [],
   "source": [
    "import libpysal \n",
    "import mapclassify"
   ]
  },
  {
   "cell_type": "markdown",
   "metadata": {},
   "source": [
    "The example in this notebook use data on sudden death infant syndrome for counties in North Carolina which is a built-in dataset  available through `libpysal`. We use `libpysal` to obtain the path to the shapefile and then use `geopandas` to create a geodataframe from the shapefile:"
   ]
  },
  {
   "cell_type": "code",
   "execution_count": null,
   "metadata": {},
   "outputs": [],
   "source": [
    "libpysal.examples.explain('sids2')"
   ]
  },
  {
   "cell_type": "code",
   "execution_count": null,
   "metadata": {},
   "outputs": [],
   "source": [
    "pth = libpysal.examples.get_path('sids2.shp')\n",
    "gdf = gpd.read_file(pth)"
   ]
  },
  {
   "cell_type": "code",
   "execution_count": null,
   "metadata": {},
   "outputs": [],
   "source": [
    "gdf.head()"
   ]
  },
  {
   "cell_type": "markdown",
   "metadata": {},
   "source": [
    "Once created, the geodataframe has a `plot` method that can be called to create our first choropleth map. We will specify the column to classify and plot as `SIDR79`: SIDS death rate per 1,000 births (1979-84). The classification scheme is set to  `Quantiles`, and the number of classes set to `k=10` (declies):"
   ]
  },
  {
   "cell_type": "code",
   "execution_count": null,
   "metadata": {},
   "outputs": [],
   "source": [
    "gdf.plot(column='SIDR79', scheme='Quantiles', k=10, figsize=(16, 9))"
   ]
  },
  {
   "cell_type": "markdown",
   "metadata": {},
   "source": [
    "We can peak under the hood a bit and recreate the classification object that was used in the previous choropleth:"
   ]
  },
  {
   "cell_type": "code",
   "execution_count": null,
   "metadata": {},
   "outputs": [],
   "source": [
    "q10 = mapclassify.Quantiles(gdf.SIDR79,k=10)\n",
    "q10"
   ]
  },
  {
   "cell_type": "code",
   "execution_count": null,
   "metadata": {},
   "outputs": [],
   "source": [
    "q10"
   ]
  },
  {
   "cell_type": "markdown",
   "metadata": {},
   "source": [
    "For quick, exploratory work, the classifier object has its own `plot` method that takes a geodataframe as an argument:"
   ]
  },
  {
   "cell_type": "code",
   "execution_count": null,
   "metadata": {},
   "outputs": [],
   "source": [
    "_ = q10.plot(gdf)"
   ]
  },
  {
   "cell_type": "markdown",
   "metadata": {},
   "source": [
    "Back to working directly with the dataframe, we can toggle on the `legend` (using [Qunatile method](https://pysal.org/mapclassify/generated/mapclassify.Quantiles.html))"
   ]
  },
  {
   "cell_type": "code",
   "execution_count": null,
   "metadata": {},
   "outputs": [],
   "source": [
    "gdf.assign(cl=q10.yb)"
   ]
  },
  {
   "cell_type": "code",
   "execution_count": null,
   "metadata": {},
   "outputs": [],
   "source": [
    "import matplotlib.pyplot as plt\n",
    "\n",
    "f, ax = plt.subplots(1, figsize=(16, 9))\n",
    "\n",
    "\n",
    "gdf.assign(cl=q10.yb).plot(column='cl', categorical=True, \\\n",
    "        k=10, cmap='OrRd', linewidth=0.1, ax=ax, \\\n",
    "        edgecolor='white', legend=True)\n",
    "ax.set_axis_off()\n",
    "plt.show()"
   ]
  },
  {
   "cell_type": "markdown",
   "metadata": {},
   "source": [
    "Here we see the 10 classes, but without more specific information on the legend, the user has to know that 0 is the first declile and 9 the 10th. We also do not know the values that define these classes. \n",
    "\n",
    "We can rectify this as follows:"
   ]
  },
  {
   "cell_type": "code",
   "execution_count": null,
   "metadata": {},
   "outputs": [],
   "source": [
    "q10.get_legend_classes()"
   ]
  },
  {
   "cell_type": "code",
   "execution_count": null,
   "metadata": {},
   "outputs": [],
   "source": [
    "mapping = dict([(i,s) for i,s in enumerate(q10.get_legend_classes())])\n",
    "mapping"
   ]
  },
  {
   "cell_type": "code",
   "execution_count": null,
   "metadata": {},
   "outputs": [],
   "source": [
    "mapping[0] = '[NA, 0.56]'"
   ]
  },
  {
   "cell_type": "code",
   "execution_count": null,
   "metadata": {},
   "outputs": [],
   "source": []
  },
  {
   "cell_type": "code",
   "execution_count": null,
   "metadata": {},
   "outputs": [],
   "source": [
    "def replace_legend_items(legend, mapping):\n",
    "    for txt in legend.texts:\n",
    "        for k,v in mapping.items():\n",
    "            if txt.get_text() == str(k):\n",
    "                txt.set_text(v)\n",
    "\n",
    "import matplotlib.pyplot as plt\n",
    "\n",
    "f, ax = plt.subplots(1, figsize=(16, 9))\n",
    "gdf.assign(cl=q10.yb).plot(column='cl', categorical=True, \\\n",
    "        k=10, cmap='OrRd', linewidth=0.1, ax=ax, \\\n",
    "        edgecolor='white', legend=True,\n",
    "                          legend_kwds={'loc': 'lower right'})\n",
    "ax.set_axis_off()\n",
    "replace_legend_items(ax.get_legend(), mapping)\n",
    "plt.show()"
   ]
  },
  {
   "cell_type": "markdown",
   "metadata": {},
   "source": [
    "## Interactive Exploration of Choropleth Classification\n",
    "\n",
    "Next, we develop a small application that relies on `mapclassify` together with [palettable](https://jiffyclub.github.io/palettable/) and [ipywidgets](https://ipywidgets.readthedocs.io/en/latest/) to explore the choice of:\n",
    "\n",
    "- classification method\n",
    "- number of classes\n",
    "- colormap\n",
    "\n"
   ]
  },
  {
   "cell_type": "code",
   "execution_count": null,
   "metadata": {},
   "outputs": [],
   "source": [
    "import shapely\n",
    "\n",
    "\n",
    "donut = Point(0, 0).buffer(2.0).difference(Point(0, 0).buffer(1.0))\n",
    "donut.centroid.wkb"
   ]
  },
  {
   "cell_type": "code",
   "execution_count": null,
   "metadata": {},
   "outputs": [],
   "source": [
    "from palettable import colorbrewer\n",
    "\n",
    "sequential = colorbrewer.COLOR_MAPS['Sequential']\n",
    "diverging = colorbrewer.COLOR_MAPS['Diverging']\n",
    "qualitative = colorbrewer.COLOR_MAPS['Qualitative']"
   ]
  },
  {
   "cell_type": "markdown",
   "metadata": {},
   "source": [
    "Considering diffrent map [Classifiers](https://pysal.org/mapclassify/_modules/mapclassify/classifiers.html)"
   ]
  },
  {
   "cell_type": "code",
   "execution_count": null,
   "metadata": {},
   "outputs": [],
   "source": [
    "from ipywidgets import interact, Dropdown, RadioButtons, IntSlider, VBox, HBox, FloatSlider, Button, Label\n",
    "\n",
    "k_classifiers = {\n",
    "    'equal_interval': mapclassify.EqualInterval,\n",
    "    'fisher_jenks': mapclassify.FisherJenks,\n",
    "    'jenks_caspall': mapclassify.JenksCaspall,\n",
    "    'jenks_caspall_forced': mapclassify.JenksCaspallForced,\n",
    "    'maximum_breaks': mapclassify.MaximumBreaks,\n",
    "    'natural_breaks': mapclassify.NaturalBreaks,\n",
    "    'quantiles': mapclassify.Quantiles,\n",
    "    }\n",
    "\n",
    "def k_values(ctype, cmap):\n",
    "    k = list(colorbrewer.COLOR_MAPS[ctype][cmap].keys())\n",
    "    return list(map(int, k))\n",
    "    \n",
    "def update_map(method='quantiles', k=5, cmap='Blues'):\n",
    "    classifier = k_classifiers[method](gdf.SIDR79, k=k)\n",
    "    mapping = dict([(i,s) for i,s in enumerate(classifier.get_legend_classes())])\n",
    "\n",
    "    f, ax = plt.subplots(1, figsize=(16, 9))\n",
    "    gdf.assign(cl=classifier.yb).plot(column='cl', categorical=True, \\\n",
    "        k=k, cmap=cmap, linewidth=0.1, ax=ax, \\\n",
    "        edgecolor='grey', legend=True, \\\n",
    "        legend_kwds={'loc': 'lower right'})\n",
    "    ax.set_axis_off()\n",
    "    ax.set_title(\"SIDR79\")\n",
    "    replace_legend_items(ax.get_legend(), mapping)\n",
    "\n",
    "    plt.show()\n",
    "    \n",
    "\n",
    "\n",
    "data_type = RadioButtons(options=['Sequential', 'Diverging', 'Qualitative'])\n",
    "\n",
    "bindings = {'Sequential': range(3,9+1),\n",
    "            'Diverging': range(3,11+1),\n",
    "            'Qualitative': range(3,12+1)}\n",
    "\n",
    "cmap_bindings = {'Sequential': list(sequential.keys()),\n",
    "                 'Diverging': list(diverging.keys()),\n",
    "                 'Qualitative': list(qualitative.keys())}\n",
    "\n",
    "class_val = Dropdown(options=bindings[data_type.value], value=5) \n",
    "cmap_val = Dropdown(options=cmap_bindings[data_type.value])\n",
    "\n",
    "def type_change(change):\n",
    "    class_val.options = bindings[change['new']]\n",
    "    cmap_val.options = cmap_bindings[change['new']]\n",
    "\n",
    "def cmap_change(change):\n",
    "    cmap=change['new']\n",
    "    ctype = data_type.value\n",
    "    k = k_values(ctype, cmap)\n",
    "    class_val.options = k\n",
    "    \n",
    "data_type.observe(type_change, names=['value'])\n",
    "cmap_val.observe(cmap_change, names=['value'])\n",
    "\n",
    "\n",
    "from ipywidgets import Output, Tab\n",
    "out = Output()\n",
    "t = Tab()\n",
    "t.children = [out]\n",
    "\n",
    "# In this case, the interact function must be defined after the conditions stated above...\n",
    "# therefore, the k now depends on the radio button \n",
    "\n",
    "with out:\n",
    "    interact(update_map, method=list(k_classifiers.keys()), cmap=cmap_val, k = class_val)\n",
    "\n",
    "display(VBox([data_type, out]))\n",
    "\n"
   ]
  },
  {
   "cell_type": "markdown",
   "metadata": {},
   "source": [
    "Changing the type of colormap (sequential, diverging, qualitative) will update the options for the available color maps (`cmap`). Changing any of the values using the dropdowns will update the classification and the resulting choropleth map.\n",
    "\n",
    "It is important to note that the example variable is best portrayed with the sequential colormaps. The other two types of colormaps are included for demonstration purposes only."
   ]
  }
 ],
 "metadata": {
  "kernelspec": {
   "display_name": "Python 3",
   "language": "python",
   "name": "python3"
  },
  "language_info": {
   "codemirror_mode": {
    "name": "ipython",
    "version": 3
   },
   "file_extension": ".py",
   "mimetype": "text/x-python",
   "name": "python",
   "nbconvert_exporter": "python",
   "pygments_lexer": "ipython3",
   "version": "3.9.2"
  }
 },
 "nbformat": 4,
 "nbformat_minor": 2
}
