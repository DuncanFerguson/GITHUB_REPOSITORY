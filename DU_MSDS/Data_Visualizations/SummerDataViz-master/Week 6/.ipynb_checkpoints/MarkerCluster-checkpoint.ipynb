{
 "cells": [
  {
   "cell_type": "code",
   "execution_count": null,
   "metadata": {},
   "outputs": [],
   "source": [
    "import folium\n",
    "from folium.plugins import MarkerCluster"
   ]
  },
  {
   "cell_type": "code",
   "execution_count": null,
   "metadata": {},
   "outputs": [],
   "source": [
    "import numpy as np\n",
    "\n",
    "size = 100\n",
    "lons = np.random.randint(-180, 180, size=size)\n",
    "lats = np.random.randint(-90, 90, size=size)\n",
    "dummy = np.random.randint(0, 20, size=size)\n",
    "\n",
    "locations = list(zip(lats, lons))\n",
    "popups = [\"lon:{}<br>lat:{}\".format(lon, lat) for (lat, lon) in locations]"
   ]
  },
  {
   "cell_type": "markdown",
   "metadata": {},
   "source": [
    "Adding all icons in a single call"
   ]
  },
  {
   "cell_type": "code",
   "execution_count": null,
   "metadata": {},
   "outputs": [],
   "source": [
    "icon_create_function = \"\"\"\\\n",
    "function(cluster) {\n",
    "    return L.divIcon({\n",
    "    html: '<b>' + cluster.getChildCount() + '</b>',\n",
    "    className: 'marker-cluster marker-cluster-large',\n",
    "    iconSize: new L.Point(20, 20)\n",
    "    });\n",
    "}\"\"\""
   ]
  },
  {
   "cell_type": "markdown",
   "metadata": {},
   "source": [
    "Explicit loop allow for customization in the loop."
   ]
  },
  {
   "cell_type": "code",
   "execution_count": null,
   "metadata": {},
   "outputs": [],
   "source": [
    "%%time\n",
    "\n",
    "m = folium.Map(\n",
    "    location=[np.mean(lats), np.mean(lons)],\n",
    "    tiles='Cartodb Positron',\n",
    "    zoom_start=1\n",
    ")\n",
    "\n",
    "marker_cluster = MarkerCluster(\n",
    "    name='1000 clustered icons',\n",
    "    overlay=True,\n",
    "    control=False,\n",
    "    icon_create_function=None\n",
    ")\n",
    "\n",
    "for k in range(size):\n",
    "    location = lats[k], lons[k]\n",
    "    marker = folium.Marker(location=location)\n",
    "    popup = 'lon:{}<br>lat:{}'.format(location[1], location[0])\n",
    "    folium.Popup(popup).add_to(marker)\n",
    "    marker_cluster.add_child(marker)\n",
    "\n",
    "marker_cluster.add_to(m)\n",
    "\n",
    "folium.LayerControl().add_to(m);"
   ]
  },
  {
   "cell_type": "code",
   "execution_count": null,
   "metadata": {},
   "outputs": [],
   "source": [
    "m"
   ]
  },
  {
   "cell_type": "code",
   "execution_count": null,
   "metadata": {},
   "outputs": [],
   "source": [
    "marker_data =[]\n",
    "for lng, lat, label in zip(lons, lats, dummy):\n",
    "    marker_data.append({'location':[lat,lng],'population':round(label)})\n",
    "\n",
    "marker_data=tuple(marker_data)"
   ]
  },
  {
   "cell_type": "code",
   "execution_count": null,
   "metadata": {},
   "outputs": [],
   "source": [
    "import json\n",
    "import folium\n",
    "from folium import Marker\n",
    "from folium.plugins import MarkerCluster\n",
    "from jinja2 import Template\n",
    "\n",
    "\n",
    "class MarkerWithProps(Marker):\n",
    "    _template = Template(u\"\"\"\n",
    "        {% macro script(this, kwargs) %}\n",
    "        var {{this.get_name()}} = L.marker(\n",
    "            [{{this.location[0]}}, {{this.location[1]}}],\n",
    "            {\n",
    "                icon: new L.Icon.Default(),\n",
    "                {%- if this.draggable %}\n",
    "                draggable: true,\n",
    "                autoPan: true,\n",
    "                {%- endif %}\n",
    "                {%- if this.props %}\n",
    "                props : {{ this.props }} \n",
    "                {%- endif %}\n",
    "                }\n",
    "            )\n",
    "            .addTo({{this._parent.get_name()}});\n",
    "        {% endmacro %}\n",
    "        \"\"\")\n",
    "    def __init__(self, location, popup=None, tooltip=None, icon=None, draggable=False, props = None ):\n",
    "        super(MarkerWithProps, self).__init__(location=location,popup=popup,tooltip=tooltip,icon=icon,draggable=draggable)\n",
    "        self.props = json.loads(json.dumps(props)) \n",
    "        \n",
    "icon_create_function = '''\n",
    "    function(cluster) {\n",
    "        var markers = cluster.getAllChildMarkers();\n",
    "        var sum = 0;\n",
    "        for (var i = 0; i < markers.length; i++) {\n",
    "            sum += markers[i].options.props.population;\n",
    "        }\n",
    "        var avg = Math.round(sum/cluster.getChildCount());\n",
    "        \n",
    "        var c = ' marker-cluster-';\n",
    "\n",
    "        if (avg < 6) {\n",
    "            c += 'small';\n",
    "        } else if (avg < 12) {\n",
    "            c += 'medium';\n",
    "        } else {\n",
    "            c += 'large';\n",
    "        }\n",
    "\n",
    "        return L.divIcon({\n",
    "             html: '<div><span>' + avg + '</span></div>',\n",
    "             className: 'marker-cluster marker-cluster' + c,\n",
    "             iconSize: new L.Point(40, 40)\n",
    "        });\n",
    "    }\n",
    "'''\n",
    "\n",
    "\n",
    "marker_cluster = MarkerCluster(icon_create_function=icon_create_function)\n",
    "\n",
    "for marker_item in marker_data:\n",
    "    marker = MarkerWithProps(\n",
    "        location=marker_item['location'],\n",
    "        props = { 'population': marker_item['population']},\n",
    "        icon=folium.Icon(color='red', icon='building-sign',prefix = 'glyphicon')\n",
    "    )\n",
    "    marker.add_to(marker_cluster)"
   ]
  },
  {
   "cell_type": "code",
   "execution_count": null,
   "metadata": {},
   "outputs": [],
   "source": [
    "m = folium.Map(\n",
    "    location=[np.mean(lats), np.mean(lons)],\n",
    "    tiles='Cartodb Positron',\n",
    "    zoom_start=1\n",
    ")\n",
    "marker_cluster.add_to(m) "
   ]
  },
  {
   "cell_type": "code",
   "execution_count": null,
   "metadata": {},
   "outputs": [],
   "source": [
    "m"
   ]
  },
  {
   "cell_type": "code",
   "execution_count": null,
   "metadata": {},
   "outputs": [],
   "source": []
  },
  {
   "cell_type": "code",
   "execution_count": null,
   "metadata": {},
   "outputs": [],
   "source": []
  }
 ],
 "metadata": {
  "kernelspec": {
   "display_name": "Python 3",
   "language": "python",
   "name": "python3"
  },
  "language_info": {
   "codemirror_mode": {
    "name": "ipython",
    "version": 3
   },
   "file_extension": ".py",
   "mimetype": "text/x-python",
   "name": "python",
   "nbconvert_exporter": "python",
   "pygments_lexer": "ipython3",
   "version": "3.8.5"
  }
 },
 "nbformat": 4,
 "nbformat_minor": 1
}
