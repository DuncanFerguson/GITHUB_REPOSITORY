{
 "cells": [
  {
   "cell_type": "code",
   "execution_count": 1,
   "metadata": {},
   "outputs": [],
   "source": [
    "%matplotlib inline\n",
    "import matplotlib\n",
    "import seaborn as sns\n",
    "sns.set()\n",
    "matplotlib.rcParams['figure.dpi'] = 144"
   ]
  },
  {
   "cell_type": "markdown",
   "metadata": {},
   "source": [
    "# Consuming APIs (and JSON)\n",
    "<!-- requirement: secrets/twitter_secrets.json.sample -->\n",
    "<!-- devrequirement: secrets/twitter_secrets.json.nogit -->\n"
   ]
  },
  {
   "cell_type": "markdown",
   "metadata": {},
   "source": [
    "Consuming APIs is supposed to be easy (that's the point of having an API).  \n",
    "\n",
    "Let's look at a simple example of consuming a JSON API.  The example we'll look at is a *geocoder*: That is, a service for converting between addresses and normalized geographic information (e.g. latitude and longitude).  Going from addresses to normalized form is \"forward geocoding\" and going the other way is \"reverse geocoding\".\n",
    "\n",
    "We'll interact with a free (and non-authenticated) geocoder run by OpenStreetMap.  The geocoded information is available by sending a GET request to <tt>http:&#8203;//nominatim.openstreetmap.org/search?q=<i>address</i>&addressdetails=1&format=json</tt>.  The portion before the question mark (`http://nominatim.openstreetmap.org/search`) is the endpoint on the server, while the portion following, known as the *query string*, contains the data being sent to the server.  (Thus, a GET request can be repeated simply by requesting the same URL again.  In contrast, the data sent in a POST request is contained in the request body, not in the URL.)\n",
    "\n",
    "As is typical, the query string consists of several key=value pairs, separated by ampersands.  The requested address is specified with the `q` key in this case.  Some characters, like the spaces and commas, cannot be used in the URL, so they must be encoded with the `quote()` function."
   ]
  },
  {
   "cell_type": "code",
   "execution_count": 2,
   "metadata": {
    "scrolled": true
   },
   "outputs": [
    {
     "data": {
      "text/plain": [
       "'1600%20Pennsylvania%20Avenue%20NW%2C%20Washington'"
      ]
     },
     "execution_count": 2,
     "metadata": {},
     "output_type": "execute_result"
    }
   ],
   "source": [
    "from urllib.parse import quote\n",
    "from urllib.request import urlopen\n",
    "\n",
    "address = \"1600 Pennsylvania Avenue NW, Washington\"\n",
    "quote(address)"
   ]
  },
  {
   "cell_type": "code",
   "execution_count": 3,
   "metadata": {},
   "outputs": [
    {
     "data": {
      "text/plain": [
       "'http://nominatim.openstreetmap.org/search?q=1600%20Pennsylvania%20Avenue%20NW%2C%20Washington&addressdetails=1&format=json'"
      ]
     },
     "execution_count": 3,
     "metadata": {},
     "output_type": "execute_result"
    }
   ],
   "source": [
    "url = \"http://nominatim.openstreetmap.org/search?q={}&addressdetails=1&format=json\".format(quote(address))\n",
    "url"
   ]
  },
  {
   "cell_type": "markdown",
   "metadata": {},
   "source": [
    "We can request this URL with the `urlopen()` function, which returns a stream we can read from."
   ]
  },
  {
   "cell_type": "code",
   "execution_count": 4,
   "metadata": {},
   "outputs": [
    {
     "data": {
      "text/plain": [
       "b'[{\"place_id\":147370996,\"licence\":\"Data \\xc2\\xa9 OpenStreetMap contributors, ODbL 1.0. https://osm.org/copyright\",\"osm_type\":\"way\",\"osm_id\":238241022,\"boundingbox\":[\"38.8974908\",\"38.897911\",\"-77.0368537\",\"-77.0362519\"],\"lat\":\"38.897699700000004\",\"lon\":\"-77.03655315\",\"display_name\":\"White House, 1600, Pennsylvania Avenue Northwest, Washington, District of Columbia, 20500, United States\",\"class\":\"office\",\"type\":\"government\",\"importance\":1.05472115416811,\"address\":{\"office\":\"White House\",\"house_number\":\"1600\",\"road\":\"Pennsylvania Avenue Northwest\",\"city\":\"Washington\",\"state\":\"District of Columbia\",\"postcode\":\"20500\",\"country\":\"United States\",\"country_code\":\"us\"}},{\"place_id\":149743250,\"licence\":\"Data \\xc2\\xa9 OpenStreetMap contributors, ODbL 1.0. https://osm.org/copyright\",\"osm_type\":\"way\",\"osm_id\":238241023,\"boundingbox\":[\"38.8973242\",\"38.8974297\",\"-77.0374621\",\"-77.0373535\"],\"lat\":\"38.89737555\",\"lon\":\"-77.0374079114865\",\"display_name\":\"The Oval Office, 1600, Pennsylvania Avenue Northwest, Washington, District of Columbia, 20006, United States\",\"class\":\"office\",\"type\":\"government\",\"importance\":0.9009695871239887,\"address\":{\"office\":\"The Oval Office\",\"house_number\":\"1600\",\"road\":\"Pennsylvania Avenue Northwest\",\"city\":\"Washington\",\"state\":\"District of Columbia\",\"postcode\":\"20006\",\"country\":\"United States\",\"country_code\":\"us\"}},{\"place_id\":148957714,\"licence\":\"Data \\xc2\\xa9 OpenStreetMap contributors, ODbL 1.0. https://osm.org/copyright\",\"osm_type\":\"way\",\"osm_id\":238241016,\"boundingbox\":[\"38.8973242\",\"38.8976897\",\"-77.0378226\",\"-77.0372952\"],\"lat\":\"38.89751125\",\"lon\":\"-77.03755907267006\",\"display_name\":\"The West Wing, 1600, Pennsylvania Avenue Northwest, Washington, District of Columbia, 20500, United States\",\"class\":\"building\",\"type\":\"yes\",\"importance\":0.8255805794353464,\"address\":{\"building\":\"The West Wing\",\"house_number\":\"1600\",\"road\":\"Pennsylvania Avenue Northwest\",\"city\":\"Washington\",\"state\":\"District of Columbia\",\"postcode\":\"20500\",\"country\":\"United States\",\"country_code\":\"us\"}},{\"place_id\":149202402,\"licence\":\"Data \\xc2\\xa9 OpenStreetMap contributors, ODbL 1.0. https://osm.org/copyright\",\"osm_type\":\"way\",\"osm_id\":238241018,\"boundingbox\":[\"38.8973817\",\"38.897768\",\"-77.0357843\",\"-77.0355017\"],\"lat\":\"38.89757375\",\"lon\":\"-77.03564283145161\",\"display_name\":\"The East Wing, 1600, Pennsylvania Avenue Northwest, Washington, District of Columbia, 20500, United States\",\"class\":\"building\",\"type\":\"yes\",\"importance\":0.7250039459623188,\"address\":{\"building\":\"The East Wing\",\"house_number\":\"1600\",\"road\":\"Pennsylvania Avenue Northwest\",\"city\":\"Washington\",\"state\":\"District of Columbia\",\"postcode\":\"20500\",\"country\":\"United States\",\"country_code\":\"us\"}},{\"place_id\":57606142,\"licence\":\"Data \\xc2\\xa9 OpenStreetMap contributors, ODbL 1.0. https://osm.org/copyright\",\"osm_type\":\"node\",\"osm_id\":4957653990,\"boundingbox\":[\"38.8974228\",\"38.8975228\",\"-77.0365982\",\"-77.0364982\"],\"lat\":\"38.8974728\",\"lon\":\"-77.0365482\",\"display_name\":\"White House Meridian, 1600, Pennsylvania Avenue Northwest, Washington, District of Columbia, 20500, United States\",\"class\":\"tourism\",\"type\":\"information\",\"importance\":0.42099999999999993,\"icon\":\"https://nominatim.openstreetmap.org/ui/mapicons//amenity_information.p.20.png\",\"address\":{\"tourism\":\"White House Meridian\",\"house_number\":\"1600\",\"road\":\"Pennsylvania Avenue Northwest\",\"city\":\"Washington\",\"state\":\"District of Columbia\",\"postcode\":\"20500\",\"country\":\"United States\",\"country_code\":\"us\"}},{\"place_id\":26468382,\"licence\":\"Data \\xc2\\xa9 OpenStreetMap contributors, ODbL 1.0. https://osm.org/copyright\",\"osm_type\":\"node\",\"osm_id\":2633633933,\"boundingbox\":[\"38.897668\",\"38.897768\",\"-77.0365982\",\"-77.0364982\"],\"lat\":\"38.897718\",\"lon\":\"-77.0365482\",\"display_name\":\"Zastava Sjedinjenih Ameri\\xc4\\x8dkih Dr\\xc5\\xbeava, Pennsylvania Avenue Northwest, Washington, District of Columbia, 20500, United States\",\"class\":\"man_made\",\"type\":\"flagpole\",\"importance\":0.31100000000000005,\"address\":{\"man_made\":\"Zastava Sjedinjenih Ameri\\xc4\\x8dkih Dr\\xc5\\xbeava\",\"road\":\"Pennsylvania Avenue Northwest\",\"city\":\"Washington\",\"state\":\"District of Columbia\",\"postcode\":\"20500\",\"country\":\"United States\",\"country_code\":\"us\"}},{\"place_id\":56844998,\"licence\":\"Data \\xc2\\xa9 OpenStreetMap contributors, ODbL 1.0. https://osm.org/copyright\",\"osm_type\":\"node\",\"osm_id\":4838969214,\"boundingbox\":[\"38.8977173\",\"38.8978173\",\"-77.0356597\",\"-77.0355597\"],\"lat\":\"38.8977673\",\"lon\":\"-77.0356097\",\"display_name\":\"328, Pennsylvania Avenue Northwest, Washington, District of Columbia, 20500, United States\",\"class\":\"man_made\",\"type\":\"surveillance\",\"importance\":0.31100000000000005,\"address\":{\"man_made\":\"328\",\"road\":\"Pennsylvania Avenue Northwest\",\"city\":\"Washington\",\"state\":\"District of Columbia\",\"postcode\":\"20500\",\"country\":\"United States\",\"country_code\":\"us\"}}]'"
      ]
     },
     "execution_count": 4,
     "metadata": {},
     "output_type": "execute_result"
    }
   ],
   "source": [
    "data = urlopen(url).read()\n",
    "data"
   ]
  },
  {
   "cell_type": "markdown",
   "metadata": {},
   "source": [
    "The result was returned to us in the form of JSON. JSON is JavaScript Object Notation&mdash;it's a human readable text-based format for transmitting key-value pairs (and strings, numbers, and arrays). The `simplejson` package lets us convert between this and Python's native dictionaries, etc."
   ]
  },
  {
   "cell_type": "code",
   "execution_count": 5,
   "metadata": {},
   "outputs": [
    {
     "data": {
      "text/plain": [
       "[{'place_id': 147370996,\n",
       "  'licence': 'Data © OpenStreetMap contributors, ODbL 1.0. https://osm.org/copyright',\n",
       "  'osm_type': 'way',\n",
       "  'osm_id': 238241022,\n",
       "  'boundingbox': ['38.8974908', '38.897911', '-77.0368537', '-77.0362519'],\n",
       "  'lat': '38.897699700000004',\n",
       "  'lon': '-77.03655315',\n",
       "  'display_name': 'White House, 1600, Pennsylvania Avenue Northwest, Washington, District of Columbia, 20500, United States',\n",
       "  'class': 'office',\n",
       "  'type': 'government',\n",
       "  'importance': 1.05472115416811,\n",
       "  'address': {'office': 'White House',\n",
       "   'house_number': '1600',\n",
       "   'road': 'Pennsylvania Avenue Northwest',\n",
       "   'city': 'Washington',\n",
       "   'state': 'District of Columbia',\n",
       "   'postcode': '20500',\n",
       "   'country': 'United States',\n",
       "   'country_code': 'us'}},\n",
       " {'place_id': 149743250,\n",
       "  'licence': 'Data © OpenStreetMap contributors, ODbL 1.0. https://osm.org/copyright',\n",
       "  'osm_type': 'way',\n",
       "  'osm_id': 238241023,\n",
       "  'boundingbox': ['38.8973242', '38.8974297', '-77.0374621', '-77.0373535'],\n",
       "  'lat': '38.89737555',\n",
       "  'lon': '-77.0374079114865',\n",
       "  'display_name': 'The Oval Office, 1600, Pennsylvania Avenue Northwest, Washington, District of Columbia, 20006, United States',\n",
       "  'class': 'office',\n",
       "  'type': 'government',\n",
       "  'importance': 0.9009695871239887,\n",
       "  'address': {'office': 'The Oval Office',\n",
       "   'house_number': '1600',\n",
       "   'road': 'Pennsylvania Avenue Northwest',\n",
       "   'city': 'Washington',\n",
       "   'state': 'District of Columbia',\n",
       "   'postcode': '20006',\n",
       "   'country': 'United States',\n",
       "   'country_code': 'us'}},\n",
       " {'place_id': 148957714,\n",
       "  'licence': 'Data © OpenStreetMap contributors, ODbL 1.0. https://osm.org/copyright',\n",
       "  'osm_type': 'way',\n",
       "  'osm_id': 238241016,\n",
       "  'boundingbox': ['38.8973242', '38.8976897', '-77.0378226', '-77.0372952'],\n",
       "  'lat': '38.89751125',\n",
       "  'lon': '-77.03755907267006',\n",
       "  'display_name': 'The West Wing, 1600, Pennsylvania Avenue Northwest, Washington, District of Columbia, 20500, United States',\n",
       "  'class': 'building',\n",
       "  'type': 'yes',\n",
       "  'importance': 0.8255805794353464,\n",
       "  'address': {'building': 'The West Wing',\n",
       "   'house_number': '1600',\n",
       "   'road': 'Pennsylvania Avenue Northwest',\n",
       "   'city': 'Washington',\n",
       "   'state': 'District of Columbia',\n",
       "   'postcode': '20500',\n",
       "   'country': 'United States',\n",
       "   'country_code': 'us'}},\n",
       " {'place_id': 149202402,\n",
       "  'licence': 'Data © OpenStreetMap contributors, ODbL 1.0. https://osm.org/copyright',\n",
       "  'osm_type': 'way',\n",
       "  'osm_id': 238241018,\n",
       "  'boundingbox': ['38.8973817', '38.897768', '-77.0357843', '-77.0355017'],\n",
       "  'lat': '38.89757375',\n",
       "  'lon': '-77.03564283145161',\n",
       "  'display_name': 'The East Wing, 1600, Pennsylvania Avenue Northwest, Washington, District of Columbia, 20500, United States',\n",
       "  'class': 'building',\n",
       "  'type': 'yes',\n",
       "  'importance': 0.7250039459623188,\n",
       "  'address': {'building': 'The East Wing',\n",
       "   'house_number': '1600',\n",
       "   'road': 'Pennsylvania Avenue Northwest',\n",
       "   'city': 'Washington',\n",
       "   'state': 'District of Columbia',\n",
       "   'postcode': '20500',\n",
       "   'country': 'United States',\n",
       "   'country_code': 'us'}},\n",
       " {'place_id': 57606142,\n",
       "  'licence': 'Data © OpenStreetMap contributors, ODbL 1.0. https://osm.org/copyright',\n",
       "  'osm_type': 'node',\n",
       "  'osm_id': 4957653990,\n",
       "  'boundingbox': ['38.8974228', '38.8975228', '-77.0365982', '-77.0364982'],\n",
       "  'lat': '38.8974728',\n",
       "  'lon': '-77.0365482',\n",
       "  'display_name': 'White House Meridian, 1600, Pennsylvania Avenue Northwest, Washington, District of Columbia, 20500, United States',\n",
       "  'class': 'tourism',\n",
       "  'type': 'information',\n",
       "  'importance': 0.42099999999999993,\n",
       "  'icon': 'https://nominatim.openstreetmap.org/ui/mapicons//amenity_information.p.20.png',\n",
       "  'address': {'tourism': 'White House Meridian',\n",
       "   'house_number': '1600',\n",
       "   'road': 'Pennsylvania Avenue Northwest',\n",
       "   'city': 'Washington',\n",
       "   'state': 'District of Columbia',\n",
       "   'postcode': '20500',\n",
       "   'country': 'United States',\n",
       "   'country_code': 'us'}},\n",
       " {'place_id': 26468382,\n",
       "  'licence': 'Data © OpenStreetMap contributors, ODbL 1.0. https://osm.org/copyright',\n",
       "  'osm_type': 'node',\n",
       "  'osm_id': 2633633933,\n",
       "  'boundingbox': ['38.897668', '38.897768', '-77.0365982', '-77.0364982'],\n",
       "  'lat': '38.897718',\n",
       "  'lon': '-77.0365482',\n",
       "  'display_name': 'Zastava Sjedinjenih Američkih Država, Pennsylvania Avenue Northwest, Washington, District of Columbia, 20500, United States',\n",
       "  'class': 'man_made',\n",
       "  'type': 'flagpole',\n",
       "  'importance': 0.31100000000000005,\n",
       "  'address': {'man_made': 'Zastava Sjedinjenih Američkih Država',\n",
       "   'road': 'Pennsylvania Avenue Northwest',\n",
       "   'city': 'Washington',\n",
       "   'state': 'District of Columbia',\n",
       "   'postcode': '20500',\n",
       "   'country': 'United States',\n",
       "   'country_code': 'us'}},\n",
       " {'place_id': 56844998,\n",
       "  'licence': 'Data © OpenStreetMap contributors, ODbL 1.0. https://osm.org/copyright',\n",
       "  'osm_type': 'node',\n",
       "  'osm_id': 4838969214,\n",
       "  'boundingbox': ['38.8977173', '38.8978173', '-77.0356597', '-77.0355597'],\n",
       "  'lat': '38.8977673',\n",
       "  'lon': '-77.0356097',\n",
       "  'display_name': '328, Pennsylvania Avenue Northwest, Washington, District of Columbia, 20500, United States',\n",
       "  'class': 'man_made',\n",
       "  'type': 'surveillance',\n",
       "  'importance': 0.31100000000000005,\n",
       "  'address': {'man_made': '328',\n",
       "   'road': 'Pennsylvania Avenue Northwest',\n",
       "   'city': 'Washington',\n",
       "   'state': 'District of Columbia',\n",
       "   'postcode': '20500',\n",
       "   'country': 'United States',\n",
       "   'country_code': 'us'}}]"
      ]
     },
     "execution_count": 5,
     "metadata": {},
     "output_type": "execute_result"
    }
   ],
   "source": [
    "import simplejson as json\n",
    "\n",
    "json.loads(data)"
   ]
  },
  {
   "cell_type": "code",
   "execution_count": 6,
   "metadata": {},
   "outputs": [
    {
     "data": {
      "text/plain": [
       "['38.8974908', '38.897911', '-77.0368537', '-77.0362519']"
      ]
     },
     "execution_count": 6,
     "metadata": {},
     "output_type": "execute_result"
    }
   ],
   "source": [
    "json.loads(data)[0]['boundingbox']"
   ]
  },
  {
   "cell_type": "markdown",
   "metadata": {},
   "source": [
    "## Handling URL parameters\n"
   ]
  },
  {
   "cell_type": "markdown",
   "metadata": {},
   "source": [
    "`urllib` module requires an enormous amount of work to perform the simplest of tasks. The `requests` library provides a higher-level way to do web requests. This is already nice in examples, like the above, where we need to encode parameters into the URL.  It is even more convenient when there are also `POST` parameters (or cookies, or authentication, or...) involved.  (Don't worry if you don't know what that means.)"
   ]
  },
  {
   "cell_type": "code",
   "execution_count": 7,
   "metadata": {},
   "outputs": [
    {
     "data": {
      "text/plain": [
       "<Response [200]>"
      ]
     },
     "execution_count": 7,
     "metadata": {},
     "output_type": "execute_result"
    }
   ],
   "source": [
    "import requests\n",
    "\n",
    "def geocode(address):\n",
    "    params = { 'format'        :'json', \n",
    "               'addressdetails': 1, #include breakdown of address into elements\n",
    "               'q'             : address}\n",
    "    return requests.get('http://nominatim.openstreetmap.org/search', params=params)\n",
    "\n",
    "response = geocode(\"107 Page St., San Francisco\")\n",
    "response"
   ]
  },
  {
   "cell_type": "markdown",
   "metadata": {},
   "source": [
    "The parameters are automatically encoded and assembled into the query string."
   ]
  },
  {
   "cell_type": "code",
   "execution_count": 8,
   "metadata": {},
   "outputs": [
    {
     "data": {
      "text/plain": [
       "'https://nominatim.openstreetmap.org/search?format=json&addressdetails=1&q=107+Page+St.%2C+San+Francisco'"
      ]
     },
     "execution_count": 8,
     "metadata": {},
     "output_type": "execute_result"
    }
   ],
   "source": [
    "response.url"
   ]
  },
  {
   "cell_type": "markdown",
   "metadata": {},
   "source": [
    "The raw response is available..."
   ]
  },
  {
   "cell_type": "code",
   "execution_count": 9,
   "metadata": {},
   "outputs": [
    {
     "data": {
      "text/plain": [
       "'[{\"place_id\":266176014,\"licence\":\"Data © OpenStreetMap contributors, ODbL 1.0. https://osm.org/copyright\",\"osm_type\":\"way\",\"osm_id\":802591083,\"boundingbox\":[\"37.773928208333\",\"37.774028208333\",\"-122.42263933333\",\"-122.42253933333\"],\"lat\":\"37.77397820833333\",\"lon\":\"-122.42258933333333\",\"display_name\":\"107, Page Street, Western Addition, San Francisco, San Francisco City and County, San Francisco, California, 94102, United States\",\"class\":\"place\",\"type\":\"house\",\"importance\":0.511,\"address\":{\"house_number\":\"107\",\"road\":\"Page Street\",\"neighbourhood\":\"Western Addition\",\"city\":\"San Francisco\",\"county\":\"San Francisco\",\"state\":\"California\",\"postcode\":\"94102\",\"country\":\"United States\",\"country_code\":\"us\"}}]'"
      ]
     },
     "execution_count": 9,
     "metadata": {},
     "output_type": "execute_result"
    }
   ],
   "source": [
    "response.text"
   ]
  },
  {
   "cell_type": "markdown",
   "metadata": {},
   "source": [
    "...but it can also be converted to JSON."
   ]
  },
  {
   "cell_type": "code",
   "execution_count": 10,
   "metadata": {},
   "outputs": [
    {
     "data": {
      "text/plain": [
       "[{'place_id': 266176014,\n",
       "  'licence': 'Data © OpenStreetMap contributors, ODbL 1.0. https://osm.org/copyright',\n",
       "  'osm_type': 'way',\n",
       "  'osm_id': 802591083,\n",
       "  'boundingbox': ['37.773928208333',\n",
       "   '37.774028208333',\n",
       "   '-122.42263933333',\n",
       "   '-122.42253933333'],\n",
       "  'lat': '37.77397820833333',\n",
       "  'lon': '-122.42258933333333',\n",
       "  'display_name': '107, Page Street, Western Addition, San Francisco, San Francisco City and County, San Francisco, California, 94102, United States',\n",
       "  'class': 'place',\n",
       "  'type': 'house',\n",
       "  'importance': 0.511,\n",
       "  'address': {'house_number': '107',\n",
       "   'road': 'Page Street',\n",
       "   'neighbourhood': 'Western Addition',\n",
       "   'city': 'San Francisco',\n",
       "   'county': 'San Francisco',\n",
       "   'state': 'California',\n",
       "   'postcode': '94102',\n",
       "   'country': 'United States',\n",
       "   'country_code': 'us'}}]"
      ]
     },
     "execution_count": 10,
     "metadata": {},
     "output_type": "execute_result"
    }
   ],
   "source": [
    "response.json()"
   ]
  },
  {
   "cell_type": "code",
   "execution_count": 11,
   "metadata": {},
   "outputs": [
    {
     "data": {
      "text/plain": [
       "['37.773928208333', '37.774028208333', '-122.42263933333', '-122.42253933333']"
      ]
     },
     "execution_count": 11,
     "metadata": {},
     "output_type": "execute_result"
    }
   ],
   "source": [
    "response.json()[0]['boundingbox']"
   ]
  },
  {
   "cell_type": "markdown",
   "metadata": {},
   "source": [
    "**Exercise:** The National Weather Service operates a free API for weather information.  A sample request looks like this: `http://forecast.weather.gov/MapClick.php?lat=37.7739&lon=-122.4225&FcstType=json`.\n",
    "\n",
    "Use the geocoder to write a function\n",
    "\n",
    "        def weather_at_address(address):\n",
    "            ....\n",
    "            \n",
    "that gets the current weather (temperature, cloudy or not) from a human-entered address."
   ]
  },
  {
   "cell_type": "markdown",
   "metadata": {},
   "source": [
    "## Requests: Authenticated APIs\n"
   ]
  },
  {
   "cell_type": "markdown",
   "metadata": {},
   "source": [
    "Lots of interesting APIs are free (or at least free for moderate use) but still require you to register first.  The `requests` library (together with some supporting ones, e.g. `requests_oauthlib`) make it easy to consume these too.\n",
    "\n",
    "In order to access the Twitter API, you must first sign up: create an app on http://apps.twitter.com, get an access token, *et voila*, you have your shiny new credentials -- consisting of four pieces of data. The file `secrets/twitter_secrets.json.sample` has the format template; then rename the file to have a `.nogit` extension to prevent it being tracked in a git repository.\n",
    "\n",
    "more on here: https://requests-oauthlib.readthedocs.io/en/latest/oauth1_workflow.html"
   ]
  },
  {
   "cell_type": "code",
   "execution_count": null,
   "metadata": {},
   "outputs": [],
   "source": [
    "from requests_oauthlib import OAuth1\n",
    "\n",
    "with open(\"secrets/twitter_secrets.json.nogit\") as fh:\n",
    "    secrets = json.loads(fh.read())\n",
    "\n",
    "# create an auth object\n",
    "auth = OAuth1(\n",
    "    secrets[\"api_key\"],\n",
    "    secrets[\"api_secret\"],\n",
    "    secrets[\"access_token\"],\n",
    "    secrets[\"access_token_secret\"]\n",
    ")"
   ]
  },
  {
   "cell_type": "markdown",
   "metadata": {},
   "source": [
    "## GeoPy"
   ]
  },
  {
   "cell_type": "markdown",
   "metadata": {},
   "source": [
    "Geopy makes it easy for Python developers to locate the coordinates of addresses, cities, countries, and landmarks across the globe using third-party geocoders and other data sources. geopy includes geocoder classes for the OpenStreetMap Nominatim , Google Geocoding API (V3), and many other geocoding services."
   ]
  },
  {
   "cell_type": "code",
   "execution_count": null,
   "metadata": {},
   "outputs": [],
   "source": [
    "import geopy"
   ]
  },
  {
   "cell_type": "markdown",
   "metadata": {},
   "source": [
    "To geolocate a single address, you can use Geopy python library. Geopy has different Geocoding services that you can choose from, including Google Maps, ArcGIS, AzureMaps, Bing, etc. Some of them require API keys, while others do not need. You can see the complete list here: https://geopy.readthedocs.io/en/stable/"
   ]
  },
  {
   "cell_type": "code",
   "execution_count": 12,
   "metadata": {},
   "outputs": [
    {
     "name": "stdout",
     "output_type": "stream",
     "text": [
      "2155 E Wesley Ave, Denver, Colorado, 80210\n",
      "39.673844999481844\n",
      "-104.96145799055763\n",
      "                                                  Addr        Lat         Lon\n",
      "DU-ECS             2155 E Wesley Ave, Denver, CO 80208  39.673845 -104.961458\n",
      "DEN                   8500 Pena Blvd, Denver, CO 80249  39.849805 -104.673830\n",
      "WHouse  1600 Pennsylvania Ave NW, Washington, DC 20500  38.897675  -77.036547\n",
      "8500 Pena Blvd, Denver, Colorado, 80249\n",
      "39.84980499364892\n",
      "-104.67382996560718\n",
      "                                                  Addr        Lat         Lon\n",
      "DU-ECS             2155 E Wesley Ave, Denver, CO 80208  39.673845 -104.961458\n",
      "DEN                   8500 Pena Blvd, Denver, CO 80249  39.849805 -104.673830\n",
      "WHouse  1600 Pennsylvania Ave NW, Washington, DC 20500  38.897675  -77.036547\n",
      "1600 Pennsylvania Ave NW, Washington, District of Columbia, 20500\n",
      "38.89767510765125\n",
      "-77.03654699820865\n",
      "                                                  Addr        Lat         Lon\n",
      "DU-ECS             2155 E Wesley Ave, Denver, CO 80208  39.673845 -104.961458\n",
      "DEN                   8500 Pena Blvd, Denver, CO 80249  39.849805 -104.673830\n",
      "WHouse  1600 Pennsylvania Ave NW, Washington, DC 20500  38.897675  -77.036547\n"
     ]
    }
   ],
   "source": [
    "from geopy.geocoders import ArcGIS, GoogleV3\n",
    "import pandas as pd\n",
    "\n",
    "addrs=['2155 E Wesley Ave, Denver, CO 80208',\n",
    " '8500 Pena Blvd, Denver, CO 80249',\n",
    " '1600 Pennsylvania Ave NW, Washington, DC 20500']\n",
    "\n",
    "nom=ArcGIS()\n",
    "\n",
    "for addr in addrs:\n",
    "    n=nom.geocode(addr)\n",
    "    print(n)\n",
    "    print(n.latitude)\n",
    "    print(n.longitude)\n",
    "    df=pd.DataFrame({'Addr': addrs},index=['DU-ECS','DEN','WHouse'])\n",
    "    df['Coord']=df['Addr'].apply(nom.geocode)\n",
    "    df['Lat']=df['Coord'].apply(lambda x: x.latitude)\n",
    "    df['Lon']=df['Coord'].apply(lambda x: x.longitude)\n",
    "    df.drop('Coord', axis=1, inplace=True)\n",
    "    print(df)"
   ]
  },
  {
   "cell_type": "code",
   "execution_count": 13,
   "metadata": {},
   "outputs": [
    {
     "data": {
      "text/html": [
       "<div>\n",
       "<style scoped>\n",
       "    .dataframe tbody tr th:only-of-type {\n",
       "        vertical-align: middle;\n",
       "    }\n",
       "\n",
       "    .dataframe tbody tr th {\n",
       "        vertical-align: top;\n",
       "    }\n",
       "\n",
       "    .dataframe thead th {\n",
       "        text-align: right;\n",
       "    }\n",
       "</style>\n",
       "<table border=\"1\" class=\"dataframe\">\n",
       "  <thead>\n",
       "    <tr style=\"text-align: right;\">\n",
       "      <th></th>\n",
       "      <th>Addr</th>\n",
       "      <th>Lat</th>\n",
       "      <th>Lon</th>\n",
       "    </tr>\n",
       "  </thead>\n",
       "  <tbody>\n",
       "    <tr>\n",
       "      <th>DU-ECS</th>\n",
       "      <td>2155 E Wesley Ave, Denver, CO 80208</td>\n",
       "      <td>39.673845</td>\n",
       "      <td>-104.961458</td>\n",
       "    </tr>\n",
       "    <tr>\n",
       "      <th>DEN</th>\n",
       "      <td>8500 Pena Blvd, Denver, CO 80249</td>\n",
       "      <td>39.849805</td>\n",
       "      <td>-104.673830</td>\n",
       "    </tr>\n",
       "    <tr>\n",
       "      <th>WHouse</th>\n",
       "      <td>1600 Pennsylvania Ave NW, Washington, DC 20500</td>\n",
       "      <td>38.897675</td>\n",
       "      <td>-77.036547</td>\n",
       "    </tr>\n",
       "  </tbody>\n",
       "</table>\n",
       "</div>"
      ],
      "text/plain": [
       "                                                  Addr        Lat         Lon\n",
       "DU-ECS             2155 E Wesley Ave, Denver, CO 80208  39.673845 -104.961458\n",
       "DEN                   8500 Pena Blvd, Denver, CO 80249  39.849805 -104.673830\n",
       "WHouse  1600 Pennsylvania Ave NW, Washington, DC 20500  38.897675  -77.036547"
      ]
     },
     "execution_count": 13,
     "metadata": {},
     "output_type": "execute_result"
    }
   ],
   "source": [
    "df"
   ]
  },
  {
   "cell_type": "code",
   "execution_count": 14,
   "metadata": {},
   "outputs": [],
   "source": [
    "import os\n",
    "\n",
    "key=os.environ.get('GoogleAPI')\n",
    "geolocator = GoogleV3(api_key=key)"
   ]
  },
  {
   "cell_type": "markdown",
   "metadata": {},
   "source": [
    "## Authenticated APIs: Run the same with Google API"
   ]
  },
  {
   "cell_type": "code",
   "execution_count": 15,
   "metadata": {},
   "outputs": [
    {
     "name": "stdout",
     "output_type": "stream",
     "text": [
      "2155 E Wesley Ave, Denver, CO 80210, USA\n",
      "39.6743561\n",
      "-104.9615286\n",
      "                                                  Addr        Lat         Lon\n",
      "DU-ECS             2155 E Wesley Ave, Denver, CO 80208  39.673845 -104.961458\n",
      "DEN                   8500 Pena Blvd, Denver, CO 80249  39.849805 -104.673830\n",
      "WHouse  1600 Pennsylvania Ave NW, Washington, DC 20500  38.897675  -77.036547\n",
      "8500 Peña Blvd, Denver, CO 80249, USA\n",
      "39.8380991\n",
      "-104.6706896\n",
      "                                                  Addr        Lat         Lon\n",
      "DU-ECS             2155 E Wesley Ave, Denver, CO 80208  39.673845 -104.961458\n",
      "DEN                   8500 Pena Blvd, Denver, CO 80249  39.849805 -104.673830\n",
      "WHouse  1600 Pennsylvania Ave NW, Washington, DC 20500  38.897675  -77.036547\n",
      "1600 Pennsylvania Avenue NW, Washington, DC 20500, USA\n",
      "38.8976644\n",
      "-77.037089\n",
      "                                                  Addr        Lat         Lon\n",
      "DU-ECS             2155 E Wesley Ave, Denver, CO 80208  39.673845 -104.961458\n",
      "DEN                   8500 Pena Blvd, Denver, CO 80249  39.849805 -104.673830\n",
      "WHouse  1600 Pennsylvania Ave NW, Washington, DC 20500  38.897675  -77.036547\n"
     ]
    }
   ],
   "source": [
    "for addr in addrs:\n",
    "    n=geolocator.geocode(addr)\n",
    "    print(n)\n",
    "    print(n.latitude)\n",
    "    print(n.longitude)\n",
    "    df=pd.DataFrame({'Addr': addrs},index=['DU-ECS','DEN','WHouse'])\n",
    "    df['Coord']=df['Addr'].apply(nom.geocode)\n",
    "    df['Lat']=df['Coord'].apply(lambda x: x.latitude)\n",
    "    df['Lon']=df['Coord'].apply(lambda x: x.longitude)\n",
    "    df.drop('Coord', axis=1, inplace=True)\n",
    "    print(df)"
   ]
  },
  {
   "cell_type": "markdown",
   "metadata": {},
   "source": [
    "#### Doing the reverse with Google geolocator!"
   ]
  },
  {
   "cell_type": "code",
   "execution_count": 16,
   "metadata": {},
   "outputs": [],
   "source": [
    "point = '51.523910, -0.158578' #here's famous Sherlock Holmes' museum lat & lng\n",
    "address = geolocator.reverse(point)"
   ]
  },
  {
   "cell_type": "code",
   "execution_count": 17,
   "metadata": {},
   "outputs": [
    {
     "data": {
      "text/plain": [
       "Location(247 Baker St, London NW1 6AS, UK, (51.5239184, -0.1585922, 0.0))"
      ]
     },
     "execution_count": 17,
     "metadata": {},
     "output_type": "execute_result"
    }
   ],
   "source": [
    "address"
   ]
  },
  {
   "cell_type": "code",
   "execution_count": null,
   "metadata": {},
   "outputs": [],
   "source": []
  }
 ],
 "metadata": {
  "kernelspec": {
   "display_name": "Python 3",
   "language": "python",
   "name": "python3"
  },
  "language_info": {
   "codemirror_mode": {
    "name": "ipython",
    "version": 3
   },
   "file_extension": ".py",
   "mimetype": "text/x-python",
   "name": "python",
   "nbconvert_exporter": "python",
   "pygments_lexer": "ipython3",
   "version": "3.9.2"
  },
  "nbclean": true
 },
 "nbformat": 4,
 "nbformat_minor": 1
}
