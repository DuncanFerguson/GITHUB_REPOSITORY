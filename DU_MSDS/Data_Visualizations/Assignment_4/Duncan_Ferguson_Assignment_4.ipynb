{
 "cells": [
  {
   "cell_type": "markdown",
   "metadata": {
    "collapsed": true,
    "pycharm": {
     "name": "#%% md\n"
    }
   },
   "source": [
    "## Assignment 4\n",
    "Student: Duncan Ferguson\n",
    "\n",
    "Student Id: 871641260\n",
    "\n",
    "Class: Comp 4433\n",
    "\n",
    "Assignment: Assignment 4\n",
    "\n",
    "Date 8/9/2021\n",
    "\n",
    "### Assignment Description\n",
    "Using free and open source tools, provide a set of choropleth visualizations for each of\n",
    "the columns containing dates such that the resulting visualizations (48 states only) tell\n",
    "the story by conveying through color, texture, or both the timelines of achievement of\n",
    "each milestone/column in the provided dataset.\n",
    "\n",
    "Missing geoJSON_df are of particular interest in\n",
    "that when a state has never achieved a given milestone, that should be indicated in a\n",
    "standout manner such as cross-hatching.\n",
    "\n",
    "Consider that the publication may be\n",
    "grayscale. Provide a solution for that as well. Provide the titles, labels, and legends\n",
    "necessary for clarification. File support is given as follows: SturmCodebook has the\n",
    "explanation. SturmData is the geoJSON_df CSV."
   ]
  },
  {
   "cell_type": "code",
   "execution_count": 734,
   "outputs": [
    {
     "data": {
      "text/html": "\n    <div class=\"bk-root\">\n        <a href=\"https://bokeh.org\" target=\"_blank\" class=\"bk-logo bk-logo-small bk-logo-notebook\"></a>\n        <span id=\"422520\">Loading BokehJS ...</span>\n    </div>"
     },
     "metadata": {},
     "output_type": "display_data"
    },
    {
     "data": {
      "application/javascript": "\n(function(root) {\n  function now() {\n    return new Date();\n  }\n\n  var force = true;\n\n  if (typeof root._bokeh_onload_callbacks === \"undefined\" || force === true) {\n    root._bokeh_onload_callbacks = [];\n    root._bokeh_is_loading = undefined;\n  }\n\n  var JS_MIME_TYPE = 'application/javascript';\n  var HTML_MIME_TYPE = 'text/html';\n  var EXEC_MIME_TYPE = 'application/vnd.bokehjs_exec.v0+json';\n  var CLASS_NAME = 'output_bokeh rendered_html';\n\n  /**\n   * Render data to the DOM node\n   */\n  function render(props, node) {\n    var script = document.createElement(\"script\");\n    node.appendChild(script);\n  }\n\n  /**\n   * Handle when an output is cleared or removed\n   */\n  function handleClearOutput(event, handle) {\n    var cell = handle.cell;\n\n    var id = cell.output_area._bokeh_element_id;\n    var server_id = cell.output_area._bokeh_server_id;\n    // Clean up Bokeh references\n    if (id != null && id in Bokeh.index) {\n      Bokeh.index[id].model.document.clear();\n      delete Bokeh.index[id];\n    }\n\n    if (server_id !== undefined) {\n      // Clean up Bokeh references\n      var cmd = \"from bokeh.io.state import curstate; print(curstate().uuid_to_server['\" + server_id + \"'].get_sessions()[0].document.roots[0]._id)\";\n      cell.notebook.kernel.execute(cmd, {\n        iopub: {\n          output: function(msg) {\n            var id = msg.content.text.trim();\n            if (id in Bokeh.index) {\n              Bokeh.index[id].model.document.clear();\n              delete Bokeh.index[id];\n            }\n          }\n        }\n      });\n      // Destroy server and session\n      var cmd = \"import bokeh.io.notebook as ion; ion.destroy_server('\" + server_id + \"')\";\n      cell.notebook.kernel.execute(cmd);\n    }\n  }\n\n  /**\n   * Handle when a new output is added\n   */\n  function handleAddOutput(event, handle) {\n    var output_area = handle.output_area;\n    var output = handle.output;\n\n    // limit handleAddOutput to display_data with EXEC_MIME_TYPE content only\n    if ((output.output_type != \"display_data\") || (!Object.prototype.hasOwnProperty.call(output.data, EXEC_MIME_TYPE))) {\n      return\n    }\n\n    var toinsert = output_area.element.find(\".\" + CLASS_NAME.split(' ')[0]);\n\n    if (output.metadata[EXEC_MIME_TYPE][\"id\"] !== undefined) {\n      toinsert[toinsert.length - 1].firstChild.textContent = output.data[JS_MIME_TYPE];\n      // store reference to embed id on output_area\n      output_area._bokeh_element_id = output.metadata[EXEC_MIME_TYPE][\"id\"];\n    }\n    if (output.metadata[EXEC_MIME_TYPE][\"server_id\"] !== undefined) {\n      var bk_div = document.createElement(\"div\");\n      bk_div.innerHTML = output.data[HTML_MIME_TYPE];\n      var script_attrs = bk_div.children[0].attributes;\n      for (var i = 0; i < script_attrs.length; i++) {\n        toinsert[toinsert.length - 1].firstChild.setAttribute(script_attrs[i].name, script_attrs[i].value);\n        toinsert[toinsert.length - 1].firstChild.textContent = bk_div.children[0].textContent\n      }\n      // store reference to server id on output_area\n      output_area._bokeh_server_id = output.metadata[EXEC_MIME_TYPE][\"server_id\"];\n    }\n  }\n\n  function register_renderer(events, OutputArea) {\n\n    function append_mime(data, metadata, element) {\n      // create a DOM node to render to\n      var toinsert = this.create_output_subarea(\n        metadata,\n        CLASS_NAME,\n        EXEC_MIME_TYPE\n      );\n      this.keyboard_manager.register_events(toinsert);\n      // Render to node\n      var props = {data: data, metadata: metadata[EXEC_MIME_TYPE]};\n      render(props, toinsert[toinsert.length - 1]);\n      element.append(toinsert);\n      return toinsert\n    }\n\n    /* Handle when an output is cleared or removed */\n    events.on('clear_output.CodeCell', handleClearOutput);\n    events.on('delete.Cell', handleClearOutput);\n\n    /* Handle when a new output is added */\n    events.on('output_added.OutputArea', handleAddOutput);\n\n    /**\n     * Register the mime type and append_mime function with output_area\n     */\n    OutputArea.prototype.register_mime_type(EXEC_MIME_TYPE, append_mime, {\n      /* Is output safe? */\n      safe: true,\n      /* Index of renderer in `output_area.display_order` */\n      index: 0\n    });\n  }\n\n  // register the mime type if in Jupyter Notebook environment and previously unregistered\n  if (root.Jupyter !== undefined) {\n    var events = require('base/js/events');\n    var OutputArea = require('notebook/js/outputarea').OutputArea;\n\n    if (OutputArea.prototype.mime_types().indexOf(EXEC_MIME_TYPE) == -1) {\n      register_renderer(events, OutputArea);\n    }\n  }\n\n  \n  if (typeof (root._bokeh_timeout) === \"undefined\" || force === true) {\n    root._bokeh_timeout = Date.now() + 5000;\n    root._bokeh_failed_load = false;\n  }\n\n  var NB_LOAD_WARNING = {'data': {'text/html':\n     \"<div style='background-color: #fdd'>\\n\"+\n     \"<p>\\n\"+\n     \"BokehJS does not appear to have successfully loaded. If loading BokehJS from CDN, this \\n\"+\n     \"may be due to a slow or bad network connection. Possible fixes:\\n\"+\n     \"</p>\\n\"+\n     \"<ul>\\n\"+\n     \"<li>re-rerun `output_notebook()` to attempt to load from CDN again, or</li>\\n\"+\n     \"<li>use INLINE resources instead, as so:</li>\\n\"+\n     \"</ul>\\n\"+\n     \"<code>\\n\"+\n     \"from bokeh.resources import INLINE\\n\"+\n     \"output_notebook(resources=INLINE)\\n\"+\n     \"</code>\\n\"+\n     \"</div>\"}};\n\n  function display_loaded() {\n    var el = document.getElementById(\"422520\");\n    if (el != null) {\n      el.textContent = \"BokehJS is loading...\";\n    }\n    if (root.Bokeh !== undefined) {\n      if (el != null) {\n        el.textContent = \"BokehJS \" + root.Bokeh.version + \" successfully loaded.\";\n      }\n    } else if (Date.now() < root._bokeh_timeout) {\n      setTimeout(display_loaded, 100)\n    }\n  }\n\n\n  function run_callbacks() {\n    try {\n      root._bokeh_onload_callbacks.forEach(function(callback) {\n        if (callback != null)\n          callback();\n      });\n    } finally {\n      delete root._bokeh_onload_callbacks\n    }\n    console.debug(\"Bokeh: all callbacks have finished\");\n  }\n\n  function load_libs(css_urls, js_urls, callback) {\n    if (css_urls == null) css_urls = [];\n    if (js_urls == null) js_urls = [];\n\n    root._bokeh_onload_callbacks.push(callback);\n    if (root._bokeh_is_loading > 0) {\n      console.debug(\"Bokeh: BokehJS is being loaded, scheduling callback at\", now());\n      return null;\n    }\n    if (js_urls == null || js_urls.length === 0) {\n      run_callbacks();\n      return null;\n    }\n    console.debug(\"Bokeh: BokehJS not loaded, scheduling load and callback at\", now());\n    root._bokeh_is_loading = css_urls.length + js_urls.length;\n\n    function on_load() {\n      root._bokeh_is_loading--;\n      if (root._bokeh_is_loading === 0) {\n        console.debug(\"Bokeh: all BokehJS libraries/stylesheets loaded\");\n        run_callbacks()\n      }\n    }\n\n    function on_error(url) {\n      console.error(\"failed to load \" + url);\n    }\n\n    for (let i = 0; i < css_urls.length; i++) {\n      const url = css_urls[i];\n      const element = document.createElement(\"link\");\n      element.onload = on_load;\n      element.onerror = on_error.bind(null, url);\n      element.rel = \"stylesheet\";\n      element.type = \"text/css\";\n      element.href = url;\n      console.debug(\"Bokeh: injecting link tag for BokehJS stylesheet: \", url);\n      document.body.appendChild(element);\n    }\n\n    const hashes = {\"https://cdn.bokeh.org/bokeh/release/bokeh-2.3.3.min.js\": \"dM3QQsP+wXdHg42wTqW85BjZQdLNNIXqlPw/BgKoExPmTG7ZLML4EGqLMfqHT6ON\", \"https://cdn.bokeh.org/bokeh/release/bokeh-tables-2.3.3.min.js\": \"8x57I4YuIfu8XyZfFo0XVr2WAT8EK4rh/uDe3wF7YuW2FNUSNEpJbsPaB1nJ2fz2\", \"https://cdn.bokeh.org/bokeh/release/bokeh-widgets-2.3.3.min.js\": \"3QTqdz9LyAm2i0sG5XTePsHec3UHWwVsrOL68SYRoAXsafvfAyqtQ+h440+qIBhS\"};\n\n    for (let i = 0; i < js_urls.length; i++) {\n      const url = js_urls[i];\n      const element = document.createElement('script');\n      element.onload = on_load;\n      element.onerror = on_error.bind(null, url);\n      element.async = false;\n      element.src = url;\n      if (url in hashes) {\n        element.crossOrigin = \"anonymous\";\n        element.integrity = \"sha384-\" + hashes[url];\n      }\n      console.debug(\"Bokeh: injecting script tag for BokehJS library: \", url);\n      document.head.appendChild(element);\n    }\n  };\n\n  function inject_raw_css(css) {\n    const element = document.createElement(\"style\");\n    element.appendChild(document.createTextNode(css));\n    document.body.appendChild(element);\n  }\n\n  \n  var js_urls = [\"https://cdn.bokeh.org/bokeh/release/bokeh-2.3.3.min.js\", \"https://cdn.bokeh.org/bokeh/release/bokeh-widgets-2.3.3.min.js\", \"https://cdn.bokeh.org/bokeh/release/bokeh-tables-2.3.3.min.js\"];\n  var css_urls = [];\n  \n\n  var inline_js = [\n    function(Bokeh) {\n      Bokeh.set_log_level(\"info\");\n    },\n    function(Bokeh) {\n    \n    \n    }\n  ];\n\n  function run_inline_js() {\n    \n    if (root.Bokeh !== undefined || force === true) {\n      \n    for (var i = 0; i < inline_js.length; i++) {\n      inline_js[i].call(root, root.Bokeh);\n    }\n    if (force === true) {\n        display_loaded();\n      }} else if (Date.now() < root._bokeh_timeout) {\n      setTimeout(run_inline_js, 100);\n    } else if (!root._bokeh_failed_load) {\n      console.log(\"Bokeh: BokehJS failed to load within specified timeout.\");\n      root._bokeh_failed_load = true;\n    } else if (force !== true) {\n      var cell = $(document.getElementById(\"422520\")).parents('.cell').data().cell;\n      cell.output_area.append_execute_result(NB_LOAD_WARNING)\n    }\n\n  }\n\n  if (root._bokeh_is_loading === 0) {\n    console.debug(\"Bokeh: BokehJS loaded, going straight to plotting\");\n    run_inline_js();\n  } else {\n    load_libs(css_urls, js_urls, function() {\n      console.debug(\"Bokeh: BokehJS plotting callback run at\", now());\n      run_inline_js();\n    });\n  }\n}(window));",
      "application/vnd.bokehjs_load.v0+json": "\n(function(root) {\n  function now() {\n    return new Date();\n  }\n\n  var force = true;\n\n  if (typeof root._bokeh_onload_callbacks === \"undefined\" || force === true) {\n    root._bokeh_onload_callbacks = [];\n    root._bokeh_is_loading = undefined;\n  }\n\n  \n\n  \n  if (typeof (root._bokeh_timeout) === \"undefined\" || force === true) {\n    root._bokeh_timeout = Date.now() + 5000;\n    root._bokeh_failed_load = false;\n  }\n\n  var NB_LOAD_WARNING = {'data': {'text/html':\n     \"<div style='background-color: #fdd'>\\n\"+\n     \"<p>\\n\"+\n     \"BokehJS does not appear to have successfully loaded. If loading BokehJS from CDN, this \\n\"+\n     \"may be due to a slow or bad network connection. Possible fixes:\\n\"+\n     \"</p>\\n\"+\n     \"<ul>\\n\"+\n     \"<li>re-rerun `output_notebook()` to attempt to load from CDN again, or</li>\\n\"+\n     \"<li>use INLINE resources instead, as so:</li>\\n\"+\n     \"</ul>\\n\"+\n     \"<code>\\n\"+\n     \"from bokeh.resources import INLINE\\n\"+\n     \"output_notebook(resources=INLINE)\\n\"+\n     \"</code>\\n\"+\n     \"</div>\"}};\n\n  function display_loaded() {\n    var el = document.getElementById(\"422520\");\n    if (el != null) {\n      el.textContent = \"BokehJS is loading...\";\n    }\n    if (root.Bokeh !== undefined) {\n      if (el != null) {\n        el.textContent = \"BokehJS \" + root.Bokeh.version + \" successfully loaded.\";\n      }\n    } else if (Date.now() < root._bokeh_timeout) {\n      setTimeout(display_loaded, 100)\n    }\n  }\n\n\n  function run_callbacks() {\n    try {\n      root._bokeh_onload_callbacks.forEach(function(callback) {\n        if (callback != null)\n          callback();\n      });\n    } finally {\n      delete root._bokeh_onload_callbacks\n    }\n    console.debug(\"Bokeh: all callbacks have finished\");\n  }\n\n  function load_libs(css_urls, js_urls, callback) {\n    if (css_urls == null) css_urls = [];\n    if (js_urls == null) js_urls = [];\n\n    root._bokeh_onload_callbacks.push(callback);\n    if (root._bokeh_is_loading > 0) {\n      console.debug(\"Bokeh: BokehJS is being loaded, scheduling callback at\", now());\n      return null;\n    }\n    if (js_urls == null || js_urls.length === 0) {\n      run_callbacks();\n      return null;\n    }\n    console.debug(\"Bokeh: BokehJS not loaded, scheduling load and callback at\", now());\n    root._bokeh_is_loading = css_urls.length + js_urls.length;\n\n    function on_load() {\n      root._bokeh_is_loading--;\n      if (root._bokeh_is_loading === 0) {\n        console.debug(\"Bokeh: all BokehJS libraries/stylesheets loaded\");\n        run_callbacks()\n      }\n    }\n\n    function on_error(url) {\n      console.error(\"failed to load \" + url);\n    }\n\n    for (let i = 0; i < css_urls.length; i++) {\n      const url = css_urls[i];\n      const element = document.createElement(\"link\");\n      element.onload = on_load;\n      element.onerror = on_error.bind(null, url);\n      element.rel = \"stylesheet\";\n      element.type = \"text/css\";\n      element.href = url;\n      console.debug(\"Bokeh: injecting link tag for BokehJS stylesheet: \", url);\n      document.body.appendChild(element);\n    }\n\n    const hashes = {\"https://cdn.bokeh.org/bokeh/release/bokeh-2.3.3.min.js\": \"dM3QQsP+wXdHg42wTqW85BjZQdLNNIXqlPw/BgKoExPmTG7ZLML4EGqLMfqHT6ON\", \"https://cdn.bokeh.org/bokeh/release/bokeh-tables-2.3.3.min.js\": \"8x57I4YuIfu8XyZfFo0XVr2WAT8EK4rh/uDe3wF7YuW2FNUSNEpJbsPaB1nJ2fz2\", \"https://cdn.bokeh.org/bokeh/release/bokeh-widgets-2.3.3.min.js\": \"3QTqdz9LyAm2i0sG5XTePsHec3UHWwVsrOL68SYRoAXsafvfAyqtQ+h440+qIBhS\"};\n\n    for (let i = 0; i < js_urls.length; i++) {\n      const url = js_urls[i];\n      const element = document.createElement('script');\n      element.onload = on_load;\n      element.onerror = on_error.bind(null, url);\n      element.async = false;\n      element.src = url;\n      if (url in hashes) {\n        element.crossOrigin = \"anonymous\";\n        element.integrity = \"sha384-\" + hashes[url];\n      }\n      console.debug(\"Bokeh: injecting script tag for BokehJS library: \", url);\n      document.head.appendChild(element);\n    }\n  };\n\n  function inject_raw_css(css) {\n    const element = document.createElement(\"style\");\n    element.appendChild(document.createTextNode(css));\n    document.body.appendChild(element);\n  }\n\n  \n  var js_urls = [\"https://cdn.bokeh.org/bokeh/release/bokeh-2.3.3.min.js\", \"https://cdn.bokeh.org/bokeh/release/bokeh-widgets-2.3.3.min.js\", \"https://cdn.bokeh.org/bokeh/release/bokeh-tables-2.3.3.min.js\"];\n  var css_urls = [];\n  \n\n  var inline_js = [\n    function(Bokeh) {\n      Bokeh.set_log_level(\"info\");\n    },\n    function(Bokeh) {\n    \n    \n    }\n  ];\n\n  function run_inline_js() {\n    \n    if (root.Bokeh !== undefined || force === true) {\n      \n    for (var i = 0; i < inline_js.length; i++) {\n      inline_js[i].call(root, root.Bokeh);\n    }\n    if (force === true) {\n        display_loaded();\n      }} else if (Date.now() < root._bokeh_timeout) {\n      setTimeout(run_inline_js, 100);\n    } else if (!root._bokeh_failed_load) {\n      console.log(\"Bokeh: BokehJS failed to load within specified timeout.\");\n      root._bokeh_failed_load = true;\n    } else if (force !== true) {\n      var cell = $(document.getElementById(\"422520\")).parents('.cell').data().cell;\n      cell.output_area.append_execute_result(NB_LOAD_WARNING)\n    }\n\n  }\n\n  if (root._bokeh_is_loading === 0) {\n    console.debug(\"Bokeh: BokehJS loaded, going straight to plotting\");\n    run_inline_js();\n  } else {\n    load_libs(css_urls, js_urls, function() {\n      console.debug(\"Bokeh: BokehJS plotting callback run at\", now());\n      run_inline_js();\n    });\n  }\n}(window));"
     },
     "metadata": {},
     "output_type": "display_data"
    }
   ],
   "source": [
    "# Importing the Necessary Files\n",
    "import json\n",
    "import pandas as pd\n",
    "from bokeh.io import output_notebook\n",
    "\n",
    "file = 'states_geo.json'\n",
    "file2 = 'StrumData.csv'\n",
    "file3 = 'states_id.csv'\n",
    "\n",
    "output_notebook()"
   ],
   "metadata": {
    "collapsed": false,
    "pycharm": {
     "name": "#%%\n"
    }
   }
  },
  {
   "cell_type": "code",
   "execution_count": 735,
   "outputs": [],
   "source": [
    "# Importing the JSON File\n",
    "with open(file) as geoJSON_df:\n",
    "    dataset = json.load(geoJSON_df)"
   ],
   "metadata": {
    "collapsed": false,
    "pycharm": {
     "name": "#%%\n"
    }
   }
  },
  {
   "cell_type": "code",
   "execution_count": 736,
   "outputs": [
    {
     "data": {
      "text/plain": "  state  fips  icpsr  debtfree  effectivemwpa  earnings   wills  soletrader\n0    AL     1     41    1846.0            NaN    1887.0     NaN         NaN\n1    AR     5     42    1835.0         1873.0    1873.0  1868.0      1868.0\n2    AZ     4     61    1864.0         1871.0    1973.0     NaN      1871.0\n3    CA     6     71    1850.0         1872.0    1872.0  1874.0      1872.0\n4    CO     8     62    1861.0         1861.0    1861.0  1874.0      1874.0",
      "text/html": "<div>\n<style scoped>\n    .dataframe tbody tr th:only-of-type {\n        vertical-align: middle;\n    }\n\n    .dataframe tbody tr th {\n        vertical-align: top;\n    }\n\n    .dataframe thead th {\n        text-align: right;\n    }\n</style>\n<table border=\"1\" class=\"dataframe\">\n  <thead>\n    <tr style=\"text-align: right;\">\n      <th></th>\n      <th>state</th>\n      <th>fips</th>\n      <th>icpsr</th>\n      <th>debtfree</th>\n      <th>effectivemwpa</th>\n      <th>earnings</th>\n      <th>wills</th>\n      <th>soletrader</th>\n    </tr>\n  </thead>\n  <tbody>\n    <tr>\n      <th>0</th>\n      <td>AL</td>\n      <td>1</td>\n      <td>41</td>\n      <td>1846.0</td>\n      <td>NaN</td>\n      <td>1887.0</td>\n      <td>NaN</td>\n      <td>NaN</td>\n    </tr>\n    <tr>\n      <th>1</th>\n      <td>AR</td>\n      <td>5</td>\n      <td>42</td>\n      <td>1835.0</td>\n      <td>1873.0</td>\n      <td>1873.0</td>\n      <td>1868.0</td>\n      <td>1868.0</td>\n    </tr>\n    <tr>\n      <th>2</th>\n      <td>AZ</td>\n      <td>4</td>\n      <td>61</td>\n      <td>1864.0</td>\n      <td>1871.0</td>\n      <td>1973.0</td>\n      <td>NaN</td>\n      <td>1871.0</td>\n    </tr>\n    <tr>\n      <th>3</th>\n      <td>CA</td>\n      <td>6</td>\n      <td>71</td>\n      <td>1850.0</td>\n      <td>1872.0</td>\n      <td>1872.0</td>\n      <td>1874.0</td>\n      <td>1872.0</td>\n    </tr>\n    <tr>\n      <th>4</th>\n      <td>CO</td>\n      <td>8</td>\n      <td>62</td>\n      <td>1861.0</td>\n      <td>1861.0</td>\n      <td>1861.0</td>\n      <td>1874.0</td>\n      <td>1874.0</td>\n    </tr>\n  </tbody>\n</table>\n</div>"
     },
     "execution_count": 736,
     "metadata": {},
     "output_type": "execute_result"
    }
   ],
   "source": [
    "# Importing the Strum Dataset\n",
    "with open(file2) as strum:\n",
    "    df_2 = pd.read_csv(strum)\n",
    "\n",
    "df_2.head()"
   ],
   "metadata": {
    "collapsed": false,
    "pycharm": {
     "name": "#%%\n"
    }
   }
  },
  {
   "cell_type": "code",
   "execution_count": 737,
   "outputs": [
    {
     "data": {
      "text/plain": "   state_id state\n0         0    MN\n1         1    MT\n2         2    ND\n3         3    HI\n4         4    ID",
      "text/html": "<div>\n<style scoped>\n    .dataframe tbody tr th:only-of-type {\n        vertical-align: middle;\n    }\n\n    .dataframe tbody tr th {\n        vertical-align: top;\n    }\n\n    .dataframe thead th {\n        text-align: right;\n    }\n</style>\n<table border=\"1\" class=\"dataframe\">\n  <thead>\n    <tr style=\"text-align: right;\">\n      <th></th>\n      <th>state_id</th>\n      <th>state</th>\n    </tr>\n  </thead>\n  <tbody>\n    <tr>\n      <th>0</th>\n      <td>0</td>\n      <td>MN</td>\n    </tr>\n    <tr>\n      <th>1</th>\n      <td>1</td>\n      <td>MT</td>\n    </tr>\n    <tr>\n      <th>2</th>\n      <td>2</td>\n      <td>ND</td>\n    </tr>\n    <tr>\n      <th>3</th>\n      <td>3</td>\n      <td>HI</td>\n    </tr>\n    <tr>\n      <th>4</th>\n      <td>4</td>\n      <td>ID</td>\n    </tr>\n  </tbody>\n</table>\n</div>"
     },
     "execution_count": 737,
     "metadata": {},
     "output_type": "execute_result"
    }
   ],
   "source": [
    "# Importing the State IDs\n",
    "with open(file3) as state_id:\n",
    "    df_3 = pd.read_csv(file3, usecols=[0, 1], names=['state_id', 'state'], encoding='ascii', sep=',\"\\t', engine='python')\n",
    "    df_3['state'] = df_3['state'].str.strip('\"')\n",
    "\n",
    "df_3.head()"
   ],
   "metadata": {
    "collapsed": false,
    "pycharm": {
     "name": "#%%\n"
    }
   }
  },
  {
   "cell_type": "code",
   "execution_count": 738,
   "outputs": [
    {
     "name": "stdout",
     "output_type": "stream",
     "text": [
      "['AK', 'DC', 'HI']\n"
     ]
    },
    {
     "data": {
      "text/plain": "  state  fips  icpsr  debtfree  effectivemwpa  earnings   wills  soletrader  \\\n0    AL     1     41    1846.0            NaN    1887.0     NaN         NaN   \n1    AR     5     42    1835.0         1873.0    1873.0  1868.0      1868.0   \n2    AZ     4     61    1864.0         1871.0    1973.0     NaN      1871.0   \n3    CA     6     71    1850.0         1872.0    1872.0  1874.0      1872.0   \n4    CO     8     62    1861.0         1861.0    1861.0  1874.0      1874.0   \n\n   state_id  \n0        28  \n1        14  \n2         6  \n3         7  \n4         8  ",
      "text/html": "<div>\n<style scoped>\n    .dataframe tbody tr th:only-of-type {\n        vertical-align: middle;\n    }\n\n    .dataframe tbody tr th {\n        vertical-align: top;\n    }\n\n    .dataframe thead th {\n        text-align: right;\n    }\n</style>\n<table border=\"1\" class=\"dataframe\">\n  <thead>\n    <tr style=\"text-align: right;\">\n      <th></th>\n      <th>state</th>\n      <th>fips</th>\n      <th>icpsr</th>\n      <th>debtfree</th>\n      <th>effectivemwpa</th>\n      <th>earnings</th>\n      <th>wills</th>\n      <th>soletrader</th>\n      <th>state_id</th>\n    </tr>\n  </thead>\n  <tbody>\n    <tr>\n      <th>0</th>\n      <td>AL</td>\n      <td>1</td>\n      <td>41</td>\n      <td>1846.0</td>\n      <td>NaN</td>\n      <td>1887.0</td>\n      <td>NaN</td>\n      <td>NaN</td>\n      <td>28</td>\n    </tr>\n    <tr>\n      <th>1</th>\n      <td>AR</td>\n      <td>5</td>\n      <td>42</td>\n      <td>1835.0</td>\n      <td>1873.0</td>\n      <td>1873.0</td>\n      <td>1868.0</td>\n      <td>1868.0</td>\n      <td>14</td>\n    </tr>\n    <tr>\n      <th>2</th>\n      <td>AZ</td>\n      <td>4</td>\n      <td>61</td>\n      <td>1864.0</td>\n      <td>1871.0</td>\n      <td>1973.0</td>\n      <td>NaN</td>\n      <td>1871.0</td>\n      <td>6</td>\n    </tr>\n    <tr>\n      <th>3</th>\n      <td>CA</td>\n      <td>6</td>\n      <td>71</td>\n      <td>1850.0</td>\n      <td>1872.0</td>\n      <td>1872.0</td>\n      <td>1874.0</td>\n      <td>1872.0</td>\n      <td>7</td>\n    </tr>\n    <tr>\n      <th>4</th>\n      <td>CO</td>\n      <td>8</td>\n      <td>62</td>\n      <td>1861.0</td>\n      <td>1861.0</td>\n      <td>1861.0</td>\n      <td>1874.0</td>\n      <td>1874.0</td>\n      <td>8</td>\n    </tr>\n  </tbody>\n</table>\n</div>"
     },
     "execution_count": 738,
     "metadata": {},
     "output_type": "execute_result"
    }
   ],
   "source": [
    "import numpy as np\n",
    "\n",
    "# Merging Data Sets and finding Missing States\n",
    "strum_w_id = df_2.merge(df_3, left_on='state', right_on='state')  # Merged Data Set\n",
    "missing_states = np.setdiff1d(df_3['state'].to_list(), strum_w_id['state'].to_list()).tolist()  # Missing States\n",
    "\n",
    "print(missing_states)\n",
    "\n",
    "# Display New merged data set\n",
    "strum_w_id.head()"
   ],
   "metadata": {
    "collapsed": false,
    "pycharm": {
     "name": "#%%\n"
    }
   }
  },
  {
   "cell_type": "code",
   "execution_count": 739,
   "outputs": [],
   "source": [
    "# Removing Missing states from the JSON file\n",
    "datetime_cols = ['debtfree', 'effectivemwpa', 'earnings', 'wills', 'soletrader']  # columns to turn into datetime\n",
    "for element in reversed(dataset['features']):\n",
    "    element['state'] = df_3.iloc[element['id'], :][1]  # Add state\n",
    "    add_df = strum_w_id[strum_w_id['state_id'] == element['id']]\n",
    "    if element['state'] in missing_states:  # If the state is in that change list, remove it\n",
    "        dataset['features'].remove(element)  # Removing states that are in the data list\n",
    "    else:\n",
    "        for i in add_df:\n",
    "            element['properties'][i] = add_df[i].values[0]\n",
    "\n",
    "# Reformatting the difference in the data\n",
    "for element in dataset['features']:\n",
    "    for i in element['properties']:\n",
    "        if i in datetime_cols:\n",
    "            if np.isnan(element['properties'][i]):\n",
    "                element['properties'][i] = 'No Data'\n",
    "            else:\n",
    "                element['properties'][i] = int(element['properties'][i])"
   ],
   "metadata": {
    "collapsed": false,
    "pycharm": {
     "name": "#%%\n"
    }
   }
  },
  {
   "cell_type": "code",
   "execution_count": 740,
   "outputs": [
    {
     "data": {
      "text/plain": "                                            geometry  scalerank  \\\n0  POLYGON ((-89.59941 48.01027, -89.48888 48.013...          2   \n1  POLYGON ((-111.19419 44.56116, -111.29155 44.7...          2   \n2  POLYGON ((-96.60136 46.35136, -96.53891 46.199...          2   \n3  POLYGON ((-111.04973 44.48816, -111.05025 42.0...          2   \n4  POLYGON ((-116.99807 46.33017, -116.90653 46.1...          2   \n\n           featurecla adm1_code state  fips  icpsr debtfree effectivemwpa  \\\n0  Admin-1 scale rank  USA-3514    MN    27     33     1866          1869   \n1  Admin-1 scale rank  USA-3515    MT    30     64     1864          1887   \n2  Admin-1 scale rank  USA-3516    ND    38     36     1862          1877   \n3  Admin-1 scale rank  USA-3518    ID    16     63     1887          1903   \n4  Admin-1 scale rank  USA-3519    WA    53     73     1860          1881   \n\n  earnings    wills soletrader  state_id  \n0     1869     1869       1874         0  \n1     1887  No Data       1874         1  \n2  No Data     1877       1877         2  \n3     1915     1887       1887         4  \n4     1881     1889       1889         5  ",
      "text/html": "<div>\n<style scoped>\n    .dataframe tbody tr th:only-of-type {\n        vertical-align: middle;\n    }\n\n    .dataframe tbody tr th {\n        vertical-align: top;\n    }\n\n    .dataframe thead th {\n        text-align: right;\n    }\n</style>\n<table border=\"1\" class=\"dataframe\">\n  <thead>\n    <tr style=\"text-align: right;\">\n      <th></th>\n      <th>geometry</th>\n      <th>scalerank</th>\n      <th>featurecla</th>\n      <th>adm1_code</th>\n      <th>state</th>\n      <th>fips</th>\n      <th>icpsr</th>\n      <th>debtfree</th>\n      <th>effectivemwpa</th>\n      <th>earnings</th>\n      <th>wills</th>\n      <th>soletrader</th>\n      <th>state_id</th>\n    </tr>\n  </thead>\n  <tbody>\n    <tr>\n      <th>0</th>\n      <td>POLYGON ((-89.59941 48.01027, -89.48888 48.013...</td>\n      <td>2</td>\n      <td>Admin-1 scale rank</td>\n      <td>USA-3514</td>\n      <td>MN</td>\n      <td>27</td>\n      <td>33</td>\n      <td>1866</td>\n      <td>1869</td>\n      <td>1869</td>\n      <td>1869</td>\n      <td>1874</td>\n      <td>0</td>\n    </tr>\n    <tr>\n      <th>1</th>\n      <td>POLYGON ((-111.19419 44.56116, -111.29155 44.7...</td>\n      <td>2</td>\n      <td>Admin-1 scale rank</td>\n      <td>USA-3515</td>\n      <td>MT</td>\n      <td>30</td>\n      <td>64</td>\n      <td>1864</td>\n      <td>1887</td>\n      <td>1887</td>\n      <td>No Data</td>\n      <td>1874</td>\n      <td>1</td>\n    </tr>\n    <tr>\n      <th>2</th>\n      <td>POLYGON ((-96.60136 46.35136, -96.53891 46.199...</td>\n      <td>2</td>\n      <td>Admin-1 scale rank</td>\n      <td>USA-3516</td>\n      <td>ND</td>\n      <td>38</td>\n      <td>36</td>\n      <td>1862</td>\n      <td>1877</td>\n      <td>No Data</td>\n      <td>1877</td>\n      <td>1877</td>\n      <td>2</td>\n    </tr>\n    <tr>\n      <th>3</th>\n      <td>POLYGON ((-111.04973 44.48816, -111.05025 42.0...</td>\n      <td>2</td>\n      <td>Admin-1 scale rank</td>\n      <td>USA-3518</td>\n      <td>ID</td>\n      <td>16</td>\n      <td>63</td>\n      <td>1887</td>\n      <td>1903</td>\n      <td>1915</td>\n      <td>1887</td>\n      <td>1887</td>\n      <td>4</td>\n    </tr>\n    <tr>\n      <th>4</th>\n      <td>POLYGON ((-116.99807 46.33017, -116.90653 46.1...</td>\n      <td>2</td>\n      <td>Admin-1 scale rank</td>\n      <td>USA-3519</td>\n      <td>WA</td>\n      <td>53</td>\n      <td>73</td>\n      <td>1860</td>\n      <td>1881</td>\n      <td>1881</td>\n      <td>1889</td>\n      <td>1889</td>\n      <td>5</td>\n    </tr>\n  </tbody>\n</table>\n</div>"
     },
     "execution_count": 740,
     "metadata": {},
     "output_type": "execute_result"
    }
   ],
   "source": [
    "import  geopandas as gpd\n",
    "from bokeh.models import GeoJSONDataSource\n",
    "\n",
    "# Creating a GeoDataFrame\n",
    "j_dataset = gpd.GeoDataFrame.from_features(dataset[\"features\"])\n",
    "json_data = json.dumps(json.loads(j_dataset.to_json()))\n",
    "geosource = GeoJSONDataSource(geojson=json_data)\n",
    "\n",
    "j_dataset.head()"
   ],
   "metadata": {
    "collapsed": false,
    "pycharm": {
     "name": "#%%\n"
    }
   }
  },
  {
   "cell_type": "markdown",
   "source": [
    "Now that we have imported all of the datasets. Scrubbed them. Identified missing states. Removed them from\n",
    "the Json file and then merged all the relevant information on to the JSON file it is time to start graphing and looking\n",
    "at the data."
   ],
   "metadata": {
    "collapsed": false,
    "pycharm": {
     "name": "#%% md\n"
    }
   }
  },
  {
   "cell_type": "code",
   "execution_count": 741,
   "outputs": [],
   "source": [
    "# importing the necessary dependencies\n",
    "from bokeh.plotting import figure, show\n",
    "from bokeh.models import ColorBar, LinearColorMapper, HoverTool\n",
    "from bokeh.palettes import gray, viridis\n",
    "from ipywidgets import interact, widgets\n",
    "\n",
    "# Setting Up Color Scale to use\n",
    "def get_plot(category, value):\n",
    "\n",
    "    # Changing Color Scale of Map\n",
    "    if value == 'color':\n",
    "        palette = viridis(100)\n",
    "        nan_color = '#d9d9d9'\n",
    "        line_color = 'red'\n",
    "    else:\n",
    "        palette = gray(100)\n",
    "        nan_color = '#FFFFFF'\n",
    "        line_color = 'black'\n",
    "    palette = palette[::-1]  # Making Dark Colors the most recent\n",
    "\n",
    "    # Adding in added descriptions to the title\n",
    "    if category == 'debtfree':\n",
    "        category_description = 'Law protecting married women’s separate property from her husband’s debts'\n",
    "    elif category == 'effectivemwpa':\n",
    "        category_description = 'Law granting married women control and management rights over their separate property'\n",
    "    elif category == 'earnings':\n",
    "        category_description = 'Law granting married women ownership of their wages or earnings on par with other separate property'\n",
    "    elif category == 'wills':\n",
    "        category_description = 'Law granting married women the ability to write wills without their husband\\'s consent or other restrictions'\n",
    "    elif category == 'soletrader':\n",
    "        category_description = 'Law granting married women as a class the right to sign contracts and engage in business without consent of husband'\n",
    "    else:\n",
    "        category_description = 'No Category Selected'\n",
    "\n",
    "    # Setting Colors for map\n",
    "    color_mapper = LinearColorMapper(palette=palette,\n",
    "                                     low=strum_w_id[category].min(),\n",
    "                                     high=strum_w_id[category].max(),\n",
    "                                     nan_color=nan_color)\n",
    "\n",
    "    color_bar = ColorBar(color_mapper=color_mapper,\n",
    "                         label_standoff=8,\n",
    "                         title=\"Year of Adoption\",\n",
    "                         width=20,\n",
    "                         height=500,\n",
    "                         border_line_color='black',\n",
    "                         location=(0, 0),\n",
    "                         orientation='vertical')\n",
    "\n",
    "    # Displaying map\n",
    "    p = figure(title=category + ' by Year: \\n' + category_description,\n",
    "               plot_height=600,\n",
    "               plot_width=950,\n",
    "               toolbar_location='right',\n",
    "               tools='pan,box_select,zoom_in,zoom_out,save,reset',\n",
    "               y_axis_label='Longitude',\n",
    "               x_axis_label='Latitude')\n",
    "\n",
    "    # Blanking out the grid lines\n",
    "    p.xgrid.grid_line_color = None\n",
    "    p.ygrid.grid_line_color = None\n",
    "\n",
    "    p.patches('xs', 'ys', source=geosource,\n",
    "              fill_color={'field': category, 'transform': color_mapper},\n",
    "              line_color=line_color,\n",
    "              line_width=0.25,\n",
    "              fill_alpha=1)\n",
    "\n",
    "    # Adding Colorbar as legend\n",
    "    p.add_layout(color_bar, 'right')\n",
    "\n",
    "    # Adding Hover Tool for extra details\n",
    "    hover = HoverTool()\n",
    "    hover.tooltips = \"\"\"\n",
    "    <div>\n",
    "        <h4>@state</h3>\n",
    "        <div><strong>Earnings: </strong>@earnings</div>\n",
    "        <div><strong>Debtfree: </strong>@debtfree</div>\n",
    "        <div><strong>Effective_mwpa: </strong>@effectivemwpa</div>\n",
    "        <div><strong>Earnings: </strong>@earnings</div>\n",
    "        <div><strong>Wills: </strong>@wills</div>\n",
    "        <div><strong>Sole_Trader: </strong>@soletrader</div>\n",
    "    </div>\n",
    "    \"\"\"\n",
    "    p.add_tools(hover)\n",
    "\n",
    "\n",
    "    return p"
   ],
   "metadata": {
    "collapsed": false,
    "pycharm": {
     "name": "#%%\n"
    }
   }
  },
  {
   "cell_type": "code",
   "execution_count": 742,
   "outputs": [],
   "source": [
    "# Setting up the options to choose from on the interactive widgets\n",
    "category_options = ['debtfree', 'effectivemwpa', 'earnings', 'wills', 'soletrader']\n",
    "value_options = ['color', 'gray']"
   ],
   "metadata": {
    "collapsed": false,
    "pycharm": {
     "name": "#%%\n"
    }
   }
  },
  {
   "cell_type": "code",
   "execution_count": 743,
   "outputs": [],
   "source": [
    "# Setting up the interaction elements\n",
    "\n",
    "category_dropdown=widgets.Dropdown(options=category_options,\n",
    "                                   value='debtfree',\n",
    "                                   description='Category')\n",
    "\n",
    "value_radio=widgets.RadioButtons(options=value_options,\n",
    "                                 description='Color Options')"
   ],
   "metadata": {
    "collapsed": false,
    "pycharm": {
     "name": "#%%\n"
    }
   }
  },
  {
   "cell_type": "code",
   "execution_count": 744,
   "outputs": [
    {
     "data": {
      "text/plain": "interactive(children=(Dropdown(description='Category', options=('debtfree', 'effectivemwpa', 'earnings', 'will…",
      "application/vnd.jupyter.widget-view+json": {
       "version_major": 2,
       "version_minor": 0,
       "model_id": "36158a6a1b92400da43378776eee82c7"
      }
     },
     "metadata": {},
     "output_type": "display_data"
    }
   ],
   "source": [
    "# creating the interact method\n",
    "@interact(category=category_dropdown, value=value_radio)\n",
    "def display_graph(category, value):\n",
    "    show(get_plot(category, value))"
   ],
   "metadata": {
    "collapsed": false,
    "pycharm": {
     "name": "#%%\n"
    }
   }
  },
  {
   "cell_type": "markdown",
   "source": [
    "## The Data Story\n",
    "\n",
    "Now that we have created an interactive choropleth we can look at all tof the different time lines of achievement for each\n",
    "of the columns that were labeled in our data set. The Title changes when the chatergory is changed.\n",
    "There is an option for a gray scale and all nan_value are displayed as gray. There are also hover values so that\n",
    "you can get the exact dates and see more details\n",
    "\n",
    "Debt Free. Analysis. When looking at the debtfree year. A law protecting married women's separate property from\n",
    " her husband's debts we can see that Louisiana never adopt the law. Where Arkansas was the earliest to adopt the law and\n",
    "  Idaho was the last. There is a General trend of the Northwest adopting the law later and the North East Adopting it early one\n",
    "\n",
    "Effectivmwpa. The Law Granting Married women control and management rights over their separate property. Florida adopted\n",
    "the law much later than the rest of the US. There is no data for Alabama. Oonce again the North East was earlier to\n",
    "adopt this law overall.\n",
    "\n",
    "Earnings. The Law granting married women ownership of their wages or earnings on par with other seperate property.\n",
    "Maryland Was the Earliest and Arizona was the last With missing data for Oklahoma, New Mexico and North and South Dakota\n",
    "\n",
    "Wills: Wills have the most missing data. Ohio was the earliest to adopt followed by Connecticut. The rest oif the states\n",
    "did not adopt the law till much later.\n",
    "\n",
    "Soletrade: A law granting married women as a class the right to sign contracts and engage in business without\n",
    "consent of husband. This also has a lot of missing data. Maine being the earliest to adopt, where the rest of the\n",
    "states in the West adopt much later and the states in the south are null values"
   ],
   "metadata": {
    "collapsed": false,
    "pycharm": {
     "name": "#%% md\n"
    }
   }
  }
 ],
 "metadata": {
  "kernelspec": {
   "name": "pycharm-865e1948",
   "language": "python",
   "display_name": "PyCharm (GITHUB_REPOSITORY)"
  },
  "language_info": {
   "codemirror_mode": {
    "name": "ipython",
    "version": 2
   },
   "file_extension": ".py",
   "mimetype": "text/x-python",
   "name": "python",
   "nbconvert_exporter": "python",
   "pygments_lexer": "ipython2",
   "version": "2.7.6"
  }
 },
 "nbformat": 4,
 "nbformat_minor": 0
}