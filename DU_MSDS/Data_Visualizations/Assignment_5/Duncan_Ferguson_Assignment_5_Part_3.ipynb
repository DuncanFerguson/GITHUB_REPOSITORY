{
 "cells": [
  {
   "cell_type": "markdown",
   "metadata": {
    "collapsed": true,
    "pycharm": {
     "name": "#%% md\n"
    }
   },
   "source": [
    "##### Student: Duncan Ferguson\n",
    "##### Student Id: 871641260\n",
    "##### Class: Comp 4433\n",
    "##### Assignment: Assignment 5 Part 3\n",
    "##### Date 8/23/2021\n",
    "\n",
    "\"\"\" Estimate the boundaries for Kansas (use just four lat-long points) and Nebraska (use just six points)\n",
    "Construct a GeoJSON file from that. Then write a Python program to read that file, form a dictionary,\n",
    "and plot the results\"\"\""
   ]
  },
  {
   "cell_type": "code",
   "execution_count": 6,
   "outputs": [
    {
     "name": "stdout",
     "output_type": "stream",
     "text": [
      "<class 'geojson.feature.Feature'>\n"
     ]
    }
   ],
   "source": [
    "# Creating Kansas Polygon\n",
    "\n",
    "from geojson import Polygon, Feature\n",
    "\n",
    "NW_KA = (40.00581067533721, -102.0528170631371)\n",
    "NE_KA = (39.99893185672504, -94.61847649961597)\n",
    "SW_KA = (36.993067, -102.042071)\n",
    "SE_KA = (36.99891776893816, -94.6179717441199)\n",
    "\n",
    "kansas_poly = Polygon([[NW_KA, NE_KA, SE_KA, SW_KA]])\n",
    "kansas = Feature(geometry=kansas_poly, properties={'state':'kansas'})\n",
    "\n",
    "# Creating Nebraska Polygon\n",
    "\n",
    "NW_NE = [43.0008807956697, -104.05310504007869]\n",
    "SW_NE_1 = [41.01237134482985, -104.05578499832443]\n",
    "SW_NE_2 = [41.00428887544674, -102.06029885056343]\n",
    "SW_NE_3 = [40.01000231641949, -102.04773884001962]\n",
    "SE_NE = [40.01894547099799, -95.3193142525115]\n",
    "NE_NE = [42.936541272131834, -96.53327113679717]\n",
    "\n",
    "nebraska_poly = Polygon([[NW_NE, SW_NE_1, SW_NE_2, SW_NE_3, SE_NE, NE_NE]])\n",
    "nebraska = Feature(geometry=nebraska_poly, properties={'state':'nebraska'})\n",
    "\n",
    "print(type(nebraska))"
   ],
   "metadata": {
    "collapsed": false,
    "pycharm": {
     "name": "#%%\n"
    }
   }
  },
  {
   "cell_type": "code",
   "execution_count": 5,
   "outputs": [
    {
     "data": {
      "text/plain": "'{\"type\": \"Feature\", \"geometry\": {\"type\": \"Polygon\", \"coordinates\": [[[40.005811, -102.052817], [39.998932, -94.618476], [36.998918, -94.617972], [36.993067, -102.042071]]]}, \"properties\": {\"state\": \"kansas\"}}'"
     },
     "execution_count": 5,
     "metadata": {},
     "output_type": "execute_result"
    }
   ],
   "source": [
    "import json\n",
    "\n",
    "json.dumps(kansas)"
   ],
   "metadata": {
    "collapsed": false,
    "pycharm": {
     "name": "#%%\n"
    }
   }
  }
 ],
 "metadata": {
  "kernelspec": {
   "name": "pycharm-865e1948",
   "language": "python",
   "display_name": "PyCharm (GITHUB_REPOSITORY)"
  },
  "language_info": {
   "codemirror_mode": {
    "name": "ipython",
    "version": 2
   },
   "file_extension": ".py",
   "mimetype": "text/x-python",
   "name": "python",
   "nbconvert_exporter": "python",
   "pygments_lexer": "ipython2",
   "version": "2.7.6"
  }
 },
 "nbformat": 4,
 "nbformat_minor": 0
}